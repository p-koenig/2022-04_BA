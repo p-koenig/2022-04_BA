{
 "cells": [
  {
   "cell_type": "markdown",
   "id": "e1c3b444-064b-4639-983d-238b3da68ad9",
   "metadata": {},
   "source": [
    "# Imports"
   ]
  },
  {
   "cell_type": "code",
   "execution_count": 1,
   "id": "b6ab8be2-1b4c-4370-a837-9176d15bea41",
   "metadata": {
    "execution": {
     "iopub.execute_input": "2022-06-05T07:24:56.626010Z",
     "iopub.status.busy": "2022-06-05T07:24:56.625665Z",
     "iopub.status.idle": "2022-06-05T07:25:03.230593Z",
     "shell.execute_reply": "2022-06-05T07:25:03.230032Z",
     "shell.execute_reply.started": "2022-06-05T07:24:56.625909Z"
    },
    "tags": []
   },
   "outputs": [],
   "source": [
    "import tensorflow as tf\n",
    "import tensorflow_addons as tfa\n",
    "import numpy as np\n",
    "\n",
    "from sklearn.datasets import make_classification\n",
    "from sklearn.model_selection import train_test_split\n",
    "from sklearn.tree import DecisionTreeClassifier, plot_tree\n",
    "from sklearn.metrics import accuracy_score\n",
    "from sklearn.compose import ColumnTransformer\n",
    "from sklearn.preprocessing import OneHotEncoder, MinMaxScaler, LabelEncoder, OrdinalEncoder\n",
    "from livelossplot import PlotLosses\n",
    "\n",
    "import os\n",
    "from tqdm.notebook import tqdm\n",
    "from matplotlib import pyplot as plt\n",
    "\n",
    "from IPython.display import Image\n",
    "from IPython.display import display, clear_output\n",
    "\n",
    "import pandas as pd\n",
    "\n",
    "os.environ['CUDA_VISIBLE_DEVICES'] = ''\n",
    "os.environ['TF_FORCE_GPU_ALLOW_GROWTH'] = '' #'true'\n",
    "\n",
    "#######################################################################################################################################\n",
    "import warnings\n",
    "warnings.filterwarnings('ignore')\n",
    "os.environ['TF_CPP_MIN_LOG_LEVEL'] = '3' \n",
    "import logging\n",
    "\n",
    "tf.get_logger().setLevel('ERROR')\n",
    "tf.autograph.set_verbosity(3)\n",
    "\n",
    "from keras import backend as K\n",
    "from keras.utils.generic_utils import get_custom_objects\n",
    "\n",
    "\n",
    "import seaborn as sns\n",
    "sns.set_style(\"darkgrid\")\n",
    "\n",
    "import time\n",
    "import random"
   ]
  },
  {
   "cell_type": "markdown",
   "id": "ff6e0732-2cbd-4abd-9612-c4b3ba9ea36a",
   "metadata": {},
   "source": [
    "# Function Definition"
   ]
  },
  {
   "cell_type": "code",
   "execution_count": 2,
   "id": "aa08eca3-ed45-4eca-bd81-d8d679cb13bb",
   "metadata": {
    "execution": {
     "iopub.execute_input": "2022-06-05T07:25:03.231440Z",
     "iopub.status.busy": "2022-06-05T07:25:03.231320Z",
     "iopub.status.idle": "2022-06-05T07:25:03.234557Z",
     "shell.execute_reply": "2022-06-05T07:25:03.234170Z",
     "shell.execute_reply.started": "2022-06-05T07:25:03.231423Z"
    },
    "tags": []
   },
   "outputs": [],
   "source": [
    "def make_batch(iterable, n=1):\n",
    "    l = len(iterable)\n",
    "    for ndx in range(0, l, n):\n",
    "        yield iterable[ndx:min(ndx + n, l)]    \n",
    "        \n",
    "def sigmoid_squeeze(x, factor=3):\n",
    "    x = 1/(1+K.exp(-factor*x))\n",
    "    return x  "
   ]
  },
  {
   "cell_type": "code",
   "execution_count": 3,
   "id": "dc0c3ac7-7321-4224-8ffd-b103b1b669fc",
   "metadata": {
    "execution": {
     "iopub.execute_input": "2022-06-05T07:25:03.235613Z",
     "iopub.status.busy": "2022-06-05T07:25:03.235479Z",
     "iopub.status.idle": "2022-06-05T07:25:03.291417Z",
     "shell.execute_reply": "2022-06-05T07:25:03.291048Z",
     "shell.execute_reply.started": "2022-06-05T07:25:03.235599Z"
    },
    "tags": []
   },
   "outputs": [],
   "source": [
    "def normalize_data(X_data):\n",
    "    normalizer_list = []\n",
    "    if isinstance(X_data, pd.DataFrame):\n",
    "        for column_name in X_data:\n",
    "            scaler = MinMaxScaler()\n",
    "            scaler.fit(X_data[column_name].values.reshape(-1, 1))\n",
    "            X_data[column_name] = scaler.transform(X_data[column_name].values.reshape(-1, 1)).ravel()\n",
    "            normalizer_list.append(scaler)\n",
    "    else:\n",
    "        for i, column in enumerate(X_data.T):\n",
    "            scaler = MinMaxScaler()\n",
    "            scaler.fit(column.reshape(-1, 1))\n",
    "            X_data[:,i] = scaler.transform(column.reshape(-1, 1)).ravel()\n",
    "            normalizer_list.append(scaler)\n",
    "        \n",
    "    return X_data, normalizer_list\n",
    "\n",
    "def split_train_test_valid(X_data, y_data, valid_frac=0.10, test_frac=0.20, seed=42, verbose=0):\n",
    "    data_size = X_data.shape[0]\n",
    "    test_size = int(data_size*test_frac)\n",
    "    valid_size = int(data_size*valid_frac)\n",
    "    \n",
    "    X_train_with_valid, X_test, y_train_with_valid, y_test = train_test_split(X_data, y_data, test_size=test_size, random_state=seed)\n",
    "    X_train, X_valid, y_train, y_valid = train_test_split(X_train_with_valid, y_train_with_valid, test_size=valid_size, random_state=seed)\n",
    "\n",
    "    if verbose > 0:\n",
    "        print(X_train.shape, y_train.shape)\n",
    "        print(X_valid.shape, y_valid.shape)\n",
    "        print(X_test.shape, y_test.shape)    \n",
    "    \n",
    "    return X_train, y_train, X_valid, y_valid, X_test, y_test\n",
    "\n",
    "\n",
    "def rebalance_data(X_train, y_train, balance_ratio=0.25, strategy='SMOTE', seed=42):#, strategy='SMOTE'\n",
    "    true_labels = len(y_train[y_train >= 0.5 ]) \n",
    "    false_labels = len(y_train[y_train < 0.5 ]) \n",
    "\n",
    "    true_ratio = true_labels/(true_labels+false_labels)\n",
    "    false_ratio = false_labels/(false_labels+true_labels)\n",
    "    \n",
    "    min_ratio = min(true_ratio, false_ratio)\n",
    "    print('True Ratio: ', str(true_labels/(true_labels+false_labels)))    \n",
    "    if min_ratio <= balance_ratio:\n",
    "        from imblearn.over_sampling import RandomOverSampler, SMOTE, SMOTEN, ADASYN, BorderlineSMOTE, KMeansSMOTE, SVMSMOTE, SMOTENC\n",
    "        from imblearn.combine import SMOTETomek, SMOTEENN\n",
    "        if strategy == 'SMOTE':\n",
    "            oversample = SMOTE()\n",
    "        elif strategy == 'SMOTEN':\n",
    "            oversample = SMOTEN()                 \n",
    "        elif strategy == 'BorderlineSMOTE':\n",
    "            oversample = BorderlineSMOTE()                \n",
    "        elif strategy == 'KMeansSMOTE':\n",
    "            oversample = KMeansSMOTE(cluster_balance_threshold=0.1)    \n",
    "        elif strategy == 'SVMSMOTE':\n",
    "            oversample = SVMSMOTE()   \n",
    "        elif strategy == 'SMOTETomek':\n",
    "            oversample = SMOTETomek()   \n",
    "        elif strategy == 'SMOTEENN':\n",
    "            oversample = SMOTEENN()               \n",
    "        elif strategy == 'ADASYN':\n",
    "            oversample = ADASYN()\n",
    "        else:\n",
    "            oversample = RandomOverSampler(sampling_strategy='auto', random_state=seed)\n",
    "\n",
    "        X_train, y_train = oversample.fit_resample(X_train, y_train)\n",
    "\n",
    "        true_labels = len(y_train[y_train >= 0.5 ]) \n",
    "        false_labels = len(y_train[y_train < 0.5 ]) \n",
    "\n",
    "        print('True Ratio: ', str(true_labels/(true_labels+false_labels)))    \n",
    "\n",
    "    return X_train, y_train\n",
    "\n",
    "\n"
   ]
  },
  {
   "cell_type": "markdown",
   "id": "57a80d8e-4896-4fc7-8306-1c7bcd6be145",
   "metadata": {},
   "source": [
    "# DHDT"
   ]
  },
  {
   "cell_type": "code",
   "execution_count": 4,
   "id": "e7508f8c-3216-4245-91c0-f8ec73c17002",
   "metadata": {
    "execution": {
     "iopub.execute_input": "2022-06-05T07:25:03.292095Z",
     "iopub.status.busy": "2022-06-05T07:25:03.291985Z",
     "iopub.status.idle": "2022-06-05T07:25:03.396571Z",
     "shell.execute_reply": "2022-06-05T07:25:03.395779Z",
     "shell.execute_reply.started": "2022-06-05T07:25:03.292081Z"
    }
   },
   "outputs": [],
   "source": [
    "class DHDT(tf.Module):\n",
    "    \n",
    "    def __init__(\n",
    "            self,\n",
    "            depth=3,\n",
    "            number_of_variables = 5,\n",
    "            squeeze_factor = 5,\n",
    "            learning_rate=1e-3,\n",
    "            loss='binary_crossentropy',#'mae',\n",
    "            optimizer = 'adam',\n",
    "            random_seed=42,\n",
    "            verbosity=1):    \n",
    "        \n",
    "        \n",
    "        self.depth = depth\n",
    "        self.learning_rate = learning_rate\n",
    "        self.loss = tf.keras.losses.get(loss)\n",
    "        self.seed = random_seed\n",
    "        self.verbosity = verbosity\n",
    "        self.number_of_variables = number_of_variables\n",
    "        self.squeeze_factor = squeeze_factor\n",
    "        \n",
    "        self.internal_node_num_ = 2 ** self.depth - 1 \n",
    "        self.leaf_node_num_ = 2 ** self.depth\n",
    "        \n",
    "        tf.random.set_seed(self.seed)\n",
    "                        \n",
    "        maximum_depth = self.depth\n",
    "        leaf_node_num_ = 2 ** maximum_depth\n",
    "        internal_node_num_ = 2 ** maximum_depth - 1\n",
    "                \n",
    "        #internal_nodes, leaf_nodes = self.get_shaped_parameters_for_decision_tree(dt_params_activation)\n",
    "\n",
    "        internal_node_num_ = self.internal_node_num_\n",
    "        leaf_node_num_ = self.leaf_node_num_\n",
    "\n",
    "        split_values_num_params = self.number_of_variables * internal_node_num_\n",
    "        split_index_num_params = self.number_of_variables * internal_node_num_\n",
    "        leaf_classes_num_params = self.leaf_node_num_         \n",
    "        \n",
    "        self.split_values = tf.Variable(tf.keras.initializers.GlorotUniform(seed=self.seed)(shape=(split_values_num_params,)),\n",
    "                                      trainable=True,\n",
    "                                      name='split_values')\n",
    "        self.split_index_array = tf.Variable(tf.keras.initializers.GlorotUniform(seed=self.seed)(shape=(split_index_num_params,)),\n",
    "                                      trainable=True,\n",
    "                                      name='split_index_array')\n",
    "        self.leaf_classes_array = tf.Variable(tf.keras.initializers.GlorotUniform(seed=self.seed)(shape=(leaf_classes_num_params,)),\n",
    "                                      trainable=True,\n",
    "                                      name='leaf_classes_array')\n",
    "        \n",
    "        self.optimizer = tf.keras.optimizers.get(optimizer)\n",
    "        self.optimizer.learning_rate = self.learning_rate\n",
    "                \n",
    "        self.plotlosses = PlotLosses()    \n",
    "        \n",
    "    def fit(self, X_train, y_train, batch_size=32, epochs=100, early_stopping_epochs=5, valid_data=None):\n",
    "        \n",
    "        minimum_loss_epoch = np.inf\n",
    "        epochs_without_improvement = 0   \n",
    "        \n",
    "        batch_size = min(512, X_train.shape[0])\n",
    "        \n",
    "        for current_epoch in tqdm(range(epochs)):\n",
    "            tf.random.set_seed(self.seed + current_epoch)\n",
    "            X_train = tf.random.shuffle(X_train, seed=self.seed + current_epoch)\n",
    "            tf.random.set_seed(self.seed + current_epoch)\n",
    "            y_train = tf.random.shuffle(y_train, seed=self.seed + current_epoch)\n",
    "            \n",
    "            loss_list = []\n",
    "            for index, (X_batch, y_batch) in enumerate(zip(make_batch(X_train, batch_size), make_batch(y_train, batch_size))):\n",
    "                current_loss = self.backward(X_batch, y_batch)\n",
    "                loss_list.append(float(current_loss))\n",
    "                \n",
    "                if self.verbosity >= 2:\n",
    "                    batch_idx = (index+1)*batch_size\n",
    "                    msg = \"Epoch: {:02d} | Batch: {:03d} | Loss: {:.5f} |\"\n",
    "                    print(msg.format(current_epoch, batch_idx, current_loss))                   \n",
    "                  \n",
    "            current_loss_epoch = np.mean(loss_list)\n",
    "            if self.verbosity > 0:    \n",
    "                msg = \"Epoch: {:02d} | Loss: {:.5f} |\"\n",
    "                print(msg.format(current_epoch, current_loss_epoch))              \n",
    "\n",
    "            \n",
    "            if False:\n",
    "                loss_dict = {'loss': current_loss_epoch}\n",
    "\n",
    "                loss_dict['acc'] = accuracy_score(y_train, np.round(tf.sigmoid(self.forward_hard(X_train))))\n",
    "                \n",
    "                if valid_data is not None:\n",
    "                    if self.loss.__name__  == 'binary_crossentropy':\n",
    "                        loss_dict['val_loss'] = self.loss(valid_data[1], self.forward(valid_data[0]), from_logits=True)\n",
    "                    else:\n",
    "                        loss_dict['val_loss'] = self.loss(valid_data[1], tf.sigmoid(self.forward(valid_data[0])))                   \n",
    "                    loss_dict['val_acc'] = accuracy_score(valid_data[1], np.round(tf.sigmoid(self.forward_hard(valid_data[0]))))\n",
    "                self.plotlosses.update(loss_dict)#({'acc': 0.0, 'val_acc': 0.0, 'loss': np.mean(loss_list), 'val_loss': 0.0})\n",
    "                self.plotlosses.send()            \n",
    "\n",
    "            if current_loss_epoch < minimum_loss_epoch:\n",
    "                minimum_loss_epoch = current_loss_epoch\n",
    "                epochs_without_improvement = 0\n",
    "            else:\n",
    "                epochs_without_improvement += 1\n",
    "                \n",
    "            if epochs_without_improvement >= early_stopping_epochs:\n",
    "                break\n",
    "    \n",
    "    \n",
    "    \n",
    "    @tf.function(jit_compile=True)                    \n",
    "    def forward(self, X):\n",
    "        X = tf.dtypes.cast(tf.convert_to_tensor(X), tf.float32)       \n",
    "\n",
    "        internal_node_num_ = self.internal_node_num_\n",
    "        leaf_node_num_ = self.leaf_node_num_\n",
    "\n",
    "        split_values_num_params = self.number_of_variables * internal_node_num_\n",
    "        split_index_num_params = self.number_of_variables * internal_node_num_\n",
    "        leaf_classes_num_params = self.leaf_node_num_             \n",
    "\n",
    "        paths = [[0,1,3], [0,1,4], [0,2,5], [0,2,6]]\n",
    "\n",
    "        #split_index_array = tfa.seq2seq.hardmax(tf.reshape(split_index_array, (internal_node_num_, -1)))\n",
    "        #function_values_dhdt = tf.reshape(tf.constant([], tf.float32), shape=(0,)) #[]\n",
    "        #function_values_dhdt = tf.zeros(shape=(X.shape[0],)) #[]\n",
    "        #entry_index = 0\n",
    "        #for entry in tf.unstack(X):\n",
    "            \n",
    "\n",
    "\n",
    "        def process(entry):\n",
    "            result = 0\n",
    "            for leaf_index, path in enumerate(paths):\n",
    "                path_result_left = 1\n",
    "                path_result_right = 1\n",
    "                for internal_node_index in path: \n",
    "                    #tf.print(path, internal_node_index)\n",
    "                    #split_index = tfa.seq2seq.hardmax(self.split_index_array[self.number_of_variables*internal_node_index:self.number_of_variables*(internal_node_index+1)])\n",
    "                    split_index = tfa.activations.sparsemax(100 * self.split_index_array[self.number_of_variables*internal_node_index:self.number_of_variables*(internal_node_index+1)])                        \n",
    "                    \n",
    "                    #split_values = tf.sigmoid(self.split_values)[self.number_of_variables*internal_node_index:self.number_of_variables*(internal_node_index+1)]\n",
    "                    split_values = sigmoid_squeeze(self.split_values[self.number_of_variables*internal_node_index:self.number_of_variables*(internal_node_index+1)]-0.5, self.squeeze_factor)\n",
    "                    #split_values = self.split_values[self.number_of_variables*internal_node_index:self.number_of_variables*(internal_node_index+1)]\n",
    "                    \n",
    "                    internal_node_split_value = tf.reduce_sum(split_index*split_values)\n",
    "                    respective_input_value = tf.reduce_sum(split_index*entry)\n",
    "\n",
    "\n",
    "                    #tf.print('internal_node_split_value', internal_node_split_value)\n",
    "                    #tf.print('respective_input_value', respective_input_value)\n",
    "\n",
    "                    #split_decision = tf.keras.activations.relu(tf.math.sign(respective_input_value - internal_node_split_value - 0.5))\n",
    "                    split_decision = tf.sigmoid(100 * (respective_input_value - internal_node_split_value - 0.5))\n",
    "\n",
    "                    #tf.print('split_decision', split_decision)\n",
    "\n",
    "\n",
    "                    path_result_left *= split_decision\n",
    "                    path_result_right *= (1 - split_decision)\n",
    "\n",
    "                    #tf.print('path_result_left', path_result_left)\n",
    "                    #tf.print('path_result_right', path_result_right)\n",
    "\n",
    "                #tf.print('path_result_left', path_result_left, summarize=-1)\n",
    "                #tf.print('path_result_right', path_result_right, summarize=-1)\n",
    "                #tf.print('tf.sigmoid(self.leaf_classes_array)', tf.sigmoid(self.leaf_classes_array), summarize=-1)\n",
    "                \n",
    "                #result += tf.sigmoid(self.leaf_classes_array)[leaf_index*2] * path_result_left + tf.sigmoid(self.leaf_classes_array)[leaf_index*2+1] * path_result_right\n",
    "                result += self.leaf_classes_array[leaf_index*2] * path_result_left + self.leaf_classes_array[leaf_index*2+1] * path_result_right\n",
    "                #tf.print(result)\n",
    "            return result\n",
    "            #tf.print('RESULT', result)\n",
    "\n",
    "            #function_values_dhdt.append(result)\n",
    "            #tf.autograph.experimental.set_loop_options(\n",
    "            #        shape_invariants=[(function_values_dhdt, tf.TensorShape([None]))]\n",
    "            #    )            \n",
    "            #function_values_dhdt = tf.concat([function_values_dhdt, [result]], 0)\n",
    "            #function_values_dhdt[entry_index] = result\n",
    "            #entry_index += 1\n",
    "        #function_values_dhdt = tf.stack(function_values_dhdt)\n",
    "        #tf.print('function_values_dhdt', function_values_dhdt)\n",
    "\n",
    "        function_values_dhdt = tf.vectorized_map(process, X)\n",
    "        \n",
    "        return function_values_dhdt  \n",
    "           \n",
    "    \n",
    "    @tf.function(jit_compile=True)                    \n",
    "    def forward_hard(self, X):\n",
    "        X = tf.dtypes.cast(tf.convert_to_tensor(X), tf.float32)       \n",
    "\n",
    "        internal_node_num_ = self.internal_node_num_\n",
    "        leaf_node_num_ = self.leaf_node_num_\n",
    "\n",
    "        split_values_num_params = self.number_of_variables * internal_node_num_\n",
    "        split_index_num_params = self.number_of_variables * internal_node_num_\n",
    "        leaf_classes_num_params = self.leaf_node_num_             \n",
    "\n",
    "        paths = [[0,1,3], [0,1,4], [0,2,5], [0,2,6]]\n",
    "\n",
    "        #split_index_array = tfa.seq2seq.hardmax(tf.reshape(split_index_array, (internal_node_num_, -1)))\n",
    "        #function_values_dhdt = tf.reshape(tf.constant([], tf.float32), shape=(0,)) #[]\n",
    "        #function_values_dhdt = tf.zeros(shape=(X.shape[0],)) #[]\n",
    "        #entry_index = 0\n",
    "        #for entry in tf.unstack(X):\n",
    "            \n",
    "\n",
    "\n",
    "        def process(entry):\n",
    "            result = 0\n",
    "            for leaf_index, path in enumerate(paths):\n",
    "                path_result_left = 1\n",
    "                path_result_right = 1\n",
    "                for internal_node_index in path: \n",
    "                    #tf.print(path, internal_node_index)\n",
    "                    split_index = tfa.seq2seq.hardmax(self.split_index_array[self.number_of_variables*internal_node_index:self.number_of_variables*(internal_node_index+1)])\n",
    "                    #split_index = tfa.activations.sparsemax(10 * self.split_index_array[self.number_of_variables*internal_node_index:self.number_of_variables*(internal_node_index+1)])                        \n",
    "                    \n",
    "                    #split_values = tf.sigmoid(self.split_values)[self.number_of_variables*internal_node_index:self.number_of_variables*(internal_node_index+1)]\n",
    "                    split_values = sigmoid_squeeze(self.split_values[self.number_of_variables*internal_node_index:self.number_of_variables*(internal_node_index+1)]-0.5, self.squeeze_factor)\n",
    "                    #split_values = self.split_values[self.number_of_variables*internal_node_index:self.number_of_variables*(internal_node_index+1)]\n",
    "                    \n",
    "                    internal_node_split_value = tf.reduce_sum(split_index*split_values)\n",
    "                    respective_input_value = tf.reduce_sum(split_index*entry)\n",
    "\n",
    "\n",
    "                    #tf.print('internal_node_split_value', internal_node_split_value)\n",
    "                    #tf.print('respective_input_value', respective_input_value)\n",
    "\n",
    "                    #split_decision = tf.keras.activations.relu(tf.math.sign(respective_input_value - internal_node_split_value - 0.5))\n",
    "                    #split_decision = tf.sigmoid(100 * (respective_input_value - internal_node_split_value - 0.5))\n",
    "                    split_decision = tf.round(tf.sigmoid(respective_input_value - internal_node_split_value - 0.5))\n",
    "                    #tf.print('split_decision', split_decision)\n",
    "\n",
    "\n",
    "                    path_result_left *= split_decision\n",
    "                    path_result_right *= (1 - split_decision)\n",
    "\n",
    "                    #tf.print('path_result_left', path_result_left)\n",
    "                    #tf.print('path_result_right', path_result_right)\n",
    "\n",
    "                #tf.print('path_result_left', path_result_left, summarize=-1)\n",
    "                #tf.print('path_result_right', path_result_right, summarize=-1)\n",
    "                #tf.print('tf.sigmoid(self.leaf_classes_array)', tf.sigmoid(self.leaf_classes_array), summarize=-1)\n",
    "                \n",
    "                #result += tf.sigmoid(self.leaf_classes_array)[leaf_index*2] * path_result_left + tf.sigmoid(self.leaf_classes_array)[leaf_index*2+1] * path_result_right\n",
    "                result += self.leaf_classes_array[leaf_index*2] * path_result_left + self.leaf_classes_array[leaf_index*2+1] * path_result_right\n",
    "                #tf.print(result)\n",
    "            return result\n",
    "            #tf.print('RESULT', result)\n",
    "\n",
    "            #function_values_dhdt.append(result)\n",
    "            #tf.autograph.experimental.set_loop_options(\n",
    "            #        shape_invariants=[(function_values_dhdt, tf.TensorShape([None]))]\n",
    "            #    )            \n",
    "            #function_values_dhdt = tf.concat([function_values_dhdt, [result]], 0)\n",
    "            #function_values_dhdt[entry_index] = result\n",
    "            #entry_index += 1\n",
    "        #function_values_dhdt = tf.stack(function_values_dhdt)\n",
    "        #tf.print('function_values_dhdt', function_values_dhdt)\n",
    "\n",
    "        function_values_dhdt = tf.vectorized_map(process, X)\n",
    "        \n",
    "        return function_values_dhdt  \n",
    "           \n",
    "        \n",
    "    def predict(self, X):\n",
    "        return tf.sigmoid(self.forward_hard(X))\n",
    "        \n",
    "    def backward(self, x,y):\n",
    "        #optimizer = tf.keras.optimizers.Adam(learning_rate=self.learning_rate)#tf.compat.v1.train.GradientDescentOptimizer(learning_rate=0.01)\n",
    "        with tf.GradientTape(persistent=True) as tape:\n",
    "            predicted = self.forward(x)\n",
    "            if self.loss.__name__  == 'binary_crossentropy':\n",
    "                current_loss = self.loss(y, predicted, from_logits=True)\n",
    "            else:\n",
    "                current_loss = self.loss(y, tf.sigmoid(predicted))\n",
    "        #tf.print('predicted', predicted)\n",
    "        #tf.print('current_loss', current_loss, summarize=-1)\n",
    "        grads = tape.gradient(current_loss, self.leaf_classes_array)\n",
    "        self.optimizer.apply_gradients(zip([grads], [self.leaf_classes_array]))\n",
    "        #tf.print('grads', grads, summarize=-1)        \n",
    "        \n",
    "        grads = tape.gradient(current_loss, self.split_values)\n",
    "        self.optimizer.apply_gradients(zip([grads], [self.split_values]))\n",
    "        #tf.print('grads', grads, summarize=-1)\n",
    "        grads = tape.gradient(current_loss, self.split_index_array)\n",
    "        self.optimizer.apply_gradients(zip([grads], [self.split_index_array]))\n",
    "        #tf.print('grads', grads, summarize=-1)\n",
    "\n",
    "        #                          global_step=tf.compat.v1.train.get_or_create_global_step())     \n",
    "        \n",
    "        return current_loss\n",
    "        \n",
    "    def plot(self, normalizer_list=None, path='./dt_plot.png'):\n",
    "        from anytree import Node, RenderTree\n",
    "        from anytree.exporter import DotExporter\n",
    "\n",
    "        internal_node_num_ = 2 ** self.depth - 1 \n",
    "        \n",
    "        #split_values = self.split_values\n",
    "        split_values = sigmoid_squeeze(self.split_values, self.squeeze_factor)\n",
    "        split_values_list_by_internal_node = tf.split(split_values, internal_node_num_)\n",
    "\n",
    "        split_index_array = self.split_index_array \n",
    "        split_index_list_by_internal_node = tf.split(split_index_array, internal_node_num_)         \n",
    "\n",
    "        split_index_list_by_internal_node_max = tfa.seq2seq.hardmax(split_index_list_by_internal_node)#tfa.activations.sparsemax(split_index_list_by_internal_node)\n",
    "\n",
    "        splits = tf.stack(tf.multiply(split_values_list_by_internal_node, split_index_list_by_internal_node_max))\n",
    "\n",
    "        \n",
    "        splits = splits.numpy()\n",
    "        leaf_classes = tf.sigmoid(self.leaf_classes_array).numpy()\n",
    "\n",
    "\n",
    "        if normalizer_list is not None: \n",
    "            transpose = splits.transpose()\n",
    "            transpose_normalized = []\n",
    "            for i, column in enumerate(transpose):\n",
    "                column_new = column\n",
    "                if len(column_new[column_new != 0]) != 0:\n",
    "                    column_new[column_new != 0] = normalizer_list[i].inverse_transform(column[column != 0].reshape(-1, 1)).ravel()\n",
    "                #column_new = normalizer_list[i].inverse_transform(column.reshape(-1, 1)).ravel()\n",
    "                transpose_normalized.append(column_new)\n",
    "            splits = np.array(transpose_normalized).transpose()\n",
    "\n",
    "        splits_by_layer = []\n",
    "        for i in range(self.depth+1):\n",
    "            start = 2**i - 1\n",
    "            end = 2**(i+1) -1\n",
    "            splits_by_layer.append(splits[start:end])\n",
    "\n",
    "        nodes = {\n",
    "        }\n",
    "        #tree = Tree()\n",
    "        for i, splits in enumerate(splits_by_layer):\n",
    "            for j, split in enumerate(splits):\n",
    "                if i == 0:\n",
    "                    current_node_id = int(2**i - 1 + j)\n",
    "                    name = 'n' + str(current_node_id)#'l' + str(i) + 'n' + str(j)\n",
    "                    split_variable = np.argmax(np.abs(split))\n",
    "                    split_value = np.round(split[split_variable], 3)\n",
    "                    split_description = 'x' + str(split_variable) + ' <= '  + str(split_value)\n",
    "\n",
    "                    nodes[name] = Node(name=name, display_name=split_description)\n",
    "\n",
    "                    #tree.create_node(tag=split_description, identifier=name, data=None)            \n",
    "                else:\n",
    "                    current_node_id = int(2**i - 1 + j)\n",
    "                    name = 'n' + str(current_node_id)#'l' + str(i) + 'n' + str(j)\n",
    "                    parent_node_id = int(np.floor((current_node_id-1)/2))\n",
    "                    parent_name = 'n' + str(parent_node_id)\n",
    "                    split_variable = np.argmax(np.abs(split))\n",
    "                    split_value = np.round(split[split_variable], 3)\n",
    "                    split_description = 'x' + str(split_variable) + ' <= '  + str(split_value)\n",
    "\n",
    "                    nodes[name] = Node(name=name, parent=nodes[parent_name], display_name=split_description)\n",
    "\n",
    "                    #tree.create_node(tag=split_description, identifier=name, parent=parent_name, data=None)\n",
    "\n",
    "        for j, leaf_class in enumerate(leaf_classes):\n",
    "            i = self.depth\n",
    "            current_node_id = int(2**i - 1 + j)\n",
    "            name = 'n' + str(current_node_id)#'l' + str(i) + 'n' + str(j)\n",
    "            parent_node_id = int(np.floor((current_node_id-1)/2))\n",
    "            parent_name = 'n' + str(parent_node_id)\n",
    "            #split_variable = np.argmax(np.abs(split))\n",
    "            #split_value = np.round(split[split_variable], 3)\n",
    "            split_description = str(np.round((leaf_class), 3))#'x' + str(split_variable) + ' <= '  + str(split_value)\n",
    "            nodes[name] = Node(name=name, parent=nodes[parent_name], display_name=split_description)\n",
    "            #tree.create_node(tag=split_description, identifier=name, parent=parent_name, data=None)        \n",
    "\n",
    "            DotExporter(nodes['n0'], nodeattrfunc=lambda node: 'label=\"{}\"'.format(node.display_name)).to_picture(path)\n",
    "\n",
    "\n",
    "        return Image(path)#, nodes#nodes#tree        \n",
    "\n",
    "        \n",
    "    "
   ]
  },
  {
   "cell_type": "markdown",
   "id": "f2397843-32d2-4579-b197-0686f4a99b54",
   "metadata": {},
   "source": [
    "# Evaluation"
   ]
  },
  {
   "cell_type": "markdown",
   "id": "fa3e7da9-12bb-467f-919f-4fd510ce6463",
   "metadata": {},
   "source": [
    "## make_classification"
   ]
  },
  {
   "cell_type": "code",
   "execution_count": 5,
   "id": "7298793a-3131-489d-88c2-8c9da85d6db3",
   "metadata": {
    "execution": {
     "iopub.execute_input": "2022-06-05T07:25:03.397889Z",
     "iopub.status.busy": "2022-06-05T07:25:03.397666Z",
     "iopub.status.idle": "2022-06-05T07:25:03.462405Z",
     "shell.execute_reply": "2022-06-05T07:25:03.461662Z",
     "shell.execute_reply.started": "2022-06-05T07:25:03.397859Z"
    },
    "tags": []
   },
   "outputs": [],
   "source": [
    "X, y = make_classification(\n",
    "    n_samples=10_000, n_features=5, n_informative=2, n_redundant=2, random_state=42\n",
    ")\n",
    "\n",
    "#todo: anpassen, dass nur basierend auf train data normalized\n",
    "X, normalizer_list = normalize_data(X)\n",
    "\n",
    "train_samples = 5_000#1000  # Samples used for training the models\n",
    "valid_samples = 1_000\n",
    "\n",
    "X_train, X_test, y_train, y_test = train_test_split(\n",
    "    X,\n",
    "    y,\n",
    "    shuffle=False,\n",
    "    test_size=10_000 - train_samples - valid_samples,\n",
    "    random_state=42\n",
    ")\n",
    "\n",
    "X_train, X_valid, y_train, y_valid = train_test_split(\n",
    "    X_train,\n",
    "    y_train,\n",
    "    shuffle=False,\n",
    "    test_size=valid_samples,\n",
    "    random_state=42\n",
    ")"
   ]
  },
  {
   "cell_type": "code",
   "execution_count": 6,
   "id": "46fb31cb-037d-43de-9387-c1eb289a0f0d",
   "metadata": {
    "execution": {
     "iopub.execute_input": "2022-06-05T07:25:03.463708Z",
     "iopub.status.busy": "2022-06-05T07:25:03.463461Z",
     "iopub.status.idle": "2022-06-05T07:25:03.525819Z",
     "shell.execute_reply": "2022-06-05T07:25:03.525131Z",
     "shell.execute_reply.started": "2022-06-05T07:25:03.463671Z"
    },
    "tags": []
   },
   "outputs": [
    {
     "data": {
      "text/plain": [
       "0.89675"
      ]
     },
     "execution_count": 6,
     "metadata": {},
     "output_type": "execute_result"
    }
   ],
   "source": [
    "model_sklearn = DecisionTreeClassifier(max_depth=3, random_state=42)\n",
    "\n",
    "model_sklearn.fit(X_train, y_train)\n",
    "\n",
    "model_sklearn.score(X_test, y_test)"
   ]
  },
  {
   "cell_type": "code",
   "execution_count": 7,
   "id": "0a84423f-9529-4903-abb3-88e027ed4351",
   "metadata": {
    "execution": {
     "iopub.execute_input": "2022-06-05T07:25:03.527004Z",
     "iopub.status.busy": "2022-06-05T07:25:03.526782Z",
     "iopub.status.idle": "2022-06-05T07:26:51.144793Z",
     "shell.execute_reply": "2022-06-05T07:26:51.143831Z",
     "shell.execute_reply.started": "2022-06-05T07:25:03.526971Z"
    }
   },
   "outputs": [
    {
     "data": {
      "application/vnd.jupyter.widget-view+json": {
       "model_id": "55f8aec0d49543718bf3cb252f965e65",
       "version_major": 2,
       "version_minor": 0
      },
      "text/plain": [
       "  0%|          | 0/1000 [00:00<?, ?it/s]"
      ]
     },
     "metadata": {},
     "output_type": "display_data"
    },
    {
     "name": "stdout",
     "output_type": "stream",
     "text": [
      "Test Accuracy 0.88375\n"
     ]
    }
   ],
   "source": [
    "model_dhdt = DHDT(\n",
    "            depth=3,\n",
    "            number_of_variables = 5,\n",
    "            learning_rate=1e-3,\n",
    "            squeeze_factor = 1,\n",
    "            loss='binary_crossentropy',#'binary_crossentropy',\n",
    "            optimizer='adam',\n",
    "            random_seed=40,\n",
    "            verbosity=0)\n",
    "\n",
    "model_dhdt.fit(X_train, y_train, batch_size=64, epochs=1_000, early_stopping_epochs=50, valid_data=(X_valid, y_valid))\n",
    "\n",
    "y_test_model = model_dhdt.predict(X_test)\n",
    "score_dhdt = accuracy_score(y_test, np.round(y_test_model))\n",
    "\n",
    "print('Test Accuracy', score_dhdt)"
   ]
  },
  {
   "cell_type": "code",
   "execution_count": 8,
   "id": "caabb7f9-dcce-47d5-83cc-a2577cdefd2d",
   "metadata": {
    "execution": {
     "iopub.execute_input": "2022-06-05T07:26:51.145982Z",
     "iopub.status.busy": "2022-06-05T07:26:51.145859Z",
     "iopub.status.idle": "2022-06-05T07:28:40.259437Z",
     "shell.execute_reply": "2022-06-05T07:28:40.258698Z",
     "shell.execute_reply.started": "2022-06-05T07:26:51.145964Z"
    }
   },
   "outputs": [
    {
     "data": {
      "application/vnd.jupyter.widget-view+json": {
       "model_id": "26155e6ccdfc426e86003d412dd6ccfe",
       "version_major": 2,
       "version_minor": 0
      },
      "text/plain": [
       "  0%|          | 0/1000 [00:00<?, ?it/s]"
      ]
     },
     "metadata": {},
     "output_type": "display_data"
    },
    {
     "name": "stdout",
     "output_type": "stream",
     "text": [
      "Test Accuracy 0.882\n"
     ]
    }
   ],
   "source": [
    "model_dhdt = DHDT(\n",
    "            depth=3,\n",
    "            number_of_variables = 5,\n",
    "            learning_rate=1e-3,\n",
    "            squeeze_factor = 1,\n",
    "            loss='binary_crossentropy',#'binary_crossentropy',\n",
    "            optimizer='rmsprop',\n",
    "            random_seed=40,\n",
    "            verbosity=0)\n",
    "\n",
    "model_dhdt.fit(X_train, y_train, batch_size=64, epochs=1_000, early_stopping_epochs=50, valid_data=(X_valid, y_valid))\n",
    "\n",
    "y_test_model = model_dhdt.predict(X_test)\n",
    "score_dhdt = accuracy_score(y_test, np.round(y_test_model))\n",
    "\n",
    "print('Test Accuracy', score_dhdt)"
   ]
  },
  {
   "cell_type": "code",
   "execution_count": 9,
   "id": "5b4ebe0e-f749-41d9-b772-d91b060516be",
   "metadata": {
    "execution": {
     "iopub.execute_input": "2022-06-05T07:28:40.260603Z",
     "iopub.status.busy": "2022-06-05T07:28:40.260469Z",
     "iopub.status.idle": "2022-06-05T07:28:40.268211Z",
     "shell.execute_reply": "2022-06-05T07:28:40.267471Z",
     "shell.execute_reply.started": "2022-06-05T07:28:40.260577Z"
    },
    "tags": []
   },
   "outputs": [],
   "source": [
    "def preprocess_data(X_data, \n",
    "                    y_data,\n",
    "                    nominal_features,\n",
    "                    ordinal_features,\n",
    "                    random_seed=42):\n",
    "    \n",
    "    start_evaluate_network_complete = time.time()\n",
    "\n",
    "    random.seed(random_seed)\n",
    "    np.random.seed(random_seed)\n",
    "    tf.random.set_seed(random_seed)\n",
    "\n",
    "    print('Original Data Shape (selected): ', X_data.shape)\n",
    "\n",
    "    transformer = ColumnTransformer(transformers=[('cat', OneHotEncoder(), nominal_features)], remainder='passthrough', sparse_threshold=0)\n",
    "    transformer.fit(X_data)\n",
    "\n",
    "    X_data = transformer.transform(X_data)\n",
    "    X_data = pd.DataFrame(X_data, columns=transformer.get_feature_names())\n",
    "\n",
    "    for ordinal_feature in ordinal_features:\n",
    "        X_data[ordinal_feature] = OrdinalEncoder().fit_transform(X_data[ordinal_feature].values.reshape(-1, 1)).flatten()\n",
    "\n",
    "    X_data = X_data.astype(np.float64)\n",
    "\n",
    "    print('Original Data Shape (encoded): ', X_data.shape)\n",
    "    print('Original Data Class Distribution: ', y_data[y_data>=0.5].shape[0], ' (true) /', y_data[y_data<0.5].shape[0], ' (false)')\n",
    "\n",
    "    X_data, normalizer_list = normalize_data(X_data)\n",
    "\n",
    "    (X_train, \n",
    "     y_train, \n",
    "     X_valid, \n",
    "     y_valid, \n",
    "     X_test, \n",
    "     y_test) = split_train_test_valid(X_data, \n",
    "                                      y_data, \n",
    "                                      seed=random_seed,\n",
    "                                      verbose=1)    \n",
    "    \n",
    "    X_train, y_train = rebalance_data(X_train, \n",
    "                                      y_train, \n",
    "                                      balance_ratio=0.25, \n",
    "                                      strategy='SMOTE')    \n",
    "    \n",
    "    return (X_train, y_train), (X_valid, y_valid), (X_test, y_test), normalizer_list\n",
    "    "
   ]
  },
  {
   "cell_type": "code",
   "execution_count": 10,
   "id": "715d9e9e-ec5e-4724-8d1f-8106bc52b090",
   "metadata": {
    "execution": {
     "iopub.execute_input": "2022-06-05T07:28:40.270046Z",
     "iopub.status.busy": "2022-06-05T07:28:40.269941Z",
     "iopub.status.idle": "2022-06-05T07:28:43.293067Z",
     "shell.execute_reply": "2022-06-05T07:28:43.292608Z",
     "shell.execute_reply.started": "2022-06-05T07:28:40.270033Z"
    }
   },
   "outputs": [
    {
     "data": {
      "image/png": "[encoded data removed]",
      "text/plain": [
       "<IPython.core.display.Image object>"
      ]
     },
     "metadata": {},
     "output_type": "display_data"
    },
    {
     "data": {
      "text/plain": [
       "<Figure size 1080x576 with 0 Axes>"
      ]
     },
     "metadata": {},
     "output_type": "display_data"
    },
    {
     "data": {
      "image/png": "[encoded data removed]",
      "text/plain": [
       "<Figure size 1080x576 with 1 Axes>"
      ]
     },
     "metadata": {},
     "output_type": "display_data"
    }
   ],
   "source": [
    "plt.figure(figsize=(15,8))\n",
    "image = model_dhdt.plot()\n",
    "display(image)\n",
    "\n",
    "plt.figure(figsize=(15,8))\n",
    "plot_tree(model_sklearn, fontsize=10) \n",
    "plt.show()"
   ]
  },
  {
   "cell_type": "markdown",
   "id": "30033884-307b-4486-a16f-3b61cf703029",
   "metadata": {},
   "source": [
    "## Cervical Cancer"
   ]
  },
  {
   "cell_type": "code",
   "execution_count": 11,
   "id": "dbe7e219-04ec-4557-b638-08fa07b6ab20",
   "metadata": {
    "execution": {
     "iopub.execute_input": "2022-06-05T07:28:43.293879Z",
     "iopub.status.busy": "2022-06-05T07:28:43.293767Z",
     "iopub.status.idle": "2022-06-05T07:28:44.596907Z",
     "shell.execute_reply": "2022-06-05T07:28:44.596029Z",
     "shell.execute_reply.started": "2022-06-05T07:28:43.293863Z"
    },
    "tags": []
   },
   "outputs": [],
   "source": [
    "cc_data = pd.read_csv('https://archive.ics.uci.edu/ml/machine-learning-databases/00383/risk_factors_cervical_cancer.csv', index_col=False)#, names=feature_names\n",
    "\n",
    "features_select = [\n",
    "                    'Age',\n",
    "                    'Number of sexual partners',\n",
    "                    'First sexual intercourse',\n",
    "                    'Num of pregnancies',\n",
    "                    'Smokes',\n",
    "                    'Smokes (years)',\n",
    "                    'Hormonal Contraceptives',\n",
    "                    'Hormonal Contraceptives (years)',\n",
    "                    'IUD',\n",
    "                    'IUD (years)',\n",
    "                    'STDs',\n",
    "                    'STDs (number)',\n",
    "                    'STDs: Number of diagnosis',\n",
    "                    'STDs: Time since first diagnosis',\n",
    "                    'STDs: Time since last diagnosis',\n",
    "                    'Biopsy'\n",
    "                    ]\n",
    "\n",
    "cc_data = cc_data[features_select]\n",
    "\n",
    "cc_data['Number of sexual partners'][cc_data['Number of sexual partners'] == '?'] = cc_data['Number of sexual partners'].mode()[0]\n",
    "cc_data['First sexual intercourse'][cc_data['First sexual intercourse'] == '?'] = cc_data['First sexual intercourse'].mode()[0]\n",
    "cc_data['Num of pregnancies'][cc_data['Num of pregnancies'] == '?'] = cc_data['Num of pregnancies'].mode()[0]\n",
    "cc_data['Smokes'][cc_data['Smokes'] == '?'] = cc_data['Smokes'].mode()[0]\n",
    "cc_data['Smokes (years)'][cc_data['Smokes (years)'] == '?'] = cc_data['Smokes (years)'].mode()[0]\n",
    "cc_data['Hormonal Contraceptives'][cc_data['Hormonal Contraceptives'] == '?'] = cc_data['Hormonal Contraceptives'].mode()[0]\n",
    "cc_data['Hormonal Contraceptives (years)'][cc_data['Hormonal Contraceptives (years)'] == '?'] = cc_data['Hormonal Contraceptives (years)'].mode()[0]\n",
    "cc_data['IUD'][cc_data['IUD'] == '?'] = cc_data['IUD'].mode()[0]\n",
    "cc_data['IUD (years)'][cc_data['IUD (years)'] == '?'] = cc_data['IUD (years)'].mode()[0]\n",
    "cc_data['STDs'][cc_data['STDs'] == '?'] = cc_data['STDs'].mode()[0]\n",
    "cc_data['STDs (number)'][cc_data['STDs (number)'] == '?'] = cc_data['STDs (number)'].mode()[0]\n",
    "cc_data['STDs: Time since first diagnosis'][cc_data['STDs: Time since first diagnosis'] == '?'] = cc_data['STDs: Time since first diagnosis'][cc_data['STDs: Time since first diagnosis'] != '?'].mode()[0]\n",
    "cc_data['STDs: Time since last diagnosis'][cc_data['STDs: Time since last diagnosis'] == '?'] = cc_data['STDs: Time since last diagnosis'][cc_data['STDs: Time since last diagnosis'] != '?'].mode()[0]\n",
    "\n",
    "nominal_features_cc = [\n",
    "                        ]\n",
    "ordinal_features_cc = [\n",
    "                   ]\n",
    "\n",
    "    \n",
    "X_data_cc = cc_data.drop(['Biopsy'], axis = 1)\n",
    "y_data_cc = pd.Series(OrdinalEncoder().fit_transform(cc_data['Biopsy'].values.reshape(-1, 1)).flatten(), name='Biopsy')\n"
   ]
  },
  {
   "cell_type": "code",
   "execution_count": 12,
   "id": "7212b4fc-2d99-477d-9ad7-b92c0c3c6b08",
   "metadata": {
    "execution": {
     "iopub.execute_input": "2022-06-05T07:28:44.598335Z",
     "iopub.status.busy": "2022-06-05T07:28:44.598099Z",
     "iopub.status.idle": "2022-06-05T07:28:45.041088Z",
     "shell.execute_reply": "2022-06-05T07:28:45.040314Z",
     "shell.execute_reply.started": "2022-06-05T07:28:44.598305Z"
    },
    "tags": []
   },
   "outputs": [
    {
     "name": "stdout",
     "output_type": "stream",
     "text": [
      "Original Data Shape (selected):  (858, 15)\n",
      "Original Data Shape (encoded):  (858, 15)\n",
      "Original Data Class Distribution:  55  (true) / 803  (false)\n",
      "(602, 15) (602,)\n",
      "(85, 15) (85,)\n",
      "(171, 15) (171,)\n",
      "True Ratio:  0.061461794019933555\n",
      "True Ratio:  0.5\n"
     ]
    }
   ],
   "source": [
    "identifier = 'Cervical Cancer'\n",
    "\n",
    "((X_train_cc, y_train_cc),\n",
    " (X_valid_cc, y_valid_cc),\n",
    " (X_test_cc, y_test_cc),\n",
    " normalizer_list_cc) = preprocess_data(X_data_cc, \n",
    "                                           y_data_cc,\n",
    "                                           nominal_features_cc,\n",
    "                                           ordinal_features_cc)"
   ]
  },
  {
   "cell_type": "code",
   "execution_count": 13,
   "id": "023eeacb-af57-4b3a-8bd7-fee50176c916",
   "metadata": {
    "execution": {
     "iopub.execute_input": "2022-06-05T07:28:45.042521Z",
     "iopub.status.busy": "2022-06-05T07:28:45.042283Z",
     "iopub.status.idle": "2022-06-05T07:28:45.056292Z",
     "shell.execute_reply": "2022-06-05T07:28:45.055898Z",
     "shell.execute_reply.started": "2022-06-05T07:28:45.042491Z"
    },
    "tags": []
   },
   "outputs": [
    {
     "data": {
      "text/plain": [
       "0.4678362573099415"
      ]
     },
     "execution_count": 13,
     "metadata": {},
     "output_type": "execute_result"
    }
   ],
   "source": [
    "model_sklearn_cc = DecisionTreeClassifier(max_depth=3, random_state=42)\n",
    "\n",
    "model_sklearn_cc.fit(X_train_cc, y_train_cc)\n",
    "\n",
    "model_sklearn_cc.score(X_test_cc, y_test_cc)"
   ]
  },
  {
   "cell_type": "code",
   "execution_count": 14,
   "id": "5e15081e-1c53-4267-8cb1-b0dcfdd707e2",
   "metadata": {
    "execution": {
     "iopub.execute_input": "2022-06-05T07:28:45.057073Z",
     "iopub.status.busy": "2022-06-05T07:28:45.056950Z",
     "iopub.status.idle": "2022-06-05T07:29:32.156103Z",
     "shell.execute_reply": "2022-06-05T07:29:32.155178Z",
     "shell.execute_reply.started": "2022-06-05T07:28:45.057057Z"
    },
    "tags": []
   },
   "outputs": [
    {
     "data": {
      "application/vnd.jupyter.widget-view+json": {
       "model_id": "7dd6b8dd7a774f6fbfd10c19e7937a7c",
       "version_major": 2,
       "version_minor": 0
      },
      "text/plain": [
       "  0%|          | 0/1000 [00:00<?, ?it/s]"
      ]
     },
     "metadata": {},
     "output_type": "display_data"
    },
    {
     "name": "stdout",
     "output_type": "stream",
     "text": [
      "Test Accuracy 0.17543859649122806\n"
     ]
    }
   ],
   "source": [
    "model_dhdt_cc = DHDT(\n",
    "            depth=3,\n",
    "            number_of_variables = X_data_cc.shape[1],\n",
    "            learning_rate=1e-3,\n",
    "            squeeze_factor = 1,\n",
    "            loss='binary_crossentropy',#'binary_crossentropy',\n",
    "            optimizer='rmsprop',\n",
    "            random_seed=40,\n",
    "            verbosity=0)\n",
    "\n",
    "model_dhdt_cc.fit(X_train_cc, \n",
    "               y_train_cc, \n",
    "               batch_size=64, \n",
    "               epochs=1_000, \n",
    "               early_stopping_epochs=50, \n",
    "               valid_data=(X_valid_cc, y_valid_cc))\n",
    "\n",
    "y_test_model_cc = model_dhdt_cc.predict(X_test_cc)\n",
    "score_dhdt_cc = accuracy_score(y_test_cc, np.round(y_test_model_cc))\n",
    "\n",
    "print('Test Accuracy', score_dhdt_cc)"
   ]
  },
  {
   "cell_type": "code",
   "execution_count": 15,
   "id": "a33b9709-2d57-47dd-8742-cc285b87d79d",
   "metadata": {
    "execution": {
     "iopub.execute_input": "2022-06-05T07:29:32.157432Z",
     "iopub.status.busy": "2022-06-05T07:29:32.157313Z",
     "iopub.status.idle": "2022-06-05T07:30:18.954945Z",
     "shell.execute_reply": "2022-06-05T07:30:18.954042Z",
     "shell.execute_reply.started": "2022-06-05T07:29:32.157416Z"
    }
   },
   "outputs": [
    {
     "data": {
      "application/vnd.jupyter.widget-view+json": {
       "model_id": "437f971910614fd79ba87c7ab4fb99cb",
       "version_major": 2,
       "version_minor": 0
      },
      "text/plain": [
       "  0%|          | 0/1000 [00:00<?, ?it/s]"
      ]
     },
     "metadata": {},
     "output_type": "display_data"
    },
    {
     "name": "stdout",
     "output_type": "stream",
     "text": [
      "Test Accuracy 0.17543859649122806\n"
     ]
    }
   ],
   "source": [
    "model_dhdt_cc = DHDT(\n",
    "            depth=3,\n",
    "            number_of_variables = X_data_cc.shape[1],\n",
    "            learning_rate=1e-3,\n",
    "            squeeze_factor = 1,\n",
    "            loss='binary_crossentropy',#'binary_crossentropy',\n",
    "            optimizer='adam',\n",
    "            random_seed=40,\n",
    "            verbosity=0)\n",
    "\n",
    "model_dhdt_cc.fit(X_train_cc, \n",
    "               y_train_cc, \n",
    "               batch_size=64, \n",
    "               epochs=1_000, \n",
    "               early_stopping_epochs=50, \n",
    "               valid_data=(X_valid_cc, y_valid_cc))\n",
    "\n",
    "y_test_model_cc = model_dhdt_cc.predict(X_test_cc)\n",
    "score_dhdt_cc = accuracy_score(y_test_cc, np.round(y_test_model_cc))\n",
    "\n",
    "print('Test Accuracy', score_dhdt_cc)"
   ]
  },
  {
   "cell_type": "code",
   "execution_count": 16,
   "id": "430c2a3b-c88a-4f2c-9daf-4ad4d2b8d580",
   "metadata": {
    "execution": {
     "iopub.execute_input": "2022-06-05T07:30:18.956082Z",
     "iopub.status.busy": "2022-06-05T07:30:18.955953Z",
     "iopub.status.idle": "2022-06-05T07:31:02.070753Z",
     "shell.execute_reply": "2022-06-05T07:31:02.069894Z",
     "shell.execute_reply.started": "2022-06-05T07:30:18.956060Z"
    }
   },
   "outputs": [
    {
     "data": {
      "application/vnd.jupyter.widget-view+json": {
       "model_id": "13d68f0461714087bf172fb8353a4386",
       "version_major": 2,
       "version_minor": 0
      },
      "text/plain": [
       "  0%|          | 0/1000 [00:00<?, ?it/s]"
      ]
     },
     "metadata": {},
     "output_type": "display_data"
    },
    {
     "name": "stdout",
     "output_type": "stream",
     "text": [
      "Test Accuracy 0.935672514619883\n"
     ]
    }
   ],
   "source": [
    "model_dhdt_cc = DHDT(\n",
    "            depth=3,\n",
    "            number_of_variables = X_data_cc.shape[1],\n",
    "            learning_rate=1e-3,\n",
    "            squeeze_factor = 1,\n",
    "            loss='mae',#'binary_crossentropy',\n",
    "            optimizer='rmsprop',\n",
    "            random_seed=40,\n",
    "            verbosity=0)\n",
    "\n",
    "model_dhdt_cc.fit(X_train_cc, \n",
    "               y_train_cc, \n",
    "               batch_size=64, \n",
    "               epochs=1_000, \n",
    "               early_stopping_epochs=50, \n",
    "               valid_data=(X_valid_cc, y_valid_cc))\n",
    "\n",
    "y_test_model_cc = model_dhdt_cc.predict(X_test_cc)\n",
    "score_dhdt_cc = accuracy_score(y_test_cc, np.round(y_test_model_cc))\n",
    "\n",
    "print('Test Accuracy', score_dhdt_cc)"
   ]
  },
  {
   "cell_type": "code",
   "execution_count": 17,
   "id": "2ed7e739-ad82-44cc-ba41-5a09a5d6d144",
   "metadata": {
    "execution": {
     "iopub.execute_input": "2022-06-05T07:31:02.071723Z",
     "iopub.status.busy": "2022-06-05T07:31:02.071605Z",
     "iopub.status.idle": "2022-06-05T07:31:45.209210Z",
     "shell.execute_reply": "2022-06-05T07:31:45.208266Z",
     "shell.execute_reply.started": "2022-06-05T07:31:02.071707Z"
    }
   },
   "outputs": [
    {
     "data": {
      "application/vnd.jupyter.widget-view+json": {
       "model_id": "6ccfedf85bb2440a90f6dc7a8d1060bb",
       "version_major": 2,
       "version_minor": 0
      },
      "text/plain": [
       "  0%|          | 0/1000 [00:00<?, ?it/s]"
      ]
     },
     "metadata": {},
     "output_type": "display_data"
    },
    {
     "name": "stdout",
     "output_type": "stream",
     "text": [
      "Test Accuracy 0.935672514619883\n"
     ]
    }
   ],
   "source": [
    "model_dhdt_cc = DHDT(\n",
    "            depth=3,\n",
    "            number_of_variables = X_data_cc.shape[1],\n",
    "            learning_rate=1e-4,\n",
    "            squeeze_factor = 1,\n",
    "            loss='binary_crossentropy',#'binary_crossentropy',\n",
    "            optimizer='rmsprop',\n",
    "            random_seed=40,\n",
    "            verbosity=0)\n",
    "\n",
    "model_dhdt_cc.fit(X_train_cc, \n",
    "               y_train_cc, \n",
    "               batch_size=64, \n",
    "               epochs=1_000, \n",
    "               early_stopping_epochs=50, \n",
    "               valid_data=(X_valid_cc, y_valid_cc))\n",
    "\n",
    "y_test_model_cc = model_dhdt_cc.predict(X_test_cc)\n",
    "score_dhdt_cc = accuracy_score(y_test_cc, np.round(y_test_model_cc))\n",
    "\n",
    "print('Test Accuracy', score_dhdt_cc)"
   ]
  },
  {
   "cell_type": "markdown",
   "id": "18c3194b-aaf4-4ccb-8e0d-aa34f0c64f88",
   "metadata": {},
   "source": [
    "## Credit Card"
   ]
  },
  {
   "cell_type": "code",
   "execution_count": 18,
   "id": "926d1a54-7d9d-4539-b266-db260e2c40fc",
   "metadata": {
    "execution": {
     "iopub.execute_input": "2022-06-05T07:31:45.210180Z",
     "iopub.status.busy": "2022-06-05T07:31:45.210066Z",
     "iopub.status.idle": "2022-06-05T07:31:45.310049Z",
     "shell.execute_reply": "2022-06-05T07:31:45.308914Z",
     "shell.execute_reply.started": "2022-06-05T07:31:45.210165Z"
    },
    "tags": []
   },
   "outputs": [
    {
     "name": "stdout",
     "output_type": "stream",
     "text": [
      "(30000, 24)\n"
     ]
    }
   ],
   "source": [
    "credit_card_data = pd.read_csv('./real_world_datasets/UCI_Credit_Card/UCI_Credit_Card.csv', index_col=False) #, delimiter=' '\n",
    "credit_card_data = credit_card_data.drop(['ID'], axis = 1)\n",
    "print(credit_card_data.shape)\n",
    "\n",
    "nominal_features_credit_card = [\n",
    "                        ]\n",
    "\n",
    "ordinal_features_credit_card = [\n",
    "                   ]\n",
    "    \n",
    "X_data_credit_card = credit_card_data.drop(['default.payment.next.month'], axis = 1)\n",
    "y_data_credit_card = ((credit_card_data['default.payment.next.month'] < 1) * 1)\n",
    "\n"
   ]
  },
  {
   "cell_type": "code",
   "execution_count": 19,
   "id": "bfe22e73-e893-4100-934c-6c6f4d4ae452",
   "metadata": {
    "execution": {
     "iopub.execute_input": "2022-06-05T07:31:45.311305Z",
     "iopub.status.busy": "2022-06-05T07:31:45.311169Z",
     "iopub.status.idle": "2022-06-05T07:31:45.749269Z",
     "shell.execute_reply": "2022-06-05T07:31:45.748626Z",
     "shell.execute_reply.started": "2022-06-05T07:31:45.311289Z"
    },
    "tags": []
   },
   "outputs": [
    {
     "name": "stdout",
     "output_type": "stream",
     "text": [
      "Original Data Shape (selected):  (30000, 23)\n",
      "Original Data Shape (encoded):  (30000, 23)\n",
      "Original Data Class Distribution:  23364  (true) / 6636  (false)\n",
      "(21000, 23) (21000,)\n",
      "(3000, 23) (3000,)\n",
      "(6000, 23) (6000,)\n",
      "True Ratio:  0.7782857142857142\n",
      "True Ratio:  0.5\n"
     ]
    }
   ],
   "source": [
    "identifier = 'Credit Card'\n",
    "\n",
    "((X_train_credit_card, y_train_credit_card),\n",
    " (X_valid_credit_card, y_valid_credit_card),\n",
    " (X_test_credit_card, y_test_credit_card),\n",
    " normalizer_list_credit_card) = preprocess_data(X_data_credit_card, \n",
    "                                           y_data_credit_card,\n",
    "                                           nominal_features_credit_card,\n",
    "                                           ordinal_features_credit_card)"
   ]
  },
  {
   "cell_type": "code",
   "execution_count": 20,
   "id": "00e1c011-224f-45cb-94f8-9e328d1f7d67",
   "metadata": {
    "execution": {
     "iopub.execute_input": "2022-06-05T07:31:45.750170Z",
     "iopub.status.busy": "2022-06-05T07:31:45.750059Z",
     "iopub.status.idle": "2022-06-05T07:31:45.887495Z",
     "shell.execute_reply": "2022-06-05T07:31:45.886947Z",
     "shell.execute_reply.started": "2022-06-05T07:31:45.750156Z"
    },
    "tags": []
   },
   "outputs": [
    {
     "data": {
      "text/plain": [
       "0.7761666666666667"
      ]
     },
     "execution_count": 20,
     "metadata": {},
     "output_type": "execute_result"
    }
   ],
   "source": [
    "model_sklearn_credit_card = DecisionTreeClassifier(max_depth=3, random_state=42)\n",
    "\n",
    "model_sklearn_credit_card.fit(X_train_credit_card, y_train_credit_card)\n",
    "\n",
    "model_sklearn_credit_card.score(X_test_credit_card, y_test_credit_card)"
   ]
  },
  {
   "cell_type": "code",
   "execution_count": null,
   "id": "0c980127-c5b2-4ab1-aee8-9ffe2bb6856e",
   "metadata": {
    "execution": {
     "iopub.execute_input": "2022-06-05T07:31:45.888337Z",
     "iopub.status.busy": "2022-06-05T07:31:45.888224Z"
    },
    "tags": []
   },
   "outputs": [
    {
     "data": {
      "application/vnd.jupyter.widget-view+json": {
       "model_id": "3c7a8457b6794da29733ff44a2d1fe69",
       "version_major": 2,
       "version_minor": 0
      },
      "text/plain": [
       "  0%|          | 0/1000 [00:00<?, ?it/s]"
      ]
     },
     "metadata": {},
     "output_type": "display_data"
    }
   ],
   "source": [
    "model_dhdt_credit_card = DHDT(\n",
    "            depth=3,\n",
    "            number_of_variables = X_data_credit_card.shape[1],\n",
    "            learning_rate=1e-3,\n",
    "            squeeze_factor = 1,\n",
    "            loss='binary_crossentropy',#'binary_crossentropy',\n",
    "            optimizer='rmsprop',\n",
    "            random_seed=40,\n",
    "            verbosity=0)\n",
    "\n",
    "model_dhdt_credit_card.fit(X_train_credit_card, \n",
    "               y_train_credit_card, \n",
    "               batch_size=64, \n",
    "               epochs=1_000, \n",
    "               early_stopping_epochs=50, \n",
    "               valid_data=(X_valid_credit_card, y_valid_credit_card))\n",
    "\n",
    "y_test_model_credit_card = model_dhdt_credit_card.predict(X_test_credit_card)\n",
    "score_dhdt_credit_card = accuracy_score(y_test_credit_card, np.round(y_test_model_credit_card))\n",
    "\n",
    "print('Test Accuracy', score_dhdt_credit_card)"
   ]
  },
  {
   "cell_type": "code",
   "execution_count": null,
   "id": "a14e5381-8774-4498-9079-bbd1d6059264",
   "metadata": {},
   "outputs": [],
   "source": [
    "model_dhdt_credit_card = DHDT(\n",
    "            depth=3,\n",
    "            number_of_variables = X_data_credit_card.shape[1],\n",
    "            learning_rate=1e-3,\n",
    "            squeeze_factor = 1,\n",
    "            loss='binary_crossentropy',#'binary_crossentropy',\n",
    "            optimizer='adam',\n",
    "            random_seed=40,\n",
    "            verbosity=0)\n",
    "\n",
    "model_dhdt_credit_card.fit(X_train_credit_card, \n",
    "               y_train_credit_card, \n",
    "               batch_size=64, \n",
    "               epochs=1_000, \n",
    "               early_stopping_epochs=50, \n",
    "               valid_data=(X_valid_credit_card, y_valid_credit_card))\n",
    "\n",
    "y_test_model_credit_card = model_dhdt_credit_card.predict(X_test_credit_card)\n",
    "score_dhdt_credit_card = accuracy_score(y_test_credit_card, np.round(y_test_model_credit_card))\n",
    "\n",
    "print('Test Accuracy', score_dhdt_credit_card)"
   ]
  },
  {
   "cell_type": "code",
   "execution_count": null,
   "id": "8309204b-2c45-4db6-b37b-30dd4237947a",
   "metadata": {},
   "outputs": [],
   "source": [
    "model_dhdt_credit_card = DHDT(\n",
    "            depth=3,\n",
    "            number_of_variables = X_data_credit_card.shape[1],\n",
    "            learning_rate=1e-3,\n",
    "            squeeze_factor = 1,\n",
    "            loss='mae',#'binary_crossentropy',\n",
    "            optimizer='adam',\n",
    "            random_seed=40,\n",
    "            verbosity=0)\n",
    "\n",
    "model_dhdt_credit_card.fit(X_train_credit_card, \n",
    "               y_train_credit_card, \n",
    "               batch_size=64, \n",
    "               epochs=1_000, \n",
    "               early_stopping_epochs=50, \n",
    "               valid_data=(X_valid_credit_card, y_valid_credit_card))\n",
    "\n",
    "y_test_model_credit_card = model_dhdt_credit_card.predict(X_test_credit_card)\n",
    "score_dhdt_credit_card = accuracy_score(y_test_credit_card, np.round(y_test_model_credit_card))\n",
    "\n",
    "print('Test Accuracy', score_dhdt_credit_card)"
   ]
  },
  {
   "cell_type": "code",
   "execution_count": null,
   "id": "bb297494-50e8-4e92-b960-223dd53785ad",
   "metadata": {},
   "outputs": [],
   "source": [
    "model_dhdt_credit_card = DHDT(\n",
    "            depth=3,\n",
    "            number_of_variables = X_data_credit_card.shape[1],\n",
    "            learning_rate=1e-4,\n",
    "            squeeze_factor = 1,\n",
    "            loss='binary_crossentropy',#'binary_crossentropy',\n",
    "            optimizer='rmsprop',\n",
    "            random_seed=40,\n",
    "            verbosity=0)\n",
    "\n",
    "model_dhdt_credit_card.fit(X_train_credit_card, \n",
    "               y_train_credit_card, \n",
    "               batch_size=64, \n",
    "               epochs=1_000, \n",
    "               early_stopping_epochs=50, \n",
    "               valid_data=(X_valid_credit_card, y_valid_credit_card))\n",
    "\n",
    "y_test_model_credit_card = model_dhdt_credit_card.predict(X_test_credit_card)\n",
    "score_dhdt_credit_card = accuracy_score(y_test_credit_card, np.round(y_test_model_credit_card))\n",
    "\n",
    "print('Test Accuracy', score_dhdt_credit_card)"
   ]
  },
  {
   "cell_type": "code",
   "execution_count": null,
   "id": "05d34810-8e9f-418d-a2aa-caf80458179a",
   "metadata": {},
   "outputs": [],
   "source": [
    "plt.figure(figsize=(15,8))\n",
    "image = model_dhdt_credit_card.plot(normalizer_list=normalizer_list_credit_card)\n",
    "display(image)\n",
    "\n",
    "plt.figure(figsize=(15,8))\n",
    "plot_tree(model_sklearn_credit_card, fontsize=10) \n",
    "plt.show()"
   ]
  },
  {
   "cell_type": "code",
   "execution_count": null,
   "id": "ba167628-4a58-47e8-92c6-d56274e650d6",
   "metadata": {},
   "outputs": [],
   "source": []
  },
  {
   "cell_type": "code",
   "execution_count": null,
   "id": "32042bc9-1008-4311-8d2d-7896db8a3a12",
   "metadata": {},
   "outputs": [],
   "source": []
  }
 ],
 "metadata": {
  "kernelspec": {
   "display_name": "Python 3 (ipykernel)",
   "language": "python",
   "name": "python3"
  },
  "language_info": {
   "codemirror_mode": {
    "name": "ipython",
    "version": 3
   },
   "file_extension": ".py",
   "mimetype": "text/x-python",
   "name": "python",
   "nbconvert_exporter": "python",
   "pygments_lexer": "ipython3",
   "version": "3.8.0"
  }
 },
 "nbformat": 4,
 "nbformat_minor": 5
}
