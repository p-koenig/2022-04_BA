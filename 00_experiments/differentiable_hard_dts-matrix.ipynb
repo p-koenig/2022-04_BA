{
 "cells": [
  {
   "cell_type": "markdown",
   "id": "e1c3b444-064b-4639-983d-238b3da68ad9",
   "metadata": {},
   "source": [
    "# Imports"
   ]
  },
  {
   "cell_type": "code",
   "execution_count": 1,
   "id": "b6ab8be2-1b4c-4370-a837-9176d15bea41",
   "metadata": {
    "execution": {
     "iopub.execute_input": "2022-06-05T13:41:45.856457Z",
     "iopub.status.busy": "2022-06-05T13:41:45.856151Z",
     "iopub.status.idle": "2022-06-05T13:41:52.420743Z",
     "shell.execute_reply": "2022-06-05T13:41:52.419979Z",
     "shell.execute_reply.started": "2022-06-05T13:41:45.856379Z"
    },
    "tags": []
   },
   "outputs": [],
   "source": [
    "import tensorflow as tf\n",
    "import tensorflow_addons as tfa\n",
    "import numpy as np\n",
    "\n",
    "from sklearn.datasets import make_classification\n",
    "from sklearn.model_selection import train_test_split\n",
    "from sklearn.tree import DecisionTreeClassifier, plot_tree\n",
    "from sklearn.metrics import accuracy_score\n",
    "from sklearn.compose import ColumnTransformer\n",
    "from sklearn.preprocessing import OneHotEncoder, MinMaxScaler, LabelEncoder, OrdinalEncoder\n",
    "from livelossplot import PlotLosses\n",
    "\n",
    "import os\n",
    "from tqdm.notebook import tqdm\n",
    "from matplotlib import pyplot as plt\n",
    "\n",
    "from IPython.display import Image\n",
    "from IPython.display import display, clear_output\n",
    "\n",
    "import pandas as pd\n",
    "\n",
    "os.environ['CUDA_VISIBLE_DEVICES'] = ''\n",
    "os.environ['TF_FORCE_GPU_ALLOW_GROWTH'] = '' #'true'\n",
    "\n",
    "import warnings\n",
    "warnings.filterwarnings('ignore')\n",
    "os.environ['TF_CPP_MIN_LOG_LEVEL'] = '3' \n",
    "import logging\n",
    "\n",
    "tf.get_logger().setLevel('ERROR')\n",
    "tf.autograph.set_verbosity(3)\n",
    "\n",
    "from keras import backend as K\n",
    "from keras.utils.generic_utils import get_custom_objects\n",
    "\n",
    "\n",
    "import seaborn as sns\n",
    "sns.set_style(\"darkgrid\")\n",
    "\n",
    "import time\n",
    "import random\n",
    "\n",
    "from utilities.utilities import *\n",
    "from utilities.DHDT import *"
   ]
  },
  {
   "cell_type": "markdown",
   "id": "f2397843-32d2-4579-b197-0686f4a99b54",
   "metadata": {},
   "source": [
    "# Evaluation"
   ]
  },
  {
   "cell_type": "markdown",
   "id": "fa3e7da9-12bb-467f-919f-4fd510ce6463",
   "metadata": {},
   "source": [
    "## make_classification"
   ]
  },
  {
   "cell_type": "code",
   "execution_count": 2,
   "id": "ea41baa5-08bc-4d64-beeb-9398b3383bdb",
   "metadata": {
    "execution": {
     "iopub.execute_input": "2022-06-05T13:41:52.424440Z",
     "iopub.status.busy": "2022-06-05T13:41:52.424160Z",
     "iopub.status.idle": "2022-06-05T14:07:06.604535Z",
     "shell.execute_reply": "2022-06-05T14:07:06.604027Z",
     "shell.execute_reply.started": "2022-06-05T13:41:52.424409Z"
    },
    "tags": []
   },
   "outputs": [
    {
     "data": {
      "application/vnd.jupyter.widget-view+json": {
       "model_id": "5037a2e944bb4b7795db6b6a6aa93901",
       "version_major": 2,
       "version_minor": 0
      },
      "text/plain": [
       "dataset loop:   0%|          | 0/10 [00:00<?, ?it/s]"
      ]
     },
     "metadata": {},
     "output_type": "display_data"
    },
    {
     "name": "stdout",
     "output_type": "stream",
     "text": [
      "_________________________________________________________________________________________________________________\n",
      "Original Data Shape (selected):  (10000, 5)\n",
      "Original Data Shape (encoded):  (10000, 5)\n",
      "Original Data Class Distribution:  5003  (true) / 4997  (false)\n",
      "(7000, 5) (7000,)\n",
      "(1000, 5) (1000,)\n",
      "(2000, 5) (2000,)\n",
      "True Ratio:  0.4957142857142857\n"
     ]
    },
    {
     "data": {
      "application/vnd.jupyter.widget-view+json": {
       "model_id": "07f3572a84694f9ea8e5675ab40b41d0",
       "version_major": 2,
       "version_minor": 0
      },
      "text/plain": [
       "epochs:   0%|          | 0/1000 [00:00<?, ?it/s]"
      ]
     },
     "metadata": {},
     "output_type": "display_data"
    },
    {
     "name": "stdout",
     "output_type": "stream",
     "text": [
      "Test Accuracy Sklearn (0) 0.887\n",
      "Test Accuracy DHDT (0) 0.5065\n",
      "_________________________________________________________________________________________________________________\n",
      "_________________________________________________________________________________________________________________\n",
      "Original Data Shape (selected):  (10000, 5)\n",
      "Original Data Shape (encoded):  (10000, 5)\n",
      "Original Data Class Distribution:  5000  (true) / 5000  (false)\n",
      "(7000, 5) (7000,)\n",
      "(1000, 5) (1000,)\n",
      "(2000, 5) (2000,)\n",
      "True Ratio:  0.49642857142857144\n"
     ]
    },
    {
     "data": {
      "application/vnd.jupyter.widget-view+json": {
       "model_id": "2e483dbe40024a81bd968cd6d16a3747",
       "version_major": 2,
       "version_minor": 0
      },
      "text/plain": [
       "epochs:   0%|          | 0/1000 [00:00<?, ?it/s]"
      ]
     },
     "metadata": {},
     "output_type": "display_data"
    },
    {
     "name": "stdout",
     "output_type": "stream",
     "text": [
      "Test Accuracy Sklearn (1) 0.9235\n",
      "Test Accuracy DHDT (1) 0.8685\n",
      "_________________________________________________________________________________________________________________\n",
      "_________________________________________________________________________________________________________________\n",
      "Original Data Shape (selected):  (10000, 5)\n",
      "Original Data Shape (encoded):  (10000, 5)\n",
      "Original Data Class Distribution:  4992  (true) / 5008  (false)\n",
      "(7000, 5) (7000,)\n",
      "(1000, 5) (1000,)\n",
      "(2000, 5) (2000,)\n",
      "True Ratio:  0.49914285714285717\n"
     ]
    },
    {
     "data": {
      "application/vnd.jupyter.widget-view+json": {
       "model_id": "92641a00a7384374b2b525710fcd11ba",
       "version_major": 2,
       "version_minor": 0
      },
      "text/plain": [
       "epochs:   0%|          | 0/1000 [00:00<?, ?it/s]"
      ]
     },
     "metadata": {},
     "output_type": "display_data"
    },
    {
     "name": "stdout",
     "output_type": "stream",
     "text": [
      "Test Accuracy Sklearn (2) 0.861\n",
      "Test Accuracy DHDT (2) 0.7955\n",
      "_________________________________________________________________________________________________________________\n",
      "_________________________________________________________________________________________________________________\n",
      "Original Data Shape (selected):  (10000, 5)\n",
      "Original Data Shape (encoded):  (10000, 5)\n",
      "Original Data Class Distribution:  5001  (true) / 4999  (false)\n",
      "(7000, 5) (7000,)\n",
      "(1000, 5) (1000,)\n",
      "(2000, 5) (2000,)\n",
      "True Ratio:  0.499\n"
     ]
    },
    {
     "data": {
      "application/vnd.jupyter.widget-view+json": {
       "model_id": "e645e74c6c584891b2517d018daf199d",
       "version_major": 2,
       "version_minor": 0
      },
      "text/plain": [
       "epochs:   0%|          | 0/1000 [00:00<?, ?it/s]"
      ]
     },
     "metadata": {},
     "output_type": "display_data"
    },
    {
     "name": "stdout",
     "output_type": "stream",
     "text": [
      "Test Accuracy Sklearn (3) 0.878\n",
      "Test Accuracy DHDT (3) 0.818\n",
      "_________________________________________________________________________________________________________________\n",
      "_________________________________________________________________________________________________________________\n",
      "Original Data Shape (selected):  (10000, 5)\n",
      "Original Data Shape (encoded):  (10000, 5)\n",
      "Original Data Class Distribution:  4999  (true) / 5001  (false)\n",
      "(7000, 5) (7000,)\n",
      "(1000, 5) (1000,)\n",
      "(2000, 5) (2000,)\n",
      "True Ratio:  0.49742857142857144\n"
     ]
    },
    {
     "data": {
      "application/vnd.jupyter.widget-view+json": {
       "model_id": "96bbaf10961a49fbb05f310c73dbce8e",
       "version_major": 2,
       "version_minor": 0
      },
      "text/plain": [
       "epochs:   0%|          | 0/1000 [00:00<?, ?it/s]"
      ]
     },
     "metadata": {},
     "output_type": "display_data"
    },
    {
     "name": "stdout",
     "output_type": "stream",
     "text": [
      "Test Accuracy Sklearn (4) 0.746\n",
      "Test Accuracy DHDT (4) 0.536\n",
      "_________________________________________________________________________________________________________________\n",
      "_________________________________________________________________________________________________________________\n",
      "Original Data Shape (selected):  (10000, 5)\n",
      "Original Data Shape (encoded):  (10000, 5)\n",
      "Original Data Class Distribution:  4994  (true) / 5006  (false)\n",
      "(7000, 5) (7000,)\n",
      "(1000, 5) (1000,)\n",
      "(2000, 5) (2000,)\n",
      "True Ratio:  0.5052857142857143\n"
     ]
    },
    {
     "data": {
      "application/vnd.jupyter.widget-view+json": {
       "model_id": "4b19770e37624c37bac56a6df0885fef",
       "version_major": 2,
       "version_minor": 0
      },
      "text/plain": [
       "epochs:   0%|          | 0/1000 [00:00<?, ?it/s]"
      ]
     },
     "metadata": {},
     "output_type": "display_data"
    },
    {
     "name": "stdout",
     "output_type": "stream",
     "text": [
      "Test Accuracy Sklearn (5) 0.886\n",
      "Test Accuracy DHDT (5) 0.727\n",
      "_________________________________________________________________________________________________________________\n",
      "_________________________________________________________________________________________________________________\n",
      "Original Data Shape (selected):  (10000, 5)\n",
      "Original Data Shape (encoded):  (10000, 5)\n",
      "Original Data Class Distribution:  4999  (true) / 5001  (false)\n",
      "(7000, 5) (7000,)\n",
      "(1000, 5) (1000,)\n",
      "(2000, 5) (2000,)\n",
      "True Ratio:  0.5057142857142857\n"
     ]
    },
    {
     "data": {
      "application/vnd.jupyter.widget-view+json": {
       "model_id": "19805b982dda409db762488b56b4205d",
       "version_major": 2,
       "version_minor": 0
      },
      "text/plain": [
       "epochs:   0%|          | 0/1000 [00:00<?, ?it/s]"
      ]
     },
     "metadata": {},
     "output_type": "display_data"
    },
    {
     "name": "stdout",
     "output_type": "stream",
     "text": [
      "Test Accuracy Sklearn (6) 0.895\n",
      "Test Accuracy DHDT (6) 0.608\n",
      "_________________________________________________________________________________________________________________\n",
      "_________________________________________________________________________________________________________________\n",
      "Original Data Shape (selected):  (10000, 5)\n",
      "Original Data Shape (encoded):  (10000, 5)\n",
      "Original Data Class Distribution:  5001  (true) / 4999  (false)\n",
      "(7000, 5) (7000,)\n",
      "(1000, 5) (1000,)\n",
      "(2000, 5) (2000,)\n",
      "True Ratio:  0.4972857142857143\n"
     ]
    },
    {
     "data": {
      "application/vnd.jupyter.widget-view+json": {
       "model_id": "48b27103de5f4c6eb909864dacea3858",
       "version_major": 2,
       "version_minor": 0
      },
      "text/plain": [
       "epochs:   0%|          | 0/1000 [00:00<?, ?it/s]"
      ]
     },
     "metadata": {},
     "output_type": "display_data"
    },
    {
     "name": "stdout",
     "output_type": "stream",
     "text": [
      "Test Accuracy Sklearn (7) 0.909\n",
      "Test Accuracy DHDT (7) 0.9045\n",
      "_________________________________________________________________________________________________________________\n",
      "_________________________________________________________________________________________________________________\n",
      "Original Data Shape (selected):  (10000, 5)\n",
      "Original Data Shape (encoded):  (10000, 5)\n",
      "Original Data Class Distribution:  4992  (true) / 5008  (false)\n",
      "(7000, 5) (7000,)\n",
      "(1000, 5) (1000,)\n",
      "(2000, 5) (2000,)\n",
      "True Ratio:  0.49785714285714283\n"
     ]
    },
    {
     "data": {
      "application/vnd.jupyter.widget-view+json": {
       "model_id": "ae00ca4be98446cb8ad6c2b2ec253beb",
       "version_major": 2,
       "version_minor": 0
      },
      "text/plain": [
       "epochs:   0%|          | 0/1000 [00:00<?, ?it/s]"
      ]
     },
     "metadata": {},
     "output_type": "display_data"
    },
    {
     "name": "stdout",
     "output_type": "stream",
     "text": [
      "Test Accuracy Sklearn (8) 0.8155\n",
      "Test Accuracy DHDT (8) 0.7575\n",
      "_________________________________________________________________________________________________________________\n",
      "_________________________________________________________________________________________________________________\n",
      "Original Data Shape (selected):  (10000, 5)\n",
      "Original Data Shape (encoded):  (10000, 5)\n",
      "Original Data Class Distribution:  5002  (true) / 4998  (false)\n",
      "(7000, 5) (7000,)\n",
      "(1000, 5) (1000,)\n",
      "(2000, 5) (2000,)\n",
      "True Ratio:  0.5038571428571429\n"
     ]
    },
    {
     "data": {
      "application/vnd.jupyter.widget-view+json": {
       "model_id": "39b3e41b02ed47d3b87a01916628df15",
       "version_major": 2,
       "version_minor": 0
      },
      "text/plain": [
       "epochs:   0%|          | 0/1000 [00:00<?, ?it/s]"
      ]
     },
     "metadata": {},
     "output_type": "display_data"
    },
    {
     "name": "stdout",
     "output_type": "stream",
     "text": [
      "Test Accuracy Sklearn (9) 0.9055\n",
      "Test Accuracy DHDT (9) 0.541\n",
      "_________________________________________________________________________________________________________________\n"
     ]
    }
   ],
   "source": [
    "num_make_class_eval = 10\n",
    "\n",
    "identifier_list_make_class = [i for i in range(num_make_class_eval)]\n",
    "\n",
    "dataset_dict_make_class = {}\n",
    "model_dict_make_class = {}\n",
    "\n",
    "scores_dict_make_class = {}\n",
    "\n",
    "for identifier in tqdm(identifier_list_make_class, desc='dataset loop'):\n",
    "    \n",
    "    print('_________________________________________________________________________________________________________________')   \n",
    "    \n",
    "    dataset_dict_make_class[identifier] = {}\n",
    "    model_dict_make_class[identifier] = {}\n",
    "\n",
    "    scores_dict_make_class[identifier] = {'sklearn': {},\n",
    "                               'DHDT': {}}\n",
    "        \n",
    "    X_data, y_data = make_classification(\n",
    "                                        n_samples=10_000, \n",
    "                                        n_features=5, \n",
    "                                        n_informative=3, \n",
    "                                        n_redundant=1, \n",
    "                                        random_state=identifier\n",
    "                                        )\n",
    "\n",
    "    ((dataset_dict_make_class[identifier]['X_train'], dataset_dict_make_class[identifier]['y_train']), \n",
    "     (dataset_dict_make_class[identifier]['X_valid'], dataset_dict_make_class[identifier]['y_valid']), \n",
    "     (dataset_dict_make_class[identifier]['X_test'], dataset_dict_make_class[identifier]['y_test']), \n",
    "     \n",
    "     dataset_dict_make_class[identifier]['normalizer_list']) = preprocess_data(X_data = X_data, \n",
    "                                                                                y_data = y_data,\n",
    "                                                                                nominal_features = [],\n",
    "                                                                                ordinal_features = [],\n",
    "                                                                                random_seed = 42)    \n",
    "\n",
    "    model_dict_make_class[identifier]['sklearn'] = DecisionTreeClassifier(max_depth=3, \n",
    "                                                               random_state=42)\n",
    "\n",
    "    model_dict_make_class[identifier]['sklearn'].fit(dataset_dict_make_class[identifier]['X_train'], \n",
    "                                                      dataset_dict_make_class[identifier]['y_train'])\n",
    "\n",
    "    scores_dict_make_class[identifier]['sklearn']['accuracy'] = model_dict_make_class[identifier]['sklearn'].score(dataset_dict_make_class[identifier]['X_test'], \n",
    "                                                                                                                 dataset_dict_make_class[identifier]['y_test'])\n",
    "\n",
    "\n",
    "\n",
    "    model_dict_make_class[identifier]['DHDT'] = DHDT(depth=3,\n",
    "                                             number_of_variables = dataset_dict_make_class[identifier]['X_train'].shape[1],\n",
    "                                             learning_rate=1e-3,\n",
    "                                             squeeze_factor = 1,\n",
    "                                             loss='binary_crossentropy',#'binary_crossentropy',\n",
    "                                             optimizer='rmsprop',\n",
    "                                             random_seed=40,\n",
    "                                             verbosity=0)\n",
    "\n",
    "    scores_dict_make_class[identifier]['history'] = model_dict_make_class[identifier]['DHDT'].fit(dataset_dict_make_class[identifier]['X_train'], \n",
    "                                                                          dataset_dict_make_class[identifier]['y_train'], \n",
    "                                                                          batch_size=512, \n",
    "                                                                          epochs=1_000, \n",
    "                                                                          early_stopping_epochs=50, \n",
    "                                                                          valid_data=(dataset_dict_make_class[identifier]['X_valid'], dataset_dict_make_class[identifier]['y_valid']))\n",
    "\n",
    "    dataset_dict_make_class[identifier]['y_test_dhdt'] = model_dict_make_class[identifier]['DHDT'].predict(dataset_dict_make_class[identifier]['X_test'])\n",
    "    scores_dict_make_class[identifier]['DHDT']['accuracy'] = accuracy_score(dataset_dict_make_class[identifier]['y_test'], np.round(dataset_dict_make_class[identifier]['y_test_dhdt']))\n",
    "    \n",
    "    print('Test Accuracy Sklearn (' + str(identifier) + ')', scores_dict_make_class[identifier]['sklearn']['accuracy'])\n",
    "    print('Test Accuracy DHDT (' + str(identifier) + ')', scores_dict_make_class[identifier]['DHDT']['accuracy'])   \n",
    "    print('_________________________________________________________________________________________________________________')   \n",
    "\n",
    "    "
   ]
  },
  {
   "cell_type": "code",
   "execution_count": 11,
   "id": "aa1e9145-2b47-467f-96df-d3bb0f83226a",
   "metadata": {
    "execution": {
     "iopub.execute_input": "2022-06-05T14:44:06.389358Z",
     "iopub.status.busy": "2022-06-05T14:44:06.389135Z",
     "iopub.status.idle": "2022-06-05T14:44:06.392777Z",
     "shell.execute_reply": "2022-06-05T14:44:06.392256Z",
     "shell.execute_reply.started": "2022-06-05T14:44:06.389330Z"
    },
    "tags": []
   },
   "outputs": [],
   "source": [
    "scores_DHDT_make_class = [scores_dict_make_class[identifier]['DHDT']['accuracy'] for identifier in range(num_make_class_eval)]\n",
    "\n",
    "scores_sklearn_make_class = [scores_dict_make_class[identifier]['sklearn']['accuracy'] for identifier in range(num_make_class_eval)]\n"
   ]
  },
  {
   "cell_type": "markdown",
   "id": "75db42a3-560d-4f55-b2d3-ee52da3cb7f6",
   "metadata": {
    "tags": []
   },
   "source": [
    "## real-world"
   ]
  },
  {
   "cell_type": "code",
   "execution_count": null,
   "id": "8c05f2f8-19b1-4800-b9ae-85c0599f0425",
   "metadata": {},
   "outputs": [],
   "source": [
    "--> put eval in function \n",
    "    --> make parallel execution with different seeds / splits, etcs \n",
    "        --> compare (save all values and generate mean+std df, but keep all values)\n"
   ]
  },
  {
   "cell_type": "code",
   "execution_count": null,
   "id": "dcafb753-2e3d-4480-9998-659ff6034a78",
   "metadata": {},
   "outputs": [],
   "source": [
    "n_jobs = 20"
   ]
  },
  {
   "cell_type": "code",
   "execution_count": null,
   "id": "ab170fa2-c32f-402e-8b60-38b542ae3840",
   "metadata": {},
   "outputs": [],
   "source": [
    "parallel_real_world_eval = Parallel(n_jobs=n_jobs, verbose=3, backend=backend) #loky #sequential multiprocessing\n",
    "evaluation_results_by_dataset = parallel_inet_evaluation(delayed(distribution_evaluation_single_model_synthetic_data)(i, identifier) for i, identifier in enumerate(identifier_list))\n"
   ]
  },
  {
   "cell_type": "code",
   "execution_count": 15,
   "id": "6773d8d6-ba4e-42b5-b981-2edd4a323fc9",
   "metadata": {
    "execution": {
     "iopub.execute_input": "2022-06-05T17:33:09.227476Z",
     "iopub.status.busy": "2022-06-05T17:33:09.227187Z",
     "iopub.status.idle": "2022-06-05T17:47:00.507626Z",
     "shell.execute_reply": "2022-06-05T17:47:00.506321Z",
     "shell.execute_reply.started": "2022-06-05T17:33:09.227450Z"
    },
    "tags": []
   },
   "outputs": [
    {
     "data": {
      "application/vnd.jupyter.widget-view+json": {
       "model_id": "1c152f50151f431ea4dc771ea14607f7",
       "version_major": 2,
       "version_minor": 0
      },
      "text/plain": [
       "dataset loop:   0%|          | 0/3 [00:00<?, ?it/s]"
      ]
     },
     "metadata": {},
     "output_type": "display_data"
    },
    {
     "name": "stdout",
     "output_type": "stream",
     "text": [
      "_________________________________________________________________________________________________________________\n",
      "Original Data Shape (selected):  (858, 15)\n",
      "Original Data Shape (encoded):  (858, 15)\n",
      "Original Data Class Distribution:  55  (true) / 803  (false)\n",
      "(602, 15) (602,)\n",
      "(85, 15) (85,)\n",
      "(171, 15) (171,)\n",
      "True Ratio:  0.061461794019933555\n",
      "True Ratio:  0.5\n"
     ]
    },
    {
     "data": {
      "application/vnd.jupyter.widget-view+json": {
       "model_id": "8baeb6cffb7648349d1dc0acdfa4bdf1",
       "version_major": 2,
       "version_minor": 0
      },
      "text/plain": [
       "epochs:   0%|          | 0/1000 [00:00<?, ?it/s]"
      ]
     },
     "metadata": {},
     "output_type": "display_data"
    },
    {
     "name": "stdout",
     "output_type": "stream",
     "text": [
      "Test Accuracy Sklearn (Cervical Cancer) 0.4678362573099415\n",
      "Test Accuracy DHDT (Cervical Cancer) 0.17543859649122806\n",
      "_________________________________________________________________________________________________________________\n",
      "_________________________________________________________________________________________________________________\n",
      "Original Data Shape (selected):  (30000, 23)\n",
      "Original Data Shape (encoded):  (30000, 23)\n",
      "Original Data Class Distribution:  23364  (true) / 6636  (false)\n",
      "(21000, 23) (21000,)\n",
      "(3000, 23) (3000,)\n",
      "(6000, 23) (6000,)\n",
      "True Ratio:  0.7782857142857142\n",
      "True Ratio:  0.5\n"
     ]
    },
    {
     "data": {
      "application/vnd.jupyter.widget-view+json": {
       "model_id": "e16ea9787ed9404292de6e8d6e6e41ba",
       "version_major": 2,
       "version_minor": 0
      },
      "text/plain": [
       "epochs:   0%|          | 0/1000 [00:00<?, ?it/s]"
      ]
     },
     "metadata": {},
     "output_type": "display_data"
    },
    {
     "name": "stdout",
     "output_type": "stream",
     "text": [
      "Test Accuracy Sklearn (Credit Card) 0.7761666666666667\n",
      "Test Accuracy DHDT (Credit Card) 0.782\n",
      "_________________________________________________________________________________________________________________\n",
      "_________________________________________________________________________________________________________________\n",
      "Original Data Shape (selected):  (740, 15)\n",
      "Original Data Shape (encoded):  (740, 15)\n",
      "Original Data Class Distribution:  279  (true) / 461  (false)\n",
      "(518, 15) (518,)\n",
      "(74, 15) (74,)\n",
      "(148, 15) (148,)\n",
      "True Ratio:  0.3861003861003861\n"
     ]
    },
    {
     "data": {
      "application/vnd.jupyter.widget-view+json": {
       "model_id": "66e51053f31149a694640a3a6bd0f71d",
       "version_major": 2,
       "version_minor": 0
      },
      "text/plain": [
       "epochs:   0%|          | 0/1000 [00:00<?, ?it/s]"
      ]
     },
     "metadata": {},
     "output_type": "display_data"
    },
    {
     "name": "stdout",
     "output_type": "stream",
     "text": [
      "Test Accuracy Sklearn (Absenteeism) 0.6351351351351351\n",
      "Test Accuracy DHDT (Absenteeism) 0.6283783783783784\n",
      "_________________________________________________________________________________________________________________\n"
     ]
    }
   ],
   "source": [
    "identifier_list = ['Cervical Cancer',\n",
    "                   'Credit Card',\n",
    "                   'Absenteeism']\n",
    "\n",
    "dataset_dict = {}\n",
    "model_dict = {}\n",
    "\n",
    "scores_dict = {}\n",
    "\n",
    "for identifier in tqdm(identifier_list, desc='dataset loop'):\n",
    "    \n",
    "    print('_________________________________________________________________________________________________________________')   \n",
    "    \n",
    "    dataset_dict[identifier] = {}\n",
    "    model_dict[identifier] = {}\n",
    "\n",
    "    scores_dict[identifier] = {'sklearn': {},\n",
    "                               'DHDT': {}}\n",
    "    \n",
    "    dataset_dict[identifier] = get_preprocessed_dataset(identifier)\n",
    "\n",
    "    model_dict[identifier]['sklearn'] = DecisionTreeClassifier(max_depth=3, \n",
    "                                                               random_state=42)\n",
    "\n",
    "    model_dict[identifier]['sklearn'].fit(dataset_dict[identifier]['X_train'], \n",
    "                                          dataset_dict[identifier]['y_train'])\n",
    "\n",
    "    scores_dict[identifier]['sklearn']['accuracy'] = model_dict[identifier]['sklearn'].score(dataset_dict[identifier]['X_test'], \n",
    "                                                                                             dataset_dict[identifier]['y_test'])\n",
    "\n",
    "\n",
    "\n",
    "    model_dict[identifier]['DHDT'] = DHDT(depth=3,\n",
    "                                             number_of_variables = dataset_dict[identifier]['X_train'].shape[1],\n",
    "                                             learning_rate=1e-3,\n",
    "                                             squeeze_factor = 1,\n",
    "                                             loss='binary_crossentropy',#'binary_crossentropy',\n",
    "                                             optimizer='rmsprop',\n",
    "                                             random_seed=40,\n",
    "                                             verbosity=0)\n",
    "\n",
    "    scores_dict[identifier]['history'] = model_dict[identifier]['DHDT'].fit(dataset_dict[identifier]['X_train'], \n",
    "                                                                          dataset_dict[identifier]['y_train'], \n",
    "                                                                          batch_size=512, \n",
    "                                                                          epochs=1_000, \n",
    "                                                                          early_stopping_epochs=50, \n",
    "                                                                          valid_data=(dataset_dict[identifier]['X_valid'], dataset_dict[identifier]['y_valid']))\n",
    "\n",
    "    dataset_dict[identifier]['y_test_dhdt'] = model_dict[identifier]['DHDT'].predict(dataset_dict[identifier]['X_test'])\n",
    "    scores_dict[identifier]['DHDT']['accuracy'] = accuracy_score(dataset_dict[identifier]['y_test'], np.round(dataset_dict[identifier]['y_test_dhdt']))\n",
    "    \n",
    "    print('Test Accuracy Sklearn (' + identifier + ')', scores_dict[identifier]['sklearn']['accuracy'])\n",
    "    print('Test Accuracy DHDT (' + identifier + ')', scores_dict[identifier]['DHDT']['accuracy'])   \n",
    "    print('_________________________________________________________________________________________________________________')   \n",
    "\n",
    "    "
   ]
  },
  {
   "cell_type": "code",
   "execution_count": 19,
   "id": "1901c3fe-2a4d-4efa-9864-a2e488ce9292",
   "metadata": {
    "execution": {
     "iopub.execute_input": "2022-06-05T19:49:51.377747Z",
     "iopub.status.busy": "2022-06-05T19:49:51.377455Z",
     "iopub.status.idle": "2022-06-05T19:49:51.387586Z",
     "shell.execute_reply": "2022-06-05T19:49:51.386877Z",
     "shell.execute_reply.started": "2022-06-05T19:49:51.377723Z"
    },
    "tags": []
   },
   "outputs": [
    {
     "data": {
      "text/html": [
       "<div>\n",
       "<style scoped>\n",
       "    .dataframe tbody tr th:only-of-type {\n",
       "        vertical-align: middle;\n",
       "    }\n",
       "\n",
       "    .dataframe tbody tr th {\n",
       "        vertical-align: top;\n",
       "    }\n",
       "\n",
       "    .dataframe thead th {\n",
       "        text-align: right;\n",
       "    }\n",
       "</style>\n",
       "<table border=\"1\" class=\"dataframe\">\n",
       "  <thead>\n",
       "    <tr style=\"text-align: right;\">\n",
       "      <th></th>\n",
       "      <th>DHDT</th>\n",
       "      <th>sklearn</th>\n",
       "    </tr>\n",
       "  </thead>\n",
       "  <tbody>\n",
       "    <tr>\n",
       "      <th>Cervical Cancer</th>\n",
       "      <td>0.175439</td>\n",
       "      <td>0.467836</td>\n",
       "    </tr>\n",
       "    <tr>\n",
       "      <th>Credit Card</th>\n",
       "      <td>0.782000</td>\n",
       "      <td>0.776167</td>\n",
       "    </tr>\n",
       "    <tr>\n",
       "      <th>Absenteeism</th>\n",
       "      <td>0.628378</td>\n",
       "      <td>0.635135</td>\n",
       "    </tr>\n",
       "  </tbody>\n",
       "</table>\n",
       "</div>"
      ],
      "text/plain": [
       "                     DHDT   sklearn\n",
       "Cervical Cancer  0.175439  0.467836\n",
       "Credit Card      0.782000  0.776167\n",
       "Absenteeism      0.628378  0.635135"
      ]
     },
     "execution_count": 19,
     "metadata": {},
     "output_type": "execute_result"
    }
   ],
   "source": [
    "scores_DHDT = [scores_dict[identifier]['DHDT']['accuracy'] for identifier in identifier_list]\n",
    "\n",
    "scores_sklearn = [scores_dict[identifier]['sklearn']['accuracy'] for identifier in identifier_list]\n",
    "\n",
    "scores_dataframe = pd.DataFrame(data=np.vstack([scores_DHDT, scores_sklearn]).T, index = identifier_list, columns = ['DHDT', 'sklearn'])\n",
    "scores_dataframe"
   ]
  },
  {
   "cell_type": "code",
   "execution_count": null,
   "id": "05d34810-8e9f-418d-a2aa-caf80458179a",
   "metadata": {
    "execution": {
     "iopub.status.busy": "2022-06-05T17:47:00.704230Z",
     "iopub.status.idle": "2022-06-05T17:47:00.704517Z",
     "shell.execute_reply": "2022-06-05T17:47:00.704381Z",
     "shell.execute_reply.started": "2022-06-05T17:47:00.704365Z"
    },
    "tags": []
   },
   "outputs": [],
   "source": [
    "identifier = \"Absenteeism\"\n",
    "plt.figure(figsize=(15,8))\n",
    "image = model_dict[identifier]['DHDT'].plot(normalizer_list=dataset_dict['normalizer_list'][identifier])\n",
    "display(image)\n",
    "\n",
    "plt.figure(figsize=(15,8))\n",
    "plot_tree(model_dict[identifier]['sklearn'], fontsize=10) \n",
    "plt.show()"
   ]
  },
  {
   "cell_type": "markdown",
   "id": "4a512e12-0fc0-4e43-912a-d01d2b28c7c8",
   "metadata": {},
   "source": [
    "## Absenteeism"
   ]
  },
  {
   "cell_type": "code",
   "execution_count": null,
   "id": "32042bc9-1008-4311-8d2d-7896db8a3a12",
   "metadata": {
    "tags": []
   },
   "outputs": [],
   "source": []
  }
 ],
 "metadata": {
  "kernelspec": {
   "display_name": "Python 3 (ipykernel)",
   "language": "python",
   "name": "python3"
  },
  "language_info": {
   "codemirror_mode": {
    "name": "ipython",
    "version": 3
   },
   "file_extension": ".py",
   "mimetype": "text/x-python",
   "name": "python",
   "nbconvert_exporter": "python",
   "pygments_lexer": "ipython3",
   "version": "3.8.0"
  }
 },
 "nbformat": 4,
 "nbformat_minor": 5
}
