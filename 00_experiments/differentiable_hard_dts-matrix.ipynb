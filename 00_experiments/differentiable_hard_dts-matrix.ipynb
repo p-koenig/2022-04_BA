{
 "cells": [
  {
   "cell_type": "markdown",
   "id": "e1c3b444-064b-4639-983d-238b3da68ad9",
   "metadata": {},
   "source": [
    "# Imports"
   ]
  },
  {
   "cell_type": "code",
   "execution_count": 1,
   "id": "a6531aaa-2c26-40f5-8078-d754aceda153",
   "metadata": {
    "execution": {
     "iopub.execute_input": "2022-06-06T15:16:52.679476Z",
     "iopub.status.busy": "2022-06-06T15:16:52.679141Z",
     "iopub.status.idle": "2022-06-06T15:16:52.686277Z",
     "shell.execute_reply": "2022-06-06T15:16:52.685628Z",
     "shell.execute_reply.started": "2022-06-06T15:16:52.679425Z"
    },
    "tags": []
   },
   "outputs": [],
   "source": [
    "config = {\n",
    "    'dhdt': {\n",
    "        'depth': 3,\n",
    "        'learning_rate': 1e-3,\n",
    "        \n",
    "        'loss': 'binary_crossentropy',#'mae',\n",
    "        'optimizer': 'adam',        \n",
    "        \n",
    "        'beta_1': 100,\n",
    "        'beta_2': 100,\n",
    "        \n",
    "        'squeeze_factor': 1,\n",
    "    },\n",
    "    \n",
    "    \n",
    "    \n",
    "    'make_classification': {\n",
    "        'number_of_variables': 5,\n",
    "        'n_samples': 10_000,\n",
    "    },\n",
    "\n",
    "    \n",
    "    'computation': {\n",
    "        'random_seed': 42,\n",
    "        'num_eval': 10,\n",
    "        'trials': 2,\n",
    "        'n_jobs': 10,\n",
    "        'verbosity': 0,\n",
    "    },\n",
    "}\n",
    "\n"
   ]
  },
  {
   "cell_type": "code",
   "execution_count": 2,
   "id": "b6ab8be2-1b4c-4370-a837-9176d15bea41",
   "metadata": {
    "execution": {
     "iopub.execute_input": "2022-06-06T15:16:52.687444Z",
     "iopub.status.busy": "2022-06-06T15:16:52.687205Z",
     "iopub.status.idle": "2022-06-06T15:16:57.389890Z",
     "shell.execute_reply": "2022-06-06T15:16:57.389193Z",
     "shell.execute_reply.started": "2022-06-06T15:16:52.687428Z"
    },
    "tags": []
   },
   "outputs": [],
   "source": [
    "import tensorflow as tf\n",
    "import tensorflow_addons as tfa\n",
    "import numpy as np\n",
    "\n",
    "from sklearn.datasets import make_classification\n",
    "from sklearn.model_selection import train_test_split\n",
    "from sklearn.tree import DecisionTreeClassifier, plot_tree\n",
    "from sklearn.metrics import accuracy_score\n",
    "from sklearn.compose import ColumnTransformer\n",
    "from sklearn.preprocessing import OneHotEncoder, MinMaxScaler, LabelEncoder, OrdinalEncoder\n",
    "from livelossplot import PlotLosses\n",
    "\n",
    "import os\n",
    "from tqdm.notebook import tqdm\n",
    "from matplotlib import pyplot as plt\n",
    "\n",
    "from IPython.display import Image\n",
    "from IPython.display import display, clear_output\n",
    "\n",
    "import pandas as pd\n",
    "\n",
    "os.environ['CUDA_VISIBLE_DEVICES'] = ''\n",
    "os.environ['TF_FORCE_GPU_ALLOW_GROWTH'] = '' #'true'\n",
    "\n",
    "import warnings\n",
    "warnings.filterwarnings('ignore')\n",
    "os.environ['TF_CPP_MIN_LOG_LEVEL'] = '3' \n",
    "import logging\n",
    "\n",
    "tf.get_logger().setLevel('ERROR')\n",
    "tf.autograph.set_verbosity(3)\n",
    "\n",
    "from keras import backend as K\n",
    "from keras.utils.generic_utils import get_custom_objects\n",
    "\n",
    "\n",
    "import seaborn as sns\n",
    "sns.set_style(\"darkgrid\")\n",
    "\n",
    "import time\n",
    "import random\n",
    "\n",
    "from utilities.utilities import *\n",
    "from utilities.DHDT import *\n",
    "\n",
    "from joblib import Parallel, delayed\n",
    "\n",
    "from itertools import product"
   ]
  },
  {
   "cell_type": "markdown",
   "id": "f2397843-32d2-4579-b197-0686f4a99b54",
   "metadata": {},
   "source": [
    "# Evaluation"
   ]
  },
  {
   "cell_type": "markdown",
   "id": "fa3e7da9-12bb-467f-919f-4fd510ce6463",
   "metadata": {},
   "source": [
    "## make_classification"
   ]
  },
  {
   "cell_type": "code",
   "execution_count": 3,
   "id": "54a13b2a-ca9d-44de-9a52-b8ca61808093",
   "metadata": {
    "execution": {
     "iopub.execute_input": "2022-06-06T14:50:13.411260Z",
     "iopub.status.busy": "2022-06-06T14:50:13.411148Z",
     "iopub.status.idle": "2022-06-06T14:56:56.053818Z",
     "shell.execute_reply": "2022-06-06T14:56:56.053292Z",
     "shell.execute_reply.started": "2022-06-06T14:50:13.411243Z"
    },
    "tags": []
   },
   "outputs": [
    {
     "name": "stderr",
     "output_type": "stream",
     "text": [
      "[Parallel(n_jobs=10)]: Using backend LokyBackend with 10 concurrent workers.\n",
      "[Parallel(n_jobs=10)]: Done   3 out of  10 | elapsed:  4.4min remaining: 10.2min\n",
      "[Parallel(n_jobs=10)]: Done   7 out of  10 | elapsed:  5.9min remaining:  2.5min\n",
      "[Parallel(n_jobs=10)]: Done  10 out of  10 | elapsed:  6.7min finished\n"
     ]
    }
   ],
   "source": [
    "identifier_list = [\n",
    "                   'make_classification',\n",
    "                  ]\n",
    "\n",
    "#model_seed_list = [i for i in range(config['computation']['trials'])]\n",
    "#data_seed_list = [i for i in range(config['computation']['num_eval'])]\n",
    "\n",
    "#combined_seed_list = list(product(model_seed_list, data_seed_list))\n",
    "\n",
    "parallel_eval = Parallel(n_jobs=config['computation']['n_jobs'], verbose=3, backend='loky') #loky #sequential multiprocessing\n",
    "evaluation_results = parallel_eval(delayed(evaluate_synthetic_parallel)(identifier_list=identifier_list, \n",
    "                                                                      random_seed_data=config['computation']['random_seed']+random_seed_data,\n",
    "                                                                      random_seed_model=config['computation']['random_seed'],#+random_seed_model,\n",
    "                                                                      trials = config['computation']['trials'],\n",
    "                                                                      config = config['make_classification'],\n",
    "                                                                      verbosity = -1) for random_seed_data in range(config['computation']['num_eval']))\n",
    "    "
   ]
  },
  {
   "cell_type": "code",
   "execution_count": 5,
   "id": "5eb2b804-f2e3-4ec9-9c06-1334d7449519",
   "metadata": {
    "execution": {
     "iopub.execute_input": "2022-06-06T15:21:47.845223Z",
     "iopub.status.busy": "2022-06-06T15:21:47.844966Z",
     "iopub.status.idle": "2022-06-06T15:21:47.861664Z",
     "shell.execute_reply": "2022-06-06T15:21:47.860901Z",
     "shell.execute_reply.started": "2022-06-06T15:21:47.845198Z"
    }
   },
   "outputs": [
    {
     "ename": "NameError",
     "evalue": "name 'evaluation_results' is not defined",
     "output_type": "error",
     "traceback": [
      "\u001b[0;31m---------------------------------------------------------------------------\u001b[0m",
      "\u001b[0;31mNameError\u001b[0m                                 Traceback (most recent call last)",
      "\u001b[0;32m/tmp/ipykernel_3940012/181524605.py\u001b[0m in \u001b[0;36m<module>\u001b[0;34m\u001b[0m\n\u001b[0;32m----> 1\u001b[0;31m \u001b[0mevaluation_results\u001b[0m\u001b[0;34m[\u001b[0m\u001b[0;36m0\u001b[0m\u001b[0;34m]\u001b[0m\u001b[0;34m\u001b[0m\u001b[0;34m\u001b[0m\u001b[0m\n\u001b[0m",
      "\u001b[0;31mNameError\u001b[0m: name 'evaluation_results' is not defined"
     ]
    }
   ],
   "source": [
    "evaluation_results[0]"
   ]
  },
  {
   "cell_type": "code",
   "execution_count": null,
   "id": "6cb9eca0-b6be-4389-960f-857e68e6b197",
   "metadata": {
    "execution": {
     "iopub.execute_input": "2022-06-06T15:22:31.027456Z",
     "iopub.status.busy": "2022-06-06T15:22:31.027200Z"
    },
    "tags": []
   },
   "outputs": [
    {
     "name": "stderr",
     "output_type": "stream",
     "text": [
      "[Parallel(n_jobs=10)]: Using backend LokyBackend with 10 concurrent workers.\n"
     ]
    }
   ],
   "source": [
    "identifier_list = [\n",
    "                   'Cervical Cancer',\n",
    "                   'Credit Card',\n",
    "                   #'Absenteeism'\n",
    "                  ]\n",
    "\n",
    "parallel_eval_real_world = Parallel(n_jobs=config['computation']['n_jobs'], verbose=3, backend='loky') #loky #sequential multiprocessing\n",
    "evaluation_results_real_world = parallel_eval_real_world(delayed(evaluate_real_world_parallel)(identifier_list=identifier_list, \n",
    "                                                                                    random_seed_model=config['computation']['random_seed']+i,\n",
    "                                                                                    verbosity = -1) for i in range(config['computation']['trials']))\n"
   ]
  },
  {
   "cell_type": "code",
   "execution_count": 5,
   "id": "516c392d-fd8e-46f9-84e5-2ddf998a7d52",
   "metadata": {
    "execution": {
     "iopub.execute_input": "2022-06-06T14:57:05.920194Z",
     "iopub.status.busy": "2022-06-06T14:57:05.920005Z",
     "iopub.status.idle": "2022-06-06T15:06:40.719854Z",
     "shell.execute_reply": "2022-06-06T15:06:40.719368Z",
     "shell.execute_reply.started": "2022-06-06T14:57:05.920173Z"
    },
    "tags": []
   },
   "outputs": [
    {
     "name": "stderr",
     "output_type": "stream",
     "text": [
      "[Parallel(n_jobs=10)]: Using backend LokyBackend with 10 concurrent workers.\n"
     ]
    },
    {
     "name": "stdout",
     "output_type": "stream",
     "text": [
      "epochs:   0%|          | 0/1000 [00:00<?, ?it/s]\n",
      "epochs:   0%|          | 0/1000 [00:00<?, ?it/s]\n",
      "epochs:   0%|          | 0/1000 [00:00<?, ?it/s]\n",
      "epochs:   0%|          | 0/1000 [00:00<?, ?it/s]\n",
      "epochs:   0%|          | 0/1000 [00:00<?, ?it/s]\n",
      "epochs:   0%|          | 0/1000 [00:00<?, ?it/s]\n",
      "epochs:   0%|          | 0/1000 [00:00<?, ?it/s]\n",
      "epochs:   0%|          | 0/1000 [00:00<?, ?it/s]\n",
      "epochs:   0%|          | 0/1000 [00:00<?, ?it/s]\n",
      "epochs:   0%|          | 0/1000 [00:00<?, ?it/s]\n",
      "epochs:   0%|          | 0/1000 [00:00<?, ?it/s]\n",
      "epochs:   0%|          | 0/1000 [00:00<?, ?it/s]\n",
      "epochs:   0%|          | 0/1000 [00:00<?, ?it/s]\n",
      "epochs:   0%|          | 0/1000 [00:00<?, ?it/s]\n",
      "epochs:   0%|          | 0/1000 [00:00<?, ?it/s]\n",
      "epochs:   0%|          | 0/1000 [00:00<?, ?it/s]\n",
      "epochs:   0%|          | 0/1000 [00:00<?, ?it/s]\n",
      "epochs:   0%|          | 0/1000 [00:00<?, ?it/s]\n",
      "epochs:   0%|          | 0/1000 [00:00<?, ?it/s]\n",
      "epochs:   0%|          | 0/1000 [00:00<?, ?it/s]\n"
     ]
    },
    {
     "name": "stderr",
     "output_type": "stream",
     "text": [
      "[Parallel(n_jobs=10)]: Done   2 out of   2 | elapsed:  9.6min remaining:    0.0s\n",
      "[Parallel(n_jobs=10)]: Done   2 out of   2 | elapsed:  9.6min finished\n"
     ]
    }
   ],
   "source": [
    "identifier_list = [\n",
    "                   'Cervical Cancer',\n",
    "                   'Credit Card',\n",
    "                   #'Absenteeism'\n",
    "                  ]\n",
    "\n",
    "parallel_eval_real_world = Parallel(n_jobs=config['computation']['n_jobs'], verbose=3, backend='multiprocessing') #loky #sequential multiprocessing\n",
    "evaluation_results_real_world = parallel_eval(delayed(evaluate_all_parallel)(identifier_list=identifier_list, \n",
    "                                                                             random_seed_model=config['computation']['random_seed']+i,\n",
    "                                                                             verbosity = -1) for i in range(config['computation']['trials']))\n"
   ]
  },
  {
   "cell_type": "code",
   "execution_count": 8,
   "id": "97b5ae58-c70c-425e-bfe4-3cd6d10c7b82",
   "metadata": {
    "execution": {
     "iopub.execute_input": "2022-06-06T15:07:53.926663Z",
     "iopub.status.busy": "2022-06-06T15:07:53.926448Z",
     "iopub.status.idle": "2022-06-06T15:07:53.930483Z",
     "shell.execute_reply": "2022-06-06T15:07:53.930079Z",
     "shell.execute_reply.started": "2022-06-06T15:07:53.926637Z"
    }
   },
   "outputs": [
    {
     "data": {
      "text/plain": [
       "2"
      ]
     },
     "execution_count": 8,
     "metadata": {},
     "output_type": "execute_result"
    }
   ],
   "source": [
    "config['computation']['trials']"
   ]
  },
  {
   "cell_type": "code",
   "execution_count": null,
   "id": "22cd992a-097c-4145-b3ad-5e819eaf3726",
   "metadata": {},
   "outputs": [],
   "source": [
    "for real_world_result in evaluation_results_real_world:\n",
    "    "
   ]
  },
  {
   "cell_type": "code",
   "execution_count": 13,
   "id": "9109d356-141f-4897-bf00-20a88a77e6c5",
   "metadata": {
    "execution": {
     "iopub.execute_input": "2022-06-06T15:09:30.472293Z",
     "iopub.status.busy": "2022-06-06T15:09:30.472026Z",
     "iopub.status.idle": "2022-06-06T15:09:30.477057Z",
     "shell.execute_reply": "2022-06-06T15:09:30.476472Z",
     "shell.execute_reply.started": "2022-06-06T15:09:30.472267Z"
    },
    "tags": []
   },
   "outputs": [
    {
     "data": {
      "text/plain": [
       "{'Cervical Cancer': {'sklearn': {'accuracy': 0.4678362573099415},\n",
       "  'DHDT': {'accuracy': 0.17543859649122806},\n",
       "  'history': None},\n",
       " 'Credit Card': {'sklearn': {'accuracy': 0.7761666666666667},\n",
       "  'DHDT': {'accuracy': 0.21883333333333332},\n",
       "  'history': None}}"
      ]
     },
     "execution_count": 13,
     "metadata": {},
     "output_type": "execute_result"
    },
    {
     "name": "stdout",
     "output_type": "stream",
     "text": [
      "epochs:   0%|          | 0/1000 [00:00<?, ?it/s]\n",
      "epochs:   0%|          | 0/1000 [00:00<?, ?it/s]\n",
      "epochs:   0%|          | 0/1000 [00:00<?, ?it/s]\n",
      "epochs:   0%|          | 0/1000 [00:00<?, ?it/s]\n"
     ]
    }
   ],
   "source": [
    "evaluation_results_real_world[0][1]"
   ]
  },
  {
   "cell_type": "code",
   "execution_count": 9,
   "id": "699a6001-da37-4c83-89bd-ca233b446422",
   "metadata": {
    "execution": {
     "iopub.execute_input": "2022-06-06T15:08:07.362424Z",
     "iopub.status.busy": "2022-06-06T15:08:07.362237Z",
     "iopub.status.idle": "2022-06-06T15:08:07.365457Z",
     "shell.execute_reply": "2022-06-06T15:08:07.365092Z",
     "shell.execute_reply.started": "2022-06-06T15:08:07.362403Z"
    },
    "tags": []
   },
   "outputs": [
    {
     "data": {
      "text/plain": [
       "2"
      ]
     },
     "execution_count": 9,
     "metadata": {},
     "output_type": "execute_result"
    }
   ],
   "source": [
    "len(evaluation_results_real_world)"
   ]
  },
  {
   "cell_type": "code",
   "execution_count": null,
   "id": "6a73bba7-c127-4e07-939e-72a1417d27cd",
   "metadata": {},
   "outputs": [],
   "source": [
    "scores_DHDT = [scores_dict[identifier]['DHDT']['accuracy'] for identifier in identifier_list]\n",
    "\n",
    "scores_sklearn = [scores_dict[identifier]['sklearn']['accuracy'] for identifier in identifier_list]\n",
    "\n",
    "scores_dataframe = pd.DataFrame(data=np.vstack([scores_DHDT, scores_sklearn]).T, index = identifier_list, columns = ['DHDT', 'sklearn'])\n",
    "scores_dataframe"
   ]
  },
  {
   "cell_type": "code",
   "execution_count": null,
   "id": "09315b63-50a1-4b2c-bfa9-d7b6d961de34",
   "metadata": {},
   "outputs": [],
   "source": [
    "parameter_grid = {\n",
    "        'depth': 3,\n",
    "        'learning_rate': [0.1, 0.05, 0.01, 0.005, 0.001, 0.0005, 0.0001],\n",
    "        \n",
    "        'loss': ['binary_crossentropy', 'rmse'],#'mae',\n",
    "        'optimizer': ['adam', 'sgd'],        \n",
    "        \n",
    "        'beta_1': [10, 50, 100],\n",
    "        'beta_2': [10, 50, 100],\n",
    "        \n",
    "        'squeeze_factor': [0.2, 0.5, 1, 2, 5],    \n",
    "}\n"
   ]
  },
  {
   "cell_type": "code",
   "execution_count": null,
   "id": "aa1e9145-2b47-467f-96df-d3bb0f83226a",
   "metadata": {
    "execution": {
     "iopub.status.busy": "2022-06-06T14:56:57.727745Z",
     "iopub.status.idle": "2022-06-06T14:56:57.727921Z",
     "shell.execute_reply": "2022-06-06T14:56:57.727832Z",
     "shell.execute_reply.started": "2022-06-06T14:56:57.727823Z"
    },
    "tags": []
   },
   "outputs": [],
   "source": [
    "scores_DHDT_make_class = [scores_dict_make_class[identifier]['DHDT']['accuracy'] for identifier in range(num_make_class_eval)]\n",
    "\n",
    "scores_sklearn_make_class = [scores_dict_make_class[identifier]['sklearn']['accuracy'] for identifier in range(num_make_class_eval)]\n"
   ]
  },
  {
   "cell_type": "markdown",
   "id": "75db42a3-560d-4f55-b2d3-ee52da3cb7f6",
   "metadata": {
    "tags": []
   },
   "source": [
    "## real-world"
   ]
  },
  {
   "cell_type": "code",
   "execution_count": null,
   "id": "a83ca2d2-73a1-4675-8d6e-4f75d096fb4d",
   "metadata": {
    "tags": []
   },
   "outputs": [],
   "source": []
  },
  {
   "cell_type": "code",
   "execution_count": null,
   "id": "8c05f2f8-19b1-4800-b9ae-85c0599f0425",
   "metadata": {
    "execution": {
     "iopub.status.busy": "2022-06-06T14:56:57.728585Z",
     "iopub.status.idle": "2022-06-06T14:56:57.728763Z",
     "shell.execute_reply": "2022-06-06T14:56:57.728674Z",
     "shell.execute_reply.started": "2022-06-06T14:56:57.728664Z"
    }
   },
   "outputs": [],
   "source": [
    "--> put eval in function \n",
    "    --> make parallel execution with different seeds / splits, etcs \n",
    "        --> compare (save all values and generate mean+std df, but keep all values)\n"
   ]
  },
  {
   "cell_type": "code",
   "execution_count": null,
   "id": "dcafb753-2e3d-4480-9998-659ff6034a78",
   "metadata": {
    "execution": {
     "iopub.status.busy": "2022-06-06T14:56:57.729512Z",
     "iopub.status.idle": "2022-06-06T14:56:57.729697Z",
     "shell.execute_reply": "2022-06-06T14:56:57.729608Z",
     "shell.execute_reply.started": "2022-06-06T14:56:57.729599Z"
    }
   },
   "outputs": [],
   "source": [
    "config['n_samples'] = 10_000\n",
    "config['number_of_variables'] = 5\n",
    "random_seed = i"
   ]
  },
  {
   "cell_type": "code",
   "execution_count": null,
   "id": "ab170fa2-c32f-402e-8b60-38b542ae3840",
   "metadata": {
    "execution": {
     "iopub.status.busy": "2022-06-06T14:56:57.730570Z",
     "iopub.status.idle": "2022-06-06T14:56:57.730757Z",
     "shell.execute_reply": "2022-06-06T14:56:57.730661Z",
     "shell.execute_reply.started": "2022-06-06T14:56:57.730651Z"
    },
    "tags": []
   },
   "outputs": [],
   "source": [
    "n_jobs = 20\n",
    "\n",
    "identifier_list = [\n",
    "                   'Cervical Cancer',\n",
    "                   'Credit Card',\n",
    "                   #'Absenteeism'\n",
    "                  ]\n",
    "\n",
    "parallel_real_world_eval = Parallel(n_jobs=n_jobs, verbose=3, backend='loky') #loky #sequential multiprocessing\n",
    "evaluation_results_by_dataset = parallel_real_world_eval(delayed(evaluate_dhdt)(identifier) for identifier in identifier_list)\n"
   ]
  },
  {
   "cell_type": "code",
   "execution_count": null,
   "id": "f03c7b89-7752-49a8-9424-306b2d1d172d",
   "metadata": {
    "execution": {
     "iopub.status.busy": "2022-06-06T14:56:57.731633Z",
     "iopub.status.idle": "2022-06-06T14:56:57.731819Z",
     "shell.execute_reply": "2022-06-06T14:56:57.731722Z",
     "shell.execute_reply.started": "2022-06-06T14:56:57.731712Z"
    },
    "tags": []
   },
   "outputs": [],
   "source": [
    "identifier_list = [\n",
    "                   'Cervical Cancer',\n",
    "                   'Credit Card',\n",
    "                   #'Absenteeism'\n",
    "                  ]\n",
    "\n",
    "trials = 20\n",
    "n_jobs = 20\n",
    "random_seed = 42\n",
    "\n",
    "parallel_real_world_eval = Parallel(n_jobs=n_jobs, verbose=3, backend='loky') #loky #sequential multiprocessing\n",
    "evaluation_results_by_dataset = parallel_real_world_eval(delayed(evaluate_all_parallel)(identifier_list=identifier_list, \n",
    "                                                                               random_seed=random_seed+i) for i in range(trials))\n"
   ]
  },
  {
   "cell_type": "code",
   "execution_count": null,
   "id": "9db3fdc5-9ae2-47ba-b4db-b2ef5988d1c0",
   "metadata": {
    "tags": []
   },
   "outputs": [],
   "source": []
  },
  {
   "cell_type": "code",
   "execution_count": null,
   "id": "4cf508df-fa1a-4c9a-9495-4adfac6c8478",
   "metadata": {
    "execution": {
     "iopub.status.busy": "2022-06-06T14:56:57.732420Z",
     "iopub.status.idle": "2022-06-06T14:56:57.732593Z",
     "shell.execute_reply": "2022-06-06T14:56:57.732507Z",
     "shell.execute_reply.started": "2022-06-06T14:56:57.732498Z"
    },
    "tags": []
   },
   "outputs": [],
   "source": [
    "identifier_list = [\n",
    "                   'Cervical Cancer',\n",
    "                   'Credit Card',\n",
    "                   #'Absenteeism'\n",
    "                  ]\n",
    "\n",
    "evaluate_all_real_world(identifier_list)"
   ]
  },
  {
   "cell_type": "code",
   "execution_count": null,
   "id": "142651c4-44b3-4598-acc2-d71f8980849c",
   "metadata": {
    "execution": {
     "iopub.status.busy": "2022-06-06T14:56:57.733280Z",
     "iopub.status.idle": "2022-06-06T14:56:57.733461Z",
     "shell.execute_reply": "2022-06-06T14:56:57.733370Z",
     "shell.execute_reply.started": "2022-06-06T14:56:57.733360Z"
    }
   },
   "outputs": [],
   "source": [
    "def evaluate_all_real_world(identifier_list):\n",
    "    \n",
    "    identifier_list = ['Cervical Cancer',\n",
    "                       'Credit Card',\n",
    "                       'Absenteeism']\n",
    "\n",
    "    dataset_dict = {}\n",
    "    model_dict = {}\n",
    "\n",
    "    scores_dict = {}\n",
    "\n",
    "    for identifier in tqdm(identifier_list, desc='dataset loop'):\n",
    "\n",
    "        print('_________________________________________________________________________________________________________________')   \n",
    "\n",
    "        dataset_dict[identifier] = {}\n",
    "        model_dict[identifier] = {}\n",
    "\n",
    "        scores_dict[identifier] = {'sklearn': {},\n",
    "                                   'DHDT': {}}\n",
    "\n",
    "        dataset_dict[identifier] = get_preprocessed_dataset(identifier)    \n",
    "\n",
    "        model_dict[identifier]['sklearn'] = DecisionTreeClassifier(max_depth=3, \n",
    "                                                                   random_state=42)\n",
    "\n",
    "        model_dict[identifier]['sklearn'].fit(dataset_dict[identifier]['X_train'], \n",
    "                                              dataset_dict[identifier]['y_train'])\n",
    "\n",
    "        scores_dict[identifier]['sklearn']['accuracy'] = model_dict[identifier]['sklearn'].score(dataset_dict[identifier]['X_test'], \n",
    "                                                                                                 dataset_dict[identifier]['y_test'])\n",
    "\n",
    "\n",
    "\n",
    "        model_dict[identifier]['DHDT'] = DHDT(depth=3,\n",
    "                                                 number_of_variables = dataset_dict[identifier]['X_train'].shape[1],\n",
    "                                                 learning_rate=1e-3,\n",
    "                                                 squeeze_factor = 1,\n",
    "                                                 loss='binary_crossentropy',#'binary_crossentropy',\n",
    "                                                 optimizer='rmsprop',\n",
    "                                                 random_seed=40,\n",
    "                                                 verbosity=0)\n",
    "\n",
    "        scores_dict[identifier]['history'] = model_dict[identifier]['DHDT'].fit(dataset_dict[identifier]['X_train'], \n",
    "                                                                              dataset_dict[identifier]['y_train'], \n",
    "                                                                              batch_size=512, \n",
    "                                                                              epochs=1_000, \n",
    "                                                                              early_stopping_epochs=50, \n",
    "                                                                              valid_data=(dataset_dict[identifier]['X_valid'], dataset_dict[identifier]['y_valid']))\n",
    "\n",
    "        dataset_dict[identifier]['y_test_dhdt'] = model_dict[identifier]['DHDT'].predict(dataset_dict[identifier]['X_test'])\n",
    "        scores_dict[identifier]['DHDT']['accuracy'] = accuracy_score(dataset_dict[identifier]['y_test'], np.round(dataset_dict[identifier]['y_test_dhdt']))\n",
    "\n",
    "        print('Test Accuracy Sklearn (' + identifier + ')', scores_dict[identifier]['sklearn']['accuracy'])\n",
    "        print('Test Accuracy DHDT (' + identifier + ')', scores_dict[identifier]['DHDT']['accuracy'])   \n",
    "        print('_________________________________________________________________________________________________________________')   \n",
    "\n",
    "    return   model_dict, scores_dict, dataset_dit\n"
   ]
  },
  {
   "cell_type": "code",
   "execution_count": null,
   "id": "6773d8d6-ba4e-42b5-b981-2edd4a323fc9",
   "metadata": {
    "execution": {
     "iopub.status.busy": "2022-06-06T14:56:57.734112Z",
     "iopub.status.idle": "2022-06-06T14:56:57.734288Z",
     "shell.execute_reply": "2022-06-06T14:56:57.734200Z",
     "shell.execute_reply.started": "2022-06-06T14:56:57.734190Z"
    },
    "tags": []
   },
   "outputs": [],
   "source": [
    "identifier_list = ['Cervical Cancer',\n",
    "                   'Credit Card',\n",
    "                   'Absenteeism']\n",
    "\n",
    "dataset_dict = {}\n",
    "model_dict = {}\n",
    "\n",
    "scores_dict = {}\n",
    "\n",
    "for identifier in tqdm(identifier_list, desc='dataset loop'):\n",
    "    \n",
    "    print('_________________________________________________________________________________________________________________')   \n",
    "    \n",
    "    dataset_dict[identifier] = {}\n",
    "    model_dict[identifier] = {}\n",
    "\n",
    "    scores_dict[identifier] = {'sklearn': {},\n",
    "                               'DHDT': {}}\n",
    "    \n",
    "    dataset_dict[identifier] = get_preprocessed_dataset(identifier)    \n",
    "\n",
    "    model_dict[identifier]['sklearn'] = DecisionTreeClassifier(max_depth=3, \n",
    "                                                               random_state=42)\n",
    "\n",
    "    model_dict[identifier]['sklearn'].fit(dataset_dict[identifier]['X_train'], \n",
    "                                          dataset_dict[identifier]['y_train'])\n",
    "\n",
    "    scores_dict[identifier]['sklearn']['accuracy'] = model_dict[identifier]['sklearn'].score(dataset_dict[identifier]['X_test'], \n",
    "                                                                                             dataset_dict[identifier]['y_test'])\n",
    "\n",
    "\n",
    "\n",
    "    model_dict[identifier]['DHDT'] = DHDT(depth=3,\n",
    "                                             number_of_variables = dataset_dict[identifier]['X_train'].shape[1],\n",
    "                                             learning_rate=1e-3,\n",
    "                                             squeeze_factor = 1,\n",
    "                                             loss='binary_crossentropy',#'binary_crossentropy',\n",
    "                                             optimizer='rmsprop',\n",
    "                                             random_seed=40,\n",
    "                                             verbosity=0)\n",
    "\n",
    "    scores_dict[identifier]['history'] = model_dict[identifier]['DHDT'].fit(dataset_dict[identifier]['X_train'], \n",
    "                                                                          dataset_dict[identifier]['y_train'], \n",
    "                                                                          batch_size=512, \n",
    "                                                                          epochs=1_000, \n",
    "                                                                          early_stopping_epochs=50, \n",
    "                                                                          valid_data=(dataset_dict[identifier]['X_valid'], dataset_dict[identifier]['y_valid']))\n",
    "\n",
    "    dataset_dict[identifier]['y_test_dhdt'] = model_dict[identifier]['DHDT'].predict(dataset_dict[identifier]['X_test'])\n",
    "    scores_dict[identifier]['DHDT']['accuracy'] = accuracy_score(dataset_dict[identifier]['y_test'], np.round(dataset_dict[identifier]['y_test_dhdt']))\n",
    "    \n",
    "    print('Test Accuracy Sklearn (' + identifier + ')', scores_dict[identifier]['sklearn']['accuracy'])\n",
    "    print('Test Accuracy DHDT (' + identifier + ')', scores_dict[identifier]['DHDT']['accuracy'])   \n",
    "    print('_________________________________________________________________________________________________________________')   \n",
    "\n",
    "    "
   ]
  },
  {
   "cell_type": "code",
   "execution_count": null,
   "id": "1901c3fe-2a4d-4efa-9864-a2e488ce9292",
   "metadata": {
    "execution": {
     "iopub.status.busy": "2022-06-06T14:56:57.735165Z",
     "iopub.status.idle": "2022-06-06T14:56:57.735352Z",
     "shell.execute_reply": "2022-06-06T14:56:57.735256Z",
     "shell.execute_reply.started": "2022-06-06T14:56:57.735246Z"
    },
    "tags": []
   },
   "outputs": [],
   "source": [
    "scores_DHDT = [scores_dict[identifier]['DHDT']['accuracy'] for identifier in identifier_list]\n",
    "\n",
    "scores_sklearn = [scores_dict[identifier]['sklearn']['accuracy'] for identifier in identifier_list]\n",
    "\n",
    "scores_dataframe = pd.DataFrame(data=np.vstack([scores_DHDT, scores_sklearn]).T, index = identifier_list, columns = ['DHDT', 'sklearn'])\n",
    "scores_dataframe"
   ]
  },
  {
   "cell_type": "code",
   "execution_count": null,
   "id": "05d34810-8e9f-418d-a2aa-caf80458179a",
   "metadata": {
    "execution": {
     "iopub.status.busy": "2022-06-06T14:56:57.735991Z",
     "iopub.status.idle": "2022-06-06T14:56:57.736185Z",
     "shell.execute_reply": "2022-06-06T14:56:57.736093Z",
     "shell.execute_reply.started": "2022-06-06T14:56:57.736083Z"
    },
    "tags": []
   },
   "outputs": [],
   "source": [
    "identifier = \"Absenteeism\"\n",
    "plt.figure(figsize=(15,8))\n",
    "image = model_dict[identifier]['DHDT'].plot(normalizer_list=dataset_dict['normalizer_list'][identifier])\n",
    "display(image)\n",
    "\n",
    "plt.figure(figsize=(15,8))\n",
    "plot_tree(model_dict[identifier]['sklearn'], fontsize=10) \n",
    "plt.show()"
   ]
  },
  {
   "cell_type": "markdown",
   "id": "4a512e12-0fc0-4e43-912a-d01d2b28c7c8",
   "metadata": {},
   "source": [
    "## Absenteeism"
   ]
  },
  {
   "cell_type": "code",
   "execution_count": null,
   "id": "32042bc9-1008-4311-8d2d-7896db8a3a12",
   "metadata": {
    "tags": []
   },
   "outputs": [],
   "source": []
  }
 ],
 "metadata": {
  "kernelspec": {
   "display_name": "Python 3 (ipykernel)",
   "language": "python",
   "name": "python3"
  },
  "language_info": {
   "codemirror_mode": {
    "name": "ipython",
    "version": 3
   },
   "file_extension": ".py",
   "mimetype": "text/x-python",
   "name": "python",
   "nbconvert_exporter": "python",
   "pygments_lexer": "ipython3",
   "version": "3.8.0"
  }
 },
 "nbformat": 4,
 "nbformat_minor": 5
}
