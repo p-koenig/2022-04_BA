{
 "cells": [
  {
   "cell_type": "code",
   "execution_count": 1,
   "id": "b6ab8be2-1b4c-4370-a837-9176d15bea41",
   "metadata": {
    "execution": {
     "iopub.execute_input": "2022-06-04T10:54:42.661953Z",
     "iopub.status.busy": "2022-06-04T10:54:42.661664Z",
     "iopub.status.idle": "2022-06-04T10:54:48.576416Z",
     "shell.execute_reply": "2022-06-04T10:54:48.575846Z",
     "shell.execute_reply.started": "2022-06-04T10:54:42.661866Z"
    },
    "tags": []
   },
   "outputs": [],
   "source": [
    "import tensorflow as tf\n",
    "import tensorflow_addons as tfa\n",
    "import numpy as np\n",
    "\n",
    "from sklearn.datasets import make_classification\n",
    "from sklearn.model_selection import train_test_split\n",
    "from sklearn.tree import DecisionTreeClassifier, plot_tree\n",
    "from sklearn.metrics import accuracy_score\n",
    "from sklearn.preprocessing import MinMaxScaler\n",
    "\n",
    "\n",
    "import os\n",
    "from tqdm.notebook import tqdm\n",
    "from matplotlib import pyplot as plt\n",
    "\n",
    "from IPython.display import Image\n",
    "from IPython.display import display, clear_output\n",
    "\n",
    "import pandas as pd\n",
    "\n",
    "os.environ['CUDA_VISIBLE_DEVICES'] = ''\n",
    "os.environ['TF_FORCE_GPU_ALLOW_GROWTH'] = '' #'true'\n",
    "\n",
    "#######################################################################################################################################\n",
    "import warnings\n",
    "warnings.filterwarnings('ignore')\n",
    "os.environ['TF_CPP_MIN_LOG_LEVEL'] = '3' \n",
    "import logging\n",
    "\n",
    "tf.get_logger().setLevel('ERROR')\n",
    "tf.autograph.set_verbosity(3)\n",
    "\n",
    "from keras import backend as K\n",
    "from keras.utils.generic_utils import get_custom_objects\n",
    "def sigmoid_squeeze(x):\n",
    "    x = 1/(1+K.exp(-3*x))\n",
    "    return x  \n"
   ]
  },
  {
   "cell_type": "code",
   "execution_count": 2,
   "id": "aa08eca3-ed45-4eca-bd81-d8d679cb13bb",
   "metadata": {
    "execution": {
     "iopub.execute_input": "2022-06-04T10:54:48.577233Z",
     "iopub.status.busy": "2022-06-04T10:54:48.577123Z",
     "iopub.status.idle": "2022-06-04T10:54:48.580199Z",
     "shell.execute_reply": "2022-06-04T10:54:48.579663Z",
     "shell.execute_reply.started": "2022-06-04T10:54:48.577218Z"
    },
    "tags": []
   },
   "outputs": [],
   "source": [
    "def make_batch(iterable, n=1):\n",
    "    l = len(iterable)\n",
    "    for ndx in range(0, l, n):\n",
    "        yield iterable[ndx:min(ndx + n, l)]    "
   ]
  },
  {
   "cell_type": "code",
   "execution_count": 3,
   "id": "dc0c3ac7-7321-4224-8ffd-b103b1b669fc",
   "metadata": {
    "execution": {
     "iopub.execute_input": "2022-06-04T10:54:48.581311Z",
     "iopub.status.busy": "2022-06-04T10:54:48.581206Z",
     "iopub.status.idle": "2022-06-04T10:54:48.639430Z",
     "shell.execute_reply": "2022-06-04T10:54:48.638800Z",
     "shell.execute_reply.started": "2022-06-04T10:54:48.581298Z"
    },
    "tags": []
   },
   "outputs": [],
   "source": [
    "def normalize_real_world_data(X_data):\n",
    "    normalizer_list = []\n",
    "    if isinstance(X_data, pd.DataFrame):\n",
    "        for column_name in X_data:\n",
    "            scaler = MinMaxScaler()\n",
    "            scaler.fit(X_data[column_name].values.reshape(-1, 1))\n",
    "            X_data[column_name] = scaler.transform(X_data[column_name].values.reshape(-1, 1)).ravel()\n",
    "            normalizer_list.append(scaler)\n",
    "    else:\n",
    "        for i, column in enumerate(X_data.T):\n",
    "            scaler = MinMaxScaler()\n",
    "            scaler.fit(column.reshape(-1, 1))\n",
    "            X_data[:,i] = scaler.transform(column.reshape(-1, 1)).ravel()\n",
    "            normalizer_list.append(scaler)\n",
    "        \n",
    "    return X_data, normalizer_list"
   ]
  },
  {
   "cell_type": "code",
   "execution_count": 4,
   "id": "c58193a0-9fea-4be3-8aca-d8f14b3480e2",
   "metadata": {
    "execution": {
     "iopub.execute_input": "2022-06-04T10:54:48.640421Z",
     "iopub.status.busy": "2022-06-04T10:54:48.640250Z",
     "iopub.status.idle": "2022-06-04T10:54:48.795231Z",
     "shell.execute_reply": "2022-06-04T10:54:48.794567Z",
     "shell.execute_reply.started": "2022-06-04T10:54:48.640397Z"
    }
   },
   "outputs": [
    {
     "data": {
      "text/plain": [
       "<tf.Tensor: shape=(3,), dtype=float32, numpy=array([0., 0., 1.], dtype=float32)>"
      ]
     },
     "execution_count": 4,
     "metadata": {},
     "output_type": "execute_result"
    }
   ],
   "source": [
    "tfa.activations.sparsemax([1.,3.,5.])"
   ]
  },
  {
   "cell_type": "code",
   "execution_count": 5,
   "id": "b1576279-fe14-4861-964f-1f8ebb0a1608",
   "metadata": {
    "execution": {
     "iopub.execute_input": "2022-06-04T10:54:48.796172Z",
     "iopub.status.busy": "2022-06-04T10:54:48.795985Z",
     "iopub.status.idle": "2022-06-04T10:54:48.831167Z",
     "shell.execute_reply": "2022-06-04T10:54:48.830653Z",
     "shell.execute_reply.started": "2022-06-04T10:54:48.796154Z"
    }
   },
   "outputs": [
    {
     "data": {
      "text/plain": [
       "<tf.Tensor: shape=(3,), dtype=float32, numpy=array([0., 0., 1.], dtype=float32)>"
      ]
     },
     "execution_count": 5,
     "metadata": {},
     "output_type": "execute_result"
    }
   ],
   "source": [
    "tfa.seq2seq.hardmax([1.,3.,5.])"
   ]
  },
  {
   "cell_type": "code",
   "execution_count": 6,
   "id": "86901d32-132c-4737-83fa-a789d46e3fe2",
   "metadata": {
    "execution": {
     "iopub.execute_input": "2022-06-04T10:54:48.832279Z",
     "iopub.status.busy": "2022-06-04T10:54:48.831914Z",
     "iopub.status.idle": "2022-06-04T10:54:48.911099Z",
     "shell.execute_reply": "2022-06-04T10:54:48.910568Z",
     "shell.execute_reply.started": "2022-06-04T10:54:48.832253Z"
    },
    "tags": []
   },
   "outputs": [
    {
     "data": {
      "text/plain": [
       "<tf.Tensor: shape=(), dtype=float32, numpy=0.9>"
      ]
     },
     "execution_count": 6,
     "metadata": {},
     "output_type": "execute_result"
    }
   ],
   "source": [
    "tf.keras.activations.hard_sigmoid(tf.constant(2.))"
   ]
  },
  {
   "cell_type": "code",
   "execution_count": 7,
   "id": "2d7d2dfc-8d2e-4c37-b257-e33fa853aaeb",
   "metadata": {
    "execution": {
     "iopub.execute_input": "2022-06-04T10:54:48.911832Z",
     "iopub.status.busy": "2022-06-04T10:54:48.911718Z",
     "iopub.status.idle": "2022-06-04T10:54:48.957158Z",
     "shell.execute_reply": "2022-06-04T10:54:48.956530Z",
     "shell.execute_reply.started": "2022-06-04T10:54:48.911817Z"
    },
    "tags": []
   },
   "outputs": [
    {
     "data": {
      "text/plain": [
       "<tf.Tensor: shape=(), dtype=float32, numpy=1.0>"
      ]
     },
     "execution_count": 7,
     "metadata": {},
     "output_type": "execute_result"
    }
   ],
   "source": [
    "tf.sigmoid(1000*0.1)"
   ]
  },
  {
   "cell_type": "code",
   "execution_count": 8,
   "id": "cf86db3b-ecdc-4135-8887-7308e9eff00c",
   "metadata": {
    "execution": {
     "iopub.execute_input": "2022-06-04T10:54:48.957920Z",
     "iopub.status.busy": "2022-06-04T10:54:48.957801Z",
     "iopub.status.idle": "2022-06-04T10:54:48.991620Z",
     "shell.execute_reply": "2022-06-04T10:54:48.990872Z",
     "shell.execute_reply.started": "2022-06-04T10:54:48.957906Z"
    },
    "tags": []
   },
   "outputs": [
    {
     "data": {
      "text/plain": [
       "<tf.Tensor: shape=(3,), dtype=float32, numpy=array([0., 1., 0.], dtype=float32)>"
      ]
     },
     "execution_count": 8,
     "metadata": {},
     "output_type": "execute_result"
    }
   ],
   "source": [
    "tfa.activations.sparsemax([1., 9, 6])"
   ]
  },
  {
   "cell_type": "code",
   "execution_count": 9,
   "id": "4f2cbe97-681d-4d9f-ac92-89c5ec9e441d",
   "metadata": {
    "execution": {
     "iopub.execute_input": "2022-06-04T10:54:48.995095Z",
     "iopub.status.busy": "2022-06-04T10:54:48.994747Z",
     "iopub.status.idle": "2022-06-04T10:54:49.048825Z",
     "shell.execute_reply": "2022-06-04T10:54:49.047968Z",
     "shell.execute_reply.started": "2022-06-04T10:54:48.995059Z"
    },
    "tags": []
   },
   "outputs": [
    {
     "data": {
      "text/plain": [
       "<tf.Tensor: shape=(0,), dtype=float32, numpy=array([], dtype=float32)>"
      ]
     },
     "execution_count": 9,
     "metadata": {},
     "output_type": "execute_result"
    }
   ],
   "source": [
    "function_values_dhdt = tf.reshape(tf.constant([], tf.float32), shape=(0,))\n",
    "function_values_dhdt"
   ]
  },
  {
   "cell_type": "code",
   "execution_count": 10,
   "id": "ca547920-c17d-4199-a935-8c6b7878ca97",
   "metadata": {
    "execution": {
     "iopub.execute_input": "2022-06-04T10:54:49.050096Z",
     "iopub.status.busy": "2022-06-04T10:54:49.049778Z",
     "iopub.status.idle": "2022-06-04T10:54:49.081505Z",
     "shell.execute_reply": "2022-06-04T10:54:49.080819Z",
     "shell.execute_reply.started": "2022-06-04T10:54:49.050060Z"
    },
    "tags": []
   },
   "outputs": [
    {
     "data": {
      "text/plain": [
       "<tf.Tensor: shape=(1,), dtype=float32, numpy=array([1.], dtype=float32)>"
      ]
     },
     "execution_count": 10,
     "metadata": {},
     "output_type": "execute_result"
    }
   ],
   "source": [
    "tf.concat([function_values_dhdt, tf.constant([1.])], 0)"
   ]
  },
  {
   "cell_type": "code",
   "execution_count": 11,
   "id": "2b00c43a-52bc-48a0-b38a-a10a9d48133b",
   "metadata": {
    "execution": {
     "iopub.execute_input": "2022-06-04T10:54:49.082770Z",
     "iopub.status.busy": "2022-06-04T10:54:49.082498Z",
     "iopub.status.idle": "2022-06-04T10:54:49.097770Z",
     "shell.execute_reply": "2022-06-04T10:54:49.097126Z",
     "shell.execute_reply.started": "2022-06-04T10:54:49.082741Z"
    },
    "tags": []
   },
   "outputs": [
    {
     "data": {
      "text/plain": [
       "<tf.Tensor: shape=(4,), dtype=int32, numpy=array([0, 2, 3, 1], dtype=int32)>"
      ]
     },
     "execution_count": 11,
     "metadata": {},
     "output_type": "execute_result"
    }
   ],
   "source": [
    "tf.concat([tf.constant([0,2,3]), tf.constant([1])], 0)"
   ]
  },
  {
   "cell_type": "code",
   "execution_count": 12,
   "id": "f2e6c81c-f508-40c5-a440-c88c1b833d66",
   "metadata": {
    "execution": {
     "iopub.execute_input": "2022-06-04T10:54:49.099038Z",
     "iopub.status.busy": "2022-06-04T10:54:49.098777Z",
     "iopub.status.idle": "2022-06-04T10:54:49.126496Z",
     "shell.execute_reply": "2022-06-04T10:54:49.125827Z",
     "shell.execute_reply.started": "2022-06-04T10:54:49.099009Z"
    }
   },
   "outputs": [
    {
     "data": {
      "text/plain": [
       "<tf.Tensor: shape=(100,), dtype=float32, numpy=\n",
       "array([0., 0., 0., 0., 0., 0., 0., 0., 0., 0., 0., 0., 0., 0., 0., 0., 0.,\n",
       "       0., 0., 0., 0., 0., 0., 0., 0., 0., 0., 0., 0., 0., 0., 0., 0., 0.,\n",
       "       0., 0., 0., 0., 0., 0., 0., 0., 0., 0., 0., 0., 0., 0., 0., 0., 0.,\n",
       "       0., 0., 0., 0., 0., 0., 0., 0., 0., 0., 0., 0., 0., 0., 0., 0., 0.,\n",
       "       0., 0., 0., 0., 0., 0., 0., 0., 0., 0., 0., 0., 0., 0., 0., 0., 0.,\n",
       "       0., 0., 0., 0., 0., 0., 0., 0., 0., 0., 0., 0., 0., 0., 0.],\n",
       "      dtype=float32)>"
      ]
     },
     "execution_count": 12,
     "metadata": {},
     "output_type": "execute_result"
    }
   ],
   "source": [
    "tf.zeros(shape=(100,))"
   ]
  },
  {
   "cell_type": "code",
   "execution_count": null,
   "id": "d6da5c63-bd40-4bd2-b72e-7d69aca5f842",
   "metadata": {},
   "outputs": [],
   "source": []
  },
  {
   "cell_type": "code",
   "execution_count": 13,
   "id": "a3f2e596-9bb2-4026-890e-7b42365e81f7",
   "metadata": {
    "execution": {
     "iopub.execute_input": "2022-06-04T10:54:49.128211Z",
     "iopub.status.busy": "2022-06-04T10:54:49.127714Z",
     "iopub.status.idle": "2022-06-04T10:54:49.200606Z",
     "shell.execute_reply": "2022-06-04T10:54:49.200155Z",
     "shell.execute_reply.started": "2022-06-04T10:54:49.128175Z"
    },
    "tags": []
   },
   "outputs": [],
   "source": [
    "class DHDT(tf.Module):\n",
    "    \n",
    "    def __init__(\n",
    "            self,\n",
    "            depth=3,\n",
    "            function_representation_type = 3,\n",
    "            number_of_variables = 5,\n",
    "            learning_rate=1e-3,\n",
    "            loss='binary_crossentropy',#'mae',\n",
    "            optimizer = 'adam',\n",
    "            random_seed=42,\n",
    "            verbosity=1):    \n",
    "        \n",
    "        \n",
    "        self.depth = depth\n",
    "        self.learning_rate = learning_rate\n",
    "        self.loss = tf.keras.losses.get(loss)\n",
    "        self.seed = random_seed\n",
    "        self.verbosity = verbosity\n",
    "        self.function_representation_type = function_representation_type\n",
    "        self.number_of_variables = number_of_variables\n",
    "        \n",
    "        self.internal_node_num_ = 2 ** self.depth - 1 \n",
    "        self.leaf_node_num_ = 2 ** self.depth\n",
    "        \n",
    "        tf.random.set_seed(self.seed)\n",
    "        \n",
    "        function_representation_length = ( \n",
    "          (2 ** self.depth - 1) * 2 + (2 ** self.depth)  if self.function_representation_type == 1 \n",
    "          else (2 ** self.depth - 1) + ((2 ** self.depth - 1) * self.number_of_variables) + (2 ** self.depth) if self.function_representation_type == 2 \n",
    "          else ((2 ** self.depth - 1) * self.number_of_variables * 2) + (2 ** self.depth)  if self.function_representation_type >= 3 \n",
    "          else None\n",
    "                                      )        \n",
    "        \n",
    "        self.dt_params =  tf.Variable(tf.keras.initializers.GlorotUniform(seed=self.seed)(shape=(function_representation_length,)),\n",
    "                                      trainable=True,\n",
    "                                      name='dt_params')\n",
    "        \n",
    "        tf.print(self.dt_params)\n",
    "        \n",
    "        maximum_depth = self.depth\n",
    "        leaf_node_num_ = 2 ** maximum_depth\n",
    "        internal_node_num_ = 2 ** maximum_depth - 1\n",
    "        \n",
    "        #dt_params_activation = self.dt_params#self.apply_activation(self.dt_params)\n",
    "        \n",
    "        #internal_nodes, leaf_nodes = self.get_shaped_parameters_for_decision_tree(dt_params_activation)\n",
    "\n",
    "        internal_node_num_ = self.internal_node_num_\n",
    "        leaf_node_num_ = self.leaf_node_num_\n",
    "\n",
    "        split_values_num_params = self.number_of_variables * internal_node_num_\n",
    "        split_index_num_params = self.number_of_variables * internal_node_num_\n",
    "        leaf_classes_num_params = self.leaf_node_num_         \n",
    "        \n",
    "        self.split_values = tf.Variable(tf.keras.initializers.GlorotUniform(seed=self.seed)(shape=(split_values_num_params,)),\n",
    "                                      trainable=True,\n",
    "                                      name='dt_params')\n",
    "        #tf.sigmoid(self.dt_params[:split_values_num_params])\n",
    "        self.split_index_array = tf.Variable(tf.keras.initializers.GlorotUniform(seed=self.seed)(shape=(split_index_num_params,)),\n",
    "                                      trainable=True,\n",
    "                                      name='dt_params')\n",
    "        #self.dt_params[split_values_num_params:split_values_num_params+split_index_num_params]    \n",
    "        self.leaf_classes_array = tf.Variable(tf.keras.initializers.GlorotUniform(seed=self.seed)(shape=(leaf_classes_num_params,)),\n",
    "                                      trainable=True,\n",
    "                                      name='dt_params')\n",
    "        #tf.sigmoid(self.dt_params[split_values_num_params+split_index_num_params:])        \n",
    "        \n",
    "        self.optimizer = tf.keras.optimizers.get(optimizer)\n",
    "        self.optimizer.learning_rate = self.learning_rate\n",
    "        \n",
    "    def fit(self, X, y, batch_size=32, epochs=100, early_stopping_epochs=5):\n",
    "        \n",
    "        minimum_loss_epoch = np.inf\n",
    "        epochs_without_improvement = 0        \n",
    "        \n",
    "        for current_epoch in tqdm(range(epochs)):\n",
    "            tf.random.set_seed(self.seed + current_epoch)\n",
    "            X = tf.random.shuffle(X, seed=self.seed + current_epoch)\n",
    "            tf.random.set_seed(self.seed + current_epoch)\n",
    "            y = tf.random.shuffle(y, seed=self.seed + current_epoch)\n",
    "            \n",
    "            loss_list = []\n",
    "            for index, (X_batch, y_batch) in enumerate(zip(make_batch(X, batch_size), make_batch(y, batch_size))):\n",
    "                current_loss = self.backward(X_batch, y_batch)\n",
    "                loss_list.append(float(current_loss))\n",
    "                \n",
    "                if self.verbosity >= 2:\n",
    "                    batch_idx = (index+1)*batch_size\n",
    "                    msg = \"Epoch: {:02d} | Batch: {:03d} | Loss: {:.5f} |\"\n",
    "                    print(msg.format(current_epoch, batch_idx, current_loss))                   \n",
    "                  \n",
    "            if self.verbosity > 0:    \n",
    "                msg = \"Epoch: {:02d} | Loss: {:.5f} |\"\n",
    "                print(msg.format(current_epoch, np.mean(loss_list)))              \n",
    "            \n",
    "            current_loss_epoch = np.mean(loss_list)\n",
    "\n",
    "            if current_loss_epoch < minimum_loss_epoch:\n",
    "                minimum_loss_epoch = current_loss_epoch\n",
    "                epochs_without_improvement = 0\n",
    "            else:\n",
    "                epochs_without_improvement += 1\n",
    "                \n",
    "            if epochs_without_improvement >= early_stopping_epochs:\n",
    "                break\n",
    "    \n",
    "    \n",
    "    \n",
    "    @tf.function(jit_compile=True)                    \n",
    "    def forward(self, X):\n",
    "        X = tf.dtypes.cast(tf.convert_to_tensor(X), tf.float32)       \n",
    "\n",
    "        internal_node_num_ = self.internal_node_num_\n",
    "        leaf_node_num_ = self.leaf_node_num_\n",
    "\n",
    "        split_values_num_params = self.number_of_variables * internal_node_num_\n",
    "        split_index_num_params = self.number_of_variables * internal_node_num_\n",
    "        leaf_classes_num_params = self.leaf_node_num_             \n",
    "\n",
    "        paths = [[0,1,3], [0,1,4], [0,2,5], [0,2,6]]\n",
    "\n",
    "        #split_index_array = tfa.seq2seq.hardmax(tf.reshape(split_index_array, (internal_node_num_, -1)))\n",
    "        #function_values_dhdt = tf.reshape(tf.constant([], tf.float32), shape=(0,)) #[]\n",
    "        #function_values_dhdt = tf.zeros(shape=(X.shape[0],)) #[]\n",
    "        #entry_index = 0\n",
    "        #for entry in tf.unstack(X):\n",
    "            \n",
    "\n",
    "\n",
    "        def process(entry):\n",
    "            result = 0\n",
    "            for leaf_index, path in enumerate(paths):\n",
    "                path_result_left = 1\n",
    "                path_result_right = 1\n",
    "                for internal_node_index in path: \n",
    "                    \n",
    "                    \n",
    "                    #tf.print(path, internal_node_index)\n",
    "                    #split_index = tfa.seq2seq.hardmax(self.split_index_array[self.number_of_variables*internal_node_index:self.number_of_variables*(internal_node_index+1)])\n",
    "                    split_index = tfa.activations.sparsemax(10 * self.split_index_array[self.number_of_variables*internal_node_index:self.number_of_variables*(internal_node_index+1)])                        \n",
    "                    \n",
    "                    #split_values = tf.sigmoid(self.split_values[self.number_of_variables*internal_node_index:self.number_of_variables*(internal_node_index+1)])\n",
    "                    #split_values = sigmoid_squeeze(self.split_values[self.number_of_variables*internal_node_index:self.number_of_variables*(internal_node_index+1)])\n",
    "                    split_values = self.split_values[self.number_of_variables*internal_node_index:self.number_of_variables*(internal_node_index+1)]\n",
    "                    \n",
    "                    internal_node_split_value = tf.reduce_sum(split_index*split_values)\n",
    "                    respective_input_value = tf.reduce_sum(split_index*entry)\n",
    "\n",
    "\n",
    "                    #tf.print('internal_node_split_value', internal_node_split_value)\n",
    "                    #tf.print('respective_input_value', respective_input_value)\n",
    "\n",
    "                    #split_decision = tf.keras.activations.relu(tf.math.sign(respective_input_value - internal_node_split_value - 0.5))\n",
    "                    split_decision = tf.sigmoid(1000 * (respective_input_value - internal_node_split_value - 0.5))\n",
    "\n",
    "                    #tf.print('split_decision', split_decision)\n",
    "\n",
    "\n",
    "                    path_result_left *= split_decision\n",
    "                    path_result_right *= (1 - split_decision)\n",
    "\n",
    "                    #tf.print('path_result_left', path_result_left)\n",
    "                    #tf.print('path_result_right', path_result_right)\n",
    "\n",
    "                #tf.print('path_result_left', path_result_left, summarize=-1)\n",
    "                #tf.print('path_result_right', path_result_right, summarize=-1)\n",
    "                #tf.print('tf.sigmoid(self.leaf_classes_array)', tf.sigmoid(self.leaf_classes_array), summarize=-1)\n",
    "                \n",
    "                result += tf.sigmoid(self.leaf_classes_array)[leaf_index*2] * path_result_left + tf.sigmoid(self.leaf_classes_array)[leaf_index*2+1] * path_result_right\n",
    "                #result += self.leaf_classes_array[leaf_index*2] * path_result_left + self.leaf_classes_array[leaf_index*2+1] * path_result_right\n",
    "                #tf.print(result)\n",
    "            return result\n",
    "            #tf.print('RESULT', result)\n",
    "\n",
    "            #function_values_dhdt.append(result)\n",
    "            #tf.autograph.experimental.set_loop_options(\n",
    "            #        shape_invariants=[(function_values_dhdt, tf.TensorShape([None]))]\n",
    "            #    )            \n",
    "            #function_values_dhdt = tf.concat([function_values_dhdt, [result]], 0)\n",
    "            #function_values_dhdt[entry_index] = result\n",
    "            #entry_index += 1\n",
    "        #function_values_dhdt = tf.stack(function_values_dhdt)\n",
    "        #tf.print('function_values_dhdt', function_values_dhdt)\n",
    "\n",
    "        function_values_dhdt = tf.vectorized_map(process, X)\n",
    "        \n",
    "        return function_values_dhdt  \n",
    "           \n",
    "    def predict(self, X):\n",
    "        return self.forward(X)\n",
    "        \n",
    "    def backward(self, x,y):\n",
    "        #optimizer = tf.keras.optimizers.Adam(learning_rate=self.learning_rate)#tf.compat.v1.train.GradientDescentOptimizer(learning_rate=0.01)\n",
    "        with tf.GradientTape(persistent=True) as tape:\n",
    "            #tape.watch(self.dt_params)\n",
    "            predicted = self.forward(x)\n",
    "            current_loss = self.loss(y, predicted)\n",
    "            \n",
    "        #tf.print('predicted', predicted)\n",
    "        #tf.print('current_loss', current_loss, summarize=-1)\n",
    "        #tf.print('self.dt_params', self.dt_params, summarize=-1)\n",
    "        grads = tape.gradient(current_loss, self.leaf_classes_array)\n",
    "        self.optimizer.apply_gradients(zip([grads], [self.leaf_classes_array]))\n",
    "        #tf.print('grads', grads, summarize=-1)        \n",
    "        \n",
    "        grads = tape.gradient(current_loss, self.split_values)\n",
    "        self.optimizer.apply_gradients(zip([grads], [self.split_values]))\n",
    "        #tf.print('grads', grads, summarize=-1)\n",
    "        grads = tape.gradient(current_loss, self.split_index_array)\n",
    "        self.optimizer.apply_gradients(zip([grads], [self.split_index_array]))\n",
    "        #tf.print('grads', grads, summarize=-1)\n",
    "\n",
    "        #optimizer.apply_gradients(zip(grads, self.dt_params),\n",
    "        #                          global_step=tf.compat.v1.train.get_or_create_global_step())     \n",
    "        \n",
    "        #self.optimizer.apply_gradients(zip([grads], [self.dt_params]))\n",
    "        #tf.print('self.dt_params', self.dt_params, summarize=-1)\n",
    "        return current_loss\n",
    "        \n",
    "    \n",
    "    def apply_activation(self, dt_params):\n",
    "\n",
    "        dt_params_activation = dt_params\n",
    "        \n",
    "        if self.function_representation_type == 1:\n",
    "            pass\n",
    "        elif self.function_representation_type == 2:\n",
    "            pass\n",
    "        elif self.function_representation_type >= 3:\n",
    "            outputs_coeff_neurons_num_ = self.internal_node_num_ * self.number_of_variables\n",
    "\n",
    "            #if self.function_representation_type == 3:\n",
    "            #    dt_params_activation[:outputs_coeff_neurons_num_].assign(tf.math.sigmoid(dt_params[:outputs_coeff_neurons_num_]))\n",
    "            #elif self.function_representation_type == 4:\n",
    "            #    dt_params_activation[:outputs_coeff_neurons_num_].assign(sigmoid_squeeze(dt_params[:outputs_coeff_neurons_num_]))\n",
    "\n",
    "            current_position = outputs_coeff_neurons_num_\n",
    "            for outputs_index in range(self.internal_node_num_):\n",
    "                outputs_identifer_neurons = self.number_of_variables\n",
    "\n",
    "                #dt_params_activation[current_position:current_position+outputs_identifer_neurons].assign(tf.math.softmax(dt_params[current_position:current_position+outputs_identifer_neurons]))\n",
    "                current_position += outputs_identifer_neurons\n",
    "\n",
    "            dt_params_activation[current_position:].assign(tf.math.sigmoid(dt_params[current_position:]))\n",
    "\n",
    "        \n",
    "        return dt_params_activation\n",
    "    \n",
    "    def get_shaped_parameters_for_decision_tree(self, parameter_array):\n",
    "\n",
    "        internal_node_num_ = 2 ** self.depth - 1 \n",
    "        leaf_node_num_ = 2 ** self.depth\n",
    "\n",
    "        if self.function_representation_type == 1:\n",
    "\n",
    "            splits_coeff = parameter_array[:internal_node_num_]\n",
    "            splits_coeff = tf.clip_by_value(splits_coeff, clip_value_min=0, clip_value_max=1)\n",
    "            splits_coeff_list = tf.split(splits_coeff, internal_node_num_)\n",
    "            splits_index = tf.cast(tf.clip_by_value(tf.round(parameter_array[internal_node_num_:internal_node_num_*2]), clip_value_min=0, clip_value_max=self.number_of_variables-1), tf.int64)\n",
    "            splits_index_list = tf.split(splits_index, internal_node_num_)\n",
    "\n",
    "            splits_list = []\n",
    "            for values_node, indices_node in zip(splits_coeff_list, splits_index_list):\n",
    "                sparse_tensor = tf.sparse.SparseTensor(indices=tf.expand_dims(indices_node, axis=1), values=values_node, dense_shape=[self.number_of_variables])\n",
    "                dense_tensor = tf.sparse.to_dense(sparse_tensor)\n",
    "                splits_list.append(dense_tensor)             \n",
    "\n",
    "            splits = tf.stack(splits_list)            \n",
    "\n",
    "            leaf_classes = parameter_array[internal_node_num_*2:]  \n",
    "            leaf_classes = tf.clip_by_value(leaf_classes, clip_value_min=0, clip_value_max=1)\n",
    "\n",
    "        elif self.function_representation_type == 2:\n",
    "\n",
    "            split_values_num_params = internal_node_num_ \n",
    "            split_index_num_params = self.number_of_variables * internal_node_num_\n",
    "            leaf_classes_num_params = leaf_node_num_ \n",
    "\n",
    "            split_values = parameter_array[:split_values_num_params]\n",
    "            split_values_list_by_internal_node = tf.split(split_values, internal_node_num_)\n",
    "\n",
    "            split_index_array = parameter_array[split_values_num_params:split_values_num_params+split_index_num_params]    \n",
    "            split_index_list_by_internal_node = tf.split(split_index_array, internal_node_num_)\n",
    "            split_index_list_by_internal_node_by_decision_sparsity = []\n",
    "            for tensor in split_index_list_by_internal_node:\n",
    "                split_tensor = tf.split(tensor, 1)\n",
    "                split_index_list_by_internal_node_by_decision_sparsity.append(split_tensor)\n",
    "            split_index_list_by_internal_node_by_decision_sparsity_argmax = tf.split(tf.argmax(split_index_list_by_internal_node_by_decision_sparsity, axis=2), internal_node_num_)\n",
    "            split_index_list_by_internal_node_by_decision_sparsity_argmax_new = []\n",
    "            for tensor in split_index_list_by_internal_node_by_decision_sparsity_argmax:\n",
    "                tensor_squeeze = tf.squeeze(tensor, axis=0)\n",
    "                split_index_list_by_internal_node_by_decision_sparsity_argmax_new.append(tensor_squeeze)\n",
    "            split_index_list_by_internal_node_by_decision_sparsity_argmax = split_index_list_by_internal_node_by_decision_sparsity_argmax_new    \n",
    "            dense_tensor_list = []\n",
    "            for indices_node, values_node in zip(split_index_list_by_internal_node_by_decision_sparsity_argmax,  split_values_list_by_internal_node):\n",
    "                sparse_tensor = tf.sparse.SparseTensor(indices=tf.expand_dims(indices_node, axis=1), values=values_node, dense_shape=[self.number_of_variables])\n",
    "                dense_tensor = tf.sparse.to_dense(sparse_tensor)\n",
    "                dense_tensor_list.append(dense_tensor) \n",
    "            splits = tf.stack(dense_tensor_list)\n",
    "\n",
    "            leaf_classes_array = parameter_array[split_values_num_params+split_index_num_params:]  \n",
    "            split_index_list_by_leaf_node = tf.split(leaf_classes_array, leaf_node_num_)\n",
    "\n",
    "            leaf_classes = tf.squeeze(tf.stack(split_index_list_by_leaf_node))\n",
    "\n",
    "        elif self.function_representation_type >= 3:\n",
    "\n",
    "            split_values_num_params = self.number_of_variables * internal_node_num_\n",
    "            split_index_num_params = self.number_of_variables * internal_node_num_\n",
    "            leaf_classes_num_params = leaf_node_num_ \n",
    "\n",
    "            split_values = parameter_array[:split_values_num_params]\n",
    "            split_values_list_by_internal_node = tf.split(split_values, internal_node_num_)\n",
    "\n",
    "            split_index_array = parameter_array[split_values_num_params:split_values_num_params+split_index_num_params]    \n",
    "            split_index_list_by_internal_node = tf.split(split_index_array, internal_node_num_)         \n",
    "\n",
    "            split_index_list_by_internal_node_max = tfa.seq2seq.hardmax(split_index_list_by_internal_node)#tfa.activations.sparsemax(split_index_list_by_internal_node)\n",
    "\n",
    "            splits = tf.stack(tf.multiply(split_values_list_by_internal_node, split_index_list_by_internal_node_max))\n",
    "\n",
    "            leaf_classes_array = parameter_array[split_values_num_params+split_index_num_params:]  \n",
    "            split_index_list_by_leaf_node = tf.split(leaf_classes_array, leaf_node_num_)\n",
    "\n",
    "            leaf_classes = tf.squeeze(tf.stack(split_index_list_by_leaf_node))\n",
    "\n",
    "\n",
    "\n",
    "        return splits, leaf_classes\n",
    "\n",
    "    def plot(self, normalizer_list=None, path='./dt_plot.png'):\n",
    "        from anytree import Node, RenderTree\n",
    "        from anytree.exporter import DotExporter\n",
    "\n",
    "        internal_node_num_ = 2 ** self.depth - 1 \n",
    "        \n",
    "        split_values = self.split_values\n",
    "        split_values_list_by_internal_node = tf.split(split_values, internal_node_num_)\n",
    "\n",
    "        split_index_array = self.split_index_array \n",
    "        split_index_list_by_internal_node = tf.split(split_index_array, internal_node_num_)         \n",
    "\n",
    "        split_index_list_by_internal_node_max = tfa.seq2seq.hardmax(split_index_list_by_internal_node)#tfa.activations.sparsemax(split_index_list_by_internal_node)\n",
    "\n",
    "        splits = tf.stack(tf.multiply(split_values_list_by_internal_node, split_index_list_by_internal_node_max))\n",
    "\n",
    "        \n",
    "        splits = splits.numpy()\n",
    "        leaf_classes = tf.sigmoid(self.leaf_classes_array).numpy()\n",
    "\n",
    "\n",
    "        if normalizer_list is not None: \n",
    "            transpose = splits.transpose()\n",
    "            transpose_normalized = []\n",
    "            for i, column in enumerate(transpose):\n",
    "                column_new = column\n",
    "                if len(column_new[column_new != 0]) != 0:\n",
    "                    column_new[column_new != 0] = normalizer_list[i].inverse_transform(column[column != 0].reshape(-1, 1)).ravel()\n",
    "                #column_new = normalizer_list[i].inverse_transform(column.reshape(-1, 1)).ravel()\n",
    "                transpose_normalized.append(column_new)\n",
    "            splits = np.array(transpose_normalized).transpose()\n",
    "\n",
    "        splits_by_layer = []\n",
    "        for i in range(self.depth+1):\n",
    "            start = 2**i - 1\n",
    "            end = 2**(i+1) -1\n",
    "            splits_by_layer.append(splits[start:end])\n",
    "\n",
    "        nodes = {\n",
    "        }\n",
    "        #tree = Tree()\n",
    "        for i, splits in enumerate(splits_by_layer):\n",
    "            for j, split in enumerate(splits):\n",
    "                if i == 0:\n",
    "                    current_node_id = int(2**i - 1 + j)\n",
    "                    name = 'n' + str(current_node_id)#'l' + str(i) + 'n' + str(j)\n",
    "                    split_variable = np.argmax(np.abs(split))\n",
    "                    split_value = np.round(split[split_variable], 3)\n",
    "                    split_description = 'x' + str(split_variable) + ' <= '  + str(split_value)\n",
    "\n",
    "                    nodes[name] = Node(name=name, display_name=split_description)\n",
    "\n",
    "                    #tree.create_node(tag=split_description, identifier=name, data=None)            \n",
    "                else:\n",
    "                    current_node_id = int(2**i - 1 + j)\n",
    "                    name = 'n' + str(current_node_id)#'l' + str(i) + 'n' + str(j)\n",
    "                    parent_node_id = int(np.floor((current_node_id-1)/2))\n",
    "                    parent_name = 'n' + str(parent_node_id)\n",
    "                    split_variable = np.argmax(np.abs(split))\n",
    "                    split_value = np.round(split[split_variable], 3)\n",
    "                    split_description = 'x' + str(split_variable) + ' <= '  + str(split_value)\n",
    "\n",
    "                    nodes[name] = Node(name=name, parent=nodes[parent_name], display_name=split_description)\n",
    "\n",
    "                    #tree.create_node(tag=split_description, identifier=name, parent=parent_name, data=None)\n",
    "\n",
    "        for j, leaf_class in enumerate(leaf_classes):\n",
    "            i = self.depth\n",
    "            current_node_id = int(2**i - 1 + j)\n",
    "            name = 'n' + str(current_node_id)#'l' + str(i) + 'n' + str(j)\n",
    "            parent_node_id = int(np.floor((current_node_id-1)/2))\n",
    "            parent_name = 'n' + str(parent_node_id)\n",
    "            #split_variable = np.argmax(np.abs(split))\n",
    "            #split_value = np.round(split[split_variable], 3)\n",
    "            split_description = str(np.round((leaf_class), 3))#'x' + str(split_variable) + ' <= '  + str(split_value)\n",
    "            nodes[name] = Node(name=name, parent=nodes[parent_name], display_name=split_description)\n",
    "            #tree.create_node(tag=split_description, identifier=name, parent=parent_name, data=None)        \n",
    "\n",
    "            DotExporter(nodes['n0'], nodeattrfunc=lambda node: 'label=\"{}\"'.format(node.display_name)).to_picture(path)\n",
    "\n",
    "\n",
    "        return Image(path)#, nodes#nodes#tree        \n",
    "\n",
    "        \n",
    "    "
   ]
  },
  {
   "cell_type": "code",
   "execution_count": null,
   "id": "8d5cd948-2ff4-41bb-8f2e-3c92ab05ae0e",
   "metadata": {
    "tags": []
   },
   "outputs": [],
   "source": []
  },
  {
   "cell_type": "code",
   "execution_count": 14,
   "id": "7298793a-3131-489d-88c2-8c9da85d6db3",
   "metadata": {
    "execution": {
     "iopub.execute_input": "2022-06-04T10:54:49.201134Z",
     "iopub.status.busy": "2022-06-04T10:54:49.201015Z",
     "iopub.status.idle": "2022-06-04T10:54:49.327844Z",
     "shell.execute_reply": "2022-06-04T10:54:49.327522Z",
     "shell.execute_reply.started": "2022-06-04T10:54:49.201121Z"
    },
    "tags": []
   },
   "outputs": [],
   "source": [
    "X, y = make_classification(\n",
    "    n_samples=10_000, n_features=5, n_informative=2, n_redundant=2, random_state=42\n",
    ")\n",
    "\n",
    "#todo: anpassen, dass nur basierend auf train data normalized\n",
    "X, normalizer_list = normalize_real_world_data(X)\n",
    "\n",
    "train_samples = 9_000#1000  # Samples used for training the models\n",
    "\n",
    "\n",
    "X_train, X_test, y_train, y_test = train_test_split(\n",
    "    X,\n",
    "    y,\n",
    "    shuffle=False,\n",
    "    test_size=10_000 - train_samples,\n",
    "    random_state=42\n",
    ")"
   ]
  },
  {
   "cell_type": "code",
   "execution_count": 15,
   "id": "46fb31cb-037d-43de-9387-c1eb289a0f0d",
   "metadata": {
    "execution": {
     "iopub.execute_input": "2022-06-04T10:54:49.328357Z",
     "iopub.status.busy": "2022-06-04T10:54:49.328263Z",
     "iopub.status.idle": "2022-06-04T10:54:49.432957Z",
     "shell.execute_reply": "2022-06-04T10:54:49.432670Z",
     "shell.execute_reply.started": "2022-06-04T10:54:49.328345Z"
    },
    "tags": []
   },
   "outputs": [
    {
     "data": {
      "text/plain": [
       "0.888"
      ]
     },
     "execution_count": 15,
     "metadata": {},
     "output_type": "execute_result"
    }
   ],
   "source": [
    "model_sklearn = DecisionTreeClassifier(max_depth=3, random_state=42)\n",
    "\n",
    "model_sklearn.fit(X_train, y_train)\n",
    "\n",
    "model_sklearn.score(X_test, y_test)"
   ]
  },
  {
   "cell_type": "code",
   "execution_count": null,
   "id": "d043614c-319b-4ce4-b6ec-bda1162fe3af",
   "metadata": {
    "execution": {
     "iopub.execute_input": "2022-06-04T10:54:49.433483Z",
     "iopub.status.busy": "2022-06-04T10:54:49.433383Z"
    },
    "tags": []
   },
   "outputs": [
    {
     "name": "stdout",
     "output_type": "stream",
     "text": [
      "[-0.147681668 -0.171174631 0.0654113144 ... 0.0471678823 -0.117765374 -0.0936949179]\n"
     ]
    },
    {
     "data": {
      "application/vnd.jupyter.widget-view+json": {
       "model_id": "ef9714dc57be477aa2dc90be324757c4",
       "version_major": 2,
       "version_minor": 0
      },
      "text/plain": [
       "  0%|          | 0/20 [00:00<?, ?it/s]"
      ]
     },
     "metadata": {},
     "output_type": "display_data"
    },
    {
     "name": "stdout",
     "output_type": "stream",
     "text": [
      "Epoch: 00 | Loss: 0.98685 |\n",
      "Epoch: 01 | Loss: 0.73287 |\n",
      "Epoch: 02 | Loss: 0.69583 |\n",
      "Epoch: 03 | Loss: 0.69243 |\n",
      "Epoch: 04 | Loss: 0.69409 |\n",
      "Epoch: 05 | Loss: 0.69220 |\n",
      "Epoch: 06 | Loss: 0.69529 |\n",
      "Epoch: 07 | Loss: 0.68515 |\n",
      "Epoch: 08 | Loss: 0.56828 |\n",
      "Epoch: 09 | Loss: 0.37695 |\n",
      "Epoch: 10 | Loss: 0.36510 |\n",
      "Epoch: 11 | Loss: 0.36953 |\n",
      "Epoch: 12 | Loss: 0.36680 |\n",
      "Epoch: 13 | Loss: 0.36921 |\n",
      "Epoch: 14 | Loss: 0.36342 |\n"
     ]
    }
   ],
   "source": [
    "model_dhdt = DHDT(\n",
    "            depth=3,\n",
    "            function_representation_type = 3,\n",
    "            number_of_variables = 5,\n",
    "            learning_rate=1e-2,\n",
    "            loss='binary_crossentropy',#'binary_crossentropy',\n",
    "            random_seed=41,\n",
    "            verbosity=1)\n",
    "\n",
    "model_dhdt.fit(X_train, y_train, batch_size=64, epochs=20, early_stopping_epochs=5)\n",
    "\n",
    "y_test_model = model_dhdt.predict(X_test)\n",
    "score_dhdt = accuracy_score(y_test, np.round(y_test_model))\n",
    "\n",
    "print('Test Accuracy', score_dhdt)"
   ]
  },
  {
   "cell_type": "code",
   "execution_count": null,
   "id": "4aa0dfba-21f2-4c6b-9c34-e836e7dadf9d",
   "metadata": {
    "tags": []
   },
   "outputs": [],
   "source": [
    "plt.figure(figsize=(15,8))\n",
    "image = model_dhdt.plot()\n",
    "display(image)\n",
    "\n",
    "plt.figure(figsize=(15,8))\n",
    "plot_tree(model_sklearn, fontsize=10) \n",
    "plt.show()"
   ]
  },
  {
   "cell_type": "code",
   "execution_count": null,
   "id": "327e4efd-d4de-41e2-a5c7-fbb7fd5e64f5",
   "metadata": {
    "tags": []
   },
   "outputs": [],
   "source": [
    "model_dhdt = DHDT(\n",
    "            depth=3,\n",
    "            function_representation_type = 3,\n",
    "            number_of_variables = 5,\n",
    "            learning_rate=1e-2,\n",
    "            loss='binary_crossentropy',#'binary_crossentropy',\n",
    "            random_seed=41,\n",
    "            verbosity=1)\n",
    "\n",
    "model_dhdt.fit(X_train, y_train, batch_size=64, epochs=2, early_stopping_epochs=10)\n",
    "\n",
    "y_test_model = model_dhdt.predict(X_test)\n",
    "score_dhdt = accuracy_score(y_test, np.round(y_test_model))\n",
    "\n",
    "print('Test Accuracy', score_dhdt)"
   ]
  },
  {
   "cell_type": "code",
   "execution_count": null,
   "id": "260bce89-e3d1-474d-9df3-21cbc4f70194",
   "metadata": {
    "tags": []
   },
   "outputs": [],
   "source": [
    "X_test[:5]"
   ]
  },
  {
   "cell_type": "code",
   "execution_count": null,
   "id": "e83a9767-c75c-46e9-ac03-6dc2831e602f",
   "metadata": {
    "tags": []
   },
   "outputs": [],
   "source": [
    "model_dhdt.dt_params"
   ]
  },
  {
   "cell_type": "code",
   "execution_count": null,
   "id": "de46c63a-a485-4d91-9371-1e968aa5c0e7",
   "metadata": {
    "tags": []
   },
   "outputs": [],
   "source": [
    "tf.sigmoid(model_dhdt.dt_params)"
   ]
  },
  {
   "cell_type": "code",
   "execution_count": null,
   "id": "a6c2019e-609d-4f52-93d6-29fa5934f320",
   "metadata": {
    "tags": []
   },
   "outputs": [],
   "source": [
    "model_dhdt.predict(X_test[:5])"
   ]
  },
  {
   "cell_type": "code",
   "execution_count": null,
   "id": "dfa8ef06-517b-45c7-9d92-456e5274a098",
   "metadata": {
    "tags": []
   },
   "outputs": [],
   "source": [
    "plt.figure(figsize=(15,8))\n",
    "image = model_dhdt.plot()\n",
    "display(image)\n",
    "\n",
    "plt.figure(figsize=(15,8))\n",
    "plot_tree(model_sklearn, fontsize=10) \n",
    "plt.show()"
   ]
  },
  {
   "cell_type": "code",
   "execution_count": null,
   "id": "6496ff4f-2a6f-4315-86fe-b9065042722b",
   "metadata": {},
   "outputs": [],
   "source": [
    "model_dhdt = DHDT(\n",
    "            depth=3,\n",
    "            function_representation_type = 3,\n",
    "            number_of_variables = 5,\n",
    "            learning_rate=1e-2,\n",
    "            loss='binary_crossentropy',#'binary_crossentropy',\n",
    "            random_seed=41,\n",
    "            verbosity=1)\n",
    "\n",
    "model_dhdt.fit(X_train, y_train, batch_size=64, epochs=500, early_stopping_epochs=50)\n",
    "\n",
    "y_test_model = model_dhdt.predict(X_test)\n",
    "score_dhdt = accuracy_score(y_test, np.round(y_test_model))\n",
    "\n",
    "print('Test Accuracy', score_dhdt)"
   ]
  },
  {
   "cell_type": "code",
   "execution_count": null,
   "id": "4bcb7ba1-0892-4f4d-b5b5-ded8137595e3",
   "metadata": {},
   "outputs": [],
   "source": []
  }
 ],
 "metadata": {
  "kernelspec": {
   "display_name": "Python 3 (ipykernel)",
   "language": "python",
   "name": "python3"
  },
  "language_info": {
   "codemirror_mode": {
    "name": "ipython",
    "version": 3
   },
   "file_extension": ".py",
   "mimetype": "text/x-python",
   "name": "python",
   "nbconvert_exporter": "python",
   "pygments_lexer": "ipython3",
   "version": "3.8.0"
  }
 },
 "nbformat": 4,
 "nbformat_minor": 5
}
