{
 "cells": [
  {
   "cell_type": "markdown",
   "id": "e1c3b444-064b-4639-983d-238b3da68ad9",
   "metadata": {},
   "source": [
    "# Imports"
   ]
  },
  {
   "cell_type": "code",
   "execution_count": 1,
   "id": "a6531aaa-2c26-40f5-8078-d754aceda153",
   "metadata": {
    "execution": {
     "iopub.execute_input": "2022-06-08T16:10:07.334564Z",
     "iopub.status.busy": "2022-06-08T16:10:07.334334Z",
     "iopub.status.idle": "2022-06-08T16:10:07.341941Z",
     "shell.execute_reply": "2022-06-08T16:10:07.341572Z",
     "shell.execute_reply.started": "2022-06-08T16:10:07.334501Z"
    },
    "tags": []
   },
   "outputs": [],
   "source": [
    "config = {\n",
    "    'dhdt': {\n",
    "        'depth': 3,\n",
    "        'learning_rate': 1e-2,\n",
    "        \n",
    "        'initializer': 'GlorotUniform', #GlorotUniform\n",
    "        \n",
    "        'loss': 'binary_crossentropy',#'mae',\n",
    "        'optimizer': 'adam',        \n",
    "        \n",
    "        'beta_1': 10,\n",
    "        'beta_2': 10,\n",
    "        \n",
    "        'squeeze_factor': 1,\n",
    "        \n",
    "        'batch_size': 512,\n",
    "        'epochs': 1_000,\n",
    "        'early_stopping_epochs': 20,\n",
    "    },\n",
    "    \n",
    "    \n",
    "    \n",
    "    'make_classification': {\n",
    "        'number_of_variables': 5,\n",
    "        'n_samples': 5_000,\n",
    "    },\n",
    "\n",
    "    'computation': {\n",
    "        'random_seed': 42,\n",
    "        'num_eval': 10,\n",
    "        'trials': 5,\n",
    "        'n_jobs': 10,\n",
    "        'verbosity': 0,\n",
    "    },\n",
    "}\n",
    "\n"
   ]
  },
  {
   "cell_type": "code",
   "execution_count": 2,
   "id": "b6ab8be2-1b4c-4370-a837-9176d15bea41",
   "metadata": {
    "execution": {
     "iopub.execute_input": "2022-06-08T16:10:07.342602Z",
     "iopub.status.busy": "2022-06-08T16:10:07.342479Z",
     "iopub.status.idle": "2022-06-08T16:10:13.028579Z",
     "shell.execute_reply": "2022-06-08T16:10:13.027907Z",
     "shell.execute_reply.started": "2022-06-08T16:10:07.342587Z"
    },
    "tags": []
   },
   "outputs": [],
   "source": [
    "import numpy as np\n",
    "\n",
    "from sklearn.datasets import make_classification\n",
    "from sklearn.model_selection import train_test_split, ParameterGrid\n",
    "from sklearn.tree import DecisionTreeClassifier, plot_tree\n",
    "from sklearn.metrics import accuracy_score\n",
    "from sklearn.compose import ColumnTransformer\n",
    "from sklearn.preprocessing import OneHotEncoder, MinMaxScaler, LabelEncoder, OrdinalEncoder\n",
    "\n",
    "from livelossplot import PlotLosses\n",
    "\n",
    "import os\n",
    "from tqdm.notebook import tqdm\n",
    "from matplotlib import pyplot as plt\n",
    "\n",
    "from IPython.display import Image\n",
    "from IPython.display import display, clear_output\n",
    "\n",
    "import pandas as pd\n",
    "\n",
    "os.environ['CUDA_VISIBLE_DEVICES'] = ''\n",
    "os.environ['TF_FORCE_GPU_ALLOW_GROWTH'] = '' #'true'\n",
    "\n",
    "import warnings\n",
    "warnings.filterwarnings('ignore')\n",
    "os.environ['TF_CPP_MIN_LOG_LEVEL'] = '3' \n",
    "import logging\n",
    "\n",
    "import tensorflow as tf\n",
    "import tensorflow_addons as tfa\n",
    "\n",
    "tf.get_logger().setLevel('ERROR')\n",
    "tf.autograph.set_verbosity(3)\n",
    "\n",
    "np.seterr(all=\"ignore\")\n",
    "\n",
    "from keras import backend as K\n",
    "from keras.utils.generic_utils import get_custom_objects\n",
    "\n",
    "\n",
    "import seaborn as sns\n",
    "sns.set_style(\"darkgrid\")\n",
    "\n",
    "import time\n",
    "import random\n",
    "\n",
    "from utilities.utilities_updated import *\n",
    "from utilities.DHDT_updated import *\n",
    "\n",
    "from joblib import Parallel, delayed\n",
    "\n",
    "from itertools import product\n",
    "from collections.abc import Iterable\n",
    "\n",
    "from copy import deepcopy"
   ]
  },
  {
   "cell_type": "markdown",
   "id": "f2397843-32d2-4579-b197-0686f4a99b54",
   "metadata": {},
   "source": [
    "# Evaluation"
   ]
  },
  {
   "cell_type": "markdown",
   "id": "fa3e7da9-12bb-467f-919f-4fd510ce6463",
   "metadata": {},
   "source": [
    "## make_classification"
   ]
  },
  {
   "cell_type": "code",
   "execution_count": 3,
   "id": "c428696c-bdf8-44bc-9b27-51e273efc345",
   "metadata": {
    "execution": {
     "iopub.execute_input": "2022-06-08T16:10:13.030497Z",
     "iopub.status.busy": "2022-06-08T16:10:13.030270Z",
     "iopub.status.idle": "2022-06-08T17:19:23.739192Z",
     "shell.execute_reply": "2022-06-08T17:19:23.738407Z",
     "shell.execute_reply.started": "2022-06-08T16:10:13.030475Z"
    },
    "tags": []
   },
   "outputs": [
    {
     "name": "stdout",
     "output_type": "stream",
     "text": [
      "Original Data Shape (selected):  (1000, 5)\n",
      "Original Data Shape (encoded):  (1000, 5)\n",
      "Original Data Class Distribution:  503  (true) / 497  (false)\n",
      "(700, 5) (700,)\n",
      "(100, 5) (100,)\n",
      "(200, 5) (200,)\n",
      "True Ratio:  0.5057142857142857\n",
      "self.split_values [[-0.118365705 -0.327275 -0.0287323594 -0.191525042 0.643059075]\n",
      " [0.624890864 0.162399709 -0.200222313 0.13237381 -0.402328253]\n",
      " [-0.597573519 0.112024307 -0.294433653 -0.329256743 -0.183671594]\n",
      " ...\n",
      " [0.692691505 -0.164107323 -0.640871167 0.525869906 -0.341084152]\n",
      " [0.527692497 0.207867265 -0.113402486 -0.365598619 -0.572048545]\n",
      " [0.681766689 -0.48504582 -0.283170521 -0.186742544 0.629850566]]\n",
      "self.split_index_array [[-0.584261656 -0.45098424 -0.276760638 -0.190948665 -0.419533104]\n",
      " [0.0610572696 0.660722315 0.306663692 -0.358332 -0.589413524]\n",
      " [-0.399939686 -0.276240736 0.127445638 -0.553679764 -0.330857486]\n",
      " ...\n",
      " [-0.0230084658 -0.547267556 -0.350479186 0.698540151 0.199066281]\n",
      " [0.344266236 0.595816195 -0.0235255361 -0.674943 0.388583]\n",
      " [0.332414091 0.571341 -0.666768372 -0.314734966 -0.37560463]]\n",
      "self.leaf_classes_array [0.387000978 -0.302758276 -0.608828 ... -0.309177935 0.0643506646 -0.508873105]\n"
     ]
    },
    {
     "data": {
      "application/vnd.jupyter.widget-view+json": {
       "model_id": "6b40c0b417024d07986e30bb0dcff73a",
       "version_major": 2,
       "version_minor": 0
      },
      "text/plain": [
       "epochs:   0%|          | 0/1000 [00:00<?, ?it/s]"
      ]
     },
     "metadata": {},
     "output_type": "display_data"
    },
    {
     "name": "stdout",
     "output_type": "stream",
     "text": [
      "Epoch: 00 | Loss: 0.69305 |\n",
      "Epoch: 01 | Loss: 0.69294 |\n",
      "Epoch: 02 | Loss: 0.69295 |\n",
      "Epoch: 03 | Loss: 0.69291 |\n",
      "Epoch: 04 | Loss: 0.69290 |\n",
      "Epoch: 05 | Loss: 0.69286 |\n",
      "Epoch: 06 | Loss: 0.69272 |\n",
      "Epoch: 07 | Loss: 0.69278 |\n",
      "Epoch: 08 | Loss: 0.69270 |\n",
      "Epoch: 09 | Loss: 0.69265 |\n",
      "Epoch: 10 | Loss: 0.69259 |\n",
      "Epoch: 11 | Loss: 0.69260 |\n",
      "Epoch: 12 | Loss: 0.69241 |\n",
      "Epoch: 13 | Loss: 0.69233 |\n",
      "Epoch: 14 | Loss: 0.69232 |\n",
      "Epoch: 15 | Loss: 0.69209 |\n",
      "Epoch: 16 | Loss: 0.69220 |\n",
      "Epoch: 17 | Loss: 0.69225 |\n",
      "Epoch: 18 | Loss: 0.69199 |\n",
      "Epoch: 19 | Loss: 0.69145 |\n",
      "Epoch: 20 | Loss: 0.69131 |\n",
      "Epoch: 21 | Loss: 0.69090 |\n",
      "Epoch: 22 | Loss: 0.69110 |\n",
      "Epoch: 23 | Loss: 0.69111 |\n",
      "Epoch: 24 | Loss: 0.69061 |\n",
      "Epoch: 25 | Loss: 0.69036 |\n",
      "Epoch: 26 | Loss: 0.68937 |\n",
      "Epoch: 27 | Loss: 0.68810 |\n",
      "Epoch: 28 | Loss: 0.68768 |\n",
      "Epoch: 29 | Loss: 0.68758 |\n",
      "Epoch: 30 | Loss: 0.68589 |\n",
      "Epoch: 31 | Loss: 0.68385 |\n",
      "Epoch: 32 | Loss: 0.68315 |\n",
      "Epoch: 33 | Loss: 0.68196 |\n",
      "Epoch: 34 | Loss: 0.68019 |\n",
      "Epoch: 35 | Loss: 0.67991 |\n",
      "Epoch: 36 | Loss: 0.67941 |\n",
      "Epoch: 37 | Loss: 0.67511 |\n",
      "Epoch: 38 | Loss: 0.67249 |\n",
      "Epoch: 39 | Loss: 0.66986 |\n",
      "Epoch: 40 | Loss: 0.66766 |\n",
      "Epoch: 41 | Loss: 0.66332 |\n",
      "Epoch: 42 | Loss: 0.66331 |\n",
      "Epoch: 43 | Loss: 0.66005 |\n",
      "Epoch: 44 | Loss: 0.66054 |\n",
      "Epoch: 45 | Loss: 0.65641 |\n",
      "Epoch: 46 | Loss: 0.65193 |\n",
      "Epoch: 47 | Loss: 0.65161 |\n",
      "Epoch: 48 | Loss: 0.64998 |\n",
      "Epoch: 49 | Loss: 0.64631 |\n",
      "Epoch: 50 | Loss: 0.64338 |\n",
      "Epoch: 51 | Loss: 0.63954 |\n",
      "Epoch: 52 | Loss: 0.63641 |\n",
      "Epoch: 53 | Loss: 0.63199 |\n",
      "Epoch: 54 | Loss: 0.63307 |\n",
      "Epoch: 55 | Loss: 0.61810 |\n",
      "Epoch: 56 | Loss: 0.62095 |\n",
      "Epoch: 57 | Loss: 0.62168 |\n",
      "Epoch: 58 | Loss: 0.62261 |\n",
      "Epoch: 59 | Loss: 0.61971 |\n",
      "Epoch: 60 | Loss: 0.61377 |\n",
      "Epoch: 61 | Loss: 0.61445 |\n",
      "Epoch: 62 | Loss: 0.60643 |\n",
      "Epoch: 63 | Loss: 0.60646 |\n",
      "Epoch: 64 | Loss: 0.60352 |\n",
      "Epoch: 65 | Loss: 0.60174 |\n",
      "Epoch: 66 | Loss: 0.59987 |\n",
      "Epoch: 67 | Loss: 0.59823 |\n",
      "Epoch: 68 | Loss: 0.59952 |\n",
      "Epoch: 69 | Loss: 0.59261 |\n",
      "Epoch: 70 | Loss: 0.59028 |\n",
      "Epoch: 71 | Loss: 0.60272 |\n",
      "Epoch: 72 | Loss: 0.58708 |\n",
      "Epoch: 73 | Loss: 0.59287 |\n",
      "Epoch: 74 | Loss: 0.59369 |\n",
      "Epoch: 75 | Loss: 0.59016 |\n",
      "Epoch: 76 | Loss: 0.58087 |\n",
      "Epoch: 77 | Loss: 0.59377 |\n",
      "Epoch: 78 | Loss: 0.60021 |\n",
      "Epoch: 79 | Loss: 0.59911 |\n",
      "Epoch: 80 | Loss: 0.57781 |\n",
      "Epoch: 81 | Loss: 0.59058 |\n",
      "Epoch: 82 | Loss: 0.57358 |\n",
      "Epoch: 83 | Loss: 0.58486 |\n",
      "Epoch: 84 | Loss: 0.57229 |\n",
      "Epoch: 85 | Loss: 0.58852 |\n",
      "Epoch: 86 | Loss: 0.57192 |\n",
      "Epoch: 87 | Loss: 0.57150 |\n",
      "Epoch: 88 | Loss: 0.57565 |\n",
      "Epoch: 89 | Loss: 0.57618 |\n",
      "Epoch: 90 | Loss: 0.57697 |\n",
      "Epoch: 91 | Loss: 0.57063 |\n",
      "Epoch: 92 | Loss: 0.58501 |\n",
      "Epoch: 93 | Loss: 0.57416 |\n",
      "Epoch: 94 | Loss: 0.56763 |\n",
      "Epoch: 95 | Loss: 0.56727 |\n",
      "Epoch: 96 | Loss: 0.57250 |\n",
      "Epoch: 97 | Loss: 0.57275 |\n",
      "Epoch: 98 | Loss: 0.56076 |\n",
      "Epoch: 99 | Loss: 0.55697 |\n",
      "Epoch: 100 | Loss: 0.56909 |\n",
      "Epoch: 101 | Loss: 0.57201 |\n",
      "Epoch: 102 | Loss: 0.57966 |\n",
      "Epoch: 103 | Loss: 0.57086 |\n",
      "Epoch: 104 | Loss: 0.56287 |\n",
      "Epoch: 105 | Loss: 0.55453 |\n",
      "Epoch: 106 | Loss: 0.56787 |\n",
      "Epoch: 107 | Loss: 0.57447 |\n",
      "Epoch: 108 | Loss: 0.56873 |\n",
      "Epoch: 109 | Loss: 0.57519 |\n",
      "Epoch: 110 | Loss: 0.56765 |\n",
      "Epoch: 111 | Loss: 0.56159 |\n",
      "Epoch: 112 | Loss: 0.55760 |\n",
      "Epoch: 113 | Loss: 0.56040 |\n",
      "Epoch: 114 | Loss: 0.55497 |\n",
      "Epoch: 115 | Loss: 0.55279 |\n",
      "Epoch: 116 | Loss: 0.57204 |\n",
      "Epoch: 117 | Loss: 0.55892 |\n",
      "Epoch: 118 | Loss: 0.55486 |\n",
      "Epoch: 119 | Loss: 0.55057 |\n",
      "Epoch: 120 | Loss: 0.56178 |\n",
      "Epoch: 121 | Loss: 0.55745 |\n",
      "Epoch: 122 | Loss: 0.55700 |\n",
      "Epoch: 123 | Loss: 0.55626 |\n",
      "Epoch: 124 | Loss: 0.56265 |\n",
      "Epoch: 125 | Loss: 0.56523 |\n",
      "Epoch: 126 | Loss: 0.56936 |\n",
      "Epoch: 127 | Loss: 0.56250 |\n",
      "Epoch: 128 | Loss: 0.56532 |\n",
      "Epoch: 129 | Loss: 0.56444 |\n",
      "Epoch: 130 | Loss: 0.55390 |\n",
      "Epoch: 131 | Loss: 0.55640 |\n",
      "Epoch: 132 | Loss: 0.56657 |\n",
      "Epoch: 133 | Loss: 0.56147 |\n",
      "Epoch: 134 | Loss: 0.55472 |\n",
      "Epoch: 135 | Loss: 0.54869 |\n",
      "Epoch: 136 | Loss: 0.55585 |\n",
      "Epoch: 137 | Loss: 0.55321 |\n",
      "Epoch: 138 | Loss: 0.55057 |\n",
      "Epoch: 139 | Loss: 0.55109 |\n",
      "Epoch: 140 | Loss: 0.56562 |\n",
      "Epoch: 141 | Loss: 0.55570 |\n",
      "Epoch: 142 | Loss: 0.55158 |\n",
      "Epoch: 146 | Loss: 0.55575 |\n",
      "Epoch: 147 | Loss: 0.54739 |\n",
      "Epoch: 148 | Loss: 0.55584 |\n",
      "Epoch: 149 | Loss: 0.54314 |\n",
      "Epoch: 150 | Loss: 0.53525 |\n",
      "Epoch: 151 | Loss: 0.55190 |\n",
      "Epoch: 152 | Loss: 0.54230 |\n",
      "Epoch: 153 | Loss: 0.56381 |\n",
      "Epoch: 154 | Loss: 0.54608 |\n",
      "Epoch: 155 | Loss: 0.55597 |\n",
      "Epoch: 156 | Loss: 0.55835 |\n",
      "Epoch: 157 | Loss: 0.55724 |\n",
      "Epoch: 158 | Loss: 0.54625 |\n",
      "Epoch: 159 | Loss: 0.55319 |\n",
      "Epoch: 160 | Loss: 0.55745 |\n",
      "Epoch: 161 | Loss: 0.55726 |\n",
      "Epoch: 162 | Loss: 0.54952 |\n",
      "Epoch: 163 | Loss: 0.55525 |\n",
      "Epoch: 164 | Loss: 0.52829 |\n",
      "Epoch: 165 | Loss: 0.54033 |\n",
      "Epoch: 166 | Loss: 0.54091 |\n",
      "Epoch: 167 | Loss: 0.54511 |\n",
      "Epoch: 168 | Loss: 0.55991 |\n",
      "Epoch: 169 | Loss: 0.54817 |\n",
      "Epoch: 170 | Loss: 0.54031 |\n",
      "Epoch: 171 | Loss: 0.55430 |\n",
      "Epoch: 172 | Loss: 0.54533 |\n",
      "Epoch: 173 | Loss: 0.54104 |\n",
      "Epoch: 174 | Loss: 0.54880 |\n",
      "Epoch: 175 | Loss: 0.55483 |\n",
      "Epoch: 176 | Loss: 0.54586 |\n",
      "Epoch: 177 | Loss: 0.54800 |\n",
      "Epoch: 178 | Loss: 0.55359 |\n",
      "Epoch: 179 | Loss: 0.55734 |\n",
      "Epoch: 180 | Loss: 0.54883 |\n",
      "Epoch: 181 | Loss: 0.55303 |\n",
      "Epoch: 182 | Loss: 0.53972 |\n",
      "Epoch: 183 | Loss: 0.55502 |\n",
      "Epoch: 184 | Loss: 0.54135 |\n"
     ]
    }
   ],
   "source": [
    "config_test = deepcopy(config)\n",
    "config_test['make_classification']['n_samples'] = 1_000\n",
    "config_test['dhdt']['epochs'] = 1000\n",
    "\n",
    "dataset_dict = {}\n",
    "model_dict = {}\n",
    "\n",
    "scores_dict = {'sklearn': {},\n",
    "               'DHDT': {}}\n",
    "\n",
    "dataset_dict = get_preprocessed_dataset('make_classification',\n",
    "                                        random_seed=config_test['computation']['random_seed'],\n",
    "                                        config=config_test['make_classification'],\n",
    "                                        verbosity=1)\n",
    "\n",
    "model_dict['sklearn'] = DecisionTreeClassifier(max_depth=3, \n",
    "                                               random_state=config_test['computation']['random_seed'])\n",
    "\n",
    "model_dict['sklearn'].fit(dataset_dict['X_train'], \n",
    "                          dataset_dict['y_train'])\n",
    "\n",
    "\n",
    "\n",
    "model_dict['DHDT'] = DHDT(dataset_dict['X_train'].shape[1],\n",
    "\n",
    "                            depth = config_test['dhdt']['depth'],\n",
    "\n",
    "                            learning_rate = config_test['dhdt']['learning_rate'],\n",
    "                            optimizer = config_test['dhdt']['optimizer'],\n",
    "                          \n",
    "                            initializer = config_test['dhdt']['initializer'],\n",
    "\n",
    "                            beta_1 = config_test['dhdt']['beta_1'],\n",
    "                            beta_2 = config_test['dhdt']['beta_2'],\n",
    "\n",
    "                            squeeze_factor = config_test['dhdt']['squeeze_factor'],\n",
    "\n",
    "                            loss = config_test['dhdt']['loss'],#'mae',\n",
    "\n",
    "                            random_seed = config_test['computation']['random_seed'],\n",
    "                            verbosity = 2)        \n",
    "\n",
    "\n",
    "scores_dict['history'] = model_dict['DHDT'].fit(dataset_dict['X_train'], \n",
    "                                              dataset_dict['y_train'], \n",
    "                                              batch_size=config_test['dhdt']['batch_size'], \n",
    "                                              epochs=config_test['dhdt']['epochs'], \n",
    "                                              early_stopping_epochs=config_test['dhdt']['early_stopping_epochs'], \n",
    "                                              valid_data=(dataset_dict['X_valid'], dataset_dict['y_valid']))\n",
    "\n",
    "\n",
    "\n",
    "scores_dict['sklearn']['accuracy_test'] = model_dict['sklearn'].score(dataset_dict['X_test'], \n",
    "                                                                 dataset_dict['y_test'])\n",
    "\n",
    "\n",
    "dataset_dict['y_test_dhdt'] = model_dict['DHDT'].predict(dataset_dict['X_test'])\n",
    "scores_dict['DHDT']['accuracy_test'] = accuracy_score(dataset_dict['y_test'], np.round(dataset_dict['y_test_dhdt']))\n"
   ]
  },
  {
   "cell_type": "code",
   "execution_count": 4,
   "id": "b368f40c-ada4-49c5-a8f3-b2b703a4b6b1",
   "metadata": {
    "execution": {
     "iopub.execute_input": "2022-06-08T17:19:23.740419Z",
     "iopub.status.busy": "2022-06-08T17:19:23.740227Z",
     "iopub.status.idle": "2022-06-08T17:19:23.787787Z",
     "shell.execute_reply": "2022-06-08T17:19:23.768465Z",
     "shell.execute_reply.started": "2022-06-08T17:19:23.740395Z"
    }
   },
   "outputs": [
    {
     "data": {
      "text/plain": [
       "<tf.Tensor: shape=(0,), dtype=int32, numpy=array([], dtype=int32)>"
      ]
     },
     "execution_count": 4,
     "metadata": {},
     "output_type": "execute_result"
    }
   ],
   "source": [
    "function_values_dhdt = tf.reshape(tf.constant([], dtype=tf.int32),[0,])\n",
    "function_values_dhdt"
   ]
  },
  {
   "cell_type": "code",
   "execution_count": 5,
   "id": "a19c28d2-fc01-40c8-9b0a-0b2e0966cb83",
   "metadata": {
    "execution": {
     "iopub.execute_input": "2022-06-08T17:19:23.790418Z",
     "iopub.status.busy": "2022-06-08T17:19:23.789696Z",
     "iopub.status.idle": "2022-06-08T17:19:23.834697Z",
     "shell.execute_reply": "2022-06-08T17:19:23.833827Z",
     "shell.execute_reply.started": "2022-06-08T17:19:23.790376Z"
    },
    "tags": []
   },
   "outputs": [
    {
     "data": {
      "text/plain": [
       "<tf.Tensor: shape=(1,), dtype=int32, numpy=array([0], dtype=int32)>"
      ]
     },
     "execution_count": 5,
     "metadata": {},
     "output_type": "execute_result"
    }
   ],
   "source": [
    "function_values_dhdt = tf.reshape(tf.constant([], dtype=tf.int32),[0,])\n",
    "function_values_dhdt = tf.concat([function_values_dhdt, [0]], axis=0)\n",
    "function_values_dhdt"
   ]
  },
  {
   "cell_type": "code",
   "execution_count": 6,
   "id": "4b04ea73-302c-4f95-a52f-6f26af69f4a8",
   "metadata": {
    "execution": {
     "iopub.execute_input": "2022-06-08T17:19:23.836249Z",
     "iopub.status.busy": "2022-06-08T17:19:23.835935Z",
     "iopub.status.idle": "2022-06-08T17:19:23.883491Z",
     "shell.execute_reply": "2022-06-08T17:19:23.882414Z",
     "shell.execute_reply.started": "2022-06-08T17:19:23.836220Z"
    },
    "tags": []
   },
   "outputs": [
    {
     "data": {
      "text/plain": [
       "<tf.Tensor: shape=(3,), dtype=int32, numpy=array([1, 2, 3], dtype=int32)>"
      ]
     },
     "execution_count": 6,
     "metadata": {},
     "output_type": "execute_result"
    }
   ],
   "source": [
    "tf.reshape([1,2,3], [3])"
   ]
  },
  {
   "cell_type": "code",
   "execution_count": 7,
   "id": "26155540-e4e4-4ab1-8603-3b91142ccf06",
   "metadata": {
    "execution": {
     "iopub.execute_input": "2022-06-08T17:19:23.884937Z",
     "iopub.status.busy": "2022-06-08T17:19:23.884723Z",
     "iopub.status.idle": "2022-06-08T17:19:26.349392Z",
     "shell.execute_reply": "2022-06-08T17:19:26.348187Z",
     "shell.execute_reply.started": "2022-06-08T17:19:23.884911Z"
    },
    "tags": []
   },
   "outputs": [
    {
     "ename": "TypeError",
     "evalue": "Missing required positional argument",
     "output_type": "error",
     "traceback": [
      "\u001b[0;31m---------------------------------------------------------------------------\u001b[0m",
      "\u001b[0;31mTypeError\u001b[0m                                 Traceback (most recent call last)",
      "\u001b[0;32m/tmp/ipykernel_807724/3883333436.py\u001b[0m in \u001b[0;36m<module>\u001b[0;34m\u001b[0m\n\u001b[0;32m----> 1\u001b[0;31m \u001b[0mtf\u001b[0m\u001b[0;34m.\u001b[0m\u001b[0mreshape\u001b[0m\u001b[0;34m(\u001b[0m\u001b[0mtf\u001b[0m\u001b[0;34m.\u001b[0m\u001b[0mconstant\u001b[0m\u001b[0;34m(\u001b[0m\u001b[0;34m[\u001b[0m\u001b[0;34m[\u001b[0m\u001b[0;36m0\u001b[0m\u001b[0;34m]\u001b[0m\u001b[0;34m,\u001b[0m\u001b[0;34m[\u001b[0m\u001b[0;36m1\u001b[0m\u001b[0;34m]\u001b[0m\u001b[0;34m,\u001b[0m\u001b[0;34m[\u001b[0m\u001b[0;36m3\u001b[0m\u001b[0;34m]\u001b[0m\u001b[0;34m]\u001b[0m\u001b[0;34m)\u001b[0m\u001b[0;34m,\u001b[0m \u001b[0;34m)\u001b[0m\u001b[0;34m\u001b[0m\u001b[0;34m\u001b[0m\u001b[0m\n\u001b[0m",
      "\u001b[0;32m~/anaconda3/envs/XAI/lib/python3.8/site-packages/tensorflow/python/util/traceback_utils.py\u001b[0m in \u001b[0;36merror_handler\u001b[0;34m(*args, **kwargs)\u001b[0m\n\u001b[1;32m    151\u001b[0m     \u001b[0;32mexcept\u001b[0m \u001b[0mException\u001b[0m \u001b[0;32mas\u001b[0m \u001b[0me\u001b[0m\u001b[0;34m:\u001b[0m\u001b[0;34m\u001b[0m\u001b[0;34m\u001b[0m\u001b[0m\n\u001b[1;32m    152\u001b[0m       \u001b[0mfiltered_tb\u001b[0m \u001b[0;34m=\u001b[0m \u001b[0m_process_traceback_frames\u001b[0m\u001b[0;34m(\u001b[0m\u001b[0me\u001b[0m\u001b[0;34m.\u001b[0m\u001b[0m__traceback__\u001b[0m\u001b[0;34m)\u001b[0m\u001b[0;34m\u001b[0m\u001b[0;34m\u001b[0m\u001b[0m\n\u001b[0;32m--> 153\u001b[0;31m       \u001b[0;32mraise\u001b[0m \u001b[0me\u001b[0m\u001b[0;34m.\u001b[0m\u001b[0mwith_traceback\u001b[0m\u001b[0;34m(\u001b[0m\u001b[0mfiltered_tb\u001b[0m\u001b[0;34m)\u001b[0m \u001b[0;32mfrom\u001b[0m \u001b[0;32mNone\u001b[0m\u001b[0;34m\u001b[0m\u001b[0;34m\u001b[0m\u001b[0m\n\u001b[0m\u001b[1;32m    154\u001b[0m     \u001b[0;32mfinally\u001b[0m\u001b[0;34m:\u001b[0m\u001b[0;34m\u001b[0m\u001b[0;34m\u001b[0m\u001b[0m\n\u001b[1;32m    155\u001b[0m       \u001b[0;32mdel\u001b[0m \u001b[0mfiltered_tb\u001b[0m\u001b[0;34m\u001b[0m\u001b[0;34m\u001b[0m\u001b[0m\n",
      "\u001b[0;32m~/anaconda3/envs/XAI/lib/python3.8/site-packages/tensorflow/python/util/dispatch.py\u001b[0m in \u001b[0;36mop_dispatch_handler\u001b[0;34m(*args, **kwargs)\u001b[0m\n\u001b[1;32m   1074\u001b[0m         \u001b[0;32mif\u001b[0m \u001b[0miterable_params\u001b[0m \u001b[0;32mis\u001b[0m \u001b[0;32mnot\u001b[0m \u001b[0;32mNone\u001b[0m\u001b[0;34m:\u001b[0m\u001b[0;34m\u001b[0m\u001b[0;34m\u001b[0m\u001b[0m\n\u001b[1;32m   1075\u001b[0m           \u001b[0margs\u001b[0m\u001b[0;34m,\u001b[0m \u001b[0mkwargs\u001b[0m \u001b[0;34m=\u001b[0m \u001b[0mreplace_iterable_params\u001b[0m\u001b[0;34m(\u001b[0m\u001b[0margs\u001b[0m\u001b[0;34m,\u001b[0m \u001b[0mkwargs\u001b[0m\u001b[0;34m,\u001b[0m \u001b[0miterable_params\u001b[0m\u001b[0;34m)\u001b[0m\u001b[0;34m\u001b[0m\u001b[0;34m\u001b[0m\u001b[0m\n\u001b[0;32m-> 1076\u001b[0;31m         \u001b[0mresult\u001b[0m \u001b[0;34m=\u001b[0m \u001b[0mapi_dispatcher\u001b[0m\u001b[0;34m.\u001b[0m\u001b[0mDispatch\u001b[0m\u001b[0;34m(\u001b[0m\u001b[0margs\u001b[0m\u001b[0;34m,\u001b[0m \u001b[0mkwargs\u001b[0m\u001b[0;34m)\u001b[0m\u001b[0;34m\u001b[0m\u001b[0;34m\u001b[0m\u001b[0m\n\u001b[0m\u001b[1;32m   1077\u001b[0m         \u001b[0;32mif\u001b[0m \u001b[0mresult\u001b[0m \u001b[0;32mis\u001b[0m \u001b[0;32mnot\u001b[0m \u001b[0mNotImplemented\u001b[0m\u001b[0;34m:\u001b[0m\u001b[0;34m\u001b[0m\u001b[0;34m\u001b[0m\u001b[0m\n\u001b[1;32m   1078\u001b[0m           \u001b[0;32mreturn\u001b[0m \u001b[0mresult\u001b[0m\u001b[0;34m\u001b[0m\u001b[0;34m\u001b[0m\u001b[0m\n",
      "\u001b[0;31mTypeError\u001b[0m: Missing required positional argument"
     ]
    }
   ],
   "source": [
    "tf.reshape(tf.constant([[0],[1],[3]]), )"
   ]
  },
  {
   "cell_type": "code",
   "execution_count": null,
   "id": "aa62c153-b736-4fe2-a3b7-c7a4e0d1c553",
   "metadata": {
    "execution": {
     "iopub.status.busy": "2022-06-08T17:19:26.349900Z",
     "iopub.status.idle": "2022-06-08T17:19:26.350088Z",
     "shell.execute_reply": "2022-06-08T17:19:26.349997Z",
     "shell.execute_reply.started": "2022-06-08T17:19:26.349986Z"
    }
   },
   "outputs": [],
   "source": [
    "tf.reshape([[0],[1],[3]], [3])"
   ]
  },
  {
   "cell_type": "code",
   "execution_count": null,
   "id": "50f074cf-77bf-4aa2-95f6-4aee41bce92a",
   "metadata": {
    "execution": {
     "iopub.status.busy": "2022-06-08T17:19:26.350784Z",
     "iopub.status.idle": "2022-06-08T17:19:26.351303Z",
     "shell.execute_reply": "2022-06-08T17:19:26.351198Z",
     "shell.execute_reply.started": "2022-06-08T17:19:26.351184Z"
    },
    "tags": []
   },
   "outputs": [],
   "source": [
    "tf.squeeze(tf.where(True, 0,1))"
   ]
  },
  {
   "cell_type": "code",
   "execution_count": null,
   "id": "aa194e81-ace2-4072-97c0-a44c2f4d7cd9",
   "metadata": {
    "execution": {
     "iopub.status.busy": "2022-06-08T17:19:26.351953Z",
     "iopub.status.idle": "2022-06-08T17:19:26.352257Z",
     "shell.execute_reply": "2022-06-08T17:19:26.352111Z",
     "shell.execute_reply.started": "2022-06-08T17:19:26.352094Z"
    },
    "tags": []
   },
   "outputs": [],
   "source": [
    "tf.concat([, tf.constant([1])], axis=0)"
   ]
  },
  {
   "cell_type": "code",
   "execution_count": null,
   "id": "1e202ec0-b279-4e23-a32d-7284d9c12540",
   "metadata": {
    "execution": {
     "iopub.status.busy": "2022-06-08T17:19:26.353254Z",
     "iopub.status.idle": "2022-06-08T17:19:26.353544Z",
     "shell.execute_reply": "2022-06-08T17:19:26.353396Z",
     "shell.execute_reply.started": "2022-06-08T17:19:26.353380Z"
    },
    "tags": []
   },
   "outputs": [],
   "source": [
    "tf.ensure_shape([[0,1,1], [0,1,1]], [None,3])"
   ]
  },
  {
   "cell_type": "code",
   "execution_count": null,
   "id": "21cd5ea4-9eb9-4511-a5ae-89093679900b",
   "metadata": {
    "execution": {
     "iopub.status.busy": "2022-06-08T17:19:26.354253Z",
     "iopub.status.idle": "2022-06-08T17:19:26.354537Z",
     "shell.execute_reply": "2022-06-08T17:19:26.354392Z",
     "shell.execute_reply.started": "2022-06-08T17:19:26.354376Z"
    },
    "tags": []
   },
   "outputs": [],
   "source": [
    "tf.reshape(tf.constant([1,2,3]), [3])"
   ]
  },
  {
   "cell_type": "code",
   "execution_count": null,
   "id": "f9fb3f0b-2764-4c9b-9f1d-542b0806fa66",
   "metadata": {
    "execution": {
     "iopub.status.busy": "2022-06-08T17:19:26.355227Z",
     "iopub.status.idle": "2022-06-08T17:19:26.355407Z",
     "shell.execute_reply": "2022-06-08T17:19:26.355318Z",
     "shell.execute_reply.started": "2022-06-08T17:19:26.355308Z"
    }
   },
   "outputs": [],
   "source": [
    "tf.reduce_sum([[0,1,1], [0,1,1]], axis=None, keepdims=False).shape"
   ]
  },
  {
   "cell_type": "code",
   "execution_count": null,
   "id": "92e62970-7acd-49c1-9f32-041283ef96c2",
   "metadata": {
    "execution": {
     "iopub.status.busy": "2022-06-08T17:19:26.356032Z",
     "iopub.status.idle": "2022-06-08T17:19:26.356270Z",
     "shell.execute_reply": "2022-06-08T17:19:26.356180Z",
     "shell.execute_reply.started": "2022-06-08T17:19:26.356170Z"
    },
    "tags": []
   },
   "outputs": [],
   "source": [
    "tf.ensure_shape(tf.reduce_sum([[0,1,1], [0,1,1]], axis=None, keepdims=False), [])"
   ]
  },
  {
   "cell_type": "code",
   "execution_count": null,
   "id": "7c61c55a-ffd3-43da-a3f2-1cc77dff47bb",
   "metadata": {
    "execution": {
     "iopub.status.busy": "2022-06-08T17:19:26.356882Z",
     "iopub.status.idle": "2022-06-08T17:19:26.357053Z",
     "shell.execute_reply": "2022-06-08T17:19:26.356968Z",
     "shell.execute_reply.started": "2022-06-08T17:19:26.356958Z"
    }
   },
   "outputs": [],
   "source": [
    "z"
   ]
  },
  {
   "cell_type": "code",
   "execution_count": null,
   "id": "54a13b2a-ca9d-44de-9a52-b8ca61808093",
   "metadata": {
    "execution": {
     "iopub.status.busy": "2022-06-08T17:19:26.357768Z",
     "iopub.status.idle": "2022-06-08T17:19:26.358006Z",
     "shell.execute_reply": "2022-06-08T17:19:26.357920Z",
     "shell.execute_reply.started": "2022-06-08T17:19:26.357909Z"
    },
    "tags": []
   },
   "outputs": [],
   "source": [
    "if True:\n",
    "    parallel_eval_synthetic = Parallel(n_jobs=config['computation']['n_jobs'], verbose=3, backend='loky') #loky #sequential multiprocessing\n",
    "    evaluation_results_synthetic = parallel_eval_synthetic(delayed(evaluate_synthetic_parallel)(index = index,\n",
    "                                                                                                random_seed_data = config['computation']['random_seed']+index,\n",
    "                                                                                                random_seed_model = config['computation']['random_seed'],#+random_seed_model,\n",
    "                                                                                                config = config,\n",
    "                                                                                                verbosity = -1) for index in range(config['computation']['num_eval']))\n",
    "\n",
    "    for i, synthetic_result in enumerate(evaluation_results_synthetic):\n",
    "        if i == 0:\n",
    "            model_dict_synthetic = synthetic_result[0]\n",
    "            scores_dict_synthetic = synthetic_result[1]\n",
    "            dataset_dict_synthetic = synthetic_result[2]\n",
    "        else: \n",
    "            model_dict_synthetic = mergeDict(model_dict_synthetic, synthetic_result[0])\n",
    "            scores_dict_synthetic = mergeDict(scores_dict_synthetic, synthetic_result[1])\n",
    "            dataset_dict_synthetic = mergeDict(dataset_dict_synthetic, synthetic_result[2])\n",
    "\n",
    "\n",
    "    metrics = ['accuracy_test']\n",
    "    index = [i for i in range(config['computation']['num_eval'])]\n",
    "    columns = flatten_list([[[approach + ' ' + metric + '_mean', approach + ' ' + metric + '_max', approach + ' ' + metric + '_std'] for metric in metrics] for approach in ['DHDT', 'sklearn']])\n",
    "\n",
    "    scores_DHDT = [scores_dict_synthetic[i]['DHDT'][metrics[0]] for i in range(config['computation']['num_eval'])]\n",
    "\n",
    "    scores_sklearn = [scores_dict_synthetic[i]['sklearn'][metrics[0]] for i in range(config['computation']['num_eval'])]\n",
    "\n",
    "\n",
    "    scores_DHDT_mean = np.mean(scores_DHDT, axis=1) if config['computation']['trials'] > 1 else scores_DHDT\n",
    "    scores_sklearn_mean = np.mean(scores_sklearn, axis=1) if config['computation']['trials'] > 1 else scores_sklearn\n",
    "\n",
    "    scores_DHDT_max = np.max(scores_DHDT, axis=1) if config['computation']['trials'] > 1 else scores_DHDT\n",
    "    scores_sklearn_max = np.max(scores_sklearn, axis=1) if config['computation']['trials'] > 1 else scores_sklearn\n",
    "\n",
    "    scores_DHDT_std = np.std(scores_DHDT, axis=1) if config['computation']['trials'] > 1 else np.array([0.0] * config['computation']['num_eval'])\n",
    "    scores_sklearn_std = np.std(scores_sklearn, axis=1) if config['computation']['trials'] > 1 else np.array([0.0] * config['computation']['num_eval'])\n",
    "\n",
    "    results_DHDT = np.vstack([scores_DHDT_mean, scores_DHDT_max, scores_DHDT_std])\n",
    "    results_sklearn = np.vstack([scores_sklearn_mean, scores_sklearn_max, scores_sklearn_std])\n",
    "\n",
    "\n",
    "    scores_dataframe_synthetic = pd.DataFrame(data=np.vstack([results_DHDT, results_sklearn]).T, index = index, columns = columns)\n",
    "    display(scores_dataframe_synthetic)\n",
    "    display(scores_dataframe_synthetic[scores_dataframe_synthetic.columns[1::3]])\n",
    "    display(scores_dataframe_synthetic.describe())"
   ]
  },
  {
   "cell_type": "code",
   "execution_count": null,
   "id": "5eb2b804-f2e3-4ec9-9c06-1334d7449519",
   "metadata": {
    "tags": []
   },
   "outputs": [],
   "source": []
  },
  {
   "cell_type": "markdown",
   "id": "f856c6c9-368b-4b75-b0d8-6e7a28e4267c",
   "metadata": {},
   "source": [
    "## Real-World Eval"
   ]
  },
  {
   "cell_type": "code",
   "execution_count": null,
   "id": "6cb9eca0-b6be-4389-960f-857e68e6b197",
   "metadata": {
    "execution": {
     "iopub.status.busy": "2022-06-08T17:19:26.358788Z",
     "iopub.status.idle": "2022-06-08T17:19:26.358964Z",
     "shell.execute_reply": "2022-06-08T17:19:26.358878Z",
     "shell.execute_reply.started": "2022-06-08T17:19:26.358869Z"
    },
    "tags": []
   },
   "outputs": [],
   "source": [
    "if False:\n",
    "\n",
    "    identifier_list = [\n",
    "                        'Adult',#: 32,\n",
    "                        'Bank Marketing',#: 32,\n",
    "                        'Loan Credit',#: 32,\n",
    "\n",
    "                        'Credit Card',#: 23, \n",
    "                        'Car',#: 21,\n",
    "\n",
    "\n",
    "                        'Absenteeism',#: 15,\n",
    "                        'Loan House',#: 15,\n",
    "                        'Cervical Cancer',#: 15,\n",
    "\n",
    "                        'Heart Disease',#: 13,           \n",
    "\n",
    "                        'Titanic',#: 10,\n",
    "                        'Medical Insurance',#: 10,\n",
    "                        'Wisconsin Breast Cancer Original',#: 10,\n",
    "                        'Wisconsin Diagnostic Breast Cancer',#: 10,\n",
    "                        'Wisconsin Prognostic Breast Cancer',#: 10,\n",
    "                        'Abalone',#: 10,\n",
    "\n",
    "                        'Habermans Survival',#: 3, \n",
    "                      ]\n",
    "\n",
    "    #identifier_list = ['Habermans Survival']\n",
    "\n",
    "    parallel_eval_real_world = Parallel(n_jobs=config['computation']['n_jobs'], verbose=3, backend='loky') #loky #sequential multiprocessing\n",
    "    evaluation_results_real_world = parallel_eval_real_world(delayed(evaluate_real_world_parallel)(identifier_list=identifier_list, \n",
    "                                                                                                   random_seed_model=config['computation']['random_seed']+i,\n",
    "                                                                                                   config = config,\n",
    "                                                                                                   verbosity = -1) for i in range(config['computation']['trials']))\n",
    "\n",
    "\n",
    "    for i, real_world_result in enumerate(evaluation_results_real_world):\n",
    "        if i == 0:\n",
    "            model_dict_real_world = real_world_result[0]\n",
    "            scores_dict_real_world = real_world_result[1]\n",
    "            dataset_dict_real_world = real_world_result[2]\n",
    "        else: \n",
    "            model_dict_real_world = mergeDict(model_dict_real_world, real_world_result[0])\n",
    "            scores_dict_real_world = mergeDict(scores_dict_real_world, real_world_result[1])\n",
    "            dataset_dict_real_world = mergeDict(dataset_dict_real_world, real_world_result[2])\n",
    "\n",
    "    metrics = ['accuracy_test']\n",
    "    index = identifier_list\n",
    "    columns = flatten_list([[[approach + ' ' + metric + '_mean', approach + ' ' + metric + '_max', approach + ' ' + metric + '_std'] for metric in metrics] for approach in ['DHDT', 'sklearn']])\n",
    "\n",
    "    scores_DHDT = [scores_dict_real_world[identifier]['DHDT'][metrics[0]] for identifier in identifier_list]\n",
    "\n",
    "    scores_sklearn = [scores_dict_real_world[identifier]['sklearn'][metrics[0]] for identifier in identifier_list]\n",
    "\n",
    "    scores_DHDT_mean = np.mean(scores_DHDT, axis=1) if config['computation']['trials'] > 1 else scores_DHDT\n",
    "    scores_sklearn_mean = np.mean(scores_sklearn, axis=1) if config['computation']['trials'] > 1 else scores_sklearn\n",
    "\n",
    "    scores_DHDT_max = np.max(scores_DHDT, axis=1) if config['computation']['trials'] > 1 else scores_DHDT\n",
    "    scores_sklearn_max = np.max(scores_sklearn, axis=1) if config['computation']['trials'] > 1 else scores_sklearn\n",
    "\n",
    "    scores_DHDT_std = np.std(scores_DHDT, axis=1) if config['computation']['trials'] > 1 else np.array([0.0] * config['computation']['trials'])\n",
    "    scores_sklearn_std = np.std(scores_sklearn, axis=1) if config['computation']['trials'] > 1 else np.array([0.0] * config['computation']['trials'])\n",
    "\n",
    "    results_DHDT = np.vstack([scores_DHDT_mean, scores_DHDT_max, scores_DHDT_std])\n",
    "    results_sklearn = np.vstack([scores_sklearn_mean, scores_sklearn_max, scores_sklearn_std])\n",
    "\n",
    "\n",
    "    scores_dataframe_real_world = pd.DataFrame(data=np.vstack([results_DHDT, results_sklearn]).T, index = index, columns = columns)\n",
    "    display(scores_dataframe_real_world)\n",
    "    display(scores_dataframe_real_world[scores_dataframe_real_world.columns[1::3]])\n",
    "\n"
   ]
  },
  {
   "cell_type": "code",
   "execution_count": null,
   "id": "38c55370-5fa9-4f3c-a1a8-be597467f808",
   "metadata": {
    "execution": {
     "iopub.status.busy": "2022-06-08T17:19:26.359594Z",
     "iopub.status.idle": "2022-06-08T17:19:26.359768Z",
     "shell.execute_reply": "2022-06-08T17:19:26.359681Z",
     "shell.execute_reply.started": "2022-06-08T17:19:26.359671Z"
    },
    "tags": []
   },
   "outputs": [],
   "source": [
    "if False:\n",
    "    identifier = identifier_list[0]#\"Absenteeism\"\n",
    "    plt.figure(figsize=(15,8))\n",
    "    image = model_dict_real_world[identifier]['DHDT'].plot(normalizer_list=dataset_dict_real_world[identifier]['normalizer_list'])\n",
    "    display(image)\n",
    "\n",
    "    plt.figure(figsize=(15,8))\n",
    "    plot_tree(model_dict_real_world[identifier]['sklearn'], fontsize=10) \n",
    "    plt.show()"
   ]
  },
  {
   "cell_type": "code",
   "execution_count": null,
   "id": "196fbd88-44c9-4d7f-b58d-def1eeb6d434",
   "metadata": {
    "tags": []
   },
   "outputs": [],
   "source": []
  },
  {
   "cell_type": "markdown",
   "id": "84e73582-0f9e-4522-9a94-dc59f4e566e9",
   "metadata": {},
   "source": [
    "# Hyperparameter Optimization"
   ]
  },
  {
   "cell_type": "code",
   "execution_count": null,
   "id": "09315b63-50a1-4b2c-bfa9-d7b6d961de34",
   "metadata": {
    "execution": {
     "iopub.status.busy": "2022-06-08T17:19:26.360379Z",
     "iopub.status.idle": "2022-06-08T17:19:26.360549Z",
     "shell.execute_reply": "2022-06-08T17:19:26.360466Z",
     "shell.execute_reply.started": "2022-06-08T17:19:26.360456Z"
    },
    "tags": []
   },
   "outputs": [],
   "source": [
    "parameter_dict = {\n",
    "        'depth': [3],\n",
    "        'learning_rate': [0.05, 0.01, 0.005, 0.001, 0.0005],#[0.1, 0.05, 0.01, 0.005, 0.001, 0.0005, 0.0001],\n",
    "        \n",
    "        'loss': ['binary_crossentropy'],#['binary_crossentropy', 'rmse'],#'mae',\n",
    "        'optimizer': ['adam', 'sgd'],#['adam', 'sgd'],        \n",
    "        \n",
    "        'beta_1': [10, 50],#[10, 50, 100],\n",
    "        'beta_2': [10, 50],#[10, 50, 100],\n",
    "        \n",
    "        'squeeze_factor': [0.2, 0.5, 1, 2, 5],#[0.2, 0.5, 1, 2, 5],    \n",
    "}\n",
    "\n",
    "parameter_grid = ParameterGrid(parameter_dict)"
   ]
  },
  {
   "cell_type": "code",
   "execution_count": null,
   "id": "952be342-9751-474b-8780-f185b3f9c29d",
   "metadata": {
    "execution": {
     "iopub.status.busy": "2022-06-08T17:19:26.361185Z",
     "iopub.status.idle": "2022-06-08T17:19:26.361356Z",
     "shell.execute_reply": "2022-06-08T17:19:26.361272Z",
     "shell.execute_reply.started": "2022-06-08T17:19:26.361262Z"
    },
    "tags": []
   },
   "outputs": [],
   "source": [
    "if False:\n",
    "    parallel_hpo_synthetic = Parallel(n_jobs=config['computation']['n_jobs'], verbose=3, backend='loky') #loky #sequential multiprocessing\n",
    "    evaluation_results_hpo_synthetic = parallel_hpo_synthetic(delayed(evaluate_parameter_setting_synthetic)(parameter_setting) for parameter_setting in parameter_grid)\n",
    "\n",
    "    sorted_evaluation_results_hpo_synthetic = sorted(evaluation_results_hpo_synthetic, key=lambda x: x[0], reverse=True)\n",
    "    print(sorted_evaluation_results_hpo_synthetic[:5])"
   ]
  },
  {
   "cell_type": "code",
   "execution_count": null,
   "id": "7af8512c-cb73-43ac-811a-d7d334db97ee",
   "metadata": {
    "execution": {
     "iopub.status.busy": "2022-06-08T17:19:26.362212Z",
     "iopub.status.idle": "2022-06-08T17:19:26.362573Z",
     "shell.execute_reply": "2022-06-08T17:19:26.362426Z",
     "shell.execute_reply.started": "2022-06-08T17:19:26.362409Z"
    }
   },
   "outputs": [],
   "source": [
    "if False:\n",
    "    identifier_list = [\n",
    "                        'Titanic',\n",
    "                        'Absenteeism',\n",
    "                        #'Adult',\n",
    "                      ]\n",
    "\n",
    "    sorted_evaluation_results_hpo_real_dict = {}\n",
    "\n",
    "    for identifier in identifier_list:\n",
    "        parallel_hpo_real = Parallel(n_jobs=config['computation']['n_jobs'], verbose=3, backend='loky') #loky #sequential multiprocessing\n",
    "        evaluation_results_hpo_real = parallel_hpo_real(delayed(evaluate_parameter_setting_real_world)(parameter_setting, identifier) for parameter_setting in parameter_grid)\n",
    "\n",
    "        sorted_evaluation_results_hpo_real = sorted(evaluation_results_hpo_real, key=lambda x: x[0], reverse=True)\n",
    "\n",
    "        sorted_evaluation_results_hpo_real_dict[identifier] = sorted_evaluation_results_hpo_real\n",
    "\n",
    "        print(sorted_evaluation_results_hpo_real[:5])\n",
    "        "
   ]
  },
  {
   "cell_type": "code",
   "execution_count": null,
   "id": "40147db1-760f-432d-ac2c-0267a8256f8a",
   "metadata": {},
   "outputs": [],
   "source": []
  },
  {
   "cell_type": "code",
   "execution_count": null,
   "id": "9358c9e7-58be-4006-b120-6b14f8364122",
   "metadata": {},
   "outputs": [],
   "source": []
  }
 ],
 "metadata": {
  "kernelspec": {
   "display_name": "Python 3 (ipykernel)",
   "language": "python",
   "name": "python3"
  },
  "language_info": {
   "codemirror_mode": {
    "name": "ipython",
    "version": 3
   },
   "file_extension": ".py",
   "mimetype": "text/x-python",
   "name": "python",
   "nbconvert_exporter": "python",
   "pygments_lexer": "ipython3",
   "version": "3.8.0"
  }
 },
 "nbformat": 4,
 "nbformat_minor": 5
}
