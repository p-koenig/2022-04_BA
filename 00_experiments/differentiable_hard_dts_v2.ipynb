{
 "cells": [
  {
   "cell_type": "code",
   "execution_count": 38,
   "id": "b6ab8be2-1b4c-4370-a837-9176d15bea41",
   "metadata": {
    "execution": {
     "iopub.execute_input": "2022-06-03T11:56:55.228191Z",
     "iopub.status.busy": "2022-06-03T11:56:55.227896Z",
     "iopub.status.idle": "2022-06-03T11:56:55.237335Z",
     "shell.execute_reply": "2022-06-03T11:56:55.236597Z",
     "shell.execute_reply.started": "2022-06-03T11:56:55.228157Z"
    },
    "tags": []
   },
   "outputs": [],
   "source": [
    "import tensorflow as tf\n",
    "import tensorflow_addons as tfa\n",
    "import numpy as np\n",
    "\n",
    "from sklearn.datasets import make_classification\n",
    "from sklearn.model_selection import train_test_split\n",
    "from sklearn.tree import DecisionTreeClassifier, plot_tree\n",
    "from sklearn.metrics import accuracy_score\n",
    "\n",
    "import os\n",
    "from tqdm.notebook import tqdm\n",
    "from matplotlib import pyplot as plt\n",
    "\n",
    "from IPython.display import Image\n",
    "from IPython.display import display, clear_output\n",
    "\n",
    "os.environ['CUDA_VISIBLE_DEVICES'] = ''\n",
    "os.environ['TF_FORCE_GPU_ALLOW_GROWTH'] = '' #'true'\n",
    "\n",
    "#######################################################################################################################################\n",
    "import warnings\n",
    "warnings.filterwarnings('ignore')\n",
    "os.environ['TF_CPP_MIN_LOG_LEVEL'] = '3' \n",
    "import logging\n",
    "\n",
    "tf.get_logger().setLevel('ERROR')\n",
    "tf.autograph.set_verbosity(3)\n",
    "\n",
    "from keras import backend as K\n",
    "from keras.utils.generic_utils import get_custom_objects\n",
    "def sigmoid_squeeze(x):\n",
    "    x = 1/(1+K.exp(-3*x))\n",
    "    return x  \n"
   ]
  },
  {
   "cell_type": "code",
   "execution_count": 2,
   "id": "aa08eca3-ed45-4eca-bd81-d8d679cb13bb",
   "metadata": {
    "execution": {
     "iopub.execute_input": "2022-06-03T11:27:21.049898Z",
     "iopub.status.busy": "2022-06-03T11:27:21.049757Z",
     "iopub.status.idle": "2022-06-03T11:27:21.053168Z",
     "shell.execute_reply": "2022-06-03T11:27:21.052732Z",
     "shell.execute_reply.started": "2022-06-03T11:27:21.049875Z"
    },
    "tags": []
   },
   "outputs": [],
   "source": [
    "def make_batch(iterable, n=1):\n",
    "    l = len(iterable)\n",
    "    for ndx in range(0, l, n):\n",
    "        yield iterable[ndx:min(ndx + n, l)]    "
   ]
  },
  {
   "cell_type": "code",
   "execution_count": 42,
   "id": "87eab793-0128-4e09-a87f-293ea35904af",
   "metadata": {
    "execution": {
     "iopub.execute_input": "2022-06-03T12:05:02.810045Z",
     "iopub.status.busy": "2022-06-03T12:05:02.809860Z",
     "iopub.status.idle": "2022-06-03T12:05:02.824826Z",
     "shell.execute_reply": "2022-06-03T12:05:02.824485Z",
     "shell.execute_reply.started": "2022-06-03T12:05:02.810023Z"
    },
    "tags": []
   },
   "outputs": [
    {
     "data": {
      "text/plain": [
       "<tf.Tensor: shape=(3,), dtype=float32, numpy=array([0.09003057, 0.24472848, 0.66524094], dtype=float32)>"
      ]
     },
     "execution_count": 42,
     "metadata": {},
     "output_type": "execute_result"
    }
   ],
   "source": [
    "tf.math.softmax(tf.constant([1.,2.,3.]))"
   ]
  },
  {
   "cell_type": "code",
   "execution_count": null,
   "id": "b1576279-fe14-4861-964f-1f8ebb0a1608",
   "metadata": {},
   "outputs": [],
   "source": []
  },
  {
   "cell_type": "code",
   "execution_count": 55,
   "id": "a3f2e596-9bb2-4026-890e-7b42365e81f7",
   "metadata": {
    "execution": {
     "iopub.execute_input": "2022-06-03T12:13:22.958229Z",
     "iopub.status.busy": "2022-06-03T12:13:22.957906Z",
     "iopub.status.idle": "2022-06-03T12:13:23.012119Z",
     "shell.execute_reply": "2022-06-03T12:13:23.011506Z",
     "shell.execute_reply.started": "2022-06-03T12:13:22.958182Z"
    },
    "tags": []
   },
   "outputs": [],
   "source": [
    "class DHDT(tf.Module):\n",
    "    \n",
    "    def __init__(\n",
    "            self,\n",
    "            depth=3,\n",
    "            function_representation_type = 3,\n",
    "            number_of_variables = 5,\n",
    "            learning_rate=1e-3,\n",
    "            loss='binary_crossentropy',#'mae',\n",
    "            random_seed=42,\n",
    "            verbosity=1):    \n",
    "        \n",
    "        \n",
    "        self.depth = depth\n",
    "        self.learning_rate = learning_rate\n",
    "        self.loss = tf.keras.losses.get(loss)\n",
    "        self.seed = random_seed\n",
    "        self.verbosity = verbosity\n",
    "        self.function_representation_type = function_representation_type\n",
    "        self.number_of_variables = number_of_variables\n",
    "        \n",
    "        self.internal_node_num_ = 2 ** self.depth - 1 \n",
    "        self.leaf_node_num_ = 2 ** self.depth\n",
    "        \n",
    "        tf.random.set_seed(self.seed)\n",
    "        \n",
    "        function_representation_length = ( \n",
    "          (2 ** self.depth - 1) * 2 + (2 ** self.depth)  if self.function_representation_type == 1 \n",
    "          else (2 ** self.depth - 1) + ((2 ** self.depth - 1) * self.number_of_variables) + (2 ** self.depth) if self.function_representation_type == 2 \n",
    "          else ((2 ** self.depth - 1) * self.number_of_variables * 2) + (2 ** self.depth)  if self.function_representation_type >= 3 \n",
    "          else None\n",
    "                                      )        \n",
    "        \n",
    "        self.dt_params =  tf.Variable(tf.keras.initializers.GlorotUniform(seed=self.seed)(shape=(function_representation_length,)),\n",
    "                                      trainable=True,\n",
    "                                      name='dt_params')\n",
    "        \n",
    "    def fit(self, X, y, batch_size=32, epochs=100, early_stopping_epochs=5):\n",
    "        \n",
    "        minimum_loss_epoch = np.inf\n",
    "        epochs_without_improvement = 0        \n",
    "        \n",
    "        for current_epoch in tqdm(range(epochs)):\n",
    "            tf.random.set_seed(self.seed + current_epoch)\n",
    "            X = tf.random.shuffle(X, seed=self.seed + current_epoch)\n",
    "            tf.random.set_seed(self.seed + current_epoch)\n",
    "            y = tf.random.shuffle(y, seed=self.seed + current_epoch)\n",
    "            \n",
    "            loss_list = []\n",
    "            for index, (X_batch, y_batch) in enumerate(zip(make_batch(X, batch_size), make_batch(y, batch_size))):\n",
    "                current_loss = self.backward(X_batch, y_batch)\n",
    "                loss_list.append(float(current_loss))\n",
    "                \n",
    "                if self.verbosity >= 2:\n",
    "                    batch_idx = (index+1)*batch_size\n",
    "                    msg = \"Epoch: {:02d} | Batch: {:03d} | Loss: {:.5f} |\"\n",
    "                    print(msg.format(current_epoch, batch_idx, current_loss))                   \n",
    "                  \n",
    "            if self.verbosity > 0:    \n",
    "                msg = \"Epoch: {:02d} | Loss: {:.5f} |\"\n",
    "                print(msg.format(current_epoch, np.mean(loss_list)))              \n",
    "            \n",
    "            current_loss_epoch = np.mean(loss_list)\n",
    "\n",
    "            if current_loss_epoch < minimum_loss_epoch:\n",
    "                minimum_loss_epoch = current_loss_epoch\n",
    "                epochs_without_improvement = 0\n",
    "            else:\n",
    "                epochs_without_improvement += 1\n",
    "                \n",
    "            if epochs_without_improvement >= early_stopping_epochs:\n",
    "                break\n",
    "    \n",
    "    \n",
    "    \n",
    "    @tf.function(jit_compile=True)                    \n",
    "    def forward(self, X):\n",
    "        X = tf.dtypes.cast(tf.convert_to_tensor(X), tf.float32)       \n",
    "\n",
    "        maximum_depth = self.depth\n",
    "        leaf_node_num_ = 2 ** maximum_depth\n",
    "        internal_node_num_ = 2 ** maximum_depth - 1\n",
    "        \n",
    "        dt_params_activation = self.apply_activation(self.dt_params)\n",
    "        \n",
    "        internal_nodes, leaf_nodes = self.get_shaped_parameters_for_decision_tree(dt_params_activation)\n",
    "\n",
    "        function_values_dhdt = tf.vectorized_map(self.calculate_function_value_from_vanilla_decision_tree_parameter_single_sample_wrapper(internal_nodes,\n",
    "                                                                                                                                          leaf_nodes,\n",
    "                                                                                                                                          leaf_node_num_, \n",
    "                                                                                                                                          internal_node_num_, \n",
    "                                                                                                                                          maximum_depth,\n",
    "                                                                                                                                          self.number_of_variables), \n",
    "                                                                                                                                          X)\n",
    "\n",
    "        return function_values_dhdt  \n",
    "           \n",
    "    def predict(self, X):\n",
    "        return self.forward(X)\n",
    "        \n",
    "    def backward(self, x,y):\n",
    "        optimizer = tf.keras.optimizers.Adam(learning_rate=self.learning_rate)#tf.compat.v1.train.GradientDescentOptimizer(learning_rate=0.01)\n",
    "        with tf.GradientTape() as tape:\n",
    "            #tape.watch(self.dt_params)\n",
    "            predicted = self.forward(x)\n",
    "            current_loss = self.loss(y, predicted)\n",
    "            \n",
    "        #tf.print('current_loss', current_loss, summarize=-1)\n",
    "        #tf.print('self.dt_params', self.dt_params, summarize=-1)\n",
    "        grads = tape.gradient(current_loss, self.dt_params)\n",
    "        #optimizer.apply_gradients(zip(grads, self.dt_params),\n",
    "        #                          global_step=tf.compat.v1.train.get_or_create_global_step())     \n",
    "        \n",
    "        #tf.print('grads', grads, summarize=-1)\n",
    "        optimizer.apply_gradients(zip([grads], [self.dt_params]))\n",
    "        #tf.print('self.dt_params', self.dt_params, summarize=-1)\n",
    "        return current_loss\n",
    "        \n",
    "    \n",
    "    def apply_activation(self, dt_params):\n",
    "\n",
    "        dt_params_activation = dt_params\n",
    "        \n",
    "        if self.function_representation_type == 1:\n",
    "            pass\n",
    "        elif self.function_representation_type == 2:\n",
    "            pass\n",
    "        elif self.function_representation_type >= 3:\n",
    "            outputs_coeff_neurons_num_ = self.internal_node_num_ * self.number_of_variables\n",
    "\n",
    "            if self.function_representation_type == 3:\n",
    "                dt_params_activation[:outputs_coeff_neurons_num_].assign(tf.math.sigmoid(dt_params[:outputs_coeff_neurons_num_]))\n",
    "            elif self.function_representation_type == 4:\n",
    "                dt_params_activation[:outputs_coeff_neurons_num_].assign(sigmoid_squeeze(dt_params[:outputs_coeff_neurons_num_]))\n",
    "\n",
    "            current_position = outputs_coeff_neurons_num_\n",
    "            for outputs_index in range(self.internal_node_num_):\n",
    "                outputs_identifer_neurons = self.number_of_variables\n",
    "\n",
    "                dt_params_activation[current_position:current_position+outputs_identifer_neurons].assign(tf.math.softmax(dt_params[current_position:current_position+outputs_identifer_neurons]))\n",
    "                current_position += outputs_identifer_neurons\n",
    "\n",
    "            dt_params_activation[current_position:].assign(tf.math.sigmoid(dt_params[current_position:]))\n",
    "\n",
    "        \n",
    "        return dt_params_activation\n",
    "    \n",
    "    def get_shaped_parameters_for_decision_tree(self, parameter_array):\n",
    "\n",
    "        internal_node_num_ = 2 ** self.depth - 1 \n",
    "        leaf_node_num_ = 2 ** self.depth\n",
    "\n",
    "        if self.function_representation_type == 1:\n",
    "\n",
    "            splits_coeff = parameter_array[:internal_node_num_]\n",
    "            splits_coeff = tf.clip_by_value(splits_coeff, clip_value_min=0, clip_value_max=1)\n",
    "            splits_coeff_list = tf.split(splits_coeff, internal_node_num_)\n",
    "            splits_index = tf.cast(tf.clip_by_value(tf.round(parameter_array[internal_node_num_:internal_node_num_*2]), clip_value_min=0, clip_value_max=self.number_of_variables-1), tf.int64)\n",
    "            splits_index_list = tf.split(splits_index, internal_node_num_)\n",
    "\n",
    "            splits_list = []\n",
    "            for values_node, indices_node in zip(splits_coeff_list, splits_index_list):\n",
    "                sparse_tensor = tf.sparse.SparseTensor(indices=tf.expand_dims(indices_node, axis=1), values=values_node, dense_shape=[self.number_of_variables])\n",
    "                dense_tensor = tf.sparse.to_dense(sparse_tensor)\n",
    "                splits_list.append(dense_tensor)             \n",
    "\n",
    "            splits = tf.stack(splits_list)            \n",
    "\n",
    "            leaf_classes = parameter_array[internal_node_num_*2:]  \n",
    "            leaf_classes = tf.clip_by_value(leaf_classes, clip_value_min=0, clip_value_max=1)\n",
    "\n",
    "        elif self.function_representation_type == 2:\n",
    "\n",
    "            split_values_num_params = internal_node_num_ \n",
    "            split_index_num_params = self.number_of_variables * internal_node_num_\n",
    "            leaf_classes_num_params = leaf_node_num_ \n",
    "\n",
    "            split_values = parameter_array[:split_values_num_params]\n",
    "            split_values_list_by_internal_node = tf.split(split_values, internal_node_num_)\n",
    "\n",
    "            split_index_array = parameter_array[split_values_num_params:split_values_num_params+split_index_num_params]    \n",
    "            split_index_list_by_internal_node = tf.split(split_index_array, internal_node_num_)\n",
    "            split_index_list_by_internal_node_by_decision_sparsity = []\n",
    "            for tensor in split_index_list_by_internal_node:\n",
    "                split_tensor = tf.split(tensor, 1)\n",
    "                split_index_list_by_internal_node_by_decision_sparsity.append(split_tensor)\n",
    "            split_index_list_by_internal_node_by_decision_sparsity_argmax = tf.split(tf.argmax(split_index_list_by_internal_node_by_decision_sparsity, axis=2), internal_node_num_)\n",
    "            split_index_list_by_internal_node_by_decision_sparsity_argmax_new = []\n",
    "            for tensor in split_index_list_by_internal_node_by_decision_sparsity_argmax:\n",
    "                tensor_squeeze = tf.squeeze(tensor, axis=0)\n",
    "                split_index_list_by_internal_node_by_decision_sparsity_argmax_new.append(tensor_squeeze)\n",
    "            split_index_list_by_internal_node_by_decision_sparsity_argmax = split_index_list_by_internal_node_by_decision_sparsity_argmax_new    \n",
    "            dense_tensor_list = []\n",
    "            for indices_node, values_node in zip(split_index_list_by_internal_node_by_decision_sparsity_argmax,  split_values_list_by_internal_node):\n",
    "                sparse_tensor = tf.sparse.SparseTensor(indices=tf.expand_dims(indices_node, axis=1), values=values_node, dense_shape=[self.number_of_variables])\n",
    "                dense_tensor = tf.sparse.to_dense(sparse_tensor)\n",
    "                dense_tensor_list.append(dense_tensor) \n",
    "            splits = tf.stack(dense_tensor_list)\n",
    "\n",
    "            leaf_classes_array = parameter_array[split_values_num_params+split_index_num_params:]  \n",
    "            split_index_list_by_leaf_node = tf.split(leaf_classes_array, leaf_node_num_)\n",
    "\n",
    "            leaf_classes = tf.squeeze(tf.stack(split_index_list_by_leaf_node))\n",
    "\n",
    "        elif self.function_representation_type >= 3:\n",
    "\n",
    "            split_values_num_params = self.number_of_variables * internal_node_num_\n",
    "            split_index_num_params = self.number_of_variables * internal_node_num_\n",
    "            leaf_classes_num_params = leaf_node_num_ \n",
    "\n",
    "            split_values = parameter_array[:split_values_num_params]\n",
    "            split_values_list_by_internal_node = tf.split(split_values, internal_node_num_)\n",
    "\n",
    "            split_index_array = parameter_array[split_values_num_params:split_values_num_params+split_index_num_params]    \n",
    "            split_index_list_by_internal_node = tf.split(split_index_array, internal_node_num_)         \n",
    "\n",
    "            split_index_list_by_internal_node_max = tfa.seq2seq.hardmax(split_index_list_by_internal_node)\n",
    "\n",
    "            splits = tf.stack(tf.multiply(split_values_list_by_internal_node, split_index_list_by_internal_node_max))\n",
    "\n",
    "            leaf_classes_array = parameter_array[split_values_num_params+split_index_num_params:]  \n",
    "            split_index_list_by_leaf_node = tf.split(leaf_classes_array, leaf_node_num_)\n",
    "\n",
    "            leaf_classes = tf.squeeze(tf.stack(split_index_list_by_leaf_node))\n",
    "\n",
    "\n",
    "\n",
    "        return splits, leaf_classes\n",
    "\n",
    "\n",
    "    def calculate_function_value_from_vanilla_decision_tree_parameter_single_sample_wrapper(self, \n",
    "                                                                                            internal_nodes, \n",
    "                                                                                            leaf_nodes, \n",
    "                                                                                            leaf_node_num_, \n",
    "                                                                                            internal_node_num_, \n",
    "                                                                                            maximum_depth, \n",
    "                                                                                            number_of_variables):\n",
    "\n",
    "        #self.internal_nodes = tf.cast(self.internal_nodes, tf.float32)\n",
    "        #self.leaf_nodes = tf.cast(self.leaf_nodes, tf.float32)   \n",
    "\n",
    "        def calculate_function_value_from_vanilla_decision_tree_parameter_single_sample(x):\n",
    "\n",
    "            x = tf.cast(x, tf.float32)\n",
    "\n",
    "            internal_nodes_split = tf.split(internal_nodes, internal_node_num_)\n",
    "            internal_nodes_split_new = [[] for _ in range(maximum_depth)]\n",
    "            for i, tensor in enumerate(internal_nodes_split):\n",
    "                current_depth = np.ceil(np.log2((i+1)+1)).astype(np.int32)\n",
    "\n",
    "                internal_nodes_split_new[current_depth-1].append(tf.squeeze(tensor, axis=0))\n",
    "\n",
    "            internal_nodes_split = internal_nodes_split_new\n",
    "\n",
    "            split_value_list = []\n",
    "            for i in range(maximum_depth):\n",
    "                current_depth = i+1\n",
    "                num_nodes_current_layer = 2**current_depth - 1 - (2**(current_depth-1) - 1)\n",
    "                split_value_list_per_depth = []\n",
    "                for j in range(num_nodes_current_layer):\n",
    "                    zero_identifier = tf.not_equal(internal_nodes_split[i][j], tf.zeros_like(internal_nodes_split[i][j]))\n",
    "                    split_complete = tf.greater(x, internal_nodes_split[i][j])\n",
    "                    split_value = tf.reduce_any(tf.logical_and(zero_identifier, split_complete))\n",
    "                    split_value_filled = tf.fill( [2**(maximum_depth-current_depth)] , split_value)\n",
    "                    split_value_neg_filled = tf.fill([2**(maximum_depth-current_depth)], tf.logical_not(split_value))\n",
    "                    split_value_list_per_depth.append(tf.keras.backend.flatten(tf.stack([split_value_neg_filled, split_value_filled])))        \n",
    "                split_value_list.append(tf.keras.backend.flatten(tf.stack(split_value_list_per_depth)))\n",
    "\n",
    "            split_values = tf.cast(tf.reduce_all(tf.stack(split_value_list), axis=0), tf.float32)    \n",
    "            leaf_classes = tf.cast(leaf_nodes, tf.float32)\n",
    "            final_class_probability = 1-tf.reduce_max(tf.multiply(leaf_classes, split_values))                                                                                                                                            \n",
    "            return final_class_probability\n",
    "\n",
    "        return calculate_function_value_from_vanilla_decision_tree_parameter_single_sample\n",
    "\n",
    "\n",
    "    def plot(self, path='./dt_plot.png'):\n",
    "        from anytree import Node, RenderTree\n",
    "        from anytree.exporter import DotExporter\n",
    "        \n",
    "        normalizer_list = None#self.normalizer_list\n",
    "\n",
    "        parameter_array = apply_activation(self, self.dt_params)\n",
    "        \n",
    "        splits, leaf_classes = self.get_shaped_parameters_for_decision_tree(parameter_array)\n",
    "\n",
    "        splits = splits.numpy()\n",
    "        leaf_classes = leaf_classes.numpy()\n",
    "\n",
    "\n",
    "        if normalizer_list is not None: \n",
    "            transpose = splits.transpose()\n",
    "            transpose_normalized = []\n",
    "            for i, column in enumerate(transpose):\n",
    "                column_new = column\n",
    "                if len(column_new[column_new != 0]) != 0:\n",
    "                    column_new[column_new != 0] = normalizer_list[i].inverse_transform(column[column != 0].reshape(-1, 1)).ravel()\n",
    "                #column_new = normalizer_list[i].inverse_transform(column.reshape(-1, 1)).ravel()\n",
    "                transpose_normalized.append(column_new)\n",
    "            splits = np.array(transpose_normalized).transpose()\n",
    "\n",
    "        splits_by_layer = []\n",
    "        for i in range(self.depth+1):\n",
    "            start = 2**i - 1\n",
    "            end = 2**(i+1) -1\n",
    "            splits_by_layer.append(splits[start:end])\n",
    "\n",
    "        nodes = {\n",
    "        }\n",
    "        #tree = Tree()\n",
    "        for i, splits in enumerate(splits_by_layer):\n",
    "            for j, split in enumerate(splits):\n",
    "                if i == 0:\n",
    "                    current_node_id = int(2**i - 1 + j)\n",
    "                    name = 'n' + str(current_node_id)#'l' + str(i) + 'n' + str(j)\n",
    "                    split_variable = np.argmax(np.abs(split))\n",
    "                    split_value = np.round(split[split_variable], 3)\n",
    "                    split_description = 'x' + str(split_variable) + ' <= '  + str(split_value)\n",
    "\n",
    "                    nodes[name] = Node(name=name, display_name=split_description)\n",
    "\n",
    "                    #tree.create_node(tag=split_description, identifier=name, data=None)            \n",
    "                else:\n",
    "                    current_node_id = int(2**i - 1 + j)\n",
    "                    name = 'n' + str(current_node_id)#'l' + str(i) + 'n' + str(j)\n",
    "                    parent_node_id = int(np.floor((current_node_id-1)/2))\n",
    "                    parent_name = 'n' + str(parent_node_id)\n",
    "                    split_variable = np.argmax(np.abs(split))\n",
    "                    split_value = np.round(split[split_variable], 3)\n",
    "                    split_description = 'x' + str(split_variable) + ' <= '  + str(split_value)\n",
    "\n",
    "                    nodes[name] = Node(name=name, parent=nodes[parent_name], display_name=split_description)\n",
    "\n",
    "                    #tree.create_node(tag=split_description, identifier=name, parent=parent_name, data=None)\n",
    "\n",
    "        for j, leaf_class in enumerate(leaf_classes):\n",
    "            i = self.depth\n",
    "            current_node_id = int(2**i - 1 + j)\n",
    "            name = 'n' + str(current_node_id)#'l' + str(i) + 'n' + str(j)\n",
    "            parent_node_id = int(np.floor((current_node_id-1)/2))\n",
    "            parent_name = 'n' + str(parent_node_id)\n",
    "            #split_variable = np.argmax(np.abs(split))\n",
    "            #split_value = np.round(split[split_variable], 3)\n",
    "            split_description = str(np.round((1-leaf_class), 3))#'x' + str(split_variable) + ' <= '  + str(split_value)\n",
    "            nodes[name] = Node(name=name, parent=nodes[parent_name], display_name=split_description)\n",
    "            #tree.create_node(tag=split_description, identifier=name, parent=parent_name, data=None)        \n",
    "\n",
    "            DotExporter(nodes['n0'], nodeattrfunc=lambda node: 'label=\"{}\"'.format(node.display_name)).to_picture(path)\n",
    "\n",
    "\n",
    "        return Image(path)#, nodes#nodes#tree        \n",
    "\n",
    "        \n",
    "    "
   ]
  },
  {
   "cell_type": "code",
   "execution_count": 56,
   "id": "8d5cd948-2ff4-41bb-8f2e-3c92ab05ae0e",
   "metadata": {
    "execution": {
     "iopub.execute_input": "2022-06-03T12:13:24.069167Z",
     "iopub.status.busy": "2022-06-03T12:13:24.068898Z",
     "iopub.status.idle": "2022-06-03T12:13:31.933241Z",
     "shell.execute_reply": "2022-06-03T12:13:31.932732Z",
     "shell.execute_reply.started": "2022-06-03T12:13:24.069129Z"
    },
    "tags": []
   },
   "outputs": [
    {
     "data": {
      "application/vnd.jupyter.widget-view+json": {
       "model_id": "dfa5663aaeed44ad99d56789e0e16708",
       "version_major": 2,
       "version_minor": 0
      },
      "text/plain": [
       "  0%|          | 0/10000 [00:00<?, ?it/s]"
      ]
     },
     "metadata": {},
     "output_type": "display_data"
    },
    {
     "name": "stdout",
     "output_type": "stream",
     "text": [
      "70 70\n",
      "70 70\n",
      "70 70\n",
      "Test Accuracy 0.5016666666666667\n"
     ]
    }
   ],
   "source": [
    "model_dhdt = DHDT(\n",
    "            depth=3,\n",
    "            function_representation_type = 3,\n",
    "            number_of_variables = 5,\n",
    "            learning_rate=1e-3,\n",
    "            loss='binary_crossentropy',#'binary_crossentropy',\n",
    "            random_seed=42,\n",
    "            verbosity=0)\n",
    "\n",
    "model_dhdt.fit(X_train, y_train, batch_size=64, epochs=10_000, early_stopping_epochs=50)\n",
    "\n",
    "y_test_model = model_dhdt.predict(X_test)\n",
    "score_dhdt = accuracy_score(y_test, np.round(y_test_model))\n",
    "\n",
    "print('Test Accuracy', score_dhdt)"
   ]
  },
  {
   "cell_type": "code",
   "execution_count": 11,
   "id": "7298793a-3131-489d-88c2-8c9da85d6db3",
   "metadata": {
    "execution": {
     "iopub.execute_input": "2022-06-03T11:29:19.217766Z",
     "iopub.status.busy": "2022-06-03T11:29:19.217502Z",
     "iopub.status.idle": "2022-06-03T11:29:19.225474Z",
     "shell.execute_reply": "2022-06-03T11:29:19.224961Z",
     "shell.execute_reply.started": "2022-06-03T11:29:19.217733Z"
    },
    "tags": []
   },
   "outputs": [],
   "source": [
    "X, y = make_classification(\n",
    "    n_samples=10_000, n_features=5, n_informative=2, n_redundant=2, random_state=42\n",
    ")\n",
    "\n",
    "train_samples = 1000  # Samples used for training the models\n",
    "X_train, X_test, y_train, y_test = train_test_split(\n",
    "    X,\n",
    "    y,\n",
    "    shuffle=False,\n",
    "    test_size=10_000 - train_samples,\n",
    ")"
   ]
  },
  {
   "cell_type": "code",
   "execution_count": 12,
   "id": "46fb31cb-037d-43de-9387-c1eb289a0f0d",
   "metadata": {
    "execution": {
     "iopub.execute_input": "2022-06-03T11:29:20.719739Z",
     "iopub.status.busy": "2022-06-03T11:29:20.719533Z",
     "iopub.status.idle": "2022-06-03T11:29:20.727108Z",
     "shell.execute_reply": "2022-06-03T11:29:20.726657Z",
     "shell.execute_reply.started": "2022-06-03T11:29:20.719714Z"
    },
    "tags": []
   },
   "outputs": [
    {
     "data": {
      "text/plain": [
       "0.8864444444444445"
      ]
     },
     "execution_count": 12,
     "metadata": {},
     "output_type": "execute_result"
    }
   ],
   "source": [
    "model_sklearn = DecisionTreeClassifier(max_depth=3)\n",
    "\n",
    "model_sklearn.fit(X_train, y_train)\n",
    "\n",
    "model_sklearn.score(X_test, y_test)"
   ]
  },
  {
   "cell_type": "code",
   "execution_count": 13,
   "id": "ad4680db-14cd-4ecb-87f3-c649cdc7a855",
   "metadata": {
    "execution": {
     "iopub.execute_input": "2022-06-03T11:29:23.065148Z",
     "iopub.status.busy": "2022-06-03T11:29:23.064938Z",
     "iopub.status.idle": "2022-06-03T11:29:32.432717Z",
     "shell.execute_reply": "2022-06-03T11:29:32.431863Z",
     "shell.execute_reply.started": "2022-06-03T11:29:23.065123Z"
    },
    "tags": []
   },
   "outputs": [
    {
     "data": {
      "application/vnd.jupyter.widget-view+json": {
       "model_id": "252de89954dd4fc297df1a6aa77f2bbe",
       "version_major": 2,
       "version_minor": 0
      },
      "text/plain": [
       "  0%|          | 0/10000 [00:00<?, ?it/s]"
      ]
     },
     "metadata": {},
     "output_type": "display_data"
    },
    {
     "name": "stdout",
     "output_type": "stream",
     "text": [
      "Test Accuracy 0.49833333333333335\n"
     ]
    }
   ],
   "source": [
    "model_dhdt = DHDT(\n",
    "            depth=3,\n",
    "            function_representation_type = 1,\n",
    "            number_of_variables = 5,\n",
    "            learning_rate=1e-3,\n",
    "            loss='mae',#'binary_crossentropy',\n",
    "            random_seed=42,\n",
    "            verbosity=0)\n",
    "\n",
    "model_dhdt.fit(X_train, y_train, batch_size=64, epochs=10_000, early_stopping_epochs=50)\n",
    "\n",
    "y_test_model = model_dhdt.predict(X_test)\n",
    "score_dhdt = accuracy_score(y_test, np.round(y_test_model))\n",
    "\n",
    "print('Test Accuracy', score_dhdt)"
   ]
  },
  {
   "cell_type": "code",
   "execution_count": 14,
   "id": "447bab11-2cec-4ceb-911f-3b5ad70a2bb1",
   "metadata": {
    "execution": {
     "iopub.execute_input": "2022-06-03T11:29:32.433889Z",
     "iopub.status.busy": "2022-06-03T11:29:32.433773Z",
     "iopub.status.idle": "2022-06-03T11:29:41.147242Z",
     "shell.execute_reply": "2022-06-03T11:29:41.146369Z",
     "shell.execute_reply.started": "2022-06-03T11:29:32.433874Z"
    },
    "tags": []
   },
   "outputs": [
    {
     "data": {
      "application/vnd.jupyter.widget-view+json": {
       "model_id": "057a0d688ef64cb781f6bb446c3d903f",
       "version_major": 2,
       "version_minor": 0
      },
      "text/plain": [
       "  0%|          | 0/10000 [00:00<?, ?it/s]"
      ]
     },
     "metadata": {},
     "output_type": "display_data"
    },
    {
     "name": "stdout",
     "output_type": "stream",
     "text": [
      "Test Accuracy 0.49833333333333335\n"
     ]
    }
   ],
   "source": [
    "model_dhdt = DHDT(\n",
    "            depth=3,\n",
    "            function_representation_type = 2,\n",
    "            number_of_variables = 5,\n",
    "            learning_rate=1e-3,\n",
    "            loss='mae',#'binary_crossentropy',\n",
    "            random_seed=42,\n",
    "            verbosity=0)\n",
    "\n",
    "model_dhdt.fit(X_train, y_train, batch_size=64, epochs=10_000, early_stopping_epochs=50)\n",
    "\n",
    "y_test_model = model_dhdt.predict(X_test)\n",
    "score_dhdt = accuracy_score(y_test, np.round(y_test_model))\n",
    "\n",
    "print('Test Accuracy', score_dhdt)"
   ]
  },
  {
   "cell_type": "code",
   "execution_count": 15,
   "id": "1a9a40ed-d721-4fde-a6e6-7e3f533c1a2a",
   "metadata": {
    "execution": {
     "iopub.execute_input": "2022-06-03T11:29:41.148043Z",
     "iopub.status.busy": "2022-06-03T11:29:41.147933Z",
     "iopub.status.idle": "2022-06-03T11:29:50.704479Z",
     "shell.execute_reply": "2022-06-03T11:29:50.703599Z",
     "shell.execute_reply.started": "2022-06-03T11:29:41.148028Z"
    },
    "tags": []
   },
   "outputs": [
    {
     "data": {
      "application/vnd.jupyter.widget-view+json": {
       "model_id": "86351e6028cd478bbe186e9c6f7cfc16",
       "version_major": 2,
       "version_minor": 0
      },
      "text/plain": [
       "  0%|          | 0/10000 [00:00<?, ?it/s]"
      ]
     },
     "metadata": {},
     "output_type": "display_data"
    },
    {
     "name": "stdout",
     "output_type": "stream",
     "text": [
      "Test Accuracy 0.7226666666666667\n"
     ]
    }
   ],
   "source": [
    "model_dhdt = DHDT(\n",
    "            depth=3,\n",
    "            function_representation_type = 3,\n",
    "            number_of_variables = 5,\n",
    "            learning_rate=1e-3,\n",
    "            loss='mae',#'binary_crossentropy',\n",
    "            random_seed=42,\n",
    "            verbosity=0)\n",
    "\n",
    "model_dhdt.fit(X_train, y_train, batch_size=64, epochs=10_000, early_stopping_epochs=50)\n",
    "\n",
    "y_test_model = model_dhdt.predict(X_test)\n",
    "score_dhdt = accuracy_score(y_test, np.round(y_test_model))\n",
    "\n",
    "print('Test Accuracy', score_dhdt)"
   ]
  },
  {
   "cell_type": "code",
   "execution_count": 16,
   "id": "2cab55e6-8158-4712-84cc-c8eb8b85ec9b",
   "metadata": {
    "execution": {
     "iopub.execute_input": "2022-06-03T11:30:16.600878Z",
     "iopub.status.busy": "2022-06-03T11:30:16.600689Z",
     "iopub.status.idle": "2022-06-03T11:30:35.969585Z",
     "shell.execute_reply": "2022-06-03T11:30:35.968893Z",
     "shell.execute_reply.started": "2022-06-03T11:30:16.600861Z"
    }
   },
   "outputs": [
    {
     "data": {
      "application/vnd.jupyter.widget-view+json": {
       "model_id": "e3dec53b163045a2a42b7be4de43b476",
       "version_major": 2,
       "version_minor": 0
      },
      "text/plain": [
       "  0%|          | 0/10000 [00:00<?, ?it/s]"
      ]
     },
     "metadata": {},
     "output_type": "display_data"
    },
    {
     "name": "stdout",
     "output_type": "stream",
     "text": [
      "Test Accuracy 0.7226666666666667\n"
     ]
    }
   ],
   "source": [
    "model_dhdt = DHDT(\n",
    "            depth=3,\n",
    "            function_representation_type = 3,\n",
    "            number_of_variables = 5,\n",
    "            learning_rate=1e-3,\n",
    "            loss='binary_crossentropy',#'binary_crossentropy',\n",
    "            random_seed=42,\n",
    "            verbosity=0)\n",
    "\n",
    "model_dhdt.fit(X_train, y_train, batch_size=64, epochs=10_000, early_stopping_epochs=50)\n",
    "\n",
    "y_test_model = model_dhdt.predict(X_test)\n",
    "score_dhdt = accuracy_score(y_test, np.round(y_test_model))\n",
    "\n",
    "print('Test Accuracy', score_dhdt)"
   ]
  },
  {
   "cell_type": "code",
   "execution_count": 28,
   "id": "7af2ba82-5734-4158-a6af-9260cb6917e4",
   "metadata": {
    "execution": {
     "iopub.execute_input": "2022-06-03T11:37:06.868208Z",
     "iopub.status.busy": "2022-06-03T11:37:06.867940Z",
     "iopub.status.idle": "2022-06-03T11:37:26.322035Z",
     "shell.execute_reply": "2022-06-03T11:37:26.321362Z",
     "shell.execute_reply.started": "2022-06-03T11:37:06.868187Z"
    },
    "tags": []
   },
   "outputs": [
    {
     "data": {
      "application/vnd.jupyter.widget-view+json": {
       "model_id": "29b8d389c05d41679a33a381971ce18c",
       "version_major": 2,
       "version_minor": 0
      },
      "text/plain": [
       "  0%|          | 0/10000 [00:00<?, ?it/s]"
      ]
     },
     "metadata": {},
     "output_type": "display_data"
    },
    {
     "name": "stdout",
     "output_type": "stream",
     "text": [
      "Test Accuracy 0.7226666666666667\n"
     ]
    }
   ],
   "source": [
    "model_dhdt = DHDT(\n",
    "            depth=3,\n",
    "            function_representation_type = 3,\n",
    "            number_of_variables = 5,\n",
    "            learning_rate=1e-3,\n",
    "            loss='binary_crossentropy',#'binary_crossentropy',\n",
    "            random_seed=42,\n",
    "            verbosity=0)\n",
    "\n",
    "model_dhdt.fit(X_train, y_train, batch_size=64, epochs=10_000, early_stopping_epochs=50)\n",
    "\n",
    "y_test_model = model_dhdt.predict(X_test)\n",
    "score_dhdt = accuracy_score(y_test, np.round(y_test_model))\n",
    "\n",
    "print('Test Accuracy', score_dhdt)"
   ]
  },
  {
   "cell_type": "code",
   "execution_count": 34,
   "id": "f96f5e0f-b600-4cbd-9ab6-94447f22be77",
   "metadata": {
    "execution": {
     "iopub.execute_input": "2022-06-03T11:39:44.562153Z",
     "iopub.status.busy": "2022-06-03T11:39:44.561870Z",
     "iopub.status.idle": "2022-06-03T11:39:46.430408Z",
     "shell.execute_reply": "2022-06-03T11:39:46.429883Z",
     "shell.execute_reply.started": "2022-06-03T11:39:44.562120Z"
    },
    "tags": []
   },
   "outputs": [
    {
     "data": {
      "image/png": "[encoded data removed]",
      "text/plain": [
       "<IPython.core.display.Image object>"
      ]
     },
     "metadata": {},
     "output_type": "display_data"
    },
    {
     "data": {
      "text/plain": [
       "<Figure size 1080x576 with 0 Axes>"
      ]
     },
     "metadata": {},
     "output_type": "display_data"
    },
    {
     "data": {
      "image/png": "[encoded data removed]",
      "text/plain": [
       "<Figure size 1080x576 with 1 Axes>"
      ]
     },
     "metadata": {
      "needs_background": "light"
     },
     "output_type": "display_data"
    }
   ],
   "source": [
    "plt.figure(figsize=(15,8))\n",
    "image = model_dhdt.plot()\n",
    "display(image)\n",
    "\n",
    "plt.figure(figsize=(15,8))\n",
    "plot_tree(model_sklearn, fontsize=10) \n",
    "plt.show()"
   ]
  },
  {
   "cell_type": "code",
   "execution_count": 49,
   "id": "825cbb01-5d19-42d3-a33d-03b5a8ddb0da",
   "metadata": {
    "execution": {
     "iopub.execute_input": "2022-06-03T12:10:35.169171Z",
     "iopub.status.busy": "2022-06-03T12:10:35.168872Z",
     "iopub.status.idle": "2022-06-03T12:10:35.380614Z",
     "shell.execute_reply": "2022-06-03T12:10:35.379892Z",
     "shell.execute_reply.started": "2022-06-03T12:10:35.169127Z"
    },
    "tags": []
   },
   "outputs": [
    {
     "data": {
      "application/vnd.jupyter.widget-view+json": {
       "model_id": "c2d17bc2e5b8493187ff65c903fa36c3",
       "version_major": 2,
       "version_minor": 0
      },
      "text/plain": [
       "  0%|          | 0/10000 [00:00<?, ?it/s]"
      ]
     },
     "metadata": {},
     "output_type": "display_data"
    },
    {
     "ename": "TypeError",
     "evalue": "in user code:\n\n    File \"/tmp/ipykernel_2414079/1710018781.py\", line 84, in forward  *\n        dt_params_activation = self.apply_activation(self.dt_params)\n    File \"/tmp/ipykernel_2414079/2163185584.py\", line 130, in apply_activation  *\n        dt_params[:outputs_coeff_neurons_num_] = tf.math.sigmoid(dt_params[:outputs_coeff_neurons_num_])\n\n    TypeError: 'ResourceVariable' object does not support item assignment\n",
     "output_type": "error",
     "traceback": [
      "\u001b[0;31m---------------------------------------------------------------------------\u001b[0m",
      "\u001b[0;31mTypeError\u001b[0m                                 Traceback (most recent call last)",
      "\u001b[0;32m/tmp/ipykernel_2414079/321392499.py\u001b[0m in \u001b[0;36m<module>\u001b[0;34m\u001b[0m\n\u001b[1;32m      8\u001b[0m             verbosity=0)\n\u001b[1;32m      9\u001b[0m \u001b[0;34m\u001b[0m\u001b[0m\n\u001b[0;32m---> 10\u001b[0;31m \u001b[0mmodel_dhdt\u001b[0m\u001b[0;34m.\u001b[0m\u001b[0mfit\u001b[0m\u001b[0;34m(\u001b[0m\u001b[0mX_train\u001b[0m\u001b[0;34m,\u001b[0m \u001b[0my_train\u001b[0m\u001b[0;34m,\u001b[0m \u001b[0mbatch_size\u001b[0m\u001b[0;34m=\u001b[0m\u001b[0;36m64\u001b[0m\u001b[0;34m,\u001b[0m \u001b[0mepochs\u001b[0m\u001b[0;34m=\u001b[0m\u001b[0;36m10_000\u001b[0m\u001b[0;34m,\u001b[0m \u001b[0mearly_stopping_epochs\u001b[0m\u001b[0;34m=\u001b[0m\u001b[0;36m50\u001b[0m\u001b[0;34m)\u001b[0m\u001b[0;34m\u001b[0m\u001b[0;34m\u001b[0m\u001b[0m\n\u001b[0m\u001b[1;32m     11\u001b[0m \u001b[0;34m\u001b[0m\u001b[0m\n\u001b[1;32m     12\u001b[0m \u001b[0my_test_model\u001b[0m \u001b[0;34m=\u001b[0m \u001b[0mmodel_dhdt\u001b[0m\u001b[0;34m.\u001b[0m\u001b[0mpredict\u001b[0m\u001b[0;34m(\u001b[0m\u001b[0mX_test\u001b[0m\u001b[0;34m)\u001b[0m\u001b[0;34m\u001b[0m\u001b[0;34m\u001b[0m\u001b[0m\n",
      "\u001b[0;32m/tmp/ipykernel_2414079/2163185584.py\u001b[0m in \u001b[0;36mfit\u001b[0;34m(self, X, y, batch_size, epochs, early_stopping_epochs)\u001b[0m\n\u001b[1;32m     49\u001b[0m             \u001b[0mloss_list\u001b[0m \u001b[0;34m=\u001b[0m \u001b[0;34m[\u001b[0m\u001b[0;34m]\u001b[0m\u001b[0;34m\u001b[0m\u001b[0;34m\u001b[0m\u001b[0m\n\u001b[1;32m     50\u001b[0m             \u001b[0;32mfor\u001b[0m \u001b[0mindex\u001b[0m\u001b[0;34m,\u001b[0m \u001b[0;34m(\u001b[0m\u001b[0mX_batch\u001b[0m\u001b[0;34m,\u001b[0m \u001b[0my_batch\u001b[0m\u001b[0;34m)\u001b[0m \u001b[0;32min\u001b[0m \u001b[0menumerate\u001b[0m\u001b[0;34m(\u001b[0m\u001b[0mzip\u001b[0m\u001b[0;34m(\u001b[0m\u001b[0mmake_batch\u001b[0m\u001b[0;34m(\u001b[0m\u001b[0mX\u001b[0m\u001b[0;34m,\u001b[0m \u001b[0mbatch_size\u001b[0m\u001b[0;34m)\u001b[0m\u001b[0;34m,\u001b[0m \u001b[0mmake_batch\u001b[0m\u001b[0;34m(\u001b[0m\u001b[0my\u001b[0m\u001b[0;34m,\u001b[0m \u001b[0mbatch_size\u001b[0m\u001b[0;34m)\u001b[0m\u001b[0;34m)\u001b[0m\u001b[0;34m)\u001b[0m\u001b[0;34m:\u001b[0m\u001b[0;34m\u001b[0m\u001b[0;34m\u001b[0m\u001b[0m\n\u001b[0;32m---> 51\u001b[0;31m                 \u001b[0mcurrent_loss\u001b[0m \u001b[0;34m=\u001b[0m \u001b[0mself\u001b[0m\u001b[0;34m.\u001b[0m\u001b[0mbackward\u001b[0m\u001b[0;34m(\u001b[0m\u001b[0mX_batch\u001b[0m\u001b[0;34m,\u001b[0m \u001b[0my_batch\u001b[0m\u001b[0;34m)\u001b[0m\u001b[0;34m\u001b[0m\u001b[0;34m\u001b[0m\u001b[0m\n\u001b[0m\u001b[1;32m     52\u001b[0m                 \u001b[0mloss_list\u001b[0m\u001b[0;34m.\u001b[0m\u001b[0mappend\u001b[0m\u001b[0;34m(\u001b[0m\u001b[0mfloat\u001b[0m\u001b[0;34m(\u001b[0m\u001b[0mcurrent_loss\u001b[0m\u001b[0;34m)\u001b[0m\u001b[0;34m)\u001b[0m\u001b[0;34m\u001b[0m\u001b[0;34m\u001b[0m\u001b[0m\n\u001b[1;32m     53\u001b[0m \u001b[0;34m\u001b[0m\u001b[0m\n",
      "\u001b[0;32m/tmp/ipykernel_2414079/2163185584.py\u001b[0m in \u001b[0;36mbackward\u001b[0;34m(self, x, y)\u001b[0m\n\u001b[1;32m    103\u001b[0m         \u001b[0;32mwith\u001b[0m \u001b[0mtf\u001b[0m\u001b[0;34m.\u001b[0m\u001b[0mGradientTape\u001b[0m\u001b[0;34m(\u001b[0m\u001b[0;34m)\u001b[0m \u001b[0;32mas\u001b[0m \u001b[0mtape\u001b[0m\u001b[0;34m:\u001b[0m\u001b[0;34m\u001b[0m\u001b[0;34m\u001b[0m\u001b[0m\n\u001b[1;32m    104\u001b[0m             \u001b[0;31m#tape.watch(self.dt_params)\u001b[0m\u001b[0;34m\u001b[0m\u001b[0;34m\u001b[0m\u001b[0;34m\u001b[0m\u001b[0m\n\u001b[0;32m--> 105\u001b[0;31m             \u001b[0mpredicted\u001b[0m \u001b[0;34m=\u001b[0m \u001b[0mself\u001b[0m\u001b[0;34m.\u001b[0m\u001b[0mforward\u001b[0m\u001b[0;34m(\u001b[0m\u001b[0mx\u001b[0m\u001b[0;34m)\u001b[0m\u001b[0;34m\u001b[0m\u001b[0;34m\u001b[0m\u001b[0m\n\u001b[0m\u001b[1;32m    106\u001b[0m             \u001b[0mcurrent_loss\u001b[0m \u001b[0;34m=\u001b[0m \u001b[0mself\u001b[0m\u001b[0;34m.\u001b[0m\u001b[0mloss\u001b[0m\u001b[0;34m(\u001b[0m\u001b[0my\u001b[0m\u001b[0;34m,\u001b[0m \u001b[0mpredicted\u001b[0m\u001b[0;34m)\u001b[0m\u001b[0;34m\u001b[0m\u001b[0;34m\u001b[0m\u001b[0m\n\u001b[1;32m    107\u001b[0m \u001b[0;34m\u001b[0m\u001b[0m\n",
      "\u001b[0;32m~/anaconda3/envs/XAI/lib/python3.8/site-packages/tensorflow/python/util/traceback_utils.py\u001b[0m in \u001b[0;36merror_handler\u001b[0;34m(*args, **kwargs)\u001b[0m\n\u001b[1;32m    151\u001b[0m     \u001b[0;32mexcept\u001b[0m \u001b[0mException\u001b[0m \u001b[0;32mas\u001b[0m \u001b[0me\u001b[0m\u001b[0;34m:\u001b[0m\u001b[0;34m\u001b[0m\u001b[0;34m\u001b[0m\u001b[0m\n\u001b[1;32m    152\u001b[0m       \u001b[0mfiltered_tb\u001b[0m \u001b[0;34m=\u001b[0m \u001b[0m_process_traceback_frames\u001b[0m\u001b[0;34m(\u001b[0m\u001b[0me\u001b[0m\u001b[0;34m.\u001b[0m\u001b[0m__traceback__\u001b[0m\u001b[0;34m)\u001b[0m\u001b[0;34m\u001b[0m\u001b[0;34m\u001b[0m\u001b[0m\n\u001b[0;32m--> 153\u001b[0;31m       \u001b[0;32mraise\u001b[0m \u001b[0me\u001b[0m\u001b[0;34m.\u001b[0m\u001b[0mwith_traceback\u001b[0m\u001b[0;34m(\u001b[0m\u001b[0mfiltered_tb\u001b[0m\u001b[0;34m)\u001b[0m \u001b[0;32mfrom\u001b[0m \u001b[0;32mNone\u001b[0m\u001b[0;34m\u001b[0m\u001b[0;34m\u001b[0m\u001b[0m\n\u001b[0m\u001b[1;32m    154\u001b[0m     \u001b[0;32mfinally\u001b[0m\u001b[0;34m:\u001b[0m\u001b[0;34m\u001b[0m\u001b[0;34m\u001b[0m\u001b[0m\n\u001b[1;32m    155\u001b[0m       \u001b[0;32mdel\u001b[0m \u001b[0mfiltered_tb\u001b[0m\u001b[0;34m\u001b[0m\u001b[0;34m\u001b[0m\u001b[0m\n",
      "\u001b[0;32m~/anaconda3/envs/XAI/lib/python3.8/site-packages/tensorflow/python/framework/func_graph.py\u001b[0m in \u001b[0;36mautograph_handler\u001b[0;34m(*args, **kwargs)\u001b[0m\n\u001b[1;32m   1145\u001b[0m           \u001b[0;32mexcept\u001b[0m \u001b[0mException\u001b[0m \u001b[0;32mas\u001b[0m \u001b[0me\u001b[0m\u001b[0;34m:\u001b[0m  \u001b[0;31m# pylint:disable=broad-except\u001b[0m\u001b[0;34m\u001b[0m\u001b[0;34m\u001b[0m\u001b[0m\n\u001b[1;32m   1146\u001b[0m             \u001b[0;32mif\u001b[0m \u001b[0mhasattr\u001b[0m\u001b[0;34m(\u001b[0m\u001b[0me\u001b[0m\u001b[0;34m,\u001b[0m \u001b[0;34m\"ag_error_metadata\"\u001b[0m\u001b[0;34m)\u001b[0m\u001b[0;34m:\u001b[0m\u001b[0;34m\u001b[0m\u001b[0;34m\u001b[0m\u001b[0m\n\u001b[0;32m-> 1147\u001b[0;31m               \u001b[0;32mraise\u001b[0m \u001b[0me\u001b[0m\u001b[0;34m.\u001b[0m\u001b[0mag_error_metadata\u001b[0m\u001b[0;34m.\u001b[0m\u001b[0mto_exception\u001b[0m\u001b[0;34m(\u001b[0m\u001b[0me\u001b[0m\u001b[0;34m)\u001b[0m\u001b[0;34m\u001b[0m\u001b[0;34m\u001b[0m\u001b[0m\n\u001b[0m\u001b[1;32m   1148\u001b[0m             \u001b[0;32melse\u001b[0m\u001b[0;34m:\u001b[0m\u001b[0;34m\u001b[0m\u001b[0;34m\u001b[0m\u001b[0m\n\u001b[1;32m   1149\u001b[0m               \u001b[0;32mraise\u001b[0m\u001b[0;34m\u001b[0m\u001b[0;34m\u001b[0m\u001b[0m\n",
      "\u001b[0;31mTypeError\u001b[0m: in user code:\n\n    File \"/tmp/ipykernel_2414079/1710018781.py\", line 84, in forward  *\n        dt_params_activation = self.apply_activation(self.dt_params)\n    File \"/tmp/ipykernel_2414079/2163185584.py\", line 130, in apply_activation  *\n        dt_params[:outputs_coeff_neurons_num_] = tf.math.sigmoid(dt_params[:outputs_coeff_neurons_num_])\n\n    TypeError: 'ResourceVariable' object does not support item assignment\n"
     ]
    }
   ],
   "source": [
    "model_dhdt = DHDT(\n",
    "            depth=3,\n",
    "            function_representation_type = 3,\n",
    "            number_of_variables = 5,\n",
    "            learning_rate=1e-3,\n",
    "            loss='binary_crossentropy',#'binary_crossentropy',\n",
    "            random_seed=42,\n",
    "            verbosity=0)\n",
    "\n",
    "model_dhdt.fit(X_train, y_train, batch_size=64, epochs=10_000, early_stopping_epochs=50)\n",
    "\n",
    "y_test_model = model_dhdt.predict(X_test)\n",
    "score_dhdt = accuracy_score(y_test, np.round(y_test_model))\n",
    "\n",
    "print('Test Accuracy', score_dhdt)"
   ]
  },
  {
   "cell_type": "code",
   "execution_count": null,
   "id": "2fa97853-f142-4912-9ab1-7aefc1c95f3a",
   "metadata": {},
   "outputs": [],
   "source": [
    "plt.figure(figsize=(15,8))\n",
    "image = model_dhdt.plot()\n",
    "display(image)\n",
    "\n",
    "plt.figure(figsize=(15,8))\n",
    "plot_tree(model_sklearn, fontsize=10) \n",
    "plt.show()"
   ]
  }
 ],
 "metadata": {
  "kernelspec": {
   "display_name": "Python 3 (ipykernel)",
   "language": "python",
   "name": "python3"
  },
  "language_info": {
   "codemirror_mode": {
    "name": "ipython",
    "version": 3
   },
   "file_extension": ".py",
   "mimetype": "text/x-python",
   "name": "python",
   "nbconvert_exporter": "python",
   "pygments_lexer": "ipython3",
   "version": "3.8.0"
  }
 },
 "nbformat": 4,
 "nbformat_minor": 5
}
