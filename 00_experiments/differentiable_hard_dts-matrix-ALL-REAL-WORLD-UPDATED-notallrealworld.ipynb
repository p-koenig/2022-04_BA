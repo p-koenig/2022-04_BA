{
 "cells": [
  {
   "cell_type": "markdown",
   "id": "e1c3b444-064b-4639-983d-238b3da68ad9",
   "metadata": {},
   "source": [
    "# Imports"
   ]
  },
  {
   "cell_type": "code",
   "execution_count": 1,
   "id": "a6531aaa-2c26-40f5-8078-d754aceda153",
   "metadata": {
    "execution": {
     "iopub.execute_input": "2022-06-07T19:14:49.110940Z",
     "iopub.status.busy": "2022-06-07T19:14:49.110497Z",
     "iopub.status.idle": "2022-06-07T19:14:49.122334Z",
     "shell.execute_reply": "2022-06-07T19:14:49.121702Z",
     "shell.execute_reply.started": "2022-06-07T19:14:49.110861Z"
    },
    "tags": []
   },
   "outputs": [],
   "source": [
    "config = {\n",
    "    'dhdt': {\n",
    "        'depth': 3,\n",
    "        'learning_rate': 1e-3,\n",
    "        \n",
    "        'loss': 'binary_crossentropy',#'mae',\n",
    "        'optimizer': 'adam',        \n",
    "        \n",
    "        'beta_1': 100,\n",
    "        'beta_2': 100,\n",
    "        \n",
    "        'squeeze_factor': 1,\n",
    "        \n",
    "        'batch_size': 512,\n",
    "        'epochs': 1_000,\n",
    "        'early_stopping_epochs': 20,\n",
    "    },\n",
    "    \n",
    "    \n",
    "    \n",
    "    'make_classification': {\n",
    "        'number_of_variables': 5,\n",
    "        'n_samples': 10_000,\n",
    "    },\n",
    "\n",
    "    'computation': {\n",
    "        'random_seed': 42,\n",
    "        'num_eval': 5,\n",
    "        'trials': 1,\n",
    "        'n_jobs': 40,\n",
    "        'verbosity': 0,\n",
    "    },\n",
    "}\n",
    "\n"
   ]
  },
  {
   "cell_type": "code",
   "execution_count": 2,
   "id": "b6ab8be2-1b4c-4370-a837-9176d15bea41",
   "metadata": {
    "execution": {
     "iopub.execute_input": "2022-06-07T19:14:49.123667Z",
     "iopub.status.busy": "2022-06-07T19:14:49.123301Z",
     "iopub.status.idle": "2022-06-07T19:14:59.069498Z",
     "shell.execute_reply": "2022-06-07T19:14:59.068646Z",
     "shell.execute_reply.started": "2022-06-07T19:14:49.123635Z"
    },
    "tags": []
   },
   "outputs": [],
   "source": [
    "import numpy as np\n",
    "\n",
    "from sklearn.datasets import make_classification\n",
    "from sklearn.model_selection import train_test_split, ParameterGrid\n",
    "from sklearn.tree import DecisionTreeClassifier, plot_tree\n",
    "from sklearn.metrics import accuracy_score\n",
    "from sklearn.compose import ColumnTransformer\n",
    "from sklearn.preprocessing import OneHotEncoder, MinMaxScaler, LabelEncoder, OrdinalEncoder\n",
    "\n",
    "from livelossplot import PlotLosses\n",
    "\n",
    "import os\n",
    "from tqdm.notebook import tqdm\n",
    "from matplotlib import pyplot as plt\n",
    "\n",
    "from IPython.display import Image\n",
    "from IPython.display import display, clear_output\n",
    "\n",
    "import pandas as pd\n",
    "\n",
    "os.environ['CUDA_VISIBLE_DEVICES'] = ''\n",
    "os.environ['TF_FORCE_GPU_ALLOW_GROWTH'] = '' #'true'\n",
    "\n",
    "import warnings\n",
    "warnings.filterwarnings('ignore')\n",
    "os.environ['TF_CPP_MIN_LOG_LEVEL'] = '3' \n",
    "import logging\n",
    "\n",
    "import tensorflow as tf\n",
    "import tensorflow_addons as tfa\n",
    "\n",
    "tf.get_logger().setLevel('ERROR')\n",
    "tf.autograph.set_verbosity(3)\n",
    "\n",
    "np.seterr(all=\"ignore\")\n",
    "\n",
    "from keras import backend as K\n",
    "from keras.utils.generic_utils import get_custom_objects\n",
    "\n",
    "\n",
    "import seaborn as sns\n",
    "sns.set_style(\"darkgrid\")\n",
    "\n",
    "import time\n",
    "import random\n",
    "\n",
    "from utilities.utilities import *\n",
    "from utilities.DHDT import *\n",
    "\n",
    "from joblib import Parallel, delayed\n",
    "\n",
    "from itertools import product\n",
    "from collections.abc import Iterable\n",
    "\n",
    "from copy import deepcopy"
   ]
  },
  {
   "cell_type": "markdown",
   "id": "f2397843-32d2-4579-b197-0686f4a99b54",
   "metadata": {},
   "source": [
    "# Evaluation"
   ]
  },
  {
   "cell_type": "markdown",
   "id": "fa3e7da9-12bb-467f-919f-4fd510ce6463",
   "metadata": {},
   "source": [
    "## make_classification"
   ]
  },
  {
   "cell_type": "code",
   "execution_count": 3,
   "id": "54a13b2a-ca9d-44de-9a52-b8ca61808093",
   "metadata": {
    "execution": {
     "iopub.execute_input": "2022-06-07T19:14:59.070648Z",
     "iopub.status.busy": "2022-06-07T19:14:59.070502Z",
     "iopub.status.idle": "2022-06-07T19:18:31.043319Z",
     "shell.execute_reply": "2022-06-07T19:18:31.042840Z",
     "shell.execute_reply.started": "2022-06-07T19:14:59.070630Z"
    },
    "tags": []
   },
   "outputs": [
    {
     "name": "stderr",
     "output_type": "stream",
     "text": [
      "[Parallel(n_jobs=40)]: Using backend LokyBackend with 40 concurrent workers.\n",
      "[Parallel(n_jobs=40)]: Done   2 out of   5 | elapsed:  2.2min remaining:  3.3min\n",
      "[Parallel(n_jobs=40)]: Done   5 out of   5 | elapsed:  3.5min finished\n"
     ]
    }
   ],
   "source": [
    "parallel_eval_synthetic = Parallel(n_jobs=config['computation']['n_jobs'], verbose=3, backend='loky') #loky #sequential multiprocessing\n",
    "evaluation_results_synthetic = parallel_eval_synthetic(delayed(evaluate_synthetic_parallel)(index = index,\n",
    "                                                                                            random_seed_data = config['computation']['random_seed']+index,\n",
    "                                                                                            random_seed_model = config['computation']['random_seed'],#+random_seed_model,\n",
    "                                                                                            config = config,\n",
    "                                                                                            verbosity = -1) for index in range(config['computation']['num_eval']))\n",
    "\n",
    "for i, synthetic_result in enumerate(evaluation_results_synthetic):\n",
    "    if i == 0:\n",
    "        model_dict_synthetic = synthetic_result[0]\n",
    "        scores_dict_synthetic = synthetic_result[1]\n",
    "        dataset_dict_synthetic = synthetic_result[2]\n",
    "    else: \n",
    "        model_dict_synthetic = mergeDict(model_dict_synthetic, synthetic_result[0])\n",
    "        scores_dict_synthetic = mergeDict(scores_dict_synthetic, synthetic_result[1])\n",
    "        dataset_dict_synthetic = mergeDict(dataset_dict_synthetic, synthetic_result[2])"
   ]
  },
  {
   "cell_type": "code",
   "execution_count": 4,
   "id": "5eb2b804-f2e3-4ec9-9c06-1334d7449519",
   "metadata": {
    "execution": {
     "iopub.execute_input": "2022-06-07T19:18:31.044252Z",
     "iopub.status.busy": "2022-06-07T19:18:31.044118Z",
     "iopub.status.idle": "2022-06-07T19:18:31.083941Z",
     "shell.execute_reply": "2022-06-07T19:18:31.083565Z",
     "shell.execute_reply.started": "2022-06-07T19:18:31.044233Z"
    },
    "tags": []
   },
   "outputs": [
    {
     "data": {
      "text/html": [
       "<div>\n",
       "<style scoped>\n",
       "    .dataframe tbody tr th:only-of-type {\n",
       "        vertical-align: middle;\n",
       "    }\n",
       "\n",
       "    .dataframe tbody tr th {\n",
       "        vertical-align: top;\n",
       "    }\n",
       "\n",
       "    .dataframe thead th {\n",
       "        text-align: right;\n",
       "    }\n",
       "</style>\n",
       "<table border=\"1\" class=\"dataframe\">\n",
       "  <thead>\n",
       "    <tr style=\"text-align: right;\">\n",
       "      <th></th>\n",
       "      <th>DHDT accuracy_test_mean</th>\n",
       "      <th>DHDT accuracy_test_max</th>\n",
       "      <th>DHDT accuracy_test_std</th>\n",
       "      <th>sklearn accuracy_test_mean</th>\n",
       "      <th>sklearn accuracy_test_max</th>\n",
       "      <th>sklearn accuracy_test_std</th>\n",
       "    </tr>\n",
       "  </thead>\n",
       "  <tbody>\n",
       "    <tr>\n",
       "      <th>0</th>\n",
       "      <td>0.6235</td>\n",
       "      <td>0.6235</td>\n",
       "      <td>0.0</td>\n",
       "      <td>0.9050</td>\n",
       "      <td>0.9050</td>\n",
       "      <td>0.0</td>\n",
       "    </tr>\n",
       "    <tr>\n",
       "      <th>1</th>\n",
       "      <td>0.8365</td>\n",
       "      <td>0.8365</td>\n",
       "      <td>0.0</td>\n",
       "      <td>0.8720</td>\n",
       "      <td>0.8720</td>\n",
       "      <td>0.0</td>\n",
       "    </tr>\n",
       "    <tr>\n",
       "      <th>2</th>\n",
       "      <td>0.7700</td>\n",
       "      <td>0.7700</td>\n",
       "      <td>0.0</td>\n",
       "      <td>0.8445</td>\n",
       "      <td>0.8445</td>\n",
       "      <td>0.0</td>\n",
       "    </tr>\n",
       "    <tr>\n",
       "      <th>3</th>\n",
       "      <td>0.7320</td>\n",
       "      <td>0.7320</td>\n",
       "      <td>0.0</td>\n",
       "      <td>0.8130</td>\n",
       "      <td>0.8130</td>\n",
       "      <td>0.0</td>\n",
       "    </tr>\n",
       "    <tr>\n",
       "      <th>4</th>\n",
       "      <td>0.6280</td>\n",
       "      <td>0.6280</td>\n",
       "      <td>0.0</td>\n",
       "      <td>0.8255</td>\n",
       "      <td>0.8255</td>\n",
       "      <td>0.0</td>\n",
       "    </tr>\n",
       "  </tbody>\n",
       "</table>\n",
       "</div>"
      ],
      "text/plain": [
       "   DHDT accuracy_test_mean  DHDT accuracy_test_max  DHDT accuracy_test_std  \\\n",
       "0                   0.6235                  0.6235                     0.0   \n",
       "1                   0.8365                  0.8365                     0.0   \n",
       "2                   0.7700                  0.7700                     0.0   \n",
       "3                   0.7320                  0.7320                     0.0   \n",
       "4                   0.6280                  0.6280                     0.0   \n",
       "\n",
       "   sklearn accuracy_test_mean  sklearn accuracy_test_max  \\\n",
       "0                      0.9050                     0.9050   \n",
       "1                      0.8720                     0.8720   \n",
       "2                      0.8445                     0.8445   \n",
       "3                      0.8130                     0.8130   \n",
       "4                      0.8255                     0.8255   \n",
       "\n",
       "   sklearn accuracy_test_std  \n",
       "0                        0.0  \n",
       "1                        0.0  \n",
       "2                        0.0  \n",
       "3                        0.0  \n",
       "4                        0.0  "
      ]
     },
     "metadata": {},
     "output_type": "display_data"
    },
    {
     "data": {
      "text/html": [
       "<div>\n",
       "<style scoped>\n",
       "    .dataframe tbody tr th:only-of-type {\n",
       "        vertical-align: middle;\n",
       "    }\n",
       "\n",
       "    .dataframe tbody tr th {\n",
       "        vertical-align: top;\n",
       "    }\n",
       "\n",
       "    .dataframe thead th {\n",
       "        text-align: right;\n",
       "    }\n",
       "</style>\n",
       "<table border=\"1\" class=\"dataframe\">\n",
       "  <thead>\n",
       "    <tr style=\"text-align: right;\">\n",
       "      <th></th>\n",
       "      <th>DHDT accuracy_test_max</th>\n",
       "      <th>sklearn accuracy_test_max</th>\n",
       "    </tr>\n",
       "  </thead>\n",
       "  <tbody>\n",
       "    <tr>\n",
       "      <th>0</th>\n",
       "      <td>0.6235</td>\n",
       "      <td>0.9050</td>\n",
       "    </tr>\n",
       "    <tr>\n",
       "      <th>1</th>\n",
       "      <td>0.8365</td>\n",
       "      <td>0.8720</td>\n",
       "    </tr>\n",
       "    <tr>\n",
       "      <th>2</th>\n",
       "      <td>0.7700</td>\n",
       "      <td>0.8445</td>\n",
       "    </tr>\n",
       "    <tr>\n",
       "      <th>3</th>\n",
       "      <td>0.7320</td>\n",
       "      <td>0.8130</td>\n",
       "    </tr>\n",
       "    <tr>\n",
       "      <th>4</th>\n",
       "      <td>0.6280</td>\n",
       "      <td>0.8255</td>\n",
       "    </tr>\n",
       "  </tbody>\n",
       "</table>\n",
       "</div>"
      ],
      "text/plain": [
       "   DHDT accuracy_test_max  sklearn accuracy_test_max\n",
       "0                  0.6235                     0.9050\n",
       "1                  0.8365                     0.8720\n",
       "2                  0.7700                     0.8445\n",
       "3                  0.7320                     0.8130\n",
       "4                  0.6280                     0.8255"
      ]
     },
     "metadata": {},
     "output_type": "display_data"
    },
    {
     "data": {
      "text/html": [
       "<div>\n",
       "<style scoped>\n",
       "    .dataframe tbody tr th:only-of-type {\n",
       "        vertical-align: middle;\n",
       "    }\n",
       "\n",
       "    .dataframe tbody tr th {\n",
       "        vertical-align: top;\n",
       "    }\n",
       "\n",
       "    .dataframe thead th {\n",
       "        text-align: right;\n",
       "    }\n",
       "</style>\n",
       "<table border=\"1\" class=\"dataframe\">\n",
       "  <thead>\n",
       "    <tr style=\"text-align: right;\">\n",
       "      <th></th>\n",
       "      <th>DHDT accuracy_test_mean</th>\n",
       "      <th>DHDT accuracy_test_max</th>\n",
       "      <th>DHDT accuracy_test_std</th>\n",
       "      <th>sklearn accuracy_test_mean</th>\n",
       "      <th>sklearn accuracy_test_max</th>\n",
       "      <th>sklearn accuracy_test_std</th>\n",
       "    </tr>\n",
       "  </thead>\n",
       "  <tbody>\n",
       "    <tr>\n",
       "      <th>count</th>\n",
       "      <td>5.000000</td>\n",
       "      <td>5.000000</td>\n",
       "      <td>5.0</td>\n",
       "      <td>5.000000</td>\n",
       "      <td>5.000000</td>\n",
       "      <td>5.0</td>\n",
       "    </tr>\n",
       "    <tr>\n",
       "      <th>mean</th>\n",
       "      <td>0.718000</td>\n",
       "      <td>0.718000</td>\n",
       "      <td>0.0</td>\n",
       "      <td>0.852000</td>\n",
       "      <td>0.852000</td>\n",
       "      <td>0.0</td>\n",
       "    </tr>\n",
       "    <tr>\n",
       "      <th>std</th>\n",
       "      <td>0.092158</td>\n",
       "      <td>0.092158</td>\n",
       "      <td>0.0</td>\n",
       "      <td>0.037042</td>\n",
       "      <td>0.037042</td>\n",
       "      <td>0.0</td>\n",
       "    </tr>\n",
       "    <tr>\n",
       "      <th>min</th>\n",
       "      <td>0.623500</td>\n",
       "      <td>0.623500</td>\n",
       "      <td>0.0</td>\n",
       "      <td>0.813000</td>\n",
       "      <td>0.813000</td>\n",
       "      <td>0.0</td>\n",
       "    </tr>\n",
       "    <tr>\n",
       "      <th>25%</th>\n",
       "      <td>0.628000</td>\n",
       "      <td>0.628000</td>\n",
       "      <td>0.0</td>\n",
       "      <td>0.825500</td>\n",
       "      <td>0.825500</td>\n",
       "      <td>0.0</td>\n",
       "    </tr>\n",
       "    <tr>\n",
       "      <th>50%</th>\n",
       "      <td>0.732000</td>\n",
       "      <td>0.732000</td>\n",
       "      <td>0.0</td>\n",
       "      <td>0.844500</td>\n",
       "      <td>0.844500</td>\n",
       "      <td>0.0</td>\n",
       "    </tr>\n",
       "    <tr>\n",
       "      <th>75%</th>\n",
       "      <td>0.770000</td>\n",
       "      <td>0.770000</td>\n",
       "      <td>0.0</td>\n",
       "      <td>0.872000</td>\n",
       "      <td>0.872000</td>\n",
       "      <td>0.0</td>\n",
       "    </tr>\n",
       "    <tr>\n",
       "      <th>max</th>\n",
       "      <td>0.836500</td>\n",
       "      <td>0.836500</td>\n",
       "      <td>0.0</td>\n",
       "      <td>0.905000</td>\n",
       "      <td>0.905000</td>\n",
       "      <td>0.0</td>\n",
       "    </tr>\n",
       "  </tbody>\n",
       "</table>\n",
       "</div>"
      ],
      "text/plain": [
       "       DHDT accuracy_test_mean  DHDT accuracy_test_max  \\\n",
       "count                 5.000000                5.000000   \n",
       "mean                  0.718000                0.718000   \n",
       "std                   0.092158                0.092158   \n",
       "min                   0.623500                0.623500   \n",
       "25%                   0.628000                0.628000   \n",
       "50%                   0.732000                0.732000   \n",
       "75%                   0.770000                0.770000   \n",
       "max                   0.836500                0.836500   \n",
       "\n",
       "       DHDT accuracy_test_std  sklearn accuracy_test_mean  \\\n",
       "count                     5.0                    5.000000   \n",
       "mean                      0.0                    0.852000   \n",
       "std                       0.0                    0.037042   \n",
       "min                       0.0                    0.813000   \n",
       "25%                       0.0                    0.825500   \n",
       "50%                       0.0                    0.844500   \n",
       "75%                       0.0                    0.872000   \n",
       "max                       0.0                    0.905000   \n",
       "\n",
       "       sklearn accuracy_test_max  sklearn accuracy_test_std  \n",
       "count                   5.000000                        5.0  \n",
       "mean                    0.852000                        0.0  \n",
       "std                     0.037042                        0.0  \n",
       "min                     0.813000                        0.0  \n",
       "25%                     0.825500                        0.0  \n",
       "50%                     0.844500                        0.0  \n",
       "75%                     0.872000                        0.0  \n",
       "max                     0.905000                        0.0  "
      ]
     },
     "metadata": {},
     "output_type": "display_data"
    }
   ],
   "source": [
    "metrics = ['accuracy_test']\n",
    "index = [i for i in range(config['computation']['num_eval'])]\n",
    "columns = flatten_list([[[approach + ' ' + metric + '_mean', approach + ' ' + metric + '_max', approach + ' ' + metric + '_std'] for metric in metrics] for approach in ['DHDT', 'sklearn']])\n",
    "\n",
    "scores_DHDT = [scores_dict_synthetic[i]['DHDT'][metrics[0]] for i in range(config['computation']['num_eval'])]\n",
    "\n",
    "scores_sklearn = [scores_dict_synthetic[i]['sklearn'][metrics[0]] for i in range(config['computation']['num_eval'])]\n",
    "\n",
    "\n",
    "scores_DHDT_mean = np.mean(scores_DHDT, axis=1) if config['computation']['trials'] > 1 else scores_DHDT\n",
    "scores_sklearn_mean = np.mean(scores_sklearn, axis=1) if config['computation']['trials'] > 1 else scores_sklearn\n",
    "                        \n",
    "scores_DHDT_max = np.max(scores_DHDT, axis=1) if config['computation']['trials'] > 1 else scores_DHDT\n",
    "scores_sklearn_max = np.max(scores_sklearn, axis=1) if config['computation']['trials'] > 1 else scores_sklearn\n",
    "                        \n",
    "scores_DHDT_std = np.std(scores_DHDT, axis=1) if config['computation']['trials'] > 1 else np.array([0.0] * config['computation']['num_eval'])\n",
    "scores_sklearn_std = np.std(scores_sklearn, axis=1) if config['computation']['trials'] > 1 else np.array([0.0] * config['computation']['num_eval'])\n",
    "\n",
    "results_DHDT = np.vstack([scores_DHDT_mean, scores_DHDT_max, scores_DHDT_std])\n",
    "results_sklearn = np.vstack([scores_sklearn_mean, scores_sklearn_max, scores_sklearn_std])\n",
    "\n",
    "\n",
    "scores_dataframe_synthetic = pd.DataFrame(data=np.vstack([results_DHDT, results_sklearn]).T, index = index, columns = columns)\n",
    "display(scores_dataframe_synthetic)\n",
    "display(scores_dataframe_synthetic[scores_dataframe_synthetic.columns[1::3]])\n",
    "display(scores_dataframe_synthetic.describe())"
   ]
  },
  {
   "cell_type": "markdown",
   "id": "f856c6c9-368b-4b75-b0d8-6e7a28e4267c",
   "metadata": {},
   "source": [
    "## Real-World Eval"
   ]
  },
  {
   "cell_type": "code",
   "execution_count": 5,
   "id": "6cb9eca0-b6be-4389-960f-857e68e6b197",
   "metadata": {
    "execution": {
     "iopub.execute_input": "2022-06-07T19:18:31.084928Z",
     "iopub.status.busy": "2022-06-07T19:18:31.084623Z",
     "iopub.status.idle": "2022-06-07T19:19:06.972696Z",
     "shell.execute_reply": "2022-06-07T19:19:06.972204Z",
     "shell.execute_reply.started": "2022-06-07T19:18:31.084907Z"
    },
    "tags": []
   },
   "outputs": [
    {
     "name": "stderr",
     "output_type": "stream",
     "text": [
      "[Parallel(n_jobs=40)]: Using backend LokyBackend with 40 concurrent workers.\n",
      "[Parallel(n_jobs=40)]: Done   1 out of   1 | elapsed:   35.8s finished\n"
     ]
    }
   ],
   "source": [
    "identifier_list = [\n",
    "                    'Adult',#: 32,\n",
    "                    'Bank Marketing',#: 32,\n",
    "                    'Loan Credit',#: 32,\n",
    "\n",
    "                    'Credit Card',#: 23, \n",
    "                    'Car',#: 21,\n",
    "\n",
    "\n",
    "                    'Absenteeism',#: 15,\n",
    "                    'Loan House',#: 15,\n",
    "                    'Cervical Cancer',#: 15,\n",
    "\n",
    "                    'Heart Disease',#: 13,           \n",
    "\n",
    "                    'Titanic',#: 10,\n",
    "                    'Medical Insurance',#: 10,\n",
    "                    'Wisconsin Breast Cancer Original',#: 10,\n",
    "                    'Wisconsin Diagnostic Breast Cancer',#: 10,\n",
    "                    'Wisconsin Prognostic Breast Cancer',#: 10,\n",
    "                    'Abalone',#: 10,\n",
    "\n",
    "                    'Habermans Survival',#: 3, \n",
    "                  ]\n",
    "\n",
    "#identifier_list = ['Habermans Survival']\n",
    "\n",
    "parallel_eval_real_world = Parallel(n_jobs=config['computation']['n_jobs'], verbose=3, backend='loky') #loky #sequential multiprocessing\n",
    "evaluation_results_real_world = parallel_eval_real_world(delayed(evaluate_real_world_parallel)(identifier_list=identifier_list, \n",
    "                                                                                               random_seed_model=config['computation']['random_seed']+i,\n",
    "                                                                                               config = config,\n",
    "                                                                                               verbosity = -1) for i in range(config['computation']['trials']))\n",
    "\n",
    "\n",
    "for i, real_world_result in enumerate(evaluation_results_real_world):\n",
    "    if i == 0:\n",
    "        model_dict_real_world = real_world_result[0]\n",
    "        scores_dict_real_world = real_world_result[1]\n",
    "        dataset_dict_real_world = real_world_result[2]\n",
    "    else: \n",
    "        model_dict_real_world = mergeDict(model_dict_real_world, real_world_result[0])\n",
    "        scores_dict_real_world = mergeDict(scores_dict_real_world, real_world_result[1])\n",
    "        dataset_dict_real_world = mergeDict(dataset_dict_real_world, real_world_result[2])"
   ]
  },
  {
   "cell_type": "code",
   "execution_count": 6,
   "id": "38c55370-5fa9-4f3c-a1a8-be597467f808",
   "metadata": {
    "execution": {
     "iopub.execute_input": "2022-06-07T19:19:06.973611Z",
     "iopub.status.busy": "2022-06-07T19:19:06.973476Z",
     "iopub.status.idle": "2022-06-07T19:19:06.990966Z",
     "shell.execute_reply": "2022-06-07T19:19:06.990575Z",
     "shell.execute_reply.started": "2022-06-07T19:19:06.973593Z"
    },
    "tags": []
   },
   "outputs": [
    {
     "data": {
      "text/html": [
       "<div>\n",
       "<style scoped>\n",
       "    .dataframe tbody tr th:only-of-type {\n",
       "        vertical-align: middle;\n",
       "    }\n",
       "\n",
       "    .dataframe tbody tr th {\n",
       "        vertical-align: top;\n",
       "    }\n",
       "\n",
       "    .dataframe thead th {\n",
       "        text-align: right;\n",
       "    }\n",
       "</style>\n",
       "<table border=\"1\" class=\"dataframe\">\n",
       "  <thead>\n",
       "    <tr style=\"text-align: right;\">\n",
       "      <th></th>\n",
       "      <th>DHDT accuracy_test_mean</th>\n",
       "      <th>DHDT accuracy_test_max</th>\n",
       "      <th>DHDT accuracy_test_std</th>\n",
       "      <th>sklearn accuracy_test_mean</th>\n",
       "      <th>sklearn accuracy_test_max</th>\n",
       "      <th>sklearn accuracy_test_std</th>\n",
       "    </tr>\n",
       "  </thead>\n",
       "  <tbody>\n",
       "    <tr>\n",
       "      <th>0</th>\n",
       "      <td>0.6235</td>\n",
       "      <td>0.6235</td>\n",
       "      <td>0.0</td>\n",
       "      <td>0.9050</td>\n",
       "      <td>0.9050</td>\n",
       "      <td>0.0</td>\n",
       "    </tr>\n",
       "    <tr>\n",
       "      <th>1</th>\n",
       "      <td>0.8365</td>\n",
       "      <td>0.8365</td>\n",
       "      <td>0.0</td>\n",
       "      <td>0.8720</td>\n",
       "      <td>0.8720</td>\n",
       "      <td>0.0</td>\n",
       "    </tr>\n",
       "    <tr>\n",
       "      <th>2</th>\n",
       "      <td>0.7700</td>\n",
       "      <td>0.7700</td>\n",
       "      <td>0.0</td>\n",
       "      <td>0.8445</td>\n",
       "      <td>0.8445</td>\n",
       "      <td>0.0</td>\n",
       "    </tr>\n",
       "    <tr>\n",
       "      <th>3</th>\n",
       "      <td>0.7320</td>\n",
       "      <td>0.7320</td>\n",
       "      <td>0.0</td>\n",
       "      <td>0.8130</td>\n",
       "      <td>0.8130</td>\n",
       "      <td>0.0</td>\n",
       "    </tr>\n",
       "    <tr>\n",
       "      <th>4</th>\n",
       "      <td>0.6280</td>\n",
       "      <td>0.6280</td>\n",
       "      <td>0.0</td>\n",
       "      <td>0.8255</td>\n",
       "      <td>0.8255</td>\n",
       "      <td>0.0</td>\n",
       "    </tr>\n",
       "  </tbody>\n",
       "</table>\n",
       "</div>"
      ],
      "text/plain": [
       "   DHDT accuracy_test_mean  DHDT accuracy_test_max  DHDT accuracy_test_std  \\\n",
       "0                   0.6235                  0.6235                     0.0   \n",
       "1                   0.8365                  0.8365                     0.0   \n",
       "2                   0.7700                  0.7700                     0.0   \n",
       "3                   0.7320                  0.7320                     0.0   \n",
       "4                   0.6280                  0.6280                     0.0   \n",
       "\n",
       "   sklearn accuracy_test_mean  sklearn accuracy_test_max  \\\n",
       "0                      0.9050                     0.9050   \n",
       "1                      0.8720                     0.8720   \n",
       "2                      0.8445                     0.8445   \n",
       "3                      0.8130                     0.8130   \n",
       "4                      0.8255                     0.8255   \n",
       "\n",
       "   sklearn accuracy_test_std  \n",
       "0                        0.0  \n",
       "1                        0.0  \n",
       "2                        0.0  \n",
       "3                        0.0  \n",
       "4                        0.0  "
      ]
     },
     "metadata": {},
     "output_type": "display_data"
    },
    {
     "data": {
      "text/html": [
       "<div>\n",
       "<style scoped>\n",
       "    .dataframe tbody tr th:only-of-type {\n",
       "        vertical-align: middle;\n",
       "    }\n",
       "\n",
       "    .dataframe tbody tr th {\n",
       "        vertical-align: top;\n",
       "    }\n",
       "\n",
       "    .dataframe thead th {\n",
       "        text-align: right;\n",
       "    }\n",
       "</style>\n",
       "<table border=\"1\" class=\"dataframe\">\n",
       "  <thead>\n",
       "    <tr style=\"text-align: right;\">\n",
       "      <th></th>\n",
       "      <th>DHDT accuracy_test_max</th>\n",
       "      <th>sklearn accuracy_test_max</th>\n",
       "    </tr>\n",
       "  </thead>\n",
       "  <tbody>\n",
       "    <tr>\n",
       "      <th>0</th>\n",
       "      <td>0.6235</td>\n",
       "      <td>0.9050</td>\n",
       "    </tr>\n",
       "    <tr>\n",
       "      <th>1</th>\n",
       "      <td>0.8365</td>\n",
       "      <td>0.8720</td>\n",
       "    </tr>\n",
       "    <tr>\n",
       "      <th>2</th>\n",
       "      <td>0.7700</td>\n",
       "      <td>0.8445</td>\n",
       "    </tr>\n",
       "    <tr>\n",
       "      <th>3</th>\n",
       "      <td>0.7320</td>\n",
       "      <td>0.8130</td>\n",
       "    </tr>\n",
       "    <tr>\n",
       "      <th>4</th>\n",
       "      <td>0.6280</td>\n",
       "      <td>0.8255</td>\n",
       "    </tr>\n",
       "  </tbody>\n",
       "</table>\n",
       "</div>"
      ],
      "text/plain": [
       "   DHDT accuracy_test_max  sklearn accuracy_test_max\n",
       "0                  0.6235                     0.9050\n",
       "1                  0.8365                     0.8720\n",
       "2                  0.7700                     0.8445\n",
       "3                  0.7320                     0.8130\n",
       "4                  0.6280                     0.8255"
      ]
     },
     "metadata": {},
     "output_type": "display_data"
    }
   ],
   "source": [
    "metrics = ['accuracy_test']\n",
    "index = identifier_list\n",
    "columns = flatten_list([[[approach + ' ' + metric + '_mean', approach + ' ' + metric + '_max', approach + ' ' + metric + '_std'] for metric in metrics] for approach in ['DHDT', 'sklearn']])\n",
    "\n",
    "scores_DHDT = [scores_dict_real_world[identifier]['DHDT'][metrics[0]] for identifier in identifier_list]\n",
    "\n",
    "scores_sklearn = [scores_dict_real_world[identifier]['sklearn'][metrics[0]] for identifier in identifier_list]\n",
    "\n",
    "scores_DHDT_mean = np.mean(scores_DHDT, axis=1) if config['computation']['trials'] > 1 else scores_DHDT\n",
    "scores_sklearn_mean = np.mean(scores_sklearn, axis=1) if config['computation']['trials'] > 1 else scores_sklearn\n",
    "                        \n",
    "scores_DHDT_max = np.max(scores_DHDT, axis=1) if config['computation']['trials'] > 1 else scores_DHDT\n",
    "scores_sklearn_max = np.max(scores_sklearn, axis=1) if config['computation']['trials'] > 1 else scores_sklearn\n",
    "                        \n",
    "scores_DHDT_std = np.std(scores_DHDT, axis=1) if config['computation']['trials'] > 1 else np.array([0.0] * config['computation']['trials'])\n",
    "scores_sklearn_std = np.std(scores_sklearn, axis=1) if config['computation']['trials'] > 1 else np.array([0.0] * config['computation']['trials'])\n",
    "\n",
    "results_DHDT = np.vstack([scores_DHDT_mean, scores_DHDT_max, scores_DHDT_std])\n",
    "results_sklearn = np.vstack([scores_sklearn_mean, scores_sklearn_max, scores_sklearn_std])\n",
    "\n",
    "\n",
    "scores_dataframe_real_world = pd.DataFrame(data=np.vstack([results_DHDT, results_sklearn]).T, index = index, columns = columns)\n",
    "display(scores_dataframe_real_world)\n",
    "display(scores_dataframe_real_world[scores_dataframe_real_world.columns[1::3]])\n"
   ]
  },
  {
   "cell_type": "code",
   "execution_count": 7,
   "id": "196fbd88-44c9-4d7f-b58d-def1eeb6d434",
   "metadata": {
    "execution": {
     "iopub.execute_input": "2022-06-07T19:19:06.991847Z",
     "iopub.status.busy": "2022-06-07T19:19:06.991585Z",
     "iopub.status.idle": "2022-06-07T19:19:08.820178Z",
     "shell.execute_reply": "2022-06-07T19:19:08.819777Z",
     "shell.execute_reply.started": "2022-06-07T19:19:06.991828Z"
    },
    "tags": []
   },
   "outputs": [
    {
     "data": {
      "image/png": "[encoded data removed]",
      "text/plain": [
       "<IPython.core.display.Image object>"
      ]
     },
     "metadata": {},
     "output_type": "display_data"
    },
    {
     "data": {
      "text/plain": [
       "<Figure size 1080x576 with 0 Axes>"
      ]
     },
     "metadata": {},
     "output_type": "display_data"
    },
    {
     "data": {
      "image/png": "[encoded data removed]",
      "text/plain": [
       "<Figure size 1080x576 with 1 Axes>"
      ]
     },
     "metadata": {},
     "output_type": "display_data"
    }
   ],
   "source": [
    "identifier = identifier_list[0]#\"Absenteeism\"\n",
    "plt.figure(figsize=(15,8))\n",
    "image = model_dict_real_world[identifier]['DHDT'].plot(normalizer_list=dataset_dict_real_world[identifier]['normalizer_list'])\n",
    "display(image)\n",
    "\n",
    "plt.figure(figsize=(15,8))\n",
    "plot_tree(model_dict_real_world[identifier]['sklearn'], fontsize=10) \n",
    "plt.show()"
   ]
  },
  {
   "cell_type": "markdown",
   "id": "84e73582-0f9e-4522-9a94-dc59f4e566e9",
   "metadata": {},
   "source": [
    "# Hyperparameter Optimization"
   ]
  },
  {
   "cell_type": "code",
   "execution_count": 8,
   "id": "09315b63-50a1-4b2c-bfa9-d7b6d961de34",
   "metadata": {
    "execution": {
     "iopub.execute_input": "2022-06-07T19:19:08.821054Z",
     "iopub.status.busy": "2022-06-07T19:19:08.820935Z",
     "iopub.status.idle": "2022-06-07T19:19:08.824229Z",
     "shell.execute_reply": "2022-06-07T19:19:08.823924Z",
     "shell.execute_reply.started": "2022-06-07T19:19:08.821039Z"
    },
    "tags": []
   },
   "outputs": [],
   "source": [
    "parameter_dict = {\n",
    "        'depth': [3],\n",
    "        'learning_rate': [0.05, 0.01],#[0.1, 0.05, 0.01, 0.005, 0.001, 0.0005, 0.0001],\n",
    "        \n",
    "        'loss': ['binary_crossentropy'],#['binary_crossentropy', 'rmse'],#'mae',\n",
    "        'optimizer': ['adam'],#['adam', 'sgd'],        \n",
    "        \n",
    "        'beta_1': [10, 50],#[10, 50, 100],\n",
    "        'beta_2': [10, 50],#[10, 50, 100],\n",
    "        \n",
    "        'squeeze_factor': [1],#[0.2, 0.5, 1, 2, 5],    \n",
    "}\n",
    "\n",
    "parameter_grid = ParameterGrid(parameter_dict)"
   ]
  },
  {
   "cell_type": "code",
   "execution_count": 9,
   "id": "32042bc9-1008-4311-8d2d-7896db8a3a12",
   "metadata": {
    "execution": {
     "iopub.execute_input": "2022-06-07T19:19:08.824815Z",
     "iopub.status.busy": "2022-06-07T19:19:08.824678Z",
     "iopub.status.idle": "2022-06-07T19:19:08.886989Z",
     "shell.execute_reply": "2022-06-07T19:19:08.886671Z",
     "shell.execute_reply.started": "2022-06-07T19:19:08.824802Z"
    },
    "tags": []
   },
   "outputs": [],
   "source": [
    "def evaluate_parameter_setting_synthetic(parameter_setting):\n",
    "    \n",
    "    config_parameter_setting = deepcopy(config)\n",
    "    \n",
    "    \n",
    "    for key, value in parameter_setting.items():\n",
    "        config_parameter_setting[key] = value\n",
    "    \n",
    "    \n",
    "    \n",
    "    \n",
    "    \n",
    "    parallel_eval_synthetic = Parallel(n_jobs=1, verbose=0, backend='sequential') #loky #sequential multiprocessing\n",
    "    evaluation_results_synthetic = parallel_eval_synthetic(delayed(evaluate_synthetic_parallel)(index = index,\n",
    "                                                                                                random_seed_data = config['computation']['random_seed']+index,\n",
    "                                                                                                random_seed_model = config['computation']['random_seed'],#+random_seed_model,\n",
    "                                                                                                config = config_parameter_setting,\n",
    "                                                                                                verbosity = -1) for index in range(config['computation']['num_eval']))\n",
    "\n",
    "    \n",
    "    for i, synthetic_result in enumerate(evaluation_results_synthetic):\n",
    "        if i == 0:\n",
    "            model_dict_synthetic = synthetic_result[0]\n",
    "            scores_dict_synthetic = synthetic_result[1]\n",
    "            dataset_dict_synthetic = synthetic_result[2]\n",
    "        else: \n",
    "            model_dict_synthetic = mergeDict(model_dict_synthetic, synthetic_result[0])\n",
    "            scores_dict_synthetic = mergeDict(scores_dict_synthetic, synthetic_result[1])\n",
    "            dataset_dict_synthetic = mergeDict(dataset_dict_synthetic, synthetic_result[2])    \n",
    "    \n",
    "    metrics = ['accuracy_valid']\n",
    "    index = [i for i in range(config['computation']['num_eval'])]\n",
    "    columns = flatten_list([[[approach + ' ' + metric + '_mean', approach + ' ' + metric + '_max', approach + ' ' + metric + '_std'] for metric in metrics] for approach in ['DHDT', 'sklearn']])\n",
    "\n",
    "    scores_DHDT = [scores_dict_synthetic[i]['DHDT'][metrics[0]] for i in range(config['computation']['num_eval'])]\n",
    "\n",
    "    scores_sklearn = [scores_dict_synthetic[i]['sklearn'][metrics[0]] for i in range(config['computation']['num_eval'])]\n",
    "\n",
    "    scores_DHDT_mean = np.mean(scores_DHDT, axis=1) if config['computation']['trials'] > 1 else scores_DHDT\n",
    "    scores_sklearn_mean = np.mean(scores_sklearn, axis=1) if config['computation']['trials'] > 1 else scores_sklearn\n",
    "\n",
    "    scores_DHDT_max = np.max(scores_DHDT, axis=1) if config['computation']['trials'] > 1 else scores_DHDT\n",
    "    scores_sklearn_max = np.max(scores_sklearn, axis=1) if config['computation']['trials'] > 1 else scores_sklearn\n",
    "\n",
    "    scores_DHDT_std = np.std(scores_DHDT, axis=1) if config['computation']['trials'] > 1 else np.array([0.0] * config['computation']['num_eval'])\n",
    "    scores_sklearn_std = np.std(scores_sklearn, axis=1) if config['computation']['trials'] > 1 else np.array([0.0] * config['computation']['num_eval'])\n",
    "\n",
    "    results_DHDT = np.vstack([scores_DHDT_mean, scores_DHDT_max, scores_DHDT_std])\n",
    "    results_sklearn = np.vstack([scores_sklearn_mean, scores_sklearn_max, scores_sklearn_std])\n",
    "\n",
    "\n",
    "    scores_dataframe_synthetic = pd.DataFrame(data=np.vstack([results_DHDT, results_sklearn]).T, index = index, columns = columns)\n",
    "    #display(scores_dataframe_synthetic)\n",
    "    #display(scores_dataframe_synthetic[scores_dataframe_synthetic.columns[1::3]])\n",
    "    #display(scores_dataframe_synthetic.describe())    \n",
    "    \n",
    "    return np.mean(scores_DHDT_mean), parameter_setting\n",
    "    \n",
    "    \n",
    " "
   ]
  },
  {
   "cell_type": "code",
   "execution_count": 17,
   "id": "bfabd18f-ef51-4b91-afe7-fa187338d4ef",
   "metadata": {
    "execution": {
     "iopub.execute_input": "2022-06-07T19:52:50.713558Z",
     "iopub.status.busy": "2022-06-07T19:52:50.713360Z",
     "iopub.status.idle": "2022-06-07T19:52:50.723936Z",
     "shell.execute_reply": "2022-06-07T19:52:50.723348Z",
     "shell.execute_reply.started": "2022-06-07T19:52:50.713537Z"
    },
    "tags": []
   },
   "outputs": [],
   "source": [
    "def evaluate_parameter_setting_real_world(parameter_setting, identifier):\n",
    "    \n",
    "    config_parameter_setting = deepcopy(config)\n",
    "    \n",
    "    \n",
    "    for key, value in parameter_setting.items():\n",
    "        config_parameter_setting[key] = value\n",
    "    \n",
    "    \n",
    "    \n",
    "    parallel_eval_real_world = Parallel(n_jobs=1, verbose=0, backend='sequential') #loky #sequential multiprocessing\n",
    "    evaluation_results_real_world = parallel_eval_real_world(delayed(evaluate_real_world_parallel)(identifier_list=[identifier], \n",
    "                                                                                                   random_seed_model=config['computation']['random_seed']+i,\n",
    "                                                                                                   config = config_parameter_setting,\n",
    "                                                                                                   verbosity = -1) for i in range(config['computation']['trials']))\n",
    "\n",
    "\n",
    "    for i, real_world_result in enumerate(evaluation_results_real_world):\n",
    "        if i == 0:\n",
    "            model_dict_real_world = real_world_result[0]\n",
    "            scores_dict_real_world = real_world_result[1]\n",
    "            dataset_dict_real_world = real_world_result[2]\n",
    "        else: \n",
    "            model_dict_real_world = mergeDict(model_dict_real_world, real_world_result[0])\n",
    "            scores_dict_real_world = mergeDict(scores_dict_real_world, real_world_result[1])\n",
    "            dataset_dict_real_world = mergeDict(dataset_dict_real_world, real_world_result[2])    \n",
    "    \n",
    "    \n",
    "    metrics = ['accuracy_valid']\n",
    "    index = [identifier]\n",
    "    columns = flatten_list([[[approach + ' ' + metric + '_mean', approach + ' ' + metric + '_max', approach + ' ' + metric + '_std'] for metric in metrics] for approach in ['DHDT', 'sklearn']])\n",
    "\n",
    "    scores_DHDT = [scores_dict_real_world[identifier]['DHDT'][metrics[0]] for identifier in [identifier]]\n",
    "\n",
    "    scores_sklearn = [scores_dict_real_world[identifier]['sklearn'][metrics[0]] for identifier in [identifier]]\n",
    "\n",
    "    scores_DHDT_mean = np.mean(scores_DHDT, axis=1) if config['computation']['trials'] > 1 else scores_DHDT\n",
    "    scores_sklearn_mean = np.mean(scores_sklearn, axis=1) if config['computation']['trials'] > 1 else scores_sklearn\n",
    "\n",
    "    scores_DHDT_max = np.max(scores_DHDT, axis=1) if config['computation']['trials'] > 1 else scores_DHDT\n",
    "    scores_sklearn_max = np.max(scores_sklearn, axis=1) if config['computation']['trials'] > 1 else scores_sklearn\n",
    "\n",
    "    scores_DHDT_std = np.std(scores_DHDT, axis=1) if config['computation']['trials'] > 1 else np.array([0.0] * config['computation']['trials'])\n",
    "    scores_sklearn_std = np.std(scores_sklearn, axis=1) if config['computation']['trials'] > 1 else np.array([0.0] * config['computation']['trials'])\n",
    "    \n",
    "    results_DHDT = np.vstack([scores_DHDT_mean, scores_DHDT_max, scores_DHDT_std])\n",
    "    results_sklearn = np.vstack([scores_sklearn_mean, scores_sklearn_max, scores_sklearn_std])\n",
    "\n",
    "    scores_dataframe_real_world = pd.DataFrame(data=np.vstack([results_DHDT, results_sklearn]).T, index = index, columns = columns)\n",
    "    #display(scores_dataframe_real_world)\n",
    "    #display(scores_dataframe_real_world[scores_dataframe_real_world.columns[1::3]])    \n",
    "    \n",
    "    \n",
    "    return np.mean(scores_DHDT_mean), parameter_setting\n",
    "    \n",
    "    "
   ]
  },
  {
   "cell_type": "code",
   "execution_count": 11,
   "id": "952be342-9751-474b-8780-f185b3f9c29d",
   "metadata": {
    "execution": {
     "iopub.execute_input": "2022-06-07T19:19:08.971073Z",
     "iopub.status.busy": "2022-06-07T19:19:08.970928Z",
     "iopub.status.idle": "2022-06-07T19:31:03.102494Z",
     "shell.execute_reply": "2022-06-07T19:31:03.101717Z",
     "shell.execute_reply.started": "2022-06-07T19:19:08.971051Z"
    },
    "tags": []
   },
   "outputs": [
    {
     "name": "stderr",
     "output_type": "stream",
     "text": [
      "[Parallel(n_jobs=40)]: Using backend LokyBackend with 40 concurrent workers.\n",
      "[Parallel(n_jobs=40)]: Done   4 out of   8 | elapsed: 10.0min remaining: 10.0min\n",
      "[Parallel(n_jobs=40)]: Done   8 out of   8 | elapsed: 11.9min finished\n"
     ]
    }
   ],
   "source": [
    "parallel_hpo_synthetic = Parallel(n_jobs=config['computation']['n_jobs'], verbose=3, backend='loky') #loky #sequential multiprocessing\n",
    "evaluation_results_hpo_synthetic = parallel_hpo_synthetic(delayed(evaluate_parameter_setting_synthetic)(parameter_setting) for parameter_setting in parameter_grid)"
   ]
  },
  {
   "cell_type": "code",
   "execution_count": 12,
   "id": "a91c261c-0c67-4876-b72e-11668f894cd9",
   "metadata": {
    "execution": {
     "iopub.execute_input": "2022-06-07T19:31:03.105788Z",
     "iopub.status.busy": "2022-06-07T19:31:03.105541Z",
     "iopub.status.idle": "2022-06-07T19:31:03.109845Z",
     "shell.execute_reply": "2022-06-07T19:31:03.109268Z",
     "shell.execute_reply.started": "2022-06-07T19:31:03.105755Z"
    },
    "tags": []
   },
   "outputs": [],
   "source": [
    "sorted_evaluation_results_hpo_synthetic = sorted(evaluation_results_hpo_synthetic, key=lambda x: x[0], reverse=True)"
   ]
  },
  {
   "cell_type": "code",
   "execution_count": 13,
   "id": "65e489a8-247b-4ba7-8947-623e356a9d4d",
   "metadata": {
    "execution": {
     "iopub.execute_input": "2022-06-07T19:31:03.111135Z",
     "iopub.status.busy": "2022-06-07T19:31:03.110788Z",
     "iopub.status.idle": "2022-06-07T19:31:03.197967Z",
     "shell.execute_reply": "2022-06-07T19:31:03.197345Z",
     "shell.execute_reply.started": "2022-06-07T19:31:03.111103Z"
    },
    "tags": []
   },
   "outputs": [
    {
     "name": "stdout",
     "output_type": "stream",
     "text": [
      "[(0.7762, {'beta_1': 50, 'beta_2': 10, 'depth': 3, 'learning_rate': 0.01, 'loss': 'binary_crossentropy', 'optimizer': 'adam', 'squeeze_factor': 1}), (0.7273999999999999, {'beta_1': 10, 'beta_2': 50, 'depth': 3, 'learning_rate': 0.05, 'loss': 'binary_crossentropy', 'optimizer': 'adam', 'squeeze_factor': 1}), (0.726, {'beta_1': 10, 'beta_2': 10, 'depth': 3, 'learning_rate': 0.05, 'loss': 'binary_crossentropy', 'optimizer': 'adam', 'squeeze_factor': 1}), (0.726, {'beta_1': 10, 'beta_2': 10, 'depth': 3, 'learning_rate': 0.01, 'loss': 'binary_crossentropy', 'optimizer': 'adam', 'squeeze_factor': 1}), (0.726, {'beta_1': 50, 'beta_2': 10, 'depth': 3, 'learning_rate': 0.05, 'loss': 'binary_crossentropy', 'optimizer': 'adam', 'squeeze_factor': 1})]\n"
     ]
    }
   ],
   "source": [
    "print(sorted_evaluation_results_hpo_synthetic[:5])"
   ]
  },
  {
   "cell_type": "code",
   "execution_count": 18,
   "id": "49ea5ad2-2138-4cb5-9cac-3e00f87d9a77",
   "metadata": {
    "execution": {
     "iopub.execute_input": "2022-06-07T19:52:53.570423Z",
     "iopub.status.busy": "2022-06-07T19:52:53.570105Z",
     "iopub.status.idle": "2022-06-07T19:53:20.426899Z",
     "shell.execute_reply": "2022-06-07T19:53:20.426408Z",
     "shell.execute_reply.started": "2022-06-07T19:52:53.570389Z"
    },
    "tags": []
   },
   "outputs": [
    {
     "name": "stderr",
     "output_type": "stream",
     "text": [
      "[Parallel(n_jobs=40)]: Using backend LokyBackend with 40 concurrent workers.\n",
      "[Parallel(n_jobs=40)]: Done   4 out of   8 | elapsed:   26.7s remaining:   26.7s\n",
      "[Parallel(n_jobs=40)]: Done   8 out of   8 | elapsed:   26.8s finished\n"
     ]
    }
   ],
   "source": [
    "identifier = 'Titanic'\n",
    "\n",
    "parallel_hpo_real = Parallel(n_jobs=config['computation']['n_jobs'], verbose=3, backend='loky') #loky #sequential multiprocessing\n",
    "evaluation_results_hpo_real = parallel_hpo_real(delayed(evaluate_parameter_setting_real_world)(parameter_setting, identifier) for parameter_setting in parameter_grid)\n"
   ]
  },
  {
   "cell_type": "code",
   "execution_count": null,
   "id": "2f30cc32-2eed-4185-b073-6a0b48707897",
   "metadata": {
    "execution": {
     "iopub.status.busy": "2022-06-07T19:52:33.830219Z",
     "iopub.status.idle": "2022-06-07T19:52:33.830425Z",
     "shell.execute_reply": "2022-06-07T19:52:33.830323Z",
     "shell.execute_reply.started": "2022-06-07T19:52:33.830312Z"
    },
    "tags": []
   },
   "outputs": [],
   "source": [
    "sorted_evaluation_results_hpo_real = sorted(evaluation_results_hpo_real, key=lambda x: x[0], reverse=True)"
   ]
  },
  {
   "cell_type": "code",
   "execution_count": null,
   "id": "67f49cf7-d803-49de-8432-83aa4786fa78",
   "metadata": {
    "execution": {
     "iopub.status.busy": "2022-06-07T19:52:33.830946Z",
     "iopub.status.idle": "2022-06-07T19:52:33.831129Z",
     "shell.execute_reply": "2022-06-07T19:52:33.831038Z",
     "shell.execute_reply.started": "2022-06-07T19:52:33.831028Z"
    },
    "tags": []
   },
   "outputs": [],
   "source": [
    "print(sorted_evaluation_results_hpo_real[:5])"
   ]
  },
  {
   "cell_type": "code",
   "execution_count": null,
   "id": "40147db1-760f-432d-ac2c-0267a8256f8a",
   "metadata": {},
   "outputs": [],
   "source": []
  },
  {
   "cell_type": "code",
   "execution_count": null,
   "id": "9358c9e7-58be-4006-b120-6b14f8364122",
   "metadata": {},
   "outputs": [],
   "source": []
  }
 ],
 "metadata": {
  "kernelspec": {
   "display_name": "Python 3 (ipykernel)",
   "language": "python",
   "name": "python3"
  },
  "language_info": {
   "codemirror_mode": {
    "name": "ipython",
    "version": 3
   },
   "file_extension": ".py",
   "mimetype": "text/x-python",
   "name": "python",
   "nbconvert_exporter": "python",
   "pygments_lexer": "ipython3",
   "version": "3.8.0"
  }
 },
 "nbformat": 4,
 "nbformat_minor": 5
}
