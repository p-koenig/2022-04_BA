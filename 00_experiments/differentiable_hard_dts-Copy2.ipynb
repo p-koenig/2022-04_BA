{
 "cells": [
  {
   "cell_type": "markdown",
   "id": "e1c3b444-064b-4639-983d-238b3da68ad9",
   "metadata": {},
   "source": [
    "# Imports"
   ]
  },
  {
   "cell_type": "code",
   "execution_count": 2,
   "id": "a6531aaa-2c26-40f5-8078-d754aceda153",
   "metadata": {
    "execution": {
     "iopub.execute_input": "2022-06-10T09:30:38.691002Z",
     "iopub.status.busy": "2022-06-10T09:30:38.690802Z",
     "iopub.status.idle": "2022-06-10T09:30:38.694741Z",
     "shell.execute_reply": "2022-06-10T09:30:38.694436Z",
     "shell.execute_reply.started": "2022-06-10T09:30:38.690980Z"
    },
    "tags": []
   },
   "outputs": [],
   "source": [
    "config = {\n",
    "    'dhdt': {\n",
    "        'depth': 3,\n",
    "        'learning_rate': 0.01,#1e-3,\n",
    "        \n",
    "        'initializer': 'he_normal', #GlorotUniform\n",
    "        'initializer_index': 'ones', #GlorotUniform\n",
    "        \n",
    "        \n",
    "        'loss': 'binary_crossentropy',#'mae',\n",
    "        'optimizer': 'adam',        \n",
    "        \n",
    "        'beta_1': 10,\n",
    "        'beta_2': 50,\n",
    "        \n",
    "        'activation': 'tanh', #sigmoid\n",
    "        'squeeze_factor': 1,\n",
    "        \n",
    "        'batch_size': 512,\n",
    "        'epochs': 1_000,\n",
    "        'early_stopping_epochs': 50,\n",
    "    },\n",
    "    \n",
    "    \n",
    "    \n",
    "    'make_classification': {\n",
    "        'number_of_variables': 10,\n",
    "        'n_samples': 5_000,\n",
    "        'num_eval': 30,\n",
    "    },\n",
    "\n",
    "    'computation': {\n",
    "        'random_seed': 42,\n",
    "        'trials': 5,\n",
    "        'n_jobs': 30,\n",
    "        'verbosity': 0,\n",
    "    },\n",
    "}\n",
    "\n"
   ]
  },
  {
   "cell_type": "code",
   "execution_count": 3,
   "id": "b6ab8be2-1b4c-4370-a837-9176d15bea41",
   "metadata": {
    "execution": {
     "iopub.execute_input": "2022-06-10T09:30:38.851816Z",
     "iopub.status.busy": "2022-06-10T09:30:38.851672Z",
     "iopub.status.idle": "2022-06-10T09:30:46.891032Z",
     "shell.execute_reply": "2022-06-10T09:30:46.890561Z",
     "shell.execute_reply.started": "2022-06-10T09:30:38.851799Z"
    },
    "tags": []
   },
   "outputs": [],
   "source": [
    "import numpy as np\n",
    "\n",
    "import sklearn\n",
    "from sklearn.datasets import make_classification\n",
    "from sklearn.model_selection import train_test_split, ParameterGrid\n",
    "from sklearn.tree import DecisionTreeClassifier, plot_tree\n",
    "from sklearn.metrics import accuracy_score\n",
    "from sklearn.compose import ColumnTransformer\n",
    "from sklearn.preprocessing import OneHotEncoder, MinMaxScaler, LabelEncoder, OrdinalEncoder\n",
    "\n",
    "from livelossplot import PlotLosses\n",
    "\n",
    "import os\n",
    "from tqdm.notebook import tqdm\n",
    "from matplotlib import pyplot as plt\n",
    "\n",
    "from IPython.display import Image\n",
    "from IPython.display import display, clear_output\n",
    "\n",
    "import pandas as pd\n",
    "\n",
    "os.environ['CUDA_VISIBLE_DEVICES'] = ''\n",
    "os.environ['TF_FORCE_GPU_ALLOW_GROWTH'] = '' #'true'\n",
    "\n",
    "import warnings\n",
    "warnings.filterwarnings('ignore')\n",
    "os.environ['TF_CPP_MIN_LOG_LEVEL'] = '3' \n",
    "import logging\n",
    "\n",
    "import tensorflow as tf\n",
    "import tensorflow_addons as tfa\n",
    "\n",
    "tf.get_logger().setLevel('ERROR')\n",
    "tf.autograph.set_verbosity(3)\n",
    "\n",
    "np.seterr(all=\"ignore\")\n",
    "\n",
    "from keras import backend as K\n",
    "from keras.utils.generic_utils import get_custom_objects\n",
    "\n",
    "\n",
    "import seaborn as sns\n",
    "sns.set_style(\"darkgrid\")\n",
    "\n",
    "import time\n",
    "import random\n",
    "\n",
    "from utilities.utilities import *\n",
    "from utilities.DHDT import *\n",
    "\n",
    "from joblib import Parallel, delayed\n",
    "\n",
    "from itertools import product\n",
    "from collections.abc import Iterable\n",
    "\n",
    "from copy import deepcopy\n",
    "\n",
    "tf.random.set_seed(config['computation']['random_seed'])\n",
    "np.random.seed(config['computation']['random_seed'])\n",
    "random.seed(config['computation']['random_seed'])"
   ]
  },
  {
   "cell_type": "markdown",
   "id": "f2397843-32d2-4579-b197-0686f4a99b54",
   "metadata": {},
   "source": [
    "# Evaluation"
   ]
  },
  {
   "cell_type": "markdown",
   "id": "fa3e7da9-12bb-467f-919f-4fd510ce6463",
   "metadata": {},
   "source": [
    "## make_classification"
   ]
  },
  {
   "cell_type": "code",
   "execution_count": null,
   "id": "01c4a455-0f63-4559-9151-0eff1211b484",
   "metadata": {},
   "outputs": [],
   "source": []
  },
  {
   "cell_type": "code",
   "execution_count": 5,
   "id": "2e96b325-c344-4e76-95c4-1921d16c0ae4",
   "metadata": {
    "execution": {
     "iopub.execute_input": "2022-06-10T09:30:55.878463Z",
     "iopub.status.busy": "2022-06-10T09:30:55.878277Z",
     "iopub.status.idle": "2022-06-10T09:30:55.885657Z",
     "shell.execute_reply": "2022-06-10T09:30:55.885265Z",
     "shell.execute_reply.started": "2022-06-10T09:30:55.878448Z"
    },
    "tags": []
   },
   "outputs": [
    {
     "data": {
      "text/plain": [
       "<tf.Variable 'split_values:0' shape=(7, 5) dtype=float32, numpy=\n",
       "array([[ 0.10033574,  0.04636555,  0.05786117, -0.05099785, -0.02391306],\n",
       "       [-0.08597916, -0.01263373, -0.00267067,  0.0417807 ,  0.07248369],\n",
       "       [ 0.08227255, -0.0294264 ,  0.03235679,  0.03987736, -0.0173113 ],\n",
       "       [-0.07950286,  0.05116254, -0.08028042,  0.0457987 ,  0.02673771],\n",
       "       [ 0.03928551,  0.04569229, -0.00315807,  0.08293498, -0.04713498],\n",
       "       [-0.00194597,  0.00211207, -0.02013346, -0.13587832,  0.02131949],\n",
       "       [-0.0222547 ,  0.03230785,  0.13138242, -0.02288633, -0.06248237]],\n",
       "      dtype=float32)>"
      ]
     },
     "execution_count": 5,
     "metadata": {},
     "output_type": "execute_result"
    }
   ],
   "source": [
    "split_values = tf.Variable(tf.keras.initializers.get({'class_name': 'RandomNormal', 'config': {'seed': 42}})(shape=(7, 5)),\n",
    "                          trainable=True,\n",
    "                          name='split_values')\n",
    "split_values"
   ]
  },
  {
   "cell_type": "code",
   "execution_count": 14,
   "id": "09e2dd28-5d87-427b-a9fa-24923c1f183a",
   "metadata": {
    "execution": {
     "iopub.execute_input": "2022-06-10T09:33:12.220446Z",
     "iopub.status.busy": "2022-06-10T09:33:12.220126Z",
     "iopub.status.idle": "2022-06-10T09:33:12.229316Z",
     "shell.execute_reply": "2022-06-10T09:33:12.228777Z",
     "shell.execute_reply.started": "2022-06-10T09:33:12.220402Z"
    },
    "tags": []
   },
   "outputs": [
    {
     "data": {
      "text/plain": [
       "<tf.Tensor: shape=(7, 5), dtype=float32, numpy=\n",
       "array([[0., 0., 0., 1., 0.],\n",
       "       [0., 0., 1., 0., 0.],\n",
       "       [1., 0., 0., 0., 0.],\n",
       "       [0., 1., 0., 0., 0.],\n",
       "       [0., 0., 0., 0., 1.],\n",
       "       [1., 0., 0., 0., 0.],\n",
       "       [0., 1., 0., 0., 0.]], dtype=float32)>"
      ]
     },
     "execution_count": 14,
     "metadata": {},
     "output_type": "execute_result"
    }
   ],
   "source": [
    "split_index = tf.Variable(tf.keras.initializers.get({'class_name': 'RandomNormal', 'config': {'seed': 42}})(shape=(7, 5)),\n",
    "                          trainable=True,\n",
    "                          name='split_values')\n",
    "split_index = tfa.seq2seq.hardmax(split_index)\n",
    "split_index"
   ]
  },
  {
   "cell_type": "code",
   "execution_count": 25,
   "id": "53dfe0cb-5871-4ca7-87ce-7973737ecd00",
   "metadata": {
    "execution": {
     "iopub.execute_input": "2022-06-10T09:36:08.608273Z",
     "iopub.status.busy": "2022-06-10T09:36:08.608082Z",
     "iopub.status.idle": "2022-06-10T09:36:08.611197Z",
     "shell.execute_reply": "2022-06-10T09:36:08.610805Z",
     "shell.execute_reply.started": "2022-06-10T09:36:08.608254Z"
    },
    "tags": []
   },
   "outputs": [],
   "source": [
    "entry = tf.constant([[0.1,0.2,0.3,0.4,0.5], [0.9,0.2,0.9,0.4,0.5]])"
   ]
  },
  {
   "cell_type": "code",
   "execution_count": 26,
   "id": "edb91596-a475-47bf-bd33-ccd291932fc5",
   "metadata": {
    "execution": {
     "iopub.execute_input": "2022-06-10T09:36:09.342384Z",
     "iopub.status.busy": "2022-06-10T09:36:09.342240Z",
     "iopub.status.idle": "2022-06-10T09:36:09.346803Z",
     "shell.execute_reply": "2022-06-10T09:36:09.346323Z",
     "shell.execute_reply.started": "2022-06-10T09:36:09.342366Z"
    },
    "tags": []
   },
   "outputs": [
    {
     "data": {
      "text/plain": [
       "<tf.Tensor: shape=(7, 5), dtype=float32, numpy=\n",
       "array([[ 0.        ,  0.        ,  0.        , -0.05099785, -0.        ],\n",
       "       [-0.        , -0.        , -0.00267067,  0.        ,  0.        ],\n",
       "       [ 0.08227255, -0.        ,  0.        ,  0.        , -0.        ],\n",
       "       [-0.        ,  0.05116254, -0.        ,  0.        ,  0.        ],\n",
       "       [ 0.        ,  0.        , -0.        ,  0.        , -0.04713498],\n",
       "       [-0.00194597,  0.        , -0.        , -0.        ,  0.        ],\n",
       "       [-0.        ,  0.03230785,  0.        , -0.        , -0.        ]],\n",
       "      dtype=float32)>"
      ]
     },
     "execution_count": 26,
     "metadata": {},
     "output_type": "execute_result"
    }
   ],
   "source": [
    "split_values*split_index"
   ]
  },
  {
   "cell_type": "code",
   "execution_count": 27,
   "id": "2c237cba-2275-497d-a9c9-0b640b606c20",
   "metadata": {
    "execution": {
     "iopub.execute_input": "2022-06-10T09:36:11.536012Z",
     "iopub.status.busy": "2022-06-10T09:36:11.535846Z",
     "iopub.status.idle": "2022-06-10T09:36:11.539958Z",
     "shell.execute_reply": "2022-06-10T09:36:11.539636Z",
     "shell.execute_reply.started": "2022-06-10T09:36:11.535997Z"
    },
    "tags": []
   },
   "outputs": [
    {
     "data": {
      "text/plain": [
       "<tf.Tensor: shape=(7,), dtype=float32, numpy=\n",
       "array([-0.05099785, -0.00267067,  0.08227255,  0.05116254, -0.04713498,\n",
       "       -0.00194597,  0.03230785], dtype=float32)>"
      ]
     },
     "execution_count": 27,
     "metadata": {},
     "output_type": "execute_result"
    }
   ],
   "source": [
    "tf.reduce_sum(split_values*split_index, axis=1)"
   ]
  },
  {
   "cell_type": "code",
   "execution_count": 31,
   "id": "382146fd-980e-4d7d-afe0-0831433ed09c",
   "metadata": {
    "execution": {
     "iopub.execute_input": "2022-06-10T09:36:33.205774Z",
     "iopub.status.busy": "2022-06-10T09:36:33.205480Z",
     "iopub.status.idle": "2022-06-10T09:36:33.211496Z",
     "shell.execute_reply": "2022-06-10T09:36:33.210895Z",
     "shell.execute_reply.started": "2022-06-10T09:36:33.205740Z"
    }
   },
   "outputs": [
    {
     "data": {
      "text/plain": [
       "<tf.Tensor: shape=(2, 5), dtype=float32, numpy=\n",
       "array([[0.1, 0.2, 0.3, 0.4, 0.5],\n",
       "       [0.9, 0.2, 0.9, 0.4, 0.5]], dtype=float32)>"
      ]
     },
     "execution_count": 31,
     "metadata": {},
     "output_type": "execute_result"
    }
   ],
   "source": [
    "entry"
   ]
  },
  {
   "cell_type": "code",
   "execution_count": 32,
   "id": "39b6f0f9-3756-4c78-9484-11b8dbd8f856",
   "metadata": {
    "execution": {
     "iopub.execute_input": "2022-06-10T09:36:37.462217Z",
     "iopub.status.busy": "2022-06-10T09:36:37.461954Z",
     "iopub.status.idle": "2022-06-10T09:36:37.467298Z",
     "shell.execute_reply": "2022-06-10T09:36:37.466892Z",
     "shell.execute_reply.started": "2022-06-10T09:36:37.462186Z"
    }
   },
   "outputs": [
    {
     "data": {
      "text/plain": [
       "<tf.Tensor: shape=(7, 5), dtype=float32, numpy=\n",
       "array([[0., 0., 0., 1., 0.],\n",
       "       [0., 0., 1., 0., 0.],\n",
       "       [1., 0., 0., 0., 0.],\n",
       "       [0., 1., 0., 0., 0.],\n",
       "       [0., 0., 0., 0., 1.],\n",
       "       [1., 0., 0., 0., 0.],\n",
       "       [0., 1., 0., 0., 0.]], dtype=float32)>"
      ]
     },
     "execution_count": 32,
     "metadata": {},
     "output_type": "execute_result"
    }
   ],
   "source": [
    "split_index"
   ]
  },
  {
   "cell_type": "code",
   "execution_count": 40,
   "id": "522f6a79-77ad-4857-b13a-335045a950d8",
   "metadata": {
    "execution": {
     "iopub.execute_input": "2022-06-10T09:38:27.156536Z",
     "iopub.status.busy": "2022-06-10T09:38:27.156309Z",
     "iopub.status.idle": "2022-06-10T09:38:27.161890Z",
     "shell.execute_reply": "2022-06-10T09:38:27.161422Z",
     "shell.execute_reply.started": "2022-06-10T09:38:27.156517Z"
    },
    "tags": []
   },
   "outputs": [
    {
     "data": {
      "text/plain": [
       "<tf.Tensor: shape=(7, 2, 5), dtype=float32, numpy=\n",
       "array([[[0. , 0. , 0. , 0.4, 0. ],\n",
       "        [0. , 0. , 0. , 0.4, 0. ]],\n",
       "\n",
       "       [[0. , 0. , 0.3, 0. , 0. ],\n",
       "        [0. , 0. , 0.9, 0. , 0. ]],\n",
       "\n",
       "       [[0.1, 0. , 0. , 0. , 0. ],\n",
       "        [0.9, 0. , 0. , 0. , 0. ]],\n",
       "\n",
       "       [[0. , 0.2, 0. , 0. , 0. ],\n",
       "        [0. , 0.2, 0. , 0. , 0. ]],\n",
       "\n",
       "       [[0. , 0. , 0. , 0. , 0.5],\n",
       "        [0. , 0. , 0. , 0. , 0.5]],\n",
       "\n",
       "       [[0.1, 0. , 0. , 0. , 0. ],\n",
       "        [0.9, 0. , 0. , 0. , 0. ]],\n",
       "\n",
       "       [[0. , 0.2, 0. , 0. , 0. ],\n",
       "        [0. , 0.2, 0. , 0. , 0. ]]], dtype=float32)>"
      ]
     },
     "execution_count": 40,
     "metadata": {},
     "output_type": "execute_result"
    }
   ],
   "source": [
    "tf.expand_dims(split_index, 1)"
   ]
  },
  {
   "cell_type": "code",
   "execution_count": 105,
   "id": "dcd5ad0b-a1da-4b66-aab2-6fe8f5e90504",
   "metadata": {
    "execution": {
     "iopub.execute_input": "2022-06-10T10:13:38.957506Z",
     "iopub.status.busy": "2022-06-10T10:13:38.957331Z",
     "iopub.status.idle": "2022-06-10T10:13:38.963466Z",
     "shell.execute_reply": "2022-06-10T10:13:38.962922Z",
     "shell.execute_reply.started": "2022-06-10T10:13:38.957487Z"
    },
    "tags": []
   },
   "outputs": [
    {
     "data": {
      "text/plain": [
       "<tf.Tensor: shape=(7, 2), dtype=float32, numpy=\n",
       "array([[0.4, 0.4],\n",
       "       [0.3, 0.9],\n",
       "       [0.1, 0.9],\n",
       "       [0.2, 0.2],\n",
       "       [0.5, 0.5],\n",
       "       [0.1, 0.9],\n",
       "       [0.2, 0.2]], dtype=float32)>"
      ]
     },
     "execution_count": 105,
     "metadata": {},
     "output_type": "execute_result"
    }
   ],
   "source": [
    "tf.reduce_sum(tf.expand_dims(split_index, 1)*entry, axis=2)"
   ]
  },
  {
   "cell_type": "code",
   "execution_count": 106,
   "id": "321cbbf4-b2e5-4a7a-ba1e-cf999801b0b2",
   "metadata": {
    "execution": {
     "iopub.execute_input": "2022-06-10T10:13:53.982581Z",
     "iopub.status.busy": "2022-06-10T10:13:53.982038Z",
     "iopub.status.idle": "2022-06-10T10:13:53.991397Z",
     "shell.execute_reply": "2022-06-10T10:13:53.990527Z",
     "shell.execute_reply.started": "2022-06-10T10:13:53.982539Z"
    }
   },
   "outputs": [
    {
     "data": {
      "text/plain": [
       "<tf.Tensor: shape=(2, 7), dtype=float32, numpy=\n",
       "array([[0.4, 0.3, 0.1, 0.2, 0.5, 0.1, 0.2],\n",
       "       [0.4, 0.9, 0.9, 0.2, 0.5, 0.9, 0.2]], dtype=float32)>"
      ]
     },
     "execution_count": 106,
     "metadata": {},
     "output_type": "execute_result"
    }
   ],
   "source": [
    "tf.reduce_sum(split_index*tf.expand_dims(entry, 1), axis=2)"
   ]
  },
  {
   "cell_type": "code",
   "execution_count": 108,
   "id": "3377dccb-0d1c-452b-8266-d07561e27091",
   "metadata": {
    "execution": {
     "iopub.execute_input": "2022-06-10T10:14:42.531191Z",
     "iopub.status.busy": "2022-06-10T10:14:42.530877Z",
     "iopub.status.idle": "2022-06-10T10:14:42.536169Z",
     "shell.execute_reply": "2022-06-10T10:14:42.535678Z",
     "shell.execute_reply.started": "2022-06-10T10:14:42.531165Z"
    }
   },
   "outputs": [
    {
     "data": {
      "text/plain": [
       "<tf.Tensor: shape=(7,), dtype=float32, numpy=\n",
       "array([-0.05099785, -0.00267067,  0.08227255,  0.05116254, -0.04713498,\n",
       "       -0.00194597,  0.03230785], dtype=float32)>"
      ]
     },
     "execution_count": 108,
     "metadata": {},
     "output_type": "execute_result"
    }
   ],
   "source": [
    "tf.reduce_sum(split_values*split_index, axis=1)"
   ]
  },
  {
   "cell_type": "code",
   "execution_count": 113,
   "id": "7a33bf89-5de9-4a07-b5ef-cd64dd8d1d3c",
   "metadata": {
    "execution": {
     "iopub.execute_input": "2022-06-10T10:15:37.839416Z",
     "iopub.status.busy": "2022-06-10T10:15:37.839244Z",
     "iopub.status.idle": "2022-06-10T10:15:37.844056Z",
     "shell.execute_reply": "2022-06-10T10:15:37.843640Z",
     "shell.execute_reply.started": "2022-06-10T10:15:37.839400Z"
    },
    "tags": []
   },
   "outputs": [
    {
     "data": {
      "text/plain": [
       "<tf.Tensor: shape=(2, 7), dtype=float32, numpy=\n",
       "array([[0.45099786, 0.3026707 , 0.01772745, 0.14883746, 0.547135  ,\n",
       "        0.10194597, 0.16769215],\n",
       "       [0.45099786, 0.9026706 , 0.81772745, 0.14883746, 0.547135  ,\n",
       "        0.90194595, 0.16769215]], dtype=float32)>"
      ]
     },
     "execution_count": 113,
     "metadata": {},
     "output_type": "execute_result"
    }
   ],
   "source": [
    "tf.reduce_sum(split_index*tf.expand_dims(entry, 1), axis=2) - tf.reduce_sum(split_values*split_index, axis=1)"
   ]
  },
  {
   "cell_type": "code",
   "execution_count": 114,
   "id": "cd28f7a4-81c9-4142-8bf5-0241b312b172",
   "metadata": {
    "execution": {
     "iopub.execute_input": "2022-06-10T10:15:40.203541Z",
     "iopub.status.busy": "2022-06-10T10:15:40.203363Z",
     "iopub.status.idle": "2022-06-10T10:15:40.208677Z",
     "shell.execute_reply": "2022-06-10T10:15:40.208266Z",
     "shell.execute_reply.started": "2022-06-10T10:15:40.203523Z"
    },
    "tags": []
   },
   "outputs": [
    {
     "data": {
      "text/plain": [
       "<tf.Tensor: shape=(2, 7), dtype=float32, numpy=\n",
       "array([[0., 0., 0., 0., 1., 0., 0.],\n",
       "       [0., 1., 1., 0., 1., 1., 0.]], dtype=float32)>"
      ]
     },
     "execution_count": 114,
     "metadata": {},
     "output_type": "execute_result"
    }
   ],
   "source": [
    "#WORKING OTHER SHAPE (NEW!!#\n",
    "tf.round(tf.sigmoid(tf.reduce_sum(split_index*tf.expand_dims(entry, 1), axis=2) - tf.reduce_sum(split_values*split_index, axis=1) - 0.5))\n"
   ]
  },
  {
   "cell_type": "code",
   "execution_count": 111,
   "id": "bd54debf-bb4f-48cd-ae2c-2758fe507b33",
   "metadata": {
    "execution": {
     "iopub.execute_input": "2022-06-10T10:15:24.636732Z",
     "iopub.status.busy": "2022-06-10T10:15:24.636447Z",
     "iopub.status.idle": "2022-06-10T10:15:24.642307Z",
     "shell.execute_reply": "2022-06-10T10:15:24.641859Z",
     "shell.execute_reply.started": "2022-06-10T10:15:24.636703Z"
    },
    "tags": []
   },
   "outputs": [
    {
     "data": {
      "text/plain": [
       "<tf.Tensor: shape=(7, 2), dtype=float32, numpy=\n",
       "array([[0., 0.],\n",
       "       [0., 1.],\n",
       "       [0., 1.],\n",
       "       [0., 0.],\n",
       "       [1., 1.],\n",
       "       [0., 1.],\n",
       "       [0., 0.]], dtype=float32)>"
      ]
     },
     "execution_count": 111,
     "metadata": {},
     "output_type": "execute_result"
    }
   ],
   "source": [
    "#WORKING#\n",
    "tf.round(tf.sigmoid(tf.reduce_sum(tf.expand_dims(split_index, 1)*entry, axis=2) - tf.expand_dims(tf.reduce_sum(split_values*split_index, axis=1), 1) - 0.5))\n"
   ]
  },
  {
   "cell_type": "code",
   "execution_count": 54,
   "id": "20cf613e-eda7-420d-930d-cae501007a32",
   "metadata": {
    "execution": {
     "iopub.execute_input": "2022-06-10T09:45:00.473685Z",
     "iopub.status.busy": "2022-06-10T09:45:00.473378Z",
     "iopub.status.idle": "2022-06-10T09:45:00.480223Z",
     "shell.execute_reply": "2022-06-10T09:45:00.479277Z",
     "shell.execute_reply.started": "2022-06-10T09:45:00.473652Z"
    },
    "tags": []
   },
   "outputs": [
    {
     "data": {
      "text/plain": [
       "array([[0., 0.],\n",
       "       [0., 1.],\n",
       "       [0., 1.],\n",
       "       [0., 0.],\n",
       "       [1., 1.],\n",
       "       [0., 1.],\n",
       "       [0., 0.]], dtype=float32)"
      ]
     },
     "execution_count": 54,
     "metadata": {},
     "output_type": "execute_result"
    }
   ],
   "source": [
    "path_result_complete_numpy = path_result_complete.numpy()\n",
    "path_result_complete_numpy"
   ]
  },
  {
   "cell_type": "code",
   "execution_count": 57,
   "id": "f6e09243-c646-4d3f-b084-89836e1ca339",
   "metadata": {
    "execution": {
     "iopub.execute_input": "2022-06-10T09:45:18.821419Z",
     "iopub.status.busy": "2022-06-10T09:45:18.821214Z",
     "iopub.status.idle": "2022-06-10T09:45:18.824583Z",
     "shell.execute_reply": "2022-06-10T09:45:18.824208Z",
     "shell.execute_reply.started": "2022-06-10T09:45:18.821401Z"
    },
    "tags": []
   },
   "outputs": [
    {
     "data": {
      "text/plain": [
       "array([[0., 1.],\n",
       "       [0., 0.]], dtype=float32)"
      ]
     },
     "execution_count": 57,
     "metadata": {},
     "output_type": "execute_result"
    }
   ],
   "source": [
    "path_result_complete_numpy[[1,3]]"
   ]
  },
  {
   "cell_type": "code",
   "execution_count": null,
   "id": "0a6bb824-1b55-43f2-8529-048b7ce2aa10",
   "metadata": {},
   "outputs": [],
   "source": []
  },
  {
   "cell_type": "code",
   "execution_count": 77,
   "id": "a5edf80f-b37d-403d-85be-bbad0ef719c4",
   "metadata": {
    "execution": {
     "iopub.execute_input": "2022-06-10T10:02:47.928362Z",
     "iopub.status.busy": "2022-06-10T10:02:47.928188Z",
     "iopub.status.idle": "2022-06-10T10:02:47.938491Z",
     "shell.execute_reply": "2022-06-10T10:02:47.938089Z",
     "shell.execute_reply.started": "2022-06-10T10:02:47.928345Z"
    }
   },
   "outputs": [
    {
     "data": {
      "text/plain": [
       "<tf.Tensor: shape=(7, 2), dtype=float32, numpy=\n",
       "array([[0., 0.],\n",
       "       [0., 1.],\n",
       "       [0., 1.],\n",
       "       [0., 0.],\n",
       "       [1., 1.],\n",
       "       [0., 1.],\n",
       "       [0., 0.]], dtype=float32)>"
      ]
     },
     "metadata": {},
     "output_type": "display_data"
    },
    {
     "data": {
      "text/plain": [
       "<tf.Tensor: shape=(3, 2), dtype=float32, numpy=\n",
       "array([[0., 0.],\n",
       "       [0., 1.],\n",
       "       [0., 0.]], dtype=float32)>"
      ]
     },
     "metadata": {},
     "output_type": "display_data"
    },
    {
     "data": {
      "text/plain": [
       "<tf.Tensor: shape=(3, 2), dtype=float32, numpy=\n",
       "array([[0., 0.],\n",
       "       [0., 1.],\n",
       "       [1., 1.]], dtype=float32)>"
      ]
     },
     "metadata": {},
     "output_type": "display_data"
    },
    {
     "data": {
      "text/plain": [
       "<tf.Tensor: shape=(3, 2), dtype=float32, numpy=\n",
       "array([[0., 0.],\n",
       "       [0., 1.],\n",
       "       [0., 1.]], dtype=float32)>"
      ]
     },
     "metadata": {},
     "output_type": "display_data"
    },
    {
     "data": {
      "text/plain": [
       "<tf.Tensor: shape=(3, 2), dtype=float32, numpy=\n",
       "array([[0., 0.],\n",
       "       [0., 1.],\n",
       "       [0., 0.]], dtype=float32)>"
      ]
     },
     "metadata": {},
     "output_type": "display_data"
    }
   ],
   "source": [
    "internal_node_result_complete = tf.round(tf.sigmoid(tf.reduce_sum(tf.expand_dims(split_index, 1)*entry, axis=2) - tf.expand_dims(tf.reduce_sum(split_values*split_index, axis=1), 1) - 0.5))\n",
    "display(internal_node_result_complete)\n",
    "\n",
    "paths = [[0,1,3], [0,1,4], [0,2,5], [0,2,6]]\n",
    "\n",
    "for path in paths:\n",
    "    path_results_complete = tf.gather_nd(path_result_complete, [[node] for node in path])\n",
    "    display(path_results_complete)"
   ]
  },
  {
   "cell_type": "code",
   "execution_count": 69,
   "id": "1f2f1fe1-07dd-482a-9350-9115e919e56e",
   "metadata": {
    "execution": {
     "iopub.execute_input": "2022-06-10T10:01:38.241672Z",
     "iopub.status.busy": "2022-06-10T10:01:38.241231Z",
     "iopub.status.idle": "2022-06-10T10:01:38.249413Z",
     "shell.execute_reply": "2022-06-10T10:01:38.248553Z",
     "shell.execute_reply.started": "2022-06-10T10:01:38.241631Z"
    }
   },
   "outputs": [
    {
     "data": {
      "text/plain": [
       "<tf.Tensor: shape=(7, 2), dtype=float32, numpy=\n",
       "array([[0., 0.],\n",
       "       [0., 1.],\n",
       "       [0., 1.],\n",
       "       [0., 0.],\n",
       "       [1., 1.],\n",
       "       [0., 1.],\n",
       "       [0., 0.]], dtype=float32)>"
      ]
     },
     "execution_count": 69,
     "metadata": {},
     "output_type": "execute_result"
    }
   ],
   "source": [
    "internal_node_result_complete"
   ]
  },
  {
   "cell_type": "code",
   "execution_count": 70,
   "id": "31028ac1-4dc5-4ce0-94f3-7e039986c9bc",
   "metadata": {
    "execution": {
     "iopub.execute_input": "2022-06-10T10:01:43.612732Z",
     "iopub.status.busy": "2022-06-10T10:01:43.612389Z",
     "iopub.status.idle": "2022-06-10T10:01:43.618299Z",
     "shell.execute_reply": "2022-06-10T10:01:43.617497Z",
     "shell.execute_reply.started": "2022-06-10T10:01:43.612696Z"
    }
   },
   "outputs": [
    {
     "data": {
      "text/plain": [
       "7"
      ]
     },
     "execution_count": 70,
     "metadata": {},
     "output_type": "execute_result"
    }
   ],
   "source": [
    "begin_idx"
   ]
  },
  {
   "cell_type": "code",
   "execution_count": 71,
   "id": "cc02329c-553f-423d-b35f-3d7afbd3e414",
   "metadata": {
    "execution": {
     "iopub.execute_input": "2022-06-10T10:01:46.891965Z",
     "iopub.status.busy": "2022-06-10T10:01:46.891737Z",
     "iopub.status.idle": "2022-06-10T10:01:46.895819Z",
     "shell.execute_reply": "2022-06-10T10:01:46.895414Z",
     "shell.execute_reply.started": "2022-06-10T10:01:46.891944Z"
    }
   },
   "outputs": [
    {
     "data": {
      "text/plain": [
       "15"
      ]
     },
     "execution_count": 71,
     "metadata": {},
     "output_type": "execute_result"
    }
   ],
   "source": [
    "end_idx"
   ]
  },
  {
   "cell_type": "code",
   "execution_count": 76,
   "id": "b9e8f05c-9023-49a2-a7bc-b6a5ce26bb6f",
   "metadata": {
    "execution": {
     "iopub.execute_input": "2022-06-10T10:02:19.884233Z",
     "iopub.status.busy": "2022-06-10T10:02:19.883691Z",
     "iopub.status.idle": "2022-06-10T10:02:19.889086Z",
     "shell.execute_reply": "2022-06-10T10:02:19.888558Z",
     "shell.execute_reply.started": "2022-06-10T10:02:19.884209Z"
    },
    "tags": []
   },
   "outputs": [
    {
     "data": {
      "text/plain": [
       "<tf.Tensor: shape=(2, 2), dtype=float32, numpy=\n",
       "array([[0., 1.],\n",
       "       [0., 1.]], dtype=float32)>"
      ]
     },
     "execution_count": 76,
     "metadata": {},
     "output_type": "execute_result"
    }
   ],
   "source": [
    "begin_idx = 1\n",
    "end_idx = 3\n"
   ]
  },
  {
   "cell_type": "code",
   "execution_count": 121,
   "id": "325460dd-c989-47f6-b9b1-ed73aec41120",
   "metadata": {
    "execution": {
     "iopub.execute_input": "2022-06-10T10:18:32.551441Z",
     "iopub.status.busy": "2022-06-10T10:18:32.551238Z",
     "iopub.status.idle": "2022-06-10T10:18:32.555735Z",
     "shell.execute_reply": "2022-06-10T10:18:32.555239Z",
     "shell.execute_reply.started": "2022-06-10T10:18:32.551425Z"
    }
   },
   "outputs": [
    {
     "data": {
      "text/plain": [
       "<tf.Tensor: shape=(2, 7), dtype=float32, numpy=\n",
       "array([[0., 0., 0., 0., 1., 0., 0.],\n",
       "       [0., 1., 1., 0., 1., 1., 0.]], dtype=float32)>"
      ]
     },
     "execution_count": 121,
     "metadata": {},
     "output_type": "execute_result"
    }
   ],
   "source": [
    "internal_node_result_complete"
   ]
  },
  {
   "cell_type": "code",
   "execution_count": 123,
   "id": "9589698d-0aa4-4c1a-a3fb-2c65cbe36de5",
   "metadata": {
    "execution": {
     "iopub.execute_input": "2022-06-10T10:18:57.536856Z",
     "iopub.status.busy": "2022-06-10T10:18:57.536563Z",
     "iopub.status.idle": "2022-06-10T10:18:57.543062Z",
     "shell.execute_reply": "2022-06-10T10:18:57.542420Z",
     "shell.execute_reply.started": "2022-06-10T10:18:57.536823Z"
    }
   },
   "outputs": [
    {
     "data": {
      "text/plain": [
       "<tf.Tensor: shape=(2, 7), dtype=int32, numpy=\n",
       "array([[1, 1, 1, 1, 0, 1, 1],\n",
       "       [1, 0, 0, 1, 0, 0, 1]], dtype=int32)>"
      ]
     },
     "execution_count": 123,
     "metadata": {},
     "output_type": "execute_result"
    }
   ],
   "source": [
    "tf.cast(1-internal_node_result_complete, tf.int32)"
   ]
  },
  {
   "cell_type": "code",
   "execution_count": 132,
   "id": "f3cd383b-0fb6-418b-a74b-339953d3a0d6",
   "metadata": {
    "execution": {
     "iopub.execute_input": "2022-06-10T10:20:22.074773Z",
     "iopub.status.busy": "2022-06-10T10:20:22.074589Z",
     "iopub.status.idle": "2022-06-10T10:20:22.080459Z",
     "shell.execute_reply": "2022-06-10T10:20:22.080094Z",
     "shell.execute_reply.started": "2022-06-10T10:20:22.074753Z"
    },
    "tags": []
   },
   "outputs": [
    {
     "data": {
      "text/plain": [
       "<tf.Tensor: shape=(2, 7, 2), dtype=float32, numpy=\n",
       "array([[[0., 1.],\n",
       "        [0., 1.],\n",
       "        [0., 1.],\n",
       "        [0., 1.],\n",
       "        [1., 0.],\n",
       "        [0., 1.],\n",
       "        [0., 1.]],\n",
       "\n",
       "       [[0., 1.],\n",
       "        [1., 0.],\n",
       "        [1., 0.],\n",
       "        [0., 1.],\n",
       "        [1., 0.],\n",
       "        [1., 0.],\n",
       "        [0., 1.]]], dtype=float32)>"
      ]
     },
     "execution_count": 132,
     "metadata": {},
     "output_type": "execute_result"
    }
   ],
   "source": [
    "internal_node_result_complete = tf.round(tf.sigmoid(tf.reduce_sum(split_index*tf.expand_dims(entry, 1), axis=2) - tf.reduce_sum(split_values*split_index, axis=1) - 0.5))\n",
    "tf.concat([tf.expand_dims(internal_node_result_complete, 2), tf.expand_dims(1-internal_node_result_complete, 2)], axis=2) "
   ]
  },
  {
   "cell_type": "code",
   "execution_count": 140,
   "id": "a472693f-df05-4be2-8dc8-94745743f07c",
   "metadata": {
    "execution": {
     "iopub.execute_input": "2022-06-10T10:22:49.702849Z",
     "iopub.status.busy": "2022-06-10T10:22:49.702640Z",
     "iopub.status.idle": "2022-06-10T10:22:49.706621Z",
     "shell.execute_reply": "2022-06-10T10:22:49.706298Z",
     "shell.execute_reply.started": "2022-06-10T10:22:49.702831Z"
    },
    "tags": []
   },
   "outputs": [
    {
     "data": {
      "text/plain": [
       "<tf.Tensor: shape=(2, 4, 2), dtype=float32, numpy=\n",
       "array([[[0., 1.],\n",
       "        [0., 0.],\n",
       "        [0., 1.],\n",
       "        [0., 1.]],\n",
       "\n",
       "       [[0., 1.],\n",
       "        [0., 0.],\n",
       "        [0., 0.],\n",
       "        [0., 1.]]], dtype=float32)>"
      ]
     },
     "execution_count": 140,
     "metadata": {},
     "output_type": "execute_result"
    }
   ],
   "source": [
    "path_results_complete[0]"
   ]
  },
  {
   "cell_type": "code",
   "execution_count": 141,
   "id": "2c7647c1-d6e3-426f-984e-bba14c6759e5",
   "metadata": {
    "execution": {
     "iopub.execute_input": "2022-06-10T10:23:18.451592Z",
     "iopub.status.busy": "2022-06-10T10:23:18.451340Z",
     "iopub.status.idle": "2022-06-10T10:23:18.455858Z",
     "shell.execute_reply": "2022-06-10T10:23:18.455493Z",
     "shell.execute_reply.started": "2022-06-10T10:23:18.451574Z"
    }
   },
   "outputs": [
    {
     "data": {
      "text/plain": [
       "<tf.Tensor: shape=(2, 4, 2), dtype=float32, numpy=\n",
       "array([[[0., 0.],\n",
       "        [0., 0.],\n",
       "        [0., 0.],\n",
       "        [0., 0.]],\n",
       "\n",
       "       [[0., 0.],\n",
       "        [0., 0.],\n",
       "        [0., 0.],\n",
       "        [0., 0.]]], dtype=float32)>"
      ]
     },
     "execution_count": 141,
     "metadata": {},
     "output_type": "execute_result"
    }
   ],
   "source": [
    "path_results_complete[1]"
   ]
  },
  {
   "cell_type": "code",
   "execution_count": 148,
   "id": "f9ef4dd3-dce4-48d6-805e-7df9140764f2",
   "metadata": {
    "execution": {
     "iopub.execute_input": "2022-06-10T10:32:23.833299Z",
     "iopub.status.busy": "2022-06-10T10:32:23.833127Z",
     "iopub.status.idle": "2022-06-10T10:32:23.836630Z",
     "shell.execute_reply": "2022-06-10T10:32:23.836297Z",
     "shell.execute_reply.started": "2022-06-10T10:32:23.833274Z"
    }
   },
   "outputs": [
    {
     "data": {
      "text/plain": [
       "<tf.Tensor: shape=(2, 4, 2), dtype=float32, numpy=\n",
       "array([[[0., 1.],\n",
       "        [1., 0.],\n",
       "        [0., 1.],\n",
       "        [0., 1.]],\n",
       "\n",
       "       [[0., 1.],\n",
       "        [1., 0.],\n",
       "        [1., 0.],\n",
       "        [0., 1.]]], dtype=float32)>"
      ]
     },
     "execution_count": 148,
     "metadata": {},
     "output_type": "execute_result"
    }
   ],
   "source": [
    "path_results_complete_layer"
   ]
  },
  {
   "cell_type": "code",
   "execution_count": 147,
   "id": "e1cf3cec-da90-49b7-987a-6abba5ddb13b",
   "metadata": {
    "execution": {
     "iopub.execute_input": "2022-06-10T10:32:20.846496Z",
     "iopub.status.busy": "2022-06-10T10:32:20.846314Z",
     "iopub.status.idle": "2022-06-10T10:32:20.850414Z",
     "shell.execute_reply": "2022-06-10T10:32:20.850066Z",
     "shell.execute_reply.started": "2022-06-10T10:32:20.846474Z"
    }
   },
   "outputs": [
    {
     "data": {
      "text/plain": [
       "[<tf.Tensor: shape=(1, 4, 2), dtype=float32, numpy=\n",
       " array([[[0., 1.],\n",
       "         [1., 0.],\n",
       "         [0., 1.],\n",
       "         [0., 1.]]], dtype=float32)>,\n",
       " <tf.Tensor: shape=(1, 4, 2), dtype=float32, numpy=\n",
       " array([[[0., 1.],\n",
       "         [1., 0.],\n",
       "         [1., 0.],\n",
       "         [0., 1.]]], dtype=float32)>]"
      ]
     },
     "execution_count": 147,
     "metadata": {},
     "output_type": "execute_result"
    }
   ],
   "source": [
    "tf.split(path_results_complete_layer, 2)"
   ]
  },
  {
   "cell_type": "code",
   "execution_count": 151,
   "id": "40b0a807-1e03-4eba-bc84-05e3f606f4a8",
   "metadata": {
    "execution": {
     "iopub.execute_input": "2022-06-10T10:34:59.151918Z",
     "iopub.status.busy": "2022-06-10T10:34:59.151718Z",
     "iopub.status.idle": "2022-06-10T10:34:59.156092Z",
     "shell.execute_reply": "2022-06-10T10:34:59.155691Z",
     "shell.execute_reply.started": "2022-06-10T10:34:59.151897Z"
    }
   },
   "outputs": [
    {
     "data": {
      "text/plain": [
       "<tf.Tensor: shape=(2, 7), dtype=float32, numpy=\n",
       "array([[0., 0., 0., 0., 1., 0., 0.],\n",
       "       [0., 1., 1., 0., 1., 1., 0.]], dtype=float32)>"
      ]
     },
     "execution_count": 151,
     "metadata": {},
     "output_type": "execute_result"
    }
   ],
   "source": [
    "internal_node_result_complete"
   ]
  },
  {
   "cell_type": "code",
   "execution_count": 161,
   "id": "25cc695c-6e82-4b32-bcf5-286d79c69575",
   "metadata": {
    "execution": {
     "iopub.execute_input": "2022-06-10T10:38:56.702987Z",
     "iopub.status.busy": "2022-06-10T10:38:56.702803Z",
     "iopub.status.idle": "2022-06-10T10:38:56.707388Z",
     "shell.execute_reply": "2022-06-10T10:38:56.706949Z",
     "shell.execute_reply.started": "2022-06-10T10:38:56.702968Z"
    },
    "tags": []
   },
   "outputs": [
    {
     "data": {
      "text/plain": [
       "<tf.Tensor: shape=(2, 2, 2, 3), dtype=float32, numpy=\n",
       "array([[[[0., 0., 0.],\n",
       "         [0., 0., 0.]],\n",
       "\n",
       "        [[0., 0., 1.],\n",
       "         [0., 1., 1.]]],\n",
       "\n",
       "\n",
       "       [[[0., 1., 1.],\n",
       "         [0., 0., 1.]],\n",
       "\n",
       "        [[0., 0., 0.],\n",
       "         [0., 0., 0.]]]], dtype=float32)>"
      ]
     },
     "execution_count": 161,
     "metadata": {},
     "output_type": "execute_result"
    }
   ],
   "source": [
    "path_results_complete"
   ]
  },
  {
   "cell_type": "code",
   "execution_count": 159,
   "id": "f70af35f-5897-4c5c-b364-df95c24bec76",
   "metadata": {
    "execution": {
     "iopub.execute_input": "2022-06-10T10:38:45.411507Z",
     "iopub.status.busy": "2022-06-10T10:38:45.411087Z",
     "iopub.status.idle": "2022-06-10T10:38:45.418371Z",
     "shell.execute_reply": "2022-06-10T10:38:45.417358Z",
     "shell.execute_reply.started": "2022-06-10T10:38:45.411468Z"
    }
   },
   "outputs": [],
   "source": [
    "entry = tf.constant([[0.1,0.2,0.3,0.4,0.5], [0.9,0.2,0.9,0.4,0.5], [0.9,0.9,0.5,0.4,0.5]])b"
   ]
  },
  {
   "cell_type": "code",
   "execution_count": 171,
   "id": "412d2ff4-17bc-4586-b92b-9d484e56eb01",
   "metadata": {
    "execution": {
     "iopub.execute_input": "2022-06-10T10:48:10.051602Z",
     "iopub.status.busy": "2022-06-10T10:48:10.051417Z",
     "iopub.status.idle": "2022-06-10T10:48:10.054482Z",
     "shell.execute_reply": "2022-06-10T10:48:10.054098Z",
     "shell.execute_reply.started": "2022-06-10T10:48:10.051581Z"
    }
   },
   "outputs": [],
   "source": [
    "entry = tf.constant([[0.1,0.2,0.3,0.4,0.5]])"
   ]
  },
  {
   "cell_type": "code",
   "execution_count": 170,
   "id": "7df73a9a-2c68-4176-8834-8daadc013668",
   "metadata": {
    "execution": {
     "iopub.execute_input": "2022-06-10T10:48:05.062483Z",
     "iopub.status.busy": "2022-06-10T10:48:05.062309Z",
     "iopub.status.idle": "2022-06-10T10:48:05.065655Z",
     "shell.execute_reply": "2022-06-10T10:48:05.065249Z",
     "shell.execute_reply.started": "2022-06-10T10:48:05.062465Z"
    }
   },
   "outputs": [
    {
     "name": "stdout",
     "output_type": "stream",
     "text": [
      "B\n"
     ]
    }
   ],
   "source": [
    "print('B')"
   ]
  },
  {
   "cell_type": "code",
   "execution_count": 181,
   "id": "4d41ece5-599a-4715-ac5c-fc99be4db556",
   "metadata": {
    "execution": {
     "iopub.execute_input": "2022-06-10T11:09:34.554292Z",
     "iopub.status.busy": "2022-06-10T11:09:34.553972Z",
     "iopub.status.idle": "2022-06-10T11:09:34.561013Z",
     "shell.execute_reply": "2022-06-10T11:09:34.560323Z",
     "shell.execute_reply.started": "2022-06-10T11:09:34.554245Z"
    }
   },
   "outputs": [
    {
     "data": {
      "text/plain": [
       "<tf.Tensor: shape=(1, 1), dtype=float32, numpy=array([[0.]], dtype=float32)>"
      ]
     },
     "execution_count": 181,
     "metadata": {},
     "output_type": "execute_result"
    }
   ],
   "source": []
  },
  {
   "cell_type": "code",
   "execution_count": 186,
   "id": "f5395803-6bdd-4cee-94bb-79475f21d19f",
   "metadata": {
    "execution": {
     "iopub.execute_input": "2022-06-10T11:16:25.901183Z",
     "iopub.status.busy": "2022-06-10T11:16:25.900858Z",
     "iopub.status.idle": "2022-06-10T11:16:25.906769Z",
     "shell.execute_reply": "2022-06-10T11:16:25.906086Z",
     "shell.execute_reply.started": "2022-06-10T11:16:25.901133Z"
    }
   },
   "outputs": [
    {
     "data": {
      "text/plain": [
       "<tf.Tensor: shape=(1, 1), dtype=float32, numpy=array([[0.]], dtype=float32)>"
      ]
     },
     "execution_count": 186,
     "metadata": {},
     "output_type": "execute_result"
    }
   ],
   "source": [
    "path_results_complete_layer"
   ]
  },
  {
   "cell_type": "code",
   "execution_count": 191,
   "id": "2b329241-cd67-45c9-a2cf-ea2ac42efe30",
   "metadata": {
    "execution": {
     "iopub.execute_input": "2022-06-10T11:17:33.376732Z",
     "iopub.status.busy": "2022-06-10T11:17:33.376538Z",
     "iopub.status.idle": "2022-06-10T11:17:33.380051Z",
     "shell.execute_reply": "2022-06-10T11:17:33.379681Z",
     "shell.execute_reply.started": "2022-06-10T11:17:33.376710Z"
    }
   },
   "outputs": [
    {
     "data": {
      "text/plain": [
       "<tf.Tensor: shape=(2, 1), dtype=float32, numpy=\n",
       "array([[0.],\n",
       "       [0.]], dtype=float32)>"
      ]
     },
     "execution_count": 191,
     "metadata": {},
     "output_type": "execute_result"
    }
   ],
   "source": [
    "path_results_complete_layer"
   ]
  },
  {
   "cell_type": "code",
   "execution_count": 201,
   "id": "6eb30cb5-ef52-4d61-a625-b1f5bd1f5598",
   "metadata": {
    "execution": {
     "iopub.execute_input": "2022-06-10T11:21:51.445749Z",
     "iopub.status.busy": "2022-06-10T11:21:51.445502Z",
     "iopub.status.idle": "2022-06-10T11:21:51.451088Z",
     "shell.execute_reply": "2022-06-10T11:21:51.450572Z",
     "shell.execute_reply.started": "2022-06-10T11:21:51.445729Z"
    },
    "tags": []
   },
   "outputs": [
    {
     "data": {
      "text/plain": [
       "<tf.Tensor: shape=(2, 1), dtype=float32, numpy=\n",
       "array([[0.],\n",
       "       [0.]], dtype=float32)>"
      ]
     },
     "execution_count": 201,
     "metadata": {},
     "output_type": "execute_result"
    }
   ],
   "source": []
  },
  {
   "cell_type": "code",
   "execution_count": 202,
   "id": "b0149a08-ba2c-4a5e-adc1-b24d08ed8d2a",
   "metadata": {
    "execution": {
     "iopub.execute_input": "2022-06-10T11:21:56.463923Z",
     "iopub.status.busy": "2022-06-10T11:21:56.463749Z",
     "iopub.status.idle": "2022-06-10T11:21:56.468281Z",
     "shell.execute_reply": "2022-06-10T11:21:56.467837Z",
     "shell.execute_reply.started": "2022-06-10T11:21:56.463905Z"
    }
   },
   "outputs": [
    {
     "data": {
      "text/plain": [
       "<tf.Tensor: shape=(2, 1), dtype=float32, numpy=\n",
       "array([[1.],\n",
       "       [0.]], dtype=float32)>"
      ]
     },
     "execution_count": 202,
     "metadata": {},
     "output_type": "execute_result"
    }
   ],
   "source": [
    "path_results_complete_layer[1::2]"
   ]
  },
  {
   "cell_type": "code",
   "execution_count": 204,
   "id": "fc9c904a-b557-4987-a355-9219d5f5ebbe",
   "metadata": {
    "execution": {
     "iopub.execute_input": "2022-06-10T11:24:52.327374Z",
     "iopub.status.busy": "2022-06-10T11:24:52.327190Z",
     "iopub.status.idle": "2022-06-10T11:24:52.331191Z",
     "shell.execute_reply": "2022-06-10T11:24:52.330841Z",
     "shell.execute_reply.started": "2022-06-10T11:24:52.327352Z"
    }
   },
   "outputs": [
    {
     "data": {
      "text/plain": [
       "<tf.Tensor: shape=(4,), dtype=int32, numpy=array([0, 1, 0, 1], dtype=int32)>"
      ]
     },
     "execution_count": 204,
     "metadata": {},
     "output_type": "execute_result"
    }
   ],
   "source": [
    "tf.constant([0,1]*2)"
   ]
  },
  {
   "cell_type": "code",
   "execution_count": 205,
   "id": "83a73288-76be-49cb-99ad-880de85561eb",
   "metadata": {
    "execution": {
     "iopub.execute_input": "2022-06-10T11:25:23.575864Z",
     "iopub.status.busy": "2022-06-10T11:25:23.575567Z",
     "iopub.status.idle": "2022-06-10T11:25:23.581381Z",
     "shell.execute_reply": "2022-06-10T11:25:23.580759Z",
     "shell.execute_reply.started": "2022-06-10T11:25:23.575821Z"
    }
   },
   "outputs": [
    {
     "data": {
      "text/plain": [
       "<tf.Tensor: shape=(2, 2, 2, 1), dtype=float32, numpy=\n",
       "array([[[[0.],\n",
       "         [0.]],\n",
       "\n",
       "        [[0.],\n",
       "         [0.]]],\n",
       "\n",
       "\n",
       "       [[[1.],\n",
       "         [0.]],\n",
       "\n",
       "        [[1.],\n",
       "         [0.]]]], dtype=float32)>"
      ]
     },
     "execution_count": 205,
     "metadata": {},
     "output_type": "execute_result"
    }
   ],
   "source": [
    "path_results_complete"
   ]
  },
  {
   "cell_type": "code",
   "execution_count": 230,
   "id": "b49ec990-94cc-43ee-b38d-72944b17e459",
   "metadata": {
    "execution": {
     "iopub.execute_input": "2022-06-10T11:31:28.644914Z",
     "iopub.status.busy": "2022-06-10T11:31:28.644722Z",
     "iopub.status.idle": "2022-06-10T11:31:28.649223Z",
     "shell.execute_reply": "2022-06-10T11:31:28.648869Z",
     "shell.execute_reply.started": "2022-06-10T11:31:28.644893Z"
    },
    "tags": []
   },
   "outputs": [
    {
     "data": {
      "text/plain": [
       "<tf.Tensor: shape=(4,), dtype=int32, numpy=array([1, 2, 2, 3], dtype=int32)>"
      ]
     },
     "execution_count": 230,
     "metadata": {},
     "output_type": "execute_result"
    }
   ],
   "source": [
    "tf.reshape(tf.constant([[1,2],[2,3]]), [4])"
   ]
  },
  {
   "cell_type": "code",
   "execution_count": 227,
   "id": "8a1d6748-f98d-4bf0-9272-0dd2ab4c2450",
   "metadata": {
    "execution": {
     "iopub.execute_input": "2022-06-10T11:30:49.423111Z",
     "iopub.status.busy": "2022-06-10T11:30:49.422930Z",
     "iopub.status.idle": "2022-06-10T11:30:49.428217Z",
     "shell.execute_reply": "2022-06-10T11:30:49.427849Z",
     "shell.execute_reply.started": "2022-06-10T11:30:49.423091Z"
    },
    "tags": []
   },
   "outputs": [
    {
     "data": {
      "text/plain": [
       "<tf.Tensor: shape=(2, 2), dtype=int32, numpy=\n",
       "array([[1, 2],\n",
       "       [2, 3]], dtype=int32)>"
      ]
     },
     "execution_count": 227,
     "metadata": {},
     "output_type": "execute_result"
    }
   ],
   "source": [
    "tf.keras.layers.Flatten()()"
   ]
  },
  {
   "cell_type": "code",
   "execution_count": 234,
   "id": "da6284f6-d617-4116-b3cf-358e58c404ba",
   "metadata": {
    "execution": {
     "iopub.execute_input": "2022-06-10T11:33:00.983216Z",
     "iopub.status.busy": "2022-06-10T11:33:00.983013Z",
     "iopub.status.idle": "2022-06-10T11:33:00.987158Z",
     "shell.execute_reply": "2022-06-10T11:33:00.986719Z",
     "shell.execute_reply.started": "2022-06-10T11:33:00.983196Z"
    },
    "tags": []
   },
   "outputs": [
    {
     "data": {
      "text/plain": [
       "2"
      ]
     },
     "execution_count": 234,
     "metadata": {},
     "output_type": "execute_result"
    }
   ],
   "source": [
    "2 ** (layer_idx + 1)"
   ]
  },
  {
   "cell_type": "code",
   "execution_count": 245,
   "id": "18725380-3dfa-448e-9544-967752194677",
   "metadata": {
    "execution": {
     "iopub.execute_input": "2022-06-10T12:28:57.451576Z",
     "iopub.status.busy": "2022-06-10T12:28:57.451389Z",
     "iopub.status.idle": "2022-06-10T12:28:57.457819Z",
     "shell.execute_reply": "2022-06-10T12:28:57.457223Z",
     "shell.execute_reply.started": "2022-06-10T12:28:57.451557Z"
    },
    "tags": []
   },
   "outputs": [
    {
     "data": {
      "text/plain": [
       "<tf.Tensor: shape=(2, 4), dtype=int32, numpy=\n",
       "array([[0, 0, 0, 0],\n",
       "       [4, 5, 6, 7]], dtype=int32)>"
      ]
     },
     "execution_count": 245,
     "metadata": {},
     "output_type": "execute_result"
    }
   ],
   "source": [
    "r1 = tf.multiply([[0], [1]], [4,5,6,7])\n",
    "r1"
   ]
  },
  {
   "cell_type": "code",
   "execution_count": 247,
   "id": "9379e67e-6d09-4502-92e1-292c6a6d1113",
   "metadata": {
    "execution": {
     "iopub.execute_input": "2022-06-10T12:29:18.707484Z",
     "iopub.status.busy": "2022-06-10T12:29:18.707038Z",
     "iopub.status.idle": "2022-06-10T12:29:18.714938Z",
     "shell.execute_reply": "2022-06-10T12:29:18.714476Z",
     "shell.execute_reply.started": "2022-06-10T12:29:18.707443Z"
    },
    "tags": []
   },
   "outputs": [
    {
     "data": {
      "text/plain": [
       "<tf.Tensor: shape=(2, 2, 4), dtype=int32, numpy=\n",
       "array([[[0, 0, 0, 0],\n",
       "        [4, 5, 6, 7]],\n",
       "\n",
       "       [[0, 0, 0, 0],\n",
       "        [0, 0, 0, 0]]], dtype=int32)>"
      ]
     },
     "execution_count": 247,
     "metadata": {},
     "output_type": "execute_result"
    }
   ],
   "source": [
    "r2 = tf.multiply([[[0], [1]],[[1],[0]]], r1)\n",
    "r2"
   ]
  },
  {
   "cell_type": "code",
   "execution_count": null,
   "id": "d062eaaf-0376-47cb-a8b3-7cbd162ed5a4",
   "metadata": {},
   "outputs": [],
   "source": [
    "tf.multiply("
   ]
  },
  {
   "cell_type": "code",
   "execution_count": 251,
   "id": "29083b1c-70c1-4242-8bda-548df6c63800",
   "metadata": {
    "execution": {
     "iopub.execute_input": "2022-06-10T12:30:50.559688Z",
     "iopub.status.busy": "2022-06-10T12:30:50.559471Z",
     "iopub.status.idle": "2022-06-10T12:30:50.564402Z",
     "shell.execute_reply": "2022-06-10T12:30:50.564020Z",
     "shell.execute_reply.started": "2022-06-10T12:30:50.559670Z"
    },
    "tags": []
   },
   "outputs": [
    {
     "data": {
      "text/plain": [
       "<tf.Tensor: shape=(2, 1), dtype=float32, numpy=\n",
       "array([[0.],\n",
       "       [1.]], dtype=float32)>"
      ]
     },
     "execution_count": 251,
     "metadata": {},
     "output_type": "execute_result"
    }
   ],
   "source": [
    "tf.squeeze(tf.stack([internal_node_result_complete[0:1,:], 1-internal_node_result_complete[0:1,:]]), 1)"
   ]
  },
  {
   "cell_type": "code",
   "execution_count": 259,
   "id": "f257f5f0-1d29-422a-a378-5f70f82ae371",
   "metadata": {
    "execution": {
     "iopub.execute_input": "2022-06-10T12:33:31.944800Z",
     "iopub.status.busy": "2022-06-10T12:33:31.944599Z",
     "iopub.status.idle": "2022-06-10T12:33:32.064446Z",
     "shell.execute_reply": "2022-06-10T12:33:32.063718Z",
     "shell.execute_reply.started": "2022-06-10T12:33:31.944780Z"
    },
    "tags": []
   },
   "outputs": [
    {
     "ename": "InvalidArgumentError",
     "evalue": "Only one input size may be -1, not both 0 and 1 [Op:Reshape]",
     "output_type": "error",
     "traceback": [
      "\u001b[0;31m---------------------------------------------------------------------------\u001b[0m",
      "\u001b[0;31mInvalidArgumentError\u001b[0m                      Traceback (most recent call last)",
      "\u001b[0;32m/tmp/ipykernel_2590706/3109312775.py\u001b[0m in \u001b[0;36m<module>\u001b[0;34m\u001b[0m\n\u001b[0;32m----> 1\u001b[0;31m \u001b[0mtf\u001b[0m\u001b[0;34m.\u001b[0m\u001b[0mreshape\u001b[0m\u001b[0;34m(\u001b[0m\u001b[0mtf\u001b[0m\u001b[0;34m.\u001b[0m\u001b[0mstack\u001b[0m\u001b[0;34m(\u001b[0m\u001b[0;34m[\u001b[0m\u001b[0mpath_results_complete\u001b[0m\u001b[0;34m,\u001b[0m \u001b[0;36m1\u001b[0m\u001b[0;34m-\u001b[0m\u001b[0mpath_results_complete\u001b[0m\u001b[0;34m]\u001b[0m\u001b[0;34m)\u001b[0m\u001b[0;34m,\u001b[0m \u001b[0;34m(\u001b[0m\u001b[0;34m-\u001b[0m\u001b[0;36m1\u001b[0m\u001b[0;34m,\u001b[0m\u001b[0;34m-\u001b[0m\u001b[0;36m1\u001b[0m\u001b[0;34m,\u001b[0m\u001b[0;34m-\u001b[0m\u001b[0;36m1\u001b[0m\u001b[0;34m)\u001b[0m\u001b[0;34m)\u001b[0m\u001b[0;34m\u001b[0m\u001b[0;34m\u001b[0m\u001b[0m\n\u001b[0m",
      "\u001b[0;32m~/anaconda3/envs/XAI/lib/python3.8/site-packages/tensorflow/python/util/traceback_utils.py\u001b[0m in \u001b[0;36merror_handler\u001b[0;34m(*args, **kwargs)\u001b[0m\n\u001b[1;32m    151\u001b[0m     \u001b[0;32mexcept\u001b[0m \u001b[0mException\u001b[0m \u001b[0;32mas\u001b[0m \u001b[0me\u001b[0m\u001b[0;34m:\u001b[0m\u001b[0;34m\u001b[0m\u001b[0;34m\u001b[0m\u001b[0m\n\u001b[1;32m    152\u001b[0m       \u001b[0mfiltered_tb\u001b[0m \u001b[0;34m=\u001b[0m \u001b[0m_process_traceback_frames\u001b[0m\u001b[0;34m(\u001b[0m\u001b[0me\u001b[0m\u001b[0;34m.\u001b[0m\u001b[0m__traceback__\u001b[0m\u001b[0;34m)\u001b[0m\u001b[0;34m\u001b[0m\u001b[0;34m\u001b[0m\u001b[0m\n\u001b[0;32m--> 153\u001b[0;31m       \u001b[0;32mraise\u001b[0m \u001b[0me\u001b[0m\u001b[0;34m.\u001b[0m\u001b[0mwith_traceback\u001b[0m\u001b[0;34m(\u001b[0m\u001b[0mfiltered_tb\u001b[0m\u001b[0;34m)\u001b[0m \u001b[0;32mfrom\u001b[0m \u001b[0;32mNone\u001b[0m\u001b[0;34m\u001b[0m\u001b[0;34m\u001b[0m\u001b[0m\n\u001b[0m\u001b[1;32m    154\u001b[0m     \u001b[0;32mfinally\u001b[0m\u001b[0;34m:\u001b[0m\u001b[0;34m\u001b[0m\u001b[0;34m\u001b[0m\u001b[0m\n\u001b[1;32m    155\u001b[0m       \u001b[0;32mdel\u001b[0m \u001b[0mfiltered_tb\u001b[0m\u001b[0;34m\u001b[0m\u001b[0;34m\u001b[0m\u001b[0m\n",
      "\u001b[0;32m~/anaconda3/envs/XAI/lib/python3.8/site-packages/tensorflow/python/eager/execute.py\u001b[0m in \u001b[0;36mquick_execute\u001b[0;34m(op_name, num_outputs, inputs, attrs, ctx, name)\u001b[0m\n\u001b[1;32m     52\u001b[0m   \u001b[0;32mtry\u001b[0m\u001b[0;34m:\u001b[0m\u001b[0;34m\u001b[0m\u001b[0;34m\u001b[0m\u001b[0m\n\u001b[1;32m     53\u001b[0m     \u001b[0mctx\u001b[0m\u001b[0;34m.\u001b[0m\u001b[0mensure_initialized\u001b[0m\u001b[0;34m(\u001b[0m\u001b[0;34m)\u001b[0m\u001b[0;34m\u001b[0m\u001b[0;34m\u001b[0m\u001b[0m\n\u001b[0;32m---> 54\u001b[0;31m     tensors = pywrap_tfe.TFE_Py_Execute(ctx._handle, device_name, op_name,\n\u001b[0m\u001b[1;32m     55\u001b[0m                                         inputs, attrs, num_outputs)\n\u001b[1;32m     56\u001b[0m   \u001b[0;32mexcept\u001b[0m \u001b[0mcore\u001b[0m\u001b[0;34m.\u001b[0m\u001b[0m_NotOkStatusException\u001b[0m \u001b[0;32mas\u001b[0m \u001b[0me\u001b[0m\u001b[0;34m:\u001b[0m\u001b[0;34m\u001b[0m\u001b[0;34m\u001b[0m\u001b[0m\n",
      "\u001b[0;31mInvalidArgumentError\u001b[0m: Only one input size may be -1, not both 0 and 1 [Op:Reshape]"
     ]
    }
   ],
   "source": [
    "tf.reshape(tf.stack([path_results_complete, 1-path_results_complete]), (,-1,-1))"
   ]
  },
  {
   "cell_type": "code",
   "execution_count": 262,
   "id": "5091555e-603b-4b24-ad74-0e8ccb711e6b",
   "metadata": {
    "execution": {
     "iopub.execute_input": "2022-06-10T12:33:58.008744Z",
     "iopub.status.busy": "2022-06-10T12:33:58.008428Z",
     "iopub.status.idle": "2022-06-10T12:33:58.015369Z",
     "shell.execute_reply": "2022-06-10T12:33:58.014743Z",
     "shell.execute_reply.started": "2022-06-10T12:33:58.008708Z"
    }
   },
   "outputs": [
    {
     "data": {
      "text/plain": [
       "<tf.Tensor: shape=(2, 2, 2, 1), dtype=float32, numpy=\n",
       "array([[[[0.],\n",
       "         [0.]],\n",
       "\n",
       "        [[0.],\n",
       "         [1.]]],\n",
       "\n",
       "\n",
       "       [[[1.],\n",
       "         [1.]],\n",
       "\n",
       "        [[1.],\n",
       "         [0.]]]], dtype=float32)>"
      ]
     },
     "execution_count": 262,
     "metadata": {},
     "output_type": "execute_result"
    }
   ],
   "source": [
    "tf.stack([path_results_complete, 1-path_results_complete])"
   ]
  },
  {
   "cell_type": "code",
   "execution_count": 275,
   "id": "d710a1f3-5978-4086-88c7-a3fe010e0cd0",
   "metadata": {
    "execution": {
     "iopub.execute_input": "2022-06-10T12:36:02.437226Z",
     "iopub.status.busy": "2022-06-10T12:36:02.437047Z",
     "iopub.status.idle": "2022-06-10T12:36:02.441361Z",
     "shell.execute_reply": "2022-06-10T12:36:02.440963Z",
     "shell.execute_reply.started": "2022-06-10T12:36:02.437206Z"
    }
   },
   "outputs": [
    {
     "data": {
      "text/plain": [
       "<tf.Tensor: shape=(2, 2, 1), dtype=float32, numpy=\n",
       "array([[[0.],\n",
       "        [0.]],\n",
       "\n",
       "       [[1.],\n",
       "        [1.]]], dtype=float32)>"
      ]
     },
     "execution_count": 275,
     "metadata": {},
     "output_type": "execute_result"
    }
   ],
   "source": [
    "path_results_complete"
   ]
  },
  {
   "cell_type": "code",
   "execution_count": 280,
   "id": "f0b6e8dd-ee2d-4fad-81d8-f09c5ba49154",
   "metadata": {
    "execution": {
     "iopub.execute_input": "2022-06-10T12:36:34.688171Z",
     "iopub.status.busy": "2022-06-10T12:36:34.687984Z",
     "iopub.status.idle": "2022-06-10T12:36:34.692005Z",
     "shell.execute_reply": "2022-06-10T12:36:34.691531Z",
     "shell.execute_reply.started": "2022-06-10T12:36:34.688152Z"
    }
   },
   "outputs": [
    {
     "data": {
      "text/plain": [
       "<tf.Tensor: shape=(4, 1), dtype=float32, numpy=\n",
       "array([[0.],\n",
       "       [1.],\n",
       "       [0.],\n",
       "       [0.]], dtype=float32)>"
      ]
     },
     "execution_count": 280,
     "metadata": {},
     "output_type": "execute_result"
    }
   ],
   "source": [
    "path_results_complete_layer"
   ]
  },
  {
   "cell_type": "code",
   "execution_count": 282,
   "id": "2822723a-3310-4510-bbe8-a2d83220dc6b",
   "metadata": {
    "execution": {
     "iopub.execute_input": "2022-06-10T12:36:51.020182Z",
     "iopub.status.busy": "2022-06-10T12:36:51.019993Z",
     "iopub.status.idle": "2022-06-10T12:36:51.024500Z",
     "shell.execute_reply": "2022-06-10T12:36:51.024086Z",
     "shell.execute_reply.started": "2022-06-10T12:36:51.020165Z"
    },
    "tags": []
   },
   "outputs": [
    {
     "data": {
      "text/plain": [
       "<tf.Tensor: shape=(4, 2), dtype=float32, numpy=\n",
       "array([[0., 1.],\n",
       "       [1., 0.],\n",
       "       [0., 1.],\n",
       "       [0., 1.]], dtype=float32)>"
      ]
     },
     "execution_count": 282,
     "metadata": {},
     "output_type": "execute_result"
    }
   ],
   "source": [
    "tf.concat([path_results_complete_layer, 1-path_results_complete_layer], 1)"
   ]
  },
  {
   "cell_type": "code",
   "execution_count": 279,
   "id": "f238886f-f21f-4199-b781-60eee765ba21",
   "metadata": {
    "execution": {
     "iopub.execute_input": "2022-06-10T12:36:21.366561Z",
     "iopub.status.busy": "2022-06-10T12:36:21.365894Z",
     "iopub.status.idle": "2022-06-10T12:36:21.370556Z",
     "shell.execute_reply": "2022-06-10T12:36:21.370178Z",
     "shell.execute_reply.started": "2022-06-10T12:36:21.366519Z"
    },
    "tags": []
   },
   "outputs": [
    {
     "data": {
      "text/plain": [
       "<tf.Tensor: shape=(2, 2, 2), dtype=float32, numpy=\n",
       "array([[[0., 1.],\n",
       "        [0., 1.]],\n",
       "\n",
       "       [[1., 0.],\n",
       "        [1., 0.]]], dtype=float32)>"
      ]
     },
     "execution_count": 279,
     "metadata": {},
     "output_type": "execute_result"
    }
   ],
   "source": [
    "tf.concat([path_results_complete, 1-path_results_complete], 2)"
   ]
  },
  {
   "cell_type": "code",
   "execution_count": 286,
   "id": "37a38bb6-9abe-4186-8ce6-35be9cac9b6a",
   "metadata": {
    "execution": {
     "iopub.execute_input": "2022-06-10T12:37:41.880289Z",
     "iopub.status.busy": "2022-06-10T12:37:41.879945Z",
     "iopub.status.idle": "2022-06-10T12:37:41.883827Z",
     "shell.execute_reply": "2022-06-10T12:37:41.883453Z",
     "shell.execute_reply.started": "2022-06-10T12:37:41.880265Z"
    }
   },
   "outputs": [
    {
     "data": {
      "text/plain": [
       "<tf.Tensor: shape=(1, 1), dtype=float32, numpy=array([[0.]], dtype=float32)>"
      ]
     },
     "execution_count": 286,
     "metadata": {},
     "output_type": "execute_result"
    }
   ],
   "source": [
    "path_results_complete"
   ]
  },
  {
   "cell_type": "code",
   "execution_count": 295,
   "id": "fd285432-6b77-40d9-8b60-c5b9f1d59e11",
   "metadata": {
    "execution": {
     "iopub.execute_input": "2022-06-10T13:00:28.789171Z",
     "iopub.status.busy": "2022-06-10T13:00:28.789012Z",
     "iopub.status.idle": "2022-06-10T13:00:28.791893Z",
     "shell.execute_reply": "2022-06-10T13:00:28.791555Z",
     "shell.execute_reply.started": "2022-06-10T13:00:28.789151Z"
    },
    "tags": []
   },
   "outputs": [],
   "source": []
  },
  {
   "cell_type": "code",
   "execution_count": 300,
   "id": "cf35be12-3d7c-4a02-879e-a2433d72f06a",
   "metadata": {
    "execution": {
     "iopub.execute_input": "2022-06-10T13:16:15.635355Z",
     "iopub.status.busy": "2022-06-10T13:16:15.635178Z",
     "iopub.status.idle": "2022-06-10T13:16:15.639703Z",
     "shell.execute_reply": "2022-06-10T13:16:15.639216Z",
     "shell.execute_reply.started": "2022-06-10T13:16:15.635337Z"
    },
    "tags": []
   },
   "outputs": [
    {
     "data": {
      "text/plain": [
       "<tf.Tensor: shape=(1, 3), dtype=float32, numpy=array([[0., 0., 0.]], dtype=float32)>"
      ]
     },
     "execution_count": 300,
     "metadata": {},
     "output_type": "execute_result"
    }
   ],
   "source": [
    "path_results_complete = internal_node_result_complete[0:1,:]\n",
    "path_results_complete"
   ]
  },
  {
   "cell_type": "code",
   "execution_count": 298,
   "id": "b43a7d8c-51a6-40ae-a2dd-173c5c3f987a",
   "metadata": {
    "execution": {
     "iopub.execute_input": "2022-06-10T13:16:01.243921Z",
     "iopub.status.busy": "2022-06-10T13:16:01.243700Z",
     "iopub.status.idle": "2022-06-10T13:16:01.247809Z",
     "shell.execute_reply": "2022-06-10T13:16:01.247381Z",
     "shell.execute_reply.started": "2022-06-10T13:16:01.243901Z"
    }
   },
   "outputs": [
    {
     "data": {
      "text/plain": [
       "<tf.Tensor: shape=(4, 3), dtype=float32, numpy=\n",
       "array([[0., 0., 1.],\n",
       "       [1., 1., 1.],\n",
       "       [0., 1., 1.],\n",
       "       [0., 0., 1.]], dtype=float32)>"
      ]
     },
     "execution_count": 298,
     "metadata": {},
     "output_type": "execute_result"
    }
   ],
   "source": [
    "path_results_complete"
   ]
  },
  {
   "cell_type": "code",
   "execution_count": 303,
   "id": "a668f3e8-87af-4941-af16-c4d8e66a0306",
   "metadata": {
    "execution": {
     "iopub.execute_input": "2022-06-10T13:16:58.070571Z",
     "iopub.status.busy": "2022-06-10T13:16:58.070367Z",
     "iopub.status.idle": "2022-06-10T13:16:58.076974Z",
     "shell.execute_reply": "2022-06-10T13:16:58.076506Z",
     "shell.execute_reply.started": "2022-06-10T13:16:58.070549Z"
    },
    "tags": []
   },
   "outputs": [
    {
     "data": {
      "text/plain": [
       "<tf.Tensor: shape=(3, 7), dtype=float32, numpy=\n",
       "array([[0., 0., 0., 0., 1., 0., 0.],\n",
       "       [0., 1., 1., 0., 1., 1., 0.],\n",
       "       [0., 1., 1., 1., 1., 1., 1.]], dtype=float32)>"
      ]
     },
     "execution_count": 303,
     "metadata": {},
     "output_type": "execute_result"
    }
   ],
   "source": [
    "tf.transpose(tf.round(tf.sigmoid(tf.reduce_sum(tf.expand_dims(split_index, 1)*entry, axis=2) - tf.expand_dims(tf.reduce_sum(split_values*split_index, axis=1), 1) - 0.5)))\n"
   ]
  },
  {
   "cell_type": "code",
   "execution_count": 308,
   "id": "29a155ad-179d-4895-b38d-cc5161d58107",
   "metadata": {
    "execution": {
     "iopub.execute_input": "2022-06-10T13:18:28.338158Z",
     "iopub.status.busy": "2022-06-10T13:18:28.337964Z",
     "iopub.status.idle": "2022-06-10T13:18:28.342564Z",
     "shell.execute_reply": "2022-06-10T13:18:28.342134Z",
     "shell.execute_reply.started": "2022-06-10T13:18:28.338137Z"
    }
   },
   "outputs": [
    {
     "data": {
      "text/plain": [
       "<tf.Tensor: shape=(7, 1, 2), dtype=float32, numpy=\n",
       "array([[[0., 1.]],\n",
       "\n",
       "       [[0., 1.]],\n",
       "\n",
       "       [[0., 1.]],\n",
       "\n",
       "       [[0., 1.]],\n",
       "\n",
       "       [[1., 0.]],\n",
       "\n",
       "       [[0., 1.]],\n",
       "\n",
       "       [[0., 1.]]], dtype=float32)>"
      ]
     },
     "execution_count": 308,
     "metadata": {},
     "output_type": "execute_result"
    }
   ],
   "source": [
    "path_results_complete_extended"
   ]
  },
  {
   "cell_type": "code",
   "execution_count": 309,
   "id": "4e898a94-c50c-4ced-92a4-c020f2e34326",
   "metadata": {
    "execution": {
     "iopub.execute_input": "2022-06-10T13:18:28.343427Z",
     "iopub.status.busy": "2022-06-10T13:18:28.343309Z",
     "iopub.status.idle": "2022-06-10T13:18:28.411126Z",
     "shell.execute_reply": "2022-06-10T13:18:28.410675Z",
     "shell.execute_reply.started": "2022-06-10T13:18:28.343412Z"
    }
   },
   "outputs": [
    {
     "data": {
      "text/plain": [
       "<tf.Tensor: shape=(7, 4), dtype=float32, numpy=\n",
       "array([[0., 0., 1., 1.],\n",
       "       [1., 1., 0., 0.],\n",
       "       [1., 1., 0., 0.],\n",
       "       [0., 1., 1., 0.],\n",
       "       [1., 1., 0., 0.],\n",
       "       [1., 1., 0., 0.],\n",
       "       [0., 1., 1., 0.]], dtype=float32)>"
      ]
     },
     "execution_count": 309,
     "metadata": {},
     "output_type": "execute_result"
    }
   ],
   "source": [
    "path_results_complete_layer_extended"
   ]
  },
  {
   "cell_type": "code",
   "execution_count": 313,
   "id": "bf5c84fe-4e4a-4e86-bd11-2c641408e499",
   "metadata": {
    "execution": {
     "iopub.execute_input": "2022-06-10T13:19:17.188299Z",
     "iopub.status.busy": "2022-06-10T13:19:17.187830Z",
     "iopub.status.idle": "2022-06-10T13:19:17.193267Z",
     "shell.execute_reply": "2022-06-10T13:19:17.192909Z",
     "shell.execute_reply.started": "2022-06-10T13:19:17.188263Z"
    },
    "tags": []
   },
   "outputs": [
    {
     "data": {
      "text/plain": [
       "<tf.Tensor: shape=(7, 4, 2), dtype=float32, numpy=\n",
       "array([[[0., 0.],\n",
       "        [0., 0.],\n",
       "        [0., 1.],\n",
       "        [0., 1.]],\n",
       "\n",
       "       [[0., 1.],\n",
       "        [0., 1.],\n",
       "        [0., 0.],\n",
       "        [0., 0.]],\n",
       "\n",
       "       [[0., 1.],\n",
       "        [0., 1.],\n",
       "        [0., 0.],\n",
       "        [0., 0.]],\n",
       "\n",
       "       [[0., 0.],\n",
       "        [0., 1.],\n",
       "        [0., 1.],\n",
       "        [0., 0.]],\n",
       "\n",
       "       [[1., 0.],\n",
       "        [1., 0.],\n",
       "        [0., 0.],\n",
       "        [0., 0.]],\n",
       "\n",
       "       [[0., 1.],\n",
       "        [0., 1.],\n",
       "        [0., 0.],\n",
       "        [0., 0.]],\n",
       "\n",
       "       [[0., 0.],\n",
       "        [0., 1.],\n",
       "        [0., 1.],\n",
       "        [0., 0.]]], dtype=float32)>"
      ]
     },
     "execution_count": 313,
     "metadata": {},
     "output_type": "execute_result"
    }
   ],
   "source": [
    "tf.multiply(path_results_complete_extended, tf.expand_dims(path_results_complete_layer_extended, 2))\n",
    "            "
   ]
  },
  {
   "cell_type": "code",
   "execution_count": 315,
   "id": "ef78254f-81af-43d5-a1f7-def4271e642d",
   "metadata": {
    "execution": {
     "iopub.execute_input": "2022-06-10T13:20:12.039227Z",
     "iopub.status.busy": "2022-06-10T13:20:12.039044Z",
     "iopub.status.idle": "2022-06-10T13:20:12.042552Z",
     "shell.execute_reply": "2022-06-10T13:20:12.042192Z",
     "shell.execute_reply.started": "2022-06-10T13:20:12.039207Z"
    }
   },
   "outputs": [
    {
     "data": {
      "text/plain": [
       "<tf.Tensor: shape=(7, 0), dtype=float32, numpy=array([], shape=(7, 0), dtype=float32)>"
      ]
     },
     "execution_count": 315,
     "metadata": {},
     "output_type": "execute_result"
    }
   ],
   "source": [
    "path_results_complete_layer_extended"
   ]
  },
  {
   "cell_type": "code",
   "execution_count": 316,
   "id": "502561ef-1f00-4f48-ad60-2133f024539a",
   "metadata": {
    "execution": {
     "iopub.execute_input": "2022-06-10T13:20:23.034755Z",
     "iopub.status.busy": "2022-06-10T13:20:23.034531Z",
     "iopub.status.idle": "2022-06-10T13:20:23.038388Z",
     "shell.execute_reply": "2022-06-10T13:20:23.038024Z",
     "shell.execute_reply.started": "2022-06-10T13:20:23.034734Z"
    }
   },
   "outputs": [
    {
     "data": {
      "text/plain": [
       "<tf.Tensor: shape=(7, 4, 2), dtype=float32, numpy=\n",
       "array([[[0., 0.],\n",
       "        [0., 0.],\n",
       "        [0., 1.],\n",
       "        [0., 1.]],\n",
       "\n",
       "       [[0., 1.],\n",
       "        [0., 1.],\n",
       "        [0., 0.],\n",
       "        [0., 0.]],\n",
       "\n",
       "       [[0., 1.],\n",
       "        [0., 1.],\n",
       "        [0., 0.],\n",
       "        [0., 0.]],\n",
       "\n",
       "       [[0., 0.],\n",
       "        [0., 1.],\n",
       "        [0., 1.],\n",
       "        [0., 0.]],\n",
       "\n",
       "       [[1., 0.],\n",
       "        [1., 0.],\n",
       "        [0., 0.],\n",
       "        [0., 0.]],\n",
       "\n",
       "       [[0., 1.],\n",
       "        [0., 1.],\n",
       "        [0., 0.],\n",
       "        [0., 0.]],\n",
       "\n",
       "       [[0., 0.],\n",
       "        [0., 1.],\n",
       "        [0., 1.],\n",
       "        [0., 0.]]], dtype=float32)>"
      ]
     },
     "execution_count": 316,
     "metadata": {},
     "output_type": "execute_result"
    }
   ],
   "source": [
    "path_results_complete"
   ]
  },
  {
   "cell_type": "code",
   "execution_count": 320,
   "id": "442cdff2-10a3-4f7d-99eb-692aa0a5fab3",
   "metadata": {
    "execution": {
     "iopub.execute_input": "2022-06-10T13:21:20.082137Z",
     "iopub.status.busy": "2022-06-10T13:21:20.081956Z",
     "iopub.status.idle": "2022-06-10T13:21:20.086353Z",
     "shell.execute_reply": "2022-06-10T13:21:20.085975Z",
     "shell.execute_reply.started": "2022-06-10T13:21:20.082120Z"
    }
   },
   "outputs": [
    {
     "data": {
      "text/plain": [
       "<tf.Tensor: shape=(7, 3), dtype=float32, numpy=\n",
       "array([[0., 0., 0.],\n",
       "       [0., 1., 1.],\n",
       "       [0., 1., 1.],\n",
       "       [0., 0., 1.],\n",
       "       [1., 1., 1.],\n",
       "       [0., 1., 1.],\n",
       "       [0., 0., 1.]], dtype=float32)>"
      ]
     },
     "execution_count": 320,
     "metadata": {},
     "output_type": "execute_result"
    }
   ],
   "source": [
    "internal_node_result_complete"
   ]
  },
  {
   "cell_type": "code",
   "execution_count": 325,
   "id": "d7288715-d852-43f6-bfba-dce9a7dd5a86",
   "metadata": {
    "execution": {
     "iopub.execute_input": "2022-06-10T13:21:46.769452Z",
     "iopub.status.busy": "2022-06-10T13:21:46.769262Z",
     "iopub.status.idle": "2022-06-10T13:21:46.774131Z",
     "shell.execute_reply": "2022-06-10T13:21:46.773771Z",
     "shell.execute_reply.started": "2022-06-10T13:21:46.769434Z"
    },
    "tags": []
   },
   "outputs": [
    {
     "data": {
      "text/plain": [
       "<tf.Tensor: shape=(1, 3), dtype=float32, numpy=array([[0., 0., 0.]], dtype=float32)>"
      ]
     },
     "execution_count": 325,
     "metadata": {},
     "output_type": "execute_result"
    }
   ],
   "source": [
    "internal_node_result_complete[0:1,:]"
   ]
  },
  {
   "cell_type": "code",
   "execution_count": 337,
   "id": "05c704f6-7bc9-4db8-b7c9-69707cf21eb7",
   "metadata": {
    "execution": {
     "iopub.execute_input": "2022-06-10T13:25:09.827029Z",
     "iopub.status.busy": "2022-06-10T13:25:09.826569Z",
     "iopub.status.idle": "2022-06-10T13:25:09.831320Z",
     "shell.execute_reply": "2022-06-10T13:25:09.830942Z",
     "shell.execute_reply.started": "2022-06-10T13:25:09.826981Z"
    },
    "tags": []
   },
   "outputs": [
    {
     "data": {
      "text/plain": [
       "<tf.Tensor: shape=(3, 4), dtype=float32, numpy=\n",
       "array([[0., 1., 0., 0.],\n",
       "       [0., 1., 1., 0.],\n",
       "       [1., 1., 1., 1.]], dtype=float32)>"
      ]
     },
     "execution_count": 337,
     "metadata": {},
     "output_type": "execute_result"
    }
   ],
   "source": [
    "internal_node_result_complete[:,begin_idx:end_idx]"
   ]
  },
  {
   "cell_type": "code",
   "execution_count": 334,
   "id": "72c9a0de-80a4-4881-8847-48e68d27ce84",
   "metadata": {
    "execution": {
     "iopub.execute_input": "2022-06-10T13:24:22.445334Z",
     "iopub.status.busy": "2022-06-10T13:24:22.445144Z",
     "iopub.status.idle": "2022-06-10T13:24:22.448949Z",
     "shell.execute_reply": "2022-06-10T13:24:22.448582Z",
     "shell.execute_reply.started": "2022-06-10T13:24:22.445315Z"
    }
   },
   "outputs": [
    {
     "data": {
      "text/plain": [
       "<tf.Tensor: shape=(3, 8), dtype=float32, numpy=\n",
       "array([[0., 1., 0., 0., 1., 0., 1., 1.],\n",
       "       [0., 1., 1., 0., 1., 0., 0., 1.],\n",
       "       [1., 1., 1., 1., 0., 0., 0., 0.]], dtype=float32)>"
      ]
     },
     "execution_count": 334,
     "metadata": {},
     "output_type": "execute_result"
    }
   ],
   "source": [
    "path_results_complete_layer_extended"
   ]
  },
  {
   "cell_type": "code",
   "execution_count": 342,
   "id": "583cf738-77f2-4d3d-bd54-27b72b40ef43",
   "metadata": {
    "execution": {
     "iopub.execute_input": "2022-06-10T13:25:51.796684Z",
     "iopub.status.busy": "2022-06-10T13:25:51.796230Z",
     "iopub.status.idle": "2022-06-10T13:25:51.802932Z",
     "shell.execute_reply": "2022-06-10T13:25:51.802241Z",
     "shell.execute_reply.started": "2022-06-10T13:25:51.796644Z"
    },
    "tags": []
   },
   "outputs": [
    {
     "data": {
      "text/plain": [
       "<tf.Tensor: shape=(3, 4), dtype=float32, numpy=\n",
       "array([[0., 1., 0., 0.],\n",
       "       [0., 1., 1., 0.],\n",
       "       [1., 1., 1., 1.]], dtype=float32)>"
      ]
     },
     "execution_count": 342,
     "metadata": {},
     "output_type": "execute_result"
    }
   ],
   "source": [
    "path_results_complete_layer"
   ]
  },
  {
   "cell_type": "code",
   "execution_count": 341,
   "id": "c95003db-34df-472c-a600-718a5afb1393",
   "metadata": {
    "execution": {
     "iopub.execute_input": "2022-06-10T13:25:43.429282Z",
     "iopub.status.busy": "2022-06-10T13:25:43.428950Z",
     "iopub.status.idle": "2022-06-10T13:25:43.435222Z",
     "shell.execute_reply": "2022-06-10T13:25:43.434733Z",
     "shell.execute_reply.started": "2022-06-10T13:25:43.429256Z"
    },
    "tags": []
   },
   "outputs": [
    {
     "data": {
      "text/plain": [
       "<tf.Tensor: shape=(3, 8), dtype=float32, numpy=\n",
       "array([[0., 1., 0., 0., 1., 0., 1., 1.],\n",
       "       [0., 1., 1., 0., 1., 0., 0., 1.],\n",
       "       [1., 1., 1., 1., 0., 0., 0., 0.]], dtype=float32)>"
      ]
     },
     "execution_count": 341,
     "metadata": {},
     "output_type": "execute_result"
    }
   ],
   "source": [
    "tf.concat([path_results_complete_layer, 1-path_results_complete_layer], 1)"
   ]
  },
  {
   "cell_type": "code",
   "execution_count": 352,
   "id": "073b078f-a908-4061-b6e6-0e9902dc3023",
   "metadata": {
    "execution": {
     "iopub.execute_input": "2022-06-10T13:29:57.750206Z",
     "iopub.status.busy": "2022-06-10T13:29:57.749927Z",
     "iopub.status.idle": "2022-06-10T13:29:57.757583Z",
     "shell.execute_reply": "2022-06-10T13:29:57.757069Z",
     "shell.execute_reply.started": "2022-06-10T13:29:57.750183Z"
    },
    "tags": []
   },
   "outputs": [
    {
     "data": {
      "text/plain": [
       "<tf.Tensor: shape=(3, 7), dtype=float32, numpy=\n",
       "array([[0., 0., 0., 0., 1., 0., 0.],\n",
       "       [0., 1., 1., 0., 1., 1., 0.],\n",
       "       [0., 1., 1., 1., 1., 1., 1.]], dtype=float32)>"
      ]
     },
     "execution_count": 352,
     "metadata": {},
     "output_type": "execute_result"
    }
   ],
   "source": [
    "internal_node_result_complete"
   ]
  },
  {
   "cell_type": "code",
   "execution_count": 359,
   "id": "2aeb29d2-7f5f-4392-b20b-ffe4175de79c",
   "metadata": {
    "execution": {
     "iopub.execute_input": "2022-06-10T13:33:08.114013Z",
     "iopub.status.busy": "2022-06-10T13:33:08.113827Z",
     "iopub.status.idle": "2022-06-10T13:33:08.118260Z",
     "shell.execute_reply": "2022-06-10T13:33:08.117895Z",
     "shell.execute_reply.started": "2022-06-10T13:33:08.113992Z"
    }
   },
   "outputs": [
    {
     "data": {
      "text/plain": [
       "<tf.Tensor: shape=(3, 1), dtype=float32, numpy=\n",
       "array([[0.],\n",
       "       [0.],\n",
       "       [0.]], dtype=float32)>"
      ]
     },
     "execution_count": 359,
     "metadata": {},
     "output_type": "execute_result"
    }
   ],
   "source": [
    "internal_node_result_complete[:,0:1]"
   ]
  },
  {
   "cell_type": "code",
   "execution_count": 360,
   "id": "756ae29a-f5e9-4bad-80ad-40cd6a93d145",
   "metadata": {
    "execution": {
     "iopub.execute_input": "2022-06-10T13:33:08.225569Z",
     "iopub.status.busy": "2022-06-10T13:33:08.225440Z",
     "iopub.status.idle": "2022-06-10T13:33:08.228944Z",
     "shell.execute_reply": "2022-06-10T13:33:08.228625Z",
     "shell.execute_reply.started": "2022-06-10T13:33:08.225554Z"
    }
   },
   "outputs": [
    {
     "data": {
      "text/plain": [
       "<tf.Tensor: shape=(3, 2), dtype=float32, numpy=\n",
       "array([[0., 0.],\n",
       "       [1., 1.],\n",
       "       [1., 1.]], dtype=float32)>"
      ]
     },
     "execution_count": 360,
     "metadata": {},
     "output_type": "execute_result"
    }
   ],
   "source": [
    "internal_node_result_complete[:,1:3]"
   ]
  },
  {
   "cell_type": "code",
   "execution_count": 350,
   "id": "ca9ef59e-3389-4229-a573-b1e47ce18154",
   "metadata": {
    "execution": {
     "iopub.execute_input": "2022-06-10T13:29:37.337182Z",
     "iopub.status.busy": "2022-06-10T13:29:37.336870Z",
     "iopub.status.idle": "2022-06-10T13:29:37.345287Z",
     "shell.execute_reply": "2022-06-10T13:29:37.344373Z",
     "shell.execute_reply.started": "2022-06-10T13:29:37.337162Z"
    },
    "tags": []
   },
   "outputs": [
    {
     "data": {
      "text/plain": [
       "<tf.Tensor: shape=(3, 2), dtype=float32, numpy=\n",
       "array([[0., 0.],\n",
       "       [0., 0.],\n",
       "       [0., 0.]], dtype=float32)>"
      ]
     },
     "execution_count": 350,
     "metadata": {},
     "output_type": "execute_result"
    }
   ],
   "source": [
    "l1 = internal_node_result_complete[:,0:1]*internal_node_result_complete[:,1:3]\n",
    "l1"
   ]
  },
  {
   "cell_type": "code",
   "execution_count": 351,
   "id": "2c49092d-7410-4d38-a669-0989c83c1742",
   "metadata": {
    "execution": {
     "iopub.execute_input": "2022-06-10T13:29:39.873034Z",
     "iopub.status.busy": "2022-06-10T13:29:39.872735Z",
     "iopub.status.idle": "2022-06-10T13:29:39.878404Z",
     "shell.execute_reply": "2022-06-10T13:29:39.877966Z",
     "shell.execute_reply.started": "2022-06-10T13:29:39.873012Z"
    },
    "tags": []
   },
   "outputs": [
    {
     "data": {
      "text/plain": [
       "<tf.Tensor: shape=(3, 2), dtype=float32, numpy=\n",
       "array([[0., 0.],\n",
       "       [1., 1.],\n",
       "       [1., 1.]], dtype=float32)>"
      ]
     },
     "execution_count": 351,
     "metadata": {},
     "output_type": "execute_result"
    }
   ],
   "source": [
    "r1 = (1-internal_node_result_complete[:,0:1])*internal_node_result_complete[:,1:3]\n",
    "r1"
   ]
  },
  {
   "cell_type": "code",
   "execution_count": 363,
   "id": "d548ae5b-7a10-4d35-9c58-9ab341f74597",
   "metadata": {
    "execution": {
     "iopub.execute_input": "2022-06-10T13:35:14.241572Z",
     "iopub.status.busy": "2022-06-10T13:35:14.241127Z",
     "iopub.status.idle": "2022-06-10T13:35:14.247176Z",
     "shell.execute_reply": "2022-06-10T13:35:14.245894Z",
     "shell.execute_reply.started": "2022-06-10T13:35:14.241546Z"
    }
   },
   "outputs": [
    {
     "data": {
      "text/plain": [
       "<tf.Tensor: shape=(3, 2), dtype=float32, numpy=\n",
       "array([[0., 0.],\n",
       "       [1., 1.],\n",
       "       [1., 1.]], dtype=float32)>"
      ]
     },
     "execution_count": 363,
     "metadata": {},
     "output_type": "execute_result"
    }
   ],
   "source": [
    "internal_node_result_complete[:,1:3]"
   ]
  },
  {
   "cell_type": "code",
   "execution_count": 364,
   "id": "9008700c-cf80-4c96-ab68-d144aa15534f",
   "metadata": {
    "execution": {
     "iopub.execute_input": "2022-06-10T13:35:37.305151Z",
     "iopub.status.busy": "2022-06-10T13:35:37.304953Z",
     "iopub.status.idle": "2022-06-10T13:35:37.310955Z",
     "shell.execute_reply": "2022-06-10T13:35:37.310574Z",
     "shell.execute_reply.started": "2022-06-10T13:35:37.305131Z"
    }
   },
   "outputs": [
    {
     "data": {
      "text/plain": [
       "<tf.Tensor: shape=(7, 3), dtype=float32, numpy=\n",
       "array([[0., 0., 0.],\n",
       "       [0., 1., 1.],\n",
       "       [0., 1., 1.],\n",
       "       [0., 0., 1.],\n",
       "       [1., 1., 1.],\n",
       "       [0., 1., 1.],\n",
       "       [0., 0., 1.]], dtype=float32)>"
      ]
     },
     "execution_count": 364,
     "metadata": {},
     "output_type": "execute_result"
    }
   ],
   "source": [
    "internal_node_result_complete = tf.round(tf.sigmoid(tf.reduce_sum(tf.expand_dims(split_index, 1)*entry, axis=2) - tf.expand_dims(tf.reduce_sum(split_values*split_index, axis=1), 1) - 0.5))\n",
    "internal_node_result_complete"
   ]
  },
  {
   "cell_type": "code",
   "execution_count": 369,
   "id": "719238f0-4ddc-4afe-8404-d18d54f87f7f",
   "metadata": {
    "execution": {
     "iopub.execute_input": "2022-06-10T13:36:37.312634Z",
     "iopub.status.busy": "2022-06-10T13:36:37.312393Z",
     "iopub.status.idle": "2022-06-10T13:36:37.320677Z",
     "shell.execute_reply": "2022-06-10T13:36:37.320147Z",
     "shell.execute_reply.started": "2022-06-10T13:36:37.312609Z"
    },
    "tags": []
   },
   "outputs": [
    {
     "data": {
      "text/plain": [
       "<tf.Tensor: shape=(1, 3), dtype=float32, numpy=array([[0., 1., 1.]], dtype=float32)>"
      ]
     },
     "metadata": {},
     "output_type": "display_data"
    },
    {
     "data": {
      "text/plain": [
       "<tf.Tensor: shape=(1, 3), dtype=float32, numpy=array([[0., 1., 1.]], dtype=float32)>"
      ]
     },
     "metadata": {},
     "output_type": "display_data"
    }
   ],
   "source": [
    "l1 = internal_node_result_complete[1:3,:][::2]\n",
    "display(l1)\n",
    "r1 = internal_node_result_complete[1:3,:][1::2]\n",
    "display(r1)"
   ]
  },
  {
   "cell_type": "code",
   "execution_count": 378,
   "id": "e26de9ef-e3c6-40ae-8b58-c37526da5863",
   "metadata": {
    "execution": {
     "iopub.execute_input": "2022-06-10T13:38:44.362858Z",
     "iopub.status.busy": "2022-06-10T13:38:44.362632Z",
     "iopub.status.idle": "2022-06-10T13:38:44.366867Z",
     "shell.execute_reply": "2022-06-10T13:38:44.366509Z",
     "shell.execute_reply.started": "2022-06-10T13:38:44.362835Z"
    },
    "tags": []
   },
   "outputs": [
    {
     "data": {
      "text/plain": [
       "<tf.Tensor: shape=(1, 3), dtype=float32, numpy=array([[0., 0., 0.]], dtype=float32)>"
      ]
     },
     "execution_count": 378,
     "metadata": {},
     "output_type": "execute_result"
    }
   ],
   "source": [
    "l0 = internal_node_result_complete[0:1,:] \n",
    "l0"
   ]
  },
  {
   "cell_type": "code",
   "execution_count": 377,
   "id": "d9eca177-62f9-4350-99a6-e84251b031b2",
   "metadata": {
    "execution": {
     "iopub.execute_input": "2022-06-10T13:38:42.933489Z",
     "iopub.status.busy": "2022-06-10T13:38:42.933308Z",
     "iopub.status.idle": "2022-06-10T13:38:42.937875Z",
     "shell.execute_reply": "2022-06-10T13:38:42.937429Z",
     "shell.execute_reply.started": "2022-06-10T13:38:42.933470Z"
    },
    "tags": []
   },
   "outputs": [
    {
     "data": {
      "text/plain": [
       "<tf.Tensor: shape=(1, 3), dtype=float32, numpy=array([[0., 1., 1.]], dtype=float32)>"
      ]
     },
     "execution_count": 377,
     "metadata": {},
     "output_type": "execute_result"
    }
   ],
   "source": [
    "r0 = 1-internal_node_result_complete[0:1,:]\n",
    "r0"
   ]
  },
  {
   "cell_type": "code",
   "execution_count": 379,
   "id": "23a1a1f0-09c3-4a78-9de7-c1024c205870",
   "metadata": {
    "execution": {
     "iopub.execute_input": "2022-06-10T13:38:45.738312Z",
     "iopub.status.busy": "2022-06-10T13:38:45.738139Z",
     "iopub.status.idle": "2022-06-10T13:38:45.742060Z",
     "shell.execute_reply": "2022-06-10T13:38:45.741692Z",
     "shell.execute_reply.started": "2022-06-10T13:38:45.738294Z"
    },
    "tags": []
   },
   "outputs": [
    {
     "data": {
      "text/plain": [
       "<tf.Tensor: shape=(1, 3), dtype=float32, numpy=array([[0., 0., 0.]], dtype=float32)>"
      ]
     },
     "execution_count": 379,
     "metadata": {},
     "output_type": "execute_result"
    }
   ],
   "source": [
    "l_0_1 = l0 * l1\n",
    "l_0_1"
   ]
  },
  {
   "cell_type": "code",
   "execution_count": 380,
   "id": "3b682e94-1568-48e3-9976-bd34531d4bc2",
   "metadata": {
    "execution": {
     "iopub.execute_input": "2022-06-10T13:38:45.745105Z",
     "iopub.status.busy": "2022-06-10T13:38:45.744902Z",
     "iopub.status.idle": "2022-06-10T13:38:45.817009Z",
     "shell.execute_reply": "2022-06-10T13:38:45.816606Z",
     "shell.execute_reply.started": "2022-06-10T13:38:45.745089Z"
    },
    "tags": []
   },
   "outputs": [
    {
     "data": {
      "text/plain": [
       "<tf.Tensor: shape=(1, 3), dtype=float32, numpy=array([[0., 1., 1.]], dtype=float32)>"
      ]
     },
     "execution_count": 380,
     "metadata": {},
     "output_type": "execute_result"
    }
   ],
   "source": [
    "r_0_1 = r0 * r1\n",
    "r_0_1"
   ]
  },
  {
   "cell_type": "code",
   "execution_count": 382,
   "id": "69402f5d-e6ac-47d7-a7ca-f20568a7708b",
   "metadata": {
    "execution": {
     "iopub.execute_input": "2022-06-10T13:40:13.149878Z",
     "iopub.status.busy": "2022-06-10T13:40:13.149577Z",
     "iopub.status.idle": "2022-06-10T13:40:13.155672Z",
     "shell.execute_reply": "2022-06-10T13:40:13.155303Z",
     "shell.execute_reply.started": "2022-06-10T13:40:13.149859Z"
    },
    "tags": []
   },
   "outputs": [
    {
     "data": {
      "text/plain": [
       "<tf.Tensor: shape=(2, 3), dtype=float32, numpy=\n",
       "array([[0., 0., 1.],\n",
       "       [0., 1., 1.]], dtype=float32)>"
      ]
     },
     "metadata": {},
     "output_type": "display_data"
    },
    {
     "data": {
      "text/plain": [
       "<tf.Tensor: shape=(2, 3), dtype=float32, numpy=\n",
       "array([[1., 1., 1.],\n",
       "       [0., 0., 1.]], dtype=float32)>"
      ]
     },
     "metadata": {},
     "output_type": "display_data"
    }
   ],
   "source": [
    "l2 = internal_node_result_complete[3:7,:][::2]\n",
    "display(l1)\n",
    "r2 = internal_node_result_complete[3:7,:][1::2]\n",
    "display(r1)"
   ]
  },
  {
   "cell_type": "code",
   "execution_count": 383,
   "id": "11dd21fe-a3e1-4aba-a763-458cd618456f",
   "metadata": {
    "execution": {
     "iopub.execute_input": "2022-06-10T13:40:14.312625Z",
     "iopub.status.busy": "2022-06-10T13:40:14.312316Z",
     "iopub.status.idle": "2022-06-10T13:40:14.316327Z",
     "shell.execute_reply": "2022-06-10T13:40:14.315793Z",
     "shell.execute_reply.started": "2022-06-10T13:40:14.312608Z"
    }
   },
   "outputs": [
    {
     "data": {
      "text/plain": [
       "<tf.Tensor: shape=(2, 3), dtype=float32, numpy=\n",
       "array([[0., 1., 1.],\n",
       "       [0., 0., 1.]], dtype=float32)>"
      ]
     },
     "execution_count": 383,
     "metadata": {},
     "output_type": "execute_result"
    }
   ],
   "source": [
    "r_0_1_2 = r_0_1 * r2\n",
    "r_0_1_2"
   ]
  },
  {
   "cell_type": "code",
   "execution_count": 384,
   "id": "e9263fbb-9654-4d9f-9969-a449081b7304",
   "metadata": {
    "execution": {
     "iopub.execute_input": "2022-06-10T13:40:15.397682Z",
     "iopub.status.busy": "2022-06-10T13:40:15.397523Z",
     "iopub.status.idle": "2022-06-10T13:40:15.401261Z",
     "shell.execute_reply": "2022-06-10T13:40:15.400911Z",
     "shell.execute_reply.started": "2022-06-10T13:40:15.397660Z"
    }
   },
   "outputs": [
    {
     "data": {
      "text/plain": [
       "<tf.Tensor: shape=(2, 3), dtype=float32, numpy=\n",
       "array([[0., 0., 0.],\n",
       "       [0., 0., 0.]], dtype=float32)>"
      ]
     },
     "execution_count": 384,
     "metadata": {},
     "output_type": "execute_result"
    }
   ],
   "source": [
    "l_0_1_2 = l_0_1 * l2\n",
    "l_0_1_2"
   ]
  },
  {
   "cell_type": "code",
   "execution_count": 387,
   "id": "2e047dd0-d0ef-42e1-8ce8-0d987797ee2b",
   "metadata": {
    "execution": {
     "iopub.execute_input": "2022-06-10T13:47:24.970075Z",
     "iopub.status.busy": "2022-06-10T13:47:24.969854Z",
     "iopub.status.idle": "2022-06-10T13:47:24.976770Z",
     "shell.execute_reply": "2022-06-10T13:47:24.976405Z",
     "shell.execute_reply.started": "2022-06-10T13:47:24.970057Z"
    },
    "tags": []
   },
   "outputs": [
    {
     "data": {
      "text/plain": [
       "<tf.Tensor: shape=(1, 3), dtype=float32, numpy=array([[0., 0., 0.]], dtype=float32)>"
      ]
     },
     "metadata": {},
     "output_type": "display_data"
    },
    {
     "data": {
      "text/plain": [
       "<tf.Tensor: shape=(2, 3), dtype=float32, numpy=\n",
       "array([[0., 1., 1.],\n",
       "       [0., 1., 1.]], dtype=float32)>"
      ]
     },
     "metadata": {},
     "output_type": "display_data"
    },
    {
     "data": {
      "text/plain": [
       "<tf.Tensor: shape=(4, 3), dtype=float32, numpy=\n",
       "array([[0., 0., 1.],\n",
       "       [1., 1., 1.],\n",
       "       [0., 1., 1.],\n",
       "       [0., 0., 1.]], dtype=float32)>"
      ]
     },
     "metadata": {},
     "output_type": "display_data"
    }
   ],
   "source": [
    "d0 = internal_node_result_complete[0:1,:]\n",
    "display(d0)\n",
    "d1 = internal_node_result_complete[1:3,:]\n",
    "display(d1)\n",
    "d2 = internal_node_result_complete[3:7,:]\n",
    "display(d2)\n"
   ]
  },
  {
   "cell_type": "code",
   "execution_count": 404,
   "id": "eebe89bb-051c-4701-b678-af927eabfd61",
   "metadata": {
    "execution": {
     "iopub.execute_input": "2022-06-10T13:53:23.919863Z",
     "iopub.status.busy": "2022-06-10T13:53:23.919672Z",
     "iopub.status.idle": "2022-06-10T13:53:23.924995Z",
     "shell.execute_reply": "2022-06-10T13:53:23.924650Z",
     "shell.execute_reply.started": "2022-06-10T13:53:23.919842Z"
    },
    "tags": []
   },
   "outputs": [
    {
     "data": {
      "text/plain": [
       "<tf.Tensor: shape=(1, 3), dtype=float32, numpy=array([[0., 0., 0.]], dtype=float32)>"
      ]
     },
     "metadata": {},
     "output_type": "display_data"
    },
    {
     "data": {
      "text/plain": [
       "<tf.Tensor: shape=(1, 3), dtype=float32, numpy=array([[0., 1., 1.]], dtype=float32)>"
      ]
     },
     "metadata": {},
     "output_type": "display_data"
    }
   ],
   "source": [
    "d0l_d1 = d0*tf.split(d1,2)[0]\n",
    "display(d0l_d1)\n",
    "d0r_d1 = (1-d0)*tf.split(d1,2)[1]\n",
    "display(d0r_d1)"
   ]
  },
  {
   "cell_type": "code",
   "execution_count": null,
   "id": "59dc5c8a-cafb-4e7a-b156-771356e130a2",
   "metadata": {},
   "outputs": [],
   "source": [
    "d1l_d2 = d0*tf.split(d1,2)[0]\n",
    "display(d0l_d1)\n",
    "d1r_d2 = (1-d0)*tf.split(d1,2)[1]\n",
    "display(d0r_d1)"
   ]
  },
  {
   "cell_type": "code",
   "execution_count": 406,
   "id": "026b2897-c7aa-47a7-89d2-5187b75cc936",
   "metadata": {
    "execution": {
     "iopub.execute_input": "2022-06-10T13:56:07.035637Z",
     "iopub.status.busy": "2022-06-10T13:56:07.035188Z",
     "iopub.status.idle": "2022-06-10T13:56:07.039491Z",
     "shell.execute_reply": "2022-06-10T13:56:07.039059Z",
     "shell.execute_reply.started": "2022-06-10T13:56:07.035618Z"
    }
   },
   "outputs": [
    {
     "data": {
      "text/plain": [
       "<tf.Tensor: shape=(4, 3), dtype=float32, numpy=\n",
       "array([[0., 0., 1.],\n",
       "       [1., 1., 1.],\n",
       "       [0., 1., 1.],\n",
       "       [0., 0., 1.]], dtype=float32)>"
      ]
     },
     "execution_count": 406,
     "metadata": {},
     "output_type": "execute_result"
    }
   ],
   "source": [
    "d2"
   ]
  },
  {
   "cell_type": "code",
   "execution_count": 413,
   "id": "735e444d-501e-4091-becd-fa6cd073ecfd",
   "metadata": {
    "execution": {
     "iopub.execute_input": "2022-06-10T13:56:54.677805Z",
     "iopub.status.busy": "2022-06-10T13:56:54.677388Z",
     "iopub.status.idle": "2022-06-10T13:56:54.681359Z",
     "shell.execute_reply": "2022-06-10T13:56:54.681001Z",
     "shell.execute_reply.started": "2022-06-10T13:56:54.677787Z"
    }
   },
   "outputs": [
    {
     "data": {
      "text/plain": [
       "<tf.Tensor: shape=(4, 3), dtype=float32, numpy=\n",
       "array([[1., 1., 0.],\n",
       "       [0., 0., 0.],\n",
       "       [1., 0., 0.],\n",
       "       [1., 1., 0.]], dtype=float32)>"
      ]
     },
     "execution_count": 413,
     "metadata": {},
     "output_type": "execute_result"
    }
   ],
   "source": [
    "(1-d2)"
   ]
  },
  {
   "cell_type": "code",
   "execution_count": 429,
   "id": "5c4e6f2c-4321-45d9-82a0-c1a0fbd78aba",
   "metadata": {
    "execution": {
     "iopub.execute_input": "2022-06-10T14:00:00.674500Z",
     "iopub.status.busy": "2022-06-10T14:00:00.674192Z",
     "iopub.status.idle": "2022-06-10T14:00:00.687009Z",
     "shell.execute_reply": "2022-06-10T14:00:00.686049Z",
     "shell.execute_reply.started": "2022-06-10T14:00:00.674458Z"
    }
   },
   "outputs": [
    {
     "data": {
      "text/plain": [
       "<tf.Tensor: shape=(4, 2, 3), dtype=float32, numpy=\n",
       "array([[[0., 0., 1.],\n",
       "        [1., 1., 0.]],\n",
       "\n",
       "       [[1., 1., 1.],\n",
       "        [0., 0., 0.]],\n",
       "\n",
       "       [[0., 1., 1.],\n",
       "        [1., 0., 0.]],\n",
       "\n",
       "       [[0., 0., 1.],\n",
       "        [1., 1., 0.]]], dtype=float32)>"
      ]
     },
     "execution_count": 429,
     "metadata": {},
     "output_type": "execute_result"
    }
   ],
   "source": [
    "tf.stack([d2, (1-d2)], axis=1)"
   ]
  },
  {
   "cell_type": "code",
   "execution_count": 437,
   "id": "8d1e9a4e-0192-45ea-a2d5-cf6446c7c8aa",
   "metadata": {
    "execution": {
     "iopub.execute_input": "2022-06-10T14:01:56.471525Z",
     "iopub.status.busy": "2022-06-10T14:01:56.471331Z",
     "iopub.status.idle": "2022-06-10T14:01:56.474715Z",
     "shell.execute_reply": "2022-06-10T14:01:56.474175Z",
     "shell.execute_reply.started": "2022-06-10T14:01:56.471505Z"
    }
   },
   "outputs": [],
   "source": [
    "depth = 3\n",
    "samples = 3"
   ]
  },
  {
   "cell_type": "code",
   "execution_count": 443,
   "id": "345cb696-c2de-4768-90a0-e84044ab7fb1",
   "metadata": {
    "execution": {
     "iopub.execute_input": "2022-06-10T14:03:14.740290Z",
     "iopub.status.busy": "2022-06-10T14:03:14.740054Z",
     "iopub.status.idle": "2022-06-10T14:03:14.744791Z",
     "shell.execute_reply": "2022-06-10T14:03:14.744421Z",
     "shell.execute_reply.started": "2022-06-10T14:03:14.740272Z"
    },
    "tags": []
   },
   "outputs": [
    {
     "data": {
      "text/plain": [
       "<tf.Tensor: shape=(4, 3), dtype=float32, numpy=\n",
       "array([[0., 1., 1.],\n",
       "       [1., 0., 0.],\n",
       "       [0., 1., 1.],\n",
       "       [1., 0., 0.]], dtype=float32)>"
      ]
     },
     "execution_count": 443,
     "metadata": {},
     "output_type": "execute_result"
    }
   ],
   "source": [
    "d1_combined = tf.reshape(tf.stack([d1, (1-d1)], axis=1), [2**(3-1),samples])\n",
    "d1_combined"
   ]
  },
  {
   "cell_type": "code",
   "execution_count": 442,
   "id": "c2803f93-7203-45d6-ba0b-f5cf64fb10c8",
   "metadata": {
    "execution": {
     "iopub.execute_input": "2022-06-10T14:03:11.267920Z",
     "iopub.status.busy": "2022-06-10T14:03:11.267677Z",
     "iopub.status.idle": "2022-06-10T14:03:11.272799Z",
     "shell.execute_reply": "2022-06-10T14:03:11.272397Z",
     "shell.execute_reply.started": "2022-06-10T14:03:11.267900Z"
    },
    "tags": []
   },
   "outputs": [
    {
     "data": {
      "text/plain": [
       "<tf.Tensor: shape=(8, 3), dtype=float32, numpy=\n",
       "array([[0., 0., 1.],\n",
       "       [1., 1., 0.],\n",
       "       [1., 1., 1.],\n",
       "       [0., 0., 0.],\n",
       "       [0., 1., 1.],\n",
       "       [1., 0., 0.],\n",
       "       [0., 0., 1.],\n",
       "       [1., 1., 0.]], dtype=float32)>"
      ]
     },
     "execution_count": 442,
     "metadata": {},
     "output_type": "execute_result"
    }
   ],
   "source": [
    "d2_combined = tf.reshape(tf.stack([d2, (1-d2)], axis=1), [2**3,samples])\n",
    "d2_combined"
   ]
  },
  {
   "cell_type": "code",
   "execution_count": 480,
   "id": "f22a752d-e8e2-45b7-bb61-1215a4a2db9c",
   "metadata": {
    "execution": {
     "iopub.execute_input": "2022-06-10T14:37:30.884930Z",
     "iopub.status.busy": "2022-06-10T14:37:30.884738Z",
     "iopub.status.idle": "2022-06-10T14:37:30.888569Z",
     "shell.execute_reply": "2022-06-10T14:37:30.888224Z",
     "shell.execute_reply.started": "2022-06-10T14:37:30.884909Z"
    }
   },
   "outputs": [
    {
     "data": {
      "text/plain": [
       "<tf.Tensor: shape=(4, 3), dtype=float32, numpy=\n",
       "array([[0., 1., 1.],\n",
       "       [1., 0., 0.],\n",
       "       [0., 1., 1.],\n",
       "       [1., 0., 0.]], dtype=float32)>"
      ]
     },
     "execution_count": 480,
     "metadata": {},
     "output_type": "execute_result"
    }
   ],
   "source": [
    "d1_combined"
   ]
  },
  {
   "cell_type": "code",
   "execution_count": 494,
   "id": "72aaa356-aaa2-40bc-a971-9fbf17fc21d7",
   "metadata": {
    "execution": {
     "iopub.execute_input": "2022-06-10T14:41:03.604300Z",
     "iopub.status.busy": "2022-06-10T14:41:03.604107Z",
     "iopub.status.idle": "2022-06-10T14:41:03.609384Z",
     "shell.execute_reply": "2022-06-10T14:41:03.609026Z",
     "shell.execute_reply.started": "2022-06-10T14:41:03.604281Z"
    },
    "tags": []
   },
   "outputs": [
    {
     "data": {
      "text/plain": [
       "<tf.Tensor: shape=(8, 3), dtype=float32, numpy=\n",
       "array([[0., 0., 1.],\n",
       "       [0., 1., 0.],\n",
       "       [1., 0., 0.],\n",
       "       [0., 0., 0.],\n",
       "       [0., 1., 1.],\n",
       "       [0., 0., 0.],\n",
       "       [0., 0., 0.],\n",
       "       [1., 0., 0.]], dtype=float32)>"
      ]
     },
     "execution_count": 494,
     "metadata": {},
     "output_type": "execute_result"
    }
   ],
   "source": [
    "d2_d1 = tf.reshape(tf.multiply(tf.split(d1_combined, 4), tf.split(d2_combined, 4)),  [2**3,samples])\n",
    "d2_d1"
   ]
  },
  {
   "cell_type": "code",
   "execution_count": 495,
   "id": "203c56c1-ac84-4774-bdb2-23bbab013a1c",
   "metadata": {
    "execution": {
     "iopub.execute_input": "2022-06-10T14:41:04.566351Z",
     "iopub.status.busy": "2022-06-10T14:41:04.566205Z",
     "iopub.status.idle": "2022-06-10T14:41:04.568568Z",
     "shell.execute_reply": "2022-06-10T14:41:04.568195Z",
     "shell.execute_reply.started": "2022-06-10T14:41:04.566335Z"
    },
    "tags": []
   },
   "outputs": [],
   "source": [
    "#d2_d1 = tf.reshape(d1_combined * tf.split(d2_combined, 2),  [2**3,samples])\n",
    "#d2_d1"
   ]
  },
  {
   "cell_type": "code",
   "execution_count": 496,
   "id": "76d9f4c5-9a95-4725-a80d-49b7edfd95d4",
   "metadata": {
    "execution": {
     "iopub.execute_input": "2022-06-10T14:41:07.752216Z",
     "iopub.status.busy": "2022-06-10T14:41:07.752019Z",
     "iopub.status.idle": "2022-06-10T14:41:07.757917Z",
     "shell.execute_reply": "2022-06-10T14:41:07.757471Z",
     "shell.execute_reply.started": "2022-06-10T14:41:07.752197Z"
    },
    "tags": []
   },
   "outputs": [
    {
     "data": {
      "text/plain": [
       "<tf.Tensor: shape=(2, 3), dtype=float32, numpy=\n",
       "array([[0., 0., 0.],\n",
       "       [1., 1., 1.]], dtype=float32)>"
      ]
     },
     "execution_count": 496,
     "metadata": {},
     "output_type": "execute_result"
    }
   ],
   "source": [
    "d0_combined = tf.reshape(tf.stack([d0, (1-d0)], axis=1), [2**(3-2),samples])\n",
    "d0_combined"
   ]
  },
  {
   "cell_type": "code",
   "execution_count": 497,
   "id": "df23a668-f525-4927-ade6-cd0aa7aecd5f",
   "metadata": {
    "execution": {
     "iopub.execute_input": "2022-06-10T14:41:10.047604Z",
     "iopub.status.busy": "2022-06-10T14:41:10.047362Z",
     "iopub.status.idle": "2022-06-10T14:41:10.054486Z",
     "shell.execute_reply": "2022-06-10T14:41:10.053951Z",
     "shell.execute_reply.started": "2022-06-10T14:41:10.047579Z"
    },
    "tags": []
   },
   "outputs": [
    {
     "data": {
      "text/plain": [
       "<tf.Tensor: shape=(8, 3), dtype=float32, numpy=\n",
       "array([[0., 0., 0.],\n",
       "       [0., 0., 0.],\n",
       "       [0., 0., 0.],\n",
       "       [0., 0., 0.],\n",
       "       [0., 1., 1.],\n",
       "       [0., 0., 0.],\n",
       "       [0., 0., 0.],\n",
       "       [1., 0., 0.]], dtype=float32)>"
      ]
     },
     "execution_count": 497,
     "metadata": {},
     "output_type": "execute_result"
    }
   ],
   "source": [
    "d2_d1_d0 = tf.reshape(tf.multiply(tf.split(d0_combined, 2), tf.split(d2_d1, 2)),  [2**3,samples])\n",
    "d2_d1_d0\n"
   ]
  },
  {
   "cell_type": "code",
   "execution_count": 473,
   "id": "25bb6529-40c9-44a4-9440-a5da37c1ec28",
   "metadata": {
    "execution": {
     "iopub.execute_input": "2022-06-10T14:17:54.798959Z",
     "iopub.status.busy": "2022-06-10T14:17:54.798539Z",
     "iopub.status.idle": "2022-06-10T14:17:54.803226Z",
     "shell.execute_reply": "2022-06-10T14:17:54.802849Z",
     "shell.execute_reply.started": "2022-06-10T14:17:54.798939Z"
    },
    "tags": []
   },
   "outputs": [
    {
     "data": {
      "text/plain": [
       "<tf.Tensor: shape=(8, 3), dtype=float32, numpy=\n",
       "array([[0., 0., 0.],\n",
       "       [1., 0., 0.],\n",
       "       [0., 0., 0.],\n",
       "       [0., 0., 0.],\n",
       "       [0., 0., 0.],\n",
       "       [1., 0., 0.],\n",
       "       [0., 0., 0.],\n",
       "       [1., 0., 0.]], dtype=float32)>"
      ]
     },
     "execution_count": 473,
     "metadata": {},
     "output_type": "execute_result"
    }
   ],
   "source": [
    "d2_d1_d0 = tf.reshape(d0_combined * tf.split(d2_d1, 4),  [2**3,samples])\n",
    "d2_d1_d0\n"
   ]
  },
  {
   "cell_type": "code",
   "execution_count": 450,
   "id": "0861239f-31da-42b9-aab2-f287107eca84",
   "metadata": {
    "execution": {
     "iopub.execute_input": "2022-06-10T14:08:42.881065Z",
     "iopub.status.busy": "2022-06-10T14:08:42.880590Z",
     "iopub.status.idle": "2022-06-10T14:08:42.884778Z",
     "shell.execute_reply": "2022-06-10T14:08:42.884382Z",
     "shell.execute_reply.started": "2022-06-10T14:08:42.881042Z"
    }
   },
   "outputs": [
    {
     "data": {
      "text/plain": [
       "<tf.Tensor: shape=(7, 3), dtype=float32, numpy=\n",
       "array([[0., 0., 0.],\n",
       "       [0., 1., 1.],\n",
       "       [0., 1., 1.],\n",
       "       [0., 0., 1.],\n",
       "       [1., 1., 1.],\n",
       "       [0., 1., 1.],\n",
       "       [0., 0., 1.]], dtype=float32)>"
      ]
     },
     "execution_count": 450,
     "metadata": {},
     "output_type": "execute_result"
    }
   ],
   "source": [
    "internal_node_result_complete"
   ]
  },
  {
   "cell_type": "code",
   "execution_count": 452,
   "id": "d0968721-d556-470c-bdb5-ca82826f4441",
   "metadata": {
    "execution": {
     "iopub.execute_input": "2022-06-10T14:09:19.046243Z",
     "iopub.status.busy": "2022-06-10T14:09:19.046062Z",
     "iopub.status.idle": "2022-06-10T14:09:19.049851Z",
     "shell.execute_reply": "2022-06-10T14:09:19.049473Z",
     "shell.execute_reply.started": "2022-06-10T14:09:19.046225Z"
    }
   },
   "outputs": [
    {
     "data": {
      "text/plain": [
       "[2, 3]"
      ]
     },
     "execution_count": 452,
     "metadata": {},
     "output_type": "execute_result"
    }
   ],
   "source": [
    "[2**layer_idx,samples]"
   ]
  },
  {
   "cell_type": "code",
   "execution_count": 453,
   "id": "d1659f67-13b2-4db2-9464-7c4a3a706751",
   "metadata": {
    "execution": {
     "iopub.execute_input": "2022-06-10T14:09:47.154824Z",
     "iopub.status.busy": "2022-06-10T14:09:47.154536Z",
     "iopub.status.idle": "2022-06-10T14:09:47.158776Z",
     "shell.execute_reply": "2022-06-10T14:09:47.158359Z",
     "shell.execute_reply.started": "2022-06-10T14:09:47.154803Z"
    }
   },
   "outputs": [
    {
     "data": {
      "text/plain": [
       "<tf.Tensor: shape=(2, 3), dtype=float32, numpy=\n",
       "array([[0., 1., 1.],\n",
       "       [0., 1., 1.]], dtype=float32)>"
      ]
     },
     "execution_count": 453,
     "metadata": {},
     "output_type": "execute_result"
    }
   ],
   "source": [
    "layer_result"
   ]
  },
  {
   "cell_type": "code",
   "execution_count": 454,
   "id": "9aafbb3b-0e19-4393-9c7d-7e21fc6005fc",
   "metadata": {
    "execution": {
     "iopub.execute_input": "2022-06-10T14:09:53.847988Z",
     "iopub.status.busy": "2022-06-10T14:09:53.847761Z",
     "iopub.status.idle": "2022-06-10T14:09:53.852543Z",
     "shell.execute_reply": "2022-06-10T14:09:53.852147Z",
     "shell.execute_reply.started": "2022-06-10T14:09:53.847962Z"
    }
   },
   "outputs": [
    {
     "data": {
      "text/plain": [
       "<tf.Tensor: shape=(2, 2, 3), dtype=float32, numpy=\n",
       "array([[[0., 1., 1.],\n",
       "        [1., 0., 0.]],\n",
       "\n",
       "       [[0., 1., 1.],\n",
       "        [1., 0., 0.]]], dtype=float32)>"
      ]
     },
     "execution_count": 454,
     "metadata": {},
     "output_type": "execute_result"
    }
   ],
   "source": [
    "tf.stack([layer_result, (1-layer_result)], axis=1)"
   ]
  },
  {
   "cell_type": "code",
   "execution_count": 456,
   "id": "5f6d70b4-a2af-4d0d-9580-46d30129450b",
   "metadata": {
    "execution": {
     "iopub.execute_input": "2022-06-10T14:10:40.229980Z",
     "iopub.status.busy": "2022-06-10T14:10:40.229798Z",
     "iopub.status.idle": "2022-06-10T14:10:40.233921Z",
     "shell.execute_reply": "2022-06-10T14:10:40.233438Z",
     "shell.execute_reply.started": "2022-06-10T14:10:40.229960Z"
    }
   },
   "outputs": [
    {
     "data": {
      "text/plain": [
       "<tf.Tensor: shape=(2, 2, 3), dtype=float32, numpy=\n",
       "array([[[0., 1., 1.],\n",
       "        [1., 0., 0.]],\n",
       "\n",
       "       [[0., 1., 1.],\n",
       "        [1., 0., 0.]]], dtype=float32)>"
      ]
     },
     "execution_count": 456,
     "metadata": {},
     "output_type": "execute_result"
    }
   ],
   "source": [
    "layer_result_combined"
   ]
  },
  {
   "cell_type": "code",
   "execution_count": 462,
   "id": "abc6ac6c-801b-4585-bff5-b50fbafe8335",
   "metadata": {
    "execution": {
     "iopub.execute_input": "2022-06-10T14:12:49.596595Z",
     "iopub.status.busy": "2022-06-10T14:12:49.596343Z",
     "iopub.status.idle": "2022-06-10T14:12:49.600430Z",
     "shell.execute_reply": "2022-06-10T14:12:49.600065Z",
     "shell.execute_reply.started": "2022-06-10T14:12:49.596576Z"
    }
   },
   "outputs": [
    {
     "data": {
      "text/plain": [
       "<tf.Tensor: shape=(0, 3), dtype=float32, numpy=array([], shape=(0, 3), dtype=float32)>"
      ]
     },
     "execution_count": 462,
     "metadata": {},
     "output_type": "execute_result"
    }
   ],
   "source": [
    "internal_node_result_complete[0:end_idx,:]"
   ]
  },
  {
   "cell_type": "code",
   "execution_count": 463,
   "id": "e769e62b-2811-4f43-b765-ea29696d4e67",
   "metadata": {
    "execution": {
     "iopub.execute_input": "2022-06-10T14:12:59.398995Z",
     "iopub.status.busy": "2022-06-10T14:12:59.398804Z",
     "iopub.status.idle": "2022-06-10T14:12:59.404270Z",
     "shell.execute_reply": "2022-06-10T14:12:59.403884Z",
     "shell.execute_reply.started": "2022-06-10T14:12:59.398973Z"
    },
    "tags": []
   },
   "outputs": [
    {
     "data": {
      "text/plain": [
       "<tf.Tensor: shape=(2, 3), dtype=float32, numpy=\n",
       "array([[0., 0., 0.],\n",
       "       [1., 1., 1.]], dtype=float32)>"
      ]
     },
     "execution_count": 463,
     "metadata": {},
     "output_type": "execute_result"
    }
   ],
   "source": [
    "tf.reshape(tf.stack([internal_node_result_complete[0:1,:], (1-internal_node_result_complete[0:1,:])], axis=1), [2**1, samples])\n"
   ]
  },
  {
   "cell_type": "markdown",
   "id": "45f44e8b-31b7-4036-bebc-8a4ddd9375ee",
   "metadata": {},
   "source": [
    "# WORKING HERE"
   ]
  },
  {
   "cell_type": "code",
   "execution_count": null,
   "id": "f3bf8ddd-1a8d-403d-a62d-aaa9e30db022",
   "metadata": {},
   "outputs": [],
   "source": [
    "split_values = tf.Variable(tf.keras.initializers.get({'class_name': 'RandomNormal', 'config': {'seed': 42}})(shape=(7, 5)),\n",
    "                          trainable=True,\n",
    "                          name='split_values')\n",
    "split_values\n",
    "\n",
    "split_index = tf.Variable(tf.keras.initializers.get({'class_name': 'RandomNormal', 'config': {'seed': 42}})(shape=(7, 5)),\n",
    "                          trainable=True,\n",
    "                          name='split_values')\n",
    "split_index = tfa.seq2seq.hardmax(split_index)\n",
    "split_index"
   ]
  },
  {
   "cell_type": "code",
   "execution_count": null,
   "id": "db84fb73-7b88-4450-8256-8d4aae8a1be2",
   "metadata": {},
   "outputs": [],
   "source": [
    "entry = tf.constant([[0.1,0.2,0.3,0.4,0.5], [0.9,0.2,0.9,0.4,0.5], [0.9,0.9,0.5,0.4,0.5]])"
   ]
  },
  {
   "cell_type": "code",
   "execution_count": 507,
   "id": "b2014ed7-2015-472a-ba54-86bc468e981e",
   "metadata": {
    "execution": {
     "iopub.execute_input": "2022-06-10T14:43:56.183819Z",
     "iopub.status.busy": "2022-06-10T14:43:56.183636Z",
     "iopub.status.idle": "2022-06-10T14:43:56.195774Z",
     "shell.execute_reply": "2022-06-10T14:43:56.195402Z",
     "shell.execute_reply.started": "2022-06-10T14:43:56.183801Z"
    },
    "tags": []
   },
   "outputs": [
    {
     "data": {
      "text/plain": [
       "<tf.Tensor: shape=(7, 3), dtype=float32, numpy=\n",
       "array([[0., 0., 0.],\n",
       "       [0., 1., 1.],\n",
       "       [0., 1., 1.],\n",
       "       [0., 0., 1.],\n",
       "       [1., 1., 1.],\n",
       "       [0., 1., 1.],\n",
       "       [0., 0., 1.]], dtype=float32)>"
      ]
     },
     "metadata": {},
     "output_type": "display_data"
    },
    {
     "name": "stdout",
     "output_type": "stream",
     "text": [
      "___________________\n",
      "tf.Tensor(\n",
      "[[0. 0. 0.]\n",
      " [1. 1. 1.]], shape=(2, 3), dtype=float32)\n",
      "___________________\n",
      "layer_idx 1\n",
      "path_results_complete tf.Tensor(\n",
      "[[0. 0. 0.]\n",
      " [0. 0. 0.]\n",
      " [0. 1. 1.]\n",
      " [1. 0. 0.]], shape=(4, 3), dtype=float32)\n",
      "___________________\n",
      "layer_idx 2\n",
      "path_results_complete tf.Tensor(\n",
      "[[0. 0. 0.]\n",
      " [0. 0. 0.]\n",
      " [0. 0. 0.]\n",
      " [0. 0. 0.]\n",
      " [0. 1. 1.]\n",
      " [0. 0. 0.]\n",
      " [0. 0. 0.]\n",
      " [1. 0. 0.]], shape=(8, 3), dtype=float32)\n",
      "___________________\n"
     ]
    }
   ],
   "source": [
    "#internal_node_result_complete = tf.transpose(tf.round(tf.sigmoid(tf.reduce_sum(tf.expand_dims(split_index, 1)*entry, axis=2) - tf.expand_dims(tf.reduce_sum(split_values*split_index, axis=1), 1) - 0.5)))\n",
    "internal_node_result_complete = tf.round(tf.sigmoid(tf.reduce_sum(tf.expand_dims(split_index, 1)*entry, axis=2) - tf.expand_dims(tf.reduce_sum(split_values*split_index, axis=1), 1) - 0.5))\n",
    "\n",
    "\n",
    "display(internal_node_result_complete)\n",
    "\n",
    "paths = [[0,1,3], [0,1,4], [0,2,5], [0,2,6]]\n",
    "\n",
    "begin_idx = 0\n",
    "end_idx = 1\n",
    "\n",
    "#path_results_complete_layer_laeft = 1\n",
    "#path_results_complete_layer_right = 1\n",
    "\n",
    "layer_result = internal_node_result_complete[begin_idx:end_idx,:]\n",
    "\n",
    "layer_result_combined = tf.reshape(tf.stack([layer_result, (1-layer_result)], axis=1), [2**1, samples])\n",
    "\n",
    "path_results_complete = layer_result_combined\n",
    "\n",
    "begin_idx = end_idx\n",
    "end_idx = begin_idx + 2 ** (0 + 1)\n",
    "\n",
    "print('___________________')\n",
    "print(path_results_complete)\n",
    "print('___________________')\n",
    "for layer_idx in range(1, 3):\n",
    "    print('layer_idx', layer_idx)\n",
    "    layer_result = internal_node_result_complete[begin_idx:end_idx,:]\n",
    "    \n",
    "    layer_result_combined = tf.stack([layer_result, (1-layer_result)], axis=1)\n",
    "    layer_result_combined = tf.reshape(layer_result_combined, [2**(layer_idx+1),samples])\n",
    "    \n",
    "    path_results_complete = tf.reshape(tf.multiply(tf.split(path_results_complete, 2**(layer_idx)), tf.split(layer_result_combined, 2**(layer_idx))),  [2**(layer_idx+1),samples])\n",
    "    \n",
    "    begin_idx = end_idx\n",
    "    end_idx = begin_idx + 2 ** (layer_idx + 1)\n",
    "    \n",
    "    print('path_results_complete', path_results_complete)\n",
    "    print('___________________')\n",
    "    "
   ]
  },
  {
   "cell_type": "code",
   "execution_count": 510,
   "id": "52a036df-7ddd-4920-8afd-f319787420ed",
   "metadata": {
    "execution": {
     "iopub.execute_input": "2022-06-10T14:50:46.509884Z",
     "iopub.status.busy": "2022-06-10T14:50:46.509710Z",
     "iopub.status.idle": "2022-06-10T14:50:46.515202Z",
     "shell.execute_reply": "2022-06-10T14:50:46.514847Z",
     "shell.execute_reply.started": "2022-06-10T14:50:46.509868Z"
    },
    "tags": []
   },
   "outputs": [
    {
     "data": {
      "text/plain": [
       "<tf.Variable 'leaf_classes_array:0' shape=(8,) dtype=float32, numpy=\n",
       "array([ 0.03001893, -0.01201599, -0.0346938 , -0.04343851,  0.01601556,\n",
       "        0.02921749,  0.03235624, -0.00659348], dtype=float32)>"
      ]
     },
     "execution_count": 510,
     "metadata": {},
     "output_type": "execute_result"
    }
   ],
   "source": [
    "leaf_classes_array = tf.Variable(tf.keras.initializers.get({'class_name': 'RandomUniform', 'config': {'seed': 42}})(shape=(8,)),\n",
    "                                      trainable=True,\n",
    "                                      name='leaf_classes_array')\n",
    "leaf_classes_array"
   ]
  },
  {
   "cell_type": "code",
   "execution_count": 513,
   "id": "393a1f8c-f329-4187-90a2-b187182ed629",
   "metadata": {
    "execution": {
     "iopub.execute_input": "2022-06-10T14:51:11.737000Z",
     "iopub.status.busy": "2022-06-10T14:51:11.736790Z",
     "iopub.status.idle": "2022-06-10T14:51:11.741100Z",
     "shell.execute_reply": "2022-06-10T14:51:11.740697Z",
     "shell.execute_reply.started": "2022-06-10T14:51:11.736977Z"
    },
    "tags": []
   },
   "outputs": [
    {
     "data": {
      "text/plain": [
       "<tf.Tensor: shape=(8, 3), dtype=float32, numpy=\n",
       "array([[0., 0., 0.],\n",
       "       [0., 0., 0.],\n",
       "       [0., 0., 0.],\n",
       "       [0., 0., 0.],\n",
       "       [0., 1., 1.],\n",
       "       [0., 0., 0.],\n",
       "       [0., 0., 0.],\n",
       "       [1., 0., 0.]], dtype=float32)>"
      ]
     },
     "execution_count": 513,
     "metadata": {},
     "output_type": "execute_result"
    }
   ],
   "source": [
    "path_results_complete"
   ]
  },
  {
   "cell_type": "code",
   "execution_count": 521,
   "id": "f07003ff-343e-4b63-9678-46499ffba451",
   "metadata": {
    "execution": {
     "iopub.execute_input": "2022-06-10T16:12:44.543209Z",
     "iopub.status.busy": "2022-06-10T16:12:44.543021Z",
     "iopub.status.idle": "2022-06-10T16:12:44.547708Z",
     "shell.execute_reply": "2022-06-10T16:12:44.547359Z",
     "shell.execute_reply.started": "2022-06-10T16:12:44.543189Z"
    },
    "tags": []
   },
   "outputs": [
    {
     "data": {
      "text/plain": [
       "<tf.Tensor: shape=(3,), dtype=float32, numpy=array([-0.00659348,  0.01601556,  0.01601556], dtype=float32)>"
      ]
     },
     "execution_count": 521,
     "metadata": {},
     "output_type": "execute_result"
    }
   ],
   "source": [
    "tf.reduce_sum(tf.transpose(path_results_complete)*leaf_classes_array, axis=1)"
   ]
  },
  {
   "cell_type": "code",
   "execution_count": 519,
   "id": "97fb8b02-4177-4117-8115-3f5174dba6dd",
   "metadata": {
    "execution": {
     "iopub.execute_input": "2022-06-10T14:52:11.823055Z",
     "iopub.status.busy": "2022-06-10T14:52:11.822750Z",
     "iopub.status.idle": "2022-06-10T14:52:11.827648Z",
     "shell.execute_reply": "2022-06-10T14:52:11.827288Z",
     "shell.execute_reply.started": "2022-06-10T14:52:11.823032Z"
    },
    "tags": []
   },
   "outputs": [
    {
     "data": {
      "text/plain": [
       "<tf.Tensor: shape=(3,), dtype=float32, numpy=array([-0.00659348,  0.01601556,  0.01601556], dtype=float32)>"
      ]
     },
     "execution_count": 519,
     "metadata": {},
     "output_type": "execute_result"
    }
   ],
   "source": [
    "tf.reduce_sum(path_results_complete*tf.expand_dims(leaf_classes_array, 1), axis=0)"
   ]
  },
  {
   "cell_type": "code",
   "execution_count": 418,
   "id": "ccce1811-f1f1-4ac6-90b2-7dedd0863309",
   "metadata": {
    "execution": {
     "iopub.execute_input": "2022-06-10T13:57:48.847787Z",
     "iopub.status.busy": "2022-06-10T13:57:48.847593Z",
     "iopub.status.idle": "2022-06-10T13:57:48.851942Z",
     "shell.execute_reply": "2022-06-10T13:57:48.851610Z",
     "shell.execute_reply.started": "2022-06-10T13:57:48.847767Z"
    },
    "tags": []
   },
   "outputs": [
    {
     "data": {
      "text/plain": [
       "<tf.Tensor: shape=(4, 4, 3), dtype=float32, numpy=\n",
       "array([[[0., 0., 0.],\n",
       "        [0., 0., 0.],\n",
       "        [0., 0., 0.],\n",
       "        [0., 0., 0.]],\n",
       "\n",
       "       [[1., 1., 0.],\n",
       "        [0., 0., 0.],\n",
       "        [1., 0., 0.],\n",
       "        [1., 1., 0.]],\n",
       "\n",
       "       [[0., 1., 0.],\n",
       "        [0., 0., 0.],\n",
       "        [0., 0., 0.],\n",
       "        [0., 1., 0.]],\n",
       "\n",
       "       [[0., 0., 0.],\n",
       "        [0., 0., 0.],\n",
       "        [0., 0., 0.],\n",
       "        [0., 0., 0.]]], dtype=float32)>"
      ]
     },
     "execution_count": 418,
     "metadata": {},
     "output_type": "execute_result"
    }
   ],
   "source": [
    "tf.multiply(tf.expand_dims(d2, 1), (1-d2))"
   ]
  },
  {
   "cell_type": "code",
   "execution_count": null,
   "id": "36ee2a34-0d2a-4d7d-bd11-c4661cf571d1",
   "metadata": {},
   "outputs": [],
   "source": []
  },
  {
   "cell_type": "code",
   "execution_count": 395,
   "id": "d65e677f-8801-4a1a-9693-56797b040f18",
   "metadata": {
    "execution": {
     "iopub.execute_input": "2022-06-10T13:50:02.595327Z",
     "iopub.status.busy": "2022-06-10T13:50:02.594535Z",
     "iopub.status.idle": "2022-06-10T13:50:02.599208Z",
     "shell.execute_reply": "2022-06-10T13:50:02.598831Z",
     "shell.execute_reply.started": "2022-06-10T13:50:02.595283Z"
    },
    "tags": []
   },
   "outputs": [
    {
     "data": {
      "text/plain": [
       "<tf.Tensor: shape=(7, 3), dtype=float32, numpy=\n",
       "array([[0., 0., 0.],\n",
       "       [0., 1., 1.],\n",
       "       [0., 1., 1.],\n",
       "       [0., 0., 1.],\n",
       "       [1., 1., 1.],\n",
       "       [0., 1., 1.],\n",
       "       [0., 0., 1.]], dtype=float32)>"
      ]
     },
     "execution_count": 395,
     "metadata": {},
     "output_type": "execute_result"
    }
   ],
   "source": [
    "internal_node_result_complete"
   ]
  },
  {
   "cell_type": "code",
   "execution_count": 400,
   "id": "749a32c0-631a-4a55-b479-8ac47c7586c6",
   "metadata": {
    "execution": {
     "iopub.execute_input": "2022-06-10T13:51:07.950277Z",
     "iopub.status.busy": "2022-06-10T13:51:07.950095Z",
     "iopub.status.idle": "2022-06-10T13:51:07.968198Z",
     "shell.execute_reply": "2022-06-10T13:51:07.967742Z",
     "shell.execute_reply.started": "2022-06-10T13:51:07.950259Z"
    }
   },
   "outputs": [
    {
     "ename": "TypeError",
     "evalue": "range() takes no keyword arguments",
     "output_type": "error",
     "traceback": [
      "\u001b[0;31m---------------------------------------------------------------------------\u001b[0m",
      "\u001b[0;31mTypeError\u001b[0m                                 Traceback (most recent call last)",
      "\u001b[0;32m/tmp/ipykernel_2590706/672499890.py\u001b[0m in \u001b[0;36m<module>\u001b[0;34m\u001b[0m\n\u001b[0;32m----> 1\u001b[0;31m \u001b[0mrange\u001b[0m\u001b[0;34m(\u001b[0m\u001b[0;36m0\u001b[0m\u001b[0;34m,\u001b[0m \u001b[0;36m3\u001b[0m\u001b[0;34m,\u001b[0m \u001b[0mreverse\u001b[0m\u001b[0;34m=\u001b[0m\u001b[0;32mTrue\u001b[0m\u001b[0;34m)\u001b[0m\u001b[0;34m\u001b[0m\u001b[0;34m\u001b[0m\u001b[0m\n\u001b[0m",
      "\u001b[0;31mTypeError\u001b[0m: range() takes no keyword arguments"
     ]
    }
   ],
   "source": [
    "range(0, 3)"
   ]
  },
  {
   "cell_type": "code",
   "execution_count": 394,
   "id": "fecba2e1-125c-49b7-a91e-92c85dbb4bc9",
   "metadata": {
    "execution": {
     "iopub.execute_input": "2022-06-10T13:50:00.560300Z",
     "iopub.status.busy": "2022-06-10T13:50:00.559978Z",
     "iopub.status.idle": "2022-06-10T13:50:00.569736Z",
     "shell.execute_reply": "2022-06-10T13:50:00.569284Z",
     "shell.execute_reply.started": "2022-06-10T13:50:00.560281Z"
    },
    "tags": []
   },
   "outputs": [
    {
     "data": {
      "text/plain": [
       "<tf.Tensor: shape=(7, 3), dtype=float32, numpy=\n",
       "array([[0., 0., 0.],\n",
       "       [0., 1., 1.],\n",
       "       [0., 1., 1.],\n",
       "       [0., 0., 1.],\n",
       "       [1., 1., 1.],\n",
       "       [0., 1., 1.],\n",
       "       [0., 0., 1.]], dtype=float32)>"
      ]
     },
     "metadata": {},
     "output_type": "display_data"
    },
    {
     "name": "stdout",
     "output_type": "stream",
     "text": [
      "___________________\n",
      "tf.Tensor(\n",
      "[[0.]\n",
      " [0.]\n",
      " [0.]], shape=(3, 1), dtype=float32)\n",
      "___________________\n",
      "path_results_complete tf.Tensor(\n",
      "[[0.]\n",
      " [0.]\n",
      " [0.]], shape=(3, 1), dtype=float32)\n",
      "___________________\n",
      "path_results_complete tf.Tensor(\n",
      "[[0.]\n",
      " [0.]\n",
      " [0.]], shape=(3, 1), dtype=float32)\n",
      "___________________\n",
      "path_results_complete tf.Tensor(\n",
      "[[0.]\n",
      " [0.]\n",
      " [0.]], shape=(3, 1), dtype=float32)\n",
      "___________________\n"
     ]
    }
   ],
   "source": [
    "#internal_node_result_complete = tf.transpose(tf.round(tf.sigmoid(tf.reduce_sum(tf.expand_dims(split_index, 1)*entry, axis=2) - tf.expand_dims(tf.reduce_sum(split_values*split_index, axis=1), 1) - 0.5)))\n",
    "internal_node_result_complete = tf.round(tf.sigmoid(tf.reduce_sum(tf.expand_dims(split_index, 1)*entry, axis=2) - tf.expand_dims(tf.reduce_sum(split_values*split_index, axis=1), 1) - 0.5))\n",
    "\n",
    "\n",
    "display(internal_node_result_complete)\n",
    "\n",
    "paths = [[0,1,3], [0,1,4], [0,2,5], [0,2,6]]\n",
    "\n",
    "begin_idx = 0\n",
    "end_idx = 1\n",
    "\n",
    "#path_results_complete_layer_laeft = 1\n",
    "#path_results_complete_layer_right = 1\n",
    "\n",
    "print('___________________')\n",
    "print(path_results_complete)\n",
    "print('___________________')\n",
    "for layer_idx in range(0, 3):\n",
    "    \n",
    "    internal_node_result_complete[begin_idx:end_idx,:]\n",
    "    \n",
    "    \n",
    "    begin_idx = end_idx\n",
    "    end_idx = begin_idx + 2 ** (layer_idx + 1)\n",
    "    \n",
    "    print('path_results_complete', path_results_complete)\n",
    "    print('___________________')\n",
    "    "
   ]
  },
  {
   "cell_type": "code",
   "execution_count": null,
   "id": "3dc0c7f2-5cbb-43be-9a14-b993404a3114",
   "metadata": {},
   "outputs": [],
   "source": [
    "d0 "
   ]
  },
  {
   "cell_type": "code",
   "execution_count": null,
   "id": "c35b1a37-c131-4b81-b03c-446fd0c9a8bc",
   "metadata": {},
   "outputs": [],
   "source": []
  },
  {
   "cell_type": "code",
   "execution_count": null,
   "id": "50584fe0-3f5d-4f8f-bf7f-cabbde377150",
   "metadata": {},
   "outputs": [],
   "source": [
    " =aaa"
   ]
  },
  {
   "cell_type": "code",
   "execution_count": 358,
   "id": "e28f038e-9a52-4f91-8877-1d99b039d8ac",
   "metadata": {
    "execution": {
     "iopub.execute_input": "2022-06-10T13:32:45.401038Z",
     "iopub.status.busy": "2022-06-10T13:32:45.400724Z",
     "iopub.status.idle": "2022-06-10T13:32:45.406074Z",
     "shell.execute_reply": "2022-06-10T13:32:45.405693Z",
     "shell.execute_reply.started": "2022-06-10T13:32:45.401018Z"
    }
   },
   "outputs": [
    {
     "data": {
      "text/plain": [
       "<tf.Tensor: shape=(3, 4), dtype=float32, numpy=\n",
       "array([[0., 1., 0., 0.],\n",
       "       [0., 1., 1., 0.],\n",
       "       [1., 1., 1., 1.]], dtype=float32)>"
      ]
     },
     "execution_count": 358,
     "metadata": {},
     "output_type": "execute_result"
    }
   ],
   "source": [
    "internal_node_result_complete[:,3:7]"
   ]
  },
  {
   "cell_type": "code",
   "execution_count": 357,
   "id": "295d0746-6bae-4daa-8136-6130051aede6",
   "metadata": {
    "execution": {
     "iopub.execute_input": "2022-06-10T13:32:40.958398Z",
     "iopub.status.busy": "2022-06-10T13:32:40.958033Z",
     "iopub.status.idle": "2022-06-10T13:32:40.970479Z",
     "shell.execute_reply": "2022-06-10T13:32:40.970007Z",
     "shell.execute_reply.started": "2022-06-10T13:32:40.958380Z"
    },
    "tags": []
   },
   "outputs": [
    {
     "ename": "InvalidArgumentError",
     "evalue": "Incompatible shapes: [3,2] vs. [3,4] [Op:Mul]",
     "output_type": "error",
     "traceback": [
      "\u001b[0;31m---------------------------------------------------------------------------\u001b[0m",
      "\u001b[0;31mInvalidArgumentError\u001b[0m                      Traceback (most recent call last)",
      "\u001b[0;32m/tmp/ipykernel_2590706/3495949849.py\u001b[0m in \u001b[0;36m<module>\u001b[0;34m\u001b[0m\n\u001b[0;32m----> 1\u001b[0;31m \u001b[0ml1\u001b[0m\u001b[0;34m*\u001b[0m\u001b[0minternal_node_result_complete\u001b[0m\u001b[0;34m[\u001b[0m\u001b[0;34m:\u001b[0m\u001b[0;34m,\u001b[0m\u001b[0;36m3\u001b[0m\u001b[0;34m:\u001b[0m\u001b[0;36m7\u001b[0m\u001b[0;34m]\u001b[0m\u001b[0;34m\u001b[0m\u001b[0;34m\u001b[0m\u001b[0m\n\u001b[0m",
      "\u001b[0;32m~/anaconda3/envs/XAI/lib/python3.8/site-packages/tensorflow/python/util/traceback_utils.py\u001b[0m in \u001b[0;36merror_handler\u001b[0;34m(*args, **kwargs)\u001b[0m\n\u001b[1;32m    151\u001b[0m     \u001b[0;32mexcept\u001b[0m \u001b[0mException\u001b[0m \u001b[0;32mas\u001b[0m \u001b[0me\u001b[0m\u001b[0;34m:\u001b[0m\u001b[0;34m\u001b[0m\u001b[0;34m\u001b[0m\u001b[0m\n\u001b[1;32m    152\u001b[0m       \u001b[0mfiltered_tb\u001b[0m \u001b[0;34m=\u001b[0m \u001b[0m_process_traceback_frames\u001b[0m\u001b[0;34m(\u001b[0m\u001b[0me\u001b[0m\u001b[0;34m.\u001b[0m\u001b[0m__traceback__\u001b[0m\u001b[0;34m)\u001b[0m\u001b[0;34m\u001b[0m\u001b[0;34m\u001b[0m\u001b[0m\n\u001b[0;32m--> 153\u001b[0;31m       \u001b[0;32mraise\u001b[0m \u001b[0me\u001b[0m\u001b[0;34m.\u001b[0m\u001b[0mwith_traceback\u001b[0m\u001b[0;34m(\u001b[0m\u001b[0mfiltered_tb\u001b[0m\u001b[0;34m)\u001b[0m \u001b[0;32mfrom\u001b[0m \u001b[0;32mNone\u001b[0m\u001b[0;34m\u001b[0m\u001b[0;34m\u001b[0m\u001b[0m\n\u001b[0m\u001b[1;32m    154\u001b[0m     \u001b[0;32mfinally\u001b[0m\u001b[0;34m:\u001b[0m\u001b[0;34m\u001b[0m\u001b[0;34m\u001b[0m\u001b[0m\n\u001b[1;32m    155\u001b[0m       \u001b[0;32mdel\u001b[0m \u001b[0mfiltered_tb\u001b[0m\u001b[0;34m\u001b[0m\u001b[0;34m\u001b[0m\u001b[0m\n",
      "\u001b[0;32m~/anaconda3/envs/XAI/lib/python3.8/site-packages/tensorflow/python/framework/ops.py\u001b[0m in \u001b[0;36mraise_from_not_ok_status\u001b[0;34m(e, name)\u001b[0m\n\u001b[1;32m   7162\u001b[0m \u001b[0;32mdef\u001b[0m \u001b[0mraise_from_not_ok_status\u001b[0m\u001b[0;34m(\u001b[0m\u001b[0me\u001b[0m\u001b[0;34m,\u001b[0m \u001b[0mname\u001b[0m\u001b[0;34m)\u001b[0m\u001b[0;34m:\u001b[0m\u001b[0;34m\u001b[0m\u001b[0;34m\u001b[0m\u001b[0m\n\u001b[1;32m   7163\u001b[0m   \u001b[0me\u001b[0m\u001b[0;34m.\u001b[0m\u001b[0mmessage\u001b[0m \u001b[0;34m+=\u001b[0m \u001b[0;34m(\u001b[0m\u001b[0;34m\" name: \"\u001b[0m \u001b[0;34m+\u001b[0m \u001b[0mname\u001b[0m \u001b[0;32mif\u001b[0m \u001b[0mname\u001b[0m \u001b[0;32mis\u001b[0m \u001b[0;32mnot\u001b[0m \u001b[0;32mNone\u001b[0m \u001b[0;32melse\u001b[0m \u001b[0;34m\"\"\u001b[0m\u001b[0;34m)\u001b[0m\u001b[0;34m\u001b[0m\u001b[0;34m\u001b[0m\u001b[0m\n\u001b[0;32m-> 7164\u001b[0;31m   \u001b[0;32mraise\u001b[0m \u001b[0mcore\u001b[0m\u001b[0;34m.\u001b[0m\u001b[0m_status_to_exception\u001b[0m\u001b[0;34m(\u001b[0m\u001b[0me\u001b[0m\u001b[0;34m)\u001b[0m \u001b[0;32mfrom\u001b[0m \u001b[0;32mNone\u001b[0m  \u001b[0;31m# pylint: disable=protected-access\u001b[0m\u001b[0;34m\u001b[0m\u001b[0;34m\u001b[0m\u001b[0m\n\u001b[0m\u001b[1;32m   7165\u001b[0m \u001b[0;34m\u001b[0m\u001b[0m\n\u001b[1;32m   7166\u001b[0m \u001b[0;34m\u001b[0m\u001b[0m\n",
      "\u001b[0;31mInvalidArgumentError\u001b[0m: Incompatible shapes: [3,2] vs. [3,4] [Op:Mul]"
     ]
    }
   ],
   "source": [
    "l1*internal_node_result_complete[:,3:7]"
   ]
  },
  {
   "cell_type": "code",
   "execution_count": 344,
   "id": "040dacc6-2e37-4a4d-859f-6670814d2c8e",
   "metadata": {
    "execution": {
     "iopub.execute_input": "2022-06-10T13:27:03.870597Z",
     "iopub.status.busy": "2022-06-10T13:27:03.870224Z",
     "iopub.status.idle": "2022-06-10T13:27:03.882534Z",
     "shell.execute_reply": "2022-06-10T13:27:03.882087Z",
     "shell.execute_reply.started": "2022-06-10T13:27:03.870570Z"
    }
   },
   "outputs": [
    {
     "data": {
      "text/plain": [
       "<tf.Tensor: shape=(3, 7), dtype=float32, numpy=\n",
       "array([[0., 0., 0., 0., 1., 0., 0.],\n",
       "       [0., 1., 1., 0., 1., 1., 0.],\n",
       "       [0., 1., 1., 1., 1., 1., 1.]], dtype=float32)>"
      ]
     },
     "metadata": {},
     "output_type": "display_data"
    },
    {
     "name": "stdout",
     "output_type": "stream",
     "text": [
      "___________________\n",
      "tf.Tensor(\n",
      "[[0.]\n",
      " [0.]\n",
      " [0.]], shape=(3, 1), dtype=float32)\n",
      "___________________\n",
      "path_results_complete tf.Tensor(\n",
      "[[0.]\n",
      " [0.]\n",
      " [0.]], shape=(3, 1), dtype=float32)\n",
      "___________________\n",
      "path_results_complete tf.Tensor(\n",
      "[[0.]\n",
      " [0.]\n",
      " [0.]], shape=(3, 1), dtype=float32)\n",
      "___________________\n"
     ]
    }
   ],
   "source": [
    "#internal_node_result_complete = tf.round(tf.sigmoid(tf.reduce_sum(split_index*tf.expand_dims(entry, 1), axis=2) - tf.reduce_sum(split_values*split_index, axis=1) - 0.5))\n",
    "#internal_node_result_complete_expanded = tf.concat([tf.expand_dims(internal_node_result_complete, 2), tf.expand_dims(1-internal_node_result_complete, 2)], axis=2) \n",
    "internal_node_result_complete = tf.transpose(tf.round(tf.sigmoid(tf.reduce_sum(tf.expand_dims(split_index, 1)*entry, axis=2) - tf.expand_dims(tf.reduce_sum(split_values*split_index, axis=1), 1) - 0.5)))\n",
    "\n",
    "\n",
    "display(internal_node_result_complete)\n",
    "\n",
    "paths = [[0,1,3], [0,1,4], [0,2,5], [0,2,6]]\n",
    "\n",
    "begin_idx = 0\n",
    "end_idx = 1\n",
    "\n",
    "#path_results_complete_layer_laeft = 1\n",
    "#path_results_complete_layer_right = 1\n",
    "\n",
    "path_results_complete = internal_node_result_complete[:,0:1]\n",
    "print('___________________')\n",
    "print(path_results_complete)\n",
    "print('___________________')\n",
    "for layer_idx in range(0, 2):\n",
    "    begin_idx = end_idx\n",
    "    end_idx = begin_idx + 2 ** (layer_idx + 1)\n",
    "    \n",
    "    print('path_results_complete', path_results_complete)\n",
    "    print('___________________')\n",
    "    "
   ]
  },
  {
   "cell_type": "code",
   "execution_count": 331,
   "id": "d92cecfd-e095-476a-8fbb-43efc4628706",
   "metadata": {
    "execution": {
     "iopub.execute_input": "2022-06-10T13:23:16.080976Z",
     "iopub.status.busy": "2022-06-10T13:23:16.080749Z",
     "iopub.status.idle": "2022-06-10T13:23:16.094785Z",
     "shell.execute_reply": "2022-06-10T13:23:16.094367Z",
     "shell.execute_reply.started": "2022-06-10T13:23:16.080957Z"
    },
    "tags": []
   },
   "outputs": [
    {
     "data": {
      "text/plain": [
       "<tf.Tensor: shape=(3, 7), dtype=float32, numpy=\n",
       "array([[0., 0., 0., 0., 1., 0., 0.],\n",
       "       [0., 1., 1., 0., 1., 1., 0.],\n",
       "       [0., 1., 1., 1., 1., 1., 1.]], dtype=float32)>"
      ]
     },
     "metadata": {},
     "output_type": "display_data"
    },
    {
     "name": "stdout",
     "output_type": "stream",
     "text": [
      "___________________\n",
      "tf.Tensor(\n",
      "[[0.]\n",
      " [0.]\n",
      " [0.]], shape=(3, 1), dtype=float32)\n",
      "___________________\n",
      "1 3 0\n",
      "path_results_complete_layer_extended tf.Tensor(\n",
      "[[0. 0. 1. 1.]\n",
      " [1. 1. 0. 0.]\n",
      " [1. 1. 0. 0.]], shape=(3, 4), dtype=float32)\n",
      "path_results_complete_extended tf.Tensor(\n",
      "[[[0. 1.]]\n",
      "\n",
      " [[0. 1.]]\n",
      "\n",
      " [[0. 1.]]], shape=(3, 1, 2), dtype=float32)\n",
      "path_results_complete tf.Tensor(\n",
      "[[[0. 0.]\n",
      "  [0. 0.]\n",
      "  [0. 1.]\n",
      "  [0. 1.]]\n",
      "\n",
      " [[0. 1.]\n",
      "  [0. 1.]\n",
      "  [0. 0.]\n",
      "  [0. 0.]]\n",
      "\n",
      " [[0. 1.]\n",
      "  [0. 1.]\n",
      "  [0. 0.]\n",
      "  [0. 0.]]], shape=(3, 4, 2), dtype=float32)\n",
      "___________________\n",
      "3 7 1\n",
      "path_results_complete_layer_extended tf.Tensor(\n",
      "[[0. 1. 0. 0. 1. 0. 1. 1.]\n",
      " [0. 1. 1. 0. 1. 0. 0. 1.]\n",
      " [1. 1. 1. 1. 0. 0. 0. 0.]], shape=(3, 8), dtype=float32)\n",
      "path_results_complete_extended tf.Tensor(\n",
      "[[[[0. 0.]\n",
      "   [0. 0.]\n",
      "   [0. 1.]\n",
      "   [0. 1.]\n",
      "   [1. 1.]\n",
      "   [1. 1.]\n",
      "   [1. 0.]\n",
      "   [1. 0.]]]\n",
      "\n",
      "\n",
      " [[[0. 1.]\n",
      "   [0. 1.]\n",
      "   [0. 0.]\n",
      "   [0. 0.]\n",
      "   [1. 0.]\n",
      "   [1. 0.]\n",
      "   [1. 1.]\n",
      "   [1. 1.]]]\n",
      "\n",
      "\n",
      " [[[0. 1.]\n",
      "   [0. 1.]\n",
      "   [0. 0.]\n",
      "   [0. 0.]\n",
      "   [1. 0.]\n",
      "   [1. 0.]\n",
      "   [1. 1.]\n",
      "   [1. 1.]]]], shape=(3, 1, 8, 2), dtype=float32)\n",
      "path_results_complete tf.Tensor(\n",
      "[[[[0. 0.]\n",
      "   [0. 0.]\n",
      "   [0. 0.]\n",
      "   [0. 0.]\n",
      "   [1. 1.]\n",
      "   [0. 0.]\n",
      "   [1. 0.]\n",
      "   [1. 0.]]\n",
      "\n",
      "  [[0. 0.]\n",
      "   [0. 0.]\n",
      "   [0. 1.]\n",
      "   [0. 0.]\n",
      "   [1. 1.]\n",
      "   [0. 0.]\n",
      "   [0. 0.]\n",
      "   [1. 0.]]\n",
      "\n",
      "  [[0. 0.]\n",
      "   [0. 0.]\n",
      "   [0. 1.]\n",
      "   [0. 1.]\n",
      "   [0. 0.]\n",
      "   [0. 0.]\n",
      "   [0. 0.]\n",
      "   [0. 0.]]]\n",
      "\n",
      "\n",
      " [[[0. 0.]\n",
      "   [0. 1.]\n",
      "   [0. 0.]\n",
      "   [0. 0.]\n",
      "   [1. 0.]\n",
      "   [0. 0.]\n",
      "   [1. 1.]\n",
      "   [1. 1.]]\n",
      "\n",
      "  [[0. 0.]\n",
      "   [0. 1.]\n",
      "   [0. 0.]\n",
      "   [0. 0.]\n",
      "   [1. 0.]\n",
      "   [0. 0.]\n",
      "   [0. 0.]\n",
      "   [1. 1.]]\n",
      "\n",
      "  [[0. 1.]\n",
      "   [0. 1.]\n",
      "   [0. 0.]\n",
      "   [0. 0.]\n",
      "   [0. 0.]\n",
      "   [0. 0.]\n",
      "   [0. 0.]\n",
      "   [0. 0.]]]\n",
      "\n",
      "\n",
      " [[[0. 0.]\n",
      "   [0. 1.]\n",
      "   [0. 0.]\n",
      "   [0. 0.]\n",
      "   [1. 0.]\n",
      "   [0. 0.]\n",
      "   [1. 1.]\n",
      "   [1. 1.]]\n",
      "\n",
      "  [[0. 0.]\n",
      "   [0. 1.]\n",
      "   [0. 0.]\n",
      "   [0. 0.]\n",
      "   [1. 0.]\n",
      "   [0. 0.]\n",
      "   [0. 0.]\n",
      "   [1. 1.]]\n",
      "\n",
      "  [[0. 1.]\n",
      "   [0. 1.]\n",
      "   [0. 0.]\n",
      "   [0. 0.]\n",
      "   [0. 0.]\n",
      "   [0. 0.]\n",
      "   [0. 0.]\n",
      "   [0. 0.]]]], shape=(3, 3, 8, 2), dtype=float32)\n",
      "___________________\n"
     ]
    }
   ],
   "source": [
    "#internal_node_result_complete = tf.round(tf.sigmoid(tf.reduce_sum(split_index*tf.expand_dims(entry, 1), axis=2) - tf.reduce_sum(split_values*split_index, axis=1) - 0.5))\n",
    "#internal_node_result_complete_expanded = tf.concat([tf.expand_dims(internal_node_result_complete, 2), tf.expand_dims(1-internal_node_result_complete, 2)], axis=2) \n",
    "internal_node_result_complete = tf.transpose(tf.round(tf.sigmoid(tf.reduce_sum(tf.expand_dims(split_index, 1)*entry, axis=2) - tf.expand_dims(tf.reduce_sum(split_values*split_index, axis=1), 1) - 0.5)))\n",
    "\n",
    "\n",
    "display(internal_node_result_complete)\n",
    "\n",
    "paths = [[0,1,3], [0,1,4], [0,2,5], [0,2,6]]\n",
    "\n",
    "begin_idx = 0\n",
    "end_idx = 1\n",
    "\n",
    "#path_results_complete_layer_laeft = 1\n",
    "#path_results_complete_layer_right = 1\n",
    "\n",
    "path_results_complete = internal_node_result_complete[:,0:1]\n",
    "print('___________________')\n",
    "print(path_results_complete)\n",
    "print('___________________')\n",
    "for layer_idx in range(0, 2):\n",
    "    begin_idx = end_idx\n",
    "    end_idx = begin_idx + 2 ** (layer_idx + 1)\n",
    "    \n",
    "    print(begin_idx, end_idx, layer_idx)\n",
    "    #path_results_complete_layer = tf.transpose(internal_node_result_complete[begin_idx:end_idx,:])\n",
    "    path_results_complete_layer = internal_node_result_complete[:,begin_idx:end_idx]\n",
    "    path_results_complete_layer_extended = tf.concat([path_results_complete_layer, 1-path_results_complete_layer], 1)\n",
    "    print('path_results_complete_layer_extended', path_results_complete_layer_extended)\n",
    "    \n",
    "    path_results_complete_extended = tf.expand_dims(tf.concat([path_results_complete, 1-path_results_complete], 1), 1)\n",
    "    print('path_results_complete_extended', path_results_complete_extended)\n",
    "    #path_results_complete_layer_left, path_results_complete_layer_right = tf.split(path_results_complete_layer, 2)\n",
    "    #path_results_complete_layer_left = path_results_complete_layer[0::2] \n",
    "    #path_results_complete_layer_right = path_results_complete_layer[1::2]\n",
    "        \n",
    "    #print(path_results_complete_layer_left)\n",
    "    #print(path_results_complete_layer_right)    \n",
    "    #path_results_complete = tf.stack([path_results_complete*path_results_complete_layer_left, (1-path_results_complete)*path_results_complete_layer_right])\n",
    "   # print('path_results_complete_layer', path_results_complete_layer)\n",
    "\n",
    "    path_results_complete = tf.multiply(path_results_complete_extended, tf.expand_dims(path_results_complete_layer_extended, 2))\n",
    "\n",
    "    #tf.multiply(path_results_complete_extended, path_results_complete_layer_extended)\n",
    "    \n",
    "    #print('tf.squeeze(tf.stack([path_results_complete, (1-path_results_complete)])', tf.reshape(tf.stack([path_results_complete, (1-path_results_complete)]), [2 ** (layer_idx + 1)]))\n",
    "    #path_results_complete = path_results_complete_layer * tf.reshape(tf.stack([path_results_complete, (1-path_results_complete)]), [2 ** (layer_idx + 1)])\n",
    "    \n",
    "    print('path_results_complete', path_results_complete)\n",
    "    print('___________________')\n",
    "    "
   ]
  },
  {
   "cell_type": "code",
   "execution_count": 174,
   "id": "3c6d4edf-10d5-49e6-92cc-33e08a53bb8d",
   "metadata": {
    "execution": {
     "iopub.execute_input": "2022-06-10T10:48:48.135272Z",
     "iopub.status.busy": "2022-06-10T10:48:48.135038Z",
     "iopub.status.idle": "2022-06-10T10:48:48.148718Z",
     "shell.execute_reply": "2022-06-10T10:48:48.148284Z",
     "shell.execute_reply.started": "2022-06-10T10:48:48.135252Z"
    },
    "tags": []
   },
   "outputs": [
    {
     "data": {
      "text/plain": [
       "<tf.Tensor: shape=(7, 1), dtype=float32, numpy=\n",
       "array([[0.],\n",
       "       [0.],\n",
       "       [0.],\n",
       "       [0.],\n",
       "       [1.],\n",
       "       [0.],\n",
       "       [0.]], dtype=float32)>"
      ]
     },
     "metadata": {},
     "output_type": "display_data"
    },
    {
     "name": "stdout",
     "output_type": "stream",
     "text": [
      "___________________\n",
      "___________________\n",
      "path_results_complete tf.Tensor([[0.]], shape=(1, 1), dtype=float32)\n",
      "___________________\n",
      "path_results_complete_layer tf.Tensor(\n",
      "[[0.]\n",
      " [0.]], shape=(2, 1), dtype=float32)\n",
      "path_results_complete_layer_left tf.Tensor([[0.]], shape=(1, 1), dtype=float32)\n",
      "path_results_complete_layer_right tf.Tensor([[0.]], shape=(1, 1), dtype=float32)\n",
      "left tf.Tensor([[0.]], shape=(1, 1), dtype=float32)\n",
      "right tf.Tensor([[0.]], shape=(1, 1), dtype=float32)\n",
      "path_results_complete tf.Tensor(\n",
      "[[[0.]]\n",
      "\n",
      " [[0.]]], shape=(2, 1, 1), dtype=float32)\n",
      "___________________\n",
      "path_results_complete_layer tf.Tensor(\n",
      "[[0.]\n",
      " [1.]\n",
      " [0.]\n",
      " [0.]], shape=(4, 1), dtype=float32)\n",
      "path_results_complete_layer_left tf.Tensor(\n",
      "[[0.]\n",
      " [1.]], shape=(2, 1), dtype=float32)\n",
      "path_results_complete_layer_right tf.Tensor(\n",
      "[[0.]\n",
      " [0.]], shape=(2, 1), dtype=float32)\n",
      "left tf.Tensor(\n",
      "[[[0.]\n",
      "  [0.]]\n",
      "\n",
      " [[0.]\n",
      "  [0.]]], shape=(2, 2, 1), dtype=float32)\n",
      "right tf.Tensor(\n",
      "[[[0.]\n",
      "  [0.]]\n",
      "\n",
      " [[0.]\n",
      "  [0.]]], shape=(2, 2, 1), dtype=float32)\n",
      "path_results_complete tf.Tensor(\n",
      "[[[[0.]\n",
      "   [0.]]\n",
      "\n",
      "  [[0.]\n",
      "   [0.]]]\n",
      "\n",
      "\n",
      " [[[0.]\n",
      "   [0.]]\n",
      "\n",
      "  [[0.]\n",
      "   [0.]]]], shape=(2, 2, 2, 1), dtype=float32)\n",
      "___________________\n"
     ]
    }
   ],
   "source": [
    "#internal_node_result_complete = tf.round(tf.sigmoid(tf.reduce_sum(split_index*tf.expand_dims(entry, 1), axis=2) - tf.reduce_sum(split_values*split_index, axis=1) - 0.5))\n",
    "#internal_node_result_complete_expanded = tf.concat([tf.expand_dims(internal_node_result_complete, 2), tf.expand_dims(1-internal_node_result_complete, 2)], axis=2) \n",
    "internal_node_result_complete = tf.round(tf.sigmoid(tf.reduce_sum(tf.expand_dims(split_index, 1)*entry, axis=2) - tf.expand_dims(tf.reduce_sum(split_values*split_index, axis=1), 1) - 0.5))\n",
    "\n",
    "\n",
    "display(internal_node_result_complete)\n",
    "\n",
    "paths = [[0,1,3], [0,1,4], [0,2,5], [0,2,6]]\n",
    "\n",
    "begin_idx = 0\n",
    "end_idx = 1\n",
    "\n",
    "path_results_complete = 1\n",
    "print('___________________')\n",
    "print('___________________')\n",
    "for layer_idx in range(3):\n",
    "    #path_results_complete_layer = tf.transpose(internal_node_result_complete[begin_idx:end_idx,:])\n",
    "    path_results_complete_layer = internal_node_result_complete[begin_idx:end_idx,:]\n",
    "    \n",
    "    if layer_idx == 0:\n",
    "        path_results_complete = path_results_complete * path_results_complete_layer\n",
    "        print('path_results_complete', path_results_complete)\n",
    "        print('___________________')\n",
    "    else:    \n",
    "        path_results_complete_layer_left, path_results_complete_layer_right = tf.split(path_results_complete_layer, 2)\n",
    "        print('path_results_complete_layer', path_results_complete_layer)\n",
    "        print('path_results_complete_layer_left', path_results_complete_layer_left)\n",
    "        print('path_results_complete_layer_right', path_results_complete_layer_right)\n",
    "        \n",
    "        print('left', path_results_complete*path_results_complete_layer_left)\n",
    "        print('right', (1-path_results_complete)*path_results_complete_layer_right)\n",
    "        path_results_complete = tf.stack([path_results_complete*path_results_complete_layer_left, (1-path_results_complete)*path_results_complete_layer_right])\n",
    "        print('path_results_complete', path_results_complete)\n",
    "        print('___________________')\n",
    "    begin_idx = end_idx\n",
    "    end_idx = begin_idx + 2 ** (layer_idx + 1)    "
   ]
  },
  {
   "cell_type": "code",
   "execution_count": 146,
   "id": "1c44bbc9-16de-4ac3-9d65-118f504b9dc5",
   "metadata": {
    "execution": {
     "iopub.execute_input": "2022-06-10T10:24:08.066971Z",
     "iopub.status.busy": "2022-06-10T10:24:08.066725Z",
     "iopub.status.idle": "2022-06-10T10:24:08.079853Z",
     "shell.execute_reply": "2022-06-10T10:24:08.079380Z",
     "shell.execute_reply.started": "2022-06-10T10:24:08.066952Z"
    },
    "tags": []
   },
   "outputs": [
    {
     "data": {
      "text/plain": [
       "<tf.Tensor: shape=(2, 7, 2), dtype=float32, numpy=\n",
       "array([[[0., 1.],\n",
       "        [0., 1.],\n",
       "        [0., 1.],\n",
       "        [0., 1.],\n",
       "        [1., 0.],\n",
       "        [0., 1.],\n",
       "        [0., 1.]],\n",
       "\n",
       "       [[0., 1.],\n",
       "        [1., 0.],\n",
       "        [1., 0.],\n",
       "        [0., 1.],\n",
       "        [1., 0.],\n",
       "        [1., 0.],\n",
       "        [0., 1.]]], dtype=float32)>"
      ]
     },
     "metadata": {},
     "output_type": "display_data"
    },
    {
     "name": "stdout",
     "output_type": "stream",
     "text": [
      "0 path_results_complete 1\n",
      "0 path_results_complete_layer tf.Tensor(\n",
      "[[[0. 1.]]\n",
      "\n",
      " [[0. 1.]]], shape=(2, 1, 2), dtype=float32)\n",
      "0 path_results_complete tf.Tensor(\n",
      "[[[0. 1.]]\n",
      "\n",
      " [[0. 1.]]], shape=(2, 1, 2), dtype=float32)\n",
      "1 path_results_complete tf.Tensor(\n",
      "[[[0. 1.]]\n",
      "\n",
      " [[0. 1.]]], shape=(2, 1, 2), dtype=float32)\n",
      "1 path_results_complete_layer tf.Tensor(\n",
      "[[[0. 1.]\n",
      "  [0. 1.]]\n",
      "\n",
      " [[1. 0.]\n",
      "  [1. 0.]]], shape=(2, 2, 2), dtype=float32)\n",
      "1 path_results_complete tf.Tensor(\n",
      "[[[0. 1.]\n",
      "  [0. 1.]]\n",
      "\n",
      " [[0. 0.]\n",
      "  [0. 0.]]], shape=(2, 2, 2), dtype=float32)\n",
      "2 path_results_complete tf.Tensor(\n",
      "[[[0. 1.]\n",
      "  [0. 1.]]\n",
      "\n",
      " [[0. 0.]\n",
      "  [0. 0.]]], shape=(2, 2, 2), dtype=float32)\n",
      "2 path_results_complete_layer tf.Tensor(\n",
      "[[[0. 1.]\n",
      "  [1. 0.]\n",
      "  [0. 1.]\n",
      "  [0. 1.]]\n",
      "\n",
      " [[0. 1.]\n",
      "  [1. 0.]\n",
      "  [1. 0.]\n",
      "  [0. 1.]]], shape=(2, 4, 2), dtype=float32)\n",
      "2 path_results_complete tf.Tensor(\n",
      "[[[[0. 1.]\n",
      "   [0. 0.]\n",
      "   [0. 1.]\n",
      "   [0. 1.]]\n",
      "\n",
      "  [[0. 1.]\n",
      "   [0. 0.]\n",
      "   [0. 0.]\n",
      "   [0. 1.]]]\n",
      "\n",
      "\n",
      " [[[0. 0.]\n",
      "   [0. 0.]\n",
      "   [0. 0.]\n",
      "   [0. 0.]]\n",
      "\n",
      "  [[0. 0.]\n",
      "   [0. 0.]\n",
      "   [0. 0.]\n",
      "   [0. 0.]]]], shape=(2, 2, 4, 2), dtype=float32)\n"
     ]
    }
   ],
   "source": [
    "internal_node_result_complete = tf.round(tf.sigmoid(tf.reduce_sum(split_index*tf.expand_dims(entry, 1), axis=2) - tf.reduce_sum(split_values*split_index, axis=1) - 0.5))\n",
    "internal_node_result_complete_expanded = tf.concat([tf.expand_dims(internal_node_result_complete, 2), tf.expand_dims(1-internal_node_result_complete, 2)], axis=2) \n",
    "\n",
    "display(internal_node_result_complete_expanded)\n",
    "\n",
    "paths = [[0,1,3], [0,1,4], [0,2,5], [0,2,6]]\n",
    "\n",
    "begin_idx = 0\n",
    "end_idx = 1\n",
    "\n",
    "path_results_complete = 1\n",
    "for layer_idx in range(3):\n",
    "    #path_results_complete_layer = tf.transpose(internal_node_result_complete[begin_idx:end_idx,:])\n",
    "    path_results_complete_layer = internal_node_result_complete_expanded[:,begin_idx:end_idx,:]\n",
    "    \n",
    "    #path_results_complete = tf.gather_nd(path_result_complete, [[node] for node in path])\n",
    "    print(layer_idx, 'path_results_complete', path_results_complete)\n",
    "    print(layer_idx, 'path_results_complete_layer', path_results_complete_layer)\n",
    "    if layer_idx != 2:   \n",
    "        path_results_complete = path_results_complete * path_results_complete_layer\n",
    "    else:\n",
    "        path_results_complete = tf.expand_dims(path_results_complete, 2) * path_results_complete_layer\n",
    "\n",
    "    print(layer_idx, 'path_results_complete', path_results_complete)\n",
    "    \n",
    "    begin_idx = end_idx\n",
    "    end_idx = begin_idx + 2 ** (layer_idx + 1)    "
   ]
  },
  {
   "cell_type": "code",
   "execution_count": 62,
   "id": "7b494590-fd91-49e6-9488-e0763e2805ec",
   "metadata": {
    "execution": {
     "iopub.execute_input": "2022-06-10T09:46:44.590036Z",
     "iopub.status.busy": "2022-06-10T09:46:44.589784Z",
     "iopub.status.idle": "2022-06-10T09:46:44.593198Z",
     "shell.execute_reply": "2022-06-10T09:46:44.592840Z",
     "shell.execute_reply.started": "2022-06-10T09:46:44.590000Z"
    }
   },
   "outputs": [],
   "source": [
    "path = [0,1,3]"
   ]
  },
  {
   "cell_type": "code",
   "execution_count": 63,
   "id": "eb7f3e27-6f72-449c-9c28-864f7cccb387",
   "metadata": {
    "execution": {
     "iopub.execute_input": "2022-06-10T09:46:44.857109Z",
     "iopub.status.busy": "2022-06-10T09:46:44.856980Z",
     "iopub.status.idle": "2022-06-10T09:46:45.567688Z",
     "shell.execute_reply": "2022-06-10T09:46:45.567027Z",
     "shell.execute_reply.started": "2022-06-10T09:46:44.857094Z"
    },
    "tags": []
   },
   "outputs": [
    {
     "data": {
      "text/plain": [
       "<tf.Tensor: shape=(3, 2), dtype=float32, numpy=\n",
       "array([[0., 0.],\n",
       "       [0., 1.],\n",
       "       [0., 0.]], dtype=float32)>"
      ]
     },
     "execution_count": 63,
     "metadata": {},
     "output_type": "execute_result"
    }
   ],
   "source": [
    "tf.gather_nd(path_result_complete, [[node] for node in path])"
   ]
  },
  {
   "cell_type": "code",
   "execution_count": 24,
   "id": "d9f18d51-633f-453b-8571-990cfe382730",
   "metadata": {
    "execution": {
     "iopub.execute_input": "2022-06-10T09:35:35.680866Z",
     "iopub.status.busy": "2022-06-10T09:35:35.680549Z",
     "iopub.status.idle": "2022-06-10T09:35:35.685763Z",
     "shell.execute_reply": "2022-06-10T09:35:35.685415Z",
     "shell.execute_reply.started": "2022-06-10T09:35:35.680822Z"
    }
   },
   "outputs": [
    {
     "data": {
      "text/plain": [
       "<tf.Tensor: shape=(7,), dtype=float32, numpy=array([0., 0., 0., 0., 1., 0., 0.], dtype=float32)>"
      ]
     },
     "execution_count": 24,
     "metadata": {},
     "output_type": "execute_result"
    }
   ],
   "source": [
    "tf.round(tf.sigmoid(tf.reduce_sum(entry*split_index, axis=1) - tf.reduce_sum(split_values*split_index, axis=1) - 0.5))"
   ]
  },
  {
   "cell_type": "code",
   "execution_count": null,
   "id": "93d169c2-70fd-4218-85b0-36cace43d490",
   "metadata": {
    "execution": {
     "iopub.execute_input": "2022-06-10T09:33:58.715617Z",
     "iopub.status.busy": "2022-06-10T09:33:58.715439Z",
     "iopub.status.idle": "2022-06-10T09:33:58.721757Z",
     "shell.execute_reply": "2022-06-10T09:33:58.721097Z",
     "shell.execute_reply.started": "2022-06-10T09:33:58.715599Z"
    },
    "tags": []
   },
   "outputs": [
    {
     "data": {
      "text/plain": [
       "<tf.Tensor: shape=(7, 5), dtype=float32, numpy=\n",
       "array([[0., 0., 0., 1., 0.],\n",
       "       [0., 0., 1., 0., 0.],\n",
       "       [1., 0., 0., 0., 0.],\n",
       "       [0., 1., 0., 0., 0.],\n",
       "       [0., 0., 0., 0., 1.],\n",
       "       [1., 0., 0., 0., 0.],\n",
       "       [0., 1., 0., 0., 0.]], dtype=float32)>"
      ]
     },
     "execution_count": 17,
     "metadata": {},
     "output_type": "execute_result"
    }
   ],
   "source": [
    "tf.round(tf.sigmoid(respective_input_value - split_values*split_index - 0.5))"
   ]
  },
  {
   "cell_type": "code",
   "execution_count": 9,
   "id": "d3b05e86-42cf-4830-81e3-d2651bf1fb9b",
   "metadata": {
    "execution": {
     "iopub.execute_input": "2022-06-10T09:31:11.842759Z",
     "iopub.status.busy": "2022-06-10T09:31:11.842364Z",
     "iopub.status.idle": "2022-06-10T09:31:11.846718Z",
     "shell.execute_reply": "2022-06-10T09:31:11.846323Z",
     "shell.execute_reply.started": "2022-06-10T09:31:11.842739Z"
    },
    "tags": []
   },
   "outputs": [
    {
     "data": {
      "text/plain": [
       "<tf.Tensor: shape=(7, 5), dtype=float32, numpy=\n",
       "array([[ 0.10033574,  0.0927311 ,  0.17358351, -0.2039914 , -0.11956531],\n",
       "       [-0.08597916, -0.02526746, -0.00801202,  0.1671228 ,  0.36241844],\n",
       "       [ 0.08227255, -0.0588528 ,  0.09707038,  0.15950945, -0.08655648],\n",
       "       [-0.07950286,  0.10232508, -0.24084124,  0.18319482,  0.13368854],\n",
       "       [ 0.03928551,  0.09138457, -0.00947421,  0.3317399 , -0.23567489],\n",
       "       [-0.00194597,  0.00422414, -0.06040039, -0.5435133 ,  0.10659747],\n",
       "       [-0.0222547 ,  0.0646157 ,  0.39414728, -0.09154531, -0.31241184]],\n",
       "      dtype=float32)>"
      ]
     },
     "execution_count": 9,
     "metadata": {},
     "output_type": "execute_result"
    }
   ],
   "source": [
    "entry*"
   ]
  },
  {
   "cell_type": "code",
   "execution_count": 3,
   "id": "6819297a-c0c9-4a46-bafe-6fa18a7156b9",
   "metadata": {
    "execution": {
     "iopub.execute_input": "2022-06-10T09:24:49.338685Z",
     "iopub.status.busy": "2022-06-10T09:24:49.338552Z",
     "iopub.status.idle": "2022-06-10T09:24:49.349026Z",
     "shell.execute_reply": "2022-06-10T09:24:49.348682Z",
     "shell.execute_reply.started": "2022-06-10T09:24:49.338665Z"
    }
   },
   "outputs": [],
   "source": [
    "if False:\n",
    "    tf.random.set_seed(config['computation']['random_seed'])\n",
    "    np.random.seed(config['computation']['random_seed'])\n",
    "    random.seed(config['computation']['random_seed'])  \n",
    "    \n",
    "    metrics = ['accuracy', 'f1']\n",
    "    \n",
    "    config_test = deepcopy(config)\n",
    "    #config_test['make_classification']['n_samples'] = 10_000\n",
    "    #config_test['dhdt']['epochs'] = 500\n",
    "    config_test['dhdt']['initializer_index'] = 'he_normal'#'ones', #GlorotUniform\n",
    "    config_test['dhdt']['activation'] = 'sigmoid'\n",
    "\n",
    "    dataset_dict = {}\n",
    "    model_dict = {}\n",
    "\n",
    "    scores_dict = {'sklearn': {},\n",
    "                   'DHDT': {}}\n",
    "\n",
    "    dataset_dict = get_preprocessed_dataset('make_classification',\n",
    "                                            random_seed=config_test['computation']['random_seed'],\n",
    "                                            config=config_test['make_classification'],\n",
    "                                            verbosity=1)\n",
    "\n",
    "    model_dict['sklearn'] = DecisionTreeClassifier(max_depth=3, \n",
    "                                                   random_state=config_test['computation']['random_seed'])\n",
    "\n",
    "    model_dict['sklearn'].fit(dataset_dict['X_train'], \n",
    "                              dataset_dict['y_train'])\n",
    "\n",
    "\n",
    "\n",
    "    model_dict['DHDT'] = DHDT(dataset_dict['X_train'].shape[1],\n",
    "\n",
    "                                depth = config_test['dhdt']['depth'],\n",
    "\n",
    "                                learning_rate = config_test['dhdt']['learning_rate'],\n",
    "                                optimizer = config_test['dhdt']['optimizer'],\n",
    "\n",
    "                                initializer = config_test['dhdt']['initializer'],\n",
    "                                initializer_index = config_test['dhdt']['initializer_index'],                              \n",
    "                              \n",
    "                                beta_1 = config_test['dhdt']['beta_1'],\n",
    "                                beta_2 = config_test['dhdt']['beta_2'],\n",
    "\n",
    "                                activation = config_test['dhdt']['activation'],\n",
    "                                squeeze_factor = config_test['dhdt']['squeeze_factor'],\n",
    "\n",
    "                                loss = config_test['dhdt']['loss'],#'mae',\n",
    "\n",
    "                                random_seed = config_test['computation']['random_seed'],\n",
    "                                verbosity = 1)        \n",
    "\n",
    "\n",
    "    scores_dict['history'] = model_dict['DHDT'].fit(dataset_dict['X_train'], \n",
    "                                                  dataset_dict['y_train'], \n",
    "                                                  batch_size=config_test['dhdt']['batch_size'], \n",
    "                                                  epochs=config_test['dhdt']['epochs'], \n",
    "                                                  early_stopping_epochs=config_test['dhdt']['early_stopping_epochs'], \n",
    "                                                  valid_data=(dataset_dict['X_valid'], dataset_dict['y_valid']))\n",
    "\n",
    "\n",
    "\n",
    "    dataset_dict['y_test_dhdt'] = model_dict['DHDT'].predict(dataset_dict['X_test'])\n",
    "    dataset_dict['y_valid_dhdt'] = model_dict['DHDT'].predict(dataset_dict['X_valid'])\n",
    "\n",
    "    dataset_dict['y_test_sklearn'] = model_dict['sklearn'].predict(dataset_dict['X_test'])\n",
    "    dataset_dict['y_valid_sklearn'] = model_dict['sklearn'].predict(dataset_dict['X_valid'])     \n",
    "    \n",
    "    for metric in metrics:\n",
    "        \n",
    "        if metric in ['accuracy', 'f1']:\n",
    "            y_test_dhdt = np.round(dataset_dict['y_test_dhdt'])\n",
    "            y_valid_dhdt = np.round(dataset_dict['y_valid_dhdt'])\n",
    "            y_test_sklearn = np.round(dataset_dict['y_test_sklearn'])\n",
    "            y_valid_sklearn = np.round(dataset_dict['y_valid_sklearn'])         \n",
    "        else:\n",
    "            y_test_dhdt = dataset_dict['y_test_dhdt']\n",
    "            y_valid_dhdt = dataset_dict['y_valid_dhdt']\n",
    "            y_test_sklearn = dataset_dict['y_test_sklearn']\n",
    "            y_valid_sklearn =    dataset_dict['y_valid_sklearn']                \n",
    "        \n",
    "        scores_dict['sklearn'][metric + '_test'] = sklearn.metrics.get_scorer(metric)._score_func(dataset_dict['y_test'], y_test_sklearn)\n",
    "        scores_dict['DHDT'][metric + '_test'] = sklearn.metrics.get_scorer(metric)._score_func(dataset_dict['y_test'], y_test_dhdt)\n",
    "\n",
    "        scores_dict['sklearn'][metric + '_valid'] = sklearn.metrics.get_scorer(metric)._score_func(dataset_dict['y_valid'], y_valid_sklearn)   \n",
    "        scores_dict['DHDT'][metric + '_valid'] = sklearn.metrics.get_scorer(metric)._score_func(dataset_dict['y_valid'], y_valid_dhdt)\n"
   ]
  },
  {
   "cell_type": "code",
   "execution_count": null,
   "id": "54a13b2a-ca9d-44de-9a52-b8ca61808093",
   "metadata": {
    "execution": {
     "iopub.execute_input": "2022-06-10T09:24:49.349686Z",
     "iopub.status.busy": "2022-06-10T09:24:49.349546Z"
    },
    "tags": []
   },
   "outputs": [
    {
     "name": "stderr",
     "output_type": "stream",
     "text": [
      "[Parallel(n_jobs=30)]: Using backend LokyBackend with 30 concurrent workers.\n",
      "[Parallel(n_jobs=30)]: Done   4 out of  30 | elapsed:  4.2min remaining: 27.0min\n",
      "[Parallel(n_jobs=30)]: Done  15 out of  30 | elapsed:  4.5min remaining:  4.5min\n"
     ]
    }
   ],
   "source": [
    "if True:\n",
    "    parallel_eval_synthetic = Parallel(n_jobs=config['computation']['n_jobs'], verbose=3, backend='loky') #loky #sequential multiprocessing\n",
    "    evaluation_results_synthetic = parallel_eval_synthetic(delayed(evaluate_synthetic_parallel)(index = index,\n",
    "                                                                                                random_seed_data = config['computation']['random_seed']+index,\n",
    "                                                                                                random_seed_model = config['computation']['random_seed'],#+random_seed_model,\n",
    "                                                                                                config = config,\n",
    "                                                                                                verbosity = -1) for index in range(config['make_classification']['num_eval']))\n",
    "\n",
    "    for i, synthetic_result in enumerate(evaluation_results_synthetic):\n",
    "        if i == 0:\n",
    "            model_dict_synthetic = synthetic_result[0]\n",
    "            scores_dict_synthetic = synthetic_result[1]\n",
    "            dataset_dict_synthetic = synthetic_result[2]\n",
    "        else: \n",
    "            model_dict_synthetic = mergeDict(model_dict_synthetic, synthetic_result[0])\n",
    "            scores_dict_synthetic = mergeDict(scores_dict_synthetic, synthetic_result[1])\n",
    "            dataset_dict_synthetic = mergeDict(dataset_dict_synthetic, synthetic_result[2])        \n",
    "    \n",
    "    metric_identifer = '_test'\n",
    "    metrics = ['accuracy', 'f1']\n",
    "    index = [i for i in range(config['make_classification']['num_eval'])]\n",
    "    columns = flatten_list([[[approach + ' ' + metric + '_mean', approach + ' ' + metric + '_max', approach + ' ' + metric + '_std'] for metric in metrics] for approach in ['DHDT', 'sklearn']])\n",
    "\n",
    "\n",
    "    results_DHDT = None\n",
    "    results_sklearn = None\n",
    "    for metric in metrics:\n",
    "        scores_DHDT = [scores_dict_synthetic[i]['DHDT'][metric + metric_identifer] for i in range(config['make_classification']['num_eval'])]\n",
    "\n",
    "        scores_sklearn = [scores_dict_synthetic[i]['sklearn'][metric + metric_identifer] for i in range(config['make_classification']['num_eval'])]\n",
    "\n",
    "        scores_DHDT_mean = np.mean(scores_DHDT, axis=1) if config['computation']['trials'] > 1 else scores_DHDT\n",
    "        scores_sklearn_mean = np.mean(scores_sklearn, axis=1) if config['computation']['trials'] > 1 else scores_sklearn\n",
    "\n",
    "        scores_DHDT_max = np.max(scores_DHDT, axis=1) if config['computation']['trials'] > 1 else scores_DHDT\n",
    "        scores_sklearn_max = np.max(scores_sklearn, axis=1) if config['computation']['trials'] > 1 else scores_sklearn\n",
    "\n",
    "        scores_DHDT_std = np.std(scores_DHDT, axis=1) if config['computation']['trials'] > 1 else np.array([0.0] * config['computation']['trials'])\n",
    "        scores_sklearn_std = np.std(scores_sklearn, axis=1) if config['computation']['trials'] > 1 else np.array([0.0] * config['computation']['trials'])\n",
    "\n",
    "        results_DHDT_by_metric = np.vstack([scores_DHDT_mean, scores_DHDT_max, scores_DHDT_std])\n",
    "        results_sklearn_by_metric = np.vstack([scores_sklearn_mean, scores_sklearn_max, scores_sklearn_std])\n",
    "\n",
    "        if results_DHDT is None and results_sklearn is None:\n",
    "            results_DHDT = results_DHDT_by_metric\n",
    "            results_sklearn = results_sklearn_by_metric\n",
    "        else:\n",
    "            results_DHDT = np.vstack([results_DHDT, results_DHDT_by_metric])\n",
    "            results_sklearn = np.vstack([results_sklearn, results_sklearn_by_metric])\n",
    "\n",
    "    scores_dataframe_synthetic = pd.DataFrame(data=np.vstack([results_DHDT, results_sklearn]).T, index = index, columns = columns)    \n",
    "        \n",
    "    index = [index_name.split(' ')[1] for index_name in scores_dataframe_synthetic.mean()[scores_dataframe_synthetic.shape[1]//2:].index]\n",
    "    mean_result_dataframe_synthetic = np.round(pd.DataFrame(data=np.vstack([scores_dataframe_synthetic.mean()[:scores_dataframe_synthetic.shape[1]//2], scores_dataframe_synthetic.mean()[scores_dataframe_synthetic.shape[1]//2:]]).T, index=index, columns=['DHDT', 'sklearn']), 3)\n",
    "\n",
    "        \n",
    "    display(scores_dataframe_synthetic.head(5))\n",
    "    display(scores_dataframe_synthetic[scores_dataframe_synthetic.columns[0::3]].iloc[:,[0,2,1,3]].head(5))\n",
    "    display(scores_dataframe_synthetic[scores_dataframe_synthetic.columns[1::3]].iloc[:,[0,2,1,3]].head(5))\n",
    "    display(mean_result_dataframe_synthetic)\n",
    "    "
   ]
  },
  {
   "cell_type": "markdown",
   "id": "f856c6c9-368b-4b75-b0d8-6e7a28e4267c",
   "metadata": {},
   "source": [
    "## Real-World Eval"
   ]
  },
  {
   "cell_type": "code",
   "execution_count": null,
   "id": "6cb9eca0-b6be-4389-960f-857e68e6b197",
   "metadata": {
    "tags": []
   },
   "outputs": [],
   "source": [
    "if False:\n",
    "\n",
    "    identifier_list = [\n",
    "                        'Adult',#: 32,\n",
    "                        'Bank Marketing',#: 32,\n",
    "                        'Loan Credit',#: 32,\n",
    "\n",
    "                        'Credit Card',#: 23, \n",
    "                        'Car',#: 21,\n",
    "\n",
    "\n",
    "                        'Absenteeism',#: 15,\n",
    "                        'Loan House',#: 15,\n",
    "                        'Cervical Cancer',#: 15,\n",
    "\n",
    "                        'Heart Disease',#: 13,           \n",
    "\n",
    "                        'Titanic',#: 10,\n",
    "                        'Medical Insurance',#: 10,\n",
    "                        'Wisconsin Breast Cancer Original',#: 10,\n",
    "                        'Wisconsin Diagnostic Breast Cancer',#: 10,\n",
    "                        'Wisconsin Prognostic Breast Cancer',#: 10,\n",
    "                        'Abalone',#: 10,\n",
    "\n",
    "                        'Habermans Survival',#: 3, \n",
    "                      ]\n",
    "    \n",
    "    parallel_eval_real_world = Parallel(n_jobs=config['computation']['n_jobs'], verbose=3, backend='loky') #loky #sequential multiprocessing\n",
    "    evaluation_results_real_world = parallel_eval_real_world(delayed(evaluate_real_world_parallel)(identifier_list=identifier_list, \n",
    "                                                                                                   random_seed_model=config['computation']['random_seed']+i,\n",
    "                                                                                                   config = config,\n",
    "                                                                                                   verbosity = -1) for i in range(config['computation']['trials']))\n",
    "\n",
    "\n",
    "    for i, real_world_result in enumerate(evaluation_results_real_world):\n",
    "        if i == 0:\n",
    "            model_dict_real_world = real_world_result[0]\n",
    "            scores_dict_real_world = real_world_result[1]\n",
    "            dataset_dict_real_world = real_world_result[2]\n",
    "        else: \n",
    "            model_dict_real_world = mergeDict(model_dict_real_world, real_world_result[0])\n",
    "            scores_dict_real_world = mergeDict(scores_dict_real_world, real_world_result[1])\n",
    "            dataset_dict_real_world = mergeDict(dataset_dict_real_world, real_world_result[2])    \n",
    "\n",
    "    metric_identifer = '_test'\n",
    "    metrics = ['accuracy', 'f1']\n",
    "    index = identifier_list\n",
    "    columns = flatten_list([[[approach + ' ' + metric + '_mean', approach + ' ' + metric + '_max', approach + ' ' + metric + '_std'] for metric in metrics] for approach in ['DHDT', 'sklearn']])\n",
    "\n",
    "\n",
    "    results_DHDT = None\n",
    "    results_sklearn = None\n",
    "    for metric in metrics:\n",
    "        scores_DHDT = [scores_dict_real_world[identifier]['DHDT'][metric + metric_identifer] for identifier in identifier_list]\n",
    "\n",
    "        scores_sklearn = [scores_dict_real_world[identifier]['sklearn'][metric + metric_identifer] for identifier in identifier_list]    \n",
    "\n",
    "        scores_DHDT_mean = np.mean(scores_DHDT, axis=1) if config['computation']['trials'] > 1 else scores_DHDT\n",
    "        scores_sklearn_mean = np.mean(scores_sklearn, axis=1) if config['computation']['trials'] > 1 else scores_sklearn\n",
    "\n",
    "        scores_DHDT_max = np.max(scores_DHDT, axis=1) if config['computation']['trials'] > 1 else scores_DHDT\n",
    "        scores_sklearn_max = np.max(scores_sklearn, axis=1) if config['computation']['trials'] > 1 else scores_sklearn\n",
    "\n",
    "        scores_DHDT_std = np.std(scores_DHDT, axis=1) if config['computation']['trials'] > 1 else np.array([0.0] * config['computation']['trials'])\n",
    "        scores_sklearn_std = np.std(scores_sklearn, axis=1) if config['computation']['trials'] > 1 else np.array([0.0] * config['computation']['trials'])\n",
    "\n",
    "        results_DHDT_by_metric = np.vstack([scores_DHDT_mean, scores_DHDT_max, scores_DHDT_std])\n",
    "        results_sklearn_by_metric = np.vstack([scores_sklearn_mean, scores_sklearn_max, scores_sklearn_std])\n",
    "\n",
    "        if results_DHDT is None and results_sklearn is None:\n",
    "            results_DHDT = results_DHDT_by_metric\n",
    "            results_sklearn = results_sklearn_by_metric\n",
    "        else:\n",
    "            results_DHDT = np.vstack([results_DHDT, results_DHDT_by_metric])\n",
    "            results_sklearn = np.vstack([results_sklearn, results_sklearn_by_metric])\n",
    "            \n",
    "    scores_dataframe_real_world = pd.DataFrame(data=np.vstack([results_DHDT, results_sklearn]).T, index = index, columns = columns)\n",
    "            \n",
    "    index = [index_name.split(' ')[1] for index_name in scores_dataframe_real_world.mean()[scores_dataframe_real_world.shape[1]//2:].index]\n",
    "    mean_result_dataframe_real_world = np.round(pd.DataFrame(data=np.vstack([scores_dataframe_real_world.mean()[:scores_dataframe_real_world.shape[1]//2], scores_dataframe_real_world.mean()[scores_dataframe_real_world.shape[1]//2:]]).T, index=index, columns=['DHDT', 'sklearn']), 3)\n",
    "                \n",
    "    display(scores_dataframe_real_world)\n",
    "    display(scores_dataframe_real_world[scores_dataframe_real_world.columns[0::3]].iloc[:,[0,2,1,3]])    \n",
    "    display(scores_dataframe_real_world[scores_dataframe_real_world.columns[1::3]].iloc[:,[0,2,1,3]])    \n",
    "\n",
    "    display(mean_result_dataframe_real_world)\n",
    "    \n"
   ]
  },
  {
   "cell_type": "code",
   "execution_count": null,
   "id": "38c55370-5fa9-4f3c-a1a8-be597467f808",
   "metadata": {
    "tags": []
   },
   "outputs": [],
   "source": [
    "if False:\n",
    "    plot_index = 0\n",
    "    \n",
    "    identifier = identifier_list[0]#\"Absenteeism\"\n",
    "    plt.figure(figsize=(15,8))\n",
    "    image = model_dict_real_world[identifier]['DHDT'][plot_index].plot(normalizer_list=dataset_dict_real_world[identifier]['normalizer_list'])\n",
    "    display(image)\n",
    "\n",
    "    plt.figure(figsize=(15,8))\n",
    "    plot_tree(model_dict_real_world[identifier]['sklearn'][plot_index], fontsize=10) \n",
    "    plt.show()"
   ]
  },
  {
   "cell_type": "code",
   "execution_count": null,
   "id": "196fbd88-44c9-4d7f-b58d-def1eeb6d434",
   "metadata": {
    "tags": []
   },
   "outputs": [],
   "source": []
  },
  {
   "cell_type": "markdown",
   "id": "84e73582-0f9e-4522-9a94-dc59f4e566e9",
   "metadata": {},
   "source": [
    "# Hyperparameter Optimization"
   ]
  },
  {
   "cell_type": "code",
   "execution_count": null,
   "id": "09315b63-50a1-4b2c-bfa9-d7b6d961de34",
   "metadata": {
    "tags": []
   },
   "outputs": [],
   "source": [
    "parameter_dict = {\n",
    "        'depth': [3],\n",
    "        'learning_rate': [0.05, 0.01, 0.005, 0.001, 0.0005], #[0.1, 0.05, 0.01, 0.005, 0.001, 0.0005, 0.0001],\n",
    "        \n",
    "        'loss': ['binary_crossentropy'], #['binary_crossentropy', 'rmse'], #'mae',\n",
    "        'optimizer': ['adam', 'sgd'], #['adam', 'sgd'],        \n",
    "        \n",
    "        'initializer': ['GlorotUniform', 'GlorotNormal', 'HeUniform', 'HeNormal', 'LecunUniform', 'LecunNormal', 'RandomNormal', 'RandomUniform'], #RandomNormal, RandomUniform\n",
    "        'initializer_index': ['GlorotUniform', 'GlorotNormal', 'HeUniform', 'HeNormal', 'LecunUniform', 'LecunNormal', 'RandomNormal', 'RandomUniform', 'zeros', 'ones'], #RandomNormal, RandomUniform\n",
    "\n",
    "        'beta_1': [10, 50], #[10, 50, 100],\n",
    "        'beta_2': [10, 50], #[10, 50, 100],\n",
    "        \n",
    "        'activation': ['sigmoid', 'tanh'],\n",
    "        'squeeze_factor': [0.2, 0.5, 1, 2, 5], #[0.2, 0.5, 1, 2, 5],    \n",
    "}\n",
    "\n",
    "parameter_grid = ParameterGrid(parameter_dict)"
   ]
  },
  {
   "cell_type": "code",
   "execution_count": null,
   "id": "d5a0db87-7718-4ca7-a823-1409a835eacc",
   "metadata": {
    "tags": []
   },
   "outputs": [],
   "source": []
  },
  {
   "cell_type": "code",
   "execution_count": null,
   "id": "952be342-9751-474b-8780-f185b3f9c29d",
   "metadata": {
    "tags": []
   },
   "outputs": [],
   "source": [
    "if False:\n",
    "    parallel_hpo_synthetic = Parallel(n_jobs=config['computation']['n_jobs'], verbose=3, backend='loky') #loky #sequential multiprocessing\n",
    "    evaluation_results_hpo_synthetic = parallel_hpo_synthetic(delayed(evaluate_parameter_setting_synthetic)(parameter_setting, config, metrics= ['accuracy', 'f1']) for parameter_setting in parameter_grid)\n",
    "\n",
    "    comparator_metric = 'f1'\n",
    "\n",
    "    dhdt_mean_list = [np.mean(evaluation_results_hpo_synthetic[i][0]['DHDT ' + comparator_metric + '_mean']) for i in range(len(parameter_grid))]\n",
    "    dhdt_mean_list = sorted(dhdt_mean_list)\n",
    "\n",
    "    dhdt_max_mean_list = [np.mean(evaluation_results_hpo_synthetic[i][0]['DHDT ' + comparator_metric + '_max']) for i in range(len(parameter_grid))]\n",
    "    dhdt_max_mean_list = [x for _, x in sorted(zip(dhdt_mean_list, dhdt_max_mean_list))]\n",
    "\n",
    "    sklearn_mean_list = [np.mean(evaluation_results_hpo_synthetic[i][0]['sklearn ' + comparator_metric + '_mean']) for i in range(len(parameter_grid))]\n",
    "    sklearn_mean_list = [x for _, x in sorted(zip(dhdt_mean_list, sklearn_mean_list))]\n",
    "\n",
    "    parameter_setting_list = [evaluation_results_hpo_synthetic[i][1] for i in range(len(parameter_grid))]\n",
    "    parameter_setting_list = [x for _, x in sorted(zip(dhdt_mean_list, parameter_setting_list))]\n",
    "\n",
    "    hpo_results_synthetic = []\n",
    "    for i, (dhdt_mean, dhdt_max_mean, sklearn_mean, parameter_setting) in enumerate(zip(dhdt_mean_list, dhdt_max_mean_list, sklearn_mean_list, parameter_setting_list)):\n",
    "        result_dict = {\n",
    "                             'DHDT mean (mean)': dhdt_mean,\n",
    "                             'DHDT max (mean)': dhdt_max_mean,\n",
    "                             'sklearn mean': sklearn_mean,\n",
    "                             'parameters': parameter_setting\n",
    "                            }\n",
    "\n",
    "        hpo_results_synthetic.append(result_dict)\n",
    "\n",
    "    display(hpo_results_synthetic[:5])\n",
    "    \n",
    "    \n",
    "    "
   ]
  },
  {
   "cell_type": "code",
   "execution_count": null,
   "id": "7af8512c-cb73-43ac-811a-d7d334db97ee",
   "metadata": {
    "tags": []
   },
   "outputs": [],
   "source": [
    "if False:\n",
    "    identifier_list = [\n",
    "                        'Adult',#: 32,\n",
    "                        'Bank Marketing',#: 32,\n",
    "                        'Loan Credit',#: 32,\n",
    "\n",
    "                        'Credit Card',#: 23, \n",
    "                        'Car',#: 21,\n",
    "\n",
    "\n",
    "                        'Absenteeism',#: 15,\n",
    "                        'Loan House',#: 15,\n",
    "                        'Cervical Cancer',#: 15,\n",
    "\n",
    "                        'Heart Disease',#: 13,           \n",
    "\n",
    "                        'Titanic',#: 10,\n",
    "                        'Medical Insurance',#: 10,\n",
    "                        'Wisconsin Breast Cancer Original',#: 10,\n",
    "                        'Wisconsin Diagnostic Breast Cancer',#: 10,\n",
    "                        'Wisconsin Prognostic Breast Cancer',#: 10,\n",
    "                        'Abalone',#: 10,\n",
    "\n",
    "                        'Habermans Survival',#: 3, \n",
    "                      ]\n",
    "\n",
    "    hpo_results_real_world = {}\n",
    "\n",
    "    for identifier in identifier_list:\n",
    "        parallel_hpo_real = Parallel(n_jobs=config['computation']['n_jobs'], verbose=3, backend='loky') #loky #sequential multiprocessing\n",
    "        evaluation_results_hpo_real = parallel_hpo_real(delayed(evaluate_parameter_setting_real_world)(parameter_setting, identifier, config, metrics= ['accuracy', 'f1']) for parameter_setting in parameter_grid)\n",
    "\n",
    "        comparator_metric = 'f1'\n",
    "\n",
    "        dhdt_mean_list = [np.mean(evaluation_results_hpo_real[i][0]['DHDT ' + comparator_metric + '_mean']) for i in range(len(parameter_grid))]\n",
    "        dhdt_mean_list = sorted(dhdt_mean_list)\n",
    "\n",
    "        dhdt_max_mean_list = [np.mean(evaluation_results_hpo_real[i][0]['DHDT ' + comparator_metric + '_max']) for i in range(len(parameter_grid))]\n",
    "        dhdt_max_mean_list = [x for _, x in sorted(zip(dhdt_mean_list, dhdt_max_mean_list))]\n",
    "\n",
    "        sklearn_mean_list = [np.mean(evaluation_results_hpo_real[i][0]['sklearn ' + comparator_metric + '_mean']) for i in range(len(parameter_grid))]\n",
    "        sklearn_mean_list = [x for _, x in sorted(zip(dhdt_mean_list, sklearn_mean_list))]\n",
    "\n",
    "        parameter_setting_list = [evaluation_results_hpo_real[i][1] for i in range(len(parameter_grid))]\n",
    "        parameter_setting_list = [x for _, x in sorted(zip(dhdt_mean_list, parameter_setting_list))]\n",
    "\n",
    "        hpo_results_real_world_by_identifer = []\n",
    "        for i, (dhdt_mean, dhdt_max_mean, sklearn_mean, parameter_setting) in enumerate(zip(dhdt_mean_list, dhdt_max_mean_list, sklearn_mean_list, parameter_setting_list)):\n",
    "            result_dict = {\n",
    "                                 'DHDT mean (mean)': dhdt_mean,\n",
    "                                 'DHDT max (mean)': dhdt_max_mean,\n",
    "                                 'sklearn mean': sklearn_mean,\n",
    "                                 'parameters': parameter_setting\n",
    "                                }\n",
    "\n",
    "            hpo_results_real_world_by_identifer.append(result_dict)\n",
    "\n",
    "        hpo_results_real_world[identifier] = hpo_results_real_world_by_identifer\n",
    "\n",
    "        display(hpo_results_real_world_by_identifer[:5])\n",
    "        "
   ]
  },
  {
   "cell_type": "code",
   "execution_count": null,
   "id": "40147db1-760f-432d-ac2c-0267a8256f8a",
   "metadata": {},
   "outputs": [],
   "source": []
  },
  {
   "cell_type": "code",
   "execution_count": null,
   "id": "9358c9e7-58be-4006-b120-6b14f8364122",
   "metadata": {},
   "outputs": [],
   "source": []
  },
  {
   "cell_type": "code",
   "execution_count": null,
   "id": "2eb18776-1d0a-4ec1-a109-7c55b8acbe27",
   "metadata": {},
   "outputs": [],
   "source": []
  }
 ],
 "metadata": {
  "kernelspec": {
   "display_name": "Python 3 (ipykernel)",
   "language": "python",
   "name": "python3"
  },
  "language_info": {
   "codemirror_mode": {
    "name": "ipython",
    "version": 3
   },
   "file_extension": ".py",
   "mimetype": "text/x-python",
   "name": "python",
   "nbconvert_exporter": "python",
   "pygments_lexer": "ipython3",
   "version": "3.8.0"
  }
 },
 "nbformat": 4,
 "nbformat_minor": 5
}
