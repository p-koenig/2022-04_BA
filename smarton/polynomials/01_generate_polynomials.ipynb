{
 "cells": [
  {
   "cell_type": "markdown",
   "metadata": {},
   "source": [
    "# Function Generation for the Training of λ-Nets"
   ]
  },
  {
   "cell_type": "markdown",
   "metadata": {},
   "source": [
    "## Package installation (uncommand first line to install packages at the beginning)"
   ]
  },
  {
   "cell_type": "code",
   "execution_count": 1,
   "metadata": {
    "ExecuteTime": {
     "end_time": "2020-12-13T14:56:25.756371Z",
     "start_time": "2020-12-13T14:56:25.740043Z"
    }
   },
   "outputs": [],
   "source": [
    "%%script false --no-raise-error\n",
    "#if some errors occur during the installation consider using \"sudo pip install\"\n",
    "!pip install numpy\n",
    "!pip install pandas\n",
    "!pip install truth-table-generator\n",
    "!pip install more-itertools\n",
    "!pip install tqdm\n",
    "!pip install joblib\n",
    "!pip install scipy\n",
    "!pip install PrettyTable\n",
    "!pip install colored\n",
    "!pip install scikit-learn\n",
    "!pip install keras\n",
    "!pip install ipython\n",
    "!pip install livelossplot\n",
    "!pip install matplotlib\n",
    "!pip install seaborn\n",
    "!pip install tensorflow\n",
    "!pip install tensorflow-gpu"
   ]
  },
  {
   "cell_type": "markdown",
   "metadata": {
    "ExecuteTime": {
     "end_time": "2020-09-16T12:26:49.061308Z",
     "start_time": "2020-09-16T12:26:49.055692Z"
    }
   },
   "source": [
    "## Specitication of Experiment Settings"
   ]
  },
  {
   "cell_type": "code",
   "execution_count": 2,
   "metadata": {
    "ExecuteTime": {
     "end_time": "2020-12-13T14:56:25.763275Z",
     "start_time": "2020-12-13T14:56:25.759142Z"
    }
   },
   "outputs": [],
   "source": [
    "import math\n",
    "def nCr(n,r):\n",
    "    f = math.factorial\n",
    "    return f(n) // f(r) // f(n-r)"
   ]
  },
  {
   "cell_type": "code",
   "execution_count": 3,
   "metadata": {
    "ExecuteTime": {
     "end_time": "2020-12-13T14:56:25.771888Z",
     "start_time": "2020-12-13T14:56:25.765597Z"
    }
   },
   "outputs": [],
   "source": [
    "d = 3  \n",
    "n = 4\n",
    "sparsity = nCr(n+d, d)\n",
    "\n",
    "\n",
    "x_max = 1 \n",
    "x_min = -1\n",
    "x_step = 0.01\n",
    "a_max = 10 \n",
    "a_min = -10\n",
    "a_step = 0.1\n",
    "\n",
    "n_jobs = -3\n",
    "\n",
    "lambda_dataset_size = 1000 #specify the number of data points to calculate the function values for (determines the lambda net training size)\n",
    "\n",
    "interpretation_dataset_size = 50000 #specifies the number of functions generated (specifies the interpretation-net dataset size)\n",
    "\n",
    "same_training_all_lambda_nets = False\n"
   ]
  },
  {
   "cell_type": "code",
   "execution_count": 4,
   "metadata": {
    "ExecuteTime": {
     "end_time": "2020-12-13T14:56:25.787469Z",
     "start_time": "2020-12-13T14:56:25.775218Z"
    }
   },
   "outputs": [
    {
     "name": "stdout",
     "output_type": "stream",
     "text": [
      "Variables: 4 (abcd)\n",
      "Degree: 3\n",
      "Sparsity: 35\n",
      "Lambda-Net Dataset Size: 1000\n",
      "I-Net Dataset Size: 50000\n",
      "Coefficient Range: [-10, 10]\n",
      "Variable Range: [-1, 1]\n"
     ]
    }
   ],
   "source": [
    "##############DO NOT CHANGE###################\n",
    "variables = 'abcdefghijklmnopqrstuvwxyz'[:n]\n",
    "\n",
    "RANDOM_SEED = 42\n",
    "\n",
    "if same_training_all_lambda_nets:\n",
    "    training_string = '_same'\n",
    "else:\n",
    "    training_string = '_diverse'\n",
    "    \n",
    "print('Variables: ' + str(n) + ' (' + variables + ')')\n",
    "print('Degree: ' + str(d))\n",
    "print('Sparsity: ' + str(sparsity)) \n",
    "print('Lambda-Net Dataset Size: ' + str(lambda_dataset_size))\n",
    "print('I-Net Dataset Size: ' + str(interpretation_dataset_size))\n",
    "      \n",
    "print('Coefficient Range: ' + '[' + str(a_min) + ', ' + str(a_max) + ']')\n",
    "print('Variable Range: ' + '[' + str(x_min) + ', ' + str(x_max) + ']')"
   ]
  },
  {
   "cell_type": "markdown",
   "metadata": {
    "ExecuteTime": {
     "end_time": "2020-09-16T12:26:58.879427Z",
     "start_time": "2020-09-16T12:26:58.874894Z"
    }
   },
   "source": [
    "## Imports"
   ]
  },
  {
   "cell_type": "code",
   "execution_count": 5,
   "metadata": {
    "ExecuteTime": {
     "end_time": "2020-12-13T14:56:27.683491Z",
     "start_time": "2020-12-13T14:56:25.789658Z"
    }
   },
   "outputs": [],
   "source": [
    "import ttg\n",
    "from itertools import product       # forms cartesian products\n",
    "from more_itertools import random_product \n",
    "from tqdm import tqdm_notebook as tqdm\n",
    "import pickle\n",
    "\n",
    "import numpy as np\n",
    "\n",
    "import pandas as pd\n",
    "from joblib import Parallel, delayed\n",
    "\n",
    "import random \n",
    "from random import sample \n",
    "random.seed(42)\n",
    "\n",
    "import os\n",
    "\n",
    "directory_names = ['parameters', 'plotting', 'saved_polynomial_lists', 'results', 'saved_models', 'weights', 'weights_training']\n",
    "if not os.path.exists('./data'):\n",
    "    os.mkdir('./data')\n",
    "for directory_name in directory_names:\n",
    "    path = './data/' + directory_name\n",
    "    if not os.path.exists(path):\n",
    "        os.mkdir(path)\n",
    "        \n",
    "import seaborn as sns\n",
    "sns.set_style(\"darkgrid\")\n",
    "        \n",
    "import random \n",
    "random.seed(RANDOM_SEED)\n",
    "np.random.seed(RANDOM_SEED)\n",
    "\n",
    "\n"
   ]
  },
  {
   "cell_type": "markdown",
   "metadata": {},
   "source": [
    "## Utility functions"
   ]
  },
  {
   "cell_type": "code",
   "execution_count": 6,
   "metadata": {
    "ExecuteTime": {
     "end_time": "2020-12-13T14:56:27.689279Z",
     "start_time": "2020-12-13T14:56:27.685638Z"
    }
   },
   "outputs": [],
   "source": [
    "#test for exact equality\n",
    "def arreq_in_list(myarr, list_arrays):\n",
    "    return next((True for elem in list_arrays if np.array_equal(elem, myarr)), False)"
   ]
  },
  {
   "cell_type": "code",
   "execution_count": 7,
   "metadata": {
    "ExecuteTime": {
     "end_time": "2020-12-13T14:56:27.699041Z",
     "start_time": "2020-12-13T14:56:27.691244Z"
    }
   },
   "outputs": [],
   "source": [
    "ALPHABET = \\\n",
    "  \"0123456789abcdefghijklmnopqrstuvwxyz\"\n",
    "\n",
    "def encode (n):\n",
    "    try:\n",
    "        return ALPHABET [n]\n",
    "    except IndexError:\n",
    "        raise Exception (\"cannot encode: %s\" % n)\n",
    "\n",
    "def dec_to_base (dec = 0, base = 16):\n",
    "    if dec < base:\n",
    "        return encode (dec)\n",
    "    else:\n",
    "        return dec_to_base (dec // base, base) + encode (dec % base)"
   ]
  },
  {
   "cell_type": "markdown",
   "metadata": {
    "ExecuteTime": {
     "end_time": "2020-09-16T12:28:46.853042Z",
     "start_time": "2020-09-16T12:28:46.848346Z"
    }
   },
   "source": [
    "# Function Generation"
   ]
  },
  {
   "cell_type": "code",
   "execution_count": 8,
   "metadata": {
    "ExecuteTime": {
     "end_time": "2020-12-13T14:56:27.767915Z",
     "start_time": "2020-12-13T14:56:27.702080Z"
    }
   },
   "outputs": [
    {
     "data": {
      "application/vnd.jupyter.widget-view+json": {
       "model_id": "c907869f34e941a7a1b12b1152213732",
       "version_major": 2,
       "version_minor": 0
      },
      "text/plain": [
       "HBox(children=(IntProgress(value=0, max=256), HTML(value='')))"
      ]
     },
     "metadata": {},
     "output_type": "display_data"
    },
    {
     "name": "stdout",
     "output_type": "stream",
     "text": [
      "\n",
      "List length: 256\n",
      "Number of monomials in a polynomial with 4 variables and degree 3: 35\n",
      "Sparsity: 35\n",
      "['0000', '0001', '0002', '0003', '0010', '0011', '0012', '0013', '0020', '0021', '0022', '0023', '0030', '0031', '0032', '0033', '0100', '0101', '0102', '0103', '0110', '0111', '0112', '0113', '0120', '0121', '0122', '0123', '0130', '0131', '0132', '0133', '0200', '0201', '0202', '0203', '0210', '0211', '0212', '0213', '0220', '0221', '0222', '0223', '0230', '0231', '0232', '0233', '0300', '0301', '0302', '0303', '0310', '0311', '0312', '0313', '0320', '0321', '0322', '0323', '0330', '0331', '0332', '0333', '1000', '1001', '1002', '1003', '1010', '1011', '1012', '1013', '1020', '1021', '1022', '1023', '1030', '1031', '1032', '1033', '1100', '1101', '1102', '1103', '1110', '1111', '1112', '1113', '1120', '1121', '1122', '1123', '1130', '1131', '1132', '1133', '1200', '1201', '1202', '1203', '1210', '1211', '1212', '1213', '1220', '1221', '1222', '1223', '1230', '1231', '1232', '1233', '1300', '1301', '1302', '1303', '1310', '1311', '1312', '1313', '1320', '1321', '1322', '1323', '1330', '1331', '1332', '1333', '2000', '2001', '2002', '2003', '2010', '2011', '2012', '2013', '2020', '2021', '2022', '2023', '2030', '2031', '2032', '2033', '2100', '2101', '2102', '2103', '2110', '2111', '2112', '2113', '2120', '2121', '2122', '2123', '2130', '2131', '2132', '2133', '2200', '2201', '2202', '2203', '2210', '2211', '2212', '2213', '2220', '2221', '2222', '2223', '2230', '2231', '2232', '2233', '2300', '2301', '2302', '2303', '2310', '2311', '2312', '2313', '2320', '2321', '2322', '2323', '2330', '2331', '2332', '2333', '3000', '3001', '3002', '3003', '3010', '3011', '3012', '3013', '3020', '3021', '3022', '3023', '3030', '3031', '3032', '3033', '3100', '3101', '3102', '3103', '3110', '3111', '3112', '3113', '3120', '3121', '3122', '3123', '3130', '3131', '3132', '3133', '3200', '3201', '3202', '3203', '3210', '3211', '3212', '3213', '3220', '3221', '3222', '3223', '3230', '3231', '3232', '3233', '3300', '3301', '3302', '3303', '3310', '3311', '3312', '3313', '3320', '3321', '3322', '3323', '3330', '3331', '3332', '3333']\n"
     ]
    },
    {
     "data": {
      "application/vnd.jupyter.widget-view+json": {
       "model_id": "04aa5e43ec274ec190202b28a1a7f013",
       "version_major": 2,
       "version_minor": 0
      },
      "text/plain": [
       "HBox(children=(IntProgress(value=0, max=256), HTML(value='')))"
      ]
     },
     "metadata": {},
     "output_type": "display_data"
    },
    {
     "name": "stdout",
     "output_type": "stream",
     "text": [
      "\n",
      "List length: 35\n",
      "Number of monomials in a polynomial with 4 variables and degree 3: 35\n",
      "Sparsity: 35\n",
      "['0000', '0001', '0002', '0003', '0010', '0011', '0012', '0020', '0021', '0030', '0100', '0101', '0102', '0110', '0111', '0120', '0200', '0201', '0210', '0300', '1000', '1001', '1002', '1010', '1011', '1020', '1100', '1101', '1110', '1200', '2000', '2001', '2010', '2100', '3000']\n"
     ]
    }
   ],
   "source": [
    "list_of_monomial_identifiers_extended = []\n",
    "for i in tqdm(range((d+1)**n)):    \n",
    "    monomial_identifier = dec_to_base(i, base = (d+1)).zfill(n) \n",
    "    list_of_monomial_identifiers_extended.append(monomial_identifier)\n",
    "\n",
    "print('List length: ' + str(len(list_of_monomial_identifiers_extended)))\n",
    "print('Number of monomials in a polynomial with ' + str(n) + ' variables and degree ' + str(d) + ': ' + str(nCr(n+d, d)))\n",
    "print('Sparsity: ' + str(sparsity))\n",
    "print(list_of_monomial_identifiers_extended)\n",
    "\n",
    "list_of_monomial_identifiers = []\n",
    "for monomial_identifier in tqdm(list_of_monomial_identifiers_extended):\n",
    "    monomial_identifier_values = list(map(int, list(monomial_identifier)))\n",
    "    if sum(monomial_identifier_values) <= d:\n",
    "        list_of_monomial_identifiers.append(monomial_identifier)\n",
    "\n",
    "print('List length: ' + str(len(list_of_monomial_identifiers)))\n",
    "print('Number of monomials in a polynomial with ' + str(n) + ' variables and degree ' + str(d) + ': ' + str(nCr(n+d, d)))\n",
    "print('Sparsity: ' + str(sparsity))\n",
    "print(list_of_monomial_identifiers)\n"
   ]
  },
  {
   "cell_type": "code",
   "execution_count": 9,
   "metadata": {
    "ExecuteTime": {
     "end_time": "2020-12-13T14:58:23.929477Z",
     "start_time": "2020-12-13T14:56:27.770224Z"
    }
   },
   "outputs": [
    {
     "data": {
      "application/vnd.jupyter.widget-view+json": {
       "model_id": "0d4c9b70d929420e833865619b599c6e",
       "version_major": 2,
       "version_minor": 0
      },
      "text/plain": [
       "HBox(children=(IntProgress(value=0, max=50000), HTML(value='')))"
      ]
     },
     "metadata": {},
     "output_type": "display_data"
    },
    {
     "name": "stdout",
     "output_type": "stream",
     "text": [
      "\n",
      "35\n",
      "(50000, 35)\n"
     ]
    }
   ],
   "source": [
    "list_of_polynomials = []\n",
    "\n",
    "if interpretation_dataset_size/((a_max-a_min)*10**int(-np.log10(a_step)))**(nCr(n+d, d)) <= 10e-4:\n",
    "    while len(list_of_polynomials) < interpretation_dataset_size:\n",
    "        random_polynomial = list(random_product([i*a_step for i in range(int(a_min*10**int(-np.log10(a_step))), int(a_max*10**int(-np.log10(a_step))))], repeat=nCr(n+d, d)))\n",
    "        if random_polynomial not in list_of_polynomials:\n",
    "            list_of_polynomials.append(random_polynomial)\n",
    "else:\n",
    "    all_polynomials_list = list(product([i*a_step for i in range(int(a_min*10**int(-np.log10(a_step))), int(a_max*10**int(-np.log10(a_step))))], repeat=nCr(n+d, d)))\n",
    "    list_of_polynomials = [all_polynomials_list[i] for i in np.random.choice(len(all_polynomials_list), interpretation_dataset_size, replace=False)]\n",
    "    del all_polynomials_list\n",
    "\n",
    "for polynomial in tqdm(list_of_polynomials):\n",
    "    sparsity_indices = np.random.choice(nCr(n+d, d), nCr(n+d, d)-sparsity, replace=False)\n",
    "    for sparsity_index in sparsity_indices:                            \n",
    "        polynomial[sparsity_index] = 0\n",
    "                                \n",
    "polynomials_list_df = pd.DataFrame(data=list_of_polynomials, columns=list_of_monomial_identifiers)\n",
    "\n",
    "    \n",
    "print(len(list_of_monomial_identifiers))\n",
    "print(polynomials_list_df.shape)"
   ]
  },
  {
   "cell_type": "code",
   "execution_count": 10,
   "metadata": {
    "ExecuteTime": {
     "end_time": "2020-12-13T14:58:23.981679Z",
     "start_time": "2020-12-13T14:58:23.931806Z"
    }
   },
   "outputs": [
    {
     "data": {
      "text/html": [
       "<div>\n",
       "<style scoped>\n",
       "    .dataframe tbody tr th:only-of-type {\n",
       "        vertical-align: middle;\n",
       "    }\n",
       "\n",
       "    .dataframe tbody tr th {\n",
       "        vertical-align: top;\n",
       "    }\n",
       "\n",
       "    .dataframe thead th {\n",
       "        text-align: right;\n",
       "    }\n",
       "</style>\n",
       "<table border=\"1\" class=\"dataframe\">\n",
       "  <thead>\n",
       "    <tr style=\"text-align: right;\">\n",
       "      <th></th>\n",
       "      <th>0000</th>\n",
       "      <th>0001</th>\n",
       "      <th>0002</th>\n",
       "      <th>0003</th>\n",
       "      <th>0010</th>\n",
       "      <th>0011</th>\n",
       "      <th>0012</th>\n",
       "      <th>0020</th>\n",
       "      <th>0021</th>\n",
       "      <th>0030</th>\n",
       "      <th>...</th>\n",
       "      <th>1020</th>\n",
       "      <th>1100</th>\n",
       "      <th>1101</th>\n",
       "      <th>1110</th>\n",
       "      <th>1200</th>\n",
       "      <th>2000</th>\n",
       "      <th>2001</th>\n",
       "      <th>2010</th>\n",
       "      <th>2100</th>\n",
       "      <th>3000</th>\n",
       "    </tr>\n",
       "  </thead>\n",
       "  <tbody>\n",
       "    <tr>\n",
       "      <th>0</th>\n",
       "      <td>6.3</td>\n",
       "      <td>-7.2</td>\n",
       "      <td>-9.4</td>\n",
       "      <td>8.9</td>\n",
       "      <td>-3.0</td>\n",
       "      <td>-3.8</td>\n",
       "      <td>-4.3</td>\n",
       "      <td>-6.5</td>\n",
       "      <td>8.8</td>\n",
       "      <td>-7.4</td>\n",
       "      <td>...</td>\n",
       "      <td>-5.0</td>\n",
       "      <td>8.3</td>\n",
       "      <td>6.6</td>\n",
       "      <td>7.9</td>\n",
       "      <td>3.9</td>\n",
       "      <td>0.7</td>\n",
       "      <td>-4.4</td>\n",
       "      <td>1.4</td>\n",
       "      <td>5.0</td>\n",
       "      <td>-2.9</td>\n",
       "    </tr>\n",
       "    <tr>\n",
       "      <th>1</th>\n",
       "      <td>-9.9</td>\n",
       "      <td>9.4</td>\n",
       "      <td>-6.0</td>\n",
       "      <td>7.8</td>\n",
       "      <td>0.8</td>\n",
       "      <td>-1.3</td>\n",
       "      <td>-2.9</td>\n",
       "      <td>-6.1</td>\n",
       "      <td>-4.5</td>\n",
       "      <td>9.5</td>\n",
       "      <td>...</td>\n",
       "      <td>-8.0</td>\n",
       "      <td>4.1</td>\n",
       "      <td>-2.5</td>\n",
       "      <td>6.0</td>\n",
       "      <td>5.8</td>\n",
       "      <td>-0.8</td>\n",
       "      <td>4.7</td>\n",
       "      <td>-5.1</td>\n",
       "      <td>8.0</td>\n",
       "      <td>-8.3</td>\n",
       "    </tr>\n",
       "    <tr>\n",
       "      <th>2</th>\n",
       "      <td>-8.9</td>\n",
       "      <td>6.9</td>\n",
       "      <td>-4.2</td>\n",
       "      <td>9.7</td>\n",
       "      <td>-2.6</td>\n",
       "      <td>-8.0</td>\n",
       "      <td>-4.1</td>\n",
       "      <td>-7.5</td>\n",
       "      <td>-0.3</td>\n",
       "      <td>-2.9</td>\n",
       "      <td>...</td>\n",
       "      <td>-5.7</td>\n",
       "      <td>3.6</td>\n",
       "      <td>8.6</td>\n",
       "      <td>-3.8</td>\n",
       "      <td>-5.9</td>\n",
       "      <td>1.8</td>\n",
       "      <td>-0.3</td>\n",
       "      <td>-3.1</td>\n",
       "      <td>6.3</td>\n",
       "      <td>7.6</td>\n",
       "    </tr>\n",
       "    <tr>\n",
       "      <th>3</th>\n",
       "      <td>4.2</td>\n",
       "      <td>-4.4</td>\n",
       "      <td>7.5</td>\n",
       "      <td>-1.7</td>\n",
       "      <td>9.6</td>\n",
       "      <td>9.8</td>\n",
       "      <td>-8.6</td>\n",
       "      <td>-4.2</td>\n",
       "      <td>-9.2</td>\n",
       "      <td>-2.0</td>\n",
       "      <td>...</td>\n",
       "      <td>-6.5</td>\n",
       "      <td>-3.7</td>\n",
       "      <td>9.0</td>\n",
       "      <td>4.3</td>\n",
       "      <td>3.7</td>\n",
       "      <td>-3.3</td>\n",
       "      <td>9.1</td>\n",
       "      <td>4.9</td>\n",
       "      <td>0.9</td>\n",
       "      <td>4.9</td>\n",
       "    </tr>\n",
       "    <tr>\n",
       "      <th>4</th>\n",
       "      <td>0.2</td>\n",
       "      <td>-0.8</td>\n",
       "      <td>-4.4</td>\n",
       "      <td>-6.5</td>\n",
       "      <td>3.0</td>\n",
       "      <td>2.6</td>\n",
       "      <td>-7.7</td>\n",
       "      <td>9.3</td>\n",
       "      <td>-8.8</td>\n",
       "      <td>-7.2</td>\n",
       "      <td>...</td>\n",
       "      <td>7.4</td>\n",
       "      <td>8.4</td>\n",
       "      <td>-7.1</td>\n",
       "      <td>7.4</td>\n",
       "      <td>3.7</td>\n",
       "      <td>9.2</td>\n",
       "      <td>-3.2</td>\n",
       "      <td>9.6</td>\n",
       "      <td>6.4</td>\n",
       "      <td>-1.3</td>\n",
       "    </tr>\n",
       "  </tbody>\n",
       "</table>\n",
       "<p>5 rows × 35 columns</p>\n",
       "</div>"
      ],
      "text/plain": [
       "   0000  0001  0002  0003  0010  0011  0012  0020  0021  0030  ...  1020  \\\n",
       "0   6.3  -7.2  -9.4   8.9  -3.0  -3.8  -4.3  -6.5   8.8  -7.4  ...  -5.0   \n",
       "1  -9.9   9.4  -6.0   7.8   0.8  -1.3  -2.9  -6.1  -4.5   9.5  ...  -8.0   \n",
       "2  -8.9   6.9  -4.2   9.7  -2.6  -8.0  -4.1  -7.5  -0.3  -2.9  ...  -5.7   \n",
       "3   4.2  -4.4   7.5  -1.7   9.6   9.8  -8.6  -4.2  -9.2  -2.0  ...  -6.5   \n",
       "4   0.2  -0.8  -4.4  -6.5   3.0   2.6  -7.7   9.3  -8.8  -7.2  ...   7.4   \n",
       "\n",
       "   1100  1101  1110  1200  2000  2001  2010  2100  3000  \n",
       "0   8.3   6.6   7.9   3.9   0.7  -4.4   1.4   5.0  -2.9  \n",
       "1   4.1  -2.5   6.0   5.8  -0.8   4.7  -5.1   8.0  -8.3  \n",
       "2   3.6   8.6  -3.8  -5.9   1.8  -0.3  -3.1   6.3   7.6  \n",
       "3  -3.7   9.0   4.3   3.7  -3.3   9.1   4.9   0.9   4.9  \n",
       "4   8.4  -7.1   7.4   3.7   9.2  -3.2   9.6   6.4  -1.3  \n",
       "\n",
       "[5 rows x 35 columns]"
      ]
     },
     "execution_count": 10,
     "metadata": {},
     "output_type": "execute_result"
    }
   ],
   "source": [
    "polynomials_list_df.head()"
   ]
  },
  {
   "cell_type": "code",
   "execution_count": 11,
   "metadata": {
    "ExecuteTime": {
     "end_time": "2020-12-13T14:58:23.989923Z",
     "start_time": "2020-12-13T14:58:23.983423Z"
    }
   },
   "outputs": [],
   "source": [
    "def generate_random_x_values(size, x_max, x_min, x_step, numnber_of_variables):\n",
    "    x_values_list = []\n",
    "    \n",
    "    for j in range(size):\n",
    "        values = np.round(np.array(random_product(np.arange(x_min, x_max, x_step), repeat=numnber_of_variables)), int(-np.log10(x_step)))\n",
    "        while arreq_in_list(values, x_values_list):\n",
    "                values = np.round(np.array(random_product(np.arange(x_min, x_max, x_step), repeat=numnber_of_variables)), int(-np.log10(x_step)))         \n",
    "        x_values_list.append(values)\n",
    "    \n",
    "    return x_values_list\n"
   ]
  },
  {
   "cell_type": "code",
   "execution_count": 12,
   "metadata": {
    "ExecuteTime": {
     "end_time": "2020-12-13T19:52:17.273674Z",
     "start_time": "2020-12-13T14:58:23.991833Z"
    },
    "code_folding": []
   },
   "outputs": [
    {
     "name": "stderr",
     "output_type": "stream",
     "text": [
      "[Parallel(n_jobs=-3)]: Using backend LokyBackend with 22 concurrent workers.\n",
      "[Parallel(n_jobs=-3)]: Done  84 tasks      | elapsed:   34.1s\n",
      "[Parallel(n_jobs=-3)]: Done 244 tasks      | elapsed:  1.5min\n",
      "[Parallel(n_jobs=-3)]: Done 468 tasks      | elapsed:  2.9min\n",
      "[Parallel(n_jobs=-3)]: Done 756 tasks      | elapsed:  4.6min\n",
      "[Parallel(n_jobs=-3)]: Done 1108 tasks      | elapsed:  6.6min\n",
      "[Parallel(n_jobs=-3)]: Done 1524 tasks      | elapsed:  9.1min\n",
      "[Parallel(n_jobs=-3)]: Done 2004 tasks      | elapsed: 11.9min\n",
      "[Parallel(n_jobs=-3)]: Done 2548 tasks      | elapsed: 15.1min\n",
      "[Parallel(n_jobs=-3)]: Done 3156 tasks      | elapsed: 18.8min\n",
      "[Parallel(n_jobs=-3)]: Done 3828 tasks      | elapsed: 22.7min\n",
      "[Parallel(n_jobs=-3)]: Done 4564 tasks      | elapsed: 27.1min\n",
      "[Parallel(n_jobs=-3)]: Done 5364 tasks      | elapsed: 31.8min\n",
      "[Parallel(n_jobs=-3)]: Done 6228 tasks      | elapsed: 36.9min\n",
      "[Parallel(n_jobs=-3)]: Done 7156 tasks      | elapsed: 42.4min\n",
      "[Parallel(n_jobs=-3)]: Done 8148 tasks      | elapsed: 48.3min\n",
      "[Parallel(n_jobs=-3)]: Done 9204 tasks      | elapsed: 54.5min\n",
      "[Parallel(n_jobs=-3)]: Done 10324 tasks      | elapsed: 61.2min\n",
      "[Parallel(n_jobs=-3)]: Done 11508 tasks      | elapsed: 68.2min\n",
      "[Parallel(n_jobs=-3)]: Done 12756 tasks      | elapsed: 75.5min\n",
      "[Parallel(n_jobs=-3)]: Done 14068 tasks      | elapsed: 83.3min\n",
      "[Parallel(n_jobs=-3)]: Done 15444 tasks      | elapsed: 91.4min\n",
      "[Parallel(n_jobs=-3)]: Done 16884 tasks      | elapsed: 100.0min\n",
      "[Parallel(n_jobs=-3)]: Done 18388 tasks      | elapsed: 108.9min\n",
      "[Parallel(n_jobs=-3)]: Done 19956 tasks      | elapsed: 118.1min\n",
      "[Parallel(n_jobs=-3)]: Done 21588 tasks      | elapsed: 127.8min\n",
      "[Parallel(n_jobs=-3)]: Done 23284 tasks      | elapsed: 137.8min\n",
      "[Parallel(n_jobs=-3)]: Done 25044 tasks      | elapsed: 148.2min\n",
      "[Parallel(n_jobs=-3)]: Done 26868 tasks      | elapsed: 159.0min\n",
      "[Parallel(n_jobs=-3)]: Done 28756 tasks      | elapsed: 170.2min\n",
      "[Parallel(n_jobs=-3)]: Done 30708 tasks      | elapsed: 181.5min\n",
      "[Parallel(n_jobs=-3)]: Done 32724 tasks      | elapsed: 193.3min\n",
      "[Parallel(n_jobs=-3)]: Done 34804 tasks      | elapsed: 205.4min\n",
      "[Parallel(n_jobs=-3)]: Done 36948 tasks      | elapsed: 217.9min\n",
      "[Parallel(n_jobs=-3)]: Done 39156 tasks      | elapsed: 230.7min\n",
      "[Parallel(n_jobs=-3)]: Done 41428 tasks      | elapsed: 244.0min\n",
      "[Parallel(n_jobs=-3)]: Done 43764 tasks      | elapsed: 257.6min\n",
      "[Parallel(n_jobs=-3)]: Done 46164 tasks      | elapsed: 271.6min\n",
      "[Parallel(n_jobs=-3)]: Done 48628 tasks      | elapsed: 285.9min\n",
      "[Parallel(n_jobs=-3)]: Done 50000 out of 50000 | elapsed: 293.9min finished\n"
     ]
    }
   ],
   "source": [
    "if same_training_all_lambda_nets:\n",
    "    x_values = generate_random_x_values(lambda_dataset_size, x_max, x_min, x_step, n)\n",
    "    x_values_list = [x_values for _ in range(interpretation_dataset_size)]\n",
    "else:\n",
    "    parallel = Parallel(n_jobs=n_jobs, verbose=3, backend='loky')\n",
    "    x_values_list = parallel(delayed(generate_random_x_values)(lambda_dataset_size, x_max, x_min, x_step, n) for _ in range(interpretation_dataset_size))\n",
    "    del parallel\n"
   ]
  },
  {
   "cell_type": "code",
   "execution_count": 13,
   "metadata": {
    "ExecuteTime": {
     "end_time": "2020-12-13T19:52:17.290837Z",
     "start_time": "2020-12-13T19:52:17.277545Z"
    }
   },
   "outputs": [],
   "source": [
    "from functools import reduce\n",
    "\n",
    "def calcualate_function_with_data(coefficient_list, variable_values):\n",
    "    \n",
    "    result = 0    \n",
    "    for coefficient_value, coefficient_multipliers in zip(coefficient_list, list_of_monomial_identifiers):\n",
    "        partial_results = [variable_value**int(coefficient_multiplier) for coefficient_multiplier, variable_value in zip(coefficient_multipliers, variable_values)]\n",
    "        \n",
    "        result += coefficient_value * reduce(lambda x, y: x*y, partial_results)\n",
    "\n",
    "    return result, variable_values\n",
    " \n",
    "def calculate_function_values_from_polynomial(true_value_test, evaluation_dataset):\n",
    "    if isinstance(true_value_test, pd.DataFrame):\n",
    "        true_value_test = true_value_test.values\n",
    "        \n",
    "    true_value_fv = []\n",
    "    true_value_coeff = []\n",
    "    \n",
    "    for evaluation in evaluation_dataset:\n",
    "        true_function_value, true_coeff = calcualate_function_with_data(true_value_test, evaluation)\n",
    "       \n",
    "        true_value_fv.append(true_function_value) \n",
    "        true_value_coeff.append(true_coeff)\n",
    "        \n",
    "    return [true_value_test, pd.DataFrame(np.array(true_value_coeff))], [true_value_test, pd.DataFrame(np.array(true_value_fv))]\n"
   ]
  },
  {
   "cell_type": "code",
   "execution_count": 14,
   "metadata": {
    "ExecuteTime": {
     "end_time": "2020-12-13T20:36:38.017662Z",
     "start_time": "2020-12-13T19:52:17.292381Z"
    }
   },
   "outputs": [
    {
     "data": {
      "application/vnd.jupyter.widget-view+json": {
       "model_id": "ecc6ef613cf94125be75dec020151a91",
       "version_major": 2,
       "version_minor": 0
      },
      "text/plain": [
       "HBox(children=(IntProgress(value=0, max=50), HTML(value='')))"
      ]
     },
     "metadata": {},
     "output_type": "display_data"
    },
    {
     "name": "stderr",
     "output_type": "stream",
     "text": [
      "[Parallel(n_jobs=-3)]: Using backend LokyBackend with 22 concurrent workers.\n",
      "[Parallel(n_jobs=-3)]: Done  84 tasks      | elapsed:    5.0s\n",
      "[Parallel(n_jobs=-3)]: Done 244 tasks      | elapsed:   16.9s\n",
      "[Parallel(n_jobs=-3)]: Done 468 tasks      | elapsed:   28.3s\n",
      "[Parallel(n_jobs=-3)]: Done 756 tasks      | elapsed:   45.5s\n",
      "[Parallel(n_jobs=-3)]: Done 1000 out of 1000 | elapsed:  1.0min finished\n",
      "[Parallel(n_jobs=-3)]: Using backend LokyBackend with 22 concurrent workers.\n",
      "[Parallel(n_jobs=-3)]: Done  84 tasks      | elapsed:    4.5s\n",
      "[Parallel(n_jobs=-3)]: Done 244 tasks      | elapsed:   12.5s\n",
      "[Parallel(n_jobs=-3)]: Done 468 tasks      | elapsed:   27.2s\n",
      "[Parallel(n_jobs=-3)]: Done 756 tasks      | elapsed:   41.6s\n",
      "[Parallel(n_jobs=-3)]: Done 1000 out of 1000 | elapsed:   59.3s finished\n",
      "[Parallel(n_jobs=-3)]: Using backend LokyBackend with 22 concurrent workers.\n",
      "[Parallel(n_jobs=-3)]: Done  84 tasks      | elapsed:    4.6s\n",
      "[Parallel(n_jobs=-3)]: Done 244 tasks      | elapsed:   14.6s\n",
      "[Parallel(n_jobs=-3)]: Done 468 tasks      | elapsed:   25.9s\n",
      "[Parallel(n_jobs=-3)]: Done 756 tasks      | elapsed:   42.7s\n",
      "[Parallel(n_jobs=-3)]: Done 1000 out of 1000 | elapsed:   54.9s finished\n",
      "[Parallel(n_jobs=-3)]: Using backend LokyBackend with 22 concurrent workers.\n",
      "[Parallel(n_jobs=-3)]: Done  84 tasks      | elapsed:    4.5s\n",
      "[Parallel(n_jobs=-3)]: Done 244 tasks      | elapsed:   12.4s\n",
      "[Parallel(n_jobs=-3)]: Done 468 tasks      | elapsed:   27.5s\n",
      "[Parallel(n_jobs=-3)]: Done 756 tasks      | elapsed:   42.0s\n",
      "[Parallel(n_jobs=-3)]: Done 1000 out of 1000 | elapsed:   56.9s finished\n",
      "[Parallel(n_jobs=-3)]: Using backend LokyBackend with 22 concurrent workers.\n",
      "[Parallel(n_jobs=-3)]: Done  84 tasks      | elapsed:    4.5s\n",
      "[Parallel(n_jobs=-3)]: Done 244 tasks      | elapsed:   12.5s\n",
      "[Parallel(n_jobs=-3)]: Done 468 tasks      | elapsed:   27.1s\n",
      "[Parallel(n_jobs=-3)]: Done 756 tasks      | elapsed:   41.4s\n",
      "[Parallel(n_jobs=-3)]: Done 1000 out of 1000 | elapsed:   53.5s finished\n",
      "[Parallel(n_jobs=-3)]: Using backend LokyBackend with 22 concurrent workers.\n",
      "[Parallel(n_jobs=-3)]: Done  84 tasks      | elapsed:    7.1s\n",
      "[Parallel(n_jobs=-3)]: Done 244 tasks      | elapsed:   15.1s\n",
      "[Parallel(n_jobs=-3)]: Done 468 tasks      | elapsed:   26.5s\n",
      "[Parallel(n_jobs=-3)]: Done 756 tasks      | elapsed:   44.4s\n",
      "[Parallel(n_jobs=-3)]: Done 1000 out of 1000 | elapsed:   56.5s finished\n",
      "[Parallel(n_jobs=-3)]: Using backend LokyBackend with 22 concurrent workers.\n",
      "[Parallel(n_jobs=-3)]: Done  84 tasks      | elapsed:    4.5s\n",
      "[Parallel(n_jobs=-3)]: Done 244 tasks      | elapsed:   12.5s\n",
      "[Parallel(n_jobs=-3)]: Done 468 tasks      | elapsed:   28.8s\n",
      "[Parallel(n_jobs=-3)]: Done 756 tasks      | elapsed:   43.5s\n",
      "[Parallel(n_jobs=-3)]: Done 1000 out of 1000 | elapsed:   55.7s finished\n",
      "[Parallel(n_jobs=-3)]: Using backend LokyBackend with 22 concurrent workers.\n",
      "[Parallel(n_jobs=-3)]: Done  84 tasks      | elapsed:    8.3s\n",
      "[Parallel(n_jobs=-3)]: Done 244 tasks      | elapsed:   16.3s\n",
      "[Parallel(n_jobs=-3)]: Done 468 tasks      | elapsed:   27.5s\n",
      "[Parallel(n_jobs=-3)]: Done 756 tasks      | elapsed:   41.9s\n",
      "[Parallel(n_jobs=-3)]: Done 1000 out of 1000 | elapsed:   56.9s finished\n",
      "[Parallel(n_jobs=-3)]: Using backend LokyBackend with 22 concurrent workers.\n",
      "[Parallel(n_jobs=-3)]: Done  84 tasks      | elapsed:    4.5s\n",
      "[Parallel(n_jobs=-3)]: Done 244 tasks      | elapsed:   12.5s\n",
      "[Parallel(n_jobs=-3)]: Done 468 tasks      | elapsed:   24.0s\n",
      "[Parallel(n_jobs=-3)]: Done 756 tasks      | elapsed:   41.8s\n",
      "[Parallel(n_jobs=-3)]: Done 1000 out of 1000 | elapsed:   53.9s finished\n",
      "[Parallel(n_jobs=-3)]: Using backend LokyBackend with 22 concurrent workers.\n",
      "[Parallel(n_jobs=-3)]: Done  84 tasks      | elapsed:    4.7s\n",
      "[Parallel(n_jobs=-3)]: Done 244 tasks      | elapsed:   12.8s\n",
      "[Parallel(n_jobs=-3)]: Done 468 tasks      | elapsed:   23.9s\n",
      "[Parallel(n_jobs=-3)]: Done 756 tasks      | elapsed:   41.2s\n",
      "[Parallel(n_jobs=-3)]: Done 1000 out of 1000 | elapsed:   53.2s finished\n",
      "[Parallel(n_jobs=-3)]: Using backend LokyBackend with 22 concurrent workers.\n",
      "[Parallel(n_jobs=-3)]: Done  84 tasks      | elapsed:    4.6s\n",
      "[Parallel(n_jobs=-3)]: Done 244 tasks      | elapsed:   12.7s\n",
      "[Parallel(n_jobs=-3)]: Done 468 tasks      | elapsed:   27.1s\n",
      "[Parallel(n_jobs=-3)]: Done 756 tasks      | elapsed:   41.4s\n",
      "[Parallel(n_jobs=-3)]: Done 1000 out of 1000 | elapsed:   53.4s finished\n",
      "[Parallel(n_jobs=-3)]: Using backend LokyBackend with 22 concurrent workers.\n",
      "[Parallel(n_jobs=-3)]: Done  84 tasks      | elapsed:    4.6s\n",
      "[Parallel(n_jobs=-3)]: Done 244 tasks      | elapsed:   12.4s\n",
      "[Parallel(n_jobs=-3)]: Done 468 tasks      | elapsed:   26.4s\n",
      "[Parallel(n_jobs=-3)]: Done 756 tasks      | elapsed:   40.9s\n",
      "[Parallel(n_jobs=-3)]: Done 1000 out of 1000 | elapsed:   53.4s finished\n",
      "[Parallel(n_jobs=-3)]: Using backend LokyBackend with 22 concurrent workers.\n",
      "[Parallel(n_jobs=-3)]: Done  84 tasks      | elapsed:    4.6s\n",
      "[Parallel(n_jobs=-3)]: Done 244 tasks      | elapsed:   12.9s\n",
      "[Parallel(n_jobs=-3)]: Done 468 tasks      | elapsed:   26.8s\n",
      "[Parallel(n_jobs=-3)]: Done 756 tasks      | elapsed:   41.4s\n",
      "[Parallel(n_jobs=-3)]: Done 1000 out of 1000 | elapsed:   53.7s finished\n",
      "[Parallel(n_jobs=-3)]: Using backend LokyBackend with 22 concurrent workers.\n",
      "[Parallel(n_jobs=-3)]: Done  84 tasks      | elapsed:    4.6s\n",
      "[Parallel(n_jobs=-3)]: Done 244 tasks      | elapsed:   12.6s\n",
      "[Parallel(n_jobs=-3)]: Done 468 tasks      | elapsed:   27.5s\n",
      "[Parallel(n_jobs=-3)]: Done 756 tasks      | elapsed:   42.1s\n",
      "[Parallel(n_jobs=-3)]: Done 1000 out of 1000 | elapsed:   54.2s finished\n",
      "[Parallel(n_jobs=-3)]: Using backend LokyBackend with 22 concurrent workers.\n",
      "[Parallel(n_jobs=-3)]: Done  84 tasks      | elapsed:    4.5s\n",
      "[Parallel(n_jobs=-3)]: Done 244 tasks      | elapsed:   12.6s\n",
      "[Parallel(n_jobs=-3)]: Done 468 tasks      | elapsed:   26.8s\n",
      "[Parallel(n_jobs=-3)]: Done 756 tasks      | elapsed:   41.3s\n",
      "[Parallel(n_jobs=-3)]: Done 1000 out of 1000 | elapsed:   53.5s finished\n",
      "[Parallel(n_jobs=-3)]: Using backend LokyBackend with 22 concurrent workers.\n",
      "[Parallel(n_jobs=-3)]: Done  84 tasks      | elapsed:    4.5s\n",
      "[Parallel(n_jobs=-3)]: Done 244 tasks      | elapsed:   12.6s\n",
      "[Parallel(n_jobs=-3)]: Done 468 tasks      | elapsed:   23.7s\n",
      "[Parallel(n_jobs=-3)]: Done 756 tasks      | elapsed:   42.0s\n",
      "[Parallel(n_jobs=-3)]: Done 1000 out of 1000 | elapsed:   54.1s finished\n",
      "[Parallel(n_jobs=-3)]: Using backend LokyBackend with 22 concurrent workers.\n",
      "[Parallel(n_jobs=-3)]: Done  84 tasks      | elapsed:    4.5s\n",
      "[Parallel(n_jobs=-3)]: Done 244 tasks      | elapsed:   12.6s\n",
      "[Parallel(n_jobs=-3)]: Done 468 tasks      | elapsed:   24.1s\n",
      "[Parallel(n_jobs=-3)]: Done 756 tasks      | elapsed:   38.5s\n",
      "[Parallel(n_jobs=-3)]: Done 1000 out of 1000 | elapsed:   54.0s finished\n",
      "[Parallel(n_jobs=-3)]: Using backend LokyBackend with 22 concurrent workers.\n",
      "[Parallel(n_jobs=-3)]: Done  84 tasks      | elapsed:    4.5s\n",
      "[Parallel(n_jobs=-3)]: Done 244 tasks      | elapsed:   12.5s\n",
      "[Parallel(n_jobs=-3)]: Done 468 tasks      | elapsed:   23.8s\n",
      "[Parallel(n_jobs=-3)]: Done 1000 out of 1000 | elapsed:   50.5s finished\n",
      "[Parallel(n_jobs=-3)]: Using backend LokyBackend with 22 concurrent workers.\n",
      "[Parallel(n_jobs=-3)]: Done  84 tasks      | elapsed:    4.5s\n",
      "[Parallel(n_jobs=-3)]: Done 244 tasks      | elapsed:   16.3s\n",
      "[Parallel(n_jobs=-3)]: Done 468 tasks      | elapsed:   27.6s\n",
      "[Parallel(n_jobs=-3)]: Done 756 tasks      | elapsed:   42.3s\n",
      "[Parallel(n_jobs=-3)]: Done 1000 out of 1000 | elapsed:   54.5s finished\n",
      "[Parallel(n_jobs=-3)]: Using backend LokyBackend with 22 concurrent workers.\n",
      "[Parallel(n_jobs=-3)]: Done  84 tasks      | elapsed:    4.5s\n",
      "[Parallel(n_jobs=-3)]: Done 244 tasks      | elapsed:   12.5s\n",
      "[Parallel(n_jobs=-3)]: Done 468 tasks      | elapsed:   23.7s\n",
      "[Parallel(n_jobs=-3)]: Done 756 tasks      | elapsed:   41.3s\n",
      "[Parallel(n_jobs=-3)]: Done 1000 out of 1000 | elapsed:   53.7s finished\n",
      "[Parallel(n_jobs=-3)]: Using backend LokyBackend with 22 concurrent workers.\n",
      "[Parallel(n_jobs=-3)]: Done  84 tasks      | elapsed:    4.5s\n",
      "[Parallel(n_jobs=-3)]: Done 244 tasks      | elapsed:   12.9s\n",
      "[Parallel(n_jobs=-3)]: Done 468 tasks      | elapsed:   24.4s\n",
      "[Parallel(n_jobs=-3)]: Done 756 tasks      | elapsed:   38.9s\n"
     ]
    },
    {
     "name": "stderr",
     "output_type": "stream",
     "text": [
      "[Parallel(n_jobs=-3)]: Done 1000 out of 1000 | elapsed:   55.2s finished\n",
      "[Parallel(n_jobs=-3)]: Using backend LokyBackend with 22 concurrent workers.\n",
      "[Parallel(n_jobs=-3)]: Done  84 tasks      | elapsed:    4.5s\n",
      "[Parallel(n_jobs=-3)]: Done 244 tasks      | elapsed:   12.5s\n",
      "[Parallel(n_jobs=-3)]: Done 468 tasks      | elapsed:   23.9s\n",
      "[Parallel(n_jobs=-3)]: Done 756 tasks      | elapsed:   38.5s\n",
      "[Parallel(n_jobs=-3)]: Done 1000 out of 1000 | elapsed:   50.8s finished\n",
      "[Parallel(n_jobs=-3)]: Using backend LokyBackend with 22 concurrent workers.\n",
      "[Parallel(n_jobs=-3)]: Done  84 tasks      | elapsed:    4.5s\n",
      "[Parallel(n_jobs=-3)]: Done 244 tasks      | elapsed:   12.4s\n",
      "[Parallel(n_jobs=-3)]: Done 468 tasks      | elapsed:   23.8s\n",
      "[Parallel(n_jobs=-3)]: Done 756 tasks      | elapsed:   41.3s\n",
      "[Parallel(n_jobs=-3)]: Done 1000 out of 1000 | elapsed:   53.5s finished\n",
      "[Parallel(n_jobs=-3)]: Using backend LokyBackend with 22 concurrent workers.\n",
      "[Parallel(n_jobs=-3)]: Done  84 tasks      | elapsed:    4.4s\n",
      "[Parallel(n_jobs=-3)]: Done 244 tasks      | elapsed:   12.5s\n",
      "[Parallel(n_jobs=-3)]: Done 468 tasks      | elapsed:   23.7s\n",
      "[Parallel(n_jobs=-3)]: Done 756 tasks      | elapsed:   38.2s\n",
      "[Parallel(n_jobs=-3)]: Done 1000 out of 1000 | elapsed:   50.6s finished\n",
      "[Parallel(n_jobs=-3)]: Using backend LokyBackend with 22 concurrent workers.\n",
      "[Parallel(n_jobs=-3)]: Done  84 tasks      | elapsed:    8.3s\n",
      "[Parallel(n_jobs=-3)]: Done 244 tasks      | elapsed:   16.5s\n",
      "[Parallel(n_jobs=-3)]: Done 468 tasks      | elapsed:   27.6s\n",
      "[Parallel(n_jobs=-3)]: Done 756 tasks      | elapsed:   42.0s\n",
      "[Parallel(n_jobs=-3)]: Done 1000 out of 1000 | elapsed:   54.2s finished\n",
      "[Parallel(n_jobs=-3)]: Using backend LokyBackend with 22 concurrent workers.\n",
      "[Parallel(n_jobs=-3)]: Done  84 tasks      | elapsed:    4.7s\n",
      "[Parallel(n_jobs=-3)]: Done 244 tasks      | elapsed:   12.7s\n",
      "[Parallel(n_jobs=-3)]: Done 468 tasks      | elapsed:   24.0s\n",
      "[Parallel(n_jobs=-3)]: Done 756 tasks      | elapsed:   43.5s\n",
      "[Parallel(n_jobs=-3)]: Done 1000 out of 1000 | elapsed:   56.0s finished\n",
      "[Parallel(n_jobs=-3)]: Using backend LokyBackend with 22 concurrent workers.\n",
      "[Parallel(n_jobs=-3)]: Done  84 tasks      | elapsed:    4.5s\n",
      "[Parallel(n_jobs=-3)]: Done 244 tasks      | elapsed:   12.5s\n",
      "[Parallel(n_jobs=-3)]: Done 468 tasks      | elapsed:   23.8s\n",
      "[Parallel(n_jobs=-3)]: Done 756 tasks      | elapsed:   38.3s\n",
      "[Parallel(n_jobs=-3)]: Done 1000 out of 1000 | elapsed:   50.5s finished\n",
      "[Parallel(n_jobs=-3)]: Using backend LokyBackend with 22 concurrent workers.\n",
      "[Parallel(n_jobs=-3)]: Done  84 tasks      | elapsed:    4.4s\n",
      "[Parallel(n_jobs=-3)]: Done 244 tasks      | elapsed:   12.4s\n",
      "[Parallel(n_jobs=-3)]: Done 468 tasks      | elapsed:   23.6s\n",
      "[Parallel(n_jobs=-3)]: Done 756 tasks      | elapsed:   40.9s\n",
      "[Parallel(n_jobs=-3)]: Done 1000 out of 1000 | elapsed:   53.2s finished\n",
      "[Parallel(n_jobs=-3)]: Using backend LokyBackend with 22 concurrent workers.\n",
      "[Parallel(n_jobs=-3)]: Done  84 tasks      | elapsed:    4.5s\n",
      "[Parallel(n_jobs=-3)]: Done 244 tasks      | elapsed:   12.4s\n",
      "[Parallel(n_jobs=-3)]: Done 468 tasks      | elapsed:   23.8s\n",
      "[Parallel(n_jobs=-3)]: Done 756 tasks      | elapsed:   38.3s\n",
      "[Parallel(n_jobs=-3)]: Done 1000 out of 1000 | elapsed:   50.5s finished\n",
      "[Parallel(n_jobs=-3)]: Using backend LokyBackend with 22 concurrent workers.\n",
      "[Parallel(n_jobs=-3)]: Done  84 tasks      | elapsed:    4.6s\n",
      "[Parallel(n_jobs=-3)]: Done 244 tasks      | elapsed:   12.6s\n",
      "[Parallel(n_jobs=-3)]: Done 468 tasks      | elapsed:   26.7s\n",
      "[Parallel(n_jobs=-3)]: Done 756 tasks      | elapsed:   41.2s\n",
      "[Parallel(n_jobs=-3)]: Done 1000 out of 1000 | elapsed:   53.6s finished\n",
      "[Parallel(n_jobs=-3)]: Using backend LokyBackend with 22 concurrent workers.\n",
      "[Parallel(n_jobs=-3)]: Done  84 tasks      | elapsed:    4.5s\n",
      "[Parallel(n_jobs=-3)]: Done 244 tasks      | elapsed:   12.5s\n",
      "[Parallel(n_jobs=-3)]: Done 468 tasks      | elapsed:   23.8s\n",
      "[Parallel(n_jobs=-3)]: Done 756 tasks      | elapsed:   38.2s\n",
      "[Parallel(n_jobs=-3)]: Done 1000 out of 1000 | elapsed:   50.5s finished\n",
      "[Parallel(n_jobs=-3)]: Using backend LokyBackend with 22 concurrent workers.\n",
      "[Parallel(n_jobs=-3)]: Done  84 tasks      | elapsed:    4.6s\n",
      "[Parallel(n_jobs=-3)]: Done 244 tasks      | elapsed:   12.6s\n",
      "[Parallel(n_jobs=-3)]: Done 468 tasks      | elapsed:   26.6s\n",
      "[Parallel(n_jobs=-3)]: Done 756 tasks      | elapsed:   41.0s\n",
      "[Parallel(n_jobs=-3)]: Done 1000 out of 1000 | elapsed:   53.3s finished\n",
      "[Parallel(n_jobs=-3)]: Using backend LokyBackend with 22 concurrent workers.\n",
      "[Parallel(n_jobs=-3)]: Done  84 tasks      | elapsed:    4.6s\n",
      "[Parallel(n_jobs=-3)]: Done 244 tasks      | elapsed:   12.5s\n",
      "[Parallel(n_jobs=-3)]: Done 468 tasks      | elapsed:   23.7s\n",
      "[Parallel(n_jobs=-3)]: Done 756 tasks      | elapsed:   38.3s\n",
      "[Parallel(n_jobs=-3)]: Done 1000 out of 1000 | elapsed:   50.5s finished\n",
      "[Parallel(n_jobs=-3)]: Using backend LokyBackend with 22 concurrent workers.\n",
      "[Parallel(n_jobs=-3)]: Done  84 tasks      | elapsed:    4.6s\n",
      "[Parallel(n_jobs=-3)]: Done 244 tasks      | elapsed:   12.8s\n",
      "[Parallel(n_jobs=-3)]: Done 468 tasks      | elapsed:   24.1s\n",
      "[Parallel(n_jobs=-3)]: Done 756 tasks      | elapsed:   41.6s\n",
      "[Parallel(n_jobs=-3)]: Done 1000 out of 1000 | elapsed:   53.7s finished\n",
      "[Parallel(n_jobs=-3)]: Using backend LokyBackend with 22 concurrent workers.\n",
      "[Parallel(n_jobs=-3)]: Done  84 tasks      | elapsed:    4.5s\n",
      "[Parallel(n_jobs=-3)]: Done 244 tasks      | elapsed:   12.6s\n",
      "[Parallel(n_jobs=-3)]: Done 468 tasks      | elapsed:   23.9s\n",
      "[Parallel(n_jobs=-3)]: Done 756 tasks      | elapsed:   38.2s\n",
      "[Parallel(n_jobs=-3)]: Done 1000 out of 1000 | elapsed:   50.5s finished\n",
      "[Parallel(n_jobs=-3)]: Using backend LokyBackend with 22 concurrent workers.\n",
      "[Parallel(n_jobs=-3)]: Done  84 tasks      | elapsed:    4.5s\n",
      "[Parallel(n_jobs=-3)]: Done 244 tasks      | elapsed:   12.5s\n",
      "[Parallel(n_jobs=-3)]: Done 468 tasks      | elapsed:   23.9s\n",
      "[Parallel(n_jobs=-3)]: Done 756 tasks      | elapsed:   42.9s\n",
      "[Parallel(n_jobs=-3)]: Done 1000 out of 1000 | elapsed:   55.1s finished\n",
      "[Parallel(n_jobs=-3)]: Using backend LokyBackend with 22 concurrent workers.\n",
      "[Parallel(n_jobs=-3)]: Done  84 tasks      | elapsed:    4.5s\n",
      "[Parallel(n_jobs=-3)]: Done 244 tasks      | elapsed:   12.6s\n",
      "[Parallel(n_jobs=-3)]: Done 468 tasks      | elapsed:   23.8s\n",
      "[Parallel(n_jobs=-3)]: Done 756 tasks      | elapsed:   38.4s\n",
      "[Parallel(n_jobs=-3)]: Done 1000 out of 1000 | elapsed:   50.8s finished\n",
      "[Parallel(n_jobs=-3)]: Using backend LokyBackend with 22 concurrent workers.\n",
      "[Parallel(n_jobs=-3)]: Done  84 tasks      | elapsed:    4.5s\n",
      "[Parallel(n_jobs=-3)]: Done 244 tasks      | elapsed:   12.6s\n",
      "[Parallel(n_jobs=-3)]: Done 468 tasks      | elapsed:   23.9s\n",
      "[Parallel(n_jobs=-3)]: Done 756 tasks      | elapsed:   38.6s\n",
      "[Parallel(n_jobs=-3)]: Done 1000 out of 1000 | elapsed:   50.8s finished\n",
      "[Parallel(n_jobs=-3)]: Using backend LokyBackend with 22 concurrent workers.\n",
      "[Parallel(n_jobs=-3)]: Done  84 tasks      | elapsed:    8.1s\n",
      "[Parallel(n_jobs=-3)]: Done 244 tasks      | elapsed:   16.3s\n",
      "[Parallel(n_jobs=-3)]: Done 468 tasks      | elapsed:   27.5s\n",
      "[Parallel(n_jobs=-3)]: Done 756 tasks      | elapsed:   42.0s\n",
      "[Parallel(n_jobs=-3)]: Done 1000 out of 1000 | elapsed:   54.2s finished\n",
      "[Parallel(n_jobs=-3)]: Using backend LokyBackend with 22 concurrent workers.\n",
      "[Parallel(n_jobs=-3)]: Done  84 tasks      | elapsed:    4.5s\n",
      "[Parallel(n_jobs=-3)]: Done 244 tasks      | elapsed:   12.4s\n",
      "[Parallel(n_jobs=-3)]: Done 468 tasks      | elapsed:   23.7s\n",
      "[Parallel(n_jobs=-3)]: Done 756 tasks      | elapsed:   38.2s\n",
      "[Parallel(n_jobs=-3)]: Done 1000 out of 1000 | elapsed:   50.4s finished\n",
      "[Parallel(n_jobs=-3)]: Using backend LokyBackend with 22 concurrent workers.\n",
      "[Parallel(n_jobs=-3)]: Done  84 tasks      | elapsed:    4.5s\n",
      "[Parallel(n_jobs=-3)]: Done 244 tasks      | elapsed:   12.5s\n",
      "[Parallel(n_jobs=-3)]: Done 468 tasks      | elapsed:   27.0s\n",
      "[Parallel(n_jobs=-3)]: Done 756 tasks      | elapsed:   41.3s\n",
      "[Parallel(n_jobs=-3)]: Done 1000 out of 1000 | elapsed:   53.1s finished\n",
      "[Parallel(n_jobs=-3)]: Using backend LokyBackend with 22 concurrent workers.\n",
      "[Parallel(n_jobs=-3)]: Done  84 tasks      | elapsed:    4.4s\n",
      "[Parallel(n_jobs=-3)]: Done 244 tasks      | elapsed:   12.4s\n"
     ]
    },
    {
     "name": "stderr",
     "output_type": "stream",
     "text": [
      "[Parallel(n_jobs=-3)]: Done 468 tasks      | elapsed:   23.4s\n",
      "[Parallel(n_jobs=-3)]: Done 756 tasks      | elapsed:   37.9s\n",
      "[Parallel(n_jobs=-3)]: Done 1000 out of 1000 | elapsed:   49.9s finished\n",
      "[Parallel(n_jobs=-3)]: Using backend LokyBackend with 22 concurrent workers.\n",
      "[Parallel(n_jobs=-3)]: Done  84 tasks      | elapsed:    4.5s\n",
      "[Parallel(n_jobs=-3)]: Done 244 tasks      | elapsed:   12.4s\n",
      "[Parallel(n_jobs=-3)]: Done 468 tasks      | elapsed:   23.5s\n",
      "[Parallel(n_jobs=-3)]: Done 756 tasks      | elapsed:   37.9s\n",
      "[Parallel(n_jobs=-3)]: Done 1000 out of 1000 | elapsed:   50.2s finished\n",
      "[Parallel(n_jobs=-3)]: Using backend LokyBackend with 22 concurrent workers.\n",
      "[Parallel(n_jobs=-3)]: Done  84 tasks      | elapsed:    7.6s\n",
      "[Parallel(n_jobs=-3)]: Done 244 tasks      | elapsed:   15.6s\n",
      "[Parallel(n_jobs=-3)]: Done 468 tasks      | elapsed:   26.7s\n",
      "[Parallel(n_jobs=-3)]: Done 756 tasks      | elapsed:   41.3s\n",
      "[Parallel(n_jobs=-3)]: Done 1000 out of 1000 | elapsed:   53.4s finished\n",
      "[Parallel(n_jobs=-3)]: Using backend LokyBackend with 22 concurrent workers.\n",
      "[Parallel(n_jobs=-3)]: Done  84 tasks      | elapsed:    4.5s\n",
      "[Parallel(n_jobs=-3)]: Done 244 tasks      | elapsed:   12.6s\n",
      "[Parallel(n_jobs=-3)]: Done 468 tasks      | elapsed:   23.7s\n",
      "[Parallel(n_jobs=-3)]: Done 756 tasks      | elapsed:   38.2s\n",
      "[Parallel(n_jobs=-3)]: Done 1000 out of 1000 | elapsed:   50.4s finished\n",
      "[Parallel(n_jobs=-3)]: Using backend LokyBackend with 22 concurrent workers.\n",
      "[Parallel(n_jobs=-3)]: Done  84 tasks      | elapsed:    4.5s\n",
      "[Parallel(n_jobs=-3)]: Done 244 tasks      | elapsed:   12.5s\n",
      "[Parallel(n_jobs=-3)]: Done 468 tasks      | elapsed:   23.9s\n",
      "[Parallel(n_jobs=-3)]: Done 756 tasks      | elapsed:   41.5s\n",
      "[Parallel(n_jobs=-3)]: Done 1000 out of 1000 | elapsed:   53.7s finished\n",
      "[Parallel(n_jobs=-3)]: Using backend LokyBackend with 22 concurrent workers.\n",
      "[Parallel(n_jobs=-3)]: Done  84 tasks      | elapsed:    4.6s\n",
      "[Parallel(n_jobs=-3)]: Done 244 tasks      | elapsed:   12.6s\n",
      "[Parallel(n_jobs=-3)]: Done 468 tasks      | elapsed:   23.8s\n",
      "[Parallel(n_jobs=-3)]: Done 756 tasks      | elapsed:   38.4s\n",
      "[Parallel(n_jobs=-3)]: Done 1000 out of 1000 | elapsed:   50.7s finished\n",
      "[Parallel(n_jobs=-3)]: Using backend LokyBackend with 22 concurrent workers.\n",
      "[Parallel(n_jobs=-3)]: Done  84 tasks      | elapsed:    4.6s\n",
      "[Parallel(n_jobs=-3)]: Done 244 tasks      | elapsed:   12.6s\n",
      "[Parallel(n_jobs=-3)]: Done 468 tasks      | elapsed:   23.8s\n",
      "[Parallel(n_jobs=-3)]: Done 756 tasks      | elapsed:   38.3s\n",
      "[Parallel(n_jobs=-3)]: Done 1000 out of 1000 | elapsed:   50.4s finished\n",
      "[Parallel(n_jobs=-3)]: Using backend LokyBackend with 22 concurrent workers.\n",
      "[Parallel(n_jobs=-3)]: Done  84 tasks      | elapsed:    4.5s\n",
      "[Parallel(n_jobs=-3)]: Done 244 tasks      | elapsed:   12.7s\n",
      "[Parallel(n_jobs=-3)]: Done 468 tasks      | elapsed:   23.9s\n",
      "[Parallel(n_jobs=-3)]: Done 756 tasks      | elapsed:   41.7s\n",
      "[Parallel(n_jobs=-3)]: Done 1000 out of 1000 | elapsed:   54.0s finished\n",
      "[Parallel(n_jobs=-3)]: Using backend LokyBackend with 22 concurrent workers.\n",
      "[Parallel(n_jobs=-3)]: Done  84 tasks      | elapsed:    4.5s\n",
      "[Parallel(n_jobs=-3)]: Done 244 tasks      | elapsed:   12.5s\n",
      "[Parallel(n_jobs=-3)]: Done 468 tasks      | elapsed:   23.7s\n",
      "[Parallel(n_jobs=-3)]: Done 756 tasks      | elapsed:   38.2s\n"
     ]
    },
    {
     "name": "stdout",
     "output_type": "stream",
     "text": [
      "\n"
     ]
    },
    {
     "name": "stderr",
     "output_type": "stream",
     "text": [
      "[Parallel(n_jobs=-3)]: Done 1000 out of 1000 | elapsed:   50.4s finished\n"
     ]
    }
   ],
   "source": [
    "result_list = []\n",
    "\n",
    "polynomials_X_data_list = []\n",
    "polynomials_y_data_list = []\n",
    "    \n",
    "chunks = max(interpretation_dataset_size//1000, 1)\n",
    "\n",
    "for polynomials_list_df_chunk in tqdm(np.array_split(polynomials_list_df, chunks), total=chunks):\n",
    "    parallel = Parallel(n_jobs=n_jobs, verbose=3, backend='loky')\n",
    "    result_sublist = parallel(delayed(calculate_function_values_from_polynomial)(polynomial, x_values) for (_, polynomial), x_values in zip(polynomials_list_df_chunk.iterrows(), x_values_list))  \n",
    "    result_list.extend(result_sublist)\n",
    "    del parallel\n",
    "\n",
    "polynomials_X_data_list = [result[0] for result in result_list]\n",
    "polynomials_y_data_list = [result[1] for result in result_list]\n"
   ]
  },
  {
   "cell_type": "code",
   "execution_count": 15,
   "metadata": {
    "ExecuteTime": {
     "end_time": "2020-12-13T20:36:38.026210Z",
     "start_time": "2020-12-13T20:36:38.019767Z"
    }
   },
   "outputs": [
    {
     "data": {
      "text/plain": [
       "0000    6.3\n",
       "0001   -7.2\n",
       "0002   -9.4\n",
       "0003    8.9\n",
       "0010   -3.0\n",
       "Name: 0, dtype: float64"
      ]
     },
     "execution_count": 15,
     "metadata": {},
     "output_type": "execute_result"
    }
   ],
   "source": [
    "polynomials_X_data_list[0][0].head()"
   ]
  },
  {
   "cell_type": "code",
   "execution_count": 16,
   "metadata": {
    "ExecuteTime": {
     "end_time": "2020-12-13T20:36:38.045701Z",
     "start_time": "2020-12-13T20:36:38.028050Z"
    }
   },
   "outputs": [
    {
     "data": {
      "text/html": [
       "<div>\n",
       "<style scoped>\n",
       "    .dataframe tbody tr th:only-of-type {\n",
       "        vertical-align: middle;\n",
       "    }\n",
       "\n",
       "    .dataframe tbody tr th {\n",
       "        vertical-align: top;\n",
       "    }\n",
       "\n",
       "    .dataframe thead th {\n",
       "        text-align: right;\n",
       "    }\n",
       "</style>\n",
       "<table border=\"1\" class=\"dataframe\">\n",
       "  <thead>\n",
       "    <tr style=\"text-align: right;\">\n",
       "      <th></th>\n",
       "      <th>0</th>\n",
       "      <th>1</th>\n",
       "      <th>2</th>\n",
       "      <th>3</th>\n",
       "    </tr>\n",
       "  </thead>\n",
       "  <tbody>\n",
       "    <tr>\n",
       "      <th>0</th>\n",
       "      <td>0.67</td>\n",
       "      <td>0.46</td>\n",
       "      <td>-0.83</td>\n",
       "      <td>-0.26</td>\n",
       "    </tr>\n",
       "    <tr>\n",
       "      <th>1</th>\n",
       "      <td>-0.71</td>\n",
       "      <td>0.77</td>\n",
       "      <td>0.17</td>\n",
       "      <td>-0.70</td>\n",
       "    </tr>\n",
       "    <tr>\n",
       "      <th>2</th>\n",
       "      <td>0.93</td>\n",
       "      <td>0.66</td>\n",
       "      <td>0.24</td>\n",
       "      <td>0.66</td>\n",
       "    </tr>\n",
       "    <tr>\n",
       "      <th>3</th>\n",
       "      <td>-0.97</td>\n",
       "      <td>-0.40</td>\n",
       "      <td>0.66</td>\n",
       "      <td>-0.97</td>\n",
       "    </tr>\n",
       "    <tr>\n",
       "      <th>4</th>\n",
       "      <td>0.12</td>\n",
       "      <td>0.36</td>\n",
       "      <td>0.00</td>\n",
       "      <td>0.10</td>\n",
       "    </tr>\n",
       "  </tbody>\n",
       "</table>\n",
       "</div>"
      ],
      "text/plain": [
       "      0     1     2     3\n",
       "0  0.67  0.46 -0.83 -0.26\n",
       "1 -0.71  0.77  0.17 -0.70\n",
       "2  0.93  0.66  0.24  0.66\n",
       "3 -0.97 -0.40  0.66 -0.97\n",
       "4  0.12  0.36  0.00  0.10"
      ]
     },
     "execution_count": 16,
     "metadata": {},
     "output_type": "execute_result"
    }
   ],
   "source": [
    "polynomials_X_data_list[0][1].head()"
   ]
  },
  {
   "cell_type": "code",
   "execution_count": 17,
   "metadata": {
    "ExecuteTime": {
     "end_time": "2020-12-13T20:36:38.052067Z",
     "start_time": "2020-12-13T20:36:38.047460Z"
    }
   },
   "outputs": [
    {
     "data": {
      "text/plain": [
       "array([ 6.3, -7.2, -9.4,  8.9, -3. , -3.8, -4.3, -6.5,  8.8, -7.4,  7.3,\n",
       "        8.9,  3.9, -7.8,  5.1,  0.8, -9.2, -9.3, -7.7, -4.5, -4.1,  2.9,\n",
       "        5.4, -9.4,  4.3, -5. ,  8.3,  6.6,  7.9,  3.9,  0.7, -4.4,  1.4,\n",
       "        5. , -2.9])"
      ]
     },
     "execution_count": 17,
     "metadata": {},
     "output_type": "execute_result"
    }
   ],
   "source": [
    "polynomials_y_data_list[0][0].values"
   ]
  },
  {
   "cell_type": "code",
   "execution_count": 18,
   "metadata": {
    "ExecuteTime": {
     "end_time": "2020-12-13T20:36:38.058851Z",
     "start_time": "2020-12-13T20:36:38.053902Z"
    }
   },
   "outputs": [
    {
     "data": {
      "text/plain": [
       "0000    6.3\n",
       "0001   -7.2\n",
       "0002   -9.4\n",
       "0003    8.9\n",
       "0010   -3.0\n",
       "Name: 0, dtype: float64"
      ]
     },
     "execution_count": 18,
     "metadata": {},
     "output_type": "execute_result"
    }
   ],
   "source": [
    "polynomials_y_data_list[0][0].head()"
   ]
  },
  {
   "cell_type": "code",
   "execution_count": 19,
   "metadata": {
    "ExecuteTime": {
     "end_time": "2020-12-13T20:36:38.067361Z",
     "start_time": "2020-12-13T20:36:38.060681Z"
    }
   },
   "outputs": [
    {
     "data": {
      "text/html": [
       "<div>\n",
       "<style scoped>\n",
       "    .dataframe tbody tr th:only-of-type {\n",
       "        vertical-align: middle;\n",
       "    }\n",
       "\n",
       "    .dataframe tbody tr th {\n",
       "        vertical-align: top;\n",
       "    }\n",
       "\n",
       "    .dataframe thead th {\n",
       "        text-align: right;\n",
       "    }\n",
       "</style>\n",
       "<table border=\"1\" class=\"dataframe\">\n",
       "  <thead>\n",
       "    <tr style=\"text-align: right;\">\n",
       "      <th></th>\n",
       "      <th>0</th>\n",
       "    </tr>\n",
       "  </thead>\n",
       "  <tbody>\n",
       "    <tr>\n",
       "      <th>0</th>\n",
       "      <td>14.661718</td>\n",
       "    </tr>\n",
       "    <tr>\n",
       "      <th>1</th>\n",
       "      <td>3.953022</td>\n",
       "    </tr>\n",
       "    <tr>\n",
       "      <th>2</th>\n",
       "      <td>6.302612</td>\n",
       "    </tr>\n",
       "    <tr>\n",
       "      <th>3</th>\n",
       "      <td>8.200437</td>\n",
       "    </tr>\n",
       "    <tr>\n",
       "      <th>4</th>\n",
       "      <td>6.956198</td>\n",
       "    </tr>\n",
       "  </tbody>\n",
       "</table>\n",
       "</div>"
      ],
      "text/plain": [
       "           0\n",
       "0  14.661718\n",
       "1   3.953022\n",
       "2   6.302612\n",
       "3   8.200437\n",
       "4   6.956198"
      ]
     },
     "execution_count": 19,
     "metadata": {},
     "output_type": "execute_result"
    }
   ],
   "source": [
    "polynomials_y_data_list[0][1].head()"
   ]
  },
  {
   "cell_type": "code",
   "execution_count": 20,
   "metadata": {
    "ExecuteTime": {
     "end_time": "2020-12-13T20:36:38.081224Z",
     "start_time": "2020-12-13T20:36:38.068999Z"
    }
   },
   "outputs": [
    {
     "data": {
      "text/plain": [
       "[0000    6.3\n",
       " 0001   -7.2\n",
       " 0002   -9.4\n",
       " 0003    8.9\n",
       " 0010   -3.0\n",
       " 0011   -3.8\n",
       " 0012   -4.3\n",
       " 0020   -6.5\n",
       " 0021    8.8\n",
       " 0030   -7.4\n",
       " 0100    7.3\n",
       " 0101    8.9\n",
       " 0102    3.9\n",
       " 0110   -7.8\n",
       " 0111    5.1\n",
       " 0120    0.8\n",
       " 0200   -9.2\n",
       " 0201   -9.3\n",
       " 0210   -7.7\n",
       " 0300   -4.5\n",
       " 1000   -4.1\n",
       " 1001    2.9\n",
       " 1002    5.4\n",
       " 1010   -9.4\n",
       " 1011    4.3\n",
       " 1020   -5.0\n",
       " 1100    8.3\n",
       " 1101    6.6\n",
       " 1110    7.9\n",
       " 1200    3.9\n",
       " 2000    0.7\n",
       " 2001   -4.4\n",
       " 2010    1.4\n",
       " 2100    5.0\n",
       " 3000   -2.9\n",
       " Name: 0, dtype: float64,         0     1     2     3\n",
       " 0    0.67  0.46 -0.83 -0.26\n",
       " 1   -0.71  0.77  0.17 -0.70\n",
       " 2    0.93  0.66  0.24  0.66\n",
       " 3   -0.97 -0.40  0.66 -0.97\n",
       " 4    0.12  0.36  0.00  0.10\n",
       " 5    0.50 -0.26  0.08  0.50\n",
       " 6   -0.92 -0.49  0.34  0.01\n",
       " 7   -0.17  0.56  0.60  0.55\n",
       " 8   -0.22  0.80  0.63 -0.18\n",
       " 9    0.00  0.50 -0.81 -0.84\n",
       " 10  -0.29  0.93  0.11 -0.43\n",
       " 11   0.96  0.73  0.34  0.68\n",
       " 12  -0.57  0.90 -0.01  0.73\n",
       " 13   0.50 -0.03  0.79 -0.81\n",
       " 14   0.78  0.63 -0.88  0.86\n",
       " 15  -0.72  0.43  0.72 -0.64\n",
       " 16  -0.89 -0.38 -0.82  0.25\n",
       " 17  -0.73 -0.20  0.70 -0.22\n",
       " 18  -0.36 -0.94  0.13  0.69\n",
       " 19  -0.37 -0.96 -0.22 -0.34\n",
       " 20   0.37 -0.21  0.95  0.17\n",
       " 21   0.16 -0.15 -0.92 -0.59\n",
       " 22   0.61 -0.84 -0.89  0.16\n",
       " 23   0.98  0.46 -0.30  0.77\n",
       " 24   0.21  0.90  0.92 -0.14\n",
       " 25   0.43  0.18  0.43  0.25\n",
       " 26  -0.87 -0.22 -0.47 -0.11\n",
       " 27   0.62 -0.53  0.00 -0.24\n",
       " 28   0.24  0.78  0.56  0.38\n",
       " 29  -0.95 -0.41 -0.90  0.45\n",
       " ..    ...   ...   ...   ...\n",
       " 970 -0.36 -0.21  0.16 -0.36\n",
       " 971  0.88 -0.63 -0.55 -0.79\n",
       " 972  0.46 -0.79 -0.56  0.33\n",
       " 973 -0.72  0.96  0.21  0.48\n",
       " 974 -0.81  0.96 -0.66  0.60\n",
       " 975 -0.28  0.87  0.60 -0.26\n",
       " 976 -0.44 -0.31  0.74 -0.73\n",
       " 977 -0.97 -0.75  0.48  0.95\n",
       " 978 -0.48 -0.10  0.00 -0.84\n",
       " 979  0.60  0.63 -0.36 -0.20\n",
       " 980 -0.87 -0.63 -0.19  0.64\n",
       " 981  0.82  0.32 -0.70 -0.55\n",
       " 982  0.73  0.28 -0.11 -0.13\n",
       " 983 -0.94 -0.34 -0.30 -1.00\n",
       " 984 -0.79 -0.58 -0.40 -0.99\n",
       " 985  0.64  0.43  0.28  0.78\n",
       " 986  0.43 -0.46 -0.06  0.37\n",
       " 987 -0.67 -0.28 -0.10 -0.81\n",
       " 988 -0.67 -0.41 -0.13 -0.78\n",
       " 989 -0.38 -0.90  0.18  0.40\n",
       " 990  0.30 -0.37 -0.13  0.22\n",
       " 991 -0.76 -0.98  0.69  0.58\n",
       " 992  0.90  0.96 -0.60  0.22\n",
       " 993  0.04 -0.49 -0.91  0.94\n",
       " 994  0.02 -0.91 -0.39 -0.17\n",
       " 995  0.23 -0.74 -0.55  0.75\n",
       " 996  0.77  0.00 -0.27  0.04\n",
       " 997 -0.89 -0.12 -0.75  0.45\n",
       " 998  0.07  0.71 -0.97  0.85\n",
       " 999 -0.88 -0.30  0.31 -0.34\n",
       " \n",
       " [1000 rows x 4 columns]]"
      ]
     },
     "execution_count": 20,
     "metadata": {},
     "output_type": "execute_result"
    }
   ],
   "source": [
    "polynomials_X_data_list[0]"
   ]
  },
  {
   "cell_type": "code",
   "execution_count": 21,
   "metadata": {
    "ExecuteTime": {
     "end_time": "2020-12-13T20:36:38.091798Z",
     "start_time": "2020-12-13T20:36:38.084102Z"
    }
   },
   "outputs": [
    {
     "data": {
      "text/plain": [
       "[0000    6.3\n",
       " 0001   -7.2\n",
       " 0002   -9.4\n",
       " 0003    8.9\n",
       " 0010   -3.0\n",
       " 0011   -3.8\n",
       " 0012   -4.3\n",
       " 0020   -6.5\n",
       " 0021    8.8\n",
       " 0030   -7.4\n",
       " 0100    7.3\n",
       " 0101    8.9\n",
       " 0102    3.9\n",
       " 0110   -7.8\n",
       " 0111    5.1\n",
       " 0120    0.8\n",
       " 0200   -9.2\n",
       " 0201   -9.3\n",
       " 0210   -7.7\n",
       " 0300   -4.5\n",
       " 1000   -4.1\n",
       " 1001    2.9\n",
       " 1002    5.4\n",
       " 1010   -9.4\n",
       " 1011    4.3\n",
       " 1020   -5.0\n",
       " 1100    8.3\n",
       " 1101    6.6\n",
       " 1110    7.9\n",
       " 1200    3.9\n",
       " 2000    0.7\n",
       " 2001   -4.4\n",
       " 2010    1.4\n",
       " 2100    5.0\n",
       " 3000   -2.9\n",
       " Name: 0, dtype: float64,              0\n",
       " 0    14.661718\n",
       " 1     3.953022\n",
       " 2     6.302612\n",
       " 3     8.200437\n",
       " 4     6.956198\n",
       " 5    -6.581010\n",
       " 6    11.923238\n",
       " 7    -6.362121\n",
       " 8    -8.584200\n",
       " 9     4.654631\n",
       " 10    0.259567\n",
       " 11    5.217461\n",
       " 12  -10.123614\n",
       " 13  -20.200336\n",
       " 14   26.590206\n",
       " 15    2.004164\n",
       " 16    1.850709\n",
       " 17   12.643647\n",
       " 18  -23.190265\n",
       " 19    1.615688\n",
       " 20  -18.353971\n",
       " 21    1.929509\n",
       " 22   -5.786751\n",
       " 23   11.668215\n",
       " 24  -23.921728\n",
       " 25   -0.555257\n",
       " 26    7.607420\n",
       " 27   -2.122959\n",
       " 28   -6.888349\n",
       " 29    0.719346\n",
       " ..         ...\n",
       " 970   8.795200\n",
       " 971  -1.026691\n",
       " 972 -10.402039\n",
       " 973 -13.213263\n",
       " 974   3.398227\n",
       " 975  -9.745019\n",
       " 976   0.883917\n",
       " 977 -22.797806\n",
       " 978   2.813618\n",
       " 979  12.675276\n",
       " 980 -10.998375\n",
       " 981  10.530444\n",
       " 982   7.935961\n",
       " 983  -4.126516\n",
       " 984  -9.086224\n",
       " 985   3.089677\n",
       " 986  -7.641527\n",
       " 987   3.744011\n",
       " 988   3.383782\n",
       " 989 -12.528927\n",
       " 990  -1.924886\n",
       " 991 -18.401995\n",
       " 992  18.347891\n",
       " 993   2.022009\n",
       " 994  -1.625298\n",
       " 995 -14.044775\n",
       " 996   3.887319\n",
       " 997   5.022565\n",
       " 998  25.256515\n",
       " 999  16.404864\n",
       " \n",
       " [1000 rows x 1 columns]]"
      ]
     },
     "execution_count": 21,
     "metadata": {},
     "output_type": "execute_result"
    }
   ],
   "source": [
    "polynomials_y_data_list[0]"
   ]
  },
  {
   "cell_type": "code",
   "execution_count": 22,
   "metadata": {
    "ExecuteTime": {
     "end_time": "2020-12-13T20:37:41.723782Z",
     "start_time": "2020-12-13T20:36:38.093666Z"
    }
   },
   "outputs": [],
   "source": [
    "path_polynomials = './data/saved_polynomial_lists/polynomials_sample' + str(interpretation_dataset_size) + '_variables_' + str(n) +  '_degree_' + str(d) + '_sparsity_' + str(sparsity) + '_astep_' + str(a_step)  + '_amin_' + str(a_min) + '_amax_' + str(a_max) + '.csv'\n",
    "polynomials_list_df.to_csv(path_polynomials, index=False)\n",
    "\n",
    "path_X_data = './data/saved_polynomial_lists/X_sample' + str(interpretation_dataset_size) + '_train_' + str(lambda_dataset_size) + '_variables_' + str(n) + '_degree_' + str(d) + '_sparsity_' + str(sparsity) + '_astep_' + str(a_step) + '_amin_' + str(a_min) + '_amax_' + str(a_max) + '_xstep_' + str(x_step) + '_xmin_' + str(x_min) + '_xmax_' + str(x_max) + training_string + '.pkl'\n",
    "with open(path_X_data, 'wb') as f:\n",
    "    pickle.dump(polynomials_X_data_list, f)#, protocol=2)\n",
    "    \n",
    "path_y_data = './data/saved_polynomial_lists/y_sample' + str(interpretation_dataset_size) + '_train_' + str(lambda_dataset_size) + '_variables_' + str(n) + '_degree_' + str(d) + '_sparsity_' + str(sparsity) + '_astep_' + str(a_step) + '_amin_' + str(a_min) + '_amax_' + str(a_max) + '_xstep_' + str(x_step) + '_xmin_' + str(x_min) + '_xmax_' + str(x_max) + training_string + '.pkl'\n",
    "with open(path_y_data, 'wb') as f:\n",
    "    pickle.dump(polynomials_y_data_list, f)#, protocol=2)\n"
   ]
  },
  {
   "cell_type": "code",
   "execution_count": null,
   "metadata": {},
   "outputs": [],
   "source": []
  }
 ],
 "metadata": {
  "kernelspec": {
   "display_name": "Python 3",
   "language": "python",
   "name": "python3"
  },
  "language_info": {
   "codemirror_mode": {
    "name": "ipython",
    "version": 3
   },
   "file_extension": ".py",
   "mimetype": "text/x-python",
   "name": "python",
   "nbconvert_exporter": "python",
   "pygments_lexer": "ipython3",
   "version": "3.6.8"
  }
 },
 "nbformat": 4,
 "nbformat_minor": 2
}
