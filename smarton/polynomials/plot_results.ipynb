{
 "cells": [
  {
   "cell_type": "code",
   "execution_count": 28,
   "id": "stuck-office",
   "metadata": {},
   "outputs": [],
   "source": [
    "import numpy as np\n",
    "import pandas as pd \n",
    "import matplotlib.pyplot as plt\n",
    "\n",
    "import seaborn as sns\n",
    "\n",
    "sns.set_style(\"darkgrid\")\n"
   ]
  },
  {
   "cell_type": "code",
   "execution_count": 25,
   "id": "decreased-community",
   "metadata": {},
   "outputs": [],
   "source": [
    "lambda_net_results_d3_n5_noNoise = {'mae': 0.013, 'r2': 0.995, 'std_error': 0.017}\n",
    "lambda_net_results_d3_n5_Noise01 = {'mae': 0.018, 'r2': 0.990, 'std_error': 0.023}\n",
    "lambda_net_results_d3_n5_Noise02 = {'mae': 0, 'r2': 0, 'std_error': 0}\n",
    "lambda_net_results_d3_n5_Noise03 = {'mae': 0.027, 'r2': 0.979, 'std_error': 0.035}\n",
    "\n",
    "lambda_net_results_d3_n10_noNoise = {'mae': 0.025, 'r2': 0.988, 'std_error': 0.034}\n",
    "lambda_net_results_d3_n10_Noise01 = {'mae': 0, 'r2': 0, 'std_error': 0}\n",
    "lambda_net_results_d3_n10_Noise02 = {'mae': 0, 'r2': 0, 'std_error': 0}\n",
    "lambda_net_results_d3_n10_Noise03 = {'mae': 0, 'r2': 0, 'std_error': 0}\n",
    "\n",
    "lambda_net_results_d3_n15_noNoise = {'mae': 0, 'r2': 0, 'std_error': 0}\n",
    "lambda_net_results_d3_n15_Noise01 = {'mae': 0, 'r2': 0, 'std_error': 0}\n",
    "lambda_net_results_d3_n15_Noise02 = {'mae': 0, 'r2': 0, 'std_error': 0}\n",
    "lambda_net_results_d3_n15_Noise03 = {'mae': 0, 'r2': 0, 'std_error': 0}\n"
   ]
  },
  {
   "cell_type": "code",
   "execution_count": 9,
   "id": "approved-client",
   "metadata": {},
   "outputs": [],
   "source": [
    "inet_results_d3_n5_noNoise = {'mae': 0.140, 'r2': 0.452, 'std_error': 0.175}\n",
    "inet_results_d3_n5_Noise01 = {'mae': 0.146, 'r2': 0.335, 'std_error': 0.173}\n",
    "inet_results_d3_n5_Noise02 = {'mae': 0, 'r2': 0, 'std_error': 0}\n",
    "inet_results_d3_n5_Noise03 = {'mae': 0.152, 'r2': 0.333, 'std_error': 0.175}\n",
    "\n",
    "#inet_results_d3_n10_noNoise_outputSparsity5 = {'mae': 0.233, 'r2': 0.136, 'std_error': 0.288}\n",
    "inet_results_d3_n10_noNoise = {'mae': 0.230, 'r2': 0.112, 'std_error': 0.283}\n",
    "inet_results_d3_n10_Noise01 = {'mae': 0, 'r2': 0, 'std_error': 0}\n",
    "inet_results_d3_n10_Noise02 = {'mae': 0, 'r2': 0, 'std_error': 0}\n",
    "inet_results_d3_n10_Noise03 = {'mae': 0, 'r2': 0, 'std_error': 0}\n",
    "\n",
    "inet_results_d3_n15_noNoise = {'mae': 0, 'r2': 0, 'std_error': 0}\n",
    "inet_results_d3_n15_Noise01 = {'mae': 0, 'r2': 0, 'std_error': 0}\n",
    "inet_results_d3_n15_Noise02 = {'mae': 0, 'r2': 0, 'std_error': 0}\n",
    "inet_results_d3_n15_Noise03 = {'mae': 0, 'r2': 0, 'std_error': 0}\n"
   ]
  },
  {
   "cell_type": "code",
   "execution_count": 10,
   "id": "senior-undergraduate",
   "metadata": {},
   "outputs": [],
   "source": [
    "inet_train_time_d3_n5_noNoise = {'lambda_net_training': 0, 'interpretation_net_training': 78240, 'application': 0}\n",
    "inet_train_time_d3_n5_Noise01 = {'lambda_net_training': 0, 'interpretation_net_training': 0, 'application': 0}\n",
    "inet_train_time_d3_n5_Noise02 = {'lambda_net_training': 0, 'interpretation_net_training': 0, 'application': 0}\n",
    "inet_train_time_d3_n5_Noise03 = {'lambda_net_training': 0, 'interpretation_net_training': 0, 'application': 0}\n",
    "\n",
    "inet_train_time_d3_n10_noNoise = {'lambda_net_training': 0, 'interpretation_net_training': 154560, 'application': 0}\n",
    "inet_train_time_d3_n10_Noise01 = {'lambda_net_training': 0, 'interpretation_net_training': 0, 'application': 0}\n",
    "inet_train_time_d3_n10_Noise02 = {'lambda_net_training': 0, 'interpretation_net_training': 0, 'application': 0}\n",
    "inet_train_time_d3_n10_Noise03 = {'lambda_net_training': 0, 'interpretation_net_training': 0, 'application': 0}\n",
    "\n",
    "inet_train_time_d3_n15_noNoise = {'lambda_net_training': 0, 'interpretation_net_training': 419220, 'application': 0}\n",
    "inet_train_time_d3_n15_Noise01 = {'lambda_net_training': 0, 'interpretation_net_training': 0, 'application': 0}\n",
    "inet_train_time_d3_n15_Noise02 = {'lambda_net_training': 0, 'interpretation_net_training': 0, 'application': 0}\n",
    "inet_train_time_d3_n15_Noise03 = {'lambda_net_training': 0, 'interpretation_net_training': 0, 'application': 0}\n"
   ]
  },
  {
   "cell_type": "code",
   "execution_count": 11,
   "id": "threatened-preview",
   "metadata": {},
   "outputs": [],
   "source": [
    "symbolic_regression_results_d3_n5_noNoise = {'mae': 0.103, 'r2': 0.629, 'std_error': 0.135}\n",
    "symbolic_regression_results_d3_n5_Noise01 = {'mae': 0.104, 'r2': 0.545, 'std_error': 0.139}\n",
    "symbolic_regression_results_d3_n5_Noise02 = {'mae': 0, 'r2': 0, 'std_error': 0}\n",
    "symbolic_regression_results_d3_n5_Noise03 = {'mae': 0.107, 'r2': 0.532, 'std_error': 0.141}\n",
    "\n",
    "#symbolic_regression_results_d3_n10_noNoise_outputSparsity5 = {'mae': 0.180, 'r2': 0.452, 'std_error': 0.229}\n",
    "symbolic_regression_results_d3_n10_noNoise = {'mae': 0.180, 'r2': 0.448, 'std_error': 0.230}\n",
    "symbolic_regression_results_d3_n10_Noise01 = {'mae': 0, 'r2': 0, 'std_error': 0}\n",
    "symbolic_regression_results_d3_n10_Noise02 = {'mae': 0, 'r2': 0, 'std_error': 0}\n",
    "symbolic_regression_results_d3_n10_Noise03 = {'mae': 0, 'r2': 0, 'std_error': 0}\n",
    "\n",
    "symbolic_regression_results_d3_n15_noNoise = {'mae': 0, 'r2': 0, 'std_error': 0}\n",
    "symbolic_regression_results_d3_n15_Noise01 = {'mae': 0, 'r2': 0, 'std_error': 0}\n",
    "symbolic_regression_results_d3_n15_Noise02 = {'mae': 0, 'r2': 0, 'std_error': 0}\n",
    "symbolic_regression_results_d3_n15_Noise03 = {'mae': 0, 'r2': 0, 'std_error': 0}"
   ]
  },
  {
   "cell_type": "code",
   "execution_count": 12,
   "id": "original-vanilla",
   "metadata": {},
   "outputs": [],
   "source": [
    "#average time for a single network interpretation in seconds\n",
    "symbolic_regression_train_time_d3_n5_noNoise = {'application': 135}\n",
    "symbolic_regression_train_time_d3_n5_Noise01 = {'application': 182}\n",
    "symbolic_regression_train_time_d3_n5_Noise02 = {'application': 0}\n",
    "symbolic_regression_train_time_d3_n5_Noise03 = {'application': 134}\n",
    "\n",
    "symbolic_regression_train_time_d3_n10_noNoise = {'application': 153}\n",
    "symbolic_regression_train_time_d3_n10_Noise01 = {'application': 0}\n",
    "symbolic_regression_train_time_d3_n10_Noise02 = {'application': 0}\n",
    "symbolic_regression_train_time_d3_n10_Noise03 = {'application': 0}\n",
    "\n",
    "symbolic_regression_train_time_d3_n15_noNoise = {'application': 0}\n",
    "symbolic_regression_train_time_d3_n15_Noise01 = {'application': 0}\n",
    "symbolic_regression_train_time_d3_n15_Noise02 = {'application': 0}\n",
    "symbolic_regression_train_time_d3_n15_Noise03 = {'application': 0}\n"
   ]
  },
  {
   "cell_type": "code",
   "execution_count": null,
   "id": "dramatic-deviation",
   "metadata": {},
   "outputs": [],
   "source": [
    "common_labels = ['Interpretation Network', 'Symbolic Regresseion']\n"
   ]
  },
  {
   "cell_type": "code",
   "execution_count": 54,
   "id": "fifty-sending",
   "metadata": {},
   "outputs": [],
   "source": [
    "evaluate_different_variable_numbers = [[inet_results_d3_n5_noNoise['mae'], symbolic_regression_results_d3_n5_noNoise['mae']], \n",
    "                                      [inet_results_d3_n10_noNoise['mae'], symbolic_regression_results_d3_n10_noNoise['mae']], \n",
    "                                      [inet_results_d3_n15_noNoise['mae'], symbolic_regression_results_d3_n15_noNoise['mae']]]\n",
    "evaluate_different_variable_numbers_labels = ['d=5', 'd=10', 'd=15']\n",
    "evaluate_different_variable_numbers_df = pd.DataFrame(evaluate_different_variable_numbers, columns=common_labels, index=evaluate_different_variable_numbers_labels)\n",
    "\n",
    "\n",
    "evaluate_noise_for_fixed_variable_number = [[inet_results_d3_n5_noNoise['mae'], symbolic_regression_results_d3_n5_noNoise['mae']],\n",
    "                                            [inet_results_d3_n5_Noise01['mae'], symbolic_regression_results_d3_n5_Noise01['mae']],\n",
    "                                            [inet_results_d3_n5_Noise02['mae'], symbolic_regression_results_d3_n5_Noise02['mae']],\n",
    "                                            [inet_results_d3_n5_Noise03['mae'], symbolic_regression_results_d3_n5_Noise03['mae']]] \n",
    "evaluate_different_variable_numbers_labels = ['noise=0', 'noise=0.1', 'noise=0.2', 'noise=0.3']\n",
    "evaluate_noise_for_fixed_variable_number_df = pd.DataFrame(evaluate_noise_for_fixed_variable_number, columns=common_labels, index=evaluate_different_variable_numbers_labels)\n"
   ]
  },
  {
   "cell_type": "code",
   "execution_count": null,
   "id": "small-camera",
   "metadata": {},
   "outputs": [],
   "source": []
  },
  {
   "cell_type": "code",
   "execution_count": 55,
   "id": "dangerous-harassment",
   "metadata": {},
   "outputs": [
    {
     "data": {
      "text/html": [
       "<div>\n",
       "<style scoped>\n",
       "    .dataframe tbody tr th:only-of-type {\n",
       "        vertical-align: middle;\n",
       "    }\n",
       "\n",
       "    .dataframe tbody tr th {\n",
       "        vertical-align: top;\n",
       "    }\n",
       "\n",
       "    .dataframe thead th {\n",
       "        text-align: right;\n",
       "    }\n",
       "</style>\n",
       "<table border=\"1\" class=\"dataframe\">\n",
       "  <thead>\n",
       "    <tr style=\"text-align: right;\">\n",
       "      <th></th>\n",
       "      <th>Interpretation Network</th>\n",
       "      <th>Symbolic Regresseion</th>\n",
       "    </tr>\n",
       "  </thead>\n",
       "  <tbody>\n",
       "    <tr>\n",
       "      <th>d=5</th>\n",
       "      <td>0.140</td>\n",
       "      <td>0.103</td>\n",
       "    </tr>\n",
       "    <tr>\n",
       "      <th>d=10</th>\n",
       "      <td>0.233</td>\n",
       "      <td>0.180</td>\n",
       "    </tr>\n",
       "    <tr>\n",
       "      <th>d=15</th>\n",
       "      <td>0.000</td>\n",
       "      <td>0.000</td>\n",
       "    </tr>\n",
       "  </tbody>\n",
       "</table>\n",
       "</div>"
      ],
      "text/plain": [
       "      Interpretation Network  Symbolic Regresseion\n",
       "d=5                    0.140                 0.103\n",
       "d=10                   0.233                 0.180\n",
       "d=15                   0.000                 0.000"
      ]
     },
     "execution_count": 55,
     "metadata": {},
     "output_type": "execute_result"
    }
   ],
   "source": [
    "evaluate_different_variable_numbers_df"
   ]
  },
  {
   "cell_type": "code",
   "execution_count": 77,
   "id": "reduced-prerequisite",
   "metadata": {},
   "outputs": [
    {
     "data": {
      "text/plain": [
       "<matplotlib.legend.Legend at 0x7fd200afa760>"
      ]
     },
     "execution_count": 77,
     "metadata": {},
     "output_type": "execute_result"
    },
    {
     "data": {
      "image/png": "[encoded data removed]",
      "text/plain": [
       "<Figure size 1440x720 with 1 Axes>"
      ]
     },
     "metadata": {},
     "output_type": "display_data"
    }
   ],
   "source": [
    "axes = evaluate_different_variable_numbers_df.plot.bar(color={common_labels[0]:'lightblue', common_labels[1]:'darkblue'}, rot=0, figsize=(20,10), fontsize=16)\n",
    "axes.legend(fontsize=16) # loc=2"
   ]
  },
  {
   "cell_type": "code",
   "execution_count": 57,
   "id": "wooden-stephen",
   "metadata": {},
   "outputs": [
    {
     "data": {
      "text/html": [
       "<div>\n",
       "<style scoped>\n",
       "    .dataframe tbody tr th:only-of-type {\n",
       "        vertical-align: middle;\n",
       "    }\n",
       "\n",
       "    .dataframe tbody tr th {\n",
       "        vertical-align: top;\n",
       "    }\n",
       "\n",
       "    .dataframe thead th {\n",
       "        text-align: right;\n",
       "    }\n",
       "</style>\n",
       "<table border=\"1\" class=\"dataframe\">\n",
       "  <thead>\n",
       "    <tr style=\"text-align: right;\">\n",
       "      <th></th>\n",
       "      <th>Interpretation Network</th>\n",
       "      <th>Symbolic Regresseion</th>\n",
       "    </tr>\n",
       "  </thead>\n",
       "  <tbody>\n",
       "    <tr>\n",
       "      <th>noise=0</th>\n",
       "      <td>0.140</td>\n",
       "      <td>0.103</td>\n",
       "    </tr>\n",
       "    <tr>\n",
       "      <th>noise=0.1</th>\n",
       "      <td>0.146</td>\n",
       "      <td>0.104</td>\n",
       "    </tr>\n",
       "    <tr>\n",
       "      <th>noise=0.2</th>\n",
       "      <td>0.000</td>\n",
       "      <td>0.000</td>\n",
       "    </tr>\n",
       "    <tr>\n",
       "      <th>noise=0.3</th>\n",
       "      <td>0.152</td>\n",
       "      <td>0.107</td>\n",
       "    </tr>\n",
       "  </tbody>\n",
       "</table>\n",
       "</div>"
      ],
      "text/plain": [
       "           Interpretation Network  Symbolic Regresseion\n",
       "noise=0                     0.140                 0.103\n",
       "noise=0.1                   0.146                 0.104\n",
       "noise=0.2                   0.000                 0.000\n",
       "noise=0.3                   0.152                 0.107"
      ]
     },
     "execution_count": 57,
     "metadata": {},
     "output_type": "execute_result"
    }
   ],
   "source": [
    "evaluate_noise_for_fixed_variable_number_df"
   ]
  },
  {
   "cell_type": "code",
   "execution_count": 78,
   "id": "three-supplier",
   "metadata": {},
   "outputs": [
    {
     "data": {
      "text/plain": [
       "<matplotlib.legend.Legend at 0x7fd200a60220>"
      ]
     },
     "execution_count": 78,
     "metadata": {},
     "output_type": "execute_result"
    },
    {
     "data": {
      "image/png": "[encoded data removed]",
      "text/plain": [
       "<Figure size 1440x720 with 1 Axes>"
      ]
     },
     "metadata": {},
     "output_type": "display_data"
    }
   ],
   "source": [
    "axes = evaluate_noise_for_fixed_variable_number_df.plot.bar(color={common_labels[0]:'lightblue', common_labels[1]:'darkblue'}, rot=0, figsize=(20,10), fontsize=16)\n",
    "axes.legend(fontsize=16) # loc=2"
   ]
  },
  {
   "cell_type": "code",
   "execution_count": null,
   "id": "widespread-favorite",
   "metadata": {},
   "outputs": [],
   "source": []
  }
 ],
 "metadata": {
  "kernelspec": {
   "display_name": "Python 3",
   "language": "python",
   "name": "python3"
  },
  "language_info": {
   "codemirror_mode": {
    "name": "ipython",
    "version": 3
   },
   "file_extension": ".py",
   "mimetype": "text/x-python",
   "name": "python",
   "nbconvert_exporter": "python",
   "pygments_lexer": "ipython3",
   "version": "3.8.8"
  }
 },
 "nbformat": 4,
 "nbformat_minor": 5
}
