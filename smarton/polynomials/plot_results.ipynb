{
 "cells": [
  {
   "cell_type": "code",
   "execution_count": 2,
   "id": "recovered-africa",
   "metadata": {},
   "outputs": [],
   "source": [
    "import numpy as np\n",
    "import pandas as pd \n"
   ]
  },
  {
   "cell_type": "code",
   "execution_count": null,
   "id": "attached-george",
   "metadata": {},
   "outputs": [],
   "source": [
    "inet_results_d3_n5_noNoise = 0\n",
    "inet_results_d3_n5_Noise01 = 0\n",
    "inet_results_d3_n5_Noise02 = 0\n",
    "inet_results_d3_n5_Noise03 = 0\n",
    "\n",
    "inet_results_d3_n10_noNoise = 0\n",
    "inet_results_d3_n10_Noise01 = 0\n",
    "inet_results_d3_n10_Noise02 = 0\n",
    "inet_results_d3_n10_Noise03 = 0\n",
    "\n",
    "inet_results_d3_n5_noNoise = 0\n",
    "inet_results_d3_n5_Noise01 = 0\n",
    "inet_results_d3_n5_Noise02 = 0\n",
    "inet_results_d3_n5_Noise03 = 0\n"
   ]
  },
  {
   "cell_type": "code",
   "execution_count": null,
   "id": "indoor-function",
   "metadata": {},
   "outputs": [],
   "source": [
    "inet_train_time_d3_n5_noNoise = 0\n",
    "inet_train_time_d3_n5_Noise01 = 0\n",
    "inet_train_time_d3_n5_Noise02 = 0\n",
    "inet_train_time_d3_n5_Noise03 = 0\n",
    "\n",
    "inet_train_time_d3_n10_noNoise = 0\n",
    "inet_train_time_d3_n10_Noise01 = 0\n",
    "inet_train_time_d3_n10_Noise02 = 0\n",
    "inet_train_time_d3_n10_Noise03 = 0\n",
    "\n",
    "inet_train_time_d3_n5_noNoise = 0\n",
    "inet_train_time_d3_n5_Noise01 = 0\n",
    "inet_train_time_d3_n5_Noise02 = 0\n",
    "inet_train_time_d3_n5_Noise03 = 0\n"
   ]
  },
  {
   "cell_type": "code",
   "execution_count": null,
   "id": "juvenile-birthday",
   "metadata": {},
   "outputs": [],
   "source": [
    "symbolic_regression_results_d3_n5_noNoise = 0\n",
    "symbolic_regression_results_d3_n5_Noise01 = 0\n",
    "symbolic_regression_results_d3_n5_Noise02 = 0\n",
    "symbolic_regression_results_d3_n5_Noise03 = 0\n",
    "\n",
    "symbolic_regression_results_d3_n10_noNoise = 0\n",
    "symbolic_regression_results_d3_n10_Noise01 = 0\n",
    "symbolic_regression_results_d3_n10_Noise02 = 0\n",
    "symbolic_regression_results_d3_n10_Noise03 = 0\n",
    "\n",
    "symbolic_regression_results_d3_n5_noNoise = 0\n",
    "symbolic_regression_results_d3_n5_Noise01 = 0\n",
    "symbolic_regression_results_d3_n5_Noise02 = 0\n",
    "symbolic_regression_results_d3_n5_Noise03 = 0"
   ]
  },
  {
   "cell_type": "code",
   "execution_count": null,
   "id": "brazilian-advance",
   "metadata": {},
   "outputs": [],
   "source": [
    "symbolic_regression_train_time_d3_n5_noNoise = 0\n",
    "symbolic_regression_train_time_d3_n5_Noise01 = 0\n",
    "symbolic_regression_train_time_d3_n5_Noise02 = 0\n",
    "symbolic_regression_train_time_d3_n5_Noise03 = 0\n",
    "\n",
    "symbolic_regression_train_time_d3_n10_noNoise = 0\n",
    "symbolic_regression_train_time_d3_n10_Noise01 = 0\n",
    "symbolic_regression_train_time_d3_n10_Noise02 = 0\n",
    "symbolic_regression_train_time_d3_n10_Noise03 = 0\n",
    "\n",
    "symbolic_regression_train_time_d3_n5_noNoise = 0\n",
    "symbolic_regression_train_time_d3_n5_Noise01 = 0\n",
    "symbolic_regression_train_time_d3_n5_Noise02 = 0\n",
    "symbolic_regression_train_time_d3_n5_Noise03 = 0\n"
   ]
  },
  {
   "cell_type": "code",
   "execution_count": 3,
   "id": "pursuant-bracket",
   "metadata": {},
   "outputs": [],
   "source": [
    "groups = [[23,135,3], [123,500,1]]\n",
    "group_labels = ['views', 'orders']\n",
    "\n",
    "# Convert data to pandas DataFrame.\n",
    "df = pd.DataFrame(groups, index=group_labels).T"
   ]
  },
  {
   "cell_type": "code",
   "execution_count": 4,
   "id": "scheduled-participation",
   "metadata": {},
   "outputs": [
    {
     "data": {
      "text/html": [
       "<div>\n",
       "<style scoped>\n",
       "    .dataframe tbody tr th:only-of-type {\n",
       "        vertical-align: middle;\n",
       "    }\n",
       "\n",
       "    .dataframe tbody tr th {\n",
       "        vertical-align: top;\n",
       "    }\n",
       "\n",
       "    .dataframe thead th {\n",
       "        text-align: right;\n",
       "    }\n",
       "</style>\n",
       "<table border=\"1\" class=\"dataframe\">\n",
       "  <thead>\n",
       "    <tr style=\"text-align: right;\">\n",
       "      <th></th>\n",
       "      <th>views</th>\n",
       "      <th>orders</th>\n",
       "    </tr>\n",
       "  </thead>\n",
       "  <tbody>\n",
       "    <tr>\n",
       "      <th>0</th>\n",
       "      <td>23</td>\n",
       "      <td>123</td>\n",
       "    </tr>\n",
       "    <tr>\n",
       "      <th>1</th>\n",
       "      <td>135</td>\n",
       "      <td>500</td>\n",
       "    </tr>\n",
       "    <tr>\n",
       "      <th>2</th>\n",
       "      <td>3</td>\n",
       "      <td>1</td>\n",
       "    </tr>\n",
       "  </tbody>\n",
       "</table>\n",
       "</div>"
      ],
      "text/plain": [
       "   views  orders\n",
       "0     23     123\n",
       "1    135     500\n",
       "2      3       1"
      ]
     },
     "execution_count": 4,
     "metadata": {},
     "output_type": "execute_result"
    }
   ],
   "source": [
    "df.head()"
   ]
  },
  {
   "cell_type": "code",
   "execution_count": null,
   "id": "written-editor",
   "metadata": {},
   "outputs": [],
   "source": [
    "\n",
    "\n",
    "# Plot.\n",
    "pd.concat(\n",
    "    [df.mean().rename('average'), df.min().rename('min'), \n",
    "     df.max().rename('max')],\n",
    "    axis=1).plot.bar()"
   ]
  }
 ],
 "metadata": {
  "kernelspec": {
   "display_name": "Python 3",
   "language": "python",
   "name": "python3"
  },
  "language_info": {
   "codemirror_mode": {
    "name": "ipython",
    "version": 3
   },
   "file_extension": ".py",
   "mimetype": "text/x-python",
   "name": "python",
   "nbconvert_exporter": "python",
   "pygments_lexer": "ipython3",
   "version": "3.8.8"
  }
 },
 "nbformat": 4,
 "nbformat_minor": 5
}
