{
 "cells": [
  {
   "cell_type": "markdown",
   "metadata": {},
   "source": [
    "# Function Generation for the Training of λ-Nets"
   ]
  },
  {
   "cell_type": "markdown",
   "metadata": {
    "ExecuteTime": {
     "end_time": "2020-09-16T12:26:49.061308Z",
     "start_time": "2020-09-16T12:26:49.055692Z"
    }
   },
   "source": [
    "## Specitication of Experiment Settings"
   ]
  },
  {
   "cell_type": "code",
   "execution_count": 1,
   "metadata": {},
   "outputs": [],
   "source": [
    "#######################################################################################################################################\n",
    "###################################################### CONFIG FILE ####################################################################\n",
    "#######################################################################################################################################\n",
    "sleep_time = 0 #minutes\n",
    "\n",
    "\n",
    "config = {\n",
    "    'function_family': {\n",
    "        'maximum_depth': 2,\n",
    "        'fully_grown': True,                      \n",
    "    },\n",
    "    'data': {\n",
    "        'number_of_variables': 5, \n",
    "        'num_classes': 2,\n",
    "        \n",
    "        'function_generation_type': 'random_decision_tree', # 'make_classification' 'random_decision_tree'\n",
    "        'objective': 'classification', # 'regression'\n",
    "        \n",
    "        'x_max': 1,\n",
    "        'x_min': 0,\n",
    "        'x_distrib': 'uniform', #'normal', 'uniform',       \n",
    "                \n",
    "        'lambda_dataset_size': 5000, #number of samples per function\n",
    "        'number_of_generated_datasets': 10000,\n",
    "    }, \n",
    "    'computation':{\n",
    "        'n_jobs': -3,\n",
    "        'use_gpu': False,\n",
    "        'gpu_numbers': '0',\n",
    "        'RANDOM_SEED': 0,   \n",
    "    }\n",
    "}\n"
   ]
  },
  {
   "cell_type": "code",
   "execution_count": 2,
   "metadata": {},
   "outputs": [],
   "source": [
    "#######################################################################################################################################\n",
    "########################################### IMPORT GLOBAL VARIABLES FROM CONFIG #######################################################\n",
    "#######################################################################################################################################\n",
    "globals().update(config['function_family'])\n",
    "globals().update(config['data'])\n",
    "globals().update(config['computation'])"
   ]
  },
  {
   "cell_type": "markdown",
   "metadata": {
    "ExecuteTime": {
     "end_time": "2020-09-16T12:26:58.879427Z",
     "start_time": "2020-09-16T12:26:58.874894Z"
    }
   },
   "source": [
    "## Imports"
   ]
  },
  {
   "cell_type": "code",
   "execution_count": 3,
   "metadata": {
    "ExecuteTime": {
     "end_time": "2021-01-13T21:12:40.476681Z",
     "start_time": "2021-01-13T21:12:38.298249Z"
    }
   },
   "outputs": [],
   "source": [
    "from itertools import product       # forms cartesian products\n",
    "from more_itertools import random_product \n",
    "from tqdm import tqdm_notebook as tqdm\n",
    "import pickle\n",
    "\n",
    "import numpy as np\n",
    "\n",
    "import pandas as pd\n",
    "from joblib import Parallel, delayed\n",
    "\n",
    "import random \n",
    "from random import sample \n",
    "\n",
    "import os\n",
    "import sys\n",
    "\n",
    "from sklearn.datasets import make_regression\n",
    "from sklearn.preprocessing import MinMaxScaler\n",
    "\n",
    "from sympy import Symbol, sympify\n",
    "\n",
    "        \n",
    "import seaborn as sns\n",
    "        \n",
    "import random \n",
    "\n",
    "import warnings\n",
    "\n",
    "from time import perf_counter\n",
    "\n",
    "\n",
    "\n",
    "from sklearn.datasets import load_iris, load_breast_cancer\n",
    "from sklearn.model_selection import train_test_split\n",
    "from sklearn.preprocessing import MinMaxScaler\n",
    "from utilities.DecisionTree_BASIC import SDT\n",
    "from sklearn.metrics import accuracy_score\n",
    "from sklearn.tree import plot_tree\n",
    "from matplotlib import pyplot as plt\n",
    "from IPython.display import Image\n",
    "\n",
    "import numpy as np\n",
    "import torch\n",
    "np.set_printoptions(suppress=True)\n",
    "torch.set_printoptions(sci_mode=False)"
   ]
  },
  {
   "cell_type": "code",
   "execution_count": 4,
   "metadata": {},
   "outputs": [],
   "source": [
    "#######################################################################################################################################\n",
    "###################################################### SET VARIABLES + DESIGN #########################################################\n",
    "#######################################################################################################################################\n",
    "sns.set_style(\"darkgrid\")\n",
    "\n",
    "random.seed(RANDOM_SEED)\n",
    "np.random.seed(RANDOM_SEED)\n",
    "    \n",
    "    \n",
    "pd.set_option('display.float_format', lambda x: '%.3f' % x)\n",
    "pd.set_option('display.max_columns', 500)\n",
    "\n",
    "warnings.filterwarnings('ignore')"
   ]
  },
  {
   "cell_type": "code",
   "execution_count": 5,
   "metadata": {},
   "outputs": [],
   "source": [
    "from utilities.utility_functions import *\n",
    "#######################################################################################################################################\n",
    "####################################################### CONFIG ADJUSTMENTS ############################################################\n",
    "#######################################################################################################################################\n",
    "\n",
    "#######################################################################################################################################\n",
    "################################################## UPDATE VARIABLES ###################################################################\n",
    "#######################################################################################################################################\n",
    "globals().update(config['function_family'])\n",
    "globals().update(config['data'])\n",
    "globals().update(config['computation'])\n",
    "\n",
    "#initialize_utility_functions_config_from_curent_notebook(config)\n",
    "\n",
    "#######################################################################################################################################\n",
    "###################################################### PATH + FOLDER CREATION #########################################################\n",
    "#######################################################################################################################################\n",
    "globals().update(generate_paths(config, path_type='data_creation'))\n",
    "generate_directory_structure()\n",
    "\n",
    "#######################################################################################################################################\n",
    "############################################################ SLEEP TIMER ##############################################################\n",
    "#######################################################################################################################################\n",
    "sleep_minutes(sleep_time)"
   ]
  },
  {
   "cell_type": "code",
   "execution_count": 6,
   "metadata": {},
   "outputs": [
    {
     "name": "stdout",
     "output_type": "stream",
     "text": [
      "lNetSize5000_numDatasets10000_var5_class2_random_decision_tree_xMax1_xMin0_xDistuniform_depth2_fullyGrown\n"
     ]
    }
   ],
   "source": [
    "print(path_identifier_function_data)"
   ]
  },
  {
   "cell_type": "markdown",
   "metadata": {
    "ExecuteTime": {
     "end_time": "2020-09-16T12:28:46.853042Z",
     "start_time": "2020-09-16T12:28:46.848346Z"
    }
   },
   "source": [
    "# Function Generation"
   ]
  },
  {
   "cell_type": "code",
   "execution_count": 7,
   "metadata": {},
   "outputs": [
    {
     "name": "stderr",
     "output_type": "stream",
     "text": [
      "[Parallel(n_jobs=-3)]: Using backend LokyBackend with 14 concurrent workers.\n",
      "[Parallel(n_jobs=-3)]: Done   4 tasks      | elapsed:    6.5s\n",
      "[Parallel(n_jobs=-3)]: Done 116 tasks      | elapsed:    6.9s\n",
      "[Parallel(n_jobs=-3)]: Done 1948 tasks      | elapsed:    8.8s\n",
      "[Parallel(n_jobs=-3)]: Done 5532 tasks      | elapsed:   12.2s\n",
      "[Parallel(n_jobs=-3)]: Done 9870 tasks      | elapsed:   16.1s\n",
      "[Parallel(n_jobs=-3)]: Done 10000 out of 10000 | elapsed:   16.2s finished\n"
     ]
    }
   ],
   "source": [
    "if function_generation_type == 'random_decision_tree':\n",
    "    parallel = Parallel(n_jobs=n_jobs, verbose=3, backend='loky')\n",
    "    result_list = parallel(delayed(generate_decision_tree_data)(config, seed=RANDOM_SEED+i) for i in range(number_of_generated_datasets))\n",
    "if function_generation_type == 'make_classification':\n",
    "    pass\n",
    "    \n",
    "function_identifier_list = generate_decision_tree_identifier(config)\n",
    "    \n",
    "function_df = pd.DataFrame(data=np.array([result[0] for result in result_list]), columns=function_identifier_list)\n",
    "    \n",
    "X_data_list = [[pd.Series(result[0],  index=function_identifier_list), pd.DataFrame(result[1], columns=['x' + str(i) for i in range(number_of_variables)])] for result in result_list]\n",
    "y_data_list = [[pd.Series(result[0],  index=function_identifier_list), pd.DataFrame(result[2], columns=['result'])] for result in result_list]\n",
    "\n"
   ]
  },
  {
   "cell_type": "code",
   "execution_count": 8,
   "metadata": {},
   "outputs": [
    {
     "data": {
      "text/html": [
       "<div>\n",
       "<style scoped>\n",
       "    .dataframe tbody tr th:only-of-type {\n",
       "        vertical-align: middle;\n",
       "    }\n",
       "\n",
       "    .dataframe tbody tr th {\n",
       "        vertical-align: top;\n",
       "    }\n",
       "\n",
       "    .dataframe thead th {\n",
       "        text-align: right;\n",
       "    }\n",
       "</style>\n",
       "<table border=\"1\" class=\"dataframe\">\n",
       "  <thead>\n",
       "    <tr style=\"text-align: right;\">\n",
       "      <th></th>\n",
       "      <th>f0v0</th>\n",
       "      <th>f0v1</th>\n",
       "      <th>f0v2</th>\n",
       "      <th>f0v3</th>\n",
       "      <th>f0v4</th>\n",
       "      <th>f1v0</th>\n",
       "      <th>f1v1</th>\n",
       "      <th>f1v2</th>\n",
       "      <th>f1v3</th>\n",
       "      <th>f1v4</th>\n",
       "      <th>f2v0</th>\n",
       "      <th>f2v1</th>\n",
       "      <th>f2v2</th>\n",
       "      <th>f2v3</th>\n",
       "      <th>f2v4</th>\n",
       "      <th>b0</th>\n",
       "      <th>b1</th>\n",
       "      <th>b2</th>\n",
       "      <th>lp0c0</th>\n",
       "      <th>lp0c1</th>\n",
       "      <th>lp1c0</th>\n",
       "      <th>lp1c1</th>\n",
       "      <th>lp2c0</th>\n",
       "      <th>lp2c1</th>\n",
       "      <th>lp3c0</th>\n",
       "      <th>lp3c1</th>\n",
       "    </tr>\n",
       "  </thead>\n",
       "  <tbody>\n",
       "    <tr>\n",
       "      <th>0</th>\n",
       "      <td>-0.003</td>\n",
       "      <td>0.240</td>\n",
       "      <td>-0.368</td>\n",
       "      <td>-0.329</td>\n",
       "      <td>-0.172</td>\n",
       "      <td>0.120</td>\n",
       "      <td>-0.009</td>\n",
       "      <td>0.355</td>\n",
       "      <td>-0.040</td>\n",
       "      <td>0.118</td>\n",
       "      <td>-0.135</td>\n",
       "      <td>-0.088</td>\n",
       "      <td>-0.427</td>\n",
       "      <td>-0.296</td>\n",
       "      <td>-0.184</td>\n",
       "      <td>0.017</td>\n",
       "      <td>0.177</td>\n",
       "      <td>0.268</td>\n",
       "      <td>-0.339</td>\n",
       "      <td>-0.103</td>\n",
       "      <td>-0.218</td>\n",
       "      <td>0.374</td>\n",
       "      <td>0.182</td>\n",
       "      <td>-0.081</td>\n",
       "      <td>0.415</td>\n",
       "      <td>0.053</td>\n",
       "    </tr>\n",
       "    <tr>\n",
       "      <th>1</th>\n",
       "      <td>0.230</td>\n",
       "      <td>-0.197</td>\n",
       "      <td>-0.087</td>\n",
       "      <td>0.210</td>\n",
       "      <td>-0.421</td>\n",
       "      <td>0.268</td>\n",
       "      <td>-0.092</td>\n",
       "      <td>0.228</td>\n",
       "      <td>0.062</td>\n",
       "      <td>-0.055</td>\n",
       "      <td>0.124</td>\n",
       "      <td>0.022</td>\n",
       "      <td>0.163</td>\n",
       "      <td>-0.174</td>\n",
       "      <td>-0.033</td>\n",
       "      <td>-0.040</td>\n",
       "      <td>0.065</td>\n",
       "      <td>-0.002</td>\n",
       "      <td>0.437</td>\n",
       "      <td>-0.084</td>\n",
       "      <td>0.156</td>\n",
       "      <td>-0.216</td>\n",
       "      <td>-0.186</td>\n",
       "      <td>-0.160</td>\n",
       "      <td>-0.302</td>\n",
       "      <td>0.024</td>\n",
       "    </tr>\n",
       "    <tr>\n",
       "      <th>2</th>\n",
       "      <td>0.103</td>\n",
       "      <td>-0.106</td>\n",
       "      <td>0.123</td>\n",
       "      <td>-0.023</td>\n",
       "      <td>0.191</td>\n",
       "      <td>0.106</td>\n",
       "      <td>-0.051</td>\n",
       "      <td>-0.362</td>\n",
       "      <td>0.102</td>\n",
       "      <td>-0.396</td>\n",
       "      <td>0.059</td>\n",
       "      <td>0.030</td>\n",
       "      <td>-0.098</td>\n",
       "      <td>0.366</td>\n",
       "      <td>0.030</td>\n",
       "      <td>0.185</td>\n",
       "      <td>0.189</td>\n",
       "      <td>-0.264</td>\n",
       "      <td>-0.192</td>\n",
       "      <td>-0.040</td>\n",
       "      <td>0.481</td>\n",
       "      <td>0.355</td>\n",
       "      <td>-0.490</td>\n",
       "      <td>-0.048</td>\n",
       "      <td>-0.034</td>\n",
       "      <td>0.132</td>\n",
       "    </tr>\n",
       "    <tr>\n",
       "      <th>3</th>\n",
       "      <td>0.301</td>\n",
       "      <td>-0.114</td>\n",
       "      <td>0.356</td>\n",
       "      <td>0.370</td>\n",
       "      <td>0.024</td>\n",
       "      <td>0.184</td>\n",
       "      <td>0.215</td>\n",
       "      <td>-0.278</td>\n",
       "      <td>0.158</td>\n",
       "      <td>0.393</td>\n",
       "      <td>-0.254</td>\n",
       "      <td>0.148</td>\n",
       "      <td>-0.237</td>\n",
       "      <td>-0.014</td>\n",
       "      <td>-0.083</td>\n",
       "      <td>-0.403</td>\n",
       "      <td>0.141</td>\n",
       "      <td>0.334</td>\n",
       "      <td>0.298</td>\n",
       "      <td>0.040</td>\n",
       "      <td>-0.432</td>\n",
       "      <td>-0.482</td>\n",
       "      <td>-0.426</td>\n",
       "      <td>0.379</td>\n",
       "      <td>-0.419</td>\n",
       "      <td>0.470</td>\n",
       "    </tr>\n",
       "    <tr>\n",
       "      <th>4</th>\n",
       "      <td>-0.298</td>\n",
       "      <td>0.062</td>\n",
       "      <td>-0.044</td>\n",
       "      <td>-0.150</td>\n",
       "      <td>0.375</td>\n",
       "      <td>-0.340</td>\n",
       "      <td>-0.079</td>\n",
       "      <td>0.444</td>\n",
       "      <td>0.202</td>\n",
       "      <td>-0.371</td>\n",
       "      <td>0.137</td>\n",
       "      <td>0.262</td>\n",
       "      <td>0.199</td>\n",
       "      <td>0.093</td>\n",
       "      <td>-0.130</td>\n",
       "      <td>-0.310</td>\n",
       "      <td>0.200</td>\n",
       "      <td>-0.355</td>\n",
       "      <td>0.013</td>\n",
       "      <td>0.125</td>\n",
       "      <td>0.200</td>\n",
       "      <td>0.114</td>\n",
       "      <td>0.334</td>\n",
       "      <td>0.450</td>\n",
       "      <td>0.323</td>\n",
       "      <td>0.224</td>\n",
       "    </tr>\n",
       "  </tbody>\n",
       "</table>\n",
       "</div>"
      ],
      "text/plain": [
       "    f0v0   f0v1   f0v2   f0v3   f0v4   f1v0   f1v1   f1v2   f1v3   f1v4  \\\n",
       "0 -0.003  0.240 -0.368 -0.329 -0.172  0.120 -0.009  0.355 -0.040  0.118   \n",
       "1  0.230 -0.197 -0.087  0.210 -0.421  0.268 -0.092  0.228  0.062 -0.055   \n",
       "2  0.103 -0.106  0.123 -0.023  0.191  0.106 -0.051 -0.362  0.102 -0.396   \n",
       "3  0.301 -0.114  0.356  0.370  0.024  0.184  0.215 -0.278  0.158  0.393   \n",
       "4 -0.298  0.062 -0.044 -0.150  0.375 -0.340 -0.079  0.444  0.202 -0.371   \n",
       "\n",
       "    f2v0   f2v1   f2v2   f2v3   f2v4     b0    b1     b2  lp0c0  lp0c1  lp1c0  \\\n",
       "0 -0.135 -0.088 -0.427 -0.296 -0.184  0.017 0.177  0.268 -0.339 -0.103 -0.218   \n",
       "1  0.124  0.022  0.163 -0.174 -0.033 -0.040 0.065 -0.002  0.437 -0.084  0.156   \n",
       "2  0.059  0.030 -0.098  0.366  0.030  0.185 0.189 -0.264 -0.192 -0.040  0.481   \n",
       "3 -0.254  0.148 -0.237 -0.014 -0.083 -0.403 0.141  0.334  0.298  0.040 -0.432   \n",
       "4  0.137  0.262  0.199  0.093 -0.130 -0.310 0.200 -0.355  0.013  0.125  0.200   \n",
       "\n",
       "   lp1c1  lp2c0  lp2c1  lp3c0  lp3c1  \n",
       "0  0.374  0.182 -0.081  0.415  0.053  \n",
       "1 -0.216 -0.186 -0.160 -0.302  0.024  \n",
       "2  0.355 -0.490 -0.048 -0.034  0.132  \n",
       "3 -0.482 -0.426  0.379 -0.419  0.470  \n",
       "4  0.114  0.334  0.450  0.323  0.224  "
      ]
     },
     "execution_count": 8,
     "metadata": {},
     "output_type": "execute_result"
    }
   ],
   "source": [
    "function_df.head()"
   ]
  },
  {
   "cell_type": "code",
   "execution_count": 9,
   "metadata": {},
   "outputs": [
    {
     "data": {
      "text/plain": [
       "f0v0   -0.003\n",
       "f0v1    0.240\n",
       "f0v2   -0.368\n",
       "f0v3   -0.329\n",
       "f0v4   -0.172\n",
       "f1v0    0.120\n",
       "f1v1   -0.009\n",
       "f1v2    0.355\n",
       "f1v3   -0.040\n",
       "f1v4    0.118\n",
       "dtype: float32"
      ]
     },
     "execution_count": 9,
     "metadata": {},
     "output_type": "execute_result"
    }
   ],
   "source": [
    "X_data_list[0][0].head(10)"
   ]
  },
  {
   "cell_type": "code",
   "execution_count": 10,
   "metadata": {},
   "outputs": [
    {
     "data": {
      "text/html": [
       "<div>\n",
       "<style scoped>\n",
       "    .dataframe tbody tr th:only-of-type {\n",
       "        vertical-align: middle;\n",
       "    }\n",
       "\n",
       "    .dataframe tbody tr th {\n",
       "        vertical-align: top;\n",
       "    }\n",
       "\n",
       "    .dataframe thead th {\n",
       "        text-align: right;\n",
       "    }\n",
       "</style>\n",
       "<table border=\"1\" class=\"dataframe\">\n",
       "  <thead>\n",
       "    <tr style=\"text-align: right;\">\n",
       "      <th></th>\n",
       "      <th>x0</th>\n",
       "      <th>x1</th>\n",
       "      <th>x2</th>\n",
       "      <th>x3</th>\n",
       "      <th>x4</th>\n",
       "    </tr>\n",
       "  </thead>\n",
       "  <tbody>\n",
       "    <tr>\n",
       "      <th>0</th>\n",
       "      <td>0.549</td>\n",
       "      <td>0.715</td>\n",
       "      <td>0.603</td>\n",
       "      <td>0.545</td>\n",
       "      <td>0.424</td>\n",
       "    </tr>\n",
       "    <tr>\n",
       "      <th>1</th>\n",
       "      <td>0.646</td>\n",
       "      <td>0.438</td>\n",
       "      <td>0.892</td>\n",
       "      <td>0.964</td>\n",
       "      <td>0.383</td>\n",
       "    </tr>\n",
       "    <tr>\n",
       "      <th>2</th>\n",
       "      <td>0.792</td>\n",
       "      <td>0.529</td>\n",
       "      <td>0.568</td>\n",
       "      <td>0.926</td>\n",
       "      <td>0.071</td>\n",
       "    </tr>\n",
       "    <tr>\n",
       "      <th>3</th>\n",
       "      <td>0.087</td>\n",
       "      <td>0.020</td>\n",
       "      <td>0.833</td>\n",
       "      <td>0.778</td>\n",
       "      <td>0.870</td>\n",
       "    </tr>\n",
       "    <tr>\n",
       "      <th>4</th>\n",
       "      <td>0.979</td>\n",
       "      <td>0.799</td>\n",
       "      <td>0.461</td>\n",
       "      <td>0.781</td>\n",
       "      <td>0.118</td>\n",
       "    </tr>\n",
       "    <tr>\n",
       "      <th>5</th>\n",
       "      <td>0.640</td>\n",
       "      <td>0.143</td>\n",
       "      <td>0.945</td>\n",
       "      <td>0.522</td>\n",
       "      <td>0.415</td>\n",
       "    </tr>\n",
       "    <tr>\n",
       "      <th>6</th>\n",
       "      <td>0.265</td>\n",
       "      <td>0.774</td>\n",
       "      <td>0.456</td>\n",
       "      <td>0.568</td>\n",
       "      <td>0.019</td>\n",
       "    </tr>\n",
       "    <tr>\n",
       "      <th>7</th>\n",
       "      <td>0.618</td>\n",
       "      <td>0.612</td>\n",
       "      <td>0.617</td>\n",
       "      <td>0.944</td>\n",
       "      <td>0.682</td>\n",
       "    </tr>\n",
       "    <tr>\n",
       "      <th>8</th>\n",
       "      <td>0.360</td>\n",
       "      <td>0.437</td>\n",
       "      <td>0.698</td>\n",
       "      <td>0.060</td>\n",
       "      <td>0.667</td>\n",
       "    </tr>\n",
       "    <tr>\n",
       "      <th>9</th>\n",
       "      <td>0.671</td>\n",
       "      <td>0.210</td>\n",
       "      <td>0.129</td>\n",
       "      <td>0.315</td>\n",
       "      <td>0.364</td>\n",
       "    </tr>\n",
       "  </tbody>\n",
       "</table>\n",
       "</div>"
      ],
      "text/plain": [
       "     x0    x1    x2    x3    x4\n",
       "0 0.549 0.715 0.603 0.545 0.424\n",
       "1 0.646 0.438 0.892 0.964 0.383\n",
       "2 0.792 0.529 0.568 0.926 0.071\n",
       "3 0.087 0.020 0.833 0.778 0.870\n",
       "4 0.979 0.799 0.461 0.781 0.118\n",
       "5 0.640 0.143 0.945 0.522 0.415\n",
       "6 0.265 0.774 0.456 0.568 0.019\n",
       "7 0.618 0.612 0.617 0.944 0.682\n",
       "8 0.360 0.437 0.698 0.060 0.667\n",
       "9 0.671 0.210 0.129 0.315 0.364"
      ]
     },
     "execution_count": 10,
     "metadata": {},
     "output_type": "execute_result"
    }
   ],
   "source": [
    "X_data_list[0][1].head(10)"
   ]
  },
  {
   "cell_type": "code",
   "execution_count": 11,
   "metadata": {},
   "outputs": [
    {
     "data": {
      "text/plain": [
       "f0v0   -0.003\n",
       "f0v1    0.240\n",
       "f0v2   -0.368\n",
       "f0v3   -0.329\n",
       "f0v4   -0.172\n",
       "f1v0    0.120\n",
       "f1v1   -0.009\n",
       "f1v2    0.355\n",
       "f1v3   -0.040\n",
       "f1v4    0.118\n",
       "dtype: float32"
      ]
     },
     "execution_count": 11,
     "metadata": {},
     "output_type": "execute_result"
    }
   ],
   "source": [
    "y_data_list[0][0].head(10)"
   ]
  },
  {
   "cell_type": "code",
   "execution_count": 12,
   "metadata": {},
   "outputs": [
    {
     "data": {
      "text/html": [
       "<div>\n",
       "<style scoped>\n",
       "    .dataframe tbody tr th:only-of-type {\n",
       "        vertical-align: middle;\n",
       "    }\n",
       "\n",
       "    .dataframe tbody tr th {\n",
       "        vertical-align: top;\n",
       "    }\n",
       "\n",
       "    .dataframe thead th {\n",
       "        text-align: right;\n",
       "    }\n",
       "</style>\n",
       "<table border=\"1\" class=\"dataframe\">\n",
       "  <thead>\n",
       "    <tr style=\"text-align: right;\">\n",
       "      <th></th>\n",
       "      <th>result</th>\n",
       "    </tr>\n",
       "  </thead>\n",
       "  <tbody>\n",
       "    <tr>\n",
       "      <th>0</th>\n",
       "      <td>0</td>\n",
       "    </tr>\n",
       "    <tr>\n",
       "      <th>1</th>\n",
       "      <td>0</td>\n",
       "    </tr>\n",
       "    <tr>\n",
       "      <th>2</th>\n",
       "      <td>1</td>\n",
       "    </tr>\n",
       "    <tr>\n",
       "      <th>3</th>\n",
       "      <td>1</td>\n",
       "    </tr>\n",
       "    <tr>\n",
       "      <th>4</th>\n",
       "      <td>1</td>\n",
       "    </tr>\n",
       "    <tr>\n",
       "      <th>5</th>\n",
       "      <td>1</td>\n",
       "    </tr>\n",
       "    <tr>\n",
       "      <th>6</th>\n",
       "      <td>0</td>\n",
       "    </tr>\n",
       "    <tr>\n",
       "      <th>7</th>\n",
       "      <td>0</td>\n",
       "    </tr>\n",
       "    <tr>\n",
       "      <th>8</th>\n",
       "      <td>0</td>\n",
       "    </tr>\n",
       "    <tr>\n",
       "      <th>9</th>\n",
       "      <td>0</td>\n",
       "    </tr>\n",
       "  </tbody>\n",
       "</table>\n",
       "</div>"
      ],
      "text/plain": [
       "   result\n",
       "0       0\n",
       "1       0\n",
       "2       1\n",
       "3       1\n",
       "4       1\n",
       "5       1\n",
       "6       0\n",
       "7       0\n",
       "8       0\n",
       "9       0"
      ]
     },
     "execution_count": 12,
     "metadata": {},
     "output_type": "execute_result"
    }
   ],
   "source": [
    "y_data_list[2][1].head(10)"
   ]
  },
  {
   "cell_type": "code",
   "execution_count": 13,
   "metadata": {},
   "outputs": [],
   "source": [
    "some_tree = generate_decision_tree_from_array(y_data_list[0][0].values, config)"
   ]
  },
  {
   "cell_type": "code",
   "execution_count": 14,
   "metadata": {},
   "outputs": [
    {
     "data": {
      "image/png": "[encoded data removed]",
      "text/plain": [
       "<IPython.core.display.Image object>"
      ]
     },
     "execution_count": 14,
     "metadata": {},
     "output_type": "execute_result"
    }
   ],
   "source": [
    "some_tree.plot_tree()\n"
   ]
  },
  {
   "cell_type": "code",
   "execution_count": 15,
   "metadata": {
    "ExecuteTime": {
     "end_time": "2021-01-14T12:59:22.156778Z",
     "start_time": "2021-01-14T12:57:34.187753Z"
    }
   },
   "outputs": [],
   "source": [
    "path_functions = './data/saved_function_lists/functions_' + path_identifier_function_data + '.csv'\n",
    "function_df.to_csv(path_functions, index=False)\n",
    "\n",
    "path_X_data = './data/saved_function_lists/X_data_' + path_identifier_function_data + '.pkl'\n",
    "with open(path_X_data, 'wb') as f:\n",
    "    pickle.dump(X_data_list, f)\n",
    "    \n",
    "path_y_data = './data/saved_function_lists/y_data_' + path_identifier_function_data + '.pkl'\n",
    "with open(path_y_data, 'wb') as f:\n",
    "    pickle.dump(y_data_list, f)\n"
   ]
  },
  {
   "cell_type": "code",
   "execution_count": null,
   "metadata": {},
   "outputs": [],
   "source": []
  }
 ],
 "metadata": {
  "kernelspec": {
   "display_name": "Python 3",
   "language": "python",
   "name": "python3"
  },
  "language_info": {
   "codemirror_mode": {
    "name": "ipython",
    "version": 3
   },
   "file_extension": ".py",
   "mimetype": "text/x-python",
   "name": "python",
   "nbconvert_exporter": "python",
   "pygments_lexer": "ipython3",
   "version": "3.8.8"
  }
 },
 "nbformat": 4,
 "nbformat_minor": 4
}
