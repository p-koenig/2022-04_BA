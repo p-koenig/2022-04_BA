{
 "cells": [
  {
   "cell_type": "markdown",
   "metadata": {},
   "source": [
    "# Function Generation for the Training of λ-Nets"
   ]
  },
  {
   "cell_type": "markdown",
   "metadata": {},
   "source": [
    "## Package installation (uncommand first line to install packages at the beginning)"
   ]
  },
  {
   "cell_type": "code",
   "execution_count": 1,
   "metadata": {
    "ExecuteTime": {
     "end_time": "2020-10-08T12:31:54.420327Z",
     "start_time": "2020-10-08T12:31:54.411604Z"
    }
   },
   "outputs": [],
   "source": [
    "%%script false --no-raise-error\n",
    "#if some errors occur during the installation consider using \"sudo pip install\"\n",
    "!pip install numpy\n",
    "!pip install pandas\n",
    "!pip install truth-table-generator\n",
    "!pip install more-itertools\n",
    "!pip install tqdm\n",
    "!pip install joblib\n",
    "!pip install scipy\n",
    "!pip install PrettyTable\n",
    "!pip install colored\n",
    "!pip install scikit-learn\n",
    "!pip install keras\n",
    "!pip install ipython\n",
    "!pip install livelossplot\n",
    "!pip install matplotlib\n",
    "!pip install seaborn\n",
    "!pip install tensorflow\n",
    "!pip install tensorflow-gpu"
   ]
  },
  {
   "cell_type": "markdown",
   "metadata": {
    "ExecuteTime": {
     "end_time": "2020-09-16T12:26:49.061308Z",
     "start_time": "2020-09-16T12:26:49.055692Z"
    }
   },
   "source": [
    "## Specitication of Experiment Settings"
   ]
  },
  {
   "cell_type": "code",
   "execution_count": 2,
   "metadata": {
    "ExecuteTime": {
     "end_time": "2020-10-08T12:31:54.425510Z",
     "start_time": "2020-10-08T12:31:54.422451Z"
    }
   },
   "outputs": [],
   "source": [
    "import math\n",
    "def nCr(n,r):\n",
    "    f = math.factorial\n",
    "    return f(n) // f(r) // f(n-r)"
   ]
  },
  {
   "cell_type": "code",
   "execution_count": 3,
   "metadata": {
    "ExecuteTime": {
     "end_time": "2020-10-08T12:31:54.430862Z",
     "start_time": "2020-10-08T12:31:54.426922Z"
    }
   },
   "outputs": [],
   "source": [
    "d = 3  \n",
    "n = 4\n",
    "sparsity = nCr(n+d, d)\n",
    "\n",
    "\n",
    "x_max = 1 \n",
    "x_min = -1\n",
    "x_step = 0.01\n",
    "a_max = 10 \n",
    "a_min = -10\n",
    "a_step = 0.1\n",
    "\n",
    "n_jobs = 5\n",
    "\n",
    "lambda_dataset_size = 1000 #specify the number of data points to calculate the function values for (determines the lambda net training size)\n",
    "\n",
    "interpretation_dataset_size = 500 #specifies the number of functions generated (specifies the interpretation-net dataset size)\n"
   ]
  },
  {
   "cell_type": "code",
   "execution_count": 4,
   "metadata": {
    "ExecuteTime": {
     "end_time": "2020-10-08T12:31:54.609705Z",
     "start_time": "2020-10-08T12:31:54.603665Z"
    }
   },
   "outputs": [
    {
     "name": "stdout",
     "output_type": "stream",
     "text": [
      "Variables: 4 (abcd)\n",
      "Degree: 3\n",
      "Sparsity: 35\n",
      "Lambda-Net Dataset Size: 10\n",
      "I-Net Dataset Size: 50\n",
      "Coefficient Range: [-10, 10]\n",
      "Variable Range: [-1, 1]\n"
     ]
    }
   ],
   "source": [
    "##############DO NOT CHANGE###################\n",
    "variables = 'abcdefghijklmnopqrstuvwxyz'[:n]\n",
    "\n",
    "RANDOM_SEED = 42\n",
    "\n",
    "same_training_all_polynomials = True\n",
    "\n",
    "if same_training_all_polynomials:\n",
    "    training_string = '_same'\n",
    "else:\n",
    "    training_string = '_diverse'\n",
    "    \n",
    "print('Variables: ' + str(n) + ' (' + variables + ')')\n",
    "print('Degree: ' + str(d))\n",
    "print('Sparsity: ' + str(sparsity)) \n",
    "print('Lambda-Net Dataset Size: ' + str(lambda_dataset_size))\n",
    "print('I-Net Dataset Size: ' + str(interpretation_dataset_size))\n",
    "      \n",
    "print('Coefficient Range: ' + '[' + str(a_min) + ', ' + str(a_max) + ']')\n",
    "print('Variable Range: ' + '[' + str(x_min) + ', ' + str(x_max) + ']')"
   ]
  },
  {
   "cell_type": "markdown",
   "metadata": {
    "ExecuteTime": {
     "end_time": "2020-09-16T12:26:58.879427Z",
     "start_time": "2020-09-16T12:26:58.874894Z"
    }
   },
   "source": [
    "## Imports"
   ]
  },
  {
   "cell_type": "code",
   "execution_count": 5,
   "metadata": {
    "ExecuteTime": {
     "end_time": "2020-10-08T12:31:56.160432Z",
     "start_time": "2020-10-08T12:31:54.611399Z"
    }
   },
   "outputs": [],
   "source": [
    "import ttg\n",
    "from itertools import product       # forms cartesian products\n",
    "from more_itertools import random_product \n",
    "from tqdm import tqdm_notebook as tqdm\n",
    "import pickle\n",
    "\n",
    "import numpy as np\n",
    "\n",
    "import pandas as pd\n",
    "from joblib import Parallel, delayed\n",
    "\n",
    "import random \n",
    "from random import sample \n",
    "random.seed(42)\n",
    "\n",
    "import os\n",
    "\n",
    "directory_names = ['parameters', 'plotting', 'saved_polynomial_lists', 'results', 'saved_models', 'weights', 'weights_training']\n",
    "if not os.path.exists('./data'):\n",
    "    os.mkdir('./data')\n",
    "for directory_name in directory_names:\n",
    "    path = './data/' + directory_name\n",
    "    if not os.path.exists(path):\n",
    "        os.mkdir(path)\n",
    "        \n",
    "import seaborn as sns\n",
    "sns.set_style(\"darkgrid\")\n",
    "        \n",
    "import random \n",
    "random.seed(RANDOM_SEED)\n",
    "np.random.seed(RANDOM_SEED)\n",
    "\n",
    "\n"
   ]
  },
  {
   "cell_type": "markdown",
   "metadata": {},
   "source": [
    "## Utility functions"
   ]
  },
  {
   "cell_type": "code",
   "execution_count": 6,
   "metadata": {
    "ExecuteTime": {
     "end_time": "2020-10-08T12:31:56.164916Z",
     "start_time": "2020-10-08T12:31:56.162062Z"
    }
   },
   "outputs": [],
   "source": [
    "#test for exact equality\n",
    "def arreq_in_list(myarr, list_arrays):\n",
    "    return next((True for elem in list_arrays if np.array_equal(elem, myarr)), False)"
   ]
  },
  {
   "cell_type": "code",
   "execution_count": 7,
   "metadata": {
    "ExecuteTime": {
     "end_time": "2020-10-08T12:31:56.171819Z",
     "start_time": "2020-10-08T12:31:56.166916Z"
    }
   },
   "outputs": [],
   "source": [
    "ALPHABET = \\\n",
    "  \"0123456789abcdefghijklmnopqrstuvwxyz\"\n",
    "\n",
    "def encode (n):\n",
    "    try:\n",
    "        return ALPHABET [n]\n",
    "    except IndexError:\n",
    "        raise Exception (\"cannot encode: %s\" % n)\n",
    "\n",
    "def dec_to_base (dec = 0, base = 16):\n",
    "    if dec < base:\n",
    "        return encode (dec)\n",
    "    else:\n",
    "        return dec_to_base (dec // base, base) + encode (dec % base)"
   ]
  },
  {
   "cell_type": "markdown",
   "metadata": {
    "ExecuteTime": {
     "end_time": "2020-09-16T12:28:46.853042Z",
     "start_time": "2020-09-16T12:28:46.848346Z"
    }
   },
   "source": [
    "# Function Generation"
   ]
  },
  {
   "cell_type": "code",
   "execution_count": 8,
   "metadata": {
    "ExecuteTime": {
     "end_time": "2020-10-08T12:31:56.243086Z",
     "start_time": "2020-10-08T12:31:56.174745Z"
    }
   },
   "outputs": [
    {
     "data": {
      "application/vnd.jupyter.widget-view+json": {
       "model_id": "1d41e8e53c9f49ef86430ffa81e943e9",
       "version_major": 2,
       "version_minor": 0
      },
      "text/plain": [
       "HBox(children=(IntProgress(value=0, max=256), HTML(value='')))"
      ]
     },
     "metadata": {},
     "output_type": "display_data"
    },
    {
     "name": "stdout",
     "output_type": "stream",
     "text": [
      "\n",
      "List length: 256\n",
      "Number of monomials in a polynomial with 4 variables and degree 3: 35\n",
      "Sparsity: 35\n",
      "['0000', '0001', '0002', '0003', '0010', '0011', '0012', '0013', '0020', '0021', '0022', '0023', '0030', '0031', '0032', '0033', '0100', '0101', '0102', '0103', '0110', '0111', '0112', '0113', '0120', '0121', '0122', '0123', '0130', '0131', '0132', '0133', '0200', '0201', '0202', '0203', '0210', '0211', '0212', '0213', '0220', '0221', '0222', '0223', '0230', '0231', '0232', '0233', '0300', '0301', '0302', '0303', '0310', '0311', '0312', '0313', '0320', '0321', '0322', '0323', '0330', '0331', '0332', '0333', '1000', '1001', '1002', '1003', '1010', '1011', '1012', '1013', '1020', '1021', '1022', '1023', '1030', '1031', '1032', '1033', '1100', '1101', '1102', '1103', '1110', '1111', '1112', '1113', '1120', '1121', '1122', '1123', '1130', '1131', '1132', '1133', '1200', '1201', '1202', '1203', '1210', '1211', '1212', '1213', '1220', '1221', '1222', '1223', '1230', '1231', '1232', '1233', '1300', '1301', '1302', '1303', '1310', '1311', '1312', '1313', '1320', '1321', '1322', '1323', '1330', '1331', '1332', '1333', '2000', '2001', '2002', '2003', '2010', '2011', '2012', '2013', '2020', '2021', '2022', '2023', '2030', '2031', '2032', '2033', '2100', '2101', '2102', '2103', '2110', '2111', '2112', '2113', '2120', '2121', '2122', '2123', '2130', '2131', '2132', '2133', '2200', '2201', '2202', '2203', '2210', '2211', '2212', '2213', '2220', '2221', '2222', '2223', '2230', '2231', '2232', '2233', '2300', '2301', '2302', '2303', '2310', '2311', '2312', '2313', '2320', '2321', '2322', '2323', '2330', '2331', '2332', '2333', '3000', '3001', '3002', '3003', '3010', '3011', '3012', '3013', '3020', '3021', '3022', '3023', '3030', '3031', '3032', '3033', '3100', '3101', '3102', '3103', '3110', '3111', '3112', '3113', '3120', '3121', '3122', '3123', '3130', '3131', '3132', '3133', '3200', '3201', '3202', '3203', '3210', '3211', '3212', '3213', '3220', '3221', '3222', '3223', '3230', '3231', '3232', '3233', '3300', '3301', '3302', '3303', '3310', '3311', '3312', '3313', '3320', '3321', '3322', '3323', '3330', '3331', '3332', '3333']\n"
     ]
    },
    {
     "data": {
      "application/vnd.jupyter.widget-view+json": {
       "model_id": "1a0e66db8d4b492b96891b746e8915d3",
       "version_major": 2,
       "version_minor": 0
      },
      "text/plain": [
       "HBox(children=(IntProgress(value=0, max=256), HTML(value='')))"
      ]
     },
     "metadata": {},
     "output_type": "display_data"
    },
    {
     "name": "stdout",
     "output_type": "stream",
     "text": [
      "\n",
      "List length: 35\n",
      "Number of monomials in a polynomial with 4 variables and degree 3: 35\n",
      "Sparsity: 35\n",
      "['0000', '0001', '0002', '0003', '0010', '0011', '0012', '0020', '0021', '0030', '0100', '0101', '0102', '0110', '0111', '0120', '0200', '0201', '0210', '0300', '1000', '1001', '1002', '1010', '1011', '1020', '1100', '1101', '1110', '1200', '2000', '2001', '2010', '2100', '3000']\n"
     ]
    }
   ],
   "source": [
    "list_of_monomial_identifiers_extended = []\n",
    "for i in tqdm(range((d+1)**n)):    \n",
    "    monomial_identifier = dec_to_base(i, base = (d+1)).zfill(n) \n",
    "    list_of_monomial_identifiers_extended.append(monomial_identifier)\n",
    "\n",
    "print('List length: ' + str(len(list_of_monomial_identifiers_extended)))\n",
    "print('Number of monomials in a polynomial with ' + str(n) + ' variables and degree ' + str(d) + ': ' + str(nCr(n+d, d)))\n",
    "print('Sparsity: ' + str(sparsity))\n",
    "print(list_of_monomial_identifiers_extended)\n",
    "\n",
    "list_of_monomial_identifiers = []\n",
    "for monomial_identifier in tqdm(list_of_monomial_identifiers_extended):\n",
    "    monomial_identifier_values = list(map(int, list(monomial_identifier)))\n",
    "    if sum(monomial_identifier_values) <= d:\n",
    "        list_of_monomial_identifiers.append(monomial_identifier)\n",
    "\n",
    "print('List length: ' + str(len(list_of_monomial_identifiers)))\n",
    "print('Number of monomials in a polynomial with ' + str(n) + ' variables and degree ' + str(d) + ': ' + str(nCr(n+d, d)))\n",
    "print('Sparsity: ' + str(sparsity))\n",
    "print(list_of_monomial_identifiers)\n"
   ]
  },
  {
   "cell_type": "code",
   "execution_count": 9,
   "metadata": {
    "ExecuteTime": {
     "end_time": "2020-10-08T12:31:56.282145Z",
     "start_time": "2020-10-08T12:31:56.244499Z"
    }
   },
   "outputs": [
    {
     "data": {
      "application/vnd.jupyter.widget-view+json": {
       "model_id": "bc8aecf5cb4f4f9caa2dd058428b5c1e",
       "version_major": 2,
       "version_minor": 0
      },
      "text/plain": [
       "HBox(children=(IntProgress(value=0, max=50), HTML(value='')))"
      ]
     },
     "metadata": {},
     "output_type": "display_data"
    },
    {
     "name": "stdout",
     "output_type": "stream",
     "text": [
      "\n",
      "35\n",
      "(50, 35)\n"
     ]
    }
   ],
   "source": [
    "list_of_polynomials = []\n",
    "\n",
    "if interpretation_dataset_size/((a_max-a_min)*10**int(-np.log10(a_step)))**(nCr(n+d, d)) <= 10e-4:\n",
    "    while len(list_of_polynomials) < interpretation_dataset_size:\n",
    "        random_polynomial = list(random_product([i*a_step for i in range(int(a_min*10**int(-np.log10(a_step))), int(a_max*10**int(-np.log10(a_step))))], repeat=nCr(n+d, d)))\n",
    "        if random_polynomial not in list_of_polynomials:\n",
    "            list_of_polynomials.append(random_polynomial)\n",
    "else:\n",
    "    all_polynomials_list = list(product([i*a_step for i in range(int(a_min*10**int(-np.log10(a_step))), int(a_max*10**int(-np.log10(a_step))))], repeat=nCr(n+d, d)))\n",
    "    list_of_polynomials = [all_polynomials_list[i] for i in np.random.choice(len(all_polynomials_list), interpretation_dataset_size, replace=False)]\n",
    "    del all_polynomials_list\n",
    "\n",
    "for polynomial in tqdm(list_of_polynomials):\n",
    "    sparsity_indices = np.random.choice(nCr(n+d, d), nCr(n+d, d)-sparsity, replace=False)\n",
    "    for sparsity_index in sparsity_indices:                            \n",
    "        polynomial[sparsity_index] = 0\n",
    "                                \n",
    "polynomials_list_df = pd.DataFrame(data=list_of_polynomials, columns=list_of_monomial_identifiers)\n",
    "\n",
    "    \n",
    "print(len(list_of_monomial_identifiers))\n",
    "print(polynomials_list_df.shape)"
   ]
  },
  {
   "cell_type": "code",
   "execution_count": 10,
   "metadata": {
    "ExecuteTime": {
     "end_time": "2020-10-08T12:31:56.320324Z",
     "start_time": "2020-10-08T12:31:56.283683Z"
    }
   },
   "outputs": [
    {
     "data": {
      "text/html": [
       "<div>\n",
       "<style scoped>\n",
       "    .dataframe tbody tr th:only-of-type {\n",
       "        vertical-align: middle;\n",
       "    }\n",
       "\n",
       "    .dataframe tbody tr th {\n",
       "        vertical-align: top;\n",
       "    }\n",
       "\n",
       "    .dataframe thead th {\n",
       "        text-align: right;\n",
       "    }\n",
       "</style>\n",
       "<table border=\"1\" class=\"dataframe\">\n",
       "  <thead>\n",
       "    <tr style=\"text-align: right;\">\n",
       "      <th></th>\n",
       "      <th>0000</th>\n",
       "      <th>0001</th>\n",
       "      <th>0002</th>\n",
       "      <th>0003</th>\n",
       "      <th>0010</th>\n",
       "      <th>0011</th>\n",
       "      <th>0012</th>\n",
       "      <th>0020</th>\n",
       "      <th>0021</th>\n",
       "      <th>0030</th>\n",
       "      <th>...</th>\n",
       "      <th>1020</th>\n",
       "      <th>1100</th>\n",
       "      <th>1101</th>\n",
       "      <th>1110</th>\n",
       "      <th>1200</th>\n",
       "      <th>2000</th>\n",
       "      <th>2001</th>\n",
       "      <th>2010</th>\n",
       "      <th>2100</th>\n",
       "      <th>3000</th>\n",
       "    </tr>\n",
       "  </thead>\n",
       "  <tbody>\n",
       "    <tr>\n",
       "      <th>0</th>\n",
       "      <td>6.3</td>\n",
       "      <td>-7.2</td>\n",
       "      <td>-9.4</td>\n",
       "      <td>8.9</td>\n",
       "      <td>-3.0</td>\n",
       "      <td>-3.8</td>\n",
       "      <td>-4.3</td>\n",
       "      <td>-6.5</td>\n",
       "      <td>8.8</td>\n",
       "      <td>-7.4</td>\n",
       "      <td>...</td>\n",
       "      <td>-5.0</td>\n",
       "      <td>8.3</td>\n",
       "      <td>6.6</td>\n",
       "      <td>7.9</td>\n",
       "      <td>3.9</td>\n",
       "      <td>0.7</td>\n",
       "      <td>-4.4</td>\n",
       "      <td>1.4</td>\n",
       "      <td>5.0</td>\n",
       "      <td>-2.9</td>\n",
       "    </tr>\n",
       "    <tr>\n",
       "      <th>1</th>\n",
       "      <td>-9.9</td>\n",
       "      <td>9.4</td>\n",
       "      <td>-6.0</td>\n",
       "      <td>7.8</td>\n",
       "      <td>0.8</td>\n",
       "      <td>-1.3</td>\n",
       "      <td>-2.9</td>\n",
       "      <td>-6.1</td>\n",
       "      <td>-4.5</td>\n",
       "      <td>9.5</td>\n",
       "      <td>...</td>\n",
       "      <td>-8.0</td>\n",
       "      <td>4.1</td>\n",
       "      <td>-2.5</td>\n",
       "      <td>6.0</td>\n",
       "      <td>5.8</td>\n",
       "      <td>-0.8</td>\n",
       "      <td>4.7</td>\n",
       "      <td>-5.1</td>\n",
       "      <td>8.0</td>\n",
       "      <td>-8.3</td>\n",
       "    </tr>\n",
       "    <tr>\n",
       "      <th>2</th>\n",
       "      <td>-8.9</td>\n",
       "      <td>6.9</td>\n",
       "      <td>-4.2</td>\n",
       "      <td>9.7</td>\n",
       "      <td>-2.6</td>\n",
       "      <td>-8.0</td>\n",
       "      <td>-4.1</td>\n",
       "      <td>-7.5</td>\n",
       "      <td>-0.3</td>\n",
       "      <td>-2.9</td>\n",
       "      <td>...</td>\n",
       "      <td>-5.7</td>\n",
       "      <td>3.6</td>\n",
       "      <td>8.6</td>\n",
       "      <td>-3.8</td>\n",
       "      <td>-5.9</td>\n",
       "      <td>1.8</td>\n",
       "      <td>-0.3</td>\n",
       "      <td>-3.1</td>\n",
       "      <td>6.3</td>\n",
       "      <td>7.6</td>\n",
       "    </tr>\n",
       "    <tr>\n",
       "      <th>3</th>\n",
       "      <td>4.2</td>\n",
       "      <td>-4.4</td>\n",
       "      <td>7.5</td>\n",
       "      <td>-1.7</td>\n",
       "      <td>9.6</td>\n",
       "      <td>9.8</td>\n",
       "      <td>-8.6</td>\n",
       "      <td>-4.2</td>\n",
       "      <td>-9.2</td>\n",
       "      <td>-2.0</td>\n",
       "      <td>...</td>\n",
       "      <td>-6.5</td>\n",
       "      <td>-3.7</td>\n",
       "      <td>9.0</td>\n",
       "      <td>4.3</td>\n",
       "      <td>3.7</td>\n",
       "      <td>-3.3</td>\n",
       "      <td>9.1</td>\n",
       "      <td>4.9</td>\n",
       "      <td>0.9</td>\n",
       "      <td>4.9</td>\n",
       "    </tr>\n",
       "    <tr>\n",
       "      <th>4</th>\n",
       "      <td>0.2</td>\n",
       "      <td>-0.8</td>\n",
       "      <td>-4.4</td>\n",
       "      <td>-6.5</td>\n",
       "      <td>3.0</td>\n",
       "      <td>2.6</td>\n",
       "      <td>-7.7</td>\n",
       "      <td>9.3</td>\n",
       "      <td>-8.8</td>\n",
       "      <td>-7.2</td>\n",
       "      <td>...</td>\n",
       "      <td>7.4</td>\n",
       "      <td>8.4</td>\n",
       "      <td>-7.1</td>\n",
       "      <td>7.4</td>\n",
       "      <td>3.7</td>\n",
       "      <td>9.2</td>\n",
       "      <td>-3.2</td>\n",
       "      <td>9.6</td>\n",
       "      <td>6.4</td>\n",
       "      <td>-1.3</td>\n",
       "    </tr>\n",
       "  </tbody>\n",
       "</table>\n",
       "<p>5 rows × 35 columns</p>\n",
       "</div>"
      ],
      "text/plain": [
       "   0000  0001  0002  0003  0010  0011  0012  0020  0021  0030  ...  1020  \\\n",
       "0   6.3  -7.2  -9.4   8.9  -3.0  -3.8  -4.3  -6.5   8.8  -7.4  ...  -5.0   \n",
       "1  -9.9   9.4  -6.0   7.8   0.8  -1.3  -2.9  -6.1  -4.5   9.5  ...  -8.0   \n",
       "2  -8.9   6.9  -4.2   9.7  -2.6  -8.0  -4.1  -7.5  -0.3  -2.9  ...  -5.7   \n",
       "3   4.2  -4.4   7.5  -1.7   9.6   9.8  -8.6  -4.2  -9.2  -2.0  ...  -6.5   \n",
       "4   0.2  -0.8  -4.4  -6.5   3.0   2.6  -7.7   9.3  -8.8  -7.2  ...   7.4   \n",
       "\n",
       "   1100  1101  1110  1200  2000  2001  2010  2100  3000  \n",
       "0   8.3   6.6   7.9   3.9   0.7  -4.4   1.4   5.0  -2.9  \n",
       "1   4.1  -2.5   6.0   5.8  -0.8   4.7  -5.1   8.0  -8.3  \n",
       "2   3.6   8.6  -3.8  -5.9   1.8  -0.3  -3.1   6.3   7.6  \n",
       "3  -3.7   9.0   4.3   3.7  -3.3   9.1   4.9   0.9   4.9  \n",
       "4   8.4  -7.1   7.4   3.7   9.2  -3.2   9.6   6.4  -1.3  \n",
       "\n",
       "[5 rows x 35 columns]"
      ]
     },
     "execution_count": 10,
     "metadata": {},
     "output_type": "execute_result"
    }
   ],
   "source": [
    "polynomials_list_df.head()"
   ]
  },
  {
   "cell_type": "code",
   "execution_count": 11,
   "metadata": {
    "ExecuteTime": {
     "end_time": "2020-10-08T12:31:56.347691Z",
     "start_time": "2020-10-08T12:31:56.321736Z"
    }
   },
   "outputs": [
    {
     "data": {
      "application/vnd.jupyter.widget-view+json": {
       "model_id": "965ecef6abb04316885b30bb877d4c6a",
       "version_major": 2,
       "version_minor": 0
      },
      "text/plain": [
       "HBox(children=(IntProgress(value=0, max=10), HTML(value='')))"
      ]
     },
     "metadata": {},
     "output_type": "display_data"
    },
    {
     "name": "stdout",
     "output_type": "stream",
     "text": [
      "\n"
     ]
    }
   ],
   "source": [
    "if same_training_all_polynomials:\n",
    "    x_values_list = []\n",
    "    for i in tqdm(range(lambda_dataset_size)):\n",
    "        values = np.round(np.array(random_product(np.arange(x_min, x_max, x_step), repeat=n)), int(-np.log10(x_step)))\n",
    "        while arreq_in_list(values, x_values_list):\n",
    "                values = np.round(np.array(random_product(np.arange(x_min, x_max, x_step), repeat=n)), int(-np.log10(x_step)))         \n",
    "        x_values_list.append(values)\n",
    "\n"
   ]
  },
  {
   "cell_type": "code",
   "execution_count": 12,
   "metadata": {
    "ExecuteTime": {
     "end_time": "2020-10-08T12:31:56.354107Z",
     "start_time": "2020-10-08T12:31:56.349102Z"
    }
   },
   "outputs": [
    {
     "data": {
      "text/plain": [
       "[array([0.59, 0.57, 0.72, 0.64]),\n",
       " array([ 0.42, -0.94,  0.55,  0.68]),\n",
       " array([ 0.77, -0.32, -0.93, -0.54]),\n",
       " array([-0.31,  0.79,  0.95, -0.21]),\n",
       " array([-0.14, -0.11, -0.99, -0.54]),\n",
       " array([-0.64,  0.44,  0.68,  0.02]),\n",
       " array([-0.83, -0.64,  0.89,  0.62]),\n",
       " array([-0.93, -0.77,  0.91,  0.35]),\n",
       " array([-0.45, -0.04,  0.07,  0.16]),\n",
       " array([-0.13, -0.6 , -0.06, -0.21])]"
      ]
     },
     "execution_count": 12,
     "metadata": {},
     "output_type": "execute_result"
    }
   ],
   "source": [
    "x_values_list"
   ]
  },
  {
   "cell_type": "code",
   "execution_count": 13,
   "metadata": {
    "ExecuteTime": {
     "end_time": "2020-10-08T12:31:56.359113Z",
     "start_time": "2020-10-08T12:31:56.355550Z"
    }
   },
   "outputs": [
    {
     "data": {
      "text/plain": [
       "(50, 35)"
      ]
     },
     "execution_count": 13,
     "metadata": {},
     "output_type": "execute_result"
    }
   ],
   "source": [
    "polynomials_list_df.shape"
   ]
  },
  {
   "cell_type": "code",
   "execution_count": 14,
   "metadata": {
    "ExecuteTime": {
     "end_time": "2020-10-08T12:31:56.366876Z",
     "start_time": "2020-10-08T12:31:56.360560Z"
    }
   },
   "outputs": [],
   "source": [
    "from functools import reduce\n",
    "\n",
    "def calcualate_function_with_data(coefficient_list, variable_values):\n",
    "    \n",
    "    result = 0    \n",
    "    for coefficient_value, coefficient_multipliers in zip(coefficient_list, list_of_monomial_identifiers):\n",
    "        partial_results = [variable_value**int(coefficient_multiplier) for coefficient_multiplier, variable_value in zip(coefficient_multipliers, variable_values)]\n",
    "        \n",
    "        result += coefficient_value * reduce(lambda x, y: x*y, partial_results)\n",
    "\n",
    "    return result, variable_values\n",
    " \n",
    "def calculate_function_values_from_polynomial(true_value_test, evaluation_dataset):\n",
    "\n",
    "    #print('method_call')\n",
    "\n",
    "    if isinstance(true_value_test, pd.DataFrame):\n",
    "        true_value_test = true_value_test.values\n",
    "        \n",
    "    true_value_fv = []\n",
    "    true_value_coeff = []\n",
    "    \n",
    "    #print('start_loop')\n",
    "    \n",
    "    for evaluation in evaluation_dataset:\n",
    "        true_function_value, true_coeff = calcualate_function_with_data(true_value_test, evaluation)\n",
    "       \n",
    "        true_value_fv.append(true_function_value) \n",
    "        true_value_coeff.append(true_coeff)\n",
    "\n",
    "\n",
    "    #print('end_loop')\n",
    "        \n",
    "    return [true_value_test, pd.DataFrame(np.array(true_value_coeff))], [true_value_test, pd.DataFrame(np.array(true_value_fv))]\n"
   ]
  },
  {
   "cell_type": "code",
   "execution_count": 15,
   "metadata": {
    "ExecuteTime": {
     "end_time": "2020-10-08T12:31:57.413862Z",
     "start_time": "2020-10-08T12:31:56.368277Z"
    }
   },
   "outputs": [
    {
     "data": {
      "application/vnd.jupyter.widget-view+json": {
       "model_id": "5035271842ca476fa054031a89036669",
       "version_major": 2,
       "version_minor": 0
      },
      "text/plain": [
       "HBox(children=(IntProgress(value=0, max=1), HTML(value='')))"
      ]
     },
     "metadata": {},
     "output_type": "display_data"
    },
    {
     "name": "stderr",
     "output_type": "stream",
     "text": [
      "[Parallel(n_jobs=5)]: Using backend LokyBackend with 5 concurrent workers.\n"
     ]
    },
    {
     "name": "stdout",
     "output_type": "stream",
     "text": [
      "\n"
     ]
    },
    {
     "name": "stderr",
     "output_type": "stream",
     "text": [
      "[Parallel(n_jobs=5)]: Done  22 tasks      | elapsed:    1.0s\n",
      "[Parallel(n_jobs=5)]: Done  50 out of  50 | elapsed:    1.0s finished\n"
     ]
    }
   ],
   "source": [
    "result_list = []\n",
    "\n",
    "polynomials_X_data_list = []\n",
    "polynomials_y_data_list = []\n",
    "    \n",
    "chunks = max(interpretation_dataset_size//1000, 1)\n",
    "\n",
    "for polynomials_list_df_chunk in tqdm(np.array_split(polynomials_list_df, chunks), total=chunks):\n",
    "    parallel = Parallel(n_jobs=n_jobs, verbose=3, backend='loky')\n",
    "    result_sublist = parallel(delayed(calculate_function_values_from_polynomial)(polynomial, x_values_list) for iterator, polynomial in polynomials_list_df_chunk.iterrows())  \n",
    "    result_list.extend(result_sublist)\n",
    "    del parallel\n",
    "\n",
    "polynomials_X_data_list = [result[0] for result in result_list]\n",
    "polynomials_y_data_list = [result[1] for result in result_list]\n"
   ]
  },
  {
   "cell_type": "code",
   "execution_count": 16,
   "metadata": {
    "ExecuteTime": {
     "end_time": "2020-10-08T12:31:57.421799Z",
     "start_time": "2020-10-08T12:31:57.416543Z"
    }
   },
   "outputs": [
    {
     "data": {
      "text/plain": [
       "0000    6.3\n",
       "0001   -7.2\n",
       "0002   -9.4\n",
       "0003    8.9\n",
       "0010   -3.0\n",
       "Name: 0, dtype: float64"
      ]
     },
     "execution_count": 16,
     "metadata": {},
     "output_type": "execute_result"
    }
   ],
   "source": [
    "polynomials_X_data_list[0][0].head()"
   ]
  },
  {
   "cell_type": "code",
   "execution_count": 17,
   "metadata": {
    "ExecuteTime": {
     "end_time": "2020-10-08T12:31:57.433660Z",
     "start_time": "2020-10-08T12:31:57.423485Z"
    }
   },
   "outputs": [
    {
     "data": {
      "text/html": [
       "<div>\n",
       "<style scoped>\n",
       "    .dataframe tbody tr th:only-of-type {\n",
       "        vertical-align: middle;\n",
       "    }\n",
       "\n",
       "    .dataframe tbody tr th {\n",
       "        vertical-align: top;\n",
       "    }\n",
       "\n",
       "    .dataframe thead th {\n",
       "        text-align: right;\n",
       "    }\n",
       "</style>\n",
       "<table border=\"1\" class=\"dataframe\">\n",
       "  <thead>\n",
       "    <tr style=\"text-align: right;\">\n",
       "      <th></th>\n",
       "      <th>0</th>\n",
       "      <th>1</th>\n",
       "      <th>2</th>\n",
       "      <th>3</th>\n",
       "    </tr>\n",
       "  </thead>\n",
       "  <tbody>\n",
       "    <tr>\n",
       "      <th>0</th>\n",
       "      <td>0.59</td>\n",
       "      <td>0.57</td>\n",
       "      <td>0.72</td>\n",
       "      <td>0.64</td>\n",
       "    </tr>\n",
       "    <tr>\n",
       "      <th>1</th>\n",
       "      <td>0.42</td>\n",
       "      <td>-0.94</td>\n",
       "      <td>0.55</td>\n",
       "      <td>0.68</td>\n",
       "    </tr>\n",
       "    <tr>\n",
       "      <th>2</th>\n",
       "      <td>0.77</td>\n",
       "      <td>-0.32</td>\n",
       "      <td>-0.93</td>\n",
       "      <td>-0.54</td>\n",
       "    </tr>\n",
       "    <tr>\n",
       "      <th>3</th>\n",
       "      <td>-0.31</td>\n",
       "      <td>0.79</td>\n",
       "      <td>0.95</td>\n",
       "      <td>-0.21</td>\n",
       "    </tr>\n",
       "    <tr>\n",
       "      <th>4</th>\n",
       "      <td>-0.14</td>\n",
       "      <td>-0.11</td>\n",
       "      <td>-0.99</td>\n",
       "      <td>-0.54</td>\n",
       "    </tr>\n",
       "  </tbody>\n",
       "</table>\n",
       "</div>"
      ],
      "text/plain": [
       "      0     1     2     3\n",
       "0  0.59  0.57  0.72  0.64\n",
       "1  0.42 -0.94  0.55  0.68\n",
       "2  0.77 -0.32 -0.93 -0.54\n",
       "3 -0.31  0.79  0.95 -0.21\n",
       "4 -0.14 -0.11 -0.99 -0.54"
      ]
     },
     "execution_count": 17,
     "metadata": {},
     "output_type": "execute_result"
    }
   ],
   "source": [
    "polynomials_X_data_list[0][1].head()"
   ]
  },
  {
   "cell_type": "code",
   "execution_count": 18,
   "metadata": {
    "ExecuteTime": {
     "end_time": "2020-10-08T12:31:57.438823Z",
     "start_time": "2020-10-08T12:31:57.435112Z"
    }
   },
   "outputs": [
    {
     "data": {
      "text/plain": [
       "array([ 6.3, -7.2, -9.4,  8.9, -3. , -3.8, -4.3, -6.5,  8.8, -7.4,  7.3,\n",
       "        8.9,  3.9, -7.8,  5.1,  0.8, -9.2, -9.3, -7.7, -4.5, -4.1,  2.9,\n",
       "        5.4, -9.4,  4.3, -5. ,  8.3,  6.6,  7.9,  3.9,  0.7, -4.4,  1.4,\n",
       "        5. , -2.9])"
      ]
     },
     "execution_count": 18,
     "metadata": {},
     "output_type": "execute_result"
    }
   ],
   "source": [
    "polynomials_y_data_list[0][0].values"
   ]
  },
  {
   "cell_type": "code",
   "execution_count": 19,
   "metadata": {
    "ExecuteTime": {
     "end_time": "2020-10-08T12:31:57.444672Z",
     "start_time": "2020-10-08T12:31:57.440256Z"
    }
   },
   "outputs": [
    {
     "data": {
      "text/plain": [
       "0000    6.3\n",
       "0001   -7.2\n",
       "0002   -9.4\n",
       "0003    8.9\n",
       "0010   -3.0\n",
       "Name: 0, dtype: float64"
      ]
     },
     "execution_count": 19,
     "metadata": {},
     "output_type": "execute_result"
    }
   ],
   "source": [
    "polynomials_y_data_list[0][0].head()"
   ]
  },
  {
   "cell_type": "code",
   "execution_count": 20,
   "metadata": {
    "ExecuteTime": {
     "end_time": "2020-10-08T12:31:57.452115Z",
     "start_time": "2020-10-08T12:31:57.446136Z"
    }
   },
   "outputs": [
    {
     "data": {
      "text/html": [
       "<div>\n",
       "<style scoped>\n",
       "    .dataframe tbody tr th:only-of-type {\n",
       "        vertical-align: middle;\n",
       "    }\n",
       "\n",
       "    .dataframe tbody tr th {\n",
       "        vertical-align: top;\n",
       "    }\n",
       "\n",
       "    .dataframe thead th {\n",
       "        text-align: right;\n",
       "    }\n",
       "</style>\n",
       "<table border=\"1\" class=\"dataframe\">\n",
       "  <thead>\n",
       "    <tr style=\"text-align: right;\">\n",
       "      <th></th>\n",
       "      <th>0</th>\n",
       "    </tr>\n",
       "  </thead>\n",
       "  <tbody>\n",
       "    <tr>\n",
       "      <th>0</th>\n",
       "      <td>-6.569992</td>\n",
       "    </tr>\n",
       "    <tr>\n",
       "      <th>1</th>\n",
       "      <td>-40.256885</td>\n",
       "    </tr>\n",
       "    <tr>\n",
       "      <th>2</th>\n",
       "      <td>1.886288</td>\n",
       "    </tr>\n",
       "    <tr>\n",
       "      <th>3</th>\n",
       "      <td>-19.520226</td>\n",
       "    </tr>\n",
       "    <tr>\n",
       "      <th>4</th>\n",
       "      <td>2.400554</td>\n",
       "    </tr>\n",
       "  </tbody>\n",
       "</table>\n",
       "</div>"
      ],
      "text/plain": [
       "           0\n",
       "0  -6.569992\n",
       "1 -40.256885\n",
       "2   1.886288\n",
       "3 -19.520226\n",
       "4   2.400554"
      ]
     },
     "execution_count": 20,
     "metadata": {},
     "output_type": "execute_result"
    }
   ],
   "source": [
    "polynomials_y_data_list[0][1].head()"
   ]
  },
  {
   "cell_type": "code",
   "execution_count": 27,
   "metadata": {
    "ExecuteTime": {
     "end_time": "2020-10-08T12:35:01.941306Z",
     "start_time": "2020-10-08T12:35:01.934311Z"
    }
   },
   "outputs": [
    {
     "data": {
      "text/plain": [
       "[0000    6.3\n",
       " 0001   -7.2\n",
       " 0002   -9.4\n",
       " 0003    8.9\n",
       " 0010   -3.0\n",
       " 0011   -3.8\n",
       " 0012   -4.3\n",
       " 0020   -6.5\n",
       " 0021    8.8\n",
       " 0030   -7.4\n",
       " 0100    7.3\n",
       " 0101    8.9\n",
       " 0102    3.9\n",
       " 0110   -7.8\n",
       " 0111    5.1\n",
       " 0120    0.8\n",
       " 0200   -9.2\n",
       " 0201   -9.3\n",
       " 0210   -7.7\n",
       " 0300   -4.5\n",
       " 1000   -4.1\n",
       " 1001    2.9\n",
       " 1002    5.4\n",
       " 1010   -9.4\n",
       " 1011    4.3\n",
       " 1020   -5.0\n",
       " 1100    8.3\n",
       " 1101    6.6\n",
       " 1110    7.9\n",
       " 1200    3.9\n",
       " 2000    0.7\n",
       " 2001   -4.4\n",
       " 2010    1.4\n",
       " 2100    5.0\n",
       " 3000   -2.9\n",
       " Name: 0, dtype: float64,       0     1     2     3\n",
       " 0  0.59  0.57  0.72  0.64\n",
       " 1  0.42 -0.94  0.55  0.68\n",
       " 2  0.77 -0.32 -0.93 -0.54\n",
       " 3 -0.31  0.79  0.95 -0.21\n",
       " 4 -0.14 -0.11 -0.99 -0.54\n",
       " 5 -0.64  0.44  0.68  0.02\n",
       " 6 -0.83 -0.64  0.89  0.62\n",
       " 7 -0.93 -0.77  0.91  0.35\n",
       " 8 -0.45 -0.04  0.07  0.16\n",
       " 9 -0.13 -0.60 -0.06 -0.21]"
      ]
     },
     "execution_count": 27,
     "metadata": {},
     "output_type": "execute_result"
    }
   ],
   "source": [
    "polynomials_X_data_list[0]"
   ]
  },
  {
   "cell_type": "code",
   "execution_count": 26,
   "metadata": {
    "ExecuteTime": {
     "end_time": "2020-10-08T12:34:55.630696Z",
     "start_time": "2020-10-08T12:34:55.624638Z"
    }
   },
   "outputs": [
    {
     "data": {
      "text/plain": [
       "[0000    6.3\n",
       " 0001   -7.2\n",
       " 0002   -9.4\n",
       " 0003    8.9\n",
       " 0010   -3.0\n",
       " 0011   -3.8\n",
       " 0012   -4.3\n",
       " 0020   -6.5\n",
       " 0021    8.8\n",
       " 0030   -7.4\n",
       " 0100    7.3\n",
       " 0101    8.9\n",
       " 0102    3.9\n",
       " 0110   -7.8\n",
       " 0111    5.1\n",
       " 0120    0.8\n",
       " 0200   -9.2\n",
       " 0201   -9.3\n",
       " 0210   -7.7\n",
       " 0300   -4.5\n",
       " 1000   -4.1\n",
       " 1001    2.9\n",
       " 1002    5.4\n",
       " 1010   -9.4\n",
       " 1011    4.3\n",
       " 1020   -5.0\n",
       " 1100    8.3\n",
       " 1101    6.6\n",
       " 1110    7.9\n",
       " 1200    3.9\n",
       " 2000    0.7\n",
       " 2001   -4.4\n",
       " 2010    1.4\n",
       " 2100    5.0\n",
       " 3000   -2.9\n",
       " Name: 0, dtype: float64,            0\n",
       " 0  -6.569992\n",
       " 1 -40.256885\n",
       " 2   1.886288\n",
       " 3 -19.520226\n",
       " 4   2.400554\n",
       " 5   2.794980\n",
       " 6 -10.266045\n",
       " 7  -1.225909\n",
       " 8   6.582626\n",
       " 9   3.081288]"
      ]
     },
     "execution_count": 26,
     "metadata": {},
     "output_type": "execute_result"
    }
   ],
   "source": [
    "polynomials_y_data_list[0]"
   ]
  },
  {
   "cell_type": "code",
   "execution_count": 21,
   "metadata": {
    "ExecuteTime": {
     "end_time": "2020-10-08T12:31:57.507142Z",
     "start_time": "2020-10-08T12:31:57.453637Z"
    }
   },
   "outputs": [],
   "source": [
    "path_polynomials = './data/saved_polynomial_lists/polynomials_sample' + str(interpretation_dataset_size) + '_variables_' + str(n) +  '_degree_' + str(d) + '_sparsity_' + str(sparsity) + '_astep_' + str(a_step)  + '_amin_' + str(a_min) + '_amax_' + str(a_max) + '.csv'\n",
    "polynomials_list_df.to_csv(path_polynomials, index=False)\n",
    "\n",
    "path_X_data = './data/saved_polynomial_lists/X_sample' + str(interpretation_dataset_size) + '_train_' + str(lambda_dataset_size) + '_variables_' + str(n) + '_degree_' + str(d) + '_sparsity_' + str(sparsity) + '_astep_' + str(a_step) + '_amin_' + str(a_min) + '_amax_' + str(a_max) + '_xstep_' + str(x_step) + '_xmin_' + str(x_min) + '_xmax_' + str(x_max) + training_string + '.pkl'\n",
    "with open(path_X_data, 'wb') as f:\n",
    "    pickle.dump(polynomials_X_data_list, f)#, protocol=2)\n",
    "    \n",
    "path_y_data = './data/saved_polynomial_lists/y_sample' + str(interpretation_dataset_size) + '_train_' + str(lambda_dataset_size) + '_variables_' + str(n) + '_degree_' + str(d) + '_sparsity_' + str(sparsity) + '_astep_' + str(a_step) + '_amin_' + str(a_min) + '_amax_' + str(a_max) + '_xstep_' + str(x_step) + '_xmin_' + str(x_min) + '_xmax_' + str(x_max) + training_string + '.pkl'\n",
    "with open(path_y_data, 'wb') as f:\n",
    "    pickle.dump(polynomials_y_data_list, f)#, protocol=2)\n"
   ]
  },
  {
   "cell_type": "code",
   "execution_count": null,
   "metadata": {},
   "outputs": [],
   "source": []
  },
  {
   "cell_type": "code",
   "execution_count": null,
   "metadata": {},
   "outputs": [],
   "source": []
  }
 ],
 "metadata": {
  "kernelspec": {
   "display_name": "Python 3",
   "language": "python",
   "name": "python3"
  },
  "language_info": {
   "codemirror_mode": {
    "name": "ipython",
    "version": 3
   },
   "file_extension": ".py",
   "mimetype": "text/x-python",
   "name": "python",
   "nbconvert_exporter": "python",
   "pygments_lexer": "ipython3",
   "version": "3.6.8"
  }
 },
 "nbformat": 4,
 "nbformat_minor": 2
}
