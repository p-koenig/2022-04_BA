{
 "cells": [
  {
   "cell_type": "markdown",
   "metadata": {},
   "source": [
    "# Function Generation for the Training of λ-Nets"
   ]
  },
  {
   "cell_type": "markdown",
   "metadata": {},
   "source": [
    "## Package installation (uncommand first line to install packages at the beginning)"
   ]
  },
  {
   "cell_type": "code",
   "execution_count": 1,
   "metadata": {
    "ExecuteTime": {
     "end_time": "2020-11-19T11:23:49.185625Z",
     "start_time": "2020-11-19T11:23:49.156601Z"
    }
   },
   "outputs": [],
   "source": [
    "%%script false --no-raise-error\n",
    "#if some errors occur during the installation consider using \"sudo pip install\"\n",
    "!pip install numpy\n",
    "!pip install pandas\n",
    "!pip install truth-table-generator\n",
    "!pip install more-itertools\n",
    "!pip install tqdm\n",
    "!pip install joblib\n",
    "!pip install scipy\n",
    "!pip install PrettyTable\n",
    "!pip install colored\n",
    "!pip install scikit-learn\n",
    "!pip install keras\n",
    "!pip install ipython\n",
    "!pip install livelossplot\n",
    "!pip install matplotlib\n",
    "!pip install seaborn\n",
    "!pip install tensorflow\n",
    "!pip install tensorflow-gpu"
   ]
  },
  {
   "cell_type": "markdown",
   "metadata": {},
   "source": [
    "## Specitication of Experiment Settings"
   ]
  },
  {
   "cell_type": "code",
   "execution_count": 2,
   "metadata": {
    "ExecuteTime": {
     "end_time": "2020-11-19T11:23:49.205076Z",
     "start_time": "2020-11-19T11:23:49.194442Z"
    }
   },
   "outputs": [],
   "source": [
    "n = 4  # number of variables\n",
    "\n",
    "interpretation_dataset_size = 2**(2**(4)) #specifies the number of functions generated (specifies the interpretation-net dataset size), default to 2**(2**(4))\n"
   ]
  },
  {
   "cell_type": "code",
   "execution_count": 3,
   "metadata": {
    "ExecuteTime": {
     "end_time": "2020-11-19T11:23:49.226227Z",
     "start_time": "2020-11-19T11:23:49.212846Z"
    }
   },
   "outputs": [
    {
     "name": "stdout",
     "output_type": "stream",
     "text": [
      "Variables: 4 (abcd)\n",
      "Dataset Size: 65536\n"
     ]
    }
   ],
   "source": [
    "##############DO NOT CHANGE###################\n",
    "variables = 'abcdefghijklmnopqrstuvwxyz'[:n]\n",
    "\n",
    "RANDOM_SEED = 42\n",
    "\n",
    "max_size = True if (interpretation_dataset_size == 2**(2**(4)) and n ==4) else False\n",
    "\n",
    "print('Variables: ' + str(n) + ' (' + variables + ')')\n",
    "print('Dataset Size: ' + str(interpretation_dataset_size))"
   ]
  },
  {
   "cell_type": "markdown",
   "metadata": {},
   "source": [
    "## Imports"
   ]
  },
  {
   "cell_type": "code",
   "execution_count": 4,
   "metadata": {
    "ExecuteTime": {
     "end_time": "2020-11-19T11:23:51.113996Z",
     "start_time": "2020-11-19T11:23:49.230910Z"
    }
   },
   "outputs": [],
   "source": [
    "import ttg\n",
    "from itertools import product       # forms cartesian products\n",
    "from more_itertools import random_product\n",
    "from tqdm import tqdm_notebook as tqdm\n",
    "import pickle\n",
    "\n",
    "import pandas as pd\n",
    "from joblib import Parallel, delayed\n",
    "import random \n",
    "from random import sample \n",
    "random.seed(RANDOM_SEED)\n",
    "\n",
    "import os\n",
    "os.environ['TF_CPP_MIN_LOG_LEVEL'] = '2' \n",
    "\n",
    "#generate empty directories needed\n",
    "directory_names = ['parameters', 'pickled_expression_lists', 'results', 'saved_models', 'weights', 'weights_training']\n",
    "if not os.path.exists('./data'):\n",
    "    os.mkdir('./data')\n",
    "for directory_name in directory_names:\n",
    "    path = './data/' + directory_name\n",
    "    if not os.path.exists(path):\n",
    "        os.mkdir(path)"
   ]
  },
  {
   "cell_type": "markdown",
   "metadata": {},
   "source": [
    "# Function Generation"
   ]
  },
  {
   "cell_type": "code",
   "execution_count": 5,
   "metadata": {
    "ExecuteTime": {
     "end_time": "2020-11-19T11:23:51.897743Z",
     "start_time": "2020-11-19T11:23:51.125307Z"
    }
   },
   "outputs": [
    {
     "data": {
      "application/vnd.jupyter.widget-view+json": {
       "model_id": "3e815d50a0594f4d9fbca246a0450f37",
       "version_major": 2,
       "version_minor": 0
      },
      "text/plain": [
       "HBox(children=(IntProgress(value=1, bar_style='info', max=1), HTML(value='')))"
      ]
     },
     "metadata": {},
     "output_type": "display_data"
    },
    {
     "name": "stdout",
     "output_type": "stream",
     "text": [
      "\n"
     ]
    }
   ],
   "source": [
    "list_of_expessions = []\n",
    "\n",
    "pairs = [('~'+var, var) for var in variables]\n",
    "\n",
    "inputs = list(product(*pairs))\n",
    "\n",
    "if max_size:\n",
    "    for i, outputs in tqdm(enumerate(product([0, 1], repeat=len(inputs)))):    \n",
    "        terms = [' and '.join(row) for row, output in zip(inputs, outputs) if output]\n",
    "        if not terms:\n",
    "            terms = ['False']\n",
    "        list_of_expessions.append(' or '.join(terms))\n",
    "else:\n",
    "    for i in tqdm(range(interpretation_dataset_size)):\n",
    "        outputs = random_product([0, 1], repeat=len(inputs))\n",
    "        terms = [' and '.join(row) for row, output in zip(inputs, outputs) if output]\n",
    "        if not terms:\n",
    "            terms = ['False']\n",
    "        expression = ' or '.join(terms)\n",
    "        while expression in list_of_expessions:\n",
    "            outputs = random_product([0, 1], repeat=len(inputs))\n",
    "            terms = [' and '.join(row) for row, output in zip(inputs, outputs) if output]\n",
    "            if not terms:\n",
    "                terms = ['False']\n",
    "            expression = ' or '.join(terms)           \n",
    "        list_of_expessions.append(expression)\n",
    "        \n"
   ]
  },
  {
   "cell_type": "code",
   "execution_count": 6,
   "metadata": {
    "ExecuteTime": {
     "end_time": "2020-11-19T11:25:14.370750Z",
     "start_time": "2020-11-19T11:23:51.902813Z"
    }
   },
   "outputs": [
    {
     "data": {
      "application/vnd.jupyter.widget-view+json": {
       "model_id": "e5a7a5a7a8d04a67b2bbbd819ba6af26",
       "version_major": 2,
       "version_minor": 0
      },
      "text/plain": [
       "HBox(children=(IntProgress(value=0, max=65536), HTML(value='')))"
      ]
     },
     "metadata": {},
     "output_type": "display_data"
    },
    {
     "name": "stdout",
     "output_type": "stream",
     "text": [
      "\n"
     ]
    }
   ],
   "source": [
    "list_of_tables = []\n",
    "for expression in tqdm(list_of_expessions):\n",
    "    table = ttg.Truths([variable for variable in variables[:n]], [expression])\n",
    "    list_of_tables.append(table)"
   ]
  },
  {
   "cell_type": "code",
   "execution_count": 7,
   "metadata": {
    "ExecuteTime": {
     "end_time": "2020-11-19T11:46:20.729694Z",
     "start_time": "2020-11-19T11:25:14.375371Z"
    }
   },
   "outputs": [
    {
     "name": "stderr",
     "output_type": "stream",
     "text": [
      "[Parallel(n_jobs=-1)]: Using backend MultiprocessingBackend with 24 concurrent workers.\n",
      "[Parallel(n_jobs=-1)]: Done   2 tasks      | elapsed:    0.3s\n",
      "[Parallel(n_jobs=-1)]: Done 256 tasks      | elapsed:    3.8s\n",
      "[Parallel(n_jobs=-1)]: Done 756 tasks      | elapsed:   11.1s\n",
      "[Parallel(n_jobs=-1)]: Done 1456 tasks      | elapsed:   21.7s\n",
      "[Parallel(n_jobs=-1)]: Done 2356 tasks      | elapsed:   36.0s\n",
      "[Parallel(n_jobs=-1)]: Done 3456 tasks      | elapsed:   54.3s\n",
      "[Parallel(n_jobs=-1)]: Done 4756 tasks      | elapsed:  1.3min\n",
      "[Parallel(n_jobs=-1)]: Done 6256 tasks      | elapsed:  1.7min\n",
      "[Parallel(n_jobs=-1)]: Done 7626 tasks      | elapsed:  2.1min\n",
      "[Parallel(n_jobs=-1)]: Done 8576 tasks      | elapsed:  2.4min\n",
      "[Parallel(n_jobs=-1)]: Done 9626 tasks      | elapsed:  2.7min\n",
      "[Parallel(n_jobs=-1)]: Done 10776 tasks      | elapsed:  3.0min\n",
      "[Parallel(n_jobs=-1)]: Done 12026 tasks      | elapsed:  3.4min\n",
      "[Parallel(n_jobs=-1)]: Done 13376 tasks      | elapsed:  3.8min\n",
      "[Parallel(n_jobs=-1)]: Done 14826 tasks      | elapsed:  4.3min\n",
      "[Parallel(n_jobs=-1)]: Done 16376 tasks      | elapsed:  4.8min\n",
      "[Parallel(n_jobs=-1)]: Done 18026 tasks      | elapsed:  5.3min\n",
      "[Parallel(n_jobs=-1)]: Done 19776 tasks      | elapsed:  5.8min\n",
      "[Parallel(n_jobs=-1)]: Done 21626 tasks      | elapsed:  6.4min\n",
      "[Parallel(n_jobs=-1)]: Done 23576 tasks      | elapsed:  7.0min\n",
      "[Parallel(n_jobs=-1)]: Done 25626 tasks      | elapsed:  7.7min\n",
      "[Parallel(n_jobs=-1)]: Done 27776 tasks      | elapsed:  8.4min\n",
      "[Parallel(n_jobs=-1)]: Done 30026 tasks      | elapsed:  9.2min\n",
      "[Parallel(n_jobs=-1)]: Done 32376 tasks      | elapsed: 10.0min\n",
      "[Parallel(n_jobs=-1)]: Done 34826 tasks      | elapsed: 10.8min\n",
      "[Parallel(n_jobs=-1)]: Done 37376 tasks      | elapsed: 11.6min\n",
      "[Parallel(n_jobs=-1)]: Done 40026 tasks      | elapsed: 12.4min\n",
      "[Parallel(n_jobs=-1)]: Done 42776 tasks      | elapsed: 13.3min\n",
      "[Parallel(n_jobs=-1)]: Done 45626 tasks      | elapsed: 14.3min\n",
      "[Parallel(n_jobs=-1)]: Done 48576 tasks      | elapsed: 15.1min\n",
      "[Parallel(n_jobs=-1)]: Done 51626 tasks      | elapsed: 15.9min\n",
      "[Parallel(n_jobs=-1)]: Done 54776 tasks      | elapsed: 17.0min\n",
      "[Parallel(n_jobs=-1)]: Done 58026 tasks      | elapsed: 18.1min\n",
      "[Parallel(n_jobs=-1)]: Done 61376 tasks      | elapsed: 19.4min\n",
      "[Parallel(n_jobs=-1)]: Done 64826 tasks      | elapsed: 20.7min\n",
      "[Parallel(n_jobs=-1)]: Done 65536 out of 65536 | elapsed: 21.0min finished\n"
     ]
    }
   ],
   "source": [
    "def asPandas(table):\n",
    "    pandas_table = table.as_pandas()\n",
    "    return pandas_table\n",
    "\n",
    "list_of_tables_pandas = Parallel(n_jobs=-1, verbose=1, backend='multiprocessing')(map(delayed(asPandas), list_of_tables)) #, backend=\"threading\"\n",
    "\n"
   ]
  },
  {
   "cell_type": "code",
   "execution_count": 8,
   "metadata": {
    "ExecuteTime": {
     "end_time": "2020-11-19T11:46:25.905407Z",
     "start_time": "2020-11-19T11:46:20.746666Z"
    }
   },
   "outputs": [],
   "source": [
    "#Generate the zhegalkin polynoms and add them to the dataframe\n",
    "from sympy import *\n",
    "from sympy.logic.boolalg import Xor, BooleanTrue\n",
    "from sympy.core.compatibility import ordered, as_int\n",
    "from sympy.abc import a, b, c, d, e, f\n",
    "\n",
    "def anf_coeffs(truthvalues):\n",
    "    \"\"\"\n",
    "    Convert a list of truth values of some boolean expression\n",
    "    to the list of coefficients of the polynomial mod 2 (exclusive\n",
    "    disjunction) representing the boolean expression in ANF\n",
    "    (i.e., the \"Zhegalkin polynomial\").\n",
    "    There are 2^n possible Zhegalkin monomials in n variables, since\n",
    "    each monomial is fully specified by the presence or absence of\n",
    "    each variable.\n",
    "    We can enumerate all the monomials. For example, boolean\n",
    "    function with four variables (a, b, c, d) can contain\n",
    "    up to 2^4 = 16 monomials. The 13-th monomial is the\n",
    "    product a & b & d, because 13 in binary is 1, 1, 0, 1.\n",
    "    A given monomial's presence or absence in a polynomial corresponds\n",
    "    to that monomial's coefficient being 1 or 0 respectively.\n",
    "    Examples\n",
    "    ========\n",
    "    >>> from sympy.logic.boolalg import anf_coeffs, bool_monomial, Xor\n",
    "    >>> from sympy.abc import a, b, c\n",
    "    >>> truthvalues = [0, 1, 1, 0, 0, 1, 0, 1]\n",
    "    >>> coeffs = anf_coeffs(truthvalues)\n",
    "    >>> coeffs\n",
    "    [0, 1, 1, 0, 0, 0, 1, 0]\n",
    "    >>> polynomial = Xor(*[\n",
    "    ...     bool_monomial(k, [a, b, c])\n",
    "    ...     for k, coeff in enumerate(coeffs) if coeff == 1\n",
    "    ... ])\n",
    "    >>> polynomial\n",
    "    b ^ c ^ (a & b)\n",
    "    \"\"\"\n",
    "\n",
    "    s = '{0:b}'.format(len(truthvalues))\n",
    "    n = len(s) - 1\n",
    "\n",
    "    if len(truthvalues) != 2**n:\n",
    "        raise ValueError(\"The number of truth values must be a power of two, \"\n",
    "                         \"got %d\" % len(truthvalues))\n",
    "\n",
    "    coeffs = [[v] for v in truthvalues]\n",
    "\n",
    "    for i in range(n):\n",
    "        tmp = []\n",
    "        for j in range(2 ** (n-i-1)):\n",
    "            tmp.append(coeffs[2*j] +\n",
    "                list(map(lambda x, y: x^y, coeffs[2*j], coeffs[2*j+1])))\n",
    "        coeffs = tmp\n",
    "\n",
    "    return coeffs[0]\n",
    "\n",
    "def bool_monomial(k, variables):\n",
    "    \"\"\"\n",
    "    Return the k-th monomial.\n",
    "    Monomials are numbered by a binary encoding of the presence and\n",
    "    absences of the variables. This convention assigns the value\n",
    "    1 to the presence of variable and 0 to the absence of variable.\n",
    "    Each boolean function can be uniquely represented by a\n",
    "    Zhegalkin Polynomial (Algebraic Normal Form). The Zhegalkin\n",
    "    Polynomial of the boolean function with n variables can contain\n",
    "    up to 2^n monomials. We can enumarate all the monomials.\n",
    "    Each monomial is fully specified by the presence or absence\n",
    "    of each variable.\n",
    "    For example, boolean function with four variables (a, b, c, d)\n",
    "    can contain up to 2^4 = 16 monomials. The 13-th monomial is the\n",
    "    product a & b & d, because 13 in binary is 1, 1, 0, 1.\n",
    "    Parameters\n",
    "    ==========\n",
    "    k : int or list of 1's and 0's\n",
    "    variables : list of variables\n",
    "    Examples\n",
    "    ========\n",
    "    >>> from sympy.logic.boolalg import bool_monomial\n",
    "    >>> from sympy.abc import x, y, z\n",
    "    >>> bool_monomial([1, 0, 1], [x, y, z])\n",
    "    x & z\n",
    "    >>> bool_monomial(6, [x, y, z])\n",
    "    x & y\n",
    "    \"\"\"\n",
    "    if isinstance(k, int):\n",
    "        k = integer_to_term(k, len(variables))\n",
    "    variables = list(map(sympify, variables))\n",
    "    return _convert_to_varsANF(k, variables)\n",
    "\n",
    "def integer_to_term(k, n_bits=None):\n",
    "    \"\"\"\n",
    "    Return a list of the base-2 digits in the integer, ``k``.\n",
    "    Parameters\n",
    "    ==========\n",
    "    k : int\n",
    "    n_bits : int\n",
    "        If ``n_bits`` is given and the number of digits in the binary\n",
    "        representation of ``k`` is smaller than ``n_bits`` then left-pad the\n",
    "        list with 0s.\n",
    "    Examples\n",
    "    ========\n",
    "    >>> from sympy.logic.boolalg import integer_to_term\n",
    "    >>> integer_to_term(4)\n",
    "    [1, 0, 0]\n",
    "    >>> integer_to_term(4, 6)\n",
    "    [0, 0, 0, 1, 0, 0]\n",
    "    \"\"\"\n",
    "\n",
    "    s = '{0:0{1}b}'.format(abs(as_int(k)), as_int(abs(n_bits or 0)))\n",
    "    return list(map(int, s))\n",
    "\n",
    "def _convert_to_varsANF(term, variables):\n",
    "    \"\"\"\n",
    "    Converts a term in the expansion of a function from binary to it's\n",
    "    variable form (for ANF).\n",
    "    Parameters\n",
    "    ==========\n",
    "    term : list of 1's and 0's (complementation patter)\n",
    "    variables : list of variables\n",
    "    \"\"\"\n",
    "    temp = []\n",
    "    for i, m in enumerate(term):\n",
    "        if m == 1:\n",
    "            temp.append(variables[i])\n",
    "        else:\n",
    "            pass # ignore 0s\n",
    "\n",
    "    if temp == []:\n",
    "        return BooleanTrue()\n",
    "\n",
    "    return And(*temp)\n",
    "\n"
   ]
  },
  {
   "cell_type": "code",
   "execution_count": 9,
   "metadata": {
    "ExecuteTime": {
     "end_time": "2020-11-19T11:46:33.020572Z",
     "start_time": "2020-11-19T11:46:25.919267Z"
    }
   },
   "outputs": [],
   "source": [
    "#Convert to zhegalkin polynoms and append it\n",
    "truthvalues_list = []\n",
    "tmp_list = []\n",
    "for formula in list_of_tables_pandas:\n",
    "    for row in formula.values:\n",
    "        tmp_list.append(row[n])\n",
    "    truthvalues_list.append(tmp_list)\n",
    "    tmp_list = list()"
   ]
  },
  {
   "cell_type": "code",
   "execution_count": 10,
   "metadata": {
    "ExecuteTime": {
     "end_time": "2020-11-19T12:27:59.070781Z",
     "start_time": "2020-11-19T11:46:33.025436Z"
    }
   },
   "outputs": [],
   "source": [
    "#Convert truthvalues in Zhegalkin polynomials with the help of the library\n",
    "var_list = []\n",
    "for var in variables:\n",
    "    vars()[var] = None\n",
    "    var_list.append(var)\n",
    "    \n",
    "zhegalkin_polynomial_list = list()\n",
    "for truthvalues in truthvalues_list:\n",
    "    coeffs = anf_coeffs(truthvalues)\n",
    "    polynomial = Xor(*[\n",
    "             bool_monomial(k, var_list)\n",
    "             for k, coeff in enumerate(coeffs) if coeff == 1 ])\n",
    "    zhegalkin_polynomial_list.append(polynomial)        "
   ]
  },
  {
   "cell_type": "code",
   "execution_count": 11,
   "metadata": {
    "ExecuteTime": {
     "end_time": "2020-11-19T12:27:59.101456Z",
     "start_time": "2020-11-19T12:27:59.077956Z"
    }
   },
   "outputs": [],
   "source": [
    "#Create a coeff to binar representation dictionary\n",
    "def getPolynomialValues(coeff, table, val_list):\n",
    "    \n",
    "    #if the first coefficient is 1, set the first row of the truth table to one\n",
    "    if coeff[0] == '1':\n",
    "        val_list[0] = 1\n",
    "        return val_list\n",
    "    \n",
    "    \n",
    "    cleaned_string_coeff = ''.join([c for c in coeff if c in variables])\n",
    "    if len(cleaned_string_coeff) <= 1:\n",
    "        #Take the last index for the value as this is the value that has to be one for a single coefficient\n",
    "        indexes = table.loc[(table[cleaned_string_coeff] == 1)].index\n",
    "        index_last = 0\n",
    "        for ind in indexes:\n",
    "            #index starts at 0, so -1 is needed\n",
    "            index_last = ind - 1\n",
    "        val_list[index_last] = 1\n",
    "    else:\n",
    "        for i in range(len(cleaned_string_coeff)):\n",
    "            table = table.loc[(table[cleaned_string_coeff[i]] == 1)]\n",
    "        for ind in table.index:\n",
    "            val_list[ind-1] = 1\n",
    "    \n",
    "    return val_list"
   ]
  },
  {
   "cell_type": "code",
   "execution_count": 12,
   "metadata": {
    "ExecuteTime": {
     "end_time": "2020-11-19T12:56:40.589802Z",
     "start_time": "2020-11-19T12:27:59.108432Z"
    }
   },
   "outputs": [],
   "source": [
    "import re\n",
    "\n",
    "#Conversion of the sympi Xor, False and Not Zhegalkin representations to string representations that are added\n",
    "#to the dataframe to identify the polynoms\n",
    "tmp_polynom = ''\n",
    "result_polynoms = dict()\n",
    "result_values = list()\n",
    "\n",
    "\n",
    "#for conversion purposes we need the values for all variables again\n",
    "table = ttg.Truths([variable for variable in variables[:n]])\n",
    "pd_table = asPandas(table)\n",
    "\n",
    "\n",
    "\n",
    "for formula in zhegalkin_polynomial_list:\n",
    "    tmp_res = [0 for val in range(pd_table.shape[0])]\n",
    "\n",
    "    if (formula == False or formula == '0'):\n",
    "        tmp_polynom += str(0)\n",
    "        tmp_res = [0 for i in range(pd_table.shape[0])]\n",
    "    \n",
    "    elif formula == True:\n",
    "        tmp_polynom += '1'\n",
    "        tmp_res = [1 for i in range(pd_table.shape[0])]\n",
    "   \n",
    "    elif type(formula) == Xor or type(formula) == And or type(formula) == Symbol:\n",
    "        string_formula = str(formula)\n",
    "        \n",
    "        #Split at comma and whitespace to get the coefficients\n",
    "        tmp_spl= re.split(\"\\^\\s\",string_formula)\n",
    "        \n",
    "        for coeff in tmp_spl:\n",
    "            #Filter out \")\" at the end of the strings\n",
    "            if(coeff.endswith(')')):\n",
    "                tmp_polynom += coeff\n",
    "                #recursively overwrite tmp_res so that at the end the final value list has only values for the truth table of the polynoms\n",
    "                tmp_res = getPolynomialValues(coeff[:-1], pd_table, tmp_res)\n",
    "\n",
    "            else:\n",
    "                tmp_polynom += coeff + ' xor '\n",
    "    \n",
    "                tmp_res = getPolynomialValues(coeff, pd_table, tmp_res)\n",
    "\n",
    "    \n",
    "    elif type(formula) == Not:\n",
    "        tmp_polynom += '1 xor '\n",
    "        tmp_res = getPolynomialValues('1', pd_table, tmp_res)\n",
    "        string_formula = str(formula)\n",
    "        #Split the string and remove Not\n",
    "        x = re.split(\"\\~\\(\", string_formula, 1)\n",
    "        #Split at comma and whitespace to get the coefficients\n",
    "        if (len(x) == 1):\n",
    "            tmp_polynom += x[0]\n",
    "        else:\n",
    "            tmp_spl= re.split(\"\\^\\s\", x[1])\n",
    "            for coeff in tmp_spl:\n",
    "\n",
    "                #Filter out \") at the end ot the strings\n",
    "                if(coeff.endswith(')')):\n",
    "                    tmp_polynom += coeff[:-1]\n",
    "                    tmp_res = getPolynomialValues(coeff[:-1], pd_table, tmp_res)\n",
    "                else:\n",
    "                    tmp_polynom += coeff + ' xor '\n",
    "                    tmp_res = getPolynomialValues(coeff, pd_table, tmp_res)\n",
    "\n",
    "    result_polynoms[tmp_polynom] = tmp_res\n",
    "    tmp_polynom = ''\n",
    "    result_values = list()\n",
    "\n",
    "    "
   ]
  },
  {
   "cell_type": "code",
   "execution_count": 13,
   "metadata": {
    "ExecuteTime": {
     "end_time": "2020-11-19T12:58:07.485276Z",
     "start_time": "2020-11-19T12:56:40.594734Z"
    }
   },
   "outputs": [],
   "source": [
    "#Add it to the dataframe now\n",
    "counter = 0\n",
    "for key, value_list in result_polynoms.items():\n",
    "    list_of_tables_pandas[counter][key] = value_list\n",
    "    counter += 1"
   ]
  },
  {
   "cell_type": "code",
   "execution_count": 14,
   "metadata": {
    "ExecuteTime": {
     "end_time": "2020-11-19T12:58:07.583669Z",
     "start_time": "2020-11-19T12:58:07.497727Z"
    }
   },
   "outputs": [
    {
     "data": {
      "text/html": [
       "<div>\n",
       "<style scoped>\n",
       "    .dataframe tbody tr th:only-of-type {\n",
       "        vertical-align: middle;\n",
       "    }\n",
       "\n",
       "    .dataframe tbody tr th {\n",
       "        vertical-align: top;\n",
       "    }\n",
       "\n",
       "    .dataframe thead th {\n",
       "        text-align: right;\n",
       "    }\n",
       "</style>\n",
       "<table border=\"1\" class=\"dataframe\">\n",
       "  <thead>\n",
       "    <tr style=\"text-align: right;\">\n",
       "      <th></th>\n",
       "      <th>a</th>\n",
       "      <th>b</th>\n",
       "      <th>c</th>\n",
       "      <th>d</th>\n",
       "      <th>a and b and c and ~d or a and b and c and d</th>\n",
       "      <th>1 xor a  xor b  xor c  xor (a &amp; b)  xor (a &amp; c)  xor (b &amp; c)  xor (a &amp; b &amp; c)</th>\n",
       "    </tr>\n",
       "  </thead>\n",
       "  <tbody>\n",
       "    <tr>\n",
       "      <th>1</th>\n",
       "      <td>1</td>\n",
       "      <td>1</td>\n",
       "      <td>1</td>\n",
       "      <td>1</td>\n",
       "      <td>1</td>\n",
       "      <td>1</td>\n",
       "    </tr>\n",
       "    <tr>\n",
       "      <th>2</th>\n",
       "      <td>1</td>\n",
       "      <td>1</td>\n",
       "      <td>1</td>\n",
       "      <td>0</td>\n",
       "      <td>1</td>\n",
       "      <td>1</td>\n",
       "    </tr>\n",
       "    <tr>\n",
       "      <th>3</th>\n",
       "      <td>1</td>\n",
       "      <td>1</td>\n",
       "      <td>0</td>\n",
       "      <td>1</td>\n",
       "      <td>0</td>\n",
       "      <td>1</td>\n",
       "    </tr>\n",
       "    <tr>\n",
       "      <th>4</th>\n",
       "      <td>1</td>\n",
       "      <td>1</td>\n",
       "      <td>0</td>\n",
       "      <td>0</td>\n",
       "      <td>0</td>\n",
       "      <td>1</td>\n",
       "    </tr>\n",
       "    <tr>\n",
       "      <th>5</th>\n",
       "      <td>1</td>\n",
       "      <td>0</td>\n",
       "      <td>1</td>\n",
       "      <td>1</td>\n",
       "      <td>0</td>\n",
       "      <td>1</td>\n",
       "    </tr>\n",
       "    <tr>\n",
       "      <th>6</th>\n",
       "      <td>1</td>\n",
       "      <td>0</td>\n",
       "      <td>1</td>\n",
       "      <td>0</td>\n",
       "      <td>0</td>\n",
       "      <td>1</td>\n",
       "    </tr>\n",
       "    <tr>\n",
       "      <th>7</th>\n",
       "      <td>1</td>\n",
       "      <td>0</td>\n",
       "      <td>0</td>\n",
       "      <td>1</td>\n",
       "      <td>0</td>\n",
       "      <td>0</td>\n",
       "    </tr>\n",
       "    <tr>\n",
       "      <th>8</th>\n",
       "      <td>1</td>\n",
       "      <td>0</td>\n",
       "      <td>0</td>\n",
       "      <td>0</td>\n",
       "      <td>0</td>\n",
       "      <td>1</td>\n",
       "    </tr>\n",
       "    <tr>\n",
       "      <th>9</th>\n",
       "      <td>0</td>\n",
       "      <td>1</td>\n",
       "      <td>1</td>\n",
       "      <td>1</td>\n",
       "      <td>0</td>\n",
       "      <td>1</td>\n",
       "    </tr>\n",
       "    <tr>\n",
       "      <th>10</th>\n",
       "      <td>0</td>\n",
       "      <td>1</td>\n",
       "      <td>1</td>\n",
       "      <td>0</td>\n",
       "      <td>0</td>\n",
       "      <td>1</td>\n",
       "    </tr>\n",
       "    <tr>\n",
       "      <th>11</th>\n",
       "      <td>0</td>\n",
       "      <td>1</td>\n",
       "      <td>0</td>\n",
       "      <td>1</td>\n",
       "      <td>0</td>\n",
       "      <td>0</td>\n",
       "    </tr>\n",
       "    <tr>\n",
       "      <th>12</th>\n",
       "      <td>0</td>\n",
       "      <td>1</td>\n",
       "      <td>0</td>\n",
       "      <td>0</td>\n",
       "      <td>0</td>\n",
       "      <td>1</td>\n",
       "    </tr>\n",
       "    <tr>\n",
       "      <th>13</th>\n",
       "      <td>0</td>\n",
       "      <td>0</td>\n",
       "      <td>1</td>\n",
       "      <td>1</td>\n",
       "      <td>0</td>\n",
       "      <td>0</td>\n",
       "    </tr>\n",
       "    <tr>\n",
       "      <th>14</th>\n",
       "      <td>0</td>\n",
       "      <td>0</td>\n",
       "      <td>1</td>\n",
       "      <td>0</td>\n",
       "      <td>0</td>\n",
       "      <td>1</td>\n",
       "    </tr>\n",
       "    <tr>\n",
       "      <th>15</th>\n",
       "      <td>0</td>\n",
       "      <td>0</td>\n",
       "      <td>0</td>\n",
       "      <td>1</td>\n",
       "      <td>0</td>\n",
       "      <td>0</td>\n",
       "    </tr>\n",
       "    <tr>\n",
       "      <th>16</th>\n",
       "      <td>0</td>\n",
       "      <td>0</td>\n",
       "      <td>0</td>\n",
       "      <td>0</td>\n",
       "      <td>0</td>\n",
       "      <td>0</td>\n",
       "    </tr>\n",
       "  </tbody>\n",
       "</table>\n",
       "</div>"
      ],
      "text/plain": [
       "    a  b  c  d a and b and c and ~d or a and b and c and d  \\\n",
       "1   1  1  1  1                                           1   \n",
       "2   1  1  1  0                                           1   \n",
       "3   1  1  0  1                                           0   \n",
       "4   1  1  0  0                                           0   \n",
       "5   1  0  1  1                                           0   \n",
       "6   1  0  1  0                                           0   \n",
       "7   1  0  0  1                                           0   \n",
       "8   1  0  0  0                                           0   \n",
       "9   0  1  1  1                                           0   \n",
       "10  0  1  1  0                                           0   \n",
       "11  0  1  0  1                                           0   \n",
       "12  0  1  0  0                                           0   \n",
       "13  0  0  1  1                                           0   \n",
       "14  0  0  1  0                                           0   \n",
       "15  0  0  0  1                                           0   \n",
       "16  0  0  0  0                                           0   \n",
       "\n",
       "    1 xor a  xor b  xor c  xor (a & b)  xor (a & c)  xor (b & c)  xor (a & b & c)  \n",
       "1                                                   1                              \n",
       "2                                                   1                              \n",
       "3                                                   1                              \n",
       "4                                                   1                              \n",
       "5                                                   1                              \n",
       "6                                                   1                              \n",
       "7                                                   0                              \n",
       "8                                                   1                              \n",
       "9                                                   1                              \n",
       "10                                                  1                              \n",
       "11                                                  0                              \n",
       "12                                                  1                              \n",
       "13                                                  0                              \n",
       "14                                                  1                              \n",
       "15                                                  0                              \n",
       "16                                                  0                              "
      ]
     },
     "execution_count": 14,
     "metadata": {},
     "output_type": "execute_result"
    }
   ],
   "source": [
    "list_of_tables_pandas[3]"
   ]
  },
  {
   "cell_type": "code",
   "execution_count": 15,
   "metadata": {
    "ExecuteTime": {
     "end_time": "2020-11-19T12:58:38.709516Z",
     "start_time": "2020-11-19T12:58:07.587355Z"
    }
   },
   "outputs": [],
   "source": [
    "if max_size:\n",
    "    path = './data/pickled_expression_lists/total_expressions_length_' + str(n) + '_variables_' + str(n) + '_df.pkl'\n",
    "else:\n",
    "    path = './data/pickled_expression_lists/sample' + str(interpretation_dataset_size) +  '_expressions_length_' + str(n) + '_variables_' + str(n) + '_df.pkl'\n",
    "with open(path, 'wb') as f:\n",
    "    pickle.dump(list_of_tables_pandas, f, protocol=2)\n",
    "    "
   ]
  }
 ],
 "metadata": {
  "kernelspec": {
   "display_name": "Python 3",
   "language": "python",
   "name": "python3"
  },
  "language_info": {
   "codemirror_mode": {
    "name": "ipython",
    "version": 3
   },
   "file_extension": ".py",
   "mimetype": "text/x-python",
   "name": "python",
   "nbconvert_exporter": "python",
   "pygments_lexer": "ipython3",
   "version": "3.6.8"
  }
 },
 "nbformat": 4,
 "nbformat_minor": 2
}
