{
 "cells": [
  {
   "cell_type": "code",
   "execution_count": 1,
   "metadata": {},
   "outputs": [],
   "source": [
    "import joblib\n",
    "import math\n",
    "import numpy as np\n",
    "import pandas as pd\n",
    "import matplotlib.pyplot as plt\n",
    "from tqdm import tqdm\n",
    "\n",
    "from IPython.display import display\n",
    "\n",
    "from sklearn.metrics import accuracy_score, log_loss, roc_auc_score, f1_score\n",
    "from sklearn.model_selection import train_test_split\n",
    "from sklearn.model_selection import ParameterGrid\n",
    "from sklearn.model_selection import GridSearchCV\n",
    "\n",
    "import seaborn as sns\n",
    "\n",
    "\n",
    "\n",
    "import sympy as sym\n",
    "from sympy import Symbol, sympify, lambdify, abc, SympifyError\n",
    "\n",
    "from gplearn.genetic import SymbolicClassifier\n",
    "from gplearn.genetic import SymbolicRegressor\n",
    "from sympy import *\n",
    "\n",
    "from sklearn.linear_model import LogisticRegression\n",
    "from sklearn.preprocessing import PolynomialFeatures\n",
    "import types\n",
    "import random\n",
    "\n",
    "import graphviz"
   ]
  },
  {
   "cell_type": "code",
   "execution_count": 2,
   "metadata": {},
   "outputs": [
    {
     "data": {
      "text/plain": [
       "'1.0.1'"
      ]
     },
     "execution_count": 2,
     "metadata": {},
     "output_type": "execute_result"
    }
   ],
   "source": [
    "joblib.__version__"
   ]
  },
  {
   "cell_type": "code",
   "execution_count": 3,
   "metadata": {},
   "outputs": [],
   "source": [
    "np.random.seed(42)\n",
    "random.seed(42)"
   ]
  },
  {
   "cell_type": "markdown",
   "metadata": {},
   "source": [
    "## Load Data"
   ]
  },
  {
   "cell_type": "code",
   "execution_count": 4,
   "metadata": {},
   "outputs": [
    {
     "name": "stdout",
     "output_type": "stream",
     "text": [
      "(26381042, 5)\n"
     ]
    }
   ],
   "source": [
    "#path = \"./data/replica_pump_data.csv\"\n",
    "path = \"./data/replica_pump_data.csv\"\n",
    "pump_data_replica = pd.read_csv(path)\n",
    "print(pump_data_replica.shape)"
   ]
  },
  {
   "cell_type": "code",
   "execution_count": 5,
   "metadata": {},
   "outputs": [
    {
     "data": {
      "text/html": [
       "<div>\n",
       "<style scoped>\n",
       "    .dataframe tbody tr th:only-of-type {\n",
       "        vertical-align: middle;\n",
       "    }\n",
       "\n",
       "    .dataframe tbody tr th {\n",
       "        vertical-align: top;\n",
       "    }\n",
       "\n",
       "    .dataframe thead th {\n",
       "        text-align: right;\n",
       "    }\n",
       "</style>\n",
       "<table border=\"1\" class=\"dataframe\">\n",
       "  <thead>\n",
       "    <tr style=\"text-align: right;\">\n",
       "      <th></th>\n",
       "      <th>energy_norm_log</th>\n",
       "      <th>temperature_diff</th>\n",
       "      <th>rms_norm_log</th>\n",
       "      <th>details_ratedhead</th>\n",
       "      <th>state</th>\n",
       "    </tr>\n",
       "  </thead>\n",
       "  <tbody>\n",
       "    <tr>\n",
       "      <th>0</th>\n",
       "      <td>-4.642337</td>\n",
       "      <td>-0.585072</td>\n",
       "      <td>-2.831278</td>\n",
       "      <td>47.369469</td>\n",
       "      <td>1</td>\n",
       "    </tr>\n",
       "    <tr>\n",
       "      <th>1</th>\n",
       "      <td>-4.384410</td>\n",
       "      <td>-2.051363</td>\n",
       "      <td>-2.900545</td>\n",
       "      <td>120.240341</td>\n",
       "      <td>1</td>\n",
       "    </tr>\n",
       "    <tr>\n",
       "      <th>2</th>\n",
       "      <td>-5.047895</td>\n",
       "      <td>2.104730</td>\n",
       "      <td>-2.742720</td>\n",
       "      <td>92.577971</td>\n",
       "      <td>1</td>\n",
       "    </tr>\n",
       "    <tr>\n",
       "      <th>3</th>\n",
       "      <td>-4.962318</td>\n",
       "      <td>0.375291</td>\n",
       "      <td>-2.975236</td>\n",
       "      <td>75.714544</td>\n",
       "      <td>1</td>\n",
       "    </tr>\n",
       "    <tr>\n",
       "      <th>4</th>\n",
       "      <td>-5.082340</td>\n",
       "      <td>-1.878716</td>\n",
       "      <td>-2.900094</td>\n",
       "      <td>19.732252</td>\n",
       "      <td>1</td>\n",
       "    </tr>\n",
       "  </tbody>\n",
       "</table>\n",
       "</div>"
      ],
      "text/plain": [
       "   energy_norm_log  temperature_diff  rms_norm_log  details_ratedhead  state\n",
       "0        -4.642337         -0.585072     -2.831278          47.369469      1\n",
       "1        -4.384410         -2.051363     -2.900545         120.240341      1\n",
       "2        -5.047895          2.104730     -2.742720          92.577971      1\n",
       "3        -4.962318          0.375291     -2.975236          75.714544      1\n",
       "4        -5.082340         -1.878716     -2.900094          19.732252      1"
      ]
     },
     "execution_count": 5,
     "metadata": {},
     "output_type": "execute_result"
    }
   ],
   "source": [
    "pump_data_replica.head()"
   ]
  },
  {
   "cell_type": "markdown",
   "metadata": {},
   "source": [
    "## Load Random Forest Model"
   ]
  },
  {
   "cell_type": "code",
   "execution_count": 6,
   "metadata": {},
   "outputs": [
    {
     "name": "stderr",
     "output_type": "stream",
     "text": [
      "/home/smarton/anaconda3/envs/xai/lib/python3.8/site-packages/sklearn/base.py:310: UserWarning: Trying to unpickle estimator DecisionTreeClassifier from version 0.23.1 when using version 0.24.2. This might lead to breaking code or invalid results. Use at your own risk.\n",
      "  warnings.warn(\n",
      "/home/smarton/anaconda3/envs/xai/lib/python3.8/site-packages/sklearn/base.py:310: UserWarning: Trying to unpickle estimator RandomForestClassifier from version 0.23.1 when using version 0.24.2. This might lead to breaking code or invalid results. Use at your own risk.\n",
      "  warnings.warn(\n"
     ]
    }
   ],
   "source": [
    "with open(\"./data/randForestBest_20201002.pkl\", 'rb') as f:\n",
    "    random_forest_model = joblib.load(f)  "
   ]
  },
  {
   "cell_type": "markdown",
   "metadata": {},
   "source": [
    "## Logistic Regression"
   ]
  },
  {
   "cell_type": "markdown",
   "metadata": {},
   "source": [
    "### Sampled Data"
   ]
  },
  {
   "cell_type": "markdown",
   "metadata": {},
   "source": [
    "#### basic"
   ]
  },
  {
   "cell_type": "code",
   "execution_count": 7,
   "metadata": {},
   "outputs": [],
   "source": [
    "\n",
    "data = pump_data_replica.sample(n=100_000)\n",
    "\n",
    "X_data = data.drop(['state'], axis=1).values\n",
    "y_data = data[['state']].values\n",
    "\n",
    "X_train, X_test, y_train, y_test = train_test_split(X_data, y_data, test_size=0.25, random_state=42)           "
   ]
  },
  {
   "cell_type": "code",
   "execution_count": 8,
   "metadata": {},
   "outputs": [],
   "source": [
    "y_train_rf_pred = random_forest_model.predict(X_train)\n",
    "y_test_rf_pred = random_forest_model.predict(X_test)"
   ]
  },
  {
   "cell_type": "code",
   "execution_count": 9,
   "metadata": {},
   "outputs": [
    {
     "name": "stdout",
     "output_type": "stream",
     "text": [
      "Fidelity (F1 Score) Logistic Regression - Random Forest Model: 0.9260428022261747\n",
      "Fidelity (Accuracy) Logistic Regression - Random Forest Model: 0.94844\n",
      "Performance (F1 Score) Logistic Regression: 0.8886290232765341\n",
      "Performance (Accuracy) Logistic Regression: 0.92\n"
     ]
    }
   ],
   "source": [
    "clf = LogisticRegression(random_state=0).fit(X_train, y_train_rf_pred)\n",
    "\n",
    "preds = clf.predict(X_test)\n",
    "f1_fidelity = f1_score(y_test_rf_pred, preds)\n",
    "print('Fidelity (F1 Score) Logistic Regression - Random Forest Model:', f1_fidelity)\n",
    "acc_fidelity = accuracy_score(y_test_rf_pred, preds)\n",
    "print('Fidelity (Accuracy) Logistic Regression - Random Forest Model:', acc_fidelity)\n",
    "\n",
    "f1_performance = f1_score(y_test, preds)\n",
    "print('Performance (F1 Score) Logistic Regression:', f1_performance)\n",
    "acc_performance = accuracy_score(y_test, preds)\n",
    "print('Performance (Accuracy) Logistic Regression:', acc_performance)"
   ]
  },
  {
   "cell_type": "code",
   "execution_count": 10,
   "metadata": {},
   "outputs": [
    {
     "name": "stderr",
     "output_type": "stream",
     "text": [
      "/home/smarton/anaconda3/envs/xai/lib/python3.8/site-packages/sklearn/utils/validation.py:63: DataConversionWarning: A column-vector y was passed when a 1d array was expected. Please change the shape of y to (n_samples, ), for example using ravel().\n",
      "  return f(*args, **kwargs)\n"
     ]
    },
    {
     "name": "stdout",
     "output_type": "stream",
     "text": [
      "Fidelity (F1 Score) Logistic Regression - Random Forest Model: 0.9258286289195686\n",
      "Fidelity (Accuracy) Logistic Regression - Random Forest Model: 0.94692\n",
      "Performance (F1 Score) Logistic Regression: 0.8930510314875136\n",
      "Performance (Accuracy) Logistic Regression: 0.9212\n"
     ]
    }
   ],
   "source": [
    "clf = LogisticRegression(random_state=0).fit(X_train, y_train)\n",
    "\n",
    "preds = clf.predict(X_test)\n",
    "f1_fidelity = f1_score(y_test_rf_pred, preds)\n",
    "print('Fidelity (F1 Score) Logistic Regression - Random Forest Model:', f1_fidelity)\n",
    "acc_fidelity = accuracy_score(y_test_rf_pred, preds)\n",
    "print('Fidelity (Accuracy) Logistic Regression - Random Forest Model:', acc_fidelity)\n",
    "\n",
    "f1_performance = f1_score(y_test, preds)\n",
    "print('Performance (F1 Score) Logistic Regression:', f1_performance)\n",
    "acc_performance = accuracy_score(y_test, preds)\n",
    "print('Performance (Accuracy) Logistic Regression:', acc_performance)"
   ]
  },
  {
   "cell_type": "markdown",
   "metadata": {},
   "source": [
    "#### polynomial features"
   ]
  },
  {
   "cell_type": "code",
   "execution_count": 11,
   "metadata": {},
   "outputs": [
    {
     "name": "stdout",
     "output_type": "stream",
     "text": [
      "Fidelity (F1 Score) Logistic Regressionn Polynomial Features - Random Forest Model: 0.939042939042939\n",
      "Fidelity (Accuracy) Logistic Regressionn Polynomial Features - Random Forest Model: 0.95832\n",
      "Performance (F1 Score) Logistic Regressionn Polynomial Features: 0.8643250297906147\n",
      "Performance (Accuracy) Logistic Regressionn Polynomial Features: 0.90436\n"
     ]
    },
    {
     "name": "stderr",
     "output_type": "stream",
     "text": [
      "/home/smarton/anaconda3/envs/xai/lib/python3.8/site-packages/sklearn/linear_model/_logistic.py:763: ConvergenceWarning: lbfgs failed to converge (status=1):\n",
      "STOP: TOTAL NO. of ITERATIONS REACHED LIMIT.\n",
      "\n",
      "Increase the number of iterations (max_iter) or scale the data as shown in:\n",
      "    https://scikit-learn.org/stable/modules/preprocessing.html\n",
      "Please also refer to the documentation for alternative solver options:\n",
      "    https://scikit-learn.org/stable/modules/linear_model.html#logistic-regression\n",
      "  n_iter_i = _check_optimize_result(\n"
     ]
    }
   ],
   "source": [
    "poly = PolynomialFeatures(degree = 2, interaction_only=False, include_bias=False)\n",
    "poly.fit(X_train)\n",
    "X_train_poly = poly.transform(X_train)\n",
    "X_test_poly = poly.transform(X_test)\n",
    "\n",
    "clf = LogisticRegression(random_state=0, max_iter=1000).fit(X_train_poly, y_train_rf_pred)\n",
    "\n",
    "preds = clf.predict(X_test_poly)\n",
    "f1_fidelity = f1_score(y_test_rf_pred, preds)\n",
    "print('Fidelity (F1 Score) Logistic Regressionn Polynomial Features - Random Forest Model:', f1_fidelity)\n",
    "acc_fidelity = accuracy_score(y_test_rf_pred, preds)\n",
    "print('Fidelity (Accuracy) Logistic Regressionn Polynomial Features - Random Forest Model:', acc_fidelity)\n",
    "\n",
    "f1_performance = f1_score(y_test, preds)\n",
    "print('Performance (F1 Score) Logistic Regressionn Polynomial Features:', f1_performance)\n",
    "acc_performance = accuracy_score(y_test, preds)\n",
    "print('Performance (Accuracy) Logistic Regressionn Polynomial Features:', acc_performance)"
   ]
  },
  {
   "cell_type": "code",
   "execution_count": 12,
   "metadata": {},
   "outputs": [
    {
     "name": "stderr",
     "output_type": "stream",
     "text": [
      "/home/smarton/anaconda3/envs/xai/lib/python3.8/site-packages/sklearn/utils/validation.py:63: DataConversionWarning: A column-vector y was passed when a 1d array was expected. Please change the shape of y to (n_samples, ), for example using ravel().\n",
      "  return f(*args, **kwargs)\n"
     ]
    },
    {
     "name": "stdout",
     "output_type": "stream",
     "text": [
      "Fidelity (F1 Score) Logistic Regressionn Polynomial Features - Random Forest Model: 0.9125980195752962\n",
      "Fidelity (Accuracy) Logistic Regressionn Polynomial Features - Random Forest Model: 0.93892\n",
      "Performance (F1 Score) Logistic Regressionn Polynomial Features: 0.8732222222222221\n",
      "Performance (Accuracy) Logistic Regressionn Polynomial Features: 0.90872\n"
     ]
    }
   ],
   "source": [
    "poly = PolynomialFeatures(degree = 2, interaction_only=False, include_bias=False)\n",
    "poly.fit(X_train)\n",
    "X_train_poly = poly.transform(X_train)\n",
    "X_test_poly = poly.transform(X_test)\n",
    "\n",
    "clf = LogisticRegression(random_state=0, max_iter=1000).fit(X_train_poly, y_train)\n",
    "\n",
    "\n",
    "preds = clf.predict(X_test_poly)\n",
    "f1_fidelity = f1_score(y_test_rf_pred, preds)\n",
    "print('Fidelity (F1 Score) Logistic Regressionn Polynomial Features - Random Forest Model:', f1_fidelity)\n",
    "acc_fidelity = accuracy_score(y_test_rf_pred, preds)\n",
    "print('Fidelity (Accuracy) Logistic Regressionn Polynomial Features - Random Forest Model:', acc_fidelity)\n",
    "\n",
    "f1_performance = f1_score(y_test, preds)\n",
    "print('Performance (F1 Score) Logistic Regressionn Polynomial Features:', f1_performance)\n",
    "acc_performance = accuracy_score(y_test, preds)\n",
    "print('Performance (Accuracy) Logistic Regressionn Polynomial Features:', acc_performance)"
   ]
  },
  {
   "cell_type": "markdown",
   "metadata": {},
   "source": [
    "#### function"
   ]
  },
  {
   "cell_type": "code",
   "execution_count": 13,
   "metadata": {},
   "outputs": [
    {
     "name": "stdout",
     "output_type": "stream",
     "text": [
      "Fidelity (F1 Score) 2*X0 - Random Forest Model: 0.9132092915751762\n",
      "Fidelity (Accuracy) 2*X0 - Random Forest Model: 0.93992\n",
      "Performance (F1 Score) 2*X0: 0.8823100644799551\n",
      "Performance (Accuracy) 2*X0: 0.91604\n"
     ]
    }
   ],
   "source": [
    "preds = np.clip(np.round(10*X_test[:,0]), 0, 1)\n",
    "\n",
    "f1_fidelity = f1_score(y_test_rf_pred, preds)\n",
    "print('Fidelity (F1 Score) 2*X0 - Random Forest Model:', f1_fidelity)\n",
    "acc_fidelity = accuracy_score(y_test_rf_pred, preds)\n",
    "print('Fidelity (Accuracy) 2*X0 - Random Forest Model:', acc_fidelity)\n",
    "\n",
    "f1_performance = f1_score(y_test, preds)\n",
    "print('Performance (F1 Score) 2*X0:', f1_performance)\n",
    "acc_performance = accuracy_score(y_test, preds)\n",
    "print('Performance (Accuracy) 2*X0:', acc_performance)"
   ]
  },
  {
   "cell_type": "markdown",
   "metadata": {},
   "source": [
    "#### random forest"
   ]
  },
  {
   "cell_type": "code",
   "execution_count": 14,
   "metadata": {},
   "outputs": [
    {
     "name": "stdout",
     "output_type": "stream",
     "text": [
      "Accuracy Random Forest: 0.90772\n"
     ]
    }
   ],
   "source": [
    "y_test_random_forest = random_forest_model.predict(X_test)\n",
    "accuracy_random_forest = accuracy_score(y_test, y_test_random_forest)\n",
    "print('Accuracy Random Forest: '+ str(accuracy_random_forest))"
   ]
  },
  {
   "cell_type": "markdown",
   "metadata": {},
   "source": [
    "### Complete Data"
   ]
  },
  {
   "cell_type": "code",
   "execution_count": 15,
   "metadata": {},
   "outputs": [],
   "source": [
    "data = pump_data_replica\n",
    "\n",
    "X_data = data.drop(['state'], axis=1).values\n",
    "y_data = data[['state']].values\n",
    "\n",
    "X_train, X_test, y_train, y_test = train_test_split(X_data, y_data, test_size=0.25, random_state=42)           "
   ]
  },
  {
   "cell_type": "code",
   "execution_count": 16,
   "metadata": {},
   "outputs": [],
   "source": [
    "y_train_rf_pred = random_forest_model.predict(X_train)\n",
    "y_test_rf_pred = random_forest_model.predict(X_test)"
   ]
  },
  {
   "cell_type": "markdown",
   "metadata": {},
   "source": [
    "#### basic"
   ]
  },
  {
   "cell_type": "code",
   "execution_count": 17,
   "metadata": {},
   "outputs": [
    {
     "name": "stdout",
     "output_type": "stream",
     "text": [
      "Fidelity (F1 Score) Logistic Regression - Random Forest Model: 0.9257879278972286\n",
      "Fidelity (Accuracy) Logistic Regression - Random Forest Model: 0.9488835999060538\n",
      "Performance (F1 Score) Logistic Regression: 0.8871270142603659\n",
      "Performance (Accuracy) Logistic Regression: 0.9199551010945587\n"
     ]
    }
   ],
   "source": [
    "clf = LogisticRegression(random_state=0).fit(X_train, y_train_rf_pred)\n",
    "\n",
    "preds = clf.predict(X_test)\n",
    "f1_fidelity = f1_score(y_test_rf_pred, preds)\n",
    "print('Fidelity (F1 Score) Logistic Regression - Random Forest Model:', f1_fidelity)\n",
    "acc_fidelity = accuracy_score(y_test_rf_pred, preds)\n",
    "print('Fidelity (Accuracy) Logistic Regression - Random Forest Model:', acc_fidelity)\n",
    "\n",
    "f1_performance = f1_score(y_test, preds)\n",
    "print('Performance (F1 Score) Logistic Regression:', f1_performance)\n",
    "acc_performance = accuracy_score(y_test, preds)\n",
    "print('Performance (Accuracy) Logistic Regression:', acc_performance)"
   ]
  },
  {
   "cell_type": "code",
   "execution_count": 18,
   "metadata": {},
   "outputs": [
    {
     "name": "stderr",
     "output_type": "stream",
     "text": [
      "/home/smarton/anaconda3/envs/xai/lib/python3.8/site-packages/sklearn/utils/validation.py:63: DataConversionWarning: A column-vector y was passed when a 1d array was expected. Please change the shape of y to (n_samples, ), for example using ravel().\n",
      "  return f(*args, **kwargs)\n"
     ]
    },
    {
     "name": "stdout",
     "output_type": "stream",
     "text": [
      "Fidelity (F1 Score) Logistic Regression - Random Forest Model: 0.9272413647233945\n",
      "Fidelity (Accuracy) Logistic Regression - Random Forest Model: 0.9486244744521862\n",
      "Performance (F1 Score) Logistic Regression: 0.8924138714058995\n",
      "Performance (Accuracy) Logistic Regression: 0.9218408490581343\n"
     ]
    }
   ],
   "source": [
    "clf = LogisticRegression(random_state=0).fit(X_train, y_train)\n",
    "\n",
    "preds = clf.predict(X_test)\n",
    "f1_fidelity = f1_score(y_test_rf_pred, preds)\n",
    "print('Fidelity (F1 Score) Logistic Regression - Random Forest Model:', f1_fidelity)\n",
    "acc_fidelity = accuracy_score(y_test_rf_pred, preds)\n",
    "print('Fidelity (Accuracy) Logistic Regression - Random Forest Model:', acc_fidelity)\n",
    "\n",
    "f1_performance = f1_score(y_test, preds)\n",
    "print('Performance (F1 Score) Logistic Regression:', f1_performance)\n",
    "acc_performance = accuracy_score(y_test, preds)\n",
    "print('Performance (Accuracy) Logistic Regression:', acc_performance)"
   ]
  },
  {
   "cell_type": "markdown",
   "metadata": {},
   "source": [
    "#### polynomial features"
   ]
  },
  {
   "cell_type": "code",
   "execution_count": 19,
   "metadata": {},
   "outputs": [
    {
     "name": "stderr",
     "output_type": "stream",
     "text": [
      "/home/smarton/anaconda3/envs/xai/lib/python3.8/site-packages/sklearn/linear_model/_logistic.py:763: ConvergenceWarning: lbfgs failed to converge (status=1):\n",
      "STOP: TOTAL NO. of ITERATIONS REACHED LIMIT.\n",
      "\n",
      "Increase the number of iterations (max_iter) or scale the data as shown in:\n",
      "    https://scikit-learn.org/stable/modules/preprocessing.html\n",
      "Please also refer to the documentation for alternative solver options:\n",
      "    https://scikit-learn.org/stable/modules/linear_model.html#logistic-regression\n",
      "  n_iter_i = _check_optimize_result(\n"
     ]
    },
    {
     "name": "stdout",
     "output_type": "stream",
     "text": [
      "Fidelity (F1 Score) Logistic Regression Polynomial Features - Random Forest Model: 0.9369749049259039\n",
      "Fidelity (Accuracy) Logistic Regressionn Polynomial Features - Random Forest Model: 0.9574079024317612\n",
      "Performance (F1 Score) Logistic Regressionn Polynomial Features: 0.8645714020622464\n",
      "Performance (Accuracy) Logistic Regressionn Polynomial Features: 0.9057191216541696\n"
     ]
    }
   ],
   "source": [
    "poly = PolynomialFeatures(degree = 2, interaction_only=False, include_bias=False)\n",
    "poly.fit(X_train)\n",
    "X_train_poly = poly.transform(X_train)\n",
    "X_test_poly = poly.transform(X_test)\n",
    "\n",
    "clf = LogisticRegression(random_state=0, max_iter=1000).fit(X_train_poly, y_train_rf_pred)\n",
    "\n",
    "preds = clf.predict(X_test_poly)\n",
    "f1_fidelity = f1_score(y_test_rf_pred, preds)\n",
    "print('Fidelity (F1 Score) Logistic Regression Polynomial Features - Random Forest Model:', f1_fidelity)\n",
    "acc_fidelity = accuracy_score(y_test_rf_pred, preds)\n",
    "print('Fidelity (Accuracy) Logistic Regressionn Polynomial Features - Random Forest Model:', acc_fidelity)\n",
    "\n",
    "f1_performance = f1_score(y_test, preds)\n",
    "print('Performance (F1 Score) Logistic Regressionn Polynomial Features:', f1_performance)\n",
    "acc_performance = accuracy_score(y_test, preds)\n",
    "print('Performance (Accuracy) Logistic Regressionn Polynomial Features:', acc_performance)"
   ]
  },
  {
   "cell_type": "code",
   "execution_count": 20,
   "metadata": {},
   "outputs": [
    {
     "name": "stderr",
     "output_type": "stream",
     "text": [
      "/home/smarton/anaconda3/envs/xai/lib/python3.8/site-packages/sklearn/utils/validation.py:63: DataConversionWarning: A column-vector y was passed when a 1d array was expected. Please change the shape of y to (n_samples, ), for example using ravel().\n",
      "  return f(*args, **kwargs)\n",
      "/home/smarton/anaconda3/envs/xai/lib/python3.8/site-packages/sklearn/linear_model/_logistic.py:763: ConvergenceWarning: lbfgs failed to converge (status=1):\n",
      "STOP: TOTAL NO. of ITERATIONS REACHED LIMIT.\n",
      "\n",
      "Increase the number of iterations (max_iter) or scale the data as shown in:\n",
      "    https://scikit-learn.org/stable/modules/preprocessing.html\n",
      "Please also refer to the documentation for alternative solver options:\n",
      "    https://scikit-learn.org/stable/modules/linear_model.html#logistic-regression\n",
      "  n_iter_i = _check_optimize_result(\n"
     ]
    },
    {
     "name": "stdout",
     "output_type": "stream",
     "text": [
      "Fidelity (F1 Score) Logistic Regressionn Polynomial Features - Random Forest Model: 0.9259074252626986\n",
      "Fidelity (Accuracy) Logistic Regressionn Polynomial Features - Random Forest Model: 0.9477779575364796\n",
      "Performance (F1 Score) Logistic Regressionn Polynomial Features: 0.8756692947464401\n",
      "Performance (Accuracy) Logistic Regressionn Polynomial Features: 0.9098363203518405\n"
     ]
    }
   ],
   "source": [
    "poly = PolynomialFeatures(degree = 2, interaction_only=False, include_bias=False)\n",
    "poly.fit(X_train)\n",
    "X_train_poly = poly.transform(X_train)\n",
    "X_test_poly = poly.transform(X_test)\n",
    "\n",
    "clf = LogisticRegression(random_state=0, max_iter=1000).fit(X_train_poly, y_train)\n",
    "\n",
    "preds = clf.predict(X_test_poly)\n",
    "f1_fidelity = f1_score(y_test_rf_pred, preds)\n",
    "print('Fidelity (F1 Score) Logistic Regressionn Polynomial Features - Random Forest Model:', f1_fidelity)\n",
    "acc_fidelity = accuracy_score(y_test_rf_pred, preds)\n",
    "print('Fidelity (Accuracy) Logistic Regressionn Polynomial Features - Random Forest Model:', acc_fidelity)\n",
    "\n",
    "f1_performance = f1_score(y_test, preds)\n",
    "print('Performance (F1 Score) Logistic Regressionn Polynomial Features:', f1_performance)\n",
    "acc_performance = accuracy_score(y_test, preds)\n",
    "print('Performance (Accuracy) Logistic Regressionn Polynomial Features:', acc_performance)"
   ]
  },
  {
   "cell_type": "code",
   "execution_count": 24,
   "metadata": {},
   "outputs": [
    {
     "name": "stdout",
     "output_type": "stream",
     "text": [
      "Fidelity (F1 Score) Logistic Regression Polynomial Features - Random Forest Model: 0.9098142031292472\n",
      "Fidelity (Accuracy) Logistic Regressionn Polynomial Features - Random Forest Model: 0.9412928464847714\n",
      "Performance (F1 Score) Logistic Regressionn Polynomial Features: 0.8267580452381749\n",
      "Performance (Accuracy) Logistic Regressionn Polynomial Features: 0.8836977035480476\n"
     ]
    }
   ],
   "source": [
    "poly = PolynomialFeatures(degree = 3, interaction_only=False, include_bias=False)\n",
    "poly.fit(X_train)\n",
    "X_train_poly = poly.transform(X_train)\n",
    "X_test_poly = poly.transform(X_test)\n",
    "\n",
    "clf = LogisticRegression(random_state=0, max_iter=10000).fit(X_train_poly, y_train_rf_pred)\n",
    "\n",
    "preds = clf.predict(X_test_poly)\n",
    "f1_fidelity = f1_score(y_test_rf_pred, preds)\n",
    "print('Fidelity (F1 Score) Logistic Regression Polynomial Features - Random Forest Model:', f1_fidelity)\n",
    "acc_fidelity = accuracy_score(y_test_rf_pred, preds)\n",
    "print('Fidelity (Accuracy) Logistic Regressionn Polynomial Features - Random Forest Model:', acc_fidelity)\n",
    "\n",
    "f1_performance = f1_score(y_test, preds)\n",
    "print('Performance (F1 Score) Logistic Regressionn Polynomial Features:', f1_performance)\n",
    "acc_performance = accuracy_score(y_test, preds)\n",
    "print('Performance (Accuracy) Logistic Regressionn Polynomial Features:', acc_performance)"
   ]
  },
  {
   "cell_type": "code",
   "execution_count": 25,
   "metadata": {},
   "outputs": [
    {
     "name": "stderr",
     "output_type": "stream",
     "text": [
      "/home/smarton/anaconda3/envs/xai/lib/python3.8/site-packages/sklearn/utils/validation.py:63: DataConversionWarning: A column-vector y was passed when a 1d array was expected. Please change the shape of y to (n_samples, ), for example using ravel().\n",
      "  return f(*args, **kwargs)\n"
     ]
    },
    {
     "name": "stdout",
     "output_type": "stream",
     "text": [
      "Fidelity (F1 Score) Logistic Regressionn Polynomial Features - Random Forest Model: 0.8584862553370056\n",
      "Fidelity (Accuracy) Logistic Regressionn Polynomial Features - Random Forest Model: 0.9033597002453732\n",
      "Performance (F1 Score) Logistic Regressionn Polynomial Features: 0.799903671209226\n",
      "Performance (Accuracy) Logistic Regressionn Polynomial Features: 0.8592772901633461\n"
     ]
    }
   ],
   "source": [
    "poly = PolynomialFeatures(degree = 3, interaction_only=False, include_bias=False)\n",
    "poly.fit(X_train)\n",
    "X_train_poly = poly.transform(X_train)\n",
    "X_test_poly = poly.transform(X_test)\n",
    "\n",
    "clf = LogisticRegression(random_state=0, max_iter=10000).fit(X_train_poly, y_train)\n",
    "\n",
    "preds = clf.predict(X_test_poly)\n",
    "f1_fidelity = f1_score(y_test_rf_pred, preds)\n",
    "print('Fidelity (F1 Score) Logistic Regressionn Polynomial Features - Random Forest Model:', f1_fidelity)\n",
    "acc_fidelity = accuracy_score(y_test_rf_pred, preds)\n",
    "print('Fidelity (Accuracy) Logistic Regressionn Polynomial Features - Random Forest Model:', acc_fidelity)\n",
    "\n",
    "f1_performance = f1_score(y_test, preds)\n",
    "print('Performance (F1 Score) Logistic Regressionn Polynomial Features:', f1_performance)\n",
    "acc_performance = accuracy_score(y_test, preds)\n",
    "print('Performance (Accuracy) Logistic Regressionn Polynomial Features:', acc_performance)"
   ]
  },
  {
   "cell_type": "markdown",
   "metadata": {},
   "source": [
    "#### function"
   ]
  },
  {
   "cell_type": "code",
   "execution_count": 21,
   "metadata": {},
   "outputs": [
    {
     "name": "stdout",
     "output_type": "stream",
     "text": [
      "Fidelity (F1 Score) 2*X0 - Random Forest Model: 0.9126362215656276\n",
      "Fidelity (Accuracy) 2*X0 - Random Forest Model: 0.9403104744452115\n",
      "Performance (F1 Score) 2*X0: 0.8796815984039408\n",
      "Performance (Accuracy) 2*X0: 0.9153439113326979\n"
     ]
    }
   ],
   "source": [
    "preds = np.clip(np.round(10*X_test[:,0]), 0, 1)\n",
    "\n",
    "f1_fidelity = f1_score(y_test_rf_pred, preds)\n",
    "print('Fidelity (F1 Score) 2*X0 - Random Forest Model:', f1_fidelity)\n",
    "acc_fidelity = accuracy_score(y_test_rf_pred, preds)\n",
    "print('Fidelity (Accuracy) 2*X0 - Random Forest Model:', acc_fidelity)\n",
    "\n",
    "f1_performance = f1_score(y_test, preds)\n",
    "print('Performance (F1 Score) 2*X0:', f1_performance)\n",
    "acc_performance = accuracy_score(y_test, preds)\n",
    "print('Performance (Accuracy) 2*X0:', acc_performance)"
   ]
  },
  {
   "cell_type": "markdown",
   "metadata": {},
   "source": [
    "#### random forest"
   ]
  },
  {
   "cell_type": "code",
   "execution_count": 22,
   "metadata": {},
   "outputs": [
    {
     "name": "stdout",
     "output_type": "stream",
     "text": [
      "Accuracy Random Forest: 0.9078300312906494\n"
     ]
    }
   ],
   "source": [
    "y_test_random_forest = random_forest_model.predict(X_test)\n",
    "accuracy_random_forest = accuracy_score(y_test, y_test_random_forest)\n",
    "print('Accuracy Random Forest: '+ str(accuracy_random_forest))"
   ]
  },
  {
   "cell_type": "code",
   "execution_count": null,
   "metadata": {},
   "outputs": [],
   "source": []
  },
  {
   "cell_type": "code",
   "execution_count": null,
   "metadata": {},
   "outputs": [],
   "source": []
  },
  {
   "cell_type": "code",
   "execution_count": null,
   "metadata": {},
   "outputs": [],
   "source": []
  },
  {
   "cell_type": "code",
   "execution_count": 23,
   "metadata": {},
   "outputs": [
    {
     "ename": "NameError",
     "evalue": "name 'z' is not defined",
     "output_type": "error",
     "traceback": [
      "\u001b[0;31m---------------------------------------------------------------------------\u001b[0m",
      "\u001b[0;31mNameError\u001b[0m                                 Traceback (most recent call last)",
      "\u001b[0;32m<ipython-input-23-3a710d2a84f8>\u001b[0m in \u001b[0;36m<module>\u001b[0;34m\u001b[0m\n\u001b[0;32m----> 1\u001b[0;31m \u001b[0mz\u001b[0m\u001b[0;34m\u001b[0m\u001b[0;34m\u001b[0m\u001b[0m\n\u001b[0m",
      "\u001b[0;31mNameError\u001b[0m: name 'z' is not defined"
     ]
    }
   ],
   "source": [
    "z"
   ]
  }
 ],
 "metadata": {
  "kernelspec": {
   "display_name": "Python 3",
   "language": "python",
   "name": "python3"
  },
  "language_info": {
   "codemirror_mode": {
    "name": "ipython",
    "version": 3
   },
   "file_extension": ".py",
   "mimetype": "text/x-python",
   "name": "python",
   "nbconvert_exporter": "python",
   "pygments_lexer": "ipython3",
   "version": "3.8.8"
  }
 },
 "nbformat": 4,
 "nbformat_minor": 4
}
