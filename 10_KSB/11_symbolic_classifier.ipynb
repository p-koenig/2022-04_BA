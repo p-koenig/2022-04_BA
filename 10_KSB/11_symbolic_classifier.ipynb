{
 "cells": [
  {
   "cell_type": "code",
   "execution_count": 15,
   "metadata": {},
   "outputs": [],
   "source": [
    "import joblib\n",
    "import math\n",
    "import numpy as np\n",
    "import pandas as pd\n",
    "import matplotlib.pyplot as plt\n",
    "from tqdm import tqdm\n",
    "\n",
    "from IPython.display import display\n",
    "\n",
    "from sklearn.metrics import accuracy_score, log_loss, roc_auc_score, f1_score\n",
    "from sklearn.model_selection import train_test_split\n",
    "from sklearn.model_selection import ParameterGrid\n",
    "from sklearn.model_selection import GridSearchCV\n",
    "\n",
    "import seaborn as sns\n",
    "\n",
    "\n",
    "\n",
    "import sympy as sym\n",
    "from sympy import Symbol, sympify, lambdify, abc, SympifyError\n",
    "\n",
    "from gplearn.genetic import SymbolicClassifier\n",
    "from gplearn.genetic import SymbolicRegressor\n",
    "from sympy import *\n",
    "\n",
    "import types\n",
    "\n",
    "import graphviz"
   ]
  },
  {
   "cell_type": "code",
   "execution_count": 16,
   "metadata": {},
   "outputs": [
    {
     "data": {
      "text/plain": [
       "'1.0.1'"
      ]
     },
     "execution_count": 16,
     "metadata": {},
     "output_type": "execute_result"
    }
   ],
   "source": [
    "joblib.__version__"
   ]
  },
  {
   "cell_type": "code",
   "execution_count": 17,
   "metadata": {},
   "outputs": [],
   "source": [
    "np.random.seed(42)"
   ]
  },
  {
   "cell_type": "code",
   "execution_count": 18,
   "metadata": {},
   "outputs": [],
   "source": [
    "# Rerun True if GridSearch is to be performed. Otherwise false if already saved\n",
    "rerun = False"
   ]
  },
  {
   "cell_type": "markdown",
   "metadata": {},
   "source": [
    "## Help Functions"
   ]
  },
  {
   "cell_type": "code",
   "execution_count": 19,
   "metadata": {},
   "outputs": [],
   "source": [
    "# Protected division - if the denominator lies between -0.001 and 0.001, returns 1.0\n",
    "def protected_div(x, y):\n",
    "    try:\n",
    "        if -0.001 <= y <= 0.001:\n",
    "            return 1.0\n",
    "    except TypeError:\n",
    "        return x/y\n",
    "    else:\n",
    "        return x/y\n",
    "\n",
    "# Protected square root - returns the square root of the absolute value of the argument\n",
    "def protected_sqrt(x):\n",
    "    return sym.sqrt(sym.Abs(x))\n",
    "\n",
    "# Protected log - returns the logarithm of the absolute value of the argument, or for very small values less than 0.001, it returns 0.0\n",
    "def protected_log(x):\n",
    "    try:\n",
    "        if -0.001 <= x <= 0.001:\n",
    "            return 0.0\n",
    "    except TypeError:\n",
    "        return sym.log(sym.Abs(x))\n",
    "    else:\n",
    "        return sym.log(sym.Abs(x))\n"
   ]
  },
  {
   "cell_type": "code",
   "execution_count": 20,
   "metadata": {},
   "outputs": [],
   "source": [
    "converter = {\n",
    "        'add': lambda x, y : x + y,\n",
    "        'sub': lambda x, y : x - y,\n",
    "        'mul': lambda x, y : x*y,\n",
    "        'div': lambda x, y : protected_div(x,y),\n",
    "        'sqrt': lambda x : protected_sqrt(x),\n",
    "        'log': lambda x : protected_log(x),\n",
    "        'abs': lambda x : sym.Abs(x),\n",
    "        'neg': lambda x : -x,\n",
    "        'max': lambda x, y : sym.Max(x, y),\n",
    "        'min': lambda x, y : sym.Min(x, y),\n",
    "        'sin': lambda x : sym.sin(x),\n",
    "        'cos': lambda x : sym.cos(x),\n",
    "        'tan': lambda x : sym.tan(x),\n",
    "        #'inv': lambda x :,\n",
    "    }"
   ]
  },
  {
   "cell_type": "markdown",
   "metadata": {},
   "source": [
    "## Load Data"
   ]
  },
  {
   "cell_type": "code",
   "execution_count": 21,
   "metadata": {},
   "outputs": [
    {
     "name": "stdout",
     "output_type": "stream",
     "text": [
      "(26381042, 5)\n"
     ]
    }
   ],
   "source": [
    "#path = \"./data/replica_pump_data.csv\"\n",
    "path = \"./data/replica_pump_data_numerical.csv\"\n",
    "pump_data_replica = pd.read_csv(path)\n",
    "print(pump_data_replica.shape)"
   ]
  },
  {
   "cell_type": "code",
   "execution_count": 22,
   "metadata": {},
   "outputs": [
    {
     "data": {
      "text/html": [
       "<div>\n",
       "<style scoped>\n",
       "    .dataframe tbody tr th:only-of-type {\n",
       "        vertical-align: middle;\n",
       "    }\n",
       "\n",
       "    .dataframe tbody tr th {\n",
       "        vertical-align: top;\n",
       "    }\n",
       "\n",
       "    .dataframe thead th {\n",
       "        text-align: right;\n",
       "    }\n",
       "</style>\n",
       "<table border=\"1\" class=\"dataframe\">\n",
       "  <thead>\n",
       "    <tr style=\"text-align: right;\">\n",
       "      <th></th>\n",
       "      <th>energy_norm_log</th>\n",
       "      <th>temperature_diff</th>\n",
       "      <th>rms_norm_log</th>\n",
       "      <th>details_ratedhead</th>\n",
       "      <th>state</th>\n",
       "    </tr>\n",
       "  </thead>\n",
       "  <tbody>\n",
       "    <tr>\n",
       "      <th>0</th>\n",
       "      <td>-4.642337</td>\n",
       "      <td>-0.585072</td>\n",
       "      <td>-2.831278</td>\n",
       "      <td>47.369469</td>\n",
       "      <td>1</td>\n",
       "    </tr>\n",
       "    <tr>\n",
       "      <th>1</th>\n",
       "      <td>-4.384410</td>\n",
       "      <td>-2.051363</td>\n",
       "      <td>-2.900545</td>\n",
       "      <td>120.240341</td>\n",
       "      <td>1</td>\n",
       "    </tr>\n",
       "    <tr>\n",
       "      <th>2</th>\n",
       "      <td>-5.047895</td>\n",
       "      <td>2.104730</td>\n",
       "      <td>-2.742720</td>\n",
       "      <td>92.577971</td>\n",
       "      <td>1</td>\n",
       "    </tr>\n",
       "    <tr>\n",
       "      <th>3</th>\n",
       "      <td>-4.962318</td>\n",
       "      <td>0.375291</td>\n",
       "      <td>-2.975236</td>\n",
       "      <td>75.714544</td>\n",
       "      <td>1</td>\n",
       "    </tr>\n",
       "    <tr>\n",
       "      <th>4</th>\n",
       "      <td>-5.082340</td>\n",
       "      <td>-1.878716</td>\n",
       "      <td>-2.900094</td>\n",
       "      <td>19.732252</td>\n",
       "      <td>1</td>\n",
       "    </tr>\n",
       "  </tbody>\n",
       "</table>\n",
       "</div>"
      ],
      "text/plain": [
       "   energy_norm_log  temperature_diff  rms_norm_log  details_ratedhead  state\n",
       "0        -4.642337         -0.585072     -2.831278          47.369469      1\n",
       "1        -4.384410         -2.051363     -2.900545         120.240341      1\n",
       "2        -5.047895          2.104730     -2.742720          92.577971      1\n",
       "3        -4.962318          0.375291     -2.975236          75.714544      1\n",
       "4        -5.082340         -1.878716     -2.900094          19.732252      1"
      ]
     },
     "execution_count": 22,
     "metadata": {},
     "output_type": "execute_result"
    }
   ],
   "source": [
    "pump_data_replica.head()"
   ]
  },
  {
   "cell_type": "markdown",
   "metadata": {},
   "source": [
    "## Train Test Split"
   ]
  },
  {
   "cell_type": "code",
   "execution_count": 23,
   "metadata": {},
   "outputs": [],
   "source": [
    "data = pump_data_replica.sample(n=100_000)\n",
    "\n",
    "X_data = data.drop(['state'], axis=1).values\n",
    "y_data = data[['state']].values\n",
    "\n",
    "X_train, X_test, y_train, y_test = train_test_split(X_data, y_data, test_size=0.25, random_state=42)           "
   ]
  },
  {
   "cell_type": "markdown",
   "metadata": {},
   "source": [
    "## Load Random Forest Model"
   ]
  },
  {
   "cell_type": "code",
   "execution_count": 24,
   "metadata": {},
   "outputs": [
    {
     "name": "stderr",
     "output_type": "stream",
     "text": [
      "/work/pulmerba/miniconda3/lib/python3.8/site-packages/sklearn/base.py:310: UserWarning: Trying to unpickle estimator DecisionTreeClassifier from version 0.23.1 when using version 0.24.2. This might lead to breaking code or invalid results. Use at your own risk.\n",
      "  warnings.warn(\n",
      "/work/pulmerba/miniconda3/lib/python3.8/site-packages/sklearn/base.py:310: UserWarning: Trying to unpickle estimator RandomForestClassifier from version 0.23.1 when using version 0.24.2. This might lead to breaking code or invalid results. Use at your own risk.\n",
      "  warnings.warn(\n"
     ]
    }
   ],
   "source": [
    "with open(\"./data/randForestBest_20201002.pkl\", 'rb') as f:\n",
    "    random_forest_model = joblib.load(f)  "
   ]
  },
  {
   "cell_type": "code",
   "execution_count": 25,
   "metadata": {},
   "outputs": [
    {
     "name": "stdout",
     "output_type": "stream",
     "text": [
      "Accuracy Random Forest: 0.90676\n"
     ]
    }
   ],
   "source": [
    "y_test_random_forest = random_forest_model.predict(X_test)\n",
    "accuracy_random_forest = accuracy_score(y_test, y_test_random_forest)\n",
    "print('Accuracy Random Forest: '+ str(accuracy_random_forest))"
   ]
  },
  {
   "cell_type": "markdown",
   "metadata": {},
   "source": [
    "## Create Random Forest Predictions"
   ]
  },
  {
   "cell_type": "code",
   "execution_count": 26,
   "metadata": {},
   "outputs": [],
   "source": [
    "y_train_rf_pred = random_forest_model.predict(X_train)\n",
    "y_test_rf_pred = random_forest_model.predict(X_test)"
   ]
  },
  {
   "cell_type": "markdown",
   "metadata": {},
   "source": [
    "## Single Symbolic Classifier"
   ]
  },
  {
   "cell_type": "code",
   "execution_count": 9,
   "metadata": {},
   "outputs": [],
   "source": [
    "est_gp = SymbolicClassifier(random_state=0,\n",
    "                                       verbose=1,\n",
    "                                       population_size=5000,\n",
    "                                       tournament_size=1000,\n",
    "                                       generations=15,\n",
    "                                       function_set=('add', 'sub', 'mul', 'div'),\n",
    "                                       parsimony_coefficient=0.1,\n",
    "                                      )"
   ]
  },
  {
   "cell_type": "code",
   "execution_count": null,
   "metadata": {},
   "outputs": [],
   "source": [
    "est_gp.fit(X_train, y_train_rf_pred)"
   ]
  },
  {
   "cell_type": "code",
   "execution_count": null,
   "metadata": {},
   "outputs": [],
   "source": [
    "y_test_symbolic_clas = est_gp.predict(X_test)\n",
    "f1_fidelity = f1_score(y_test_rf_pred, y_test_symbolic_clas)\n",
    "print('Fidelity (F1 Score) Symbolic Classification - Random Forest Model:', f1_fidelity)"
   ]
  },
  {
   "cell_type": "code",
   "execution_count": null,
   "metadata": {},
   "outputs": [],
   "source": [
    "sym_class = simplify(sympify(str(est_gp._program), locals=converter))\n",
    "sym_class"
   ]
  },
  {
   "cell_type": "code",
   "execution_count": null,
   "metadata": {},
   "outputs": [],
   "source": [
    "est_gp.get_params()"
   ]
  },
  {
   "cell_type": "code",
   "execution_count": null,
   "metadata": {},
   "outputs": [],
   "source": [
    "param_grid_0 = {'function_set': [('add', 'sub', 'mul', 'div')],\n",
    "              'parsimony_coefficient': [0.1]},"
   ]
  },
  {
   "cell_type": "code",
   "execution_count": null,
   "metadata": {},
   "outputs": [],
   "source": [
    "results_0 = GridSearchCV(estimator=est_gp,\n",
    "                            param_grid=param_grid_0,\n",
    "                            scoring='f1',\n",
    "                            cv=3,\n",
    "                            n_jobs=-1,\n",
    "                            verbose=0)"
   ]
  },
  {
   "cell_type": "code",
   "execution_count": null,
   "metadata": {},
   "outputs": [],
   "source": [
    "results_0.fit(X_train, y_train_rf_pred)"
   ]
  },
  {
   "cell_type": "code",
   "execution_count": null,
   "metadata": {},
   "outputs": [],
   "source": [
    "sym_class = simplify(sympify(str(results_0.best_estimator_._program), locals=converter))\n",
    "sym_class"
   ]
  },
  {
   "cell_type": "code",
   "execution_count": null,
   "metadata": {},
   "outputs": [],
   "source": [
    "y_test_symbolic_clas = results_0.best_estimator_.predict(X_test)\n",
    "f1_fidelity = f1_score(y_test_rf_pred, y_test_symbolic_clas)\n",
    "print('Fidelity (F1 Score) Symbolic Classification - Random Forest Model:', f1_fidelity)"
   ]
  },
  {
   "cell_type": "code",
   "execution_count": null,
   "metadata": {},
   "outputs": [],
   "source": [
    "df_results_0 = pd.DataFrame(results_0.cv_results_)\n",
    "df_results_0"
   ]
  },
  {
   "cell_type": "markdown",
   "metadata": {},
   "source": [
    "## Grid Search 1"
   ]
  },
  {
   "cell_type": "code",
   "execution_count": null,
   "metadata": {},
   "outputs": [],
   "source": [
    "base_estimator_sc = SymbolicClassifier(random_state=0,\n",
    "                                       verbose=1,\n",
    "                                       population_size=5000,\n",
    "                                       tournament_size=1000,\n",
    "                                       generations=15,#1000\n",
    "                                      )"
   ]
  },
  {
   "cell_type": "code",
   "execution_count": null,
   "metadata": {},
   "outputs": [],
   "source": [
    "param_grid_1 = {'function_set': [('add', 'sub', 'mul', 'div'),('add', 'sub', 'mul', 'div', 'sqrt', 'log', 'abs', 'neg', 'max', 'min', 'sin', 'cos', 'tan')],\n",
    "              'init_depth': [(2, 6),(4, 10)],\n",
    "              'init_method': ['half and half'],\n",
    "              'parsimony_coefficient': [0.0001, 0.001]},"
   ]
  },
  {
   "cell_type": "code",
   "execution_count": null,
   "metadata": {},
   "outputs": [],
   "source": [
    "results_1 = GridSearchCV(estimator=base_estimator_sc,\n",
    "                            param_grid=param_grid_1,\n",
    "                            scoring='f1',\n",
    "                            cv=3,\n",
    "                            n_jobs=-1,\n",
    "                            verbose=0)"
   ]
  },
  {
   "cell_type": "code",
   "execution_count": 10,
   "metadata": {},
   "outputs": [],
   "source": [
    "if rerun:\n",
    "    results_1.fit(X_train, y_train_rf_pred)\n",
    "    df_results_1 = pd.DataFrame(results_1.cv_results_)\n",
    "    df_results_1 = df_results_1[['param_function_set','param_init_depth','param_init_method','param_parsimony_coefficient','mean_test_score','rank_test_score']]\n",
    "    df_results_1.to_csv('df_results_1.csv')\n",
    "else:\n",
    "    df_results_1 = pd.read_csv('df_results_1.csv') "
   ]
  },
  {
   "cell_type": "code",
   "execution_count": 11,
   "metadata": {},
   "outputs": [
    {
     "data": {
      "text/html": [
       "<div>\n",
       "<style scoped>\n",
       "    .dataframe tbody tr th:only-of-type {\n",
       "        vertical-align: middle;\n",
       "    }\n",
       "\n",
       "    .dataframe tbody tr th {\n",
       "        vertical-align: top;\n",
       "    }\n",
       "\n",
       "    .dataframe thead th {\n",
       "        text-align: right;\n",
       "    }\n",
       "</style>\n",
       "<table border=\"1\" class=\"dataframe\">\n",
       "  <thead>\n",
       "    <tr style=\"text-align: right;\">\n",
       "      <th></th>\n",
       "      <th>Unnamed: 0</th>\n",
       "      <th>param_function_set</th>\n",
       "      <th>param_init_depth</th>\n",
       "      <th>param_init_method</th>\n",
       "      <th>param_parsimony_coefficient</th>\n",
       "      <th>mean_test_score</th>\n",
       "      <th>rank_test_score</th>\n",
       "    </tr>\n",
       "  </thead>\n",
       "  <tbody>\n",
       "    <tr>\n",
       "      <th>0</th>\n",
       "      <td>0</td>\n",
       "      <td>('add', 'sub', 'mul', 'div')</td>\n",
       "      <td>(2, 6)</td>\n",
       "      <td>half and half</td>\n",
       "      <td>0.000</td>\n",
       "      <td>0.931808</td>\n",
       "      <td>3</td>\n",
       "    </tr>\n",
       "    <tr>\n",
       "      <th>1</th>\n",
       "      <td>1</td>\n",
       "      <td>('add', 'sub', 'mul', 'div')</td>\n",
       "      <td>(2, 6)</td>\n",
       "      <td>half and half</td>\n",
       "      <td>0.001</td>\n",
       "      <td>0.914616</td>\n",
       "      <td>6</td>\n",
       "    </tr>\n",
       "    <tr>\n",
       "      <th>2</th>\n",
       "      <td>2</td>\n",
       "      <td>('add', 'sub', 'mul', 'div')</td>\n",
       "      <td>(4, 10)</td>\n",
       "      <td>half and half</td>\n",
       "      <td>0.000</td>\n",
       "      <td>0.931199</td>\n",
       "      <td>4</td>\n",
       "    </tr>\n",
       "    <tr>\n",
       "      <th>3</th>\n",
       "      <td>3</td>\n",
       "      <td>('add', 'sub', 'mul', 'div')</td>\n",
       "      <td>(4, 10)</td>\n",
       "      <td>half and half</td>\n",
       "      <td>0.001</td>\n",
       "      <td>0.914616</td>\n",
       "      <td>6</td>\n",
       "    </tr>\n",
       "    <tr>\n",
       "      <th>4</th>\n",
       "      <td>4</td>\n",
       "      <td>('add', 'sub', 'mul', 'div', 'sqrt', 'log', 'a...</td>\n",
       "      <td>(2, 6)</td>\n",
       "      <td>half and half</td>\n",
       "      <td>0.000</td>\n",
       "      <td>0.932408</td>\n",
       "      <td>2</td>\n",
       "    </tr>\n",
       "    <tr>\n",
       "      <th>5</th>\n",
       "      <td>5</td>\n",
       "      <td>('add', 'sub', 'mul', 'div', 'sqrt', 'log', 'a...</td>\n",
       "      <td>(2, 6)</td>\n",
       "      <td>half and half</td>\n",
       "      <td>0.001</td>\n",
       "      <td>0.920082</td>\n",
       "      <td>5</td>\n",
       "    </tr>\n",
       "    <tr>\n",
       "      <th>6</th>\n",
       "      <td>6</td>\n",
       "      <td>('add', 'sub', 'mul', 'div', 'sqrt', 'log', 'a...</td>\n",
       "      <td>(4, 10)</td>\n",
       "      <td>half and half</td>\n",
       "      <td>0.000</td>\n",
       "      <td>0.940321</td>\n",
       "      <td>1</td>\n",
       "    </tr>\n",
       "    <tr>\n",
       "      <th>7</th>\n",
       "      <td>7</td>\n",
       "      <td>('add', 'sub', 'mul', 'div', 'sqrt', 'log', 'a...</td>\n",
       "      <td>(4, 10)</td>\n",
       "      <td>half and half</td>\n",
       "      <td>0.001</td>\n",
       "      <td>0.914616</td>\n",
       "      <td>6</td>\n",
       "    </tr>\n",
       "  </tbody>\n",
       "</table>\n",
       "</div>"
      ],
      "text/plain": [
       "   Unnamed: 0                                 param_function_set  \\\n",
       "0           0                       ('add', 'sub', 'mul', 'div')   \n",
       "1           1                       ('add', 'sub', 'mul', 'div')   \n",
       "2           2                       ('add', 'sub', 'mul', 'div')   \n",
       "3           3                       ('add', 'sub', 'mul', 'div')   \n",
       "4           4  ('add', 'sub', 'mul', 'div', 'sqrt', 'log', 'a...   \n",
       "5           5  ('add', 'sub', 'mul', 'div', 'sqrt', 'log', 'a...   \n",
       "6           6  ('add', 'sub', 'mul', 'div', 'sqrt', 'log', 'a...   \n",
       "7           7  ('add', 'sub', 'mul', 'div', 'sqrt', 'log', 'a...   \n",
       "\n",
       "  param_init_depth param_init_method  param_parsimony_coefficient  \\\n",
       "0           (2, 6)     half and half                        0.000   \n",
       "1           (2, 6)     half and half                        0.001   \n",
       "2          (4, 10)     half and half                        0.000   \n",
       "3          (4, 10)     half and half                        0.001   \n",
       "4           (2, 6)     half and half                        0.000   \n",
       "5           (2, 6)     half and half                        0.001   \n",
       "6          (4, 10)     half and half                        0.000   \n",
       "7          (4, 10)     half and half                        0.001   \n",
       "\n",
       "   mean_test_score  rank_test_score  \n",
       "0         0.931808                3  \n",
       "1         0.914616                6  \n",
       "2         0.931199                4  \n",
       "3         0.914616                6  \n",
       "4         0.932408                2  \n",
       "5         0.920082                5  \n",
       "6         0.940321                1  \n",
       "7         0.914616                6  "
      ]
     },
     "execution_count": 11,
     "metadata": {},
     "output_type": "execute_result"
    }
   ],
   "source": [
    "df_results_1"
   ]
  },
  {
   "cell_type": "markdown",
   "metadata": {},
   "source": [
    "# Evaluate best Estimator on test data"
   ]
  },
  {
   "cell_type": "code",
   "execution_count": null,
   "metadata": {},
   "outputs": [],
   "source": [
    "results_1.best_estimator_"
   ]
  },
  {
   "cell_type": "code",
   "execution_count": null,
   "metadata": {},
   "outputs": [],
   "source": [
    "saved_best_estimator = {\n",
    "    'function_set': ('add', 'sub', 'mul', 'div', 'sqrt', 'log', 'abs', 'neg', 'max', 'min', 'sin', 'cos', 'tan'),\n",
    "    'init_depth': (4, 10)\n",
    "}"
   ]
  },
  {
   "cell_type": "code",
   "execution_count": null,
   "metadata": {},
   "outputs": [],
   "source": [
    "str(results_1.best_estimator_._program)"
   ]
  },
  {
   "cell_type": "code",
   "execution_count": null,
   "metadata": {},
   "outputs": [],
   "source": [
    "sym_class = simplify(sympify(str(results_1.best_estimator_._program), locals=converter))\n",
    "sym_class"
   ]
  },
  {
   "cell_type": "code",
   "execution_count": 7,
   "metadata": {},
   "outputs": [
    {
     "ename": "NameError",
     "evalue": "name 'X_test' is not defined",
     "output_type": "error",
     "traceback": [
      "\u001b[0;31m---------------------------------------------------------------------------\u001b[0m",
      "\u001b[0;31mNameError\u001b[0m                                 Traceback (most recent call last)",
      "\u001b[0;32m<ipython-input-7-0c1cdefd54ea>\u001b[0m in \u001b[0;36m<module>\u001b[0;34m\u001b[0m\n\u001b[0;32m----> 1\u001b[0;31m \u001b[0mX_test\u001b[0m\u001b[0;34m\u001b[0m\u001b[0;34m\u001b[0m\u001b[0m\n\u001b[0m",
      "\u001b[0;31mNameError\u001b[0m: name 'X_test' is not defined"
     ]
    }
   ],
   "source": []
  },
  {
   "cell_type": "code",
   "execution_count": null,
   "metadata": {},
   "outputs": [],
   "source": [
    "y_test_symbolic_clas = results_1.best_estimator_.predict(X_test)\n",
    "f1_fidelity = f1_score(y_test_rf_pred, y_test_symbolic_clas)\n",
    "print('Fidelity (F1 Score) Symbolic Classification - Random Forest Model:', f1_fidelity)"
   ]
  },
  {
   "cell_type": "markdown",
   "metadata": {},
   "source": [
    "## Grid Search 2"
   ]
  },
  {
   "cell_type": "code",
   "execution_count": null,
   "metadata": {},
   "outputs": [],
   "source": [
    "param_grid_2 = {\n",
    "    'p_crossover': [0.1,0.2,0.3,0.5],\n",
    "    'p_subtree_mutation': [0.1,0.2,0.3,0.5],\n",
    "    'p_hoist_mutation': [0.1,0.2,0.3,0.5],\n",
    "    'p_point_mutation': [0.1,0.2,0.3,0.5],\n",
    "    'p_point_replace': [0.1,0.2,0.3,0.5],\n",
    "    'parsimony_coefficient': [0.0001],\n",
    "               }"
   ]
  },
  {
   "cell_type": "code",
   "execution_count": null,
   "metadata": {},
   "outputs": [],
   "source": [
    "results_1.best_params_"
   ]
  },
  {
   "cell_type": "code",
   "execution_count": null,
   "metadata": {},
   "outputs": [],
   "source": [
    "#base_estimator_sc.set_params(**results_1.best_params_)"
   ]
  },
  {
   "cell_type": "code",
   "execution_count": null,
   "metadata": {},
   "outputs": [],
   "source": [
    "base_estimator_sc.set_params(**saved_best_estimator)"
   ]
  },
  {
   "cell_type": "code",
   "execution_count": null,
   "metadata": {},
   "outputs": [],
   "source": [
    "#base_estimator_sc.set_params(**best_estimator)"
   ]
  },
  {
   "cell_type": "code",
   "execution_count": null,
   "metadata": {},
   "outputs": [],
   "source": [
    "results_2 = GridSearchCV(estimator=base_estimator_sc,\n",
    "                            param_grid=param_grid_2,\n",
    "                            scoring='f1',\n",
    "                            cv=3,\n",
    "                            n_jobs=-1,\n",
    "                            verbose=0)"
   ]
  },
  {
   "cell_type": "code",
   "execution_count": 12,
   "metadata": {},
   "outputs": [],
   "source": [
    "if rerun:\n",
    "    results_2.fit(X_train, y_train_rf_pred)\n",
    "    df_results_2 = pd.DataFrame(results_2.cv_results_)\n",
    "    df_results_2 = df_results_2[['param_parsimony_coefficient','param_p_crossover','param_p_hoist_mutation','param_p_point_mutation','param_p_point_replace','param_p_subtree_mutation', 'mean_test_score','rank_test_score']]\n",
    "    df_results_2.to_csv('df_results_2.csv')\n",
    "else:\n",
    "    df_results_2 = pd.read_csv('df_results_2.csv', index_col=0) "
   ]
  },
  {
   "cell_type": "code",
   "execution_count": 13,
   "metadata": {},
   "outputs": [
    {
     "data": {
      "text/html": [
       "<div>\n",
       "<style scoped>\n",
       "    .dataframe tbody tr th:only-of-type {\n",
       "        vertical-align: middle;\n",
       "    }\n",
       "\n",
       "    .dataframe tbody tr th {\n",
       "        vertical-align: top;\n",
       "    }\n",
       "\n",
       "    .dataframe thead th {\n",
       "        text-align: right;\n",
       "    }\n",
       "</style>\n",
       "<table border=\"1\" class=\"dataframe\">\n",
       "  <thead>\n",
       "    <tr style=\"text-align: right;\">\n",
       "      <th></th>\n",
       "      <th>parsimony_coefficient</th>\n",
       "      <th>p_crossover</th>\n",
       "      <th>p_hoist_mutation</th>\n",
       "      <th>p_point_mutation</th>\n",
       "      <th>p_point_replace</th>\n",
       "      <th>p_subtree_mutation</th>\n",
       "      <th>mean_test_score</th>\n",
       "      <th>rank_test_score</th>\n",
       "    </tr>\n",
       "  </thead>\n",
       "  <tbody>\n",
       "    <tr>\n",
       "      <th>105</th>\n",
       "      <td>0.0001</td>\n",
       "      <td>0.7</td>\n",
       "      <td>0.01</td>\n",
       "      <td>0.01</td>\n",
       "      <td>0.01</td>\n",
       "      <td>0.05</td>\n",
       "      <td>0.956837</td>\n",
       "      <td>1</td>\n",
       "    </tr>\n",
       "    <tr>\n",
       "      <th>99</th>\n",
       "      <td>0.0001</td>\n",
       "      <td>0.7</td>\n",
       "      <td>0.01</td>\n",
       "      <td>0.01</td>\n",
       "      <td>0.05</td>\n",
       "      <td>0.05</td>\n",
       "      <td>0.956568</td>\n",
       "      <td>2</td>\n",
       "    </tr>\n",
       "    <tr>\n",
       "      <th>117</th>\n",
       "      <td>0.0001</td>\n",
       "      <td>0.7</td>\n",
       "      <td>0.01</td>\n",
       "      <td>0.05</td>\n",
       "      <td>0.01</td>\n",
       "      <td>0.05</td>\n",
       "      <td>0.956014</td>\n",
       "      <td>3</td>\n",
       "    </tr>\n",
       "    <tr>\n",
       "      <th>123</th>\n",
       "      <td>0.0001</td>\n",
       "      <td>0.7</td>\n",
       "      <td>0.05</td>\n",
       "      <td>0.01</td>\n",
       "      <td>0.05</td>\n",
       "      <td>0.05</td>\n",
       "      <td>0.955991</td>\n",
       "      <td>4</td>\n",
       "    </tr>\n",
       "    <tr>\n",
       "      <th>135</th>\n",
       "      <td>0.0001</td>\n",
       "      <td>0.7</td>\n",
       "      <td>0.05</td>\n",
       "      <td>0.05</td>\n",
       "      <td>0.05</td>\n",
       "      <td>0.05</td>\n",
       "      <td>0.955868</td>\n",
       "      <td>5</td>\n",
       "    </tr>\n",
       "    <tr>\n",
       "      <th>129</th>\n",
       "      <td>0.0001</td>\n",
       "      <td>0.7</td>\n",
       "      <td>0.05</td>\n",
       "      <td>0.01</td>\n",
       "      <td>0.01</td>\n",
       "      <td>0.05</td>\n",
       "      <td>0.953956</td>\n",
       "      <td>6</td>\n",
       "    </tr>\n",
       "    <tr>\n",
       "      <th>111</th>\n",
       "      <td>0.0001</td>\n",
       "      <td>0.7</td>\n",
       "      <td>0.01</td>\n",
       "      <td>0.05</td>\n",
       "      <td>0.05</td>\n",
       "      <td>0.05</td>\n",
       "      <td>0.953850</td>\n",
       "      <td>7</td>\n",
       "    </tr>\n",
       "    <tr>\n",
       "      <th>141</th>\n",
       "      <td>0.0001</td>\n",
       "      <td>0.7</td>\n",
       "      <td>0.05</td>\n",
       "      <td>0.05</td>\n",
       "      <td>0.01</td>\n",
       "      <td>0.05</td>\n",
       "      <td>0.950854</td>\n",
       "      <td>8</td>\n",
       "    </tr>\n",
       "    <tr>\n",
       "      <th>87</th>\n",
       "      <td>0.0001</td>\n",
       "      <td>0.8</td>\n",
       "      <td>0.05</td>\n",
       "      <td>0.05</td>\n",
       "      <td>0.05</td>\n",
       "      <td>0.05</td>\n",
       "      <td>0.949744</td>\n",
       "      <td>9</td>\n",
       "    </tr>\n",
       "    <tr>\n",
       "      <th>3</th>\n",
       "      <td>0.0001</td>\n",
       "      <td>0.9</td>\n",
       "      <td>0.01</td>\n",
       "      <td>0.01</td>\n",
       "      <td>0.05</td>\n",
       "      <td>0.05</td>\n",
       "      <td>0.949305</td>\n",
       "      <td>10</td>\n",
       "    </tr>\n",
       "  </tbody>\n",
       "</table>\n",
       "</div>"
      ],
      "text/plain": [
       "     parsimony_coefficient  p_crossover  p_hoist_mutation  p_point_mutation  \\\n",
       "105                 0.0001          0.7              0.01              0.01   \n",
       "99                  0.0001          0.7              0.01              0.01   \n",
       "117                 0.0001          0.7              0.01              0.05   \n",
       "123                 0.0001          0.7              0.05              0.01   \n",
       "135                 0.0001          0.7              0.05              0.05   \n",
       "129                 0.0001          0.7              0.05              0.01   \n",
       "111                 0.0001          0.7              0.01              0.05   \n",
       "141                 0.0001          0.7              0.05              0.05   \n",
       "87                  0.0001          0.8              0.05              0.05   \n",
       "3                   0.0001          0.9              0.01              0.01   \n",
       "\n",
       "     p_point_replace  p_subtree_mutation  mean_test_score  rank_test_score  \n",
       "105             0.01                0.05         0.956837                1  \n",
       "99              0.05                0.05         0.956568                2  \n",
       "117             0.01                0.05         0.956014                3  \n",
       "123             0.05                0.05         0.955991                4  \n",
       "135             0.05                0.05         0.955868                5  \n",
       "129             0.01                0.05         0.953956                6  \n",
       "111             0.05                0.05         0.953850                7  \n",
       "141             0.01                0.05         0.950854                8  \n",
       "87              0.05                0.05         0.949744                9  \n",
       "3               0.05                0.05         0.949305               10  "
      ]
     },
     "execution_count": 13,
     "metadata": {},
     "output_type": "execute_result"
    }
   ],
   "source": [
    "df_results_2_sorted = df_results_2.sort_values(by=['rank_test_score'])\n",
    "df_results_2_sorted.columns = ['parsimony_coefficient', 'p_crossover', 'p_hoist_mutation', 'p_point_mutation', 'p_point_replace', 'p_subtree_mutation', 'mean_test_score', 'rank_test_score']\n",
    "df_results_2_sorted.head(10)"
   ]
  },
  {
   "cell_type": "code",
   "execution_count": 14,
   "metadata": {},
   "outputs": [
    {
     "data": {
      "text/html": [
       "<div>\n",
       "<style scoped>\n",
       "    .dataframe tbody tr th:only-of-type {\n",
       "        vertical-align: middle;\n",
       "    }\n",
       "\n",
       "    .dataframe tbody tr th {\n",
       "        vertical-align: top;\n",
       "    }\n",
       "\n",
       "    .dataframe thead th {\n",
       "        text-align: right;\n",
       "    }\n",
       "</style>\n",
       "<table border=\"1\" class=\"dataframe\">\n",
       "  <thead>\n",
       "    <tr style=\"text-align: right;\">\n",
       "      <th></th>\n",
       "      <th>parsimony_coefficient</th>\n",
       "      <th>p_crossover</th>\n",
       "      <th>p_hoist_mutation</th>\n",
       "      <th>p_point_mutation</th>\n",
       "      <th>p_point_replace</th>\n",
       "      <th>p_subtree_mutation</th>\n",
       "      <th>mean_test_score</th>\n",
       "      <th>rank_test_score</th>\n",
       "    </tr>\n",
       "  </thead>\n",
       "  <tbody>\n",
       "    <tr>\n",
       "      <th>112</th>\n",
       "      <td>0.001</td>\n",
       "      <td>0.7</td>\n",
       "      <td>0.01</td>\n",
       "      <td>0.05</td>\n",
       "      <td>0.05</td>\n",
       "      <td>0.05</td>\n",
       "      <td>0.931583</td>\n",
       "      <td>41</td>\n",
       "    </tr>\n",
       "    <tr>\n",
       "      <th>106</th>\n",
       "      <td>0.001</td>\n",
       "      <td>0.7</td>\n",
       "      <td>0.01</td>\n",
       "      <td>0.01</td>\n",
       "      <td>0.01</td>\n",
       "      <td>0.05</td>\n",
       "      <td>0.931445</td>\n",
       "      <td>42</td>\n",
       "    </tr>\n",
       "    <tr>\n",
       "      <th>118</th>\n",
       "      <td>0.001</td>\n",
       "      <td>0.7</td>\n",
       "      <td>0.01</td>\n",
       "      <td>0.05</td>\n",
       "      <td>0.01</td>\n",
       "      <td>0.05</td>\n",
       "      <td>0.931445</td>\n",
       "      <td>42</td>\n",
       "    </tr>\n",
       "    <tr>\n",
       "      <th>130</th>\n",
       "      <td>0.001</td>\n",
       "      <td>0.7</td>\n",
       "      <td>0.05</td>\n",
       "      <td>0.01</td>\n",
       "      <td>0.01</td>\n",
       "      <td>0.05</td>\n",
       "      <td>0.931445</td>\n",
       "      <td>42</td>\n",
       "    </tr>\n",
       "    <tr>\n",
       "      <th>124</th>\n",
       "      <td>0.001</td>\n",
       "      <td>0.7</td>\n",
       "      <td>0.05</td>\n",
       "      <td>0.01</td>\n",
       "      <td>0.05</td>\n",
       "      <td>0.05</td>\n",
       "      <td>0.931445</td>\n",
       "      <td>42</td>\n",
       "    </tr>\n",
       "    <tr>\n",
       "      <th>142</th>\n",
       "      <td>0.001</td>\n",
       "      <td>0.7</td>\n",
       "      <td>0.05</td>\n",
       "      <td>0.05</td>\n",
       "      <td>0.01</td>\n",
       "      <td>0.05</td>\n",
       "      <td>0.931445</td>\n",
       "      <td>42</td>\n",
       "    </tr>\n",
       "    <tr>\n",
       "      <th>100</th>\n",
       "      <td>0.001</td>\n",
       "      <td>0.7</td>\n",
       "      <td>0.01</td>\n",
       "      <td>0.01</td>\n",
       "      <td>0.05</td>\n",
       "      <td>0.05</td>\n",
       "      <td>0.931445</td>\n",
       "      <td>42</td>\n",
       "    </tr>\n",
       "    <tr>\n",
       "      <th>136</th>\n",
       "      <td>0.001</td>\n",
       "      <td>0.7</td>\n",
       "      <td>0.05</td>\n",
       "      <td>0.05</td>\n",
       "      <td>0.05</td>\n",
       "      <td>0.05</td>\n",
       "      <td>0.931443</td>\n",
       "      <td>48</td>\n",
       "    </tr>\n",
       "    <tr>\n",
       "      <th>58</th>\n",
       "      <td>0.001</td>\n",
       "      <td>0.8</td>\n",
       "      <td>0.01</td>\n",
       "      <td>0.01</td>\n",
       "      <td>0.01</td>\n",
       "      <td>0.05</td>\n",
       "      <td>0.915182</td>\n",
       "      <td>49</td>\n",
       "    </tr>\n",
       "    <tr>\n",
       "      <th>64</th>\n",
       "      <td>0.001</td>\n",
       "      <td>0.8</td>\n",
       "      <td>0.01</td>\n",
       "      <td>0.05</td>\n",
       "      <td>0.05</td>\n",
       "      <td>0.05</td>\n",
       "      <td>0.915182</td>\n",
       "      <td>49</td>\n",
       "    </tr>\n",
       "  </tbody>\n",
       "</table>\n",
       "</div>"
      ],
      "text/plain": [
       "     parsimony_coefficient  p_crossover  p_hoist_mutation  p_point_mutation  \\\n",
       "112                  0.001          0.7              0.01              0.05   \n",
       "106                  0.001          0.7              0.01              0.01   \n",
       "118                  0.001          0.7              0.01              0.05   \n",
       "130                  0.001          0.7              0.05              0.01   \n",
       "124                  0.001          0.7              0.05              0.01   \n",
       "142                  0.001          0.7              0.05              0.05   \n",
       "100                  0.001          0.7              0.01              0.01   \n",
       "136                  0.001          0.7              0.05              0.05   \n",
       "58                   0.001          0.8              0.01              0.01   \n",
       "64                   0.001          0.8              0.01              0.05   \n",
       "\n",
       "     p_point_replace  p_subtree_mutation  mean_test_score  rank_test_score  \n",
       "112             0.05                0.05         0.931583               41  \n",
       "106             0.01                0.05         0.931445               42  \n",
       "118             0.01                0.05         0.931445               42  \n",
       "130             0.01                0.05         0.931445               42  \n",
       "124             0.05                0.05         0.931445               42  \n",
       "142             0.01                0.05         0.931445               42  \n",
       "100             0.05                0.05         0.931445               42  \n",
       "136             0.05                0.05         0.931443               48  \n",
       "58              0.01                0.05         0.915182               49  \n",
       "64              0.05                0.05         0.915182               49  "
      ]
     },
     "execution_count": 14,
     "metadata": {},
     "output_type": "execute_result"
    }
   ],
   "source": [
    "df_results_2_sorted[df_results_2_sorted['parsimony_coefficient']==0.001].head(10)"
   ]
  },
  {
   "cell_type": "code",
   "execution_count": 15,
   "metadata": {},
   "outputs": [
    {
     "data": {
      "text/html": [
       "<div>\n",
       "<style scoped>\n",
       "    .dataframe tbody tr th:only-of-type {\n",
       "        vertical-align: middle;\n",
       "    }\n",
       "\n",
       "    .dataframe tbody tr th {\n",
       "        vertical-align: top;\n",
       "    }\n",
       "\n",
       "    .dataframe thead th {\n",
       "        text-align: right;\n",
       "    }\n",
       "</style>\n",
       "<table border=\"1\" class=\"dataframe\">\n",
       "  <thead>\n",
       "    <tr style=\"text-align: right;\">\n",
       "      <th></th>\n",
       "      <th>parsimony_coefficient</th>\n",
       "      <th>p_crossover</th>\n",
       "      <th>p_hoist_mutation</th>\n",
       "      <th>p_point_mutation</th>\n",
       "      <th>p_point_replace</th>\n",
       "      <th>p_subtree_mutation</th>\n",
       "      <th>mean_test_score</th>\n",
       "      <th>rank_test_score</th>\n",
       "    </tr>\n",
       "  </thead>\n",
       "  <tbody>\n",
       "    <tr>\n",
       "      <th>104</th>\n",
       "      <td>0.01</td>\n",
       "      <td>0.7</td>\n",
       "      <td>0.01</td>\n",
       "      <td>0.01</td>\n",
       "      <td>0.01</td>\n",
       "      <td>0.01</td>\n",
       "      <td>0.914616</td>\n",
       "      <td>61</td>\n",
       "    </tr>\n",
       "    <tr>\n",
       "      <th>2</th>\n",
       "      <td>0.01</td>\n",
       "      <td>0.9</td>\n",
       "      <td>0.01</td>\n",
       "      <td>0.01</td>\n",
       "      <td>0.05</td>\n",
       "      <td>0.01</td>\n",
       "      <td>0.914616</td>\n",
       "      <td>61</td>\n",
       "    </tr>\n",
       "    <tr>\n",
       "      <th>110</th>\n",
       "      <td>0.01</td>\n",
       "      <td>0.7</td>\n",
       "      <td>0.01</td>\n",
       "      <td>0.05</td>\n",
       "      <td>0.05</td>\n",
       "      <td>0.01</td>\n",
       "      <td>0.914616</td>\n",
       "      <td>61</td>\n",
       "    </tr>\n",
       "    <tr>\n",
       "      <th>80</th>\n",
       "      <td>0.01</td>\n",
       "      <td>0.8</td>\n",
       "      <td>0.05</td>\n",
       "      <td>0.01</td>\n",
       "      <td>0.01</td>\n",
       "      <td>0.01</td>\n",
       "      <td>0.914616</td>\n",
       "      <td>61</td>\n",
       "    </tr>\n",
       "    <tr>\n",
       "      <th>5</th>\n",
       "      <td>0.01</td>\n",
       "      <td>0.9</td>\n",
       "      <td>0.01</td>\n",
       "      <td>0.01</td>\n",
       "      <td>0.05</td>\n",
       "      <td>0.05</td>\n",
       "      <td>0.914616</td>\n",
       "      <td>61</td>\n",
       "    </tr>\n",
       "    <tr>\n",
       "      <th>86</th>\n",
       "      <td>0.01</td>\n",
       "      <td>0.8</td>\n",
       "      <td>0.05</td>\n",
       "      <td>0.05</td>\n",
       "      <td>0.05</td>\n",
       "      <td>0.01</td>\n",
       "      <td>0.914616</td>\n",
       "      <td>61</td>\n",
       "    </tr>\n",
       "    <tr>\n",
       "      <th>8</th>\n",
       "      <td>0.01</td>\n",
       "      <td>0.9</td>\n",
       "      <td>0.01</td>\n",
       "      <td>0.01</td>\n",
       "      <td>0.01</td>\n",
       "      <td>0.01</td>\n",
       "      <td>0.914616</td>\n",
       "      <td>61</td>\n",
       "    </tr>\n",
       "    <tr>\n",
       "      <th>92</th>\n",
       "      <td>0.01</td>\n",
       "      <td>0.8</td>\n",
       "      <td>0.05</td>\n",
       "      <td>0.05</td>\n",
       "      <td>0.01</td>\n",
       "      <td>0.01</td>\n",
       "      <td>0.914616</td>\n",
       "      <td>61</td>\n",
       "    </tr>\n",
       "    <tr>\n",
       "      <th>11</th>\n",
       "      <td>0.01</td>\n",
       "      <td>0.9</td>\n",
       "      <td>0.01</td>\n",
       "      <td>0.01</td>\n",
       "      <td>0.01</td>\n",
       "      <td>0.05</td>\n",
       "      <td>0.914616</td>\n",
       "      <td>61</td>\n",
       "    </tr>\n",
       "    <tr>\n",
       "      <th>98</th>\n",
       "      <td>0.01</td>\n",
       "      <td>0.7</td>\n",
       "      <td>0.01</td>\n",
       "      <td>0.01</td>\n",
       "      <td>0.05</td>\n",
       "      <td>0.01</td>\n",
       "      <td>0.914616</td>\n",
       "      <td>61</td>\n",
       "    </tr>\n",
       "  </tbody>\n",
       "</table>\n",
       "</div>"
      ],
      "text/plain": [
       "     parsimony_coefficient  p_crossover  p_hoist_mutation  p_point_mutation  \\\n",
       "104                   0.01          0.7              0.01              0.01   \n",
       "2                     0.01          0.9              0.01              0.01   \n",
       "110                   0.01          0.7              0.01              0.05   \n",
       "80                    0.01          0.8              0.05              0.01   \n",
       "5                     0.01          0.9              0.01              0.01   \n",
       "86                    0.01          0.8              0.05              0.05   \n",
       "8                     0.01          0.9              0.01              0.01   \n",
       "92                    0.01          0.8              0.05              0.05   \n",
       "11                    0.01          0.9              0.01              0.01   \n",
       "98                    0.01          0.7              0.01              0.01   \n",
       "\n",
       "     p_point_replace  p_subtree_mutation  mean_test_score  rank_test_score  \n",
       "104             0.01                0.01         0.914616               61  \n",
       "2               0.05                0.01         0.914616               61  \n",
       "110             0.05                0.01         0.914616               61  \n",
       "80              0.01                0.01         0.914616               61  \n",
       "5               0.05                0.05         0.914616               61  \n",
       "86              0.05                0.01         0.914616               61  \n",
       "8               0.01                0.01         0.914616               61  \n",
       "92              0.01                0.01         0.914616               61  \n",
       "11              0.01                0.05         0.914616               61  \n",
       "98              0.05                0.01         0.914616               61  "
      ]
     },
     "execution_count": 15,
     "metadata": {},
     "output_type": "execute_result"
    }
   ],
   "source": [
    "df_results_2_sorted[df_results_2_sorted['parsimony_coefficient']==0.01].head(10)"
   ]
  },
  {
   "cell_type": "markdown",
   "metadata": {},
   "source": [
    "## Evaluations"
   ]
  },
  {
   "cell_type": "markdown",
   "metadata": {},
   "source": [
    "### Test 1"
   ]
  },
  {
   "cell_type": "code",
   "execution_count": 14,
   "metadata": {},
   "outputs": [],
   "source": [
    "test_1 = SymbolicClassifier(random_state=0,\n",
    "                            verbose=1,\n",
    "                            population_size=5000,\n",
    "                            tournament_size=1000,\n",
    "                            generations=15,\n",
    "                            function_set=('add', 'sub', 'mul', 'div', 'sqrt', 'log', 'abs', 'neg', 'max', 'min', 'sin', 'cos', 'tan'),\n",
    "                            init_depth=(4, 10),\n",
    "                            parsimony_coefficient=0.01,\n",
    "                            p_crossover=0.7,\n",
    "                            p_hoist_mutation=0.01,\n",
    "                            p_point_mutation=0.01,\n",
    "                            p_point_replace=0.01,\n",
    "                            p_subtree_mutation=0.05,\n",
    "                           )"
   ]
  },
  {
   "cell_type": "code",
   "execution_count": 15,
   "metadata": {},
   "outputs": [
    {
     "name": "stdout",
     "output_type": "stream",
     "text": [
      "    |   Population Average    |             Best Individual              |\n",
      "---- ------------------------- ------------------------------------------ ----------\n",
      " Gen   Length          Fitness   Length          Fitness      OOB Fitness  Time Left\n",
      "   0    40.09          2.56286        3         0.154049              N/A     36.90m\n",
      "   1     5.21         0.915605        7         0.147526              N/A     12.08m\n",
      "   2     3.08         0.298357        5         0.140337              N/A     10.08m\n",
      "   3     3.27         0.280103        3         0.149588              N/A      9.22m\n",
      "   4     3.19         0.300289        5         0.144887              N/A      8.39m\n",
      "   5     3.27         0.333431        3         0.149588              N/A      7.62m\n",
      "   6     3.27         0.312924        3         0.149588              N/A      6.62m\n",
      "   7     3.24         0.308719        5         0.140454              N/A      5.86m\n",
      "   8     3.25         0.312715        3         0.149588              N/A      5.10m\n",
      "   9     3.15         0.285291        9         0.144058              N/A      4.12m\n",
      "  10     3.22         0.291895        3         0.149588              N/A      3.39m\n",
      "  11     3.20         0.252072        3         0.149588              N/A      2.57m\n",
      "  12     3.25         0.287022        3         0.149588              N/A      1.69m\n",
      "  13     3.25         0.330377        8         0.140466              N/A     50.74s\n",
      "  14     3.24         0.286323        3         0.149588              N/A      0.00s\n"
     ]
    },
    {
     "data": {
      "text/latex": [
       "$\\displaystyle 2 X_{0}$"
      ],
      "text/plain": [
       "2*X0"
      ]
     },
     "execution_count": 15,
     "metadata": {},
     "output_type": "execute_result"
    }
   ],
   "source": [
    "test_1.fit(X_train, y_train_rf_pred)\n",
    "\n",
    "sym_class = simplify(sympify(str(test_1._program), locals=converter))\n",
    "sym_class"
   ]
  },
  {
   "cell_type": "code",
   "execution_count": 16,
   "metadata": {},
   "outputs": [
    {
     "name": "stdout",
     "output_type": "stream",
     "text": [
      "Fidelity (F1 Score) Symbolic Classification - Random Forest Model: 0.9156571166102084\n"
     ]
    }
   ],
   "source": [
    "y_test_symbolic_clas = test_1.predict(X_test)\n",
    "f1_fidelity = f1_score(y_test_rf_pred, y_test_symbolic_clas)\n",
    "print('Fidelity (F1 Score) Symbolic Classification - Random Forest Model:', f1_fidelity)"
   ]
  },
  {
   "cell_type": "code",
   "execution_count": 46,
   "metadata": {},
   "outputs": [
    {
     "name": "stdout",
     "output_type": "stream",
     "text": [
      "Fidelity (F1 Score) Symbolic Classification - Real Data: 0.8840531190715322\n"
     ]
    }
   ],
   "source": [
    "y_test_symbolic_clas = test_1.predict(X_test)\n",
    "print('Fidelity (F1 Score) Symbolic Classification - Real Data:', f1_score(y_test, y_test_symbolic_clas))"
   ]
  },
  {
   "cell_type": "code",
   "execution_count": 55,
   "metadata": {},
   "outputs": [
    {
     "name": "stdout",
     "output_type": "stream",
     "text": [
      "Accuracy Symbolic Classification - Random Forest Model: 0.94124\n",
      "Accuracy Symbolic Classification - Real Data: 0.91688\n"
     ]
    }
   ],
   "source": [
    "y_test_symbolic_clas = test_1.predict(X_test)\n",
    "print('Accuracy Symbolic Classification - Random Forest Model:', accuracy_score(y_test_rf_pred, y_test_symbolic_clas))\n",
    "print('Accuracy Symbolic Classification - Real Data:', accuracy_score(y_test, y_test_symbolic_clas))"
   ]
  },
  {
   "cell_type": "code",
   "execution_count": 33,
   "metadata": {},
   "outputs": [
    {
     "data": {
      "text/plain": [
       "'add(X0, X0)'"
      ]
     },
     "execution_count": 33,
     "metadata": {},
     "output_type": "execute_result"
    }
   ],
   "source": [
    "str(test_1._program)"
   ]
  },
  {
   "cell_type": "markdown",
   "metadata": {},
   "source": [
    "### Test 2"
   ]
  },
  {
   "cell_type": "code",
   "execution_count": 27,
   "metadata": {},
   "outputs": [],
   "source": [
    "test_2 = SymbolicClassifier(random_state=0,\n",
    "                            verbose=1,\n",
    "                            population_size=5000,\n",
    "                            tournament_size=1000,\n",
    "                            generations=15,\n",
    "                            function_set=('add', 'sub', 'mul', 'div', 'sqrt', 'log', 'abs', 'neg', 'max', 'min', 'sin', 'cos', 'tan'),\n",
    "                            init_depth=(4, 10),\n",
    "                            parsimony_coefficient=0.001,\n",
    "                            p_crossover=0.3,\n",
    "                            p_hoist_mutation=0.1,\n",
    "                            p_point_mutation=0.5,\n",
    "                            p_point_replace=0.5,\n",
    "                            p_subtree_mutation=0.1,\n",
    "                           )"
   ]
  },
  {
   "cell_type": "code",
   "execution_count": 28,
   "metadata": {},
   "outputs": [
    {
     "name": "stdout",
     "output_type": "stream",
     "text": [
      "    |   Population Average    |             Best Individual              |\n",
      "---- ------------------------- ------------------------------------------ ----------\n",
      " Gen   Length          Fitness   Length          Fitness      OOB Fitness  Time Left\n",
      "   0    40.09          2.56286        3         0.154049              N/A     62.05m\n",
      "   1     7.86          2.19521        6         0.144051              N/A     23.44m\n",
      "   2     4.52          2.42639        8         0.134788              N/A     17.94m\n",
      "   3     7.60          2.37262       10         0.123729              N/A     17.85m\n",
      "   4     8.94          2.47722       10         0.119612              N/A     16.39m\n",
      "   5     9.93          2.56264       10         0.118321              N/A     14.96m\n",
      "   6     9.95          2.62249       17         0.118316              N/A     13.32m\n",
      "   7     9.84          2.51737       11         0.118107              N/A     11.38m\n",
      "   8     9.95          2.62694       10         0.114593              N/A      9.70m\n",
      "   9     9.94          2.73509       19         0.107838              N/A      8.16m\n",
      "  10     9.91          2.68093       19         0.107169              N/A      6.64m\n",
      "  11     9.96          2.55751       19         0.107169              N/A      4.90m\n",
      "  12    10.01          2.49706       19         0.107169              N/A      3.37m\n",
      "  13     9.90          2.52486       19         0.107169              N/A      1.68m\n",
      "  14     9.91          2.51696       19         0.107169              N/A      0.00s\n"
     ]
    },
    {
     "data": {
      "text/latex": [
       "$\\displaystyle X_{0} + \\min\\left(X_{0} + \\min\\left(X_{0} + 0.774, \\max\\left(-0.87, X_{1}\\right)\\right) + 0.774, \\max\\left(-0.87, X_{1}\\right)\\right)$"
      ],
      "text/plain": [
       "X0 + Min(X0 + Min(X0 + 0.774, Max(-0.87, X1)) + 0.774, Max(-0.87, X1))"
      ]
     },
     "execution_count": 28,
     "metadata": {},
     "output_type": "execute_result"
    }
   ],
   "source": [
    "test_2.fit(X_train, y_train_rf_pred)\n",
    "\n",
    "sym_class = simplify(sympify(str(test_2._program), locals=converter))\n",
    "sym_class"
   ]
  },
  {
   "cell_type": "code",
   "execution_count": 29,
   "metadata": {},
   "outputs": [
    {
     "name": "stdout",
     "output_type": "stream",
     "text": [
      "Fidelity (F1 Score) Symbolic Classification - Random Forest Model: 0.9330287497214175\n"
     ]
    }
   ],
   "source": [
    "y_test_symbolic_clas = test_2.predict(X_test)\n",
    "f1_fidelity = f1_score(y_test_rf_pred, y_test_symbolic_clas)\n",
    "print('Fidelity (F1 Score) Symbolic Classification - Random Forest Model:', f1_fidelity)"
   ]
  },
  {
   "cell_type": "code",
   "execution_count": 30,
   "metadata": {},
   "outputs": [
    {
     "name": "stdout",
     "output_type": "stream",
     "text": [
      "Fidelity (F1 Score) Symbolic Classification - Real Data: 0.8809407684387363\n"
     ]
    }
   ],
   "source": [
    "y_test_symbolic_clas = test_2.predict(X_test)\n",
    "print('Fidelity (F1 Score) Symbolic Classification - Real Data:', f1_score(y_test, y_test_symbolic_clas))"
   ]
  },
  {
   "cell_type": "code",
   "execution_count": 31,
   "metadata": {},
   "outputs": [
    {
     "name": "stdout",
     "output_type": "stream",
     "text": [
      "Accuracy Symbolic Classification - Random Forest Model: 0.95192\n",
      "Accuracy Symbolic Classification - Real Data: 0.91212\n"
     ]
    }
   ],
   "source": [
    "y_test_symbolic_clas = test_2.predict(X_test)\n",
    "print('Accuracy Symbolic Classification - Random Forest Model:', accuracy_score(y_test_rf_pred, y_test_symbolic_clas))\n",
    "print('Accuracy Symbolic Classification - Real Data:', accuracy_score(y_test, y_test_symbolic_clas))"
   ]
  },
  {
   "cell_type": "code",
   "execution_count": 32,
   "metadata": {},
   "outputs": [
    {
     "data": {
      "text/plain": [
       "'sub(X0, neg(min(sub(sub(X0, neg(min(sub(X0, -0.774), max(X1, -0.870)))), -0.774), max(X1, -0.870))))'"
      ]
     },
     "execution_count": 32,
     "metadata": {},
     "output_type": "execute_result"
    }
   ],
   "source": [
    "str(test_2._program)"
   ]
  },
  {
   "cell_type": "markdown",
   "metadata": {},
   "source": [
    "### Test 2b"
   ]
  },
  {
   "cell_type": "code",
   "execution_count": 33,
   "metadata": {},
   "outputs": [],
   "source": [
    "test_2b = SymbolicClassifier(random_state=0,\n",
    "                            verbose=1,\n",
    "                            population_size=5000,\n",
    "                            tournament_size=1000,\n",
    "                            generations=15,\n",
    "                            function_set=('add', 'sub', 'mul', 'div', 'sqrt', 'log', 'abs', 'neg', 'max', 'min', 'sin', 'cos', 'tan'),\n",
    "                            init_depth=(4, 10),\n",
    "                            parsimony_coefficient=0.001,\n",
    "                            p_crossover=0.3,\n",
    "                            p_hoist_mutation=0.0,\n",
    "                            p_point_mutation=0.7,\n",
    "                            p_point_replace=0.5,\n",
    "                            p_subtree_mutation=0.0,\n",
    "                           )"
   ]
  },
  {
   "cell_type": "code",
   "execution_count": 34,
   "metadata": {},
   "outputs": [
    {
     "name": "stdout",
     "output_type": "stream",
     "text": [
      "    |   Population Average    |             Best Individual              |\n",
      "---- ------------------------- ------------------------------------------ ----------\n",
      " Gen   Length          Fitness   Length          Fitness      OOB Fitness  Time Left\n",
      "   0    40.09          2.56286        3         0.154049              N/A     61.85m\n",
      "   1     7.62          2.54846        6         0.144051              N/A     22.89m\n",
      "   2     4.09          2.79399        8         0.134788              N/A     17.53m\n",
      "   3     7.55          2.81962       10         0.123729              N/A     17.84m\n",
      "   4     8.86          2.90121       10         0.120653              N/A     16.16m\n",
      "   5    10.00          2.99952       16         0.119101              N/A     14.80m\n",
      "   6     9.98          2.92056       10         0.119267              N/A     13.26m\n",
      "   7     9.94          2.83569       10         0.118644              N/A     11.45m\n",
      "   8    10.00          3.06199       10         0.114593              N/A      9.71m\n",
      "   9     9.99          3.25883       19         0.107571              N/A      7.87m\n",
      "  10    10.18          3.27393       19         0.107169              N/A      6.47m\n",
      "  11     9.99          3.12041       19         0.107169              N/A      4.86m\n",
      "  12    10.01          3.12951       19         0.107169              N/A      3.23m\n",
      "  13     9.98          3.07852       19         0.107169              N/A      1.61m\n",
      "  14    10.02          3.09555       19         0.107169              N/A      0.00s\n"
     ]
    },
    {
     "data": {
      "text/latex": [
       "$\\displaystyle X_{0} + \\min\\left(X_{0} + \\min\\left(X_{0} + 0.774, \\max\\left(-0.87, X_{1}\\right)\\right) + 0.774, \\max\\left(-0.87, X_{1}\\right)\\right)$"
      ],
      "text/plain": [
       "X0 + Min(X0 + Min(X0 + 0.774, Max(-0.87, X1)) + 0.774, Max(-0.87, X1))"
      ]
     },
     "execution_count": 34,
     "metadata": {},
     "output_type": "execute_result"
    }
   ],
   "source": [
    "test_2b.fit(X_train, y_train_rf_pred)\n",
    "\n",
    "sym_class = simplify(sympify(str(test_2b._program), locals=converter))\n",
    "sym_class"
   ]
  },
  {
   "cell_type": "code",
   "execution_count": 35,
   "metadata": {},
   "outputs": [
    {
     "name": "stdout",
     "output_type": "stream",
     "text": [
      "Fidelity (F1 Score) Symbolic Classification - Random Forest Model: 0.9330287497214175\n"
     ]
    }
   ],
   "source": [
    "y_test_symbolic_clas = test_2b.predict(X_test)\n",
    "f1_fidelity = f1_score(y_test_rf_pred, y_test_symbolic_clas)\n",
    "print('Fidelity (F1 Score) Symbolic Classification - Random Forest Model:', f1_fidelity)"
   ]
  },
  {
   "cell_type": "code",
   "execution_count": 36,
   "metadata": {},
   "outputs": [
    {
     "data": {
      "text/plain": [
       "'sub(X0, neg(min(sub(sub(X0, neg(min(sub(X0, -0.774), max(X1, -0.870)))), -0.774), max(X1, -0.870))))'"
      ]
     },
     "execution_count": 36,
     "metadata": {},
     "output_type": "execute_result"
    }
   ],
   "source": [
    "str(test_2b._program)"
   ]
  },
  {
   "cell_type": "markdown",
   "metadata": {},
   "source": [
    "### Test 2c"
   ]
  },
  {
   "cell_type": "code",
   "execution_count": 23,
   "metadata": {},
   "outputs": [],
   "source": [
    "test_2c = SymbolicClassifier(random_state=0,\n",
    "                            verbose=1,\n",
    "                            population_size=5000,\n",
    "                            tournament_size=1000,\n",
    "                            generations=15,\n",
    "                            function_set=('add', 'sub', 'mul', 'div', 'sqrt', 'log', 'abs', 'neg', 'max', 'min', 'sin', 'cos', 'tan'),\n",
    "                            init_depth=(4, 10),\n",
    "                            parsimony_coefficient=0.01,\n",
    "                            p_crossover=0.3,\n",
    "                            p_hoist_mutation=0.1,\n",
    "                            p_point_mutation=0.5,\n",
    "                            p_point_replace=0.5,\n",
    "                            p_subtree_mutation=0.1,\n",
    "                           )"
   ]
  },
  {
   "cell_type": "code",
   "execution_count": 24,
   "metadata": {},
   "outputs": [
    {
     "name": "stdout",
     "output_type": "stream",
     "text": [
      "    |   Population Average    |             Best Individual              |\n",
      "---- ------------------------- ------------------------------------------ ----------\n",
      " Gen   Length          Fitness   Length          Fitness      OOB Fitness  Time Left\n",
      "   0    40.09          2.56286        3         0.154049              N/A     36.39m\n",
      "   1     5.29          2.13342        6         0.145236              N/A     12.09m\n",
      "   2     3.49            2.151        3         0.146636              N/A     10.13m\n",
      "   3     3.46          1.93993        3         0.146593              N/A      9.12m\n",
      "   4     3.42           1.9348        3         0.146582              N/A      8.29m\n",
      "   5     3.42          1.85273        3         0.146582              N/A      7.42m\n",
      "   6     3.44          1.80738        3         0.146582              N/A      6.68m\n",
      "   7     3.37          1.91699        3         0.146582              N/A      5.80m\n",
      "   8     3.42          1.83549        3         0.146582              N/A      4.96m\n",
      "   9     3.40          1.83509        7         0.121014              N/A      4.16m\n",
      "  10     3.39          1.91045        3         0.146582              N/A      3.43m\n",
      "  11     3.43          1.74417        3         0.146582              N/A      2.58m\n",
      "  12     3.46          1.82585        3         0.146582              N/A      1.74m\n",
      "  13     3.38          1.86314        3         0.146582              N/A     51.57s\n",
      "  14     3.38          1.81132        3         0.146582              N/A      0.00s\n"
     ]
    },
    {
     "data": {
      "text/latex": [
       "$\\displaystyle 1.65837479270315 X_{0}$"
      ],
      "text/plain": [
       "1.65837479270315*X0"
      ]
     },
     "execution_count": 24,
     "metadata": {},
     "output_type": "execute_result"
    }
   ],
   "source": [
    "test_2c.fit(X_train, y_train_rf_pred)\n",
    "\n",
    "sym_class = simplify(sympify(str(test_2c._program), locals=converter))\n",
    "sym_class"
   ]
  },
  {
   "cell_type": "code",
   "execution_count": 25,
   "metadata": {},
   "outputs": [
    {
     "name": "stdout",
     "output_type": "stream",
     "text": [
      "Fidelity (F1 Score) Symbolic Classification - Random Forest Model: 0.9156571166102084\n"
     ]
    }
   ],
   "source": [
    "y_test_symbolic_clas = test_2c.predict(X_test)\n",
    "f1_fidelity = f1_score(y_test_rf_pred, y_test_symbolic_clas)\n",
    "print('Fidelity (F1 Score) Symbolic Classification - Random Forest Model:', f1_fidelity)"
   ]
  },
  {
   "cell_type": "markdown",
   "metadata": {},
   "source": [
    "### Test 2d"
   ]
  },
  {
   "cell_type": "code",
   "execution_count": 26,
   "metadata": {},
   "outputs": [],
   "source": [
    "test_2d = SymbolicClassifier(random_state=0,\n",
    "                            verbose=1,\n",
    "                            population_size=5000,\n",
    "                            tournament_size=1000,\n",
    "                            generations=15,\n",
    "                            function_set=('add', 'sub', 'mul', 'div', 'sqrt', 'log', 'abs', 'neg', 'max', 'min', 'sin', 'cos', 'tan'),\n",
    "                            init_depth=(4, 10),\n",
    "                            parsimony_coefficient=0.001,\n",
    "                            p_crossover=0.3,\n",
    "                            p_hoist_mutation=0.1,\n",
    "                            p_point_mutation=0.5,\n",
    "                            p_point_replace=0.5,\n",
    "                            p_subtree_mutation=0.1,\n",
    "                           )"
   ]
  },
  {
   "cell_type": "code",
   "execution_count": 27,
   "metadata": {},
   "outputs": [
    {
     "name": "stdout",
     "output_type": "stream",
     "text": [
      "    |   Population Average    |             Best Individual              |\n",
      "---- ------------------------- ------------------------------------------ ----------\n",
      " Gen   Length          Fitness   Length          Fitness      OOB Fitness  Time Left\n"
     ]
    },
    {
     "name": "stderr",
     "output_type": "stream",
     "text": [
      "/work/pulmerba/miniconda3/lib/python3.8/site-packages/sklearn/utils/validation.py:63: DataConversionWarning: A column-vector y was passed when a 1d array was expected. Please change the shape of y to (n_samples, ), for example using ravel().\n",
      "  return f(*args, **kwargs)\n"
     ]
    },
    {
     "name": "stdout",
     "output_type": "stream",
     "text": [
      "   0    40.09          2.54557        3         0.210364              N/A     36.34m\n",
      "   1     6.88          2.12375       13         0.210024              N/A     12.84m\n",
      "   2     3.49          2.21788        3         0.210364              N/A     10.15m\n",
      "   3     3.46          2.32488        5         0.210353              N/A      9.42m\n",
      "   4     3.42          2.34944        3         0.210364              N/A      8.54m\n",
      "   5     3.42          2.23475        3         0.210364              N/A      7.49m\n",
      "   6     3.44          2.18755        3         0.210364              N/A      6.76m\n",
      "   7     3.37          2.23939        3         0.210364              N/A      5.92m\n",
      "   8     3.42           2.2219        3         0.210364              N/A      5.09m\n",
      "   9     3.40          2.25725        3         0.210364              N/A      4.24m\n",
      "  10     3.39          2.26536        3         0.210364              N/A      3.37m\n",
      "  11     3.43          2.11249        3         0.210364              N/A      2.53m\n",
      "  12     3.46          2.25536        3         0.210364              N/A      1.68m\n",
      "  13     3.38          2.21002        3         0.210364              N/A     50.77s\n",
      "  14     3.38          2.18233        5         0.209186              N/A      0.00s\n"
     ]
    },
    {
     "data": {
      "text/latex": [
       "$\\displaystyle X_{0} + \\min\\left(0.524, X_{2}\\right)$"
      ],
      "text/plain": [
       "X0 + Min(0.524, X2)"
      ]
     },
     "execution_count": 27,
     "metadata": {},
     "output_type": "execute_result"
    }
   ],
   "source": [
    "test_2d.fit(X_train, y_train)\n",
    "\n",
    "sym_class = simplify(sympify(str(test_2d._program), locals=converter))\n",
    "sym_class"
   ]
  },
  {
   "cell_type": "code",
   "execution_count": 28,
   "metadata": {},
   "outputs": [
    {
     "name": "stdout",
     "output_type": "stream",
     "text": [
      "Fidelity (F1 Score) Symbolic Classification - Random Forest Model: 0.8813540448750069\n"
     ]
    }
   ],
   "source": [
    "y_test_symbolic_clas = test_2d.predict(X_test)\n",
    "f1_fidelity = f1_score(y_test, y_test_symbolic_clas)\n",
    "print('Fidelity (F1 Score) Symbolic Classification - Random Forest Model:', f1_fidelity)"
   ]
  },
  {
   "cell_type": "markdown",
   "metadata": {},
   "source": [
    "### Test 2e"
   ]
  },
  {
   "cell_type": "code",
   "execution_count": 29,
   "metadata": {},
   "outputs": [],
   "source": [
    "test_2e = SymbolicClassifier(random_state=0,\n",
    "                            verbose=1,\n",
    "                            population_size=5000,\n",
    "                            tournament_size=1000,\n",
    "                            generations=15,\n",
    "                            function_set=('add', 'sub', 'mul', 'div', 'sqrt', 'log', 'abs', 'neg', 'max', 'min', 'sin', 'cos', 'tan'),\n",
    "                            init_depth=(4, 10),\n",
    "                            parsimony_coefficient=0.01,\n",
    "                            p_crossover=0.1,\n",
    "                            p_hoist_mutation=0.1,\n",
    "                            p_point_mutation=0.7,\n",
    "                            p_point_replace=0.5,\n",
    "                            p_subtree_mutation=0.1,\n",
    "                           )"
   ]
  },
  {
   "cell_type": "code",
   "execution_count": 30,
   "metadata": {},
   "outputs": [
    {
     "name": "stdout",
     "output_type": "stream",
     "text": [
      "    |   Population Average    |             Best Individual              |\n",
      "---- ------------------------- ------------------------------------------ ----------\n",
      " Gen   Length          Fitness   Length          Fitness      OOB Fitness  Time Left\n",
      "   0    40.09          2.56286        3         0.154049              N/A     36.47m\n",
      "   1     5.39          2.52534        6         0.145236              N/A     12.13m\n",
      "   2     3.39          2.84142        5         0.144887              N/A      9.99m\n",
      "   3     3.43          2.49049        3         0.146593              N/A      8.18m\n",
      "   4     3.49          2.47801        3         0.146582              N/A      8.45m\n",
      "   5     3.39          2.31539        3         0.146582              N/A      7.63m\n",
      "   6     3.48          2.43888       11         0.133917              N/A      6.84m\n",
      "   7     3.36          2.52184        3         0.146582              N/A      5.93m\n",
      "   8     3.49          2.46607        3         0.146582              N/A      5.13m\n",
      "   9     3.47           2.2634        3         0.146582              N/A      4.24m\n",
      "  10     3.44          2.41056        3         0.146582              N/A      3.41m\n",
      "  11     3.41          2.35204        3         0.146582              N/A      2.55m\n",
      "  12     3.43          2.25628        3         0.146582              N/A      1.71m\n",
      "  13     3.43          2.35602        3         0.146582              N/A     51.61s\n",
      "  14     3.43          2.29556        3         0.146582              N/A      0.00s\n"
     ]
    },
    {
     "data": {
      "text/latex": [
       "$\\displaystyle 1.65837479270315 X_{0}$"
      ],
      "text/plain": [
       "1.65837479270315*X0"
      ]
     },
     "execution_count": 30,
     "metadata": {},
     "output_type": "execute_result"
    }
   ],
   "source": [
    "test_2e.fit(X_train, y_train_rf_pred)\n",
    "\n",
    "sym_class = simplify(sympify(str(test_2e._program), locals=converter))\n",
    "sym_class"
   ]
  },
  {
   "cell_type": "code",
   "execution_count": 31,
   "metadata": {},
   "outputs": [
    {
     "name": "stdout",
     "output_type": "stream",
     "text": [
      "Fidelity (F1 Score) Symbolic Classification - Random Forest Model: 0.9156571166102084\n"
     ]
    }
   ],
   "source": [
    "y_test_symbolic_clas = test_2e.predict(X_test)\n",
    "f1_fidelity = f1_score(y_test_rf_pred, y_test_symbolic_clas)\n",
    "print('Fidelity (F1 Score) Symbolic Classification - Random Forest Model:', f1_fidelity)"
   ]
  },
  {
   "cell_type": "markdown",
   "metadata": {},
   "source": [
    "### Test 3"
   ]
  },
  {
   "cell_type": "code",
   "execution_count": 53,
   "metadata": {},
   "outputs": [],
   "source": [
    "def calculate_function_values_from_sympy(function, data_points, variable_names=None):\n",
    "    \n",
    "    if variable_names is None:\n",
    "        variable_names = ['X' + str(i) for i in range(data_points.shape[1])]\n",
    "    \n",
    "    if function is None:\n",
    "        return np.array([np.nan for i in range(data_points.shape[0])])\n",
    "    try:\n",
    "        if variable_names == None:\n",
    "            function_vars = function.atoms(Symbol)\n",
    "        else:\n",
    "            function_vars = [sym.symbols(variable_name) for variable_name in variable_names]\n",
    "        #print('function_vars', function_vars)\n",
    "        lambda_function = lambdify([function_vars], function, modules=[\"scipy\", \"numpy\"])\n",
    "        #print('lambda_function', lambda_function)\n",
    "        #print('data_points[0]', data_points[0])\n",
    "        if len(function_vars) >= 1:\n",
    "            function_values = [lambda_function(data_point) for data_point in data_points]\n",
    "            \n",
    "        else:\n",
    "            function_values = [lambda_function() for i in range(data_points.shape[0])]\n",
    "    except (NameError, KeyError) as e:\n",
    "        #print(e)\n",
    "        function_values = []\n",
    "        for data_point in data_points:\n",
    "            function_value = function.evalf(subs={var: data_point[index] for index, var in enumerate(list(function_vars))})\n",
    "            try:\n",
    "                function_value = float(function_value)\n",
    "            except TypeError as te:\n",
    "                #print(te)\n",
    "                #print(function_value)\n",
    "                function_value = np.inf\n",
    "            function_values.append(function_value)\n",
    "    function_values = np.nan_to_num(function_values).ravel()\n",
    "                \n",
    "    return function_values"
   ]
  },
  {
   "cell_type": "code",
   "execution_count": null,
   "metadata": {},
   "outputs": [],
   "source": [
    "a = 'add(min(add(min(div(sin(max(X0, X1)), log(0.203)), add(add(cos(log(neg(sqrt(X3)))), X0), X0)), sub(add(add(X0, cos(log(neg(sqrt(X3))))), cos(log(neg(sqrt(X3))))), neg(log(max(log(tan(log(neg(sqrt(X3))))), X1))))), add(add(cos(log(neg(sqrt(X3)))), X0), X0)), sub(add(X0, cos(log(neg(sqrt(X3))))), neg(log(max(log(tan(log(neg(sqrt(X3))))), X1)))))'\n",
    "b = 'add(X0, X0)'"
   ]
  },
  {
   "cell_type": "code",
   "execution_count": null,
   "metadata": {},
   "outputs": [],
   "source": [
    "y_test_symbolic_clas = np.where(calculate_function_values_from_sympy(b, X_test) > 0, 1, 0).astype(np.int64).reshape(-1,1)"
   ]
  },
  {
   "cell_type": "code",
   "execution_count": null,
   "metadata": {},
   "outputs": [],
   "source": [
    "f1_fidelity = f1_score(y_test_rf_pred, y_test_symbolic_clas)\n",
    "print('Fidelity (F1 Score) Symbolic Classification - Random Forest Model:', f1_fidelity)"
   ]
  },
  {
   "cell_type": "code",
   "execution_count": null,
   "metadata": {},
   "outputs": [],
   "source": []
  },
  {
   "cell_type": "code",
   "execution_count": null,
   "metadata": {},
   "outputs": [],
   "source": []
  },
  {
   "cell_type": "code",
   "execution_count": null,
   "metadata": {},
   "outputs": [],
   "source": []
  },
  {
   "cell_type": "code",
   "execution_count": 34,
   "metadata": {},
   "outputs": [],
   "source": [
    "df_results_2_variety = pd.read_csv('df_results_2_variety.csv', index_col=0) "
   ]
  },
  {
   "cell_type": "code",
   "execution_count": 35,
   "metadata": {},
   "outputs": [
    {
     "data": {
      "text/plain": [
       "(1024, 8)"
      ]
     },
     "execution_count": 35,
     "metadata": {},
     "output_type": "execute_result"
    }
   ],
   "source": [
    "df_results_2_variety.shape"
   ]
  },
  {
   "cell_type": "code",
   "execution_count": 36,
   "metadata": {},
   "outputs": [
    {
     "data": {
      "text/html": [
       "<div>\n",
       "<style scoped>\n",
       "    .dataframe tbody tr th:only-of-type {\n",
       "        vertical-align: middle;\n",
       "    }\n",
       "\n",
       "    .dataframe tbody tr th {\n",
       "        vertical-align: top;\n",
       "    }\n",
       "\n",
       "    .dataframe thead th {\n",
       "        text-align: right;\n",
       "    }\n",
       "</style>\n",
       "<table border=\"1\" class=\"dataframe\">\n",
       "  <thead>\n",
       "    <tr style=\"text-align: right;\">\n",
       "      <th></th>\n",
       "      <th>parsimony_coefficient</th>\n",
       "      <th>p_crossover</th>\n",
       "      <th>p_hoist_mutation</th>\n",
       "      <th>p_point_mutation</th>\n",
       "      <th>p_point_replace</th>\n",
       "      <th>p_subtree_mutation</th>\n",
       "      <th>mean_test_score</th>\n",
       "      <th>rank_test_score</th>\n",
       "    </tr>\n",
       "  </thead>\n",
       "  <tbody>\n",
       "    <tr>\n",
       "      <th>572</th>\n",
       "      <td>0.0001</td>\n",
       "      <td>0.3</td>\n",
       "      <td>0.1</td>\n",
       "      <td>0.5</td>\n",
       "      <td>0.5</td>\n",
       "      <td>0.1</td>\n",
       "      <td>0.966271</td>\n",
       "      <td>1</td>\n",
       "    </tr>\n",
       "    <tr>\n",
       "      <th>376</th>\n",
       "      <td>0.0001</td>\n",
       "      <td>0.2</td>\n",
       "      <td>0.2</td>\n",
       "      <td>0.5</td>\n",
       "      <td>0.3</td>\n",
       "      <td>0.1</td>\n",
       "      <td>0.964824</td>\n",
       "      <td>2</td>\n",
       "    </tr>\n",
       "    <tr>\n",
       "      <th>654</th>\n",
       "      <td>0.0001</td>\n",
       "      <td>0.3</td>\n",
       "      <td>0.3</td>\n",
       "      <td>0.1</td>\n",
       "      <td>0.5</td>\n",
       "      <td>0.3</td>\n",
       "      <td>0.964397</td>\n",
       "      <td>3</td>\n",
       "    </tr>\n",
       "    <tr>\n",
       "      <th>770</th>\n",
       "      <td>0.0001</td>\n",
       "      <td>0.5</td>\n",
       "      <td>0.1</td>\n",
       "      <td>0.1</td>\n",
       "      <td>0.1</td>\n",
       "      <td>0.3</td>\n",
       "      <td>0.964323</td>\n",
       "      <td>4</td>\n",
       "    </tr>\n",
       "    <tr>\n",
       "      <th>525</th>\n",
       "      <td>0.0001</td>\n",
       "      <td>0.3</td>\n",
       "      <td>0.1</td>\n",
       "      <td>0.1</td>\n",
       "      <td>0.5</td>\n",
       "      <td>0.2</td>\n",
       "      <td>0.964041</td>\n",
       "      <td>5</td>\n",
       "    </tr>\n",
       "    <tr>\n",
       "      <th>616</th>\n",
       "      <td>0.0001</td>\n",
       "      <td>0.3</td>\n",
       "      <td>0.2</td>\n",
       "      <td>0.3</td>\n",
       "      <td>0.3</td>\n",
       "      <td>0.1</td>\n",
       "      <td>0.963909</td>\n",
       "      <td>6</td>\n",
       "    </tr>\n",
       "    <tr>\n",
       "      <th>580</th>\n",
       "      <td>0.0001</td>\n",
       "      <td>0.3</td>\n",
       "      <td>0.2</td>\n",
       "      <td>0.1</td>\n",
       "      <td>0.2</td>\n",
       "      <td>0.1</td>\n",
       "      <td>0.963843</td>\n",
       "      <td>7</td>\n",
       "    </tr>\n",
       "    <tr>\n",
       "      <th>896</th>\n",
       "      <td>0.0001</td>\n",
       "      <td>0.5</td>\n",
       "      <td>0.3</td>\n",
       "      <td>0.1</td>\n",
       "      <td>0.1</td>\n",
       "      <td>0.1</td>\n",
       "      <td>0.963709</td>\n",
       "      <td>8</td>\n",
       "    </tr>\n",
       "    <tr>\n",
       "      <th>558</th>\n",
       "      <td>0.0001</td>\n",
       "      <td>0.3</td>\n",
       "      <td>0.1</td>\n",
       "      <td>0.3</td>\n",
       "      <td>0.5</td>\n",
       "      <td>0.3</td>\n",
       "      <td>0.963548</td>\n",
       "      <td>9</td>\n",
       "    </tr>\n",
       "    <tr>\n",
       "      <th>600</th>\n",
       "      <td>0.0001</td>\n",
       "      <td>0.3</td>\n",
       "      <td>0.2</td>\n",
       "      <td>0.2</td>\n",
       "      <td>0.3</td>\n",
       "      <td>0.1</td>\n",
       "      <td>0.963344</td>\n",
       "      <td>10</td>\n",
       "    </tr>\n",
       "  </tbody>\n",
       "</table>\n",
       "</div>"
      ],
      "text/plain": [
       "     parsimony_coefficient  p_crossover  p_hoist_mutation  p_point_mutation  \\\n",
       "572                 0.0001          0.3               0.1               0.5   \n",
       "376                 0.0001          0.2               0.2               0.5   \n",
       "654                 0.0001          0.3               0.3               0.1   \n",
       "770                 0.0001          0.5               0.1               0.1   \n",
       "525                 0.0001          0.3               0.1               0.1   \n",
       "616                 0.0001          0.3               0.2               0.3   \n",
       "580                 0.0001          0.3               0.2               0.1   \n",
       "896                 0.0001          0.5               0.3               0.1   \n",
       "558                 0.0001          0.3               0.1               0.3   \n",
       "600                 0.0001          0.3               0.2               0.2   \n",
       "\n",
       "     p_point_replace  p_subtree_mutation  mean_test_score  rank_test_score  \n",
       "572              0.5                 0.1         0.966271                1  \n",
       "376              0.3                 0.1         0.964824                2  \n",
       "654              0.5                 0.3         0.964397                3  \n",
       "770              0.1                 0.3         0.964323                4  \n",
       "525              0.5                 0.2         0.964041                5  \n",
       "616              0.3                 0.1         0.963909                6  \n",
       "580              0.2                 0.1         0.963843                7  \n",
       "896              0.1                 0.1         0.963709                8  \n",
       "558              0.5                 0.3         0.963548                9  \n",
       "600              0.3                 0.1         0.963344               10  "
      ]
     },
     "execution_count": 36,
     "metadata": {},
     "output_type": "execute_result"
    }
   ],
   "source": [
    "df_results_2_variety_sorted = df_results_2_variety.sort_values(by=['rank_test_score'])\n",
    "df_results_2_variety_sorted.columns = ['parsimony_coefficient', 'p_crossover', 'p_hoist_mutation', 'p_point_mutation', 'p_point_replace', 'p_subtree_mutation', 'mean_test_score', 'rank_test_score']\n",
    "df_results_2_variety_sorted.head(10)"
   ]
  },
  {
   "cell_type": "code",
   "execution_count": 37,
   "metadata": {},
   "outputs": [],
   "source": [
    "test_best = SymbolicClassifier(random_state=0,\n",
    "                            verbose=1,\n",
    "                            population_size=5000,\n",
    "                            tournament_size=1000,\n",
    "                            generations=15,\n",
    "                            function_set=('add', 'sub', 'mul', 'div', 'sqrt', 'log', 'abs', 'neg', 'max', 'min', 'sin', 'cos', 'tan'),\n",
    "                            init_depth=(4, 10),\n",
    "                            parsimony_coefficient=0.0001,\n",
    "                            p_crossover=0.3,\n",
    "                            p_hoist_mutation=0.1,\n",
    "                            p_point_mutation=0.5,\n",
    "                            p_point_replace=0.5,\n",
    "                            p_subtree_mutation=0.1,\n",
    "                           )"
   ]
  },
  {
   "cell_type": "code",
   "execution_count": 38,
   "metadata": {},
   "outputs": [
    {
     "name": "stdout",
     "output_type": "stream",
     "text": [
      "    |   Population Average    |             Best Individual              |\n",
      "---- ------------------------- ------------------------------------------ ----------\n",
      " Gen   Length          Fitness   Length          Fitness      OOB Fitness  Time Left\n",
      "   0    40.09          2.56286        3         0.154049              N/A     60.98m\n",
      "   1    10.34          2.21897       34          0.14427              N/A     25.50m\n",
      "   2    11.09           2.3366       37          0.13087              N/A     24.45m\n",
      "   3    19.18           2.4224       37          0.10899              N/A     29.36m\n",
      "   4    34.79          2.41125       34          0.10581              N/A     37.16m\n",
      "   5    33.78          2.27695       53         0.103599              N/A     35.08m\n",
      "   6    29.03          2.24381       34         0.098155              N/A     24.80m\n",
      "   7    29.95          2.23126       29        0.0889579              N/A     21.75m\n",
      "   8    31.54          2.61263       29        0.0811824              N/A     17.81m\n",
      "   9    29.93          2.89933       53         0.079717              N/A     13.69m\n",
      "  10    27.30          2.86721       39        0.0786728              N/A     10.83m\n",
      "  11    28.06           2.8729       40        0.0773491              N/A      7.82m\n",
      "  12    38.65          2.92694       41        0.0773281              N/A      6.07m\n",
      "  13    37.01          2.84841       75        0.0762927              N/A      2.95m\n",
      "  14    35.65          3.06359       48        0.0764189              N/A      0.00s\n"
     ]
    },
    {
     "data": {
      "text/latex": [
       "$\\displaystyle X_{0} + \\log{\\left(\\max\\left(0.052, 19.2307692307692 \\left|{\\frac{X_{1}}{\\log{\\left(\\left|{\\frac{X_{1}}{X_{3} \\left(0.719424460431655 X_{3} + \\log{\\left(\\left|{\\frac{X_{1}}{X_{3}}}\\right| \\right)}\\right)}}\\right| \\right)} + 0.719424460431655 \\max\\left(X_{2}, X_{3}\\right)}}\\right|\\right) \\right)} + \\min\\left(2 X_{0}, \\frac{X_{3} \\left|{\\frac{X_{1}}{X_{3}}}\\right|}{X_{1}}\\right)$"
      ],
      "text/plain": [
       "X0 + log(Max(0.052, 19.2307692307692*Abs(X1/(log(Abs(X1/(X3*(0.719424460431655*X3 + log(Abs(X1/X3)))))) + 0.719424460431655*Max(X2, X3))))) + Min(2*X0, X3*Abs(X1/X3)/X1)"
      ]
     },
     "execution_count": 38,
     "metadata": {},
     "output_type": "execute_result"
    }
   ],
   "source": [
    "test_best.fit(X_train, y_train_rf_pred)\n",
    "\n",
    "sym_class = simplify(sympify(str(test_best._program), locals=converter))\n",
    "sym_class"
   ]
  },
  {
   "cell_type": "code",
   "execution_count": 39,
   "metadata": {},
   "outputs": [
    {
     "name": "stdout",
     "output_type": "stream",
     "text": [
      "Fidelity (F1 Score) Symbolic Classification - Random Forest Model: 0.9550568149697553\n"
     ]
    }
   ],
   "source": [
    "y_test_symbolic_clas = test_best.predict(X_test)\n",
    "f1_fidelity = f1_score(y_test_rf_pred, y_test_symbolic_clas)\n",
    "print('Fidelity (F1 Score) Symbolic Classification - Random Forest Model:', f1_fidelity)"
   ]
  },
  {
   "cell_type": "code",
   "execution_count": 40,
   "metadata": {},
   "outputs": [
    {
     "name": "stdout",
     "output_type": "stream",
     "text": [
      "Fidelity (F1 Score) Symbolic Classification - Real Data: 0.8806199846103111\n"
     ]
    }
   ],
   "source": [
    "y_test_symbolic_clas = test_best.predict(X_test)\n",
    "print('Fidelity (F1 Score) Symbolic Classification - Real Data:', f1_score(y_test, y_test_symbolic_clas))"
   ]
  },
  {
   "cell_type": "code",
   "execution_count": 41,
   "metadata": {},
   "outputs": [
    {
     "name": "stdout",
     "output_type": "stream",
     "text": [
      "Accuracy Symbolic Classification - Random Forest Model: 0.9682\n",
      "Accuracy Symbolic Classification - Real Data: 0.91312\n"
     ]
    }
   ],
   "source": [
    "y_test_symbolic_clas = test_best.predict(X_test)\n",
    "print('Accuracy Symbolic Classification - Random Forest Model:', accuracy_score(y_test_rf_pred, y_test_symbolic_clas))\n",
    "print('Accuracy Symbolic Classification - Real Data:', accuracy_score(y_test, y_test_symbolic_clas))"
   ]
  },
  {
   "cell_type": "code",
   "execution_count": 42,
   "metadata": {},
   "outputs": [
    {
     "data": {
      "text/plain": [
       "'add(min(div(abs(div(X1, X3)), div(X1, X3)), add(X0, X0)), add(X0, log(max(div(abs(div(X1, sub(log(div(div(X1, sub(log(div(X1, X3)), div(X3, add(-0.860, -0.530)))), X3)), div(max(X3, X2), add(-0.860, -0.530))))), abs(0.052)), abs(0.052)))))'"
      ]
     },
     "execution_count": 42,
     "metadata": {},
     "output_type": "execute_result"
    }
   ],
   "source": [
    "str(test_best._program)"
   ]
  },
  {
   "cell_type": "code",
   "execution_count": null,
   "metadata": {},
   "outputs": [],
   "source": []
  },
  {
   "cell_type": "code",
   "execution_count": 56,
   "metadata": {},
   "outputs": [],
   "source": [
    "test_best_simple = SymbolicClassifier(random_state=0,\n",
    "                            verbose=1,\n",
    "                            population_size=5000,\n",
    "                            tournament_size=1000,\n",
    "                            generations=15,\n",
    "                            function_set=('add', 'sub', 'mul', 'div'),\n",
    "                            init_depth=(4, 10),\n",
    "                            parsimony_coefficient=0.0001,\n",
    "                            p_crossover=0.3,\n",
    "                            p_hoist_mutation=0.1,\n",
    "                            p_point_mutation=0.5,\n",
    "                            p_point_replace=0.5,\n",
    "                            p_subtree_mutation=0.1,\n",
    "                           )"
   ]
  },
  {
   "cell_type": "code",
   "execution_count": 57,
   "metadata": {},
   "outputs": [
    {
     "name": "stdout",
     "output_type": "stream",
     "text": [
      "    |   Population Average    |             Best Individual              |\n",
      "---- ------------------------- ------------------------------------------ ----------\n",
      " Gen   Length          Fitness   Length          Fitness      OOB Fitness  Time Left\n",
      "   0   312.71          10.9626        3         0.146581              N/A     62.27m\n",
      "   1     6.74          3.50669        3         0.146581              N/A     10.26m\n",
      "   2     3.78          2.27965        3         0.146581              N/A     10.60m\n",
      "   3     3.63          2.39299        3         0.146581              N/A      9.63m\n",
      "   4     4.04          2.34165        3         0.146581              N/A      8.71m\n",
      "   5     3.59           2.2648        3         0.146581              N/A      7.89m\n",
      "   6     3.47          2.25826        3         0.146581              N/A      6.96m\n",
      "   7     3.68          2.31025        3         0.146581              N/A      6.12m\n",
      "   8     3.84          2.20586        3         0.146581              N/A      5.27m\n",
      "   9     3.74          2.27312        3         0.146581              N/A      4.39m\n",
      "  10     3.73          2.31145        3         0.146581              N/A      3.52m\n",
      "  11     3.53          2.14311        3         0.146581              N/A      2.64m\n",
      "  12     3.64          2.22763        3         0.146581              N/A      1.76m\n",
      "  13     3.67          2.26062        3         0.146581              N/A     53.46s\n",
      "  14     3.67            2.252        3         0.146581              N/A      0.00s\n"
     ]
    },
    {
     "data": {
      "text/latex": [
       "$\\displaystyle 1.66112956810631 X_{0}$"
      ],
      "text/plain": [
       "1.66112956810631*X0"
      ]
     },
     "execution_count": 57,
     "metadata": {},
     "output_type": "execute_result"
    }
   ],
   "source": [
    "test_best_simple.fit(X_train, y_train_rf_pred)\n",
    "\n",
    "sym_class = simplify(sympify(str(test_best_simple._program), locals=converter))\n",
    "sym_class"
   ]
  },
  {
   "cell_type": "code",
   "execution_count": 58,
   "metadata": {},
   "outputs": [
    {
     "name": "stdout",
     "output_type": "stream",
     "text": [
      "Fidelity (F1 Score) Symbolic Classification - Random Forest Model: 0.9156571166102084\n"
     ]
    }
   ],
   "source": [
    "y_test_symbolic_clas = test_best_simple.predict(X_test)\n",
    "f1_fidelity = f1_score(y_test_rf_pred, y_test_symbolic_clas)\n",
    "print('Fidelity (F1 Score) Symbolic Classification - Random Forest Model:', f1_fidelity)"
   ]
  },
  {
   "cell_type": "code",
   "execution_count": 59,
   "metadata": {},
   "outputs": [
    {
     "data": {
      "text/plain": [
       "'div(X0, 0.602)'"
      ]
     },
     "execution_count": 59,
     "metadata": {},
     "output_type": "execute_result"
    }
   ],
   "source": [
    "str(test_best_simple._program)"
   ]
  },
  {
   "cell_type": "code",
   "execution_count": 60,
   "metadata": {},
   "outputs": [
    {
     "name": "stdout",
     "output_type": "stream",
     "text": [
      "Fidelity (F1 Score) Symbolic Classification - Real Data: 0.8840531190715322\n"
     ]
    }
   ],
   "source": [
    "y_test_symbolic_clas = test_best_simple.predict(X_test)\n",
    "print('Fidelity (F1 Score) Symbolic Classification - Real Data:', f1_score(y_test, y_test_symbolic_clas))"
   ]
  },
  {
   "cell_type": "code",
   "execution_count": 61,
   "metadata": {},
   "outputs": [
    {
     "name": "stdout",
     "output_type": "stream",
     "text": [
      "Accuracy Symbolic Classification - Random Forest Model: 0.94124\n",
      "Accuracy Symbolic Classification - Real Data: 0.91688\n"
     ]
    }
   ],
   "source": [
    "y_test_symbolic_clas = test_best_simple.predict(X_test)\n",
    "print('Accuracy Symbolic Classification - Random Forest Model:', accuracy_score(y_test_rf_pred, y_test_symbolic_clas))\n",
    "print('Accuracy Symbolic Classification - Real Data:', accuracy_score(y_test, y_test_symbolic_clas))"
   ]
  },
  {
   "cell_type": "code",
   "execution_count": null,
   "metadata": {},
   "outputs": [],
   "source": []
  },
  {
   "cell_type": "code",
   "execution_count": null,
   "metadata": {},
   "outputs": [],
   "source": [
    "test_best_original = SymbolicClassifier(random_state=0,\n",
    "                            verbose=1,\n",
    "                            population_size=5000,\n",
    "                            tournament_size=1000,\n",
    "                            generations=15,\n",
    "                            function_set=('add', 'sub', 'mul', 'div', 'sqrt', 'log', 'abs', 'neg', 'max', 'min', 'sin', 'cos', 'tan'),\n",
    "                            init_depth=(4, 10),\n",
    "                            parsimony_coefficient=0.0001,\n",
    "                            p_crossover=0.3,\n",
    "                            p_hoist_mutation=0.1,\n",
    "                            p_point_mutation=0.5,\n",
    "                            p_point_replace=0.5,\n",
    "                            p_subtree_mutation=0.1,\n",
    "                           )"
   ]
  },
  {
   "cell_type": "code",
   "execution_count": null,
   "metadata": {},
   "outputs": [],
   "source": [
    "test_best_original.fit(X_train, y_train)\n",
    "\n",
    "sym_class = simplify(sympify(str(test_best_original._program), locals=converter))\n",
    "sym_class"
   ]
  },
  {
   "cell_type": "code",
   "execution_count": null,
   "metadata": {},
   "outputs": [],
   "source": [
    "y_test_symbolic_clas = test_best_original.predict(X_test)\n",
    "f1_fidelity = f1_score(y_test_symbolic_clas, y_test)\n",
    "print('Fidelity (F1 Score) Symbolic Classification - Random Forest Model:', f1_fidelity)"
   ]
  },
  {
   "cell_type": "code",
   "execution_count": null,
   "metadata": {},
   "outputs": [],
   "source": []
  },
  {
   "cell_type": "code",
   "execution_count": null,
   "metadata": {},
   "outputs": [],
   "source": [
    "y_test_symbolic_clas = np.where(calculate_function_values_from_sympy(simplify(sympify('mul(2,X0)', locals=converter)), X_test) > 0, 1, 0).astype(np.int64).reshape(-1,1)\n",
    "accuracy_symbolic_class_performance = f1_score(y_test_symbolic_clas, y_test_rf_pred) \n",
    "accuracy_symbolic_class_performance"
   ]
  },
  {
   "cell_type": "code",
   "execution_count": null,
   "metadata": {},
   "outputs": [],
   "source": []
  },
  {
   "cell_type": "code",
   "execution_count": null,
   "metadata": {},
   "outputs": [],
   "source": [
    "str(test_2b._program)"
   ]
  },
  {
   "cell_type": "code",
   "execution_count": null,
   "metadata": {},
   "outputs": [],
   "source": [
    "y_test_symbolic_clas = np.where(calculate_function_values_from_sympy(simplify(sympify('sub(X0, neg(min(sub(sub(X0, neg(min(sub(X0, -0.774), max(X1, -0.870)))), -0.774), max(X1, -0.870))))', locals=converter)), X_test) > 0, 1, 0).astype(np.int64).reshape(-1,1)\n",
    "accuracy_symbolic_class_performance = f1_score(y_test_symbolic_clas, y_test_rf_pred) \n",
    "accuracy_symbolic_class_performance"
   ]
  },
  {
   "cell_type": "code",
   "execution_count": null,
   "metadata": {},
   "outputs": [],
   "source": [
    "#RF F1 Score\n",
    "f1_score(y_test_rf_pred, y_test)"
   ]
  },
  {
   "cell_type": "markdown",
   "metadata": {},
   "source": [
    "# Original Data"
   ]
  },
  {
   "cell_type": "code",
   "execution_count": null,
   "metadata": {},
   "outputs": [],
   "source": [
    "# using y_train instead of y_train_rf_pred"
   ]
  },
  {
   "cell_type": "code",
   "execution_count": 34,
   "metadata": {},
   "outputs": [],
   "source": [
    "base_original_data = SymbolicClassifier(random_state=0,\n",
    "                                        verbose=1,\n",
    "                                        population_size=5000,\n",
    "                                        tournament_size=1000,\n",
    "                                        generations=15,\n",
    "                                        function_set=('add', 'sub', 'mul', 'div', 'sqrt', 'log', 'abs', 'neg', 'max', 'min', 'sin', 'cos', 'tan'),\n",
    "                                        init_depth=(4, 10),\n",
    "                                        init_method= 'half and half',\n",
    "                                       )"
   ]
  },
  {
   "cell_type": "code",
   "execution_count": 35,
   "metadata": {},
   "outputs": [],
   "source": [
    "param_grid = {\n",
    "    'p_crossover': [0.0,0.1],\n",
    "    'p_subtree_mutation': [0.2,0.8],\n",
    "    'p_hoist_mutation': [0.0,0.2],\n",
    "    'p_point_mutation': [0.0,0.2],\n",
    "    'parsimony_coefficient': [0.0001],\n",
    "    'population_size':[5000,10000],\n",
    "    'init_method':['half and half','grow'],\n",
    "}"
   ]
  },
  {
   "cell_type": "code",
   "execution_count": 36,
   "metadata": {},
   "outputs": [],
   "source": [
    "results_orig = GridSearchCV(estimator=base_original_data,\n",
    "                            param_grid=param_grid,\n",
    "                            scoring='f1',\n",
    "                            cv=3,\n",
    "                            n_jobs=-1,\n",
    "                            verbose=0)"
   ]
  },
  {
   "cell_type": "code",
   "execution_count": null,
   "metadata": {},
   "outputs": [],
   "source": [
    "results_orig.fit(X_train, y_train)"
   ]
  },
  {
   "cell_type": "code",
   "execution_count": null,
   "metadata": {},
   "outputs": [],
   "source": [
    "df_results_orig = pd.DataFrame(results_orig.cv_results_)\n",
    "#df_results_orig = df_results_orig[['param_p_crossover','param_p_hoist_mutation','param_p_point_mutation','param_p_subtree_mutation', 'mean_test_score','rank_test_score']]\n",
    "df_results_orig_sorted = df_results_orig.sort_values(by=['rank_test_score'])\n",
    "df_results_orig_sorted.head(60)"
   ]
  },
  {
   "cell_type": "code",
   "execution_count": null,
   "metadata": {},
   "outputs": [],
   "source": [
    "#df_results_orig.to_csv('df_results_original_new.csv')"
   ]
  },
  {
   "cell_type": "code",
   "execution_count": 26,
   "metadata": {},
   "outputs": [],
   "source": [
    "#df_results_orig = pd.read_csv('df_results_original.csv', index_col=0)"
   ]
  },
  {
   "cell_type": "code",
   "execution_count": 27,
   "metadata": {},
   "outputs": [
    {
     "data": {
      "text/html": [
       "<div>\n",
       "<style scoped>\n",
       "    .dataframe tbody tr th:only-of-type {\n",
       "        vertical-align: middle;\n",
       "    }\n",
       "\n",
       "    .dataframe tbody tr th {\n",
       "        vertical-align: top;\n",
       "    }\n",
       "\n",
       "    .dataframe thead th {\n",
       "        text-align: right;\n",
       "    }\n",
       "</style>\n",
       "<table border=\"1\" class=\"dataframe\">\n",
       "  <thead>\n",
       "    <tr style=\"text-align: right;\">\n",
       "      <th></th>\n",
       "      <th>mean_fit_time</th>\n",
       "      <th>std_fit_time</th>\n",
       "      <th>mean_score_time</th>\n",
       "      <th>std_score_time</th>\n",
       "      <th>param_p_crossover</th>\n",
       "      <th>param_p_hoist_mutation</th>\n",
       "      <th>param_p_point_mutation</th>\n",
       "      <th>param_p_subtree_mutation</th>\n",
       "      <th>param_parsimony_coefficient</th>\n",
       "      <th>params</th>\n",
       "      <th>split0_test_score</th>\n",
       "      <th>split1_test_score</th>\n",
       "      <th>split2_test_score</th>\n",
       "      <th>mean_test_score</th>\n",
       "      <th>std_test_score</th>\n",
       "      <th>rank_test_score</th>\n",
       "    </tr>\n",
       "  </thead>\n",
       "  <tbody>\n",
       "    <tr>\n",
       "      <th>109</th>\n",
       "      <td>1922.313292</td>\n",
       "      <td>129.271019</td>\n",
       "      <td>0.048850</td>\n",
       "      <td>0.025791</td>\n",
       "      <td>0.1</td>\n",
       "      <td>0</td>\n",
       "      <td>0.1</td>\n",
       "      <td>0.8</td>\n",
       "      <td>0.0001</td>\n",
       "      <td>{'p_crossover': 0.1, 'p_hoist_mutation': 0.0, ...</td>\n",
       "      <td>0.901619</td>\n",
       "      <td>0.903842</td>\n",
       "      <td>0.902549</td>\n",
       "      <td>0.902670</td>\n",
       "      <td>0.000912</td>\n",
       "      <td>1</td>\n",
       "    </tr>\n",
       "    <tr>\n",
       "      <th>116</th>\n",
       "      <td>2265.545344</td>\n",
       "      <td>359.432164</td>\n",
       "      <td>0.044123</td>\n",
       "      <td>0.016205</td>\n",
       "      <td>0.1</td>\n",
       "      <td>0</td>\n",
       "      <td>0.2</td>\n",
       "      <td>0.6</td>\n",
       "      <td>0</td>\n",
       "      <td>{'p_crossover': 0.1, 'p_hoist_mutation': 0.0, ...</td>\n",
       "      <td>0.899902</td>\n",
       "      <td>0.903519</td>\n",
       "      <td>0.903987</td>\n",
       "      <td>0.902469</td>\n",
       "      <td>0.001825</td>\n",
       "      <td>2</td>\n",
       "    </tr>\n",
       "    <tr>\n",
       "      <th>108</th>\n",
       "      <td>2539.015246</td>\n",
       "      <td>473.020563</td>\n",
       "      <td>0.040574</td>\n",
       "      <td>0.013896</td>\n",
       "      <td>0.1</td>\n",
       "      <td>0</td>\n",
       "      <td>0.1</td>\n",
       "      <td>0.8</td>\n",
       "      <td>0</td>\n",
       "      <td>{'p_crossover': 0.1, 'p_hoist_mutation': 0.0, ...</td>\n",
       "      <td>0.899516</td>\n",
       "      <td>0.903268</td>\n",
       "      <td>0.904333</td>\n",
       "      <td>0.902372</td>\n",
       "      <td>0.002066</td>\n",
       "      <td>3</td>\n",
       "    </tr>\n",
       "    <tr>\n",
       "      <th>188</th>\n",
       "      <td>2235.904224</td>\n",
       "      <td>358.489072</td>\n",
       "      <td>0.042877</td>\n",
       "      <td>0.008410</td>\n",
       "      <td>0.2</td>\n",
       "      <td>0</td>\n",
       "      <td>0</td>\n",
       "      <td>0.8</td>\n",
       "      <td>0</td>\n",
       "      <td>{'p_crossover': 0.2, 'p_hoist_mutation': 0.0, ...</td>\n",
       "      <td>0.896477</td>\n",
       "      <td>0.906257</td>\n",
       "      <td>0.904038</td>\n",
       "      <td>0.902257</td>\n",
       "      <td>0.004187</td>\n",
       "      <td>4</td>\n",
       "    </tr>\n",
       "    <tr>\n",
       "      <th>17</th>\n",
       "      <td>1529.164129</td>\n",
       "      <td>5.169621</td>\n",
       "      <td>0.027265</td>\n",
       "      <td>0.005420</td>\n",
       "      <td>0</td>\n",
       "      <td>0</td>\n",
       "      <td>0.1</td>\n",
       "      <td>0.6</td>\n",
       "      <td>0.0001</td>\n",
       "      <td>{'p_crossover': 0.0, 'p_hoist_mutation': 0.0, ...</td>\n",
       "      <td>0.901225</td>\n",
       "      <td>0.903028</td>\n",
       "      <td>0.902414</td>\n",
       "      <td>0.902222</td>\n",
       "      <td>0.000749</td>\n",
       "      <td>5</td>\n",
       "    </tr>\n",
       "    <tr>\n",
       "      <th>128</th>\n",
       "      <td>2490.959131</td>\n",
       "      <td>413.606591</td>\n",
       "      <td>0.048143</td>\n",
       "      <td>0.017528</td>\n",
       "      <td>0.1</td>\n",
       "      <td>0.1</td>\n",
       "      <td>0</td>\n",
       "      <td>0.8</td>\n",
       "      <td>0</td>\n",
       "      <td>{'p_crossover': 0.1, 'p_hoist_mutation': 0.1, ...</td>\n",
       "      <td>0.897461</td>\n",
       "      <td>0.903858</td>\n",
       "      <td>0.904890</td>\n",
       "      <td>0.902070</td>\n",
       "      <td>0.003286</td>\n",
       "      <td>6</td>\n",
       "    </tr>\n",
       "    <tr>\n",
       "      <th>136</th>\n",
       "      <td>2110.793524</td>\n",
       "      <td>226.826883</td>\n",
       "      <td>0.034482</td>\n",
       "      <td>0.001871</td>\n",
       "      <td>0.1</td>\n",
       "      <td>0.1</td>\n",
       "      <td>0.1</td>\n",
       "      <td>0.6</td>\n",
       "      <td>0</td>\n",
       "      <td>{'p_crossover': 0.1, 'p_hoist_mutation': 0.1, ...</td>\n",
       "      <td>0.899376</td>\n",
       "      <td>0.903911</td>\n",
       "      <td>0.902446</td>\n",
       "      <td>0.901911</td>\n",
       "      <td>0.001890</td>\n",
       "      <td>7</td>\n",
       "    </tr>\n",
       "    <tr>\n",
       "      <th>227</th>\n",
       "      <td>1915.395449</td>\n",
       "      <td>266.025885</td>\n",
       "      <td>0.033250</td>\n",
       "      <td>0.005047</td>\n",
       "      <td>0.2</td>\n",
       "      <td>0.1</td>\n",
       "      <td>0.1</td>\n",
       "      <td>0.6</td>\n",
       "      <td>0.0001</td>\n",
       "      <td>{'p_crossover': 0.2, 'p_hoist_mutation': 0.1, ...</td>\n",
       "      <td>0.898981</td>\n",
       "      <td>0.904790</td>\n",
       "      <td>0.901335</td>\n",
       "      <td>0.901702</td>\n",
       "      <td>0.002386</td>\n",
       "      <td>8</td>\n",
       "    </tr>\n",
       "    <tr>\n",
       "      <th>26</th>\n",
       "      <td>1718.708041</td>\n",
       "      <td>28.068750</td>\n",
       "      <td>0.024417</td>\n",
       "      <td>0.001653</td>\n",
       "      <td>0</td>\n",
       "      <td>0</td>\n",
       "      <td>0.2</td>\n",
       "      <td>0.6</td>\n",
       "      <td>0</td>\n",
       "      <td>{'p_crossover': 0.0, 'p_hoist_mutation': 0.0, ...</td>\n",
       "      <td>0.898321</td>\n",
       "      <td>0.903229</td>\n",
       "      <td>0.903229</td>\n",
       "      <td>0.901593</td>\n",
       "      <td>0.002314</td>\n",
       "      <td>9</td>\n",
       "    </tr>\n",
       "    <tr>\n",
       "      <th>16</th>\n",
       "      <td>1778.692929</td>\n",
       "      <td>79.331586</td>\n",
       "      <td>0.027967</td>\n",
       "      <td>0.002289</td>\n",
       "      <td>0</td>\n",
       "      <td>0</td>\n",
       "      <td>0.1</td>\n",
       "      <td>0.6</td>\n",
       "      <td>0</td>\n",
       "      <td>{'p_crossover': 0.0, 'p_hoist_mutation': 0.0, ...</td>\n",
       "      <td>0.899300</td>\n",
       "      <td>0.902280</td>\n",
       "      <td>0.902776</td>\n",
       "      <td>0.901452</td>\n",
       "      <td>0.001535</td>\n",
       "      <td>10</td>\n",
       "    </tr>\n",
       "  </tbody>\n",
       "</table>\n",
       "</div>"
      ],
      "text/plain": [
       "     mean_fit_time  std_fit_time  mean_score_time  std_score_time  \\\n",
       "109    1922.313292    129.271019         0.048850        0.025791   \n",
       "116    2265.545344    359.432164         0.044123        0.016205   \n",
       "108    2539.015246    473.020563         0.040574        0.013896   \n",
       "188    2235.904224    358.489072         0.042877        0.008410   \n",
       "17     1529.164129      5.169621         0.027265        0.005420   \n",
       "128    2490.959131    413.606591         0.048143        0.017528   \n",
       "136    2110.793524    226.826883         0.034482        0.001871   \n",
       "227    1915.395449    266.025885         0.033250        0.005047   \n",
       "26     1718.708041     28.068750         0.024417        0.001653   \n",
       "16     1778.692929     79.331586         0.027967        0.002289   \n",
       "\n",
       "    param_p_crossover param_p_hoist_mutation param_p_point_mutation  \\\n",
       "109               0.1                      0                    0.1   \n",
       "116               0.1                      0                    0.2   \n",
       "108               0.1                      0                    0.1   \n",
       "188               0.2                      0                      0   \n",
       "17                  0                      0                    0.1   \n",
       "128               0.1                    0.1                      0   \n",
       "136               0.1                    0.1                    0.1   \n",
       "227               0.2                    0.1                    0.1   \n",
       "26                  0                      0                    0.2   \n",
       "16                  0                      0                    0.1   \n",
       "\n",
       "    param_p_subtree_mutation param_parsimony_coefficient  \\\n",
       "109                      0.8                      0.0001   \n",
       "116                      0.6                           0   \n",
       "108                      0.8                           0   \n",
       "188                      0.8                           0   \n",
       "17                       0.6                      0.0001   \n",
       "128                      0.8                           0   \n",
       "136                      0.6                           0   \n",
       "227                      0.6                      0.0001   \n",
       "26                       0.6                           0   \n",
       "16                       0.6                           0   \n",
       "\n",
       "                                                params  split0_test_score  \\\n",
       "109  {'p_crossover': 0.1, 'p_hoist_mutation': 0.0, ...           0.901619   \n",
       "116  {'p_crossover': 0.1, 'p_hoist_mutation': 0.0, ...           0.899902   \n",
       "108  {'p_crossover': 0.1, 'p_hoist_mutation': 0.0, ...           0.899516   \n",
       "188  {'p_crossover': 0.2, 'p_hoist_mutation': 0.0, ...           0.896477   \n",
       "17   {'p_crossover': 0.0, 'p_hoist_mutation': 0.0, ...           0.901225   \n",
       "128  {'p_crossover': 0.1, 'p_hoist_mutation': 0.1, ...           0.897461   \n",
       "136  {'p_crossover': 0.1, 'p_hoist_mutation': 0.1, ...           0.899376   \n",
       "227  {'p_crossover': 0.2, 'p_hoist_mutation': 0.1, ...           0.898981   \n",
       "26   {'p_crossover': 0.0, 'p_hoist_mutation': 0.0, ...           0.898321   \n",
       "16   {'p_crossover': 0.0, 'p_hoist_mutation': 0.0, ...           0.899300   \n",
       "\n",
       "     split1_test_score  split2_test_score  mean_test_score  std_test_score  \\\n",
       "109           0.903842           0.902549         0.902670        0.000912   \n",
       "116           0.903519           0.903987         0.902469        0.001825   \n",
       "108           0.903268           0.904333         0.902372        0.002066   \n",
       "188           0.906257           0.904038         0.902257        0.004187   \n",
       "17            0.903028           0.902414         0.902222        0.000749   \n",
       "128           0.903858           0.904890         0.902070        0.003286   \n",
       "136           0.903911           0.902446         0.901911        0.001890   \n",
       "227           0.904790           0.901335         0.901702        0.002386   \n",
       "26            0.903229           0.903229         0.901593        0.002314   \n",
       "16            0.902280           0.902776         0.901452        0.001535   \n",
       "\n",
       "     rank_test_score  \n",
       "109                1  \n",
       "116                2  \n",
       "108                3  \n",
       "188                4  \n",
       "17                 5  \n",
       "128                6  \n",
       "136                7  \n",
       "227                8  \n",
       "26                 9  \n",
       "16                10  "
      ]
     },
     "execution_count": 27,
     "metadata": {},
     "output_type": "execute_result"
    }
   ],
   "source": [
    "#df_results_orig_sorted.head(10)"
   ]
  },
  {
   "cell_type": "code",
   "execution_count": 12,
   "metadata": {},
   "outputs": [],
   "source": [
    "test_orig = SymbolicClassifier(random_state=0,\n",
    "                            verbose=1,\n",
    "                            population_size=5000,\n",
    "                            tournament_size=1000,\n",
    "                            generations=15,\n",
    "                            function_set=('add', 'sub', 'mul', 'div', 'sqrt', 'log', 'abs', 'neg', 'max', 'min', 'sin', 'cos', 'tan'),\n",
    "                            init_depth=(4, 10),\n",
    "                            parsimony_coefficient=0.0001,\n",
    "                            p_crossover=0.1,\n",
    "                            p_hoist_mutation=0.0,\n",
    "                            p_point_mutation=0.1,\n",
    "                            p_subtree_mutation=0.8,\n",
    "                           )"
   ]
  },
  {
   "cell_type": "code",
   "execution_count": 13,
   "metadata": {},
   "outputs": [
    {
     "name": "stderr",
     "output_type": "stream",
     "text": [
      "/work/pulmerba/miniconda3/lib/python3.8/site-packages/sklearn/utils/validation.py:63: DataConversionWarning: A column-vector y was passed when a 1d array was expected. Please change the shape of y to (n_samples, ), for example using ravel().\n",
      "  return f(*args, **kwargs)\n"
     ]
    },
    {
     "name": "stdout",
     "output_type": "stream",
     "text": [
      "    |   Population Average    |             Best Individual              |\n",
      "---- ------------------------- ------------------------------------------ ----------\n",
      " Gen   Length          Fitness   Length          Fitness      OOB Fitness  Time Left\n",
      "   0    40.09          2.54927        3         0.207922              N/A     63.41m\n",
      "   1    10.91          1.83569        5         0.205268              N/A     27.62m\n",
      "   2     8.16           1.9356        7         0.201195              N/A     23.78m\n",
      "   3    10.09          1.58838       20         0.198203              N/A     23.07m\n",
      "   4    11.23          1.12785       18         0.195802              N/A     22.76m\n",
      "   5    18.64         0.600905       20         0.193915              N/A     27.68m\n",
      "   6    18.79         0.603133       20         0.190523              N/A     25.09m\n",
      "   7    19.80         0.588653       25         0.187639              N/A     23.42m\n",
      "   8    22.28         0.552424       25         0.185756              N/A     20.53m\n",
      "   9    23.12         0.544172       37         0.184101              N/A     17.59m\n",
      "  10    25.87         0.503349       50         0.182542              N/A     14.98m\n",
      "  11    27.90         0.468446       39         0.181641              N/A     12.60m\n",
      "  12    30.35         0.423883       53         0.181052              N/A      8.69m\n",
      "  13    34.19         0.419627       38         0.180959              N/A      4.50m\n",
      "  14    34.06         0.408974       40         0.179941              N/A      0.00s\n"
     ]
    },
    {
     "ename": "NameError",
     "evalue": "name 'converter' is not defined",
     "output_type": "error",
     "traceback": [
      "\u001b[0;31m---------------------------------------------------------------------------\u001b[0m",
      "\u001b[0;31mNameError\u001b[0m                                 Traceback (most recent call last)",
      "\u001b[0;32m<ipython-input-13-f01fe7def502>\u001b[0m in \u001b[0;36m<module>\u001b[0;34m\u001b[0m\n\u001b[1;32m      1\u001b[0m \u001b[0mtest_orig\u001b[0m\u001b[0;34m.\u001b[0m\u001b[0mfit\u001b[0m\u001b[0;34m(\u001b[0m\u001b[0mX_train\u001b[0m\u001b[0;34m,\u001b[0m \u001b[0my_train\u001b[0m\u001b[0;34m)\u001b[0m\u001b[0;34m\u001b[0m\u001b[0;34m\u001b[0m\u001b[0m\n\u001b[1;32m      2\u001b[0m \u001b[0;34m\u001b[0m\u001b[0m\n\u001b[0;32m----> 3\u001b[0;31m \u001b[0msym_class\u001b[0m \u001b[0;34m=\u001b[0m \u001b[0msimplify\u001b[0m\u001b[0;34m(\u001b[0m\u001b[0msympify\u001b[0m\u001b[0;34m(\u001b[0m\u001b[0mstr\u001b[0m\u001b[0;34m(\u001b[0m\u001b[0mtest_orig\u001b[0m\u001b[0;34m.\u001b[0m\u001b[0m_program\u001b[0m\u001b[0;34m)\u001b[0m\u001b[0;34m,\u001b[0m \u001b[0mlocals\u001b[0m\u001b[0;34m=\u001b[0m\u001b[0mconverter\u001b[0m\u001b[0;34m)\u001b[0m\u001b[0;34m)\u001b[0m\u001b[0;34m\u001b[0m\u001b[0;34m\u001b[0m\u001b[0m\n\u001b[0m\u001b[1;32m      4\u001b[0m \u001b[0msym_class\u001b[0m\u001b[0;34m\u001b[0m\u001b[0;34m\u001b[0m\u001b[0m\n",
      "\u001b[0;31mNameError\u001b[0m: name 'converter' is not defined"
     ]
    }
   ],
   "source": [
    "test_orig.fit(X_train, y_train)\n",
    "\n",
    "sym_class = simplify(sympify(str(test_orig._program), locals=converter))\n",
    "sym_class"
   ]
  },
  {
   "cell_type": "code",
   "execution_count": 14,
   "metadata": {},
   "outputs": [
    {
     "data": {
      "text/plain": [
       "'add(tan(cos(add(cos(add(sin(sqrt(max(neg(X2), X1))), tan(-0.873))), max(add(add(max(sin(neg(sin(sqrt(X1)))), sin(log(div(X1, 0.002)))), neg(div(-0.639, X1))), cos(neg(neg(log(X3))))), neg(X2))))), X0)'"
      ]
     },
     "execution_count": 14,
     "metadata": {},
     "output_type": "execute_result"
    }
   ],
   "source": [
    "str(test_orig._program)"
   ]
  },
  {
   "cell_type": "code",
   "execution_count": null,
   "metadata": {},
   "outputs": [],
   "source": [
    "y_test_symbolic_clas = test_orig.predict(X_test)\n",
    "print('Fidelity (F1 Score) Symbolic Classification - Real Data:', f1_score(y_test, y_test_symbolic_clas))\n",
    "print('Accuracy Symbolic Classification - Real Data:', accuracy_score(y_test, y_test_symbolic_clas))"
   ]
  },
  {
   "cell_type": "code",
   "execution_count": 41,
   "metadata": {},
   "outputs": [],
   "source": [
    "test_orig = SymbolicClassifier(random_state=0,\n",
    "                            verbose=1,\n",
    "                            population_size=5000,\n",
    "                            tournament_size=1000,\n",
    "                            generations=15,\n",
    "                            function_set=('add', 'sub', 'mul', 'div', 'sqrt', 'log', 'abs', 'neg', 'max', 'min', 'sin', 'cos', 'tan'),\n",
    "                            init_depth=(4, 10),\n",
    "                            parsimony_coefficient=0.001,\n",
    "                            p_crossover=0.1,\n",
    "                            p_hoist_mutation=0.0,\n",
    "                            p_point_mutation=0.1,\n",
    "                            p_subtree_mutation=0.8,\n",
    "                           )"
   ]
  },
  {
   "cell_type": "code",
   "execution_count": 42,
   "metadata": {},
   "outputs": [
    {
     "name": "stderr",
     "output_type": "stream",
     "text": [
      "/work/pulmerba/miniconda3/lib/python3.8/site-packages/sklearn/utils/validation.py:63: DataConversionWarning: A column-vector y was passed when a 1d array was expected. Please change the shape of y to (n_samples, ), for example using ravel().\n",
      "  return f(*args, **kwargs)\n"
     ]
    },
    {
     "name": "stdout",
     "output_type": "stream",
     "text": [
      "    |   Population Average    |             Best Individual              |\n",
      "---- ------------------------- ------------------------------------------ ----------\n",
      " Gen   Length          Fitness   Length          Fitness      OOB Fitness  Time Left\n",
      "   0    40.09          2.54557        3         0.210364              N/A     40.80m\n",
      "   1     9.78          1.95088        8         0.204802              N/A     16.82m\n",
      "   2     7.55          2.47733       14         0.203334              N/A     14.60m\n",
      "   3    10.29          2.32396       27         0.200053              N/A     14.14m\n",
      "   4    10.17          2.35613       10         0.199608              N/A     12.87m\n",
      "   5    10.80          2.25032       11         0.197199              N/A     11.78m\n",
      "   6    12.16          2.05454       14         0.195476              N/A      9.95m\n",
      "   7    11.65          2.08978       11         0.194258              N/A      8.71m\n",
      "   8    12.98          1.94013       20         0.191312              N/A      7.53m\n",
      "   9    12.80          1.88161       13          0.19314              N/A      6.31m\n",
      "  10    13.01          1.95872       13         0.189744              N/A      5.27m\n",
      "  11    13.34          1.83741       13         0.189744              N/A      3.83m\n",
      "  12    14.85          1.71816       13         0.189586              N/A      2.58m\n",
      "  13    14.55          1.74273       13         0.189586              N/A      1.30m\n",
      "  14    14.49           1.6549       18         0.188662              N/A      0.00s\n"
     ]
    },
    {
     "data": {
      "text/latex": [
       "$\\displaystyle X_{0} + X_{2} - \\sqrt{\\left|{\\max\\left(X_{0}, X_{2}\\right)}\\right|} + 0.469041575982343 \\sqrt{\\left|{\\min\\left(- X_{1} + X_{2}, \\left|{X_{3}}\\right|\\right)}\\right|}$"
      ],
      "text/plain": [
       "X0 + X2 - sqrt(Abs(Max(X0, X2))) + 0.469041575982343*sqrt(Abs(Min(-X1 + X2, Abs(X3))))"
      ]
     },
     "execution_count": 42,
     "metadata": {},
     "output_type": "execute_result"
    }
   ],
   "source": [
    "test_orig.fit(X_train, y_train)\n",
    "\n",
    "sym_class = simplify(sympify(str(test_orig._program), locals=converter))\n",
    "sym_class"
   ]
  },
  {
   "cell_type": "code",
   "execution_count": null,
   "metadata": {},
   "outputs": [],
   "source": [
    "str(test_orig._program)"
   ]
  },
  {
   "cell_type": "code",
   "execution_count": 43,
   "metadata": {},
   "outputs": [
    {
     "name": "stdout",
     "output_type": "stream",
     "text": [
      "Fidelity (F1 Score) Symbolic Classification - Real Data: 0.895045285029302\n",
      "Accuracy Symbolic Classification - Real Data: 0.9212\n"
     ]
    }
   ],
   "source": [
    "y_test_symbolic_clas = test_orig.predict(X_test)\n",
    "print('Fidelity (F1 Score) Symbolic Classification - Real Data:', f1_score(y_test, y_test_symbolic_clas))\n",
    "print('Accuracy Symbolic Classification - Real Data:', accuracy_score(y_test, y_test_symbolic_clas))"
   ]
  },
  {
   "cell_type": "code",
   "execution_count": 49,
   "metadata": {},
   "outputs": [],
   "source": [
    "test_orig = SymbolicClassifier(random_state=0,\n",
    "                            verbose=1,\n",
    "                            population_size=5000,\n",
    "                            tournament_size=1000,\n",
    "                            generations=15,\n",
    "                            function_set=('add', 'sub', 'mul', 'div', 'sqrt', 'log', 'abs', 'neg', 'max', 'min', 'sin', 'cos', 'tan'),\n",
    "                            init_depth=(4, 10),\n",
    "                            parsimony_coefficient=0.01,\n",
    "                            p_crossover=0.1,\n",
    "                            p_hoist_mutation=0.0,\n",
    "                            p_point_mutation=0.1,\n",
    "                            p_subtree_mutation=0.8,\n",
    "                           )"
   ]
  },
  {
   "cell_type": "code",
   "execution_count": 50,
   "metadata": {},
   "outputs": [
    {
     "name": "stderr",
     "output_type": "stream",
     "text": [
      "/work/pulmerba/miniconda3/lib/python3.8/site-packages/sklearn/utils/validation.py:63: DataConversionWarning: A column-vector y was passed when a 1d array was expected. Please change the shape of y to (n_samples, ), for example using ravel().\n",
      "  return f(*args, **kwargs)\n"
     ]
    },
    {
     "name": "stdout",
     "output_type": "stream",
     "text": [
      "    |   Population Average    |             Best Individual              |\n",
      "---- ------------------------- ------------------------------------------ ----------\n",
      " Gen   Length          Fitness   Length          Fitness      OOB Fitness  Time Left\n",
      "   0    40.09          2.54557        3         0.210364              N/A     34.18m\n",
      "   1     8.30          2.20707        8         0.204802              N/A     12.96m\n",
      "   2     6.17          2.58511        3         0.210364              N/A     11.44m\n",
      "   3     6.02          2.54064        3         0.210364              N/A     10.38m\n",
      "   4     5.84          2.55141        3         0.210364              N/A      9.32m\n",
      "   5     5.97           2.6554        3         0.210364              N/A      8.43m\n",
      "   6     6.17          2.51415        5         0.210364              N/A      7.65m\n",
      "   7     5.80          2.62823        3         0.210364              N/A      6.57m\n",
      "   8     5.92          2.55441        3         0.210364              N/A      5.69m\n",
      "   9     5.79          2.45672        6         0.207473              N/A      4.68m\n",
      "  10     6.10          2.47437        7         0.207279              N/A      3.77m\n",
      "  11     6.03           2.4628        3         0.210364              N/A      2.82m\n",
      "  12     6.00          2.52748        3         0.210364              N/A      1.91m\n",
      "  13     5.76          2.51158        3         0.210364              N/A     56.02s\n",
      "  14     5.79           2.4611        3         0.210364              N/A      0.00s\n"
     ]
    },
    {
     "data": {
      "text/latex": [
       "$\\displaystyle X_{0} + X_{2}$"
      ],
      "text/plain": [
       "X0 + X2"
      ]
     },
     "execution_count": 50,
     "metadata": {},
     "output_type": "execute_result"
    }
   ],
   "source": [
    "test_orig.fit(X_train, y_train)\n",
    "\n",
    "sym_class = simplify(sympify(str(test_orig._program), locals=converter))\n",
    "sym_class"
   ]
  },
  {
   "cell_type": "code",
   "execution_count": 51,
   "metadata": {},
   "outputs": [
    {
     "name": "stdout",
     "output_type": "stream",
     "text": [
      "Fidelity (F1 Score) Symbolic Classification - Real Data: 0.8807105190119346\n",
      "Accuracy Symbolic Classification - Real Data: 0.91404\n"
     ]
    }
   ],
   "source": [
    "y_test_symbolic_clas = test_orig.predict(X_test)\n",
    "print('Fidelity (F1 Score) Symbolic Classification - Real Data:', f1_score(y_test, y_test_symbolic_clas))\n",
    "print('Accuracy Symbolic Classification - Real Data:', accuracy_score(y_test, y_test_symbolic_clas))"
   ]
  },
  {
   "cell_type": "code",
   "execution_count": null,
   "metadata": {},
   "outputs": [],
   "source": [
    "str(test_orig._program)"
   ]
  },
  {
   "cell_type": "code",
   "execution_count": null,
   "metadata": {},
   "outputs": [],
   "source": []
  },
  {
   "cell_type": "code",
   "execution_count": 56,
   "metadata": {},
   "outputs": [
    {
     "name": "stdout",
     "output_type": "stream",
     "text": [
      "F1 Score: 0.8840531190715322\n",
      "Accuracy: 0.91688\n"
     ]
    }
   ],
   "source": [
    "y_testtt = np.where(calculate_function_values_from_sympy(simplify(sympify('X0', locals=converter)), X_test) > 0, 1, 0).astype(np.int64).reshape(-1,1)\n",
    "print('F1 Score:', f1_score(y_testtt, y_test))\n",
    "print('Accuracy:', accuracy_score(y_testtt, y_test))"
   ]
  },
  {
   "cell_type": "code",
   "execution_count": null,
   "metadata": {},
   "outputs": [],
   "source": []
  },
  {
   "cell_type": "code",
   "execution_count": 57,
   "metadata": {},
   "outputs": [],
   "source": [
    "test_orig = SymbolicClassifier(random_state=0,\n",
    "                            verbose=1,\n",
    "                            population_size=5000,\n",
    "                            tournament_size=1000,\n",
    "                            generations=15,\n",
    "                            function_set=('add', 'sub', 'mul', 'div'),\n",
    "                            init_depth=(4, 10),\n",
    "                            parsimony_coefficient=0.001,\n",
    "                            p_crossover=0.1,\n",
    "                            p_hoist_mutation=0.0,\n",
    "                            p_point_mutation=0.1,\n",
    "                            p_subtree_mutation=0.8,\n",
    "                           )"
   ]
  },
  {
   "cell_type": "code",
   "execution_count": 58,
   "metadata": {},
   "outputs": [
    {
     "name": "stderr",
     "output_type": "stream",
     "text": [
      "/work/pulmerba/miniconda3/lib/python3.8/site-packages/sklearn/utils/validation.py:63: DataConversionWarning: A column-vector y was passed when a 1d array was expected. Please change the shape of y to (n_samples, ), for example using ravel().\n",
      "  return f(*args, **kwargs)\n"
     ]
    },
    {
     "name": "stdout",
     "output_type": "stream",
     "text": [
      "    |   Population Average    |             Best Individual              |\n",
      "---- ------------------------- ------------------------------------------ ----------\n",
      " Gen   Length          Fitness   Length          Fitness      OOB Fitness  Time Left\n",
      "   0   312.71          10.9753        3         0.210364              N/A     64.29m\n",
      "   1     9.20          5.57088        5          0.20686              N/A     14.83m\n",
      "   2     9.64          5.46863        5         0.206856              N/A     13.83m\n",
      "   3    10.01          5.58965        7         0.205152              N/A     12.83m\n",
      "   4    10.25           5.5983        7         0.205728              N/A     11.29m\n",
      "   5     9.71          5.61043        7         0.205209              N/A     10.52m\n",
      "   6    10.47          5.41544        5         0.206856              N/A      9.31m\n",
      "   7    10.65          5.22883        7         0.205484              N/A      8.22m\n",
      "   8    10.38          5.45987        7         0.197903              N/A      6.98m\n",
      "   9     9.84          5.30361        9         0.196378              N/A      5.73m\n",
      "  10    11.46          5.39867        9         0.196299              N/A      4.65m\n",
      "  11    11.14           5.2044       13         0.196477              N/A      3.46m\n",
      "  12    10.72          5.39044        9         0.197034              N/A      2.34m\n",
      "  13    11.92          5.34489        9          0.19739              N/A      1.17m\n",
      "  14    10.96           5.0771       13          0.19739              N/A      0.00s\n"
     ]
    },
    {
     "data": {
      "text/latex": [
       "$\\displaystyle X_{0} + 0.052 X_{1} + 0.948 X_{2}$"
      ],
      "text/plain": [
       "X0 + 0.052*X1 + 0.948*X2"
      ]
     },
     "execution_count": 58,
     "metadata": {},
     "output_type": "execute_result"
    }
   ],
   "source": [
    "test_orig.fit(X_train, y_train)\n",
    "\n",
    "sym_class = simplify(sympify(str(test_orig._program), locals=converter))\n",
    "sym_class"
   ]
  },
  {
   "cell_type": "code",
   "execution_count": 59,
   "metadata": {},
   "outputs": [
    {
     "name": "stdout",
     "output_type": "stream",
     "text": [
      "Fidelity (F1 Score) Symbolic Classification - Real Data: 0.8906571397639926\n",
      "Accuracy Symbolic Classification - Real Data: 0.9192\n"
     ]
    }
   ],
   "source": [
    "y_test_symbolic_clas = test_orig.predict(X_test)\n",
    "print('Fidelity (F1 Score) Symbolic Classification - Real Data:', f1_score(y_test, y_test_symbolic_clas))\n",
    "print('Accuracy Symbolic Classification - Real Data:', accuracy_score(y_test, y_test_symbolic_clas))"
   ]
  },
  {
   "cell_type": "code",
   "execution_count": null,
   "metadata": {},
   "outputs": [],
   "source": []
  }
 ],
 "metadata": {
  "kernelspec": {
   "display_name": "Python 3",
   "language": "python",
   "name": "python3"
  },
  "language_info": {
   "codemirror_mode": {
    "name": "ipython",
    "version": 3
   },
   "file_extension": ".py",
   "mimetype": "text/x-python",
   "name": "python",
   "nbconvert_exporter": "python",
   "pygments_lexer": "ipython3",
   "version": "3.8.3"
  }
 },
 "nbformat": 4,
 "nbformat_minor": 4
}
