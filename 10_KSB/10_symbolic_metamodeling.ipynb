{
 "cells": [
  {
   "cell_type": "code",
   "execution_count": 1,
   "id": "irish-damages",
   "metadata": {},
   "outputs": [],
   "source": [
    "import joblib\n",
    "import math\n",
    "import numpy as np\n",
    "import pandas as pd\n",
    "import matplotlib.pyplot as plt\n",
    "from tqdm import tqdm_notebook as tqdm\n",
    "\n",
    "from IPython.display import display\n",
    "\n",
    "from sklearn.metrics import accuracy_score, log_loss, roc_auc_score, f1_score\n",
    "from sklearn.model_selection import train_test_split\n",
    "\n",
    "import seaborn as sns\n",
    "\n",
    "import sympy as sym\n",
    "from sympy import Symbol, sympify, lambdify, abc, SympifyError\n",
    "\n",
    "from sympy import *\n",
    "\n",
    "import types\n",
    "\n",
    "import graphviz\n",
    "\n",
    "from sklearn.preprocessing import MinMaxScaler\n",
    "from copy import deepcopy\n",
    "\n",
    "from joblib import Parallel, delayed\n",
    "\n",
    "\n",
    "sns.set_style(\"darkgrid\")"
   ]
  },
  {
   "cell_type": "code",
   "execution_count": 2,
   "id": "removable-argentina",
   "metadata": {},
   "outputs": [],
   "source": [
    "np.random.seed(42)"
   ]
  },
  {
   "cell_type": "markdown",
   "id": "electric-solid",
   "metadata": {},
   "source": [
    "## Utility Functions"
   ]
  },
  {
   "cell_type": "code",
   "execution_count": 3,
   "id": "minute-belle",
   "metadata": {},
   "outputs": [],
   "source": [
    "def calculate_function_values_from_sympy(function, data_points, variable_names=None, n_jobs=-1):\n",
    "    \n",
    "    def parallel_evalf(function, function_vars, data_point):\n",
    "        function_value = function.evalf(subs={var: data_point[index] for index, var in enumerate(list(function_vars))})\n",
    "        try:\n",
    "            function_value = float(function_value)\n",
    "        except TypeError as te:\n",
    "            #print('te', te)\n",
    "            #print('function_value', function_value)\n",
    "            #print('function', function)\n",
    "            #print('function_vars', function_vars, type(function_vars))\n",
    "            function_value = np.inf        \n",
    "            \n",
    "        return function_value\n",
    "    \n",
    "    function_vars = None\n",
    "    \n",
    "    if variable_names is None:\n",
    "        variable_names = ['X' + str(i) for i in range(data_points.shape[1])]\n",
    "    \n",
    "    if function is None:\n",
    "        return np.array([np.nan for i in range(data_points.shape[0])])\n",
    "    try:\n",
    "        if variable_names is None:\n",
    "            function_vars = function.atoms(Symbol)\n",
    "            print(function_vars)\n",
    "        else:\n",
    "            function_vars = [sym.symbols(variable_name, real=True) for variable_name in variable_names]\n",
    "        #print('function_vars', function_vars)\n",
    "        lambda_function = lambdify([function_vars], function, modules=[\"scipy\", \"numpy\"])\n",
    "        #print('lambda_function', lambda_function)\n",
    "        #print('data_points[0]', data_points[0])\n",
    "        if len(function_vars) >= 1:\n",
    "            function_values = [lambda_function(data_point) for data_point in data_points]\n",
    "            \n",
    "        else:\n",
    "            function_values = [lambda_function() for i in range(data_points.shape[0])]\n",
    "    except (NameError, KeyError) as e:\n",
    "        #print(e)\n",
    "        parallel = Parallel(n_jobs=n_jobs, verbose=3, backend='loky')\n",
    "        function_values = parallel(delayed(parallel_evalf)(function, function_vars, data_point) for data_point in data_points)  \n",
    "        function_values = np.array(function_values)\n",
    "\n",
    "    function_values = np.nan_to_num(function_values).ravel()\n",
    "                \n",
    "    return function_values"
   ]
  },
  {
   "cell_type": "markdown",
   "id": "floating-russia",
   "metadata": {},
   "source": [
    "## Load Histograms and Data Statistics"
   ]
  },
  {
   "cell_type": "code",
   "execution_count": 4,
   "id": "compound-relative",
   "metadata": {},
   "outputs": [],
   "source": [
    "with open(\"./data/summarizing_statistics.pkl\", 'rb') as f:\n",
    "    summarizing_statistics = joblib.load(f)"
   ]
  },
  {
   "cell_type": "code",
   "execution_count": 5,
   "id": "further-concrete",
   "metadata": {},
   "outputs": [
    {
     "data": {
      "text/html": [
       "<div>\n",
       "<style scoped>\n",
       "    .dataframe tbody tr th:only-of-type {\n",
       "        vertical-align: middle;\n",
       "    }\n",
       "\n",
       "    .dataframe tbody tr th {\n",
       "        vertical-align: top;\n",
       "    }\n",
       "\n",
       "    .dataframe thead th {\n",
       "        text-align: right;\n",
       "    }\n",
       "</style>\n",
       "<table border=\"1\" class=\"dataframe\">\n",
       "  <thead>\n",
       "    <tr style=\"text-align: right;\">\n",
       "      <th></th>\n",
       "      <th>number_of_datapoints</th>\n",
       "      <th>energy_norm_log_mean</th>\n",
       "      <th>temperature_diff_mean</th>\n",
       "      <th>rms_norm_log_mean</th>\n",
       "      <th>details_ratedhead_mean</th>\n",
       "      <th>energy_norm_log_min</th>\n",
       "      <th>temperature_diff_min</th>\n",
       "      <th>rms_norm_log_min</th>\n",
       "      <th>details_ratedhead_min</th>\n",
       "      <th>energy_norm_log_max</th>\n",
       "      <th>temperature_diff_max</th>\n",
       "      <th>rms_norm_log_max</th>\n",
       "      <th>details_ratedhead_max</th>\n",
       "      <th>Covariance_matrix</th>\n",
       "    </tr>\n",
       "  </thead>\n",
       "  <tbody>\n",
       "    <tr>\n",
       "      <th>on</th>\n",
       "      <td>9680213</td>\n",
       "      <td>1.861944</td>\n",
       "      <td>9.513191</td>\n",
       "      <td>0.730331</td>\n",
       "      <td>105.323685</td>\n",
       "      <td>-5.914482</td>\n",
       "      <td>-24.0</td>\n",
       "      <td>-3.043901</td>\n",
       "      <td>-1.0</td>\n",
       "      <td>9.212087</td>\n",
       "      <td>110.625</td>\n",
       "      <td>6.308744</td>\n",
       "      <td>2403.0</td>\n",
       "      <td>[[4.054988675775044, 1.6181932043448362, 1.438...</td>\n",
       "    </tr>\n",
       "    <tr>\n",
       "      <th>off</th>\n",
       "      <td>16775063</td>\n",
       "      <td>-3.226129</td>\n",
       "      <td>1.274514</td>\n",
       "      <td>-1.542884</td>\n",
       "      <td>89.319163</td>\n",
       "      <td>-10.605203</td>\n",
       "      <td>-38.875</td>\n",
       "      <td>-4.430309</td>\n",
       "      <td>-1.0</td>\n",
       "      <td>7.588837</td>\n",
       "      <td>109.140903</td>\n",
       "      <td>4.13824</td>\n",
       "      <td>2403.0</td>\n",
       "      <td>[[1.5394827351582467, 0.21880415026212985, 0.7...</td>\n",
       "    </tr>\n",
       "    <tr>\n",
       "      <th>all</th>\n",
       "      <td>26455276</td>\n",
       "      <td>-1.36436</td>\n",
       "      <td>4.289117</td>\n",
       "      <td>-0.711095</td>\n",
       "      <td>95.175355</td>\n",
       "      <td>-10.605203</td>\n",
       "      <td>-38.875</td>\n",
       "      <td>-4.430309</td>\n",
       "      <td>-1.0</td>\n",
       "      <td>9.212087</td>\n",
       "      <td>110.625</td>\n",
       "      <td>6.308744</td>\n",
       "      <td>2403.0</td>\n",
       "      <td>[[8.466562429846425, 10.45687699516861, 3.7031...</td>\n",
       "    </tr>\n",
       "  </tbody>\n",
       "</table>\n",
       "</div>"
      ],
      "text/plain": [
       "    number_of_datapoints energy_norm_log_mean temperature_diff_mean  \\\n",
       "on               9680213             1.861944              9.513191   \n",
       "off             16775063            -3.226129              1.274514   \n",
       "all             26455276             -1.36436              4.289117   \n",
       "\n",
       "    rms_norm_log_mean details_ratedhead_mean energy_norm_log_min  \\\n",
       "on           0.730331             105.323685           -5.914482   \n",
       "off         -1.542884              89.319163          -10.605203   \n",
       "all         -0.711095              95.175355          -10.605203   \n",
       "\n",
       "    temperature_diff_min rms_norm_log_min details_ratedhead_min  \\\n",
       "on                 -24.0        -3.043901                  -1.0   \n",
       "off              -38.875        -4.430309                  -1.0   \n",
       "all              -38.875        -4.430309                  -1.0   \n",
       "\n",
       "    energy_norm_log_max temperature_diff_max rms_norm_log_max  \\\n",
       "on             9.212087              110.625         6.308744   \n",
       "off            7.588837           109.140903          4.13824   \n",
       "all            9.212087              110.625         6.308744   \n",
       "\n",
       "    details_ratedhead_max                                  Covariance_matrix  \n",
       "on                 2403.0  [[4.054988675775044, 1.6181932043448362, 1.438...  \n",
       "off                2403.0  [[1.5394827351582467, 0.21880415026212985, 0.7...  \n",
       "all                2403.0  [[8.466562429846425, 10.45687699516861, 3.7031...  "
      ]
     },
     "execution_count": 5,
     "metadata": {},
     "output_type": "execute_result"
    }
   ],
   "source": [
    "summarizing_statistics"
   ]
  },
  {
   "cell_type": "code",
   "execution_count": 6,
   "id": "adequate-credits",
   "metadata": {},
   "outputs": [],
   "source": [
    "with open(\"./data/hist_on.pkl\", 'rb') as f:\n",
    "    hist_on = joblib.load(f)"
   ]
  },
  {
   "cell_type": "code",
   "execution_count": 7,
   "id": "perceived-mechanism",
   "metadata": {},
   "outputs": [],
   "source": [
    "with open(\"./data/hist_off.pkl\", 'rb') as f:\n",
    "    hist_off = joblib.load(f)"
   ]
  },
  {
   "cell_type": "code",
   "execution_count": 8,
   "id": "responsible-focus",
   "metadata": {},
   "outputs": [
    {
     "name": "stdout",
     "output_type": "stream",
     "text": [
      "Total ON: 9639507\n"
     ]
    }
   ],
   "source": [
    "print('Total ON:',sum(hist_on.reshape(1,-1)[0]))"
   ]
  },
  {
   "cell_type": "code",
   "execution_count": 9,
   "id": "focal-incident",
   "metadata": {},
   "outputs": [
    {
     "name": "stdout",
     "output_type": "stream",
     "text": [
      "Total OFF: 16741535\n"
     ]
    }
   ],
   "source": [
    "print('Total OFF:',sum(hist_off.reshape(1,-1)[0]))\n"
   ]
  },
  {
   "cell_type": "code",
   "execution_count": 10,
   "id": "intense-medicaid",
   "metadata": {},
   "outputs": [],
   "source": [
    "path = \"./data/replica_summarizing_statistics.csv\"\n",
    "summarizing_statistics_replica = pd.read_csv(path, index_col=0)"
   ]
  },
  {
   "cell_type": "code",
   "execution_count": 11,
   "id": "descending-payday",
   "metadata": {},
   "outputs": [
    {
     "data": {
      "text/html": [
       "<div>\n",
       "<style scoped>\n",
       "    .dataframe tbody tr th:only-of-type {\n",
       "        vertical-align: middle;\n",
       "    }\n",
       "\n",
       "    .dataframe tbody tr th {\n",
       "        vertical-align: top;\n",
       "    }\n",
       "\n",
       "    .dataframe thead th {\n",
       "        text-align: right;\n",
       "    }\n",
       "</style>\n",
       "<table border=\"1\" class=\"dataframe\">\n",
       "  <thead>\n",
       "    <tr style=\"text-align: right;\">\n",
       "      <th></th>\n",
       "      <th>number_of_datapoints</th>\n",
       "      <th>energy_norm_log_mean</th>\n",
       "      <th>temperature_diff_mean</th>\n",
       "      <th>rms_norm_log_mean</th>\n",
       "      <th>details_ratedhead_mean</th>\n",
       "      <th>energy_norm_log_min</th>\n",
       "      <th>temperature_diff_min</th>\n",
       "      <th>rms_norm_log_min</th>\n",
       "      <th>details_ratedhead_min</th>\n",
       "      <th>energy_norm_log_max</th>\n",
       "      <th>temperature_diff_max</th>\n",
       "      <th>rms_norm_log_max</th>\n",
       "      <th>details_ratedhead_max</th>\n",
       "      <th>Covariance_matrix</th>\n",
       "    </tr>\n",
       "  </thead>\n",
       "  <tbody>\n",
       "    <tr>\n",
       "      <th>on</th>\n",
       "      <td>9680213</td>\n",
       "      <td>1.861944</td>\n",
       "      <td>9.513191</td>\n",
       "      <td>0.730331</td>\n",
       "      <td>105.323685</td>\n",
       "      <td>-5.914482</td>\n",
       "      <td>-24.000000</td>\n",
       "      <td>-3.043901</td>\n",
       "      <td>-1.000000</td>\n",
       "      <td>9.212087</td>\n",
       "      <td>110.625000</td>\n",
       "      <td>6.308744</td>\n",
       "      <td>2403.000000</td>\n",
       "      <td>[[4.05498868e+00 1.61819320e+00 1.43801350e+00...</td>\n",
       "    </tr>\n",
       "    <tr>\n",
       "      <th>on_replica</th>\n",
       "      <td>9639507</td>\n",
       "      <td>2.262454</td>\n",
       "      <td>11.145556</td>\n",
       "      <td>0.925975</td>\n",
       "      <td>118.743587</td>\n",
       "      <td>-5.843427</td>\n",
       "      <td>-23.977141</td>\n",
       "      <td>-3.021036</td>\n",
       "      <td>0.000006</td>\n",
       "      <td>10.007755</td>\n",
       "      <td>117.621411</td>\n",
       "      <td>6.767623</td>\n",
       "      <td>2402.992395</td>\n",
       "      <td>[[ 4.60037788e+00  1.66251134e+00  1.59768757e...</td>\n",
       "    </tr>\n",
       "    <tr>\n",
       "      <th>off</th>\n",
       "      <td>16775063</td>\n",
       "      <td>-3.226129</td>\n",
       "      <td>1.274514</td>\n",
       "      <td>-1.542884</td>\n",
       "      <td>89.319163</td>\n",
       "      <td>-10.605203</td>\n",
       "      <td>-38.875000</td>\n",
       "      <td>-4.430309</td>\n",
       "      <td>-1.000000</td>\n",
       "      <td>7.588837</td>\n",
       "      <td>109.140903</td>\n",
       "      <td>4.138240</td>\n",
       "      <td>2403.000000</td>\n",
       "      <td>[[ 1.53948274e+00  2.18804150e-01  7.78027734e...</td>\n",
       "    </tr>\n",
       "    <tr>\n",
       "      <th>off_replica</th>\n",
       "      <td>16741535</td>\n",
       "      <td>-2.791460</td>\n",
       "      <td>4.517510</td>\n",
       "      <td>-1.396703</td>\n",
       "      <td>107.328826</td>\n",
       "      <td>-10.187956</td>\n",
       "      <td>-38.854668</td>\n",
       "      <td>-4.395695</td>\n",
       "      <td>0.000001</td>\n",
       "      <td>8.527287</td>\n",
       "      <td>108.308373</td>\n",
       "      <td>4.147008</td>\n",
       "      <td>2402.996570</td>\n",
       "      <td>[[ 1.77714623e+00  9.46379299e-02  8.42158723e...</td>\n",
       "    </tr>\n",
       "    <tr>\n",
       "      <th>all</th>\n",
       "      <td>26455276</td>\n",
       "      <td>-1.364360</td>\n",
       "      <td>4.289117</td>\n",
       "      <td>-0.711095</td>\n",
       "      <td>95.175355</td>\n",
       "      <td>-10.605203</td>\n",
       "      <td>-38.875000</td>\n",
       "      <td>-4.430309</td>\n",
       "      <td>-1.000000</td>\n",
       "      <td>9.212087</td>\n",
       "      <td>110.625000</td>\n",
       "      <td>6.308744</td>\n",
       "      <td>2403.000000</td>\n",
       "      <td>[[8.46656243e+00 1.04568770e+01 3.70312553e+00...</td>\n",
       "    </tr>\n",
       "    <tr>\n",
       "      <th>all_replica</th>\n",
       "      <td>26381042</td>\n",
       "      <td>-0.944784</td>\n",
       "      <td>6.939366</td>\n",
       "      <td>-0.548008</td>\n",
       "      <td>111.499725</td>\n",
       "      <td>-10.187956</td>\n",
       "      <td>-38.854668</td>\n",
       "      <td>-4.395695</td>\n",
       "      <td>0.000001</td>\n",
       "      <td>10.007755</td>\n",
       "      <td>117.621411</td>\n",
       "      <td>6.767623</td>\n",
       "      <td>2402.996570</td>\n",
       "      <td>[[8.73147289e+00 8.43500212e+00 3.84019507e+00...</td>\n",
       "    </tr>\n",
       "  </tbody>\n",
       "</table>\n",
       "</div>"
      ],
      "text/plain": [
       "             number_of_datapoints  energy_norm_log_mean  \\\n",
       "on                        9680213              1.861944   \n",
       "on_replica                9639507              2.262454   \n",
       "off                      16775063             -3.226129   \n",
       "off_replica              16741535             -2.791460   \n",
       "all                      26455276             -1.364360   \n",
       "all_replica              26381042             -0.944784   \n",
       "\n",
       "             temperature_diff_mean  rms_norm_log_mean  details_ratedhead_mean  \\\n",
       "on                        9.513191           0.730331              105.323685   \n",
       "on_replica               11.145556           0.925975              118.743587   \n",
       "off                       1.274514          -1.542884               89.319163   \n",
       "off_replica               4.517510          -1.396703              107.328826   \n",
       "all                       4.289117          -0.711095               95.175355   \n",
       "all_replica               6.939366          -0.548008              111.499725   \n",
       "\n",
       "             energy_norm_log_min  temperature_diff_min  rms_norm_log_min  \\\n",
       "on                     -5.914482            -24.000000         -3.043901   \n",
       "on_replica             -5.843427            -23.977141         -3.021036   \n",
       "off                   -10.605203            -38.875000         -4.430309   \n",
       "off_replica           -10.187956            -38.854668         -4.395695   \n",
       "all                   -10.605203            -38.875000         -4.430309   \n",
       "all_replica           -10.187956            -38.854668         -4.395695   \n",
       "\n",
       "             details_ratedhead_min  energy_norm_log_max  temperature_diff_max  \\\n",
       "on                       -1.000000             9.212087            110.625000   \n",
       "on_replica                0.000006            10.007755            117.621411   \n",
       "off                      -1.000000             7.588837            109.140903   \n",
       "off_replica               0.000001             8.527287            108.308373   \n",
       "all                      -1.000000             9.212087            110.625000   \n",
       "all_replica               0.000001            10.007755            117.621411   \n",
       "\n",
       "             rms_norm_log_max  details_ratedhead_max  \\\n",
       "on                   6.308744            2403.000000   \n",
       "on_replica           6.767623            2402.992395   \n",
       "off                  4.138240            2403.000000   \n",
       "off_replica          4.147008            2402.996570   \n",
       "all                  6.308744            2403.000000   \n",
       "all_replica          6.767623            2402.996570   \n",
       "\n",
       "                                             Covariance_matrix  \n",
       "on           [[4.05498868e+00 1.61819320e+00 1.43801350e+00...  \n",
       "on_replica   [[ 4.60037788e+00  1.66251134e+00  1.59768757e...  \n",
       "off          [[ 1.53948274e+00  2.18804150e-01  7.78027734e...  \n",
       "off_replica  [[ 1.77714623e+00  9.46379299e-02  8.42158723e...  \n",
       "all          [[8.46656243e+00 1.04568770e+01 3.70312553e+00...  \n",
       "all_replica  [[8.73147289e+00 8.43500212e+00 3.84019507e+00...  "
      ]
     },
     "execution_count": 11,
     "metadata": {},
     "output_type": "execute_result"
    }
   ],
   "source": [
    "summarizing_statistics_replica"
   ]
  },
  {
   "cell_type": "code",
   "execution_count": 12,
   "id": "established-moore",
   "metadata": {},
   "outputs": [
    {
     "name": "stdout",
     "output_type": "stream",
     "text": [
      "(26381042, 5)\n"
     ]
    }
   ],
   "source": [
    "path = \"./data/replica_pump_data.csv\"\n",
    "pump_data_replica = pd.read_csv(path)\n",
    "print(pump_data_replica.shape)"
   ]
  },
  {
   "cell_type": "code",
   "execution_count": 13,
   "id": "stopped-vatican",
   "metadata": {},
   "outputs": [
    {
     "name": "stderr",
     "output_type": "stream",
     "text": [
      "/home/smarton/anaconda3/envs/XAI/lib/python3.8/site-packages/sklearn/base.py:310: UserWarning: Trying to unpickle estimator DecisionTreeClassifier from version 0.23.1 when using version 0.24.2. This might lead to breaking code or invalid results. Use at your own risk.\n",
      "  warnings.warn(\n",
      "/home/smarton/anaconda3/envs/XAI/lib/python3.8/site-packages/sklearn/base.py:310: UserWarning: Trying to unpickle estimator RandomForestClassifier from version 0.23.1 when using version 0.24.2. This might lead to breaking code or invalid results. Use at your own risk.\n",
      "  warnings.warn(\n"
     ]
    }
   ],
   "source": [
    "with open(\"./data/randForestBest_20201002.pkl\", 'rb') as f:\n",
    "    random_forest_model = joblib.load(f)  "
   ]
  },
  {
   "cell_type": "markdown",
   "id": "removable-french",
   "metadata": {},
   "source": [
    "# Insight into Dataframe"
   ]
  },
  {
   "cell_type": "code",
   "execution_count": 14,
   "id": "desirable-black",
   "metadata": {},
   "outputs": [
    {
     "data": {
      "text/html": [
       "<div>\n",
       "<style scoped>\n",
       "    .dataframe tbody tr th:only-of-type {\n",
       "        vertical-align: middle;\n",
       "    }\n",
       "\n",
       "    .dataframe tbody tr th {\n",
       "        vertical-align: top;\n",
       "    }\n",
       "\n",
       "    .dataframe thead th {\n",
       "        text-align: right;\n",
       "    }\n",
       "</style>\n",
       "<table border=\"1\" class=\"dataframe\">\n",
       "  <thead>\n",
       "    <tr style=\"text-align: right;\">\n",
       "      <th></th>\n",
       "      <th>energy_norm_log</th>\n",
       "      <th>temperature_diff</th>\n",
       "      <th>rms_norm_log</th>\n",
       "      <th>details_ratedhead</th>\n",
       "      <th>state</th>\n",
       "    </tr>\n",
       "  </thead>\n",
       "  <tbody>\n",
       "    <tr>\n",
       "      <th>0</th>\n",
       "      <td>-4.642337</td>\n",
       "      <td>-0.585072</td>\n",
       "      <td>-2.831278</td>\n",
       "      <td>47.369469</td>\n",
       "      <td>1</td>\n",
       "    </tr>\n",
       "    <tr>\n",
       "      <th>1</th>\n",
       "      <td>-4.384410</td>\n",
       "      <td>-2.051363</td>\n",
       "      <td>-2.900545</td>\n",
       "      <td>120.240341</td>\n",
       "      <td>1</td>\n",
       "    </tr>\n",
       "    <tr>\n",
       "      <th>2</th>\n",
       "      <td>-5.047895</td>\n",
       "      <td>2.104730</td>\n",
       "      <td>-2.742720</td>\n",
       "      <td>92.577971</td>\n",
       "      <td>1</td>\n",
       "    </tr>\n",
       "    <tr>\n",
       "      <th>3</th>\n",
       "      <td>-4.962318</td>\n",
       "      <td>0.375291</td>\n",
       "      <td>-2.975236</td>\n",
       "      <td>75.714544</td>\n",
       "      <td>1</td>\n",
       "    </tr>\n",
       "    <tr>\n",
       "      <th>4</th>\n",
       "      <td>-5.082340</td>\n",
       "      <td>-1.878716</td>\n",
       "      <td>-2.900094</td>\n",
       "      <td>19.732252</td>\n",
       "      <td>1</td>\n",
       "    </tr>\n",
       "  </tbody>\n",
       "</table>\n",
       "</div>"
      ],
      "text/plain": [
       "   energy_norm_log  temperature_diff  rms_norm_log  details_ratedhead  state\n",
       "0        -4.642337         -0.585072     -2.831278          47.369469      1\n",
       "1        -4.384410         -2.051363     -2.900545         120.240341      1\n",
       "2        -5.047895          2.104730     -2.742720          92.577971      1\n",
       "3        -4.962318          0.375291     -2.975236          75.714544      1\n",
       "4        -5.082340         -1.878716     -2.900094          19.732252      1"
      ]
     },
     "execution_count": 14,
     "metadata": {},
     "output_type": "execute_result"
    }
   ],
   "source": [
    "pump_data_replica.head()"
   ]
  },
  {
   "cell_type": "code",
   "execution_count": 15,
   "id": "focal-cherry",
   "metadata": {},
   "outputs": [
    {
     "data": {
      "text/html": [
       "<div>\n",
       "<style scoped>\n",
       "    .dataframe tbody tr th:only-of-type {\n",
       "        vertical-align: middle;\n",
       "    }\n",
       "\n",
       "    .dataframe tbody tr th {\n",
       "        vertical-align: top;\n",
       "    }\n",
       "\n",
       "    .dataframe thead th {\n",
       "        text-align: right;\n",
       "    }\n",
       "</style>\n",
       "<table border=\"1\" class=\"dataframe\">\n",
       "  <thead>\n",
       "    <tr style=\"text-align: right;\">\n",
       "      <th></th>\n",
       "      <th>energy_norm_log</th>\n",
       "      <th>temperature_diff</th>\n",
       "      <th>rms_norm_log</th>\n",
       "      <th>details_ratedhead</th>\n",
       "      <th>state</th>\n",
       "    </tr>\n",
       "  </thead>\n",
       "  <tbody>\n",
       "    <tr>\n",
       "      <th>count</th>\n",
       "      <td>2.638104e+07</td>\n",
       "      <td>2.638104e+07</td>\n",
       "      <td>2.638104e+07</td>\n",
       "      <td>2.638104e+07</td>\n",
       "      <td>2.638104e+07</td>\n",
       "    </tr>\n",
       "    <tr>\n",
       "      <th>mean</th>\n",
       "      <td>-9.447840e-01</td>\n",
       "      <td>6.939366e+00</td>\n",
       "      <td>-5.480077e-01</td>\n",
       "      <td>1.114997e+02</td>\n",
       "      <td>3.653952e-01</td>\n",
       "    </tr>\n",
       "    <tr>\n",
       "      <th>std</th>\n",
       "      <td>2.954907e+00</td>\n",
       "      <td>9.601409e+00</td>\n",
       "      <td>1.405737e+00</td>\n",
       "      <td>1.955414e+02</td>\n",
       "      <td>4.815408e-01</td>\n",
       "    </tr>\n",
       "    <tr>\n",
       "      <th>min</th>\n",
       "      <td>-1.018796e+01</td>\n",
       "      <td>-3.885467e+01</td>\n",
       "      <td>-4.395695e+00</td>\n",
       "      <td>1.166256e-06</td>\n",
       "      <td>0.000000e+00</td>\n",
       "    </tr>\n",
       "    <tr>\n",
       "      <th>25%</th>\n",
       "      <td>-3.370447e+00</td>\n",
       "      <td>1.604493e+00</td>\n",
       "      <td>-1.821002e+00</td>\n",
       "      <td>3.801559e+01</td>\n",
       "      <td>0.000000e+00</td>\n",
       "    </tr>\n",
       "    <tr>\n",
       "      <th>50%</th>\n",
       "      <td>-2.187638e+00</td>\n",
       "      <td>4.925288e+00</td>\n",
       "      <td>-9.366825e-01</td>\n",
       "      <td>7.603490e+01</td>\n",
       "      <td>0.000000e+00</td>\n",
       "    </tr>\n",
       "    <tr>\n",
       "      <th>75%</th>\n",
       "      <td>1.350225e+00</td>\n",
       "      <td>8.834380e+00</td>\n",
       "      <td>5.890607e-01</td>\n",
       "      <td>1.140766e+02</td>\n",
       "      <td>1.000000e+00</td>\n",
       "    </tr>\n",
       "    <tr>\n",
       "      <th>max</th>\n",
       "      <td>1.000776e+01</td>\n",
       "      <td>1.176214e+02</td>\n",
       "      <td>6.767623e+00</td>\n",
       "      <td>2.402997e+03</td>\n",
       "      <td>1.000000e+00</td>\n",
       "    </tr>\n",
       "  </tbody>\n",
       "</table>\n",
       "</div>"
      ],
      "text/plain": [
       "       energy_norm_log  temperature_diff  rms_norm_log  details_ratedhead  \\\n",
       "count     2.638104e+07      2.638104e+07  2.638104e+07       2.638104e+07   \n",
       "mean     -9.447840e-01      6.939366e+00 -5.480077e-01       1.114997e+02   \n",
       "std       2.954907e+00      9.601409e+00  1.405737e+00       1.955414e+02   \n",
       "min      -1.018796e+01     -3.885467e+01 -4.395695e+00       1.166256e-06   \n",
       "25%      -3.370447e+00      1.604493e+00 -1.821002e+00       3.801559e+01   \n",
       "50%      -2.187638e+00      4.925288e+00 -9.366825e-01       7.603490e+01   \n",
       "75%       1.350225e+00      8.834380e+00  5.890607e-01       1.140766e+02   \n",
       "max       1.000776e+01      1.176214e+02  6.767623e+00       2.402997e+03   \n",
       "\n",
       "              state  \n",
       "count  2.638104e+07  \n",
       "mean   3.653952e-01  \n",
       "std    4.815408e-01  \n",
       "min    0.000000e+00  \n",
       "25%    0.000000e+00  \n",
       "50%    0.000000e+00  \n",
       "75%    1.000000e+00  \n",
       "max    1.000000e+00  "
      ]
     },
     "execution_count": 15,
     "metadata": {},
     "output_type": "execute_result"
    }
   ],
   "source": [
    "pump_data_replica.describe()"
   ]
  },
  {
   "cell_type": "code",
   "execution_count": 16,
   "id": "polished-planner",
   "metadata": {},
   "outputs": [
    {
     "name": "stdout",
     "output_type": "stream",
     "text": [
      "<class 'pandas.core.frame.DataFrame'>\n",
      "RangeIndex: 26381042 entries, 0 to 26381041\n",
      "Data columns (total 5 columns):\n",
      " #   Column             Dtype  \n",
      "---  ------             -----  \n",
      " 0   energy_norm_log    float64\n",
      " 1   temperature_diff   float64\n",
      " 2   rms_norm_log       float64\n",
      " 3   details_ratedhead  float64\n",
      " 4   state              int64  \n",
      "dtypes: float64(4), int64(1)\n",
      "memory usage: 1006.4 MB\n"
     ]
    }
   ],
   "source": [
    "pump_data_replica.info()"
   ]
  },
  {
   "cell_type": "code",
   "execution_count": 17,
   "id": "reported-silly",
   "metadata": {},
   "outputs": [],
   "source": [
    "legend_fontsize = 25\n",
    "label_fontsize = 35\n",
    "plot_fontsize = 30\n",
    "\n",
    "figsize = (15, 9)\n",
    "legend_loc = 2\n",
    "\n",
    "color_1 = '#84b7e9'#'#c0d6ff'\n",
    "color_2 = '#0a6fd3'#'#96bcff'\n",
    "color_3 = '#06427e'#'#6ca1ff'\n"
   ]
  },
  {
   "cell_type": "code",
   "execution_count": 18,
   "id": "controversial-nursery",
   "metadata": {},
   "outputs": [
    {
     "data": {
      "text/plain": [
       "Text(0, 0.5, 'Frequency')"
      ]
     },
     "execution_count": 18,
     "metadata": {},
     "output_type": "execute_result"
    },
    {
     "data": {
      "image/png": "[encoded data removed]",
      "text/plain": [
       "<Figure size 1080x648 with 1 Axes>"
      ]
     },
     "metadata": {},
     "output_type": "display_data"
    }
   ],
   "source": [
    "axes = pump_data_replica['energy_norm_log'].plot.hist(bins=20, \n",
    "                                               color=[color_1, color_2, color_3],\n",
    "                                               #alpha=0.5,\n",
    "                                               rot=0, \n",
    "                                               stacked=True,\n",
    "                                               figsize=figsize, \n",
    "                                               fontsize=plot_fontsize, \n",
    "                                               linewidth=5)\n",
    "#axes.ticklabel_format(useOffset=False, style='plain')\n",
    "axes.legend(fontsize=legend_fontsize, loc = legend_loc) # loc=2\n",
    "axes.set_xlabel('Value', fontsize=label_fontsize)\n",
    "axes.set_ylabel('Frequency', fontsize=label_fontsize)"
   ]
  },
  {
   "cell_type": "code",
   "execution_count": 19,
   "id": "consistent-pakistan",
   "metadata": {},
   "outputs": [
    {
     "data": {
      "text/plain": [
       "Text(0, 0.5, 'Frequency')"
      ]
     },
     "execution_count": 19,
     "metadata": {},
     "output_type": "execute_result"
    },
    {
     "data": {
      "image/png": "[encoded data removed]",
      "text/plain": [
       "<Figure size 1080x648 with 1 Axes>"
      ]
     },
     "metadata": {},
     "output_type": "display_data"
    }
   ],
   "source": [
    "axes = pump_data_replica['temperature_diff'].plot.hist(bins=20, \n",
    "                                               color=[color_1, color_2, color_3],\n",
    "                                               #alpha=0.5,\n",
    "                                               rot=0, \n",
    "                                               stacked=True,\n",
    "                                               figsize=figsize, \n",
    "                                               fontsize=plot_fontsize, \n",
    "                                               linewidth=5)\n",
    "#axes.ticklabel_format(useOffset=False, style='plain')\n",
    "axes.legend(fontsize=legend_fontsize, loc = legend_loc) # loc=2\n",
    "axes.set_xlabel('Value', fontsize=label_fontsize)\n",
    "axes.set_ylabel('Frequency', fontsize=label_fontsize)"
   ]
  },
  {
   "cell_type": "code",
   "execution_count": 20,
   "id": "funded-civilian",
   "metadata": {},
   "outputs": [
    {
     "data": {
      "text/plain": [
       "Text(0, 0.5, 'Frequency')"
      ]
     },
     "execution_count": 20,
     "metadata": {},
     "output_type": "execute_result"
    },
    {
     "data": {
      "image/png": "[encoded data removed]",
      "text/plain": [
       "<Figure size 1080x648 with 1 Axes>"
      ]
     },
     "metadata": {},
     "output_type": "display_data"
    }
   ],
   "source": [
    "axes = pump_data_replica['rms_norm_log'].plot.hist(bins=20, \n",
    "                                               color=[color_1, color_2, color_3],\n",
    "                                               #alpha=0.5,\n",
    "                                               rot=0, \n",
    "                                               stacked=True,\n",
    "                                               figsize=figsize, \n",
    "                                               fontsize=plot_fontsize, \n",
    "                                               linewidth=5)\n",
    "#axes.ticklabel_format(useOffset=False, style='plain')\n",
    "axes.legend(fontsize=legend_fontsize, loc = legend_loc) # loc=2\n",
    "axes.set_xlabel('Value', fontsize=label_fontsize)\n",
    "axes.set_ylabel('Frequency', fontsize=label_fontsize)"
   ]
  },
  {
   "cell_type": "code",
   "execution_count": 21,
   "id": "failing-light",
   "metadata": {},
   "outputs": [
    {
     "data": {
      "text/plain": [
       "Text(0, 0.5, 'Frequency')"
      ]
     },
     "execution_count": 21,
     "metadata": {},
     "output_type": "execute_result"
    },
    {
     "data": {
      "image/png": "[encoded data removed]",
      "text/plain": [
       "<Figure size 1080x648 with 1 Axes>"
      ]
     },
     "metadata": {},
     "output_type": "display_data"
    }
   ],
   "source": [
    "axes = pump_data_replica['details_ratedhead'].plot.hist(bins=20, \n",
    "                                               color=[color_1, color_2, color_3],\n",
    "                                               #alpha=0.5,\n",
    "                                               rot=0, \n",
    "                                               stacked=True,\n",
    "                                               figsize=figsize, \n",
    "                                               fontsize=plot_fontsize, \n",
    "                                               linewidth=5)\n",
    "#axes.ticklabel_format(useOffset=False, style='plain')\n",
    "axes.legend(fontsize=legend_fontsize, loc = legend_loc) # loc=2\n",
    "axes.set_xlabel('Value', fontsize=label_fontsize)\n",
    "axes.set_ylabel('Frequency', fontsize=label_fontsize)"
   ]
  },
  {
   "cell_type": "markdown",
   "id": "upper-decline",
   "metadata": {},
   "source": [
    "## Generate Data For Symbolic Metamodeling"
   ]
  },
  {
   "cell_type": "code",
   "execution_count": 22,
   "id": "anonymous-turkey",
   "metadata": {},
   "outputs": [
    {
     "data": {
      "text/html": [
       "<div>\n",
       "<style scoped>\n",
       "    .dataframe tbody tr th:only-of-type {\n",
       "        vertical-align: middle;\n",
       "    }\n",
       "\n",
       "    .dataframe tbody tr th {\n",
       "        vertical-align: top;\n",
       "    }\n",
       "\n",
       "    .dataframe thead th {\n",
       "        text-align: right;\n",
       "    }\n",
       "</style>\n",
       "<table border=\"1\" class=\"dataframe\">\n",
       "  <thead>\n",
       "    <tr style=\"text-align: right;\">\n",
       "      <th></th>\n",
       "      <th>energy_norm_log</th>\n",
       "      <th>temperature_diff</th>\n",
       "      <th>rms_norm_log</th>\n",
       "      <th>details_ratedhead</th>\n",
       "      <th>state</th>\n",
       "    </tr>\n",
       "  </thead>\n",
       "  <tbody>\n",
       "    <tr>\n",
       "      <th>0</th>\n",
       "      <td>-4.642337</td>\n",
       "      <td>-0.585072</td>\n",
       "      <td>-2.831278</td>\n",
       "      <td>47.369469</td>\n",
       "      <td>1</td>\n",
       "    </tr>\n",
       "    <tr>\n",
       "      <th>1</th>\n",
       "      <td>-4.384410</td>\n",
       "      <td>-2.051363</td>\n",
       "      <td>-2.900545</td>\n",
       "      <td>120.240341</td>\n",
       "      <td>1</td>\n",
       "    </tr>\n",
       "    <tr>\n",
       "      <th>2</th>\n",
       "      <td>-5.047895</td>\n",
       "      <td>2.104730</td>\n",
       "      <td>-2.742720</td>\n",
       "      <td>92.577971</td>\n",
       "      <td>1</td>\n",
       "    </tr>\n",
       "    <tr>\n",
       "      <th>3</th>\n",
       "      <td>-4.962318</td>\n",
       "      <td>0.375291</td>\n",
       "      <td>-2.975236</td>\n",
       "      <td>75.714544</td>\n",
       "      <td>1</td>\n",
       "    </tr>\n",
       "    <tr>\n",
       "      <th>4</th>\n",
       "      <td>-5.082340</td>\n",
       "      <td>-1.878716</td>\n",
       "      <td>-2.900094</td>\n",
       "      <td>19.732252</td>\n",
       "      <td>1</td>\n",
       "    </tr>\n",
       "  </tbody>\n",
       "</table>\n",
       "</div>"
      ],
      "text/plain": [
       "   energy_norm_log  temperature_diff  rms_norm_log  details_ratedhead  state\n",
       "0        -4.642337         -0.585072     -2.831278          47.369469      1\n",
       "1        -4.384410         -2.051363     -2.900545         120.240341      1\n",
       "2        -5.047895          2.104730     -2.742720          92.577971      1\n",
       "3        -4.962318          0.375291     -2.975236          75.714544      1\n",
       "4        -5.082340         -1.878716     -2.900094          19.732252      1"
      ]
     },
     "execution_count": 22,
     "metadata": {},
     "output_type": "execute_result"
    }
   ],
   "source": [
    "pump_data_replica.head()"
   ]
  },
  {
   "cell_type": "code",
   "execution_count": 23,
   "id": "coastal-visibility",
   "metadata": {},
   "outputs": [],
   "source": [
    "data= pump_data_replica.sample(n=100_000)\n",
    "\n",
    "X_data = data.drop(['state'], axis=1) #frac=0.1\n",
    "y_data = data[['state']] #frac=0.1"
   ]
  },
  {
   "cell_type": "code",
   "execution_count": 24,
   "id": "breathing-issue",
   "metadata": {},
   "outputs": [],
   "source": [
    "X_data_scaled = np.empty_like(X_data.values.T)\n",
    "scaler_list = []\n",
    "\n",
    "for index, feature in enumerate(X_data.values.T):\n",
    "    \n",
    "    scaler = MinMaxScaler(feature_range=(1e-4, 1))\n",
    "    scaler.fit(feature.reshape(-1, 1))\n",
    "    scaler_list.append(scaler)\n",
    "    \n",
    "    feature_scaled = scaler.transform(feature.reshape(-1, 1)).ravel()\n",
    "    \n",
    "    X_data_scaled[index] = feature_scaled\n",
    "    \n",
    "X_data_scaled = pd.DataFrame(data= X_data_scaled.T, index=X_data.index, columns=list(X_data.columns))"
   ]
  },
  {
   "cell_type": "code",
   "execution_count": 25,
   "id": "initial-russia",
   "metadata": {},
   "outputs": [],
   "source": [
    "#X_train_with_valid, X_test, y_train_with_valid, y_test = train_test_split(X_data, y_data, test_size=0.25, random_state=42)           \n",
    "#X_train, X_valid, y_train, y_valid= train_test_split(X_train_with_valid, y_train_with_valid, test_size=0.25, random_state=42)   \n",
    "\n",
    "X_train, X_test, y_train, y_test = train_test_split(X_data, y_data, test_size=0.25, random_state=42)  \n",
    "\n",
    "\n",
    "#X_data_scaled = data_scaled.values \n",
    "#X_train_with_valid_scaled, X_test_scaled = train_test_split(X_data_scaled, test_size=0.25, random_state=42)           \n",
    "#X_train_scaled, X_valid_scaled = train_test_split(X_train_with_valid_scaled, test_size=0.25, random_state=42)   \n",
    "\n",
    "X_train_scaled, X_test_scaled = train_test_split(X_data_scaled, test_size=0.25, random_state=42)  \n"
   ]
  },
  {
   "cell_type": "code",
   "execution_count": 26,
   "id": "devoted-playing",
   "metadata": {},
   "outputs": [
    {
     "name": "stdout",
     "output_type": "stream",
     "text": [
      "(100000, 4)\n",
      "(75000, 4)\n",
      "(25000, 4)\n",
      "\n",
      "(100000, 4)\n",
      "(75000, 4)\n",
      "(25000, 4)\n",
      "\n",
      "(100000, 1)\n",
      "(75000, 1)\n",
      "(25000, 1)\n"
     ]
    }
   ],
   "source": [
    "print(X_data.shape)\n",
    "print(X_train.shape)\n",
    "#print(X_valid.shape)\n",
    "print(X_test.shape)\n",
    "print()\n",
    "\n",
    "print(X_data_scaled.shape)\n",
    "print(X_train_scaled.shape)\n",
    "#print(X_valid_scaled.shape)\n",
    "print(X_test_scaled.shape)\n",
    "print()\n",
    "\n",
    "print(y_data.shape)\n",
    "print(y_train.shape)\n",
    "#print(y_valid.shape)\n",
    "print(y_test.shape)"
   ]
  },
  {
   "cell_type": "code",
   "execution_count": null,
   "id": "married-oklahoma",
   "metadata": {},
   "outputs": [],
   "source": []
  },
  {
   "cell_type": "code",
   "execution_count": 27,
   "id": "reported-senior",
   "metadata": {},
   "outputs": [
    {
     "data": {
      "text/html": [
       "<div>\n",
       "<style scoped>\n",
       "    .dataframe tbody tr th:only-of-type {\n",
       "        vertical-align: middle;\n",
       "    }\n",
       "\n",
       "    .dataframe tbody tr th {\n",
       "        vertical-align: top;\n",
       "    }\n",
       "\n",
       "    .dataframe thead th {\n",
       "        text-align: right;\n",
       "    }\n",
       "</style>\n",
       "<table border=\"1\" class=\"dataframe\">\n",
       "  <thead>\n",
       "    <tr style=\"text-align: right;\">\n",
       "      <th></th>\n",
       "      <th>energy_norm_log</th>\n",
       "      <th>temperature_diff</th>\n",
       "      <th>rms_norm_log</th>\n",
       "      <th>details_ratedhead</th>\n",
       "    </tr>\n",
       "  </thead>\n",
       "  <tbody>\n",
       "    <tr>\n",
       "      <th>13880350</th>\n",
       "      <td>-3.046441</td>\n",
       "      <td>3.142118</td>\n",
       "      <td>-2.153672</td>\n",
       "      <td>2.049436</td>\n",
       "    </tr>\n",
       "    <tr>\n",
       "      <th>13018525</th>\n",
       "      <td>-3.253409</td>\n",
       "      <td>1.100728</td>\n",
       "      <td>-1.834407</td>\n",
       "      <td>74.941685</td>\n",
       "    </tr>\n",
       "    <tr>\n",
       "      <th>22758968</th>\n",
       "      <td>0.151482</td>\n",
       "      <td>6.601620</td>\n",
       "      <td>0.143500</td>\n",
       "      <td>45.284839</td>\n",
       "    </tr>\n",
       "    <tr>\n",
       "      <th>26049008</th>\n",
       "      <td>-3.156811</td>\n",
       "      <td>7.770997</td>\n",
       "      <td>-1.850652</td>\n",
       "      <td>472.412949</td>\n",
       "    </tr>\n",
       "    <tr>\n",
       "      <th>4688620</th>\n",
       "      <td>0.485113</td>\n",
       "      <td>9.553305</td>\n",
       "      <td>1.172251</td>\n",
       "      <td>54.346425</td>\n",
       "    </tr>\n",
       "  </tbody>\n",
       "</table>\n",
       "</div>"
      ],
      "text/plain": [
       "          energy_norm_log  temperature_diff  rms_norm_log  details_ratedhead\n",
       "13880350        -3.046441          3.142118     -2.153672           2.049436\n",
       "13018525        -3.253409          1.100728     -1.834407          74.941685\n",
       "22758968         0.151482          6.601620      0.143500          45.284839\n",
       "26049008        -3.156811          7.770997     -1.850652         472.412949\n",
       "4688620          0.485113          9.553305      1.172251          54.346425"
      ]
     },
     "execution_count": 27,
     "metadata": {},
     "output_type": "execute_result"
    }
   ],
   "source": [
    "X_data.head()"
   ]
  },
  {
   "cell_type": "code",
   "execution_count": 28,
   "id": "appointed-cambodia",
   "metadata": {},
   "outputs": [
    {
     "data": {
      "text/html": [
       "<div>\n",
       "<style scoped>\n",
       "    .dataframe tbody tr th:only-of-type {\n",
       "        vertical-align: middle;\n",
       "    }\n",
       "\n",
       "    .dataframe tbody tr th {\n",
       "        vertical-align: top;\n",
       "    }\n",
       "\n",
       "    .dataframe thead th {\n",
       "        text-align: right;\n",
       "    }\n",
       "</style>\n",
       "<table border=\"1\" class=\"dataframe\">\n",
       "  <thead>\n",
       "    <tr style=\"text-align: right;\">\n",
       "      <th></th>\n",
       "      <th>energy_norm_log</th>\n",
       "      <th>temperature_diff</th>\n",
       "      <th>rms_norm_log</th>\n",
       "      <th>details_ratedhead</th>\n",
       "    </tr>\n",
       "  </thead>\n",
       "  <tbody>\n",
       "    <tr>\n",
       "      <th>13880350</th>\n",
       "      <td>0.187314</td>\n",
       "      <td>0.199147</td>\n",
       "      <td>0.129700</td>\n",
       "      <td>0.000953</td>\n",
       "    </tr>\n",
       "    <tr>\n",
       "      <th>13018525</th>\n",
       "      <td>0.174365</td>\n",
       "      <td>0.183699</td>\n",
       "      <td>0.169780</td>\n",
       "      <td>0.031301</td>\n",
       "    </tr>\n",
       "    <tr>\n",
       "      <th>22758968</th>\n",
       "      <td>0.387395</td>\n",
       "      <td>0.225329</td>\n",
       "      <td>0.418088</td>\n",
       "      <td>0.018954</td>\n",
       "    </tr>\n",
       "    <tr>\n",
       "      <th>26049008</th>\n",
       "      <td>0.180409</td>\n",
       "      <td>0.234178</td>\n",
       "      <td>0.167741</td>\n",
       "      <td>0.196789</td>\n",
       "    </tr>\n",
       "    <tr>\n",
       "      <th>4688620</th>\n",
       "      <td>0.408269</td>\n",
       "      <td>0.247666</td>\n",
       "      <td>0.547238</td>\n",
       "      <td>0.022727</td>\n",
       "    </tr>\n",
       "  </tbody>\n",
       "</table>\n",
       "</div>"
      ],
      "text/plain": [
       "          energy_norm_log  temperature_diff  rms_norm_log  details_ratedhead\n",
       "13880350         0.187314          0.199147      0.129700           0.000953\n",
       "13018525         0.174365          0.183699      0.169780           0.031301\n",
       "22758968         0.387395          0.225329      0.418088           0.018954\n",
       "26049008         0.180409          0.234178      0.167741           0.196789\n",
       "4688620          0.408269          0.247666      0.547238           0.022727"
      ]
     },
     "execution_count": 28,
     "metadata": {},
     "output_type": "execute_result"
    }
   ],
   "source": [
    "X_data_scaled.head()"
   ]
  },
  {
   "cell_type": "code",
   "execution_count": 29,
   "id": "competitive-night",
   "metadata": {},
   "outputs": [
    {
     "data": {
      "text/html": [
       "<div>\n",
       "<style scoped>\n",
       "    .dataframe tbody tr th:only-of-type {\n",
       "        vertical-align: middle;\n",
       "    }\n",
       "\n",
       "    .dataframe tbody tr th {\n",
       "        vertical-align: top;\n",
       "    }\n",
       "\n",
       "    .dataframe thead th {\n",
       "        text-align: right;\n",
       "    }\n",
       "</style>\n",
       "<table border=\"1\" class=\"dataframe\">\n",
       "  <thead>\n",
       "    <tr style=\"text-align: right;\">\n",
       "      <th></th>\n",
       "      <th>state</th>\n",
       "    </tr>\n",
       "  </thead>\n",
       "  <tbody>\n",
       "    <tr>\n",
       "      <th>13880350</th>\n",
       "      <td>0</td>\n",
       "    </tr>\n",
       "    <tr>\n",
       "      <th>13018525</th>\n",
       "      <td>0</td>\n",
       "    </tr>\n",
       "    <tr>\n",
       "      <th>22758968</th>\n",
       "      <td>0</td>\n",
       "    </tr>\n",
       "    <tr>\n",
       "      <th>26049008</th>\n",
       "      <td>0</td>\n",
       "    </tr>\n",
       "    <tr>\n",
       "      <th>4688620</th>\n",
       "      <td>1</td>\n",
       "    </tr>\n",
       "  </tbody>\n",
       "</table>\n",
       "</div>"
      ],
      "text/plain": [
       "          state\n",
       "13880350      0\n",
       "13018525      0\n",
       "22758968      0\n",
       "26049008      0\n",
       "4688620       1"
      ]
     },
     "execution_count": 29,
     "metadata": {},
     "output_type": "execute_result"
    }
   ],
   "source": [
    "y_data.head()"
   ]
  },
  {
   "cell_type": "code",
   "execution_count": 30,
   "id": "operational-heading",
   "metadata": {},
   "outputs": [
    {
     "data": {
      "text/html": [
       "<div>\n",
       "<style scoped>\n",
       "    .dataframe tbody tr th:only-of-type {\n",
       "        vertical-align: middle;\n",
       "    }\n",
       "\n",
       "    .dataframe tbody tr th {\n",
       "        vertical-align: top;\n",
       "    }\n",
       "\n",
       "    .dataframe thead th {\n",
       "        text-align: right;\n",
       "    }\n",
       "</style>\n",
       "<table border=\"1\" class=\"dataframe\">\n",
       "  <thead>\n",
       "    <tr style=\"text-align: right;\">\n",
       "      <th></th>\n",
       "      <th>energy_norm_log</th>\n",
       "      <th>temperature_diff</th>\n",
       "      <th>rms_norm_log</th>\n",
       "      <th>details_ratedhead</th>\n",
       "    </tr>\n",
       "  </thead>\n",
       "  <tbody>\n",
       "    <tr>\n",
       "      <th>count</th>\n",
       "      <td>100000.000000</td>\n",
       "      <td>100000.000000</td>\n",
       "      <td>100000.000000</td>\n",
       "      <td>100000.000000</td>\n",
       "    </tr>\n",
       "    <tr>\n",
       "      <th>mean</th>\n",
       "      <td>-0.926132</td>\n",
       "      <td>6.883145</td>\n",
       "      <td>-0.541237</td>\n",
       "      <td>110.873149</td>\n",
       "    </tr>\n",
       "    <tr>\n",
       "      <th>std</th>\n",
       "      <td>2.960861</td>\n",
       "      <td>9.571795</td>\n",
       "      <td>1.407717</td>\n",
       "      <td>191.522362</td>\n",
       "    </tr>\n",
       "    <tr>\n",
       "      <th>min</th>\n",
       "      <td>-6.038717</td>\n",
       "      <td>-23.159554</td>\n",
       "      <td>-3.186004</td>\n",
       "      <td>0.001450</td>\n",
       "    </tr>\n",
       "    <tr>\n",
       "      <th>25%</th>\n",
       "      <td>-3.366720</td>\n",
       "      <td>1.573012</td>\n",
       "      <td>-1.820031</td>\n",
       "      <td>38.097587</td>\n",
       "    </tr>\n",
       "    <tr>\n",
       "      <th>50%</th>\n",
       "      <td>-2.158722</td>\n",
       "      <td>4.893059</td>\n",
       "      <td>-0.923792</td>\n",
       "      <td>75.893879</td>\n",
       "    </tr>\n",
       "    <tr>\n",
       "      <th>75%</th>\n",
       "      <td>1.372991</td>\n",
       "      <td>8.750042</td>\n",
       "      <td>0.597593</td>\n",
       "      <td>114.209613</td>\n",
       "    </tr>\n",
       "    <tr>\n",
       "      <th>max</th>\n",
       "      <td>9.942830</td>\n",
       "      <td>108.964905</td>\n",
       "      <td>4.778744</td>\n",
       "      <td>2401.582094</td>\n",
       "    </tr>\n",
       "  </tbody>\n",
       "</table>\n",
       "</div>"
      ],
      "text/plain": [
       "       energy_norm_log  temperature_diff   rms_norm_log  details_ratedhead\n",
       "count    100000.000000     100000.000000  100000.000000      100000.000000\n",
       "mean         -0.926132          6.883145      -0.541237         110.873149\n",
       "std           2.960861          9.571795       1.407717         191.522362\n",
       "min          -6.038717        -23.159554      -3.186004           0.001450\n",
       "25%          -3.366720          1.573012      -1.820031          38.097587\n",
       "50%          -2.158722          4.893059      -0.923792          75.893879\n",
       "75%           1.372991          8.750042       0.597593         114.209613\n",
       "max           9.942830        108.964905       4.778744        2401.582094"
      ]
     },
     "execution_count": 30,
     "metadata": {},
     "output_type": "execute_result"
    }
   ],
   "source": [
    "X_data.describe()"
   ]
  },
  {
   "cell_type": "code",
   "execution_count": 31,
   "id": "conscious-brand",
   "metadata": {},
   "outputs": [
    {
     "name": "stdout",
     "output_type": "stream",
     "text": [
      "<class 'pandas.core.frame.DataFrame'>\n",
      "Int64Index: 100000 entries, 13880350 to 8425222\n",
      "Data columns (total 4 columns):\n",
      " #   Column             Non-Null Count   Dtype  \n",
      "---  ------             --------------   -----  \n",
      " 0   energy_norm_log    100000 non-null  float64\n",
      " 1   temperature_diff   100000 non-null  float64\n",
      " 2   rms_norm_log       100000 non-null  float64\n",
      " 3   details_ratedhead  100000 non-null  float64\n",
      "dtypes: float64(4)\n",
      "memory usage: 3.8 MB\n"
     ]
    }
   ],
   "source": [
    "X_data.info()"
   ]
  },
  {
   "cell_type": "code",
   "execution_count": 32,
   "id": "3dc63bfa-ba64-489f-be90-014f1c8053b6",
   "metadata": {},
   "outputs": [
    {
     "data": {
      "text/plain": [
       "0.90677"
      ]
     },
     "execution_count": 32,
     "metadata": {},
     "output_type": "execute_result"
    }
   ],
   "source": [
    "accuracy_score(np.round(np.clip(data['energy_norm_log'].values * 1.631, 0, 1)).astype(int), data['state'].values)"
   ]
  },
  {
   "cell_type": "markdown",
   "id": "personal-sheriff",
   "metadata": {},
   "source": [
    "# Symbolic Metamodeling"
   ]
  },
  {
   "cell_type": "code",
   "execution_count": 33,
   "id": "greater-philippines",
   "metadata": {},
   "outputs": [],
   "source": [
    "metamodeling_hyperparams = {\n",
    "    'num_iter': 100,#500,\n",
    "    'batch_size': 128,\n",
    "    'learning_rate': 0.001,        \n",
    "    'dataset_size': 5000,\n",
    "    'exact_expression': True,\n",
    "    'flat_function': False,\n",
    "    'polynomial_degree': 3,\n",
    "    'early_stopping': 50,\n",
    "    'restarts': 10,\n",
    "}\n",
    "\n",
    "return_error = True\n",
    "\n",
    "symbolic_metamodeling = False\n",
    "symbolic_metamodeling_adjusted = True"
   ]
  },
  {
   "cell_type": "markdown",
   "id": "cooked-software",
   "metadata": {},
   "source": [
    "## Evaluate Model"
   ]
  },
  {
   "cell_type": "code",
   "execution_count": 34,
   "id": "skilled-million",
   "metadata": {},
   "outputs": [
    {
     "name": "stdout",
     "output_type": "stream",
     "text": [
      "Accuracy: 0.90676\n",
      "F1 Score: 0.8706221901537438\n"
     ]
    }
   ],
   "source": [
    "y_test_random_forest = random_forest_model.predict(X_test)\n",
    "\n",
    "accuracy_random_forest = accuracy_score(y_test, y_test_random_forest)\n",
    "f1_random_forest = f1_score(y_test, y_test_random_forest)\n",
    "\n",
    "print('Accuracy: '+ str(accuracy_random_forest))\n",
    "print('F1 Score: '+ str(f1_random_forest))\n"
   ]
  },
  {
   "cell_type": "code",
   "execution_count": 35,
   "id": "unauthorized-gross",
   "metadata": {},
   "outputs": [],
   "source": [
    "if symbolic_metamodeling:\n",
    "    from pysymbolic_original.algorithms.symbolic_metamodeling import symbolic_metamodel\n",
    "    from pysymbolic_original.algorithms.symbolic_expressions import get_symbolic_model\n",
    "    \n",
    "    \n",
    "    ## Symbolic Metamodeling\n",
    "    if metamodeling_hyperparams['batch_size'] == None:\n",
    "        metamodeling_hyperparams['batch_size'] = X_data.shape[0]\n",
    "\n",
    "    metamodel = symbolic_metamodel(random_forest_model, \n",
    "                                   X_train[:metamodeling_hyperparams['dataset_size']], \n",
    "                                   mode=\"classification\")\n",
    "\n",
    "    metamodel.fit(num_iter=metamodeling_hyperparams['num_iter'], \n",
    "                  batch_size=metamodeling_hyperparams['batch_size'], \n",
    "                  learning_rate=metamodeling_hyperparams['learning_rate'])   \n",
    "\n",
    "\n",
    "    if metamodeling_hyperparams['exact_expression']:\n",
    "        metamodel_function = metamodel.exact_expression\n",
    "        #print(metamodel_function)\n",
    "    else:\n",
    "        metamodel_function = metamodel.approx_expression\n",
    "        #print(metamodel_function)\n",
    "\n",
    "\n",
    "    y_test_metamodel = np.round(metamodel.evaluate(X_test)).astype(np.int64)\n",
    "    y_test_model = random_forest_model.predict(X_test)\n",
    "\n",
    "    accuracy_model_performance = accuracy_score(y_test, y_test_model)    \n",
    "    accuracy_metamodel_performance = accuracy_score(y_test, y_test_metamodel) \n",
    "\n",
    "    accuracy_fidelity = accuracy_score(y_test_model, y_test_metamodel)     \n",
    "    \n",
    "    display(metamodel_function)\n",
    "    \n",
    "    print('Accuracy Random Forest Model:', accuracy_model_performance)\n",
    "    print('Accuracy Symbolic Metaodel:', accuracy_metamodel_performance)\n",
    "    \n",
    "    print('Fidelity (Accuracy) Symbolic Metaodel - Random Forest Model:', accuracy_model_performance)\n",
    "\n",
    "        \n"
   ]
  },
  {
   "cell_type": "code",
   "execution_count": 36,
   "id": "complex-compromise",
   "metadata": {},
   "outputs": [],
   "source": [
    "random_forest_model_scaled = deepcopy(random_forest_model)\n",
    "\n",
    "for dt in random_forest_model_scaled.estimators_:\n",
    "\n",
    "    n_nodes = dt.tree_.node_count\n",
    "    children_left = dt.tree_.children_left\n",
    "    children_right = dt.tree_.children_right\n",
    "    feature = dt.tree_.feature\n",
    "    threshold = dt.tree_.threshold\n",
    "\n",
    "    node_depth = np.zeros(shape=n_nodes, dtype=np.int64)\n",
    "    is_leaves = np.zeros(shape=n_nodes, dtype=bool)\n",
    "    stack = [(0, 0)]  # start with the root node id (0) and its depth (0)\n",
    "    while len(stack) > 0:\n",
    "        # `pop` ensures each node is only visited once\n",
    "        node_id, depth = stack.pop()\n",
    "        node_depth[node_id] = depth\n",
    "\n",
    "        # If the left and right child of a node is not the same we have a split\n",
    "        # node\n",
    "        is_split_node = children_left[node_id] != children_right[node_id]\n",
    "        # If a split node, append left and right children and depth to `stack`\n",
    "        # so we can loop through them\n",
    "        if is_split_node:\n",
    "            stack.append((children_left[node_id], depth + 1))\n",
    "            stack.append((children_right[node_id], depth + 1))\n",
    "        else:\n",
    "            is_leaves[node_id] = True\n",
    "\n",
    "    for i in range(n_nodes):\n",
    "        if not is_leaves[i]: \n",
    "            threshold[i] = scaler_list[int(feature[i])].transform(np.array([threshold[i]]).reshape(1, -1)).ravel()[0]"
   ]
  },
  {
   "cell_type": "code",
   "execution_count": null,
   "id": "significant-thumbnail",
   "metadata": {
    "tags": []
   },
   "outputs": [
    {
     "name": "stderr",
     "output_type": "stream",
     "text": [
      "2021-09-14 21:22:11.116097: I tensorflow/stream_executor/platform/default/dso_loader.cc:49] Successfully opened dynamic library libcudart.so.11.0\n"
     ]
    },
    {
     "name": "stdout",
     "output_type": "stream",
     "text": [
      "---- Tuning the basis functions ----\n"
     ]
    },
    {
     "data": {
      "application/vnd.jupyter.widget-view+json": {
       "model_id": "58340c0697454ba5933ffa0796efbcd7",
       "version_major": 2,
       "version_minor": 0
      },
      "text/plain": [
       "basis function loop:   0%|          | 0/4 [00:00<?, ?it/s]"
      ]
     },
     "metadata": {},
     "output_type": "display_data"
    },
    {
     "name": "stderr",
     "output_type": "stream",
     "text": [
      "2021-09-14 21:22:13.492420: I tensorflow/compiler/jit/xla_cpu_device.cc:41] Not creating XLA devices, tf_xla_enable_xla_devices not set\n",
      "\n",
      "restart loop:   0%|          | 0/11 [00:00<?, ?it/s]\u001b[A2021-09-14 21:22:13.493325: W tensorflow/stream_executor/platform/default/dso_loader.cc:60] Could not load dynamic library 'libcuda.so.1'; dlerror: libcuda.so.1: cannot open shared object file: No such file or directory; LD_LIBRARY_PATH: /usr/local/cuda-10.1/lib64:\n",
      "2021-09-14 21:22:13.493346: W tensorflow/stream_executor/cuda/cuda_driver.cc:326] failed call to cuInit: UNKNOWN ERROR (303)\n",
      "2021-09-14 21:22:13.493372: I tensorflow/stream_executor/cuda/cuda_diagnostics.cc:156] kernel driver does not appear to be running on this host (dws-11): /proc/driver/nvidia/version does not exist\n",
      "2021-09-14 21:22:13.496089: I tensorflow/compiler/jit/xla_gpu_device.cc:99] Not creating XLA devices, tf_xla_enable_xla_devices not set\n"
     ]
    },
    {
     "data": {
      "application/vnd.jupyter.widget-view+json": {
       "model_id": "9ea6b3777a9f4334b24a7e80b61e52e3",
       "version_major": 2,
       "version_minor": 0
      },
      "text/plain": [
       "iter loop:   0%|          | 0/500 [00:00<?, ?it/s]"
      ]
     },
     "metadata": {},
     "output_type": "display_data"
    },
    {
     "name": "stdout",
     "output_type": "stream",
     "text": [
      "Iteration: 0 \t--- Loss: 35.826\n",
      "Iteration: 1 \t--- Loss: 37.474\n",
      "Iteration: 2 \t--- Loss: 36.713\n",
      "Iteration: 3 \t--- Loss: 36.662\n",
      "Iteration: 4 \t--- Loss: 36.968\n",
      "Iteration: 5 \t--- Loss: 38.327\n",
      "Iteration: 6 \t--- Loss: 35.130\n",
      "Iteration: 7 \t--- Loss: 38.107\n",
      "Iteration: 8 \t--- Loss: 34.494\n",
      "Iteration: 9 \t--- Loss: 35.849\n",
      "Iteration: 10 \t--- Loss: 37.367\n",
      "Iteration: 11 \t--- Loss: 35.059\n",
      "Iteration: 12 \t--- Loss: 36.307\n",
      "Iteration: 13 \t--- Loss: 34.412\n",
      "Iteration: 14 \t--- Loss: 36.002\n",
      "Iteration: 15 \t--- Loss: 32.886\n",
      "Iteration: 16 \t--- Loss: 33.176\n",
      "Iteration: 17 \t--- Loss: 35.439\n",
      "Iteration: 18 \t--- Loss: 33.418\n",
      "Iteration: 19 \t--- Loss: 33.460\n",
      "Iteration: 20 \t--- Loss: 34.150\n",
      "Iteration: 21 \t--- Loss: 34.056\n",
      "Iteration: 22 \t--- Loss: 33.450\n",
      "Iteration: 23 \t--- Loss: 33.721\n",
      "Iteration: 24 \t--- Loss: 35.871\n",
      "Iteration: 25 \t--- Loss: 34.437\n",
      "Iteration: 26 \t--- Loss: 39.773\n",
      "Iteration: 27 \t--- Loss: 39.333\n",
      "Iteration: 28 \t--- Loss: 40.141\n",
      "Iteration: 29 \t--- Loss: 41.467\n",
      "Iteration: 30 \t--- Loss: 38.409\n",
      "Iteration: 31 \t--- Loss: 40.168\n",
      "Iteration: 32 \t--- Loss: 35.733\n",
      "Iteration: 33 \t--- Loss: 37.554\n",
      "Iteration: 34 \t--- Loss: 33.693\n",
      "Iteration: 35 \t--- Loss: 33.017\n",
      "Iteration: 36 \t--- Loss: 35.918\n",
      "Iteration: 37 \t--- Loss: 37.394\n",
      "Iteration: 38 \t--- Loss: 37.322\n",
      "Iteration: 39 \t--- Loss: 35.853\n",
      "Iteration: 40 \t--- Loss: 32.260\n",
      "Iteration: 41 \t--- Loss: 35.439\n",
      "Iteration: 42 \t--- Loss: 30.617\n",
      "Iteration: 43 \t--- Loss: 34.412\n",
      "Iteration: 44 \t--- Loss: 33.751\n",
      "Iteration: 45 \t--- Loss: 35.157\n",
      "Iteration: 46 \t--- Loss: 34.846\n",
      "Iteration: 47 \t--- Loss: 33.415\n",
      "Iteration: 48 \t--- Loss: 34.138\n",
      "Iteration: 49 \t--- Loss: 34.776\n",
      "Iteration: 50 \t--- Loss: 31.886\n",
      "Iteration: 51 \t--- Loss: 33.565\n",
      "Iteration: 52 \t--- Loss: 35.586\n",
      "Iteration: 53 \t--- Loss: 34.000\n",
      "Iteration: 54 \t--- Loss: 34.243\n",
      "Iteration: 55 \t--- Loss: 33.556\n",
      "Iteration: 56 \t--- Loss: 32.164\n",
      "Iteration: 57 \t--- Loss: 35.642\n",
      "Iteration: 58 \t--- Loss: 34.466\n",
      "Iteration: 59 \t--- Loss: 33.564\n",
      "Iteration: 60 \t--- Loss: 32.945\n",
      "Iteration: 61 \t--- Loss: 36.330\n",
      "Iteration: 62 \t--- Loss: 32.692\n",
      "Iteration: 63 \t--- Loss: 33.587\n",
      "Iteration: 64 \t--- Loss: 32.847\n",
      "Iteration: 65 \t--- Loss: 32.957\n",
      "Iteration: 66 \t--- Loss: 33.272\n",
      "Iteration: 67 \t--- Loss: 33.080\n",
      "Iteration: 68 \t--- Loss: 37.048\n",
      "Iteration: 69 \t--- Loss: 33.086\n",
      "Iteration: 70 \t--- Loss: 33.695\n",
      "Iteration: 71 \t--- Loss: 32.504\n",
      "Iteration: 72 \t--- Loss: 33.943\n",
      "Iteration: 73 \t--- Loss: 33.601\n",
      "Iteration: 74 \t--- Loss: 34.808\n",
      "Iteration: 75 \t--- Loss: 34.332\n",
      "Iteration: 76 \t--- Loss: 27.915\n",
      "Iteration: 77 \t--- Loss: 32.020\n",
      "Iteration: 78 \t--- Loss: 35.585\n",
      "Iteration: 79 \t--- Loss: 34.486\n",
      "Iteration: 80 \t--- Loss: 34.173\n",
      "Iteration: 81 \t--- Loss: 33.325\n",
      "Iteration: 82 \t--- Loss: 33.526\n",
      "Iteration: 83 \t--- Loss: 34.510\n",
      "Iteration: 84 \t--- Loss: 32.172\n",
      "Iteration: 85 \t--- Loss: 31.965\n",
      "Iteration: 86 \t--- Loss: 33.613\n",
      "Iteration: 87 \t--- Loss: 35.367\n",
      "Iteration: 88 \t--- Loss: 34.859\n",
      "Iteration: 89 \t--- Loss: 35.671\n",
      "Iteration: 90 \t--- Loss: 32.972\n",
      "Iteration: 91 \t--- Loss: 32.505\n",
      "Iteration: 92 \t--- Loss: 35.659\n",
      "Iteration: 93 \t--- Loss: 32.280\n",
      "Iteration: 94 \t--- Loss: 33.018\n",
      "Iteration: 95 \t--- Loss: 35.083\n",
      "Iteration: 96 \t--- Loss: 35.177\n",
      "Iteration: 97 \t--- Loss: 34.784\n",
      "Iteration: 98 \t--- Loss: 34.884\n",
      "Iteration: 99 \t--- Loss: 35.697\n",
      "Iteration: 100 \t--- Loss: 32.603\n",
      "Iteration: 101 \t--- Loss: 33.708\n",
      "Iteration: 102 \t--- Loss: 31.623\n",
      "Iteration: 103 \t--- Loss: 31.180\n",
      "Iteration: 104 \t--- Loss: 33.474\n",
      "Iteration: 105 \t--- Loss: 32.765\n",
      "Iteration: 106 \t--- Loss: 34.939\n",
      "Iteration: 107 \t--- Loss: 33.919\n",
      "Iteration: 108 \t--- Loss: 33.044\n",
      "Iteration: 109 \t--- Loss: 34.767\n",
      "Iteration: 110 \t--- Loss: 33.799\n",
      "Iteration: 111 \t--- Loss: 32.974\n",
      "Iteration: 112 \t--- Loss: 35.295\n",
      "Iteration: 113 \t--- Loss: 35.195\n",
      "Iteration: 114 \t--- Loss: 32.337\n",
      "Iteration: 115 \t--- Loss: 34.634\n",
      "Iteration: 116 \t--- Loss: 36.322\n",
      "Iteration: 117 \t--- Loss: 32.442\n",
      "Iteration: 118 \t--- Loss: 32.362\n",
      "Iteration: 119 \t--- Loss: 34.263\n",
      "Iteration: 120 \t--- Loss: 37.454\n",
      "Iteration: 121 \t--- Loss: 31.919\n",
      "Iteration: 122 \t--- Loss: 35.370\n",
      "Iteration: 123 \t--- Loss: 33.372\n",
      "Iteration: 124 \t--- Loss: 34.289\n",
      "Iteration: 125 \t--- Loss: 32.427\n",
      "Iteration: 126 \t--- Loss: 36.873\n"
     ]
    },
    {
     "name": "stderr",
     "output_type": "stream",
     "text": [
      "\n",
      "restart loop:   9%|▉         | 1/11 [11:59<1:59:57, 719.75s/it]\u001b[A"
     ]
    },
    {
     "name": "stdout",
     "output_type": "stream",
     "text": [
      "Iteration: 127 \t--- Loss: 31.297\n",
      "Early Stopping requirement reached after 127 Iterations\n",
      "New Global Minimum: 27.91507268855627\n"
     ]
    },
    {
     "data": {
      "application/vnd.jupyter.widget-view+json": {
       "model_id": "505dbe80cab84abb80973fdcf3f6e91f",
       "version_major": 2,
       "version_minor": 0
      },
      "text/plain": [
       "iter loop:   0%|          | 0/500 [00:00<?, ?it/s]"
      ]
     },
     "metadata": {},
     "output_type": "display_data"
    },
    {
     "name": "stdout",
     "output_type": "stream",
     "text": [
      "Iteration: 0 \t--- Loss: 35.879\n",
      "Iteration: 1 \t--- Loss: 35.857\n",
      "Iteration: 2 \t--- Loss: 36.037\n",
      "Iteration: 3 \t--- Loss: 35.994\n",
      "Iteration: 4 \t--- Loss: 36.239\n",
      "Iteration: 5 \t--- Loss: 37.199\n",
      "Iteration: 6 \t--- Loss: 36.873\n",
      "Iteration: 7 \t--- Loss: 38.292\n",
      "Iteration: 8 \t--- Loss: 39.770\n",
      "Iteration: 9 \t--- Loss: 37.484\n",
      "Iteration: 10 \t--- Loss: 36.395\n",
      "Iteration: 11 \t--- Loss: 36.824\n",
      "Iteration: 12 \t--- Loss: 36.731\n",
      "Iteration: 13 \t--- Loss: 38.283\n",
      "Iteration: 14 \t--- Loss: 36.194\n",
      "Iteration: 15 \t--- Loss: 36.227\n",
      "Iteration: 16 \t--- Loss: 36.188\n",
      "Iteration: 17 \t--- Loss: 34.557\n",
      "Iteration: 18 \t--- Loss: 36.889\n",
      "Iteration: 19 \t--- Loss: 35.892\n",
      "Iteration: 20 \t--- Loss: 36.214\n",
      "Iteration: 21 \t--- Loss: 36.749\n",
      "Iteration: 22 \t--- Loss: 34.620\n",
      "Iteration: 23 \t--- Loss: 36.050\n",
      "Iteration: 24 \t--- Loss: 35.610\n",
      "Iteration: 25 \t--- Loss: 33.672\n",
      "Iteration: 26 \t--- Loss: 35.077\n",
      "Iteration: 27 \t--- Loss: 35.093\n",
      "Iteration: 28 \t--- Loss: 35.079\n",
      "Iteration: 29 \t--- Loss: 36.541\n",
      "Iteration: 30 \t--- Loss: 36.188\n",
      "Iteration: 31 \t--- Loss: 35.013\n",
      "Iteration: 32 \t--- Loss: 34.976\n",
      "Iteration: 33 \t--- Loss: 37.297\n",
      "Iteration: 34 \t--- Loss: 33.890\n",
      "Iteration: 35 \t--- Loss: 33.638\n",
      "Iteration: 36 \t--- Loss: 33.781\n",
      "Iteration: 37 \t--- Loss: 32.793\n",
      "Iteration: 38 \t--- Loss: 33.794\n",
      "Iteration: 39 \t--- Loss: 35.645\n",
      "Iteration: 40 \t--- Loss: 32.535\n",
      "Iteration: 41 \t--- Loss: 31.487\n",
      "Iteration: 42 \t--- Loss: 33.942\n",
      "Iteration: 43 \t--- Loss: 32.592\n",
      "Iteration: 44 \t--- Loss: 35.477\n",
      "Iteration: 45 \t--- Loss: 41.041\n",
      "Iteration: 46 \t--- Loss: 48.758\n",
      "Iteration: 47 \t--- Loss: 58.723\n",
      "Iteration: 48 \t--- Loss: 49.244\n",
      "Iteration: 49 \t--- Loss: 35.775\n",
      "Iteration: 50 \t--- Loss: 35.382\n",
      "Iteration: 51 \t--- Loss: 40.739\n",
      "Iteration: 52 \t--- Loss: 42.062\n",
      "Iteration: 53 \t--- Loss: 41.235\n",
      "Iteration: 54 \t--- Loss: 39.866\n",
      "Iteration: 55 \t--- Loss: 39.209\n",
      "Iteration: 56 \t--- Loss: 39.861\n",
      "Iteration: 57 \t--- Loss: 39.478\n",
      "Iteration: 58 \t--- Loss: 38.337\n",
      "Iteration: 59 \t--- Loss: 37.193\n",
      "Iteration: 60 \t--- Loss: 36.729\n",
      "Iteration: 61 \t--- Loss: 37.628\n",
      "Iteration: 62 \t--- Loss: 37.614\n",
      "Iteration: 63 \t--- Loss: 38.148\n",
      "Iteration: 64 \t--- Loss: 35.041\n",
      "Iteration: 65 \t--- Loss: 36.451\n",
      "Iteration: 66 \t--- Loss: 38.341\n",
      "Iteration: 67 \t--- Loss: 38.191\n",
      "Iteration: 68 \t--- Loss: 38.322\n",
      "Iteration: 69 \t--- Loss: 37.543\n",
      "Iteration: 70 \t--- Loss: 36.387\n",
      "Iteration: 71 \t--- Loss: 39.197\n",
      "Iteration: 72 \t--- Loss: 35.925\n",
      "Iteration: 73 \t--- Loss: 37.750\n",
      "Iteration: 74 \t--- Loss: 36.101\n",
      "Iteration: 75 \t--- Loss: 36.595\n",
      "Iteration: 76 \t--- Loss: 36.377\n",
      "Iteration: 77 \t--- Loss: 37.130\n",
      "Iteration: 78 \t--- Loss: 35.444\n",
      "Iteration: 79 \t--- Loss: 35.442\n",
      "Iteration: 80 \t--- Loss: 36.411\n",
      "Iteration: 81 \t--- Loss: 38.122\n",
      "Iteration: 82 \t--- Loss: 32.277\n",
      "Iteration: 83 \t--- Loss: 34.194\n",
      "Iteration: 84 \t--- Loss: 36.145\n",
      "Iteration: 85 \t--- Loss: 38.087\n",
      "Iteration: 86 \t--- Loss: 34.249\n",
      "Iteration: 87 \t--- Loss: 34.327\n"
     ]
    }
   ],
   "source": [
    "if symbolic_metamodeling_adjusted:\n",
    "    from pysymbolic_adjusted.algorithms.symbolic_metamodeling import symbolic_metamodel\n",
    "    from pysymbolic_adjusted.algorithms.symbolic_expressions import get_symbolic_model    \n",
    "    \n",
    "    ## Symbolic Metamodeling\n",
    "    if metamodeling_hyperparams['batch_size'] == None:\n",
    "        metamodeling_hyperparams['batch_size'] = X_train_scaled.shape[0]\n",
    "\n",
    "    metamodel = symbolic_metamodel(random_forest_model_scaled, #random_forest_model, #model,#\n",
    "                                   X_train_scaled[:metamodeling_hyperparams['dataset_size']], #X_train, #X_train_abse,#\n",
    "                                   mode=\"classification\", \n",
    "                                   approximation_order = metamodeling_hyperparams['polynomial_degree'], \n",
    "                                   force_polynomial=metamodeling_hyperparams['flat_function'],\n",
    "                                   verbosity=True,\n",
    "                                   early_stopping=metamodeling_hyperparams['early_stopping'],\n",
    "                                   restarts=metamodeling_hyperparams['restarts'])\n",
    "\n",
    "    metamodel.fit(num_iter=metamodeling_hyperparams['num_iter'], \n",
    "                  batch_size=metamodeling_hyperparams['batch_size'], \n",
    "                  learning_rate=metamodeling_hyperparams['learning_rate'])    \n",
    "\n",
    "    if metamodeling_hyperparams['exact_expression']:\n",
    "        metamodel_function = metamodel.exact_expression\n",
    "        #print(metamodel_function)\n",
    "    else:\n",
    "        metamodel_function = metamodel.approx_expression\n",
    "        #print(metamodel_function)\n",
    "\n",
    "    y_test_metamodel_eval = np.round(metamodel.evaluate(X_test_scaled)).astype(np.int64)\n",
    "    \n",
    "    y_test_metamodel = np.round(np.clip(calculate_function_values_from_sympy(metamodel_function, X_test_scaled), 0, 1)).astype(np.int64).reshape(-1,1)#np.round(calculate_function_values_from_sympy(metamodel_function, X_test)).astype(np.int64)\n",
    "\n",
    "    \n",
    "    y_test_model = random_forest_model_scaled.predict(X_test_scaled)\n",
    "\n",
    "    accuracy_model_performance = accuracy_score(y_test, y_test_model)    \n",
    "    accuracy_metamodel_performance = accuracy_score(y_test, y_test_metamodel) \n",
    "    accuracy_metamodel_performance_eval = accuracy_score(y_test, y_test_metamodel_eval) \n",
    "    \n",
    "    accuracy_fidelity = accuracy_score(y_test_model, y_test_metamodel)     \n",
    "    accuracy_fidelity_eval = accuracy_score(y_test_model, y_test_metamodel_eval)   \n",
    "    \n",
    "    f1_model_performance = f1_score(y_test, y_test_model)    \n",
    "    f1_metamodel_performance = f1_score(y_test, y_test_metamodel) \n",
    "    f1_metamodel_performance_eval = f1_score(y_test, y_test_metamodel_eval) \n",
    "    \n",
    "    f1_fidelity = f1_score(y_test_model, y_test_metamodel)     \n",
    "    f1_fidelity_eval = f1_score(y_test_model, y_test_metamodel_eval)      \n",
    "    \n",
    "    display(metamodel_function)\n",
    "    \n",
    "    print('Accuracy Random Forest Model:', accuracy_model_performance)\n",
    "    print('Accuracy Symbolic Metaodel:', accuracy_metamodel_performance)\n",
    "    print('Accuracy Symbolic Metaodel Eval:', accuracy_metamodel_performance_eval)\n",
    "    \n",
    "    print('Fidelity (Accuracy) Symbolic Metaodel - Random Forest Model:', accuracy_fidelity)\n",
    "    print('Fidelity (Accuracy) Symbolic Metaodel Eval - Random Forest Model:', accuracy_fidelity_eval)\n",
    "    \n",
    "    print('F1 Score Random Forest Model:', f1_model_performance)\n",
    "    print('F1 Score Symbolic Metaodel:', f1_metamodel_performance)\n",
    "    print('F1 Score Symbolic Metaodel Eval:', f1_metamodel_performance_eval)\n",
    "    \n",
    "    print('Fidelity (F1 Score) Symbolic Metaodel - Random Forest Model:', f1_fidelity)\n",
    "    print('Fidelity (F1 Score) Symbolic Metaodel Eval - Random Forest Model:', f1_fidelity_eval)"
   ]
  },
  {
   "cell_type": "code",
   "execution_count": null,
   "id": "raising-treasure",
   "metadata": {},
   "outputs": [],
   "source": [
    "y_test_metamodel_eval = np.round(metamodel.evaluate(X_test_scaled.values)).astype(np.int64)\n",
    "\n",
    "accuracy_metamodel_performance_eval = accuracy_score(y_test, y_test_metamodel_eval) \n",
    "accuracy_fidelity_eval = accuracy_score(y_test_model, y_test_metamodel_eval)   \n",
    "f1_metamodel_performance_eval = f1_score(y_test, y_test_metamodel_eval) \n",
    "f1_fidelity_eval = f1_score(y_test_model, y_test_metamodel_eval)      \n",
    "\n",
    "print('Accuracy Symbolic Metaodel Eval:', accuracy_metamodel_performance_eval)\n",
    "print('Fidelity (Accuracy) Symbolic Metaodel Eval - Random Forest Model:', accuracy_fidelity_eval)\n",
    "print('F1 Score Symbolic Metaodel Eval:', f1_metamodel_performance_eval)\n",
    "print('Fidelity (F1 Score) Symbolic Metaodel Eval - Random Forest Model:', f1_fidelity_eval)"
   ]
  },
  {
   "cell_type": "code",
   "execution_count": null,
   "id": "informed-project",
   "metadata": {},
   "outputs": [],
   "source": [
    "    \n",
    "y_test_metamodel = np.round(np.clip(calculate_function_values_from_sympy(metamodel_function, X_test_scaled.values), 0, 1)).astype(np.int64).reshape(-1,1)#np.round(calculate_function_values_from_sympy(metamodel_function, X_test)).astype(np.int64)\n",
    "\n",
    "\n",
    "y_test_model = random_forest_model_scaled.predict(X_test_scaled.values)\n",
    "\n",
    "accuracy_model_performance = accuracy_score(y_test, y_test_model)    \n",
    "accuracy_metamodel_performance = accuracy_score(y_test, y_test_metamodel) \n",
    "\n",
    "accuracy_fidelity = accuracy_score(y_test_model, y_test_metamodel)     \n",
    "\n",
    "f1_model_performance = f1_score(y_test, y_test_model)    \n",
    "f1_metamodel_performance = f1_score(y_test, y_test_metamodel) \n",
    "\n",
    "f1_fidelity = f1_score(y_test_model, y_test_metamodel)     \n",
    "\n",
    "display(metamodel_function)\n",
    "\n",
    "print('Accuracy Random Forest Model:', accuracy_model_performance)\n",
    "print('Accuracy Symbolic Metaodel:', accuracy_metamodel_performance)\n",
    "\n",
    "print('Fidelity (Accuracy) Symbolic Metaodel - Random Forest Model:', accuracy_fidelity)\n",
    "\n",
    "print('F1 Score Random Forest Model:', f1_model_performance)\n",
    "print('F1 Score Symbolic Metaodel:', f1_metamodel_performance)\n",
    "\n",
    "print('Fidelity (F1 Score) Symbolic Metaodel - Random Forest Model:', f1_fidelity)\n"
   ]
  },
  {
   "cell_type": "code",
   "execution_count": null,
   "id": "compact-relaxation",
   "metadata": {},
   "outputs": [],
   "source": [
    "metamodel.exact_expression"
   ]
  },
  {
   "cell_type": "code",
   "execution_count": null,
   "id": "backed-nashville",
   "metadata": {},
   "outputs": [],
   "source": [
    "metamodel.approx_expression"
   ]
  },
  {
   "cell_type": "code",
   "execution_count": null,
   "id": "charitable-sterling",
   "metadata": {},
   "outputs": [],
   "source": [
    "approx_fv = np.round(np.clip(calculate_function_values_from_sympy(metamodel.approx_expression, X_test_scaled.values), 0, 1)).astype(np.int64).reshape(-1,1)"
   ]
  },
  {
   "cell_type": "code",
   "execution_count": null,
   "id": "sensitive-loading",
   "metadata": {},
   "outputs": [],
   "source": [
    "exact_fv = np.round(np.clip(calculate_function_values_from_sympy(metamodel.exact_expression, X_test_scaled.values), 0, 1)).astype(np.int64).reshape(-1,1)"
   ]
  },
  {
   "cell_type": "code",
   "execution_count": null,
   "id": "systematic-absorption",
   "metadata": {},
   "outputs": [],
   "source": [
    "f1_score(y_test_model, approx_fv)    "
   ]
  },
  {
   "cell_type": "code",
   "execution_count": null,
   "id": "reliable-robertson",
   "metadata": {},
   "outputs": [],
   "source": [
    "f1_score(y_test, approx_fv)  "
   ]
  },
  {
   "cell_type": "code",
   "execution_count": null,
   "id": "confidential-history",
   "metadata": {},
   "outputs": [],
   "source": [
    "f1_score(y_test_model, exact_fv)  "
   ]
  },
  {
   "cell_type": "code",
   "execution_count": null,
   "id": "communist-fence",
   "metadata": {},
   "outputs": [],
   "source": [
    "f1_score(y_test, exact_fv)  "
   ]
  },
  {
   "cell_type": "code",
   "execution_count": null,
   "id": "found-prisoner",
   "metadata": {},
   "outputs": [],
   "source": [
    "accuracy_score(y_test_model, approx_fv)   "
   ]
  },
  {
   "cell_type": "code",
   "execution_count": null,
   "id": "biblical-shuttle",
   "metadata": {},
   "outputs": [],
   "source": [
    "accuracy_score(y_test, approx_fv)  "
   ]
  },
  {
   "cell_type": "code",
   "execution_count": null,
   "id": "flexible-first",
   "metadata": {},
   "outputs": [],
   "source": [
    "accuracy_score(y_test_model, exact_fv)  "
   ]
  },
  {
   "cell_type": "code",
   "execution_count": null,
   "id": "stuck-writer",
   "metadata": {},
   "outputs": [],
   "source": [
    "accuracy_score(y_test, exact_fv)  "
   ]
  },
  {
   "cell_type": "code",
   "execution_count": null,
   "id": "grand-meaning",
   "metadata": {},
   "outputs": [],
   "source": [
    "print('Accuracy Random Forest Model:', accuracy_model_performance)\n",
    "print('Accuracy Symbolic Metaodel:', accuracy_metamodel_performance)\n",
    "print('Accuracy Symbolic Metaodel Eval:', accuracy_metamodel_performance_eval)\n",
    "\n",
    "print('Fidelity (Accuracy) Symbolic Metaodel - Random Forest Model:', accuracy_fidelity)\n",
    "print('Fidelity (Accuracy) Symbolic Metaodel Eval - Random Forest Model:', accuracy_fidelity_eval)\n",
    "\n",
    "print('F1 Score Random Forest Model:', f1_model_performance)\n",
    "print('F1 Score Symbolic Metaodel:', f1_metamodel_performance)\n",
    "print('F1 Score Symbolic Metaodel Eval:', f1_metamodel_performance_eval)\n",
    "\n",
    "print('Fidelity (F1 Score) Symbolic Metaodel - Random Forest Model:', f1_fidelity)\n",
    "print('Fidelity (F1 Score) Symbolic Metaodel Eval - Random Forest Model:', f1_fidelity_eval)"
   ]
  },
  {
   "cell_type": "code",
   "execution_count": null,
   "id": "incorporated-fence",
   "metadata": {},
   "outputs": [],
   "source": []
  }
 ],
 "metadata": {
  "kernelspec": {
   "display_name": "Python 3 (ipykernel)",
   "language": "python",
   "name": "python3"
  },
  "language_info": {
   "codemirror_mode": {
    "name": "ipython",
    "version": 3
   },
   "file_extension": ".py",
   "mimetype": "text/x-python",
   "name": "python",
   "nbconvert_exporter": "python",
   "pygments_lexer": "ipython3",
   "version": "3.8.0"
  }
 },
 "nbformat": 4,
 "nbformat_minor": 5
}
