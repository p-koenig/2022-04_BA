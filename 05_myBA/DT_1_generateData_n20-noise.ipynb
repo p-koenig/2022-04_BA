version https://git-lfs.github.com/spec/v1
oid sha256:12a7b85b3e9f178e0950364b9cdf417004e2a357186d9911f6571388680cf5be
size 163719
