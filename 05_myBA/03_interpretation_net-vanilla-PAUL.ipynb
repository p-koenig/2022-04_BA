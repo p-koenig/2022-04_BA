version https://git-lfs.github.com/spec/v1
oid sha256:ccf89c7e02aba76f44affe13d2fbca20b2fbb71ce46401b2c8d39ec68397ade7
size 459337
