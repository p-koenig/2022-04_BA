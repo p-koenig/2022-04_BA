version https://git-lfs.github.com/spec/v1
oid sha256:e7fbc4ceb0914fd6843d9aa980fc1fcf9c498f6633dab942be6522c5f105bfbb
size 459335
