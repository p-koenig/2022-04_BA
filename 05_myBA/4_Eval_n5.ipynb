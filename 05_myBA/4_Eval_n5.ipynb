version https://git-lfs.github.com/spec/v1
oid sha256:1ef83baafce1227941fef9360fd8f6bc22a66143a3f539a26a526309818fb5fc
size 48431
