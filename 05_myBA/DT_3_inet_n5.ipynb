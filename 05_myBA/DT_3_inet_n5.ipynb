version https://git-lfs.github.com/spec/v1
oid sha256:b5e298476759b44c5cfe6c59db097ec04fe3528ea569a0d3f8bdf693a50aaa64
size 176230
