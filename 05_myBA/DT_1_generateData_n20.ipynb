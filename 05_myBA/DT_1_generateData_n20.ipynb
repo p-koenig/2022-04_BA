version https://git-lfs.github.com/spec/v1
oid sha256:a7af1bf43d3548412a7576ea90807205c9b6939b7c5e3abda6772fa899308878
size 18412
