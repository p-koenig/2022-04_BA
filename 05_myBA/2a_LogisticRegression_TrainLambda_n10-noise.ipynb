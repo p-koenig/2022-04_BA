version https://git-lfs.github.com/spec/v1
oid sha256:2b4b5275e569f25c8636a8cbf7b084b8142c76e4270e50092448b84c7bfb3846
size 21713
