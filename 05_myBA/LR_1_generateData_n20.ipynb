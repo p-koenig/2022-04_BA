version https://git-lfs.github.com/spec/v1
oid sha256:f3133b67679c1e3a2f41f83128ee90d6bcfd702ed1b07428036bea1c25cbd56c
size 11744
