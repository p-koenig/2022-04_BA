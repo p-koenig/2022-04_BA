version https://git-lfs.github.com/spec/v1
oid sha256:c6a0c0da63f942be5e1a846d1cfb6767d785f3f6680522c2b6386dab7710eaf1
size 48990
