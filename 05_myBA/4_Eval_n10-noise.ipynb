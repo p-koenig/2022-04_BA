version https://git-lfs.github.com/spec/v1
oid sha256:e6a7725500d3f9950ead65ce4ef52d78b6bbedca841c4a0f3fb974e9cb8751e2
size 65540
