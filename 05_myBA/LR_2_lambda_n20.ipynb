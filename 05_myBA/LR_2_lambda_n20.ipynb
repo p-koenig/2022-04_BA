version https://git-lfs.github.com/spec/v1
oid sha256:a1d1fa7a6666fa12445c88d49f19e0603b92d35003e59666ad636b524e1086cc
size 33465
