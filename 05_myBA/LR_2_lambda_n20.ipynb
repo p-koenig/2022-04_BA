version https://git-lfs.github.com/spec/v1
oid sha256:20b529a4e43772fe8016e4de90a886b9a50a90c1008480e87307cd6c3667de87
size 90391
