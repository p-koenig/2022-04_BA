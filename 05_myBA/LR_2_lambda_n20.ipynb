version https://git-lfs.github.com/spec/v1
oid sha256:8fb607e7ab6b6b887c9d36e4231a80017a37cf10185f5aa17fb85d7340125b3d
size 24612
