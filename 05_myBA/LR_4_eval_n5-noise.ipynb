version https://git-lfs.github.com/spec/v1
oid sha256:0deaef4c1e23f6cbeeffce26c2cdad056b9ad034f1f146d9cb0e04ac2f811806
size 48960
