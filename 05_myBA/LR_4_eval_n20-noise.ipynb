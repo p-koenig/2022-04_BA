version https://git-lfs.github.com/spec/v1
oid sha256:0c3ade0edbe0b99c873a2e3dd27767cd1f83f7a64cd7c4448cb539c1b0d2c991
size 49132
