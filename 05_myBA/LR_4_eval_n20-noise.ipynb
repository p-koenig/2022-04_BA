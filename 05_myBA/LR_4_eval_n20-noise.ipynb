version https://git-lfs.github.com/spec/v1
oid sha256:1b6d33142600d5362abb5f360d6b385ae79143b832ad33c4881bf79ca77b23c0
size 47724
