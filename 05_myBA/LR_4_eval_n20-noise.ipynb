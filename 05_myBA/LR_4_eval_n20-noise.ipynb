version https://git-lfs.github.com/spec/v1
oid sha256:1fdb022bbe8407258c22617dbc5b5016771cf36bf9b42b072b7f48f667425a0e
size 36280
