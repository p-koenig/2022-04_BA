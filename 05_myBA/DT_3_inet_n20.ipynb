version https://git-lfs.github.com/spec/v1
oid sha256:2f58b6ec07b1aafdb61faa02bfe1d80408943fc9a8c59ea9c3da941611a38a28
size 176231
