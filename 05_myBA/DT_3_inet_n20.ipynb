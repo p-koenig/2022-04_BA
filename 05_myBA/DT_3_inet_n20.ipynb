version https://git-lfs.github.com/spec/v1
oid sha256:b35a620eabebcbf6b6298341dc62471e6ca5ee6343fa55a4ec318b0615cea60c
size 404350
