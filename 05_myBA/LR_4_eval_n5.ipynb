version https://git-lfs.github.com/spec/v1
oid sha256:2490a29522476a4188bddc1a37e0dd018821b356ddbc1ca0f8051c5f35f13047
size 48854
