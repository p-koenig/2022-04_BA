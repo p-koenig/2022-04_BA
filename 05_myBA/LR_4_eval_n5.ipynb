version https://git-lfs.github.com/spec/v1
oid sha256:1aac65b70fd27aed1967a85497583cae2ec8476ec87ccf23f1cc1d503a9165dd
size 48962
