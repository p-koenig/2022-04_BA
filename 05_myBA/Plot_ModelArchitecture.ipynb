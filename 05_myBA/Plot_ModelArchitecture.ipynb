version https://git-lfs.github.com/spec/v1
oid sha256:7dc4d235e3a44251701e8db4616016e58fea356f6586fde37159397c8202213a
size 1391779
