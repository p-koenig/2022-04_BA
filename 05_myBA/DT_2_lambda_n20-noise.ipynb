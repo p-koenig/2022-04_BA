version https://git-lfs.github.com/spec/v1
oid sha256:beaf9cadc7749ec779ad96ac4a6a7458c35f4d49e3f0d806bb79e51597638b3d
size 819399
