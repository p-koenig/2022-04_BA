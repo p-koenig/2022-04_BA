version https://git-lfs.github.com/spec/v1
oid sha256:b4274035b728645d92f177ca9b2019a0d8e73521bbd2ff64065fdeea786822bc
size 784305
