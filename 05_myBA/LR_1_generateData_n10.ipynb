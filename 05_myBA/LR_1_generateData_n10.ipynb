version https://git-lfs.github.com/spec/v1
oid sha256:6edd54394db3fb663d7dc2b632d0c041318abb6c1306dba8cf2e9870c0267849
size 10728
