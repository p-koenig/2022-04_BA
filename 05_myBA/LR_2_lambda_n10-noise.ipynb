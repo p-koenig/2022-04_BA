version https://git-lfs.github.com/spec/v1
oid sha256:77da06f9b0bb4b74902bd55478ab1800582d538fdbf3cdb2bf3247ce4ac9c87f
size 27272
