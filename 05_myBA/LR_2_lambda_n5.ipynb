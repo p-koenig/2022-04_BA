version https://git-lfs.github.com/spec/v1
oid sha256:ee3acf29cf76ed462b8326266bac83f27b8d298f6a76fe7c0639a2f7a33647b6
size 21693
