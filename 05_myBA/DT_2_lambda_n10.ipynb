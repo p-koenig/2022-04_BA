version https://git-lfs.github.com/spec/v1
oid sha256:353b04b47148ddb67954ababb483d1ca0f19f79ad2dd6dcc91e683f92ab4e161
size 730146
