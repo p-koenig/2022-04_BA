version https://git-lfs.github.com/spec/v1
oid sha256:5de48618b93ca082fb3f86de176a7c30cef6cc12a2e674bcebbc54fdf72f4f75
size 222499
