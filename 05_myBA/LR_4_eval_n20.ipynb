version https://git-lfs.github.com/spec/v1
oid sha256:8d32c0876620205f2321c9c6fb1f15c0d448fe0ee1aeb40940776fd0a9dc6d9b
size 38765
