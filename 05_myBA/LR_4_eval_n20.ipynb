version https://git-lfs.github.com/spec/v1
oid sha256:3cb0f009a2ed31fe4200c6f4a675ffc84608149548511514367a6f99728d6593
size 48964
