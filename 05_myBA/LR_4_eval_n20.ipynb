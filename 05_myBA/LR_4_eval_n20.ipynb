version https://git-lfs.github.com/spec/v1
oid sha256:5478b78f8995be5413594c914c20648c778472a4a90698a3ba6d421f0314aaf9
size 47702
