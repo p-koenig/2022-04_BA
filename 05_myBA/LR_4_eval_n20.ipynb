version https://git-lfs.github.com/spec/v1
oid sha256:ac796ad440c983951c62c38fcc99b7f5d9401b0ccab25d92c137290c374fb0bf
size 48496
