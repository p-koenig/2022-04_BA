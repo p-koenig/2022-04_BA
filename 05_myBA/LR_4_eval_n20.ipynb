version https://git-lfs.github.com/spec/v1
oid sha256:1bafecaf3f6e792912c2155cb137046c2f2b24616c838ce30c9519906e50fda9
size 48773
