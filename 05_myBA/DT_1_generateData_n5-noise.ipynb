version https://git-lfs.github.com/spec/v1
oid sha256:67cd8fdabdc1c7ed237395020ceab6d0ef046a25080e8e7ba4f553085930cb9e
size 154361
