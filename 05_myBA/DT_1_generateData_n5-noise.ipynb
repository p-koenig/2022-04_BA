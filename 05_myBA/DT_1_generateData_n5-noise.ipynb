version https://git-lfs.github.com/spec/v1
oid sha256:4b75f262763aa26b22e2c36048f6d6fc3fbd9afc4dc0d449c19e27bb75523547
size 18041
