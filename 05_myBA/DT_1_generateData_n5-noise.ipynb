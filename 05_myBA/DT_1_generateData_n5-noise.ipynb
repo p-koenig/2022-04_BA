version https://git-lfs.github.com/spec/v1
oid sha256:202fcdcddf840f35534dbde0830b19c036d24dcafec4ea8fdefa3efb787f00b1
size 141788
