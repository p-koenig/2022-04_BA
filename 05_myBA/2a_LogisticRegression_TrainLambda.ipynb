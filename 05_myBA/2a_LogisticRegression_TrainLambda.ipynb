{
 "cells": [
  {
   "cell_type": "markdown",
   "id": "5b7413b1-5b9f-472e-9045-ee14068be971",
   "metadata": {},
   "source": [
    "# Config & Imports"
   ]
  },
  {
   "cell_type": "code",
   "execution_count": 1,
   "id": "d269d23f-33f7-456b-b4fc-a457414ed778",
   "metadata": {
    "tags": []
   },
   "outputs": [],
   "source": [
    "import numpy as np\n",
    "from pathlib import Path\n",
    "from sklearn.model_selection import train_test_split\n",
    "from sklearn.linear_model import LogisticRegression\n",
    "\n",
    "\n",
    "import os\n",
    "\n",
    "import keras\n",
    "from keras.models import Sequential\n",
    "from keras.layers import Dense\n",
    "from keras.layers import BatchNormalization\n",
    "\n",
    "import utilities_LR\n",
    "\n",
    "from joblib import Parallel, delayed\n",
    "\n",
    "from IPython.display import Image\n"
   ]
  },
  {
   "cell_type": "code",
   "execution_count": 2,
   "id": "49ef29c7-245e-4770-b29d-0045b6b0b033",
   "metadata": {},
   "outputs": [],
   "source": [
    "config = {\n",
    "    'data': {\n",
    "        'n_datasets': 9_000, # the number of datasets\n",
    "        \n",
    "        'n_samples': 4_000, # the number of samples per dataset\n",
    "        \n",
    "        'n_features': 10, \n",
    "        # The total number of features. \n",
    "        # These comprise n_informative informative features, n_redundant redundant features, n_repeated duplicated features and \n",
    "        # n_features-n_informative-n_redundant-n_repeated useless features drawn at random.\n",
    "        \n",
    "        'n_informative': 8,\n",
    "        # The number of informative features. Each class is composed of a number of gaussian clusters each located around the vertices \n",
    "        # of a hypercube in a subspace of dimension n_informative. For each cluster, informative features are drawn independently \n",
    "        # from N(0, 1) and then randomly linearly combined within each cluster in order to add covariance. The clusters are then \n",
    "        # placed on the vertices of the hypercube.\n",
    "        \n",
    "        'n_targets': 1,\n",
    "        # The number of targets (or labels) of the classification problem.\n",
    "    \n",
    "        'n_clusters_per_class': 2,\n",
    "        # The number of clusters per class.\n",
    "        \n",
    "        'class_sep': 3.0,\n",
    "        # class_sepfloat, default=1.0\n",
    "        # The factor multiplying the hypercube size. Larger values spread out the clusters/classes and make the classification task \n",
    "        # easier.\n",
    "        \n",
    "        'noise': 0,\n",
    "        # flip_y (fraction of samples whose class is assigned randomly)\n",
    "        \n",
    "        'shuffle': True,\n",
    "        # Shuffle the samples and the features.\n",
    "        \n",
    "        'random_state': 42,\n",
    "        # Determines random number generation for dataset creation. Pass an int for reproducible output across multiple function calls.\n",
    "    },\n",
    "    'lambda': {\n",
    "        'data_prep': {\n",
    "            'train_test_val_split': { # refer to sklearn doc\n",
    "                'test_size': 0.3,\n",
    "                'val_size': 0.1,\n",
    "                'random_state': None,\n",
    "                'shuffle': True,\n",
    "                'stratify': None\n",
    "            }\n",
    "        },\n",
    "        'model_compile': {\n",
    "            'optimizer_lambda': 'adam',\n",
    "            'loss': 'mae', #tf.keras.losses.get(config['lambda_net']['loss_lambda']),\n",
    "            'metrics': ['mae']\n",
    "        },\n",
    "        'model_fit': { # refer to keras API\n",
    "            'batch_size': 32,\n",
    "            'epochs': 100,\n",
    "            'verbose': 0,\n",
    "            'callbacks': None,\n",
    "            'shuffle': True,\n",
    "            'class_weight': None,\n",
    "            'sample_weight': None,\n",
    "            'initial_epoch': 0,\n",
    "            'steps_per_epoch': None,\n",
    "            'validation_steps': None,\n",
    "            'validation_batch_size': None,\n",
    "            'validation_freq': 1\n",
    "        }\n",
    "    },\n",
    "    'computation':{\n",
    "        'n_jobs': 30,\n",
    "        'use_gpu': True,\n",
    "        'gpu_numbers': '1',\n",
    "        'RANDOM_SEED': 1,   \n",
    "    }\n",
    "}"
   ]
  },
  {
   "cell_type": "markdown",
   "id": "a8c8c0cc-8b52-4637-aaeb-e16a16634b89",
   "metadata": {},
   "source": [
    "## Settings"
   ]
  },
  {
   "cell_type": "code",
   "execution_count": 3,
   "id": "9518e9f9-6a5d-45e8-9bea-95333bb436d5",
   "metadata": {},
   "outputs": [],
   "source": [
    "os.environ['TF_CPP_MIN_LOG_LEVEL'] = '2'\n",
    "\n",
    "os.environ['CUDA_DEVICE_ORDER']='PCI_BUS_ID'\n",
    "os.environ['CUDA_VISIBLE_DEVICES'] = config['computation']['gpu_numbers'] if config['computation']['use_gpu'] else ''\n",
    "os.environ['TF_FORCE_GPU_ALLOW_GROWTH'] = 'true' if config['computation']['use_gpu'] else ''\n",
    "\n",
    "os.environ['XLA_FLAGS'] = '--xla_gpu_cuda_data_dir=/usr/local/cuda-11.4' if config['computation']['use_gpu'] else ''#-10.1' #--xla_gpu_cuda_data_dir=/usr/local/cuda, \n",
    "os.environ['TF_XLA_FLAGS'] = '--tf_xla_auto_jit=2 ,--tf_xla_enable_xla_devices' if config['computation']['use_gpu'] else ''#'--tf_xla_auto_jit=2' #, --tf_xla_enable_xla_devices\n"
   ]
  },
  {
   "cell_type": "code",
   "execution_count": 4,
   "id": "ae09b938-bfec-4ac3-b5cd-a33ce494c401",
   "metadata": {},
   "outputs": [],
   "source": [
    "import logging\n",
    "logging.getLogger('tensorflow').disabled = True\n",
    "\n",
    "import warnings\n",
    "warnings.filterwarnings('ignore')"
   ]
  },
  {
   "cell_type": "markdown",
   "id": "76077315-f3bc-495f-92b9-df69649f3eed",
   "metadata": {},
   "source": [
    "# Load Data"
   ]
  },
  {
   "cell_type": "code",
   "execution_count": 5,
   "id": "91501bce-140a-4c6c-89c4-94317079c28c",
   "metadata": {},
   "outputs": [],
   "source": [
    "X_datasets_list = np.zeros([config['data']['n_datasets'], config['data']['n_samples'], config['data']['n_features']])\n",
    "\n",
    "if  config['data']['n_targets'] < 2:\n",
    "    y_datasets_list = np.zeros([config['data']['n_datasets'], config['data']['n_samples'], ])\n",
    "    coef_list = np.zeros([config['data']['n_datasets'], config['data']['n_features'], ])\n",
    "else:\n",
    "    y_datasets_list = np.zeros([config['data']['n_datasets'], config['data']['n_samples'], config['data']['n_targets']])\n",
    "    coef_list = np.zeros([config['data']['n_datasets'], config['data']['n_features'], config['data']['n_targets']])"
   ]
  },
  {
   "cell_type": "code",
   "execution_count": 6,
   "id": "1f258543-80c3-4faa-a6f8-04f4a48e09cc",
   "metadata": {
    "tags": []
   },
   "outputs": [],
   "source": [
    "directory = utilities_LR.data_path_LR(config)\n",
    "\n",
    "with open(directory + '/X_datasets_list_dataForLambda.npy', \"rb\") as f:\n",
    "    X_datasets_list = np.load(f, allow_pickle=True)\n",
    "with open(directory + '/y_datasets_list_dataForLambda.npy', \"rb\") as f:\n",
    "    y_datasets_list = np.load(f, allow_pickle=True)\n",
    "#with open(directory + '/coef_list_targetForInet.npy', \"rb\") as f:\n",
    "#    coef_list = np.load(f, allow_pickle=True)"
   ]
  },
  {
   "cell_type": "markdown",
   "id": "00746f77-9a97-42be-837b-e5f9fb78cde1",
   "metadata": {},
   "source": [
    "# Prepare Data (Functions)"
   ]
  },
  {
   "cell_type": "code",
   "execution_count": 7,
   "id": "ef6ed8ef-cb7e-40de-a669-6f79f753809f",
   "metadata": {},
   "outputs": [],
   "source": [
    "def train_test_val_split(X, y):\n",
    "    X_train, X_test, y_train, y_test = train_test_split(X, \n",
    "                                                        y, \n",
    "                                                        test_size=config['lambda']['data_prep']['train_test_val_split']['test_size'] + config['lambda']['data_prep']['train_test_val_split']['val_size'], \n",
    "                                                        random_state=config['lambda']['data_prep']['train_test_val_split']['random_state'], \n",
    "                                                        shuffle=config['lambda']['data_prep']['train_test_val_split']['shuffle'], \n",
    "                                                        stratify=config['lambda']['data_prep']['train_test_val_split']['stratify'])\n",
    "    X_test, X_val, y__test, y_val = train_test_split(X_test, \n",
    "                                                    y_test, \n",
    "                                                    test_size=config['lambda']['data_prep']['train_test_val_split']['val_size'] / (config['lambda']['data_prep']['train_test_val_split']['test_size'] + config['lambda']['data_prep']['train_test_val_split']['val_size']), \n",
    "                                                    random_state=config['lambda']['data_prep']['train_test_val_split']['random_state'], \n",
    "                                                    shuffle=config['lambda']['data_prep']['train_test_val_split']['shuffle'], \n",
    "                                                    stratify=config['lambda']['data_prep']['train_test_val_split']['stratify'])\n",
    "    return X_train, X_test, X_val, y_train, y_test, y_val\n",
    "    "
   ]
  },
  {
   "cell_type": "markdown",
   "id": "fd65510a-d70f-4277-800b-75ed4df35315",
   "metadata": {},
   "source": [
    "# Save Model & Metrics (functions)"
   ]
  },
  {
   "cell_type": "code",
   "execution_count": 8,
   "id": "ab5754bd-00ae-472c-827e-fc2f807f93ba",
   "metadata": {},
   "outputs": [],
   "source": [
    "def save_models(weights_list):\n",
    "    directory = utilities_LR.lambda_path_LR(config)\n",
    "    \n",
    "    Path(directory).mkdir(parents=True, exist_ok=True)\n",
    "    \n",
    "    with open(directory + '/lambda_weights_list.npy', \"wb\") as f:\n",
    "        np.save(f, weights_list, allow_pickle=True)"
   ]
  },
  {
   "cell_type": "markdown",
   "id": "77189e30-fcd7-4410-a593-dfc50360347f",
   "metadata": {},
   "source": [
    "# Train Model"
   ]
  },
  {
   "cell_type": "code",
   "execution_count": 9,
   "id": "6bf1bd26-92b3-4826-9601-e8c4b6b77654",
   "metadata": {},
   "outputs": [],
   "source": [
    "def train_nn(X, y, index):\n",
    "    # Data Prep\n",
    "    X_train, X_test, X_val, y_train, y_test, y_val = train_test_val_split(X,\n",
    "                                                                          y)\n",
    "    \n",
    "    # Model Def\n",
    "    model = Sequential()\n",
    "    model.add(BatchNormalization(input_dim=config['data']['n_features']))\n",
    "    model.add(Dense(100, activation='relu'))\n",
    "    model.add(Dense(60, activation='relu'))\n",
    "    model.add(Dense(config['data']['n_targets'], activation='sigmoid'))\n",
    "\n",
    "    \n",
    "    model.compile(optimizer=config['lambda']['model_compile']['optimizer_lambda'],\n",
    "                  loss=config['lambda']['model_compile']['loss'],\n",
    "                  metrics=config['lambda']['model_compile']['metrics']\n",
    "                 )\n",
    "    \n",
    "    # Model fit\n",
    "    history = model.fit(x=X_train,\n",
    "                        y=y_train,\n",
    "                        batch_size=config['lambda']['model_fit']['batch_size'],\n",
    "                        epochs=config['lambda']['model_fit']['epochs'],\n",
    "                        verbose=config['lambda']['model_fit']['verbose'],\n",
    "                        callbacks=config['lambda']['model_fit']['callbacks'],\n",
    "                        validation_data=(X_val, y_val),\n",
    "                        shuffle=config['lambda']['model_fit']['shuffle'],\n",
    "                        class_weight=config['lambda']['model_fit']['class_weight'],\n",
    "                        sample_weight=config['lambda']['model_fit']['sample_weight'],\n",
    "                        initial_epoch=config['lambda']['model_fit']['initial_epoch'],\n",
    "                        steps_per_epoch=config['lambda']['model_fit']['steps_per_epoch'],\n",
    "                        validation_steps=config['lambda']['model_fit']['validation_steps'],\n",
    "                        validation_batch_size=config['lambda']['model_fit']['validation_batch_size'],\n",
    "                        validation_freq=config['lambda']['model_fit']['validation_freq'],\n",
    "                       )\n",
    "    \n",
    "    \n",
    "    \n",
    "    return np.concatenate([x.flatten() for x in model.get_weights()])"
   ]
  },
  {
   "cell_type": "code",
   "execution_count": 10,
   "id": "b8ab4a7a-cae7-4fe8-b9a4-277357c64c86",
   "metadata": {
    "tags": []
   },
   "outputs": [
    {
     "name": "stderr",
     "output_type": "stream",
     "text": [
      "[Parallel(n_jobs=30)]: Using backend LokyBackend with 30 concurrent workers.\n",
      "[Parallel(n_jobs=30)]: Done   1 tasks      | elapsed:  1.3min\n",
      "[Parallel(n_jobs=30)]: Done  12 tasks      | elapsed:  1.4min\n",
      "[Parallel(n_jobs=30)]: Done  25 tasks      | elapsed:  1.4min\n",
      "[Parallel(n_jobs=30)]: Done  38 tasks      | elapsed:  2.4min\n",
      "[Parallel(n_jobs=30)]: Done  53 tasks      | elapsed:  2.5min\n",
      "[Parallel(n_jobs=30)]: Done  68 tasks      | elapsed:  3.5min\n",
      "[Parallel(n_jobs=30)]: Done  85 tasks      | elapsed:  3.5min\n",
      "[Parallel(n_jobs=30)]: Done 102 tasks      | elapsed:  4.5min\n",
      "[Parallel(n_jobs=30)]: Done 121 tasks      | elapsed:  5.4min\n",
      "[Parallel(n_jobs=30)]: Done 140 tasks      | elapsed:  5.6min\n",
      "[Parallel(n_jobs=30)]: Done 161 tasks      | elapsed:  6.6min\n",
      "[Parallel(n_jobs=30)]: Done 182 tasks      | elapsed:  7.5min\n",
      "[Parallel(n_jobs=30)]: Done 205 tasks      | elapsed:  7.7min\n",
      "[Parallel(n_jobs=30)]: Done 228 tasks      | elapsed:  8.7min\n",
      "[Parallel(n_jobs=30)]: Done 253 tasks      | elapsed:  9.7min\n",
      "[Parallel(n_jobs=30)]: Done 278 tasks      | elapsed: 10.8min\n",
      "[Parallel(n_jobs=30)]: Done 305 tasks      | elapsed: 11.7min\n",
      "[Parallel(n_jobs=30)]: Done 332 tasks      | elapsed: 12.7min\n",
      "[Parallel(n_jobs=30)]: Done 361 tasks      | elapsed: 13.7min\n",
      "[Parallel(n_jobs=30)]: Done 390 tasks      | elapsed: 14.3min\n",
      "[Parallel(n_jobs=30)]: Done 421 tasks      | elapsed: 15.8min\n",
      "[Parallel(n_jobs=30)]: Done 452 tasks      | elapsed: 16.9min\n",
      "[Parallel(n_jobs=30)]: Done 485 tasks      | elapsed: 18.0min\n",
      "[Parallel(n_jobs=30)]: Done 518 tasks      | elapsed: 19.1min\n",
      "[Parallel(n_jobs=30)]: Done 553 tasks      | elapsed: 20.2min\n",
      "[Parallel(n_jobs=30)]: Done 588 tasks      | elapsed: 21.3min\n",
      "[Parallel(n_jobs=30)]: Done 625 tasks      | elapsed: 22.4min\n",
      "[Parallel(n_jobs=30)]: Done 662 tasks      | elapsed: 24.2min\n",
      "[Parallel(n_jobs=30)]: Done 701 tasks      | elapsed: 25.4min\n",
      "[Parallel(n_jobs=30)]: Done 740 tasks      | elapsed: 26.8min\n",
      "[Parallel(n_jobs=30)]: Done 781 tasks      | elapsed: 28.3min\n",
      "[Parallel(n_jobs=30)]: Done 822 tasks      | elapsed: 29.7min\n",
      "[Parallel(n_jobs=30)]: Done 865 tasks      | elapsed: 31.1min\n",
      "[Parallel(n_jobs=30)]: Done 908 tasks      | elapsed: 32.7min\n",
      "[Parallel(n_jobs=30)]: Done 953 tasks      | elapsed: 34.2min\n",
      "[Parallel(n_jobs=30)]: Done 998 tasks      | elapsed: 35.9min\n",
      "[Parallel(n_jobs=30)]: Done 1045 tasks      | elapsed: 37.4min\n",
      "[Parallel(n_jobs=30)]: Done 1092 tasks      | elapsed: 39.1min\n",
      "[Parallel(n_jobs=30)]: Done 1141 tasks      | elapsed: 40.8min\n",
      "[Parallel(n_jobs=30)]: Done 1190 tasks      | elapsed: 42.4min\n",
      "[Parallel(n_jobs=30)]: Done 1241 tasks      | elapsed: 44.3min\n",
      "[Parallel(n_jobs=30)]: Done 1292 tasks      | elapsed: 46.2min\n",
      "[Parallel(n_jobs=30)]: Done 1345 tasks      | elapsed: 47.8min\n",
      "[Parallel(n_jobs=30)]: Done 1398 tasks      | elapsed: 49.7min\n",
      "[Parallel(n_jobs=30)]: Done 1453 tasks      | elapsed: 51.7min\n",
      "[Parallel(n_jobs=30)]: Done 1508 tasks      | elapsed: 53.8min\n",
      "[Parallel(n_jobs=30)]: Done 1565 tasks      | elapsed: 55.9min\n",
      "[Parallel(n_jobs=30)]: Done 1622 tasks      | elapsed: 58.0min\n",
      "[Parallel(n_jobs=30)]: Done 1681 tasks      | elapsed: 60.0min\n",
      "[Parallel(n_jobs=30)]: Done 1740 tasks      | elapsed: 62.1min\n",
      "[Parallel(n_jobs=30)]: Done 1801 tasks      | elapsed: 64.2min\n",
      "[Parallel(n_jobs=30)]: Done 1862 tasks      | elapsed: 66.3min\n",
      "[Parallel(n_jobs=30)]: Done 1925 tasks      | elapsed: 68.4min\n",
      "[Parallel(n_jobs=30)]: Done 1988 tasks      | elapsed: 70.5min\n",
      "[Parallel(n_jobs=30)]: Done 2053 tasks      | elapsed: 72.7min\n",
      "[Parallel(n_jobs=30)]: Done 2118 tasks      | elapsed: 74.9min\n",
      "[Parallel(n_jobs=30)]: Done 2185 tasks      | elapsed: 77.3min\n",
      "[Parallel(n_jobs=30)]: Done 2252 tasks      | elapsed: 80.1min\n",
      "[Parallel(n_jobs=30)]: Done 2321 tasks      | elapsed: 82.4min\n",
      "[Parallel(n_jobs=30)]: Done 2390 tasks      | elapsed: 84.5min\n",
      "[Parallel(n_jobs=30)]: Done 2461 tasks      | elapsed: 87.4min\n",
      "[Parallel(n_jobs=30)]: Done 2532 tasks      | elapsed: 89.8min\n",
      "[Parallel(n_jobs=30)]: Done 2605 tasks      | elapsed: 92.2min\n",
      "[Parallel(n_jobs=30)]: Done 2678 tasks      | elapsed: 95.0min\n",
      "[Parallel(n_jobs=30)]: Done 2753 tasks      | elapsed: 97.4min\n",
      "[Parallel(n_jobs=30)]: Done 2828 tasks      | elapsed: 100.2min\n",
      "[Parallel(n_jobs=30)]: Done 2905 tasks      | elapsed: 102.7min\n",
      "[Parallel(n_jobs=30)]: Done 2982 tasks      | elapsed: 105.7min\n",
      "[Parallel(n_jobs=30)]: Done 3061 tasks      | elapsed: 108.4min\n",
      "[Parallel(n_jobs=30)]: Done 3140 tasks      | elapsed: 111.1min\n",
      "[Parallel(n_jobs=30)]: Done 3221 tasks      | elapsed: 114.0min\n",
      "[Parallel(n_jobs=30)]: Done 3302 tasks      | elapsed: 116.9min\n",
      "[Parallel(n_jobs=30)]: Done 3385 tasks      | elapsed: 119.5min\n",
      "[Parallel(n_jobs=30)]: Done 3468 tasks      | elapsed: 122.5min\n",
      "[Parallel(n_jobs=30)]: Done 3553 tasks      | elapsed: 125.5min\n",
      "[Parallel(n_jobs=30)]: Done 3638 tasks      | elapsed: 128.7min\n",
      "[Parallel(n_jobs=30)]: Done 3725 tasks      | elapsed: 131.8min\n",
      "[Parallel(n_jobs=30)]: Done 3812 tasks      | elapsed: 134.8min\n",
      "[Parallel(n_jobs=30)]: Done 3901 tasks      | elapsed: 137.9min\n",
      "[Parallel(n_jobs=30)]: Done 3990 tasks      | elapsed: 141.0min\n",
      "[Parallel(n_jobs=30)]: Done 4081 tasks      | elapsed: 144.2min\n",
      "[Parallel(n_jobs=30)]: Done 4172 tasks      | elapsed: 147.4min\n",
      "[Parallel(n_jobs=30)]: Done 4265 tasks      | elapsed: 150.5min\n",
      "[Parallel(n_jobs=30)]: Done 4358 tasks      | elapsed: 153.8min\n",
      "[Parallel(n_jobs=30)]: Done 4453 tasks      | elapsed: 157.2min\n",
      "[Parallel(n_jobs=30)]: Done 4548 tasks      | elapsed: 160.4min\n",
      "[Parallel(n_jobs=30)]: Done 4645 tasks      | elapsed: 164.0min\n",
      "[Parallel(n_jobs=30)]: Done 4742 tasks      | elapsed: 167.3min\n",
      "[Parallel(n_jobs=30)]: Done 4841 tasks      | elapsed: 170.6min\n",
      "[Parallel(n_jobs=30)]: Done 4940 tasks      | elapsed: 174.0min\n",
      "[Parallel(n_jobs=30)]: Done 5041 tasks      | elapsed: 177.6min\n",
      "[Parallel(n_jobs=30)]: Done 5142 tasks      | elapsed: 181.2min\n",
      "[Parallel(n_jobs=30)]: Done 5245 tasks      | elapsed: 184.8min\n",
      "[Parallel(n_jobs=30)]: Done 5348 tasks      | elapsed: 188.3min\n",
      "[Parallel(n_jobs=30)]: Done 5453 tasks      | elapsed: 191.9min\n",
      "[Parallel(n_jobs=30)]: Done 5558 tasks      | elapsed: 195.5min\n",
      "[Parallel(n_jobs=30)]: Done 5665 tasks      | elapsed: 199.2min\n",
      "[Parallel(n_jobs=30)]: Done 5772 tasks      | elapsed: 202.8min\n",
      "[Parallel(n_jobs=30)]: Done 5881 tasks      | elapsed: 206.8min\n",
      "[Parallel(n_jobs=30)]: Done 5990 tasks      | elapsed: 210.6min\n",
      "[Parallel(n_jobs=30)]: Done 6101 tasks      | elapsed: 214.3min\n",
      "[Parallel(n_jobs=30)]: Done 6212 tasks      | elapsed: 218.2min\n",
      "[Parallel(n_jobs=30)]: Done 6325 tasks      | elapsed: 222.2min\n",
      "[Parallel(n_jobs=30)]: Done 6438 tasks      | elapsed: 226.2min\n",
      "[Parallel(n_jobs=30)]: Done 6553 tasks      | elapsed: 230.5min\n",
      "[Parallel(n_jobs=30)]: Done 6668 tasks      | elapsed: 234.5min\n",
      "[Parallel(n_jobs=30)]: Done 6785 tasks      | elapsed: 238.7min\n",
      "[Parallel(n_jobs=30)]: Done 6902 tasks      | elapsed: 242.8min\n",
      "[Parallel(n_jobs=30)]: Done 7021 tasks      | elapsed: 247.0min\n",
      "[Parallel(n_jobs=30)]: Done 7140 tasks      | elapsed: 251.2min\n",
      "[Parallel(n_jobs=30)]: Done 7261 tasks      | elapsed: 255.7min\n",
      "[Parallel(n_jobs=30)]: Done 7382 tasks      | elapsed: 260.1min\n",
      "[Parallel(n_jobs=30)]: Done 7505 tasks      | elapsed: 264.5min\n",
      "[Parallel(n_jobs=30)]: Done 7628 tasks      | elapsed: 268.8min\n",
      "[Parallel(n_jobs=30)]: Done 7753 tasks      | elapsed: 273.2min\n",
      "[Parallel(n_jobs=30)]: Done 7878 tasks      | elapsed: 277.6min\n",
      "[Parallel(n_jobs=30)]: Done 8005 tasks      | elapsed: 282.2min\n",
      "[Parallel(n_jobs=30)]: Done 8132 tasks      | elapsed: 286.9min\n",
      "[Parallel(n_jobs=30)]: Done 8261 tasks      | elapsed: 291.4min\n",
      "[Parallel(n_jobs=30)]: Done 8390 tasks      | elapsed: 295.9min\n",
      "[Parallel(n_jobs=30)]: Done 8521 tasks      | elapsed: 300.5min\n",
      "[Parallel(n_jobs=30)]: Done 8652 tasks      | elapsed: 305.3min\n",
      "[Parallel(n_jobs=30)]: Done 8785 tasks      | elapsed: 310.1min\n",
      "[Parallel(n_jobs=30)]: Done 8918 tasks      | elapsed: 314.7min\n",
      "[Parallel(n_jobs=30)]: Done 9000 out of 9000 | elapsed: 317.7min finished\n"
     ]
    }
   ],
   "source": [
    "parallel = Parallel(n_jobs=config['computation']['n_jobs'], verbose=10, backend='loky') #loky\n",
    "\n",
    "weights_list = parallel(delayed(train_nn)(X_data, y_data, index) for index, (X_data, y_data) in enumerate(zip(X_datasets_list, y_datasets_list)))\n",
    "                                  \n",
    "del parallel"
   ]
  },
  {
   "cell_type": "markdown",
   "id": "c778c426-b6e2-421c-aa06-17507dfa3a32",
   "metadata": {
    "tags": []
   },
   "source": [
    "# Inspect Metrics"
   ]
  },
  {
   "cell_type": "code",
   "execution_count": 11,
   "id": "32a0cb7e-bbd1-49c3-bfb6-1be71cfe41bf",
   "metadata": {},
   "outputs": [],
   "source": [
    "weights_list = np.stack([np.array(x) for x in weights_list])"
   ]
  },
  {
   "cell_type": "code",
   "execution_count": 12,
   "id": "dfcd173a-cba2-440d-a63d-ebd1f8b8579e",
   "metadata": {},
   "outputs": [
    {
     "data": {
      "text/plain": [
       "(9000, 7261)"
      ]
     },
     "execution_count": 12,
     "metadata": {},
     "output_type": "execute_result"
    }
   ],
   "source": [
    "weights_list.shape"
   ]
  },
  {
   "cell_type": "markdown",
   "id": "334925c3-84fb-4005-a6c5-da5915a5708a",
   "metadata": {
    "tags": []
   },
   "source": [
    "# Save Models"
   ]
  },
  {
   "cell_type": "code",
   "execution_count": 13,
   "id": "32ac9b49-0daa-4851-8f77-56354ff8d857",
   "metadata": {},
   "outputs": [],
   "source": [
    "save_models(weights_list)"
   ]
  },
  {
   "cell_type": "markdown",
   "id": "3272652d-e299-4778-820d-46708ed83b79",
   "metadata": {},
   "source": [
    "# Create Coefficients for Inet y-Data"
   ]
  },
  {
   "cell_type": "code",
   "execution_count": 14,
   "id": "3c8a2786-a049-4224-9cf9-085750f74e45",
   "metadata": {},
   "outputs": [],
   "source": [
    "def generate_base_model(config):\n",
    "    \n",
    "    model = Sequential()\n",
    "    model.add(BatchNormalization(input_dim=config['data']['n_features']))\n",
    "    model.add(Dense(100, activation='relu'))\n",
    "    model.add(Dense(60, activation='relu'))\n",
    "    model.add(Dense(config['data']['n_targets'], activation='sigmoid'))\n",
    "    \n",
    "    return model\n",
    "    \n",
    "def shape_flat_network_parameters(flat_network_parameters, target_network_parameters):\n",
    "               \n",
    "    shaped_network_parameters =[]\n",
    "    start = 0  \n",
    "    \n",
    "    for parameters in target_network_parameters:\n",
    "        target_shape = parameters.shape\n",
    "        size = np.prod(target_shape)\n",
    "        shaped_parameters = np.reshape(flat_network_parameters[start:start+size], target_shape)\n",
    "        shaped_network_parameters.append(shaped_parameters)\n",
    "        start += size\n",
    "\n",
    "    return shaped_network_parameters\n",
    "\n",
    "def network_parameters_to_network(network_parameters, config):\n",
    "    \n",
    "    model = generate_base_model(config)    \n",
    "\n",
    "    model_network_parameters = model.get_weights()    \n",
    " \n",
    "\n",
    "    # Shape weights (flat) into correct model structure\n",
    "    shaped_network_parameters = shape_flat_network_parameters(network_parameters, model_network_parameters)\n",
    "    \n",
    "    model.set_weights(shaped_network_parameters)\n",
    "    \n",
    "    model.compile(optimizer=config['lambda']['model_compile']['optimizer_lambda'],\n",
    "                  loss=config['lambda']['model_compile']['loss'],\n",
    "                  metrics=config['lambda']['model_compile']['metrics']\n",
    "                 )\n",
    "    \n",
    "    return model"
   ]
  },
  {
   "cell_type": "code",
   "execution_count": 15,
   "id": "1b913cff-45a5-44a0-8c53-bd5dc2aad428",
   "metadata": {},
   "outputs": [],
   "source": [
    "def get_LR(X, y):\n",
    "    model = LogisticRegression(penalty='l2',\n",
    "        dual=False,\n",
    "        tol=0.0001,\n",
    "        C=1.0,\n",
    "        fit_intercept=True,\n",
    "        intercept_scaling=1,\n",
    "        class_weight=None,\n",
    "        random_state=None,\n",
    "        solver='lbfgs',\n",
    "        max_iter=100,\n",
    "        multi_class='auto',\n",
    "        verbose=0,\n",
    "        warm_start=False,\n",
    "        n_jobs=None,\n",
    "        l1_ratio=None\n",
    "                              )\n",
    "    model.fit(X, y)\n",
    "    return model"
   ]
  },
  {
   "cell_type": "code",
   "execution_count": 16,
   "id": "bf97b9d8-50e5-4dc9-b6fc-f40394b9bbc6",
   "metadata": {},
   "outputs": [],
   "source": [
    "def save_coefs(coef_list):\n",
    "    directory = utilities_LR.lambda_path_LR(config)\n",
    "    \n",
    "    Path(directory).mkdir(parents=True, exist_ok=True)\n",
    "    \n",
    "    with open(directory + '/lambda_generated_coef_list_target_for_inet.npy', \"wb\") as f:\n",
    "        np.save(f, coef_list, allow_pickle=True)"
   ]
  },
  {
   "cell_type": "code",
   "execution_count": 17,
   "id": "2f6b704b-5ddb-4fa3-8390-884fe5707d95",
   "metadata": {},
   "outputs": [],
   "source": [
    "def create_coef(X_dataset, weights):\n",
    "    lambda_model =  network_parameters_to_network(weights, config)\n",
    "    y_data = lambda_model.predict(X_dataset)\n",
    "    \n",
    "    y_data = [1.0 if y>=0.5 else 0.0 for y in y_data]\n",
    "    \n",
    "    logregmodel = get_LR(X_dataset, y_data)\n",
    "    \n",
    "    return logregmodel.coef_"
   ]
  },
  {
   "cell_type": "code",
   "execution_count": 18,
   "id": "06ac763a-2932-4897-9689-bb2b951b654b",
   "metadata": {
    "tags": []
   },
   "outputs": [
    {
     "name": "stderr",
     "output_type": "stream",
     "text": [
      "[Parallel(n_jobs=30)]: Using backend LokyBackend with 30 concurrent workers.\n",
      "[Parallel(n_jobs=30)]: Done   1 tasks      | elapsed:    1.0s\n",
      "[Parallel(n_jobs=30)]: Done  12 tasks      | elapsed:    1.6s\n",
      "[Parallel(n_jobs=30)]: Done  25 tasks      | elapsed:    1.7s\n",
      "[Parallel(n_jobs=30)]: Done  38 tasks      | elapsed:    2.2s\n",
      "[Parallel(n_jobs=30)]: Done  53 tasks      | elapsed:    2.6s\n",
      "[Parallel(n_jobs=30)]: Done  68 tasks      | elapsed:    2.9s\n",
      "[Parallel(n_jobs=30)]: Done  85 tasks      | elapsed:    3.2s\n",
      "[Parallel(n_jobs=30)]: Done 102 tasks      | elapsed:    3.8s\n",
      "[Parallel(n_jobs=30)]: Done 121 tasks      | elapsed:    4.2s\n",
      "[Parallel(n_jobs=30)]: Done 140 tasks      | elapsed:    4.6s\n",
      "[Parallel(n_jobs=30)]: Done 161 tasks      | elapsed:    5.1s\n",
      "[Parallel(n_jobs=30)]: Done 182 tasks      | elapsed:    5.7s\n",
      "[Parallel(n_jobs=30)]: Done 205 tasks      | elapsed:    6.3s\n",
      "[Parallel(n_jobs=30)]: Done 228 tasks      | elapsed:    6.9s\n",
      "[Parallel(n_jobs=30)]: Done 253 tasks      | elapsed:    7.5s\n",
      "[Parallel(n_jobs=30)]: Done 278 tasks      | elapsed:    8.1s\n",
      "[Parallel(n_jobs=30)]: Done 305 tasks      | elapsed:    8.8s\n",
      "[Parallel(n_jobs=30)]: Done 332 tasks      | elapsed:    9.6s\n",
      "[Parallel(n_jobs=30)]: Done 361 tasks      | elapsed:   10.2s\n",
      "[Parallel(n_jobs=30)]: Done 390 tasks      | elapsed:   11.1s\n",
      "[Parallel(n_jobs=30)]: Done 421 tasks      | elapsed:   11.7s\n",
      "[Parallel(n_jobs=30)]: Done 452 tasks      | elapsed:   12.7s\n",
      "[Parallel(n_jobs=30)]: Done 485 tasks      | elapsed:   13.5s\n",
      "[Parallel(n_jobs=30)]: Done 518 tasks      | elapsed:   14.3s\n",
      "[Parallel(n_jobs=30)]: Done 553 tasks      | elapsed:   15.3s\n",
      "[Parallel(n_jobs=30)]: Done 588 tasks      | elapsed:   16.3s\n",
      "[Parallel(n_jobs=30)]: Done 625 tasks      | elapsed:   17.3s\n",
      "[Parallel(n_jobs=30)]: Done 662 tasks      | elapsed:   19.6s\n",
      "[Parallel(n_jobs=30)]: Done 701 tasks      | elapsed:   20.1s\n",
      "[Parallel(n_jobs=30)]: Done 740 tasks      | elapsed:   21.3s\n",
      "[Parallel(n_jobs=30)]: Done 781 tasks      | elapsed:   22.4s\n",
      "[Parallel(n_jobs=30)]: Done 822 tasks      | elapsed:   23.4s\n",
      "[Parallel(n_jobs=30)]: Done 865 tasks      | elapsed:   24.6s\n",
      "[Parallel(n_jobs=30)]: Done 908 tasks      | elapsed:   25.7s\n",
      "[Parallel(n_jobs=30)]: Done 953 tasks      | elapsed:   26.8s\n",
      "[Parallel(n_jobs=30)]: Done 998 tasks      | elapsed:   28.0s\n",
      "[Parallel(n_jobs=30)]: Done 1045 tasks      | elapsed:   29.2s\n",
      "[Parallel(n_jobs=30)]: Done 1092 tasks      | elapsed:   30.4s\n",
      "[Parallel(n_jobs=30)]: Done 1141 tasks      | elapsed:   31.8s\n",
      "[Parallel(n_jobs=30)]: Done 1190 tasks      | elapsed:   33.2s\n",
      "[Parallel(n_jobs=30)]: Done 1241 tasks      | elapsed:   34.5s\n",
      "[Parallel(n_jobs=30)]: Done 1292 tasks      | elapsed:   35.6s\n",
      "[Parallel(n_jobs=30)]: Done 1345 tasks      | elapsed:   37.0s\n",
      "[Parallel(n_jobs=30)]: Done 1398 tasks      | elapsed:   38.2s\n",
      "[Parallel(n_jobs=30)]: Done 1453 tasks      | elapsed:   39.5s\n",
      "[Parallel(n_jobs=30)]: Done 1508 tasks      | elapsed:   41.0s\n",
      "[Parallel(n_jobs=30)]: Done 1565 tasks      | elapsed:   42.4s\n",
      "[Parallel(n_jobs=30)]: Done 1622 tasks      | elapsed:   44.4s\n",
      "[Parallel(n_jobs=30)]: Done 1681 tasks      | elapsed:   45.8s\n",
      "[Parallel(n_jobs=30)]: Done 1740 tasks      | elapsed:   47.2s\n",
      "[Parallel(n_jobs=30)]: Done 1801 tasks      | elapsed:   49.0s\n",
      "[Parallel(n_jobs=30)]: Done 1862 tasks      | elapsed:   50.4s\n",
      "[Parallel(n_jobs=30)]: Done 1925 tasks      | elapsed:   52.0s\n",
      "[Parallel(n_jobs=30)]: Done 1988 tasks      | elapsed:   54.8s\n",
      "[Parallel(n_jobs=30)]: Done 2053 tasks      | elapsed:   56.1s\n",
      "[Parallel(n_jobs=30)]: Done 2118 tasks      | elapsed:   58.0s\n",
      "[Parallel(n_jobs=30)]: Done 2185 tasks      | elapsed:   59.7s\n",
      "[Parallel(n_jobs=30)]: Done 2252 tasks      | elapsed:  1.0min\n",
      "[Parallel(n_jobs=30)]: Done 2321 tasks      | elapsed:  1.1min\n",
      "[Parallel(n_jobs=30)]: Done 2390 tasks      | elapsed:  1.1min\n",
      "[Parallel(n_jobs=30)]: Done 2461 tasks      | elapsed:  1.1min\n",
      "[Parallel(n_jobs=30)]: Done 2532 tasks      | elapsed:  1.1min\n",
      "[Parallel(n_jobs=30)]: Done 2605 tasks      | elapsed:  1.2min\n",
      "[Parallel(n_jobs=30)]: Done 2678 tasks      | elapsed:  1.2min\n",
      "[Parallel(n_jobs=30)]: Done 2753 tasks      | elapsed:  1.2min\n",
      "[Parallel(n_jobs=30)]: Done 2828 tasks      | elapsed:  1.3min\n",
      "[Parallel(n_jobs=30)]: Done 2905 tasks      | elapsed:  1.3min\n",
      "[Parallel(n_jobs=30)]: Done 2982 tasks      | elapsed:  1.3min\n",
      "[Parallel(n_jobs=30)]: Done 3061 tasks      | elapsed:  1.4min\n",
      "[Parallel(n_jobs=30)]: Done 3140 tasks      | elapsed:  1.4min\n",
      "[Parallel(n_jobs=30)]: Done 3221 tasks      | elapsed:  1.4min\n",
      "[Parallel(n_jobs=30)]: Done 3302 tasks      | elapsed:  1.5min\n",
      "[Parallel(n_jobs=30)]: Done 3385 tasks      | elapsed:  1.5min\n",
      "[Parallel(n_jobs=30)]: Done 3468 tasks      | elapsed:  1.5min\n",
      "[Parallel(n_jobs=30)]: Done 3553 tasks      | elapsed:  1.6min\n",
      "[Parallel(n_jobs=30)]: Done 3638 tasks      | elapsed:  1.6min\n",
      "[Parallel(n_jobs=30)]: Done 3725 tasks      | elapsed:  1.7min\n",
      "[Parallel(n_jobs=30)]: Done 3812 tasks      | elapsed:  1.7min\n",
      "[Parallel(n_jobs=30)]: Done 3901 tasks      | elapsed:  1.8min\n",
      "[Parallel(n_jobs=30)]: Done 3990 tasks      | elapsed:  1.8min\n",
      "[Parallel(n_jobs=30)]: Done 4081 tasks      | elapsed:  1.9min\n",
      "[Parallel(n_jobs=30)]: Done 4172 tasks      | elapsed:  2.0min\n",
      "[Parallel(n_jobs=30)]: Done 4265 tasks      | elapsed:  2.0min\n",
      "[Parallel(n_jobs=30)]: Done 4358 tasks      | elapsed:  2.1min\n",
      "[Parallel(n_jobs=30)]: Done 4453 tasks      | elapsed:  2.2min\n",
      "[Parallel(n_jobs=30)]: Done 4548 tasks      | elapsed:  2.2min\n",
      "[Parallel(n_jobs=30)]: Done 4645 tasks      | elapsed:  2.3min\n",
      "[Parallel(n_jobs=30)]: Done 4742 tasks      | elapsed:  2.4min\n",
      "[Parallel(n_jobs=30)]: Done 4841 tasks      | elapsed:  2.4min\n",
      "[Parallel(n_jobs=30)]: Done 4940 tasks      | elapsed:  2.5min\n",
      "[Parallel(n_jobs=30)]: Done 5041 tasks      | elapsed:  2.5min\n",
      "[Parallel(n_jobs=30)]: Done 5142 tasks      | elapsed:  2.6min\n",
      "[Parallel(n_jobs=30)]: Done 5245 tasks      | elapsed:  2.7min\n",
      "[Parallel(n_jobs=30)]: Done 5348 tasks      | elapsed:  2.8min\n",
      "[Parallel(n_jobs=30)]: Done 5453 tasks      | elapsed:  2.8min\n",
      "[Parallel(n_jobs=30)]: Done 5558 tasks      | elapsed:  2.9min\n",
      "[Parallel(n_jobs=30)]: Done 5665 tasks      | elapsed:  2.9min\n",
      "[Parallel(n_jobs=30)]: Done 5772 tasks      | elapsed:  3.0min\n",
      "[Parallel(n_jobs=30)]: Done 5881 tasks      | elapsed:  3.1min\n",
      "[Parallel(n_jobs=30)]: Done 5990 tasks      | elapsed:  3.1min\n",
      "[Parallel(n_jobs=30)]: Done 6101 tasks      | elapsed:  3.2min\n",
      "[Parallel(n_jobs=30)]: Done 6212 tasks      | elapsed:  3.3min\n",
      "[Parallel(n_jobs=30)]: Done 6325 tasks      | elapsed:  3.4min\n",
      "[Parallel(n_jobs=30)]: Done 6438 tasks      | elapsed:  3.5min\n",
      "[Parallel(n_jobs=30)]: Done 6553 tasks      | elapsed:  3.6min\n",
      "[Parallel(n_jobs=30)]: Done 6668 tasks      | elapsed:  3.6min\n",
      "[Parallel(n_jobs=30)]: Done 6785 tasks      | elapsed:  3.7min\n",
      "[Parallel(n_jobs=30)]: Done 6902 tasks      | elapsed:  3.8min\n",
      "[Parallel(n_jobs=30)]: Done 7021 tasks      | elapsed:  3.8min\n",
      "[Parallel(n_jobs=30)]: Done 7140 tasks      | elapsed:  3.9min\n",
      "[Parallel(n_jobs=30)]: Done 7261 tasks      | elapsed:  3.9min\n",
      "[Parallel(n_jobs=30)]: Done 7382 tasks      | elapsed:  4.0min\n",
      "[Parallel(n_jobs=30)]: Done 7505 tasks      | elapsed:  4.0min\n",
      "[Parallel(n_jobs=30)]: Done 7628 tasks      | elapsed:  4.1min\n",
      "[Parallel(n_jobs=30)]: Done 7753 tasks      | elapsed:  4.1min\n",
      "[Parallel(n_jobs=30)]: Done 7878 tasks      | elapsed:  4.2min\n",
      "[Parallel(n_jobs=30)]: Done 8005 tasks      | elapsed:  4.3min\n",
      "[Parallel(n_jobs=30)]: Done 8132 tasks      | elapsed:  4.3min\n",
      "[Parallel(n_jobs=30)]: Done 8261 tasks      | elapsed:  4.4min\n",
      "[Parallel(n_jobs=30)]: Done 8390 tasks      | elapsed:  4.4min\n",
      "[Parallel(n_jobs=30)]: Done 8521 tasks      | elapsed:  4.5min\n",
      "[Parallel(n_jobs=30)]: Done 8652 tasks      | elapsed:  4.5min\n",
      "[Parallel(n_jobs=30)]: Done 8785 tasks      | elapsed:  4.6min\n",
      "[Parallel(n_jobs=30)]: Done 8918 tasks      | elapsed:  4.6min\n",
      "[Parallel(n_jobs=30)]: Done 9000 out of 9000 | elapsed:  4.7min finished\n"
     ]
    }
   ],
   "source": [
    "parallel = Parallel(n_jobs=config['computation']['n_jobs'], verbose=10, backend='loky') #loky\n",
    "\n",
    "coef_list = parallel(delayed(create_coef)(X_data, weights) for (X_data, weights) in zip(X_datasets_list, weights_list))\n",
    "                                  \n",
    "del parallel"
   ]
  },
  {
   "cell_type": "code",
   "execution_count": 19,
   "id": "7933a72f-46d1-4c8b-952e-f39afb6321f8",
   "metadata": {},
   "outputs": [],
   "source": [
    "coef_list = np.stack([np.array(x[0]) for x in coef_list])"
   ]
  },
  {
   "cell_type": "code",
   "execution_count": 20,
   "id": "2773d6da-0a58-4aa4-a495-527f0b853064",
   "metadata": {},
   "outputs": [
    {
     "data": {
      "text/plain": [
       "(9000, 10)"
      ]
     },
     "execution_count": 20,
     "metadata": {},
     "output_type": "execute_result"
    }
   ],
   "source": [
    "coef_list.shape"
   ]
  },
  {
   "cell_type": "code",
   "execution_count": 21,
   "id": "f9a24845-513b-47f0-bc77-e8e796d6440b",
   "metadata": {},
   "outputs": [],
   "source": [
    "save_coefs(coef_list)"
   ]
  },
  {
   "cell_type": "code",
   "execution_count": null,
   "id": "04800c9b-996a-4509-b1f2-1596546e335d",
   "metadata": {},
   "outputs": [],
   "source": []
  },
  {
   "cell_type": "code",
   "execution_count": null,
   "id": "5a944569-9021-46b4-ad20-7cc0e97961f3",
   "metadata": {},
   "outputs": [],
   "source": []
  }
 ],
 "metadata": {
  "kernelspec": {
   "display_name": "Python myBA",
   "language": "python",
   "name": "myba"
  },
  "language_info": {
   "codemirror_mode": {
    "name": "ipython",
    "version": 3
   },
   "file_extension": ".py",
   "mimetype": "text/x-python",
   "name": "python",
   "nbconvert_exporter": "python",
   "pygments_lexer": "ipython3",
   "version": "3.9.12"
  }
 },
 "nbformat": 4,
 "nbformat_minor": 5
}
