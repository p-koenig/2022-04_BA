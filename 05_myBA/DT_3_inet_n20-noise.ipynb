version https://git-lfs.github.com/spec/v1
oid sha256:36c2f65bbfe5b2a747de48d761e294e614d79c4ec48d6a533cb9bc1105e73d34
size 169868
