version https://git-lfs.github.com/spec/v1
oid sha256:da4b235c33e358caa90fa5e912a4d77520d67fcca44b4f48198591e6d2e02df6
size 52300
