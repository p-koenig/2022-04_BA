version https://git-lfs.github.com/spec/v1
oid sha256:505207bee10bb1268862ff850142e4b285f462b4b80252c40c8135182d1edb75
size 49895
