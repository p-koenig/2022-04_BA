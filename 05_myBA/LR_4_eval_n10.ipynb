version https://git-lfs.github.com/spec/v1
oid sha256:d00c7442bd751e6002ff4469068fa7b2b6383aeec52c6c9e26fa8de273e9cddb
size 48937
