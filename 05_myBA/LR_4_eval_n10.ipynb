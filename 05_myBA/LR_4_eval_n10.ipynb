version https://git-lfs.github.com/spec/v1
oid sha256:cef0691f230104fa51050db894ef7ba187d4e69f82d30cf1c3f407ac1cda3cd4
size 40160
