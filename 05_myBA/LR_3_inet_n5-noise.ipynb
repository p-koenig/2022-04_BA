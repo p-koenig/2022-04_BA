version https://git-lfs.github.com/spec/v1
oid sha256:0528b5b92d3bf27bc433faa52ff1443c2e8c08cd8e223ccfb8e9a87f7b1a2743
size 43402
