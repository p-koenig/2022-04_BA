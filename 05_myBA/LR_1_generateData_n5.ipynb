version https://git-lfs.github.com/spec/v1
oid sha256:33ff78a19bf9c0caf2a9adbdb46959bae289b807bb49b1fac9090dd6545e4f06
size 11402
