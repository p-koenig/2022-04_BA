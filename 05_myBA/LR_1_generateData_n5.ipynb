version https://git-lfs.github.com/spec/v1
oid sha256:001fc1312e1f7848966718a398c4d8d9b8e68ad6e719d3c025d29d3db8bed110
size 8729
