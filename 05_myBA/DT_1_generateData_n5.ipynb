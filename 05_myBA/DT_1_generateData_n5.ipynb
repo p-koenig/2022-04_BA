version https://git-lfs.github.com/spec/v1
oid sha256:2c503188841d14162afa0cb7808c6161cbf054d1a9654d0d11e9b0d0c19a7f4d
size 18050
