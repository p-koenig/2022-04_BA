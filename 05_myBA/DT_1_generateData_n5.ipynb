version https://git-lfs.github.com/spec/v1
oid sha256:13b3c21f6d3be55d886ed405a11e3bc4b4774e7f9d7e1230e91bc03f52163c58
size 18728
