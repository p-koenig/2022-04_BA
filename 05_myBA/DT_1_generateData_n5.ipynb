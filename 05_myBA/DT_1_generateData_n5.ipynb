version https://git-lfs.github.com/spec/v1
oid sha256:1b47d20da7fb4c8500a05ea903ad89dc2893b7ebdd9c42a3d0cb172bf24c8e36
size 154304
