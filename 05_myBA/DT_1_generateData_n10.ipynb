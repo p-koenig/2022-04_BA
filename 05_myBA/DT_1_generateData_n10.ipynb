version https://git-lfs.github.com/spec/v1
oid sha256:1fa2cb307a4b9727076f8282c67e5a6e101f9e090e6500b2f396fa4073ed9350
size 141787
