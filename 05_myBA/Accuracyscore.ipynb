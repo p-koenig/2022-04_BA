version https://git-lfs.github.com/spec/v1
oid sha256:b0d1fff5afa88c75346526fae391c2d8d4f0a00c2fbe2700c21638c5208eae5b
size 48478
