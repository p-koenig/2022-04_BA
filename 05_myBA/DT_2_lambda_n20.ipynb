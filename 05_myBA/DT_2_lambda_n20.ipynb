version https://git-lfs.github.com/spec/v1
oid sha256:5081e5f352fb7381647bcfd5e24db5b0112b95db459ecdd1f5c1e5c8f129d9e4
size 760550
