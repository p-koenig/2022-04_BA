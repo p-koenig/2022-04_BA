version https://git-lfs.github.com/spec/v1
oid sha256:dfdaf8cdabf3899554b8320e1f1fe9408a8d0b1c0c197d51ca8b9a1c74377d1e
size 794558
