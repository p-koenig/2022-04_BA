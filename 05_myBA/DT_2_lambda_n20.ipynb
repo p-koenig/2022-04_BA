version https://git-lfs.github.com/spec/v1
oid sha256:e1c22b8eaf8e22f3ed62b8cf80ffc013ebe6f57fae2ecf1af7044cbcd29e615b
size 310456
