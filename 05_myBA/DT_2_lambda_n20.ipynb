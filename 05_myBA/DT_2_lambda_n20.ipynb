version https://git-lfs.github.com/spec/v1
oid sha256:88cee6f48fb3dcf76a3a7212160713bd264f6c022c2658131db995880c5869d7
size 221313
