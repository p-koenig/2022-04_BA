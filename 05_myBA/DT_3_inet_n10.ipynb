version https://git-lfs.github.com/spec/v1
oid sha256:d5ca917cc1474c6d6fd9ee1701b171f25137cdb3b74060a7de4ed30164380640
size 176231
