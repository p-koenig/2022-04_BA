version https://git-lfs.github.com/spec/v1
oid sha256:6c6aa2e8b70a920290b78be7e6c697a85b8891ed26757c10d39f20dc76c762ea
size 62761
