version https://git-lfs.github.com/spec/v1
oid sha256:a18b6d787797ffd391303855d3ede3bf0273b12a9c8e36c2bf403a0b27ad00ef
size 173284
