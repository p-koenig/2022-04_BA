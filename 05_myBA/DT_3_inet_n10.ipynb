version https://git-lfs.github.com/spec/v1
oid sha256:30d6f6897398629d70350dc28468be3e9586f246768fb7ae34513dfe154b64ed
size 1055649
