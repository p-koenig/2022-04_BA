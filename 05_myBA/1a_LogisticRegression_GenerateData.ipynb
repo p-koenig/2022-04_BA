{
 "cells": [
  {
   "cell_type": "markdown",
   "id": "c9404cff-f20f-4593-9a30-3fa838661bb7",
   "metadata": {
    "tags": []
   },
   "source": [
    "# Config & Imports"
   ]
  },
  {
   "cell_type": "code",
   "execution_count": 1,
   "id": "966ca0b6-3802-4614-8d5f-8585175cab6d",
   "metadata": {},
   "outputs": [],
   "source": [
    "import sklearn.datasets\n",
    "from sklearn.linear_model import LogisticRegression\n",
    "import numpy as np\n",
    "from pathlib import Path\n",
    "from sklearn.model_selection import train_test_split\n",
    "\n",
    "from joblib import Parallel, delayed\n",
    "\n",
    "import utilities_LR\n",
    "import random\n",
    "\n",
    "import os"
   ]
  },
  {
   "cell_type": "code",
   "execution_count": 2,
   "id": "e460feab-9503-40cb-925c-d68e108ea696",
   "metadata": {},
   "outputs": [],
   "source": [
    "config = {\n",
    "    'data': {\n",
    "        'n_datasets': 10_000, # the number of datasets\n",
    "        \n",
    "        'n_samples': 5_000, # the number of samples per dataset\n",
    "        \n",
    "        'n_features': 25, \n",
    "        # The total number of features. \n",
    "        # These comprise n_informative informative features, n_redundant redundant features, n_repeated duplicated features and \n",
    "        # n_features-n_informative-n_redundant-n_repeated useless features drawn at random.\n",
    "        \n",
    "        #'n_informative': random.randint(2, 10),\n",
    "        'n_informative': 'random',\n",
    "        # The number of informative features. Each class is composed of a number of gaussian clusters each located around the vertices \n",
    "        # of a hypercube in a subspace of dimension n_informative. For each cluster, informative features are drawn independently \n",
    "        # from N(0, 1) and then randomly linearly combined within each cluster in order to add covariance. The clusters are then \n",
    "        # placed on the vertices of the hypercube.\n",
    "        # or random\n",
    "        \n",
    "        'n_targets': 1,\n",
    "        # The number of targets (or labels) of the classification problem.\n",
    "    \n",
    "        'n_clusters_per_class': 1,\n",
    "        # The number of clusters per class.\n",
    "        \n",
    "        'class_sep': 3.0,\n",
    "        # class_sepfloat, default=1.0\n",
    "        # The factor multiplying the hypercube size. Larger values spread out the clusters/classes and make the classification task \n",
    "        # easier.\n",
    "        \n",
    "        'noise': 0,\n",
    "        # flip_y (fraction of samples whose class is assigned randomly)\n",
    "        \n",
    "        'shuffle': True,\n",
    "        # Shuffle the samples and the features.\n",
    "        \n",
    "        'random_state': 42,\n",
    "        # Determines random number generation for dataset creation. Pass an int for reproducible output across multiple function calls.\n",
    "    },\n",
    "    'computation':{\n",
    "        'n_jobs': 100\n",
    "    }\n",
    "}\n"
   ]
  },
  {
   "cell_type": "markdown",
   "id": "9379e846-dbee-4742-a52d-282ff9f8808a",
   "metadata": {},
   "source": [
    "# Generate Data"
   ]
  },
  {
   "cell_type": "code",
   "execution_count": 3,
   "id": "10f08112-ac35-4d40-9405-822dcaefbd22",
   "metadata": {},
   "outputs": [],
   "source": [
    "os.environ['TF_CPP_MIN_LOG_LEVEL'] = '2'\n",
    "\n",
    "os.environ['CUDA_DEVICE_ORDER']='PCI_BUS_ID'\n",
    "os.environ['CUDA_VISIBLE_DEVICES'] = '' \n",
    "os.environ['TF_FORCE_GPU_ALLOW_GROWTH'] = ''\n",
    "\n",
    "os.environ['XLA_FLAGS'] = ''#-10.1' #--xla_gpu_cuda_data_dir=/usr/local/cuda, \n",
    "os.environ['TF_XLA_FLAGS'] = ''#'--tf_xla_auto_jit=2' #, --tf_xla_enable_xla_devices"
   ]
  },
  {
   "cell_type": "code",
   "execution_count": 4,
   "id": "5aa8b2b6-d11f-407a-b860-b97c4cdc4171",
   "metadata": {},
   "outputs": [],
   "source": [
    "X_datasets_list = np.zeros([config['data']['n_datasets'], config['data']['n_samples'], config['data']['n_features']])\n",
    "X_datasets_list_eval = np.zeros([config['data']['n_datasets'], config['data']['n_samples'], config['data']['n_features']])\n",
    "\n",
    "if  config['data']['n_targets'] < 3:\n",
    "    y_datasets_list = np.zeros([config['data']['n_datasets'], config['data']['n_samples'], ])\n",
    "    #coef_list = np.zeros([config['data']['n_datasets'], config['data']['n_features'], ])\n",
    "else:\n",
    "    y_datasets_list = np.zeros([config['data']['n_datasets'], config['data']['n_samples'], config['data']['n_targets']])\n",
    "    #coef_list = np.zeros([config['data']['n_datasets'], config['data']['n_features'], config['data']['n_targets']])\n",
    "    \n",
    "#X_valid = np.zeros([config['data']['n_datasets'], config['eval']['n_samples_train'] + config['eval']['n_samples_queryLambda'] + config['eval']['n_samples_comparison'], config['data']['n_features']])\n",
    "#y_valid = np.zeros([config['data']['n_datasets'], config['eval']['n_samples_train'] + config['eval']['n_samples_queryLambda'] + config['eval']['n_samples_comparison'], ])"
   ]
  },
  {
   "cell_type": "code",
   "execution_count": 5,
   "id": "89cf1b4e-7b1b-4153-bc22-baf5de781475",
   "metadata": {},
   "outputs": [],
   "source": [
    "def create_data(i):\n",
    "    #X, y =  sklearn.datasets.make_classification(n_samples=config['data']['n_samples'] + config['eval']['n_samples_train'] + config['eval']['n_samples_queryLambda'] + config['eval']['n_samples_comparison'], \n",
    "    n_features = config['data']['n_features']\n",
    "    if config['data']['n_informative'] == 'random':\n",
    "        n_informative = random.randint(n_features - 2, n_features)\n",
    "        n_redundant = random.randint(0, n_features-n_informative)\n",
    "        n_repeated = n_features - n_informative - n_redundant\n",
    "    else:\n",
    "        n_informative = config['data']['n_informative']\n",
    "        n_redundant = config['data']['n_features']-config['data']['n_informative']\n",
    "        n_repeated = 0\n",
    "    X, y =  sklearn.datasets.make_classification(n_samples=config['data']['n_samples'],\n",
    "                                                                                         n_features=n_features,\n",
    "                                                                                         n_informative=n_informative,\n",
    "                                                                                         n_redundant=n_redundant,\n",
    "                                                                                         n_repeated=n_repeated,\n",
    "                                                                                         n_classes=config['data']['n_targets']+1, \n",
    "                                                                                         n_clusters_per_class=config['data']['n_clusters_per_class'],\n",
    "                                                                                         weights=None,\n",
    "                                                                                         flip_y=config['data']['noise'],\n",
    "                                                                                         class_sep=config['data']['class_sep'],\n",
    "                                                                                         shuffle=config['data']['shuffle'],\n",
    "                                                                                         random_state=config['data']['random_state']+i)\n",
    "    #X_datasets_list, X_valid, y_datasets_list, y_valid = train_test_split(X, y, test_size=config['eval']['n_samples_train'] + config['eval']['n_samples_queryLambda'] + config['eval']['n_samples_comparison'])\n",
    "    \n",
    "    #model_train = LogisticRegression()\n",
    "    #model_train.fit(X_datasets_list, y_datasets_list)\n",
    "    \n",
    "    #return X_datasets_list, y_datasets_list, model_train.coef_, X_valid, y_valid\n",
    "    return X, y"
   ]
  },
  {
   "cell_type": "code",
   "execution_count": 6,
   "id": "019a8334-0fe4-4a96-a8ce-0d30d90c3206",
   "metadata": {
    "tags": []
   },
   "outputs": [
    {
     "name": "stderr",
     "output_type": "stream",
     "text": [
      "[Parallel(n_jobs=100)]: Using backend LokyBackend with 100 concurrent workers.\n",
      "[Parallel(n_jobs=100)]: Done  88 tasks      | elapsed:    5.1s\n",
      "[Parallel(n_jobs=100)]: Done 312 tasks      | elapsed:    5.8s\n",
      "[Parallel(n_jobs=100)]: Done 600 tasks      | elapsed:    6.8s\n",
      "[Parallel(n_jobs=100)]: Done 952 tasks      | elapsed:    7.9s\n",
      "[Parallel(n_jobs=100)]: Done 1368 tasks      | elapsed:    9.2s\n",
      "[Parallel(n_jobs=100)]: Done 1848 tasks      | elapsed:   11.1s\n",
      "[Parallel(n_jobs=100)]: Done 2392 tasks      | elapsed:   13.1s\n",
      "[Parallel(n_jobs=100)]: Done 3000 tasks      | elapsed:   15.5s\n",
      "[Parallel(n_jobs=100)]: Done 3672 tasks      | elapsed:   18.0s\n",
      "[Parallel(n_jobs=100)]: Done 4408 tasks      | elapsed:   20.7s\n",
      "[Parallel(n_jobs=100)]: Done 5208 tasks      | elapsed:   23.8s\n",
      "[Parallel(n_jobs=100)]: Done 6072 tasks      | elapsed:   26.7s\n",
      "[Parallel(n_jobs=100)]: Done 7000 tasks      | elapsed:   30.3s\n",
      "[Parallel(n_jobs=100)]: Done 7992 tasks      | elapsed:   33.8s\n",
      "[Parallel(n_jobs=100)]: Done 9048 tasks      | elapsed:   37.7s\n",
      "[Parallel(n_jobs=100)]: Done 10000 out of 10000 | elapsed:   41.1s finished\n"
     ]
    }
   ],
   "source": [
    "parallel = Parallel(n_jobs=config['computation']['n_jobs'], verbose=3, backend='loky') #loky\n",
    "\n",
    "\n",
    "results= parallel(delayed(create_data)(i) for i in range(config['data']['n_datasets']))\n",
    "                                  \n",
    "del parallel"
   ]
  },
  {
   "cell_type": "code",
   "execution_count": 7,
   "id": "7dac45e4-0eb5-4872-98a3-0ee19636415a",
   "metadata": {},
   "outputs": [],
   "source": [
    "for i in range(config['data']['n_datasets']):\n",
    "    X_datasets_list[i] = results[i][0]\n",
    "    y_datasets_list[i] = results[i][1]\n",
    "    #coef_list[i] = results[i][2]\n",
    "    #X_valid[i] = results[i][3]\n",
    "    #y_valid[i] = results[i][4]"
   ]
  },
  {
   "cell_type": "code",
   "execution_count": 8,
   "id": "34a94109-b7b9-4caa-b1e8-fd4152a08547",
   "metadata": {},
   "outputs": [
    {
     "data": {
      "text/plain": [
       "(10000, 5000, 25)"
      ]
     },
     "execution_count": 8,
     "metadata": {},
     "output_type": "execute_result"
    }
   ],
   "source": [
    "X_datasets_list.shape"
   ]
  },
  {
   "cell_type": "code",
   "execution_count": 9,
   "id": "d03b672b-c8c4-49e6-ae22-1ef3784dccda",
   "metadata": {},
   "outputs": [
    {
     "data": {
      "text/plain": [
       "(10000, 5000)"
      ]
     },
     "execution_count": 9,
     "metadata": {},
     "output_type": "execute_result"
    }
   ],
   "source": [
    "y_datasets_list.shape"
   ]
  },
  {
   "cell_type": "code",
   "execution_count": 10,
   "id": "d442dbf2-85ca-4f76-bd7d-8d8cd37d0b91",
   "metadata": {},
   "outputs": [],
   "source": [
    "#coef_list.shape"
   ]
  },
  {
   "cell_type": "code",
   "execution_count": 11,
   "id": "4f4c9287-41b0-4394-900e-425e2012060c",
   "metadata": {},
   "outputs": [],
   "source": [
    "#X_valid.shape"
   ]
  },
  {
   "cell_type": "code",
   "execution_count": 12,
   "id": "b9d0e1cc-5e6c-45a7-a0fc-179e46fe8811",
   "metadata": {},
   "outputs": [],
   "source": [
    "#y_valid.shape"
   ]
  },
  {
   "cell_type": "markdown",
   "id": "42892918-b2e1-47b0-96b1-20fcf3ed3a81",
   "metadata": {
    "tags": []
   },
   "source": [
    "# Save Data"
   ]
  },
  {
   "cell_type": "code",
   "execution_count": 13,
   "id": "1feceb8c-29e4-4674-9cef-9d7bc59614ca",
   "metadata": {},
   "outputs": [],
   "source": [
    "directory = utilities_LR.data_path_LR(config)\n",
    "\n",
    "Path(directory).mkdir(parents=True, exist_ok=True)\n",
    "\n",
    "with open(directory + '/X_datasets_list_dataForLambda.npy', \"wb\") as f:\n",
    "    np.save(f, X_datasets_list)\n",
    "with open(directory + '/y_datasets_list_dataForLambda.npy', \"wb\") as f:\n",
    "    np.save(f, y_datasets_list)\n",
    "\n",
    "#np.save(directory + '/coef_list_targetForInet.npy', coef_list, allow_pickle=True)\n",
    "\n",
    "#np.save(directory + '/X_datasets_valid.npy', X_valid, allow_pickle=True)\n",
    "#np.save(directory + '/y_datasets_valid.npy', y_valid, allow_pickle=True)"
   ]
  },
  {
   "cell_type": "code",
   "execution_count": null,
   "id": "8f470915-5e65-4048-918c-140a49da5064",
   "metadata": {},
   "outputs": [],
   "source": []
  }
 ],
 "metadata": {
  "kernelspec": {
   "display_name": "Python myBA",
   "language": "python",
   "name": "myba"
  },
  "language_info": {
   "codemirror_mode": {
    "name": "ipython",
    "version": 3
   },
   "file_extension": ".py",
   "mimetype": "text/x-python",
   "name": "python",
   "nbconvert_exporter": "python",
   "pygments_lexer": "ipython3",
   "version": "3.9.12"
  }
 },
 "nbformat": 4,
 "nbformat_minor": 5
}
