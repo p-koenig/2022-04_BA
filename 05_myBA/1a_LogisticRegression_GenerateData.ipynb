{
 "cells": [
  {
   "cell_type": "markdown",
   "id": "c9404cff-f20f-4593-9a30-3fa838661bb7",
   "metadata": {
    "tags": []
   },
   "source": [
    "# Config & Imports"
   ]
  },
  {
   "cell_type": "code",
   "execution_count": 13,
   "id": "e460feab-9503-40cb-925c-d68e108ea696",
   "metadata": {},
   "outputs": [],
   "source": [
    "config = {\n",
    "    'data': {\n",
    "        'n_datasets': 10_000, # the number of datasets\n",
    "        \n",
    "        'n_samples': 5_000, # the number of samples per dataset\n",
    "        \n",
    "        'n_features': 20, \n",
    "        # The total number of features. \n",
    "        # These comprise n_informative informative features, n_redundant redundant features, n_repeated duplicated features and \n",
    "        # n_features-n_informative-n_redundant-n_repeated useless features drawn at random.\n",
    "        \n",
    "        'n_informative': 10,\n",
    "        # The number of informative features. Each class is composed of a number of gaussian clusters each located around the vertices \n",
    "        # of a hypercube in a subspace of dimension n_informative. For each cluster, informative features are drawn independently \n",
    "        # from N(0, 1) and then randomly linearly combined within each cluster in order to add covariance. The clusters are then \n",
    "        # placed on the vertices of the hypercube.\n",
    "        \n",
    "        'n_targets': 2,\n",
    "        # The number of targets (or labels) of the classification problem.\n",
    "    \n",
    "        'n_clusters_per_class': 2,\n",
    "        # The number of clusters per class.\n",
    "        \n",
    "        'class_sep': 1.0,\n",
    "        # class_sepfloat, default=1.0\n",
    "        # The factor multiplying the hypercube size. Larger values spread out the clusters/classes and make the classification task \n",
    "        # easier.\n",
    "        \n",
    "        'noise': 0.01,\n",
    "        # flip_y (fraction of samples whose class is assigned randomly)\n",
    "        \n",
    "        'shuffle': True,\n",
    "        # Shuffle the samples and the features.\n",
    "        \n",
    "        'random_state': None,\n",
    "        # Determines random number generation for dataset creation. Pass an int for reproducible output across multiple function calls.\n",
    "    },    \n",
    "    'computation':{\n",
    "        'n_jobs': 10,\n",
    "        'use_gpu': True,\n",
    "        'gpu_numbers': '4',\n",
    "        'RANDOM_SEED': 1,   \n",
    "    }\n",
    "}\n"
   ]
  },
  {
   "cell_type": "code",
   "execution_count": 14,
   "id": "966ca0b6-3802-4614-8d5f-8585175cab6d",
   "metadata": {},
   "outputs": [],
   "source": [
    "import sklearn.datasets\n",
    "from sklearn.linear_model import LogisticRegression\n",
    "import numpy as np\n",
    "from pathlib import Path\n",
    "\n",
    "import utilities_LR"
   ]
  },
  {
   "cell_type": "markdown",
   "id": "9379e846-dbee-4742-a52d-282ff9f8808a",
   "metadata": {},
   "source": [
    "# Generate Data"
   ]
  },
  {
   "cell_type": "code",
   "execution_count": 15,
   "id": "5aa8b2b6-d11f-407a-b860-b97c4cdc4171",
   "metadata": {},
   "outputs": [],
   "source": [
    "X_datasets_list = np.zeros([config['data']['n_datasets'], config['data']['n_samples'], config['data']['n_features']])\n",
    "\n",
    "if  config['data']['n_targets'] < 3:\n",
    "    y_datasets_list = np.zeros([config['data']['n_datasets'], config['data']['n_samples'], ])\n",
    "    coef_list = np.zeros([config['data']['n_datasets'], config['data']['n_features'], ])\n",
    "else:\n",
    "    y_datasets_list = np.zeros([config['data']['n_datasets'], config['data']['n_samples'], config['data']['n_targets']])\n",
    "    coef_list = np.zeros([config['data']['n_datasets'], config['data']['n_features'], config['data']['n_targets']])"
   ]
  },
  {
   "cell_type": "code",
   "execution_count": 16,
   "id": "c5a5779f-8e08-49eb-8ce5-8f6b73b2ca21",
   "metadata": {},
   "outputs": [],
   "source": [
    "for i in range(config['data']['n_datasets']):\n",
    "    X_datasets_list[i], y_datasets_list[i] = sklearn.datasets.make_classification(n_samples=config['data']['n_samples'], \n",
    "                                                                                         n_features=config['data']['n_features'],\n",
    "                                                                                         n_informative=config['data']['n_informative'], \n",
    "                                                                                         n_classes=config['data']['n_targets'], \n",
    "                                                                                         n_clusters_per_class=config['data']['n_clusters_per_class'],\n",
    "                                                                                         weights=None,\n",
    "                                                                                         flip_y=config['data']['noise'],\n",
    "                                                                                         class_sep=config['data']['class_sep'],\n",
    "                                                                                         shuffle=config['data']['shuffle'],\n",
    "                                                                                         random_state=config['data']['random_state'])\n",
    "    model = LogisticRegression()\n",
    "    model.fit(X_datasets_list[i], y_datasets_list[i])\n",
    "    coef_list[i] = model.coef_"
   ]
  },
  {
   "cell_type": "code",
   "execution_count": 17,
   "id": "e85d5f74-e615-4d2a-8120-f39e1f9e0183",
   "metadata": {},
   "outputs": [
    {
     "data": {
      "text/plain": [
       "array([ 0.00495198, -0.01854766, -0.03919359,  0.04854344,  0.0091744 ,\n",
       "       -0.07450365, -0.04318035,  0.03160309, -0.11410224, -0.01132964,\n",
       "        0.00093653,  0.15812977, -0.24470446, -0.2362686 ,  0.00529975,\n",
       "       -0.03122651, -0.50247647, -0.02148568,  0.04833143, -0.04019827])"
      ]
     },
     "execution_count": 17,
     "metadata": {},
     "output_type": "execute_result"
    }
   ],
   "source": [
    "coef_list[0]"
   ]
  },
  {
   "cell_type": "markdown",
   "id": "42892918-b2e1-47b0-96b1-20fcf3ed3a81",
   "metadata": {
    "tags": []
   },
   "source": [
    "# Save Data"
   ]
  },
  {
   "cell_type": "code",
   "execution_count": 18,
   "id": "68c1b313-ce4b-4ed2-8af2-9e95cbd046f4",
   "metadata": {
    "tags": []
   },
   "outputs": [],
   "source": [
    "#directory = utilities_LR.data_path_LR(config)\n",
    "#\n",
    "#Path(directory).mkdir(parents=True, exist_ok=True)\n",
    "#\n",
    "#with open(directory + '/X_datasets_list_dataForLambda.npy', \"wb\") as f:\n",
    "#    np.save(f, X_datasets_list)\n",
    "#with open(directory + '/y_datasets_list_dataForLambda.npy', \"wb\") as f:\n",
    "#    np.save(f, y_datasets_list)\n",
    "#with open(directory + '/coef_list_targetForInet.npy', \"wb\") as f:\n",
    "#    np.save(f, coef_list)"
   ]
  },
  {
   "cell_type": "code",
   "execution_count": 19,
   "id": "1feceb8c-29e4-4674-9cef-9d7bc59614ca",
   "metadata": {},
   "outputs": [],
   "source": [
    "directory = utilities_LR.data_path_LR(config)\n",
    "\n",
    "Path(directory).mkdir(parents=True, exist_ok=True)\n",
    "\n",
    "with open(directory + '/X_datasets_list_dataForLambda.npy', \"wb\") as f:\n",
    "    np.save(f, X_datasets_list)\n",
    "with open(directory + '/y_datasets_list_dataForLambda.npy', \"wb\") as f:\n",
    "    np.save(f, y_datasets_list)\n",
    "\n",
    "np.save(directory + '/coef_list_targetForInet.npy', coef_list, allow_pickle=True)"
   ]
  },
  {
   "cell_type": "code",
   "execution_count": null,
   "id": "4ef80e86-9b72-4f89-9e7b-ac3cfd82b367",
   "metadata": {},
   "outputs": [],
   "source": []
  }
 ],
 "metadata": {
  "kernelspec": {
   "display_name": "Python myBA",
   "language": "python",
   "name": "myba"
  },
  "language_info": {
   "codemirror_mode": {
    "name": "ipython",
    "version": 3
   },
   "file_extension": ".py",
   "mimetype": "text/x-python",
   "name": "python",
   "nbconvert_exporter": "python",
   "pygments_lexer": "ipython3",
   "version": "3.9.12"
  }
 },
 "nbformat": 4,
 "nbformat_minor": 5
}
