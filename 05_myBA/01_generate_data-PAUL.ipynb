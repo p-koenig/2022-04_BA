version https://git-lfs.github.com/spec/v1
oid sha256:da8937b44001f912d02ac42afcad7cbf9c008bd5f73ee94eeaf8de7f9908da6d
size 153421
