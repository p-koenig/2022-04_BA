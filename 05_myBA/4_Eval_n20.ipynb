version https://git-lfs.github.com/spec/v1
oid sha256:8a96c1f27f0ab7ee141cf9fd19d0e33dfe6366dc8b829ba20b89a3c5c0dae888
size 73076
