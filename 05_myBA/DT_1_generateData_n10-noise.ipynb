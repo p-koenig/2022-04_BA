version https://git-lfs.github.com/spec/v1
oid sha256:1c1f42714495cbb6267b8b75a8573318ca81134f46ff53e1f0cf20677e5d6439
size 18093
