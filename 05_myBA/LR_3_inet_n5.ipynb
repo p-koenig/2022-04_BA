version https://git-lfs.github.com/spec/v1
oid sha256:132e8c50a4d16c6a14a2b28cc69a1f6dabd4945324b7f2870eec894745b1bb4e
size 54143
