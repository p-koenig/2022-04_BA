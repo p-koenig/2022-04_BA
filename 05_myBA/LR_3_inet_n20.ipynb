version https://git-lfs.github.com/spec/v1
oid sha256:8177bc463c093d0b42f7e1fa06e0fe1344f81ebbc06aa1ffb1c438996edae3d7
size 29163
