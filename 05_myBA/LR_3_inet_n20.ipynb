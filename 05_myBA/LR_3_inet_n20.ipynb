version https://git-lfs.github.com/spec/v1
oid sha256:efe7817079cb9f2e22e711bf1b3c5b0594c37c8095c914558ce359c0505127cf
size 29573
