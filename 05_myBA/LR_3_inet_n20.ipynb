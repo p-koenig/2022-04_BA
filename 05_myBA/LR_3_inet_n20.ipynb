version https://git-lfs.github.com/spec/v1
oid sha256:3dde92f69956c5a678756c51c4fbd5d658ca173f65f21cb5c37d515d12efa518
size 35202
