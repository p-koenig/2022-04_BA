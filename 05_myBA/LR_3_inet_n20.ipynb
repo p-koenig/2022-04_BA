version https://git-lfs.github.com/spec/v1
oid sha256:d330eccad17988b14c85c920665ca9a701405e7229ffe4d8c65170271a48378c
size 33654
