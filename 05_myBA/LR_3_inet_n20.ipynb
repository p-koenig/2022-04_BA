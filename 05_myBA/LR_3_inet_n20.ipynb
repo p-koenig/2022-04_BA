version https://git-lfs.github.com/spec/v1
oid sha256:929aa5bb27cf1bf3c0e0018c7076c2085e16aac8a791e0675799dc9d1ed82695
size 35515
