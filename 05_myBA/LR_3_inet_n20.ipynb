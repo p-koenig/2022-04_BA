version https://git-lfs.github.com/spec/v1
oid sha256:09a8f4e6fd7c52389b3404100909b6f94fcb34c8a568c3a29e037a85f22aec91
size 32929
