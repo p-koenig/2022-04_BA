version https://git-lfs.github.com/spec/v1
oid sha256:d4ee5789a3edc95b8bcce0e3a44966cbf0eb7009dc245cd994bf102f5bb6a66a
size 25284
