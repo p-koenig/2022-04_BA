version https://git-lfs.github.com/spec/v1
oid sha256:bb2e49ad1d3b23a21e7d22e2e2953331fef43fec6656124de8c25e7bb2c771c3
size 38862
