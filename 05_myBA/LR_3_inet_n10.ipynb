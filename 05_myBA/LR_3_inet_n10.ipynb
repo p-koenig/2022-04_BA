version https://git-lfs.github.com/spec/v1
oid sha256:9bc7e3edb613d0af7f392adcf1ec895d8818bab44e418a97acfae677ad595388
size 39119
