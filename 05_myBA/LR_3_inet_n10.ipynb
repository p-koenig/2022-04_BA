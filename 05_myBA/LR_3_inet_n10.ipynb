version https://git-lfs.github.com/spec/v1
oid sha256:841518ef907eb71eb01ce689dc8809214758876478979ed70f26726f2357fffa
size 46734
