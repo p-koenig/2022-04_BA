version https://git-lfs.github.com/spec/v1
oid sha256:9469131f623856d72fb3aa6cc1fda3c3d61b74c3fc4f7a5df864e6fd739ceff6
size 23549
