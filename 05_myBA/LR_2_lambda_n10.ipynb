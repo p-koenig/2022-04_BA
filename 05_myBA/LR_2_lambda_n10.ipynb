version https://git-lfs.github.com/spec/v1
oid sha256:decf82d32b39e7a6f9b1b2752cf7139f33ee038f71f502c2d9c1128371f37dde
size 89622
