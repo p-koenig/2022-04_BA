version https://git-lfs.github.com/spec/v1
oid sha256:9590ea3abaf7bb93dd1e884c6afe0c01c2f1ba9cc2a4d7fbcfac4a81006cdfd9
size 146103995
