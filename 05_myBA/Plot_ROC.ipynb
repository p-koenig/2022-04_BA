version https://git-lfs.github.com/spec/v1
oid sha256:adb971ff60ca663cc7a6b4555d2382f2d4ec8d3e896e0017cbb879b18db29701
size 142670901
