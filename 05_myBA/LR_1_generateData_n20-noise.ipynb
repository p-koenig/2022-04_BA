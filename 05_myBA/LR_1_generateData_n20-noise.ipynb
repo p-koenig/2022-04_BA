version https://git-lfs.github.com/spec/v1
oid sha256:fa50cec19a1744386a26e2fdf2193b2566e274622a39d398f4da3a90601a2bc3
size 11192
