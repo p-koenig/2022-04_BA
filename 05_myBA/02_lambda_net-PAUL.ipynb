version https://git-lfs.github.com/spec/v1
oid sha256:90b9dfa3584c05b7b9d67d3b3c22a7ee1d2b59fee2ecb1891be7abe60fe029cc
size 765143
