{
 "cells": [
  {
   "cell_type": "markdown",
   "id": "c9404cff-f20f-4593-9a30-3fa838661bb7",
   "metadata": {
    "tags": []
   },
   "source": [
    "# Config & Imports"
   ]
  },
  {
   "cell_type": "code",
   "execution_count": 1,
   "id": "e460feab-9503-40cb-925c-d68e108ea696",
   "metadata": {},
   "outputs": [],
   "source": [
    "config = {\n",
    "    'data': {\n",
    "        'n_datasets': 10_000, # the number of datasets\n",
    "        \n",
    "        'n_samples': 5_000, # the number of samples per dataset\n",
    "        \n",
    "        'n_features': 10, # the number of features\n",
    "        \n",
    "        'n_informative': 10,\n",
    "        # The number of informative features, i.e., the number of features used to build the linear model used to generate the output.\n",
    "        \n",
    "        'n_targets': 1,\n",
    "        # The number of regression targets, i.e., the dimension of the y output vector associated with a sample. By default, the output is a scalar.\n",
    "    \n",
    "        'bias': 0.0,\n",
    "        # The bias term in the underlying linear model\n",
    "        \n",
    "        'effective_rank': 5,\n",
    "        # if not None:\n",
    "            # The approximate number of singular vectors required to explain most of the input data by linear combinations. Using this kind of singular spectrum in the input allows the generator to reproduce the correlations often observed in practice.\n",
    "        # if None:\n",
    "            # The input set is well conditioned, centered and gaussian with unit variance.\n",
    "        \n",
    "        'tail_strength': 0.5,\n",
    "        # The relative importance of the fat noisy tail of the singular values profile if effective_rank is not None. When a float, it should be between 0 and 1.\n",
    "        \n",
    "        'noise': 5,\n",
    "        # The standard deviation of the gaussian noise applied to the output.\n",
    "        \n",
    "        'shuffle': True,\n",
    "        # Shuffle the samples and the features.\n",
    "        \n",
    "        'random_state': None,\n",
    "        # Determines random number generation for dataset creation. Pass an int for reproducible output across multiple function calls.\n",
    "    },    \n",
    "    'computation':{\n",
    "        'n_jobs': 10,\n",
    "        'use_gpu': True,\n",
    "        'gpu_numbers': '4',\n",
    "        'RANDOM_SEED': 1,   \n",
    "    }\n",
    "}\n"
   ]
  },
  {
   "cell_type": "code",
   "execution_count": 2,
   "id": "966ca0b6-3802-4614-8d5f-8585175cab6d",
   "metadata": {},
   "outputs": [],
   "source": [
    "import sklearn.datasets\n",
    "import numpy as np\n",
    "from pathlib import Path\n",
    "\n",
    "import utilities"
   ]
  },
  {
   "cell_type": "markdown",
   "id": "9379e846-dbee-4742-a52d-282ff9f8808a",
   "metadata": {},
   "source": [
    "# Generate Data"
   ]
  },
  {
   "cell_type": "code",
   "execution_count": 3,
   "id": "5aa8b2b6-d11f-407a-b860-b97c4cdc4171",
   "metadata": {},
   "outputs": [],
   "source": [
    "X_datasets_list = np.zeros([config['data']['n_datasets'], config['data']['n_samples'], config['data']['n_features']])\n",
    "\n",
    "if  config['data']['n_targets'] < 2:\n",
    "    y_datasets_list = np.zeros([config['data']['n_datasets'], config['data']['n_samples'], ])\n",
    "    coef_list = np.zeros([config['data']['n_datasets'], config['data']['n_features'], ])\n",
    "else:\n",
    "    y_datasets_list = np.zeros([config['data']['n_datasets'], config['data']['n_samples'], config['data']['n_targets']])\n",
    "    coef_list = np.zeros([config['data']['n_datasets'], config['data']['n_features'], config['data']['n_targets']])"
   ]
  },
  {
   "cell_type": "code",
   "execution_count": 4,
   "id": "c5a5779f-8e08-49eb-8ce5-8f6b73b2ca21",
   "metadata": {},
   "outputs": [],
   "source": [
    "for i in range(config['data']['n_datasets']):\n",
    "    X_datasets_list[i], y_datasets_list[i], coef_list[i] = sklearn.datasets.make_regression(n_samples=config['data']['n_samples'], \n",
    "                                                                                         n_features=config['data']['n_features'],\n",
    "                                                                                         n_informative=config['data']['n_informative'], \n",
    "                                                                                         n_targets=config['data']['n_targets'], \n",
    "                                                                                         bias=config['data']['bias'], \n",
    "                                                                                         effective_rank=config['data']['effective_rank'], \n",
    "                                                                                         tail_strength=config['data']['tail_strength'], \n",
    "                                                                                         noise=config['data']['noise'], \n",
    "                                                                                         shuffle=config['data']['shuffle'], \n",
    "                                                                                         coef=True, \n",
    "                                                                                         random_state=config['data']['random_state'])"
   ]
  },
  {
   "cell_type": "markdown",
   "id": "42892918-b2e1-47b0-96b1-20fcf3ed3a81",
   "metadata": {
    "tags": []
   },
   "source": [
    "# Save Data"
   ]
  },
  {
   "cell_type": "code",
   "execution_count": 5,
   "id": "68c1b313-ce4b-4ed2-8af2-9e95cbd046f4",
   "metadata": {
    "tags": []
   },
   "outputs": [],
   "source": [
    "directory = utilities.data_path_LR(config)\n",
    "\n",
    "Path(directory).mkdir(parents=True, exist_ok=True)\n",
    "\n",
    "with open(directory + '/X_datasets_list_dataForLambda.npy', \"wb\") as f:\n",
    "    np.save(f, X_datasets_list)\n",
    "with open(directory + '/y_datasets_list_dataForLambda.npy', \"wb\") as f:\n",
    "    np.save(f, y_datasets_list)\n",
    "with open(directory + '/coef_list_targetForInet.npy', \"wb\") as f:\n",
    "    np.save(f, coef_list)"
   ]
  },
  {
   "cell_type": "code",
   "execution_count": null,
   "id": "1feceb8c-29e4-4674-9cef-9d7bc59614ca",
   "metadata": {},
   "outputs": [],
   "source": []
  }
 ],
 "metadata": {
  "kernelspec": {
   "display_name": "Python myBA",
   "language": "python",
   "name": "myba"
  },
  "language_info": {
   "codemirror_mode": {
    "name": "ipython",
    "version": 3
   },
   "file_extension": ".py",
   "mimetype": "text/x-python",
   "name": "python",
   "nbconvert_exporter": "python",
   "pygments_lexer": "ipython3",
   "version": "3.9.12"
  }
 },
 "nbformat": 4,
 "nbformat_minor": 5
}
