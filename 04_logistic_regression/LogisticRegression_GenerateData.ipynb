{
 "cells": [
  {
   "cell_type": "markdown",
   "id": "c9404cff-f20f-4593-9a30-3fa838661bb7",
   "metadata": {},
   "source": [
    "# Config & Imports"
   ]
  },
  {
   "cell_type": "code",
   "execution_count": 61,
   "id": "e460feab-9503-40cb-925c-d68e108ea696",
   "metadata": {},
   "outputs": [],
   "source": [
    "config = {\n",
    "    'data': {\n",
    "        'n_datasets': 100, # the number of datasets\n",
    "        \n",
    "        'n_samples': 100, # the number of samples per dataset\n",
    "        \n",
    "        'n_features': 10, # the number of features\n",
    "        \n",
    "        'n_informative': 10,\n",
    "        # The number of informative features, i.e., the number of features used to build the linear model used to generate the output.\n",
    "        \n",
    "        'n_targets': 2,\n",
    "        # The number of regression targets, i.e., the dimension of the y output vector associated with a sample. By default, the output is a scalar.\n",
    "    \n",
    "        'bias': 0.0,\n",
    "        # The bias term in the underlying linear model\n",
    "        \n",
    "        'effective_rank': None,\n",
    "        # if not None:\n",
    "            # The approximate number of singular vectors required to explain most of the input data by linear combinations. Using this kind of singular spectrum in the input allows the generator to reproduce the correlations often observed in practice.\n",
    "        # if None:\n",
    "            # The input set is well conditioned, centered and gaussian with unit variance.\n",
    "        \n",
    "        'tail_strength': 0.5,\n",
    "        # The relative importance of the fat noisy tail of the singular values profile if effective_rank is not None. When a float, it should be between 0 and 1.\n",
    "        \n",
    "        'noise': 0.0,\n",
    "        # The standard deviation of the gaussian noise applied to the output.\n",
    "        \n",
    "        'shuffle': True,\n",
    "        # Shuffle the samples and the features.\n",
    "        \n",
    "        'random_state': None,\n",
    "        # Determines random number generation for dataset creation. Pass an int for reproducible output across multiple function calls.\n",
    "    },    \n",
    "    'computation':{\n",
    "        'n_jobs': 10,\n",
    "        'use_gpu': False,\n",
    "        'gpu_numbers': '0',\n",
    "        'RANDOM_SEED': 1,   \n",
    "    }\n",
    "}\n"
   ]
  },
  {
   "cell_type": "code",
   "execution_count": 62,
   "id": "966ca0b6-3802-4614-8d5f-8585175cab6d",
   "metadata": {},
   "outputs": [],
   "source": [
    "import sklearn.datasets\n",
    "import numpy as np"
   ]
  },
  {
   "cell_type": "markdown",
   "id": "9379e846-dbee-4742-a52d-282ff9f8808a",
   "metadata": {},
   "source": [
    "# Generate Data"
   ]
  },
  {
   "cell_type": "code",
   "execution_count": 63,
   "id": "9b5f13c8-b337-4da1-bf9d-11ee13bcc8ba",
   "metadata": {},
   "outputs": [],
   "source": [
    "X_datasets_list = np.zeros([config['data']['n_datasets'], config['data']['n_samples'], config['data']['n_features']])\n",
    "\n",
    "if  config['data']['n_targets'] < 2:\n",
    "    y_datasets_list = np.zeros([config['data']['n_datasets'], config['data']['n_samples'], ])\n",
    "    coef_list = np.zeros([config['data']['n_datasets'], config['data']['n_features'], ])\n",
    "else:\n",
    "    y_datasets_list = np.zeros([config['data']['n_datasets'], config['data']['n_samples'], config['data']['n_targets']])\n",
    "    coef_list = np.zeros([config['data']['n_datasets'], config['data']['n_features'], config['data']['n_targets']])\n",
    "                             \n",
    "for i in range(config['data']['n_datasets']):\n",
    "    X_datasets_list[i], y_datasets_list[i], coef_list[i] = sklearn.datasets.make_regression(n_samples=config['data']['n_samples'], \n",
    "                                                                                         n_features=config['data']['n_features'],\n",
    "                                                                                         n_informative=config['data']['n_informative'], \n",
    "                                                                                         n_targets=config['data']['n_targets'], \n",
    "                                                                                         bias=config['data']['bias'], \n",
    "                                                                                         effective_rank=config['data']['effective_rank'], \n",
    "                                                                                         tail_strength=config['data']['tail_strength'], \n",
    "                                                                                         noise=config['data']['noise'], \n",
    "                                                                                         shuffle=config['data']['shuffle'], \n",
    "                                                                                         coef=True, \n",
    "                                                                                         random_state=config['data']['random_state'])"
   ]
  },
  {
   "cell_type": "markdown",
   "id": "42892918-b2e1-47b0-96b1-20fcf3ed3a81",
   "metadata": {},
   "source": [
    "# Save Data"
   ]
  },
  {
   "cell_type": "code",
   "execution_count": 64,
   "id": "68c1b313-ce4b-4ed2-8af2-9e95cbd046f4",
   "metadata": {},
   "outputs": [],
   "source": [
    "from pathlib import Path\n",
    "\n",
    "\n",
    "directory = 'data/nda' + str(config['data']['n_datasets']) + '_nsa' + str(config['data']['n_samples']) + '_nfe' + str(config['data']['n_features']) + '_nin' + str(config['data']['n_informative']) + '_nta' + str(config['data']['n_targets']) + '_bia' + str(config['data']['bias']) + '_eff' + str(config['data']['effective_rank']) + '_tai' + str(config['data']['tail_strength']) + '_noi' + str(config['data']['noise']) + '_shu' + str(config['data']['shuffle']) + '_ran' + str(config['data']['random_state']) \n",
    "\n",
    "Path(directory).mkdir(parents=True, exist_ok=True)\n",
    "\n",
    "try:\n",
    "    with open(directory + '/X_datasets_list.npy', \"wb\") as f:\n",
    "        np.save(f, X_datasets_list)\n",
    "    with open(directory + '/y_datasets_list.npy', \"wb\") as f:\n",
    "        np.save(f, X_datasets_list)\n",
    "    with open(directory + '/coef_list.npy', \"wb\") as f:\n",
    "        np.save(f, coef_list)\n",
    "    \n",
    "except Exception as e:\n",
    "    print(\"ERROR SAVING\")\n",
    "    print(e)\n",
    "\n"
   ]
  },
  {
   "cell_type": "code",
   "execution_count": null,
   "id": "445ac597-9ae6-483c-bf14-f9cba78ba6c6",
   "metadata": {},
   "outputs": [],
   "source": []
  }
 ],
 "metadata": {
  "kernelspec": {
   "display_name": "Python myBA",
   "language": "python",
   "name": "myba"
  },
  "language_info": {
   "codemirror_mode": {
    "name": "ipython",
    "version": 3
   },
   "file_extension": ".py",
   "mimetype": "text/x-python",
   "name": "python",
   "nbconvert_exporter": "python",
   "pygments_lexer": "ipython3",
   "version": "3.9.12"
  }
 },
 "nbformat": 4,
 "nbformat_minor": 5
}
