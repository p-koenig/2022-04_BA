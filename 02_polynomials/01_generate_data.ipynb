{
 "cells": [
  {
   "cell_type": "markdown",
   "metadata": {},
   "source": [
    "# Function Generation for the Training of λ-Nets"
   ]
  },
  {
   "cell_type": "markdown",
   "metadata": {
    "ExecuteTime": {
     "end_time": "2020-09-16T12:26:49.061308Z",
     "start_time": "2020-09-16T12:26:49.055692Z"
    }
   },
   "source": [
    "## Specitication of Experiment Settings"
   ]
  },
  {
   "cell_type": "code",
   "execution_count": 1,
   "metadata": {
    "execution": {
     "iopub.execute_input": "2021-09-24T16:17:42.994321Z",
     "iopub.status.busy": "2021-09-24T16:17:42.993769Z",
     "iopub.status.idle": "2021-09-24T16:17:43.010685Z",
     "shell.execute_reply": "2021-09-24T16:17:43.010113Z",
     "shell.execute_reply.started": "2021-09-24T16:17:42.994210Z"
    }
   },
   "outputs": [],
   "source": [
    "#######################################################################################################################################\n",
    "###################################################### CONFIG FILE ####################################################################\n",
    "#######################################################################################################################################\n",
    "sleep_time = 0 #minutes\n",
    "\n",
    "\n",
    "config = {\n",
    "    'data': {\n",
    "        'd': 3, #degree\n",
    "        'n': 2, #number of variables\n",
    "        'monomial_vars': None, #int or None\n",
    "        'laurent': False, #use Laurent polynomials (negative degree with up to -d)\n",
    "        'neg_d': 0, #int or None\n",
    "        'neg_d_prob': 0, #probability before other adjustments\n",
    "        'sparsity': None,\n",
    "        'sample_sparsity': 2,\n",
    "        'x_max': 1,\n",
    "        'x_min': 0,\n",
    "        'x_distrib': 'uniform', #'normal', 'uniform',\n",
    "        'a_max': 1,\n",
    "        'a_min': -1,\n",
    "        'polynomial_data_size': 10000, #number of polynomials to generate\n",
    "        'noise': 0, #fraction of mean(abs(y_data)) \n",
    "        'noise_distrib': 'normal', #'normal', 'uniform'\n",
    "        \n",
    "        'border_min': 0.2, #needs to be between 0 and (x_max-x_min)/2\n",
    "        'border_max': 0.4,\n",
    "        'lower_degree_prob': 0.5,\n",
    "        'a_zero_prob': 0.25,\n",
    "        'a_random_prob': 0.1,       \n",
    "        \n",
    "        'same_training_all_lambda_nets': False,\n",
    "    },\n",
    "    'lambda_net': {\n",
    "        'lambda_dataset_size': 5000, #number of samples per polynomial\n",
    "    },    \n",
    "    'computation':{\n",
    "        'n_jobs': 5,\n",
    "        'use_gpu': False,\n",
    "        'gpu_numbers': '0',\n",
    "        'RANDOM_SEED': 0,   \n",
    "    }\n",
    "}\n"
   ]
  },
  {
   "cell_type": "code",
   "execution_count": 2,
   "metadata": {
    "execution": {
     "iopub.execute_input": "2021-09-24T16:17:43.012262Z",
     "iopub.status.busy": "2021-09-24T16:17:43.011955Z",
     "iopub.status.idle": "2021-09-24T16:17:43.056464Z",
     "shell.execute_reply": "2021-09-24T16:17:43.055599Z",
     "shell.execute_reply.started": "2021-09-24T16:17:43.012212Z"
    }
   },
   "outputs": [],
   "source": [
    "#######################################################################################################################################\n",
    "########################################### IMPORT GLOBAL VARIABLES FROM CONFIG #######################################################\n",
    "#######################################################################################################################################\n",
    "globals().update(config['data'])\n",
    "globals().update(config['lambda_net'])\n",
    "globals().update(config['computation'])"
   ]
  },
  {
   "cell_type": "markdown",
   "metadata": {
    "ExecuteTime": {
     "end_time": "2020-09-16T12:26:58.879427Z",
     "start_time": "2020-09-16T12:26:58.874894Z"
    }
   },
   "source": [
    "## Imports"
   ]
  },
  {
   "cell_type": "code",
   "execution_count": 3,
   "metadata": {
    "execution": {
     "iopub.execute_input": "2021-09-24T16:17:43.057602Z",
     "iopub.status.busy": "2021-09-24T16:17:43.057331Z",
     "iopub.status.idle": "2021-09-24T16:17:48.839755Z",
     "shell.execute_reply": "2021-09-24T16:17:48.838604Z",
     "shell.execute_reply.started": "2021-09-24T16:17:43.057574Z"
    },
    "tags": []
   },
   "outputs": [
    {
     "name": "stderr",
     "output_type": "stream",
     "text": [
      "2021-09-24 18:17:43.243212: I tensorflow/stream_executor/platform/default/dso_loader.cc:49] Successfully opened dynamic library libcudart.so.11.0\n"
     ]
    },
    {
     "data": {
      "text/plain": [
       "'2.4.3'"
      ]
     },
     "execution_count": 3,
     "metadata": {},
     "output_type": "execute_result"
    }
   ],
   "source": [
    "import tensorflow as tf\n",
    "tf.__version__"
   ]
  },
  {
   "cell_type": "code",
   "execution_count": 4,
   "metadata": {
    "ExecuteTime": {
     "end_time": "2021-01-13T21:12:40.476681Z",
     "start_time": "2021-01-13T21:12:38.298249Z"
    },
    "execution": {
     "iopub.execute_input": "2021-09-24T16:17:48.841340Z",
     "iopub.status.busy": "2021-09-24T16:17:48.840947Z",
     "iopub.status.idle": "2021-09-24T16:17:50.900558Z",
     "shell.execute_reply": "2021-09-24T16:17:50.899572Z",
     "shell.execute_reply.started": "2021-09-24T16:17:48.841297Z"
    }
   },
   "outputs": [],
   "source": [
    "from itertools import product       # forms cartesian products\n",
    "from more_itertools import random_product \n",
    "from tqdm import tqdm_notebook as tqdm\n",
    "import pickle\n",
    "\n",
    "import numpy as np\n",
    "\n",
    "import pandas as pd\n",
    "from joblib import Parallel, delayed\n",
    "\n",
    "import random \n",
    "from random import sample \n",
    "\n",
    "import os\n",
    "import sys\n",
    "\n",
    "from sklearn.datasets import make_regression\n",
    "from sklearn.preprocessing import MinMaxScaler\n",
    "\n",
    "from sympy import Symbol, sympify\n",
    "\n",
    "        \n",
    "import seaborn as sns\n",
    "        \n",
    "import random \n",
    "\n",
    "import warnings\n",
    "\n",
    "from time import perf_counter"
   ]
  },
  {
   "cell_type": "code",
   "execution_count": 5,
   "metadata": {
    "execution": {
     "iopub.execute_input": "2021-09-24T16:17:50.902547Z",
     "iopub.status.busy": "2021-09-24T16:17:50.902258Z",
     "iopub.status.idle": "2021-09-24T16:17:50.909956Z",
     "shell.execute_reply": "2021-09-24T16:17:50.909220Z",
     "shell.execute_reply.started": "2021-09-24T16:17:50.902510Z"
    }
   },
   "outputs": [],
   "source": [
    "#######################################################################################################################################\n",
    "###################################################### SET VARIABLES + DESIGN #########################################################\n",
    "#######################################################################################################################################\n",
    "variables = 'abcdefghijklmnopqrstuvwxyz'[:n] \n",
    "\n",
    "\n",
    "os.environ['CUDA_VISIBLE_DEVICES'] = gpu_numbers if use_gpu else ''\n",
    "\n",
    "sns.set_style(\"darkgrid\")\n",
    "\n",
    "random.seed(RANDOM_SEED)\n",
    "np.random.seed(RANDOM_SEED)\n",
    "    \n",
    "    \n",
    "pd.set_option('display.float_format', lambda x: '%.3f' % x)\n",
    "pd.set_option('display.max_columns', 500)\n",
    "\n",
    "warnings.filterwarnings('ignore')\n",
    "\n",
    "#sys.path.append('..')"
   ]
  },
  {
   "cell_type": "code",
   "execution_count": 6,
   "metadata": {
    "execution": {
     "iopub.execute_input": "2021-09-24T16:17:50.912970Z",
     "iopub.status.busy": "2021-09-24T16:17:50.912673Z",
     "iopub.status.idle": "2021-09-24T16:17:55.638767Z",
     "shell.execute_reply": "2021-09-24T16:17:55.638189Z",
     "shell.execute_reply.started": "2021-09-24T16:17:50.912943Z"
    }
   },
   "outputs": [
    {
     "name": "stdout",
     "output_type": "stream",
     "text": [
      "List length: 10\n",
      "[[3, 0], [2, 1], [2, 0], [1, 2], [1, 1], [1, 0], [0, 3], [0, 2], [0, 1], [0, 0]]\n"
     ]
    }
   ],
   "source": [
    "from utilities.utility_functions import flatten, rec_gen, gen_monomial_identifier_list\n",
    "\n",
    "list_of_monomial_identifiers_extended = []\n",
    "\n",
    "if laurent:\n",
    "    variable_sets = [list(flatten([[_d for _d in range(d+1)], [-_d for _d in range(1, neg_d+1)]])) for _ in range(n)]\n",
    "    list_of_monomial_identifiers_extended = rec_gen(variable_sets)    \n",
    "        \n",
    "    print('List length: ' + str(len(list_of_monomial_identifiers_extended)))\n",
    "    #print('Number of monomials in a polynomial with ' + str(n) + ' variables and degree ' + str(d) + ': ' + str(sparsity))\n",
    "    #print('Sparsity:' + str(sparsity))\n",
    "    if len(list_of_monomial_identifiers_extended) < 500:\n",
    "        print(list_of_monomial_identifiers_extended)     \n",
    "        \n",
    "    list_of_monomial_identifiers = []\n",
    "    for monomial_identifier in tqdm(list_of_monomial_identifiers_extended):\n",
    "        if np.sum(monomial_identifier) <= d:\n",
    "            if monomial_vars == None or len(list(filter(lambda x: x != 0, monomial_identifier))) <= monomial_vars:\n",
    "                list_of_monomial_identifiers.append(monomial_identifier)        \n",
    "else:\n",
    "    variable_list = ['x'+ str(i) for i in range(n)]\n",
    "    list_of_monomial_identifiers = gen_monomial_identifier_list(variable_list, d, n)\n",
    "            \n",
    "print('List length: ' + str(len(list_of_monomial_identifiers)))\n",
    "#print('Number of monomials in a polynomial with ' + str(n) + ' variables and degree ' + str(d) + ': ' + str(sparsity))\n",
    "#print('Sparsity: ' + str(sparsity))\n",
    "print(list_of_monomial_identifiers)\n"
   ]
  },
  {
   "cell_type": "code",
   "execution_count": 7,
   "metadata": {
    "execution": {
     "iopub.execute_input": "2021-09-24T16:17:55.640157Z",
     "iopub.status.busy": "2021-09-24T16:17:55.639853Z",
     "iopub.status.idle": "2021-09-24T16:17:55.650545Z",
     "shell.execute_reply": "2021-09-24T16:17:55.649906Z",
     "shell.execute_reply.started": "2021-09-24T16:17:55.640116Z"
    }
   },
   "outputs": [
    {
     "name": "stdout",
     "output_type": "stream",
     "text": [
      "<class 'KeyError'>\n",
      "<class 'KeyError'>\n"
     ]
    }
   ],
   "source": [
    "from utilities.utility_functions import *\n",
    "#######################################################################################################################################\n",
    "####################################################### CONFIG ADJUSTMENTS ############################################################\n",
    "#######################################################################################################################################\n",
    "config['data']['sparsity'] = nCr(config['data']['n']+config['data']['d'], config['data']['d']) if not laurent else len(list_of_monomial_identifiers)\n",
    "#nCr(config['data']['n']+config['data']['d'], config['data']['d']) if not laurent else (config['data']['d']*2+1)**config['data']['n'] - np.sum([i for i in range(1, config['data']['d']+1)])#- math.factorial(config['data']['d'])\n",
    "#nCr(config['data']['n']+config['data']['d'], config['data']['d']) if not laurent else nCr(config['data']['n']+config['data']['d']*2, config['data']['d']*2)\n",
    "\n",
    "config['data']['sample_sparsity'] = config['data']['sparsity'] if config['data']['sample_sparsity'] == None else config['data']['sample_sparsity']\n",
    "    \n",
    "#######################################################################################################################################\n",
    "################################################## UPDATE VARIABLES ###################################################################\n",
    "#######################################################################################################################################\n",
    "globals().update(config['data'])\n",
    "globals().update(config['lambda_net'])\n",
    "globals().update(config['computation'])\n",
    "\n",
    "initialize_utility_functions_config_from_curent_notebook(config)\n",
    "\n",
    "#######################################################################################################################################\n",
    "###################################################### PATH + FOLDER CREATION #########################################################\n",
    "#######################################################################################################################################\n",
    "globals().update(generate_paths(path_type='data_creation'))\n",
    "generate_directory_structure()\n",
    "\n",
    "#######################################################################################################################################\n",
    "############################################################ SLEEP TIMER ##############################################################\n",
    "#######################################################################################################################################\n",
    "sleep_minutes(sleep_time)"
   ]
  },
  {
   "cell_type": "code",
   "execution_count": 8,
   "metadata": {
    "execution": {
     "iopub.execute_input": "2021-09-24T16:17:55.651632Z",
     "iopub.status.busy": "2021-09-24T16:17:55.651363Z",
     "iopub.status.idle": "2021-09-24T16:17:55.655814Z",
     "shell.execute_reply": "2021-09-24T16:17:55.654865Z",
     "shell.execute_reply.started": "2021-09-24T16:17:55.651609Z"
    }
   },
   "outputs": [
    {
     "name": "stdout",
     "output_type": "stream",
     "text": [
      "poly_10000_train_5000_var_2_d_3_negd_0_prob_0_spars_2_amin_-1_amax_1_xdist_uniform_noise_normal_0bmin0.2bmax0.4lowd0.5azero0.25arand0.1_diffX\n"
     ]
    }
   ],
   "source": [
    "print(path_identifier_polynomial_data)\n"
   ]
  },
  {
   "cell_type": "code",
   "execution_count": 9,
   "metadata": {
    "execution": {
     "iopub.execute_input": "2021-09-24T16:17:55.657242Z",
     "iopub.status.busy": "2021-09-24T16:17:55.656939Z",
     "iopub.status.idle": "2021-09-24T16:17:55.667564Z",
     "shell.execute_reply": "2021-09-24T16:17:55.666465Z",
     "shell.execute_reply.started": "2021-09-24T16:17:55.657208Z"
    }
   },
   "outputs": [
    {
     "name": "stdout",
     "output_type": "stream",
     "text": [
      "Variables: 2 (ab)\n",
      "Degree: 3\n",
      "Sparsity: 10\n",
      "Lambda-Net Dataset Size: 5000\n",
      "I-Net Dataset Size: 10000\n",
      "Coefficient Range: [-1, 1]\n",
      "Variable Range: [0, 1]\n"
     ]
    }
   ],
   "source": [
    "##############DO NOT CHANGE###################\n",
    "variables = 'abcdefghijklmnopqrstuvwxyz'[:n]\n",
    "    \n",
    "print('Variables: ' + str(n) + ' (' + variables + ')')\n",
    "print('Degree: ' + str(d))\n",
    "print('Sparsity: ' + str(sparsity)) \n",
    "print('Lambda-Net Dataset Size: ' + str(lambda_dataset_size))\n",
    "print('I-Net Dataset Size: ' + str(polynomial_data_size))\n",
    "      \n",
    "print('Coefficient Range: ' + '[' + str(a_min) + ', ' + str(a_max) + ']')\n",
    "print('Variable Range: ' + '[' + str(x_min) + ', ' + str(x_max) + ']')"
   ]
  },
  {
   "cell_type": "markdown",
   "metadata": {
    "ExecuteTime": {
     "end_time": "2020-09-16T12:28:46.853042Z",
     "start_time": "2020-09-16T12:28:46.848346Z"
    }
   },
   "source": [
    "# Function Generation"
   ]
  },
  {
   "cell_type": "code",
   "execution_count": 10,
   "metadata": {
    "execution": {
     "iopub.execute_input": "2021-09-24T16:17:55.669402Z",
     "iopub.status.busy": "2021-09-24T16:17:55.668997Z",
     "iopub.status.idle": "2021-09-24T16:17:56.211791Z",
     "shell.execute_reply": "2021-09-24T16:17:56.209971Z",
     "shell.execute_reply.started": "2021-09-24T16:17:55.669364Z"
    }
   },
   "outputs": [
    {
     "data": {
      "application/vnd.jupyter.widget-view+json": {
       "model_id": "f0a264cda98f44d8a85dc499bfcc3bce",
       "version_major": 2,
       "version_minor": 0
      },
      "text/plain": [
       "  0%|          | 0/10000 [00:00<?, ?it/s]"
      ]
     },
     "metadata": {},
     "output_type": "display_data"
    },
    {
     "name": "stdout",
     "output_type": "stream",
     "text": [
      "10\n",
      "(10000, 10)\n"
     ]
    }
   ],
   "source": [
    "if n==1 and True:\n",
    "    start = perf_counter()\n",
    "    # issue with multiprocessing on Windows (backend='sequential' works)\n",
    "    parallel = Parallel(n_jobs=n_jobs, verbose=0, backend='multiprocessing')\n",
    "    list_of_polynomials = parallel(delayed(get_polynomial)(border_min, border_max, a_max, a_zero_prob, d, a_random_prob, lower_degree_prob) for i in range(polynomial_data_size))\n",
    "    list_of_polynomials = np.array(list_of_polynomials).astype('float64')\n",
    "    end = perf_counter()\n",
    "    print('Zeit zum generieren:', end-start, 'Sekunden')\n",
    "    print('Zeit zum generieren pro Funktion:', (end-start)/polynomial_data_size)\n",
    "else:\n",
    "    if False:\n",
    "        list_of_polynomials = np.random.uniform(low=a_min, high=a_max, size=(polynomial_data_size-1000, sparsity))\n",
    "\n",
    "        list_of_polynomials_2 = np.random.uniform(low=a_min, high=a_max, size=(1000, sparsity))\n",
    "\n",
    "        list_of_polynomials_2_new = []\n",
    "        for poly in list_of_polynomials_2:\n",
    "            poly[-1] = 0\n",
    "            list_of_polynomials_2_new.append(poly)\n",
    "\n",
    "        list_of_polynomials = np.vstack([list_of_polynomials, list_of_polynomials_2])\n",
    "        \n",
    "    if True:\n",
    "        list_of_polynomials = np.random.uniform(low=a_min, high=a_max, size=(polynomial_data_size, sparsity))\n",
    "        \n",
    "        \n",
    "    if sample_sparsity < sparsity:\n",
    "        for polynomial in tqdm(list_of_polynomials):\n",
    "            sparsity_indices = np.random.choice(nCr(n+d, d), nCr(n+d, d)-sample_sparsity, replace=False)\n",
    "            for sparsity_index in sparsity_indices:                            \n",
    "                polynomial[sparsity_index] = 0\n",
    "\n",
    "list_of_monomial_identifiers_string = [''.join(str(e) for e in monomial_identifier) for monomial_identifier in list_of_monomial_identifiers] if n > 1 else [str(monomial_identifier[0]) for monomial_identifier in list_of_monomial_identifiers]\n",
    "polynomials_list_df = pd.DataFrame(data=list_of_polynomials, columns=list_of_monomial_identifiers_string).astype('float64')\n",
    "    \n",
    "print(len(list_of_monomial_identifiers))\n",
    "print(polynomials_list_df.shape)"
   ]
  },
  {
   "cell_type": "code",
   "execution_count": 11,
   "metadata": {
    "execution": {
     "iopub.execute_input": "2021-09-24T16:17:56.214133Z",
     "iopub.status.busy": "2021-09-24T16:17:56.213801Z",
     "iopub.status.idle": "2021-09-24T16:18:23.299862Z",
     "shell.execute_reply": "2021-09-24T16:18:23.298681Z",
     "shell.execute_reply.started": "2021-09-24T16:17:56.214085Z"
    }
   },
   "outputs": [
    {
     "name": "stderr",
     "output_type": "stream",
     "text": [
      "[Parallel(n_jobs=5)]: Using backend MultiprocessingBackend with 5 concurrent workers.\n",
      "2021-09-24 18:17:57.006354: I tensorflow/compiler/jit/xla_cpu_device.cc:41] Not creating XLA devices, tf_xla_enable_xla_devices not set\n",
      "2021-09-24 18:17:57.006367: I tensorflow/compiler/jit/xla_cpu_device.cc:41] Not creating XLA devices, tf_xla_enable_xla_devices not set\n",
      "2021-09-24 18:17:57.006356: I tensorflow/compiler/jit/xla_cpu_device.cc:41] Not creating XLA devices, tf_xla_enable_xla_devices not set\n",
      "2021-09-24 18:17:57.006383: I tensorflow/compiler/jit/xla_cpu_device.cc:41] Not creating XLA devices, tf_xla_enable_xla_devices not set\n",
      "2021-09-24 18:17:57.006390: I tensorflow/compiler/jit/xla_cpu_device.cc:41] Not creating XLA devices, tf_xla_enable_xla_devices not set\n",
      "2021-09-24 18:17:57.010365: I tensorflow/stream_executor/platform/default/dso_loader.cc:49] Successfully opened dynamic library libcuda.so.1\n",
      "2021-09-24 18:17:57.010380: I tensorflow/stream_executor/platform/default/dso_loader.cc:49] Successfully opened dynamic library libcuda.so.1\n",
      "2021-09-24 18:17:57.010383: I tensorflow/stream_executor/platform/default/dso_loader.cc:49] Successfully opened dynamic library libcuda.so.1\n",
      "2021-09-24 18:17:57.010386: I tensorflow/stream_executor/platform/default/dso_loader.cc:49] Successfully opened dynamic library libcuda.so.1\n",
      "2021-09-24 18:17:57.010428: I tensorflow/stream_executor/platform/default/dso_loader.cc:49] Successfully opened dynamic library libcuda.so.1\n",
      "2021-09-24 18:17:57.132127: E tensorflow/stream_executor/cuda/cuda_driver.cc:328] failed call to cuInit: CUDA_ERROR_NO_DEVICE: no CUDA-capable device is detected\n",
      "2021-09-24 18:17:57.132216: I tensorflow/stream_executor/cuda/cuda_diagnostics.cc:169] retrieving CUDA diagnostic information for host: dws-07\n",
      "2021-09-24 18:17:57.132232: I tensorflow/stream_executor/cuda/cuda_diagnostics.cc:176] hostname: dws-07\n",
      "2021-09-24 18:17:57.132531: I tensorflow/stream_executor/cuda/cuda_diagnostics.cc:200] libcuda reported version is: 460.67.0\n",
      "2021-09-24 18:17:57.132616: I tensorflow/stream_executor/cuda/cuda_diagnostics.cc:204] kernel reported version is: 460.67.0\n",
      "2021-09-24 18:17:57.132632: I tensorflow/stream_executor/cuda/cuda_diagnostics.cc:310] kernel version seems to match DSO: 460.67.0\n",
      "2021-09-24 18:17:57.133331: E tensorflow/stream_executor/cuda/cuda_driver.cc:328] failed call to cuInit: CUDA_ERROR_NO_DEVICE: no CUDA-capable device is detected\n",
      "2021-09-24 18:17:57.133387: I tensorflow/stream_executor/cuda/cuda_diagnostics.cc:169] retrieving CUDA diagnostic information for host: dws-07\n",
      "2021-09-24 18:17:57.133403: I tensorflow/stream_executor/cuda/cuda_diagnostics.cc:176] hostname: dws-07\n",
      "2021-09-24 18:17:57.133595: I tensorflow/stream_executor/cuda/cuda_diagnostics.cc:200] libcuda reported version is: 460.67.0\n",
      "2021-09-24 18:17:57.133667: I tensorflow/stream_executor/cuda/cuda_diagnostics.cc:204] kernel reported version is: 460.67.0\n",
      "2021-09-24 18:17:57.133682: I tensorflow/stream_executor/cuda/cuda_diagnostics.cc:310] kernel version seems to match DSO: 460.67.0\n",
      "2021-09-24 18:17:57.134174: E tensorflow/stream_executor/cuda/cuda_driver.cc:328] failed call to cuInit: CUDA_ERROR_NO_DEVICE: no CUDA-capable device is detected\n",
      "2021-09-24 18:17:57.134218: I tensorflow/stream_executor/cuda/cuda_diagnostics.cc:169] retrieving CUDA diagnostic information for host: dws-07\n",
      "2021-09-24 18:17:57.134230: I tensorflow/stream_executor/cuda/cuda_diagnostics.cc:176] hostname: dws-07\n",
      "2021-09-24 18:17:57.134375: I tensorflow/stream_executor/cuda/cuda_diagnostics.cc:200] libcuda reported version is: 460.67.0\n",
      "2021-09-24 18:17:57.134435: I tensorflow/stream_executor/cuda/cuda_diagnostics.cc:204] kernel reported version is: 460.67.0\n",
      "2021-09-24 18:17:57.134447: I tensorflow/stream_executor/cuda/cuda_diagnostics.cc:310] kernel version seems to match DSO: 460.67.0\n",
      "2021-09-24 18:17:57.135010: E tensorflow/stream_executor/cuda/cuda_driver.cc:328] failed call to cuInit: CUDA_ERROR_NO_DEVICE: no CUDA-capable device is detected\n",
      "2021-09-24 18:17:57.135059: I tensorflow/stream_executor/cuda/cuda_diagnostics.cc:169] retrieving CUDA diagnostic information for host: dws-07\n",
      "2021-09-24 18:17:57.135069: I tensorflow/stream_executor/cuda/cuda_diagnostics.cc:176] hostname: dws-07\n",
      "2021-09-24 18:17:57.135199: I tensorflow/stream_executor/cuda/cuda_diagnostics.cc:200] libcuda reported version is: 460.67.0\n",
      "2021-09-24 18:17:57.135249: I tensorflow/stream_executor/cuda/cuda_diagnostics.cc:204] kernel reported version is: 460.67.0\n",
      "2021-09-24 18:17:57.135259: I tensorflow/stream_executor/cuda/cuda_diagnostics.cc:310] kernel version seems to match DSO: 460.67.0\n",
      "2021-09-24 18:17:57.135873: E tensorflow/stream_executor/cuda/cuda_driver.cc:328] failed call to cuInit: CUDA_ERROR_NO_DEVICE: no CUDA-capable device is detected\n",
      "2021-09-24 18:17:57.135938: I tensorflow/stream_executor/cuda/cuda_diagnostics.cc:169] retrieving CUDA diagnostic information for host: dws-07\n",
      "2021-09-24 18:17:57.135954: I tensorflow/stream_executor/cuda/cuda_diagnostics.cc:176] hostname: dws-07\n",
      "2021-09-24 18:17:57.136132: I tensorflow/stream_executor/cuda/cuda_diagnostics.cc:200] libcuda reported version is: 460.67.0\n",
      "2021-09-24 18:17:57.136204: I tensorflow/stream_executor/cuda/cuda_diagnostics.cc:204] kernel reported version is: 460.67.0\n",
      "2021-09-24 18:17:57.136220: I tensorflow/stream_executor/cuda/cuda_diagnostics.cc:310] kernel version seems to match DSO: 460.67.0\n",
      "2021-09-24 18:17:57.153655: I tensorflow/core/platform/cpu_feature_guard.cc:142] This TensorFlow binary is optimized with oneAPI Deep Neural Network Library (oneDNN) to use the following CPU instructions in performance-critical operations:  AVX2 FMA\n",
      "To enable them in other operations, rebuild TensorFlow with the appropriate compiler flags.\n",
      "2021-09-24 18:17:57.153676: I tensorflow/core/platform/cpu_feature_guard.cc:142] This TensorFlow binary is optimized with oneAPI Deep Neural Network Library (oneDNN) to use the following CPU instructions in performance-critical operations:  AVX2 FMA\n",
      "To enable them in other operations, rebuild TensorFlow with the appropriate compiler flags.\n",
      "2021-09-24 18:17:57.153674: I tensorflow/core/platform/cpu_feature_guard.cc:142] This TensorFlow binary is optimized with oneAPI Deep Neural Network Library (oneDNN) to use the following CPU instructions in performance-critical operations:  AVX2 FMA\n",
      "To enable them in other operations, rebuild TensorFlow with the appropriate compiler flags.\n",
      "2021-09-24 18:17:57.153675: I tensorflow/core/platform/cpu_feature_guard.cc:142] This TensorFlow binary is optimized with oneAPI Deep Neural Network Library (oneDNN) to use the following CPU instructions in performance-critical operations:  AVX2 FMA\n",
      "To enable them in other operations, rebuild TensorFlow with the appropriate compiler flags.\n",
      "2021-09-24 18:17:57.153693: I tensorflow/core/platform/cpu_feature_guard.cc:142] This TensorFlow binary is optimized with oneAPI Deep Neural Network Library (oneDNN) to use the following CPU instructions in performance-critical operations:  AVX2 FMA\n",
      "To enable them in other operations, rebuild TensorFlow with the appropriate compiler flags.\n",
      "2021-09-24 18:17:57.161767: I tensorflow/compiler/jit/xla_gpu_device.cc:99] Not creating XLA devices, tf_xla_enable_xla_devices not set\n",
      "2021-09-24 18:17:57.161899: I tensorflow/compiler/jit/xla_gpu_device.cc:99] Not creating XLA devices, tf_xla_enable_xla_devices not set\n",
      "2021-09-24 18:17:57.162185: I tensorflow/compiler/jit/xla_gpu_device.cc:99] Not creating XLA devices, tf_xla_enable_xla_devices not set\n",
      "2021-09-24 18:17:57.162189: I tensorflow/compiler/jit/xla_gpu_device.cc:99] Not creating XLA devices, tf_xla_enable_xla_devices not set\n",
      "2021-09-24 18:17:57.162381: I tensorflow/compiler/jit/xla_gpu_device.cc:99] Not creating XLA devices, tf_xla_enable_xla_devices not set\n",
      "2021-09-24 18:17:59.882862: I tensorflow/core/platform/profile_utils/cpu_utils.cc:112] CPU Frequency: 2197530000 Hz\n",
      "2021-09-24 18:17:59.886830: I tensorflow/core/platform/profile_utils/cpu_utils.cc:112] CPU Frequency: 2197530000 Hz\n",
      "2021-09-24 18:17:59.886851: I tensorflow/core/platform/profile_utils/cpu_utils.cc:112] CPU Frequency: 2197530000 Hz\n",
      "2021-09-24 18:17:59.886870: I tensorflow/core/platform/profile_utils/cpu_utils.cc:112] CPU Frequency: 2197530000 Hz\n",
      "2021-09-24 18:17:59.887055: I tensorflow/core/platform/profile_utils/cpu_utils.cc:112] CPU Frequency: 2197530000 Hz\n",
      "2021-09-24 18:17:59.898947: I tensorflow/compiler/xla/service/service.cc:168] XLA service 0x55ab81f68330 initialized for platform Host (this does not guarantee that XLA will be used). Devices:\n",
      "2021-09-24 18:17:59.898985: I tensorflow/compiler/xla/service/service.cc:176]   StreamExecutor device (0): Host, Default Version\n",
      "2021-09-24 18:17:59.901161: I tensorflow/compiler/xla/service/service.cc:168] XLA service 0x55ab81f68330 initialized for platform Host (this does not guarantee that XLA will be used). Devices:\n",
      "2021-09-24 18:17:59.901197: I tensorflow/compiler/xla/service/service.cc:176]   StreamExecutor device (0): Host, Default Version\n",
      "2021-09-24 18:17:59.901956: I tensorflow/compiler/xla/service/service.cc:168] XLA service 0x55ab81f68330 initialized for platform Host (this does not guarantee that XLA will be used). Devices:\n",
      "2021-09-24 18:17:59.902005: I tensorflow/compiler/xla/service/service.cc:176]   StreamExecutor device (0): Host, Default Version\n",
      "2021-09-24 18:17:59.904474: I tensorflow/compiler/xla/service/service.cc:168] XLA service 0x55ab81f24b90 initialized for platform Host (this does not guarantee that XLA will be used). Devices:\n",
      "2021-09-24 18:17:59.904512: I tensorflow/compiler/xla/service/service.cc:176]   StreamExecutor device (0): Host, Default Version\n",
      "2021-09-24 18:17:59.904522: I tensorflow/compiler/xla/service/service.cc:168] XLA service 0x55ab81f24b90 initialized for platform Host (this does not guarantee that XLA will be used). Devices:\n",
      "2021-09-24 18:17:59.904554: I tensorflow/compiler/xla/service/service.cc:176]   StreamExecutor device (0): Host, Default Version\n",
      "2021-09-24 18:18:00.581957: I tensorflow/compiler/jit/xla_compilation_cache.cc:333] Compiled cluster using XLA!  This line is logged at most once for the lifetime of the process.\n",
      "2021-09-24 18:18:00.581957: I tensorflow/compiler/jit/xla_compilation_cache.cc:333] Compiled cluster using XLA!  This line is logged at most once for the lifetime of the process.\n",
      "2021-09-24 18:18:00.581979: I tensorflow/compiler/jit/xla_compilation_cache.cc:333] Compiled cluster using XLA!  This line is logged at most once for the lifetime of the process.\n",
      "2021-09-24 18:18:00.581979: I tensorflow/compiler/jit/xla_compilation_cache.cc:333] Compiled cluster using XLA!  This line is logged at most once for the lifetime of the process.\n",
      "2021-09-24 18:18:00.581984: I tensorflow/compiler/jit/xla_compilation_cache.cc:333] Compiled cluster using XLA!  This line is logged at most once for the lifetime of the process.\n",
      "[Parallel(n_jobs=5)]: Done  22 tasks      | elapsed:    4.1s\n",
      "[Parallel(n_jobs=5)]: Done 1711 tasks      | elapsed:    6.7s\n",
      "[Parallel(n_jobs=5)]: Done 6831 tasks      | elapsed:   14.5s\n",
      "[Parallel(n_jobs=5)]: Done 10000 out of 10000 | elapsed:   18.1s finished\n"
     ]
    }
   ],
   "source": [
    "if same_training_all_lambda_nets:\n",
    "    parallel = Parallel(n_jobs=n_jobs, verbose=3, backend='multiprocessing')\n",
    "    result_list = parallel(delayed(gen_regression_symbolic)(polynomial_array=list_of_polynomials[i], \n",
    "                                                               n_samples=lambda_dataset_size,\n",
    "                                                               noise=noise,\n",
    "                                                               noise_dist=noise_distrib, \n",
    "                                                               seed=RANDOM_SEED, \n",
    "                                                               sympy_calculation=False) for i in range(polynomial_data_size))  \n",
    "else:\n",
    "    parallel = Parallel(n_jobs=n_jobs, verbose=3, backend='multiprocessing')\n",
    "    result_list = parallel(delayed(gen_regression_symbolic)(polynomial_array=list_of_polynomials[i], \n",
    "                                                               n_samples=lambda_dataset_size,\n",
    "                                                               noise=noise,\n",
    "                                                               noise_dist=noise_distrib, \n",
    "                                                               seed=RANDOM_SEED+i, \n",
    "                                                               sympy_calculation=False) for i in range(polynomial_data_size))\n",
    "\n",
    "X_data_list = [[pd.Series(result[0],  index=list_of_monomial_identifiers_string), pd.DataFrame(result[1], columns=list(variables[:n]))] for result in result_list]\n",
    "y_data_list = [[pd.Series(result[0],  index=list_of_monomial_identifiers_string), pd.DataFrame(result[2], columns=['result'])] for result in result_list]\n",
    "\n"
   ]
  },
  {
   "cell_type": "code",
   "execution_count": 12,
   "metadata": {
    "execution": {
     "iopub.execute_input": "2021-09-24T16:18:23.301733Z",
     "iopub.status.busy": "2021-09-24T16:18:23.301525Z",
     "iopub.status.idle": "2021-09-24T16:18:23.309369Z",
     "shell.execute_reply": "2021-09-24T16:18:23.308829Z",
     "shell.execute_reply.started": "2021-09-24T16:18:23.301708Z"
    }
   },
   "outputs": [
    {
     "data": {
      "text/plain": [
       "30   0.000\n",
       "21   0.000\n",
       "20   0.000\n",
       "12   0.000\n",
       "11   0.000\n",
       "10   0.292\n",
       "03   0.000\n",
       "02   0.000\n",
       "01   0.927\n",
       "00   0.000\n",
       "dtype: float64"
      ]
     },
     "execution_count": 12,
     "metadata": {},
     "output_type": "execute_result"
    }
   ],
   "source": [
    "X_data_list[0][0].head(10)"
   ]
  },
  {
   "cell_type": "code",
   "execution_count": 13,
   "metadata": {
    "execution": {
     "iopub.execute_input": "2021-09-24T16:18:23.310344Z",
     "iopub.status.busy": "2021-09-24T16:18:23.310183Z",
     "iopub.status.idle": "2021-09-24T16:18:23.342973Z",
     "shell.execute_reply": "2021-09-24T16:18:23.342423Z",
     "shell.execute_reply.started": "2021-09-24T16:18:23.310324Z"
    }
   },
   "outputs": [
    {
     "data": {
      "text/html": [
       "<div>\n",
       "<style scoped>\n",
       "    .dataframe tbody tr th:only-of-type {\n",
       "        vertical-align: middle;\n",
       "    }\n",
       "\n",
       "    .dataframe tbody tr th {\n",
       "        vertical-align: top;\n",
       "    }\n",
       "\n",
       "    .dataframe thead th {\n",
       "        text-align: right;\n",
       "    }\n",
       "</style>\n",
       "<table border=\"1\" class=\"dataframe\">\n",
       "  <thead>\n",
       "    <tr style=\"text-align: right;\">\n",
       "      <th></th>\n",
       "      <th>a</th>\n",
       "      <th>b</th>\n",
       "    </tr>\n",
       "  </thead>\n",
       "  <tbody>\n",
       "    <tr>\n",
       "      <th>0</th>\n",
       "      <td>0.549</td>\n",
       "      <td>0.715</td>\n",
       "    </tr>\n",
       "    <tr>\n",
       "      <th>1</th>\n",
       "      <td>0.603</td>\n",
       "      <td>0.545</td>\n",
       "    </tr>\n",
       "    <tr>\n",
       "      <th>2</th>\n",
       "      <td>0.424</td>\n",
       "      <td>0.646</td>\n",
       "    </tr>\n",
       "    <tr>\n",
       "      <th>3</th>\n",
       "      <td>0.438</td>\n",
       "      <td>0.892</td>\n",
       "    </tr>\n",
       "    <tr>\n",
       "      <th>4</th>\n",
       "      <td>0.964</td>\n",
       "      <td>0.383</td>\n",
       "    </tr>\n",
       "    <tr>\n",
       "      <th>5</th>\n",
       "      <td>0.792</td>\n",
       "      <td>0.529</td>\n",
       "    </tr>\n",
       "    <tr>\n",
       "      <th>6</th>\n",
       "      <td>0.568</td>\n",
       "      <td>0.926</td>\n",
       "    </tr>\n",
       "    <tr>\n",
       "      <th>7</th>\n",
       "      <td>0.071</td>\n",
       "      <td>0.087</td>\n",
       "    </tr>\n",
       "    <tr>\n",
       "      <th>8</th>\n",
       "      <td>0.020</td>\n",
       "      <td>0.833</td>\n",
       "    </tr>\n",
       "    <tr>\n",
       "      <th>9</th>\n",
       "      <td>0.778</td>\n",
       "      <td>0.870</td>\n",
       "    </tr>\n",
       "  </tbody>\n",
       "</table>\n",
       "</div>"
      ],
      "text/plain": [
       "      a     b\n",
       "0 0.549 0.715\n",
       "1 0.603 0.545\n",
       "2 0.424 0.646\n",
       "3 0.438 0.892\n",
       "4 0.964 0.383\n",
       "5 0.792 0.529\n",
       "6 0.568 0.926\n",
       "7 0.071 0.087\n",
       "8 0.020 0.833\n",
       "9 0.778 0.870"
      ]
     },
     "execution_count": 13,
     "metadata": {},
     "output_type": "execute_result"
    }
   ],
   "source": [
    "X_data_list[0][1].head(10)"
   ]
  },
  {
   "cell_type": "code",
   "execution_count": 14,
   "metadata": {
    "execution": {
     "iopub.execute_input": "2021-09-24T16:18:23.344006Z",
     "iopub.status.busy": "2021-09-24T16:18:23.343823Z",
     "iopub.status.idle": "2021-09-24T16:18:23.350142Z",
     "shell.execute_reply": "2021-09-24T16:18:23.349223Z",
     "shell.execute_reply.started": "2021-09-24T16:18:23.343986Z"
    }
   },
   "outputs": [
    {
     "data": {
      "text/plain": [
       "30   0.000\n",
       "21   0.000\n",
       "20   0.000\n",
       "12   0.000\n",
       "11   0.000\n",
       "10   0.292\n",
       "03   0.000\n",
       "02   0.000\n",
       "01   0.927\n",
       "00   0.000\n",
       "dtype: float64"
      ]
     },
     "execution_count": 14,
     "metadata": {},
     "output_type": "execute_result"
    }
   ],
   "source": [
    "y_data_list[0][0].head(10)"
   ]
  },
  {
   "cell_type": "code",
   "execution_count": 15,
   "metadata": {
    "execution": {
     "iopub.execute_input": "2021-09-24T16:18:23.351797Z",
     "iopub.status.busy": "2021-09-24T16:18:23.351468Z",
     "iopub.status.idle": "2021-09-24T16:18:23.359892Z",
     "shell.execute_reply": "2021-09-24T16:18:23.358873Z",
     "shell.execute_reply.started": "2021-09-24T16:18:23.351763Z"
    }
   },
   "outputs": [
    {
     "data": {
      "text/html": [
       "<div>\n",
       "<style scoped>\n",
       "    .dataframe tbody tr th:only-of-type {\n",
       "        vertical-align: middle;\n",
       "    }\n",
       "\n",
       "    .dataframe tbody tr th {\n",
       "        vertical-align: top;\n",
       "    }\n",
       "\n",
       "    .dataframe thead th {\n",
       "        text-align: right;\n",
       "    }\n",
       "</style>\n",
       "<table border=\"1\" class=\"dataframe\">\n",
       "  <thead>\n",
       "    <tr style=\"text-align: right;\">\n",
       "      <th></th>\n",
       "      <th>result</th>\n",
       "    </tr>\n",
       "  </thead>\n",
       "  <tbody>\n",
       "    <tr>\n",
       "      <th>0</th>\n",
       "      <td>0.823</td>\n",
       "    </tr>\n",
       "    <tr>\n",
       "      <th>1</th>\n",
       "      <td>0.681</td>\n",
       "    </tr>\n",
       "    <tr>\n",
       "      <th>2</th>\n",
       "      <td>0.723</td>\n",
       "    </tr>\n",
       "    <tr>\n",
       "      <th>3</th>\n",
       "      <td>0.955</td>\n",
       "    </tr>\n",
       "    <tr>\n",
       "      <th>4</th>\n",
       "      <td>0.637</td>\n",
       "    </tr>\n",
       "    <tr>\n",
       "      <th>5</th>\n",
       "      <td>0.721</td>\n",
       "    </tr>\n",
       "    <tr>\n",
       "      <th>6</th>\n",
       "      <td>1.024</td>\n",
       "    </tr>\n",
       "    <tr>\n",
       "      <th>7</th>\n",
       "      <td>0.102</td>\n",
       "    </tr>\n",
       "    <tr>\n",
       "      <th>8</th>\n",
       "      <td>0.778</td>\n",
       "    </tr>\n",
       "    <tr>\n",
       "      <th>9</th>\n",
       "      <td>1.034</td>\n",
       "    </tr>\n",
       "  </tbody>\n",
       "</table>\n",
       "</div>"
      ],
      "text/plain": [
       "   result\n",
       "0   0.823\n",
       "1   0.681\n",
       "2   0.723\n",
       "3   0.955\n",
       "4   0.637\n",
       "5   0.721\n",
       "6   1.024\n",
       "7   0.102\n",
       "8   0.778\n",
       "9   1.034"
      ]
     },
     "execution_count": 15,
     "metadata": {},
     "output_type": "execute_result"
    }
   ],
   "source": [
    "y_data_list[0][1].head(10)"
   ]
  },
  {
   "cell_type": "code",
   "execution_count": 16,
   "metadata": {
    "ExecuteTime": {
     "end_time": "2021-01-14T12:59:22.156778Z",
     "start_time": "2021-01-14T12:57:34.187753Z"
    },
    "execution": {
     "iopub.execute_input": "2021-09-24T16:18:23.361522Z",
     "iopub.status.busy": "2021-09-24T16:18:23.361257Z",
     "iopub.status.idle": "2021-09-24T16:18:46.888585Z",
     "shell.execute_reply": "2021-09-24T16:18:46.887233Z",
     "shell.execute_reply.started": "2021-09-24T16:18:23.361488Z"
    },
    "tags": []
   },
   "outputs": [],
   "source": [
    "path_polynomials = './data/saved_polynomial_lists/polynomials_sample_' + path_identifier_polynomial_data + '.csv'\n",
    "polynomials_list_df.to_csv(path_polynomials, index=False)\n",
    "\n",
    "path_X_data = './data/saved_polynomial_lists/X_sample_' + path_identifier_polynomial_data + '.pkl'\n",
    "with open(path_X_data, 'wb') as f:\n",
    "    pickle.dump(X_data_list, f)#, protocol=2)\n",
    "    \n",
    "path_y_data = './data/saved_polynomial_lists/y_sample_' + path_identifier_polynomial_data + '.pkl'\n",
    "with open(path_y_data, 'wb') as f:\n",
    "    pickle.dump(y_data_list, f)#, protocol=2)\n"
   ]
  },
  {
   "cell_type": "code",
   "execution_count": null,
   "metadata": {},
   "outputs": [],
   "source": []
  }
 ],
 "metadata": {
  "kernelspec": {
   "display_name": "Python 3 (ipykernel)",
   "language": "python",
   "name": "python3"
  },
  "language_info": {
   "codemirror_mode": {
    "name": "ipython",
    "version": 3
   },
   "file_extension": ".py",
   "mimetype": "text/x-python",
   "name": "python",
   "nbconvert_exporter": "python",
   "pygments_lexer": "ipython3",
   "version": "3.8.0"
  }
 },
 "nbformat": 4,
 "nbformat_minor": 4
}
