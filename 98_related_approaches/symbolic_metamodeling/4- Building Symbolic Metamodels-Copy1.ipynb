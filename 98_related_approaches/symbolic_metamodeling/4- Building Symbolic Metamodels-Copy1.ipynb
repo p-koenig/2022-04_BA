{
 "cells": [
  {
   "cell_type": "markdown",
   "metadata": {},
   "source": [
    "# Building symbolic metamodels\n",
    "\n",
    "A symbolic metamodel takes as an input a machine learning model, and outputs a symbolic equation describing its response surface as illustrated in the Figure below. This notebook provides the steps needed for building a symbolic metamodel for an XGBoost model fitted to the \"UCI absenteeism at work dataset: https://archive.ics.uci.edu/ml/datasets/Absenteeism+at+work"
   ]
  },
  {
   "cell_type": "markdown",
   "metadata": {},
   "source": [
    "<img src=\"images/FigB1.png\" width=\"640\"/>"
   ]
  },
  {
   "cell_type": "markdown",
   "metadata": {},
   "source": [
    "We first import the necessary modules for symbolic metamodeling"
   ]
  },
  {
   "cell_type": "code",
   "execution_count": 1,
   "metadata": {},
   "outputs": [],
   "source": [
    "from pysymbolic.algorithms.symbolic_metamodeling import *"
   ]
  },
  {
   "cell_type": "markdown",
   "metadata": {},
   "source": [
    "Next, we import the necessary libraries fordata processing, splitting the data into training and testing samples, and XGBoost model fitting "
   ]
  },
  {
   "cell_type": "code",
   "execution_count": 2,
   "metadata": {
    "collapsed": false,
    "jupyter": {
     "outputs_hidden": false
    }
   },
   "outputs": [
    {
     "name": "stdout",
     "output_type": "stream",
     "text": [
      "[09:38:04] WARNING: ../src/learner.cc:1061: Starting in XGBoost 1.3.0, the default evaluation metric used with the objective 'binary:logistic' was changed from 'error' to 'logloss'. Explicitly set eval_metric if you'd like to restore the old behavior.\n"
     ]
    },
    {
     "data": {
      "text/plain": [
       "XGBClassifier(base_score=0.5, booster='gbtree', colsample_bylevel=1,\n",
       "              colsample_bynode=1, colsample_bytree=1, gamma=0, gpu_id=-1,\n",
       "              importance_type='gain', interaction_constraints='',\n",
       "              learning_rate=0.300000012, max_delta_step=0, max_depth=6,\n",
       "              min_child_weight=1, missing=nan, monotone_constraints='()',\n",
       "              n_estimators=100, n_jobs=16, num_parallel_tree=1, random_state=0,\n",
       "              reg_alpha=0, reg_lambda=1, scale_pos_weight=1, subsample=1,\n",
       "              tree_method='exact', validate_parameters=1, verbosity=None)"
      ]
     },
     "execution_count": 2,
     "metadata": {},
     "output_type": "execute_result"
    }
   ],
   "source": [
    "import pandas as pd\n",
    "from sklearn.preprocessing import MinMaxScaler\n",
    "from xgboost import XGBClassifier\n",
    "from sklearn.linear_model import LogisticRegression\n",
    "\n",
    "from sklearn.metrics import roc_auc_score\n",
    "from sklearn.model_selection import train_test_split\n",
    "\n",
    "\n",
    "data          = pd.read_csv(\"data/absenteeism.csv\", delimiter=';')\n",
    "\n",
    "feature_names = ['Transportation expense', 'Distance from Residence to Work',\n",
    "                 'Service time', 'Age', 'Work load Average/day ', 'Hit target',\n",
    "                 'Disciplinary failure', 'Education', 'Son', 'Social drinker',\n",
    "                 'Social smoker', 'Pet', 'Weight', 'Height', 'Body mass index']\n",
    "\n",
    "scaler        = MinMaxScaler(feature_range=(0, 1))\n",
    "X             = scaler.fit_transform(data[feature_names])\n",
    "Y             = ((data['Absenteeism time in hours'] > 4) * 1) \n",
    "\n",
    "X_train, X_test, Y_train, Y_test = train_test_split(X, Y, test_size=0.33, random_state=42)\n",
    "\n",
    "model         = XGBClassifier()\n",
    "\n",
    "model.fit(X_train, Y_train)"
   ]
  },
  {
   "cell_type": "markdown",
   "metadata": {},
   "source": [
    "Let us examine the AUC-ROC performance of the fitted XGBoost model on the test data"
   ]
  },
  {
   "cell_type": "code",
   "execution_count": 3,
   "metadata": {
    "collapsed": false,
    "jupyter": {
     "outputs_hidden": false
    }
   },
   "outputs": [
    {
     "data": {
      "text/plain": [
       "0.700890272148234"
      ]
     },
     "execution_count": 3,
     "metadata": {},
     "output_type": "execute_result"
    }
   ],
   "source": [
    "roc_auc_score(Y_test, model.predict_proba(X_test)[:, 1])"
   ]
  },
  {
   "cell_type": "markdown",
   "metadata": {},
   "source": [
    "How much better does XGBoost perform compared to a standard logistic regression?"
   ]
  },
  {
   "cell_type": "code",
   "execution_count": 4,
   "metadata": {
    "collapsed": false,
    "jupyter": {
     "outputs_hidden": false
    }
   },
   "outputs": [
    {
     "data": {
      "text/plain": [
       "0.6709250144759699"
      ]
     },
     "execution_count": 4,
     "metadata": {},
     "output_type": "execute_result"
    }
   ],
   "source": [
    "model_L = LogisticRegression()\n",
    "\n",
    "model_L.fit(X_train, Y_train)\n",
    "\n",
    "roc_auc_score(Y_test, model_L.predict_proba(X_test)[:, 1])"
   ]
  },
  {
   "cell_type": "markdown",
   "metadata": {},
   "source": [
    "Now let us create a symbolic metamodel instance. This takes the fitted model **model** and the training features **X_train** as follows"
   ]
  },
  {
   "cell_type": "code",
   "execution_count": 5,
   "metadata": {},
   "outputs": [
    {
     "data": {
      "text/plain": [
       "(495, 15)"
      ]
     },
     "execution_count": 5,
     "metadata": {},
     "output_type": "execute_result"
    }
   ],
   "source": [
    "X_train.shape"
   ]
  },
  {
   "cell_type": "code",
   "execution_count": 6,
   "metadata": {},
   "outputs": [
    {
     "data": {
      "text/plain": [
       "495"
      ]
     },
     "execution_count": 6,
     "metadata": {},
     "output_type": "execute_result"
    }
   ],
   "source": [
    "X_train.shape[0]"
   ]
  },
  {
   "cell_type": "code",
   "execution_count": 7,
   "metadata": {
    "tags": []
   },
   "outputs": [
    {
     "name": "stdout",
     "output_type": "stream",
     "text": [
      "---- Tuning the basis functions ----\n"
     ]
    },
    {
     "data": {
      "application/vnd.jupyter.widget-view+json": {
       "model_id": "d05e5489ed194b0c8da00dfa77984be0",
       "version_major": 2,
       "version_minor": 0
      },
      "text/plain": [
       "  0%|          | 0/15 [00:00<?, ?it/s]"
      ]
     },
     "metadata": {},
     "output_type": "display_data"
    },
    {
     "name": "stdout",
     "output_type": "stream",
     "text": [
      "----  Optimizing the metamodel  ----\n"
     ]
    },
    {
     "data": {
      "application/vnd.jupyter.widget-view+json": {
       "model_id": "cf49d1dfa6c147b2a8b9387682ccaa59",
       "version_major": 2,
       "version_minor": 0
      },
      "text/plain": [
       "  0%|          | 0/10 [00:00<?, ?it/s]"
      ]
     },
     "metadata": {},
     "output_type": "display_data"
    }
   ],
   "source": [
    "metamodel = symbolic_metamodel(model, X_train, 'regression')\n",
    "\n",
    "metamodel.fit(num_iter=10, batch_size=X_train.shape[0], learning_rate=.01)"
   ]
  },
  {
   "cell_type": "markdown",
   "metadata": {},
   "source": [
    "Now let us see how this metamodel performs using the **evaluate** method..."
   ]
  },
  {
   "cell_type": "code",
   "execution_count": 8,
   "metadata": {
    "collapsed": false,
    "jupyter": {
     "outputs_hidden": false
    }
   },
   "outputs": [
    {
     "data": {
      "text/plain": [
       "0.6920599305153444"
      ]
     },
     "execution_count": 8,
     "metadata": {},
     "output_type": "execute_result"
    }
   ],
   "source": [
    "Y_metamodel = metamodel.evaluate(X_test)\n",
    "\n",
    "roc_auc_score(Y_test, Y_metamodel)"
   ]
  },
  {
   "cell_type": "markdown",
   "metadata": {},
   "source": [
    "It performs close to the original XGBoost model! Now let us see the exact symbolic equation of the model in terms of Meijer-G functions"
   ]
  },
  {
   "cell_type": "markdown",
   "metadata": {},
   "source": [
    "By invoking the **.fit()** method in the **symbolic_metamodel** class, we essentially transform the XGBoost model to a space of interpretable symbolic equations as shown in the Figure below, without much loss in predictive accuracy. "
   ]
  },
  {
   "cell_type": "markdown",
   "metadata": {},
   "source": [
    "<img src=\"images/FigB2.png\" width=\"320\"/>"
   ]
  },
  {
   "cell_type": "markdown",
   "metadata": {},
   "source": [
    "Now we show how to extract the exact and approximate equation $g(x)$ from the metamodel class..."
   ]
  },
  {
   "cell_type": "code",
   "execution_count": 9,
   "metadata": {
    "collapsed": false,
    "jupyter": {
     "outputs_hidden": false
    }
   },
   "outputs": [
    {
     "data": {
      "text/latex": [
       "$\\displaystyle \\frac{1}{e^{0.170062204160917 \\operatorname{re}{\\left(X_{0}^{1.3139748398191} {{}_{2}F_{1}\\left(\\begin{matrix} 1.0, 1.0 \\\\ 1.24144764692094 \\end{matrix}\\middle| {1.39031152275745 X_{0} e^{i \\pi}} \\right)}\\right)} - 0.233945747483995 \\operatorname{re}{\\left(X_{1}^{0.505499371838737} {{}_{2}F_{1}\\left(\\begin{matrix} 1.0, 1.0 \\\\ 0.802627422970494 \\end{matrix}\\middle| {1.60976983229806 X_{1} e^{i \\pi}} \\right)}\\right)} + 0.227078958313112 \\operatorname{re}{\\left(X_{10}^{2.03401827307969} {{}_{2}F_{1}\\left(\\begin{matrix} 1.0, 1.0 \\\\ 2.05238328850332 \\end{matrix}\\middle| {0.779379451855607 X_{10} e^{i \\pi}} \\right)}\\right)} + 3.0507219546345 \\operatorname{re}{\\left(X_{11}^{0.831919566583644} {{}_{2}F_{1}\\left(\\begin{matrix} 1.0, 1.0 \\\\ 1.18577036985539 \\end{matrix}\\middle| {2.28959166344203 X_{11} e^{i \\pi}} \\right)}\\right)} - 0.993228375784589 \\operatorname{re}{\\left(X_{12}^{0.350568064061525} {{}_{2}F_{1}\\left(\\begin{matrix} 1.0, 1.0 \\\\ 0.836179310212418 \\end{matrix}\\middle| {2.37872595845861 X_{12} e^{i \\pi}} \\right)}\\right)} + 0.344210506048721 \\operatorname{re}{\\left(X_{13}^{0.676323028415981} {{}_{2}F_{1}\\left(\\begin{matrix} 1.0, 1.0 \\\\ 1.03738764655643 \\end{matrix}\\middle| {1.4252757433118 X_{13} e^{i \\pi}} \\right)}\\right)} - 1.22741114399205 \\operatorname{re}{\\left(X_{14}^{0.250318957217233} {{}_{2}F_{1}\\left(\\begin{matrix} 1.0, 1.0 \\\\ 0.823158736976876 \\end{matrix}\\middle| {2.0689603828857 X_{14} e^{i \\pi}} \\right)}\\right)} - 1.00576735836884 \\operatorname{re}{\\left(X_{2}^{0.961913478535204} {{}_{2}F_{1}\\left(\\begin{matrix} 1.0, 1.0 \\\\ 2.50778934274747 \\end{matrix}\\middle| {1.43823116414752 X_{2} e^{i \\pi}} \\right)}\\right)} - 0.253064727250068 \\operatorname{re}{\\left(X_{3}^{0.182117756386663} {{}_{2}F_{1}\\left(\\begin{matrix} 1.0, 1.0 \\\\ 0.771724365195897 \\end{matrix}\\middle| {2.8039480735423 X_{3} e^{i \\pi}} \\right)}\\right)} + 0.850645843424496 \\operatorname{re}{\\left(X_{4}^{0.918670036778966} {{}_{2}F_{1}\\left(\\begin{matrix} 1.0, 1.0 \\\\ 0.90295279350419 \\end{matrix}\\middle| {1.99036266724363 X_{4} e^{i \\pi}} \\right)}\\right)} + 2.61394308204972 \\operatorname{re}{\\left(X_{5}^{1.19908771862886} {{}_{2}F_{1}\\left(\\begin{matrix} 1.0, 1.0 \\\\ 0.753406884670593 \\end{matrix}\\middle| {1.53217285781868 X_{5} e^{i \\pi}} \\right)}\\right)} - 0.000502580164544619 \\operatorname{re}{\\left(X_{6}^{2.16666572964121} {{}_{2}F_{1}\\left(\\begin{matrix} 1.0, 1.0 \\\\ 2.23814743876707 \\end{matrix}\\middle| {0.305572826652062 X_{6} e^{i \\pi}} \\right)}\\right)} + 0.508356713511692 \\operatorname{re}{\\left(X_{7}^{1.7032853502054} {{}_{2}F_{1}\\left(\\begin{matrix} 1.0, 1.0 \\\\ 1.63921413164329 \\end{matrix}\\middle| {1.03795574268476 X_{7} e^{i \\pi}} \\right)}\\right)} - 0.198007901331762 \\operatorname{re}{\\left(X_{9}^{2.03383129362595} {{}_{2}F_{1}\\left(\\begin{matrix} 1.0, 1.0 \\\\ 2.05207149792223 \\end{matrix}\\middle| {0.76989476419432 X_{9} e^{i \\pi}} \\right)}\\right)} + 0.4978872566585 \\operatorname{re}{\\left(\\left(X_{0} X_{1}\\right)^{1.39311544889065} {{}_{2}F_{1}\\left(\\begin{matrix} 1.0, 1.0 \\\\ 1.37189432133333 \\end{matrix}\\middle| {1.49288472000157 X_{0} X_{1} e^{i \\pi}} \\right)}\\right)} - 0.314343070697891 \\operatorname{re}{\\left(\\left(X_{0} X_{10}\\right)^{1.3936615865562} {{}_{2}F_{1}\\left(\\begin{matrix} 1.0, 1.0 \\\\ 1.37312698406707 \\end{matrix}\\middle| {1.49179554418971 X_{0} X_{10} e^{i \\pi}} \\right)}\\right)} - 0.259615271299709 \\operatorname{re}{\\left(\\left(X_{0} X_{11}\\right)^{1.3934348725102} {{}_{2}F_{1}\\left(\\begin{matrix} 1.0, 1.0 \\\\ 1.37281536741832 \\end{matrix}\\middle| {1.4918301796906 X_{0} X_{11} e^{i \\pi}} \\right)}\\right)} - 2.38248345268197 \\operatorname{re}{\\left(\\left(X_{0} X_{12}\\right)^{1.39368166516229} {{}_{2}F_{1}\\left(\\begin{matrix} 1.0, 1.0 \\\\ 1.37298656104391 \\end{matrix}\\middle| {1.49161662385427 X_{0} X_{12} e^{i \\pi}} \\right)}\\right)} - 1.09537102920923 \\operatorname{re}{\\left(\\left(X_{0} X_{13}\\right)^{1.39362667076064} {{}_{2}F_{1}\\left(\\begin{matrix} 1.0, 1.0 \\\\ 1.37306621053542 \\end{matrix}\\middle| {1.49179936908491 X_{0} X_{13} e^{i \\pi}} \\right)}\\right)} - 0.662286145313601 \\operatorname{re}{\\left(\\left(X_{0} X_{14}\\right)^{1.3937062637933} {{}_{2}F_{1}\\left(\\begin{matrix} 1.0, 1.0 \\\\ 1.37301462209589 \\end{matrix}\\middle| {1.49161010157266 X_{0} X_{14} e^{i \\pi}} \\right)}\\right)} + 1.07715263185286 \\operatorname{re}{\\left(\\left(X_{0} X_{2}\\right)^{1.39375367404484} {{}_{2}F_{1}\\left(\\begin{matrix} 1.0, 1.0 \\\\ 1.37312782302989 \\end{matrix}\\middle| {1.49164976501925 X_{0} X_{2} e^{i \\pi}} \\right)}\\right)} + 0.372430706839102 \\operatorname{re}{\\left(\\left(X_{0} X_{3}\\right)^{1.39393921266769} {{}_{2}F_{1}\\left(\\begin{matrix} 1.0, 1.0 \\\\ 1.37331613200852 \\end{matrix}\\middle| {1.49156445070356 X_{0} X_{3} e^{i \\pi}} \\right)}\\right)} - 0.985221278151705 \\operatorname{re}{\\left(\\left(X_{0} X_{4}\\right)^{1.39347235049812} {{}_{2}F_{1}\\left(\\begin{matrix} 1.0, 1.0 \\\\ 1.37293613685033 \\end{matrix}\\middle| {1.49153492875755 X_{0} X_{4} e^{i \\pi}} \\right)}\\right)} + 0.0472017847150679 \\operatorname{re}{\\left(\\left(X_{0} X_{5}\\right)^{1.39370654176733} {{}_{2}F_{1}\\left(\\begin{matrix} 1.0, 1.0 \\\\ 1.37307569682101 \\end{matrix}\\middle| {1.49165513427502 X_{0} X_{5} e^{i \\pi}} \\right)}\\right)} + 1.7548436035357 \\operatorname{re}{\\left(\\left(X_{0} X_{6}\\right)^{1.39379117824338} {{}_{2}F_{1}\\left(\\begin{matrix} 1.0, 1.0 \\\\ 1.37342307530459 \\end{matrix}\\middle| {1.49140897673674 X_{0} X_{6} e^{i \\pi}} \\right)}\\right)} - 0.756091589609921 \\operatorname{re}{\\left(\\left(X_{0} X_{7}\\right)^{1.3935844083466} {{}_{2}F_{1}\\left(\\begin{matrix} 1.0, 1.0 \\\\ 1.37305027809315 \\end{matrix}\\middle| {1.49185752965068 X_{0} X_{7} e^{i \\pi}} \\right)}\\right)} + 0.300263259377599 \\operatorname{re}{\\left(\\left(X_{0} X_{8}\\right)^{1.39353262329037} {{}_{2}F_{1}\\left(\\begin{matrix} 1.0, 1.0 \\\\ 1.37295211563002 \\end{matrix}\\middle| {1.4919086301214 X_{0} X_{8} e^{i \\pi}} \\right)}\\right)} - 0.295840818181149 \\operatorname{re}{\\left(\\left(X_{0} X_{9}\\right)^{1.39304441785928} {{}_{2}F_{1}\\left(\\begin{matrix} 1.0, 1.0 \\\\ 1.37158407870686 \\end{matrix}\\middle| {1.49282898145001 X_{0} X_{9} e^{i \\pi}} \\right)}\\right)} + 0.0445184055648927 \\operatorname{re}{\\left(\\left(X_{1} X_{10}\\right)^{1.39359314601338} {{}_{2}F_{1}\\left(\\begin{matrix} 1.0, 1.0 \\\\ 1.3730047965133 \\end{matrix}\\middle| {1.49187114128225 X_{1} X_{10} e^{i \\pi}} \\right)}\\right)} - 2.70962918394205 \\operatorname{re}{\\left(\\left(X_{1} X_{11}\\right)^{1.39330885378753} {{}_{2}F_{1}\\left(\\begin{matrix} 1.0, 1.0 \\\\ 1.37256460717503 \\end{matrix}\\middle| {1.49201149973034 X_{1} X_{11} e^{i \\pi}} \\right)}\\right)} + 1.2879148922169 \\operatorname{re}{\\left(\\left(X_{1} X_{12}\\right)^{1.39310525592303} {{}_{2}F_{1}\\left(\\begin{matrix} 1.0, 1.0 \\\\ 1.37199424503573 \\end{matrix}\\middle| {1.49202757018596 X_{1} X_{12} e^{i \\pi}} \\right)}\\right)} + 0.174472657068271 \\operatorname{re}{\\left(\\left(X_{1} X_{13}\\right)^{1.39361364735576} {{}_{2}F_{1}\\left(\\begin{matrix} 1.0, 1.0 \\\\ 1.37303161491231 \\end{matrix}\\middle| {1.49177526231009 X_{1} X_{13} e^{i \\pi}} \\right)}\\right)} + 0.685443750745161 \\operatorname{re}{\\left(\\left(X_{1} X_{14}\\right)^{1.3931793716162} {{}_{2}F_{1}\\left(\\begin{matrix} 1.0, 1.0 \\\\ 1.37208732811184 \\end{matrix}\\middle| {1.4919398796027 X_{1} X_{14} e^{i \\pi}} \\right)}\\right)} - 0.628044203042091 \\operatorname{re}{\\left(\\left(X_{1} X_{2}\\right)^{1.3932287711032} {{}_{2}F_{1}\\left(\\begin{matrix} 1.0, 1.0 \\\\ 1.37223098482439 \\end{matrix}\\middle| {1.4919535920218 X_{1} X_{2} e^{i \\pi}} \\right)}\\right)} + 0.642924044444295 \\operatorname{re}{\\left(\\left(X_{1} X_{3}\\right)^{1.39380102335334} {{}_{2}F_{1}\\left(\\begin{matrix} 1.0, 1.0 \\\\ 1.37306371288639 \\end{matrix}\\middle| {1.49156188689115 X_{1} X_{3} e^{i \\pi}} \\right)}\\right)} - 0.589494283467812 \\operatorname{re}{\\left(\\left(X_{1} X_{4}\\right)^{1.39299688948954} {{}_{2}F_{1}\\left(\\begin{matrix} 1.0, 1.0 \\\\ 1.37217587899929 \\end{matrix}\\middle| {1.49182448045369 X_{1} X_{4} e^{i \\pi}} \\right)}\\right)} + 0.811031214832105 \\operatorname{re}{\\left(\\left(X_{1} X_{5}\\right)^{1.391701646256} {{}_{2}F_{1}\\left(\\begin{matrix} 1.0, 1.0 \\\\ 1.36957107199905 \\end{matrix}\\middle| {1.49435289871678 X_{1} X_{5} e^{i \\pi}} \\right)}\\right)} + 0.187629495008888 \\operatorname{re}{\\left(\\left(X_{1} X_{6}\\right)^{1.3938187362708} {{}_{2}F_{1}\\left(\\begin{matrix} 1.0, 1.0 \\\\ 1.37345785974766 \\end{matrix}\\middle| {1.49135653954521 X_{1} X_{6} e^{i \\pi}} \\right)}\\right)} + 0.553687825478863 \\operatorname{re}{\\left(\\left(X_{1} X_{7}\\right)^{1.39352710521431} {{}_{2}F_{1}\\left(\\begin{matrix} 1.0, 1.0 \\\\ 1.3730446278518 \\end{matrix}\\middle| {1.49198476271842 X_{1} X_{7} e^{i \\pi}} \\right)}\\right)} - 1.72103367936541 \\operatorname{re}{\\left(\\left(X_{1} X_{8}\\right)^{1.39386536230825} {{}_{2}F_{1}\\left(\\begin{matrix} 1.0, 1.0 \\\\ 1.37364608261607 \\end{matrix}\\middle| {1.49121942277385 X_{1} X_{8} e^{i \\pi}} \\right)}\\right)} + 0.371843328080279 \\operatorname{re}{\\left(\\left(X_{1} X_{9}\\right)^{1.39105334494393} {{}_{2}F_{1}\\left(\\begin{matrix} 1.0, 1.0 \\\\ 1.36743172435947 \\end{matrix}\\middle| {1.49672941053665 X_{1} X_{9} e^{i \\pi}} \\right)}\\right)} - 1.50993534499676 \\operatorname{re}{\\left(\\left(X_{10} X_{11}\\right)^{1.39353515391785} {{}_{2}F_{1}\\left(\\begin{matrix} 1.0, 1.0 \\\\ 1.37290108598169 \\end{matrix}\\middle| {1.49186429562548 X_{10} X_{11} e^{i \\pi}} \\right)}\\right)} - 0.548303482769347 \\operatorname{re}{\\left(\\left(X_{10} X_{12}\\right)^{1.39355356239201} {{}_{2}F_{1}\\left(\\begin{matrix} 1.0, 1.0 \\\\ 1.3729427388426 \\end{matrix}\\middle| {1.49187453383445 X_{10} X_{12} e^{i \\pi}} \\right)}\\right)} + 0.983604179282431 \\operatorname{re}{\\left(\\left(X_{10} X_{13}\\right)^{1.3936635791067} {{}_{2}F_{1}\\left(\\begin{matrix} 1.0, 1.0 \\\\ 1.37315877252385 \\end{matrix}\\middle| {1.49180620644192 X_{10} X_{13} e^{i \\pi}} \\right)}\\right)} - 0.65972709997311 \\operatorname{re}{\\left(\\left(X_{10} X_{14}\\right)^{1.39346116881214} {{}_{2}F_{1}\\left(\\begin{matrix} 1.0, 1.0 \\\\ 1.37276915149898 \\end{matrix}\\middle| {1.49198835767901 X_{10} X_{14} e^{i \\pi}} \\right)}\\right)} + 0.436836681277567 \\operatorname{re}{\\left(\\left(X_{10} X_{2}\\right)^{1.39356922779523} {{}_{2}F_{1}\\left(\\begin{matrix} 1.0, 1.0 \\\\ 1.37295729338303 \\end{matrix}\\middle| {1.49189366278718 X_{10} X_{2} e^{i \\pi}} \\right)}\\right)} - 0.483306168808424 \\operatorname{re}{\\left(\\left(X_{10} X_{3}\\right)^{1.39351617324743} {{}_{2}F_{1}\\left(\\begin{matrix} 1.0, 1.0 \\\\ 1.37286702927751 \\end{matrix}\\middle| {1.49191976763042 X_{10} X_{3} e^{i \\pi}} \\right)}\\right)} + 0.979887443602296 \\operatorname{re}{\\left(\\left(X_{10} X_{4}\\right)^{1.39337672869127} {{}_{2}F_{1}\\left(\\begin{matrix} 1.0, 1.0 \\\\ 1.37262474126335 \\end{matrix}\\middle| {1.49230003449901 X_{10} X_{4} e^{i \\pi}} \\right)}\\right)} - 0.495720480704569 \\operatorname{re}{\\left(\\left(X_{10} X_{5}\\right)^{1.39332056939102} {{}_{2}F_{1}\\left(\\begin{matrix} 1.0, 1.0 \\\\ 1.37237125151187 \\end{matrix}\\middle| {1.49260036855486 X_{10} X_{5} e^{i \\pi}} \\right)}\\right)} + 0.090362207689099 \\operatorname{re}{\\left(\\left(X_{10} X_{6}\\right)^{1.39357453714801} {{}_{2}F_{1}\\left(\\begin{matrix} 1.0, 1.0 \\\\ 1.37296198990507 \\end{matrix}\\middle| {1.49192653519085 X_{10} X_{6} e^{i \\pi}} \\right)}\\right)} + 1.90462915908389 \\operatorname{re}{\\left(\\left(X_{10} X_{7}\\right)^{1.3936287617079} {{}_{2}F_{1}\\left(\\begin{matrix} 1.0, 1.0 \\\\ 1.3730793836363 \\end{matrix}\\middle| {1.49182218890716 X_{10} X_{7} e^{i \\pi}} \\right)}\\right)} + 0.449921908833274 \\operatorname{re}{\\left(\\left(X_{10} X_{8}\\right)^{1.39366156895513} {{}_{2}F_{1}\\left(\\begin{matrix} 1.0, 1.0 \\\\ 1.37311856430948 \\end{matrix}\\middle| {1.49180256386123 X_{10} X_{8} e^{i \\pi}} \\right)}\\right)} - 0.299237505249982 \\operatorname{re}{\\left(\\left(X_{10} X_{9}\\right)^{1.39398061798992} {{}_{2}F_{1}\\left(\\begin{matrix} 1.0, 1.0 \\\\ 1.37382964082441 \\end{matrix}\\middle| {1.49114381469026 X_{10} X_{9} e^{i \\pi}} \\right)}\\right)} + 0.142452168039599 \\operatorname{re}{\\left(\\left(X_{11} X_{12}\\right)^{1.39356712612671} {{}_{2}F_{1}\\left(\\begin{matrix} 1.0, 1.0 \\\\ 1.37296480638815 \\end{matrix}\\middle| {1.49180977243031 X_{11} X_{12} e^{i \\pi}} \\right)}\\right)} - 0.224867804326433 \\operatorname{re}{\\left(\\left(X_{11} X_{13}\\right)^{1.39357376315321} {{}_{2}F_{1}\\left(\\begin{matrix} 1.0, 1.0 \\\\ 1.37301618932877 \\end{matrix}\\middle| {1.4918254499091 X_{11} X_{13} e^{i \\pi}} \\right)}\\right)} + 0.322774534453236 \\operatorname{re}{\\left(\\left(X_{11} X_{14}\\right)^{1.3935541741857} {{}_{2}F_{1}\\left(\\begin{matrix} 1.0, 1.0 \\\\ 1.37294396732163 \\end{matrix}\\middle| {1.49181401883875 X_{11} X_{14} e^{i \\pi}} \\right)}\\right)} + 1.05458617631601 \\operatorname{re}{\\left(\\left(X_{11} X_{2}\\right)^{1.39356844923967} {{}_{2}F_{1}\\left(\\begin{matrix} 1.0, 1.0 \\\\ 1.37301073171379 \\end{matrix}\\middle| {1.49182371278803 X_{11} X_{2} e^{i \\pi}} \\right)}\\right)} - 0.423260725914495 \\operatorname{re}{\\left(\\left(X_{11} X_{3}\\right)^{1.39366362222214} {{}_{2}F_{1}\\left(\\begin{matrix} 1.0, 1.0 \\\\ 1.37308128204433 \\end{matrix}\\middle| {1.49177166796052 X_{11} X_{3} e^{i \\pi}} \\right)}\\right)} + 0.3735521621687 \\operatorname{re}{\\left(\\left(X_{11} X_{4}\\right)^{1.39348506252337} {{}_{2}F_{1}\\left(\\begin{matrix} 1.0, 1.0 \\\\ 1.37293161196229 \\end{matrix}\\middle| {1.4918699503518 X_{11} X_{4} e^{i \\pi}} \\right)}\\right)} + 0.945195044408617 \\operatorname{re}{\\left(\\left(X_{11} X_{5}\\right)^{1.39334494221805} {{}_{2}F_{1}\\left(\\begin{matrix} 1.0, 1.0 \\\\ 1.37268435664517 \\end{matrix}\\middle| {1.49199085796205 X_{11} X_{5} e^{i \\pi}} \\right)}\\right)} - 0.835355353500115 \\operatorname{re}{\\left(\\left(X_{11} X_{6}\\right)^{1.39362348283847} {{}_{2}F_{1}\\left(\\begin{matrix} 1.0, 1.0 \\\\ 1.37304579628605 \\end{matrix}\\middle| {1.49183042959953 X_{11} X_{6} e^{i \\pi}} \\right)}\\right)} - 1.23273219535385 \\operatorname{re}{\\left(\\left(X_{11} X_{7}\\right)^{1.39366571315831} {{}_{2}F_{1}\\left(\\begin{matrix} 1.0, 1.0 \\\\ 1.3731142460462 \\end{matrix}\\middle| {1.49180865106769 X_{11} X_{7} e^{i \\pi}} \\right)}\\right)} - 1.36684649270373 \\operatorname{re}{\\left(\\left(X_{11} X_{8}\\right)^{1.39361679318472} {{}_{2}F_{1}\\left(\\begin{matrix} 1.0, 1.0 \\\\ 1.37305588881758 \\end{matrix}\\middle| {1.49179517201808 X_{11} X_{8} e^{i \\pi}} \\right)}\\right)} - 1.82402984726541 \\operatorname{re}{\\left(\\left(X_{11} X_{9}\\right)^{1.39334844938809} {{}_{2}F_{1}\\left(\\begin{matrix} 1.0, 1.0 \\\\ 1.37255682095061 \\end{matrix}\\middle| {1.49211809857631 X_{11} X_{9} e^{i \\pi}} \\right)}\\right)} + 0.159594535720733 \\operatorname{re}{\\left(\\left(X_{12} X_{13}\\right)^{1.39413164031986} {{}_{2}F_{1}\\left(\\begin{matrix} 1.0, 1.0 \\\\ 1.37381666684495 \\end{matrix}\\middle| {1.4914414642865 X_{12} X_{13} e^{i \\pi}} \\right)}\\right)} - 0.621259424591296 \\operatorname{re}{\\left(\\left(X_{12} X_{14}\\right)^{1.39288448313325} {{}_{2}F_{1}\\left(\\begin{matrix} 1.0, 1.0 \\\\ 1.37124058033718 \\end{matrix}\\middle| {1.49304832051176 X_{12} X_{14} e^{i \\pi}} \\right)}\\right)} + 0.187213099400275 \\operatorname{re}{\\left(\\left(X_{12} X_{2}\\right)^{1.39376587097883} {{}_{2}F_{1}\\left(\\begin{matrix} 1.0, 1.0 \\\\ 1.3730006473242 \\end{matrix}\\middle| {1.49159981353433 X_{12} X_{2} e^{i \\pi}} \\right)}\\right)} + 0.720692838701901 \\operatorname{re}{\\left(\\left(X_{12} X_{3}\\right)^{1.39396121754747} {{}_{2}F_{1}\\left(\\begin{matrix} 1.0, 1.0 \\\\ 1.37328171158352 \\end{matrix}\\middle| {1.49149503312605 X_{12} X_{3} e^{i \\pi}} \\right)}\\right)} + 1.04136831470087 \\operatorname{re}{\\left(\\left(X_{12} X_{4}\\right)^{1.39380161733934} {{}_{2}F_{1}\\left(\\begin{matrix} 1.0, 1.0 \\\\ 1.37325121904011 \\end{matrix}\\middle| {1.49145035474541 X_{12} X_{4} e^{i \\pi}} \\right)}\\right)} - 1.16722039120317 \\operatorname{re}{\\left(\\left(X_{12} X_{5}\\right)^{1.39212113439897} {{}_{2}F_{1}\\left(\\begin{matrix} 1.0, 1.0 \\\\ 1.37029148361699 \\end{matrix}\\middle| {1.49341965740247 X_{12} X_{5} e^{i \\pi}} \\right)}\\right)} + 0.0547344544638104 \\operatorname{re}{\\left(\\left(X_{12} X_{6}\\right)^{1.39362882876566} {{}_{2}F_{1}\\left(\\begin{matrix} 1.0, 1.0 \\\\ 1.3730666981463 \\end{matrix}\\middle| {1.49174477229331 X_{12} X_{6} e^{i \\pi}} \\right)}\\right)} - 1.17518866547594 \\operatorname{re}{\\left(\\left(X_{12} X_{7}\\right)^{1.39372818252185} {{}_{2}F_{1}\\left(\\begin{matrix} 1.0, 1.0 \\\\ 1.37321288273272 \\end{matrix}\\middle| {1.49166280273032 X_{12} X_{7} e^{i \\pi}} \\right)}\\right)} - 0.0492289541063916 \\operatorname{re}{\\left(\\left(X_{12} X_{8}\\right)^{1.39368185790066} {{}_{2}F_{1}\\left(\\begin{matrix} 1.0, 1.0 \\\\ 1.37316085518116 \\end{matrix}\\middle| {1.49181325294251 X_{12} X_{8} e^{i \\pi}} \\right)}\\right)} - 0.910690241855037 \\operatorname{re}{\\left(\\left(X_{12} X_{9}\\right)^{1.3930871890027} {{}_{2}F_{1}\\left(\\begin{matrix} 1.0, 1.0 \\\\ 1.37172360943469 \\end{matrix}\\middle| {1.49268388288035 X_{12} X_{9} e^{i \\pi}} \\right)}\\right)} + 1.30126973266 \\operatorname{re}{\\left(\\left(X_{13} X_{14}\\right)^{1.39382867297462} {{}_{2}F_{1}\\left(\\begin{matrix} 1.0, 1.0 \\\\ 1.3732817683462 \\end{matrix}\\middle| {1.49175137756725 X_{13} X_{14} e^{i \\pi}} \\right)}\\right)} + 0.452340317739153 \\operatorname{re}{\\left(\\left(X_{13} X_{2}\\right)^{1.39380344722971} {{}_{2}F_{1}\\left(\\begin{matrix} 1.0, 1.0 \\\\ 1.37329002589881 \\end{matrix}\\middle| {1.49177247512716 X_{13} X_{2} e^{i \\pi}} \\right)}\\right)} + 0.524590061173307 \\operatorname{re}{\\left(\\left(X_{13} X_{3}\\right)^{1.39383989644445} {{}_{2}F_{1}\\left(\\begin{matrix} 1.0, 1.0 \\\\ 1.37329207285055 \\end{matrix}\\middle| {1.49175702772718 X_{13} X_{3} e^{i \\pi}} \\right)}\\right)} + 0.982734220723087 \\operatorname{re}{\\left(\\left(X_{13} X_{4}\\right)^{1.39442626070195} {{}_{2}F_{1}\\left(\\begin{matrix} 1.0, 1.0 \\\\ 1.37472376208767 \\end{matrix}\\middle| {1.49023931606978 X_{13} X_{4} e^{i \\pi}} \\right)}\\right)} - 0.867790213755748 \\operatorname{re}{\\left(\\left(X_{13} X_{5}\\right)^{1.39354122362015} {{}_{2}F_{1}\\left(\\begin{matrix} 1.0, 1.0 \\\\ 1.37286855123026 \\end{matrix}\\middle| {1.4922163694097 X_{13} X_{5} e^{i \\pi}} \\right)}\\right)} - 0.395492071405468 \\operatorname{re}{\\left(\\left(X_{13} X_{6}\\right)^{1.39359505652211} {{}_{2}F_{1}\\left(\\begin{matrix} 1.0, 1.0 \\\\ 1.37300985793433 \\end{matrix}\\middle| {1.49184205472068 X_{13} X_{6} e^{i \\pi}} \\right)}\\right)} + 1.48267208307026 \\operatorname{re}{\\left(\\left(X_{13} X_{7}\\right)^{1.39363154640624} {{}_{2}F_{1}\\left(\\begin{matrix} 1.0, 1.0 \\\\ 1.37315359648944 \\end{matrix}\\middle| {1.49187915216398 X_{13} X_{7} e^{i \\pi}} \\right)}\\right)} - 0.176092801637987 \\operatorname{re}{\\left(\\left(X_{13} X_{8}\\right)^{1.3936162330112} {{}_{2}F_{1}\\left(\\begin{matrix} 1.0, 1.0 \\\\ 1.37314023051832 \\end{matrix}\\middle| {1.49188446662968 X_{13} X_{8} e^{i \\pi}} \\right)}\\right)} + 0.0323582065364123 \\operatorname{re}{\\left(\\left(X_{13} X_{9}\\right)^{1.3946949348136} {{}_{2}F_{1}\\left(\\begin{matrix} 1.0, 1.0 \\\\ 1.37494463399015 \\end{matrix}\\middle| {1.49023700006196 X_{13} X_{9} e^{i \\pi}} \\right)}\\right)} + 0.0861314132971435 \\operatorname{re}{\\left(\\left(X_{14} X_{2}\\right)^{1.39373567487228} {{}_{2}F_{1}\\left(\\begin{matrix} 1.0, 1.0 \\\\ 1.3729468949467 \\end{matrix}\\middle| {1.49153750266065 X_{14} X_{2} e^{i \\pi}} \\right)}\\right)} + 0.731893865461575 \\operatorname{re}{\\left(\\left(X_{14} X_{3}\\right)^{1.39388125741419} {{}_{2}F_{1}\\left(\\begin{matrix} 1.0, 1.0 \\\\ 1.37313759670363 \\end{matrix}\\middle| {1.4915443140429 X_{14} X_{3} e^{i \\pi}} \\right)}\\right)} + 0.390633308569036 \\operatorname{re}{\\left(\\left(X_{14} X_{4}\\right)^{1.39361864819367} {{}_{2}F_{1}\\left(\\begin{matrix} 1.0, 1.0 \\\\ 1.37290330657815 \\end{matrix}\\middle| {1.49165879486967 X_{14} X_{4} e^{i \\pi}} \\right)}\\right)} + 0.961791407084852 \\operatorname{re}{\\left(\\left(X_{14} X_{5}\\right)^{1.39205110520879} {{}_{2}F_{1}\\left(\\begin{matrix} 1.0, 1.0 \\\\ 1.37009757870141 \\end{matrix}\\middle| {1.49357594373094 X_{14} X_{5} e^{i \\pi}} \\right)}\\right)} + 0.335624187497227 \\operatorname{re}{\\left(\\left(X_{14} X_{6}\\right)^{1.39361504119268} {{}_{2}F_{1}\\left(\\begin{matrix} 1.0, 1.0 \\\\ 1.37304046005982 \\end{matrix}\\middle| {1.49178110682196 X_{14} X_{6} e^{i \\pi}} \\right)}\\right)} - 0.411551763171608 \\operatorname{re}{\\left(\\left(X_{14} X_{7}\\right)^{1.39366066981818} {{}_{2}F_{1}\\left(\\begin{matrix} 1.0, 1.0 \\\\ 1.37309398682482 \\end{matrix}\\middle| {1.49177408759128 X_{14} X_{7} e^{i \\pi}} \\right)}\\right)} - 0.0851928049648747 \\operatorname{re}{\\left(\\left(X_{14} X_{8}\\right)^{1.39364091036716} {{}_{2}F_{1}\\left(\\begin{matrix} 1.0, 1.0 \\\\ 1.37307774072101 \\end{matrix}\\middle| {1.49177092902476 X_{14} X_{8} e^{i \\pi}} \\right)}\\right)} - 0.624009566807549 \\operatorname{re}{\\left(\\left(X_{14} X_{9}\\right)^{1.39247398878109} {{}_{2}F_{1}\\left(\\begin{matrix} 1.0, 1.0 \\\\ 1.37052577919576 \\end{matrix}\\middle| {1.49366387599958 X_{14} X_{9} e^{i \\pi}} \\right)}\\right)} - 1.22493726628171 \\operatorname{re}{\\left(\\left(X_{2} X_{3}\\right)^{1.39398592985688} {{}_{2}F_{1}\\left(\\begin{matrix} 1.0, 1.0 \\\\ 1.37329214304508 \\end{matrix}\\middle| {1.49146563418597 X_{2} X_{3} e^{i \\pi}} \\right)}\\right)} - 2.53905417084435 \\operatorname{re}{\\left(\\left(X_{2} X_{4}\\right)^{1.39365031798153} {{}_{2}F_{1}\\left(\\begin{matrix} 1.0, 1.0 \\\\ 1.37298274105344 \\end{matrix}\\middle| {1.49166700799126 X_{2} X_{4} e^{i \\pi}} \\right)}\\right)} - 0.857544574052348 \\operatorname{re}{\\left(\\left(X_{2} X_{5}\\right)^{1.39265707852879} {{}_{2}F_{1}\\left(\\begin{matrix} 1.0, 1.0 \\\\ 1.37135139037106 \\end{matrix}\\middle| {1.49250076361196 X_{2} X_{5} e^{i \\pi}} \\right)}\\right)} + 0.755996468629151 \\operatorname{re}{\\left(\\left(X_{2} X_{6}\\right)^{1.39364444782806} {{}_{2}F_{1}\\left(\\begin{matrix} 1.0, 1.0 \\\\ 1.37308952095638 \\end{matrix}\\middle| {1.49180421605868 X_{2} X_{6} e^{i \\pi}} \\right)}\\right)} - 0.372688337106826 \\operatorname{re}{\\left(\\left(X_{2} X_{7}\\right)^{1.39355688499532} {{}_{2}F_{1}\\left(\\begin{matrix} 1.0, 1.0 \\\\ 1.37302848766019 \\end{matrix}\\middle| {1.49186523289395 X_{2} X_{7} e^{i \\pi}} \\right)}\\right)} - 1.11494114311497 \\operatorname{re}{\\left(\\left(X_{2} X_{8}\\right)^{1.39356822309733} {{}_{2}F_{1}\\left(\\begin{matrix} 1.0, 1.0 \\\\ 1.37301694228154 \\end{matrix}\\middle| {1.49183109036433 X_{2} X_{8} e^{i \\pi}} \\right)}\\right)} - 0.458567798144509 \\operatorname{re}{\\left(\\left(X_{2} X_{9}\\right)^{1.39302566400086} {{}_{2}F_{1}\\left(\\begin{matrix} 1.0, 1.0 \\\\ 1.37183507724449 \\end{matrix}\\middle| {1.49208036759847 X_{2} X_{9} e^{i \\pi}} \\right)}\\right)} - 0.0175779630867751 \\operatorname{re}{\\left(\\left(X_{3} X_{4}\\right)^{1.39389982803861} {{}_{2}F_{1}\\left(\\begin{matrix} 1.0, 1.0 \\\\ 1.37329467567557 \\end{matrix}\\middle| {1.49151720534752 X_{3} X_{4} e^{i \\pi}} \\right)}\\right)} - 0.0442654721459584 \\operatorname{re}{\\left(\\left(X_{3} X_{5}\\right)^{1.39419347450722} {{}_{2}F_{1}\\left(\\begin{matrix} 1.0, 1.0 \\\\ 1.37408202506687 \\end{matrix}\\middle| {1.48984650873092 X_{3} X_{5} e^{i \\pi}} \\right)}\\right)} - 0.304323730433283 \\operatorname{re}{\\left(\\left(X_{3} X_{6}\\right)^{1.39361454013945} {{}_{2}F_{1}\\left(\\begin{matrix} 1.0, 1.0 \\\\ 1.37304408967439 \\end{matrix}\\middle| {1.49179854347162 X_{3} X_{6} e^{i \\pi}} \\right)}\\right)} - 0.175865820377003 \\operatorname{re}{\\left(\\left(X_{3} X_{7}\\right)^{1.39362771103989} {{}_{2}F_{1}\\left(\\begin{matrix} 1.0, 1.0 \\\\ 1.3730857129114 \\end{matrix}\\middle| {1.49181172771532 X_{3} X_{7} e^{i \\pi}} \\right)}\\right)} + 0.716737012426359 \\operatorname{re}{\\left(\\left(X_{3} X_{8}\\right)^{1.39368309227224} {{}_{2}F_{1}\\left(\\begin{matrix} 1.0, 1.0 \\\\ 1.37311958426619 \\end{matrix}\\middle| {1.49179827909971 X_{3} X_{8} e^{i \\pi}} \\right)}\\right)} + 1.82266253932333 \\operatorname{re}{\\left(\\left(X_{3} X_{9}\\right)^{1.39366325456046} {{}_{2}F_{1}\\left(\\begin{matrix} 1.0, 1.0 \\\\ 1.37294604616707 \\end{matrix}\\middle| {1.49144560086195 X_{3} X_{9} e^{i \\pi}} \\right)}\\right)} - 1.43894584975445 \\operatorname{re}{\\left(\\left(X_{4} X_{5}\\right)^{1.39279654977772} {{}_{2}F_{1}\\left(\\begin{matrix} 1.0, 1.0 \\\\ 1.37163334789068 \\end{matrix}\\middle| {1.49280033870035 X_{4} X_{5} e^{i \\pi}} \\right)}\\right)} + 0.362345303165333 \\operatorname{re}{\\left(\\left(X_{4} X_{6}\\right)^{1.39364709163879} {{}_{2}F_{1}\\left(\\begin{matrix} 1.0, 1.0 \\\\ 1.37308825048276 \\end{matrix}\\middle| {1.49179439009907 X_{4} X_{6} e^{i \\pi}} \\right)}\\right)} + 0.600767469057331 \\operatorname{re}{\\left(\\left(X_{4} X_{7}\\right)^{1.39355290834715} {{}_{2}F_{1}\\left(\\begin{matrix} 1.0, 1.0 \\\\ 1.37301901198185 \\end{matrix}\\middle| {1.49199197253629 X_{4} X_{7} e^{i \\pi}} \\right)}\\right)} + 1.34351472206162 \\operatorname{re}{\\left(\\left(X_{4} X_{8}\\right)^{1.39291809833954} {{}_{2}F_{1}\\left(\\begin{matrix} 1.0, 1.0 \\\\ 1.37179867331651 \\end{matrix}\\middle| {1.49305418773847 X_{4} X_{8} e^{i \\pi}} \\right)}\\right)} + 0.675787088040874 \\operatorname{re}{\\left(\\left(X_{4} X_{9}\\right)^{1.39341075777868} {{}_{2}F_{1}\\left(\\begin{matrix} 1.0, 1.0 \\\\ 1.37288961129771 \\end{matrix}\\middle| {1.49088540145027 X_{4} X_{9} e^{i \\pi}} \\right)}\\right)} - 0.129051106902278 \\operatorname{re}{\\left(\\left(X_{5} X_{6}\\right)^{1.39389721259706} {{}_{2}F_{1}\\left(\\begin{matrix} 1.0, 1.0 \\\\ 1.3735628363909 \\end{matrix}\\middle| {1.49134616960062 X_{5} X_{6} e^{i \\pi}} \\right)}\\right)} + 0.0852244648087451 \\operatorname{re}{\\left(\\left(X_{5} X_{7}\\right)^{1.39358351717752} {{}_{2}F_{1}\\left(\\begin{matrix} 1.0, 1.0 \\\\ 1.37301919614545 \\end{matrix}\\middle| {1.49229161048126 X_{5} X_{7} e^{i \\pi}} \\right)}\\right)} - 0.373234946025277 \\operatorname{re}{\\left(\\left(X_{5} X_{8}\\right)^{1.39452637751506} {{}_{2}F_{1}\\left(\\begin{matrix} 1.0, 1.0 \\\\ 1.37513252448409 \\end{matrix}\\middle| {1.4895477553574 X_{5} X_{8} e^{i \\pi}} \\right)}\\right)} - 0.121210691494592 \\operatorname{re}{\\left(\\left(X_{5} X_{9}\\right)^{1.39143688991379} {{}_{2}F_{1}\\left(\\begin{matrix} 1.0, 1.0 \\\\ 1.3687049614806 \\end{matrix}\\middle| {1.4951934275841 X_{5} X_{9} e^{i \\pi}} \\right)}\\right)} + 0.103040656118677 \\operatorname{re}{\\left(\\left(X_{6} X_{7}\\right)^{1.3936457954988} {{}_{2}F_{1}\\left(\\begin{matrix} 1.0, 1.0 \\\\ 1.37310171097231 \\end{matrix}\\middle| {1.49180286897055 X_{6} X_{7} e^{i \\pi}} \\right)}\\right)} - 0.222928718398661 \\operatorname{re}{\\left(\\left(X_{6} X_{8}\\right)^{1.39361727197504} {{}_{2}F_{1}\\left(\\begin{matrix} 1.0, 1.0 \\\\ 1.37300722399665 \\end{matrix}\\middle| {1.49191622061781 X_{6} X_{8} e^{i \\pi}} \\right)}\\right)} - 0.212154209111268 \\operatorname{re}{\\left(\\left(X_{6} X_{9}\\right)^{1.39332484738398} {{}_{2}F_{1}\\left(\\begin{matrix} 1.0, 1.0 \\\\ 1.37242870071926 \\end{matrix}\\middle| {1.49240742915651 X_{6} X_{9} e^{i \\pi}} \\right)}\\right)} - 0.42375280531716 \\operatorname{re}{\\left(\\left(X_{7} X_{8}\\right)^{1.39371895356031} {{}_{2}F_{1}\\left(\\begin{matrix} 1.0, 1.0 \\\\ 1.37318373793554 \\end{matrix}\\middle| {1.49178158725877 X_{7} X_{8} e^{i \\pi}} \\right)}\\right)} + 0.199514538481738 \\operatorname{re}{\\left(\\left(X_{7} X_{9}\\right)^{1.39393342071817} {{}_{2}F_{1}\\left(\\begin{matrix} 1.0, 1.0 \\\\ 1.3737213222919 \\end{matrix}\\middle| {1.49123525990351 X_{7} X_{9} e^{i \\pi}} \\right)}\\right)} + 1.01426641868627 \\operatorname{re}{\\left(\\left(X_{8} X_{9}\\right)^{1.39404308199244} {{}_{2}F_{1}\\left(\\begin{matrix} 1.0, 1.0 \\\\ 1.37395171220418 \\end{matrix}\\middle| {1.49120371650204 X_{8} X_{9} e^{i \\pi}} \\right)}\\right)} + 0.0788310952720024 \\operatorname{re}{\\left(X_{8}^{1.57241735556417} e^{1.57241735556417 i \\pi} {{}_{2}F_{1}\\left(\\begin{matrix} 1.0, 1.0 \\\\ 5.28333519708451 \\end{matrix}\\middle| {2.67313232492643 X_{8} e^{2 i \\pi}} \\right)}\\right)}} + 1}$"
      ],
      "text/plain": [
       "1/(exp(0.170062204160917*re(X0**1.3139748398191*hyper((1.0, 1.0), (1.24144764692094,), 1.39031152275745*X0*exp_polar(I*pi))) - 0.233945747483995*re(X1**0.505499371838737*hyper((1.0, 1.0), (0.802627422970494,), 1.60976983229806*X1*exp_polar(I*pi))) + 0.227078958313112*re(X10**2.03401827307969*hyper((1.0, 1.0), (2.05238328850332,), 0.779379451855607*X10*exp_polar(I*pi))) + 3.0507219546345*re(X11**0.831919566583644*hyper((1.0, 1.0), (1.18577036985539,), 2.28959166344203*X11*exp_polar(I*pi))) - 0.993228375784589*re(X12**0.350568064061525*hyper((1.0, 1.0), (0.836179310212418,), 2.37872595845861*X12*exp_polar(I*pi))) + 0.344210506048721*re(X13**0.676323028415981*hyper((1.0, 1.0), (1.03738764655643,), 1.4252757433118*X13*exp_polar(I*pi))) - 1.22741114399205*re(X14**0.250318957217233*hyper((1.0, 1.0), (0.823158736976876,), 2.0689603828857*X14*exp_polar(I*pi))) - 1.00576735836884*re(X2**0.961913478535204*hyper((1.0, 1.0), (2.50778934274747,), 1.43823116414752*X2*exp_polar(I*pi))) - 0.253064727250068*re(X3**0.182117756386663*hyper((1.0, 1.0), (0.771724365195897,), 2.8039480735423*X3*exp_polar(I*pi))) + 0.850645843424496*re(X4**0.918670036778966*hyper((1.0, 1.0), (0.90295279350419,), 1.99036266724363*X4*exp_polar(I*pi))) + 2.61394308204972*re(X5**1.19908771862886*hyper((1.0, 1.0), (0.753406884670593,), 1.53217285781868*X5*exp_polar(I*pi))) - 0.000502580164544619*re(X6**2.16666572964121*hyper((1.0, 1.0), (2.23814743876707,), 0.305572826652062*X6*exp_polar(I*pi))) + 0.508356713511692*re(X7**1.7032853502054*hyper((1.0, 1.0), (1.63921413164329,), 1.03795574268476*X7*exp_polar(I*pi))) - 0.198007901331762*re(X9**2.03383129362595*hyper((1.0, 1.0), (2.05207149792223,), 0.76989476419432*X9*exp_polar(I*pi))) + 0.4978872566585*re((X0*X1)**1.39311544889065*hyper((1.0, 1.0), (1.37189432133333,), 1.49288472000157*X0*X1*exp_polar(I*pi))) - 0.314343070697891*re((X0*X10)**1.3936615865562*hyper((1.0, 1.0), (1.37312698406707,), 1.49179554418971*X0*X10*exp_polar(I*pi))) - 0.259615271299709*re((X0*X11)**1.3934348725102*hyper((1.0, 1.0), (1.37281536741832,), 1.4918301796906*X0*X11*exp_polar(I*pi))) - 2.38248345268197*re((X0*X12)**1.39368166516229*hyper((1.0, 1.0), (1.37298656104391,), 1.49161662385427*X0*X12*exp_polar(I*pi))) - 1.09537102920923*re((X0*X13)**1.39362667076064*hyper((1.0, 1.0), (1.37306621053542,), 1.49179936908491*X0*X13*exp_polar(I*pi))) - 0.662286145313601*re((X0*X14)**1.3937062637933*hyper((1.0, 1.0), (1.37301462209589,), 1.49161010157266*X0*X14*exp_polar(I*pi))) + 1.07715263185286*re((X0*X2)**1.39375367404484*hyper((1.0, 1.0), (1.37312782302989,), 1.49164976501925*X0*X2*exp_polar(I*pi))) + 0.372430706839102*re((X0*X3)**1.39393921266769*hyper((1.0, 1.0), (1.37331613200852,), 1.49156445070356*X0*X3*exp_polar(I*pi))) - 0.985221278151705*re((X0*X4)**1.39347235049812*hyper((1.0, 1.0), (1.37293613685033,), 1.49153492875755*X0*X4*exp_polar(I*pi))) + 0.0472017847150679*re((X0*X5)**1.39370654176733*hyper((1.0, 1.0), (1.37307569682101,), 1.49165513427502*X0*X5*exp_polar(I*pi))) + 1.7548436035357*re((X0*X6)**1.39379117824338*hyper((1.0, 1.0), (1.37342307530459,), 1.49140897673674*X0*X6*exp_polar(I*pi))) - 0.756091589609921*re((X0*X7)**1.3935844083466*hyper((1.0, 1.0), (1.37305027809315,), 1.49185752965068*X0*X7*exp_polar(I*pi))) + 0.300263259377599*re((X0*X8)**1.39353262329037*hyper((1.0, 1.0), (1.37295211563002,), 1.4919086301214*X0*X8*exp_polar(I*pi))) - 0.295840818181149*re((X0*X9)**1.39304441785928*hyper((1.0, 1.0), (1.37158407870686,), 1.49282898145001*X0*X9*exp_polar(I*pi))) + 0.0445184055648927*re((X1*X10)**1.39359314601338*hyper((1.0, 1.0), (1.3730047965133,), 1.49187114128225*X1*X10*exp_polar(I*pi))) - 2.70962918394205*re((X1*X11)**1.39330885378753*hyper((1.0, 1.0), (1.37256460717503,), 1.49201149973034*X1*X11*exp_polar(I*pi))) + 1.2879148922169*re((X1*X12)**1.39310525592303*hyper((1.0, 1.0), (1.37199424503573,), 1.49202757018596*X1*X12*exp_polar(I*pi))) + 0.174472657068271*re((X1*X13)**1.39361364735576*hyper((1.0, 1.0), (1.37303161491231,), 1.49177526231009*X1*X13*exp_polar(I*pi))) + 0.685443750745161*re((X1*X14)**1.3931793716162*hyper((1.0, 1.0), (1.37208732811184,), 1.4919398796027*X1*X14*exp_polar(I*pi))) - 0.628044203042091*re((X1*X2)**1.3932287711032*hyper((1.0, 1.0), (1.37223098482439,), 1.4919535920218*X1*X2*exp_polar(I*pi))) + 0.642924044444295*re((X1*X3)**1.39380102335334*hyper((1.0, 1.0), (1.37306371288639,), 1.49156188689115*X1*X3*exp_polar(I*pi))) - 0.589494283467812*re((X1*X4)**1.39299688948954*hyper((1.0, 1.0), (1.37217587899929,), 1.49182448045369*X1*X4*exp_polar(I*pi))) + 0.811031214832105*re((X1*X5)**1.391701646256*hyper((1.0, 1.0), (1.36957107199905,), 1.49435289871678*X1*X5*exp_polar(I*pi))) + 0.187629495008888*re((X1*X6)**1.3938187362708*hyper((1.0, 1.0), (1.37345785974766,), 1.49135653954521*X1*X6*exp_polar(I*pi))) + 0.553687825478863*re((X1*X7)**1.39352710521431*hyper((1.0, 1.0), (1.3730446278518,), 1.49198476271842*X1*X7*exp_polar(I*pi))) - 1.72103367936541*re((X1*X8)**1.39386536230825*hyper((1.0, 1.0), (1.37364608261607,), 1.49121942277385*X1*X8*exp_polar(I*pi))) + 0.371843328080279*re((X1*X9)**1.39105334494393*hyper((1.0, 1.0), (1.36743172435947,), 1.49672941053665*X1*X9*exp_polar(I*pi))) - 1.50993534499676*re((X10*X11)**1.39353515391785*hyper((1.0, 1.0), (1.37290108598169,), 1.49186429562548*X10*X11*exp_polar(I*pi))) - 0.548303482769347*re((X10*X12)**1.39355356239201*hyper((1.0, 1.0), (1.3729427388426,), 1.49187453383445*X10*X12*exp_polar(I*pi))) + 0.983604179282431*re((X10*X13)**1.3936635791067*hyper((1.0, 1.0), (1.37315877252385,), 1.49180620644192*X10*X13*exp_polar(I*pi))) - 0.65972709997311*re((X10*X14)**1.39346116881214*hyper((1.0, 1.0), (1.37276915149898,), 1.49198835767901*X10*X14*exp_polar(I*pi))) + 0.436836681277567*re((X10*X2)**1.39356922779523*hyper((1.0, 1.0), (1.37295729338303,), 1.49189366278718*X10*X2*exp_polar(I*pi))) - 0.483306168808424*re((X10*X3)**1.39351617324743*hyper((1.0, 1.0), (1.37286702927751,), 1.49191976763042*X10*X3*exp_polar(I*pi))) + 0.979887443602296*re((X10*X4)**1.39337672869127*hyper((1.0, 1.0), (1.37262474126335,), 1.49230003449901*X10*X4*exp_polar(I*pi))) - 0.495720480704569*re((X10*X5)**1.39332056939102*hyper((1.0, 1.0), (1.37237125151187,), 1.49260036855486*X10*X5*exp_polar(I*pi))) + 0.090362207689099*re((X10*X6)**1.39357453714801*hyper((1.0, 1.0), (1.37296198990507,), 1.49192653519085*X10*X6*exp_polar(I*pi))) + 1.90462915908389*re((X10*X7)**1.3936287617079*hyper((1.0, 1.0), (1.3730793836363,), 1.49182218890716*X10*X7*exp_polar(I*pi))) + 0.449921908833274*re((X10*X8)**1.39366156895513*hyper((1.0, 1.0), (1.37311856430948,), 1.49180256386123*X10*X8*exp_polar(I*pi))) - 0.299237505249982*re((X10*X9)**1.39398061798992*hyper((1.0, 1.0), (1.37382964082441,), 1.49114381469026*X10*X9*exp_polar(I*pi))) + 0.142452168039599*re((X11*X12)**1.39356712612671*hyper((1.0, 1.0), (1.37296480638815,), 1.49180977243031*X11*X12*exp_polar(I*pi))) - 0.224867804326433*re((X11*X13)**1.39357376315321*hyper((1.0, 1.0), (1.37301618932877,), 1.4918254499091*X11*X13*exp_polar(I*pi))) + 0.322774534453236*re((X11*X14)**1.3935541741857*hyper((1.0, 1.0), (1.37294396732163,), 1.49181401883875*X11*X14*exp_polar(I*pi))) + 1.05458617631601*re((X11*X2)**1.39356844923967*hyper((1.0, 1.0), (1.37301073171379,), 1.49182371278803*X11*X2*exp_polar(I*pi))) - 0.423260725914495*re((X11*X3)**1.39366362222214*hyper((1.0, 1.0), (1.37308128204433,), 1.49177166796052*X11*X3*exp_polar(I*pi))) + 0.3735521621687*re((X11*X4)**1.39348506252337*hyper((1.0, 1.0), (1.37293161196229,), 1.4918699503518*X11*X4*exp_polar(I*pi))) + 0.945195044408617*re((X11*X5)**1.39334494221805*hyper((1.0, 1.0), (1.37268435664517,), 1.49199085796205*X11*X5*exp_polar(I*pi))) - 0.835355353500115*re((X11*X6)**1.39362348283847*hyper((1.0, 1.0), (1.37304579628605,), 1.49183042959953*X11*X6*exp_polar(I*pi))) - 1.23273219535385*re((X11*X7)**1.39366571315831*hyper((1.0, 1.0), (1.3731142460462,), 1.49180865106769*X11*X7*exp_polar(I*pi))) - 1.36684649270373*re((X11*X8)**1.39361679318472*hyper((1.0, 1.0), (1.37305588881758,), 1.49179517201808*X11*X8*exp_polar(I*pi))) - 1.82402984726541*re((X11*X9)**1.39334844938809*hyper((1.0, 1.0), (1.37255682095061,), 1.49211809857631*X11*X9*exp_polar(I*pi))) + 0.159594535720733*re((X12*X13)**1.39413164031986*hyper((1.0, 1.0), (1.37381666684495,), 1.4914414642865*X12*X13*exp_polar(I*pi))) - 0.621259424591296*re((X12*X14)**1.39288448313325*hyper((1.0, 1.0), (1.37124058033718,), 1.49304832051176*X12*X14*exp_polar(I*pi))) + 0.187213099400275*re((X12*X2)**1.39376587097883*hyper((1.0, 1.0), (1.3730006473242,), 1.49159981353433*X12*X2*exp_polar(I*pi))) + 0.720692838701901*re((X12*X3)**1.39396121754747*hyper((1.0, 1.0), (1.37328171158352,), 1.49149503312605*X12*X3*exp_polar(I*pi))) + 1.04136831470087*re((X12*X4)**1.39380161733934*hyper((1.0, 1.0), (1.37325121904011,), 1.49145035474541*X12*X4*exp_polar(I*pi))) - 1.16722039120317*re((X12*X5)**1.39212113439897*hyper((1.0, 1.0), (1.37029148361699,), 1.49341965740247*X12*X5*exp_polar(I*pi))) + 0.0547344544638104*re((X12*X6)**1.39362882876566*hyper((1.0, 1.0), (1.3730666981463,), 1.49174477229331*X12*X6*exp_polar(I*pi))) - 1.17518866547594*re((X12*X7)**1.39372818252185*hyper((1.0, 1.0), (1.37321288273272,), 1.49166280273032*X12*X7*exp_polar(I*pi))) - 0.0492289541063916*re((X12*X8)**1.39368185790066*hyper((1.0, 1.0), (1.37316085518116,), 1.49181325294251*X12*X8*exp_polar(I*pi))) - 0.910690241855037*re((X12*X9)**1.3930871890027*hyper((1.0, 1.0), (1.37172360943469,), 1.49268388288035*X12*X9*exp_polar(I*pi))) + 1.30126973266*re((X13*X14)**1.39382867297462*hyper((1.0, 1.0), (1.3732817683462,), 1.49175137756725*X13*X14*exp_polar(I*pi))) + 0.452340317739153*re((X13*X2)**1.39380344722971*hyper((1.0, 1.0), (1.37329002589881,), 1.49177247512716*X13*X2*exp_polar(I*pi))) + 0.524590061173307*re((X13*X3)**1.39383989644445*hyper((1.0, 1.0), (1.37329207285055,), 1.49175702772718*X13*X3*exp_polar(I*pi))) + 0.982734220723087*re((X13*X4)**1.39442626070195*hyper((1.0, 1.0), (1.37472376208767,), 1.49023931606978*X13*X4*exp_polar(I*pi))) - 0.867790213755748*re((X13*X5)**1.39354122362015*hyper((1.0, 1.0), (1.37286855123026,), 1.4922163694097*X13*X5*exp_polar(I*pi))) - 0.395492071405468*re((X13*X6)**1.39359505652211*hyper((1.0, 1.0), (1.37300985793433,), 1.49184205472068*X13*X6*exp_polar(I*pi))) + 1.48267208307026*re((X13*X7)**1.39363154640624*hyper((1.0, 1.0), (1.37315359648944,), 1.49187915216398*X13*X7*exp_polar(I*pi))) - 0.176092801637987*re((X13*X8)**1.3936162330112*hyper((1.0, 1.0), (1.37314023051832,), 1.49188446662968*X13*X8*exp_polar(I*pi))) + 0.0323582065364123*re((X13*X9)**1.3946949348136*hyper((1.0, 1.0), (1.37494463399015,), 1.49023700006196*X13*X9*exp_polar(I*pi))) + 0.0861314132971435*re((X14*X2)**1.39373567487228*hyper((1.0, 1.0), (1.3729468949467,), 1.49153750266065*X14*X2*exp_polar(I*pi))) + 0.731893865461575*re((X14*X3)**1.39388125741419*hyper((1.0, 1.0), (1.37313759670363,), 1.4915443140429*X14*X3*exp_polar(I*pi))) + 0.390633308569036*re((X14*X4)**1.39361864819367*hyper((1.0, 1.0), (1.37290330657815,), 1.49165879486967*X14*X4*exp_polar(I*pi))) + 0.961791407084852*re((X14*X5)**1.39205110520879*hyper((1.0, 1.0), (1.37009757870141,), 1.49357594373094*X14*X5*exp_polar(I*pi))) + 0.335624187497227*re((X14*X6)**1.39361504119268*hyper((1.0, 1.0), (1.37304046005982,), 1.49178110682196*X14*X6*exp_polar(I*pi))) - 0.411551763171608*re((X14*X7)**1.39366066981818*hyper((1.0, 1.0), (1.37309398682482,), 1.49177408759128*X14*X7*exp_polar(I*pi))) - 0.0851928049648747*re((X14*X8)**1.39364091036716*hyper((1.0, 1.0), (1.37307774072101,), 1.49177092902476*X14*X8*exp_polar(I*pi))) - 0.624009566807549*re((X14*X9)**1.39247398878109*hyper((1.0, 1.0), (1.37052577919576,), 1.49366387599958*X14*X9*exp_polar(I*pi))) - 1.22493726628171*re((X2*X3)**1.39398592985688*hyper((1.0, 1.0), (1.37329214304508,), 1.49146563418597*X2*X3*exp_polar(I*pi))) - 2.53905417084435*re((X2*X4)**1.39365031798153*hyper((1.0, 1.0), (1.37298274105344,), 1.49166700799126*X2*X4*exp_polar(I*pi))) - 0.857544574052348*re((X2*X5)**1.39265707852879*hyper((1.0, 1.0), (1.37135139037106,), 1.49250076361196*X2*X5*exp_polar(I*pi))) + 0.755996468629151*re((X2*X6)**1.39364444782806*hyper((1.0, 1.0), (1.37308952095638,), 1.49180421605868*X2*X6*exp_polar(I*pi))) - 0.372688337106826*re((X2*X7)**1.39355688499532*hyper((1.0, 1.0), (1.37302848766019,), 1.49186523289395*X2*X7*exp_polar(I*pi))) - 1.11494114311497*re((X2*X8)**1.39356822309733*hyper((1.0, 1.0), (1.37301694228154,), 1.49183109036433*X2*X8*exp_polar(I*pi))) - 0.458567798144509*re((X2*X9)**1.39302566400086*hyper((1.0, 1.0), (1.37183507724449,), 1.49208036759847*X2*X9*exp_polar(I*pi))) - 0.0175779630867751*re((X3*X4)**1.39389982803861*hyper((1.0, 1.0), (1.37329467567557,), 1.49151720534752*X3*X4*exp_polar(I*pi))) - 0.0442654721459584*re((X3*X5)**1.39419347450722*hyper((1.0, 1.0), (1.37408202506687,), 1.48984650873092*X3*X5*exp_polar(I*pi))) - 0.304323730433283*re((X3*X6)**1.39361454013945*hyper((1.0, 1.0), (1.37304408967439,), 1.49179854347162*X3*X6*exp_polar(I*pi))) - 0.175865820377003*re((X3*X7)**1.39362771103989*hyper((1.0, 1.0), (1.3730857129114,), 1.49181172771532*X3*X7*exp_polar(I*pi))) + 0.716737012426359*re((X3*X8)**1.39368309227224*hyper((1.0, 1.0), (1.37311958426619,), 1.49179827909971*X3*X8*exp_polar(I*pi))) + 1.82266253932333*re((X3*X9)**1.39366325456046*hyper((1.0, 1.0), (1.37294604616707,), 1.49144560086195*X3*X9*exp_polar(I*pi))) - 1.43894584975445*re((X4*X5)**1.39279654977772*hyper((1.0, 1.0), (1.37163334789068,), 1.49280033870035*X4*X5*exp_polar(I*pi))) + 0.362345303165333*re((X4*X6)**1.39364709163879*hyper((1.0, 1.0), (1.37308825048276,), 1.49179439009907*X4*X6*exp_polar(I*pi))) + 0.600767469057331*re((X4*X7)**1.39355290834715*hyper((1.0, 1.0), (1.37301901198185,), 1.49199197253629*X4*X7*exp_polar(I*pi))) + 1.34351472206162*re((X4*X8)**1.39291809833954*hyper((1.0, 1.0), (1.37179867331651,), 1.49305418773847*X4*X8*exp_polar(I*pi))) + 0.675787088040874*re((X4*X9)**1.39341075777868*hyper((1.0, 1.0), (1.37288961129771,), 1.49088540145027*X4*X9*exp_polar(I*pi))) - 0.129051106902278*re((X5*X6)**1.39389721259706*hyper((1.0, 1.0), (1.3735628363909,), 1.49134616960062*X5*X6*exp_polar(I*pi))) + 0.0852244648087451*re((X5*X7)**1.39358351717752*hyper((1.0, 1.0), (1.37301919614545,), 1.49229161048126*X5*X7*exp_polar(I*pi))) - 0.373234946025277*re((X5*X8)**1.39452637751506*hyper((1.0, 1.0), (1.37513252448409,), 1.4895477553574*X5*X8*exp_polar(I*pi))) - 0.121210691494592*re((X5*X9)**1.39143688991379*hyper((1.0, 1.0), (1.3687049614806,), 1.4951934275841*X5*X9*exp_polar(I*pi))) + 0.103040656118677*re((X6*X7)**1.3936457954988*hyper((1.0, 1.0), (1.37310171097231,), 1.49180286897055*X6*X7*exp_polar(I*pi))) - 0.222928718398661*re((X6*X8)**1.39361727197504*hyper((1.0, 1.0), (1.37300722399665,), 1.49191622061781*X6*X8*exp_polar(I*pi))) - 0.212154209111268*re((X6*X9)**1.39332484738398*hyper((1.0, 1.0), (1.37242870071926,), 1.49240742915651*X6*X9*exp_polar(I*pi))) - 0.42375280531716*re((X7*X8)**1.39371895356031*hyper((1.0, 1.0), (1.37318373793554,), 1.49178158725877*X7*X8*exp_polar(I*pi))) + 0.199514538481738*re((X7*X9)**1.39393342071817*hyper((1.0, 1.0), (1.3737213222919,), 1.49123525990351*X7*X9*exp_polar(I*pi))) + 1.01426641868627*re((X8*X9)**1.39404308199244*hyper((1.0, 1.0), (1.37395171220418,), 1.49120371650204*X8*X9*exp_polar(I*pi))) + 0.0788310952720024*re(X8**1.57241735556417*exp(1.57241735556417*I*pi)*hyper((1.0, 1.0), (5.28333519708451,), 2.67313232492643*X8*exp_polar(2*I*pi)))) + 1)"
      ]
     },
     "execution_count": 9,
     "metadata": {},
     "output_type": "execute_result"
    }
   ],
   "source": [
    "metamodel.exact_expression"
   ]
  },
  {
   "cell_type": "markdown",
   "metadata": {},
   "source": [
    "Because this equation involves Hypergeometric functions, we might prefer to work with the polynomial approximation..."
   ]
  },
  {
   "cell_type": "code",
   "execution_count": 10,
   "metadata": {
    "collapsed": false,
    "jupyter": {
     "outputs_hidden": false
    }
   },
   "outputs": [
    {
     "data": {
      "text/latex": [
       "$\\displaystyle \\frac{1}{0.428150208127628 e^{- 0.0254854730921055 X_{0}^{3} X_{1}^{3} + 0.0162508238429374 X_{0}^{3} X_{10}^{3} + 0.013382640065814 X_{0}^{3} X_{11}^{3} + 0.123192423737779 X_{0}^{3} X_{12}^{3} + 0.0566014503560595 X_{0}^{3} X_{13}^{3} + 0.0342556878227181 X_{0}^{3} X_{14}^{3} - 0.0557491048494805 X_{0}^{3} X_{2}^{3} - 0.0193201946394565 X_{0}^{3} X_{3}^{3} + 0.0508449412324566 X_{0}^{3} X_{4}^{3} - 0.00244158414564849 X_{0}^{3} X_{5}^{3} - 0.0909553950932318 X_{0}^{3} X_{6}^{3} + 0.0390487717942319 X_{0}^{3} X_{7}^{3} - 0.0154948429381363 X_{0}^{3} X_{8}^{3} + 0.0151238074836336 X_{0}^{3} X_{9}^{3} - 0.000515890743463783 X_{0}^{3} + 0.0108409578661944 X_{0}^{2} X_{1}^{2} - 0.00727467599791532 X_{0}^{2} X_{10}^{2} - 0.0059006383090203 X_{0}^{2} X_{11}^{2} - 0.0551826932720303 X_{0}^{2} X_{12}^{2} - 0.0252755362420184 X_{0}^{2} X_{13}^{2} - 0.0153686665480249 X_{0}^{2} X_{14}^{2} + 0.0250952077509866 X_{0}^{2} X_{2}^{2} + 0.00879940067465277 X_{0}^{2} X_{3}^{2} - 0.022542880828326 X_{0}^{2} X_{4}^{2} + 0.0010958443373111 X_{0}^{2} X_{5}^{2} + 0.0412311876181684 X_{0}^{2} X_{6}^{2} - 0.0173904138151816 X_{0}^{2} X_{7}^{2} + 0.00687237873423053 X_{0}^{2} X_{8}^{2} - 0.00638689477814746 X_{0}^{2} X_{9}^{2} - 0.0188365865909285 X_{0}^{2} + 0.27816342277073 X_{0} X_{1} - 0.175491376682836 X_{0} X_{10} - 0.144986646182043 X_{0} X_{11} - 1.33006191311587 X_{0} X_{12} - 0.611554978110652 X_{0} X_{13} - 0.369719035786255 X_{0} X_{14} + 0.601273559148343 X_{0} X_{2} + 0.207836440856731 X_{0} X_{3} - 0.550194711274806 X_{0} X_{4} + 0.0263501941016266 X_{0} X_{5} + 0.979531854854344 X_{0} X_{6} - 0.422157874335544 X_{0} X_{7} + 0.16766193401319 X_{0} X_{8} - 0.165299713773897 X_{0} X_{9} + 0.106638877754397 X_{0} - 0.00229907325294822 X_{1}^{3} X_{10}^{3} + 0.139384965212855 X_{1}^{3} X_{11}^{3} - 0.0660356465917116 X_{1}^{3} X_{12}^{3} - 0.00901415923762571 X_{1}^{3} X_{13}^{3} - 0.0351826906022922 X_{1}^{3} X_{14}^{3} + 0.0322613285416586 X_{1}^{3} X_{2}^{3} - 0.0332903372242058 X_{1}^{3} X_{3}^{3} + 0.0302179316317838 X_{1}^{3} X_{4}^{3} - 0.0406248273291817 X_{1}^{3} X_{5}^{3} - 0.00972921749062863 X_{1}^{3} X_{6}^{3} - 0.0285732361436673 X_{1}^{3} X_{7}^{3} + 0.0893400470860356 X_{1}^{3} X_{8}^{3} - 0.0183325977904603 X_{1}^{3} X_{9}^{3} - 0.0882385290387099 X_{1}^{3} + 0.00102367643424101 X_{1}^{2} X_{10}^{2} - 0.0607998845279224 X_{1}^{2} X_{11}^{2} + 0.0283019225533992 X_{1}^{2} X_{12}^{2} + 0.00402180285603347 X_{1}^{2} X_{13}^{2} + 0.0151646087705417 X_{1}^{2} X_{14}^{2} - 0.0139640668713615 X_{1}^{2} X_{2}^{2} + 0.0150182422296767 X_{1}^{2} X_{3}^{2} - 0.0129284885449755 X_{1}^{2} X_{4}^{2} + 0.0152476138766083 X_{1}^{2} X_{5}^{2} + 0.00441965719424903 X_{1}^{2} X_{6}^{2} + 0.0126763258231808 X_{1}^{2} X_{7}^{2} - 0.040803115955619 X_{1}^{2} X_{8}^{2} + 0.00621899972528893 X_{1}^{2} X_{9}^{2} + 0.172984703342511 X_{1}^{2} + 0.0248561221958178 X_{1} X_{10} - 1.51350268466931 X_{1} X_{11} + 0.719595409430388 X_{1} X_{12} + 0.0974115721443269 X_{1} X_{13} + 0.382937118249577 X_{1} X_{14} - 0.350844272249542 X_{1} X_{2} + 0.358859802811844 X_{1} X_{3} - 0.329428040331624 X_{1} X_{4} + 0.454017605738686 X_{1} X_{5} + 0.10472848710689 X_{1} X_{6} + 0.309171780450136 X_{1} X_{7} - 0.960568067138289 X_{1} X_{8} + 0.208318638834971 X_{1} X_{9} - 0.0972617521855455 X_{1} + 0.077918006738993 X_{10}^{3} X_{11}^{3} + 0.0283014567669307 X_{10}^{3} X_{12}^{3} - 0.0508537505821578 X_{10}^{3} X_{13}^{3} + 0.0340027850148467 X_{10}^{3} X_{14}^{3} - 0.0225512342484026 X_{10}^{3} X_{2}^{3} + 0.0249314464342841 X_{10}^{3} X_{3}^{3} - 0.0504190568566868 X_{10}^{3} X_{4}^{3} + 0.0254647365305095 X_{10}^{3} X_{5}^{3} - 0.00466486176312856 X_{10}^{3} X_{6}^{3} - 0.0984193521044445 X_{10}^{3} X_{7}^{3} - 0.0232592023282714 X_{10}^{3} X_{8}^{3} + 0.0155588744100677 X_{10}^{3} X_{9}^{3} - 0.0339435727516691 X_{10}^{3} - 0.0345534497795401 X_{10}^{2} X_{11}^{2} - 0.0125672425750089 X_{10}^{2} X_{12}^{2} + 0.0227736243556637 X_{10}^{2} X_{13}^{2} - 0.0149857532023418 X_{10}^{2} X_{14}^{2} + 0.0100219025108205 X_{10}^{2} X_{2}^{2} - 0.0110365904797473 X_{10}^{2} X_{3}^{2} + 0.0220357604892435 X_{10}^{2} X_{4}^{2} - 0.011037699779378 X_{10}^{2} X_{5}^{2} + 0.00207324077063882 X_{10}^{2} X_{6}^{2} + 0.0439533403516292 X_{10}^{2} X_{7}^{2} + 0.0104103886484848 X_{10}^{2} X_{8}^{2} - 0.00716359489678588 X_{10}^{2} X_{9}^{2} + 0.198519219970577 X_{10}^{2} - 0.843120410804591 X_{10} X_{11} - 0.306154209145185 X_{10} X_{12} + 0.549124728380892 X_{10} X_{13} - 0.368416981584231 X_{10} X_{14} + 0.243908851648404 X_{10} X_{2} - 0.269875976650464 X_{10} X_{3} + 0.547264216008012 X_{10} X_{4} - 0.276874854580005 X_{10} X_{5} + 0.0504534535795587 X_{10} X_{6} + 1.06336608965225 X_{10} X_{7} + 0.251182134840622 X_{10} X_{8} - 0.166986924827698 X_{10} X_{9} + 0.00459613203749918 X_{10} - 0.00735502894979856 X_{11}^{3} X_{12}^{3} + 0.0116120302173107 X_{11}^{3} X_{13}^{3} - 0.0166624114830348 X_{11}^{3} X_{14}^{3} - 0.0544549337786969 X_{11}^{3} X_{2}^{3} + 0.0218807053368473 X_{11}^{3} X_{3}^{3} - 0.0192686731631076 X_{11}^{3} X_{4}^{3} - 0.0486530487603796 X_{11}^{3} X_{5}^{3} + 0.0431598877489861 X_{11}^{3} X_{6}^{3} + 0.0637285921162099 X_{11}^{3} X_{7}^{3} + 0.0706218126611485 X_{11}^{3} X_{8}^{3} + 0.0938446142472908 X_{11}^{3} X_{9}^{3} + 0.949539159446929 X_{11}^{3} + 0.0032706249861997 X_{11}^{2} X_{12}^{2} - 0.00516786661331623 X_{11}^{2} X_{13}^{2} + 0.00740261869818725 X_{11}^{2} X_{14}^{2} + 0.0242272585182326 X_{11}^{2} X_{2}^{2} - 0.00979230903733493 X_{11}^{2} X_{3}^{2} + 0.00852646684307354 X_{11}^{2} X_{4}^{2} + 0.0212956713188137 X_{11}^{2} X_{5}^{2} - 0.0192610478122474 X_{11}^{2} X_{6}^{2} - 0.0285267643856065 X_{11}^{2} X_{7}^{2} - 0.0315182469001899 X_{11}^{2} X_{8}^{2} - 0.0409796480596064 X_{11}^{2} X_{9}^{2} - 2.23297288884079 X_{11}^{2} + 0.0795392281872287 X_{11} X_{12} - 0.125555383729608 X_{11} X_{13} + 0.180226980777078 X_{11} X_{14} + 0.588835042099437 X_{11} X_{2} - 0.236297241322346 X_{11} X_{3} + 0.208600790392899 X_{11} X_{4} + 0.527925710350089 X_{11} X_{5} - 0.466387089124739 X_{11} X_{6} - 0.688204283365857 X_{11} X_{7} - 0.763133561405226 X_{11} X_{8} - 1.01876942760466 X_{11} X_{9} + 2.19742845471385 X_{11} - 0.00830517733247949 X_{12}^{3} X_{13}^{3} + 0.0316737077992211 X_{12}^{3} X_{14}^{3} - 0.00968858257231154 X_{12}^{3} X_{2}^{3} - 0.0373960347296941 X_{12}^{3} X_{3}^{3} - 0.053955540039397 X_{12}^{3} X_{4}^{3} + 0.0589046905434248 X_{12}^{3} X_{5}^{3} - 0.00282864748532435 X_{12}^{3} X_{6}^{3} + 0.0608188199749938 X_{12}^{3} X_{7}^{3} + 0.00254562425499769 X_{12}^{3} X_{8}^{3} + 0.046601866412258 X_{12}^{3} X_{9}^{3} - 0.11911939050323 X_{12}^{3} + 0.00384225574376262 X_{12}^{2} X_{13}^{2} - 0.0131800071727874 X_{12}^{2} X_{14}^{2} + 0.00435894701385103 X_{12}^{2} X_{2}^{2} + 0.0170516877720283 X_{12}^{2} X_{3}^{2} + 0.0244147886977624 X_{12}^{2} X_{4}^{2} - 0.0231091542146622 X_{12}^{2} X_{5}^{2} + 0.00126379375469458 X_{12}^{2} X_{6}^{2} - 0.0273682039639624 X_{12}^{2} X_{7}^{2} - 0.00114098059640408 X_{12}^{2} X_{8}^{2} - 0.0197828174324535 X_{12}^{2} X_{9}^{2} + 0.121034920486862 X_{12}^{2} + 0.0890380430663514 X_{12} X_{13} - 0.347202378064068 X_{12} X_{14} + 0.104501596078375 X_{12} X_{2} + 0.402173414011114 X_{12} X_{3} + 0.581265331105923 X_{12} X_{4} - 0.653049430517952 X_{12} X_{5} + 0.030558720051748 X_{12} X_{6} - 0.656024411850423 X_{12} X_{7} - 0.0274826707609933 X_{12} X_{8} - 0.508817571419037 X_{12} X_{9} + 0.156269335390171 X_{12} - 0.0674070920113605 X_{13}^{3} X_{14}^{3} - 0.0234257072349919 X_{13}^{3} X_{2}^{3} - 0.0271775122730858 X_{13}^{3} X_{3}^{3} - 0.0514946127537134 X_{13}^{3} X_{4}^{3} + 0.0447520333545384 X_{13}^{3} X_{5}^{3} + 0.020426144463353 X_{13}^{3} X_{6}^{3} - 0.0766223307143842 X_{13}^{3} X_{7}^{3} + 0.00909854825568803 X_{13}^{3} X_{8}^{3} - 0.00170060092991549 X_{13}^{3} X_{9}^{3} + 0.139197989202617 X_{13}^{3} + 0.0304850865164476 X_{13}^{2} X_{14}^{2} + 0.0105808878493481 X_{13}^{2} X_{2}^{2} + 0.0122987221995894 X_{13}^{2} X_{3}^{2} + 0.0245910477060744 X_{13}^{2} X_{4}^{2} - 0.0197914485112093 X_{13}^{2} X_{5}^{2} - 0.00909824164510693 X_{13}^{2} X_{6}^{2} + 0.0342392165342078 X_{13}^{2} X_{7}^{2} - 0.00406190005603989 X_{13}^{2} X_{8}^{2} + 0.000823742083562586 X_{13}^{2} X_{9}^{2} - 0.320043972227215 X_{13}^{2} + 0.726292081810264 X_{13} X_{14} + 0.252479158868142 X_{13} X_{2} + 0.292790206590703 X_{13} X_{3} + 0.54807726656712 X_{13} X_{4} - 0.484542264804781 X_{13} X_{5} - 0.220816318709788 X_{13} X_{6} + 0.827779941922201 X_{13} X_{7} - 0.0983153325106862 X_{13} X_{8} + 0.0180390625009968 X_{13} X_{9} + 0.286180096854579 X_{13} - 0.00445613292686322 X_{14}^{3} X_{2}^{3} - 0.037933167872746 X_{14}^{3} X_{3}^{3} - 0.0201814170777337 X_{14}^{3} X_{4}^{3} - 0.0484689019948477 X_{14}^{3} X_{5}^{3} - 0.0173404737458749 X_{14}^{3} X_{6}^{3} + 0.0212753349521269 X_{14}^{3} X_{7}^{3} + 0.00440312240078607 X_{14}^{3} X_{8}^{3} + 0.0316013840921118 X_{14}^{3} X_{9}^{3} - 0.0377494016615853 X_{14}^{3} + 0.00200156089336149 X_{14}^{2} X_{2}^{2} + 0.0171959028892847 X_{14}^{2} X_{3}^{2} + 0.00900054702670283 X_{14}^{2} X_{4}^{2} + 0.0188584780072448 X_{14}^{2} X_{5}^{2} + 0.00773771719349928 X_{14}^{2} X_{6}^{2} - 0.00952127332154935 X_{14}^{2} X_{7}^{2} - 0.00196828088658847 X_{14}^{2} X_{8}^{2} - 0.0126663441559752 X_{14}^{2} X_{9}^{2} - 0.118904128920681 X_{14}^{2} + 0.0480805519019325 X_{14} X_{2} + 0.408471084124176 X_{14} X_{3} + 0.218097615419814 X_{14} X_{4} + 0.538162705608584 X_{14} X_{5} + 0.187385267139805 X_{14} X_{6} - 0.229761461646232 X_{14} X_{7} - 0.0475629359384826 X_{14} X_{8} - 0.348936787249447 X_{14} X_{9} + 0.474628341070436 X_{14} + 0.0635802846616834 X_{2}^{3} X_{3}^{3} + 0.131236723320236 X_{2}^{3} X_{4}^{3} + 0.0436800599015953 X_{2}^{3} X_{5}^{3} - 0.0390730901833946 X_{2}^{3} X_{6}^{3} + 0.0192415015625391 X_{2}^{3} X_{7}^{3} + 0.0575713697420248 X_{2}^{3} X_{8}^{3} + 0.0234837422966367 X_{2}^{3} X_{9}^{3} - 0.139479369278662 X_{2}^{3} - 0.0290347476480192 X_{2}^{2} X_{3}^{2} - 0.058671632507845 X_{2}^{2} X_{4}^{2} - 0.0180609660476003 X_{2}^{2} X_{5}^{2} + 0.0174675658819098 X_{2}^{2} X_{6}^{2} - 0.00855491885827152 X_{2}^{2} X_{7}^{2} - 0.0256139734163584 X_{2}^{2} X_{8}^{2} - 0.00999893303103719 X_{2}^{2} X_{9}^{2} + 0.458950871500686 X_{2}^{2} - 0.683536214323847 X_{2} X_{3} - 1.41753333240957 X_{2} X_{4} - 0.479439653469995 X_{2} X_{5} + 0.422067930622708 X_{2} X_{6} - 0.208096170664976 X_{2} X_{7} - 0.622534650791934 X_{2} X_{8} - 0.256244278160704 X_{2} X_{9} - 0.986792143784241 X_{2} + 0.000911570329546784 X_{3}^{3} X_{4}^{3} + 0.00231277657795605 X_{3}^{3} X_{5}^{3} + 0.0157228582813881 X_{3}^{3} X_{6}^{3} + 0.00908785936442754 X_{3}^{3} X_{7}^{3} - 0.0370603539694608 X_{3}^{3} X_{8}^{3} - 0.0942493492911566 X_{3}^{3} X_{9}^{3} + 0.0758897427226457 X_{3}^{3} - 0.000414435887199704 X_{3}^{2} X_{4}^{2} - 0.00108825594293936 X_{3}^{2} X_{5}^{2} - 0.00701511955445387 X_{3}^{2} X_{6}^{2} - 0.00405898068430973 X_{3}^{2} X_{7}^{2} + 0.0166056692766573 X_{3}^{2} X_{8}^{2} + 0.0422133490030366 X_{3}^{2} X_{9}^{2} - 0.200529206683224 X_{3}^{2} - 0.00981006769085786 X_{3} X_{4} - 0.0246961524479423 X_{3} X_{5} - 0.169909590488241 X_{3} X_{6} - 0.0981872023568499 X_{3} X_{7} + 0.400126467930644 X_{3} X_{8} + 1.01757118431641 X_{3} X_{9} + 0.228912183842235 X_{3} + 0.0733998052040522 X_{4}^{3} X_{5}^{3} - 0.0187282757194785 X_{4}^{3} X_{6}^{3} - 0.0310081147112577 X_{4}^{3} X_{7}^{3} - 0.0686058435031323 X_{4}^{3} X_{8}^{3} - 0.0348925054544183 X_{4}^{3} X_{9}^{3} + 0.253438622295741 X_{4}^{3} - 0.0306170121735144 X_{4}^{2} X_{5}^{2} + 0.00837401371618003 X_{4}^{2} X_{6}^{2} + 0.0137691157918939 X_{4}^{2} X_{7}^{2} + 0.028806351498527 X_{4}^{2} X_{8}^{2} + 0.015489883170648 X_{4}^{2} X_{9}^{2} - 0.594065827183887 X_{4}^{2} - 0.804311238922399 X_{4} X_{5} + 0.202294339693446 X_{4} X_{6} + 0.335446798849007 X_{4} X_{7} + 0.750820852173591 X_{4} X_{8} + 0.37744281160085 X_{4} X_{9} + 0.556111878527282 X_{4} + 0.00669835432909058 X_{5}^{3} X_{6}^{3} - 0.00439769625934902 X_{5}^{3} X_{7}^{3} + 0.019617075058061 X_{5}^{3} X_{8}^{3} + 0.00603403993541158 X_{5}^{3} X_{9}^{3} + 0.474926111229478 X_{5}^{3} - 0.00305815741904367 X_{5}^{2} X_{6}^{2} + 0.00195136093011925 X_{5}^{2} X_{7}^{2} - 0.00949449487260822 X_{5}^{2} X_{8}^{2} - 0.00217968626432606 X_{5}^{2} X_{9}^{2} - 1.34047211851324 X_{5}^{2} - 0.0720236010264106 X_{5} X_{6} + 0.0475831036068968 X_{5} X_{7} - 0.208135093766318 X_{5} X_{8} - 0.0678759871416286 X_{5} X_{9} + 1.6238517687438 X_{5} - 0.00532580370107337 X_{6}^{3} X_{7}^{3} + 0.0115144978706169 X_{6}^{3} X_{8}^{3} + 0.0109038362949699 X_{6}^{3} X_{9}^{3} - 3.04855709258299 \\cdot 10^{-6} X_{6}^{3} + 0.00238141646135986 X_{6}^{2} X_{7}^{2} - 0.00513140139270743 X_{6}^{2} X_{8}^{2} - 0.00473771785379075 X_{6}^{2} X_{9}^{2} - 0.000472640806794606 X_{6}^{2} + 0.0575268360433715 X_{6} X_{7} - 0.124463650811576 X_{6} X_{8} - 0.118495428748113 X_{6} X_{9} + 3.29604877004867 \\cdot 10^{-5} X_{6} + 0.0219222189971218 X_{7}^{3} X_{8}^{3} - 0.0103649879567656 X_{7}^{3} X_{9}^{3} - 0.103968335597101 X_{7}^{3} - 0.0098485014053655 X_{7}^{2} X_{8}^{2} + 0.00475268034893035 X_{7}^{2} X_{9}^{2} + 0.29413396774965 X_{7}^{2} - 0.236552444020405 X_{7} X_{8} + 0.111344439596382 X_{7} X_{9} + 0.141700735787212 X_{7} - 0.052776439664036 X_{8}^{3} X_{9}^{3} - 0.129624489690221 X_{8}^{3} + 0.0243936585898556 X_{8}^{2} X_{9}^{2} - 0.109091471615205 X_{8}^{2} + 0.565948229839434 X_{8} X_{9} + 0.188782704060446 X_{8} + 0.0294840574546502 X_{9}^{3} - 0.173495207923946 X_{9}^{2} - 0.00391522272120879 X_{9}} + 1}$"
      ],
      "text/plain": [
       "1/(0.428150208127628*exp(-0.0254854730921055*X0**3*X1**3 + 0.0162508238429374*X0**3*X10**3 + 0.013382640065814*X0**3*X11**3 + 0.123192423737779*X0**3*X12**3 + 0.0566014503560595*X0**3*X13**3 + 0.0342556878227181*X0**3*X14**3 - 0.0557491048494805*X0**3*X2**3 - 0.0193201946394565*X0**3*X3**3 + 0.0508449412324566*X0**3*X4**3 - 0.00244158414564849*X0**3*X5**3 - 0.0909553950932318*X0**3*X6**3 + 0.0390487717942319*X0**3*X7**3 - 0.0154948429381363*X0**3*X8**3 + 0.0151238074836336*X0**3*X9**3 - 0.000515890743463783*X0**3 + 0.0108409578661944*X0**2*X1**2 - 0.00727467599791532*X0**2*X10**2 - 0.0059006383090203*X0**2*X11**2 - 0.0551826932720303*X0**2*X12**2 - 0.0252755362420184*X0**2*X13**2 - 0.0153686665480249*X0**2*X14**2 + 0.0250952077509866*X0**2*X2**2 + 0.00879940067465277*X0**2*X3**2 - 0.022542880828326*X0**2*X4**2 + 0.0010958443373111*X0**2*X5**2 + 0.0412311876181684*X0**2*X6**2 - 0.0173904138151816*X0**2*X7**2 + 0.00687237873423053*X0**2*X8**2 - 0.00638689477814746*X0**2*X9**2 - 0.0188365865909285*X0**2 + 0.27816342277073*X0*X1 - 0.175491376682836*X0*X10 - 0.144986646182043*X0*X11 - 1.33006191311587*X0*X12 - 0.611554978110652*X0*X13 - 0.369719035786255*X0*X14 + 0.601273559148343*X0*X2 + 0.207836440856731*X0*X3 - 0.550194711274806*X0*X4 + 0.0263501941016266*X0*X5 + 0.979531854854344*X0*X6 - 0.422157874335544*X0*X7 + 0.16766193401319*X0*X8 - 0.165299713773897*X0*X9 + 0.106638877754397*X0 - 0.00229907325294822*X1**3*X10**3 + 0.139384965212855*X1**3*X11**3 - 0.0660356465917116*X1**3*X12**3 - 0.00901415923762571*X1**3*X13**3 - 0.0351826906022922*X1**3*X14**3 + 0.0322613285416586*X1**3*X2**3 - 0.0332903372242058*X1**3*X3**3 + 0.0302179316317838*X1**3*X4**3 - 0.0406248273291817*X1**3*X5**3 - 0.00972921749062863*X1**3*X6**3 - 0.0285732361436673*X1**3*X7**3 + 0.0893400470860356*X1**3*X8**3 - 0.0183325977904603*X1**3*X9**3 - 0.0882385290387099*X1**3 + 0.00102367643424101*X1**2*X10**2 - 0.0607998845279224*X1**2*X11**2 + 0.0283019225533992*X1**2*X12**2 + 0.00402180285603347*X1**2*X13**2 + 0.0151646087705417*X1**2*X14**2 - 0.0139640668713615*X1**2*X2**2 + 0.0150182422296767*X1**2*X3**2 - 0.0129284885449755*X1**2*X4**2 + 0.0152476138766083*X1**2*X5**2 + 0.00441965719424903*X1**2*X6**2 + 0.0126763258231808*X1**2*X7**2 - 0.040803115955619*X1**2*X8**2 + 0.00621899972528893*X1**2*X9**2 + 0.172984703342511*X1**2 + 0.0248561221958178*X1*X10 - 1.51350268466931*X1*X11 + 0.719595409430388*X1*X12 + 0.0974115721443269*X1*X13 + 0.382937118249577*X1*X14 - 0.350844272249542*X1*X2 + 0.358859802811844*X1*X3 - 0.329428040331624*X1*X4 + 0.454017605738686*X1*X5 + 0.10472848710689*X1*X6 + 0.309171780450136*X1*X7 - 0.960568067138289*X1*X8 + 0.208318638834971*X1*X9 - 0.0972617521855455*X1 + 0.077918006738993*X10**3*X11**3 + 0.0283014567669307*X10**3*X12**3 - 0.0508537505821578*X10**3*X13**3 + 0.0340027850148467*X10**3*X14**3 - 0.0225512342484026*X10**3*X2**3 + 0.0249314464342841*X10**3*X3**3 - 0.0504190568566868*X10**3*X4**3 + 0.0254647365305095*X10**3*X5**3 - 0.00466486176312856*X10**3*X6**3 - 0.0984193521044445*X10**3*X7**3 - 0.0232592023282714*X10**3*X8**3 + 0.0155588744100677*X10**3*X9**3 - 0.0339435727516691*X10**3 - 0.0345534497795401*X10**2*X11**2 - 0.0125672425750089*X10**2*X12**2 + 0.0227736243556637*X10**2*X13**2 - 0.0149857532023418*X10**2*X14**2 + 0.0100219025108205*X10**2*X2**2 - 0.0110365904797473*X10**2*X3**2 + 0.0220357604892435*X10**2*X4**2 - 0.011037699779378*X10**2*X5**2 + 0.00207324077063882*X10**2*X6**2 + 0.0439533403516292*X10**2*X7**2 + 0.0104103886484848*X10**2*X8**2 - 0.00716359489678588*X10**2*X9**2 + 0.198519219970577*X10**2 - 0.843120410804591*X10*X11 - 0.306154209145185*X10*X12 + 0.549124728380892*X10*X13 - 0.368416981584231*X10*X14 + 0.243908851648404*X10*X2 - 0.269875976650464*X10*X3 + 0.547264216008012*X10*X4 - 0.276874854580005*X10*X5 + 0.0504534535795587*X10*X6 + 1.06336608965225*X10*X7 + 0.251182134840622*X10*X8 - 0.166986924827698*X10*X9 + 0.00459613203749918*X10 - 0.00735502894979856*X11**3*X12**3 + 0.0116120302173107*X11**3*X13**3 - 0.0166624114830348*X11**3*X14**3 - 0.0544549337786969*X11**3*X2**3 + 0.0218807053368473*X11**3*X3**3 - 0.0192686731631076*X11**3*X4**3 - 0.0486530487603796*X11**3*X5**3 + 0.0431598877489861*X11**3*X6**3 + 0.0637285921162099*X11**3*X7**3 + 0.0706218126611485*X11**3*X8**3 + 0.0938446142472908*X11**3*X9**3 + 0.949539159446929*X11**3 + 0.0032706249861997*X11**2*X12**2 - 0.00516786661331623*X11**2*X13**2 + 0.00740261869818725*X11**2*X14**2 + 0.0242272585182326*X11**2*X2**2 - 0.00979230903733493*X11**2*X3**2 + 0.00852646684307354*X11**2*X4**2 + 0.0212956713188137*X11**2*X5**2 - 0.0192610478122474*X11**2*X6**2 - 0.0285267643856065*X11**2*X7**2 - 0.0315182469001899*X11**2*X8**2 - 0.0409796480596064*X11**2*X9**2 - 2.23297288884079*X11**2 + 0.0795392281872287*X11*X12 - 0.125555383729608*X11*X13 + 0.180226980777078*X11*X14 + 0.588835042099437*X11*X2 - 0.236297241322346*X11*X3 + 0.208600790392899*X11*X4 + 0.527925710350089*X11*X5 - 0.466387089124739*X11*X6 - 0.688204283365857*X11*X7 - 0.763133561405226*X11*X8 - 1.01876942760466*X11*X9 + 2.19742845471385*X11 - 0.00830517733247949*X12**3*X13**3 + 0.0316737077992211*X12**3*X14**3 - 0.00968858257231154*X12**3*X2**3 - 0.0373960347296941*X12**3*X3**3 - 0.053955540039397*X12**3*X4**3 + 0.0589046905434248*X12**3*X5**3 - 0.00282864748532435*X12**3*X6**3 + 0.0608188199749938*X12**3*X7**3 + 0.00254562425499769*X12**3*X8**3 + 0.046601866412258*X12**3*X9**3 - 0.11911939050323*X12**3 + 0.00384225574376262*X12**2*X13**2 - 0.0131800071727874*X12**2*X14**2 + 0.00435894701385103*X12**2*X2**2 + 0.0170516877720283*X12**2*X3**2 + 0.0244147886977624*X12**2*X4**2 - 0.0231091542146622*X12**2*X5**2 + 0.00126379375469458*X12**2*X6**2 - 0.0273682039639624*X12**2*X7**2 - 0.00114098059640408*X12**2*X8**2 - 0.0197828174324535*X12**2*X9**2 + 0.121034920486862*X12**2 + 0.0890380430663514*X12*X13 - 0.347202378064068*X12*X14 + 0.104501596078375*X12*X2 + 0.402173414011114*X12*X3 + 0.581265331105923*X12*X4 - 0.653049430517952*X12*X5 + 0.030558720051748*X12*X6 - 0.656024411850423*X12*X7 - 0.0274826707609933*X12*X8 - 0.508817571419037*X12*X9 + 0.156269335390171*X12 - 0.0674070920113605*X13**3*X14**3 - 0.0234257072349919*X13**3*X2**3 - 0.0271775122730858*X13**3*X3**3 - 0.0514946127537134*X13**3*X4**3 + 0.0447520333545384*X13**3*X5**3 + 0.020426144463353*X13**3*X6**3 - 0.0766223307143842*X13**3*X7**3 + 0.00909854825568803*X13**3*X8**3 - 0.00170060092991549*X13**3*X9**3 + 0.139197989202617*X13**3 + 0.0304850865164476*X13**2*X14**2 + 0.0105808878493481*X13**2*X2**2 + 0.0122987221995894*X13**2*X3**2 + 0.0245910477060744*X13**2*X4**2 - 0.0197914485112093*X13**2*X5**2 - 0.00909824164510693*X13**2*X6**2 + 0.0342392165342078*X13**2*X7**2 - 0.00406190005603989*X13**2*X8**2 + 0.000823742083562586*X13**2*X9**2 - 0.320043972227215*X13**2 + 0.726292081810264*X13*X14 + 0.252479158868142*X13*X2 + 0.292790206590703*X13*X3 + 0.54807726656712*X13*X4 - 0.484542264804781*X13*X5 - 0.220816318709788*X13*X6 + 0.827779941922201*X13*X7 - 0.0983153325106862*X13*X8 + 0.0180390625009968*X13*X9 + 0.286180096854579*X13 - 0.00445613292686322*X14**3*X2**3 - 0.037933167872746*X14**3*X3**3 - 0.0201814170777337*X14**3*X4**3 - 0.0484689019948477*X14**3*X5**3 - 0.0173404737458749*X14**3*X6**3 + 0.0212753349521269*X14**3*X7**3 + 0.00440312240078607*X14**3*X8**3 + 0.0316013840921118*X14**3*X9**3 - 0.0377494016615853*X14**3 + 0.00200156089336149*X14**2*X2**2 + 0.0171959028892847*X14**2*X3**2 + 0.00900054702670283*X14**2*X4**2 + 0.0188584780072448*X14**2*X5**2 + 0.00773771719349928*X14**2*X6**2 - 0.00952127332154935*X14**2*X7**2 - 0.00196828088658847*X14**2*X8**2 - 0.0126663441559752*X14**2*X9**2 - 0.118904128920681*X14**2 + 0.0480805519019325*X14*X2 + 0.408471084124176*X14*X3 + 0.218097615419814*X14*X4 + 0.538162705608584*X14*X5 + 0.187385267139805*X14*X6 - 0.229761461646232*X14*X7 - 0.0475629359384826*X14*X8 - 0.348936787249447*X14*X9 + 0.474628341070436*X14 + 0.0635802846616834*X2**3*X3**3 + 0.131236723320236*X2**3*X4**3 + 0.0436800599015953*X2**3*X5**3 - 0.0390730901833946*X2**3*X6**3 + 0.0192415015625391*X2**3*X7**3 + 0.0575713697420248*X2**3*X8**3 + 0.0234837422966367*X2**3*X9**3 - 0.139479369278662*X2**3 - 0.0290347476480192*X2**2*X3**2 - 0.058671632507845*X2**2*X4**2 - 0.0180609660476003*X2**2*X5**2 + 0.0174675658819098*X2**2*X6**2 - 0.00855491885827152*X2**2*X7**2 - 0.0256139734163584*X2**2*X8**2 - 0.00999893303103719*X2**2*X9**2 + 0.458950871500686*X2**2 - 0.683536214323847*X2*X3 - 1.41753333240957*X2*X4 - 0.479439653469995*X2*X5 + 0.422067930622708*X2*X6 - 0.208096170664976*X2*X7 - 0.622534650791934*X2*X8 - 0.256244278160704*X2*X9 - 0.986792143784241*X2 + 0.000911570329546784*X3**3*X4**3 + 0.00231277657795605*X3**3*X5**3 + 0.0157228582813881*X3**3*X6**3 + 0.00908785936442754*X3**3*X7**3 - 0.0370603539694608*X3**3*X8**3 - 0.0942493492911566*X3**3*X9**3 + 0.0758897427226457*X3**3 - 0.000414435887199704*X3**2*X4**2 - 0.00108825594293936*X3**2*X5**2 - 0.00701511955445387*X3**2*X6**2 - 0.00405898068430973*X3**2*X7**2 + 0.0166056692766573*X3**2*X8**2 + 0.0422133490030366*X3**2*X9**2 - 0.200529206683224*X3**2 - 0.00981006769085786*X3*X4 - 0.0246961524479423*X3*X5 - 0.169909590488241*X3*X6 - 0.0981872023568499*X3*X7 + 0.400126467930644*X3*X8 + 1.01757118431641*X3*X9 + 0.228912183842235*X3 + 0.0733998052040522*X4**3*X5**3 - 0.0187282757194785*X4**3*X6**3 - 0.0310081147112577*X4**3*X7**3 - 0.0686058435031323*X4**3*X8**3 - 0.0348925054544183*X4**3*X9**3 + 0.253438622295741*X4**3 - 0.0306170121735144*X4**2*X5**2 + 0.00837401371618003*X4**2*X6**2 + 0.0137691157918939*X4**2*X7**2 + 0.028806351498527*X4**2*X8**2 + 0.015489883170648*X4**2*X9**2 - 0.594065827183887*X4**2 - 0.804311238922399*X4*X5 + 0.202294339693446*X4*X6 + 0.335446798849007*X4*X7 + 0.750820852173591*X4*X8 + 0.37744281160085*X4*X9 + 0.556111878527282*X4 + 0.00669835432909058*X5**3*X6**3 - 0.00439769625934902*X5**3*X7**3 + 0.019617075058061*X5**3*X8**3 + 0.00603403993541158*X5**3*X9**3 + 0.474926111229478*X5**3 - 0.00305815741904367*X5**2*X6**2 + 0.00195136093011925*X5**2*X7**2 - 0.00949449487260822*X5**2*X8**2 - 0.00217968626432606*X5**2*X9**2 - 1.34047211851324*X5**2 - 0.0720236010264106*X5*X6 + 0.0475831036068968*X5*X7 - 0.208135093766318*X5*X8 - 0.0678759871416286*X5*X9 + 1.6238517687438*X5 - 0.00532580370107337*X6**3*X7**3 + 0.0115144978706169*X6**3*X8**3 + 0.0109038362949699*X6**3*X9**3 - 3.04855709258299e-6*X6**3 + 0.00238141646135986*X6**2*X7**2 - 0.00513140139270743*X6**2*X8**2 - 0.00473771785379075*X6**2*X9**2 - 0.000472640806794606*X6**2 + 0.0575268360433715*X6*X7 - 0.124463650811576*X6*X8 - 0.118495428748113*X6*X9 + 3.29604877004867e-5*X6 + 0.0219222189971218*X7**3*X8**3 - 0.0103649879567656*X7**3*X9**3 - 0.103968335597101*X7**3 - 0.0098485014053655*X7**2*X8**2 + 0.00475268034893035*X7**2*X9**2 + 0.29413396774965*X7**2 - 0.236552444020405*X7*X8 + 0.111344439596382*X7*X9 + 0.141700735787212*X7 - 0.052776439664036*X8**3*X9**3 - 0.129624489690221*X8**3 + 0.0243936585898556*X8**2*X9**2 - 0.109091471615205*X8**2 + 0.565948229839434*X8*X9 + 0.188782704060446*X8 + 0.0294840574546502*X9**3 - 0.173495207923946*X9**2 - 0.00391522272120879*X9) + 1)"
      ]
     },
     "execution_count": 10,
     "metadata": {},
     "output_type": "execute_result"
    }
   ],
   "source": [
    "metamodel.approx_expression"
   ]
  }
 ],
 "metadata": {
  "kernelspec": {
   "display_name": "Python 3",
   "language": "python",
   "name": "python3"
  },
  "language_info": {
   "codemirror_mode": {
    "name": "ipython",
    "version": 3
   },
   "file_extension": ".py",
   "mimetype": "text/x-python",
   "name": "python",
   "nbconvert_exporter": "python",
   "pygments_lexer": "ipython3",
   "version": "3.8.8"
  }
 },
 "nbformat": 4,
 "nbformat_minor": 4
}
