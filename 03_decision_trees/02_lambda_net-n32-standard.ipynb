{
 "cells": [
  {
   "cell_type": "markdown",
   "metadata": {},
   "source": [
    "# Generation of λ-Nets for I-Net training"
   ]
  },
  {
   "cell_type": "markdown",
   "metadata": {},
   "source": [
    "## Specitication of Experiment Settings"
   ]
  },
  {
   "cell_type": "code",
   "execution_count": 1,
   "metadata": {
    "execution": {
     "iopub.execute_input": "2022-03-26T17:21:44.771176Z",
     "iopub.status.busy": "2022-03-26T17:21:44.770637Z",
     "iopub.status.idle": "2022-03-26T17:21:44.794680Z",
     "shell.execute_reply": "2022-03-26T17:21:44.793815Z",
     "shell.execute_reply.started": "2022-03-26T17:21:44.771054Z"
    },
    "tags": []
   },
   "outputs": [],
   "source": [
    "#######################################################################################################################################\n",
    "###################################################### CONFIG FILE ####################################################################\n",
    "#######################################################################################################################################\n",
    "sleep_time = 0 #minutes\n",
    "\n",
    "config = {\n",
    "    'function_family': {\n",
    "        'maximum_depth': 3,\n",
    "        'beta': 1,\n",
    "        'decision_sparsity': 1,\n",
    "        'fully_grown': True,          \n",
    "        'dt_type': 'vanilla', #'vanilla', 'SDT'\n",
    "    },\n",
    "    'data': {\n",
    "        'number_of_variables': 32, \n",
    "        'num_classes': 2,\n",
    "        'categorical_indices': [],\n",
    "        'random_parameters_distribution': True, ##MAKEPATH DIFFERENT FILES\n",
    "        'max_distributions_per_class': 1, # None; 0; int >= 1\n",
    "        'exclude_linearly_seperable': True,\n",
    "        'data_generation_filtering': False,\n",
    "        'fixed_class_probability': True,\n",
    "        'weighted_data_generation': False,\n",
    "        'shift_distrib': False,\n",
    "        \n",
    "        'function_generation_type': 'distribution' ,#'distribution', 'distribution_trained' 'make_classification_distribution', 'make_classification_distribution_trained', 'make_classification', 'make_classification_trained', 'random_decision_tree', 'random_decision_tree_trained'\n",
    "        'distribution_list': ['uniform', 'normal', 'gamma', 'beta', 'poisson'],#['uniform', 'normal', 'gamma', 'exponential', 'beta', 'binomial', 'poisson'], \n",
    "        'objective': 'classification', # 'regression'\n",
    "        \n",
    "        'x_max': 1,\n",
    "        'x_min': 0,\n",
    "        'x_distrib': 'uniform', #'normal', 'uniform',       \n",
    "                \n",
    "        'lambda_dataset_size': 5000, #number of samples per function\n",
    "        'number_of_generated_datasets': 10000,\n",
    "        \n",
    "        'noise_injected_level': 0, \n",
    "        'noise_injected_type': 'flip_percentage', # '' 'normal' 'uniform' 'normal_range' 'uniform_range'\n",
    "        \n",
    "        'data_noise': 0, #None or float\n",
    "        'distrib_param_max': 5,\n",
    "    }, \n",
    "    'lambda_net': {\n",
    "        'epochs_lambda': 1000,\n",
    "        'early_stopping_lambda': True, \n",
    "        'early_stopping_min_delta_lambda': 1e-3,\n",
    "        'batch_lambda': 64,\n",
    "        'dropout_lambda': 0,\n",
    "        'lambda_network_layers': [128],\n",
    "        'use_batchnorm_lambda': False,\n",
    "        \n",
    "        'optimizer_lambda': 'adam',\n",
    "        'loss_lambda': 'binary_crossentropy', #categorical_crossentropy\n",
    "                \n",
    "        'number_initializations_lambda': 1, \n",
    "        \n",
    "        'number_of_trained_lambda_nets': 10000,\n",
    "    },     \n",
    "    'evaluation': {   \n",
    "    },    \n",
    "    \n",
    "    'computation':{\n",
    "        'n_jobs': 30,\n",
    "        'use_gpu': False,\n",
    "        'gpu_numbers': '0',\n",
    "        'RANDOM_SEED': 42,   \n",
    "    }\n",
    "}\n",
    "\n",
    "\n"
   ]
  },
  {
   "cell_type": "code",
   "execution_count": 2,
   "metadata": {
    "execution": {
     "iopub.execute_input": "2022-03-26T17:21:44.796494Z",
     "iopub.status.busy": "2022-03-26T17:21:44.796091Z",
     "iopub.status.idle": "2022-03-26T17:21:44.849064Z",
     "shell.execute_reply": "2022-03-26T17:21:44.848197Z",
     "shell.execute_reply.started": "2022-03-26T17:21:44.796449Z"
    }
   },
   "outputs": [],
   "source": [
    "#######################################################################################################################################\n",
    "########################################### IMPORT GLOBAL VARIABLES FROM CONFIG #######################################################\n",
    "#######################################################################################################################################\n",
    "globals().update(config['function_family'])\n",
    "globals().update(config['data'])\n",
    "globals().update(config['lambda_net'])\n",
    "globals().update(config['evaluation'])\n",
    "globals().update(config['computation'])"
   ]
  },
  {
   "cell_type": "code",
   "execution_count": 3,
   "metadata": {
    "execution": {
     "iopub.execute_input": "2022-03-26T17:21:44.852391Z",
     "iopub.status.busy": "2022-03-26T17:21:44.851831Z",
     "iopub.status.idle": "2022-03-26T17:21:48.503742Z",
     "shell.execute_reply": "2022-03-26T17:21:48.502962Z",
     "shell.execute_reply.started": "2022-03-26T17:21:44.852344Z"
    }
   },
   "outputs": [],
   "source": [
    "import warnings\n",
    "warnings.filterwarnings('ignore')\n",
    "import os\n",
    "os.environ['TF_CPP_MIN_LOG_LEVEL'] = '3' \n",
    "\n",
    "from itertools import product       # forms cartesian products\n",
    "from tqdm import tqdm_notebook as tqdm\n",
    "from more_itertools import random_product \n",
    "import pickle\n",
    "import numpy as np\n",
    "import pandas as pd\n",
    "import timeit\n",
    "import matplotlib.pyplot as plt \n",
    "import time\n",
    "import math\n",
    "import operator\n",
    "from functools import reduce\n",
    "\n",
    "from scipy.signal import argrelextrema\n",
    "\n",
    "import sys\n",
    "\n",
    "import shutil\n",
    "\n",
    "import logging\n",
    "logging.getLogger('tensorflow').disabled = True\n",
    "\n",
    "from joblib import Parallel, delayed\n",
    "\n",
    "\n",
    "from sklearn.model_selection import cross_val_score, train_test_split, StratifiedKFold, KFold\n",
    "from sklearn.metrics import accuracy_score, log_loss, roc_auc_score, f1_score, mean_absolute_error, r2_score\n",
    "#from similaritymeasures import frechet_dist, area_between_two_curves, dtw\n",
    "from IPython.display import Image\n",
    "\n",
    "from livelossplot import PlotLossesKerasTF\n",
    "\n",
    "import seaborn as sns\n",
    "\n",
    "import tensorflow as tf\n",
    "#import tensorflow_addons as tfa\n",
    "import random \n",
    "\n",
    "\n",
    "#import keras\n",
    "import tensorflow.keras.backend as K\n",
    "from tensorflow.keras import Sequential\n",
    "from tensorflow.keras.layers import Dense, Dropout\n",
    "from tensorflow.keras.utils import plot_model\n",
    "from tensorflow.keras.callbacks import EarlyStopping, ModelCheckpoint, ReduceLROnPlateau\n",
    "\n"
   ]
  },
  {
   "cell_type": "code",
   "execution_count": 4,
   "metadata": {
    "execution": {
     "iopub.execute_input": "2022-03-26T17:21:48.504934Z",
     "iopub.status.busy": "2022-03-26T17:21:48.504756Z",
     "iopub.status.idle": "2022-03-26T17:21:48.512168Z",
     "shell.execute_reply": "2022-03-26T17:21:48.511483Z",
     "shell.execute_reply.started": "2022-03-26T17:21:48.504910Z"
    }
   },
   "outputs": [],
   "source": [
    "#######################################################################################################################################\n",
    "###################################################### SET VARIABLES + DESIGN #########################################################\n",
    "#######################################################################################################################################\n",
    "    \n",
    "#os.environ['TF_CPP_MIN_LOG_LEVEL'] = '2' \n",
    "os.environ['CUDA_VISIBLE_DEVICES'] = gpu_numbers if use_gpu else ''\n",
    "os.environ['TF_FORCE_GPU_ALLOW_GROWTH'] = 'true' if use_gpu else ''\n",
    "\n",
    "#os.environ['XLA_FLAGS'] =  '--xla_gpu_cuda_data_dir=/usr/local/cuda-10.1'\n",
    "\n",
    "#os.environ['XLA_FLAGS'] = '--tf_xla_enable_xla_devices'\n",
    "#os.environ['TF_XLA_FLAGS'] = '--tf_xla_enable_xla_devices'\n",
    "\n",
    "os.environ['XLA_FLAGS'] = '--xla_gpu_cuda_data_dir=/usr/local/cuda-11.4' if use_gpu else ''#-10.1' #--xla_gpu_cuda_data_dir=/usr/local/cuda, \n",
    "os.environ['TF_XLA_FLAGS'] = '--tf_xla_auto_jit=2 ,--tf_xla_enable_xla_devices' if use_gpu else ''#'--tf_xla_auto_jit=2' #, --tf_xla_enable_xla_devices\n",
    "\n",
    "\n",
    "sns.set_style(\"darkgrid\")\n",
    "\n",
    "random.seed(RANDOM_SEED)\n",
    "np.random.seed(RANDOM_SEED)\n",
    "np.random.seed(RANDOM_SEED)\n",
    "if int(tf.__version__[0]) >= 2:\n",
    "    tf.random.set_seed(RANDOM_SEED)\n",
    "else:\n",
    "    tf.set_random_seed(RANDOM_SEED)\n",
    "    \n",
    "    \n",
    "pd.set_option('display.float_format', lambda x: '%.3f' % x)\n",
    "pd.set_option('display.max_columns', 200)\n",
    "np.set_printoptions(threshold=200)"
   ]
  },
  {
   "cell_type": "code",
   "execution_count": null,
   "metadata": {},
   "outputs": [],
   "source": []
  },
  {
   "cell_type": "code",
   "execution_count": 5,
   "metadata": {
    "execution": {
     "iopub.execute_input": "2022-03-26T17:21:48.513305Z",
     "iopub.status.busy": "2022-03-26T17:21:48.513087Z",
     "iopub.status.idle": "2022-03-26T17:21:50.900386Z",
     "shell.execute_reply": "2022-03-26T17:21:50.899374Z",
     "shell.execute_reply.started": "2022-03-26T17:21:48.513282Z"
    }
   },
   "outputs": [],
   "source": [
    "from utilities.LambdaNet import *\n",
    "from utilities.metrics import *\n",
    "from utilities.utility_functions import *\n",
    "#######################################################################################################################################\n",
    "####################################################### CONFIG ADJUSTMENTS ############################################################\n",
    "#######################################################################################################################################\n",
    "\n",
    "config['lambda_net']['number_of_lambda_weights'] = get_number_of_lambda_net_parameters(config)\n",
    "    \n",
    "#######################################################################################################################################\n",
    "################################################## UPDATE VARIABLES ###################################################################\n",
    "#######################################################################################################################################\n",
    "globals().update(config['function_family'])\n",
    "globals().update(config['data'])\n",
    "globals().update(config['lambda_net'])\n",
    "globals().update(config['evaluation'])\n",
    "globals().update(config['computation'])\n",
    "\n",
    "#initialize_utility_functions_config_from_curent_notebook(config)\n",
    "#initialize_LambdaNet_config_from_curent_notebook(config)\n",
    "#initialize_metrics_config_from_curent_notebook(config)\n",
    "\n",
    "#######################################################################################################################################\n",
    "###################################################### PATH + FOLDER CREATION #########################################################\n",
    "#######################################################################################################################################\n",
    "globals().update(generate_paths(config, path_type='lambda_net'))\n",
    "generate_directory_structure()\n",
    "generate_lambda_net_directory(config)\n",
    "\n",
    "#######################################################################################################################################\n",
    "############################################################ SLEEP TIMER ##############################################################\n",
    "#######################################################################################################################################\n",
    "sleep_minutes(sleep_time)"
   ]
  },
  {
   "cell_type": "code",
   "execution_count": 6,
   "metadata": {
    "execution": {
     "iopub.execute_input": "2022-03-26T17:21:50.901907Z",
     "iopub.status.busy": "2022-03-26T17:21:50.901646Z",
     "iopub.status.idle": "2022-03-26T17:21:50.907022Z",
     "shell.execute_reply": "2022-03-26T17:21:50.906230Z",
     "shell.execute_reply.started": "2022-03-26T17:21:50.901881Z"
    }
   },
   "outputs": [
    {
     "name": "stdout",
     "output_type": "stream",
     "text": [
      "lNetSize5000_numLNets10000_var32_class2_distribution_xMax1_xMin0_xDistuniform_dNoise0_randParamDist_maxDistClass1_distribParamMax5_exLinSepun-no-ga-be-po_depth3_beta1_decisionSpars1_vanilla_fullyGrown/128_e1000ES0.001_b64_drop0_adam_binary_crossentropy_fixedInit1-seed42\n",
      "lNetSize5000_numDatasets10000_var32_class2_distribution_xMax1_xMin0_xDistuniform_dNoise0_randParamDist_maxDistClass1_distribParamMax5_exLinSepun-no-ga-be-po_depth3_beta1_decisionSpars1_vanilla_fullyGrown\n"
     ]
    }
   ],
   "source": [
    "print(path_identifier_lambda_net_data)\n",
    "\n",
    "print(path_identifier_function_data)\n"
   ]
  },
  {
   "cell_type": "code",
   "execution_count": 7,
   "metadata": {
    "execution": {
     "iopub.execute_input": "2022-03-26T17:21:50.908152Z",
     "iopub.status.busy": "2022-03-26T17:21:50.907883Z",
     "iopub.status.idle": "2022-03-26T17:21:50.997646Z",
     "shell.execute_reply": "2022-03-26T17:21:50.996670Z",
     "shell.execute_reply.started": "2022-03-26T17:21:50.908127Z"
    }
   },
   "outputs": [
    {
     "name": "stdout",
     "output_type": "stream",
     "text": [
      "Num GPUs Available:  0\n",
      "Num XLA-GPUs Available:  0\n"
     ]
    }
   ],
   "source": [
    "print(\"Num GPUs Available: \", len(tf.config.experimental.list_physical_devices('GPU')))\n",
    "print(\"Num XLA-GPUs Available: \", len(tf.config.experimental.list_physical_devices('XLA_GPU')))"
   ]
  },
  {
   "cell_type": "code",
   "execution_count": 8,
   "metadata": {
    "execution": {
     "iopub.execute_input": "2022-03-26T17:21:50.999766Z",
     "iopub.status.busy": "2022-03-26T17:21:50.999069Z",
     "iopub.status.idle": "2022-03-26T17:21:51.035072Z",
     "shell.execute_reply": "2022-03-26T17:21:51.034143Z",
     "shell.execute_reply.started": "2022-03-26T17:21:50.999719Z"
    }
   },
   "outputs": [
    {
     "data": {
      "text/plain": [
       "[128]"
      ]
     },
     "execution_count": 8,
     "metadata": {},
     "output_type": "execute_result"
    }
   ],
   "source": [
    "lambda_network_layers"
   ]
  },
  {
   "cell_type": "code",
   "execution_count": 9,
   "metadata": {
    "ExecuteTime": {
     "end_time": "2021-01-17T09:46:11.182937Z",
     "start_time": "2021-01-17T09:44:31.797522Z"
    },
    "execution": {
     "iopub.execute_input": "2022-03-26T17:21:51.037219Z",
     "iopub.status.busy": "2022-03-26T17:21:51.036536Z",
     "iopub.status.idle": "2022-03-26T17:23:08.575549Z",
     "shell.execute_reply": "2022-03-26T17:23:08.574708Z",
     "shell.execute_reply.started": "2022-03-26T17:21:51.037171Z"
    },
    "tags": []
   },
   "outputs": [],
   "source": [
    "path_functions = './data/saved_function_lists/functions_' + path_identifier_function_data + '.csv'\n",
    "function_df = pd.read_csv(path_functions)\n",
    "\n",
    "path_X_data = './data/saved_function_lists/X_data_' + path_identifier_function_data + '.pkl'\n",
    "with open(path_X_data, 'rb') as f:\n",
    "    X_data_list = pickle.load(f)\n",
    "    \n",
    "path_y_data = './data/saved_function_lists/y_data_' + path_identifier_function_data + '.pkl'\n",
    "with open(path_y_data, 'rb') as f:\n",
    "    y_data_list = pickle.load(f)\n",
    "    \n",
    "try:\n",
    "    path_distribution = './data/saved_function_lists/distribution_parameter_list_list_' + path_identifier_function_data + '.pkl'\n",
    "    with open(path_distribution, 'rb') as f:\n",
    "        distribution_parameter_list_list = pickle.load(f)\n",
    "except Exception:\n",
    "    traceback.print_exc()\n",
    "    distribution_parameter_list_list = [[None, None]]*number_of_generated_datasets\n",
    "    \n",
    "if number_of_trained_lambda_nets < number_of_generated_datasets:\n",
    "    function_df = function_df.sample(n=number_of_trained_lambda_nets, random_state=RANDOM_SEED)\n",
    "    random.seed(RANDOM_SEED)\n",
    "    X_data_list = random.sample(X_data_list, number_of_trained_lambda_nets)\n",
    "    random.seed(RANDOM_SEED)\n",
    "    y_data_list = random.sample(y_data_list, number_of_trained_lambda_nets)\n",
    "    random.seed(RANDOM_SEED)\n",
    "    try:\n",
    "        distribution_parameter_list_list = random.sample(distribution_parameter_list_list, number_of_trained_lambda_nets)\n",
    "        random.seed(RANDOM_SEED)\n",
    "    except:\n",
    "        distribution_parameter_list_list = [[None, None]]*number_of_trained_lambda_nets"
   ]
  },
  {
   "cell_type": "markdown",
   "metadata": {},
   "source": [
    "## Data Inspection"
   ]
  },
  {
   "cell_type": "code",
   "execution_count": 10,
   "metadata": {
    "execution": {
     "iopub.execute_input": "2022-03-26T17:23:08.576769Z",
     "iopub.status.busy": "2022-03-26T17:23:08.576546Z",
     "iopub.status.idle": "2022-03-26T17:23:08.593718Z",
     "shell.execute_reply": "2022-03-26T17:23:08.593194Z",
     "shell.execute_reply.started": "2022-03-26T17:23:08.576743Z"
    }
   },
   "outputs": [
    {
     "data": {
      "text/html": [
       "<div>\n",
       "<style scoped>\n",
       "    .dataframe tbody tr th:only-of-type {\n",
       "        vertical-align: middle;\n",
       "    }\n",
       "\n",
       "    .dataframe tbody tr th {\n",
       "        vertical-align: top;\n",
       "    }\n",
       "\n",
       "    .dataframe thead th {\n",
       "        text-align: right;\n",
       "    }\n",
       "</style>\n",
       "<table border=\"1\" class=\"dataframe\">\n",
       "  <thead>\n",
       "    <tr style=\"text-align: right;\">\n",
       "      <th></th>\n",
       "      <th>feat0</th>\n",
       "      <th>feat1</th>\n",
       "      <th>feat2</th>\n",
       "      <th>feat3</th>\n",
       "      <th>feat4</th>\n",
       "      <th>feat5</th>\n",
       "      <th>feat6</th>\n",
       "      <th>split0</th>\n",
       "      <th>split1</th>\n",
       "      <th>split2</th>\n",
       "      <th>split3</th>\n",
       "      <th>split4</th>\n",
       "      <th>split5</th>\n",
       "      <th>split6</th>\n",
       "      <th>lp0</th>\n",
       "      <th>lp1</th>\n",
       "      <th>lp2</th>\n",
       "      <th>lp3</th>\n",
       "      <th>lp4</th>\n",
       "      <th>lp5</th>\n",
       "      <th>lp6</th>\n",
       "      <th>lp7</th>\n",
       "    </tr>\n",
       "  </thead>\n",
       "  <tbody>\n",
       "    <tr>\n",
       "      <th>0</th>\n",
       "      <td>0</td>\n",
       "      <td>0</td>\n",
       "      <td>0</td>\n",
       "      <td>0</td>\n",
       "      <td>0</td>\n",
       "      <td>0</td>\n",
       "      <td>0</td>\n",
       "      <td>0</td>\n",
       "      <td>0</td>\n",
       "      <td>0</td>\n",
       "      <td>0</td>\n",
       "      <td>0</td>\n",
       "      <td>0</td>\n",
       "      <td>0</td>\n",
       "      <td>0</td>\n",
       "      <td>0</td>\n",
       "      <td>0</td>\n",
       "      <td>0</td>\n",
       "      <td>0</td>\n",
       "      <td>0</td>\n",
       "      <td>0</td>\n",
       "      <td>0</td>\n",
       "    </tr>\n",
       "    <tr>\n",
       "      <th>1</th>\n",
       "      <td>0</td>\n",
       "      <td>0</td>\n",
       "      <td>0</td>\n",
       "      <td>0</td>\n",
       "      <td>0</td>\n",
       "      <td>0</td>\n",
       "      <td>0</td>\n",
       "      <td>0</td>\n",
       "      <td>0</td>\n",
       "      <td>0</td>\n",
       "      <td>0</td>\n",
       "      <td>0</td>\n",
       "      <td>0</td>\n",
       "      <td>0</td>\n",
       "      <td>0</td>\n",
       "      <td>0</td>\n",
       "      <td>0</td>\n",
       "      <td>0</td>\n",
       "      <td>0</td>\n",
       "      <td>0</td>\n",
       "      <td>0</td>\n",
       "      <td>0</td>\n",
       "    </tr>\n",
       "    <tr>\n",
       "      <th>2</th>\n",
       "      <td>0</td>\n",
       "      <td>0</td>\n",
       "      <td>0</td>\n",
       "      <td>0</td>\n",
       "      <td>0</td>\n",
       "      <td>0</td>\n",
       "      <td>0</td>\n",
       "      <td>0</td>\n",
       "      <td>0</td>\n",
       "      <td>0</td>\n",
       "      <td>0</td>\n",
       "      <td>0</td>\n",
       "      <td>0</td>\n",
       "      <td>0</td>\n",
       "      <td>0</td>\n",
       "      <td>0</td>\n",
       "      <td>0</td>\n",
       "      <td>0</td>\n",
       "      <td>0</td>\n",
       "      <td>0</td>\n",
       "      <td>0</td>\n",
       "      <td>0</td>\n",
       "    </tr>\n",
       "    <tr>\n",
       "      <th>3</th>\n",
       "      <td>0</td>\n",
       "      <td>0</td>\n",
       "      <td>0</td>\n",
       "      <td>0</td>\n",
       "      <td>0</td>\n",
       "      <td>0</td>\n",
       "      <td>0</td>\n",
       "      <td>0</td>\n",
       "      <td>0</td>\n",
       "      <td>0</td>\n",
       "      <td>0</td>\n",
       "      <td>0</td>\n",
       "      <td>0</td>\n",
       "      <td>0</td>\n",
       "      <td>0</td>\n",
       "      <td>0</td>\n",
       "      <td>0</td>\n",
       "      <td>0</td>\n",
       "      <td>0</td>\n",
       "      <td>0</td>\n",
       "      <td>0</td>\n",
       "      <td>0</td>\n",
       "    </tr>\n",
       "    <tr>\n",
       "      <th>4</th>\n",
       "      <td>0</td>\n",
       "      <td>0</td>\n",
       "      <td>0</td>\n",
       "      <td>0</td>\n",
       "      <td>0</td>\n",
       "      <td>0</td>\n",
       "      <td>0</td>\n",
       "      <td>0</td>\n",
       "      <td>0</td>\n",
       "      <td>0</td>\n",
       "      <td>0</td>\n",
       "      <td>0</td>\n",
       "      <td>0</td>\n",
       "      <td>0</td>\n",
       "      <td>0</td>\n",
       "      <td>0</td>\n",
       "      <td>0</td>\n",
       "      <td>0</td>\n",
       "      <td>0</td>\n",
       "      <td>0</td>\n",
       "      <td>0</td>\n",
       "      <td>0</td>\n",
       "    </tr>\n",
       "  </tbody>\n",
       "</table>\n",
       "</div>"
      ],
      "text/plain": [
       "   feat0  feat1  feat2  feat3  feat4  feat5  feat6  split0  split1  split2  \\\n",
       "0      0      0      0      0      0      0      0       0       0       0   \n",
       "1      0      0      0      0      0      0      0       0       0       0   \n",
       "2      0      0      0      0      0      0      0       0       0       0   \n",
       "3      0      0      0      0      0      0      0       0       0       0   \n",
       "4      0      0      0      0      0      0      0       0       0       0   \n",
       "\n",
       "   split3  split4  split5  split6  lp0  lp1  lp2  lp3  lp4  lp5  lp6  lp7  \n",
       "0       0       0       0       0    0    0    0    0    0    0    0    0  \n",
       "1       0       0       0       0    0    0    0    0    0    0    0    0  \n",
       "2       0       0       0       0    0    0    0    0    0    0    0    0  \n",
       "3       0       0       0       0    0    0    0    0    0    0    0    0  \n",
       "4       0       0       0       0    0    0    0    0    0    0    0    0  "
      ]
     },
     "execution_count": 10,
     "metadata": {},
     "output_type": "execute_result"
    }
   ],
   "source": [
    "function_df.head()"
   ]
  },
  {
   "cell_type": "code",
   "execution_count": 11,
   "metadata": {
    "execution": {
     "iopub.execute_input": "2022-03-26T17:23:08.594634Z",
     "iopub.status.busy": "2022-03-26T17:23:08.594464Z",
     "iopub.status.idle": "2022-03-26T17:23:08.621738Z",
     "shell.execute_reply": "2022-03-26T17:23:08.621227Z",
     "shell.execute_reply.started": "2022-03-26T17:23:08.594611Z"
    }
   },
   "outputs": [
    {
     "data": {
      "text/plain": [
       "feat0     0\n",
       "feat1     0\n",
       "feat2     0\n",
       "feat3     0\n",
       "feat4     0\n",
       "feat5     0\n",
       "feat6     0\n",
       "split0    0\n",
       "split1    0\n",
       "split2    0\n",
       "dtype: int64"
      ]
     },
     "execution_count": 11,
     "metadata": {},
     "output_type": "execute_result"
    }
   ],
   "source": [
    "X_data_list[0][0].head(10)"
   ]
  },
  {
   "cell_type": "code",
   "execution_count": 12,
   "metadata": {
    "ExecuteTime": {
     "end_time": "2021-01-17T09:46:12.626401Z",
     "start_time": "2021-01-17T09:46:12.608200Z"
    },
    "execution": {
     "iopub.execute_input": "2022-03-26T17:23:08.625165Z",
     "iopub.status.busy": "2022-03-26T17:23:08.624924Z",
     "iopub.status.idle": "2022-03-26T17:23:08.653154Z",
     "shell.execute_reply": "2022-03-26T17:23:08.652610Z",
     "shell.execute_reply.started": "2022-03-26T17:23:08.625141Z"
    }
   },
   "outputs": [
    {
     "data": {
      "text/html": [
       "<div>\n",
       "<style scoped>\n",
       "    .dataframe tbody tr th:only-of-type {\n",
       "        vertical-align: middle;\n",
       "    }\n",
       "\n",
       "    .dataframe tbody tr th {\n",
       "        vertical-align: top;\n",
       "    }\n",
       "\n",
       "    .dataframe thead th {\n",
       "        text-align: right;\n",
       "    }\n",
       "</style>\n",
       "<table border=\"1\" class=\"dataframe\">\n",
       "  <thead>\n",
       "    <tr style=\"text-align: right;\">\n",
       "      <th></th>\n",
       "      <th>x0</th>\n",
       "      <th>x1</th>\n",
       "      <th>x2</th>\n",
       "      <th>x3</th>\n",
       "      <th>x4</th>\n",
       "      <th>x5</th>\n",
       "      <th>x6</th>\n",
       "      <th>x7</th>\n",
       "      <th>x8</th>\n",
       "      <th>x9</th>\n",
       "      <th>x10</th>\n",
       "      <th>x11</th>\n",
       "      <th>x12</th>\n",
       "      <th>x13</th>\n",
       "      <th>x14</th>\n",
       "      <th>x15</th>\n",
       "      <th>x16</th>\n",
       "      <th>x17</th>\n",
       "      <th>x18</th>\n",
       "      <th>x19</th>\n",
       "      <th>x20</th>\n",
       "      <th>x21</th>\n",
       "      <th>x22</th>\n",
       "      <th>x23</th>\n",
       "      <th>x24</th>\n",
       "      <th>x25</th>\n",
       "      <th>x26</th>\n",
       "      <th>x27</th>\n",
       "      <th>x28</th>\n",
       "      <th>x29</th>\n",
       "      <th>x30</th>\n",
       "      <th>x31</th>\n",
       "    </tr>\n",
       "  </thead>\n",
       "  <tbody>\n",
       "    <tr>\n",
       "      <th>0</th>\n",
       "      <td>0.793</td>\n",
       "      <td>0.093</td>\n",
       "      <td>0.037</td>\n",
       "      <td>0.167</td>\n",
       "      <td>0.499</td>\n",
       "      <td>0.199</td>\n",
       "      <td>0.730</td>\n",
       "      <td>0.017</td>\n",
       "      <td>0.051</td>\n",
       "      <td>0.658</td>\n",
       "      <td>0.759</td>\n",
       "      <td>0.077</td>\n",
       "      <td>0.646</td>\n",
       "      <td>0.182</td>\n",
       "      <td>0.331</td>\n",
       "      <td>0.397</td>\n",
       "      <td>0.005</td>\n",
       "      <td>0.195</td>\n",
       "      <td>0.355</td>\n",
       "      <td>0.746</td>\n",
       "      <td>0.125</td>\n",
       "      <td>0.181</td>\n",
       "      <td>0.577</td>\n",
       "      <td>0.138</td>\n",
       "      <td>0.111</td>\n",
       "      <td>0.478</td>\n",
       "      <td>0.399</td>\n",
       "      <td>0.205</td>\n",
       "      <td>0.681</td>\n",
       "      <td>0.172</td>\n",
       "      <td>0.670</td>\n",
       "      <td>0.526</td>\n",
       "    </tr>\n",
       "    <tr>\n",
       "      <th>1</th>\n",
       "      <td>0.545</td>\n",
       "      <td>0.305</td>\n",
       "      <td>0.393</td>\n",
       "      <td>0.031</td>\n",
       "      <td>0.155</td>\n",
       "      <td>0.595</td>\n",
       "      <td>0.960</td>\n",
       "      <td>0.105</td>\n",
       "      <td>0.115</td>\n",
       "      <td>0.746</td>\n",
       "      <td>0.484</td>\n",
       "      <td>0.231</td>\n",
       "      <td>0.932</td>\n",
       "      <td>0.033</td>\n",
       "      <td>0.773</td>\n",
       "      <td>0.661</td>\n",
       "      <td>0.033</td>\n",
       "      <td>0.013</td>\n",
       "      <td>0.398</td>\n",
       "      <td>0.469</td>\n",
       "      <td>0.497</td>\n",
       "      <td>0.265</td>\n",
       "      <td>0.468</td>\n",
       "      <td>0.068</td>\n",
       "      <td>0.000</td>\n",
       "      <td>0.225</td>\n",
       "      <td>0.514</td>\n",
       "      <td>0.158</td>\n",
       "      <td>0.845</td>\n",
       "      <td>0.003</td>\n",
       "      <td>0.616</td>\n",
       "      <td>0.607</td>\n",
       "    </tr>\n",
       "    <tr>\n",
       "      <th>2</th>\n",
       "      <td>0.584</td>\n",
       "      <td>0.239</td>\n",
       "      <td>0.057</td>\n",
       "      <td>0.323</td>\n",
       "      <td>0.795</td>\n",
       "      <td>0.859</td>\n",
       "      <td>0.955</td>\n",
       "      <td>0.004</td>\n",
       "      <td>0.189</td>\n",
       "      <td>0.807</td>\n",
       "      <td>0.591</td>\n",
       "      <td>0.077</td>\n",
       "      <td>0.805</td>\n",
       "      <td>0.390</td>\n",
       "      <td>0.314</td>\n",
       "      <td>0.583</td>\n",
       "      <td>0.019</td>\n",
       "      <td>0.165</td>\n",
       "      <td>0.338</td>\n",
       "      <td>0.940</td>\n",
       "      <td>0.540</td>\n",
       "      <td>0.313</td>\n",
       "      <td>0.496</td>\n",
       "      <td>0.162</td>\n",
       "      <td>0.111</td>\n",
       "      <td>0.187</td>\n",
       "      <td>0.613</td>\n",
       "      <td>0.223</td>\n",
       "      <td>0.330</td>\n",
       "      <td>0.070</td>\n",
       "      <td>0.346</td>\n",
       "      <td>0.662</td>\n",
       "    </tr>\n",
       "    <tr>\n",
       "      <th>3</th>\n",
       "      <td>0.928</td>\n",
       "      <td>0.229</td>\n",
       "      <td>0.164</td>\n",
       "      <td>0.260</td>\n",
       "      <td>0.474</td>\n",
       "      <td>0.583</td>\n",
       "      <td>0.777</td>\n",
       "      <td>0.021</td>\n",
       "      <td>0.017</td>\n",
       "      <td>0.561</td>\n",
       "      <td>0.645</td>\n",
       "      <td>0.077</td>\n",
       "      <td>0.671</td>\n",
       "      <td>0.191</td>\n",
       "      <td>0.867</td>\n",
       "      <td>0.119</td>\n",
       "      <td>0.018</td>\n",
       "      <td>0.107</td>\n",
       "      <td>0.334</td>\n",
       "      <td>0.503</td>\n",
       "      <td>0.458</td>\n",
       "      <td>0.008</td>\n",
       "      <td>0.405</td>\n",
       "      <td>0.481</td>\n",
       "      <td>0.333</td>\n",
       "      <td>0.321</td>\n",
       "      <td>0.371</td>\n",
       "      <td>0.437</td>\n",
       "      <td>0.342</td>\n",
       "      <td>0.002</td>\n",
       "      <td>0.386</td>\n",
       "      <td>0.476</td>\n",
       "    </tr>\n",
       "    <tr>\n",
       "      <th>4</th>\n",
       "      <td>0.794</td>\n",
       "      <td>0.008</td>\n",
       "      <td>0.504</td>\n",
       "      <td>0.033</td>\n",
       "      <td>0.486</td>\n",
       "      <td>0.061</td>\n",
       "      <td>0.613</td>\n",
       "      <td>0.006</td>\n",
       "      <td>0.023</td>\n",
       "      <td>0.749</td>\n",
       "      <td>0.411</td>\n",
       "      <td>0.000</td>\n",
       "      <td>0.411</td>\n",
       "      <td>0.097</td>\n",
       "      <td>0.267</td>\n",
       "      <td>0.412</td>\n",
       "      <td>0.002</td>\n",
       "      <td>0.030</td>\n",
       "      <td>0.363</td>\n",
       "      <td>0.754</td>\n",
       "      <td>0.715</td>\n",
       "      <td>0.172</td>\n",
       "      <td>0.264</td>\n",
       "      <td>0.395</td>\n",
       "      <td>0.111</td>\n",
       "      <td>0.460</td>\n",
       "      <td>0.537</td>\n",
       "      <td>0.393</td>\n",
       "      <td>0.489</td>\n",
       "      <td>0.069</td>\n",
       "      <td>0.765</td>\n",
       "      <td>0.467</td>\n",
       "    </tr>\n",
       "    <tr>\n",
       "      <th>5</th>\n",
       "      <td>0.522</td>\n",
       "      <td>0.118</td>\n",
       "      <td>0.395</td>\n",
       "      <td>0.203</td>\n",
       "      <td>0.800</td>\n",
       "      <td>0.248</td>\n",
       "      <td>0.147</td>\n",
       "      <td>0.005</td>\n",
       "      <td>0.040</td>\n",
       "      <td>0.650</td>\n",
       "      <td>0.569</td>\n",
       "      <td>0.308</td>\n",
       "      <td>0.826</td>\n",
       "      <td>0.403</td>\n",
       "      <td>0.660</td>\n",
       "      <td>0.738</td>\n",
       "      <td>0.014</td>\n",
       "      <td>0.024</td>\n",
       "      <td>0.412</td>\n",
       "      <td>0.352</td>\n",
       "      <td>0.461</td>\n",
       "      <td>0.008</td>\n",
       "      <td>0.569</td>\n",
       "      <td>0.248</td>\n",
       "      <td>0.111</td>\n",
       "      <td>0.640</td>\n",
       "      <td>0.158</td>\n",
       "      <td>0.429</td>\n",
       "      <td>0.448</td>\n",
       "      <td>0.114</td>\n",
       "      <td>0.033</td>\n",
       "      <td>0.414</td>\n",
       "    </tr>\n",
       "    <tr>\n",
       "      <th>6</th>\n",
       "      <td>0.558</td>\n",
       "      <td>0.164</td>\n",
       "      <td>0.114</td>\n",
       "      <td>0.155</td>\n",
       "      <td>0.494</td>\n",
       "      <td>0.377</td>\n",
       "      <td>0.665</td>\n",
       "      <td>0.058</td>\n",
       "      <td>0.169</td>\n",
       "      <td>0.640</td>\n",
       "      <td>0.630</td>\n",
       "      <td>0.000</td>\n",
       "      <td>0.588</td>\n",
       "      <td>0.080</td>\n",
       "      <td>0.667</td>\n",
       "      <td>0.586</td>\n",
       "      <td>0.026</td>\n",
       "      <td>0.066</td>\n",
       "      <td>0.407</td>\n",
       "      <td>0.685</td>\n",
       "      <td>0.437</td>\n",
       "      <td>0.327</td>\n",
       "      <td>0.591</td>\n",
       "      <td>0.327</td>\n",
       "      <td>0.111</td>\n",
       "      <td>0.448</td>\n",
       "      <td>0.244</td>\n",
       "      <td>0.353</td>\n",
       "      <td>0.352</td>\n",
       "      <td>0.244</td>\n",
       "      <td>0.762</td>\n",
       "      <td>0.565</td>\n",
       "    </tr>\n",
       "    <tr>\n",
       "      <th>7</th>\n",
       "      <td>0.767</td>\n",
       "      <td>0.023</td>\n",
       "      <td>0.335</td>\n",
       "      <td>0.345</td>\n",
       "      <td>0.422</td>\n",
       "      <td>0.666</td>\n",
       "      <td>0.981</td>\n",
       "      <td>0.105</td>\n",
       "      <td>0.017</td>\n",
       "      <td>0.852</td>\n",
       "      <td>0.334</td>\n",
       "      <td>0.000</td>\n",
       "      <td>0.750</td>\n",
       "      <td>0.099</td>\n",
       "      <td>0.424</td>\n",
       "      <td>0.384</td>\n",
       "      <td>0.011</td>\n",
       "      <td>0.005</td>\n",
       "      <td>0.386</td>\n",
       "      <td>0.959</td>\n",
       "      <td>0.182</td>\n",
       "      <td>0.326</td>\n",
       "      <td>0.542</td>\n",
       "      <td>0.270</td>\n",
       "      <td>0.111</td>\n",
       "      <td>0.493</td>\n",
       "      <td>0.358</td>\n",
       "      <td>0.325</td>\n",
       "      <td>0.514</td>\n",
       "      <td>0.023</td>\n",
       "      <td>0.363</td>\n",
       "      <td>0.307</td>\n",
       "    </tr>\n",
       "    <tr>\n",
       "      <th>8</th>\n",
       "      <td>0.546</td>\n",
       "      <td>0.035</td>\n",
       "      <td>0.433</td>\n",
       "      <td>0.366</td>\n",
       "      <td>0.467</td>\n",
       "      <td>0.107</td>\n",
       "      <td>0.730</td>\n",
       "      <td>0.002</td>\n",
       "      <td>0.057</td>\n",
       "      <td>0.749</td>\n",
       "      <td>0.738</td>\n",
       "      <td>0.154</td>\n",
       "      <td>0.601</td>\n",
       "      <td>0.054</td>\n",
       "      <td>0.516</td>\n",
       "      <td>0.268</td>\n",
       "      <td>0.027</td>\n",
       "      <td>0.245</td>\n",
       "      <td>0.447</td>\n",
       "      <td>0.963</td>\n",
       "      <td>0.561</td>\n",
       "      <td>0.394</td>\n",
       "      <td>0.482</td>\n",
       "      <td>0.124</td>\n",
       "      <td>0.111</td>\n",
       "      <td>0.221</td>\n",
       "      <td>0.188</td>\n",
       "      <td>0.380</td>\n",
       "      <td>0.494</td>\n",
       "      <td>0.043</td>\n",
       "      <td>0.176</td>\n",
       "      <td>0.510</td>\n",
       "    </tr>\n",
       "    <tr>\n",
       "      <th>9</th>\n",
       "      <td>0.727</td>\n",
       "      <td>0.245</td>\n",
       "      <td>0.329</td>\n",
       "      <td>0.187</td>\n",
       "      <td>0.365</td>\n",
       "      <td>0.519</td>\n",
       "      <td>0.749</td>\n",
       "      <td>0.051</td>\n",
       "      <td>0.063</td>\n",
       "      <td>0.774</td>\n",
       "      <td>0.423</td>\n",
       "      <td>0.077</td>\n",
       "      <td>0.963</td>\n",
       "      <td>0.109</td>\n",
       "      <td>0.479</td>\n",
       "      <td>0.500</td>\n",
       "      <td>0.038</td>\n",
       "      <td>0.120</td>\n",
       "      <td>0.319</td>\n",
       "      <td>0.789</td>\n",
       "      <td>0.574</td>\n",
       "      <td>0.256</td>\n",
       "      <td>0.635</td>\n",
       "      <td>0.362</td>\n",
       "      <td>0.444</td>\n",
       "      <td>0.439</td>\n",
       "      <td>0.203</td>\n",
       "      <td>0.492</td>\n",
       "      <td>0.425</td>\n",
       "      <td>0.096</td>\n",
       "      <td>0.025</td>\n",
       "      <td>0.413</td>\n",
       "    </tr>\n",
       "  </tbody>\n",
       "</table>\n",
       "</div>"
      ],
      "text/plain": [
       "     x0    x1    x2    x3    x4    x5    x6    x7    x8    x9   x10   x11  \\\n",
       "0 0.793 0.093 0.037 0.167 0.499 0.199 0.730 0.017 0.051 0.658 0.759 0.077   \n",
       "1 0.545 0.305 0.393 0.031 0.155 0.595 0.960 0.105 0.115 0.746 0.484 0.231   \n",
       "2 0.584 0.239 0.057 0.323 0.795 0.859 0.955 0.004 0.189 0.807 0.591 0.077   \n",
       "3 0.928 0.229 0.164 0.260 0.474 0.583 0.777 0.021 0.017 0.561 0.645 0.077   \n",
       "4 0.794 0.008 0.504 0.033 0.486 0.061 0.613 0.006 0.023 0.749 0.411 0.000   \n",
       "5 0.522 0.118 0.395 0.203 0.800 0.248 0.147 0.005 0.040 0.650 0.569 0.308   \n",
       "6 0.558 0.164 0.114 0.155 0.494 0.377 0.665 0.058 0.169 0.640 0.630 0.000   \n",
       "7 0.767 0.023 0.335 0.345 0.422 0.666 0.981 0.105 0.017 0.852 0.334 0.000   \n",
       "8 0.546 0.035 0.433 0.366 0.467 0.107 0.730 0.002 0.057 0.749 0.738 0.154   \n",
       "9 0.727 0.245 0.329 0.187 0.365 0.519 0.749 0.051 0.063 0.774 0.423 0.077   \n",
       "\n",
       "    x12   x13   x14   x15   x16   x17   x18   x19   x20   x21   x22   x23  \\\n",
       "0 0.646 0.182 0.331 0.397 0.005 0.195 0.355 0.746 0.125 0.181 0.577 0.138   \n",
       "1 0.932 0.033 0.773 0.661 0.033 0.013 0.398 0.469 0.497 0.265 0.468 0.068   \n",
       "2 0.805 0.390 0.314 0.583 0.019 0.165 0.338 0.940 0.540 0.313 0.496 0.162   \n",
       "3 0.671 0.191 0.867 0.119 0.018 0.107 0.334 0.503 0.458 0.008 0.405 0.481   \n",
       "4 0.411 0.097 0.267 0.412 0.002 0.030 0.363 0.754 0.715 0.172 0.264 0.395   \n",
       "5 0.826 0.403 0.660 0.738 0.014 0.024 0.412 0.352 0.461 0.008 0.569 0.248   \n",
       "6 0.588 0.080 0.667 0.586 0.026 0.066 0.407 0.685 0.437 0.327 0.591 0.327   \n",
       "7 0.750 0.099 0.424 0.384 0.011 0.005 0.386 0.959 0.182 0.326 0.542 0.270   \n",
       "8 0.601 0.054 0.516 0.268 0.027 0.245 0.447 0.963 0.561 0.394 0.482 0.124   \n",
       "9 0.963 0.109 0.479 0.500 0.038 0.120 0.319 0.789 0.574 0.256 0.635 0.362   \n",
       "\n",
       "    x24   x25   x26   x27   x28   x29   x30   x31  \n",
       "0 0.111 0.478 0.399 0.205 0.681 0.172 0.670 0.526  \n",
       "1 0.000 0.225 0.514 0.158 0.845 0.003 0.616 0.607  \n",
       "2 0.111 0.187 0.613 0.223 0.330 0.070 0.346 0.662  \n",
       "3 0.333 0.321 0.371 0.437 0.342 0.002 0.386 0.476  \n",
       "4 0.111 0.460 0.537 0.393 0.489 0.069 0.765 0.467  \n",
       "5 0.111 0.640 0.158 0.429 0.448 0.114 0.033 0.414  \n",
       "6 0.111 0.448 0.244 0.353 0.352 0.244 0.762 0.565  \n",
       "7 0.111 0.493 0.358 0.325 0.514 0.023 0.363 0.307  \n",
       "8 0.111 0.221 0.188 0.380 0.494 0.043 0.176 0.510  \n",
       "9 0.444 0.439 0.203 0.492 0.425 0.096 0.025 0.413  "
      ]
     },
     "execution_count": 12,
     "metadata": {},
     "output_type": "execute_result"
    }
   ],
   "source": [
    "X_data_list[0][1].head(10)"
   ]
  },
  {
   "cell_type": "code",
   "execution_count": 13,
   "metadata": {
    "execution": {
     "iopub.execute_input": "2022-03-26T17:23:08.654109Z",
     "iopub.status.busy": "2022-03-26T17:23:08.653941Z",
     "iopub.status.idle": "2022-03-26T17:23:08.662940Z",
     "shell.execute_reply": "2022-03-26T17:23:08.662429Z",
     "shell.execute_reply.started": "2022-03-26T17:23:08.654086Z"
    }
   },
   "outputs": [
    {
     "data": {
      "text/plain": [
       "feat0     0\n",
       "feat1     0\n",
       "feat2     0\n",
       "feat3     0\n",
       "feat4     0\n",
       "feat5     0\n",
       "feat6     0\n",
       "split0    0\n",
       "split1    0\n",
       "split2    0\n",
       "dtype: int64"
      ]
     },
     "execution_count": 13,
     "metadata": {},
     "output_type": "execute_result"
    }
   ],
   "source": [
    "y_data_list[0][0].head(10)"
   ]
  },
  {
   "cell_type": "code",
   "execution_count": 14,
   "metadata": {
    "ExecuteTime": {
     "end_time": "2021-01-17T09:46:12.636995Z",
     "start_time": "2021-01-17T09:46:12.629349Z"
    },
    "execution": {
     "iopub.execute_input": "2022-03-26T17:23:08.663906Z",
     "iopub.status.busy": "2022-03-26T17:23:08.663737Z",
     "iopub.status.idle": "2022-03-26T17:23:08.700060Z",
     "shell.execute_reply": "2022-03-26T17:23:08.699328Z",
     "shell.execute_reply.started": "2022-03-26T17:23:08.663883Z"
    }
   },
   "outputs": [
    {
     "data": {
      "text/html": [
       "<div>\n",
       "<style scoped>\n",
       "    .dataframe tbody tr th:only-of-type {\n",
       "        vertical-align: middle;\n",
       "    }\n",
       "\n",
       "    .dataframe tbody tr th {\n",
       "        vertical-align: top;\n",
       "    }\n",
       "\n",
       "    .dataframe thead th {\n",
       "        text-align: right;\n",
       "    }\n",
       "</style>\n",
       "<table border=\"1\" class=\"dataframe\">\n",
       "  <thead>\n",
       "    <tr style=\"text-align: right;\">\n",
       "      <th></th>\n",
       "      <th>result</th>\n",
       "    </tr>\n",
       "  </thead>\n",
       "  <tbody>\n",
       "    <tr>\n",
       "      <th>0</th>\n",
       "      <td>0</td>\n",
       "    </tr>\n",
       "    <tr>\n",
       "      <th>1</th>\n",
       "      <td>0</td>\n",
       "    </tr>\n",
       "    <tr>\n",
       "      <th>2</th>\n",
       "      <td>0</td>\n",
       "    </tr>\n",
       "    <tr>\n",
       "      <th>3</th>\n",
       "      <td>0</td>\n",
       "    </tr>\n",
       "    <tr>\n",
       "      <th>4</th>\n",
       "      <td>0</td>\n",
       "    </tr>\n",
       "    <tr>\n",
       "      <th>5</th>\n",
       "      <td>0</td>\n",
       "    </tr>\n",
       "    <tr>\n",
       "      <th>6</th>\n",
       "      <td>0</td>\n",
       "    </tr>\n",
       "    <tr>\n",
       "      <th>7</th>\n",
       "      <td>0</td>\n",
       "    </tr>\n",
       "    <tr>\n",
       "      <th>8</th>\n",
       "      <td>0</td>\n",
       "    </tr>\n",
       "    <tr>\n",
       "      <th>9</th>\n",
       "      <td>0</td>\n",
       "    </tr>\n",
       "  </tbody>\n",
       "</table>\n",
       "</div>"
      ],
      "text/plain": [
       "   result\n",
       "0       0\n",
       "1       0\n",
       "2       0\n",
       "3       0\n",
       "4       0\n",
       "5       0\n",
       "6       0\n",
       "7       0\n",
       "8       0\n",
       "9       0"
      ]
     },
     "execution_count": 14,
     "metadata": {},
     "output_type": "execute_result"
    }
   ],
   "source": [
    "y_data_list[0][1].head(10)"
   ]
  },
  {
   "cell_type": "code",
   "execution_count": 15,
   "metadata": {
    "execution": {
     "iopub.execute_input": "2022-03-26T17:23:08.701508Z",
     "iopub.status.busy": "2022-03-26T17:23:08.701191Z",
     "iopub.status.idle": "2022-03-26T17:23:12.892591Z",
     "shell.execute_reply": "2022-03-26T17:23:12.891945Z",
     "shell.execute_reply.started": "2022-03-26T17:23:08.701473Z"
    }
   },
   "outputs": [
    {
     "data": {
      "image/png": "[encoded data removed]",
      "text/plain": [
       "<IPython.core.display.Image object>"
      ]
     },
     "execution_count": 15,
     "metadata": {},
     "output_type": "execute_result"
    }
   ],
   "source": [
    "plot = None\n",
    "if plot_tree_from_parameters != 'make_classification':\n",
    "    plot = plot_tree_from_parameters(y_data_list[0][0].values, config)\n",
    "plot"
   ]
  },
  {
   "cell_type": "code",
   "execution_count": 16,
   "metadata": {
    "execution": {
     "iopub.execute_input": "2022-03-26T17:23:12.894359Z",
     "iopub.status.busy": "2022-03-26T17:23:12.893986Z",
     "iopub.status.idle": "2022-03-26T17:23:12.905676Z",
     "shell.execute_reply": "2022-03-26T17:23:12.905112Z",
     "shell.execute_reply.started": "2022-03-26T17:23:12.894327Z"
    }
   },
   "outputs": [],
   "source": [
    "def inject_noise(y_data, noise=0.0, noise_dist='normal', seed=42):\n",
    "    \"\"\"\n",
    "    Returns a polynomial injected with specified noise type and amount. \n",
    "    Inputs a clean polynomial array with x-data and y-data and modifies the y-data according to the noise settings.\n",
    "    \"\"\"\n",
    "    np.random.seed(seed)\n",
    "    \n",
    "    #Calculate range of function values of input polynomial\n",
    "    range_values_fv = np.ptp(y_data[1].values)\n",
    "    \n",
    "    #Selection of noise type\n",
    "    #Available types: normal, uniform, A, B, C\n",
    "    if noise_dist=='normal':\n",
    "        noise_sample=noise*np.random.normal(loc=0, scale=1.0,size=y_data[1].shape[0])\n",
    "    elif noise_dist=='uniform':\n",
    "        noise_sample=noise*np.random.uniform(low=0, high=1.0,size=y_data[1].shape[0])\n",
    "    elif noise_dist=='normal_range':\n",
    "        #Normal distribution adjusted to function value range\n",
    "        noise_sample=(noise*range_values_fv)*np.random.normal(loc=0, scale=1.0,size=y_data[1].shape[0])\n",
    "    elif noise_dist=='uniform_range':\n",
    "        noise_sample=(noise*range_values_fv)*np.random.normal(loc=0, scale=1.0,size=y_data[1].shape[0])\n",
    "    elif noise_dist=='flip_percentage':\n",
    "        idx = np.random.choice(y_data[1].shape[0], int(y_data[1].shape[0]*noise), replace=False)\n",
    "        y_data[1].iloc[idx] = (y_data[1].iloc[idx] + 1) % 2 \n",
    "        return y_data\n",
    "    else:\n",
    "        #no noise\n",
    "        noise_sample = np.zeros(y_data[1].shape[0])\n",
    "                               \n",
    "    noise_sample=noise_sample.reshape(-1,1)\n",
    "    \n",
    "    y_data[1]=y_data[1]+noise_sample\n",
    "    \n",
    "    return np.clip(y_data, 0, 1)"
   ]
  },
  {
   "cell_type": "code",
   "execution_count": 17,
   "metadata": {
    "execution": {
     "iopub.execute_input": "2022-03-26T17:23:12.906706Z",
     "iopub.status.busy": "2022-03-26T17:23:12.906534Z",
     "iopub.status.idle": "2022-03-26T17:23:12.958228Z",
     "shell.execute_reply": "2022-03-26T17:23:12.957677Z",
     "shell.execute_reply.started": "2022-03-26T17:23:12.906683Z"
    }
   },
   "outputs": [],
   "source": [
    "if noise_injected_level > 0:\n",
    "    parallel = Parallel(n_jobs=n_jobs, verbose=3, backend='loky')\n",
    "    y_data_list = parallel(delayed(inject_noise)(y_data=y_data_list[i],\n",
    "                                                 noise=noise_injected_level,\n",
    "                                                 noise_dist=noise_injected_type, \n",
    "                                                 seed=RANDOM_SEED+i) for i in range(len(y_data_list)))\n"
   ]
  },
  {
   "cell_type": "code",
   "execution_count": 18,
   "metadata": {
    "execution": {
     "iopub.execute_input": "2022-03-26T17:23:12.959300Z",
     "iopub.status.busy": "2022-03-26T17:23:12.959013Z",
     "iopub.status.idle": "2022-03-26T17:23:13.003674Z",
     "shell.execute_reply": "2022-03-26T17:23:13.002727Z",
     "shell.execute_reply.started": "2022-03-26T17:23:12.959275Z"
    }
   },
   "outputs": [
    {
     "data": {
      "text/plain": [
       "feat0     0\n",
       "feat1     0\n",
       "feat2     0\n",
       "feat3     0\n",
       "feat4     0\n",
       "feat5     0\n",
       "feat6     0\n",
       "split0    0\n",
       "split1    0\n",
       "split2    0\n",
       "dtype: int64"
      ]
     },
     "execution_count": 18,
     "metadata": {},
     "output_type": "execute_result"
    }
   ],
   "source": [
    "y_data_list[0][0].head(10)"
   ]
  },
  {
   "cell_type": "code",
   "execution_count": 19,
   "metadata": {
    "execution": {
     "iopub.execute_input": "2022-03-26T17:23:13.005552Z",
     "iopub.status.busy": "2022-03-26T17:23:13.005131Z",
     "iopub.status.idle": "2022-03-26T17:23:13.063140Z",
     "shell.execute_reply": "2022-03-26T17:23:13.062151Z",
     "shell.execute_reply.started": "2022-03-26T17:23:13.005505Z"
    }
   },
   "outputs": [
    {
     "data": {
      "text/plain": [
       "feat0     0\n",
       "feat1     0\n",
       "feat2     0\n",
       "feat3     0\n",
       "feat4     0\n",
       "feat5     0\n",
       "feat6     0\n",
       "split0    0\n",
       "split1    0\n",
       "split2    0\n",
       "split3    0\n",
       "split4    0\n",
       "split5    0\n",
       "split6    0\n",
       "lp0       0\n",
       "lp1       0\n",
       "lp2       0\n",
       "lp3       0\n",
       "lp4       0\n",
       "lp5       0\n",
       "lp6       0\n",
       "lp7       0\n",
       "dtype: int64"
      ]
     },
     "execution_count": 19,
     "metadata": {},
     "output_type": "execute_result"
    }
   ],
   "source": [
    "y_data_list[0][0]"
   ]
  },
  {
   "cell_type": "code",
   "execution_count": 20,
   "metadata": {
    "execution": {
     "iopub.execute_input": "2022-03-26T17:23:13.065064Z",
     "iopub.status.busy": "2022-03-26T17:23:13.064641Z",
     "iopub.status.idle": "2022-03-26T17:23:13.147555Z",
     "shell.execute_reply": "2022-03-26T17:23:13.146543Z",
     "shell.execute_reply.started": "2022-03-26T17:23:13.065017Z"
    }
   },
   "outputs": [
    {
     "data": {
      "text/html": [
       "<div>\n",
       "<style scoped>\n",
       "    .dataframe tbody tr th:only-of-type {\n",
       "        vertical-align: middle;\n",
       "    }\n",
       "\n",
       "    .dataframe tbody tr th {\n",
       "        vertical-align: top;\n",
       "    }\n",
       "\n",
       "    .dataframe thead th {\n",
       "        text-align: right;\n",
       "    }\n",
       "</style>\n",
       "<table border=\"1\" class=\"dataframe\">\n",
       "  <thead>\n",
       "    <tr style=\"text-align: right;\">\n",
       "      <th></th>\n",
       "      <th>result</th>\n",
       "    </tr>\n",
       "  </thead>\n",
       "  <tbody>\n",
       "    <tr>\n",
       "      <th>0</th>\n",
       "      <td>0</td>\n",
       "    </tr>\n",
       "    <tr>\n",
       "      <th>1</th>\n",
       "      <td>0</td>\n",
       "    </tr>\n",
       "    <tr>\n",
       "      <th>2</th>\n",
       "      <td>0</td>\n",
       "    </tr>\n",
       "    <tr>\n",
       "      <th>3</th>\n",
       "      <td>0</td>\n",
       "    </tr>\n",
       "    <tr>\n",
       "      <th>4</th>\n",
       "      <td>0</td>\n",
       "    </tr>\n",
       "    <tr>\n",
       "      <th>5</th>\n",
       "      <td>0</td>\n",
       "    </tr>\n",
       "    <tr>\n",
       "      <th>6</th>\n",
       "      <td>0</td>\n",
       "    </tr>\n",
       "    <tr>\n",
       "      <th>7</th>\n",
       "      <td>0</td>\n",
       "    </tr>\n",
       "    <tr>\n",
       "      <th>8</th>\n",
       "      <td>0</td>\n",
       "    </tr>\n",
       "    <tr>\n",
       "      <th>9</th>\n",
       "      <td>0</td>\n",
       "    </tr>\n",
       "  </tbody>\n",
       "</table>\n",
       "</div>"
      ],
      "text/plain": [
       "   result\n",
       "0       0\n",
       "1       0\n",
       "2       0\n",
       "3       0\n",
       "4       0\n",
       "5       0\n",
       "6       0\n",
       "7       0\n",
       "8       0\n",
       "9       0"
      ]
     },
     "execution_count": 20,
     "metadata": {},
     "output_type": "execute_result"
    }
   ],
   "source": [
    "y_data_list[0][1].head(10)"
   ]
  },
  {
   "cell_type": "markdown",
   "metadata": {
    "ExecuteTime": {
     "end_time": "2020-09-16T17:06:36.919643Z",
     "start_time": "2020-09-16T17:06:36.912904Z"
    }
   },
   "source": [
    "## Lambda Network Training + Weigh/Bias saving"
   ]
  },
  {
   "cell_type": "code",
   "execution_count": 21,
   "metadata": {
    "execution": {
     "iopub.execute_input": "2022-03-26T17:23:13.149527Z",
     "iopub.status.busy": "2022-03-26T17:23:13.149093Z",
     "iopub.status.idle": "2022-03-26T17:23:13.176276Z",
     "shell.execute_reply": "2022-03-26T17:23:13.175268Z",
     "shell.execute_reply.started": "2022-03-26T17:23:13.149479Z"
    }
   },
   "outputs": [],
   "source": [
    "#%load_ext autoreload"
   ]
  },
  {
   "cell_type": "code",
   "execution_count": 22,
   "metadata": {
    "execution": {
     "iopub.execute_input": "2022-03-26T17:23:13.178250Z",
     "iopub.status.busy": "2022-03-26T17:23:13.177783Z",
     "iopub.status.idle": "2022-03-26T17:23:13.243332Z",
     "shell.execute_reply": "2022-03-26T17:23:13.242345Z",
     "shell.execute_reply.started": "2022-03-26T17:23:13.178201Z"
    },
    "tags": []
   },
   "outputs": [],
   "source": [
    "rand_index = np.random.randint(number_of_trained_lambda_nets)\n",
    "\n",
    "#rand_tree = generate_decision_tree_from_array(y_data_list[rand_index][0].values, config)\n",
    "#rand_tree.plot_tree()"
   ]
  },
  {
   "cell_type": "code",
   "execution_count": 23,
   "metadata": {
    "execution": {
     "iopub.execute_input": "2022-03-26T17:23:13.245294Z",
     "iopub.status.busy": "2022-03-26T17:23:13.244861Z",
     "iopub.status.idle": "2022-03-26T17:24:13.365565Z",
     "shell.execute_reply": "2022-03-26T17:24:13.364908Z",
     "shell.execute_reply.started": "2022-03-26T17:23:13.245247Z"
    },
    "tags": []
   },
   "outputs": [
    {
     "data": {
      "image/png": "[encoded data removed]",
      "text/plain": [
       "<Figure size 864x576 with 2 Axes>"
      ]
     },
     "metadata": {},
     "output_type": "display_data"
    },
    {
     "name": "stdout",
     "output_type": "stream",
     "text": [
      "binary_accuracy\n",
      "\ttraining         \t (min:    0.897, max:    1.000, cur:    1.000)\n",
      "\tvalidation       \t (min:    1.000, max:    1.000, cur:    1.000)\n",
      "Loss\n",
      "\ttraining         \t (min:    0.001, max:    0.500, cur:    0.001)\n",
      "\tvalidation       \t (min:    0.000, max:    0.301, cur:    0.000)\n"
     ]
    }
   ],
   "source": [
    "#%autoreload 2\n",
    "random_network = train_lambda_net(config=config,\n",
    "                                  lambda_index=rand_index, \n",
    "                                  X_data_with_function=X_data_list[rand_index], \n",
    "                                  y_data_with_function=y_data_list[rand_index], \n",
    "                                  distribution_parameter_list = distribution_parameter_list_list[rand_index][1],\n",
    "                                  callbacks=[PlotLossesKerasTF()], \n",
    "                                  return_model=True,\n",
    "                                  printing=False)"
   ]
  },
  {
   "cell_type": "code",
   "execution_count": 24,
   "metadata": {
    "execution": {
     "iopub.execute_input": "2022-03-26T17:24:13.367087Z",
     "iopub.status.busy": "2022-03-26T17:24:13.366730Z",
     "iopub.status.idle": "2022-03-26T17:24:32.029347Z",
     "shell.execute_reply": "2022-03-26T17:24:32.028668Z",
     "shell.execute_reply.started": "2022-03-26T17:24:13.367057Z"
    },
    "tags": []
   },
   "outputs": [
    {
     "data": {
      "image/png": "[encoded data removed]",
      "text/plain": [
       "<Figure size 1440x1080 with 64 Axes>"
      ]
     },
     "metadata": {},
     "output_type": "display_data"
    }
   ],
   "source": [
    "colors_list = ['green','blue','yellow','cyan','magenta','pink']\n",
    "\n",
    "if config['data']['number_of_variables'] > 4:\n",
    "    fig,ax = plt.subplots(nrows=np.ceil(config['data']['number_of_variables']*2/4).astype(int), ncols=4,figsize=(20,15))\n",
    "else:\n",
    "    fig,ax = plt.subplots(nrows=np.ceil(config['data']['number_of_variables']*2/2).astype(int), ncols=2,figsize=(20,15))\n",
    "\n",
    "for axis_1 in ax:\n",
    "    for axis_2 in axis_1:\n",
    "        axis_2.set_xlim([0, 1])                          \n",
    "\n",
    "plot_index = 0\n",
    "\n",
    "for i in range(X_data_list[rand_index][1].values.shape[1]):\n",
    "    colors = colors_list[i%6]\n",
    "\n",
    "    x = X_data_list[rand_index][1].values[:,i][np.where(random_network['model'].predict(X_data_list[rand_index][1].values).ravel()<=0.5)]\n",
    "    plt.subplot(np.ceil(config['data']['number_of_variables']*2/4).astype(int), 4,plot_index+1)\n",
    "    plt.hist(x,bins=[i/10 for i in range(11)],color=colors)\n",
    "    #plt.title(list(distribution_parameter.keys())[0] + ' Class 0' )\n",
    "    plot_index += 1\n",
    "\n",
    "    x = X_data_list[rand_index][1].values[:,i][np.where(random_network['model'].predict(X_data_list[rand_index][1].values).ravel()>0.5)]\n",
    "    plt.subplot(np.ceil(config['data']['number_of_variables']*2/4).astype(int),4,plot_index+1)\n",
    "    plt.hist(x,bins=[i/10 for i in range(11)],color=colors)\n",
    "    #plt.title(list(distribution_parameter.keys())[0] + ' Class 1' )\n",
    "    plot_index += 1\n",
    "\n",
    "fig.subplots_adjust(hspace=0.4,wspace=.3) \n",
    "plt.suptitle('Sampling from Various Distributions',fontsize=20)\n",
    "plt.show()"
   ]
  },
  {
   "cell_type": "code",
   "execution_count": 25,
   "metadata": {
    "execution": {
     "iopub.execute_input": "2022-03-26T17:24:32.031339Z",
     "iopub.status.busy": "2022-03-26T17:24:32.030951Z",
     "iopub.status.idle": "2022-03-26T17:24:32.044612Z",
     "shell.execute_reply": "2022-03-26T17:24:32.043972Z",
     "shell.execute_reply.started": "2022-03-26T17:24:32.031307Z"
    },
    "tags": []
   },
   "outputs": [
    {
     "data": {
      "text/plain": [
       "[{'beta': {'class_0': {'a': 3.4737932361812103, 'b': 3.296228893675075},\n",
       "   'class_1': {'a': 1.0413706448151543, 'b': 2.62727304989629},\n",
       "   'samples_class_0': 2500,\n",
       "   'feature_weight_0': 1,\n",
       "   'seed_shuffeling': 226689935}},\n",
       " {'beta': {'class_0': {'a': 0.7738859554995392, 'b': 3.906293931138295},\n",
       "   'class_1': {'a': 1.4647226193805447, 'b': 3.035148315516682},\n",
       "   'samples_class_0': 2500,\n",
       "   'feature_weight_0': 1,\n",
       "   'seed_shuffeling': 226689935}},\n",
       " {'beta': {'class_0': {'a': 1.9599965127054237, 'b': 3.049489575483509},\n",
       "   'class_1': {'a': 1.644610107679238, 'b': 3.6530612691059057},\n",
       "   'samples_class_0': 2500,\n",
       "   'feature_weight_0': 1,\n",
       "   'seed_shuffeling': 226689935}},\n",
       " {'gamma': {'class_0': {'shape': 3.320761982038963,\n",
       "    'scale': 4.520846721593859},\n",
       "   'class_1': {'shape': 2.12745158352255, 'scale': 3.893969819318804},\n",
       "   'samples_class_0': 2500,\n",
       "   'feature_weight_0': 1,\n",
       "   'seed_shuffeling': 226689935}},\n",
       " {'normal': {'class_0': {'loc': 2.5159067249282914,\n",
       "    'scale': 3.260032120671318},\n",
       "   'class_1': {'loc': 1.4708404024342219, 'scale': 0.2779688281439907},\n",
       "   'samples_class_0': 2500,\n",
       "   'feature_weight_0': 1,\n",
       "   'seed_shuffeling': 226689935}},\n",
       " {'beta': {'class_0': {'a': 1.28856989444974, 'b': 1.8611729191140252},\n",
       "   'class_1': {'a': 0.8708512496306181, 'b': 3.4215879911222746},\n",
       "   'samples_class_0': 2500,\n",
       "   'feature_weight_0': 1,\n",
       "   'seed_shuffeling': 226689935}},\n",
       " {'beta': {'class_0': {'a': 1.692510220160019, 'b': 0.758505476911433},\n",
       "   'class_1': {'a': 3.1642847153401084, 'b': 2.679572710800448},\n",
       "   'samples_class_0': 2500,\n",
       "   'feature_weight_0': 1,\n",
       "   'seed_shuffeling': 226689935}},\n",
       " {'gamma': {'class_0': {'shape': 0.7467004769573965,\n",
       "    'scale': 1.0103884377921568},\n",
       "   'class_1': {'shape': 0.8609567231445397, 'scale': 2.2352206712207856},\n",
       "   'samples_class_0': 2500,\n",
       "   'feature_weight_0': 1,\n",
       "   'seed_shuffeling': 226689935}},\n",
       " {'gamma': {'class_0': {'shape': 1.209296035491978,\n",
       "    'scale': 3.258210430268098},\n",
       "   'class_1': {'shape': 0.7683247889802919, 'scale': 3.0299518113738495},\n",
       "   'samples_class_0': 2500,\n",
       "   'feature_weight_0': 1,\n",
       "   'seed_shuffeling': 226689935}},\n",
       " {'beta': {'class_0': {'a': 4.505770334182832, 'b': 2.139491449348953},\n",
       "   'class_1': {'a': 2.9701593882770942, 'b': 1.3039764201172916},\n",
       "   'samples_class_0': 2500,\n",
       "   'feature_weight_0': 1,\n",
       "   'seed_shuffeling': 226689935}},\n",
       " {'normal': {'class_0': {'loc': 4.968850659109844,\n",
       "    'scale': 4.4133262124971395},\n",
       "   'class_1': {'loc': 1.649882077783806, 'scale': 4.008739356222638},\n",
       "   'samples_class_0': 2500,\n",
       "   'feature_weight_0': 1,\n",
       "   'seed_shuffeling': 226689935}},\n",
       " {'poisson': {'class_0': {'lam': 0.8673979265198206},\n",
       "   'class_1': {'lam': 4.147735577668644},\n",
       "   'samples_class_0': 2500,\n",
       "   'feature_weight_0': 1,\n",
       "   'seed_shuffeling': 226689935}},\n",
       " {'beta': {'class_0': {'a': 4.420419254255782, 'b': 2.398384671300273},\n",
       "   'class_1': {'a': 2.6239731900417946, 'b': 2.3579969583933442},\n",
       "   'samples_class_0': 2500,\n",
       "   'feature_weight_0': 1,\n",
       "   'seed_shuffeling': 226689935}},\n",
       " {'gamma': {'class_0': {'shape': 2.6867631428575796,\n",
       "    'scale': 3.948230811879609},\n",
       "   'class_1': {'shape': 2.881606604494777, 'scale': 3.5857411620732837},\n",
       "   'samples_class_0': 2500,\n",
       "   'feature_weight_0': 1,\n",
       "   'seed_shuffeling': 226689935}},\n",
       " {'normal': {'class_0': {'loc': 2.705036046846301,\n",
       "    'scale': 2.4275859860968314},\n",
       "   'class_1': {'loc': 2.8769893895756575, 'scale': 0.8089779155131499},\n",
       "   'samples_class_0': 2500,\n",
       "   'feature_weight_0': 1,\n",
       "   'seed_shuffeling': 226689935}},\n",
       " {'normal': {'class_0': {'loc': 2.0565869051675376,\n",
       "    'scale': 2.6165230816591407},\n",
       "   'class_1': {'loc': 1.7464452623249327, 'scale': 0.5503941236110105},\n",
       "   'samples_class_0': 2500,\n",
       "   'feature_weight_0': 1,\n",
       "   'seed_shuffeling': 226689935}},\n",
       " {'gamma': {'class_0': {'shape': 4.305655773225606,\n",
       "    'scale': 0.3349626408144718},\n",
       "   'class_1': {'shape': 3.6810467199521697, 'scale': 3.6200903541476404},\n",
       "   'samples_class_0': 2500,\n",
       "   'feature_weight_0': 1,\n",
       "   'seed_shuffeling': 226689935}},\n",
       " {'gamma': {'class_0': {'shape': 2.2431318859790643,\n",
       "    'scale': 0.9386595918492846},\n",
       "   'class_1': {'shape': 1.680726344436521, 'scale': 2.676313769932224},\n",
       "   'samples_class_0': 2500,\n",
       "   'feature_weight_0': 1,\n",
       "   'seed_shuffeling': 226689935}},\n",
       " {'normal': {'class_0': {'loc': 1.2292226521948417,\n",
       "    'scale': 1.335304710045473},\n",
       "   'class_1': {'loc': 4.109285988722423, 'scale': 4.571337109113957},\n",
       "   'samples_class_0': 2500,\n",
       "   'feature_weight_0': 1,\n",
       "   'seed_shuffeling': 226689935}},\n",
       " {'beta': {'class_0': {'a': 4.744912060361091, 'b': 1.849777552941424},\n",
       "   'class_1': {'a': 4.3973505874956, 'b': 2.7929759421795133},\n",
       "   'samples_class_0': 2500,\n",
       "   'feature_weight_0': 1,\n",
       "   'seed_shuffeling': 226689935}},\n",
       " {'normal': {'class_0': {'loc': 1.5330347267893873,\n",
       "    'scale': 4.689087384447203},\n",
       "   'class_1': {'loc': 1.4697660432548858, 'scale': 2.0692828497370943},\n",
       "   'samples_class_0': 2500,\n",
       "   'feature_weight_0': 1,\n",
       "   'seed_shuffeling': 226689935}},\n",
       " {'uniform': {'class_0': {'low': 2.282636964555703,\n",
       "    'high': 3.3373634828623326},\n",
       "   'class_1': {'low': 2.8485526413541926, 'high': 4.936213247582824},\n",
       "   'samples_class_0': 2500,\n",
       "   'feature_weight_0': 1,\n",
       "   'seed_shuffeling': 226689935}},\n",
       " {'normal': {'class_0': {'loc': 0.2586307261409737,\n",
       "    'scale': 2.9528596547564274},\n",
       "   'class_1': {'loc': 0.7409621285773299, 'scale': 3.181281876930457},\n",
       "   'samples_class_0': 2500,\n",
       "   'feature_weight_0': 1,\n",
       "   'seed_shuffeling': 226689935}},\n",
       " {'gamma': {'class_0': {'shape': 3.753081466739377,\n",
       "    'scale': 1.9939674379849859},\n",
       "   'class_1': {'shape': 4.66943974536823, 'scale': 1.294532588502331},\n",
       "   'samples_class_0': 2500,\n",
       "   'feature_weight_0': 1,\n",
       "   'seed_shuffeling': 226689935}},\n",
       " {'poisson': {'class_0': {'lam': 1.436617033259161},\n",
       "   'class_1': {'lam': 2.662216602927524},\n",
       "   'samples_class_0': 2500,\n",
       "   'feature_weight_0': 1,\n",
       "   'seed_shuffeling': 226689935}},\n",
       " {'beta': {'class_0': {'a': 2.966827143493218, 'b': 2.975609491851416},\n",
       "   'class_1': {'a': 4.6075294027034905, 'b': 1.5987563622291256},\n",
       "   'samples_class_0': 2500,\n",
       "   'feature_weight_0': 1,\n",
       "   'seed_shuffeling': 226689935}},\n",
       " {'normal': {'class_0': {'loc': 2.1784437515415744,\n",
       "    'scale': 3.9215263575374255},\n",
       "   'class_1': {'loc': 4.81634082386741, 'scale': 3.1261955824050225},\n",
       "   'samples_class_0': 2500,\n",
       "   'feature_weight_0': 1,\n",
       "   'seed_shuffeling': 226689935}},\n",
       " {'normal': {'class_0': {'loc': 2.053299212203556,\n",
       "    'scale': 2.1455671838770183},\n",
       "   'class_1': {'loc': 4.530732607879007, 'scale': 2.6487784464319892},\n",
       "   'samples_class_0': 2500,\n",
       "   'feature_weight_0': 1,\n",
       "   'seed_shuffeling': 226689935}},\n",
       " {'normal': {'class_0': {'loc': 2.5390250013520843,\n",
       "    'scale': 2.5200640418014064},\n",
       "   'class_1': {'loc': 2.90611367710485, 'scale': 4.093507989354407},\n",
       "   'samples_class_0': 2500,\n",
       "   'feature_weight_0': 1,\n",
       "   'seed_shuffeling': 226689935}},\n",
       " {'gamma': {'class_0': {'shape': 1.940482492252762,\n",
       "    'scale': 2.4319867259503725},\n",
       "   'class_1': {'shape': 2.495559957552722, 'scale': 3.1644756600561887},\n",
       "   'samples_class_0': 2500,\n",
       "   'feature_weight_0': 1,\n",
       "   'seed_shuffeling': 226689935}},\n",
       " {'beta': {'class_0': {'a': 0.7685536331083015, 'b': 1.2095852814574426},\n",
       "   'class_1': {'a': 3.7434244666048655, 'b': 2.9317709576385838},\n",
       "   'samples_class_0': 2500,\n",
       "   'feature_weight_0': 1,\n",
       "   'seed_shuffeling': 226689935}},\n",
       " {'normal': {'class_0': {'loc': 2.160511924185994, 'scale': 4.330190106419978},\n",
       "   'class_1': {'loc': 2.2042618267969023, 'scale': 2.5101073977087465},\n",
       "   'samples_class_0': 2500,\n",
       "   'feature_weight_0': 1,\n",
       "   'seed_shuffeling': 226689935}}]"
      ]
     },
     "execution_count": 25,
     "metadata": {},
     "output_type": "execute_result"
    }
   ],
   "source": [
    "distribution_parameter_list_list[0][1]"
   ]
  },
  {
   "cell_type": "code",
   "execution_count": 26,
   "metadata": {
    "execution": {
     "iopub.execute_input": "2022-03-26T17:24:32.045617Z",
     "iopub.status.busy": "2022-03-26T17:24:32.045453Z",
     "iopub.status.idle": "2022-03-26T17:24:32.095749Z",
     "shell.execute_reply": "2022-03-26T17:24:32.095222Z",
     "shell.execute_reply.started": "2022-03-26T17:24:32.045595Z"
    },
    "tags": []
   },
   "outputs": [],
   "source": [
    "#%load_ext autoreload\n",
    "#%autoreload 2"
   ]
  },
  {
   "cell_type": "code",
   "execution_count": null,
   "metadata": {
    "execution": {
     "iopub.execute_input": "2022-03-26T17:24:32.096648Z",
     "iopub.status.busy": "2022-03-26T17:24:32.096483Z"
    },
    "tags": []
   },
   "outputs": [
    {
     "name": "stderr",
     "output_type": "stream",
     "text": [
      "[Parallel(n_jobs=30)]: Using backend LokyBackend with 30 concurrent workers.\n",
      "[Parallel(n_jobs=30)]: Done  68 tasks      | elapsed:  1.2min\n",
      "[Parallel(n_jobs=30)]: Done 228 tasks      | elapsed:  3.2min\n",
      "[Parallel(n_jobs=30)]: Done 452 tasks      | elapsed:  6.9min\n",
      "[Parallel(n_jobs=30)]: Done 740 tasks      | elapsed: 12.1min\n",
      "[Parallel(n_jobs=30)]: Done 1092 tasks      | elapsed: 18.4min\n",
      "[Parallel(n_jobs=30)]: Done 1508 tasks      | elapsed: 25.9min\n",
      "[Parallel(n_jobs=30)]: Done 1988 tasks      | elapsed: 34.5min\n",
      "[Parallel(n_jobs=30)]: Done 2532 tasks      | elapsed: 44.1min\n",
      "[Parallel(n_jobs=30)]: Done 3140 tasks      | elapsed: 55.3min\n",
      "[Parallel(n_jobs=30)]: Done 3812 tasks      | elapsed: 67.8min\n",
      "[Parallel(n_jobs=30)]: Done 4548 tasks      | elapsed: 83.3min\n",
      "[Parallel(n_jobs=30)]: Done 5348 tasks      | elapsed: 98.3min\n",
      "[Parallel(n_jobs=30)]: Done 6212 tasks      | elapsed: 113.7min\n",
      "[Parallel(n_jobs=30)]: Done 7140 tasks      | elapsed: 131.4min\n",
      "[Parallel(n_jobs=30)]: Done 8132 tasks      | elapsed: 152.7min\n"
     ]
    }
   ],
   "source": [
    "parallel = Parallel(n_jobs=n_jobs, verbose=3, backend='loky') #loky\n",
    "clf_list = parallel(delayed(train_lambda_net)(config=config,\n",
    "                                              lambda_index=index, \n",
    "                                              X_data_with_function=X_data, \n",
    "                                              y_data_with_function=y_data,\n",
    "                                              distribution_parameter_list=distribution_parameter_list[1],\n",
    "                                              return_history=True, \n",
    "                                              printing=True) for index, (X_data, y_data, distribution_parameter_list) in enumerate(zip(X_data_list, y_data_list, distribution_parameter_list_list)))  \n",
    "del parallel"
   ]
  },
  {
   "cell_type": "code",
   "execution_count": null,
   "metadata": {},
   "outputs": [],
   "source": [
    "random_network['model'].get_config()"
   ]
  },
  {
   "cell_type": "code",
   "execution_count": null,
   "metadata": {
    "tags": []
   },
   "outputs": [],
   "source": [
    "random_network['model'].summary()"
   ]
  },
  {
   "cell_type": "markdown",
   "metadata": {},
   "source": [
    "## Save and Plot Lambda-Model History"
   ]
  },
  {
   "cell_type": "code",
   "execution_count": null,
   "metadata": {
    "ExecuteTime": {
     "start_time": "2021-01-17T09:44:26.874Z"
    },
    "tags": []
   },
   "outputs": [],
   "source": [
    "loss_list_total = []\n",
    "metric_list_total = []\n",
    "\n",
    "val_loss_list_total = []\n",
    "val_metric_list_total = []\n",
    "\n",
    "index_list = []\n",
    "\n",
    "\n",
    "max_training_epochs = 0\n",
    "for _, entry in tqdm(enumerate(clf_list)):\n",
    "    history = entry['history']\n",
    "    \n",
    "    current_training_epochs = len(history[list(history.keys())[0]])\n",
    "    max_training_epochs = max(max_training_epochs, current_training_epochs)\n",
    "\n",
    "\n",
    "for _, entry in tqdm(enumerate(clf_list)):\n",
    "    history = entry['history']\n",
    "    index = entry['index']\n",
    "    \n",
    "    current_training_epochs = len(history[list(history.keys())[0]])\n",
    "    \n",
    "    loss_list = np.full(max_training_epochs, np.nan)\n",
    "    metric_list = np.full(max_training_epochs, np.nan)\n",
    "    val_loss_list = np.full(max_training_epochs, np.nan)\n",
    "    val_metric_list = np.full(max_training_epochs, np.nan) \n",
    "\n",
    "    for i in range(current_training_epochs):  \n",
    "        loss_list[i] = history[list(history.keys())[0]][i]\n",
    "        metric_list[i] = history[list(history.keys())[1]][i]\n",
    "        val_loss_list[i] = history[list(history.keys())[len(history.keys())//2]][i]\n",
    "        val_metric_list[i] = history[list(history.keys())[len(history.keys())//2+1]][i]\n",
    "    \n",
    "    index_list.append([index])\n",
    "    loss_list_total.append(loss_list)\n",
    "    metric_list_total.append(metric_list)\n",
    "    val_loss_list_total.append(val_loss_list)\n",
    "    val_metric_list_total.append(val_metric_list)\n",
    "\n",
    "loss_df = pd.DataFrame(data=np.hstack([index_list, loss_list_total]), columns=flatten_list(['index', [list(history.keys())[0] + '_epoch_' + str(i+1) for i in range(max_training_epochs)]]))\n",
    "#loss_df['index'] = loss_df['index'].astype(int)\n",
    "metric_df = pd.DataFrame(data=np.hstack([index_list, metric_list_total]), columns=flatten_list(['index', [list(history.keys())[1] + '_epoch_' + str(i+1) for i in range(max_training_epochs)]]))\n",
    "#metric_df['index'] = metric_df['index'].astype(int)\n",
    "val_loss_df = pd.DataFrame(data=np.hstack([index_list, val_loss_list_total]), columns=flatten_list(['index', [list(history.keys())[len(history.keys())//2] + '_epoch_' + str(i+1) for i in range(max_training_epochs)]]))\n",
    "#val_loss_df['index'] = val_loss_df['index'].astype(int)\n",
    "val_metric_df = pd.DataFrame(data=np.hstack([index_list, val_metric_list_total]), columns=flatten_list(['index', [list(history.keys())[len(history.keys())//2+1] + '_epoch_' + str(i+1) for i in range(max_training_epochs)]])) \n",
    "#val_metric_df['index'] = val_metric_df['index'].astype(int)\n"
   ]
  },
  {
   "cell_type": "code",
   "execution_count": null,
   "metadata": {
    "ExecuteTime": {
     "start_time": "2021-01-17T09:44:26.875Z"
    }
   },
   "outputs": [],
   "source": [
    "path_loss = './data/weights/weights_' + path_identifier_lambda_net_data + '/history_' + list(history.keys())[0] + '.txt'\n",
    "path_metric = './data/weights/weights_' + path_identifier_lambda_net_data + '/history_' + list(history.keys())[1] + '.txt'\n",
    "path_val_loss = './data/weights/weights_' + path_identifier_lambda_net_data + '/history_' + list(history.keys())[len(history.keys())//2] + '.txt'\n",
    "path_val_metric = './data/weights/weights_' + path_identifier_lambda_net_data + '/history_' + list(history.keys())[len(history.keys())//2+1] + '.txt'\n",
    "\n",
    "loss_df.to_csv(path_loss, index=None, sep=',')\n",
    "metric_df.to_csv(path_metric, index=None, sep=',')\n",
    "val_loss_df.to_csv(path_val_loss, index=None, sep=',')\n",
    "val_metric_df.to_csv(path_val_metric, index=None, sep=',')\n"
   ]
  },
  {
   "cell_type": "code",
   "execution_count": null,
   "metadata": {
    "ExecuteTime": {
     "start_time": "2021-01-17T09:44:26.876Z"
    }
   },
   "outputs": [],
   "source": [
    "loss_df.describe()"
   ]
  },
  {
   "cell_type": "code",
   "execution_count": null,
   "metadata": {
    "ExecuteTime": {
     "start_time": "2021-01-17T09:44:26.877Z"
    }
   },
   "outputs": [],
   "source": [
    "val_loss_df.describe()"
   ]
  },
  {
   "cell_type": "code",
   "execution_count": null,
   "metadata": {
    "ExecuteTime": {
     "start_time": "2021-01-17T09:44:26.879Z"
    }
   },
   "outputs": [],
   "source": [
    "metric_df.describe()"
   ]
  },
  {
   "cell_type": "code",
   "execution_count": null,
   "metadata": {
    "ExecuteTime": {
     "start_time": "2021-01-17T09:44:26.880Z"
    }
   },
   "outputs": [],
   "source": [
    "val_metric_df.describe()"
   ]
  },
  {
   "cell_type": "code",
   "execution_count": null,
   "metadata": {
    "ExecuteTime": {
     "start_time": "2021-01-17T09:44:26.881Z"
    }
   },
   "outputs": [],
   "source": [
    "# summarize history for metric\n",
    "path = './data/results/weights_' + path_identifier_lambda_net_data + '/' + list(history.keys())[1] + '.png'\n",
    "\n",
    "adjustment_threshold_metric = 10#100\n",
    "    \n",
    "metric_df_adjusted = metric_df.copy(deep=True).iloc[:,1:]\n",
    "if adjustment_threshold_metric > 0:\n",
    "    metric_df_adjusted[metric_df_adjusted.columns] = np.where(metric_df_adjusted[metric_df_adjusted.columns] > adjustment_threshold_metric, adjustment_threshold_metric, metric_df_adjusted[metric_df_adjusted.columns])\n",
    "    \n",
    "val_metric_df_adjusted = val_metric_df.copy(deep=True).iloc[:,1:]\n",
    "if adjustment_threshold_metric > 0:\n",
    "    val_metric_df_adjusted[val_metric_df_adjusted.columns] = np.where(val_metric_df_adjusted[val_metric_df_adjusted.columns] > adjustment_threshold_metric, adjustment_threshold_metric, val_metric_df_adjusted[val_metric_df_adjusted.columns])\n",
    "\n",
    "    \n",
    "plt.plot(metric_df_adjusted.describe().loc['mean'].values)\n",
    "plt.plot(val_metric_df_adjusted.describe().loc['mean'].values)\n",
    "plt.title('model ' + list(history.keys())[1])\n",
    "plt.ylabel(list(history.keys())[1])\n",
    "plt.xlabel('epoch')\n",
    "plt.legend(['train', 'valid'], loc='upper left')\n",
    "plt.savefig(path)\n",
    "plt.show()\n"
   ]
  },
  {
   "cell_type": "code",
   "execution_count": null,
   "metadata": {
    "ExecuteTime": {
     "start_time": "2021-01-17T09:44:26.883Z"
    },
    "tags": []
   },
   "outputs": [],
   "source": [
    "# summarize history for loss\n",
    "path = './data/results/weights_' + path_identifier_lambda_net_data + '/' + list(history.keys())[0] + '.png'\n",
    "\n",
    "adjustment_threshold_loss = 0#10000\n",
    "    \n",
    "loss_df_adjusted = loss_df.copy(deep=True).iloc[:,1:]\n",
    "\n",
    "if adjustment_threshold_loss > 0:\n",
    "    loss_df_adjusted[loss_df_adjusted.columns] = np.where(loss_df_adjusted[loss_df_adjusted.columns] > adjustment_threshold_loss, adjustment_threshold_loss, loss_df_adjusted[loss_df_adjusted.columns])\n",
    "    \n",
    "val_loss_df_adjusted = val_loss_df.copy(deep=True).iloc[:,1:]\n",
    "if adjustment_threshold_loss > 0:\n",
    "    val_loss_df_adjusted[val_loss_df_adjusted.columns] = np.where(val_loss_df_adjusted[val_loss_df_adjusted.columns] > adjustment_threshold_loss, adjustment_threshold_loss, val_loss_df_adjusted[val_loss_df_adjusted.columns])\n",
    "\n",
    "    \n",
    "plt.plot(loss_df_adjusted.describe().loc['mean'].values)\n",
    "plt.plot(val_loss_df_adjusted.describe().loc['mean'].values)\n",
    "plt.title('model ' + list(history.keys())[0])\n",
    "plt.ylabel(list(history.keys())[0])\n",
    "plt.xlabel('epoch')\n",
    "plt.legend(['train', 'valid'], loc='upper left')\n",
    "plt.savefig(path)\n",
    "plt.show()\n"
   ]
  },
  {
   "cell_type": "code",
   "execution_count": null,
   "metadata": {
    "tags": []
   },
   "outputs": [],
   "source": [
    "if use_gpu:\n",
    "    from numba import cuda \n",
    "    device = cuda.get_current_device()\n",
    "    device.reset()"
   ]
  }
 ],
 "metadata": {
  "kernelspec": {
   "display_name": "Python 3 (ipykernel)",
   "language": "python",
   "name": "python3"
  },
  "language_info": {
   "codemirror_mode": {
    "name": "ipython",
    "version": 3
   },
   "file_extension": ".py",
   "mimetype": "text/x-python",
   "name": "python",
   "nbconvert_exporter": "python",
   "pygments_lexer": "ipython3",
   "version": "3.8.0"
  }
 },
 "nbformat": 4,
 "nbformat_minor": 4
}
