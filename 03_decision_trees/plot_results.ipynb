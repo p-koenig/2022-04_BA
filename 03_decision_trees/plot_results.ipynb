{
 "cells": [
  {
   "cell_type": "code",
   "execution_count": 1,
   "id": "national-channel",
   "metadata": {
    "execution": {
     "iopub.execute_input": "2022-03-09T07:08:38.805185Z",
     "iopub.status.busy": "2022-03-09T07:08:38.804720Z",
     "iopub.status.idle": "2022-03-09T07:08:45.097283Z",
     "shell.execute_reply": "2022-03-09T07:08:45.096656Z",
     "shell.execute_reply.started": "2022-03-09T07:08:38.805061Z"
    },
    "tags": []
   },
   "outputs": [],
   "source": [
    "import numpy as np\n",
    "import pandas as pd \n",
    "import matplotlib.pyplot as plt\n",
    "\n",
    "import seaborn as sns\n",
    "from copy import deepcopy\n",
    "\n",
    "import itertools\n",
    "\n",
    "sns.set_style(\"darkgrid\")\n",
    "\n",
    "def flatten(t):\n",
    "    return [item for sublist in t for item in sublist]\n",
    "\n",
    "pd.set_option('max_columns', None)"
   ]
  },
  {
   "cell_type": "code",
   "execution_count": null,
   "id": "28d75633-dbcf-43e6-a72b-45a898caf649",
   "metadata": {},
   "outputs": [],
   "source": []
  },
  {
   "cell_type": "code",
   "execution_count": 2,
   "id": "dc73da04-8710-49f8-91b9-92fa72840804",
   "metadata": {
    "execution": {
     "iopub.execute_input": "2022-03-09T07:08:45.098513Z",
     "iopub.status.busy": "2022-03-09T07:08:45.098234Z",
     "iopub.status.idle": "2022-03-09T07:08:45.349923Z",
     "shell.execute_reply": "2022-03-09T07:08:45.348224Z",
     "shell.execute_reply.started": "2022-03-09T07:08:45.098486Z"
    },
    "tags": []
   },
   "outputs": [
    {
     "ename": "ParserError",
     "evalue": "Error tokenizing data. C error: Expected 886 fields in line 3, saw 1098\n",
     "output_type": "error",
     "traceback": [
      "\u001b[0;31m---------------------------------------------------------------------------\u001b[0m",
      "\u001b[0;31mParserError\u001b[0m                               Traceback (most recent call last)",
      "\u001b[0;32m/tmp/ipykernel_2436469/2883679743.py\u001b[0m in \u001b[0;36m<module>\u001b[0;34m\u001b[0m\n\u001b[1;32m      3\u001b[0m \u001b[0;31m#results_complete_columns = list(results_complete.columns)\u001b[0m\u001b[0;34m\u001b[0m\u001b[0;34m\u001b[0m\u001b[0;34m\u001b[0m\u001b[0m\n\u001b[1;32m      4\u001b[0m \u001b[0;34m\u001b[0m\u001b[0m\n\u001b[0;32m----> 5\u001b[0;31m \u001b[0mresults_summary\u001b[0m \u001b[0;34m=\u001b[0m \u001b[0mpd\u001b[0m\u001b[0;34m.\u001b[0m\u001b[0mread_csv\u001b[0m\u001b[0;34m(\u001b[0m\u001b[0;34m'./results_summary.csv'\u001b[0m\u001b[0;34m,\u001b[0m \u001b[0mdelimiter\u001b[0m\u001b[0;34m=\u001b[0m\u001b[0;34m';'\u001b[0m\u001b[0;34m)\u001b[0m\u001b[0;34m\u001b[0m\u001b[0;34m\u001b[0m\u001b[0m\n\u001b[0m\u001b[1;32m      6\u001b[0m \u001b[0;31m#results_summary = results_summary[results_summary['i_net_nas'] == True]\u001b[0m\u001b[0;34m\u001b[0m\u001b[0;34m\u001b[0m\u001b[0;34m\u001b[0m\u001b[0m\n\u001b[1;32m      7\u001b[0m \u001b[0mresults_summary_columns\u001b[0m \u001b[0;34m=\u001b[0m \u001b[0mlist\u001b[0m\u001b[0;34m(\u001b[0m\u001b[0mresults_summary\u001b[0m\u001b[0;34m.\u001b[0m\u001b[0mcolumns\u001b[0m\u001b[0;34m)\u001b[0m\u001b[0;34m\u001b[0m\u001b[0;34m\u001b[0m\u001b[0m\n",
      "\u001b[0;32m~/anaconda3/envs/XAI/lib/python3.8/site-packages/pandas/util/_decorators.py\u001b[0m in \u001b[0;36mwrapper\u001b[0;34m(*args, **kwargs)\u001b[0m\n\u001b[1;32m    309\u001b[0m                     \u001b[0mstacklevel\u001b[0m\u001b[0;34m=\u001b[0m\u001b[0mstacklevel\u001b[0m\u001b[0;34m,\u001b[0m\u001b[0;34m\u001b[0m\u001b[0;34m\u001b[0m\u001b[0m\n\u001b[1;32m    310\u001b[0m                 )\n\u001b[0;32m--> 311\u001b[0;31m             \u001b[0;32mreturn\u001b[0m \u001b[0mfunc\u001b[0m\u001b[0;34m(\u001b[0m\u001b[0;34m*\u001b[0m\u001b[0margs\u001b[0m\u001b[0;34m,\u001b[0m \u001b[0;34m**\u001b[0m\u001b[0mkwargs\u001b[0m\u001b[0;34m)\u001b[0m\u001b[0;34m\u001b[0m\u001b[0;34m\u001b[0m\u001b[0m\n\u001b[0m\u001b[1;32m    312\u001b[0m \u001b[0;34m\u001b[0m\u001b[0m\n\u001b[1;32m    313\u001b[0m         \u001b[0;32mreturn\u001b[0m \u001b[0mwrapper\u001b[0m\u001b[0;34m\u001b[0m\u001b[0;34m\u001b[0m\u001b[0m\n",
      "\u001b[0;32m~/anaconda3/envs/XAI/lib/python3.8/site-packages/pandas/io/parsers/readers.py\u001b[0m in \u001b[0;36mread_csv\u001b[0;34m(filepath_or_buffer, sep, delimiter, header, names, index_col, usecols, squeeze, prefix, mangle_dupe_cols, dtype, engine, converters, true_values, false_values, skipinitialspace, skiprows, skipfooter, nrows, na_values, keep_default_na, na_filter, verbose, skip_blank_lines, parse_dates, infer_datetime_format, keep_date_col, date_parser, dayfirst, cache_dates, iterator, chunksize, compression, thousands, decimal, lineterminator, quotechar, quoting, doublequote, escapechar, comment, encoding, encoding_errors, dialect, error_bad_lines, warn_bad_lines, on_bad_lines, delim_whitespace, low_memory, memory_map, float_precision, storage_options)\u001b[0m\n\u001b[1;32m    584\u001b[0m     \u001b[0mkwds\u001b[0m\u001b[0;34m.\u001b[0m\u001b[0mupdate\u001b[0m\u001b[0;34m(\u001b[0m\u001b[0mkwds_defaults\u001b[0m\u001b[0;34m)\u001b[0m\u001b[0;34m\u001b[0m\u001b[0;34m\u001b[0m\u001b[0m\n\u001b[1;32m    585\u001b[0m \u001b[0;34m\u001b[0m\u001b[0m\n\u001b[0;32m--> 586\u001b[0;31m     \u001b[0;32mreturn\u001b[0m \u001b[0m_read\u001b[0m\u001b[0;34m(\u001b[0m\u001b[0mfilepath_or_buffer\u001b[0m\u001b[0;34m,\u001b[0m \u001b[0mkwds\u001b[0m\u001b[0;34m)\u001b[0m\u001b[0;34m\u001b[0m\u001b[0;34m\u001b[0m\u001b[0m\n\u001b[0m\u001b[1;32m    587\u001b[0m \u001b[0;34m\u001b[0m\u001b[0m\n\u001b[1;32m    588\u001b[0m \u001b[0;34m\u001b[0m\u001b[0m\n",
      "\u001b[0;32m~/anaconda3/envs/XAI/lib/python3.8/site-packages/pandas/io/parsers/readers.py\u001b[0m in \u001b[0;36m_read\u001b[0;34m(filepath_or_buffer, kwds)\u001b[0m\n\u001b[1;32m    486\u001b[0m \u001b[0;34m\u001b[0m\u001b[0m\n\u001b[1;32m    487\u001b[0m     \u001b[0;32mwith\u001b[0m \u001b[0mparser\u001b[0m\u001b[0;34m:\u001b[0m\u001b[0;34m\u001b[0m\u001b[0;34m\u001b[0m\u001b[0m\n\u001b[0;32m--> 488\u001b[0;31m         \u001b[0;32mreturn\u001b[0m \u001b[0mparser\u001b[0m\u001b[0;34m.\u001b[0m\u001b[0mread\u001b[0m\u001b[0;34m(\u001b[0m\u001b[0mnrows\u001b[0m\u001b[0;34m)\u001b[0m\u001b[0;34m\u001b[0m\u001b[0;34m\u001b[0m\u001b[0m\n\u001b[0m\u001b[1;32m    489\u001b[0m \u001b[0;34m\u001b[0m\u001b[0m\n\u001b[1;32m    490\u001b[0m \u001b[0;34m\u001b[0m\u001b[0m\n",
      "\u001b[0;32m~/anaconda3/envs/XAI/lib/python3.8/site-packages/pandas/io/parsers/readers.py\u001b[0m in \u001b[0;36mread\u001b[0;34m(self, nrows)\u001b[0m\n\u001b[1;32m   1045\u001b[0m     \u001b[0;32mdef\u001b[0m \u001b[0mread\u001b[0m\u001b[0;34m(\u001b[0m\u001b[0mself\u001b[0m\u001b[0;34m,\u001b[0m \u001b[0mnrows\u001b[0m\u001b[0;34m=\u001b[0m\u001b[0;32mNone\u001b[0m\u001b[0;34m)\u001b[0m\u001b[0;34m:\u001b[0m\u001b[0;34m\u001b[0m\u001b[0;34m\u001b[0m\u001b[0m\n\u001b[1;32m   1046\u001b[0m         \u001b[0mnrows\u001b[0m \u001b[0;34m=\u001b[0m \u001b[0mvalidate_integer\u001b[0m\u001b[0;34m(\u001b[0m\u001b[0;34m\"nrows\"\u001b[0m\u001b[0;34m,\u001b[0m \u001b[0mnrows\u001b[0m\u001b[0;34m)\u001b[0m\u001b[0;34m\u001b[0m\u001b[0;34m\u001b[0m\u001b[0m\n\u001b[0;32m-> 1047\u001b[0;31m         \u001b[0mindex\u001b[0m\u001b[0;34m,\u001b[0m \u001b[0mcolumns\u001b[0m\u001b[0;34m,\u001b[0m \u001b[0mcol_dict\u001b[0m \u001b[0;34m=\u001b[0m \u001b[0mself\u001b[0m\u001b[0;34m.\u001b[0m\u001b[0m_engine\u001b[0m\u001b[0;34m.\u001b[0m\u001b[0mread\u001b[0m\u001b[0;34m(\u001b[0m\u001b[0mnrows\u001b[0m\u001b[0;34m)\u001b[0m\u001b[0;34m\u001b[0m\u001b[0;34m\u001b[0m\u001b[0m\n\u001b[0m\u001b[1;32m   1048\u001b[0m \u001b[0;34m\u001b[0m\u001b[0m\n\u001b[1;32m   1049\u001b[0m         \u001b[0;32mif\u001b[0m \u001b[0mindex\u001b[0m \u001b[0;32mis\u001b[0m \u001b[0;32mNone\u001b[0m\u001b[0;34m:\u001b[0m\u001b[0;34m\u001b[0m\u001b[0;34m\u001b[0m\u001b[0m\n",
      "\u001b[0;32m~/anaconda3/envs/XAI/lib/python3.8/site-packages/pandas/io/parsers/c_parser_wrapper.py\u001b[0m in \u001b[0;36mread\u001b[0;34m(self, nrows)\u001b[0m\n\u001b[1;32m    221\u001b[0m         \u001b[0;32mtry\u001b[0m\u001b[0;34m:\u001b[0m\u001b[0;34m\u001b[0m\u001b[0;34m\u001b[0m\u001b[0m\n\u001b[1;32m    222\u001b[0m             \u001b[0;32mif\u001b[0m \u001b[0mself\u001b[0m\u001b[0;34m.\u001b[0m\u001b[0mlow_memory\u001b[0m\u001b[0;34m:\u001b[0m\u001b[0;34m\u001b[0m\u001b[0;34m\u001b[0m\u001b[0m\n\u001b[0;32m--> 223\u001b[0;31m                 \u001b[0mchunks\u001b[0m \u001b[0;34m=\u001b[0m \u001b[0mself\u001b[0m\u001b[0;34m.\u001b[0m\u001b[0m_reader\u001b[0m\u001b[0;34m.\u001b[0m\u001b[0mread_low_memory\u001b[0m\u001b[0;34m(\u001b[0m\u001b[0mnrows\u001b[0m\u001b[0;34m)\u001b[0m\u001b[0;34m\u001b[0m\u001b[0;34m\u001b[0m\u001b[0m\n\u001b[0m\u001b[1;32m    224\u001b[0m                 \u001b[0;31m# destructive to chunks\u001b[0m\u001b[0;34m\u001b[0m\u001b[0;34m\u001b[0m\u001b[0;34m\u001b[0m\u001b[0m\n\u001b[1;32m    225\u001b[0m                 \u001b[0mdata\u001b[0m \u001b[0;34m=\u001b[0m \u001b[0m_concatenate_chunks\u001b[0m\u001b[0;34m(\u001b[0m\u001b[0mchunks\u001b[0m\u001b[0;34m)\u001b[0m\u001b[0;34m\u001b[0m\u001b[0;34m\u001b[0m\u001b[0m\n",
      "\u001b[0;32m~/anaconda3/envs/XAI/lib/python3.8/site-packages/pandas/_libs/parsers.pyx\u001b[0m in \u001b[0;36mpandas._libs.parsers.TextReader.read_low_memory\u001b[0;34m()\u001b[0m\n",
      "\u001b[0;32m~/anaconda3/envs/XAI/lib/python3.8/site-packages/pandas/_libs/parsers.pyx\u001b[0m in \u001b[0;36mpandas._libs.parsers.TextReader._read_rows\u001b[0;34m()\u001b[0m\n",
      "\u001b[0;32m~/anaconda3/envs/XAI/lib/python3.8/site-packages/pandas/_libs/parsers.pyx\u001b[0m in \u001b[0;36mpandas._libs.parsers.TextReader._tokenize_rows\u001b[0;34m()\u001b[0m\n",
      "\u001b[0;32m~/anaconda3/envs/XAI/lib/python3.8/site-packages/pandas/_libs/parsers.pyx\u001b[0m in \u001b[0;36mpandas._libs.parsers.raise_parser_error\u001b[0;34m()\u001b[0m\n",
      "\u001b[0;31mParserError\u001b[0m: Error tokenizing data. C error: Expected 886 fields in line 3, saw 1098\n"
     ]
    }
   ],
   "source": [
    "#results_complete = pd.read_csv('./results_complete.csv', delimiter=';')\n",
    "#results_complete = results_complete[results_complete['i_net_nas'] == True]\n",
    "#results_complete_columns = list(results_complete.columns)\n",
    "\n",
    "results_summary = pd.read_csv('./results_summary.csv', delimiter=';')\n",
    "#results_summary = results_summary[results_summary['i_net_nas'] == True]\n",
    "results_summary_columns = list(results_summary.columns)\n",
    "\n",
    "results_summary.head(5)"
   ]
  },
  {
   "cell_type": "code",
   "execution_count": null,
   "id": "e2463e27-6257-40d3-b30f-ca8c237d59a6",
   "metadata": {
    "execution": {
     "iopub.status.busy": "2022-03-09T07:08:45.350679Z",
     "iopub.status.idle": "2022-03-09T07:08:45.351073Z",
     "shell.execute_reply": "2022-03-09T07:08:45.350923Z",
     "shell.execute_reply.started": "2022-03-09T07:08:45.350904Z"
    },
    "tags": []
   },
   "outputs": [],
   "source": [
    "colmuns_identifier = [\n",
    "                  'function_family_maximum_depth',\n",
    "                  'function_family_decision_sparsity', \n",
    "                  'function_family_dt_type',\n",
    "                  'data_dt_type_train',\n",
    "                  'data_maximum_depth_train',\n",
    "                  'data_number_of_variables',\n",
    "                  'data_noise_injected_level',\n",
    "                  'data_function_generation_type',\n",
    "                  'data_categorical_indices',\n",
    "                  'lambda_net_lambda_network_layers',\n",
    "                  'lambda_net_optimizer_lambda',\n",
    "                  'i_net_dense_layers',\n",
    "                  'i_net_dropout',\n",
    "                  'i_net_learning_rate',\n",
    "                  'i_net_loss',\n",
    "                  'i_net_interpretation_dataset_size',\n",
    "                  'i_net_function_representation_type',\n",
    "                  'i_net_data_reshape_version',\n",
    "                  'i_net_nas',\n",
    "                  'i_net_nas_trials',\n",
    "                  'evaluation_eval_data_description_eval_data_function_generation_type',\n",
    "                  'evaluation_eval_data_description_eval_data_noise_injected_level',\n",
    "                 ]\n"
   ]
  },
  {
   "cell_type": "code",
   "execution_count": null,
   "id": "9f20b962-cba9-423e-bc2e-7c8c39648e12",
   "metadata": {
    "execution": {
     "iopub.status.busy": "2022-03-09T07:08:45.352161Z",
     "iopub.status.idle": "2022-03-09T07:08:45.352515Z",
     "shell.execute_reply": "2022-03-09T07:08:45.352365Z",
     "shell.execute_reply.started": "2022-03-09T07:08:45.352346Z"
    },
    "tags": []
   },
   "outputs": [],
   "source": [
    "columns_inet = []\n",
    "for column in results_summary_columns:\n",
    "    if 'inet_scores' in column:\n",
    "        columns_inet.append(column)\n",
    "results_summary_inet = results_summary[flatten([colmuns_identifier, columns_inet])]\n",
    "\n",
    "columns_inet_rename = []\n",
    "for column in columns_inet:\n",
    "    column = column.replace('inet_scores_', '')\n",
    "    columns_inet_rename.append(column)\n",
    "\n",
    "results_summary_inet.columns = flatten([colmuns_identifier, columns_inet_rename])\n",
    "\n",
    "#results_summary_inet.insert(0, 'scores_type', 'inet_scores')\n",
    "results_summary_inet.insert(0, 'scores_type', [dt_type + str(decision_sparsity) + '_inet_scores' for dt_type, decision_sparsity in zip(results_summary_inet['function_family_dt_type'].values, results_summary_inet['function_family_decision_sparsity'].values)])\n",
    "\n",
    "    \n",
    "print(results_summary_inet.shape)\n",
    "results_summary_inet"
   ]
  },
  {
   "cell_type": "code",
   "execution_count": null,
   "id": "c5671878-22c3-4a2f-9d46-a516fd0fc5d5",
   "metadata": {
    "execution": {
     "iopub.status.busy": "2022-03-09T07:08:45.353407Z",
     "iopub.status.idle": "2022-03-09T07:08:45.353800Z",
     "shell.execute_reply": "2022-03-09T07:08:45.353650Z",
     "shell.execute_reply.started": "2022-03-09T07:08:45.353632Z"
    },
    "tags": []
   },
   "outputs": [],
   "source": [
    "columns_dt_distilled = []\n",
    "for column in results_summary_columns:\n",
    "    if 'dt_scores' in column:\n",
    "        if 'data_random' not in column:\n",
    "            columns_dt_distilled.append(column)\n",
    "results_summary_dt_distilled = results_summary[flatten([colmuns_identifier, columns_dt_distilled])]\n",
    "\n",
    "columns_dt_distilled_rename = []\n",
    "for column in columns_dt_distilled:\n",
    "    column = column.replace('dt_scores_','')\n",
    "    columns_dt_distilled_rename.append(column)\n",
    "\n",
    "results_summary_dt_distilled.columns = flatten([colmuns_identifier, columns_dt_distilled_rename])\n",
    "    \n",
    "#results_summary_dt_distilled.insert(0, 'scores_type', 'dt_scores')\n",
    "results_summary_dt_distilled.insert(0, 'scores_type', [dt_type + str(decision_sparsity) + '_dt_scores' for dt_type, decision_sparsity in zip(results_summary_dt_distilled['function_family_dt_type'].values, results_summary_dt_distilled['function_family_decision_sparsity'].values)])\n",
    "\n",
    "    \n",
    "print(results_summary_dt_distilled.shape)\n",
    "results_summary_dt_distilled.head(5)\n"
   ]
  },
  {
   "cell_type": "code",
   "execution_count": null,
   "id": "3b9f51f3-f754-4dc2-9ceb-0b7113b51911",
   "metadata": {
    "execution": {
     "iopub.status.busy": "2022-03-09T07:08:45.354909Z",
     "iopub.status.idle": "2022-03-09T07:08:45.355263Z",
     "shell.execute_reply": "2022-03-09T07:08:45.355111Z",
     "shell.execute_reply.started": "2022-03-09T07:08:45.355093Z"
    },
    "tags": []
   },
   "outputs": [],
   "source": [
    "columns_dt_distilled_random_data = []\n",
    "for column in results_summary_columns:\n",
    "    if 'dt_scores' in column:\n",
    "        if 'runtime' not in column:\n",
    "            if 'data_random' in column:\n",
    "                columns_dt_distilled_random_data.append(column)\n",
    "        else: \n",
    "            columns_dt_distilled_random_data.append(column)\n",
    "results_summary_dt_distilled_random_data = results_summary[flatten([colmuns_identifier, columns_dt_distilled_random_data])]\n",
    "\n",
    "columns_dt_distilled_random_data_rename = []\n",
    "for column in columns_dt_distilled_random_data:\n",
    "    column = column.replace('dt_scores_','')\n",
    "    column = column.replace('_data_random','')\n",
    "    columns_dt_distilled_random_data_rename.append(column)\n",
    "\n",
    "results_summary_dt_distilled_random_data.columns = flatten([colmuns_identifier, columns_dt_distilled_random_data_rename])\n",
    "\n",
    "#results_summary_dt_distilled_random_data.insert(0, 'scores_type', 'dt_scores_data_random')\n",
    "results_summary_dt_distilled_random_data.insert(0, 'scores_type', [dt_type + str(decision_sparsity) + '_dt_scores_data_random' for dt_type, decision_sparsity in zip(results_summary_dt_distilled_random_data['function_family_dt_type'].values, results_summary_dt_distilled_random_data['function_family_decision_sparsity'].values)])\n",
    "\n",
    "\n",
    "print(results_summary_dt_distilled_random_data.shape)\n",
    "results_summary_dt_distilled_random_data.head(5)"
   ]
  },
  {
   "cell_type": "code",
   "execution_count": null,
   "id": "e348a43e-1352-4078-9ebd-715deed82ba0",
   "metadata": {
    "execution": {
     "iopub.status.busy": "2022-03-09T07:08:45.356252Z",
     "iopub.status.idle": "2022-03-09T07:08:45.356623Z",
     "shell.execute_reply": "2022-03-09T07:08:45.356472Z",
     "shell.execute_reply.started": "2022-03-09T07:08:45.356453Z"
    },
    "tags": []
   },
   "outputs": [],
   "source": [
    "results_summary_reduced = pd.concat([\n",
    "                                     results_summary_inet, \n",
    "                                     results_summary_dt_distilled, \n",
    "                                     #results_summary_dt_distilled_random_data\n",
    "                                    ]).reset_index(drop=True)\n",
    "results_summary_reduced_columns = results_summary_reduced.columns\n",
    "results_summary_reduced.head(5)"
   ]
  },
  {
   "cell_type": "code",
   "execution_count": null,
   "id": "a5dd9d45-4def-41d0-be00-eb037f12ee6f",
   "metadata": {
    "execution": {
     "iopub.status.busy": "2022-03-09T07:08:45.357579Z",
     "iopub.status.idle": "2022-03-09T07:08:45.357978Z",
     "shell.execute_reply": "2022-03-09T07:08:45.357808Z",
     "shell.execute_reply.started": "2022-03-09T07:08:45.357790Z"
    }
   },
   "outputs": [],
   "source": [
    "colmuns_identifier.append('scores_type')\n",
    "not_considered_random_dataset_sizes = ['1000', '100000', '1000000']"
   ]
  },
  {
   "cell_type": "code",
   "execution_count": null,
   "id": "a6e45d52-591b-4f1d-9d7f-c67ff5d4e7dc",
   "metadata": {
    "execution": {
     "iopub.status.busy": "2022-03-09T07:08:45.359353Z",
     "iopub.status.idle": "2022-03-09T07:08:45.359745Z",
     "shell.execute_reply": "2022-03-09T07:08:45.359590Z",
     "shell.execute_reply.started": "2022-03-09T07:08:45.359571Z"
    },
    "tags": []
   },
   "outputs": [],
   "source": [
    "def get_results_summary_reduced_for_metric(config, metric='accuracy', soft=False):\n",
    "    \n",
    "    results_summary_reduced_metric_columns = []\n",
    "    for column in results_summary_reduced_columns:  \n",
    "        if metric in column:\n",
    "            if 'soft' not in column and not soft:           \n",
    "                if 'median' not in column:\n",
    "                    tokens = column.split('_')\n",
    "                    integer = [token for token in tokens if token.isdigit()]\n",
    "                    if len(integer) > 0:\n",
    "                        integer = integer[0]\n",
    "                        if integer not in not_considered_random_dataset_sizes:                    \n",
    "                            results_summary_reduced_metric_columns.append(column)\n",
    "                    else:\n",
    "                        if 'TRAIN_DATA' not in column:\n",
    "                            results_summary_reduced_metric_columns.append(column)\n",
    "\n",
    "    results_summary_reduced_metric_with_identifier_columns = flatten([colmuns_identifier, results_summary_reduced_metric_columns])\n",
    "    results_summary_reduced_metric_with_identifier = results_summary_reduced[results_summary_reduced_metric_with_identifier_columns]\n",
    "    results_summary_reduced_metric_with_identifier.head(5)    \n",
    "    \n",
    "    \n",
    "    results_summary_reduced_metric_plot = results_summary_reduced_metric_with_identifier\n",
    "\n",
    "    try:\n",
    "        results_summary_reduced_metric_plot = results_summary_reduced_metric_plot[results_summary_reduced_metric_plot['i_net_nas'] == config['nas']]\n",
    "    except:\n",
    "        pass\n",
    "    \n",
    "    if config['nas'] == True:\n",
    "        try:\n",
    "            results_summary_reduced_metric_plot = results_summary_reduced_metric_plot[results_summary_reduced_metric_plot['i_net_nas_trials'] == config['nas_trials']]\n",
    "        except:\n",
    "            pass    \n",
    "    else:\n",
    "        try:\n",
    "            if isinstance(config['inet_structure'], list):\n",
    "                inet_structure_string_query = 'i_net_dense_layers == \"' + config['inet_structure'][0] + '\"'\n",
    "                for inet_structure_string in config['inet_structure'][1:]:\n",
    "                    inet_structure_string_query += ' | ' +'i_net_dense_layers == \"' + inet_structure_string + '\"'\n",
    "                \n",
    "                results_summary_reduced_metric_plot = results_summary_reduced_metric_plot.query(inet_structure_string_query)\n",
    "                    \n",
    "            else:\n",
    "                results_summary_reduced_metric_plot = results_summary_reduced_metric_plot[results_summary_reduced_metric_plot['i_net_dense_layers'] == config['inet_structure']]\n",
    "        except:\n",
    "            pass\n",
    "    \n",
    "    try:\n",
    "        results_summary_reduced_metric_plot = results_summary_reduced_metric_plot[results_summary_reduced_metric_plot['i_net_loss'] == config['loss']]\n",
    "    except:\n",
    "        pass\n",
    "    \n",
    "    try:\n",
    "        results_summary_reduced_metric_plot = results_summary_reduced_metric_plot[results_summary_reduced_metric_plot['data_noise_injected_level'] == config['noise_injected_level']]\n",
    "    except:\n",
    "        pass\n",
    "    try:\n",
    "        results_summary_reduced_metric_plot = results_summary_reduced_metric_plot[results_summary_reduced_metric_plot['data_categorical_indices'] == config['categorical_indices']]\n",
    "    except:\n",
    "        pass    \n",
    "    try:\n",
    "        results_summary_reduced_metric_plot = results_summary_reduced_metric_plot[results_summary_reduced_metric_plot['i_net_data_reshape_version'] == config['data_reshape_version']]\n",
    "    except:\n",
    "        pass\n",
    "    try:\n",
    "        results_summary_reduced_metric_plot = results_summary_reduced_metric_plot[results_summary_reduced_metric_plot['data_function_generation_type'] == config['function_generation_type']]\n",
    "    except:\n",
    "        pass        \n",
    "        \n",
    "    results_summary_reduced_metric_plot = results_summary_reduced_metric_plot[results_summary_reduced_metric_plot['data_number_of_variables'].isin(config['number_of_variables'])]\n",
    "    results_summary_reduced_metric_plot = results_summary_reduced_metric_plot[results_summary_reduced_metric_plot['function_family_maximum_depth'].isin(config['maximum_depth'])]\n",
    "\n",
    "    results_summary_reduced_metric_plot_columns = list(results_summary_reduced_metric_plot.columns)\n",
    "    result_columns = []\n",
    "    identifier_columns = []\n",
    "    for column in results_summary_reduced_metric_plot_columns:\n",
    "        if metric in column:\n",
    "            result_columns.append(column)\n",
    "        else:\n",
    "            identifier_columns.append(column)\n",
    "    number_of_results = results_summary_reduced_metric_plot.shape[0]\n",
    "\n",
    "    results_summary_reduced_metric_plot_single_column_identifier = pd.concat([results_summary_reduced_metric_plot[identifier_columns] for _ in range(len(result_columns))], axis=0)\n",
    "    results_summary_reduced_metric_plot_single_column_identifier['result_identifier'] = flatten([[result_column]*number_of_results for result_column in result_columns])\n",
    "    #results_summary_reduced_metric_plot_single_column_identifier['result_identifier'] = flatten([[i]*number_of_results for i in range(len(result_columns))])\n",
    "\n",
    "    results_summary_reduced_metric_plot_single_column_results = pd.concat([results_summary_reduced_metric_plot[result_column] for result_column in result_columns], axis=0)\n",
    "    results_summary_reduced_metric_plot_single_column_results.name = 'score'\n",
    "\n",
    "    results_summary_reduced_metric_plot = pd.concat([results_summary_reduced_metric_plot_single_column_identifier, results_summary_reduced_metric_plot_single_column_results], axis=1)\n",
    "\n",
    "    results_summary_reduced_metric_plot = results_summary_reduced_metric_plot.sort_values(by=['function_family_dt_type', 'function_family_decision_sparsity'], ascending=(False, True))\n",
    "    \n",
    "    \n",
    "    return results_summary_reduced_metric_plot\n",
    "    "
   ]
  },
  {
   "cell_type": "code",
   "execution_count": null,
   "id": "c3e0ce79-1096-4a18-946a-eea59f41d93d",
   "metadata": {
    "execution": {
     "iopub.status.busy": "2022-03-09T07:08:45.360710Z",
     "iopub.status.idle": "2022-03-09T07:08:45.361070Z",
     "shell.execute_reply": "2022-03-09T07:08:45.360920Z",
     "shell.execute_reply.started": "2022-03-09T07:08:45.360901Z"
    },
    "tags": []
   },
   "outputs": [],
   "source": [
    "def plot_results(data_reduced, col, x, y, hue, plot_type=sns.barplot, aspect=1.5, col_wrap=2):\n",
    "    \n",
    "    #sns.set(rc={'figure.figsize':(20,10)})\n",
    "    \n",
    "    g = sns.FacetGrid(data_reduced, \n",
    "                      col=col,\n",
    "                      ##hue='scores_type', \n",
    "                      #height=5, \n",
    "                      col_wrap=col_wrap,\n",
    "                      aspect=aspect,\n",
    "                      ##legend_out=False,\n",
    "                     )\n",
    "    g.map(plot_type, \n",
    "          x, \n",
    "          y, \n",
    "          hue,\n",
    "          hue_order=np.unique(data_reduced[hue]),\n",
    "          ##figsize=(20,10),\n",
    "          palette=sns.color_palette(),#'colorblind'\n",
    "          ##order=np.unique(results_summary_reduced_accuracy_plot[\"scores_type\"]),\n",
    "         )\n",
    "    g.add_legend(fontsize=12,\n",
    "               ncol=3,\n",
    "               bbox_to_anchor=(0.5, -0.025),\n",
    "               borderaxespad=0)    \n",
    "    \n",
    "    return plt.gcf()"
   ]
  },
  {
   "cell_type": "code",
   "execution_count": null,
   "id": "2ba60c75-a5d2-41a2-aa82-363561902504",
   "metadata": {
    "execution": {
     "iopub.status.busy": "2022-03-09T07:08:45.362124Z",
     "iopub.status.idle": "2022-03-09T07:08:45.362547Z",
     "shell.execute_reply": "2022-03-09T07:08:45.362331Z",
     "shell.execute_reply.started": "2022-03-09T07:08:45.362313Z"
    },
    "tags": []
   },
   "outputs": [],
   "source": [
    "figsize = (20, 10)\n",
    "font_scale = 2.5\n",
    "\n",
    "legend_fontsize = 25\n",
    "legend_loc = 2\n",
    "\n",
    "color_1 = '#84b7e9'#'#c0d6ff'\n",
    "color_2 = '#0a6fd3'#'#96bcff'\n",
    "color_3 = '#06427e'#'#6ca1ff'"
   ]
  },
  {
   "cell_type": "code",
   "execution_count": null,
   "id": "9c5d2a9c-7b97-450c-ab9d-4b6bd8c0865a",
   "metadata": {
    "execution": {
     "iopub.status.busy": "2022-03-09T07:08:45.363764Z",
     "iopub.status.idle": "2022-03-09T07:08:45.364122Z",
     "shell.execute_reply": "2022-03-09T07:08:45.363971Z",
     "shell.execute_reply.started": "2022-03-09T07:08:45.363952Z"
    },
    "tags": []
   },
   "outputs": [],
   "source": [
    "datasets = {\n",
    "            'Adult': 28,#65,\n",
    "            'Titanic': 9,\n",
    "            'Absenteeism': 15,\n",
    "            'Loan House': 16,#17,\n",
    "            'Loan Credit': 32,\n",
    "            'Medical Insurance': 9,#6,\n",
    "            'Bank Marketing': 29,#17,\n",
    "            'Brest Cancer Wisconsin': 9,\n",
    "            'Wisconsin Diagnostic Breast Cancer': 10,\n",
    "            'Wisconsin Prognostic Breast Cancer': 10,\n",
    "            'Abalone': 10,\n",
    "            'Car': 21,\n",
    "           }"
   ]
  },
  {
   "cell_type": "code",
   "execution_count": null,
   "id": "c1f446d4-1756-44fb-8d04-c03316bc8c28",
   "metadata": {},
   "outputs": [],
   "source": []
  },
  {
   "cell_type": "code",
   "execution_count": null,
   "id": "2daad876-9735-4393-b99e-04fc0aa4641d",
   "metadata": {
    "execution": {
     "iopub.status.busy": "2022-03-09T07:08:45.365160Z",
     "iopub.status.idle": "2022-03-09T07:08:45.365520Z",
     "shell.execute_reply": "2022-03-09T07:08:45.365366Z",
     "shell.execute_reply.started": "2022-03-09T07:08:45.365347Z"
    },
    "tags": []
   },
   "outputs": [],
   "source": [
    "for unique_value in np.unique(list(datasets.values())):\n",
    "    \n",
    "    key_list = []\n",
    "    for key, value in datasets.items():\n",
    "        if unique_value == value:\n",
    "            key_list.append(key)\n",
    "    \n",
    "    try:        \n",
    "        config = {\n",
    "            'inet_structure': ['[704, 960, 512, 576, 896]'],#'[1024, 1024, 256, 2048, 2048]',\n",
    "            'loss': 'binary_crossentropy', # 'binary_crossentropy', 'soft_binary_crossentropy'\n",
    "\n",
    "            #'noise_injected_level': 0.2, #0, 0.2\n",
    "            #'data_noise': 0.1,\n",
    "            \n",
    "            #'data_reshape_version': 'None', #'None', '3' =autoencode\n",
    "            #'function_generation_type': 'random_decision_tree_trained', #make_classification_trained, random_decision_tree_trained\n",
    "\n",
    "            'nas': False, # 'True', 'False'\n",
    "            'nas_trials': 20, #20, 100\n",
    "\n",
    "            'number_of_variables': [unique_value], # [10]\n",
    "            'maximum_depth': [3, 4, 5], # [3, 4, 5]\n",
    "        }\n",
    "\n",
    "        results_summary_reduced_accuracy_plot = get_results_summary_reduced_for_metric(config, metric='accuracy', soft=False)\n",
    "\n",
    "        \n",
    "        plot_data = results_summary_reduced_accuracy_plot[results_summary_reduced_accuracy_plot['result_identifier'].str.contains('|'.join(key_list))]\n",
    "        plot = plot_results(\n",
    "                             data_reduced=plot_data,\n",
    "                             col='result_identifier',\n",
    "                             x='function_family_maximum_depth',\n",
    "                             y='score',\n",
    "                             hue='scores_type',\n",
    "                             plot_type=sns.barplot\n",
    "                            )    \n",
    "    except AttributeError:\n",
    "        pass\n",
    "    "
   ]
  },
  {
   "cell_type": "code",
   "execution_count": null,
   "id": "78b56483-e9bb-425b-9255-5d8ab613c21e",
   "metadata": {
    "execution": {
     "iopub.status.busy": "2022-03-09T07:08:45.366510Z",
     "iopub.status.idle": "2022-03-09T07:08:45.366860Z",
     "shell.execute_reply": "2022-03-09T07:08:45.366708Z",
     "shell.execute_reply.started": "2022-03-09T07:08:45.366689Z"
    }
   },
   "outputs": [],
   "source": [
    "datasets = {\n",
    "            'Loan House': 17,\n",
    "           }"
   ]
  },
  {
   "cell_type": "code",
   "execution_count": null,
   "id": "bdc1b1f9-db6a-48b0-9d3a-091aed607d1a",
   "metadata": {
    "execution": {
     "iopub.status.busy": "2022-03-09T07:08:45.367801Z",
     "iopub.status.idle": "2022-03-09T07:08:45.368180Z",
     "shell.execute_reply": "2022-03-09T07:08:45.368029Z",
     "shell.execute_reply.started": "2022-03-09T07:08:45.368010Z"
    },
    "tags": []
   },
   "outputs": [],
   "source": [
    "for unique_value in np.unique(list(datasets.values())):\n",
    "    \n",
    "    key_list = []\n",
    "    for key, value in datasets.items():\n",
    "        if unique_value == value:\n",
    "            key_list.append(key)\n",
    "    \n",
    "    try:        \n",
    "        config = {\n",
    "            'inet_structure': '[4096, 2048]',#'[1024, 1024, 256, 2048, 2048]',\n",
    "            'loss': 'binary_crossentropy', # 'binary_crossentropy', 'soft_binary_crossentropy'\n",
    "\n",
    "            'noise_injected_level': 0.2, #0, 0.2\n",
    "            #'data_noise': 0.1,\n",
    "            \n",
    "            #'data_reshape_version': 'None', #'None', '3' =autoencode\n",
    "            #'function_generation_type': 'random_decision_tree_trained', #make_classification_trained, random_decision_tree_trained\n",
    "\n",
    "            'nas': False, # 'True', 'False'\n",
    "            'nas_trials': 20, #20, 100\n",
    "\n",
    "            'number_of_variables': [unique_value], # [10]\n",
    "            'maximum_depth': [3, 4, 5], # [3, 4, 5]\n",
    "        }\n",
    "\n",
    "        results_summary_reduced_accuracy_plot = get_results_summary_reduced_for_metric(config, metric='accuracy', soft=False)\n",
    "\n",
    "        \n",
    "        plot_data = results_summary_reduced_accuracy_plot[results_summary_reduced_accuracy_plot['result_identifier'].str.contains('|'.join(key_list))]\n",
    "        plot = plot_results(\n",
    "                             data_reduced=plot_data,\n",
    "                             col='result_identifier',\n",
    "                             x='function_family_maximum_depth',\n",
    "                             y='score',\n",
    "                             hue='scores_type',\n",
    "                             plot_type=sns.barplot,\n",
    "                             col_wrap=1,\n",
    "                             aspect=3,\n",
    "                            )    \n",
    "    except AttributeError:\n",
    "        pass\n",
    "    "
   ]
  },
  {
   "cell_type": "code",
   "execution_count": null,
   "id": "fe8cbad8-a729-4dc5-a74c-82a8580f34f0",
   "metadata": {
    "execution": {
     "iopub.status.busy": "2022-03-09T07:08:45.369216Z",
     "iopub.status.idle": "2022-03-09T07:08:45.369520Z",
     "shell.execute_reply": "2022-03-09T07:08:45.369372Z",
     "shell.execute_reply.started": "2022-03-09T07:08:45.369355Z"
    },
    "tags": []
   },
   "outputs": [],
   "source": [
    "plot_data[plot_data['result_identifier'] == 'accuracy_Bank Marketing_10000']"
   ]
  },
  {
   "cell_type": "code",
   "execution_count": null,
   "id": "d2414058-d93e-4621-8699-5b3b6141ebdf",
   "metadata": {
    "execution": {
     "iopub.status.busy": "2022-03-09T07:08:45.370336Z",
     "iopub.status.idle": "2022-03-09T07:08:45.370657Z",
     "shell.execute_reply": "2022-03-09T07:08:45.370510Z",
     "shell.execute_reply.started": "2022-03-09T07:08:45.370492Z"
    },
    "tags": []
   },
   "outputs": [],
   "source": [
    "plot_data[plot_data['result_identifier'] == 'accuracy_Loan House_10000']"
   ]
  },
  {
   "cell_type": "code",
   "execution_count": null,
   "id": "9fd8bb71-6782-406d-9860-4b7a76fdeb09",
   "metadata": {
    "execution": {
     "iopub.status.busy": "2022-03-09T07:08:45.371831Z",
     "iopub.status.idle": "2022-03-09T07:08:45.372221Z",
     "shell.execute_reply": "2022-03-09T07:08:45.372071Z",
     "shell.execute_reply.started": "2022-03-09T07:08:45.372053Z"
    },
    "tags": []
   },
   "outputs": [],
   "source": [
    "metric = 'accuracy'\n",
    "key_list = ['uniform', 'normal', 'gamma', 'beta', 'poisson']\n",
    "\n",
    "key_list = ['test_' + key + '_' + metric  for key in key_list]\n",
    "\n",
    "try:        \n",
    "    config = {\n",
    "        'inet_structure': ['[4096, 2048]', '[2048, 1024]'],#'[1024, 1024, 256, 2048, 2048]',\n",
    "        'loss': 'binary_crossentropy', # 'binary_crossentropy', 'soft_binary_crossentropy'\n",
    "\n",
    "        'noise_injected_level': 0.2, #0, 0.2\n",
    "        #'data_noise': 0.1,\n",
    "\n",
    "        #'data_reshape_version': 'None', #'None', '3' =autoencode\n",
    "        #'function_generation_type': 'random_decision_tree_trained', #make_classification_trained, random_decision_tree_trained\n",
    "\n",
    "        'nas': False, # 'True', 'False'\n",
    "        'nas_trials': 20, #20, 100\n",
    "\n",
    "        'number_of_variables': [5, 10, 17], # [10]\n",
    "        'maximum_depth': [3], # [3, 4, 5]\n",
    "    }\n",
    "\n",
    "\n",
    "    results_summary_reduced_accuracy_plot = get_results_summary_reduced_for_metric(config, metric=metric, soft=False)\n",
    "    \n",
    "    scores_type_adjusted = results_summary_reduced_accuracy_plot['scores_type'].values\n",
    "    scores_type_adjusted = [string.replace('SDT10', 'SDT-1') for string in scores_type_adjusted]\n",
    "    scores_type_adjusted = [string.replace('SDT5', 'SDT-1') for string in scores_type_adjusted]\n",
    "    scores_type_adjusted = [string.replace('SDT15', 'SDT-1') for string in scores_type_adjusted]\n",
    "    scores_type_adjusted = [string.replace('SDT17', 'SDT-1') for string in scores_type_adjusted]\n",
    "    results_summary_reduced_accuracy_plot['scores_type'] = scores_type_adjusted    \n",
    "\n",
    "    for dt_type in ['vanilla', 'SDT-1', 'SDT1']:\n",
    "\n",
    "        plot_data = results_summary_reduced_accuracy_plot[results_summary_reduced_accuracy_plot['result_identifier'].str.contains('|'.join(key_list))]\n",
    "        plot_data = plot_data[~plot_data['result_identifier'].str.contains('train_data')]\n",
    "        plot_data = plot_data[plot_data['scores_type'].str.contains(dt_type)]\n",
    "        \n",
    "        plot = plot_results(\n",
    "                             data_reduced=plot_data,\n",
    "                             col='result_identifier',\n",
    "                             x='data_number_of_variables',\n",
    "                             y='score',\n",
    "                             hue='scores_type',\n",
    "                             plot_type=sns.barplot\n",
    "                            )    \n",
    "except AttributeError:\n",
    "    pass"
   ]
  },
  {
   "cell_type": "code",
   "execution_count": null,
   "id": "76646e3e-27fb-4d06-adc5-5d8e1a7dc671",
   "metadata": {},
   "outputs": [],
   "source": []
  },
  {
   "cell_type": "code",
   "execution_count": null,
   "id": "c38f07b4-8862-4508-ac6f-b706516e6f03",
   "metadata": {
    "execution": {
     "iopub.status.busy": "2022-03-09T07:08:45.373177Z",
     "iopub.status.idle": "2022-03-09T07:08:45.373536Z",
     "shell.execute_reply": "2022-03-09T07:08:45.373382Z",
     "shell.execute_reply.started": "2022-03-09T07:08:45.373363Z"
    },
    "tags": []
   },
   "outputs": [],
   "source": [
    "def reduce_rows_from_config(dataframe, config):\n",
    "\n",
    "\n",
    "    try:\n",
    "        dataframe = dataframe[dataframe['i_net_nas'] == config['nas']]\n",
    "    except:\n",
    "        pass\n",
    "    \n",
    "    if config['nas'] == True:\n",
    "        try:\n",
    "            dataframe = dataframe[dataframe['i_net_nas_trials'] == config['nas_trials']]\n",
    "        except:\n",
    "            pass    \n",
    "    else:\n",
    "        try:\n",
    "            if isinstance(config['inet_structure'], list):\n",
    "                inet_structure_string_query = 'i_net_dense_layers == \"' + config['inet_structure'][0] + '\"'\n",
    "                for inet_structure_string in config['inet_structure'][1:]:\n",
    "                    inet_structure_string_query += ' | ' +'i_net_dense_layers == \"' + inet_structure_string + '\"'\n",
    "                \n",
    "                dataframe = dataframe.query(inet_structure_string_query)\n",
    "                    \n",
    "            else:\n",
    "                dataframe = dataframe[dataframe['i_net_dense_layers'] == config['inet_structure']]            \n",
    "        except:\n",
    "            pass\n",
    "    \n",
    "    try:\n",
    "        dataframe = dataframe[dataframe['i_net_loss'] == config['loss']]\n",
    "    except:\n",
    "        pass\n",
    "    \n",
    "    try:\n",
    "        dataframe = dataframe[dataframe['data_noise_injected_level'] == config['noise_injected_level']]\n",
    "    except:\n",
    "        pass\n",
    "    try:\n",
    "        dataframe = dataframe[dataframe['data_categorical_indices'] == config['categorical_indices']]\n",
    "    except:\n",
    "        pass    \n",
    "    try:\n",
    "        dataframe = dataframe[dataframe['i_net_data_reshape_version'] == config['data_reshape_version']]\n",
    "    except:\n",
    "        pass\n",
    "    try:\n",
    "        dataframe = dataframe[dataframe['data_function_generation_type'] == config['function_generation_type']]\n",
    "    except:\n",
    "        pass        \n",
    "        \n",
    "    \n",
    "    return dataframe\n",
    "    "
   ]
  },
  {
   "cell_type": "code",
   "execution_count": null,
   "id": "cd0e1979-712f-48b6-a75d-c8bf388fa904",
   "metadata": {
    "execution": {
     "iopub.status.busy": "2022-03-09T07:08:45.374377Z",
     "iopub.status.idle": "2022-03-09T07:08:45.374700Z",
     "shell.execute_reply": "2022-03-09T07:08:45.374552Z",
     "shell.execute_reply.started": "2022-03-09T07:08:45.374534Z"
    },
    "tags": []
   },
   "outputs": [],
   "source": [
    "results_complete = pd.read_csv('./results_complete.csv', delimiter=';')\n",
    "results_complete_columns = list(results_complete.columns)\n",
    "\n",
    "results_complete.insert(0, 'scores_type', [dt_type + str(decision_sparsity) for dt_type, decision_sparsity in zip(results_complete['function_family_dt_type'].values, results_complete['function_family_decision_sparsity'].values)])\n",
    "results_complete.head(5)"
   ]
  },
  {
   "cell_type": "code",
   "execution_count": null,
   "id": "7c336ce0-ff88-490e-b9fb-52621bc37d6c",
   "metadata": {},
   "outputs": [],
   "source": []
  },
  {
   "cell_type": "code",
   "execution_count": null,
   "id": "1749f595-d1cc-4e30-839f-b60adb49b414",
   "metadata": {
    "execution": {
     "iopub.status.busy": "2022-03-09T07:08:45.375731Z",
     "iopub.status.idle": "2022-03-09T07:08:45.376077Z",
     "shell.execute_reply": "2022-03-09T07:08:45.375927Z",
     "shell.execute_reply.started": "2022-03-09T07:08:45.375909Z"
    },
    "tags": []
   },
   "outputs": [],
   "source": [
    "results_complete_columns_distributions = [s for s in results_complete_columns if 'test'in s]\n",
    "results_complete_columns_distributions = [s for s in results_complete_columns_distributions if 'accuracy'in s]\n",
    "results_complete_columns_distributions = [s for s in results_complete_columns_distributions if 'data_random'not in s]\n",
    "results_complete_columns_distributions = [s for s in results_complete_columns_distributions if 'train_data'not in s]"
   ]
  },
  {
   "cell_type": "code",
   "execution_count": null,
   "id": "a4d2550b-a257-4af8-9ac4-4d5637d05049",
   "metadata": {},
   "outputs": [],
   "source": []
  },
  {
   "cell_type": "code",
   "execution_count": null,
   "id": "ab80aef9-8aff-42ea-823b-46d844c054cc",
   "metadata": {},
   "outputs": [],
   "source": []
  },
  {
   "cell_type": "code",
   "execution_count": null,
   "id": "f8f833fb-ae61-4541-977e-39c85b18e241",
   "metadata": {},
   "outputs": [],
   "source": []
  },
  {
   "cell_type": "code",
   "execution_count": null,
   "id": "e5d78b25-e6b3-4dff-ba41-476890029baf",
   "metadata": {},
   "outputs": [],
   "source": []
  },
  {
   "cell_type": "code",
   "execution_count": null,
   "id": "0c8c4fb7-256f-46e1-9052-a9156341e236",
   "metadata": {
    "execution": {
     "iopub.status.busy": "2022-03-09T07:08:45.377051Z",
     "iopub.status.idle": "2022-03-09T07:08:45.377352Z",
     "shell.execute_reply": "2022-03-09T07:08:45.377204Z",
     "shell.execute_reply.started": "2022-03-09T07:08:45.377187Z"
    },
    "tags": []
   },
   "outputs": [],
   "source": [
    "colmuns_identifier_with_complete_results = []\n",
    "colmuns_identifier_with_complete_results.extend(colmuns_identifier)\n",
    "colmuns_identifier_with_complete_results.extend(results_complete_columns_distributions)"
   ]
  },
  {
   "cell_type": "code",
   "execution_count": null,
   "id": "0535d839-71e2-4527-9f0f-efdeab3d8f09",
   "metadata": {
    "execution": {
     "iopub.status.busy": "2022-03-09T07:08:45.378353Z",
     "iopub.status.idle": "2022-03-09T07:08:45.378704Z",
     "shell.execute_reply": "2022-03-09T07:08:45.378553Z",
     "shell.execute_reply.started": "2022-03-09T07:08:45.378534Z"
    },
    "tags": []
   },
   "outputs": [],
   "source": [
    "results_complete_distributions_basic = results_complete[colmuns_identifier_with_complete_results]\n",
    "scores_type_adjusted = results_complete_distributions_basic['scores_type'].values\n",
    "scores_type_adjusted = [string.replace('SDT10', 'SDT-1') for string in scores_type_adjusted]\n",
    "scores_type_adjusted = [string.replace('SDT5', 'SDT-1') for string in scores_type_adjusted]\n",
    "scores_type_adjusted = [string.replace('SDT15', 'SDT-1') for string in scores_type_adjusted]\n",
    "scores_type_adjusted = [string.replace('SDT17', 'SDT-1') for string in scores_type_adjusted]\n",
    "results_complete_distributions_basic['scores_type'] = scores_type_adjusted      \n",
    "\n",
    "\n",
    "results_complete_distributions_basic.head(5)"
   ]
  },
  {
   "cell_type": "code",
   "execution_count": null,
   "id": "7ffbbde6-2b29-4e3e-82cb-a32c937b1e42",
   "metadata": {
    "execution": {
     "iopub.status.busy": "2022-03-09T07:08:45.379768Z",
     "iopub.status.idle": "2022-03-09T07:08:45.380142Z",
     "shell.execute_reply": "2022-03-09T07:08:45.379988Z",
     "shell.execute_reply.started": "2022-03-09T07:08:45.379970Z"
    },
    "tags": []
   },
   "outputs": [],
   "source": [
    "config = {\n",
    "    'inet_structure': ['[4096, 2048]', '[2048, 1024]'],#'[1024, 1024, 256, 2048, 2048]',\n",
    "    'loss': 'binary_crossentropy', # 'binary_crossentropy', 'soft_binary_crossentropy'\n",
    "\n",
    "    'noise_injected_level': 0.2, #0, 0.2\n",
    "    #'data_noise': 0.1,\n",
    "\n",
    "    #'data_reshape_version': 'None', #'None', '3' =autoencode\n",
    "    #'function_generation_type': 'random_decision_tree_trained', #make_classification_trained, random_decision_tree_trained\n",
    "\n",
    "    'nas': False, # 'True', 'False'\n",
    "    'nas_trials': 20, #20, 100\n",
    "\n",
    "    'number_of_variables': [5, 10, 17], # [10]\n",
    "    'maximum_depth': [3], # [3, 4, 5]\n",
    "}\n",
    "\n",
    "results_complete_distributions = reduce_rows_from_config(results_complete_distributions_basic, config)\n",
    "\n",
    "distribution_list = ['uniform', 'normal', 'gamma', 'beta', 'poisson']\n",
    "\n",
    "results_list = []\n",
    "for i, row in results_complete_distributions.iterrows():\n",
    "    identifier_for_row = row[colmuns_identifier].values\n",
    "    for distribution in distribution_list:\n",
    "        columns_series = row.index\n",
    "        columns_series_selected = [s for s in columns_series if distribution in s]\n",
    "        identifier_distrib = np.array([distribution] * len(columns_series_selected)).reshape(-1,1)\n",
    "        #print(identifier_distrib.shape)\n",
    "        identifier_row = np.array([identifier_for_row] * len(columns_series_selected))\n",
    "        #print(identifier_row.shape)\n",
    "        result_values = row[columns_series_selected].values.reshape(-1,1)\n",
    "        \n",
    "        columns_series_selected = [column_selected.split('_')[1] for column_selected in columns_series_selected]\n",
    "        columns_series_selected = np.array(columns_series_selected).reshape(-1,1)\n",
    "        #print(result_values.shape)\n",
    "        results = np.hstack([identifier_row, identifier_distrib, columns_series_selected, result_values])\n",
    "        results_list.append(results)\n",
    "        #print(row[columns_series_selected].values.reshape(-1,1))\n",
    "        #print(row.index)\n",
    "        \n",
    "#print(identifier_distrib.shape)\n",
    "#print(identifier_row.shape)\n",
    "#print(result_values.shape)\n",
    "    \n",
    "results_complete_distributions_extended_columns = deepcopy(colmuns_identifier)\n",
    "results_complete_distributions_extended_columns.append('distribution')\n",
    "results_complete_distributions_extended_columns.append('score_identifier')\n",
    "results_complete_distributions_extended_columns.append('score')\n",
    "#print(len(results_complete_distributions_extended_columns))\n",
    "#print(np.array(results_list).shape)\n",
    "results_array = np.vstack(results_list)\n",
    "#print(results_array.shape)\n",
    "\n",
    "\n",
    "results_complete_distributions_extended = pd.DataFrame(data=results_array, columns=results_complete_distributions_extended_columns)\n",
    "results_complete_distributions_extended = results_complete_distributions_extended.query(\"score_identifier == 'dt' or distribution == 'uniform'\") \n",
    "results_complete_distributions_extended['dt_score_identifier'] = results_complete_distributions_extended['distribution'] + '_' + results_complete_distributions_extended['score_identifier']\n",
    "#results_complete_distributions_extended = results_complete_distributions_extended.loc[results_complete_distributions_extended['score_identifier'] == 'dt']\n",
    "\n",
    "\n",
    "#print(results_complete_distributions_extended.shape)\n",
    "results_complete_distributions_extended.head(5)"
   ]
  },
  {
   "cell_type": "code",
   "execution_count": null,
   "id": "6a694e6f-a15f-4910-92c1-1e4d476068a2",
   "metadata": {
    "execution": {
     "iopub.status.busy": "2022-03-09T07:08:45.381057Z",
     "iopub.status.idle": "2022-03-09T07:08:45.381404Z",
     "shell.execute_reply": "2022-03-09T07:08:45.381254Z",
     "shell.execute_reply.started": "2022-03-09T07:08:45.381235Z"
    },
    "tags": []
   },
   "outputs": [],
   "source": [
    "def plot_results_v2(data_reduced, col, x, y, hue, plot_type=sns.barplot):\n",
    "    \n",
    "    #sns.set(rc={'figure.figsize':(20,10)})\n",
    "    \n",
    "    g = sns.FacetGrid(data_reduced, \n",
    "                      col=col,\n",
    "                      ##hue='scores_type', \n",
    "                      #height=5, \n",
    "                      col_wrap=1,\n",
    "                      aspect=5,\n",
    "                      ##legend_out=False,\n",
    "                     )\n",
    "    \n",
    "    \n",
    "    g.map(plot_type, \n",
    "          x, \n",
    "          y, \n",
    "          hue,\n",
    "          hue_order=np.unique(data_reduced[hue]),\n",
    "          ##figsize=(20,10),\n",
    "          palette=sns.color_palette(),#'colorblind'\n",
    "          ##order=np.unique(results_summary_reduced_accuracy_plot[\"scores_type\"]),\n",
    "         )\n",
    "    g.add_legend(fontsize=12,\n",
    "               ncol=3,\n",
    "               bbox_to_anchor=(0.5, -0.025),\n",
    "               borderaxespad=0)    \n",
    "    \n",
    "    return plt.gcf()"
   ]
  },
  {
   "cell_type": "code",
   "execution_count": null,
   "id": "63cb77f2-ef0b-4d73-849e-ff3b33dcbbee",
   "metadata": {
    "execution": {
     "iopub.status.busy": "2022-03-09T07:08:45.382312Z",
     "iopub.status.idle": "2022-03-09T07:08:45.382629Z",
     "shell.execute_reply": "2022-03-09T07:08:45.382481Z",
     "shell.execute_reply.started": "2022-03-09T07:08:45.382462Z"
    },
    "tags": []
   },
   "outputs": [],
   "source": [
    "plot = plot_results_v2(\n",
    "                 #data_reduced=results_complete_distributions_extended[results_complete_distributions_extended['data_number_of_variables'] == 5],\n",
    "                 data_reduced=results_complete_distributions_extended,\n",
    "                 col='scores_type',\n",
    "                 x='data_number_of_variables',\n",
    "                 y='score',\n",
    "                 hue='dt_score_identifier',\n",
    "                 plot_type=sns.boxplot\n",
    "                )    \n",
    "\n",
    "plt.savefig('./evaluation_results/results_complete_distributions_extended.pdf', bbox_inches = 'tight', pad_inches = 0)"
   ]
  },
  {
   "cell_type": "code",
   "execution_count": null,
   "id": "07ca19e1-ab28-442e-bb91-dc47528cf037",
   "metadata": {},
   "outputs": [],
   "source": []
  },
  {
   "cell_type": "code",
   "execution_count": null,
   "id": "ca688ee1-d4c2-4894-8780-82129def7a76",
   "metadata": {},
   "outputs": [],
   "source": []
  },
  {
   "cell_type": "code",
   "execution_count": null,
   "id": "16625373-f613-4dba-9b59-76307655d0b9",
   "metadata": {},
   "outputs": [],
   "source": []
  }
 ],
 "metadata": {
  "kernelspec": {
   "display_name": "Python 3 (ipykernel)",
   "language": "python",
   "name": "python3"
  },
  "language_info": {
   "codemirror_mode": {
    "name": "ipython",
    "version": 3
   },
   "file_extension": ".py",
   "mimetype": "text/x-python",
   "name": "python",
   "nbconvert_exporter": "python",
   "pygments_lexer": "ipython3",
   "version": "3.8.0"
  }
 },
 "nbformat": 4,
 "nbformat_minor": 5
}
