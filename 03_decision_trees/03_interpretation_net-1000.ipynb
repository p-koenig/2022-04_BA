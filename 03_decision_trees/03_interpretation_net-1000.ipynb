{
 "cells": [
  {
   "cell_type": "markdown",
   "metadata": {},
   "source": [
    "# Inerpretation-Net Training"
   ]
  },
  {
   "cell_type": "markdown",
   "metadata": {},
   "source": [
    "## Specitication of Experiment Settings"
   ]
  },
  {
   "cell_type": "code",
   "execution_count": 1,
   "metadata": {
    "execution": {
     "iopub.execute_input": "2021-11-22T08:39:14.576790Z",
     "iopub.status.busy": "2021-11-22T08:39:14.575771Z",
     "iopub.status.idle": "2021-11-22T08:39:14.619947Z",
     "shell.execute_reply": "2021-11-22T08:39:14.618139Z",
     "shell.execute_reply.started": "2021-11-22T08:39:14.576622Z"
    },
    "tags": []
   },
   "outputs": [],
   "source": [
    "#######################################################################################################################################\n",
    "###################################################### CONFIG FILE ####################################################################\n",
    "#######################################################################################################################################\n",
    "sleep_time = 0 #minutes\n",
    "\n",
    "\n",
    "\n",
    "config = {\n",
    "    'function_family': {\n",
    "        'maximum_depth': 4,\n",
    "        'beta': 1,\n",
    "        'decision_sparsity': 1,\n",
    "        'fully_grown': True,    \n",
    "        'dt_type': 'vanilla', #'vanilla', 'SDT'\n",
    "    },\n",
    "    'data': {\n",
    "        'number_of_variables': 5, \n",
    "        'num_classes': 2,\n",
    "        \n",
    "        'function_generation_type': 'random_decision_tree_trained',# 'make_classification', 'make_classification_trained', 'random_decision_tree', 'random_decision_tree_trained'\n",
    "        'objective': 'classification', # 'regression'\n",
    "        \n",
    "        'x_max': 1,\n",
    "        'x_min': 0,\n",
    "        'x_distrib': 'uniform', #'normal', 'uniform',       \n",
    "                \n",
    "        'lambda_dataset_size': 5000, #number of samples per function\n",
    "        #'number_of_generated_datasets': 10000,\n",
    "        \n",
    "        'noise_injected_level': 0, \n",
    "        'noise_injected_type': 'flip_percentage', # '' 'normal' 'uniform' 'normal_range' 'uniform_range'\n",
    "    }, \n",
    "    'lambda_net': {\n",
    "        'epochs_lambda': 1000,\n",
    "        'early_stopping_lambda': True, \n",
    "        'early_stopping_min_delta_lambda': 1e-2,\n",
    "        'batch_lambda': 64,\n",
    "        'dropout_lambda': 0,\n",
    "        'lambda_network_layers': [128],\n",
    "        'optimizer_lambda': 'adam',\n",
    "        'loss_lambda': 'binary_crossentropy', #categorical_crossentropy\n",
    "        \n",
    "        'number_of_lambda_weights': None,\n",
    "        \n",
    "        'number_initializations_lambda': 1, \n",
    "        \n",
    "        'number_of_trained_lambda_nets': 1000,\n",
    "    },     \n",
    "    \n",
    "    'i_net': {\n",
    "        'dense_layers': [4096, 2048, 1024, 512],\n",
    "        'convolution_layers': None,\n",
    "        'lstm_layers': None,\n",
    "        'dropout': [0, 0, 0, 0],\n",
    "        \n",
    "        'optimizer': 'adam', #adam\n",
    "        'learning_rate': 0.001,\n",
    "        'loss': 'binary_crossentropy',\n",
    "        'metrics': ['binary_accuracy'],\n",
    "        \n",
    "        'epochs': 200, \n",
    "        'early_stopping': True,\n",
    "        'batch_size': 256,\n",
    "\n",
    "        'interpretation_dataset_size': 1000,\n",
    "                \n",
    "        'test_size': 50, #Float for fraction, Int for number 0\n",
    "        \n",
    "        'function_representation_type': 2, # 1=standard representation; 2=sparse representation\n",
    "        'normalize_lambda_nets': False,\n",
    "\n",
    "        'optimize_decision_function': True, #False\n",
    "        'function_value_loss': True, #False\n",
    "                      \n",
    "        'data_reshape_version': None, #default to 2 options:(None, 0,1 2)\n",
    "        \n",
    "        'nas': False,\n",
    "        'nas_type': 'SEQUENTIAL', #options:(None, 'SEQUENTIAL', 'CNN', 'LSTM', 'CNN-LSTM', 'CNN-LSTM-parallel')      \n",
    "        'nas_trials': 50,\n",
    "    },    \n",
    "    \n",
    "    'evaluation': {   \n",
    "        #'inet_holdout_seed_evaluation': False,\n",
    "            \n",
    "        'random_evaluation_dataset_size': 500, \n",
    "        'per_network_optimization_dataset_size': 5000,\n",
    "\n",
    "        'sklearn_dt_benchmark': False,\n",
    "        'sdt_benchmark': False,\n",
    "        \n",
    "        'different_eval_data': True,\n",
    "        \n",
    "        'eval_data_description': {\n",
    "            ######### data #########\n",
    "            'eval_data_function_generation_type': 'make_classification',\n",
    "            'eval_data_lambda_dataset_size': 5000, #number of samples per function\n",
    "            'eval_data_noise_injected_level': 0, \n",
    "            'eval_data_noise_injected_type': 'flip_percentage', # '' 'normal' 'uniform' 'normal_range' 'uniform_range'     \n",
    "            ######### lambda_net #########\n",
    "            'eval_data_number_of_trained_lambda_nets': 100,\n",
    "            ######### i_net #########\n",
    "            'eval_data_interpretation_dataset_size': 100,\n",
    "            \n",
    "        }\n",
    "        \n",
    "    },    \n",
    "    \n",
    "    'computation':{\n",
    "        'load_model': False,\n",
    "        'n_jobs': 10,\n",
    "        'use_gpu': False,\n",
    "        'gpu_numbers': '1',\n",
    "        'RANDOM_SEED': 42,   \n",
    "    }\n",
    "}\n"
   ]
  },
  {
   "cell_type": "markdown",
   "metadata": {},
   "source": [
    "## Imports"
   ]
  },
  {
   "cell_type": "code",
   "execution_count": 2,
   "metadata": {
    "execution": {
     "iopub.execute_input": "2021-11-22T08:39:14.622492Z",
     "iopub.status.busy": "2021-11-22T08:39:14.622045Z",
     "iopub.status.idle": "2021-11-22T08:39:14.635455Z",
     "shell.execute_reply": "2021-11-22T08:39:14.634012Z",
     "shell.execute_reply.started": "2021-11-22T08:39:14.622435Z"
    }
   },
   "outputs": [],
   "source": [
    "#######################################################################################################################################\n",
    "########################################### IMPORT GLOBAL VARIABLES FROM CONFIG #######################################################\n",
    "#######################################################################################################################################\n",
    "globals().update(config['function_family'])\n",
    "globals().update(config['data'])\n",
    "globals().update(config['lambda_net'])\n",
    "globals().update(config['i_net'])\n",
    "globals().update(config['evaluation'])\n",
    "globals().update(config['computation'])"
   ]
  },
  {
   "cell_type": "code",
   "execution_count": 3,
   "metadata": {
    "ExecuteTime": {
     "end_time": "2021-01-08T11:56:36.233201Z",
     "start_time": "2021-01-08T11:56:36.208062Z"
    },
    "execution": {
     "iopub.execute_input": "2021-11-22T08:39:14.638336Z",
     "iopub.status.busy": "2021-11-22T08:39:14.637886Z",
     "iopub.status.idle": "2021-11-22T08:39:18.544566Z",
     "shell.execute_reply": "2021-11-22T08:39:18.543135Z",
     "shell.execute_reply.started": "2021-11-22T08:39:14.638279Z"
    }
   },
   "outputs": [],
   "source": [
    "#######################################################################################################################################\n",
    "##################################################### IMPORT LIBRARIES ################################################################\n",
    "#######################################################################################################################################\n",
    "import warnings\n",
    "warnings.filterwarnings('ignore')\n",
    "import os\n",
    "os.environ['TF_CPP_MIN_LOG_LEVEL'] = '2' \n",
    "\n",
    "from itertools import product       \n",
    "from tqdm.notebook import tqdm\n",
    "import pickle\n",
    "import numpy as np\n",
    "import pandas as pd\n",
    "import scipy as sp\n",
    "import timeit\n",
    "import psutil\n",
    "\n",
    "from functools import reduce\n",
    "from more_itertools import random_product \n",
    "from sklearn.preprocessing import Normalizer\n",
    "\n",
    "import sys\n",
    "import shutil\n",
    "\n",
    "import logging\n",
    "from copy import deepcopy\n",
    "#from prettytable import PrettyTable\n",
    "#import colored\n",
    "import math\n",
    "\n",
    "import time\n",
    "from datetime import datetime\n",
    "from collections.abc import Iterable\n",
    "\n",
    "\n",
    "from joblib import Parallel, delayed\n",
    "\n",
    "from scipy.integrate import quad\n",
    "\n",
    "from sklearn.model_selection import cross_val_score, train_test_split, StratifiedKFold, KFold, ParameterGrid, ParameterSampler\n",
    "from sklearn.metrics import accuracy_score, log_loss, roc_auc_score, f1_score, mean_absolute_error, r2_score, log_loss\n",
    "from sklearn.tree import DecisionTreeClassifier, plot_tree\n",
    "from sklearn.compose import ColumnTransformer\n",
    "from sklearn.preprocessing import OneHotEncoder, MinMaxScaler, LabelEncoder, OrdinalEncoder\n",
    "\n",
    "\n",
    "#from similaritymeasures import frechet_dist, area_between_two_curves, dtw\n",
    "import tensorflow as tf\n",
    "tf.get_logger().setLevel('WARNING')\n",
    "tf.autograph.set_verbosity(2)\n",
    "\n",
    "#import tensorflow_addons as tfa\n",
    "#import keras\n",
    "from tensorflow.keras import Sequential\n",
    "from tensorflow.keras.layers import Dense, Dropout\n",
    "from tensorflow.keras.utils import plot_model\n",
    "from tensorflow.keras.callbacks import EarlyStopping, ModelCheckpoint, ReduceLROnPlateau\n",
    "\n",
    "\n",
    "import tensorflow.keras.backend as K\n",
    "from livelossplot import PlotLossesKerasTF\n",
    "#from keras_tqdm import TQDMNotebookCallback\n",
    "\n",
    "from matplotlib import pyplot as plt\n",
    "import seaborn as sns\n",
    "\n",
    "\n",
    "import random \n",
    "\n",
    "\n",
    "\n",
    "from IPython.display import Image\n",
    "from IPython.display import display, Math, Latex, clear_output\n",
    "\n"
   ]
  },
  {
   "cell_type": "code",
   "execution_count": 4,
   "metadata": {
    "execution": {
     "iopub.execute_input": "2021-11-22T08:39:18.547366Z",
     "iopub.status.busy": "2021-11-22T08:39:18.547162Z",
     "iopub.status.idle": "2021-11-22T08:39:18.556776Z",
     "shell.execute_reply": "2021-11-22T08:39:18.555572Z",
     "shell.execute_reply.started": "2021-11-22T08:39:18.547340Z"
    }
   },
   "outputs": [
    {
     "data": {
      "text/plain": [
       "'2.6.0'"
      ]
     },
     "execution_count": 4,
     "metadata": {},
     "output_type": "execute_result"
    }
   ],
   "source": [
    "tf.__version__"
   ]
  },
  {
   "cell_type": "code",
   "execution_count": 5,
   "metadata": {
    "execution": {
     "iopub.execute_input": "2021-11-22T08:39:18.558046Z",
     "iopub.status.busy": "2021-11-22T08:39:18.557854Z",
     "iopub.status.idle": "2021-11-22T08:39:18.564339Z",
     "shell.execute_reply": "2021-11-22T08:39:18.563285Z",
     "shell.execute_reply.started": "2021-11-22T08:39:18.558022Z"
    }
   },
   "outputs": [],
   "source": [
    "#######################################################################################################################################\n",
    "########################################### IMPORT GLOBAL VARIABLES FROM CONFIG #######################################################\n",
    "#######################################################################################################################################\n",
    "globals().update(config['function_family'])\n",
    "globals().update(config['data'])\n",
    "globals().update(config['lambda_net'])\n",
    "globals().update(config['evaluation'])\n",
    "globals().update(config['computation'])"
   ]
  },
  {
   "cell_type": "code",
   "execution_count": 6,
   "metadata": {
    "execution": {
     "iopub.execute_input": "2021-11-22T08:39:18.565820Z",
     "iopub.status.busy": "2021-11-22T08:39:18.565636Z",
     "iopub.status.idle": "2021-11-22T08:39:18.576635Z",
     "shell.execute_reply": "2021-11-22T08:39:18.575534Z",
     "shell.execute_reply.started": "2021-11-22T08:39:18.565797Z"
    },
    "tags": []
   },
   "outputs": [],
   "source": [
    "#######################################################################################################################################\n",
    "################################################### VARIABLE ADJUSTMENTS ##############################################################\n",
    "#######################################################################################################################################\n",
    "\n",
    "config['i_net']['data_reshape_version'] = 2 if data_reshape_version == None and (convolution_layers != None or lstm_layers != None or (nas and nas_type != 'SEQUENTIAL')) else data_reshape_version\n",
    "\n",
    "#######################################################################################################################################\n",
    "###################################################### SET VARIABLES + DESIGN #########################################################\n",
    "#######################################################################################################################################\n",
    "\n",
    "#os.environ['TF_CPP_MIN_LOG_LEVEL'] = '2' \n",
    "os.environ['CUDA_VISIBLE_DEVICES'] = gpu_numbers if use_gpu else ''\n",
    "os.environ['TF_FORCE_GPU_ALLOW_GROWTH'] = 'true' if use_gpu else ''\n",
    "\n",
    "#os.environ['XLA_FLAGS'] =  '--xla_gpu_cuda_data_dir=/usr/local/cuda-10.1'\n",
    "\n",
    "#os.environ['XLA_FLAGS'] = '--tf_xla_enable_xla_devices'\n",
    "#os.environ['TF_XLA_FLAGS'] = '--tf_xla_enable_xla_devices'\n",
    "\n",
    "os.environ['XLA_FLAGS'] = '--xla_gpu_cuda_data_dir=/usr/local/cuda-11.4' if use_gpu else ''#-10.1' #--xla_gpu_cuda_data_dir=/usr/local/cuda, \n",
    "os.environ['TF_XLA_FLAGS'] = '--tf_xla_auto_jit=2 ,--tf_xla_enable_xla_devices' if use_gpu else ''#'--tf_xla_auto_jit=2' #, --tf_xla_enable_xla_devices\n",
    "\n",
    "\n",
    "sns.set_style(\"darkgrid\")\n",
    "\n",
    "random.seed(RANDOM_SEED)\n",
    "np.random.seed(RANDOM_SEED)\n",
    "if int(tf.__version__[0]) >= 2:\n",
    "    tf.random.set_seed(RANDOM_SEED)\n",
    "else:\n",
    "    tf.set_random_seed(RANDOM_SEED)\n",
    "    \n",
    "    \n",
    "pd.set_option('display.float_format', lambda x: '%.3f' % x)\n",
    "pd.set_option('display.max_columns', 200)\n",
    "np.set_printoptions(threshold=200)\n",
    "np.set_printoptions(suppress=True)\n",
    "\n"
   ]
  },
  {
   "cell_type": "code",
   "execution_count": 7,
   "metadata": {
    "execution": {
     "iopub.execute_input": "2021-11-22T08:39:18.578213Z",
     "iopub.status.busy": "2021-11-22T08:39:18.578017Z",
     "iopub.status.idle": "2021-11-22T08:39:20.155560Z",
     "shell.execute_reply": "2021-11-22T08:39:20.154275Z",
     "shell.execute_reply.started": "2021-11-22T08:39:18.578189Z"
    },
    "tags": []
   },
   "outputs": [],
   "source": [
    "from utilities.InterpretationNet import *\n",
    "from utilities.LambdaNet import *\n",
    "from utilities.metrics import *\n",
    "from utilities.utility_functions import *\n",
    "from utilities.DecisionTree_BASIC import *\n",
    "\n",
    "#######################################################################################################################################\n",
    "####################################################### CONFIG ADJUSTMENTS ############################################################\n",
    "#######################################################################################################################################\n",
    "\n",
    "config['lambda_net']['number_of_lambda_weights'] = get_number_of_lambda_net_parameters(lambda_network_layers, number_of_variables, num_classes)\n",
    "config['function_family']['basic_function_representation_length'] = get_number_of_function_parameters(dt_type, maximum_depth, number_of_variables, num_classes)\n",
    "config['function_family']['function_representation_length'] = ( \n",
    "       ((2 ** maximum_depth - 1) * decision_sparsity) * 2 + (2 ** maximum_depth - 1) + (2 ** maximum_depth) * num_classes  if function_representation_type == 1 and dt_type == 'SDT'\n",
    "  else (2 ** maximum_depth - 1) * decision_sparsity + (2 ** maximum_depth - 1) + ((2 ** maximum_depth - 1)  * decision_sparsity * number_of_variables) + (2 ** maximum_depth) * num_classes if function_representation_type == 2 and dt_type == 'SDT'\n",
    "  else ((2 ** maximum_depth - 1) * decision_sparsity) * 2 + (2 ** maximum_depth)  if function_representation_type == 1 and dt_type == 'vanilla'\n",
    "  else (2 ** maximum_depth - 1) * decision_sparsity + ((2 ** maximum_depth - 1)  * decision_sparsity * number_of_variables) + (2 ** maximum_depth) if function_representation_type == 2 and dt_type == 'vanilla'\n",
    "  else None\n",
    "                                                            )\n",
    "#######################################################################################################################################\n",
    "################################################## UPDATE VARIABLES ###################################################################\n",
    "#######################################################################################################################################\n",
    "globals().update(config['function_family'])\n",
    "globals().update(config['data'])\n",
    "globals().update(config['lambda_net'])\n",
    "globals().update(config['i_net'])\n",
    "globals().update(config['evaluation'])\n",
    "globals().update(config['computation'])\n",
    "\n",
    "#initialize_LambdaNet_config_from_curent_notebook(config)\n",
    "#initialize_metrics_config_from_curent_notebook(config)\n",
    "#initialize_utility_functions_config_from_curent_notebook(config)\n",
    "#initialize_InterpretationNet_config_from_curent_notebook(config)\n",
    "\n",
    "\n",
    "#######################################################################################################################################\n",
    "###################################################### PATH + FOLDER CREATION #########################################################\n",
    "#######################################################################################################################################\n",
    "globals().update(generate_paths(config, path_type='interpretation_net'))\n",
    "\n",
    "create_folders_inet(config)\n",
    "\n",
    "#######################################################################################################################################\n",
    "############################################################ SLEEP TIMER ##############################################################\n",
    "#######################################################################################################################################\n",
    "sleep_minutes(sleep_time)"
   ]
  },
  {
   "cell_type": "code",
   "execution_count": 8,
   "metadata": {
    "execution": {
     "iopub.execute_input": "2021-11-22T08:39:20.157225Z",
     "iopub.status.busy": "2021-11-22T08:39:20.157024Z",
     "iopub.status.idle": "2021-11-22T08:39:20.163939Z",
     "shell.execute_reply": "2021-11-22T08:39:20.162687Z",
     "shell.execute_reply.started": "2021-11-22T08:39:20.157197Z"
    }
   },
   "outputs": [
    {
     "name": "stdout",
     "output_type": "stream",
     "text": [
      "lNetSize5000_numLNets1000_var5_class2_random_decision_tree_trained_xMax1_xMin0_xDistuniform_depth4_beta1_decisionSpars1_vanilla_fullyGrown/128_e1000ES0.01_b64_drop0_adam_binary_crossentropy_fixedInit1-seed42/inet_dense4096-2048-1024-512_drop0-0-0-0e200b256_adam\n",
      "lNetSize5000_numLNets1000_var5_class2_random_decision_tree_trained_xMax1_xMin0_xDistuniform_depth4_beta1_decisionSpars1_vanilla_fullyGrown/128_e1000ES0.01_b64_drop0_adam_binary_crossentropy_fixedInit1-seed42\n"
     ]
    }
   ],
   "source": [
    "print(path_identifier_interpretation_net)\n",
    "\n",
    "print(path_identifier_lambda_net_data)\n"
   ]
  },
  {
   "cell_type": "code",
   "execution_count": 9,
   "metadata": {
    "ExecuteTime": {
     "end_time": "2021-01-05T08:33:49.600530Z",
     "start_time": "2021-01-05T08:33:49.583928Z"
    },
    "execution": {
     "iopub.execute_input": "2021-11-22T08:39:20.165319Z",
     "iopub.status.busy": "2021-11-22T08:39:20.165129Z",
     "iopub.status.idle": "2021-11-22T08:39:20.173858Z",
     "shell.execute_reply": "2021-11-22T08:39:20.172713Z",
     "shell.execute_reply.started": "2021-11-22T08:39:20.165295Z"
    }
   },
   "outputs": [
    {
     "name": "stdout",
     "output_type": "stream",
     "text": [
      "Num GPUs Available:  0\n",
      "Num XLA-GPUs Available:  0\n"
     ]
    }
   ],
   "source": [
    "print(\"Num GPUs Available: \", len(tf.config.experimental.list_physical_devices('GPU')))\n",
    "print(\"Num XLA-GPUs Available: \", len(tf.config.experimental.list_physical_devices('XLA_GPU')))"
   ]
  },
  {
   "cell_type": "markdown",
   "metadata": {},
   "source": [
    "## Load Data and Generate Datasets"
   ]
  },
  {
   "cell_type": "code",
   "execution_count": 10,
   "metadata": {
    "ExecuteTime": {
     "end_time": "2021-01-05T08:33:49.994944Z",
     "start_time": "2021-01-05T08:33:49.957264Z"
    },
    "code_folding": [],
    "execution": {
     "iopub.execute_input": "2021-11-22T08:39:20.175547Z",
     "iopub.status.busy": "2021-11-22T08:39:20.175194Z",
     "iopub.status.idle": "2021-11-22T08:39:20.188709Z",
     "shell.execute_reply": "2021-11-22T08:39:20.187462Z",
     "shell.execute_reply.started": "2021-11-22T08:39:20.175521Z"
    },
    "tags": []
   },
   "outputs": [],
   "source": [
    "def load_lambda_nets(config, no_noise=False, n_jobs=1):\n",
    "    \n",
    "    #def generate_lambda_net()\n",
    "    \n",
    "    #if psutil.virtual_memory().percent > 80:\n",
    "        #raise SystemExit(\"Out of RAM!\")\n",
    "    \n",
    "    if no_noise==True:\n",
    "        config['noise_injected_level'] = 0\n",
    "    path_dict = generate_paths(config, path_type='interpretation_net')        \n",
    "        \n",
    "    directory = './data/weights/' + 'weights_' + path_dict['path_identifier_lambda_net_data'] + '/'\n",
    "    path_network_parameters = directory + 'weights' + '.txt'\n",
    "    #path_X_data = directory + 'X_test_lambda.txt'\n",
    "    #path_y_data = directory + 'y_test_lambda.txt'        \n",
    "    \n",
    "    network_parameters = pd.read_csv(path_network_parameters, sep=\",\", header=None)\n",
    "    network_parameters = network_parameters.sort_values(by=0)\n",
    "    if no_noise == False:\n",
    "        network_parameters = network_parameters.sample(n=config['i_net']['interpretation_dataset_size'], random_state=config['computation']['RANDOM_SEED'])\n",
    "    \n",
    "    #X_test_lambda = pd.read_csv(path_X_data, sep=\",\", header=None)\n",
    "    #X_test_lambda = X_test_lambda.sort_values(by=0)\n",
    "    #if no_noise == False:\n",
    "    #    X_test_lambda = X_test_lambda.sample(n=config['i_net']['interpretation_dataset_size'], random_state=config['computation']['RANDOM_SEED'])\n",
    "    \n",
    "    #y_test_lambda = pd.read_csv(path_y_data, sep=\",\", header=None)\n",
    "    #y_test_lambda = y_test_lambda.sort_values(by=0)\n",
    "    #if no_noise == False:\n",
    "    #    y_test_lambda = y_test_lambda.sample(n=config['i_net']['interpretation_dataset_size'], random_state=config['computation']['RANDOM_SEED'])\n",
    "        \n",
    "        \n",
    "    parallel = Parallel(n_jobs=n_jobs, verbose=3, backend='loky') #loky\n",
    "\n",
    "    lambda_nets = parallel(delayed(LambdaNet)(network_parameters_row, \n",
    "                                              #X_test_lambda_row, \n",
    "                                              #y_test_lambda_row, \n",
    "                                              config) for network_parameters_row in network_parameters.values)          \n",
    "    del parallel\n",
    "    \n",
    "    base_model = generate_base_model(config)  \n",
    "    \n",
    "    def initialize_network_wrapper(config, lambda_net, base_model):\n",
    "        lambda_net.initialize_network(config, base_model)\n",
    "    \n",
    "    parallel = Parallel(n_jobs=n_jobs, verbose=3, backend='sequential')\n",
    "    _ = parallel(delayed(initialize_network_wrapper)(config, lambda_net, base_model) for lambda_net in lambda_nets)   \n",
    "    del parallel\n",
    "    \n",
    "    def initialize_target_function_wrapper(config, lambda_net):\n",
    "        lambda_net.initialize_target_function(config)\n",
    "    \n",
    "    parallel = Parallel(n_jobs=n_jobs, verbose=3, backend='sequential')\n",
    "    _ = parallel(delayed(initialize_target_function_wrapper)(config, lambda_net) for lambda_net in lambda_nets)   \n",
    "    del parallel\n",
    "                \n",
    "    lambda_net_dataset = LambdaNetDataset(lambda_nets)\n",
    "        \n",
    "    return lambda_net_dataset\n",
    "    "
   ]
  },
  {
   "cell_type": "code",
   "execution_count": 11,
   "metadata": {
    "ExecuteTime": {
     "end_time": "2021-01-05T09:29:48.869797Z",
     "start_time": "2021-01-05T08:33:49.997149Z"
    },
    "execution": {
     "iopub.execute_input": "2021-11-22T08:39:20.190091Z",
     "iopub.status.busy": "2021-11-22T08:39:20.189894Z",
     "iopub.status.idle": "2021-11-22T08:39:51.499194Z",
     "shell.execute_reply": "2021-11-22T08:39:51.492880Z",
     "shell.execute_reply.started": "2021-11-22T08:39:20.190067Z"
    },
    "tags": []
   },
   "outputs": [
    {
     "name": "stderr",
     "output_type": "stream",
     "text": [
      "[Parallel(n_jobs=10)]: Using backend LokyBackend with 10 concurrent workers.\n",
      "[Parallel(n_jobs=10)]: Done  12 tasks      | elapsed:    6.2s\n",
      "[Parallel(n_jobs=10)]: Done 244 tasks      | elapsed:    6.3s\n",
      "[Parallel(n_jobs=10)]: Done 1000 out of 1000 | elapsed:    6.5s finished\n",
      "[Parallel(n_jobs=10)]: Using backend SequentialBackend with 1 concurrent workers.\n",
      "[Parallel(n_jobs=10)]: Done   1 out of   1 | elapsed:    0.0s remaining:    0.0s\n",
      "[Parallel(n_jobs=10)]: Done   2 out of   2 | elapsed:    0.1s remaining:    0.0s\n",
      "[Parallel(n_jobs=10)]: Done 1000 out of 1000 | elapsed:   23.2s finished\n",
      "[Parallel(n_jobs=10)]: Using backend SequentialBackend with 1 concurrent workers.\n",
      "[Parallel(n_jobs=10)]: Done   1 out of   1 | elapsed:    0.0s remaining:    0.0s\n",
      "[Parallel(n_jobs=10)]: Done   2 out of   2 | elapsed:    0.0s remaining:    0.0s\n",
      "[Parallel(n_jobs=10)]: Done 1000 out of 1000 | elapsed:    0.1s finished\n"
     ]
    },
    {
     "ename": "FileNotFoundError",
     "evalue": "[Errno 2] No such file or directory: './data/weights/weights_lNetSize5000_numLNets1000_var5_class2_make_classification_xMax1_xMin0_xDistuniform_depth4_beta1_decisionSpars1_vanilla_fullyGrown/128_e1000ES0.01_b64_drop0_adam_binary_crossentropy_fixedInit1-seed42/weights.txt'",
     "output_type": "error",
     "traceback": [
      "\u001b[0;31m---------------------------------------------------------------------------\u001b[0m",
      "\u001b[0;31mFileNotFoundError\u001b[0m                         Traceback (most recent call last)",
      "\u001b[0;32m/tmp/ipykernel_1426135/511883548.py\u001b[0m in \u001b[0;36m<module>\u001b[0;34m\u001b[0m\n\u001b[1;32m     13\u001b[0m \u001b[0;34m\u001b[0m\u001b[0m\n\u001b[1;32m     14\u001b[0m     \u001b[0mlambda_net_dataset_train\u001b[0m \u001b[0;34m=\u001b[0m \u001b[0mload_lambda_nets\u001b[0m\u001b[0;34m(\u001b[0m\u001b[0mconfig_train\u001b[0m\u001b[0;34m,\u001b[0m \u001b[0mn_jobs\u001b[0m\u001b[0;34m=\u001b[0m\u001b[0mn_jobs\u001b[0m\u001b[0;34m)\u001b[0m\u001b[0;34m\u001b[0m\u001b[0;34m\u001b[0m\u001b[0m\n\u001b[0;32m---> 15\u001b[0;31m     \u001b[0mlambda_net_dataset_eval\u001b[0m \u001b[0;34m=\u001b[0m \u001b[0mload_lambda_nets\u001b[0m\u001b[0;34m(\u001b[0m\u001b[0mconfig_eval\u001b[0m\u001b[0;34m,\u001b[0m \u001b[0mn_jobs\u001b[0m\u001b[0;34m=\u001b[0m\u001b[0mn_jobs\u001b[0m\u001b[0;34m)\u001b[0m\u001b[0;34m\u001b[0m\u001b[0;34m\u001b[0m\u001b[0m\n\u001b[0m\u001b[1;32m     16\u001b[0m \u001b[0;34m\u001b[0m\u001b[0m\n\u001b[1;32m     17\u001b[0m     \u001b[0mlambda_net_dataset_valid\u001b[0m\u001b[0;34m,\u001b[0m \u001b[0mlambda_net_dataset_test\u001b[0m \u001b[0;34m=\u001b[0m \u001b[0msplit_LambdaNetDataset\u001b[0m\u001b[0;34m(\u001b[0m\u001b[0mlambda_net_dataset_eval\u001b[0m\u001b[0;34m,\u001b[0m \u001b[0mtest_split\u001b[0m\u001b[0;34m=\u001b[0m\u001b[0mtest_size\u001b[0m\u001b[0;34m)\u001b[0m\u001b[0;34m\u001b[0m\u001b[0;34m\u001b[0m\u001b[0m\n",
      "\u001b[0;32m/tmp/ipykernel_1426135/2337761035.py\u001b[0m in \u001b[0;36mload_lambda_nets\u001b[0;34m(config, no_noise, n_jobs)\u001b[0m\n\u001b[1;32m     15\u001b[0m     \u001b[0;31m#path_y_data = directory + 'y_test_lambda.txt'\u001b[0m\u001b[0;34m\u001b[0m\u001b[0;34m\u001b[0m\u001b[0;34m\u001b[0m\u001b[0m\n\u001b[1;32m     16\u001b[0m \u001b[0;34m\u001b[0m\u001b[0m\n\u001b[0;32m---> 17\u001b[0;31m     \u001b[0mnetwork_parameters\u001b[0m \u001b[0;34m=\u001b[0m \u001b[0mpd\u001b[0m\u001b[0;34m.\u001b[0m\u001b[0mread_csv\u001b[0m\u001b[0;34m(\u001b[0m\u001b[0mpath_network_parameters\u001b[0m\u001b[0;34m,\u001b[0m \u001b[0msep\u001b[0m\u001b[0;34m=\u001b[0m\u001b[0;34m\",\"\u001b[0m\u001b[0;34m,\u001b[0m \u001b[0mheader\u001b[0m\u001b[0;34m=\u001b[0m\u001b[0;32mNone\u001b[0m\u001b[0;34m)\u001b[0m\u001b[0;34m\u001b[0m\u001b[0;34m\u001b[0m\u001b[0m\n\u001b[0m\u001b[1;32m     18\u001b[0m     \u001b[0mnetwork_parameters\u001b[0m \u001b[0;34m=\u001b[0m \u001b[0mnetwork_parameters\u001b[0m\u001b[0;34m.\u001b[0m\u001b[0msort_values\u001b[0m\u001b[0;34m(\u001b[0m\u001b[0mby\u001b[0m\u001b[0;34m=\u001b[0m\u001b[0;36m0\u001b[0m\u001b[0;34m)\u001b[0m\u001b[0;34m\u001b[0m\u001b[0;34m\u001b[0m\u001b[0m\n\u001b[1;32m     19\u001b[0m     \u001b[0;32mif\u001b[0m \u001b[0mno_noise\u001b[0m \u001b[0;34m==\u001b[0m \u001b[0;32mFalse\u001b[0m\u001b[0;34m:\u001b[0m\u001b[0;34m\u001b[0m\u001b[0;34m\u001b[0m\u001b[0m\n",
      "\u001b[0;32m~/anaconda3/envs/XAI/lib/python3.8/site-packages/pandas/util/_decorators.py\u001b[0m in \u001b[0;36mwrapper\u001b[0;34m(*args, **kwargs)\u001b[0m\n\u001b[1;32m    309\u001b[0m                     \u001b[0mstacklevel\u001b[0m\u001b[0;34m=\u001b[0m\u001b[0mstacklevel\u001b[0m\u001b[0;34m,\u001b[0m\u001b[0;34m\u001b[0m\u001b[0;34m\u001b[0m\u001b[0m\n\u001b[1;32m    310\u001b[0m                 )\n\u001b[0;32m--> 311\u001b[0;31m             \u001b[0;32mreturn\u001b[0m \u001b[0mfunc\u001b[0m\u001b[0;34m(\u001b[0m\u001b[0;34m*\u001b[0m\u001b[0margs\u001b[0m\u001b[0;34m,\u001b[0m \u001b[0;34m**\u001b[0m\u001b[0mkwargs\u001b[0m\u001b[0;34m)\u001b[0m\u001b[0;34m\u001b[0m\u001b[0;34m\u001b[0m\u001b[0m\n\u001b[0m\u001b[1;32m    312\u001b[0m \u001b[0;34m\u001b[0m\u001b[0m\n\u001b[1;32m    313\u001b[0m         \u001b[0;32mreturn\u001b[0m \u001b[0mwrapper\u001b[0m\u001b[0;34m\u001b[0m\u001b[0;34m\u001b[0m\u001b[0m\n",
      "\u001b[0;32m~/anaconda3/envs/XAI/lib/python3.8/site-packages/pandas/io/parsers/readers.py\u001b[0m in \u001b[0;36mread_csv\u001b[0;34m(filepath_or_buffer, sep, delimiter, header, names, index_col, usecols, squeeze, prefix, mangle_dupe_cols, dtype, engine, converters, true_values, false_values, skipinitialspace, skiprows, skipfooter, nrows, na_values, keep_default_na, na_filter, verbose, skip_blank_lines, parse_dates, infer_datetime_format, keep_date_col, date_parser, dayfirst, cache_dates, iterator, chunksize, compression, thousands, decimal, lineterminator, quotechar, quoting, doublequote, escapechar, comment, encoding, encoding_errors, dialect, error_bad_lines, warn_bad_lines, on_bad_lines, delim_whitespace, low_memory, memory_map, float_precision, storage_options)\u001b[0m\n\u001b[1;32m    584\u001b[0m     \u001b[0mkwds\u001b[0m\u001b[0;34m.\u001b[0m\u001b[0mupdate\u001b[0m\u001b[0;34m(\u001b[0m\u001b[0mkwds_defaults\u001b[0m\u001b[0;34m)\u001b[0m\u001b[0;34m\u001b[0m\u001b[0;34m\u001b[0m\u001b[0m\n\u001b[1;32m    585\u001b[0m \u001b[0;34m\u001b[0m\u001b[0m\n\u001b[0;32m--> 586\u001b[0;31m     \u001b[0;32mreturn\u001b[0m \u001b[0m_read\u001b[0m\u001b[0;34m(\u001b[0m\u001b[0mfilepath_or_buffer\u001b[0m\u001b[0;34m,\u001b[0m \u001b[0mkwds\u001b[0m\u001b[0;34m)\u001b[0m\u001b[0;34m\u001b[0m\u001b[0;34m\u001b[0m\u001b[0m\n\u001b[0m\u001b[1;32m    587\u001b[0m \u001b[0;34m\u001b[0m\u001b[0m\n\u001b[1;32m    588\u001b[0m \u001b[0;34m\u001b[0m\u001b[0m\n",
      "\u001b[0;32m~/anaconda3/envs/XAI/lib/python3.8/site-packages/pandas/io/parsers/readers.py\u001b[0m in \u001b[0;36m_read\u001b[0;34m(filepath_or_buffer, kwds)\u001b[0m\n\u001b[1;32m    480\u001b[0m \u001b[0;34m\u001b[0m\u001b[0m\n\u001b[1;32m    481\u001b[0m     \u001b[0;31m# Create the parser.\u001b[0m\u001b[0;34m\u001b[0m\u001b[0;34m\u001b[0m\u001b[0;34m\u001b[0m\u001b[0m\n\u001b[0;32m--> 482\u001b[0;31m     \u001b[0mparser\u001b[0m \u001b[0;34m=\u001b[0m \u001b[0mTextFileReader\u001b[0m\u001b[0;34m(\u001b[0m\u001b[0mfilepath_or_buffer\u001b[0m\u001b[0;34m,\u001b[0m \u001b[0;34m**\u001b[0m\u001b[0mkwds\u001b[0m\u001b[0;34m)\u001b[0m\u001b[0;34m\u001b[0m\u001b[0;34m\u001b[0m\u001b[0m\n\u001b[0m\u001b[1;32m    483\u001b[0m \u001b[0;34m\u001b[0m\u001b[0m\n\u001b[1;32m    484\u001b[0m     \u001b[0;32mif\u001b[0m \u001b[0mchunksize\u001b[0m \u001b[0;32mor\u001b[0m \u001b[0miterator\u001b[0m\u001b[0;34m:\u001b[0m\u001b[0;34m\u001b[0m\u001b[0;34m\u001b[0m\u001b[0m\n",
      "\u001b[0;32m~/anaconda3/envs/XAI/lib/python3.8/site-packages/pandas/io/parsers/readers.py\u001b[0m in \u001b[0;36m__init__\u001b[0;34m(self, f, engine, **kwds)\u001b[0m\n\u001b[1;32m    809\u001b[0m             \u001b[0mself\u001b[0m\u001b[0;34m.\u001b[0m\u001b[0moptions\u001b[0m\u001b[0;34m[\u001b[0m\u001b[0;34m\"has_index_names\"\u001b[0m\u001b[0;34m]\u001b[0m \u001b[0;34m=\u001b[0m \u001b[0mkwds\u001b[0m\u001b[0;34m[\u001b[0m\u001b[0;34m\"has_index_names\"\u001b[0m\u001b[0;34m]\u001b[0m\u001b[0;34m\u001b[0m\u001b[0;34m\u001b[0m\u001b[0m\n\u001b[1;32m    810\u001b[0m \u001b[0;34m\u001b[0m\u001b[0m\n\u001b[0;32m--> 811\u001b[0;31m         \u001b[0mself\u001b[0m\u001b[0;34m.\u001b[0m\u001b[0m_engine\u001b[0m \u001b[0;34m=\u001b[0m \u001b[0mself\u001b[0m\u001b[0;34m.\u001b[0m\u001b[0m_make_engine\u001b[0m\u001b[0;34m(\u001b[0m\u001b[0mself\u001b[0m\u001b[0;34m.\u001b[0m\u001b[0mengine\u001b[0m\u001b[0;34m)\u001b[0m\u001b[0;34m\u001b[0m\u001b[0;34m\u001b[0m\u001b[0m\n\u001b[0m\u001b[1;32m    812\u001b[0m \u001b[0;34m\u001b[0m\u001b[0m\n\u001b[1;32m    813\u001b[0m     \u001b[0;32mdef\u001b[0m \u001b[0mclose\u001b[0m\u001b[0;34m(\u001b[0m\u001b[0mself\u001b[0m\u001b[0;34m)\u001b[0m\u001b[0;34m:\u001b[0m\u001b[0;34m\u001b[0m\u001b[0;34m\u001b[0m\u001b[0m\n",
      "\u001b[0;32m~/anaconda3/envs/XAI/lib/python3.8/site-packages/pandas/io/parsers/readers.py\u001b[0m in \u001b[0;36m_make_engine\u001b[0;34m(self, engine)\u001b[0m\n\u001b[1;32m   1038\u001b[0m             )\n\u001b[1;32m   1039\u001b[0m         \u001b[0;31m# error: Too many arguments for \"ParserBase\"\u001b[0m\u001b[0;34m\u001b[0m\u001b[0;34m\u001b[0m\u001b[0;34m\u001b[0m\u001b[0m\n\u001b[0;32m-> 1040\u001b[0;31m         \u001b[0;32mreturn\u001b[0m \u001b[0mmapping\u001b[0m\u001b[0;34m[\u001b[0m\u001b[0mengine\u001b[0m\u001b[0;34m]\u001b[0m\u001b[0;34m(\u001b[0m\u001b[0mself\u001b[0m\u001b[0;34m.\u001b[0m\u001b[0mf\u001b[0m\u001b[0;34m,\u001b[0m \u001b[0;34m**\u001b[0m\u001b[0mself\u001b[0m\u001b[0;34m.\u001b[0m\u001b[0moptions\u001b[0m\u001b[0;34m)\u001b[0m  \u001b[0;31m# type: ignore[call-arg]\u001b[0m\u001b[0;34m\u001b[0m\u001b[0;34m\u001b[0m\u001b[0m\n\u001b[0m\u001b[1;32m   1041\u001b[0m \u001b[0;34m\u001b[0m\u001b[0m\n\u001b[1;32m   1042\u001b[0m     \u001b[0;32mdef\u001b[0m \u001b[0m_failover_to_python\u001b[0m\u001b[0;34m(\u001b[0m\u001b[0mself\u001b[0m\u001b[0;34m)\u001b[0m\u001b[0;34m:\u001b[0m\u001b[0;34m\u001b[0m\u001b[0;34m\u001b[0m\u001b[0m\n",
      "\u001b[0;32m~/anaconda3/envs/XAI/lib/python3.8/site-packages/pandas/io/parsers/c_parser_wrapper.py\u001b[0m in \u001b[0;36m__init__\u001b[0;34m(self, src, **kwds)\u001b[0m\n\u001b[1;32m     49\u001b[0m \u001b[0;34m\u001b[0m\u001b[0m\n\u001b[1;32m     50\u001b[0m         \u001b[0;31m# open handles\u001b[0m\u001b[0;34m\u001b[0m\u001b[0;34m\u001b[0m\u001b[0;34m\u001b[0m\u001b[0m\n\u001b[0;32m---> 51\u001b[0;31m         \u001b[0mself\u001b[0m\u001b[0;34m.\u001b[0m\u001b[0m_open_handles\u001b[0m\u001b[0;34m(\u001b[0m\u001b[0msrc\u001b[0m\u001b[0;34m,\u001b[0m \u001b[0mkwds\u001b[0m\u001b[0;34m)\u001b[0m\u001b[0;34m\u001b[0m\u001b[0;34m\u001b[0m\u001b[0m\n\u001b[0m\u001b[1;32m     52\u001b[0m         \u001b[0;32massert\u001b[0m \u001b[0mself\u001b[0m\u001b[0;34m.\u001b[0m\u001b[0mhandles\u001b[0m \u001b[0;32mis\u001b[0m \u001b[0;32mnot\u001b[0m \u001b[0;32mNone\u001b[0m\u001b[0;34m\u001b[0m\u001b[0;34m\u001b[0m\u001b[0m\n\u001b[1;32m     53\u001b[0m \u001b[0;34m\u001b[0m\u001b[0m\n",
      "\u001b[0;32m~/anaconda3/envs/XAI/lib/python3.8/site-packages/pandas/io/parsers/base_parser.py\u001b[0m in \u001b[0;36m_open_handles\u001b[0;34m(self, src, kwds)\u001b[0m\n\u001b[1;32m    220\u001b[0m         \u001b[0mLet\u001b[0m \u001b[0mthe\u001b[0m \u001b[0mreaders\u001b[0m \u001b[0mopen\u001b[0m \u001b[0mIOHandles\u001b[0m \u001b[0mafter\u001b[0m \u001b[0mthey\u001b[0m \u001b[0mare\u001b[0m \u001b[0mdone\u001b[0m \u001b[0;32mwith\u001b[0m \u001b[0mtheir\u001b[0m \u001b[0mpotential\u001b[0m \u001b[0mraises\u001b[0m\u001b[0;34m.\u001b[0m\u001b[0;34m\u001b[0m\u001b[0;34m\u001b[0m\u001b[0m\n\u001b[1;32m    221\u001b[0m         \"\"\"\n\u001b[0;32m--> 222\u001b[0;31m         self.handles = get_handle(\n\u001b[0m\u001b[1;32m    223\u001b[0m             \u001b[0msrc\u001b[0m\u001b[0;34m,\u001b[0m\u001b[0;34m\u001b[0m\u001b[0;34m\u001b[0m\u001b[0m\n\u001b[1;32m    224\u001b[0m             \u001b[0;34m\"r\"\u001b[0m\u001b[0;34m,\u001b[0m\u001b[0;34m\u001b[0m\u001b[0;34m\u001b[0m\u001b[0m\n",
      "\u001b[0;32m~/anaconda3/envs/XAI/lib/python3.8/site-packages/pandas/io/common.py\u001b[0m in \u001b[0;36mget_handle\u001b[0;34m(path_or_buf, mode, encoding, compression, memory_map, is_text, errors, storage_options)\u001b[0m\n\u001b[1;32m    700\u001b[0m         \u001b[0;32mif\u001b[0m \u001b[0mioargs\u001b[0m\u001b[0;34m.\u001b[0m\u001b[0mencoding\u001b[0m \u001b[0;32mand\u001b[0m \u001b[0;34m\"b\"\u001b[0m \u001b[0;32mnot\u001b[0m \u001b[0;32min\u001b[0m \u001b[0mioargs\u001b[0m\u001b[0;34m.\u001b[0m\u001b[0mmode\u001b[0m\u001b[0;34m:\u001b[0m\u001b[0;34m\u001b[0m\u001b[0;34m\u001b[0m\u001b[0m\n\u001b[1;32m    701\u001b[0m             \u001b[0;31m# Encoding\u001b[0m\u001b[0;34m\u001b[0m\u001b[0;34m\u001b[0m\u001b[0;34m\u001b[0m\u001b[0m\n\u001b[0;32m--> 702\u001b[0;31m             handle = open(\n\u001b[0m\u001b[1;32m    703\u001b[0m                 \u001b[0mhandle\u001b[0m\u001b[0;34m,\u001b[0m\u001b[0;34m\u001b[0m\u001b[0;34m\u001b[0m\u001b[0m\n\u001b[1;32m    704\u001b[0m                 \u001b[0mioargs\u001b[0m\u001b[0;34m.\u001b[0m\u001b[0mmode\u001b[0m\u001b[0;34m,\u001b[0m\u001b[0;34m\u001b[0m\u001b[0;34m\u001b[0m\u001b[0m\n",
      "\u001b[0;31mFileNotFoundError\u001b[0m: [Errno 2] No such file or directory: './data/weights/weights_lNetSize5000_numLNets1000_var5_class2_make_classification_xMax1_xMin0_xDistuniform_depth4_beta1_decisionSpars1_vanilla_fullyGrown/128_e1000ES0.01_b64_drop0_adam_binary_crossentropy_fixedInit1-seed42/weights.txt'"
     ]
    }
   ],
   "source": [
    "#LOAD DATA\n",
    "if different_eval_data:\n",
    "    config_train = deepcopy(config)\n",
    "    config_eval = deepcopy(config)\n",
    "    \n",
    "    config_eval['data']['function_generation_type'] = config['evaluation']['eval_data_description']['eval_data_function_generation_type']\n",
    "    config_eval['data']['lambda_dataset_size'] = config['evaluation']['eval_data_description']['eval_data_lambda_dataset_size']\n",
    "    config_eval['data']['noise_injected_level'] = config['evaluation']['eval_data_description']['eval_data_noise_injected_level']\n",
    "    config_eval['data']['noise_injected_type'] = config['evaluation']['eval_data_description']['eval_data_noise_injected_type'] \n",
    "    config_eval['lambda_net']['number_of_trained_lambda_nets'] = config['evaluation']['eval_data_description']['eval_data_number_of_trained_lambda_nets']   \n",
    "    config_eval['i_net']['interpretation_dataset_size'] = config['evaluation']['eval_data_description']['eval_data_interpretation_dataset_size']   \n",
    "    \n",
    "\n",
    "    lambda_net_dataset_train = load_lambda_nets(config_train, n_jobs=n_jobs)\n",
    "    lambda_net_dataset_eval = load_lambda_nets(config_eval, n_jobs=n_jobs)\n",
    "\n",
    "    lambda_net_dataset_valid, lambda_net_dataset_test = split_LambdaNetDataset(lambda_net_dataset_eval, test_split=test_size)    \n",
    "else:\n",
    "    lambda_net_dataset = load_lambda_nets(config, n_jobs=n_jobs)\n",
    "\n",
    "    lambda_net_dataset_train_with_valid, lambda_net_dataset_test = split_LambdaNetDataset(lambda_net_dataset, test_split=test_size)\n",
    "    lambda_net_dataset_train, lambda_net_dataset_valid = split_LambdaNetDataset(lambda_net_dataset_train_with_valid, test_split=0.1)    "
   ]
  },
  {
   "cell_type": "markdown",
   "metadata": {
    "ExecuteTime": {
     "end_time": "2020-09-16T18:01:21.350996Z",
     "start_time": "2020-09-16T18:01:21.343717Z"
    }
   },
   "source": [
    "## Data Inspection"
   ]
  },
  {
   "cell_type": "code",
   "execution_count": null,
   "metadata": {
    "execution": {
     "iopub.status.busy": "2021-11-22T08:39:51.500224Z",
     "iopub.status.idle": "2021-11-22T08:39:51.500563Z",
     "shell.execute_reply": "2021-11-22T08:39:51.500380Z",
     "shell.execute_reply.started": "2021-11-22T08:39:51.500363Z"
    }
   },
   "outputs": [],
   "source": [
    "lambda_net_dataset_train.shape"
   ]
  },
  {
   "cell_type": "code",
   "execution_count": null,
   "metadata": {
    "execution": {
     "iopub.status.busy": "2021-11-22T08:39:51.502589Z",
     "iopub.status.idle": "2021-11-22T08:39:51.502899Z",
     "shell.execute_reply": "2021-11-22T08:39:51.502740Z",
     "shell.execute_reply.started": "2021-11-22T08:39:51.502723Z"
    }
   },
   "outputs": [],
   "source": [
    "lambda_net_dataset_valid.shape"
   ]
  },
  {
   "cell_type": "code",
   "execution_count": null,
   "metadata": {
    "execution": {
     "iopub.status.busy": "2021-11-22T08:39:51.504120Z",
     "iopub.status.idle": "2021-11-22T08:39:51.504442Z",
     "shell.execute_reply": "2021-11-22T08:39:51.504266Z",
     "shell.execute_reply.started": "2021-11-22T08:39:51.504250Z"
    }
   },
   "outputs": [],
   "source": [
    "lambda_net_dataset_test.shape"
   ]
  },
  {
   "cell_type": "code",
   "execution_count": null,
   "metadata": {
    "ExecuteTime": {
     "end_time": "2021-01-05T09:34:04.155343Z",
     "start_time": "2021-01-05T09:33:11.544785Z"
    },
    "execution": {
     "iopub.status.busy": "2021-11-22T08:39:51.505833Z",
     "iopub.status.idle": "2021-11-22T08:39:51.506139Z",
     "shell.execute_reply": "2021-11-22T08:39:51.505980Z",
     "shell.execute_reply.started": "2021-11-22T08:39:51.505963Z"
    }
   },
   "outputs": [],
   "source": [
    "lambda_net_dataset_train.as_pandas(config).head()"
   ]
  },
  {
   "cell_type": "code",
   "execution_count": null,
   "metadata": {
    "ExecuteTime": {
     "end_time": "2021-01-05T09:34:07.407453Z",
     "start_time": "2021-01-05T09:34:04.157787Z"
    },
    "execution": {
     "iopub.status.busy": "2021-11-22T08:39:51.507273Z",
     "iopub.status.idle": "2021-11-22T08:39:51.507574Z",
     "shell.execute_reply": "2021-11-22T08:39:51.507418Z",
     "shell.execute_reply.started": "2021-11-22T08:39:51.507402Z"
    }
   },
   "outputs": [],
   "source": [
    "lambda_net_dataset_valid.as_pandas(config).head()"
   ]
  },
  {
   "cell_type": "code",
   "execution_count": null,
   "metadata": {
    "ExecuteTime": {
     "end_time": "2021-01-05T09:34:10.970350Z",
     "start_time": "2021-01-05T09:34:07.411246Z"
    },
    "execution": {
     "iopub.status.busy": "2021-11-22T08:39:51.508653Z",
     "iopub.status.idle": "2021-11-22T08:39:51.508953Z",
     "shell.execute_reply": "2021-11-22T08:39:51.508798Z",
     "shell.execute_reply.started": "2021-11-22T08:39:51.508782Z"
    }
   },
   "outputs": [],
   "source": [
    "lambda_net_dataset_test.as_pandas(config).head()"
   ]
  },
  {
   "cell_type": "markdown",
   "metadata": {},
   "source": [
    "## Interpretation Network Training"
   ]
  },
  {
   "cell_type": "code",
   "execution_count": null,
   "metadata": {
    "execution": {
     "iopub.status.busy": "2021-11-22T08:39:51.509854Z",
     "iopub.status.idle": "2021-11-22T08:39:51.510151Z",
     "shell.execute_reply": "2021-11-22T08:39:51.509999Z",
     "shell.execute_reply.started": "2021-11-22T08:39:51.509983Z"
    }
   },
   "outputs": [],
   "source": [
    "#%load_ext autoreload"
   ]
  },
  {
   "cell_type": "code",
   "execution_count": null,
   "metadata": {
    "execution": {
     "iopub.status.busy": "2021-11-22T08:39:51.511372Z",
     "iopub.status.idle": "2021-11-22T08:39:51.511677Z",
     "shell.execute_reply": "2021-11-22T08:39:51.511519Z",
     "shell.execute_reply.started": "2021-11-22T08:39:51.511503Z"
    },
    "tags": []
   },
   "outputs": [],
   "source": [
    "#%autoreload 2\n",
    "((X_valid, y_valid), \n",
    " (X_test, y_test),\n",
    " \n",
    " history,\n",
    " loss_function,\n",
    " metrics,\n",
    " \n",
    " model) = interpretation_net_training(\n",
    "                                      lambda_net_dataset_train, \n",
    "                                      lambda_net_dataset_valid, \n",
    "                                      lambda_net_dataset_test,\n",
    "                                      config,\n",
    "                                      #callback_names=['plot_losses']\n",
    "                                     )\n",
    "\n"
   ]
  },
  {
   "cell_type": "code",
   "execution_count": null,
   "metadata": {
    "execution": {
     "iopub.status.busy": "2021-11-22T08:39:51.512822Z",
     "iopub.status.idle": "2021-11-22T08:39:51.513122Z",
     "shell.execute_reply": "2021-11-22T08:39:51.512967Z",
     "shell.execute_reply.started": "2021-11-22T08:39:51.512951Z"
    },
    "tags": []
   },
   "outputs": [],
   "source": [
    "model.summary()"
   ]
  },
  {
   "cell_type": "code",
   "execution_count": null,
   "metadata": {
    "execution": {
     "iopub.status.busy": "2021-11-22T08:39:51.514522Z",
     "iopub.status.idle": "2021-11-22T08:39:51.514827Z",
     "shell.execute_reply": "2021-11-22T08:39:51.514670Z",
     "shell.execute_reply.started": "2021-11-22T08:39:51.514653Z"
    }
   },
   "outputs": [],
   "source": [
    "index = 3\n",
    "network_parameters = np.array([lambda_net_dataset_test.network_parameters_array[index]])\n",
    "if (config['i_net']['convolution_layers'] != None or config['i_net']['lstm_layers'] != None or (config['i_net']['nas'] and config['i_net']['nas_type'] != 'SEQUENTIAL')) and config['i_net']['data_reshape_version'] is not None:\n",
    "    network_parameters, network_parameters_flat = restructure_data_cnn_lstm(network_parameters, config, subsequences=None)\n",
    "dt_parameters = model.predict(network_parameters)[0]\n",
    "image, nodes = anytree_decision_tree_from_parameters(dt_parameters, config=config)\n",
    "image"
   ]
  },
  {
   "cell_type": "code",
   "execution_count": null,
   "metadata": {
    "execution": {
     "iopub.status.busy": "2021-11-22T08:39:51.516097Z",
     "iopub.status.idle": "2021-11-22T08:39:51.516419Z",
     "shell.execute_reply": "2021-11-22T08:39:51.516244Z",
     "shell.execute_reply.started": "2021-11-22T08:39:51.516228Z"
    }
   },
   "outputs": [],
   "source": [
    "model.summary()"
   ]
  },
  {
   "cell_type": "code",
   "execution_count": null,
   "metadata": {
    "execution": {
     "iopub.status.busy": "2021-11-22T08:39:51.517453Z",
     "iopub.status.idle": "2021-11-22T08:39:51.517760Z",
     "shell.execute_reply": "2021-11-22T08:39:51.517602Z",
     "shell.execute_reply.started": "2021-11-22T08:39:51.517586Z"
    }
   },
   "outputs": [],
   "source": [
    "if nas:\n",
    "    for trial in history: \n",
    "        print(trial.summary())\n",
    "else:\n",
    "    plt.plot(history['loss'])\n",
    "    plt.plot(history['val_loss'])\n",
    "    plt.title('model loss')\n",
    "    plt.ylabel('loss')\n",
    "    plt.xlabel('epoch')\n",
    "    plt.legend(['train', 'valid'], loc='upper left')    "
   ]
  },
  {
   "cell_type": "code",
   "execution_count": null,
   "metadata": {
    "execution": {
     "iopub.status.busy": "2021-11-22T08:39:51.518812Z",
     "iopub.status.idle": "2021-11-22T08:39:51.519110Z",
     "shell.execute_reply": "2021-11-22T08:39:51.518956Z",
     "shell.execute_reply.started": "2021-11-22T08:39:51.518940Z"
    }
   },
   "outputs": [],
   "source": [
    "#%load_ext autoreload"
   ]
  },
  {
   "cell_type": "code",
   "execution_count": null,
   "metadata": {
    "tags": []
   },
   "outputs": [],
   "source": []
  },
  {
   "cell_type": "code",
   "execution_count": null,
   "metadata": {
    "execution": {
     "iopub.status.busy": "2021-11-22T08:39:51.520140Z",
     "iopub.status.idle": "2021-11-22T08:39:51.520476Z",
     "shell.execute_reply": "2021-11-22T08:39:51.520286Z",
     "shell.execute_reply.started": "2021-11-22T08:39:51.520270Z"
    },
    "tags": []
   },
   "outputs": [],
   "source": [
    "dt_inet = model.predict(np.array([lambda_net_dataset_test.network_parameters_array[0]]))[0]\n",
    "dt_inet.shape"
   ]
  },
  {
   "cell_type": "code",
   "execution_count": null,
   "metadata": {
    "execution": {
     "iopub.status.busy": "2021-11-22T08:39:51.521475Z",
     "iopub.status.idle": "2021-11-22T08:39:51.521781Z",
     "shell.execute_reply": "2021-11-22T08:39:51.521623Z",
     "shell.execute_reply.started": "2021-11-22T08:39:51.521607Z"
    },
    "tags": []
   },
   "outputs": [],
   "source": [
    "%load_ext autoreload"
   ]
  },
  {
   "cell_type": "code",
   "execution_count": null,
   "metadata": {
    "execution": {
     "iopub.status.busy": "2021-11-22T08:39:51.523077Z",
     "iopub.status.idle": "2021-11-22T08:39:51.523377Z",
     "shell.execute_reply": "2021-11-22T08:39:51.523223Z",
     "shell.execute_reply.started": "2021-11-22T08:39:51.523207Z"
    }
   },
   "outputs": [],
   "source": [
    "import logging\n",
    "tf.get_logger().setLevel(logging.ERROR)"
   ]
  },
  {
   "cell_type": "code",
   "execution_count": null,
   "metadata": {
    "execution": {
     "iopub.status.busy": "2021-11-22T08:39:51.524698Z",
     "iopub.status.idle": "2021-11-22T08:39:51.525011Z",
     "shell.execute_reply": "2021-11-22T08:39:51.524854Z",
     "shell.execute_reply.started": "2021-11-22T08:39:51.524838Z"
    },
    "tags": []
   },
   "outputs": [],
   "source": [
    "%autoreload 2\n",
    "number = lambda_net_dataset_test.X_test_lambda_array.shape[0]#10\n",
    "\n",
    "dt_inet_list = model.predict(lambda_net_dataset_test.network_parameters_array[:number])\n",
    "\n",
    "parallel_inet_evaluation = Parallel(n_jobs=n_jobs, verbose=1, backend='loky') #loky #sequential multiprocessing\n",
    "\n",
    "inet_evaluation_results = parallel_inet_evaluation(delayed(evaluate_interpretation_net_prediction_single_sample)(lambda_net_parameters, \n",
    "                                                                                                                   dt_inet,\n",
    "                                                                                                                   X_test_lambda, \n",
    "                                                                                                                   #y_test_lambda,\n",
    "                                                                                                                   config) for lambda_net_parameters, \n",
    "                                                                                                                                       dt_inet, \n",
    "                                                                                                                                       X_test_lambda in zip(lambda_net_dataset_test.network_parameters_array[:number], \n",
    "                                                                                                                                                            dt_inet_list, \n",
    "                                                                                                                                                            lambda_net_dataset_test.X_test_lambda_array[:number]))      \n",
    "\n",
    "del parallel_inet_evaluation\n",
    "\n",
    "\n",
    "inet_evaluation_result_dict = None\n",
    "for some_dict in inet_evaluation_results:\n",
    "    if inet_evaluation_result_dict == None:\n",
    "        inet_evaluation_result_dict = some_dict\n",
    "    else:\n",
    "        inet_evaluation_result_dict = mergeDict(inet_evaluation_result_dict, some_dict)\n",
    "\n",
    "inet_evaluation_result_dict_mean = {}\n",
    "\n",
    "for key_l1, values_l1 in inet_evaluation_result_dict.items():\n",
    "    if key_l1 != 'function_values':\n",
    "        if isinstance(values_l1, dict):\n",
    "            inet_evaluation_result_dict_mean[key_l1] = {}\n",
    "            for key_l2, values_l2 in values_l1.items():\n",
    "                inet_evaluation_result_dict_mean[key_l1][key_l2] = np.mean(values_l2)\n",
    "\n",
    "                \n",
    "inet_evaluation_result_dict_mean  \n",
    " "
   ]
  },
  {
   "cell_type": "code",
   "execution_count": null,
   "metadata": {
    "execution": {
     "iopub.status.busy": "2021-11-22T08:39:51.526122Z",
     "iopub.status.idle": "2021-11-22T08:39:51.526423Z",
     "shell.execute_reply": "2021-11-22T08:39:51.526266Z",
     "shell.execute_reply.started": "2021-11-22T08:39:51.526250Z"
    }
   },
   "outputs": [],
   "source": [
    "print('Binary Crossentropy:\\t\\t', np.round(inet_evaluation_result_dict_mean['inet_scores']['binary_crossentropy'], 3), '(Sklearn DT)' , '\\t', np.round(inet_evaluation_result_dict_mean['sklearn_scores']['binary_crossentropy'], 3), '(I-Net DT)')\n",
    "print('Accuracy:\\t\\t', np.round(inet_evaluation_result_dict_mean['inet_scores']['accuracy'], 3), '(Sklearn DT)' , '\\t', np.round(inet_evaluation_result_dict_mean['sklearn_scores']['accuracy'], 3), '(I-Net DT)')\n",
    "print('F1 Score:\\t\\t', np.round(inet_evaluation_result_dict_mean['inet_scores']['f1_score'], 3), '(Sklearn DT)' , '\\t', np.round(inet_evaluation_result_dict_mean['sklearn_scores']['f1_score'], 3), '(I-Net DT)')\n",
    "  "
   ]
  },
  {
   "cell_type": "markdown",
   "metadata": {},
   "source": [
    "# REAL DATA EVALUATION"
   ]
  },
  {
   "cell_type": "markdown",
   "metadata": {},
   "source": [
    "## ADULT DATASET"
   ]
  },
  {
   "cell_type": "code",
   "execution_count": null,
   "metadata": {
    "execution": {
     "iopub.status.busy": "2021-11-22T08:39:51.527530Z",
     "iopub.status.idle": "2021-11-22T08:39:51.527839Z",
     "shell.execute_reply": "2021-11-22T08:39:51.527680Z",
     "shell.execute_reply.started": "2021-11-22T08:39:51.527664Z"
    }
   },
   "outputs": [],
   "source": [
    "feature_names = [\n",
    "                 \"Age\", #0\n",
    "                 \"Workclass\",  #1\n",
    "                 \"fnlwgt\",  #2\n",
    "                 \"Education\",  #3\n",
    "                 \"Education-Num\",  #4\n",
    "                 \"Marital Status\", #5\n",
    "                 \"Occupation\",  #6\n",
    "                 \"Relationship\",  #7\n",
    "                 \"Race\",  #8\n",
    "                 \"Sex\",  #9\n",
    "                 \"Capital Gain\",  #10\n",
    "                 \"Capital Loss\", #11\n",
    "                 \"Hours per week\",  #12\n",
    "                 \"Country\", #13\n",
    "                 \"capital_gain\" #14\n",
    "                ] \n",
    "\n",
    "\n",
    "\n",
    "adult_data = pd.read_csv('https://archive.ics.uci.edu/ml/machine-learning-databases/adult/adult.data', names=feature_names, index_col=False)\n",
    "\n",
    "drop_features = [\n",
    "                 #\"Age\", #0\n",
    "                 \"Workclass\",  #1\n",
    "                 \"fnlwgt\",  #2\n",
    "                 \"Education\",  #3\n",
    "                 \"Education-Num\",  #4\n",
    "                 \"Marital Status\", #5\n",
    "                 \"Occupation\",  #6\n",
    "                 \"Relationship\",  #7\n",
    "                 \"Race\",  #8\n",
    "                 #\"Sex\",  #9 \n",
    "                 #\"Capital Gain\",  #10\n",
    "                 #\"Capital Loss\", #11\n",
    "                 \"Hours per week\",  #12\n",
    "                 \"Country\", #13\n",
    "                ]\n",
    "\n",
    "#dataframe = dataframe.drop(drop_features , axis=1)\n",
    "adult_data = adult_data.drop(['Country'] , axis=1)\n",
    "\n",
    "categorical_features = [\n",
    "                        1, #\"Workclass\"\n",
    "                        3, #\"Education\"\n",
    "                        5, #\"Marital Status\"\n",
    "                        6, #\"Occupation\"\n",
    "                        7, #\"Relationship\"\n",
    "                        8, #\"Race\"\n",
    "                        9, #\"Sex\"\n",
    "                        #13, #\"Country\n",
    "                       ] \n",
    "\n"
   ]
  },
  {
   "cell_type": "code",
   "execution_count": null,
   "metadata": {
    "execution": {
     "iopub.status.busy": "2021-11-22T08:39:51.529269Z",
     "iopub.status.idle": "2021-11-22T08:39:51.529577Z",
     "shell.execute_reply": "2021-11-22T08:39:51.529416Z",
     "shell.execute_reply.started": "2021-11-22T08:39:51.529401Z"
    }
   },
   "outputs": [],
   "source": [
    "adult_data"
   ]
  },
  {
   "cell_type": "code",
   "execution_count": null,
   "metadata": {
    "execution": {
     "iopub.status.busy": "2021-11-22T08:39:51.530923Z",
     "iopub.status.idle": "2021-11-22T08:39:51.531230Z",
     "shell.execute_reply": "2021-11-22T08:39:51.531073Z",
     "shell.execute_reply.started": "2021-11-22T08:39:51.531057Z"
    }
   },
   "outputs": [],
   "source": [
    "adult_data.describe()"
   ]
  },
  {
   "cell_type": "code",
   "execution_count": null,
   "metadata": {
    "execution": {
     "iopub.status.busy": "2021-11-22T08:39:51.532589Z",
     "iopub.status.idle": "2021-11-22T08:39:51.532905Z",
     "shell.execute_reply": "2021-11-22T08:39:51.532746Z",
     "shell.execute_reply.started": "2021-11-22T08:39:51.532730Z"
    }
   },
   "outputs": [],
   "source": [
    "adult_data.info()"
   ]
  },
  {
   "cell_type": "code",
   "execution_count": null,
   "metadata": {
    "execution": {
     "iopub.status.busy": "2021-11-22T08:39:51.534235Z",
     "iopub.status.idle": "2021-11-22T08:39:51.534556Z",
     "shell.execute_reply": "2021-11-22T08:39:51.534389Z",
     "shell.execute_reply.started": "2021-11-22T08:39:51.534372Z"
    }
   },
   "outputs": [],
   "source": [
    "adult_data['capital_gain'].value_counts()\n"
   ]
  },
  {
   "cell_type": "code",
   "execution_count": null,
   "metadata": {
    "execution": {
     "iopub.status.busy": "2021-11-22T08:39:51.535591Z",
     "iopub.status.idle": "2021-11-22T08:39:51.535913Z",
     "shell.execute_reply": "2021-11-22T08:39:51.535749Z",
     "shell.execute_reply.started": "2021-11-22T08:39:51.535732Z"
    }
   },
   "outputs": [],
   "source": [
    "adult_data.shape"
   ]
  },
  {
   "cell_type": "code",
   "execution_count": null,
   "metadata": {
    "execution": {
     "iopub.status.busy": "2021-11-22T08:39:51.537346Z",
     "iopub.status.idle": "2021-11-22T08:39:51.537668Z",
     "shell.execute_reply": "2021-11-22T08:39:51.537499Z",
     "shell.execute_reply.started": "2021-11-22T08:39:51.537482Z"
    }
   },
   "outputs": [],
   "source": [
    "y_data_adult = adult_data['capital_gain']\n",
    "le = LabelEncoder()\n",
    "le.fit(y_data_adult)\n",
    "y_data_adult = le.transform(y_data_adult)\n",
    "class_names = le.classes_\n",
    "\n",
    "X_data_adult = adult_data.drop('capital_gain', axis=1)"
   ]
  },
  {
   "cell_type": "code",
   "execution_count": null,
   "metadata": {
    "execution": {
     "iopub.status.busy": "2021-11-22T08:39:51.538958Z",
     "iopub.status.idle": "2021-11-22T08:39:51.539285Z",
     "shell.execute_reply": "2021-11-22T08:39:51.539114Z",
     "shell.execute_reply.started": "2021-11-22T08:39:51.539097Z"
    }
   },
   "outputs": [],
   "source": [
    "print(X_data_adult.shape)"
   ]
  },
  {
   "cell_type": "code",
   "execution_count": null,
   "metadata": {
    "execution": {
     "iopub.status.busy": "2021-11-22T08:39:51.540439Z",
     "iopub.status.idle": "2021-11-22T08:39:51.540760Z",
     "shell.execute_reply": "2021-11-22T08:39:51.540596Z",
     "shell.execute_reply.started": "2021-11-22T08:39:51.540579Z"
    }
   },
   "outputs": [],
   "source": [
    "X_data_adult[:5]"
   ]
  },
  {
   "cell_type": "code",
   "execution_count": null,
   "metadata": {
    "execution": {
     "iopub.status.busy": "2021-11-22T08:39:51.542451Z",
     "iopub.status.idle": "2021-11-22T08:39:51.542773Z",
     "shell.execute_reply": "2021-11-22T08:39:51.542605Z",
     "shell.execute_reply.started": "2021-11-22T08:39:51.542588Z"
    }
   },
   "outputs": [],
   "source": [
    "transformer = ColumnTransformer(transformers=[('cat', OneHotEncoder(), categorical_features)], remainder='passthrough', sparse_threshold=0)\n",
    "transformer.fit(X_data_adult)\n",
    "\n",
    "X_data_adult = transformer.transform(X_data_adult)\n",
    "X_data_adult = X_data_adult.astype(np.float64)\n",
    "X_data_adult = pd.DataFrame(X_data_adult.astype(np.float64), columns=transformer.get_feature_names())\n",
    "X_data_adult.head()"
   ]
  },
  {
   "cell_type": "code",
   "execution_count": null,
   "metadata": {
    "execution": {
     "iopub.status.busy": "2021-11-22T08:39:51.543841Z",
     "iopub.status.idle": "2021-11-22T08:39:51.544163Z",
     "shell.execute_reply": "2021-11-22T08:39:51.543998Z",
     "shell.execute_reply.started": "2021-11-22T08:39:51.543981Z"
    }
   },
   "outputs": [],
   "source": [
    "X_data_adult = X_data_adult.sample(n=number_of_variables,axis='columns')\n",
    "X_data_adult.head()"
   ]
  },
  {
   "cell_type": "code",
   "execution_count": null,
   "metadata": {
    "execution": {
     "iopub.status.busy": "2021-11-22T08:39:51.545384Z",
     "iopub.status.idle": "2021-11-22T08:39:51.545719Z",
     "shell.execute_reply": "2021-11-22T08:39:51.545542Z",
     "shell.execute_reply.started": "2021-11-22T08:39:51.545525Z"
    }
   },
   "outputs": [],
   "source": [
    "normalizer_list = []\n",
    "for column_name in X_data_adult:\n",
    "    scaler = MinMaxScaler()\n",
    "    scaler.fit(X_data_adult[column_name].values.reshape(-1, 1))\n",
    "    X_data_adult[column_name] = scaler.transform(X_data_adult[column_name].values.reshape(-1, 1)).ravel()\n",
    "    normalizer_list.append(scaler)\n",
    "X_data_adult.head()"
   ]
  },
  {
   "cell_type": "code",
   "execution_count": null,
   "metadata": {
    "execution": {
     "iopub.status.busy": "2021-11-22T08:39:51.546750Z",
     "iopub.status.idle": "2021-11-22T08:39:51.547071Z",
     "shell.execute_reply": "2021-11-22T08:39:51.546907Z",
     "shell.execute_reply.started": "2021-11-22T08:39:51.546890Z"
    }
   },
   "outputs": [],
   "source": [
    "print(X_data_adult.shape)"
   ]
  },
  {
   "cell_type": "code",
   "execution_count": null,
   "metadata": {
    "execution": {
     "iopub.status.busy": "2021-11-22T08:39:51.547999Z",
     "iopub.status.idle": "2021-11-22T08:39:51.548315Z",
     "shell.execute_reply": "2021-11-22T08:39:51.548152Z",
     "shell.execute_reply.started": "2021-11-22T08:39:51.548135Z"
    }
   },
   "outputs": [],
   "source": [
    "X_train_adult_with_valid, X_test_adult, y_train_adult_with_valid, y_test_adult = train_test_split(X_data_adult, y_data_adult, train_size=0.8)\n",
    "X_train_adult, X_valid_adult, y_train_adult, y_valid_adult = train_test_split(X_train_adult_with_valid, y_train_adult_with_valid, train_size=0.8)\n"
   ]
  },
  {
   "cell_type": "code",
   "execution_count": null,
   "metadata": {
    "execution": {
     "iopub.status.busy": "2021-11-22T08:39:51.549422Z",
     "iopub.status.idle": "2021-11-22T08:39:51.549744Z",
     "shell.execute_reply": "2021-11-22T08:39:51.549576Z",
     "shell.execute_reply.started": "2021-11-22T08:39:51.549560Z"
    }
   },
   "outputs": [],
   "source": [
    "test_network = generate_lambda_net_from_config(config)\n",
    "\n",
    "early_stopping = tf.keras.callbacks.EarlyStopping(monitor='val_loss', \n",
    "                                                  patience=50, \n",
    "                                                  min_delta=0.001, \n",
    "                                                  verbose=0, \n",
    "                                                  mode='min', \n",
    "                                                  restore_best_weights=True)\n",
    "\n",
    "model_history = test_network.fit(X_train_adult,\n",
    "                                  y_train_adult, \n",
    "                                  epochs=config['lambda_net']['epochs_lambda'], \n",
    "                                  batch_size=config['lambda_net']['batch_lambda'], \n",
    "                                  callbacks=[early_stopping, PlotLossesKerasTF()],\n",
    "                                  validation_data=(X_valid_adult, y_valid_adult),\n",
    "                                  verbose=0)\n",
    "\n"
   ]
  },
  {
   "cell_type": "code",
   "execution_count": null,
   "metadata": {
    "execution": {
     "iopub.status.busy": "2021-11-22T08:39:51.551038Z",
     "iopub.status.idle": "2021-11-22T08:39:51.551368Z",
     "shell.execute_reply": "2021-11-22T08:39:51.551194Z",
     "shell.execute_reply.started": "2021-11-22T08:39:51.551177Z"
    }
   },
   "outputs": [],
   "source": [
    "test_network.summary()"
   ]
  },
  {
   "cell_type": "code",
   "execution_count": null,
   "metadata": {
    "execution": {
     "iopub.status.busy": "2021-11-22T08:39:51.552427Z",
     "iopub.status.idle": "2021-11-22T08:39:51.552751Z",
     "shell.execute_reply": "2021-11-22T08:39:51.552585Z",
     "shell.execute_reply.started": "2021-11-22T08:39:51.552567Z"
    }
   },
   "outputs": [],
   "source": [
    "test_network_parameters = shaped_network_parameters_to_array(test_network.get_weights(), config)\n",
    "test_network_dt_inet = model.predict(np.array([test_network_parameters]))[0]\n",
    "\n",
    "if nas:\n",
    "    test_network_dt_inet = test_network_dt_inet[:function_representation_length]\n",
    "\n",
    "X_data_random = generate_random_data_points_custom(config['data']['x_min'], config['data']['x_max'], config['evaluation']['random_evaluation_dataset_size'], config['data']['number_of_variables'])\n",
    "y_data_random_test_network_pred = test_network.predict(X_data_random)\n",
    "y_data_random_test_network_pred = np.round(y_data_random_test_network_pred).astype(np.int64)\n",
    "\n",
    "dt_sklearn_distilled = DecisionTreeClassifier(max_depth=config['function_family']['maximum_depth'])\n",
    "dt_sklearn_distilled.fit(X_data_random, y_data_random_test_network_pred)\n",
    "\n",
    "\n",
    "if dt_type == 'SDT':\n",
    "    y_test_inet_dt  = calculate_function_value_from_decision_tree_parameters_wrapper(X_test_adult, config)(test_network_dt_inet).numpy()\n",
    "elif dt_type == 'vanilla':\n",
    "    y_test_inet_dt  = calculate_function_value_from_vanilla_decision_tree_parameters_wrapper(X_test_adult, config)(test_network_dt_inet).numpy()\n",
    "y_test_distilled_sklearn_dt = dt_sklearn_distilled.predict(X_test_adult)\n",
    "\n",
    "y_test_test_network_pred = test_network.predict(X_test_adult)\n",
    "y_test_test_network_pred = np.round(y_test_test_network_pred)\n",
    "\n",
    "binary_crossentropy_distilled_sklearn_dt = log_loss(y_test_test_network_pred, y_test_distilled_sklearn_dt, labels=[0,1])\n",
    "accuracy_distilled_sklearn_dt = accuracy_score(y_test_test_network_pred, np.round(y_test_distilled_sklearn_dt))\n",
    "f1_score_distilled_sklearn_dt = f1_score(y_test_test_network_pred, np.round(y_test_distilled_sklearn_dt))\n",
    "\n",
    "binary_crossentropy_inet_dt = log_loss(y_test_test_network_pred, y_test_inet_dt, labels=[0,1])\n",
    "accuracy_inet_dt = accuracy_score(y_test_test_network_pred, np.round(y_test_inet_dt))\n",
    "f1_score_inet_dt = f1_score(y_test_test_network_pred, np.round(y_test_inet_dt))\n",
    "\n",
    "\n",
    "print('Binary Crossentropy:\\t\\t', np.round(binary_crossentropy_distilled_sklearn_dt, 3), '(Sklearn DT)' , '\\t', np.round(binary_crossentropy_inet_dt, 3), '(I-Net DT)')\n",
    "print('Accuracy:\\t\\t', np.round(accuracy_distilled_sklearn_dt, 3), '(Sklearn DT)' , '\\t', np.round(accuracy_inet_dt, 3), '(I-Net DT)')\n",
    "print('F1 Score:\\t\\t', np.round(f1_score_distilled_sklearn_dt, 3), '(Sklearn DT)' , '\\t', np.round(f1_score_inet_dt, 3), '(I-Net DT)')\n",
    "     \n"
   ]
  },
  {
   "cell_type": "code",
   "execution_count": null,
   "metadata": {
    "execution": {
     "iopub.status.busy": "2021-11-22T08:39:51.554235Z",
     "iopub.status.idle": "2021-11-22T08:39:51.554561Z",
     "shell.execute_reply": "2021-11-22T08:39:51.554391Z",
     "shell.execute_reply.started": "2021-11-22T08:39:51.554373Z"
    }
   },
   "outputs": [],
   "source": [
    "splits, leaf_classes = get_shaped_parameters_for_decision_tree(test_network_dt_inet, config)\n",
    "print(splits, leaf_classes)"
   ]
  },
  {
   "cell_type": "code",
   "execution_count": null,
   "metadata": {
    "execution": {
     "iopub.status.busy": "2021-11-22T08:39:51.555734Z",
     "iopub.status.idle": "2021-11-22T08:39:51.556052Z",
     "shell.execute_reply": "2021-11-22T08:39:51.555888Z",
     "shell.execute_reply.started": "2021-11-22T08:39:51.555871Z"
    }
   },
   "outputs": [],
   "source": [
    "#%load_ext autoreload"
   ]
  },
  {
   "cell_type": "code",
   "execution_count": null,
   "metadata": {
    "execution": {
     "iopub.status.busy": "2021-11-22T08:39:51.557151Z",
     "iopub.status.idle": "2021-11-22T08:39:51.557468Z",
     "shell.execute_reply": "2021-11-22T08:39:51.557304Z",
     "shell.execute_reply.started": "2021-11-22T08:39:51.557287Z"
    }
   },
   "outputs": [],
   "source": [
    "#%autoreload 2\n",
    "image, nodes = anytree_decision_tree_from_parameters(test_network_dt_inet, config=config, normalizer_list=normalizer_list)\n",
    "image\n",
    "#tree.show()"
   ]
  },
  {
   "cell_type": "code",
   "execution_count": null,
   "metadata": {
    "execution": {
     "iopub.status.busy": "2021-11-22T08:39:51.558725Z",
     "iopub.status.idle": "2021-11-22T08:39:51.559059Z",
     "shell.execute_reply": "2021-11-22T08:39:51.558883Z",
     "shell.execute_reply.started": "2021-11-22T08:39:51.558866Z"
    }
   },
   "outputs": [],
   "source": [
    "#tree = treelib_decision_tree_from_parameters(test_network_dt_inet, config=config, normalizer_list=normalizer_list)\n",
    "#tree = treelib_decision_tree_from_parameters(test_network_dt_inet, config=config)\n",
    "\n",
    "#tree.show()"
   ]
  },
  {
   "cell_type": "code",
   "execution_count": null,
   "metadata": {
    "execution": {
     "iopub.status.busy": "2021-11-22T08:39:51.560272Z",
     "iopub.status.idle": "2021-11-22T08:39:51.560606Z",
     "shell.execute_reply": "2021-11-22T08:39:51.560436Z",
     "shell.execute_reply.started": "2021-11-22T08:39:51.560419Z"
    }
   },
   "outputs": [],
   "source": [
    "#%autoreload 2\n",
    "image, nodes = anytree_decision_tree_from_parameters(test_network_dt_inet, config=config, normalizer_list=normalizer_list)\n",
    "image\n",
    "#tree.show()"
   ]
  },
  {
   "cell_type": "code",
   "execution_count": null,
   "metadata": {
    "execution": {
     "iopub.status.busy": "2021-11-22T08:39:51.561927Z",
     "iopub.status.idle": "2021-11-22T08:39:51.562257Z",
     "shell.execute_reply": "2021-11-22T08:39:51.562083Z",
     "shell.execute_reply.started": "2021-11-22T08:39:51.562066Z"
    }
   },
   "outputs": [],
   "source": [
    "plt.figure(figsize=(24,12))  # set plot size (denoted in inches)\n",
    "plot_tree(dt_sklearn_distilled, fontsize=12)\n",
    "plt.show()"
   ]
  },
  {
   "cell_type": "markdown",
   "metadata": {},
   "source": [
    "## Titanic Dataset"
   ]
  },
  {
   "cell_type": "code",
   "execution_count": null,
   "metadata": {
    "execution": {
     "iopub.status.busy": "2021-11-22T08:39:51.563239Z",
     "iopub.status.idle": "2021-11-22T08:39:51.563558Z",
     "shell.execute_reply": "2021-11-22T08:39:51.563393Z",
     "shell.execute_reply.started": "2021-11-22T08:39:51.563376Z"
    },
    "tags": []
   },
   "outputs": [],
   "source": [
    "titanic_data = pd.read_csv(\"./real_world_datasets/Titanic/train.csv\")\n",
    "\n",
    "titanic_data.head()"
   ]
  },
  {
   "cell_type": "code",
   "execution_count": null,
   "metadata": {
    "execution": {
     "iopub.status.busy": "2021-11-22T08:39:51.564654Z",
     "iopub.status.idle": "2021-11-22T08:39:51.564983Z",
     "shell.execute_reply": "2021-11-22T08:39:51.564818Z",
     "shell.execute_reply.started": "2021-11-22T08:39:51.564801Z"
    },
    "tags": []
   },
   "outputs": [],
   "source": [
    "titanic_data.describe()"
   ]
  },
  {
   "cell_type": "code",
   "execution_count": null,
   "metadata": {
    "execution": {
     "iopub.status.busy": "2021-11-22T08:39:51.566240Z",
     "iopub.status.idle": "2021-11-22T08:39:51.566570Z",
     "shell.execute_reply": "2021-11-22T08:39:51.566397Z",
     "shell.execute_reply.started": "2021-11-22T08:39:51.566380Z"
    },
    "tags": []
   },
   "outputs": [],
   "source": [
    "titanic_data.info()"
   ]
  },
  {
   "cell_type": "code",
   "execution_count": null,
   "metadata": {
    "execution": {
     "iopub.status.busy": "2021-11-22T08:39:51.568206Z",
     "iopub.status.idle": "2021-11-22T08:39:51.568552Z",
     "shell.execute_reply": "2021-11-22T08:39:51.568364Z",
     "shell.execute_reply.started": "2021-11-22T08:39:51.568346Z"
    },
    "tags": []
   },
   "outputs": [],
   "source": [
    "titanic_data = titanic_data.drop(['Cabin', 'Ticket', 'Name', 'PassengerId'], axis = 1)\n"
   ]
  },
  {
   "cell_type": "code",
   "execution_count": null,
   "metadata": {
    "execution": {
     "iopub.status.busy": "2021-11-22T08:39:51.569619Z",
     "iopub.status.idle": "2021-11-22T08:39:51.569940Z",
     "shell.execute_reply": "2021-11-22T08:39:51.569773Z",
     "shell.execute_reply.started": "2021-11-22T08:39:51.569756Z"
    },
    "tags": []
   },
   "outputs": [],
   "source": [
    "titanic_data.isnull().sum()"
   ]
  },
  {
   "cell_type": "code",
   "execution_count": null,
   "metadata": {
    "execution": {
     "iopub.status.busy": "2021-11-22T08:39:51.571171Z",
     "iopub.status.idle": "2021-11-22T08:39:51.571491Z",
     "shell.execute_reply": "2021-11-22T08:39:51.571323Z",
     "shell.execute_reply.started": "2021-11-22T08:39:51.571306Z"
    },
    "tags": []
   },
   "outputs": [],
   "source": [
    "titanic_data['Age'].fillna(titanic_data['Age'].mean(), inplace = True)\n",
    "#titanic_data['Fare'].fillna(titanic_data['Fare'].mean(), inplace = True)\n",
    "    \n",
    "titanic_data['Embarked'].fillna('S', inplace = True)\n",
    "titanic_data.head()"
   ]
  },
  {
   "cell_type": "markdown",
   "metadata": {},
   "source": [
    "    survival\tSurvival\t0 = No, 1 = Yes\n",
    "    pclass\tTicket class\t1 = 1st, 2 = 2nd, 3 = 3rd\n",
    "    sex\tSex\t\n",
    "    Age\tAge in years\t\n",
    "    sibsp\t# of siblings / spouses aboard the Titanic\t\n",
    "    parch\t# of parents / children aboard the Titanic\t\n",
    "    ticket\tTicket number\t\n",
    "    fare\tPassenger fare\t\n",
    "    cabin\tCabin number\t\n",
    "    embarked\tPort of Embarkation\tC = Cherbourg, Q = Queenstown, S = Southampton"
   ]
  },
  {
   "cell_type": "code",
   "execution_count": null,
   "metadata": {
    "execution": {
     "iopub.status.busy": "2021-11-22T08:39:51.572781Z",
     "iopub.status.idle": "2021-11-22T08:39:51.573099Z",
     "shell.execute_reply": "2021-11-22T08:39:51.572934Z",
     "shell.execute_reply.started": "2021-11-22T08:39:51.572917Z"
    },
    "tags": []
   },
   "outputs": [],
   "source": [
    "features_select = [\n",
    "                    #'Pclass',\n",
    "                    'Sex',    \n",
    "                    'Age',\n",
    "                    'SibSp',    \n",
    "                    'Parch',\n",
    "                    'Fare',    \n",
    "                    #'Embarked',\n",
    "                    'Survived',    \n",
    "                  ]\n",
    "\n",
    "titanic_data = titanic_data[features_select]\n",
    "\n",
    "categorical_features = []#[1, 2, 7]\n",
    "ordinal_features = ['Sex']\n",
    "\n",
    "transformer = ColumnTransformer(transformers=[('cat', OneHotEncoder(), categorical_features)], remainder='passthrough', sparse_threshold=0)\n",
    "transformer.fit(titanic_data)\n",
    "\n",
    "titanic_data = transformer.transform(titanic_data)\n",
    "titanic_data = pd.DataFrame(titanic_data, columns=transformer.get_feature_names())\n",
    "\n",
    "for ordinal_feature in ordinal_features:\n",
    "    titanic_data[ordinal_feature] = OrdinalEncoder().fit_transform(titanic_data[ordinal_feature].values.reshape(-1, 1)).flatten()\n",
    "\n",
    "titanic_data = titanic_data.astype(np.float64)\n",
    "\n",
    "    \n",
    "X_data_titanic = titanic_data.drop(['Survived'], axis = 1)\n",
    "y_data_titanic = titanic_data['Survived']\n",
    "X_data_titanic.head()"
   ]
  },
  {
   "cell_type": "markdown",
   "metadata": {},
   "source": [
    "    survival\tSurvival\t0 = No, 1 = Yes\n",
    "    pclass\tTicket class\t1 = 1st, 2 = 2nd, 3 = 3rd\n",
    "    sex\tSex\t\n",
    "    Age\tAge in years\t\n",
    "    sibsp\t# of siblings / spouses aboard the Titanic\t\n",
    "    parch\t# of parents / children aboard the Titanic\t\n",
    "    ticket\tTicket number\t\n",
    "    fare\tPassenger fare\t\n",
    "    cabin\tCabin number\t\n",
    "    embarked\tPort of Embarkation\tC = Cherbourg, Q = Queenstown, S = Southampton"
   ]
  },
  {
   "cell_type": "code",
   "execution_count": null,
   "metadata": {
    "execution": {
     "iopub.status.busy": "2021-11-22T08:39:51.575105Z",
     "iopub.status.idle": "2021-11-22T08:39:51.575434Z",
     "shell.execute_reply": "2021-11-22T08:39:51.575263Z",
     "shell.execute_reply.started": "2021-11-22T08:39:51.575246Z"
    },
    "tags": []
   },
   "outputs": [],
   "source": [
    "if X_data_titanic.shape[1] > number_of_variables:\n",
    "    X_data_titanic = X_data_titanic.sample(n=number_of_variables,axis='columns')\n",
    "else:\n",
    "    for i in range(number_of_variables-X_data_titanic.shape[1]):\n",
    "        column_name = 'zero_dummy_' + str(i+1)\n",
    "        X_data_titanic[column_name] = np.zeros(X_data_titanic.shape[0])\n",
    "X_data_titanic.head()"
   ]
  },
  {
   "cell_type": "code",
   "execution_count": null,
   "metadata": {
    "execution": {
     "iopub.status.busy": "2021-11-22T08:39:51.576761Z",
     "iopub.status.idle": "2021-11-22T08:39:51.577082Z",
     "shell.execute_reply": "2021-11-22T08:39:51.576917Z",
     "shell.execute_reply.started": "2021-11-22T08:39:51.576900Z"
    },
    "tags": []
   },
   "outputs": [],
   "source": [
    "normalizer_list = []\n",
    "for column_name in X_data_titanic:\n",
    "    scaler = MinMaxScaler()\n",
    "    scaler.fit(X_data_titanic[column_name].values.reshape(-1, 1))\n",
    "    X_data_titanic[column_name] = scaler.transform(X_data_titanic[column_name].values.reshape(-1, 1)).ravel()\n",
    "    normalizer_list.append(scaler)\n",
    "X_data_titanic.head()"
   ]
  },
  {
   "cell_type": "code",
   "execution_count": null,
   "metadata": {
    "execution": {
     "iopub.status.busy": "2021-11-22T08:39:51.578154Z",
     "iopub.status.idle": "2021-11-22T08:39:51.578473Z",
     "shell.execute_reply": "2021-11-22T08:39:51.578308Z",
     "shell.execute_reply.started": "2021-11-22T08:39:51.578291Z"
    },
    "tags": []
   },
   "outputs": [],
   "source": [
    "y_data_titanic"
   ]
  },
  {
   "cell_type": "code",
   "execution_count": null,
   "metadata": {
    "execution": {
     "iopub.status.busy": "2021-11-22T08:39:51.579734Z",
     "iopub.status.idle": "2021-11-22T08:39:51.580053Z",
     "shell.execute_reply": "2021-11-22T08:39:51.579889Z",
     "shell.execute_reply.started": "2021-11-22T08:39:51.579872Z"
    },
    "tags": []
   },
   "outputs": [],
   "source": [
    "X_train_titanic_with_valid, X_test_titanic, y_train_titanic_with_valid, y_test_titanic = train_test_split(X_data_titanic, y_data_titanic, train_size=0.8)\n",
    "X_train_titanic, X_valid_titanic, y_train_titanic, y_valid_titanic = train_test_split(X_train_titanic_with_valid, y_train_titanic_with_valid, train_size=0.8)\n",
    "\n",
    "print(X_train_titanic.shape, y_train_titanic.shape)\n",
    "print(X_valid_titanic.shape, y_valid_titanic.shape)\n",
    "print(X_test_titanic.shape, y_test_titanic.shape)"
   ]
  },
  {
   "cell_type": "code",
   "execution_count": null,
   "metadata": {
    "execution": {
     "iopub.status.busy": "2021-11-22T08:39:51.581170Z",
     "iopub.status.idle": "2021-11-22T08:39:51.581500Z",
     "shell.execute_reply": "2021-11-22T08:39:51.581324Z",
     "shell.execute_reply.started": "2021-11-22T08:39:51.581307Z"
    },
    "tags": []
   },
   "outputs": [],
   "source": [
    "test_network = generate_lambda_net_from_config(config)\n",
    "\n",
    "early_stopping = tf.keras.callbacks.EarlyStopping(monitor='val_loss', \n",
    "                                                  patience=50, \n",
    "                                                  min_delta=0.001, \n",
    "                                                  verbose=0, \n",
    "                                                  mode='min', \n",
    "                                                  restore_best_weights=True)\n",
    "\n",
    "model_history = test_network.fit(X_train_titanic,\n",
    "                                  y_train_titanic, \n",
    "                                  epochs=config['lambda_net']['epochs_lambda'], \n",
    "                                  batch_size=config['lambda_net']['batch_lambda'], \n",
    "                                  callbacks=[early_stopping, PlotLossesKerasTF()],\n",
    "                                  validation_data=(X_valid_titanic, y_valid_titanic),\n",
    "                                  verbose=0)\n",
    "\n"
   ]
  },
  {
   "cell_type": "code",
   "execution_count": null,
   "metadata": {
    "execution": {
     "iopub.status.busy": "2021-11-22T08:39:51.582756Z",
     "iopub.status.idle": "2021-11-22T08:39:51.583080Z",
     "shell.execute_reply": "2021-11-22T08:39:51.582913Z",
     "shell.execute_reply.started": "2021-11-22T08:39:51.582896Z"
    },
    "tags": []
   },
   "outputs": [],
   "source": [
    "test_network.summary()"
   ]
  },
  {
   "cell_type": "code",
   "execution_count": null,
   "metadata": {
    "execution": {
     "iopub.status.busy": "2021-11-22T08:39:51.584249Z",
     "iopub.status.idle": "2021-11-22T08:39:51.584593Z",
     "shell.execute_reply": "2021-11-22T08:39:51.584420Z",
     "shell.execute_reply.started": "2021-11-22T08:39:51.584389Z"
    },
    "tags": []
   },
   "outputs": [],
   "source": [
    "test_network_parameters = shaped_network_parameters_to_array(test_network.get_weights(), config)\n",
    "test_network_dt_inet = model.predict(np.array([test_network_parameters]))[0]\n",
    "\n",
    "if nas:\n",
    "    test_network_dt_inet = test_network_dt_inet[:function_representation_length]\n",
    "\n",
    "X_data_random = generate_random_data_points_custom(config['data']['x_min'], config['data']['x_max'], config['evaluation']['random_evaluation_dataset_size'], config['data']['number_of_variables'])\n",
    "y_data_random_test_network_pred = test_network.predict(X_data_random)\n",
    "y_data_random_test_network_pred = np.round(y_data_random_test_network_pred).astype(np.int64)\n",
    "\n",
    "dt_sklearn_distilled = DecisionTreeClassifier(max_depth=config['function_family']['maximum_depth'])\n",
    "dt_sklearn_distilled.fit(X_data_random, y_data_random_test_network_pred)\n",
    "\n",
    "\n",
    "if dt_type == 'SDT':\n",
    "    y_test_inet_dt  = calculate_function_value_from_decision_tree_parameters_wrapper(X_test_titanic, config)(test_network_dt_inet).numpy()\n",
    "elif dt_type == 'vanilla':\n",
    "    y_test_inet_dt  = calculate_function_value_from_vanilla_decision_tree_parameters_wrapper(X_test_titanic, config)(test_network_dt_inet).numpy()\n",
    "y_test_distilled_sklearn_dt = dt_sklearn_distilled.predict(X_test_titanic)\n",
    "\n",
    "y_test_test_network_pred = test_network.predict(X_test_titanic)\n",
    "y_test_test_network_pred = np.round(y_test_test_network_pred)\n",
    "\n",
    "binary_crossentropy_distilled_sklearn_dt = log_loss(y_test_test_network_pred, y_test_distilled_sklearn_dt, labels=[0,1])\n",
    "accuracy_distilled_sklearn_dt = accuracy_score(y_test_test_network_pred, np.round(y_test_distilled_sklearn_dt))\n",
    "f1_score_distilled_sklearn_dt = f1_score(y_test_test_network_pred, np.round(y_test_distilled_sklearn_dt))\n",
    "\n",
    "binary_crossentropy_inet_dt = log_loss(y_test_test_network_pred, y_test_inet_dt, labels=[0,1])\n",
    "accuracy_inet_dt = accuracy_score(y_test_test_network_pred, np.round(y_test_inet_dt))\n",
    "f1_score_inet_dt = f1_score(y_test_test_network_pred, np.round(y_test_inet_dt))\n",
    "\n",
    "\n",
    "print('Binary Crossentropy:\\t\\t', np.round(binary_crossentropy_distilled_sklearn_dt, 3), '(Sklearn DT)' , '\\t', np.round(binary_crossentropy_inet_dt, 3), '(I-Net DT)')\n",
    "print('Accuracy:\\t\\t', np.round(accuracy_distilled_sklearn_dt, 3), '(Sklearn DT)' , '\\t', np.round(accuracy_inet_dt, 3), '(I-Net DT)')\n",
    "print('F1 Score:\\t\\t', np.round(f1_score_distilled_sklearn_dt, 3), '(Sklearn DT)' , '\\t', np.round(f1_score_inet_dt, 3), '(I-Net DT)')\n",
    "     \n"
   ]
  },
  {
   "cell_type": "code",
   "execution_count": null,
   "metadata": {
    "execution": {
     "iopub.status.busy": "2021-11-22T08:39:51.585868Z",
     "iopub.status.idle": "2021-11-22T08:39:51.586194Z",
     "shell.execute_reply": "2021-11-22T08:39:51.586025Z",
     "shell.execute_reply.started": "2021-11-22T08:39:51.586008Z"
    },
    "tags": []
   },
   "outputs": [],
   "source": [
    "X_data_titanic.head(5)"
   ]
  },
  {
   "cell_type": "code",
   "execution_count": null,
   "metadata": {
    "execution": {
     "iopub.status.busy": "2021-11-22T08:39:51.587483Z",
     "iopub.status.idle": "2021-11-22T08:39:51.587802Z",
     "shell.execute_reply": "2021-11-22T08:39:51.587638Z",
     "shell.execute_reply.started": "2021-11-22T08:39:51.587620Z"
    },
    "tags": []
   },
   "outputs": [],
   "source": [
    "#%autoreload 2\n",
    "image, nodes = anytree_decision_tree_from_parameters(test_network_dt_inet, config=config, normalizer_list=normalizer_list)\n",
    "image\n",
    "#tree.show()"
   ]
  },
  {
   "cell_type": "code",
   "execution_count": null,
   "metadata": {
    "execution": {
     "iopub.status.busy": "2021-11-22T08:39:51.589058Z",
     "iopub.status.idle": "2021-11-22T08:39:51.589383Z",
     "shell.execute_reply": "2021-11-22T08:39:51.589214Z",
     "shell.execute_reply.started": "2021-11-22T08:39:51.589197Z"
    },
    "tags": []
   },
   "outputs": [],
   "source": [
    "plt.figure(figsize=(24,12))  # set plot size (denoted in inches)\n",
    "plot_tree(dt_sklearn_distilled, fontsize=12)\n",
    "plt.show()"
   ]
  },
  {
   "cell_type": "code",
   "execution_count": null,
   "metadata": {
    "execution": {
     "iopub.status.busy": "2021-11-22T08:39:51.590441Z",
     "iopub.status.idle": "2021-11-22T08:39:51.590768Z",
     "shell.execute_reply": "2021-11-22T08:39:51.590597Z",
     "shell.execute_reply.started": "2021-11-22T08:39:51.590580Z"
    },
    "tags": []
   },
   "outputs": [],
   "source": [
    "y_test_test_network_pred[:50].ravel()"
   ]
  },
  {
   "cell_type": "code",
   "execution_count": null,
   "metadata": {
    "execution": {
     "iopub.status.busy": "2021-11-22T08:39:51.592136Z",
     "iopub.status.idle": "2021-11-22T08:39:51.592486Z",
     "shell.execute_reply": "2021-11-22T08:39:51.592290Z",
     "shell.execute_reply.started": "2021-11-22T08:39:51.592272Z"
    },
    "tags": []
   },
   "outputs": [],
   "source": [
    "y_test_distilled_sklearn_dt[:50].ravel()"
   ]
  },
  {
   "cell_type": "code",
   "execution_count": null,
   "metadata": {
    "execution": {
     "iopub.status.busy": "2021-11-22T08:39:51.593561Z",
     "iopub.status.idle": "2021-11-22T08:39:51.593883Z",
     "shell.execute_reply": "2021-11-22T08:39:51.593713Z",
     "shell.execute_reply.started": "2021-11-22T08:39:51.593696Z"
    },
    "tags": []
   },
   "outputs": [],
   "source": [
    "np.round(y_test_inet_dt[:50]).ravel()"
   ]
  },
  {
   "cell_type": "markdown",
   "metadata": {},
   "source": [
    "## NEXT DATASET"
   ]
  },
  {
   "cell_type": "code",
   "execution_count": null,
   "metadata": {},
   "outputs": [],
   "source": []
  }
 ],
 "metadata": {
  "kernelspec": {
   "display_name": "Python 3 (ipykernel)",
   "language": "python",
   "name": "python3"
  },
  "language_info": {
   "codemirror_mode": {
    "name": "ipython",
    "version": 3
   },
   "file_extension": ".py",
   "mimetype": "text/x-python",
   "name": "python",
   "nbconvert_exporter": "python",
   "pygments_lexer": "ipython3",
   "version": "3.8.0"
  }
 },
 "nbformat": 4,
 "nbformat_minor": 4
}
