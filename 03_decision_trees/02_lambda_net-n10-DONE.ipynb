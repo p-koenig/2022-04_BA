{
 "cells": [
  {
   "cell_type": "markdown",
   "metadata": {},
   "source": [
    "# Generation of λ-Nets for I-Net training"
   ]
  },
  {
   "cell_type": "markdown",
   "metadata": {},
   "source": [
    "## Specitication of Experiment Settings"
   ]
  },
  {
   "cell_type": "code",
   "execution_count": 1,
   "metadata": {
    "execution": {
     "iopub.execute_input": "2022-04-30T07:10:13.396517Z",
     "iopub.status.busy": "2022-04-30T07:10:13.396066Z",
     "iopub.status.idle": "2022-04-30T07:10:13.419822Z",
     "shell.execute_reply": "2022-04-30T07:10:13.418915Z",
     "shell.execute_reply.started": "2022-04-30T07:10:13.396395Z"
    },
    "tags": []
   },
   "outputs": [],
   "source": [
    "#######################################################################################################################################\n",
    "###################################################### CONFIG FILE ####################################################################\n",
    "#######################################################################################################################################\n",
    "sleep_time = 0 #minutes\n",
    "\n",
    "config = {\n",
    "    'function_family': {\n",
    "        'maximum_depth': 3,\n",
    "        'beta': 1,\n",
    "        'decision_sparsity': 1,\n",
    "        'fully_grown': True,          \n",
    "        'dt_type': 'SDT', #'vanilla', 'SDT'\n",
    "    },\n",
    "    'data': {\n",
    "        'number_of_variables': 10, \n",
    "        'num_classes': 2,\n",
    "        'categorical_indices': [],\n",
    "        'random_parameters_distribution': True, ##MAKEPATH DIFFERENT FILES\n",
    "        'max_distributions_per_class': 1, # None; 0; int >= 1\n",
    "        'exclude_linearly_seperable': False,\n",
    "        'data_generation_filtering': False,\n",
    "        'fixed_class_probability': False,\n",
    "        'balanced_data': True,\n",
    "        'weighted_data_generation': False,\n",
    "        'shift_distrib': False,\n",
    "        \n",
    "        'function_generation_type': 'random_decision_tree' ,#'distribution', 'distribution_trained' 'make_classification_distribution', 'make_classification_distribution_trained', 'make_classification', 'make_classification_trained', 'random_decision_tree', 'random_decision_tree_trained'\n",
    "        'distribution_list': ['uniform', 'normal', 'gamma', 'beta', 'poisson'],#['uniform', 'normal', 'gamma', 'beta', 'poisson', 'lognormal', 'exponential', 'f', 'logistic', 'weibull'],#['uniform', 'normal', 'gamma', 'exponential', 'beta', 'binomial', 'poisson'], \n",
    "        'objective': 'classification', # 'regression'\n",
    "        \n",
    "        'x_max': 1,\n",
    "        'x_min': 0,\n",
    "        'x_distrib': 'uniform', #'normal', 'uniform',       \n",
    "                \n",
    "        'lambda_dataset_size': 5000, #number of samples per function\n",
    "        'number_of_generated_datasets': 10000,\n",
    "        \n",
    "        'noise_injected_level': 0, \n",
    "        'noise_injected_type': 'flip_percentage', # '' 'normal' 'uniform' 'normal_range' 'uniform_range'\n",
    "        \n",
    "        'data_noise': 0, #None or float\n",
    "        'distrib_param_max': 5,\n",
    "    }, \n",
    "    'lambda_net': {\n",
    "        'epochs_lambda': 1000,\n",
    "        'early_stopping_lambda': True, \n",
    "        'early_stopping_min_delta_lambda': 1e-3,\n",
    "        'batch_lambda': 64,\n",
    "        'dropout_lambda': 0,\n",
    "        'lambda_network_layers': [128],\n",
    "        'use_batchnorm_lambda': False,\n",
    "        \n",
    "        'optimizer_lambda': 'adam',\n",
    "        'loss_lambda': 'binary_crossentropy', #categorical_crossentropy\n",
    "                \n",
    "        'number_initializations_lambda': 1, \n",
    "        \n",
    "        'number_of_trained_lambda_nets': 10000,\n",
    "    },     \n",
    "    'evaluation': {   \n",
    "    },    \n",
    "    \n",
    "    'computation':{\n",
    "        'n_jobs': 25,\n",
    "        'use_gpu': False,\n",
    "        'gpu_numbers': '0',\n",
    "        'RANDOM_SEED': 42,   \n",
    "    }\n",
    "}\n",
    "\n",
    "\n"
   ]
  },
  {
   "cell_type": "code",
   "execution_count": 2,
   "metadata": {
    "execution": {
     "iopub.execute_input": "2022-04-30T07:10:13.421579Z",
     "iopub.status.busy": "2022-04-30T07:10:13.421188Z",
     "iopub.status.idle": "2022-04-30T07:10:13.455559Z",
     "shell.execute_reply": "2022-04-30T07:10:13.454631Z",
     "shell.execute_reply.started": "2022-04-30T07:10:13.421525Z"
    }
   },
   "outputs": [],
   "source": [
    "#######################################################################################################################################\n",
    "########################################### IMPORT GLOBAL VARIABLES FROM CONFIG #######################################################\n",
    "#######################################################################################################################################\n",
    "globals().update(config['function_family'])\n",
    "globals().update(config['data'])\n",
    "globals().update(config['lambda_net'])\n",
    "globals().update(config['evaluation'])\n",
    "globals().update(config['computation'])"
   ]
  },
  {
   "cell_type": "code",
   "execution_count": 3,
   "metadata": {
    "execution": {
     "iopub.execute_input": "2022-04-30T07:10:13.458641Z",
     "iopub.status.busy": "2022-04-30T07:10:13.458234Z",
     "iopub.status.idle": "2022-04-30T07:10:17.305183Z",
     "shell.execute_reply": "2022-04-30T07:10:17.304333Z",
     "shell.execute_reply.started": "2022-04-30T07:10:13.458578Z"
    }
   },
   "outputs": [],
   "source": [
    "import warnings\n",
    "warnings.filterwarnings('ignore')\n",
    "import os\n",
    "os.environ['TF_CPP_MIN_LOG_LEVEL'] = '3' \n",
    "\n",
    "from itertools import product       # forms cartesian products\n",
    "from tqdm import tqdm_notebook as tqdm\n",
    "from more_itertools import random_product \n",
    "import pickle\n",
    "import numpy as np\n",
    "import pandas as pd\n",
    "import timeit\n",
    "import matplotlib.pyplot as plt \n",
    "import time\n",
    "import math\n",
    "import operator\n",
    "from functools import reduce\n",
    "\n",
    "from scipy.signal import argrelextrema\n",
    "\n",
    "import sys\n",
    "\n",
    "import shutil\n",
    "\n",
    "import logging\n",
    "logging.getLogger('tensorflow').disabled = True\n",
    "\n",
    "from joblib import Parallel, delayed\n",
    "\n",
    "\n",
    "from sklearn.model_selection import cross_val_score, train_test_split, StratifiedKFold, KFold\n",
    "from sklearn.metrics import accuracy_score, log_loss, roc_auc_score, f1_score, mean_absolute_error, r2_score\n",
    "#from similaritymeasures import frechet_dist, area_between_two_curves, dtw\n",
    "from IPython.display import Image\n",
    "\n",
    "from livelossplot import PlotLossesKerasTF\n",
    "\n",
    "import seaborn as sns\n",
    "\n",
    "import tensorflow as tf\n",
    "#import tensorflow_addons as tfa\n",
    "import random \n",
    "\n",
    "\n",
    "#import keras\n",
    "import tensorflow.keras.backend as K\n",
    "from tensorflow.keras import Sequential\n",
    "from tensorflow.keras.layers import Dense, Dropout\n",
    "from tensorflow.keras.utils import plot_model\n",
    "from tensorflow.keras.callbacks import EarlyStopping, ModelCheckpoint, ReduceLROnPlateau\n",
    "\n"
   ]
  },
  {
   "cell_type": "code",
   "execution_count": 4,
   "metadata": {
    "execution": {
     "iopub.execute_input": "2022-04-30T07:10:17.306519Z",
     "iopub.status.busy": "2022-04-30T07:10:17.306218Z",
     "iopub.status.idle": "2022-04-30T07:10:17.313334Z",
     "shell.execute_reply": "2022-04-30T07:10:17.312813Z",
     "shell.execute_reply.started": "2022-04-30T07:10:17.306492Z"
    }
   },
   "outputs": [],
   "source": [
    "#######################################################################################################################################\n",
    "###################################################### SET VARIABLES + DESIGN #########################################################\n",
    "#######################################################################################################################################\n",
    "    \n",
    "#os.environ['TF_CPP_MIN_LOG_LEVEL'] = '2' \n",
    "os.environ['CUDA_VISIBLE_DEVICES'] = gpu_numbers if use_gpu else ''\n",
    "os.environ['TF_FORCE_GPU_ALLOW_GROWTH'] = 'true' if use_gpu else ''\n",
    "\n",
    "#os.environ['XLA_FLAGS'] =  '--xla_gpu_cuda_data_dir=/usr/local/cuda-10.1'\n",
    "\n",
    "#os.environ['XLA_FLAGS'] = '--tf_xla_enable_xla_devices'\n",
    "#os.environ['TF_XLA_FLAGS'] = '--tf_xla_enable_xla_devices'\n",
    "\n",
    "os.environ['XLA_FLAGS'] = '--xla_gpu_cuda_data_dir=/usr/local/cuda-11.4' if use_gpu else ''#-10.1' #--xla_gpu_cuda_data_dir=/usr/local/cuda, \n",
    "os.environ['TF_XLA_FLAGS'] = '--tf_xla_auto_jit=2 ,--tf_xla_enable_xla_devices' if use_gpu else ''#'--tf_xla_auto_jit=2' #, --tf_xla_enable_xla_devices\n",
    "\n",
    "\n",
    "sns.set_style(\"darkgrid\")\n",
    "\n",
    "random.seed(RANDOM_SEED)\n",
    "np.random.seed(RANDOM_SEED)\n",
    "np.random.seed(RANDOM_SEED)\n",
    "if int(tf.__version__[0]) >= 2:\n",
    "    tf.random.set_seed(RANDOM_SEED)\n",
    "else:\n",
    "    tf.set_random_seed(RANDOM_SEED)\n",
    "    \n",
    "    \n",
    "pd.set_option('display.float_format', lambda x: '%.3f' % x)\n",
    "pd.set_option('display.max_columns', 200)\n",
    "np.set_printoptions(threshold=200)"
   ]
  },
  {
   "cell_type": "code",
   "execution_count": null,
   "metadata": {},
   "outputs": [],
   "source": []
  },
  {
   "cell_type": "code",
   "execution_count": 5,
   "metadata": {
    "execution": {
     "iopub.execute_input": "2022-04-30T07:10:17.314368Z",
     "iopub.status.busy": "2022-04-30T07:10:17.314184Z",
     "iopub.status.idle": "2022-04-30T07:10:20.307020Z",
     "shell.execute_reply": "2022-04-30T07:10:20.306357Z",
     "shell.execute_reply.started": "2022-04-30T07:10:17.314345Z"
    }
   },
   "outputs": [],
   "source": [
    "from utilities.LambdaNet import *\n",
    "from utilities.metrics import *\n",
    "from utilities.utility_functions import *\n",
    "#######################################################################################################################################\n",
    "####################################################### CONFIG ADJUSTMENTS ############################################################\n",
    "#######################################################################################################################################\n",
    "\n",
    "config['lambda_net']['number_of_lambda_weights'] = get_number_of_lambda_net_parameters(config)\n",
    "\n",
    "#######################################################################################################################################\n",
    "################################################## UPDATE VARIABLES ###################################################################\n",
    "#######################################################################################################################################\n",
    "globals().update(config['function_family'])\n",
    "globals().update(config['data'])\n",
    "globals().update(config['lambda_net'])\n",
    "globals().update(config['evaluation'])\n",
    "globals().update(config['computation'])\n",
    "\n",
    "#initialize_utility_functions_config_from_curent_notebook(config)\n",
    "#initialize_LambdaNet_config_from_curent_notebook(config)\n",
    "#initialize_metrics_config_from_curent_notebook(config)\n",
    "\n",
    "#######################################################################################################################################\n",
    "###################################################### PATH + FOLDER CREATION #########################################################\n",
    "#######################################################################################################################################\n",
    "globals().update(generate_paths(config, path_type='lambda_net'))\n",
    "generate_directory_structure()\n",
    "generate_lambda_net_directory(config)\n",
    "\n",
    "#######################################################################################################################################\n",
    "############################################################ SLEEP TIMER ##############################################################\n",
    "#######################################################################################################################################\n",
    "sleep_minutes(sleep_time)"
   ]
  },
  {
   "cell_type": "code",
   "execution_count": 6,
   "metadata": {
    "execution": {
     "iopub.execute_input": "2022-04-30T07:10:20.308216Z",
     "iopub.status.busy": "2022-04-30T07:10:20.307954Z",
     "iopub.status.idle": "2022-04-30T07:10:20.312901Z",
     "shell.execute_reply": "2022-04-30T07:10:20.312101Z",
     "shell.execute_reply.started": "2022-04-30T07:10:20.308191Z"
    }
   },
   "outputs": [
    {
     "name": "stdout",
     "output_type": "stream",
     "text": [
      "lNetSize5000_numLNets10000_var10_class2_random_decision_tree_xMax1_xMin0_xDistuniform_dNoise0_randParamDist_maxDistClass1_distribParamMax5_randClassProb_depth3_beta1_decisionSpars1_SDT_fullyGrown/128_e1000ES0.001_b64_drop0_adam_binary_crossentropy_fixedInit1-seed42\n",
      "lNetSize5000_numDatasets10000_var10_class2_random_decision_tree_xMax1_xMin0_xDistuniform_dNoise0_randParamDist_maxDistClass1_distribParamMax5_randClassProb_depth3_beta1_decisionSpars1_SDT_fullyGrown\n"
     ]
    }
   ],
   "source": [
    "print(path_identifier_lambda_net_data)\n",
    "\n",
    "print(path_identifier_function_data)\n"
   ]
  },
  {
   "cell_type": "code",
   "execution_count": 7,
   "metadata": {
    "execution": {
     "iopub.execute_input": "2022-04-30T07:10:20.314010Z",
     "iopub.status.busy": "2022-04-30T07:10:20.313746Z",
     "iopub.status.idle": "2022-04-30T07:10:20.342492Z",
     "shell.execute_reply": "2022-04-30T07:10:20.341783Z",
     "shell.execute_reply.started": "2022-04-30T07:10:20.313986Z"
    }
   },
   "outputs": [
    {
     "name": "stdout",
     "output_type": "stream",
     "text": [
      "Num GPUs Available:  0\n",
      "Num XLA-GPUs Available:  0\n"
     ]
    }
   ],
   "source": [
    "print(\"Num GPUs Available: \", len(tf.config.experimental.list_physical_devices('GPU')))\n",
    "print(\"Num XLA-GPUs Available: \", len(tf.config.experimental.list_physical_devices('XLA_GPU')))"
   ]
  },
  {
   "cell_type": "code",
   "execution_count": 8,
   "metadata": {
    "execution": {
     "iopub.execute_input": "2022-04-30T07:10:20.343584Z",
     "iopub.status.busy": "2022-04-30T07:10:20.343336Z",
     "iopub.status.idle": "2022-04-30T07:10:20.428460Z",
     "shell.execute_reply": "2022-04-30T07:10:20.427736Z",
     "shell.execute_reply.started": "2022-04-30T07:10:20.343559Z"
    }
   },
   "outputs": [
    {
     "data": {
      "text/plain": [
       "[128]"
      ]
     },
     "execution_count": 8,
     "metadata": {},
     "output_type": "execute_result"
    }
   ],
   "source": [
    "lambda_network_layers"
   ]
  },
  {
   "cell_type": "code",
   "execution_count": 9,
   "metadata": {
    "ExecuteTime": {
     "end_time": "2021-01-17T09:46:11.182937Z",
     "start_time": "2021-01-17T09:44:31.797522Z"
    },
    "execution": {
     "iopub.execute_input": "2022-04-30T07:10:20.429592Z",
     "iopub.status.busy": "2022-04-30T07:10:20.429352Z",
     "iopub.status.idle": "2022-04-30T07:10:49.978003Z",
     "shell.execute_reply": "2022-04-30T07:10:49.977120Z",
     "shell.execute_reply.started": "2022-04-30T07:10:20.429567Z"
    },
    "tags": []
   },
   "outputs": [
    {
     "name": "stderr",
     "output_type": "stream",
     "text": [
      "Traceback (most recent call last):\n",
      "  File \"/tmp/ipykernel_3085797/2645396674.py\", line 15, in <module>\n",
      "    distribution_parameter_list_list = pickle.load(f)\n",
      "EOFError: Ran out of input\n"
     ]
    }
   ],
   "source": [
    "path_functions = './data/saved_function_lists/functions_' + path_identifier_function_data + '.csv'\n",
    "function_df = pd.read_csv(path_functions)\n",
    "\n",
    "path_X_data = './data/saved_function_lists/X_data_' + path_identifier_function_data + '.pkl'\n",
    "with open(path_X_data, 'rb') as f:\n",
    "    X_data_list = pickle.load(f)\n",
    "    \n",
    "path_y_data = './data/saved_function_lists/y_data_' + path_identifier_function_data + '.pkl'\n",
    "with open(path_y_data, 'rb') as f:\n",
    "    y_data_list = pickle.load(f)\n",
    "    \n",
    "try:\n",
    "    path_distribution = './data/saved_function_lists/distribution_parameter_list_list_' + path_identifier_function_data + '.pkl'\n",
    "    with open(path_distribution, 'rb') as f:\n",
    "        distribution_parameter_list_list = pickle.load(f)\n",
    "except Exception:\n",
    "    traceback.print_exc()\n",
    "    distribution_parameter_list_list = [[None, None]]*number_of_generated_datasets\n",
    "    \n",
    "if number_of_trained_lambda_nets < number_of_generated_datasets:\n",
    "    function_df = function_df.sample(n=number_of_trained_lambda_nets, random_state=RANDOM_SEED)\n",
    "    random.seed(RANDOM_SEED)\n",
    "    X_data_list = random.sample(X_data_list, number_of_trained_lambda_nets)\n",
    "    random.seed(RANDOM_SEED)\n",
    "    y_data_list = random.sample(y_data_list, number_of_trained_lambda_nets)\n",
    "    random.seed(RANDOM_SEED)\n",
    "    try:\n",
    "        distribution_parameter_list_list = random.sample(distribution_parameter_list_list, number_of_trained_lambda_nets)\n",
    "        random.seed(RANDOM_SEED)\n",
    "    except:\n",
    "        distribution_parameter_list_list = [[None, None]]*number_of_trained_lambda_nets"
   ]
  },
  {
   "cell_type": "markdown",
   "metadata": {},
   "source": [
    "## Data Inspection"
   ]
  },
  {
   "cell_type": "code",
   "execution_count": 10,
   "metadata": {
    "execution": {
     "iopub.execute_input": "2022-04-30T07:10:49.979602Z",
     "iopub.status.busy": "2022-04-30T07:10:49.979065Z",
     "iopub.status.idle": "2022-04-30T07:10:50.026917Z",
     "shell.execute_reply": "2022-04-30T07:10:50.026202Z",
     "shell.execute_reply.started": "2022-04-30T07:10:49.979573Z"
    }
   },
   "outputs": [
    {
     "data": {
      "text/html": [
       "<div>\n",
       "<style scoped>\n",
       "    .dataframe tbody tr th:only-of-type {\n",
       "        vertical-align: middle;\n",
       "    }\n",
       "\n",
       "    .dataframe tbody tr th {\n",
       "        vertical-align: top;\n",
       "    }\n",
       "\n",
       "    .dataframe thead th {\n",
       "        text-align: right;\n",
       "    }\n",
       "</style>\n",
       "<table border=\"1\" class=\"dataframe\">\n",
       "  <thead>\n",
       "    <tr style=\"text-align: right;\">\n",
       "      <th></th>\n",
       "      <th>f0v0</th>\n",
       "      <th>f0v1</th>\n",
       "      <th>f0v2</th>\n",
       "      <th>f0v3</th>\n",
       "      <th>f0v4</th>\n",
       "      <th>f0v5</th>\n",
       "      <th>f0v6</th>\n",
       "      <th>f0v7</th>\n",
       "      <th>f0v8</th>\n",
       "      <th>f0v9</th>\n",
       "      <th>f1v0</th>\n",
       "      <th>f1v1</th>\n",
       "      <th>f1v2</th>\n",
       "      <th>f1v3</th>\n",
       "      <th>f1v4</th>\n",
       "      <th>f1v5</th>\n",
       "      <th>f1v6</th>\n",
       "      <th>f1v7</th>\n",
       "      <th>f1v8</th>\n",
       "      <th>f1v9</th>\n",
       "      <th>f2v0</th>\n",
       "      <th>f2v1</th>\n",
       "      <th>f2v2</th>\n",
       "      <th>f2v3</th>\n",
       "      <th>f2v4</th>\n",
       "      <th>f2v5</th>\n",
       "      <th>f2v6</th>\n",
       "      <th>f2v7</th>\n",
       "      <th>f2v8</th>\n",
       "      <th>f2v9</th>\n",
       "      <th>f3v0</th>\n",
       "      <th>f3v1</th>\n",
       "      <th>f3v2</th>\n",
       "      <th>f3v3</th>\n",
       "      <th>f3v4</th>\n",
       "      <th>f3v5</th>\n",
       "      <th>f3v6</th>\n",
       "      <th>f3v7</th>\n",
       "      <th>f3v8</th>\n",
       "      <th>f3v9</th>\n",
       "      <th>f4v0</th>\n",
       "      <th>f4v1</th>\n",
       "      <th>f4v2</th>\n",
       "      <th>f4v3</th>\n",
       "      <th>f4v4</th>\n",
       "      <th>f4v5</th>\n",
       "      <th>f4v6</th>\n",
       "      <th>f4v7</th>\n",
       "      <th>f4v8</th>\n",
       "      <th>f4v9</th>\n",
       "      <th>f5v0</th>\n",
       "      <th>f5v1</th>\n",
       "      <th>f5v2</th>\n",
       "      <th>f5v3</th>\n",
       "      <th>f5v4</th>\n",
       "      <th>f5v5</th>\n",
       "      <th>f5v6</th>\n",
       "      <th>f5v7</th>\n",
       "      <th>f5v8</th>\n",
       "      <th>f5v9</th>\n",
       "      <th>f6v0</th>\n",
       "      <th>f6v1</th>\n",
       "      <th>f6v2</th>\n",
       "      <th>f6v3</th>\n",
       "      <th>f6v4</th>\n",
       "      <th>f6v5</th>\n",
       "      <th>f6v6</th>\n",
       "      <th>f6v7</th>\n",
       "      <th>f6v8</th>\n",
       "      <th>f6v9</th>\n",
       "      <th>b0</th>\n",
       "      <th>b1</th>\n",
       "      <th>b2</th>\n",
       "      <th>b3</th>\n",
       "      <th>b4</th>\n",
       "      <th>b5</th>\n",
       "      <th>b6</th>\n",
       "      <th>lp0c0</th>\n",
       "      <th>lp0c1</th>\n",
       "      <th>lp1c0</th>\n",
       "      <th>lp1c1</th>\n",
       "      <th>lp2c0</th>\n",
       "      <th>lp2c1</th>\n",
       "      <th>lp3c0</th>\n",
       "      <th>lp3c1</th>\n",
       "      <th>lp4c0</th>\n",
       "      <th>lp4c1</th>\n",
       "      <th>lp5c0</th>\n",
       "      <th>lp5c1</th>\n",
       "      <th>lp6c0</th>\n",
       "      <th>lp6c1</th>\n",
       "      <th>lp7c0</th>\n",
       "      <th>lp7c1</th>\n",
       "    </tr>\n",
       "  </thead>\n",
       "  <tbody>\n",
       "    <tr>\n",
       "      <th>0</th>\n",
       "      <td>0.000</td>\n",
       "      <td>-0.292</td>\n",
       "      <td>0.000</td>\n",
       "      <td>0.000</td>\n",
       "      <td>0.000</td>\n",
       "      <td>0.000</td>\n",
       "      <td>0.000</td>\n",
       "      <td>0.000</td>\n",
       "      <td>0.000</td>\n",
       "      <td>0.000</td>\n",
       "      <td>0.000</td>\n",
       "      <td>0.000</td>\n",
       "      <td>0.000</td>\n",
       "      <td>0.000</td>\n",
       "      <td>0.000</td>\n",
       "      <td>0.000</td>\n",
       "      <td>-0.309</td>\n",
       "      <td>0.000</td>\n",
       "      <td>0.000</td>\n",
       "      <td>0.000</td>\n",
       "      <td>0.000</td>\n",
       "      <td>0.000</td>\n",
       "      <td>0.000</td>\n",
       "      <td>0.000</td>\n",
       "      <td>-0.302</td>\n",
       "      <td>0.000</td>\n",
       "      <td>0.000</td>\n",
       "      <td>0.000</td>\n",
       "      <td>0.000</td>\n",
       "      <td>0.000</td>\n",
       "      <td>0.000</td>\n",
       "      <td>0.261</td>\n",
       "      <td>0.000</td>\n",
       "      <td>0.000</td>\n",
       "      <td>0.000</td>\n",
       "      <td>0.000</td>\n",
       "      <td>0.000</td>\n",
       "      <td>0.000</td>\n",
       "      <td>0.000</td>\n",
       "      <td>0.000</td>\n",
       "      <td>0.000</td>\n",
       "      <td>0.000</td>\n",
       "      <td>0.000</td>\n",
       "      <td>0.000</td>\n",
       "      <td>0.000</td>\n",
       "      <td>0.000</td>\n",
       "      <td>-0.310</td>\n",
       "      <td>0.000</td>\n",
       "      <td>0.000</td>\n",
       "      <td>0.000</td>\n",
       "      <td>0.000</td>\n",
       "      <td>0.000</td>\n",
       "      <td>0.000</td>\n",
       "      <td>0.000</td>\n",
       "      <td>0.000</td>\n",
       "      <td>0.000</td>\n",
       "      <td>0.000</td>\n",
       "      <td>0.000</td>\n",
       "      <td>0.000</td>\n",
       "      <td>0.262</td>\n",
       "      <td>0.000</td>\n",
       "      <td>0.000</td>\n",
       "      <td>0.000</td>\n",
       "      <td>-0.265</td>\n",
       "      <td>0.000</td>\n",
       "      <td>0.000</td>\n",
       "      <td>0.000</td>\n",
       "      <td>0.000</td>\n",
       "      <td>0.000</td>\n",
       "      <td>0.000</td>\n",
       "      <td>0.058</td>\n",
       "      <td>-0.291</td>\n",
       "      <td>-0.058</td>\n",
       "      <td>0.125</td>\n",
       "      <td>-0.221</td>\n",
       "      <td>-0.295</td>\n",
       "      <td>-0.235</td>\n",
       "      <td>0.331</td>\n",
       "      <td>0.203</td>\n",
       "      <td>0.145</td>\n",
       "      <td>0.258</td>\n",
       "      <td>-0.324</td>\n",
       "      <td>0.044</td>\n",
       "      <td>-0.228</td>\n",
       "      <td>0.242</td>\n",
       "      <td>-0.125</td>\n",
       "      <td>-0.158</td>\n",
       "      <td>0.200</td>\n",
       "      <td>0.180</td>\n",
       "      <td>0.345</td>\n",
       "      <td>-0.178</td>\n",
       "      <td>-0.033</td>\n",
       "      <td>-0.178</td>\n",
       "    </tr>\n",
       "    <tr>\n",
       "      <th>1</th>\n",
       "      <td>0.000</td>\n",
       "      <td>0.000</td>\n",
       "      <td>0.000</td>\n",
       "      <td>0.000</td>\n",
       "      <td>0.000</td>\n",
       "      <td>0.000</td>\n",
       "      <td>0.000</td>\n",
       "      <td>-0.275</td>\n",
       "      <td>0.000</td>\n",
       "      <td>0.000</td>\n",
       "      <td>0.278</td>\n",
       "      <td>0.000</td>\n",
       "      <td>0.000</td>\n",
       "      <td>0.000</td>\n",
       "      <td>0.000</td>\n",
       "      <td>0.000</td>\n",
       "      <td>0.000</td>\n",
       "      <td>0.000</td>\n",
       "      <td>0.000</td>\n",
       "      <td>0.000</td>\n",
       "      <td>-0.248</td>\n",
       "      <td>0.000</td>\n",
       "      <td>0.000</td>\n",
       "      <td>0.000</td>\n",
       "      <td>0.000</td>\n",
       "      <td>0.000</td>\n",
       "      <td>0.000</td>\n",
       "      <td>0.000</td>\n",
       "      <td>0.000</td>\n",
       "      <td>0.000</td>\n",
       "      <td>0.000</td>\n",
       "      <td>0.000</td>\n",
       "      <td>0.000</td>\n",
       "      <td>0.000</td>\n",
       "      <td>0.266</td>\n",
       "      <td>0.000</td>\n",
       "      <td>0.000</td>\n",
       "      <td>0.000</td>\n",
       "      <td>0.000</td>\n",
       "      <td>0.000</td>\n",
       "      <td>0.000</td>\n",
       "      <td>0.000</td>\n",
       "      <td>0.000</td>\n",
       "      <td>0.000</td>\n",
       "      <td>0.000</td>\n",
       "      <td>0.000</td>\n",
       "      <td>0.000</td>\n",
       "      <td>-0.255</td>\n",
       "      <td>0.000</td>\n",
       "      <td>0.000</td>\n",
       "      <td>0.000</td>\n",
       "      <td>0.000</td>\n",
       "      <td>0.000</td>\n",
       "      <td>0.279</td>\n",
       "      <td>0.000</td>\n",
       "      <td>0.000</td>\n",
       "      <td>0.000</td>\n",
       "      <td>0.000</td>\n",
       "      <td>0.000</td>\n",
       "      <td>0.000</td>\n",
       "      <td>0.000</td>\n",
       "      <td>0.000</td>\n",
       "      <td>-0.278</td>\n",
       "      <td>0.000</td>\n",
       "      <td>0.000</td>\n",
       "      <td>0.000</td>\n",
       "      <td>0.000</td>\n",
       "      <td>0.000</td>\n",
       "      <td>0.000</td>\n",
       "      <td>0.000</td>\n",
       "      <td>0.074</td>\n",
       "      <td>0.203</td>\n",
       "      <td>0.316</td>\n",
       "      <td>0.086</td>\n",
       "      <td>-0.022</td>\n",
       "      <td>0.031</td>\n",
       "      <td>0.081</td>\n",
       "      <td>-0.125</td>\n",
       "      <td>0.285</td>\n",
       "      <td>-0.131</td>\n",
       "      <td>-0.299</td>\n",
       "      <td>-0.344</td>\n",
       "      <td>0.152</td>\n",
       "      <td>0.338</td>\n",
       "      <td>0.332</td>\n",
       "      <td>-0.152</td>\n",
       "      <td>-0.335</td>\n",
       "      <td>-0.028</td>\n",
       "      <td>0.030</td>\n",
       "      <td>-0.302</td>\n",
       "      <td>0.116</td>\n",
       "      <td>-0.039</td>\n",
       "      <td>0.048</td>\n",
       "    </tr>\n",
       "    <tr>\n",
       "      <th>2</th>\n",
       "      <td>0.000</td>\n",
       "      <td>0.000</td>\n",
       "      <td>0.000</td>\n",
       "      <td>0.000</td>\n",
       "      <td>0.000</td>\n",
       "      <td>0.000</td>\n",
       "      <td>0.000</td>\n",
       "      <td>0.000</td>\n",
       "      <td>0.306</td>\n",
       "      <td>0.000</td>\n",
       "      <td>0.294</td>\n",
       "      <td>0.000</td>\n",
       "      <td>0.000</td>\n",
       "      <td>0.000</td>\n",
       "      <td>0.000</td>\n",
       "      <td>0.000</td>\n",
       "      <td>0.000</td>\n",
       "      <td>0.000</td>\n",
       "      <td>0.000</td>\n",
       "      <td>0.000</td>\n",
       "      <td>0.000</td>\n",
       "      <td>0.000</td>\n",
       "      <td>0.000</td>\n",
       "      <td>0.000</td>\n",
       "      <td>0.000</td>\n",
       "      <td>0.000</td>\n",
       "      <td>-0.287</td>\n",
       "      <td>0.000</td>\n",
       "      <td>0.000</td>\n",
       "      <td>0.000</td>\n",
       "      <td>0.000</td>\n",
       "      <td>0.000</td>\n",
       "      <td>0.000</td>\n",
       "      <td>0.000</td>\n",
       "      <td>0.000</td>\n",
       "      <td>-0.261</td>\n",
       "      <td>0.000</td>\n",
       "      <td>0.000</td>\n",
       "      <td>0.000</td>\n",
       "      <td>0.000</td>\n",
       "      <td>0.000</td>\n",
       "      <td>0.000</td>\n",
       "      <td>0.000</td>\n",
       "      <td>0.000</td>\n",
       "      <td>0.000</td>\n",
       "      <td>-0.298</td>\n",
       "      <td>0.000</td>\n",
       "      <td>0.000</td>\n",
       "      <td>0.000</td>\n",
       "      <td>0.000</td>\n",
       "      <td>0.000</td>\n",
       "      <td>0.000</td>\n",
       "      <td>0.000</td>\n",
       "      <td>-0.305</td>\n",
       "      <td>0.000</td>\n",
       "      <td>0.000</td>\n",
       "      <td>0.000</td>\n",
       "      <td>0.000</td>\n",
       "      <td>0.000</td>\n",
       "      <td>0.000</td>\n",
       "      <td>0.000</td>\n",
       "      <td>0.000</td>\n",
       "      <td>0.000</td>\n",
       "      <td>0.000</td>\n",
       "      <td>0.286</td>\n",
       "      <td>0.000</td>\n",
       "      <td>0.000</td>\n",
       "      <td>0.000</td>\n",
       "      <td>0.000</td>\n",
       "      <td>0.000</td>\n",
       "      <td>0.095</td>\n",
       "      <td>0.051</td>\n",
       "      <td>-0.263</td>\n",
       "      <td>0.116</td>\n",
       "      <td>0.075</td>\n",
       "      <td>-0.020</td>\n",
       "      <td>-0.298</td>\n",
       "      <td>0.320</td>\n",
       "      <td>0.125</td>\n",
       "      <td>-0.298</td>\n",
       "      <td>0.262</td>\n",
       "      <td>0.001</td>\n",
       "      <td>0.345</td>\n",
       "      <td>-0.325</td>\n",
       "      <td>-0.112</td>\n",
       "      <td>0.035</td>\n",
       "      <td>-0.191</td>\n",
       "      <td>0.044</td>\n",
       "      <td>0.226</td>\n",
       "      <td>0.338</td>\n",
       "      <td>-0.133</td>\n",
       "      <td>0.317</td>\n",
       "      <td>0.030</td>\n",
       "    </tr>\n",
       "    <tr>\n",
       "      <th>3</th>\n",
       "      <td>0.000</td>\n",
       "      <td>0.292</td>\n",
       "      <td>0.000</td>\n",
       "      <td>0.000</td>\n",
       "      <td>0.000</td>\n",
       "      <td>0.000</td>\n",
       "      <td>0.000</td>\n",
       "      <td>0.000</td>\n",
       "      <td>0.000</td>\n",
       "      <td>0.000</td>\n",
       "      <td>0.000</td>\n",
       "      <td>0.000</td>\n",
       "      <td>0.000</td>\n",
       "      <td>0.000</td>\n",
       "      <td>0.000</td>\n",
       "      <td>0.000</td>\n",
       "      <td>0.000</td>\n",
       "      <td>0.000</td>\n",
       "      <td>0.000</td>\n",
       "      <td>0.306</td>\n",
       "      <td>0.000</td>\n",
       "      <td>0.000</td>\n",
       "      <td>0.000</td>\n",
       "      <td>0.298</td>\n",
       "      <td>0.000</td>\n",
       "      <td>0.000</td>\n",
       "      <td>0.000</td>\n",
       "      <td>0.000</td>\n",
       "      <td>0.000</td>\n",
       "      <td>0.000</td>\n",
       "      <td>0.000</td>\n",
       "      <td>0.000</td>\n",
       "      <td>0.000</td>\n",
       "      <td>0.000</td>\n",
       "      <td>0.000</td>\n",
       "      <td>-0.292</td>\n",
       "      <td>0.000</td>\n",
       "      <td>0.000</td>\n",
       "      <td>0.000</td>\n",
       "      <td>0.000</td>\n",
       "      <td>0.000</td>\n",
       "      <td>0.000</td>\n",
       "      <td>0.000</td>\n",
       "      <td>0.000</td>\n",
       "      <td>-0.253</td>\n",
       "      <td>0.000</td>\n",
       "      <td>0.000</td>\n",
       "      <td>0.000</td>\n",
       "      <td>0.000</td>\n",
       "      <td>0.000</td>\n",
       "      <td>0.000</td>\n",
       "      <td>0.000</td>\n",
       "      <td>0.000</td>\n",
       "      <td>0.000</td>\n",
       "      <td>-0.264</td>\n",
       "      <td>0.000</td>\n",
       "      <td>0.000</td>\n",
       "      <td>0.000</td>\n",
       "      <td>0.000</td>\n",
       "      <td>0.000</td>\n",
       "      <td>0.000</td>\n",
       "      <td>0.000</td>\n",
       "      <td>0.000</td>\n",
       "      <td>0.000</td>\n",
       "      <td>0.000</td>\n",
       "      <td>0.000</td>\n",
       "      <td>-0.228</td>\n",
       "      <td>0.000</td>\n",
       "      <td>0.000</td>\n",
       "      <td>0.000</td>\n",
       "      <td>-0.311</td>\n",
       "      <td>0.163</td>\n",
       "      <td>-0.202</td>\n",
       "      <td>0.115</td>\n",
       "      <td>0.128</td>\n",
       "      <td>0.268</td>\n",
       "      <td>-0.000</td>\n",
       "      <td>0.073</td>\n",
       "      <td>0.228</td>\n",
       "      <td>-0.197</td>\n",
       "      <td>0.090</td>\n",
       "      <td>-0.076</td>\n",
       "      <td>-0.241</td>\n",
       "      <td>-0.340</td>\n",
       "      <td>-0.283</td>\n",
       "      <td>0.071</td>\n",
       "      <td>-0.257</td>\n",
       "      <td>-0.086</td>\n",
       "      <td>-0.266</td>\n",
       "      <td>0.207</td>\n",
       "      <td>0.012</td>\n",
       "      <td>-0.076</td>\n",
       "      <td>0.275</td>\n",
       "    </tr>\n",
       "    <tr>\n",
       "      <th>4</th>\n",
       "      <td>0.000</td>\n",
       "      <td>-0.278</td>\n",
       "      <td>0.000</td>\n",
       "      <td>0.000</td>\n",
       "      <td>0.000</td>\n",
       "      <td>0.000</td>\n",
       "      <td>0.000</td>\n",
       "      <td>0.000</td>\n",
       "      <td>0.000</td>\n",
       "      <td>0.000</td>\n",
       "      <td>0.000</td>\n",
       "      <td>-0.305</td>\n",
       "      <td>0.000</td>\n",
       "      <td>0.000</td>\n",
       "      <td>0.000</td>\n",
       "      <td>0.000</td>\n",
       "      <td>0.000</td>\n",
       "      <td>0.000</td>\n",
       "      <td>0.000</td>\n",
       "      <td>0.000</td>\n",
       "      <td>0.000</td>\n",
       "      <td>0.000</td>\n",
       "      <td>0.000</td>\n",
       "      <td>0.000</td>\n",
       "      <td>0.000</td>\n",
       "      <td>0.000</td>\n",
       "      <td>0.000</td>\n",
       "      <td>0.000</td>\n",
       "      <td>0.299</td>\n",
       "      <td>0.000</td>\n",
       "      <td>0.000</td>\n",
       "      <td>0.297</td>\n",
       "      <td>0.000</td>\n",
       "      <td>0.000</td>\n",
       "      <td>0.000</td>\n",
       "      <td>0.000</td>\n",
       "      <td>0.000</td>\n",
       "      <td>0.000</td>\n",
       "      <td>0.000</td>\n",
       "      <td>0.000</td>\n",
       "      <td>0.000</td>\n",
       "      <td>0.000</td>\n",
       "      <td>0.000</td>\n",
       "      <td>0.000</td>\n",
       "      <td>0.000</td>\n",
       "      <td>0.308</td>\n",
       "      <td>0.000</td>\n",
       "      <td>0.000</td>\n",
       "      <td>0.000</td>\n",
       "      <td>0.000</td>\n",
       "      <td>0.000</td>\n",
       "      <td>0.308</td>\n",
       "      <td>0.000</td>\n",
       "      <td>0.000</td>\n",
       "      <td>0.000</td>\n",
       "      <td>0.000</td>\n",
       "      <td>0.000</td>\n",
       "      <td>0.000</td>\n",
       "      <td>0.000</td>\n",
       "      <td>0.000</td>\n",
       "      <td>0.000</td>\n",
       "      <td>0.000</td>\n",
       "      <td>0.000</td>\n",
       "      <td>0.000</td>\n",
       "      <td>0.000</td>\n",
       "      <td>0.000</td>\n",
       "      <td>0.000</td>\n",
       "      <td>0.000</td>\n",
       "      <td>0.000</td>\n",
       "      <td>0.288</td>\n",
       "      <td>0.203</td>\n",
       "      <td>0.094</td>\n",
       "      <td>-0.277</td>\n",
       "      <td>0.220</td>\n",
       "      <td>-0.227</td>\n",
       "      <td>-0.303</td>\n",
       "      <td>-0.203</td>\n",
       "      <td>-0.287</td>\n",
       "      <td>-0.277</td>\n",
       "      <td>0.086</td>\n",
       "      <td>-0.035</td>\n",
       "      <td>0.311</td>\n",
       "      <td>0.119</td>\n",
       "      <td>0.315</td>\n",
       "      <td>0.027</td>\n",
       "      <td>0.249</td>\n",
       "      <td>0.344</td>\n",
       "      <td>-0.088</td>\n",
       "      <td>-0.023</td>\n",
       "      <td>-0.122</td>\n",
       "      <td>-0.348</td>\n",
       "      <td>0.255</td>\n",
       "      <td>-0.057</td>\n",
       "    </tr>\n",
       "  </tbody>\n",
       "</table>\n",
       "</div>"
      ],
      "text/plain": [
       "   f0v0   f0v1  f0v2  f0v3  f0v4  f0v5  f0v6   f0v7  f0v8  f0v9  f1v0   f1v1  \\\n",
       "0 0.000 -0.292 0.000 0.000 0.000 0.000 0.000  0.000 0.000 0.000 0.000  0.000   \n",
       "1 0.000  0.000 0.000 0.000 0.000 0.000 0.000 -0.275 0.000 0.000 0.278  0.000   \n",
       "2 0.000  0.000 0.000 0.000 0.000 0.000 0.000  0.000 0.306 0.000 0.294  0.000   \n",
       "3 0.000  0.292 0.000 0.000 0.000 0.000 0.000  0.000 0.000 0.000 0.000  0.000   \n",
       "4 0.000 -0.278 0.000 0.000 0.000 0.000 0.000  0.000 0.000 0.000 0.000 -0.305   \n",
       "\n",
       "   f1v2  f1v3  f1v4  f1v5   f1v6  f1v7  f1v8  f1v9   f2v0  f2v1  f2v2  f2v3  \\\n",
       "0 0.000 0.000 0.000 0.000 -0.309 0.000 0.000 0.000  0.000 0.000 0.000 0.000   \n",
       "1 0.000 0.000 0.000 0.000  0.000 0.000 0.000 0.000 -0.248 0.000 0.000 0.000   \n",
       "2 0.000 0.000 0.000 0.000  0.000 0.000 0.000 0.000  0.000 0.000 0.000 0.000   \n",
       "3 0.000 0.000 0.000 0.000  0.000 0.000 0.000 0.306  0.000 0.000 0.000 0.298   \n",
       "4 0.000 0.000 0.000 0.000  0.000 0.000 0.000 0.000  0.000 0.000 0.000 0.000   \n",
       "\n",
       "    f2v4  f2v5   f2v6  f2v7  f2v8  f2v9  f3v0  f3v1  f3v2  f3v3  f3v4   f3v5  \\\n",
       "0 -0.302 0.000  0.000 0.000 0.000 0.000 0.000 0.261 0.000 0.000 0.000  0.000   \n",
       "1  0.000 0.000  0.000 0.000 0.000 0.000 0.000 0.000 0.000 0.000 0.266  0.000   \n",
       "2  0.000 0.000 -0.287 0.000 0.000 0.000 0.000 0.000 0.000 0.000 0.000 -0.261   \n",
       "3  0.000 0.000  0.000 0.000 0.000 0.000 0.000 0.000 0.000 0.000 0.000 -0.292   \n",
       "4  0.000 0.000  0.000 0.000 0.299 0.000 0.000 0.297 0.000 0.000 0.000  0.000   \n",
       "\n",
       "   f3v6  f3v7  f3v8  f3v9  f4v0  f4v1  f4v2  f4v3   f4v4   f4v5   f4v6   f4v7  \\\n",
       "0 0.000 0.000 0.000 0.000 0.000 0.000 0.000 0.000  0.000  0.000 -0.310  0.000   \n",
       "1 0.000 0.000 0.000 0.000 0.000 0.000 0.000 0.000  0.000  0.000  0.000 -0.255   \n",
       "2 0.000 0.000 0.000 0.000 0.000 0.000 0.000 0.000  0.000 -0.298  0.000  0.000   \n",
       "3 0.000 0.000 0.000 0.000 0.000 0.000 0.000 0.000 -0.253  0.000  0.000  0.000   \n",
       "4 0.000 0.000 0.000 0.000 0.000 0.000 0.000 0.000  0.000  0.308  0.000  0.000   \n",
       "\n",
       "   f4v8  f4v9  f5v0  f5v1  f5v2   f5v3   f5v4  f5v5  f5v6  f5v7  f5v8  f5v9  \\\n",
       "0 0.000 0.000 0.000 0.000 0.000  0.000  0.000 0.000 0.000 0.000 0.000 0.262   \n",
       "1 0.000 0.000 0.000 0.000 0.000  0.279  0.000 0.000 0.000 0.000 0.000 0.000   \n",
       "2 0.000 0.000 0.000 0.000 0.000 -0.305  0.000 0.000 0.000 0.000 0.000 0.000   \n",
       "3 0.000 0.000 0.000 0.000 0.000  0.000 -0.264 0.000 0.000 0.000 0.000 0.000   \n",
       "4 0.000 0.000 0.000 0.308 0.000  0.000  0.000 0.000 0.000 0.000 0.000 0.000   \n",
       "\n",
       "   f6v0  f6v1   f6v2   f6v3  f6v4  f6v5   f6v6  f6v7  f6v8  f6v9     b0  \\\n",
       "0 0.000 0.000  0.000 -0.265 0.000 0.000  0.000 0.000 0.000 0.000  0.058   \n",
       "1 0.000 0.000 -0.278  0.000 0.000 0.000  0.000 0.000 0.000 0.000  0.074   \n",
       "2 0.000 0.000  0.000  0.000 0.286 0.000  0.000 0.000 0.000 0.000  0.095   \n",
       "3 0.000 0.000  0.000  0.000 0.000 0.000 -0.228 0.000 0.000 0.000 -0.311   \n",
       "4 0.000 0.000  0.000  0.000 0.000 0.000  0.000 0.000 0.000 0.288  0.203   \n",
       "\n",
       "      b1     b2    b3     b4     b5     b6  lp0c0  lp0c1  lp1c0  lp1c1  lp2c0  \\\n",
       "0 -0.291 -0.058 0.125 -0.221 -0.295 -0.235  0.331  0.203  0.145  0.258 -0.324   \n",
       "1  0.203  0.316 0.086 -0.022  0.031  0.081 -0.125  0.285 -0.131 -0.299 -0.344   \n",
       "2  0.051 -0.263 0.116  0.075 -0.020 -0.298  0.320  0.125 -0.298  0.262  0.001   \n",
       "3  0.163 -0.202 0.115  0.128  0.268 -0.000  0.073  0.228 -0.197  0.090 -0.076   \n",
       "4  0.094 -0.277 0.220 -0.227 -0.303 -0.203 -0.287 -0.277  0.086 -0.035  0.311   \n",
       "\n",
       "   lp2c1  lp3c0  lp3c1  lp4c0  lp4c1  lp5c0  lp5c1  lp6c0  lp6c1  lp7c0  lp7c1  \n",
       "0  0.044 -0.228  0.242 -0.125 -0.158  0.200  0.180  0.345 -0.178 -0.033 -0.178  \n",
       "1  0.152  0.338  0.332 -0.152 -0.335 -0.028  0.030 -0.302  0.116 -0.039  0.048  \n",
       "2  0.345 -0.325 -0.112  0.035 -0.191  0.044  0.226  0.338 -0.133  0.317  0.030  \n",
       "3 -0.241 -0.340 -0.283  0.071 -0.257 -0.086 -0.266  0.207  0.012 -0.076  0.275  \n",
       "4  0.119  0.315  0.027  0.249  0.344 -0.088 -0.023 -0.122 -0.348  0.255 -0.057  "
      ]
     },
     "execution_count": 10,
     "metadata": {},
     "output_type": "execute_result"
    }
   ],
   "source": [
    "function_df.head()"
   ]
  },
  {
   "cell_type": "code",
   "execution_count": 11,
   "metadata": {
    "execution": {
     "iopub.execute_input": "2022-04-30T07:10:50.027911Z",
     "iopub.status.busy": "2022-04-30T07:10:50.027741Z",
     "iopub.status.idle": "2022-04-30T07:10:50.033524Z",
     "shell.execute_reply": "2022-04-30T07:10:50.032856Z",
     "shell.execute_reply.started": "2022-04-30T07:10:50.027888Z"
    }
   },
   "outputs": [
    {
     "data": {
      "text/plain": [
       "f0v0    0.000\n",
       "f0v1   -0.292\n",
       "f0v2    0.000\n",
       "f0v3    0.000\n",
       "f0v4    0.000\n",
       "f0v5    0.000\n",
       "f0v6    0.000\n",
       "f0v7    0.000\n",
       "f0v8    0.000\n",
       "f0v9    0.000\n",
       "dtype: float32"
      ]
     },
     "execution_count": 11,
     "metadata": {},
     "output_type": "execute_result"
    }
   ],
   "source": [
    "X_data_list[0][0].head(10)"
   ]
  },
  {
   "cell_type": "code",
   "execution_count": 12,
   "metadata": {
    "ExecuteTime": {
     "end_time": "2021-01-17T09:46:12.626401Z",
     "start_time": "2021-01-17T09:46:12.608200Z"
    },
    "execution": {
     "iopub.execute_input": "2022-04-30T07:10:50.036739Z",
     "iopub.status.busy": "2022-04-30T07:10:50.036500Z",
     "iopub.status.idle": "2022-04-30T07:10:50.113828Z",
     "shell.execute_reply": "2022-04-30T07:10:50.112943Z",
     "shell.execute_reply.started": "2022-04-30T07:10:50.036715Z"
    }
   },
   "outputs": [
    {
     "data": {
      "text/html": [
       "<div>\n",
       "<style scoped>\n",
       "    .dataframe tbody tr th:only-of-type {\n",
       "        vertical-align: middle;\n",
       "    }\n",
       "\n",
       "    .dataframe tbody tr th {\n",
       "        vertical-align: top;\n",
       "    }\n",
       "\n",
       "    .dataframe thead th {\n",
       "        text-align: right;\n",
       "    }\n",
       "</style>\n",
       "<table border=\"1\" class=\"dataframe\">\n",
       "  <thead>\n",
       "    <tr style=\"text-align: right;\">\n",
       "      <th></th>\n",
       "      <th>x0</th>\n",
       "      <th>x1</th>\n",
       "      <th>x2</th>\n",
       "      <th>x3</th>\n",
       "      <th>x4</th>\n",
       "      <th>x5</th>\n",
       "      <th>x6</th>\n",
       "      <th>x7</th>\n",
       "      <th>x8</th>\n",
       "      <th>x9</th>\n",
       "    </tr>\n",
       "  </thead>\n",
       "  <tbody>\n",
       "    <tr>\n",
       "      <th>0</th>\n",
       "      <td>0.432</td>\n",
       "      <td>0.291</td>\n",
       "      <td>0.612</td>\n",
       "      <td>0.140</td>\n",
       "      <td>0.292</td>\n",
       "      <td>0.366</td>\n",
       "      <td>0.456</td>\n",
       "      <td>0.785</td>\n",
       "      <td>0.200</td>\n",
       "      <td>0.514</td>\n",
       "    </tr>\n",
       "    <tr>\n",
       "      <th>1</th>\n",
       "      <td>0.592</td>\n",
       "      <td>0.046</td>\n",
       "      <td>0.608</td>\n",
       "      <td>0.171</td>\n",
       "      <td>0.065</td>\n",
       "      <td>0.949</td>\n",
       "      <td>0.966</td>\n",
       "      <td>0.809</td>\n",
       "      <td>0.305</td>\n",
       "      <td>0.098</td>\n",
       "    </tr>\n",
       "    <tr>\n",
       "      <th>2</th>\n",
       "      <td>0.684</td>\n",
       "      <td>0.440</td>\n",
       "      <td>0.122</td>\n",
       "      <td>0.495</td>\n",
       "      <td>0.034</td>\n",
       "      <td>0.909</td>\n",
       "      <td>0.259</td>\n",
       "      <td>0.663</td>\n",
       "      <td>0.312</td>\n",
       "      <td>0.520</td>\n",
       "    </tr>\n",
       "    <tr>\n",
       "      <th>3</th>\n",
       "      <td>0.547</td>\n",
       "      <td>0.185</td>\n",
       "      <td>0.970</td>\n",
       "      <td>0.775</td>\n",
       "      <td>0.940</td>\n",
       "      <td>0.895</td>\n",
       "      <td>0.598</td>\n",
       "      <td>0.922</td>\n",
       "      <td>0.088</td>\n",
       "      <td>0.196</td>\n",
       "    </tr>\n",
       "    <tr>\n",
       "      <th>4</th>\n",
       "      <td>0.045</td>\n",
       "      <td>0.325</td>\n",
       "      <td>0.389</td>\n",
       "      <td>0.271</td>\n",
       "      <td>0.829</td>\n",
       "      <td>0.357</td>\n",
       "      <td>0.281</td>\n",
       "      <td>0.543</td>\n",
       "      <td>0.141</td>\n",
       "      <td>0.802</td>\n",
       "    </tr>\n",
       "    <tr>\n",
       "      <th>5</th>\n",
       "      <td>0.074</td>\n",
       "      <td>0.987</td>\n",
       "      <td>0.772</td>\n",
       "      <td>0.199</td>\n",
       "      <td>0.006</td>\n",
       "      <td>0.816</td>\n",
       "      <td>0.707</td>\n",
       "      <td>0.729</td>\n",
       "      <td>0.771</td>\n",
       "      <td>0.074</td>\n",
       "    </tr>\n",
       "    <tr>\n",
       "      <th>6</th>\n",
       "      <td>0.358</td>\n",
       "      <td>0.116</td>\n",
       "      <td>0.863</td>\n",
       "      <td>0.623</td>\n",
       "      <td>0.331</td>\n",
       "      <td>0.063</td>\n",
       "      <td>0.311</td>\n",
       "      <td>0.325</td>\n",
       "      <td>0.730</td>\n",
       "      <td>0.638</td>\n",
       "    </tr>\n",
       "    <tr>\n",
       "      <th>7</th>\n",
       "      <td>0.887</td>\n",
       "      <td>0.472</td>\n",
       "      <td>0.120</td>\n",
       "      <td>0.713</td>\n",
       "      <td>0.761</td>\n",
       "      <td>0.561</td>\n",
       "      <td>0.771</td>\n",
       "      <td>0.494</td>\n",
       "      <td>0.523</td>\n",
       "      <td>0.428</td>\n",
       "    </tr>\n",
       "    <tr>\n",
       "      <th>8</th>\n",
       "      <td>0.025</td>\n",
       "      <td>0.108</td>\n",
       "      <td>0.031</td>\n",
       "      <td>0.637</td>\n",
       "      <td>0.314</td>\n",
       "      <td>0.509</td>\n",
       "      <td>0.908</td>\n",
       "      <td>0.249</td>\n",
       "      <td>0.410</td>\n",
       "      <td>0.756</td>\n",
       "    </tr>\n",
       "    <tr>\n",
       "      <th>9</th>\n",
       "      <td>0.229</td>\n",
       "      <td>0.077</td>\n",
       "      <td>0.290</td>\n",
       "      <td>0.161</td>\n",
       "      <td>0.930</td>\n",
       "      <td>0.808</td>\n",
       "      <td>0.634</td>\n",
       "      <td>0.872</td>\n",
       "      <td>0.804</td>\n",
       "      <td>0.187</td>\n",
       "    </tr>\n",
       "  </tbody>\n",
       "</table>\n",
       "</div>"
      ],
      "text/plain": [
       "     x0    x1    x2    x3    x4    x5    x6    x7    x8    x9\n",
       "0 0.432 0.291 0.612 0.140 0.292 0.366 0.456 0.785 0.200 0.514\n",
       "1 0.592 0.046 0.608 0.171 0.065 0.949 0.966 0.809 0.305 0.098\n",
       "2 0.684 0.440 0.122 0.495 0.034 0.909 0.259 0.663 0.312 0.520\n",
       "3 0.547 0.185 0.970 0.775 0.940 0.895 0.598 0.922 0.088 0.196\n",
       "4 0.045 0.325 0.389 0.271 0.829 0.357 0.281 0.543 0.141 0.802\n",
       "5 0.074 0.987 0.772 0.199 0.006 0.816 0.707 0.729 0.771 0.074\n",
       "6 0.358 0.116 0.863 0.623 0.331 0.063 0.311 0.325 0.730 0.638\n",
       "7 0.887 0.472 0.120 0.713 0.761 0.561 0.771 0.494 0.523 0.428\n",
       "8 0.025 0.108 0.031 0.637 0.314 0.509 0.908 0.249 0.410 0.756\n",
       "9 0.229 0.077 0.290 0.161 0.930 0.808 0.634 0.872 0.804 0.187"
      ]
     },
     "execution_count": 12,
     "metadata": {},
     "output_type": "execute_result"
    }
   ],
   "source": [
    "X_data_list[0][1].head(10)"
   ]
  },
  {
   "cell_type": "code",
   "execution_count": 13,
   "metadata": {
    "execution": {
     "iopub.execute_input": "2022-04-30T07:10:50.115119Z",
     "iopub.status.busy": "2022-04-30T07:10:50.114837Z",
     "iopub.status.idle": "2022-04-30T07:10:50.133292Z",
     "shell.execute_reply": "2022-04-30T07:10:50.132393Z",
     "shell.execute_reply.started": "2022-04-30T07:10:50.115088Z"
    }
   },
   "outputs": [
    {
     "data": {
      "text/plain": [
       "f0v0    0.000\n",
       "f0v1   -0.292\n",
       "f0v2    0.000\n",
       "f0v3    0.000\n",
       "f0v4    0.000\n",
       "f0v5    0.000\n",
       "f0v6    0.000\n",
       "f0v7    0.000\n",
       "f0v8    0.000\n",
       "f0v9    0.000\n",
       "dtype: float32"
      ]
     },
     "execution_count": 13,
     "metadata": {},
     "output_type": "execute_result"
    }
   ],
   "source": [
    "y_data_list[0][0].head(10)"
   ]
  },
  {
   "cell_type": "code",
   "execution_count": 14,
   "metadata": {
    "ExecuteTime": {
     "end_time": "2021-01-17T09:46:12.636995Z",
     "start_time": "2021-01-17T09:46:12.629349Z"
    },
    "execution": {
     "iopub.execute_input": "2022-04-30T07:10:50.135246Z",
     "iopub.status.busy": "2022-04-30T07:10:50.134628Z",
     "iopub.status.idle": "2022-04-30T07:10:50.145177Z",
     "shell.execute_reply": "2022-04-30T07:10:50.144256Z",
     "shell.execute_reply.started": "2022-04-30T07:10:50.135199Z"
    }
   },
   "outputs": [
    {
     "data": {
      "text/html": [
       "<div>\n",
       "<style scoped>\n",
       "    .dataframe tbody tr th:only-of-type {\n",
       "        vertical-align: middle;\n",
       "    }\n",
       "\n",
       "    .dataframe tbody tr th {\n",
       "        vertical-align: top;\n",
       "    }\n",
       "\n",
       "    .dataframe thead th {\n",
       "        text-align: right;\n",
       "    }\n",
       "</style>\n",
       "<table border=\"1\" class=\"dataframe\">\n",
       "  <thead>\n",
       "    <tr style=\"text-align: right;\">\n",
       "      <th></th>\n",
       "      <th>result</th>\n",
       "    </tr>\n",
       "  </thead>\n",
       "  <tbody>\n",
       "    <tr>\n",
       "      <th>0</th>\n",
       "      <td>1.000</td>\n",
       "    </tr>\n",
       "    <tr>\n",
       "      <th>1</th>\n",
       "      <td>1.000</td>\n",
       "    </tr>\n",
       "    <tr>\n",
       "      <th>2</th>\n",
       "      <td>1.000</td>\n",
       "    </tr>\n",
       "    <tr>\n",
       "      <th>3</th>\n",
       "      <td>1.000</td>\n",
       "    </tr>\n",
       "    <tr>\n",
       "      <th>4</th>\n",
       "      <td>0.000</td>\n",
       "    </tr>\n",
       "    <tr>\n",
       "      <th>5</th>\n",
       "      <td>1.000</td>\n",
       "    </tr>\n",
       "    <tr>\n",
       "      <th>6</th>\n",
       "      <td>1.000</td>\n",
       "    </tr>\n",
       "    <tr>\n",
       "      <th>7</th>\n",
       "      <td>1.000</td>\n",
       "    </tr>\n",
       "    <tr>\n",
       "      <th>8</th>\n",
       "      <td>1.000</td>\n",
       "    </tr>\n",
       "    <tr>\n",
       "      <th>9</th>\n",
       "      <td>1.000</td>\n",
       "    </tr>\n",
       "  </tbody>\n",
       "</table>\n",
       "</div>"
      ],
      "text/plain": [
       "   result\n",
       "0   1.000\n",
       "1   1.000\n",
       "2   1.000\n",
       "3   1.000\n",
       "4   0.000\n",
       "5   1.000\n",
       "6   1.000\n",
       "7   1.000\n",
       "8   1.000\n",
       "9   1.000"
      ]
     },
     "execution_count": 14,
     "metadata": {},
     "output_type": "execute_result"
    }
   ],
   "source": [
    "y_data_list[0][1].head(10)"
   ]
  },
  {
   "cell_type": "code",
   "execution_count": 15,
   "metadata": {
    "execution": {
     "iopub.execute_input": "2022-04-30T07:10:50.147141Z",
     "iopub.status.busy": "2022-04-30T07:10:50.146507Z",
     "iopub.status.idle": "2022-04-30T07:10:52.036189Z",
     "shell.execute_reply": "2022-04-30T07:10:52.035373Z",
     "shell.execute_reply.started": "2022-04-30T07:10:50.147094Z"
    }
   },
   "outputs": [
    {
     "data": {
      "image/png": "[encoded data removed]",
      "text/plain": [
       "<IPython.core.display.Image object>"
      ]
     },
     "execution_count": 15,
     "metadata": {},
     "output_type": "execute_result"
    }
   ],
   "source": [
    "plot = None\n",
    "if plot_tree_from_parameters != 'make_classification':\n",
    "    plot = plot_tree_from_parameters(y_data_list[0][0].values, config)\n",
    "plot"
   ]
  },
  {
   "cell_type": "code",
   "execution_count": 16,
   "metadata": {
    "execution": {
     "iopub.execute_input": "2022-04-30T07:10:52.037723Z",
     "iopub.status.busy": "2022-04-30T07:10:52.037432Z",
     "iopub.status.idle": "2022-04-30T07:10:52.048691Z",
     "shell.execute_reply": "2022-04-30T07:10:52.048022Z",
     "shell.execute_reply.started": "2022-04-30T07:10:52.037691Z"
    }
   },
   "outputs": [],
   "source": [
    "def inject_noise(y_data, noise=0.0, noise_dist='normal', seed=42):\n",
    "    \"\"\"\n",
    "    Returns a polynomial injected with specified noise type and amount. \n",
    "    Inputs a clean polynomial array with x-data and y-data and modifies the y-data according to the noise settings.\n",
    "    \"\"\"\n",
    "    np.random.seed(seed)\n",
    "    \n",
    "    #Calculate range of function values of input polynomial\n",
    "    range_values_fv = np.ptp(y_data[1].values)\n",
    "    \n",
    "    #Selection of noise type\n",
    "    #Available types: normal, uniform, A, B, C\n",
    "    if noise_dist=='normal':\n",
    "        noise_sample=noise*np.random.normal(loc=0, scale=1.0,size=y_data[1].shape[0])\n",
    "    elif noise_dist=='uniform':\n",
    "        noise_sample=noise*np.random.uniform(low=0, high=1.0,size=y_data[1].shape[0])\n",
    "    elif noise_dist=='normal_range':\n",
    "        #Normal distribution adjusted to function value range\n",
    "        noise_sample=(noise*range_values_fv)*np.random.normal(loc=0, scale=1.0,size=y_data[1].shape[0])\n",
    "    elif noise_dist=='uniform_range':\n",
    "        noise_sample=(noise*range_values_fv)*np.random.normal(loc=0, scale=1.0,size=y_data[1].shape[0])\n",
    "    elif noise_dist=='flip_percentage':\n",
    "        idx = np.random.choice(y_data[1].shape[0], int(y_data[1].shape[0]*noise), replace=False)\n",
    "        y_data[1].iloc[idx] = (y_data[1].iloc[idx] + 1) % 2 \n",
    "        return y_data\n",
    "    else:\n",
    "        #no noise\n",
    "        noise_sample = np.zeros(y_data[1].shape[0])\n",
    "                               \n",
    "    noise_sample=noise_sample.reshape(-1,1)\n",
    "    \n",
    "    y_data[1]=y_data[1]+noise_sample\n",
    "    \n",
    "    return np.clip(y_data, 0, 1)"
   ]
  },
  {
   "cell_type": "code",
   "execution_count": 17,
   "metadata": {
    "execution": {
     "iopub.execute_input": "2022-04-30T07:10:52.049999Z",
     "iopub.status.busy": "2022-04-30T07:10:52.049573Z",
     "iopub.status.idle": "2022-04-30T07:10:52.073763Z",
     "shell.execute_reply": "2022-04-30T07:10:52.073102Z",
     "shell.execute_reply.started": "2022-04-30T07:10:52.049965Z"
    }
   },
   "outputs": [],
   "source": [
    "if noise_injected_level > 0:\n",
    "    parallel = Parallel(n_jobs=n_jobs, verbose=3, backend='loky')\n",
    "    y_data_list = parallel(delayed(inject_noise)(y_data=y_data_list[i],\n",
    "                                                 noise=noise_injected_level,\n",
    "                                                 noise_dist=noise_injected_type, \n",
    "                                                 seed=RANDOM_SEED+i) for i in range(len(y_data_list)))\n"
   ]
  },
  {
   "cell_type": "code",
   "execution_count": 18,
   "metadata": {
    "execution": {
     "iopub.execute_input": "2022-04-30T07:10:52.075012Z",
     "iopub.status.busy": "2022-04-30T07:10:52.074620Z",
     "iopub.status.idle": "2022-04-30T07:10:52.118332Z",
     "shell.execute_reply": "2022-04-30T07:10:52.117637Z",
     "shell.execute_reply.started": "2022-04-30T07:10:52.074986Z"
    }
   },
   "outputs": [
    {
     "data": {
      "text/plain": [
       "f0v0    0.000\n",
       "f0v1   -0.292\n",
       "f0v2    0.000\n",
       "f0v3    0.000\n",
       "f0v4    0.000\n",
       "f0v5    0.000\n",
       "f0v6    0.000\n",
       "f0v7    0.000\n",
       "f0v8    0.000\n",
       "f0v9    0.000\n",
       "dtype: float32"
      ]
     },
     "execution_count": 18,
     "metadata": {},
     "output_type": "execute_result"
    }
   ],
   "source": [
    "y_data_list[0][0].head(10)"
   ]
  },
  {
   "cell_type": "code",
   "execution_count": 19,
   "metadata": {
    "execution": {
     "iopub.execute_input": "2022-04-30T07:10:52.119852Z",
     "iopub.status.busy": "2022-04-30T07:10:52.119435Z",
     "iopub.status.idle": "2022-04-30T07:10:52.160300Z",
     "shell.execute_reply": "2022-04-30T07:10:52.159577Z",
     "shell.execute_reply.started": "2022-04-30T07:10:52.119826Z"
    }
   },
   "outputs": [
    {
     "data": {
      "text/plain": [
       "f0v0     0.000\n",
       "f0v1    -0.292\n",
       "f0v2     0.000\n",
       "f0v3     0.000\n",
       "f0v4     0.000\n",
       "         ...  \n",
       "lp5c1    0.180\n",
       "lp6c0    0.345\n",
       "lp6c1   -0.178\n",
       "lp7c0   -0.033\n",
       "lp7c1   -0.178\n",
       "Length: 93, dtype: float32"
      ]
     },
     "execution_count": 19,
     "metadata": {},
     "output_type": "execute_result"
    }
   ],
   "source": [
    "y_data_list[0][0]"
   ]
  },
  {
   "cell_type": "code",
   "execution_count": 20,
   "metadata": {
    "execution": {
     "iopub.execute_input": "2022-04-30T07:10:52.161323Z",
     "iopub.status.busy": "2022-04-30T07:10:52.161144Z",
     "iopub.status.idle": "2022-04-30T07:10:52.215399Z",
     "shell.execute_reply": "2022-04-30T07:10:52.214456Z",
     "shell.execute_reply.started": "2022-04-30T07:10:52.161299Z"
    }
   },
   "outputs": [
    {
     "data": {
      "text/html": [
       "<div>\n",
       "<style scoped>\n",
       "    .dataframe tbody tr th:only-of-type {\n",
       "        vertical-align: middle;\n",
       "    }\n",
       "\n",
       "    .dataframe tbody tr th {\n",
       "        vertical-align: top;\n",
       "    }\n",
       "\n",
       "    .dataframe thead th {\n",
       "        text-align: right;\n",
       "    }\n",
       "</style>\n",
       "<table border=\"1\" class=\"dataframe\">\n",
       "  <thead>\n",
       "    <tr style=\"text-align: right;\">\n",
       "      <th></th>\n",
       "      <th>result</th>\n",
       "    </tr>\n",
       "  </thead>\n",
       "  <tbody>\n",
       "    <tr>\n",
       "      <th>0</th>\n",
       "      <td>1.000</td>\n",
       "    </tr>\n",
       "    <tr>\n",
       "      <th>1</th>\n",
       "      <td>1.000</td>\n",
       "    </tr>\n",
       "    <tr>\n",
       "      <th>2</th>\n",
       "      <td>1.000</td>\n",
       "    </tr>\n",
       "    <tr>\n",
       "      <th>3</th>\n",
       "      <td>1.000</td>\n",
       "    </tr>\n",
       "    <tr>\n",
       "      <th>4</th>\n",
       "      <td>0.000</td>\n",
       "    </tr>\n",
       "    <tr>\n",
       "      <th>5</th>\n",
       "      <td>1.000</td>\n",
       "    </tr>\n",
       "    <tr>\n",
       "      <th>6</th>\n",
       "      <td>1.000</td>\n",
       "    </tr>\n",
       "    <tr>\n",
       "      <th>7</th>\n",
       "      <td>1.000</td>\n",
       "    </tr>\n",
       "    <tr>\n",
       "      <th>8</th>\n",
       "      <td>1.000</td>\n",
       "    </tr>\n",
       "    <tr>\n",
       "      <th>9</th>\n",
       "      <td>1.000</td>\n",
       "    </tr>\n",
       "  </tbody>\n",
       "</table>\n",
       "</div>"
      ],
      "text/plain": [
       "   result\n",
       "0   1.000\n",
       "1   1.000\n",
       "2   1.000\n",
       "3   1.000\n",
       "4   0.000\n",
       "5   1.000\n",
       "6   1.000\n",
       "7   1.000\n",
       "8   1.000\n",
       "9   1.000"
      ]
     },
     "execution_count": 20,
     "metadata": {},
     "output_type": "execute_result"
    }
   ],
   "source": [
    "y_data_list[0][1].head(10)"
   ]
  },
  {
   "cell_type": "markdown",
   "metadata": {
    "ExecuteTime": {
     "end_time": "2020-09-16T17:06:36.919643Z",
     "start_time": "2020-09-16T17:06:36.912904Z"
    }
   },
   "source": [
    "## Lambda Network Training + Weigh/Bias saving"
   ]
  },
  {
   "cell_type": "code",
   "execution_count": 21,
   "metadata": {
    "execution": {
     "iopub.execute_input": "2022-04-30T07:10:52.217542Z",
     "iopub.status.busy": "2022-04-30T07:10:52.216859Z",
     "iopub.status.idle": "2022-04-30T07:10:52.296658Z",
     "shell.execute_reply": "2022-04-30T07:10:52.295659Z",
     "shell.execute_reply.started": "2022-04-30T07:10:52.217491Z"
    }
   },
   "outputs": [],
   "source": [
    "#%load_ext autoreload"
   ]
  },
  {
   "cell_type": "code",
   "execution_count": 22,
   "metadata": {
    "execution": {
     "iopub.execute_input": "2022-04-30T07:10:52.299054Z",
     "iopub.status.busy": "2022-04-30T07:10:52.298354Z",
     "iopub.status.idle": "2022-04-30T07:10:52.368021Z",
     "shell.execute_reply": "2022-04-30T07:10:52.366958Z",
     "shell.execute_reply.started": "2022-04-30T07:10:52.299004Z"
    },
    "tags": []
   },
   "outputs": [],
   "source": [
    "rand_index = np.random.randint(number_of_trained_lambda_nets)\n",
    "\n",
    "#rand_tree = generate_decision_tree_from_array(y_data_list[rand_index][0].values, config)\n",
    "#rand_tree.plot_tree()"
   ]
  },
  {
   "cell_type": "code",
   "execution_count": 23,
   "metadata": {
    "execution": {
     "iopub.execute_input": "2022-04-30T07:10:52.370099Z",
     "iopub.status.busy": "2022-04-30T07:10:52.369668Z",
     "iopub.status.idle": "2022-04-30T07:14:29.800067Z",
     "shell.execute_reply": "2022-04-30T07:14:29.798813Z",
     "shell.execute_reply.started": "2022-04-30T07:10:52.370048Z"
    },
    "tags": []
   },
   "outputs": [
    {
     "data": {
      "image/png": "[encoded data removed]",
      "text/plain": [
       "<Figure size 864x576 with 2 Axes>"
      ]
     },
     "metadata": {},
     "output_type": "display_data"
    },
    {
     "name": "stdout",
     "output_type": "stream",
     "text": [
      "binary_accuracy\n",
      "\ttraining         \t (min:    0.771, max:    1.000, cur:    0.999)\n",
      "\tvalidation       \t (min:    0.880, max:    0.997, cur:    0.987)\n",
      "Loss\n",
      "\ttraining         \t (min:    0.007, max:    0.623, cur:    0.007)\n",
      "\tvalidation       \t (min:    0.022, max:    0.560, cur:    0.026)\n"
     ]
    }
   ],
   "source": [
    "#%autoreload 2\n",
    "random_network = train_lambda_net(config=config,\n",
    "                                  lambda_index=rand_index, \n",
    "                                  X_data_with_function=X_data_list[rand_index], \n",
    "                                  y_data_with_function=y_data_list[rand_index], \n",
    "                                  distribution_parameter_list = distribution_parameter_list_list[rand_index][1],\n",
    "                                  callbacks=[PlotLossesKerasTF()], \n",
    "                                  return_model=True,\n",
    "                                  printing=False)"
   ]
  },
  {
   "cell_type": "code",
   "execution_count": 24,
   "metadata": {
    "execution": {
     "iopub.execute_input": "2022-04-30T07:14:29.803381Z",
     "iopub.status.busy": "2022-04-30T07:14:29.803030Z",
     "iopub.status.idle": "2022-04-30T07:14:41.061161Z",
     "shell.execute_reply": "2022-04-30T07:14:41.059979Z",
     "shell.execute_reply.started": "2022-04-30T07:14:29.803312Z"
    },
    "tags": []
   },
   "outputs": [
    {
     "data": {
      "image/png": "[encoded data removed]",
      "text/plain": [
       "<Figure size 1440x1080 with 20 Axes>"
      ]
     },
     "metadata": {},
     "output_type": "display_data"
    }
   ],
   "source": [
    "colors_list = ['green','blue','yellow','cyan','magenta','pink']\n",
    "\n",
    "if config['data']['number_of_variables'] > 4:\n",
    "    fig,ax = plt.subplots(nrows=np.ceil(config['data']['number_of_variables']*2/4).astype(int), ncols=4,figsize=(20,15))\n",
    "else:\n",
    "    fig,ax = plt.subplots(nrows=np.ceil(config['data']['number_of_variables']*2/2).astype(int), ncols=2,figsize=(20,15))\n",
    "\n",
    "for axis_1 in ax:\n",
    "    for axis_2 in axis_1:\n",
    "        axis_2.set_xlim([0, 1])                          \n",
    "\n",
    "plot_index = 0\n",
    "\n",
    "for i in range(X_data_list[rand_index][1].values.shape[1]):\n",
    "    colors = colors_list[i%6]\n",
    "\n",
    "    x = X_data_list[rand_index][1].values[:,i][np.where(random_network['model'].predict(X_data_list[rand_index][1].values).ravel()<=0.5)]\n",
    "    plt.subplot(np.ceil(config['data']['number_of_variables']*2/4).astype(int), 4,plot_index+1)\n",
    "    plt.hist(x,bins=[i/10 for i in range(11)],color=colors)\n",
    "    #plt.title(list(distribution_parameter.keys())[0] + ' Class 0' )\n",
    "    plot_index += 1\n",
    "\n",
    "    x = X_data_list[rand_index][1].values[:,i][np.where(random_network['model'].predict(X_data_list[rand_index][1].values).ravel()>0.5)]\n",
    "    plt.subplot(np.ceil(config['data']['number_of_variables']*2/4).astype(int),4,plot_index+1)\n",
    "    plt.hist(x,bins=[i/10 for i in range(11)],color=colors)\n",
    "    #plt.title(list(distribution_parameter.keys())[0] + ' Class 1' )\n",
    "    plot_index += 1\n",
    "\n",
    "fig.subplots_adjust(hspace=0.4,wspace=.3) \n",
    "plt.suptitle('Sampling from Various Distributions',fontsize=20)\n",
    "plt.show()"
   ]
  },
  {
   "cell_type": "code",
   "execution_count": 25,
   "metadata": {
    "execution": {
     "iopub.execute_input": "2022-04-30T07:14:41.063477Z",
     "iopub.status.busy": "2022-04-30T07:14:41.063172Z",
     "iopub.status.idle": "2022-04-30T07:14:41.071341Z",
     "shell.execute_reply": "2022-04-30T07:14:41.069805Z",
     "shell.execute_reply.started": "2022-04-30T07:14:41.063425Z"
    },
    "tags": []
   },
   "outputs": [],
   "source": [
    "distribution_parameter_list_list[0][1]"
   ]
  },
  {
   "cell_type": "code",
   "execution_count": 26,
   "metadata": {
    "execution": {
     "iopub.execute_input": "2022-04-30T07:14:41.074790Z",
     "iopub.status.busy": "2022-04-30T07:14:41.073417Z",
     "iopub.status.idle": "2022-04-30T07:14:41.097551Z",
     "shell.execute_reply": "2022-04-30T07:14:41.096073Z",
     "shell.execute_reply.started": "2022-04-30T07:14:41.074745Z"
    },
    "tags": []
   },
   "outputs": [],
   "source": [
    "#%load_ext autoreload\n",
    "#%autoreload 2"
   ]
  },
  {
   "cell_type": "code",
   "execution_count": null,
   "metadata": {
    "execution": {
     "iopub.execute_input": "2022-04-30T07:14:41.099548Z",
     "iopub.status.busy": "2022-04-30T07:14:41.099285Z"
    },
    "tags": []
   },
   "outputs": [
    {
     "name": "stderr",
     "output_type": "stream",
     "text": [
      "[Parallel(n_jobs=25)]: Using backend LokyBackend with 25 concurrent workers.\n",
      "[Parallel(n_jobs=25)]: Done  78 tasks      | elapsed:  8.7min\n",
      "[Parallel(n_jobs=25)]: Done 238 tasks      | elapsed: 23.1min\n",
      "[Parallel(n_jobs=25)]: Done 462 tasks      | elapsed: 43.9min\n",
      "[Parallel(n_jobs=25)]: Done 750 tasks      | elapsed: 69.6min\n",
      "[Parallel(n_jobs=25)]: Done 1102 tasks      | elapsed: 101.8min\n",
      "[Parallel(n_jobs=25)]: Done 1518 tasks      | elapsed: 138.8min\n",
      "[Parallel(n_jobs=25)]: Done 1998 tasks      | elapsed: 182.5min\n",
      "[Parallel(n_jobs=25)]: Done 2542 tasks      | elapsed: 231.3min\n",
      "[Parallel(n_jobs=25)]: Done 3150 tasks      | elapsed: 284.6min\n",
      "[Parallel(n_jobs=25)]: Done 3822 tasks      | elapsed: 340.6min\n",
      "[Parallel(n_jobs=25)]: Done 4558 tasks      | elapsed: 388.7min\n",
      "[Parallel(n_jobs=25)]: Done 5358 tasks      | elapsed: 443.8min\n",
      "[Parallel(n_jobs=25)]: Done 6222 tasks      | elapsed: 514.1min\n",
      "[Parallel(n_jobs=25)]: Done 7150 tasks      | elapsed: 575.5min\n",
      "[Parallel(n_jobs=25)]: Done 8142 tasks      | elapsed: 647.8min\n"
     ]
    }
   ],
   "source": [
    "parallel = Parallel(n_jobs=n_jobs, verbose=3, backend='loky') #loky\n",
    "clf_list = parallel(delayed(train_lambda_net)(config=config,\n",
    "                                              lambda_index=index, \n",
    "                                              X_data_with_function=X_data, \n",
    "                                              y_data_with_function=y_data,\n",
    "                                              distribution_parameter_list=distribution_parameter_list[1],\n",
    "                                              return_history=True, \n",
    "                                              printing=True) for index, (X_data, y_data, distribution_parameter_list) in enumerate(zip(X_data_list, y_data_list, distribution_parameter_list_list)))  \n",
    "del parallel"
   ]
  },
  {
   "cell_type": "code",
   "execution_count": null,
   "metadata": {},
   "outputs": [],
   "source": [
    "random_network['model'].get_config()"
   ]
  },
  {
   "cell_type": "code",
   "execution_count": null,
   "metadata": {
    "tags": []
   },
   "outputs": [],
   "source": [
    "random_network['model'].summary()"
   ]
  },
  {
   "cell_type": "markdown",
   "metadata": {},
   "source": [
    "## Save and Plot Lambda-Model History"
   ]
  },
  {
   "cell_type": "code",
   "execution_count": null,
   "metadata": {
    "ExecuteTime": {
     "start_time": "2021-01-17T09:44:26.874Z"
    },
    "tags": []
   },
   "outputs": [],
   "source": [
    "loss_list_total = []\n",
    "metric_list_total = []\n",
    "\n",
    "val_loss_list_total = []\n",
    "val_metric_list_total = []\n",
    "\n",
    "index_list = []\n",
    "\n",
    "\n",
    "max_training_epochs = 0\n",
    "for _, entry in tqdm(enumerate(clf_list)):\n",
    "    history = entry['history']\n",
    "    \n",
    "    current_training_epochs = len(history[list(history.keys())[0]])\n",
    "    max_training_epochs = max(max_training_epochs, current_training_epochs)\n",
    "\n",
    "\n",
    "for _, entry in tqdm(enumerate(clf_list)):\n",
    "    history = entry['history']\n",
    "    index = entry['index']\n",
    "    \n",
    "    current_training_epochs = len(history[list(history.keys())[0]])\n",
    "    \n",
    "    loss_list = np.full(max_training_epochs, np.nan)\n",
    "    metric_list = np.full(max_training_epochs, np.nan)\n",
    "    val_loss_list = np.full(max_training_epochs, np.nan)\n",
    "    val_metric_list = np.full(max_training_epochs, np.nan) \n",
    "\n",
    "    for i in range(current_training_epochs):  \n",
    "        loss_list[i] = history[list(history.keys())[0]][i]\n",
    "        metric_list[i] = history[list(history.keys())[1]][i]\n",
    "        val_loss_list[i] = history[list(history.keys())[len(history.keys())//2]][i]\n",
    "        val_metric_list[i] = history[list(history.keys())[len(history.keys())//2+1]][i]\n",
    "    \n",
    "    index_list.append([index])\n",
    "    loss_list_total.append(loss_list)\n",
    "    metric_list_total.append(metric_list)\n",
    "    val_loss_list_total.append(val_loss_list)\n",
    "    val_metric_list_total.append(val_metric_list)\n",
    "\n",
    "loss_df = pd.DataFrame(data=np.hstack([index_list, loss_list_total]), columns=flatten_list(['index', [list(history.keys())[0] + '_epoch_' + str(i+1) for i in range(max_training_epochs)]]))\n",
    "#loss_df['index'] = loss_df['index'].astype(int)\n",
    "metric_df = pd.DataFrame(data=np.hstack([index_list, metric_list_total]), columns=flatten_list(['index', [list(history.keys())[1] + '_epoch_' + str(i+1) for i in range(max_training_epochs)]]))\n",
    "#metric_df['index'] = metric_df['index'].astype(int)\n",
    "val_loss_df = pd.DataFrame(data=np.hstack([index_list, val_loss_list_total]), columns=flatten_list(['index', [list(history.keys())[len(history.keys())//2] + '_epoch_' + str(i+1) for i in range(max_training_epochs)]]))\n",
    "#val_loss_df['index'] = val_loss_df['index'].astype(int)\n",
    "val_metric_df = pd.DataFrame(data=np.hstack([index_list, val_metric_list_total]), columns=flatten_list(['index', [list(history.keys())[len(history.keys())//2+1] + '_epoch_' + str(i+1) for i in range(max_training_epochs)]])) \n",
    "#val_metric_df['index'] = val_metric_df['index'].astype(int)\n"
   ]
  },
  {
   "cell_type": "code",
   "execution_count": null,
   "metadata": {
    "ExecuteTime": {
     "start_time": "2021-01-17T09:44:26.875Z"
    }
   },
   "outputs": [],
   "source": [
    "path_loss = './data/weights/weights_' + path_identifier_lambda_net_data + '/history_' + list(history.keys())[0] + '.txt'\n",
    "path_metric = './data/weights/weights_' + path_identifier_lambda_net_data + '/history_' + list(history.keys())[1] + '.txt'\n",
    "path_val_loss = './data/weights/weights_' + path_identifier_lambda_net_data + '/history_' + list(history.keys())[len(history.keys())//2] + '.txt'\n",
    "path_val_metric = './data/weights/weights_' + path_identifier_lambda_net_data + '/history_' + list(history.keys())[len(history.keys())//2+1] + '.txt'\n",
    "\n",
    "loss_df.to_csv(path_loss, index=None, sep=',')\n",
    "metric_df.to_csv(path_metric, index=None, sep=',')\n",
    "val_loss_df.to_csv(path_val_loss, index=None, sep=',')\n",
    "val_metric_df.to_csv(path_val_metric, index=None, sep=',')\n"
   ]
  },
  {
   "cell_type": "code",
   "execution_count": null,
   "metadata": {
    "ExecuteTime": {
     "start_time": "2021-01-17T09:44:26.876Z"
    }
   },
   "outputs": [],
   "source": [
    "loss_df.describe()"
   ]
  },
  {
   "cell_type": "code",
   "execution_count": null,
   "metadata": {
    "ExecuteTime": {
     "start_time": "2021-01-17T09:44:26.877Z"
    }
   },
   "outputs": [],
   "source": [
    "val_loss_df.describe()"
   ]
  },
  {
   "cell_type": "code",
   "execution_count": null,
   "metadata": {
    "ExecuteTime": {
     "start_time": "2021-01-17T09:44:26.879Z"
    }
   },
   "outputs": [],
   "source": [
    "metric_df.describe()"
   ]
  },
  {
   "cell_type": "code",
   "execution_count": null,
   "metadata": {
    "ExecuteTime": {
     "start_time": "2021-01-17T09:44:26.880Z"
    }
   },
   "outputs": [],
   "source": [
    "val_metric_df.describe()"
   ]
  },
  {
   "cell_type": "code",
   "execution_count": null,
   "metadata": {
    "ExecuteTime": {
     "start_time": "2021-01-17T09:44:26.881Z"
    }
   },
   "outputs": [],
   "source": [
    "# summarize history for metric\n",
    "path = './data/results/weights_' + path_identifier_lambda_net_data + '/' + list(history.keys())[1] + '.png'\n",
    "\n",
    "adjustment_threshold_metric = 10#100\n",
    "    \n",
    "metric_df_adjusted = metric_df.copy(deep=True).iloc[:,1:]\n",
    "if adjustment_threshold_metric > 0:\n",
    "    metric_df_adjusted[metric_df_adjusted.columns] = np.where(metric_df_adjusted[metric_df_adjusted.columns] > adjustment_threshold_metric, adjustment_threshold_metric, metric_df_adjusted[metric_df_adjusted.columns])\n",
    "    \n",
    "val_metric_df_adjusted = val_metric_df.copy(deep=True).iloc[:,1:]\n",
    "if adjustment_threshold_metric > 0:\n",
    "    val_metric_df_adjusted[val_metric_df_adjusted.columns] = np.where(val_metric_df_adjusted[val_metric_df_adjusted.columns] > adjustment_threshold_metric, adjustment_threshold_metric, val_metric_df_adjusted[val_metric_df_adjusted.columns])\n",
    "\n",
    "    \n",
    "plt.plot(metric_df_adjusted.describe().loc['mean'].values)\n",
    "plt.plot(val_metric_df_adjusted.describe().loc['mean'].values)\n",
    "plt.title('model ' + list(history.keys())[1])\n",
    "plt.ylabel(list(history.keys())[1])\n",
    "plt.xlabel('epoch')\n",
    "plt.legend(['train', 'valid'], loc='upper left')\n",
    "plt.savefig(path)\n",
    "plt.show()\n"
   ]
  },
  {
   "cell_type": "code",
   "execution_count": null,
   "metadata": {
    "ExecuteTime": {
     "start_time": "2021-01-17T09:44:26.883Z"
    },
    "tags": []
   },
   "outputs": [],
   "source": [
    "# summarize history for loss\n",
    "path = './data/results/weights_' + path_identifier_lambda_net_data + '/' + list(history.keys())[0] + '.png'\n",
    "\n",
    "adjustment_threshold_loss = 0#10000\n",
    "    \n",
    "loss_df_adjusted = loss_df.copy(deep=True).iloc[:,1:]\n",
    "\n",
    "if adjustment_threshold_loss > 0:\n",
    "    loss_df_adjusted[loss_df_adjusted.columns] = np.where(loss_df_adjusted[loss_df_adjusted.columns] > adjustment_threshold_loss, adjustment_threshold_loss, loss_df_adjusted[loss_df_adjusted.columns])\n",
    "    \n",
    "val_loss_df_adjusted = val_loss_df.copy(deep=True).iloc[:,1:]\n",
    "if adjustment_threshold_loss > 0:\n",
    "    val_loss_df_adjusted[val_loss_df_adjusted.columns] = np.where(val_loss_df_adjusted[val_loss_df_adjusted.columns] > adjustment_threshold_loss, adjustment_threshold_loss, val_loss_df_adjusted[val_loss_df_adjusted.columns])\n",
    "\n",
    "    \n",
    "plt.plot(loss_df_adjusted.describe().loc['mean'].values)\n",
    "plt.plot(val_loss_df_adjusted.describe().loc['mean'].values)\n",
    "plt.title('model ' + list(history.keys())[0])\n",
    "plt.ylabel(list(history.keys())[0])\n",
    "plt.xlabel('epoch')\n",
    "plt.legend(['train', 'valid'], loc='upper left')\n",
    "plt.savefig(path)\n",
    "plt.show()\n"
   ]
  },
  {
   "cell_type": "code",
   "execution_count": null,
   "metadata": {
    "tags": []
   },
   "outputs": [],
   "source": [
    "if use_gpu:\n",
    "    from numba import cuda \n",
    "    device = cuda.get_current_device()\n",
    "    device.reset()"
   ]
  },
  {
   "cell_type": "code",
   "execution_count": 39,
   "metadata": {
    "execution": {
     "iopub.execute_input": "2022-04-30T20:48:39.926042Z",
     "iopub.status.busy": "2022-04-30T20:48:39.925508Z",
     "iopub.status.idle": "2022-04-30T20:48:39.931972Z",
     "shell.execute_reply": "2022-04-30T20:48:39.930927Z",
     "shell.execute_reply.started": "2022-04-30T20:48:39.925990Z"
    }
   },
   "outputs": [
    {
     "name": "stdout",
     "output_type": "stream",
     "text": [
      "C\n"
     ]
    }
   ],
   "source": [
    "print('C')"
   ]
  },
  {
   "cell_type": "code",
   "execution_count": null,
   "metadata": {},
   "outputs": [],
   "source": []
  }
 ],
 "metadata": {
  "kernelspec": {
   "display_name": "Python 3 (ipykernel)",
   "language": "python",
   "name": "python3"
  },
  "language_info": {
   "codemirror_mode": {
    "name": "ipython",
    "version": 3
   },
   "file_extension": ".py",
   "mimetype": "text/x-python",
   "name": "python",
   "nbconvert_exporter": "python",
   "pygments_lexer": "ipython3",
   "version": "3.8.0"
  }
 },
 "nbformat": 4,
 "nbformat_minor": 4
}
