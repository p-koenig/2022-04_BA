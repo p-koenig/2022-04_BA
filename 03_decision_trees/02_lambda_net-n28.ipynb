{
 "cells": [
  {
   "cell_type": "markdown",
   "metadata": {},
   "source": [
    "# Generation of λ-Nets for I-Net training"
   ]
  },
  {
   "cell_type": "markdown",
   "metadata": {},
   "source": [
    "## Specitication of Experiment Settings"
   ]
  },
  {
   "cell_type": "code",
   "execution_count": 1,
   "metadata": {
    "execution": {
     "iopub.execute_input": "2022-04-04T12:57:28.735310Z",
     "iopub.status.busy": "2022-04-04T12:57:28.734921Z",
     "iopub.status.idle": "2022-04-04T12:57:28.752324Z",
     "shell.execute_reply": "2022-04-04T12:57:28.751604Z",
     "shell.execute_reply.started": "2022-04-04T12:57:28.735226Z"
    },
    "tags": []
   },
   "outputs": [],
   "source": [
    "#######################################################################################################################################\n",
    "###################################################### CONFIG FILE ####################################################################\n",
    "#######################################################################################################################################\n",
    "sleep_time = 0 #minutes\n",
    "\n",
    "config = {\n",
    "    'function_family': {\n",
    "        'maximum_depth': 3,\n",
    "        'beta': 1,\n",
    "        'decision_sparsity': 1,\n",
    "        'fully_grown': True,          \n",
    "        'dt_type': 'vanilla', #'vanilla', 'SDT'\n",
    "    },\n",
    "    'data': {\n",
    "        'number_of_variables': 28, \n",
    "        'num_classes': 2,\n",
    "        'categorical_indices': [],\n",
    "        'random_parameters_distribution': True, ##MAKEPATH DIFFERENT FILES\n",
    "        'max_distributions_per_class': 1, # None; 0; int >= 1\n",
    "        'exclude_linearly_seperable': True,\n",
    "        'data_generation_filtering': False,\n",
    "        'fixed_class_probability': False,\n",
    "        'weighted_data_generation': False,\n",
    "        'shift_distrib': False,\n",
    "        \n",
    "        'function_generation_type': 'distribution' ,#'distribution', 'distribution_trained' 'make_classification_distribution', 'make_classification_distribution_trained', 'make_classification', 'make_classification_trained', 'random_decision_tree', 'random_decision_tree_trained'\n",
    "        'distribution_list': ['uniform', 'normal', 'gamma', 'beta', 'poisson'],#['uniform', 'normal', 'gamma', 'exponential', 'beta', 'binomial', 'poisson'], \n",
    "        'objective': 'classification', # 'regression'\n",
    "        \n",
    "        'x_max': 1,\n",
    "        'x_min': 0,\n",
    "        'x_distrib': 'uniform', #'normal', 'uniform',       \n",
    "                \n",
    "        'lambda_dataset_size': 5000, #number of samples per function\n",
    "        'number_of_generated_datasets': 10000,\n",
    "        \n",
    "        'noise_injected_level': 0, \n",
    "        'noise_injected_type': 'flip_percentage', # '' 'normal' 'uniform' 'normal_range' 'uniform_range'\n",
    "        \n",
    "        'data_noise': 0, #None or float\n",
    "        'distrib_param_max': 2,\n",
    "    }, \n",
    "    'lambda_net': {\n",
    "        'epochs_lambda': 1000,\n",
    "        'early_stopping_lambda': True, \n",
    "        'early_stopping_min_delta_lambda': 1e-3,\n",
    "        'batch_lambda': 64,\n",
    "        'dropout_lambda': 0,\n",
    "        'lambda_network_layers': [128],\n",
    "        'use_batchnorm_lambda': False,\n",
    "        \n",
    "        'optimizer_lambda': 'adam',\n",
    "        'loss_lambda': 'binary_crossentropy', #categorical_crossentropy\n",
    "                \n",
    "        'number_initializations_lambda': 1, \n",
    "        \n",
    "        'number_of_trained_lambda_nets': 10000,\n",
    "    },     \n",
    "    'evaluation': {   \n",
    "    },    \n",
    "    \n",
    "    'computation':{\n",
    "        'n_jobs': 30,\n",
    "        'use_gpu': False,\n",
    "        'gpu_numbers': '0',\n",
    "        'RANDOM_SEED': 42,   \n",
    "    }\n",
    "}\n",
    "\n",
    "\n"
   ]
  },
  {
   "cell_type": "code",
   "execution_count": 2,
   "metadata": {
    "execution": {
     "iopub.execute_input": "2022-04-04T12:57:28.753749Z",
     "iopub.status.busy": "2022-04-04T12:57:28.753314Z",
     "iopub.status.idle": "2022-04-04T12:57:28.812611Z",
     "shell.execute_reply": "2022-04-04T12:57:28.811911Z",
     "shell.execute_reply.started": "2022-04-04T12:57:28.753718Z"
    }
   },
   "outputs": [],
   "source": [
    "#######################################################################################################################################\n",
    "########################################### IMPORT GLOBAL VARIABLES FROM CONFIG #######################################################\n",
    "#######################################################################################################################################\n",
    "globals().update(config['function_family'])\n",
    "globals().update(config['data'])\n",
    "globals().update(config['lambda_net'])\n",
    "globals().update(config['evaluation'])\n",
    "globals().update(config['computation'])"
   ]
  },
  {
   "cell_type": "code",
   "execution_count": 3,
   "metadata": {
    "execution": {
     "iopub.execute_input": "2022-04-04T12:57:28.814692Z",
     "iopub.status.busy": "2022-04-04T12:57:28.814461Z",
     "iopub.status.idle": "2022-04-04T12:57:35.097120Z",
     "shell.execute_reply": "2022-04-04T12:57:35.096033Z",
     "shell.execute_reply.started": "2022-04-04T12:57:28.814656Z"
    }
   },
   "outputs": [],
   "source": [
    "import warnings\n",
    "warnings.filterwarnings('ignore')\n",
    "import os\n",
    "os.environ['TF_CPP_MIN_LOG_LEVEL'] = '3' \n",
    "\n",
    "from itertools import product       # forms cartesian products\n",
    "from tqdm import tqdm_notebook as tqdm\n",
    "from more_itertools import random_product \n",
    "import pickle\n",
    "import numpy as np\n",
    "import pandas as pd\n",
    "import timeit\n",
    "import matplotlib.pyplot as plt \n",
    "import time\n",
    "import math\n",
    "import operator\n",
    "from functools import reduce\n",
    "\n",
    "from scipy.signal import argrelextrema\n",
    "\n",
    "import sys\n",
    "\n",
    "import shutil\n",
    "\n",
    "import logging\n",
    "logging.getLogger('tensorflow').disabled = True\n",
    "\n",
    "from joblib import Parallel, delayed\n",
    "\n",
    "\n",
    "from sklearn.model_selection import cross_val_score, train_test_split, StratifiedKFold, KFold\n",
    "from sklearn.metrics import accuracy_score, log_loss, roc_auc_score, f1_score, mean_absolute_error, r2_score\n",
    "#from similaritymeasures import frechet_dist, area_between_two_curves, dtw\n",
    "from IPython.display import Image\n",
    "\n",
    "from livelossplot import PlotLossesKerasTF\n",
    "\n",
    "import seaborn as sns\n",
    "\n",
    "import tensorflow as tf\n",
    "#import tensorflow_addons as tfa\n",
    "import random \n",
    "\n",
    "\n",
    "#import keras\n",
    "import tensorflow.keras.backend as K\n",
    "from tensorflow.keras import Sequential\n",
    "from tensorflow.keras.layers import Dense, Dropout\n",
    "from tensorflow.keras.utils import plot_model\n",
    "from tensorflow.keras.callbacks import EarlyStopping, ModelCheckpoint, ReduceLROnPlateau\n",
    "\n"
   ]
  },
  {
   "cell_type": "code",
   "execution_count": 4,
   "metadata": {
    "execution": {
     "iopub.execute_input": "2022-04-04T12:57:35.098457Z",
     "iopub.status.busy": "2022-04-04T12:57:35.098282Z",
     "iopub.status.idle": "2022-04-04T12:57:35.105745Z",
     "shell.execute_reply": "2022-04-04T12:57:35.105015Z",
     "shell.execute_reply.started": "2022-04-04T12:57:35.098433Z"
    }
   },
   "outputs": [],
   "source": [
    "#######################################################################################################################################\n",
    "###################################################### SET VARIABLES + DESIGN #########################################################\n",
    "#######################################################################################################################################\n",
    "    \n",
    "#os.environ['TF_CPP_MIN_LOG_LEVEL'] = '2' \n",
    "os.environ['CUDA_VISIBLE_DEVICES'] = gpu_numbers if use_gpu else ''\n",
    "os.environ['TF_FORCE_GPU_ALLOW_GROWTH'] = 'true' if use_gpu else ''\n",
    "\n",
    "#os.environ['XLA_FLAGS'] =  '--xla_gpu_cuda_data_dir=/usr/local/cuda-10.1'\n",
    "\n",
    "#os.environ['XLA_FLAGS'] = '--tf_xla_enable_xla_devices'\n",
    "#os.environ['TF_XLA_FLAGS'] = '--tf_xla_enable_xla_devices'\n",
    "\n",
    "os.environ['XLA_FLAGS'] = '--xla_gpu_cuda_data_dir=/usr/local/cuda-11.4' if use_gpu else ''#-10.1' #--xla_gpu_cuda_data_dir=/usr/local/cuda, \n",
    "os.environ['TF_XLA_FLAGS'] = '--tf_xla_auto_jit=2 ,--tf_xla_enable_xla_devices' if use_gpu else ''#'--tf_xla_auto_jit=2' #, --tf_xla_enable_xla_devices\n",
    "\n",
    "\n",
    "sns.set_style(\"darkgrid\")\n",
    "\n",
    "random.seed(RANDOM_SEED)\n",
    "np.random.seed(RANDOM_SEED)\n",
    "np.random.seed(RANDOM_SEED)\n",
    "if int(tf.__version__[0]) >= 2:\n",
    "    tf.random.set_seed(RANDOM_SEED)\n",
    "else:\n",
    "    tf.set_random_seed(RANDOM_SEED)\n",
    "    \n",
    "    \n",
    "pd.set_option('display.float_format', lambda x: '%.3f' % x)\n",
    "pd.set_option('display.max_columns', 200)\n",
    "np.set_printoptions(threshold=200)"
   ]
  },
  {
   "cell_type": "code",
   "execution_count": null,
   "metadata": {},
   "outputs": [],
   "source": []
  },
  {
   "cell_type": "code",
   "execution_count": 5,
   "metadata": {
    "execution": {
     "iopub.execute_input": "2022-04-04T12:57:35.106952Z",
     "iopub.status.busy": "2022-04-04T12:57:35.106761Z",
     "iopub.status.idle": "2022-04-04T12:57:38.368820Z",
     "shell.execute_reply": "2022-04-04T12:57:38.368298Z",
     "shell.execute_reply.started": "2022-04-04T12:57:35.106932Z"
    }
   },
   "outputs": [
    {
     "data": {
      "application/vnd.jupyter.widget-view+json": {
       "model_id": "6ab9628a254a4b8f81a82dd7a311ec85",
       "version_major": 2,
       "version_minor": 0
      },
      "text/plain": [
       "0it [00:00, ?it/s]"
      ]
     },
     "metadata": {},
     "output_type": "display_data"
    }
   ],
   "source": [
    "from utilities.LambdaNet import *\n",
    "from utilities.metrics import *\n",
    "from utilities.utility_functions import *\n",
    "#######################################################################################################################################\n",
    "####################################################### CONFIG ADJUSTMENTS ############################################################\n",
    "#######################################################################################################################################\n",
    "\n",
    "config['lambda_net']['number_of_lambda_weights'] = get_number_of_lambda_net_parameters(config)\n",
    "    \n",
    "#######################################################################################################################################\n",
    "################################################## UPDATE VARIABLES ###################################################################\n",
    "#######################################################################################################################################\n",
    "globals().update(config['function_family'])\n",
    "globals().update(config['data'])\n",
    "globals().update(config['lambda_net'])\n",
    "globals().update(config['evaluation'])\n",
    "globals().update(config['computation'])\n",
    "\n",
    "#initialize_utility_functions_config_from_curent_notebook(config)\n",
    "#initialize_LambdaNet_config_from_curent_notebook(config)\n",
    "#initialize_metrics_config_from_curent_notebook(config)\n",
    "\n",
    "#######################################################################################################################################\n",
    "###################################################### PATH + FOLDER CREATION #########################################################\n",
    "#######################################################################################################################################\n",
    "globals().update(generate_paths(config, path_type='lambda_net'))\n",
    "generate_directory_structure()\n",
    "generate_lambda_net_directory(config)\n",
    "\n",
    "#######################################################################################################################################\n",
    "############################################################ SLEEP TIMER ##############################################################\n",
    "#######################################################################################################################################\n",
    "sleep_minutes(sleep_time)"
   ]
  },
  {
   "cell_type": "code",
   "execution_count": 6,
   "metadata": {
    "execution": {
     "iopub.execute_input": "2022-04-04T12:57:38.369775Z",
     "iopub.status.busy": "2022-04-04T12:57:38.369589Z",
     "iopub.status.idle": "2022-04-04T12:57:38.372905Z",
     "shell.execute_reply": "2022-04-04T12:57:38.372418Z",
     "shell.execute_reply.started": "2022-04-04T12:57:38.369758Z"
    }
   },
   "outputs": [
    {
     "name": "stdout",
     "output_type": "stream",
     "text": [
      "lNetSize5000_numLNets10000_var28_class2_distribution_xMax1_xMin0_xDistuniform_dNoise0_randParamDist_maxDistClass1_distribParamMax2_randClassProb_exLinSepun-no-ga-be-po_depth3_beta1_decisionSpars1_vanilla_fullyGrown/128_e1000ES0.001_b64_drop0_adam_binary_crossentropy_fixedInit1-seed42\n",
      "lNetSize5000_numDatasets10000_var28_class2_distribution_xMax1_xMin0_xDistuniform_dNoise0_randParamDist_maxDistClass1_distribParamMax2_randClassProb_exLinSepun-no-ga-be-po_depth3_beta1_decisionSpars1_vanilla_fullyGrown\n"
     ]
    }
   ],
   "source": [
    "print(path_identifier_lambda_net_data)\n",
    "\n",
    "print(path_identifier_function_data)\n"
   ]
  },
  {
   "cell_type": "code",
   "execution_count": 7,
   "metadata": {
    "execution": {
     "iopub.execute_input": "2022-04-04T12:57:38.373652Z",
     "iopub.status.busy": "2022-04-04T12:57:38.373484Z",
     "iopub.status.idle": "2022-04-04T12:57:38.554839Z",
     "shell.execute_reply": "2022-04-04T12:57:38.553369Z",
     "shell.execute_reply.started": "2022-04-04T12:57:38.373638Z"
    }
   },
   "outputs": [
    {
     "name": "stdout",
     "output_type": "stream",
     "text": [
      "Num GPUs Available:  0\n",
      "Num XLA-GPUs Available:  0\n"
     ]
    }
   ],
   "source": [
    "print(\"Num GPUs Available: \", len(tf.config.experimental.list_physical_devices('GPU')))\n",
    "print(\"Num XLA-GPUs Available: \", len(tf.config.experimental.list_physical_devices('XLA_GPU')))"
   ]
  },
  {
   "cell_type": "code",
   "execution_count": 8,
   "metadata": {
    "execution": {
     "iopub.execute_input": "2022-04-04T12:57:38.555830Z",
     "iopub.status.busy": "2022-04-04T12:57:38.555679Z",
     "iopub.status.idle": "2022-04-04T12:57:39.317835Z",
     "shell.execute_reply": "2022-04-04T12:57:39.317451Z",
     "shell.execute_reply.started": "2022-04-04T12:57:38.555810Z"
    }
   },
   "outputs": [
    {
     "data": {
      "text/plain": [
       "[128]"
      ]
     },
     "execution_count": 8,
     "metadata": {},
     "output_type": "execute_result"
    }
   ],
   "source": [
    "lambda_network_layers"
   ]
  },
  {
   "cell_type": "code",
   "execution_count": 9,
   "metadata": {
    "ExecuteTime": {
     "end_time": "2021-01-17T09:46:11.182937Z",
     "start_time": "2021-01-17T09:44:31.797522Z"
    },
    "execution": {
     "iopub.execute_input": "2022-04-04T12:57:39.319832Z",
     "iopub.status.busy": "2022-04-04T12:57:39.319255Z",
     "iopub.status.idle": "2022-04-04T12:58:50.120364Z",
     "shell.execute_reply": "2022-04-04T12:58:50.119530Z",
     "shell.execute_reply.started": "2022-04-04T12:57:39.319797Z"
    },
    "tags": []
   },
   "outputs": [],
   "source": [
    "path_functions = './data/saved_function_lists/functions_' + path_identifier_function_data + '.csv'\n",
    "function_df = pd.read_csv(path_functions)\n",
    "\n",
    "path_X_data = './data/saved_function_lists/X_data_' + path_identifier_function_data + '.pkl'\n",
    "with open(path_X_data, 'rb') as f:\n",
    "    X_data_list = pickle.load(f)\n",
    "    \n",
    "path_y_data = './data/saved_function_lists/y_data_' + path_identifier_function_data + '.pkl'\n",
    "with open(path_y_data, 'rb') as f:\n",
    "    y_data_list = pickle.load(f)\n",
    "    \n",
    "try:\n",
    "    path_distribution = './data/saved_function_lists/distribution_parameter_list_list_' + path_identifier_function_data + '.pkl'\n",
    "    with open(path_distribution, 'rb') as f:\n",
    "        distribution_parameter_list_list = pickle.load(f)\n",
    "except Exception:\n",
    "    traceback.print_exc()\n",
    "    distribution_parameter_list_list = [[None, None]]*number_of_generated_datasets\n",
    "    \n",
    "if number_of_trained_lambda_nets < number_of_generated_datasets:\n",
    "    function_df = function_df.sample(n=number_of_trained_lambda_nets, random_state=RANDOM_SEED)\n",
    "    random.seed(RANDOM_SEED)\n",
    "    X_data_list = random.sample(X_data_list, number_of_trained_lambda_nets)\n",
    "    random.seed(RANDOM_SEED)\n",
    "    y_data_list = random.sample(y_data_list, number_of_trained_lambda_nets)\n",
    "    random.seed(RANDOM_SEED)\n",
    "    try:\n",
    "        distribution_parameter_list_list = random.sample(distribution_parameter_list_list, number_of_trained_lambda_nets)\n",
    "        random.seed(RANDOM_SEED)\n",
    "    except:\n",
    "        distribution_parameter_list_list = [[None, None]]*number_of_trained_lambda_nets"
   ]
  },
  {
   "cell_type": "markdown",
   "metadata": {},
   "source": [
    "## Data Inspection"
   ]
  },
  {
   "cell_type": "code",
   "execution_count": 10,
   "metadata": {
    "execution": {
     "iopub.execute_input": "2022-04-04T12:58:50.121549Z",
     "iopub.status.busy": "2022-04-04T12:58:50.121409Z",
     "iopub.status.idle": "2022-04-04T12:58:50.136205Z",
     "shell.execute_reply": "2022-04-04T12:58:50.135499Z",
     "shell.execute_reply.started": "2022-04-04T12:58:50.121533Z"
    }
   },
   "outputs": [
    {
     "data": {
      "text/html": [
       "<div>\n",
       "<style scoped>\n",
       "    .dataframe tbody tr th:only-of-type {\n",
       "        vertical-align: middle;\n",
       "    }\n",
       "\n",
       "    .dataframe tbody tr th {\n",
       "        vertical-align: top;\n",
       "    }\n",
       "\n",
       "    .dataframe thead th {\n",
       "        text-align: right;\n",
       "    }\n",
       "</style>\n",
       "<table border=\"1\" class=\"dataframe\">\n",
       "  <thead>\n",
       "    <tr style=\"text-align: right;\">\n",
       "      <th></th>\n",
       "      <th>feat0</th>\n",
       "      <th>feat1</th>\n",
       "      <th>feat2</th>\n",
       "      <th>feat3</th>\n",
       "      <th>feat4</th>\n",
       "      <th>feat5</th>\n",
       "      <th>feat6</th>\n",
       "      <th>split0</th>\n",
       "      <th>split1</th>\n",
       "      <th>split2</th>\n",
       "      <th>split3</th>\n",
       "      <th>split4</th>\n",
       "      <th>split5</th>\n",
       "      <th>split6</th>\n",
       "      <th>lp0</th>\n",
       "      <th>lp1</th>\n",
       "      <th>lp2</th>\n",
       "      <th>lp3</th>\n",
       "      <th>lp4</th>\n",
       "      <th>lp5</th>\n",
       "      <th>lp6</th>\n",
       "      <th>lp7</th>\n",
       "    </tr>\n",
       "  </thead>\n",
       "  <tbody>\n",
       "    <tr>\n",
       "      <th>0</th>\n",
       "      <td>0</td>\n",
       "      <td>0</td>\n",
       "      <td>0</td>\n",
       "      <td>0</td>\n",
       "      <td>0</td>\n",
       "      <td>0</td>\n",
       "      <td>0</td>\n",
       "      <td>0</td>\n",
       "      <td>0</td>\n",
       "      <td>0</td>\n",
       "      <td>0</td>\n",
       "      <td>0</td>\n",
       "      <td>0</td>\n",
       "      <td>0</td>\n",
       "      <td>0</td>\n",
       "      <td>0</td>\n",
       "      <td>0</td>\n",
       "      <td>0</td>\n",
       "      <td>0</td>\n",
       "      <td>0</td>\n",
       "      <td>0</td>\n",
       "      <td>0</td>\n",
       "    </tr>\n",
       "    <tr>\n",
       "      <th>1</th>\n",
       "      <td>0</td>\n",
       "      <td>0</td>\n",
       "      <td>0</td>\n",
       "      <td>0</td>\n",
       "      <td>0</td>\n",
       "      <td>0</td>\n",
       "      <td>0</td>\n",
       "      <td>0</td>\n",
       "      <td>0</td>\n",
       "      <td>0</td>\n",
       "      <td>0</td>\n",
       "      <td>0</td>\n",
       "      <td>0</td>\n",
       "      <td>0</td>\n",
       "      <td>0</td>\n",
       "      <td>0</td>\n",
       "      <td>0</td>\n",
       "      <td>0</td>\n",
       "      <td>0</td>\n",
       "      <td>0</td>\n",
       "      <td>0</td>\n",
       "      <td>0</td>\n",
       "    </tr>\n",
       "    <tr>\n",
       "      <th>2</th>\n",
       "      <td>0</td>\n",
       "      <td>0</td>\n",
       "      <td>0</td>\n",
       "      <td>0</td>\n",
       "      <td>0</td>\n",
       "      <td>0</td>\n",
       "      <td>0</td>\n",
       "      <td>0</td>\n",
       "      <td>0</td>\n",
       "      <td>0</td>\n",
       "      <td>0</td>\n",
       "      <td>0</td>\n",
       "      <td>0</td>\n",
       "      <td>0</td>\n",
       "      <td>0</td>\n",
       "      <td>0</td>\n",
       "      <td>0</td>\n",
       "      <td>0</td>\n",
       "      <td>0</td>\n",
       "      <td>0</td>\n",
       "      <td>0</td>\n",
       "      <td>0</td>\n",
       "    </tr>\n",
       "    <tr>\n",
       "      <th>3</th>\n",
       "      <td>0</td>\n",
       "      <td>0</td>\n",
       "      <td>0</td>\n",
       "      <td>0</td>\n",
       "      <td>0</td>\n",
       "      <td>0</td>\n",
       "      <td>0</td>\n",
       "      <td>0</td>\n",
       "      <td>0</td>\n",
       "      <td>0</td>\n",
       "      <td>0</td>\n",
       "      <td>0</td>\n",
       "      <td>0</td>\n",
       "      <td>0</td>\n",
       "      <td>0</td>\n",
       "      <td>0</td>\n",
       "      <td>0</td>\n",
       "      <td>0</td>\n",
       "      <td>0</td>\n",
       "      <td>0</td>\n",
       "      <td>0</td>\n",
       "      <td>0</td>\n",
       "    </tr>\n",
       "    <tr>\n",
       "      <th>4</th>\n",
       "      <td>0</td>\n",
       "      <td>0</td>\n",
       "      <td>0</td>\n",
       "      <td>0</td>\n",
       "      <td>0</td>\n",
       "      <td>0</td>\n",
       "      <td>0</td>\n",
       "      <td>0</td>\n",
       "      <td>0</td>\n",
       "      <td>0</td>\n",
       "      <td>0</td>\n",
       "      <td>0</td>\n",
       "      <td>0</td>\n",
       "      <td>0</td>\n",
       "      <td>0</td>\n",
       "      <td>0</td>\n",
       "      <td>0</td>\n",
       "      <td>0</td>\n",
       "      <td>0</td>\n",
       "      <td>0</td>\n",
       "      <td>0</td>\n",
       "      <td>0</td>\n",
       "    </tr>\n",
       "  </tbody>\n",
       "</table>\n",
       "</div>"
      ],
      "text/plain": [
       "   feat0  feat1  feat2  feat3  feat4  feat5  feat6  split0  split1  split2  \\\n",
       "0      0      0      0      0      0      0      0       0       0       0   \n",
       "1      0      0      0      0      0      0      0       0       0       0   \n",
       "2      0      0      0      0      0      0      0       0       0       0   \n",
       "3      0      0      0      0      0      0      0       0       0       0   \n",
       "4      0      0      0      0      0      0      0       0       0       0   \n",
       "\n",
       "   split3  split4  split5  split6  lp0  lp1  lp2  lp3  lp4  lp5  lp6  lp7  \n",
       "0       0       0       0       0    0    0    0    0    0    0    0    0  \n",
       "1       0       0       0       0    0    0    0    0    0    0    0    0  \n",
       "2       0       0       0       0    0    0    0    0    0    0    0    0  \n",
       "3       0       0       0       0    0    0    0    0    0    0    0    0  \n",
       "4       0       0       0       0    0    0    0    0    0    0    0    0  "
      ]
     },
     "execution_count": 10,
     "metadata": {},
     "output_type": "execute_result"
    }
   ],
   "source": [
    "function_df.head()"
   ]
  },
  {
   "cell_type": "code",
   "execution_count": 11,
   "metadata": {
    "execution": {
     "iopub.execute_input": "2022-04-04T12:58:50.137199Z",
     "iopub.status.busy": "2022-04-04T12:58:50.137066Z",
     "iopub.status.idle": "2022-04-04T12:58:50.231282Z",
     "shell.execute_reply": "2022-04-04T12:58:50.230682Z",
     "shell.execute_reply.started": "2022-04-04T12:58:50.137185Z"
    }
   },
   "outputs": [
    {
     "data": {
      "text/plain": [
       "feat0     0\n",
       "feat1     0\n",
       "feat2     0\n",
       "feat3     0\n",
       "feat4     0\n",
       "feat5     0\n",
       "feat6     0\n",
       "split0    0\n",
       "split1    0\n",
       "split2    0\n",
       "dtype: int64"
      ]
     },
     "execution_count": 11,
     "metadata": {},
     "output_type": "execute_result"
    }
   ],
   "source": [
    "X_data_list[0][0].head(10)"
   ]
  },
  {
   "cell_type": "code",
   "execution_count": 12,
   "metadata": {
    "ExecuteTime": {
     "end_time": "2021-01-17T09:46:12.626401Z",
     "start_time": "2021-01-17T09:46:12.608200Z"
    },
    "execution": {
     "iopub.execute_input": "2022-04-04T12:58:50.234418Z",
     "iopub.status.busy": "2022-04-04T12:58:50.234277Z",
     "iopub.status.idle": "2022-04-04T12:58:50.292471Z",
     "shell.execute_reply": "2022-04-04T12:58:50.291731Z",
     "shell.execute_reply.started": "2022-04-04T12:58:50.234401Z"
    }
   },
   "outputs": [
    {
     "data": {
      "text/html": [
       "<div>\n",
       "<style scoped>\n",
       "    .dataframe tbody tr th:only-of-type {\n",
       "        vertical-align: middle;\n",
       "    }\n",
       "\n",
       "    .dataframe tbody tr th {\n",
       "        vertical-align: top;\n",
       "    }\n",
       "\n",
       "    .dataframe thead th {\n",
       "        text-align: right;\n",
       "    }\n",
       "</style>\n",
       "<table border=\"1\" class=\"dataframe\">\n",
       "  <thead>\n",
       "    <tr style=\"text-align: right;\">\n",
       "      <th></th>\n",
       "      <th>x0</th>\n",
       "      <th>x1</th>\n",
       "      <th>x2</th>\n",
       "      <th>x3</th>\n",
       "      <th>x4</th>\n",
       "      <th>x5</th>\n",
       "      <th>x6</th>\n",
       "      <th>x7</th>\n",
       "      <th>x8</th>\n",
       "      <th>x9</th>\n",
       "      <th>x10</th>\n",
       "      <th>x11</th>\n",
       "      <th>x12</th>\n",
       "      <th>x13</th>\n",
       "      <th>x14</th>\n",
       "      <th>x15</th>\n",
       "      <th>x16</th>\n",
       "      <th>x17</th>\n",
       "      <th>x18</th>\n",
       "      <th>x19</th>\n",
       "      <th>x20</th>\n",
       "      <th>x21</th>\n",
       "      <th>x22</th>\n",
       "      <th>x23</th>\n",
       "      <th>x24</th>\n",
       "      <th>x25</th>\n",
       "      <th>x26</th>\n",
       "      <th>x27</th>\n",
       "    </tr>\n",
       "  </thead>\n",
       "  <tbody>\n",
       "    <tr>\n",
       "      <th>0</th>\n",
       "      <td>0.006</td>\n",
       "      <td>0.000</td>\n",
       "      <td>0.358</td>\n",
       "      <td>0.669</td>\n",
       "      <td>0.427</td>\n",
       "      <td>0.000</td>\n",
       "      <td>0.371</td>\n",
       "      <td>0.314</td>\n",
       "      <td>0.143</td>\n",
       "      <td>0.558</td>\n",
       "      <td>0.000</td>\n",
       "      <td>0.241</td>\n",
       "      <td>0.891</td>\n",
       "      <td>0.143</td>\n",
       "      <td>0.476</td>\n",
       "      <td>0.143</td>\n",
       "      <td>0.194</td>\n",
       "      <td>0.375</td>\n",
       "      <td>0.213</td>\n",
       "      <td>0.656</td>\n",
       "      <td>0.693</td>\n",
       "      <td>0.087</td>\n",
       "      <td>0.068</td>\n",
       "      <td>0.995</td>\n",
       "      <td>0.286</td>\n",
       "      <td>0.435</td>\n",
       "      <td>0.143</td>\n",
       "      <td>0.001</td>\n",
       "    </tr>\n",
       "    <tr>\n",
       "      <th>1</th>\n",
       "      <td>0.008</td>\n",
       "      <td>0.000</td>\n",
       "      <td>0.232</td>\n",
       "      <td>0.329</td>\n",
       "      <td>0.278</td>\n",
       "      <td>0.286</td>\n",
       "      <td>0.015</td>\n",
       "      <td>0.769</td>\n",
       "      <td>0.000</td>\n",
       "      <td>0.359</td>\n",
       "      <td>0.000</td>\n",
       "      <td>0.299</td>\n",
       "      <td>0.999</td>\n",
       "      <td>0.000</td>\n",
       "      <td>0.477</td>\n",
       "      <td>0.000</td>\n",
       "      <td>0.267</td>\n",
       "      <td>0.375</td>\n",
       "      <td>0.437</td>\n",
       "      <td>0.147</td>\n",
       "      <td>0.616</td>\n",
       "      <td>0.001</td>\n",
       "      <td>0.006</td>\n",
       "      <td>0.027</td>\n",
       "      <td>0.143</td>\n",
       "      <td>0.589</td>\n",
       "      <td>0.286</td>\n",
       "      <td>0.002</td>\n",
       "    </tr>\n",
       "    <tr>\n",
       "      <th>2</th>\n",
       "      <td>0.032</td>\n",
       "      <td>0.000</td>\n",
       "      <td>0.373</td>\n",
       "      <td>0.636</td>\n",
       "      <td>0.366</td>\n",
       "      <td>0.000</td>\n",
       "      <td>0.110</td>\n",
       "      <td>0.303</td>\n",
       "      <td>0.143</td>\n",
       "      <td>0.374</td>\n",
       "      <td>0.014</td>\n",
       "      <td>0.225</td>\n",
       "      <td>0.012</td>\n",
       "      <td>0.143</td>\n",
       "      <td>0.469</td>\n",
       "      <td>0.000</td>\n",
       "      <td>0.436</td>\n",
       "      <td>0.125</td>\n",
       "      <td>0.390</td>\n",
       "      <td>0.440</td>\n",
       "      <td>0.499</td>\n",
       "      <td>0.004</td>\n",
       "      <td>0.009</td>\n",
       "      <td>0.157</td>\n",
       "      <td>0.143</td>\n",
       "      <td>0.670</td>\n",
       "      <td>0.000</td>\n",
       "      <td>0.000</td>\n",
       "    </tr>\n",
       "    <tr>\n",
       "      <th>3</th>\n",
       "      <td>0.122</td>\n",
       "      <td>0.250</td>\n",
       "      <td>0.156</td>\n",
       "      <td>0.541</td>\n",
       "      <td>0.360</td>\n",
       "      <td>0.429</td>\n",
       "      <td>0.618</td>\n",
       "      <td>0.018</td>\n",
       "      <td>0.286</td>\n",
       "      <td>0.405</td>\n",
       "      <td>0.000</td>\n",
       "      <td>0.213</td>\n",
       "      <td>0.930</td>\n",
       "      <td>0.143</td>\n",
       "      <td>0.472</td>\n",
       "      <td>0.143</td>\n",
       "      <td>0.268</td>\n",
       "      <td>0.125</td>\n",
       "      <td>0.368</td>\n",
       "      <td>0.565</td>\n",
       "      <td>0.443</td>\n",
       "      <td>0.203</td>\n",
       "      <td>0.155</td>\n",
       "      <td>0.225</td>\n",
       "      <td>0.286</td>\n",
       "      <td>0.549</td>\n",
       "      <td>0.143</td>\n",
       "      <td>0.001</td>\n",
       "    </tr>\n",
       "    <tr>\n",
       "      <th>4</th>\n",
       "      <td>0.001</td>\n",
       "      <td>0.250</td>\n",
       "      <td>0.526</td>\n",
       "      <td>0.342</td>\n",
       "      <td>0.425</td>\n",
       "      <td>0.286</td>\n",
       "      <td>0.332</td>\n",
       "      <td>0.225</td>\n",
       "      <td>0.143</td>\n",
       "      <td>0.639</td>\n",
       "      <td>0.000</td>\n",
       "      <td>0.207</td>\n",
       "      <td>0.068</td>\n",
       "      <td>0.000</td>\n",
       "      <td>0.457</td>\n",
       "      <td>0.714</td>\n",
       "      <td>0.953</td>\n",
       "      <td>0.000</td>\n",
       "      <td>0.547</td>\n",
       "      <td>0.498</td>\n",
       "      <td>0.453</td>\n",
       "      <td>0.208</td>\n",
       "      <td>0.001</td>\n",
       "      <td>0.309</td>\n",
       "      <td>0.571</td>\n",
       "      <td>0.485</td>\n",
       "      <td>0.000</td>\n",
       "      <td>0.000</td>\n",
       "    </tr>\n",
       "    <tr>\n",
       "      <th>5</th>\n",
       "      <td>0.043</td>\n",
       "      <td>0.000</td>\n",
       "      <td>0.335</td>\n",
       "      <td>0.331</td>\n",
       "      <td>0.427</td>\n",
       "      <td>0.143</td>\n",
       "      <td>0.368</td>\n",
       "      <td>0.334</td>\n",
       "      <td>0.286</td>\n",
       "      <td>0.266</td>\n",
       "      <td>0.000</td>\n",
       "      <td>0.104</td>\n",
       "      <td>1.000</td>\n",
       "      <td>0.143</td>\n",
       "      <td>0.485</td>\n",
       "      <td>0.286</td>\n",
       "      <td>0.437</td>\n",
       "      <td>0.125</td>\n",
       "      <td>0.619</td>\n",
       "      <td>0.665</td>\n",
       "      <td>0.636</td>\n",
       "      <td>0.041</td>\n",
       "      <td>0.024</td>\n",
       "      <td>0.243</td>\n",
       "      <td>0.286</td>\n",
       "      <td>0.486</td>\n",
       "      <td>0.000</td>\n",
       "      <td>0.001</td>\n",
       "    </tr>\n",
       "    <tr>\n",
       "      <th>6</th>\n",
       "      <td>0.291</td>\n",
       "      <td>0.250</td>\n",
       "      <td>0.491</td>\n",
       "      <td>0.458</td>\n",
       "      <td>0.456</td>\n",
       "      <td>0.000</td>\n",
       "      <td>0.043</td>\n",
       "      <td>0.576</td>\n",
       "      <td>0.143</td>\n",
       "      <td>0.806</td>\n",
       "      <td>0.001</td>\n",
       "      <td>0.198</td>\n",
       "      <td>0.999</td>\n",
       "      <td>0.000</td>\n",
       "      <td>0.471</td>\n",
       "      <td>0.286</td>\n",
       "      <td>0.775</td>\n",
       "      <td>0.375</td>\n",
       "      <td>0.208</td>\n",
       "      <td>0.306</td>\n",
       "      <td>0.411</td>\n",
       "      <td>0.016</td>\n",
       "      <td>0.012</td>\n",
       "      <td>0.227</td>\n",
       "      <td>0.143</td>\n",
       "      <td>0.472</td>\n",
       "      <td>0.286</td>\n",
       "      <td>0.000</td>\n",
       "    </tr>\n",
       "    <tr>\n",
       "      <th>7</th>\n",
       "      <td>0.045</td>\n",
       "      <td>0.000</td>\n",
       "      <td>0.161</td>\n",
       "      <td>0.263</td>\n",
       "      <td>0.527</td>\n",
       "      <td>0.143</td>\n",
       "      <td>0.290</td>\n",
       "      <td>0.493</td>\n",
       "      <td>0.000</td>\n",
       "      <td>0.457</td>\n",
       "      <td>0.000</td>\n",
       "      <td>0.039</td>\n",
       "      <td>0.376</td>\n",
       "      <td>0.000</td>\n",
       "      <td>0.476</td>\n",
       "      <td>0.143</td>\n",
       "      <td>0.062</td>\n",
       "      <td>0.375</td>\n",
       "      <td>0.644</td>\n",
       "      <td>0.449</td>\n",
       "      <td>0.584</td>\n",
       "      <td>0.025</td>\n",
       "      <td>0.203</td>\n",
       "      <td>0.633</td>\n",
       "      <td>0.143</td>\n",
       "      <td>0.598</td>\n",
       "      <td>0.000</td>\n",
       "      <td>0.001</td>\n",
       "    </tr>\n",
       "    <tr>\n",
       "      <th>8</th>\n",
       "      <td>0.003</td>\n",
       "      <td>0.500</td>\n",
       "      <td>0.158</td>\n",
       "      <td>0.662</td>\n",
       "      <td>0.569</td>\n",
       "      <td>0.143</td>\n",
       "      <td>0.325</td>\n",
       "      <td>0.119</td>\n",
       "      <td>0.286</td>\n",
       "      <td>0.573</td>\n",
       "      <td>0.000</td>\n",
       "      <td>0.491</td>\n",
       "      <td>0.135</td>\n",
       "      <td>0.143</td>\n",
       "      <td>0.479</td>\n",
       "      <td>0.143</td>\n",
       "      <td>0.313</td>\n",
       "      <td>0.375</td>\n",
       "      <td>0.405</td>\n",
       "      <td>0.774</td>\n",
       "      <td>0.695</td>\n",
       "      <td>0.083</td>\n",
       "      <td>0.001</td>\n",
       "      <td>0.506</td>\n",
       "      <td>0.286</td>\n",
       "      <td>0.466</td>\n",
       "      <td>0.429</td>\n",
       "      <td>0.000</td>\n",
       "    </tr>\n",
       "    <tr>\n",
       "      <th>9</th>\n",
       "      <td>0.265</td>\n",
       "      <td>0.250</td>\n",
       "      <td>0.128</td>\n",
       "      <td>0.638</td>\n",
       "      <td>0.325</td>\n",
       "      <td>0.143</td>\n",
       "      <td>0.395</td>\n",
       "      <td>0.231</td>\n",
       "      <td>0.143</td>\n",
       "      <td>0.434</td>\n",
       "      <td>0.000</td>\n",
       "      <td>0.178</td>\n",
       "      <td>0.997</td>\n",
       "      <td>0.000</td>\n",
       "      <td>0.472</td>\n",
       "      <td>0.429</td>\n",
       "      <td>0.477</td>\n",
       "      <td>0.250</td>\n",
       "      <td>0.438</td>\n",
       "      <td>0.605</td>\n",
       "      <td>0.648</td>\n",
       "      <td>0.040</td>\n",
       "      <td>0.002</td>\n",
       "      <td>0.453</td>\n",
       "      <td>0.429</td>\n",
       "      <td>0.518</td>\n",
       "      <td>0.429</td>\n",
       "      <td>0.000</td>\n",
       "    </tr>\n",
       "  </tbody>\n",
       "</table>\n",
       "</div>"
      ],
      "text/plain": [
       "     x0    x1    x2    x3    x4    x5    x6    x7    x8    x9   x10   x11  \\\n",
       "0 0.006 0.000 0.358 0.669 0.427 0.000 0.371 0.314 0.143 0.558 0.000 0.241   \n",
       "1 0.008 0.000 0.232 0.329 0.278 0.286 0.015 0.769 0.000 0.359 0.000 0.299   \n",
       "2 0.032 0.000 0.373 0.636 0.366 0.000 0.110 0.303 0.143 0.374 0.014 0.225   \n",
       "3 0.122 0.250 0.156 0.541 0.360 0.429 0.618 0.018 0.286 0.405 0.000 0.213   \n",
       "4 0.001 0.250 0.526 0.342 0.425 0.286 0.332 0.225 0.143 0.639 0.000 0.207   \n",
       "5 0.043 0.000 0.335 0.331 0.427 0.143 0.368 0.334 0.286 0.266 0.000 0.104   \n",
       "6 0.291 0.250 0.491 0.458 0.456 0.000 0.043 0.576 0.143 0.806 0.001 0.198   \n",
       "7 0.045 0.000 0.161 0.263 0.527 0.143 0.290 0.493 0.000 0.457 0.000 0.039   \n",
       "8 0.003 0.500 0.158 0.662 0.569 0.143 0.325 0.119 0.286 0.573 0.000 0.491   \n",
       "9 0.265 0.250 0.128 0.638 0.325 0.143 0.395 0.231 0.143 0.434 0.000 0.178   \n",
       "\n",
       "    x12   x13   x14   x15   x16   x17   x18   x19   x20   x21   x22   x23  \\\n",
       "0 0.891 0.143 0.476 0.143 0.194 0.375 0.213 0.656 0.693 0.087 0.068 0.995   \n",
       "1 0.999 0.000 0.477 0.000 0.267 0.375 0.437 0.147 0.616 0.001 0.006 0.027   \n",
       "2 0.012 0.143 0.469 0.000 0.436 0.125 0.390 0.440 0.499 0.004 0.009 0.157   \n",
       "3 0.930 0.143 0.472 0.143 0.268 0.125 0.368 0.565 0.443 0.203 0.155 0.225   \n",
       "4 0.068 0.000 0.457 0.714 0.953 0.000 0.547 0.498 0.453 0.208 0.001 0.309   \n",
       "5 1.000 0.143 0.485 0.286 0.437 0.125 0.619 0.665 0.636 0.041 0.024 0.243   \n",
       "6 0.999 0.000 0.471 0.286 0.775 0.375 0.208 0.306 0.411 0.016 0.012 0.227   \n",
       "7 0.376 0.000 0.476 0.143 0.062 0.375 0.644 0.449 0.584 0.025 0.203 0.633   \n",
       "8 0.135 0.143 0.479 0.143 0.313 0.375 0.405 0.774 0.695 0.083 0.001 0.506   \n",
       "9 0.997 0.000 0.472 0.429 0.477 0.250 0.438 0.605 0.648 0.040 0.002 0.453   \n",
       "\n",
       "    x24   x25   x26   x27  \n",
       "0 0.286 0.435 0.143 0.001  \n",
       "1 0.143 0.589 0.286 0.002  \n",
       "2 0.143 0.670 0.000 0.000  \n",
       "3 0.286 0.549 0.143 0.001  \n",
       "4 0.571 0.485 0.000 0.000  \n",
       "5 0.286 0.486 0.000 0.001  \n",
       "6 0.143 0.472 0.286 0.000  \n",
       "7 0.143 0.598 0.000 0.001  \n",
       "8 0.286 0.466 0.429 0.000  \n",
       "9 0.429 0.518 0.429 0.000  "
      ]
     },
     "execution_count": 12,
     "metadata": {},
     "output_type": "execute_result"
    }
   ],
   "source": [
    "X_data_list[0][1].head(10)"
   ]
  },
  {
   "cell_type": "code",
   "execution_count": 13,
   "metadata": {
    "execution": {
     "iopub.execute_input": "2022-04-04T12:58:50.293547Z",
     "iopub.status.busy": "2022-04-04T12:58:50.293399Z",
     "iopub.status.idle": "2022-04-04T12:58:50.344357Z",
     "shell.execute_reply": "2022-04-04T12:58:50.343652Z",
     "shell.execute_reply.started": "2022-04-04T12:58:50.293529Z"
    }
   },
   "outputs": [
    {
     "data": {
      "text/plain": [
       "feat0     0\n",
       "feat1     0\n",
       "feat2     0\n",
       "feat3     0\n",
       "feat4     0\n",
       "feat5     0\n",
       "feat6     0\n",
       "split0    0\n",
       "split1    0\n",
       "split2    0\n",
       "dtype: int64"
      ]
     },
     "execution_count": 13,
     "metadata": {},
     "output_type": "execute_result"
    }
   ],
   "source": [
    "y_data_list[0][0].head(10)"
   ]
  },
  {
   "cell_type": "code",
   "execution_count": 14,
   "metadata": {
    "ExecuteTime": {
     "end_time": "2021-01-17T09:46:12.636995Z",
     "start_time": "2021-01-17T09:46:12.629349Z"
    },
    "execution": {
     "iopub.execute_input": "2022-04-04T12:58:50.345417Z",
     "iopub.status.busy": "2022-04-04T12:58:50.345239Z",
     "iopub.status.idle": "2022-04-04T12:58:50.403238Z",
     "shell.execute_reply": "2022-04-04T12:58:50.402270Z",
     "shell.execute_reply.started": "2022-04-04T12:58:50.345394Z"
    }
   },
   "outputs": [
    {
     "data": {
      "text/html": [
       "<div>\n",
       "<style scoped>\n",
       "    .dataframe tbody tr th:only-of-type {\n",
       "        vertical-align: middle;\n",
       "    }\n",
       "\n",
       "    .dataframe tbody tr th {\n",
       "        vertical-align: top;\n",
       "    }\n",
       "\n",
       "    .dataframe thead th {\n",
       "        text-align: right;\n",
       "    }\n",
       "</style>\n",
       "<table border=\"1\" class=\"dataframe\">\n",
       "  <thead>\n",
       "    <tr style=\"text-align: right;\">\n",
       "      <th></th>\n",
       "      <th>result</th>\n",
       "    </tr>\n",
       "  </thead>\n",
       "  <tbody>\n",
       "    <tr>\n",
       "      <th>0</th>\n",
       "      <td>0</td>\n",
       "    </tr>\n",
       "    <tr>\n",
       "      <th>1</th>\n",
       "      <td>0</td>\n",
       "    </tr>\n",
       "    <tr>\n",
       "      <th>2</th>\n",
       "      <td>0</td>\n",
       "    </tr>\n",
       "    <tr>\n",
       "      <th>3</th>\n",
       "      <td>0</td>\n",
       "    </tr>\n",
       "    <tr>\n",
       "      <th>4</th>\n",
       "      <td>0</td>\n",
       "    </tr>\n",
       "    <tr>\n",
       "      <th>5</th>\n",
       "      <td>0</td>\n",
       "    </tr>\n",
       "    <tr>\n",
       "      <th>6</th>\n",
       "      <td>0</td>\n",
       "    </tr>\n",
       "    <tr>\n",
       "      <th>7</th>\n",
       "      <td>0</td>\n",
       "    </tr>\n",
       "    <tr>\n",
       "      <th>8</th>\n",
       "      <td>0</td>\n",
       "    </tr>\n",
       "    <tr>\n",
       "      <th>9</th>\n",
       "      <td>0</td>\n",
       "    </tr>\n",
       "  </tbody>\n",
       "</table>\n",
       "</div>"
      ],
      "text/plain": [
       "   result\n",
       "0       0\n",
       "1       0\n",
       "2       0\n",
       "3       0\n",
       "4       0\n",
       "5       0\n",
       "6       0\n",
       "7       0\n",
       "8       0\n",
       "9       0"
      ]
     },
     "execution_count": 14,
     "metadata": {},
     "output_type": "execute_result"
    }
   ],
   "source": [
    "y_data_list[0][1].head(10)"
   ]
  },
  {
   "cell_type": "code",
   "execution_count": 15,
   "metadata": {
    "execution": {
     "iopub.execute_input": "2022-04-04T12:58:50.404925Z",
     "iopub.status.busy": "2022-04-04T12:58:50.404319Z",
     "iopub.status.idle": "2022-04-04T12:58:55.662360Z",
     "shell.execute_reply": "2022-04-04T12:58:55.661659Z",
     "shell.execute_reply.started": "2022-04-04T12:58:50.404880Z"
    }
   },
   "outputs": [
    {
     "data": {
      "image/png": "[encoded data removed]",
      "text/plain": [
       "<IPython.core.display.Image object>"
      ]
     },
     "execution_count": 15,
     "metadata": {},
     "output_type": "execute_result"
    }
   ],
   "source": [
    "plot = None\n",
    "if plot_tree_from_parameters != 'make_classification':\n",
    "    plot = plot_tree_from_parameters(y_data_list[0][0].values, config)\n",
    "plot"
   ]
  },
  {
   "cell_type": "code",
   "execution_count": 16,
   "metadata": {
    "execution": {
     "iopub.execute_input": "2022-04-04T12:58:55.663437Z",
     "iopub.status.busy": "2022-04-04T12:58:55.663304Z",
     "iopub.status.idle": "2022-04-04T12:58:55.671902Z",
     "shell.execute_reply": "2022-04-04T12:58:55.671329Z",
     "shell.execute_reply.started": "2022-04-04T12:58:55.663420Z"
    }
   },
   "outputs": [],
   "source": [
    "def inject_noise(y_data, noise=0.0, noise_dist='normal', seed=42):\n",
    "    \"\"\"\n",
    "    Returns a polynomial injected with specified noise type and amount. \n",
    "    Inputs a clean polynomial array with x-data and y-data and modifies the y-data according to the noise settings.\n",
    "    \"\"\"\n",
    "    np.random.seed(seed)\n",
    "    \n",
    "    #Calculate range of function values of input polynomial\n",
    "    range_values_fv = np.ptp(y_data[1].values)\n",
    "    \n",
    "    #Selection of noise type\n",
    "    #Available types: normal, uniform, A, B, C\n",
    "    if noise_dist=='normal':\n",
    "        noise_sample=noise*np.random.normal(loc=0, scale=1.0,size=y_data[1].shape[0])\n",
    "    elif noise_dist=='uniform':\n",
    "        noise_sample=noise*np.random.uniform(low=0, high=1.0,size=y_data[1].shape[0])\n",
    "    elif noise_dist=='normal_range':\n",
    "        #Normal distribution adjusted to function value range\n",
    "        noise_sample=(noise*range_values_fv)*np.random.normal(loc=0, scale=1.0,size=y_data[1].shape[0])\n",
    "    elif noise_dist=='uniform_range':\n",
    "        noise_sample=(noise*range_values_fv)*np.random.normal(loc=0, scale=1.0,size=y_data[1].shape[0])\n",
    "    elif noise_dist=='flip_percentage':\n",
    "        idx = np.random.choice(y_data[1].shape[0], int(y_data[1].shape[0]*noise), replace=False)\n",
    "        y_data[1].iloc[idx] = (y_data[1].iloc[idx] + 1) % 2 \n",
    "        return y_data\n",
    "    else:\n",
    "        #no noise\n",
    "        noise_sample = np.zeros(y_data[1].shape[0])\n",
    "                               \n",
    "    noise_sample=noise_sample.reshape(-1,1)\n",
    "    \n",
    "    y_data[1]=y_data[1]+noise_sample\n",
    "    \n",
    "    return np.clip(y_data, 0, 1)"
   ]
  },
  {
   "cell_type": "code",
   "execution_count": 17,
   "metadata": {
    "execution": {
     "iopub.execute_input": "2022-04-04T12:58:55.672792Z",
     "iopub.status.busy": "2022-04-04T12:58:55.672676Z",
     "iopub.status.idle": "2022-04-04T12:58:55.776035Z",
     "shell.execute_reply": "2022-04-04T12:58:55.775526Z",
     "shell.execute_reply.started": "2022-04-04T12:58:55.672778Z"
    }
   },
   "outputs": [],
   "source": [
    "if noise_injected_level > 0:\n",
    "    parallel = Parallel(n_jobs=n_jobs, verbose=3, backend='loky')\n",
    "    y_data_list = parallel(delayed(inject_noise)(y_data=y_data_list[i],\n",
    "                                                 noise=noise_injected_level,\n",
    "                                                 noise_dist=noise_injected_type, \n",
    "                                                 seed=RANDOM_SEED+i) for i in range(len(y_data_list)))\n"
   ]
  },
  {
   "cell_type": "code",
   "execution_count": 18,
   "metadata": {
    "execution": {
     "iopub.execute_input": "2022-04-04T12:58:55.776844Z",
     "iopub.status.busy": "2022-04-04T12:58:55.776715Z",
     "iopub.status.idle": "2022-04-04T12:58:55.868096Z",
     "shell.execute_reply": "2022-04-04T12:58:55.867629Z",
     "shell.execute_reply.started": "2022-04-04T12:58:55.776828Z"
    }
   },
   "outputs": [
    {
     "data": {
      "text/plain": [
       "feat0     0\n",
       "feat1     0\n",
       "feat2     0\n",
       "feat3     0\n",
       "feat4     0\n",
       "feat5     0\n",
       "feat6     0\n",
       "split0    0\n",
       "split1    0\n",
       "split2    0\n",
       "dtype: int64"
      ]
     },
     "execution_count": 18,
     "metadata": {},
     "output_type": "execute_result"
    }
   ],
   "source": [
    "y_data_list[0][0].head(10)"
   ]
  },
  {
   "cell_type": "code",
   "execution_count": 19,
   "metadata": {
    "execution": {
     "iopub.execute_input": "2022-04-04T12:58:55.869035Z",
     "iopub.status.busy": "2022-04-04T12:58:55.868888Z",
     "iopub.status.idle": "2022-04-04T12:58:55.997724Z",
     "shell.execute_reply": "2022-04-04T12:58:55.997281Z",
     "shell.execute_reply.started": "2022-04-04T12:58:55.869017Z"
    }
   },
   "outputs": [
    {
     "data": {
      "text/plain": [
       "feat0     0\n",
       "feat1     0\n",
       "feat2     0\n",
       "feat3     0\n",
       "feat4     0\n",
       "feat5     0\n",
       "feat6     0\n",
       "split0    0\n",
       "split1    0\n",
       "split2    0\n",
       "split3    0\n",
       "split4    0\n",
       "split5    0\n",
       "split6    0\n",
       "lp0       0\n",
       "lp1       0\n",
       "lp2       0\n",
       "lp3       0\n",
       "lp4       0\n",
       "lp5       0\n",
       "lp6       0\n",
       "lp7       0\n",
       "dtype: int64"
      ]
     },
     "execution_count": 19,
     "metadata": {},
     "output_type": "execute_result"
    }
   ],
   "source": [
    "y_data_list[0][0]"
   ]
  },
  {
   "cell_type": "code",
   "execution_count": 20,
   "metadata": {
    "execution": {
     "iopub.execute_input": "2022-04-04T12:58:55.998637Z",
     "iopub.status.busy": "2022-04-04T12:58:55.998503Z",
     "iopub.status.idle": "2022-04-04T12:58:56.118563Z",
     "shell.execute_reply": "2022-04-04T12:58:56.118038Z",
     "shell.execute_reply.started": "2022-04-04T12:58:55.998619Z"
    }
   },
   "outputs": [
    {
     "data": {
      "text/html": [
       "<div>\n",
       "<style scoped>\n",
       "    .dataframe tbody tr th:only-of-type {\n",
       "        vertical-align: middle;\n",
       "    }\n",
       "\n",
       "    .dataframe tbody tr th {\n",
       "        vertical-align: top;\n",
       "    }\n",
       "\n",
       "    .dataframe thead th {\n",
       "        text-align: right;\n",
       "    }\n",
       "</style>\n",
       "<table border=\"1\" class=\"dataframe\">\n",
       "  <thead>\n",
       "    <tr style=\"text-align: right;\">\n",
       "      <th></th>\n",
       "      <th>result</th>\n",
       "    </tr>\n",
       "  </thead>\n",
       "  <tbody>\n",
       "    <tr>\n",
       "      <th>0</th>\n",
       "      <td>0</td>\n",
       "    </tr>\n",
       "    <tr>\n",
       "      <th>1</th>\n",
       "      <td>0</td>\n",
       "    </tr>\n",
       "    <tr>\n",
       "      <th>2</th>\n",
       "      <td>0</td>\n",
       "    </tr>\n",
       "    <tr>\n",
       "      <th>3</th>\n",
       "      <td>0</td>\n",
       "    </tr>\n",
       "    <tr>\n",
       "      <th>4</th>\n",
       "      <td>0</td>\n",
       "    </tr>\n",
       "    <tr>\n",
       "      <th>5</th>\n",
       "      <td>0</td>\n",
       "    </tr>\n",
       "    <tr>\n",
       "      <th>6</th>\n",
       "      <td>0</td>\n",
       "    </tr>\n",
       "    <tr>\n",
       "      <th>7</th>\n",
       "      <td>0</td>\n",
       "    </tr>\n",
       "    <tr>\n",
       "      <th>8</th>\n",
       "      <td>0</td>\n",
       "    </tr>\n",
       "    <tr>\n",
       "      <th>9</th>\n",
       "      <td>0</td>\n",
       "    </tr>\n",
       "  </tbody>\n",
       "</table>\n",
       "</div>"
      ],
      "text/plain": [
       "   result\n",
       "0       0\n",
       "1       0\n",
       "2       0\n",
       "3       0\n",
       "4       0\n",
       "5       0\n",
       "6       0\n",
       "7       0\n",
       "8       0\n",
       "9       0"
      ]
     },
     "execution_count": 20,
     "metadata": {},
     "output_type": "execute_result"
    }
   ],
   "source": [
    "y_data_list[0][1].head(10)"
   ]
  },
  {
   "cell_type": "markdown",
   "metadata": {
    "ExecuteTime": {
     "end_time": "2020-09-16T17:06:36.919643Z",
     "start_time": "2020-09-16T17:06:36.912904Z"
    }
   },
   "source": [
    "## Lambda Network Training + Weigh/Bias saving"
   ]
  },
  {
   "cell_type": "code",
   "execution_count": 21,
   "metadata": {
    "execution": {
     "iopub.execute_input": "2022-04-04T12:58:56.119571Z",
     "iopub.status.busy": "2022-04-04T12:58:56.119334Z",
     "iopub.status.idle": "2022-04-04T12:58:56.197563Z",
     "shell.execute_reply": "2022-04-04T12:58:56.196670Z",
     "shell.execute_reply.started": "2022-04-04T12:58:56.119553Z"
    }
   },
   "outputs": [],
   "source": [
    "#%load_ext autoreload"
   ]
  },
  {
   "cell_type": "code",
   "execution_count": 22,
   "metadata": {
    "execution": {
     "iopub.execute_input": "2022-04-04T12:58:56.198865Z",
     "iopub.status.busy": "2022-04-04T12:58:56.198704Z",
     "iopub.status.idle": "2022-04-04T12:58:56.356653Z",
     "shell.execute_reply": "2022-04-04T12:58:56.355731Z",
     "shell.execute_reply.started": "2022-04-04T12:58:56.198842Z"
    },
    "tags": []
   },
   "outputs": [],
   "source": [
    "rand_index = np.random.randint(number_of_trained_lambda_nets)\n",
    "\n",
    "#rand_tree = generate_decision_tree_from_array(y_data_list[rand_index][0].values, config)\n",
    "#rand_tree.plot_tree()"
   ]
  },
  {
   "cell_type": "code",
   "execution_count": 23,
   "metadata": {
    "execution": {
     "iopub.execute_input": "2022-04-04T12:58:56.358227Z",
     "iopub.status.busy": "2022-04-04T12:58:56.357939Z",
     "iopub.status.idle": "2022-04-04T13:00:30.175729Z",
     "shell.execute_reply": "2022-04-04T13:00:30.174950Z",
     "shell.execute_reply.started": "2022-04-04T12:58:56.358201Z"
    },
    "tags": []
   },
   "outputs": [
    {
     "data": {
      "image/png": "[encoded data removed]",
      "text/plain": [
       "<Figure size 864x576 with 2 Axes>"
      ]
     },
     "metadata": {},
     "output_type": "display_data"
    },
    {
     "name": "stdout",
     "output_type": "stream",
     "text": [
      "binary_accuracy\n",
      "\ttraining         \t (min:    0.814, max:    0.979, cur:    0.976)\n",
      "\tvalidation       \t (min:    0.869, max:    0.915, cur:    0.907)\n",
      "Loss\n",
      "\ttraining         \t (min:    0.064, max:    0.567, cur:    0.064)\n",
      "\tvalidation       \t (min:    0.170, max:    0.454, cur:    0.177)\n"
     ]
    }
   ],
   "source": [
    "#%autoreload 2\n",
    "random_network = train_lambda_net(config=config,\n",
    "                                  lambda_index=rand_index, \n",
    "                                  X_data_with_function=X_data_list[rand_index], \n",
    "                                  y_data_with_function=y_data_list[rand_index], \n",
    "                                  distribution_parameter_list = distribution_parameter_list_list[rand_index][1],\n",
    "                                  callbacks=[PlotLossesKerasTF()], \n",
    "                                  return_model=True,\n",
    "                                  printing=False)"
   ]
  },
  {
   "cell_type": "code",
   "execution_count": 24,
   "metadata": {
    "execution": {
     "iopub.execute_input": "2022-04-04T13:00:30.177318Z",
     "iopub.status.busy": "2022-04-04T13:00:30.176936Z",
     "iopub.status.idle": "2022-04-04T13:00:49.057822Z",
     "shell.execute_reply": "2022-04-04T13:00:49.057075Z",
     "shell.execute_reply.started": "2022-04-04T13:00:30.177294Z"
    },
    "tags": []
   },
   "outputs": [
    {
     "data": {
      "image/png": "[encoded data removed]",
      "text/plain": [
       "<Figure size 1440x1080 with 56 Axes>"
      ]
     },
     "metadata": {},
     "output_type": "display_data"
    }
   ],
   "source": [
    "colors_list = ['green','blue','yellow','cyan','magenta','pink']\n",
    "\n",
    "if config['data']['number_of_variables'] > 4:\n",
    "    fig,ax = plt.subplots(nrows=np.ceil(config['data']['number_of_variables']*2/4).astype(int), ncols=4,figsize=(20,15))\n",
    "else:\n",
    "    fig,ax = plt.subplots(nrows=np.ceil(config['data']['number_of_variables']*2/2).astype(int), ncols=2,figsize=(20,15))\n",
    "\n",
    "for axis_1 in ax:\n",
    "    for axis_2 in axis_1:\n",
    "        axis_2.set_xlim([0, 1])                          \n",
    "\n",
    "plot_index = 0\n",
    "\n",
    "for i in range(X_data_list[rand_index][1].values.shape[1]):\n",
    "    colors = colors_list[i%6]\n",
    "\n",
    "    x = X_data_list[rand_index][1].values[:,i][np.where(random_network['model'].predict(X_data_list[rand_index][1].values).ravel()<=0.5)]\n",
    "    plt.subplot(np.ceil(config['data']['number_of_variables']*2/4).astype(int), 4,plot_index+1)\n",
    "    plt.hist(x,bins=[i/10 for i in range(11)],color=colors)\n",
    "    #plt.title(list(distribution_parameter.keys())[0] + ' Class 0' )\n",
    "    plot_index += 1\n",
    "\n",
    "    x = X_data_list[rand_index][1].values[:,i][np.where(random_network['model'].predict(X_data_list[rand_index][1].values).ravel()>0.5)]\n",
    "    plt.subplot(np.ceil(config['data']['number_of_variables']*2/4).astype(int),4,plot_index+1)\n",
    "    plt.hist(x,bins=[i/10 for i in range(11)],color=colors)\n",
    "    #plt.title(list(distribution_parameter.keys())[0] + ' Class 1' )\n",
    "    plot_index += 1\n",
    "\n",
    "fig.subplots_adjust(hspace=0.4,wspace=.3) \n",
    "plt.suptitle('Sampling from Various Distributions',fontsize=20)\n",
    "plt.show()"
   ]
  },
  {
   "cell_type": "code",
   "execution_count": 25,
   "metadata": {
    "execution": {
     "iopub.execute_input": "2022-04-04T13:00:49.059688Z",
     "iopub.status.busy": "2022-04-04T13:00:49.059431Z",
     "iopub.status.idle": "2022-04-04T13:00:49.070508Z",
     "shell.execute_reply": "2022-04-04T13:00:49.069923Z",
     "shell.execute_reply.started": "2022-04-04T13:00:49.059659Z"
    },
    "tags": []
   },
   "outputs": [
    {
     "data": {
      "text/plain": [
       "[{'gamma': {'class_0': {'shape': 0.6542781116222796,\n",
       "    'scale': 1.7182749818971954},\n",
       "   'class_1': {'shape': 1.0066553700375815, 'scale': 0.994211921395542},\n",
       "   'samples_class_0': 861,\n",
       "   'feature_weight_0': 1,\n",
       "   'seed_shuffeling': 42}},\n",
       " {'poisson': {'class_0': {'lam': 0.5007032740303572},\n",
       "   'class_1': {'lam': 0.34360898387730154},\n",
       "   'samples_class_0': 4383,\n",
       "   'feature_weight_0': 1,\n",
       "   'seed_shuffeling': 42}},\n",
       " {'uniform': {'class_0': {'low': 0.5365195516278018,\n",
       "    'high': 1.1410632502908136},\n",
       "   'class_1': {'low': 0.34811605509767474, 'high': 1.816835471946047},\n",
       "   'samples_class_0': 4609,\n",
       "   'feature_weight_0': 1,\n",
       "   'seed_shuffeling': 42}},\n",
       " {'normal': {'class_0': {'loc': 0.6394225683060049,\n",
       "    'scale': 1.351017233508459},\n",
       "   'class_1': {'loc': 1.281135027897809, 'scale': 0.9846507258154895},\n",
       "   'samples_class_0': 1800,\n",
       "   'feature_weight_0': 1,\n",
       "   'seed_shuffeling': 42}},\n",
       " {'normal': {'class_0': {'loc': 0.3639777758173153,\n",
       "    'scale': 0.4181787777907662},\n",
       "   'class_1': {'loc': 0.8758403475104959, 'scale': 0.32578644736581386},\n",
       "   'samples_class_0': 3774,\n",
       "   'feature_weight_0': 1,\n",
       "   'seed_shuffeling': 42}},\n",
       " {'poisson': {'class_0': {'lam': 1.3888467449461332},\n",
       "   'class_1': {'lam': 0.24060464096940581},\n",
       "   'samples_class_0': 1534,\n",
       "   'feature_weight_0': 1,\n",
       "   'seed_shuffeling': 42}},\n",
       " {'gamma': {'class_0': {'shape': 1.4353107658501352,\n",
       "    'scale': 0.9023737687145663},\n",
       "   'class_1': {'shape': 1.0845863645479477, 'scale': 0.6122747684722842},\n",
       "   'samples_class_0': 237,\n",
       "   'feature_weight_0': 1,\n",
       "   'seed_shuffeling': 42}},\n",
       " {'uniform': {'class_0': {'low': 0.6277716704636231,\n",
       "    'high': 1.5387431044142554},\n",
       "   'class_1': {'low': 0.6728141587319478, 'high': 1.0326195930149433},\n",
       "   'samples_class_0': 2701,\n",
       "   'feature_weight_0': 1,\n",
       "   'seed_shuffeling': 42}},\n",
       " {'poisson': {'class_0': {'lam': 1.1033669457985587},\n",
       "   'class_1': {'lam': 0.21310513962487465},\n",
       "   'samples_class_0': 3571,\n",
       "   'feature_weight_0': 1,\n",
       "   'seed_shuffeling': 42}},\n",
       " {'normal': {'class_0': {'loc': 1.860924956575449,\n",
       "    'scale': 1.7302274793442909},\n",
       "   'class_1': {'loc': 0.9276863790253485, 'scale': 0.11172635471423997},\n",
       "   'samples_class_0': 2334,\n",
       "   'feature_weight_0': 1,\n",
       "   'seed_shuffeling': 42}},\n",
       " {'beta': {'class_0': {'a': 0.012957814984822846, 'b': 1.8759918809128888},\n",
       "   'class_1': {'a': 1.009124617989661, 'b': 0.2054688716556783},\n",
       "   'samples_class_0': 3835,\n",
       "   'feature_weight_0': 1,\n",
       "   'seed_shuffeling': 42}},\n",
       " {'gamma': {'class_0': {'shape': 1.5855565091751445,\n",
       "    'scale': 1.6752138602858004},\n",
       "   'class_1': {'shape': 0.3451261986179186, 'scale': 1.3503762263543715},\n",
       "   'samples_class_0': 2059,\n",
       "   'feature_weight_0': 1,\n",
       "   'seed_shuffeling': 42}},\n",
       " {'beta': {'class_0': {'a': 0.4978782502822432, 'b': 0.27717988418188244},\n",
       "   'class_1': {'a': 0.9129018316575221, 'b': 0.7324408489377698},\n",
       "   'samples_class_0': 1261,\n",
       "   'feature_weight_0': 1,\n",
       "   'seed_shuffeling': 42}},\n",
       " {'poisson': {'class_0': {'lam': 0.774837029444809},\n",
       "   'class_1': {'lam': 1.6667906523873481},\n",
       "   'samples_class_0': 1108,\n",
       "   'feature_weight_0': 1,\n",
       "   'seed_shuffeling': 42}},\n",
       " {'normal': {'class_0': {'loc': 0.9442808517160326,\n",
       "    'scale': 0.07160136558142227},\n",
       "   'class_1': {'loc': 0.5229124151328672, 'scale': 1.769229660580954},\n",
       "   'samples_class_0': 4328,\n",
       "   'feature_weight_0': 1,\n",
       "   'seed_shuffeling': 42}},\n",
       " {'poisson': {'class_0': {'lam': 1.3720290629461125},\n",
       "   'class_1': {'lam': 1.354452391182473},\n",
       "   'samples_class_0': 2821,\n",
       "   'feature_weight_0': 1,\n",
       "   'seed_shuffeling': 42}},\n",
       " {'beta': {'class_0': {'a': 0.649249895428027, 'b': 0.7719099406648247},\n",
       "   'class_1': {'a': 0.8315329155088877, 'b': 1.9922371131816445},\n",
       "   'samples_class_0': 2489,\n",
       "   'feature_weight_0': 1,\n",
       "   'seed_shuffeling': 42}},\n",
       " {'poisson': {'class_0': {'lam': 1.5360901298734866},\n",
       "   'class_1': {'lam': 1.3023976796720398},\n",
       "   'samples_class_0': 3065,\n",
       "   'feature_weight_0': 1,\n",
       "   'seed_shuffeling': 42}},\n",
       " {'normal': {'class_0': {'loc': 0.25770339226406147,\n",
       "    'scale': 0.488494629430116},\n",
       "   'class_1': {'loc': 1.8581497713815167, 'scale': 0.13908608790710875},\n",
       "   'samples_class_0': 893,\n",
       "   'feature_weight_0': 1,\n",
       "   'seed_shuffeling': 42}},\n",
       " {'normal': {'class_0': {'loc': 1.822056277468123,\n",
       "    'scale': 0.5710296618073971},\n",
       "   'class_1': {'loc': 0.8034289913676513, 'scale': 0.13038667129552084},\n",
       "   'samples_class_0': 751,\n",
       "   'feature_weight_0': 1,\n",
       "   'seed_shuffeling': 42}},\n",
       " {'normal': {'class_0': {'loc': 0.08496633725456504,\n",
       "    'scale': 0.7644968660538614},\n",
       "   'class_1': {'loc': 0.3351195684776549, 'scale': 0.17489215456892526},\n",
       "   'samples_class_0': 1379,\n",
       "   'feature_weight_0': 1,\n",
       "   'seed_shuffeling': 42}},\n",
       " {'gamma': {'class_0': {'shape': 0.463121906632217,\n",
       "    'scale': 1.0006028264813622},\n",
       "   'class_1': {'shape': 0.4912510178498566, 'scale': 1.4353806743257864},\n",
       "   'samples_class_0': 625,\n",
       "   'feature_weight_0': 1,\n",
       "   'seed_shuffeling': 42}},\n",
       " {'gamma': {'class_0': {'shape': 0.5349171469228262,\n",
       "    'scale': 1.4007822255288132},\n",
       "   'class_1': {'shape': 1.4547044770681135, 'scale': 1.605891640117522},\n",
       "   'samples_class_0': 1915,\n",
       "   'feature_weight_0': 1,\n",
       "   'seed_shuffeling': 42}},\n",
       " {'beta': {'class_0': {'a': 1.140316167391387, 'b': 1.1957338251292637},\n",
       "   'class_1': {'a': 0.9255486764938685, 'b': 1.5811174751696941},\n",
       "   'samples_class_0': 3087,\n",
       "   'feature_weight_0': 1,\n",
       "   'seed_shuffeling': 42}},\n",
       " {'poisson': {'class_0': {'lam': 1.5118331165893455},\n",
       "   'class_1': {'lam': 1.22094599019044},\n",
       "   'samples_class_0': 2079,\n",
       "   'feature_weight_0': 1,\n",
       "   'seed_shuffeling': 42}},\n",
       " {'normal': {'class_0': {'loc': 1.1347331505655307,\n",
       "    'scale': 1.6761210460997573},\n",
       "   'class_1': {'loc': 0.5110909926705578, 'scale': 1.2990142018042357},\n",
       "   'samples_class_0': 2015,\n",
       "   'feature_weight_0': 1,\n",
       "   'seed_shuffeling': 42}},\n",
       " {'poisson': {'class_0': {'lam': 1.4827163069514655},\n",
       "   'class_1': {'lam': 0.27222788807435405},\n",
       "   'samples_class_0': 3072,\n",
       "   'feature_weight_0': 1,\n",
       "   'seed_shuffeling': 42}},\n",
       " {'gamma': {'class_0': {'shape': 0.5754242257803093,\n",
       "    'scale': 0.015652986590202866},\n",
       "   'class_1': {'shape': 1.9273880763409825, 'scale': 0.5208016860433518},\n",
       "   'samples_class_0': 3440,\n",
       "   'feature_weight_0': 1,\n",
       "   'seed_shuffeling': 42}}]"
      ]
     },
     "execution_count": 25,
     "metadata": {},
     "output_type": "execute_result"
    }
   ],
   "source": [
    "distribution_parameter_list_list[0][1]"
   ]
  },
  {
   "cell_type": "code",
   "execution_count": 26,
   "metadata": {
    "execution": {
     "iopub.execute_input": "2022-04-04T13:00:49.071253Z",
     "iopub.status.busy": "2022-04-04T13:00:49.071095Z",
     "iopub.status.idle": "2022-04-04T13:00:49.165451Z",
     "shell.execute_reply": "2022-04-04T13:00:49.164511Z",
     "shell.execute_reply.started": "2022-04-04T13:00:49.071238Z"
    },
    "tags": []
   },
   "outputs": [],
   "source": [
    "#%load_ext autoreload\n",
    "#%autoreload 2"
   ]
  },
  {
   "cell_type": "code",
   "execution_count": null,
   "metadata": {
    "execution": {
     "iopub.execute_input": "2022-04-04T13:00:49.167043Z",
     "iopub.status.busy": "2022-04-04T13:00:49.166768Z"
    },
    "tags": []
   },
   "outputs": [
    {
     "name": "stderr",
     "output_type": "stream",
     "text": [
      "[Parallel(n_jobs=30)]: Using backend LokyBackend with 30 concurrent workers.\n",
      "[Parallel(n_jobs=30)]: Done  68 tasks      | elapsed:  1.9min\n",
      "[Parallel(n_jobs=30)]: Done 228 tasks      | elapsed:  4.6min\n",
      "[Parallel(n_jobs=30)]: Done 452 tasks      | elapsed:  8.5min\n",
      "[Parallel(n_jobs=30)]: Done 740 tasks      | elapsed: 13.4min\n",
      "[Parallel(n_jobs=30)]: Done 1092 tasks      | elapsed: 19.5min\n",
      "[Parallel(n_jobs=30)]: Done 1508 tasks      | elapsed: 26.7min\n",
      "[Parallel(n_jobs=30)]: Done 1988 tasks      | elapsed: 34.8min\n",
      "[Parallel(n_jobs=30)]: Done 2532 tasks      | elapsed: 43.7min\n",
      "[Parallel(n_jobs=30)]: Done 3140 tasks      | elapsed: 53.8min\n",
      "[Parallel(n_jobs=30)]: Done 3812 tasks      | elapsed: 64.4min\n",
      "[Parallel(n_jobs=30)]: Done 4548 tasks      | elapsed: 76.5min\n"
     ]
    }
   ],
   "source": [
    "parallel = Parallel(n_jobs=n_jobs, verbose=3, backend='loky') #loky\n",
    "clf_list = parallel(delayed(train_lambda_net)(config=config,\n",
    "                                              lambda_index=index, \n",
    "                                              X_data_with_function=X_data, \n",
    "                                              y_data_with_function=y_data,\n",
    "                                              distribution_parameter_list=distribution_parameter_list[1],\n",
    "                                              return_history=True, \n",
    "                                              printing=True) for index, (X_data, y_data, distribution_parameter_list) in enumerate(zip(X_data_list, y_data_list, distribution_parameter_list_list)))  \n",
    "del parallel"
   ]
  },
  {
   "cell_type": "code",
   "execution_count": null,
   "metadata": {},
   "outputs": [],
   "source": [
    "random_network['model'].get_config()"
   ]
  },
  {
   "cell_type": "code",
   "execution_count": null,
   "metadata": {
    "tags": []
   },
   "outputs": [],
   "source": [
    "random_network['model'].summary()"
   ]
  },
  {
   "cell_type": "markdown",
   "metadata": {},
   "source": [
    "## Save and Plot Lambda-Model History"
   ]
  },
  {
   "cell_type": "code",
   "execution_count": null,
   "metadata": {
    "ExecuteTime": {
     "start_time": "2021-01-17T09:44:26.874Z"
    },
    "tags": []
   },
   "outputs": [],
   "source": [
    "loss_list_total = []\n",
    "metric_list_total = []\n",
    "\n",
    "val_loss_list_total = []\n",
    "val_metric_list_total = []\n",
    "\n",
    "index_list = []\n",
    "\n",
    "\n",
    "max_training_epochs = 0\n",
    "for _, entry in tqdm(enumerate(clf_list)):\n",
    "    history = entry['history']\n",
    "    \n",
    "    current_training_epochs = len(history[list(history.keys())[0]])\n",
    "    max_training_epochs = max(max_training_epochs, current_training_epochs)\n",
    "\n",
    "\n",
    "for _, entry in tqdm(enumerate(clf_list)):\n",
    "    history = entry['history']\n",
    "    index = entry['index']\n",
    "    \n",
    "    current_training_epochs = len(history[list(history.keys())[0]])\n",
    "    \n",
    "    loss_list = np.full(max_training_epochs, np.nan)\n",
    "    metric_list = np.full(max_training_epochs, np.nan)\n",
    "    val_loss_list = np.full(max_training_epochs, np.nan)\n",
    "    val_metric_list = np.full(max_training_epochs, np.nan) \n",
    "\n",
    "    for i in range(current_training_epochs):  \n",
    "        loss_list[i] = history[list(history.keys())[0]][i]\n",
    "        metric_list[i] = history[list(history.keys())[1]][i]\n",
    "        val_loss_list[i] = history[list(history.keys())[len(history.keys())//2]][i]\n",
    "        val_metric_list[i] = history[list(history.keys())[len(history.keys())//2+1]][i]\n",
    "    \n",
    "    index_list.append([index])\n",
    "    loss_list_total.append(loss_list)\n",
    "    metric_list_total.append(metric_list)\n",
    "    val_loss_list_total.append(val_loss_list)\n",
    "    val_metric_list_total.append(val_metric_list)\n",
    "\n",
    "loss_df = pd.DataFrame(data=np.hstack([index_list, loss_list_total]), columns=flatten_list(['index', [list(history.keys())[0] + '_epoch_' + str(i+1) for i in range(max_training_epochs)]]))\n",
    "#loss_df['index'] = loss_df['index'].astype(int)\n",
    "metric_df = pd.DataFrame(data=np.hstack([index_list, metric_list_total]), columns=flatten_list(['index', [list(history.keys())[1] + '_epoch_' + str(i+1) for i in range(max_training_epochs)]]))\n",
    "#metric_df['index'] = metric_df['index'].astype(int)\n",
    "val_loss_df = pd.DataFrame(data=np.hstack([index_list, val_loss_list_total]), columns=flatten_list(['index', [list(history.keys())[len(history.keys())//2] + '_epoch_' + str(i+1) for i in range(max_training_epochs)]]))\n",
    "#val_loss_df['index'] = val_loss_df['index'].astype(int)\n",
    "val_metric_df = pd.DataFrame(data=np.hstack([index_list, val_metric_list_total]), columns=flatten_list(['index', [list(history.keys())[len(history.keys())//2+1] + '_epoch_' + str(i+1) for i in range(max_training_epochs)]])) \n",
    "#val_metric_df['index'] = val_metric_df['index'].astype(int)\n"
   ]
  },
  {
   "cell_type": "code",
   "execution_count": null,
   "metadata": {
    "ExecuteTime": {
     "start_time": "2021-01-17T09:44:26.875Z"
    }
   },
   "outputs": [],
   "source": [
    "path_loss = './data/weights/weights_' + path_identifier_lambda_net_data + '/history_' + list(history.keys())[0] + '.txt'\n",
    "path_metric = './data/weights/weights_' + path_identifier_lambda_net_data + '/history_' + list(history.keys())[1] + '.txt'\n",
    "path_val_loss = './data/weights/weights_' + path_identifier_lambda_net_data + '/history_' + list(history.keys())[len(history.keys())//2] + '.txt'\n",
    "path_val_metric = './data/weights/weights_' + path_identifier_lambda_net_data + '/history_' + list(history.keys())[len(history.keys())//2+1] + '.txt'\n",
    "\n",
    "loss_df.to_csv(path_loss, index=None, sep=',')\n",
    "metric_df.to_csv(path_metric, index=None, sep=',')\n",
    "val_loss_df.to_csv(path_val_loss, index=None, sep=',')\n",
    "val_metric_df.to_csv(path_val_metric, index=None, sep=',')\n"
   ]
  },
  {
   "cell_type": "code",
   "execution_count": null,
   "metadata": {
    "ExecuteTime": {
     "start_time": "2021-01-17T09:44:26.876Z"
    }
   },
   "outputs": [],
   "source": [
    "loss_df.describe()"
   ]
  },
  {
   "cell_type": "code",
   "execution_count": null,
   "metadata": {
    "ExecuteTime": {
     "start_time": "2021-01-17T09:44:26.877Z"
    }
   },
   "outputs": [],
   "source": [
    "val_loss_df.describe()"
   ]
  },
  {
   "cell_type": "code",
   "execution_count": null,
   "metadata": {
    "ExecuteTime": {
     "start_time": "2021-01-17T09:44:26.879Z"
    }
   },
   "outputs": [],
   "source": [
    "metric_df.describe()"
   ]
  },
  {
   "cell_type": "code",
   "execution_count": null,
   "metadata": {
    "ExecuteTime": {
     "start_time": "2021-01-17T09:44:26.880Z"
    }
   },
   "outputs": [],
   "source": [
    "val_metric_df.describe()"
   ]
  },
  {
   "cell_type": "code",
   "execution_count": null,
   "metadata": {
    "ExecuteTime": {
     "start_time": "2021-01-17T09:44:26.881Z"
    }
   },
   "outputs": [],
   "source": [
    "# summarize history for metric\n",
    "path = './data/results/weights_' + path_identifier_lambda_net_data + '/' + list(history.keys())[1] + '.png'\n",
    "\n",
    "adjustment_threshold_metric = 10#100\n",
    "    \n",
    "metric_df_adjusted = metric_df.copy(deep=True).iloc[:,1:]\n",
    "if adjustment_threshold_metric > 0:\n",
    "    metric_df_adjusted[metric_df_adjusted.columns] = np.where(metric_df_adjusted[metric_df_adjusted.columns] > adjustment_threshold_metric, adjustment_threshold_metric, metric_df_adjusted[metric_df_adjusted.columns])\n",
    "    \n",
    "val_metric_df_adjusted = val_metric_df.copy(deep=True).iloc[:,1:]\n",
    "if adjustment_threshold_metric > 0:\n",
    "    val_metric_df_adjusted[val_metric_df_adjusted.columns] = np.where(val_metric_df_adjusted[val_metric_df_adjusted.columns] > adjustment_threshold_metric, adjustment_threshold_metric, val_metric_df_adjusted[val_metric_df_adjusted.columns])\n",
    "\n",
    "    \n",
    "plt.plot(metric_df_adjusted.describe().loc['mean'].values)\n",
    "plt.plot(val_metric_df_adjusted.describe().loc['mean'].values)\n",
    "plt.title('model ' + list(history.keys())[1])\n",
    "plt.ylabel(list(history.keys())[1])\n",
    "plt.xlabel('epoch')\n",
    "plt.legend(['train', 'valid'], loc='upper left')\n",
    "plt.savefig(path)\n",
    "plt.show()\n"
   ]
  },
  {
   "cell_type": "code",
   "execution_count": null,
   "metadata": {
    "ExecuteTime": {
     "start_time": "2021-01-17T09:44:26.883Z"
    },
    "tags": []
   },
   "outputs": [],
   "source": [
    "# summarize history for loss\n",
    "path = './data/results/weights_' + path_identifier_lambda_net_data + '/' + list(history.keys())[0] + '.png'\n",
    "\n",
    "adjustment_threshold_loss = 0#10000\n",
    "    \n",
    "loss_df_adjusted = loss_df.copy(deep=True).iloc[:,1:]\n",
    "\n",
    "if adjustment_threshold_loss > 0:\n",
    "    loss_df_adjusted[loss_df_adjusted.columns] = np.where(loss_df_adjusted[loss_df_adjusted.columns] > adjustment_threshold_loss, adjustment_threshold_loss, loss_df_adjusted[loss_df_adjusted.columns])\n",
    "    \n",
    "val_loss_df_adjusted = val_loss_df.copy(deep=True).iloc[:,1:]\n",
    "if adjustment_threshold_loss > 0:\n",
    "    val_loss_df_adjusted[val_loss_df_adjusted.columns] = np.where(val_loss_df_adjusted[val_loss_df_adjusted.columns] > adjustment_threshold_loss, adjustment_threshold_loss, val_loss_df_adjusted[val_loss_df_adjusted.columns])\n",
    "\n",
    "    \n",
    "plt.plot(loss_df_adjusted.describe().loc['mean'].values)\n",
    "plt.plot(val_loss_df_adjusted.describe().loc['mean'].values)\n",
    "plt.title('model ' + list(history.keys())[0])\n",
    "plt.ylabel(list(history.keys())[0])\n",
    "plt.xlabel('epoch')\n",
    "plt.legend(['train', 'valid'], loc='upper left')\n",
    "plt.savefig(path)\n",
    "plt.show()\n"
   ]
  },
  {
   "cell_type": "code",
   "execution_count": null,
   "metadata": {
    "tags": []
   },
   "outputs": [],
   "source": [
    "if use_gpu:\n",
    "    from numba import cuda \n",
    "    device = cuda.get_current_device()\n",
    "    device.reset()"
   ]
  }
 ],
 "metadata": {
  "kernelspec": {
   "display_name": "Python 3 (ipykernel)",
   "language": "python",
   "name": "python3"
  },
  "language_info": {
   "codemirror_mode": {
    "name": "ipython",
    "version": 3
   },
   "file_extension": ".py",
   "mimetype": "text/x-python",
   "name": "python",
   "nbconvert_exporter": "python",
   "pygments_lexer": "ipython3",
   "version": "3.8.0"
  }
 },
 "nbformat": 4,
 "nbformat_minor": 4
}
