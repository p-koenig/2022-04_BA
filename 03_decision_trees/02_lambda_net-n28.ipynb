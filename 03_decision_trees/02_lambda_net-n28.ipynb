{
 "cells": [
  {
   "cell_type": "markdown",
   "metadata": {},
   "source": [
    "# Generation of λ-Nets for I-Net training"
   ]
  },
  {
   "cell_type": "markdown",
   "metadata": {},
   "source": [
    "## Specitication of Experiment Settings"
   ]
  },
  {
   "cell_type": "code",
   "execution_count": 1,
   "metadata": {
    "execution": {
     "iopub.execute_input": "2022-03-30T07:33:11.525825Z",
     "iopub.status.busy": "2022-03-30T07:33:11.525530Z",
     "iopub.status.idle": "2022-03-30T07:33:11.540941Z",
     "shell.execute_reply": "2022-03-30T07:33:11.540364Z",
     "shell.execute_reply.started": "2022-03-30T07:33:11.525738Z"
    },
    "tags": []
   },
   "outputs": [],
   "source": [
    "#######################################################################################################################################\n",
    "###################################################### CONFIG FILE ####################################################################\n",
    "#######################################################################################################################################\n",
    "sleep_time = 0 #minutes\n",
    "\n",
    "config = {\n",
    "    'function_family': {\n",
    "        'maximum_depth': 3,\n",
    "        'beta': 1,\n",
    "        'decision_sparsity': 1,\n",
    "        'fully_grown': True,          \n",
    "        'dt_type': 'vanilla', #'vanilla', 'SDT'\n",
    "    },\n",
    "    'data': {\n",
    "        'number_of_variables': 28, \n",
    "        'num_classes': 2,\n",
    "        'categorical_indices': [],\n",
    "        'random_parameters_distribution': True, ##MAKEPATH DIFFERENT FILES\n",
    "        'max_distributions_per_class': 1, # None; 0; int >= 1\n",
    "        'exclude_linearly_seperable': True,\n",
    "        'data_generation_filtering': False,\n",
    "        'fixed_class_probability': False,\n",
    "        'weighted_data_generation': False,\n",
    "        'shift_distrib': False,\n",
    "        \n",
    "        'function_generation_type': 'distribution' ,#'distribution', 'distribution_trained' 'make_classification_distribution', 'make_classification_distribution_trained', 'make_classification', 'make_classification_trained', 'random_decision_tree', 'random_decision_tree_trained'\n",
    "        'distribution_list': ['uniform', 'normal', 'gamma', 'beta', 'poisson'],#['uniform', 'normal', 'gamma', 'exponential', 'beta', 'binomial', 'poisson'], \n",
    "        'objective': 'classification', # 'regression'\n",
    "        \n",
    "        'x_max': 1,\n",
    "        'x_min': 0,\n",
    "        'x_distrib': 'uniform', #'normal', 'uniform',       \n",
    "                \n",
    "        'lambda_dataset_size': 5000, #number of samples per function\n",
    "        'number_of_generated_datasets': 10000,\n",
    "        \n",
    "        'noise_injected_level': 0, \n",
    "        'noise_injected_type': 'flip_percentage', # '' 'normal' 'uniform' 'normal_range' 'uniform_range'\n",
    "        \n",
    "        'data_noise': 0, #None or float\n",
    "        'distrib_param_max': 5,\n",
    "    }, \n",
    "    'lambda_net': {\n",
    "        'epochs_lambda': 1000,\n",
    "        'early_stopping_lambda': True, \n",
    "        'early_stopping_min_delta_lambda': 1e-3,\n",
    "        'batch_lambda': 64,\n",
    "        'dropout_lambda': 0,\n",
    "        'lambda_network_layers': [128],\n",
    "        'use_batchnorm_lambda': False,\n",
    "        \n",
    "        'optimizer_lambda': 'adam',\n",
    "        'loss_lambda': 'binary_crossentropy', #categorical_crossentropy\n",
    "                \n",
    "        'number_initializations_lambda': 1, \n",
    "        \n",
    "        'number_of_trained_lambda_nets': 10000,\n",
    "    },     \n",
    "    'evaluation': {   \n",
    "    },    \n",
    "    \n",
    "    'computation':{\n",
    "        'n_jobs': 30,\n",
    "        'use_gpu': False,\n",
    "        'gpu_numbers': '0',\n",
    "        'RANDOM_SEED': 42,   \n",
    "    }\n",
    "}\n",
    "\n",
    "\n"
   ]
  },
  {
   "cell_type": "code",
   "execution_count": 2,
   "metadata": {
    "execution": {
     "iopub.execute_input": "2022-03-30T07:33:11.542109Z",
     "iopub.status.busy": "2022-03-30T07:33:11.541881Z",
     "iopub.status.idle": "2022-03-30T07:33:11.567400Z",
     "shell.execute_reply": "2022-03-30T07:33:11.566885Z",
     "shell.execute_reply.started": "2022-03-30T07:33:11.542081Z"
    }
   },
   "outputs": [],
   "source": [
    "#######################################################################################################################################\n",
    "########################################### IMPORT GLOBAL VARIABLES FROM CONFIG #######################################################\n",
    "#######################################################################################################################################\n",
    "globals().update(config['function_family'])\n",
    "globals().update(config['data'])\n",
    "globals().update(config['lambda_net'])\n",
    "globals().update(config['evaluation'])\n",
    "globals().update(config['computation'])"
   ]
  },
  {
   "cell_type": "code",
   "execution_count": 3,
   "metadata": {
    "execution": {
     "iopub.execute_input": "2022-03-30T07:33:11.568437Z",
     "iopub.status.busy": "2022-03-30T07:33:11.568243Z",
     "iopub.status.idle": "2022-03-30T07:33:16.041720Z",
     "shell.execute_reply": "2022-03-30T07:33:16.040923Z",
     "shell.execute_reply.started": "2022-03-30T07:33:11.568412Z"
    }
   },
   "outputs": [],
   "source": [
    "import warnings\n",
    "warnings.filterwarnings('ignore')\n",
    "import os\n",
    "os.environ['TF_CPP_MIN_LOG_LEVEL'] = '3' \n",
    "\n",
    "from itertools import product       # forms cartesian products\n",
    "from tqdm import tqdm_notebook as tqdm\n",
    "from more_itertools import random_product \n",
    "import pickle\n",
    "import numpy as np\n",
    "import pandas as pd\n",
    "import timeit\n",
    "import matplotlib.pyplot as plt \n",
    "import time\n",
    "import math\n",
    "import operator\n",
    "from functools import reduce\n",
    "\n",
    "from scipy.signal import argrelextrema\n",
    "\n",
    "import sys\n",
    "\n",
    "import shutil\n",
    "\n",
    "import logging\n",
    "logging.getLogger('tensorflow').disabled = True\n",
    "\n",
    "from joblib import Parallel, delayed\n",
    "\n",
    "\n",
    "from sklearn.model_selection import cross_val_score, train_test_split, StratifiedKFold, KFold\n",
    "from sklearn.metrics import accuracy_score, log_loss, roc_auc_score, f1_score, mean_absolute_error, r2_score\n",
    "#from similaritymeasures import frechet_dist, area_between_two_curves, dtw\n",
    "from IPython.display import Image\n",
    "\n",
    "from livelossplot import PlotLossesKerasTF\n",
    "\n",
    "import seaborn as sns\n",
    "\n",
    "import tensorflow as tf\n",
    "#import tensorflow_addons as tfa\n",
    "import random \n",
    "\n",
    "\n",
    "#import keras\n",
    "import tensorflow.keras.backend as K\n",
    "from tensorflow.keras import Sequential\n",
    "from tensorflow.keras.layers import Dense, Dropout\n",
    "from tensorflow.keras.utils import plot_model\n",
    "from tensorflow.keras.callbacks import EarlyStopping, ModelCheckpoint, ReduceLROnPlateau\n",
    "\n"
   ]
  },
  {
   "cell_type": "code",
   "execution_count": 4,
   "metadata": {
    "execution": {
     "iopub.execute_input": "2022-03-30T07:33:16.043224Z",
     "iopub.status.busy": "2022-03-30T07:33:16.043096Z",
     "iopub.status.idle": "2022-03-30T07:33:16.049199Z",
     "shell.execute_reply": "2022-03-30T07:33:16.048787Z",
     "shell.execute_reply.started": "2022-03-30T07:33:16.043209Z"
    }
   },
   "outputs": [],
   "source": [
    "#######################################################################################################################################\n",
    "###################################################### SET VARIABLES + DESIGN #########################################################\n",
    "#######################################################################################################################################\n",
    "    \n",
    "#os.environ['TF_CPP_MIN_LOG_LEVEL'] = '2' \n",
    "os.environ['CUDA_VISIBLE_DEVICES'] = gpu_numbers if use_gpu else ''\n",
    "os.environ['TF_FORCE_GPU_ALLOW_GROWTH'] = 'true' if use_gpu else ''\n",
    "\n",
    "#os.environ['XLA_FLAGS'] =  '--xla_gpu_cuda_data_dir=/usr/local/cuda-10.1'\n",
    "\n",
    "#os.environ['XLA_FLAGS'] = '--tf_xla_enable_xla_devices'\n",
    "#os.environ['TF_XLA_FLAGS'] = '--tf_xla_enable_xla_devices'\n",
    "\n",
    "os.environ['XLA_FLAGS'] = '--xla_gpu_cuda_data_dir=/usr/local/cuda-11.4' if use_gpu else ''#-10.1' #--xla_gpu_cuda_data_dir=/usr/local/cuda, \n",
    "os.environ['TF_XLA_FLAGS'] = '--tf_xla_auto_jit=2 ,--tf_xla_enable_xla_devices' if use_gpu else ''#'--tf_xla_auto_jit=2' #, --tf_xla_enable_xla_devices\n",
    "\n",
    "\n",
    "sns.set_style(\"darkgrid\")\n",
    "\n",
    "random.seed(RANDOM_SEED)\n",
    "np.random.seed(RANDOM_SEED)\n",
    "np.random.seed(RANDOM_SEED)\n",
    "if int(tf.__version__[0]) >= 2:\n",
    "    tf.random.set_seed(RANDOM_SEED)\n",
    "else:\n",
    "    tf.set_random_seed(RANDOM_SEED)\n",
    "    \n",
    "    \n",
    "pd.set_option('display.float_format', lambda x: '%.3f' % x)\n",
    "pd.set_option('display.max_columns', 200)\n",
    "np.set_printoptions(threshold=200)"
   ]
  },
  {
   "cell_type": "code",
   "execution_count": null,
   "metadata": {},
   "outputs": [],
   "source": []
  },
  {
   "cell_type": "code",
   "execution_count": 5,
   "metadata": {
    "execution": {
     "iopub.execute_input": "2022-03-30T07:33:16.050019Z",
     "iopub.status.busy": "2022-03-30T07:33:16.049920Z",
     "iopub.status.idle": "2022-03-30T07:33:19.234606Z",
     "shell.execute_reply": "2022-03-30T07:33:19.234122Z",
     "shell.execute_reply.started": "2022-03-30T07:33:16.050007Z"
    }
   },
   "outputs": [
    {
     "data": {
      "application/vnd.jupyter.widget-view+json": {
       "model_id": "64aaa54eb2354a7f8bcb95bbdaeb653a",
       "version_major": 2,
       "version_minor": 0
      },
      "text/plain": [
       "0it [00:00, ?it/s]"
      ]
     },
     "metadata": {},
     "output_type": "display_data"
    }
   ],
   "source": [
    "from utilities.LambdaNet import *\n",
    "from utilities.metrics import *\n",
    "from utilities.utility_functions import *\n",
    "#######################################################################################################################################\n",
    "####################################################### CONFIG ADJUSTMENTS ############################################################\n",
    "#######################################################################################################################################\n",
    "\n",
    "config['lambda_net']['number_of_lambda_weights'] = get_number_of_lambda_net_parameters(config)\n",
    "    \n",
    "#######################################################################################################################################\n",
    "################################################## UPDATE VARIABLES ###################################################################\n",
    "#######################################################################################################################################\n",
    "globals().update(config['function_family'])\n",
    "globals().update(config['data'])\n",
    "globals().update(config['lambda_net'])\n",
    "globals().update(config['evaluation'])\n",
    "globals().update(config['computation'])\n",
    "\n",
    "#initialize_utility_functions_config_from_curent_notebook(config)\n",
    "#initialize_LambdaNet_config_from_curent_notebook(config)\n",
    "#initialize_metrics_config_from_curent_notebook(config)\n",
    "\n",
    "#######################################################################################################################################\n",
    "###################################################### PATH + FOLDER CREATION #########################################################\n",
    "#######################################################################################################################################\n",
    "globals().update(generate_paths(config, path_type='lambda_net'))\n",
    "generate_directory_structure()\n",
    "generate_lambda_net_directory(config)\n",
    "\n",
    "#######################################################################################################################################\n",
    "############################################################ SLEEP TIMER ##############################################################\n",
    "#######################################################################################################################################\n",
    "sleep_minutes(sleep_time)"
   ]
  },
  {
   "cell_type": "code",
   "execution_count": 6,
   "metadata": {
    "execution": {
     "iopub.execute_input": "2022-03-30T07:33:19.235436Z",
     "iopub.status.busy": "2022-03-30T07:33:19.235327Z",
     "iopub.status.idle": "2022-03-30T07:33:19.238462Z",
     "shell.execute_reply": "2022-03-30T07:33:19.238060Z",
     "shell.execute_reply.started": "2022-03-30T07:33:19.235421Z"
    }
   },
   "outputs": [
    {
     "name": "stdout",
     "output_type": "stream",
     "text": [
      "lNetSize5000_numLNets10000_var28_class2_distribution_xMax1_xMin0_xDistuniform_dNoise0_randParamDist_maxDistClass1_distribParamMax5_randClassProb_exLinSepun-no-ga-be-po_depth3_beta1_decisionSpars1_vanilla_fullyGrown/128_e1000ES0.001_b64_drop0_adam_binary_crossentropy_fixedInit1-seed42\n",
      "lNetSize5000_numDatasets10000_var28_class2_distribution_xMax1_xMin0_xDistuniform_dNoise0_randParamDist_maxDistClass1_distribParamMax5_randClassProb_exLinSepun-no-ga-be-po_depth3_beta1_decisionSpars1_vanilla_fullyGrown\n"
     ]
    }
   ],
   "source": [
    "print(path_identifier_lambda_net_data)\n",
    "\n",
    "print(path_identifier_function_data)\n"
   ]
  },
  {
   "cell_type": "code",
   "execution_count": 7,
   "metadata": {
    "execution": {
     "iopub.execute_input": "2022-03-30T07:33:19.239040Z",
     "iopub.status.busy": "2022-03-30T07:33:19.238945Z",
     "iopub.status.idle": "2022-03-30T07:33:19.310992Z",
     "shell.execute_reply": "2022-03-30T07:33:19.310598Z",
     "shell.execute_reply.started": "2022-03-30T07:33:19.239028Z"
    }
   },
   "outputs": [
    {
     "name": "stdout",
     "output_type": "stream",
     "text": [
      "Num GPUs Available:  0\n",
      "Num XLA-GPUs Available:  0\n"
     ]
    }
   ],
   "source": [
    "print(\"Num GPUs Available: \", len(tf.config.experimental.list_physical_devices('GPU')))\n",
    "print(\"Num XLA-GPUs Available: \", len(tf.config.experimental.list_physical_devices('XLA_GPU')))"
   ]
  },
  {
   "cell_type": "code",
   "execution_count": 8,
   "metadata": {
    "execution": {
     "iopub.execute_input": "2022-03-30T07:33:19.311912Z",
     "iopub.status.busy": "2022-03-30T07:33:19.311744Z",
     "iopub.status.idle": "2022-03-30T07:33:19.346628Z",
     "shell.execute_reply": "2022-03-30T07:33:19.346076Z",
     "shell.execute_reply.started": "2022-03-30T07:33:19.311891Z"
    }
   },
   "outputs": [
    {
     "data": {
      "text/plain": [
       "[128]"
      ]
     },
     "execution_count": 8,
     "metadata": {},
     "output_type": "execute_result"
    }
   ],
   "source": [
    "lambda_network_layers"
   ]
  },
  {
   "cell_type": "code",
   "execution_count": 9,
   "metadata": {
    "ExecuteTime": {
     "end_time": "2021-01-17T09:46:11.182937Z",
     "start_time": "2021-01-17T09:44:31.797522Z"
    },
    "execution": {
     "iopub.execute_input": "2022-03-30T07:33:19.348030Z",
     "iopub.status.busy": "2022-03-30T07:33:19.347588Z",
     "iopub.status.idle": "2022-03-30T07:34:39.934986Z",
     "shell.execute_reply": "2022-03-30T07:34:39.933941Z",
     "shell.execute_reply.started": "2022-03-30T07:33:19.347998Z"
    },
    "tags": []
   },
   "outputs": [],
   "source": [
    "path_functions = './data/saved_function_lists/functions_' + path_identifier_function_data + '.csv'\n",
    "function_df = pd.read_csv(path_functions)\n",
    "\n",
    "path_X_data = './data/saved_function_lists/X_data_' + path_identifier_function_data + '.pkl'\n",
    "with open(path_X_data, 'rb') as f:\n",
    "    X_data_list = pickle.load(f)\n",
    "    \n",
    "path_y_data = './data/saved_function_lists/y_data_' + path_identifier_function_data + '.pkl'\n",
    "with open(path_y_data, 'rb') as f:\n",
    "    y_data_list = pickle.load(f)\n",
    "    \n",
    "try:\n",
    "    path_distribution = './data/saved_function_lists/distribution_parameter_list_list_' + path_identifier_function_data + '.pkl'\n",
    "    with open(path_distribution, 'rb') as f:\n",
    "        distribution_parameter_list_list = pickle.load(f)\n",
    "except Exception:\n",
    "    traceback.print_exc()\n",
    "    distribution_parameter_list_list = [[None, None]]*number_of_generated_datasets\n",
    "    \n",
    "if number_of_trained_lambda_nets < number_of_generated_datasets:\n",
    "    function_df = function_df.sample(n=number_of_trained_lambda_nets, random_state=RANDOM_SEED)\n",
    "    random.seed(RANDOM_SEED)\n",
    "    X_data_list = random.sample(X_data_list, number_of_trained_lambda_nets)\n",
    "    random.seed(RANDOM_SEED)\n",
    "    y_data_list = random.sample(y_data_list, number_of_trained_lambda_nets)\n",
    "    random.seed(RANDOM_SEED)\n",
    "    try:\n",
    "        distribution_parameter_list_list = random.sample(distribution_parameter_list_list, number_of_trained_lambda_nets)\n",
    "        random.seed(RANDOM_SEED)\n",
    "    except:\n",
    "        distribution_parameter_list_list = [[None, None]]*number_of_trained_lambda_nets"
   ]
  },
  {
   "cell_type": "markdown",
   "metadata": {},
   "source": [
    "## Data Inspection"
   ]
  },
  {
   "cell_type": "code",
   "execution_count": 10,
   "metadata": {
    "execution": {
     "iopub.execute_input": "2022-03-30T07:34:39.936398Z",
     "iopub.status.busy": "2022-03-30T07:34:39.936260Z",
     "iopub.status.idle": "2022-03-30T07:34:39.950582Z",
     "shell.execute_reply": "2022-03-30T07:34:39.950070Z",
     "shell.execute_reply.started": "2022-03-30T07:34:39.936381Z"
    }
   },
   "outputs": [
    {
     "data": {
      "text/html": [
       "<div>\n",
       "<style scoped>\n",
       "    .dataframe tbody tr th:only-of-type {\n",
       "        vertical-align: middle;\n",
       "    }\n",
       "\n",
       "    .dataframe tbody tr th {\n",
       "        vertical-align: top;\n",
       "    }\n",
       "\n",
       "    .dataframe thead th {\n",
       "        text-align: right;\n",
       "    }\n",
       "</style>\n",
       "<table border=\"1\" class=\"dataframe\">\n",
       "  <thead>\n",
       "    <tr style=\"text-align: right;\">\n",
       "      <th></th>\n",
       "      <th>feat0</th>\n",
       "      <th>feat1</th>\n",
       "      <th>feat2</th>\n",
       "      <th>feat3</th>\n",
       "      <th>feat4</th>\n",
       "      <th>feat5</th>\n",
       "      <th>feat6</th>\n",
       "      <th>split0</th>\n",
       "      <th>split1</th>\n",
       "      <th>split2</th>\n",
       "      <th>split3</th>\n",
       "      <th>split4</th>\n",
       "      <th>split5</th>\n",
       "      <th>split6</th>\n",
       "      <th>lp0</th>\n",
       "      <th>lp1</th>\n",
       "      <th>lp2</th>\n",
       "      <th>lp3</th>\n",
       "      <th>lp4</th>\n",
       "      <th>lp5</th>\n",
       "      <th>lp6</th>\n",
       "      <th>lp7</th>\n",
       "    </tr>\n",
       "  </thead>\n",
       "  <tbody>\n",
       "    <tr>\n",
       "      <th>0</th>\n",
       "      <td>0</td>\n",
       "      <td>0</td>\n",
       "      <td>0</td>\n",
       "      <td>0</td>\n",
       "      <td>0</td>\n",
       "      <td>0</td>\n",
       "      <td>0</td>\n",
       "      <td>0</td>\n",
       "      <td>0</td>\n",
       "      <td>0</td>\n",
       "      <td>0</td>\n",
       "      <td>0</td>\n",
       "      <td>0</td>\n",
       "      <td>0</td>\n",
       "      <td>0</td>\n",
       "      <td>0</td>\n",
       "      <td>0</td>\n",
       "      <td>0</td>\n",
       "      <td>0</td>\n",
       "      <td>0</td>\n",
       "      <td>0</td>\n",
       "      <td>0</td>\n",
       "    </tr>\n",
       "    <tr>\n",
       "      <th>1</th>\n",
       "      <td>0</td>\n",
       "      <td>0</td>\n",
       "      <td>0</td>\n",
       "      <td>0</td>\n",
       "      <td>0</td>\n",
       "      <td>0</td>\n",
       "      <td>0</td>\n",
       "      <td>0</td>\n",
       "      <td>0</td>\n",
       "      <td>0</td>\n",
       "      <td>0</td>\n",
       "      <td>0</td>\n",
       "      <td>0</td>\n",
       "      <td>0</td>\n",
       "      <td>0</td>\n",
       "      <td>0</td>\n",
       "      <td>0</td>\n",
       "      <td>0</td>\n",
       "      <td>0</td>\n",
       "      <td>0</td>\n",
       "      <td>0</td>\n",
       "      <td>0</td>\n",
       "    </tr>\n",
       "    <tr>\n",
       "      <th>2</th>\n",
       "      <td>0</td>\n",
       "      <td>0</td>\n",
       "      <td>0</td>\n",
       "      <td>0</td>\n",
       "      <td>0</td>\n",
       "      <td>0</td>\n",
       "      <td>0</td>\n",
       "      <td>0</td>\n",
       "      <td>0</td>\n",
       "      <td>0</td>\n",
       "      <td>0</td>\n",
       "      <td>0</td>\n",
       "      <td>0</td>\n",
       "      <td>0</td>\n",
       "      <td>0</td>\n",
       "      <td>0</td>\n",
       "      <td>0</td>\n",
       "      <td>0</td>\n",
       "      <td>0</td>\n",
       "      <td>0</td>\n",
       "      <td>0</td>\n",
       "      <td>0</td>\n",
       "    </tr>\n",
       "    <tr>\n",
       "      <th>3</th>\n",
       "      <td>0</td>\n",
       "      <td>0</td>\n",
       "      <td>0</td>\n",
       "      <td>0</td>\n",
       "      <td>0</td>\n",
       "      <td>0</td>\n",
       "      <td>0</td>\n",
       "      <td>0</td>\n",
       "      <td>0</td>\n",
       "      <td>0</td>\n",
       "      <td>0</td>\n",
       "      <td>0</td>\n",
       "      <td>0</td>\n",
       "      <td>0</td>\n",
       "      <td>0</td>\n",
       "      <td>0</td>\n",
       "      <td>0</td>\n",
       "      <td>0</td>\n",
       "      <td>0</td>\n",
       "      <td>0</td>\n",
       "      <td>0</td>\n",
       "      <td>0</td>\n",
       "    </tr>\n",
       "    <tr>\n",
       "      <th>4</th>\n",
       "      <td>0</td>\n",
       "      <td>0</td>\n",
       "      <td>0</td>\n",
       "      <td>0</td>\n",
       "      <td>0</td>\n",
       "      <td>0</td>\n",
       "      <td>0</td>\n",
       "      <td>0</td>\n",
       "      <td>0</td>\n",
       "      <td>0</td>\n",
       "      <td>0</td>\n",
       "      <td>0</td>\n",
       "      <td>0</td>\n",
       "      <td>0</td>\n",
       "      <td>0</td>\n",
       "      <td>0</td>\n",
       "      <td>0</td>\n",
       "      <td>0</td>\n",
       "      <td>0</td>\n",
       "      <td>0</td>\n",
       "      <td>0</td>\n",
       "      <td>0</td>\n",
       "    </tr>\n",
       "  </tbody>\n",
       "</table>\n",
       "</div>"
      ],
      "text/plain": [
       "   feat0  feat1  feat2  feat3  feat4  feat5  feat6  split0  split1  split2  \\\n",
       "0      0      0      0      0      0      0      0       0       0       0   \n",
       "1      0      0      0      0      0      0      0       0       0       0   \n",
       "2      0      0      0      0      0      0      0       0       0       0   \n",
       "3      0      0      0      0      0      0      0       0       0       0   \n",
       "4      0      0      0      0      0      0      0       0       0       0   \n",
       "\n",
       "   split3  split4  split5  split6  lp0  lp1  lp2  lp3  lp4  lp5  lp6  lp7  \n",
       "0       0       0       0       0    0    0    0    0    0    0    0    0  \n",
       "1       0       0       0       0    0    0    0    0    0    0    0    0  \n",
       "2       0       0       0       0    0    0    0    0    0    0    0    0  \n",
       "3       0       0       0       0    0    0    0    0    0    0    0    0  \n",
       "4       0       0       0       0    0    0    0    0    0    0    0    0  "
      ]
     },
     "execution_count": 10,
     "metadata": {},
     "output_type": "execute_result"
    }
   ],
   "source": [
    "function_df.head()"
   ]
  },
  {
   "cell_type": "code",
   "execution_count": 11,
   "metadata": {
    "execution": {
     "iopub.execute_input": "2022-03-30T07:34:39.951402Z",
     "iopub.status.busy": "2022-03-30T07:34:39.951294Z",
     "iopub.status.idle": "2022-03-30T07:34:40.200560Z",
     "shell.execute_reply": "2022-03-30T07:34:40.199987Z",
     "shell.execute_reply.started": "2022-03-30T07:34:39.951389Z"
    }
   },
   "outputs": [
    {
     "data": {
      "text/plain": [
       "feat0     0\n",
       "feat1     0\n",
       "feat2     0\n",
       "feat3     0\n",
       "feat4     0\n",
       "feat5     0\n",
       "feat6     0\n",
       "split0    0\n",
       "split1    0\n",
       "split2    0\n",
       "dtype: int64"
      ]
     },
     "execution_count": 11,
     "metadata": {},
     "output_type": "execute_result"
    }
   ],
   "source": [
    "X_data_list[0][0].head(10)"
   ]
  },
  {
   "cell_type": "code",
   "execution_count": 12,
   "metadata": {
    "ExecuteTime": {
     "end_time": "2021-01-17T09:46:12.626401Z",
     "start_time": "2021-01-17T09:46:12.608200Z"
    },
    "execution": {
     "iopub.execute_input": "2022-03-30T07:34:40.201703Z",
     "iopub.status.busy": "2022-03-30T07:34:40.201532Z",
     "iopub.status.idle": "2022-03-30T07:34:40.370412Z",
     "shell.execute_reply": "2022-03-30T07:34:40.369688Z",
     "shell.execute_reply.started": "2022-03-30T07:34:40.201682Z"
    }
   },
   "outputs": [
    {
     "data": {
      "text/html": [
       "<div>\n",
       "<style scoped>\n",
       "    .dataframe tbody tr th:only-of-type {\n",
       "        vertical-align: middle;\n",
       "    }\n",
       "\n",
       "    .dataframe tbody tr th {\n",
       "        vertical-align: top;\n",
       "    }\n",
       "\n",
       "    .dataframe thead th {\n",
       "        text-align: right;\n",
       "    }\n",
       "</style>\n",
       "<table border=\"1\" class=\"dataframe\">\n",
       "  <thead>\n",
       "    <tr style=\"text-align: right;\">\n",
       "      <th></th>\n",
       "      <th>x0</th>\n",
       "      <th>x1</th>\n",
       "      <th>x2</th>\n",
       "      <th>x3</th>\n",
       "      <th>x4</th>\n",
       "      <th>x5</th>\n",
       "      <th>x6</th>\n",
       "      <th>x7</th>\n",
       "      <th>x8</th>\n",
       "      <th>x9</th>\n",
       "      <th>x10</th>\n",
       "      <th>x11</th>\n",
       "      <th>x12</th>\n",
       "      <th>x13</th>\n",
       "      <th>x14</th>\n",
       "      <th>x15</th>\n",
       "      <th>x16</th>\n",
       "      <th>x17</th>\n",
       "      <th>x18</th>\n",
       "      <th>x19</th>\n",
       "      <th>x20</th>\n",
       "      <th>x21</th>\n",
       "      <th>x22</th>\n",
       "      <th>x23</th>\n",
       "      <th>x24</th>\n",
       "      <th>x25</th>\n",
       "      <th>x26</th>\n",
       "      <th>x27</th>\n",
       "    </tr>\n",
       "  </thead>\n",
       "  <tbody>\n",
       "    <tr>\n",
       "      <th>0</th>\n",
       "      <td>0.195</td>\n",
       "      <td>0.045</td>\n",
       "      <td>0.231</td>\n",
       "      <td>0.091</td>\n",
       "      <td>0.427</td>\n",
       "      <td>0.522</td>\n",
       "      <td>0.843</td>\n",
       "      <td>0.314</td>\n",
       "      <td>0.034</td>\n",
       "      <td>0.103</td>\n",
       "      <td>0.000</td>\n",
       "      <td>0.347</td>\n",
       "      <td>0.273</td>\n",
       "      <td>0.071</td>\n",
       "      <td>0.231</td>\n",
       "      <td>0.320</td>\n",
       "      <td>0.597</td>\n",
       "      <td>0.980</td>\n",
       "      <td>0.220</td>\n",
       "      <td>0.967</td>\n",
       "      <td>0.662</td>\n",
       "      <td>0.261</td>\n",
       "      <td>0.202</td>\n",
       "      <td>0.669</td>\n",
       "      <td>0.455</td>\n",
       "      <td>0.143</td>\n",
       "      <td>0.003</td>\n",
       "      <td>0.646</td>\n",
       "    </tr>\n",
       "    <tr>\n",
       "      <th>1</th>\n",
       "      <td>0.060</td>\n",
       "      <td>0.044</td>\n",
       "      <td>0.308</td>\n",
       "      <td>0.455</td>\n",
       "      <td>0.278</td>\n",
       "      <td>0.386</td>\n",
       "      <td>0.248</td>\n",
       "      <td>0.770</td>\n",
       "      <td>0.410</td>\n",
       "      <td>0.454</td>\n",
       "      <td>0.333</td>\n",
       "      <td>0.398</td>\n",
       "      <td>0.182</td>\n",
       "      <td>0.071</td>\n",
       "      <td>0.538</td>\n",
       "      <td>0.449</td>\n",
       "      <td>0.850</td>\n",
       "      <td>0.955</td>\n",
       "      <td>0.451</td>\n",
       "      <td>0.529</td>\n",
       "      <td>0.589</td>\n",
       "      <td>0.172</td>\n",
       "      <td>0.310</td>\n",
       "      <td>0.700</td>\n",
       "      <td>0.273</td>\n",
       "      <td>0.314</td>\n",
       "      <td>0.030</td>\n",
       "      <td>0.641</td>\n",
       "    </tr>\n",
       "    <tr>\n",
       "      <th>2</th>\n",
       "      <td>0.309</td>\n",
       "      <td>0.190</td>\n",
       "      <td>0.000</td>\n",
       "      <td>0.364</td>\n",
       "      <td>0.366</td>\n",
       "      <td>0.739</td>\n",
       "      <td>0.487</td>\n",
       "      <td>0.303</td>\n",
       "      <td>0.001</td>\n",
       "      <td>0.612</td>\n",
       "      <td>0.222</td>\n",
       "      <td>0.333</td>\n",
       "      <td>0.091</td>\n",
       "      <td>0.214</td>\n",
       "      <td>0.231</td>\n",
       "      <td>0.466</td>\n",
       "      <td>0.855</td>\n",
       "      <td>0.920</td>\n",
       "      <td>0.403</td>\n",
       "      <td>0.588</td>\n",
       "      <td>0.478</td>\n",
       "      <td>0.393</td>\n",
       "      <td>0.981</td>\n",
       "      <td>0.644</td>\n",
       "      <td>0.636</td>\n",
       "      <td>0.245</td>\n",
       "      <td>0.000</td>\n",
       "      <td>0.626</td>\n",
       "    </tr>\n",
       "    <tr>\n",
       "      <th>3</th>\n",
       "      <td>0.105</td>\n",
       "      <td>0.018</td>\n",
       "      <td>0.077</td>\n",
       "      <td>0.273</td>\n",
       "      <td>0.360</td>\n",
       "      <td>0.378</td>\n",
       "      <td>0.268</td>\n",
       "      <td>0.018</td>\n",
       "      <td>0.000</td>\n",
       "      <td>0.569</td>\n",
       "      <td>0.333</td>\n",
       "      <td>0.322</td>\n",
       "      <td>0.182</td>\n",
       "      <td>0.071</td>\n",
       "      <td>0.154</td>\n",
       "      <td>0.771</td>\n",
       "      <td>0.541</td>\n",
       "      <td>0.842</td>\n",
       "      <td>0.380</td>\n",
       "      <td>0.651</td>\n",
       "      <td>0.426</td>\n",
       "      <td>0.379</td>\n",
       "      <td>0.730</td>\n",
       "      <td>0.711</td>\n",
       "      <td>0.182</td>\n",
       "      <td>0.448</td>\n",
       "      <td>0.001</td>\n",
       "      <td>0.642</td>\n",
       "    </tr>\n",
       "    <tr>\n",
       "      <th>4</th>\n",
       "      <td>0.406</td>\n",
       "      <td>0.091</td>\n",
       "      <td>0.154</td>\n",
       "      <td>0.091</td>\n",
       "      <td>0.425</td>\n",
       "      <td>0.459</td>\n",
       "      <td>0.096</td>\n",
       "      <td>0.225</td>\n",
       "      <td>0.049</td>\n",
       "      <td>0.174</td>\n",
       "      <td>0.111</td>\n",
       "      <td>0.317</td>\n",
       "      <td>0.091</td>\n",
       "      <td>0.071</td>\n",
       "      <td>0.385</td>\n",
       "      <td>0.599</td>\n",
       "      <td>0.447</td>\n",
       "      <td>0.924</td>\n",
       "      <td>0.565</td>\n",
       "      <td>0.753</td>\n",
       "      <td>0.435</td>\n",
       "      <td>0.139</td>\n",
       "      <td>0.417</td>\n",
       "      <td>0.712</td>\n",
       "      <td>0.364</td>\n",
       "      <td>0.234</td>\n",
       "      <td>0.000</td>\n",
       "      <td>0.593</td>\n",
       "    </tr>\n",
       "    <tr>\n",
       "      <th>5</th>\n",
       "      <td>0.102</td>\n",
       "      <td>0.281</td>\n",
       "      <td>0.308</td>\n",
       "      <td>0.182</td>\n",
       "      <td>0.427</td>\n",
       "      <td>0.625</td>\n",
       "      <td>0.546</td>\n",
       "      <td>0.334</td>\n",
       "      <td>0.000</td>\n",
       "      <td>0.114</td>\n",
       "      <td>0.333</td>\n",
       "      <td>0.212</td>\n",
       "      <td>0.182</td>\n",
       "      <td>0.214</td>\n",
       "      <td>0.308</td>\n",
       "      <td>0.299</td>\n",
       "      <td>0.351</td>\n",
       "      <td>0.957</td>\n",
       "      <td>0.639</td>\n",
       "      <td>0.643</td>\n",
       "      <td>0.609</td>\n",
       "      <td>0.029</td>\n",
       "      <td>0.169</td>\n",
       "      <td>0.646</td>\n",
       "      <td>0.364</td>\n",
       "      <td>0.515</td>\n",
       "      <td>0.019</td>\n",
       "      <td>0.621</td>\n",
       "    </tr>\n",
       "    <tr>\n",
       "      <th>6</th>\n",
       "      <td>0.113</td>\n",
       "      <td>0.178</td>\n",
       "      <td>0.231</td>\n",
       "      <td>0.364</td>\n",
       "      <td>0.456</td>\n",
       "      <td>0.851</td>\n",
       "      <td>0.574</td>\n",
       "      <td>0.576</td>\n",
       "      <td>0.008</td>\n",
       "      <td>0.208</td>\n",
       "      <td>0.000</td>\n",
       "      <td>0.308</td>\n",
       "      <td>0.182</td>\n",
       "      <td>0.143</td>\n",
       "      <td>0.231</td>\n",
       "      <td>0.760</td>\n",
       "      <td>0.499</td>\n",
       "      <td>0.981</td>\n",
       "      <td>0.215</td>\n",
       "      <td>0.761</td>\n",
       "      <td>0.395</td>\n",
       "      <td>0.100</td>\n",
       "      <td>0.137</td>\n",
       "      <td>0.754</td>\n",
       "      <td>0.182</td>\n",
       "      <td>0.708</td>\n",
       "      <td>0.001</td>\n",
       "      <td>0.640</td>\n",
       "    </tr>\n",
       "    <tr>\n",
       "      <th>7</th>\n",
       "      <td>0.229</td>\n",
       "      <td>0.188</td>\n",
       "      <td>0.231</td>\n",
       "      <td>0.545</td>\n",
       "      <td>0.527</td>\n",
       "      <td>0.418</td>\n",
       "      <td>0.594</td>\n",
       "      <td>0.493</td>\n",
       "      <td>0.004</td>\n",
       "      <td>0.412</td>\n",
       "      <td>0.222</td>\n",
       "      <td>0.127</td>\n",
       "      <td>0.455</td>\n",
       "      <td>0.143</td>\n",
       "      <td>0.615</td>\n",
       "      <td>0.719</td>\n",
       "      <td>0.702</td>\n",
       "      <td>0.846</td>\n",
       "      <td>0.665</td>\n",
       "      <td>0.884</td>\n",
       "      <td>0.559</td>\n",
       "      <td>0.326</td>\n",
       "      <td>0.335</td>\n",
       "      <td>0.702</td>\n",
       "      <td>0.545</td>\n",
       "      <td>0.073</td>\n",
       "      <td>0.019</td>\n",
       "      <td>0.637</td>\n",
       "    </tr>\n",
       "    <tr>\n",
       "      <th>8</th>\n",
       "      <td>0.236</td>\n",
       "      <td>0.027</td>\n",
       "      <td>0.231</td>\n",
       "      <td>0.364</td>\n",
       "      <td>0.569</td>\n",
       "      <td>0.330</td>\n",
       "      <td>0.470</td>\n",
       "      <td>0.119</td>\n",
       "      <td>0.049</td>\n",
       "      <td>0.319</td>\n",
       "      <td>1.000</td>\n",
       "      <td>0.554</td>\n",
       "      <td>0.545</td>\n",
       "      <td>0.000</td>\n",
       "      <td>0.462</td>\n",
       "      <td>0.381</td>\n",
       "      <td>0.779</td>\n",
       "      <td>0.860</td>\n",
       "      <td>0.418</td>\n",
       "      <td>0.584</td>\n",
       "      <td>0.664</td>\n",
       "      <td>0.035</td>\n",
       "      <td>0.057</td>\n",
       "      <td>0.708</td>\n",
       "      <td>0.545</td>\n",
       "      <td>0.303</td>\n",
       "      <td>0.033</td>\n",
       "      <td>0.648</td>\n",
       "    </tr>\n",
       "    <tr>\n",
       "      <th>9</th>\n",
       "      <td>0.140</td>\n",
       "      <td>0.048</td>\n",
       "      <td>0.385</td>\n",
       "      <td>0.364</td>\n",
       "      <td>0.325</td>\n",
       "      <td>0.701</td>\n",
       "      <td>0.168</td>\n",
       "      <td>0.232</td>\n",
       "      <td>0.226</td>\n",
       "      <td>0.433</td>\n",
       "      <td>0.444</td>\n",
       "      <td>0.289</td>\n",
       "      <td>0.545</td>\n",
       "      <td>0.571</td>\n",
       "      <td>0.308</td>\n",
       "      <td>0.431</td>\n",
       "      <td>0.674</td>\n",
       "      <td>0.937</td>\n",
       "      <td>0.452</td>\n",
       "      <td>0.572</td>\n",
       "      <td>0.620</td>\n",
       "      <td>0.353</td>\n",
       "      <td>0.643</td>\n",
       "      <td>0.600</td>\n",
       "      <td>0.364</td>\n",
       "      <td>0.039</td>\n",
       "      <td>0.034</td>\n",
       "      <td>0.642</td>\n",
       "    </tr>\n",
       "  </tbody>\n",
       "</table>\n",
       "</div>"
      ],
      "text/plain": [
       "     x0    x1    x2    x3    x4    x5    x6    x7    x8    x9   x10   x11  \\\n",
       "0 0.195 0.045 0.231 0.091 0.427 0.522 0.843 0.314 0.034 0.103 0.000 0.347   \n",
       "1 0.060 0.044 0.308 0.455 0.278 0.386 0.248 0.770 0.410 0.454 0.333 0.398   \n",
       "2 0.309 0.190 0.000 0.364 0.366 0.739 0.487 0.303 0.001 0.612 0.222 0.333   \n",
       "3 0.105 0.018 0.077 0.273 0.360 0.378 0.268 0.018 0.000 0.569 0.333 0.322   \n",
       "4 0.406 0.091 0.154 0.091 0.425 0.459 0.096 0.225 0.049 0.174 0.111 0.317   \n",
       "5 0.102 0.281 0.308 0.182 0.427 0.625 0.546 0.334 0.000 0.114 0.333 0.212   \n",
       "6 0.113 0.178 0.231 0.364 0.456 0.851 0.574 0.576 0.008 0.208 0.000 0.308   \n",
       "7 0.229 0.188 0.231 0.545 0.527 0.418 0.594 0.493 0.004 0.412 0.222 0.127   \n",
       "8 0.236 0.027 0.231 0.364 0.569 0.330 0.470 0.119 0.049 0.319 1.000 0.554   \n",
       "9 0.140 0.048 0.385 0.364 0.325 0.701 0.168 0.232 0.226 0.433 0.444 0.289   \n",
       "\n",
       "    x12   x13   x14   x15   x16   x17   x18   x19   x20   x21   x22   x23  \\\n",
       "0 0.273 0.071 0.231 0.320 0.597 0.980 0.220 0.967 0.662 0.261 0.202 0.669   \n",
       "1 0.182 0.071 0.538 0.449 0.850 0.955 0.451 0.529 0.589 0.172 0.310 0.700   \n",
       "2 0.091 0.214 0.231 0.466 0.855 0.920 0.403 0.588 0.478 0.393 0.981 0.644   \n",
       "3 0.182 0.071 0.154 0.771 0.541 0.842 0.380 0.651 0.426 0.379 0.730 0.711   \n",
       "4 0.091 0.071 0.385 0.599 0.447 0.924 0.565 0.753 0.435 0.139 0.417 0.712   \n",
       "5 0.182 0.214 0.308 0.299 0.351 0.957 0.639 0.643 0.609 0.029 0.169 0.646   \n",
       "6 0.182 0.143 0.231 0.760 0.499 0.981 0.215 0.761 0.395 0.100 0.137 0.754   \n",
       "7 0.455 0.143 0.615 0.719 0.702 0.846 0.665 0.884 0.559 0.326 0.335 0.702   \n",
       "8 0.545 0.000 0.462 0.381 0.779 0.860 0.418 0.584 0.664 0.035 0.057 0.708   \n",
       "9 0.545 0.571 0.308 0.431 0.674 0.937 0.452 0.572 0.620 0.353 0.643 0.600   \n",
       "\n",
       "    x24   x25   x26   x27  \n",
       "0 0.455 0.143 0.003 0.646  \n",
       "1 0.273 0.314 0.030 0.641  \n",
       "2 0.636 0.245 0.000 0.626  \n",
       "3 0.182 0.448 0.001 0.642  \n",
       "4 0.364 0.234 0.000 0.593  \n",
       "5 0.364 0.515 0.019 0.621  \n",
       "6 0.182 0.708 0.001 0.640  \n",
       "7 0.545 0.073 0.019 0.637  \n",
       "8 0.545 0.303 0.033 0.648  \n",
       "9 0.364 0.039 0.034 0.642  "
      ]
     },
     "execution_count": 12,
     "metadata": {},
     "output_type": "execute_result"
    }
   ],
   "source": [
    "X_data_list[0][1].head(10)"
   ]
  },
  {
   "cell_type": "code",
   "execution_count": 13,
   "metadata": {
    "execution": {
     "iopub.execute_input": "2022-03-30T07:34:40.374490Z",
     "iopub.status.busy": "2022-03-30T07:34:40.374239Z",
     "iopub.status.idle": "2022-03-30T07:34:40.480096Z",
     "shell.execute_reply": "2022-03-30T07:34:40.479761Z",
     "shell.execute_reply.started": "2022-03-30T07:34:40.374453Z"
    }
   },
   "outputs": [
    {
     "data": {
      "text/plain": [
       "feat0     0\n",
       "feat1     0\n",
       "feat2     0\n",
       "feat3     0\n",
       "feat4     0\n",
       "feat5     0\n",
       "feat6     0\n",
       "split0    0\n",
       "split1    0\n",
       "split2    0\n",
       "dtype: int64"
      ]
     },
     "execution_count": 13,
     "metadata": {},
     "output_type": "execute_result"
    }
   ],
   "source": [
    "y_data_list[0][0].head(10)"
   ]
  },
  {
   "cell_type": "code",
   "execution_count": 14,
   "metadata": {
    "ExecuteTime": {
     "end_time": "2021-01-17T09:46:12.636995Z",
     "start_time": "2021-01-17T09:46:12.629349Z"
    },
    "execution": {
     "iopub.execute_input": "2022-03-30T07:34:40.480766Z",
     "iopub.status.busy": "2022-03-30T07:34:40.480583Z",
     "iopub.status.idle": "2022-03-30T07:34:40.544399Z",
     "shell.execute_reply": "2022-03-30T07:34:40.543442Z",
     "shell.execute_reply.started": "2022-03-30T07:34:40.480751Z"
    }
   },
   "outputs": [
    {
     "data": {
      "text/html": [
       "<div>\n",
       "<style scoped>\n",
       "    .dataframe tbody tr th:only-of-type {\n",
       "        vertical-align: middle;\n",
       "    }\n",
       "\n",
       "    .dataframe tbody tr th {\n",
       "        vertical-align: top;\n",
       "    }\n",
       "\n",
       "    .dataframe thead th {\n",
       "        text-align: right;\n",
       "    }\n",
       "</style>\n",
       "<table border=\"1\" class=\"dataframe\">\n",
       "  <thead>\n",
       "    <tr style=\"text-align: right;\">\n",
       "      <th></th>\n",
       "      <th>result</th>\n",
       "    </tr>\n",
       "  </thead>\n",
       "  <tbody>\n",
       "    <tr>\n",
       "      <th>0</th>\n",
       "      <td>0</td>\n",
       "    </tr>\n",
       "    <tr>\n",
       "      <th>1</th>\n",
       "      <td>0</td>\n",
       "    </tr>\n",
       "    <tr>\n",
       "      <th>2</th>\n",
       "      <td>0</td>\n",
       "    </tr>\n",
       "    <tr>\n",
       "      <th>3</th>\n",
       "      <td>0</td>\n",
       "    </tr>\n",
       "    <tr>\n",
       "      <th>4</th>\n",
       "      <td>0</td>\n",
       "    </tr>\n",
       "    <tr>\n",
       "      <th>5</th>\n",
       "      <td>0</td>\n",
       "    </tr>\n",
       "    <tr>\n",
       "      <th>6</th>\n",
       "      <td>0</td>\n",
       "    </tr>\n",
       "    <tr>\n",
       "      <th>7</th>\n",
       "      <td>0</td>\n",
       "    </tr>\n",
       "    <tr>\n",
       "      <th>8</th>\n",
       "      <td>0</td>\n",
       "    </tr>\n",
       "    <tr>\n",
       "      <th>9</th>\n",
       "      <td>0</td>\n",
       "    </tr>\n",
       "  </tbody>\n",
       "</table>\n",
       "</div>"
      ],
      "text/plain": [
       "   result\n",
       "0       0\n",
       "1       0\n",
       "2       0\n",
       "3       0\n",
       "4       0\n",
       "5       0\n",
       "6       0\n",
       "7       0\n",
       "8       0\n",
       "9       0"
      ]
     },
     "execution_count": 14,
     "metadata": {},
     "output_type": "execute_result"
    }
   ],
   "source": [
    "y_data_list[0][1].head(10)"
   ]
  },
  {
   "cell_type": "code",
   "execution_count": 15,
   "metadata": {
    "execution": {
     "iopub.execute_input": "2022-03-30T07:34:40.546151Z",
     "iopub.status.busy": "2022-03-30T07:34:40.545864Z",
     "iopub.status.idle": "2022-03-30T07:34:44.053029Z",
     "shell.execute_reply": "2022-03-30T07:34:44.051141Z",
     "shell.execute_reply.started": "2022-03-30T07:34:40.546117Z"
    }
   },
   "outputs": [
    {
     "data": {
      "image/png": "[encoded data removed]",
      "text/plain": [
       "<IPython.core.display.Image object>"
      ]
     },
     "execution_count": 15,
     "metadata": {},
     "output_type": "execute_result"
    }
   ],
   "source": [
    "plot = None\n",
    "if plot_tree_from_parameters != 'make_classification':\n",
    "    plot = plot_tree_from_parameters(y_data_list[0][0].values, config)\n",
    "plot"
   ]
  },
  {
   "cell_type": "code",
   "execution_count": 16,
   "metadata": {
    "execution": {
     "iopub.execute_input": "2022-03-30T07:34:44.054480Z",
     "iopub.status.busy": "2022-03-30T07:34:44.054183Z",
     "iopub.status.idle": "2022-03-30T07:34:44.065192Z",
     "shell.execute_reply": "2022-03-30T07:34:44.064560Z",
     "shell.execute_reply.started": "2022-03-30T07:34:44.054455Z"
    }
   },
   "outputs": [],
   "source": [
    "def inject_noise(y_data, noise=0.0, noise_dist='normal', seed=42):\n",
    "    \"\"\"\n",
    "    Returns a polynomial injected with specified noise type and amount. \n",
    "    Inputs a clean polynomial array with x-data and y-data and modifies the y-data according to the noise settings.\n",
    "    \"\"\"\n",
    "    np.random.seed(seed)\n",
    "    \n",
    "    #Calculate range of function values of input polynomial\n",
    "    range_values_fv = np.ptp(y_data[1].values)\n",
    "    \n",
    "    #Selection of noise type\n",
    "    #Available types: normal, uniform, A, B, C\n",
    "    if noise_dist=='normal':\n",
    "        noise_sample=noise*np.random.normal(loc=0, scale=1.0,size=y_data[1].shape[0])\n",
    "    elif noise_dist=='uniform':\n",
    "        noise_sample=noise*np.random.uniform(low=0, high=1.0,size=y_data[1].shape[0])\n",
    "    elif noise_dist=='normal_range':\n",
    "        #Normal distribution adjusted to function value range\n",
    "        noise_sample=(noise*range_values_fv)*np.random.normal(loc=0, scale=1.0,size=y_data[1].shape[0])\n",
    "    elif noise_dist=='uniform_range':\n",
    "        noise_sample=(noise*range_values_fv)*np.random.normal(loc=0, scale=1.0,size=y_data[1].shape[0])\n",
    "    elif noise_dist=='flip_percentage':\n",
    "        idx = np.random.choice(y_data[1].shape[0], int(y_data[1].shape[0]*noise), replace=False)\n",
    "        y_data[1].iloc[idx] = (y_data[1].iloc[idx] + 1) % 2 \n",
    "        return y_data\n",
    "    else:\n",
    "        #no noise\n",
    "        noise_sample = np.zeros(y_data[1].shape[0])\n",
    "                               \n",
    "    noise_sample=noise_sample.reshape(-1,1)\n",
    "    \n",
    "    y_data[1]=y_data[1]+noise_sample\n",
    "    \n",
    "    return np.clip(y_data, 0, 1)"
   ]
  },
  {
   "cell_type": "code",
   "execution_count": 17,
   "metadata": {
    "execution": {
     "iopub.execute_input": "2022-03-30T07:34:44.066559Z",
     "iopub.status.busy": "2022-03-30T07:34:44.066145Z",
     "iopub.status.idle": "2022-03-30T07:34:44.134024Z",
     "shell.execute_reply": "2022-03-30T07:34:44.133466Z",
     "shell.execute_reply.started": "2022-03-30T07:34:44.066529Z"
    }
   },
   "outputs": [],
   "source": [
    "if noise_injected_level > 0:\n",
    "    parallel = Parallel(n_jobs=n_jobs, verbose=3, backend='loky')\n",
    "    y_data_list = parallel(delayed(inject_noise)(y_data=y_data_list[i],\n",
    "                                                 noise=noise_injected_level,\n",
    "                                                 noise_dist=noise_injected_type, \n",
    "                                                 seed=RANDOM_SEED+i) for i in range(len(y_data_list)))\n"
   ]
  },
  {
   "cell_type": "code",
   "execution_count": 18,
   "metadata": {
    "execution": {
     "iopub.execute_input": "2022-03-30T07:34:44.134892Z",
     "iopub.status.busy": "2022-03-30T07:34:44.134757Z",
     "iopub.status.idle": "2022-03-30T07:34:44.176650Z",
     "shell.execute_reply": "2022-03-30T07:34:44.176062Z",
     "shell.execute_reply.started": "2022-03-30T07:34:44.134876Z"
    }
   },
   "outputs": [
    {
     "data": {
      "text/plain": [
       "feat0     0\n",
       "feat1     0\n",
       "feat2     0\n",
       "feat3     0\n",
       "feat4     0\n",
       "feat5     0\n",
       "feat6     0\n",
       "split0    0\n",
       "split1    0\n",
       "split2    0\n",
       "dtype: int64"
      ]
     },
     "execution_count": 18,
     "metadata": {},
     "output_type": "execute_result"
    }
   ],
   "source": [
    "y_data_list[0][0].head(10)"
   ]
  },
  {
   "cell_type": "code",
   "execution_count": 19,
   "metadata": {
    "execution": {
     "iopub.execute_input": "2022-03-30T07:34:44.177590Z",
     "iopub.status.busy": "2022-03-30T07:34:44.177456Z",
     "iopub.status.idle": "2022-03-30T07:34:44.210567Z",
     "shell.execute_reply": "2022-03-30T07:34:44.209529Z",
     "shell.execute_reply.started": "2022-03-30T07:34:44.177575Z"
    }
   },
   "outputs": [
    {
     "data": {
      "text/plain": [
       "feat0     0\n",
       "feat1     0\n",
       "feat2     0\n",
       "feat3     0\n",
       "feat4     0\n",
       "feat5     0\n",
       "feat6     0\n",
       "split0    0\n",
       "split1    0\n",
       "split2    0\n",
       "split3    0\n",
       "split4    0\n",
       "split5    0\n",
       "split6    0\n",
       "lp0       0\n",
       "lp1       0\n",
       "lp2       0\n",
       "lp3       0\n",
       "lp4       0\n",
       "lp5       0\n",
       "lp6       0\n",
       "lp7       0\n",
       "dtype: int64"
      ]
     },
     "execution_count": 19,
     "metadata": {},
     "output_type": "execute_result"
    }
   ],
   "source": [
    "y_data_list[0][0]"
   ]
  },
  {
   "cell_type": "code",
   "execution_count": 20,
   "metadata": {
    "execution": {
     "iopub.execute_input": "2022-03-30T07:34:44.211699Z",
     "iopub.status.busy": "2022-03-30T07:34:44.211507Z",
     "iopub.status.idle": "2022-03-30T07:34:44.246507Z",
     "shell.execute_reply": "2022-03-30T07:34:44.245749Z",
     "shell.execute_reply.started": "2022-03-30T07:34:44.211677Z"
    }
   },
   "outputs": [
    {
     "data": {
      "text/html": [
       "<div>\n",
       "<style scoped>\n",
       "    .dataframe tbody tr th:only-of-type {\n",
       "        vertical-align: middle;\n",
       "    }\n",
       "\n",
       "    .dataframe tbody tr th {\n",
       "        vertical-align: top;\n",
       "    }\n",
       "\n",
       "    .dataframe thead th {\n",
       "        text-align: right;\n",
       "    }\n",
       "</style>\n",
       "<table border=\"1\" class=\"dataframe\">\n",
       "  <thead>\n",
       "    <tr style=\"text-align: right;\">\n",
       "      <th></th>\n",
       "      <th>result</th>\n",
       "    </tr>\n",
       "  </thead>\n",
       "  <tbody>\n",
       "    <tr>\n",
       "      <th>0</th>\n",
       "      <td>0</td>\n",
       "    </tr>\n",
       "    <tr>\n",
       "      <th>1</th>\n",
       "      <td>0</td>\n",
       "    </tr>\n",
       "    <tr>\n",
       "      <th>2</th>\n",
       "      <td>0</td>\n",
       "    </tr>\n",
       "    <tr>\n",
       "      <th>3</th>\n",
       "      <td>0</td>\n",
       "    </tr>\n",
       "    <tr>\n",
       "      <th>4</th>\n",
       "      <td>0</td>\n",
       "    </tr>\n",
       "    <tr>\n",
       "      <th>5</th>\n",
       "      <td>0</td>\n",
       "    </tr>\n",
       "    <tr>\n",
       "      <th>6</th>\n",
       "      <td>0</td>\n",
       "    </tr>\n",
       "    <tr>\n",
       "      <th>7</th>\n",
       "      <td>0</td>\n",
       "    </tr>\n",
       "    <tr>\n",
       "      <th>8</th>\n",
       "      <td>0</td>\n",
       "    </tr>\n",
       "    <tr>\n",
       "      <th>9</th>\n",
       "      <td>0</td>\n",
       "    </tr>\n",
       "  </tbody>\n",
       "</table>\n",
       "</div>"
      ],
      "text/plain": [
       "   result\n",
       "0       0\n",
       "1       0\n",
       "2       0\n",
       "3       0\n",
       "4       0\n",
       "5       0\n",
       "6       0\n",
       "7       0\n",
       "8       0\n",
       "9       0"
      ]
     },
     "execution_count": 20,
     "metadata": {},
     "output_type": "execute_result"
    }
   ],
   "source": [
    "y_data_list[0][1].head(10)"
   ]
  },
  {
   "cell_type": "markdown",
   "metadata": {
    "ExecuteTime": {
     "end_time": "2020-09-16T17:06:36.919643Z",
     "start_time": "2020-09-16T17:06:36.912904Z"
    }
   },
   "source": [
    "## Lambda Network Training + Weigh/Bias saving"
   ]
  },
  {
   "cell_type": "code",
   "execution_count": 21,
   "metadata": {
    "execution": {
     "iopub.execute_input": "2022-03-30T07:34:44.247764Z",
     "iopub.status.busy": "2022-03-30T07:34:44.247576Z",
     "iopub.status.idle": "2022-03-30T07:34:44.283373Z",
     "shell.execute_reply": "2022-03-30T07:34:44.282851Z",
     "shell.execute_reply.started": "2022-03-30T07:34:44.247742Z"
    }
   },
   "outputs": [],
   "source": [
    "#%load_ext autoreload"
   ]
  },
  {
   "cell_type": "code",
   "execution_count": 22,
   "metadata": {
    "execution": {
     "iopub.execute_input": "2022-03-30T07:34:44.284404Z",
     "iopub.status.busy": "2022-03-30T07:34:44.284224Z",
     "iopub.status.idle": "2022-03-30T07:34:44.317400Z",
     "shell.execute_reply": "2022-03-30T07:34:44.316773Z",
     "shell.execute_reply.started": "2022-03-30T07:34:44.284383Z"
    },
    "tags": []
   },
   "outputs": [],
   "source": [
    "rand_index = np.random.randint(number_of_trained_lambda_nets)\n",
    "\n",
    "#rand_tree = generate_decision_tree_from_array(y_data_list[rand_index][0].values, config)\n",
    "#rand_tree.plot_tree()"
   ]
  },
  {
   "cell_type": "code",
   "execution_count": 23,
   "metadata": {
    "execution": {
     "iopub.execute_input": "2022-03-30T07:34:44.318693Z",
     "iopub.status.busy": "2022-03-30T07:34:44.318275Z",
     "iopub.status.idle": "2022-03-30T07:35:49.322675Z",
     "shell.execute_reply": "2022-03-30T07:35:49.321950Z",
     "shell.execute_reply.started": "2022-03-30T07:34:44.318666Z"
    },
    "tags": []
   },
   "outputs": [
    {
     "data": {
      "image/png": "[encoded data removed]",
      "text/plain": [
       "<Figure size 864x576 with 2 Axes>"
      ]
     },
     "metadata": {},
     "output_type": "display_data"
    },
    {
     "name": "stdout",
     "output_type": "stream",
     "text": [
      "binary_accuracy\n",
      "\ttraining         \t (min:    0.857, max:    0.982, cur:    0.981)\n",
      "\tvalidation       \t (min:    0.920, max:    0.960, cur:    0.957)\n",
      "Loss\n",
      "\ttraining         \t (min:    0.044, max:    0.534, cur:    0.044)\n",
      "\tvalidation       \t (min:    0.107, max:    0.392, cur:    0.117)\n"
     ]
    }
   ],
   "source": [
    "#%autoreload 2\n",
    "random_network = train_lambda_net(config=config,\n",
    "                                  lambda_index=rand_index, \n",
    "                                  X_data_with_function=X_data_list[rand_index], \n",
    "                                  y_data_with_function=y_data_list[rand_index], \n",
    "                                  distribution_parameter_list = distribution_parameter_list_list[rand_index][1],\n",
    "                                  callbacks=[PlotLossesKerasTF()], \n",
    "                                  return_model=True,\n",
    "                                  printing=False)"
   ]
  },
  {
   "cell_type": "code",
   "execution_count": 24,
   "metadata": {
    "execution": {
     "iopub.execute_input": "2022-03-30T07:35:49.323965Z",
     "iopub.status.busy": "2022-03-30T07:35:49.323782Z",
     "iopub.status.idle": "2022-03-30T07:36:03.268959Z",
     "shell.execute_reply": "2022-03-30T07:36:03.268100Z",
     "shell.execute_reply.started": "2022-03-30T07:35:49.323935Z"
    },
    "tags": []
   },
   "outputs": [
    {
     "data": {
      "image/png": "[encoded data removed]",
      "text/plain": [
       "<Figure size 1440x1080 with 56 Axes>"
      ]
     },
     "metadata": {},
     "output_type": "display_data"
    }
   ],
   "source": [
    "colors_list = ['green','blue','yellow','cyan','magenta','pink']\n",
    "\n",
    "if config['data']['number_of_variables'] > 4:\n",
    "    fig,ax = plt.subplots(nrows=np.ceil(config['data']['number_of_variables']*2/4).astype(int), ncols=4,figsize=(20,15))\n",
    "else:\n",
    "    fig,ax = plt.subplots(nrows=np.ceil(config['data']['number_of_variables']*2/2).astype(int), ncols=2,figsize=(20,15))\n",
    "\n",
    "for axis_1 in ax:\n",
    "    for axis_2 in axis_1:\n",
    "        axis_2.set_xlim([0, 1])                          \n",
    "\n",
    "plot_index = 0\n",
    "\n",
    "for i in range(X_data_list[rand_index][1].values.shape[1]):\n",
    "    colors = colors_list[i%6]\n",
    "\n",
    "    x = X_data_list[rand_index][1].values[:,i][np.where(random_network['model'].predict(X_data_list[rand_index][1].values).ravel()<=0.5)]\n",
    "    plt.subplot(np.ceil(config['data']['number_of_variables']*2/4).astype(int), 4,plot_index+1)\n",
    "    plt.hist(x,bins=[i/10 for i in range(11)],color=colors)\n",
    "    #plt.title(list(distribution_parameter.keys())[0] + ' Class 0' )\n",
    "    plot_index += 1\n",
    "\n",
    "    x = X_data_list[rand_index][1].values[:,i][np.where(random_network['model'].predict(X_data_list[rand_index][1].values).ravel()>0.5)]\n",
    "    plt.subplot(np.ceil(config['data']['number_of_variables']*2/4).astype(int),4,plot_index+1)\n",
    "    plt.hist(x,bins=[i/10 for i in range(11)],color=colors)\n",
    "    #plt.title(list(distribution_parameter.keys())[0] + ' Class 1' )\n",
    "    plot_index += 1\n",
    "\n",
    "fig.subplots_adjust(hspace=0.4,wspace=.3) \n",
    "plt.suptitle('Sampling from Various Distributions',fontsize=20)\n",
    "plt.show()"
   ]
  },
  {
   "cell_type": "code",
   "execution_count": 25,
   "metadata": {
    "execution": {
     "iopub.execute_input": "2022-03-30T07:36:03.270465Z",
     "iopub.status.busy": "2022-03-30T07:36:03.270100Z",
     "iopub.status.idle": "2022-03-30T07:36:03.282626Z",
     "shell.execute_reply": "2022-03-30T07:36:03.281396Z",
     "shell.execute_reply.started": "2022-03-30T07:36:03.270430Z"
    },
    "tags": []
   },
   "outputs": [
    {
     "data": {
      "text/plain": [
       "[{'gamma': {'class_0': {'shape': 1.635695279055699,\n",
       "    'scale': 4.295687454742988},\n",
       "   'class_1': {'shape': 2.5166384250939537, 'scale': 2.485529803488855},\n",
       "   'samples_class_0': 861,\n",
       "   'feature_weight_0': 1,\n",
       "   'seed_shuffeling': 42}},\n",
       " {'gamma': {'class_0': {'shape': 1.1371338286806103,\n",
       "    'scale': 3.3204098201721424},\n",
       "   'class_1': {'shape': 0.47822827425729963, 'scale': 3.7707605816327208},\n",
       "   'samples_class_0': 701,\n",
       "   'feature_weight_0': 1,\n",
       "   'seed_shuffeling': 42}},\n",
       " {'poisson': {'class_0': {'lam': 3.9212700816001202},\n",
       "   'class_1': {'lam': 2.2571413281707864},\n",
       "   'samples_class_0': 4176,\n",
       "   'feature_weight_0': 1,\n",
       "   'seed_shuffeling': 42}},\n",
       " {'poisson': {'class_0': {'lam': 3.4545347273595532},\n",
       "   'class_1': {'lam': 0.6032595635665994},\n",
       "   'samples_class_0': 2732,\n",
       "   'feature_weight_0': 1,\n",
       "   'seed_shuffeling': 42}},\n",
       " {'normal': {'class_0': {'loc': 0.9099444395432882,\n",
       "    'scale': 1.0454469444769154},\n",
       "   'class_1': {'loc': 2.18960086877624, 'scale': 0.8144661184145346},\n",
       "   'samples_class_0': 1109,\n",
       "   'feature_weight_0': 1,\n",
       "   'seed_shuffeling': 42}},\n",
       " {'normal': {'class_0': {'loc': 2.066235877195288, 'scale': 3.538851352637156},\n",
       "   'class_1': {'loc': 2.881802175641689, 'scale': 2.698557232067016},\n",
       "   'samples_class_0': 1738,\n",
       "   'feature_weight_0': 1,\n",
       "   'seed_shuffeling': 42}},\n",
       " {'beta': {'class_0': {'a': 4.650740566175658, 'b': 3.7588687518283903},\n",
       "   'class_1': {'a': 4.502001497616161, 'b': 1.3112371171064818},\n",
       "   'samples_class_0': 3855,\n",
       "   'feature_weight_0': 1,\n",
       "   'seed_shuffeling': 42}},\n",
       " {'uniform': {'class_0': {'low': 1.569429176159058,\n",
       "    'high': 3.8468577610356385},\n",
       "   'class_1': {'low': 1.6820353968298696, 'high': 2.5815489825373583},\n",
       "   'samples_class_0': 3972,\n",
       "   'feature_weight_0': 1,\n",
       "   'seed_shuffeling': 42}},\n",
       " {'beta': {'class_0': {'a': 0.17838662676065542, 'b': 1.7703568395918872},\n",
       "   'class_1': {'a': 2.8479800545137572, 'b': 1.1431248705330859},\n",
       "   'samples_class_0': 3150,\n",
       "   'feature_weight_0': 1,\n",
       "   'seed_shuffeling': 42}},\n",
       " {'uniform': {'class_0': {'low': 0.77967428409976, 'high': 3.4492996375759803},\n",
       "   'class_1': {'low': 1.7749583820047499, 'high': 4.850736969702476},\n",
       "   'samples_class_0': 4642,\n",
       "   'feature_weight_0': 1,\n",
       "   'seed_shuffeling': 42}},\n",
       " {'poisson': {'class_0': {'lam': 3.026355846937064},\n",
       "   'class_1': {'lam': 2.0849363014612465},\n",
       "   'samples_class_0': 2764,\n",
       "   'feature_weight_0': 1,\n",
       "   'seed_shuffeling': 42}},\n",
       " {'gamma': {'class_0': {'shape': 3.963891272937861,\n",
       "    'scale': 4.188034650714501},\n",
       "   'class_1': {'shape': 0.8628154965447965, 'scale': 3.3759405658859287},\n",
       "   'samples_class_0': 4388,\n",
       "   'feature_weight_0': 1,\n",
       "   'seed_shuffeling': 42}},\n",
       " {'poisson': {'class_0': {'lam': 2.9736596011486616},\n",
       "   'class_1': {'lam': 3.6020780296299417},\n",
       "   'samples_class_0': 2085,\n",
       "   'feature_weight_0': 1,\n",
       "   'seed_shuffeling': 42}},\n",
       " {'poisson': {'class_0': {'lam': 1.9370925736120226},\n",
       "   'class_1': {'lam': 4.16697663096837},\n",
       "   'samples_class_0': 3814,\n",
       "   'feature_weight_0': 1,\n",
       "   'seed_shuffeling': 42}},\n",
       " {'poisson': {'class_0': {'lam': 4.4951477248759755},\n",
       "   'class_1': {'lam': 1.6393344487284445},\n",
       "   'samples_class_0': 2314,\n",
       "   'feature_weight_0': 1,\n",
       "   'seed_shuffeling': 42}},\n",
       " {'beta': {'class_0': {'a': 4.928531382229241, 'b': 4.251948684167139},\n",
       "   'class_1': {'a': 0.24208621650374906, 'b': 2.8398000732036004},\n",
       "   'samples_class_0': 2695,\n",
       "   'feature_weight_0': 1,\n",
       "   'seed_shuffeling': 42}},\n",
       " {'beta': {'class_0': {'a': 1.6231247385700676, 'b': 1.9297748516620616},\n",
       "   'class_1': {'a': 2.0788322887722193, 'b': 4.980592782954111},\n",
       "   'samples_class_0': 2826,\n",
       "   'feature_weight_0': 1,\n",
       "   'seed_shuffeling': 42}},\n",
       " {'uniform': {'class_0': {'low': 3.718542269071447,\n",
       "    'high': 4.3826807515903115},\n",
       "   'class_1': {'low': 0.790454938053749, 'high': 3.0744263496320334},\n",
       "   'samples_class_0': 312,\n",
       "   'feature_weight_0': 1,\n",
       "   'seed_shuffeling': 42}},\n",
       " {'normal': {'class_0': {'loc': 0.6442584806601537,\n",
       "    'scale': 1.2212365735752901},\n",
       "   'class_1': {'loc': 4.645374428453792, 'scale': 0.34771521976777187},\n",
       "   'samples_class_0': 4809,\n",
       "   'feature_weight_0': 1,\n",
       "   'seed_shuffeling': 42}},\n",
       " {'beta': {'class_0': {'a': 4.281792200699735, 'b': 2.1515394290631478},\n",
       "   'class_1': {'a': 0.9975202116703041, 'b': 3.4844625028167715},\n",
       "   'samples_class_0': 3558,\n",
       "   'feature_weight_0': 1,\n",
       "   'seed_shuffeling': 42}},\n",
       " {'normal': {'class_0': {'loc': 0.2124158431364126,\n",
       "    'scale': 1.9112421651346534},\n",
       "   'class_1': {'loc': 0.8377989211941372, 'scale': 0.43723038642231316},\n",
       "   'samples_class_0': 1729,\n",
       "   'feature_weight_0': 1,\n",
       "   'seed_shuffeling': 42}},\n",
       " {'beta': {'class_0': {'a': 0.9923259988277983, 'b': 4.659874775936797},\n",
       "   'class_1': {'a': 1.3816572884986544, 'b': 3.4603616658921057},\n",
       "   'samples_class_0': 2057,\n",
       "   'feature_weight_0': 1,\n",
       "   'seed_shuffeling': 42}},\n",
       " {'beta': {'class_0': {'a': 0.8177603707058506, 'b': 0.43899233369863455},\n",
       "   'class_1': {'a': 0.8774609323167348, 'b': 2.9766551339410094},\n",
       "   'samples_class_0': 185,\n",
       "   'feature_weight_0': 1,\n",
       "   'seed_shuffeling': 42}},\n",
       " {'uniform': {'class_0': {'low': 2.1364083418959448,\n",
       "    'high': 2.7967995974593136},\n",
       "   'class_1': {'low': 0.48140661693305165, 'high': 3.374552279630647},\n",
       "   'samples_class_0': 4272,\n",
       "   'feature_weight_0': 1,\n",
       "   'seed_shuffeling': 42}},\n",
       " {'poisson': {'class_0': {'lam': 3.7795827914733637},\n",
       "   'class_1': {'lam': 3.0523649754761},\n",
       "   'samples_class_0': 2278,\n",
       "   'feature_weight_0': 1,\n",
       "   'seed_shuffeling': 42}},\n",
       " {'beta': {'class_0': {'a': 1.3776698314938918, 'b': 2.424066096795538},\n",
       "   'class_1': {'a': 1.725201105978413, 'b': 1.9389302277463227},\n",
       "   'samples_class_0': 2768,\n",
       "   'feature_weight_0': 1,\n",
       "   'seed_shuffeling': 42}},\n",
       " {'gamma': {'class_0': {'shape': 0.2670285683511564,\n",
       "    'scale': 0.4135132490609311},\n",
       "   'class_1': {'shape': 1.5370572638885482, 'scale': 0.8420865745526951},\n",
       "   'samples_class_0': 4116,\n",
       "   'feature_weight_0': 1,\n",
       "   'seed_shuffeling': 42}},\n",
       " {'normal': {'class_0': {'loc': 3.637217203799433,\n",
       "    'scale': 0.25490599826742677},\n",
       "   'class_1': {'loc': 0.6771971828670309, 'scale': 2.5033313054262054},\n",
       "   'samples_class_0': 3577,\n",
       "   'feature_weight_0': 1,\n",
       "   'seed_shuffeling': 42}}]"
      ]
     },
     "execution_count": 25,
     "metadata": {},
     "output_type": "execute_result"
    }
   ],
   "source": [
    "distribution_parameter_list_list[0][1]"
   ]
  },
  {
   "cell_type": "code",
   "execution_count": 26,
   "metadata": {
    "execution": {
     "iopub.execute_input": "2022-03-30T07:36:03.283515Z",
     "iopub.status.busy": "2022-03-30T07:36:03.283356Z",
     "iopub.status.idle": "2022-03-30T07:36:03.336098Z",
     "shell.execute_reply": "2022-03-30T07:36:03.335412Z",
     "shell.execute_reply.started": "2022-03-30T07:36:03.283498Z"
    },
    "tags": []
   },
   "outputs": [],
   "source": [
    "#%load_ext autoreload\n",
    "#%autoreload 2"
   ]
  },
  {
   "cell_type": "code",
   "execution_count": null,
   "metadata": {
    "execution": {
     "iopub.execute_input": "2022-03-30T07:36:03.337210Z",
     "iopub.status.busy": "2022-03-30T07:36:03.337015Z"
    },
    "tags": []
   },
   "outputs": [
    {
     "name": "stderr",
     "output_type": "stream",
     "text": [
      "[Parallel(n_jobs=30)]: Using backend LokyBackend with 30 concurrent workers.\n",
      "[Parallel(n_jobs=30)]: Done  68 tasks      | elapsed:  2.1min\n",
      "[Parallel(n_jobs=30)]: Done 228 tasks      | elapsed:  4.8min\n",
      "[Parallel(n_jobs=30)]: Done 452 tasks      | elapsed:  8.7min\n",
      "[Parallel(n_jobs=30)]: Done 740 tasks      | elapsed: 13.7min\n",
      "[Parallel(n_jobs=30)]: Done 1092 tasks      | elapsed: 20.2min\n",
      "[Parallel(n_jobs=30)]: Done 1508 tasks      | elapsed: 27.2min\n",
      "[Parallel(n_jobs=30)]: Done 1988 tasks      | elapsed: 35.4min\n",
      "[Parallel(n_jobs=30)]: Done 2532 tasks      | elapsed: 44.5min\n",
      "[Parallel(n_jobs=30)]: Done 3140 tasks      | elapsed: 55.3min\n",
      "[Parallel(n_jobs=30)]: Done 3812 tasks      | elapsed: 67.1min\n",
      "[Parallel(n_jobs=30)]: Done 4548 tasks      | elapsed: 85.1min\n",
      "[Parallel(n_jobs=30)]: Done 5348 tasks      | elapsed: 104.9min\n",
      "[Parallel(n_jobs=30)]: Done 6212 tasks      | elapsed: 128.0min\n",
      "[Parallel(n_jobs=30)]: Done 7140 tasks      | elapsed: 151.5min\n",
      "[Parallel(n_jobs=30)]: Done 9188 tasks      | elapsed: 201.7min\n",
      "[Parallel(n_jobs=30)]: Done 10000 out of 10000 | elapsed: 221.8min finished\n"
     ]
    }
   ],
   "source": [
    "parallel = Parallel(n_jobs=n_jobs, verbose=3, backend='loky') #loky\n",
    "clf_list = parallel(delayed(train_lambda_net)(config=config,\n",
    "                                              lambda_index=index, \n",
    "                                              X_data_with_function=X_data, \n",
    "                                              y_data_with_function=y_data,\n",
    "                                              distribution_parameter_list=distribution_parameter_list[1],\n",
    "                                              return_history=True, \n",
    "                                              printing=True) for index, (X_data, y_data, distribution_parameter_list) in enumerate(zip(X_data_list, y_data_list, distribution_parameter_list_list)))  \n",
    "del parallel"
   ]
  },
  {
   "cell_type": "code",
   "execution_count": null,
   "metadata": {},
   "outputs": [],
   "source": [
    "random_network['model'].get_config()"
   ]
  },
  {
   "cell_type": "code",
   "execution_count": null,
   "metadata": {
    "tags": []
   },
   "outputs": [],
   "source": [
    "random_network['model'].summary()"
   ]
  },
  {
   "cell_type": "markdown",
   "metadata": {},
   "source": [
    "## Save and Plot Lambda-Model History"
   ]
  },
  {
   "cell_type": "code",
   "execution_count": null,
   "metadata": {
    "ExecuteTime": {
     "start_time": "2021-01-17T09:44:26.874Z"
    },
    "tags": []
   },
   "outputs": [],
   "source": [
    "loss_list_total = []\n",
    "metric_list_total = []\n",
    "\n",
    "val_loss_list_total = []\n",
    "val_metric_list_total = []\n",
    "\n",
    "index_list = []\n",
    "\n",
    "\n",
    "max_training_epochs = 0\n",
    "for _, entry in tqdm(enumerate(clf_list)):\n",
    "    history = entry['history']\n",
    "    \n",
    "    current_training_epochs = len(history[list(history.keys())[0]])\n",
    "    max_training_epochs = max(max_training_epochs, current_training_epochs)\n",
    "\n",
    "\n",
    "for _, entry in tqdm(enumerate(clf_list)):\n",
    "    history = entry['history']\n",
    "    index = entry['index']\n",
    "    \n",
    "    current_training_epochs = len(history[list(history.keys())[0]])\n",
    "    \n",
    "    loss_list = np.full(max_training_epochs, np.nan)\n",
    "    metric_list = np.full(max_training_epochs, np.nan)\n",
    "    val_loss_list = np.full(max_training_epochs, np.nan)\n",
    "    val_metric_list = np.full(max_training_epochs, np.nan) \n",
    "\n",
    "    for i in range(current_training_epochs):  \n",
    "        loss_list[i] = history[list(history.keys())[0]][i]\n",
    "        metric_list[i] = history[list(history.keys())[1]][i]\n",
    "        val_loss_list[i] = history[list(history.keys())[len(history.keys())//2]][i]\n",
    "        val_metric_list[i] = history[list(history.keys())[len(history.keys())//2+1]][i]\n",
    "    \n",
    "    index_list.append([index])\n",
    "    loss_list_total.append(loss_list)\n",
    "    metric_list_total.append(metric_list)\n",
    "    val_loss_list_total.append(val_loss_list)\n",
    "    val_metric_list_total.append(val_metric_list)\n",
    "\n",
    "loss_df = pd.DataFrame(data=np.hstack([index_list, loss_list_total]), columns=flatten_list(['index', [list(history.keys())[0] + '_epoch_' + str(i+1) for i in range(max_training_epochs)]]))\n",
    "#loss_df['index'] = loss_df['index'].astype(int)\n",
    "metric_df = pd.DataFrame(data=np.hstack([index_list, metric_list_total]), columns=flatten_list(['index', [list(history.keys())[1] + '_epoch_' + str(i+1) for i in range(max_training_epochs)]]))\n",
    "#metric_df['index'] = metric_df['index'].astype(int)\n",
    "val_loss_df = pd.DataFrame(data=np.hstack([index_list, val_loss_list_total]), columns=flatten_list(['index', [list(history.keys())[len(history.keys())//2] + '_epoch_' + str(i+1) for i in range(max_training_epochs)]]))\n",
    "#val_loss_df['index'] = val_loss_df['index'].astype(int)\n",
    "val_metric_df = pd.DataFrame(data=np.hstack([index_list, val_metric_list_total]), columns=flatten_list(['index', [list(history.keys())[len(history.keys())//2+1] + '_epoch_' + str(i+1) for i in range(max_training_epochs)]])) \n",
    "#val_metric_df['index'] = val_metric_df['index'].astype(int)\n"
   ]
  },
  {
   "cell_type": "code",
   "execution_count": null,
   "metadata": {
    "ExecuteTime": {
     "start_time": "2021-01-17T09:44:26.875Z"
    }
   },
   "outputs": [],
   "source": [
    "path_loss = './data/weights/weights_' + path_identifier_lambda_net_data + '/history_' + list(history.keys())[0] + '.txt'\n",
    "path_metric = './data/weights/weights_' + path_identifier_lambda_net_data + '/history_' + list(history.keys())[1] + '.txt'\n",
    "path_val_loss = './data/weights/weights_' + path_identifier_lambda_net_data + '/history_' + list(history.keys())[len(history.keys())//2] + '.txt'\n",
    "path_val_metric = './data/weights/weights_' + path_identifier_lambda_net_data + '/history_' + list(history.keys())[len(history.keys())//2+1] + '.txt'\n",
    "\n",
    "loss_df.to_csv(path_loss, index=None, sep=',')\n",
    "metric_df.to_csv(path_metric, index=None, sep=',')\n",
    "val_loss_df.to_csv(path_val_loss, index=None, sep=',')\n",
    "val_metric_df.to_csv(path_val_metric, index=None, sep=',')\n"
   ]
  },
  {
   "cell_type": "code",
   "execution_count": null,
   "metadata": {
    "ExecuteTime": {
     "start_time": "2021-01-17T09:44:26.876Z"
    }
   },
   "outputs": [],
   "source": [
    "loss_df.describe()"
   ]
  },
  {
   "cell_type": "code",
   "execution_count": null,
   "metadata": {
    "ExecuteTime": {
     "start_time": "2021-01-17T09:44:26.877Z"
    }
   },
   "outputs": [],
   "source": [
    "val_loss_df.describe()"
   ]
  },
  {
   "cell_type": "code",
   "execution_count": null,
   "metadata": {
    "ExecuteTime": {
     "start_time": "2021-01-17T09:44:26.879Z"
    }
   },
   "outputs": [],
   "source": [
    "metric_df.describe()"
   ]
  },
  {
   "cell_type": "code",
   "execution_count": null,
   "metadata": {
    "ExecuteTime": {
     "start_time": "2021-01-17T09:44:26.880Z"
    }
   },
   "outputs": [],
   "source": [
    "val_metric_df.describe()"
   ]
  },
  {
   "cell_type": "code",
   "execution_count": null,
   "metadata": {
    "ExecuteTime": {
     "start_time": "2021-01-17T09:44:26.881Z"
    }
   },
   "outputs": [],
   "source": [
    "# summarize history for metric\n",
    "path = './data/results/weights_' + path_identifier_lambda_net_data + '/' + list(history.keys())[1] + '.png'\n",
    "\n",
    "adjustment_threshold_metric = 10#100\n",
    "    \n",
    "metric_df_adjusted = metric_df.copy(deep=True).iloc[:,1:]\n",
    "if adjustment_threshold_metric > 0:\n",
    "    metric_df_adjusted[metric_df_adjusted.columns] = np.where(metric_df_adjusted[metric_df_adjusted.columns] > adjustment_threshold_metric, adjustment_threshold_metric, metric_df_adjusted[metric_df_adjusted.columns])\n",
    "    \n",
    "val_metric_df_adjusted = val_metric_df.copy(deep=True).iloc[:,1:]\n",
    "if adjustment_threshold_metric > 0:\n",
    "    val_metric_df_adjusted[val_metric_df_adjusted.columns] = np.where(val_metric_df_adjusted[val_metric_df_adjusted.columns] > adjustment_threshold_metric, adjustment_threshold_metric, val_metric_df_adjusted[val_metric_df_adjusted.columns])\n",
    "\n",
    "    \n",
    "plt.plot(metric_df_adjusted.describe().loc['mean'].values)\n",
    "plt.plot(val_metric_df_adjusted.describe().loc['mean'].values)\n",
    "plt.title('model ' + list(history.keys())[1])\n",
    "plt.ylabel(list(history.keys())[1])\n",
    "plt.xlabel('epoch')\n",
    "plt.legend(['train', 'valid'], loc='upper left')\n",
    "plt.savefig(path)\n",
    "plt.show()\n"
   ]
  },
  {
   "cell_type": "code",
   "execution_count": null,
   "metadata": {
    "ExecuteTime": {
     "start_time": "2021-01-17T09:44:26.883Z"
    },
    "tags": []
   },
   "outputs": [],
   "source": [
    "# summarize history for loss\n",
    "path = './data/results/weights_' + path_identifier_lambda_net_data + '/' + list(history.keys())[0] + '.png'\n",
    "\n",
    "adjustment_threshold_loss = 0#10000\n",
    "    \n",
    "loss_df_adjusted = loss_df.copy(deep=True).iloc[:,1:]\n",
    "\n",
    "if adjustment_threshold_loss > 0:\n",
    "    loss_df_adjusted[loss_df_adjusted.columns] = np.where(loss_df_adjusted[loss_df_adjusted.columns] > adjustment_threshold_loss, adjustment_threshold_loss, loss_df_adjusted[loss_df_adjusted.columns])\n",
    "    \n",
    "val_loss_df_adjusted = val_loss_df.copy(deep=True).iloc[:,1:]\n",
    "if adjustment_threshold_loss > 0:\n",
    "    val_loss_df_adjusted[val_loss_df_adjusted.columns] = np.where(val_loss_df_adjusted[val_loss_df_adjusted.columns] > adjustment_threshold_loss, adjustment_threshold_loss, val_loss_df_adjusted[val_loss_df_adjusted.columns])\n",
    "\n",
    "    \n",
    "plt.plot(loss_df_adjusted.describe().loc['mean'].values)\n",
    "plt.plot(val_loss_df_adjusted.describe().loc['mean'].values)\n",
    "plt.title('model ' + list(history.keys())[0])\n",
    "plt.ylabel(list(history.keys())[0])\n",
    "plt.xlabel('epoch')\n",
    "plt.legend(['train', 'valid'], loc='upper left')\n",
    "plt.savefig(path)\n",
    "plt.show()\n"
   ]
  },
  {
   "cell_type": "code",
   "execution_count": null,
   "metadata": {
    "tags": []
   },
   "outputs": [],
   "source": [
    "if use_gpu:\n",
    "    from numba import cuda \n",
    "    device = cuda.get_current_device()\n",
    "    device.reset()"
   ]
  }
 ],
 "metadata": {
  "kernelspec": {
   "display_name": "Python 3 (ipykernel)",
   "language": "python",
   "name": "python3"
  },
  "language_info": {
   "codemirror_mode": {
    "name": "ipython",
    "version": 3
   },
   "file_extension": ".py",
   "mimetype": "text/x-python",
   "name": "python",
   "nbconvert_exporter": "python",
   "pygments_lexer": "ipython3",
   "version": "3.8.0"
  }
 },
 "nbformat": 4,
 "nbformat_minor": 4
}
