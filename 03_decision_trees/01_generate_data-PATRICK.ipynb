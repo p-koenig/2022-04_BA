{
 "cells": [
  {
   "cell_type": "markdown",
   "metadata": {},
   "source": [
    "# Function Generation for the Training of λ-Nets"
   ]
  },
  {
   "cell_type": "markdown",
   "metadata": {
    "ExecuteTime": {
     "end_time": "2020-09-16T12:26:49.061308Z",
     "start_time": "2020-09-16T12:26:49.055692Z"
    }
   },
   "source": [
    "## Specitication of Experiment Settings"
   ]
  },
  {
   "cell_type": "code",
   "execution_count": 1,
   "metadata": {
    "execution": {
     "iopub.execute_input": "2022-01-07T19:14:43.100525Z",
     "iopub.status.busy": "2022-01-07T19:14:43.100199Z",
     "iopub.status.idle": "2022-01-07T19:14:43.109580Z",
     "shell.execute_reply": "2022-01-07T19:14:43.109030Z",
     "shell.execute_reply.started": "2022-01-07T19:14:43.100458Z"
    },
    "tags": []
   },
   "outputs": [],
   "source": [
    "#######################################################################################################################################\n",
    "###################################################### CONFIG FILE ####################################################################\n",
    "#######################################################################################################################################\n",
    "sleep_time = 0 #minutes\n",
    "\n",
    "\n",
    "config = {\n",
    "    'function_family': {\n",
    "        'maximum_depth': 3,\n",
    "        'beta': 1,\n",
    "        'decision_sparsity': 1,\n",
    "        'fully_grown': True,\n",
    "        'dt_type': 'vanilla', #'vanilla', 'SDT'\n",
    "    },\n",
    "    'data': {\n",
    "        'number_of_variables': 10, \n",
    "        'num_classes': 2,\n",
    "        'categorical_indices': [],\n",
    "        \n",
    "        'function_generation_type': 'random_decision_tree_trained', # 'make_classification', 'make_classification_trained', 'random_decision_tree', 'random_decision_tree_trained'\n",
    "        'objective': 'classification', # 'regression'\n",
    "        \n",
    "        'x_max': 1,\n",
    "        'x_min': 0,\n",
    "        'x_distrib': 'uniform', #'normal', 'uniform',       \n",
    "                \n",
    "        'lambda_dataset_size': 5000, #number of samples per function\n",
    "        'number_of_generated_datasets': 500,\n",
    "    }, \n",
    "    'computation':{\n",
    "        'n_jobs': -3,\n",
    "        'use_gpu': False,\n",
    "        'gpu_numbers': '0',\n",
    "        'RANDOM_SEED': 42,   \n",
    "    }\n",
    "}\n"
   ]
  },
  {
   "cell_type": "code",
   "execution_count": 2,
   "metadata": {
    "execution": {
     "iopub.execute_input": "2022-01-07T19:14:43.110547Z",
     "iopub.status.busy": "2022-01-07T19:14:43.110356Z",
     "iopub.status.idle": "2022-01-07T19:14:43.118819Z",
     "shell.execute_reply": "2022-01-07T19:14:43.118345Z",
     "shell.execute_reply.started": "2022-01-07T19:14:43.110526Z"
    },
    "tags": []
   },
   "outputs": [],
   "source": [
    "#######################################################################################################################################\n",
    "########################################### IMPORT GLOBAL VARIABLES FROM CONFIG #######################################################\n",
    "#######################################################################################################################################\n",
    "globals().update(config['function_family'])\n",
    "globals().update(config['data'])\n",
    "globals().update(config['computation'])"
   ]
  },
  {
   "cell_type": "markdown",
   "metadata": {
    "ExecuteTime": {
     "end_time": "2020-09-16T12:26:58.879427Z",
     "start_time": "2020-09-16T12:26:58.874894Z"
    }
   },
   "source": [
    "## Imports"
   ]
  },
  {
   "cell_type": "code",
   "execution_count": 3,
   "metadata": {
    "ExecuteTime": {
     "end_time": "2021-01-13T21:12:40.476681Z",
     "start_time": "2021-01-13T21:12:38.298249Z"
    },
    "execution": {
     "iopub.execute_input": "2022-01-07T19:14:43.120476Z",
     "iopub.status.busy": "2022-01-07T19:14:43.120237Z",
     "iopub.status.idle": "2022-01-07T19:14:51.519522Z",
     "shell.execute_reply": "2022-01-07T19:14:51.517987Z",
     "shell.execute_reply.started": "2022-01-07T19:14:43.120456Z"
    },
    "tags": []
   },
   "outputs": [],
   "source": [
    "import warnings\n",
    "warnings.filterwarnings('ignore')\n",
    "import os\n",
    "os.environ['TF_CPP_MIN_LOG_LEVEL'] = '3' \n",
    "\n",
    "from itertools import product       # forms cartesian products\n",
    "from more_itertools import random_product \n",
    "from tqdm import tqdm_notebook as tqdm\n",
    "import pickle\n",
    "\n",
    "import numpy as np\n",
    "\n",
    "import pandas as pd\n",
    "from joblib import Parallel, delayed\n",
    "\n",
    "import random \n",
    "from random import sample \n",
    "\n",
    "import os\n",
    "import sys\n",
    "\n",
    "from sklearn.datasets import make_regression\n",
    "from sklearn.preprocessing import MinMaxScaler\n",
    "\n",
    "from sympy import Symbol, sympify\n",
    "\n",
    "        \n",
    "import seaborn as sns\n",
    "        \n",
    "import random \n",
    "\n",
    "import warnings\n",
    "\n",
    "from time import perf_counter\n",
    "\n",
    "\n",
    "\n",
    "from sklearn.datasets import load_iris, load_breast_cancer\n",
    "from sklearn.model_selection import train_test_split\n",
    "from sklearn.preprocessing import MinMaxScaler\n",
    "from utilities.DecisionTree_BASIC import SDT\n",
    "from sklearn.metrics import accuracy_score\n",
    "from sklearn.tree import plot_tree\n",
    "from matplotlib import pyplot as plt\n",
    "from IPython.display import Image\n",
    "\n",
    "import numpy as np\n",
    "import torch\n",
    "np.set_printoptions(suppress=True)\n",
    "torch.set_printoptions(sci_mode=False)"
   ]
  },
  {
   "cell_type": "code",
   "execution_count": 4,
   "metadata": {
    "execution": {
     "iopub.execute_input": "2022-01-07T19:14:51.520698Z",
     "iopub.status.busy": "2022-01-07T19:14:51.520493Z",
     "iopub.status.idle": "2022-01-07T19:14:51.525329Z",
     "shell.execute_reply": "2022-01-07T19:14:51.524822Z",
     "shell.execute_reply.started": "2022-01-07T19:14:51.520672Z"
    },
    "tags": []
   },
   "outputs": [],
   "source": [
    "#######################################################################################################################################\n",
    "###################################################### SET VARIABLES + DESIGN #########################################################\n",
    "#######################################################################################################################################\n",
    "os.environ['CUDA_VISIBLE_DEVICES'] = ''\n",
    "\n",
    "sns.set_style(\"darkgrid\")\n",
    "\n",
    "random.seed(RANDOM_SEED)\n",
    "np.random.seed(RANDOM_SEED)\n",
    "    \n",
    "    \n",
    "pd.set_option('display.float_format', lambda x: '%.3f' % x)\n",
    "pd.set_option('display.max_columns', 500)\n",
    "\n",
    "warnings.filterwarnings('ignore')"
   ]
  },
  {
   "cell_type": "code",
   "execution_count": 5,
   "metadata": {
    "execution": {
     "iopub.execute_input": "2022-01-07T19:14:51.526187Z",
     "iopub.status.busy": "2022-01-07T19:14:51.526004Z",
     "iopub.status.idle": "2022-01-07T19:14:51.532239Z",
     "shell.execute_reply": "2022-01-07T19:14:51.531755Z",
     "shell.execute_reply.started": "2022-01-07T19:14:51.526163Z"
    },
    "tags": []
   },
   "outputs": [],
   "source": [
    "from utilities.utility_functions import *\n",
    "#######################################################################################################################################\n",
    "####################################################### CONFIG ADJUSTMENTS ############################################################\n",
    "#######################################################################################################################################\n",
    "\n",
    "#######################################################################################################################################\n",
    "################################################## UPDATE VARIABLES ###################################################################\n",
    "#######################################################################################################################################\n",
    "globals().update(config['function_family'])\n",
    "globals().update(config['data'])\n",
    "globals().update(config['computation'])\n",
    "\n",
    "#initialize_utility_functions_config_from_curent_notebook(config)\n",
    "\n",
    "#######################################################################################################################################\n",
    "###################################################### PATH + FOLDER CREATION #########################################################\n",
    "#######################################################################################################################################\n",
    "globals().update(generate_paths(config, path_type='data_creation'))\n",
    "generate_directory_structure()\n",
    "\n",
    "#######################################################################################################################################\n",
    "############################################################ SLEEP TIMER ##############################################################\n",
    "#######################################################################################################################################\n",
    "sleep_minutes(sleep_time)"
   ]
  },
  {
   "cell_type": "code",
   "execution_count": 6,
   "metadata": {
    "execution": {
     "iopub.execute_input": "2022-01-07T19:14:51.533263Z",
     "iopub.status.busy": "2022-01-07T19:14:51.533067Z",
     "iopub.status.idle": "2022-01-07T19:14:51.603310Z",
     "shell.execute_reply": "2022-01-07T19:14:51.602518Z",
     "shell.execute_reply.started": "2022-01-07T19:14:51.533239Z"
    },
    "tags": []
   },
   "outputs": [
    {
     "name": "stdout",
     "output_type": "stream",
     "text": [
      "lNetSize5000_numDatasets500_var10_class2_random_decision_tree_trained_xMax1_xMin0_xDistuniform_depth3_beta1_decisionSpars1_vanilla_fullyGrown\n"
     ]
    }
   ],
   "source": [
    "print(path_identifier_function_data)"
   ]
  },
  {
   "cell_type": "markdown",
   "metadata": {
    "ExecuteTime": {
     "end_time": "2020-09-16T12:28:46.853042Z",
     "start_time": "2020-09-16T12:28:46.848346Z"
    }
   },
   "source": [
    "# Function Generation"
   ]
  },
  {
   "cell_type": "code",
   "execution_count": 7,
   "metadata": {
    "execution": {
     "iopub.execute_input": "2022-01-07T19:14:51.605541Z",
     "iopub.status.busy": "2022-01-07T19:14:51.605237Z",
     "iopub.status.idle": "2022-01-07T19:15:22.975778Z",
     "shell.execute_reply": "2022-01-07T19:15:22.974895Z",
     "shell.execute_reply.started": "2022-01-07T19:14:51.605498Z"
    },
    "tags": []
   },
   "outputs": [
    {
     "name": "stderr",
     "output_type": "stream",
     "text": [
      "[Parallel(n_jobs=-3)]: Using backend LokyBackend with 38 concurrent workers.\n",
      "[Parallel(n_jobs=-3)]: Done  52 tasks      | elapsed:   26.3s\n",
      "[Parallel(n_jobs=-3)]: Done 212 tasks      | elapsed:   28.1s\n",
      "[Parallel(n_jobs=-3)]: Done 500 out of 500 | elapsed:   31.0s finished\n"
     ]
    }
   ],
   "source": [
    "if function_generation_type == 'random_decision_tree':\n",
    "    parallel = Parallel(n_jobs=n_jobs, verbose=3, backend='loky')\n",
    "    result_list = parallel(delayed(generate_data_random_decision_tree)(config, seed=RANDOM_SEED+i) for i in range(number_of_generated_datasets))\n",
    "elif function_generation_type == 'random_decision_tree_trained':\n",
    "    parallel = Parallel(n_jobs=n_jobs, verbose=3, backend='loky')\n",
    "    result_list = parallel(delayed(generate_data_random_decision_tree_trained)(config, seed=RANDOM_SEED+i) for i in range(number_of_generated_datasets))  \n",
    "elif function_generation_type == 'make_classification':\n",
    "    parallel = Parallel(n_jobs=n_jobs, verbose=3, backend='loky')\n",
    "    result_list = parallel(delayed(generate_data_make_classification)(config, seed=RANDOM_SEED+i) for i in range(number_of_generated_datasets)) \n",
    "elif function_generation_type == 'make_classification_trained':\n",
    "    parallel = Parallel(n_jobs=n_jobs, verbose=3, backend='loky')\n",
    "    result_list = parallel(delayed(generate_data_make_classification_decision_tree_trained)(config, seed=RANDOM_SEED+i) for i in range(number_of_generated_datasets))    \n",
    "\n",
    "function_identifier_list = generate_decision_tree_identifier(config)  \n",
    "identifier_series_list = [pd.Series(result[0],  index=function_identifier_list) for result in result_list]\n",
    "\n",
    "function_df = pd.DataFrame(data=np.array([result[0] for result in result_list]), columns=function_identifier_list)\n",
    "\n",
    "X_data_list = [[identifier_series, pd.DataFrame(result[1], columns=['x' + str(i) for i in range(number_of_variables)])] for identifier_series, result in zip(identifier_series_list, result_list)]\n",
    "y_data_list = [[identifier_series, pd.DataFrame(result[2], columns=['result'])] for identifier_series, result in zip(identifier_series_list, result_list)]\n",
    "y_data_raw_list = [[identifier_series, pd.DataFrame(result[3], columns=['result_raw'])] for identifier_series, result in zip(identifier_series_list, result_list)]\n"
   ]
  },
  {
   "cell_type": "code",
   "execution_count": 8,
   "metadata": {
    "execution": {
     "iopub.execute_input": "2022-01-07T19:15:22.977323Z",
     "iopub.status.busy": "2022-01-07T19:15:22.977004Z",
     "iopub.status.idle": "2022-01-07T19:15:23.003206Z",
     "shell.execute_reply": "2022-01-07T19:15:23.002538Z",
     "shell.execute_reply.started": "2022-01-07T19:15:22.977292Z"
    },
    "tags": []
   },
   "outputs": [
    {
     "data": {
      "text/html": [
       "<div>\n",
       "<style scoped>\n",
       "    .dataframe tbody tr th:only-of-type {\n",
       "        vertical-align: middle;\n",
       "    }\n",
       "\n",
       "    .dataframe tbody tr th {\n",
       "        vertical-align: top;\n",
       "    }\n",
       "\n",
       "    .dataframe thead th {\n",
       "        text-align: right;\n",
       "    }\n",
       "</style>\n",
       "<table border=\"1\" class=\"dataframe\">\n",
       "  <thead>\n",
       "    <tr style=\"text-align: right;\">\n",
       "      <th></th>\n",
       "      <th>feat0</th>\n",
       "      <th>feat1</th>\n",
       "      <th>feat2</th>\n",
       "      <th>feat3</th>\n",
       "      <th>feat4</th>\n",
       "      <th>feat5</th>\n",
       "      <th>feat6</th>\n",
       "      <th>split0</th>\n",
       "      <th>split1</th>\n",
       "      <th>split2</th>\n",
       "      <th>split3</th>\n",
       "      <th>split4</th>\n",
       "      <th>split5</th>\n",
       "      <th>split6</th>\n",
       "      <th>lp0</th>\n",
       "      <th>lp1</th>\n",
       "      <th>lp2</th>\n",
       "      <th>lp3</th>\n",
       "      <th>lp4</th>\n",
       "      <th>lp5</th>\n",
       "      <th>lp6</th>\n",
       "      <th>lp7</th>\n",
       "    </tr>\n",
       "  </thead>\n",
       "  <tbody>\n",
       "    <tr>\n",
       "      <th>0</th>\n",
       "      <td>0.469</td>\n",
       "      <td>0.187</td>\n",
       "      <td>0.567</td>\n",
       "      <td>0.082</td>\n",
       "      <td>0.159</td>\n",
       "      <td>0.008</td>\n",
       "      <td>0.935</td>\n",
       "      <td>2.000</td>\n",
       "      <td>2.000</td>\n",
       "      <td>9.000</td>\n",
       "      <td>3.000</td>\n",
       "      <td>9.000</td>\n",
       "      <td>6.000</td>\n",
       "      <td>9.000</td>\n",
       "      <td>0.359</td>\n",
       "      <td>0.506</td>\n",
       "      <td>0.468</td>\n",
       "      <td>0.569</td>\n",
       "      <td>0.133</td>\n",
       "      <td>0.515</td>\n",
       "      <td>0.442</td>\n",
       "      <td>0.568</td>\n",
       "    </tr>\n",
       "    <tr>\n",
       "      <th>1</th>\n",
       "      <td>0.083</td>\n",
       "      <td>0.536</td>\n",
       "      <td>0.987</td>\n",
       "      <td>0.019</td>\n",
       "      <td>0.641</td>\n",
       "      <td>0.441</td>\n",
       "      <td>0.995</td>\n",
       "      <td>2.000</td>\n",
       "      <td>9.000</td>\n",
       "      <td>8.000</td>\n",
       "      <td>7.000</td>\n",
       "      <td>5.000</td>\n",
       "      <td>8.000</td>\n",
       "      <td>8.000</td>\n",
       "      <td>1.000</td>\n",
       "      <td>0.351</td>\n",
       "      <td>0.564</td>\n",
       "      <td>0.325</td>\n",
       "      <td>0.526</td>\n",
       "      <td>0.476</td>\n",
       "      <td>0.821</td>\n",
       "      <td>0.519</td>\n",
       "    </tr>\n",
       "    <tr>\n",
       "      <th>2</th>\n",
       "      <td>0.007</td>\n",
       "      <td>0.147</td>\n",
       "      <td>0.801</td>\n",
       "      <td>0.005</td>\n",
       "      <td>0.895</td>\n",
       "      <td>0.495</td>\n",
       "      <td>0.069</td>\n",
       "      <td>3.000</td>\n",
       "      <td>0.000</td>\n",
       "      <td>4.000</td>\n",
       "      <td>3.000</td>\n",
       "      <td>4.000</td>\n",
       "      <td>6.000</td>\n",
       "      <td>5.000</td>\n",
       "      <td>1.000</td>\n",
       "      <td>0.250</td>\n",
       "      <td>0.037</td>\n",
       "      <td>1.000</td>\n",
       "      <td>0.472</td>\n",
       "      <td>0.517</td>\n",
       "      <td>0.716</td>\n",
       "      <td>0.545</td>\n",
       "    </tr>\n",
       "    <tr>\n",
       "      <th>3</th>\n",
       "      <td>0.927</td>\n",
       "      <td>0.591</td>\n",
       "      <td>0.948</td>\n",
       "      <td>0.901</td>\n",
       "      <td>0.153</td>\n",
       "      <td>0.024</td>\n",
       "      <td>0.211</td>\n",
       "      <td>9.000</td>\n",
       "      <td>7.000</td>\n",
       "      <td>9.000</td>\n",
       "      <td>9.000</td>\n",
       "      <td>2.000</td>\n",
       "      <td>5.000</td>\n",
       "      <td>5.000</td>\n",
       "      <td>0.468</td>\n",
       "      <td>0.288</td>\n",
       "      <td>0.425</td>\n",
       "      <td>0.528</td>\n",
       "      <td>0.000</td>\n",
       "      <td>0.777</td>\n",
       "      <td>0.339</td>\n",
       "      <td>0.576</td>\n",
       "    </tr>\n",
       "    <tr>\n",
       "      <th>4</th>\n",
       "      <td>0.996</td>\n",
       "      <td>0.992</td>\n",
       "      <td>0.316</td>\n",
       "      <td>0.283</td>\n",
       "      <td>0.998</td>\n",
       "      <td>0.137</td>\n",
       "      <td>-1.000</td>\n",
       "      <td>9.000</td>\n",
       "      <td>2.000</td>\n",
       "      <td>4.000</td>\n",
       "      <td>5.000</td>\n",
       "      <td>2.000</td>\n",
       "      <td>4.000</td>\n",
       "      <td>-1.000</td>\n",
       "      <td>0.538</td>\n",
       "      <td>0.496</td>\n",
       "      <td>0.885</td>\n",
       "      <td>0.250</td>\n",
       "      <td>1.000</td>\n",
       "      <td>0.000</td>\n",
       "      <td>1.000</td>\n",
       "      <td>1.000</td>\n",
       "    </tr>\n",
       "  </tbody>\n",
       "</table>\n",
       "</div>"
      ],
      "text/plain": [
       "   feat0  feat1  feat2  feat3  feat4  feat5  feat6  split0  split1  split2  \\\n",
       "0  0.469  0.187  0.567  0.082  0.159  0.008  0.935   2.000   2.000   9.000   \n",
       "1  0.083  0.536  0.987  0.019  0.641  0.441  0.995   2.000   9.000   8.000   \n",
       "2  0.007  0.147  0.801  0.005  0.895  0.495  0.069   3.000   0.000   4.000   \n",
       "3  0.927  0.591  0.948  0.901  0.153  0.024  0.211   9.000   7.000   9.000   \n",
       "4  0.996  0.992  0.316  0.283  0.998  0.137 -1.000   9.000   2.000   4.000   \n",
       "\n",
       "   split3  split4  split5  split6   lp0   lp1   lp2   lp3   lp4   lp5   lp6  \\\n",
       "0   3.000   9.000   6.000   9.000 0.359 0.506 0.468 0.569 0.133 0.515 0.442   \n",
       "1   7.000   5.000   8.000   8.000 1.000 0.351 0.564 0.325 0.526 0.476 0.821   \n",
       "2   3.000   4.000   6.000   5.000 1.000 0.250 0.037 1.000 0.472 0.517 0.716   \n",
       "3   9.000   2.000   5.000   5.000 0.468 0.288 0.425 0.528 0.000 0.777 0.339   \n",
       "4   5.000   2.000   4.000  -1.000 0.538 0.496 0.885 0.250 1.000 0.000 1.000   \n",
       "\n",
       "    lp7  \n",
       "0 0.568  \n",
       "1 0.519  \n",
       "2 0.545  \n",
       "3 0.576  \n",
       "4 1.000  "
      ]
     },
     "execution_count": 8,
     "metadata": {},
     "output_type": "execute_result"
    }
   ],
   "source": [
    "function_df.head()"
   ]
  },
  {
   "cell_type": "code",
   "execution_count": 9,
   "metadata": {
    "execution": {
     "iopub.execute_input": "2022-01-07T19:15:23.004421Z",
     "iopub.status.busy": "2022-01-07T19:15:23.004174Z",
     "iopub.status.idle": "2022-01-07T19:15:23.010591Z",
     "shell.execute_reply": "2022-01-07T19:15:23.009988Z",
     "shell.execute_reply.started": "2022-01-07T19:15:23.004395Z"
    }
   },
   "outputs": [
    {
     "data": {
      "text/plain": [
       "feat0    0.469\n",
       "feat1    0.187\n",
       "feat2    0.567\n",
       "feat3    0.082\n",
       "feat4    0.159\n",
       "feat5    0.008\n",
       "feat6    0.935\n",
       "split0   2.000\n",
       "split1   2.000\n",
       "split2   9.000\n",
       "dtype: float64"
      ]
     },
     "execution_count": 9,
     "metadata": {},
     "output_type": "execute_result"
    }
   ],
   "source": [
    "X_data_list[0][0].head(10)"
   ]
  },
  {
   "cell_type": "code",
   "execution_count": 10,
   "metadata": {
    "execution": {
     "iopub.execute_input": "2022-01-07T19:15:23.013098Z",
     "iopub.status.busy": "2022-01-07T19:15:23.012838Z",
     "iopub.status.idle": "2022-01-07T19:15:23.025473Z",
     "shell.execute_reply": "2022-01-07T19:15:23.024934Z",
     "shell.execute_reply.started": "2022-01-07T19:15:23.013072Z"
    }
   },
   "outputs": [
    {
     "data": {
      "text/html": [
       "<div>\n",
       "<style scoped>\n",
       "    .dataframe tbody tr th:only-of-type {\n",
       "        vertical-align: middle;\n",
       "    }\n",
       "\n",
       "    .dataframe tbody tr th {\n",
       "        vertical-align: top;\n",
       "    }\n",
       "\n",
       "    .dataframe thead th {\n",
       "        text-align: right;\n",
       "    }\n",
       "</style>\n",
       "<table border=\"1\" class=\"dataframe\">\n",
       "  <thead>\n",
       "    <tr style=\"text-align: right;\">\n",
       "      <th></th>\n",
       "      <th>x0</th>\n",
       "      <th>x1</th>\n",
       "      <th>x2</th>\n",
       "      <th>x3</th>\n",
       "      <th>x4</th>\n",
       "      <th>x5</th>\n",
       "      <th>x6</th>\n",
       "      <th>x7</th>\n",
       "      <th>x8</th>\n",
       "      <th>x9</th>\n",
       "    </tr>\n",
       "  </thead>\n",
       "  <tbody>\n",
       "    <tr>\n",
       "      <th>0</th>\n",
       "      <td>0.082</td>\n",
       "      <td>0.725</td>\n",
       "      <td>0.510</td>\n",
       "      <td>0.809</td>\n",
       "      <td>0.593</td>\n",
       "      <td>0.268</td>\n",
       "      <td>0.681</td>\n",
       "      <td>0.948</td>\n",
       "      <td>0.702</td>\n",
       "      <td>0.397</td>\n",
       "    </tr>\n",
       "    <tr>\n",
       "      <th>1</th>\n",
       "      <td>0.441</td>\n",
       "      <td>0.416</td>\n",
       "      <td>0.376</td>\n",
       "      <td>0.941</td>\n",
       "      <td>0.554</td>\n",
       "      <td>0.274</td>\n",
       "      <td>0.610</td>\n",
       "      <td>0.349</td>\n",
       "      <td>0.297</td>\n",
       "      <td>0.053</td>\n",
       "    </tr>\n",
       "    <tr>\n",
       "      <th>2</th>\n",
       "      <td>0.768</td>\n",
       "      <td>0.981</td>\n",
       "      <td>0.492</td>\n",
       "      <td>0.783</td>\n",
       "      <td>0.686</td>\n",
       "      <td>0.473</td>\n",
       "      <td>0.369</td>\n",
       "      <td>0.718</td>\n",
       "      <td>0.893</td>\n",
       "      <td>0.582</td>\n",
       "    </tr>\n",
       "    <tr>\n",
       "      <th>3</th>\n",
       "      <td>0.549</td>\n",
       "      <td>0.495</td>\n",
       "      <td>0.239</td>\n",
       "      <td>0.874</td>\n",
       "      <td>0.110</td>\n",
       "      <td>0.550</td>\n",
       "      <td>0.665</td>\n",
       "      <td>0.604</td>\n",
       "      <td>0.670</td>\n",
       "      <td>0.909</td>\n",
       "    </tr>\n",
       "    <tr>\n",
       "      <th>4</th>\n",
       "      <td>0.440</td>\n",
       "      <td>0.038</td>\n",
       "      <td>0.790</td>\n",
       "      <td>0.311</td>\n",
       "      <td>0.203</td>\n",
       "      <td>0.831</td>\n",
       "      <td>0.278</td>\n",
       "      <td>0.791</td>\n",
       "      <td>0.400</td>\n",
       "      <td>0.293</td>\n",
       "    </tr>\n",
       "    <tr>\n",
       "      <th>5</th>\n",
       "      <td>0.740</td>\n",
       "      <td>0.866</td>\n",
       "      <td>0.919</td>\n",
       "      <td>0.407</td>\n",
       "      <td>0.686</td>\n",
       "      <td>0.671</td>\n",
       "      <td>0.852</td>\n",
       "      <td>0.045</td>\n",
       "      <td>0.184</td>\n",
       "      <td>0.513</td>\n",
       "    </tr>\n",
       "    <tr>\n",
       "      <th>6</th>\n",
       "      <td>0.063</td>\n",
       "      <td>0.648</td>\n",
       "      <td>0.148</td>\n",
       "      <td>0.082</td>\n",
       "      <td>0.284</td>\n",
       "      <td>0.404</td>\n",
       "      <td>0.269</td>\n",
       "      <td>0.115</td>\n",
       "      <td>0.441</td>\n",
       "      <td>0.392</td>\n",
       "    </tr>\n",
       "    <tr>\n",
       "      <th>7</th>\n",
       "      <td>0.189</td>\n",
       "      <td>0.022</td>\n",
       "      <td>0.245</td>\n",
       "      <td>0.021</td>\n",
       "      <td>0.381</td>\n",
       "      <td>0.070</td>\n",
       "      <td>0.534</td>\n",
       "      <td>0.688</td>\n",
       "      <td>0.471</td>\n",
       "      <td>0.971</td>\n",
       "    </tr>\n",
       "    <tr>\n",
       "      <th>8</th>\n",
       "      <td>0.684</td>\n",
       "      <td>0.357</td>\n",
       "      <td>0.847</td>\n",
       "      <td>0.415</td>\n",
       "      <td>0.939</td>\n",
       "      <td>0.440</td>\n",
       "      <td>0.433</td>\n",
       "      <td>0.144</td>\n",
       "      <td>0.713</td>\n",
       "      <td>0.454</td>\n",
       "    </tr>\n",
       "    <tr>\n",
       "      <th>9</th>\n",
       "      <td>0.406</td>\n",
       "      <td>0.863</td>\n",
       "      <td>0.492</td>\n",
       "      <td>0.613</td>\n",
       "      <td>0.307</td>\n",
       "      <td>0.928</td>\n",
       "      <td>0.010</td>\n",
       "      <td>0.339</td>\n",
       "      <td>0.435</td>\n",
       "      <td>0.778</td>\n",
       "    </tr>\n",
       "  </tbody>\n",
       "</table>\n",
       "</div>"
      ],
      "text/plain": [
       "     x0    x1    x2    x3    x4    x5    x6    x7    x8    x9\n",
       "0 0.082 0.725 0.510 0.809 0.593 0.268 0.681 0.948 0.702 0.397\n",
       "1 0.441 0.416 0.376 0.941 0.554 0.274 0.610 0.349 0.297 0.053\n",
       "2 0.768 0.981 0.492 0.783 0.686 0.473 0.369 0.718 0.893 0.582\n",
       "3 0.549 0.495 0.239 0.874 0.110 0.550 0.665 0.604 0.670 0.909\n",
       "4 0.440 0.038 0.790 0.311 0.203 0.831 0.278 0.791 0.400 0.293\n",
       "5 0.740 0.866 0.919 0.407 0.686 0.671 0.852 0.045 0.184 0.513\n",
       "6 0.063 0.648 0.148 0.082 0.284 0.404 0.269 0.115 0.441 0.392\n",
       "7 0.189 0.022 0.245 0.021 0.381 0.070 0.534 0.688 0.471 0.971\n",
       "8 0.684 0.357 0.847 0.415 0.939 0.440 0.433 0.144 0.713 0.454\n",
       "9 0.406 0.863 0.492 0.613 0.307 0.928 0.010 0.339 0.435 0.778"
      ]
     },
     "execution_count": 10,
     "metadata": {},
     "output_type": "execute_result"
    }
   ],
   "source": [
    "X_data_list[0][1].head(10)"
   ]
  },
  {
   "cell_type": "code",
   "execution_count": 11,
   "metadata": {
    "execution": {
     "iopub.execute_input": "2022-01-07T19:15:23.026661Z",
     "iopub.status.busy": "2022-01-07T19:15:23.026392Z",
     "iopub.status.idle": "2022-01-07T19:15:23.036062Z",
     "shell.execute_reply": "2022-01-07T19:15:23.035271Z",
     "shell.execute_reply.started": "2022-01-07T19:15:23.026634Z"
    }
   },
   "outputs": [
    {
     "data": {
      "text/plain": [
       "feat0    0.469\n",
       "feat1    0.187\n",
       "feat2    0.567\n",
       "feat3    0.082\n",
       "feat4    0.159\n",
       "feat5    0.008\n",
       "feat6    0.935\n",
       "split0   2.000\n",
       "split1   2.000\n",
       "split2   9.000\n",
       "dtype: float64"
      ]
     },
     "execution_count": 11,
     "metadata": {},
     "output_type": "execute_result"
    }
   ],
   "source": [
    "y_data_list[0][0].head(10)"
   ]
  },
  {
   "cell_type": "code",
   "execution_count": 12,
   "metadata": {
    "execution": {
     "iopub.execute_input": "2022-01-07T19:15:23.037679Z",
     "iopub.status.busy": "2022-01-07T19:15:23.037327Z",
     "iopub.status.idle": "2022-01-07T19:15:23.048563Z",
     "shell.execute_reply": "2022-01-07T19:15:23.047820Z",
     "shell.execute_reply.started": "2022-01-07T19:15:23.037644Z"
    }
   },
   "outputs": [
    {
     "data": {
      "text/html": [
       "<div>\n",
       "<style scoped>\n",
       "    .dataframe tbody tr th:only-of-type {\n",
       "        vertical-align: middle;\n",
       "    }\n",
       "\n",
       "    .dataframe tbody tr th {\n",
       "        vertical-align: top;\n",
       "    }\n",
       "\n",
       "    .dataframe thead th {\n",
       "        text-align: right;\n",
       "    }\n",
       "</style>\n",
       "<table border=\"1\" class=\"dataframe\">\n",
       "  <thead>\n",
       "    <tr style=\"text-align: right;\">\n",
       "      <th></th>\n",
       "      <th>result</th>\n",
       "    </tr>\n",
       "  </thead>\n",
       "  <tbody>\n",
       "    <tr>\n",
       "      <th>0</th>\n",
       "      <td>0</td>\n",
       "    </tr>\n",
       "    <tr>\n",
       "      <th>1</th>\n",
       "      <td>0</td>\n",
       "    </tr>\n",
       "    <tr>\n",
       "      <th>2</th>\n",
       "      <td>0</td>\n",
       "    </tr>\n",
       "    <tr>\n",
       "      <th>3</th>\n",
       "      <td>0</td>\n",
       "    </tr>\n",
       "    <tr>\n",
       "      <th>4</th>\n",
       "      <td>0</td>\n",
       "    </tr>\n",
       "    <tr>\n",
       "      <th>5</th>\n",
       "      <td>1</td>\n",
       "    </tr>\n",
       "    <tr>\n",
       "      <th>6</th>\n",
       "      <td>0</td>\n",
       "    </tr>\n",
       "    <tr>\n",
       "      <th>7</th>\n",
       "      <td>1</td>\n",
       "    </tr>\n",
       "    <tr>\n",
       "      <th>8</th>\n",
       "      <td>0</td>\n",
       "    </tr>\n",
       "    <tr>\n",
       "      <th>9</th>\n",
       "      <td>1</td>\n",
       "    </tr>\n",
       "  </tbody>\n",
       "</table>\n",
       "</div>"
      ],
      "text/plain": [
       "   result\n",
       "0       0\n",
       "1       0\n",
       "2       0\n",
       "3       0\n",
       "4       0\n",
       "5       1\n",
       "6       0\n",
       "7       1\n",
       "8       0\n",
       "9       1"
      ]
     },
     "execution_count": 12,
     "metadata": {},
     "output_type": "execute_result"
    }
   ],
   "source": [
    "y_data_list[1][1].head(10)"
   ]
  },
  {
   "cell_type": "code",
   "execution_count": 13,
   "metadata": {
    "execution": {
     "iopub.execute_input": "2022-01-07T19:15:23.050310Z",
     "iopub.status.busy": "2022-01-07T19:15:23.049772Z",
     "iopub.status.idle": "2022-01-07T19:15:23.057876Z",
     "shell.execute_reply": "2022-01-07T19:15:23.057250Z",
     "shell.execute_reply.started": "2022-01-07T19:15:23.050275Z"
    }
   },
   "outputs": [
    {
     "data": {
      "text/html": [
       "<div>\n",
       "<style scoped>\n",
       "    .dataframe tbody tr th:only-of-type {\n",
       "        vertical-align: middle;\n",
       "    }\n",
       "\n",
       "    .dataframe tbody tr th {\n",
       "        vertical-align: top;\n",
       "    }\n",
       "\n",
       "    .dataframe thead th {\n",
       "        text-align: right;\n",
       "    }\n",
       "</style>\n",
       "<table border=\"1\" class=\"dataframe\">\n",
       "  <thead>\n",
       "    <tr style=\"text-align: right;\">\n",
       "      <th></th>\n",
       "      <th>result</th>\n",
       "    </tr>\n",
       "  </thead>\n",
       "  <tbody>\n",
       "    <tr>\n",
       "      <th>0</th>\n",
       "      <td>1</td>\n",
       "    </tr>\n",
       "    <tr>\n",
       "      <th>1</th>\n",
       "      <td>0</td>\n",
       "    </tr>\n",
       "    <tr>\n",
       "      <th>2</th>\n",
       "      <td>0</td>\n",
       "    </tr>\n",
       "    <tr>\n",
       "      <th>3</th>\n",
       "      <td>0</td>\n",
       "    </tr>\n",
       "    <tr>\n",
       "      <th>4</th>\n",
       "      <td>0</td>\n",
       "    </tr>\n",
       "    <tr>\n",
       "      <th>5</th>\n",
       "      <td>0</td>\n",
       "    </tr>\n",
       "    <tr>\n",
       "      <th>6</th>\n",
       "      <td>1</td>\n",
       "    </tr>\n",
       "    <tr>\n",
       "      <th>7</th>\n",
       "      <td>0</td>\n",
       "    </tr>\n",
       "    <tr>\n",
       "      <th>8</th>\n",
       "      <td>1</td>\n",
       "    </tr>\n",
       "    <tr>\n",
       "      <th>9</th>\n",
       "      <td>1</td>\n",
       "    </tr>\n",
       "  </tbody>\n",
       "</table>\n",
       "</div>"
      ],
      "text/plain": [
       "   result\n",
       "0       1\n",
       "1       0\n",
       "2       0\n",
       "3       0\n",
       "4       0\n",
       "5       0\n",
       "6       1\n",
       "7       0\n",
       "8       1\n",
       "9       1"
      ]
     },
     "execution_count": 13,
     "metadata": {},
     "output_type": "execute_result"
    }
   ],
   "source": [
    "y_data_list[2][1].head(10)"
   ]
  },
  {
   "cell_type": "code",
   "execution_count": 14,
   "metadata": {
    "execution": {
     "iopub.execute_input": "2022-01-07T19:15:23.059100Z",
     "iopub.status.busy": "2022-01-07T19:15:23.058862Z",
     "iopub.status.idle": "2022-01-07T19:15:23.066715Z",
     "shell.execute_reply": "2022-01-07T19:15:23.066194Z",
     "shell.execute_reply.started": "2022-01-07T19:15:23.059071Z"
    }
   },
   "outputs": [
    {
     "data": {
      "text/html": [
       "<div>\n",
       "<style scoped>\n",
       "    .dataframe tbody tr th:only-of-type {\n",
       "        vertical-align: middle;\n",
       "    }\n",
       "\n",
       "    .dataframe tbody tr th {\n",
       "        vertical-align: top;\n",
       "    }\n",
       "\n",
       "    .dataframe thead th {\n",
       "        text-align: right;\n",
       "    }\n",
       "</style>\n",
       "<table border=\"1\" class=\"dataframe\">\n",
       "  <thead>\n",
       "    <tr style=\"text-align: right;\">\n",
       "      <th></th>\n",
       "      <th>result_raw</th>\n",
       "    </tr>\n",
       "  </thead>\n",
       "  <tbody>\n",
       "    <tr>\n",
       "      <th>0</th>\n",
       "      <td>1</td>\n",
       "    </tr>\n",
       "    <tr>\n",
       "      <th>1</th>\n",
       "      <td>0</td>\n",
       "    </tr>\n",
       "    <tr>\n",
       "      <th>2</th>\n",
       "      <td>0</td>\n",
       "    </tr>\n",
       "    <tr>\n",
       "      <th>3</th>\n",
       "      <td>0</td>\n",
       "    </tr>\n",
       "    <tr>\n",
       "      <th>4</th>\n",
       "      <td>0</td>\n",
       "    </tr>\n",
       "    <tr>\n",
       "      <th>5</th>\n",
       "      <td>0</td>\n",
       "    </tr>\n",
       "    <tr>\n",
       "      <th>6</th>\n",
       "      <td>1</td>\n",
       "    </tr>\n",
       "    <tr>\n",
       "      <th>7</th>\n",
       "      <td>0</td>\n",
       "    </tr>\n",
       "    <tr>\n",
       "      <th>8</th>\n",
       "      <td>1</td>\n",
       "    </tr>\n",
       "    <tr>\n",
       "      <th>9</th>\n",
       "      <td>1</td>\n",
       "    </tr>\n",
       "  </tbody>\n",
       "</table>\n",
       "</div>"
      ],
      "text/plain": [
       "   result_raw\n",
       "0           1\n",
       "1           0\n",
       "2           0\n",
       "3           0\n",
       "4           0\n",
       "5           0\n",
       "6           1\n",
       "7           0\n",
       "8           1\n",
       "9           1"
      ]
     },
     "execution_count": 14,
     "metadata": {},
     "output_type": "execute_result"
    }
   ],
   "source": [
    "y_data_raw_list[2][1].head(10)"
   ]
  },
  {
   "cell_type": "code",
   "execution_count": 15,
   "metadata": {
    "execution": {
     "iopub.execute_input": "2022-01-07T19:15:23.067720Z",
     "iopub.status.busy": "2022-01-07T19:15:23.067368Z",
     "iopub.status.idle": "2022-01-07T19:15:24.701513Z",
     "shell.execute_reply": "2022-01-07T19:15:24.697111Z",
     "shell.execute_reply.started": "2022-01-07T19:15:23.067699Z"
    },
    "tags": []
   },
   "outputs": [
    {
     "data": {
      "image/png": "[encoded data removed]",
      "text/plain": [
       "<IPython.core.display.Image object>"
      ]
     },
     "execution_count": 15,
     "metadata": {},
     "output_type": "execute_result"
    }
   ],
   "source": [
    "plot_tree_from_parameters(y_data_list[0][0].values, config)"
   ]
  },
  {
   "cell_type": "code",
   "execution_count": 16,
   "metadata": {
    "ExecuteTime": {
     "end_time": "2021-01-14T12:59:22.156778Z",
     "start_time": "2021-01-14T12:57:34.187753Z"
    },
    "execution": {
     "iopub.execute_input": "2022-01-07T19:15:24.703477Z",
     "iopub.status.busy": "2022-01-07T19:15:24.703187Z",
     "iopub.status.idle": "2022-01-07T19:15:25.242006Z",
     "shell.execute_reply": "2022-01-07T19:15:25.241278Z",
     "shell.execute_reply.started": "2022-01-07T19:15:24.703443Z"
    },
    "tags": []
   },
   "outputs": [],
   "source": [
    "path_functions = './data/saved_function_lists/functions_' + path_identifier_function_data + '.csv'\n",
    "function_df.to_csv(path_functions, index=False)\n",
    "\n",
    "path_X_data = './data/saved_function_lists/X_data_' + path_identifier_function_data + '.pkl'\n",
    "with open(path_X_data, 'wb') as f:\n",
    "    pickle.dump(X_data_list, f)\n",
    "    \n",
    "path_y_data = './data/saved_function_lists/y_data_' + path_identifier_function_data + '.pkl'\n",
    "with open(path_y_data, 'wb') as f:\n",
    "    pickle.dump(y_data_list, f)\n"
   ]
  }
 ],
 "metadata": {
  "kernelspec": {
   "display_name": "Python 3 (ipykernel)",
   "language": "python",
   "name": "python3"
  },
  "language_info": {
   "codemirror_mode": {
    "name": "ipython",
    "version": 3
   },
   "file_extension": ".py",
   "mimetype": "text/x-python",
   "name": "python",
   "nbconvert_exporter": "python",
   "pygments_lexer": "ipython3",
   "version": "3.8.0"
  }
 },
 "nbformat": 4,
 "nbformat_minor": 4
}
