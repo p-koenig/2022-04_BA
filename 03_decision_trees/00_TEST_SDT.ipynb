{
 "cells": [
  {
   "cell_type": "markdown",
   "metadata": {},
   "source": [
    "# Function Generation for the Training of λ-Nets"
   ]
  },
  {
   "cell_type": "markdown",
   "metadata": {
    "ExecuteTime": {
     "end_time": "2020-09-16T12:26:49.061308Z",
     "start_time": "2020-09-16T12:26:49.055692Z"
    }
   },
   "source": [
    "## Specitication of Experiment Settings"
   ]
  },
  {
   "cell_type": "code",
   "execution_count": 1,
   "metadata": {},
   "outputs": [],
   "source": [
    "from sklearn.datasets import load_iris, load_breast_cancer\n",
    "from sklearn.model_selection import train_test_split\n",
    "from sklearn.preprocessing import MinMaxScaler\n",
    "from utilities.DecisionTree_BASIC import SDT\n",
    "from sklearn.metrics import accuracy_score\n",
    "from sklearn.tree import plot_tree\n",
    "from matplotlib import pyplot as plt\n",
    "from IPython.display import Image\n",
    "import tensorflow as tf\n",
    "\n",
    "import numpy as np\n",
    "import torch\n",
    "\n",
    "from utilities.utility_functions import *\n",
    "\n",
    "np.set_printoptions(suppress=True)\n",
    "torch.set_printoptions(sci_mode=False)"
   ]
  },
  {
   "cell_type": "code",
   "execution_count": 11,
   "metadata": {},
   "outputs": [],
   "source": [
    "t1 = tf.constant([1,2,3,4, 6, 6])"
   ]
  },
  {
   "cell_type": "code",
   "execution_count": 8,
   "metadata": {},
   "outputs": [
    {
     "data": {
      "text/plain": [
       "array([[1, 3],\n",
       "       [2, 4]], dtype=int32)"
      ]
     },
     "execution_count": 8,
     "metadata": {},
     "output_type": "execute_result"
    }
   ],
   "source": [
    "np.transpose(tf.split(t1, 2))"
   ]
  },
  {
   "cell_type": "code",
   "execution_count": 15,
   "metadata": {},
   "outputs": [
    {
     "data": {
      "text/plain": [
       "3"
      ]
     },
     "execution_count": 15,
     "metadata": {},
     "output_type": "execute_result"
    }
   ],
   "source": [
    "tf.transpose(tf.split(t1, 2)).shape[0]"
   ]
  },
  {
   "cell_type": "code",
   "execution_count": 16,
   "metadata": {},
   "outputs": [
    {
     "data": {
      "text/plain": [
       "[<tf.Tensor: shape=(1, 2), dtype=int32, numpy=array([[1, 4]], dtype=int32)>,\n",
       " <tf.Tensor: shape=(1, 2), dtype=int32, numpy=array([[2, 6]], dtype=int32)>,\n",
       " <tf.Tensor: shape=(1, 2), dtype=int32, numpy=array([[3, 6]], dtype=int32)>]"
      ]
     },
     "execution_count": 16,
     "metadata": {},
     "output_type": "execute_result"
    }
   ],
   "source": [
    "tf.split(tf.transpose(tf.split(t1, 2)), tf.transpose(tf.split(t1, 2)).shape[0])"
   ]
  },
  {
   "cell_type": "code",
   "execution_count": 2,
   "metadata": {},
   "outputs": [],
   "source": [
    "X, y = load_breast_cancer(return_X_y=True)\n",
    "\n",
    "scaler = MinMaxScaler()\n",
    "X = scaler.fit_transform(X)\n",
    "\n",
    "X_train, X_test, y_train, y_test = train_test_split(X, y, test_size=0.33, random_state=42)\n",
    "\n"
   ]
  },
  {
   "cell_type": "code",
   "execution_count": 3,
   "metadata": {},
   "outputs": [],
   "source": [
    "X, y = load_iris(return_X_y=True)\n",
    "\n",
    "scaler = MinMaxScaler()\n",
    "X = scaler.fit_transform(X)\n",
    "\n",
    "X_train, X_test, y_train, y_test = train_test_split(X, y, test_size=0.33, random_state=42)"
   ]
  },
  {
   "cell_type": "code",
   "execution_count": 4,
   "metadata": {},
   "outputs": [],
   "source": [
    "X, y = load_breast_cancer(return_X_y=True)\n",
    "\n",
    "scaler = MinMaxScaler()\n",
    "X = scaler.fit_transform(X)[:,:4]\n",
    "\n",
    "X_train, X_test, y_train, y_test = train_test_split(X, y, test_size=0.33, random_state=42)\n",
    "\n"
   ]
  },
  {
   "cell_type": "code",
   "execution_count": 5,
   "metadata": {},
   "outputs": [
    {
     "data": {
      "text/plain": [
       "(381, 4)"
      ]
     },
     "execution_count": 5,
     "metadata": {},
     "output_type": "execute_result"
    }
   ],
   "source": [
    "X_train.shape"
   ]
  },
  {
   "cell_type": "code",
   "execution_count": 6,
   "metadata": {},
   "outputs": [
    {
     "data": {
      "text/plain": [
       "(188,)"
      ]
     },
     "execution_count": 6,
     "metadata": {},
     "output_type": "execute_result"
    }
   ],
   "source": [
    "y_test.shape"
   ]
  },
  {
   "cell_type": "code",
   "execution_count": 7,
   "metadata": {},
   "outputs": [
    {
     "name": "stdout",
     "output_type": "stream",
     "text": [
      "4\n",
      "2\n"
     ]
    }
   ],
   "source": [
    "print(X_train.shape[1])\n",
    "print(int(max(y_train))+1)"
   ]
  },
  {
   "cell_type": "code",
   "execution_count": 8,
   "metadata": {},
   "outputs": [],
   "source": [
    "depth = 2\n",
    "beta = 1\n",
    "decision_sparsity = 2"
   ]
  },
  {
   "cell_type": "code",
   "execution_count": 9,
   "metadata": {},
   "outputs": [],
   "source": [
    "tree = SDT(input_dim=X_train.shape[1], \n",
    "          output_dim=int(max(y_train))+1, \n",
    "          depth=depth,\n",
    "          beta=beta,\n",
    "          decision_sparsity=-1,\n",
    "          use_cuda=False,\n",
    "          verbosity=1)"
   ]
  },
  {
   "cell_type": "code",
   "execution_count": 10,
   "metadata": {},
   "outputs": [
    {
     "data": {
      "text/plain": [
       "Parameter containing:\n",
       "tensor([[ 0.3823,  0.4150, -0.1171,  0.4593],\n",
       "        [-0.1096,  0.1009, -0.2434,  0.2936],\n",
       "        [ 0.4408, -0.3668,  0.4346,  0.0936]], requires_grad=True)"
      ]
     },
     "execution_count": 10,
     "metadata": {},
     "output_type": "execute_result"
    }
   ],
   "source": [
    "tree.inner_nodes[0].weight"
   ]
  },
  {
   "cell_type": "code",
   "execution_count": 11,
   "metadata": {},
   "outputs": [
    {
     "data": {
      "text/plain": [
       "Parameter containing:\n",
       "tensor([0.3694, 0.0677, 0.2411], requires_grad=True)"
      ]
     },
     "execution_count": 11,
     "metadata": {},
     "output_type": "execute_result"
    }
   ],
   "source": [
    "tree.inner_nodes[0].bias"
   ]
  },
  {
   "cell_type": "code",
   "execution_count": 12,
   "metadata": {},
   "outputs": [
    {
     "data": {
      "text/plain": [
       "Parameter containing:\n",
       "tensor([[-0.0706,  0.3854,  0.0739, -0.2334],\n",
       "        [ 0.1274, -0.2304, -0.0586, -0.2031]], requires_grad=True)"
      ]
     },
     "execution_count": 12,
     "metadata": {},
     "output_type": "execute_result"
    }
   ],
   "source": [
    "tree.leaf_nodes.weight"
   ]
  },
  {
   "cell_type": "code",
   "execution_count": 13,
   "metadata": {},
   "outputs": [
    {
     "data": {
      "image/png": "[encoded data removed]",
      "text/plain": [
       "<IPython.core.display.Image object>"
      ]
     },
     "execution_count": 13,
     "metadata": {},
     "output_type": "execute_result"
    }
   ],
   "source": [
    "tree.plot_tree()"
   ]
  },
  {
   "cell_type": "code",
   "execution_count": null,
   "metadata": {},
   "outputs": [],
   "source": []
  },
  {
   "cell_type": "code",
   "execution_count": 14,
   "metadata": {},
   "outputs": [
    {
     "data": {
      "application/vnd.jupyter.widget-view+json": {
       "model_id": "fc185473e74041cfa60ca900d11ce7e7",
       "version_major": 2,
       "version_minor": 0
      },
      "text/plain": [
       "  0%|          | 0/10 [00:00<?, ?it/s]"
      ]
     },
     "metadata": {},
     "output_type": "display_data"
    },
    {
     "name": "stdout",
     "output_type": "stream",
     "text": [
      "Epoch: 00 | Loss: 0.68602 | Correct: 238/381\n",
      "Epoch: 01 | Loss: 0.65127 | Correct: 292/381\n",
      "Epoch: 02 | Loss: 0.60900 | Correct: 316/381\n",
      "Epoch: 03 | Loss: 0.55799 | Correct: 330/381\n",
      "Epoch: 04 | Loss: 0.51272 | Correct: 334/381\n",
      "Epoch: 05 | Loss: 0.47619 | Correct: 334/381\n",
      "Epoch: 06 | Loss: 0.44399 | Correct: 335/381\n",
      "Epoch: 07 | Loss: 0.41757 | Correct: 336/381\n",
      "Epoch: 08 | Loss: 0.39878 | Correct: 336/381\n",
      "Epoch: 09 | Loss: 0.38461 | Correct: 336/381\n"
     ]
    }
   ],
   "source": [
    "tree.fit(X_train[:], y_train[:], batch_size=32, epochs=10)"
   ]
  },
  {
   "cell_type": "code",
   "execution_count": 15,
   "metadata": {},
   "outputs": [
    {
     "data": {
      "image/png": "[encoded data removed]",
      "text/plain": [
       "<IPython.core.display.Image object>"
      ]
     },
     "execution_count": 15,
     "metadata": {},
     "output_type": "execute_result"
    }
   ],
   "source": [
    "tree.plot_tree()"
   ]
  },
  {
   "cell_type": "code",
   "execution_count": 16,
   "metadata": {},
   "outputs": [
    {
     "name": "stdout",
     "output_type": "stream",
     "text": [
      "\n",
      "Testing Accuracy: 170.0/188 (90.426%)\n",
      "\n"
     ]
    },
    {
     "data": {
      "text/plain": [
       "0.9042553191489362"
      ]
     },
     "execution_count": 16,
     "metadata": {},
     "output_type": "execute_result"
    }
   ],
   "source": [
    "tree.evaluate(X_test, y_test)"
   ]
  },
  {
   "cell_type": "code",
   "execution_count": 17,
   "metadata": {},
   "outputs": [
    {
     "data": {
      "text/plain": [
       "Parameter containing:\n",
       "tensor([[     1.1842,      1.3815,      0.7384,      1.1463],\n",
       "        [    -1.0549,     -0.2799,     -1.2324,     -0.8532],\n",
       "        [    -0.0011,     -0.0008,     -0.0010,      0.0003]],\n",
       "       requires_grad=True)"
      ]
     },
     "execution_count": 17,
     "metadata": {},
     "output_type": "execute_result"
    }
   ],
   "source": [
    "tree.inner_nodes[0].weight"
   ]
  },
  {
   "cell_type": "code",
   "execution_count": 18,
   "metadata": {},
   "outputs": [
    {
     "data": {
      "text/plain": [
       "Parameter containing:\n",
       "tensor([[    -1.1722,      1.3501,     -0.0001,     -0.0000],\n",
       "        [     1.2290,     -1.1980,     -0.0001,     -0.0004]],\n",
       "       requires_grad=True)"
      ]
     },
     "execution_count": 18,
     "metadata": {},
     "output_type": "execute_result"
    }
   ],
   "source": [
    "tree.leaf_nodes.weight"
   ]
  },
  {
   "cell_type": "code",
   "execution_count": 19,
   "metadata": {},
   "outputs": [],
   "source": [
    "tree = SDT(input_dim=X_train.shape[1], \n",
    "          output_dim=int(max(y_train))+1, \n",
    "          depth=depth,\n",
    "          beta=beta,\n",
    "          decision_sparsity=decision_sparsity,\n",
    "          use_cuda=False,\n",
    "          verbosity=1)"
   ]
  },
  {
   "cell_type": "code",
   "execution_count": 20,
   "metadata": {},
   "outputs": [
    {
     "data": {
      "text/plain": [
       "array([2, 3])"
      ]
     },
     "execution_count": 20,
     "metadata": {},
     "output_type": "execute_result"
    }
   ],
   "source": [
    "np.array([[1,2,3,4], [1,2,3,4]])[0][[1,2]]"
   ]
  },
  {
   "cell_type": "code",
   "execution_count": 21,
   "metadata": {},
   "outputs": [
    {
     "data": {
      "text/plain": [
       "(array([2, 3]),)"
      ]
     },
     "execution_count": 21,
     "metadata": {},
     "output_type": "execute_result"
    }
   ],
   "source": [
    "largest_indices(np.array([1,3,5,4]), 2)"
   ]
  },
  {
   "cell_type": "code",
   "execution_count": 22,
   "metadata": {
    "tags": []
   },
   "outputs": [
    {
     "data": {
      "application/vnd.jupyter.widget-view+json": {
       "model_id": "dd28f1bdbccc46e6ae45942834fb7c60",
       "version_major": 2,
       "version_minor": 0
      },
      "text/plain": [
       "  0%|          | 0/10 [00:00<?, ?it/s]"
      ]
     },
     "metadata": {},
     "output_type": "display_data"
    },
    {
     "name": "stdout",
     "output_type": "stream",
     "text": [
      "Epoch: 00 | Loss: 0.68703 | Correct: 236/381\n",
      "Epoch: 01 | Loss: 0.68153 | Correct: 236/381\n",
      "Epoch: 02 | Loss: 0.67716 | Correct: 236/381\n",
      "Epoch: 03 | Loss: 0.67423 | Correct: 236/381\n",
      "Epoch: 04 | Loss: 0.67264 | Correct: 236/381\n",
      "Epoch: 05 | Loss: 0.67191 | Correct: 236/381\n",
      "Epoch: 06 | Loss: 0.67159 | Correct: 236/381\n",
      "Epoch: 07 | Loss: 0.67142 | Correct: 236/381\n",
      "Epoch: 08 | Loss: 0.67131 | Correct: 236/381\n",
      "Epoch: 09 | Loss: 0.67123 | Correct: 236/381\n"
     ]
    }
   ],
   "source": [
    "tree.fit(X_train[:], y_train[:], batch_size=32, epochs=10)"
   ]
  },
  {
   "cell_type": "code",
   "execution_count": 23,
   "metadata": {},
   "outputs": [
    {
     "data": {
      "image/png": "[encoded data removed]",
      "text/plain": [
       "<IPython.core.display.Image object>"
      ]
     },
     "execution_count": 23,
     "metadata": {},
     "output_type": "execute_result"
    }
   ],
   "source": [
    "tree.plot_tree()"
   ]
  },
  {
   "cell_type": "code",
   "execution_count": 24,
   "metadata": {},
   "outputs": [
    {
     "name": "stdout",
     "output_type": "stream",
     "text": [
      "\n",
      "Testing Accuracy: 121.0/188 (64.362%)\n",
      "\n"
     ]
    },
    {
     "data": {
      "text/plain": [
       "0.6436170212765957"
      ]
     },
     "execution_count": 24,
     "metadata": {},
     "output_type": "execute_result"
    }
   ],
   "source": [
    "tree.evaluate(X_test, y_test)"
   ]
  },
  {
   "cell_type": "code",
   "execution_count": 25,
   "metadata": {},
   "outputs": [
    {
     "data": {
      "text/plain": [
       "Parameter containing:\n",
       "tensor([[ 0.0000,  0.4250,  0.0000,  0.4493],\n",
       "        [ 0.0000,  0.0000, -0.2334,  0.2836],\n",
       "        [ 0.4308,  0.0000,  0.4246,  0.0000]], requires_grad=True)"
      ]
     },
     "execution_count": 25,
     "metadata": {},
     "output_type": "execute_result"
    }
   ],
   "source": [
    "tree.inner_nodes[0].weight"
   ]
  },
  {
   "cell_type": "code",
   "execution_count": 26,
   "metadata": {},
   "outputs": [
    {
     "data": {
      "text/plain": [
       "Parameter containing:\n",
       "tensor([[    -0.4465,      0.0010,     -0.0001,     -0.0000],\n",
       "        [     0.5026,     -0.0001,     -0.0001,     -0.0004]],\n",
       "       requires_grad=True)"
      ]
     },
     "execution_count": 26,
     "metadata": {},
     "output_type": "execute_result"
    }
   ],
   "source": [
    "tree.leaf_nodes.weight"
   ]
  },
  {
   "cell_type": "code",
   "execution_count": 27,
   "metadata": {},
   "outputs": [],
   "source": [
    "from sklearn.tree import DecisionTreeClassifier\n",
    "tree_sk = DecisionTreeClassifier(max_depth=depth)"
   ]
  },
  {
   "cell_type": "code",
   "execution_count": 28,
   "metadata": {},
   "outputs": [
    {
     "data": {
      "text/plain": [
       "DecisionTreeClassifier(max_depth=2)"
      ]
     },
     "execution_count": 28,
     "metadata": {},
     "output_type": "execute_result"
    }
   ],
   "source": [
    "tree_sk.fit(X_train, y_train)"
   ]
  },
  {
   "cell_type": "code",
   "execution_count": 29,
   "metadata": {},
   "outputs": [
    {
     "name": "stdout",
     "output_type": "stream",
     "text": [
      "Accuracy : 0.8882978723404256\n"
     ]
    }
   ],
   "source": [
    "from sklearn.metrics import accuracy_score\n",
    "y_pred =  tree_sk.predict(X_test)\n",
    "\n",
    "print('Accuracy :',  accuracy_score(y_test, y_pred))"
   ]
  },
  {
   "cell_type": "code",
   "execution_count": 30,
   "metadata": {},
   "outputs": [
    {
     "data": {
      "text/plain": [
       "[Text(167.4, 181.2, 'X[2] <= 0.339\\ngini = 0.471\\nsamples = 381\\nvalue = [145, 236]'),\n",
       " Text(83.7, 108.72, 'X[2] <= 0.287\\ngini = 0.17\\nsamples = 234\\nvalue = [22, 212]'),\n",
       " Text(41.85, 36.23999999999998, 'gini = 0.101\\nsamples = 187\\nvalue = [10, 177]'),\n",
       " Text(125.55000000000001, 36.23999999999998, 'gini = 0.38\\nsamples = 47\\nvalue = [12, 35]'),\n",
       " Text(251.10000000000002, 108.72, 'X[1] <= 0.233\\ngini = 0.273\\nsamples = 147\\nvalue = [123, 24]'),\n",
       " Text(209.25, 36.23999999999998, 'gini = 0.432\\nsamples = 19\\nvalue = [6, 13]'),\n",
       " Text(292.95, 36.23999999999998, 'gini = 0.157\\nsamples = 128\\nvalue = [117, 11]')]"
      ]
     },
     "execution_count": 30,
     "metadata": {},
     "output_type": "execute_result"
    },
    {
     "data": {
      "image/png": "[encoded data removed]",
      "text/plain": [
       "<Figure size 432x288 with 1 Axes>"
      ]
     },
     "metadata": {
      "needs_background": "light"
     },
     "output_type": "display_data"
    }
   ],
   "source": [
    "from sklearn import tree as sklearn_tree\n",
    "sklearn_tree.plot_tree(tree_sk) "
   ]
  },
  {
   "cell_type": "code",
   "execution_count": 31,
   "metadata": {},
   "outputs": [],
   "source": [
    "config = {\n",
    "    'function_family': {},\n",
    "    'data': {},\n",
    "    'i_net': {}\n",
    "}"
   ]
  },
  {
   "cell_type": "code",
   "execution_count": 32,
   "metadata": {},
   "outputs": [],
   "source": [
    "config['data']['number_of_variables'] = X_train.shape[1]\n",
    "config['data']['num_classes'] = int(max(y_train))+1\n",
    "config['function_family']['maximum_depth'] = depth\n",
    "config['function_family']['decision_sparsity'] = decision_sparsity\n",
    "config['i_net']['function_representation_type'] = 2\n"
   ]
  },
  {
   "cell_type": "code",
   "execution_count": 33,
   "metadata": {},
   "outputs": [
    {
     "data": {
      "text/plain": [
       "array([ 0.        ,  0.42500383,  0.        ,  0.4493059 ,  0.        ,\n",
       "        0.        , -0.23342852,  0.28364155,  0.43077186,  0.        ,\n",
       "        0.4245985 ,  0.        ,  1.0395269 ,  0.4781834 , -0.09225046,\n",
       "       -0.44651178,  0.50258726,  0.00096973, -0.00007192, -0.00008686,\n",
       "       -0.0000865 , -0.00000251, -0.00039681], dtype=float32)"
      ]
     },
     "execution_count": 33,
     "metadata": {},
     "output_type": "execute_result"
    }
   ],
   "source": [
    "flat_parameters = tree.to_array()\n",
    "flat_parameters"
   ]
  },
  {
   "cell_type": "code",
   "execution_count": 34,
   "metadata": {},
   "outputs": [
    {
     "name": "stdout",
     "output_type": "stream",
     "text": [
      "self.internal_node_num_ 3\n",
      "i 0\n",
      "topk [3 1]\n",
      "top_value_index 3\n",
      "top_value_index 1\n",
      "i 1\n",
      "topk [3 2]\n",
      "top_value_index 3\n",
      "top_value_index 2\n",
      "i 2\n",
      "topk [0 2]\n",
      "top_value_index 0\n",
      "top_value_index 2\n"
     ]
    },
    {
     "data": {
      "text/plain": [
       "array([ 0.4493059 ,  0.42500383,  0.28364155, -0.23342852,  0.43077186,\n",
       "        0.4245985 ,  0.        ,  0.        ,  0.        ,  1.        ,\n",
       "        0.        ,  1.        ,  0.        ,  0.        ,  0.        ,\n",
       "        0.        ,  0.        ,  1.        ,  0.        ,  0.        ,\n",
       "        1.        ,  0.        ,  1.        ,  0.        ,  0.        ,\n",
       "        0.        ,  0.        ,  0.        ,  1.        ,  0.        ,\n",
       "        1.0395269 ,  0.4781834 , -0.09225046, -0.44651178,  0.50258726,\n",
       "        0.00096973, -0.00007192, -0.00008686, -0.0000865 , -0.00000251,\n",
       "       -0.00039681], dtype=float32)"
      ]
     },
     "execution_count": 34,
     "metadata": {},
     "output_type": "execute_result"
    }
   ],
   "source": [
    "flat_parameters = tree.to_array(config)\n",
    "flat_parameters"
   ]
  },
  {
   "cell_type": "code",
   "execution_count": null,
   "metadata": {},
   "outputs": [
    {
     "name": "stdout",
     "output_type": "stream",
     "text": [
      "(6,)\n",
      "(24,)\n",
      "(3,)\n",
      "(8,)\n",
      "weights_coeff_list_by_internal_node tf.Tensor(\n",
      "[[ 0.4493059   0.28364155  0.43077186]\n",
      " [ 0.42500383 -0.23342852  0.4245985 ]], shape=(2, 3), dtype=float32)\n",
      "weights_index_list_by_internal_node tf.Tensor(\n",
      "[[0. 0. 1.]\n",
      " [0. 0. 0.]\n",
      " [0. 0. 0.]\n",
      " [1. 1. 0.]\n",
      " [0. 0. 0.]\n",
      " [1. 0. 0.]\n",
      " [0. 1. 1.]\n",
      " [0. 0. 0.]], shape=(8, 3), dtype=float32)\n",
      "weights_index_list_by_internal_node_by_var [<tf.Tensor: shape=(2, 3), dtype=float32, numpy=\n",
      "array([[0., 0., 1.],\n",
      "       [0., 0., 0.]], dtype=float32)>, <tf.Tensor: shape=(2, 3), dtype=float32, numpy=\n",
      "array([[0., 0., 0.],\n",
      "       [1., 1., 0.]], dtype=float32)>, <tf.Tensor: shape=(2, 3), dtype=float32, numpy=\n",
      "array([[0., 0., 0.],\n",
      "       [1., 0., 0.]], dtype=float32)>, <tf.Tensor: shape=(2, 3), dtype=float32, numpy=\n",
      "array([[0., 1., 1.],\n",
      "       [0., 0., 0.]], dtype=float32)>]\n",
      "weights_index_list_by_internal_node_by_var [<tf.Tensor: shape=(3, 2), dtype=float32, numpy=\n",
      "array([[0., 0.],\n",
      "       [0., 0.],\n",
      "       [1., 0.]], dtype=float32)>, <tf.Tensor: shape=(3, 2), dtype=float32, numpy=\n",
      "array([[0., 1.],\n",
      "       [0., 1.],\n",
      "       [0., 0.]], dtype=float32)>, <tf.Tensor: shape=(3, 2), dtype=float32, numpy=\n",
      "array([[0., 1.],\n",
      "       [0., 0.],\n",
      "       [0., 0.]], dtype=float32)>, <tf.Tensor: shape=(3, 2), dtype=float32, numpy=\n",
      "array([[0., 0.],\n",
      "       [1., 0.],\n",
      "       [1., 0.]], dtype=float32)>]\n",
      "coeff_index_by_internal_node_by_var_list tf.Tensor(\n",
      "[[0 1 1 0]\n",
      " [0 1 0 0]\n",
      " [0 0 0 0]], shape=(3, 4), dtype=int64)\n"
     ]
    }
   ],
   "source": [
    "get_shaped_parameters_for_decision_tree(flat_parameters, config)"
   ]
  },
  {
   "cell_type": "code",
   "execution_count": null,
   "metadata": {},
   "outputs": [],
   "source": []
  },
  {
   "cell_type": "code",
   "execution_count": null,
   "metadata": {},
   "outputs": [],
   "source": []
  },
  {
   "cell_type": "code",
   "execution_count": null,
   "metadata": {},
   "outputs": [],
   "source": []
  },
  {
   "cell_type": "code",
   "execution_count": null,
   "metadata": {},
   "outputs": [],
   "source": [
    "zeros = tf.zeros((4,3))\n",
    "zeros"
   ]
  },
  {
   "cell_type": "code",
   "execution_count": null,
   "metadata": {},
   "outputs": [],
   "source": [
    "indices = [2,1]\n",
    "indices = tf.cast(tf.reshape(tf.sort(tf.constant(indices)), (-1,1)), tf.int64)\n",
    "indices"
   ]
  },
  {
   "cell_type": "code",
   "execution_count": null,
   "metadata": {},
   "outputs": [],
   "source": [
    "values = tf.constant([1.3,2.3])"
   ]
  },
  {
   "cell_type": "code",
   "execution_count": null,
   "metadata": {},
   "outputs": [],
   "source": [
    "sparse = tf.sparse.SparseTensor(indices=indices, values=[3,2], dense_shape=[3])\n",
    "sparse"
   ]
  },
  {
   "cell_type": "code",
   "execution_count": null,
   "metadata": {},
   "outputs": [],
   "source": [
    "dense = tf.sparse.to_dense(sparse)\n",
    "dense"
   ]
  },
  {
   "cell_type": "code",
   "execution_count": null,
   "metadata": {},
   "outputs": [],
   "source": [
    "zeros[0][1] = 1"
   ]
  },
  {
   "cell_type": "code",
   "execution_count": null,
   "metadata": {},
   "outputs": [],
   "source": [
    "tf.gather(zeros[0], [1,2])"
   ]
  },
  {
   "cell_type": "code",
   "execution_count": null,
   "metadata": {},
   "outputs": [],
   "source": [
    "zeros[[0,0], [1,1]]"
   ]
  },
  {
   "cell_type": "code",
   "execution_count": null,
   "metadata": {},
   "outputs": [],
   "source": [
    "zeros[1] = 1.3\n",
    "zeros"
   ]
  },
  {
   "cell_type": "code",
   "execution_count": null,
   "metadata": {},
   "outputs": [],
   "source": [
    "zeros[indices] = values"
   ]
  },
  {
   "cell_type": "code",
   "execution_count": null,
   "metadata": {},
   "outputs": [],
   "source": [
    "tree = SDT(input_dim=X_train.shape[1], \n",
    "          output_dim=int(max(y_train))+1, \n",
    "          depth=2,\n",
    "          beta=1,\n",
    "          decision_sparsity=-1,\n",
    "          use_cuda=False,\n",
    "          verbosity=1)"
   ]
  },
  {
   "cell_type": "code",
   "execution_count": null,
   "metadata": {},
   "outputs": [],
   "source": [
    "tree.inner_nodes[0].weight"
   ]
  },
  {
   "cell_type": "code",
   "execution_count": null,
   "metadata": {
    "tags": []
   },
   "outputs": [],
   "source": [
    "tree.evaluate(X_test, y_test)"
   ]
  },
  {
   "cell_type": "code",
   "execution_count": null,
   "metadata": {},
   "outputs": [],
   "source": [
    "%load_ext autoreload"
   ]
  },
  {
   "cell_type": "code",
   "execution_count": null,
   "metadata": {},
   "outputs": [],
   "source": [
    "%autoreload 2\n",
    "tree.plot_tree()"
   ]
  },
  {
   "cell_type": "code",
   "execution_count": null,
   "metadata": {},
   "outputs": [],
   "source": [
    "tree.predict([[0,0,0,-2]])"
   ]
  },
  {
   "cell_type": "code",
   "execution_count": null,
   "metadata": {},
   "outputs": [],
   "source": [
    "value=2\n",
    "feature_index = 3"
   ]
  },
  {
   "cell_type": "code",
   "execution_count": null,
   "metadata": {},
   "outputs": [],
   "source": [
    "import tensorflow as tf"
   ]
  },
  {
   "cell_type": "code",
   "execution_count": null,
   "metadata": {},
   "outputs": [],
   "source": []
  },
  {
   "cell_type": "code",
   "execution_count": null,
   "metadata": {},
   "outputs": [],
   "source": [
    "prob1 = tf.math.sigmoid(value*tree.inner_nodes[0].weight[0][feature_index].detach().numpy()+tree.inner_nodes[0].bias[0].detach().numpy())*tf.math.sigmoid(value*tree.inner_nodes[0].weight[1][feature_index].detach().numpy()+tree.inner_nodes[0].bias[1].detach().numpy())\n",
    "prob1"
   ]
  },
  {
   "cell_type": "code",
   "execution_count": null,
   "metadata": {},
   "outputs": [],
   "source": [
    "prob2 = tf.math.sigmoid(value*tree.inner_nodes[0].weight[0][feature_index].detach().numpy()+tree.inner_nodes[0].bias[0].detach().numpy())*(1-tf.math.sigmoid(value*tree.inner_nodes[0].weight[1][feature_index].detach().numpy()+tree.inner_nodes[0].bias[1].detach().numpy()))\n",
    "prob2"
   ]
  },
  {
   "cell_type": "code",
   "execution_count": null,
   "metadata": {
    "tags": []
   },
   "outputs": [],
   "source": [
    "prob3 = (1-tf.math.sigmoid(value*tree.inner_nodes[0].weight[0][feature_index].detach().numpy()+tree.inner_nodes[0].bias[0].detach().numpy()))*tf.math.sigmoid(value*tree.inner_nodes[0].weight[2][feature_index].detach().numpy()+tree.inner_nodes[0].bias[2].detach().numpy())\n",
    "prob3"
   ]
  },
  {
   "cell_type": "code",
   "execution_count": null,
   "metadata": {},
   "outputs": [],
   "source": [
    "prob4 = (1-tf.math.sigmoid(value*tree.inner_nodes[0].weight[0][feature_index].detach().numpy()+tree.inner_nodes[0].bias[0].detach().numpy()))*(1-tf.math.sigmoid(value*tree.inner_nodes[0].weight[2][feature_index].detach().numpy()+tree.inner_nodes[0].bias[2].detach().numpy()))\n",
    "prob4"
   ]
  },
  {
   "cell_type": "code",
   "execution_count": null,
   "metadata": {},
   "outputs": [],
   "source": []
  },
  {
   "cell_type": "code",
   "execution_count": null,
   "metadata": {},
   "outputs": [],
   "source": [
    "o1 = prob1*tree.leaf_nodes.weight.T[0].detach().numpy()\n",
    "o1"
   ]
  },
  {
   "cell_type": "code",
   "execution_count": null,
   "metadata": {},
   "outputs": [],
   "source": [
    "o2 = prob2*tree.leaf_nodes.weight.T[1].detach().numpy()\n",
    "o2"
   ]
  },
  {
   "cell_type": "code",
   "execution_count": null,
   "metadata": {},
   "outputs": [],
   "source": [
    "o3 = prob3*tree.leaf_nodes.weight.T[2].detach().numpy()\n",
    "o3"
   ]
  },
  {
   "cell_type": "code",
   "execution_count": null,
   "metadata": {},
   "outputs": [],
   "source": [
    "o4 = prob4*tree.leaf_nodes.weight.T[3].detach().numpy()\n",
    "o4"
   ]
  },
  {
   "cell_type": "code",
   "execution_count": null,
   "metadata": {},
   "outputs": [],
   "source": [
    "tf.nn.softmax(tf.reduce_sum([o1, o2, o3, o4], axis=0))"
   ]
  },
  {
   "cell_type": "code",
   "execution_count": null,
   "metadata": {},
   "outputs": [],
   "source": [
    "tf.nn.softmax(o1)"
   ]
  },
  {
   "cell_type": "code",
   "execution_count": null,
   "metadata": {},
   "outputs": [],
   "source": [
    "tree.inner_nodes[0].weight"
   ]
  },
  {
   "cell_type": "code",
   "execution_count": null,
   "metadata": {},
   "outputs": [],
   "source": []
  },
  {
   "cell_type": "code",
   "execution_count": null,
   "metadata": {},
   "outputs": [],
   "source": []
  },
  {
   "cell_type": "code",
   "execution_count": null,
   "metadata": {},
   "outputs": [],
   "source": [
    "tf.math.sigmoid(2*1.115+0.014)"
   ]
  },
  {
   "cell_type": "code",
   "execution_count": null,
   "metadata": {},
   "outputs": [],
   "source": [
    "tf.math.sigmoid(2*1.01-0.142)"
   ]
  },
  {
   "cell_type": "code",
   "execution_count": null,
   "metadata": {},
   "outputs": [],
   "source": [
    "%autoreload 2\n",
    "\n",
    "parameters = tree.to_array()\n",
    "print(parameters)"
   ]
  },
  {
   "cell_type": "code",
   "execution_count": null,
   "metadata": {},
   "outputs": [],
   "source": []
  },
  {
   "cell_type": "code",
   "execution_count": null,
   "metadata": {},
   "outputs": [],
   "source": []
  }
 ],
 "metadata": {
  "kernelspec": {
   "display_name": "Python 3",
   "language": "python",
   "name": "python3"
  },
  "language_info": {
   "codemirror_mode": {
    "name": "ipython",
    "version": 3
   },
   "file_extension": ".py",
   "mimetype": "text/x-python",
   "name": "python",
   "nbconvert_exporter": "python",
   "pygments_lexer": "ipython3",
   "version": "3.8.8"
  }
 },
 "nbformat": 4,
 "nbformat_minor": 4
}
