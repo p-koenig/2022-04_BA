{
 "cells": [
  {
   "cell_type": "markdown",
   "metadata": {},
   "source": [
    "# Generation of λ-Nets for I-Net training"
   ]
  },
  {
   "cell_type": "markdown",
   "metadata": {},
   "source": [
    "## Specitication of Experiment Settings"
   ]
  },
  {
   "cell_type": "code",
   "execution_count": 1,
   "metadata": {
    "execution": {
     "iopub.execute_input": "2022-03-26T12:08:52.886466Z",
     "iopub.status.busy": "2022-03-26T12:08:52.886288Z",
     "iopub.status.idle": "2022-03-26T12:08:52.895548Z",
     "shell.execute_reply": "2022-03-26T12:08:52.895238Z",
     "shell.execute_reply.started": "2022-03-26T12:08:52.886418Z"
    },
    "tags": []
   },
   "outputs": [],
   "source": [
    "#######################################################################################################################################\n",
    "###################################################### CONFIG FILE ####################################################################\n",
    "#######################################################################################################################################\n",
    "sleep_time = 0 #minutes\n",
    "\n",
    "config = {\n",
    "    'function_family': {\n",
    "        'maximum_depth': 3,\n",
    "        'beta': 1,\n",
    "        'decision_sparsity': 1,\n",
    "        'fully_grown': True,          \n",
    "        'dt_type': 'vanilla', #'vanilla', 'SDT'\n",
    "    },\n",
    "    'data': {\n",
    "        'number_of_variables': 32, \n",
    "        'num_classes': 2,\n",
    "        'categorical_indices': [],\n",
    "        'random_parameters_distribution': True, ##MAKEPATH DIFFERENT FILES\n",
    "        'max_distributions_per_class': 1, # None; 0; int >= 1\n",
    "        'exclude_linearly_seperable': True,\n",
    "        'data_generation_filtering': True,\n",
    "        'fixed_class_probability': True,\n",
    "        'weighted_data_generation': False,\n",
    "        'shift_distrib': True,\n",
    "        \n",
    "        'function_generation_type': 'distribution' ,#'distribution', 'distribution_trained' 'make_classification_distribution', 'make_classification_distribution_trained', 'make_classification', 'make_classification_trained', 'random_decision_tree', 'random_decision_tree_trained'\n",
    "        'distribution_list': ['uniform', 'normal', 'gamma', 'beta', 'poisson'],#['uniform', 'normal', 'gamma', 'exponential', 'beta', 'binomial', 'poisson'], \n",
    "        'objective': 'classification', # 'regression'\n",
    "        \n",
    "        'x_max': 1,\n",
    "        'x_min': 0,\n",
    "        'x_distrib': 'uniform', #'normal', 'uniform',       \n",
    "                \n",
    "        'lambda_dataset_size': 5000, #number of samples per function\n",
    "        'number_of_generated_datasets': 10000,\n",
    "        \n",
    "        'noise_injected_level': 0, \n",
    "        'noise_injected_type': 'flip_percentage', # '' 'normal' 'uniform' 'normal_range' 'uniform_range'\n",
    "        \n",
    "        'data_noise': 0, #None or float\n",
    "        'distrib_param_max': 5,\n",
    "    }, \n",
    "    'lambda_net': {\n",
    "        'epochs_lambda': 1000,\n",
    "        'early_stopping_lambda': True, \n",
    "        'early_stopping_min_delta_lambda': 1e-3,\n",
    "        'batch_lambda': 64,\n",
    "        'dropout_lambda': 0,\n",
    "        'lambda_network_layers': [128],\n",
    "        'use_batchnorm_lambda': False,\n",
    "        \n",
    "        'optimizer_lambda': 'adam',\n",
    "        'loss_lambda': 'binary_crossentropy', #categorical_crossentropy\n",
    "                \n",
    "        'number_initializations_lambda': 1, \n",
    "        \n",
    "        'number_of_trained_lambda_nets': 10000,\n",
    "    },     \n",
    "    'evaluation': {   \n",
    "    },    \n",
    "    \n",
    "    'computation':{\n",
    "        'n_jobs': 12,\n",
    "        'use_gpu': False,\n",
    "        'gpu_numbers': '0',\n",
    "        'RANDOM_SEED': 42,   \n",
    "    }\n",
    "}\n",
    "\n",
    "\n"
   ]
  },
  {
   "cell_type": "code",
   "execution_count": 2,
   "metadata": {
    "execution": {
     "iopub.execute_input": "2022-03-26T12:08:52.896490Z",
     "iopub.status.busy": "2022-03-26T12:08:52.896276Z",
     "iopub.status.idle": "2022-03-26T12:08:52.932705Z",
     "shell.execute_reply": "2022-03-26T12:08:52.932372Z",
     "shell.execute_reply.started": "2022-03-26T12:08:52.896474Z"
    }
   },
   "outputs": [],
   "source": [
    "#######################################################################################################################################\n",
    "########################################### IMPORT GLOBAL VARIABLES FROM CONFIG #######################################################\n",
    "#######################################################################################################################################\n",
    "globals().update(config['function_family'])\n",
    "globals().update(config['data'])\n",
    "globals().update(config['lambda_net'])\n",
    "globals().update(config['evaluation'])\n",
    "globals().update(config['computation'])"
   ]
  },
  {
   "cell_type": "code",
   "execution_count": 3,
   "metadata": {
    "execution": {
     "iopub.execute_input": "2022-03-26T12:08:52.933337Z",
     "iopub.status.busy": "2022-03-26T12:08:52.933220Z",
     "iopub.status.idle": "2022-03-26T12:08:59.356589Z",
     "shell.execute_reply": "2022-03-26T12:08:59.355390Z",
     "shell.execute_reply.started": "2022-03-26T12:08:52.933323Z"
    }
   },
   "outputs": [],
   "source": [
    "import warnings\n",
    "warnings.filterwarnings('ignore')\n",
    "import os\n",
    "os.environ['TF_CPP_MIN_LOG_LEVEL'] = '3' \n",
    "\n",
    "from itertools import product       # forms cartesian products\n",
    "from tqdm import tqdm_notebook as tqdm\n",
    "from more_itertools import random_product \n",
    "import pickle\n",
    "import numpy as np\n",
    "import pandas as pd\n",
    "import timeit\n",
    "import matplotlib.pyplot as plt \n",
    "import time\n",
    "import math\n",
    "import operator\n",
    "from functools import reduce\n",
    "\n",
    "from scipy.signal import argrelextrema\n",
    "\n",
    "import sys\n",
    "\n",
    "import shutil\n",
    "\n",
    "import logging\n",
    "logging.getLogger('tensorflow').disabled = True\n",
    "\n",
    "from joblib import Parallel, delayed\n",
    "\n",
    "\n",
    "from sklearn.model_selection import cross_val_score, train_test_split, StratifiedKFold, KFold\n",
    "from sklearn.metrics import accuracy_score, log_loss, roc_auc_score, f1_score, mean_absolute_error, r2_score\n",
    "#from similaritymeasures import frechet_dist, area_between_two_curves, dtw\n",
    "from IPython.display import Image\n",
    "\n",
    "from livelossplot import PlotLossesKerasTF\n",
    "\n",
    "import seaborn as sns\n",
    "\n",
    "import tensorflow as tf\n",
    "#import tensorflow_addons as tfa\n",
    "import random \n",
    "\n",
    "\n",
    "#import keras\n",
    "import tensorflow.keras.backend as K\n",
    "from tensorflow.keras import Sequential\n",
    "from tensorflow.keras.layers import Dense, Dropout\n",
    "from tensorflow.keras.utils import plot_model\n",
    "from tensorflow.keras.callbacks import EarlyStopping, ModelCheckpoint, ReduceLROnPlateau\n",
    "\n"
   ]
  },
  {
   "cell_type": "code",
   "execution_count": 4,
   "metadata": {
    "execution": {
     "iopub.execute_input": "2022-03-26T12:08:59.358540Z",
     "iopub.status.busy": "2022-03-26T12:08:59.358207Z",
     "iopub.status.idle": "2022-03-26T12:08:59.367655Z",
     "shell.execute_reply": "2022-03-26T12:08:59.366663Z",
     "shell.execute_reply.started": "2022-03-26T12:08:59.358509Z"
    }
   },
   "outputs": [],
   "source": [
    "#######################################################################################################################################\n",
    "###################################################### SET VARIABLES + DESIGN #########################################################\n",
    "#######################################################################################################################################\n",
    "    \n",
    "#os.environ['TF_CPP_MIN_LOG_LEVEL'] = '2' \n",
    "os.environ['CUDA_VISIBLE_DEVICES'] = gpu_numbers if use_gpu else ''\n",
    "os.environ['TF_FORCE_GPU_ALLOW_GROWTH'] = 'true' if use_gpu else ''\n",
    "\n",
    "#os.environ['XLA_FLAGS'] =  '--xla_gpu_cuda_data_dir=/usr/local/cuda-10.1'\n",
    "\n",
    "#os.environ['XLA_FLAGS'] = '--tf_xla_enable_xla_devices'\n",
    "#os.environ['TF_XLA_FLAGS'] = '--tf_xla_enable_xla_devices'\n",
    "\n",
    "os.environ['XLA_FLAGS'] = '--xla_gpu_cuda_data_dir=/usr/local/cuda-11.4' if use_gpu else ''#-10.1' #--xla_gpu_cuda_data_dir=/usr/local/cuda, \n",
    "os.environ['TF_XLA_FLAGS'] = '--tf_xla_auto_jit=2 ,--tf_xla_enable_xla_devices' if use_gpu else ''#'--tf_xla_auto_jit=2' #, --tf_xla_enable_xla_devices\n",
    "\n",
    "\n",
    "sns.set_style(\"darkgrid\")\n",
    "\n",
    "random.seed(RANDOM_SEED)\n",
    "np.random.seed(RANDOM_SEED)\n",
    "np.random.seed(RANDOM_SEED)\n",
    "if int(tf.__version__[0]) >= 2:\n",
    "    tf.random.set_seed(RANDOM_SEED)\n",
    "else:\n",
    "    tf.set_random_seed(RANDOM_SEED)\n",
    "    \n",
    "    \n",
    "pd.set_option('display.float_format', lambda x: '%.3f' % x)\n",
    "pd.set_option('display.max_columns', 200)\n",
    "np.set_printoptions(threshold=200)"
   ]
  },
  {
   "cell_type": "code",
   "execution_count": null,
   "metadata": {},
   "outputs": [],
   "source": []
  },
  {
   "cell_type": "code",
   "execution_count": 5,
   "metadata": {
    "execution": {
     "iopub.execute_input": "2022-03-26T12:08:59.370637Z",
     "iopub.status.busy": "2022-03-26T12:08:59.370012Z",
     "iopub.status.idle": "2022-03-26T12:09:02.244853Z",
     "shell.execute_reply": "2022-03-26T12:09:02.243803Z",
     "shell.execute_reply.started": "2022-03-26T12:08:59.370605Z"
    }
   },
   "outputs": [],
   "source": [
    "from utilities.LambdaNet import *\n",
    "from utilities.metrics import *\n",
    "from utilities.utility_functions import *\n",
    "#######################################################################################################################################\n",
    "####################################################### CONFIG ADJUSTMENTS ############################################################\n",
    "#######################################################################################################################################\n",
    "\n",
    "config['lambda_net']['number_of_lambda_weights'] = get_number_of_lambda_net_parameters(config)\n",
    "    \n",
    "#######################################################################################################################################\n",
    "################################################## UPDATE VARIABLES ###################################################################\n",
    "#######################################################################################################################################\n",
    "globals().update(config['function_family'])\n",
    "globals().update(config['data'])\n",
    "globals().update(config['lambda_net'])\n",
    "globals().update(config['evaluation'])\n",
    "globals().update(config['computation'])\n",
    "\n",
    "#initialize_utility_functions_config_from_curent_notebook(config)\n",
    "#initialize_LambdaNet_config_from_curent_notebook(config)\n",
    "#initialize_metrics_config_from_curent_notebook(config)\n",
    "\n",
    "#######################################################################################################################################\n",
    "###################################################### PATH + FOLDER CREATION #########################################################\n",
    "#######################################################################################################################################\n",
    "globals().update(generate_paths(config, path_type='lambda_net'))\n",
    "generate_directory_structure()\n",
    "generate_lambda_net_directory(config)\n",
    "\n",
    "#######################################################################################################################################\n",
    "############################################################ SLEEP TIMER ##############################################################\n",
    "#######################################################################################################################################\n",
    "sleep_minutes(sleep_time)"
   ]
  },
  {
   "cell_type": "code",
   "execution_count": 6,
   "metadata": {
    "execution": {
     "iopub.execute_input": "2022-03-26T12:09:02.246125Z",
     "iopub.status.busy": "2022-03-26T12:09:02.245973Z",
     "iopub.status.idle": "2022-03-26T12:09:02.250988Z",
     "shell.execute_reply": "2022-03-26T12:09:02.249952Z",
     "shell.execute_reply.started": "2022-03-26T12:09:02.246107Z"
    }
   },
   "outputs": [
    {
     "name": "stdout",
     "output_type": "stream",
     "text": [
      "lNetSize5000_numLNets10000_var32_class2_distribution_xMax1_xMin0_xDistuniform_dNoise0_randParamDist_maxDistClass1_distribParamMax5_filterGen_shiftedun-no-ga-be-po_depth3_beta1_decisionSpars1_vanilla_fullyGrown/128_e1000ES0.001_b64_drop0_adam_binary_crossentropy_fixedInit1-seed42\n",
      "lNetSize5000_numDatasets10000_var32_class2_distribution_xMax1_xMin0_xDistuniform_dNoise0_randParamDist_maxDistClass1_distribParamMax5_filterGen_shiftedun-no-ga-be-po_depth3_beta1_decisionSpars1_vanilla_fullyGrown\n"
     ]
    }
   ],
   "source": [
    "print(path_identifier_lambda_net_data)\n",
    "\n",
    "print(path_identifier_function_data)\n"
   ]
  },
  {
   "cell_type": "code",
   "execution_count": 7,
   "metadata": {
    "execution": {
     "iopub.execute_input": "2022-03-26T12:09:02.252715Z",
     "iopub.status.busy": "2022-03-26T12:09:02.252200Z",
     "iopub.status.idle": "2022-03-26T12:09:02.267643Z",
     "shell.execute_reply": "2022-03-26T12:09:02.266681Z",
     "shell.execute_reply.started": "2022-03-26T12:09:02.252689Z"
    }
   },
   "outputs": [
    {
     "name": "stdout",
     "output_type": "stream",
     "text": [
      "Num GPUs Available:  0\n",
      "Num XLA-GPUs Available:  0\n"
     ]
    }
   ],
   "source": [
    "print(\"Num GPUs Available: \", len(tf.config.experimental.list_physical_devices('GPU')))\n",
    "print(\"Num XLA-GPUs Available: \", len(tf.config.experimental.list_physical_devices('XLA_GPU')))"
   ]
  },
  {
   "cell_type": "code",
   "execution_count": 8,
   "metadata": {
    "execution": {
     "iopub.execute_input": "2022-03-26T12:09:02.269236Z",
     "iopub.status.busy": "2022-03-26T12:09:02.268802Z",
     "iopub.status.idle": "2022-03-26T12:09:02.311127Z",
     "shell.execute_reply": "2022-03-26T12:09:02.310206Z",
     "shell.execute_reply.started": "2022-03-26T12:09:02.269212Z"
    }
   },
   "outputs": [
    {
     "data": {
      "text/plain": [
       "[128]"
      ]
     },
     "execution_count": 8,
     "metadata": {},
     "output_type": "execute_result"
    }
   ],
   "source": [
    "lambda_network_layers"
   ]
  },
  {
   "cell_type": "code",
   "execution_count": 9,
   "metadata": {
    "ExecuteTime": {
     "end_time": "2021-01-17T09:46:11.182937Z",
     "start_time": "2021-01-17T09:44:31.797522Z"
    },
    "execution": {
     "iopub.execute_input": "2022-03-26T12:09:02.312745Z",
     "iopub.status.busy": "2022-03-26T12:09:02.312325Z",
     "iopub.status.idle": "2022-03-26T12:10:56.960148Z",
     "shell.execute_reply": "2022-03-26T12:10:56.959283Z",
     "shell.execute_reply.started": "2022-03-26T12:09:02.312718Z"
    },
    "tags": []
   },
   "outputs": [],
   "source": [
    "path_functions = './data/saved_function_lists/functions_' + path_identifier_function_data + '.csv'\n",
    "function_df = pd.read_csv(path_functions)\n",
    "\n",
    "path_X_data = './data/saved_function_lists/X_data_' + path_identifier_function_data + '.pkl'\n",
    "with open(path_X_data, 'rb') as f:\n",
    "    X_data_list = pickle.load(f)\n",
    "    \n",
    "path_y_data = './data/saved_function_lists/y_data_' + path_identifier_function_data + '.pkl'\n",
    "with open(path_y_data, 'rb') as f:\n",
    "    y_data_list = pickle.load(f)\n",
    "    \n",
    "try:\n",
    "    path_distribution = './data/saved_function_lists/distribution_parameter_list_list_' + path_identifier_function_data + '.pkl'\n",
    "    with open(path_distribution, 'rb') as f:\n",
    "        distribution_parameter_list_list = pickle.load(f)\n",
    "except Exception:\n",
    "    traceback.print_exc()\n",
    "    distribution_parameter_list_list = [[None, None]]*number_of_generated_datasets\n",
    "    \n",
    "if number_of_trained_lambda_nets < number_of_generated_datasets:\n",
    "    function_df = function_df.sample(n=number_of_trained_lambda_nets, random_state=RANDOM_SEED)\n",
    "    random.seed(RANDOM_SEED)\n",
    "    X_data_list = random.sample(X_data_list, number_of_trained_lambda_nets)\n",
    "    random.seed(RANDOM_SEED)\n",
    "    y_data_list = random.sample(y_data_list, number_of_trained_lambda_nets)\n",
    "    random.seed(RANDOM_SEED)\n",
    "    try:\n",
    "        distribution_parameter_list_list = random.sample(distribution_parameter_list_list, number_of_trained_lambda_nets)\n",
    "        random.seed(RANDOM_SEED)\n",
    "    except:\n",
    "        distribution_parameter_list_list = [[None, None]]*number_of_trained_lambda_nets"
   ]
  },
  {
   "cell_type": "markdown",
   "metadata": {},
   "source": [
    "## Data Inspection"
   ]
  },
  {
   "cell_type": "code",
   "execution_count": 10,
   "metadata": {
    "execution": {
     "iopub.execute_input": "2022-03-26T12:10:56.961215Z",
     "iopub.status.busy": "2022-03-26T12:10:56.961069Z",
     "iopub.status.idle": "2022-03-26T12:10:56.976352Z",
     "shell.execute_reply": "2022-03-26T12:10:56.975260Z",
     "shell.execute_reply.started": "2022-03-26T12:10:56.961194Z"
    }
   },
   "outputs": [
    {
     "data": {
      "text/html": [
       "<div>\n",
       "<style scoped>\n",
       "    .dataframe tbody tr th:only-of-type {\n",
       "        vertical-align: middle;\n",
       "    }\n",
       "\n",
       "    .dataframe tbody tr th {\n",
       "        vertical-align: top;\n",
       "    }\n",
       "\n",
       "    .dataframe thead th {\n",
       "        text-align: right;\n",
       "    }\n",
       "</style>\n",
       "<table border=\"1\" class=\"dataframe\">\n",
       "  <thead>\n",
       "    <tr style=\"text-align: right;\">\n",
       "      <th></th>\n",
       "      <th>feat0</th>\n",
       "      <th>feat1</th>\n",
       "      <th>feat2</th>\n",
       "      <th>feat3</th>\n",
       "      <th>feat4</th>\n",
       "      <th>feat5</th>\n",
       "      <th>feat6</th>\n",
       "      <th>split0</th>\n",
       "      <th>split1</th>\n",
       "      <th>split2</th>\n",
       "      <th>split3</th>\n",
       "      <th>split4</th>\n",
       "      <th>split5</th>\n",
       "      <th>split6</th>\n",
       "      <th>lp0</th>\n",
       "      <th>lp1</th>\n",
       "      <th>lp2</th>\n",
       "      <th>lp3</th>\n",
       "      <th>lp4</th>\n",
       "      <th>lp5</th>\n",
       "      <th>lp6</th>\n",
       "      <th>lp7</th>\n",
       "    </tr>\n",
       "  </thead>\n",
       "  <tbody>\n",
       "    <tr>\n",
       "      <th>0</th>\n",
       "      <td>0</td>\n",
       "      <td>0</td>\n",
       "      <td>0</td>\n",
       "      <td>0</td>\n",
       "      <td>0</td>\n",
       "      <td>0</td>\n",
       "      <td>0</td>\n",
       "      <td>0</td>\n",
       "      <td>0</td>\n",
       "      <td>0</td>\n",
       "      <td>0</td>\n",
       "      <td>0</td>\n",
       "      <td>0</td>\n",
       "      <td>0</td>\n",
       "      <td>0</td>\n",
       "      <td>0</td>\n",
       "      <td>0</td>\n",
       "      <td>0</td>\n",
       "      <td>0</td>\n",
       "      <td>0</td>\n",
       "      <td>0</td>\n",
       "      <td>0</td>\n",
       "    </tr>\n",
       "    <tr>\n",
       "      <th>1</th>\n",
       "      <td>0</td>\n",
       "      <td>0</td>\n",
       "      <td>0</td>\n",
       "      <td>0</td>\n",
       "      <td>0</td>\n",
       "      <td>0</td>\n",
       "      <td>0</td>\n",
       "      <td>0</td>\n",
       "      <td>0</td>\n",
       "      <td>0</td>\n",
       "      <td>0</td>\n",
       "      <td>0</td>\n",
       "      <td>0</td>\n",
       "      <td>0</td>\n",
       "      <td>0</td>\n",
       "      <td>0</td>\n",
       "      <td>0</td>\n",
       "      <td>0</td>\n",
       "      <td>0</td>\n",
       "      <td>0</td>\n",
       "      <td>0</td>\n",
       "      <td>0</td>\n",
       "    </tr>\n",
       "    <tr>\n",
       "      <th>2</th>\n",
       "      <td>0</td>\n",
       "      <td>0</td>\n",
       "      <td>0</td>\n",
       "      <td>0</td>\n",
       "      <td>0</td>\n",
       "      <td>0</td>\n",
       "      <td>0</td>\n",
       "      <td>0</td>\n",
       "      <td>0</td>\n",
       "      <td>0</td>\n",
       "      <td>0</td>\n",
       "      <td>0</td>\n",
       "      <td>0</td>\n",
       "      <td>0</td>\n",
       "      <td>0</td>\n",
       "      <td>0</td>\n",
       "      <td>0</td>\n",
       "      <td>0</td>\n",
       "      <td>0</td>\n",
       "      <td>0</td>\n",
       "      <td>0</td>\n",
       "      <td>0</td>\n",
       "    </tr>\n",
       "    <tr>\n",
       "      <th>3</th>\n",
       "      <td>0</td>\n",
       "      <td>0</td>\n",
       "      <td>0</td>\n",
       "      <td>0</td>\n",
       "      <td>0</td>\n",
       "      <td>0</td>\n",
       "      <td>0</td>\n",
       "      <td>0</td>\n",
       "      <td>0</td>\n",
       "      <td>0</td>\n",
       "      <td>0</td>\n",
       "      <td>0</td>\n",
       "      <td>0</td>\n",
       "      <td>0</td>\n",
       "      <td>0</td>\n",
       "      <td>0</td>\n",
       "      <td>0</td>\n",
       "      <td>0</td>\n",
       "      <td>0</td>\n",
       "      <td>0</td>\n",
       "      <td>0</td>\n",
       "      <td>0</td>\n",
       "    </tr>\n",
       "    <tr>\n",
       "      <th>4</th>\n",
       "      <td>0</td>\n",
       "      <td>0</td>\n",
       "      <td>0</td>\n",
       "      <td>0</td>\n",
       "      <td>0</td>\n",
       "      <td>0</td>\n",
       "      <td>0</td>\n",
       "      <td>0</td>\n",
       "      <td>0</td>\n",
       "      <td>0</td>\n",
       "      <td>0</td>\n",
       "      <td>0</td>\n",
       "      <td>0</td>\n",
       "      <td>0</td>\n",
       "      <td>0</td>\n",
       "      <td>0</td>\n",
       "      <td>0</td>\n",
       "      <td>0</td>\n",
       "      <td>0</td>\n",
       "      <td>0</td>\n",
       "      <td>0</td>\n",
       "      <td>0</td>\n",
       "    </tr>\n",
       "  </tbody>\n",
       "</table>\n",
       "</div>"
      ],
      "text/plain": [
       "   feat0  feat1  feat2  feat3  feat4  feat5  feat6  split0  split1  split2  \\\n",
       "0      0      0      0      0      0      0      0       0       0       0   \n",
       "1      0      0      0      0      0      0      0       0       0       0   \n",
       "2      0      0      0      0      0      0      0       0       0       0   \n",
       "3      0      0      0      0      0      0      0       0       0       0   \n",
       "4      0      0      0      0      0      0      0       0       0       0   \n",
       "\n",
       "   split3  split4  split5  split6  lp0  lp1  lp2  lp3  lp4  lp5  lp6  lp7  \n",
       "0       0       0       0       0    0    0    0    0    0    0    0    0  \n",
       "1       0       0       0       0    0    0    0    0    0    0    0    0  \n",
       "2       0       0       0       0    0    0    0    0    0    0    0    0  \n",
       "3       0       0       0       0    0    0    0    0    0    0    0    0  \n",
       "4       0       0       0       0    0    0    0    0    0    0    0    0  "
      ]
     },
     "execution_count": 10,
     "metadata": {},
     "output_type": "execute_result"
    }
   ],
   "source": [
    "function_df.head()"
   ]
  },
  {
   "cell_type": "code",
   "execution_count": 11,
   "metadata": {
    "execution": {
     "iopub.execute_input": "2022-03-26T12:10:56.977892Z",
     "iopub.status.busy": "2022-03-26T12:10:56.977566Z",
     "iopub.status.idle": "2022-03-26T12:10:57.019806Z",
     "shell.execute_reply": "2022-03-26T12:10:57.018504Z",
     "shell.execute_reply.started": "2022-03-26T12:10:56.977855Z"
    }
   },
   "outputs": [
    {
     "data": {
      "text/plain": [
       "feat0     0\n",
       "feat1     0\n",
       "feat2     0\n",
       "feat3     0\n",
       "feat4     0\n",
       "feat5     0\n",
       "feat6     0\n",
       "split0    0\n",
       "split1    0\n",
       "split2    0\n",
       "dtype: int64"
      ]
     },
     "execution_count": 11,
     "metadata": {},
     "output_type": "execute_result"
    }
   ],
   "source": [
    "X_data_list[0][0].head(10)"
   ]
  },
  {
   "cell_type": "code",
   "execution_count": 12,
   "metadata": {
    "ExecuteTime": {
     "end_time": "2021-01-17T09:46:12.626401Z",
     "start_time": "2021-01-17T09:46:12.608200Z"
    },
    "execution": {
     "iopub.execute_input": "2022-03-26T12:10:57.021637Z",
     "iopub.status.busy": "2022-03-26T12:10:57.021366Z",
     "iopub.status.idle": "2022-03-26T12:10:57.108003Z",
     "shell.execute_reply": "2022-03-26T12:10:57.107288Z",
     "shell.execute_reply.started": "2022-03-26T12:10:57.021606Z"
    }
   },
   "outputs": [
    {
     "data": {
      "text/html": [
       "<div>\n",
       "<style scoped>\n",
       "    .dataframe tbody tr th:only-of-type {\n",
       "        vertical-align: middle;\n",
       "    }\n",
       "\n",
       "    .dataframe tbody tr th {\n",
       "        vertical-align: top;\n",
       "    }\n",
       "\n",
       "    .dataframe thead th {\n",
       "        text-align: right;\n",
       "    }\n",
       "</style>\n",
       "<table border=\"1\" class=\"dataframe\">\n",
       "  <thead>\n",
       "    <tr style=\"text-align: right;\">\n",
       "      <th></th>\n",
       "      <th>x0</th>\n",
       "      <th>x1</th>\n",
       "      <th>x2</th>\n",
       "      <th>x3</th>\n",
       "      <th>x4</th>\n",
       "      <th>x5</th>\n",
       "      <th>x6</th>\n",
       "      <th>x7</th>\n",
       "      <th>x8</th>\n",
       "      <th>x9</th>\n",
       "      <th>x10</th>\n",
       "      <th>x11</th>\n",
       "      <th>x12</th>\n",
       "      <th>x13</th>\n",
       "      <th>x14</th>\n",
       "      <th>x15</th>\n",
       "      <th>x16</th>\n",
       "      <th>x17</th>\n",
       "      <th>x18</th>\n",
       "      <th>x19</th>\n",
       "      <th>x20</th>\n",
       "      <th>x21</th>\n",
       "      <th>x22</th>\n",
       "      <th>x23</th>\n",
       "      <th>x24</th>\n",
       "      <th>x25</th>\n",
       "      <th>x26</th>\n",
       "      <th>x27</th>\n",
       "      <th>x28</th>\n",
       "      <th>x29</th>\n",
       "      <th>x30</th>\n",
       "      <th>x31</th>\n",
       "    </tr>\n",
       "  </thead>\n",
       "  <tbody>\n",
       "    <tr>\n",
       "      <th>0</th>\n",
       "      <td>0.000</td>\n",
       "      <td>0.110</td>\n",
       "      <td>0.994</td>\n",
       "      <td>0.250</td>\n",
       "      <td>0.025</td>\n",
       "      <td>0.517</td>\n",
       "      <td>0.333</td>\n",
       "      <td>0.385</td>\n",
       "      <td>0.248</td>\n",
       "      <td>0.000</td>\n",
       "      <td>0.460</td>\n",
       "      <td>0.300</td>\n",
       "      <td>0.559</td>\n",
       "      <td>0.000</td>\n",
       "      <td>0.147</td>\n",
       "      <td>0.551</td>\n",
       "      <td>0.092</td>\n",
       "      <td>0.151</td>\n",
       "      <td>0.125</td>\n",
       "      <td>0.154</td>\n",
       "      <td>0.125</td>\n",
       "      <td>0.167</td>\n",
       "      <td>0.151</td>\n",
       "      <td>0.937</td>\n",
       "      <td>0.200</td>\n",
       "      <td>0.349</td>\n",
       "      <td>0.437</td>\n",
       "      <td>0.700</td>\n",
       "      <td>0.634</td>\n",
       "      <td>0.007</td>\n",
       "      <td>0.817</td>\n",
       "      <td>0.275</td>\n",
       "    </tr>\n",
       "    <tr>\n",
       "      <th>1</th>\n",
       "      <td>0.000</td>\n",
       "      <td>0.150</td>\n",
       "      <td>0.945</td>\n",
       "      <td>0.125</td>\n",
       "      <td>0.049</td>\n",
       "      <td>0.352</td>\n",
       "      <td>0.111</td>\n",
       "      <td>0.747</td>\n",
       "      <td>0.011</td>\n",
       "      <td>0.333</td>\n",
       "      <td>0.193</td>\n",
       "      <td>0.000</td>\n",
       "      <td>0.333</td>\n",
       "      <td>0.000</td>\n",
       "      <td>0.167</td>\n",
       "      <td>0.900</td>\n",
       "      <td>0.578</td>\n",
       "      <td>0.015</td>\n",
       "      <td>0.009</td>\n",
       "      <td>0.462</td>\n",
       "      <td>0.250</td>\n",
       "      <td>0.333</td>\n",
       "      <td>0.157</td>\n",
       "      <td>0.822</td>\n",
       "      <td>0.200</td>\n",
       "      <td>0.440</td>\n",
       "      <td>0.998</td>\n",
       "      <td>0.475</td>\n",
       "      <td>0.537</td>\n",
       "      <td>0.464</td>\n",
       "      <td>0.293</td>\n",
       "      <td>0.432</td>\n",
       "    </tr>\n",
       "    <tr>\n",
       "      <th>2</th>\n",
       "      <td>0.000</td>\n",
       "      <td>0.013</td>\n",
       "      <td>0.886</td>\n",
       "      <td>0.375</td>\n",
       "      <td>0.000</td>\n",
       "      <td>0.599</td>\n",
       "      <td>0.333</td>\n",
       "      <td>0.821</td>\n",
       "      <td>0.141</td>\n",
       "      <td>0.333</td>\n",
       "      <td>0.040</td>\n",
       "      <td>0.200</td>\n",
       "      <td>0.509</td>\n",
       "      <td>0.000</td>\n",
       "      <td>0.404</td>\n",
       "      <td>0.599</td>\n",
       "      <td>0.530</td>\n",
       "      <td>0.000</td>\n",
       "      <td>0.675</td>\n",
       "      <td>0.308</td>\n",
       "      <td>0.125</td>\n",
       "      <td>0.000</td>\n",
       "      <td>0.119</td>\n",
       "      <td>0.504</td>\n",
       "      <td>0.000</td>\n",
       "      <td>0.562</td>\n",
       "      <td>0.713</td>\n",
       "      <td>0.609</td>\n",
       "      <td>0.713</td>\n",
       "      <td>0.442</td>\n",
       "      <td>0.694</td>\n",
       "      <td>0.341</td>\n",
       "    </tr>\n",
       "    <tr>\n",
       "      <th>3</th>\n",
       "      <td>0.000</td>\n",
       "      <td>0.129</td>\n",
       "      <td>0.788</td>\n",
       "      <td>0.250</td>\n",
       "      <td>0.091</td>\n",
       "      <td>0.645</td>\n",
       "      <td>0.111</td>\n",
       "      <td>0.646</td>\n",
       "      <td>0.020</td>\n",
       "      <td>0.167</td>\n",
       "      <td>0.012</td>\n",
       "      <td>0.300</td>\n",
       "      <td>0.718</td>\n",
       "      <td>0.000</td>\n",
       "      <td>0.380</td>\n",
       "      <td>0.499</td>\n",
       "      <td>0.055</td>\n",
       "      <td>0.000</td>\n",
       "      <td>0.705</td>\n",
       "      <td>0.154</td>\n",
       "      <td>0.125</td>\n",
       "      <td>0.000</td>\n",
       "      <td>0.130</td>\n",
       "      <td>0.616</td>\n",
       "      <td>0.000</td>\n",
       "      <td>0.527</td>\n",
       "      <td>0.999</td>\n",
       "      <td>0.646</td>\n",
       "      <td>0.558</td>\n",
       "      <td>0.789</td>\n",
       "      <td>0.466</td>\n",
       "      <td>0.286</td>\n",
       "    </tr>\n",
       "    <tr>\n",
       "      <th>4</th>\n",
       "      <td>0.000</td>\n",
       "      <td>0.034</td>\n",
       "      <td>0.672</td>\n",
       "      <td>0.000</td>\n",
       "      <td>0.019</td>\n",
       "      <td>0.478</td>\n",
       "      <td>0.222</td>\n",
       "      <td>0.463</td>\n",
       "      <td>0.192</td>\n",
       "      <td>0.167</td>\n",
       "      <td>0.020</td>\n",
       "      <td>0.500</td>\n",
       "      <td>0.601</td>\n",
       "      <td>0.000</td>\n",
       "      <td>0.547</td>\n",
       "      <td>0.606</td>\n",
       "      <td>0.917</td>\n",
       "      <td>0.076</td>\n",
       "      <td>0.569</td>\n",
       "      <td>0.077</td>\n",
       "      <td>0.000</td>\n",
       "      <td>0.000</td>\n",
       "      <td>0.078</td>\n",
       "      <td>0.740</td>\n",
       "      <td>0.200</td>\n",
       "      <td>0.665</td>\n",
       "      <td>0.558</td>\n",
       "      <td>0.701</td>\n",
       "      <td>0.507</td>\n",
       "      <td>0.587</td>\n",
       "      <td>0.510</td>\n",
       "      <td>0.592</td>\n",
       "    </tr>\n",
       "    <tr>\n",
       "      <th>5</th>\n",
       "      <td>0.000</td>\n",
       "      <td>0.067</td>\n",
       "      <td>0.946</td>\n",
       "      <td>0.125</td>\n",
       "      <td>0.000</td>\n",
       "      <td>0.426</td>\n",
       "      <td>0.111</td>\n",
       "      <td>0.641</td>\n",
       "      <td>0.006</td>\n",
       "      <td>0.083</td>\n",
       "      <td>0.107</td>\n",
       "      <td>0.100</td>\n",
       "      <td>0.290</td>\n",
       "      <td>0.000</td>\n",
       "      <td>0.536</td>\n",
       "      <td>0.728</td>\n",
       "      <td>0.904</td>\n",
       "      <td>0.001</td>\n",
       "      <td>0.865</td>\n",
       "      <td>0.154</td>\n",
       "      <td>0.250</td>\n",
       "      <td>0.167</td>\n",
       "      <td>0.342</td>\n",
       "      <td>0.792</td>\n",
       "      <td>0.000</td>\n",
       "      <td>0.410</td>\n",
       "      <td>0.998</td>\n",
       "      <td>0.640</td>\n",
       "      <td>0.565</td>\n",
       "      <td>0.622</td>\n",
       "      <td>0.311</td>\n",
       "      <td>0.038</td>\n",
       "    </tr>\n",
       "    <tr>\n",
       "      <th>6</th>\n",
       "      <td>0.000</td>\n",
       "      <td>0.007</td>\n",
       "      <td>0.961</td>\n",
       "      <td>0.250</td>\n",
       "      <td>0.002</td>\n",
       "      <td>0.147</td>\n",
       "      <td>0.222</td>\n",
       "      <td>0.536</td>\n",
       "      <td>0.094</td>\n",
       "      <td>0.000</td>\n",
       "      <td>0.137</td>\n",
       "      <td>0.100</td>\n",
       "      <td>0.385</td>\n",
       "      <td>0.000</td>\n",
       "      <td>0.065</td>\n",
       "      <td>0.801</td>\n",
       "      <td>0.469</td>\n",
       "      <td>0.000</td>\n",
       "      <td>0.529</td>\n",
       "      <td>0.077</td>\n",
       "      <td>0.375</td>\n",
       "      <td>0.167</td>\n",
       "      <td>0.076</td>\n",
       "      <td>0.684</td>\n",
       "      <td>0.000</td>\n",
       "      <td>0.530</td>\n",
       "      <td>0.841</td>\n",
       "      <td>0.167</td>\n",
       "      <td>0.464</td>\n",
       "      <td>0.312</td>\n",
       "      <td>0.672</td>\n",
       "      <td>0.177</td>\n",
       "    </tr>\n",
       "    <tr>\n",
       "      <th>7</th>\n",
       "      <td>0.000</td>\n",
       "      <td>0.067</td>\n",
       "      <td>0.693</td>\n",
       "      <td>0.250</td>\n",
       "      <td>0.035</td>\n",
       "      <td>0.559</td>\n",
       "      <td>0.111</td>\n",
       "      <td>0.583</td>\n",
       "      <td>0.656</td>\n",
       "      <td>0.083</td>\n",
       "      <td>0.130</td>\n",
       "      <td>0.200</td>\n",
       "      <td>0.509</td>\n",
       "      <td>0.000</td>\n",
       "      <td>0.354</td>\n",
       "      <td>0.499</td>\n",
       "      <td>0.585</td>\n",
       "      <td>0.024</td>\n",
       "      <td>0.576</td>\n",
       "      <td>0.231</td>\n",
       "      <td>0.000</td>\n",
       "      <td>0.000</td>\n",
       "      <td>0.071</td>\n",
       "      <td>0.775</td>\n",
       "      <td>0.000</td>\n",
       "      <td>0.585</td>\n",
       "      <td>0.855</td>\n",
       "      <td>0.551</td>\n",
       "      <td>0.376</td>\n",
       "      <td>0.433</td>\n",
       "      <td>0.609</td>\n",
       "      <td>0.481</td>\n",
       "    </tr>\n",
       "    <tr>\n",
       "      <th>8</th>\n",
       "      <td>0.000</td>\n",
       "      <td>0.065</td>\n",
       "      <td>0.781</td>\n",
       "      <td>0.125</td>\n",
       "      <td>0.168</td>\n",
       "      <td>0.301</td>\n",
       "      <td>0.111</td>\n",
       "      <td>0.679</td>\n",
       "      <td>0.057</td>\n",
       "      <td>0.083</td>\n",
       "      <td>0.066</td>\n",
       "      <td>0.100</td>\n",
       "      <td>0.566</td>\n",
       "      <td>0.000</td>\n",
       "      <td>0.071</td>\n",
       "      <td>0.350</td>\n",
       "      <td>0.922</td>\n",
       "      <td>0.054</td>\n",
       "      <td>0.063</td>\n",
       "      <td>0.308</td>\n",
       "      <td>0.250</td>\n",
       "      <td>0.167</td>\n",
       "      <td>0.173</td>\n",
       "      <td>0.589</td>\n",
       "      <td>0.600</td>\n",
       "      <td>0.543</td>\n",
       "      <td>0.689</td>\n",
       "      <td>0.345</td>\n",
       "      <td>0.529</td>\n",
       "      <td>0.407</td>\n",
       "      <td>0.662</td>\n",
       "      <td>0.216</td>\n",
       "    </tr>\n",
       "    <tr>\n",
       "      <th>9</th>\n",
       "      <td>0.000</td>\n",
       "      <td>0.038</td>\n",
       "      <td>0.893</td>\n",
       "      <td>0.250</td>\n",
       "      <td>0.000</td>\n",
       "      <td>0.375</td>\n",
       "      <td>0.111</td>\n",
       "      <td>0.552</td>\n",
       "      <td>0.054</td>\n",
       "      <td>0.333</td>\n",
       "      <td>0.014</td>\n",
       "      <td>0.100</td>\n",
       "      <td>0.160</td>\n",
       "      <td>0.000</td>\n",
       "      <td>0.238</td>\n",
       "      <td>0.106</td>\n",
       "      <td>0.748</td>\n",
       "      <td>0.000</td>\n",
       "      <td>0.142</td>\n",
       "      <td>0.231</td>\n",
       "      <td>0.250</td>\n",
       "      <td>0.167</td>\n",
       "      <td>0.045</td>\n",
       "      <td>0.580</td>\n",
       "      <td>0.000</td>\n",
       "      <td>0.304</td>\n",
       "      <td>0.711</td>\n",
       "      <td>0.306</td>\n",
       "      <td>0.547</td>\n",
       "      <td>0.385</td>\n",
       "      <td>0.825</td>\n",
       "      <td>0.427</td>\n",
       "    </tr>\n",
       "  </tbody>\n",
       "</table>\n",
       "</div>"
      ],
      "text/plain": [
       "     x0    x1    x2    x3    x4    x5    x6    x7    x8    x9   x10   x11  \\\n",
       "0 0.000 0.110 0.994 0.250 0.025 0.517 0.333 0.385 0.248 0.000 0.460 0.300   \n",
       "1 0.000 0.150 0.945 0.125 0.049 0.352 0.111 0.747 0.011 0.333 0.193 0.000   \n",
       "2 0.000 0.013 0.886 0.375 0.000 0.599 0.333 0.821 0.141 0.333 0.040 0.200   \n",
       "3 0.000 0.129 0.788 0.250 0.091 0.645 0.111 0.646 0.020 0.167 0.012 0.300   \n",
       "4 0.000 0.034 0.672 0.000 0.019 0.478 0.222 0.463 0.192 0.167 0.020 0.500   \n",
       "5 0.000 0.067 0.946 0.125 0.000 0.426 0.111 0.641 0.006 0.083 0.107 0.100   \n",
       "6 0.000 0.007 0.961 0.250 0.002 0.147 0.222 0.536 0.094 0.000 0.137 0.100   \n",
       "7 0.000 0.067 0.693 0.250 0.035 0.559 0.111 0.583 0.656 0.083 0.130 0.200   \n",
       "8 0.000 0.065 0.781 0.125 0.168 0.301 0.111 0.679 0.057 0.083 0.066 0.100   \n",
       "9 0.000 0.038 0.893 0.250 0.000 0.375 0.111 0.552 0.054 0.333 0.014 0.100   \n",
       "\n",
       "    x12   x13   x14   x15   x16   x17   x18   x19   x20   x21   x22   x23  \\\n",
       "0 0.559 0.000 0.147 0.551 0.092 0.151 0.125 0.154 0.125 0.167 0.151 0.937   \n",
       "1 0.333 0.000 0.167 0.900 0.578 0.015 0.009 0.462 0.250 0.333 0.157 0.822   \n",
       "2 0.509 0.000 0.404 0.599 0.530 0.000 0.675 0.308 0.125 0.000 0.119 0.504   \n",
       "3 0.718 0.000 0.380 0.499 0.055 0.000 0.705 0.154 0.125 0.000 0.130 0.616   \n",
       "4 0.601 0.000 0.547 0.606 0.917 0.076 0.569 0.077 0.000 0.000 0.078 0.740   \n",
       "5 0.290 0.000 0.536 0.728 0.904 0.001 0.865 0.154 0.250 0.167 0.342 0.792   \n",
       "6 0.385 0.000 0.065 0.801 0.469 0.000 0.529 0.077 0.375 0.167 0.076 0.684   \n",
       "7 0.509 0.000 0.354 0.499 0.585 0.024 0.576 0.231 0.000 0.000 0.071 0.775   \n",
       "8 0.566 0.000 0.071 0.350 0.922 0.054 0.063 0.308 0.250 0.167 0.173 0.589   \n",
       "9 0.160 0.000 0.238 0.106 0.748 0.000 0.142 0.231 0.250 0.167 0.045 0.580   \n",
       "\n",
       "    x24   x25   x26   x27   x28   x29   x30   x31  \n",
       "0 0.200 0.349 0.437 0.700 0.634 0.007 0.817 0.275  \n",
       "1 0.200 0.440 0.998 0.475 0.537 0.464 0.293 0.432  \n",
       "2 0.000 0.562 0.713 0.609 0.713 0.442 0.694 0.341  \n",
       "3 0.000 0.527 0.999 0.646 0.558 0.789 0.466 0.286  \n",
       "4 0.200 0.665 0.558 0.701 0.507 0.587 0.510 0.592  \n",
       "5 0.000 0.410 0.998 0.640 0.565 0.622 0.311 0.038  \n",
       "6 0.000 0.530 0.841 0.167 0.464 0.312 0.672 0.177  \n",
       "7 0.000 0.585 0.855 0.551 0.376 0.433 0.609 0.481  \n",
       "8 0.600 0.543 0.689 0.345 0.529 0.407 0.662 0.216  \n",
       "9 0.000 0.304 0.711 0.306 0.547 0.385 0.825 0.427  "
      ]
     },
     "execution_count": 12,
     "metadata": {},
     "output_type": "execute_result"
    }
   ],
   "source": [
    "X_data_list[0][1].head(10)"
   ]
  },
  {
   "cell_type": "code",
   "execution_count": 13,
   "metadata": {
    "execution": {
     "iopub.execute_input": "2022-03-26T12:10:57.109525Z",
     "iopub.status.busy": "2022-03-26T12:10:57.109258Z",
     "iopub.status.idle": "2022-03-26T12:10:57.150805Z",
     "shell.execute_reply": "2022-03-26T12:10:57.150028Z",
     "shell.execute_reply.started": "2022-03-26T12:10:57.109499Z"
    }
   },
   "outputs": [
    {
     "data": {
      "text/plain": [
       "feat0     0\n",
       "feat1     0\n",
       "feat2     0\n",
       "feat3     0\n",
       "feat4     0\n",
       "feat5     0\n",
       "feat6     0\n",
       "split0    0\n",
       "split1    0\n",
       "split2    0\n",
       "dtype: int64"
      ]
     },
     "execution_count": 13,
     "metadata": {},
     "output_type": "execute_result"
    }
   ],
   "source": [
    "y_data_list[0][0].head(10)"
   ]
  },
  {
   "cell_type": "code",
   "execution_count": 14,
   "metadata": {
    "ExecuteTime": {
     "end_time": "2021-01-17T09:46:12.636995Z",
     "start_time": "2021-01-17T09:46:12.629349Z"
    },
    "execution": {
     "iopub.execute_input": "2022-03-26T12:10:57.154908Z",
     "iopub.status.busy": "2022-03-26T12:10:57.154693Z",
     "iopub.status.idle": "2022-03-26T12:10:57.169969Z",
     "shell.execute_reply": "2022-03-26T12:10:57.169222Z",
     "shell.execute_reply.started": "2022-03-26T12:10:57.154885Z"
    }
   },
   "outputs": [
    {
     "data": {
      "text/html": [
       "<div>\n",
       "<style scoped>\n",
       "    .dataframe tbody tr th:only-of-type {\n",
       "        vertical-align: middle;\n",
       "    }\n",
       "\n",
       "    .dataframe tbody tr th {\n",
       "        vertical-align: top;\n",
       "    }\n",
       "\n",
       "    .dataframe thead th {\n",
       "        text-align: right;\n",
       "    }\n",
       "</style>\n",
       "<table border=\"1\" class=\"dataframe\">\n",
       "  <thead>\n",
       "    <tr style=\"text-align: right;\">\n",
       "      <th></th>\n",
       "      <th>result</th>\n",
       "    </tr>\n",
       "  </thead>\n",
       "  <tbody>\n",
       "    <tr>\n",
       "      <th>0</th>\n",
       "      <td>0</td>\n",
       "    </tr>\n",
       "    <tr>\n",
       "      <th>1</th>\n",
       "      <td>0</td>\n",
       "    </tr>\n",
       "    <tr>\n",
       "      <th>2</th>\n",
       "      <td>0</td>\n",
       "    </tr>\n",
       "    <tr>\n",
       "      <th>3</th>\n",
       "      <td>0</td>\n",
       "    </tr>\n",
       "    <tr>\n",
       "      <th>4</th>\n",
       "      <td>0</td>\n",
       "    </tr>\n",
       "    <tr>\n",
       "      <th>5</th>\n",
       "      <td>0</td>\n",
       "    </tr>\n",
       "    <tr>\n",
       "      <th>6</th>\n",
       "      <td>0</td>\n",
       "    </tr>\n",
       "    <tr>\n",
       "      <th>7</th>\n",
       "      <td>0</td>\n",
       "    </tr>\n",
       "    <tr>\n",
       "      <th>8</th>\n",
       "      <td>0</td>\n",
       "    </tr>\n",
       "    <tr>\n",
       "      <th>9</th>\n",
       "      <td>0</td>\n",
       "    </tr>\n",
       "  </tbody>\n",
       "</table>\n",
       "</div>"
      ],
      "text/plain": [
       "   result\n",
       "0       0\n",
       "1       0\n",
       "2       0\n",
       "3       0\n",
       "4       0\n",
       "5       0\n",
       "6       0\n",
       "7       0\n",
       "8       0\n",
       "9       0"
      ]
     },
     "execution_count": 14,
     "metadata": {},
     "output_type": "execute_result"
    }
   ],
   "source": [
    "y_data_list[0][1].head(10)"
   ]
  },
  {
   "cell_type": "code",
   "execution_count": 15,
   "metadata": {
    "execution": {
     "iopub.execute_input": "2022-03-26T12:10:57.171133Z",
     "iopub.status.busy": "2022-03-26T12:10:57.170921Z",
     "iopub.status.idle": "2022-03-26T12:11:00.079232Z",
     "shell.execute_reply": "2022-03-26T12:11:00.078444Z",
     "shell.execute_reply.started": "2022-03-26T12:10:57.171112Z"
    }
   },
   "outputs": [
    {
     "data": {
      "image/png": "[encoded data removed]",
      "text/plain": [
       "<IPython.core.display.Image object>"
      ]
     },
     "execution_count": 15,
     "metadata": {},
     "output_type": "execute_result"
    }
   ],
   "source": [
    "plot = None\n",
    "if plot_tree_from_parameters != 'make_classification':\n",
    "    plot = plot_tree_from_parameters(y_data_list[0][0].values, config)\n",
    "plot"
   ]
  },
  {
   "cell_type": "code",
   "execution_count": 16,
   "metadata": {
    "execution": {
     "iopub.execute_input": "2022-03-26T12:11:00.080658Z",
     "iopub.status.busy": "2022-03-26T12:11:00.080421Z",
     "iopub.status.idle": "2022-03-26T12:11:00.088782Z",
     "shell.execute_reply": "2022-03-26T12:11:00.088229Z",
     "shell.execute_reply.started": "2022-03-26T12:11:00.080634Z"
    }
   },
   "outputs": [],
   "source": [
    "def inject_noise(y_data, noise=0.0, noise_dist='normal', seed=42):\n",
    "    \"\"\"\n",
    "    Returns a polynomial injected with specified noise type and amount. \n",
    "    Inputs a clean polynomial array with x-data and y-data and modifies the y-data according to the noise settings.\n",
    "    \"\"\"\n",
    "    np.random.seed(seed)\n",
    "    \n",
    "    #Calculate range of function values of input polynomial\n",
    "    range_values_fv = np.ptp(y_data[1].values)\n",
    "    \n",
    "    #Selection of noise type\n",
    "    #Available types: normal, uniform, A, B, C\n",
    "    if noise_dist=='normal':\n",
    "        noise_sample=noise*np.random.normal(loc=0, scale=1.0,size=y_data[1].shape[0])\n",
    "    elif noise_dist=='uniform':\n",
    "        noise_sample=noise*np.random.uniform(low=0, high=1.0,size=y_data[1].shape[0])\n",
    "    elif noise_dist=='normal_range':\n",
    "        #Normal distribution adjusted to function value range\n",
    "        noise_sample=(noise*range_values_fv)*np.random.normal(loc=0, scale=1.0,size=y_data[1].shape[0])\n",
    "    elif noise_dist=='uniform_range':\n",
    "        noise_sample=(noise*range_values_fv)*np.random.normal(loc=0, scale=1.0,size=y_data[1].shape[0])\n",
    "    elif noise_dist=='flip_percentage':\n",
    "        idx = np.random.choice(y_data[1].shape[0], int(y_data[1].shape[0]*noise), replace=False)\n",
    "        y_data[1].iloc[idx] = (y_data[1].iloc[idx] + 1) % 2 \n",
    "        return y_data\n",
    "    else:\n",
    "        #no noise\n",
    "        noise_sample = np.zeros(y_data[1].shape[0])\n",
    "                               \n",
    "    noise_sample=noise_sample.reshape(-1,1)\n",
    "    \n",
    "    y_data[1]=y_data[1]+noise_sample\n",
    "    \n",
    "    return np.clip(y_data, 0, 1)"
   ]
  },
  {
   "cell_type": "code",
   "execution_count": 17,
   "metadata": {
    "execution": {
     "iopub.execute_input": "2022-03-26T12:11:00.089681Z",
     "iopub.status.busy": "2022-03-26T12:11:00.089554Z",
     "iopub.status.idle": "2022-03-26T12:11:00.145779Z",
     "shell.execute_reply": "2022-03-26T12:11:00.145010Z",
     "shell.execute_reply.started": "2022-03-26T12:11:00.089665Z"
    }
   },
   "outputs": [],
   "source": [
    "if noise_injected_level > 0:\n",
    "    parallel = Parallel(n_jobs=n_jobs, verbose=3, backend='loky')\n",
    "    y_data_list = parallel(delayed(inject_noise)(y_data=y_data_list[i],\n",
    "                                                 noise=noise_injected_level,\n",
    "                                                 noise_dist=noise_injected_type, \n",
    "                                                 seed=RANDOM_SEED+i) for i in range(len(y_data_list)))\n"
   ]
  },
  {
   "cell_type": "code",
   "execution_count": 18,
   "metadata": {
    "execution": {
     "iopub.execute_input": "2022-03-26T12:11:00.147782Z",
     "iopub.status.busy": "2022-03-26T12:11:00.147074Z",
     "iopub.status.idle": "2022-03-26T12:11:00.231242Z",
     "shell.execute_reply": "2022-03-26T12:11:00.230444Z",
     "shell.execute_reply.started": "2022-03-26T12:11:00.147737Z"
    }
   },
   "outputs": [
    {
     "data": {
      "text/plain": [
       "feat0     0\n",
       "feat1     0\n",
       "feat2     0\n",
       "feat3     0\n",
       "feat4     0\n",
       "feat5     0\n",
       "feat6     0\n",
       "split0    0\n",
       "split1    0\n",
       "split2    0\n",
       "dtype: int64"
      ]
     },
     "execution_count": 18,
     "metadata": {},
     "output_type": "execute_result"
    }
   ],
   "source": [
    "y_data_list[0][0].head(10)"
   ]
  },
  {
   "cell_type": "code",
   "execution_count": 19,
   "metadata": {
    "execution": {
     "iopub.execute_input": "2022-03-26T12:11:00.233276Z",
     "iopub.status.busy": "2022-03-26T12:11:00.232575Z",
     "iopub.status.idle": "2022-03-26T12:11:00.330683Z",
     "shell.execute_reply": "2022-03-26T12:11:00.329949Z",
     "shell.execute_reply.started": "2022-03-26T12:11:00.233245Z"
    }
   },
   "outputs": [
    {
     "data": {
      "text/plain": [
       "feat0     0\n",
       "feat1     0\n",
       "feat2     0\n",
       "feat3     0\n",
       "feat4     0\n",
       "feat5     0\n",
       "feat6     0\n",
       "split0    0\n",
       "split1    0\n",
       "split2    0\n",
       "split3    0\n",
       "split4    0\n",
       "split5    0\n",
       "split6    0\n",
       "lp0       0\n",
       "lp1       0\n",
       "lp2       0\n",
       "lp3       0\n",
       "lp4       0\n",
       "lp5       0\n",
       "lp6       0\n",
       "lp7       0\n",
       "dtype: int64"
      ]
     },
     "execution_count": 19,
     "metadata": {},
     "output_type": "execute_result"
    }
   ],
   "source": [
    "y_data_list[0][0]"
   ]
  },
  {
   "cell_type": "code",
   "execution_count": 20,
   "metadata": {
    "execution": {
     "iopub.execute_input": "2022-03-26T12:11:00.331894Z",
     "iopub.status.busy": "2022-03-26T12:11:00.331603Z",
     "iopub.status.idle": "2022-03-26T12:11:00.434890Z",
     "shell.execute_reply": "2022-03-26T12:11:00.434232Z",
     "shell.execute_reply.started": "2022-03-26T12:11:00.331872Z"
    }
   },
   "outputs": [
    {
     "data": {
      "text/html": [
       "<div>\n",
       "<style scoped>\n",
       "    .dataframe tbody tr th:only-of-type {\n",
       "        vertical-align: middle;\n",
       "    }\n",
       "\n",
       "    .dataframe tbody tr th {\n",
       "        vertical-align: top;\n",
       "    }\n",
       "\n",
       "    .dataframe thead th {\n",
       "        text-align: right;\n",
       "    }\n",
       "</style>\n",
       "<table border=\"1\" class=\"dataframe\">\n",
       "  <thead>\n",
       "    <tr style=\"text-align: right;\">\n",
       "      <th></th>\n",
       "      <th>result</th>\n",
       "    </tr>\n",
       "  </thead>\n",
       "  <tbody>\n",
       "    <tr>\n",
       "      <th>0</th>\n",
       "      <td>0</td>\n",
       "    </tr>\n",
       "    <tr>\n",
       "      <th>1</th>\n",
       "      <td>0</td>\n",
       "    </tr>\n",
       "    <tr>\n",
       "      <th>2</th>\n",
       "      <td>0</td>\n",
       "    </tr>\n",
       "    <tr>\n",
       "      <th>3</th>\n",
       "      <td>0</td>\n",
       "    </tr>\n",
       "    <tr>\n",
       "      <th>4</th>\n",
       "      <td>0</td>\n",
       "    </tr>\n",
       "    <tr>\n",
       "      <th>5</th>\n",
       "      <td>0</td>\n",
       "    </tr>\n",
       "    <tr>\n",
       "      <th>6</th>\n",
       "      <td>0</td>\n",
       "    </tr>\n",
       "    <tr>\n",
       "      <th>7</th>\n",
       "      <td>0</td>\n",
       "    </tr>\n",
       "    <tr>\n",
       "      <th>8</th>\n",
       "      <td>0</td>\n",
       "    </tr>\n",
       "    <tr>\n",
       "      <th>9</th>\n",
       "      <td>0</td>\n",
       "    </tr>\n",
       "  </tbody>\n",
       "</table>\n",
       "</div>"
      ],
      "text/plain": [
       "   result\n",
       "0       0\n",
       "1       0\n",
       "2       0\n",
       "3       0\n",
       "4       0\n",
       "5       0\n",
       "6       0\n",
       "7       0\n",
       "8       0\n",
       "9       0"
      ]
     },
     "execution_count": 20,
     "metadata": {},
     "output_type": "execute_result"
    }
   ],
   "source": [
    "y_data_list[0][1].head(10)"
   ]
  },
  {
   "cell_type": "markdown",
   "metadata": {
    "ExecuteTime": {
     "end_time": "2020-09-16T17:06:36.919643Z",
     "start_time": "2020-09-16T17:06:36.912904Z"
    }
   },
   "source": [
    "## Lambda Network Training + Weigh/Bias saving"
   ]
  },
  {
   "cell_type": "code",
   "execution_count": 21,
   "metadata": {
    "execution": {
     "iopub.execute_input": "2022-03-26T12:11:00.436170Z",
     "iopub.status.busy": "2022-03-26T12:11:00.435845Z",
     "iopub.status.idle": "2022-03-26T12:11:00.474272Z",
     "shell.execute_reply": "2022-03-26T12:11:00.473493Z",
     "shell.execute_reply.started": "2022-03-26T12:11:00.436149Z"
    }
   },
   "outputs": [],
   "source": [
    "#%load_ext autoreload"
   ]
  },
  {
   "cell_type": "code",
   "execution_count": 22,
   "metadata": {
    "execution": {
     "iopub.execute_input": "2022-03-26T12:11:00.475538Z",
     "iopub.status.busy": "2022-03-26T12:11:00.475091Z",
     "iopub.status.idle": "2022-03-26T12:11:00.550069Z",
     "shell.execute_reply": "2022-03-26T12:11:00.549391Z",
     "shell.execute_reply.started": "2022-03-26T12:11:00.475474Z"
    },
    "tags": []
   },
   "outputs": [],
   "source": [
    "rand_index = np.random.randint(number_of_trained_lambda_nets)\n",
    "\n",
    "#rand_tree = generate_decision_tree_from_array(y_data_list[rand_index][0].values, config)\n",
    "#rand_tree.plot_tree()"
   ]
  },
  {
   "cell_type": "code",
   "execution_count": 23,
   "metadata": {
    "execution": {
     "iopub.execute_input": "2022-03-26T12:11:00.551535Z",
     "iopub.status.busy": "2022-03-26T12:11:00.551056Z",
     "iopub.status.idle": "2022-03-26T12:12:16.972608Z",
     "shell.execute_reply": "2022-03-26T12:12:16.971229Z",
     "shell.execute_reply.started": "2022-03-26T12:11:00.551507Z"
    },
    "tags": []
   },
   "outputs": [
    {
     "data": {
      "image/png": "[encoded data removed]",
      "text/plain": [
       "<Figure size 864x576 with 2 Axes>"
      ]
     },
     "metadata": {},
     "output_type": "display_data"
    },
    {
     "name": "stdout",
     "output_type": "stream",
     "text": [
      "binary_accuracy\n",
      "\ttraining         \t (min:    0.753, max:    0.982, cur:    0.980)\n",
      "\tvalidation       \t (min:    0.917, max:    0.971, cur:    0.963)\n",
      "Loss\n",
      "\ttraining         \t (min:    0.055, max:    0.622, cur:    0.055)\n",
      "\tvalidation       \t (min:    0.081, max:    0.526, cur:    0.082)\n"
     ]
    }
   ],
   "source": [
    "#%autoreload 2\n",
    "random_network = train_lambda_net(config=config,\n",
    "                                  lambda_index=rand_index, \n",
    "                                  X_data_with_function=X_data_list[rand_index], \n",
    "                                  y_data_with_function=y_data_list[rand_index], \n",
    "                                  distribution_parameter_list = distribution_parameter_list_list[rand_index][1],\n",
    "                                  callbacks=[PlotLossesKerasTF()], \n",
    "                                  return_model=True,\n",
    "                                  printing=False)"
   ]
  },
  {
   "cell_type": "code",
   "execution_count": 24,
   "metadata": {
    "execution": {
     "iopub.execute_input": "2022-03-26T12:12:16.976177Z",
     "iopub.status.busy": "2022-03-26T12:12:16.975458Z",
     "iopub.status.idle": "2022-03-26T12:12:32.632360Z",
     "shell.execute_reply": "2022-03-26T12:12:32.631362Z",
     "shell.execute_reply.started": "2022-03-26T12:12:16.976125Z"
    },
    "tags": []
   },
   "outputs": [
    {
     "data": {
      "image/png": "[encoded data removed]",
      "text/plain": [
       "<Figure size 1440x1080 with 64 Axes>"
      ]
     },
     "metadata": {},
     "output_type": "display_data"
    }
   ],
   "source": [
    "colors_list = ['green','blue','yellow','cyan','magenta','pink']\n",
    "\n",
    "if config['data']['number_of_variables'] > 4:\n",
    "    fig,ax = plt.subplots(nrows=np.ceil(config['data']['number_of_variables']*2/4).astype(int), ncols=4,figsize=(20,15))\n",
    "else:\n",
    "    fig,ax = plt.subplots(nrows=np.ceil(config['data']['number_of_variables']*2/2).astype(int), ncols=2,figsize=(20,15))\n",
    "\n",
    "for axis_1 in ax:\n",
    "    for axis_2 in axis_1:\n",
    "        axis_2.set_xlim([0, 1])                          \n",
    "\n",
    "plot_index = 0\n",
    "\n",
    "for i in range(X_data_list[rand_index][1].values.shape[1]):\n",
    "    colors = colors_list[i%6]\n",
    "\n",
    "    x = X_data_list[rand_index][1].values[:,i][np.where(random_network['model'].predict(X_data_list[rand_index][1].values).ravel()<=0.5)]\n",
    "    plt.subplot(np.ceil(config['data']['number_of_variables']*2/4).astype(int), 4,plot_index+1)\n",
    "    plt.hist(x,bins=[i/10 for i in range(11)],color=colors)\n",
    "    #plt.title(list(distribution_parameter.keys())[0] + ' Class 0' )\n",
    "    plot_index += 1\n",
    "\n",
    "    x = X_data_list[rand_index][1].values[:,i][np.where(random_network['model'].predict(X_data_list[rand_index][1].values).ravel()>0.5)]\n",
    "    plt.subplot(np.ceil(config['data']['number_of_variables']*2/4).astype(int),4,plot_index+1)\n",
    "    plt.hist(x,bins=[i/10 for i in range(11)],color=colors)\n",
    "    #plt.title(list(distribution_parameter.keys())[0] + ' Class 1' )\n",
    "    plot_index += 1\n",
    "\n",
    "fig.subplots_adjust(hspace=0.4,wspace=.3) \n",
    "plt.suptitle('Sampling from Various Distributions',fontsize=20)\n",
    "plt.show()"
   ]
  },
  {
   "cell_type": "code",
   "execution_count": 25,
   "metadata": {
    "execution": {
     "iopub.execute_input": "2022-03-26T12:12:32.634353Z",
     "iopub.status.busy": "2022-03-26T12:12:32.633937Z",
     "iopub.status.idle": "2022-03-26T12:12:32.653016Z",
     "shell.execute_reply": "2022-03-26T12:12:32.652237Z",
     "shell.execute_reply.started": "2022-03-26T12:12:32.634327Z"
    },
    "tags": []
   },
   "outputs": [
    {
     "data": {
      "text/plain": [
       "[{'poisson': {'class_0': {'lam': 0.08964749015272722},\n",
       "   'class_1': {'lam': 0.05833141325490186},\n",
       "   'samples_class_0': 2500,\n",
       "   'feature_weight_0': 1,\n",
       "   'seed_shuffeling': 12416255}},\n",
       " {'gamma': {'class_0': {'shape': 0.8608060191874084,\n",
       "    'scale': 2.559220600117949},\n",
       "   'class_1': {'shape': 0.938727176798888, 'scale': 2.2260816783206194},\n",
       "   'samples_class_0': 2500,\n",
       "   'feature_weight_0': 1,\n",
       "   'seed_shuffeling': 12416255}},\n",
       " {'beta': {'class_0': {'a': 2.4656860321618885, 'b': 1.1495261091807745},\n",
       "   'class_1': {'a': 2.160468783104334, 'b': 1.0587894294318718},\n",
       "   'samples_class_0': 2500,\n",
       "   'feature_weight_0': 1,\n",
       "   'seed_shuffeling': 12416255}},\n",
       " {'poisson': {'class_0': {'lam': 2.138792197124941},\n",
       "   'class_1': {'lam': 1.4335271307886392},\n",
       "   'samples_class_0': 2500,\n",
       "   'feature_weight_0': 1,\n",
       "   'seed_shuffeling': 12416255}},\n",
       " {'gamma': {'class_0': {'shape': 0.15866610131692716,\n",
       "    'scale': 3.0226008996621485},\n",
       "   'class_1': {'shape': 0.08727877648835626, 'scale': 4.421576583344309},\n",
       "   'samples_class_0': 2500,\n",
       "   'feature_weight_0': 1,\n",
       "   'seed_shuffeling': 12416255}},\n",
       " {'normal': {'class_0': {'loc': 3.902129646184588,\n",
       "    'scale': 3.4440865447969293},\n",
       "   'class_1': {'loc': 3.8674400223951393, 'scale': 3.5791770122623863},\n",
       "   'samples_class_0': 2500,\n",
       "   'feature_weight_0': 1,\n",
       "   'seed_shuffeling': 12416255}},\n",
       " {'poisson': {'class_0': {'lam': 1.911957091567954},\n",
       "   'class_1': {'lam': 1.0300133165956344},\n",
       "   'samples_class_0': 2500,\n",
       "   'feature_weight_0': 1,\n",
       "   'seed_shuffeling': 12416255}},\n",
       " {'normal': {'class_0': {'loc': 2.5975321694610116,\n",
       "    'scale': 2.8106134829453824},\n",
       "   'class_1': {'loc': 2.023480882409193, 'scale': 4.0675110501953124},\n",
       "   'samples_class_0': 2500,\n",
       "   'feature_weight_0': 1,\n",
       "   'seed_shuffeling': 12416255}},\n",
       " {'gamma': {'class_0': {'shape': 1.1082993929827216,\n",
       "    'scale': 3.6474143398391714},\n",
       "   'class_1': {'shape': 0.8075739456589699, 'scale': 2.789319066152786},\n",
       "   'samples_class_0': 2500,\n",
       "   'feature_weight_0': 1,\n",
       "   'seed_shuffeling': 12416255}},\n",
       " {'poisson': {'class_0': {'lam': 2.0771470778103356},\n",
       "   'class_1': {'lam': 2.7020018039676477},\n",
       "   'samples_class_0': 2500,\n",
       "   'feature_weight_0': 1,\n",
       "   'seed_shuffeling': 12416255}},\n",
       " {'gamma': {'class_0': {'shape': 1.2764078394196372,\n",
       "    'scale': 1.9074363170035706},\n",
       "   'class_1': {'shape': 1.0345724995139323, 'scale': 2.4022344119593892},\n",
       "   'samples_class_0': 2500,\n",
       "   'feature_weight_0': 1,\n",
       "   'seed_shuffeling': 12416255}},\n",
       " {'poisson': {'class_0': {'lam': 2.2309153519282554},\n",
       "   'class_1': {'lam': 3.1510492642190293},\n",
       "   'samples_class_0': 2500,\n",
       "   'feature_weight_0': 1,\n",
       "   'seed_shuffeling': 12416255}},\n",
       " {'normal': {'class_0': {'loc': 3.557494100340475,\n",
       "    'scale': 2.6649190987409668},\n",
       "   'class_1': {'loc': 3.5730286623337317, 'scale': 2.7345750655252576},\n",
       "   'samples_class_0': 2500,\n",
       "   'feature_weight_0': 1,\n",
       "   'seed_shuffeling': 12416255}},\n",
       " {'poisson': {'class_0': {'lam': 0.024350627179427486},\n",
       "   'class_1': {'lam': 0.020188680669339244},\n",
       "   'samples_class_0': 2500,\n",
       "   'feature_weight_0': 1,\n",
       "   'seed_shuffeling': 12416255}},\n",
       " {'beta': {'class_0': {'a': 1.3507221910082752, 'b': 2.972491103070276},\n",
       "   'class_1': {'a': 1.0043566482905462, 'b': 1.731620504848953},\n",
       "   'samples_class_0': 2500,\n",
       "   'feature_weight_0': 1,\n",
       "   'seed_shuffeling': 12416255}},\n",
       " {'uniform': {'class_0': {'low': 2.8183748318707225,\n",
       "    'high': 4.834339513955175},\n",
       "   'class_1': {'low': 2.6743121825927187, 'high': 5.0},\n",
       "   'samples_class_0': 2500,\n",
       "   'feature_weight_0': 1,\n",
       "   'seed_shuffeling': 12416255}},\n",
       " {'uniform': {'class_0': {'low': 0.4323656209364751,\n",
       "    'high': 3.034303201256346},\n",
       "   'class_1': {'low': 0.3985014715091533, 'high': 3.187368739704452},\n",
       "   'samples_class_0': 2500,\n",
       "   'feature_weight_0': 1,\n",
       "   'seed_shuffeling': 12416255}},\n",
       " {'gamma': {'class_0': {'shape': 0.2447158519776832,\n",
       "    'scale': 2.0584263035355193},\n",
       "   'class_1': {'shape': 0.27221176591120366, 'scale': 1.6335884709168795},\n",
       "   'samples_class_0': 2500,\n",
       "   'feature_weight_0': 1,\n",
       "   'seed_shuffeling': 12416255}},\n",
       " {'uniform': {'class_0': {'low': 0.04688359932974229,\n",
       "    'high': 0.6260689434152417},\n",
       "   'class_1': {'low': 0.06219063591230177, 'high': 0.4688862558723761},\n",
       "   'samples_class_0': 2500,\n",
       "   'feature_weight_0': 1,\n",
       "   'seed_shuffeling': 12416255}},\n",
       " {'poisson': {'class_0': {'lam': 3.6106691824276185},\n",
       "   'class_1': {'lam': 2.66068279957784},\n",
       "   'samples_class_0': 2500,\n",
       "   'feature_weight_0': 1,\n",
       "   'seed_shuffeling': 12416255}},\n",
       " {'poisson': {'class_0': {'lam': 1.6069869173801499},\n",
       "   'class_1': {'lam': 2.2710591427717097},\n",
       "   'samples_class_0': 2500,\n",
       "   'feature_weight_0': 1,\n",
       "   'seed_shuffeling': 12416255}},\n",
       " {'poisson': {'class_0': {'lam': 1.4812964267913176},\n",
       "   'class_1': {'lam': 1.3454120209891776},\n",
       "   'samples_class_0': 2500,\n",
       "   'feature_weight_0': 1,\n",
       "   'seed_shuffeling': 12416255}},\n",
       " {'gamma': {'class_0': {'shape': 2.6947594322864084,\n",
       "    'scale': 0.016102590902276614},\n",
       "   'class_1': {'shape': 3.475481994360468, 'scale': 0.022486877040743678},\n",
       "   'samples_class_0': 2500,\n",
       "   'feature_weight_0': 1,\n",
       "   'seed_shuffeling': 12416255}},\n",
       " {'uniform': {'class_0': {'low': 3.301557708981001, 'high': 4.401072546953831},\n",
       "   'class_1': {'low': 3.822612154671145, 'high': 2.3070764763704705},\n",
       "   'samples_class_0': 2500,\n",
       "   'feature_weight_0': 1,\n",
       "   'seed_shuffeling': 12416255}},\n",
       " {'poisson': {'class_0': {'lam': 0.6015625233044819},\n",
       "   'class_1': {'lam': 0.504119216134568},\n",
       "   'samples_class_0': 2500,\n",
       "   'feature_weight_0': 1,\n",
       "   'seed_shuffeling': 12416255}},\n",
       " {'normal': {'class_0': {'loc': 0.1311880470659027,\n",
       "    'scale': 3.917383468360917},\n",
       "   'class_1': {'loc': 0.18547546404787651, 'scale': 5.0},\n",
       "   'samples_class_0': 2500,\n",
       "   'feature_weight_0': 1,\n",
       "   'seed_shuffeling': 12416255}},\n",
       " {'beta': {'class_0': {'a': 3.5636285777088132, 'b': 0.5246853153183223},\n",
       "   'class_1': {'a': 3.0711234583910234, 'b': 0.31432227419346714},\n",
       "   'samples_class_0': 2500,\n",
       "   'feature_weight_0': 1,\n",
       "   'seed_shuffeling': 12416255}},\n",
       " {'normal': {'class_0': {'loc': 4.021016730302261,\n",
       "    'scale': 3.5599694716716823},\n",
       "   'class_1': {'loc': 4.37769501648121, 'scale': 3.550349026650235},\n",
       "   'samples_class_0': 2500,\n",
       "   'feature_weight_0': 1,\n",
       "   'seed_shuffeling': 12416255}},\n",
       " {'normal': {'class_0': {'loc': 2.6771600331678775,\n",
       "    'scale': 3.7510649465449593},\n",
       "   'class_1': {'loc': 2.489386706395843, 'scale': 4.620496282701701},\n",
       "   'samples_class_0': 2500,\n",
       "   'feature_weight_0': 1,\n",
       "   'seed_shuffeling': 12416255}},\n",
       " {'uniform': {'class_0': {'low': 0.04703793682488966,\n",
       "    'high': 2.916672530264078},\n",
       "   'class_1': {'low': 0.052725642379713326, 'high': 3.656644539979336},\n",
       "   'samples_class_0': 2500,\n",
       "   'feature_weight_0': 1,\n",
       "   'seed_shuffeling': 12416255}},\n",
       " {'uniform': {'class_0': {'low': 1.2691979533581532,\n",
       "    'high': 4.500249680288509},\n",
       "   'class_1': {'low': 0.9186101294850199, 'high': 4.91085683601765},\n",
       "   'samples_class_0': 2500,\n",
       "   'feature_weight_0': 1,\n",
       "   'seed_shuffeling': 12416255}},\n",
       " {'beta': {'class_0': {'a': 1.6930880379423803, 'b': 2.3213171395582015},\n",
       "   'class_1': {'a': 1.9068873785448428, 'b': 1.8990047144567743},\n",
       "   'samples_class_0': 2500,\n",
       "   'feature_weight_0': 1,\n",
       "   'seed_shuffeling': 12416255}}]"
      ]
     },
     "execution_count": 25,
     "metadata": {},
     "output_type": "execute_result"
    }
   ],
   "source": [
    "distribution_parameter_list_list[0][1]"
   ]
  },
  {
   "cell_type": "code",
   "execution_count": 26,
   "metadata": {
    "execution": {
     "iopub.execute_input": "2022-03-26T12:12:32.654552Z",
     "iopub.status.busy": "2022-03-26T12:12:32.654231Z",
     "iopub.status.idle": "2022-03-26T12:12:32.719075Z",
     "shell.execute_reply": "2022-03-26T12:12:32.718283Z",
     "shell.execute_reply.started": "2022-03-26T12:12:32.654528Z"
    },
    "tags": []
   },
   "outputs": [],
   "source": [
    "#%load_ext autoreload\n",
    "#%autoreload 2"
   ]
  },
  {
   "cell_type": "code",
   "execution_count": null,
   "metadata": {
    "execution": {
     "iopub.execute_input": "2022-03-26T12:12:32.720377Z",
     "iopub.status.busy": "2022-03-26T12:12:32.720053Z"
    },
    "tags": []
   },
   "outputs": [
    {
     "name": "stderr",
     "output_type": "stream",
     "text": [
      "[Parallel(n_jobs=12)]: Using backend LokyBackend with 12 concurrent workers.\n",
      "[Parallel(n_jobs=12)]: Done   8 tasks      | elapsed:   49.4s\n",
      "[Parallel(n_jobs=12)]: Done 104 tasks      | elapsed:  5.9min\n",
      "[Parallel(n_jobs=12)]: Done 264 tasks      | elapsed: 14.5min\n",
      "[Parallel(n_jobs=12)]: Done 488 tasks      | elapsed: 26.6min\n",
      "[Parallel(n_jobs=12)]: Done 776 tasks      | elapsed: 42.4min\n",
      "[Parallel(n_jobs=12)]: Done 1128 tasks      | elapsed: 61.4min\n",
      "[Parallel(n_jobs=12)]: Done 1544 tasks      | elapsed: 83.8min\n",
      "[Parallel(n_jobs=12)]: Done 2024 tasks      | elapsed: 110.0min\n",
      "[Parallel(n_jobs=12)]: Done 2568 tasks      | elapsed: 139.5min\n",
      "[Parallel(n_jobs=12)]: Done 3176 tasks      | elapsed: 172.4min\n",
      "[Parallel(n_jobs=12)]: Done 3848 tasks      | elapsed: 208.5min\n",
      "[Parallel(n_jobs=12)]: Done 4584 tasks      | elapsed: 247.7min\n",
      "[Parallel(n_jobs=12)]: Done 5384 tasks      | elapsed: 291.7min\n",
      "[Parallel(n_jobs=12)]: Done 6248 tasks      | elapsed: 339.0min\n",
      "[Parallel(n_jobs=12)]: Done 7176 tasks      | elapsed: 388.9min\n",
      "[Parallel(n_jobs=12)]: Done 8168 tasks      | elapsed: 438.0min\n"
     ]
    }
   ],
   "source": [
    "parallel = Parallel(n_jobs=n_jobs, verbose=3, backend='loky') #loky\n",
    "clf_list = parallel(delayed(train_lambda_net)(config=config,\n",
    "                                              lambda_index=index, \n",
    "                                              X_data_with_function=X_data, \n",
    "                                              y_data_with_function=y_data,\n",
    "                                              distribution_parameter_list=distribution_parameter_list[1],\n",
    "                                              return_history=True, \n",
    "                                              printing=True) for index, (X_data, y_data, distribution_parameter_list) in enumerate(zip(X_data_list, y_data_list, distribution_parameter_list_list)))  \n",
    "del parallel"
   ]
  },
  {
   "cell_type": "code",
   "execution_count": null,
   "metadata": {},
   "outputs": [],
   "source": [
    "random_network['model'].get_config()"
   ]
  },
  {
   "cell_type": "code",
   "execution_count": null,
   "metadata": {
    "tags": []
   },
   "outputs": [],
   "source": [
    "random_network['model'].summary()"
   ]
  },
  {
   "cell_type": "markdown",
   "metadata": {},
   "source": [
    "## Save and Plot Lambda-Model History"
   ]
  },
  {
   "cell_type": "code",
   "execution_count": null,
   "metadata": {
    "ExecuteTime": {
     "start_time": "2021-01-17T09:44:26.874Z"
    },
    "tags": []
   },
   "outputs": [],
   "source": [
    "loss_list_total = []\n",
    "metric_list_total = []\n",
    "\n",
    "val_loss_list_total = []\n",
    "val_metric_list_total = []\n",
    "\n",
    "index_list = []\n",
    "\n",
    "\n",
    "max_training_epochs = 0\n",
    "for _, entry in tqdm(enumerate(clf_list)):\n",
    "    history = entry['history']\n",
    "    \n",
    "    current_training_epochs = len(history[list(history.keys())[0]])\n",
    "    max_training_epochs = max(max_training_epochs, current_training_epochs)\n",
    "\n",
    "\n",
    "for _, entry in tqdm(enumerate(clf_list)):\n",
    "    history = entry['history']\n",
    "    index = entry['index']\n",
    "    \n",
    "    current_training_epochs = len(history[list(history.keys())[0]])\n",
    "    \n",
    "    loss_list = np.full(max_training_epochs, np.nan)\n",
    "    metric_list = np.full(max_training_epochs, np.nan)\n",
    "    val_loss_list = np.full(max_training_epochs, np.nan)\n",
    "    val_metric_list = np.full(max_training_epochs, np.nan) \n",
    "\n",
    "    for i in range(current_training_epochs):  \n",
    "        loss_list[i] = history[list(history.keys())[0]][i]\n",
    "        metric_list[i] = history[list(history.keys())[1]][i]\n",
    "        val_loss_list[i] = history[list(history.keys())[len(history.keys())//2]][i]\n",
    "        val_metric_list[i] = history[list(history.keys())[len(history.keys())//2+1]][i]\n",
    "    \n",
    "    index_list.append([index])\n",
    "    loss_list_total.append(loss_list)\n",
    "    metric_list_total.append(metric_list)\n",
    "    val_loss_list_total.append(val_loss_list)\n",
    "    val_metric_list_total.append(val_metric_list)\n",
    "\n",
    "loss_df = pd.DataFrame(data=np.hstack([index_list, loss_list_total]), columns=flatten_list(['index', [list(history.keys())[0] + '_epoch_' + str(i+1) for i in range(max_training_epochs)]]))\n",
    "#loss_df['index'] = loss_df['index'].astype(int)\n",
    "metric_df = pd.DataFrame(data=np.hstack([index_list, metric_list_total]), columns=flatten_list(['index', [list(history.keys())[1] + '_epoch_' + str(i+1) for i in range(max_training_epochs)]]))\n",
    "#metric_df['index'] = metric_df['index'].astype(int)\n",
    "val_loss_df = pd.DataFrame(data=np.hstack([index_list, val_loss_list_total]), columns=flatten_list(['index', [list(history.keys())[len(history.keys())//2] + '_epoch_' + str(i+1) for i in range(max_training_epochs)]]))\n",
    "#val_loss_df['index'] = val_loss_df['index'].astype(int)\n",
    "val_metric_df = pd.DataFrame(data=np.hstack([index_list, val_metric_list_total]), columns=flatten_list(['index', [list(history.keys())[len(history.keys())//2+1] + '_epoch_' + str(i+1) for i in range(max_training_epochs)]])) \n",
    "#val_metric_df['index'] = val_metric_df['index'].astype(int)\n"
   ]
  },
  {
   "cell_type": "code",
   "execution_count": null,
   "metadata": {
    "ExecuteTime": {
     "start_time": "2021-01-17T09:44:26.875Z"
    }
   },
   "outputs": [],
   "source": [
    "path_loss = './data/weights/weights_' + path_identifier_lambda_net_data + '/history_' + list(history.keys())[0] + '.txt'\n",
    "path_metric = './data/weights/weights_' + path_identifier_lambda_net_data + '/history_' + list(history.keys())[1] + '.txt'\n",
    "path_val_loss = './data/weights/weights_' + path_identifier_lambda_net_data + '/history_' + list(history.keys())[len(history.keys())//2] + '.txt'\n",
    "path_val_metric = './data/weights/weights_' + path_identifier_lambda_net_data + '/history_' + list(history.keys())[len(history.keys())//2+1] + '.txt'\n",
    "\n",
    "loss_df.to_csv(path_loss, index=None, sep=',')\n",
    "metric_df.to_csv(path_metric, index=None, sep=',')\n",
    "val_loss_df.to_csv(path_val_loss, index=None, sep=',')\n",
    "val_metric_df.to_csv(path_val_metric, index=None, sep=',')\n"
   ]
  },
  {
   "cell_type": "code",
   "execution_count": null,
   "metadata": {
    "ExecuteTime": {
     "start_time": "2021-01-17T09:44:26.876Z"
    }
   },
   "outputs": [],
   "source": [
    "loss_df.describe()"
   ]
  },
  {
   "cell_type": "code",
   "execution_count": null,
   "metadata": {
    "ExecuteTime": {
     "start_time": "2021-01-17T09:44:26.877Z"
    }
   },
   "outputs": [],
   "source": [
    "val_loss_df.describe()"
   ]
  },
  {
   "cell_type": "code",
   "execution_count": null,
   "metadata": {
    "ExecuteTime": {
     "start_time": "2021-01-17T09:44:26.879Z"
    }
   },
   "outputs": [],
   "source": [
    "metric_df.describe()"
   ]
  },
  {
   "cell_type": "code",
   "execution_count": null,
   "metadata": {
    "ExecuteTime": {
     "start_time": "2021-01-17T09:44:26.880Z"
    }
   },
   "outputs": [],
   "source": [
    "val_metric_df.describe()"
   ]
  },
  {
   "cell_type": "code",
   "execution_count": null,
   "metadata": {
    "ExecuteTime": {
     "start_time": "2021-01-17T09:44:26.881Z"
    }
   },
   "outputs": [],
   "source": [
    "# summarize history for metric\n",
    "path = './data/results/weights_' + path_identifier_lambda_net_data + '/' + list(history.keys())[1] + '.png'\n",
    "\n",
    "adjustment_threshold_metric = 10#100\n",
    "    \n",
    "metric_df_adjusted = metric_df.copy(deep=True).iloc[:,1:]\n",
    "if adjustment_threshold_metric > 0:\n",
    "    metric_df_adjusted[metric_df_adjusted.columns] = np.where(metric_df_adjusted[metric_df_adjusted.columns] > adjustment_threshold_metric, adjustment_threshold_metric, metric_df_adjusted[metric_df_adjusted.columns])\n",
    "    \n",
    "val_metric_df_adjusted = val_metric_df.copy(deep=True).iloc[:,1:]\n",
    "if adjustment_threshold_metric > 0:\n",
    "    val_metric_df_adjusted[val_metric_df_adjusted.columns] = np.where(val_metric_df_adjusted[val_metric_df_adjusted.columns] > adjustment_threshold_metric, adjustment_threshold_metric, val_metric_df_adjusted[val_metric_df_adjusted.columns])\n",
    "\n",
    "    \n",
    "plt.plot(metric_df_adjusted.describe().loc['mean'].values)\n",
    "plt.plot(val_metric_df_adjusted.describe().loc['mean'].values)\n",
    "plt.title('model ' + list(history.keys())[1])\n",
    "plt.ylabel(list(history.keys())[1])\n",
    "plt.xlabel('epoch')\n",
    "plt.legend(['train', 'valid'], loc='upper left')\n",
    "plt.savefig(path)\n",
    "plt.show()\n"
   ]
  },
  {
   "cell_type": "code",
   "execution_count": null,
   "metadata": {
    "ExecuteTime": {
     "start_time": "2021-01-17T09:44:26.883Z"
    },
    "tags": []
   },
   "outputs": [],
   "source": [
    "# summarize history for loss\n",
    "path = './data/results/weights_' + path_identifier_lambda_net_data + '/' + list(history.keys())[0] + '.png'\n",
    "\n",
    "adjustment_threshold_loss = 0#10000\n",
    "    \n",
    "loss_df_adjusted = loss_df.copy(deep=True).iloc[:,1:]\n",
    "\n",
    "if adjustment_threshold_loss > 0:\n",
    "    loss_df_adjusted[loss_df_adjusted.columns] = np.where(loss_df_adjusted[loss_df_adjusted.columns] > adjustment_threshold_loss, adjustment_threshold_loss, loss_df_adjusted[loss_df_adjusted.columns])\n",
    "    \n",
    "val_loss_df_adjusted = val_loss_df.copy(deep=True).iloc[:,1:]\n",
    "if adjustment_threshold_loss > 0:\n",
    "    val_loss_df_adjusted[val_loss_df_adjusted.columns] = np.where(val_loss_df_adjusted[val_loss_df_adjusted.columns] > adjustment_threshold_loss, adjustment_threshold_loss, val_loss_df_adjusted[val_loss_df_adjusted.columns])\n",
    "\n",
    "    \n",
    "plt.plot(loss_df_adjusted.describe().loc['mean'].values)\n",
    "plt.plot(val_loss_df_adjusted.describe().loc['mean'].values)\n",
    "plt.title('model ' + list(history.keys())[0])\n",
    "plt.ylabel(list(history.keys())[0])\n",
    "plt.xlabel('epoch')\n",
    "plt.legend(['train', 'valid'], loc='upper left')\n",
    "plt.savefig(path)\n",
    "plt.show()\n"
   ]
  },
  {
   "cell_type": "code",
   "execution_count": null,
   "metadata": {
    "tags": []
   },
   "outputs": [],
   "source": [
    "if use_gpu:\n",
    "    from numba import cuda \n",
    "    device = cuda.get_current_device()\n",
    "    device.reset()"
   ]
  }
 ],
 "metadata": {
  "kernelspec": {
   "display_name": "Python 3 (ipykernel)",
   "language": "python",
   "name": "python3"
  },
  "language_info": {
   "codemirror_mode": {
    "name": "ipython",
    "version": 3
   },
   "file_extension": ".py",
   "mimetype": "text/x-python",
   "name": "python",
   "nbconvert_exporter": "python",
   "pygments_lexer": "ipython3",
   "version": "3.8.0"
  }
 },
 "nbformat": 4,
 "nbformat_minor": 4
}
