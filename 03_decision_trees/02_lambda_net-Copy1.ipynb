{
 "cells": [
  {
   "cell_type": "markdown",
   "metadata": {},
   "source": [
    "# Generation of λ-Nets for I-Net training"
   ]
  },
  {
   "cell_type": "markdown",
   "metadata": {},
   "source": [
    "## Specitication of Experiment Settings"
   ]
  },
  {
   "cell_type": "code",
   "execution_count": 1,
   "metadata": {
    "execution": {
     "iopub.execute_input": "2022-01-22T13:25:07.040702Z",
     "iopub.status.busy": "2022-01-22T13:25:07.040249Z",
     "iopub.status.idle": "2022-01-22T13:25:07.061838Z",
     "shell.execute_reply": "2022-01-22T13:25:07.060929Z",
     "shell.execute_reply.started": "2022-01-22T13:25:07.040581Z"
    },
    "tags": []
   },
   "outputs": [],
   "source": [
    "#######################################################################################################################################\n",
    "###################################################### CONFIG FILE ####################################################################\n",
    "#######################################################################################################################################\n",
    "sleep_time = 0 #minutes\n",
    "\n",
    "config = {\n",
    "    'function_family': {\n",
    "        'maximum_depth': 4,\n",
    "        'beta': 1,\n",
    "        'decision_sparsity': 1,\n",
    "        'fully_grown': True,          \n",
    "        'dt_type': 'vanilla', #'vanilla', 'SDT'\n",
    "    },\n",
    "    'data': {\n",
    "        'number_of_variables': 10, \n",
    "        'num_classes': 2,\n",
    "        'categorical_indices': [],\n",
    "        'random_parameters_distribution': True, ##MAKEPATH DIFFERENT FILES\n",
    "        'max_distributions_per_class': 0, # None; 0; int >= 1\n",
    "        \n",
    "        'function_generation_type': 'distribtion',# 'make_classification_distribution', 'make_classification_distribution_trained', 'make_classification', 'make_classification_trained', 'random_decision_tree', 'random_decision_tree_trained'\n",
    "        'objective': 'classification', # 'regression'\n",
    "        \n",
    "        'x_max': 1,\n",
    "        'x_min': 0,\n",
    "        'x_distrib': 'uniform', #'normal', 'uniform',       \n",
    "                \n",
    "        'lambda_dataset_size': 5000, #number of samples per function\n",
    "        'number_of_generated_datasets': 100,\n",
    "        \n",
    "        'noise_injected_level': 0, \n",
    "        'noise_injected_type': 'flip_percentage', # '' 'normal' 'uniform' 'normal_range' 'uniform_range'\n",
    "    }, \n",
    "    'lambda_net': {\n",
    "        'epochs_lambda': 1000,\n",
    "        'early_stopping_lambda': True, \n",
    "        'early_stopping_min_delta_lambda': 1e-2,\n",
    "        'batch_lambda': 64,\n",
    "        'dropout_lambda': 0,\n",
    "        'lambda_network_layers': [128],\n",
    "        'optimizer_lambda': 'adam',\n",
    "        'loss_lambda': 'binary_crossentropy', #categorical_crossentropy\n",
    "                \n",
    "        'number_initializations_lambda': 1, \n",
    "        \n",
    "        'number_of_trained_lambda_nets': 100,\n",
    "    },     \n",
    "    'evaluation': {   \n",
    "    },    \n",
    "    \n",
    "    'computation':{\n",
    "        'n_jobs': 20,\n",
    "        'use_gpu': False,\n",
    "        'gpu_numbers': '0',\n",
    "        'RANDOM_SEED': 42,   \n",
    "    }\n",
    "}\n",
    "\n",
    "\n"
   ]
  },
  {
   "cell_type": "code",
   "execution_count": 2,
   "metadata": {
    "execution": {
     "iopub.execute_input": "2022-01-22T13:25:07.064469Z",
     "iopub.status.busy": "2022-01-22T13:25:07.064058Z",
     "iopub.status.idle": "2022-01-22T13:25:07.175185Z",
     "shell.execute_reply": "2022-01-22T13:25:07.174255Z",
     "shell.execute_reply.started": "2022-01-22T13:25:07.064421Z"
    }
   },
   "outputs": [],
   "source": [
    "#######################################################################################################################################\n",
    "########################################### IMPORT GLOBAL VARIABLES FROM CONFIG #######################################################\n",
    "#######################################################################################################################################\n",
    "globals().update(config['function_family'])\n",
    "globals().update(config['data'])\n",
    "globals().update(config['lambda_net'])\n",
    "globals().update(config['evaluation'])\n",
    "globals().update(config['computation'])"
   ]
  },
  {
   "cell_type": "code",
   "execution_count": 3,
   "metadata": {
    "execution": {
     "iopub.execute_input": "2022-01-22T13:25:07.177146Z",
     "iopub.status.busy": "2022-01-22T13:25:07.176729Z",
     "iopub.status.idle": "2022-01-22T13:25:11.053912Z",
     "shell.execute_reply": "2022-01-22T13:25:11.053008Z",
     "shell.execute_reply.started": "2022-01-22T13:25:07.177097Z"
    }
   },
   "outputs": [],
   "source": [
    "import warnings\n",
    "warnings.filterwarnings('ignore')\n",
    "import os\n",
    "os.environ['TF_CPP_MIN_LOG_LEVEL'] = '3' \n",
    "\n",
    "from itertools import product       # forms cartesian products\n",
    "from tqdm import tqdm_notebook as tqdm\n",
    "from more_itertools import random_product \n",
    "import pickle\n",
    "import numpy as np\n",
    "import pandas as pd\n",
    "import timeit\n",
    "import matplotlib.pyplot as plt \n",
    "import time\n",
    "import math\n",
    "import operator\n",
    "from functools import reduce\n",
    "\n",
    "from scipy.signal import argrelextrema\n",
    "\n",
    "import sys\n",
    "\n",
    "import shutil\n",
    "\n",
    "import logging\n",
    "logging.getLogger('tensorflow').disabled = True\n",
    "\n",
    "from joblib import Parallel, delayed\n",
    "\n",
    "\n",
    "from sklearn.model_selection import cross_val_score, train_test_split, StratifiedKFold, KFold\n",
    "from sklearn.metrics import accuracy_score, log_loss, roc_auc_score, f1_score, mean_absolute_error, r2_score\n",
    "#from similaritymeasures import frechet_dist, area_between_two_curves, dtw\n",
    "from IPython.display import Image\n",
    "\n",
    "from livelossplot import PlotLossesKerasTF\n",
    "\n",
    "import seaborn as sns\n",
    "\n",
    "import tensorflow as tf\n",
    "#import tensorflow_addons as tfa\n",
    "import random \n",
    "\n",
    "\n",
    "#import keras\n",
    "import tensorflow.keras.backend as K\n",
    "from tensorflow.keras import Sequential\n",
    "from tensorflow.keras.layers import Dense, Dropout\n",
    "from tensorflow.keras.utils import plot_model\n",
    "from tensorflow.keras.callbacks import EarlyStopping, ModelCheckpoint, ReduceLROnPlateau\n",
    "\n"
   ]
  },
  {
   "cell_type": "code",
   "execution_count": 4,
   "metadata": {
    "execution": {
     "iopub.execute_input": "2022-01-22T13:25:11.055578Z",
     "iopub.status.busy": "2022-01-22T13:25:11.055222Z",
     "iopub.status.idle": "2022-01-22T13:25:11.063399Z",
     "shell.execute_reply": "2022-01-22T13:25:11.062723Z",
     "shell.execute_reply.started": "2022-01-22T13:25:11.055549Z"
    }
   },
   "outputs": [],
   "source": [
    "#######################################################################################################################################\n",
    "###################################################### SET VARIABLES + DESIGN #########################################################\n",
    "#######################################################################################################################################\n",
    "    \n",
    "os.environ['CUDA_VISIBLE_DEVICES'] = gpu_numbers if use_gpu else ''\n",
    "\n",
    "sns.set_style(\"darkgrid\")\n",
    "\n",
    "random.seed(RANDOM_SEED)\n",
    "np.random.seed(RANDOM_SEED)\n",
    "np.random.seed(RANDOM_SEED)\n",
    "if int(tf.__version__[0]) >= 2:\n",
    "    tf.random.set_seed(RANDOM_SEED)\n",
    "else:\n",
    "    tf.set_random_seed(RANDOM_SEED)\n",
    "    \n",
    "    \n",
    "pd.set_option('display.float_format', lambda x: '%.3f' % x)\n",
    "pd.set_option('display.max_columns', 200)\n",
    "np.set_printoptions(threshold=200)"
   ]
  },
  {
   "cell_type": "code",
   "execution_count": null,
   "metadata": {},
   "outputs": [],
   "source": []
  },
  {
   "cell_type": "code",
   "execution_count": 5,
   "metadata": {
    "execution": {
     "iopub.execute_input": "2022-01-22T13:25:11.064533Z",
     "iopub.status.busy": "2022-01-22T13:25:11.064362Z",
     "iopub.status.idle": "2022-01-22T13:25:13.483113Z",
     "shell.execute_reply": "2022-01-22T13:25:13.482265Z",
     "shell.execute_reply.started": "2022-01-22T13:25:11.064510Z"
    }
   },
   "outputs": [],
   "source": [
    "from utilities.LambdaNet import *\n",
    "from utilities.metrics import *\n",
    "from utilities.utility_functions import *\n",
    "#######################################################################################################################################\n",
    "####################################################### CONFIG ADJUSTMENTS ############################################################\n",
    "#######################################################################################################################################\n",
    "\n",
    "config['lambda_net']['number_of_lambda_weights'] = get_number_of_lambda_net_parameters(lambda_network_layers, number_of_variables, num_classes)\n",
    "    \n",
    "#######################################################################################################################################\n",
    "################################################## UPDATE VARIABLES ###################################################################\n",
    "#######################################################################################################################################\n",
    "globals().update(config['function_family'])\n",
    "globals().update(config['data'])\n",
    "globals().update(config['lambda_net'])\n",
    "globals().update(config['evaluation'])\n",
    "globals().update(config['computation'])\n",
    "\n",
    "#initialize_utility_functions_config_from_curent_notebook(config)\n",
    "#initialize_LambdaNet_config_from_curent_notebook(config)\n",
    "#initialize_metrics_config_from_curent_notebook(config)\n",
    "\n",
    "#######################################################################################################################################\n",
    "###################################################### PATH + FOLDER CREATION #########################################################\n",
    "#######################################################################################################################################\n",
    "globals().update(generate_paths(config, path_type='lambda_net'))\n",
    "generate_directory_structure()\n",
    "generate_lambda_net_directory(config)\n",
    "\n",
    "#######################################################################################################################################\n",
    "############################################################ SLEEP TIMER ##############################################################\n",
    "#######################################################################################################################################\n",
    "sleep_minutes(sleep_time)"
   ]
  },
  {
   "cell_type": "code",
   "execution_count": 6,
   "metadata": {
    "execution": {
     "iopub.execute_input": "2022-01-22T13:25:13.485876Z",
     "iopub.status.busy": "2022-01-22T13:25:13.485360Z",
     "iopub.status.idle": "2022-01-22T13:25:13.490622Z",
     "shell.execute_reply": "2022-01-22T13:25:13.489882Z",
     "shell.execute_reply.started": "2022-01-22T13:25:13.485849Z"
    }
   },
   "outputs": [
    {
     "name": "stdout",
     "output_type": "stream",
     "text": [
      "lNetSize5000_numLNets100_var10_class2_distribtion_xMax1_xMin0_xDistuniform_randParamDist_maxDistClass0_depth4_beta1_decisionSpars1_vanilla_fullyGrown/128_e1000ES0.01_b64_drop0_adam_binary_crossentropy_fixedInit1-seed42\n",
      "lNetSize5000_numDatasets100_var10_class2_distribtion_xMax1_xMin0_xDistuniform_randParamDist_maxDistClass0_depth4_beta1_decisionSpars1_vanilla_fullyGrown\n"
     ]
    }
   ],
   "source": [
    "print(path_identifier_lambda_net_data)\n",
    "\n",
    "print(path_identifier_function_data)\n"
   ]
  },
  {
   "cell_type": "code",
   "execution_count": 7,
   "metadata": {
    "execution": {
     "iopub.execute_input": "2022-01-22T13:25:13.491705Z",
     "iopub.status.busy": "2022-01-22T13:25:13.491455Z",
     "iopub.status.idle": "2022-01-22T13:25:13.537717Z",
     "shell.execute_reply": "2022-01-22T13:25:13.537223Z",
     "shell.execute_reply.started": "2022-01-22T13:25:13.491681Z"
    }
   },
   "outputs": [
    {
     "name": "stdout",
     "output_type": "stream",
     "text": [
      "Num GPUs Available:  0\n",
      "Num XLA-GPUs Available:  0\n"
     ]
    }
   ],
   "source": [
    "print(\"Num GPUs Available: \", len(tf.config.experimental.list_physical_devices('GPU')))\n",
    "print(\"Num XLA-GPUs Available: \", len(tf.config.experimental.list_physical_devices('XLA_GPU')))"
   ]
  },
  {
   "cell_type": "code",
   "execution_count": 8,
   "metadata": {
    "execution": {
     "iopub.execute_input": "2022-01-22T13:25:13.539086Z",
     "iopub.status.busy": "2022-01-22T13:25:13.538829Z",
     "iopub.status.idle": "2022-01-22T13:25:13.556310Z",
     "shell.execute_reply": "2022-01-22T13:25:13.555809Z",
     "shell.execute_reply.started": "2022-01-22T13:25:13.539061Z"
    }
   },
   "outputs": [
    {
     "data": {
      "text/plain": [
       "[128]"
      ]
     },
     "execution_count": 8,
     "metadata": {},
     "output_type": "execute_result"
    }
   ],
   "source": [
    "lambda_network_layers"
   ]
  },
  {
   "cell_type": "code",
   "execution_count": 9,
   "metadata": {
    "ExecuteTime": {
     "end_time": "2021-01-17T09:46:11.182937Z",
     "start_time": "2021-01-17T09:44:31.797522Z"
    },
    "execution": {
     "iopub.execute_input": "2022-01-22T13:25:13.557710Z",
     "iopub.status.busy": "2022-01-22T13:25:13.557326Z",
     "iopub.status.idle": "2022-01-22T13:25:13.970876Z",
     "shell.execute_reply": "2022-01-22T13:25:13.970263Z",
     "shell.execute_reply.started": "2022-01-22T13:25:13.557685Z"
    },
    "tags": []
   },
   "outputs": [],
   "source": [
    "path_functions = './data/saved_function_lists/functions_' + path_identifier_function_data + '.csv'\n",
    "function_df = pd.read_csv(path_functions)\n",
    "\n",
    "path_X_data = './data/saved_function_lists/X_data_' + path_identifier_function_data + '.pkl'\n",
    "with open(path_X_data, 'rb') as f:\n",
    "    X_data_list = pickle.load(f)\n",
    "    \n",
    "path_y_data = './data/saved_function_lists/y_data_' + path_identifier_function_data + '.pkl'\n",
    "with open(path_y_data, 'rb') as f:\n",
    "    y_data_list = pickle.load(f)\n",
    "    \n",
    "try:\n",
    "    path_distribution = './data/saved_function_lists/distribution_parameter_list_list_' + path_identifier_function_data + '.pkl'\n",
    "    with open(path_distribution, 'rb') as f:\n",
    "        distribution_parameter_list_list = pickle.load(f)\n",
    "except Exception:\n",
    "    traceback.print_exc()\n",
    "    distribution_parameter_list_list = [None]*number_of_generated_datasets\n",
    "    \n",
    "if number_of_trained_lambda_nets < number_of_generated_datasets:\n",
    "    function_df = function_df.sample(n=number_of_trained_lambda_nets, random_state=RANDOM_SEED)\n",
    "    random.seed(RANDOM_SEED)\n",
    "    X_data_list = random.sample(X_data_list, number_of_trained_lambda_nets)\n",
    "    random.seed(RANDOM_SEED)\n",
    "    y_data_list = random.sample(y_data_list, number_of_trained_lambda_nets)\n",
    "    random.seed(RANDOM_SEED)\n",
    "    try:\n",
    "        distribution_parameter_list_list = random.sample(distribution_parameter_list_list, number_of_trained_lambda_nets)\n",
    "        random.seed(RANDOM_SEED)\n",
    "    except:\n",
    "        distribution_parameter_list_list = [None]*number_of_trained_lambda_nets"
   ]
  },
  {
   "cell_type": "markdown",
   "metadata": {},
   "source": [
    "## Data Inspection"
   ]
  },
  {
   "cell_type": "code",
   "execution_count": 10,
   "metadata": {
    "execution": {
     "iopub.execute_input": "2022-01-22T13:25:13.972247Z",
     "iopub.status.busy": "2022-01-22T13:25:13.971986Z",
     "iopub.status.idle": "2022-01-22T13:25:13.996182Z",
     "shell.execute_reply": "2022-01-22T13:25:13.995715Z",
     "shell.execute_reply.started": "2022-01-22T13:25:13.972221Z"
    }
   },
   "outputs": [
    {
     "data": {
      "text/html": [
       "<div>\n",
       "<style scoped>\n",
       "    .dataframe tbody tr th:only-of-type {\n",
       "        vertical-align: middle;\n",
       "    }\n",
       "\n",
       "    .dataframe tbody tr th {\n",
       "        vertical-align: top;\n",
       "    }\n",
       "\n",
       "    .dataframe thead th {\n",
       "        text-align: right;\n",
       "    }\n",
       "</style>\n",
       "<table border=\"1\" class=\"dataframe\">\n",
       "  <thead>\n",
       "    <tr style=\"text-align: right;\">\n",
       "      <th></th>\n",
       "      <th>feat0</th>\n",
       "      <th>feat1</th>\n",
       "      <th>feat2</th>\n",
       "      <th>feat3</th>\n",
       "      <th>feat4</th>\n",
       "      <th>feat5</th>\n",
       "      <th>feat6</th>\n",
       "      <th>feat7</th>\n",
       "      <th>feat8</th>\n",
       "      <th>feat9</th>\n",
       "      <th>feat10</th>\n",
       "      <th>feat11</th>\n",
       "      <th>feat12</th>\n",
       "      <th>feat13</th>\n",
       "      <th>feat14</th>\n",
       "      <th>split0</th>\n",
       "      <th>split1</th>\n",
       "      <th>split2</th>\n",
       "      <th>split3</th>\n",
       "      <th>split4</th>\n",
       "      <th>split5</th>\n",
       "      <th>split6</th>\n",
       "      <th>split7</th>\n",
       "      <th>split8</th>\n",
       "      <th>split9</th>\n",
       "      <th>split10</th>\n",
       "      <th>split11</th>\n",
       "      <th>split12</th>\n",
       "      <th>split13</th>\n",
       "      <th>split14</th>\n",
       "      <th>lp0</th>\n",
       "      <th>lp1</th>\n",
       "      <th>lp2</th>\n",
       "      <th>lp3</th>\n",
       "      <th>lp4</th>\n",
       "      <th>lp5</th>\n",
       "      <th>lp6</th>\n",
       "      <th>lp7</th>\n",
       "      <th>lp8</th>\n",
       "      <th>lp9</th>\n",
       "      <th>lp10</th>\n",
       "      <th>lp11</th>\n",
       "      <th>lp12</th>\n",
       "      <th>lp13</th>\n",
       "      <th>lp14</th>\n",
       "      <th>lp15</th>\n",
       "    </tr>\n",
       "  </thead>\n",
       "  <tbody>\n",
       "    <tr>\n",
       "      <th>0</th>\n",
       "      <td>0</td>\n",
       "      <td>0</td>\n",
       "      <td>0</td>\n",
       "      <td>0</td>\n",
       "      <td>0</td>\n",
       "      <td>0</td>\n",
       "      <td>0</td>\n",
       "      <td>0</td>\n",
       "      <td>0</td>\n",
       "      <td>0</td>\n",
       "      <td>0</td>\n",
       "      <td>0</td>\n",
       "      <td>0</td>\n",
       "      <td>0</td>\n",
       "      <td>0</td>\n",
       "      <td>0</td>\n",
       "      <td>0</td>\n",
       "      <td>0</td>\n",
       "      <td>0</td>\n",
       "      <td>0</td>\n",
       "      <td>0</td>\n",
       "      <td>0</td>\n",
       "      <td>0</td>\n",
       "      <td>0</td>\n",
       "      <td>0</td>\n",
       "      <td>0</td>\n",
       "      <td>0</td>\n",
       "      <td>0</td>\n",
       "      <td>0</td>\n",
       "      <td>0</td>\n",
       "      <td>0</td>\n",
       "      <td>0</td>\n",
       "      <td>0</td>\n",
       "      <td>0</td>\n",
       "      <td>0</td>\n",
       "      <td>0</td>\n",
       "      <td>0</td>\n",
       "      <td>0</td>\n",
       "      <td>0</td>\n",
       "      <td>0</td>\n",
       "      <td>0</td>\n",
       "      <td>0</td>\n",
       "      <td>0</td>\n",
       "      <td>0</td>\n",
       "      <td>0</td>\n",
       "      <td>0</td>\n",
       "    </tr>\n",
       "    <tr>\n",
       "      <th>1</th>\n",
       "      <td>0</td>\n",
       "      <td>0</td>\n",
       "      <td>0</td>\n",
       "      <td>0</td>\n",
       "      <td>0</td>\n",
       "      <td>0</td>\n",
       "      <td>0</td>\n",
       "      <td>0</td>\n",
       "      <td>0</td>\n",
       "      <td>0</td>\n",
       "      <td>0</td>\n",
       "      <td>0</td>\n",
       "      <td>0</td>\n",
       "      <td>0</td>\n",
       "      <td>0</td>\n",
       "      <td>0</td>\n",
       "      <td>0</td>\n",
       "      <td>0</td>\n",
       "      <td>0</td>\n",
       "      <td>0</td>\n",
       "      <td>0</td>\n",
       "      <td>0</td>\n",
       "      <td>0</td>\n",
       "      <td>0</td>\n",
       "      <td>0</td>\n",
       "      <td>0</td>\n",
       "      <td>0</td>\n",
       "      <td>0</td>\n",
       "      <td>0</td>\n",
       "      <td>0</td>\n",
       "      <td>0</td>\n",
       "      <td>0</td>\n",
       "      <td>0</td>\n",
       "      <td>0</td>\n",
       "      <td>0</td>\n",
       "      <td>0</td>\n",
       "      <td>0</td>\n",
       "      <td>0</td>\n",
       "      <td>0</td>\n",
       "      <td>0</td>\n",
       "      <td>0</td>\n",
       "      <td>0</td>\n",
       "      <td>0</td>\n",
       "      <td>0</td>\n",
       "      <td>0</td>\n",
       "      <td>0</td>\n",
       "    </tr>\n",
       "    <tr>\n",
       "      <th>2</th>\n",
       "      <td>0</td>\n",
       "      <td>0</td>\n",
       "      <td>0</td>\n",
       "      <td>0</td>\n",
       "      <td>0</td>\n",
       "      <td>0</td>\n",
       "      <td>0</td>\n",
       "      <td>0</td>\n",
       "      <td>0</td>\n",
       "      <td>0</td>\n",
       "      <td>0</td>\n",
       "      <td>0</td>\n",
       "      <td>0</td>\n",
       "      <td>0</td>\n",
       "      <td>0</td>\n",
       "      <td>0</td>\n",
       "      <td>0</td>\n",
       "      <td>0</td>\n",
       "      <td>0</td>\n",
       "      <td>0</td>\n",
       "      <td>0</td>\n",
       "      <td>0</td>\n",
       "      <td>0</td>\n",
       "      <td>0</td>\n",
       "      <td>0</td>\n",
       "      <td>0</td>\n",
       "      <td>0</td>\n",
       "      <td>0</td>\n",
       "      <td>0</td>\n",
       "      <td>0</td>\n",
       "      <td>0</td>\n",
       "      <td>0</td>\n",
       "      <td>0</td>\n",
       "      <td>0</td>\n",
       "      <td>0</td>\n",
       "      <td>0</td>\n",
       "      <td>0</td>\n",
       "      <td>0</td>\n",
       "      <td>0</td>\n",
       "      <td>0</td>\n",
       "      <td>0</td>\n",
       "      <td>0</td>\n",
       "      <td>0</td>\n",
       "      <td>0</td>\n",
       "      <td>0</td>\n",
       "      <td>0</td>\n",
       "    </tr>\n",
       "    <tr>\n",
       "      <th>3</th>\n",
       "      <td>0</td>\n",
       "      <td>0</td>\n",
       "      <td>0</td>\n",
       "      <td>0</td>\n",
       "      <td>0</td>\n",
       "      <td>0</td>\n",
       "      <td>0</td>\n",
       "      <td>0</td>\n",
       "      <td>0</td>\n",
       "      <td>0</td>\n",
       "      <td>0</td>\n",
       "      <td>0</td>\n",
       "      <td>0</td>\n",
       "      <td>0</td>\n",
       "      <td>0</td>\n",
       "      <td>0</td>\n",
       "      <td>0</td>\n",
       "      <td>0</td>\n",
       "      <td>0</td>\n",
       "      <td>0</td>\n",
       "      <td>0</td>\n",
       "      <td>0</td>\n",
       "      <td>0</td>\n",
       "      <td>0</td>\n",
       "      <td>0</td>\n",
       "      <td>0</td>\n",
       "      <td>0</td>\n",
       "      <td>0</td>\n",
       "      <td>0</td>\n",
       "      <td>0</td>\n",
       "      <td>0</td>\n",
       "      <td>0</td>\n",
       "      <td>0</td>\n",
       "      <td>0</td>\n",
       "      <td>0</td>\n",
       "      <td>0</td>\n",
       "      <td>0</td>\n",
       "      <td>0</td>\n",
       "      <td>0</td>\n",
       "      <td>0</td>\n",
       "      <td>0</td>\n",
       "      <td>0</td>\n",
       "      <td>0</td>\n",
       "      <td>0</td>\n",
       "      <td>0</td>\n",
       "      <td>0</td>\n",
       "    </tr>\n",
       "    <tr>\n",
       "      <th>4</th>\n",
       "      <td>0</td>\n",
       "      <td>0</td>\n",
       "      <td>0</td>\n",
       "      <td>0</td>\n",
       "      <td>0</td>\n",
       "      <td>0</td>\n",
       "      <td>0</td>\n",
       "      <td>0</td>\n",
       "      <td>0</td>\n",
       "      <td>0</td>\n",
       "      <td>0</td>\n",
       "      <td>0</td>\n",
       "      <td>0</td>\n",
       "      <td>0</td>\n",
       "      <td>0</td>\n",
       "      <td>0</td>\n",
       "      <td>0</td>\n",
       "      <td>0</td>\n",
       "      <td>0</td>\n",
       "      <td>0</td>\n",
       "      <td>0</td>\n",
       "      <td>0</td>\n",
       "      <td>0</td>\n",
       "      <td>0</td>\n",
       "      <td>0</td>\n",
       "      <td>0</td>\n",
       "      <td>0</td>\n",
       "      <td>0</td>\n",
       "      <td>0</td>\n",
       "      <td>0</td>\n",
       "      <td>0</td>\n",
       "      <td>0</td>\n",
       "      <td>0</td>\n",
       "      <td>0</td>\n",
       "      <td>0</td>\n",
       "      <td>0</td>\n",
       "      <td>0</td>\n",
       "      <td>0</td>\n",
       "      <td>0</td>\n",
       "      <td>0</td>\n",
       "      <td>0</td>\n",
       "      <td>0</td>\n",
       "      <td>0</td>\n",
       "      <td>0</td>\n",
       "      <td>0</td>\n",
       "      <td>0</td>\n",
       "    </tr>\n",
       "  </tbody>\n",
       "</table>\n",
       "</div>"
      ],
      "text/plain": [
       "   feat0  feat1  feat2  feat3  feat4  feat5  feat6  feat7  feat8  feat9  \\\n",
       "0      0      0      0      0      0      0      0      0      0      0   \n",
       "1      0      0      0      0      0      0      0      0      0      0   \n",
       "2      0      0      0      0      0      0      0      0      0      0   \n",
       "3      0      0      0      0      0      0      0      0      0      0   \n",
       "4      0      0      0      0      0      0      0      0      0      0   \n",
       "\n",
       "   feat10  feat11  feat12  feat13  feat14  split0  split1  split2  split3  \\\n",
       "0       0       0       0       0       0       0       0       0       0   \n",
       "1       0       0       0       0       0       0       0       0       0   \n",
       "2       0       0       0       0       0       0       0       0       0   \n",
       "3       0       0       0       0       0       0       0       0       0   \n",
       "4       0       0       0       0       0       0       0       0       0   \n",
       "\n",
       "   split4  split5  split6  split7  split8  split9  split10  split11  split12  \\\n",
       "0       0       0       0       0       0       0        0        0        0   \n",
       "1       0       0       0       0       0       0        0        0        0   \n",
       "2       0       0       0       0       0       0        0        0        0   \n",
       "3       0       0       0       0       0       0        0        0        0   \n",
       "4       0       0       0       0       0       0        0        0        0   \n",
       "\n",
       "   split13  split14  lp0  lp1  lp2  lp3  lp4  lp5  lp6  lp7  lp8  lp9  lp10  \\\n",
       "0        0        0    0    0    0    0    0    0    0    0    0    0     0   \n",
       "1        0        0    0    0    0    0    0    0    0    0    0    0     0   \n",
       "2        0        0    0    0    0    0    0    0    0    0    0    0     0   \n",
       "3        0        0    0    0    0    0    0    0    0    0    0    0     0   \n",
       "4        0        0    0    0    0    0    0    0    0    0    0    0     0   \n",
       "\n",
       "   lp11  lp12  lp13  lp14  lp15  \n",
       "0     0     0     0     0     0  \n",
       "1     0     0     0     0     0  \n",
       "2     0     0     0     0     0  \n",
       "3     0     0     0     0     0  \n",
       "4     0     0     0     0     0  "
      ]
     },
     "execution_count": 10,
     "metadata": {},
     "output_type": "execute_result"
    }
   ],
   "source": [
    "function_df.head()"
   ]
  },
  {
   "cell_type": "code",
   "execution_count": 11,
   "metadata": {
    "execution": {
     "iopub.execute_input": "2022-01-22T13:25:13.997167Z",
     "iopub.status.busy": "2022-01-22T13:25:13.996923Z",
     "iopub.status.idle": "2022-01-22T13:25:14.015179Z",
     "shell.execute_reply": "2022-01-22T13:25:14.014495Z",
     "shell.execute_reply.started": "2022-01-22T13:25:13.997143Z"
    }
   },
   "outputs": [
    {
     "data": {
      "text/plain": [
       "feat0    0\n",
       "feat1    0\n",
       "feat2    0\n",
       "feat3    0\n",
       "feat4    0\n",
       "feat5    0\n",
       "feat6    0\n",
       "feat7    0\n",
       "feat8    0\n",
       "feat9    0\n",
       "dtype: int64"
      ]
     },
     "execution_count": 11,
     "metadata": {},
     "output_type": "execute_result"
    }
   ],
   "source": [
    "X_data_list[0][0].head(10)"
   ]
  },
  {
   "cell_type": "code",
   "execution_count": 12,
   "metadata": {
    "ExecuteTime": {
     "end_time": "2021-01-17T09:46:12.626401Z",
     "start_time": "2021-01-17T09:46:12.608200Z"
    },
    "execution": {
     "iopub.execute_input": "2022-01-22T13:25:14.016336Z",
     "iopub.status.busy": "2022-01-22T13:25:14.016091Z",
     "iopub.status.idle": "2022-01-22T13:25:14.053169Z",
     "shell.execute_reply": "2022-01-22T13:25:14.052504Z",
     "shell.execute_reply.started": "2022-01-22T13:25:14.016312Z"
    }
   },
   "outputs": [
    {
     "data": {
      "text/html": [
       "<div>\n",
       "<style scoped>\n",
       "    .dataframe tbody tr th:only-of-type {\n",
       "        vertical-align: middle;\n",
       "    }\n",
       "\n",
       "    .dataframe tbody tr th {\n",
       "        vertical-align: top;\n",
       "    }\n",
       "\n",
       "    .dataframe thead th {\n",
       "        text-align: right;\n",
       "    }\n",
       "</style>\n",
       "<table border=\"1\" class=\"dataframe\">\n",
       "  <thead>\n",
       "    <tr style=\"text-align: right;\">\n",
       "      <th></th>\n",
       "      <th>x0</th>\n",
       "      <th>x1</th>\n",
       "      <th>x2</th>\n",
       "      <th>x3</th>\n",
       "      <th>x4</th>\n",
       "      <th>x5</th>\n",
       "      <th>x6</th>\n",
       "      <th>x7</th>\n",
       "      <th>x8</th>\n",
       "      <th>x9</th>\n",
       "    </tr>\n",
       "  </thead>\n",
       "  <tbody>\n",
       "    <tr>\n",
       "      <th>0</th>\n",
       "      <td>0.000</td>\n",
       "      <td>0.000</td>\n",
       "      <td>0.000</td>\n",
       "      <td>0.000</td>\n",
       "      <td>0.000</td>\n",
       "      <td>0.000</td>\n",
       "      <td>0.000</td>\n",
       "      <td>0.000</td>\n",
       "      <td>0.000</td>\n",
       "      <td>0.000</td>\n",
       "    </tr>\n",
       "    <tr>\n",
       "      <th>1</th>\n",
       "      <td>0.000</td>\n",
       "      <td>0.001</td>\n",
       "      <td>0.004</td>\n",
       "      <td>0.003</td>\n",
       "      <td>0.064</td>\n",
       "      <td>0.000</td>\n",
       "      <td>0.000</td>\n",
       "      <td>0.000</td>\n",
       "      <td>0.000</td>\n",
       "      <td>0.000</td>\n",
       "    </tr>\n",
       "    <tr>\n",
       "      <th>2</th>\n",
       "      <td>0.000</td>\n",
       "      <td>0.015</td>\n",
       "      <td>0.004</td>\n",
       "      <td>0.004</td>\n",
       "      <td>0.073</td>\n",
       "      <td>0.000</td>\n",
       "      <td>0.007</td>\n",
       "      <td>0.000</td>\n",
       "      <td>0.000</td>\n",
       "      <td>0.000</td>\n",
       "    </tr>\n",
       "    <tr>\n",
       "      <th>3</th>\n",
       "      <td>0.000</td>\n",
       "      <td>0.019</td>\n",
       "      <td>0.004</td>\n",
       "      <td>0.005</td>\n",
       "      <td>0.082</td>\n",
       "      <td>0.000</td>\n",
       "      <td>0.009</td>\n",
       "      <td>0.000</td>\n",
       "      <td>0.000</td>\n",
       "      <td>0.000</td>\n",
       "    </tr>\n",
       "    <tr>\n",
       "      <th>4</th>\n",
       "      <td>0.000</td>\n",
       "      <td>0.034</td>\n",
       "      <td>0.005</td>\n",
       "      <td>0.005</td>\n",
       "      <td>0.099</td>\n",
       "      <td>0.001</td>\n",
       "      <td>0.011</td>\n",
       "      <td>0.000</td>\n",
       "      <td>0.000</td>\n",
       "      <td>0.000</td>\n",
       "    </tr>\n",
       "    <tr>\n",
       "      <th>5</th>\n",
       "      <td>0.000</td>\n",
       "      <td>0.042</td>\n",
       "      <td>0.006</td>\n",
       "      <td>0.006</td>\n",
       "      <td>0.104</td>\n",
       "      <td>0.001</td>\n",
       "      <td>0.013</td>\n",
       "      <td>0.000</td>\n",
       "      <td>0.000</td>\n",
       "      <td>0.000</td>\n",
       "    </tr>\n",
       "    <tr>\n",
       "      <th>6</th>\n",
       "      <td>0.000</td>\n",
       "      <td>0.044</td>\n",
       "      <td>0.006</td>\n",
       "      <td>0.007</td>\n",
       "      <td>0.105</td>\n",
       "      <td>0.002</td>\n",
       "      <td>0.014</td>\n",
       "      <td>0.000</td>\n",
       "      <td>0.000</td>\n",
       "      <td>0.000</td>\n",
       "    </tr>\n",
       "    <tr>\n",
       "      <th>7</th>\n",
       "      <td>0.000</td>\n",
       "      <td>0.057</td>\n",
       "      <td>0.006</td>\n",
       "      <td>0.008</td>\n",
       "      <td>0.108</td>\n",
       "      <td>0.002</td>\n",
       "      <td>0.016</td>\n",
       "      <td>0.000</td>\n",
       "      <td>0.000</td>\n",
       "      <td>0.000</td>\n",
       "    </tr>\n",
       "    <tr>\n",
       "      <th>8</th>\n",
       "      <td>0.000</td>\n",
       "      <td>0.065</td>\n",
       "      <td>0.006</td>\n",
       "      <td>0.008</td>\n",
       "      <td>0.116</td>\n",
       "      <td>0.002</td>\n",
       "      <td>0.017</td>\n",
       "      <td>0.000</td>\n",
       "      <td>0.000</td>\n",
       "      <td>0.000</td>\n",
       "    </tr>\n",
       "    <tr>\n",
       "      <th>9</th>\n",
       "      <td>0.000</td>\n",
       "      <td>0.066</td>\n",
       "      <td>0.006</td>\n",
       "      <td>0.008</td>\n",
       "      <td>0.116</td>\n",
       "      <td>0.002</td>\n",
       "      <td>0.017</td>\n",
       "      <td>0.000</td>\n",
       "      <td>0.000</td>\n",
       "      <td>0.000</td>\n",
       "    </tr>\n",
       "  </tbody>\n",
       "</table>\n",
       "</div>"
      ],
      "text/plain": [
       "     x0    x1    x2    x3    x4    x5    x6    x7    x8    x9\n",
       "0 0.000 0.000 0.000 0.000 0.000 0.000 0.000 0.000 0.000 0.000\n",
       "1 0.000 0.001 0.004 0.003 0.064 0.000 0.000 0.000 0.000 0.000\n",
       "2 0.000 0.015 0.004 0.004 0.073 0.000 0.007 0.000 0.000 0.000\n",
       "3 0.000 0.019 0.004 0.005 0.082 0.000 0.009 0.000 0.000 0.000\n",
       "4 0.000 0.034 0.005 0.005 0.099 0.001 0.011 0.000 0.000 0.000\n",
       "5 0.000 0.042 0.006 0.006 0.104 0.001 0.013 0.000 0.000 0.000\n",
       "6 0.000 0.044 0.006 0.007 0.105 0.002 0.014 0.000 0.000 0.000\n",
       "7 0.000 0.057 0.006 0.008 0.108 0.002 0.016 0.000 0.000 0.000\n",
       "8 0.000 0.065 0.006 0.008 0.116 0.002 0.017 0.000 0.000 0.000\n",
       "9 0.000 0.066 0.006 0.008 0.116 0.002 0.017 0.000 0.000 0.000"
      ]
     },
     "execution_count": 12,
     "metadata": {},
     "output_type": "execute_result"
    }
   ],
   "source": [
    "X_data_list[0][1].head(10)"
   ]
  },
  {
   "cell_type": "code",
   "execution_count": 13,
   "metadata": {
    "execution": {
     "iopub.execute_input": "2022-01-22T13:25:14.054365Z",
     "iopub.status.busy": "2022-01-22T13:25:14.054049Z",
     "iopub.status.idle": "2022-01-22T13:25:14.081051Z",
     "shell.execute_reply": "2022-01-22T13:25:14.080396Z",
     "shell.execute_reply.started": "2022-01-22T13:25:14.054341Z"
    }
   },
   "outputs": [
    {
     "data": {
      "text/plain": [
       "feat0    0\n",
       "feat1    0\n",
       "feat2    0\n",
       "feat3    0\n",
       "feat4    0\n",
       "feat5    0\n",
       "feat6    0\n",
       "feat7    0\n",
       "feat8    0\n",
       "feat9    0\n",
       "dtype: int64"
      ]
     },
     "execution_count": 13,
     "metadata": {},
     "output_type": "execute_result"
    }
   ],
   "source": [
    "y_data_list[0][0].head(10)"
   ]
  },
  {
   "cell_type": "code",
   "execution_count": 14,
   "metadata": {
    "ExecuteTime": {
     "end_time": "2021-01-17T09:46:12.636995Z",
     "start_time": "2021-01-17T09:46:12.629349Z"
    },
    "execution": {
     "iopub.execute_input": "2022-01-22T13:25:14.082106Z",
     "iopub.status.busy": "2022-01-22T13:25:14.081927Z",
     "iopub.status.idle": "2022-01-22T13:25:14.098846Z",
     "shell.execute_reply": "2022-01-22T13:25:14.098172Z",
     "shell.execute_reply.started": "2022-01-22T13:25:14.082083Z"
    }
   },
   "outputs": [
    {
     "data": {
      "text/html": [
       "<div>\n",
       "<style scoped>\n",
       "    .dataframe tbody tr th:only-of-type {\n",
       "        vertical-align: middle;\n",
       "    }\n",
       "\n",
       "    .dataframe tbody tr th {\n",
       "        vertical-align: top;\n",
       "    }\n",
       "\n",
       "    .dataframe thead th {\n",
       "        text-align: right;\n",
       "    }\n",
       "</style>\n",
       "<table border=\"1\" class=\"dataframe\">\n",
       "  <thead>\n",
       "    <tr style=\"text-align: right;\">\n",
       "      <th></th>\n",
       "      <th>result</th>\n",
       "    </tr>\n",
       "  </thead>\n",
       "  <tbody>\n",
       "    <tr>\n",
       "      <th>0</th>\n",
       "      <td>0</td>\n",
       "    </tr>\n",
       "    <tr>\n",
       "      <th>1</th>\n",
       "      <td>0</td>\n",
       "    </tr>\n",
       "    <tr>\n",
       "      <th>2</th>\n",
       "      <td>0</td>\n",
       "    </tr>\n",
       "    <tr>\n",
       "      <th>3</th>\n",
       "      <td>0</td>\n",
       "    </tr>\n",
       "    <tr>\n",
       "      <th>4</th>\n",
       "      <td>0</td>\n",
       "    </tr>\n",
       "    <tr>\n",
       "      <th>5</th>\n",
       "      <td>0</td>\n",
       "    </tr>\n",
       "    <tr>\n",
       "      <th>6</th>\n",
       "      <td>0</td>\n",
       "    </tr>\n",
       "    <tr>\n",
       "      <th>7</th>\n",
       "      <td>0</td>\n",
       "    </tr>\n",
       "    <tr>\n",
       "      <th>8</th>\n",
       "      <td>0</td>\n",
       "    </tr>\n",
       "    <tr>\n",
       "      <th>9</th>\n",
       "      <td>0</td>\n",
       "    </tr>\n",
       "  </tbody>\n",
       "</table>\n",
       "</div>"
      ],
      "text/plain": [
       "   result\n",
       "0       0\n",
       "1       0\n",
       "2       0\n",
       "3       0\n",
       "4       0\n",
       "5       0\n",
       "6       0\n",
       "7       0\n",
       "8       0\n",
       "9       0"
      ]
     },
     "execution_count": 14,
     "metadata": {},
     "output_type": "execute_result"
    }
   ],
   "source": [
    "y_data_list[0][1].head(10)"
   ]
  },
  {
   "cell_type": "code",
   "execution_count": 15,
   "metadata": {
    "execution": {
     "iopub.execute_input": "2022-01-22T13:25:14.100019Z",
     "iopub.status.busy": "2022-01-22T13:25:14.099696Z",
     "iopub.status.idle": "2022-01-22T13:25:16.138829Z",
     "shell.execute_reply": "2022-01-22T13:25:16.137628Z",
     "shell.execute_reply.started": "2022-01-22T13:25:14.099994Z"
    }
   },
   "outputs": [
    {
     "data": {
      "image/png": "[encoded data removed]",
      "text/plain": [
       "<IPython.core.display.Image object>"
      ]
     },
     "execution_count": 15,
     "metadata": {},
     "output_type": "execute_result"
    }
   ],
   "source": [
    "plot = None\n",
    "if plot_tree_from_parameters != 'make_classification':\n",
    "    plot = plot_tree_from_parameters(y_data_list[0][0].values, config)\n",
    "plot"
   ]
  },
  {
   "cell_type": "code",
   "execution_count": 16,
   "metadata": {
    "execution": {
     "iopub.execute_input": "2022-01-22T13:25:16.141553Z",
     "iopub.status.busy": "2022-01-22T13:25:16.141010Z",
     "iopub.status.idle": "2022-01-22T13:25:16.159444Z",
     "shell.execute_reply": "2022-01-22T13:25:16.158461Z",
     "shell.execute_reply.started": "2022-01-22T13:25:16.141494Z"
    }
   },
   "outputs": [],
   "source": [
    "def inject_noise(y_data, noise=0.0, noise_dist='normal', seed=42):\n",
    "    \"\"\"\n",
    "    Returns a polynomial injected with specified noise type and amount. \n",
    "    Inputs a clean polynomial array with x-data and y-data and modifies the y-data according to the noise settings.\n",
    "    \"\"\"\n",
    "    np.random.seed(seed)\n",
    "    \n",
    "    #Calculate range of function values of input polynomial\n",
    "    range_values_fv = np.ptp(y_data[1].values)\n",
    "    \n",
    "    #Selection of noise type\n",
    "    #Available types: normal, uniform, A, B, C\n",
    "    if noise_dist=='normal':\n",
    "        noise_sample=noise*np.random.normal(loc=0, scale=1.0,size=y_data[1].shape[0])\n",
    "    elif noise_dist=='uniform':\n",
    "        noise_sample=noise*np.random.uniform(low=0, high=1.0,size=y_data[1].shape[0])\n",
    "    elif noise_dist=='normal_range':\n",
    "        #Normal distribution adjusted to function value range\n",
    "        noise_sample=(noise*range_values_fv)*np.random.normal(loc=0, scale=1.0,size=y_data[1].shape[0])\n",
    "    elif noise_dist=='uniform_range':\n",
    "        noise_sample=(noise*range_values_fv)*np.random.normal(loc=0, scale=1.0,size=y_data[1].shape[0])\n",
    "    elif noise_dist=='flip_percentage':\n",
    "        idx = np.random.choice(y_data[1].shape[0], int(y_data[1].shape[0]*noise), replace=False)\n",
    "        y_data[1].iloc[idx] = (y_data[1].iloc[idx] + 1) % 2 \n",
    "        return y_data\n",
    "    else:\n",
    "        #no noise\n",
    "        noise_sample = np.zeros(y_data[1].shape[0])\n",
    "                               \n",
    "    noise_sample=noise_sample.reshape(-1,1)\n",
    "    \n",
    "    y_data[1]=y_data[1]+noise_sample\n",
    "    \n",
    "    return np.clip(y_data, 0, 1)"
   ]
  },
  {
   "cell_type": "code",
   "execution_count": 17,
   "metadata": {
    "execution": {
     "iopub.execute_input": "2022-01-22T13:25:16.161462Z",
     "iopub.status.busy": "2022-01-22T13:25:16.161024Z",
     "iopub.status.idle": "2022-01-22T13:25:16.189571Z",
     "shell.execute_reply": "2022-01-22T13:25:16.188623Z",
     "shell.execute_reply.started": "2022-01-22T13:25:16.161413Z"
    }
   },
   "outputs": [],
   "source": [
    "if noise_injected_level > 0:\n",
    "    parallel = Parallel(n_jobs=n_jobs, verbose=3, backend='loky')\n",
    "    y_data_list = parallel(delayed(inject_noise)(y_data=y_data_list[i],\n",
    "                                                 noise=noise_injected_level,\n",
    "                                                 noise_dist=noise_injected_type, \n",
    "                                                 seed=RANDOM_SEED+i) for i in range(len(y_data_list)))\n"
   ]
  },
  {
   "cell_type": "code",
   "execution_count": 18,
   "metadata": {
    "execution": {
     "iopub.execute_input": "2022-01-22T13:25:16.197755Z",
     "iopub.status.busy": "2022-01-22T13:25:16.197070Z",
     "iopub.status.idle": "2022-01-22T13:25:16.223179Z",
     "shell.execute_reply": "2022-01-22T13:25:16.222199Z",
     "shell.execute_reply.started": "2022-01-22T13:25:16.197707Z"
    }
   },
   "outputs": [
    {
     "data": {
      "text/plain": [
       "feat0    0\n",
       "feat1    0\n",
       "feat2    0\n",
       "feat3    0\n",
       "feat4    0\n",
       "feat5    0\n",
       "feat6    0\n",
       "feat7    0\n",
       "feat8    0\n",
       "feat9    0\n",
       "dtype: int64"
      ]
     },
     "execution_count": 18,
     "metadata": {},
     "output_type": "execute_result"
    }
   ],
   "source": [
    "y_data_list[0][0].head(10)"
   ]
  },
  {
   "cell_type": "code",
   "execution_count": 19,
   "metadata": {
    "execution": {
     "iopub.execute_input": "2022-01-22T13:25:16.225307Z",
     "iopub.status.busy": "2022-01-22T13:25:16.224619Z",
     "iopub.status.idle": "2022-01-22T13:25:16.238756Z",
     "shell.execute_reply": "2022-01-22T13:25:16.237803Z",
     "shell.execute_reply.started": "2022-01-22T13:25:16.225258Z"
    }
   },
   "outputs": [
    {
     "data": {
      "text/plain": [
       "feat0      0\n",
       "feat1      0\n",
       "feat2      0\n",
       "feat3      0\n",
       "feat4      0\n",
       "feat5      0\n",
       "feat6      0\n",
       "feat7      0\n",
       "feat8      0\n",
       "feat9      0\n",
       "feat10     0\n",
       "feat11     0\n",
       "feat12     0\n",
       "feat13     0\n",
       "feat14     0\n",
       "split0     0\n",
       "split1     0\n",
       "split2     0\n",
       "split3     0\n",
       "split4     0\n",
       "split5     0\n",
       "split6     0\n",
       "split7     0\n",
       "split8     0\n",
       "split9     0\n",
       "split10    0\n",
       "split11    0\n",
       "split12    0\n",
       "split13    0\n",
       "split14    0\n",
       "lp0        0\n",
       "lp1        0\n",
       "lp2        0\n",
       "lp3        0\n",
       "lp4        0\n",
       "lp5        0\n",
       "lp6        0\n",
       "lp7        0\n",
       "lp8        0\n",
       "lp9        0\n",
       "lp10       0\n",
       "lp11       0\n",
       "lp12       0\n",
       "lp13       0\n",
       "lp14       0\n",
       "lp15       0\n",
       "dtype: int64"
      ]
     },
     "execution_count": 19,
     "metadata": {},
     "output_type": "execute_result"
    }
   ],
   "source": [
    "y_data_list[0][0]"
   ]
  },
  {
   "cell_type": "code",
   "execution_count": 20,
   "metadata": {
    "execution": {
     "iopub.execute_input": "2022-01-22T13:25:16.240911Z",
     "iopub.status.busy": "2022-01-22T13:25:16.240241Z",
     "iopub.status.idle": "2022-01-22T13:25:16.275787Z",
     "shell.execute_reply": "2022-01-22T13:25:16.274597Z",
     "shell.execute_reply.started": "2022-01-22T13:25:16.240862Z"
    }
   },
   "outputs": [
    {
     "data": {
      "text/html": [
       "<div>\n",
       "<style scoped>\n",
       "    .dataframe tbody tr th:only-of-type {\n",
       "        vertical-align: middle;\n",
       "    }\n",
       "\n",
       "    .dataframe tbody tr th {\n",
       "        vertical-align: top;\n",
       "    }\n",
       "\n",
       "    .dataframe thead th {\n",
       "        text-align: right;\n",
       "    }\n",
       "</style>\n",
       "<table border=\"1\" class=\"dataframe\">\n",
       "  <thead>\n",
       "    <tr style=\"text-align: right;\">\n",
       "      <th></th>\n",
       "      <th>result</th>\n",
       "    </tr>\n",
       "  </thead>\n",
       "  <tbody>\n",
       "    <tr>\n",
       "      <th>0</th>\n",
       "      <td>0</td>\n",
       "    </tr>\n",
       "    <tr>\n",
       "      <th>1</th>\n",
       "      <td>0</td>\n",
       "    </tr>\n",
       "    <tr>\n",
       "      <th>2</th>\n",
       "      <td>0</td>\n",
       "    </tr>\n",
       "    <tr>\n",
       "      <th>3</th>\n",
       "      <td>0</td>\n",
       "    </tr>\n",
       "    <tr>\n",
       "      <th>4</th>\n",
       "      <td>0</td>\n",
       "    </tr>\n",
       "    <tr>\n",
       "      <th>5</th>\n",
       "      <td>0</td>\n",
       "    </tr>\n",
       "    <tr>\n",
       "      <th>6</th>\n",
       "      <td>0</td>\n",
       "    </tr>\n",
       "    <tr>\n",
       "      <th>7</th>\n",
       "      <td>0</td>\n",
       "    </tr>\n",
       "    <tr>\n",
       "      <th>8</th>\n",
       "      <td>0</td>\n",
       "    </tr>\n",
       "    <tr>\n",
       "      <th>9</th>\n",
       "      <td>0</td>\n",
       "    </tr>\n",
       "  </tbody>\n",
       "</table>\n",
       "</div>"
      ],
      "text/plain": [
       "   result\n",
       "0       0\n",
       "1       0\n",
       "2       0\n",
       "3       0\n",
       "4       0\n",
       "5       0\n",
       "6       0\n",
       "7       0\n",
       "8       0\n",
       "9       0"
      ]
     },
     "execution_count": 20,
     "metadata": {},
     "output_type": "execute_result"
    }
   ],
   "source": [
    "y_data_list[0][1].head(10)"
   ]
  },
  {
   "cell_type": "markdown",
   "metadata": {
    "ExecuteTime": {
     "end_time": "2020-09-16T17:06:36.919643Z",
     "start_time": "2020-09-16T17:06:36.912904Z"
    }
   },
   "source": [
    "## Lambda Network Training + Weigh/Bias saving"
   ]
  },
  {
   "cell_type": "code",
   "execution_count": 21,
   "metadata": {
    "execution": {
     "iopub.execute_input": "2022-01-22T13:25:16.278870Z",
     "iopub.status.busy": "2022-01-22T13:25:16.277861Z",
     "iopub.status.idle": "2022-01-22T13:25:16.285802Z",
     "shell.execute_reply": "2022-01-22T13:25:16.284859Z",
     "shell.execute_reply.started": "2022-01-22T13:25:16.278815Z"
    }
   },
   "outputs": [],
   "source": [
    "#%load_ext autoreload"
   ]
  },
  {
   "cell_type": "code",
   "execution_count": 22,
   "metadata": {
    "execution": {
     "iopub.execute_input": "2022-01-22T13:25:16.288011Z",
     "iopub.status.busy": "2022-01-22T13:25:16.287302Z",
     "iopub.status.idle": "2022-01-22T13:25:16.344563Z",
     "shell.execute_reply": "2022-01-22T13:25:16.343612Z",
     "shell.execute_reply.started": "2022-01-22T13:25:16.287961Z"
    }
   },
   "outputs": [],
   "source": [
    "rand_index = np.random.randint(number_of_trained_lambda_nets)\n",
    "\n",
    "#rand_tree = generate_decision_tree_from_array(y_data_list[rand_index][0].values, config)\n",
    "#rand_tree.plot_tree()"
   ]
  },
  {
   "cell_type": "code",
   "execution_count": 23,
   "metadata": {
    "execution": {
     "iopub.execute_input": "2022-01-22T13:25:16.346585Z",
     "iopub.status.busy": "2022-01-22T13:25:16.346034Z",
     "iopub.status.idle": "2022-01-22T13:26:34.392702Z",
     "shell.execute_reply": "2022-01-22T13:26:34.392052Z",
     "shell.execute_reply.started": "2022-01-22T13:25:16.346536Z"
    },
    "tags": []
   },
   "outputs": [
    {
     "data": {
      "image/png": "[encoded data removed]",
      "text/plain": [
       "<Figure size 864x576 with 2 Axes>"
      ]
     },
     "metadata": {},
     "output_type": "display_data"
    },
    {
     "name": "stdout",
     "output_type": "stream",
     "text": [
      "binary_accuracy\n",
      "\ttraining         \t (min:    0.602, max:    0.999, cur:    0.998)\n",
      "\tvalidation       \t (min:    0.760, max:    1.000, cur:    1.000)\n",
      "Loss\n",
      "\ttraining         \t (min:    0.013, max:    0.591, cur:    0.013)\n",
      "\tvalidation       \t (min:    0.017, max:    0.530, cur:    0.019)\n"
     ]
    }
   ],
   "source": [
    "#%autoreload 2\n",
    "random_network = train_lambda_net(config=config,\n",
    "                                  lambda_index=rand_index, \n",
    "                                  X_data_with_function=X_data_list[rand_index], \n",
    "                                  y_data_with_function=y_data_list[rand_index], \n",
    "                                  distribution_parameter_list = distribution_parameter_list_list[rand_index][1],\n",
    "                                  callbacks=[PlotLossesKerasTF()],\n",
    "                                  return_model=True,\n",
    "                                  printing=False)"
   ]
  },
  {
   "cell_type": "code",
   "execution_count": 24,
   "metadata": {
    "execution": {
     "iopub.execute_input": "2022-01-22T13:26:34.394167Z",
     "iopub.status.busy": "2022-01-22T13:26:34.393906Z",
     "iopub.status.idle": "2022-01-22T13:27:37.247305Z",
     "shell.execute_reply": "2022-01-22T13:27:37.245607Z",
     "shell.execute_reply.started": "2022-01-22T13:26:34.394140Z"
    },
    "tags": []
   },
   "outputs": [
    {
     "name": "stderr",
     "output_type": "stream",
     "text": [
      "[Parallel(n_jobs=20)]: Using backend SequentialBackend with 1 concurrent workers.\n",
      "[Parallel(n_jobs=20)]: Done   1 out of   1 | elapsed:   13.5s remaining:    0.0s\n",
      "[Parallel(n_jobs=20)]: Done   2 out of   2 | elapsed:   25.8s remaining:    0.0s\n",
      "ERROR:root:Internal Python error in the inspect module.\n",
      "Below is the traceback from this internal error.\n",
      "\n"
     ]
    },
    {
     "name": "stdout",
     "output_type": "stream",
     "text": [
      "Traceback (most recent call last):\n",
      "  File \"/home/smarton/anaconda3/envs/XAI/lib/python3.8/site-packages/IPython/core/interactiveshell.py\", line 3441, in run_code\n",
      "    exec(code_obj, self.user_global_ns, self.user_ns)\n",
      "  File \"/tmp/ipykernel_514347/1277643394.py\", line 3, in <module>\n",
      "    clf_list = parallel(delayed(train_lambda_net)(config=config,\n",
      "  File \"/home/smarton/anaconda3/envs/XAI/lib/python3.8/site-packages/joblib/parallel.py\", line 1044, in __call__\n",
      "    while self.dispatch_one_batch(iterator):\n",
      "  File \"/home/smarton/anaconda3/envs/XAI/lib/python3.8/site-packages/joblib/parallel.py\", line 859, in dispatch_one_batch\n",
      "    self._dispatch(tasks)\n",
      "  File \"/home/smarton/anaconda3/envs/XAI/lib/python3.8/site-packages/joblib/parallel.py\", line 777, in _dispatch\n",
      "    job = self._backend.apply_async(batch, callback=cb)\n",
      "  File \"/home/smarton/anaconda3/envs/XAI/lib/python3.8/site-packages/joblib/_parallel_backends.py\", line 208, in apply_async\n",
      "    result = ImmediateResult(func)\n",
      "  File \"/home/smarton/anaconda3/envs/XAI/lib/python3.8/site-packages/joblib/_parallel_backends.py\", line 572, in __init__\n",
      "    self.results = batch()\n",
      "  File \"/home/smarton/anaconda3/envs/XAI/lib/python3.8/site-packages/joblib/parallel.py\", line 262, in __call__\n",
      "    return [func(*args, **kwargs)\n",
      "  File \"/home/smarton/anaconda3/envs/XAI/lib/python3.8/site-packages/joblib/parallel.py\", line 262, in <listcomp>\n",
      "    return [func(*args, **kwargs)\n",
      "  File \"/work-ceph/smarton/InES_XAI/03_decision_trees/utilities/LambdaNet.py\", line 599, in train_lambda_net\n",
      "    model_history = model.fit(X_train,\n",
      "  File \"/home/smarton/anaconda3/envs/XAI/lib/python3.8/site-packages/tensorflow/python/keras/engine/training.py\", line 1178, in fit\n",
      "    tmp_logs = self.train_function(iterator)\n",
      "  File \"/home/smarton/anaconda3/envs/XAI/lib/python3.8/site-packages/tensorflow/python/eager/def_function.py\", line 889, in __call__\n",
      "    result = self._call(*args, **kwds)\n",
      "  File \"/home/smarton/anaconda3/envs/XAI/lib/python3.8/site-packages/tensorflow/python/eager/def_function.py\", line 917, in _call\n",
      "    return self._stateless_fn(*args, **kwds)  # pylint: disable=not-callable\n",
      "  File \"/home/smarton/anaconda3/envs/XAI/lib/python3.8/site-packages/tensorflow/python/eager/function.py\", line 3023, in __call__\n",
      "    return graph_function._call_flat(\n",
      "  File \"/home/smarton/anaconda3/envs/XAI/lib/python3.8/site-packages/tensorflow/python/eager/function.py\", line 1960, in _call_flat\n",
      "    return self._build_call_outputs(self._inference_function.call(\n",
      "  File \"/home/smarton/anaconda3/envs/XAI/lib/python3.8/site-packages/tensorflow/python/eager/function.py\", line 628, in call\n",
      "    custom_gradient.copy_handle_data(func_graph_output, outputs[i])\n",
      "  File \"/home/smarton/anaconda3/envs/XAI/lib/python3.8/site-packages/tensorflow/python/ops/handle_data_util.py\", line 44, in copy_handle_data\n",
      "    if (target_t.dtype == dtypes.resource or\n",
      "  File \"/home/smarton/anaconda3/envs/XAI/lib/python3.8/site-packages/tensorflow/python/framework/dtypes.py\", line 193, in __eq__\n",
      "    if other is None:\n",
      "KeyboardInterrupt\n",
      "\n",
      "During handling of the above exception, another exception occurred:\n",
      "\n",
      "Traceback (most recent call last):\n",
      "  File \"/home/smarton/anaconda3/envs/XAI/lib/python3.8/site-packages/IPython/core/interactiveshell.py\", line 2061, in showtraceback\n",
      "    stb = value._render_traceback_()\n",
      "AttributeError: 'KeyboardInterrupt' object has no attribute '_render_traceback_'\n",
      "\n",
      "During handling of the above exception, another exception occurred:\n",
      "\n",
      "Traceback (most recent call last):\n",
      "  File \"/home/smarton/anaconda3/envs/XAI/lib/python3.8/site-packages/IPython/core/ultratb.py\", line 1101, in get_records\n",
      "    return _fixed_getinnerframes(etb, number_of_lines_of_context, tb_offset)\n",
      "  File \"/home/smarton/anaconda3/envs/XAI/lib/python3.8/site-packages/IPython/core/ultratb.py\", line 248, in wrapped\n",
      "    return f(*args, **kwargs)\n",
      "  File \"/home/smarton/anaconda3/envs/XAI/lib/python3.8/site-packages/IPython/core/ultratb.py\", line 281, in _fixed_getinnerframes\n",
      "    records = fix_frame_records_filenames(inspect.getinnerframes(etb, context))\n",
      "  File \"/home/smarton/anaconda3/envs/XAI/lib/python3.8/inspect.py\", line 1503, in getinnerframes\n",
      "    frameinfo = (tb.tb_frame,) + getframeinfo(tb, context)\n",
      "  File \"/home/smarton/anaconda3/envs/XAI/lib/python3.8/inspect.py\", line 1461, in getframeinfo\n",
      "    filename = getsourcefile(frame) or getfile(frame)\n",
      "  File \"/home/smarton/anaconda3/envs/XAI/lib/python3.8/inspect.py\", line 708, in getsourcefile\n",
      "    if getattr(getmodule(object, filename), '__loader__', None) is not None:\n",
      "  File \"/home/smarton/anaconda3/envs/XAI/lib/python3.8/inspect.py\", line 751, in getmodule\n",
      "    f = getabsfile(module)\n",
      "  File \"/home/smarton/anaconda3/envs/XAI/lib/python3.8/inspect.py\", line 720, in getabsfile\n",
      "    _filename = getsourcefile(object) or getfile(object)\n",
      "  File \"/home/smarton/anaconda3/envs/XAI/lib/python3.8/inspect.py\", line 705, in getsourcefile\n",
      "    if os.path.exists(filename):\n",
      "  File \"/home/smarton/anaconda3/envs/XAI/lib/python3.8/genericpath.py\", line 19, in exists\n",
      "    os.stat(path)\n",
      "KeyboardInterrupt\n"
     ]
    },
    {
     "ename": "TypeError",
     "evalue": "object of type 'NoneType' has no len()",
     "output_type": "error",
     "traceback": [
      "\u001b[0;31m---------------------------------------------------------------------------\u001b[0m",
      "\u001b[0;31mKeyboardInterrupt\u001b[0m                         Traceback (most recent call last)",
      "    \u001b[0;31m[... skipping hidden 1 frame]\u001b[0m\n",
      "\u001b[0;32m/tmp/ipykernel_514347/1277643394.py\u001b[0m in \u001b[0;36m<module>\u001b[0;34m\u001b[0m\n\u001b[1;32m      2\u001b[0m \u001b[0mparallel\u001b[0m \u001b[0;34m=\u001b[0m \u001b[0mParallel\u001b[0m\u001b[0;34m(\u001b[0m\u001b[0mn_jobs\u001b[0m\u001b[0;34m=\u001b[0m\u001b[0mn_jobs\u001b[0m\u001b[0;34m,\u001b[0m \u001b[0mverbose\u001b[0m\u001b[0;34m=\u001b[0m\u001b[0;36m3\u001b[0m\u001b[0;34m,\u001b[0m \u001b[0mbackend\u001b[0m\u001b[0;34m=\u001b[0m\u001b[0;34m'sequential'\u001b[0m\u001b[0;34m)\u001b[0m \u001b[0;31m#loky\u001b[0m\u001b[0;34m\u001b[0m\u001b[0;34m\u001b[0m\u001b[0m\n\u001b[0;32m----> 3\u001b[0;31m clf_list = parallel(delayed(train_lambda_net)(config=config,\n\u001b[0m\u001b[1;32m      4\u001b[0m                                               \u001b[0mlambda_index\u001b[0m\u001b[0;34m=\u001b[0m\u001b[0mindex\u001b[0m\u001b[0;34m,\u001b[0m\u001b[0;34m\u001b[0m\u001b[0;34m\u001b[0m\u001b[0m\n",
      "\u001b[0;32m~/anaconda3/envs/XAI/lib/python3.8/site-packages/joblib/parallel.py\u001b[0m in \u001b[0;36m__call__\u001b[0;34m(self, iterable)\u001b[0m\n\u001b[1;32m   1043\u001b[0m \u001b[0;34m\u001b[0m\u001b[0m\n\u001b[0;32m-> 1044\u001b[0;31m             \u001b[0;32mwhile\u001b[0m \u001b[0mself\u001b[0m\u001b[0;34m.\u001b[0m\u001b[0mdispatch_one_batch\u001b[0m\u001b[0;34m(\u001b[0m\u001b[0miterator\u001b[0m\u001b[0;34m)\u001b[0m\u001b[0;34m:\u001b[0m\u001b[0;34m\u001b[0m\u001b[0;34m\u001b[0m\u001b[0m\n\u001b[0m\u001b[1;32m   1045\u001b[0m                 \u001b[0;32mpass\u001b[0m\u001b[0;34m\u001b[0m\u001b[0;34m\u001b[0m\u001b[0m\n",
      "\u001b[0;32m~/anaconda3/envs/XAI/lib/python3.8/site-packages/joblib/parallel.py\u001b[0m in \u001b[0;36mdispatch_one_batch\u001b[0;34m(self, iterator)\u001b[0m\n\u001b[1;32m    858\u001b[0m             \u001b[0;32melse\u001b[0m\u001b[0;34m:\u001b[0m\u001b[0;34m\u001b[0m\u001b[0;34m\u001b[0m\u001b[0m\n\u001b[0;32m--> 859\u001b[0;31m                 \u001b[0mself\u001b[0m\u001b[0;34m.\u001b[0m\u001b[0m_dispatch\u001b[0m\u001b[0;34m(\u001b[0m\u001b[0mtasks\u001b[0m\u001b[0;34m)\u001b[0m\u001b[0;34m\u001b[0m\u001b[0;34m\u001b[0m\u001b[0m\n\u001b[0m\u001b[1;32m    860\u001b[0m                 \u001b[0;32mreturn\u001b[0m \u001b[0;32mTrue\u001b[0m\u001b[0;34m\u001b[0m\u001b[0;34m\u001b[0m\u001b[0m\n",
      "\u001b[0;32m~/anaconda3/envs/XAI/lib/python3.8/site-packages/joblib/parallel.py\u001b[0m in \u001b[0;36m_dispatch\u001b[0;34m(self, batch)\u001b[0m\n\u001b[1;32m    776\u001b[0m             \u001b[0mjob_idx\u001b[0m \u001b[0;34m=\u001b[0m \u001b[0mlen\u001b[0m\u001b[0;34m(\u001b[0m\u001b[0mself\u001b[0m\u001b[0;34m.\u001b[0m\u001b[0m_jobs\u001b[0m\u001b[0;34m)\u001b[0m\u001b[0;34m\u001b[0m\u001b[0;34m\u001b[0m\u001b[0m\n\u001b[0;32m--> 777\u001b[0;31m             \u001b[0mjob\u001b[0m \u001b[0;34m=\u001b[0m \u001b[0mself\u001b[0m\u001b[0;34m.\u001b[0m\u001b[0m_backend\u001b[0m\u001b[0;34m.\u001b[0m\u001b[0mapply_async\u001b[0m\u001b[0;34m(\u001b[0m\u001b[0mbatch\u001b[0m\u001b[0;34m,\u001b[0m \u001b[0mcallback\u001b[0m\u001b[0;34m=\u001b[0m\u001b[0mcb\u001b[0m\u001b[0;34m)\u001b[0m\u001b[0;34m\u001b[0m\u001b[0;34m\u001b[0m\u001b[0m\n\u001b[0m\u001b[1;32m    778\u001b[0m             \u001b[0;31m# A job can complete so quickly than its callback is\u001b[0m\u001b[0;34m\u001b[0m\u001b[0;34m\u001b[0m\u001b[0;34m\u001b[0m\u001b[0m\n",
      "\u001b[0;32m~/anaconda3/envs/XAI/lib/python3.8/site-packages/joblib/_parallel_backends.py\u001b[0m in \u001b[0;36mapply_async\u001b[0;34m(self, func, callback)\u001b[0m\n\u001b[1;32m    207\u001b[0m         \u001b[0;34m\"\"\"Schedule a func to be run\"\"\"\u001b[0m\u001b[0;34m\u001b[0m\u001b[0;34m\u001b[0m\u001b[0m\n\u001b[0;32m--> 208\u001b[0;31m         \u001b[0mresult\u001b[0m \u001b[0;34m=\u001b[0m \u001b[0mImmediateResult\u001b[0m\u001b[0;34m(\u001b[0m\u001b[0mfunc\u001b[0m\u001b[0;34m)\u001b[0m\u001b[0;34m\u001b[0m\u001b[0;34m\u001b[0m\u001b[0m\n\u001b[0m\u001b[1;32m    209\u001b[0m         \u001b[0;32mif\u001b[0m \u001b[0mcallback\u001b[0m\u001b[0;34m:\u001b[0m\u001b[0;34m\u001b[0m\u001b[0;34m\u001b[0m\u001b[0m\n",
      "\u001b[0;32m~/anaconda3/envs/XAI/lib/python3.8/site-packages/joblib/_parallel_backends.py\u001b[0m in \u001b[0;36m__init__\u001b[0;34m(self, batch)\u001b[0m\n\u001b[1;32m    571\u001b[0m         \u001b[0;31m# arguments in memory\u001b[0m\u001b[0;34m\u001b[0m\u001b[0;34m\u001b[0m\u001b[0;34m\u001b[0m\u001b[0m\n\u001b[0;32m--> 572\u001b[0;31m         \u001b[0mself\u001b[0m\u001b[0;34m.\u001b[0m\u001b[0mresults\u001b[0m \u001b[0;34m=\u001b[0m \u001b[0mbatch\u001b[0m\u001b[0;34m(\u001b[0m\u001b[0;34m)\u001b[0m\u001b[0;34m\u001b[0m\u001b[0;34m\u001b[0m\u001b[0m\n\u001b[0m\u001b[1;32m    573\u001b[0m \u001b[0;34m\u001b[0m\u001b[0m\n",
      "\u001b[0;32m~/anaconda3/envs/XAI/lib/python3.8/site-packages/joblib/parallel.py\u001b[0m in \u001b[0;36m__call__\u001b[0;34m(self)\u001b[0m\n\u001b[1;32m    261\u001b[0m         \u001b[0;32mwith\u001b[0m \u001b[0mparallel_backend\u001b[0m\u001b[0;34m(\u001b[0m\u001b[0mself\u001b[0m\u001b[0;34m.\u001b[0m\u001b[0m_backend\u001b[0m\u001b[0;34m,\u001b[0m \u001b[0mn_jobs\u001b[0m\u001b[0;34m=\u001b[0m\u001b[0mself\u001b[0m\u001b[0;34m.\u001b[0m\u001b[0m_n_jobs\u001b[0m\u001b[0;34m)\u001b[0m\u001b[0;34m:\u001b[0m\u001b[0;34m\u001b[0m\u001b[0;34m\u001b[0m\u001b[0m\n\u001b[0;32m--> 262\u001b[0;31m             return [func(*args, **kwargs)\n\u001b[0m\u001b[1;32m    263\u001b[0m                     for func, args, kwargs in self.items]\n",
      "\u001b[0;32m~/anaconda3/envs/XAI/lib/python3.8/site-packages/joblib/parallel.py\u001b[0m in \u001b[0;36m<listcomp>\u001b[0;34m(.0)\u001b[0m\n\u001b[1;32m    261\u001b[0m         \u001b[0;32mwith\u001b[0m \u001b[0mparallel_backend\u001b[0m\u001b[0;34m(\u001b[0m\u001b[0mself\u001b[0m\u001b[0;34m.\u001b[0m\u001b[0m_backend\u001b[0m\u001b[0;34m,\u001b[0m \u001b[0mn_jobs\u001b[0m\u001b[0;34m=\u001b[0m\u001b[0mself\u001b[0m\u001b[0;34m.\u001b[0m\u001b[0m_n_jobs\u001b[0m\u001b[0;34m)\u001b[0m\u001b[0;34m:\u001b[0m\u001b[0;34m\u001b[0m\u001b[0;34m\u001b[0m\u001b[0m\n\u001b[0;32m--> 262\u001b[0;31m             return [func(*args, **kwargs)\n\u001b[0m\u001b[1;32m    263\u001b[0m                     for func, args, kwargs in self.items]\n",
      "\u001b[0;32m/work-ceph/smarton/InES_XAI/03_decision_trees/utilities/LambdaNet.py\u001b[0m in \u001b[0;36mtrain_lambda_net\u001b[0;34m(config, lambda_index, X_data_with_function, y_data_with_function, distribution_parameter_list, callbacks, return_history, printing, return_model)\u001b[0m\n\u001b[1;32m    598\u001b[0m \u001b[0;34m\u001b[0m\u001b[0m\n\u001b[0;32m--> 599\u001b[0;31m     model_history = model.fit(X_train,\n\u001b[0m\u001b[1;32m    600\u001b[0m                   \u001b[0my_train\u001b[0m\u001b[0;34m,\u001b[0m\u001b[0;34m\u001b[0m\u001b[0;34m\u001b[0m\u001b[0m\n",
      "\u001b[0;32m~/anaconda3/envs/XAI/lib/python3.8/site-packages/tensorflow/python/keras/engine/training.py\u001b[0m in \u001b[0;36mfit\u001b[0;34m(self, x, y, batch_size, epochs, verbose, callbacks, validation_split, validation_data, shuffle, class_weight, sample_weight, initial_epoch, steps_per_epoch, validation_steps, validation_batch_size, validation_freq, max_queue_size, workers, use_multiprocessing)\u001b[0m\n\u001b[1;32m   1177\u001b[0m               \u001b[0mcallbacks\u001b[0m\u001b[0;34m.\u001b[0m\u001b[0mon_train_batch_begin\u001b[0m\u001b[0;34m(\u001b[0m\u001b[0mstep\u001b[0m\u001b[0;34m)\u001b[0m\u001b[0;34m\u001b[0m\u001b[0;34m\u001b[0m\u001b[0m\n\u001b[0;32m-> 1178\u001b[0;31m               \u001b[0mtmp_logs\u001b[0m \u001b[0;34m=\u001b[0m \u001b[0mself\u001b[0m\u001b[0;34m.\u001b[0m\u001b[0mtrain_function\u001b[0m\u001b[0;34m(\u001b[0m\u001b[0miterator\u001b[0m\u001b[0;34m)\u001b[0m\u001b[0;34m\u001b[0m\u001b[0;34m\u001b[0m\u001b[0m\n\u001b[0m\u001b[1;32m   1179\u001b[0m               \u001b[0;32mif\u001b[0m \u001b[0mdata_handler\u001b[0m\u001b[0;34m.\u001b[0m\u001b[0mshould_sync\u001b[0m\u001b[0;34m:\u001b[0m\u001b[0;34m\u001b[0m\u001b[0;34m\u001b[0m\u001b[0m\n",
      "\u001b[0;32m~/anaconda3/envs/XAI/lib/python3.8/site-packages/tensorflow/python/eager/def_function.py\u001b[0m in \u001b[0;36m__call__\u001b[0;34m(self, *args, **kwds)\u001b[0m\n\u001b[1;32m    888\u001b[0m       \u001b[0;32mwith\u001b[0m \u001b[0mOptionalXlaContext\u001b[0m\u001b[0;34m(\u001b[0m\u001b[0mself\u001b[0m\u001b[0;34m.\u001b[0m\u001b[0m_jit_compile\u001b[0m\u001b[0;34m)\u001b[0m\u001b[0;34m:\u001b[0m\u001b[0;34m\u001b[0m\u001b[0;34m\u001b[0m\u001b[0m\n\u001b[0;32m--> 889\u001b[0;31m         \u001b[0mresult\u001b[0m \u001b[0;34m=\u001b[0m \u001b[0mself\u001b[0m\u001b[0;34m.\u001b[0m\u001b[0m_call\u001b[0m\u001b[0;34m(\u001b[0m\u001b[0;34m*\u001b[0m\u001b[0margs\u001b[0m\u001b[0;34m,\u001b[0m \u001b[0;34m**\u001b[0m\u001b[0mkwds\u001b[0m\u001b[0;34m)\u001b[0m\u001b[0;34m\u001b[0m\u001b[0;34m\u001b[0m\u001b[0m\n\u001b[0m\u001b[1;32m    890\u001b[0m \u001b[0;34m\u001b[0m\u001b[0m\n",
      "\u001b[0;32m~/anaconda3/envs/XAI/lib/python3.8/site-packages/tensorflow/python/eager/def_function.py\u001b[0m in \u001b[0;36m_call\u001b[0;34m(self, *args, **kwds)\u001b[0m\n\u001b[1;32m    916\u001b[0m       \u001b[0;31m# defunned version which is guaranteed to never create variables.\u001b[0m\u001b[0;34m\u001b[0m\u001b[0;34m\u001b[0m\u001b[0;34m\u001b[0m\u001b[0m\n\u001b[0;32m--> 917\u001b[0;31m       \u001b[0;32mreturn\u001b[0m \u001b[0mself\u001b[0m\u001b[0;34m.\u001b[0m\u001b[0m_stateless_fn\u001b[0m\u001b[0;34m(\u001b[0m\u001b[0;34m*\u001b[0m\u001b[0margs\u001b[0m\u001b[0;34m,\u001b[0m \u001b[0;34m**\u001b[0m\u001b[0mkwds\u001b[0m\u001b[0;34m)\u001b[0m  \u001b[0;31m# pylint: disable=not-callable\u001b[0m\u001b[0;34m\u001b[0m\u001b[0;34m\u001b[0m\u001b[0m\n\u001b[0m\u001b[1;32m    918\u001b[0m     \u001b[0;32melif\u001b[0m \u001b[0mself\u001b[0m\u001b[0;34m.\u001b[0m\u001b[0m_stateful_fn\u001b[0m \u001b[0;32mis\u001b[0m \u001b[0;32mnot\u001b[0m \u001b[0;32mNone\u001b[0m\u001b[0;34m:\u001b[0m\u001b[0;34m\u001b[0m\u001b[0;34m\u001b[0m\u001b[0m\n",
      "\u001b[0;32m~/anaconda3/envs/XAI/lib/python3.8/site-packages/tensorflow/python/eager/function.py\u001b[0m in \u001b[0;36m__call__\u001b[0;34m(self, *args, **kwargs)\u001b[0m\n\u001b[1;32m   3022\u001b[0m        filtered_flat_args) = self._maybe_define_function(args, kwargs)\n\u001b[0;32m-> 3023\u001b[0;31m     return graph_function._call_flat(\n\u001b[0m\u001b[1;32m   3024\u001b[0m         filtered_flat_args, captured_inputs=graph_function.captured_inputs)  # pylint: disable=protected-access\n",
      "\u001b[0;32m~/anaconda3/envs/XAI/lib/python3.8/site-packages/tensorflow/python/eager/function.py\u001b[0m in \u001b[0;36m_call_flat\u001b[0;34m(self, args, captured_inputs, cancellation_manager)\u001b[0m\n\u001b[1;32m   1959\u001b[0m       \u001b[0;31m# No tape is watching; skip to running the function.\u001b[0m\u001b[0;34m\u001b[0m\u001b[0;34m\u001b[0m\u001b[0;34m\u001b[0m\u001b[0m\n\u001b[0;32m-> 1960\u001b[0;31m       return self._build_call_outputs(self._inference_function.call(\n\u001b[0m\u001b[1;32m   1961\u001b[0m           ctx, args, cancellation_manager=cancellation_manager))\n",
      "\u001b[0;32m~/anaconda3/envs/XAI/lib/python3.8/site-packages/tensorflow/python/eager/function.py\u001b[0m in \u001b[0;36mcall\u001b[0;34m(self, ctx, args, cancellation_manager)\u001b[0m\n\u001b[1;32m    627\u001b[0m     \u001b[0;32mfor\u001b[0m \u001b[0mi\u001b[0m\u001b[0;34m,\u001b[0m \u001b[0mfunc_graph_output\u001b[0m \u001b[0;32min\u001b[0m \u001b[0menumerate\u001b[0m\u001b[0;34m(\u001b[0m\u001b[0mself\u001b[0m\u001b[0;34m.\u001b[0m\u001b[0m_func_graph_outputs\u001b[0m\u001b[0;34m)\u001b[0m\u001b[0;34m:\u001b[0m\u001b[0;34m\u001b[0m\u001b[0;34m\u001b[0m\u001b[0m\n\u001b[0;32m--> 628\u001b[0;31m       \u001b[0mcustom_gradient\u001b[0m\u001b[0;34m.\u001b[0m\u001b[0mcopy_handle_data\u001b[0m\u001b[0;34m(\u001b[0m\u001b[0mfunc_graph_output\u001b[0m\u001b[0;34m,\u001b[0m \u001b[0moutputs\u001b[0m\u001b[0;34m[\u001b[0m\u001b[0mi\u001b[0m\u001b[0;34m]\u001b[0m\u001b[0;34m)\u001b[0m\u001b[0;34m\u001b[0m\u001b[0;34m\u001b[0m\u001b[0m\n\u001b[0m\u001b[1;32m    629\u001b[0m     \u001b[0;32mif\u001b[0m \u001b[0mexecuting_eagerly\u001b[0m\u001b[0;34m:\u001b[0m\u001b[0;34m\u001b[0m\u001b[0;34m\u001b[0m\u001b[0m\n",
      "\u001b[0;32m~/anaconda3/envs/XAI/lib/python3.8/site-packages/tensorflow/python/ops/handle_data_util.py\u001b[0m in \u001b[0;36mcopy_handle_data\u001b[0;34m(source_t, target_t)\u001b[0m\n\u001b[1;32m     43\u001b[0m   \"\"\"\n\u001b[0;32m---> 44\u001b[0;31m   if (target_t.dtype == dtypes.resource or\n\u001b[0m\u001b[1;32m     45\u001b[0m       target_t.dtype == dtypes.variant):\n",
      "\u001b[0;32m~/anaconda3/envs/XAI/lib/python3.8/site-packages/tensorflow/python/framework/dtypes.py\u001b[0m in \u001b[0;36m__eq__\u001b[0;34m(self, other)\u001b[0m\n\u001b[1;32m    192\u001b[0m     \u001b[0;34m\"\"\"Returns True iff this DType refers to the same type as `other`.\"\"\"\u001b[0m\u001b[0;34m\u001b[0m\u001b[0;34m\u001b[0m\u001b[0m\n\u001b[0;32m--> 193\u001b[0;31m     \u001b[0;32mif\u001b[0m \u001b[0mother\u001b[0m \u001b[0;32mis\u001b[0m \u001b[0;32mNone\u001b[0m\u001b[0;34m:\u001b[0m\u001b[0;34m\u001b[0m\u001b[0;34m\u001b[0m\u001b[0m\n\u001b[0m\u001b[1;32m    194\u001b[0m       \u001b[0;32mreturn\u001b[0m \u001b[0;32mFalse\u001b[0m\u001b[0;34m\u001b[0m\u001b[0;34m\u001b[0m\u001b[0m\n",
      "\u001b[0;31mKeyboardInterrupt\u001b[0m: ",
      "\nDuring handling of the above exception, another exception occurred:\n",
      "\u001b[0;31mAttributeError\u001b[0m                            Traceback (most recent call last)",
      "\u001b[0;32m~/anaconda3/envs/XAI/lib/python3.8/site-packages/IPython/core/interactiveshell.py\u001b[0m in \u001b[0;36mshowtraceback\u001b[0;34m(self, exc_tuple, filename, tb_offset, exception_only, running_compiled_code)\u001b[0m\n\u001b[1;32m   2060\u001b[0m                         \u001b[0;31m# in the engines. This should return a list of strings.\u001b[0m\u001b[0;34m\u001b[0m\u001b[0;34m\u001b[0m\u001b[0;34m\u001b[0m\u001b[0m\n\u001b[0;32m-> 2061\u001b[0;31m                         \u001b[0mstb\u001b[0m \u001b[0;34m=\u001b[0m \u001b[0mvalue\u001b[0m\u001b[0;34m.\u001b[0m\u001b[0m_render_traceback_\u001b[0m\u001b[0;34m(\u001b[0m\u001b[0;34m)\u001b[0m\u001b[0;34m\u001b[0m\u001b[0;34m\u001b[0m\u001b[0m\n\u001b[0m\u001b[1;32m   2062\u001b[0m                     \u001b[0;32mexcept\u001b[0m \u001b[0mException\u001b[0m\u001b[0;34m:\u001b[0m\u001b[0;34m\u001b[0m\u001b[0;34m\u001b[0m\u001b[0m\n",
      "\u001b[0;31mAttributeError\u001b[0m: 'KeyboardInterrupt' object has no attribute '_render_traceback_'",
      "\nDuring handling of the above exception, another exception occurred:\n",
      "\u001b[0;31mTypeError\u001b[0m                                 Traceback (most recent call last)",
      "    \u001b[0;31m[... skipping hidden 1 frame]\u001b[0m\n",
      "\u001b[0;32m~/anaconda3/envs/XAI/lib/python3.8/site-packages/IPython/core/interactiveshell.py\u001b[0m in \u001b[0;36mshowtraceback\u001b[0;34m(self, exc_tuple, filename, tb_offset, exception_only, running_compiled_code)\u001b[0m\n\u001b[1;32m   2061\u001b[0m                         \u001b[0mstb\u001b[0m \u001b[0;34m=\u001b[0m \u001b[0mvalue\u001b[0m\u001b[0;34m.\u001b[0m\u001b[0m_render_traceback_\u001b[0m\u001b[0;34m(\u001b[0m\u001b[0;34m)\u001b[0m\u001b[0;34m\u001b[0m\u001b[0;34m\u001b[0m\u001b[0m\n\u001b[1;32m   2062\u001b[0m                     \u001b[0;32mexcept\u001b[0m \u001b[0mException\u001b[0m\u001b[0;34m:\u001b[0m\u001b[0;34m\u001b[0m\u001b[0;34m\u001b[0m\u001b[0m\n\u001b[0;32m-> 2063\u001b[0;31m                         stb = self.InteractiveTB.structured_traceback(etype,\n\u001b[0m\u001b[1;32m   2064\u001b[0m                                             value, tb, tb_offset=tb_offset)\n\u001b[1;32m   2065\u001b[0m \u001b[0;34m\u001b[0m\u001b[0m\n",
      "\u001b[0;32m~/anaconda3/envs/XAI/lib/python3.8/site-packages/IPython/core/ultratb.py\u001b[0m in \u001b[0;36mstructured_traceback\u001b[0;34m(self, etype, value, tb, tb_offset, number_of_lines_of_context)\u001b[0m\n\u001b[1;32m   1365\u001b[0m         \u001b[0;32melse\u001b[0m\u001b[0;34m:\u001b[0m\u001b[0;34m\u001b[0m\u001b[0;34m\u001b[0m\u001b[0m\n\u001b[1;32m   1366\u001b[0m             \u001b[0mself\u001b[0m\u001b[0;34m.\u001b[0m\u001b[0mtb\u001b[0m \u001b[0;34m=\u001b[0m \u001b[0mtb\u001b[0m\u001b[0;34m\u001b[0m\u001b[0;34m\u001b[0m\u001b[0m\n\u001b[0;32m-> 1367\u001b[0;31m         return FormattedTB.structured_traceback(\n\u001b[0m\u001b[1;32m   1368\u001b[0m             self, etype, value, tb, tb_offset, number_of_lines_of_context)\n\u001b[1;32m   1369\u001b[0m \u001b[0;34m\u001b[0m\u001b[0m\n",
      "\u001b[0;32m~/anaconda3/envs/XAI/lib/python3.8/site-packages/IPython/core/ultratb.py\u001b[0m in \u001b[0;36mstructured_traceback\u001b[0;34m(self, etype, value, tb, tb_offset, number_of_lines_of_context)\u001b[0m\n\u001b[1;32m   1265\u001b[0m         \u001b[0;32mif\u001b[0m \u001b[0mmode\u001b[0m \u001b[0;32min\u001b[0m \u001b[0mself\u001b[0m\u001b[0;34m.\u001b[0m\u001b[0mverbose_modes\u001b[0m\u001b[0;34m:\u001b[0m\u001b[0;34m\u001b[0m\u001b[0;34m\u001b[0m\u001b[0m\n\u001b[1;32m   1266\u001b[0m             \u001b[0;31m# Verbose modes need a full traceback\u001b[0m\u001b[0;34m\u001b[0m\u001b[0;34m\u001b[0m\u001b[0;34m\u001b[0m\u001b[0m\n\u001b[0;32m-> 1267\u001b[0;31m             return VerboseTB.structured_traceback(\n\u001b[0m\u001b[1;32m   1268\u001b[0m                 \u001b[0mself\u001b[0m\u001b[0;34m,\u001b[0m \u001b[0metype\u001b[0m\u001b[0;34m,\u001b[0m \u001b[0mvalue\u001b[0m\u001b[0;34m,\u001b[0m \u001b[0mtb\u001b[0m\u001b[0;34m,\u001b[0m \u001b[0mtb_offset\u001b[0m\u001b[0;34m,\u001b[0m \u001b[0mnumber_of_lines_of_context\u001b[0m\u001b[0;34m\u001b[0m\u001b[0;34m\u001b[0m\u001b[0m\n\u001b[1;32m   1269\u001b[0m             )\n",
      "\u001b[0;32m~/anaconda3/envs/XAI/lib/python3.8/site-packages/IPython/core/ultratb.py\u001b[0m in \u001b[0;36mstructured_traceback\u001b[0;34m(self, etype, evalue, etb, tb_offset, number_of_lines_of_context)\u001b[0m\n\u001b[1;32m   1122\u001b[0m         \u001b[0;34m\"\"\"Return a nice text document describing the traceback.\"\"\"\u001b[0m\u001b[0;34m\u001b[0m\u001b[0;34m\u001b[0m\u001b[0m\n\u001b[1;32m   1123\u001b[0m \u001b[0;34m\u001b[0m\u001b[0m\n\u001b[0;32m-> 1124\u001b[0;31m         formatted_exception = self.format_exception_as_a_whole(etype, evalue, etb, number_of_lines_of_context,\n\u001b[0m\u001b[1;32m   1125\u001b[0m                                                                tb_offset)\n\u001b[1;32m   1126\u001b[0m \u001b[0;34m\u001b[0m\u001b[0m\n",
      "\u001b[0;32m~/anaconda3/envs/XAI/lib/python3.8/site-packages/IPython/core/ultratb.py\u001b[0m in \u001b[0;36mformat_exception_as_a_whole\u001b[0;34m(self, etype, evalue, etb, number_of_lines_of_context, tb_offset)\u001b[0m\n\u001b[1;32m   1080\u001b[0m \u001b[0;34m\u001b[0m\u001b[0m\n\u001b[1;32m   1081\u001b[0m \u001b[0;34m\u001b[0m\u001b[0m\n\u001b[0;32m-> 1082\u001b[0;31m         \u001b[0mlast_unique\u001b[0m\u001b[0;34m,\u001b[0m \u001b[0mrecursion_repeat\u001b[0m \u001b[0;34m=\u001b[0m \u001b[0mfind_recursion\u001b[0m\u001b[0;34m(\u001b[0m\u001b[0morig_etype\u001b[0m\u001b[0;34m,\u001b[0m \u001b[0mevalue\u001b[0m\u001b[0;34m,\u001b[0m \u001b[0mrecords\u001b[0m\u001b[0;34m)\u001b[0m\u001b[0;34m\u001b[0m\u001b[0;34m\u001b[0m\u001b[0m\n\u001b[0m\u001b[1;32m   1083\u001b[0m \u001b[0;34m\u001b[0m\u001b[0m\n\u001b[1;32m   1084\u001b[0m         \u001b[0mframes\u001b[0m \u001b[0;34m=\u001b[0m \u001b[0mself\u001b[0m\u001b[0;34m.\u001b[0m\u001b[0mformat_records\u001b[0m\u001b[0;34m(\u001b[0m\u001b[0mrecords\u001b[0m\u001b[0;34m,\u001b[0m \u001b[0mlast_unique\u001b[0m\u001b[0;34m,\u001b[0m \u001b[0mrecursion_repeat\u001b[0m\u001b[0;34m)\u001b[0m\u001b[0;34m\u001b[0m\u001b[0;34m\u001b[0m\u001b[0m\n",
      "\u001b[0;32m~/anaconda3/envs/XAI/lib/python3.8/site-packages/IPython/core/ultratb.py\u001b[0m in \u001b[0;36mfind_recursion\u001b[0;34m(etype, value, records)\u001b[0m\n\u001b[1;32m    380\u001b[0m     \u001b[0;31m# first frame (from in to out) that looks different.\u001b[0m\u001b[0;34m\u001b[0m\u001b[0;34m\u001b[0m\u001b[0;34m\u001b[0m\u001b[0m\n\u001b[1;32m    381\u001b[0m     \u001b[0;32mif\u001b[0m \u001b[0;32mnot\u001b[0m \u001b[0mis_recursion_error\u001b[0m\u001b[0;34m(\u001b[0m\u001b[0metype\u001b[0m\u001b[0;34m,\u001b[0m \u001b[0mvalue\u001b[0m\u001b[0;34m,\u001b[0m \u001b[0mrecords\u001b[0m\u001b[0;34m)\u001b[0m\u001b[0;34m:\u001b[0m\u001b[0;34m\u001b[0m\u001b[0;34m\u001b[0m\u001b[0m\n\u001b[0;32m--> 382\u001b[0;31m         \u001b[0;32mreturn\u001b[0m \u001b[0mlen\u001b[0m\u001b[0;34m(\u001b[0m\u001b[0mrecords\u001b[0m\u001b[0;34m)\u001b[0m\u001b[0;34m,\u001b[0m \u001b[0;36m0\u001b[0m\u001b[0;34m\u001b[0m\u001b[0;34m\u001b[0m\u001b[0m\n\u001b[0m\u001b[1;32m    383\u001b[0m \u001b[0;34m\u001b[0m\u001b[0m\n\u001b[1;32m    384\u001b[0m     \u001b[0;31m# Select filename, lineno, func_name to track frames with\u001b[0m\u001b[0;34m\u001b[0m\u001b[0;34m\u001b[0m\u001b[0;34m\u001b[0m\u001b[0m\n",
      "\u001b[0;31mTypeError\u001b[0m: object of type 'NoneType' has no len()"
     ]
    }
   ],
   "source": [
    "#%autoreload 2\n",
    "parallel = Parallel(n_jobs=n_jobs, verbose=3, backend='sequential') #loky\n",
    "clf_list = parallel(delayed(train_lambda_net)(config=config,\n",
    "                                              lambda_index=index, \n",
    "                                              X_data_with_function=X_data, \n",
    "                                              y_data_with_function=y_data,\n",
    "                                              distribution_parameter_list=distribution_parameter_list[1], \n",
    "                                              return_model=True,\n",
    "                                              return_history=True, \n",
    "                                              printing=True) for index, (X_data, y_data, distribution_parameter_list) in enumerate(zip(X_data_list[:10], y_data_list[:10], distribution_parameter_list_list[:10])))  \n",
    "del parallel"
   ]
  },
  {
   "cell_type": "code",
   "execution_count": null,
   "metadata": {},
   "outputs": [],
   "source": []
  },
  {
   "cell_type": "code",
   "execution_count": null,
   "metadata": {
    "execution": {
     "iopub.status.busy": "2022-01-22T13:27:37.248569Z",
     "iopub.status.idle": "2022-01-22T13:27:37.249065Z",
     "shell.execute_reply": "2022-01-22T13:27:37.248913Z",
     "shell.execute_reply.started": "2022-01-22T13:27:37.248894Z"
    },
    "tags": []
   },
   "outputs": [],
   "source": [
    "model_list = [clf['model'] for clf in clf_list]"
   ]
  },
  {
   "cell_type": "code",
   "execution_count": null,
   "metadata": {
    "execution": {
     "iopub.status.busy": "2022-01-22T13:27:37.250019Z",
     "iopub.status.idle": "2022-01-22T13:27:37.250590Z",
     "shell.execute_reply": "2022-01-22T13:27:37.250439Z",
     "shell.execute_reply.started": "2022-01-22T13:27:37.250422Z"
    }
   },
   "outputs": [],
   "source": [
    "generate_data_distribtion(config, \n",
    "                          seed=RANDOM_SEED+i, \n",
    "                          max_distributions_per_class=max_distributions_per_class, \n",
    "                          random_parameters=random_parameters_distribution,\n",
    "                          flip_percentage=0) "
   ]
  },
  {
   "cell_type": "code",
   "execution_count": null,
   "metadata": {
    "execution": {
     "iopub.status.busy": "2022-01-22T13:27:37.251394Z",
     "iopub.status.idle": "2022-01-22T13:27:37.251776Z",
     "shell.execute_reply": "2022-01-22T13:27:37.251629Z",
     "shell.execute_reply.started": "2022-01-22T13:27:37.251611Z"
    }
   },
   "outputs": [],
   "source": [
    "z"
   ]
  },
  {
   "cell_type": "code",
   "execution_count": null,
   "metadata": {},
   "outputs": [],
   "source": []
  },
  {
   "cell_type": "code",
   "execution_count": null,
   "metadata": {},
   "outputs": [],
   "source": []
  },
  {
   "cell_type": "code",
   "execution_count": null,
   "metadata": {},
   "outputs": [],
   "source": []
  },
  {
   "cell_type": "code",
   "execution_count": null,
   "metadata": {},
   "outputs": [],
   "source": []
  },
  {
   "cell_type": "code",
   "execution_count": null,
   "metadata": {},
   "outputs": [],
   "source": []
  },
  {
   "cell_type": "code",
   "execution_count": null,
   "metadata": {},
   "outputs": [],
   "source": []
  },
  {
   "cell_type": "code",
   "execution_count": null,
   "metadata": {
    "execution": {
     "iopub.status.busy": "2022-01-22T13:27:37.252828Z",
     "iopub.status.idle": "2022-01-22T13:27:37.253201Z",
     "shell.execute_reply": "2022-01-22T13:27:37.253053Z",
     "shell.execute_reply.started": "2022-01-22T13:27:37.253035Z"
    },
    "tags": []
   },
   "outputs": [],
   "source": [
    "shaped_network_parameters_to_array(model_list[0].get_weights(), config)"
   ]
  },
  {
   "cell_type": "code",
   "execution_count": null,
   "metadata": {
    "execution": {
     "iopub.status.busy": "2022-01-22T13:27:37.254307Z",
     "iopub.status.idle": "2022-01-22T13:27:37.254769Z",
     "shell.execute_reply": "2022-01-22T13:27:37.254623Z",
     "shell.execute_reply.started": "2022-01-22T13:27:37.254605Z"
    },
    "tags": []
   },
   "outputs": [],
   "source": [
    "np.random.seed(42)\n",
    "np.count_nonzero(np.round(model_list[0].predict(np.random.uniform(0,1,(100,10)))))"
   ]
  },
  {
   "cell_type": "code",
   "execution_count": null,
   "metadata": {
    "execution": {
     "iopub.status.busy": "2022-01-22T13:27:37.256027Z",
     "iopub.status.idle": "2022-01-22T13:27:37.256491Z",
     "shell.execute_reply": "2022-01-22T13:27:37.256343Z",
     "shell.execute_reply.started": "2022-01-22T13:27:37.256325Z"
    },
    "tags": []
   },
   "outputs": [],
   "source": [
    "line_array= np.array([0, 42, 0, 0, 0, 0, 0, 0, 0, 0, 0, 0, 0, 0, 0, 0, 0, 0, 0, 0, 0, 0, 0, 0, 0, 0, 0, 0, 0, 0, 0, 0, 0, 0, 0, 0, 0, 0, 0, 0, 0, 0, 0, 0, 0, 0, 0, 0, 0.007871077, 0.019227676, 0.06049267, -0.11096079, -0.10718311, 0.07268503, 0.070552185, -0.020789566, -0.17641541, -0.1865493, 0.17409845, -0.11240931, 0.067920685, -0.01773455, 0.1190652, 0.09628576, 0.13399908, -0.098537944, -0.006490561, -0.071188256, -0.11238956, 0.008158254, -0.0008007571, -0.0026006792, 0.13049957, 0.04704446, 0.04051142, 0.106938936, -0.041266188, 0.06370939, -0.0822466, 0.14959574, 0.18709098, 0.067184806, -0.07721369, 0.11085195, 0.007599116, 0.17280468, 0.015853273, -0.0918726, 0.04111024, 0.060455233, 0.1153687, 0.16261484, 0.19679408, 0.12281814, 0.1451466, -0.21911578, 0.11625098, -0.21983118, 0.13927664, -0.12836641, -0.058468543, -0.10890538, 0.054522183, 0.117795095, 0.0024565738, 0.017654316, -0.11986976, 0.13142247, 0.017072072, 0.1373946, -0.17703144, 0.2267174, -0.02286977, -0.00060769875, 0.12724438, 0.03272676, -0.070347734, 0.027505355, 0.041767158, 0.1564854, 0.024579216, -0.030077063, -0.0041587194, 0.012980198, 0.041061502, 0.00013621151, 0.15839812, -0.14059499, 0.05837339, -0.019385708, -0.14156361, 0.07191339, 0.03772232, -0.070279665, -0.16690727, 0.016912162, -0.001966942, 0.12652817, 0.11989795, -0.17914312, -0.11790955, -0.022793192, 0.04077262, 0.028248115, -0.032827504, 0.09718628, 0.0849416, -0.021449834, -0.23735163, -0.19581753, -0.1004676, -0.102348946, 0.1156424, 0.043808766, 0.11508226, 0.12746923, -0.19217545, 0.053634223, 0.064405665, 0.0056435666, -0.007966063, 0.1679317, 0.006177048, -0.16352531, -0.01191753, 0.06348253, 0.11688323, 0.14446078, -0.0015151011, 0.17554791, 0.021768965, 0.08975485, -0.16161072, 0.090057276, 0.020613175, 0.0092701465, -0.30352312, 0.49953508, 0.42336768, -0.31022725, -0.3892227, 0.390593, -0.15273938, -0.1108775, 0.0071481797, -0.19900766, 0.39181164, 0.021874085, -0.25869715, -0.30313385, 0.2677292, -0.21719512, -0.2989725, -0.072879694, 0.471995, -0.24914153, -0.13842484, -0.14251247, 0.4224318, 0.32115492, 0.30870867, 0.38401407, -0.2608726, 0.11260246, -0.1934413, -0.013713956, 0.0002245009, 0.13879974, -0.11057055, 0.07811426, -0.19365339, 0.37030998, 0.031875707, 0.38555917, -0.16070157, -0.27222145, 0.40934405, -0.08958136, -0.16415302, 0.17511891, 0.31075248, -0.12696123, 0.17139933, -0.16474639, 0.11809852, -0.05238329, 0.44287366, -0.19978815, -0.23430097, -0.17206492, -0.34144768, 0.34249917, 0.33538988, -0.378247, 0.03082317, 0.19575132, -0.10526062, -0.14419115, -0.034268346, 0.2160429, 0.33952108, -0.27807444, -0.31726897, 0.4241455, -0.12625019, -0.13191666, -0.2821006, 0.18631347, 0.37642324, -0.22336797, 0.25801134, -0.03547625, -0.06536234, -0.14514971, 0.35904166, -0.0010592043, -0.12614115, -0.21957119, 0.16688131, -0.06414169, 0.44483003, 0.30935967, 0.020162404, 0.33256686, -0.014864718, -0.35546985, 0.12211383, -0.3221093, 0.17772757, 0.4228428, 0.2377208, 0.33721462, -0.18961462, 0.23125322, -0.12525734, -0.103172384, -0.118357964, -0.07234985, 0.002727689, -0.20450838, 0.27952823, -0.07587662, 0.34810144, 0.29091123, -0.20580734, -0.30220228, -0.01650843, -0.09531647, 0.015930789, 0.2694911, 0.45555523, -0.1897381, -0.2861206, -0.20669325, 0.1934728, -0.15559193, 0.34787223, 0.23259455, -0.08221071, -0.37596223, 0.101683185, -0.15999815, 0.16519615, 0.47884887, -0.014814721, 0.24556129, 0.18573704, -0.1478698, 0.008465527, 0.074187115, -0.1353889, -0.22372647, -0.2230231, -0.07078323, 0.120521106, -0.05571127, -0.26109028, -0.11622941, 0.20763378, -0.20554434, -0.3096181, 0.03492502, 0.43932292, -0.07538579, -0.27200618, -0.33813655, 0.25336683, 0.3952597, 0.36599642, 0.23857018, -0.13063991, 0.29589835, -0.30730924, 0.039743047, 0.051081195, 0.2385905, -0.16478324, 0.3117249, 0.035872117, 0.32990125, -0.19197184, 0.18196636, 0.10640143, -0.22629628, 0.3097431, -0.040220857, -0.09239051, 0.1591236, 0.098098725, -0.13037966, 0.2713738, 0.032405652, 0.39574274, -0.16857497, 0.02296291, -0.15410991, -0.3094557, -0.08011678, -0.09316099, 0.10484554, 0.29709116, -0.02210826, -0.0670681, 0.25860777, -0.22742535, -0.1789542, 0.1702468, 0.31283006, 0.3187883, -0.16159903, -0.3592867, 0.11853624, -0.24240182, -0.21856233, -0.11880722, 0.36858037, 0.35891634, -0.0705147, 0.34095564, -0.19302866, -0.3637652, -0.13866068, 0.17233083, -0.18207934, -0.33032125, -0.07137449, -0.0673259, -0.08833603, 0.10555374, 0.12054195, -0.033411674, 0.0913395, -0.15626845, -0.23707771, 0.20381056, 0.08625668, 0.028537532, 0.38169318, 0.3487822, 0.14009725, -0.16818616, -0.0056021586, -0.24446031, -0.2980826, 0.16739048, -0.14030287, -0.03874173, -0.11065038, 0.2972769, -0.2338234, 0.13387977, 0.36412314, 0.048172537, -0.27878127, 0.0071058273, -0.33714446, -0.1578866, 0.28382036, 0.2252166, -0.09310623, -0.28015122, -0.07516079, 0.22767493, -0.10104237, 0.33757666, 0.21451195, -0.00483699, -0.07180983, -0.16135316, -0.063366614, 0.29308686, 0.34106895, 0.09625685, 0.021868905, 0.15621497, -0.029110413, 0.014329957, 0.0017687066, 0.059514955, 0.13889167, 0.07445261, -0.19815561, 0.041946713, 0.14598854, 0.17462826, 0.14807555, -0.04451618, -0.06557294, 0.1274413, -0.14127225, 0.13390633, -0.051522803, -0.1364412, 0.19124004, 0.17238931, 0.10843641, 0.009337269, -0.040572837, 0.16515395, 0.19263041, 0.2143759, 0.18883379, -0.17985047, 0.15669614, -0.02569528, 0.17040974, -0.15653217, 0.10559601, 0.114288874, 0.0043279673, -0.091871485, 0.13544472, 0.1004489, -0.13717741, 0.10112994, 0.2303202, 0.07568248, 0.16380803, -0.06491465, -0.0994009, 0.078097105, 0.15519415, 0.17593622, -0.12656653, 0.05785677, -0.091412075, 0.2512043, -0.14674309, 0.07291127, -0.028790401, -0.15136051, -0.0018950785, -0.09904276, -0.11605653, -0.005508696, -0.072446294, 0.07300982, -0.0655074, -0.090970345, -0.052230816, 0.2058967, -0.1130041, 0.2150688, 0.02528084, 0.0108233765, 0.033064645, 0.14367455, -0.09773458, -0.1314341, -0.034454137, 0.17196433, -0.12495491, 0.1692957, 0.14335164, 0.18072046, -0.031496014, 0.05527721, 0.1016116, 0.012351673, -0.049038224, 0.0011109433, 0.24415952, -0.06433642, -0.06620935, -0.16602857, -0.15328433, 0.054226387, -0.053601444, 0.09880129, 0.11264761, -0.007696856, 0.04896298, 0.14651479, 0.101429746, -0.10705595, -0.112417065, -0.16785727, -0.13484062, -0.070547596, -0.029468343, 0.045365706, 0.26256266, -0.14766994, 0.106657326, -0.19210167, 0.018879816, 0.22904271, 0.19679005, 0.27405924, -0.10397815, 0.02846367, -0.16281876, -0.18034708, 0.13784267, -0.031939104, -0.058382113, -0.012738217, -0.20438293, -0.045350246, 0.12086947, 0.010466461, 0.26186222, 0.049066, 0.09131006, 0.05161221, 0.013473819, -0.17681846, -0.11070124, 0.18159983, 0.1553465, 0.023406904, 0.069226846, 0.14230473, -0.081753105, 0.079242095, -0.07639612, 0.07991114, -0.10725252, 0.18879753, -0.050967146, -0.034986038, -0.07335137, 0.10735564, 0.15969492, -0.09847334, 0.11905405, -0.058101505, 0.11922684, 0.08172684, -0.058905136, -0.034107625, 0.16509521, -0.06810261, 0.05772968, 0.11790107, 0.19479524, 0.13165021, 0.064271845, -0.05673659, 0.18432713, 0.059725855, -0.04204445, -0.19182393, 0.061813235, 0.23140149, 0.053777434, 0.15006799, 0.176139, 0.06795814, -0.18549122, -0.042584307, -0.16832818, 0.008074746, -0.046845928, 0.1825007, 0.14632551, 0.12986104, 0.022734053, -0.05198059, -0.09550403, 0.20897748, 0.033437494, 0.08701157, 0.14403048, -0.16145587, -0.072680905, 0.09240894, -0.020545846, -0.11133559, -0.1111482, -0.12374194, -0.12799676, -0.13825181, 0.0889915, 0.22583856, 0.09578516, 0.088880815, 0.17717622, -0.04861504, -0.0018509477, -0.07509862, 0.013539459, -0.10655531, 0.056349237, 0.04508106, 0.018543921, 0.06933872, -0.14760086, 0.10645531, 0.11815474, 0.16306636, 0.10492815, -0.22587478, 0.23034368, 0.064719684, 0.13089383, 0.06534126, 0.19602472, 0.13735168, 0.18686622, 0.14163351, 0.0029898286, 0.032103207, 0.05770509, 0.17447852, 0.080944315, 0.04851789, 0.08677946, -0.109530956, -0.087732695, -0.14533952, -0.083479, -0.08505611, 0.18590978, 0.11381827, -0.14197044, -0.033894055, 0.029068764, 0.24424647, -0.013043836, 0.08091626, 0.25901982, 0.14058386, 0.08612038, 0.08429917, -0.1696898, 0.27220076, 0.08909441, -0.17993669, 0.17118467, 0.05418854, -0.026205823, 0.017932475, 0.12857407, -0.12019603, -0.015176976, -0.0053270394, -0.12385733, 0.046545748, -0.033096448, 0.005191861, 0.15565026, 0.08612923, 0.044149082, 0.1093722, 0.0077874847, -0.0085084895, 0.019816348, 0.009820028, 0.016603827, 0.22221112, 0.24879642, -0.0038776798, 0.26360768, -0.13290007, -0.037614025, 0.07081027, 0.030839056, -0.088027716, 0.008937762, 0.11827572, 0.2420974, 0.004595533, 0.016840713, -0.07115221, 0.08292164, -0.0072080274, -0.019336417, 0.28003046, -0.025974872, -0.060318872, 0.014170936, 0.21444988, -0.15932208, 0.11188878, 0.11001826, 0.19143035, 0.16807759, -0.021977432, -0.17252253, 0.14892629, -0.090426154, -0.16018656, 0.26690242, -0.10326239, -0.08761551, -0.12198414, 0.0076642376, -0.019764965, -0.0009966954, 0.051722433, 0.18645757, 0.033106796, -0.0057363417, -0.050609548, 0.24313086, 0.14605287, -0.041108128, 0.057024077, 0.17700309, 0.25380018, -0.012226614, 0.24172129, 0.0880531, -0.087306045, -0.091677845, -0.06485268, -0.18851757, 0.1480521, 0.04595549, -0.013302801, 0.08688145, 0.008395773, -0.096542545, 0.07633283, -0.030755894, 0.13947676, 0.121427976, 0.25018996, 0.081633955, 0.16249152, 0.24485195, -0.05739245, -0.02831523, -0.23136172, -0.006509015, 0.09361789, -0.0046715164, -0.05609032, -0.19631898, -0.19635525, -0.17977655, -0.10411098, 0.033137888, 0.1317089, 0.002577253, 0.08974745, -0.04834733, -0.0016946346, 0.08347548, 0.09905205, -0.09749967, 0.18380585, -0.0472718, 0.12691835, 0.07334689, 0.09149724, -0.019268587, 0.052145194, 0.06358921, -0.06417766, -0.057762858, 0.1869877, 0.1612592, 0.28850132, 0.07466439, 0.15462092, 0.02438618, -0.05642112, 0.08891926, 0.10323305, 0.21919028, -0.034399763, -0.061099354, -0.0010887815, -0.12707171, 0.027346237, -0.19590586, 0.061204605, 0.1987879, -0.08988387, 0.061665293, -0.016664617, 0.1987179, 0.029582636, 0.1766175, 0.17626937, -0.0030355803, 0.06936649, 0.120009854, 0.100971535, 0.1375362, 0.18965167, 0.07782789, 0.070075184, 0.13096382, -0.1446045, 0.20203523, -0.20837337, 0.059055015, -0.13063768, -0.07830471, -0.09360885, 0.067010455, -0.05105674, 0.044698864, 0.07107023, -0.16020183, -0.11266754, -0.007580943, 0.13141258, -0.13635932, 0.1848922, -0.1725322, -0.010890716, 0.034329306, 0.053932093, -0.04982999, 0.25334388, -0.15739067, -0.09973761, 0.08661999, 0.02544293, 0.26409858, 0.06437679, 0.18470089, 0.0927777, -0.027217994, 0.025117217, -0.06064197, 0.16100751, 0.20398392, 0.19612111, 0.0004923756, 0.08221615, -0.115631685, 0.07140536, -0.12885752, -0.106475346, -0.02867939, 0.16755171, -0.07686224, 0.10726089, -0.11976167, 0.10348964, 0.035952166, 0.06074107, -0.12311991, -0.21008344, -0.120352365, 0.23959629, 0.21313888, -0.205865, 0.18741095, 0.07297274, -0.07983194, 0.026401905, 0.18466926, -0.090126485, 0.10341249, 0.043675825, 0.165424, 0.16088775, 0.17809264, 0.11079492, 0.19645911, -0.09784563, 0.14385314, -0.110948525, -0.16112034, 0.08612441, -0.14839783, 0.09981187, -0.08249592, 0.17774022, 0.21810669, -0.039312303, 0.02978724, 0.15550292, 0.030343963, 0.23645885, -0.045137312, 0.24444659, 0.12600034, -0.041845553, -0.07631412, -0.13207227, 0.04369354, 0.20963109, 0.14318791, 0.088326395, 0.12975743, 0.2360278, -0.06619708, 0.38946483, -0.4989176, -0.38234177, 0.5115709, 0.37604702, -0.4762669, 0.14142549, 0.44684187, -0.14968915, -0.18807462, -0.4511508, -0.15160896, 0.52862376, 0.32390118, -0.43568802, 0.058093723, 0.6564938, 0.34331596, -0.4605521, 0.42454016, 0.41003615, 0.4753719, -0.62007594, -0.5169255, -0.50665003, -0.5176643, 0.38348666, -0.5056924, 0.34937793, -0.3876466, -0.015204892, -0.50715065, -0.18436791, -0.21603115, -0.054925993, -0.44266284, 0.02529199, -0.35694793, 0.12283935, 0.44985166, -0.5385432, -0.012277682, 0.09659482, -0.53526175, -0.47524124, -0.110400245, -0.43876162, -0.10387465, -0.43559265, -0.08880396, -0.40026498, -0.040543422, 0.29245582, -0.032446444, 0.4989824, -0.34025908, -0.111024685, 0.38538367, 0.33048078, -0.41003588, 0.5179, 0.0795444, -0.21053275, -0.36272904, -0.30264077, 0.44522616, 0.46890444, -0.43690184, 0.4137268, 0.5491098, 0.5202729, -0.23227741, -0.19444162, 0.418296, -0.57184047, 0.56150144, 0.4911773, 0.024452925, -0.21235807, -0.10508787, 0.54599625, 0.50120944, -0.026027475, 0.040892225, -0.6260107, -0.3853026, -0.02902546, -0.23417279, 0.48547226, 0.43619695, -0.08731356, 0.09905629, -0.078518756, -0.4092585, -0.32556656, -0.57242566, 0.48225257, -0.17513694, 0.52305466, 0.36313888, -0.17144156, -0.101075076, 0.51743805, -0.16328552, -0.102994576, 0.12666373, -0.40440583, -0.4075718, -0.20887688, 0.34944943, -0.17205423, 0.5140071, -0.087592125, -0.4804152, -0.61524194, -0.056621596, 0.29293245, -0.040424418, -0.4880808, -0.1849604, -0.22082536, -0.48765683, 0.4834033, 0.57654583, -0.20879366, 0.03334256, -0.5949887, -0.6241631, 0.26069376, 0.21571325, 0.18813998, 0.054326616, 0.19362317, 0.061125085, 0.04154612, 0.10498853, 0.12943079, -0.12787624, -0.025156438, 0.0035719723, -0.06555699, 0.051715594, -0.061017044, -0.025523283, 0.23434617, -0.030449519, 0.14111765, 0.18672842, 0.21421339, -0.08307963, 0.19708441, -0.18234979, -0.0718996, 0.15920794, 0.16332032, 0.20250054, -0.07725591, 0.27202827, -0.19482276, 0.19896227, 0.18127821, -0.19172755, 0.10622637, -0.087206356, -0.17269674, -0.013538344, -0.080275856, 0.012367277, 0.02596331, 0.19668414, -0.024359679, 0.108734526, -0.08236964, -0.20699267, 0.19236614, 0.1593631, -0.086823516, -0.0813729, -0.09619749, 0.03892544, 0.16963, -0.12500681, 0.08404111, -0.04226548, -0.07567924, 0.04714807, 0.07619754, 0.19362901, -0.08794031, 0.09876981, 0.071600035, -0.08279087, -0.108360454, -0.08915073, 0.11418556, 0.03606743, 0.22067511, -0.024466984, -0.06342619, 0.071896166, -0.135095, -0.100643955, 0.107140236, -0.02781474, 0.0015611262, -0.12550007, -0.09319511, 0.15437828, 0.10293325, 0.08535767, 0.10855247, -0.1412896, 0.026311545, 0.04517074, -0.023455027, 0.16959709, 0.022885183, 0.13396263, -0.04616181, 0.11598796, -0.2338886, 0.12922919, -0.07171964, 0.1399169, -0.04356024, -0.18340988, 0.03097581, 0.104506515, -0.08909142, -0.05040209, 0.14212738, -0.09737399, 0.05146138, -0.12394753, 0.004641331, 0.2348125, 0.065598674, -0.06637499, -0.08582614, 0.13226035, 0.022797387, 0.18315546, 0.053029448, -0.22585605, -0.017046468, -0.07721263, 0.09921787, 0.087715015, 0.13683449, 0.14131917, 0.14421663, -0.0358358, -0.10147874, -0.17828952, -0.10319447, 0.21353772, -0.15923154, -0.017386941, 0.16257636, 0.10402482, 0.081906624, 0.03646447, -0.035533156, 0.0052351914, 0.04398289, 0.085057035, 0.17767784, -0.08044708, 0.011853037, -0.05073362, 0.3060982, -0.09130199, -0.009605028, -0.06594309, -0.07827292, -0.047369465, 0.08565212, 0.18180953, 0.16511811, 0.16570714, 0.10362823, 0.019713243, -0.15865925, 0.15786298, 0.12004761, 0.1620885, 0.054355666, 0.020672444, -0.023189113, 0.15833512, -0.18060602, 0.0032399078, -0.14762214, 0.025890764, -0.061465066, 0.13045855, 0.046363804, -0.001015053, -0.0079437755, 0.29235485, -0.031425677, 0.08093379, 0.03360283, 0.04732465, 0.114262745, -0.15528911, 0.121308625, 0.12447138, 0.06874314, -0.14580882, 0.1004469, 0.105942085, 0.11378959, -0.12864706, 0.120850645, -0.015317744, -0.10714911, -0.19368775, -0.18472283, 0.025691286, 0.101202115, -0.022217337, 0.1717853, 0.2513944, -0.011272002, 0.13712445, -0.091481686, 0.021991959, 0.04302904, 0.088171184, -0.0061968616, -0.08400181, 0.047936566, -0.19917251, -0.09923144, -0.19498263, -0.09718094, -0.0044559683, -0.1713026, 0.04671625, 0.22381224, 0.0932905, 0.029956933, 0.13598372, -0.17631167, 0.10841466, -0.09645156, 0.15160996, -0.1360192, 0.19456378, 0.06605913, 0.2508685, 0.15271473, 0.1853984, 0.13100596, -0.09137363, -0.048119426, -0.14288406, 0.16318028, 0.14605312, 0.22084276, 0.12931553, 0.024205862, 0.0029581944, -0.21296825, 0.07521542, -0.17144543, 0.012186034, -0.18551473, 0.22541639, -0.0058068717, 0.18444736, 0.05089685, -0.07209696, 0.20033894, -0.017451301, 0.23174396, 0.00468754, -0.08294475, -0.11365923, -0.18384589, -0.20429493, 0.22338033, 0.29087007, 0.11285868, 0.009942386, -0.042538393, 0.08908315, 0.07942789, 0.02366853, -0.032929435, 0.122560136, -0.023870563, 0.0, -0.00053043483, 0.0, 0.106418334, 0.10242399, 0.040305547, -0.015342262, 0.12197116, 0.05673943, -0.03514551, 0.07109293, 0.08772242, 0.09945978, 0.00072307914, -0.04977146, -0.003161441, -0.0006585465, 0.12882574, 0.005400696, 0.11711158, 0.07483741, 0.0, 0.01124783, 0.0, -0.058124684, 0.0, 0.049874928, -0.009947637, -0.041418307, -0.04908125, 0.10040249, -0.006225008, -0.019663528, -0.030263318, 0.046444956, 0.050869543, -0.005764289, -0.027042048, -0.00014777214, 0.017487692, -0.014757284, 0.020183878, 0.0, 0.118815586, 0.0, 0.11211518, -0.025454631, -0.060792543, 0.13800798, 0.054783832, -0.0010049132, 0.116469406, -0.019447647, -0.033962507, 0.038455278, -0.073015995, 0.12754467, 0.11197485, 0.0068214056, 0.07349027, 0.1392722, 0.10596638, -0.014498753, -0.053611647, 0.075236924, 0.0160046, 0.109163634, 0.106954105, 0.0, -0.03625928, 0.0, 0.1141335, 0.10115415, -0.030417241, -0.026031032, 0.017973017, 0.000941981, -0.0055448273, -0.058979273, 0.06923765, 0.15134388, -0.03470455, 0.04662777, -0.029160079, -0.07812168, -0.04704646, 0.019099249, 0.06857949, -0.05262103, 0.038706988, 0.108025275, -0.03303757, 0.0, 0.062024184, 0.0, -0.05593507, -0.034293737, 0.021925531, 0.036497816, -0.0054092538, 0.13102747, 0.0, 0.09496187, -0.00018911537, -0.032431018, 0.010854101, -0.008174097, 0.12919146, -0.021694617, 0.0452483, 0.0, -0.0647767, 0.0366693, 0.06768958, 0.12679115, -0.018415168, -0.036095496, 0.019201232, -0.0008360725, -0.46303126, 0.37351653, 0.4113816, -0.5217839, -0.49018323, 0.48888233, 0.085801974, -0.56544703, -0.14376555, -0.19294713, 0.52635413, -0.11626446, -0.39306432, -0.45203558, 0.541625, 0.10515745, -0.4283768, -0.30569464, 0.35529453, -0.44057122, -0.5238056, -0.43004927, 0.3670971, 0.3498835, 0.46760628, 0.39444846, -0.47789627, 0.5289233, -0.5460589, 0.36135155, -0.08506732, 0.5488644, 0.1935074, 0.23618309, -0.07986179, 0.4936032, 0.010720724, 0.51748174, 0.019167302, -0.5490042, 0.37745404, 0.07481312, 0.13136423, 0.58572966, 0.6184853, 0.12726748, 0.5102137, -0.22271234, 0.5841477, -0.20313157, 0.5393634, -0.13276882, -0.5173247, -0.112640366, -0.39609012, 0.467827, 0.11386538, -0.5063708, -0.29649433, 0.5606476, -0.54515976, 0.15090698, -0.12575446, 0.6049381, 0.20731892, -0.5193003, -0.3692508, 0.43802163, -0.4475535, -0.533956, -0.41781855, 0.48435774, 0.2739291, -0.43448207, 0.4727638, -0.50359565, -0.43774855, 0.00014089048, 0.41459617, -0.1454168, -0.41339362, -0.49955508, -0.10111347, 0.07786992, 0.38994315, 0.22617984, -0.16277301, 0.18687679, -0.3216651, -0.449628, 0.18026507, -0.22435054, -0.06741199, 0.26478583, 0.39676723, 0.44969338, -0.34391844, 0.20988435, -0.18927404, -0.4867847, -0.17683817, -0.20253322, -0.3926885, -0.10585907, 0.22858828, 0.054763626, 0.5424176, 0.48786113, -0.19015123, -0.43868652, 0.06661448, -0.43410078, 0.00094797375, 0.51312417, 0.38620427, -0.21114135, -0.48287404, 0.07288048, 0.5749052, 0.14941517, 0.21887247, 0.54914397, -0.1794206, -0.3896255, -0.1266553, 0.10711582, 0.46150118, 0.3401061, -0.052100863])\n",
    "line_array\n"
   ]
  },
  {
   "cell_type": "code",
   "execution_count": null,
   "metadata": {
    "execution": {
     "iopub.status.busy": "2022-01-22T13:27:37.257963Z",
     "iopub.status.idle": "2022-01-22T13:27:37.258341Z",
     "shell.execute_reply": "2022-01-22T13:27:37.258190Z",
     "shell.execute_reply.started": "2022-01-22T13:27:37.258172Z"
    },
    "tags": []
   },
   "outputs": [],
   "source": [
    "line_distrib = np.array([0,' poisson', 4.0102355931433324, ' NaN', 4.812282711771999, ' NaN',' binomial', 49.18851711477962, 0.2503516370151786, 59.02622053773555, 0.30042196441821434,' normal', 0.6052952376255275, 0.08485637761245057, 0.726354285150633, 0.10182765313494069,' gamma', 3.0547691371073564, 4.398636606053762, 3.6657229645288276, 3.5189092848430095,' exponential', 4.579696579953673, ' NaN', 5.495635895944408, ' NaN',' exponential', 4.488159106371182, ' NaN', 5.385790927645418,' NaN', ' beta', 4.650740566175658, 3.7588687518283903, 3.7205924529405268, 3.0070950014627122, ' normal', 0.3031546269131786, 0.018439046761285383, 0.2425237015305429, 0.02212685611354246, ' gamma', 2.191195962816965, 4.400431338271998, 1.7529567702535718, 5.280517605926398, ' normal', 0.9304624782877245, 0.8651137396721454, 1.1165549739452696, 0.6920909917377164])\n",
    "line_distrib"
   ]
  },
  {
   "cell_type": "code",
   "execution_count": null,
   "metadata": {
    "execution": {
     "iopub.status.busy": "2022-01-22T13:27:37.259452Z",
     "iopub.status.idle": "2022-01-22T13:27:37.259804Z",
     "shell.execute_reply": "2022-01-22T13:27:37.259657Z",
     "shell.execute_reply.started": "2022-01-22T13:27:37.259639Z"
    },
    "tags": []
   },
   "outputs": [],
   "source": [
    "config['i_net'] = {}\n",
    "config['i_net']['normalize_lambda_nets'] = False"
   ]
  },
  {
   "cell_type": "code",
   "execution_count": null,
   "metadata": {
    "execution": {
     "iopub.status.busy": "2022-01-22T13:27:37.260956Z",
     "iopub.status.idle": "2022-01-22T13:27:37.261299Z",
     "shell.execute_reply": "2022-01-22T13:27:37.261153Z",
     "shell.execute_reply.started": "2022-01-22T13:27:37.261135Z"
    },
    "tags": []
   },
   "outputs": [],
   "source": [
    "#config['evaluation'] = {}\n",
    "#config['evaluation']['random_evaluation_dataset_distribution'] = 'uniform'\n"
   ]
  },
  {
   "cell_type": "code",
   "execution_count": null,
   "metadata": {
    "execution": {
     "iopub.status.busy": "2022-01-22T13:27:37.262259Z",
     "iopub.status.idle": "2022-01-22T13:27:37.262546Z",
     "shell.execute_reply": "2022-01-22T13:27:37.262405Z",
     "shell.execute_reply.started": "2022-01-22T13:27:37.262389Z"
    },
    "tags": []
   },
   "outputs": [],
   "source": [
    "config['evaluation']['random_evaluation_dataset_size'] = int(np.round(config['data']['lambda_dataset_size']*0.25))"
   ]
  },
  {
   "cell_type": "code",
   "execution_count": null,
   "metadata": {
    "execution": {
     "iopub.status.busy": "2022-01-22T13:27:37.263579Z",
     "iopub.status.idle": "2022-01-22T13:27:37.263873Z",
     "shell.execute_reply": "2022-01-22T13:27:37.263728Z",
     "shell.execute_reply.started": "2022-01-22T13:27:37.263712Z"
    },
    "tags": []
   },
   "outputs": [],
   "source": [
    "lambda_net = LambdaNet(line_array, line_distrib, config) #line_distrib\n"
   ]
  },
  {
   "cell_type": "code",
   "execution_count": null,
   "metadata": {
    "execution": {
     "iopub.status.busy": "2022-01-22T13:27:37.264996Z",
     "iopub.status.idle": "2022-01-22T13:27:37.265449Z",
     "shell.execute_reply": "2022-01-22T13:27:37.265298Z",
     "shell.execute_reply.started": "2022-01-22T13:27:37.265281Z"
    },
    "tags": []
   },
   "outputs": [],
   "source": [
    "network_params = lambda_net.network_parameters\n",
    "network = network_parameters_to_network(network_params, config, base_model=None)\n",
    "X_data = lambda_net.X_test_lambda\n",
    "distribution_dict_row = lambda_net.distribution_dict_row"
   ]
  },
  {
   "cell_type": "code",
   "execution_count": null,
   "metadata": {
    "execution": {
     "iopub.status.busy": "2022-01-22T13:27:37.266454Z",
     "iopub.status.idle": "2022-01-22T13:27:37.266910Z",
     "shell.execute_reply": "2022-01-22T13:27:37.266759Z",
     "shell.execute_reply.started": "2022-01-22T13:27:37.266742Z"
    },
    "tags": []
   },
   "outputs": [],
   "source": [
    "distribution_dict_row[distribution_dict_row == ' NaN'] = np.nan\n",
    "distribution_dict_row[distribution_dict_row == ' normal'] = 0\n",
    "distribution_dict_row[distribution_dict_row == ' uniform'] = 1\n",
    "distribution_dict_row[distribution_dict_row == ' gamma'] = 2\n",
    "distribution_dict_row[distribution_dict_row == ' exponential'] = 3\n",
    "distribution_dict_row[distribution_dict_row == ' beta'] = 4\n",
    "distribution_dict_row[distribution_dict_row == ' binomial'] = 5\n",
    "distribution_dict_row[distribution_dict_row == ' poisson'] = 6\n",
    "distribution_dict_row = distribution_dict_row.astype(np.float32)"
   ]
  },
  {
   "cell_type": "code",
   "execution_count": null,
   "metadata": {
    "execution": {
     "iopub.status.busy": "2022-01-22T13:27:37.268002Z",
     "iopub.status.idle": "2022-01-22T13:27:37.268475Z",
     "shell.execute_reply": "2022-01-22T13:27:37.268326Z",
     "shell.execute_reply.started": "2022-01-22T13:27:37.268309Z"
    },
    "tags": []
   },
   "outputs": [],
   "source": [
    "X_data.shape"
   ]
  },
  {
   "cell_type": "code",
   "execution_count": null,
   "metadata": {
    "execution": {
     "iopub.status.busy": "2022-01-22T13:27:37.269748Z",
     "iopub.status.idle": "2022-01-22T13:27:37.270116Z",
     "shell.execute_reply": "2022-01-22T13:27:37.269964Z",
     "shell.execute_reply.started": "2022-01-22T13:27:37.269946Z"
    },
    "tags": []
   },
   "outputs": [],
   "source": [
    "distribution_dict_row"
   ]
  },
  {
   "cell_type": "code",
   "execution_count": null,
   "metadata": {
    "execution": {
     "iopub.status.busy": "2022-01-22T13:27:37.271145Z",
     "iopub.status.idle": "2022-01-22T13:27:37.271532Z",
     "shell.execute_reply": "2022-01-22T13:27:37.271383Z",
     "shell.execute_reply.started": "2022-01-22T13:27:37.271366Z"
    },
    "tags": []
   },
   "outputs": [],
   "source": [
    "random_evaluation_dataset = generate_dataset_from_distributions_line_tf(number_of_variables_function=config['data']['number_of_variables'], \n",
    "                                                       number_of_samples_function=config['evaluation']['random_evaluation_dataset_size'], \n",
    "                                                       max_distributions_per_class_function = config['data']['max_distributions_per_class'], \n",
    "                                                       seed_function = np.random.randint(1_000_000+1), \n",
    "                                                       flip_percentage=0,\n",
    "                                                       config=config,\n",
    "                                                       distribution_line_function=distribution_dict_row)\n",
    "\n",
    "print('random_evaluation_dataset.shape', random_evaluation_dataset.shape)\n",
    "\n",
    "                                                                        "
   ]
  },
  {
   "cell_type": "code",
   "execution_count": null,
   "metadata": {
    "execution": {
     "iopub.status.busy": "2022-01-22T13:27:37.272448Z",
     "iopub.status.idle": "2022-01-22T13:27:37.272735Z",
     "shell.execute_reply": "2022-01-22T13:27:37.272594Z",
     "shell.execute_reply.started": "2022-01-22T13:27:37.272577Z"
    },
    "tags": []
   },
   "outputs": [],
   "source": [
    "np.count_nonzero(np.round(network.predict(random_evaluation_dataset).ravel()))"
   ]
  },
  {
   "cell_type": "code",
   "execution_count": null,
   "metadata": {
    "execution": {
     "iopub.status.busy": "2022-01-22T13:27:37.273747Z",
     "iopub.status.idle": "2022-01-22T13:27:37.274036Z",
     "shell.execute_reply": "2022-01-22T13:27:37.273892Z",
     "shell.execute_reply.started": "2022-01-22T13:27:37.273876Z"
    }
   },
   "outputs": [],
   "source": [
    "np.count_nonzero(np.round(network.predict(random_evaluation_dataset).ravel()))"
   ]
  },
  {
   "cell_type": "code",
   "execution_count": null,
   "metadata": {},
   "outputs": [],
   "source": []
  },
  {
   "cell_type": "code",
   "execution_count": null,
   "metadata": {
    "execution": {
     "iopub.status.busy": "2022-01-22T13:27:37.275068Z",
     "iopub.status.idle": "2022-01-22T13:27:37.275360Z",
     "shell.execute_reply": "2022-01-22T13:27:37.275218Z",
     "shell.execute_reply.started": "2022-01-22T13:27:37.275201Z"
    }
   },
   "outputs": [],
   "source": [
    "self.X_test_lambda, _, _, _ = generate_dataset_from_distributions(distribution_list=['uniform', 'normal', 'gamma', 'exponential', 'beta', 'binomial', 'poisson'], \n",
    "                                                                 number_of_variables=config['data']['number_of_variables'], \n",
    "                                                                 number_of_samples=int(np.round(config['data']['lambda_dataset_size']*0.25)), \n",
    "                                                                 distributions_per_class = config['data']['max_distributions_per_class'], \n",
    "                                                                 seed = data_generation_seed, \n",
    "                                                                 flip_percentage=0, \n",
    "                                                                 random_parameters=config['data']['random_parameters_distribution'])   \n"
   ]
  },
  {
   "cell_type": "code",
   "execution_count": null,
   "metadata": {
    "execution": {
     "iopub.status.busy": "2022-01-22T13:27:37.276438Z",
     "iopub.status.idle": "2022-01-22T13:27:37.276805Z",
     "shell.execute_reply": "2022-01-22T13:27:37.276660Z",
     "shell.execute_reply.started": "2022-01-22T13:27:37.276642Z"
    },
    "tags": []
   },
   "outputs": [],
   "source": [
    "%load_ext autoreload\n",
    "%autoreload 2"
   ]
  },
  {
   "cell_type": "code",
   "execution_count": null,
   "metadata": {
    "execution": {
     "iopub.status.busy": "2022-01-22T13:27:37.277695Z",
     "iopub.status.idle": "2022-01-22T13:27:37.277983Z",
     "shell.execute_reply": "2022-01-22T13:27:37.277841Z",
     "shell.execute_reply.started": "2022-01-22T13:27:37.277825Z"
    },
    "tags": []
   },
   "outputs": [],
   "source": [
    "%load_ext autoreload\n",
    "%autoreload 2\n",
    "network_from_param = LambdaNet(line_array, line_distrib, config).network_parameters #line_distrib\n",
    "network_from_param"
   ]
  },
  {
   "cell_type": "code",
   "execution_count": null,
   "metadata": {
    "execution": {
     "iopub.status.busy": "2022-01-22T13:27:37.279210Z",
     "iopub.status.idle": "2022-01-22T13:27:37.279499Z",
     "shell.execute_reply": "2022-01-22T13:27:37.279357Z",
     "shell.execute_reply.started": "2022-01-22T13:27:37.279340Z"
    }
   },
   "outputs": [],
   "source": [
    "LambdaNet(line_array, line_distrib, config).distribution_dict_list"
   ]
  },
  {
   "cell_type": "code",
   "execution_count": null,
   "metadata": {
    "execution": {
     "iopub.status.busy": "2022-01-22T13:27:37.280576Z",
     "iopub.status.idle": "2022-01-22T13:27:37.280864Z",
     "shell.execute_reply": "2022-01-22T13:27:37.280721Z",
     "shell.execute_reply.started": "2022-01-22T13:27:37.280704Z"
    },
    "tags": []
   },
   "outputs": [],
   "source": [
    "test_network = network_parameters_to_network(network_from_param, config, base_model=None)\n"
   ]
  },
  {
   "cell_type": "code",
   "execution_count": null,
   "metadata": {
    "execution": {
     "iopub.status.busy": "2022-01-22T13:27:37.281805Z",
     "iopub.status.idle": "2022-01-22T13:27:37.282244Z",
     "shell.execute_reply": "2022-01-22T13:27:37.282094Z",
     "shell.execute_reply.started": "2022-01-22T13:27:37.282076Z"
    },
    "tags": []
   },
   "outputs": [],
   "source": [
    "np.count_nonzero(np.round(test_network.predict(X_data_list[1][1].values))) #line_distrib"
   ]
  },
  {
   "cell_type": "code",
   "execution_count": null,
   "metadata": {},
   "outputs": [],
   "source": []
  },
  {
   "cell_type": "code",
   "execution_count": null,
   "metadata": {
    "execution": {
     "iopub.status.busy": "2022-01-22T13:27:37.283743Z",
     "iopub.status.idle": "2022-01-22T13:27:37.284193Z",
     "shell.execute_reply": "2022-01-22T13:27:37.284043Z",
     "shell.execute_reply.started": "2022-01-22T13:27:37.284026Z"
    }
   },
   "outputs": [],
   "source": [
    "np.count_nonzero(np.round(test_network.predict(LambdaNet(line_array, line_distrib, config).X_test_lambda))) #line_distrib"
   ]
  },
  {
   "cell_type": "code",
   "execution_count": null,
   "metadata": {
    "execution": {
     "iopub.status.busy": "2022-01-22T13:27:37.285221Z",
     "iopub.status.idle": "2022-01-22T13:27:37.285756Z",
     "shell.execute_reply": "2022-01-22T13:27:37.285605Z",
     "shell.execute_reply.started": "2022-01-22T13:27:37.285587Z"
    },
    "tags": []
   },
   "outputs": [],
   "source": [
    "np.count_nonzero(np.round(test_network.predict(LambdaNet(line_array, line_distrib, config).X_test_lambda))) #line_distrib"
   ]
  },
  {
   "cell_type": "code",
   "execution_count": null,
   "metadata": {
    "execution": {
     "iopub.status.busy": "2022-01-22T13:27:37.286577Z",
     "iopub.status.idle": "2022-01-22T13:27:37.286864Z",
     "shell.execute_reply": "2022-01-22T13:27:37.286723Z",
     "shell.execute_reply.started": "2022-01-22T13:27:37.286707Z"
    },
    "tags": []
   },
   "outputs": [],
   "source": [
    "np.count_nonzero(np.round(model_list[0].predict(LambdaNet(line_array, line_distrib, config).X_test_lambda)))#line_distrib"
   ]
  },
  {
   "cell_type": "code",
   "execution_count": null,
   "metadata": {
    "execution": {
     "iopub.status.busy": "2022-01-22T13:27:37.287889Z",
     "iopub.status.idle": "2022-01-22T13:27:37.288182Z",
     "shell.execute_reply": "2022-01-22T13:27:37.288035Z",
     "shell.execute_reply.started": "2022-01-22T13:27:37.288019Z"
    },
    "tags": []
   },
   "outputs": [],
   "source": [
    "np.random.seed(42)\n",
    "np.count_nonzero(np.round(test_network.predict(np.random.uniform(0,1,(10000,10)))))"
   ]
  },
  {
   "cell_type": "code",
   "execution_count": null,
   "metadata": {
    "execution": {
     "iopub.status.busy": "2022-01-22T13:27:37.289166Z",
     "iopub.status.idle": "2022-01-22T13:27:37.289509Z",
     "shell.execute_reply": "2022-01-22T13:27:37.289362Z",
     "shell.execute_reply.started": "2022-01-22T13:27:37.289345Z"
    },
    "tags": []
   },
   "outputs": [],
   "source": [
    "np.random.seed(42)\n",
    "np.count_nonzero(np.round(model_list[0].predict(np.random.uniform(0,1,(100,10)))))"
   ]
  },
  {
   "cell_type": "code",
   "execution_count": null,
   "metadata": {
    "execution": {
     "iopub.status.busy": "2022-01-22T13:27:37.290429Z",
     "iopub.status.idle": "2022-01-22T13:27:37.290720Z",
     "shell.execute_reply": "2022-01-22T13:27:37.290575Z",
     "shell.execute_reply.started": "2022-01-22T13:27:37.290558Z"
    }
   },
   "outputs": [],
   "source": [
    "shaped_network_parameters_to_array(model_list[0].get_weights(), config)"
   ]
  },
  {
   "cell_type": "code",
   "execution_count": null,
   "metadata": {},
   "outputs": [],
   "source": []
  },
  {
   "cell_type": "code",
   "execution_count": 25,
   "metadata": {
    "execution": {
     "iopub.execute_input": "2022-01-22T13:27:59.131674Z",
     "iopub.status.busy": "2022-01-22T13:27:59.131334Z",
     "iopub.status.idle": "2022-01-22T13:29:08.450596Z",
     "shell.execute_reply": "2022-01-22T13:29:08.449374Z",
     "shell.execute_reply.started": "2022-01-22T13:27:59.131646Z"
    },
    "tags": []
   },
   "outputs": [
    {
     "name": "stderr",
     "output_type": "stream",
     "text": [
      "[Parallel(n_jobs=20)]: Using backend LokyBackend with 20 concurrent workers.\n",
      "[Parallel(n_jobs=20)]: Done  95 out of 100 | elapsed:  1.1min remaining:    3.5s\n",
      "[Parallel(n_jobs=20)]: Done 100 out of 100 | elapsed:  1.2min finished\n"
     ]
    }
   ],
   "source": [
    "#%autoreload 2\n",
    "parallel = Parallel(n_jobs=n_jobs, verbose=3, backend='loky') #loky\n",
    "clf_list = parallel(delayed(train_lambda_net)(config=config,\n",
    "                                              lambda_index=index, \n",
    "                                              X_data_with_function=X_data, \n",
    "                                              y_data_with_function=y_data,\n",
    "                                              distribution_parameter_list=distribution_parameter_list[1],\n",
    "                                              return_history=True, \n",
    "                                              printing=True) for index, (X_data, y_data, distribution_parameter_list) in enumerate(zip(X_data_list, y_data_list, distribution_parameter_list_list)))  \n",
    "del parallel"
   ]
  },
  {
   "cell_type": "code",
   "execution_count": null,
   "metadata": {
    "execution": {
     "iopub.status.busy": "2022-01-22T13:27:37.293203Z",
     "iopub.status.idle": "2022-01-22T13:27:37.293685Z",
     "shell.execute_reply": "2022-01-22T13:27:37.293536Z",
     "shell.execute_reply.started": "2022-01-22T13:27:37.293518Z"
    }
   },
   "outputs": [],
   "source": [
    "random_network['model'].get_config()"
   ]
  },
  {
   "cell_type": "code",
   "execution_count": null,
   "metadata": {
    "execution": {
     "iopub.status.busy": "2022-01-22T13:27:37.294527Z",
     "iopub.status.idle": "2022-01-22T13:27:37.294816Z",
     "shell.execute_reply": "2022-01-22T13:27:37.294673Z",
     "shell.execute_reply.started": "2022-01-22T13:27:37.294656Z"
    }
   },
   "outputs": [],
   "source": [
    "random_network['model'].summary()"
   ]
  },
  {
   "cell_type": "markdown",
   "metadata": {},
   "source": [
    "## Save and Plot Lambda-Model History"
   ]
  },
  {
   "cell_type": "code",
   "execution_count": null,
   "metadata": {
    "ExecuteTime": {
     "start_time": "2021-01-17T09:44:26.874Z"
    },
    "execution": {
     "iopub.status.busy": "2022-01-22T13:27:37.295830Z",
     "iopub.status.idle": "2022-01-22T13:27:37.296122Z",
     "shell.execute_reply": "2022-01-22T13:27:37.295976Z",
     "shell.execute_reply.started": "2022-01-22T13:27:37.295960Z"
    },
    "tags": []
   },
   "outputs": [],
   "source": [
    "loss_list_total = []\n",
    "metric_list_total = []\n",
    "\n",
    "val_loss_list_total = []\n",
    "val_metric_list_total = []\n",
    "\n",
    "index_list = []\n",
    "\n",
    "\n",
    "max_training_epochs = 0\n",
    "for _, entry in tqdm(enumerate(clf_list)):\n",
    "    history = entry['history']\n",
    "    \n",
    "    current_training_epochs = len(history[list(history.keys())[0]])\n",
    "    max_training_epochs = max(max_training_epochs, current_training_epochs)\n",
    "\n",
    "\n",
    "for _, entry in tqdm(enumerate(clf_list)):\n",
    "    history = entry['history']\n",
    "    index = entry['index']\n",
    "    \n",
    "    current_training_epochs = len(history[list(history.keys())[0]])\n",
    "    \n",
    "    loss_list = np.full(max_training_epochs, np.nan)\n",
    "    metric_list = np.full(max_training_epochs, np.nan)\n",
    "    val_loss_list = np.full(max_training_epochs, np.nan)\n",
    "    val_metric_list = np.full(max_training_epochs, np.nan) \n",
    "\n",
    "    for i in range(current_training_epochs):  \n",
    "        loss_list[i] = history[list(history.keys())[0]][i]\n",
    "        metric_list[i] = history[list(history.keys())[1]][i]\n",
    "        val_loss_list[i] = history[list(history.keys())[len(history.keys())//2]][i]\n",
    "        val_metric_list[i] = history[list(history.keys())[len(history.keys())//2+1]][i]\n",
    "    \n",
    "    index_list.append([index])\n",
    "    loss_list_total.append(loss_list)\n",
    "    metric_list_total.append(metric_list)\n",
    "    val_loss_list_total.append(val_loss_list)\n",
    "    val_metric_list_total.append(val_metric_list)\n",
    "\n",
    "loss_df = pd.DataFrame(data=np.hstack([index_list, loss_list_total]), columns=flatten_list(['index', [list(history.keys())[0] + '_epoch_' + str(i+1) for i in range(max_training_epochs)]]))\n",
    "#loss_df['index'] = loss_df['index'].astype(int)\n",
    "metric_df = pd.DataFrame(data=np.hstack([index_list, metric_list_total]), columns=flatten_list(['index', [list(history.keys())[1] + '_epoch_' + str(i+1) for i in range(max_training_epochs)]]))\n",
    "#metric_df['index'] = metric_df['index'].astype(int)\n",
    "val_loss_df = pd.DataFrame(data=np.hstack([index_list, val_loss_list_total]), columns=flatten_list(['index', [list(history.keys())[len(history.keys())//2] + '_epoch_' + str(i+1) for i in range(max_training_epochs)]]))\n",
    "#val_loss_df['index'] = val_loss_df['index'].astype(int)\n",
    "val_metric_df = pd.DataFrame(data=np.hstack([index_list, val_metric_list_total]), columns=flatten_list(['index', [list(history.keys())[len(history.keys())//2+1] + '_epoch_' + str(i+1) for i in range(max_training_epochs)]])) \n",
    "#val_metric_df['index'] = val_metric_df['index'].astype(int)\n"
   ]
  },
  {
   "cell_type": "code",
   "execution_count": null,
   "metadata": {
    "ExecuteTime": {
     "start_time": "2021-01-17T09:44:26.875Z"
    },
    "execution": {
     "iopub.status.busy": "2022-01-22T13:27:37.297206Z",
     "iopub.status.idle": "2022-01-22T13:27:37.297672Z",
     "shell.execute_reply": "2022-01-22T13:27:37.297525Z",
     "shell.execute_reply.started": "2022-01-22T13:27:37.297507Z"
    }
   },
   "outputs": [],
   "source": [
    "path_loss = './data/weights/weights_' + path_identifier_lambda_net_data + '/history_' + list(history.keys())[0] + '.txt'\n",
    "path_metric = './data/weights/weights_' + path_identifier_lambda_net_data + '/history_' + list(history.keys())[1] + '.txt'\n",
    "path_val_loss = './data/weights/weights_' + path_identifier_lambda_net_data + '/history_' + list(history.keys())[len(history.keys())//2] + '.txt'\n",
    "path_val_metric = './data/weights/weights_' + path_identifier_lambda_net_data + '/history_' + list(history.keys())[len(history.keys())//2+1] + '.txt'\n",
    "\n",
    "loss_df.to_csv(path_loss, index=None, sep=',')\n",
    "metric_df.to_csv(path_metric, index=None, sep=',')\n",
    "val_loss_df.to_csv(path_val_loss, index=None, sep=',')\n",
    "val_metric_df.to_csv(path_val_metric, index=None, sep=',')\n"
   ]
  },
  {
   "cell_type": "code",
   "execution_count": null,
   "metadata": {
    "ExecuteTime": {
     "start_time": "2021-01-17T09:44:26.876Z"
    },
    "execution": {
     "iopub.status.busy": "2022-01-22T13:27:37.298587Z",
     "iopub.status.idle": "2022-01-22T13:27:37.299050Z",
     "shell.execute_reply": "2022-01-22T13:27:37.298893Z",
     "shell.execute_reply.started": "2022-01-22T13:27:37.298875Z"
    }
   },
   "outputs": [],
   "source": [
    "loss_df.describe()"
   ]
  },
  {
   "cell_type": "code",
   "execution_count": null,
   "metadata": {
    "ExecuteTime": {
     "start_time": "2021-01-17T09:44:26.877Z"
    },
    "execution": {
     "iopub.status.busy": "2022-01-22T13:27:37.299811Z",
     "iopub.status.idle": "2022-01-22T13:27:37.300097Z",
     "shell.execute_reply": "2022-01-22T13:27:37.299957Z",
     "shell.execute_reply.started": "2022-01-22T13:27:37.299940Z"
    }
   },
   "outputs": [],
   "source": [
    "val_loss_df.describe()"
   ]
  },
  {
   "cell_type": "code",
   "execution_count": null,
   "metadata": {
    "ExecuteTime": {
     "start_time": "2021-01-17T09:44:26.879Z"
    },
    "execution": {
     "iopub.status.busy": "2022-01-22T13:27:37.301036Z",
     "iopub.status.idle": "2022-01-22T13:27:37.301327Z",
     "shell.execute_reply": "2022-01-22T13:27:37.301182Z",
     "shell.execute_reply.started": "2022-01-22T13:27:37.301166Z"
    }
   },
   "outputs": [],
   "source": [
    "metric_df.describe()"
   ]
  },
  {
   "cell_type": "code",
   "execution_count": null,
   "metadata": {
    "ExecuteTime": {
     "start_time": "2021-01-17T09:44:26.880Z"
    },
    "execution": {
     "iopub.status.busy": "2022-01-22T13:27:37.302232Z",
     "iopub.status.idle": "2022-01-22T13:27:37.302568Z",
     "shell.execute_reply": "2022-01-22T13:27:37.302424Z",
     "shell.execute_reply.started": "2022-01-22T13:27:37.302407Z"
    }
   },
   "outputs": [],
   "source": [
    "val_metric_df.describe()"
   ]
  },
  {
   "cell_type": "code",
   "execution_count": null,
   "metadata": {
    "ExecuteTime": {
     "start_time": "2021-01-17T09:44:26.881Z"
    },
    "execution": {
     "iopub.status.busy": "2022-01-22T13:27:37.303675Z",
     "iopub.status.idle": "2022-01-22T13:27:37.304126Z",
     "shell.execute_reply": "2022-01-22T13:27:37.303978Z",
     "shell.execute_reply.started": "2022-01-22T13:27:37.303961Z"
    }
   },
   "outputs": [],
   "source": [
    "# summarize history for metric\n",
    "path = './data/results/weights_' + path_identifier_lambda_net_data + '/' + list(history.keys())[1] + '.png'\n",
    "\n",
    "adjustment_threshold_metric = 10#100\n",
    "    \n",
    "metric_df_adjusted = metric_df.copy(deep=True).iloc[:,1:]\n",
    "if adjustment_threshold_metric > 0:\n",
    "    metric_df_adjusted[metric_df_adjusted.columns] = np.where(metric_df_adjusted[metric_df_adjusted.columns] > adjustment_threshold_metric, adjustment_threshold_metric, metric_df_adjusted[metric_df_adjusted.columns])\n",
    "    \n",
    "val_metric_df_adjusted = val_metric_df.copy(deep=True).iloc[:,1:]\n",
    "if adjustment_threshold_metric > 0:\n",
    "    val_metric_df_adjusted[val_metric_df_adjusted.columns] = np.where(val_metric_df_adjusted[val_metric_df_adjusted.columns] > adjustment_threshold_metric, adjustment_threshold_metric, val_metric_df_adjusted[val_metric_df_adjusted.columns])\n",
    "\n",
    "    \n",
    "plt.plot(metric_df_adjusted.describe().loc['mean'].values)\n",
    "plt.plot(val_metric_df_adjusted.describe().loc['mean'].values)\n",
    "plt.title('model ' + list(history.keys())[1])\n",
    "plt.ylabel(list(history.keys())[1])\n",
    "plt.xlabel('epoch')\n",
    "plt.legend(['train', 'valid'], loc='upper left')\n",
    "plt.savefig(path)\n",
    "plt.show()\n"
   ]
  },
  {
   "cell_type": "code",
   "execution_count": null,
   "metadata": {
    "ExecuteTime": {
     "start_time": "2021-01-17T09:44:26.883Z"
    },
    "execution": {
     "iopub.status.busy": "2022-01-22T13:27:37.305066Z",
     "iopub.status.idle": "2022-01-22T13:27:37.305541Z",
     "shell.execute_reply": "2022-01-22T13:27:37.305391Z",
     "shell.execute_reply.started": "2022-01-22T13:27:37.305374Z"
    }
   },
   "outputs": [],
   "source": [
    "# summarize history for loss\n",
    "path = './data/results/weights_' + path_identifier_lambda_net_data + '/' + list(history.keys())[0] + '.png'\n",
    "\n",
    "adjustment_threshold_loss = 0#10000\n",
    "    \n",
    "loss_df_adjusted = loss_df.copy(deep=True).iloc[:,1:]\n",
    "\n",
    "if adjustment_threshold_loss > 0:\n",
    "    loss_df_adjusted[loss_df_adjusted.columns] = np.where(loss_df_adjusted[loss_df_adjusted.columns] > adjustment_threshold_loss, adjustment_threshold_loss, loss_df_adjusted[loss_df_adjusted.columns])\n",
    "    \n",
    "val_loss_df_adjusted = val_loss_df.copy(deep=True).iloc[:,1:]\n",
    "if adjustment_threshold_loss > 0:\n",
    "    val_loss_df_adjusted[val_loss_df_adjusted.columns] = np.where(val_loss_df_adjusted[val_loss_df_adjusted.columns] > adjustment_threshold_loss, adjustment_threshold_loss, val_loss_df_adjusted[val_loss_df_adjusted.columns])\n",
    "\n",
    "    \n",
    "plt.plot(loss_df_adjusted.describe().loc['mean'].values)\n",
    "plt.plot(val_loss_df_adjusted.describe().loc['mean'].values)\n",
    "plt.title('model ' + list(history.keys())[0])\n",
    "plt.ylabel(list(history.keys())[0])\n",
    "plt.xlabel('epoch')\n",
    "plt.legend(['train', 'valid'], loc='upper left')\n",
    "plt.savefig(path)\n",
    "plt.show()\n"
   ]
  },
  {
   "cell_type": "code",
   "execution_count": null,
   "metadata": {
    "execution": {
     "iopub.status.busy": "2022-01-22T13:27:37.306342Z",
     "iopub.status.idle": "2022-01-22T13:27:37.306628Z",
     "shell.execute_reply": "2022-01-22T13:27:37.306487Z",
     "shell.execute_reply.started": "2022-01-22T13:27:37.306470Z"
    }
   },
   "outputs": [],
   "source": [
    "print('a')"
   ]
  },
  {
   "cell_type": "code",
   "execution_count": null,
   "metadata": {},
   "outputs": [],
   "source": []
  },
  {
   "cell_type": "code",
   "execution_count": null,
   "metadata": {},
   "outputs": [],
   "source": []
  },
  {
   "cell_type": "code",
   "execution_count": null,
   "metadata": {},
   "outputs": [],
   "source": []
  }
 ],
 "metadata": {
  "kernelspec": {
   "display_name": "Python 3 (ipykernel)",
   "language": "python",
   "name": "python3"
  },
  "language_info": {
   "codemirror_mode": {
    "name": "ipython",
    "version": 3
   },
   "file_extension": ".py",
   "mimetype": "text/x-python",
   "name": "python",
   "nbconvert_exporter": "python",
   "pygments_lexer": "ipython3",
   "version": "3.8.0"
  }
 },
 "nbformat": 4,
 "nbformat_minor": 4
}
