{
 "cells": [
  {
   "cell_type": "markdown",
   "metadata": {},
   "source": [
    "# Generation of λ-Nets for I-Net training"
   ]
  },
  {
   "cell_type": "markdown",
   "metadata": {},
   "source": [
    "## Specitication of Experiment Settings"
   ]
  },
  {
   "cell_type": "code",
   "execution_count": 1,
   "metadata": {
    "execution": {
     "iopub.execute_input": "2022-01-20T21:15:12.804004Z",
     "iopub.status.busy": "2022-01-20T21:15:12.803241Z",
     "iopub.status.idle": "2022-01-20T21:15:12.830151Z",
     "shell.execute_reply": "2022-01-20T21:15:12.828903Z",
     "shell.execute_reply.started": "2022-01-20T21:15:12.803814Z"
    },
    "tags": []
   },
   "outputs": [],
   "source": [
    "#######################################################################################################################################\n",
    "###################################################### CONFIG FILE ####################################################################\n",
    "#######################################################################################################################################\n",
    "sleep_time = 0 #minutes\n",
    "\n",
    "config = {\n",
    "    'function_family': {\n",
    "        'maximum_depth': 4,\n",
    "        'beta': 1,\n",
    "        'decision_sparsity': 1,\n",
    "        'fully_grown': True,          \n",
    "        'dt_type': 'vanilla', #'vanilla', 'SDT'\n",
    "    },\n",
    "    'data': {\n",
    "        'number_of_variables': 10, \n",
    "        'num_classes': 2,\n",
    "        'categorical_indices': [],\n",
    "        'random_parameters_distribution': True, ##MAKEPATH DIFFERENT FILES\n",
    "        'max_distributions_per_class': 1, # None; 0; int >= 1\n",
    "        \n",
    "        'function_generation_type': 'distribtion',# 'make_classification_distribution', 'make_classification_distribution_trained', 'make_classification', 'make_classification_trained', 'random_decision_tree', 'random_decision_tree_trained'\n",
    "        'objective': 'classification', # 'regression'\n",
    "        \n",
    "        'x_max': 1,\n",
    "        'x_min': 0,\n",
    "        'x_distrib': 'uniform', #'normal', 'uniform',       \n",
    "                \n",
    "        'lambda_dataset_size': 5000, #number of samples per function\n",
    "        'number_of_generated_datasets': 11100,\n",
    "        \n",
    "        'noise_injected_level': 0, \n",
    "        'noise_injected_type': 'flip_percentage', # '' 'normal' 'uniform' 'normal_range' 'uniform_range'\n",
    "    }, \n",
    "    'lambda_net': {\n",
    "        'epochs_lambda': 1000,\n",
    "        'early_stopping_lambda': True, \n",
    "        'early_stopping_min_delta_lambda': 1e-2,\n",
    "        'batch_lambda': 64,\n",
    "        'dropout_lambda': 0,\n",
    "        'lambda_network_layers': [128],\n",
    "        'optimizer_lambda': 'adam',\n",
    "        'loss_lambda': 'binary_crossentropy', #categorical_crossentropy\n",
    "                \n",
    "        'number_initializations_lambda': 1, \n",
    "        \n",
    "        'number_of_trained_lambda_nets': 11100,\n",
    "    },     \n",
    "    'evaluation': {   \n",
    "    },    \n",
    "    \n",
    "    'computation':{\n",
    "        'n_jobs': 20,\n",
    "        'use_gpu': False,\n",
    "        'gpu_numbers': '0',\n",
    "        'RANDOM_SEED': 42,   \n",
    "    }\n",
    "}\n",
    "\n",
    "\n"
   ]
  },
  {
   "cell_type": "code",
   "execution_count": 2,
   "metadata": {
    "execution": {
     "iopub.execute_input": "2022-01-20T21:15:12.834573Z",
     "iopub.status.busy": "2022-01-20T21:15:12.833657Z",
     "iopub.status.idle": "2022-01-20T21:15:12.945756Z",
     "shell.execute_reply": "2022-01-20T21:15:12.944842Z",
     "shell.execute_reply.started": "2022-01-20T21:15:12.834494Z"
    }
   },
   "outputs": [],
   "source": [
    "#######################################################################################################################################\n",
    "########################################### IMPORT GLOBAL VARIABLES FROM CONFIG #######################################################\n",
    "#######################################################################################################################################\n",
    "globals().update(config['function_family'])\n",
    "globals().update(config['data'])\n",
    "globals().update(config['lambda_net'])\n",
    "globals().update(config['evaluation'])\n",
    "globals().update(config['computation'])"
   ]
  },
  {
   "cell_type": "code",
   "execution_count": 3,
   "metadata": {
    "execution": {
     "iopub.execute_input": "2022-01-20T21:15:12.948602Z",
     "iopub.status.busy": "2022-01-20T21:15:12.947757Z",
     "iopub.status.idle": "2022-01-20T21:15:16.272796Z",
     "shell.execute_reply": "2022-01-20T21:15:16.271021Z",
     "shell.execute_reply.started": "2022-01-20T21:15:12.948524Z"
    }
   },
   "outputs": [],
   "source": [
    "import warnings\n",
    "warnings.filterwarnings('ignore')\n",
    "import os\n",
    "os.environ['TF_CPP_MIN_LOG_LEVEL'] = '3' \n",
    "\n",
    "from itertools import product       # forms cartesian products\n",
    "from tqdm import tqdm_notebook as tqdm\n",
    "from more_itertools import random_product \n",
    "import pickle\n",
    "import numpy as np\n",
    "import pandas as pd\n",
    "import timeit\n",
    "import matplotlib.pyplot as plt \n",
    "import time\n",
    "import math\n",
    "import operator\n",
    "from functools import reduce\n",
    "\n",
    "from scipy.signal import argrelextrema\n",
    "\n",
    "import sys\n",
    "\n",
    "import shutil\n",
    "\n",
    "import logging\n",
    "logging.getLogger('tensorflow').disabled = True\n",
    "\n",
    "from joblib import Parallel, delayed\n",
    "\n",
    "\n",
    "from sklearn.model_selection import cross_val_score, train_test_split, StratifiedKFold, KFold\n",
    "from sklearn.metrics import accuracy_score, log_loss, roc_auc_score, f1_score, mean_absolute_error, r2_score\n",
    "#from similaritymeasures import frechet_dist, area_between_two_curves, dtw\n",
    "from IPython.display import Image\n",
    "\n",
    "from livelossplot import PlotLossesKerasTF\n",
    "\n",
    "import seaborn as sns\n",
    "\n",
    "import tensorflow as tf\n",
    "#import tensorflow_addons as tfa\n",
    "import random \n",
    "\n",
    "\n",
    "#import keras\n",
    "import tensorflow.keras.backend as K\n",
    "from tensorflow.keras import Sequential\n",
    "from tensorflow.keras.layers import Dense, Dropout\n",
    "from tensorflow.keras.utils import plot_model\n",
    "from tensorflow.keras.callbacks import EarlyStopping, ModelCheckpoint, ReduceLROnPlateau\n",
    "\n"
   ]
  },
  {
   "cell_type": "code",
   "execution_count": 4,
   "metadata": {
    "execution": {
     "iopub.execute_input": "2022-01-20T21:15:16.276105Z",
     "iopub.status.busy": "2022-01-20T21:15:16.275139Z",
     "iopub.status.idle": "2022-01-20T21:15:16.292703Z",
     "shell.execute_reply": "2022-01-20T21:15:16.291476Z",
     "shell.execute_reply.started": "2022-01-20T21:15:16.276031Z"
    }
   },
   "outputs": [],
   "source": [
    "#######################################################################################################################################\n",
    "###################################################### SET VARIABLES + DESIGN #########################################################\n",
    "#######################################################################################################################################\n",
    "    \n",
    "os.environ['CUDA_VISIBLE_DEVICES'] = gpu_numbers if use_gpu else ''\n",
    "\n",
    "sns.set_style(\"darkgrid\")\n",
    "\n",
    "random.seed(RANDOM_SEED)\n",
    "np.random.seed(RANDOM_SEED)\n",
    "np.random.seed(RANDOM_SEED)\n",
    "if int(tf.__version__[0]) >= 2:\n",
    "    tf.random.set_seed(RANDOM_SEED)\n",
    "else:\n",
    "    tf.set_random_seed(RANDOM_SEED)\n",
    "    \n",
    "    \n",
    "pd.set_option('display.float_format', lambda x: '%.3f' % x)\n",
    "pd.set_option('display.max_columns', 200)\n",
    "np.set_printoptions(threshold=200)"
   ]
  },
  {
   "cell_type": "code",
   "execution_count": null,
   "metadata": {},
   "outputs": [],
   "source": []
  },
  {
   "cell_type": "code",
   "execution_count": 5,
   "metadata": {
    "execution": {
     "iopub.execute_input": "2022-01-20T21:15:16.297345Z",
     "iopub.status.busy": "2022-01-20T21:15:16.296893Z",
     "iopub.status.idle": "2022-01-20T21:15:19.149735Z",
     "shell.execute_reply": "2022-01-20T21:15:19.148857Z",
     "shell.execute_reply.started": "2022-01-20T21:15:16.297290Z"
    }
   },
   "outputs": [],
   "source": [
    "from utilities.LambdaNet import *\n",
    "from utilities.metrics import *\n",
    "from utilities.utility_functions import *\n",
    "#######################################################################################################################################\n",
    "####################################################### CONFIG ADJUSTMENTS ############################################################\n",
    "#######################################################################################################################################\n",
    "\n",
    "config['lambda_net']['number_of_lambda_weights'] = get_number_of_lambda_net_parameters(lambda_network_layers, number_of_variables, num_classes)\n",
    "    \n",
    "#######################################################################################################################################\n",
    "################################################## UPDATE VARIABLES ###################################################################\n",
    "#######################################################################################################################################\n",
    "globals().update(config['function_family'])\n",
    "globals().update(config['data'])\n",
    "globals().update(config['lambda_net'])\n",
    "globals().update(config['evaluation'])\n",
    "globals().update(config['computation'])\n",
    "\n",
    "#initialize_utility_functions_config_from_curent_notebook(config)\n",
    "#initialize_LambdaNet_config_from_curent_notebook(config)\n",
    "#initialize_metrics_config_from_curent_notebook(config)\n",
    "\n",
    "#######################################################################################################################################\n",
    "###################################################### PATH + FOLDER CREATION #########################################################\n",
    "#######################################################################################################################################\n",
    "globals().update(generate_paths(config, path_type='lambda_net'))\n",
    "generate_directory_structure()\n",
    "generate_lambda_net_directory(config)\n",
    "\n",
    "#######################################################################################################################################\n",
    "############################################################ SLEEP TIMER ##############################################################\n",
    "#######################################################################################################################################\n",
    "sleep_minutes(sleep_time)"
   ]
  },
  {
   "cell_type": "code",
   "execution_count": 6,
   "metadata": {
    "execution": {
     "iopub.execute_input": "2022-01-20T21:15:19.151207Z",
     "iopub.status.busy": "2022-01-20T21:15:19.150846Z",
     "iopub.status.idle": "2022-01-20T21:15:19.154792Z",
     "shell.execute_reply": "2022-01-20T21:15:19.154303Z",
     "shell.execute_reply.started": "2022-01-20T21:15:19.151180Z"
    }
   },
   "outputs": [
    {
     "name": "stdout",
     "output_type": "stream",
     "text": [
      "lNetSize5000_numLNets11100_var10_class2_distribtion_xMax1_xMin0_xDistuniform_randParamDist_maxDistClass1_depth4_beta1_decisionSpars1_vanilla_fullyGrown/128_e1000ES0.01_b64_drop0_adam_binary_crossentropy_fixedInit1-seed42\n",
      "lNetSize5000_numDatasets11100_var10_class2_distribtion_xMax1_xMin0_xDistuniform_randParamDist_maxDistClass1_depth4_beta1_decisionSpars1_vanilla_fullyGrown\n"
     ]
    }
   ],
   "source": [
    "print(path_identifier_lambda_net_data)\n",
    "\n",
    "print(path_identifier_function_data)\n"
   ]
  },
  {
   "cell_type": "code",
   "execution_count": 7,
   "metadata": {
    "execution": {
     "iopub.execute_input": "2022-01-20T21:15:19.155714Z",
     "iopub.status.busy": "2022-01-20T21:15:19.155511Z",
     "iopub.status.idle": "2022-01-20T21:15:19.271721Z",
     "shell.execute_reply": "2022-01-20T21:15:19.271138Z",
     "shell.execute_reply.started": "2022-01-20T21:15:19.155691Z"
    }
   },
   "outputs": [
    {
     "name": "stdout",
     "output_type": "stream",
     "text": [
      "Num GPUs Available:  0\n",
      "Num XLA-GPUs Available:  0\n"
     ]
    }
   ],
   "source": [
    "print(\"Num GPUs Available: \", len(tf.config.experimental.list_physical_devices('GPU')))\n",
    "print(\"Num XLA-GPUs Available: \", len(tf.config.experimental.list_physical_devices('XLA_GPU')))"
   ]
  },
  {
   "cell_type": "code",
   "execution_count": 8,
   "metadata": {
    "execution": {
     "iopub.execute_input": "2022-01-20T21:15:19.272837Z",
     "iopub.status.busy": "2022-01-20T21:15:19.272547Z",
     "iopub.status.idle": "2022-01-20T21:15:19.305512Z",
     "shell.execute_reply": "2022-01-20T21:15:19.305018Z",
     "shell.execute_reply.started": "2022-01-20T21:15:19.272812Z"
    }
   },
   "outputs": [
    {
     "data": {
      "text/plain": [
       "[128]"
      ]
     },
     "execution_count": 8,
     "metadata": {},
     "output_type": "execute_result"
    }
   ],
   "source": [
    "lambda_network_layers"
   ]
  },
  {
   "cell_type": "code",
   "execution_count": 9,
   "metadata": {
    "ExecuteTime": {
     "end_time": "2021-01-17T09:46:11.182937Z",
     "start_time": "2021-01-17T09:44:31.797522Z"
    },
    "execution": {
     "iopub.execute_input": "2022-01-20T21:15:19.306582Z",
     "iopub.status.busy": "2022-01-20T21:15:19.306363Z",
     "iopub.status.idle": "2022-01-20T21:15:56.949607Z",
     "shell.execute_reply": "2022-01-20T21:15:56.948957Z",
     "shell.execute_reply.started": "2022-01-20T21:15:19.306558Z"
    },
    "tags": []
   },
   "outputs": [],
   "source": [
    "path_functions = './data/saved_function_lists/functions_' + path_identifier_function_data + '.csv'\n",
    "function_df = pd.read_csv(path_functions)\n",
    "\n",
    "path_X_data = './data/saved_function_lists/X_data_' + path_identifier_function_data + '.pkl'\n",
    "with open(path_X_data, 'rb') as f:\n",
    "    X_data_list = pickle.load(f)\n",
    "    \n",
    "path_y_data = './data/saved_function_lists/y_data_' + path_identifier_function_data + '.pkl'\n",
    "with open(path_y_data, 'rb') as f:\n",
    "    y_data_list = pickle.load(f)\n",
    "    \n",
    "try:\n",
    "    path_distribution = './data/saved_function_lists/distribution_parameter_list_list_' + path_identifier_function_data + '.pkl'\n",
    "    with open(path_distribution, 'rb') as f:\n",
    "        distribution_parameter_list_list = pickle.load(f)\n",
    "except Exception:\n",
    "    traceback.print_exc()\n",
    "    distribution_parameter_list_list = [None]*number_of_generated_datasets\n",
    "    \n",
    "if number_of_trained_lambda_nets < number_of_generated_datasets:\n",
    "    function_df = function_df.sample(n=number_of_trained_lambda_nets, random_state=RANDOM_SEED)\n",
    "    random.seed(RANDOM_SEED)\n",
    "    X_data_list = random.sample(X_data_list, number_of_trained_lambda_nets)\n",
    "    random.seed(RANDOM_SEED)\n",
    "    y_data_list = random.sample(y_data_list, number_of_trained_lambda_nets)\n",
    "    random.seed(RANDOM_SEED)\n",
    "    try:\n",
    "        distribution_parameter_list_list = random.sample(distribution_parameter_list_list, number_of_trained_lambda_nets)\n",
    "        random.seed(RANDOM_SEED)\n",
    "    except:\n",
    "        distribution_parameter_list_list = [None]*number_of_trained_lambda_nets"
   ]
  },
  {
   "cell_type": "markdown",
   "metadata": {},
   "source": [
    "## Data Inspection"
   ]
  },
  {
   "cell_type": "code",
   "execution_count": 10,
   "metadata": {
    "execution": {
     "iopub.execute_input": "2022-01-20T21:15:56.951742Z",
     "iopub.status.busy": "2022-01-20T21:15:56.951448Z",
     "iopub.status.idle": "2022-01-20T21:15:56.975912Z",
     "shell.execute_reply": "2022-01-20T21:15:56.975409Z",
     "shell.execute_reply.started": "2022-01-20T21:15:56.951717Z"
    }
   },
   "outputs": [
    {
     "data": {
      "text/html": [
       "<div>\n",
       "<style scoped>\n",
       "    .dataframe tbody tr th:only-of-type {\n",
       "        vertical-align: middle;\n",
       "    }\n",
       "\n",
       "    .dataframe tbody tr th {\n",
       "        vertical-align: top;\n",
       "    }\n",
       "\n",
       "    .dataframe thead th {\n",
       "        text-align: right;\n",
       "    }\n",
       "</style>\n",
       "<table border=\"1\" class=\"dataframe\">\n",
       "  <thead>\n",
       "    <tr style=\"text-align: right;\">\n",
       "      <th></th>\n",
       "      <th>feat0</th>\n",
       "      <th>feat1</th>\n",
       "      <th>feat2</th>\n",
       "      <th>feat3</th>\n",
       "      <th>feat4</th>\n",
       "      <th>feat5</th>\n",
       "      <th>feat6</th>\n",
       "      <th>feat7</th>\n",
       "      <th>feat8</th>\n",
       "      <th>feat9</th>\n",
       "      <th>feat10</th>\n",
       "      <th>feat11</th>\n",
       "      <th>feat12</th>\n",
       "      <th>feat13</th>\n",
       "      <th>feat14</th>\n",
       "      <th>split0</th>\n",
       "      <th>split1</th>\n",
       "      <th>split2</th>\n",
       "      <th>split3</th>\n",
       "      <th>split4</th>\n",
       "      <th>split5</th>\n",
       "      <th>split6</th>\n",
       "      <th>split7</th>\n",
       "      <th>split8</th>\n",
       "      <th>split9</th>\n",
       "      <th>split10</th>\n",
       "      <th>split11</th>\n",
       "      <th>split12</th>\n",
       "      <th>split13</th>\n",
       "      <th>split14</th>\n",
       "      <th>lp0</th>\n",
       "      <th>lp1</th>\n",
       "      <th>lp2</th>\n",
       "      <th>lp3</th>\n",
       "      <th>lp4</th>\n",
       "      <th>lp5</th>\n",
       "      <th>lp6</th>\n",
       "      <th>lp7</th>\n",
       "      <th>lp8</th>\n",
       "      <th>lp9</th>\n",
       "      <th>lp10</th>\n",
       "      <th>lp11</th>\n",
       "      <th>lp12</th>\n",
       "      <th>lp13</th>\n",
       "      <th>lp14</th>\n",
       "      <th>lp15</th>\n",
       "    </tr>\n",
       "  </thead>\n",
       "  <tbody>\n",
       "    <tr>\n",
       "      <th>0</th>\n",
       "      <td>0</td>\n",
       "      <td>0</td>\n",
       "      <td>0</td>\n",
       "      <td>0</td>\n",
       "      <td>0</td>\n",
       "      <td>0</td>\n",
       "      <td>0</td>\n",
       "      <td>0</td>\n",
       "      <td>0</td>\n",
       "      <td>0</td>\n",
       "      <td>0</td>\n",
       "      <td>0</td>\n",
       "      <td>0</td>\n",
       "      <td>0</td>\n",
       "      <td>0</td>\n",
       "      <td>0</td>\n",
       "      <td>0</td>\n",
       "      <td>0</td>\n",
       "      <td>0</td>\n",
       "      <td>0</td>\n",
       "      <td>0</td>\n",
       "      <td>0</td>\n",
       "      <td>0</td>\n",
       "      <td>0</td>\n",
       "      <td>0</td>\n",
       "      <td>0</td>\n",
       "      <td>0</td>\n",
       "      <td>0</td>\n",
       "      <td>0</td>\n",
       "      <td>0</td>\n",
       "      <td>0</td>\n",
       "      <td>0</td>\n",
       "      <td>0</td>\n",
       "      <td>0</td>\n",
       "      <td>0</td>\n",
       "      <td>0</td>\n",
       "      <td>0</td>\n",
       "      <td>0</td>\n",
       "      <td>0</td>\n",
       "      <td>0</td>\n",
       "      <td>0</td>\n",
       "      <td>0</td>\n",
       "      <td>0</td>\n",
       "      <td>0</td>\n",
       "      <td>0</td>\n",
       "      <td>0</td>\n",
       "    </tr>\n",
       "    <tr>\n",
       "      <th>1</th>\n",
       "      <td>0</td>\n",
       "      <td>0</td>\n",
       "      <td>0</td>\n",
       "      <td>0</td>\n",
       "      <td>0</td>\n",
       "      <td>0</td>\n",
       "      <td>0</td>\n",
       "      <td>0</td>\n",
       "      <td>0</td>\n",
       "      <td>0</td>\n",
       "      <td>0</td>\n",
       "      <td>0</td>\n",
       "      <td>0</td>\n",
       "      <td>0</td>\n",
       "      <td>0</td>\n",
       "      <td>0</td>\n",
       "      <td>0</td>\n",
       "      <td>0</td>\n",
       "      <td>0</td>\n",
       "      <td>0</td>\n",
       "      <td>0</td>\n",
       "      <td>0</td>\n",
       "      <td>0</td>\n",
       "      <td>0</td>\n",
       "      <td>0</td>\n",
       "      <td>0</td>\n",
       "      <td>0</td>\n",
       "      <td>0</td>\n",
       "      <td>0</td>\n",
       "      <td>0</td>\n",
       "      <td>0</td>\n",
       "      <td>0</td>\n",
       "      <td>0</td>\n",
       "      <td>0</td>\n",
       "      <td>0</td>\n",
       "      <td>0</td>\n",
       "      <td>0</td>\n",
       "      <td>0</td>\n",
       "      <td>0</td>\n",
       "      <td>0</td>\n",
       "      <td>0</td>\n",
       "      <td>0</td>\n",
       "      <td>0</td>\n",
       "      <td>0</td>\n",
       "      <td>0</td>\n",
       "      <td>0</td>\n",
       "    </tr>\n",
       "    <tr>\n",
       "      <th>2</th>\n",
       "      <td>0</td>\n",
       "      <td>0</td>\n",
       "      <td>0</td>\n",
       "      <td>0</td>\n",
       "      <td>0</td>\n",
       "      <td>0</td>\n",
       "      <td>0</td>\n",
       "      <td>0</td>\n",
       "      <td>0</td>\n",
       "      <td>0</td>\n",
       "      <td>0</td>\n",
       "      <td>0</td>\n",
       "      <td>0</td>\n",
       "      <td>0</td>\n",
       "      <td>0</td>\n",
       "      <td>0</td>\n",
       "      <td>0</td>\n",
       "      <td>0</td>\n",
       "      <td>0</td>\n",
       "      <td>0</td>\n",
       "      <td>0</td>\n",
       "      <td>0</td>\n",
       "      <td>0</td>\n",
       "      <td>0</td>\n",
       "      <td>0</td>\n",
       "      <td>0</td>\n",
       "      <td>0</td>\n",
       "      <td>0</td>\n",
       "      <td>0</td>\n",
       "      <td>0</td>\n",
       "      <td>0</td>\n",
       "      <td>0</td>\n",
       "      <td>0</td>\n",
       "      <td>0</td>\n",
       "      <td>0</td>\n",
       "      <td>0</td>\n",
       "      <td>0</td>\n",
       "      <td>0</td>\n",
       "      <td>0</td>\n",
       "      <td>0</td>\n",
       "      <td>0</td>\n",
       "      <td>0</td>\n",
       "      <td>0</td>\n",
       "      <td>0</td>\n",
       "      <td>0</td>\n",
       "      <td>0</td>\n",
       "    </tr>\n",
       "    <tr>\n",
       "      <th>3</th>\n",
       "      <td>0</td>\n",
       "      <td>0</td>\n",
       "      <td>0</td>\n",
       "      <td>0</td>\n",
       "      <td>0</td>\n",
       "      <td>0</td>\n",
       "      <td>0</td>\n",
       "      <td>0</td>\n",
       "      <td>0</td>\n",
       "      <td>0</td>\n",
       "      <td>0</td>\n",
       "      <td>0</td>\n",
       "      <td>0</td>\n",
       "      <td>0</td>\n",
       "      <td>0</td>\n",
       "      <td>0</td>\n",
       "      <td>0</td>\n",
       "      <td>0</td>\n",
       "      <td>0</td>\n",
       "      <td>0</td>\n",
       "      <td>0</td>\n",
       "      <td>0</td>\n",
       "      <td>0</td>\n",
       "      <td>0</td>\n",
       "      <td>0</td>\n",
       "      <td>0</td>\n",
       "      <td>0</td>\n",
       "      <td>0</td>\n",
       "      <td>0</td>\n",
       "      <td>0</td>\n",
       "      <td>0</td>\n",
       "      <td>0</td>\n",
       "      <td>0</td>\n",
       "      <td>0</td>\n",
       "      <td>0</td>\n",
       "      <td>0</td>\n",
       "      <td>0</td>\n",
       "      <td>0</td>\n",
       "      <td>0</td>\n",
       "      <td>0</td>\n",
       "      <td>0</td>\n",
       "      <td>0</td>\n",
       "      <td>0</td>\n",
       "      <td>0</td>\n",
       "      <td>0</td>\n",
       "      <td>0</td>\n",
       "    </tr>\n",
       "    <tr>\n",
       "      <th>4</th>\n",
       "      <td>0</td>\n",
       "      <td>0</td>\n",
       "      <td>0</td>\n",
       "      <td>0</td>\n",
       "      <td>0</td>\n",
       "      <td>0</td>\n",
       "      <td>0</td>\n",
       "      <td>0</td>\n",
       "      <td>0</td>\n",
       "      <td>0</td>\n",
       "      <td>0</td>\n",
       "      <td>0</td>\n",
       "      <td>0</td>\n",
       "      <td>0</td>\n",
       "      <td>0</td>\n",
       "      <td>0</td>\n",
       "      <td>0</td>\n",
       "      <td>0</td>\n",
       "      <td>0</td>\n",
       "      <td>0</td>\n",
       "      <td>0</td>\n",
       "      <td>0</td>\n",
       "      <td>0</td>\n",
       "      <td>0</td>\n",
       "      <td>0</td>\n",
       "      <td>0</td>\n",
       "      <td>0</td>\n",
       "      <td>0</td>\n",
       "      <td>0</td>\n",
       "      <td>0</td>\n",
       "      <td>0</td>\n",
       "      <td>0</td>\n",
       "      <td>0</td>\n",
       "      <td>0</td>\n",
       "      <td>0</td>\n",
       "      <td>0</td>\n",
       "      <td>0</td>\n",
       "      <td>0</td>\n",
       "      <td>0</td>\n",
       "      <td>0</td>\n",
       "      <td>0</td>\n",
       "      <td>0</td>\n",
       "      <td>0</td>\n",
       "      <td>0</td>\n",
       "      <td>0</td>\n",
       "      <td>0</td>\n",
       "    </tr>\n",
       "  </tbody>\n",
       "</table>\n",
       "</div>"
      ],
      "text/plain": [
       "   feat0  feat1  feat2  feat3  feat4  feat5  feat6  feat7  feat8  feat9  \\\n",
       "0      0      0      0      0      0      0      0      0      0      0   \n",
       "1      0      0      0      0      0      0      0      0      0      0   \n",
       "2      0      0      0      0      0      0      0      0      0      0   \n",
       "3      0      0      0      0      0      0      0      0      0      0   \n",
       "4      0      0      0      0      0      0      0      0      0      0   \n",
       "\n",
       "   feat10  feat11  feat12  feat13  feat14  split0  split1  split2  split3  \\\n",
       "0       0       0       0       0       0       0       0       0       0   \n",
       "1       0       0       0       0       0       0       0       0       0   \n",
       "2       0       0       0       0       0       0       0       0       0   \n",
       "3       0       0       0       0       0       0       0       0       0   \n",
       "4       0       0       0       0       0       0       0       0       0   \n",
       "\n",
       "   split4  split5  split6  split7  split8  split9  split10  split11  split12  \\\n",
       "0       0       0       0       0       0       0        0        0        0   \n",
       "1       0       0       0       0       0       0        0        0        0   \n",
       "2       0       0       0       0       0       0        0        0        0   \n",
       "3       0       0       0       0       0       0        0        0        0   \n",
       "4       0       0       0       0       0       0        0        0        0   \n",
       "\n",
       "   split13  split14  lp0  lp1  lp2  lp3  lp4  lp5  lp6  lp7  lp8  lp9  lp10  \\\n",
       "0        0        0    0    0    0    0    0    0    0    0    0    0     0   \n",
       "1        0        0    0    0    0    0    0    0    0    0    0    0     0   \n",
       "2        0        0    0    0    0    0    0    0    0    0    0    0     0   \n",
       "3        0        0    0    0    0    0    0    0    0    0    0    0     0   \n",
       "4        0        0    0    0    0    0    0    0    0    0    0    0     0   \n",
       "\n",
       "   lp11  lp12  lp13  lp14  lp15  \n",
       "0     0     0     0     0     0  \n",
       "1     0     0     0     0     0  \n",
       "2     0     0     0     0     0  \n",
       "3     0     0     0     0     0  \n",
       "4     0     0     0     0     0  "
      ]
     },
     "execution_count": 10,
     "metadata": {},
     "output_type": "execute_result"
    }
   ],
   "source": [
    "function_df.head()"
   ]
  },
  {
   "cell_type": "code",
   "execution_count": 11,
   "metadata": {
    "execution": {
     "iopub.execute_input": "2022-01-20T21:15:56.977167Z",
     "iopub.status.busy": "2022-01-20T21:15:56.976908Z",
     "iopub.status.idle": "2022-01-20T21:15:57.200755Z",
     "shell.execute_reply": "2022-01-20T21:15:57.200264Z",
     "shell.execute_reply.started": "2022-01-20T21:15:56.977144Z"
    }
   },
   "outputs": [
    {
     "data": {
      "text/plain": [
       "feat0    0\n",
       "feat1    0\n",
       "feat2    0\n",
       "feat3    0\n",
       "feat4    0\n",
       "feat5    0\n",
       "feat6    0\n",
       "feat7    0\n",
       "feat8    0\n",
       "feat9    0\n",
       "dtype: int64"
      ]
     },
     "execution_count": 11,
     "metadata": {},
     "output_type": "execute_result"
    }
   ],
   "source": [
    "X_data_list[0][0].head(10)"
   ]
  },
  {
   "cell_type": "code",
   "execution_count": 12,
   "metadata": {
    "ExecuteTime": {
     "end_time": "2021-01-17T09:46:12.626401Z",
     "start_time": "2021-01-17T09:46:12.608200Z"
    },
    "execution": {
     "iopub.execute_input": "2022-01-20T21:15:57.201722Z",
     "iopub.status.busy": "2022-01-20T21:15:57.201551Z",
     "iopub.status.idle": "2022-01-20T21:15:57.266108Z",
     "shell.execute_reply": "2022-01-20T21:15:57.265616Z",
     "shell.execute_reply.started": "2022-01-20T21:15:57.201700Z"
    }
   },
   "outputs": [
    {
     "data": {
      "text/html": [
       "<div>\n",
       "<style scoped>\n",
       "    .dataframe tbody tr th:only-of-type {\n",
       "        vertical-align: middle;\n",
       "    }\n",
       "\n",
       "    .dataframe tbody tr th {\n",
       "        vertical-align: top;\n",
       "    }\n",
       "\n",
       "    .dataframe thead th {\n",
       "        text-align: right;\n",
       "    }\n",
       "</style>\n",
       "<table border=\"1\" class=\"dataframe\">\n",
       "  <thead>\n",
       "    <tr style=\"text-align: right;\">\n",
       "      <th></th>\n",
       "      <th>x0</th>\n",
       "      <th>x1</th>\n",
       "      <th>x2</th>\n",
       "      <th>x3</th>\n",
       "      <th>x4</th>\n",
       "      <th>x5</th>\n",
       "      <th>x6</th>\n",
       "      <th>x7</th>\n",
       "      <th>x8</th>\n",
       "      <th>x9</th>\n",
       "    </tr>\n",
       "  </thead>\n",
       "  <tbody>\n",
       "    <tr>\n",
       "      <th>0</th>\n",
       "      <td>0.067</td>\n",
       "      <td>0.462</td>\n",
       "      <td>0.411</td>\n",
       "      <td>0.222</td>\n",
       "      <td>0.057</td>\n",
       "      <td>0.053</td>\n",
       "      <td>0.306</td>\n",
       "      <td>0.625</td>\n",
       "      <td>0.361</td>\n",
       "      <td>0.516</td>\n",
       "    </tr>\n",
       "    <tr>\n",
       "      <th>1</th>\n",
       "      <td>0.267</td>\n",
       "      <td>0.423</td>\n",
       "      <td>0.314</td>\n",
       "      <td>0.091</td>\n",
       "      <td>0.020</td>\n",
       "      <td>0.132</td>\n",
       "      <td>0.137</td>\n",
       "      <td>0.608</td>\n",
       "      <td>0.132</td>\n",
       "      <td>0.652</td>\n",
       "    </tr>\n",
       "    <tr>\n",
       "      <th>2</th>\n",
       "      <td>0.467</td>\n",
       "      <td>0.462</td>\n",
       "      <td>0.372</td>\n",
       "      <td>0.278</td>\n",
       "      <td>0.155</td>\n",
       "      <td>0.032</td>\n",
       "      <td>0.579</td>\n",
       "      <td>0.588</td>\n",
       "      <td>0.173</td>\n",
       "      <td>0.674</td>\n",
       "    </tr>\n",
       "    <tr>\n",
       "      <th>3</th>\n",
       "      <td>0.200</td>\n",
       "      <td>0.192</td>\n",
       "      <td>0.383</td>\n",
       "      <td>0.175</td>\n",
       "      <td>0.054</td>\n",
       "      <td>0.044</td>\n",
       "      <td>0.606</td>\n",
       "      <td>0.731</td>\n",
       "      <td>0.133</td>\n",
       "      <td>0.626</td>\n",
       "    </tr>\n",
       "    <tr>\n",
       "      <th>4</th>\n",
       "      <td>0.467</td>\n",
       "      <td>0.308</td>\n",
       "      <td>0.399</td>\n",
       "      <td>0.229</td>\n",
       "      <td>0.048</td>\n",
       "      <td>0.134</td>\n",
       "      <td>0.626</td>\n",
       "      <td>0.693</td>\n",
       "      <td>0.090</td>\n",
       "      <td>0.419</td>\n",
       "    </tr>\n",
       "    <tr>\n",
       "      <th>5</th>\n",
       "      <td>0.400</td>\n",
       "      <td>0.231</td>\n",
       "      <td>0.528</td>\n",
       "      <td>0.141</td>\n",
       "      <td>0.054</td>\n",
       "      <td>0.244</td>\n",
       "      <td>0.504</td>\n",
       "      <td>0.722</td>\n",
       "      <td>0.016</td>\n",
       "      <td>0.585</td>\n",
       "    </tr>\n",
       "    <tr>\n",
       "      <th>6</th>\n",
       "      <td>0.400</td>\n",
       "      <td>0.308</td>\n",
       "      <td>0.421</td>\n",
       "      <td>0.453</td>\n",
       "      <td>0.036</td>\n",
       "      <td>0.025</td>\n",
       "      <td>0.207</td>\n",
       "      <td>0.804</td>\n",
       "      <td>0.014</td>\n",
       "      <td>0.450</td>\n",
       "    </tr>\n",
       "    <tr>\n",
       "      <th>7</th>\n",
       "      <td>0.467</td>\n",
       "      <td>0.500</td>\n",
       "      <td>0.587</td>\n",
       "      <td>0.145</td>\n",
       "      <td>0.001</td>\n",
       "      <td>0.063</td>\n",
       "      <td>0.479</td>\n",
       "      <td>0.593</td>\n",
       "      <td>0.125</td>\n",
       "      <td>0.512</td>\n",
       "    </tr>\n",
       "    <tr>\n",
       "      <th>8</th>\n",
       "      <td>0.267</td>\n",
       "      <td>0.308</td>\n",
       "      <td>0.598</td>\n",
       "      <td>0.105</td>\n",
       "      <td>0.043</td>\n",
       "      <td>0.006</td>\n",
       "      <td>0.729</td>\n",
       "      <td>0.637</td>\n",
       "      <td>0.365</td>\n",
       "      <td>0.496</td>\n",
       "    </tr>\n",
       "    <tr>\n",
       "      <th>9</th>\n",
       "      <td>0.133</td>\n",
       "      <td>0.423</td>\n",
       "      <td>0.307</td>\n",
       "      <td>0.355</td>\n",
       "      <td>0.027</td>\n",
       "      <td>0.011</td>\n",
       "      <td>0.464</td>\n",
       "      <td>0.623</td>\n",
       "      <td>0.161</td>\n",
       "      <td>0.427</td>\n",
       "    </tr>\n",
       "  </tbody>\n",
       "</table>\n",
       "</div>"
      ],
      "text/plain": [
       "     x0    x1    x2    x3    x4    x5    x6    x7    x8    x9\n",
       "0 0.067 0.462 0.411 0.222 0.057 0.053 0.306 0.625 0.361 0.516\n",
       "1 0.267 0.423 0.314 0.091 0.020 0.132 0.137 0.608 0.132 0.652\n",
       "2 0.467 0.462 0.372 0.278 0.155 0.032 0.579 0.588 0.173 0.674\n",
       "3 0.200 0.192 0.383 0.175 0.054 0.044 0.606 0.731 0.133 0.626\n",
       "4 0.467 0.308 0.399 0.229 0.048 0.134 0.626 0.693 0.090 0.419\n",
       "5 0.400 0.231 0.528 0.141 0.054 0.244 0.504 0.722 0.016 0.585\n",
       "6 0.400 0.308 0.421 0.453 0.036 0.025 0.207 0.804 0.014 0.450\n",
       "7 0.467 0.500 0.587 0.145 0.001 0.063 0.479 0.593 0.125 0.512\n",
       "8 0.267 0.308 0.598 0.105 0.043 0.006 0.729 0.637 0.365 0.496\n",
       "9 0.133 0.423 0.307 0.355 0.027 0.011 0.464 0.623 0.161 0.427"
      ]
     },
     "execution_count": 12,
     "metadata": {},
     "output_type": "execute_result"
    }
   ],
   "source": [
    "X_data_list[0][1].head(10)"
   ]
  },
  {
   "cell_type": "code",
   "execution_count": 13,
   "metadata": {
    "execution": {
     "iopub.execute_input": "2022-01-20T21:15:57.267306Z",
     "iopub.status.busy": "2022-01-20T21:15:57.267069Z",
     "iopub.status.idle": "2022-01-20T21:15:57.336676Z",
     "shell.execute_reply": "2022-01-20T21:15:57.336181Z",
     "shell.execute_reply.started": "2022-01-20T21:15:57.267283Z"
    }
   },
   "outputs": [
    {
     "data": {
      "text/plain": [
       "feat0    0\n",
       "feat1    0\n",
       "feat2    0\n",
       "feat3    0\n",
       "feat4    0\n",
       "feat5    0\n",
       "feat6    0\n",
       "feat7    0\n",
       "feat8    0\n",
       "feat9    0\n",
       "dtype: int64"
      ]
     },
     "execution_count": 13,
     "metadata": {},
     "output_type": "execute_result"
    }
   ],
   "source": [
    "y_data_list[0][0].head(10)"
   ]
  },
  {
   "cell_type": "code",
   "execution_count": 14,
   "metadata": {
    "ExecuteTime": {
     "end_time": "2021-01-17T09:46:12.636995Z",
     "start_time": "2021-01-17T09:46:12.629349Z"
    },
    "execution": {
     "iopub.execute_input": "2022-01-20T21:15:57.339633Z",
     "iopub.status.busy": "2022-01-20T21:15:57.339399Z",
     "iopub.status.idle": "2022-01-20T21:15:57.386877Z",
     "shell.execute_reply": "2022-01-20T21:15:57.386383Z",
     "shell.execute_reply.started": "2022-01-20T21:15:57.339610Z"
    }
   },
   "outputs": [
    {
     "data": {
      "text/html": [
       "<div>\n",
       "<style scoped>\n",
       "    .dataframe tbody tr th:only-of-type {\n",
       "        vertical-align: middle;\n",
       "    }\n",
       "\n",
       "    .dataframe tbody tr th {\n",
       "        vertical-align: top;\n",
       "    }\n",
       "\n",
       "    .dataframe thead th {\n",
       "        text-align: right;\n",
       "    }\n",
       "</style>\n",
       "<table border=\"1\" class=\"dataframe\">\n",
       "  <thead>\n",
       "    <tr style=\"text-align: right;\">\n",
       "      <th></th>\n",
       "      <th>result</th>\n",
       "    </tr>\n",
       "  </thead>\n",
       "  <tbody>\n",
       "    <tr>\n",
       "      <th>0</th>\n",
       "      <td>0</td>\n",
       "    </tr>\n",
       "    <tr>\n",
       "      <th>1</th>\n",
       "      <td>0</td>\n",
       "    </tr>\n",
       "    <tr>\n",
       "      <th>2</th>\n",
       "      <td>0</td>\n",
       "    </tr>\n",
       "    <tr>\n",
       "      <th>3</th>\n",
       "      <td>0</td>\n",
       "    </tr>\n",
       "    <tr>\n",
       "      <th>4</th>\n",
       "      <td>0</td>\n",
       "    </tr>\n",
       "    <tr>\n",
       "      <th>5</th>\n",
       "      <td>0</td>\n",
       "    </tr>\n",
       "    <tr>\n",
       "      <th>6</th>\n",
       "      <td>0</td>\n",
       "    </tr>\n",
       "    <tr>\n",
       "      <th>7</th>\n",
       "      <td>0</td>\n",
       "    </tr>\n",
       "    <tr>\n",
       "      <th>8</th>\n",
       "      <td>0</td>\n",
       "    </tr>\n",
       "    <tr>\n",
       "      <th>9</th>\n",
       "      <td>0</td>\n",
       "    </tr>\n",
       "  </tbody>\n",
       "</table>\n",
       "</div>"
      ],
      "text/plain": [
       "   result\n",
       "0       0\n",
       "1       0\n",
       "2       0\n",
       "3       0\n",
       "4       0\n",
       "5       0\n",
       "6       0\n",
       "7       0\n",
       "8       0\n",
       "9       0"
      ]
     },
     "execution_count": 14,
     "metadata": {},
     "output_type": "execute_result"
    }
   ],
   "source": [
    "y_data_list[0][1].head(10)"
   ]
  },
  {
   "cell_type": "code",
   "execution_count": 15,
   "metadata": {
    "execution": {
     "iopub.execute_input": "2022-01-20T21:15:57.388216Z",
     "iopub.status.busy": "2022-01-20T21:15:57.387872Z",
     "iopub.status.idle": "2022-01-20T21:16:01.476103Z",
     "shell.execute_reply": "2022-01-20T21:16:01.475466Z",
     "shell.execute_reply.started": "2022-01-20T21:15:57.388193Z"
    }
   },
   "outputs": [
    {
     "data": {
      "image/png": "[encoded data removed]",
      "text/plain": [
       "<IPython.core.display.Image object>"
      ]
     },
     "execution_count": 15,
     "metadata": {},
     "output_type": "execute_result"
    }
   ],
   "source": [
    "plot = None\n",
    "if plot_tree_from_parameters != 'make_classification':\n",
    "    plot = plot_tree_from_parameters(y_data_list[0][0].values, config)\n",
    "plot"
   ]
  },
  {
   "cell_type": "code",
   "execution_count": 16,
   "metadata": {
    "execution": {
     "iopub.execute_input": "2022-01-20T21:16:01.477803Z",
     "iopub.status.busy": "2022-01-20T21:16:01.477523Z",
     "iopub.status.idle": "2022-01-20T21:16:01.487746Z",
     "shell.execute_reply": "2022-01-20T21:16:01.487228Z",
     "shell.execute_reply.started": "2022-01-20T21:16:01.477777Z"
    }
   },
   "outputs": [],
   "source": [
    "def inject_noise(y_data, noise=0.0, noise_dist='normal', seed=42):\n",
    "    \"\"\"\n",
    "    Returns a polynomial injected with specified noise type and amount. \n",
    "    Inputs a clean polynomial array with x-data and y-data and modifies the y-data according to the noise settings.\n",
    "    \"\"\"\n",
    "    np.random.seed(seed)\n",
    "    \n",
    "    #Calculate range of function values of input polynomial\n",
    "    range_values_fv = np.ptp(y_data[1].values)\n",
    "    \n",
    "    #Selection of noise type\n",
    "    #Available types: normal, uniform, A, B, C\n",
    "    if noise_dist=='normal':\n",
    "        noise_sample=noise*np.random.normal(loc=0, scale=1.0,size=y_data[1].shape[0])\n",
    "    elif noise_dist=='uniform':\n",
    "        noise_sample=noise*np.random.uniform(low=0, high=1.0,size=y_data[1].shape[0])\n",
    "    elif noise_dist=='normal_range':\n",
    "        #Normal distribution adjusted to function value range\n",
    "        noise_sample=(noise*range_values_fv)*np.random.normal(loc=0, scale=1.0,size=y_data[1].shape[0])\n",
    "    elif noise_dist=='uniform_range':\n",
    "        noise_sample=(noise*range_values_fv)*np.random.normal(loc=0, scale=1.0,size=y_data[1].shape[0])\n",
    "    elif noise_dist=='flip_percentage':\n",
    "        idx = np.random.choice(y_data[1].shape[0], int(y_data[1].shape[0]*noise), replace=False)\n",
    "        y_data[1].iloc[idx] = (y_data[1].iloc[idx] + 1) % 2 \n",
    "        return y_data\n",
    "    else:\n",
    "        #no noise\n",
    "        noise_sample = np.zeros(y_data[1].shape[0])\n",
    "                               \n",
    "    noise_sample=noise_sample.reshape(-1,1)\n",
    "    \n",
    "    y_data[1]=y_data[1]+noise_sample\n",
    "    \n",
    "    return np.clip(y_data, 0, 1)"
   ]
  },
  {
   "cell_type": "code",
   "execution_count": 17,
   "metadata": {
    "execution": {
     "iopub.execute_input": "2022-01-20T21:16:01.488927Z",
     "iopub.status.busy": "2022-01-20T21:16:01.488711Z",
     "iopub.status.idle": "2022-01-20T21:16:01.562008Z",
     "shell.execute_reply": "2022-01-20T21:16:01.561081Z",
     "shell.execute_reply.started": "2022-01-20T21:16:01.488904Z"
    }
   },
   "outputs": [],
   "source": [
    "if noise_injected_level > 0:\n",
    "    parallel = Parallel(n_jobs=n_jobs, verbose=3, backend='loky')\n",
    "    y_data_list = parallel(delayed(inject_noise)(y_data=y_data_list[i],\n",
    "                                                 noise=noise_injected_level,\n",
    "                                                 noise_dist=noise_injected_type, \n",
    "                                                 seed=RANDOM_SEED+i) for i in range(len(y_data_list)))\n"
   ]
  },
  {
   "cell_type": "code",
   "execution_count": 18,
   "metadata": {
    "execution": {
     "iopub.execute_input": "2022-01-20T21:16:01.563940Z",
     "iopub.status.busy": "2022-01-20T21:16:01.563513Z",
     "iopub.status.idle": "2022-01-20T21:16:01.636442Z",
     "shell.execute_reply": "2022-01-20T21:16:01.635378Z",
     "shell.execute_reply.started": "2022-01-20T21:16:01.563893Z"
    }
   },
   "outputs": [
    {
     "data": {
      "text/plain": [
       "feat0    0\n",
       "feat1    0\n",
       "feat2    0\n",
       "feat3    0\n",
       "feat4    0\n",
       "feat5    0\n",
       "feat6    0\n",
       "feat7    0\n",
       "feat8    0\n",
       "feat9    0\n",
       "dtype: int64"
      ]
     },
     "execution_count": 18,
     "metadata": {},
     "output_type": "execute_result"
    }
   ],
   "source": [
    "y_data_list[0][0].head(10)"
   ]
  },
  {
   "cell_type": "code",
   "execution_count": 19,
   "metadata": {
    "execution": {
     "iopub.execute_input": "2022-01-20T21:16:01.638444Z",
     "iopub.status.busy": "2022-01-20T21:16:01.638007Z",
     "iopub.status.idle": "2022-01-20T21:16:01.652004Z",
     "shell.execute_reply": "2022-01-20T21:16:01.650929Z",
     "shell.execute_reply.started": "2022-01-20T21:16:01.638398Z"
    }
   },
   "outputs": [
    {
     "data": {
      "text/plain": [
       "feat0      0\n",
       "feat1      0\n",
       "feat2      0\n",
       "feat3      0\n",
       "feat4      0\n",
       "feat5      0\n",
       "feat6      0\n",
       "feat7      0\n",
       "feat8      0\n",
       "feat9      0\n",
       "feat10     0\n",
       "feat11     0\n",
       "feat12     0\n",
       "feat13     0\n",
       "feat14     0\n",
       "split0     0\n",
       "split1     0\n",
       "split2     0\n",
       "split3     0\n",
       "split4     0\n",
       "split5     0\n",
       "split6     0\n",
       "split7     0\n",
       "split8     0\n",
       "split9     0\n",
       "split10    0\n",
       "split11    0\n",
       "split12    0\n",
       "split13    0\n",
       "split14    0\n",
       "lp0        0\n",
       "lp1        0\n",
       "lp2        0\n",
       "lp3        0\n",
       "lp4        0\n",
       "lp5        0\n",
       "lp6        0\n",
       "lp7        0\n",
       "lp8        0\n",
       "lp9        0\n",
       "lp10       0\n",
       "lp11       0\n",
       "lp12       0\n",
       "lp13       0\n",
       "lp14       0\n",
       "lp15       0\n",
       "dtype: int64"
      ]
     },
     "execution_count": 19,
     "metadata": {},
     "output_type": "execute_result"
    }
   ],
   "source": [
    "y_data_list[0][0]"
   ]
  },
  {
   "cell_type": "code",
   "execution_count": 20,
   "metadata": {
    "execution": {
     "iopub.execute_input": "2022-01-20T21:16:01.654059Z",
     "iopub.status.busy": "2022-01-20T21:16:01.653596Z",
     "iopub.status.idle": "2022-01-20T21:16:01.674770Z",
     "shell.execute_reply": "2022-01-20T21:16:01.674163Z",
     "shell.execute_reply.started": "2022-01-20T21:16:01.654011Z"
    }
   },
   "outputs": [
    {
     "data": {
      "text/html": [
       "<div>\n",
       "<style scoped>\n",
       "    .dataframe tbody tr th:only-of-type {\n",
       "        vertical-align: middle;\n",
       "    }\n",
       "\n",
       "    .dataframe tbody tr th {\n",
       "        vertical-align: top;\n",
       "    }\n",
       "\n",
       "    .dataframe thead th {\n",
       "        text-align: right;\n",
       "    }\n",
       "</style>\n",
       "<table border=\"1\" class=\"dataframe\">\n",
       "  <thead>\n",
       "    <tr style=\"text-align: right;\">\n",
       "      <th></th>\n",
       "      <th>result</th>\n",
       "    </tr>\n",
       "  </thead>\n",
       "  <tbody>\n",
       "    <tr>\n",
       "      <th>0</th>\n",
       "      <td>0</td>\n",
       "    </tr>\n",
       "    <tr>\n",
       "      <th>1</th>\n",
       "      <td>0</td>\n",
       "    </tr>\n",
       "    <tr>\n",
       "      <th>2</th>\n",
       "      <td>0</td>\n",
       "    </tr>\n",
       "    <tr>\n",
       "      <th>3</th>\n",
       "      <td>0</td>\n",
       "    </tr>\n",
       "    <tr>\n",
       "      <th>4</th>\n",
       "      <td>0</td>\n",
       "    </tr>\n",
       "    <tr>\n",
       "      <th>5</th>\n",
       "      <td>0</td>\n",
       "    </tr>\n",
       "    <tr>\n",
       "      <th>6</th>\n",
       "      <td>0</td>\n",
       "    </tr>\n",
       "    <tr>\n",
       "      <th>7</th>\n",
       "      <td>0</td>\n",
       "    </tr>\n",
       "    <tr>\n",
       "      <th>8</th>\n",
       "      <td>0</td>\n",
       "    </tr>\n",
       "    <tr>\n",
       "      <th>9</th>\n",
       "      <td>0</td>\n",
       "    </tr>\n",
       "  </tbody>\n",
       "</table>\n",
       "</div>"
      ],
      "text/plain": [
       "   result\n",
       "0       0\n",
       "1       0\n",
       "2       0\n",
       "3       0\n",
       "4       0\n",
       "5       0\n",
       "6       0\n",
       "7       0\n",
       "8       0\n",
       "9       0"
      ]
     },
     "execution_count": 20,
     "metadata": {},
     "output_type": "execute_result"
    }
   ],
   "source": [
    "y_data_list[0][1].head(10)"
   ]
  },
  {
   "cell_type": "markdown",
   "metadata": {
    "ExecuteTime": {
     "end_time": "2020-09-16T17:06:36.919643Z",
     "start_time": "2020-09-16T17:06:36.912904Z"
    }
   },
   "source": [
    "## Lambda Network Training + Weigh/Bias saving"
   ]
  },
  {
   "cell_type": "code",
   "execution_count": 21,
   "metadata": {
    "execution": {
     "iopub.execute_input": "2022-01-20T21:16:01.675901Z",
     "iopub.status.busy": "2022-01-20T21:16:01.675688Z",
     "iopub.status.idle": "2022-01-20T21:16:01.734358Z",
     "shell.execute_reply": "2022-01-20T21:16:01.733812Z",
     "shell.execute_reply.started": "2022-01-20T21:16:01.675877Z"
    }
   },
   "outputs": [],
   "source": [
    "#%load_ext autoreload"
   ]
  },
  {
   "cell_type": "code",
   "execution_count": 22,
   "metadata": {
    "execution": {
     "iopub.execute_input": "2022-01-20T21:16:01.735698Z",
     "iopub.status.busy": "2022-01-20T21:16:01.735411Z",
     "iopub.status.idle": "2022-01-20T21:16:01.762117Z",
     "shell.execute_reply": "2022-01-20T21:16:01.761534Z",
     "shell.execute_reply.started": "2022-01-20T21:16:01.735674Z"
    }
   },
   "outputs": [],
   "source": [
    "rand_index = np.random.randint(number_of_trained_lambda_nets)\n",
    "\n",
    "#rand_tree = generate_decision_tree_from_array(y_data_list[rand_index][0].values, config)\n",
    "#rand_tree.plot_tree()"
   ]
  },
  {
   "cell_type": "code",
   "execution_count": 23,
   "metadata": {
    "execution": {
     "iopub.execute_input": "2022-01-20T21:16:01.763358Z",
     "iopub.status.busy": "2022-01-20T21:16:01.763088Z",
     "iopub.status.idle": "2022-01-20T21:18:12.754178Z",
     "shell.execute_reply": "2022-01-20T21:18:12.753573Z",
     "shell.execute_reply.started": "2022-01-20T21:16:01.763334Z"
    },
    "tags": []
   },
   "outputs": [
    {
     "data": {
      "image/png": "[encoded data removed]",
      "text/plain": [
       "<Figure size 864x576 with 2 Axes>"
      ]
     },
     "metadata": {},
     "output_type": "display_data"
    },
    {
     "name": "stdout",
     "output_type": "stream",
     "text": [
      "binary_accuracy\n",
      "\ttraining         \t (min:    0.480, max:    0.850, cur:    0.845)\n",
      "\tvalidation       \t (min:    0.544, max:    0.824, cur:    0.813)\n",
      "Loss\n",
      "\ttraining         \t (min:    0.329, max:    0.702, cur:    0.330)\n",
      "\tvalidation       \t (min:    0.345, max:    0.688, cur:    0.345)\n"
     ]
    }
   ],
   "source": [
    "#%autoreload 2\n",
    "random_network = train_lambda_net(config=config,\n",
    "                                  lambda_index=rand_index, \n",
    "                                  X_data_with_function=X_data_list[rand_index], \n",
    "                                  y_data_with_function=y_data_list[rand_index], \n",
    "                                  distribution_parameter_list = distribution_parameter_list_list[rand_index][1],\n",
    "                                  callbacks=[PlotLossesKerasTF()], \n",
    "                                  return_model=True,\n",
    "                                  printing=False)"
   ]
  },
  {
   "cell_type": "code",
   "execution_count": null,
   "metadata": {
    "execution": {
     "iopub.execute_input": "2022-01-20T21:18:12.755743Z",
     "iopub.status.busy": "2022-01-20T21:18:12.755472Z"
    },
    "tags": []
   },
   "outputs": [
    {
     "name": "stderr",
     "output_type": "stream",
     "text": [
      "[Parallel(n_jobs=20)]: Using backend LokyBackend with 20 concurrent workers.\n",
      "[Parallel(n_jobs=20)]: Done  88 tasks      | elapsed:  1.4min\n",
      "[Parallel(n_jobs=20)]: Done 248 tasks      | elapsed:  3.4min\n",
      "[Parallel(n_jobs=20)]: Done 472 tasks      | elapsed:  6.1min\n",
      "[Parallel(n_jobs=20)]: Done 760 tasks      | elapsed:  9.8min\n",
      "[Parallel(n_jobs=20)]: Done 1112 tasks      | elapsed: 14.4min\n",
      "[Parallel(n_jobs=20)]: Done 1528 tasks      | elapsed: 19.7min\n",
      "[Parallel(n_jobs=20)]: Done 2008 tasks      | elapsed: 25.8min\n",
      "[Parallel(n_jobs=20)]: Done 2552 tasks      | elapsed: 32.7min\n",
      "[Parallel(n_jobs=20)]: Done 3160 tasks      | elapsed: 40.5min\n",
      "[Parallel(n_jobs=20)]: Done 3832 tasks      | elapsed: 49.0min\n",
      "[Parallel(n_jobs=20)]: Done 4568 tasks      | elapsed: 58.2min\n",
      "[Parallel(n_jobs=20)]: Done 5368 tasks      | elapsed: 68.5min\n",
      "[Parallel(n_jobs=20)]: Done 6232 tasks      | elapsed: 79.6min\n"
     ]
    }
   ],
   "source": [
    "#%autoreload 2\n",
    "parallel = Parallel(n_jobs=n_jobs, verbose=3, backend='loky') #loky\n",
    "clf_list = parallel(delayed(train_lambda_net)(config=config,\n",
    "                                              lambda_index=index, \n",
    "                                              X_data_with_function=X_data, \n",
    "                                              y_data_with_function=y_data,\n",
    "                                              distribution_parameter_list=distribution_parameter_list[1],\n",
    "                                              return_history=True, \n",
    "                                              printing=True) for index, (X_data, y_data, distribution_parameter_list) in enumerate(zip(X_data_list, y_data_list, distribution_parameter_list_list)))  \n",
    "del parallel"
   ]
  },
  {
   "cell_type": "code",
   "execution_count": null,
   "metadata": {},
   "outputs": [],
   "source": [
    "random_network['model'].get_config()"
   ]
  },
  {
   "cell_type": "code",
   "execution_count": null,
   "metadata": {},
   "outputs": [],
   "source": [
    "random_network['model'].summary()"
   ]
  },
  {
   "cell_type": "markdown",
   "metadata": {},
   "source": [
    "## Save and Plot Lambda-Model History"
   ]
  },
  {
   "cell_type": "code",
   "execution_count": null,
   "metadata": {
    "ExecuteTime": {
     "start_time": "2021-01-17T09:44:26.874Z"
    }
   },
   "outputs": [],
   "source": [
    "loss_list_total = []\n",
    "metric_list_total = []\n",
    "\n",
    "val_loss_list_total = []\n",
    "val_metric_list_total = []\n",
    "\n",
    "index_list = []\n",
    "\n",
    "\n",
    "max_training_epochs = 0\n",
    "for _, entry in tqdm(enumerate(clf_list)):\n",
    "    history = entry['history']\n",
    "    \n",
    "    current_training_epochs = len(history[list(history.keys())[0]])\n",
    "    max_training_epochs = max(max_training_epochs, current_training_epochs)\n",
    "\n",
    "\n",
    "for _, entry in tqdm(enumerate(clf_list)):\n",
    "    history = entry['history']\n",
    "    index = entry['index']\n",
    "    \n",
    "    current_training_epochs = len(history[list(history.keys())[0]])\n",
    "    \n",
    "    loss_list = np.full(max_training_epochs, np.nan)\n",
    "    metric_list = np.full(max_training_epochs, np.nan)\n",
    "    val_loss_list = np.full(max_training_epochs, np.nan)\n",
    "    val_metric_list = np.full(max_training_epochs, np.nan) \n",
    "\n",
    "    for i in range(current_training_epochs):  \n",
    "        loss_list[i] = history[list(history.keys())[0]][i]\n",
    "        metric_list[i] = history[list(history.keys())[1]][i]\n",
    "        val_loss_list[i] = history[list(history.keys())[len(history.keys())//2]][i]\n",
    "        val_metric_list[i] = history[list(history.keys())[len(history.keys())//2+1]][i]\n",
    "    \n",
    "    index_list.append([index])\n",
    "    loss_list_total.append(loss_list)\n",
    "    metric_list_total.append(metric_list)\n",
    "    val_loss_list_total.append(val_loss_list)\n",
    "    val_metric_list_total.append(val_metric_list)\n",
    "\n",
    "loss_df = pd.DataFrame(data=np.hstack([index_list, loss_list_total]), columns=flatten_list(['index', [list(history.keys())[0] + '_epoch_' + str(i+1) for i in range(max_training_epochs)]]))\n",
    "#loss_df['index'] = loss_df['index'].astype(int)\n",
    "metric_df = pd.DataFrame(data=np.hstack([index_list, metric_list_total]), columns=flatten_list(['index', [list(history.keys())[1] + '_epoch_' + str(i+1) for i in range(max_training_epochs)]]))\n",
    "#metric_df['index'] = metric_df['index'].astype(int)\n",
    "val_loss_df = pd.DataFrame(data=np.hstack([index_list, val_loss_list_total]), columns=flatten_list(['index', [list(history.keys())[len(history.keys())//2] + '_epoch_' + str(i+1) for i in range(max_training_epochs)]]))\n",
    "#val_loss_df['index'] = val_loss_df['index'].astype(int)\n",
    "val_metric_df = pd.DataFrame(data=np.hstack([index_list, val_metric_list_total]), columns=flatten_list(['index', [list(history.keys())[len(history.keys())//2+1] + '_epoch_' + str(i+1) for i in range(max_training_epochs)]])) \n",
    "#val_metric_df['index'] = val_metric_df['index'].astype(int)\n"
   ]
  },
  {
   "cell_type": "code",
   "execution_count": null,
   "metadata": {
    "ExecuteTime": {
     "start_time": "2021-01-17T09:44:26.875Z"
    }
   },
   "outputs": [],
   "source": [
    "path_loss = './data/weights/weights_' + path_identifier_lambda_net_data + '/history_' + list(history.keys())[0] + '.txt'\n",
    "path_metric = './data/weights/weights_' + path_identifier_lambda_net_data + '/history_' + list(history.keys())[1] + '.txt'\n",
    "path_val_loss = './data/weights/weights_' + path_identifier_lambda_net_data + '/history_' + list(history.keys())[len(history.keys())//2] + '.txt'\n",
    "path_val_metric = './data/weights/weights_' + path_identifier_lambda_net_data + '/history_' + list(history.keys())[len(history.keys())//2+1] + '.txt'\n",
    "\n",
    "loss_df.to_csv(path_loss, index=None, sep=',')\n",
    "metric_df.to_csv(path_metric, index=None, sep=',')\n",
    "val_loss_df.to_csv(path_val_loss, index=None, sep=',')\n",
    "val_metric_df.to_csv(path_val_metric, index=None, sep=',')\n"
   ]
  },
  {
   "cell_type": "code",
   "execution_count": null,
   "metadata": {
    "ExecuteTime": {
     "start_time": "2021-01-17T09:44:26.876Z"
    }
   },
   "outputs": [],
   "source": [
    "loss_df.describe()"
   ]
  },
  {
   "cell_type": "code",
   "execution_count": null,
   "metadata": {
    "ExecuteTime": {
     "start_time": "2021-01-17T09:44:26.877Z"
    }
   },
   "outputs": [],
   "source": [
    "val_loss_df.describe()"
   ]
  },
  {
   "cell_type": "code",
   "execution_count": null,
   "metadata": {
    "ExecuteTime": {
     "start_time": "2021-01-17T09:44:26.879Z"
    }
   },
   "outputs": [],
   "source": [
    "metric_df.describe()"
   ]
  },
  {
   "cell_type": "code",
   "execution_count": null,
   "metadata": {
    "ExecuteTime": {
     "start_time": "2021-01-17T09:44:26.880Z"
    }
   },
   "outputs": [],
   "source": [
    "val_metric_df.describe()"
   ]
  },
  {
   "cell_type": "code",
   "execution_count": null,
   "metadata": {
    "ExecuteTime": {
     "start_time": "2021-01-17T09:44:26.881Z"
    }
   },
   "outputs": [],
   "source": [
    "# summarize history for metric\n",
    "path = './data/results/weights_' + path_identifier_lambda_net_data + '/' + list(history.keys())[1] + '.png'\n",
    "\n",
    "adjustment_threshold_metric = 10#100\n",
    "    \n",
    "metric_df_adjusted = metric_df.copy(deep=True).iloc[:,1:]\n",
    "if adjustment_threshold_metric > 0:\n",
    "    metric_df_adjusted[metric_df_adjusted.columns] = np.where(metric_df_adjusted[metric_df_adjusted.columns] > adjustment_threshold_metric, adjustment_threshold_metric, metric_df_adjusted[metric_df_adjusted.columns])\n",
    "    \n",
    "val_metric_df_adjusted = val_metric_df.copy(deep=True).iloc[:,1:]\n",
    "if adjustment_threshold_metric > 0:\n",
    "    val_metric_df_adjusted[val_metric_df_adjusted.columns] = np.where(val_metric_df_adjusted[val_metric_df_adjusted.columns] > adjustment_threshold_metric, adjustment_threshold_metric, val_metric_df_adjusted[val_metric_df_adjusted.columns])\n",
    "\n",
    "    \n",
    "plt.plot(metric_df_adjusted.describe().loc['mean'].values)\n",
    "plt.plot(val_metric_df_adjusted.describe().loc['mean'].values)\n",
    "plt.title('model ' + list(history.keys())[1])\n",
    "plt.ylabel(list(history.keys())[1])\n",
    "plt.xlabel('epoch')\n",
    "plt.legend(['train', 'valid'], loc='upper left')\n",
    "plt.savefig(path)\n",
    "plt.show()\n"
   ]
  },
  {
   "cell_type": "code",
   "execution_count": null,
   "metadata": {
    "ExecuteTime": {
     "start_time": "2021-01-17T09:44:26.883Z"
    }
   },
   "outputs": [],
   "source": [
    "# summarize history for loss\n",
    "path = './data/results/weights_' + path_identifier_lambda_net_data + '/' + list(history.keys())[0] + '.png'\n",
    "\n",
    "adjustment_threshold_loss = 0#10000\n",
    "    \n",
    "loss_df_adjusted = loss_df.copy(deep=True).iloc[:,1:]\n",
    "\n",
    "if adjustment_threshold_loss > 0:\n",
    "    loss_df_adjusted[loss_df_adjusted.columns] = np.where(loss_df_adjusted[loss_df_adjusted.columns] > adjustment_threshold_loss, adjustment_threshold_loss, loss_df_adjusted[loss_df_adjusted.columns])\n",
    "    \n",
    "val_loss_df_adjusted = val_loss_df.copy(deep=True).iloc[:,1:]\n",
    "if adjustment_threshold_loss > 0:\n",
    "    val_loss_df_adjusted[val_loss_df_adjusted.columns] = np.where(val_loss_df_adjusted[val_loss_df_adjusted.columns] > adjustment_threshold_loss, adjustment_threshold_loss, val_loss_df_adjusted[val_loss_df_adjusted.columns])\n",
    "\n",
    "    \n",
    "plt.plot(loss_df_adjusted.describe().loc['mean'].values)\n",
    "plt.plot(val_loss_df_adjusted.describe().loc['mean'].values)\n",
    "plt.title('model ' + list(history.keys())[0])\n",
    "plt.ylabel(list(history.keys())[0])\n",
    "plt.xlabel('epoch')\n",
    "plt.legend(['train', 'valid'], loc='upper left')\n",
    "plt.savefig(path)\n",
    "plt.show()\n"
   ]
  },
  {
   "cell_type": "code",
   "execution_count": null,
   "metadata": {},
   "outputs": [],
   "source": [
    "print('a')"
   ]
  },
  {
   "cell_type": "code",
   "execution_count": null,
   "metadata": {},
   "outputs": [],
   "source": []
  },
  {
   "cell_type": "code",
   "execution_count": null,
   "metadata": {},
   "outputs": [],
   "source": []
  }
 ],
 "metadata": {
  "kernelspec": {
   "display_name": "Python 3 (ipykernel)",
   "language": "python",
   "name": "python3"
  },
  "language_info": {
   "codemirror_mode": {
    "name": "ipython",
    "version": 3
   },
   "file_extension": ".py",
   "mimetype": "text/x-python",
   "name": "python",
   "nbconvert_exporter": "python",
   "pygments_lexer": "ipython3",
   "version": "3.8.0"
  }
 },
 "nbformat": 4,
 "nbformat_minor": 4
}
