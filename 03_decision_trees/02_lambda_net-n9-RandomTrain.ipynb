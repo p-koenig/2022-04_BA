{
 "cells": [
  {
   "cell_type": "markdown",
   "metadata": {},
   "source": [
    "# Generation of λ-Nets for I-Net training"
   ]
  },
  {
   "cell_type": "markdown",
   "metadata": {},
   "source": [
    "## Specitication of Experiment Settings"
   ]
  },
  {
   "cell_type": "code",
   "execution_count": 1,
   "metadata": {
    "execution": {
     "iopub.execute_input": "2022-01-07T19:21:02.223743Z",
     "iopub.status.busy": "2022-01-07T19:21:02.223286Z",
     "iopub.status.idle": "2022-01-07T19:21:02.247293Z",
     "shell.execute_reply": "2022-01-07T19:21:02.246439Z",
     "shell.execute_reply.started": "2022-01-07T19:21:02.223632Z"
    },
    "tags": []
   },
   "outputs": [],
   "source": [
    "#######################################################################################################################################\n",
    "###################################################### CONFIG FILE ####################################################################\n",
    "#######################################################################################################################################\n",
    "sleep_time = 5 #minutes\n",
    "\n",
    "config = {\n",
    "    'function_family': {\n",
    "        'maximum_depth': 5,\n",
    "        'beta': 1,\n",
    "        'decision_sparsity': 1,\n",
    "        'fully_grown': True,          \n",
    "        'dt_type': 'vanilla', #'vanilla', 'SDT'\n",
    "    },\n",
    "    'data': {\n",
    "        'number_of_variables': 9, \n",
    "        'num_classes': 2,\n",
    "        'categorical_indices': [],\n",
    "        \n",
    "        'function_generation_type': 'random_decision_tree_trained',# 'make_classification', 'make_classification_trained', 'random_decision_tree', 'random_decision_tree_trained'\n",
    "        'objective': 'classification', # 'regression'\n",
    "        \n",
    "        'x_max': 1,\n",
    "        'x_min': 0,\n",
    "        'x_distrib': 'uniform', #'normal', 'uniform',       \n",
    "                \n",
    "        'lambda_dataset_size': 5000, #number of samples per function\n",
    "        'number_of_generated_datasets': 10000,\n",
    "        \n",
    "        'noise_injected_level': 0, \n",
    "        'noise_injected_type': 'flip_percentage', # '' 'normal' 'uniform' 'normal_range' 'uniform_range'\n",
    "    }, \n",
    "    'lambda_net': {\n",
    "        'epochs_lambda': 1000,\n",
    "        'early_stopping_lambda': True, \n",
    "        'early_stopping_min_delta_lambda': 1e-2,\n",
    "        'batch_lambda': 64,\n",
    "        'dropout_lambda': 0,\n",
    "        'lambda_network_layers': [128],\n",
    "        'optimizer_lambda': 'adam',\n",
    "        'loss_lambda': 'binary_crossentropy', #categorical_crossentropy\n",
    "                \n",
    "        'number_initializations_lambda': 1, \n",
    "        \n",
    "        'number_of_trained_lambda_nets': 10000,\n",
    "    },     \n",
    "    'evaluation': {   \n",
    "    },    \n",
    "    \n",
    "    'computation':{\n",
    "        'n_jobs': -3,\n",
    "        'use_gpu': False,\n",
    "        'gpu_numbers': '0',\n",
    "        'RANDOM_SEED': 42,   \n",
    "    }\n",
    "}\n",
    "\n",
    "\n"
   ]
  },
  {
   "cell_type": "code",
   "execution_count": 2,
   "metadata": {
    "execution": {
     "iopub.execute_input": "2022-01-07T19:21:02.249107Z",
     "iopub.status.busy": "2022-01-07T19:21:02.248784Z",
     "iopub.status.idle": "2022-01-07T19:21:02.286365Z",
     "shell.execute_reply": "2022-01-07T19:21:02.285344Z",
     "shell.execute_reply.started": "2022-01-07T19:21:02.249071Z"
    }
   },
   "outputs": [],
   "source": [
    "#######################################################################################################################################\n",
    "########################################### IMPORT GLOBAL VARIABLES FROM CONFIG #######################################################\n",
    "#######################################################################################################################################\n",
    "globals().update(config['function_family'])\n",
    "globals().update(config['data'])\n",
    "globals().update(config['lambda_net'])\n",
    "globals().update(config['evaluation'])\n",
    "globals().update(config['computation'])"
   ]
  },
  {
   "cell_type": "code",
   "execution_count": 3,
   "metadata": {
    "execution": {
     "iopub.execute_input": "2022-01-07T19:21:02.287794Z",
     "iopub.status.busy": "2022-01-07T19:21:02.287524Z",
     "iopub.status.idle": "2022-01-07T19:21:10.158787Z",
     "shell.execute_reply": "2022-01-07T19:21:10.156150Z",
     "shell.execute_reply.started": "2022-01-07T19:21:02.287755Z"
    }
   },
   "outputs": [],
   "source": [
    "import warnings\n",
    "warnings.filterwarnings('ignore')\n",
    "import os\n",
    "os.environ['TF_CPP_MIN_LOG_LEVEL'] = '3' \n",
    "\n",
    "from itertools import product       # forms cartesian products\n",
    "from tqdm import tqdm_notebook as tqdm\n",
    "from more_itertools import random_product \n",
    "import pickle\n",
    "import numpy as np\n",
    "import pandas as pd\n",
    "import timeit\n",
    "import matplotlib.pyplot as plt \n",
    "import time\n",
    "import math\n",
    "import operator\n",
    "from functools import reduce\n",
    "\n",
    "from scipy.signal import argrelextrema\n",
    "\n",
    "import sys\n",
    "\n",
    "import shutil\n",
    "\n",
    "import logging\n",
    "logging.getLogger('tensorflow').disabled = True\n",
    "\n",
    "from joblib import Parallel, delayed\n",
    "\n",
    "\n",
    "from sklearn.model_selection import cross_val_score, train_test_split, StratifiedKFold, KFold\n",
    "from sklearn.metrics import accuracy_score, log_loss, roc_auc_score, f1_score, mean_absolute_error, r2_score\n",
    "#from similaritymeasures import frechet_dist, area_between_two_curves, dtw\n",
    "from IPython.display import Image\n",
    "\n",
    "from livelossplot import PlotLossesKerasTF\n",
    "\n",
    "import seaborn as sns\n",
    "\n",
    "import tensorflow as tf\n",
    "#import tensorflow_addons as tfa\n",
    "import random \n",
    "\n",
    "\n",
    "#import keras\n",
    "import tensorflow.keras.backend as K\n",
    "from tensorflow.keras import Sequential\n",
    "from tensorflow.keras.layers import Dense, Dropout\n",
    "from tensorflow.keras.utils import plot_model\n",
    "from tensorflow.keras.callbacks import EarlyStopping, ModelCheckpoint, ReduceLROnPlateau\n",
    "\n"
   ]
  },
  {
   "cell_type": "code",
   "execution_count": 4,
   "metadata": {
    "execution": {
     "iopub.execute_input": "2022-01-07T19:21:10.165789Z",
     "iopub.status.busy": "2022-01-07T19:21:10.165147Z",
     "iopub.status.idle": "2022-01-07T19:21:10.181901Z",
     "shell.execute_reply": "2022-01-07T19:21:10.180973Z",
     "shell.execute_reply.started": "2022-01-07T19:21:10.165721Z"
    }
   },
   "outputs": [],
   "source": [
    "#######################################################################################################################################\n",
    "###################################################### SET VARIABLES + DESIGN #########################################################\n",
    "#######################################################################################################################################\n",
    "    \n",
    "os.environ['CUDA_VISIBLE_DEVICES'] = gpu_numbers if use_gpu else ''\n",
    "\n",
    "sns.set_style(\"darkgrid\")\n",
    "\n",
    "random.seed(RANDOM_SEED)\n",
    "np.random.seed(RANDOM_SEED)\n",
    "np.random.seed(RANDOM_SEED)\n",
    "if int(tf.__version__[0]) >= 2:\n",
    "    tf.random.set_seed(RANDOM_SEED)\n",
    "else:\n",
    "    tf.set_random_seed(RANDOM_SEED)\n",
    "    \n",
    "    \n",
    "pd.set_option('display.float_format', lambda x: '%.3f' % x)\n",
    "pd.set_option('display.max_columns', 200)\n",
    "np.set_printoptions(threshold=200)"
   ]
  },
  {
   "cell_type": "code",
   "execution_count": null,
   "metadata": {},
   "outputs": [],
   "source": []
  },
  {
   "cell_type": "code",
   "execution_count": 5,
   "metadata": {
    "execution": {
     "iopub.execute_input": "2022-01-07T19:21:10.184276Z",
     "iopub.status.busy": "2022-01-07T19:21:10.183502Z",
     "iopub.status.idle": "2022-01-07T19:26:15.505947Z",
     "shell.execute_reply": "2022-01-07T19:26:15.503704Z",
     "shell.execute_reply.started": "2022-01-07T19:21:10.184237Z"
    }
   },
   "outputs": [],
   "source": [
    "from utilities.LambdaNet import *\n",
    "from utilities.metrics import *\n",
    "from utilities.utility_functions import *\n",
    "#######################################################################################################################################\n",
    "####################################################### CONFIG ADJUSTMENTS ############################################################\n",
    "#######################################################################################################################################\n",
    "\n",
    "config['lambda_net']['number_of_lambda_weights'] = get_number_of_lambda_net_parameters(lambda_network_layers, number_of_variables, num_classes)\n",
    "    \n",
    "#######################################################################################################################################\n",
    "################################################## UPDATE VARIABLES ###################################################################\n",
    "#######################################################################################################################################\n",
    "globals().update(config['function_family'])\n",
    "globals().update(config['data'])\n",
    "globals().update(config['lambda_net'])\n",
    "globals().update(config['evaluation'])\n",
    "globals().update(config['computation'])\n",
    "\n",
    "#initialize_utility_functions_config_from_curent_notebook(config)\n",
    "#initialize_LambdaNet_config_from_curent_notebook(config)\n",
    "#initialize_metrics_config_from_curent_notebook(config)\n",
    "\n",
    "#######################################################################################################################################\n",
    "###################################################### PATH + FOLDER CREATION #########################################################\n",
    "#######################################################################################################################################\n",
    "globals().update(generate_paths(config, path_type='lambda_net'))\n",
    "generate_directory_structure()\n",
    "generate_lambda_net_directory(config)\n",
    "\n",
    "#######################################################################################################################################\n",
    "############################################################ SLEEP TIMER ##############################################################\n",
    "#######################################################################################################################################\n",
    "sleep_minutes(sleep_time)"
   ]
  },
  {
   "cell_type": "code",
   "execution_count": 6,
   "metadata": {
    "execution": {
     "iopub.execute_input": "2022-01-07T19:26:15.510720Z",
     "iopub.status.busy": "2022-01-07T19:26:15.510142Z",
     "iopub.status.idle": "2022-01-07T19:26:15.521558Z",
     "shell.execute_reply": "2022-01-07T19:26:15.520079Z",
     "shell.execute_reply.started": "2022-01-07T19:26:15.510638Z"
    }
   },
   "outputs": [
    {
     "name": "stdout",
     "output_type": "stream",
     "text": [
      "lNetSize5000_numLNets10000_var9_class2_random_decision_tree_trained_xMax1_xMin0_xDistuniform_depth5_beta1_decisionSpars1_vanilla_fullyGrown/128_e1000ES0.01_b64_drop0_adam_binary_crossentropy_fixedInit1-seed42\n",
      "lNetSize5000_numDatasets10000_var9_class2_random_decision_tree_trained_xMax1_xMin0_xDistuniform_depth5_beta1_decisionSpars1_vanilla_fullyGrown\n"
     ]
    }
   ],
   "source": [
    "print(path_identifier_lambda_net_data)\n",
    "\n",
    "print(path_identifier_function_data)\n"
   ]
  },
  {
   "cell_type": "code",
   "execution_count": 7,
   "metadata": {
    "execution": {
     "iopub.execute_input": "2022-01-07T19:26:15.524066Z",
     "iopub.status.busy": "2022-01-07T19:26:15.523522Z",
     "iopub.status.idle": "2022-01-07T19:26:15.561653Z",
     "shell.execute_reply": "2022-01-07T19:26:15.560145Z",
     "shell.execute_reply.started": "2022-01-07T19:26:15.524007Z"
    }
   },
   "outputs": [
    {
     "name": "stdout",
     "output_type": "stream",
     "text": [
      "Num GPUs Available:  0\n",
      "Num XLA-GPUs Available:  0\n"
     ]
    }
   ],
   "source": [
    "print(\"Num GPUs Available: \", len(tf.config.experimental.list_physical_devices('GPU')))\n",
    "print(\"Num XLA-GPUs Available: \", len(tf.config.experimental.list_physical_devices('XLA_GPU')))"
   ]
  },
  {
   "cell_type": "code",
   "execution_count": 8,
   "metadata": {
    "execution": {
     "iopub.execute_input": "2022-01-07T19:26:15.564539Z",
     "iopub.status.busy": "2022-01-07T19:26:15.563623Z",
     "iopub.status.idle": "2022-01-07T19:26:15.581910Z",
     "shell.execute_reply": "2022-01-07T19:26:15.580294Z",
     "shell.execute_reply.started": "2022-01-07T19:26:15.564479Z"
    }
   },
   "outputs": [
    {
     "data": {
      "text/plain": [
       "[128]"
      ]
     },
     "execution_count": 8,
     "metadata": {},
     "output_type": "execute_result"
    }
   ],
   "source": [
    "lambda_network_layers"
   ]
  },
  {
   "cell_type": "code",
   "execution_count": 9,
   "metadata": {
    "ExecuteTime": {
     "end_time": "2021-01-17T09:46:11.182937Z",
     "start_time": "2021-01-17T09:44:31.797522Z"
    },
    "execution": {
     "iopub.execute_input": "2022-01-07T19:26:15.584578Z",
     "iopub.status.busy": "2022-01-07T19:26:15.583951Z",
     "iopub.status.idle": "2022-01-07T19:28:14.670172Z",
     "shell.execute_reply": "2022-01-07T19:28:14.669309Z",
     "shell.execute_reply.started": "2022-01-07T19:26:15.584519Z"
    }
   },
   "outputs": [],
   "source": [
    "path_functions = './data/saved_function_lists/functions_' + path_identifier_function_data + '.csv'\n",
    "function_df = pd.read_csv(path_functions)\n",
    "\n",
    "path_X_data = './data/saved_function_lists/X_data_' + path_identifier_function_data + '.pkl'\n",
    "with open(path_X_data, 'rb') as f:\n",
    "    X_data_list = pickle.load(f)\n",
    "    \n",
    "path_y_data = './data/saved_function_lists/y_data_' + path_identifier_function_data + '.pkl'\n",
    "with open(path_y_data, 'rb') as f:\n",
    "    y_data_list = pickle.load(f)\n",
    "    \n",
    "if number_of_trained_lambda_nets < number_of_generated_datasets:\n",
    "    function_df = function_df.sample(n=number_of_trained_lambda_nets, random_state=RANDOM_SEED)\n",
    "    random.seed(RANDOM_SEED)\n",
    "    X_data_list = random.sample(X_data_list, number_of_trained_lambda_nets)\n",
    "    random.seed(RANDOM_SEED)\n",
    "    y_data_list = random.sample(y_data_list, number_of_trained_lambda_nets)\n",
    "    random.seed(RANDOM_SEED)"
   ]
  },
  {
   "cell_type": "markdown",
   "metadata": {},
   "source": [
    "## Data Inspection"
   ]
  },
  {
   "cell_type": "code",
   "execution_count": 10,
   "metadata": {
    "execution": {
     "iopub.execute_input": "2022-01-07T19:28:14.672718Z",
     "iopub.status.busy": "2022-01-07T19:28:14.672495Z",
     "iopub.status.idle": "2022-01-07T19:28:14.739422Z",
     "shell.execute_reply": "2022-01-07T19:28:14.738784Z",
     "shell.execute_reply.started": "2022-01-07T19:28:14.672690Z"
    }
   },
   "outputs": [
    {
     "data": {
      "text/html": [
       "<div>\n",
       "<style scoped>\n",
       "    .dataframe tbody tr th:only-of-type {\n",
       "        vertical-align: middle;\n",
       "    }\n",
       "\n",
       "    .dataframe tbody tr th {\n",
       "        vertical-align: top;\n",
       "    }\n",
       "\n",
       "    .dataframe thead th {\n",
       "        text-align: right;\n",
       "    }\n",
       "</style>\n",
       "<table border=\"1\" class=\"dataframe\">\n",
       "  <thead>\n",
       "    <tr style=\"text-align: right;\">\n",
       "      <th></th>\n",
       "      <th>feat0</th>\n",
       "      <th>feat1</th>\n",
       "      <th>feat2</th>\n",
       "      <th>feat3</th>\n",
       "      <th>feat4</th>\n",
       "      <th>feat5</th>\n",
       "      <th>feat6</th>\n",
       "      <th>feat7</th>\n",
       "      <th>feat8</th>\n",
       "      <th>feat9</th>\n",
       "      <th>feat10</th>\n",
       "      <th>feat11</th>\n",
       "      <th>feat12</th>\n",
       "      <th>feat13</th>\n",
       "      <th>feat14</th>\n",
       "      <th>feat15</th>\n",
       "      <th>feat16</th>\n",
       "      <th>feat17</th>\n",
       "      <th>feat18</th>\n",
       "      <th>feat19</th>\n",
       "      <th>feat20</th>\n",
       "      <th>feat21</th>\n",
       "      <th>feat22</th>\n",
       "      <th>feat23</th>\n",
       "      <th>feat24</th>\n",
       "      <th>feat25</th>\n",
       "      <th>feat26</th>\n",
       "      <th>feat27</th>\n",
       "      <th>feat28</th>\n",
       "      <th>feat29</th>\n",
       "      <th>feat30</th>\n",
       "      <th>split0</th>\n",
       "      <th>split1</th>\n",
       "      <th>split2</th>\n",
       "      <th>split3</th>\n",
       "      <th>split4</th>\n",
       "      <th>split5</th>\n",
       "      <th>split6</th>\n",
       "      <th>split7</th>\n",
       "      <th>split8</th>\n",
       "      <th>split9</th>\n",
       "      <th>split10</th>\n",
       "      <th>split11</th>\n",
       "      <th>split12</th>\n",
       "      <th>split13</th>\n",
       "      <th>split14</th>\n",
       "      <th>split15</th>\n",
       "      <th>split16</th>\n",
       "      <th>split17</th>\n",
       "      <th>split18</th>\n",
       "      <th>split19</th>\n",
       "      <th>split20</th>\n",
       "      <th>split21</th>\n",
       "      <th>split22</th>\n",
       "      <th>split23</th>\n",
       "      <th>split24</th>\n",
       "      <th>split25</th>\n",
       "      <th>split26</th>\n",
       "      <th>split27</th>\n",
       "      <th>split28</th>\n",
       "      <th>split29</th>\n",
       "      <th>split30</th>\n",
       "      <th>lp0</th>\n",
       "      <th>lp1</th>\n",
       "      <th>lp2</th>\n",
       "      <th>lp3</th>\n",
       "      <th>lp4</th>\n",
       "      <th>lp5</th>\n",
       "      <th>lp6</th>\n",
       "      <th>lp7</th>\n",
       "      <th>lp8</th>\n",
       "      <th>lp9</th>\n",
       "      <th>lp10</th>\n",
       "      <th>lp11</th>\n",
       "      <th>lp12</th>\n",
       "      <th>lp13</th>\n",
       "      <th>lp14</th>\n",
       "      <th>lp15</th>\n",
       "      <th>lp16</th>\n",
       "      <th>lp17</th>\n",
       "      <th>lp18</th>\n",
       "      <th>lp19</th>\n",
       "      <th>lp20</th>\n",
       "      <th>lp21</th>\n",
       "      <th>lp22</th>\n",
       "      <th>lp23</th>\n",
       "      <th>lp24</th>\n",
       "      <th>lp25</th>\n",
       "      <th>lp26</th>\n",
       "      <th>lp27</th>\n",
       "      <th>lp28</th>\n",
       "      <th>lp29</th>\n",
       "      <th>lp30</th>\n",
       "      <th>lp31</th>\n",
       "    </tr>\n",
       "  </thead>\n",
       "  <tbody>\n",
       "    <tr>\n",
       "      <th>0</th>\n",
       "      <td>0.971</td>\n",
       "      <td>0.195</td>\n",
       "      <td>0.321</td>\n",
       "      <td>0.180</td>\n",
       "      <td>0.355</td>\n",
       "      <td>0.861</td>\n",
       "      <td>0.772</td>\n",
       "      <td>0.187</td>\n",
       "      <td>0.035</td>\n",
       "      <td>0.619</td>\n",
       "      <td>0.005</td>\n",
       "      <td>0.129</td>\n",
       "      <td>-1.000</td>\n",
       "      <td>0.527</td>\n",
       "      <td>0.810</td>\n",
       "      <td>0.910</td>\n",
       "      <td>-1.000</td>\n",
       "      <td>0.598</td>\n",
       "      <td>0.075</td>\n",
       "      <td>0.612</td>\n",
       "      <td>0.725</td>\n",
       "      <td>0.892</td>\n",
       "      <td>0.103</td>\n",
       "      <td>-1.000</td>\n",
       "      <td>0.075</td>\n",
       "      <td>-1.000</td>\n",
       "      <td>-1.000</td>\n",
       "      <td>0.696</td>\n",
       "      <td>1.000</td>\n",
       "      <td>-1.000</td>\n",
       "      <td>0.857</td>\n",
       "      <td>3.000</td>\n",
       "      <td>1.000</td>\n",
       "      <td>4.000</td>\n",
       "      <td>2.000</td>\n",
       "      <td>4.000</td>\n",
       "      <td>0.000</td>\n",
       "      <td>4.000</td>\n",
       "      <td>1.000</td>\n",
       "      <td>8.000</td>\n",
       "      <td>7.000</td>\n",
       "      <td>7.000</td>\n",
       "      <td>0.000</td>\n",
       "      <td>-1.000</td>\n",
       "      <td>8.000</td>\n",
       "      <td>4.000</td>\n",
       "      <td>7.000</td>\n",
       "      <td>-1.000</td>\n",
       "      <td>6.000</td>\n",
       "      <td>8.000</td>\n",
       "      <td>7.000</td>\n",
       "      <td>6.000</td>\n",
       "      <td>3.000</td>\n",
       "      <td>7.000</td>\n",
       "      <td>-1.000</td>\n",
       "      <td>4.000</td>\n",
       "      <td>-1.000</td>\n",
       "      <td>-1.000</td>\n",
       "      <td>6.000</td>\n",
       "      <td>3.000</td>\n",
       "      <td>-1.000</td>\n",
       "      <td>4.000</td>\n",
       "      <td>0.695</td>\n",
       "      <td>0.222</td>\n",
       "      <td>0.000</td>\n",
       "      <td>0.000</td>\n",
       "      <td>0.071</td>\n",
       "      <td>0.500</td>\n",
       "      <td>0.795</td>\n",
       "      <td>0.509</td>\n",
       "      <td>0.554</td>\n",
       "      <td>1.000</td>\n",
       "      <td>0.505</td>\n",
       "      <td>0.373</td>\n",
       "      <td>0.923</td>\n",
       "      <td>0.000</td>\n",
       "      <td>0.385</td>\n",
       "      <td>0.474</td>\n",
       "      <td>1.000</td>\n",
       "      <td>1.000</td>\n",
       "      <td>0.800</td>\n",
       "      <td>0.303</td>\n",
       "      <td>1.000</td>\n",
       "      <td>1.000</td>\n",
       "      <td>1.000</td>\n",
       "      <td>1.000</td>\n",
       "      <td>0.522</td>\n",
       "      <td>1.000</td>\n",
       "      <td>0.939</td>\n",
       "      <td>0.000</td>\n",
       "      <td>0.000</td>\n",
       "      <td>0.000</td>\n",
       "      <td>1.000</td>\n",
       "      <td>0.500</td>\n",
       "    </tr>\n",
       "    <tr>\n",
       "      <th>1</th>\n",
       "      <td>0.099</td>\n",
       "      <td>0.393</td>\n",
       "      <td>0.757</td>\n",
       "      <td>0.453</td>\n",
       "      <td>0.972</td>\n",
       "      <td>0.102</td>\n",
       "      <td>0.223</td>\n",
       "      <td>0.133</td>\n",
       "      <td>0.254</td>\n",
       "      <td>0.022</td>\n",
       "      <td>0.759</td>\n",
       "      <td>0.787</td>\n",
       "      <td>0.313</td>\n",
       "      <td>0.927</td>\n",
       "      <td>0.244</td>\n",
       "      <td>-1.000</td>\n",
       "      <td>0.865</td>\n",
       "      <td>0.070</td>\n",
       "      <td>0.303</td>\n",
       "      <td>0.790</td>\n",
       "      <td>0.492</td>\n",
       "      <td>-1.000</td>\n",
       "      <td>0.066</td>\n",
       "      <td>0.668</td>\n",
       "      <td>0.072</td>\n",
       "      <td>0.401</td>\n",
       "      <td>0.323</td>\n",
       "      <td>0.984</td>\n",
       "      <td>0.030</td>\n",
       "      <td>0.062</td>\n",
       "      <td>0.265</td>\n",
       "      <td>4.000</td>\n",
       "      <td>2.000</td>\n",
       "      <td>0.000</td>\n",
       "      <td>5.000</td>\n",
       "      <td>2.000</td>\n",
       "      <td>5.000</td>\n",
       "      <td>3.000</td>\n",
       "      <td>3.000</td>\n",
       "      <td>3.000</td>\n",
       "      <td>8.000</td>\n",
       "      <td>1.000</td>\n",
       "      <td>3.000</td>\n",
       "      <td>5.000</td>\n",
       "      <td>8.000</td>\n",
       "      <td>3.000</td>\n",
       "      <td>-1.000</td>\n",
       "      <td>7.000</td>\n",
       "      <td>3.000</td>\n",
       "      <td>0.000</td>\n",
       "      <td>6.000</td>\n",
       "      <td>2.000</td>\n",
       "      <td>-1.000</td>\n",
       "      <td>4.000</td>\n",
       "      <td>6.000</td>\n",
       "      <td>1.000</td>\n",
       "      <td>6.000</td>\n",
       "      <td>5.000</td>\n",
       "      <td>5.000</td>\n",
       "      <td>3.000</td>\n",
       "      <td>5.000</td>\n",
       "      <td>3.000</td>\n",
       "      <td>1.000</td>\n",
       "      <td>1.000</td>\n",
       "      <td>0.507</td>\n",
       "      <td>1.000</td>\n",
       "      <td>0.667</td>\n",
       "      <td>0.095</td>\n",
       "      <td>0.222</td>\n",
       "      <td>0.525</td>\n",
       "      <td>1.000</td>\n",
       "      <td>0.000</td>\n",
       "      <td>0.226</td>\n",
       "      <td>0.384</td>\n",
       "      <td>1.000</td>\n",
       "      <td>1.000</td>\n",
       "      <td>0.000</td>\n",
       "      <td>1.000</td>\n",
       "      <td>0.540</td>\n",
       "      <td>0.740</td>\n",
       "      <td>1.000</td>\n",
       "      <td>0.338</td>\n",
       "      <td>0.488</td>\n",
       "      <td>0.375</td>\n",
       "      <td>0.711</td>\n",
       "      <td>0.494</td>\n",
       "      <td>0.491</td>\n",
       "      <td>0.000</td>\n",
       "      <td>1.000</td>\n",
       "      <td>0.000</td>\n",
       "      <td>0.000</td>\n",
       "      <td>0.950</td>\n",
       "      <td>0.351</td>\n",
       "      <td>0.582</td>\n",
       "    </tr>\n",
       "    <tr>\n",
       "      <th>2</th>\n",
       "      <td>0.994</td>\n",
       "      <td>0.920</td>\n",
       "      <td>0.905</td>\n",
       "      <td>0.032</td>\n",
       "      <td>0.103</td>\n",
       "      <td>0.967</td>\n",
       "      <td>0.851</td>\n",
       "      <td>0.231</td>\n",
       "      <td>0.716</td>\n",
       "      <td>0.012</td>\n",
       "      <td>0.952</td>\n",
       "      <td>0.272</td>\n",
       "      <td>0.461</td>\n",
       "      <td>-1.000</td>\n",
       "      <td>-1.000</td>\n",
       "      <td>0.146</td>\n",
       "      <td>0.111</td>\n",
       "      <td>0.133</td>\n",
       "      <td>0.841</td>\n",
       "      <td>0.533</td>\n",
       "      <td>0.944</td>\n",
       "      <td>0.035</td>\n",
       "      <td>0.031</td>\n",
       "      <td>0.267</td>\n",
       "      <td>-1.000</td>\n",
       "      <td>-1.000</td>\n",
       "      <td>-1.000</td>\n",
       "      <td>-1.000</td>\n",
       "      <td>-1.000</td>\n",
       "      <td>-1.000</td>\n",
       "      <td>-1.000</td>\n",
       "      <td>5.000</td>\n",
       "      <td>4.000</td>\n",
       "      <td>6.000</td>\n",
       "      <td>1.000</td>\n",
       "      <td>3.000</td>\n",
       "      <td>3.000</td>\n",
       "      <td>1.000</td>\n",
       "      <td>6.000</td>\n",
       "      <td>4.000</td>\n",
       "      <td>3.000</td>\n",
       "      <td>2.000</td>\n",
       "      <td>0.000</td>\n",
       "      <td>7.000</td>\n",
       "      <td>-1.000</td>\n",
       "      <td>-1.000</td>\n",
       "      <td>5.000</td>\n",
       "      <td>3.000</td>\n",
       "      <td>4.000</td>\n",
       "      <td>2.000</td>\n",
       "      <td>7.000</td>\n",
       "      <td>5.000</td>\n",
       "      <td>5.000</td>\n",
       "      <td>5.000</td>\n",
       "      <td>0.000</td>\n",
       "      <td>-1.000</td>\n",
       "      <td>-1.000</td>\n",
       "      <td>-1.000</td>\n",
       "      <td>-1.000</td>\n",
       "      <td>-1.000</td>\n",
       "      <td>-1.000</td>\n",
       "      <td>-1.000</td>\n",
       "      <td>1.000</td>\n",
       "      <td>0.500</td>\n",
       "      <td>0.778</td>\n",
       "      <td>0.253</td>\n",
       "      <td>0.458</td>\n",
       "      <td>0.528</td>\n",
       "      <td>0.439</td>\n",
       "      <td>0.608</td>\n",
       "      <td>0.000</td>\n",
       "      <td>1.000</td>\n",
       "      <td>0.935</td>\n",
       "      <td>0.000</td>\n",
       "      <td>0.909</td>\n",
       "      <td>0.525</td>\n",
       "      <td>0.000</td>\n",
       "      <td>0.933</td>\n",
       "      <td>0.000</td>\n",
       "      <td>1.000</td>\n",
       "      <td>0.000</td>\n",
       "      <td>0.000</td>\n",
       "      <td>1.000</td>\n",
       "      <td>1.000</td>\n",
       "      <td>0.000</td>\n",
       "      <td>0.000</td>\n",
       "      <td>1.000</td>\n",
       "      <td>1.000</td>\n",
       "      <td>1.000</td>\n",
       "      <td>1.000</td>\n",
       "      <td>0.000</td>\n",
       "      <td>0.000</td>\n",
       "      <td>0.000</td>\n",
       "      <td>0.000</td>\n",
       "    </tr>\n",
       "    <tr>\n",
       "      <th>3</th>\n",
       "      <td>0.576</td>\n",
       "      <td>0.965</td>\n",
       "      <td>0.793</td>\n",
       "      <td>0.859</td>\n",
       "      <td>0.032</td>\n",
       "      <td>0.782</td>\n",
       "      <td>0.935</td>\n",
       "      <td>0.291</td>\n",
       "      <td>0.140</td>\n",
       "      <td>-1.000</td>\n",
       "      <td>0.020</td>\n",
       "      <td>0.728</td>\n",
       "      <td>0.358</td>\n",
       "      <td>0.023</td>\n",
       "      <td>0.920</td>\n",
       "      <td>0.519</td>\n",
       "      <td>0.470</td>\n",
       "      <td>0.584</td>\n",
       "      <td>0.984</td>\n",
       "      <td>-1.000</td>\n",
       "      <td>-1.000</td>\n",
       "      <td>-1.000</td>\n",
       "      <td>0.137</td>\n",
       "      <td>0.516</td>\n",
       "      <td>0.269</td>\n",
       "      <td>0.532</td>\n",
       "      <td>-1.000</td>\n",
       "      <td>-1.000</td>\n",
       "      <td>0.899</td>\n",
       "      <td>0.077</td>\n",
       "      <td>0.976</td>\n",
       "      <td>3.000</td>\n",
       "      <td>7.000</td>\n",
       "      <td>2.000</td>\n",
       "      <td>1.000</td>\n",
       "      <td>5.000</td>\n",
       "      <td>2.000</td>\n",
       "      <td>2.000</td>\n",
       "      <td>6.000</td>\n",
       "      <td>4.000</td>\n",
       "      <td>-1.000</td>\n",
       "      <td>1.000</td>\n",
       "      <td>7.000</td>\n",
       "      <td>4.000</td>\n",
       "      <td>4.000</td>\n",
       "      <td>3.000</td>\n",
       "      <td>0.000</td>\n",
       "      <td>7.000</td>\n",
       "      <td>5.000</td>\n",
       "      <td>1.000</td>\n",
       "      <td>-1.000</td>\n",
       "      <td>-1.000</td>\n",
       "      <td>-1.000</td>\n",
       "      <td>1.000</td>\n",
       "      <td>1.000</td>\n",
       "      <td>2.000</td>\n",
       "      <td>7.000</td>\n",
       "      <td>-1.000</td>\n",
       "      <td>-1.000</td>\n",
       "      <td>1.000</td>\n",
       "      <td>8.000</td>\n",
       "      <td>2.000</td>\n",
       "      <td>0.592</td>\n",
       "      <td>0.464</td>\n",
       "      <td>0.493</td>\n",
       "      <td>0.419</td>\n",
       "      <td>0.963</td>\n",
       "      <td>0.611</td>\n",
       "      <td>0.550</td>\n",
       "      <td>0.281</td>\n",
       "      <td>0.000</td>\n",
       "      <td>0.000</td>\n",
       "      <td>0.000</td>\n",
       "      <td>0.000</td>\n",
       "      <td>0.000</td>\n",
       "      <td>0.000</td>\n",
       "      <td>1.000</td>\n",
       "      <td>0.648</td>\n",
       "      <td>0.467</td>\n",
       "      <td>0.555</td>\n",
       "      <td>0.677</td>\n",
       "      <td>0.541</td>\n",
       "      <td>1.000</td>\n",
       "      <td>0.000</td>\n",
       "      <td>0.000</td>\n",
       "      <td>0.000</td>\n",
       "      <td>1.000</td>\n",
       "      <td>1.000</td>\n",
       "      <td>0.641</td>\n",
       "      <td>0.444</td>\n",
       "      <td>0.200</td>\n",
       "      <td>0.579</td>\n",
       "      <td>0.000</td>\n",
       "      <td>0.625</td>\n",
       "    </tr>\n",
       "    <tr>\n",
       "      <th>4</th>\n",
       "      <td>0.981</td>\n",
       "      <td>0.436</td>\n",
       "      <td>0.097</td>\n",
       "      <td>0.983</td>\n",
       "      <td>0.696</td>\n",
       "      <td>0.171</td>\n",
       "      <td>0.931</td>\n",
       "      <td>0.939</td>\n",
       "      <td>0.784</td>\n",
       "      <td>0.394</td>\n",
       "      <td>0.762</td>\n",
       "      <td>-1.000</td>\n",
       "      <td>0.872</td>\n",
       "      <td>0.882</td>\n",
       "      <td>0.731</td>\n",
       "      <td>0.930</td>\n",
       "      <td>0.066</td>\n",
       "      <td>0.012</td>\n",
       "      <td>0.374</td>\n",
       "      <td>0.034</td>\n",
       "      <td>0.929</td>\n",
       "      <td>0.979</td>\n",
       "      <td>0.297</td>\n",
       "      <td>-1.000</td>\n",
       "      <td>-1.000</td>\n",
       "      <td>-1.000</td>\n",
       "      <td>-1.000</td>\n",
       "      <td>0.454</td>\n",
       "      <td>0.305</td>\n",
       "      <td>-1.000</td>\n",
       "      <td>-1.000</td>\n",
       "      <td>4.000</td>\n",
       "      <td>8.000</td>\n",
       "      <td>0.000</td>\n",
       "      <td>3.000</td>\n",
       "      <td>8.000</td>\n",
       "      <td>5.000</td>\n",
       "      <td>8.000</td>\n",
       "      <td>6.000</td>\n",
       "      <td>2.000</td>\n",
       "      <td>1.000</td>\n",
       "      <td>8.000</td>\n",
       "      <td>-1.000</td>\n",
       "      <td>6.000</td>\n",
       "      <td>0.000</td>\n",
       "      <td>3.000</td>\n",
       "      <td>6.000</td>\n",
       "      <td>3.000</td>\n",
       "      <td>7.000</td>\n",
       "      <td>7.000</td>\n",
       "      <td>1.000</td>\n",
       "      <td>5.000</td>\n",
       "      <td>7.000</td>\n",
       "      <td>3.000</td>\n",
       "      <td>-1.000</td>\n",
       "      <td>-1.000</td>\n",
       "      <td>-1.000</td>\n",
       "      <td>-1.000</td>\n",
       "      <td>3.000</td>\n",
       "      <td>3.000</td>\n",
       "      <td>-1.000</td>\n",
       "      <td>-1.000</td>\n",
       "      <td>0.478</td>\n",
       "      <td>0.857</td>\n",
       "      <td>1.000</td>\n",
       "      <td>0.315</td>\n",
       "      <td>1.000</td>\n",
       "      <td>0.000</td>\n",
       "      <td>1.000</td>\n",
       "      <td>0.000</td>\n",
       "      <td>0.364</td>\n",
       "      <td>0.611</td>\n",
       "      <td>0.527</td>\n",
       "      <td>0.333</td>\n",
       "      <td>0.401</td>\n",
       "      <td>1.000</td>\n",
       "      <td>0.581</td>\n",
       "      <td>0.496</td>\n",
       "      <td>1.000</td>\n",
       "      <td>1.000</td>\n",
       "      <td>1.000</td>\n",
       "      <td>1.000</td>\n",
       "      <td>0.000</td>\n",
       "      <td>0.000</td>\n",
       "      <td>1.000</td>\n",
       "      <td>1.000</td>\n",
       "      <td>0.966</td>\n",
       "      <td>0.704</td>\n",
       "      <td>0.000</td>\n",
       "      <td>0.600</td>\n",
       "      <td>0.000</td>\n",
       "      <td>0.000</td>\n",
       "      <td>1.000</td>\n",
       "      <td>1.000</td>\n",
       "    </tr>\n",
       "  </tbody>\n",
       "</table>\n",
       "</div>"
      ],
      "text/plain": [
       "   feat0  feat1  feat2  feat3  feat4  feat5  feat6  feat7  feat8  feat9  \\\n",
       "0  0.971  0.195  0.321  0.180  0.355  0.861  0.772  0.187  0.035  0.619   \n",
       "1  0.099  0.393  0.757  0.453  0.972  0.102  0.223  0.133  0.254  0.022   \n",
       "2  0.994  0.920  0.905  0.032  0.103  0.967  0.851  0.231  0.716  0.012   \n",
       "3  0.576  0.965  0.793  0.859  0.032  0.782  0.935  0.291  0.140 -1.000   \n",
       "4  0.981  0.436  0.097  0.983  0.696  0.171  0.931  0.939  0.784  0.394   \n",
       "\n",
       "   feat10  feat11  feat12  feat13  feat14  feat15  feat16  feat17  feat18  \\\n",
       "0   0.005   0.129  -1.000   0.527   0.810   0.910  -1.000   0.598   0.075   \n",
       "1   0.759   0.787   0.313   0.927   0.244  -1.000   0.865   0.070   0.303   \n",
       "2   0.952   0.272   0.461  -1.000  -1.000   0.146   0.111   0.133   0.841   \n",
       "3   0.020   0.728   0.358   0.023   0.920   0.519   0.470   0.584   0.984   \n",
       "4   0.762  -1.000   0.872   0.882   0.731   0.930   0.066   0.012   0.374   \n",
       "\n",
       "   feat19  feat20  feat21  feat22  feat23  feat24  feat25  feat26  feat27  \\\n",
       "0   0.612   0.725   0.892   0.103  -1.000   0.075  -1.000  -1.000   0.696   \n",
       "1   0.790   0.492  -1.000   0.066   0.668   0.072   0.401   0.323   0.984   \n",
       "2   0.533   0.944   0.035   0.031   0.267  -1.000  -1.000  -1.000  -1.000   \n",
       "3  -1.000  -1.000  -1.000   0.137   0.516   0.269   0.532  -1.000  -1.000   \n",
       "4   0.034   0.929   0.979   0.297  -1.000  -1.000  -1.000  -1.000   0.454   \n",
       "\n",
       "   feat28  feat29  feat30  split0  split1  split2  split3  split4  split5  \\\n",
       "0   1.000  -1.000   0.857   3.000   1.000   4.000   2.000   4.000   0.000   \n",
       "1   0.030   0.062   0.265   4.000   2.000   0.000   5.000   2.000   5.000   \n",
       "2  -1.000  -1.000  -1.000   5.000   4.000   6.000   1.000   3.000   3.000   \n",
       "3   0.899   0.077   0.976   3.000   7.000   2.000   1.000   5.000   2.000   \n",
       "4   0.305  -1.000  -1.000   4.000   8.000   0.000   3.000   8.000   5.000   \n",
       "\n",
       "   split6  split7  split8  split9  split10  split11  split12  split13  \\\n",
       "0   4.000   1.000   8.000   7.000    7.000    0.000   -1.000    8.000   \n",
       "1   3.000   3.000   3.000   8.000    1.000    3.000    5.000    8.000   \n",
       "2   1.000   6.000   4.000   3.000    2.000    0.000    7.000   -1.000   \n",
       "3   2.000   6.000   4.000  -1.000    1.000    7.000    4.000    4.000   \n",
       "4   8.000   6.000   2.000   1.000    8.000   -1.000    6.000    0.000   \n",
       "\n",
       "   split14  split15  split16  split17  split18  split19  split20  split21  \\\n",
       "0    4.000    7.000   -1.000    6.000    8.000    7.000    6.000    3.000   \n",
       "1    3.000   -1.000    7.000    3.000    0.000    6.000    2.000   -1.000   \n",
       "2   -1.000    5.000    3.000    4.000    2.000    7.000    5.000    5.000   \n",
       "3    3.000    0.000    7.000    5.000    1.000   -1.000   -1.000   -1.000   \n",
       "4    3.000    6.000    3.000    7.000    7.000    1.000    5.000    7.000   \n",
       "\n",
       "   split22  split23  split24  split25  split26  split27  split28  split29  \\\n",
       "0    7.000   -1.000    4.000   -1.000   -1.000    6.000    3.000   -1.000   \n",
       "1    4.000    6.000    1.000    6.000    5.000    5.000    3.000    5.000   \n",
       "2    5.000    0.000   -1.000   -1.000   -1.000   -1.000   -1.000   -1.000   \n",
       "3    1.000    1.000    2.000    7.000   -1.000   -1.000    1.000    8.000   \n",
       "4    3.000   -1.000   -1.000   -1.000   -1.000    3.000    3.000   -1.000   \n",
       "\n",
       "   split30   lp0   lp1   lp2   lp3   lp4   lp5   lp6   lp7   lp8   lp9  lp10  \\\n",
       "0    4.000 0.695 0.222 0.000 0.000 0.071 0.500 0.795 0.509 0.554 1.000 0.505   \n",
       "1    3.000 1.000 1.000 0.507 1.000 0.667 0.095 0.222 0.525 1.000 0.000 0.226   \n",
       "2   -1.000 1.000 0.500 0.778 0.253 0.458 0.528 0.439 0.608 0.000 1.000 0.935   \n",
       "3    2.000 0.592 0.464 0.493 0.419 0.963 0.611 0.550 0.281 0.000 0.000 0.000   \n",
       "4   -1.000 0.478 0.857 1.000 0.315 1.000 0.000 1.000 0.000 0.364 0.611 0.527   \n",
       "\n",
       "   lp11  lp12  lp13  lp14  lp15  lp16  lp17  lp18  lp19  lp20  lp21  lp22  \\\n",
       "0 0.373 0.923 0.000 0.385 0.474 1.000 1.000 0.800 0.303 1.000 1.000 1.000   \n",
       "1 0.384 1.000 1.000 0.000 1.000 0.540 0.740 1.000 0.338 0.488 0.375 0.711   \n",
       "2 0.000 0.909 0.525 0.000 0.933 0.000 1.000 0.000 0.000 1.000 1.000 0.000   \n",
       "3 0.000 0.000 0.000 1.000 0.648 0.467 0.555 0.677 0.541 1.000 0.000 0.000   \n",
       "4 0.333 0.401 1.000 0.581 0.496 1.000 1.000 1.000 1.000 0.000 0.000 1.000   \n",
       "\n",
       "   lp23  lp24  lp25  lp26  lp27  lp28  lp29  lp30  lp31  \n",
       "0 1.000 0.522 1.000 0.939 0.000 0.000 0.000 1.000 0.500  \n",
       "1 0.494 0.491 0.000 1.000 0.000 0.000 0.950 0.351 0.582  \n",
       "2 0.000 1.000 1.000 1.000 1.000 0.000 0.000 0.000 0.000  \n",
       "3 0.000 1.000 1.000 0.641 0.444 0.200 0.579 0.000 0.625  \n",
       "4 1.000 0.966 0.704 0.000 0.600 0.000 0.000 1.000 1.000  "
      ]
     },
     "execution_count": 10,
     "metadata": {},
     "output_type": "execute_result"
    }
   ],
   "source": [
    "function_df.head()"
   ]
  },
  {
   "cell_type": "code",
   "execution_count": 11,
   "metadata": {
    "execution": {
     "iopub.execute_input": "2022-01-07T19:28:14.740583Z",
     "iopub.status.busy": "2022-01-07T19:28:14.740373Z",
     "iopub.status.idle": "2022-01-07T19:28:14.746426Z",
     "shell.execute_reply": "2022-01-07T19:28:14.745798Z",
     "shell.execute_reply.started": "2022-01-07T19:28:14.740556Z"
    }
   },
   "outputs": [
    {
     "data": {
      "text/plain": [
       "feat0   0.971\n",
       "feat1   0.195\n",
       "feat2   0.321\n",
       "feat3   0.180\n",
       "feat4   0.355\n",
       "feat5   0.861\n",
       "feat6   0.772\n",
       "feat7   0.187\n",
       "feat8   0.035\n",
       "feat9   0.619\n",
       "dtype: float64"
      ]
     },
     "execution_count": 11,
     "metadata": {},
     "output_type": "execute_result"
    }
   ],
   "source": [
    "X_data_list[0][0].head(10)"
   ]
  },
  {
   "cell_type": "code",
   "execution_count": 12,
   "metadata": {
    "ExecuteTime": {
     "end_time": "2021-01-17T09:46:12.626401Z",
     "start_time": "2021-01-17T09:46:12.608200Z"
    },
    "execution": {
     "iopub.execute_input": "2022-01-07T19:28:14.747579Z",
     "iopub.status.busy": "2022-01-07T19:28:14.747369Z",
     "iopub.status.idle": "2022-01-07T19:28:14.763953Z",
     "shell.execute_reply": "2022-01-07T19:28:14.763332Z",
     "shell.execute_reply.started": "2022-01-07T19:28:14.747553Z"
    }
   },
   "outputs": [
    {
     "data": {
      "text/html": [
       "<div>\n",
       "<style scoped>\n",
       "    .dataframe tbody tr th:only-of-type {\n",
       "        vertical-align: middle;\n",
       "    }\n",
       "\n",
       "    .dataframe tbody tr th {\n",
       "        vertical-align: top;\n",
       "    }\n",
       "\n",
       "    .dataframe thead th {\n",
       "        text-align: right;\n",
       "    }\n",
       "</style>\n",
       "<table border=\"1\" class=\"dataframe\">\n",
       "  <thead>\n",
       "    <tr style=\"text-align: right;\">\n",
       "      <th></th>\n",
       "      <th>x0</th>\n",
       "      <th>x1</th>\n",
       "      <th>x2</th>\n",
       "      <th>x3</th>\n",
       "      <th>x4</th>\n",
       "      <th>x5</th>\n",
       "      <th>x6</th>\n",
       "      <th>x7</th>\n",
       "      <th>x8</th>\n",
       "    </tr>\n",
       "  </thead>\n",
       "  <tbody>\n",
       "    <tr>\n",
       "      <th>0</th>\n",
       "      <td>0.375</td>\n",
       "      <td>0.951</td>\n",
       "      <td>0.732</td>\n",
       "      <td>0.599</td>\n",
       "      <td>0.156</td>\n",
       "      <td>0.156</td>\n",
       "      <td>0.058</td>\n",
       "      <td>0.866</td>\n",
       "      <td>0.601</td>\n",
       "    </tr>\n",
       "    <tr>\n",
       "      <th>1</th>\n",
       "      <td>0.708</td>\n",
       "      <td>0.021</td>\n",
       "      <td>0.970</td>\n",
       "      <td>0.832</td>\n",
       "      <td>0.212</td>\n",
       "      <td>0.182</td>\n",
       "      <td>0.183</td>\n",
       "      <td>0.304</td>\n",
       "      <td>0.525</td>\n",
       "    </tr>\n",
       "    <tr>\n",
       "      <th>2</th>\n",
       "      <td>0.432</td>\n",
       "      <td>0.291</td>\n",
       "      <td>0.612</td>\n",
       "      <td>0.139</td>\n",
       "      <td>0.292</td>\n",
       "      <td>0.366</td>\n",
       "      <td>0.456</td>\n",
       "      <td>0.785</td>\n",
       "      <td>0.200</td>\n",
       "    </tr>\n",
       "    <tr>\n",
       "      <th>3</th>\n",
       "      <td>0.514</td>\n",
       "      <td>0.592</td>\n",
       "      <td>0.046</td>\n",
       "      <td>0.608</td>\n",
       "      <td>0.171</td>\n",
       "      <td>0.065</td>\n",
       "      <td>0.949</td>\n",
       "      <td>0.966</td>\n",
       "      <td>0.808</td>\n",
       "    </tr>\n",
       "    <tr>\n",
       "      <th>4</th>\n",
       "      <td>0.305</td>\n",
       "      <td>0.098</td>\n",
       "      <td>0.684</td>\n",
       "      <td>0.440</td>\n",
       "      <td>0.122</td>\n",
       "      <td>0.495</td>\n",
       "      <td>0.034</td>\n",
       "      <td>0.909</td>\n",
       "      <td>0.259</td>\n",
       "    </tr>\n",
       "    <tr>\n",
       "      <th>5</th>\n",
       "      <td>0.663</td>\n",
       "      <td>0.312</td>\n",
       "      <td>0.520</td>\n",
       "      <td>0.547</td>\n",
       "      <td>0.185</td>\n",
       "      <td>0.970</td>\n",
       "      <td>0.775</td>\n",
       "      <td>0.939</td>\n",
       "      <td>0.895</td>\n",
       "    </tr>\n",
       "    <tr>\n",
       "      <th>6</th>\n",
       "      <td>0.598</td>\n",
       "      <td>0.922</td>\n",
       "      <td>0.088</td>\n",
       "      <td>0.196</td>\n",
       "      <td>0.045</td>\n",
       "      <td>0.325</td>\n",
       "      <td>0.389</td>\n",
       "      <td>0.271</td>\n",
       "      <td>0.829</td>\n",
       "    </tr>\n",
       "    <tr>\n",
       "      <th>7</th>\n",
       "      <td>0.357</td>\n",
       "      <td>0.281</td>\n",
       "      <td>0.543</td>\n",
       "      <td>0.141</td>\n",
       "      <td>0.802</td>\n",
       "      <td>0.075</td>\n",
       "      <td>0.987</td>\n",
       "      <td>0.772</td>\n",
       "      <td>0.199</td>\n",
       "    </tr>\n",
       "    <tr>\n",
       "      <th>8</th>\n",
       "      <td>0.006</td>\n",
       "      <td>0.815</td>\n",
       "      <td>0.707</td>\n",
       "      <td>0.729</td>\n",
       "      <td>0.771</td>\n",
       "      <td>0.074</td>\n",
       "      <td>0.358</td>\n",
       "      <td>0.116</td>\n",
       "      <td>0.863</td>\n",
       "    </tr>\n",
       "    <tr>\n",
       "      <th>9</th>\n",
       "      <td>0.623</td>\n",
       "      <td>0.331</td>\n",
       "      <td>0.064</td>\n",
       "      <td>0.311</td>\n",
       "      <td>0.325</td>\n",
       "      <td>0.730</td>\n",
       "      <td>0.638</td>\n",
       "      <td>0.887</td>\n",
       "      <td>0.472</td>\n",
       "    </tr>\n",
       "  </tbody>\n",
       "</table>\n",
       "</div>"
      ],
      "text/plain": [
       "     x0    x1    x2    x3    x4    x5    x6    x7    x8\n",
       "0 0.375 0.951 0.732 0.599 0.156 0.156 0.058 0.866 0.601\n",
       "1 0.708 0.021 0.970 0.832 0.212 0.182 0.183 0.304 0.525\n",
       "2 0.432 0.291 0.612 0.139 0.292 0.366 0.456 0.785 0.200\n",
       "3 0.514 0.592 0.046 0.608 0.171 0.065 0.949 0.966 0.808\n",
       "4 0.305 0.098 0.684 0.440 0.122 0.495 0.034 0.909 0.259\n",
       "5 0.663 0.312 0.520 0.547 0.185 0.970 0.775 0.939 0.895\n",
       "6 0.598 0.922 0.088 0.196 0.045 0.325 0.389 0.271 0.829\n",
       "7 0.357 0.281 0.543 0.141 0.802 0.075 0.987 0.772 0.199\n",
       "8 0.006 0.815 0.707 0.729 0.771 0.074 0.358 0.116 0.863\n",
       "9 0.623 0.331 0.064 0.311 0.325 0.730 0.638 0.887 0.472"
      ]
     },
     "execution_count": 12,
     "metadata": {},
     "output_type": "execute_result"
    }
   ],
   "source": [
    "X_data_list[0][1].head(10)"
   ]
  },
  {
   "cell_type": "code",
   "execution_count": 13,
   "metadata": {
    "execution": {
     "iopub.execute_input": "2022-01-07T19:28:14.767721Z",
     "iopub.status.busy": "2022-01-07T19:28:14.767528Z",
     "iopub.status.idle": "2022-01-07T19:28:14.772995Z",
     "shell.execute_reply": "2022-01-07T19:28:14.772342Z",
     "shell.execute_reply.started": "2022-01-07T19:28:14.767697Z"
    }
   },
   "outputs": [
    {
     "data": {
      "text/plain": [
       "feat0   0.971\n",
       "feat1   0.195\n",
       "feat2   0.321\n",
       "feat3   0.180\n",
       "feat4   0.355\n",
       "feat5   0.861\n",
       "feat6   0.772\n",
       "feat7   0.187\n",
       "feat8   0.035\n",
       "feat9   0.619\n",
       "dtype: float64"
      ]
     },
     "execution_count": 13,
     "metadata": {},
     "output_type": "execute_result"
    }
   ],
   "source": [
    "y_data_list[0][0].head(10)"
   ]
  },
  {
   "cell_type": "code",
   "execution_count": 14,
   "metadata": {
    "ExecuteTime": {
     "end_time": "2021-01-17T09:46:12.636995Z",
     "start_time": "2021-01-17T09:46:12.629349Z"
    },
    "execution": {
     "iopub.execute_input": "2022-01-07T19:28:14.774028Z",
     "iopub.status.busy": "2022-01-07T19:28:14.773768Z",
     "iopub.status.idle": "2022-01-07T19:28:14.780680Z",
     "shell.execute_reply": "2022-01-07T19:28:14.780108Z",
     "shell.execute_reply.started": "2022-01-07T19:28:14.774003Z"
    }
   },
   "outputs": [
    {
     "data": {
      "text/html": [
       "<div>\n",
       "<style scoped>\n",
       "    .dataframe tbody tr th:only-of-type {\n",
       "        vertical-align: middle;\n",
       "    }\n",
       "\n",
       "    .dataframe tbody tr th {\n",
       "        vertical-align: top;\n",
       "    }\n",
       "\n",
       "    .dataframe thead th {\n",
       "        text-align: right;\n",
       "    }\n",
       "</style>\n",
       "<table border=\"1\" class=\"dataframe\">\n",
       "  <thead>\n",
       "    <tr style=\"text-align: right;\">\n",
       "      <th></th>\n",
       "      <th>result</th>\n",
       "    </tr>\n",
       "  </thead>\n",
       "  <tbody>\n",
       "    <tr>\n",
       "      <th>0</th>\n",
       "      <td>0</td>\n",
       "    </tr>\n",
       "    <tr>\n",
       "      <th>1</th>\n",
       "      <td>0</td>\n",
       "    </tr>\n",
       "    <tr>\n",
       "      <th>2</th>\n",
       "      <td>0</td>\n",
       "    </tr>\n",
       "    <tr>\n",
       "      <th>3</th>\n",
       "      <td>1</td>\n",
       "    </tr>\n",
       "    <tr>\n",
       "      <th>4</th>\n",
       "      <td>0</td>\n",
       "    </tr>\n",
       "    <tr>\n",
       "      <th>5</th>\n",
       "      <td>1</td>\n",
       "    </tr>\n",
       "    <tr>\n",
       "      <th>6</th>\n",
       "      <td>0</td>\n",
       "    </tr>\n",
       "    <tr>\n",
       "      <th>7</th>\n",
       "      <td>1</td>\n",
       "    </tr>\n",
       "    <tr>\n",
       "      <th>8</th>\n",
       "      <td>1</td>\n",
       "    </tr>\n",
       "    <tr>\n",
       "      <th>9</th>\n",
       "      <td>0</td>\n",
       "    </tr>\n",
       "  </tbody>\n",
       "</table>\n",
       "</div>"
      ],
      "text/plain": [
       "   result\n",
       "0       0\n",
       "1       0\n",
       "2       0\n",
       "3       1\n",
       "4       0\n",
       "5       1\n",
       "6       0\n",
       "7       1\n",
       "8       1\n",
       "9       0"
      ]
     },
     "execution_count": 14,
     "metadata": {},
     "output_type": "execute_result"
    }
   ],
   "source": [
    "y_data_list[0][1].head(10)"
   ]
  },
  {
   "cell_type": "code",
   "execution_count": 15,
   "metadata": {
    "execution": {
     "iopub.execute_input": "2022-01-07T19:28:14.781773Z",
     "iopub.status.busy": "2022-01-07T19:28:14.781537Z",
     "iopub.status.idle": "2022-01-07T19:28:29.847168Z",
     "shell.execute_reply": "2022-01-07T19:28:29.845809Z",
     "shell.execute_reply.started": "2022-01-07T19:28:14.781749Z"
    }
   },
   "outputs": [
    {
     "data": {
      "image/png": "[encoded data removed]",
      "text/plain": [
       "<IPython.core.display.Image object>"
      ]
     },
     "execution_count": 15,
     "metadata": {},
     "output_type": "execute_result"
    }
   ],
   "source": [
    "plot = None\n",
    "if plot_tree_from_parameters != 'make_classification':\n",
    "    plot = plot_tree_from_parameters(y_data_list[0][0].values, config)\n",
    "plot"
   ]
  },
  {
   "cell_type": "code",
   "execution_count": 16,
   "metadata": {
    "execution": {
     "iopub.execute_input": "2022-01-07T19:28:29.849521Z",
     "iopub.status.busy": "2022-01-07T19:28:29.849175Z",
     "iopub.status.idle": "2022-01-07T19:28:29.869568Z",
     "shell.execute_reply": "2022-01-07T19:28:29.868631Z",
     "shell.execute_reply.started": "2022-01-07T19:28:29.849478Z"
    }
   },
   "outputs": [],
   "source": [
    "def inject_noise(y_data, noise=0.0, noise_dist='normal', seed=42):\n",
    "    \"\"\"\n",
    "    Returns a polynomial injected with specified noise type and amount. \n",
    "    Inputs a clean polynomial array with x-data and y-data and modifies the y-data according to the noise settings.\n",
    "    \"\"\"\n",
    "    np.random.seed(seed)\n",
    "    \n",
    "    #Calculate range of function values of input polynomial\n",
    "    range_values_fv = np.ptp(y_data[1].values)\n",
    "    \n",
    "    #Selection of noise type\n",
    "    #Available types: normal, uniform, A, B, C\n",
    "    if noise_dist=='normal':\n",
    "        noise_sample=noise*np.random.normal(loc=0, scale=1.0,size=y_data[1].shape[0])\n",
    "    elif noise_dist=='uniform':\n",
    "        noise_sample=noise*np.random.uniform(low=0, high=1.0,size=y_data[1].shape[0])\n",
    "    elif noise_dist=='normal_range':\n",
    "        #Normal distribution adjusted to function value range\n",
    "        noise_sample=(noise*range_values_fv)*np.random.normal(loc=0, scale=1.0,size=y_data[1].shape[0])\n",
    "    elif noise_dist=='uniform_range':\n",
    "        noise_sample=(noise*range_values_fv)*np.random.normal(loc=0, scale=1.0,size=y_data[1].shape[0])\n",
    "    elif noise_dist=='flip_percentage':\n",
    "        idx = np.random.choice(y_data[1].shape[0], int(y_data[1].shape[0]*noise), replace=False)\n",
    "        y_data[1].iloc[idx] = (y_data[1].iloc[idx] + 1) % 2 \n",
    "        #y_data[1].reshape(-1, 1)\n",
    "        return y_data\n",
    "    else:\n",
    "        #no noise\n",
    "        noise_sample = np.zeros(y_data[1].shape[0])\n",
    "                               \n",
    "    noise_sample=noise_sample.reshape(-1,1)\n",
    "    \n",
    "    y_data[1]=y_data[1]+noise_sample\n",
    "    \n",
    "    return np.clip(y_data, 0, 1)"
   ]
  },
  {
   "cell_type": "code",
   "execution_count": 17,
   "metadata": {
    "execution": {
     "iopub.execute_input": "2022-01-07T19:28:29.871409Z",
     "iopub.status.busy": "2022-01-07T19:28:29.870998Z",
     "iopub.status.idle": "2022-01-07T19:28:29.880848Z",
     "shell.execute_reply": "2022-01-07T19:28:29.879834Z",
     "shell.execute_reply.started": "2022-01-07T19:28:29.871368Z"
    }
   },
   "outputs": [],
   "source": [
    "if noise_injected_level > 0:\n",
    "    parallel = Parallel(n_jobs=n_jobs, verbose=3, backend='loky')\n",
    "    y_data_list = parallel(delayed(inject_noise)(y_data=y_data_list[i],\n",
    "                                                 noise=noise_injected_level,\n",
    "                                                 noise_dist=noise_injected_type, \n",
    "                                                 seed=RANDOM_SEED+i) for i in range(len(y_data_list)))\n"
   ]
  },
  {
   "cell_type": "code",
   "execution_count": 18,
   "metadata": {
    "execution": {
     "iopub.execute_input": "2022-01-07T19:28:29.882681Z",
     "iopub.status.busy": "2022-01-07T19:28:29.882203Z",
     "iopub.status.idle": "2022-01-07T19:28:29.894378Z",
     "shell.execute_reply": "2022-01-07T19:28:29.893697Z",
     "shell.execute_reply.started": "2022-01-07T19:28:29.882642Z"
    }
   },
   "outputs": [
    {
     "data": {
      "text/plain": [
       "feat0   0.971\n",
       "feat1   0.195\n",
       "feat2   0.321\n",
       "feat3   0.180\n",
       "feat4   0.355\n",
       "feat5   0.861\n",
       "feat6   0.772\n",
       "feat7   0.187\n",
       "feat8   0.035\n",
       "feat9   0.619\n",
       "dtype: float64"
      ]
     },
     "execution_count": 18,
     "metadata": {},
     "output_type": "execute_result"
    }
   ],
   "source": [
    "y_data_list[0][0].head(10)"
   ]
  },
  {
   "cell_type": "code",
   "execution_count": 19,
   "metadata": {
    "execution": {
     "iopub.execute_input": "2022-01-07T19:28:29.896043Z",
     "iopub.status.busy": "2022-01-07T19:28:29.895518Z",
     "iopub.status.idle": "2022-01-07T19:28:29.908789Z",
     "shell.execute_reply": "2022-01-07T19:28:29.908132Z",
     "shell.execute_reply.started": "2022-01-07T19:28:29.896004Z"
    }
   },
   "outputs": [
    {
     "data": {
      "text/plain": [
       "feat0   0.971\n",
       "feat1   0.195\n",
       "feat2   0.321\n",
       "feat3   0.180\n",
       "feat4   0.355\n",
       "         ... \n",
       "lp27    0.000\n",
       "lp28    0.000\n",
       "lp29    0.000\n",
       "lp30    1.000\n",
       "lp31    0.500\n",
       "Length: 94, dtype: float64"
      ]
     },
     "execution_count": 19,
     "metadata": {},
     "output_type": "execute_result"
    }
   ],
   "source": [
    "y_data_list[0][0]"
   ]
  },
  {
   "cell_type": "code",
   "execution_count": 20,
   "metadata": {
    "execution": {
     "iopub.execute_input": "2022-01-07T19:28:29.910876Z",
     "iopub.status.busy": "2022-01-07T19:28:29.910444Z",
     "iopub.status.idle": "2022-01-07T19:28:29.926617Z",
     "shell.execute_reply": "2022-01-07T19:28:29.925565Z",
     "shell.execute_reply.started": "2022-01-07T19:28:29.910822Z"
    }
   },
   "outputs": [
    {
     "data": {
      "text/html": [
       "<div>\n",
       "<style scoped>\n",
       "    .dataframe tbody tr th:only-of-type {\n",
       "        vertical-align: middle;\n",
       "    }\n",
       "\n",
       "    .dataframe tbody tr th {\n",
       "        vertical-align: top;\n",
       "    }\n",
       "\n",
       "    .dataframe thead th {\n",
       "        text-align: right;\n",
       "    }\n",
       "</style>\n",
       "<table border=\"1\" class=\"dataframe\">\n",
       "  <thead>\n",
       "    <tr style=\"text-align: right;\">\n",
       "      <th></th>\n",
       "      <th>result</th>\n",
       "    </tr>\n",
       "  </thead>\n",
       "  <tbody>\n",
       "    <tr>\n",
       "      <th>0</th>\n",
       "      <td>0</td>\n",
       "    </tr>\n",
       "    <tr>\n",
       "      <th>1</th>\n",
       "      <td>0</td>\n",
       "    </tr>\n",
       "    <tr>\n",
       "      <th>2</th>\n",
       "      <td>0</td>\n",
       "    </tr>\n",
       "    <tr>\n",
       "      <th>3</th>\n",
       "      <td>1</td>\n",
       "    </tr>\n",
       "    <tr>\n",
       "      <th>4</th>\n",
       "      <td>0</td>\n",
       "    </tr>\n",
       "    <tr>\n",
       "      <th>5</th>\n",
       "      <td>1</td>\n",
       "    </tr>\n",
       "    <tr>\n",
       "      <th>6</th>\n",
       "      <td>0</td>\n",
       "    </tr>\n",
       "    <tr>\n",
       "      <th>7</th>\n",
       "      <td>1</td>\n",
       "    </tr>\n",
       "    <tr>\n",
       "      <th>8</th>\n",
       "      <td>1</td>\n",
       "    </tr>\n",
       "    <tr>\n",
       "      <th>9</th>\n",
       "      <td>0</td>\n",
       "    </tr>\n",
       "  </tbody>\n",
       "</table>\n",
       "</div>"
      ],
      "text/plain": [
       "   result\n",
       "0       0\n",
       "1       0\n",
       "2       0\n",
       "3       1\n",
       "4       0\n",
       "5       1\n",
       "6       0\n",
       "7       1\n",
       "8       1\n",
       "9       0"
      ]
     },
     "execution_count": 20,
     "metadata": {},
     "output_type": "execute_result"
    }
   ],
   "source": [
    "y_data_list[0][1].head(10)"
   ]
  },
  {
   "cell_type": "markdown",
   "metadata": {
    "ExecuteTime": {
     "end_time": "2020-09-16T17:06:36.919643Z",
     "start_time": "2020-09-16T17:06:36.912904Z"
    }
   },
   "source": [
    "## Lambda Network Training + Weigh/Bias saving"
   ]
  },
  {
   "cell_type": "code",
   "execution_count": 21,
   "metadata": {
    "execution": {
     "iopub.execute_input": "2022-01-07T19:28:29.928154Z",
     "iopub.status.busy": "2022-01-07T19:28:29.927870Z",
     "iopub.status.idle": "2022-01-07T19:28:29.933778Z",
     "shell.execute_reply": "2022-01-07T19:28:29.932913Z",
     "shell.execute_reply.started": "2022-01-07T19:28:29.928113Z"
    }
   },
   "outputs": [],
   "source": [
    "#%load_ext autoreload"
   ]
  },
  {
   "cell_type": "code",
   "execution_count": 22,
   "metadata": {
    "execution": {
     "iopub.execute_input": "2022-01-07T19:28:29.936070Z",
     "iopub.status.busy": "2022-01-07T19:28:29.935567Z",
     "iopub.status.idle": "2022-01-07T19:28:29.943614Z",
     "shell.execute_reply": "2022-01-07T19:28:29.942615Z",
     "shell.execute_reply.started": "2022-01-07T19:28:29.936043Z"
    }
   },
   "outputs": [],
   "source": [
    "rand_index = np.random.randint(number_of_trained_lambda_nets)\n",
    "\n",
    "#rand_tree = generate_decision_tree_from_array(y_data_list[rand_index][0].values, config)\n",
    "#rand_tree.plot_tree()"
   ]
  },
  {
   "cell_type": "code",
   "execution_count": 23,
   "metadata": {
    "execution": {
     "iopub.execute_input": "2022-01-07T19:28:29.945732Z",
     "iopub.status.busy": "2022-01-07T19:28:29.945292Z",
     "iopub.status.idle": "2022-01-07T19:31:28.783274Z",
     "shell.execute_reply": "2022-01-07T19:31:28.782523Z",
     "shell.execute_reply.started": "2022-01-07T19:28:29.945705Z"
    }
   },
   "outputs": [
    {
     "data": {
      "image/png": "[encoded data removed]",
      "text/plain": [
       "<Figure size 864x576 with 2 Axes>"
      ]
     },
     "metadata": {},
     "output_type": "display_data"
    },
    {
     "name": "stdout",
     "output_type": "stream",
     "text": [
      "binary_accuracy\n",
      "\ttraining         \t (min:    0.663, max:    0.935, cur:    0.934)\n",
      "\tvalidation       \t (min:    0.672, max:    0.917, cur:    0.907)\n",
      "Loss\n",
      "\ttraining         \t (min:    0.181, max:    0.624, cur:    0.182)\n",
      "\tvalidation       \t (min:    0.197, max:    0.599, cur:    0.207)\n"
     ]
    }
   ],
   "source": [
    "#%autoreload 2\n",
    "random_network = train_lambda_net(config=config,\n",
    "                                  lambda_index=rand_index, \n",
    "                                  X_data_with_function=X_data_list[rand_index], \n",
    "                                  y_data_with_function=y_data_list[rand_index], \n",
    "                                  callbacks=[PlotLossesKerasTF()], \n",
    "                                  return_model=True,\n",
    "                                  printing=False)"
   ]
  },
  {
   "cell_type": "code",
   "execution_count": null,
   "metadata": {
    "execution": {
     "iopub.execute_input": "2022-01-07T19:31:28.784737Z",
     "iopub.status.busy": "2022-01-07T19:31:28.784535Z"
    },
    "tags": []
   },
   "outputs": [
    {
     "name": "stderr",
     "output_type": "stream",
     "text": [
      "[Parallel(n_jobs=-3)]: Using backend LokyBackend with 22 concurrent workers.\n",
      "[Parallel(n_jobs=-3)]: Done  84 tasks      | elapsed:  3.6min\n",
      "[Parallel(n_jobs=-3)]: Done 244 tasks      | elapsed:  9.1min\n",
      "[Parallel(n_jobs=-3)]: Done 468 tasks      | elapsed: 16.9min\n",
      "[Parallel(n_jobs=-3)]: Done 756 tasks      | elapsed: 27.4min\n",
      "[Parallel(n_jobs=-3)]: Done 1108 tasks      | elapsed: 40.4min\n",
      "[Parallel(n_jobs=-3)]: Done 1524 tasks      | elapsed: 55.3min\n",
      "[Parallel(n_jobs=-3)]: Done 2004 tasks      | elapsed: 72.9min\n",
      "[Parallel(n_jobs=-3)]: Done 2548 tasks      | elapsed: 92.6min\n"
     ]
    }
   ],
   "source": [
    "#%autoreload 2\n",
    "parallel = Parallel(n_jobs=n_jobs, verbose=3, backend='loky') #loky\n",
    "clf_list = parallel(delayed(train_lambda_net)(config=config,\n",
    "                                              lambda_index=index, \n",
    "                                              X_data_with_function=X_data, \n",
    "                                              y_data_with_function=y_data,\n",
    "                                              return_history=True, \n",
    "                                              printing=True) for index, (X_data, y_data) in enumerate(zip(X_data_list, y_data_list)))  \n",
    "del parallel"
   ]
  },
  {
   "cell_type": "code",
   "execution_count": null,
   "metadata": {},
   "outputs": [],
   "source": [
    "random_network['model'].get_config()"
   ]
  },
  {
   "cell_type": "code",
   "execution_count": null,
   "metadata": {},
   "outputs": [],
   "source": [
    "random_network['model'].summary()"
   ]
  },
  {
   "cell_type": "markdown",
   "metadata": {},
   "source": [
    "## Save and Plot Lambda-Model History"
   ]
  },
  {
   "cell_type": "code",
   "execution_count": null,
   "metadata": {
    "ExecuteTime": {
     "start_time": "2021-01-17T09:44:26.874Z"
    }
   },
   "outputs": [],
   "source": [
    "loss_list_total = []\n",
    "metric_list_total = []\n",
    "\n",
    "val_loss_list_total = []\n",
    "val_metric_list_total = []\n",
    "\n",
    "index_list = []\n",
    "\n",
    "\n",
    "max_training_epochs = 0\n",
    "for _, entry in tqdm(enumerate(clf_list)):\n",
    "    history = entry['history']\n",
    "    \n",
    "    current_training_epochs = len(history[list(history.keys())[0]])\n",
    "    max_training_epochs = max(max_training_epochs, current_training_epochs)\n",
    "\n",
    "\n",
    "for _, entry in tqdm(enumerate(clf_list)):\n",
    "    history = entry['history']\n",
    "    index = entry['index']\n",
    "    \n",
    "    current_training_epochs = len(history[list(history.keys())[0]])\n",
    "    \n",
    "    loss_list = np.full(max_training_epochs, np.nan)\n",
    "    metric_list = np.full(max_training_epochs, np.nan)\n",
    "    val_loss_list = np.full(max_training_epochs, np.nan)\n",
    "    val_metric_list = np.full(max_training_epochs, np.nan) \n",
    "\n",
    "    for i in range(current_training_epochs):  \n",
    "        loss_list[i] = history[list(history.keys())[0]][i]\n",
    "        metric_list[i] = history[list(history.keys())[1]][i]\n",
    "        val_loss_list[i] = history[list(history.keys())[len(history.keys())//2]][i]\n",
    "        val_metric_list[i] = history[list(history.keys())[len(history.keys())//2+1]][i]\n",
    "    \n",
    "    index_list.append([index])\n",
    "    loss_list_total.append(loss_list)\n",
    "    metric_list_total.append(metric_list)\n",
    "    val_loss_list_total.append(val_loss_list)\n",
    "    val_metric_list_total.append(val_metric_list)\n",
    "\n",
    "loss_df = pd.DataFrame(data=np.hstack([index_list, loss_list_total]), columns=flatten_list(['index', [list(history.keys())[0] + '_epoch_' + str(i+1) for i in range(max_training_epochs)]]))\n",
    "#loss_df['index'] = loss_df['index'].astype(int)\n",
    "metric_df = pd.DataFrame(data=np.hstack([index_list, metric_list_total]), columns=flatten_list(['index', [list(history.keys())[1] + '_epoch_' + str(i+1) for i in range(max_training_epochs)]]))\n",
    "#metric_df['index'] = metric_df['index'].astype(int)\n",
    "val_loss_df = pd.DataFrame(data=np.hstack([index_list, val_loss_list_total]), columns=flatten_list(['index', [list(history.keys())[len(history.keys())//2] + '_epoch_' + str(i+1) for i in range(max_training_epochs)]]))\n",
    "#val_loss_df['index'] = val_loss_df['index'].astype(int)\n",
    "val_metric_df = pd.DataFrame(data=np.hstack([index_list, val_metric_list_total]), columns=flatten_list(['index', [list(history.keys())[len(history.keys())//2+1] + '_epoch_' + str(i+1) for i in range(max_training_epochs)]])) \n",
    "#val_metric_df['index'] = val_metric_df['index'].astype(int)\n"
   ]
  },
  {
   "cell_type": "code",
   "execution_count": null,
   "metadata": {
    "ExecuteTime": {
     "start_time": "2021-01-17T09:44:26.875Z"
    }
   },
   "outputs": [],
   "source": [
    "path_loss = './data/weights/weights_' + path_identifier_lambda_net_data + '/history_' + list(history.keys())[0] + '.txt'\n",
    "path_metric = './data/weights/weights_' + path_identifier_lambda_net_data + '/history_' + list(history.keys())[1] + '.txt'\n",
    "path_val_loss = './data/weights/weights_' + path_identifier_lambda_net_data + '/history_' + list(history.keys())[len(history.keys())//2] + '.txt'\n",
    "path_val_metric = './data/weights/weights_' + path_identifier_lambda_net_data + '/history_' + list(history.keys())[len(history.keys())//2+1] + '.txt'\n",
    "\n",
    "loss_df.to_csv(path_loss, index=None, sep=',')\n",
    "metric_df.to_csv(path_metric, index=None, sep=',')\n",
    "val_loss_df.to_csv(path_val_loss, index=None, sep=',')\n",
    "val_metric_df.to_csv(path_val_metric, index=None, sep=',')\n"
   ]
  },
  {
   "cell_type": "code",
   "execution_count": null,
   "metadata": {
    "ExecuteTime": {
     "start_time": "2021-01-17T09:44:26.876Z"
    }
   },
   "outputs": [],
   "source": [
    "loss_df.describe()"
   ]
  },
  {
   "cell_type": "code",
   "execution_count": null,
   "metadata": {
    "ExecuteTime": {
     "start_time": "2021-01-17T09:44:26.877Z"
    }
   },
   "outputs": [],
   "source": [
    "val_loss_df.describe()"
   ]
  },
  {
   "cell_type": "code",
   "execution_count": null,
   "metadata": {
    "ExecuteTime": {
     "start_time": "2021-01-17T09:44:26.879Z"
    }
   },
   "outputs": [],
   "source": [
    "metric_df.describe()"
   ]
  },
  {
   "cell_type": "code",
   "execution_count": null,
   "metadata": {
    "ExecuteTime": {
     "start_time": "2021-01-17T09:44:26.880Z"
    }
   },
   "outputs": [],
   "source": [
    "val_metric_df.describe()"
   ]
  },
  {
   "cell_type": "code",
   "execution_count": null,
   "metadata": {
    "ExecuteTime": {
     "start_time": "2021-01-17T09:44:26.881Z"
    }
   },
   "outputs": [],
   "source": [
    "# summarize history for metric\n",
    "path = './data/results/weights_' + path_identifier_lambda_net_data + '/' + list(history.keys())[1] + '.png'\n",
    "\n",
    "adjustment_threshold_metric = 10#100\n",
    "    \n",
    "metric_df_adjusted = metric_df.copy(deep=True).iloc[:,1:]\n",
    "if adjustment_threshold_metric > 0:\n",
    "    metric_df_adjusted[metric_df_adjusted.columns] = np.where(metric_df_adjusted[metric_df_adjusted.columns] > adjustment_threshold_metric, adjustment_threshold_metric, metric_df_adjusted[metric_df_adjusted.columns])\n",
    "    \n",
    "val_metric_df_adjusted = val_metric_df.copy(deep=True).iloc[:,1:]\n",
    "if adjustment_threshold_metric > 0:\n",
    "    val_metric_df_adjusted[val_metric_df_adjusted.columns] = np.where(val_metric_df_adjusted[val_metric_df_adjusted.columns] > adjustment_threshold_metric, adjustment_threshold_metric, val_metric_df_adjusted[val_metric_df_adjusted.columns])\n",
    "\n",
    "    \n",
    "plt.plot(metric_df_adjusted.describe().loc['mean'].values)\n",
    "plt.plot(val_metric_df_adjusted.describe().loc['mean'].values)\n",
    "plt.title('model ' + list(history.keys())[1])\n",
    "plt.ylabel(list(history.keys())[1])\n",
    "plt.xlabel('epoch')\n",
    "plt.legend(['train', 'valid'], loc='upper left')\n",
    "plt.savefig(path)\n",
    "plt.show()\n"
   ]
  },
  {
   "cell_type": "code",
   "execution_count": null,
   "metadata": {
    "ExecuteTime": {
     "start_time": "2021-01-17T09:44:26.883Z"
    }
   },
   "outputs": [],
   "source": [
    "# summarize history for loss\n",
    "path = './data/results/weights_' + path_identifier_lambda_net_data + '/' + list(history.keys())[0] + '.png'\n",
    "\n",
    "adjustment_threshold_loss = 0#10000\n",
    "    \n",
    "loss_df_adjusted = loss_df.copy(deep=True).iloc[:,1:]\n",
    "\n",
    "if adjustment_threshold_loss > 0:\n",
    "    loss_df_adjusted[loss_df_adjusted.columns] = np.where(loss_df_adjusted[loss_df_adjusted.columns] > adjustment_threshold_loss, adjustment_threshold_loss, loss_df_adjusted[loss_df_adjusted.columns])\n",
    "    \n",
    "val_loss_df_adjusted = val_loss_df.copy(deep=True).iloc[:,1:]\n",
    "if adjustment_threshold_loss > 0:\n",
    "    val_loss_df_adjusted[val_loss_df_adjusted.columns] = np.where(val_loss_df_adjusted[val_loss_df_adjusted.columns] > adjustment_threshold_loss, adjustment_threshold_loss, val_loss_df_adjusted[val_loss_df_adjusted.columns])\n",
    "\n",
    "    \n",
    "plt.plot(loss_df_adjusted.describe().loc['mean'].values)\n",
    "plt.plot(val_loss_df_adjusted.describe().loc['mean'].values)\n",
    "plt.title('model ' + list(history.keys())[0])\n",
    "plt.ylabel(list(history.keys())[0])\n",
    "plt.xlabel('epoch')\n",
    "plt.legend(['train', 'valid'], loc='upper left')\n",
    "plt.savefig(path)\n",
    "plt.show()\n"
   ]
  },
  {
   "cell_type": "code",
   "execution_count": null,
   "metadata": {},
   "outputs": [],
   "source": [
    "print('a')"
   ]
  },
  {
   "cell_type": "code",
   "execution_count": null,
   "metadata": {},
   "outputs": [],
   "source": []
  },
  {
   "cell_type": "code",
   "execution_count": null,
   "metadata": {},
   "outputs": [],
   "source": []
  }
 ],
 "metadata": {
  "kernelspec": {
   "display_name": "Python 3 (ipykernel)",
   "language": "python",
   "name": "python3"
  },
  "language_info": {
   "codemirror_mode": {
    "name": "ipython",
    "version": 3
   },
   "file_extension": ".py",
   "mimetype": "text/x-python",
   "name": "python",
   "nbconvert_exporter": "python",
   "pygments_lexer": "ipython3",
   "version": "3.8.0"
  }
 },
 "nbformat": 4,
 "nbformat_minor": 4
}
