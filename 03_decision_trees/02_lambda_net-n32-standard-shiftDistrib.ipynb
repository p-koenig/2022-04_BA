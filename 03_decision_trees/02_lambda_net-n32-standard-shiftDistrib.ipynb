{
 "cells": [
  {
   "cell_type": "markdown",
   "metadata": {},
   "source": [
    "# Generation of λ-Nets for I-Net training"
   ]
  },
  {
   "cell_type": "markdown",
   "metadata": {},
   "source": [
    "## Specitication of Experiment Settings"
   ]
  },
  {
   "cell_type": "code",
   "execution_count": 1,
   "metadata": {
    "execution": {
     "iopub.execute_input": "2022-03-26T12:08:45.997431Z",
     "iopub.status.busy": "2022-03-26T12:08:45.997194Z",
     "iopub.status.idle": "2022-03-26T12:08:46.008387Z",
     "shell.execute_reply": "2022-03-26T12:08:46.008002Z",
     "shell.execute_reply.started": "2022-03-26T12:08:45.997378Z"
    },
    "tags": []
   },
   "outputs": [],
   "source": [
    "#######################################################################################################################################\n",
    "###################################################### CONFIG FILE ####################################################################\n",
    "#######################################################################################################################################\n",
    "sleep_time = 0 #minutes\n",
    "\n",
    "config = {\n",
    "    'function_family': {\n",
    "        'maximum_depth': 3,\n",
    "        'beta': 1,\n",
    "        'decision_sparsity': 1,\n",
    "        'fully_grown': True,          \n",
    "        'dt_type': 'vanilla', #'vanilla', 'SDT'\n",
    "    },\n",
    "    'data': {\n",
    "        'number_of_variables': 32, \n",
    "        'num_classes': 2,\n",
    "        'categorical_indices': [],\n",
    "        'random_parameters_distribution': True, ##MAKEPATH DIFFERENT FILES\n",
    "        'max_distributions_per_class': 1, # None; 0; int >= 1\n",
    "        'exclude_linearly_seperable': True,\n",
    "        'data_generation_filtering': False,\n",
    "        'fixed_class_probability': True,\n",
    "        'weighted_data_generation': False,\n",
    "        'shift_distrib': True,\n",
    "        \n",
    "        'function_generation_type': 'distribution' ,#'distribution', 'distribution_trained' 'make_classification_distribution', 'make_classification_distribution_trained', 'make_classification', 'make_classification_trained', 'random_decision_tree', 'random_decision_tree_trained'\n",
    "        'distribution_list': ['uniform', 'normal', 'gamma', 'beta', 'poisson'],#['uniform', 'normal', 'gamma', 'exponential', 'beta', 'binomial', 'poisson'], \n",
    "        'objective': 'classification', # 'regression'\n",
    "        \n",
    "        'x_max': 1,\n",
    "        'x_min': 0,\n",
    "        'x_distrib': 'uniform', #'normal', 'uniform',       \n",
    "                \n",
    "        'lambda_dataset_size': 5000, #number of samples per function\n",
    "        'number_of_generated_datasets': 10000,\n",
    "        \n",
    "        'noise_injected_level': 0, \n",
    "        'noise_injected_type': 'flip_percentage', # '' 'normal' 'uniform' 'normal_range' 'uniform_range'\n",
    "        \n",
    "        'data_noise': 0, #None or float\n",
    "        'distrib_param_max': 5,\n",
    "    }, \n",
    "    'lambda_net': {\n",
    "        'epochs_lambda': 1000,\n",
    "        'early_stopping_lambda': True, \n",
    "        'early_stopping_min_delta_lambda': 1e-3,\n",
    "        'batch_lambda': 64,\n",
    "        'dropout_lambda': 0,\n",
    "        'lambda_network_layers': [128],\n",
    "        'use_batchnorm_lambda': False,\n",
    "        \n",
    "        'optimizer_lambda': 'adam',\n",
    "        'loss_lambda': 'binary_crossentropy', #categorical_crossentropy\n",
    "                \n",
    "        'number_initializations_lambda': 1, \n",
    "        \n",
    "        'number_of_trained_lambda_nets': 10000,\n",
    "    },     \n",
    "    'evaluation': {   \n",
    "    },    \n",
    "    \n",
    "    'computation':{\n",
    "        'n_jobs': 12,\n",
    "        'use_gpu': False,\n",
    "        'gpu_numbers': '0',\n",
    "        'RANDOM_SEED': 42,   \n",
    "    }\n",
    "}\n",
    "\n",
    "\n"
   ]
  },
  {
   "cell_type": "code",
   "execution_count": 2,
   "metadata": {
    "execution": {
     "iopub.execute_input": "2022-03-26T12:08:46.009104Z",
     "iopub.status.busy": "2022-03-26T12:08:46.008940Z",
     "iopub.status.idle": "2022-03-26T12:08:46.055910Z",
     "shell.execute_reply": "2022-03-26T12:08:46.055401Z",
     "shell.execute_reply.started": "2022-03-26T12:08:46.009086Z"
    }
   },
   "outputs": [],
   "source": [
    "#######################################################################################################################################\n",
    "########################################### IMPORT GLOBAL VARIABLES FROM CONFIG #######################################################\n",
    "#######################################################################################################################################\n",
    "globals().update(config['function_family'])\n",
    "globals().update(config['data'])\n",
    "globals().update(config['lambda_net'])\n",
    "globals().update(config['evaluation'])\n",
    "globals().update(config['computation'])"
   ]
  },
  {
   "cell_type": "code",
   "execution_count": 3,
   "metadata": {
    "execution": {
     "iopub.execute_input": "2022-03-26T12:08:46.057659Z",
     "iopub.status.busy": "2022-03-26T12:08:46.057351Z",
     "iopub.status.idle": "2022-03-26T12:08:49.720805Z",
     "shell.execute_reply": "2022-03-26T12:08:49.720113Z",
     "shell.execute_reply.started": "2022-03-26T12:08:46.057634Z"
    }
   },
   "outputs": [],
   "source": [
    "import warnings\n",
    "warnings.filterwarnings('ignore')\n",
    "import os\n",
    "os.environ['TF_CPP_MIN_LOG_LEVEL'] = '3' \n",
    "\n",
    "from itertools import product       # forms cartesian products\n",
    "from tqdm import tqdm_notebook as tqdm\n",
    "from more_itertools import random_product \n",
    "import pickle\n",
    "import numpy as np\n",
    "import pandas as pd\n",
    "import timeit\n",
    "import matplotlib.pyplot as plt \n",
    "import time\n",
    "import math\n",
    "import operator\n",
    "from functools import reduce\n",
    "\n",
    "from scipy.signal import argrelextrema\n",
    "\n",
    "import sys\n",
    "\n",
    "import shutil\n",
    "\n",
    "import logging\n",
    "logging.getLogger('tensorflow').disabled = True\n",
    "\n",
    "from joblib import Parallel, delayed\n",
    "\n",
    "\n",
    "from sklearn.model_selection import cross_val_score, train_test_split, StratifiedKFold, KFold\n",
    "from sklearn.metrics import accuracy_score, log_loss, roc_auc_score, f1_score, mean_absolute_error, r2_score\n",
    "#from similaritymeasures import frechet_dist, area_between_two_curves, dtw\n",
    "from IPython.display import Image\n",
    "\n",
    "from livelossplot import PlotLossesKerasTF\n",
    "\n",
    "import seaborn as sns\n",
    "\n",
    "import tensorflow as tf\n",
    "#import tensorflow_addons as tfa\n",
    "import random \n",
    "\n",
    "\n",
    "#import keras\n",
    "import tensorflow.keras.backend as K\n",
    "from tensorflow.keras import Sequential\n",
    "from tensorflow.keras.layers import Dense, Dropout\n",
    "from tensorflow.keras.utils import plot_model\n",
    "from tensorflow.keras.callbacks import EarlyStopping, ModelCheckpoint, ReduceLROnPlateau\n",
    "\n"
   ]
  },
  {
   "cell_type": "code",
   "execution_count": 4,
   "metadata": {
    "execution": {
     "iopub.execute_input": "2022-03-26T12:08:49.721705Z",
     "iopub.status.busy": "2022-03-26T12:08:49.721586Z",
     "iopub.status.idle": "2022-03-26T12:08:49.727812Z",
     "shell.execute_reply": "2022-03-26T12:08:49.727282Z",
     "shell.execute_reply.started": "2022-03-26T12:08:49.721690Z"
    }
   },
   "outputs": [],
   "source": [
    "#######################################################################################################################################\n",
    "###################################################### SET VARIABLES + DESIGN #########################################################\n",
    "#######################################################################################################################################\n",
    "    \n",
    "#os.environ['TF_CPP_MIN_LOG_LEVEL'] = '2' \n",
    "os.environ['CUDA_VISIBLE_DEVICES'] = gpu_numbers if use_gpu else ''\n",
    "os.environ['TF_FORCE_GPU_ALLOW_GROWTH'] = 'true' if use_gpu else ''\n",
    "\n",
    "#os.environ['XLA_FLAGS'] =  '--xla_gpu_cuda_data_dir=/usr/local/cuda-10.1'\n",
    "\n",
    "#os.environ['XLA_FLAGS'] = '--tf_xla_enable_xla_devices'\n",
    "#os.environ['TF_XLA_FLAGS'] = '--tf_xla_enable_xla_devices'\n",
    "\n",
    "os.environ['XLA_FLAGS'] = '--xla_gpu_cuda_data_dir=/usr/local/cuda-11.4' if use_gpu else ''#-10.1' #--xla_gpu_cuda_data_dir=/usr/local/cuda, \n",
    "os.environ['TF_XLA_FLAGS'] = '--tf_xla_auto_jit=2 ,--tf_xla_enable_xla_devices' if use_gpu else ''#'--tf_xla_auto_jit=2' #, --tf_xla_enable_xla_devices\n",
    "\n",
    "\n",
    "sns.set_style(\"darkgrid\")\n",
    "\n",
    "random.seed(RANDOM_SEED)\n",
    "np.random.seed(RANDOM_SEED)\n",
    "np.random.seed(RANDOM_SEED)\n",
    "if int(tf.__version__[0]) >= 2:\n",
    "    tf.random.set_seed(RANDOM_SEED)\n",
    "else:\n",
    "    tf.set_random_seed(RANDOM_SEED)\n",
    "    \n",
    "    \n",
    "pd.set_option('display.float_format', lambda x: '%.3f' % x)\n",
    "pd.set_option('display.max_columns', 200)\n",
    "np.set_printoptions(threshold=200)"
   ]
  },
  {
   "cell_type": "code",
   "execution_count": null,
   "metadata": {},
   "outputs": [],
   "source": []
  },
  {
   "cell_type": "code",
   "execution_count": 5,
   "metadata": {
    "execution": {
     "iopub.execute_input": "2022-03-26T12:08:49.728888Z",
     "iopub.status.busy": "2022-03-26T12:08:49.728576Z",
     "iopub.status.idle": "2022-03-26T12:08:52.107333Z",
     "shell.execute_reply": "2022-03-26T12:08:52.106562Z",
     "shell.execute_reply.started": "2022-03-26T12:08:49.728871Z"
    }
   },
   "outputs": [],
   "source": [
    "from utilities.LambdaNet import *\n",
    "from utilities.metrics import *\n",
    "from utilities.utility_functions import *\n",
    "#######################################################################################################################################\n",
    "####################################################### CONFIG ADJUSTMENTS ############################################################\n",
    "#######################################################################################################################################\n",
    "\n",
    "config['lambda_net']['number_of_lambda_weights'] = get_number_of_lambda_net_parameters(config)\n",
    "    \n",
    "#######################################################################################################################################\n",
    "################################################## UPDATE VARIABLES ###################################################################\n",
    "#######################################################################################################################################\n",
    "globals().update(config['function_family'])\n",
    "globals().update(config['data'])\n",
    "globals().update(config['lambda_net'])\n",
    "globals().update(config['evaluation'])\n",
    "globals().update(config['computation'])\n",
    "\n",
    "#initialize_utility_functions_config_from_curent_notebook(config)\n",
    "#initialize_LambdaNet_config_from_curent_notebook(config)\n",
    "#initialize_metrics_config_from_curent_notebook(config)\n",
    "\n",
    "#######################################################################################################################################\n",
    "###################################################### PATH + FOLDER CREATION #########################################################\n",
    "#######################################################################################################################################\n",
    "globals().update(generate_paths(config, path_type='lambda_net'))\n",
    "generate_directory_structure()\n",
    "generate_lambda_net_directory(config)\n",
    "\n",
    "#######################################################################################################################################\n",
    "############################################################ SLEEP TIMER ##############################################################\n",
    "#######################################################################################################################################\n",
    "sleep_minutes(sleep_time)"
   ]
  },
  {
   "cell_type": "code",
   "execution_count": 6,
   "metadata": {
    "execution": {
     "iopub.execute_input": "2022-03-26T12:08:52.108346Z",
     "iopub.status.busy": "2022-03-26T12:08:52.108213Z",
     "iopub.status.idle": "2022-03-26T12:08:52.112182Z",
     "shell.execute_reply": "2022-03-26T12:08:52.111497Z",
     "shell.execute_reply.started": "2022-03-26T12:08:52.108328Z"
    }
   },
   "outputs": [
    {
     "name": "stdout",
     "output_type": "stream",
     "text": [
      "lNetSize5000_numLNets10000_var32_class2_distribution_xMax1_xMin0_xDistuniform_dNoise0_randParamDist_maxDistClass1_distribParamMax5_exLinSep_shiftedun-no-ga-be-po_depth3_beta1_decisionSpars1_vanilla_fullyGrown/128_e1000ES0.001_b64_drop0_adam_binary_crossentropy_fixedInit1-seed42\n",
      "lNetSize5000_numDatasets10000_var32_class2_distribution_xMax1_xMin0_xDistuniform_dNoise0_randParamDist_maxDistClass1_distribParamMax5_exLinSep_shiftedun-no-ga-be-po_depth3_beta1_decisionSpars1_vanilla_fullyGrown\n"
     ]
    }
   ],
   "source": [
    "print(path_identifier_lambda_net_data)\n",
    "\n",
    "print(path_identifier_function_data)\n"
   ]
  },
  {
   "cell_type": "code",
   "execution_count": 7,
   "metadata": {
    "execution": {
     "iopub.execute_input": "2022-03-26T12:08:52.113132Z",
     "iopub.status.busy": "2022-03-26T12:08:52.112958Z",
     "iopub.status.idle": "2022-03-26T12:08:52.160066Z",
     "shell.execute_reply": "2022-03-26T12:08:52.159206Z",
     "shell.execute_reply.started": "2022-03-26T12:08:52.113115Z"
    }
   },
   "outputs": [
    {
     "name": "stdout",
     "output_type": "stream",
     "text": [
      "Num GPUs Available:  0\n",
      "Num XLA-GPUs Available:  0\n"
     ]
    }
   ],
   "source": [
    "print(\"Num GPUs Available: \", len(tf.config.experimental.list_physical_devices('GPU')))\n",
    "print(\"Num XLA-GPUs Available: \", len(tf.config.experimental.list_physical_devices('XLA_GPU')))"
   ]
  },
  {
   "cell_type": "code",
   "execution_count": 8,
   "metadata": {
    "execution": {
     "iopub.execute_input": "2022-03-26T12:08:52.161216Z",
     "iopub.status.busy": "2022-03-26T12:08:52.161002Z",
     "iopub.status.idle": "2022-03-26T12:08:52.209935Z",
     "shell.execute_reply": "2022-03-26T12:08:52.209223Z",
     "shell.execute_reply.started": "2022-03-26T12:08:52.161196Z"
    }
   },
   "outputs": [
    {
     "data": {
      "text/plain": [
       "[128]"
      ]
     },
     "execution_count": 8,
     "metadata": {},
     "output_type": "execute_result"
    }
   ],
   "source": [
    "lambda_network_layers"
   ]
  },
  {
   "cell_type": "code",
   "execution_count": 9,
   "metadata": {
    "ExecuteTime": {
     "end_time": "2021-01-17T09:46:11.182937Z",
     "start_time": "2021-01-17T09:44:31.797522Z"
    },
    "execution": {
     "iopub.execute_input": "2022-03-26T12:08:52.211961Z",
     "iopub.status.busy": "2022-03-26T12:08:52.211756Z",
     "iopub.status.idle": "2022-03-26T12:10:46.490250Z",
     "shell.execute_reply": "2022-03-26T12:10:46.489648Z",
     "shell.execute_reply.started": "2022-03-26T12:08:52.211937Z"
    },
    "tags": []
   },
   "outputs": [],
   "source": [
    "path_functions = './data/saved_function_lists/functions_' + path_identifier_function_data + '.csv'\n",
    "function_df = pd.read_csv(path_functions)\n",
    "\n",
    "path_X_data = './data/saved_function_lists/X_data_' + path_identifier_function_data + '.pkl'\n",
    "with open(path_X_data, 'rb') as f:\n",
    "    X_data_list = pickle.load(f)\n",
    "    \n",
    "path_y_data = './data/saved_function_lists/y_data_' + path_identifier_function_data + '.pkl'\n",
    "with open(path_y_data, 'rb') as f:\n",
    "    y_data_list = pickle.load(f)\n",
    "    \n",
    "try:\n",
    "    path_distribution = './data/saved_function_lists/distribution_parameter_list_list_' + path_identifier_function_data + '.pkl'\n",
    "    with open(path_distribution, 'rb') as f:\n",
    "        distribution_parameter_list_list = pickle.load(f)\n",
    "except Exception:\n",
    "    traceback.print_exc()\n",
    "    distribution_parameter_list_list = [[None, None]]*number_of_generated_datasets\n",
    "    \n",
    "if number_of_trained_lambda_nets < number_of_generated_datasets:\n",
    "    function_df = function_df.sample(n=number_of_trained_lambda_nets, random_state=RANDOM_SEED)\n",
    "    random.seed(RANDOM_SEED)\n",
    "    X_data_list = random.sample(X_data_list, number_of_trained_lambda_nets)\n",
    "    random.seed(RANDOM_SEED)\n",
    "    y_data_list = random.sample(y_data_list, number_of_trained_lambda_nets)\n",
    "    random.seed(RANDOM_SEED)\n",
    "    try:\n",
    "        distribution_parameter_list_list = random.sample(distribution_parameter_list_list, number_of_trained_lambda_nets)\n",
    "        random.seed(RANDOM_SEED)\n",
    "    except:\n",
    "        distribution_parameter_list_list = [[None, None]]*number_of_trained_lambda_nets"
   ]
  },
  {
   "cell_type": "markdown",
   "metadata": {},
   "source": [
    "## Data Inspection"
   ]
  },
  {
   "cell_type": "code",
   "execution_count": 10,
   "metadata": {
    "execution": {
     "iopub.execute_input": "2022-03-26T12:10:46.491049Z",
     "iopub.status.busy": "2022-03-26T12:10:46.490936Z",
     "iopub.status.idle": "2022-03-26T12:10:46.504212Z",
     "shell.execute_reply": "2022-03-26T12:10:46.503838Z",
     "shell.execute_reply.started": "2022-03-26T12:10:46.491035Z"
    }
   },
   "outputs": [
    {
     "data": {
      "text/html": [
       "<div>\n",
       "<style scoped>\n",
       "    .dataframe tbody tr th:only-of-type {\n",
       "        vertical-align: middle;\n",
       "    }\n",
       "\n",
       "    .dataframe tbody tr th {\n",
       "        vertical-align: top;\n",
       "    }\n",
       "\n",
       "    .dataframe thead th {\n",
       "        text-align: right;\n",
       "    }\n",
       "</style>\n",
       "<table border=\"1\" class=\"dataframe\">\n",
       "  <thead>\n",
       "    <tr style=\"text-align: right;\">\n",
       "      <th></th>\n",
       "      <th>feat0</th>\n",
       "      <th>feat1</th>\n",
       "      <th>feat2</th>\n",
       "      <th>feat3</th>\n",
       "      <th>feat4</th>\n",
       "      <th>feat5</th>\n",
       "      <th>feat6</th>\n",
       "      <th>split0</th>\n",
       "      <th>split1</th>\n",
       "      <th>split2</th>\n",
       "      <th>split3</th>\n",
       "      <th>split4</th>\n",
       "      <th>split5</th>\n",
       "      <th>split6</th>\n",
       "      <th>lp0</th>\n",
       "      <th>lp1</th>\n",
       "      <th>lp2</th>\n",
       "      <th>lp3</th>\n",
       "      <th>lp4</th>\n",
       "      <th>lp5</th>\n",
       "      <th>lp6</th>\n",
       "      <th>lp7</th>\n",
       "    </tr>\n",
       "  </thead>\n",
       "  <tbody>\n",
       "    <tr>\n",
       "      <th>0</th>\n",
       "      <td>0</td>\n",
       "      <td>0</td>\n",
       "      <td>0</td>\n",
       "      <td>0</td>\n",
       "      <td>0</td>\n",
       "      <td>0</td>\n",
       "      <td>0</td>\n",
       "      <td>0</td>\n",
       "      <td>0</td>\n",
       "      <td>0</td>\n",
       "      <td>0</td>\n",
       "      <td>0</td>\n",
       "      <td>0</td>\n",
       "      <td>0</td>\n",
       "      <td>0</td>\n",
       "      <td>0</td>\n",
       "      <td>0</td>\n",
       "      <td>0</td>\n",
       "      <td>0</td>\n",
       "      <td>0</td>\n",
       "      <td>0</td>\n",
       "      <td>0</td>\n",
       "    </tr>\n",
       "    <tr>\n",
       "      <th>1</th>\n",
       "      <td>0</td>\n",
       "      <td>0</td>\n",
       "      <td>0</td>\n",
       "      <td>0</td>\n",
       "      <td>0</td>\n",
       "      <td>0</td>\n",
       "      <td>0</td>\n",
       "      <td>0</td>\n",
       "      <td>0</td>\n",
       "      <td>0</td>\n",
       "      <td>0</td>\n",
       "      <td>0</td>\n",
       "      <td>0</td>\n",
       "      <td>0</td>\n",
       "      <td>0</td>\n",
       "      <td>0</td>\n",
       "      <td>0</td>\n",
       "      <td>0</td>\n",
       "      <td>0</td>\n",
       "      <td>0</td>\n",
       "      <td>0</td>\n",
       "      <td>0</td>\n",
       "    </tr>\n",
       "    <tr>\n",
       "      <th>2</th>\n",
       "      <td>0</td>\n",
       "      <td>0</td>\n",
       "      <td>0</td>\n",
       "      <td>0</td>\n",
       "      <td>0</td>\n",
       "      <td>0</td>\n",
       "      <td>0</td>\n",
       "      <td>0</td>\n",
       "      <td>0</td>\n",
       "      <td>0</td>\n",
       "      <td>0</td>\n",
       "      <td>0</td>\n",
       "      <td>0</td>\n",
       "      <td>0</td>\n",
       "      <td>0</td>\n",
       "      <td>0</td>\n",
       "      <td>0</td>\n",
       "      <td>0</td>\n",
       "      <td>0</td>\n",
       "      <td>0</td>\n",
       "      <td>0</td>\n",
       "      <td>0</td>\n",
       "    </tr>\n",
       "    <tr>\n",
       "      <th>3</th>\n",
       "      <td>0</td>\n",
       "      <td>0</td>\n",
       "      <td>0</td>\n",
       "      <td>0</td>\n",
       "      <td>0</td>\n",
       "      <td>0</td>\n",
       "      <td>0</td>\n",
       "      <td>0</td>\n",
       "      <td>0</td>\n",
       "      <td>0</td>\n",
       "      <td>0</td>\n",
       "      <td>0</td>\n",
       "      <td>0</td>\n",
       "      <td>0</td>\n",
       "      <td>0</td>\n",
       "      <td>0</td>\n",
       "      <td>0</td>\n",
       "      <td>0</td>\n",
       "      <td>0</td>\n",
       "      <td>0</td>\n",
       "      <td>0</td>\n",
       "      <td>0</td>\n",
       "    </tr>\n",
       "    <tr>\n",
       "      <th>4</th>\n",
       "      <td>0</td>\n",
       "      <td>0</td>\n",
       "      <td>0</td>\n",
       "      <td>0</td>\n",
       "      <td>0</td>\n",
       "      <td>0</td>\n",
       "      <td>0</td>\n",
       "      <td>0</td>\n",
       "      <td>0</td>\n",
       "      <td>0</td>\n",
       "      <td>0</td>\n",
       "      <td>0</td>\n",
       "      <td>0</td>\n",
       "      <td>0</td>\n",
       "      <td>0</td>\n",
       "      <td>0</td>\n",
       "      <td>0</td>\n",
       "      <td>0</td>\n",
       "      <td>0</td>\n",
       "      <td>0</td>\n",
       "      <td>0</td>\n",
       "      <td>0</td>\n",
       "    </tr>\n",
       "  </tbody>\n",
       "</table>\n",
       "</div>"
      ],
      "text/plain": [
       "   feat0  feat1  feat2  feat3  feat4  feat5  feat6  split0  split1  split2  \\\n",
       "0      0      0      0      0      0      0      0       0       0       0   \n",
       "1      0      0      0      0      0      0      0       0       0       0   \n",
       "2      0      0      0      0      0      0      0       0       0       0   \n",
       "3      0      0      0      0      0      0      0       0       0       0   \n",
       "4      0      0      0      0      0      0      0       0       0       0   \n",
       "\n",
       "   split3  split4  split5  split6  lp0  lp1  lp2  lp3  lp4  lp5  lp6  lp7  \n",
       "0       0       0       0       0    0    0    0    0    0    0    0    0  \n",
       "1       0       0       0       0    0    0    0    0    0    0    0    0  \n",
       "2       0       0       0       0    0    0    0    0    0    0    0    0  \n",
       "3       0       0       0       0    0    0    0    0    0    0    0    0  \n",
       "4       0       0       0       0    0    0    0    0    0    0    0    0  "
      ]
     },
     "execution_count": 10,
     "metadata": {},
     "output_type": "execute_result"
    }
   ],
   "source": [
    "function_df.head()"
   ]
  },
  {
   "cell_type": "code",
   "execution_count": 11,
   "metadata": {
    "execution": {
     "iopub.execute_input": "2022-03-26T12:10:46.504818Z",
     "iopub.status.busy": "2022-03-26T12:10:46.504715Z",
     "iopub.status.idle": "2022-03-26T12:10:46.544965Z",
     "shell.execute_reply": "2022-03-26T12:10:46.544688Z",
     "shell.execute_reply.started": "2022-03-26T12:10:46.504805Z"
    }
   },
   "outputs": [
    {
     "data": {
      "text/plain": [
       "feat0     0\n",
       "feat1     0\n",
       "feat2     0\n",
       "feat3     0\n",
       "feat4     0\n",
       "feat5     0\n",
       "feat6     0\n",
       "split0    0\n",
       "split1    0\n",
       "split2    0\n",
       "dtype: int64"
      ]
     },
     "execution_count": 11,
     "metadata": {},
     "output_type": "execute_result"
    }
   ],
   "source": [
    "X_data_list[0][0].head(10)"
   ]
  },
  {
   "cell_type": "code",
   "execution_count": 12,
   "metadata": {
    "ExecuteTime": {
     "end_time": "2021-01-17T09:46:12.626401Z",
     "start_time": "2021-01-17T09:46:12.608200Z"
    },
    "execution": {
     "iopub.execute_input": "2022-03-26T12:10:46.545514Z",
     "iopub.status.busy": "2022-03-26T12:10:46.545408Z",
     "iopub.status.idle": "2022-03-26T12:10:46.834349Z",
     "shell.execute_reply": "2022-03-26T12:10:46.833895Z",
     "shell.execute_reply.started": "2022-03-26T12:10:46.545501Z"
    }
   },
   "outputs": [
    {
     "data": {
      "text/html": [
       "<div>\n",
       "<style scoped>\n",
       "    .dataframe tbody tr th:only-of-type {\n",
       "        vertical-align: middle;\n",
       "    }\n",
       "\n",
       "    .dataframe tbody tr th {\n",
       "        vertical-align: top;\n",
       "    }\n",
       "\n",
       "    .dataframe thead th {\n",
       "        text-align: right;\n",
       "    }\n",
       "</style>\n",
       "<table border=\"1\" class=\"dataframe\">\n",
       "  <thead>\n",
       "    <tr style=\"text-align: right;\">\n",
       "      <th></th>\n",
       "      <th>x0</th>\n",
       "      <th>x1</th>\n",
       "      <th>x2</th>\n",
       "      <th>x3</th>\n",
       "      <th>x4</th>\n",
       "      <th>x5</th>\n",
       "      <th>x6</th>\n",
       "      <th>x7</th>\n",
       "      <th>x8</th>\n",
       "      <th>x9</th>\n",
       "      <th>x10</th>\n",
       "      <th>x11</th>\n",
       "      <th>x12</th>\n",
       "      <th>x13</th>\n",
       "      <th>x14</th>\n",
       "      <th>x15</th>\n",
       "      <th>x16</th>\n",
       "      <th>x17</th>\n",
       "      <th>x18</th>\n",
       "      <th>x19</th>\n",
       "      <th>x20</th>\n",
       "      <th>x21</th>\n",
       "      <th>x22</th>\n",
       "      <th>x23</th>\n",
       "      <th>x24</th>\n",
       "      <th>x25</th>\n",
       "      <th>x26</th>\n",
       "      <th>x27</th>\n",
       "      <th>x28</th>\n",
       "      <th>x29</th>\n",
       "      <th>x30</th>\n",
       "      <th>x31</th>\n",
       "    </tr>\n",
       "  </thead>\n",
       "  <tbody>\n",
       "    <tr>\n",
       "      <th>0</th>\n",
       "      <td>0.143</td>\n",
       "      <td>0.762</td>\n",
       "      <td>0.178</td>\n",
       "      <td>0.138</td>\n",
       "      <td>0.802</td>\n",
       "      <td>0.312</td>\n",
       "      <td>0.083</td>\n",
       "      <td>0.485</td>\n",
       "      <td>0.741</td>\n",
       "      <td>0.654</td>\n",
       "      <td>0.225</td>\n",
       "      <td>0.701</td>\n",
       "      <td>0.244</td>\n",
       "      <td>0.182</td>\n",
       "      <td>0.075</td>\n",
       "      <td>0.479</td>\n",
       "      <td>0.384</td>\n",
       "      <td>0.273</td>\n",
       "      <td>0.179</td>\n",
       "      <td>0.067</td>\n",
       "      <td>0.554</td>\n",
       "      <td>0.461</td>\n",
       "      <td>0.134</td>\n",
       "      <td>0.200</td>\n",
       "      <td>0.375</td>\n",
       "      <td>0.083</td>\n",
       "      <td>0.814</td>\n",
       "      <td>0.389</td>\n",
       "      <td>0.003</td>\n",
       "      <td>0.705</td>\n",
       "      <td>0.381</td>\n",
       "      <td>0.204</td>\n",
       "    </tr>\n",
       "    <tr>\n",
       "      <th>1</th>\n",
       "      <td>0.143</td>\n",
       "      <td>0.670</td>\n",
       "      <td>0.401</td>\n",
       "      <td>0.345</td>\n",
       "      <td>0.182</td>\n",
       "      <td>0.602</td>\n",
       "      <td>0.083</td>\n",
       "      <td>0.315</td>\n",
       "      <td>0.001</td>\n",
       "      <td>0.615</td>\n",
       "      <td>0.157</td>\n",
       "      <td>0.622</td>\n",
       "      <td>0.527</td>\n",
       "      <td>0.364</td>\n",
       "      <td>0.146</td>\n",
       "      <td>0.603</td>\n",
       "      <td>0.174</td>\n",
       "      <td>0.273</td>\n",
       "      <td>0.025</td>\n",
       "      <td>0.219</td>\n",
       "      <td>0.451</td>\n",
       "      <td>0.455</td>\n",
       "      <td>0.124</td>\n",
       "      <td>0.300</td>\n",
       "      <td>0.125</td>\n",
       "      <td>0.083</td>\n",
       "      <td>0.333</td>\n",
       "      <td>0.409</td>\n",
       "      <td>0.081</td>\n",
       "      <td>0.515</td>\n",
       "      <td>0.854</td>\n",
       "      <td>0.363</td>\n",
       "    </tr>\n",
       "    <tr>\n",
       "      <th>2</th>\n",
       "      <td>0.143</td>\n",
       "      <td>0.902</td>\n",
       "      <td>0.153</td>\n",
       "      <td>0.313</td>\n",
       "      <td>0.179</td>\n",
       "      <td>0.413</td>\n",
       "      <td>0.417</td>\n",
       "      <td>0.692</td>\n",
       "      <td>0.001</td>\n",
       "      <td>0.424</td>\n",
       "      <td>0.278</td>\n",
       "      <td>0.476</td>\n",
       "      <td>0.662</td>\n",
       "      <td>0.364</td>\n",
       "      <td>0.030</td>\n",
       "      <td>0.216</td>\n",
       "      <td>0.370</td>\n",
       "      <td>0.273</td>\n",
       "      <td>0.006</td>\n",
       "      <td>0.393</td>\n",
       "      <td>0.400</td>\n",
       "      <td>0.560</td>\n",
       "      <td>0.451</td>\n",
       "      <td>0.100</td>\n",
       "      <td>0.375</td>\n",
       "      <td>0.000</td>\n",
       "      <td>0.547</td>\n",
       "      <td>0.296</td>\n",
       "      <td>0.000</td>\n",
       "      <td>0.591</td>\n",
       "      <td>0.962</td>\n",
       "      <td>0.222</td>\n",
       "    </tr>\n",
       "    <tr>\n",
       "      <th>3</th>\n",
       "      <td>0.143</td>\n",
       "      <td>0.601</td>\n",
       "      <td>0.167</td>\n",
       "      <td>0.041</td>\n",
       "      <td>0.255</td>\n",
       "      <td>0.450</td>\n",
       "      <td>0.167</td>\n",
       "      <td>0.507</td>\n",
       "      <td>0.000</td>\n",
       "      <td>0.679</td>\n",
       "      <td>0.230</td>\n",
       "      <td>0.618</td>\n",
       "      <td>0.601</td>\n",
       "      <td>0.182</td>\n",
       "      <td>0.016</td>\n",
       "      <td>0.272</td>\n",
       "      <td>0.637</td>\n",
       "      <td>0.091</td>\n",
       "      <td>0.130</td>\n",
       "      <td>0.569</td>\n",
       "      <td>0.658</td>\n",
       "      <td>0.725</td>\n",
       "      <td>0.290</td>\n",
       "      <td>0.200</td>\n",
       "      <td>0.125</td>\n",
       "      <td>0.500</td>\n",
       "      <td>0.291</td>\n",
       "      <td>0.127</td>\n",
       "      <td>0.000</td>\n",
       "      <td>0.543</td>\n",
       "      <td>0.690</td>\n",
       "      <td>0.523</td>\n",
       "    </tr>\n",
       "    <tr>\n",
       "      <th>4</th>\n",
       "      <td>0.286</td>\n",
       "      <td>0.605</td>\n",
       "      <td>0.167</td>\n",
       "      <td>0.129</td>\n",
       "      <td>0.761</td>\n",
       "      <td>0.343</td>\n",
       "      <td>0.250</td>\n",
       "      <td>0.520</td>\n",
       "      <td>0.000</td>\n",
       "      <td>0.481</td>\n",
       "      <td>0.160</td>\n",
       "      <td>0.557</td>\n",
       "      <td>0.619</td>\n",
       "      <td>0.182</td>\n",
       "      <td>0.011</td>\n",
       "      <td>0.339</td>\n",
       "      <td>0.270</td>\n",
       "      <td>0.273</td>\n",
       "      <td>0.312</td>\n",
       "      <td>0.548</td>\n",
       "      <td>0.837</td>\n",
       "      <td>0.563</td>\n",
       "      <td>0.553</td>\n",
       "      <td>0.500</td>\n",
       "      <td>0.375</td>\n",
       "      <td>0.167</td>\n",
       "      <td>0.871</td>\n",
       "      <td>0.132</td>\n",
       "      <td>0.000</td>\n",
       "      <td>0.913</td>\n",
       "      <td>0.619</td>\n",
       "      <td>0.101</td>\n",
       "    </tr>\n",
       "    <tr>\n",
       "      <th>5</th>\n",
       "      <td>0.000</td>\n",
       "      <td>0.470</td>\n",
       "      <td>0.449</td>\n",
       "      <td>0.296</td>\n",
       "      <td>0.012</td>\n",
       "      <td>0.588</td>\n",
       "      <td>0.667</td>\n",
       "      <td>0.326</td>\n",
       "      <td>0.000</td>\n",
       "      <td>0.445</td>\n",
       "      <td>0.000</td>\n",
       "      <td>0.533</td>\n",
       "      <td>0.235</td>\n",
       "      <td>0.182</td>\n",
       "      <td>0.273</td>\n",
       "      <td>0.625</td>\n",
       "      <td>0.451</td>\n",
       "      <td>0.727</td>\n",
       "      <td>0.050</td>\n",
       "      <td>0.394</td>\n",
       "      <td>0.818</td>\n",
       "      <td>0.560</td>\n",
       "      <td>0.108</td>\n",
       "      <td>0.000</td>\n",
       "      <td>0.250</td>\n",
       "      <td>0.167</td>\n",
       "      <td>0.863</td>\n",
       "      <td>0.077</td>\n",
       "      <td>0.091</td>\n",
       "      <td>0.455</td>\n",
       "      <td>0.935</td>\n",
       "      <td>0.320</td>\n",
       "    </tr>\n",
       "    <tr>\n",
       "      <th>6</th>\n",
       "      <td>0.143</td>\n",
       "      <td>0.672</td>\n",
       "      <td>0.136</td>\n",
       "      <td>0.010</td>\n",
       "      <td>0.255</td>\n",
       "      <td>0.550</td>\n",
       "      <td>0.250</td>\n",
       "      <td>0.394</td>\n",
       "      <td>0.016</td>\n",
       "      <td>0.681</td>\n",
       "      <td>0.132</td>\n",
       "      <td>0.574</td>\n",
       "      <td>0.201</td>\n",
       "      <td>0.182</td>\n",
       "      <td>0.057</td>\n",
       "      <td>0.460</td>\n",
       "      <td>0.287</td>\n",
       "      <td>0.727</td>\n",
       "      <td>0.044</td>\n",
       "      <td>0.358</td>\n",
       "      <td>0.359</td>\n",
       "      <td>0.599</td>\n",
       "      <td>0.678</td>\n",
       "      <td>0.400</td>\n",
       "      <td>0.625</td>\n",
       "      <td>0.500</td>\n",
       "      <td>0.557</td>\n",
       "      <td>0.385</td>\n",
       "      <td>0.143</td>\n",
       "      <td>0.422</td>\n",
       "      <td>0.613</td>\n",
       "      <td>0.208</td>\n",
       "    </tr>\n",
       "    <tr>\n",
       "      <th>7</th>\n",
       "      <td>0.000</td>\n",
       "      <td>0.840</td>\n",
       "      <td>0.462</td>\n",
       "      <td>0.069</td>\n",
       "      <td>0.937</td>\n",
       "      <td>0.586</td>\n",
       "      <td>0.500</td>\n",
       "      <td>0.567</td>\n",
       "      <td>0.000</td>\n",
       "      <td>0.469</td>\n",
       "      <td>0.232</td>\n",
       "      <td>0.415</td>\n",
       "      <td>0.216</td>\n",
       "      <td>0.091</td>\n",
       "      <td>0.155</td>\n",
       "      <td>0.346</td>\n",
       "      <td>0.167</td>\n",
       "      <td>0.273</td>\n",
       "      <td>0.058</td>\n",
       "      <td>0.145</td>\n",
       "      <td>0.596</td>\n",
       "      <td>0.642</td>\n",
       "      <td>0.171</td>\n",
       "      <td>0.200</td>\n",
       "      <td>0.125</td>\n",
       "      <td>0.250</td>\n",
       "      <td>0.419</td>\n",
       "      <td>0.111</td>\n",
       "      <td>0.012</td>\n",
       "      <td>0.294</td>\n",
       "      <td>0.056</td>\n",
       "      <td>0.092</td>\n",
       "    </tr>\n",
       "    <tr>\n",
       "      <th>8</th>\n",
       "      <td>0.286</td>\n",
       "      <td>0.837</td>\n",
       "      <td>0.484</td>\n",
       "      <td>0.076</td>\n",
       "      <td>0.153</td>\n",
       "      <td>0.376</td>\n",
       "      <td>0.000</td>\n",
       "      <td>0.474</td>\n",
       "      <td>0.024</td>\n",
       "      <td>0.506</td>\n",
       "      <td>0.084</td>\n",
       "      <td>0.531</td>\n",
       "      <td>0.444</td>\n",
       "      <td>0.091</td>\n",
       "      <td>0.040</td>\n",
       "      <td>0.604</td>\n",
       "      <td>0.475</td>\n",
       "      <td>0.364</td>\n",
       "      <td>0.018</td>\n",
       "      <td>0.313</td>\n",
       "      <td>0.759</td>\n",
       "      <td>0.758</td>\n",
       "      <td>0.224</td>\n",
       "      <td>0.200</td>\n",
       "      <td>0.250</td>\n",
       "      <td>0.333</td>\n",
       "      <td>0.665</td>\n",
       "      <td>0.053</td>\n",
       "      <td>0.009</td>\n",
       "      <td>0.443</td>\n",
       "      <td>0.619</td>\n",
       "      <td>0.203</td>\n",
       "    </tr>\n",
       "    <tr>\n",
       "      <th>9</th>\n",
       "      <td>0.286</td>\n",
       "      <td>0.879</td>\n",
       "      <td>0.272</td>\n",
       "      <td>0.135</td>\n",
       "      <td>0.499</td>\n",
       "      <td>0.519</td>\n",
       "      <td>0.167</td>\n",
       "      <td>0.523</td>\n",
       "      <td>0.245</td>\n",
       "      <td>0.459</td>\n",
       "      <td>0.143</td>\n",
       "      <td>0.634</td>\n",
       "      <td>0.365</td>\n",
       "      <td>0.182</td>\n",
       "      <td>0.085</td>\n",
       "      <td>0.433</td>\n",
       "      <td>0.416</td>\n",
       "      <td>0.727</td>\n",
       "      <td>0.006</td>\n",
       "      <td>0.604</td>\n",
       "      <td>0.556</td>\n",
       "      <td>0.471</td>\n",
       "      <td>0.390</td>\n",
       "      <td>0.400</td>\n",
       "      <td>0.250</td>\n",
       "      <td>0.167</td>\n",
       "      <td>0.213</td>\n",
       "      <td>0.143</td>\n",
       "      <td>0.001</td>\n",
       "      <td>0.663</td>\n",
       "      <td>0.416</td>\n",
       "      <td>0.132</td>\n",
       "    </tr>\n",
       "  </tbody>\n",
       "</table>\n",
       "</div>"
      ],
      "text/plain": [
       "     x0    x1    x2    x3    x4    x5    x6    x7    x8    x9   x10   x11  \\\n",
       "0 0.143 0.762 0.178 0.138 0.802 0.312 0.083 0.485 0.741 0.654 0.225 0.701   \n",
       "1 0.143 0.670 0.401 0.345 0.182 0.602 0.083 0.315 0.001 0.615 0.157 0.622   \n",
       "2 0.143 0.902 0.153 0.313 0.179 0.413 0.417 0.692 0.001 0.424 0.278 0.476   \n",
       "3 0.143 0.601 0.167 0.041 0.255 0.450 0.167 0.507 0.000 0.679 0.230 0.618   \n",
       "4 0.286 0.605 0.167 0.129 0.761 0.343 0.250 0.520 0.000 0.481 0.160 0.557   \n",
       "5 0.000 0.470 0.449 0.296 0.012 0.588 0.667 0.326 0.000 0.445 0.000 0.533   \n",
       "6 0.143 0.672 0.136 0.010 0.255 0.550 0.250 0.394 0.016 0.681 0.132 0.574   \n",
       "7 0.000 0.840 0.462 0.069 0.937 0.586 0.500 0.567 0.000 0.469 0.232 0.415   \n",
       "8 0.286 0.837 0.484 0.076 0.153 0.376 0.000 0.474 0.024 0.506 0.084 0.531   \n",
       "9 0.286 0.879 0.272 0.135 0.499 0.519 0.167 0.523 0.245 0.459 0.143 0.634   \n",
       "\n",
       "    x12   x13   x14   x15   x16   x17   x18   x19   x20   x21   x22   x23  \\\n",
       "0 0.244 0.182 0.075 0.479 0.384 0.273 0.179 0.067 0.554 0.461 0.134 0.200   \n",
       "1 0.527 0.364 0.146 0.603 0.174 0.273 0.025 0.219 0.451 0.455 0.124 0.300   \n",
       "2 0.662 0.364 0.030 0.216 0.370 0.273 0.006 0.393 0.400 0.560 0.451 0.100   \n",
       "3 0.601 0.182 0.016 0.272 0.637 0.091 0.130 0.569 0.658 0.725 0.290 0.200   \n",
       "4 0.619 0.182 0.011 0.339 0.270 0.273 0.312 0.548 0.837 0.563 0.553 0.500   \n",
       "5 0.235 0.182 0.273 0.625 0.451 0.727 0.050 0.394 0.818 0.560 0.108 0.000   \n",
       "6 0.201 0.182 0.057 0.460 0.287 0.727 0.044 0.358 0.359 0.599 0.678 0.400   \n",
       "7 0.216 0.091 0.155 0.346 0.167 0.273 0.058 0.145 0.596 0.642 0.171 0.200   \n",
       "8 0.444 0.091 0.040 0.604 0.475 0.364 0.018 0.313 0.759 0.758 0.224 0.200   \n",
       "9 0.365 0.182 0.085 0.433 0.416 0.727 0.006 0.604 0.556 0.471 0.390 0.400   \n",
       "\n",
       "    x24   x25   x26   x27   x28   x29   x30   x31  \n",
       "0 0.375 0.083 0.814 0.389 0.003 0.705 0.381 0.204  \n",
       "1 0.125 0.083 0.333 0.409 0.081 0.515 0.854 0.363  \n",
       "2 0.375 0.000 0.547 0.296 0.000 0.591 0.962 0.222  \n",
       "3 0.125 0.500 0.291 0.127 0.000 0.543 0.690 0.523  \n",
       "4 0.375 0.167 0.871 0.132 0.000 0.913 0.619 0.101  \n",
       "5 0.250 0.167 0.863 0.077 0.091 0.455 0.935 0.320  \n",
       "6 0.625 0.500 0.557 0.385 0.143 0.422 0.613 0.208  \n",
       "7 0.125 0.250 0.419 0.111 0.012 0.294 0.056 0.092  \n",
       "8 0.250 0.333 0.665 0.053 0.009 0.443 0.619 0.203  \n",
       "9 0.250 0.167 0.213 0.143 0.001 0.663 0.416 0.132  "
      ]
     },
     "execution_count": 12,
     "metadata": {},
     "output_type": "execute_result"
    }
   ],
   "source": [
    "X_data_list[0][1].head(10)"
   ]
  },
  {
   "cell_type": "code",
   "execution_count": 13,
   "metadata": {
    "execution": {
     "iopub.execute_input": "2022-03-26T12:10:46.835154Z",
     "iopub.status.busy": "2022-03-26T12:10:46.835020Z",
     "iopub.status.idle": "2022-03-26T12:10:46.888369Z",
     "shell.execute_reply": "2022-03-26T12:10:46.887914Z",
     "shell.execute_reply.started": "2022-03-26T12:10:46.835137Z"
    }
   },
   "outputs": [
    {
     "data": {
      "text/plain": [
       "feat0     0\n",
       "feat1     0\n",
       "feat2     0\n",
       "feat3     0\n",
       "feat4     0\n",
       "feat5     0\n",
       "feat6     0\n",
       "split0    0\n",
       "split1    0\n",
       "split2    0\n",
       "dtype: int64"
      ]
     },
     "execution_count": 13,
     "metadata": {},
     "output_type": "execute_result"
    }
   ],
   "source": [
    "y_data_list[0][0].head(10)"
   ]
  },
  {
   "cell_type": "code",
   "execution_count": 14,
   "metadata": {
    "ExecuteTime": {
     "end_time": "2021-01-17T09:46:12.636995Z",
     "start_time": "2021-01-17T09:46:12.629349Z"
    },
    "execution": {
     "iopub.execute_input": "2022-03-26T12:10:46.889248Z",
     "iopub.status.busy": "2022-03-26T12:10:46.889039Z",
     "iopub.status.idle": "2022-03-26T12:10:46.930584Z",
     "shell.execute_reply": "2022-03-26T12:10:46.930219Z",
     "shell.execute_reply.started": "2022-03-26T12:10:46.889230Z"
    }
   },
   "outputs": [
    {
     "data": {
      "text/html": [
       "<div>\n",
       "<style scoped>\n",
       "    .dataframe tbody tr th:only-of-type {\n",
       "        vertical-align: middle;\n",
       "    }\n",
       "\n",
       "    .dataframe tbody tr th {\n",
       "        vertical-align: top;\n",
       "    }\n",
       "\n",
       "    .dataframe thead th {\n",
       "        text-align: right;\n",
       "    }\n",
       "</style>\n",
       "<table border=\"1\" class=\"dataframe\">\n",
       "  <thead>\n",
       "    <tr style=\"text-align: right;\">\n",
       "      <th></th>\n",
       "      <th>result</th>\n",
       "    </tr>\n",
       "  </thead>\n",
       "  <tbody>\n",
       "    <tr>\n",
       "      <th>0</th>\n",
       "      <td>0</td>\n",
       "    </tr>\n",
       "    <tr>\n",
       "      <th>1</th>\n",
       "      <td>0</td>\n",
       "    </tr>\n",
       "    <tr>\n",
       "      <th>2</th>\n",
       "      <td>0</td>\n",
       "    </tr>\n",
       "    <tr>\n",
       "      <th>3</th>\n",
       "      <td>0</td>\n",
       "    </tr>\n",
       "    <tr>\n",
       "      <th>4</th>\n",
       "      <td>0</td>\n",
       "    </tr>\n",
       "    <tr>\n",
       "      <th>5</th>\n",
       "      <td>0</td>\n",
       "    </tr>\n",
       "    <tr>\n",
       "      <th>6</th>\n",
       "      <td>0</td>\n",
       "    </tr>\n",
       "    <tr>\n",
       "      <th>7</th>\n",
       "      <td>0</td>\n",
       "    </tr>\n",
       "    <tr>\n",
       "      <th>8</th>\n",
       "      <td>0</td>\n",
       "    </tr>\n",
       "    <tr>\n",
       "      <th>9</th>\n",
       "      <td>0</td>\n",
       "    </tr>\n",
       "  </tbody>\n",
       "</table>\n",
       "</div>"
      ],
      "text/plain": [
       "   result\n",
       "0       0\n",
       "1       0\n",
       "2       0\n",
       "3       0\n",
       "4       0\n",
       "5       0\n",
       "6       0\n",
       "7       0\n",
       "8       0\n",
       "9       0"
      ]
     },
     "execution_count": 14,
     "metadata": {},
     "output_type": "execute_result"
    }
   ],
   "source": [
    "y_data_list[0][1].head(10)"
   ]
  },
  {
   "cell_type": "code",
   "execution_count": 15,
   "metadata": {
    "execution": {
     "iopub.execute_input": "2022-03-26T12:10:46.931307Z",
     "iopub.status.busy": "2022-03-26T12:10:46.931139Z",
     "iopub.status.idle": "2022-03-26T12:10:50.666906Z",
     "shell.execute_reply": "2022-03-26T12:10:50.666194Z",
     "shell.execute_reply.started": "2022-03-26T12:10:46.931290Z"
    }
   },
   "outputs": [
    {
     "data": {
      "image/png": "[encoded data removed]",
      "text/plain": [
       "<IPython.core.display.Image object>"
      ]
     },
     "execution_count": 15,
     "metadata": {},
     "output_type": "execute_result"
    }
   ],
   "source": [
    "plot = None\n",
    "if plot_tree_from_parameters != 'make_classification':\n",
    "    plot = plot_tree_from_parameters(y_data_list[0][0].values, config)\n",
    "plot"
   ]
  },
  {
   "cell_type": "code",
   "execution_count": 16,
   "metadata": {
    "execution": {
     "iopub.execute_input": "2022-03-26T12:10:50.668118Z",
     "iopub.status.busy": "2022-03-26T12:10:50.667968Z",
     "iopub.status.idle": "2022-03-26T12:10:50.677327Z",
     "shell.execute_reply": "2022-03-26T12:10:50.676845Z",
     "shell.execute_reply.started": "2022-03-26T12:10:50.668098Z"
    }
   },
   "outputs": [],
   "source": [
    "def inject_noise(y_data, noise=0.0, noise_dist='normal', seed=42):\n",
    "    \"\"\"\n",
    "    Returns a polynomial injected with specified noise type and amount. \n",
    "    Inputs a clean polynomial array with x-data and y-data and modifies the y-data according to the noise settings.\n",
    "    \"\"\"\n",
    "    np.random.seed(seed)\n",
    "    \n",
    "    #Calculate range of function values of input polynomial\n",
    "    range_values_fv = np.ptp(y_data[1].values)\n",
    "    \n",
    "    #Selection of noise type\n",
    "    #Available types: normal, uniform, A, B, C\n",
    "    if noise_dist=='normal':\n",
    "        noise_sample=noise*np.random.normal(loc=0, scale=1.0,size=y_data[1].shape[0])\n",
    "    elif noise_dist=='uniform':\n",
    "        noise_sample=noise*np.random.uniform(low=0, high=1.0,size=y_data[1].shape[0])\n",
    "    elif noise_dist=='normal_range':\n",
    "        #Normal distribution adjusted to function value range\n",
    "        noise_sample=(noise*range_values_fv)*np.random.normal(loc=0, scale=1.0,size=y_data[1].shape[0])\n",
    "    elif noise_dist=='uniform_range':\n",
    "        noise_sample=(noise*range_values_fv)*np.random.normal(loc=0, scale=1.0,size=y_data[1].shape[0])\n",
    "    elif noise_dist=='flip_percentage':\n",
    "        idx = np.random.choice(y_data[1].shape[0], int(y_data[1].shape[0]*noise), replace=False)\n",
    "        y_data[1].iloc[idx] = (y_data[1].iloc[idx] + 1) % 2 \n",
    "        return y_data\n",
    "    else:\n",
    "        #no noise\n",
    "        noise_sample = np.zeros(y_data[1].shape[0])\n",
    "                               \n",
    "    noise_sample=noise_sample.reshape(-1,1)\n",
    "    \n",
    "    y_data[1]=y_data[1]+noise_sample\n",
    "    \n",
    "    return np.clip(y_data, 0, 1)"
   ]
  },
  {
   "cell_type": "code",
   "execution_count": 17,
   "metadata": {
    "execution": {
     "iopub.execute_input": "2022-03-26T12:10:50.678119Z",
     "iopub.status.busy": "2022-03-26T12:10:50.678008Z",
     "iopub.status.idle": "2022-03-26T12:10:50.739927Z",
     "shell.execute_reply": "2022-03-26T12:10:50.739112Z",
     "shell.execute_reply.started": "2022-03-26T12:10:50.678105Z"
    }
   },
   "outputs": [],
   "source": [
    "if noise_injected_level > 0:\n",
    "    parallel = Parallel(n_jobs=n_jobs, verbose=3, backend='loky')\n",
    "    y_data_list = parallel(delayed(inject_noise)(y_data=y_data_list[i],\n",
    "                                                 noise=noise_injected_level,\n",
    "                                                 noise_dist=noise_injected_type, \n",
    "                                                 seed=RANDOM_SEED+i) for i in range(len(y_data_list)))\n"
   ]
  },
  {
   "cell_type": "code",
   "execution_count": 18,
   "metadata": {
    "execution": {
     "iopub.execute_input": "2022-03-26T12:10:50.741530Z",
     "iopub.status.busy": "2022-03-26T12:10:50.741083Z",
     "iopub.status.idle": "2022-03-26T12:10:50.779128Z",
     "shell.execute_reply": "2022-03-26T12:10:50.778426Z",
     "shell.execute_reply.started": "2022-03-26T12:10:50.741504Z"
    }
   },
   "outputs": [
    {
     "data": {
      "text/plain": [
       "feat0     0\n",
       "feat1     0\n",
       "feat2     0\n",
       "feat3     0\n",
       "feat4     0\n",
       "feat5     0\n",
       "feat6     0\n",
       "split0    0\n",
       "split1    0\n",
       "split2    0\n",
       "dtype: int64"
      ]
     },
     "execution_count": 18,
     "metadata": {},
     "output_type": "execute_result"
    }
   ],
   "source": [
    "y_data_list[0][0].head(10)"
   ]
  },
  {
   "cell_type": "code",
   "execution_count": 19,
   "metadata": {
    "execution": {
     "iopub.execute_input": "2022-03-26T12:10:50.780862Z",
     "iopub.status.busy": "2022-03-26T12:10:50.780422Z",
     "iopub.status.idle": "2022-03-26T12:10:50.850233Z",
     "shell.execute_reply": "2022-03-26T12:10:50.849529Z",
     "shell.execute_reply.started": "2022-03-26T12:10:50.780832Z"
    }
   },
   "outputs": [
    {
     "data": {
      "text/plain": [
       "feat0     0\n",
       "feat1     0\n",
       "feat2     0\n",
       "feat3     0\n",
       "feat4     0\n",
       "feat5     0\n",
       "feat6     0\n",
       "split0    0\n",
       "split1    0\n",
       "split2    0\n",
       "split3    0\n",
       "split4    0\n",
       "split5    0\n",
       "split6    0\n",
       "lp0       0\n",
       "lp1       0\n",
       "lp2       0\n",
       "lp3       0\n",
       "lp4       0\n",
       "lp5       0\n",
       "lp6       0\n",
       "lp7       0\n",
       "dtype: int64"
      ]
     },
     "execution_count": 19,
     "metadata": {},
     "output_type": "execute_result"
    }
   ],
   "source": [
    "y_data_list[0][0]"
   ]
  },
  {
   "cell_type": "code",
   "execution_count": 20,
   "metadata": {
    "execution": {
     "iopub.execute_input": "2022-03-26T12:10:50.851971Z",
     "iopub.status.busy": "2022-03-26T12:10:50.851393Z",
     "iopub.status.idle": "2022-03-26T12:10:50.904601Z",
     "shell.execute_reply": "2022-03-26T12:10:50.903583Z",
     "shell.execute_reply.started": "2022-03-26T12:10:50.851944Z"
    }
   },
   "outputs": [
    {
     "data": {
      "text/html": [
       "<div>\n",
       "<style scoped>\n",
       "    .dataframe tbody tr th:only-of-type {\n",
       "        vertical-align: middle;\n",
       "    }\n",
       "\n",
       "    .dataframe tbody tr th {\n",
       "        vertical-align: top;\n",
       "    }\n",
       "\n",
       "    .dataframe thead th {\n",
       "        text-align: right;\n",
       "    }\n",
       "</style>\n",
       "<table border=\"1\" class=\"dataframe\">\n",
       "  <thead>\n",
       "    <tr style=\"text-align: right;\">\n",
       "      <th></th>\n",
       "      <th>result</th>\n",
       "    </tr>\n",
       "  </thead>\n",
       "  <tbody>\n",
       "    <tr>\n",
       "      <th>0</th>\n",
       "      <td>0</td>\n",
       "    </tr>\n",
       "    <tr>\n",
       "      <th>1</th>\n",
       "      <td>0</td>\n",
       "    </tr>\n",
       "    <tr>\n",
       "      <th>2</th>\n",
       "      <td>0</td>\n",
       "    </tr>\n",
       "    <tr>\n",
       "      <th>3</th>\n",
       "      <td>0</td>\n",
       "    </tr>\n",
       "    <tr>\n",
       "      <th>4</th>\n",
       "      <td>0</td>\n",
       "    </tr>\n",
       "    <tr>\n",
       "      <th>5</th>\n",
       "      <td>0</td>\n",
       "    </tr>\n",
       "    <tr>\n",
       "      <th>6</th>\n",
       "      <td>0</td>\n",
       "    </tr>\n",
       "    <tr>\n",
       "      <th>7</th>\n",
       "      <td>0</td>\n",
       "    </tr>\n",
       "    <tr>\n",
       "      <th>8</th>\n",
       "      <td>0</td>\n",
       "    </tr>\n",
       "    <tr>\n",
       "      <th>9</th>\n",
       "      <td>0</td>\n",
       "    </tr>\n",
       "  </tbody>\n",
       "</table>\n",
       "</div>"
      ],
      "text/plain": [
       "   result\n",
       "0       0\n",
       "1       0\n",
       "2       0\n",
       "3       0\n",
       "4       0\n",
       "5       0\n",
       "6       0\n",
       "7       0\n",
       "8       0\n",
       "9       0"
      ]
     },
     "execution_count": 20,
     "metadata": {},
     "output_type": "execute_result"
    }
   ],
   "source": [
    "y_data_list[0][1].head(10)"
   ]
  },
  {
   "cell_type": "markdown",
   "metadata": {
    "ExecuteTime": {
     "end_time": "2020-09-16T17:06:36.919643Z",
     "start_time": "2020-09-16T17:06:36.912904Z"
    }
   },
   "source": [
    "## Lambda Network Training + Weigh/Bias saving"
   ]
  },
  {
   "cell_type": "code",
   "execution_count": 21,
   "metadata": {
    "execution": {
     "iopub.execute_input": "2022-03-26T12:10:50.906674Z",
     "iopub.status.busy": "2022-03-26T12:10:50.906103Z",
     "iopub.status.idle": "2022-03-26T12:10:50.990031Z",
     "shell.execute_reply": "2022-03-26T12:10:50.989355Z",
     "shell.execute_reply.started": "2022-03-26T12:10:50.906643Z"
    }
   },
   "outputs": [],
   "source": [
    "#%load_ext autoreload"
   ]
  },
  {
   "cell_type": "code",
   "execution_count": 22,
   "metadata": {
    "execution": {
     "iopub.execute_input": "2022-03-26T12:10:50.991298Z",
     "iopub.status.busy": "2022-03-26T12:10:50.990992Z",
     "iopub.status.idle": "2022-03-26T12:10:51.090323Z",
     "shell.execute_reply": "2022-03-26T12:10:51.089398Z",
     "shell.execute_reply.started": "2022-03-26T12:10:50.991274Z"
    },
    "tags": []
   },
   "outputs": [],
   "source": [
    "rand_index = np.random.randint(number_of_trained_lambda_nets)\n",
    "\n",
    "#rand_tree = generate_decision_tree_from_array(y_data_list[rand_index][0].values, config)\n",
    "#rand_tree.plot_tree()"
   ]
  },
  {
   "cell_type": "code",
   "execution_count": 23,
   "metadata": {
    "execution": {
     "iopub.execute_input": "2022-03-26T12:10:51.091855Z",
     "iopub.status.busy": "2022-03-26T12:10:51.091626Z",
     "iopub.status.idle": "2022-03-26T12:13:56.700819Z",
     "shell.execute_reply": "2022-03-26T12:13:56.698955Z",
     "shell.execute_reply.started": "2022-03-26T12:10:51.091826Z"
    },
    "tags": []
   },
   "outputs": [
    {
     "data": {
      "image/png": "[encoded data removed]",
      "text/plain": [
       "<Figure size 864x576 with 2 Axes>"
      ]
     },
     "metadata": {},
     "output_type": "display_data"
    },
    {
     "name": "stdout",
     "output_type": "stream",
     "text": [
      "binary_accuracy\n",
      "\ttraining         \t (min:    0.857, max:    0.999, cur:    0.999)\n",
      "\tvalidation       \t (min:    0.949, max:    0.984, cur:    0.976)\n",
      "Loss\n",
      "\ttraining         \t (min:    0.006, max:    0.578, cur:    0.007)\n",
      "\tvalidation       \t (min:    0.070, max:    0.467, cur:    0.087)\n"
     ]
    }
   ],
   "source": [
    "#%autoreload 2\n",
    "random_network = train_lambda_net(config=config,\n",
    "                                  lambda_index=rand_index, \n",
    "                                  X_data_with_function=X_data_list[rand_index], \n",
    "                                  y_data_with_function=y_data_list[rand_index], \n",
    "                                  distribution_parameter_list = distribution_parameter_list_list[rand_index][1],\n",
    "                                  callbacks=[PlotLossesKerasTF()], \n",
    "                                  return_model=True,\n",
    "                                  printing=False)"
   ]
  },
  {
   "cell_type": "code",
   "execution_count": 24,
   "metadata": {
    "execution": {
     "iopub.execute_input": "2022-03-26T12:13:56.703215Z",
     "iopub.status.busy": "2022-03-26T12:13:56.702953Z",
     "iopub.status.idle": "2022-03-26T12:14:19.121312Z",
     "shell.execute_reply": "2022-03-26T12:14:19.120526Z",
     "shell.execute_reply.started": "2022-03-26T12:13:56.703177Z"
    },
    "tags": []
   },
   "outputs": [
    {
     "data": {
      "image/png": "[encoded data removed]",
      "text/plain": [
       "<Figure size 1440x1080 with 64 Axes>"
      ]
     },
     "metadata": {},
     "output_type": "display_data"
    }
   ],
   "source": [
    "colors_list = ['green','blue','yellow','cyan','magenta','pink']\n",
    "\n",
    "if config['data']['number_of_variables'] > 4:\n",
    "    fig,ax = plt.subplots(nrows=np.ceil(config['data']['number_of_variables']*2/4).astype(int), ncols=4,figsize=(20,15))\n",
    "else:\n",
    "    fig,ax = plt.subplots(nrows=np.ceil(config['data']['number_of_variables']*2/2).astype(int), ncols=2,figsize=(20,15))\n",
    "\n",
    "for axis_1 in ax:\n",
    "    for axis_2 in axis_1:\n",
    "        axis_2.set_xlim([0, 1])                          \n",
    "\n",
    "plot_index = 0\n",
    "\n",
    "for i in range(X_data_list[rand_index][1].values.shape[1]):\n",
    "    colors = colors_list[i%6]\n",
    "\n",
    "    x = X_data_list[rand_index][1].values[:,i][np.where(random_network['model'].predict(X_data_list[rand_index][1].values).ravel()<=0.5)]\n",
    "    plt.subplot(np.ceil(config['data']['number_of_variables']*2/4).astype(int), 4,plot_index+1)\n",
    "    plt.hist(x,bins=[i/10 for i in range(11)],color=colors)\n",
    "    #plt.title(list(distribution_parameter.keys())[0] + ' Class 0' )\n",
    "    plot_index += 1\n",
    "\n",
    "    x = X_data_list[rand_index][1].values[:,i][np.where(random_network['model'].predict(X_data_list[rand_index][1].values).ravel()>0.5)]\n",
    "    plt.subplot(np.ceil(config['data']['number_of_variables']*2/4).astype(int),4,plot_index+1)\n",
    "    plt.hist(x,bins=[i/10 for i in range(11)],color=colors)\n",
    "    #plt.title(list(distribution_parameter.keys())[0] + ' Class 1' )\n",
    "    plot_index += 1\n",
    "\n",
    "fig.subplots_adjust(hspace=0.4,wspace=.3) \n",
    "plt.suptitle('Sampling from Various Distributions',fontsize=20)\n",
    "plt.show()"
   ]
  },
  {
   "cell_type": "code",
   "execution_count": 25,
   "metadata": {
    "execution": {
     "iopub.execute_input": "2022-03-26T12:14:19.122828Z",
     "iopub.status.busy": "2022-03-26T12:14:19.122570Z",
     "iopub.status.idle": "2022-03-26T12:14:19.139529Z",
     "shell.execute_reply": "2022-03-26T12:14:19.138610Z",
     "shell.execute_reply.started": "2022-03-26T12:14:19.122800Z"
    },
    "tags": []
   },
   "outputs": [
    {
     "data": {
      "text/plain": [
       "[{'poisson': {'class_0': {'lam': 1.0303902547772925},\n",
       "   'class_1': {'lam': 1.460322482102753},\n",
       "   'samples_class_0': 2500,\n",
       "   'feature_weight_0': 1,\n",
       "   'seed_shuffeling': 1712085}},\n",
       " {'uniform': {'class_0': {'low': 2.0636897112556154,\n",
       "    'high': 2.880849366703595},\n",
       "   'class_1': {'low': 1.4281089783435692, 'high': 2.7743425150582244},\n",
       "   'samples_class_0': 2500,\n",
       "   'feature_weight_0': 1,\n",
       "   'seed_shuffeling': 1712085}},\n",
       " {'uniform': {'class_0': {'low': 1.2154123987383891,\n",
       "    'high': 2.741849223582385},\n",
       "   'class_1': {'low': 1.7363742812892575, 'high': 3.302556976985825},\n",
       "   'samples_class_0': 2500,\n",
       "   'feature_weight_0': 1,\n",
       "   'seed_shuffeling': 1712085}},\n",
       " {'gamma': {'class_0': {'shape': 1.7924576344114451,\n",
       "    'scale': 3.4272358408403827},\n",
       "   'class_1': {'shape': 2.1212857203662048, 'scale': 3.4309928192684453},\n",
       "   'samples_class_0': 2500,\n",
       "   'feature_weight_0': 1,\n",
       "   'seed_shuffeling': 1712085}},\n",
       " {'uniform': {'class_0': {'low': 0.9108038024259563,\n",
       "    'high': 4.006276778729284},\n",
       "   'class_1': {'low': 1.1192689573042758, 'high': 2.527224874151309},\n",
       "   'samples_class_0': 2500,\n",
       "   'feature_weight_0': 1,\n",
       "   'seed_shuffeling': 1712085}},\n",
       " {'normal': {'class_0': {'loc': 4.654146024328943,\n",
       "    'scale': 3.8826017139408604},\n",
       "   'class_1': {'loc': 4.582940627292687, 'scale': 5.0},\n",
       "   'samples_class_0': 2500,\n",
       "   'feature_weight_0': 1,\n",
       "   'seed_shuffeling': 1712085}},\n",
       " {'poisson': {'class_0': {'lam': 3.7163771100611234},\n",
       "   'class_1': {'lam': 3.2044010948342003},\n",
       "   'samples_class_0': 2500,\n",
       "   'feature_weight_0': 1,\n",
       "   'seed_shuffeling': 1712085}},\n",
       " {'normal': {'class_0': {'loc': 2.7036704775864777,\n",
       "    'scale': 3.5461172455180208},\n",
       "   'class_1': {'loc': 1.4388566397872466, 'scale': 3.925692970968756},\n",
       "   'samples_class_0': 2500,\n",
       "   'feature_weight_0': 1,\n",
       "   'seed_shuffeling': 1712085}},\n",
       " {'beta': {'class_0': {'a': 0.189630741766742, 'b': 1.3762950597918477},\n",
       "   'class_1': {'a': 0.2682972435613812, 'b': 1.0545896539486175},\n",
       "   'samples_class_0': 2500,\n",
       "   'feature_weight_0': 1,\n",
       "   'seed_shuffeling': 1712085}},\n",
       " {'uniform': {'class_0': {'low': 3.4968469652908176,\n",
       "    'high': 4.018684542741968},\n",
       "   'class_1': {'low': 2.9826347942401212, 'high': 4.412583995300386},\n",
       "   'samples_class_0': 2500,\n",
       "   'feature_weight_0': 1,\n",
       "   'seed_shuffeling': 1712085}},\n",
       " {'gamma': {'class_0': {'shape': 3.3155586060737146,\n",
       "    'scale': 4.643245921982205},\n",
       "   'class_1': {'shape': 4.132059566090319, 'scale': 2.772287044906749},\n",
       "   'samples_class_0': 2500,\n",
       "   'feature_weight_0': 1,\n",
       "   'seed_shuffeling': 1712085}},\n",
       " {'normal': {'class_0': {'loc': 3.199584275031155, 'scale': 3.728095917006184},\n",
       "   'class_1': {'loc': 4.771374692138879, 'scale': 2.151497038703247},\n",
       "   'samples_class_0': 2500,\n",
       "   'feature_weight_0': 1,\n",
       "   'seed_shuffeling': 1712085}},\n",
       " {'normal': {'class_0': {'loc': 0.8589013450499045,\n",
       "    'scale': 0.539243187710825},\n",
       "   'class_1': {'loc': 0.9437281729440238, 'scale': 0.6458502298648067},\n",
       "   'samples_class_0': 2500,\n",
       "   'feature_weight_0': 1,\n",
       "   'seed_shuffeling': 1712085}},\n",
       " {'poisson': {'class_0': {'lam': 2.5139720747773495},\n",
       "   'class_1': {'lam': 2.769166113777338},\n",
       "   'samples_class_0': 2500,\n",
       "   'feature_weight_0': 1,\n",
       "   'seed_shuffeling': 1712085}},\n",
       " {'gamma': {'class_0': {'shape': 1.0605763833760222,\n",
       "    'scale': 3.5109409983857383},\n",
       "   'class_1': {'shape': 0.9859075705355829, 'scale': 3.252753929310851},\n",
       "   'samples_class_0': 2500,\n",
       "   'feature_weight_0': 1,\n",
       "   'seed_shuffeling': 1712085}},\n",
       " {'normal': {'class_0': {'loc': 1.528889148480198, 'scale': 4.81466814176515},\n",
       "   'class_1': {'loc': 0.966323767463726, 'scale': 2.4744721901208866},\n",
       "   'samples_class_0': 2500,\n",
       "   'feature_weight_0': 1,\n",
       "   'seed_shuffeling': 1712085}},\n",
       " {'normal': {'class_0': {'loc': 3.7512084945290054,\n",
       "    'scale': 1.7089736974704461},\n",
       "   'class_1': {'loc': 4.1832528566369245, 'scale': 1.660008986003486},\n",
       "   'samples_class_0': 2500,\n",
       "   'feature_weight_0': 1,\n",
       "   'seed_shuffeling': 1712085}},\n",
       " {'poisson': {'class_0': {'lam': 3.243939175737381},\n",
       "   'class_1': {'lam': 3.1222008976281352},\n",
       "   'samples_class_0': 2500,\n",
       "   'feature_weight_0': 1,\n",
       "   'seed_shuffeling': 1712085}},\n",
       " {'gamma': {'class_0': {'shape': 1.030724342962337,\n",
       "    'scale': 1.902334929487695},\n",
       "   'class_1': {'shape': 1.0530675062719257, 'scale': 2.792710995515198},\n",
       "   'samples_class_0': 2500,\n",
       "   'feature_weight_0': 1,\n",
       "   'seed_shuffeling': 1712085}},\n",
       " {'uniform': {'class_0': {'low': 0.525072954769551,\n",
       "    'high': 1.7116901141690217},\n",
       "   'class_1': {'low': 0.581597502322651, 'high': 2.377145368426529},\n",
       "   'samples_class_0': 2500,\n",
       "   'feature_weight_0': 1,\n",
       "   'seed_shuffeling': 1712085}},\n",
       " {'beta': {'class_0': {'a': 4.542763298123321, 'b': 4.66846300423059},\n",
       "   'class_1': {'a': 2.6649378398353956, 'b': 3.2860328642927596},\n",
       "   'samples_class_0': 2500,\n",
       "   'feature_weight_0': 1,\n",
       "   'seed_shuffeling': 1712085}},\n",
       " {'normal': {'class_0': {'loc': 4.091756656419841,\n",
       "    'scale': 2.5550035733244365},\n",
       "   'class_1': {'loc': 4.726401045571339, 'scale': 1.336605897071803},\n",
       "   'samples_class_0': 2500,\n",
       "   'feature_weight_0': 1,\n",
       "   'seed_shuffeling': 1712085}},\n",
       " {'gamma': {'class_0': {'shape': 3.012569233743738,\n",
       "    'scale': 3.903100876237863},\n",
       "   'class_1': {'shape': 2.1130829187716085, 'scale': 3.5788509153835544},\n",
       "   'samples_class_0': 2500,\n",
       "   'feature_weight_0': 1,\n",
       "   'seed_shuffeling': 1712085}},\n",
       " {'poisson': {'class_0': {'lam': 2.037333587623436},\n",
       "   'class_1': {'lam': 2.5254346682145643},\n",
       "   'samples_class_0': 2500,\n",
       "   'feature_weight_0': 1,\n",
       "   'seed_shuffeling': 1712085}},\n",
       " {'poisson': {'class_0': {'lam': 2.1035367781780927},\n",
       "   'class_1': {'lam': 1.3349828296875117},\n",
       "   'samples_class_0': 2500,\n",
       "   'feature_weight_0': 1,\n",
       "   'seed_shuffeling': 1712085}},\n",
       " {'poisson': {'class_0': {'lam': 3.406341761756541},\n",
       "   'class_1': {'lam': 2.152327171862458},\n",
       "   'samples_class_0': 2500,\n",
       "   'feature_weight_0': 1,\n",
       "   'seed_shuffeling': 1712085}},\n",
       " {'normal': {'class_0': {'loc': 0.9158786023089505,\n",
       "    'scale': 3.1035988460913537},\n",
       "   'class_1': {'loc': 1.3396658666586068, 'scale': 3.0653452705637942},\n",
       "   'samples_class_0': 2500,\n",
       "   'feature_weight_0': 1,\n",
       "   'seed_shuffeling': 1712085}},\n",
       " {'gamma': {'class_0': {'shape': 4.726173117806903, 'scale': 3.91873946108276},\n",
       "   'class_1': {'shape': 5.0, 'scale': 4.730186523522411},\n",
       "   'samples_class_0': 2500,\n",
       "   'feature_weight_0': 1,\n",
       "   'seed_shuffeling': 1712085}},\n",
       " {'gamma': {'class_0': {'shape': 0.28166168080605014,\n",
       "    'scale': 3.778638556494234},\n",
       "   'class_1': {'shape': 0.3338415041777079, 'scale': 3.9435573744028374},\n",
       "   'samples_class_0': 2500,\n",
       "   'feature_weight_0': 1,\n",
       "   'seed_shuffeling': 1712085}},\n",
       " {'normal': {'class_0': {'loc': 4.127263330253497, 'scale': 4.926738404013268},\n",
       "   'class_1': {'loc': 2.3132620242016975, 'scale': 4.293410793173827},\n",
       "   'samples_class_0': 2500,\n",
       "   'feature_weight_0': 1,\n",
       "   'seed_shuffeling': 1712085}},\n",
       " {'uniform': {'class_0': {'low': 1.7935173173478152,\n",
       "    'high': 4.2410432357954475},\n",
       "   'class_1': {'low': 1.7052790760428387, 'high': 2.5335933198216205},\n",
       "   'samples_class_0': 2500,\n",
       "   'feature_weight_0': 1,\n",
       "   'seed_shuffeling': 1712085}},\n",
       " {'gamma': {'class_0': {'shape': 3.4188745008645407,\n",
       "    'scale': 0.018695493855389045},\n",
       "   'class_1': {'shape': 4.196209859980393, 'scale': 0.015305539978076916},\n",
       "   'samples_class_0': 2500,\n",
       "   'feature_weight_0': 1,\n",
       "   'seed_shuffeling': 1712085}}]"
      ]
     },
     "execution_count": 25,
     "metadata": {},
     "output_type": "execute_result"
    }
   ],
   "source": [
    "distribution_parameter_list_list[0][1]"
   ]
  },
  {
   "cell_type": "code",
   "execution_count": 26,
   "metadata": {
    "execution": {
     "iopub.execute_input": "2022-03-26T12:14:19.143023Z",
     "iopub.status.busy": "2022-03-26T12:14:19.142633Z",
     "iopub.status.idle": "2022-03-26T12:14:19.176579Z",
     "shell.execute_reply": "2022-03-26T12:14:19.174792Z",
     "shell.execute_reply.started": "2022-03-26T12:14:19.142987Z"
    },
    "tags": []
   },
   "outputs": [],
   "source": [
    "#%load_ext autoreload\n",
    "#%autoreload 2"
   ]
  },
  {
   "cell_type": "code",
   "execution_count": null,
   "metadata": {
    "execution": {
     "iopub.execute_input": "2022-03-26T12:14:19.189196Z",
     "iopub.status.busy": "2022-03-26T12:14:19.183403Z"
    },
    "tags": []
   },
   "outputs": [
    {
     "name": "stderr",
     "output_type": "stream",
     "text": [
      "[Parallel(n_jobs=12)]: Using backend LokyBackend with 12 concurrent workers.\n",
      "[Parallel(n_jobs=12)]: Done   8 tasks      | elapsed:  1.0min\n",
      "[Parallel(n_jobs=12)]: Done 104 tasks      | elapsed:  5.7min\n",
      "[Parallel(n_jobs=12)]: Done 264 tasks      | elapsed: 13.7min\n",
      "[Parallel(n_jobs=12)]: Done 488 tasks      | elapsed: 24.6min\n",
      "[Parallel(n_jobs=12)]: Done 776 tasks      | elapsed: 38.8min\n",
      "[Parallel(n_jobs=12)]: Done 1128 tasks      | elapsed: 56.3min\n",
      "[Parallel(n_jobs=12)]: Done 1544 tasks      | elapsed: 77.6min\n",
      "[Parallel(n_jobs=12)]: Done 2024 tasks      | elapsed: 101.5min\n",
      "[Parallel(n_jobs=12)]: Done 2568 tasks      | elapsed: 128.5min\n",
      "[Parallel(n_jobs=12)]: Done 3176 tasks      | elapsed: 157.8min\n",
      "[Parallel(n_jobs=12)]: Done 3848 tasks      | elapsed: 190.9min\n",
      "[Parallel(n_jobs=12)]: Done 4584 tasks      | elapsed: 226.2min\n",
      "[Parallel(n_jobs=12)]: Done 5384 tasks      | elapsed: 266.6min\n",
      "[Parallel(n_jobs=12)]: Done 6248 tasks      | elapsed: 309.7min\n",
      "[Parallel(n_jobs=12)]: Done 7176 tasks      | elapsed: 355.2min\n",
      "[Parallel(n_jobs=12)]: Done 8168 tasks      | elapsed: 405.2min\n",
      "[Parallel(n_jobs=12)]: Done 9224 tasks      | elapsed: 452.7min\n"
     ]
    }
   ],
   "source": [
    "parallel = Parallel(n_jobs=n_jobs, verbose=3, backend='loky') #loky\n",
    "clf_list = parallel(delayed(train_lambda_net)(config=config,\n",
    "                                              lambda_index=index, \n",
    "                                              X_data_with_function=X_data, \n",
    "                                              y_data_with_function=y_data,\n",
    "                                              distribution_parameter_list=distribution_parameter_list[1],\n",
    "                                              return_history=True, \n",
    "                                              printing=True) for index, (X_data, y_data, distribution_parameter_list) in enumerate(zip(X_data_list, y_data_list, distribution_parameter_list_list)))  \n",
    "del parallel"
   ]
  },
  {
   "cell_type": "code",
   "execution_count": null,
   "metadata": {},
   "outputs": [],
   "source": [
    "random_network['model'].get_config()"
   ]
  },
  {
   "cell_type": "code",
   "execution_count": null,
   "metadata": {
    "tags": []
   },
   "outputs": [],
   "source": [
    "random_network['model'].summary()"
   ]
  },
  {
   "cell_type": "markdown",
   "metadata": {},
   "source": [
    "## Save and Plot Lambda-Model History"
   ]
  },
  {
   "cell_type": "code",
   "execution_count": null,
   "metadata": {
    "ExecuteTime": {
     "start_time": "2021-01-17T09:44:26.874Z"
    },
    "tags": []
   },
   "outputs": [],
   "source": [
    "loss_list_total = []\n",
    "metric_list_total = []\n",
    "\n",
    "val_loss_list_total = []\n",
    "val_metric_list_total = []\n",
    "\n",
    "index_list = []\n",
    "\n",
    "\n",
    "max_training_epochs = 0\n",
    "for _, entry in tqdm(enumerate(clf_list)):\n",
    "    history = entry['history']\n",
    "    \n",
    "    current_training_epochs = len(history[list(history.keys())[0]])\n",
    "    max_training_epochs = max(max_training_epochs, current_training_epochs)\n",
    "\n",
    "\n",
    "for _, entry in tqdm(enumerate(clf_list)):\n",
    "    history = entry['history']\n",
    "    index = entry['index']\n",
    "    \n",
    "    current_training_epochs = len(history[list(history.keys())[0]])\n",
    "    \n",
    "    loss_list = np.full(max_training_epochs, np.nan)\n",
    "    metric_list = np.full(max_training_epochs, np.nan)\n",
    "    val_loss_list = np.full(max_training_epochs, np.nan)\n",
    "    val_metric_list = np.full(max_training_epochs, np.nan) \n",
    "\n",
    "    for i in range(current_training_epochs):  \n",
    "        loss_list[i] = history[list(history.keys())[0]][i]\n",
    "        metric_list[i] = history[list(history.keys())[1]][i]\n",
    "        val_loss_list[i] = history[list(history.keys())[len(history.keys())//2]][i]\n",
    "        val_metric_list[i] = history[list(history.keys())[len(history.keys())//2+1]][i]\n",
    "    \n",
    "    index_list.append([index])\n",
    "    loss_list_total.append(loss_list)\n",
    "    metric_list_total.append(metric_list)\n",
    "    val_loss_list_total.append(val_loss_list)\n",
    "    val_metric_list_total.append(val_metric_list)\n",
    "\n",
    "loss_df = pd.DataFrame(data=np.hstack([index_list, loss_list_total]), columns=flatten_list(['index', [list(history.keys())[0] + '_epoch_' + str(i+1) for i in range(max_training_epochs)]]))\n",
    "#loss_df['index'] = loss_df['index'].astype(int)\n",
    "metric_df = pd.DataFrame(data=np.hstack([index_list, metric_list_total]), columns=flatten_list(['index', [list(history.keys())[1] + '_epoch_' + str(i+1) for i in range(max_training_epochs)]]))\n",
    "#metric_df['index'] = metric_df['index'].astype(int)\n",
    "val_loss_df = pd.DataFrame(data=np.hstack([index_list, val_loss_list_total]), columns=flatten_list(['index', [list(history.keys())[len(history.keys())//2] + '_epoch_' + str(i+1) for i in range(max_training_epochs)]]))\n",
    "#val_loss_df['index'] = val_loss_df['index'].astype(int)\n",
    "val_metric_df = pd.DataFrame(data=np.hstack([index_list, val_metric_list_total]), columns=flatten_list(['index', [list(history.keys())[len(history.keys())//2+1] + '_epoch_' + str(i+1) for i in range(max_training_epochs)]])) \n",
    "#val_metric_df['index'] = val_metric_df['index'].astype(int)\n"
   ]
  },
  {
   "cell_type": "code",
   "execution_count": null,
   "metadata": {
    "ExecuteTime": {
     "start_time": "2021-01-17T09:44:26.875Z"
    }
   },
   "outputs": [],
   "source": [
    "path_loss = './data/weights/weights_' + path_identifier_lambda_net_data + '/history_' + list(history.keys())[0] + '.txt'\n",
    "path_metric = './data/weights/weights_' + path_identifier_lambda_net_data + '/history_' + list(history.keys())[1] + '.txt'\n",
    "path_val_loss = './data/weights/weights_' + path_identifier_lambda_net_data + '/history_' + list(history.keys())[len(history.keys())//2] + '.txt'\n",
    "path_val_metric = './data/weights/weights_' + path_identifier_lambda_net_data + '/history_' + list(history.keys())[len(history.keys())//2+1] + '.txt'\n",
    "\n",
    "loss_df.to_csv(path_loss, index=None, sep=',')\n",
    "metric_df.to_csv(path_metric, index=None, sep=',')\n",
    "val_loss_df.to_csv(path_val_loss, index=None, sep=',')\n",
    "val_metric_df.to_csv(path_val_metric, index=None, sep=',')\n"
   ]
  },
  {
   "cell_type": "code",
   "execution_count": null,
   "metadata": {
    "ExecuteTime": {
     "start_time": "2021-01-17T09:44:26.876Z"
    }
   },
   "outputs": [],
   "source": [
    "loss_df.describe()"
   ]
  },
  {
   "cell_type": "code",
   "execution_count": null,
   "metadata": {
    "ExecuteTime": {
     "start_time": "2021-01-17T09:44:26.877Z"
    }
   },
   "outputs": [],
   "source": [
    "val_loss_df.describe()"
   ]
  },
  {
   "cell_type": "code",
   "execution_count": null,
   "metadata": {
    "ExecuteTime": {
     "start_time": "2021-01-17T09:44:26.879Z"
    }
   },
   "outputs": [],
   "source": [
    "metric_df.describe()"
   ]
  },
  {
   "cell_type": "code",
   "execution_count": null,
   "metadata": {
    "ExecuteTime": {
     "start_time": "2021-01-17T09:44:26.880Z"
    }
   },
   "outputs": [],
   "source": [
    "val_metric_df.describe()"
   ]
  },
  {
   "cell_type": "code",
   "execution_count": null,
   "metadata": {
    "ExecuteTime": {
     "start_time": "2021-01-17T09:44:26.881Z"
    }
   },
   "outputs": [],
   "source": [
    "# summarize history for metric\n",
    "path = './data/results/weights_' + path_identifier_lambda_net_data + '/' + list(history.keys())[1] + '.png'\n",
    "\n",
    "adjustment_threshold_metric = 10#100\n",
    "    \n",
    "metric_df_adjusted = metric_df.copy(deep=True).iloc[:,1:]\n",
    "if adjustment_threshold_metric > 0:\n",
    "    metric_df_adjusted[metric_df_adjusted.columns] = np.where(metric_df_adjusted[metric_df_adjusted.columns] > adjustment_threshold_metric, adjustment_threshold_metric, metric_df_adjusted[metric_df_adjusted.columns])\n",
    "    \n",
    "val_metric_df_adjusted = val_metric_df.copy(deep=True).iloc[:,1:]\n",
    "if adjustment_threshold_metric > 0:\n",
    "    val_metric_df_adjusted[val_metric_df_adjusted.columns] = np.where(val_metric_df_adjusted[val_metric_df_adjusted.columns] > adjustment_threshold_metric, adjustment_threshold_metric, val_metric_df_adjusted[val_metric_df_adjusted.columns])\n",
    "\n",
    "    \n",
    "plt.plot(metric_df_adjusted.describe().loc['mean'].values)\n",
    "plt.plot(val_metric_df_adjusted.describe().loc['mean'].values)\n",
    "plt.title('model ' + list(history.keys())[1])\n",
    "plt.ylabel(list(history.keys())[1])\n",
    "plt.xlabel('epoch')\n",
    "plt.legend(['train', 'valid'], loc='upper left')\n",
    "plt.savefig(path)\n",
    "plt.show()\n"
   ]
  },
  {
   "cell_type": "code",
   "execution_count": null,
   "metadata": {
    "ExecuteTime": {
     "start_time": "2021-01-17T09:44:26.883Z"
    },
    "tags": []
   },
   "outputs": [],
   "source": [
    "# summarize history for loss\n",
    "path = './data/results/weights_' + path_identifier_lambda_net_data + '/' + list(history.keys())[0] + '.png'\n",
    "\n",
    "adjustment_threshold_loss = 0#10000\n",
    "    \n",
    "loss_df_adjusted = loss_df.copy(deep=True).iloc[:,1:]\n",
    "\n",
    "if adjustment_threshold_loss > 0:\n",
    "    loss_df_adjusted[loss_df_adjusted.columns] = np.where(loss_df_adjusted[loss_df_adjusted.columns] > adjustment_threshold_loss, adjustment_threshold_loss, loss_df_adjusted[loss_df_adjusted.columns])\n",
    "    \n",
    "val_loss_df_adjusted = val_loss_df.copy(deep=True).iloc[:,1:]\n",
    "if adjustment_threshold_loss > 0:\n",
    "    val_loss_df_adjusted[val_loss_df_adjusted.columns] = np.where(val_loss_df_adjusted[val_loss_df_adjusted.columns] > adjustment_threshold_loss, adjustment_threshold_loss, val_loss_df_adjusted[val_loss_df_adjusted.columns])\n",
    "\n",
    "    \n",
    "plt.plot(loss_df_adjusted.describe().loc['mean'].values)\n",
    "plt.plot(val_loss_df_adjusted.describe().loc['mean'].values)\n",
    "plt.title('model ' + list(history.keys())[0])\n",
    "plt.ylabel(list(history.keys())[0])\n",
    "plt.xlabel('epoch')\n",
    "plt.legend(['train', 'valid'], loc='upper left')\n",
    "plt.savefig(path)\n",
    "plt.show()\n"
   ]
  },
  {
   "cell_type": "code",
   "execution_count": null,
   "metadata": {
    "tags": []
   },
   "outputs": [],
   "source": [
    "if use_gpu:\n",
    "    from numba import cuda \n",
    "    device = cuda.get_current_device()\n",
    "    device.reset()"
   ]
  }
 ],
 "metadata": {
  "kernelspec": {
   "display_name": "Python 3 (ipykernel)",
   "language": "python",
   "name": "python3"
  },
  "language_info": {
   "codemirror_mode": {
    "name": "ipython",
    "version": 3
   },
   "file_extension": ".py",
   "mimetype": "text/x-python",
   "name": "python",
   "nbconvert_exporter": "python",
   "pygments_lexer": "ipython3",
   "version": "3.8.0"
  }
 },
 "nbformat": 4,
 "nbformat_minor": 4
}
