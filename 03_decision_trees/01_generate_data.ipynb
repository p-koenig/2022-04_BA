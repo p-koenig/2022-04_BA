{
 "cells": [
  {
   "cell_type": "markdown",
   "metadata": {},
   "source": [
    "# Function Generation for the Training of λ-Nets"
   ]
  },
  {
   "cell_type": "markdown",
   "metadata": {
    "ExecuteTime": {
     "end_time": "2020-09-16T12:26:49.061308Z",
     "start_time": "2020-09-16T12:26:49.055692Z"
    }
   },
   "source": [
    "## Specitication of Experiment Settings"
   ]
  },
  {
   "cell_type": "code",
   "execution_count": 1,
   "metadata": {
    "execution": {
     "iopub.execute_input": "2021-12-13T13:08:09.479572Z",
     "iopub.status.busy": "2021-12-13T13:08:09.479183Z",
     "iopub.status.idle": "2021-12-13T13:08:09.503488Z",
     "shell.execute_reply": "2021-12-13T13:08:09.501781Z",
     "shell.execute_reply.started": "2021-12-13T13:08:09.479454Z"
    },
    "tags": []
   },
   "outputs": [],
   "source": [
    "#######################################################################################################################################\n",
    "###################################################### CONFIG FILE ####################################################################\n",
    "#######################################################################################################################################\n",
    "sleep_time = 0 #minutes\n",
    "\n",
    "\n",
    "config = {\n",
    "    'function_family': {\n",
    "        'maximum_depth': 3,\n",
    "        'beta': 1,\n",
    "        'decision_sparsity': 1,\n",
    "        'fully_grown': True,\n",
    "        'dt_type': 'vanilla', #'vanilla', 'SDT'\n",
    "    },\n",
    "    'data': {\n",
    "        'number_of_variables': 10, \n",
    "        'num_classes': 2,\n",
    "        'categorical_indices': [],\n",
    "        \n",
    "        'function_generation_type': 'random_decision_tree_trained', # 'make_classification', 'make_classification_trained', 'random_decision_tree', 'random_decision_tree_trained'\n",
    "        'objective': 'classification', # 'regression'\n",
    "        \n",
    "        'x_max': 1,\n",
    "        'x_min': 0,\n",
    "        'x_distrib': 'uniform', #'normal', 'uniform',       \n",
    "                \n",
    "        'lambda_dataset_size': 5000, #number of samples per function\n",
    "        'number_of_generated_datasets': 10000,\n",
    "    }, \n",
    "    'computation':{\n",
    "        'n_jobs': 20,\n",
    "        'use_gpu': False,\n",
    "        'gpu_numbers': '0',\n",
    "        'RANDOM_SEED': 42,   \n",
    "    }\n",
    "}\n"
   ]
  },
  {
   "cell_type": "code",
   "execution_count": 2,
   "metadata": {
    "execution": {
     "iopub.execute_input": "2021-12-13T13:08:09.509500Z",
     "iopub.status.busy": "2021-12-13T13:08:09.505946Z",
     "iopub.status.idle": "2021-12-13T13:08:09.530511Z",
     "shell.execute_reply": "2021-12-13T13:08:09.529288Z",
     "shell.execute_reply.started": "2021-12-13T13:08:09.509447Z"
    },
    "tags": []
   },
   "outputs": [],
   "source": [
    "#######################################################################################################################################\n",
    "########################################### IMPORT GLOBAL VARIABLES FROM CONFIG #######################################################\n",
    "#######################################################################################################################################\n",
    "globals().update(config['function_family'])\n",
    "globals().update(config['data'])\n",
    "globals().update(config['computation'])"
   ]
  },
  {
   "cell_type": "markdown",
   "metadata": {
    "ExecuteTime": {
     "end_time": "2020-09-16T12:26:58.879427Z",
     "start_time": "2020-09-16T12:26:58.874894Z"
    }
   },
   "source": [
    "## Imports"
   ]
  },
  {
   "cell_type": "code",
   "execution_count": 3,
   "metadata": {
    "ExecuteTime": {
     "end_time": "2021-01-13T21:12:40.476681Z",
     "start_time": "2021-01-13T21:12:38.298249Z"
    },
    "execution": {
     "iopub.execute_input": "2021-12-13T13:08:09.532933Z",
     "iopub.status.busy": "2021-12-13T13:08:09.532633Z",
     "iopub.status.idle": "2021-12-13T13:08:24.341959Z",
     "shell.execute_reply": "2021-12-13T13:08:24.340464Z",
     "shell.execute_reply.started": "2021-12-13T13:08:09.532902Z"
    },
    "tags": []
   },
   "outputs": [],
   "source": [
    "import warnings\n",
    "warnings.filterwarnings('ignore')\n",
    "import os\n",
    "os.environ['TF_CPP_MIN_LOG_LEVEL'] = '3' \n",
    "\n",
    "from itertools import product       # forms cartesian products\n",
    "from more_itertools import random_product \n",
    "from tqdm import tqdm_notebook as tqdm\n",
    "import pickle\n",
    "\n",
    "import numpy as np\n",
    "\n",
    "import pandas as pd\n",
    "from joblib import Parallel, delayed\n",
    "\n",
    "import random \n",
    "from random import sample \n",
    "\n",
    "import os\n",
    "import sys\n",
    "\n",
    "from sklearn.datasets import make_regression\n",
    "from sklearn.preprocessing import MinMaxScaler\n",
    "\n",
    "from sympy import Symbol, sympify\n",
    "\n",
    "        \n",
    "import seaborn as sns\n",
    "        \n",
    "import random \n",
    "\n",
    "import warnings\n",
    "\n",
    "from time import perf_counter\n",
    "\n",
    "\n",
    "\n",
    "from sklearn.datasets import load_iris, load_breast_cancer\n",
    "from sklearn.model_selection import train_test_split\n",
    "from sklearn.preprocessing import MinMaxScaler\n",
    "from utilities.DecisionTree_BASIC import SDT\n",
    "from sklearn.metrics import accuracy_score\n",
    "from sklearn.tree import plot_tree\n",
    "from matplotlib import pyplot as plt\n",
    "from IPython.display import Image\n",
    "\n",
    "import numpy as np\n",
    "import torch\n",
    "np.set_printoptions(suppress=True)\n",
    "torch.set_printoptions(sci_mode=False)"
   ]
  },
  {
   "cell_type": "code",
   "execution_count": 4,
   "metadata": {
    "execution": {
     "iopub.execute_input": "2021-12-13T13:08:24.344381Z",
     "iopub.status.busy": "2021-12-13T13:08:24.344048Z",
     "iopub.status.idle": "2021-12-13T13:08:24.357161Z",
     "shell.execute_reply": "2021-12-13T13:08:24.356087Z",
     "shell.execute_reply.started": "2021-12-13T13:08:24.344337Z"
    },
    "tags": []
   },
   "outputs": [],
   "source": [
    "#######################################################################################################################################\n",
    "###################################################### SET VARIABLES + DESIGN #########################################################\n",
    "#######################################################################################################################################\n",
    "os.environ['CUDA_VISIBLE_DEVICES'] = ''\n",
    "\n",
    "sns.set_style(\"darkgrid\")\n",
    "\n",
    "random.seed(RANDOM_SEED)\n",
    "np.random.seed(RANDOM_SEED)\n",
    "    \n",
    "    \n",
    "pd.set_option('display.float_format', lambda x: '%.3f' % x)\n",
    "pd.set_option('display.max_columns', 500)\n",
    "\n",
    "warnings.filterwarnings('ignore')"
   ]
  },
  {
   "cell_type": "code",
   "execution_count": 5,
   "metadata": {
    "execution": {
     "iopub.execute_input": "2021-12-13T13:08:24.359670Z",
     "iopub.status.busy": "2021-12-13T13:08:24.358554Z",
     "iopub.status.idle": "2021-12-13T13:08:24.381854Z",
     "shell.execute_reply": "2021-12-13T13:08:24.378539Z",
     "shell.execute_reply.started": "2021-12-13T13:08:24.359623Z"
    },
    "tags": []
   },
   "outputs": [],
   "source": [
    "from utilities.utility_functions import *\n",
    "#######################################################################################################################################\n",
    "####################################################### CONFIG ADJUSTMENTS ############################################################\n",
    "#######################################################################################################################################\n",
    "\n",
    "#######################################################################################################################################\n",
    "################################################## UPDATE VARIABLES ###################################################################\n",
    "#######################################################################################################################################\n",
    "globals().update(config['function_family'])\n",
    "globals().update(config['data'])\n",
    "globals().update(config['computation'])\n",
    "\n",
    "#initialize_utility_functions_config_from_curent_notebook(config)\n",
    "\n",
    "#######################################################################################################################################\n",
    "###################################################### PATH + FOLDER CREATION #########################################################\n",
    "#######################################################################################################################################\n",
    "globals().update(generate_paths(config, path_type='data_creation'))\n",
    "generate_directory_structure()\n",
    "\n",
    "#######################################################################################################################################\n",
    "############################################################ SLEEP TIMER ##############################################################\n",
    "#######################################################################################################################################\n",
    "sleep_minutes(sleep_time)"
   ]
  },
  {
   "cell_type": "code",
   "execution_count": 6,
   "metadata": {
    "execution": {
     "iopub.execute_input": "2021-12-13T13:08:24.385941Z",
     "iopub.status.busy": "2021-12-13T13:08:24.385564Z",
     "iopub.status.idle": "2021-12-13T13:08:24.399973Z",
     "shell.execute_reply": "2021-12-13T13:08:24.398217Z",
     "shell.execute_reply.started": "2021-12-13T13:08:24.385894Z"
    },
    "tags": []
   },
   "outputs": [
    {
     "name": "stdout",
     "output_type": "stream",
     "text": [
      "lNetSize5000_numDatasets10000_var10_class2_random_decision_tree_trained_xMax1_xMin0_xDistuniform_depth3_beta1_decisionSpars1_vanilla_fullyGrown\n"
     ]
    }
   ],
   "source": [
    "print(path_identifier_function_data)"
   ]
  },
  {
   "cell_type": "markdown",
   "metadata": {
    "ExecuteTime": {
     "end_time": "2020-09-16T12:28:46.853042Z",
     "start_time": "2020-09-16T12:28:46.848346Z"
    }
   },
   "source": [
    "# Function Generation"
   ]
  },
  {
   "cell_type": "code",
   "execution_count": 7,
   "metadata": {
    "execution": {
     "iopub.execute_input": "2021-12-13T13:08:24.404159Z",
     "iopub.status.busy": "2021-12-13T13:08:24.403236Z",
     "iopub.status.idle": "2021-12-13T13:11:12.769745Z",
     "shell.execute_reply": "2021-12-13T13:11:12.765500Z",
     "shell.execute_reply.started": "2021-12-13T13:08:24.404113Z"
    },
    "tags": []
   },
   "outputs": [
    {
     "name": "stderr",
     "output_type": "stream",
     "text": [
      "[Parallel(n_jobs=20)]: Using backend LokyBackend with 20 concurrent workers.\n",
      "[Parallel(n_jobs=20)]: Done  88 tasks      | elapsed:   27.1s\n",
      "[Parallel(n_jobs=20)]: Done 248 tasks      | elapsed:   31.0s\n",
      "[Parallel(n_jobs=20)]: Done 472 tasks      | elapsed:   35.2s\n",
      "[Parallel(n_jobs=20)]: Done 760 tasks      | elapsed:   39.8s\n",
      "[Parallel(n_jobs=20)]: Done 1112 tasks      | elapsed:   44.8s\n",
      "[Parallel(n_jobs=20)]: Done 1528 tasks      | elapsed:   51.1s\n",
      "[Parallel(n_jobs=20)]: Done 2008 tasks      | elapsed:   57.4s\n",
      "[Parallel(n_jobs=20)]: Done 2552 tasks      | elapsed:  1.1min\n",
      "[Parallel(n_jobs=20)]: Done 3160 tasks      | elapsed:  1.2min\n",
      "[Parallel(n_jobs=20)]: Done 3832 tasks      | elapsed:  1.4min\n",
      "[Parallel(n_jobs=20)]: Done 4568 tasks      | elapsed:  1.5min\n",
      "[Parallel(n_jobs=20)]: Done 5368 tasks      | elapsed:  1.7min\n",
      "[Parallel(n_jobs=20)]: Done 6232 tasks      | elapsed:  1.9min\n",
      "[Parallel(n_jobs=20)]: Done 7160 tasks      | elapsed:  2.0min\n",
      "[Parallel(n_jobs=20)]: Done 8152 tasks      | elapsed:  2.2min\n",
      "[Parallel(n_jobs=20)]: Done 9208 tasks      | elapsed:  2.4min\n",
      "[Parallel(n_jobs=20)]: Done 10000 out of 10000 | elapsed:  2.5min finished\n"
     ]
    }
   ],
   "source": [
    "if function_generation_type == 'random_decision_tree':\n",
    "    parallel = Parallel(n_jobs=n_jobs, verbose=3, backend='loky')\n",
    "    result_list = parallel(delayed(generate_data_random_decision_tree)(config, seed=RANDOM_SEED+i) for i in range(number_of_generated_datasets))\n",
    "elif function_generation_type == 'random_decision_tree_trained':\n",
    "    parallel = Parallel(n_jobs=n_jobs, verbose=3, backend='loky')\n",
    "    result_list = parallel(delayed(generate_data_random_decision_tree_trained)(config, seed=RANDOM_SEED+i) for i in range(number_of_generated_datasets))  \n",
    "elif function_generation_type == 'make_classification':\n",
    "    parallel = Parallel(n_jobs=n_jobs, verbose=3, backend='loky')\n",
    "    result_list = parallel(delayed(generate_data_make_classification)(config, seed=RANDOM_SEED+i) for i in range(number_of_generated_datasets)) \n",
    "elif function_generation_type == 'make_classification_trained':\n",
    "    parallel = Parallel(n_jobs=n_jobs, verbose=3, backend='loky')\n",
    "    result_list = parallel(delayed(generate_data_make_classification_decision_tree_trained)(config, seed=RANDOM_SEED+i) for i in range(number_of_generated_datasets))    \n",
    "\n",
    "function_identifier_list = generate_decision_tree_identifier(config)  \n",
    "identifier_series_list = [pd.Series(result[0],  index=function_identifier_list) for result in result_list]\n",
    "\n",
    "function_df = pd.DataFrame(data=np.array([result[0] for result in result_list]), columns=function_identifier_list)\n",
    "\n",
    "X_data_list = [[identifier_series, pd.DataFrame(result[1], columns=['x' + str(i) for i in range(number_of_variables)])] for identifier_series, result in zip(identifier_series_list, result_list)]\n",
    "y_data_list = [[identifier_series, pd.DataFrame(result[2], columns=['result'])] for identifier_series, result in zip(identifier_series_list, result_list)]\n",
    "y_data_raw_list = [[identifier_series, pd.DataFrame(result[3], columns=['result_raw'])] for identifier_series, result in zip(identifier_series_list, result_list)]\n"
   ]
  },
  {
   "cell_type": "code",
   "execution_count": 8,
   "metadata": {
    "execution": {
     "iopub.execute_input": "2021-12-13T13:11:12.778192Z",
     "iopub.status.busy": "2021-12-13T13:11:12.777705Z",
     "iopub.status.idle": "2021-12-13T13:11:12.836771Z",
     "shell.execute_reply": "2021-12-13T13:11:12.835777Z",
     "shell.execute_reply.started": "2021-12-13T13:11:12.778125Z"
    },
    "tags": []
   },
   "outputs": [
    {
     "data": {
      "text/html": [
       "<div>\n",
       "<style scoped>\n",
       "    .dataframe tbody tr th:only-of-type {\n",
       "        vertical-align: middle;\n",
       "    }\n",
       "\n",
       "    .dataframe tbody tr th {\n",
       "        vertical-align: top;\n",
       "    }\n",
       "\n",
       "    .dataframe thead th {\n",
       "        text-align: right;\n",
       "    }\n",
       "</style>\n",
       "<table border=\"1\" class=\"dataframe\">\n",
       "  <thead>\n",
       "    <tr style=\"text-align: right;\">\n",
       "      <th></th>\n",
       "      <th>feat0</th>\n",
       "      <th>feat1</th>\n",
       "      <th>feat2</th>\n",
       "      <th>feat3</th>\n",
       "      <th>feat4</th>\n",
       "      <th>feat5</th>\n",
       "      <th>feat6</th>\n",
       "      <th>split0</th>\n",
       "      <th>split1</th>\n",
       "      <th>split2</th>\n",
       "      <th>split3</th>\n",
       "      <th>split4</th>\n",
       "      <th>split5</th>\n",
       "      <th>split6</th>\n",
       "      <th>lp0</th>\n",
       "      <th>lp1</th>\n",
       "      <th>lp2</th>\n",
       "      <th>lp3</th>\n",
       "      <th>lp4</th>\n",
       "      <th>lp5</th>\n",
       "      <th>lp6</th>\n",
       "      <th>lp7</th>\n",
       "    </tr>\n",
       "  </thead>\n",
       "  <tbody>\n",
       "    <tr>\n",
       "      <th>0</th>\n",
       "      <td>0.191</td>\n",
       "      <td>0.010</td>\n",
       "      <td>0.916</td>\n",
       "      <td>-1.000</td>\n",
       "      <td>0.175</td>\n",
       "      <td>0.910</td>\n",
       "      <td>0.469</td>\n",
       "      <td>7.000</td>\n",
       "      <td>1.000</td>\n",
       "      <td>5.000</td>\n",
       "      <td>-1.000</td>\n",
       "      <td>7.000</td>\n",
       "      <td>5.000</td>\n",
       "      <td>0.000</td>\n",
       "      <td>0.000</td>\n",
       "      <td>0.000</td>\n",
       "      <td>0.536</td>\n",
       "      <td>0.734</td>\n",
       "      <td>0.487</td>\n",
       "      <td>0.214</td>\n",
       "      <td>0.674</td>\n",
       "      <td>0.522</td>\n",
       "    </tr>\n",
       "    <tr>\n",
       "      <th>1</th>\n",
       "      <td>0.083</td>\n",
       "      <td>0.536</td>\n",
       "      <td>0.987</td>\n",
       "      <td>0.019</td>\n",
       "      <td>0.641</td>\n",
       "      <td>0.441</td>\n",
       "      <td>0.995</td>\n",
       "      <td>2.000</td>\n",
       "      <td>9.000</td>\n",
       "      <td>8.000</td>\n",
       "      <td>7.000</td>\n",
       "      <td>5.000</td>\n",
       "      <td>8.000</td>\n",
       "      <td>8.000</td>\n",
       "      <td>1.000</td>\n",
       "      <td>0.351</td>\n",
       "      <td>0.564</td>\n",
       "      <td>0.325</td>\n",
       "      <td>0.526</td>\n",
       "      <td>0.476</td>\n",
       "      <td>0.821</td>\n",
       "      <td>0.519</td>\n",
       "    </tr>\n",
       "    <tr>\n",
       "      <th>2</th>\n",
       "      <td>0.007</td>\n",
       "      <td>0.147</td>\n",
       "      <td>0.801</td>\n",
       "      <td>0.005</td>\n",
       "      <td>0.895</td>\n",
       "      <td>0.495</td>\n",
       "      <td>0.069</td>\n",
       "      <td>3.000</td>\n",
       "      <td>0.000</td>\n",
       "      <td>4.000</td>\n",
       "      <td>3.000</td>\n",
       "      <td>4.000</td>\n",
       "      <td>6.000</td>\n",
       "      <td>5.000</td>\n",
       "      <td>1.000</td>\n",
       "      <td>0.250</td>\n",
       "      <td>0.037</td>\n",
       "      <td>1.000</td>\n",
       "      <td>0.472</td>\n",
       "      <td>0.517</td>\n",
       "      <td>0.716</td>\n",
       "      <td>0.545</td>\n",
       "    </tr>\n",
       "    <tr>\n",
       "      <th>3</th>\n",
       "      <td>0.937</td>\n",
       "      <td>0.020</td>\n",
       "      <td>0.043</td>\n",
       "      <td>0.122</td>\n",
       "      <td>0.488</td>\n",
       "      <td>0.703</td>\n",
       "      <td>0.176</td>\n",
       "      <td>4.000</td>\n",
       "      <td>8.000</td>\n",
       "      <td>8.000</td>\n",
       "      <td>6.000</td>\n",
       "      <td>9.000</td>\n",
       "      <td>5.000</td>\n",
       "      <td>8.000</td>\n",
       "      <td>1.000</td>\n",
       "      <td>0.579</td>\n",
       "      <td>0.461</td>\n",
       "      <td>0.503</td>\n",
       "      <td>0.000</td>\n",
       "      <td>0.667</td>\n",
       "      <td>0.844</td>\n",
       "      <td>0.566</td>\n",
       "    </tr>\n",
       "    <tr>\n",
       "      <th>4</th>\n",
       "      <td>0.825</td>\n",
       "      <td>0.501</td>\n",
       "      <td>0.995</td>\n",
       "      <td>0.009</td>\n",
       "      <td>0.534</td>\n",
       "      <td>0.011</td>\n",
       "      <td>-1.000</td>\n",
       "      <td>2.000</td>\n",
       "      <td>6.000</td>\n",
       "      <td>6.000</td>\n",
       "      <td>3.000</td>\n",
       "      <td>3.000</td>\n",
       "      <td>0.000</td>\n",
       "      <td>-1.000</td>\n",
       "      <td>0.818</td>\n",
       "      <td>0.477</td>\n",
       "      <td>0.551</td>\n",
       "      <td>0.493</td>\n",
       "      <td>0.000</td>\n",
       "      <td>0.565</td>\n",
       "      <td>0.000</td>\n",
       "      <td>0.000</td>\n",
       "    </tr>\n",
       "  </tbody>\n",
       "</table>\n",
       "</div>"
      ],
      "text/plain": [
       "   feat0  feat1  feat2  feat3  feat4  feat5  feat6  split0  split1  split2  \\\n",
       "0  0.191  0.010  0.916 -1.000  0.175  0.910  0.469   7.000   1.000   5.000   \n",
       "1  0.083  0.536  0.987  0.019  0.641  0.441  0.995   2.000   9.000   8.000   \n",
       "2  0.007  0.147  0.801  0.005  0.895  0.495  0.069   3.000   0.000   4.000   \n",
       "3  0.937  0.020  0.043  0.122  0.488  0.703  0.176   4.000   8.000   8.000   \n",
       "4  0.825  0.501  0.995  0.009  0.534  0.011 -1.000   2.000   6.000   6.000   \n",
       "\n",
       "   split3  split4  split5  split6   lp0   lp1   lp2   lp3   lp4   lp5   lp6  \\\n",
       "0  -1.000   7.000   5.000   0.000 0.000 0.000 0.536 0.734 0.487 0.214 0.674   \n",
       "1   7.000   5.000   8.000   8.000 1.000 0.351 0.564 0.325 0.526 0.476 0.821   \n",
       "2   3.000   4.000   6.000   5.000 1.000 0.250 0.037 1.000 0.472 0.517 0.716   \n",
       "3   6.000   9.000   5.000   8.000 1.000 0.579 0.461 0.503 0.000 0.667 0.844   \n",
       "4   3.000   3.000   0.000  -1.000 0.818 0.477 0.551 0.493 0.000 0.565 0.000   \n",
       "\n",
       "    lp7  \n",
       "0 0.522  \n",
       "1 0.519  \n",
       "2 0.545  \n",
       "3 0.566  \n",
       "4 0.000  "
      ]
     },
     "execution_count": 8,
     "metadata": {},
     "output_type": "execute_result"
    }
   ],
   "source": [
    "function_df.head()"
   ]
  },
  {
   "cell_type": "code",
   "execution_count": 9,
   "metadata": {
    "execution": {
     "iopub.execute_input": "2021-12-13T13:11:12.841100Z",
     "iopub.status.busy": "2021-12-13T13:11:12.840513Z",
     "iopub.status.idle": "2021-12-13T13:11:12.856114Z",
     "shell.execute_reply": "2021-12-13T13:11:12.854991Z",
     "shell.execute_reply.started": "2021-12-13T13:11:12.841050Z"
    }
   },
   "outputs": [
    {
     "data": {
      "text/plain": [
       "feat0     0.191\n",
       "feat1     0.010\n",
       "feat2     0.916\n",
       "feat3    -1.000\n",
       "feat4     0.175\n",
       "feat5     0.910\n",
       "feat6     0.469\n",
       "split0    7.000\n",
       "split1    1.000\n",
       "split2    5.000\n",
       "dtype: float64"
      ]
     },
     "execution_count": 9,
     "metadata": {},
     "output_type": "execute_result"
    }
   ],
   "source": [
    "X_data_list[0][0].head(10)"
   ]
  },
  {
   "cell_type": "code",
   "execution_count": 10,
   "metadata": {
    "execution": {
     "iopub.execute_input": "2021-12-13T13:11:12.857792Z",
     "iopub.status.busy": "2021-12-13T13:11:12.857489Z",
     "iopub.status.idle": "2021-12-13T13:11:12.881132Z",
     "shell.execute_reply": "2021-12-13T13:11:12.880079Z",
     "shell.execute_reply.started": "2021-12-13T13:11:12.857745Z"
    }
   },
   "outputs": [
    {
     "data": {
      "text/html": [
       "<div>\n",
       "<style scoped>\n",
       "    .dataframe tbody tr th:only-of-type {\n",
       "        vertical-align: middle;\n",
       "    }\n",
       "\n",
       "    .dataframe tbody tr th {\n",
       "        vertical-align: top;\n",
       "    }\n",
       "\n",
       "    .dataframe thead th {\n",
       "        text-align: right;\n",
       "    }\n",
       "</style>\n",
       "<table border=\"1\" class=\"dataframe\">\n",
       "  <thead>\n",
       "    <tr style=\"text-align: right;\">\n",
       "      <th></th>\n",
       "      <th>x0</th>\n",
       "      <th>x1</th>\n",
       "      <th>x2</th>\n",
       "      <th>x3</th>\n",
       "      <th>x4</th>\n",
       "      <th>x5</th>\n",
       "      <th>x6</th>\n",
       "      <th>x7</th>\n",
       "      <th>x8</th>\n",
       "      <th>x9</th>\n",
       "    </tr>\n",
       "  </thead>\n",
       "  <tbody>\n",
       "    <tr>\n",
       "      <th>0</th>\n",
       "      <td>0.652</td>\n",
       "      <td>0.289</td>\n",
       "      <td>0.552</td>\n",
       "      <td>0.894</td>\n",
       "      <td>0.153</td>\n",
       "      <td>0.079</td>\n",
       "      <td>0.148</td>\n",
       "      <td>0.870</td>\n",
       "      <td>0.031</td>\n",
       "      <td>0.236</td>\n",
       "    </tr>\n",
       "    <tr>\n",
       "      <th>1</th>\n",
       "      <td>0.651</td>\n",
       "      <td>0.833</td>\n",
       "      <td>0.943</td>\n",
       "      <td>0.369</td>\n",
       "      <td>0.779</td>\n",
       "      <td>0.209</td>\n",
       "      <td>0.921</td>\n",
       "      <td>0.230</td>\n",
       "      <td>0.961</td>\n",
       "      <td>0.235</td>\n",
       "    </tr>\n",
       "    <tr>\n",
       "      <th>2</th>\n",
       "      <td>0.530</td>\n",
       "      <td>0.955</td>\n",
       "      <td>0.724</td>\n",
       "      <td>0.011</td>\n",
       "      <td>0.895</td>\n",
       "      <td>0.500</td>\n",
       "      <td>0.478</td>\n",
       "      <td>0.003</td>\n",
       "      <td>0.811</td>\n",
       "      <td>0.076</td>\n",
       "    </tr>\n",
       "    <tr>\n",
       "      <th>3</th>\n",
       "      <td>0.224</td>\n",
       "      <td>0.084</td>\n",
       "      <td>0.309</td>\n",
       "      <td>0.243</td>\n",
       "      <td>0.450</td>\n",
       "      <td>0.128</td>\n",
       "      <td>0.038</td>\n",
       "      <td>0.208</td>\n",
       "      <td>0.590</td>\n",
       "      <td>0.531</td>\n",
       "    </tr>\n",
       "    <tr>\n",
       "      <th>4</th>\n",
       "      <td>0.280</td>\n",
       "      <td>0.663</td>\n",
       "      <td>0.179</td>\n",
       "      <td>0.399</td>\n",
       "      <td>0.619</td>\n",
       "      <td>0.569</td>\n",
       "      <td>0.461</td>\n",
       "      <td>0.707</td>\n",
       "      <td>0.147</td>\n",
       "      <td>0.176</td>\n",
       "    </tr>\n",
       "    <tr>\n",
       "      <th>5</th>\n",
       "      <td>0.113</td>\n",
       "      <td>0.426</td>\n",
       "      <td>0.878</td>\n",
       "      <td>0.927</td>\n",
       "      <td>0.255</td>\n",
       "      <td>0.846</td>\n",
       "      <td>0.510</td>\n",
       "      <td>0.032</td>\n",
       "      <td>0.010</td>\n",
       "      <td>0.813</td>\n",
       "    </tr>\n",
       "    <tr>\n",
       "      <th>6</th>\n",
       "      <td>0.305</td>\n",
       "      <td>0.961</td>\n",
       "      <td>0.728</td>\n",
       "      <td>0.928</td>\n",
       "      <td>0.253</td>\n",
       "      <td>0.058</td>\n",
       "      <td>0.516</td>\n",
       "      <td>0.101</td>\n",
       "      <td>0.663</td>\n",
       "      <td>0.894</td>\n",
       "    </tr>\n",
       "    <tr>\n",
       "      <th>7</th>\n",
       "      <td>0.543</td>\n",
       "      <td>0.649</td>\n",
       "      <td>0.345</td>\n",
       "      <td>0.227</td>\n",
       "      <td>0.111</td>\n",
       "      <td>0.403</td>\n",
       "      <td>0.109</td>\n",
       "      <td>0.282</td>\n",
       "      <td>0.577</td>\n",
       "      <td>0.435</td>\n",
       "    </tr>\n",
       "    <tr>\n",
       "      <th>8</th>\n",
       "      <td>0.640</td>\n",
       "      <td>0.269</td>\n",
       "      <td>0.632</td>\n",
       "      <td>0.388</td>\n",
       "      <td>0.009</td>\n",
       "      <td>0.224</td>\n",
       "      <td>0.403</td>\n",
       "      <td>0.811</td>\n",
       "      <td>0.690</td>\n",
       "      <td>0.982</td>\n",
       "    </tr>\n",
       "    <tr>\n",
       "      <th>9</th>\n",
       "      <td>0.896</td>\n",
       "      <td>0.524</td>\n",
       "      <td>0.119</td>\n",
       "      <td>0.553</td>\n",
       "      <td>0.303</td>\n",
       "      <td>0.175</td>\n",
       "      <td>0.237</td>\n",
       "      <td>0.361</td>\n",
       "      <td>0.807</td>\n",
       "      <td>0.740</td>\n",
       "    </tr>\n",
       "  </tbody>\n",
       "</table>\n",
       "</div>"
      ],
      "text/plain": [
       "     x0    x1    x2    x3    x4    x5    x6    x7    x8    x9\n",
       "0 0.652 0.289 0.552 0.894 0.153 0.079 0.148 0.870 0.031 0.236\n",
       "1 0.651 0.833 0.943 0.369 0.779 0.209 0.921 0.230 0.961 0.235\n",
       "2 0.530 0.955 0.724 0.011 0.895 0.500 0.478 0.003 0.811 0.076\n",
       "3 0.224 0.084 0.309 0.243 0.450 0.128 0.038 0.208 0.590 0.531\n",
       "4 0.280 0.663 0.179 0.399 0.619 0.569 0.461 0.707 0.147 0.176\n",
       "5 0.113 0.426 0.878 0.927 0.255 0.846 0.510 0.032 0.010 0.813\n",
       "6 0.305 0.961 0.728 0.928 0.253 0.058 0.516 0.101 0.663 0.894\n",
       "7 0.543 0.649 0.345 0.227 0.111 0.403 0.109 0.282 0.577 0.435\n",
       "8 0.640 0.269 0.632 0.388 0.009 0.224 0.403 0.811 0.690 0.982\n",
       "9 0.896 0.524 0.119 0.553 0.303 0.175 0.237 0.361 0.807 0.740"
      ]
     },
     "execution_count": 10,
     "metadata": {},
     "output_type": "execute_result"
    }
   ],
   "source": [
    "X_data_list[0][1].head(10)"
   ]
  },
  {
   "cell_type": "code",
   "execution_count": 11,
   "metadata": {
    "execution": {
     "iopub.execute_input": "2021-12-13T13:11:12.884594Z",
     "iopub.status.busy": "2021-12-13T13:11:12.884312Z",
     "iopub.status.idle": "2021-12-13T13:11:12.902087Z",
     "shell.execute_reply": "2021-12-13T13:11:12.901077Z",
     "shell.execute_reply.started": "2021-12-13T13:11:12.884552Z"
    }
   },
   "outputs": [
    {
     "data": {
      "text/plain": [
       "feat0     0.191\n",
       "feat1     0.010\n",
       "feat2     0.916\n",
       "feat3    -1.000\n",
       "feat4     0.175\n",
       "feat5     0.910\n",
       "feat6     0.469\n",
       "split0    7.000\n",
       "split1    1.000\n",
       "split2    5.000\n",
       "dtype: float64"
      ]
     },
     "execution_count": 11,
     "metadata": {},
     "output_type": "execute_result"
    }
   ],
   "source": [
    "y_data_list[0][0].head(10)"
   ]
  },
  {
   "cell_type": "code",
   "execution_count": 12,
   "metadata": {
    "execution": {
     "iopub.execute_input": "2021-12-13T13:11:12.906357Z",
     "iopub.status.busy": "2021-12-13T13:11:12.903652Z",
     "iopub.status.idle": "2021-12-13T13:11:12.929338Z",
     "shell.execute_reply": "2021-12-13T13:11:12.927784Z",
     "shell.execute_reply.started": "2021-12-13T13:11:12.904411Z"
    }
   },
   "outputs": [
    {
     "data": {
      "text/html": [
       "<div>\n",
       "<style scoped>\n",
       "    .dataframe tbody tr th:only-of-type {\n",
       "        vertical-align: middle;\n",
       "    }\n",
       "\n",
       "    .dataframe tbody tr th {\n",
       "        vertical-align: top;\n",
       "    }\n",
       "\n",
       "    .dataframe thead th {\n",
       "        text-align: right;\n",
       "    }\n",
       "</style>\n",
       "<table border=\"1\" class=\"dataframe\">\n",
       "  <thead>\n",
       "    <tr style=\"text-align: right;\">\n",
       "      <th></th>\n",
       "      <th>result</th>\n",
       "    </tr>\n",
       "  </thead>\n",
       "  <tbody>\n",
       "    <tr>\n",
       "      <th>0</th>\n",
       "      <td>0</td>\n",
       "    </tr>\n",
       "    <tr>\n",
       "      <th>1</th>\n",
       "      <td>0</td>\n",
       "    </tr>\n",
       "    <tr>\n",
       "      <th>2</th>\n",
       "      <td>0</td>\n",
       "    </tr>\n",
       "    <tr>\n",
       "      <th>3</th>\n",
       "      <td>0</td>\n",
       "    </tr>\n",
       "    <tr>\n",
       "      <th>4</th>\n",
       "      <td>0</td>\n",
       "    </tr>\n",
       "    <tr>\n",
       "      <th>5</th>\n",
       "      <td>1</td>\n",
       "    </tr>\n",
       "    <tr>\n",
       "      <th>6</th>\n",
       "      <td>0</td>\n",
       "    </tr>\n",
       "    <tr>\n",
       "      <th>7</th>\n",
       "      <td>1</td>\n",
       "    </tr>\n",
       "    <tr>\n",
       "      <th>8</th>\n",
       "      <td>0</td>\n",
       "    </tr>\n",
       "    <tr>\n",
       "      <th>9</th>\n",
       "      <td>1</td>\n",
       "    </tr>\n",
       "  </tbody>\n",
       "</table>\n",
       "</div>"
      ],
      "text/plain": [
       "   result\n",
       "0       0\n",
       "1       0\n",
       "2       0\n",
       "3       0\n",
       "4       0\n",
       "5       1\n",
       "6       0\n",
       "7       1\n",
       "8       0\n",
       "9       1"
      ]
     },
     "execution_count": 12,
     "metadata": {},
     "output_type": "execute_result"
    }
   ],
   "source": [
    "y_data_list[1][1].head(10)"
   ]
  },
  {
   "cell_type": "code",
   "execution_count": 13,
   "metadata": {
    "execution": {
     "iopub.execute_input": "2021-12-13T13:11:12.932094Z",
     "iopub.status.busy": "2021-12-13T13:11:12.931643Z",
     "iopub.status.idle": "2021-12-13T13:11:12.943719Z",
     "shell.execute_reply": "2021-12-13T13:11:12.942314Z",
     "shell.execute_reply.started": "2021-12-13T13:11:12.932065Z"
    }
   },
   "outputs": [
    {
     "data": {
      "text/html": [
       "<div>\n",
       "<style scoped>\n",
       "    .dataframe tbody tr th:only-of-type {\n",
       "        vertical-align: middle;\n",
       "    }\n",
       "\n",
       "    .dataframe tbody tr th {\n",
       "        vertical-align: top;\n",
       "    }\n",
       "\n",
       "    .dataframe thead th {\n",
       "        text-align: right;\n",
       "    }\n",
       "</style>\n",
       "<table border=\"1\" class=\"dataframe\">\n",
       "  <thead>\n",
       "    <tr style=\"text-align: right;\">\n",
       "      <th></th>\n",
       "      <th>result</th>\n",
       "    </tr>\n",
       "  </thead>\n",
       "  <tbody>\n",
       "    <tr>\n",
       "      <th>0</th>\n",
       "      <td>1</td>\n",
       "    </tr>\n",
       "    <tr>\n",
       "      <th>1</th>\n",
       "      <td>0</td>\n",
       "    </tr>\n",
       "    <tr>\n",
       "      <th>2</th>\n",
       "      <td>0</td>\n",
       "    </tr>\n",
       "    <tr>\n",
       "      <th>3</th>\n",
       "      <td>0</td>\n",
       "    </tr>\n",
       "    <tr>\n",
       "      <th>4</th>\n",
       "      <td>0</td>\n",
       "    </tr>\n",
       "    <tr>\n",
       "      <th>5</th>\n",
       "      <td>0</td>\n",
       "    </tr>\n",
       "    <tr>\n",
       "      <th>6</th>\n",
       "      <td>1</td>\n",
       "    </tr>\n",
       "    <tr>\n",
       "      <th>7</th>\n",
       "      <td>0</td>\n",
       "    </tr>\n",
       "    <tr>\n",
       "      <th>8</th>\n",
       "      <td>1</td>\n",
       "    </tr>\n",
       "    <tr>\n",
       "      <th>9</th>\n",
       "      <td>1</td>\n",
       "    </tr>\n",
       "  </tbody>\n",
       "</table>\n",
       "</div>"
      ],
      "text/plain": [
       "   result\n",
       "0       1\n",
       "1       0\n",
       "2       0\n",
       "3       0\n",
       "4       0\n",
       "5       0\n",
       "6       1\n",
       "7       0\n",
       "8       1\n",
       "9       1"
      ]
     },
     "execution_count": 13,
     "metadata": {},
     "output_type": "execute_result"
    }
   ],
   "source": [
    "y_data_list[2][1].head(10)"
   ]
  },
  {
   "cell_type": "code",
   "execution_count": 14,
   "metadata": {
    "execution": {
     "iopub.execute_input": "2021-12-13T13:11:12.945517Z",
     "iopub.status.busy": "2021-12-13T13:11:12.944964Z",
     "iopub.status.idle": "2021-12-13T13:11:12.957571Z",
     "shell.execute_reply": "2021-12-13T13:11:12.956492Z",
     "shell.execute_reply.started": "2021-12-13T13:11:12.945469Z"
    }
   },
   "outputs": [
    {
     "data": {
      "text/html": [
       "<div>\n",
       "<style scoped>\n",
       "    .dataframe tbody tr th:only-of-type {\n",
       "        vertical-align: middle;\n",
       "    }\n",
       "\n",
       "    .dataframe tbody tr th {\n",
       "        vertical-align: top;\n",
       "    }\n",
       "\n",
       "    .dataframe thead th {\n",
       "        text-align: right;\n",
       "    }\n",
       "</style>\n",
       "<table border=\"1\" class=\"dataframe\">\n",
       "  <thead>\n",
       "    <tr style=\"text-align: right;\">\n",
       "      <th></th>\n",
       "      <th>result_raw</th>\n",
       "    </tr>\n",
       "  </thead>\n",
       "  <tbody>\n",
       "    <tr>\n",
       "      <th>0</th>\n",
       "      <td>1</td>\n",
       "    </tr>\n",
       "    <tr>\n",
       "      <th>1</th>\n",
       "      <td>0</td>\n",
       "    </tr>\n",
       "    <tr>\n",
       "      <th>2</th>\n",
       "      <td>0</td>\n",
       "    </tr>\n",
       "    <tr>\n",
       "      <th>3</th>\n",
       "      <td>0</td>\n",
       "    </tr>\n",
       "    <tr>\n",
       "      <th>4</th>\n",
       "      <td>0</td>\n",
       "    </tr>\n",
       "    <tr>\n",
       "      <th>5</th>\n",
       "      <td>0</td>\n",
       "    </tr>\n",
       "    <tr>\n",
       "      <th>6</th>\n",
       "      <td>1</td>\n",
       "    </tr>\n",
       "    <tr>\n",
       "      <th>7</th>\n",
       "      <td>0</td>\n",
       "    </tr>\n",
       "    <tr>\n",
       "      <th>8</th>\n",
       "      <td>1</td>\n",
       "    </tr>\n",
       "    <tr>\n",
       "      <th>9</th>\n",
       "      <td>1</td>\n",
       "    </tr>\n",
       "  </tbody>\n",
       "</table>\n",
       "</div>"
      ],
      "text/plain": [
       "   result_raw\n",
       "0           1\n",
       "1           0\n",
       "2           0\n",
       "3           0\n",
       "4           0\n",
       "5           0\n",
       "6           1\n",
       "7           0\n",
       "8           1\n",
       "9           1"
      ]
     },
     "execution_count": 14,
     "metadata": {},
     "output_type": "execute_result"
    }
   ],
   "source": [
    "y_data_raw_list[2][1].head(10)"
   ]
  },
  {
   "cell_type": "code",
   "execution_count": 15,
   "metadata": {
    "execution": {
     "iopub.execute_input": "2021-12-13T13:11:12.959587Z",
     "iopub.status.busy": "2021-12-13T13:11:12.959176Z",
     "iopub.status.idle": "2021-12-13T13:11:16.839853Z",
     "shell.execute_reply": "2021-12-13T13:11:16.838458Z",
     "shell.execute_reply.started": "2021-12-13T13:11:12.959541Z"
    },
    "tags": []
   },
   "outputs": [
    {
     "data": {
      "image/png": "[encoded data removed]",
      "text/plain": [
       "<IPython.core.display.Image object>"
      ]
     },
     "execution_count": 15,
     "metadata": {},
     "output_type": "execute_result"
    }
   ],
   "source": [
    "plot_tree_from_parameters(y_data_list[0][0].values, config)"
   ]
  },
  {
   "cell_type": "code",
   "execution_count": 16,
   "metadata": {
    "ExecuteTime": {
     "end_time": "2021-01-14T12:59:22.156778Z",
     "start_time": "2021-01-14T12:57:34.187753Z"
    },
    "execution": {
     "iopub.execute_input": "2021-12-13T13:11:16.844710Z",
     "iopub.status.busy": "2021-12-13T13:11:16.843138Z",
     "iopub.status.idle": "2021-12-13T13:11:36.862678Z",
     "shell.execute_reply": "2021-12-13T13:11:36.861177Z",
     "shell.execute_reply.started": "2021-12-13T13:11:16.844656Z"
    },
    "tags": []
   },
   "outputs": [],
   "source": [
    "path_functions = './data/saved_function_lists/functions_' + path_identifier_function_data + '.csv'\n",
    "function_df.to_csv(path_functions, index=False)\n",
    "\n",
    "path_X_data = './data/saved_function_lists/X_data_' + path_identifier_function_data + '.pkl'\n",
    "with open(path_X_data, 'wb') as f:\n",
    "    pickle.dump(X_data_list, f)\n",
    "    \n",
    "path_y_data = './data/saved_function_lists/y_data_' + path_identifier_function_data + '.pkl'\n",
    "with open(path_y_data, 'wb') as f:\n",
    "    pickle.dump(y_data_list, f)\n"
   ]
  }
 ],
 "metadata": {
  "kernelspec": {
   "display_name": "Python 3 (ipykernel)",
   "language": "python",
   "name": "python3"
  },
  "language_info": {
   "codemirror_mode": {
    "name": "ipython",
    "version": 3
   },
   "file_extension": ".py",
   "mimetype": "text/x-python",
   "name": "python",
   "nbconvert_exporter": "python",
   "pygments_lexer": "ipython3",
   "version": "3.8.0"
  }
 },
 "nbformat": 4,
 "nbformat_minor": 4
}
