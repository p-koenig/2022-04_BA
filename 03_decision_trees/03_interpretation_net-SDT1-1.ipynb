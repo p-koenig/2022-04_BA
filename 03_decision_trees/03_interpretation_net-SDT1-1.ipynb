{
 "cells": [
  {
   "cell_type": "markdown",
   "metadata": {},
   "source": [
    "# Inerpretation-Net Training"
   ]
  },
  {
   "cell_type": "markdown",
   "metadata": {},
   "source": [
    "## Specitication of Experiment Settings"
   ]
  },
  {
   "cell_type": "code",
   "execution_count": 1,
   "metadata": {
    "execution": {
     "iopub.execute_input": "2022-01-14T20:04:19.973473Z",
     "iopub.status.busy": "2022-01-14T20:04:19.972806Z",
     "iopub.status.idle": "2022-01-14T20:04:20.005436Z",
     "shell.execute_reply": "2022-01-14T20:04:20.004117Z",
     "shell.execute_reply.started": "2022-01-14T20:04:19.973301Z"
    }
   },
   "outputs": [],
   "source": [
    "#######################################################################################################################################\n",
    "###################################################### CONFIG FILE ####################################################################\n",
    "#######################################################################################################################################\n",
    "sleep_time = 0 #minutes\n",
    "\n",
    "\n",
    "config = {\n",
    "    'function_family': {\n",
    "        'maximum_depth': 3,\n",
    "        'beta': 1,\n",
    "        'decision_sparsity': 1,\n",
    "        'fully_grown': True,    \n",
    "        'dt_type': 'SDT', #'SDT', 'vanilla'\n",
    "    },\n",
    "    'data': {\n",
    "        'number_of_variables': 10, \n",
    "        'num_classes': 2,\n",
    "        'categorical_indices': [],\n",
    "        \n",
    "        'dt_type_train': 'vanilla', # (None, 'vanilla', 'SDT')\n",
    "        'maximum_depth_train': 5, #None or int\n",
    "        'decision_sparsity_train': 1, #None or int\n",
    "        \n",
    "        'function_generation_type': 'random_decision_tree_trained',# 'make_classification', 'make_classification_trained', 'random_decision_tree', 'random_decision_tree_trained'\n",
    "        'objective': 'classification', # 'regression'\n",
    "        \n",
    "        'x_max': 1,\n",
    "        'x_min': 0,\n",
    "        'x_distrib': 'uniform', #'normal', 'uniform',       \n",
    "                \n",
    "        'lambda_dataset_size': 5000, #number of samples per function\n",
    "        #'number_of_generated_datasets': 10000,\n",
    "        \n",
    "        'noise_injected_level': 0, \n",
    "        'noise_injected_type': 'flip_percentage', # '' 'normal' 'uniform' 'normal_range' 'uniform_range'\n",
    "    }, \n",
    "    'lambda_net': {\n",
    "        'epochs_lambda': 1000,\n",
    "        'early_stopping_lambda': True, \n",
    "        'early_stopping_min_delta_lambda': 1e-2,\n",
    "        'batch_lambda': 64,\n",
    "        'dropout_lambda': 0,\n",
    "        'lambda_network_layers': [128],\n",
    "        'optimizer_lambda': 'adam',\n",
    "        'loss_lambda': 'binary_crossentropy', #categorical_crossentropy\n",
    "        \n",
    "        'number_of_lambda_weights': None,\n",
    "        \n",
    "        'number_initializations_lambda': 1, \n",
    "        \n",
    "        'number_of_trained_lambda_nets': 10000,\n",
    "    },     \n",
    "    \n",
    "    'i_net': {\n",
    "        'dense_layers': [1024, 1024, 256, 2048, 2048],#[1024, 1024, 256, 2048, 2048],\n",
    "        'convolution_layers': None,\n",
    "        'lstm_layers': None,\n",
    "        'dropout': [0.3, 0.3, 0.3, 0.3, 0.3],#[0.3, 0.3, 0.3, 0.3, 0.3],\n",
    "        'additional_hidden': False,\n",
    "        \n",
    "        'optimizer': 'adam', #adam\n",
    "        'learning_rate': 0.001,\n",
    "        'loss': 'binary_crossentropy', #mse; binary_crossentropy; 'binary_accuracy'\n",
    "        'metrics': ['soft_binary_crossentropy', 'binary_accuracy'], #soft_ or _penalized\n",
    "        \n",
    "        'epochs': 500, \n",
    "        'early_stopping': True,\n",
    "        'batch_size': 256,\n",
    "\n",
    "        'interpretation_dataset_size': 10000,\n",
    "                \n",
    "        'test_size': 5, #Float for fraction, Int for number 0\n",
    "        'evaluate_distribution': True,\n",
    "        'force_evaluate_real_world': False,\n",
    "        \n",
    "        'function_representation_type': 1, # 1=standard representation; 2=sparse representation with classification for variables; 3=softmax to select classes (n top probabilities)\n",
    "        'normalize_lambda_nets': False,\n",
    "\n",
    "        'optimize_decision_function': True, #False\n",
    "        'function_value_loss': True, #False\n",
    "                      \n",
    "        'data_reshape_version': None, #default to 2 options:(None, 0,1 2,3) #3=autoencoder dimensionality reduction\n",
    "        \n",
    "        'nas': False,\n",
    "        'nas_type': 'SEQUENTIAL', #options:(None, 'SEQUENTIAL', 'CNN', 'LSTM', 'CNN-LSTM', 'CNN-LSTM-parallel')      \n",
    "        'nas_trials': 60,\n",
    "    },    \n",
    "    \n",
    "    'evaluation': {   \n",
    "        #'inet_holdout_seed_evaluation': False,\n",
    "            \n",
    "        'random_evaluation_dataset_size': 500, \n",
    "        'random_evaluation_dataset_distribution': 'uniform', \n",
    "        \n",
    "        'per_network_optimization_dataset_size': 5000,\n",
    "\n",
    "        #'sklearn_dt_benchmark': False,\n",
    "        #'sdt_benchmark': False,\n",
    "        \n",
    "        'different_eval_data': False,\n",
    "        \n",
    "        'eval_data_description': {\n",
    "            ######### data #########\n",
    "            'eval_data_function_generation_type': 'make_classification',\n",
    "            'eval_data_lambda_dataset_size': 5000, #number of samples per function\n",
    "            'eval_data_noise_injected_level': 0, \n",
    "            'eval_data_noise_injected_type': 'flip_percentage', # '' 'normal' 'uniform' 'normal_range' 'uniform_range'     \n",
    "            ######### lambda_net #########\n",
    "            'eval_data_number_of_trained_lambda_nets': 100,\n",
    "            ######### i_net #########\n",
    "            'eval_data_interpretation_dataset_size': 100,\n",
    "            \n",
    "        }\n",
    "        \n",
    "    },    \n",
    "    \n",
    "    'computation':{\n",
    "        'load_model': False,\n",
    "        'n_jobs': 5,\n",
    "        'use_gpu': False,\n",
    "        'gpu_numbers': '2',\n",
    "        'RANDOM_SEED': 42,   \n",
    "        'verbosity': 0\n",
    "    }\n",
    "}\n"
   ]
  },
  {
   "cell_type": "markdown",
   "metadata": {},
   "source": [
    "## Imports"
   ]
  },
  {
   "cell_type": "code",
   "execution_count": 2,
   "metadata": {
    "execution": {
     "iopub.execute_input": "2022-01-14T20:04:20.008709Z",
     "iopub.status.busy": "2022-01-14T20:04:20.007922Z",
     "iopub.status.idle": "2022-01-14T20:04:20.019113Z",
     "shell.execute_reply": "2022-01-14T20:04:20.018165Z",
     "shell.execute_reply.started": "2022-01-14T20:04:20.008653Z"
    },
    "tags": []
   },
   "outputs": [],
   "source": [
    "#######################################################################################################################################\n",
    "########################################### IMPORT GLOBAL VARIABLES FROM CONFIG #######################################################\n",
    "#######################################################################################################################################\n",
    "globals().update(config['function_family'])\n",
    "globals().update(config['data'])\n",
    "globals().update(config['lambda_net'])\n",
    "globals().update(config['i_net'])\n",
    "globals().update(config['evaluation'])\n",
    "globals().update(config['computation'])"
   ]
  },
  {
   "cell_type": "code",
   "execution_count": 3,
   "metadata": {
    "ExecuteTime": {
     "end_time": "2021-01-08T11:56:36.233201Z",
     "start_time": "2021-01-08T11:56:36.208062Z"
    },
    "execution": {
     "iopub.execute_input": "2022-01-14T20:04:20.021261Z",
     "iopub.status.busy": "2022-01-14T20:04:20.020776Z",
     "iopub.status.idle": "2022-01-14T20:04:24.891453Z",
     "shell.execute_reply": "2022-01-14T20:04:24.890530Z",
     "shell.execute_reply.started": "2022-01-14T20:04:20.021209Z"
    },
    "tags": []
   },
   "outputs": [],
   "source": [
    "#######################################################################################################################################\n",
    "##################################################### IMPORT LIBRARIES ################################################################\n",
    "#######################################################################################################################################\n",
    "import warnings\n",
    "warnings.filterwarnings('ignore')\n",
    "import os\n",
    "os.environ['TF_CPP_MIN_LOG_LEVEL'] = '3' \n",
    "import logging\n",
    "\n",
    "import tensorflow as tf\n",
    "tf.get_logger().setLevel('ERROR')\n",
    "tf.autograph.set_verbosity(3)\n",
    "\n",
    "from itertools import product       \n",
    "from tqdm.notebook import tqdm\n",
    "import pickle\n",
    "import numpy as np\n",
    "import pandas as pd\n",
    "import scipy as sp\n",
    "import timeit\n",
    "import psutil\n",
    "\n",
    "from functools import reduce\n",
    "from more_itertools import random_product \n",
    "from sklearn.preprocessing import Normalizer\n",
    "\n",
    "import sys\n",
    "import shutil\n",
    "\n",
    "from copy import deepcopy\n",
    "import math\n",
    "import random \n",
    "\n",
    "\n",
    "import time\n",
    "from datetime import datetime\n",
    "from collections.abc import Iterable\n",
    "\n",
    "\n",
    "from joblib import Parallel, delayed\n",
    "\n",
    "from scipy.integrate import quad\n",
    "\n",
    "from sklearn.model_selection import cross_val_score, train_test_split, StratifiedKFold, KFold, ParameterGrid, ParameterSampler\n",
    "from sklearn.metrics import accuracy_score, log_loss, roc_auc_score, f1_score, mean_absolute_error, r2_score, log_loss\n",
    "from sklearn.tree import DecisionTreeClassifier, plot_tree\n",
    "from sklearn.compose import ColumnTransformer\n",
    "from sklearn.preprocessing import OneHotEncoder, MinMaxScaler, LabelEncoder, OrdinalEncoder\n",
    "from sklearn.ensemble import ExtraTreesClassifier\n",
    "from sklearn.feature_selection import SelectFromModel\n",
    "\n",
    "#import keras\n",
    "from tensorflow.keras import Sequential\n",
    "from tensorflow.keras.layers import Dense, Dropout\n",
    "from tensorflow.keras.utils import plot_model\n",
    "from tensorflow.keras.callbacks import EarlyStopping, ModelCheckpoint, ReduceLROnPlateau\n",
    "\n",
    "\n",
    "import tensorflow.keras.backend as K\n",
    "from livelossplot import PlotLossesKerasTF\n",
    "#from keras_tqdm import TQDMNotebookCallback\n",
    "\n",
    "from matplotlib import pyplot as plt\n",
    "import seaborn as sns\n",
    "\n",
    "from IPython.display import Image\n",
    "from IPython.display import display, Math, Latex, clear_output\n",
    "\n",
    "from prettytable import PrettyTable\n"
   ]
  },
  {
   "cell_type": "code",
   "execution_count": 4,
   "metadata": {
    "execution": {
     "iopub.execute_input": "2022-01-14T20:04:24.893099Z",
     "iopub.status.busy": "2022-01-14T20:04:24.892809Z",
     "iopub.status.idle": "2022-01-14T20:04:24.900284Z",
     "shell.execute_reply": "2022-01-14T20:04:24.899586Z",
     "shell.execute_reply.started": "2022-01-14T20:04:24.893077Z"
    },
    "tags": []
   },
   "outputs": [
    {
     "data": {
      "text/plain": [
       "'2.5.2'"
      ]
     },
     "execution_count": 4,
     "metadata": {},
     "output_type": "execute_result"
    }
   ],
   "source": [
    "tf.__version__"
   ]
  },
  {
   "cell_type": "code",
   "execution_count": 5,
   "metadata": {
    "execution": {
     "iopub.execute_input": "2022-01-14T20:04:24.903395Z",
     "iopub.status.busy": "2022-01-14T20:04:24.903029Z",
     "iopub.status.idle": "2022-01-14T20:04:24.914593Z",
     "shell.execute_reply": "2022-01-14T20:04:24.913866Z",
     "shell.execute_reply.started": "2022-01-14T20:04:24.903358Z"
    },
    "tags": []
   },
   "outputs": [],
   "source": [
    "#######################################################################################################################################\n",
    "################################################### VARIABLE ADJUSTMENTS ##############################################################\n",
    "#######################################################################################################################################\n",
    "\n",
    "config['i_net']['data_reshape_version'] = 2 if data_reshape_version == None and (convolution_layers != None or lstm_layers != None or (nas and nas_type != 'SEQUENTIAL')) else data_reshape_version\n",
    "config['function_family']['decision_sparsity'] = config['function_family']['decision_sparsity'] if config['function_family']['decision_sparsity'] != -1 else config['data']['number_of_variables'] \n",
    "\n",
    "#######################################################################################################################################\n",
    "###################################################### SET VARIABLES + DESIGN #########################################################\n",
    "#######################################################################################################################################\n",
    "\n",
    "#os.environ['TF_CPP_MIN_LOG_LEVEL'] = '2' \n",
    "os.environ['CUDA_VISIBLE_DEVICES'] = gpu_numbers if use_gpu else ''\n",
    "os.environ['TF_FORCE_GPU_ALLOW_GROWTH'] = 'true' if use_gpu else ''\n",
    "\n",
    "#os.environ['XLA_FLAGS'] =  '--xla_gpu_cuda_data_dir=/usr/local/cuda-10.1'\n",
    "\n",
    "#os.environ['XLA_FLAGS'] = '--tf_xla_enable_xla_devices'\n",
    "#os.environ['TF_XLA_FLAGS'] = '--tf_xla_enable_xla_devices'\n",
    "\n",
    "os.environ['XLA_FLAGS'] = '--xla_gpu_cuda_data_dir=/usr/local/cuda-11.4' if use_gpu else ''#-10.1' #--xla_gpu_cuda_data_dir=/usr/local/cuda, \n",
    "os.environ['TF_XLA_FLAGS'] = '--tf_xla_auto_jit=2 ,--tf_xla_enable_xla_devices' if use_gpu else ''#'--tf_xla_auto_jit=2' #, --tf_xla_enable_xla_devices\n",
    "\n",
    "\n",
    "sns.set_style(\"darkgrid\")\n",
    "\n",
    "random.seed(RANDOM_SEED)\n",
    "np.random.seed(RANDOM_SEED)\n",
    "if int(tf.__version__[0]) >= 2:\n",
    "    tf.random.set_seed(RANDOM_SEED)\n",
    "else:\n",
    "    tf.set_random_seed(RANDOM_SEED)\n",
    "    \n",
    "    \n",
    "pd.set_option('display.float_format', lambda x: '%.3f' % x)\n",
    "pd.set_option('display.max_columns', 200)\n",
    "np.set_printoptions(threshold=200)\n",
    "np.set_printoptions(suppress=True)\n",
    "\n"
   ]
  },
  {
   "cell_type": "code",
   "execution_count": 6,
   "metadata": {
    "execution": {
     "iopub.execute_input": "2022-01-14T20:04:24.916016Z",
     "iopub.status.busy": "2022-01-14T20:04:24.915714Z",
     "iopub.status.idle": "2022-01-14T20:04:24.951703Z",
     "shell.execute_reply": "2022-01-14T20:04:24.950919Z",
     "shell.execute_reply.started": "2022-01-14T20:04:24.915981Z"
    },
    "tags": []
   },
   "outputs": [],
   "source": [
    "#######################################################################################################################################\n",
    "########################################### IMPORT GLOBAL VARIABLES FROM CONFIG #######################################################\n",
    "#######################################################################################################################################\n",
    "globals().update(config['function_family'])\n",
    "globals().update(config['data'])\n",
    "globals().update(config['lambda_net'])\n",
    "globals().update(config['evaluation'])\n",
    "globals().update(config['computation'])"
   ]
  },
  {
   "cell_type": "code",
   "execution_count": 7,
   "metadata": {
    "execution": {
     "iopub.execute_input": "2022-01-14T20:04:24.953545Z",
     "iopub.status.busy": "2022-01-14T20:04:24.953301Z",
     "iopub.status.idle": "2022-01-14T20:04:27.676488Z",
     "shell.execute_reply": "2022-01-14T20:04:27.675918Z",
     "shell.execute_reply.started": "2022-01-14T20:04:24.953523Z"
    },
    "tags": []
   },
   "outputs": [],
   "source": [
    "from utilities.InterpretationNet import *\n",
    "from utilities.LambdaNet import *\n",
    "from utilities.metrics import *\n",
    "from utilities.utility_functions import *\n",
    "from utilities.DecisionTree_BASIC import *\n",
    "\n",
    "#######################################################################################################################################\n",
    "####################################################### CONFIG ADJUSTMENTS ############################################################\n",
    "#######################################################################################################################################\n",
    "\n",
    "config['lambda_net']['number_of_lambda_weights'] = get_number_of_lambda_net_parameters(lambda_network_layers, number_of_variables, num_classes)\n",
    "config['function_family']['basic_function_representation_length'] = get_number_of_function_parameters(dt_type, maximum_depth, number_of_variables, num_classes)\n",
    "config['function_family']['function_representation_length'] = ( \n",
    "       #((2 ** maximum_depth - 1) * decision_sparsity) * 2 + (2 ** maximum_depth - 1) + (2 ** maximum_depth) * num_classes  if function_representation_type == 1 and dt_type == 'SDT'\n",
    "       (2 ** maximum_depth - 1) * (number_of_variables + 1) + (2 ** maximum_depth) * num_classes if function_representation_type == 1 and dt_type == 'SDT'\n",
    "  else (2 ** maximum_depth - 1) * decision_sparsity + (2 ** maximum_depth - 1) + ((2 ** maximum_depth - 1)  * decision_sparsity * number_of_variables) + (2 ** maximum_depth) * num_classes if function_representation_type == 2 and dt_type == 'SDT'\n",
    "  else ((2 ** maximum_depth - 1) * decision_sparsity) * 2 + (2 ** maximum_depth)  if function_representation_type == 1 and dt_type == 'vanilla'\n",
    "  else (2 ** maximum_depth - 1) * decision_sparsity + ((2 ** maximum_depth - 1)  * decision_sparsity * number_of_variables) + (2 ** maximum_depth) if function_representation_type == 2 and dt_type == 'vanilla'\n",
    "  else ((2 ** maximum_depth - 1) * number_of_variables * 2) + (2 ** maximum_depth)  if function_representation_type == 3 and dt_type == 'vanilla'\n",
    "  else ((2 ** maximum_depth - 1) * number_of_variables * 2) + (2 ** maximum_depth - 1) + (2 ** maximum_depth) * num_classes if function_representation_type == 3 and dt_type == 'SDT'\n",
    "  else None\n",
    "                                                            )\n",
    "#######################################################################################################################################\n",
    "################################################## UPDATE VARIABLES ###################################################################\n",
    "#######################################################################################################################################\n",
    "globals().update(config['function_family'])\n",
    "globals().update(config['data'])\n",
    "globals().update(config['lambda_net'])\n",
    "globals().update(config['i_net'])\n",
    "globals().update(config['evaluation'])\n",
    "globals().update(config['computation'])\n",
    "\n",
    "#initialize_LambdaNet_config_from_curent_notebook(config)\n",
    "#initialize_metrics_config_from_curent_notebook(config)\n",
    "#initialize_utility_functions_config_from_curent_notebook(config)\n",
    "#initialize_InterpretationNet_config_from_curent_notebook(config)\n",
    "\n",
    "\n",
    "#######################################################################################################################################\n",
    "###################################################### PATH + FOLDER CREATION #########################################################\n",
    "#######################################################################################################################################\n",
    "globals().update(generate_paths(config, path_type='interpretation_net'))\n",
    "\n",
    "create_folders_inet(config)\n",
    "\n",
    "#######################################################################################################################################\n",
    "############################################################ SLEEP TIMER ##############################################################\n",
    "#######################################################################################################################################\n",
    "sleep_minutes(sleep_time)"
   ]
  },
  {
   "cell_type": "code",
   "execution_count": 8,
   "metadata": {
    "execution": {
     "iopub.execute_input": "2022-01-14T20:04:27.677666Z",
     "iopub.status.busy": "2022-01-14T20:04:27.677497Z",
     "iopub.status.idle": "2022-01-14T20:04:27.681534Z",
     "shell.execute_reply": "2022-01-14T20:04:27.681071Z",
     "shell.execute_reply.started": "2022-01-14T20:04:27.677644Z"
    },
    "tags": []
   },
   "outputs": [
    {
     "name": "stdout",
     "output_type": "stream",
     "text": [
      "lNetSize5000_numLNets10000_var10_class2_random_decision_tree_trained_xMax1_xMin0_xDistuniform_depth5_beta1_decisionSpars1_vanilla_fullyGrown/128_e1000ES0.01_b64_drop0_adam_binary_crossentropy_fixedInit1-seed42/inet_dense1024-1024-256-2048-2048_drop0.3-0.3-0.3-0.3-0.3e500b256_adam_funcRep1_reshapeNone\n",
      "lNetSize5000_numLNets10000_var10_class2_random_decision_tree_trained_xMax1_xMin0_xDistuniform_depth5_beta1_decisionSpars1_vanilla_fullyGrown/128_e1000ES0.01_b64_drop0_adam_binary_crossentropy_fixedInit1-seed42\n"
     ]
    }
   ],
   "source": [
    "print(path_identifier_interpretation_net)\n",
    "\n",
    "print(path_identifier_lambda_net_data)\n"
   ]
  },
  {
   "cell_type": "code",
   "execution_count": 9,
   "metadata": {
    "ExecuteTime": {
     "end_time": "2021-01-05T08:33:49.600530Z",
     "start_time": "2021-01-05T08:33:49.583928Z"
    },
    "execution": {
     "iopub.execute_input": "2022-01-14T20:04:27.682479Z",
     "iopub.status.busy": "2022-01-14T20:04:27.682321Z",
     "iopub.status.idle": "2022-01-14T20:04:27.690567Z",
     "shell.execute_reply": "2022-01-14T20:04:27.689928Z",
     "shell.execute_reply.started": "2022-01-14T20:04:27.682459Z"
    },
    "tags": []
   },
   "outputs": [
    {
     "name": "stdout",
     "output_type": "stream",
     "text": [
      "Num GPUs Available:  0\n",
      "Num XLA-GPUs Available:  0\n"
     ]
    }
   ],
   "source": [
    "print(\"Num GPUs Available: \", len(tf.config.experimental.list_physical_devices('GPU')))\n",
    "print(\"Num XLA-GPUs Available: \", len(tf.config.experimental.list_physical_devices('XLA_GPU')))"
   ]
  },
  {
   "cell_type": "markdown",
   "metadata": {},
   "source": [
    "## Load Data and Generate Datasets"
   ]
  },
  {
   "cell_type": "code",
   "execution_count": 10,
   "metadata": {
    "ExecuteTime": {
     "end_time": "2021-01-05T08:33:49.994944Z",
     "start_time": "2021-01-05T08:33:49.957264Z"
    },
    "code_folding": [],
    "execution": {
     "iopub.execute_input": "2022-01-14T20:04:27.691739Z",
     "iopub.status.busy": "2022-01-14T20:04:27.691494Z",
     "iopub.status.idle": "2022-01-14T20:04:27.698193Z",
     "shell.execute_reply": "2022-01-14T20:04:27.697718Z",
     "shell.execute_reply.started": "2022-01-14T20:04:27.691718Z"
    },
    "tags": []
   },
   "outputs": [],
   "source": [
    "def load_lambda_nets(config, no_noise=False, n_jobs=1):\n",
    "    \n",
    "    #def generate_lambda_net()\n",
    "    \n",
    "    #if psutil.virtual_memory().percent > 80:\n",
    "        #raise SystemExit(\"Out of RAM!\")\n",
    "    \n",
    "    if no_noise==True:\n",
    "        config['noise_injected_level'] = 0\n",
    "    path_dict = generate_paths(config, path_type='interpretation_net')        \n",
    "        \n",
    "    directory = './data/weights/' + 'weights_' + path_dict['path_identifier_lambda_net_data'] + '/'\n",
    "    path_network_parameters = directory + 'weights' + '.txt'\n",
    "    #path_X_data = directory + 'X_test_lambda.txt'\n",
    "    #path_y_data = directory + 'y_test_lambda.txt'        \n",
    "    \n",
    "    network_parameters = pd.read_csv(path_network_parameters, sep=\",\", header=None)\n",
    "    network_parameters = network_parameters.sort_values(by=0)\n",
    "    if no_noise == False:\n",
    "        network_parameters = network_parameters.sample(n=config['i_net']['interpretation_dataset_size'], random_state=config['computation']['RANDOM_SEED'])\n",
    "       \n",
    "        \n",
    "    parallel = Parallel(n_jobs=n_jobs, verbose=3, backend='loky') #loky\n",
    "\n",
    "    lambda_nets = parallel(delayed(LambdaNet)(network_parameters_row, \n",
    "                                              #X_test_lambda_row, \n",
    "                                              #y_test_lambda_row, \n",
    "                                              config) for network_parameters_row in network_parameters.values)          \n",
    "    del parallel\n",
    "    \n",
    "    base_model = generate_base_model(config)  \n",
    "    \n",
    "    #def initialize_network_wrapper(config, lambda_net, base_model):\n",
    "    #    lambda_net.initialize_network(config, base_model)\n",
    "    \n",
    "    #parallel = Parallel(n_jobs=n_jobs, verbose=3, backend='sequential')\n",
    "    #_ = parallel(delayed(initialize_network_wrapper)(config, lambda_net, base_model) for lambda_net in lambda_nets)   \n",
    "    #del parallel\n",
    "    \n",
    "    #def initialize_target_function_wrapper(config, lambda_net):\n",
    "    #    lambda_net.initialize_target_function(config)\n",
    "    \n",
    "    #parallel = Parallel(n_jobs=n_jobs, verbose=3, backend='sequential')\n",
    "    #_ = parallel(delayed(initialize_target_function_wrapper)(config, lambda_net) for lambda_net in lambda_nets)   \n",
    "    #del parallel\n",
    "                \n",
    "    lambda_net_dataset = LambdaNetDataset(lambda_nets)\n",
    "        \n",
    "    return lambda_net_dataset\n",
    "    "
   ]
  },
  {
   "cell_type": "code",
   "execution_count": 11,
   "metadata": {
    "ExecuteTime": {
     "end_time": "2021-01-05T09:29:48.869797Z",
     "start_time": "2021-01-05T08:33:49.997149Z"
    },
    "execution": {
     "iopub.execute_input": "2022-01-14T20:04:27.699333Z",
     "iopub.status.busy": "2022-01-14T20:04:27.699175Z",
     "iopub.status.idle": "2022-01-14T20:04:49.007236Z",
     "shell.execute_reply": "2022-01-14T20:04:49.006407Z",
     "shell.execute_reply.started": "2022-01-14T20:04:27.699313Z"
    },
    "tags": []
   },
   "outputs": [
    {
     "name": "stderr",
     "output_type": "stream",
     "text": [
      "[Parallel(n_jobs=5)]: Using backend LokyBackend with 5 concurrent workers.\n",
      "[Parallel(n_jobs=5)]: Done  22 tasks      | elapsed:    9.1s\n",
      "[Parallel(n_jobs=5)]: Done 1556 tasks      | elapsed:   10.4s\n",
      "[Parallel(n_jobs=5)]: Done 9332 tasks      | elapsed:   16.0s\n",
      "[Parallel(n_jobs=5)]: Done 10000 out of 10000 | elapsed:   16.3s finished\n"
     ]
    }
   ],
   "source": [
    "#LOAD DATA\n",
    "if different_eval_data:\n",
    "    config_train = deepcopy(config)\n",
    "    config_eval = deepcopy(config)\n",
    "    \n",
    "    config_eval['data']['function_generation_type'] = config['evaluation']['eval_data_description']['eval_data_function_generation_type']\n",
    "    config_eval['data']['lambda_dataset_size'] = config['evaluation']['eval_data_description']['eval_data_lambda_dataset_size']\n",
    "    config_eval['data']['noise_injected_level'] = config['evaluation']['eval_data_description']['eval_data_noise_injected_level']\n",
    "    config_eval['data']['noise_injected_type'] = config['evaluation']['eval_data_description']['eval_data_noise_injected_type'] \n",
    "    config_eval['lambda_net']['number_of_trained_lambda_nets'] = config['evaluation']['eval_data_description']['eval_data_number_of_trained_lambda_nets']   \n",
    "    config_eval['i_net']['interpretation_dataset_size'] = config['evaluation']['eval_data_description']['eval_data_interpretation_dataset_size']   \n",
    "    \n",
    "\n",
    "    lambda_net_dataset_train_with_valid = load_lambda_nets(config_train, n_jobs=n_jobs)\n",
    "    lambda_net_dataset_eval = load_lambda_nets(config_eval, n_jobs=n_jobs)\n",
    "\n",
    "    if test_size > 0:\n",
    "        _, lambda_net_dataset_test = split_LambdaNetDataset(lambda_net_dataset_eval, test_split=test_size)   \n",
    "    else:\n",
    "        lambda_net_dataset_test = None\n",
    "    lambda_net_dataset_train, lambda_net_dataset_valid = split_LambdaNetDataset(lambda_net_dataset_train_with_valid, test_split=0.1)   \n",
    "\n",
    "        \n",
    "else:\n",
    "    lambda_net_dataset = load_lambda_nets(config, n_jobs=n_jobs)\n",
    "\n",
    "    if test_size > 0:\n",
    "        lambda_net_dataset_train_with_valid, lambda_net_dataset_test = split_LambdaNetDataset(lambda_net_dataset, test_split=test_size)\n",
    "        lambda_net_dataset_train, lambda_net_dataset_valid = split_LambdaNetDataset(lambda_net_dataset_train_with_valid, test_split=0.1)    \n",
    "    else:\n",
    "        lambda_net_dataset_train, lambda_net_dataset_valid = split_LambdaNetDataset(lambda_net_dataset, test_split=0.1)    \n",
    "        lambda_net_dataset_test = None"
   ]
  },
  {
   "cell_type": "markdown",
   "metadata": {
    "ExecuteTime": {
     "end_time": "2020-09-16T18:01:21.350996Z",
     "start_time": "2020-09-16T18:01:21.343717Z"
    }
   },
   "source": [
    "## Data Inspection"
   ]
  },
  {
   "cell_type": "code",
   "execution_count": null,
   "metadata": {},
   "outputs": [],
   "source": []
  },
  {
   "cell_type": "code",
   "execution_count": null,
   "metadata": {},
   "outputs": [],
   "source": []
  },
  {
   "cell_type": "code",
   "execution_count": 12,
   "metadata": {
    "execution": {
     "iopub.execute_input": "2022-01-14T20:04:49.008666Z",
     "iopub.status.busy": "2022-01-14T20:04:49.008439Z",
     "iopub.status.idle": "2022-01-14T20:04:49.012830Z",
     "shell.execute_reply": "2022-01-14T20:04:49.012330Z",
     "shell.execute_reply.started": "2022-01-14T20:04:49.008643Z"
    }
   },
   "outputs": [
    {
     "name": "stdout",
     "output_type": "stream",
     "text": [
      "(8995, 1632)\n",
      "(1000, 1632)\n",
      "(5, 1632)\n"
     ]
    }
   ],
   "source": [
    "print(lambda_net_dataset_train.shape)\n",
    "print(lambda_net_dataset_valid.shape)\n",
    "if test_size > 0:\n",
    "    print(lambda_net_dataset_test.shape)"
   ]
  },
  {
   "cell_type": "code",
   "execution_count": 13,
   "metadata": {
    "ExecuteTime": {
     "end_time": "2021-01-05T09:34:07.407453Z",
     "start_time": "2021-01-05T09:34:04.157787Z"
    },
    "execution": {
     "iopub.execute_input": "2022-01-14T20:04:49.013669Z",
     "iopub.status.busy": "2022-01-14T20:04:49.013487Z",
     "iopub.status.idle": "2022-01-14T20:04:50.018266Z",
     "shell.execute_reply": "2022-01-14T20:04:50.017817Z",
     "shell.execute_reply.started": "2022-01-14T20:04:49.013649Z"
    }
   },
   "outputs": [
    {
     "data": {
      "text/html": [
       "<div>\n",
       "<style scoped>\n",
       "    .dataframe tbody tr th:only-of-type {\n",
       "        vertical-align: middle;\n",
       "    }\n",
       "\n",
       "    .dataframe tbody tr th {\n",
       "        vertical-align: top;\n",
       "    }\n",
       "\n",
       "    .dataframe thead th {\n",
       "        text-align: right;\n",
       "    }\n",
       "</style>\n",
       "<table border=\"1\" class=\"dataframe\">\n",
       "  <thead>\n",
       "    <tr style=\"text-align: right;\">\n",
       "      <th></th>\n",
       "      <th>index</th>\n",
       "      <th>seed</th>\n",
       "      <th>f0v0</th>\n",
       "      <th>f0v1</th>\n",
       "      <th>f0v2</th>\n",
       "      <th>f0v3</th>\n",
       "      <th>f0v4</th>\n",
       "      <th>f0v5</th>\n",
       "      <th>f0v6</th>\n",
       "      <th>f0v7</th>\n",
       "      <th>f0v8</th>\n",
       "      <th>f0v9</th>\n",
       "      <th>f1v0</th>\n",
       "      <th>f1v1</th>\n",
       "      <th>f1v2</th>\n",
       "      <th>f1v3</th>\n",
       "      <th>f1v4</th>\n",
       "      <th>f1v5</th>\n",
       "      <th>f1v6</th>\n",
       "      <th>f1v7</th>\n",
       "      <th>f1v8</th>\n",
       "      <th>f1v9</th>\n",
       "      <th>f2v0</th>\n",
       "      <th>f2v1</th>\n",
       "      <th>f2v2</th>\n",
       "      <th>f2v3</th>\n",
       "      <th>f2v4</th>\n",
       "      <th>f2v5</th>\n",
       "      <th>f2v6</th>\n",
       "      <th>f2v7</th>\n",
       "      <th>f2v8</th>\n",
       "      <th>f2v9</th>\n",
       "      <th>f3v0</th>\n",
       "      <th>f3v1</th>\n",
       "      <th>f3v2</th>\n",
       "      <th>f3v3</th>\n",
       "      <th>f3v4</th>\n",
       "      <th>f3v5</th>\n",
       "      <th>f3v6</th>\n",
       "      <th>f3v7</th>\n",
       "      <th>f3v8</th>\n",
       "      <th>f3v9</th>\n",
       "      <th>f4v0</th>\n",
       "      <th>f4v1</th>\n",
       "      <th>f4v2</th>\n",
       "      <th>f4v3</th>\n",
       "      <th>f4v4</th>\n",
       "      <th>f4v5</th>\n",
       "      <th>f4v6</th>\n",
       "      <th>f4v7</th>\n",
       "      <th>f4v8</th>\n",
       "      <th>f4v9</th>\n",
       "      <th>f5v0</th>\n",
       "      <th>f5v1</th>\n",
       "      <th>f5v2</th>\n",
       "      <th>f5v3</th>\n",
       "      <th>f5v4</th>\n",
       "      <th>f5v5</th>\n",
       "      <th>f5v6</th>\n",
       "      <th>f5v7</th>\n",
       "      <th>f5v8</th>\n",
       "      <th>f5v9</th>\n",
       "      <th>f6v0</th>\n",
       "      <th>f6v1</th>\n",
       "      <th>f6v2</th>\n",
       "      <th>f6v3</th>\n",
       "      <th>f6v4</th>\n",
       "      <th>f6v5</th>\n",
       "      <th>f6v6</th>\n",
       "      <th>f6v7</th>\n",
       "      <th>f6v8</th>\n",
       "      <th>f6v9</th>\n",
       "      <th>b0</th>\n",
       "      <th>b1</th>\n",
       "      <th>b2</th>\n",
       "      <th>b3</th>\n",
       "      <th>b4</th>\n",
       "      <th>b5</th>\n",
       "      <th>b6</th>\n",
       "      <th>lp0c0</th>\n",
       "      <th>lp0c1</th>\n",
       "      <th>lp1c0</th>\n",
       "      <th>lp1c1</th>\n",
       "      <th>lp2c0</th>\n",
       "      <th>lp2c1</th>\n",
       "      <th>lp3c0</th>\n",
       "      <th>lp3c1</th>\n",
       "      <th>lp4c0</th>\n",
       "      <th>lp4c1</th>\n",
       "      <th>lp5c0</th>\n",
       "      <th>lp5c1</th>\n",
       "      <th>lp6c0</th>\n",
       "      <th>lp6c1</th>\n",
       "      <th>lp7c0</th>\n",
       "      <th>lp7c1</th>\n",
       "      <th>wb_0</th>\n",
       "      <th>wb_1</th>\n",
       "      <th>wb_2</th>\n",
       "      <th>wb_3</th>\n",
       "      <th>wb_4</th>\n",
       "      <th>...</th>\n",
       "      <th>wb_1437</th>\n",
       "      <th>wb_1438</th>\n",
       "      <th>wb_1439</th>\n",
       "      <th>wb_1440</th>\n",
       "      <th>wb_1441</th>\n",
       "      <th>wb_1442</th>\n",
       "      <th>wb_1443</th>\n",
       "      <th>wb_1444</th>\n",
       "      <th>wb_1445</th>\n",
       "      <th>wb_1446</th>\n",
       "      <th>wb_1447</th>\n",
       "      <th>wb_1448</th>\n",
       "      <th>wb_1449</th>\n",
       "      <th>wb_1450</th>\n",
       "      <th>wb_1451</th>\n",
       "      <th>wb_1452</th>\n",
       "      <th>wb_1453</th>\n",
       "      <th>wb_1454</th>\n",
       "      <th>wb_1455</th>\n",
       "      <th>wb_1456</th>\n",
       "      <th>wb_1457</th>\n",
       "      <th>wb_1458</th>\n",
       "      <th>wb_1459</th>\n",
       "      <th>wb_1460</th>\n",
       "      <th>wb_1461</th>\n",
       "      <th>wb_1462</th>\n",
       "      <th>wb_1463</th>\n",
       "      <th>wb_1464</th>\n",
       "      <th>wb_1465</th>\n",
       "      <th>wb_1466</th>\n",
       "      <th>wb_1467</th>\n",
       "      <th>wb_1468</th>\n",
       "      <th>wb_1469</th>\n",
       "      <th>wb_1470</th>\n",
       "      <th>wb_1471</th>\n",
       "      <th>wb_1472</th>\n",
       "      <th>wb_1473</th>\n",
       "      <th>wb_1474</th>\n",
       "      <th>wb_1475</th>\n",
       "      <th>wb_1476</th>\n",
       "      <th>wb_1477</th>\n",
       "      <th>wb_1478</th>\n",
       "      <th>wb_1479</th>\n",
       "      <th>wb_1480</th>\n",
       "      <th>wb_1481</th>\n",
       "      <th>wb_1482</th>\n",
       "      <th>wb_1483</th>\n",
       "      <th>wb_1484</th>\n",
       "      <th>wb_1485</th>\n",
       "      <th>wb_1486</th>\n",
       "      <th>wb_1487</th>\n",
       "      <th>wb_1488</th>\n",
       "      <th>wb_1489</th>\n",
       "      <th>wb_1490</th>\n",
       "      <th>wb_1491</th>\n",
       "      <th>wb_1492</th>\n",
       "      <th>wb_1493</th>\n",
       "      <th>wb_1494</th>\n",
       "      <th>wb_1495</th>\n",
       "      <th>wb_1496</th>\n",
       "      <th>wb_1497</th>\n",
       "      <th>wb_1498</th>\n",
       "      <th>wb_1499</th>\n",
       "      <th>wb_1500</th>\n",
       "      <th>wb_1501</th>\n",
       "      <th>wb_1502</th>\n",
       "      <th>wb_1503</th>\n",
       "      <th>wb_1504</th>\n",
       "      <th>wb_1505</th>\n",
       "      <th>wb_1506</th>\n",
       "      <th>wb_1507</th>\n",
       "      <th>wb_1508</th>\n",
       "      <th>wb_1509</th>\n",
       "      <th>wb_1510</th>\n",
       "      <th>wb_1511</th>\n",
       "      <th>wb_1512</th>\n",
       "      <th>wb_1513</th>\n",
       "      <th>wb_1514</th>\n",
       "      <th>wb_1515</th>\n",
       "      <th>wb_1516</th>\n",
       "      <th>wb_1517</th>\n",
       "      <th>wb_1518</th>\n",
       "      <th>wb_1519</th>\n",
       "      <th>wb_1520</th>\n",
       "      <th>wb_1521</th>\n",
       "      <th>wb_1522</th>\n",
       "      <th>wb_1523</th>\n",
       "      <th>wb_1524</th>\n",
       "      <th>wb_1525</th>\n",
       "      <th>wb_1526</th>\n",
       "      <th>wb_1527</th>\n",
       "      <th>wb_1528</th>\n",
       "      <th>wb_1529</th>\n",
       "      <th>wb_1530</th>\n",
       "      <th>wb_1531</th>\n",
       "      <th>wb_1532</th>\n",
       "      <th>wb_1533</th>\n",
       "      <th>wb_1534</th>\n",
       "      <th>wb_1535</th>\n",
       "      <th>wb_1536</th>\n",
       "    </tr>\n",
       "  </thead>\n",
       "  <tbody>\n",
       "    <tr>\n",
       "      <th>3522</th>\n",
       "      <td>3522.000</td>\n",
       "      <td>42</td>\n",
       "      <td>0.000</td>\n",
       "      <td>0.000</td>\n",
       "      <td>0.000</td>\n",
       "      <td>0.000</td>\n",
       "      <td>0.000</td>\n",
       "      <td>0.000</td>\n",
       "      <td>0.000</td>\n",
       "      <td>0.000</td>\n",
       "      <td>0.000</td>\n",
       "      <td>0.000</td>\n",
       "      <td>0.000</td>\n",
       "      <td>0.000</td>\n",
       "      <td>0.000</td>\n",
       "      <td>0.000</td>\n",
       "      <td>0.000</td>\n",
       "      <td>0.000</td>\n",
       "      <td>0.000</td>\n",
       "      <td>0.000</td>\n",
       "      <td>0.000</td>\n",
       "      <td>0.000</td>\n",
       "      <td>0.000</td>\n",
       "      <td>0.000</td>\n",
       "      <td>0.000</td>\n",
       "      <td>0.000</td>\n",
       "      <td>0.000</td>\n",
       "      <td>0.000</td>\n",
       "      <td>0.000</td>\n",
       "      <td>0.000</td>\n",
       "      <td>0.000</td>\n",
       "      <td>0.000</td>\n",
       "      <td>0.000</td>\n",
       "      <td>0.000</td>\n",
       "      <td>0.000</td>\n",
       "      <td>0.000</td>\n",
       "      <td>0.000</td>\n",
       "      <td>0.000</td>\n",
       "      <td>0.000</td>\n",
       "      <td>0.000</td>\n",
       "      <td>0.000</td>\n",
       "      <td>0.000</td>\n",
       "      <td>0.000</td>\n",
       "      <td>0.000</td>\n",
       "      <td>0.000</td>\n",
       "      <td>0.000</td>\n",
       "      <td>0.000</td>\n",
       "      <td>0.000</td>\n",
       "      <td>0.000</td>\n",
       "      <td>0.000</td>\n",
       "      <td>0.000</td>\n",
       "      <td>0.000</td>\n",
       "      <td>0.000</td>\n",
       "      <td>0.000</td>\n",
       "      <td>0.000</td>\n",
       "      <td>0.000</td>\n",
       "      <td>0.000</td>\n",
       "      <td>0.000</td>\n",
       "      <td>0.000</td>\n",
       "      <td>0.000</td>\n",
       "      <td>0.000</td>\n",
       "      <td>0.000</td>\n",
       "      <td>0.000</td>\n",
       "      <td>0.000</td>\n",
       "      <td>0.000</td>\n",
       "      <td>0.000</td>\n",
       "      <td>0.000</td>\n",
       "      <td>0.000</td>\n",
       "      <td>0.000</td>\n",
       "      <td>0.000</td>\n",
       "      <td>0.000</td>\n",
       "      <td>0.000</td>\n",
       "      <td>0.000</td>\n",
       "      <td>0.000</td>\n",
       "      <td>0.000</td>\n",
       "      <td>0.000</td>\n",
       "      <td>0.000</td>\n",
       "      <td>0.000</td>\n",
       "      <td>0.000</td>\n",
       "      <td>0.000</td>\n",
       "      <td>0.000</td>\n",
       "      <td>0.000</td>\n",
       "      <td>0.000</td>\n",
       "      <td>0.000</td>\n",
       "      <td>0.000</td>\n",
       "      <td>0.000</td>\n",
       "      <td>0.000</td>\n",
       "      <td>0.000</td>\n",
       "      <td>0.000</td>\n",
       "      <td>0.000</td>\n",
       "      <td>0.000</td>\n",
       "      <td>0.000</td>\n",
       "      <td>0.000</td>\n",
       "      <td>0.000</td>\n",
       "      <td>0.000</td>\n",
       "      <td>0.008</td>\n",
       "      <td>0.015</td>\n",
       "      <td>-0.006</td>\n",
       "      <td>-0.110</td>\n",
       "      <td>-0.048</td>\n",
       "      <td>...</td>\n",
       "      <td>-1.196</td>\n",
       "      <td>-0.198</td>\n",
       "      <td>0.634</td>\n",
       "      <td>0.130</td>\n",
       "      <td>0.295</td>\n",
       "      <td>-1.278</td>\n",
       "      <td>1.252</td>\n",
       "      <td>0.244</td>\n",
       "      <td>0.232</td>\n",
       "      <td>0.242</td>\n",
       "      <td>-0.785</td>\n",
       "      <td>-0.929</td>\n",
       "      <td>0.309</td>\n",
       "      <td>0.364</td>\n",
       "      <td>0.108</td>\n",
       "      <td>0.121</td>\n",
       "      <td>0.094</td>\n",
       "      <td>0.150</td>\n",
       "      <td>-1.099</td>\n",
       "      <td>0.281</td>\n",
       "      <td>-1.431</td>\n",
       "      <td>0.288</td>\n",
       "      <td>-1.423</td>\n",
       "      <td>-0.991</td>\n",
       "      <td>-0.113</td>\n",
       "      <td>0.107</td>\n",
       "      <td>0.374</td>\n",
       "      <td>0.197</td>\n",
       "      <td>-1.312</td>\n",
       "      <td>-0.642</td>\n",
       "      <td>0.233</td>\n",
       "      <td>-0.978</td>\n",
       "      <td>0.390</td>\n",
       "      <td>-0.865</td>\n",
       "      <td>0.433</td>\n",
       "      <td>0.313</td>\n",
       "      <td>-0.116</td>\n",
       "      <td>0.269</td>\n",
       "      <td>0.288</td>\n",
       "      <td>-0.044</td>\n",
       "      <td>-0.089</td>\n",
       "      <td>-0.423</td>\n",
       "      <td>0.344</td>\n",
       "      <td>0.265</td>\n",
       "      <td>-1.166</td>\n",
       "      <td>-0.870</td>\n",
       "      <td>-0.751</td>\n",
       "      <td>-0.710</td>\n",
       "      <td>1.244</td>\n",
       "      <td>0.338</td>\n",
       "      <td>-1.398</td>\n",
       "      <td>0.179</td>\n",
       "      <td>-0.079</td>\n",
       "      <td>-0.660</td>\n",
       "      <td>0.357</td>\n",
       "      <td>-0.938</td>\n",
       "      <td>-0.895</td>\n",
       "      <td>-1.598</td>\n",
       "      <td>0.282</td>\n",
       "      <td>-0.252</td>\n",
       "      <td>-0.848</td>\n",
       "      <td>0.300</td>\n",
       "      <td>-0.584</td>\n",
       "      <td>-0.888</td>\n",
       "      <td>0.136</td>\n",
       "      <td>0.306</td>\n",
       "      <td>-0.957</td>\n",
       "      <td>-0.575</td>\n",
       "      <td>0.337</td>\n",
       "      <td>0.245</td>\n",
       "      <td>-0.663</td>\n",
       "      <td>-0.898</td>\n",
       "      <td>-1.496</td>\n",
       "      <td>-0.506</td>\n",
       "      <td>-1.489</td>\n",
       "      <td>0.324</td>\n",
       "      <td>0.335</td>\n",
       "      <td>0.347</td>\n",
       "      <td>1.106</td>\n",
       "      <td>-1.164</td>\n",
       "      <td>-1.226</td>\n",
       "      <td>0.067</td>\n",
       "      <td>0.014</td>\n",
       "      <td>-0.993</td>\n",
       "      <td>0.264</td>\n",
       "      <td>-0.802</td>\n",
       "      <td>-1.353</td>\n",
       "      <td>-1.006</td>\n",
       "      <td>0.297</td>\n",
       "      <td>0.114</td>\n",
       "      <td>0.120</td>\n",
       "      <td>0.242</td>\n",
       "      <td>0.170</td>\n",
       "      <td>0.023</td>\n",
       "      <td>0.259</td>\n",
       "      <td>-0.987</td>\n",
       "      <td>0.379</td>\n",
       "      <td>-0.795</td>\n",
       "      <td>-0.700</td>\n",
       "      <td>0.013</td>\n",
       "    </tr>\n",
       "    <tr>\n",
       "      <th>5231</th>\n",
       "      <td>5231.000</td>\n",
       "      <td>42</td>\n",
       "      <td>0.000</td>\n",
       "      <td>0.000</td>\n",
       "      <td>0.000</td>\n",
       "      <td>0.000</td>\n",
       "      <td>0.000</td>\n",
       "      <td>0.000</td>\n",
       "      <td>0.000</td>\n",
       "      <td>0.000</td>\n",
       "      <td>0.000</td>\n",
       "      <td>0.000</td>\n",
       "      <td>0.000</td>\n",
       "      <td>0.000</td>\n",
       "      <td>0.000</td>\n",
       "      <td>0.000</td>\n",
       "      <td>0.000</td>\n",
       "      <td>0.000</td>\n",
       "      <td>0.000</td>\n",
       "      <td>0.000</td>\n",
       "      <td>0.000</td>\n",
       "      <td>0.000</td>\n",
       "      <td>0.000</td>\n",
       "      <td>0.000</td>\n",
       "      <td>0.000</td>\n",
       "      <td>0.000</td>\n",
       "      <td>0.000</td>\n",
       "      <td>0.000</td>\n",
       "      <td>0.000</td>\n",
       "      <td>0.000</td>\n",
       "      <td>0.000</td>\n",
       "      <td>0.000</td>\n",
       "      <td>0.000</td>\n",
       "      <td>0.000</td>\n",
       "      <td>0.000</td>\n",
       "      <td>0.000</td>\n",
       "      <td>0.000</td>\n",
       "      <td>0.000</td>\n",
       "      <td>0.000</td>\n",
       "      <td>0.000</td>\n",
       "      <td>0.000</td>\n",
       "      <td>0.000</td>\n",
       "      <td>0.000</td>\n",
       "      <td>0.000</td>\n",
       "      <td>0.000</td>\n",
       "      <td>0.000</td>\n",
       "      <td>0.000</td>\n",
       "      <td>0.000</td>\n",
       "      <td>0.000</td>\n",
       "      <td>0.000</td>\n",
       "      <td>0.000</td>\n",
       "      <td>0.000</td>\n",
       "      <td>0.000</td>\n",
       "      <td>0.000</td>\n",
       "      <td>0.000</td>\n",
       "      <td>0.000</td>\n",
       "      <td>0.000</td>\n",
       "      <td>0.000</td>\n",
       "      <td>0.000</td>\n",
       "      <td>0.000</td>\n",
       "      <td>0.000</td>\n",
       "      <td>0.000</td>\n",
       "      <td>0.000</td>\n",
       "      <td>0.000</td>\n",
       "      <td>0.000</td>\n",
       "      <td>0.000</td>\n",
       "      <td>0.000</td>\n",
       "      <td>0.000</td>\n",
       "      <td>0.000</td>\n",
       "      <td>0.000</td>\n",
       "      <td>0.000</td>\n",
       "      <td>0.000</td>\n",
       "      <td>0.000</td>\n",
       "      <td>0.000</td>\n",
       "      <td>0.000</td>\n",
       "      <td>0.000</td>\n",
       "      <td>0.000</td>\n",
       "      <td>0.000</td>\n",
       "      <td>0.000</td>\n",
       "      <td>0.000</td>\n",
       "      <td>0.000</td>\n",
       "      <td>0.000</td>\n",
       "      <td>0.000</td>\n",
       "      <td>0.000</td>\n",
       "      <td>0.000</td>\n",
       "      <td>0.000</td>\n",
       "      <td>0.000</td>\n",
       "      <td>0.000</td>\n",
       "      <td>0.000</td>\n",
       "      <td>0.000</td>\n",
       "      <td>0.000</td>\n",
       "      <td>0.000</td>\n",
       "      <td>0.000</td>\n",
       "      <td>0.000</td>\n",
       "      <td>0.000</td>\n",
       "      <td>-0.026</td>\n",
       "      <td>-0.025</td>\n",
       "      <td>-0.004</td>\n",
       "      <td>-0.089</td>\n",
       "      <td>0.188</td>\n",
       "      <td>...</td>\n",
       "      <td>0.467</td>\n",
       "      <td>-2.141</td>\n",
       "      <td>0.293</td>\n",
       "      <td>0.648</td>\n",
       "      <td>0.220</td>\n",
       "      <td>-0.993</td>\n",
       "      <td>1.398</td>\n",
       "      <td>-0.331</td>\n",
       "      <td>0.312</td>\n",
       "      <td>0.347</td>\n",
       "      <td>-0.776</td>\n",
       "      <td>0.348</td>\n",
       "      <td>1.336</td>\n",
       "      <td>0.560</td>\n",
       "      <td>0.548</td>\n",
       "      <td>0.124</td>\n",
       "      <td>1.112</td>\n",
       "      <td>0.212</td>\n",
       "      <td>-1.098</td>\n",
       "      <td>0.330</td>\n",
       "      <td>-1.741</td>\n",
       "      <td>0.511</td>\n",
       "      <td>-0.125</td>\n",
       "      <td>-0.709</td>\n",
       "      <td>-0.113</td>\n",
       "      <td>-0.555</td>\n",
       "      <td>0.927</td>\n",
       "      <td>0.141</td>\n",
       "      <td>-0.090</td>\n",
       "      <td>-0.412</td>\n",
       "      <td>0.550</td>\n",
       "      <td>-0.593</td>\n",
       "      <td>0.916</td>\n",
       "      <td>-0.776</td>\n",
       "      <td>0.165</td>\n",
       "      <td>0.368</td>\n",
       "      <td>-0.107</td>\n",
       "      <td>0.703</td>\n",
       "      <td>0.730</td>\n",
       "      <td>-0.324</td>\n",
       "      <td>-2.053</td>\n",
       "      <td>-1.836</td>\n",
       "      <td>0.542</td>\n",
       "      <td>0.340</td>\n",
       "      <td>-0.432</td>\n",
       "      <td>-0.435</td>\n",
       "      <td>-0.420</td>\n",
       "      <td>-0.507</td>\n",
       "      <td>-0.523</td>\n",
       "      <td>0.611</td>\n",
       "      <td>-0.130</td>\n",
       "      <td>0.568</td>\n",
       "      <td>-0.853</td>\n",
       "      <td>-0.820</td>\n",
       "      <td>0.431</td>\n",
       "      <td>0.588</td>\n",
       "      <td>-0.273</td>\n",
       "      <td>-1.066</td>\n",
       "      <td>0.343</td>\n",
       "      <td>-0.345</td>\n",
       "      <td>-0.593</td>\n",
       "      <td>0.208</td>\n",
       "      <td>-0.515</td>\n",
       "      <td>-1.943</td>\n",
       "      <td>0.009</td>\n",
       "      <td>0.348</td>\n",
       "      <td>1.150</td>\n",
       "      <td>-0.433</td>\n",
       "      <td>0.142</td>\n",
       "      <td>0.070</td>\n",
       "      <td>-0.763</td>\n",
       "      <td>-0.509</td>\n",
       "      <td>-1.269</td>\n",
       "      <td>-0.465</td>\n",
       "      <td>-0.844</td>\n",
       "      <td>0.119</td>\n",
       "      <td>0.335</td>\n",
       "      <td>1.733</td>\n",
       "      <td>1.040</td>\n",
       "      <td>-0.151</td>\n",
       "      <td>-0.028</td>\n",
       "      <td>0.067</td>\n",
       "      <td>-0.288</td>\n",
       "      <td>1.085</td>\n",
       "      <td>0.249</td>\n",
       "      <td>-0.217</td>\n",
       "      <td>-2.024</td>\n",
       "      <td>-1.290</td>\n",
       "      <td>0.493</td>\n",
       "      <td>0.056</td>\n",
       "      <td>1.543</td>\n",
       "      <td>0.756</td>\n",
       "      <td>1.317</td>\n",
       "      <td>-0.382</td>\n",
       "      <td>-0.433</td>\n",
       "      <td>-0.469</td>\n",
       "      <td>0.630</td>\n",
       "      <td>-0.361</td>\n",
       "      <td>0.317</td>\n",
       "      <td>0.127</td>\n",
       "    </tr>\n",
       "    <tr>\n",
       "      <th>2525</th>\n",
       "      <td>2525.000</td>\n",
       "      <td>42</td>\n",
       "      <td>0.000</td>\n",
       "      <td>0.000</td>\n",
       "      <td>0.000</td>\n",
       "      <td>0.000</td>\n",
       "      <td>0.000</td>\n",
       "      <td>0.000</td>\n",
       "      <td>0.000</td>\n",
       "      <td>0.000</td>\n",
       "      <td>0.000</td>\n",
       "      <td>0.000</td>\n",
       "      <td>0.000</td>\n",
       "      <td>0.000</td>\n",
       "      <td>0.000</td>\n",
       "      <td>0.000</td>\n",
       "      <td>0.000</td>\n",
       "      <td>0.000</td>\n",
       "      <td>0.000</td>\n",
       "      <td>0.000</td>\n",
       "      <td>0.000</td>\n",
       "      <td>0.000</td>\n",
       "      <td>0.000</td>\n",
       "      <td>0.000</td>\n",
       "      <td>0.000</td>\n",
       "      <td>0.000</td>\n",
       "      <td>0.000</td>\n",
       "      <td>0.000</td>\n",
       "      <td>0.000</td>\n",
       "      <td>0.000</td>\n",
       "      <td>0.000</td>\n",
       "      <td>0.000</td>\n",
       "      <td>0.000</td>\n",
       "      <td>0.000</td>\n",
       "      <td>0.000</td>\n",
       "      <td>0.000</td>\n",
       "      <td>0.000</td>\n",
       "      <td>0.000</td>\n",
       "      <td>0.000</td>\n",
       "      <td>0.000</td>\n",
       "      <td>0.000</td>\n",
       "      <td>0.000</td>\n",
       "      <td>0.000</td>\n",
       "      <td>0.000</td>\n",
       "      <td>0.000</td>\n",
       "      <td>0.000</td>\n",
       "      <td>0.000</td>\n",
       "      <td>0.000</td>\n",
       "      <td>0.000</td>\n",
       "      <td>0.000</td>\n",
       "      <td>0.000</td>\n",
       "      <td>0.000</td>\n",
       "      <td>0.000</td>\n",
       "      <td>0.000</td>\n",
       "      <td>0.000</td>\n",
       "      <td>0.000</td>\n",
       "      <td>0.000</td>\n",
       "      <td>0.000</td>\n",
       "      <td>0.000</td>\n",
       "      <td>0.000</td>\n",
       "      <td>0.000</td>\n",
       "      <td>0.000</td>\n",
       "      <td>0.000</td>\n",
       "      <td>0.000</td>\n",
       "      <td>0.000</td>\n",
       "      <td>0.000</td>\n",
       "      <td>0.000</td>\n",
       "      <td>0.000</td>\n",
       "      <td>0.000</td>\n",
       "      <td>0.000</td>\n",
       "      <td>0.000</td>\n",
       "      <td>0.000</td>\n",
       "      <td>0.000</td>\n",
       "      <td>0.000</td>\n",
       "      <td>0.000</td>\n",
       "      <td>0.000</td>\n",
       "      <td>0.000</td>\n",
       "      <td>0.000</td>\n",
       "      <td>0.000</td>\n",
       "      <td>0.000</td>\n",
       "      <td>0.000</td>\n",
       "      <td>0.000</td>\n",
       "      <td>0.000</td>\n",
       "      <td>0.000</td>\n",
       "      <td>0.000</td>\n",
       "      <td>0.000</td>\n",
       "      <td>0.000</td>\n",
       "      <td>0.000</td>\n",
       "      <td>0.000</td>\n",
       "      <td>0.000</td>\n",
       "      <td>0.000</td>\n",
       "      <td>0.000</td>\n",
       "      <td>0.000</td>\n",
       "      <td>0.000</td>\n",
       "      <td>0.000</td>\n",
       "      <td>0.011</td>\n",
       "      <td>0.009</td>\n",
       "      <td>-0.072</td>\n",
       "      <td>-0.526</td>\n",
       "      <td>-0.121</td>\n",
       "      <td>...</td>\n",
       "      <td>0.336</td>\n",
       "      <td>-0.076</td>\n",
       "      <td>0.713</td>\n",
       "      <td>0.113</td>\n",
       "      <td>0.230</td>\n",
       "      <td>-0.608</td>\n",
       "      <td>0.046</td>\n",
       "      <td>-0.527</td>\n",
       "      <td>0.273</td>\n",
       "      <td>0.179</td>\n",
       "      <td>-0.440</td>\n",
       "      <td>0.135</td>\n",
       "      <td>0.423</td>\n",
       "      <td>0.240</td>\n",
       "      <td>0.353</td>\n",
       "      <td>1.034</td>\n",
       "      <td>1.259</td>\n",
       "      <td>0.291</td>\n",
       "      <td>-1.568</td>\n",
       "      <td>1.385</td>\n",
       "      <td>-0.720</td>\n",
       "      <td>0.955</td>\n",
       "      <td>-0.118</td>\n",
       "      <td>-0.859</td>\n",
       "      <td>-0.113</td>\n",
       "      <td>0.430</td>\n",
       "      <td>0.339</td>\n",
       "      <td>0.185</td>\n",
       "      <td>-0.659</td>\n",
       "      <td>-0.827</td>\n",
       "      <td>2.708</td>\n",
       "      <td>-0.650</td>\n",
       "      <td>0.122</td>\n",
       "      <td>-0.556</td>\n",
       "      <td>0.437</td>\n",
       "      <td>0.162</td>\n",
       "      <td>-0.745</td>\n",
       "      <td>0.240</td>\n",
       "      <td>0.220</td>\n",
       "      <td>-0.257</td>\n",
       "      <td>-0.090</td>\n",
       "      <td>-0.319</td>\n",
       "      <td>0.330</td>\n",
       "      <td>0.075</td>\n",
       "      <td>-0.405</td>\n",
       "      <td>-0.494</td>\n",
       "      <td>-0.429</td>\n",
       "      <td>-0.500</td>\n",
       "      <td>-0.567</td>\n",
       "      <td>0.536</td>\n",
       "      <td>-0.634</td>\n",
       "      <td>-0.211</td>\n",
       "      <td>-0.286</td>\n",
       "      <td>-0.309</td>\n",
       "      <td>1.381</td>\n",
       "      <td>0.230</td>\n",
       "      <td>-0.272</td>\n",
       "      <td>-1.838</td>\n",
       "      <td>0.239</td>\n",
       "      <td>-0.385</td>\n",
       "      <td>0.359</td>\n",
       "      <td>0.138</td>\n",
       "      <td>-0.418</td>\n",
       "      <td>-0.548</td>\n",
       "      <td>0.191</td>\n",
       "      <td>0.245</td>\n",
       "      <td>0.343</td>\n",
       "      <td>-0.441</td>\n",
       "      <td>0.292</td>\n",
       "      <td>0.195</td>\n",
       "      <td>-0.534</td>\n",
       "      <td>-0.666</td>\n",
       "      <td>-0.818</td>\n",
       "      <td>-0.742</td>\n",
       "      <td>-0.100</td>\n",
       "      <td>0.336</td>\n",
       "      <td>1.088</td>\n",
       "      <td>0.083</td>\n",
       "      <td>0.773</td>\n",
       "      <td>-0.697</td>\n",
       "      <td>-0.769</td>\n",
       "      <td>0.067</td>\n",
       "      <td>-0.256</td>\n",
       "      <td>-0.535</td>\n",
       "      <td>0.381</td>\n",
       "      <td>-0.421</td>\n",
       "      <td>-0.143</td>\n",
       "      <td>-0.905</td>\n",
       "      <td>0.222</td>\n",
       "      <td>0.978</td>\n",
       "      <td>0.116</td>\n",
       "      <td>0.287</td>\n",
       "      <td>0.092</td>\n",
       "      <td>-0.238</td>\n",
       "      <td>-0.428</td>\n",
       "      <td>-0.608</td>\n",
       "      <td>0.976</td>\n",
       "      <td>0.230</td>\n",
       "      <td>0.245</td>\n",
       "      <td>-0.117</td>\n",
       "    </tr>\n",
       "    <tr>\n",
       "      <th>8580</th>\n",
       "      <td>8580.000</td>\n",
       "      <td>42</td>\n",
       "      <td>0.000</td>\n",
       "      <td>0.000</td>\n",
       "      <td>0.000</td>\n",
       "      <td>0.000</td>\n",
       "      <td>0.000</td>\n",
       "      <td>0.000</td>\n",
       "      <td>0.000</td>\n",
       "      <td>0.000</td>\n",
       "      <td>0.000</td>\n",
       "      <td>0.000</td>\n",
       "      <td>0.000</td>\n",
       "      <td>0.000</td>\n",
       "      <td>0.000</td>\n",
       "      <td>0.000</td>\n",
       "      <td>0.000</td>\n",
       "      <td>0.000</td>\n",
       "      <td>0.000</td>\n",
       "      <td>0.000</td>\n",
       "      <td>0.000</td>\n",
       "      <td>0.000</td>\n",
       "      <td>0.000</td>\n",
       "      <td>0.000</td>\n",
       "      <td>0.000</td>\n",
       "      <td>0.000</td>\n",
       "      <td>0.000</td>\n",
       "      <td>0.000</td>\n",
       "      <td>0.000</td>\n",
       "      <td>0.000</td>\n",
       "      <td>0.000</td>\n",
       "      <td>0.000</td>\n",
       "      <td>0.000</td>\n",
       "      <td>0.000</td>\n",
       "      <td>0.000</td>\n",
       "      <td>0.000</td>\n",
       "      <td>0.000</td>\n",
       "      <td>0.000</td>\n",
       "      <td>0.000</td>\n",
       "      <td>0.000</td>\n",
       "      <td>0.000</td>\n",
       "      <td>0.000</td>\n",
       "      <td>0.000</td>\n",
       "      <td>0.000</td>\n",
       "      <td>0.000</td>\n",
       "      <td>0.000</td>\n",
       "      <td>0.000</td>\n",
       "      <td>0.000</td>\n",
       "      <td>0.000</td>\n",
       "      <td>0.000</td>\n",
       "      <td>0.000</td>\n",
       "      <td>0.000</td>\n",
       "      <td>0.000</td>\n",
       "      <td>0.000</td>\n",
       "      <td>0.000</td>\n",
       "      <td>0.000</td>\n",
       "      <td>0.000</td>\n",
       "      <td>0.000</td>\n",
       "      <td>0.000</td>\n",
       "      <td>0.000</td>\n",
       "      <td>0.000</td>\n",
       "      <td>0.000</td>\n",
       "      <td>0.000</td>\n",
       "      <td>0.000</td>\n",
       "      <td>0.000</td>\n",
       "      <td>0.000</td>\n",
       "      <td>0.000</td>\n",
       "      <td>0.000</td>\n",
       "      <td>0.000</td>\n",
       "      <td>0.000</td>\n",
       "      <td>0.000</td>\n",
       "      <td>0.000</td>\n",
       "      <td>0.000</td>\n",
       "      <td>0.000</td>\n",
       "      <td>0.000</td>\n",
       "      <td>0.000</td>\n",
       "      <td>0.000</td>\n",
       "      <td>0.000</td>\n",
       "      <td>0.000</td>\n",
       "      <td>0.000</td>\n",
       "      <td>0.000</td>\n",
       "      <td>0.000</td>\n",
       "      <td>0.000</td>\n",
       "      <td>0.000</td>\n",
       "      <td>0.000</td>\n",
       "      <td>0.000</td>\n",
       "      <td>0.000</td>\n",
       "      <td>0.000</td>\n",
       "      <td>0.000</td>\n",
       "      <td>0.000</td>\n",
       "      <td>0.000</td>\n",
       "      <td>0.000</td>\n",
       "      <td>0.000</td>\n",
       "      <td>0.000</td>\n",
       "      <td>0.000</td>\n",
       "      <td>0.083</td>\n",
       "      <td>0.011</td>\n",
       "      <td>0.014</td>\n",
       "      <td>0.007</td>\n",
       "      <td>0.069</td>\n",
       "      <td>...</td>\n",
       "      <td>0.240</td>\n",
       "      <td>-0.085</td>\n",
       "      <td>0.274</td>\n",
       "      <td>5.062</td>\n",
       "      <td>0.235</td>\n",
       "      <td>-1.606</td>\n",
       "      <td>0.688</td>\n",
       "      <td>0.250</td>\n",
       "      <td>0.273</td>\n",
       "      <td>0.272</td>\n",
       "      <td>-1.230</td>\n",
       "      <td>0.204</td>\n",
       "      <td>2.363</td>\n",
       "      <td>0.364</td>\n",
       "      <td>0.346</td>\n",
       "      <td>1.547</td>\n",
       "      <td>0.364</td>\n",
       "      <td>0.237</td>\n",
       "      <td>-1.764</td>\n",
       "      <td>0.315</td>\n",
       "      <td>-1.766</td>\n",
       "      <td>0.289</td>\n",
       "      <td>-1.906</td>\n",
       "      <td>-1.165</td>\n",
       "      <td>-0.113</td>\n",
       "      <td>0.170</td>\n",
       "      <td>1.117</td>\n",
       "      <td>0.164</td>\n",
       "      <td>-0.109</td>\n",
       "      <td>-1.147</td>\n",
       "      <td>0.053</td>\n",
       "      <td>-1.490</td>\n",
       "      <td>0.105</td>\n",
       "      <td>-0.708</td>\n",
       "      <td>0.170</td>\n",
       "      <td>0.143</td>\n",
       "      <td>-0.178</td>\n",
       "      <td>0.174</td>\n",
       "      <td>-1.537</td>\n",
       "      <td>-1.380</td>\n",
       "      <td>-1.722</td>\n",
       "      <td>-2.518</td>\n",
       "      <td>0.870</td>\n",
       "      <td>0.235</td>\n",
       "      <td>-1.377</td>\n",
       "      <td>-2.688</td>\n",
       "      <td>-1.385</td>\n",
       "      <td>-1.155</td>\n",
       "      <td>3.466</td>\n",
       "      <td>0.311</td>\n",
       "      <td>-1.834</td>\n",
       "      <td>-2.136</td>\n",
       "      <td>-1.832</td>\n",
       "      <td>-0.052</td>\n",
       "      <td>0.319</td>\n",
       "      <td>-0.232</td>\n",
       "      <td>-0.299</td>\n",
       "      <td>-1.968</td>\n",
       "      <td>0.141</td>\n",
       "      <td>0.329</td>\n",
       "      <td>0.226</td>\n",
       "      <td>0.804</td>\n",
       "      <td>-0.002</td>\n",
       "      <td>-1.266</td>\n",
       "      <td>0.170</td>\n",
       "      <td>0.237</td>\n",
       "      <td>-0.905</td>\n",
       "      <td>-0.647</td>\n",
       "      <td>0.224</td>\n",
       "      <td>0.131</td>\n",
       "      <td>-0.141</td>\n",
       "      <td>-2.206</td>\n",
       "      <td>-2.398</td>\n",
       "      <td>-0.943</td>\n",
       "      <td>-1.952</td>\n",
       "      <td>0.228</td>\n",
       "      <td>0.717</td>\n",
       "      <td>4.052</td>\n",
       "      <td>0.040</td>\n",
       "      <td>-1.805</td>\n",
       "      <td>-2.549</td>\n",
       "      <td>0.067</td>\n",
       "      <td>-1.239</td>\n",
       "      <td>-0.957</td>\n",
       "      <td>0.570</td>\n",
       "      <td>0.100</td>\n",
       "      <td>-2.385</td>\n",
       "      <td>-2.936</td>\n",
       "      <td>1.039</td>\n",
       "      <td>0.048</td>\n",
       "      <td>0.110</td>\n",
       "      <td>0.356</td>\n",
       "      <td>0.337</td>\n",
       "      <td>-0.134</td>\n",
       "      <td>-1.129</td>\n",
       "      <td>-1.082</td>\n",
       "      <td>1.218</td>\n",
       "      <td>-0.731</td>\n",
       "      <td>0.413</td>\n",
       "      <td>0.320</td>\n",
       "    </tr>\n",
       "    <tr>\n",
       "      <th>8582</th>\n",
       "      <td>8582.000</td>\n",
       "      <td>42</td>\n",
       "      <td>0.000</td>\n",
       "      <td>0.000</td>\n",
       "      <td>0.000</td>\n",
       "      <td>0.000</td>\n",
       "      <td>0.000</td>\n",
       "      <td>0.000</td>\n",
       "      <td>0.000</td>\n",
       "      <td>0.000</td>\n",
       "      <td>0.000</td>\n",
       "      <td>0.000</td>\n",
       "      <td>0.000</td>\n",
       "      <td>0.000</td>\n",
       "      <td>0.000</td>\n",
       "      <td>0.000</td>\n",
       "      <td>0.000</td>\n",
       "      <td>0.000</td>\n",
       "      <td>0.000</td>\n",
       "      <td>0.000</td>\n",
       "      <td>0.000</td>\n",
       "      <td>0.000</td>\n",
       "      <td>0.000</td>\n",
       "      <td>0.000</td>\n",
       "      <td>0.000</td>\n",
       "      <td>0.000</td>\n",
       "      <td>0.000</td>\n",
       "      <td>0.000</td>\n",
       "      <td>0.000</td>\n",
       "      <td>0.000</td>\n",
       "      <td>0.000</td>\n",
       "      <td>0.000</td>\n",
       "      <td>0.000</td>\n",
       "      <td>0.000</td>\n",
       "      <td>0.000</td>\n",
       "      <td>0.000</td>\n",
       "      <td>0.000</td>\n",
       "      <td>0.000</td>\n",
       "      <td>0.000</td>\n",
       "      <td>0.000</td>\n",
       "      <td>0.000</td>\n",
       "      <td>0.000</td>\n",
       "      <td>0.000</td>\n",
       "      <td>0.000</td>\n",
       "      <td>0.000</td>\n",
       "      <td>0.000</td>\n",
       "      <td>0.000</td>\n",
       "      <td>0.000</td>\n",
       "      <td>0.000</td>\n",
       "      <td>0.000</td>\n",
       "      <td>0.000</td>\n",
       "      <td>0.000</td>\n",
       "      <td>0.000</td>\n",
       "      <td>0.000</td>\n",
       "      <td>0.000</td>\n",
       "      <td>0.000</td>\n",
       "      <td>0.000</td>\n",
       "      <td>0.000</td>\n",
       "      <td>0.000</td>\n",
       "      <td>0.000</td>\n",
       "      <td>0.000</td>\n",
       "      <td>0.000</td>\n",
       "      <td>0.000</td>\n",
       "      <td>0.000</td>\n",
       "      <td>0.000</td>\n",
       "      <td>0.000</td>\n",
       "      <td>0.000</td>\n",
       "      <td>0.000</td>\n",
       "      <td>0.000</td>\n",
       "      <td>0.000</td>\n",
       "      <td>0.000</td>\n",
       "      <td>0.000</td>\n",
       "      <td>0.000</td>\n",
       "      <td>0.000</td>\n",
       "      <td>0.000</td>\n",
       "      <td>0.000</td>\n",
       "      <td>0.000</td>\n",
       "      <td>0.000</td>\n",
       "      <td>0.000</td>\n",
       "      <td>0.000</td>\n",
       "      <td>0.000</td>\n",
       "      <td>0.000</td>\n",
       "      <td>0.000</td>\n",
       "      <td>0.000</td>\n",
       "      <td>0.000</td>\n",
       "      <td>0.000</td>\n",
       "      <td>0.000</td>\n",
       "      <td>0.000</td>\n",
       "      <td>0.000</td>\n",
       "      <td>0.000</td>\n",
       "      <td>0.000</td>\n",
       "      <td>0.000</td>\n",
       "      <td>0.000</td>\n",
       "      <td>0.000</td>\n",
       "      <td>0.000</td>\n",
       "      <td>-0.724</td>\n",
       "      <td>-0.199</td>\n",
       "      <td>-0.044</td>\n",
       "      <td>-0.285</td>\n",
       "      <td>-0.343</td>\n",
       "      <td>...</td>\n",
       "      <td>0.270</td>\n",
       "      <td>-0.081</td>\n",
       "      <td>0.315</td>\n",
       "      <td>0.623</td>\n",
       "      <td>0.082</td>\n",
       "      <td>-1.097</td>\n",
       "      <td>1.871</td>\n",
       "      <td>-1.674</td>\n",
       "      <td>0.318</td>\n",
       "      <td>1.004</td>\n",
       "      <td>-0.355</td>\n",
       "      <td>0.936</td>\n",
       "      <td>0.531</td>\n",
       "      <td>1.172</td>\n",
       "      <td>0.625</td>\n",
       "      <td>0.182</td>\n",
       "      <td>1.727</td>\n",
       "      <td>0.514</td>\n",
       "      <td>-1.175</td>\n",
       "      <td>0.712</td>\n",
       "      <td>-0.902</td>\n",
       "      <td>1.345</td>\n",
       "      <td>-1.088</td>\n",
       "      <td>-0.554</td>\n",
       "      <td>-0.113</td>\n",
       "      <td>-0.241</td>\n",
       "      <td>0.449</td>\n",
       "      <td>0.624</td>\n",
       "      <td>-0.772</td>\n",
       "      <td>-0.453</td>\n",
       "      <td>1.043</td>\n",
       "      <td>-1.057</td>\n",
       "      <td>0.303</td>\n",
       "      <td>-0.553</td>\n",
       "      <td>0.948</td>\n",
       "      <td>-0.384</td>\n",
       "      <td>-0.589</td>\n",
       "      <td>0.240</td>\n",
       "      <td>1.413</td>\n",
       "      <td>-0.356</td>\n",
       "      <td>-0.724</td>\n",
       "      <td>-0.444</td>\n",
       "      <td>0.458</td>\n",
       "      <td>-0.945</td>\n",
       "      <td>-0.380</td>\n",
       "      <td>0.209</td>\n",
       "      <td>-0.660</td>\n",
       "      <td>-0.269</td>\n",
       "      <td>-1.569</td>\n",
       "      <td>1.201</td>\n",
       "      <td>-1.141</td>\n",
       "      <td>-0.350</td>\n",
       "      <td>-0.857</td>\n",
       "      <td>-0.533</td>\n",
       "      <td>0.061</td>\n",
       "      <td>-1.213</td>\n",
       "      <td>-0.849</td>\n",
       "      <td>-0.250</td>\n",
       "      <td>0.214</td>\n",
       "      <td>-0.250</td>\n",
       "      <td>-0.355</td>\n",
       "      <td>0.460</td>\n",
       "      <td>-0.171</td>\n",
       "      <td>-1.323</td>\n",
       "      <td>0.149</td>\n",
       "      <td>1.372</td>\n",
       "      <td>-1.210</td>\n",
       "      <td>-0.514</td>\n",
       "      <td>0.485</td>\n",
       "      <td>0.073</td>\n",
       "      <td>-0.553</td>\n",
       "      <td>-0.547</td>\n",
       "      <td>-0.977</td>\n",
       "      <td>-0.584</td>\n",
       "      <td>-1.500</td>\n",
       "      <td>0.372</td>\n",
       "      <td>0.732</td>\n",
       "      <td>1.205</td>\n",
       "      <td>0.297</td>\n",
       "      <td>-0.921</td>\n",
       "      <td>-1.397</td>\n",
       "      <td>0.067</td>\n",
       "      <td>-0.531</td>\n",
       "      <td>-0.655</td>\n",
       "      <td>0.464</td>\n",
       "      <td>-0.618</td>\n",
       "      <td>-0.867</td>\n",
       "      <td>-0.580</td>\n",
       "      <td>0.286</td>\n",
       "      <td>0.387</td>\n",
       "      <td>0.527</td>\n",
       "      <td>0.186</td>\n",
       "      <td>0.397</td>\n",
       "      <td>-0.103</td>\n",
       "      <td>-0.457</td>\n",
       "      <td>-0.917</td>\n",
       "      <td>0.507</td>\n",
       "      <td>-1.440</td>\n",
       "      <td>-0.530</td>\n",
       "      <td>-0.026</td>\n",
       "    </tr>\n",
       "  </tbody>\n",
       "</table>\n",
       "<p>5 rows × 1632 columns</p>\n",
       "</div>"
      ],
      "text/plain": [
       "        index  seed  f0v0  f0v1  f0v2  f0v3  f0v4  f0v5  f0v6  f0v7  f0v8  \\\n",
       "3522 3522.000    42 0.000 0.000 0.000 0.000 0.000 0.000 0.000 0.000 0.000   \n",
       "5231 5231.000    42 0.000 0.000 0.000 0.000 0.000 0.000 0.000 0.000 0.000   \n",
       "2525 2525.000    42 0.000 0.000 0.000 0.000 0.000 0.000 0.000 0.000 0.000   \n",
       "8580 8580.000    42 0.000 0.000 0.000 0.000 0.000 0.000 0.000 0.000 0.000   \n",
       "8582 8582.000    42 0.000 0.000 0.000 0.000 0.000 0.000 0.000 0.000 0.000   \n",
       "\n",
       "      f0v9  f1v0  f1v1  f1v2  f1v3  f1v4  f1v5  f1v6  f1v7  f1v8  f1v9  f2v0  \\\n",
       "3522 0.000 0.000 0.000 0.000 0.000 0.000 0.000 0.000 0.000 0.000 0.000 0.000   \n",
       "5231 0.000 0.000 0.000 0.000 0.000 0.000 0.000 0.000 0.000 0.000 0.000 0.000   \n",
       "2525 0.000 0.000 0.000 0.000 0.000 0.000 0.000 0.000 0.000 0.000 0.000 0.000   \n",
       "8580 0.000 0.000 0.000 0.000 0.000 0.000 0.000 0.000 0.000 0.000 0.000 0.000   \n",
       "8582 0.000 0.000 0.000 0.000 0.000 0.000 0.000 0.000 0.000 0.000 0.000 0.000   \n",
       "\n",
       "      f2v1  f2v2  f2v3  f2v4  f2v5  f2v6  f2v7  f2v8  f2v9  f3v0  f3v1  f3v2  \\\n",
       "3522 0.000 0.000 0.000 0.000 0.000 0.000 0.000 0.000 0.000 0.000 0.000 0.000   \n",
       "5231 0.000 0.000 0.000 0.000 0.000 0.000 0.000 0.000 0.000 0.000 0.000 0.000   \n",
       "2525 0.000 0.000 0.000 0.000 0.000 0.000 0.000 0.000 0.000 0.000 0.000 0.000   \n",
       "8580 0.000 0.000 0.000 0.000 0.000 0.000 0.000 0.000 0.000 0.000 0.000 0.000   \n",
       "8582 0.000 0.000 0.000 0.000 0.000 0.000 0.000 0.000 0.000 0.000 0.000 0.000   \n",
       "\n",
       "      f3v3  f3v4  f3v5  f3v6  f3v7  f3v8  f3v9  f4v0  f4v1  f4v2  f4v3  f4v4  \\\n",
       "3522 0.000 0.000 0.000 0.000 0.000 0.000 0.000 0.000 0.000 0.000 0.000 0.000   \n",
       "5231 0.000 0.000 0.000 0.000 0.000 0.000 0.000 0.000 0.000 0.000 0.000 0.000   \n",
       "2525 0.000 0.000 0.000 0.000 0.000 0.000 0.000 0.000 0.000 0.000 0.000 0.000   \n",
       "8580 0.000 0.000 0.000 0.000 0.000 0.000 0.000 0.000 0.000 0.000 0.000 0.000   \n",
       "8582 0.000 0.000 0.000 0.000 0.000 0.000 0.000 0.000 0.000 0.000 0.000 0.000   \n",
       "\n",
       "      f4v5  f4v6  f4v7  f4v8  f4v9  f5v0  f5v1  f5v2  f5v3  f5v4  f5v5  f5v6  \\\n",
       "3522 0.000 0.000 0.000 0.000 0.000 0.000 0.000 0.000 0.000 0.000 0.000 0.000   \n",
       "5231 0.000 0.000 0.000 0.000 0.000 0.000 0.000 0.000 0.000 0.000 0.000 0.000   \n",
       "2525 0.000 0.000 0.000 0.000 0.000 0.000 0.000 0.000 0.000 0.000 0.000 0.000   \n",
       "8580 0.000 0.000 0.000 0.000 0.000 0.000 0.000 0.000 0.000 0.000 0.000 0.000   \n",
       "8582 0.000 0.000 0.000 0.000 0.000 0.000 0.000 0.000 0.000 0.000 0.000 0.000   \n",
       "\n",
       "      f5v7  f5v8  f5v9  f6v0  f6v1  f6v2  f6v3  f6v4  f6v5  f6v6  f6v7  f6v8  \\\n",
       "3522 0.000 0.000 0.000 0.000 0.000 0.000 0.000 0.000 0.000 0.000 0.000 0.000   \n",
       "5231 0.000 0.000 0.000 0.000 0.000 0.000 0.000 0.000 0.000 0.000 0.000 0.000   \n",
       "2525 0.000 0.000 0.000 0.000 0.000 0.000 0.000 0.000 0.000 0.000 0.000 0.000   \n",
       "8580 0.000 0.000 0.000 0.000 0.000 0.000 0.000 0.000 0.000 0.000 0.000 0.000   \n",
       "8582 0.000 0.000 0.000 0.000 0.000 0.000 0.000 0.000 0.000 0.000 0.000 0.000   \n",
       "\n",
       "      f6v9    b0    b1    b2    b3    b4    b5    b6  lp0c0  lp0c1  lp1c0  \\\n",
       "3522 0.000 0.000 0.000 0.000 0.000 0.000 0.000 0.000  0.000  0.000  0.000   \n",
       "5231 0.000 0.000 0.000 0.000 0.000 0.000 0.000 0.000  0.000  0.000  0.000   \n",
       "2525 0.000 0.000 0.000 0.000 0.000 0.000 0.000 0.000  0.000  0.000  0.000   \n",
       "8580 0.000 0.000 0.000 0.000 0.000 0.000 0.000 0.000  0.000  0.000  0.000   \n",
       "8582 0.000 0.000 0.000 0.000 0.000 0.000 0.000 0.000  0.000  0.000  0.000   \n",
       "\n",
       "      lp1c1  lp2c0  lp2c1  lp3c0  lp3c1  lp4c0  lp4c1  lp5c0  lp5c1  lp6c0  \\\n",
       "3522  0.000  0.000  0.000  0.000  0.000  0.000  0.000  0.000  0.000  0.000   \n",
       "5231  0.000  0.000  0.000  0.000  0.000  0.000  0.000  0.000  0.000  0.000   \n",
       "2525  0.000  0.000  0.000  0.000  0.000  0.000  0.000  0.000  0.000  0.000   \n",
       "8580  0.000  0.000  0.000  0.000  0.000  0.000  0.000  0.000  0.000  0.000   \n",
       "8582  0.000  0.000  0.000  0.000  0.000  0.000  0.000  0.000  0.000  0.000   \n",
       "\n",
       "      lp6c1  lp7c0  lp7c1   wb_0   wb_1   wb_2   wb_3   wb_4  ...  wb_1437  \\\n",
       "3522  0.000  0.000  0.000  0.008  0.015 -0.006 -0.110 -0.048  ...   -1.196   \n",
       "5231  0.000  0.000  0.000 -0.026 -0.025 -0.004 -0.089  0.188  ...    0.467   \n",
       "2525  0.000  0.000  0.000  0.011  0.009 -0.072 -0.526 -0.121  ...    0.336   \n",
       "8580  0.000  0.000  0.000  0.083  0.011  0.014  0.007  0.069  ...    0.240   \n",
       "8582  0.000  0.000  0.000 -0.724 -0.199 -0.044 -0.285 -0.343  ...    0.270   \n",
       "\n",
       "      wb_1438  wb_1439  wb_1440  wb_1441  wb_1442  wb_1443  wb_1444  wb_1445  \\\n",
       "3522   -0.198    0.634    0.130    0.295   -1.278    1.252    0.244    0.232   \n",
       "5231   -2.141    0.293    0.648    0.220   -0.993    1.398   -0.331    0.312   \n",
       "2525   -0.076    0.713    0.113    0.230   -0.608    0.046   -0.527    0.273   \n",
       "8580   -0.085    0.274    5.062    0.235   -1.606    0.688    0.250    0.273   \n",
       "8582   -0.081    0.315    0.623    0.082   -1.097    1.871   -1.674    0.318   \n",
       "\n",
       "      wb_1446  wb_1447  wb_1448  wb_1449  wb_1450  wb_1451  wb_1452  wb_1453  \\\n",
       "3522    0.242   -0.785   -0.929    0.309    0.364    0.108    0.121    0.094   \n",
       "5231    0.347   -0.776    0.348    1.336    0.560    0.548    0.124    1.112   \n",
       "2525    0.179   -0.440    0.135    0.423    0.240    0.353    1.034    1.259   \n",
       "8580    0.272   -1.230    0.204    2.363    0.364    0.346    1.547    0.364   \n",
       "8582    1.004   -0.355    0.936    0.531    1.172    0.625    0.182    1.727   \n",
       "\n",
       "      wb_1454  wb_1455  wb_1456  wb_1457  wb_1458  wb_1459  wb_1460  wb_1461  \\\n",
       "3522    0.150   -1.099    0.281   -1.431    0.288   -1.423   -0.991   -0.113   \n",
       "5231    0.212   -1.098    0.330   -1.741    0.511   -0.125   -0.709   -0.113   \n",
       "2525    0.291   -1.568    1.385   -0.720    0.955   -0.118   -0.859   -0.113   \n",
       "8580    0.237   -1.764    0.315   -1.766    0.289   -1.906   -1.165   -0.113   \n",
       "8582    0.514   -1.175    0.712   -0.902    1.345   -1.088   -0.554   -0.113   \n",
       "\n",
       "      wb_1462  wb_1463  wb_1464  wb_1465  wb_1466  wb_1467  wb_1468  wb_1469  \\\n",
       "3522    0.107    0.374    0.197   -1.312   -0.642    0.233   -0.978    0.390   \n",
       "5231   -0.555    0.927    0.141   -0.090   -0.412    0.550   -0.593    0.916   \n",
       "2525    0.430    0.339    0.185   -0.659   -0.827    2.708   -0.650    0.122   \n",
       "8580    0.170    1.117    0.164   -0.109   -1.147    0.053   -1.490    0.105   \n",
       "8582   -0.241    0.449    0.624   -0.772   -0.453    1.043   -1.057    0.303   \n",
       "\n",
       "      wb_1470  wb_1471  wb_1472  wb_1473  wb_1474  wb_1475  wb_1476  wb_1477  \\\n",
       "3522   -0.865    0.433    0.313   -0.116    0.269    0.288   -0.044   -0.089   \n",
       "5231   -0.776    0.165    0.368   -0.107    0.703    0.730   -0.324   -2.053   \n",
       "2525   -0.556    0.437    0.162   -0.745    0.240    0.220   -0.257   -0.090   \n",
       "8580   -0.708    0.170    0.143   -0.178    0.174   -1.537   -1.380   -1.722   \n",
       "8582   -0.553    0.948   -0.384   -0.589    0.240    1.413   -0.356   -0.724   \n",
       "\n",
       "      wb_1478  wb_1479  wb_1480  wb_1481  wb_1482  wb_1483  wb_1484  wb_1485  \\\n",
       "3522   -0.423    0.344    0.265   -1.166   -0.870   -0.751   -0.710    1.244   \n",
       "5231   -1.836    0.542    0.340   -0.432   -0.435   -0.420   -0.507   -0.523   \n",
       "2525   -0.319    0.330    0.075   -0.405   -0.494   -0.429   -0.500   -0.567   \n",
       "8580   -2.518    0.870    0.235   -1.377   -2.688   -1.385   -1.155    3.466   \n",
       "8582   -0.444    0.458   -0.945   -0.380    0.209   -0.660   -0.269   -1.569   \n",
       "\n",
       "      wb_1486  wb_1487  wb_1488  wb_1489  wb_1490  wb_1491  wb_1492  wb_1493  \\\n",
       "3522    0.338   -1.398    0.179   -0.079   -0.660    0.357   -0.938   -0.895   \n",
       "5231    0.611   -0.130    0.568   -0.853   -0.820    0.431    0.588   -0.273   \n",
       "2525    0.536   -0.634   -0.211   -0.286   -0.309    1.381    0.230   -0.272   \n",
       "8580    0.311   -1.834   -2.136   -1.832   -0.052    0.319   -0.232   -0.299   \n",
       "8582    1.201   -1.141   -0.350   -0.857   -0.533    0.061   -1.213   -0.849   \n",
       "\n",
       "      wb_1494  wb_1495  wb_1496  wb_1497  wb_1498  wb_1499  wb_1500  wb_1501  \\\n",
       "3522   -1.598    0.282   -0.252   -0.848    0.300   -0.584   -0.888    0.136   \n",
       "5231   -1.066    0.343   -0.345   -0.593    0.208   -0.515   -1.943    0.009   \n",
       "2525   -1.838    0.239   -0.385    0.359    0.138   -0.418   -0.548    0.191   \n",
       "8580   -1.968    0.141    0.329    0.226    0.804   -0.002   -1.266    0.170   \n",
       "8582   -0.250    0.214   -0.250   -0.355    0.460   -0.171   -1.323    0.149   \n",
       "\n",
       "      wb_1502  wb_1503  wb_1504  wb_1505  wb_1506  wb_1507  wb_1508  wb_1509  \\\n",
       "3522    0.306   -0.957   -0.575    0.337    0.245   -0.663   -0.898   -1.496   \n",
       "5231    0.348    1.150   -0.433    0.142    0.070   -0.763   -0.509   -1.269   \n",
       "2525    0.245    0.343   -0.441    0.292    0.195   -0.534   -0.666   -0.818   \n",
       "8580    0.237   -0.905   -0.647    0.224    0.131   -0.141   -2.206   -2.398   \n",
       "8582    1.372   -1.210   -0.514    0.485    0.073   -0.553   -0.547   -0.977   \n",
       "\n",
       "      wb_1510  wb_1511  wb_1512  wb_1513  wb_1514  wb_1515  wb_1516  wb_1517  \\\n",
       "3522   -0.506   -1.489    0.324    0.335    0.347    1.106   -1.164   -1.226   \n",
       "5231   -0.465   -0.844    0.119    0.335    1.733    1.040   -0.151   -0.028   \n",
       "2525   -0.742   -0.100    0.336    1.088    0.083    0.773   -0.697   -0.769   \n",
       "8580   -0.943   -1.952    0.228    0.717    4.052    0.040   -1.805   -2.549   \n",
       "8582   -0.584   -1.500    0.372    0.732    1.205    0.297   -0.921   -1.397   \n",
       "\n",
       "      wb_1518  wb_1519  wb_1520  wb_1521  wb_1522  wb_1523  wb_1524  wb_1525  \\\n",
       "3522    0.067    0.014   -0.993    0.264   -0.802   -1.353   -1.006    0.297   \n",
       "5231    0.067   -0.288    1.085    0.249   -0.217   -2.024   -1.290    0.493   \n",
       "2525    0.067   -0.256   -0.535    0.381   -0.421   -0.143   -0.905    0.222   \n",
       "8580    0.067   -1.239   -0.957    0.570    0.100   -2.385   -2.936    1.039   \n",
       "8582    0.067   -0.531   -0.655    0.464   -0.618   -0.867   -0.580    0.286   \n",
       "\n",
       "      wb_1526  wb_1527  wb_1528  wb_1529  wb_1530  wb_1531  wb_1532  wb_1533  \\\n",
       "3522    0.114    0.120    0.242    0.170    0.023    0.259   -0.987    0.379   \n",
       "5231    0.056    1.543    0.756    1.317   -0.382   -0.433   -0.469    0.630   \n",
       "2525    0.978    0.116    0.287    0.092   -0.238   -0.428   -0.608    0.976   \n",
       "8580    0.048    0.110    0.356    0.337   -0.134   -1.129   -1.082    1.218   \n",
       "8582    0.387    0.527    0.186    0.397   -0.103   -0.457   -0.917    0.507   \n",
       "\n",
       "      wb_1534  wb_1535  wb_1536  \n",
       "3522   -0.795   -0.700    0.013  \n",
       "5231   -0.361    0.317    0.127  \n",
       "2525    0.230    0.245   -0.117  \n",
       "8580   -0.731    0.413    0.320  \n",
       "8582   -1.440   -0.530   -0.026  \n",
       "\n",
       "[5 rows x 1632 columns]"
      ]
     },
     "execution_count": 13,
     "metadata": {},
     "output_type": "execute_result"
    }
   ],
   "source": [
    "lambda_net_dataset_valid.as_pandas(config).head()"
   ]
  },
  {
   "cell_type": "markdown",
   "metadata": {},
   "source": [
    "## Interpretation Network Training"
   ]
  },
  {
   "cell_type": "code",
   "execution_count": 14,
   "metadata": {
    "execution": {
     "iopub.execute_input": "2022-01-14T20:04:50.022640Z",
     "iopub.status.busy": "2022-01-14T20:04:50.022357Z",
     "iopub.status.idle": "2022-01-14T20:04:50.025330Z",
     "shell.execute_reply": "2022-01-14T20:04:50.024696Z",
     "shell.execute_reply.started": "2022-01-14T20:04:50.022617Z"
    }
   },
   "outputs": [],
   "source": [
    "#%load_ext tensorboard\n",
    "#%tensorboard --logdir data/logging/ --port=8811"
   ]
  },
  {
   "cell_type": "code",
   "execution_count": 15,
   "metadata": {
    "execution": {
     "iopub.execute_input": "2022-01-14T20:04:50.026661Z",
     "iopub.status.busy": "2022-01-14T20:04:50.026434Z",
     "iopub.status.idle": "2022-01-14T20:04:50.048814Z",
     "shell.execute_reply": "2022-01-14T20:04:50.047383Z",
     "shell.execute_reply.started": "2022-01-14T20:04:50.026639Z"
    },
    "tags": []
   },
   "outputs": [],
   "source": [
    "#%load_ext autoreload"
   ]
  },
  {
   "cell_type": "code",
   "execution_count": 16,
   "metadata": {
    "execution": {
     "iopub.execute_input": "2022-01-14T20:04:50.051637Z",
     "iopub.status.busy": "2022-01-14T20:04:50.050888Z",
     "iopub.status.idle": "2022-01-14T21:11:58.075749Z",
     "shell.execute_reply": "2022-01-14T21:11:58.074896Z",
     "shell.execute_reply.started": "2022-01-14T20:04:50.051582Z"
    },
    "tags": []
   },
   "outputs": [
    {
     "name": "stdout",
     "output_type": "stream",
     "text": [
      "----------------------------------------------- TRAINING INTERPRETATION NET -----------------------------------------------\n",
      "Epoch 1/500\n",
      "36/36 - 45s - loss: 0.6923 - soft_binary_crossentropy_inet_decision_function_fv_metric: 0.6874 - binary_accuracy_inet_decision_function_fv_metric: 0.5521 - val_loss: 0.6638 - val_soft_binary_crossentropy_inet_decision_function_fv_metric: 0.6756 - val_binary_accuracy_inet_decision_function_fv_metric: 0.6033\n",
      "Epoch 2/500\n",
      "36/36 - 14s - loss: 0.6636 - soft_binary_crossentropy_inet_decision_function_fv_metric: 0.6748 - binary_accuracy_inet_decision_function_fv_metric: 0.6053 - val_loss: 0.6555 - val_soft_binary_crossentropy_inet_decision_function_fv_metric: 0.6699 - val_binary_accuracy_inet_decision_function_fv_metric: 0.6249\n",
      "Epoch 3/500\n",
      "36/36 - 15s - loss: 0.6541 - soft_binary_crossentropy_inet_decision_function_fv_metric: 0.6689 - binary_accuracy_inet_decision_function_fv_metric: 0.6176 - val_loss: 0.6565 - val_soft_binary_crossentropy_inet_decision_function_fv_metric: 0.6716 - val_binary_accuracy_inet_decision_function_fv_metric: 0.6280\n",
      "Epoch 4/500\n",
      "36/36 - 16s - loss: 0.6513 - soft_binary_crossentropy_inet_decision_function_fv_metric: 0.6668 - binary_accuracy_inet_decision_function_fv_metric: 0.6207 - val_loss: 0.6534 - val_soft_binary_crossentropy_inet_decision_function_fv_metric: 0.6698 - val_binary_accuracy_inet_decision_function_fv_metric: 0.6286\n",
      "Epoch 5/500\n",
      "36/36 - 16s - loss: 0.6496 - soft_binary_crossentropy_inet_decision_function_fv_metric: 0.6661 - binary_accuracy_inet_decision_function_fv_metric: 0.6209 - val_loss: 0.6505 - val_soft_binary_crossentropy_inet_decision_function_fv_metric: 0.6684 - val_binary_accuracy_inet_decision_function_fv_metric: 0.6294\n",
      "Epoch 6/500\n",
      "36/36 - 18s - loss: 0.6459 - soft_binary_crossentropy_inet_decision_function_fv_metric: 0.6633 - binary_accuracy_inet_decision_function_fv_metric: 0.6263 - val_loss: 0.6454 - val_soft_binary_crossentropy_inet_decision_function_fv_metric: 0.6653 - val_binary_accuracy_inet_decision_function_fv_metric: 0.6363\n",
      "Epoch 7/500\n",
      "36/36 - 15s - loss: 0.6397 - soft_binary_crossentropy_inet_decision_function_fv_metric: 0.6603 - binary_accuracy_inet_decision_function_fv_metric: 0.6309 - val_loss: 0.6365 - val_soft_binary_crossentropy_inet_decision_function_fv_metric: 0.6601 - val_binary_accuracy_inet_decision_function_fv_metric: 0.6469\n",
      "Epoch 8/500\n",
      "36/36 - 16s - loss: 0.6362 - soft_binary_crossentropy_inet_decision_function_fv_metric: 0.6585 - binary_accuracy_inet_decision_function_fv_metric: 0.6346 - val_loss: 0.6328 - val_soft_binary_crossentropy_inet_decision_function_fv_metric: 0.6565 - val_binary_accuracy_inet_decision_function_fv_metric: 0.6468\n",
      "Epoch 9/500\n",
      "36/36 - 16s - loss: 0.6296 - soft_binary_crossentropy_inet_decision_function_fv_metric: 0.6542 - binary_accuracy_inet_decision_function_fv_metric: 0.6416 - val_loss: 0.6225 - val_soft_binary_crossentropy_inet_decision_function_fv_metric: 0.6517 - val_binary_accuracy_inet_decision_function_fv_metric: 0.6545\n",
      "Epoch 10/500\n",
      "36/36 - 16s - loss: 0.6219 - soft_binary_crossentropy_inet_decision_function_fv_metric: 0.6504 - binary_accuracy_inet_decision_function_fv_metric: 0.6465 - val_loss: 0.6137 - val_soft_binary_crossentropy_inet_decision_function_fv_metric: 0.6472 - val_binary_accuracy_inet_decision_function_fv_metric: 0.6617\n",
      "Epoch 11/500\n",
      "36/36 - 17s - loss: 0.6143 - soft_binary_crossentropy_inet_decision_function_fv_metric: 0.6452 - binary_accuracy_inet_decision_function_fv_metric: 0.6560 - val_loss: 0.6093 - val_soft_binary_crossentropy_inet_decision_function_fv_metric: 0.6439 - val_binary_accuracy_inet_decision_function_fv_metric: 0.6696\n",
      "Epoch 12/500\n",
      "36/36 - 16s - loss: 0.6084 - soft_binary_crossentropy_inet_decision_function_fv_metric: 0.6412 - binary_accuracy_inet_decision_function_fv_metric: 0.6629 - val_loss: 0.6008 - val_soft_binary_crossentropy_inet_decision_function_fv_metric: 0.6401 - val_binary_accuracy_inet_decision_function_fv_metric: 0.6759\n",
      "Epoch 13/500\n",
      "36/36 - 16s - loss: 0.6040 - soft_binary_crossentropy_inet_decision_function_fv_metric: 0.6397 - binary_accuracy_inet_decision_function_fv_metric: 0.6661 - val_loss: 0.5936 - val_soft_binary_crossentropy_inet_decision_function_fv_metric: 0.6370 - val_binary_accuracy_inet_decision_function_fv_metric: 0.6788\n",
      "Epoch 14/500\n",
      "36/36 - 16s - loss: 0.5975 - soft_binary_crossentropy_inet_decision_function_fv_metric: 0.6358 - binary_accuracy_inet_decision_function_fv_metric: 0.6706 - val_loss: 0.5936 - val_soft_binary_crossentropy_inet_decision_function_fv_metric: 0.6362 - val_binary_accuracy_inet_decision_function_fv_metric: 0.6773\n",
      "Epoch 15/500\n",
      "36/36 - 17s - loss: 0.5963 - soft_binary_crossentropy_inet_decision_function_fv_metric: 0.6352 - binary_accuracy_inet_decision_function_fv_metric: 0.6721 - val_loss: 0.5880 - val_soft_binary_crossentropy_inet_decision_function_fv_metric: 0.6308 - val_binary_accuracy_inet_decision_function_fv_metric: 0.6852\n",
      "Epoch 16/500\n",
      "36/36 - 15s - loss: 0.5935 - soft_binary_crossentropy_inet_decision_function_fv_metric: 0.6336 - binary_accuracy_inet_decision_function_fv_metric: 0.6749 - val_loss: 0.5868 - val_soft_binary_crossentropy_inet_decision_function_fv_metric: 0.6328 - val_binary_accuracy_inet_decision_function_fv_metric: 0.6862\n",
      "Epoch 17/500\n",
      "36/36 - 17s - loss: 0.5865 - soft_binary_crossentropy_inet_decision_function_fv_metric: 0.6296 - binary_accuracy_inet_decision_function_fv_metric: 0.6808 - val_loss: 0.5851 - val_soft_binary_crossentropy_inet_decision_function_fv_metric: 0.6320 - val_binary_accuracy_inet_decision_function_fv_metric: 0.6913\n",
      "Epoch 18/500\n",
      "36/36 - 17s - loss: 0.5792 - soft_binary_crossentropy_inet_decision_function_fv_metric: 0.6256 - binary_accuracy_inet_decision_function_fv_metric: 0.6863 - val_loss: 0.5740 - val_soft_binary_crossentropy_inet_decision_function_fv_metric: 0.6244 - val_binary_accuracy_inet_decision_function_fv_metric: 0.6957\n",
      "Epoch 19/500\n",
      "36/36 - 16s - loss: 0.5742 - soft_binary_crossentropy_inet_decision_function_fv_metric: 0.6228 - binary_accuracy_inet_decision_function_fv_metric: 0.6916 - val_loss: 0.5731 - val_soft_binary_crossentropy_inet_decision_function_fv_metric: 0.6244 - val_binary_accuracy_inet_decision_function_fv_metric: 0.7000\n",
      "Epoch 20/500\n",
      "36/36 - 17s - loss: 0.5702 - soft_binary_crossentropy_inet_decision_function_fv_metric: 0.6201 - binary_accuracy_inet_decision_function_fv_metric: 0.6949 - val_loss: 0.5652 - val_soft_binary_crossentropy_inet_decision_function_fv_metric: 0.6206 - val_binary_accuracy_inet_decision_function_fv_metric: 0.7051\n",
      "Epoch 21/500\n",
      "36/36 - 16s - loss: 0.5686 - soft_binary_crossentropy_inet_decision_function_fv_metric: 0.6197 - binary_accuracy_inet_decision_function_fv_metric: 0.6954 - val_loss: 0.5599 - val_soft_binary_crossentropy_inet_decision_function_fv_metric: 0.6162 - val_binary_accuracy_inet_decision_function_fv_metric: 0.7115\n",
      "Epoch 22/500\n",
      "36/36 - 16s - loss: 0.5625 - soft_binary_crossentropy_inet_decision_function_fv_metric: 0.6164 - binary_accuracy_inet_decision_function_fv_metric: 0.7006 - val_loss: 0.5504 - val_soft_binary_crossentropy_inet_decision_function_fv_metric: 0.6107 - val_binary_accuracy_inet_decision_function_fv_metric: 0.7136\n",
      "Epoch 23/500\n",
      "36/36 - 16s - loss: 0.5571 - soft_binary_crossentropy_inet_decision_function_fv_metric: 0.6137 - binary_accuracy_inet_decision_function_fv_metric: 0.7046 - val_loss: 0.5564 - val_soft_binary_crossentropy_inet_decision_function_fv_metric: 0.6140 - val_binary_accuracy_inet_decision_function_fv_metric: 0.7121\n",
      "Epoch 24/500\n",
      "36/36 - 17s - loss: 0.5575 - soft_binary_crossentropy_inet_decision_function_fv_metric: 0.6137 - binary_accuracy_inet_decision_function_fv_metric: 0.7047 - val_loss: 0.5579 - val_soft_binary_crossentropy_inet_decision_function_fv_metric: 0.6163 - val_binary_accuracy_inet_decision_function_fv_metric: 0.7073\n",
      "Epoch 25/500\n",
      "36/36 - 16s - loss: 0.5566 - soft_binary_crossentropy_inet_decision_function_fv_metric: 0.6138 - binary_accuracy_inet_decision_function_fv_metric: 0.7038 - val_loss: 0.5497 - val_soft_binary_crossentropy_inet_decision_function_fv_metric: 0.6111 - val_binary_accuracy_inet_decision_function_fv_metric: 0.7147\n",
      "Epoch 26/500\n",
      "36/36 - 16s - loss: 0.5533 - soft_binary_crossentropy_inet_decision_function_fv_metric: 0.6116 - binary_accuracy_inet_decision_function_fv_metric: 0.7062 - val_loss: 0.5535 - val_soft_binary_crossentropy_inet_decision_function_fv_metric: 0.6145 - val_binary_accuracy_inet_decision_function_fv_metric: 0.7127\n",
      "Epoch 27/500\n",
      "36/36 - 17s - loss: 0.5520 - soft_binary_crossentropy_inet_decision_function_fv_metric: 0.6114 - binary_accuracy_inet_decision_function_fv_metric: 0.7076 - val_loss: 0.5464 - val_soft_binary_crossentropy_inet_decision_function_fv_metric: 0.6086 - val_binary_accuracy_inet_decision_function_fv_metric: 0.7166\n",
      "Epoch 28/500\n",
      "36/36 - 15s - loss: 0.5502 - soft_binary_crossentropy_inet_decision_function_fv_metric: 0.6105 - binary_accuracy_inet_decision_function_fv_metric: 0.7078 - val_loss: 0.5472 - val_soft_binary_crossentropy_inet_decision_function_fv_metric: 0.6091 - val_binary_accuracy_inet_decision_function_fv_metric: 0.7181\n",
      "Epoch 29/500\n",
      "36/36 - 17s - loss: 0.5469 - soft_binary_crossentropy_inet_decision_function_fv_metric: 0.6084 - binary_accuracy_inet_decision_function_fv_metric: 0.7109 - val_loss: 0.5502 - val_soft_binary_crossentropy_inet_decision_function_fv_metric: 0.6116 - val_binary_accuracy_inet_decision_function_fv_metric: 0.7115\n",
      "Epoch 30/500\n",
      "36/36 - 18s - loss: 0.5485 - soft_binary_crossentropy_inet_decision_function_fv_metric: 0.6100 - binary_accuracy_inet_decision_function_fv_metric: 0.7090 - val_loss: 0.5479 - val_soft_binary_crossentropy_inet_decision_function_fv_metric: 0.6106 - val_binary_accuracy_inet_decision_function_fv_metric: 0.7147\n",
      "Epoch 31/500\n",
      "36/36 - 18s - loss: 0.5492 - soft_binary_crossentropy_inet_decision_function_fv_metric: 0.6105 - binary_accuracy_inet_decision_function_fv_metric: 0.7092 - val_loss: 0.5489 - val_soft_binary_crossentropy_inet_decision_function_fv_metric: 0.6105 - val_binary_accuracy_inet_decision_function_fv_metric: 0.7141\n",
      "Epoch 32/500\n",
      "36/36 - 18s - loss: 0.5462 - soft_binary_crossentropy_inet_decision_function_fv_metric: 0.6084 - binary_accuracy_inet_decision_function_fv_metric: 0.7126 - val_loss: 0.5543 - val_soft_binary_crossentropy_inet_decision_function_fv_metric: 0.6137 - val_binary_accuracy_inet_decision_function_fv_metric: 0.7123\n",
      "Epoch 33/500\n",
      "36/36 - 18s - loss: 0.5492 - soft_binary_crossentropy_inet_decision_function_fv_metric: 0.6096 - binary_accuracy_inet_decision_function_fv_metric: 0.7105 - val_loss: 0.5465 - val_soft_binary_crossentropy_inet_decision_function_fv_metric: 0.6104 - val_binary_accuracy_inet_decision_function_fv_metric: 0.7189\n",
      "Epoch 34/500\n",
      "36/36 - 16s - loss: 0.5434 - soft_binary_crossentropy_inet_decision_function_fv_metric: 0.6070 - binary_accuracy_inet_decision_function_fv_metric: 0.7146 - val_loss: 0.5448 - val_soft_binary_crossentropy_inet_decision_function_fv_metric: 0.6101 - val_binary_accuracy_inet_decision_function_fv_metric: 0.7179\n",
      "Epoch 35/500\n",
      "36/36 - 17s - loss: 0.5401 - soft_binary_crossentropy_inet_decision_function_fv_metric: 0.6044 - binary_accuracy_inet_decision_function_fv_metric: 0.7176 - val_loss: 0.5404 - val_soft_binary_crossentropy_inet_decision_function_fv_metric: 0.6066 - val_binary_accuracy_inet_decision_function_fv_metric: 0.7211\n",
      "Epoch 36/500\n",
      "36/36 - 16s - loss: 0.5408 - soft_binary_crossentropy_inet_decision_function_fv_metric: 0.6053 - binary_accuracy_inet_decision_function_fv_metric: 0.7162 - val_loss: 0.5452 - val_soft_binary_crossentropy_inet_decision_function_fv_metric: 0.6081 - val_binary_accuracy_inet_decision_function_fv_metric: 0.7181\n",
      "Epoch 37/500\n",
      "36/36 - 17s - loss: 0.5416 - soft_binary_crossentropy_inet_decision_function_fv_metric: 0.6067 - binary_accuracy_inet_decision_function_fv_metric: 0.7131 - val_loss: 0.5499 - val_soft_binary_crossentropy_inet_decision_function_fv_metric: 0.6120 - val_binary_accuracy_inet_decision_function_fv_metric: 0.7129\n",
      "Epoch 38/500\n",
      "36/36 - 17s - loss: 0.5383 - soft_binary_crossentropy_inet_decision_function_fv_metric: 0.6044 - binary_accuracy_inet_decision_function_fv_metric: 0.7169 - val_loss: 0.5405 - val_soft_binary_crossentropy_inet_decision_function_fv_metric: 0.6069 - val_binary_accuracy_inet_decision_function_fv_metric: 0.7196\n",
      "Epoch 39/500\n",
      "36/36 - 18s - loss: 0.5354 - soft_binary_crossentropy_inet_decision_function_fv_metric: 0.6026 - binary_accuracy_inet_decision_function_fv_metric: 0.7194 - val_loss: 0.5413 - val_soft_binary_crossentropy_inet_decision_function_fv_metric: 0.6082 - val_binary_accuracy_inet_decision_function_fv_metric: 0.7204\n",
      "Epoch 40/500\n",
      "36/36 - 18s - loss: 0.5329 - soft_binary_crossentropy_inet_decision_function_fv_metric: 0.6015 - binary_accuracy_inet_decision_function_fv_metric: 0.7211 - val_loss: 0.5355 - val_soft_binary_crossentropy_inet_decision_function_fv_metric: 0.6049 - val_binary_accuracy_inet_decision_function_fv_metric: 0.7224\n",
      "Epoch 41/500\n",
      "36/36 - 17s - loss: 0.5316 - soft_binary_crossentropy_inet_decision_function_fv_metric: 0.6009 - binary_accuracy_inet_decision_function_fv_metric: 0.7219 - val_loss: 0.5324 - val_soft_binary_crossentropy_inet_decision_function_fv_metric: 0.6018 - val_binary_accuracy_inet_decision_function_fv_metric: 0.7267\n",
      "Epoch 42/500\n",
      "36/36 - 17s - loss: 0.5279 - soft_binary_crossentropy_inet_decision_function_fv_metric: 0.5985 - binary_accuracy_inet_decision_function_fv_metric: 0.7255 - val_loss: 0.5336 - val_soft_binary_crossentropy_inet_decision_function_fv_metric: 0.6029 - val_binary_accuracy_inet_decision_function_fv_metric: 0.7234\n",
      "Epoch 43/500\n",
      "36/36 - 18s - loss: 0.5267 - soft_binary_crossentropy_inet_decision_function_fv_metric: 0.5995 - binary_accuracy_inet_decision_function_fv_metric: 0.7237 - val_loss: 0.5355 - val_soft_binary_crossentropy_inet_decision_function_fv_metric: 0.6031 - val_binary_accuracy_inet_decision_function_fv_metric: 0.7229\n",
      "Epoch 44/500\n",
      "36/36 - 17s - loss: 0.5350 - soft_binary_crossentropy_inet_decision_function_fv_metric: 0.6030 - binary_accuracy_inet_decision_function_fv_metric: 0.7181 - val_loss: 0.5412 - val_soft_binary_crossentropy_inet_decision_function_fv_metric: 0.6079 - val_binary_accuracy_inet_decision_function_fv_metric: 0.7201\n",
      "Epoch 45/500\n",
      "36/36 - 16s - loss: 0.5293 - soft_binary_crossentropy_inet_decision_function_fv_metric: 0.6002 - binary_accuracy_inet_decision_function_fv_metric: 0.7226 - val_loss: 0.5400 - val_soft_binary_crossentropy_inet_decision_function_fv_metric: 0.6069 - val_binary_accuracy_inet_decision_function_fv_metric: 0.7199\n",
      "Epoch 46/500\n",
      "36/36 - 16s - loss: 0.5333 - soft_binary_crossentropy_inet_decision_function_fv_metric: 0.6013 - binary_accuracy_inet_decision_function_fv_metric: 0.7206 - val_loss: 0.5348 - val_soft_binary_crossentropy_inet_decision_function_fv_metric: 0.6048 - val_binary_accuracy_inet_decision_function_fv_metric: 0.7234\n",
      "Epoch 47/500\n",
      "36/36 - 17s - loss: 0.5310 - soft_binary_crossentropy_inet_decision_function_fv_metric: 0.6006 - binary_accuracy_inet_decision_function_fv_metric: 0.7225 - val_loss: 0.5379 - val_soft_binary_crossentropy_inet_decision_function_fv_metric: 0.6063 - val_binary_accuracy_inet_decision_function_fv_metric: 0.7211\n",
      "Epoch 48/500\n",
      "36/36 - 18s - loss: 0.5295 - soft_binary_crossentropy_inet_decision_function_fv_metric: 0.5999 - binary_accuracy_inet_decision_function_fv_metric: 0.7234 - val_loss: 0.5361 - val_soft_binary_crossentropy_inet_decision_function_fv_metric: 0.6060 - val_binary_accuracy_inet_decision_function_fv_metric: 0.7237\n",
      "Epoch 49/500\n",
      "36/36 - 17s - loss: 0.5310 - soft_binary_crossentropy_inet_decision_function_fv_metric: 0.6004 - binary_accuracy_inet_decision_function_fv_metric: 0.7211 - val_loss: 0.5419 - val_soft_binary_crossentropy_inet_decision_function_fv_metric: 0.6077 - val_binary_accuracy_inet_decision_function_fv_metric: 0.7170\n",
      "Epoch 50/500\n",
      "36/36 - 17s - loss: 0.5314 - soft_binary_crossentropy_inet_decision_function_fv_metric: 0.6016 - binary_accuracy_inet_decision_function_fv_metric: 0.7200 - val_loss: 0.5324 - val_soft_binary_crossentropy_inet_decision_function_fv_metric: 0.6024 - val_binary_accuracy_inet_decision_function_fv_metric: 0.7261\n",
      "Epoch 51/500\n",
      "36/36 - 18s - loss: 0.5260 - soft_binary_crossentropy_inet_decision_function_fv_metric: 0.5989 - binary_accuracy_inet_decision_function_fv_metric: 0.7236 - val_loss: 0.5392 - val_soft_binary_crossentropy_inet_decision_function_fv_metric: 0.6071 - val_binary_accuracy_inet_decision_function_fv_metric: 0.7201\n",
      "Epoch 52/500\n",
      "36/36 - 17s - loss: 0.5354 - soft_binary_crossentropy_inet_decision_function_fv_metric: 0.6028 - binary_accuracy_inet_decision_function_fv_metric: 0.7179 - val_loss: 0.5351 - val_soft_binary_crossentropy_inet_decision_function_fv_metric: 0.6046 - val_binary_accuracy_inet_decision_function_fv_metric: 0.7228\n",
      "Epoch 53/500\n",
      "36/36 - 17s - loss: 0.5317 - soft_binary_crossentropy_inet_decision_function_fv_metric: 0.6016 - binary_accuracy_inet_decision_function_fv_metric: 0.7210 - val_loss: 0.5358 - val_soft_binary_crossentropy_inet_decision_function_fv_metric: 0.6042 - val_binary_accuracy_inet_decision_function_fv_metric: 0.7213\n",
      "Epoch 54/500\n",
      "36/36 - 18s - loss: 0.5315 - soft_binary_crossentropy_inet_decision_function_fv_metric: 0.6012 - binary_accuracy_inet_decision_function_fv_metric: 0.7206 - val_loss: 0.5369 - val_soft_binary_crossentropy_inet_decision_function_fv_metric: 0.6066 - val_binary_accuracy_inet_decision_function_fv_metric: 0.7209\n",
      "Epoch 55/500\n",
      "36/36 - 18s - loss: 0.5308 - soft_binary_crossentropy_inet_decision_function_fv_metric: 0.6010 - binary_accuracy_inet_decision_function_fv_metric: 0.7212 - val_loss: 0.5400 - val_soft_binary_crossentropy_inet_decision_function_fv_metric: 0.6083 - val_binary_accuracy_inet_decision_function_fv_metric: 0.7176\n",
      "Epoch 56/500\n",
      "36/36 - 17s - loss: 0.5303 - soft_binary_crossentropy_inet_decision_function_fv_metric: 0.6016 - binary_accuracy_inet_decision_function_fv_metric: 0.7196 - val_loss: 0.5322 - val_soft_binary_crossentropy_inet_decision_function_fv_metric: 0.6034 - val_binary_accuracy_inet_decision_function_fv_metric: 0.7234\n",
      "Epoch 57/500\n",
      "36/36 - 17s - loss: 0.5286 - soft_binary_crossentropy_inet_decision_function_fv_metric: 0.6005 - binary_accuracy_inet_decision_function_fv_metric: 0.7211 - val_loss: 0.5380 - val_soft_binary_crossentropy_inet_decision_function_fv_metric: 0.6058 - val_binary_accuracy_inet_decision_function_fv_metric: 0.7186\n",
      "Epoch 58/500\n",
      "36/36 - 16s - loss: 0.5289 - soft_binary_crossentropy_inet_decision_function_fv_metric: 0.6005 - binary_accuracy_inet_decision_function_fv_metric: 0.7202 - val_loss: 0.5323 - val_soft_binary_crossentropy_inet_decision_function_fv_metric: 0.6038 - val_binary_accuracy_inet_decision_function_fv_metric: 0.7231\n",
      "Epoch 59/500\n",
      "36/36 - 16s - loss: 0.5256 - soft_binary_crossentropy_inet_decision_function_fv_metric: 0.5988 - binary_accuracy_inet_decision_function_fv_metric: 0.7240 - val_loss: 0.5289 - val_soft_binary_crossentropy_inet_decision_function_fv_metric: 0.6014 - val_binary_accuracy_inet_decision_function_fv_metric: 0.7253\n",
      "Epoch 60/500\n",
      "36/36 - 17s - loss: 0.5218 - soft_binary_crossentropy_inet_decision_function_fv_metric: 0.5964 - binary_accuracy_inet_decision_function_fv_metric: 0.7277 - val_loss: 0.5294 - val_soft_binary_crossentropy_inet_decision_function_fv_metric: 0.6009 - val_binary_accuracy_inet_decision_function_fv_metric: 0.7254\n",
      "Epoch 61/500\n",
      "36/36 - 16s - loss: 0.5230 - soft_binary_crossentropy_inet_decision_function_fv_metric: 0.5972 - binary_accuracy_inet_decision_function_fv_metric: 0.7263 - val_loss: 0.5338 - val_soft_binary_crossentropy_inet_decision_function_fv_metric: 0.6048 - val_binary_accuracy_inet_decision_function_fv_metric: 0.7256\n",
      "Epoch 62/500\n",
      "36/36 - 17s - loss: 0.5230 - soft_binary_crossentropy_inet_decision_function_fv_metric: 0.5969 - binary_accuracy_inet_decision_function_fv_metric: 0.7273 - val_loss: 0.5334 - val_soft_binary_crossentropy_inet_decision_function_fv_metric: 0.6047 - val_binary_accuracy_inet_decision_function_fv_metric: 0.7241\n",
      "Epoch 63/500\n",
      "36/36 - 16s - loss: 0.5225 - soft_binary_crossentropy_inet_decision_function_fv_metric: 0.5969 - binary_accuracy_inet_decision_function_fv_metric: 0.7285 - val_loss: 0.5293 - val_soft_binary_crossentropy_inet_decision_function_fv_metric: 0.6014 - val_binary_accuracy_inet_decision_function_fv_metric: 0.7259\n",
      "Epoch 64/500\n",
      "36/36 - 16s - loss: 0.5251 - soft_binary_crossentropy_inet_decision_function_fv_metric: 0.5975 - binary_accuracy_inet_decision_function_fv_metric: 0.7258 - val_loss: 0.5335 - val_soft_binary_crossentropy_inet_decision_function_fv_metric: 0.6045 - val_binary_accuracy_inet_decision_function_fv_metric: 0.7243\n",
      "Epoch 65/500\n",
      "36/36 - 17s - loss: 0.5245 - soft_binary_crossentropy_inet_decision_function_fv_metric: 0.5970 - binary_accuracy_inet_decision_function_fv_metric: 0.7290 - val_loss: 0.5360 - val_soft_binary_crossentropy_inet_decision_function_fv_metric: 0.6058 - val_binary_accuracy_inet_decision_function_fv_metric: 0.7229\n",
      "Epoch 66/500\n",
      "36/36 - 17s - loss: 0.5229 - soft_binary_crossentropy_inet_decision_function_fv_metric: 0.5963 - binary_accuracy_inet_decision_function_fv_metric: 0.7310 - val_loss: 0.5246 - val_soft_binary_crossentropy_inet_decision_function_fv_metric: 0.5985 - val_binary_accuracy_inet_decision_function_fv_metric: 0.7295\n",
      "Epoch 67/500\n",
      "36/36 - 17s - loss: 0.5183 - soft_binary_crossentropy_inet_decision_function_fv_metric: 0.5937 - binary_accuracy_inet_decision_function_fv_metric: 0.7342 - val_loss: 0.5280 - val_soft_binary_crossentropy_inet_decision_function_fv_metric: 0.5999 - val_binary_accuracy_inet_decision_function_fv_metric: 0.7284\n",
      "Epoch 68/500\n",
      "36/36 - 17s - loss: 0.5196 - soft_binary_crossentropy_inet_decision_function_fv_metric: 0.5945 - binary_accuracy_inet_decision_function_fv_metric: 0.7331 - val_loss: 0.5269 - val_soft_binary_crossentropy_inet_decision_function_fv_metric: 0.6001 - val_binary_accuracy_inet_decision_function_fv_metric: 0.7286\n",
      "Epoch 69/500\n",
      "36/36 - 16s - loss: 0.5213 - soft_binary_crossentropy_inet_decision_function_fv_metric: 0.5950 - binary_accuracy_inet_decision_function_fv_metric: 0.7314 - val_loss: 0.5263 - val_soft_binary_crossentropy_inet_decision_function_fv_metric: 0.6001 - val_binary_accuracy_inet_decision_function_fv_metric: 0.7288\n",
      "Epoch 70/500\n",
      "36/36 - 18s - loss: 0.5182 - soft_binary_crossentropy_inet_decision_function_fv_metric: 0.5935 - binary_accuracy_inet_decision_function_fv_metric: 0.7343 - val_loss: 0.5272 - val_soft_binary_crossentropy_inet_decision_function_fv_metric: 0.6007 - val_binary_accuracy_inet_decision_function_fv_metric: 0.7316\n",
      "Epoch 71/500\n",
      "36/36 - 17s - loss: 0.5172 - soft_binary_crossentropy_inet_decision_function_fv_metric: 0.5929 - binary_accuracy_inet_decision_function_fv_metric: 0.7370 - val_loss: 0.5215 - val_soft_binary_crossentropy_inet_decision_function_fv_metric: 0.5971 - val_binary_accuracy_inet_decision_function_fv_metric: 0.7376\n",
      "Epoch 72/500\n",
      "36/36 - 18s - loss: 0.5178 - soft_binary_crossentropy_inet_decision_function_fv_metric: 0.5929 - binary_accuracy_inet_decision_function_fv_metric: 0.7366 - val_loss: 0.5230 - val_soft_binary_crossentropy_inet_decision_function_fv_metric: 0.5972 - val_binary_accuracy_inet_decision_function_fv_metric: 0.7326\n",
      "Epoch 73/500\n",
      "36/36 - 19s - loss: 0.5170 - soft_binary_crossentropy_inet_decision_function_fv_metric: 0.5919 - binary_accuracy_inet_decision_function_fv_metric: 0.7370 - val_loss: 0.5238 - val_soft_binary_crossentropy_inet_decision_function_fv_metric: 0.5983 - val_binary_accuracy_inet_decision_function_fv_metric: 0.7329\n",
      "Epoch 74/500\n",
      "36/36 - 16s - loss: 0.5155 - soft_binary_crossentropy_inet_decision_function_fv_metric: 0.5921 - binary_accuracy_inet_decision_function_fv_metric: 0.7376 - val_loss: 0.5171 - val_soft_binary_crossentropy_inet_decision_function_fv_metric: 0.5947 - val_binary_accuracy_inet_decision_function_fv_metric: 0.7382\n",
      "Epoch 75/500\n",
      "36/36 - 15s - loss: 0.5171 - soft_binary_crossentropy_inet_decision_function_fv_metric: 0.5935 - binary_accuracy_inet_decision_function_fv_metric: 0.7354 - val_loss: 0.5223 - val_soft_binary_crossentropy_inet_decision_function_fv_metric: 0.5985 - val_binary_accuracy_inet_decision_function_fv_metric: 0.7363\n",
      "Epoch 76/500\n",
      "36/36 - 15s - loss: 0.5153 - soft_binary_crossentropy_inet_decision_function_fv_metric: 0.5916 - binary_accuracy_inet_decision_function_fv_metric: 0.7388 - val_loss: 0.5215 - val_soft_binary_crossentropy_inet_decision_function_fv_metric: 0.5970 - val_binary_accuracy_inet_decision_function_fv_metric: 0.7342\n",
      "Epoch 77/500\n",
      "36/36 - 16s - loss: 0.5156 - soft_binary_crossentropy_inet_decision_function_fv_metric: 0.5921 - binary_accuracy_inet_decision_function_fv_metric: 0.7377 - val_loss: 0.5181 - val_soft_binary_crossentropy_inet_decision_function_fv_metric: 0.5952 - val_binary_accuracy_inet_decision_function_fv_metric: 0.7346\n",
      "Epoch 78/500\n",
      "36/36 - 15s - loss: 0.5132 - soft_binary_crossentropy_inet_decision_function_fv_metric: 0.5906 - binary_accuracy_inet_decision_function_fv_metric: 0.7400 - val_loss: 0.5210 - val_soft_binary_crossentropy_inet_decision_function_fv_metric: 0.5980 - val_binary_accuracy_inet_decision_function_fv_metric: 0.7349\n",
      "Epoch 79/500\n",
      "36/36 - 18s - loss: 0.5146 - soft_binary_crossentropy_inet_decision_function_fv_metric: 0.5919 - binary_accuracy_inet_decision_function_fv_metric: 0.7368 - val_loss: 0.5201 - val_soft_binary_crossentropy_inet_decision_function_fv_metric: 0.5958 - val_binary_accuracy_inet_decision_function_fv_metric: 0.7335\n",
      "Epoch 80/500\n",
      "36/36 - 18s - loss: 0.5085 - soft_binary_crossentropy_inet_decision_function_fv_metric: 0.5887 - binary_accuracy_inet_decision_function_fv_metric: 0.7409 - val_loss: 0.5153 - val_soft_binary_crossentropy_inet_decision_function_fv_metric: 0.5924 - val_binary_accuracy_inet_decision_function_fv_metric: 0.7387\n",
      "Epoch 81/500\n",
      "36/36 - 16s - loss: 0.5081 - soft_binary_crossentropy_inet_decision_function_fv_metric: 0.5884 - binary_accuracy_inet_decision_function_fv_metric: 0.7412 - val_loss: 0.5171 - val_soft_binary_crossentropy_inet_decision_function_fv_metric: 0.5959 - val_binary_accuracy_inet_decision_function_fv_metric: 0.7360\n",
      "Epoch 82/500\n",
      "36/36 - 17s - loss: 0.5106 - soft_binary_crossentropy_inet_decision_function_fv_metric: 0.5895 - binary_accuracy_inet_decision_function_fv_metric: 0.7404 - val_loss: 0.5111 - val_soft_binary_crossentropy_inet_decision_function_fv_metric: 0.5931 - val_binary_accuracy_inet_decision_function_fv_metric: 0.7461\n",
      "Epoch 83/500\n",
      "36/36 - 17s - loss: 0.5034 - soft_binary_crossentropy_inet_decision_function_fv_metric: 0.5854 - binary_accuracy_inet_decision_function_fv_metric: 0.7470 - val_loss: 0.5113 - val_soft_binary_crossentropy_inet_decision_function_fv_metric: 0.5928 - val_binary_accuracy_inet_decision_function_fv_metric: 0.7462\n",
      "Epoch 84/500\n",
      "36/36 - 17s - loss: 0.5045 - soft_binary_crossentropy_inet_decision_function_fv_metric: 0.5864 - binary_accuracy_inet_decision_function_fv_metric: 0.7444 - val_loss: 0.5088 - val_soft_binary_crossentropy_inet_decision_function_fv_metric: 0.5900 - val_binary_accuracy_inet_decision_function_fv_metric: 0.7455\n",
      "Epoch 85/500\n",
      "36/36 - 16s - loss: 0.4988 - soft_binary_crossentropy_inet_decision_function_fv_metric: 0.5827 - binary_accuracy_inet_decision_function_fv_metric: 0.7510 - val_loss: 0.5028 - val_soft_binary_crossentropy_inet_decision_function_fv_metric: 0.5882 - val_binary_accuracy_inet_decision_function_fv_metric: 0.7501\n",
      "Epoch 86/500\n",
      "36/36 - 16s - loss: 0.4999 - soft_binary_crossentropy_inet_decision_function_fv_metric: 0.5838 - binary_accuracy_inet_decision_function_fv_metric: 0.7488 - val_loss: 0.5042 - val_soft_binary_crossentropy_inet_decision_function_fv_metric: 0.5873 - val_binary_accuracy_inet_decision_function_fv_metric: 0.7502\n",
      "Epoch 87/500\n",
      "36/36 - 15s - loss: 0.4992 - soft_binary_crossentropy_inet_decision_function_fv_metric: 0.5834 - binary_accuracy_inet_decision_function_fv_metric: 0.7505 - val_loss: 0.5038 - val_soft_binary_crossentropy_inet_decision_function_fv_metric: 0.5870 - val_binary_accuracy_inet_decision_function_fv_metric: 0.7525\n",
      "Epoch 88/500\n",
      "36/36 - 15s - loss: 0.5006 - soft_binary_crossentropy_inet_decision_function_fv_metric: 0.5839 - binary_accuracy_inet_decision_function_fv_metric: 0.7491 - val_loss: 0.5014 - val_soft_binary_crossentropy_inet_decision_function_fv_metric: 0.5863 - val_binary_accuracy_inet_decision_function_fv_metric: 0.7517\n",
      "Epoch 89/500\n",
      "36/36 - 17s - loss: 0.4976 - soft_binary_crossentropy_inet_decision_function_fv_metric: 0.5822 - binary_accuracy_inet_decision_function_fv_metric: 0.7508 - val_loss: 0.5038 - val_soft_binary_crossentropy_inet_decision_function_fv_metric: 0.5871 - val_binary_accuracy_inet_decision_function_fv_metric: 0.7486\n",
      "Epoch 90/500\n",
      "36/36 - 16s - loss: 0.4917 - soft_binary_crossentropy_inet_decision_function_fv_metric: 0.5794 - binary_accuracy_inet_decision_function_fv_metric: 0.7537 - val_loss: 0.4952 - val_soft_binary_crossentropy_inet_decision_function_fv_metric: 0.5841 - val_binary_accuracy_inet_decision_function_fv_metric: 0.7586\n",
      "Epoch 91/500\n",
      "36/36 - 18s - loss: 0.4901 - soft_binary_crossentropy_inet_decision_function_fv_metric: 0.5784 - binary_accuracy_inet_decision_function_fv_metric: 0.7570 - val_loss: 0.4975 - val_soft_binary_crossentropy_inet_decision_function_fv_metric: 0.5844 - val_binary_accuracy_inet_decision_function_fv_metric: 0.7542\n",
      "Epoch 92/500\n",
      "36/36 - 15s - loss: 0.4931 - soft_binary_crossentropy_inet_decision_function_fv_metric: 0.5807 - binary_accuracy_inet_decision_function_fv_metric: 0.7526 - val_loss: 0.4989 - val_soft_binary_crossentropy_inet_decision_function_fv_metric: 0.5853 - val_binary_accuracy_inet_decision_function_fv_metric: 0.7524\n",
      "Epoch 93/500\n",
      "36/36 - 17s - loss: 0.4912 - soft_binary_crossentropy_inet_decision_function_fv_metric: 0.5789 - binary_accuracy_inet_decision_function_fv_metric: 0.7551 - val_loss: 0.4972 - val_soft_binary_crossentropy_inet_decision_function_fv_metric: 0.5843 - val_binary_accuracy_inet_decision_function_fv_metric: 0.7535\n",
      "Epoch 94/500\n",
      "36/36 - 16s - loss: 0.4917 - soft_binary_crossentropy_inet_decision_function_fv_metric: 0.5795 - binary_accuracy_inet_decision_function_fv_metric: 0.7531 - val_loss: 0.5009 - val_soft_binary_crossentropy_inet_decision_function_fv_metric: 0.5867 - val_binary_accuracy_inet_decision_function_fv_metric: 0.7520\n",
      "Epoch 95/500\n",
      "36/36 - 17s - loss: 0.4920 - soft_binary_crossentropy_inet_decision_function_fv_metric: 0.5800 - binary_accuracy_inet_decision_function_fv_metric: 0.7527 - val_loss: 0.4930 - val_soft_binary_crossentropy_inet_decision_function_fv_metric: 0.5828 - val_binary_accuracy_inet_decision_function_fv_metric: 0.7580\n",
      "Epoch 96/500\n",
      "36/36 - 18s - loss: 0.4903 - soft_binary_crossentropy_inet_decision_function_fv_metric: 0.5790 - binary_accuracy_inet_decision_function_fv_metric: 0.7547 - val_loss: 0.4954 - val_soft_binary_crossentropy_inet_decision_function_fv_metric: 0.5834 - val_binary_accuracy_inet_decision_function_fv_metric: 0.7547\n",
      "Epoch 97/500\n",
      "36/36 - 17s - loss: 0.4880 - soft_binary_crossentropy_inet_decision_function_fv_metric: 0.5776 - binary_accuracy_inet_decision_function_fv_metric: 0.7562 - val_loss: 0.4944 - val_soft_binary_crossentropy_inet_decision_function_fv_metric: 0.5827 - val_binary_accuracy_inet_decision_function_fv_metric: 0.7553\n",
      "Epoch 98/500\n",
      "36/36 - 16s - loss: 0.4883 - soft_binary_crossentropy_inet_decision_function_fv_metric: 0.5780 - binary_accuracy_inet_decision_function_fv_metric: 0.7564 - val_loss: 0.4929 - val_soft_binary_crossentropy_inet_decision_function_fv_metric: 0.5818 - val_binary_accuracy_inet_decision_function_fv_metric: 0.7571\n",
      "Epoch 99/500\n",
      "36/36 - 16s - loss: 0.4870 - soft_binary_crossentropy_inet_decision_function_fv_metric: 0.5784 - binary_accuracy_inet_decision_function_fv_metric: 0.7553 - val_loss: 0.4956 - val_soft_binary_crossentropy_inet_decision_function_fv_metric: 0.5837 - val_binary_accuracy_inet_decision_function_fv_metric: 0.7534\n",
      "Epoch 100/500\n",
      "36/36 - 16s - loss: 0.4879 - soft_binary_crossentropy_inet_decision_function_fv_metric: 0.5774 - binary_accuracy_inet_decision_function_fv_metric: 0.7566 - val_loss: 0.4922 - val_soft_binary_crossentropy_inet_decision_function_fv_metric: 0.5824 - val_binary_accuracy_inet_decision_function_fv_metric: 0.7552\n",
      "Epoch 101/500\n",
      "36/36 - 18s - loss: 0.4861 - soft_binary_crossentropy_inet_decision_function_fv_metric: 0.5772 - binary_accuracy_inet_decision_function_fv_metric: 0.7566 - val_loss: 0.4903 - val_soft_binary_crossentropy_inet_decision_function_fv_metric: 0.5805 - val_binary_accuracy_inet_decision_function_fv_metric: 0.7576\n",
      "Epoch 102/500\n",
      "36/36 - 17s - loss: 0.4880 - soft_binary_crossentropy_inet_decision_function_fv_metric: 0.5781 - binary_accuracy_inet_decision_function_fv_metric: 0.7561 - val_loss: 0.4984 - val_soft_binary_crossentropy_inet_decision_function_fv_metric: 0.5848 - val_binary_accuracy_inet_decision_function_fv_metric: 0.7528\n",
      "Epoch 103/500\n",
      "36/36 - 17s - loss: 0.4866 - soft_binary_crossentropy_inet_decision_function_fv_metric: 0.5769 - binary_accuracy_inet_decision_function_fv_metric: 0.7576 - val_loss: 0.4933 - val_soft_binary_crossentropy_inet_decision_function_fv_metric: 0.5826 - val_binary_accuracy_inet_decision_function_fv_metric: 0.7554\n",
      "Epoch 104/500\n",
      "36/36 - 17s - loss: 0.4869 - soft_binary_crossentropy_inet_decision_function_fv_metric: 0.5776 - binary_accuracy_inet_decision_function_fv_metric: 0.7557 - val_loss: 0.4930 - val_soft_binary_crossentropy_inet_decision_function_fv_metric: 0.5826 - val_binary_accuracy_inet_decision_function_fv_metric: 0.7558\n",
      "Epoch 105/500\n",
      "36/36 - 18s - loss: 0.4866 - soft_binary_crossentropy_inet_decision_function_fv_metric: 0.5766 - binary_accuracy_inet_decision_function_fv_metric: 0.7581 - val_loss: 0.4886 - val_soft_binary_crossentropy_inet_decision_function_fv_metric: 0.5791 - val_binary_accuracy_inet_decision_function_fv_metric: 0.7604\n",
      "Epoch 106/500\n",
      "36/36 - 17s - loss: 0.4850 - soft_binary_crossentropy_inet_decision_function_fv_metric: 0.5756 - binary_accuracy_inet_decision_function_fv_metric: 0.7595 - val_loss: 0.4887 - val_soft_binary_crossentropy_inet_decision_function_fv_metric: 0.5804 - val_binary_accuracy_inet_decision_function_fv_metric: 0.7584\n",
      "Epoch 107/500\n",
      "36/36 - 17s - loss: 0.4840 - soft_binary_crossentropy_inet_decision_function_fv_metric: 0.5758 - binary_accuracy_inet_decision_function_fv_metric: 0.7594 - val_loss: 0.4930 - val_soft_binary_crossentropy_inet_decision_function_fv_metric: 0.5814 - val_binary_accuracy_inet_decision_function_fv_metric: 0.7552\n",
      "Epoch 108/500\n",
      "36/36 - 17s - loss: 0.4900 - soft_binary_crossentropy_inet_decision_function_fv_metric: 0.5783 - binary_accuracy_inet_decision_function_fv_metric: 0.7557 - val_loss: 0.4916 - val_soft_binary_crossentropy_inet_decision_function_fv_metric: 0.5817 - val_binary_accuracy_inet_decision_function_fv_metric: 0.7580\n",
      "Epoch 109/500\n",
      "36/36 - 19s - loss: 0.4850 - soft_binary_crossentropy_inet_decision_function_fv_metric: 0.5766 - binary_accuracy_inet_decision_function_fv_metric: 0.7583 - val_loss: 0.4923 - val_soft_binary_crossentropy_inet_decision_function_fv_metric: 0.5819 - val_binary_accuracy_inet_decision_function_fv_metric: 0.7575\n",
      "Epoch 110/500\n",
      "36/36 - 18s - loss: 0.4866 - soft_binary_crossentropy_inet_decision_function_fv_metric: 0.5768 - binary_accuracy_inet_decision_function_fv_metric: 0.7573 - val_loss: 0.4949 - val_soft_binary_crossentropy_inet_decision_function_fv_metric: 0.5831 - val_binary_accuracy_inet_decision_function_fv_metric: 0.7539\n",
      "Epoch 111/500\n",
      "36/36 - 18s - loss: 0.4873 - soft_binary_crossentropy_inet_decision_function_fv_metric: 0.5775 - binary_accuracy_inet_decision_function_fv_metric: 0.7563 - val_loss: 0.4927 - val_soft_binary_crossentropy_inet_decision_function_fv_metric: 0.5826 - val_binary_accuracy_inet_decision_function_fv_metric: 0.7558\n",
      "Epoch 112/500\n",
      "36/36 - 17s - loss: 0.4850 - soft_binary_crossentropy_inet_decision_function_fv_metric: 0.5770 - binary_accuracy_inet_decision_function_fv_metric: 0.7571 - val_loss: 0.4948 - val_soft_binary_crossentropy_inet_decision_function_fv_metric: 0.5824 - val_binary_accuracy_inet_decision_function_fv_metric: 0.7544\n",
      "Epoch 113/500\n",
      "36/36 - 18s - loss: 0.4851 - soft_binary_crossentropy_inet_decision_function_fv_metric: 0.5765 - binary_accuracy_inet_decision_function_fv_metric: 0.7574 - val_loss: 0.4868 - val_soft_binary_crossentropy_inet_decision_function_fv_metric: 0.5795 - val_binary_accuracy_inet_decision_function_fv_metric: 0.7607\n",
      "Epoch 114/500\n",
      "36/36 - 18s - loss: 0.4822 - soft_binary_crossentropy_inet_decision_function_fv_metric: 0.5749 - binary_accuracy_inet_decision_function_fv_metric: 0.7606 - val_loss: 0.4891 - val_soft_binary_crossentropy_inet_decision_function_fv_metric: 0.5795 - val_binary_accuracy_inet_decision_function_fv_metric: 0.7598\n",
      "Epoch 115/500\n",
      "36/36 - 17s - loss: 0.4810 - soft_binary_crossentropy_inet_decision_function_fv_metric: 0.5751 - binary_accuracy_inet_decision_function_fv_metric: 0.7597 - val_loss: 0.4900 - val_soft_binary_crossentropy_inet_decision_function_fv_metric: 0.5806 - val_binary_accuracy_inet_decision_function_fv_metric: 0.7583\n",
      "Epoch 116/500\n",
      "36/36 - 17s - loss: 0.4782 - soft_binary_crossentropy_inet_decision_function_fv_metric: 0.5736 - binary_accuracy_inet_decision_function_fv_metric: 0.7627 - val_loss: 0.4827 - val_soft_binary_crossentropy_inet_decision_function_fv_metric: 0.5762 - val_binary_accuracy_inet_decision_function_fv_metric: 0.7648\n",
      "Epoch 117/500\n",
      "36/36 - 19s - loss: 0.4815 - soft_binary_crossentropy_inet_decision_function_fv_metric: 0.5747 - binary_accuracy_inet_decision_function_fv_metric: 0.7613 - val_loss: 0.4947 - val_soft_binary_crossentropy_inet_decision_function_fv_metric: 0.5831 - val_binary_accuracy_inet_decision_function_fv_metric: 0.7562\n",
      "Epoch 118/500\n",
      "36/36 - 17s - loss: 0.4852 - soft_binary_crossentropy_inet_decision_function_fv_metric: 0.5763 - binary_accuracy_inet_decision_function_fv_metric: 0.7587 - val_loss: 0.4900 - val_soft_binary_crossentropy_inet_decision_function_fv_metric: 0.5809 - val_binary_accuracy_inet_decision_function_fv_metric: 0.7590\n",
      "Epoch 119/500\n",
      "36/36 - 18s - loss: 0.4809 - soft_binary_crossentropy_inet_decision_function_fv_metric: 0.5745 - binary_accuracy_inet_decision_function_fv_metric: 0.7618 - val_loss: 0.4899 - val_soft_binary_crossentropy_inet_decision_function_fv_metric: 0.5806 - val_binary_accuracy_inet_decision_function_fv_metric: 0.7575\n",
      "Epoch 120/500\n",
      "36/36 - 17s - loss: 0.4839 - soft_binary_crossentropy_inet_decision_function_fv_metric: 0.5765 - binary_accuracy_inet_decision_function_fv_metric: 0.7580 - val_loss: 0.4910 - val_soft_binary_crossentropy_inet_decision_function_fv_metric: 0.5806 - val_binary_accuracy_inet_decision_function_fv_metric: 0.7576\n",
      "Epoch 121/500\n",
      "36/36 - 17s - loss: 0.4871 - soft_binary_crossentropy_inet_decision_function_fv_metric: 0.5784 - binary_accuracy_inet_decision_function_fv_metric: 0.7553 - val_loss: 0.4903 - val_soft_binary_crossentropy_inet_decision_function_fv_metric: 0.5806 - val_binary_accuracy_inet_decision_function_fv_metric: 0.7577\n",
      "Epoch 122/500\n",
      "36/36 - 17s - loss: 0.4828 - soft_binary_crossentropy_inet_decision_function_fv_metric: 0.5755 - binary_accuracy_inet_decision_function_fv_metric: 0.7596 - val_loss: 0.4889 - val_soft_binary_crossentropy_inet_decision_function_fv_metric: 0.5811 - val_binary_accuracy_inet_decision_function_fv_metric: 0.7605\n",
      "Epoch 123/500\n",
      "36/36 - 17s - loss: 0.4803 - soft_binary_crossentropy_inet_decision_function_fv_metric: 0.5746 - binary_accuracy_inet_decision_function_fv_metric: 0.7621 - val_loss: 0.4887 - val_soft_binary_crossentropy_inet_decision_function_fv_metric: 0.5799 - val_binary_accuracy_inet_decision_function_fv_metric: 0.7606\n",
      "Epoch 124/500\n",
      "36/36 - 17s - loss: 0.4825 - soft_binary_crossentropy_inet_decision_function_fv_metric: 0.5756 - binary_accuracy_inet_decision_function_fv_metric: 0.7595 - val_loss: 0.4926 - val_soft_binary_crossentropy_inet_decision_function_fv_metric: 0.5811 - val_binary_accuracy_inet_decision_function_fv_metric: 0.7578\n",
      "Epoch 125/500\n",
      "36/36 - 18s - loss: 0.4832 - soft_binary_crossentropy_inet_decision_function_fv_metric: 0.5749 - binary_accuracy_inet_decision_function_fv_metric: 0.7608 - val_loss: 0.4943 - val_soft_binary_crossentropy_inet_decision_function_fv_metric: 0.5828 - val_binary_accuracy_inet_decision_function_fv_metric: 0.7557\n",
      "Epoch 126/500\n",
      "36/36 - 20s - loss: 0.4836 - soft_binary_crossentropy_inet_decision_function_fv_metric: 0.5761 - binary_accuracy_inet_decision_function_fv_metric: 0.7590 - val_loss: 0.4932 - val_soft_binary_crossentropy_inet_decision_function_fv_metric: 0.5820 - val_binary_accuracy_inet_decision_function_fv_metric: 0.7567\n",
      "Epoch 127/500\n",
      "36/36 - 16s - loss: 0.4896 - soft_binary_crossentropy_inet_decision_function_fv_metric: 0.5790 - binary_accuracy_inet_decision_function_fv_metric: 0.7554 - val_loss: 0.4991 - val_soft_binary_crossentropy_inet_decision_function_fv_metric: 0.5859 - val_binary_accuracy_inet_decision_function_fv_metric: 0.7540\n",
      "Epoch 128/500\n",
      "36/36 - 18s - loss: 0.4909 - soft_binary_crossentropy_inet_decision_function_fv_metric: 0.5789 - binary_accuracy_inet_decision_function_fv_metric: 0.7545 - val_loss: 0.4980 - val_soft_binary_crossentropy_inet_decision_function_fv_metric: 0.5852 - val_binary_accuracy_inet_decision_function_fv_metric: 0.7544\n",
      "Epoch 129/500\n",
      "36/36 - 18s - loss: 0.4858 - soft_binary_crossentropy_inet_decision_function_fv_metric: 0.5769 - binary_accuracy_inet_decision_function_fv_metric: 0.7587 - val_loss: 0.4940 - val_soft_binary_crossentropy_inet_decision_function_fv_metric: 0.5820 - val_binary_accuracy_inet_decision_function_fv_metric: 0.7563\n",
      "Epoch 130/500\n",
      "36/36 - 18s - loss: 0.4860 - soft_binary_crossentropy_inet_decision_function_fv_metric: 0.5775 - binary_accuracy_inet_decision_function_fv_metric: 0.7578 - val_loss: 0.4924 - val_soft_binary_crossentropy_inet_decision_function_fv_metric: 0.5815 - val_binary_accuracy_inet_decision_function_fv_metric: 0.7567\n",
      "Epoch 131/500\n",
      "36/36 - 16s - loss: 0.4833 - soft_binary_crossentropy_inet_decision_function_fv_metric: 0.5753 - binary_accuracy_inet_decision_function_fv_metric: 0.7600 - val_loss: 0.4935 - val_soft_binary_crossentropy_inet_decision_function_fv_metric: 0.5823 - val_binary_accuracy_inet_decision_function_fv_metric: 0.7561\n",
      "Epoch 132/500\n",
      "36/36 - 18s - loss: 0.4840 - soft_binary_crossentropy_inet_decision_function_fv_metric: 0.5766 - binary_accuracy_inet_decision_function_fv_metric: 0.7573 - val_loss: 0.4956 - val_soft_binary_crossentropy_inet_decision_function_fv_metric: 0.5838 - val_binary_accuracy_inet_decision_function_fv_metric: 0.7553\n",
      "Epoch 133/500\n",
      "36/36 - 18s - loss: 0.4864 - soft_binary_crossentropy_inet_decision_function_fv_metric: 0.5772 - binary_accuracy_inet_decision_function_fv_metric: 0.7567 - val_loss: 0.4945 - val_soft_binary_crossentropy_inet_decision_function_fv_metric: 0.5834 - val_binary_accuracy_inet_decision_function_fv_metric: 0.7557\n",
      "Epoch 134/500\n",
      "36/36 - 16s - loss: 0.4823 - soft_binary_crossentropy_inet_decision_function_fv_metric: 0.5750 - binary_accuracy_inet_decision_function_fv_metric: 0.7603 - val_loss: 0.4896 - val_soft_binary_crossentropy_inet_decision_function_fv_metric: 0.5796 - val_binary_accuracy_inet_decision_function_fv_metric: 0.7594\n",
      "Epoch 135/500\n",
      "36/36 - 16s - loss: 0.4803 - soft_binary_crossentropy_inet_decision_function_fv_metric: 0.5744 - binary_accuracy_inet_decision_function_fv_metric: 0.7604 - val_loss: 0.4935 - val_soft_binary_crossentropy_inet_decision_function_fv_metric: 0.5823 - val_binary_accuracy_inet_decision_function_fv_metric: 0.7594\n",
      "Epoch 136/500\n",
      "36/36 - 16s - loss: 0.4835 - soft_binary_crossentropy_inet_decision_function_fv_metric: 0.5760 - binary_accuracy_inet_decision_function_fv_metric: 0.7593 - val_loss: 0.4899 - val_soft_binary_crossentropy_inet_decision_function_fv_metric: 0.5807 - val_binary_accuracy_inet_decision_function_fv_metric: 0.7610\n",
      "Epoch 137/500\n",
      "36/36 - 17s - loss: 0.4806 - soft_binary_crossentropy_inet_decision_function_fv_metric: 0.5737 - binary_accuracy_inet_decision_function_fv_metric: 0.7624 - val_loss: 0.4880 - val_soft_binary_crossentropy_inet_decision_function_fv_metric: 0.5788 - val_binary_accuracy_inet_decision_function_fv_metric: 0.7626\n",
      "Epoch 138/500\n",
      "36/36 - 16s - loss: 0.4748 - soft_binary_crossentropy_inet_decision_function_fv_metric: 0.5711 - binary_accuracy_inet_decision_function_fv_metric: 0.7663 - val_loss: 0.4861 - val_soft_binary_crossentropy_inet_decision_function_fv_metric: 0.5786 - val_binary_accuracy_inet_decision_function_fv_metric: 0.7644\n",
      "Epoch 139/500\n",
      "36/36 - 16s - loss: 0.4792 - soft_binary_crossentropy_inet_decision_function_fv_metric: 0.5735 - binary_accuracy_inet_decision_function_fv_metric: 0.7636 - val_loss: 0.4911 - val_soft_binary_crossentropy_inet_decision_function_fv_metric: 0.5806 - val_binary_accuracy_inet_decision_function_fv_metric: 0.7600\n",
      "Epoch 140/500\n",
      "36/36 - 19s - loss: 0.4750 - soft_binary_crossentropy_inet_decision_function_fv_metric: 0.5711 - binary_accuracy_inet_decision_function_fv_metric: 0.7666 - val_loss: 0.4843 - val_soft_binary_crossentropy_inet_decision_function_fv_metric: 0.5785 - val_binary_accuracy_inet_decision_function_fv_metric: 0.7655\n",
      "Epoch 141/500\n",
      "36/36 - 17s - loss: 0.4720 - soft_binary_crossentropy_inet_decision_function_fv_metric: 0.5698 - binary_accuracy_inet_decision_function_fv_metric: 0.7681 - val_loss: 0.4893 - val_soft_binary_crossentropy_inet_decision_function_fv_metric: 0.5810 - val_binary_accuracy_inet_decision_function_fv_metric: 0.7607\n",
      "Epoch 142/500\n",
      "36/36 - 18s - loss: 0.4728 - soft_binary_crossentropy_inet_decision_function_fv_metric: 0.5697 - binary_accuracy_inet_decision_function_fv_metric: 0.7681 - val_loss: 0.4821 - val_soft_binary_crossentropy_inet_decision_function_fv_metric: 0.5760 - val_binary_accuracy_inet_decision_function_fv_metric: 0.7653\n",
      "Epoch 143/500\n",
      "36/36 - 17s - loss: 0.4704 - soft_binary_crossentropy_inet_decision_function_fv_metric: 0.5690 - binary_accuracy_inet_decision_function_fv_metric: 0.7691 - val_loss: 0.4829 - val_soft_binary_crossentropy_inet_decision_function_fv_metric: 0.5768 - val_binary_accuracy_inet_decision_function_fv_metric: 0.7667\n",
      "Epoch 144/500\n",
      "36/36 - 16s - loss: 0.4723 - soft_binary_crossentropy_inet_decision_function_fv_metric: 0.5693 - binary_accuracy_inet_decision_function_fv_metric: 0.7696 - val_loss: 0.4885 - val_soft_binary_crossentropy_inet_decision_function_fv_metric: 0.5793 - val_binary_accuracy_inet_decision_function_fv_metric: 0.7604\n",
      "Epoch 145/500\n",
      "36/36 - 16s - loss: 0.4732 - soft_binary_crossentropy_inet_decision_function_fv_metric: 0.5710 - binary_accuracy_inet_decision_function_fv_metric: 0.7668 - val_loss: 0.4917 - val_soft_binary_crossentropy_inet_decision_function_fv_metric: 0.5815 - val_binary_accuracy_inet_decision_function_fv_metric: 0.7577\n",
      "Epoch 146/500\n",
      "36/36 - 17s - loss: 0.4729 - soft_binary_crossentropy_inet_decision_function_fv_metric: 0.5707 - binary_accuracy_inet_decision_function_fv_metric: 0.7674 - val_loss: 0.4890 - val_soft_binary_crossentropy_inet_decision_function_fv_metric: 0.5795 - val_binary_accuracy_inet_decision_function_fv_metric: 0.7618\n",
      "Epoch 147/500\n",
      "36/36 - 16s - loss: 0.4735 - soft_binary_crossentropy_inet_decision_function_fv_metric: 0.5702 - binary_accuracy_inet_decision_function_fv_metric: 0.7676 - val_loss: 0.4875 - val_soft_binary_crossentropy_inet_decision_function_fv_metric: 0.5790 - val_binary_accuracy_inet_decision_function_fv_metric: 0.7617\n",
      "Epoch 148/500\n",
      "36/36 - 17s - loss: 0.4742 - soft_binary_crossentropy_inet_decision_function_fv_metric: 0.5709 - binary_accuracy_inet_decision_function_fv_metric: 0.7659 - val_loss: 0.4872 - val_soft_binary_crossentropy_inet_decision_function_fv_metric: 0.5788 - val_binary_accuracy_inet_decision_function_fv_metric: 0.7623\n",
      "Epoch 149/500\n",
      "36/36 - 17s - loss: 0.4769 - soft_binary_crossentropy_inet_decision_function_fv_metric: 0.5728 - binary_accuracy_inet_decision_function_fv_metric: 0.7638 - val_loss: 0.4903 - val_soft_binary_crossentropy_inet_decision_function_fv_metric: 0.5815 - val_binary_accuracy_inet_decision_function_fv_metric: 0.7600\n",
      "Epoch 150/500\n",
      "36/36 - 16s - loss: 0.4725 - soft_binary_crossentropy_inet_decision_function_fv_metric: 0.5706 - binary_accuracy_inet_decision_function_fv_metric: 0.7674 - val_loss: 0.4813 - val_soft_binary_crossentropy_inet_decision_function_fv_metric: 0.5752 - val_binary_accuracy_inet_decision_function_fv_metric: 0.7673\n",
      "Epoch 151/500\n",
      "36/36 - 17s - loss: 0.4692 - soft_binary_crossentropy_inet_decision_function_fv_metric: 0.5693 - binary_accuracy_inet_decision_function_fv_metric: 0.7691 - val_loss: 0.4849 - val_soft_binary_crossentropy_inet_decision_function_fv_metric: 0.5778 - val_binary_accuracy_inet_decision_function_fv_metric: 0.7644\n",
      "Epoch 152/500\n",
      "36/36 - 18s - loss: 0.4681 - soft_binary_crossentropy_inet_decision_function_fv_metric: 0.5681 - binary_accuracy_inet_decision_function_fv_metric: 0.7708 - val_loss: 0.4800 - val_soft_binary_crossentropy_inet_decision_function_fv_metric: 0.5756 - val_binary_accuracy_inet_decision_function_fv_metric: 0.7668\n",
      "Epoch 153/500\n",
      "36/36 - 18s - loss: 0.4683 - soft_binary_crossentropy_inet_decision_function_fv_metric: 0.5681 - binary_accuracy_inet_decision_function_fv_metric: 0.7718 - val_loss: 0.4876 - val_soft_binary_crossentropy_inet_decision_function_fv_metric: 0.5794 - val_binary_accuracy_inet_decision_function_fv_metric: 0.7631\n",
      "Epoch 154/500\n",
      "36/36 - 18s - loss: 0.4724 - soft_binary_crossentropy_inet_decision_function_fv_metric: 0.5697 - binary_accuracy_inet_decision_function_fv_metric: 0.7683 - val_loss: 0.4881 - val_soft_binary_crossentropy_inet_decision_function_fv_metric: 0.5797 - val_binary_accuracy_inet_decision_function_fv_metric: 0.7616\n",
      "Epoch 155/500\n",
      "36/36 - 17s - loss: 0.4733 - soft_binary_crossentropy_inet_decision_function_fv_metric: 0.5705 - binary_accuracy_inet_decision_function_fv_metric: 0.7673 - val_loss: 0.4819 - val_soft_binary_crossentropy_inet_decision_function_fv_metric: 0.5756 - val_binary_accuracy_inet_decision_function_fv_metric: 0.7655\n",
      "Epoch 156/500\n",
      "36/36 - 19s - loss: 0.4710 - soft_binary_crossentropy_inet_decision_function_fv_metric: 0.5692 - binary_accuracy_inet_decision_function_fv_metric: 0.7690 - val_loss: 0.4853 - val_soft_binary_crossentropy_inet_decision_function_fv_metric: 0.5767 - val_binary_accuracy_inet_decision_function_fv_metric: 0.7617\n",
      "Epoch 157/500\n",
      "36/36 - 18s - loss: 0.4727 - soft_binary_crossentropy_inet_decision_function_fv_metric: 0.5703 - binary_accuracy_inet_decision_function_fv_metric: 0.7677 - val_loss: 0.4921 - val_soft_binary_crossentropy_inet_decision_function_fv_metric: 0.5815 - val_binary_accuracy_inet_decision_function_fv_metric: 0.7594\n",
      "Epoch 158/500\n",
      "36/36 - 16s - loss: 0.4755 - soft_binary_crossentropy_inet_decision_function_fv_metric: 0.5714 - binary_accuracy_inet_decision_function_fv_metric: 0.7663 - val_loss: 0.4862 - val_soft_binary_crossentropy_inet_decision_function_fv_metric: 0.5784 - val_binary_accuracy_inet_decision_function_fv_metric: 0.7633\n",
      "Epoch 159/500\n",
      "36/36 - 17s - loss: 0.4721 - soft_binary_crossentropy_inet_decision_function_fv_metric: 0.5698 - binary_accuracy_inet_decision_function_fv_metric: 0.7688 - val_loss: 0.4862 - val_soft_binary_crossentropy_inet_decision_function_fv_metric: 0.5784 - val_binary_accuracy_inet_decision_function_fv_metric: 0.7646\n",
      "Epoch 160/500\n",
      "36/36 - 18s - loss: 0.4702 - soft_binary_crossentropy_inet_decision_function_fv_metric: 0.5690 - binary_accuracy_inet_decision_function_fv_metric: 0.7696 - val_loss: 0.4865 - val_soft_binary_crossentropy_inet_decision_function_fv_metric: 0.5787 - val_binary_accuracy_inet_decision_function_fv_metric: 0.7618\n",
      "Epoch 161/500\n",
      "36/36 - 19s - loss: 0.4661 - soft_binary_crossentropy_inet_decision_function_fv_metric: 0.5674 - binary_accuracy_inet_decision_function_fv_metric: 0.7722 - val_loss: 0.4821 - val_soft_binary_crossentropy_inet_decision_function_fv_metric: 0.5762 - val_binary_accuracy_inet_decision_function_fv_metric: 0.7669\n",
      "Epoch 162/500\n",
      "36/36 - 18s - loss: 0.4696 - soft_binary_crossentropy_inet_decision_function_fv_metric: 0.5686 - binary_accuracy_inet_decision_function_fv_metric: 0.7703 - val_loss: 0.4860 - val_soft_binary_crossentropy_inet_decision_function_fv_metric: 0.5780 - val_binary_accuracy_inet_decision_function_fv_metric: 0.7624\n",
      "Epoch 163/500\n",
      "36/36 - 18s - loss: 0.4725 - soft_binary_crossentropy_inet_decision_function_fv_metric: 0.5698 - binary_accuracy_inet_decision_function_fv_metric: 0.7679 - val_loss: 0.4899 - val_soft_binary_crossentropy_inet_decision_function_fv_metric: 0.5794 - val_binary_accuracy_inet_decision_function_fv_metric: 0.7602\n",
      "Epoch 164/500\n",
      "36/36 - 16s - loss: 0.4733 - soft_binary_crossentropy_inet_decision_function_fv_metric: 0.5702 - binary_accuracy_inet_decision_function_fv_metric: 0.7683 - val_loss: 0.4844 - val_soft_binary_crossentropy_inet_decision_function_fv_metric: 0.5784 - val_binary_accuracy_inet_decision_function_fv_metric: 0.7642\n",
      "Epoch 165/500\n",
      "36/36 - 16s - loss: 0.4735 - soft_binary_crossentropy_inet_decision_function_fv_metric: 0.5705 - binary_accuracy_inet_decision_function_fv_metric: 0.7677 - val_loss: 0.4889 - val_soft_binary_crossentropy_inet_decision_function_fv_metric: 0.5804 - val_binary_accuracy_inet_decision_function_fv_metric: 0.7604\n",
      "Epoch 166/500\n",
      "36/36 - 16s - loss: 0.4719 - soft_binary_crossentropy_inet_decision_function_fv_metric: 0.5703 - binary_accuracy_inet_decision_function_fv_metric: 0.7679 - val_loss: 0.4879 - val_soft_binary_crossentropy_inet_decision_function_fv_metric: 0.5795 - val_binary_accuracy_inet_decision_function_fv_metric: 0.7616\n",
      "Epoch 167/500\n",
      "36/36 - 17s - loss: 0.4753 - soft_binary_crossentropy_inet_decision_function_fv_metric: 0.5716 - binary_accuracy_inet_decision_function_fv_metric: 0.7664 - val_loss: 0.4895 - val_soft_binary_crossentropy_inet_decision_function_fv_metric: 0.5808 - val_binary_accuracy_inet_decision_function_fv_metric: 0.7593\n",
      "Epoch 168/500\n",
      "36/36 - 16s - loss: 0.4744 - soft_binary_crossentropy_inet_decision_function_fv_metric: 0.5717 - binary_accuracy_inet_decision_function_fv_metric: 0.7646 - val_loss: 0.4935 - val_soft_binary_crossentropy_inet_decision_function_fv_metric: 0.5823 - val_binary_accuracy_inet_decision_function_fv_metric: 0.7563\n",
      "Epoch 169/500\n",
      "36/36 - 19s - loss: 0.4738 - soft_binary_crossentropy_inet_decision_function_fv_metric: 0.5709 - binary_accuracy_inet_decision_function_fv_metric: 0.7664 - val_loss: 0.4898 - val_soft_binary_crossentropy_inet_decision_function_fv_metric: 0.5802 - val_binary_accuracy_inet_decision_function_fv_metric: 0.7615\n",
      "Epoch 170/500\n",
      "36/36 - 20s - loss: 0.4695 - soft_binary_crossentropy_inet_decision_function_fv_metric: 0.5689 - binary_accuracy_inet_decision_function_fv_metric: 0.7704 - val_loss: 0.4810 - val_soft_binary_crossentropy_inet_decision_function_fv_metric: 0.5745 - val_binary_accuracy_inet_decision_function_fv_metric: 0.7675\n",
      "Epoch 171/500\n",
      "36/36 - 18s - loss: 0.4721 - soft_binary_crossentropy_inet_decision_function_fv_metric: 0.5697 - binary_accuracy_inet_decision_function_fv_metric: 0.7680 - val_loss: 0.4894 - val_soft_binary_crossentropy_inet_decision_function_fv_metric: 0.5805 - val_binary_accuracy_inet_decision_function_fv_metric: 0.7623\n",
      "Epoch 172/500\n",
      "36/36 - 16s - loss: 0.4747 - soft_binary_crossentropy_inet_decision_function_fv_metric: 0.5708 - binary_accuracy_inet_decision_function_fv_metric: 0.7669 - val_loss: 0.4939 - val_soft_binary_crossentropy_inet_decision_function_fv_metric: 0.5824 - val_binary_accuracy_inet_decision_function_fv_metric: 0.7595\n",
      "Epoch 173/500\n",
      "36/36 - 19s - loss: 0.4701 - soft_binary_crossentropy_inet_decision_function_fv_metric: 0.5688 - binary_accuracy_inet_decision_function_fv_metric: 0.7714 - val_loss: 0.4763 - val_soft_binary_crossentropy_inet_decision_function_fv_metric: 0.5731 - val_binary_accuracy_inet_decision_function_fv_metric: 0.7738\n",
      "Epoch 174/500\n",
      "36/36 - 17s - loss: 0.4646 - soft_binary_crossentropy_inet_decision_function_fv_metric: 0.5650 - binary_accuracy_inet_decision_function_fv_metric: 0.7771 - val_loss: 0.4828 - val_soft_binary_crossentropy_inet_decision_function_fv_metric: 0.5755 - val_binary_accuracy_inet_decision_function_fv_metric: 0.7665\n",
      "Epoch 175/500\n",
      "36/36 - 18s - loss: 0.4665 - soft_binary_crossentropy_inet_decision_function_fv_metric: 0.5664 - binary_accuracy_inet_decision_function_fv_metric: 0.7733 - val_loss: 0.4855 - val_soft_binary_crossentropy_inet_decision_function_fv_metric: 0.5772 - val_binary_accuracy_inet_decision_function_fv_metric: 0.7628\n",
      "Epoch 176/500\n",
      "36/36 - 16s - loss: 0.4631 - soft_binary_crossentropy_inet_decision_function_fv_metric: 0.5647 - binary_accuracy_inet_decision_function_fv_metric: 0.7760 - val_loss: 0.4852 - val_soft_binary_crossentropy_inet_decision_function_fv_metric: 0.5767 - val_binary_accuracy_inet_decision_function_fv_metric: 0.7637\n",
      "Epoch 177/500\n",
      "36/36 - 16s - loss: 0.4667 - soft_binary_crossentropy_inet_decision_function_fv_metric: 0.5671 - binary_accuracy_inet_decision_function_fv_metric: 0.7727 - val_loss: 0.4856 - val_soft_binary_crossentropy_inet_decision_function_fv_metric: 0.5777 - val_binary_accuracy_inet_decision_function_fv_metric: 0.7652\n",
      "Epoch 178/500\n",
      "36/36 - 18s - loss: 0.4590 - soft_binary_crossentropy_inet_decision_function_fv_metric: 0.5628 - binary_accuracy_inet_decision_function_fv_metric: 0.7792 - val_loss: 0.4765 - val_soft_binary_crossentropy_inet_decision_function_fv_metric: 0.5733 - val_binary_accuracy_inet_decision_function_fv_metric: 0.7709\n",
      "Epoch 179/500\n",
      "36/36 - 16s - loss: 0.4600 - soft_binary_crossentropy_inet_decision_function_fv_metric: 0.5631 - binary_accuracy_inet_decision_function_fv_metric: 0.7788 - val_loss: 0.4782 - val_soft_binary_crossentropy_inet_decision_function_fv_metric: 0.5740 - val_binary_accuracy_inet_decision_function_fv_metric: 0.7706\n",
      "Epoch 180/500\n",
      "36/36 - 17s - loss: 0.4610 - soft_binary_crossentropy_inet_decision_function_fv_metric: 0.5641 - binary_accuracy_inet_decision_function_fv_metric: 0.7771 - val_loss: 0.4854 - val_soft_binary_crossentropy_inet_decision_function_fv_metric: 0.5775 - val_binary_accuracy_inet_decision_function_fv_metric: 0.7636\n",
      "Epoch 181/500\n",
      "36/36 - 15s - loss: 0.4651 - soft_binary_crossentropy_inet_decision_function_fv_metric: 0.5663 - binary_accuracy_inet_decision_function_fv_metric: 0.7734 - val_loss: 0.4764 - val_soft_binary_crossentropy_inet_decision_function_fv_metric: 0.5725 - val_binary_accuracy_inet_decision_function_fv_metric: 0.7699\n",
      "Epoch 182/500\n",
      "36/36 - 18s - loss: 0.4606 - soft_binary_crossentropy_inet_decision_function_fv_metric: 0.5637 - binary_accuracy_inet_decision_function_fv_metric: 0.7776 - val_loss: 0.4788 - val_soft_binary_crossentropy_inet_decision_function_fv_metric: 0.5743 - val_binary_accuracy_inet_decision_function_fv_metric: 0.7695\n",
      "Epoch 183/500\n",
      "36/36 - 16s - loss: 0.4653 - soft_binary_crossentropy_inet_decision_function_fv_metric: 0.5661 - binary_accuracy_inet_decision_function_fv_metric: 0.7739 - val_loss: 0.4795 - val_soft_binary_crossentropy_inet_decision_function_fv_metric: 0.5747 - val_binary_accuracy_inet_decision_function_fv_metric: 0.7700\n",
      "Epoch 184/500\n",
      "36/36 - 17s - loss: 0.4619 - soft_binary_crossentropy_inet_decision_function_fv_metric: 0.5642 - binary_accuracy_inet_decision_function_fv_metric: 0.7779 - val_loss: 0.4785 - val_soft_binary_crossentropy_inet_decision_function_fv_metric: 0.5733 - val_binary_accuracy_inet_decision_function_fv_metric: 0.7714\n",
      "Epoch 185/500\n",
      "36/36 - 19s - loss: 0.4589 - soft_binary_crossentropy_inet_decision_function_fv_metric: 0.5626 - binary_accuracy_inet_decision_function_fv_metric: 0.7794 - val_loss: 0.4792 - val_soft_binary_crossentropy_inet_decision_function_fv_metric: 0.5750 - val_binary_accuracy_inet_decision_function_fv_metric: 0.7702\n",
      "Epoch 186/500\n",
      "36/36 - 17s - loss: 0.4610 - soft_binary_crossentropy_inet_decision_function_fv_metric: 0.5639 - binary_accuracy_inet_decision_function_fv_metric: 0.7773 - val_loss: 0.4745 - val_soft_binary_crossentropy_inet_decision_function_fv_metric: 0.5712 - val_binary_accuracy_inet_decision_function_fv_metric: 0.7727\n",
      "Epoch 187/500\n",
      "36/36 - 17s - loss: 0.4588 - soft_binary_crossentropy_inet_decision_function_fv_metric: 0.5626 - binary_accuracy_inet_decision_function_fv_metric: 0.7787 - val_loss: 0.4751 - val_soft_binary_crossentropy_inet_decision_function_fv_metric: 0.5719 - val_binary_accuracy_inet_decision_function_fv_metric: 0.7716\n",
      "Epoch 188/500\n",
      "36/36 - 16s - loss: 0.4576 - soft_binary_crossentropy_inet_decision_function_fv_metric: 0.5618 - binary_accuracy_inet_decision_function_fv_metric: 0.7804 - val_loss: 0.4763 - val_soft_binary_crossentropy_inet_decision_function_fv_metric: 0.5733 - val_binary_accuracy_inet_decision_function_fv_metric: 0.7726\n",
      "Epoch 189/500\n",
      "36/36 - 17s - loss: 0.4602 - soft_binary_crossentropy_inet_decision_function_fv_metric: 0.5634 - binary_accuracy_inet_decision_function_fv_metric: 0.7781 - val_loss: 0.4820 - val_soft_binary_crossentropy_inet_decision_function_fv_metric: 0.5766 - val_binary_accuracy_inet_decision_function_fv_metric: 0.7687\n",
      "Epoch 190/500\n",
      "36/36 - 17s - loss: 0.4646 - soft_binary_crossentropy_inet_decision_function_fv_metric: 0.5667 - binary_accuracy_inet_decision_function_fv_metric: 0.7726 - val_loss: 0.4837 - val_soft_binary_crossentropy_inet_decision_function_fv_metric: 0.5768 - val_binary_accuracy_inet_decision_function_fv_metric: 0.7653\n",
      "Epoch 191/500\n",
      "36/36 - 17s - loss: 0.4628 - soft_binary_crossentropy_inet_decision_function_fv_metric: 0.5655 - binary_accuracy_inet_decision_function_fv_metric: 0.7747 - val_loss: 0.4816 - val_soft_binary_crossentropy_inet_decision_function_fv_metric: 0.5759 - val_binary_accuracy_inet_decision_function_fv_metric: 0.7665\n",
      "Epoch 192/500\n",
      "36/36 - 19s - loss: 0.4641 - soft_binary_crossentropy_inet_decision_function_fv_metric: 0.5663 - binary_accuracy_inet_decision_function_fv_metric: 0.7740 - val_loss: 0.4875 - val_soft_binary_crossentropy_inet_decision_function_fv_metric: 0.5791 - val_binary_accuracy_inet_decision_function_fv_metric: 0.7608\n",
      "Epoch 193/500\n",
      "36/36 - 18s - loss: 0.4661 - soft_binary_crossentropy_inet_decision_function_fv_metric: 0.5671 - binary_accuracy_inet_decision_function_fv_metric: 0.7721 - val_loss: 0.4886 - val_soft_binary_crossentropy_inet_decision_function_fv_metric: 0.5793 - val_binary_accuracy_inet_decision_function_fv_metric: 0.7600\n",
      "Epoch 194/500\n",
      "36/36 - 17s - loss: 0.4657 - soft_binary_crossentropy_inet_decision_function_fv_metric: 0.5673 - binary_accuracy_inet_decision_function_fv_metric: 0.7720 - val_loss: 0.4839 - val_soft_binary_crossentropy_inet_decision_function_fv_metric: 0.5765 - val_binary_accuracy_inet_decision_function_fv_metric: 0.7653\n",
      "Epoch 195/500\n",
      "36/36 - 18s - loss: 0.4624 - soft_binary_crossentropy_inet_decision_function_fv_metric: 0.5654 - binary_accuracy_inet_decision_function_fv_metric: 0.7755 - val_loss: 0.4829 - val_soft_binary_crossentropy_inet_decision_function_fv_metric: 0.5762 - val_binary_accuracy_inet_decision_function_fv_metric: 0.7655\n",
      "Epoch 196/500\n",
      "36/36 - 16s - loss: 0.4645 - soft_binary_crossentropy_inet_decision_function_fv_metric: 0.5660 - binary_accuracy_inet_decision_function_fv_metric: 0.7732 - val_loss: 0.4880 - val_soft_binary_crossentropy_inet_decision_function_fv_metric: 0.5783 - val_binary_accuracy_inet_decision_function_fv_metric: 0.7620\n",
      "Epoch 197/500\n",
      "36/36 - 17s - loss: 0.4686 - soft_binary_crossentropy_inet_decision_function_fv_metric: 0.5676 - binary_accuracy_inet_decision_function_fv_metric: 0.7719 - val_loss: 0.4879 - val_soft_binary_crossentropy_inet_decision_function_fv_metric: 0.5796 - val_binary_accuracy_inet_decision_function_fv_metric: 0.7619\n",
      "Epoch 198/500\n",
      "36/36 - 17s - loss: 0.4691 - soft_binary_crossentropy_inet_decision_function_fv_metric: 0.5680 - binary_accuracy_inet_decision_function_fv_metric: 0.7714 - val_loss: 0.4912 - val_soft_binary_crossentropy_inet_decision_function_fv_metric: 0.5812 - val_binary_accuracy_inet_decision_function_fv_metric: 0.7599\n",
      "Epoch 199/500\n",
      "36/36 - 18s - loss: 0.4755 - soft_binary_crossentropy_inet_decision_function_fv_metric: 0.5707 - binary_accuracy_inet_decision_function_fv_metric: 0.7674 - val_loss: 0.4890 - val_soft_binary_crossentropy_inet_decision_function_fv_metric: 0.5794 - val_binary_accuracy_inet_decision_function_fv_metric: 0.7589\n",
      "Epoch 200/500\n",
      "36/36 - 18s - loss: 0.4712 - soft_binary_crossentropy_inet_decision_function_fv_metric: 0.5695 - binary_accuracy_inet_decision_function_fv_metric: 0.7699 - val_loss: 0.4856 - val_soft_binary_crossentropy_inet_decision_function_fv_metric: 0.5774 - val_binary_accuracy_inet_decision_function_fv_metric: 0.7645\n",
      "Epoch 201/500\n",
      "36/36 - 16s - loss: 0.4689 - soft_binary_crossentropy_inet_decision_function_fv_metric: 0.5684 - binary_accuracy_inet_decision_function_fv_metric: 0.7715 - val_loss: 0.4904 - val_soft_binary_crossentropy_inet_decision_function_fv_metric: 0.5804 - val_binary_accuracy_inet_decision_function_fv_metric: 0.7597\n",
      "Epoch 202/500\n",
      "36/36 - 17s - loss: 0.4691 - soft_binary_crossentropy_inet_decision_function_fv_metric: 0.5688 - binary_accuracy_inet_decision_function_fv_metric: 0.7703 - val_loss: 0.4906 - val_soft_binary_crossentropy_inet_decision_function_fv_metric: 0.5802 - val_binary_accuracy_inet_decision_function_fv_metric: 0.7596\n",
      "Epoch 203/500\n",
      "36/36 - 18s - loss: 0.4790 - soft_binary_crossentropy_inet_decision_function_fv_metric: 0.5739 - binary_accuracy_inet_decision_function_fv_metric: 0.7622 - val_loss: 0.4921 - val_soft_binary_crossentropy_inet_decision_function_fv_metric: 0.5810 - val_binary_accuracy_inet_decision_function_fv_metric: 0.7574\n",
      "Epoch 204/500\n",
      "36/36 - 16s - loss: 0.4727 - soft_binary_crossentropy_inet_decision_function_fv_metric: 0.5707 - binary_accuracy_inet_decision_function_fv_metric: 0.7690 - val_loss: 0.4850 - val_soft_binary_crossentropy_inet_decision_function_fv_metric: 0.5775 - val_binary_accuracy_inet_decision_function_fv_metric: 0.7633\n",
      "Epoch 205/500\n",
      "36/36 - 15s - loss: 0.4690 - soft_binary_crossentropy_inet_decision_function_fv_metric: 0.5689 - binary_accuracy_inet_decision_function_fv_metric: 0.7703 - val_loss: 0.4889 - val_soft_binary_crossentropy_inet_decision_function_fv_metric: 0.5797 - val_binary_accuracy_inet_decision_function_fv_metric: 0.7596\n",
      "Epoch 206/500\n",
      "36/36 - 17s - loss: 0.4706 - soft_binary_crossentropy_inet_decision_function_fv_metric: 0.5687 - binary_accuracy_inet_decision_function_fv_metric: 0.7698 - val_loss: 0.4894 - val_soft_binary_crossentropy_inet_decision_function_fv_metric: 0.5791 - val_binary_accuracy_inet_decision_function_fv_metric: 0.7602\n",
      "Epoch 207/500\n",
      "36/36 - 16s - loss: 0.4771 - soft_binary_crossentropy_inet_decision_function_fv_metric: 0.5730 - binary_accuracy_inet_decision_function_fv_metric: 0.7636 - val_loss: 0.4970 - val_soft_binary_crossentropy_inet_decision_function_fv_metric: 0.5840 - val_binary_accuracy_inet_decision_function_fv_metric: 0.7542\n",
      "Epoch 208/500\n",
      "36/36 - 17s - loss: 0.4805 - soft_binary_crossentropy_inet_decision_function_fv_metric: 0.5742 - binary_accuracy_inet_decision_function_fv_metric: 0.7613 - val_loss: 0.4944 - val_soft_binary_crossentropy_inet_decision_function_fv_metric: 0.5828 - val_binary_accuracy_inet_decision_function_fv_metric: 0.7567\n",
      "Epoch 209/500\n",
      "36/36 - 17s - loss: 0.4804 - soft_binary_crossentropy_inet_decision_function_fv_metric: 0.5739 - binary_accuracy_inet_decision_function_fv_metric: 0.7612 - val_loss: 0.4972 - val_soft_binary_crossentropy_inet_decision_function_fv_metric: 0.5847 - val_binary_accuracy_inet_decision_function_fv_metric: 0.7523\n",
      "Epoch 210/500\n",
      "36/36 - 17s - loss: 0.4828 - soft_binary_crossentropy_inet_decision_function_fv_metric: 0.5758 - binary_accuracy_inet_decision_function_fv_metric: 0.7579 - val_loss: 0.4963 - val_soft_binary_crossentropy_inet_decision_function_fv_metric: 0.5837 - val_binary_accuracy_inet_decision_function_fv_metric: 0.7525\n",
      "Epoch 211/500\n",
      "36/36 - 15s - loss: 0.4765 - soft_binary_crossentropy_inet_decision_function_fv_metric: 0.5722 - binary_accuracy_inet_decision_function_fv_metric: 0.7645 - val_loss: 0.4868 - val_soft_binary_crossentropy_inet_decision_function_fv_metric: 0.5772 - val_binary_accuracy_inet_decision_function_fv_metric: 0.7617\n",
      "Epoch 212/500\n",
      "36/36 - 16s - loss: 0.4763 - soft_binary_crossentropy_inet_decision_function_fv_metric: 0.5725 - binary_accuracy_inet_decision_function_fv_metric: 0.7651 - val_loss: 0.4897 - val_soft_binary_crossentropy_inet_decision_function_fv_metric: 0.5793 - val_binary_accuracy_inet_decision_function_fv_metric: 0.7583\n",
      "Epoch 213/500\n",
      "36/36 - 17s - loss: 0.4745 - soft_binary_crossentropy_inet_decision_function_fv_metric: 0.5709 - binary_accuracy_inet_decision_function_fv_metric: 0.7664 - val_loss: 0.4867 - val_soft_binary_crossentropy_inet_decision_function_fv_metric: 0.5783 - val_binary_accuracy_inet_decision_function_fv_metric: 0.7635\n",
      "Epoch 214/500\n",
      "36/36 - 17s - loss: 0.4779 - soft_binary_crossentropy_inet_decision_function_fv_metric: 0.5728 - binary_accuracy_inet_decision_function_fv_metric: 0.7636 - val_loss: 0.4892 - val_soft_binary_crossentropy_inet_decision_function_fv_metric: 0.5787 - val_binary_accuracy_inet_decision_function_fv_metric: 0.7595\n",
      "Epoch 215/500\n",
      "36/36 - 17s - loss: 0.4740 - soft_binary_crossentropy_inet_decision_function_fv_metric: 0.5708 - binary_accuracy_inet_decision_function_fv_metric: 0.7666 - val_loss: 0.4898 - val_soft_binary_crossentropy_inet_decision_function_fv_metric: 0.5803 - val_binary_accuracy_inet_decision_function_fv_metric: 0.7586\n",
      "Epoch 216/500\n",
      "36/36 - 19s - loss: 0.4755 - soft_binary_crossentropy_inet_decision_function_fv_metric: 0.5724 - binary_accuracy_inet_decision_function_fv_metric: 0.7642 - val_loss: 0.4868 - val_soft_binary_crossentropy_inet_decision_function_fv_metric: 0.5783 - val_binary_accuracy_inet_decision_function_fv_metric: 0.7646\n",
      "Epoch 217/500\n",
      "36/36 - 19s - loss: 0.4703 - soft_binary_crossentropy_inet_decision_function_fv_metric: 0.5686 - binary_accuracy_inet_decision_function_fv_metric: 0.7710 - val_loss: 0.4911 - val_soft_binary_crossentropy_inet_decision_function_fv_metric: 0.5808 - val_binary_accuracy_inet_decision_function_fv_metric: 0.7588\n",
      "Epoch 218/500\n",
      "36/36 - 15s - loss: 0.4807 - soft_binary_crossentropy_inet_decision_function_fv_metric: 0.5750 - binary_accuracy_inet_decision_function_fv_metric: 0.7603 - val_loss: 0.4915 - val_soft_binary_crossentropy_inet_decision_function_fv_metric: 0.5813 - val_binary_accuracy_inet_decision_function_fv_metric: 0.7597\n",
      "Epoch 219/500\n",
      "36/36 - 16s - loss: 0.4827 - soft_binary_crossentropy_inet_decision_function_fv_metric: 0.5758 - binary_accuracy_inet_decision_function_fv_metric: 0.7590 - val_loss: 0.4976 - val_soft_binary_crossentropy_inet_decision_function_fv_metric: 0.5835 - val_binary_accuracy_inet_decision_function_fv_metric: 0.7542\n",
      "Epoch 220/500\n",
      "36/36 - 17s - loss: 0.4841 - soft_binary_crossentropy_inet_decision_function_fv_metric: 0.5765 - binary_accuracy_inet_decision_function_fv_metric: 0.7567 - val_loss: 0.4923 - val_soft_binary_crossentropy_inet_decision_function_fv_metric: 0.5818 - val_binary_accuracy_inet_decision_function_fv_metric: 0.7587\n",
      "Epoch 221/500\n",
      "36/36 - 17s - loss: 0.4803 - soft_binary_crossentropy_inet_decision_function_fv_metric: 0.5750 - binary_accuracy_inet_decision_function_fv_metric: 0.7600 - val_loss: 0.4894 - val_soft_binary_crossentropy_inet_decision_function_fv_metric: 0.5800 - val_binary_accuracy_inet_decision_function_fv_metric: 0.7613\n",
      "Epoch 222/500\n",
      "36/36 - 18s - loss: 0.4773 - soft_binary_crossentropy_inet_decision_function_fv_metric: 0.5721 - binary_accuracy_inet_decision_function_fv_metric: 0.7637 - val_loss: 0.4892 - val_soft_binary_crossentropy_inet_decision_function_fv_metric: 0.5801 - val_binary_accuracy_inet_decision_function_fv_metric: 0.7605\n",
      "Epoch 223/500\n",
      "36/36 - 18s - loss: 0.4771 - soft_binary_crossentropy_inet_decision_function_fv_metric: 0.5723 - binary_accuracy_inet_decision_function_fv_metric: 0.7635 - val_loss: 0.4955 - val_soft_binary_crossentropy_inet_decision_function_fv_metric: 0.5830 - val_binary_accuracy_inet_decision_function_fv_metric: 0.7543\n",
      "Epoch 224/500\n",
      "36/36 - 16s - loss: 0.4798 - soft_binary_crossentropy_inet_decision_function_fv_metric: 0.5744 - binary_accuracy_inet_decision_function_fv_metric: 0.7600 - val_loss: 0.4932 - val_soft_binary_crossentropy_inet_decision_function_fv_metric: 0.5820 - val_binary_accuracy_inet_decision_function_fv_metric: 0.7567\n",
      "Epoch 225/500\n",
      "36/36 - 16s - loss: 0.4784 - soft_binary_crossentropy_inet_decision_function_fv_metric: 0.5738 - binary_accuracy_inet_decision_function_fv_metric: 0.7615 - val_loss: 0.4898 - val_soft_binary_crossentropy_inet_decision_function_fv_metric: 0.5793 - val_binary_accuracy_inet_decision_function_fv_metric: 0.7577\n",
      "Epoch 226/500\n",
      "36/36 - 17s - loss: 0.4767 - soft_binary_crossentropy_inet_decision_function_fv_metric: 0.5725 - binary_accuracy_inet_decision_function_fv_metric: 0.7647 - val_loss: 0.4886 - val_soft_binary_crossentropy_inet_decision_function_fv_metric: 0.5789 - val_binary_accuracy_inet_decision_function_fv_metric: 0.7589\n",
      "Epoch 227/500\n",
      "36/36 - 17s - loss: 0.4757 - soft_binary_crossentropy_inet_decision_function_fv_metric: 0.5715 - binary_accuracy_inet_decision_function_fv_metric: 0.7661 - val_loss: 0.4864 - val_soft_binary_crossentropy_inet_decision_function_fv_metric: 0.5780 - val_binary_accuracy_inet_decision_function_fv_metric: 0.7652\n",
      "Epoch 228/500\n",
      "36/36 - 16s - loss: 0.4739 - soft_binary_crossentropy_inet_decision_function_fv_metric: 0.5704 - binary_accuracy_inet_decision_function_fv_metric: 0.7678 - val_loss: 0.4843 - val_soft_binary_crossentropy_inet_decision_function_fv_metric: 0.5766 - val_binary_accuracy_inet_decision_function_fv_metric: 0.7638\n",
      "Epoch 229/500\n",
      "36/36 - 16s - loss: 0.4698 - soft_binary_crossentropy_inet_decision_function_fv_metric: 0.5689 - binary_accuracy_inet_decision_function_fv_metric: 0.7704 - val_loss: 0.4788 - val_soft_binary_crossentropy_inet_decision_function_fv_metric: 0.5744 - val_binary_accuracy_inet_decision_function_fv_metric: 0.7709\n",
      "Epoch 230/500\n",
      "36/36 - 17s - loss: 0.4651 - soft_binary_crossentropy_inet_decision_function_fv_metric: 0.5655 - binary_accuracy_inet_decision_function_fv_metric: 0.7757 - val_loss: 0.4801 - val_soft_binary_crossentropy_inet_decision_function_fv_metric: 0.5752 - val_binary_accuracy_inet_decision_function_fv_metric: 0.7698\n",
      "Epoch 231/500\n",
      "36/36 - 18s - loss: 0.4648 - soft_binary_crossentropy_inet_decision_function_fv_metric: 0.5662 - binary_accuracy_inet_decision_function_fv_metric: 0.7747 - val_loss: 0.4769 - val_soft_binary_crossentropy_inet_decision_function_fv_metric: 0.5731 - val_binary_accuracy_inet_decision_function_fv_metric: 0.7706\n",
      "Epoch 232/500\n",
      "36/36 - 19s - loss: 0.4692 - soft_binary_crossentropy_inet_decision_function_fv_metric: 0.5687 - binary_accuracy_inet_decision_function_fv_metric: 0.7710 - val_loss: 0.4847 - val_soft_binary_crossentropy_inet_decision_function_fv_metric: 0.5763 - val_binary_accuracy_inet_decision_function_fv_metric: 0.7641\n",
      "Epoch 233/500\n",
      "36/36 - 18s - loss: 0.4707 - soft_binary_crossentropy_inet_decision_function_fv_metric: 0.5699 - binary_accuracy_inet_decision_function_fv_metric: 0.7686 - val_loss: 0.4833 - val_soft_binary_crossentropy_inet_decision_function_fv_metric: 0.5774 - val_binary_accuracy_inet_decision_function_fv_metric: 0.7654\n",
      "Epoch 234/500\n",
      "36/36 - 18s - loss: 0.4672 - soft_binary_crossentropy_inet_decision_function_fv_metric: 0.5678 - binary_accuracy_inet_decision_function_fv_metric: 0.7713 - val_loss: 0.4820 - val_soft_binary_crossentropy_inet_decision_function_fv_metric: 0.5752 - val_binary_accuracy_inet_decision_function_fv_metric: 0.7677\n",
      "Epoch 235/500\n",
      "36/36 - 18s - loss: 0.4684 - soft_binary_crossentropy_inet_decision_function_fv_metric: 0.5682 - binary_accuracy_inet_decision_function_fv_metric: 0.7711 - val_loss: 0.4792 - val_soft_binary_crossentropy_inet_decision_function_fv_metric: 0.5747 - val_binary_accuracy_inet_decision_function_fv_metric: 0.7688\n",
      "Epoch 236/500\n",
      "36/36 - 16s - loss: 0.4676 - soft_binary_crossentropy_inet_decision_function_fv_metric: 0.5675 - binary_accuracy_inet_decision_function_fv_metric: 0.7724 - val_loss: 0.4815 - val_soft_binary_crossentropy_inet_decision_function_fv_metric: 0.5756 - val_binary_accuracy_inet_decision_function_fv_metric: 0.7679\n",
      "Training Time: 1:07:06\n",
      "---------------------------------------------------------------------------------------------------------------------------\n",
      "------------------------------------------------------ LOADING MODELS -----------------------------------------------------\n",
      "Loading Time: 0:00:01\n"
     ]
    },
    {
     "data": {
      "text/plain": [
       "<Figure size 432x288 with 0 Axes>"
      ]
     },
     "metadata": {},
     "output_type": "display_data"
    }
   ],
   "source": [
    "#%autoreload 2\n",
    "((X_valid, y_valid), \n",
    " (X_test, y_test),\n",
    " \n",
    " history,\n",
    " loss_function,\n",
    " metrics,\n",
    " \n",
    " model,\n",
    " encoder_model) = interpretation_net_training(\n",
    "                                      lambda_net_dataset_train, \n",
    "                                      lambda_net_dataset_valid, \n",
    "                                      lambda_net_dataset_test,\n",
    "                                      config,\n",
    "                                      #callback_names=['tensorboard'] #plot_losses\n",
    "                                     )\n",
    "\n"
   ]
  },
  {
   "cell_type": "code",
   "execution_count": 17,
   "metadata": {
    "execution": {
     "iopub.execute_input": "2022-01-14T21:11:58.077531Z",
     "iopub.status.busy": "2022-01-14T21:11:58.077201Z",
     "iopub.status.idle": "2022-01-14T21:11:58.406064Z",
     "shell.execute_reply": "2022-01-14T21:11:58.405320Z",
     "shell.execute_reply.started": "2022-01-14T21:11:58.077504Z"
    },
    "tags": []
   },
   "outputs": [
    {
     "data": {
      "image/png": "[encoded data removed]",
      "text/plain": [
       "<Figure size 432x288 with 1 Axes>"
      ]
     },
     "metadata": {},
     "output_type": "display_data"
    }
   ],
   "source": [
    "if nas:\n",
    "    for trial in history: \n",
    "        print(trial.summary())\n",
    "        \n",
    "    writepath_nas = './results_nas.csv'\n",
    "\n",
    "    if different_eval_data:\n",
    "        flat_config = flatten_dict(config_train)\n",
    "    else:\n",
    "        flat_config = flatten_dict(config)    \n",
    "\n",
    "    if not os.path.exists(writepath_nas):\n",
    "        with open(writepath_nas, 'w+') as text_file:       \n",
    "            for key in flat_config.keys():\n",
    "                text_file.write(key)\n",
    "                text_file.write(';')         \n",
    "\n",
    "            for hp in history[0].hyperparameters.values.keys():\n",
    "                text_file.write(hp + ';')    \n",
    "               \n",
    "            text_file.write('score')\n",
    "            \n",
    "            text_file.write('\\n')\n",
    "\n",
    "    with open(writepath_nas, 'a+') as text_file:  \n",
    "        for value in flat_config.values():\n",
    "            text_file.write(str(value))\n",
    "            text_file.write(';')\n",
    "\n",
    "        for hp, value in history[0].hyperparameters.values.items():\n",
    "            text_file.write(str(value) + ';')        \n",
    "\n",
    "        \n",
    "        text_file.write(str(history[0].score))\n",
    "            \n",
    "        text_file.write('\\n')            \n",
    "\n",
    "        text_file.close()      \n",
    "        \n",
    "else:\n",
    "    plt.plot(history['loss'])\n",
    "    plt.plot(history['val_loss'])\n",
    "    plt.title('model loss')\n",
    "    plt.ylabel('loss')\n",
    "    plt.xlabel('epoch')\n",
    "    plt.legend(['train', 'valid'], loc='upper left')    "
   ]
  },
  {
   "cell_type": "code",
   "execution_count": 18,
   "metadata": {
    "execution": {
     "iopub.execute_input": "2022-01-14T21:11:58.408085Z",
     "iopub.status.busy": "2022-01-14T21:11:58.407453Z",
     "iopub.status.idle": "2022-01-14T21:12:00.107984Z",
     "shell.execute_reply": "2022-01-14T21:12:00.106964Z",
     "shell.execute_reply.started": "2022-01-14T21:11:58.408060Z"
    },
    "tags": []
   },
   "outputs": [
    {
     "data": {
      "image/png": "[encoded data removed]",
      "text/plain": [
       "<IPython.core.display.Image object>"
      ]
     },
     "execution_count": 18,
     "metadata": {},
     "output_type": "execute_result"
    }
   ],
   "source": [
    "index = 0\n",
    "if test_size > 0:\n",
    "    network_parameters = np.array([lambda_net_dataset_test.network_parameters_array[index]])\n",
    "else:\n",
    "    network_parameters = np.array([lambda_net_dataset_valid.network_parameters_array[index]])\n",
    "    \n",
    "if config['i_net']['data_reshape_version'] == 1 or config['i_net']['data_reshape_version'] == 2:\n",
    "    network_parameters, network_parameters_flat = restructure_data_cnn_lstm(network_parameters, config, subsequences=None)\n",
    "elif config['i_net']['data_reshape_version'] == 3: #autoencoder\n",
    "    network_parameters, network_parameters_flat, _ = autoencode_data(network_parameters, config, encoder_model)    \n",
    "dt_parameters = model.predict(network_parameters)[0]\n",
    "\n",
    "if config['function_family']['dt_type'] == 'vanilla':\n",
    "    image, nodes = anytree_decision_tree_from_parameters(dt_parameters, config=config)\n",
    "else:\n",
    "    tree = generate_random_decision_tree(config)\n",
    "    tree.initialize_from_parameter_array(dt_parameters, reshape=True, config=config)\n",
    "    image = tree.plot_tree()\n",
    "image"
   ]
  },
  {
   "cell_type": "code",
   "execution_count": 19,
   "metadata": {
    "execution": {
     "iopub.execute_input": "2022-01-14T21:12:00.109863Z",
     "iopub.status.busy": "2022-01-14T21:12:00.109544Z",
     "iopub.status.idle": "2022-01-14T21:12:00.115811Z",
     "shell.execute_reply": "2022-01-14T21:12:00.115042Z",
     "shell.execute_reply.started": "2022-01-14T21:12:00.109823Z"
    }
   },
   "outputs": [
    {
     "data": {
      "text/plain": [
       "(93,)"
      ]
     },
     "execution_count": 19,
     "metadata": {},
     "output_type": "execute_result"
    }
   ],
   "source": [
    "dt_parameters.shape"
   ]
  },
  {
   "cell_type": "code",
   "execution_count": 20,
   "metadata": {
    "execution": {
     "iopub.execute_input": "2022-01-14T21:12:00.117397Z",
     "iopub.status.busy": "2022-01-14T21:12:00.116903Z",
     "iopub.status.idle": "2022-01-14T21:12:00.170534Z",
     "shell.execute_reply": "2022-01-14T21:12:00.168120Z",
     "shell.execute_reply.started": "2022-01-14T21:12:00.117368Z"
    },
    "tags": []
   },
   "outputs": [
    {
     "name": "stdout",
     "output_type": "stream",
     "text": [
      "Model: \"model\"\n",
      "__________________________________________________________________________________________________\n",
      "Layer (type)                    Output Shape         Param #     Connected to                     \n",
      "==================================================================================================\n",
      "input (InputLayer)              [(None, 1537)]       0                                            \n",
      "__________________________________________________________________________________________________\n",
      "hidden1_1024 (Dense)            (None, 1024)         1574912     input[0][0]                      \n",
      "__________________________________________________________________________________________________\n",
      "activation1_relu (Activation)   (None, 1024)         0           hidden1_1024[0][0]               \n",
      "__________________________________________________________________________________________________\n",
      "dropout1_0.3 (Dropout)          (None, 1024)         0           activation1_relu[0][0]           \n",
      "__________________________________________________________________________________________________\n",
      "hidden2_1024 (Dense)            (None, 1024)         1049600     dropout1_0.3[0][0]               \n",
      "__________________________________________________________________________________________________\n",
      "activation2_relu (Activation)   (None, 1024)         0           hidden2_1024[0][0]               \n",
      "__________________________________________________________________________________________________\n",
      "dropout2_0.3 (Dropout)          (None, 1024)         0           activation2_relu[0][0]           \n",
      "__________________________________________________________________________________________________\n",
      "hidden3_256 (Dense)             (None, 256)          262400      dropout2_0.3[0][0]               \n",
      "__________________________________________________________________________________________________\n",
      "activation3_relu (Activation)   (None, 256)          0           hidden3_256[0][0]                \n",
      "__________________________________________________________________________________________________\n",
      "dropout3_0.3 (Dropout)          (None, 256)          0           activation3_relu[0][0]           \n",
      "__________________________________________________________________________________________________\n",
      "hidden4_2048 (Dense)            (None, 2048)         526336      dropout3_0.3[0][0]               \n",
      "__________________________________________________________________________________________________\n",
      "activation4_relu (Activation)   (None, 2048)         0           hidden4_2048[0][0]               \n",
      "__________________________________________________________________________________________________\n",
      "dropout4_0.3 (Dropout)          (None, 2048)         0           activation4_relu[0][0]           \n",
      "__________________________________________________________________________________________________\n",
      "hidden5_2048 (Dense)            (None, 2048)         4196352     dropout4_0.3[0][0]               \n",
      "__________________________________________________________________________________________________\n",
      "activation5_relu (Activation)   (None, 2048)         0           hidden5_2048[0][0]               \n",
      "__________________________________________________________________________________________________\n",
      "dropout5_0.3 (Dropout)          (None, 2048)         0           activation5_relu[0][0]           \n",
      "__________________________________________________________________________________________________\n",
      "dense_4 (Dense)                 (None, 70)           143430      dropout5_0.3[0][0]               \n",
      "__________________________________________________________________________________________________\n",
      "output_bias_7 (Dense)           (None, 7)            14343       dropout5_0.3[0][0]               \n",
      "__________________________________________________________________________________________________\n",
      "output_leaf_nodes_16 (Dense)    (None, 16)           32784       dropout5_0.3[0][0]               \n",
      "__________________________________________________________________________________________________\n",
      "output_combined (Concatenate)   (None, 93)           0           dense_4[0][0]                    \n",
      "                                                                 output_bias_7[0][0]              \n",
      "                                                                 output_leaf_nodes_16[0][0]       \n",
      "==================================================================================================\n",
      "Total params: 7,800,157\n",
      "Trainable params: 7,800,157\n",
      "Non-trainable params: 0\n",
      "__________________________________________________________________________________________________\n"
     ]
    }
   ],
   "source": [
    "model.summary()"
   ]
  },
  {
   "cell_type": "code",
   "execution_count": 21,
   "metadata": {
    "execution": {
     "iopub.execute_input": "2022-01-14T21:12:00.172678Z",
     "iopub.status.busy": "2022-01-14T21:12:00.172351Z",
     "iopub.status.idle": "2022-01-14T21:14:47.609019Z",
     "shell.execute_reply": "2022-01-14T21:14:47.608187Z",
     "shell.execute_reply.started": "2022-01-14T21:12:00.172643Z"
    },
    "tags": []
   },
   "outputs": [
    {
     "name": "stderr",
     "output_type": "stream",
     "text": [
      "[Parallel(n_jobs=5)]: Using backend LokyBackend with 5 concurrent workers.\n",
      "[Parallel(n_jobs=5)]: Done   2 out of   5 | elapsed:  1.4min remaining:  2.1min\n",
      "[Parallel(n_jobs=5)]: Done   5 out of   5 | elapsed:  1.5min finished\n"
     ]
    },
    {
     "data": {
      "application/vnd.jupyter.widget-view+json": {
       "model_id": "79c57f3c67a743e18c9501184dc3684c",
       "version_major": 2,
       "version_minor": 0
      },
      "text/plain": [
       "  0%|          | 0/5 [00:00<?, ?it/s]"
      ]
     },
     "metadata": {},
     "output_type": "display_data"
    },
    {
     "name": "stderr",
     "output_type": "stream",
     "text": [
      "[Parallel(n_jobs=5)]: Using backend LokyBackend with 5 concurrent workers.\n",
      "[Parallel(n_jobs=5)]: Done   2 out of   5 | elapsed:  1.2min remaining:  1.8min\n",
      "[Parallel(n_jobs=5)]: Done   5 out of   5 | elapsed:  1.3min finished\n"
     ]
    },
    {
     "data": {
      "application/vnd.jupyter.widget-view+json": {
       "model_id": "2d75c9d23b2f4409ae1796adbdff5d75",
       "version_major": 2,
       "version_minor": 0
      },
      "text/plain": [
       "  0%|          | 0/5 [00:00<?, ?it/s]"
      ]
     },
     "metadata": {},
     "output_type": "display_data"
    }
   ],
   "source": [
    "\n",
    "mean_train_parameters = np.round(np.mean(lambda_net_dataset_train.network_parameters_array, axis=0), 5)\n",
    "std_train_parameters = np.round(np.std(lambda_net_dataset_train.network_parameters_array, axis=0), 5)\n",
    "\n",
    "(inet_evaluation_result_dict_train, \n",
    " inet_evaluation_result_dict_mean_train, \n",
    " dt_distilled_list_train,\n",
    " distances_dict) = evaluate_interpretation_net_synthetic_data(lambda_net_dataset_train.network_parameters_array, \n",
    "                                                               lambda_net_dataset_train.X_test_lambda_array,\n",
    "                                                               model,\n",
    "                                                               config,\n",
    "                                                               identifier='train',\n",
    "                                                               mean_train_parameters=mean_train_parameters,\n",
    "                                                               std_train_parameters=std_train_parameters,\n",
    "                                                               network_parameters_train_array=lambda_net_dataset_train.network_parameters_array)\n",
    "\n",
    "\n",
    "(inet_evaluation_result_dict_valid, \n",
    " inet_evaluation_result_dict_mean_valid, \n",
    " dt_distilled_list_valid,\n",
    " distances_dict) = evaluate_interpretation_net_synthetic_data(lambda_net_dataset_valid.network_parameters_array, \n",
    "                                                               lambda_net_dataset_valid.X_test_lambda_array,\n",
    "                                                               model,\n",
    "                                                               config,\n",
    "                                                               identifier='valid',\n",
    "                                                               mean_train_parameters=mean_train_parameters,\n",
    "                                                               std_train_parameters=std_train_parameters,\n",
    "                                                               network_parameters_train_array=lambda_net_dataset_train.network_parameters_array,\n",
    "                                                               distances_dict=distances_dict)"
   ]
  },
  {
   "cell_type": "markdown",
   "metadata": {},
   "source": [
    "    Normal: This is useful for looking at means and other linear combinations (e.g. regression coefficients) because of the CLT. Related to that is if something is known to arise due to additive effects of many different small causes then the normal may be a reasonable distribution: for example, many biological measures are the result of multiple genes and multiple environmental factors and therefor are often approximately normal.\n",
    "\n",
    "    Gamma: Right skewed and useful for things with a natural minimum at 0. Commonly used for elapsed times and some financial variables.\n",
    "\n",
    "    Exponential: special case of the Gamma. It is memoryless and scales easily.\n",
    "\n",
    "    Chi-squared (𝜒2): special case of the Gamma. Arises as sum of squared normal variables (so used for variances).\n",
    "\n",
    "    Beta: Defined between 0 and 1 (but could be transformed to be between other values), useful for proportions or other quantities that must be between 0 and 1.\n",
    "\n",
    "    Binomial: How many \"successes\" out of a given number of independent trials with same probability of \"success\".\n",
    "\n",
    "    Poisson: Common for counts. Nice properties that if the number of events in a period of time or area follows a Poisson, then the number in twice the time or area still follows the Poisson (with twice the mean): this works for adding Poissons or scaling with values other than 2.\n",
    "\n",
    "    Note that if events occur over time and the time between occurrences follows an exponential then the number that occur in a time period follows a Poisson.\n",
    "\n",
    "    Negative Binomial: Counts with minimum 0 (or other value depending on which version) and no upper bound. Conceptually it is the number of \"failures\" before k \"successes\". The negative binomial is also a mixture of Poisson variables whose means come from a gamma distribution.\n",
    "\n",
    "    Geometric: special case for negative binomial where it is the number of \"failures\" before the 1st \"success\". If you truncate (round down) an exponential variable to make it discrete, the result is geometric."
   ]
  },
  {
   "cell_type": "code",
   "execution_count": 22,
   "metadata": {
    "execution": {
     "iopub.execute_input": "2022-01-14T21:14:47.610545Z",
     "iopub.status.busy": "2022-01-14T21:14:47.610191Z",
     "iopub.status.idle": "2022-01-14T21:14:49.606883Z",
     "shell.execute_reply": "2022-01-14T21:14:49.605395Z",
     "shell.execute_reply.started": "2022-01-14T21:14:47.610516Z"
    },
    "tags": []
   },
   "outputs": [],
   "source": [
    "%load_ext autoreload\n",
    "%autoreload 2\n",
    "#set_loky_pickler('pickle')"
   ]
  },
  {
   "cell_type": "code",
   "execution_count": 23,
   "metadata": {
    "execution": {
     "iopub.execute_input": "2022-01-14T21:14:49.608127Z",
     "iopub.status.busy": "2022-01-14T21:14:49.607949Z",
     "iopub.status.idle": "2022-01-14T21:14:49.690894Z",
     "shell.execute_reply": "2022-01-14T21:14:49.689808Z",
     "shell.execute_reply.started": "2022-01-14T21:14:49.608106Z"
    },
    "tags": []
   },
   "outputs": [],
   "source": [
    "#print(inet_evaluation_result_dict_valid)\n",
    "#print(inet_evaluation_result_dict_mean_valid)\n",
    "#print(dt_distilled_list_valid)\n",
    "#print(distances_dict)"
   ]
  },
  {
   "cell_type": "code",
   "execution_count": 24,
   "metadata": {
    "execution": {
     "iopub.execute_input": "2022-01-14T21:14:49.692492Z",
     "iopub.status.busy": "2022-01-14T21:14:49.692153Z",
     "iopub.status.idle": "2022-01-14T21:14:49.767759Z",
     "shell.execute_reply": "2022-01-14T21:14:49.767057Z",
     "shell.execute_reply.started": "2022-01-14T21:14:49.692456Z"
    },
    "tags": []
   },
   "outputs": [],
   "source": [
    "config['i_net']['test_size'] = 10"
   ]
  },
  {
   "cell_type": "code",
   "execution_count": 25,
   "metadata": {
    "execution": {
     "iopub.execute_input": "2022-01-14T21:14:49.771535Z",
     "iopub.status.busy": "2022-01-14T21:14:49.771252Z",
     "iopub.status.idle": "2022-01-14T23:14:39.806071Z",
     "shell.execute_reply": "2022-01-14T23:14:39.805518Z",
     "shell.execute_reply.started": "2022-01-14T21:14:49.771504Z"
    },
    "tags": []
   },
   "outputs": [
    {
     "name": "stdout",
     "output_type": "stream",
     "text": [
      "[Parallel(n_jobs=5)]: Using backend SequentialBackend with 1 concurrent workers.\n"
     ]
    },
    {
     "data": {
      "application/vnd.jupyter.widget-view+json": {
       "model_id": "34df373b54844ec38e5431a22f9fbe21",
       "version_major": 2,
       "version_minor": 0
      },
      "text/plain": [
       "  0%|          | 0/50 [00:00<?, ?it/s]"
      ]
     },
     "metadata": {},
     "output_type": "display_data"
    },
    {
     "data": {
      "application/vnd.jupyter.widget-view+json": {
       "model_id": "383c127794684d6ea3cde44adff3eeaf",
       "version_major": 2,
       "version_minor": 0
      },
      "text/plain": [
       "  0%|          | 0/50 [00:00<?, ?it/s]"
      ]
     },
     "metadata": {},
     "output_type": "display_data"
    },
    {
     "data": {
      "application/vnd.jupyter.widget-view+json": {
       "model_id": "004524d5e4f34570b63a1418be60fab8",
       "version_major": 2,
       "version_minor": 0
      },
      "text/plain": [
       "  0%|          | 0/50 [00:00<?, ?it/s]"
      ]
     },
     "metadata": {},
     "output_type": "display_data"
    },
    {
     "name": "stdout",
     "output_type": "stream",
     "text": [
      "  0%|          | 0/50 [00:00<?, ?it/s]\n",
      "  0%|          | 0/50 [00:00<?, ?it/s]\n",
      "  0%|          | 0/50 [00:00<?, ?it/s]\n",
      "  0%|          | 0/50 [00:00<?, ?it/s]\n",
      "  0%|          | 0/50 [00:00<?, ?it/s]\n",
      "  0%|          | 0/50 [00:00<?, ?it/s]\n",
      "  0%|          | 0/50 [00:00<?, ?it/s]\n",
      "  0%|          | 0/50 [00:00<?, ?it/s]\n",
      "  0%|          | 0/50 [00:00<?, ?it/s]\n",
      "  0%|          | 0/50 [00:00<?, ?it/s]\n"
     ]
    },
    {
     "data": {
      "application/vnd.jupyter.widget-view+json": {
       "model_id": "33365f7ea8a64163808d1cf04b92f439",
       "version_major": 2,
       "version_minor": 0
      },
      "text/plain": [
       "  0%|          | 0/50 [00:00<?, ?it/s]"
      ]
     },
     "metadata": {},
     "output_type": "display_data"
    },
    {
     "data": {
      "application/vnd.jupyter.widget-view+json": {
       "model_id": "68192641919c4706a205b2839c5ca0d4",
       "version_major": 2,
       "version_minor": 0
      },
      "text/plain": [
       "  0%|          | 0/50 [00:00<?, ?it/s]"
      ]
     },
     "metadata": {},
     "output_type": "display_data"
    },
    {
     "data": {
      "application/vnd.jupyter.widget-view+json": {
       "model_id": "090686774ecd46c48be54d5adff2b77e",
       "version_major": 2,
       "version_minor": 0
      },
      "text/plain": [
       "  0%|          | 0/50 [00:00<?, ?it/s]"
      ]
     },
     "metadata": {},
     "output_type": "display_data"
    },
    {
     "data": {
      "application/vnd.jupyter.widget-view+json": {
       "model_id": "fa673d4bc1a74442b29b7cae30c245aa",
       "version_major": 2,
       "version_minor": 0
      },
      "text/plain": [
       "  0%|          | 0/50 [00:00<?, ?it/s]"
      ]
     },
     "metadata": {},
     "output_type": "display_data"
    },
    {
     "data": {
      "application/vnd.jupyter.widget-view+json": {
       "model_id": "2e5b36cc6c1a44fca116e9290628bc57",
       "version_major": 2,
       "version_minor": 0
      },
      "text/plain": [
       "  0%|          | 0/50 [00:00<?, ?it/s]"
      ]
     },
     "metadata": {},
     "output_type": "display_data"
    },
    {
     "data": {
      "application/vnd.jupyter.widget-view+json": {
       "model_id": "bebc3595cd2347998eb887779b48849e",
       "version_major": 2,
       "version_minor": 0
      },
      "text/plain": [
       "  0%|          | 0/50 [00:00<?, ?it/s]"
      ]
     },
     "metadata": {},
     "output_type": "display_data"
    },
    {
     "data": {
      "application/vnd.jupyter.widget-view+json": {
       "model_id": "be3043579fa6459a89d80ab437ce0a9a",
       "version_major": 2,
       "version_minor": 0
      },
      "text/plain": [
       "  0%|          | 0/50 [00:00<?, ?it/s]"
      ]
     },
     "metadata": {},
     "output_type": "display_data"
    },
    {
     "data": {
      "application/vnd.jupyter.widget-view+json": {
       "model_id": "fc46010eee044c98881f5f65105f3cb8",
       "version_major": 2,
       "version_minor": 0
      },
      "text/plain": [
       "  0%|          | 0/50 [00:00<?, ?it/s]"
      ]
     },
     "metadata": {},
     "output_type": "display_data"
    },
    {
     "data": {
      "application/vnd.jupyter.widget-view+json": {
       "model_id": "3cf31a923ff04b02a8bb9b2050d14aaa",
       "version_major": 2,
       "version_minor": 0
      },
      "text/plain": [
       "  0%|          | 0/50 [00:00<?, ?it/s]"
      ]
     },
     "metadata": {},
     "output_type": "display_data"
    },
    {
     "data": {
      "application/vnd.jupyter.widget-view+json": {
       "model_id": "db1a3b3b4bf04e0e81f78690da9b9865",
       "version_major": 2,
       "version_minor": 0
      },
      "text/plain": [
       "  0%|          | 0/50 [00:00<?, ?it/s]"
      ]
     },
     "metadata": {},
     "output_type": "display_data"
    },
    {
     "data": {
      "application/vnd.jupyter.widget-view+json": {
       "model_id": "05234222e6bd404db2b20a7812117cbb",
       "version_major": 2,
       "version_minor": 0
      },
      "text/plain": [
       "  0%|          | 0/50 [00:00<?, ?it/s]"
      ]
     },
     "metadata": {},
     "output_type": "display_data"
    },
    {
     "name": "stdout",
     "output_type": "stream",
     "text": [
      "[Parallel(n_jobs=5)]: Done   1 out of   1 | elapsed: 21.3min remaining:    0.0s\n"
     ]
    },
    {
     "data": {
      "application/vnd.jupyter.widget-view+json": {
       "model_id": "aa3592a33e264d668faed1157426e3af",
       "version_major": 2,
       "version_minor": 0
      },
      "text/plain": [
       "  0%|          | 0/50 [00:00<?, ?it/s]"
      ]
     },
     "metadata": {},
     "output_type": "display_data"
    },
    {
     "data": {
      "application/vnd.jupyter.widget-view+json": {
       "model_id": "2a005882768045f0bc55bd9c8466df62",
       "version_major": 2,
       "version_minor": 0
      },
      "text/plain": [
       "  0%|          | 0/50 [00:00<?, ?it/s]"
      ]
     },
     "metadata": {},
     "output_type": "display_data"
    },
    {
     "data": {
      "application/vnd.jupyter.widget-view+json": {
       "model_id": "fd136e182ed14b129663774dccf39f23",
       "version_major": 2,
       "version_minor": 0
      },
      "text/plain": [
       "  0%|          | 0/50 [00:00<?, ?it/s]"
      ]
     },
     "metadata": {},
     "output_type": "display_data"
    },
    {
     "data": {
      "application/vnd.jupyter.widget-view+json": {
       "model_id": "133c9046d70d4f148bde5577f57a8f8d",
       "version_major": 2,
       "version_minor": 0
      },
      "text/plain": [
       "  0%|          | 0/50 [00:00<?, ?it/s]"
      ]
     },
     "metadata": {},
     "output_type": "display_data"
    },
    {
     "data": {
      "application/vnd.jupyter.widget-view+json": {
       "model_id": "280e1f4cabce4a23bf34b274f220acad",
       "version_major": 2,
       "version_minor": 0
      },
      "text/plain": [
       "  0%|          | 0/50 [00:00<?, ?it/s]"
      ]
     },
     "metadata": {},
     "output_type": "display_data"
    },
    {
     "data": {
      "application/vnd.jupyter.widget-view+json": {
       "model_id": "94ade003d02c45e7a03864bc0fef4c64",
       "version_major": 2,
       "version_minor": 0
      },
      "text/plain": [
       "  0%|          | 0/50 [00:00<?, ?it/s]"
      ]
     },
     "metadata": {},
     "output_type": "display_data"
    },
    {
     "data": {
      "application/vnd.jupyter.widget-view+json": {
       "model_id": "e0570e865f284c38a238bc9cd89397fd",
       "version_major": 2,
       "version_minor": 0
      },
      "text/plain": [
       "  0%|          | 0/50 [00:00<?, ?it/s]"
      ]
     },
     "metadata": {},
     "output_type": "display_data"
    },
    {
     "data": {
      "application/vnd.jupyter.widget-view+json": {
       "model_id": "faea80a86b8a481faad18a9e04061fc4",
       "version_major": 2,
       "version_minor": 0
      },
      "text/plain": [
       "  0%|          | 0/50 [00:00<?, ?it/s]"
      ]
     },
     "metadata": {},
     "output_type": "display_data"
    },
    {
     "data": {
      "application/vnd.jupyter.widget-view+json": {
       "model_id": "f26f3ec55333494ab49e402b9e5e2980",
       "version_major": 2,
       "version_minor": 0
      },
      "text/plain": [
       "  0%|          | 0/50 [00:00<?, ?it/s]"
      ]
     },
     "metadata": {},
     "output_type": "display_data"
    },
    {
     "data": {
      "application/vnd.jupyter.widget-view+json": {
       "model_id": "e71064c43eef4584b27bd915c06e21b3",
       "version_major": 2,
       "version_minor": 0
      },
      "text/plain": [
       "  0%|          | 0/50 [00:00<?, ?it/s]"
      ]
     },
     "metadata": {},
     "output_type": "display_data"
    },
    {
     "data": {
      "application/vnd.jupyter.widget-view+json": {
       "model_id": "280970d3634b432398d98e6c3b6d19fa",
       "version_major": 2,
       "version_minor": 0
      },
      "text/plain": [
       "  0%|          | 0/50 [00:00<?, ?it/s]"
      ]
     },
     "metadata": {},
     "output_type": "display_data"
    },
    {
     "data": {
      "application/vnd.jupyter.widget-view+json": {
       "model_id": "15ccc42456f64883bdca458aed729727",
       "version_major": 2,
       "version_minor": 0
      },
      "text/plain": [
       "  0%|          | 0/50 [00:00<?, ?it/s]"
      ]
     },
     "metadata": {},
     "output_type": "display_data"
    },
    {
     "data": {
      "application/vnd.jupyter.widget-view+json": {
       "model_id": "74823040f15c4ca0a64a98d73badf6d7",
       "version_major": 2,
       "version_minor": 0
      },
      "text/plain": [
       "  0%|          | 0/50 [00:00<?, ?it/s]"
      ]
     },
     "metadata": {},
     "output_type": "display_data"
    },
    {
     "data": {
      "application/vnd.jupyter.widget-view+json": {
       "model_id": "f9f8d27087bd4cbab2e9c85d8f74cd3f",
       "version_major": 2,
       "version_minor": 0
      },
      "text/plain": [
       "  0%|          | 0/50 [00:00<?, ?it/s]"
      ]
     },
     "metadata": {},
     "output_type": "display_data"
    },
    {
     "name": "stdout",
     "output_type": "stream",
     "text": [
      "[Parallel(n_jobs=5)]: Done   2 out of   2 | elapsed: 31.8min remaining:    0.0s\n"
     ]
    },
    {
     "data": {
      "application/vnd.jupyter.widget-view+json": {
       "model_id": "362ec2d30731475ab5e5eb389f4cc15f",
       "version_major": 2,
       "version_minor": 0
      },
      "text/plain": [
       "  0%|          | 0/50 [00:00<?, ?it/s]"
      ]
     },
     "metadata": {},
     "output_type": "display_data"
    },
    {
     "data": {
      "application/vnd.jupyter.widget-view+json": {
       "model_id": "cd5dce4ebc8048bf8f68949f4c7a9686",
       "version_major": 2,
       "version_minor": 0
      },
      "text/plain": [
       "  0%|          | 0/50 [00:00<?, ?it/s]"
      ]
     },
     "metadata": {},
     "output_type": "display_data"
    },
    {
     "data": {
      "application/vnd.jupyter.widget-view+json": {
       "model_id": "65a198e42eb5463e881cb1ab58a9396b",
       "version_major": 2,
       "version_minor": 0
      },
      "text/plain": [
       "  0%|          | 0/50 [00:00<?, ?it/s]"
      ]
     },
     "metadata": {},
     "output_type": "display_data"
    },
    {
     "data": {
      "application/vnd.jupyter.widget-view+json": {
       "model_id": "289626202a434ed69b68c03431be8b4f",
       "version_major": 2,
       "version_minor": 0
      },
      "text/plain": [
       "  0%|          | 0/50 [00:00<?, ?it/s]"
      ]
     },
     "metadata": {},
     "output_type": "display_data"
    },
    {
     "data": {
      "application/vnd.jupyter.widget-view+json": {
       "model_id": "4d1f9a68685946cc84fb7a8c9029ef35",
       "version_major": 2,
       "version_minor": 0
      },
      "text/plain": [
       "  0%|          | 0/50 [00:00<?, ?it/s]"
      ]
     },
     "metadata": {},
     "output_type": "display_data"
    },
    {
     "data": {
      "application/vnd.jupyter.widget-view+json": {
       "model_id": "242478ea86a94d71899b18bdafec302c",
       "version_major": 2,
       "version_minor": 0
      },
      "text/plain": [
       "  0%|          | 0/50 [00:00<?, ?it/s]"
      ]
     },
     "metadata": {},
     "output_type": "display_data"
    },
    {
     "data": {
      "application/vnd.jupyter.widget-view+json": {
       "model_id": "60d3afcaabca425aa2bf2c23b6a11f16",
       "version_major": 2,
       "version_minor": 0
      },
      "text/plain": [
       "  0%|          | 0/50 [00:00<?, ?it/s]"
      ]
     },
     "metadata": {},
     "output_type": "display_data"
    },
    {
     "data": {
      "application/vnd.jupyter.widget-view+json": {
       "model_id": "2b0a39deeed943698ee5d1ee6e3d2f3e",
       "version_major": 2,
       "version_minor": 0
      },
      "text/plain": [
       "  0%|          | 0/50 [00:00<?, ?it/s]"
      ]
     },
     "metadata": {},
     "output_type": "display_data"
    },
    {
     "data": {
      "application/vnd.jupyter.widget-view+json": {
       "model_id": "f7ee092e21ac46d6a1a66ae8aaf1a84a",
       "version_major": 2,
       "version_minor": 0
      },
      "text/plain": [
       "  0%|          | 0/50 [00:00<?, ?it/s]"
      ]
     },
     "metadata": {},
     "output_type": "display_data"
    },
    {
     "data": {
      "application/vnd.jupyter.widget-view+json": {
       "model_id": "1980dbf70e8b4770ac9933ec6e1ac8f4",
       "version_major": 2,
       "version_minor": 0
      },
      "text/plain": [
       "  0%|          | 0/50 [00:00<?, ?it/s]"
      ]
     },
     "metadata": {},
     "output_type": "display_data"
    },
    {
     "data": {
      "application/vnd.jupyter.widget-view+json": {
       "model_id": "920bca2da756431baceb5a9a6e78b15a",
       "version_major": 2,
       "version_minor": 0
      },
      "text/plain": [
       "  0%|          | 0/50 [00:00<?, ?it/s]"
      ]
     },
     "metadata": {},
     "output_type": "display_data"
    },
    {
     "data": {
      "application/vnd.jupyter.widget-view+json": {
       "model_id": "cabbefb943a14fd99355961351f0da91",
       "version_major": 2,
       "version_minor": 0
      },
      "text/plain": [
       "  0%|          | 0/50 [00:00<?, ?it/s]"
      ]
     },
     "metadata": {},
     "output_type": "display_data"
    },
    {
     "data": {
      "application/vnd.jupyter.widget-view+json": {
       "model_id": "2e819d70bc6a45608f5271433851f1c5",
       "version_major": 2,
       "version_minor": 0
      },
      "text/plain": [
       "  0%|          | 0/50 [00:00<?, ?it/s]"
      ]
     },
     "metadata": {},
     "output_type": "display_data"
    },
    {
     "data": {
      "application/vnd.jupyter.widget-view+json": {
       "model_id": "6887571352b5449081019f304ef9e289",
       "version_major": 2,
       "version_minor": 0
      },
      "text/plain": [
       "  0%|          | 0/50 [00:00<?, ?it/s]"
      ]
     },
     "metadata": {},
     "output_type": "display_data"
    },
    {
     "name": "stdout",
     "output_type": "stream",
     "text": [
      "[Parallel(n_jobs=5)]: Done   3 out of   3 | elapsed: 42.2min remaining:    0.0s\n"
     ]
    },
    {
     "data": {
      "application/vnd.jupyter.widget-view+json": {
       "model_id": "e907e54acdbe4ab19bcc26977e8591e1",
       "version_major": 2,
       "version_minor": 0
      },
      "text/plain": [
       "  0%|          | 0/50 [00:00<?, ?it/s]"
      ]
     },
     "metadata": {},
     "output_type": "display_data"
    },
    {
     "data": {
      "application/vnd.jupyter.widget-view+json": {
       "model_id": "0f7ed900e3f34ed4899588c5fa790603",
       "version_major": 2,
       "version_minor": 0
      },
      "text/plain": [
       "  0%|          | 0/50 [00:00<?, ?it/s]"
      ]
     },
     "metadata": {},
     "output_type": "display_data"
    },
    {
     "data": {
      "application/vnd.jupyter.widget-view+json": {
       "model_id": "c7c600eee6db4e8990e9f076dab05e58",
       "version_major": 2,
       "version_minor": 0
      },
      "text/plain": [
       "  0%|          | 0/50 [00:00<?, ?it/s]"
      ]
     },
     "metadata": {},
     "output_type": "display_data"
    },
    {
     "data": {
      "application/vnd.jupyter.widget-view+json": {
       "model_id": "7b391500a6c7463ca0e1ef56736ceb41",
       "version_major": 2,
       "version_minor": 0
      },
      "text/plain": [
       "  0%|          | 0/50 [00:00<?, ?it/s]"
      ]
     },
     "metadata": {},
     "output_type": "display_data"
    },
    {
     "data": {
      "application/vnd.jupyter.widget-view+json": {
       "model_id": "bdf4e0cfff354f21bbf35c1744575df4",
       "version_major": 2,
       "version_minor": 0
      },
      "text/plain": [
       "  0%|          | 0/50 [00:00<?, ?it/s]"
      ]
     },
     "metadata": {},
     "output_type": "display_data"
    },
    {
     "data": {
      "application/vnd.jupyter.widget-view+json": {
       "model_id": "264bcf603b804c8f98c81f447246babb",
       "version_major": 2,
       "version_minor": 0
      },
      "text/plain": [
       "  0%|          | 0/50 [00:00<?, ?it/s]"
      ]
     },
     "metadata": {},
     "output_type": "display_data"
    },
    {
     "data": {
      "application/vnd.jupyter.widget-view+json": {
       "model_id": "78099b18842f4eee85d4bb25eef42143",
       "version_major": 2,
       "version_minor": 0
      },
      "text/plain": [
       "  0%|          | 0/50 [00:00<?, ?it/s]"
      ]
     },
     "metadata": {},
     "output_type": "display_data"
    },
    {
     "data": {
      "application/vnd.jupyter.widget-view+json": {
       "model_id": "b1a332ac106549208803c03ac746e9d5",
       "version_major": 2,
       "version_minor": 0
      },
      "text/plain": [
       "  0%|          | 0/50 [00:00<?, ?it/s]"
      ]
     },
     "metadata": {},
     "output_type": "display_data"
    },
    {
     "data": {
      "application/vnd.jupyter.widget-view+json": {
       "model_id": "04461b2d6e174486a721a537cec7d5bd",
       "version_major": 2,
       "version_minor": 0
      },
      "text/plain": [
       "  0%|          | 0/50 [00:00<?, ?it/s]"
      ]
     },
     "metadata": {},
     "output_type": "display_data"
    },
    {
     "data": {
      "application/vnd.jupyter.widget-view+json": {
       "model_id": "70591dc6cca0401eb8afe5ffc457a11d",
       "version_major": 2,
       "version_minor": 0
      },
      "text/plain": [
       "  0%|          | 0/50 [00:00<?, ?it/s]"
      ]
     },
     "metadata": {},
     "output_type": "display_data"
    },
    {
     "data": {
      "application/vnd.jupyter.widget-view+json": {
       "model_id": "8f59952eb1034e32a5c64bb5a4c4200f",
       "version_major": 2,
       "version_minor": 0
      },
      "text/plain": [
       "  0%|          | 0/50 [00:00<?, ?it/s]"
      ]
     },
     "metadata": {},
     "output_type": "display_data"
    },
    {
     "data": {
      "application/vnd.jupyter.widget-view+json": {
       "model_id": "21eee6d37df44f5781606bc762544c43",
       "version_major": 2,
       "version_minor": 0
      },
      "text/plain": [
       "  0%|          | 0/50 [00:00<?, ?it/s]"
      ]
     },
     "metadata": {},
     "output_type": "display_data"
    },
    {
     "data": {
      "application/vnd.jupyter.widget-view+json": {
       "model_id": "af9a13f2943f4ae2ad81c5c84dca8bab",
       "version_major": 2,
       "version_minor": 0
      },
      "text/plain": [
       "  0%|          | 0/50 [00:00<?, ?it/s]"
      ]
     },
     "metadata": {},
     "output_type": "display_data"
    },
    {
     "data": {
      "application/vnd.jupyter.widget-view+json": {
       "model_id": "4b6d66b194ed455f8f137465b771f736",
       "version_major": 2,
       "version_minor": 0
      },
      "text/plain": [
       "  0%|          | 0/50 [00:00<?, ?it/s]"
      ]
     },
     "metadata": {},
     "output_type": "display_data"
    },
    {
     "name": "stdout",
     "output_type": "stream",
     "text": [
      "[Parallel(n_jobs=5)]: Done   4 out of   4 | elapsed: 52.4min remaining:    0.0s\n"
     ]
    },
    {
     "data": {
      "application/vnd.jupyter.widget-view+json": {
       "model_id": "5104bb4b3ca544268bd7688a0e3a96ff",
       "version_major": 2,
       "version_minor": 0
      },
      "text/plain": [
       "  0%|          | 0/50 [00:00<?, ?it/s]"
      ]
     },
     "metadata": {},
     "output_type": "display_data"
    },
    {
     "data": {
      "application/vnd.jupyter.widget-view+json": {
       "model_id": "4e0ff88fcfac43bb914d0d2ef9f50eb8",
       "version_major": 2,
       "version_minor": 0
      },
      "text/plain": [
       "  0%|          | 0/50 [00:00<?, ?it/s]"
      ]
     },
     "metadata": {},
     "output_type": "display_data"
    },
    {
     "data": {
      "application/vnd.jupyter.widget-view+json": {
       "model_id": "91fc1c9bec484737be959076531d189e",
       "version_major": 2,
       "version_minor": 0
      },
      "text/plain": [
       "  0%|          | 0/50 [00:00<?, ?it/s]"
      ]
     },
     "metadata": {},
     "output_type": "display_data"
    },
    {
     "data": {
      "application/vnd.jupyter.widget-view+json": {
       "model_id": "c46df075438149c2a7cc5c3fc0a4a34b",
       "version_major": 2,
       "version_minor": 0
      },
      "text/plain": [
       "  0%|          | 0/50 [00:00<?, ?it/s]"
      ]
     },
     "metadata": {},
     "output_type": "display_data"
    },
    {
     "data": {
      "application/vnd.jupyter.widget-view+json": {
       "model_id": "f448cc93a401429caf3e0bc9fcab2e62",
       "version_major": 2,
       "version_minor": 0
      },
      "text/plain": [
       "  0%|          | 0/50 [00:00<?, ?it/s]"
      ]
     },
     "metadata": {},
     "output_type": "display_data"
    },
    {
     "data": {
      "application/vnd.jupyter.widget-view+json": {
       "model_id": "96ea05ae53dd46389840fa2d726da18c",
       "version_major": 2,
       "version_minor": 0
      },
      "text/plain": [
       "  0%|          | 0/50 [00:00<?, ?it/s]"
      ]
     },
     "metadata": {},
     "output_type": "display_data"
    },
    {
     "data": {
      "application/vnd.jupyter.widget-view+json": {
       "model_id": "2f97da884f804b8d9c2747054a0d188a",
       "version_major": 2,
       "version_minor": 0
      },
      "text/plain": [
       "  0%|          | 0/50 [00:00<?, ?it/s]"
      ]
     },
     "metadata": {},
     "output_type": "display_data"
    },
    {
     "data": {
      "application/vnd.jupyter.widget-view+json": {
       "model_id": "64e30873fcca4541be49967f0db9666a",
       "version_major": 2,
       "version_minor": 0
      },
      "text/plain": [
       "  0%|          | 0/50 [00:00<?, ?it/s]"
      ]
     },
     "metadata": {},
     "output_type": "display_data"
    },
    {
     "data": {
      "application/vnd.jupyter.widget-view+json": {
       "model_id": "fecb25ea5ddd44989ce73d979e239c61",
       "version_major": 2,
       "version_minor": 0
      },
      "text/plain": [
       "  0%|          | 0/50 [00:00<?, ?it/s]"
      ]
     },
     "metadata": {},
     "output_type": "display_data"
    },
    {
     "data": {
      "application/vnd.jupyter.widget-view+json": {
       "model_id": "59b4bb805cd746dfadaf799324cbd73d",
       "version_major": 2,
       "version_minor": 0
      },
      "text/plain": [
       "  0%|          | 0/50 [00:00<?, ?it/s]"
      ]
     },
     "metadata": {},
     "output_type": "display_data"
    },
    {
     "data": {
      "application/vnd.jupyter.widget-view+json": {
       "model_id": "865b23712af54cf88c13aa445be2b743",
       "version_major": 2,
       "version_minor": 0
      },
      "text/plain": [
       "  0%|          | 0/50 [00:00<?, ?it/s]"
      ]
     },
     "metadata": {},
     "output_type": "display_data"
    },
    {
     "data": {
      "application/vnd.jupyter.widget-view+json": {
       "model_id": "9cb6fd3fd9754df2a1ff18ace1e96f36",
       "version_major": 2,
       "version_minor": 0
      },
      "text/plain": [
       "  0%|          | 0/50 [00:00<?, ?it/s]"
      ]
     },
     "metadata": {},
     "output_type": "display_data"
    },
    {
     "data": {
      "application/vnd.jupyter.widget-view+json": {
       "model_id": "f51b7c69feb54bd7ba6bd8b6d5085167",
       "version_major": 2,
       "version_minor": 0
      },
      "text/plain": [
       "  0%|          | 0/50 [00:00<?, ?it/s]"
      ]
     },
     "metadata": {},
     "output_type": "display_data"
    },
    {
     "data": {
      "application/vnd.jupyter.widget-view+json": {
       "model_id": "b967a4c9f6cc4cca99c7ae76c6266ab4",
       "version_major": 2,
       "version_minor": 0
      },
      "text/plain": [
       "  0%|          | 0/50 [00:00<?, ?it/s]"
      ]
     },
     "metadata": {},
     "output_type": "display_data"
    },
    {
     "name": "stdout",
     "output_type": "stream",
     "text": [
      "[Parallel(n_jobs=5)]: Done   5 out of   5 | elapsed: 62.9min remaining:    0.0s\n"
     ]
    },
    {
     "data": {
      "application/vnd.jupyter.widget-view+json": {
       "model_id": "0e39e9407fd7433496b4939c82c323b9",
       "version_major": 2,
       "version_minor": 0
      },
      "text/plain": [
       "  0%|          | 0/50 [00:00<?, ?it/s]"
      ]
     },
     "metadata": {},
     "output_type": "display_data"
    },
    {
     "name": "stderr",
     "output_type": "stream",
     "text": [
      "IOPub message rate exceeded.\n",
      "The Jupyter server will temporarily stop sending output\n",
      "to the client in order to avoid crashing it.\n",
      "To change this limit, set the config variable\n",
      "`--ServerApp.iopub_msg_rate_limit`.\n",
      "\n",
      "Current values:\n",
      "ServerApp.iopub_msg_rate_limit=1000.0 (msgs/sec)\n",
      "ServerApp.rate_limit_window=3.0 (secs)\n",
      "\n"
     ]
    },
    {
     "data": {
      "application/vnd.jupyter.widget-view+json": {
       "model_id": "11c6eb37d0284b2f97b7801978aefcd6",
       "version_major": 2,
       "version_minor": 0
      },
      "text/plain": [
       "  0%|          | 0/50 [00:00<?, ?it/s]"
      ]
     },
     "metadata": {},
     "output_type": "display_data"
    },
    {
     "data": {
      "application/vnd.jupyter.widget-view+json": {
       "model_id": "4fbef86b28ac4fbbb386666145adf25a",
       "version_major": 2,
       "version_minor": 0
      },
      "text/plain": [
       "  0%|          | 0/50 [00:00<?, ?it/s]"
      ]
     },
     "metadata": {},
     "output_type": "display_data"
    },
    {
     "data": {
      "application/vnd.jupyter.widget-view+json": {
       "model_id": "1eef0c1b842c4f25a8b7a90353512285",
       "version_major": 2,
       "version_minor": 0
      },
      "text/plain": [
       "  0%|          | 0/50 [00:00<?, ?it/s]"
      ]
     },
     "metadata": {},
     "output_type": "display_data"
    },
    {
     "data": {
      "application/vnd.jupyter.widget-view+json": {
       "model_id": "db93a331650945408178cfe4786de7b4",
       "version_major": 2,
       "version_minor": 0
      },
      "text/plain": [
       "  0%|          | 0/50 [00:00<?, ?it/s]"
      ]
     },
     "metadata": {},
     "output_type": "display_data"
    },
    {
     "data": {
      "application/vnd.jupyter.widget-view+json": {
       "model_id": "4e444e17484b49a5ad16dc6e0d9475af",
       "version_major": 2,
       "version_minor": 0
      },
      "text/plain": [
       "  0%|          | 0/50 [00:00<?, ?it/s]"
      ]
     },
     "metadata": {},
     "output_type": "display_data"
    },
    {
     "data": {
      "application/vnd.jupyter.widget-view+json": {
       "model_id": "1d8dd5350b31408faa129a8018fe39c4",
       "version_major": 2,
       "version_minor": 0
      },
      "text/plain": [
       "  0%|          | 0/50 [00:00<?, ?it/s]"
      ]
     },
     "metadata": {},
     "output_type": "display_data"
    },
    {
     "data": {
      "application/vnd.jupyter.widget-view+json": {
       "model_id": "d68b99b515304544a9eada0538cf24f4",
       "version_major": 2,
       "version_minor": 0
      },
      "text/plain": [
       "  0%|          | 0/50 [00:00<?, ?it/s]"
      ]
     },
     "metadata": {},
     "output_type": "display_data"
    },
    {
     "data": {
      "application/vnd.jupyter.widget-view+json": {
       "model_id": "e772a8a0d2a0432c8b4a6042fcde8120",
       "version_major": 2,
       "version_minor": 0
      },
      "text/plain": [
       "  0%|          | 0/50 [00:00<?, ?it/s]"
      ]
     },
     "metadata": {},
     "output_type": "display_data"
    },
    {
     "data": {
      "application/vnd.jupyter.widget-view+json": {
       "model_id": "248ae3c757c24024abfec72d7cce3759",
       "version_major": 2,
       "version_minor": 0
      },
      "text/plain": [
       "  0%|          | 0/50 [00:00<?, ?it/s]"
      ]
     },
     "metadata": {},
     "output_type": "display_data"
    },
    {
     "data": {
      "application/vnd.jupyter.widget-view+json": {
       "model_id": "f5ded766783a40409a25e23c4f1c154f",
       "version_major": 2,
       "version_minor": 0
      },
      "text/plain": [
       "  0%|          | 0/50 [00:00<?, ?it/s]"
      ]
     },
     "metadata": {},
     "output_type": "display_data"
    },
    {
     "name": "stdout",
     "output_type": "stream",
     "text": [
      "[Parallel(n_jobs=5)]: Done   9 out of   9 | elapsed: 108.4min remaining:    0.0s\n"
     ]
    },
    {
     "data": {
      "application/vnd.jupyter.widget-view+json": {
       "model_id": "78c2970659a949b3932e00e5790cbd83",
       "version_major": 2,
       "version_minor": 0
      },
      "text/plain": [
       "  0%|          | 0/50 [00:00<?, ?it/s]"
      ]
     },
     "metadata": {},
     "output_type": "display_data"
    },
    {
     "data": {
      "application/vnd.jupyter.widget-view+json": {
       "model_id": "f2778898b00e4ca492694dfd65c918a5",
       "version_major": 2,
       "version_minor": 0
      },
      "text/plain": [
       "  0%|          | 0/50 [00:00<?, ?it/s]"
      ]
     },
     "metadata": {},
     "output_type": "display_data"
    },
    {
     "data": {
      "application/vnd.jupyter.widget-view+json": {
       "model_id": "e3c92c12238d4aa9b752a7673a3a9210",
       "version_major": 2,
       "version_minor": 0
      },
      "text/plain": [
       "  0%|          | 0/50 [00:00<?, ?it/s]"
      ]
     },
     "metadata": {},
     "output_type": "display_data"
    },
    {
     "data": {
      "application/vnd.jupyter.widget-view+json": {
       "model_id": "983fec9d8ed24e83b614556076230b6d",
       "version_major": 2,
       "version_minor": 0
      },
      "text/plain": [
       "  0%|          | 0/50 [00:00<?, ?it/s]"
      ]
     },
     "metadata": {},
     "output_type": "display_data"
    },
    {
     "data": {
      "application/vnd.jupyter.widget-view+json": {
       "model_id": "452fdbe29df246aebce13610124dcec0",
       "version_major": 2,
       "version_minor": 0
      },
      "text/plain": [
       "  0%|          | 0/50 [00:00<?, ?it/s]"
      ]
     },
     "metadata": {},
     "output_type": "display_data"
    },
    {
     "data": {
      "application/vnd.jupyter.widget-view+json": {
       "model_id": "5180e40c5a024e18a99ee5f6593be963",
       "version_major": 2,
       "version_minor": 0
      },
      "text/plain": [
       "  0%|          | 0/50 [00:00<?, ?it/s]"
      ]
     },
     "metadata": {},
     "output_type": "display_data"
    },
    {
     "data": {
      "application/vnd.jupyter.widget-view+json": {
       "model_id": "f4e1dd1b45324483bcaea572f6a407a8",
       "version_major": 2,
       "version_minor": 0
      },
      "text/plain": [
       "  0%|          | 0/50 [00:00<?, ?it/s]"
      ]
     },
     "metadata": {},
     "output_type": "display_data"
    },
    {
     "data": {
      "application/vnd.jupyter.widget-view+json": {
       "model_id": "630af50c57504ae7986c2013fec46cb8",
       "version_major": 2,
       "version_minor": 0
      },
      "text/plain": [
       "  0%|          | 0/50 [00:00<?, ?it/s]"
      ]
     },
     "metadata": {},
     "output_type": "display_data"
    },
    {
     "data": {
      "application/vnd.jupyter.widget-view+json": {
       "model_id": "6a5d58539dfd4a0ab63f910349708264",
       "version_major": 2,
       "version_minor": 0
      },
      "text/plain": [
       "  0%|          | 0/50 [00:00<?, ?it/s]"
      ]
     },
     "metadata": {},
     "output_type": "display_data"
    },
    {
     "data": {
      "application/vnd.jupyter.widget-view+json": {
       "model_id": "bc9e4eed258d41af84e94a31aaae88d0",
       "version_major": 2,
       "version_minor": 0
      },
      "text/plain": [
       "  0%|          | 0/50 [00:00<?, ?it/s]"
      ]
     },
     "metadata": {},
     "output_type": "display_data"
    },
    {
     "name": "stderr",
     "output_type": "stream",
     "text": [
      "IOPub message rate exceeded.\n",
      "The Jupyter server will temporarily stop sending output\n",
      "to the client in order to avoid crashing it.\n",
      "To change this limit, set the config variable\n",
      "`--ServerApp.iopub_msg_rate_limit`.\n",
      "\n",
      "Current values:\n",
      "ServerApp.iopub_msg_rate_limit=1000.0 (msgs/sec)\n",
      "ServerApp.rate_limit_window=3.0 (secs)\n",
      "\n"
     ]
    }
   ],
   "source": [
    "if evaluate_distribution and test_size > 0:\n",
    "    (distances_dict, \n",
    "     inet_evaluation_result_dict_test, \n",
    "     inet_evaluation_result_dict_complete_by_distribution_test,\n",
    "     inet_evaluation_result_dict_mean_test,\n",
    "     inet_evaluation_result_dict_mean_by_distribution_test,\n",
    "     inet_evaluation_results_test, \n",
    "     dt_inet_list_test, \n",
    "     dt_distilled_list_test, \n",
    "     data_dict_list_test, \n",
    "     normalizer_list_list_test,\n",
    "     test_network_list,\n",
    "     model_history_list) = distribution_evaluation_interpretation_net_synthetic_data(loss_function, \n",
    "                                                                                            metrics,\n",
    "                                                                                            #model,\n",
    "                                                                                           config,\n",
    "                                                                                           identifier='test',\n",
    "                                                                                           lambda_net_parameters_train=lambda_net_dataset_train.network_parameters_array,\n",
    "                                                                                           mean_train_parameters=mean_train_parameters,\n",
    "                                                                                           std_train_parameters=std_train_parameters,\n",
    "                                                                                           distances_dict=distances_dict,\n",
    "                                                                                           max_distributions_per_class=4,\n",
    "                                                                                           flip_percentage=0.5,\n",
    "                                                                                           verbose=0,\n",
    "                                                                                           backend='sequential'\n",
    "                                                                                    )\n",
    "else:\n",
    "    (inet_evaluation_result_dict_test, \n",
    "     inet_evaluation_result_dict_mean_test, \n",
    "     dt_distilled_list_test,\n",
    "     distances_dict) = evaluate_interpretation_net_synthetic_data(lambda_net_dataset_test.network_parameters_array, \n",
    "                                                                   lambda_net_dataset_test.X_test_lambda_array,\n",
    "                                                                   model,\n",
    "                                                                   config,\n",
    "                                                                   identifier='test',\n",
    "                                                                   mean_train_parameters=mean_train_parameters,\n",
    "                                                                   std_train_parameters=std_train_parameters,\n",
    "                                                                   network_parameters_train_array=lambda_net_dataset_train.network_parameters_array,\n",
    "                                                                   distances_dict=distances_dict)\n",
    "    \n",
    "    print_results_synthetic_evaluation(inet_evaluation_result_dict_mean_train, \n",
    "                                       inet_evaluation_result_dict_mean_valid, \n",
    "                                       inet_evaluation_result_dict_mean_test, \n",
    "                                       distances_dict)    "
   ]
  },
  {
   "cell_type": "code",
   "execution_count": 27,
   "metadata": {
    "execution": {
     "iopub.execute_input": "2022-01-15T11:24:28.192212Z",
     "iopub.status.busy": "2022-01-15T11:24:28.191912Z",
     "iopub.status.idle": "2022-01-15T11:24:29.516116Z",
     "shell.execute_reply": "2022-01-15T11:24:29.515116Z",
     "shell.execute_reply.started": "2022-01-15T11:24:28.192184Z"
    },
    "tags": []
   },
   "outputs": [
    {
     "data": {
      "text/html": [
       "<div>\n",
       "<style scoped>\n",
       "    .dataframe tbody tr th:only-of-type {\n",
       "        vertical-align: middle;\n",
       "    }\n",
       "\n",
       "    .dataframe tbody tr th {\n",
       "        vertical-align: top;\n",
       "    }\n",
       "\n",
       "    .dataframe thead th {\n",
       "        text-align: right;\n",
       "    }\n",
       "</style>\n",
       "<table border=\"1\" class=\"dataframe\">\n",
       "  <thead>\n",
       "    <tr style=\"text-align: right;\">\n",
       "      <th></th>\n",
       "      <th>Acc Distilled Train Data</th>\n",
       "      <th>Acc Distilled Data Random</th>\n",
       "      <th>Acc Distilled</th>\n",
       "      <th>Acc I-Net</th>\n",
       "      <th>Soft BC Distilled Train Data</th>\n",
       "      <th>Soft BC Distilled Data Random</th>\n",
       "      <th>Soft BC Distilled</th>\n",
       "      <th>Soft BC I-Net</th>\n",
       "      <th>BC Distilled Train Data</th>\n",
       "      <th>BC Distilled Data Random</th>\n",
       "      <th>BC Distilled</th>\n",
       "      <th>BC I-Net</th>\n",
       "      <th>F1 Score Distilled Train Data</th>\n",
       "      <th>F1 Score Distilled Data Random</th>\n",
       "      <th>F1 Score Distilled</th>\n",
       "      <th>F1 Score I-Net</th>\n",
       "      <th>Runtime Distilled Train Data</th>\n",
       "      <th>Runtime Distilled Data Random</th>\n",
       "      <th>Runtime Distilled</th>\n",
       "      <th>Runtime I-Net</th>\n",
       "    </tr>\n",
       "  </thead>\n",
       "  <tbody>\n",
       "    <tr>\n",
       "      <th>uniform</th>\n",
       "      <td>0.619</td>\n",
       "      <td>0.804</td>\n",
       "      <td>0.484</td>\n",
       "      <td>0.497</td>\n",
       "      <td>0.698</td>\n",
       "      <td>0.676</td>\n",
       "      <td>0.740</td>\n",
       "      <td>0.698</td>\n",
       "      <td>0.655</td>\n",
       "      <td>0.456</td>\n",
       "      <td>1.065</td>\n",
       "      <td>0.722</td>\n",
       "      <td>0.538</td>\n",
       "      <td>0.292</td>\n",
       "      <td>0.170</td>\n",
       "      <td>0.356</td>\n",
       "      <td>83.669</td>\n",
       "      <td>83.669</td>\n",
       "      <td>83.669</td>\n",
       "      <td>0.107</td>\n",
       "    </tr>\n",
       "    <tr>\n",
       "      <th>normal</th>\n",
       "      <td>0.619</td>\n",
       "      <td>0.891</td>\n",
       "      <td>0.495</td>\n",
       "      <td>0.497</td>\n",
       "      <td>0.698</td>\n",
       "      <td>0.705</td>\n",
       "      <td>0.769</td>\n",
       "      <td>0.698</td>\n",
       "      <td>0.655</td>\n",
       "      <td>0.284</td>\n",
       "      <td>1.664</td>\n",
       "      <td>0.722</td>\n",
       "      <td>0.538</td>\n",
       "      <td>0.255</td>\n",
       "      <td>0.135</td>\n",
       "      <td>0.356</td>\n",
       "      <td>85.711</td>\n",
       "      <td>85.711</td>\n",
       "      <td>85.711</td>\n",
       "      <td>0.052</td>\n",
       "    </tr>\n",
       "    <tr>\n",
       "      <th>gamma</th>\n",
       "      <td>0.619</td>\n",
       "      <td>0.751</td>\n",
       "      <td>0.467</td>\n",
       "      <td>0.497</td>\n",
       "      <td>0.698</td>\n",
       "      <td>0.710</td>\n",
       "      <td>0.737</td>\n",
       "      <td>0.698</td>\n",
       "      <td>0.655</td>\n",
       "      <td>0.479</td>\n",
       "      <td>1.167</td>\n",
       "      <td>0.722</td>\n",
       "      <td>0.538</td>\n",
       "      <td>0.517</td>\n",
       "      <td>0.387</td>\n",
       "      <td>0.356</td>\n",
       "      <td>80.888</td>\n",
       "      <td>80.888</td>\n",
       "      <td>80.888</td>\n",
       "      <td>0.202</td>\n",
       "    </tr>\n",
       "    <tr>\n",
       "      <th>exponential</th>\n",
       "      <td>0.619</td>\n",
       "      <td>0.792</td>\n",
       "      <td>0.442</td>\n",
       "      <td>0.497</td>\n",
       "      <td>0.698</td>\n",
       "      <td>0.716</td>\n",
       "      <td>0.746</td>\n",
       "      <td>0.698</td>\n",
       "      <td>0.655</td>\n",
       "      <td>0.441</td>\n",
       "      <td>1.252</td>\n",
       "      <td>0.722</td>\n",
       "      <td>0.538</td>\n",
       "      <td>0.518</td>\n",
       "      <td>0.360</td>\n",
       "      <td>0.356</td>\n",
       "      <td>81.019</td>\n",
       "      <td>81.019</td>\n",
       "      <td>81.019</td>\n",
       "      <td>0.049</td>\n",
       "    </tr>\n",
       "    <tr>\n",
       "      <th>beta</th>\n",
       "      <td>0.619</td>\n",
       "      <td>0.842</td>\n",
       "      <td>0.495</td>\n",
       "      <td>0.497</td>\n",
       "      <td>0.698</td>\n",
       "      <td>0.687</td>\n",
       "      <td>0.752</td>\n",
       "      <td>0.698</td>\n",
       "      <td>0.655</td>\n",
       "      <td>0.386</td>\n",
       "      <td>1.264</td>\n",
       "      <td>0.722</td>\n",
       "      <td>0.538</td>\n",
       "      <td>0.245</td>\n",
       "      <td>0.135</td>\n",
       "      <td>0.356</td>\n",
       "      <td>73.680</td>\n",
       "      <td>73.680</td>\n",
       "      <td>73.680</td>\n",
       "      <td>0.048</td>\n",
       "    </tr>\n",
       "    <tr>\n",
       "      <th>binomial</th>\n",
       "      <td>0.619</td>\n",
       "      <td>0.897</td>\n",
       "      <td>0.495</td>\n",
       "      <td>0.497</td>\n",
       "      <td>0.698</td>\n",
       "      <td>0.707</td>\n",
       "      <td>0.771</td>\n",
       "      <td>0.698</td>\n",
       "      <td>0.655</td>\n",
       "      <td>0.271</td>\n",
       "      <td>1.724</td>\n",
       "      <td>0.722</td>\n",
       "      <td>0.538</td>\n",
       "      <td>0.239</td>\n",
       "      <td>0.135</td>\n",
       "      <td>0.356</td>\n",
       "      <td>68.473</td>\n",
       "      <td>68.473</td>\n",
       "      <td>68.473</td>\n",
       "      <td>0.050</td>\n",
       "    </tr>\n",
       "    <tr>\n",
       "      <th>poisson</th>\n",
       "      <td>0.619</td>\n",
       "      <td>0.752</td>\n",
       "      <td>0.509</td>\n",
       "      <td>0.497</td>\n",
       "      <td>0.698</td>\n",
       "      <td>0.703</td>\n",
       "      <td>0.731</td>\n",
       "      <td>0.698</td>\n",
       "      <td>0.655</td>\n",
       "      <td>0.500</td>\n",
       "      <td>1.059</td>\n",
       "      <td>0.722</td>\n",
       "      <td>0.538</td>\n",
       "      <td>0.312</td>\n",
       "      <td>0.254</td>\n",
       "      <td>0.356</td>\n",
       "      <td>66.310</td>\n",
       "      <td>66.310</td>\n",
       "      <td>66.310</td>\n",
       "      <td>0.045</td>\n",
       "    </tr>\n",
       "  </tbody>\n",
       "</table>\n",
       "</div>"
      ],
      "text/plain": [
       "             Acc Distilled Train Data  Acc Distilled Data Random  \\\n",
       "uniform                         0.619                      0.804   \n",
       "normal                          0.619                      0.891   \n",
       "gamma                           0.619                      0.751   \n",
       "exponential                     0.619                      0.792   \n",
       "beta                            0.619                      0.842   \n",
       "binomial                        0.619                      0.897   \n",
       "poisson                         0.619                      0.752   \n",
       "\n",
       "             Acc Distilled  Acc I-Net  Soft BC Distilled Train Data  \\\n",
       "uniform              0.484      0.497                         0.698   \n",
       "normal               0.495      0.497                         0.698   \n",
       "gamma                0.467      0.497                         0.698   \n",
       "exponential          0.442      0.497                         0.698   \n",
       "beta                 0.495      0.497                         0.698   \n",
       "binomial             0.495      0.497                         0.698   \n",
       "poisson              0.509      0.497                         0.698   \n",
       "\n",
       "             Soft BC Distilled Data Random  Soft BC Distilled  Soft BC I-Net  \\\n",
       "uniform                              0.676              0.740          0.698   \n",
       "normal                               0.705              0.769          0.698   \n",
       "gamma                                0.710              0.737          0.698   \n",
       "exponential                          0.716              0.746          0.698   \n",
       "beta                                 0.687              0.752          0.698   \n",
       "binomial                             0.707              0.771          0.698   \n",
       "poisson                              0.703              0.731          0.698   \n",
       "\n",
       "             BC Distilled Train Data  BC Distilled Data Random  BC Distilled  \\\n",
       "uniform                        0.655                     0.456         1.065   \n",
       "normal                         0.655                     0.284         1.664   \n",
       "gamma                          0.655                     0.479         1.167   \n",
       "exponential                    0.655                     0.441         1.252   \n",
       "beta                           0.655                     0.386         1.264   \n",
       "binomial                       0.655                     0.271         1.724   \n",
       "poisson                        0.655                     0.500         1.059   \n",
       "\n",
       "             BC I-Net  F1 Score Distilled Train Data  \\\n",
       "uniform         0.722                          0.538   \n",
       "normal          0.722                          0.538   \n",
       "gamma           0.722                          0.538   \n",
       "exponential     0.722                          0.538   \n",
       "beta            0.722                          0.538   \n",
       "binomial        0.722                          0.538   \n",
       "poisson         0.722                          0.538   \n",
       "\n",
       "             F1 Score Distilled Data Random  F1 Score Distilled  \\\n",
       "uniform                               0.292               0.170   \n",
       "normal                                0.255               0.135   \n",
       "gamma                                 0.517               0.387   \n",
       "exponential                           0.518               0.360   \n",
       "beta                                  0.245               0.135   \n",
       "binomial                              0.239               0.135   \n",
       "poisson                               0.312               0.254   \n",
       "\n",
       "             F1 Score I-Net  Runtime Distilled Train Data  \\\n",
       "uniform               0.356                        83.669   \n",
       "normal                0.356                        85.711   \n",
       "gamma                 0.356                        80.888   \n",
       "exponential           0.356                        81.019   \n",
       "beta                  0.356                        73.680   \n",
       "binomial              0.356                        68.473   \n",
       "poisson               0.356                        66.310   \n",
       "\n",
       "             Runtime Distilled Data Random  Runtime Distilled  Runtime I-Net  \n",
       "uniform                             83.669             83.669          0.107  \n",
       "normal                              85.711             85.711          0.052  \n",
       "gamma                               80.888             80.888          0.202  \n",
       "exponential                         81.019             81.019          0.049  \n",
       "beta                                73.680             73.680          0.048  \n",
       "binomial                            68.473             68.473          0.050  \n",
       "poisson                             66.310             66.310          0.045  "
      ]
     },
     "execution_count": 27,
     "metadata": {},
     "output_type": "execute_result"
    }
   ],
   "source": [
    "complete_distribution_evaluation_results = get_complete_distribution_evaluation_results_dataframe(inet_evaluation_result_dict_mean_by_distribution_test)\n",
    "complete_distribution_evaluation_results.head(20)"
   ]
  },
  {
   "cell_type": "code",
   "execution_count": 28,
   "metadata": {
    "execution": {
     "iopub.execute_input": "2022-01-15T11:24:29.518624Z",
     "iopub.status.busy": "2022-01-15T11:24:29.518193Z",
     "iopub.status.idle": "2022-01-15T11:24:31.033928Z",
     "shell.execute_reply": "2022-01-15T11:24:31.032567Z",
     "shell.execute_reply.started": "2022-01-15T11:24:29.518578Z"
    },
    "tags": []
   },
   "outputs": [
    {
     "data": {
      "image/png": "[encoded data removed]",
      "text/plain": [
       "<IPython.core.display.Image object>"
      ]
     },
     "execution_count": 28,
     "metadata": {},
     "output_type": "execute_result"
    }
   ],
   "source": [
    "dt_parameters = dt_inet_list_test[0][0]\n",
    "\n",
    "if config['function_family']['dt_type'] == 'vanilla':\n",
    "    image, nodes = anytree_decision_tree_from_parameters(dt_parameters, config=config)\n",
    "else:\n",
    "    tree = generate_random_decision_tree(config)\n",
    "    tree.initialize_from_parameter_array(dt_parameters, reshape=True, config=config)\n",
    "    image = tree.plot_tree()\n",
    "image"
   ]
  },
  {
   "cell_type": "code",
   "execution_count": 29,
   "metadata": {
    "execution": {
     "iopub.execute_input": "2022-01-15T11:24:31.036934Z",
     "iopub.status.busy": "2022-01-15T11:24:31.036379Z",
     "iopub.status.idle": "2022-01-15T11:24:31.346769Z",
     "shell.execute_reply": "2022-01-15T11:24:31.346045Z",
     "shell.execute_reply.started": "2022-01-15T11:24:31.036881Z"
    },
    "tags": []
   },
   "outputs": [
    {
     "ename": "AttributeError",
     "evalue": "'SDT' object has no attribute 'tree_'",
     "output_type": "error",
     "traceback": [
      "\u001b[0;31m---------------------------------------------------------------------------\u001b[0m",
      "\u001b[0;31mAttributeError\u001b[0m                            Traceback (most recent call last)",
      "\u001b[0;32m/tmp/ipykernel_2530228/3878668727.py\u001b[0m in \u001b[0;36m<module>\u001b[0;34m\u001b[0m\n\u001b[1;32m      1\u001b[0m \u001b[0mplt\u001b[0m\u001b[0;34m.\u001b[0m\u001b[0mfigure\u001b[0m\u001b[0;34m(\u001b[0m\u001b[0mfigsize\u001b[0m\u001b[0;34m=\u001b[0m\u001b[0;34m(\u001b[0m\u001b[0;36m20\u001b[0m\u001b[0;34m,\u001b[0m\u001b[0;36m12\u001b[0m\u001b[0;34m)\u001b[0m\u001b[0;34m)\u001b[0m\u001b[0;34m\u001b[0m\u001b[0;34m\u001b[0m\u001b[0m\n\u001b[0;32m----> 2\u001b[0;31m \u001b[0mplot_tree\u001b[0m\u001b[0;34m(\u001b[0m\u001b[0mdt_distilled_list_test\u001b[0m\u001b[0;34m[\u001b[0m\u001b[0;36m0\u001b[0m\u001b[0;34m]\u001b[0m\u001b[0;34m[\u001b[0m\u001b[0;36m0\u001b[0m\u001b[0;34m]\u001b[0m\u001b[0;34m[\u001b[0m\u001b[0;36m0\u001b[0m\u001b[0;34m]\u001b[0m\u001b[0;34m)\u001b[0m\u001b[0;34m\u001b[0m\u001b[0;34m\u001b[0m\u001b[0m\n\u001b[0m",
      "\u001b[0;32m~/anaconda3/envs/XAI/lib/python3.8/site-packages/sklearn/utils/validation.py\u001b[0m in \u001b[0;36minner_f\u001b[0;34m(*args, **kwargs)\u001b[0m\n\u001b[1;32m     61\u001b[0m             \u001b[0mextra_args\u001b[0m \u001b[0;34m=\u001b[0m \u001b[0mlen\u001b[0m\u001b[0;34m(\u001b[0m\u001b[0margs\u001b[0m\u001b[0;34m)\u001b[0m \u001b[0;34m-\u001b[0m \u001b[0mlen\u001b[0m\u001b[0;34m(\u001b[0m\u001b[0mall_args\u001b[0m\u001b[0;34m)\u001b[0m\u001b[0;34m\u001b[0m\u001b[0;34m\u001b[0m\u001b[0m\n\u001b[1;32m     62\u001b[0m             \u001b[0;32mif\u001b[0m \u001b[0mextra_args\u001b[0m \u001b[0;34m<=\u001b[0m \u001b[0;36m0\u001b[0m\u001b[0;34m:\u001b[0m\u001b[0;34m\u001b[0m\u001b[0;34m\u001b[0m\u001b[0m\n\u001b[0;32m---> 63\u001b[0;31m                 \u001b[0;32mreturn\u001b[0m \u001b[0mf\u001b[0m\u001b[0;34m(\u001b[0m\u001b[0;34m*\u001b[0m\u001b[0margs\u001b[0m\u001b[0;34m,\u001b[0m \u001b[0;34m**\u001b[0m\u001b[0mkwargs\u001b[0m\u001b[0;34m)\u001b[0m\u001b[0;34m\u001b[0m\u001b[0;34m\u001b[0m\u001b[0m\n\u001b[0m\u001b[1;32m     64\u001b[0m \u001b[0;34m\u001b[0m\u001b[0m\n\u001b[1;32m     65\u001b[0m             \u001b[0;31m# extra_args > 0\u001b[0m\u001b[0;34m\u001b[0m\u001b[0;34m\u001b[0m\u001b[0;34m\u001b[0m\u001b[0m\n",
      "\u001b[0;32m~/anaconda3/envs/XAI/lib/python3.8/site-packages/sklearn/tree/_export.py\u001b[0m in \u001b[0;36mplot_tree\u001b[0;34m(decision_tree, max_depth, feature_names, class_names, label, filled, impurity, node_ids, proportion, rotate, rounded, precision, ax, fontsize)\u001b[0m\n\u001b[1;32m    192\u001b[0m         \u001b[0mproportion\u001b[0m\u001b[0;34m=\u001b[0m\u001b[0mproportion\u001b[0m\u001b[0;34m,\u001b[0m \u001b[0mrotate\u001b[0m\u001b[0;34m=\u001b[0m\u001b[0mrotate\u001b[0m\u001b[0;34m,\u001b[0m \u001b[0mrounded\u001b[0m\u001b[0;34m=\u001b[0m\u001b[0mrounded\u001b[0m\u001b[0;34m,\u001b[0m\u001b[0;34m\u001b[0m\u001b[0;34m\u001b[0m\u001b[0m\n\u001b[1;32m    193\u001b[0m         precision=precision, fontsize=fontsize)\n\u001b[0;32m--> 194\u001b[0;31m     \u001b[0;32mreturn\u001b[0m \u001b[0mexporter\u001b[0m\u001b[0;34m.\u001b[0m\u001b[0mexport\u001b[0m\u001b[0;34m(\u001b[0m\u001b[0mdecision_tree\u001b[0m\u001b[0;34m,\u001b[0m \u001b[0max\u001b[0m\u001b[0;34m=\u001b[0m\u001b[0max\u001b[0m\u001b[0;34m)\u001b[0m\u001b[0;34m\u001b[0m\u001b[0;34m\u001b[0m\u001b[0m\n\u001b[0m\u001b[1;32m    195\u001b[0m \u001b[0;34m\u001b[0m\u001b[0m\n\u001b[1;32m    196\u001b[0m \u001b[0;34m\u001b[0m\u001b[0m\n",
      "\u001b[0;32m~/anaconda3/envs/XAI/lib/python3.8/site-packages/sklearn/tree/_export.py\u001b[0m in \u001b[0;36mexport\u001b[0;34m(self, decision_tree, ax)\u001b[0m\n\u001b[1;32m    582\u001b[0m         \u001b[0max\u001b[0m\u001b[0;34m.\u001b[0m\u001b[0mclear\u001b[0m\u001b[0;34m(\u001b[0m\u001b[0;34m)\u001b[0m\u001b[0;34m\u001b[0m\u001b[0;34m\u001b[0m\u001b[0m\n\u001b[1;32m    583\u001b[0m         \u001b[0max\u001b[0m\u001b[0;34m.\u001b[0m\u001b[0mset_axis_off\u001b[0m\u001b[0;34m(\u001b[0m\u001b[0;34m)\u001b[0m\u001b[0;34m\u001b[0m\u001b[0;34m\u001b[0m\u001b[0m\n\u001b[0;32m--> 584\u001b[0;31m         my_tree = self._make_tree(0, decision_tree.tree_,\n\u001b[0m\u001b[1;32m    585\u001b[0m                                   decision_tree.criterion)\n\u001b[1;32m    586\u001b[0m         \u001b[0mdraw_tree\u001b[0m \u001b[0;34m=\u001b[0m \u001b[0mbuchheim\u001b[0m\u001b[0;34m(\u001b[0m\u001b[0mmy_tree\u001b[0m\u001b[0;34m)\u001b[0m\u001b[0;34m\u001b[0m\u001b[0;34m\u001b[0m\u001b[0m\n",
      "\u001b[0;32m~/anaconda3/envs/XAI/lib/python3.8/site-packages/torch/nn/modules/module.py\u001b[0m in \u001b[0;36m__getattr__\u001b[0;34m(self, name)\u001b[0m\n\u001b[1;32m   1175\u001b[0m             \u001b[0;32mif\u001b[0m \u001b[0mname\u001b[0m \u001b[0;32min\u001b[0m \u001b[0mmodules\u001b[0m\u001b[0;34m:\u001b[0m\u001b[0;34m\u001b[0m\u001b[0;34m\u001b[0m\u001b[0m\n\u001b[1;32m   1176\u001b[0m                 \u001b[0;32mreturn\u001b[0m \u001b[0mmodules\u001b[0m\u001b[0;34m[\u001b[0m\u001b[0mname\u001b[0m\u001b[0;34m]\u001b[0m\u001b[0;34m\u001b[0m\u001b[0;34m\u001b[0m\u001b[0m\n\u001b[0;32m-> 1177\u001b[0;31m         raise AttributeError(\"'{}' object has no attribute '{}'\".format(\n\u001b[0m\u001b[1;32m   1178\u001b[0m             type(self).__name__, name))\n\u001b[1;32m   1179\u001b[0m \u001b[0;34m\u001b[0m\u001b[0m\n",
      "\u001b[0;31mAttributeError\u001b[0m: 'SDT' object has no attribute 'tree_'"
     ]
    },
    {
     "data": {
      "image/png": "[encoded data removed]",
      "text/plain": [
       "<Figure size 1440x864 with 1 Axes>"
      ]
     },
     "metadata": {},
     "output_type": "display_data"
    }
   ],
   "source": [
    "plt.figure(figsize=(20,12))\n",
    "plot_tree(dt_distilled_list_test[0][0][0])"
   ]
  },
  {
   "cell_type": "code",
   "execution_count": null,
   "metadata": {
    "execution": {
     "iopub.status.busy": "2022-01-15T11:24:31.347450Z",
     "iopub.status.idle": "2022-01-15T11:24:31.347708Z",
     "shell.execute_reply": "2022-01-15T11:24:31.347585Z",
     "shell.execute_reply.started": "2022-01-15T11:24:31.347570Z"
    },
    "tags": []
   },
   "outputs": [],
   "source": [
    "network_distances = get_print_network_distances_dataframe(distances_dict)\n",
    "network_distances.head(20)"
   ]
  },
  {
   "cell_type": "markdown",
   "metadata": {},
   "source": [
    "# REAL DATA EVALUATION"
   ]
  },
  {
   "cell_type": "code",
   "execution_count": null,
   "metadata": {
    "execution": {
     "iopub.status.busy": "2022-01-14T23:14:41.594024Z",
     "iopub.status.idle": "2022-01-14T23:14:41.594259Z",
     "shell.execute_reply": "2022-01-14T23:14:41.594144Z",
     "shell.execute_reply.started": "2022-01-14T23:14:41.594130Z"
    },
    "tags": []
   },
   "outputs": [],
   "source": [
    "dataset_size_list = [1_000, 10_000, 100_000, 1_000_000, 'TRAIN_DATA']\n",
    "dataset_size_list_print = []\n",
    "for size in dataset_size_list:\n",
    "    if type(size) is int:\n",
    "        size = size//1000\n",
    "        size = str(size) + 'k'\n",
    "        dataset_size_list_print.append(size)\n",
    "    else:\n",
    "        dataset_size_list_print.append(size)"
   ]
  },
  {
   "cell_type": "code",
   "execution_count": null,
   "metadata": {
    "execution": {
     "iopub.status.busy": "2022-01-14T23:14:41.595105Z",
     "iopub.status.idle": "2022-01-14T23:14:41.595340Z",
     "shell.execute_reply": "2022-01-14T23:14:41.595225Z",
     "shell.execute_reply.started": "2022-01-14T23:14:41.595212Z"
    },
    "tags": []
   },
   "outputs": [],
   "source": [
    "#distances_dict = {}\n",
    "evaluation_result_dict = {}\n",
    "results_dict = {}\n",
    "dt_inet_dict = {}\n",
    "dt_distilled_list_dict = {}\n",
    "data_dict = {}\n",
    "normalizer_list_dict = {}\n",
    "\n",
    "identifier_list = []\n"
   ]
  },
  {
   "cell_type": "markdown",
   "metadata": {},
   "source": [
    "## ADULT DATASET"
   ]
  },
  {
   "cell_type": "code",
   "execution_count": null,
   "metadata": {
    "execution": {
     "iopub.status.busy": "2022-01-14T23:14:41.596207Z",
     "iopub.status.idle": "2022-01-14T23:14:41.596455Z",
     "shell.execute_reply": "2022-01-14T23:14:41.596332Z",
     "shell.execute_reply.started": "2022-01-14T23:14:41.596318Z"
    },
    "tags": []
   },
   "outputs": [],
   "source": [
    "feature_names = [\n",
    "                 \"Age\", #0\n",
    "                 \"Workclass\",  #1\n",
    "                 \"fnlwgt\",  #2\n",
    "                 \"Education\",  #3\n",
    "                 \"Education-Num\",  #4\n",
    "                 \"Marital Status\", #5\n",
    "                 \"Occupation\",  #6\n",
    "                 \"Relationship\",  #7\n",
    "                 \"Race\",  #8\n",
    "                 \"Sex\",  #9\n",
    "                 \"Capital Gain\",  #10\n",
    "                 \"Capital Loss\", #11\n",
    "                 \"Hours per week\",  #12\n",
    "                 \"Country\", #13\n",
    "                 \"capital_gain\" #14\n",
    "                ] \n",
    "\n",
    "adult_data = pd.read_csv('https://archive.ics.uci.edu/ml/machine-learning-databases/adult/adult.data', names=feature_names, index_col=False)\n",
    "\n",
    "\n",
    "#adult_data['Workclass'][adult_data['Workclass'] != ' Private'] = 'Other'\n",
    "#adult_data['Race'][adult_data['Race'] != ' White'] = 'Other'\n",
    "\n",
    "#adult_data.head()\n",
    "\n",
    "features_select = [\n",
    "                 \"Sex\",  #9 \n",
    "                 \"Race\",  #8\n",
    "                 \"Workclass\",  #1\n",
    "                 \"Age\", #0\n",
    "                 \"fnlwgt\",  #2\n",
    "                 \"Education\",  #3\n",
    "                 \"Education-Num\",  #4\n",
    "                 \"Marital Status\", #5\n",
    "                 \"Occupation\",  #6\n",
    "                 \"Relationship\",  #7\n",
    "                 \"Capital Gain\",  #10\n",
    "                 \"Capital Loss\", #11\n",
    "                 \"Hours per week\",  #12\n",
    "                 #\"Country\", #13 \n",
    "                 \"capital_gain\"\n",
    "                  ]\n",
    "\n",
    "adult_data = adult_data[features_select]\n",
    "\n",
    "nominal_features_adult = ['Race', 'Workclass', 'Education', \"Marital Status\", \"Occupation\", \"Relationship\"]\n",
    "ordinal_features_adult = ['Sex']\n",
    "\n",
    "X_data_adult = adult_data.drop(['capital_gain'], axis = 1)\n",
    "\n",
    "#y_data_adult = pd.Series(OrdinalEncoder().fit_transform(adult_data['capital_gain'].values.reshape(-1, 1)).flatten(), name='capital_gain')\n",
    "y_data_adult = ((adult_data['capital_gain'] != ' <=50K') * 1)"
   ]
  },
  {
   "cell_type": "code",
   "execution_count": null,
   "metadata": {
    "execution": {
     "iopub.status.busy": "2022-01-14T23:14:41.597210Z",
     "iopub.status.idle": "2022-01-14T23:14:41.597443Z",
     "shell.execute_reply": "2022-01-14T23:14:41.597329Z",
     "shell.execute_reply.started": "2022-01-14T23:14:41.597316Z"
    },
    "tags": []
   },
   "outputs": [],
   "source": [
    "config_train_network_adult = deepcopy(config)\n",
    "#config_train_network_adult['lambda_net']['batch_lambda'] = 32\n",
    "#config_train_network_adult['lambda_net']['learning_rate_lambda'] = 0.0003\n",
    "#config_train_network_adult['lambda_net']['dropout_lambda'] = 0.25\n",
    "#config_train_network_adult['lambda_net']['epochs_lambda'] = 5"
   ]
  },
  {
   "cell_type": "code",
   "execution_count": null,
   "metadata": {
    "execution": {
     "iopub.status.busy": "2022-01-14T23:14:41.598265Z",
     "iopub.status.idle": "2022-01-14T23:14:41.598525Z",
     "shell.execute_reply": "2022-01-14T23:14:41.598409Z",
     "shell.execute_reply.started": "2022-01-14T23:14:41.598395Z"
    },
    "tags": []
   },
   "outputs": [],
   "source": [
    "identifier = 'Adult'\n",
    "identifier_list.append(identifier)\n",
    "\n",
    "(distances_dict[identifier], \n",
    " evaluation_result_dict[identifier], \n",
    " results_dict[identifier], \n",
    " dt_inet_dict[identifier], \n",
    " dt_distilled_list_dict[identifier], \n",
    " data_dict[identifier],\n",
    " normalizer_list_dict[identifier]) = evaluate_real_world_dataset(model,\n",
    "                                                                dataset_size_list,\n",
    "                                                                mean_train_parameters,\n",
    "                                                                std_train_parameters,\n",
    "                                                                lambda_net_dataset_train.network_parameters_array,\n",
    "                                                                X_data_adult, \n",
    "                                                                y_data_adult, \n",
    "                                                                nominal_features = nominal_features_adult, \n",
    "                                                                ordinal_features = ordinal_features_adult,\n",
    "                                                                config = config,\n",
    "                                                                config_train_network = config_train_network_adult)\n",
    "\n",
    "print_head = None\n",
    "if verbosity > 0:\n",
    "    print_results_different_data_sizes(results_dict['Adult'], dataset_size_list_print)\n",
    "    print_network_distances(distances_dict)\n",
    "\n",
    "    dt_inet_plot = plot_decision_tree_from_parameters(dt_inet_dict[identifier], normalizer_list_dict[identifier], config)\n",
    "    dt_distilled_plot = plot_decision_tree_from_model(dt_distilled_list_dict[identifier][-2], config)\n",
    "\n",
    "    display(dt_inet_plot, dt_distilled_plot)\n",
    "\n",
    "    print_head = data_dict[identifier]['X_train'].head()\n",
    "print_head"
   ]
  },
  {
   "cell_type": "markdown",
   "metadata": {},
   "source": [
    "## Titanic Dataset"
   ]
  },
  {
   "cell_type": "code",
   "execution_count": null,
   "metadata": {
    "execution": {
     "iopub.status.busy": "2022-01-14T23:14:41.599219Z",
     "iopub.status.idle": "2022-01-14T23:14:41.599451Z",
     "shell.execute_reply": "2022-01-14T23:14:41.599336Z",
     "shell.execute_reply.started": "2022-01-14T23:14:41.599323Z"
    },
    "tags": []
   },
   "outputs": [],
   "source": [
    "titanic_data = pd.read_csv(\"./real_world_datasets/Titanic/train.csv\")\n",
    "\n",
    "titanic_data['Age'].fillna(titanic_data['Age'].mean(), inplace = True)\n",
    "titanic_data['Fare'].fillna(titanic_data['Fare'].mean(), inplace = True)\n",
    "    \n",
    "titanic_data['Embarked'].fillna('S', inplace = True)\n",
    "\n",
    "features_select = [\n",
    "                    #'Cabin', \n",
    "                    #'Ticket', \n",
    "                    #'Name', \n",
    "                    #'PassengerId'    \n",
    "                    'Sex',    \n",
    "                    'Embarked',\n",
    "                    'Pclass',\n",
    "                    'Age',\n",
    "                    'SibSp',    \n",
    "                    'Parch',\n",
    "                    'Fare',    \n",
    "                    'Survived',    \n",
    "                  ]\n",
    "\n",
    "titanic_data = titanic_data[features_select]\n",
    "\n",
    "nominal_features_titanic = ['Embarked']#[1, 2, 7]\n",
    "ordinal_features_titanic = ['Sex']\n",
    "    \n",
    "X_data_titanic = titanic_data.drop(['Survived'], axis = 1)\n",
    "y_data_titanic = titanic_data['Survived']\n"
   ]
  },
  {
   "cell_type": "markdown",
   "metadata": {},
   "source": [
    "    survival\tSurvival\t0 = No, 1 = Yes\n",
    "    pclass\tTicket class\t1 = 1st, 2 = 2nd, 3 = 3rd\n",
    "    sex\tSex\t\n",
    "    Age\tAge in years\t\n",
    "    sibsp\t# of siblings / spouses aboard the Titanic\t\n",
    "    parch\t# of parents / children aboard the Titanic\t\n",
    "    ticket\tTicket number\t\n",
    "    fare\tPassenger fare\t\n",
    "    cabin\tCabin number\t\n",
    "    embarked\tPort of Embarkation\tC = Cherbourg, Q = Queenstown, S = Southampton"
   ]
  },
  {
   "cell_type": "code",
   "execution_count": null,
   "metadata": {
    "execution": {
     "iopub.status.busy": "2022-01-14T23:14:41.600364Z",
     "iopub.status.idle": "2022-01-14T23:14:41.600598Z",
     "shell.execute_reply": "2022-01-14T23:14:41.600482Z",
     "shell.execute_reply.started": "2022-01-14T23:14:41.600469Z"
    },
    "tags": []
   },
   "outputs": [],
   "source": [
    "identifier = 'Titanic'\n",
    "identifier_list.append(identifier)\n",
    "\n",
    "(distances_dict[identifier], \n",
    " evaluation_result_dict[identifier], \n",
    " results_dict[identifier], \n",
    " dt_inet_dict[identifier], \n",
    " dt_distilled_list_dict[identifier], \n",
    " data_dict[identifier],\n",
    " normalizer_list_dict[identifier]) = evaluate_real_world_dataset(model,\n",
    "                                                                dataset_size_list,\n",
    "                                                                mean_train_parameters,\n",
    "                                                                std_train_parameters,\n",
    "                                                                lambda_net_dataset_train.network_parameters_array,\n",
    "                                                                X_data_titanic, \n",
    "                                                                y_data_titanic, \n",
    "                                                                nominal_features = nominal_features_titanic, \n",
    "                                                                ordinal_features = ordinal_features_titanic,\n",
    "                                                                config = config,\n",
    "                                                                config_train_network = None)\n",
    "print_head = None\n",
    "if verbosity > 0:\n",
    "    print_results_different_data_sizes(results_dict[identifier], dataset_size_list_print)\n",
    "    print_network_distances(distances_dict)\n",
    "\n",
    "    dt_inet_plot = plot_decision_tree_from_parameters(dt_inet_dict[identifier], normalizer_list_dict[identifier], config)\n",
    "    dt_distilled_plot = plot_decision_tree_from_model(dt_distilled_list_dict[identifier][-2], config)\n",
    "\n",
    "    display(dt_inet_plot, dt_distilled_plot)\n",
    "\n",
    "    print_head = data_dict[identifier]['X_train'].head()\n",
    "print_head"
   ]
  },
  {
   "cell_type": "markdown",
   "metadata": {},
   "source": [
    "## Absenteeism at Work Dataset"
   ]
  },
  {
   "cell_type": "code",
   "execution_count": null,
   "metadata": {
    "execution": {
     "iopub.status.busy": "2022-01-14T23:14:41.601342Z",
     "iopub.status.idle": "2022-01-14T23:14:41.601577Z",
     "shell.execute_reply": "2022-01-14T23:14:41.601461Z",
     "shell.execute_reply.started": "2022-01-14T23:14:41.601448Z"
    },
    "tags": []
   },
   "outputs": [],
   "source": [
    "absenteeism_data = pd.read_csv('real_world_datasets/Absenteeism/absenteeism.csv', delimiter=';')\n",
    "\n",
    "features_select = [\n",
    "                           'Disciplinary failure', #CATEGORICAL\n",
    "                           'Social drinker', #CATEGORICAL\n",
    "                           'Social smoker', #CATEGORICAL\n",
    "                           'Transportation expense', \n",
    "                           'Distance from Residence to Work',\n",
    "                           'Service time', \n",
    "                           'Age', \n",
    "                           'Work load Average/day ', \n",
    "                           'Hit target',\n",
    "                           'Education', \n",
    "                           'Son', \n",
    "                           'Pet', \n",
    "                           'Weight', \n",
    "                           'Height', \n",
    "                           'Body mass index', \n",
    "                           'Absenteeism time in hours'\n",
    "                        ]\n",
    "\n",
    "absenteeism_data = absenteeism_data[features_select]\n",
    "\n",
    "nominal_features_absenteeism = []\n",
    "ordinal_features_absenteeism = []\n",
    "    \n",
    "X_data_absenteeism = absenteeism_data.drop(['Absenteeism time in hours'], axis = 1)\n",
    "y_data_absenteeism = ((absenteeism_data['Absenteeism time in hours'] > 4) * 1) #absenteeism_data['Absenteeism time in hours']\n"
   ]
  },
  {
   "cell_type": "markdown",
   "metadata": {},
   "source": [
    "    3. Month of absence\n",
    "    4. Day of the week (Monday (2), Tuesday (3), Wednesday (4), Thursday (5), Friday (6))\n",
    "    5. Seasons (summer (1), autumn (2), winter (3), spring (4))\n",
    "    6. Transportation expense\n",
    "    7. Distance from Residence to Work (kilometers)\n",
    "    8. Service time\n",
    "    9. Age\n",
    "    10. Work load Average/day\n",
    "    11. Hit target\n",
    "    12. Disciplinary failure (yes=1; no=0)\n",
    "    13. Education (high school (1), graduate (2), postgraduate (3), master and doctor (4))\n",
    "    14. Son (number of children)\n",
    "    15. Social drinker (yes=1; no=0)\n",
    "    16. Social smoker (yes=1; no=0)\n",
    "    17. Pet (number of pet)\n",
    "    18. Weight\n",
    "    19. Height\n",
    "    20. Body mass index\n",
    "    21. Absenteeism time in hours (target)"
   ]
  },
  {
   "cell_type": "code",
   "execution_count": null,
   "metadata": {
    "execution": {
     "iopub.status.busy": "2022-01-14T23:14:41.602492Z",
     "iopub.status.idle": "2022-01-14T23:14:41.602729Z",
     "shell.execute_reply": "2022-01-14T23:14:41.602613Z",
     "shell.execute_reply.started": "2022-01-14T23:14:41.602599Z"
    },
    "tags": []
   },
   "outputs": [],
   "source": [
    "identifier = 'Absenteeism'\n",
    "identifier_list.append(identifier)\n",
    "\n",
    "(distances_dict[identifier], \n",
    " evaluation_result_dict[identifier], \n",
    " results_dict[identifier], \n",
    " dt_inet_dict[identifier], \n",
    " dt_distilled_list_dict[identifier], \n",
    " data_dict[identifier],\n",
    " normalizer_list_dict[identifier]) = evaluate_real_world_dataset(model,\n",
    "                                                                dataset_size_list,\n",
    "                                                                mean_train_parameters,\n",
    "                                                                std_train_parameters,\n",
    "                                                                lambda_net_dataset_train.network_parameters_array,\n",
    "                                                                X_data_absenteeism, \n",
    "                                                                y_data_absenteeism, \n",
    "                                                                nominal_features = nominal_features_absenteeism, \n",
    "                                                                ordinal_features = ordinal_features_absenteeism,\n",
    "                                                                config = config,\n",
    "                                                                config_train_network = None)\n",
    "\n",
    "print_head = None\n",
    "if verbosity > 0:\n",
    "    print_results_different_data_sizes(results_dict[identifier], dataset_size_list_print)\n",
    "    print_network_distances(distances_dict)\n",
    "\n",
    "    dt_inet_plot = plot_decision_tree_from_parameters(dt_inet_dict[identifier], normalizer_list_dict[identifier], config)\n",
    "    dt_distilled_plot = plot_decision_tree_from_model(dt_distilled_list_dict[identifier][-2], config)\n",
    "\n",
    "    display(dt_inet_plot, dt_distilled_plot)\n",
    "\n",
    "    print_head = data_dict[identifier]['X_train'].head()\n",
    "print_head"
   ]
  },
  {
   "cell_type": "markdown",
   "metadata": {},
   "source": [
    "# Loan Dataset"
   ]
  },
  {
   "cell_type": "code",
   "execution_count": null,
   "metadata": {
    "execution": {
     "iopub.status.busy": "2022-01-14T23:14:41.603495Z",
     "iopub.status.idle": "2022-01-14T23:14:41.603768Z",
     "shell.execute_reply": "2022-01-14T23:14:41.603649Z",
     "shell.execute_reply.started": "2022-01-14T23:14:41.603635Z"
    },
    "tags": []
   },
   "outputs": [],
   "source": [
    "loan_data = pd.read_csv('real_world_datasets/Loan/loan-train.csv', delimiter=',')\n",
    "\n",
    "loan_data['Gender'].fillna(loan_data['Gender'].mode()[0], inplace=True)\n",
    "loan_data['Dependents'].fillna(loan_data['Dependents'].mode()[0], inplace=True)\n",
    "loan_data['Married'].fillna(loan_data['Married'].mode()[0], inplace=True)\n",
    "loan_data['Self_Employed'].fillna(loan_data['Self_Employed'].mode()[0], inplace=True)\n",
    "loan_data['LoanAmount'].fillna(loan_data['LoanAmount'].mean(), inplace=True)\n",
    "loan_data['Loan_Amount_Term'].fillna(loan_data['Loan_Amount_Term'].mean(), inplace=True)\n",
    "loan_data['Credit_History'].fillna(loan_data['Credit_History'].mean(), inplace=True)\n",
    "\n",
    "features_select = [\n",
    "                    #'Loan_ID', \n",
    "                    'Gender', #\n",
    "                    'Married', \n",
    "                    'Dependents', \n",
    "                    'Education',\n",
    "                    'Self_Employed', \n",
    "                    'ApplicantIncome', \n",
    "                    'CoapplicantIncome', \n",
    "                    'LoanAmount',\n",
    "                    'Loan_Amount_Term', \n",
    "                    'Credit_History', \n",
    "                    'Property_Area', \n",
    "                    'Loan_Status'\n",
    "                    ]\n",
    "\n",
    "loan_data = loan_data[features_select]\n",
    "\n",
    "nominal_features_loan = [\n",
    "                        'Dependents',\n",
    "                        'Education',\n",
    "                        'Property_Area',    \n",
    "                        ]\n",
    "ordinal_features_loan = [\n",
    "                    'Gender', \n",
    "                    'Married', \n",
    "                    'Self_Employed',\n",
    "                   ]\n",
    "    \n",
    "X_data_loan = loan_data.drop(['Loan_Status'], axis = 1)\n",
    "y_data_loan = ((loan_data['Loan_Status'] == 'Y') * 1) #absenteeism_data['Absenteeism time in hours']"
   ]
  },
  {
   "cell_type": "code",
   "execution_count": null,
   "metadata": {
    "execution": {
     "iopub.status.busy": "2022-01-14T23:14:41.604475Z",
     "iopub.status.idle": "2022-01-14T23:14:41.604708Z",
     "shell.execute_reply": "2022-01-14T23:14:41.604594Z",
     "shell.execute_reply.started": "2022-01-14T23:14:41.604581Z"
    },
    "tags": []
   },
   "outputs": [],
   "source": [
    "identifier = 'Loan House'\n",
    "identifier_list.append(identifier)\n",
    "\n",
    "(distances_dict[identifier], \n",
    " evaluation_result_dict[identifier], \n",
    " results_dict[identifier], \n",
    " dt_inet_dict[identifier], \n",
    " dt_distilled_list_dict[identifier], \n",
    " data_dict[identifier],\n",
    " normalizer_list_dict[identifier]) = evaluate_real_world_dataset(model,\n",
    "                                                                dataset_size_list,\n",
    "                                                                mean_train_parameters,\n",
    "                                                                std_train_parameters,\n",
    "                                                                lambda_net_dataset_train.network_parameters_array,\n",
    "                                                                X_data_loan, \n",
    "                                                                y_data_loan, \n",
    "                                                                nominal_features = nominal_features_loan, \n",
    "                                                                ordinal_features = ordinal_features_loan,\n",
    "                                                                config = config,\n",
    "                                                                config_train_network = None)\n",
    "print_head = None\n",
    "if verbosity > 0:\n",
    "    print_results_different_data_sizes(results_dict[identifier], dataset_size_list_print)\n",
    "    print_network_distances(distances_dict)\n",
    "\n",
    "    dt_inet_plot = plot_decision_tree_from_parameters(dt_inet_dict[identifier], normalizer_list_dict[identifier], config)\n",
    "    dt_distilled_plot = plot_decision_tree_from_model(dt_distilled_list_dict[identifier][-2], config)\n",
    "\n",
    "    display(dt_inet_plot, dt_distilled_plot)\n",
    "\n",
    "    print_head = data_dict[identifier]['X_train'].head()\n",
    "print_head"
   ]
  },
  {
   "cell_type": "markdown",
   "metadata": {},
   "source": [
    "# Loan Credit"
   ]
  },
  {
   "cell_type": "code",
   "execution_count": null,
   "metadata": {
    "execution": {
     "iopub.status.busy": "2022-01-14T23:14:41.605538Z",
     "iopub.status.idle": "2022-01-14T23:14:41.605773Z",
     "shell.execute_reply": "2022-01-14T23:14:41.605658Z",
     "shell.execute_reply.started": "2022-01-14T23:14:41.605645Z"
    },
    "tags": []
   },
   "outputs": [],
   "source": [
    "loan_credit_data = pd.read_csv('real_world_datasets/Credit Loan/train_split.csv', delimiter=',')\n",
    "\n",
    "loan_credit_data['emp_title'].fillna(loan_credit_data['emp_title'].mode()[0], inplace=True)\n",
    "loan_credit_data['emp_length'].fillna(loan_credit_data['emp_length'].mode()[0], inplace=True)\n",
    "#loan_credit_data['desc'].fillna(loan_credit_data['desc'].mode()[0], inplace=True)\n",
    "loan_credit_data['title'].fillna(loan_credit_data['title'].mode()[0], inplace=True)\n",
    "#loan_credit_data['mths_since_last_delinq'].fillna(loan_credit_data['mths_since_last_delinq'].mode()[0], inplace=True)\n",
    "#loan_credit_data['mths_since_last_record'].fillna(loan_credit_data['mths_since_last_record'].mode()[0], inplace=True)\n",
    "loan_credit_data['revol_util'].fillna(loan_credit_data['revol_util'].mode()[0], inplace=True)\n",
    "loan_credit_data['collections_12_mths_ex_med'].fillna(loan_credit_data['collections_12_mths_ex_med'].mode()[0], inplace=True)\n",
    "#loan_credit_data['mths_since_last_major_derog'].fillna(loan_credit_data['mths_since_last_major_derog'].mode()[0], inplace=True)\n",
    "#loan_credit_data['verification_status_joint'].fillna(loan_credit_data['verification_status_joint'].mode()[0], inplace=True)\n",
    "loan_credit_data['tot_coll_amt'].fillna(loan_credit_data['tot_coll_amt'].mode()[0], inplace=True)\n",
    "loan_credit_data['tot_cur_bal'].fillna(loan_credit_data['tot_cur_bal'].mode()[0], inplace=True)\n",
    "loan_credit_data['total_rev_hi_lim'].fillna(loan_credit_data['total_rev_hi_lim'].mode()[0], inplace=True)\n",
    "\n",
    "\n",
    "##remove too many null\n",
    "#'mths_since_last_delinq','mths_since_last_record', 'mths_since_last_major_derog','pymnt_plan','desc', 'verification_status_joint'\n",
    "\n",
    "\n",
    "features_select = [\n",
    "                    #'member_id', \n",
    "                    'loan_amnt', \n",
    "                    'funded_amnt', \n",
    "                    'funded_amnt_inv', \n",
    "                    'term',\n",
    "                    #'batch_enrolled',\n",
    "                    'int_rate', \n",
    "                    'grade', \n",
    "                    #'sub_grade', \n",
    "                    #'emp_title',\n",
    "                    'emp_length',\n",
    "                    'home_ownership', \n",
    "                    'annual_inc', \n",
    "                    'verification_status',\n",
    "                    #'pymnt_plan', \n",
    "                    #'desc', \n",
    "                    'purpose', \n",
    "                    'title', \n",
    "                    #'zip_code', \n",
    "                    #'addr_state',\n",
    "                    'dti', \n",
    "                    'delinq_2yrs', \n",
    "                    'inq_last_6mths', \n",
    "                    #'mths_since_last_delinq',\n",
    "                    #'mths_since_last_record',\n",
    "                    'open_acc', \n",
    "                    'pub_rec', \n",
    "                    'revol_bal',\n",
    "                    'revol_util', \n",
    "                    'total_acc', \n",
    "                    'initial_list_status', \n",
    "                    'total_rec_int',\n",
    "                    'total_rec_late_fee', \n",
    "                    'recoveries', \n",
    "                    'collection_recovery_fee',\n",
    "                    'collections_12_mths_ex_med', \n",
    "                    #'mths_since_last_major_derog',\n",
    "                    'application_type', \n",
    "                    #'verification_status_joint', \n",
    "                    'last_week_pay',\n",
    "                    'acc_now_delinq', \n",
    "                    'tot_coll_amt', \n",
    "                    'tot_cur_bal', \n",
    "                    'total_rev_hi_lim',\n",
    "                    'loan_status'\n",
    "                    ]\n",
    "\n",
    "loan_credit_data = loan_credit_data[features_select]\n",
    "\n",
    "nominal_features_loan_credit = [\n",
    "\n",
    "                        ]\n",
    "ordinal_features_loan_credit = [\n",
    "                    #'member_id', \n",
    "                    'loan_amnt', \n",
    "                    'funded_amnt', \n",
    "                    'funded_amnt_inv', \n",
    "                    'term',\n",
    "                    #'batch_enrolled',\n",
    "                    'int_rate', \n",
    "                    'grade', \n",
    "                    #'sub_grade', \n",
    "                    #'emp_title',\n",
    "                    'emp_length',\n",
    "                    'home_ownership', \n",
    "                    'annual_inc', \n",
    "                    'verification_status',\n",
    "                    #'pymnt_plan', \n",
    "                    #'desc', \n",
    "                    'purpose', \n",
    "                    'title', \n",
    "                    #'zip_code', \n",
    "                    #'addr_state',\n",
    "                    'dti', \n",
    "                    'delinq_2yrs', \n",
    "                    'inq_last_6mths', \n",
    "                    #'mths_since_last_delinq',\n",
    "                    #'mths_since_last_record',\n",
    "                    'open_acc', \n",
    "                    'pub_rec', \n",
    "                    'revol_bal',\n",
    "                    'revol_util', \n",
    "                    'total_acc', \n",
    "                    'initial_list_status', \n",
    "                    'total_rec_int',\n",
    "                    'total_rec_late_fee', \n",
    "                    'recoveries', \n",
    "                    'collection_recovery_fee',\n",
    "                    'collections_12_mths_ex_med', \n",
    "                    #'mths_since_last_major_derog',\n",
    "                    'application_type', \n",
    "                    #'verification_status_joint', \n",
    "                    'last_week_pay',\n",
    "                    'acc_now_delinq', \n",
    "                    'tot_coll_amt', \n",
    "                    'tot_cur_bal', \n",
    "                    'total_rev_hi_lim',\n",
    "                   ]\n",
    "    \n",
    "X_data_loan_credit = loan_credit_data.drop(['loan_status'], axis = 1)\n",
    "y_data_loan_credit = pd.Series(OrdinalEncoder().fit_transform(loan_credit_data['loan_status'].values.reshape(-1, 1)).flatten(), name='loan_status')\n"
   ]
  },
  {
   "cell_type": "code",
   "execution_count": null,
   "metadata": {
    "execution": {
     "iopub.status.busy": "2022-01-14T23:14:41.606593Z",
     "iopub.status.idle": "2022-01-14T23:14:41.606829Z",
     "shell.execute_reply": "2022-01-14T23:14:41.606714Z",
     "shell.execute_reply.started": "2022-01-14T23:14:41.606700Z"
    },
    "tags": []
   },
   "outputs": [],
   "source": [
    "identifier = 'Loan Credit'\n",
    "identifier_list.append(identifier)\n",
    "\n",
    "(distances_dict[identifier], \n",
    " evaluation_result_dict[identifier], \n",
    " results_dict[identifier], \n",
    " dt_inet_dict[identifier], \n",
    " dt_distilled_list_dict[identifier], \n",
    " data_dict[identifier],\n",
    " normalizer_list_dict[identifier]) = evaluate_real_world_dataset(model,\n",
    "                                                                dataset_size_list,\n",
    "                                                                mean_train_parameters,\n",
    "                                                                std_train_parameters,\n",
    "                                                                lambda_net_dataset_train.network_parameters_array,\n",
    "                                                                X_data_loan_credit, \n",
    "                                                                y_data_loan_credit, \n",
    "                                                                nominal_features = nominal_features_loan_credit, \n",
    "                                                                ordinal_features = ordinal_features_loan_credit,\n",
    "                                                                config = config,\n",
    "                                                                config_train_network = None)\n",
    "print_head = None\n",
    "if verbosity > 0:\n",
    "    print_results_different_data_sizes(results_dict[identifier], dataset_size_list_print)\n",
    "    print_network_distances(distances_dict)\n",
    "\n",
    "    dt_inet_plot = plot_decision_tree_from_parameters(dt_inet_dict[identifier], normalizer_list_dict[identifier], config)\n",
    "    dt_distilled_plot = plot_decision_tree_from_model(dt_distilled_list_dict[identifier][-2], config)\n",
    "\n",
    "    display(dt_inet_plot, dt_distilled_plot)\n",
    "\n",
    "    print_head = data_dict[identifier]['X_train'].head()\n",
    "print_head"
   ]
  },
  {
   "cell_type": "markdown",
   "metadata": {},
   "source": [
    "# Medical Insurance"
   ]
  },
  {
   "cell_type": "code",
   "execution_count": null,
   "metadata": {
    "execution": {
     "iopub.status.busy": "2022-01-14T23:14:41.607666Z",
     "iopub.status.idle": "2022-01-14T23:14:41.607900Z",
     "shell.execute_reply": "2022-01-14T23:14:41.607785Z",
     "shell.execute_reply.started": "2022-01-14T23:14:41.607772Z"
    },
    "tags": []
   },
   "outputs": [],
   "source": [
    "medical_insurance_data = pd.read_csv('real_world_datasets/Medical Insurance/insurance.csv', delimiter=',')\n",
    "\n",
    "features_select = [\n",
    "                    'age', \n",
    "                    'sex', \n",
    "                    'bmi', \n",
    "                    'children', \n",
    "                    'smoker',\n",
    "                    'region',\n",
    "                    'charges'\n",
    "                    ]\n",
    "\n",
    "medical_insurance_data = medical_insurance_data[features_select]\n",
    "\n",
    "nominal_features_medical_insurance = [\n",
    "\n",
    "                        ]\n",
    "ordinal_features_medical_insurance = [\n",
    "                    'sex',\n",
    "                    'region',\n",
    "                    'smoker'\n",
    "                   ]\n",
    "\n",
    "    \n",
    "X_data_medical_insurance = medical_insurance_data.drop(['charges'], axis = 1)\n",
    "y_data_medical_insurance = ((medical_insurance_data['charges'] > 10_000) * 1)\n",
    "\n",
    "\n",
    "print(X_data_medical_insurance.shape)\n",
    "X_data_medical_insurance.head()\n"
   ]
  },
  {
   "cell_type": "code",
   "execution_count": null,
   "metadata": {
    "execution": {
     "iopub.status.busy": "2022-01-14T23:14:41.608597Z",
     "iopub.status.idle": "2022-01-14T23:14:41.608844Z",
     "shell.execute_reply": "2022-01-14T23:14:41.608717Z",
     "shell.execute_reply.started": "2022-01-14T23:14:41.608704Z"
    },
    "tags": []
   },
   "outputs": [],
   "source": [
    "identifier = 'Medical Insurance'\n",
    "identifier_list.append(identifier)\n",
    "\n",
    "(distances_dict[identifier], \n",
    " evaluation_result_dict[identifier], \n",
    " results_dict[identifier], \n",
    " dt_inet_dict[identifier], \n",
    " dt_distilled_list_dict[identifier], \n",
    " data_dict[identifier],\n",
    " normalizer_list_dict[identifier]) = evaluate_real_world_dataset(model,\n",
    "                                                                dataset_size_list,\n",
    "                                                                mean_train_parameters,\n",
    "                                                                std_train_parameters,\n",
    "                                                                lambda_net_dataset_train.network_parameters_array,\n",
    "                                                                X_data_medical_insurance, \n",
    "                                                                y_data_medical_insurance, \n",
    "                                                                nominal_features = nominal_features_medical_insurance, \n",
    "                                                                ordinal_features = ordinal_features_medical_insurance,\n",
    "                                                                config = config,\n",
    "                                                                config_train_network = None)\n",
    "print_head = None\n",
    "if verbosity > 0:\n",
    "    print_results_different_data_sizes(results_dict[identifier], dataset_size_list_print)\n",
    "    print_network_distances(distances_dict)\n",
    "\n",
    "    dt_inet_plot = plot_decision_tree_from_parameters(dt_inet_dict[identifier], normalizer_list_dict[identifier], config)\n",
    "    dt_distilled_plot = plot_decision_tree_from_model(dt_distilled_list_dict[identifier][-2], config)\n",
    "\n",
    "    display(dt_inet_plot, dt_distilled_plot)\n",
    "\n",
    "    print_head = data_dict[identifier]['X_train'].head()\n",
    "print_head"
   ]
  },
  {
   "cell_type": "markdown",
   "metadata": {},
   "source": [
    "# Bank Marketing"
   ]
  },
  {
   "cell_type": "code",
   "execution_count": null,
   "metadata": {
    "execution": {
     "iopub.status.busy": "2022-01-14T23:14:41.609765Z",
     "iopub.status.idle": "2022-01-14T23:14:41.610000Z",
     "shell.execute_reply": "2022-01-14T23:14:41.609884Z",
     "shell.execute_reply.started": "2022-01-14T23:14:41.609871Z"
    },
    "tags": []
   },
   "outputs": [],
   "source": [
    "bank_data = pd.read_csv('real_world_datasets/Bank Marketing/bank-full.csv', delimiter=';') #bank\n",
    "\n",
    "features_select = [\n",
    "                    'age',\n",
    "                    #'job', \n",
    "                    'marital', \n",
    "                    'education', \n",
    "                    'default',\n",
    "                    'housing',\n",
    "                    'loan',\n",
    "                    #'contact',\n",
    "                    #'day',\n",
    "                    #'month',\n",
    "                    'duration',\n",
    "                    'campaign',\n",
    "                    'pdays',\n",
    "                    'previous',\n",
    "                    'poutcome',\n",
    "                    'y',\n",
    "                    ]\n",
    "\n",
    "bank_data = bank_data[features_select]\n",
    "\n",
    "nominal_features_bank = [\n",
    "                        #'job',\n",
    "                        'education',\n",
    "                        #'contact',\n",
    "                        #'day',\n",
    "                        #'month',\n",
    "                        'poutcome',\n",
    "                        ]\n",
    "ordinal_features_bank = [\n",
    "                    'marital',\n",
    "                    'default',\n",
    "                    'housing',\n",
    "                    'loan',\n",
    "                   ]\n",
    "\n",
    "    \n",
    "X_data_bank = bank_data.drop(['y'], axis = 1)\n",
    "y_data_bank = pd.Series(OrdinalEncoder().fit_transform(bank_data['y'].values.reshape(-1, 1)).flatten(), name='y')\n"
   ]
  },
  {
   "cell_type": "code",
   "execution_count": null,
   "metadata": {
    "execution": {
     "iopub.status.busy": "2022-01-14T23:14:41.610816Z",
     "iopub.status.idle": "2022-01-14T23:14:41.611049Z",
     "shell.execute_reply": "2022-01-14T23:14:41.610933Z",
     "shell.execute_reply.started": "2022-01-14T23:14:41.610920Z"
    },
    "tags": []
   },
   "outputs": [],
   "source": [
    "identifier = 'Bank Marketing'\n",
    "identifier_list.append(identifier)\n",
    "\n",
    "(distances_dict[identifier], \n",
    " evaluation_result_dict[identifier], \n",
    " results_dict[identifier], \n",
    " dt_inet_dict[identifier], \n",
    " dt_distilled_list_dict[identifier], \n",
    " data_dict[identifier],\n",
    " normalizer_list_dict[identifier]) = evaluate_real_world_dataset(model,\n",
    "                                                                dataset_size_list,\n",
    "                                                                mean_train_parameters,\n",
    "                                                                std_train_parameters,\n",
    "                                                                lambda_net_dataset_train.network_parameters_array,\n",
    "                                                                X_data_bank, \n",
    "                                                                y_data_bank, \n",
    "                                                                nominal_features = nominal_features_bank, \n",
    "                                                                ordinal_features = ordinal_features_bank,\n",
    "                                                                config = config,\n",
    "                                                                config_train_network = None)\n",
    "print_head = None\n",
    "if verbosity > 0:\n",
    "    print_results_different_data_sizes(results_dict[identifier], dataset_size_list_print)\n",
    "    print_network_distances(distances_dict)\n",
    "\n",
    "    dt_inet_plot = plot_decision_tree_from_parameters(dt_inet_dict[identifier], normalizer_list_dict[identifier], config)\n",
    "    dt_distilled_plot = plot_decision_tree_from_model(dt_distilled_list_dict[identifier][-2], config)\n",
    "\n",
    "    display(dt_inet_plot, dt_distilled_plot)\n",
    "\n",
    "    print_head = data_dict[identifier]['X_train'].head()\n",
    "print_head"
   ]
  },
  {
   "cell_type": "markdown",
   "metadata": {},
   "source": [
    "# Brest Cancer Wisconsin"
   ]
  },
  {
   "cell_type": "code",
   "execution_count": null,
   "metadata": {
    "execution": {
     "iopub.status.busy": "2022-01-14T23:14:41.611985Z",
     "iopub.status.idle": "2022-01-14T23:14:41.612223Z",
     "shell.execute_reply": "2022-01-14T23:14:41.612106Z",
     "shell.execute_reply.started": "2022-01-14T23:14:41.612093Z"
    },
    "tags": []
   },
   "outputs": [],
   "source": [
    "feature_names = [\n",
    "                'Sample code number',\n",
    "                'Clump Thickness',\n",
    "                'Uniformity of Cell Size',\n",
    "                'Uniformity of Cell Shape',\n",
    "                'Marginal Adhesion',\n",
    "                'Single Epithelial Cell Size',\n",
    "                'Bare Nuclei',\n",
    "                'Bland Chromatin',\n",
    "                'Normal Nucleoli',\n",
    "                'Mitoses',\n",
    "                'Class',\n",
    "                ]\n",
    "\n",
    "bcw_data = pd.read_csv('https://archive.ics.uci.edu/ml/machine-learning-databases/breast-cancer-wisconsin/breast-cancer-wisconsin.data', names=feature_names, index_col=False)\n",
    "\n",
    "bcw_data['Clump Thickness'][bcw_data['Clump Thickness'] == '?'] = bcw_data['Clump Thickness'].mode()[0]\n",
    "bcw_data['Uniformity of Cell Size'][bcw_data['Uniformity of Cell Size'] == '?'] = bcw_data['Uniformity of Cell Size'].mode()[0]\n",
    "bcw_data['Uniformity of Cell Shape'][bcw_data['Uniformity of Cell Shape'] == '?'] = bcw_data['Uniformity of Cell Shape'].mode()[0]\n",
    "bcw_data['Marginal Adhesion'][bcw_data['Marginal Adhesion'] == '?'] = bcw_data['Marginal Adhesion'].mode()[0]\n",
    "bcw_data['Single Epithelial Cell Size'][bcw_data['Single Epithelial Cell Size'] == '?'] = bcw_data['Single Epithelial Cell Size'].mode()[0]\n",
    "bcw_data['Bare Nuclei'][bcw_data['Bare Nuclei'] == '?'] = bcw_data['Bare Nuclei'].mode()[0]\n",
    "bcw_data['Bland Chromatin'][bcw_data['Bland Chromatin'] == '?'] = bcw_data['Bland Chromatin'].mode()[0]\n",
    "bcw_data['Normal Nucleoli'][bcw_data['Normal Nucleoli'] == '?'] = bcw_data['Normal Nucleoli'].mode()[0]\n",
    "bcw_data['Mitoses'][bcw_data['Mitoses'] == '?'] = bcw_data['Mitoses'].mode()[0]\n",
    "\n",
    "features_select = [\n",
    "                #'Sample code number',\n",
    "                'Clump Thickness',\n",
    "                'Uniformity of Cell Size',\n",
    "                'Uniformity of Cell Shape',\n",
    "                'Marginal Adhesion',\n",
    "                'Single Epithelial Cell Size',\n",
    "                'Bare Nuclei',\n",
    "                'Bland Chromatin',\n",
    "                'Normal Nucleoli',\n",
    "                'Mitoses',\n",
    "                'Class',\n",
    "                    ]\n",
    "\n",
    "bcw_data = bcw_data[features_select]\n",
    "\n",
    "nominal_features_bcw = [\n",
    "                        ]\n",
    "ordinal_features_bcw = [\n",
    "                   ]\n",
    "\n",
    "    \n",
    "X_data_bcw = bcw_data.drop(['Class'], axis = 1)\n",
    "y_data_bcw = pd.Series(OrdinalEncoder().fit_transform(bcw_data['Class'].values.reshape(-1, 1)).flatten(), name='Class')\n"
   ]
  },
  {
   "cell_type": "code",
   "execution_count": null,
   "metadata": {
    "execution": {
     "iopub.status.busy": "2022-01-14T23:14:41.612990Z",
     "iopub.status.idle": "2022-01-14T23:14:41.613228Z",
     "shell.execute_reply": "2022-01-14T23:14:41.613111Z",
     "shell.execute_reply.started": "2022-01-14T23:14:41.613098Z"
    },
    "tags": []
   },
   "outputs": [],
   "source": [
    "identifier = 'Brest Cancer Wisconsin'\n",
    "identifier_list.append(identifier)\n",
    "\n",
    "(distances_dict[identifier], \n",
    " evaluation_result_dict[identifier], \n",
    " results_dict[identifier], \n",
    " dt_inet_dict[identifier], \n",
    " dt_distilled_list_dict[identifier], \n",
    " data_dict[identifier],\n",
    " normalizer_list_dict[identifier]) = evaluate_real_world_dataset(model,\n",
    "                                                                dataset_size_list,\n",
    "                                                                mean_train_parameters,\n",
    "                                                                std_train_parameters,\n",
    "                                                                lambda_net_dataset_train.network_parameters_array,\n",
    "                                                                X_data_bcw, \n",
    "                                                                y_data_bcw, \n",
    "                                                                nominal_features = nominal_features_bcw, \n",
    "                                                                ordinal_features = ordinal_features_bcw,\n",
    "                                                                config = config,\n",
    "                                                                config_train_network = None)\n",
    "print_head = None\n",
    "if verbosity > 0:\n",
    "    print_results_different_data_sizes(results_dict[identifier], dataset_size_list_print)\n",
    "    print_network_distances(distances_dict)\n",
    "\n",
    "    dt_inet_plot = plot_decision_tree_from_parameters(dt_inet_dict[identifier], normalizer_list_dict[identifier], config)\n",
    "    dt_distilled_plot = plot_decision_tree_from_model(dt_distilled_list_dict[identifier][-2], config)\n",
    "\n",
    "    display(dt_inet_plot, dt_distilled_plot)\n",
    "\n",
    "    print_head = data_dict[identifier]['X_train'].head()\n",
    "print_head"
   ]
  },
  {
   "cell_type": "markdown",
   "metadata": {},
   "source": [
    "# Wisconsin Diagnostic Breast Cancer"
   ]
  },
  {
   "cell_type": "code",
   "execution_count": null,
   "metadata": {
    "execution": {
     "iopub.status.busy": "2022-01-14T23:14:41.614113Z",
     "iopub.status.idle": "2022-01-14T23:14:41.614348Z",
     "shell.execute_reply": "2022-01-14T23:14:41.614232Z",
     "shell.execute_reply.started": "2022-01-14T23:14:41.614219Z"
    },
    "tags": []
   },
   "outputs": [],
   "source": [
    "feature_names = [\n",
    "                'ID number',\n",
    "                'Diagnosis',\n",
    "                'radius',# (mean of distances from center to points on the perimeter)\n",
    "                'texture',# (standard deviation of gray-scale values)\n",
    "                'perimeter',\n",
    "                'area',\n",
    "                'smoothness',# (local variation in radius lengths)\n",
    "                'compactness',# (perimeter^2 / area - 1.0)\n",
    "                'concavity',# (severity of concave portions of the contour)\n",
    "                'concave points',# (number of concave portions of the contour)\n",
    "                'symmetry',\n",
    "                'fractal dimension',# (\"coastline approximation\" - 1)\n",
    "                ]\n",
    "#Wisconsin Diagnostic Breast Cancer\n",
    "wdbc_data = pd.read_csv('https://archive.ics.uci.edu/ml/machine-learning-databases/breast-cancer-wisconsin/wdbc.data', names=feature_names, index_col=False)\n",
    "\n",
    "features_select = [\n",
    "                    #'ID number',\n",
    "                    'Diagnosis',\n",
    "                    'radius',# (mean of distances from center to points on the perimeter)\n",
    "                    'texture',# (standard deviation of gray-scale values)\n",
    "                    'perimeter',\n",
    "                    'area',\n",
    "                    'smoothness',# (local variation in radius lengths)\n",
    "                    'compactness',# (perimeter^2 / area - 1.0)\n",
    "                    'concavity',# (severity of concave portions of the contour)\n",
    "                    'concave points',# (number of concave portions of the contour)\n",
    "                    'symmetry',\n",
    "                    'fractal dimension',# (\"coastline approximation\" - 1)\n",
    "                    ]\n",
    "\n",
    "wdbc_data = wdbc_data[features_select]\n",
    "\n",
    "nominal_features_wdbc = [\n",
    "                        ]\n",
    "ordinal_features_wdbc = [\n",
    "                   ]\n",
    "\n",
    "    \n",
    "X_data_wdbc = wdbc_data.drop(['Diagnosis'], axis = 1)\n",
    "y_data_wdbc= pd.Series(OrdinalEncoder().fit_transform(wdbc_data['Diagnosis'].values.reshape(-1, 1)).flatten(), name='Diagnosis')\n"
   ]
  },
  {
   "cell_type": "code",
   "execution_count": null,
   "metadata": {
    "execution": {
     "iopub.status.busy": "2022-01-14T23:14:41.615093Z",
     "iopub.status.idle": "2022-01-14T23:14:41.615325Z",
     "shell.execute_reply": "2022-01-14T23:14:41.615211Z",
     "shell.execute_reply.started": "2022-01-14T23:14:41.615198Z"
    },
    "tags": []
   },
   "outputs": [],
   "source": [
    "identifier = 'Wisconsin Diagnostic Breast Cancer'\n",
    "identifier_list.append(identifier)\n",
    "\n",
    "(distances_dict[identifier], \n",
    " evaluation_result_dict[identifier], \n",
    " results_dict[identifier], \n",
    " dt_inet_dict[identifier], \n",
    " dt_distilled_list_dict[identifier], \n",
    " data_dict[identifier],\n",
    " normalizer_list_dict[identifier]) = evaluate_real_world_dataset(model,\n",
    "                                                                dataset_size_list,\n",
    "                                                                mean_train_parameters,\n",
    "                                                                std_train_parameters,\n",
    "                                                                lambda_net_dataset_train.network_parameters_array,\n",
    "                                                                X_data_wdbc, \n",
    "                                                                y_data_wdbc, \n",
    "                                                                nominal_features = nominal_features_wdbc, \n",
    "                                                                ordinal_features = ordinal_features_wdbc,\n",
    "                                                                config = config,\n",
    "                                                                config_train_network = None)\n",
    "print_head = None\n",
    "if verbosity > 0:\n",
    "    print_results_different_data_sizes(results_dict[identifier], dataset_size_list_print)\n",
    "    print_network_distances(distances_dict)\n",
    "\n",
    "    dt_inet_plot = plot_decision_tree_from_parameters(dt_inet_dict[identifier], normalizer_list_dict[identifier], config)\n",
    "    dt_distilled_plot = plot_decision_tree_from_model(dt_distilled_list_dict[identifier][-2], config)\n",
    "\n",
    "    display(dt_inet_plot, dt_distilled_plot)\n",
    "\n",
    "    print_head = data_dict[identifier]['X_train'].head()\n",
    "print_head"
   ]
  },
  {
   "cell_type": "markdown",
   "metadata": {},
   "source": [
    "# Wisconsin Prognostic Breast Cancer"
   ]
  },
  {
   "cell_type": "code",
   "execution_count": null,
   "metadata": {
    "execution": {
     "iopub.status.busy": "2022-01-14T23:14:41.616143Z",
     "iopub.status.idle": "2022-01-14T23:14:41.616379Z",
     "shell.execute_reply": "2022-01-14T23:14:41.616262Z",
     "shell.execute_reply.started": "2022-01-14T23:14:41.616249Z"
    },
    "tags": []
   },
   "outputs": [],
   "source": [
    "feature_names = [\n",
    "                'ID number',\n",
    "                'Diagnosis',\n",
    "                'radius',# (mean of distances from center to points on the perimeter)\n",
    "                'texture',# (standard deviation of gray-scale values)\n",
    "                'perimeter',\n",
    "                'area',\n",
    "                'smoothness',# (local variation in radius lengths)\n",
    "                'compactness',# (perimeter^2 / area - 1.0)\n",
    "                'concavity',# (severity of concave portions of the contour)\n",
    "                'concave points',# (number of concave portions of the contour)\n",
    "                'symmetry',\n",
    "                'fractal dimension',# (\"coastline approximation\" - 1)\n",
    "                ]\n",
    "#Wisconsin Prognostic Breast Cancer\n",
    "wpbc_data = pd.read_csv('https://archive.ics.uci.edu/ml/machine-learning-databases/breast-cancer-wisconsin/wpbc.data', names=feature_names, index_col=False)\n",
    "\n",
    "features_select = [\n",
    "                    #'ID number',\n",
    "                    'Diagnosis',\n",
    "                    'radius',# (mean of distances from center to points on the perimeter)\n",
    "                    'texture',# (standard deviation of gray-scale values)\n",
    "                    'perimeter',\n",
    "                    'area',\n",
    "                    'smoothness',# (local variation in radius lengths)\n",
    "                    'compactness',# (perimeter^2 / area - 1.0)\n",
    "                    'concavity',# (severity of concave portions of the contour)\n",
    "                    'concave points',# (number of concave portions of the contour)\n",
    "                    'symmetry',\n",
    "                    'fractal dimension',# (\"coastline approximation\" - 1)\n",
    "                    ]\n",
    "\n",
    "wpbc_data = wpbc_data[features_select]\n",
    "\n",
    "nominal_features_wpbc = [\n",
    "                        ]\n",
    "ordinal_features_wpbc = [\n",
    "                   ]\n",
    " \n",
    "X_data_wpbc = wpbc_data.drop(['Diagnosis'], axis = 1)\n",
    "y_data_wpbc= pd.Series(OrdinalEncoder().fit_transform(wpbc_data['Diagnosis'].values.reshape(-1, 1)).flatten(), name='Diagnosis')\n"
   ]
  },
  {
   "cell_type": "code",
   "execution_count": null,
   "metadata": {
    "execution": {
     "iopub.status.busy": "2022-01-14T23:14:41.617408Z",
     "iopub.status.idle": "2022-01-14T23:14:41.617664Z",
     "shell.execute_reply": "2022-01-14T23:14:41.617548Z",
     "shell.execute_reply.started": "2022-01-14T23:14:41.617534Z"
    },
    "tags": []
   },
   "outputs": [],
   "source": [
    "identifier = 'Wisconsin Prognostic Breast Cancer'\n",
    "identifier_list.append(identifier)\n",
    "\n",
    "(distances_dict[identifier], \n",
    " evaluation_result_dict[identifier], \n",
    " results_dict[identifier], \n",
    " dt_inet_dict[identifier], \n",
    " dt_distilled_list_dict[identifier], \n",
    " data_dict[identifier],\n",
    " normalizer_list_dict[identifier]) = evaluate_real_world_dataset(model,\n",
    "                                                                dataset_size_list,\n",
    "                                                                mean_train_parameters,\n",
    "                                                                std_train_parameters,\n",
    "                                                                lambda_net_dataset_train.network_parameters_array,\n",
    "                                                                X_data_wpbc, \n",
    "                                                                y_data_wpbc, \n",
    "                                                                nominal_features = nominal_features_wpbc, \n",
    "                                                                ordinal_features = ordinal_features_wpbc,\n",
    "                                                                config = config,\n",
    "                                                                config_train_network = None)\n",
    "print_head = None\n",
    "if verbosity > 0:\n",
    "    print_results_different_data_sizes(results_dict[identifier], dataset_size_list_print)\n",
    "    print_network_distances(distances_dict)\n",
    "\n",
    "    dt_inet_plot = plot_decision_tree_from_parameters(dt_inet_dict[identifier], normalizer_list_dict[identifier], config)\n",
    "    dt_distilled_plot = plot_decision_tree_from_model(dt_distilled_list_dict[identifier][-2], config)\n",
    "\n",
    "    display(dt_inet_plot, dt_distilled_plot)\n",
    "\n",
    "    print_head = data_dict[identifier]['X_train'].head()\n",
    "print_head"
   ]
  },
  {
   "cell_type": "markdown",
   "metadata": {},
   "source": [
    "# Abalone"
   ]
  },
  {
   "cell_type": "code",
   "execution_count": null,
   "metadata": {
    "execution": {
     "iopub.status.busy": "2022-01-14T23:14:41.618437Z",
     "iopub.status.idle": "2022-01-14T23:14:41.618675Z",
     "shell.execute_reply": "2022-01-14T23:14:41.618559Z",
     "shell.execute_reply.started": "2022-01-14T23:14:41.618545Z"
    },
    "tags": []
   },
   "outputs": [],
   "source": [
    "feature_names = [\n",
    "                'Sex',#\t\tnominal\t\t\tM, F, and I (infant)\n",
    "                'Length',#\tcontinuous\tmm\tLongest shell measurement\n",
    "                'Diameter',#\tcontinuous\tmm\tperpendicular to length\n",
    "                'Height',#\t\tcontinuous\tmm\twith meat in shell\n",
    "                'Whole weight',#\tcontinuous\tgrams\twhole abalone\n",
    "                'Shucked weight',#\tcontinuous\tgrams\tweight of meat\n",
    "                'Viscera weight',#\tcontinuous\tgrams\tgut weight (after bleeding)\n",
    "                'Shell weight',#\tcontinuous\tgrams\tafter being dried\n",
    "                'Rings',#\t\tinteger\t\t\t+1.5 gives the age in years\n",
    "                ]\n",
    "\n",
    "abalone_data = pd.read_csv('https://archive.ics.uci.edu/ml/machine-learning-databases/abalone/abalone.data', names=feature_names, index_col=False)\n",
    "\n",
    "\n",
    "features_select = [\n",
    "                'Sex',#\t\tnominal\t\t\tM, F, and I (infant)\n",
    "                'Length',#\tcontinuous\tmm\tLongest shell measurement\n",
    "                'Diameter',#\tcontinuous\tmm\tperpendicular to length\n",
    "                'Height',#\t\tcontinuous\tmm\twith meat in shell\n",
    "                'Whole weight',#\tcontinuous\tgrams\twhole abalone\n",
    "                'Shucked weight',#\tcontinuous\tgrams\tweight of meat\n",
    "                'Viscera weight',#\tcontinuous\tgrams\tgut weight (after bleeding)\n",
    "                'Shell weight',#\tcontinuous\tgrams\tafter being dried\n",
    "                'Rings',#\t\tinteger\t\t\t+1.5 gives the age in years\n",
    "                    ]\n",
    "\n",
    "abalone_data = abalone_data[features_select]\n",
    "\n",
    "nominal_features_abalone = [\n",
    "                        'Sex',\n",
    "                        ]\n",
    "ordinal_features_abalone = [\n",
    "                   ]\n",
    "   \n",
    "X_data_abalone = abalone_data.drop(['Rings'], axis = 1)\n",
    "y_data_abalone = ((abalone_data['Rings'] > 10) * 1)\n",
    "    "
   ]
  },
  {
   "cell_type": "code",
   "execution_count": null,
   "metadata": {
    "execution": {
     "iopub.status.busy": "2022-01-14T23:14:41.619449Z",
     "iopub.status.idle": "2022-01-14T23:14:41.619709Z",
     "shell.execute_reply": "2022-01-14T23:14:41.619592Z",
     "shell.execute_reply.started": "2022-01-14T23:14:41.619579Z"
    },
    "tags": []
   },
   "outputs": [],
   "source": [
    "identifier = 'Abalone'\n",
    "identifier_list.append(identifier)\n",
    "\n",
    "(distances_dict[identifier], \n",
    " evaluation_result_dict[identifier], \n",
    " results_dict[identifier], \n",
    " dt_inet_dict[identifier], \n",
    " dt_distilled_list_dict[identifier], \n",
    " data_dict[identifier],\n",
    " normalizer_list_dict[identifier]) = evaluate_real_world_dataset(model,\n",
    "                                                                dataset_size_list,\n",
    "                                                                mean_train_parameters,\n",
    "                                                                std_train_parameters,\n",
    "                                                                lambda_net_dataset_train.network_parameters_array,\n",
    "                                                                X_data_abalone, \n",
    "                                                                y_data_abalone, \n",
    "                                                                nominal_features = nominal_features_abalone, \n",
    "                                                                ordinal_features = ordinal_features_abalone,\n",
    "                                                                config = config,\n",
    "                                                                config_train_network = None)\n",
    "print_head = None\n",
    "if verbosity > 0:\n",
    "    print_results_different_data_sizes(results_dict[identifier], dataset_size_list_print)\n",
    "    print_network_distances(distances_dict)\n",
    "\n",
    "    dt_inet_plot = plot_decision_tree_from_parameters(dt_inet_dict[identifier], normalizer_list_dict[identifier], config)\n",
    "    dt_distilled_plot = plot_decision_tree_from_model(dt_distilled_list_dict[identifier][-2], config)\n",
    "\n",
    "    display(dt_inet_plot, dt_distilled_plot)\n",
    "\n",
    "    print_head = data_dict[identifier]['X_train'].head()\n",
    "print_head"
   ]
  },
  {
   "cell_type": "markdown",
   "metadata": {},
   "source": [
    "# Car"
   ]
  },
  {
   "cell_type": "code",
   "execution_count": null,
   "metadata": {
    "execution": {
     "iopub.status.busy": "2022-01-14T23:14:41.620417Z",
     "iopub.status.idle": "2022-01-14T23:14:41.620650Z",
     "shell.execute_reply": "2022-01-14T23:14:41.620534Z",
     "shell.execute_reply.started": "2022-01-14T23:14:41.620522Z"
    },
    "tags": []
   },
   "outputs": [],
   "source": [
    "feature_names = [\n",
    "   'buying',#       v-high, high, med, low\n",
    "   'maint',#        v-high, high, med, low\n",
    "   'doors',#        2, 3, 4, 5-more\n",
    "   'persons',#      2, 4, more\n",
    "   'lug_boot',#     small, med, big\n",
    "   'safety',#       low, med, high\n",
    "   'class',#        unacc, acc, good, v-good\n",
    "                ]\n",
    "\n",
    "car_data = pd.read_csv('https://archive.ics.uci.edu/ml/machine-learning-databases/car/car.data', names=feature_names, index_col=False)\n",
    "\n",
    "features_select = [\n",
    "                   'buying',#       v-high, high, med, low\n",
    "                   'maint',#        v-high, high, med, low\n",
    "                   'doors',#        2, 3, 4, 5-more\n",
    "                   'persons',#      2, 4, more\n",
    "                   'lug_boot',#     small, med, big\n",
    "                   'safety',#       low, med, high\n",
    "                   'class',#        unacc, acc, good, v-good\n",
    "                    ]\n",
    "\n",
    "car_data = car_data[features_select]\n",
    "\n",
    "nominal_features_car = [\n",
    "                       'buying',#       v-high, high, med, low\n",
    "                       'maint',#        v-high, high, med, low\n",
    "                       'doors',#        2, 3, 4, 5-more\n",
    "                       'persons',#      2, 4, more\n",
    "                       'lug_boot',#     small, med, big\n",
    "                       'safety',#       low, med, high\n",
    "                        ]\n",
    "\n",
    "ordinal_features_car = [\n",
    "                   ]\n",
    "\n",
    "\n",
    "    \n",
    "X_data_car = car_data.drop(['class'], axis = 1)\n",
    "y_data_car = ((car_data['class'] != 'unacc') * 1)"
   ]
  },
  {
   "cell_type": "code",
   "execution_count": null,
   "metadata": {
    "execution": {
     "iopub.status.busy": "2022-01-14T23:14:41.621679Z",
     "iopub.status.idle": "2022-01-14T23:14:41.621919Z",
     "shell.execute_reply": "2022-01-14T23:14:41.621800Z",
     "shell.execute_reply.started": "2022-01-14T23:14:41.621786Z"
    },
    "tags": []
   },
   "outputs": [],
   "source": [
    "identifier = 'Car'\n",
    "identifier_list.append(identifier)\n",
    "\n",
    "(distances_dict[identifier], \n",
    " evaluation_result_dict[identifier], \n",
    " results_dict[identifier], \n",
    " dt_inet_dict[identifier], \n",
    " dt_distilled_list_dict[identifier], \n",
    " data_dict[identifier],\n",
    " normalizer_list_dict[identifier]) = evaluate_real_world_dataset(model,\n",
    "                                                                dataset_size_list,\n",
    "                                                                mean_train_parameters,\n",
    "                                                                std_train_parameters,\n",
    "                                                                lambda_net_dataset_train.network_parameters_array,\n",
    "                                                                X_data_car, \n",
    "                                                                y_data_car, \n",
    "                                                                nominal_features = nominal_features_car, \n",
    "                                                                ordinal_features = ordinal_features_car,\n",
    "                                                                config = config,\n",
    "                                                                config_train_network = None)\n",
    "print_head = None\n",
    "if verbosity > 0:\n",
    "    print_results_different_data_sizes(results_dict[identifier], dataset_size_list_print)\n",
    "    print_network_distances(distances_dict)\n",
    "\n",
    "    dt_inet_plot = plot_decision_tree_from_parameters(dt_inet_dict[identifier], normalizer_list_dict[identifier], config)\n",
    "    dt_distilled_plot = plot_decision_tree_from_model(dt_distilled_list_dict[identifier][-2], config)\n",
    "\n",
    "    display(dt_inet_plot, dt_distilled_plot)\n",
    "\n",
    "    print_head = data_dict[identifier]['X_train'].head()\n",
    "print_head"
   ]
  },
  {
   "cell_type": "markdown",
   "metadata": {},
   "source": [
    "# Plot and Save Results"
   ]
  },
  {
   "cell_type": "code",
   "execution_count": null,
   "metadata": {
    "execution": {
     "iopub.status.busy": "2022-01-14T23:14:41.622629Z",
     "iopub.status.idle": "2022-01-14T23:14:41.622890Z",
     "shell.execute_reply": "2022-01-14T23:14:41.622772Z",
     "shell.execute_reply.started": "2022-01-14T23:14:41.622758Z"
    },
    "tags": []
   },
   "outputs": [],
   "source": [
    "#print_complete_performance_evaluation_results(results_dict, identifier_list, dataset_size_list, dataset_size=10000)\n",
    "complete_performance_evaluation_results = get_complete_performance_evaluation_results_dataframe(results_dict, \n",
    "                                                                                                identifier_list, \n",
    "                                                                                                dataset_size_list,\n",
    "                                                                                                dataset_size=10000)\n",
    "complete_performance_evaluation_results.head(20)"
   ]
  },
  {
   "cell_type": "code",
   "execution_count": null,
   "metadata": {
    "execution": {
     "iopub.status.busy": "2022-01-14T23:14:41.623492Z",
     "iopub.status.idle": "2022-01-14T23:14:41.623724Z",
     "shell.execute_reply": "2022-01-14T23:14:41.623611Z",
     "shell.execute_reply.started": "2022-01-14T23:14:41.623598Z"
    },
    "tags": []
   },
   "outputs": [],
   "source": [
    "complete_distribution_evaluation_results = get_complete_distribution_evaluation_results_dataframe(inet_evaluation_result_dict_mean_by_distribution_test)\n",
    "complete_distribution_evaluation_results.head(20)"
   ]
  },
  {
   "cell_type": "code",
   "execution_count": null,
   "metadata": {
    "execution": {
     "iopub.status.busy": "2022-01-14T23:14:41.624485Z",
     "iopub.status.idle": "2022-01-14T23:14:41.624792Z",
     "shell.execute_reply": "2022-01-14T23:14:41.624664Z",
     "shell.execute_reply.started": "2022-01-14T23:14:41.624650Z"
    },
    "tags": []
   },
   "outputs": [],
   "source": [
    "#print_network_distances(distances_dict)\n",
    "network_distances = get_print_network_distances_dataframe(distances_dict)\n",
    "network_distances.head(20)"
   ]
  },
  {
   "cell_type": "code",
   "execution_count": null,
   "metadata": {
    "tags": []
   },
   "outputs": [],
   "source": []
  },
  {
   "cell_type": "code",
   "execution_count": null,
   "metadata": {
    "execution": {
     "iopub.status.busy": "2022-01-14T23:14:41.625596Z",
     "iopub.status.idle": "2022-01-14T23:14:41.625855Z",
     "shell.execute_reply": "2022-01-14T23:14:41.625738Z",
     "shell.execute_reply.started": "2022-01-14T23:14:41.625725Z"
    },
    "tags": []
   },
   "outputs": [],
   "source": [
    "z"
   ]
  },
  {
   "cell_type": "code",
   "execution_count": null,
   "metadata": {
    "tags": []
   },
   "outputs": [],
   "source": []
  },
  {
   "cell_type": "code",
   "execution_count": null,
   "metadata": {
    "execution": {
     "iopub.status.busy": "2022-01-14T23:14:41.626644Z",
     "iopub.status.idle": "2022-01-14T23:14:41.626918Z",
     "shell.execute_reply": "2022-01-14T23:14:41.626799Z",
     "shell.execute_reply.started": "2022-01-14T23:14:41.626786Z"
    },
    "tags": []
   },
   "outputs": [],
   "source": [
    "writepath_complete = './results_complete.csv'\n",
    "writepath_summary = './results_summary.csv'\n",
    "\n",
    "#TODO: ADD COMPLEXITY FOR DTS\n",
    "\n",
    "if different_eval_data:\n",
    "    flat_config = flatten_dict(config_train)\n",
    "else:\n",
    "    flat_config = flatten_dict(config)    \n",
    "\n",
    "flat_dict_train = flatten_dict(inet_evaluation_result_dict_train)\n",
    "flat_dict_valid = flatten_dict(inet_evaluation_result_dict_valid)\n",
    "if not evaluate_distribution:\n",
    "    flat_dict_test = flatten_dict(inet_evaluation_result_dict_test)\n",
    "else:\n",
    "    flat_dict_test = flatten_dict(inet_evaluation_result_dict_complete_by_distribution_test)\n",
    "\n",
    "if not os.path.exists(writepath_complete):\n",
    "    with open(writepath_complete, 'w+') as text_file:       \n",
    "        for key in flat_config.keys():\n",
    "            text_file.write(key)\n",
    "            text_file.write(';')      \n",
    "        \n",
    "        number_of_evaluated_networks = np.array(flat_dict_train['inet_scores_binary_crossentropy']).shape[0]\n",
    "        for key in flat_dict_train.keys():\n",
    "            #if 'function_values' not in key:\n",
    "            for i in range(number_of_evaluated_networks):\n",
    "                text_file.write(key + '_train_' + str(i) + ';')    \n",
    "                    \n",
    "        number_of_evaluated_networks = np.array(flat_dict_valid['inet_scores_binary_crossentropy']).shape[0]\n",
    "        for key in flat_dict_valid.keys():\n",
    "            #if 'function_values' not in key:\n",
    "            for i in range(number_of_evaluated_networks):\n",
    "                text_file.write(key + '_valid_' + str(i) + ';')       \n",
    "                \n",
    "        number_of_evaluated_networks = np.array(flat_dict_test[list(flat_dict_test.keys())[0]]).shape[0]\n",
    "        for key in flat_dict_test.keys():\n",
    "            #if 'function_values' not in key:\n",
    "            for i in range(number_of_evaluated_networks):\n",
    "                text_file.write(key + '_test_' + str(i) + ';')          \n",
    "        \n",
    "        text_file.write('\\n')\n",
    "    \n",
    "with open(writepath_complete, 'a+') as text_file:  \n",
    "    for value in flat_config.values():\n",
    "        text_file.write(str(value))\n",
    "        text_file.write(';')\n",
    "            \n",
    "        \n",
    "    number_of_evaluated_networks = np.array(flat_dict_train['inet_scores_binary_crossentropy']).shape[0]\n",
    "    for key, values in flat_dict_train.items():\n",
    "        #if 'function_values' not in key:\n",
    "        for score in values:\n",
    "            text_file.write(str(score) + ';')   \n",
    "\n",
    "    number_of_evaluated_networks = np.array(flat_dict_valid['inet_scores_binary_crossentropy']).shape[0]\n",
    "    for key, values in flat_dict_valid.items():\n",
    "        #if 'function_values' not in key:\n",
    "        for score in values:\n",
    "            text_file.write(str(score) + ';')   \n",
    "\n",
    "    number_of_evaluated_networks = np.array(flat_dict_test[list(flat_dict_test.keys())[0]]).shape[0]\n",
    "    for key, values in flat_dict_test.items():\n",
    "        #if 'function_values' not in key:\n",
    "        for score in values:\n",
    "            text_file.write(str(score) + ';')   \n",
    "                    \n",
    "    text_file.write('\\n')            \n",
    "\n",
    "    text_file.close()  \n",
    "    \n"
   ]
  },
  {
   "cell_type": "code",
   "execution_count": null,
   "metadata": {
    "execution": {
     "iopub.status.busy": "2022-01-14T23:14:41.627712Z",
     "iopub.status.idle": "2022-01-14T23:14:41.627950Z",
     "shell.execute_reply": "2022-01-14T23:14:41.627833Z",
     "shell.execute_reply.started": "2022-01-14T23:14:41.627820Z"
    },
    "tags": []
   },
   "outputs": [],
   "source": [
    "inet_evaluation_result_dict_mean_train_flat = flatten_dict(inet_evaluation_result_dict_mean_train)\n",
    "inet_evaluation_result_dict_mean_valid_flat = flatten_dict(inet_evaluation_result_dict_mean_valid)\n",
    "if not evaluate_distribution:\n",
    "    inet_evaluation_result_dict_mean_test_flat = flatten_dict(inet_evaluation_result_dict_mean_test)\n",
    "else:\n",
    "    inet_evaluation_result_dict_mean_test_flat = flatten_dict(inet_evaluation_result_dict_mean_by_distribution_test)\n",
    "\n",
    "#identifier_list_synthetic = ['train', 'valid', 'test']\n",
    "identifier_list_combined = list(flatten_list([identifier_list_synthetic, ['train', 'valid', 'test']]))\n",
    "\n",
    "if not os.path.exists(writepath_summary):\n",
    "    with open(writepath_summary, 'w+') as text_file: \n",
    "            \n",
    "        for key in flat_config.keys():\n",
    "            text_file.write(key + ';')\n",
    "         \n",
    "        for key in inet_evaluation_result_dict_mean_train_flat.keys():\n",
    "            text_file.write('train_' + key + ';')\n",
    "        for key in inet_evaluation_result_dict_mean_valid_flat.keys():\n",
    "            text_file.write('valid_' + key + ';')            \n",
    "        for key in inet_evaluation_result_dict_mean_test_flat.keys():\n",
    "            text_file.write('test_' + key + ';')                \n",
    "        \n",
    "        for dataset_size in dataset_size_list:\n",
    "            for identifier in identifier_list:\n",
    "                results_dict_flat = flatten_dict(results_dict[identifier][-2])\n",
    "                #del results_dict_flat['function_values_y_test_inet_dt']\n",
    "                #del results_dict_flat['function_values_y_test_distilled_dt']\n",
    "\n",
    "                for key in results_dict_flat.keys():\n",
    "                    text_file.write(key + '_' + identifier + '_' + str(dataset_size) + ';')                                   \n",
    "         \n",
    "\n",
    "        for key in distances_dict['train'].keys():\n",
    "            for identifier in identifier_list_combined:\n",
    "                text_file.write(key + '_' + identifier + ';') \n",
    "        \n",
    "        text_file.write('\\n')\n",
    "    \n",
    "with open(writepath_summary, 'a+') as text_file: \n",
    "    \n",
    "    for value in flat_config.values():\n",
    "        text_file.write(str(value) + ';')\n",
    "        \n",
    "    for value in inet_evaluation_result_dict_mean_train_flat.values():\n",
    "        text_file.write(str(value) + ';')\n",
    "    for value in inet_evaluation_result_dict_mean_valid_flat.values():\n",
    "        text_file.write(str(value) + ';')            \n",
    "    for value in inet_evaluation_result_dict_mean_test_flat.values():\n",
    "        text_file.write(str(value) + ';')\n",
    "\n",
    "    for i in range(len(dataset_size_list)):\n",
    "        for identifier in identifier_list:\n",
    "            evaluation_result_dict_flat = flatten_dict(evaluation_result_dict[identifier])\n",
    "            #del evaluation_result_dict_flat['function_values_y_test_inet_dt']\n",
    "            #del evaluation_result_dict_flat['function_values_y_test_distilled_dt']\n",
    "            \n",
    "            for values in evaluation_result_dict_flat.values():\n",
    "                text_file.write(str(values) + ';')    #values[i]        \n",
    "     \n",
    "    for key in distances_dict['train'].keys():\n",
    "        for identifier in identifier_list_combined:\n",
    "            text_file.write(str(distances_dict[identifier][key]) + ';')      \n",
    "    \n",
    "    text_file.write('\\n')\n",
    "\n",
    "    text_file.close()      "
   ]
  },
  {
   "cell_type": "code",
   "execution_count": null,
   "metadata": {
    "execution": {
     "iopub.status.busy": "2022-01-14T23:14:41.628850Z",
     "iopub.status.idle": "2022-01-14T23:14:41.629124Z",
     "shell.execute_reply": "2022-01-14T23:14:41.629003Z",
     "shell.execute_reply.started": "2022-01-14T23:14:41.628990Z"
    },
    "tags": []
   },
   "outputs": [],
   "source": [
    "if use_gpu:\n",
    "    from numba import cuda \n",
    "    device = cuda.get_current_device()\n",
    "    device.reset()"
   ]
  },
  {
   "cell_type": "markdown",
   "metadata": {},
   "source": [
    "## NEXT DATASET"
   ]
  },
  {
   "cell_type": "code",
   "execution_count": null,
   "metadata": {},
   "outputs": [],
   "source": []
  },
  {
   "cell_type": "code",
   "execution_count": null,
   "metadata": {},
   "outputs": [],
   "source": []
  },
  {
   "cell_type": "code",
   "execution_count": null,
   "metadata": {},
   "outputs": [],
   "source": []
  },
  {
   "cell_type": "code",
   "execution_count": null,
   "metadata": {},
   "outputs": [],
   "source": []
  },
  {
   "cell_type": "code",
   "execution_count": null,
   "metadata": {},
   "outputs": [],
   "source": []
  },
  {
   "cell_type": "code",
   "execution_count": null,
   "metadata": {},
   "outputs": [],
   "source": []
  },
  {
   "cell_type": "code",
   "execution_count": null,
   "metadata": {},
   "outputs": [],
   "source": []
  },
  {
   "cell_type": "code",
   "execution_count": null,
   "metadata": {},
   "outputs": [],
   "source": []
  },
  {
   "cell_type": "code",
   "execution_count": null,
   "metadata": {},
   "outputs": [],
   "source": []
  }
 ],
 "metadata": {
  "kernelspec": {
   "display_name": "Python 3 (ipykernel)",
   "language": "python",
   "name": "python3"
  },
  "language_info": {
   "codemirror_mode": {
    "name": "ipython",
    "version": 3
   },
   "file_extension": ".py",
   "mimetype": "text/x-python",
   "name": "python",
   "nbconvert_exporter": "python",
   "pygments_lexer": "ipython3",
   "version": "3.8.0"
  }
 },
 "nbformat": 4,
 "nbformat_minor": 4
}
