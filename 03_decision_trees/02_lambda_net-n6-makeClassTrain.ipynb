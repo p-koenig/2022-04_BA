{
 "cells": [
  {
   "cell_type": "markdown",
   "metadata": {},
   "source": [
    "# Generation of λ-Nets for I-Net training"
   ]
  },
  {
   "cell_type": "markdown",
   "metadata": {},
   "source": [
    "## Specitication of Experiment Settings"
   ]
  },
  {
   "cell_type": "code",
   "execution_count": 1,
   "metadata": {
    "execution": {
     "iopub.execute_input": "2022-01-07T19:20:37.483155Z",
     "iopub.status.busy": "2022-01-07T19:20:37.482748Z",
     "iopub.status.idle": "2022-01-07T19:20:37.512819Z",
     "shell.execute_reply": "2022-01-07T19:20:37.511726Z",
     "shell.execute_reply.started": "2022-01-07T19:20:37.483029Z"
    },
    "tags": []
   },
   "outputs": [],
   "source": [
    "#######################################################################################################################################\n",
    "###################################################### CONFIG FILE ####################################################################\n",
    "#######################################################################################################################################\n",
    "sleep_time = 5 #minutes\n",
    "\n",
    "config = {\n",
    "    'function_family': {\n",
    "        'maximum_depth': 5,\n",
    "        'beta': 1,\n",
    "        'decision_sparsity': 1,\n",
    "        'fully_grown': True,          \n",
    "        'dt_type': 'vanilla', #'vanilla', 'SDT'\n",
    "    },\n",
    "    'data': {\n",
    "        'number_of_variables': 6, \n",
    "        'num_classes': 2,\n",
    "        'categorical_indices': [],\n",
    "        \n",
    "        'function_generation_type': 'make_classification_trained',# 'make_classification', 'make_classification_trained', 'random_decision_tree', 'random_decision_tree_trained'\n",
    "        'objective': 'classification', # 'regression'\n",
    "        \n",
    "        'x_max': 1,\n",
    "        'x_min': 0,\n",
    "        'x_distrib': 'uniform', #'normal', 'uniform',       \n",
    "                \n",
    "        'lambda_dataset_size': 5000, #number of samples per function\n",
    "        'number_of_generated_datasets': 10000,\n",
    "        \n",
    "        'noise_injected_level': 0, \n",
    "        'noise_injected_type': 'flip_percentage', # '' 'normal' 'uniform' 'normal_range' 'uniform_range'\n",
    "    }, \n",
    "    'lambda_net': {\n",
    "        'epochs_lambda': 1000,\n",
    "        'early_stopping_lambda': True, \n",
    "        'early_stopping_min_delta_lambda': 1e-2,\n",
    "        'batch_lambda': 64,\n",
    "        'dropout_lambda': 0,\n",
    "        'lambda_network_layers': [128],\n",
    "        'optimizer_lambda': 'adam',\n",
    "        'loss_lambda': 'binary_crossentropy', #categorical_crossentropy\n",
    "                \n",
    "        'number_initializations_lambda': 1, \n",
    "        \n",
    "        'number_of_trained_lambda_nets': 10000,\n",
    "    },     \n",
    "    'evaluation': {   \n",
    "    },    \n",
    "    \n",
    "    'computation':{\n",
    "        'n_jobs': -3,\n",
    "        'use_gpu': False,\n",
    "        'gpu_numbers': '0',\n",
    "        'RANDOM_SEED': 42,   \n",
    "    }\n",
    "}\n",
    "\n",
    "\n"
   ]
  },
  {
   "cell_type": "code",
   "execution_count": 2,
   "metadata": {
    "execution": {
     "iopub.execute_input": "2022-01-07T19:20:37.517484Z",
     "iopub.status.busy": "2022-01-07T19:20:37.516846Z",
     "iopub.status.idle": "2022-01-07T19:20:37.575128Z",
     "shell.execute_reply": "2022-01-07T19:20:37.574028Z",
     "shell.execute_reply.started": "2022-01-07T19:20:37.517440Z"
    }
   },
   "outputs": [],
   "source": [
    "#######################################################################################################################################\n",
    "########################################### IMPORT GLOBAL VARIABLES FROM CONFIG #######################################################\n",
    "#######################################################################################################################################\n",
    "globals().update(config['function_family'])\n",
    "globals().update(config['data'])\n",
    "globals().update(config['lambda_net'])\n",
    "globals().update(config['evaluation'])\n",
    "globals().update(config['computation'])"
   ]
  },
  {
   "cell_type": "code",
   "execution_count": 3,
   "metadata": {
    "execution": {
     "iopub.execute_input": "2022-01-07T19:20:37.584800Z",
     "iopub.status.busy": "2022-01-07T19:20:37.583567Z",
     "iopub.status.idle": "2022-01-07T19:20:45.779752Z",
     "shell.execute_reply": "2022-01-07T19:20:45.778549Z",
     "shell.execute_reply.started": "2022-01-07T19:20:37.584758Z"
    }
   },
   "outputs": [],
   "source": [
    "import warnings\n",
    "warnings.filterwarnings('ignore')\n",
    "import os\n",
    "os.environ['TF_CPP_MIN_LOG_LEVEL'] = '3' \n",
    "\n",
    "from itertools import product       # forms cartesian products\n",
    "from tqdm import tqdm_notebook as tqdm\n",
    "from more_itertools import random_product \n",
    "import pickle\n",
    "import numpy as np\n",
    "import pandas as pd\n",
    "import timeit\n",
    "import matplotlib.pyplot as plt \n",
    "import time\n",
    "import math\n",
    "import operator\n",
    "from functools import reduce\n",
    "\n",
    "from scipy.signal import argrelextrema\n",
    "\n",
    "import sys\n",
    "\n",
    "import shutil\n",
    "\n",
    "import logging\n",
    "logging.getLogger('tensorflow').disabled = True\n",
    "\n",
    "from joblib import Parallel, delayed\n",
    "\n",
    "\n",
    "from sklearn.model_selection import cross_val_score, train_test_split, StratifiedKFold, KFold\n",
    "from sklearn.metrics import accuracy_score, log_loss, roc_auc_score, f1_score, mean_absolute_error, r2_score\n",
    "#from similaritymeasures import frechet_dist, area_between_two_curves, dtw\n",
    "from IPython.display import Image\n",
    "\n",
    "from livelossplot import PlotLossesKerasTF\n",
    "\n",
    "import seaborn as sns\n",
    "\n",
    "import tensorflow as tf\n",
    "#import tensorflow_addons as tfa\n",
    "import random \n",
    "\n",
    "\n",
    "#import keras\n",
    "import tensorflow.keras.backend as K\n",
    "from tensorflow.keras import Sequential\n",
    "from tensorflow.keras.layers import Dense, Dropout\n",
    "from tensorflow.keras.utils import plot_model\n",
    "from tensorflow.keras.callbacks import EarlyStopping, ModelCheckpoint, ReduceLROnPlateau\n",
    "\n"
   ]
  },
  {
   "cell_type": "code",
   "execution_count": 4,
   "metadata": {
    "execution": {
     "iopub.execute_input": "2022-01-07T19:20:45.781999Z",
     "iopub.status.busy": "2022-01-07T19:20:45.781704Z",
     "iopub.status.idle": "2022-01-07T19:20:45.798691Z",
     "shell.execute_reply": "2022-01-07T19:20:45.798001Z",
     "shell.execute_reply.started": "2022-01-07T19:20:45.781957Z"
    }
   },
   "outputs": [],
   "source": [
    "#######################################################################################################################################\n",
    "###################################################### SET VARIABLES + DESIGN #########################################################\n",
    "#######################################################################################################################################\n",
    "    \n",
    "os.environ['CUDA_VISIBLE_DEVICES'] = gpu_numbers if use_gpu else ''\n",
    "\n",
    "sns.set_style(\"darkgrid\")\n",
    "\n",
    "random.seed(RANDOM_SEED)\n",
    "np.random.seed(RANDOM_SEED)\n",
    "np.random.seed(RANDOM_SEED)\n",
    "if int(tf.__version__[0]) >= 2:\n",
    "    tf.random.set_seed(RANDOM_SEED)\n",
    "else:\n",
    "    tf.set_random_seed(RANDOM_SEED)\n",
    "    \n",
    "    \n",
    "pd.set_option('display.float_format', lambda x: '%.3f' % x)\n",
    "pd.set_option('display.max_columns', 200)\n",
    "np.set_printoptions(threshold=200)"
   ]
  },
  {
   "cell_type": "code",
   "execution_count": null,
   "metadata": {},
   "outputs": [],
   "source": []
  },
  {
   "cell_type": "code",
   "execution_count": 5,
   "metadata": {
    "execution": {
     "iopub.execute_input": "2022-01-07T19:20:45.800303Z",
     "iopub.status.busy": "2022-01-07T19:20:45.799930Z",
     "iopub.status.idle": "2022-01-07T19:25:50.983539Z",
     "shell.execute_reply": "2022-01-07T19:25:50.982495Z",
     "shell.execute_reply.started": "2022-01-07T19:20:45.800262Z"
    }
   },
   "outputs": [],
   "source": [
    "from utilities.LambdaNet import *\n",
    "from utilities.metrics import *\n",
    "from utilities.utility_functions import *\n",
    "#######################################################################################################################################\n",
    "####################################################### CONFIG ADJUSTMENTS ############################################################\n",
    "#######################################################################################################################################\n",
    "\n",
    "config['lambda_net']['number_of_lambda_weights'] = get_number_of_lambda_net_parameters(lambda_network_layers, number_of_variables, num_classes)\n",
    "    \n",
    "#######################################################################################################################################\n",
    "################################################## UPDATE VARIABLES ###################################################################\n",
    "#######################################################################################################################################\n",
    "globals().update(config['function_family'])\n",
    "globals().update(config['data'])\n",
    "globals().update(config['lambda_net'])\n",
    "globals().update(config['evaluation'])\n",
    "globals().update(config['computation'])\n",
    "\n",
    "#initialize_utility_functions_config_from_curent_notebook(config)\n",
    "#initialize_LambdaNet_config_from_curent_notebook(config)\n",
    "#initialize_metrics_config_from_curent_notebook(config)\n",
    "\n",
    "#######################################################################################################################################\n",
    "###################################################### PATH + FOLDER CREATION #########################################################\n",
    "#######################################################################################################################################\n",
    "globals().update(generate_paths(config, path_type='lambda_net'))\n",
    "generate_directory_structure()\n",
    "generate_lambda_net_directory(config)\n",
    "\n",
    "#######################################################################################################################################\n",
    "############################################################ SLEEP TIMER ##############################################################\n",
    "#######################################################################################################################################\n",
    "sleep_minutes(sleep_time)"
   ]
  },
  {
   "cell_type": "code",
   "execution_count": 6,
   "metadata": {
    "execution": {
     "iopub.execute_input": "2022-01-07T19:25:50.985584Z",
     "iopub.status.busy": "2022-01-07T19:25:50.985338Z",
     "iopub.status.idle": "2022-01-07T19:25:50.992010Z",
     "shell.execute_reply": "2022-01-07T19:25:50.990666Z",
     "shell.execute_reply.started": "2022-01-07T19:25:50.985550Z"
    }
   },
   "outputs": [
    {
     "name": "stdout",
     "output_type": "stream",
     "text": [
      "lNetSize5000_numLNets10000_var6_class2_make_classification_trained_xMax1_xMin0_xDistuniform_depth5_beta1_decisionSpars1_vanilla_fullyGrown/128_e1000ES0.01_b64_drop0_adam_binary_crossentropy_fixedInit1-seed42\n",
      "lNetSize5000_numDatasets10000_var6_class2_make_classification_trained_xMax1_xMin0_xDistuniform_depth5_beta1_decisionSpars1_vanilla_fullyGrown\n"
     ]
    }
   ],
   "source": [
    "print(path_identifier_lambda_net_data)\n",
    "\n",
    "print(path_identifier_function_data)\n"
   ]
  },
  {
   "cell_type": "code",
   "execution_count": 7,
   "metadata": {
    "execution": {
     "iopub.execute_input": "2022-01-07T19:25:50.994925Z",
     "iopub.status.busy": "2022-01-07T19:25:50.994463Z",
     "iopub.status.idle": "2022-01-07T19:25:51.010788Z",
     "shell.execute_reply": "2022-01-07T19:25:51.009317Z",
     "shell.execute_reply.started": "2022-01-07T19:25:50.994867Z"
    }
   },
   "outputs": [
    {
     "name": "stdout",
     "output_type": "stream",
     "text": [
      "Num GPUs Available:  0\n",
      "Num XLA-GPUs Available:  0\n"
     ]
    }
   ],
   "source": [
    "print(\"Num GPUs Available: \", len(tf.config.experimental.list_physical_devices('GPU')))\n",
    "print(\"Num XLA-GPUs Available: \", len(tf.config.experimental.list_physical_devices('XLA_GPU')))"
   ]
  },
  {
   "cell_type": "code",
   "execution_count": 8,
   "metadata": {
    "execution": {
     "iopub.execute_input": "2022-01-07T19:25:51.020567Z",
     "iopub.status.busy": "2022-01-07T19:25:51.020090Z",
     "iopub.status.idle": "2022-01-07T19:25:51.034000Z",
     "shell.execute_reply": "2022-01-07T19:25:51.033342Z",
     "shell.execute_reply.started": "2022-01-07T19:25:51.020509Z"
    }
   },
   "outputs": [
    {
     "data": {
      "text/plain": [
       "[128]"
      ]
     },
     "execution_count": 8,
     "metadata": {},
     "output_type": "execute_result"
    }
   ],
   "source": [
    "lambda_network_layers"
   ]
  },
  {
   "cell_type": "code",
   "execution_count": 9,
   "metadata": {
    "ExecuteTime": {
     "end_time": "2021-01-17T09:46:11.182937Z",
     "start_time": "2021-01-17T09:44:31.797522Z"
    },
    "execution": {
     "iopub.execute_input": "2022-01-07T19:25:51.035186Z",
     "iopub.status.busy": "2022-01-07T19:25:51.034971Z",
     "iopub.status.idle": "2022-01-07T19:27:57.471500Z",
     "shell.execute_reply": "2022-01-07T19:27:57.470582Z",
     "shell.execute_reply.started": "2022-01-07T19:25:51.035152Z"
    }
   },
   "outputs": [],
   "source": [
    "path_functions = './data/saved_function_lists/functions_' + path_identifier_function_data + '.csv'\n",
    "function_df = pd.read_csv(path_functions)\n",
    "\n",
    "path_X_data = './data/saved_function_lists/X_data_' + path_identifier_function_data + '.pkl'\n",
    "with open(path_X_data, 'rb') as f:\n",
    "    X_data_list = pickle.load(f)\n",
    "    \n",
    "path_y_data = './data/saved_function_lists/y_data_' + path_identifier_function_data + '.pkl'\n",
    "with open(path_y_data, 'rb') as f:\n",
    "    y_data_list = pickle.load(f)\n",
    "    \n",
    "if number_of_trained_lambda_nets < number_of_generated_datasets:\n",
    "    function_df = function_df.sample(n=number_of_trained_lambda_nets, random_state=RANDOM_SEED)\n",
    "    random.seed(RANDOM_SEED)\n",
    "    X_data_list = random.sample(X_data_list, number_of_trained_lambda_nets)\n",
    "    random.seed(RANDOM_SEED)\n",
    "    y_data_list = random.sample(y_data_list, number_of_trained_lambda_nets)\n",
    "    random.seed(RANDOM_SEED)"
   ]
  },
  {
   "cell_type": "markdown",
   "metadata": {},
   "source": [
    "## Data Inspection"
   ]
  },
  {
   "cell_type": "code",
   "execution_count": 10,
   "metadata": {
    "execution": {
     "iopub.execute_input": "2022-01-07T19:27:57.474764Z",
     "iopub.status.busy": "2022-01-07T19:27:57.474535Z",
     "iopub.status.idle": "2022-01-07T19:27:57.543347Z",
     "shell.execute_reply": "2022-01-07T19:27:57.542697Z",
     "shell.execute_reply.started": "2022-01-07T19:27:57.474734Z"
    }
   },
   "outputs": [
    {
     "data": {
      "text/html": [
       "<div>\n",
       "<style scoped>\n",
       "    .dataframe tbody tr th:only-of-type {\n",
       "        vertical-align: middle;\n",
       "    }\n",
       "\n",
       "    .dataframe tbody tr th {\n",
       "        vertical-align: top;\n",
       "    }\n",
       "\n",
       "    .dataframe thead th {\n",
       "        text-align: right;\n",
       "    }\n",
       "</style>\n",
       "<table border=\"1\" class=\"dataframe\">\n",
       "  <thead>\n",
       "    <tr style=\"text-align: right;\">\n",
       "      <th></th>\n",
       "      <th>feat0</th>\n",
       "      <th>feat1</th>\n",
       "      <th>feat2</th>\n",
       "      <th>feat3</th>\n",
       "      <th>feat4</th>\n",
       "      <th>feat5</th>\n",
       "      <th>feat6</th>\n",
       "      <th>feat7</th>\n",
       "      <th>feat8</th>\n",
       "      <th>feat9</th>\n",
       "      <th>feat10</th>\n",
       "      <th>feat11</th>\n",
       "      <th>feat12</th>\n",
       "      <th>feat13</th>\n",
       "      <th>feat14</th>\n",
       "      <th>feat15</th>\n",
       "      <th>feat16</th>\n",
       "      <th>feat17</th>\n",
       "      <th>feat18</th>\n",
       "      <th>feat19</th>\n",
       "      <th>feat20</th>\n",
       "      <th>feat21</th>\n",
       "      <th>feat22</th>\n",
       "      <th>feat23</th>\n",
       "      <th>feat24</th>\n",
       "      <th>feat25</th>\n",
       "      <th>feat26</th>\n",
       "      <th>feat27</th>\n",
       "      <th>feat28</th>\n",
       "      <th>feat29</th>\n",
       "      <th>feat30</th>\n",
       "      <th>split0</th>\n",
       "      <th>split1</th>\n",
       "      <th>split2</th>\n",
       "      <th>split3</th>\n",
       "      <th>split4</th>\n",
       "      <th>split5</th>\n",
       "      <th>split6</th>\n",
       "      <th>split7</th>\n",
       "      <th>split8</th>\n",
       "      <th>split9</th>\n",
       "      <th>split10</th>\n",
       "      <th>split11</th>\n",
       "      <th>split12</th>\n",
       "      <th>split13</th>\n",
       "      <th>split14</th>\n",
       "      <th>split15</th>\n",
       "      <th>split16</th>\n",
       "      <th>split17</th>\n",
       "      <th>split18</th>\n",
       "      <th>split19</th>\n",
       "      <th>split20</th>\n",
       "      <th>split21</th>\n",
       "      <th>split22</th>\n",
       "      <th>split23</th>\n",
       "      <th>split24</th>\n",
       "      <th>split25</th>\n",
       "      <th>split26</th>\n",
       "      <th>split27</th>\n",
       "      <th>split28</th>\n",
       "      <th>split29</th>\n",
       "      <th>split30</th>\n",
       "      <th>lp0</th>\n",
       "      <th>lp1</th>\n",
       "      <th>lp2</th>\n",
       "      <th>lp3</th>\n",
       "      <th>lp4</th>\n",
       "      <th>lp5</th>\n",
       "      <th>lp6</th>\n",
       "      <th>lp7</th>\n",
       "      <th>lp8</th>\n",
       "      <th>lp9</th>\n",
       "      <th>lp10</th>\n",
       "      <th>lp11</th>\n",
       "      <th>lp12</th>\n",
       "      <th>lp13</th>\n",
       "      <th>lp14</th>\n",
       "      <th>lp15</th>\n",
       "      <th>lp16</th>\n",
       "      <th>lp17</th>\n",
       "      <th>lp18</th>\n",
       "      <th>lp19</th>\n",
       "      <th>lp20</th>\n",
       "      <th>lp21</th>\n",
       "      <th>lp22</th>\n",
       "      <th>lp23</th>\n",
       "      <th>lp24</th>\n",
       "      <th>lp25</th>\n",
       "      <th>lp26</th>\n",
       "      <th>lp27</th>\n",
       "      <th>lp28</th>\n",
       "      <th>lp29</th>\n",
       "      <th>lp30</th>\n",
       "      <th>lp31</th>\n",
       "    </tr>\n",
       "  </thead>\n",
       "  <tbody>\n",
       "    <tr>\n",
       "      <th>0</th>\n",
       "      <td>0.624</td>\n",
       "      <td>0.606</td>\n",
       "      <td>0.496</td>\n",
       "      <td>0.691</td>\n",
       "      <td>0.334</td>\n",
       "      <td>0.318</td>\n",
       "      <td>0.636</td>\n",
       "      <td>0.326</td>\n",
       "      <td>0.568</td>\n",
       "      <td>0.310</td>\n",
       "      <td>0.638</td>\n",
       "      <td>0.550</td>\n",
       "      <td>0.685</td>\n",
       "      <td>0.497</td>\n",
       "      <td>0.657</td>\n",
       "      <td>0.550</td>\n",
       "      <td>0.507</td>\n",
       "      <td>0.543</td>\n",
       "      <td>-1.000</td>\n",
       "      <td>0.601</td>\n",
       "      <td>0.569</td>\n",
       "      <td>0.578</td>\n",
       "      <td>0.493</td>\n",
       "      <td>-1.000</td>\n",
       "      <td>0.792</td>\n",
       "      <td>0.653</td>\n",
       "      <td>0.460</td>\n",
       "      <td>0.480</td>\n",
       "      <td>0.743</td>\n",
       "      <td>0.620</td>\n",
       "      <td>-1.000</td>\n",
       "      <td>0.000</td>\n",
       "      <td>3.000</td>\n",
       "      <td>3.000</td>\n",
       "      <td>5.000</td>\n",
       "      <td>4.000</td>\n",
       "      <td>3.000</td>\n",
       "      <td>1.000</td>\n",
       "      <td>4.000</td>\n",
       "      <td>3.000</td>\n",
       "      <td>0.000</td>\n",
       "      <td>3.000</td>\n",
       "      <td>4.000</td>\n",
       "      <td>0.000</td>\n",
       "      <td>2.000</td>\n",
       "      <td>1.000</td>\n",
       "      <td>3.000</td>\n",
       "      <td>4.000</td>\n",
       "      <td>3.000</td>\n",
       "      <td>-1.000</td>\n",
       "      <td>2.000</td>\n",
       "      <td>5.000</td>\n",
       "      <td>5.000</td>\n",
       "      <td>1.000</td>\n",
       "      <td>-1.000</td>\n",
       "      <td>0.000</td>\n",
       "      <td>5.000</td>\n",
       "      <td>3.000</td>\n",
       "      <td>4.000</td>\n",
       "      <td>4.000</td>\n",
       "      <td>2.000</td>\n",
       "      <td>-1.000</td>\n",
       "      <td>0.051</td>\n",
       "      <td>0.505</td>\n",
       "      <td>0.731</td>\n",
       "      <td>0.940</td>\n",
       "      <td>0.006</td>\n",
       "      <td>0.385</td>\n",
       "      <td>1.000</td>\n",
       "      <td>1.000</td>\n",
       "      <td>0.030</td>\n",
       "      <td>1.000</td>\n",
       "      <td>0.657</td>\n",
       "      <td>0.959</td>\n",
       "      <td>0.322</td>\n",
       "      <td>0.875</td>\n",
       "      <td>1.000</td>\n",
       "      <td>0.020</td>\n",
       "      <td>0.000</td>\n",
       "      <td>0.000</td>\n",
       "      <td>1.000</td>\n",
       "      <td>0.000</td>\n",
       "      <td>0.414</td>\n",
       "      <td>0.025</td>\n",
       "      <td>0.016</td>\n",
       "      <td>0.152</td>\n",
       "      <td>1.000</td>\n",
       "      <td>0.103</td>\n",
       "      <td>0.919</td>\n",
       "      <td>0.167</td>\n",
       "      <td>0.167</td>\n",
       "      <td>1.000</td>\n",
       "      <td>0.000</td>\n",
       "      <td>0.000</td>\n",
       "    </tr>\n",
       "    <tr>\n",
       "      <th>1</th>\n",
       "      <td>0.485</td>\n",
       "      <td>0.496</td>\n",
       "      <td>0.611</td>\n",
       "      <td>0.591</td>\n",
       "      <td>0.678</td>\n",
       "      <td>0.577</td>\n",
       "      <td>0.541</td>\n",
       "      <td>0.482</td>\n",
       "      <td>0.391</td>\n",
       "      <td>0.441</td>\n",
       "      <td>0.654</td>\n",
       "      <td>0.428</td>\n",
       "      <td>0.586</td>\n",
       "      <td>0.656</td>\n",
       "      <td>0.597</td>\n",
       "      <td>0.232</td>\n",
       "      <td>0.612</td>\n",
       "      <td>0.678</td>\n",
       "      <td>0.657</td>\n",
       "      <td>0.571</td>\n",
       "      <td>0.484</td>\n",
       "      <td>0.458</td>\n",
       "      <td>0.803</td>\n",
       "      <td>0.644</td>\n",
       "      <td>0.551</td>\n",
       "      <td>0.475</td>\n",
       "      <td>0.410</td>\n",
       "      <td>0.509</td>\n",
       "      <td>0.468</td>\n",
       "      <td>0.738</td>\n",
       "      <td>0.440</td>\n",
       "      <td>5.000</td>\n",
       "      <td>2.000</td>\n",
       "      <td>3.000</td>\n",
       "      <td>3.000</td>\n",
       "      <td>0.000</td>\n",
       "      <td>2.000</td>\n",
       "      <td>1.000</td>\n",
       "      <td>3.000</td>\n",
       "      <td>1.000</td>\n",
       "      <td>5.000</td>\n",
       "      <td>2.000</td>\n",
       "      <td>0.000</td>\n",
       "      <td>1.000</td>\n",
       "      <td>5.000</td>\n",
       "      <td>0.000</td>\n",
       "      <td>4.000</td>\n",
       "      <td>0.000</td>\n",
       "      <td>3.000</td>\n",
       "      <td>3.000</td>\n",
       "      <td>2.000</td>\n",
       "      <td>1.000</td>\n",
       "      <td>3.000</td>\n",
       "      <td>0.000</td>\n",
       "      <td>5.000</td>\n",
       "      <td>3.000</td>\n",
       "      <td>1.000</td>\n",
       "      <td>0.000</td>\n",
       "      <td>2.000</td>\n",
       "      <td>2.000</td>\n",
       "      <td>5.000</td>\n",
       "      <td>2.000</td>\n",
       "      <td>0.250</td>\n",
       "      <td>0.008</td>\n",
       "      <td>0.147</td>\n",
       "      <td>1.000</td>\n",
       "      <td>0.000</td>\n",
       "      <td>0.667</td>\n",
       "      <td>0.804</td>\n",
       "      <td>0.996</td>\n",
       "      <td>0.920</td>\n",
       "      <td>0.993</td>\n",
       "      <td>0.929</td>\n",
       "      <td>0.663</td>\n",
       "      <td>0.295</td>\n",
       "      <td>0.967</td>\n",
       "      <td>0.986</td>\n",
       "      <td>0.400</td>\n",
       "      <td>0.121</td>\n",
       "      <td>0.859</td>\n",
       "      <td>0.031</td>\n",
       "      <td>0.155</td>\n",
       "      <td>0.984</td>\n",
       "      <td>0.655</td>\n",
       "      <td>0.925</td>\n",
       "      <td>0.012</td>\n",
       "      <td>0.124</td>\n",
       "      <td>0.514</td>\n",
       "      <td>0.733</td>\n",
       "      <td>0.300</td>\n",
       "      <td>0.883</td>\n",
       "      <td>0.430</td>\n",
       "      <td>0.900</td>\n",
       "      <td>0.000</td>\n",
       "    </tr>\n",
       "    <tr>\n",
       "      <th>2</th>\n",
       "      <td>0.490</td>\n",
       "      <td>0.614</td>\n",
       "      <td>0.617</td>\n",
       "      <td>0.359</td>\n",
       "      <td>0.434</td>\n",
       "      <td>0.411</td>\n",
       "      <td>0.714</td>\n",
       "      <td>0.326</td>\n",
       "      <td>0.557</td>\n",
       "      <td>0.559</td>\n",
       "      <td>0.416</td>\n",
       "      <td>0.443</td>\n",
       "      <td>0.532</td>\n",
       "      <td>-1.000</td>\n",
       "      <td>0.585</td>\n",
       "      <td>0.231</td>\n",
       "      <td>0.603</td>\n",
       "      <td>0.418</td>\n",
       "      <td>0.593</td>\n",
       "      <td>0.663</td>\n",
       "      <td>0.440</td>\n",
       "      <td>0.422</td>\n",
       "      <td>0.698</td>\n",
       "      <td>0.252</td>\n",
       "      <td>0.537</td>\n",
       "      <td>0.530</td>\n",
       "      <td>0.661</td>\n",
       "      <td>-1.000</td>\n",
       "      <td>-1.000</td>\n",
       "      <td>0.564</td>\n",
       "      <td>-1.000</td>\n",
       "      <td>3.000</td>\n",
       "      <td>5.000</td>\n",
       "      <td>1.000</td>\n",
       "      <td>4.000</td>\n",
       "      <td>4.000</td>\n",
       "      <td>5.000</td>\n",
       "      <td>5.000</td>\n",
       "      <td>3.000</td>\n",
       "      <td>5.000</td>\n",
       "      <td>2.000</td>\n",
       "      <td>1.000</td>\n",
       "      <td>2.000</td>\n",
       "      <td>2.000</td>\n",
       "      <td>-1.000</td>\n",
       "      <td>3.000</td>\n",
       "      <td>4.000</td>\n",
       "      <td>1.000</td>\n",
       "      <td>4.000</td>\n",
       "      <td>1.000</td>\n",
       "      <td>0.000</td>\n",
       "      <td>0.000</td>\n",
       "      <td>2.000</td>\n",
       "      <td>5.000</td>\n",
       "      <td>5.000</td>\n",
       "      <td>0.000</td>\n",
       "      <td>3.000</td>\n",
       "      <td>5.000</td>\n",
       "      <td>-1.000</td>\n",
       "      <td>-1.000</td>\n",
       "      <td>2.000</td>\n",
       "      <td>-1.000</td>\n",
       "      <td>0.278</td>\n",
       "      <td>0.924</td>\n",
       "      <td>0.041</td>\n",
       "      <td>0.623</td>\n",
       "      <td>0.881</td>\n",
       "      <td>0.990</td>\n",
       "      <td>0.600</td>\n",
       "      <td>0.961</td>\n",
       "      <td>0.750</td>\n",
       "      <td>0.099</td>\n",
       "      <td>0.172</td>\n",
       "      <td>0.904</td>\n",
       "      <td>0.000</td>\n",
       "      <td>0.979</td>\n",
       "      <td>0.329</td>\n",
       "      <td>0.091</td>\n",
       "      <td>1.000</td>\n",
       "      <td>0.033</td>\n",
       "      <td>0.974</td>\n",
       "      <td>0.000</td>\n",
       "      <td>0.072</td>\n",
       "      <td>0.011</td>\n",
       "      <td>0.217</td>\n",
       "      <td>0.708</td>\n",
       "      <td>1.000</td>\n",
       "      <td>1.000</td>\n",
       "      <td>1.000</td>\n",
       "      <td>1.000</td>\n",
       "      <td>0.000</td>\n",
       "      <td>1.000</td>\n",
       "      <td>1.000</td>\n",
       "      <td>1.000</td>\n",
       "    </tr>\n",
       "    <tr>\n",
       "      <th>3</th>\n",
       "      <td>0.684</td>\n",
       "      <td>0.588</td>\n",
       "      <td>0.803</td>\n",
       "      <td>-1.000</td>\n",
       "      <td>-1.000</td>\n",
       "      <td>0.796</td>\n",
       "      <td>0.186</td>\n",
       "      <td>-1.000</td>\n",
       "      <td>-1.000</td>\n",
       "      <td>-1.000</td>\n",
       "      <td>-1.000</td>\n",
       "      <td>0.783</td>\n",
       "      <td>0.719</td>\n",
       "      <td>0.879</td>\n",
       "      <td>0.820</td>\n",
       "      <td>-1.000</td>\n",
       "      <td>-1.000</td>\n",
       "      <td>-1.000</td>\n",
       "      <td>-1.000</td>\n",
       "      <td>-1.000</td>\n",
       "      <td>-1.000</td>\n",
       "      <td>-1.000</td>\n",
       "      <td>-1.000</td>\n",
       "      <td>-1.000</td>\n",
       "      <td>0.787</td>\n",
       "      <td>-1.000</td>\n",
       "      <td>-1.000</td>\n",
       "      <td>-1.000</td>\n",
       "      <td>0.191</td>\n",
       "      <td>-1.000</td>\n",
       "      <td>-1.000</td>\n",
       "      <td>4.000</td>\n",
       "      <td>1.000</td>\n",
       "      <td>0.000</td>\n",
       "      <td>-1.000</td>\n",
       "      <td>-1.000</td>\n",
       "      <td>0.000</td>\n",
       "      <td>2.000</td>\n",
       "      <td>-1.000</td>\n",
       "      <td>-1.000</td>\n",
       "      <td>-1.000</td>\n",
       "      <td>-1.000</td>\n",
       "      <td>0.000</td>\n",
       "      <td>5.000</td>\n",
       "      <td>0.000</td>\n",
       "      <td>4.000</td>\n",
       "      <td>-1.000</td>\n",
       "      <td>-1.000</td>\n",
       "      <td>-1.000</td>\n",
       "      <td>-1.000</td>\n",
       "      <td>-1.000</td>\n",
       "      <td>-1.000</td>\n",
       "      <td>-1.000</td>\n",
       "      <td>-1.000</td>\n",
       "      <td>-1.000</td>\n",
       "      <td>0.000</td>\n",
       "      <td>-1.000</td>\n",
       "      <td>-1.000</td>\n",
       "      <td>-1.000</td>\n",
       "      <td>1.000</td>\n",
       "      <td>-1.000</td>\n",
       "      <td>-1.000</td>\n",
       "      <td>0.000</td>\n",
       "      <td>0.000</td>\n",
       "      <td>0.000</td>\n",
       "      <td>0.000</td>\n",
       "      <td>0.000</td>\n",
       "      <td>0.000</td>\n",
       "      <td>0.000</td>\n",
       "      <td>0.000</td>\n",
       "      <td>1.000</td>\n",
       "      <td>1.000</td>\n",
       "      <td>1.000</td>\n",
       "      <td>1.000</td>\n",
       "      <td>1.000</td>\n",
       "      <td>1.000</td>\n",
       "      <td>1.000</td>\n",
       "      <td>1.000</td>\n",
       "      <td>1.000</td>\n",
       "      <td>1.000</td>\n",
       "      <td>0.000</td>\n",
       "      <td>1.000</td>\n",
       "      <td>0.000</td>\n",
       "      <td>0.000</td>\n",
       "      <td>1.000</td>\n",
       "      <td>1.000</td>\n",
       "      <td>1.000</td>\n",
       "      <td>1.000</td>\n",
       "      <td>0.000</td>\n",
       "      <td>1.000</td>\n",
       "      <td>0.000</td>\n",
       "      <td>0.000</td>\n",
       "      <td>1.000</td>\n",
       "      <td>1.000</td>\n",
       "    </tr>\n",
       "    <tr>\n",
       "      <th>4</th>\n",
       "      <td>0.383</td>\n",
       "      <td>0.298</td>\n",
       "      <td>0.545</td>\n",
       "      <td>0.279</td>\n",
       "      <td>0.282</td>\n",
       "      <td>0.479</td>\n",
       "      <td>0.334</td>\n",
       "      <td>0.236</td>\n",
       "      <td>0.221</td>\n",
       "      <td>0.526</td>\n",
       "      <td>0.534</td>\n",
       "      <td>0.401</td>\n",
       "      <td>0.438</td>\n",
       "      <td>0.678</td>\n",
       "      <td>0.489</td>\n",
       "      <td>-1.000</td>\n",
       "      <td>0.237</td>\n",
       "      <td>-1.000</td>\n",
       "      <td>0.559</td>\n",
       "      <td>0.638</td>\n",
       "      <td>0.640</td>\n",
       "      <td>0.218</td>\n",
       "      <td>0.381</td>\n",
       "      <td>0.597</td>\n",
       "      <td>0.390</td>\n",
       "      <td>0.584</td>\n",
       "      <td>0.728</td>\n",
       "      <td>0.631</td>\n",
       "      <td>0.384</td>\n",
       "      <td>0.445</td>\n",
       "      <td>0.327</td>\n",
       "      <td>2.000</td>\n",
       "      <td>1.000</td>\n",
       "      <td>5.000</td>\n",
       "      <td>1.000</td>\n",
       "      <td>5.000</td>\n",
       "      <td>4.000</td>\n",
       "      <td>4.000</td>\n",
       "      <td>1.000</td>\n",
       "      <td>4.000</td>\n",
       "      <td>4.000</td>\n",
       "      <td>1.000</td>\n",
       "      <td>1.000</td>\n",
       "      <td>1.000</td>\n",
       "      <td>5.000</td>\n",
       "      <td>2.000</td>\n",
       "      <td>-1.000</td>\n",
       "      <td>1.000</td>\n",
       "      <td>-1.000</td>\n",
       "      <td>3.000</td>\n",
       "      <td>1.000</td>\n",
       "      <td>4.000</td>\n",
       "      <td>4.000</td>\n",
       "      <td>5.000</td>\n",
       "      <td>2.000</td>\n",
       "      <td>4.000</td>\n",
       "      <td>2.000</td>\n",
       "      <td>1.000</td>\n",
       "      <td>2.000</td>\n",
       "      <td>1.000</td>\n",
       "      <td>1.000</td>\n",
       "      <td>1.000</td>\n",
       "      <td>0.000</td>\n",
       "      <td>0.000</td>\n",
       "      <td>1.000</td>\n",
       "      <td>0.034</td>\n",
       "      <td>0.000</td>\n",
       "      <td>0.000</td>\n",
       "      <td>0.833</td>\n",
       "      <td>0.167</td>\n",
       "      <td>0.075</td>\n",
       "      <td>0.750</td>\n",
       "      <td>0.588</td>\n",
       "      <td>0.965</td>\n",
       "      <td>0.267</td>\n",
       "      <td>0.993</td>\n",
       "      <td>0.487</td>\n",
       "      <td>0.940</td>\n",
       "      <td>0.295</td>\n",
       "      <td>0.979</td>\n",
       "      <td>0.773</td>\n",
       "      <td>0.504</td>\n",
       "      <td>0.897</td>\n",
       "      <td>0.333</td>\n",
       "      <td>0.021</td>\n",
       "      <td>0.683</td>\n",
       "      <td>0.290</td>\n",
       "      <td>0.571</td>\n",
       "      <td>0.364</td>\n",
       "      <td>0.056</td>\n",
       "      <td>0.135</td>\n",
       "      <td>0.933</td>\n",
       "      <td>0.571</td>\n",
       "      <td>0.004</td>\n",
       "    </tr>\n",
       "  </tbody>\n",
       "</table>\n",
       "</div>"
      ],
      "text/plain": [
       "   feat0  feat1  feat2  feat3  feat4  feat5  feat6  feat7  feat8  feat9  \\\n",
       "0  0.624  0.606  0.496  0.691  0.334  0.318  0.636  0.326  0.568  0.310   \n",
       "1  0.485  0.496  0.611  0.591  0.678  0.577  0.541  0.482  0.391  0.441   \n",
       "2  0.490  0.614  0.617  0.359  0.434  0.411  0.714  0.326  0.557  0.559   \n",
       "3  0.684  0.588  0.803 -1.000 -1.000  0.796  0.186 -1.000 -1.000 -1.000   \n",
       "4  0.383  0.298  0.545  0.279  0.282  0.479  0.334  0.236  0.221  0.526   \n",
       "\n",
       "   feat10  feat11  feat12  feat13  feat14  feat15  feat16  feat17  feat18  \\\n",
       "0   0.638   0.550   0.685   0.497   0.657   0.550   0.507   0.543  -1.000   \n",
       "1   0.654   0.428   0.586   0.656   0.597   0.232   0.612   0.678   0.657   \n",
       "2   0.416   0.443   0.532  -1.000   0.585   0.231   0.603   0.418   0.593   \n",
       "3  -1.000   0.783   0.719   0.879   0.820  -1.000  -1.000  -1.000  -1.000   \n",
       "4   0.534   0.401   0.438   0.678   0.489  -1.000   0.237  -1.000   0.559   \n",
       "\n",
       "   feat19  feat20  feat21  feat22  feat23  feat24  feat25  feat26  feat27  \\\n",
       "0   0.601   0.569   0.578   0.493  -1.000   0.792   0.653   0.460   0.480   \n",
       "1   0.571   0.484   0.458   0.803   0.644   0.551   0.475   0.410   0.509   \n",
       "2   0.663   0.440   0.422   0.698   0.252   0.537   0.530   0.661  -1.000   \n",
       "3  -1.000  -1.000  -1.000  -1.000  -1.000   0.787  -1.000  -1.000  -1.000   \n",
       "4   0.638   0.640   0.218   0.381   0.597   0.390   0.584   0.728   0.631   \n",
       "\n",
       "   feat28  feat29  feat30  split0  split1  split2  split3  split4  split5  \\\n",
       "0   0.743   0.620  -1.000   0.000   3.000   3.000   5.000   4.000   3.000   \n",
       "1   0.468   0.738   0.440   5.000   2.000   3.000   3.000   0.000   2.000   \n",
       "2  -1.000   0.564  -1.000   3.000   5.000   1.000   4.000   4.000   5.000   \n",
       "3   0.191  -1.000  -1.000   4.000   1.000   0.000  -1.000  -1.000   0.000   \n",
       "4   0.384   0.445   0.327   2.000   1.000   5.000   1.000   5.000   4.000   \n",
       "\n",
       "   split6  split7  split8  split9  split10  split11  split12  split13  \\\n",
       "0   1.000   4.000   3.000   0.000    3.000    4.000    0.000    2.000   \n",
       "1   1.000   3.000   1.000   5.000    2.000    0.000    1.000    5.000   \n",
       "2   5.000   3.000   5.000   2.000    1.000    2.000    2.000   -1.000   \n",
       "3   2.000  -1.000  -1.000  -1.000   -1.000    0.000    5.000    0.000   \n",
       "4   4.000   1.000   4.000   4.000    1.000    1.000    1.000    5.000   \n",
       "\n",
       "   split14  split15  split16  split17  split18  split19  split20  split21  \\\n",
       "0    1.000    3.000    4.000    3.000   -1.000    2.000    5.000    5.000   \n",
       "1    0.000    4.000    0.000    3.000    3.000    2.000    1.000    3.000   \n",
       "2    3.000    4.000    1.000    4.000    1.000    0.000    0.000    2.000   \n",
       "3    4.000   -1.000   -1.000   -1.000   -1.000   -1.000   -1.000   -1.000   \n",
       "4    2.000   -1.000    1.000   -1.000    3.000    1.000    4.000    4.000   \n",
       "\n",
       "   split22  split23  split24  split25  split26  split27  split28  split29  \\\n",
       "0    1.000   -1.000    0.000    5.000    3.000    4.000    4.000    2.000   \n",
       "1    0.000    5.000    3.000    1.000    0.000    2.000    2.000    5.000   \n",
       "2    5.000    5.000    0.000    3.000    5.000   -1.000   -1.000    2.000   \n",
       "3   -1.000   -1.000    0.000   -1.000   -1.000   -1.000    1.000   -1.000   \n",
       "4    5.000    2.000    4.000    2.000    1.000    2.000    1.000    1.000   \n",
       "\n",
       "   split30   lp0   lp1   lp2   lp3   lp4   lp5   lp6   lp7   lp8   lp9  lp10  \\\n",
       "0   -1.000 0.051 0.505 0.731 0.940 0.006 0.385 1.000 1.000 0.030 1.000 0.657   \n",
       "1    2.000 0.250 0.008 0.147 1.000 0.000 0.667 0.804 0.996 0.920 0.993 0.929   \n",
       "2   -1.000 0.278 0.924 0.041 0.623 0.881 0.990 0.600 0.961 0.750 0.099 0.172   \n",
       "3   -1.000 0.000 0.000 0.000 0.000 0.000 0.000 0.000 0.000 1.000 1.000 1.000   \n",
       "4    1.000 0.000 0.000 1.000 0.034 0.000 0.000 0.833 0.167 0.075 0.750 0.588   \n",
       "\n",
       "   lp11  lp12  lp13  lp14  lp15  lp16  lp17  lp18  lp19  lp20  lp21  lp22  \\\n",
       "0 0.959 0.322 0.875 1.000 0.020 0.000 0.000 1.000 0.000 0.414 0.025 0.016   \n",
       "1 0.663 0.295 0.967 0.986 0.400 0.121 0.859 0.031 0.155 0.984 0.655 0.925   \n",
       "2 0.904 0.000 0.979 0.329 0.091 1.000 0.033 0.974 0.000 0.072 0.011 0.217   \n",
       "3 1.000 1.000 1.000 1.000 1.000 1.000 1.000 0.000 1.000 0.000 0.000 1.000   \n",
       "4 0.965 0.267 0.993 0.487 0.940 0.295 0.979 0.773 0.504 0.897 0.333 0.021   \n",
       "\n",
       "   lp23  lp24  lp25  lp26  lp27  lp28  lp29  lp30  lp31  \n",
       "0 0.152 1.000 0.103 0.919 0.167 0.167 1.000 0.000 0.000  \n",
       "1 0.012 0.124 0.514 0.733 0.300 0.883 0.430 0.900 0.000  \n",
       "2 0.708 1.000 1.000 1.000 1.000 0.000 1.000 1.000 1.000  \n",
       "3 1.000 1.000 1.000 0.000 1.000 0.000 0.000 1.000 1.000  \n",
       "4 0.683 0.290 0.571 0.364 0.056 0.135 0.933 0.571 0.004  "
      ]
     },
     "execution_count": 10,
     "metadata": {},
     "output_type": "execute_result"
    }
   ],
   "source": [
    "function_df.head()"
   ]
  },
  {
   "cell_type": "code",
   "execution_count": 11,
   "metadata": {
    "execution": {
     "iopub.execute_input": "2022-01-07T19:27:57.544490Z",
     "iopub.status.busy": "2022-01-07T19:27:57.544224Z",
     "iopub.status.idle": "2022-01-07T19:27:57.550744Z",
     "shell.execute_reply": "2022-01-07T19:27:57.550124Z",
     "shell.execute_reply.started": "2022-01-07T19:27:57.544463Z"
    }
   },
   "outputs": [
    {
     "data": {
      "text/plain": [
       "feat0   0.624\n",
       "feat1   0.606\n",
       "feat2   0.496\n",
       "feat3   0.691\n",
       "feat4   0.334\n",
       "feat5   0.318\n",
       "feat6   0.636\n",
       "feat7   0.326\n",
       "feat8   0.568\n",
       "feat9   0.310\n",
       "dtype: float64"
      ]
     },
     "execution_count": 11,
     "metadata": {},
     "output_type": "execute_result"
    }
   ],
   "source": [
    "X_data_list[0][0].head(10)"
   ]
  },
  {
   "cell_type": "code",
   "execution_count": 12,
   "metadata": {
    "ExecuteTime": {
     "end_time": "2021-01-17T09:46:12.626401Z",
     "start_time": "2021-01-17T09:46:12.608200Z"
    },
    "execution": {
     "iopub.execute_input": "2022-01-07T19:27:57.551855Z",
     "iopub.status.busy": "2022-01-07T19:27:57.551645Z",
     "iopub.status.idle": "2022-01-07T19:27:57.567574Z",
     "shell.execute_reply": "2022-01-07T19:27:57.566952Z",
     "shell.execute_reply.started": "2022-01-07T19:27:57.551829Z"
    }
   },
   "outputs": [
    {
     "data": {
      "text/html": [
       "<div>\n",
       "<style scoped>\n",
       "    .dataframe tbody tr th:only-of-type {\n",
       "        vertical-align: middle;\n",
       "    }\n",
       "\n",
       "    .dataframe tbody tr th {\n",
       "        vertical-align: top;\n",
       "    }\n",
       "\n",
       "    .dataframe thead th {\n",
       "        text-align: right;\n",
       "    }\n",
       "</style>\n",
       "<table border=\"1\" class=\"dataframe\">\n",
       "  <thead>\n",
       "    <tr style=\"text-align: right;\">\n",
       "      <th></th>\n",
       "      <th>x0</th>\n",
       "      <th>x1</th>\n",
       "      <th>x2</th>\n",
       "      <th>x3</th>\n",
       "      <th>x4</th>\n",
       "      <th>x5</th>\n",
       "    </tr>\n",
       "  </thead>\n",
       "  <tbody>\n",
       "    <tr>\n",
       "      <th>0</th>\n",
       "      <td>0.492</td>\n",
       "      <td>0.566</td>\n",
       "      <td>0.458</td>\n",
       "      <td>0.524</td>\n",
       "      <td>0.386</td>\n",
       "      <td>0.493</td>\n",
       "    </tr>\n",
       "    <tr>\n",
       "      <th>1</th>\n",
       "      <td>0.528</td>\n",
       "      <td>0.658</td>\n",
       "      <td>0.356</td>\n",
       "      <td>0.272</td>\n",
       "      <td>0.549</td>\n",
       "      <td>0.202</td>\n",
       "    </tr>\n",
       "    <tr>\n",
       "      <th>2</th>\n",
       "      <td>0.577</td>\n",
       "      <td>0.599</td>\n",
       "      <td>0.350</td>\n",
       "      <td>0.289</td>\n",
       "      <td>0.576</td>\n",
       "      <td>0.297</td>\n",
       "    </tr>\n",
       "    <tr>\n",
       "      <th>3</th>\n",
       "      <td>0.596</td>\n",
       "      <td>0.375</td>\n",
       "      <td>0.397</td>\n",
       "      <td>0.535</td>\n",
       "      <td>0.596</td>\n",
       "      <td>0.770</td>\n",
       "    </tr>\n",
       "    <tr>\n",
       "      <th>4</th>\n",
       "      <td>0.538</td>\n",
       "      <td>0.392</td>\n",
       "      <td>0.409</td>\n",
       "      <td>0.606</td>\n",
       "      <td>0.345</td>\n",
       "      <td>0.744</td>\n",
       "    </tr>\n",
       "    <tr>\n",
       "      <th>5</th>\n",
       "      <td>0.574</td>\n",
       "      <td>0.546</td>\n",
       "      <td>0.226</td>\n",
       "      <td>0.177</td>\n",
       "      <td>0.634</td>\n",
       "      <td>0.249</td>\n",
       "    </tr>\n",
       "    <tr>\n",
       "      <th>6</th>\n",
       "      <td>0.415</td>\n",
       "      <td>0.548</td>\n",
       "      <td>0.552</td>\n",
       "      <td>0.720</td>\n",
       "      <td>0.219</td>\n",
       "      <td>0.643</td>\n",
       "    </tr>\n",
       "    <tr>\n",
       "      <th>7</th>\n",
       "      <td>0.640</td>\n",
       "      <td>0.494</td>\n",
       "      <td>0.491</td>\n",
       "      <td>0.516</td>\n",
       "      <td>0.645</td>\n",
       "      <td>0.663</td>\n",
       "    </tr>\n",
       "    <tr>\n",
       "      <th>8</th>\n",
       "      <td>0.400</td>\n",
       "      <td>0.531</td>\n",
       "      <td>0.288</td>\n",
       "      <td>0.442</td>\n",
       "      <td>0.082</td>\n",
       "      <td>0.339</td>\n",
       "    </tr>\n",
       "    <tr>\n",
       "      <th>9</th>\n",
       "      <td>0.528</td>\n",
       "      <td>0.641</td>\n",
       "      <td>0.587</td>\n",
       "      <td>0.557</td>\n",
       "      <td>0.630</td>\n",
       "      <td>0.527</td>\n",
       "    </tr>\n",
       "  </tbody>\n",
       "</table>\n",
       "</div>"
      ],
      "text/plain": [
       "     x0    x1    x2    x3    x4    x5\n",
       "0 0.492 0.566 0.458 0.524 0.386 0.493\n",
       "1 0.528 0.658 0.356 0.272 0.549 0.202\n",
       "2 0.577 0.599 0.350 0.289 0.576 0.297\n",
       "3 0.596 0.375 0.397 0.535 0.596 0.770\n",
       "4 0.538 0.392 0.409 0.606 0.345 0.744\n",
       "5 0.574 0.546 0.226 0.177 0.634 0.249\n",
       "6 0.415 0.548 0.552 0.720 0.219 0.643\n",
       "7 0.640 0.494 0.491 0.516 0.645 0.663\n",
       "8 0.400 0.531 0.288 0.442 0.082 0.339\n",
       "9 0.528 0.641 0.587 0.557 0.630 0.527"
      ]
     },
     "execution_count": 12,
     "metadata": {},
     "output_type": "execute_result"
    }
   ],
   "source": [
    "X_data_list[0][1].head(10)"
   ]
  },
  {
   "cell_type": "code",
   "execution_count": 13,
   "metadata": {
    "execution": {
     "iopub.execute_input": "2022-01-07T19:27:57.568699Z",
     "iopub.status.busy": "2022-01-07T19:27:57.568436Z",
     "iopub.status.idle": "2022-01-07T19:27:57.579445Z",
     "shell.execute_reply": "2022-01-07T19:27:57.578708Z",
     "shell.execute_reply.started": "2022-01-07T19:27:57.568672Z"
    }
   },
   "outputs": [
    {
     "data": {
      "text/plain": [
       "feat0   0.624\n",
       "feat1   0.606\n",
       "feat2   0.496\n",
       "feat3   0.691\n",
       "feat4   0.334\n",
       "feat5   0.318\n",
       "feat6   0.636\n",
       "feat7   0.326\n",
       "feat8   0.568\n",
       "feat9   0.310\n",
       "dtype: float64"
      ]
     },
     "execution_count": 13,
     "metadata": {},
     "output_type": "execute_result"
    }
   ],
   "source": [
    "y_data_list[0][0].head(10)"
   ]
  },
  {
   "cell_type": "code",
   "execution_count": 14,
   "metadata": {
    "ExecuteTime": {
     "end_time": "2021-01-17T09:46:12.636995Z",
     "start_time": "2021-01-17T09:46:12.629349Z"
    },
    "execution": {
     "iopub.execute_input": "2022-01-07T19:27:57.580695Z",
     "iopub.status.busy": "2022-01-07T19:27:57.580428Z",
     "iopub.status.idle": "2022-01-07T19:27:57.594446Z",
     "shell.execute_reply": "2022-01-07T19:27:57.593581Z",
     "shell.execute_reply.started": "2022-01-07T19:27:57.580667Z"
    }
   },
   "outputs": [
    {
     "data": {
      "text/html": [
       "<div>\n",
       "<style scoped>\n",
       "    .dataframe tbody tr th:only-of-type {\n",
       "        vertical-align: middle;\n",
       "    }\n",
       "\n",
       "    .dataframe tbody tr th {\n",
       "        vertical-align: top;\n",
       "    }\n",
       "\n",
       "    .dataframe thead th {\n",
       "        text-align: right;\n",
       "    }\n",
       "</style>\n",
       "<table border=\"1\" class=\"dataframe\">\n",
       "  <thead>\n",
       "    <tr style=\"text-align: right;\">\n",
       "      <th></th>\n",
       "      <th>result</th>\n",
       "    </tr>\n",
       "  </thead>\n",
       "  <tbody>\n",
       "    <tr>\n",
       "      <th>0</th>\n",
       "      <td>0</td>\n",
       "    </tr>\n",
       "    <tr>\n",
       "      <th>1</th>\n",
       "      <td>0</td>\n",
       "    </tr>\n",
       "    <tr>\n",
       "      <th>2</th>\n",
       "      <td>0</td>\n",
       "    </tr>\n",
       "    <tr>\n",
       "      <th>3</th>\n",
       "      <td>1</td>\n",
       "    </tr>\n",
       "    <tr>\n",
       "      <th>4</th>\n",
       "      <td>0</td>\n",
       "    </tr>\n",
       "    <tr>\n",
       "      <th>5</th>\n",
       "      <td>0</td>\n",
       "    </tr>\n",
       "    <tr>\n",
       "      <th>6</th>\n",
       "      <td>0</td>\n",
       "    </tr>\n",
       "    <tr>\n",
       "      <th>7</th>\n",
       "      <td>1</td>\n",
       "    </tr>\n",
       "    <tr>\n",
       "      <th>8</th>\n",
       "      <td>1</td>\n",
       "    </tr>\n",
       "    <tr>\n",
       "      <th>9</th>\n",
       "      <td>0</td>\n",
       "    </tr>\n",
       "  </tbody>\n",
       "</table>\n",
       "</div>"
      ],
      "text/plain": [
       "   result\n",
       "0       0\n",
       "1       0\n",
       "2       0\n",
       "3       1\n",
       "4       0\n",
       "5       0\n",
       "6       0\n",
       "7       1\n",
       "8       1\n",
       "9       0"
      ]
     },
     "execution_count": 14,
     "metadata": {},
     "output_type": "execute_result"
    }
   ],
   "source": [
    "y_data_list[0][1].head(10)"
   ]
  },
  {
   "cell_type": "code",
   "execution_count": 15,
   "metadata": {
    "execution": {
     "iopub.execute_input": "2022-01-07T19:27:57.595763Z",
     "iopub.status.busy": "2022-01-07T19:27:57.595510Z",
     "iopub.status.idle": "2022-01-07T19:28:15.085218Z",
     "shell.execute_reply": "2022-01-07T19:28:15.084264Z",
     "shell.execute_reply.started": "2022-01-07T19:27:57.595733Z"
    }
   },
   "outputs": [
    {
     "data": {
      "image/png": "[encoded data removed]",
      "text/plain": [
       "<IPython.core.display.Image object>"
      ]
     },
     "execution_count": 15,
     "metadata": {},
     "output_type": "execute_result"
    }
   ],
   "source": [
    "plot = None\n",
    "if plot_tree_from_parameters != 'make_classification':\n",
    "    plot = plot_tree_from_parameters(y_data_list[0][0].values, config)\n",
    "plot"
   ]
  },
  {
   "cell_type": "code",
   "execution_count": 16,
   "metadata": {
    "execution": {
     "iopub.execute_input": "2022-01-07T19:28:15.087053Z",
     "iopub.status.busy": "2022-01-07T19:28:15.086807Z",
     "iopub.status.idle": "2022-01-07T19:28:15.105857Z",
     "shell.execute_reply": "2022-01-07T19:28:15.105085Z",
     "shell.execute_reply.started": "2022-01-07T19:28:15.087022Z"
    }
   },
   "outputs": [],
   "source": [
    "def inject_noise(y_data, noise=0.0, noise_dist='normal', seed=42):\n",
    "    \"\"\"\n",
    "    Returns a polynomial injected with specified noise type and amount. \n",
    "    Inputs a clean polynomial array with x-data and y-data and modifies the y-data according to the noise settings.\n",
    "    \"\"\"\n",
    "    np.random.seed(seed)\n",
    "    \n",
    "    #Calculate range of function values of input polynomial\n",
    "    range_values_fv = np.ptp(y_data[1].values)\n",
    "    \n",
    "    #Selection of noise type\n",
    "    #Available types: normal, uniform, A, B, C\n",
    "    if noise_dist=='normal':\n",
    "        noise_sample=noise*np.random.normal(loc=0, scale=1.0,size=y_data[1].shape[0])\n",
    "    elif noise_dist=='uniform':\n",
    "        noise_sample=noise*np.random.uniform(low=0, high=1.0,size=y_data[1].shape[0])\n",
    "    elif noise_dist=='normal_range':\n",
    "        #Normal distribution adjusted to function value range\n",
    "        noise_sample=(noise*range_values_fv)*np.random.normal(loc=0, scale=1.0,size=y_data[1].shape[0])\n",
    "    elif noise_dist=='uniform_range':\n",
    "        noise_sample=(noise*range_values_fv)*np.random.normal(loc=0, scale=1.0,size=y_data[1].shape[0])\n",
    "    elif noise_dist=='flip_percentage':\n",
    "        idx = np.random.choice(y_data[1].shape[0], int(y_data[1].shape[0]*noise), replace=False)\n",
    "        y_data[1].iloc[idx] = (y_data[1].iloc[idx] + 1) % 2 \n",
    "        #y_data[1].reshape(-1, 1)\n",
    "        return y_data\n",
    "    else:\n",
    "        #no noise\n",
    "        noise_sample = np.zeros(y_data[1].shape[0])\n",
    "                               \n",
    "    noise_sample=noise_sample.reshape(-1,1)\n",
    "    \n",
    "    y_data[1]=y_data[1]+noise_sample\n",
    "    \n",
    "    return np.clip(y_data, 0, 1)"
   ]
  },
  {
   "cell_type": "code",
   "execution_count": 17,
   "metadata": {
    "execution": {
     "iopub.execute_input": "2022-01-07T19:28:15.107309Z",
     "iopub.status.busy": "2022-01-07T19:28:15.107093Z",
     "iopub.status.idle": "2022-01-07T19:28:15.121312Z",
     "shell.execute_reply": "2022-01-07T19:28:15.120319Z",
     "shell.execute_reply.started": "2022-01-07T19:28:15.107282Z"
    }
   },
   "outputs": [],
   "source": [
    "if noise_injected_level > 0:\n",
    "    parallel = Parallel(n_jobs=n_jobs, verbose=3, backend='loky')\n",
    "    y_data_list = parallel(delayed(inject_noise)(y_data=y_data_list[i],\n",
    "                                                 noise=noise_injected_level,\n",
    "                                                 noise_dist=noise_injected_type, \n",
    "                                                 seed=RANDOM_SEED+i) for i in range(len(y_data_list)))\n"
   ]
  },
  {
   "cell_type": "code",
   "execution_count": 18,
   "metadata": {
    "execution": {
     "iopub.execute_input": "2022-01-07T19:28:15.122427Z",
     "iopub.status.busy": "2022-01-07T19:28:15.122211Z",
     "iopub.status.idle": "2022-01-07T19:28:15.136121Z",
     "shell.execute_reply": "2022-01-07T19:28:15.135433Z",
     "shell.execute_reply.started": "2022-01-07T19:28:15.122400Z"
    }
   },
   "outputs": [
    {
     "data": {
      "text/plain": [
       "feat0   0.624\n",
       "feat1   0.606\n",
       "feat2   0.496\n",
       "feat3   0.691\n",
       "feat4   0.334\n",
       "feat5   0.318\n",
       "feat6   0.636\n",
       "feat7   0.326\n",
       "feat8   0.568\n",
       "feat9   0.310\n",
       "dtype: float64"
      ]
     },
     "execution_count": 18,
     "metadata": {},
     "output_type": "execute_result"
    }
   ],
   "source": [
    "y_data_list[0][0].head(10)"
   ]
  },
  {
   "cell_type": "code",
   "execution_count": 19,
   "metadata": {
    "execution": {
     "iopub.execute_input": "2022-01-07T19:28:15.138596Z",
     "iopub.status.busy": "2022-01-07T19:28:15.138028Z",
     "iopub.status.idle": "2022-01-07T19:28:15.153506Z",
     "shell.execute_reply": "2022-01-07T19:28:15.151843Z",
     "shell.execute_reply.started": "2022-01-07T19:28:15.138546Z"
    }
   },
   "outputs": [
    {
     "data": {
      "text/plain": [
       "feat0   0.624\n",
       "feat1   0.606\n",
       "feat2   0.496\n",
       "feat3   0.691\n",
       "feat4   0.334\n",
       "         ... \n",
       "lp27    0.167\n",
       "lp28    0.167\n",
       "lp29    1.000\n",
       "lp30    0.000\n",
       "lp31    0.000\n",
       "Length: 94, dtype: float64"
      ]
     },
     "execution_count": 19,
     "metadata": {},
     "output_type": "execute_result"
    }
   ],
   "source": [
    "y_data_list[0][0]"
   ]
  },
  {
   "cell_type": "code",
   "execution_count": 20,
   "metadata": {
    "execution": {
     "iopub.execute_input": "2022-01-07T19:28:15.156917Z",
     "iopub.status.busy": "2022-01-07T19:28:15.155946Z",
     "iopub.status.idle": "2022-01-07T19:28:15.173671Z",
     "shell.execute_reply": "2022-01-07T19:28:15.171991Z",
     "shell.execute_reply.started": "2022-01-07T19:28:15.156860Z"
    }
   },
   "outputs": [
    {
     "data": {
      "text/html": [
       "<div>\n",
       "<style scoped>\n",
       "    .dataframe tbody tr th:only-of-type {\n",
       "        vertical-align: middle;\n",
       "    }\n",
       "\n",
       "    .dataframe tbody tr th {\n",
       "        vertical-align: top;\n",
       "    }\n",
       "\n",
       "    .dataframe thead th {\n",
       "        text-align: right;\n",
       "    }\n",
       "</style>\n",
       "<table border=\"1\" class=\"dataframe\">\n",
       "  <thead>\n",
       "    <tr style=\"text-align: right;\">\n",
       "      <th></th>\n",
       "      <th>result</th>\n",
       "    </tr>\n",
       "  </thead>\n",
       "  <tbody>\n",
       "    <tr>\n",
       "      <th>0</th>\n",
       "      <td>0</td>\n",
       "    </tr>\n",
       "    <tr>\n",
       "      <th>1</th>\n",
       "      <td>0</td>\n",
       "    </tr>\n",
       "    <tr>\n",
       "      <th>2</th>\n",
       "      <td>0</td>\n",
       "    </tr>\n",
       "    <tr>\n",
       "      <th>3</th>\n",
       "      <td>1</td>\n",
       "    </tr>\n",
       "    <tr>\n",
       "      <th>4</th>\n",
       "      <td>0</td>\n",
       "    </tr>\n",
       "    <tr>\n",
       "      <th>5</th>\n",
       "      <td>0</td>\n",
       "    </tr>\n",
       "    <tr>\n",
       "      <th>6</th>\n",
       "      <td>0</td>\n",
       "    </tr>\n",
       "    <tr>\n",
       "      <th>7</th>\n",
       "      <td>1</td>\n",
       "    </tr>\n",
       "    <tr>\n",
       "      <th>8</th>\n",
       "      <td>1</td>\n",
       "    </tr>\n",
       "    <tr>\n",
       "      <th>9</th>\n",
       "      <td>0</td>\n",
       "    </tr>\n",
       "  </tbody>\n",
       "</table>\n",
       "</div>"
      ],
      "text/plain": [
       "   result\n",
       "0       0\n",
       "1       0\n",
       "2       0\n",
       "3       1\n",
       "4       0\n",
       "5       0\n",
       "6       0\n",
       "7       1\n",
       "8       1\n",
       "9       0"
      ]
     },
     "execution_count": 20,
     "metadata": {},
     "output_type": "execute_result"
    }
   ],
   "source": [
    "y_data_list[0][1].head(10)"
   ]
  },
  {
   "cell_type": "markdown",
   "metadata": {
    "ExecuteTime": {
     "end_time": "2020-09-16T17:06:36.919643Z",
     "start_time": "2020-09-16T17:06:36.912904Z"
    }
   },
   "source": [
    "## Lambda Network Training + Weigh/Bias saving"
   ]
  },
  {
   "cell_type": "code",
   "execution_count": 21,
   "metadata": {
    "execution": {
     "iopub.execute_input": "2022-01-07T19:28:15.177436Z",
     "iopub.status.busy": "2022-01-07T19:28:15.176146Z",
     "iopub.status.idle": "2022-01-07T19:28:15.183560Z",
     "shell.execute_reply": "2022-01-07T19:28:15.182134Z",
     "shell.execute_reply.started": "2022-01-07T19:28:15.177378Z"
    }
   },
   "outputs": [],
   "source": [
    "#%load_ext autoreload"
   ]
  },
  {
   "cell_type": "code",
   "execution_count": 22,
   "metadata": {
    "execution": {
     "iopub.execute_input": "2022-01-07T19:28:15.185920Z",
     "iopub.status.busy": "2022-01-07T19:28:15.185523Z",
     "iopub.status.idle": "2022-01-07T19:28:15.195994Z",
     "shell.execute_reply": "2022-01-07T19:28:15.194876Z",
     "shell.execute_reply.started": "2022-01-07T19:28:15.185872Z"
    }
   },
   "outputs": [],
   "source": [
    "rand_index = np.random.randint(number_of_trained_lambda_nets)\n",
    "\n",
    "#rand_tree = generate_decision_tree_from_array(y_data_list[rand_index][0].values, config)\n",
    "#rand_tree.plot_tree()"
   ]
  },
  {
   "cell_type": "code",
   "execution_count": 23,
   "metadata": {
    "execution": {
     "iopub.execute_input": "2022-01-07T19:28:15.205053Z",
     "iopub.status.busy": "2022-01-07T19:28:15.204681Z",
     "iopub.status.idle": "2022-01-07T19:29:20.105814Z",
     "shell.execute_reply": "2022-01-07T19:29:20.105043Z",
     "shell.execute_reply.started": "2022-01-07T19:28:15.205012Z"
    }
   },
   "outputs": [
    {
     "data": {
      "image/png": "[encoded data removed]",
      "text/plain": [
       "<Figure size 864x576 with 2 Axes>"
      ]
     },
     "metadata": {},
     "output_type": "display_data"
    },
    {
     "name": "stdout",
     "output_type": "stream",
     "text": [
      "binary_accuracy\n",
      "\ttraining         \t (min:    0.497, max:    0.980, cur:    0.980)\n",
      "\tvalidation       \t (min:    0.485, max:    0.979, cur:    0.973)\n",
      "Loss\n",
      "\ttraining         \t (min:    0.055, max:    0.718, cur:    0.055)\n",
      "\tvalidation       \t (min:    0.070, max:    0.689, cur:    0.070)\n"
     ]
    }
   ],
   "source": [
    "#%autoreload 2\n",
    "random_network = train_lambda_net(config=config,\n",
    "                                  lambda_index=rand_index, \n",
    "                                  X_data_with_function=X_data_list[rand_index], \n",
    "                                  y_data_with_function=y_data_list[rand_index], \n",
    "                                  callbacks=[PlotLossesKerasTF()], \n",
    "                                  return_model=True,\n",
    "                                  printing=False)"
   ]
  },
  {
   "cell_type": "code",
   "execution_count": null,
   "metadata": {
    "execution": {
     "iopub.execute_input": "2022-01-07T19:29:20.107269Z",
     "iopub.status.busy": "2022-01-07T19:29:20.107054Z"
    },
    "tags": []
   },
   "outputs": [
    {
     "name": "stderr",
     "output_type": "stream",
     "text": [
      "[Parallel(n_jobs=-3)]: Using backend LokyBackend with 22 concurrent workers.\n",
      "[Parallel(n_jobs=-3)]: Done  84 tasks      | elapsed:  3.0min\n",
      "[Parallel(n_jobs=-3)]: Done 244 tasks      | elapsed:  7.3min\n",
      "[Parallel(n_jobs=-3)]: Done 468 tasks      | elapsed: 13.6min\n",
      "[Parallel(n_jobs=-3)]: Done 756 tasks      | elapsed: 21.7min\n",
      "[Parallel(n_jobs=-3)]: Done 1108 tasks      | elapsed: 31.8min\n",
      "[Parallel(n_jobs=-3)]: Done 1524 tasks      | elapsed: 43.6min\n",
      "[Parallel(n_jobs=-3)]: Done 2004 tasks      | elapsed: 57.0min\n",
      "[Parallel(n_jobs=-3)]: Done 2548 tasks      | elapsed: 72.2min\n",
      "[Parallel(n_jobs=-3)]: Done 3156 tasks      | elapsed: 89.5min\n",
      "[Parallel(n_jobs=-3)]: Done 3828 tasks      | elapsed: 108.6min\n",
      "[Parallel(n_jobs=-3)]: Done 4564 tasks      | elapsed: 129.3min\n"
     ]
    }
   ],
   "source": [
    "#%autoreload 2\n",
    "parallel = Parallel(n_jobs=n_jobs, verbose=3, backend='loky') #loky\n",
    "clf_list = parallel(delayed(train_lambda_net)(config=config,\n",
    "                                              lambda_index=index, \n",
    "                                              X_data_with_function=X_data, \n",
    "                                              y_data_with_function=y_data,\n",
    "                                              return_history=True, \n",
    "                                              printing=True) for index, (X_data, y_data) in enumerate(zip(X_data_list, y_data_list)))  \n",
    "del parallel"
   ]
  },
  {
   "cell_type": "code",
   "execution_count": null,
   "metadata": {},
   "outputs": [],
   "source": [
    "random_network['model'].get_config()"
   ]
  },
  {
   "cell_type": "code",
   "execution_count": null,
   "metadata": {},
   "outputs": [],
   "source": [
    "random_network['model'].summary()"
   ]
  },
  {
   "cell_type": "markdown",
   "metadata": {},
   "source": [
    "## Save and Plot Lambda-Model History"
   ]
  },
  {
   "cell_type": "code",
   "execution_count": null,
   "metadata": {
    "ExecuteTime": {
     "start_time": "2021-01-17T09:44:26.874Z"
    }
   },
   "outputs": [],
   "source": [
    "loss_list_total = []\n",
    "metric_list_total = []\n",
    "\n",
    "val_loss_list_total = []\n",
    "val_metric_list_total = []\n",
    "\n",
    "index_list = []\n",
    "\n",
    "\n",
    "max_training_epochs = 0\n",
    "for _, entry in tqdm(enumerate(clf_list)):\n",
    "    history = entry['history']\n",
    "    \n",
    "    current_training_epochs = len(history[list(history.keys())[0]])\n",
    "    max_training_epochs = max(max_training_epochs, current_training_epochs)\n",
    "\n",
    "\n",
    "for _, entry in tqdm(enumerate(clf_list)):\n",
    "    history = entry['history']\n",
    "    index = entry['index']\n",
    "    \n",
    "    current_training_epochs = len(history[list(history.keys())[0]])\n",
    "    \n",
    "    loss_list = np.full(max_training_epochs, np.nan)\n",
    "    metric_list = np.full(max_training_epochs, np.nan)\n",
    "    val_loss_list = np.full(max_training_epochs, np.nan)\n",
    "    val_metric_list = np.full(max_training_epochs, np.nan) \n",
    "\n",
    "    for i in range(current_training_epochs):  \n",
    "        loss_list[i] = history[list(history.keys())[0]][i]\n",
    "        metric_list[i] = history[list(history.keys())[1]][i]\n",
    "        val_loss_list[i] = history[list(history.keys())[len(history.keys())//2]][i]\n",
    "        val_metric_list[i] = history[list(history.keys())[len(history.keys())//2+1]][i]\n",
    "    \n",
    "    index_list.append([index])\n",
    "    loss_list_total.append(loss_list)\n",
    "    metric_list_total.append(metric_list)\n",
    "    val_loss_list_total.append(val_loss_list)\n",
    "    val_metric_list_total.append(val_metric_list)\n",
    "\n",
    "loss_df = pd.DataFrame(data=np.hstack([index_list, loss_list_total]), columns=flatten_list(['index', [list(history.keys())[0] + '_epoch_' + str(i+1) for i in range(max_training_epochs)]]))\n",
    "#loss_df['index'] = loss_df['index'].astype(int)\n",
    "metric_df = pd.DataFrame(data=np.hstack([index_list, metric_list_total]), columns=flatten_list(['index', [list(history.keys())[1] + '_epoch_' + str(i+1) for i in range(max_training_epochs)]]))\n",
    "#metric_df['index'] = metric_df['index'].astype(int)\n",
    "val_loss_df = pd.DataFrame(data=np.hstack([index_list, val_loss_list_total]), columns=flatten_list(['index', [list(history.keys())[len(history.keys())//2] + '_epoch_' + str(i+1) for i in range(max_training_epochs)]]))\n",
    "#val_loss_df['index'] = val_loss_df['index'].astype(int)\n",
    "val_metric_df = pd.DataFrame(data=np.hstack([index_list, val_metric_list_total]), columns=flatten_list(['index', [list(history.keys())[len(history.keys())//2+1] + '_epoch_' + str(i+1) for i in range(max_training_epochs)]])) \n",
    "#val_metric_df['index'] = val_metric_df['index'].astype(int)\n"
   ]
  },
  {
   "cell_type": "code",
   "execution_count": null,
   "metadata": {
    "ExecuteTime": {
     "start_time": "2021-01-17T09:44:26.875Z"
    }
   },
   "outputs": [],
   "source": [
    "path_loss = './data/weights/weights_' + path_identifier_lambda_net_data + '/history_' + list(history.keys())[0] + '.txt'\n",
    "path_metric = './data/weights/weights_' + path_identifier_lambda_net_data + '/history_' + list(history.keys())[1] + '.txt'\n",
    "path_val_loss = './data/weights/weights_' + path_identifier_lambda_net_data + '/history_' + list(history.keys())[len(history.keys())//2] + '.txt'\n",
    "path_val_metric = './data/weights/weights_' + path_identifier_lambda_net_data + '/history_' + list(history.keys())[len(history.keys())//2+1] + '.txt'\n",
    "\n",
    "loss_df.to_csv(path_loss, index=None, sep=',')\n",
    "metric_df.to_csv(path_metric, index=None, sep=',')\n",
    "val_loss_df.to_csv(path_val_loss, index=None, sep=',')\n",
    "val_metric_df.to_csv(path_val_metric, index=None, sep=',')\n"
   ]
  },
  {
   "cell_type": "code",
   "execution_count": null,
   "metadata": {
    "ExecuteTime": {
     "start_time": "2021-01-17T09:44:26.876Z"
    }
   },
   "outputs": [],
   "source": [
    "loss_df.describe()"
   ]
  },
  {
   "cell_type": "code",
   "execution_count": null,
   "metadata": {
    "ExecuteTime": {
     "start_time": "2021-01-17T09:44:26.877Z"
    }
   },
   "outputs": [],
   "source": [
    "val_loss_df.describe()"
   ]
  },
  {
   "cell_type": "code",
   "execution_count": null,
   "metadata": {
    "ExecuteTime": {
     "start_time": "2021-01-17T09:44:26.879Z"
    }
   },
   "outputs": [],
   "source": [
    "metric_df.describe()"
   ]
  },
  {
   "cell_type": "code",
   "execution_count": null,
   "metadata": {
    "ExecuteTime": {
     "start_time": "2021-01-17T09:44:26.880Z"
    }
   },
   "outputs": [],
   "source": [
    "val_metric_df.describe()"
   ]
  },
  {
   "cell_type": "code",
   "execution_count": null,
   "metadata": {
    "ExecuteTime": {
     "start_time": "2021-01-17T09:44:26.881Z"
    }
   },
   "outputs": [],
   "source": [
    "# summarize history for metric\n",
    "path = './data/results/weights_' + path_identifier_lambda_net_data + '/' + list(history.keys())[1] + '.png'\n",
    "\n",
    "adjustment_threshold_metric = 10#100\n",
    "    \n",
    "metric_df_adjusted = metric_df.copy(deep=True).iloc[:,1:]\n",
    "if adjustment_threshold_metric > 0:\n",
    "    metric_df_adjusted[metric_df_adjusted.columns] = np.where(metric_df_adjusted[metric_df_adjusted.columns] > adjustment_threshold_metric, adjustment_threshold_metric, metric_df_adjusted[metric_df_adjusted.columns])\n",
    "    \n",
    "val_metric_df_adjusted = val_metric_df.copy(deep=True).iloc[:,1:]\n",
    "if adjustment_threshold_metric > 0:\n",
    "    val_metric_df_adjusted[val_metric_df_adjusted.columns] = np.where(val_metric_df_adjusted[val_metric_df_adjusted.columns] > adjustment_threshold_metric, adjustment_threshold_metric, val_metric_df_adjusted[val_metric_df_adjusted.columns])\n",
    "\n",
    "    \n",
    "plt.plot(metric_df_adjusted.describe().loc['mean'].values)\n",
    "plt.plot(val_metric_df_adjusted.describe().loc['mean'].values)\n",
    "plt.title('model ' + list(history.keys())[1])\n",
    "plt.ylabel(list(history.keys())[1])\n",
    "plt.xlabel('epoch')\n",
    "plt.legend(['train', 'valid'], loc='upper left')\n",
    "plt.savefig(path)\n",
    "plt.show()\n"
   ]
  },
  {
   "cell_type": "code",
   "execution_count": null,
   "metadata": {
    "ExecuteTime": {
     "start_time": "2021-01-17T09:44:26.883Z"
    }
   },
   "outputs": [],
   "source": [
    "# summarize history for loss\n",
    "path = './data/results/weights_' + path_identifier_lambda_net_data + '/' + list(history.keys())[0] + '.png'\n",
    "\n",
    "adjustment_threshold_loss = 0#10000\n",
    "    \n",
    "loss_df_adjusted = loss_df.copy(deep=True).iloc[:,1:]\n",
    "\n",
    "if adjustment_threshold_loss > 0:\n",
    "    loss_df_adjusted[loss_df_adjusted.columns] = np.where(loss_df_adjusted[loss_df_adjusted.columns] > adjustment_threshold_loss, adjustment_threshold_loss, loss_df_adjusted[loss_df_adjusted.columns])\n",
    "    \n",
    "val_loss_df_adjusted = val_loss_df.copy(deep=True).iloc[:,1:]\n",
    "if adjustment_threshold_loss > 0:\n",
    "    val_loss_df_adjusted[val_loss_df_adjusted.columns] = np.where(val_loss_df_adjusted[val_loss_df_adjusted.columns] > adjustment_threshold_loss, adjustment_threshold_loss, val_loss_df_adjusted[val_loss_df_adjusted.columns])\n",
    "\n",
    "    \n",
    "plt.plot(loss_df_adjusted.describe().loc['mean'].values)\n",
    "plt.plot(val_loss_df_adjusted.describe().loc['mean'].values)\n",
    "plt.title('model ' + list(history.keys())[0])\n",
    "plt.ylabel(list(history.keys())[0])\n",
    "plt.xlabel('epoch')\n",
    "plt.legend(['train', 'valid'], loc='upper left')\n",
    "plt.savefig(path)\n",
    "plt.show()\n"
   ]
  },
  {
   "cell_type": "code",
   "execution_count": null,
   "metadata": {},
   "outputs": [],
   "source": [
    "print('a')"
   ]
  },
  {
   "cell_type": "code",
   "execution_count": null,
   "metadata": {},
   "outputs": [],
   "source": []
  },
  {
   "cell_type": "code",
   "execution_count": null,
   "metadata": {},
   "outputs": [],
   "source": []
  }
 ],
 "metadata": {
  "kernelspec": {
   "display_name": "Python 3 (ipykernel)",
   "language": "python",
   "name": "python3"
  },
  "language_info": {
   "codemirror_mode": {
    "name": "ipython",
    "version": 3
   },
   "file_extension": ".py",
   "mimetype": "text/x-python",
   "name": "python",
   "nbconvert_exporter": "python",
   "pygments_lexer": "ipython3",
   "version": "3.8.0"
  }
 },
 "nbformat": 4,
 "nbformat_minor": 4
}
