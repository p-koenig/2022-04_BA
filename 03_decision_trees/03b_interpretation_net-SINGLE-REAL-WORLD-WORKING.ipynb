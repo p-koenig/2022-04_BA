{
 "cells": [
  {
   "cell_type": "markdown",
   "metadata": {},
   "source": [
    "# Inerpretation-Net Training"
   ]
  },
  {
   "cell_type": "markdown",
   "metadata": {},
   "source": [
    "## Specitication of Experiment Settings"
   ]
  },
  {
   "cell_type": "code",
   "execution_count": 1,
   "metadata": {
    "execution": {
     "iopub.execute_input": "2021-12-04T10:32:51.550748Z",
     "iopub.status.busy": "2021-12-04T10:32:51.550210Z",
     "iopub.status.idle": "2021-12-04T10:32:51.578872Z",
     "shell.execute_reply": "2021-12-04T10:32:51.577825Z",
     "shell.execute_reply.started": "2021-12-04T10:32:51.550624Z"
    },
    "tags": []
   },
   "outputs": [],
   "source": [
    "#######################################################################################################################################\n",
    "###################################################### CONFIG FILE ####################################################################\n",
    "#######################################################################################################################################\n",
    "sleep_time = 0 #minutes\n",
    "\n",
    "\n",
    "config = {\n",
    "    'function_family': {\n",
    "        'maximum_depth': 3,\n",
    "        'beta': 1,\n",
    "        'decision_sparsity': 1,\n",
    "        'fully_grown': True,    \n",
    "        'dt_type': 'vanilla', #'vanilla', 'SDT'\n",
    "    },\n",
    "    'data': {\n",
    "        #'number_of_variables': 43, \n",
    "        'num_classes': 2,\n",
    "        #'categorical_indices': [],\n",
    "        \n",
    "        'function_generation_type': 'make_classification',# 'make_classification', 'make_classification_trained', 'random_decision_tree', 'random_decision_tree_trained'\n",
    "        'objective': 'classification', # 'regression'\n",
    "        \n",
    "        'x_max': 1,\n",
    "        'x_min': 0,\n",
    "        'x_distrib': 'uniform', #'normal', 'uniform',       \n",
    "                \n",
    "        #'lambda_dataset_size': 5000, #number of samples per function\n",
    "        #'number_of_generated_datasets': 10000,\n",
    "        \n",
    "        'noise_injected_level': 0, \n",
    "        'noise_injected_type': 'flip_percentage', # '' 'normal' 'uniform' 'normal_range' 'uniform_range'\n",
    "    }, \n",
    "    'lambda_net': {\n",
    "        'epochs_lambda': 1000,\n",
    "        'early_stopping_lambda': True, \n",
    "        'early_stopping_min_delta_lambda': 1e-2,\n",
    "        'batch_lambda': 64,\n",
    "        'dropout_lambda': 0,\n",
    "        'lambda_network_layers': [128],\n",
    "        'optimizer_lambda': 'adam',\n",
    "        'loss_lambda': 'binary_crossentropy', #categorical_crossentropy\n",
    "        \n",
    "        #'number_of_lambda_weights': None,\n",
    "        \n",
    "        #'number_initializations_lambda': 1, \n",
    "        \n",
    "        #'number_of_trained_lambda_nets': 100,\n",
    "    },     \n",
    "    \n",
    "    'i_net': {\n",
    "        'dense_layers': [1024, 512],\n",
    "        'convolution_layers': None,\n",
    "        'lstm_layers': None,\n",
    "        'dropout': [0.2, 0],\n",
    "        \n",
    "        'optimizer': 'adam', #adam\n",
    "        'learning_rate': 0.001,\n",
    "        'loss': 'binary_crossentropy', #binary_crossentropy\n",
    "        'metrics': ['mse', 'binary_accuracy'],\n",
    "        \n",
    "        'epochs': 150, \n",
    "        'early_stopping': False,\n",
    "        'batch_size': 256,\n",
    "\n",
    "        #'interpretation_dataset_size': 100,\n",
    "                \n",
    "        #'test_size': 2, #Float for fraction, Int for number 0\n",
    "        \n",
    "        'function_representation_type': 1, # 1=standard representation; 2=sparse representation with classification for variables\n",
    "        'normalize_lambda_nets': False,\n",
    "\n",
    "        'optimize_decision_function': True, #False\n",
    "        'function_value_loss': True, #False\n",
    "        'soft_labels': False,\n",
    "                      \n",
    "        'data_reshape_version': None, #default to 2 options:(None, 0,1 2)\n",
    "        \n",
    "        'nas': False,\n",
    "        'nas_type': 'SEQUENTIAL', #options:(None, 'SEQUENTIAL', 'CNN', 'LSTM', 'CNN-LSTM', 'CNN-LSTM-parallel')      \n",
    "        'nas_trials': 50,\n",
    "    },    \n",
    "    \n",
    "    'evaluation': {               \n",
    "        'random_evaluation_dataset_size': 500, \n",
    "        'per_network_optimization_dataset_size': 5000,\n",
    "\n",
    "        'sklearn_dt_benchmark': False,\n",
    "        'sdt_benchmark': False,\n",
    "    },    \n",
    "    \n",
    "    'computation':{\n",
    "        'load_model': False,\n",
    "        'n_jobs': 10,\n",
    "        'use_gpu': True,\n",
    "        'gpu_numbers': '2',\n",
    "        'RANDOM_SEED': 42,   \n",
    "    }\n",
    "}\n"
   ]
  },
  {
   "cell_type": "markdown",
   "metadata": {},
   "source": [
    "## Imports"
   ]
  },
  {
   "cell_type": "code",
   "execution_count": 2,
   "metadata": {
    "execution": {
     "iopub.execute_input": "2021-12-04T10:32:51.581235Z",
     "iopub.status.busy": "2021-12-04T10:32:51.580370Z",
     "iopub.status.idle": "2021-12-04T10:32:51.587760Z",
     "shell.execute_reply": "2021-12-04T10:32:51.586961Z",
     "shell.execute_reply.started": "2021-12-04T10:32:51.581184Z"
    },
    "tags": []
   },
   "outputs": [],
   "source": [
    "#######################################################################################################################################\n",
    "########################################### IMPORT GLOBAL VARIABLES FROM CONFIG #######################################################\n",
    "#######################################################################################################################################\n",
    "globals().update(config['function_family'])\n",
    "globals().update(config['data'])\n",
    "globals().update(config['lambda_net'])\n",
    "globals().update(config['i_net'])\n",
    "globals().update(config['evaluation'])\n",
    "globals().update(config['computation'])"
   ]
  },
  {
   "cell_type": "code",
   "execution_count": 3,
   "metadata": {
    "ExecuteTime": {
     "end_time": "2021-01-08T11:56:36.233201Z",
     "start_time": "2021-01-08T11:56:36.208062Z"
    },
    "execution": {
     "iopub.execute_input": "2021-12-04T10:32:51.591133Z",
     "iopub.status.busy": "2021-12-04T10:32:51.590628Z",
     "iopub.status.idle": "2021-12-04T10:32:54.760912Z",
     "shell.execute_reply": "2021-12-04T10:32:54.760279Z",
     "shell.execute_reply.started": "2021-12-04T10:32:51.591084Z"
    },
    "tags": []
   },
   "outputs": [],
   "source": [
    "#######################################################################################################################################\n",
    "##################################################### IMPORT LIBRARIES ################################################################\n",
    "#######################################################################################################################################\n",
    "import warnings\n",
    "warnings.filterwarnings('ignore')\n",
    "import os\n",
    "os.environ['TF_CPP_MIN_LOG_LEVEL'] = '3' \n",
    "import logging\n",
    "\n",
    "import tensorflow as tf\n",
    "tf.get_logger().setLevel('ERROR')\n",
    "tf.autograph.set_verbosity(3)\n",
    "\n",
    "\n",
    "from itertools import product       \n",
    "from tqdm.notebook import tqdm\n",
    "import pickle\n",
    "import numpy as np\n",
    "import pandas as pd\n",
    "import scipy as sp\n",
    "import timeit\n",
    "import psutil\n",
    "\n",
    "from functools import reduce\n",
    "from more_itertools import random_product \n",
    "from sklearn.preprocessing import Normalizer\n",
    "\n",
    "import sys\n",
    "import shutil\n",
    "\n",
    "from copy import deepcopy\n",
    "import math\n",
    "import random \n",
    "\n",
    "\n",
    "import time\n",
    "from datetime import datetime\n",
    "from collections.abc import Iterable\n",
    "\n",
    "\n",
    "from joblib import Parallel, delayed\n",
    "\n",
    "from scipy.integrate import quad\n",
    "\n",
    "from sklearn.model_selection import cross_val_score, train_test_split, StratifiedKFold, KFold, ParameterGrid, ParameterSampler\n",
    "from sklearn.metrics import accuracy_score, log_loss, roc_auc_score, f1_score, mean_absolute_error, r2_score, log_loss\n",
    "from sklearn.tree import DecisionTreeClassifier, plot_tree\n",
    "from sklearn.compose import ColumnTransformer\n",
    "from sklearn.preprocessing import OneHotEncoder, MinMaxScaler, LabelEncoder, OrdinalEncoder\n",
    "\n",
    "#import keras\n",
    "from tensorflow.keras import Sequential\n",
    "from tensorflow.keras.layers import Dense, Dropout\n",
    "from tensorflow.keras.utils import plot_model\n",
    "from tensorflow.keras.callbacks import EarlyStopping, ModelCheckpoint, ReduceLROnPlateau\n",
    "\n",
    "\n",
    "import tensorflow.keras.backend as K\n",
    "from livelossplot import PlotLossesKerasTF\n",
    "#from keras_tqdm import TQDMNotebookCallback\n",
    "\n",
    "from matplotlib import pyplot as plt\n",
    "import seaborn as sns\n",
    "\n",
    "from IPython.display import Image\n",
    "from IPython.display import display, Math, Latex, clear_output\n",
    "\n"
   ]
  },
  {
   "cell_type": "code",
   "execution_count": 4,
   "metadata": {
    "execution": {
     "iopub.execute_input": "2021-12-04T10:32:54.762673Z",
     "iopub.status.busy": "2021-12-04T10:32:54.762107Z",
     "iopub.status.idle": "2021-12-04T10:32:54.770429Z",
     "shell.execute_reply": "2021-12-04T10:32:54.769554Z",
     "shell.execute_reply.started": "2021-12-04T10:32:54.762630Z"
    },
    "tags": []
   },
   "outputs": [
    {
     "data": {
      "text/plain": [
       "'2.5.2'"
      ]
     },
     "execution_count": 4,
     "metadata": {},
     "output_type": "execute_result"
    }
   ],
   "source": [
    "tf.__version__"
   ]
  },
  {
   "cell_type": "code",
   "execution_count": 5,
   "metadata": {
    "execution": {
     "iopub.execute_input": "2021-12-04T10:32:54.772213Z",
     "iopub.status.busy": "2021-12-04T10:32:54.771574Z",
     "iopub.status.idle": "2021-12-04T10:32:54.777451Z",
     "shell.execute_reply": "2021-12-04T10:32:54.776687Z",
     "shell.execute_reply.started": "2021-12-04T10:32:54.772173Z"
    },
    "tags": []
   },
   "outputs": [],
   "source": [
    "#######################################################################################################################################\n",
    "########################################### IMPORT GLOBAL VARIABLES FROM CONFIG #######################################################\n",
    "#######################################################################################################################################\n",
    "globals().update(config['function_family'])\n",
    "globals().update(config['data'])\n",
    "globals().update(config['lambda_net'])\n",
    "globals().update(config['evaluation'])\n",
    "globals().update(config['computation'])"
   ]
  },
  {
   "cell_type": "code",
   "execution_count": 6,
   "metadata": {
    "execution": {
     "iopub.execute_input": "2021-12-04T10:32:54.779051Z",
     "iopub.status.busy": "2021-12-04T10:32:54.778652Z",
     "iopub.status.idle": "2021-12-04T10:32:54.787963Z",
     "shell.execute_reply": "2021-12-04T10:32:54.787172Z",
     "shell.execute_reply.started": "2021-12-04T10:32:54.779012Z"
    },
    "tags": []
   },
   "outputs": [],
   "source": [
    "#######################################################################################################################################\n",
    "################################################### VARIABLE ADJUSTMENTS ##############################################################\n",
    "#######################################################################################################################################\n",
    "\n",
    "config['i_net']['data_reshape_version'] = 2 if data_reshape_version == None and (convolution_layers != None or lstm_layers != None or (nas and nas_type != 'SEQUENTIAL')) else data_reshape_version\n",
    "\n",
    "#######################################################################################################################################\n",
    "###################################################### SET VARIABLES + DESIGN #########################################################\n",
    "#######################################################################################################################################\n",
    "\n",
    "#os.environ['TF_CPP_MIN_LOG_LEVEL'] = '2' \n",
    "os.environ['CUDA_VISIBLE_DEVICES'] = gpu_numbers if use_gpu else ''\n",
    "os.environ['TF_FORCE_GPU_ALLOW_GROWTH'] = 'true' if use_gpu else ''\n",
    "\n",
    "#os.environ['XLA_FLAGS'] =  '--xla_gpu_cuda_data_dir=/usr/local/cuda-10.1'\n",
    "\n",
    "#os.environ['XLA_FLAGS'] = '--tf_xla_enable_xla_devices'\n",
    "#os.environ['TF_XLA_FLAGS'] = '--tf_xla_enable_xla_devices'\n",
    "\n",
    "os.environ['XLA_FLAGS'] = '--xla_gpu_cuda_data_dir=/usr/local/cuda-11.4' if use_gpu else ''#-10.1' #--xla_gpu_cuda_data_dir=/usr/local/cuda, \n",
    "os.environ['TF_XLA_FLAGS'] = '--tf_xla_auto_jit=2 ,--tf_xla_enable_xla_devices' if use_gpu else ''#'--tf_xla_auto_jit=2' #, --tf_xla_enable_xla_devices\n",
    "\n",
    "\n",
    "sns.set_style(\"darkgrid\")\n",
    "\n",
    "random.seed(RANDOM_SEED)\n",
    "np.random.seed(RANDOM_SEED)\n",
    "if int(tf.__version__[0]) >= 2:\n",
    "    tf.random.set_seed(RANDOM_SEED)\n",
    "else:\n",
    "    tf.set_random_seed(RANDOM_SEED)\n",
    "    \n",
    "    \n",
    "pd.set_option('display.float_format', lambda x: '%.3f' % x)\n",
    "pd.set_option('display.max_columns', 200)\n",
    "np.set_printoptions(threshold=200)\n",
    "np.set_printoptions(suppress=True)\n",
    "\n"
   ]
  },
  {
   "cell_type": "code",
   "execution_count": 7,
   "metadata": {
    "execution": {
     "iopub.execute_input": "2021-12-04T10:32:54.789514Z",
     "iopub.status.busy": "2021-12-04T10:32:54.789121Z",
     "iopub.status.idle": "2021-12-04T10:32:56.588407Z",
     "shell.execute_reply": "2021-12-04T10:32:56.587743Z",
     "shell.execute_reply.started": "2021-12-04T10:32:54.789474Z"
    },
    "tags": []
   },
   "outputs": [],
   "source": [
    "from utilities.InterpretationNet import *\n",
    "from utilities.LambdaNet import *\n",
    "from utilities.metrics import *\n",
    "from utilities.utility_functions import *\n",
    "from utilities.DecisionTree_BASIC import *\n",
    "\n",
    "#######################################################################################################################################\n",
    "####################################################### CONFIG ADJUSTMENTS ############################################################\n",
    "#######################################################################################################################################\n",
    "\n",
    "#config['lambda_net']['number_of_lambda_weights'] = get_number_of_lambda_net_parameters(lambda_network_layers, number_of_variables, num_classes)\n",
    "#config['function_family']['basic_function_representation_length'] = get_number_of_function_parameters(dt_type, maximum_depth, number_of_variables, num_classes)\n",
    "#config['function_family']['function_representation_length'] = ( \n",
    "#       #((2 ** maximum_depth - 1) * decision_sparsity) * 2 + (2 ** maximum_depth - 1) + (2 ** maximum_depth) * num_classes  if function_representation_type == 1 and dt_type == 'SDT'\n",
    "#       (2 ** maximum_depth - 1) * (number_of_variables + 1) + (2 ** maximum_depth) * number_of_classes if function_representation_type == 1 and dt_type == 'SDT'\n",
    "#  else (2 ** maximum_depth - 1) * decision_sparsity + (2 ** maximum_depth - 1) + ((2 ** maximum_depth - 1)  * decision_sparsity * number_of_variables) + (2 ** maximum_depth) * num_classes if function_representation_type == 2 and dt_type == 'SDT'\n",
    "#  else ((2 ** maximum_depth - 1) * decision_sparsity) * 2 + (2 ** maximum_depth)  if function_representation_type == 1 and dt_type == 'vanilla'\n",
    "#  else (2 ** maximum_depth - 1) * decision_sparsity + ((2 ** maximum_depth - 1)  * decision_sparsity * number_of_variables) + (2 ** maximum_depth) if function_representation_type == 2 and dt_type == 'vanilla'\n",
    "#  else None\n",
    "#                                                            )\n",
    "\n",
    "#######################################################################################################################################\n",
    "################################################## UPDATE VARIABLES ###################################################################\n",
    "#######################################################################################################################################\n",
    "globals().update(config['function_family'])\n",
    "globals().update(config['data'])\n",
    "globals().update(config['lambda_net'])\n",
    "globals().update(config['i_net'])\n",
    "globals().update(config['evaluation'])\n",
    "globals().update(config['computation'])\n",
    "\n",
    "#initialize_LambdaNet_config_from_curent_notebook(config)\n",
    "#initialize_metrics_config_from_curent_notebook(config)\n",
    "#initialize_utility_functions_config_from_curent_notebook(config)\n",
    "#initialize_InterpretationNet_config_from_curent_notebook(config)\n",
    "\n",
    "\n",
    "#######################################################################################################################################\n",
    "###################################################### PATH + FOLDER CREATION #########################################################\n",
    "#######################################################################################################################################\n",
    "#globals().update(generate_paths(config, path_type='interpretation_net'))\n",
    "\n",
    "#create_folders_inet(config)\n",
    "\n",
    "#######################################################################################################################################\n",
    "############################################################ SLEEP TIMER ##############################################################\n",
    "#######################################################################################################################################\n",
    "sleep_minutes(sleep_time)"
   ]
  },
  {
   "cell_type": "code",
   "execution_count": 8,
   "metadata": {
    "execution": {
     "iopub.execute_input": "2021-12-04T10:32:56.589798Z",
     "iopub.status.busy": "2021-12-04T10:32:56.589607Z",
     "iopub.status.idle": "2021-12-04T10:32:56.592828Z",
     "shell.execute_reply": "2021-12-04T10:32:56.592332Z",
     "shell.execute_reply.started": "2021-12-04T10:32:56.589773Z"
    },
    "tags": []
   },
   "outputs": [],
   "source": [
    "#print(path_identifier_interpretation_net)\n",
    "\n",
    "#print(path_identifier_lambda_net_data)\n"
   ]
  },
  {
   "cell_type": "code",
   "execution_count": 9,
   "metadata": {
    "ExecuteTime": {
     "end_time": "2021-01-05T08:33:49.600530Z",
     "start_time": "2021-01-05T08:33:49.583928Z"
    },
    "execution": {
     "iopub.execute_input": "2021-12-04T10:32:56.593760Z",
     "iopub.status.busy": "2021-12-04T10:32:56.593586Z",
     "iopub.status.idle": "2021-12-04T10:32:56.639144Z",
     "shell.execute_reply": "2021-12-04T10:32:56.638572Z",
     "shell.execute_reply.started": "2021-12-04T10:32:56.593737Z"
    },
    "tags": []
   },
   "outputs": [
    {
     "name": "stdout",
     "output_type": "stream",
     "text": [
      "Num GPUs Available:  1\n",
      "Num XLA-GPUs Available:  0\n"
     ]
    }
   ],
   "source": [
    "print(\"Num GPUs Available: \", len(tf.config.experimental.list_physical_devices('GPU')))\n",
    "print(\"Num XLA-GPUs Available: \", len(tf.config.experimental.list_physical_devices('XLA_GPU')))"
   ]
  },
  {
   "cell_type": "markdown",
   "metadata": {},
   "source": [
    "## Interpretation Network Training"
   ]
  },
  {
   "cell_type": "code",
   "execution_count": 10,
   "metadata": {
    "execution": {
     "iopub.execute_input": "2021-12-04T10:32:56.640272Z",
     "iopub.status.busy": "2021-12-04T10:32:56.640096Z",
     "iopub.status.idle": "2021-12-04T10:32:56.643961Z",
     "shell.execute_reply": "2021-12-04T10:32:56.643423Z",
     "shell.execute_reply.started": "2021-12-04T10:32:56.640248Z"
    },
    "tags": []
   },
   "outputs": [],
   "source": [
    "#%load_ext autoreload"
   ]
  },
  {
   "cell_type": "code",
   "execution_count": 11,
   "metadata": {
    "execution": {
     "iopub.execute_input": "2021-12-04T10:32:56.647522Z",
     "iopub.status.busy": "2021-12-04T10:32:56.647245Z",
     "iopub.status.idle": "2021-12-04T10:32:56.672768Z",
     "shell.execute_reply": "2021-12-04T10:32:56.672197Z",
     "shell.execute_reply.started": "2021-12-04T10:32:56.647498Z"
    },
    "tags": []
   },
   "outputs": [],
   "source": [
    "def generate_inet(config):\n",
    "\n",
    "    callback_names = []\n",
    "\n",
    "    ############################## DATA PREPARATION ###############################\n",
    "\n",
    "    random_model = generate_base_model(config)\n",
    "    #random_evaluation_dataset =  np.random.uniform(low=0, high=0.2, size=(config['evaluation']['random_evaluation_dataset_size'], config['data']['number_of_variables']))\n",
    "    np.random.seed(RANDOM_SEED)\n",
    "    random_evaluation_dataset =  np.random.uniform(low=config['data']['x_min'], high=config['data']['x_max'], size=(config['evaluation']['random_evaluation_dataset_size'], config['data']['number_of_variables']))\n",
    "\n",
    "    random_network_parameters = random_model.get_weights()\n",
    "    network_parameters_structure = [network_parameter.shape for network_parameter in random_network_parameters]         \n",
    "\n",
    "    #(X_train, X_train_flat, y_train) = generate_inet_train_data(lambda_net_dataset_train, config)\n",
    "    #(X_valid, X_valid_flat, y_valid) = generate_inet_train_data(lambda_net_dataset_valid, config)\n",
    "    #(X_test, X_test_flat, y_test) = generate_inet_train_data(lambda_net_dataset_test, config)\n",
    "\n",
    "\n",
    "    ############################## OBJECTIVE SPECIFICATION AND LOSS FUNCTION ADJUSTMENTS ###############################             \n",
    "    loss_function = inet_decision_function_fv_loss_wrapper(random_evaluation_dataset, random_model, network_parameters_structure, config)\n",
    "    metrics = [\n",
    "               inet_decision_function_fv_metric_wrapper(random_evaluation_dataset, random_model, network_parameters_structure, config, 'binary_crossentropy'), \n",
    "               #inet_decision_function_fv_metric_wrapper(random_evaluation_dataset, random_model, network_parameters_structure, config, 'mae'), \n",
    "               inet_decision_function_fv_metric_wrapper(random_evaluation_dataset, random_model, network_parameters_structure, config, 'binary_accuracy')\n",
    "    ]\n",
    "\n",
    "    ############################## BUILD MODEL ###############################\n",
    "\n",
    "    inputs = Input(shape=number_of_lambda_weights, name='input')\n",
    "\n",
    "    hidden = tf.keras.layers.Dense(config['i_net']['dense_layers'][0], name='hidden1_' + str(config['i_net']['dense_layers'][0]))(inputs)\n",
    "    hidden = tf.keras.layers.Activation(activation='relu', name='activation1_' + 'relu')(hidden)\n",
    "\n",
    "    if config['i_net']['dropout'][0] > 0:\n",
    "        hidden = tf.keras.layers.Dropout(config['i_net']['dropout'][0], name='dropout1_' + str(config['i_net']['dropout'][0]))(hidden)\n",
    "\n",
    "    for layer_index, neurons in enumerate(config['i_net']['dense_layers'][1:]):\n",
    "        hidden = tf.keras.layers.Dense(neurons, name='hidden' + str(layer_index+2) + '_' + str(neurons))(hidden)\n",
    "        hidden = tf.keras.layers.Activation(activation='relu', name='activation'  + str(layer_index+2) + '_relu')(hidden)\n",
    "\n",
    "        if config['i_net']['dropout'][layer_index+1] > 0:\n",
    "            hidden = tf.keras.layers.Dropout(config['i_net']['dropout'][layer_index+1], name='dropout' + str(layer_index+2) + '_' + str(config['i_net']['dropout'][layer_index+1]))(hidden)\n",
    "\n",
    "\n",
    "    if config['i_net']['function_representation_type'] == 1:\n",
    "        if config['function_family']['dt_type'] == 'SDT':\n",
    "            outputs = tf.keras.layers.Dense(config['function_family']['function_representation_length'], name='output_' + str(config['function_family']['function_representation_length']))(hidden)\n",
    "        elif config['function_family']['dt_type'] == 'vanilla':\n",
    "            internal_node_num_ = 2 ** config['function_family']['maximum_depth'] - 1 \n",
    "            leaf_node_num_ = 2 ** config['function_family']['maximum_depth']                    \n",
    "\n",
    "            outputs_coeff = tf.keras.layers.Dense(internal_node_num_ * config['function_family']['decision_sparsity'], activation='sigmoid', name='outputs_coeff_' + str(internal_node_num_ * config['function_family']['decision_sparsity']))(hidden)        \n",
    "            outputs_index = tf.keras.layers.Dense(internal_node_num_ * config['function_family']['decision_sparsity'], activation='linear', name='outputs_index_' + str(internal_node_num_ * config['function_family']['decision_sparsity']))(hidden)      \n",
    "            outputs_leaf = tf.keras.layers.Dense(leaf_node_num_, activation='sigmoid', name='outputs_leaf_' + str(leaf_node_num_))(hidden) \n",
    "\n",
    "            outputs = concatenate([outputs_coeff, outputs_index, outputs_leaf], name='output_combined')\n",
    "\n",
    "    elif config['i_net']['function_representation_type'] == 2:\n",
    "        if config['function_family']['dt_type'] == 'SDT':\n",
    "\n",
    "            #input_dim = config['data']['number_of_variables']\n",
    "            #output_dim = config['data']['num_classes']\n",
    "            internal_node_num_ = 2 ** config['function_family']['maximum_depth'] - 1 \n",
    "            leaf_node_num_ = 2 ** config['function_family']['maximum_depth']\n",
    "\n",
    "            number_output_coefficients = internal_node_num_ * config['function_family']['decision_sparsity']\n",
    "\n",
    "            outputs_coeff = tf.keras.layers.Dense(number_output_coefficients, name='output_coeff_' + str(number_output_coefficients))(hidden)\n",
    "\n",
    "            outputs_list = [outputs_coeff]\n",
    "\n",
    "            for outputs_index in range(internal_node_num_):\n",
    "                for var_index in range(config['function_family']['decision_sparsity']):\n",
    "                    output_name = 'output_identifier' + str(outputs_index+1) + '_var' + str(var_index+1) + '_' + str(config['function_family']['decision_sparsity'])\n",
    "                    outputs_identifer = tf.keras.layers.Dense(config['data']['number_of_variables'], activation='softmax', name=output_name)(hidden)\n",
    "                    outputs_list.append(outputs_identifer)    \n",
    "\n",
    "            outputs_bias = tf.keras.layers.Dense(internal_node_num_, name='output_bias_' + str(internal_node_num_))(hidden)\n",
    "            outputs_list.append(outputs_bias)     \n",
    "\n",
    "            outputs_leaf_nodes = tf.keras.layers.Dense(leaf_node_num_ * config['data']['num_classes'], name='output_leaf_nodes_' + str(leaf_node_num_ * config['data']['num_classes']))(hidden)\n",
    "            outputs_list.append(outputs_leaf_nodes)     \n",
    "\n",
    "            outputs = concatenate(outputs_list, name='output_combined')\n",
    "\n",
    "\n",
    "        elif config['function_family']['dt_type'] == 'vanilla':\n",
    "            #input_dim = config['data']['number_of_variables']\n",
    "            #output_dim = config['data']['num_classes']\n",
    "            internal_node_num_ = 2 ** config['function_family']['maximum_depth'] - 1 \n",
    "            leaf_node_num_ = 2 ** config['function_family']['maximum_depth']\n",
    "\n",
    "            number_output_coefficients = internal_node_num_ * config['function_family']['decision_sparsity']\n",
    "\n",
    "            outputs_coeff = tf.keras.layers.Dense(number_output_coefficients, activation='sigmoid', name='output_coeff_' + str(number_output_coefficients))(hidden)\n",
    "            outputs_list = [outputs_coeff]\n",
    "            for outputs_index in range(internal_node_num_):\n",
    "                for var_index in range(config['function_family']['decision_sparsity']):\n",
    "                    output_name = 'output_identifier' + str(outputs_index+1) + '_var' + str(var_index+1) + '_' + str(config['function_family']['decision_sparsity'])\n",
    "                    outputs_identifer = tf.keras.layers.Dense(config['data']['number_of_variables'], activation='softmax', name=output_name)(hidden)\n",
    "                    outputs_list.append(outputs_identifer)    \n",
    "\n",
    "            for leaf_node in range(leaf_node_num_):\n",
    "                #outputs_leaf_nodes = tf.keras.layers.Dense(config['data']['num_classes'], activation='softmax', name='output_leaf_node_' + str(leaf_node))(hidden)\n",
    "                outputs_leaf_nodes = tf.keras.layers.Dense(1, activation='sigmoid', name='output_leaf_node_' + str(leaf_node))(hidden)\n",
    "                outputs_list.append(outputs_leaf_nodes)    \n",
    "\n",
    "            outputs = concatenate(outputs_list, name='output_combined')\n",
    "\n",
    "\n",
    "\n",
    "    inet_base_model = Model(inputs=inputs, outputs=outputs)          \n",
    "\n",
    "    optimizer = config['i_net']['optimizer']\n",
    "    if optimizer == \"custom\":\n",
    "        optimizer = tf.keras.optimizers.Adam(learning_rate=0.0001)\n",
    "\n",
    "    inet_base_model.compile(optimizer=optimizer,\n",
    "                  loss=loss_function,\n",
    "                  metrics=metrics\n",
    "                 )\n",
    "\n",
    "    return inet_base_model"
   ]
  },
  {
   "cell_type": "code",
   "execution_count": 12,
   "metadata": {
    "execution": {
     "iopub.execute_input": "2021-12-04T10:32:56.673680Z",
     "iopub.status.busy": "2021-12-04T10:32:56.673509Z",
     "iopub.status.idle": "2021-12-04T10:32:56.678660Z",
     "shell.execute_reply": "2021-12-04T10:32:56.678108Z",
     "shell.execute_reply.started": "2021-12-04T10:32:56.673658Z"
    },
    "tags": []
   },
   "outputs": [],
   "source": [
    "extension_rate = 1\n",
    "initial_parameters = 1024*2\n",
    "\n",
    "mutation_number = 100\n",
    "\n",
    "increase_interval_base = 25"
   ]
  },
  {
   "cell_type": "markdown",
   "metadata": {},
   "source": [
    "# REAL DATA EVALUATION"
   ]
  },
  {
   "cell_type": "markdown",
   "metadata": {},
   "source": [
    "## ADULT DATASET"
   ]
  },
  {
   "cell_type": "code",
   "execution_count": 13,
   "metadata": {
    "execution": {
     "iopub.execute_input": "2021-12-04T10:32:56.679741Z",
     "iopub.status.busy": "2021-12-04T10:32:56.679565Z",
     "iopub.status.idle": "2021-12-04T10:32:58.736379Z",
     "shell.execute_reply": "2021-12-04T10:32:58.735797Z",
     "shell.execute_reply.started": "2021-12-04T10:32:56.679718Z"
    },
    "tags": []
   },
   "outputs": [
    {
     "data": {
      "text/html": [
       "<div>\n",
       "<style scoped>\n",
       "    .dataframe tbody tr th:only-of-type {\n",
       "        vertical-align: middle;\n",
       "    }\n",
       "\n",
       "    .dataframe tbody tr th {\n",
       "        vertical-align: top;\n",
       "    }\n",
       "\n",
       "    .dataframe thead th {\n",
       "        text-align: right;\n",
       "    }\n",
       "</style>\n",
       "<table border=\"1\" class=\"dataframe\">\n",
       "  <thead>\n",
       "    <tr style=\"text-align: right;\">\n",
       "      <th></th>\n",
       "      <th>Age</th>\n",
       "      <th>Workclass</th>\n",
       "      <th>fnlwgt</th>\n",
       "      <th>Education</th>\n",
       "      <th>Education-Num</th>\n",
       "      <th>Marital Status</th>\n",
       "      <th>Occupation</th>\n",
       "      <th>Relationship</th>\n",
       "      <th>Race</th>\n",
       "      <th>Sex</th>\n",
       "      <th>Capital Gain</th>\n",
       "      <th>Capital Loss</th>\n",
       "      <th>Hours per week</th>\n",
       "      <th>Country</th>\n",
       "      <th>capital_gain</th>\n",
       "    </tr>\n",
       "  </thead>\n",
       "  <tbody>\n",
       "    <tr>\n",
       "      <th>0</th>\n",
       "      <td>39</td>\n",
       "      <td>State-gov</td>\n",
       "      <td>77516</td>\n",
       "      <td>Bachelors</td>\n",
       "      <td>13</td>\n",
       "      <td>Never-married</td>\n",
       "      <td>Adm-clerical</td>\n",
       "      <td>Not-in-family</td>\n",
       "      <td>White</td>\n",
       "      <td>Male</td>\n",
       "      <td>2174</td>\n",
       "      <td>0</td>\n",
       "      <td>40</td>\n",
       "      <td>United-States</td>\n",
       "      <td>&lt;=50K</td>\n",
       "    </tr>\n",
       "    <tr>\n",
       "      <th>1</th>\n",
       "      <td>50</td>\n",
       "      <td>Self-emp-not-inc</td>\n",
       "      <td>83311</td>\n",
       "      <td>Bachelors</td>\n",
       "      <td>13</td>\n",
       "      <td>Married-civ-spouse</td>\n",
       "      <td>Exec-managerial</td>\n",
       "      <td>Husband</td>\n",
       "      <td>White</td>\n",
       "      <td>Male</td>\n",
       "      <td>0</td>\n",
       "      <td>0</td>\n",
       "      <td>13</td>\n",
       "      <td>United-States</td>\n",
       "      <td>&lt;=50K</td>\n",
       "    </tr>\n",
       "    <tr>\n",
       "      <th>2</th>\n",
       "      <td>38</td>\n",
       "      <td>Private</td>\n",
       "      <td>215646</td>\n",
       "      <td>HS-grad</td>\n",
       "      <td>9</td>\n",
       "      <td>Divorced</td>\n",
       "      <td>Handlers-cleaners</td>\n",
       "      <td>Not-in-family</td>\n",
       "      <td>White</td>\n",
       "      <td>Male</td>\n",
       "      <td>0</td>\n",
       "      <td>0</td>\n",
       "      <td>40</td>\n",
       "      <td>United-States</td>\n",
       "      <td>&lt;=50K</td>\n",
       "    </tr>\n",
       "    <tr>\n",
       "      <th>3</th>\n",
       "      <td>53</td>\n",
       "      <td>Private</td>\n",
       "      <td>234721</td>\n",
       "      <td>11th</td>\n",
       "      <td>7</td>\n",
       "      <td>Married-civ-spouse</td>\n",
       "      <td>Handlers-cleaners</td>\n",
       "      <td>Husband</td>\n",
       "      <td>Black</td>\n",
       "      <td>Male</td>\n",
       "      <td>0</td>\n",
       "      <td>0</td>\n",
       "      <td>40</td>\n",
       "      <td>United-States</td>\n",
       "      <td>&lt;=50K</td>\n",
       "    </tr>\n",
       "    <tr>\n",
       "      <th>4</th>\n",
       "      <td>28</td>\n",
       "      <td>Private</td>\n",
       "      <td>338409</td>\n",
       "      <td>Bachelors</td>\n",
       "      <td>13</td>\n",
       "      <td>Married-civ-spouse</td>\n",
       "      <td>Prof-specialty</td>\n",
       "      <td>Wife</td>\n",
       "      <td>Black</td>\n",
       "      <td>Female</td>\n",
       "      <td>0</td>\n",
       "      <td>0</td>\n",
       "      <td>40</td>\n",
       "      <td>Cuba</td>\n",
       "      <td>&lt;=50K</td>\n",
       "    </tr>\n",
       "  </tbody>\n",
       "</table>\n",
       "</div>"
      ],
      "text/plain": [
       "   Age          Workclass  fnlwgt   Education  Education-Num  \\\n",
       "0   39          State-gov   77516   Bachelors             13   \n",
       "1   50   Self-emp-not-inc   83311   Bachelors             13   \n",
       "2   38            Private  215646     HS-grad              9   \n",
       "3   53            Private  234721        11th              7   \n",
       "4   28            Private  338409   Bachelors             13   \n",
       "\n",
       "        Marital Status          Occupation    Relationship    Race      Sex  \\\n",
       "0        Never-married        Adm-clerical   Not-in-family   White     Male   \n",
       "1   Married-civ-spouse     Exec-managerial         Husband   White     Male   \n",
       "2             Divorced   Handlers-cleaners   Not-in-family   White     Male   \n",
       "3   Married-civ-spouse   Handlers-cleaners         Husband   Black     Male   \n",
       "4   Married-civ-spouse      Prof-specialty            Wife   Black   Female   \n",
       "\n",
       "   Capital Gain  Capital Loss  Hours per week         Country capital_gain  \n",
       "0          2174             0              40   United-States        <=50K  \n",
       "1             0             0              13   United-States        <=50K  \n",
       "2             0             0              40   United-States        <=50K  \n",
       "3             0             0              40   United-States        <=50K  \n",
       "4             0             0              40            Cuba        <=50K  "
      ]
     },
     "execution_count": 13,
     "metadata": {},
     "output_type": "execute_result"
    }
   ],
   "source": [
    "feature_names = [\n",
    "                 \"Age\", #0\n",
    "                 \"Workclass\",  #1\n",
    "                 \"fnlwgt\",  #2\n",
    "                 \"Education\",  #3\n",
    "                 \"Education-Num\",  #4\n",
    "                 \"Marital Status\", #5\n",
    "                 \"Occupation\",  #6\n",
    "                 \"Relationship\",  #7\n",
    "                 \"Race\",  #8\n",
    "                 \"Sex\",  #9\n",
    "                 \"Capital Gain\",  #10\n",
    "                 \"Capital Loss\", #11\n",
    "                 \"Hours per week\",  #12\n",
    "                 \"Country\", #13\n",
    "                 \"capital_gain\" #14\n",
    "                ] \n",
    "\n",
    "\n",
    "\n",
    "adult_data = pd.read_csv('https://archive.ics.uci.edu/ml/machine-learning-databases/adult/adult.data', names=feature_names, index_col=False)\n",
    "\n",
    "adult_data.head()"
   ]
  },
  {
   "cell_type": "code",
   "execution_count": 14,
   "metadata": {
    "execution": {
     "iopub.execute_input": "2021-12-04T10:32:58.737860Z",
     "iopub.status.busy": "2021-12-04T10:32:58.737550Z",
     "iopub.status.idle": "2021-12-04T10:32:58.770488Z",
     "shell.execute_reply": "2021-12-04T10:32:58.769826Z",
     "shell.execute_reply.started": "2021-12-04T10:32:58.737830Z"
    },
    "tags": []
   },
   "outputs": [
    {
     "data": {
      "text/html": [
       "<div>\n",
       "<style scoped>\n",
       "    .dataframe tbody tr th:only-of-type {\n",
       "        vertical-align: middle;\n",
       "    }\n",
       "\n",
       "    .dataframe tbody tr th {\n",
       "        vertical-align: top;\n",
       "    }\n",
       "\n",
       "    .dataframe thead th {\n",
       "        text-align: right;\n",
       "    }\n",
       "</style>\n",
       "<table border=\"1\" class=\"dataframe\">\n",
       "  <thead>\n",
       "    <tr style=\"text-align: right;\">\n",
       "      <th></th>\n",
       "      <th>Age</th>\n",
       "      <th>fnlwgt</th>\n",
       "      <th>Education-Num</th>\n",
       "      <th>Capital Gain</th>\n",
       "      <th>Capital Loss</th>\n",
       "      <th>Hours per week</th>\n",
       "    </tr>\n",
       "  </thead>\n",
       "  <tbody>\n",
       "    <tr>\n",
       "      <th>count</th>\n",
       "      <td>32561.000</td>\n",
       "      <td>32561.000</td>\n",
       "      <td>32561.000</td>\n",
       "      <td>32561.000</td>\n",
       "      <td>32561.000</td>\n",
       "      <td>32561.000</td>\n",
       "    </tr>\n",
       "    <tr>\n",
       "      <th>mean</th>\n",
       "      <td>38.582</td>\n",
       "      <td>189778.367</td>\n",
       "      <td>10.081</td>\n",
       "      <td>1077.649</td>\n",
       "      <td>87.304</td>\n",
       "      <td>40.437</td>\n",
       "    </tr>\n",
       "    <tr>\n",
       "      <th>std</th>\n",
       "      <td>13.640</td>\n",
       "      <td>105549.978</td>\n",
       "      <td>2.573</td>\n",
       "      <td>7385.292</td>\n",
       "      <td>402.960</td>\n",
       "      <td>12.347</td>\n",
       "    </tr>\n",
       "    <tr>\n",
       "      <th>min</th>\n",
       "      <td>17.000</td>\n",
       "      <td>12285.000</td>\n",
       "      <td>1.000</td>\n",
       "      <td>0.000</td>\n",
       "      <td>0.000</td>\n",
       "      <td>1.000</td>\n",
       "    </tr>\n",
       "    <tr>\n",
       "      <th>25%</th>\n",
       "      <td>28.000</td>\n",
       "      <td>117827.000</td>\n",
       "      <td>9.000</td>\n",
       "      <td>0.000</td>\n",
       "      <td>0.000</td>\n",
       "      <td>40.000</td>\n",
       "    </tr>\n",
       "    <tr>\n",
       "      <th>50%</th>\n",
       "      <td>37.000</td>\n",
       "      <td>178356.000</td>\n",
       "      <td>10.000</td>\n",
       "      <td>0.000</td>\n",
       "      <td>0.000</td>\n",
       "      <td>40.000</td>\n",
       "    </tr>\n",
       "    <tr>\n",
       "      <th>75%</th>\n",
       "      <td>48.000</td>\n",
       "      <td>237051.000</td>\n",
       "      <td>12.000</td>\n",
       "      <td>0.000</td>\n",
       "      <td>0.000</td>\n",
       "      <td>45.000</td>\n",
       "    </tr>\n",
       "    <tr>\n",
       "      <th>max</th>\n",
       "      <td>90.000</td>\n",
       "      <td>1484705.000</td>\n",
       "      <td>16.000</td>\n",
       "      <td>99999.000</td>\n",
       "      <td>4356.000</td>\n",
       "      <td>99.000</td>\n",
       "    </tr>\n",
       "  </tbody>\n",
       "</table>\n",
       "</div>"
      ],
      "text/plain": [
       "            Age      fnlwgt  Education-Num  Capital Gain  Capital Loss  \\\n",
       "count 32561.000   32561.000      32561.000     32561.000     32561.000   \n",
       "mean     38.582  189778.367         10.081      1077.649        87.304   \n",
       "std      13.640  105549.978          2.573      7385.292       402.960   \n",
       "min      17.000   12285.000          1.000         0.000         0.000   \n",
       "25%      28.000  117827.000          9.000         0.000         0.000   \n",
       "50%      37.000  178356.000         10.000         0.000         0.000   \n",
       "75%      48.000  237051.000         12.000         0.000         0.000   \n",
       "max      90.000 1484705.000         16.000     99999.000      4356.000   \n",
       "\n",
       "       Hours per week  \n",
       "count       32561.000  \n",
       "mean           40.437  \n",
       "std            12.347  \n",
       "min             1.000  \n",
       "25%            40.000  \n",
       "50%            40.000  \n",
       "75%            45.000  \n",
       "max            99.000  "
      ]
     },
     "execution_count": 14,
     "metadata": {},
     "output_type": "execute_result"
    }
   ],
   "source": [
    "adult_data.describe()"
   ]
  },
  {
   "cell_type": "code",
   "execution_count": 15,
   "metadata": {
    "execution": {
     "iopub.execute_input": "2021-12-04T10:32:58.771749Z",
     "iopub.status.busy": "2021-12-04T10:32:58.771461Z",
     "iopub.status.idle": "2021-12-04T10:32:58.799291Z",
     "shell.execute_reply": "2021-12-04T10:32:58.798635Z",
     "shell.execute_reply.started": "2021-12-04T10:32:58.771720Z"
    },
    "tags": []
   },
   "outputs": [
    {
     "name": "stdout",
     "output_type": "stream",
     "text": [
      "<class 'pandas.core.frame.DataFrame'>\n",
      "RangeIndex: 32561 entries, 0 to 32560\n",
      "Data columns (total 15 columns):\n",
      " #   Column          Non-Null Count  Dtype \n",
      "---  ------          --------------  ----- \n",
      " 0   Age             32561 non-null  int64 \n",
      " 1   Workclass       32561 non-null  object\n",
      " 2   fnlwgt          32561 non-null  int64 \n",
      " 3   Education       32561 non-null  object\n",
      " 4   Education-Num   32561 non-null  int64 \n",
      " 5   Marital Status  32561 non-null  object\n",
      " 6   Occupation      32561 non-null  object\n",
      " 7   Relationship    32561 non-null  object\n",
      " 8   Race            32561 non-null  object\n",
      " 9   Sex             32561 non-null  object\n",
      " 10  Capital Gain    32561 non-null  int64 \n",
      " 11  Capital Loss    32561 non-null  int64 \n",
      " 12  Hours per week  32561 non-null  int64 \n",
      " 13  Country         32561 non-null  object\n",
      " 14  capital_gain    32561 non-null  object\n",
      "dtypes: int64(6), object(9)\n",
      "memory usage: 3.7+ MB\n"
     ]
    }
   ],
   "source": [
    "adult_data.info()"
   ]
  },
  {
   "cell_type": "code",
   "execution_count": 16,
   "metadata": {
    "execution": {
     "iopub.execute_input": "2021-12-04T10:32:58.800646Z",
     "iopub.status.busy": "2021-12-04T10:32:58.800371Z",
     "iopub.status.idle": "2021-12-04T10:32:58.803644Z",
     "shell.execute_reply": "2021-12-04T10:32:58.802970Z",
     "shell.execute_reply.started": "2021-12-04T10:32:58.800619Z"
    },
    "tags": []
   },
   "outputs": [],
   "source": [
    "#adult_data['Workclass'][adult_data['Workclass'] != ' Private'] = 'Other'\n",
    "#adult_data['Race'][adult_data['Race'] != ' White'] = 'Other'\n",
    "\n",
    "#adult_data.head()"
   ]
  },
  {
   "cell_type": "code",
   "execution_count": 17,
   "metadata": {
    "execution": {
     "iopub.execute_input": "2021-12-04T10:32:58.804818Z",
     "iopub.status.busy": "2021-12-04T10:32:58.804553Z",
     "iopub.status.idle": "2021-12-04T10:32:59.338267Z",
     "shell.execute_reply": "2021-12-04T10:32:59.337717Z",
     "shell.execute_reply.started": "2021-12-04T10:32:58.804792Z"
    },
    "tags": []
   },
   "outputs": [
    {
     "name": "stdout",
     "output_type": "stream",
     "text": [
      "(32561, 43)\n"
     ]
    },
    {
     "data": {
      "text/html": [
       "<div>\n",
       "<style scoped>\n",
       "    .dataframe tbody tr th:only-of-type {\n",
       "        vertical-align: middle;\n",
       "    }\n",
       "\n",
       "    .dataframe tbody tr th {\n",
       "        vertical-align: top;\n",
       "    }\n",
       "\n",
       "    .dataframe thead th {\n",
       "        text-align: right;\n",
       "    }\n",
       "</style>\n",
       "<table border=\"1\" class=\"dataframe\">\n",
       "  <thead>\n",
       "    <tr style=\"text-align: right;\">\n",
       "      <th></th>\n",
       "      <th>cat__x0_ Amer-Indian-Eskimo</th>\n",
       "      <th>cat__x0_ Asian-Pac-Islander</th>\n",
       "      <th>cat__x0_ Black</th>\n",
       "      <th>cat__x0_ Other</th>\n",
       "      <th>cat__x0_ White</th>\n",
       "      <th>cat__x1_ Divorced</th>\n",
       "      <th>cat__x1_ Married-AF-spouse</th>\n",
       "      <th>cat__x1_ Married-civ-spouse</th>\n",
       "      <th>cat__x1_ Married-spouse-absent</th>\n",
       "      <th>cat__x1_ Never-married</th>\n",
       "      <th>cat__x1_ Separated</th>\n",
       "      <th>cat__x1_ Widowed</th>\n",
       "      <th>cat__x2_ 10th</th>\n",
       "      <th>cat__x2_ 11th</th>\n",
       "      <th>cat__x2_ 12th</th>\n",
       "      <th>cat__x2_ 1st-4th</th>\n",
       "      <th>cat__x2_ 5th-6th</th>\n",
       "      <th>cat__x2_ 7th-8th</th>\n",
       "      <th>cat__x2_ 9th</th>\n",
       "      <th>cat__x2_ Assoc-acdm</th>\n",
       "      <th>cat__x2_ Assoc-voc</th>\n",
       "      <th>cat__x2_ Bachelors</th>\n",
       "      <th>cat__x2_ Doctorate</th>\n",
       "      <th>cat__x2_ HS-grad</th>\n",
       "      <th>cat__x2_ Masters</th>\n",
       "      <th>cat__x2_ Preschool</th>\n",
       "      <th>cat__x2_ Prof-school</th>\n",
       "      <th>cat__x2_ Some-college</th>\n",
       "      <th>cat__x3_ ?</th>\n",
       "      <th>cat__x3_ Federal-gov</th>\n",
       "      <th>cat__x3_ Local-gov</th>\n",
       "      <th>cat__x3_ Never-worked</th>\n",
       "      <th>cat__x3_ Private</th>\n",
       "      <th>cat__x3_ Self-emp-inc</th>\n",
       "      <th>cat__x3_ Self-emp-not-inc</th>\n",
       "      <th>cat__x3_ State-gov</th>\n",
       "      <th>cat__x3_ Without-pay</th>\n",
       "      <th>Sex</th>\n",
       "      <th>Age</th>\n",
       "      <th>fnlwgt</th>\n",
       "      <th>Capital Gain</th>\n",
       "      <th>Capital Loss</th>\n",
       "      <th>Hours per week</th>\n",
       "    </tr>\n",
       "  </thead>\n",
       "  <tbody>\n",
       "    <tr>\n",
       "      <th>0</th>\n",
       "      <td>0.000</td>\n",
       "      <td>0.000</td>\n",
       "      <td>0.000</td>\n",
       "      <td>0.000</td>\n",
       "      <td>1.000</td>\n",
       "      <td>0.000</td>\n",
       "      <td>0.000</td>\n",
       "      <td>0.000</td>\n",
       "      <td>0.000</td>\n",
       "      <td>1.000</td>\n",
       "      <td>0.000</td>\n",
       "      <td>0.000</td>\n",
       "      <td>0.000</td>\n",
       "      <td>0.000</td>\n",
       "      <td>0.000</td>\n",
       "      <td>0.000</td>\n",
       "      <td>0.000</td>\n",
       "      <td>0.000</td>\n",
       "      <td>0.000</td>\n",
       "      <td>0.000</td>\n",
       "      <td>0.000</td>\n",
       "      <td>1.000</td>\n",
       "      <td>0.000</td>\n",
       "      <td>0.000</td>\n",
       "      <td>0.000</td>\n",
       "      <td>0.000</td>\n",
       "      <td>0.000</td>\n",
       "      <td>0.000</td>\n",
       "      <td>0.000</td>\n",
       "      <td>0.000</td>\n",
       "      <td>0.000</td>\n",
       "      <td>0.000</td>\n",
       "      <td>0.000</td>\n",
       "      <td>0.000</td>\n",
       "      <td>0.000</td>\n",
       "      <td>1.000</td>\n",
       "      <td>0.000</td>\n",
       "      <td>1.000</td>\n",
       "      <td>39.000</td>\n",
       "      <td>77516.000</td>\n",
       "      <td>2174.000</td>\n",
       "      <td>0.000</td>\n",
       "      <td>40.000</td>\n",
       "    </tr>\n",
       "    <tr>\n",
       "      <th>1</th>\n",
       "      <td>0.000</td>\n",
       "      <td>0.000</td>\n",
       "      <td>0.000</td>\n",
       "      <td>0.000</td>\n",
       "      <td>1.000</td>\n",
       "      <td>0.000</td>\n",
       "      <td>0.000</td>\n",
       "      <td>1.000</td>\n",
       "      <td>0.000</td>\n",
       "      <td>0.000</td>\n",
       "      <td>0.000</td>\n",
       "      <td>0.000</td>\n",
       "      <td>0.000</td>\n",
       "      <td>0.000</td>\n",
       "      <td>0.000</td>\n",
       "      <td>0.000</td>\n",
       "      <td>0.000</td>\n",
       "      <td>0.000</td>\n",
       "      <td>0.000</td>\n",
       "      <td>0.000</td>\n",
       "      <td>0.000</td>\n",
       "      <td>1.000</td>\n",
       "      <td>0.000</td>\n",
       "      <td>0.000</td>\n",
       "      <td>0.000</td>\n",
       "      <td>0.000</td>\n",
       "      <td>0.000</td>\n",
       "      <td>0.000</td>\n",
       "      <td>0.000</td>\n",
       "      <td>0.000</td>\n",
       "      <td>0.000</td>\n",
       "      <td>0.000</td>\n",
       "      <td>0.000</td>\n",
       "      <td>0.000</td>\n",
       "      <td>1.000</td>\n",
       "      <td>0.000</td>\n",
       "      <td>0.000</td>\n",
       "      <td>1.000</td>\n",
       "      <td>50.000</td>\n",
       "      <td>83311.000</td>\n",
       "      <td>0.000</td>\n",
       "      <td>0.000</td>\n",
       "      <td>13.000</td>\n",
       "    </tr>\n",
       "    <tr>\n",
       "      <th>2</th>\n",
       "      <td>0.000</td>\n",
       "      <td>0.000</td>\n",
       "      <td>0.000</td>\n",
       "      <td>0.000</td>\n",
       "      <td>1.000</td>\n",
       "      <td>1.000</td>\n",
       "      <td>0.000</td>\n",
       "      <td>0.000</td>\n",
       "      <td>0.000</td>\n",
       "      <td>0.000</td>\n",
       "      <td>0.000</td>\n",
       "      <td>0.000</td>\n",
       "      <td>0.000</td>\n",
       "      <td>0.000</td>\n",
       "      <td>0.000</td>\n",
       "      <td>0.000</td>\n",
       "      <td>0.000</td>\n",
       "      <td>0.000</td>\n",
       "      <td>0.000</td>\n",
       "      <td>0.000</td>\n",
       "      <td>0.000</td>\n",
       "      <td>0.000</td>\n",
       "      <td>0.000</td>\n",
       "      <td>1.000</td>\n",
       "      <td>0.000</td>\n",
       "      <td>0.000</td>\n",
       "      <td>0.000</td>\n",
       "      <td>0.000</td>\n",
       "      <td>0.000</td>\n",
       "      <td>0.000</td>\n",
       "      <td>0.000</td>\n",
       "      <td>0.000</td>\n",
       "      <td>1.000</td>\n",
       "      <td>0.000</td>\n",
       "      <td>0.000</td>\n",
       "      <td>0.000</td>\n",
       "      <td>0.000</td>\n",
       "      <td>1.000</td>\n",
       "      <td>38.000</td>\n",
       "      <td>215646.000</td>\n",
       "      <td>0.000</td>\n",
       "      <td>0.000</td>\n",
       "      <td>40.000</td>\n",
       "    </tr>\n",
       "    <tr>\n",
       "      <th>3</th>\n",
       "      <td>0.000</td>\n",
       "      <td>0.000</td>\n",
       "      <td>1.000</td>\n",
       "      <td>0.000</td>\n",
       "      <td>0.000</td>\n",
       "      <td>0.000</td>\n",
       "      <td>0.000</td>\n",
       "      <td>1.000</td>\n",
       "      <td>0.000</td>\n",
       "      <td>0.000</td>\n",
       "      <td>0.000</td>\n",
       "      <td>0.000</td>\n",
       "      <td>0.000</td>\n",
       "      <td>1.000</td>\n",
       "      <td>0.000</td>\n",
       "      <td>0.000</td>\n",
       "      <td>0.000</td>\n",
       "      <td>0.000</td>\n",
       "      <td>0.000</td>\n",
       "      <td>0.000</td>\n",
       "      <td>0.000</td>\n",
       "      <td>0.000</td>\n",
       "      <td>0.000</td>\n",
       "      <td>0.000</td>\n",
       "      <td>0.000</td>\n",
       "      <td>0.000</td>\n",
       "      <td>0.000</td>\n",
       "      <td>0.000</td>\n",
       "      <td>0.000</td>\n",
       "      <td>0.000</td>\n",
       "      <td>0.000</td>\n",
       "      <td>0.000</td>\n",
       "      <td>1.000</td>\n",
       "      <td>0.000</td>\n",
       "      <td>0.000</td>\n",
       "      <td>0.000</td>\n",
       "      <td>0.000</td>\n",
       "      <td>1.000</td>\n",
       "      <td>53.000</td>\n",
       "      <td>234721.000</td>\n",
       "      <td>0.000</td>\n",
       "      <td>0.000</td>\n",
       "      <td>40.000</td>\n",
       "    </tr>\n",
       "    <tr>\n",
       "      <th>4</th>\n",
       "      <td>0.000</td>\n",
       "      <td>0.000</td>\n",
       "      <td>1.000</td>\n",
       "      <td>0.000</td>\n",
       "      <td>0.000</td>\n",
       "      <td>0.000</td>\n",
       "      <td>0.000</td>\n",
       "      <td>1.000</td>\n",
       "      <td>0.000</td>\n",
       "      <td>0.000</td>\n",
       "      <td>0.000</td>\n",
       "      <td>0.000</td>\n",
       "      <td>0.000</td>\n",
       "      <td>0.000</td>\n",
       "      <td>0.000</td>\n",
       "      <td>0.000</td>\n",
       "      <td>0.000</td>\n",
       "      <td>0.000</td>\n",
       "      <td>0.000</td>\n",
       "      <td>0.000</td>\n",
       "      <td>0.000</td>\n",
       "      <td>1.000</td>\n",
       "      <td>0.000</td>\n",
       "      <td>0.000</td>\n",
       "      <td>0.000</td>\n",
       "      <td>0.000</td>\n",
       "      <td>0.000</td>\n",
       "      <td>0.000</td>\n",
       "      <td>0.000</td>\n",
       "      <td>0.000</td>\n",
       "      <td>0.000</td>\n",
       "      <td>0.000</td>\n",
       "      <td>1.000</td>\n",
       "      <td>0.000</td>\n",
       "      <td>0.000</td>\n",
       "      <td>0.000</td>\n",
       "      <td>0.000</td>\n",
       "      <td>0.000</td>\n",
       "      <td>28.000</td>\n",
       "      <td>338409.000</td>\n",
       "      <td>0.000</td>\n",
       "      <td>0.000</td>\n",
       "      <td>40.000</td>\n",
       "    </tr>\n",
       "  </tbody>\n",
       "</table>\n",
       "</div>"
      ],
      "text/plain": [
       "   cat__x0_ Amer-Indian-Eskimo  cat__x0_ Asian-Pac-Islander  cat__x0_ Black  \\\n",
       "0                        0.000                        0.000           0.000   \n",
       "1                        0.000                        0.000           0.000   \n",
       "2                        0.000                        0.000           0.000   \n",
       "3                        0.000                        0.000           1.000   \n",
       "4                        0.000                        0.000           1.000   \n",
       "\n",
       "   cat__x0_ Other  cat__x0_ White  cat__x1_ Divorced  \\\n",
       "0           0.000           1.000              0.000   \n",
       "1           0.000           1.000              0.000   \n",
       "2           0.000           1.000              1.000   \n",
       "3           0.000           0.000              0.000   \n",
       "4           0.000           0.000              0.000   \n",
       "\n",
       "   cat__x1_ Married-AF-spouse  cat__x1_ Married-civ-spouse  \\\n",
       "0                       0.000                        0.000   \n",
       "1                       0.000                        1.000   \n",
       "2                       0.000                        0.000   \n",
       "3                       0.000                        1.000   \n",
       "4                       0.000                        1.000   \n",
       "\n",
       "   cat__x1_ Married-spouse-absent  cat__x1_ Never-married  cat__x1_ Separated  \\\n",
       "0                           0.000                   1.000               0.000   \n",
       "1                           0.000                   0.000               0.000   \n",
       "2                           0.000                   0.000               0.000   \n",
       "3                           0.000                   0.000               0.000   \n",
       "4                           0.000                   0.000               0.000   \n",
       "\n",
       "   cat__x1_ Widowed  cat__x2_ 10th  cat__x2_ 11th  cat__x2_ 12th  \\\n",
       "0             0.000          0.000          0.000          0.000   \n",
       "1             0.000          0.000          0.000          0.000   \n",
       "2             0.000          0.000          0.000          0.000   \n",
       "3             0.000          0.000          1.000          0.000   \n",
       "4             0.000          0.000          0.000          0.000   \n",
       "\n",
       "   cat__x2_ 1st-4th  cat__x2_ 5th-6th  cat__x2_ 7th-8th  cat__x2_ 9th  \\\n",
       "0             0.000             0.000             0.000         0.000   \n",
       "1             0.000             0.000             0.000         0.000   \n",
       "2             0.000             0.000             0.000         0.000   \n",
       "3             0.000             0.000             0.000         0.000   \n",
       "4             0.000             0.000             0.000         0.000   \n",
       "\n",
       "   cat__x2_ Assoc-acdm  cat__x2_ Assoc-voc  cat__x2_ Bachelors  \\\n",
       "0                0.000               0.000               1.000   \n",
       "1                0.000               0.000               1.000   \n",
       "2                0.000               0.000               0.000   \n",
       "3                0.000               0.000               0.000   \n",
       "4                0.000               0.000               1.000   \n",
       "\n",
       "   cat__x2_ Doctorate  cat__x2_ HS-grad  cat__x2_ Masters  cat__x2_ Preschool  \\\n",
       "0               0.000             0.000             0.000               0.000   \n",
       "1               0.000             0.000             0.000               0.000   \n",
       "2               0.000             1.000             0.000               0.000   \n",
       "3               0.000             0.000             0.000               0.000   \n",
       "4               0.000             0.000             0.000               0.000   \n",
       "\n",
       "   cat__x2_ Prof-school  cat__x2_ Some-college  cat__x3_ ?  \\\n",
       "0                 0.000                  0.000       0.000   \n",
       "1                 0.000                  0.000       0.000   \n",
       "2                 0.000                  0.000       0.000   \n",
       "3                 0.000                  0.000       0.000   \n",
       "4                 0.000                  0.000       0.000   \n",
       "\n",
       "   cat__x3_ Federal-gov  cat__x3_ Local-gov  cat__x3_ Never-worked  \\\n",
       "0                 0.000               0.000                  0.000   \n",
       "1                 0.000               0.000                  0.000   \n",
       "2                 0.000               0.000                  0.000   \n",
       "3                 0.000               0.000                  0.000   \n",
       "4                 0.000               0.000                  0.000   \n",
       "\n",
       "   cat__x3_ Private  cat__x3_ Self-emp-inc  cat__x3_ Self-emp-not-inc  \\\n",
       "0             0.000                  0.000                      0.000   \n",
       "1             0.000                  0.000                      1.000   \n",
       "2             1.000                  0.000                      0.000   \n",
       "3             1.000                  0.000                      0.000   \n",
       "4             1.000                  0.000                      0.000   \n",
       "\n",
       "   cat__x3_ State-gov  cat__x3_ Without-pay   Sex    Age     fnlwgt  \\\n",
       "0               1.000                 0.000 1.000 39.000  77516.000   \n",
       "1               0.000                 0.000 1.000 50.000  83311.000   \n",
       "2               0.000                 0.000 1.000 38.000 215646.000   \n",
       "3               0.000                 0.000 1.000 53.000 234721.000   \n",
       "4               0.000                 0.000 0.000 28.000 338409.000   \n",
       "\n",
       "   Capital Gain  Capital Loss  Hours per week  \n",
       "0      2174.000         0.000          40.000  \n",
       "1         0.000         0.000          13.000  \n",
       "2         0.000         0.000          40.000  \n",
       "3         0.000         0.000          40.000  \n",
       "4         0.000         0.000          40.000  "
      ]
     },
     "execution_count": 17,
     "metadata": {},
     "output_type": "execute_result"
    }
   ],
   "source": [
    "features_select = [\n",
    "                 \"Sex\",  #9 \n",
    "                 \"Race\",  #8\n",
    "                 \"Workclass\",  #1\n",
    "                 \"Age\", #0\n",
    "                 \"fnlwgt\",  #2\n",
    "                 \"Education\",  #3\n",
    "                 #\"Education-Num\",  #4\n",
    "                 \"Marital Status\", #5\n",
    "                 #\"Occupation\",  #6\n",
    "                 #\"Relationship\",  #7\n",
    "                 \"Capital Gain\",  #10\n",
    "                 \"Capital Loss\", #11\n",
    "                 \"Hours per week\",  #12\n",
    "                 #\"Country\", #13 \n",
    "                 'capital_gain'\n",
    "                  ]\n",
    "\n",
    "adult_data = adult_data[features_select]\n",
    "\n",
    "categorical_features = ['Race', 'Marital Status', 'Education', 'Workclass']#[1, 2, 7]\n",
    "ordinal_features = ['Sex', 'capital_gain']\n",
    "\n",
    "transformer = ColumnTransformer(transformers=[('cat', OneHotEncoder(), categorical_features)], remainder='passthrough', sparse_threshold=0)\n",
    "transformer.fit(adult_data)\n",
    "\n",
    "adult_data = transformer.transform(adult_data)\n",
    "adult_data = pd.DataFrame(adult_data, columns=transformer.get_feature_names())\n",
    "\n",
    "for ordinal_feature in ordinal_features:\n",
    "    adult_data[ordinal_feature] = OrdinalEncoder().fit_transform(adult_data[ordinal_feature].values.reshape(-1, 1)).flatten()\n",
    "\n",
    "adult_data = adult_data.astype(np.float64)\n",
    "\n",
    "    \n",
    "X_data_adult = adult_data.drop(['capital_gain'], axis = 1)\n",
    "\n",
    "y_data_adult = adult_data['capital_gain']\n",
    "#le = LabelEncoder()\n",
    "#le.fit(y_data_adult)\n",
    "#y_data_adult = le.transform(y_data_adult)\n",
    "#class_names = le.classes_\n",
    "print(X_data_adult.shape)\n",
    "\n",
    "X_data_adult.head()\n"
   ]
  },
  {
   "cell_type": "code",
   "execution_count": 18,
   "metadata": {
    "execution": {
     "iopub.execute_input": "2021-12-04T10:32:59.339441Z",
     "iopub.status.busy": "2021-12-04T10:32:59.339169Z",
     "iopub.status.idle": "2021-12-04T10:32:59.345349Z",
     "shell.execute_reply": "2021-12-04T10:32:59.344714Z",
     "shell.execute_reply.started": "2021-12-04T10:32:59.339411Z"
    },
    "tags": []
   },
   "outputs": [
    {
     "data": {
      "text/plain": [
       "0.000    24720\n",
       "1.000     7841\n",
       "Name: capital_gain, dtype: int64"
      ]
     },
     "execution_count": 18,
     "metadata": {},
     "output_type": "execute_result"
    }
   ],
   "source": [
    "adult_data['capital_gain'].value_counts()\n"
   ]
  },
  {
   "cell_type": "code",
   "execution_count": 19,
   "metadata": {
    "execution": {
     "iopub.execute_input": "2021-12-04T10:32:59.346516Z",
     "iopub.status.busy": "2021-12-04T10:32:59.346267Z",
     "iopub.status.idle": "2021-12-04T10:32:59.353194Z",
     "shell.execute_reply": "2021-12-04T10:32:59.352675Z",
     "shell.execute_reply.started": "2021-12-04T10:32:59.346491Z"
    },
    "tags": []
   },
   "outputs": [],
   "source": [
    "number_of_variables = X_data_adult.shape[1]\n",
    "config['data']['number_of_variables'] = number_of_variables\n",
    "\n",
    "number_of_lambda_weights = get_number_of_lambda_net_parameters(lambda_network_layers, number_of_variables, num_classes)\n",
    "config['lambda_net']['number_of_lambda_weights'] = number_of_lambda_weights\n",
    "\n",
    "\n",
    "basic_function_representation_length = get_number_of_function_parameters(dt_type, maximum_depth, number_of_variables, num_classes)\n",
    "config['function_family']['basic_function_representation_length'] = basic_function_representation_length\n",
    "\n",
    "\n",
    "function_representation_length= ( \n",
    "       #((2 ** maximum_depth - 1) * decision_sparsity) * 2 + (2 ** maximum_depth - 1) + (2 ** maximum_depth) * num_classes  if function_representation_type == 1 and dt_type == 'SDT'\n",
    "       (2 ** maximum_depth - 1) * (number_of_variables + 1) + (2 ** maximum_depth) * number_of_classes if function_representation_type == 1 and dt_type == 'SDT'\n",
    "  else (2 ** maximum_depth - 1) * decision_sparsity + (2 ** maximum_depth - 1) + ((2 ** maximum_depth - 1)  * decision_sparsity * number_of_variables) + (2 ** maximum_depth) * num_classes if function_representation_type == 2 and dt_type == 'SDT'\n",
    "  else ((2 ** maximum_depth - 1) * decision_sparsity) * 2 + (2 ** maximum_depth)  if function_representation_type == 1 and dt_type == 'vanilla'\n",
    "  else (2 ** maximum_depth - 1) * decision_sparsity + ((2 ** maximum_depth - 1)  * decision_sparsity * number_of_variables) + (2 ** maximum_depth) if function_representation_type == 2 and dt_type == 'vanilla'\n",
    "  else None\n",
    "                                                            )\n",
    "config['function_family']['function_representation_length'] = function_representation_length"
   ]
  },
  {
   "cell_type": "code",
   "execution_count": 20,
   "metadata": {
    "execution": {
     "iopub.execute_input": "2021-12-04T10:32:59.354534Z",
     "iopub.status.busy": "2021-12-04T10:32:59.354267Z",
     "iopub.status.idle": "2021-12-04T10:32:59.391874Z",
     "shell.execute_reply": "2021-12-04T10:32:59.391014Z",
     "shell.execute_reply.started": "2021-12-04T10:32:59.354509Z"
    },
    "tags": []
   },
   "outputs": [
    {
     "name": "stdout",
     "output_type": "stream",
     "text": [
      "[0, 1, 2, 3, 4, 5, 6, 7, 8, 9, 10, 11, 12, 13, 14, 15, 16, 17, 18, 19, 20, 21, 22, 23, 24, 25, 26, 27, 28, 29, 30, 31, 32, 33, 34, 35, 36, 37]\n"
     ]
    }
   ],
   "source": [
    "categorical_indices = []\n",
    "\n",
    "for i, (column_name, column) in enumerate(X_data_adult.iteritems()):\n",
    "    if len(column.value_counts()) == 2:\n",
    "        categorical_indices.append(i)\n",
    "print(categorical_indices)\n",
    "\n",
    "config['data']['categorical_indices'] = categorical_indices"
   ]
  },
  {
   "cell_type": "code",
   "execution_count": 21,
   "metadata": {
    "execution": {
     "iopub.execute_input": "2021-12-04T10:32:59.393084Z",
     "iopub.status.busy": "2021-12-04T10:32:59.392828Z",
     "iopub.status.idle": "2021-12-04T10:32:59.446325Z",
     "shell.execute_reply": "2021-12-04T10:32:59.445764Z",
     "shell.execute_reply.started": "2021-12-04T10:32:59.393058Z"
    },
    "tags": []
   },
   "outputs": [
    {
     "data": {
      "text/html": [
       "<div>\n",
       "<style scoped>\n",
       "    .dataframe tbody tr th:only-of-type {\n",
       "        vertical-align: middle;\n",
       "    }\n",
       "\n",
       "    .dataframe tbody tr th {\n",
       "        vertical-align: top;\n",
       "    }\n",
       "\n",
       "    .dataframe thead th {\n",
       "        text-align: right;\n",
       "    }\n",
       "</style>\n",
       "<table border=\"1\" class=\"dataframe\">\n",
       "  <thead>\n",
       "    <tr style=\"text-align: right;\">\n",
       "      <th></th>\n",
       "      <th>cat__x0_ Amer-Indian-Eskimo</th>\n",
       "      <th>cat__x0_ Asian-Pac-Islander</th>\n",
       "      <th>cat__x0_ Black</th>\n",
       "      <th>cat__x0_ Other</th>\n",
       "      <th>cat__x0_ White</th>\n",
       "      <th>cat__x1_ Divorced</th>\n",
       "      <th>cat__x1_ Married-AF-spouse</th>\n",
       "      <th>cat__x1_ Married-civ-spouse</th>\n",
       "      <th>cat__x1_ Married-spouse-absent</th>\n",
       "      <th>cat__x1_ Never-married</th>\n",
       "      <th>cat__x1_ Separated</th>\n",
       "      <th>cat__x1_ Widowed</th>\n",
       "      <th>cat__x2_ 10th</th>\n",
       "      <th>cat__x2_ 11th</th>\n",
       "      <th>cat__x2_ 12th</th>\n",
       "      <th>cat__x2_ 1st-4th</th>\n",
       "      <th>cat__x2_ 5th-6th</th>\n",
       "      <th>cat__x2_ 7th-8th</th>\n",
       "      <th>cat__x2_ 9th</th>\n",
       "      <th>cat__x2_ Assoc-acdm</th>\n",
       "      <th>cat__x2_ Assoc-voc</th>\n",
       "      <th>cat__x2_ Bachelors</th>\n",
       "      <th>cat__x2_ Doctorate</th>\n",
       "      <th>cat__x2_ HS-grad</th>\n",
       "      <th>cat__x2_ Masters</th>\n",
       "      <th>cat__x2_ Preschool</th>\n",
       "      <th>cat__x2_ Prof-school</th>\n",
       "      <th>cat__x2_ Some-college</th>\n",
       "      <th>cat__x3_ ?</th>\n",
       "      <th>cat__x3_ Federal-gov</th>\n",
       "      <th>cat__x3_ Local-gov</th>\n",
       "      <th>cat__x3_ Never-worked</th>\n",
       "      <th>cat__x3_ Private</th>\n",
       "      <th>cat__x3_ Self-emp-inc</th>\n",
       "      <th>cat__x3_ Self-emp-not-inc</th>\n",
       "      <th>cat__x3_ State-gov</th>\n",
       "      <th>cat__x3_ Without-pay</th>\n",
       "      <th>Sex</th>\n",
       "      <th>Age</th>\n",
       "      <th>fnlwgt</th>\n",
       "      <th>Capital Gain</th>\n",
       "      <th>Capital Loss</th>\n",
       "      <th>Hours per week</th>\n",
       "    </tr>\n",
       "  </thead>\n",
       "  <tbody>\n",
       "    <tr>\n",
       "      <th>0</th>\n",
       "      <td>0.000</td>\n",
       "      <td>0.000</td>\n",
       "      <td>0.000</td>\n",
       "      <td>0.000</td>\n",
       "      <td>1.000</td>\n",
       "      <td>0.000</td>\n",
       "      <td>0.000</td>\n",
       "      <td>0.000</td>\n",
       "      <td>0.000</td>\n",
       "      <td>1.000</td>\n",
       "      <td>0.000</td>\n",
       "      <td>0.000</td>\n",
       "      <td>0.000</td>\n",
       "      <td>0.000</td>\n",
       "      <td>0.000</td>\n",
       "      <td>0.000</td>\n",
       "      <td>0.000</td>\n",
       "      <td>0.000</td>\n",
       "      <td>0.000</td>\n",
       "      <td>0.000</td>\n",
       "      <td>0.000</td>\n",
       "      <td>1.000</td>\n",
       "      <td>0.000</td>\n",
       "      <td>0.000</td>\n",
       "      <td>0.000</td>\n",
       "      <td>0.000</td>\n",
       "      <td>0.000</td>\n",
       "      <td>0.000</td>\n",
       "      <td>0.000</td>\n",
       "      <td>0.000</td>\n",
       "      <td>0.000</td>\n",
       "      <td>0.000</td>\n",
       "      <td>0.000</td>\n",
       "      <td>0.000</td>\n",
       "      <td>0.000</td>\n",
       "      <td>1.000</td>\n",
       "      <td>0.000</td>\n",
       "      <td>1.000</td>\n",
       "      <td>0.301</td>\n",
       "      <td>0.044</td>\n",
       "      <td>0.022</td>\n",
       "      <td>0.000</td>\n",
       "      <td>0.398</td>\n",
       "    </tr>\n",
       "    <tr>\n",
       "      <th>1</th>\n",
       "      <td>0.000</td>\n",
       "      <td>0.000</td>\n",
       "      <td>0.000</td>\n",
       "      <td>0.000</td>\n",
       "      <td>1.000</td>\n",
       "      <td>0.000</td>\n",
       "      <td>0.000</td>\n",
       "      <td>1.000</td>\n",
       "      <td>0.000</td>\n",
       "      <td>0.000</td>\n",
       "      <td>0.000</td>\n",
       "      <td>0.000</td>\n",
       "      <td>0.000</td>\n",
       "      <td>0.000</td>\n",
       "      <td>0.000</td>\n",
       "      <td>0.000</td>\n",
       "      <td>0.000</td>\n",
       "      <td>0.000</td>\n",
       "      <td>0.000</td>\n",
       "      <td>0.000</td>\n",
       "      <td>0.000</td>\n",
       "      <td>1.000</td>\n",
       "      <td>0.000</td>\n",
       "      <td>0.000</td>\n",
       "      <td>0.000</td>\n",
       "      <td>0.000</td>\n",
       "      <td>0.000</td>\n",
       "      <td>0.000</td>\n",
       "      <td>0.000</td>\n",
       "      <td>0.000</td>\n",
       "      <td>0.000</td>\n",
       "      <td>0.000</td>\n",
       "      <td>0.000</td>\n",
       "      <td>0.000</td>\n",
       "      <td>1.000</td>\n",
       "      <td>0.000</td>\n",
       "      <td>0.000</td>\n",
       "      <td>1.000</td>\n",
       "      <td>0.452</td>\n",
       "      <td>0.048</td>\n",
       "      <td>0.000</td>\n",
       "      <td>0.000</td>\n",
       "      <td>0.122</td>\n",
       "    </tr>\n",
       "    <tr>\n",
       "      <th>2</th>\n",
       "      <td>0.000</td>\n",
       "      <td>0.000</td>\n",
       "      <td>0.000</td>\n",
       "      <td>0.000</td>\n",
       "      <td>1.000</td>\n",
       "      <td>1.000</td>\n",
       "      <td>0.000</td>\n",
       "      <td>0.000</td>\n",
       "      <td>0.000</td>\n",
       "      <td>0.000</td>\n",
       "      <td>0.000</td>\n",
       "      <td>0.000</td>\n",
       "      <td>0.000</td>\n",
       "      <td>0.000</td>\n",
       "      <td>0.000</td>\n",
       "      <td>0.000</td>\n",
       "      <td>0.000</td>\n",
       "      <td>0.000</td>\n",
       "      <td>0.000</td>\n",
       "      <td>0.000</td>\n",
       "      <td>0.000</td>\n",
       "      <td>0.000</td>\n",
       "      <td>0.000</td>\n",
       "      <td>1.000</td>\n",
       "      <td>0.000</td>\n",
       "      <td>0.000</td>\n",
       "      <td>0.000</td>\n",
       "      <td>0.000</td>\n",
       "      <td>0.000</td>\n",
       "      <td>0.000</td>\n",
       "      <td>0.000</td>\n",
       "      <td>0.000</td>\n",
       "      <td>1.000</td>\n",
       "      <td>0.000</td>\n",
       "      <td>0.000</td>\n",
       "      <td>0.000</td>\n",
       "      <td>0.000</td>\n",
       "      <td>1.000</td>\n",
       "      <td>0.288</td>\n",
       "      <td>0.138</td>\n",
       "      <td>0.000</td>\n",
       "      <td>0.000</td>\n",
       "      <td>0.398</td>\n",
       "    </tr>\n",
       "    <tr>\n",
       "      <th>3</th>\n",
       "      <td>0.000</td>\n",
       "      <td>0.000</td>\n",
       "      <td>1.000</td>\n",
       "      <td>0.000</td>\n",
       "      <td>0.000</td>\n",
       "      <td>0.000</td>\n",
       "      <td>0.000</td>\n",
       "      <td>1.000</td>\n",
       "      <td>0.000</td>\n",
       "      <td>0.000</td>\n",
       "      <td>0.000</td>\n",
       "      <td>0.000</td>\n",
       "      <td>0.000</td>\n",
       "      <td>1.000</td>\n",
       "      <td>0.000</td>\n",
       "      <td>0.000</td>\n",
       "      <td>0.000</td>\n",
       "      <td>0.000</td>\n",
       "      <td>0.000</td>\n",
       "      <td>0.000</td>\n",
       "      <td>0.000</td>\n",
       "      <td>0.000</td>\n",
       "      <td>0.000</td>\n",
       "      <td>0.000</td>\n",
       "      <td>0.000</td>\n",
       "      <td>0.000</td>\n",
       "      <td>0.000</td>\n",
       "      <td>0.000</td>\n",
       "      <td>0.000</td>\n",
       "      <td>0.000</td>\n",
       "      <td>0.000</td>\n",
       "      <td>0.000</td>\n",
       "      <td>1.000</td>\n",
       "      <td>0.000</td>\n",
       "      <td>0.000</td>\n",
       "      <td>0.000</td>\n",
       "      <td>0.000</td>\n",
       "      <td>1.000</td>\n",
       "      <td>0.493</td>\n",
       "      <td>0.151</td>\n",
       "      <td>0.000</td>\n",
       "      <td>0.000</td>\n",
       "      <td>0.398</td>\n",
       "    </tr>\n",
       "    <tr>\n",
       "      <th>4</th>\n",
       "      <td>0.000</td>\n",
       "      <td>0.000</td>\n",
       "      <td>1.000</td>\n",
       "      <td>0.000</td>\n",
       "      <td>0.000</td>\n",
       "      <td>0.000</td>\n",
       "      <td>0.000</td>\n",
       "      <td>1.000</td>\n",
       "      <td>0.000</td>\n",
       "      <td>0.000</td>\n",
       "      <td>0.000</td>\n",
       "      <td>0.000</td>\n",
       "      <td>0.000</td>\n",
       "      <td>0.000</td>\n",
       "      <td>0.000</td>\n",
       "      <td>0.000</td>\n",
       "      <td>0.000</td>\n",
       "      <td>0.000</td>\n",
       "      <td>0.000</td>\n",
       "      <td>0.000</td>\n",
       "      <td>0.000</td>\n",
       "      <td>1.000</td>\n",
       "      <td>0.000</td>\n",
       "      <td>0.000</td>\n",
       "      <td>0.000</td>\n",
       "      <td>0.000</td>\n",
       "      <td>0.000</td>\n",
       "      <td>0.000</td>\n",
       "      <td>0.000</td>\n",
       "      <td>0.000</td>\n",
       "      <td>0.000</td>\n",
       "      <td>0.000</td>\n",
       "      <td>1.000</td>\n",
       "      <td>0.000</td>\n",
       "      <td>0.000</td>\n",
       "      <td>0.000</td>\n",
       "      <td>0.000</td>\n",
       "      <td>0.000</td>\n",
       "      <td>0.151</td>\n",
       "      <td>0.221</td>\n",
       "      <td>0.000</td>\n",
       "      <td>0.000</td>\n",
       "      <td>0.398</td>\n",
       "    </tr>\n",
       "  </tbody>\n",
       "</table>\n",
       "</div>"
      ],
      "text/plain": [
       "   cat__x0_ Amer-Indian-Eskimo  cat__x0_ Asian-Pac-Islander  cat__x0_ Black  \\\n",
       "0                        0.000                        0.000           0.000   \n",
       "1                        0.000                        0.000           0.000   \n",
       "2                        0.000                        0.000           0.000   \n",
       "3                        0.000                        0.000           1.000   \n",
       "4                        0.000                        0.000           1.000   \n",
       "\n",
       "   cat__x0_ Other  cat__x0_ White  cat__x1_ Divorced  \\\n",
       "0           0.000           1.000              0.000   \n",
       "1           0.000           1.000              0.000   \n",
       "2           0.000           1.000              1.000   \n",
       "3           0.000           0.000              0.000   \n",
       "4           0.000           0.000              0.000   \n",
       "\n",
       "   cat__x1_ Married-AF-spouse  cat__x1_ Married-civ-spouse  \\\n",
       "0                       0.000                        0.000   \n",
       "1                       0.000                        1.000   \n",
       "2                       0.000                        0.000   \n",
       "3                       0.000                        1.000   \n",
       "4                       0.000                        1.000   \n",
       "\n",
       "   cat__x1_ Married-spouse-absent  cat__x1_ Never-married  cat__x1_ Separated  \\\n",
       "0                           0.000                   1.000               0.000   \n",
       "1                           0.000                   0.000               0.000   \n",
       "2                           0.000                   0.000               0.000   \n",
       "3                           0.000                   0.000               0.000   \n",
       "4                           0.000                   0.000               0.000   \n",
       "\n",
       "   cat__x1_ Widowed  cat__x2_ 10th  cat__x2_ 11th  cat__x2_ 12th  \\\n",
       "0             0.000          0.000          0.000          0.000   \n",
       "1             0.000          0.000          0.000          0.000   \n",
       "2             0.000          0.000          0.000          0.000   \n",
       "3             0.000          0.000          1.000          0.000   \n",
       "4             0.000          0.000          0.000          0.000   \n",
       "\n",
       "   cat__x2_ 1st-4th  cat__x2_ 5th-6th  cat__x2_ 7th-8th  cat__x2_ 9th  \\\n",
       "0             0.000             0.000             0.000         0.000   \n",
       "1             0.000             0.000             0.000         0.000   \n",
       "2             0.000             0.000             0.000         0.000   \n",
       "3             0.000             0.000             0.000         0.000   \n",
       "4             0.000             0.000             0.000         0.000   \n",
       "\n",
       "   cat__x2_ Assoc-acdm  cat__x2_ Assoc-voc  cat__x2_ Bachelors  \\\n",
       "0                0.000               0.000               1.000   \n",
       "1                0.000               0.000               1.000   \n",
       "2                0.000               0.000               0.000   \n",
       "3                0.000               0.000               0.000   \n",
       "4                0.000               0.000               1.000   \n",
       "\n",
       "   cat__x2_ Doctorate  cat__x2_ HS-grad  cat__x2_ Masters  cat__x2_ Preschool  \\\n",
       "0               0.000             0.000             0.000               0.000   \n",
       "1               0.000             0.000             0.000               0.000   \n",
       "2               0.000             1.000             0.000               0.000   \n",
       "3               0.000             0.000             0.000               0.000   \n",
       "4               0.000             0.000             0.000               0.000   \n",
       "\n",
       "   cat__x2_ Prof-school  cat__x2_ Some-college  cat__x3_ ?  \\\n",
       "0                 0.000                  0.000       0.000   \n",
       "1                 0.000                  0.000       0.000   \n",
       "2                 0.000                  0.000       0.000   \n",
       "3                 0.000                  0.000       0.000   \n",
       "4                 0.000                  0.000       0.000   \n",
       "\n",
       "   cat__x3_ Federal-gov  cat__x3_ Local-gov  cat__x3_ Never-worked  \\\n",
       "0                 0.000               0.000                  0.000   \n",
       "1                 0.000               0.000                  0.000   \n",
       "2                 0.000               0.000                  0.000   \n",
       "3                 0.000               0.000                  0.000   \n",
       "4                 0.000               0.000                  0.000   \n",
       "\n",
       "   cat__x3_ Private  cat__x3_ Self-emp-inc  cat__x3_ Self-emp-not-inc  \\\n",
       "0             0.000                  0.000                      0.000   \n",
       "1             0.000                  0.000                      1.000   \n",
       "2             1.000                  0.000                      0.000   \n",
       "3             1.000                  0.000                      0.000   \n",
       "4             1.000                  0.000                      0.000   \n",
       "\n",
       "   cat__x3_ State-gov  cat__x3_ Without-pay   Sex   Age  fnlwgt  Capital Gain  \\\n",
       "0               1.000                 0.000 1.000 0.301   0.044         0.022   \n",
       "1               0.000                 0.000 1.000 0.452   0.048         0.000   \n",
       "2               0.000                 0.000 1.000 0.288   0.138         0.000   \n",
       "3               0.000                 0.000 1.000 0.493   0.151         0.000   \n",
       "4               0.000                 0.000 0.000 0.151   0.221         0.000   \n",
       "\n",
       "   Capital Loss  Hours per week  \n",
       "0         0.000           0.398  \n",
       "1         0.000           0.122  \n",
       "2         0.000           0.398  \n",
       "3         0.000           0.398  \n",
       "4         0.000           0.398  "
      ]
     },
     "execution_count": 21,
     "metadata": {},
     "output_type": "execute_result"
    }
   ],
   "source": [
    "normalizer_list = []\n",
    "for column_name in X_data_adult:\n",
    "    scaler = MinMaxScaler()\n",
    "    scaler.fit(X_data_adult[column_name].values.reshape(-1, 1))\n",
    "    X_data_adult[column_name] = scaler.transform(X_data_adult[column_name].values.reshape(-1, 1)).ravel()\n",
    "    normalizer_list.append(scaler)\n",
    "X_data_adult.head()"
   ]
  },
  {
   "cell_type": "code",
   "execution_count": 22,
   "metadata": {
    "execution": {
     "iopub.execute_input": "2021-12-04T10:32:59.447710Z",
     "iopub.status.busy": "2021-12-04T10:32:59.447432Z",
     "iopub.status.idle": "2021-12-04T10:32:59.453024Z",
     "shell.execute_reply": "2021-12-04T10:32:59.452480Z",
     "shell.execute_reply.started": "2021-12-04T10:32:59.447684Z"
    },
    "tags": []
   },
   "outputs": [
    {
     "data": {
      "text/plain": [
       "0       0.000\n",
       "1       0.000\n",
       "2       0.000\n",
       "3       0.000\n",
       "4       0.000\n",
       "         ... \n",
       "32556   0.000\n",
       "32557   1.000\n",
       "32558   0.000\n",
       "32559   0.000\n",
       "32560   1.000\n",
       "Name: capital_gain, Length: 32561, dtype: float64"
      ]
     },
     "execution_count": 22,
     "metadata": {},
     "output_type": "execute_result"
    }
   ],
   "source": [
    "y_data_adult"
   ]
  },
  {
   "cell_type": "code",
   "execution_count": 23,
   "metadata": {
    "execution": {
     "iopub.execute_input": "2021-12-04T10:32:59.454104Z",
     "iopub.status.busy": "2021-12-04T10:32:59.453923Z",
     "iopub.status.idle": "2021-12-04T10:32:59.459752Z",
     "shell.execute_reply": "2021-12-04T10:32:59.459079Z",
     "shell.execute_reply.started": "2021-12-04T10:32:59.454073Z"
    },
    "tags": []
   },
   "outputs": [
    {
     "name": "stdout",
     "output_type": "stream",
     "text": [
      "True Ratio:  0.2408095574460244\n"
     ]
    }
   ],
   "source": [
    "true_labels = len(y_data_adult[y_data_adult >= 0.5 ]) \n",
    "false_labels = len(y_data_adult[y_data_adult < 0.5 ]) \n",
    "\n",
    "true_ratio = true_labels/(true_labels+false_labels)\n",
    "\n",
    "print('True Ratio: ', str(true_ratio))"
   ]
  },
  {
   "cell_type": "code",
   "execution_count": 24,
   "metadata": {
    "execution": {
     "iopub.execute_input": "2021-12-04T10:32:59.461036Z",
     "iopub.status.busy": "2021-12-04T10:32:59.460736Z",
     "iopub.status.idle": "2021-12-04T10:32:59.564638Z",
     "shell.execute_reply": "2021-12-04T10:32:59.564068Z",
     "shell.execute_reply.started": "2021-12-04T10:32:59.461010Z"
    },
    "tags": []
   },
   "outputs": [
    {
     "name": "stdout",
     "output_type": "stream",
     "text": [
      "True Ratio:  0.5\n"
     ]
    }
   ],
   "source": [
    "if true_ratio <= 0.4 or true_ratio >= 0.6:\n",
    "    from imblearn.over_sampling import RandomOverSampler \n",
    "\n",
    "    oversample = RandomOverSampler(sampling_strategy='minority')\n",
    "\n",
    "    X_data_adult, y_data_adult = oversample.fit_resample(X_data_adult, y_data_adult)\n",
    "\n",
    "    true_labels = len(y_data_adult[y_data_adult >= 0.5 ]) \n",
    "    false_labels = len(y_data_adult[y_data_adult < 0.5 ]) \n",
    "\n",
    "    print('True Ratio: ', str(true_labels/(true_labels+false_labels)))"
   ]
  },
  {
   "cell_type": "code",
   "execution_count": 25,
   "metadata": {
    "execution": {
     "iopub.execute_input": "2021-12-04T10:32:59.566010Z",
     "iopub.status.busy": "2021-12-04T10:32:59.565748Z",
     "iopub.status.idle": "2021-12-04T10:32:59.612874Z",
     "shell.execute_reply": "2021-12-04T10:32:59.612337Z",
     "shell.execute_reply.started": "2021-12-04T10:32:59.565984Z"
    },
    "tags": []
   },
   "outputs": [
    {
     "name": "stdout",
     "output_type": "stream",
     "text": [
      "(31641, 43) (31641,)\n",
      "(7911, 43) (7911,)\n",
      "(9888, 43) (9888,)\n"
     ]
    }
   ],
   "source": [
    "X_train_adult_with_valid, X_test_adult, y_train_adult_with_valid, y_test_adult = train_test_split(X_data_adult, y_data_adult, train_size=0.8)\n",
    "X_train_adult, X_valid_adult, y_train_adult, y_valid_adult = train_test_split(X_train_adult_with_valid, y_train_adult_with_valid, train_size=0.8)\n",
    "\n",
    "print(X_train_adult.shape, y_train_adult.shape)\n",
    "print(X_valid_adult.shape, y_valid_adult.shape)\n",
    "print(X_test_adult.shape, y_test_adult.shape)"
   ]
  },
  {
   "cell_type": "code",
   "execution_count": 26,
   "metadata": {
    "execution": {
     "iopub.execute_input": "2021-12-04T10:32:59.614099Z",
     "iopub.status.busy": "2021-12-04T10:32:59.613908Z",
     "iopub.status.idle": "2021-12-04T10:38:30.245614Z",
     "shell.execute_reply": "2021-12-04T10:38:30.244893Z",
     "shell.execute_reply.started": "2021-12-04T10:32:59.614065Z"
    },
    "tags": []
   },
   "outputs": [
    {
     "data": {
      "image/png": "[encoded data removed]",
      "text/plain": [
       "<Figure size 864x576 with 2 Axes>"
      ]
     },
     "metadata": {},
     "output_type": "display_data"
    },
    {
     "name": "stdout",
     "output_type": "stream",
     "text": [
      "binary_accuracy\n",
      "\ttraining         \t (min:    0.785, max:    0.858, cur:    0.856)\n",
      "\tvalidation       \t (min:    0.802, max:    0.840, cur:    0.839)\n",
      "Loss\n",
      "\ttraining         \t (min:    0.313, max:    0.461, cur:    0.313)\n",
      "\tvalidation       \t (min:    0.352, max:    0.419, cur:    0.358)\n"
     ]
    }
   ],
   "source": [
    "test_network = generate_lambda_net_from_config(config)\n",
    "\n",
    "early_stopping = tf.keras.callbacks.EarlyStopping(monitor='val_loss', \n",
    "                                                  patience=50, \n",
    "                                                  min_delta=0.001, \n",
    "                                                  verbose=0, \n",
    "                                                  mode='min', \n",
    "                                                  restore_best_weights=True)\n",
    "\n",
    "\n",
    "\n",
    "model_history = test_network.fit(X_train_adult,\n",
    "                                  y_train_adult, \n",
    "                                  epochs=config['lambda_net']['epochs_lambda'], \n",
    "                                  batch_size=config['lambda_net']['batch_lambda'], \n",
    "                                  callbacks=[early_stopping, PlotLossesKerasTF()],\n",
    "                                  validation_data=(X_valid_adult, y_valid_adult),\n",
    "                                  verbose=0)\n",
    "\n"
   ]
  },
  {
   "cell_type": "code",
   "execution_count": 27,
   "metadata": {
    "execution": {
     "iopub.execute_input": "2021-12-04T10:38:30.247169Z",
     "iopub.status.busy": "2021-12-04T10:38:30.246860Z",
     "iopub.status.idle": "2021-12-04T10:38:30.253021Z",
     "shell.execute_reply": "2021-12-04T10:38:30.252409Z",
     "shell.execute_reply.started": "2021-12-04T10:38:30.247139Z"
    },
    "tags": []
   },
   "outputs": [
    {
     "name": "stdout",
     "output_type": "stream",
     "text": [
      "Model: \"sequential\"\n",
      "_________________________________________________________________\n",
      "Layer (type)                 Output Shape              Param #   \n",
      "=================================================================\n",
      "dense (Dense)                (None, 128)               5632      \n",
      "_________________________________________________________________\n",
      "dense_1 (Dense)              (None, 1)                 129       \n",
      "=================================================================\n",
      "Total params: 5,761\n",
      "Trainable params: 5,761\n",
      "Non-trainable params: 0\n",
      "_________________________________________________________________\n"
     ]
    }
   ],
   "source": [
    "test_network.summary()"
   ]
  },
  {
   "cell_type": "code",
   "execution_count": 28,
   "metadata": {
    "execution": {
     "iopub.execute_input": "2021-12-04T10:38:30.254259Z",
     "iopub.status.busy": "2021-12-04T10:38:30.253950Z",
     "iopub.status.idle": "2021-12-04T11:30:53.991195Z",
     "shell.execute_reply": "2021-12-04T11:30:53.990558Z",
     "shell.execute_reply.started": "2021-12-04T10:38:30.254235Z"
    },
    "tags": []
   },
   "outputs": [
    {
     "name": "stdout",
     "output_type": "stream",
     "text": [
      "Epoch 000/150\n",
      "8/8 [==============================] - 22s 1s/step - loss: 2.4090 - binary_crossentropy_inet_decision_function_fv_metric: 2.4090 - binary_accuracy_inet_decision_function_fv_metric: 0.7152 - val_loss: 1.9068 - val_binary_crossentropy_inet_decision_function_fv_metric: 1.9068 - val_binary_accuracy_inet_decision_function_fv_metric: 0.4060\n",
      "Epoch 001/150\n",
      "8/8 [==============================] - 5s 660ms/step - loss: 1.9800 - binary_crossentropy_inet_decision_function_fv_metric: 1.9800 - binary_accuracy_inet_decision_function_fv_metric: 0.7427 - val_loss: 0.4716 - val_binary_crossentropy_inet_decision_function_fv_metric: 0.4716 - val_binary_accuracy_inet_decision_function_fv_metric: 0.8540\n",
      "Epoch 002/150\n",
      "8/8 [==============================] - 5s 629ms/step - loss: 0.6591 - binary_crossentropy_inet_decision_function_fv_metric: 0.6591 - binary_accuracy_inet_decision_function_fv_metric: 0.7413 - val_loss: 0.5658 - val_binary_crossentropy_inet_decision_function_fv_metric: 0.5658 - val_binary_accuracy_inet_decision_function_fv_metric: 0.8540\n",
      "Epoch 003/150\n",
      "8/8 [==============================] - 5s 631ms/step - loss: 0.4587 - binary_crossentropy_inet_decision_function_fv_metric: 0.4587 - binary_accuracy_inet_decision_function_fv_metric: 0.7963 - val_loss: 0.4292 - val_binary_crossentropy_inet_decision_function_fv_metric: 0.4292 - val_binary_accuracy_inet_decision_function_fv_metric: 0.8540\n",
      "Epoch 004/150\n",
      "8/8 [==============================] - 6s 722ms/step - loss: 0.3810 - binary_crossentropy_inet_decision_function_fv_metric: 0.3810 - binary_accuracy_inet_decision_function_fv_metric: 0.8350 - val_loss: 0.4285 - val_binary_crossentropy_inet_decision_function_fv_metric: 0.4285 - val_binary_accuracy_inet_decision_function_fv_metric: 0.8540\n",
      "Epoch 005/150\n",
      "8/8 [==============================] - 7s 809ms/step - loss: 0.3392 - binary_crossentropy_inet_decision_function_fv_metric: 0.3392 - binary_accuracy_inet_decision_function_fv_metric: 0.8546 - val_loss: 0.4389 - val_binary_crossentropy_inet_decision_function_fv_metric: 0.4389 - val_binary_accuracy_inet_decision_function_fv_metric: 0.8540\n",
      "Epoch 006/150\n",
      "8/8 [==============================] - 6s 743ms/step - loss: 0.3001 - binary_crossentropy_inet_decision_function_fv_metric: 0.3001 - binary_accuracy_inet_decision_function_fv_metric: 0.8706 - val_loss: 0.4724 - val_binary_crossentropy_inet_decision_function_fv_metric: 0.4724 - val_binary_accuracy_inet_decision_function_fv_metric: 0.8540\n",
      "Epoch 007/150\n",
      "8/8 [==============================] - 7s 890ms/step - loss: 0.2831 - binary_crossentropy_inet_decision_function_fv_metric: 0.2831 - binary_accuracy_inet_decision_function_fv_metric: 0.8766 - val_loss: 0.4235 - val_binary_crossentropy_inet_decision_function_fv_metric: 0.4235 - val_binary_accuracy_inet_decision_function_fv_metric: 0.8540\n",
      "Epoch 008/150\n",
      "8/8 [==============================] - 7s 929ms/step - loss: 0.2683 - binary_crossentropy_inet_decision_function_fv_metric: 0.2683 - binary_accuracy_inet_decision_function_fv_metric: 0.8832 - val_loss: 0.4655 - val_binary_crossentropy_inet_decision_function_fv_metric: 0.4655 - val_binary_accuracy_inet_decision_function_fv_metric: 0.8540\n",
      "Epoch 009/150\n",
      "8/8 [==============================] - 7s 871ms/step - loss: 0.2623 - binary_crossentropy_inet_decision_function_fv_metric: 0.2623 - binary_accuracy_inet_decision_function_fv_metric: 0.8840 - val_loss: 0.4345 - val_binary_crossentropy_inet_decision_function_fv_metric: 0.4345 - val_binary_accuracy_inet_decision_function_fv_metric: 0.8540\n",
      "Epoch 010/150\n",
      "8/8 [==============================] - 8s 947ms/step - loss: 0.2594 - binary_crossentropy_inet_decision_function_fv_metric: 0.2594 - binary_accuracy_inet_decision_function_fv_metric: 0.8858 - val_loss: 0.4608 - val_binary_crossentropy_inet_decision_function_fv_metric: 0.4608 - val_binary_accuracy_inet_decision_function_fv_metric: 0.8540\n",
      "Epoch 011/150\n",
      "8/8 [==============================] - 7s 891ms/step - loss: 0.2573 - binary_crossentropy_inet_decision_function_fv_metric: 0.2573 - binary_accuracy_inet_decision_function_fv_metric: 0.8852 - val_loss: 0.4419 - val_binary_crossentropy_inet_decision_function_fv_metric: 0.4419 - val_binary_accuracy_inet_decision_function_fv_metric: 0.8540\n",
      "Epoch 012/150\n",
      "8/8 [==============================] - 8s 945ms/step - loss: 0.2557 - binary_crossentropy_inet_decision_function_fv_metric: 0.2557 - binary_accuracy_inet_decision_function_fv_metric: 0.8853 - val_loss: 0.4506 - val_binary_crossentropy_inet_decision_function_fv_metric: 0.4506 - val_binary_accuracy_inet_decision_function_fv_metric: 0.8540\n",
      "Epoch 013/150\n",
      "8/8 [==============================] - 7s 925ms/step - loss: 0.2555 - binary_crossentropy_inet_decision_function_fv_metric: 0.2555 - binary_accuracy_inet_decision_function_fv_metric: 0.8862 - val_loss: 0.4480 - val_binary_crossentropy_inet_decision_function_fv_metric: 0.4480 - val_binary_accuracy_inet_decision_function_fv_metric: 0.8540\n",
      "Epoch 014/150\n",
      "8/8 [==============================] - 7s 899ms/step - loss: 0.2543 - binary_crossentropy_inet_decision_function_fv_metric: 0.2543 - binary_accuracy_inet_decision_function_fv_metric: 0.8858 - val_loss: 0.4485 - val_binary_crossentropy_inet_decision_function_fv_metric: 0.4485 - val_binary_accuracy_inet_decision_function_fv_metric: 0.8540\n",
      "Epoch 015/150\n",
      "8/8 [==============================] - 7s 899ms/step - loss: 0.2540 - binary_crossentropy_inet_decision_function_fv_metric: 0.2540 - binary_accuracy_inet_decision_function_fv_metric: 0.8862 - val_loss: 0.4598 - val_binary_crossentropy_inet_decision_function_fv_metric: 0.4598 - val_binary_accuracy_inet_decision_function_fv_metric: 0.8540\n",
      "Epoch 016/150\n",
      "8/8 [==============================] - 7s 948ms/step - loss: 0.2534 - binary_crossentropy_inet_decision_function_fv_metric: 0.2534 - binary_accuracy_inet_decision_function_fv_metric: 0.8859 - val_loss: 0.4576 - val_binary_crossentropy_inet_decision_function_fv_metric: 0.4576 - val_binary_accuracy_inet_decision_function_fv_metric: 0.8540\n",
      "Epoch 017/150\n",
      "8/8 [==============================] - 7s 912ms/step - loss: 0.2530 - binary_crossentropy_inet_decision_function_fv_metric: 0.2530 - binary_accuracy_inet_decision_function_fv_metric: 0.8867 - val_loss: 0.4632 - val_binary_crossentropy_inet_decision_function_fv_metric: 0.4632 - val_binary_accuracy_inet_decision_function_fv_metric: 0.8540\n",
      "Epoch 018/150\n",
      "8/8 [==============================] - 7s 934ms/step - loss: 0.2523 - binary_crossentropy_inet_decision_function_fv_metric: 0.2523 - binary_accuracy_inet_decision_function_fv_metric: 0.8861 - val_loss: 0.4596 - val_binary_crossentropy_inet_decision_function_fv_metric: 0.4596 - val_binary_accuracy_inet_decision_function_fv_metric: 0.8540\n",
      "Epoch 019/150\n",
      "8/8 [==============================] - 7s 926ms/step - loss: 0.2522 - binary_crossentropy_inet_decision_function_fv_metric: 0.2522 - binary_accuracy_inet_decision_function_fv_metric: 0.8865 - val_loss: 0.4650 - val_binary_crossentropy_inet_decision_function_fv_metric: 0.4650 - val_binary_accuracy_inet_decision_function_fv_metric: 0.8540\n",
      "Epoch 020/150\n",
      "8/8 [==============================] - 8s 939ms/step - loss: 0.2518 - binary_crossentropy_inet_decision_function_fv_metric: 0.2518 - binary_accuracy_inet_decision_function_fv_metric: 0.8871 - val_loss: 0.4675 - val_binary_crossentropy_inet_decision_function_fv_metric: 0.4675 - val_binary_accuracy_inet_decision_function_fv_metric: 0.8540\n",
      "Epoch 021/150\n",
      "8/8 [==============================] - 8s 956ms/step - loss: 0.2513 - binary_crossentropy_inet_decision_function_fv_metric: 0.2513 - binary_accuracy_inet_decision_function_fv_metric: 0.8869 - val_loss: 0.4714 - val_binary_crossentropy_inet_decision_function_fv_metric: 0.4714 - val_binary_accuracy_inet_decision_function_fv_metric: 0.8540\n",
      "Epoch 022/150\n",
      "8/8 [==============================] - 8s 965ms/step - loss: 0.2516 - binary_crossentropy_inet_decision_function_fv_metric: 0.2516 - binary_accuracy_inet_decision_function_fv_metric: 0.8867 - val_loss: 0.4702 - val_binary_crossentropy_inet_decision_function_fv_metric: 0.4702 - val_binary_accuracy_inet_decision_function_fv_metric: 0.8540\n",
      "Epoch 023/150\n",
      "8/8 [==============================] - 7s 933ms/step - loss: 0.2511 - binary_crossentropy_inet_decision_function_fv_metric: 0.2511 - binary_accuracy_inet_decision_function_fv_metric: 0.8872 - val_loss: 0.4703 - val_binary_crossentropy_inet_decision_function_fv_metric: 0.4703 - val_binary_accuracy_inet_decision_function_fv_metric: 0.8540\n",
      "Epoch 024/150\n",
      "8/8 [==============================] - 7s 901ms/step - loss: 0.2507 - binary_crossentropy_inet_decision_function_fv_metric: 0.2507 - binary_accuracy_inet_decision_function_fv_metric: 0.8869 - val_loss: 0.4760 - val_binary_crossentropy_inet_decision_function_fv_metric: 0.4760 - val_binary_accuracy_inet_decision_function_fv_metric: 0.8540\n",
      "Epoch 025/150\n",
      "16/16 [==============================] - 15s 919ms/step - loss: 1.1745 - binary_crossentropy_inet_decision_function_fv_metric: 1.1745 - binary_accuracy_inet_decision_function_fv_metric: 0.7060 - val_loss: 0.4304 - val_binary_crossentropy_inet_decision_function_fv_metric: 0.4304 - val_binary_accuracy_inet_decision_function_fv_metric: 0.8540\n",
      "Epoch 026/150\n",
      "16/16 [==============================] - 14s 869ms/step - loss: 0.7136 - binary_crossentropy_inet_decision_function_fv_metric: 0.7136 - binary_accuracy_inet_decision_function_fv_metric: 0.7445 - val_loss: 0.4845 - val_binary_crossentropy_inet_decision_function_fv_metric: 0.4845 - val_binary_accuracy_inet_decision_function_fv_metric: 0.8540\n",
      "Epoch 027/150\n",
      "16/16 [==============================] - 15s 918ms/step - loss: 0.5146 - binary_crossentropy_inet_decision_function_fv_metric: 0.5146 - binary_accuracy_inet_decision_function_fv_metric: 0.8200 - val_loss: 0.5194 - val_binary_crossentropy_inet_decision_function_fv_metric: 0.5194 - val_binary_accuracy_inet_decision_function_fv_metric: 0.8540\n",
      "Epoch 028/150\n",
      "16/16 [==============================] - 15s 918ms/step - loss: 0.4130 - binary_crossentropy_inet_decision_function_fv_metric: 0.4130 - binary_accuracy_inet_decision_function_fv_metric: 0.8496 - val_loss: 0.5235 - val_binary_crossentropy_inet_decision_function_fv_metric: 0.5235 - val_binary_accuracy_inet_decision_function_fv_metric: 0.8540\n",
      "Epoch 029/150\n",
      "16/16 [==============================] - 15s 921ms/step - loss: 0.3685 - binary_crossentropy_inet_decision_function_fv_metric: 0.3685 - binary_accuracy_inet_decision_function_fv_metric: 0.8582 - val_loss: 0.4995 - val_binary_crossentropy_inet_decision_function_fv_metric: 0.4995 - val_binary_accuracy_inet_decision_function_fv_metric: 0.8540\n",
      "Epoch 030/150\n",
      "16/16 [==============================] - 15s 927ms/step - loss: 0.3453 - binary_crossentropy_inet_decision_function_fv_metric: 0.3453 - binary_accuracy_inet_decision_function_fv_metric: 0.8610 - val_loss: 0.4172 - val_binary_crossentropy_inet_decision_function_fv_metric: 0.4172 - val_binary_accuracy_inet_decision_function_fv_metric: 0.8540\n",
      "Epoch 031/150\n",
      "16/16 [==============================] - 14s 906ms/step - loss: 0.3262 - binary_crossentropy_inet_decision_function_fv_metric: 0.3262 - binary_accuracy_inet_decision_function_fv_metric: 0.8644 - val_loss: 0.4220 - val_binary_crossentropy_inet_decision_function_fv_metric: 0.4220 - val_binary_accuracy_inet_decision_function_fv_metric: 0.8540\n",
      "Epoch 032/150\n",
      "16/16 [==============================] - 14s 901ms/step - loss: 0.3201 - binary_crossentropy_inet_decision_function_fv_metric: 0.3201 - binary_accuracy_inet_decision_function_fv_metric: 0.8652 - val_loss: 0.4605 - val_binary_crossentropy_inet_decision_function_fv_metric: 0.4605 - val_binary_accuracy_inet_decision_function_fv_metric: 0.8540\n",
      "Epoch 033/150\n",
      "16/16 [==============================] - 15s 924ms/step - loss: 0.3041 - binary_crossentropy_inet_decision_function_fv_metric: 0.3041 - binary_accuracy_inet_decision_function_fv_metric: 0.8698 - val_loss: 0.4472 - val_binary_crossentropy_inet_decision_function_fv_metric: 0.4472 - val_binary_accuracy_inet_decision_function_fv_metric: 0.8540\n",
      "Epoch 034/150\n",
      "16/16 [==============================] - 15s 934ms/step - loss: 0.2945 - binary_crossentropy_inet_decision_function_fv_metric: 0.2945 - binary_accuracy_inet_decision_function_fv_metric: 0.8729 - val_loss: 0.4217 - val_binary_crossentropy_inet_decision_function_fv_metric: 0.4217 - val_binary_accuracy_inet_decision_function_fv_metric: 0.8540\n",
      "Epoch 035/150\n",
      "16/16 [==============================] - 15s 915ms/step - loss: 0.2920 - binary_crossentropy_inet_decision_function_fv_metric: 0.2920 - binary_accuracy_inet_decision_function_fv_metric: 0.8730 - val_loss: 0.4317 - val_binary_crossentropy_inet_decision_function_fv_metric: 0.4317 - val_binary_accuracy_inet_decision_function_fv_metric: 0.8540\n",
      "Epoch 036/150\n",
      "16/16 [==============================] - 15s 922ms/step - loss: 0.2875 - binary_crossentropy_inet_decision_function_fv_metric: 0.2875 - binary_accuracy_inet_decision_function_fv_metric: 0.8757 - val_loss: 0.4290 - val_binary_crossentropy_inet_decision_function_fv_metric: 0.4290 - val_binary_accuracy_inet_decision_function_fv_metric: 0.8540\n",
      "Epoch 037/150\n",
      "16/16 [==============================] - 15s 910ms/step - loss: 0.2891 - binary_crossentropy_inet_decision_function_fv_metric: 0.2891 - binary_accuracy_inet_decision_function_fv_metric: 0.8763 - val_loss: 0.4265 - val_binary_crossentropy_inet_decision_function_fv_metric: 0.4265 - val_binary_accuracy_inet_decision_function_fv_metric: 0.8540\n",
      "Epoch 038/150\n",
      "16/16 [==============================] - 15s 918ms/step - loss: 0.2853 - binary_crossentropy_inet_decision_function_fv_metric: 0.2853 - binary_accuracy_inet_decision_function_fv_metric: 0.8765 - val_loss: 0.4279 - val_binary_crossentropy_inet_decision_function_fv_metric: 0.4279 - val_binary_accuracy_inet_decision_function_fv_metric: 0.8540\n",
      "Epoch 039/150\n",
      "16/16 [==============================] - 15s 920ms/step - loss: 0.2843 - binary_crossentropy_inet_decision_function_fv_metric: 0.2843 - binary_accuracy_inet_decision_function_fv_metric: 0.8781 - val_loss: 0.4303 - val_binary_crossentropy_inet_decision_function_fv_metric: 0.4303 - val_binary_accuracy_inet_decision_function_fv_metric: 0.8540\n",
      "Epoch 040/150\n",
      "16/16 [==============================] - 14s 883ms/step - loss: 0.2817 - binary_crossentropy_inet_decision_function_fv_metric: 0.2817 - binary_accuracy_inet_decision_function_fv_metric: 0.8785 - val_loss: 0.4262 - val_binary_crossentropy_inet_decision_function_fv_metric: 0.4262 - val_binary_accuracy_inet_decision_function_fv_metric: 0.8540\n",
      "Epoch 041/150\n",
      "16/16 [==============================] - 15s 913ms/step - loss: 0.2806 - binary_crossentropy_inet_decision_function_fv_metric: 0.2806 - binary_accuracy_inet_decision_function_fv_metric: 0.8790 - val_loss: 0.4263 - val_binary_crossentropy_inet_decision_function_fv_metric: 0.4263 - val_binary_accuracy_inet_decision_function_fv_metric: 0.8540\n",
      "Epoch 042/150\n",
      "16/16 [==============================] - 15s 932ms/step - loss: 0.2799 - binary_crossentropy_inet_decision_function_fv_metric: 0.2799 - binary_accuracy_inet_decision_function_fv_metric: 0.8785 - val_loss: 0.4272 - val_binary_crossentropy_inet_decision_function_fv_metric: 0.4272 - val_binary_accuracy_inet_decision_function_fv_metric: 0.8540\n",
      "Epoch 043/150\n",
      "16/16 [==============================] - 15s 926ms/step - loss: 0.2778 - binary_crossentropy_inet_decision_function_fv_metric: 0.2778 - binary_accuracy_inet_decision_function_fv_metric: 0.8800 - val_loss: 0.4276 - val_binary_crossentropy_inet_decision_function_fv_metric: 0.4276 - val_binary_accuracy_inet_decision_function_fv_metric: 0.8540\n",
      "Epoch 044/150\n",
      "16/16 [==============================] - 15s 918ms/step - loss: 0.2773 - binary_crossentropy_inet_decision_function_fv_metric: 0.2773 - binary_accuracy_inet_decision_function_fv_metric: 0.8802 - val_loss: 0.4276 - val_binary_crossentropy_inet_decision_function_fv_metric: 0.4276 - val_binary_accuracy_inet_decision_function_fv_metric: 0.8540\n",
      "Epoch 045/150\n",
      "16/16 [==============================] - 15s 918ms/step - loss: 0.2778 - binary_crossentropy_inet_decision_function_fv_metric: 0.2778 - binary_accuracy_inet_decision_function_fv_metric: 0.8799 - val_loss: 0.4245 - val_binary_crossentropy_inet_decision_function_fv_metric: 0.4245 - val_binary_accuracy_inet_decision_function_fv_metric: 0.8540\n",
      "Epoch 046/150\n",
      "16/16 [==============================] - 15s 928ms/step - loss: 0.2762 - binary_crossentropy_inet_decision_function_fv_metric: 0.2762 - binary_accuracy_inet_decision_function_fv_metric: 0.8808 - val_loss: 0.4243 - val_binary_crossentropy_inet_decision_function_fv_metric: 0.4243 - val_binary_accuracy_inet_decision_function_fv_metric: 0.8540\n",
      "Epoch 047/150\n",
      "16/16 [==============================] - 14s 893ms/step - loss: 0.2752 - binary_crossentropy_inet_decision_function_fv_metric: 0.2752 - binary_accuracy_inet_decision_function_fv_metric: 0.8805 - val_loss: 0.4288 - val_binary_crossentropy_inet_decision_function_fv_metric: 0.4288 - val_binary_accuracy_inet_decision_function_fv_metric: 0.8540\n",
      "Epoch 048/150\n",
      "16/16 [==============================] - 15s 906ms/step - loss: 0.2756 - binary_crossentropy_inet_decision_function_fv_metric: 0.2756 - binary_accuracy_inet_decision_function_fv_metric: 0.8806 - val_loss: 0.4244 - val_binary_crossentropy_inet_decision_function_fv_metric: 0.4244 - val_binary_accuracy_inet_decision_function_fv_metric: 0.8540\n",
      "Epoch 049/150\n",
      "16/16 [==============================] - 15s 929ms/step - loss: 0.2738 - binary_crossentropy_inet_decision_function_fv_metric: 0.2738 - binary_accuracy_inet_decision_function_fv_metric: 0.8806 - val_loss: 0.4200 - val_binary_crossentropy_inet_decision_function_fv_metric: 0.4200 - val_binary_accuracy_inet_decision_function_fv_metric: 0.8540\n",
      "Epoch 050/150\n",
      "16/16 [==============================] - 15s 910ms/step - loss: 0.2728 - binary_crossentropy_inet_decision_function_fv_metric: 0.2728 - binary_accuracy_inet_decision_function_fv_metric: 0.8810 - val_loss: 0.4203 - val_binary_crossentropy_inet_decision_function_fv_metric: 0.4203 - val_binary_accuracy_inet_decision_function_fv_metric: 0.8540\n",
      "Epoch 051/150\n",
      "16/16 [==============================] - 14s 892ms/step - loss: 0.2730 - binary_crossentropy_inet_decision_function_fv_metric: 0.2730 - binary_accuracy_inet_decision_function_fv_metric: 0.8816 - val_loss: 0.4258 - val_binary_crossentropy_inet_decision_function_fv_metric: 0.4258 - val_binary_accuracy_inet_decision_function_fv_metric: 0.8540\n",
      "Epoch 052/150\n",
      "16/16 [==============================] - 15s 926ms/step - loss: 0.2723 - binary_crossentropy_inet_decision_function_fv_metric: 0.2723 - binary_accuracy_inet_decision_function_fv_metric: 0.8817 - val_loss: 0.4243 - val_binary_crossentropy_inet_decision_function_fv_metric: 0.4243 - val_binary_accuracy_inet_decision_function_fv_metric: 0.8540\n",
      "Epoch 053/150\n",
      "16/16 [==============================] - 15s 904ms/step - loss: 0.2709 - binary_crossentropy_inet_decision_function_fv_metric: 0.2709 - binary_accuracy_inet_decision_function_fv_metric: 0.8819 - val_loss: 0.4205 - val_binary_crossentropy_inet_decision_function_fv_metric: 0.4205 - val_binary_accuracy_inet_decision_function_fv_metric: 0.8540\n",
      "Epoch 054/150\n",
      "16/16 [==============================] - 15s 923ms/step - loss: 0.2706 - binary_crossentropy_inet_decision_function_fv_metric: 0.2706 - binary_accuracy_inet_decision_function_fv_metric: 0.8820 - val_loss: 0.4208 - val_binary_crossentropy_inet_decision_function_fv_metric: 0.4208 - val_binary_accuracy_inet_decision_function_fv_metric: 0.8540\n",
      "Epoch 055/150\n",
      "16/16 [==============================] - 15s 935ms/step - loss: 0.2701 - binary_crossentropy_inet_decision_function_fv_metric: 0.2701 - binary_accuracy_inet_decision_function_fv_metric: 0.8814 - val_loss: 0.4300 - val_binary_crossentropy_inet_decision_function_fv_metric: 0.4300 - val_binary_accuracy_inet_decision_function_fv_metric: 0.8540\n",
      "Epoch 056/150\n",
      "16/16 [==============================] - 15s 920ms/step - loss: 0.2703 - binary_crossentropy_inet_decision_function_fv_metric: 0.2703 - binary_accuracy_inet_decision_function_fv_metric: 0.8823 - val_loss: 0.4200 - val_binary_crossentropy_inet_decision_function_fv_metric: 0.4200 - val_binary_accuracy_inet_decision_function_fv_metric: 0.8540\n",
      "Epoch 057/150\n",
      "16/16 [==============================] - 15s 931ms/step - loss: 0.2702 - binary_crossentropy_inet_decision_function_fv_metric: 0.2702 - binary_accuracy_inet_decision_function_fv_metric: 0.8825 - val_loss: 0.4194 - val_binary_crossentropy_inet_decision_function_fv_metric: 0.4194 - val_binary_accuracy_inet_decision_function_fv_metric: 0.8540\n",
      "Epoch 058/150\n",
      "16/16 [==============================] - 15s 939ms/step - loss: 0.2691 - binary_crossentropy_inet_decision_function_fv_metric: 0.2691 - binary_accuracy_inet_decision_function_fv_metric: 0.8821 - val_loss: 0.4232 - val_binary_crossentropy_inet_decision_function_fv_metric: 0.4232 - val_binary_accuracy_inet_decision_function_fv_metric: 0.8540\n",
      "Epoch 059/150\n",
      "16/16 [==============================] - 15s 920ms/step - loss: 0.2681 - binary_crossentropy_inet_decision_function_fv_metric: 0.2681 - binary_accuracy_inet_decision_function_fv_metric: 0.8820 - val_loss: 0.4241 - val_binary_crossentropy_inet_decision_function_fv_metric: 0.4241 - val_binary_accuracy_inet_decision_function_fv_metric: 0.8540\n",
      "Epoch 060/150\n",
      "16/16 [==============================] - 15s 909ms/step - loss: 0.2687 - binary_crossentropy_inet_decision_function_fv_metric: 0.2687 - binary_accuracy_inet_decision_function_fv_metric: 0.8822 - val_loss: 0.4189 - val_binary_crossentropy_inet_decision_function_fv_metric: 0.4189 - val_binary_accuracy_inet_decision_function_fv_metric: 0.8540\n",
      "Epoch 061/150\n",
      "16/16 [==============================] - 15s 905ms/step - loss: 0.2681 - binary_crossentropy_inet_decision_function_fv_metric: 0.2681 - binary_accuracy_inet_decision_function_fv_metric: 0.8823 - val_loss: 0.4174 - val_binary_crossentropy_inet_decision_function_fv_metric: 0.4174 - val_binary_accuracy_inet_decision_function_fv_metric: 0.8540\n",
      "Epoch 062/150\n",
      "16/16 [==============================] - 15s 913ms/step - loss: 0.2684 - binary_crossentropy_inet_decision_function_fv_metric: 0.2684 - binary_accuracy_inet_decision_function_fv_metric: 0.8821 - val_loss: 0.4205 - val_binary_crossentropy_inet_decision_function_fv_metric: 0.4205 - val_binary_accuracy_inet_decision_function_fv_metric: 0.8540\n",
      "Epoch 063/150\n",
      "16/16 [==============================] - 15s 917ms/step - loss: 0.2677 - binary_crossentropy_inet_decision_function_fv_metric: 0.2677 - binary_accuracy_inet_decision_function_fv_metric: 0.8823 - val_loss: 0.4220 - val_binary_crossentropy_inet_decision_function_fv_metric: 0.4220 - val_binary_accuracy_inet_decision_function_fv_metric: 0.8540\n",
      "Epoch 064/150\n",
      "16/16 [==============================] - 15s 926ms/step - loss: 0.2672 - binary_crossentropy_inet_decision_function_fv_metric: 0.2672 - binary_accuracy_inet_decision_function_fv_metric: 0.8827 - val_loss: 0.4197 - val_binary_crossentropy_inet_decision_function_fv_metric: 0.4197 - val_binary_accuracy_inet_decision_function_fv_metric: 0.8540\n",
      "Epoch 065/150\n",
      "16/16 [==============================] - 15s 914ms/step - loss: 0.2671 - binary_crossentropy_inet_decision_function_fv_metric: 0.2671 - binary_accuracy_inet_decision_function_fv_metric: 0.8824 - val_loss: 0.4185 - val_binary_crossentropy_inet_decision_function_fv_metric: 0.4185 - val_binary_accuracy_inet_decision_function_fv_metric: 0.8540\n",
      "Epoch 066/150\n",
      "16/16 [==============================] - 15s 920ms/step - loss: 0.2671 - binary_crossentropy_inet_decision_function_fv_metric: 0.2671 - binary_accuracy_inet_decision_function_fv_metric: 0.8824 - val_loss: 0.4200 - val_binary_crossentropy_inet_decision_function_fv_metric: 0.4200 - val_binary_accuracy_inet_decision_function_fv_metric: 0.8540\n",
      "Epoch 067/150\n",
      "16/16 [==============================] - 14s 905ms/step - loss: 0.2667 - binary_crossentropy_inet_decision_function_fv_metric: 0.2667 - binary_accuracy_inet_decision_function_fv_metric: 0.8824 - val_loss: 0.4204 - val_binary_crossentropy_inet_decision_function_fv_metric: 0.4204 - val_binary_accuracy_inet_decision_function_fv_metric: 0.8540\n",
      "Epoch 068/150\n",
      "16/16 [==============================] - 15s 921ms/step - loss: 0.2668 - binary_crossentropy_inet_decision_function_fv_metric: 0.2668 - binary_accuracy_inet_decision_function_fv_metric: 0.8830 - val_loss: 0.4178 - val_binary_crossentropy_inet_decision_function_fv_metric: 0.4178 - val_binary_accuracy_inet_decision_function_fv_metric: 0.8540\n",
      "Epoch 069/150\n",
      "16/16 [==============================] - 15s 912ms/step - loss: 0.2660 - binary_crossentropy_inet_decision_function_fv_metric: 0.2660 - binary_accuracy_inet_decision_function_fv_metric: 0.8827 - val_loss: 0.4180 - val_binary_crossentropy_inet_decision_function_fv_metric: 0.4180 - val_binary_accuracy_inet_decision_function_fv_metric: 0.8540\n",
      "Epoch 070/150\n",
      "16/16 [==============================] - 15s 907ms/step - loss: 0.2658 - binary_crossentropy_inet_decision_function_fv_metric: 0.2658 - binary_accuracy_inet_decision_function_fv_metric: 0.8832 - val_loss: 0.4183 - val_binary_crossentropy_inet_decision_function_fv_metric: 0.4183 - val_binary_accuracy_inet_decision_function_fv_metric: 0.8540\n",
      "Epoch 071/150\n",
      "16/16 [==============================] - 15s 910ms/step - loss: 0.2659 - binary_crossentropy_inet_decision_function_fv_metric: 0.2659 - binary_accuracy_inet_decision_function_fv_metric: 0.8828 - val_loss: 0.4175 - val_binary_crossentropy_inet_decision_function_fv_metric: 0.4175 - val_binary_accuracy_inet_decision_function_fv_metric: 0.8540\n",
      "Epoch 072/150\n",
      "16/16 [==============================] - 15s 929ms/step - loss: 0.2655 - binary_crossentropy_inet_decision_function_fv_metric: 0.2655 - binary_accuracy_inet_decision_function_fv_metric: 0.8828 - val_loss: 0.4197 - val_binary_crossentropy_inet_decision_function_fv_metric: 0.4197 - val_binary_accuracy_inet_decision_function_fv_metric: 0.8540\n",
      "Epoch 073/150\n",
      "16/16 [==============================] - 12s 731ms/step - loss: 0.2656 - binary_crossentropy_inet_decision_function_fv_metric: 0.2656 - binary_accuracy_inet_decision_function_fv_metric: 0.8830 - val_loss: 0.4174 - val_binary_crossentropy_inet_decision_function_fv_metric: 0.4174 - val_binary_accuracy_inet_decision_function_fv_metric: 0.8540\n",
      "Epoch 074/150\n",
      "16/16 [==============================] - 15s 948ms/step - loss: 0.2653 - binary_crossentropy_inet_decision_function_fv_metric: 0.2653 - binary_accuracy_inet_decision_function_fv_metric: 0.8829 - val_loss: 0.4164 - val_binary_crossentropy_inet_decision_function_fv_metric: 0.4164 - val_binary_accuracy_inet_decision_function_fv_metric: 0.8540\n",
      "Epoch 075/150\n",
      "32/32 [==============================] - 29s 915ms/step - loss: 0.5183 - binary_crossentropy_inet_decision_function_fv_metric: 0.5183 - binary_accuracy_inet_decision_function_fv_metric: 0.7282 - val_loss: 0.4221 - val_binary_crossentropy_inet_decision_function_fv_metric: 0.4221 - val_binary_accuracy_inet_decision_function_fv_metric: 0.8540\n",
      "Epoch 076/150\n",
      "32/32 [==============================] - 29s 912ms/step - loss: 0.4784 - binary_crossentropy_inet_decision_function_fv_metric: 0.4784 - binary_accuracy_inet_decision_function_fv_metric: 0.7465 - val_loss: 0.4387 - val_binary_crossentropy_inet_decision_function_fv_metric: 0.4387 - val_binary_accuracy_inet_decision_function_fv_metric: 0.8540\n",
      "Epoch 077/150\n",
      "32/32 [==============================] - 29s 912ms/step - loss: 0.4483 - binary_crossentropy_inet_decision_function_fv_metric: 0.4483 - binary_accuracy_inet_decision_function_fv_metric: 0.7601 - val_loss: 0.4372 - val_binary_crossentropy_inet_decision_function_fv_metric: 0.4372 - val_binary_accuracy_inet_decision_function_fv_metric: 0.8540\n",
      "Epoch 078/150\n",
      "32/32 [==============================] - 29s 904ms/step - loss: 0.4254 - binary_crossentropy_inet_decision_function_fv_metric: 0.4254 - binary_accuracy_inet_decision_function_fv_metric: 0.7695 - val_loss: 0.4500 - val_binary_crossentropy_inet_decision_function_fv_metric: 0.4500 - val_binary_accuracy_inet_decision_function_fv_metric: 0.8540\n",
      "Epoch 079/150\n",
      "32/32 [==============================] - 30s 921ms/step - loss: 0.4150 - binary_crossentropy_inet_decision_function_fv_metric: 0.4150 - binary_accuracy_inet_decision_function_fv_metric: 0.7776 - val_loss: 0.4330 - val_binary_crossentropy_inet_decision_function_fv_metric: 0.4330 - val_binary_accuracy_inet_decision_function_fv_metric: 0.8540\n",
      "Epoch 080/150\n",
      "32/32 [==============================] - 29s 921ms/step - loss: 0.4041 - binary_crossentropy_inet_decision_function_fv_metric: 0.4041 - binary_accuracy_inet_decision_function_fv_metric: 0.7826 - val_loss: 0.4328 - val_binary_crossentropy_inet_decision_function_fv_metric: 0.4328 - val_binary_accuracy_inet_decision_function_fv_metric: 0.8540\n",
      "Epoch 081/150\n",
      "32/32 [==============================] - 29s 918ms/step - loss: 0.4033 - binary_crossentropy_inet_decision_function_fv_metric: 0.4033 - binary_accuracy_inet_decision_function_fv_metric: 0.7867 - val_loss: 0.4794 - val_binary_crossentropy_inet_decision_function_fv_metric: 0.4794 - val_binary_accuracy_inet_decision_function_fv_metric: 0.8540\n",
      "Epoch 082/150\n",
      "32/32 [==============================] - 30s 923ms/step - loss: 0.3962 - binary_crossentropy_inet_decision_function_fv_metric: 0.3962 - binary_accuracy_inet_decision_function_fv_metric: 0.7887 - val_loss: 0.5177 - val_binary_crossentropy_inet_decision_function_fv_metric: 0.5177 - val_binary_accuracy_inet_decision_function_fv_metric: 0.8540\n",
      "Epoch 083/150\n",
      "32/32 [==============================] - 29s 900ms/step - loss: 0.3968 - binary_crossentropy_inet_decision_function_fv_metric: 0.3968 - binary_accuracy_inet_decision_function_fv_metric: 0.7919 - val_loss: 0.4734 - val_binary_crossentropy_inet_decision_function_fv_metric: 0.4734 - val_binary_accuracy_inet_decision_function_fv_metric: 0.8540\n",
      "Epoch 084/150\n",
      "32/32 [==============================] - 29s 914ms/step - loss: 0.3951 - binary_crossentropy_inet_decision_function_fv_metric: 0.3951 - binary_accuracy_inet_decision_function_fv_metric: 0.7929 - val_loss: 0.4164 - val_binary_crossentropy_inet_decision_function_fv_metric: 0.4164 - val_binary_accuracy_inet_decision_function_fv_metric: 0.8540\n",
      "Epoch 085/150\n",
      "32/32 [==============================] - 29s 901ms/step - loss: 0.3880 - binary_crossentropy_inet_decision_function_fv_metric: 0.3880 - binary_accuracy_inet_decision_function_fv_metric: 0.7953 - val_loss: 0.4539 - val_binary_crossentropy_inet_decision_function_fv_metric: 0.4539 - val_binary_accuracy_inet_decision_function_fv_metric: 0.8540\n",
      "Epoch 086/150\n",
      "32/32 [==============================] - 29s 903ms/step - loss: 0.3873 - binary_crossentropy_inet_decision_function_fv_metric: 0.3873 - binary_accuracy_inet_decision_function_fv_metric: 0.7972 - val_loss: 0.4431 - val_binary_crossentropy_inet_decision_function_fv_metric: 0.4431 - val_binary_accuracy_inet_decision_function_fv_metric: 0.8540\n",
      "Epoch 087/150\n",
      "32/32 [==============================] - 29s 909ms/step - loss: 0.3856 - binary_crossentropy_inet_decision_function_fv_metric: 0.3856 - binary_accuracy_inet_decision_function_fv_metric: 0.7984 - val_loss: 0.4197 - val_binary_crossentropy_inet_decision_function_fv_metric: 0.4197 - val_binary_accuracy_inet_decision_function_fv_metric: 0.8540\n",
      "Epoch 088/150\n",
      "32/32 [==============================] - 29s 897ms/step - loss: 0.3866 - binary_crossentropy_inet_decision_function_fv_metric: 0.3866 - binary_accuracy_inet_decision_function_fv_metric: 0.7985 - val_loss: 0.5014 - val_binary_crossentropy_inet_decision_function_fv_metric: 0.5014 - val_binary_accuracy_inet_decision_function_fv_metric: 0.8540\n",
      "Epoch 089/150\n",
      "32/32 [==============================] - 29s 915ms/step - loss: 0.3835 - binary_crossentropy_inet_decision_function_fv_metric: 0.3835 - binary_accuracy_inet_decision_function_fv_metric: 0.7993 - val_loss: 0.5663 - val_binary_crossentropy_inet_decision_function_fv_metric: 0.5663 - val_binary_accuracy_inet_decision_function_fv_metric: 0.8540\n",
      "Epoch 090/150\n",
      "32/32 [==============================] - 30s 923ms/step - loss: 0.3828 - binary_crossentropy_inet_decision_function_fv_metric: 0.3828 - binary_accuracy_inet_decision_function_fv_metric: 0.8010 - val_loss: 0.5090 - val_binary_crossentropy_inet_decision_function_fv_metric: 0.5090 - val_binary_accuracy_inet_decision_function_fv_metric: 0.8540\n",
      "Epoch 091/150\n",
      "32/32 [==============================] - 29s 900ms/step - loss: 0.3801 - binary_crossentropy_inet_decision_function_fv_metric: 0.3801 - binary_accuracy_inet_decision_function_fv_metric: 0.8016 - val_loss: 0.4337 - val_binary_crossentropy_inet_decision_function_fv_metric: 0.4337 - val_binary_accuracy_inet_decision_function_fv_metric: 0.8540\n",
      "Epoch 092/150\n",
      "32/32 [==============================] - 29s 893ms/step - loss: 0.3754 - binary_crossentropy_inet_decision_function_fv_metric: 0.3754 - binary_accuracy_inet_decision_function_fv_metric: 0.8039 - val_loss: 0.4156 - val_binary_crossentropy_inet_decision_function_fv_metric: 0.4156 - val_binary_accuracy_inet_decision_function_fv_metric: 0.8540\n",
      "Epoch 093/150\n",
      "32/32 [==============================] - 29s 896ms/step - loss: 0.3760 - binary_crossentropy_inet_decision_function_fv_metric: 0.3760 - binary_accuracy_inet_decision_function_fv_metric: 0.8050 - val_loss: 0.4159 - val_binary_crossentropy_inet_decision_function_fv_metric: 0.4159 - val_binary_accuracy_inet_decision_function_fv_metric: 0.8540\n",
      "Epoch 094/150\n",
      "32/32 [==============================] - 29s 913ms/step - loss: 0.3791 - binary_crossentropy_inet_decision_function_fv_metric: 0.3791 - binary_accuracy_inet_decision_function_fv_metric: 0.8056 - val_loss: 0.4300 - val_binary_crossentropy_inet_decision_function_fv_metric: 0.4300 - val_binary_accuracy_inet_decision_function_fv_metric: 0.8540\n",
      "Epoch 095/150\n",
      "32/32 [==============================] - 29s 905ms/step - loss: 0.3791 - binary_crossentropy_inet_decision_function_fv_metric: 0.3791 - binary_accuracy_inet_decision_function_fv_metric: 0.8058 - val_loss: 0.4658 - val_binary_crossentropy_inet_decision_function_fv_metric: 0.4658 - val_binary_accuracy_inet_decision_function_fv_metric: 0.8540\n",
      "Epoch 096/150\n",
      "32/32 [==============================] - 29s 899ms/step - loss: 0.3770 - binary_crossentropy_inet_decision_function_fv_metric: 0.3770 - binary_accuracy_inet_decision_function_fv_metric: 0.8069 - val_loss: 0.4791 - val_binary_crossentropy_inet_decision_function_fv_metric: 0.4791 - val_binary_accuracy_inet_decision_function_fv_metric: 0.8540\n",
      "Epoch 097/150\n",
      "32/32 [==============================] - 29s 906ms/step - loss: 0.3774 - binary_crossentropy_inet_decision_function_fv_metric: 0.3774 - binary_accuracy_inet_decision_function_fv_metric: 0.8076 - val_loss: 0.4775 - val_binary_crossentropy_inet_decision_function_fv_metric: 0.4775 - val_binary_accuracy_inet_decision_function_fv_metric: 0.8540\n",
      "Epoch 098/150\n",
      "32/32 [==============================] - 29s 891ms/step - loss: 0.3730 - binary_crossentropy_inet_decision_function_fv_metric: 0.3730 - binary_accuracy_inet_decision_function_fv_metric: 0.8097 - val_loss: 0.4600 - val_binary_crossentropy_inet_decision_function_fv_metric: 0.4600 - val_binary_accuracy_inet_decision_function_fv_metric: 0.8540\n",
      "Epoch 099/150\n",
      "32/32 [==============================] - 29s 909ms/step - loss: 0.3767 - binary_crossentropy_inet_decision_function_fv_metric: 0.3767 - binary_accuracy_inet_decision_function_fv_metric: 0.8094 - val_loss: 0.4366 - val_binary_crossentropy_inet_decision_function_fv_metric: 0.4366 - val_binary_accuracy_inet_decision_function_fv_metric: 0.8540\n",
      "Epoch 100/150\n",
      "32/32 [==============================] - 29s 915ms/step - loss: 0.3763 - binary_crossentropy_inet_decision_function_fv_metric: 0.3763 - binary_accuracy_inet_decision_function_fv_metric: 0.8093 - val_loss: 0.4200 - val_binary_crossentropy_inet_decision_function_fv_metric: 0.4200 - val_binary_accuracy_inet_decision_function_fv_metric: 0.8540\n",
      "Epoch 101/150\n",
      "32/32 [==============================] - 29s 901ms/step - loss: 0.3733 - binary_crossentropy_inet_decision_function_fv_metric: 0.3733 - binary_accuracy_inet_decision_function_fv_metric: 0.8109 - val_loss: 0.4183 - val_binary_crossentropy_inet_decision_function_fv_metric: 0.4183 - val_binary_accuracy_inet_decision_function_fv_metric: 0.8540\n",
      "Epoch 102/150\n",
      "32/32 [==============================] - 30s 924ms/step - loss: 0.3751 - binary_crossentropy_inet_decision_function_fv_metric: 0.3751 - binary_accuracy_inet_decision_function_fv_metric: 0.8126 - val_loss: 0.4456 - val_binary_crossentropy_inet_decision_function_fv_metric: 0.4456 - val_binary_accuracy_inet_decision_function_fv_metric: 0.8540\n",
      "Epoch 103/150\n",
      "32/32 [==============================] - 29s 899ms/step - loss: 0.3740 - binary_crossentropy_inet_decision_function_fv_metric: 0.3740 - binary_accuracy_inet_decision_function_fv_metric: 0.8139 - val_loss: 0.4809 - val_binary_crossentropy_inet_decision_function_fv_metric: 0.4809 - val_binary_accuracy_inet_decision_function_fv_metric: 0.8540\n",
      "Epoch 104/150\n",
      "32/32 [==============================] - 29s 897ms/step - loss: 0.3796 - binary_crossentropy_inet_decision_function_fv_metric: 0.3796 - binary_accuracy_inet_decision_function_fv_metric: 0.8155 - val_loss: 0.5089 - val_binary_crossentropy_inet_decision_function_fv_metric: 0.5089 - val_binary_accuracy_inet_decision_function_fv_metric: 0.8540\n",
      "Epoch 105/150\n",
      "32/32 [==============================] - 29s 893ms/step - loss: 0.3743 - binary_crossentropy_inet_decision_function_fv_metric: 0.3743 - binary_accuracy_inet_decision_function_fv_metric: 0.8172 - val_loss: 0.5456 - val_binary_crossentropy_inet_decision_function_fv_metric: 0.5456 - val_binary_accuracy_inet_decision_function_fv_metric: 0.8540\n",
      "Epoch 106/150\n",
      "32/32 [==============================] - 30s 924ms/step - loss: 0.3741 - binary_crossentropy_inet_decision_function_fv_metric: 0.3741 - binary_accuracy_inet_decision_function_fv_metric: 0.8174 - val_loss: 0.5426 - val_binary_crossentropy_inet_decision_function_fv_metric: 0.5426 - val_binary_accuracy_inet_decision_function_fv_metric: 0.8540\n",
      "Epoch 107/150\n",
      "32/32 [==============================] - 30s 925ms/step - loss: 0.3690 - binary_crossentropy_inet_decision_function_fv_metric: 0.3690 - binary_accuracy_inet_decision_function_fv_metric: 0.8182 - val_loss: 0.4695 - val_binary_crossentropy_inet_decision_function_fv_metric: 0.4695 - val_binary_accuracy_inet_decision_function_fv_metric: 0.8540\n",
      "Epoch 108/150\n",
      "32/32 [==============================] - 29s 911ms/step - loss: 0.3697 - binary_crossentropy_inet_decision_function_fv_metric: 0.3697 - binary_accuracy_inet_decision_function_fv_metric: 0.8195 - val_loss: 0.4214 - val_binary_crossentropy_inet_decision_function_fv_metric: 0.4214 - val_binary_accuracy_inet_decision_function_fv_metric: 0.8540\n",
      "Epoch 109/150\n",
      "32/32 [==============================] - 30s 928ms/step - loss: 0.3713 - binary_crossentropy_inet_decision_function_fv_metric: 0.3713 - binary_accuracy_inet_decision_function_fv_metric: 0.8203 - val_loss: 0.4146 - val_binary_crossentropy_inet_decision_function_fv_metric: 0.4146 - val_binary_accuracy_inet_decision_function_fv_metric: 0.8540\n",
      "Epoch 110/150\n",
      "32/32 [==============================] - 30s 947ms/step - loss: 0.3630 - binary_crossentropy_inet_decision_function_fv_metric: 0.3630 - binary_accuracy_inet_decision_function_fv_metric: 0.8233 - val_loss: 0.4191 - val_binary_crossentropy_inet_decision_function_fv_metric: 0.4191 - val_binary_accuracy_inet_decision_function_fv_metric: 0.8540\n",
      "Epoch 111/150\n",
      "32/32 [==============================] - 31s 956ms/step - loss: 0.3640 - binary_crossentropy_inet_decision_function_fv_metric: 0.3640 - binary_accuracy_inet_decision_function_fv_metric: 0.8253 - val_loss: 0.4811 - val_binary_crossentropy_inet_decision_function_fv_metric: 0.4811 - val_binary_accuracy_inet_decision_function_fv_metric: 0.8540\n",
      "Epoch 112/150\n",
      "32/32 [==============================] - 30s 950ms/step - loss: 0.3565 - binary_crossentropy_inet_decision_function_fv_metric: 0.3565 - binary_accuracy_inet_decision_function_fv_metric: 0.8279 - val_loss: 0.5322 - val_binary_crossentropy_inet_decision_function_fv_metric: 0.5322 - val_binary_accuracy_inet_decision_function_fv_metric: 0.8540\n",
      "Epoch 113/150\n",
      "32/32 [==============================] - 30s 945ms/step - loss: 0.3609 - binary_crossentropy_inet_decision_function_fv_metric: 0.3609 - binary_accuracy_inet_decision_function_fv_metric: 0.8276 - val_loss: 0.5746 - val_binary_crossentropy_inet_decision_function_fv_metric: 0.5746 - val_binary_accuracy_inet_decision_function_fv_metric: 0.8540\n",
      "Epoch 114/150\n",
      "32/32 [==============================] - 31s 955ms/step - loss: 0.3572 - binary_crossentropy_inet_decision_function_fv_metric: 0.3572 - binary_accuracy_inet_decision_function_fv_metric: 0.8277 - val_loss: 0.5390 - val_binary_crossentropy_inet_decision_function_fv_metric: 0.5390 - val_binary_accuracy_inet_decision_function_fv_metric: 0.8540\n",
      "Epoch 115/150\n",
      "32/32 [==============================] - 31s 960ms/step - loss: 0.3583 - binary_crossentropy_inet_decision_function_fv_metric: 0.3583 - binary_accuracy_inet_decision_function_fv_metric: 0.8284 - val_loss: 0.4936 - val_binary_crossentropy_inet_decision_function_fv_metric: 0.4936 - val_binary_accuracy_inet_decision_function_fv_metric: 0.8540\n",
      "Epoch 116/150\n",
      "32/32 [==============================] - 31s 953ms/step - loss: 0.3562 - binary_crossentropy_inet_decision_function_fv_metric: 0.3562 - binary_accuracy_inet_decision_function_fv_metric: 0.8288 - val_loss: 0.4268 - val_binary_crossentropy_inet_decision_function_fv_metric: 0.4268 - val_binary_accuracy_inet_decision_function_fv_metric: 0.8540\n",
      "Epoch 117/150\n",
      "32/32 [==============================] - 31s 953ms/step - loss: 0.3529 - binary_crossentropy_inet_decision_function_fv_metric: 0.3529 - binary_accuracy_inet_decision_function_fv_metric: 0.8286 - val_loss: 0.4148 - val_binary_crossentropy_inet_decision_function_fv_metric: 0.4148 - val_binary_accuracy_inet_decision_function_fv_metric: 0.8540\n",
      "Epoch 118/150\n",
      "32/32 [==============================] - 31s 969ms/step - loss: 0.3537 - binary_crossentropy_inet_decision_function_fv_metric: 0.3537 - binary_accuracy_inet_decision_function_fv_metric: 0.8286 - val_loss: 0.4154 - val_binary_crossentropy_inet_decision_function_fv_metric: 0.4154 - val_binary_accuracy_inet_decision_function_fv_metric: 0.8540\n",
      "Epoch 119/150\n",
      "32/32 [==============================] - 31s 953ms/step - loss: 0.3527 - binary_crossentropy_inet_decision_function_fv_metric: 0.3527 - binary_accuracy_inet_decision_function_fv_metric: 0.8280 - val_loss: 0.4736 - val_binary_crossentropy_inet_decision_function_fv_metric: 0.4736 - val_binary_accuracy_inet_decision_function_fv_metric: 0.8540\n",
      "Epoch 120/150\n",
      "32/32 [==============================] - 31s 958ms/step - loss: 0.3512 - binary_crossentropy_inet_decision_function_fv_metric: 0.3512 - binary_accuracy_inet_decision_function_fv_metric: 0.8286 - val_loss: 0.5666 - val_binary_crossentropy_inet_decision_function_fv_metric: 0.5666 - val_binary_accuracy_inet_decision_function_fv_metric: 0.8540\n",
      "Epoch 121/150\n",
      "32/32 [==============================] - 30s 949ms/step - loss: 0.3517 - binary_crossentropy_inet_decision_function_fv_metric: 0.3517 - binary_accuracy_inet_decision_function_fv_metric: 0.8311 - val_loss: 0.6135 - val_binary_crossentropy_inet_decision_function_fv_metric: 0.6135 - val_binary_accuracy_inet_decision_function_fv_metric: 0.8540\n",
      "Epoch 122/150\n",
      "32/32 [==============================] - 30s 950ms/step - loss: 0.3509 - binary_crossentropy_inet_decision_function_fv_metric: 0.3509 - binary_accuracy_inet_decision_function_fv_metric: 0.8318 - val_loss: 0.5911 - val_binary_crossentropy_inet_decision_function_fv_metric: 0.5911 - val_binary_accuracy_inet_decision_function_fv_metric: 0.8540\n",
      "Epoch 123/150\n",
      "32/32 [==============================] - 31s 953ms/step - loss: 0.3508 - binary_crossentropy_inet_decision_function_fv_metric: 0.3508 - binary_accuracy_inet_decision_function_fv_metric: 0.8329 - val_loss: 0.5157 - val_binary_crossentropy_inet_decision_function_fv_metric: 0.5157 - val_binary_accuracy_inet_decision_function_fv_metric: 0.8540\n",
      "Epoch 124/150\n",
      "32/32 [==============================] - 31s 953ms/step - loss: 0.3506 - binary_crossentropy_inet_decision_function_fv_metric: 0.3506 - binary_accuracy_inet_decision_function_fv_metric: 0.8340 - val_loss: 0.4260 - val_binary_crossentropy_inet_decision_function_fv_metric: 0.4260 - val_binary_accuracy_inet_decision_function_fv_metric: 0.8540\n",
      "Epoch 125/150\n",
      "32/32 [==============================] - 30s 944ms/step - loss: 0.3496 - binary_crossentropy_inet_decision_function_fv_metric: 0.3496 - binary_accuracy_inet_decision_function_fv_metric: 0.8332 - val_loss: 0.4160 - val_binary_crossentropy_inet_decision_function_fv_metric: 0.4160 - val_binary_accuracy_inet_decision_function_fv_metric: 0.8540\n",
      "Epoch 126/150\n",
      "32/32 [==============================] - 31s 968ms/step - loss: 0.3493 - binary_crossentropy_inet_decision_function_fv_metric: 0.3493 - binary_accuracy_inet_decision_function_fv_metric: 0.8334 - val_loss: 0.4355 - val_binary_crossentropy_inet_decision_function_fv_metric: 0.4355 - val_binary_accuracy_inet_decision_function_fv_metric: 0.8540\n",
      "Epoch 127/150\n",
      "32/32 [==============================] - 31s 965ms/step - loss: 0.3520 - binary_crossentropy_inet_decision_function_fv_metric: 0.3520 - binary_accuracy_inet_decision_function_fv_metric: 0.8344 - val_loss: 0.5140 - val_binary_crossentropy_inet_decision_function_fv_metric: 0.5140 - val_binary_accuracy_inet_decision_function_fv_metric: 0.8540\n",
      "Epoch 128/150\n",
      "32/32 [==============================] - 30s 942ms/step - loss: 0.3490 - binary_crossentropy_inet_decision_function_fv_metric: 0.3490 - binary_accuracy_inet_decision_function_fv_metric: 0.8357 - val_loss: 0.5855 - val_binary_crossentropy_inet_decision_function_fv_metric: 0.5855 - val_binary_accuracy_inet_decision_function_fv_metric: 0.8540\n",
      "Epoch 129/150\n",
      "32/32 [==============================] - 31s 962ms/step - loss: 0.3493 - binary_crossentropy_inet_decision_function_fv_metric: 0.3493 - binary_accuracy_inet_decision_function_fv_metric: 0.8356 - val_loss: 0.5858 - val_binary_crossentropy_inet_decision_function_fv_metric: 0.5858 - val_binary_accuracy_inet_decision_function_fv_metric: 0.8540\n",
      "Epoch 130/150\n",
      "32/32 [==============================] - 31s 961ms/step - loss: 0.3477 - binary_crossentropy_inet_decision_function_fv_metric: 0.3477 - binary_accuracy_inet_decision_function_fv_metric: 0.8373 - val_loss: 0.5178 - val_binary_crossentropy_inet_decision_function_fv_metric: 0.5178 - val_binary_accuracy_inet_decision_function_fv_metric: 0.8540\n",
      "Epoch 131/150\n",
      "32/32 [==============================] - 31s 963ms/step - loss: 0.3486 - binary_crossentropy_inet_decision_function_fv_metric: 0.3486 - binary_accuracy_inet_decision_function_fv_metric: 0.8375 - val_loss: 0.4528 - val_binary_crossentropy_inet_decision_function_fv_metric: 0.4528 - val_binary_accuracy_inet_decision_function_fv_metric: 0.8540\n",
      "Epoch 132/150\n",
      "32/32 [==============================] - 31s 957ms/step - loss: 0.3489 - binary_crossentropy_inet_decision_function_fv_metric: 0.3489 - binary_accuracy_inet_decision_function_fv_metric: 0.8382 - val_loss: 0.4250 - val_binary_crossentropy_inet_decision_function_fv_metric: 0.4250 - val_binary_accuracy_inet_decision_function_fv_metric: 0.8540\n",
      "Epoch 133/150\n",
      "32/32 [==============================] - 31s 955ms/step - loss: 0.3500 - binary_crossentropy_inet_decision_function_fv_metric: 0.3500 - binary_accuracy_inet_decision_function_fv_metric: 0.8391 - val_loss: 0.4322 - val_binary_crossentropy_inet_decision_function_fv_metric: 0.4322 - val_binary_accuracy_inet_decision_function_fv_metric: 0.8540\n",
      "Epoch 134/150\n",
      "32/32 [==============================] - 30s 946ms/step - loss: 0.3540 - binary_crossentropy_inet_decision_function_fv_metric: 0.3540 - binary_accuracy_inet_decision_function_fv_metric: 0.8397 - val_loss: 0.4883 - val_binary_crossentropy_inet_decision_function_fv_metric: 0.4883 - val_binary_accuracy_inet_decision_function_fv_metric: 0.8540\n",
      "Epoch 135/150\n",
      "32/32 [==============================] - 31s 966ms/step - loss: 0.3520 - binary_crossentropy_inet_decision_function_fv_metric: 0.3520 - binary_accuracy_inet_decision_function_fv_metric: 0.8404 - val_loss: 0.5437 - val_binary_crossentropy_inet_decision_function_fv_metric: 0.5437 - val_binary_accuracy_inet_decision_function_fv_metric: 0.8540\n",
      "Epoch 136/150\n",
      "32/32 [==============================] - 30s 959ms/step - loss: 0.3517 - binary_crossentropy_inet_decision_function_fv_metric: 0.3517 - binary_accuracy_inet_decision_function_fv_metric: 0.8410 - val_loss: 0.5792 - val_binary_crossentropy_inet_decision_function_fv_metric: 0.5792 - val_binary_accuracy_inet_decision_function_fv_metric: 0.8540\n",
      "Epoch 137/150\n",
      "32/32 [==============================] - 31s 955ms/step - loss: 0.3512 - binary_crossentropy_inet_decision_function_fv_metric: 0.3512 - binary_accuracy_inet_decision_function_fv_metric: 0.8421 - val_loss: 0.5560 - val_binary_crossentropy_inet_decision_function_fv_metric: 0.5560 - val_binary_accuracy_inet_decision_function_fv_metric: 0.8540\n",
      "Epoch 138/150\n",
      "32/32 [==============================] - 30s 928ms/step - loss: 0.3536 - binary_crossentropy_inet_decision_function_fv_metric: 0.3536 - binary_accuracy_inet_decision_function_fv_metric: 0.8428 - val_loss: 0.5341 - val_binary_crossentropy_inet_decision_function_fv_metric: 0.5341 - val_binary_accuracy_inet_decision_function_fv_metric: 0.8540\n",
      "Epoch 139/150\n",
      "32/32 [==============================] - 30s 954ms/step - loss: 0.3499 - binary_crossentropy_inet_decision_function_fv_metric: 0.3499 - binary_accuracy_inet_decision_function_fv_metric: 0.8438 - val_loss: 0.4748 - val_binary_crossentropy_inet_decision_function_fv_metric: 0.4748 - val_binary_accuracy_inet_decision_function_fv_metric: 0.8540\n",
      "Epoch 140/150\n",
      "32/32 [==============================] - 31s 973ms/step - loss: 0.3495 - binary_crossentropy_inet_decision_function_fv_metric: 0.3495 - binary_accuracy_inet_decision_function_fv_metric: 0.8445 - val_loss: 0.4298 - val_binary_crossentropy_inet_decision_function_fv_metric: 0.4298 - val_binary_accuracy_inet_decision_function_fv_metric: 0.8540\n",
      "Epoch 141/150\n",
      "32/32 [==============================] - 31s 953ms/step - loss: 0.3508 - binary_crossentropy_inet_decision_function_fv_metric: 0.3508 - binary_accuracy_inet_decision_function_fv_metric: 0.8453 - val_loss: 0.4287 - val_binary_crossentropy_inet_decision_function_fv_metric: 0.4287 - val_binary_accuracy_inet_decision_function_fv_metric: 0.8540\n",
      "Epoch 142/150\n",
      "32/32 [==============================] - 31s 967ms/step - loss: 0.3530 - binary_crossentropy_inet_decision_function_fv_metric: 0.3530 - binary_accuracy_inet_decision_function_fv_metric: 0.8457 - val_loss: 0.4541 - val_binary_crossentropy_inet_decision_function_fv_metric: 0.4541 - val_binary_accuracy_inet_decision_function_fv_metric: 0.8540\n",
      "Epoch 143/150\n",
      "32/32 [==============================] - 21s 657ms/step - loss: 0.3455 - binary_crossentropy_inet_decision_function_fv_metric: 0.3455 - binary_accuracy_inet_decision_function_fv_metric: 0.8464 - val_loss: 0.5388 - val_binary_crossentropy_inet_decision_function_fv_metric: 0.5388 - val_binary_accuracy_inet_decision_function_fv_metric: 0.8540\n",
      "Epoch 144/150\n",
      "32/32 [==============================] - 19s 597ms/step - loss: 0.3445 - binary_crossentropy_inet_decision_function_fv_metric: 0.3445 - binary_accuracy_inet_decision_function_fv_metric: 0.8459 - val_loss: 0.5613 - val_binary_crossentropy_inet_decision_function_fv_metric: 0.5613 - val_binary_accuracy_inet_decision_function_fv_metric: 0.8540\n",
      "Epoch 145/150\n",
      "32/32 [==============================] - 20s 610ms/step - loss: 0.3441 - binary_crossentropy_inet_decision_function_fv_metric: 0.3441 - binary_accuracy_inet_decision_function_fv_metric: 0.8456 - val_loss: 0.5545 - val_binary_crossentropy_inet_decision_function_fv_metric: 0.5545 - val_binary_accuracy_inet_decision_function_fv_metric: 0.8540\n",
      "Epoch 146/150\n",
      "32/32 [==============================] - 19s 596ms/step - loss: 0.3440 - binary_crossentropy_inet_decision_function_fv_metric: 0.3440 - binary_accuracy_inet_decision_function_fv_metric: 0.8461 - val_loss: 0.5143 - val_binary_crossentropy_inet_decision_function_fv_metric: 0.5143 - val_binary_accuracy_inet_decision_function_fv_metric: 0.8540\n",
      "Epoch 147/150\n",
      "32/32 [==============================] - 19s 604ms/step - loss: 0.3479 - binary_crossentropy_inet_decision_function_fv_metric: 0.3479 - binary_accuracy_inet_decision_function_fv_metric: 0.8450 - val_loss: 0.4848 - val_binary_crossentropy_inet_decision_function_fv_metric: 0.4848 - val_binary_accuracy_inet_decision_function_fv_metric: 0.8540\n",
      "Epoch 148/150\n",
      "32/32 [==============================] - 19s 594ms/step - loss: 0.3486 - binary_crossentropy_inet_decision_function_fv_metric: 0.3486 - binary_accuracy_inet_decision_function_fv_metric: 0.8458 - val_loss: 0.4645 - val_binary_crossentropy_inet_decision_function_fv_metric: 0.4645 - val_binary_accuracy_inet_decision_function_fv_metric: 0.8540\n",
      "Epoch 149/150\n",
      "32/32 [==============================] - 19s 596ms/step - loss: 0.3430 - binary_crossentropy_inet_decision_function_fv_metric: 0.3430 - binary_accuracy_inet_decision_function_fv_metric: 0.8469 - val_loss: 0.4509 - val_binary_crossentropy_inet_decision_function_fv_metric: 0.4509 - val_binary_accuracy_inet_decision_function_fv_metric: 0.8540\n"
     ]
    },
    {
     "data": {
      "image/png": "[encoded data removed]",
      "text/plain": [
       "<Figure size 432x288 with 1 Axes>"
      ]
     },
     "metadata": {},
     "output_type": "display_data"
    }
   ],
   "source": [
    "model = generate_inet(config)\n",
    "\n",
    "target_network_parameters = shaped_network_parameters_to_array(test_network.get_weights(), config)\n",
    "\n",
    "callback_names = []\n",
    "if config['i_net']['early_stopping']:\n",
    "    callback_names.append('early_stopping')\n",
    "\n",
    "callbacks = return_callbacks_from_string(callback_names)  \n",
    "\n",
    "verbosity = 1\n",
    "\n",
    "#%autoreload 2\n",
    "############################## PREDICTION ###############################\n",
    "X_valid_single = np.array([target_network_parameters])\n",
    "X_train_single = None\n",
    "\n",
    "\n",
    "y_valid_single = np.array([[0 for _ in range(basic_function_representation_length)]])\n",
    "y_train_single_model = None#y_train[[index]].shape\n",
    "\n",
    "mult_counter = 1\n",
    "counter = 0\n",
    "for i in range(epochs):\n",
    "    print('Epoch ' + str(i).zfill(3) + '/' + str(epochs).zfill(3))\n",
    "    if i < (epochs-50): #last 50 epochs without change in dataset\n",
    "\n",
    "        if counter == 0:\n",
    "            X_train_single = np.zeros((initial_parameters, number_of_lambda_weights))\n",
    "            for j in range(initial_parameters):\n",
    "                target_network_parameters_mutated = copy.deepcopy(target_network_parameters)\n",
    "\n",
    "                target_network_parameters_range = (np.min(target_network_parameters), np.max(target_network_parameters))\n",
    "                target_network_parameters_differential = target_network_parameters_range[1] - target_network_parameters_range[0]\n",
    "\n",
    "                for _ in range(mutation_number):\n",
    "                    mutation_index = random.randint(0, number_of_lambda_weights-1)\n",
    "                    mutation_level = np.random.normal(loc=0.0, scale=target_network_parameters_differential)\n",
    "                    target_network_parameters_mutated[mutation_index] = target_network_parameters_mutated[mutation_index] + mutation_level\n",
    "\n",
    "                X_train_single[j] = target_network_parameters_mutated\n",
    "\n",
    "        elif counter % (increase_interval_base*mult_counter) == 0:\n",
    "            counter = 0\n",
    "            mult_counter += 1\n",
    "            X_train_single_new = np.zeros((X_train_single.shape[0]*extension_rate, number_of_lambda_weights))\n",
    "            for j1, X_train_single_entry in enumerate(X_train_single):\n",
    "                for j2 in range(extension_rate):\n",
    "                    X_train_single_entry_mutated = copy.deepcopy(X_train_single_entry)\n",
    "\n",
    "                    X_train_single_entry_range = (np.min(X_train_single_entry), np.max(X_train_single_entry))\n",
    "                    X_train_single_entry_differential = X_train_single_entry_range[1] - X_train_single_entry_range[0]\n",
    "\n",
    "                    for _ in range(mutation_number):\n",
    "                        mutation_index = random.randint(0, number_of_lambda_weights-1)\n",
    "                        mutation_level = np.random.normal(loc=0.0, scale=X_train_single_entry_differential)\n",
    "                        X_train_single_entry_mutated[mutation_index] = X_train_single_entry_mutated[mutation_index] + mutation_level\n",
    "\n",
    "                    X_train_single_new[(j2*X_train_single.shape[0])-1+j1] = X_train_single_entry_mutated                \n",
    "\n",
    "            #X_train = X_train_new\n",
    "            X_train_single_list = [X_train_single for _ in range(extension_rate)]\n",
    "            X_train_single_list.append(X_train_single_new)\n",
    "            X_train_single = np.vstack(X_train_single_list)    \n",
    "\n",
    "        y_train_single = np.array([[0 for _ in range(basic_function_representation_length)] for _ in range(X_train_single.shape[0])])\n",
    "        y_train_single_model = np.hstack((y_train_single, X_train_single))   \n",
    "        valid_data_single = (X_valid_single, np.hstack((y_valid_single, X_valid_single)))                   \n",
    "    \n",
    "    #print(X_train_single.shape)\n",
    "    #print(y_train_single_model.shape)\n",
    "    #print(valid_data_single[0].shape, valid_data_single[1].shape)\n",
    "    \n",
    "    \n",
    "    model_history = model.fit(X_train_single,\n",
    "                      y_train_single_model,\n",
    "                      epochs=1, \n",
    "                      batch_size=config['i_net']['batch_size'], \n",
    "                      validation_data=valid_data_single,\n",
    "                      callbacks=callbacks,\n",
    "                      verbose=verbosity)\n",
    "    \n",
    "    if i == 0:\n",
    "        history = model_history.history\n",
    "    else:\n",
    "        history = mergeDict(history, model_history.history)\n",
    "\n",
    "    counter += 1\n",
    "    \n",
    "    tf.keras.backend.clear_session()\n",
    "\n",
    "if nas:\n",
    "    for trial in history: \n",
    "        print(trial.summary())\n",
    "else:\n",
    "    plt.plot(history['loss'])\n",
    "    plt.plot(history['val_loss'])\n",
    "    plt.title('model loss')\n",
    "    plt.ylabel('loss')\n",
    "    plt.xlabel('epoch')\n",
    "    plt.legend(['train', 'valid'], loc='upper left')    "
   ]
  },
  {
   "cell_type": "code",
   "execution_count": 29,
   "metadata": {
    "execution": {
     "iopub.execute_input": "2021-12-04T11:30:53.992973Z",
     "iopub.status.busy": "2021-12-04T11:30:53.992766Z",
     "iopub.status.idle": "2021-12-04T11:30:56.661386Z",
     "shell.execute_reply": "2021-12-04T11:30:56.660692Z",
     "shell.execute_reply.started": "2021-12-04T11:30:53.992943Z"
    },
    "tags": []
   },
   "outputs": [
    {
     "name": "stdout",
     "output_type": "stream",
     "text": [
      "Binary Crossentropy:\t\t 18.366 (Sklearn DT) \t 0.878 (I-Net DT)\n",
      "Accuracy:\t\t 0.468 (Sklearn DT) \t 0.457 (I-Net DT)\n",
      "F1 Score:\t\t 0.04 (Sklearn DT) \t 0.0 (I-Net DT)\n"
     ]
    }
   ],
   "source": [
    "test_network_parameters = shaped_network_parameters_to_array(test_network.get_weights(), config)\n",
    "test_network_dt_inet = model.predict(np.array([test_network_parameters]))[0]\n",
    "\n",
    "if nas:\n",
    "    test_network_dt_inet = test_network_dt_inet[:function_representation_length]\n",
    "\n",
    "X_data_random = generate_random_data_points_custom(config['data']['x_min'], \n",
    "                                                   config['data']['x_max'],\n",
    "                                                   config['evaluation']['random_evaluation_dataset_size'], \n",
    "                                                   config['data']['number_of_variables'], \n",
    "                                                   config['data']['categorical_indices'])\n",
    "\n",
    "y_data_random_test_network_pred = test_network.predict(X_data_random)\n",
    "y_data_random_test_network_pred = np.round(y_data_random_test_network_pred).astype(np.int64)\n",
    "\n",
    "dt_sklearn_distilled = DecisionTreeClassifier(max_depth=config['function_family']['maximum_depth'])\n",
    "dt_sklearn_distilled.fit(X_data_random, y_data_random_test_network_pred)\n",
    "\n",
    "\n",
    "if dt_type == 'SDT':\n",
    "    y_test_inet_dt  = calculate_function_value_from_decision_tree_parameters_wrapper(X_test_adult, config)(test_network_dt_inet).numpy()\n",
    "elif dt_type == 'vanilla':\n",
    "    y_test_inet_dt  = calculate_function_value_from_vanilla_decision_tree_parameters_wrapper(X_test_adult, config)(test_network_dt_inet).numpy()\n",
    "y_test_distilled_sklearn_dt = dt_sklearn_distilled.predict(X_test_adult)\n",
    "\n",
    "y_test_test_network_pred = test_network.predict(X_test_adult)\n",
    "y_test_test_network_pred = np.round(y_test_test_network_pred)\n",
    "\n",
    "binary_crossentropy_distilled_sklearn_dt = log_loss(y_test_test_network_pred, y_test_distilled_sklearn_dt, labels=[0,1])\n",
    "accuracy_distilled_sklearn_dt = accuracy_score(y_test_test_network_pred, np.round(y_test_distilled_sklearn_dt))\n",
    "f1_score_distilled_sklearn_dt = f1_score(y_test_test_network_pred, np.round(y_test_distilled_sklearn_dt))\n",
    "\n",
    "binary_crossentropy_inet_dt = log_loss(y_test_test_network_pred, y_test_inet_dt, labels=[0,1])\n",
    "accuracy_inet_dt = accuracy_score(y_test_test_network_pred, np.round(y_test_inet_dt))\n",
    "f1_score_inet_dt = f1_score(y_test_test_network_pred, np.round(y_test_inet_dt))\n",
    "\n",
    "\n",
    "print('Binary Crossentropy:\\t\\t', np.round(binary_crossentropy_distilled_sklearn_dt, 3), '(Sklearn DT)' , '\\t', np.round(binary_crossentropy_inet_dt, 3), '(I-Net DT)')\n",
    "print('Accuracy:\\t\\t', np.round(accuracy_distilled_sklearn_dt, 3), '(Sklearn DT)' , '\\t', np.round(accuracy_inet_dt, 3), '(I-Net DT)')\n",
    "print('F1 Score:\\t\\t', np.round(f1_score_distilled_sklearn_dt, 3), '(Sklearn DT)' , '\\t', np.round(f1_score_inet_dt, 3), '(I-Net DT)')\n",
    "     \n"
   ]
  },
  {
   "cell_type": "code",
   "execution_count": 30,
   "metadata": {
    "execution": {
     "iopub.execute_input": "2021-12-04T11:30:56.663074Z",
     "iopub.status.busy": "2021-12-04T11:30:56.662734Z",
     "iopub.status.idle": "2021-12-04T11:30:56.678115Z",
     "shell.execute_reply": "2021-12-04T11:30:56.677332Z",
     "shell.execute_reply.started": "2021-12-04T11:30:56.663039Z"
    },
    "tags": []
   },
   "outputs": [
    {
     "name": "stdout",
     "output_type": "stream",
     "text": [
      "tf.Tensor(\n",
      "[[0.5445211  0.         0.         ... 0.         0.         0.        ]\n",
      " [0.5088511  0.         0.         ... 0.         0.         0.        ]\n",
      " [0.4988394  0.         0.         ... 0.         0.         0.        ]\n",
      " ...\n",
      " [0.36439568 0.         0.         ... 0.         0.         0.        ]\n",
      " [0.5847525  0.         0.         ... 0.         0.         0.        ]\n",
      " [0.5431042  0.         0.         ... 0.         0.         0.        ]], shape=(7, 43), dtype=float32) tf.Tensor(\n",
      "[0.7444137  0.7800915  0.7705781  0.76291907 0.80155563 0.73891944\n",
      " 0.79000366 0.725589  ], shape=(8,), dtype=float32)\n"
     ]
    }
   ],
   "source": [
    "splits, leaf_classes = get_shaped_parameters_for_decision_tree(test_network_dt_inet, config)\n",
    "print(splits, leaf_classes)"
   ]
  },
  {
   "cell_type": "code",
   "execution_count": 31,
   "metadata": {
    "execution": {
     "iopub.execute_input": "2021-12-04T11:30:56.679698Z",
     "iopub.status.busy": "2021-12-04T11:30:56.679339Z",
     "iopub.status.idle": "2021-12-04T11:30:56.683364Z",
     "shell.execute_reply": "2021-12-04T11:30:56.682516Z",
     "shell.execute_reply.started": "2021-12-04T11:30:56.679659Z"
    },
    "tags": []
   },
   "outputs": [],
   "source": [
    "#%load_ext autoreload"
   ]
  },
  {
   "cell_type": "code",
   "execution_count": 32,
   "metadata": {
    "execution": {
     "iopub.execute_input": "2021-12-04T11:30:56.684963Z",
     "iopub.status.busy": "2021-12-04T11:30:56.684622Z",
     "iopub.status.idle": "2021-12-04T11:30:58.647865Z",
     "shell.execute_reply": "2021-12-04T11:30:58.644106Z",
     "shell.execute_reply.started": "2021-12-04T11:30:56.684924Z"
    },
    "tags": []
   },
   "outputs": [
    {
     "ename": "ValueError",
     "evalue": "Found array with 0 sample(s) (shape=(0, 1)) while a minimum of 1 is required.",
     "output_type": "error",
     "traceback": [
      "\u001b[0;31m---------------------------------------------------------------------------\u001b[0m",
      "\u001b[0;31mValueError\u001b[0m                                Traceback (most recent call last)",
      "\u001b[0;32m/tmp/ipykernel_1458602/1765805627.py\u001b[0m in \u001b[0;36m<module>\u001b[0;34m\u001b[0m\n\u001b[1;32m      1\u001b[0m \u001b[0;31m#%autoreload 2\u001b[0m\u001b[0;34m\u001b[0m\u001b[0;34m\u001b[0m\u001b[0;34m\u001b[0m\u001b[0m\n\u001b[0;32m----> 2\u001b[0;31m \u001b[0mimage\u001b[0m\u001b[0;34m,\u001b[0m \u001b[0mnodes\u001b[0m \u001b[0;34m=\u001b[0m \u001b[0manytree_decision_tree_from_parameters\u001b[0m\u001b[0;34m(\u001b[0m\u001b[0mtest_network_dt_inet\u001b[0m\u001b[0;34m,\u001b[0m \u001b[0mconfig\u001b[0m\u001b[0;34m=\u001b[0m\u001b[0mconfig\u001b[0m\u001b[0;34m,\u001b[0m \u001b[0mnormalizer_list\u001b[0m\u001b[0;34m=\u001b[0m\u001b[0mnormalizer_list\u001b[0m\u001b[0;34m)\u001b[0m\u001b[0;34m\u001b[0m\u001b[0;34m\u001b[0m\u001b[0m\n\u001b[0m\u001b[1;32m      3\u001b[0m \u001b[0mimage\u001b[0m\u001b[0;34m\u001b[0m\u001b[0;34m\u001b[0m\u001b[0m\n\u001b[1;32m      4\u001b[0m \u001b[0;31m#tree.show()\u001b[0m\u001b[0;34m\u001b[0m\u001b[0;34m\u001b[0m\u001b[0;34m\u001b[0m\u001b[0m\n",
      "\u001b[0;32m/work-ceph/smarton/InES_XAI/03_decision_trees/utilities/utility_functions.py\u001b[0m in \u001b[0;36manytree_decision_tree_from_parameters\u001b[0;34m(dt_parameter_array, config, normalizer_list, path)\u001b[0m\n\u001b[1;32m    994\u001b[0m         \u001b[0;32mfor\u001b[0m \u001b[0mi\u001b[0m\u001b[0;34m,\u001b[0m \u001b[0mcolumn\u001b[0m \u001b[0;32min\u001b[0m \u001b[0menumerate\u001b[0m\u001b[0;34m(\u001b[0m\u001b[0mtranspose\u001b[0m\u001b[0;34m)\u001b[0m\u001b[0;34m:\u001b[0m\u001b[0;34m\u001b[0m\u001b[0;34m\u001b[0m\u001b[0m\n\u001b[1;32m    995\u001b[0m             \u001b[0mcolumn_new\u001b[0m \u001b[0;34m=\u001b[0m \u001b[0mcolumn\u001b[0m\u001b[0;34m\u001b[0m\u001b[0;34m\u001b[0m\u001b[0m\n\u001b[0;32m--> 996\u001b[0;31m             \u001b[0mcolumn_new\u001b[0m\u001b[0;34m[\u001b[0m\u001b[0mcolumn_new\u001b[0m \u001b[0;34m!=\u001b[0m \u001b[0;36m0\u001b[0m\u001b[0;34m]\u001b[0m \u001b[0;34m=\u001b[0m \u001b[0mnormalizer_list\u001b[0m\u001b[0;34m[\u001b[0m\u001b[0mi\u001b[0m\u001b[0;34m]\u001b[0m\u001b[0;34m.\u001b[0m\u001b[0minverse_transform\u001b[0m\u001b[0;34m(\u001b[0m\u001b[0mcolumn\u001b[0m\u001b[0;34m[\u001b[0m\u001b[0mcolumn\u001b[0m \u001b[0;34m!=\u001b[0m \u001b[0;36m0\u001b[0m\u001b[0;34m]\u001b[0m\u001b[0;34m.\u001b[0m\u001b[0mreshape\u001b[0m\u001b[0;34m(\u001b[0m\u001b[0;34m-\u001b[0m\u001b[0;36m1\u001b[0m\u001b[0;34m,\u001b[0m \u001b[0;36m1\u001b[0m\u001b[0;34m)\u001b[0m\u001b[0;34m)\u001b[0m\u001b[0;34m.\u001b[0m\u001b[0mravel\u001b[0m\u001b[0;34m(\u001b[0m\u001b[0;34m)\u001b[0m\u001b[0;34m\u001b[0m\u001b[0;34m\u001b[0m\u001b[0m\n\u001b[0m\u001b[1;32m    997\u001b[0m             \u001b[0;31m#column_new = normalizer_list[i].inverse_transform(column.reshape(-1, 1)).ravel()\u001b[0m\u001b[0;34m\u001b[0m\u001b[0;34m\u001b[0m\u001b[0;34m\u001b[0m\u001b[0m\n\u001b[1;32m    998\u001b[0m             \u001b[0mtranspose_normalized\u001b[0m\u001b[0;34m.\u001b[0m\u001b[0mappend\u001b[0m\u001b[0;34m(\u001b[0m\u001b[0mcolumn_new\u001b[0m\u001b[0;34m)\u001b[0m\u001b[0;34m\u001b[0m\u001b[0;34m\u001b[0m\u001b[0m\n",
      "\u001b[0;32m~/anaconda3/envs/XAI/lib/python3.8/site-packages/sklearn/preprocessing/_data.py\u001b[0m in \u001b[0;36minverse_transform\u001b[0;34m(self, X)\u001b[0m\n\u001b[1;32m    456\u001b[0m         \u001b[0mcheck_is_fitted\u001b[0m\u001b[0;34m(\u001b[0m\u001b[0mself\u001b[0m\u001b[0;34m)\u001b[0m\u001b[0;34m\u001b[0m\u001b[0;34m\u001b[0m\u001b[0m\n\u001b[1;32m    457\u001b[0m \u001b[0;34m\u001b[0m\u001b[0m\n\u001b[0;32m--> 458\u001b[0;31m         X = check_array(X, copy=self.copy, dtype=FLOAT_DTYPES,\n\u001b[0m\u001b[1;32m    459\u001b[0m                         force_all_finite=\"allow-nan\")\n\u001b[1;32m    460\u001b[0m \u001b[0;34m\u001b[0m\u001b[0m\n",
      "\u001b[0;32m~/anaconda3/envs/XAI/lib/python3.8/site-packages/sklearn/utils/validation.py\u001b[0m in \u001b[0;36minner_f\u001b[0;34m(*args, **kwargs)\u001b[0m\n\u001b[1;32m     61\u001b[0m             \u001b[0mextra_args\u001b[0m \u001b[0;34m=\u001b[0m \u001b[0mlen\u001b[0m\u001b[0;34m(\u001b[0m\u001b[0margs\u001b[0m\u001b[0;34m)\u001b[0m \u001b[0;34m-\u001b[0m \u001b[0mlen\u001b[0m\u001b[0;34m(\u001b[0m\u001b[0mall_args\u001b[0m\u001b[0;34m)\u001b[0m\u001b[0;34m\u001b[0m\u001b[0;34m\u001b[0m\u001b[0m\n\u001b[1;32m     62\u001b[0m             \u001b[0;32mif\u001b[0m \u001b[0mextra_args\u001b[0m \u001b[0;34m<=\u001b[0m \u001b[0;36m0\u001b[0m\u001b[0;34m:\u001b[0m\u001b[0;34m\u001b[0m\u001b[0;34m\u001b[0m\u001b[0m\n\u001b[0;32m---> 63\u001b[0;31m                 \u001b[0;32mreturn\u001b[0m \u001b[0mf\u001b[0m\u001b[0;34m(\u001b[0m\u001b[0;34m*\u001b[0m\u001b[0margs\u001b[0m\u001b[0;34m,\u001b[0m \u001b[0;34m**\u001b[0m\u001b[0mkwargs\u001b[0m\u001b[0;34m)\u001b[0m\u001b[0;34m\u001b[0m\u001b[0;34m\u001b[0m\u001b[0m\n\u001b[0m\u001b[1;32m     64\u001b[0m \u001b[0;34m\u001b[0m\u001b[0m\n\u001b[1;32m     65\u001b[0m             \u001b[0;31m# extra_args > 0\u001b[0m\u001b[0;34m\u001b[0m\u001b[0;34m\u001b[0m\u001b[0;34m\u001b[0m\u001b[0m\n",
      "\u001b[0;32m~/anaconda3/envs/XAI/lib/python3.8/site-packages/sklearn/utils/validation.py\u001b[0m in \u001b[0;36mcheck_array\u001b[0;34m(array, accept_sparse, accept_large_sparse, dtype, order, copy, force_all_finite, ensure_2d, allow_nd, ensure_min_samples, ensure_min_features, estimator)\u001b[0m\n\u001b[1;32m    724\u001b[0m         \u001b[0mn_samples\u001b[0m \u001b[0;34m=\u001b[0m \u001b[0m_num_samples\u001b[0m\u001b[0;34m(\u001b[0m\u001b[0marray\u001b[0m\u001b[0;34m)\u001b[0m\u001b[0;34m\u001b[0m\u001b[0;34m\u001b[0m\u001b[0m\n\u001b[1;32m    725\u001b[0m         \u001b[0;32mif\u001b[0m \u001b[0mn_samples\u001b[0m \u001b[0;34m<\u001b[0m \u001b[0mensure_min_samples\u001b[0m\u001b[0;34m:\u001b[0m\u001b[0;34m\u001b[0m\u001b[0;34m\u001b[0m\u001b[0m\n\u001b[0;32m--> 726\u001b[0;31m             raise ValueError(\"Found array with %d sample(s) (shape=%s) while a\"\n\u001b[0m\u001b[1;32m    727\u001b[0m                              \u001b[0;34m\" minimum of %d is required%s.\"\u001b[0m\u001b[0;34m\u001b[0m\u001b[0;34m\u001b[0m\u001b[0m\n\u001b[1;32m    728\u001b[0m                              % (n_samples, array.shape, ensure_min_samples,\n",
      "\u001b[0;31mValueError\u001b[0m: Found array with 0 sample(s) (shape=(0, 1)) while a minimum of 1 is required."
     ]
    }
   ],
   "source": [
    "#%autoreload 2\n",
    "image, nodes = anytree_decision_tree_from_parameters(test_network_dt_inet, config=config, normalizer_list=normalizer_list)\n",
    "image\n",
    "#tree.show()"
   ]
  },
  {
   "cell_type": "code",
   "execution_count": null,
   "metadata": {
    "execution": {
     "iopub.status.busy": "2021-12-04T11:30:58.648600Z",
     "iopub.status.idle": "2021-12-04T11:30:58.648963Z",
     "shell.execute_reply": "2021-12-04T11:30:58.648816Z",
     "shell.execute_reply.started": "2021-12-04T11:30:58.648798Z"
    },
    "tags": []
   },
   "outputs": [],
   "source": [
    "plt.figure(figsize=(24,12))  # set plot size (denoted in inches)\n",
    "plot_tree(dt_sklearn_distilled, fontsize=12)\n",
    "plt.show()"
   ]
  },
  {
   "cell_type": "code",
   "execution_count": null,
   "metadata": {
    "execution": {
     "iopub.status.busy": "2021-12-04T11:30:58.649958Z",
     "iopub.status.idle": "2021-12-04T11:30:58.650304Z",
     "shell.execute_reply": "2021-12-04T11:30:58.650160Z",
     "shell.execute_reply.started": "2021-12-04T11:30:58.650142Z"
    },
    "tags": []
   },
   "outputs": [],
   "source": [
    "del model"
   ]
  },
  {
   "cell_type": "markdown",
   "metadata": {},
   "source": [
    "## Titanic Dataset"
   ]
  },
  {
   "cell_type": "code",
   "execution_count": null,
   "metadata": {
    "execution": {
     "iopub.status.busy": "2021-12-04T11:30:58.651263Z",
     "iopub.status.idle": "2021-12-04T11:30:58.651595Z",
     "shell.execute_reply": "2021-12-04T11:30:58.651451Z",
     "shell.execute_reply.started": "2021-12-04T11:30:58.651434Z"
    },
    "tags": []
   },
   "outputs": [],
   "source": [
    "titanic_data = pd.read_csv(\"./real_world_datasets/Titanic/train.csv\")\n",
    "\n",
    "titanic_data.head()"
   ]
  },
  {
   "cell_type": "code",
   "execution_count": null,
   "metadata": {
    "execution": {
     "iopub.status.busy": "2021-12-04T11:30:58.652528Z",
     "iopub.status.idle": "2021-12-04T11:30:58.652851Z",
     "shell.execute_reply": "2021-12-04T11:30:58.652708Z",
     "shell.execute_reply.started": "2021-12-04T11:30:58.652692Z"
    },
    "tags": []
   },
   "outputs": [],
   "source": [
    "titanic_data.describe()"
   ]
  },
  {
   "cell_type": "code",
   "execution_count": null,
   "metadata": {
    "execution": {
     "iopub.status.busy": "2021-12-04T11:30:58.653771Z",
     "iopub.status.idle": "2021-12-04T11:30:58.654110Z",
     "shell.execute_reply": "2021-12-04T11:30:58.653958Z",
     "shell.execute_reply.started": "2021-12-04T11:30:58.653940Z"
    },
    "tags": []
   },
   "outputs": [],
   "source": [
    "titanic_data.info()"
   ]
  },
  {
   "cell_type": "code",
   "execution_count": null,
   "metadata": {
    "execution": {
     "iopub.status.busy": "2021-12-04T11:30:58.655028Z",
     "iopub.status.idle": "2021-12-04T11:30:58.655356Z",
     "shell.execute_reply": "2021-12-04T11:30:58.655213Z",
     "shell.execute_reply.started": "2021-12-04T11:30:58.655195Z"
    },
    "tags": []
   },
   "outputs": [],
   "source": [
    "titanic_data = titanic_data.drop(['Cabin', 'Ticket', 'Name', 'PassengerId'], axis = 1)\n"
   ]
  },
  {
   "cell_type": "code",
   "execution_count": null,
   "metadata": {
    "execution": {
     "iopub.status.busy": "2021-12-04T11:30:58.656249Z",
     "iopub.status.idle": "2021-12-04T11:30:58.656572Z",
     "shell.execute_reply": "2021-12-04T11:30:58.656428Z",
     "shell.execute_reply.started": "2021-12-04T11:30:58.656411Z"
    },
    "tags": []
   },
   "outputs": [],
   "source": [
    "titanic_data.isnull().sum()"
   ]
  },
  {
   "cell_type": "code",
   "execution_count": null,
   "metadata": {
    "execution": {
     "iopub.status.busy": "2021-12-04T11:30:58.657484Z",
     "iopub.status.idle": "2021-12-04T11:30:58.657856Z",
     "shell.execute_reply": "2021-12-04T11:30:58.657712Z",
     "shell.execute_reply.started": "2021-12-04T11:30:58.657695Z"
    },
    "tags": []
   },
   "outputs": [],
   "source": [
    "titanic_data['Age'].fillna(titanic_data['Age'].mean(), inplace = True)\n",
    "#titanic_data['Fare'].fillna(titanic_data['Fare'].mean(), inplace = True)\n",
    "    \n",
    "titanic_data['Embarked'].fillna('S', inplace = True)\n",
    "titanic_data.head()"
   ]
  },
  {
   "cell_type": "markdown",
   "metadata": {},
   "source": [
    "    survival\tSurvival\t0 = No, 1 = Yes\n",
    "    pclass\tTicket class\t1 = 1st, 2 = 2nd, 3 = 3rd\n",
    "    sex\tSex\t\n",
    "    Age\tAge in years\t\n",
    "    sibsp\t# of siblings / spouses aboard the Titanic\t\n",
    "    parch\t# of parents / children aboard the Titanic\t\n",
    "    ticket\tTicket number\t\n",
    "    fare\tPassenger fare\t\n",
    "    cabin\tCabin number\t\n",
    "    embarked\tPort of Embarkation\tC = Cherbourg, Q = Queenstown, S = Southampton"
   ]
  },
  {
   "cell_type": "code",
   "execution_count": null,
   "metadata": {
    "execution": {
     "iopub.status.busy": "2021-12-04T11:30:58.658793Z",
     "iopub.status.idle": "2021-12-04T11:30:58.659114Z",
     "shell.execute_reply": "2021-12-04T11:30:58.658972Z",
     "shell.execute_reply.started": "2021-12-04T11:30:58.658955Z"
    },
    "tags": []
   },
   "outputs": [],
   "source": [
    "features_select = [\n",
    "                    'Pclass',\n",
    "                    'Sex',    \n",
    "                    'Age',\n",
    "                    'SibSp',    \n",
    "                    'Parch',\n",
    "                    'Fare',    \n",
    "                    'Embarked',\n",
    "                    'Survived',    \n",
    "                  ]\n",
    "\n",
    "titanic_data = titanic_data[features_select]\n",
    "\n",
    "categorical_features = ['Embarked', 'Pclass']#[1, 2, 7]\n",
    "ordinal_features = ['Sex']\n",
    "\n",
    "transformer = ColumnTransformer(transformers=[('cat', OneHotEncoder(), categorical_features)], remainder='passthrough', sparse_threshold=0)\n",
    "transformer.fit(titanic_data)\n",
    "\n",
    "titanic_data = transformer.transform(titanic_data)\n",
    "titanic_data = pd.DataFrame(titanic_data, columns=transformer.get_feature_names())\n",
    "\n",
    "for ordinal_feature in ordinal_features:\n",
    "    titanic_data[ordinal_feature] = OrdinalEncoder().fit_transform(titanic_data[ordinal_feature].values.reshape(-1, 1)).flatten()\n",
    "\n",
    "titanic_data = titanic_data.astype(np.float64)\n",
    "\n",
    "    \n",
    "X_data_titanic = titanic_data.drop(['Survived'], axis = 1)\n",
    "y_data_titanic = titanic_data['Survived']\n",
    "X_data_titanic.head()"
   ]
  },
  {
   "cell_type": "markdown",
   "metadata": {},
   "source": [
    "    survival\tSurvival\t0 = No, 1 = Yes\n",
    "    pclass\tTicket class\t1 = 1st, 2 = 2nd, 3 = 3rd\n",
    "    sex\tSex\t\n",
    "    Age\tAge in years\t\n",
    "    sibsp\t# of siblings / spouses aboard the Titanic\t\n",
    "    parch\t# of parents / children aboard the Titanic\t\n",
    "    ticket\tTicket number\t\n",
    "    fare\tPassenger fare\t\n",
    "    cabin\tCabin number\t\n",
    "    embarked\tPort of Embarkation\tC = Cherbourg, Q = Queenstown, S = Southampton"
   ]
  },
  {
   "cell_type": "code",
   "execution_count": null,
   "metadata": {
    "execution": {
     "iopub.status.busy": "2021-12-04T11:30:58.660065Z",
     "iopub.status.idle": "2021-12-04T11:30:58.660391Z",
     "shell.execute_reply": "2021-12-04T11:30:58.660249Z",
     "shell.execute_reply.started": "2021-12-04T11:30:58.660232Z"
    },
    "tags": []
   },
   "outputs": [],
   "source": [
    "number_of_variables = X_data_titanic.shape[1]\n",
    "config['data']['number_of_variables'] = number_of_variables\n",
    "\n",
    "\n",
    "number_of_lambda_weights = get_number_of_lambda_net_parameters(lambda_network_layers, number_of_variables, num_classes)\n",
    "config['lambda_net']['number_of_lambda_weights'] = number_of_lambda_weights\n",
    "\n",
    "\n",
    "basic_function_representation_length = get_number_of_function_parameters(dt_type, maximum_depth, number_of_variables, num_classes)\n",
    "config['function_family']['basic_function_representation_length'] = basic_function_representation_length\n",
    "\n",
    "\n",
    "function_representation_length= ( \n",
    "       #((2 ** maximum_depth - 1) * decision_sparsity) * 2 + (2 ** maximum_depth - 1) + (2 ** maximum_depth) * num_classes  if function_representation_type == 1 and dt_type == 'SDT'\n",
    "       (2 ** maximum_depth - 1) * (number_of_variables + 1) + (2 ** maximum_depth) * number_of_classes if function_representation_type == 1 and dt_type == 'SDT'\n",
    "  else (2 ** maximum_depth - 1) * decision_sparsity + (2 ** maximum_depth - 1) + ((2 ** maximum_depth - 1)  * decision_sparsity * number_of_variables) + (2 ** maximum_depth) * num_classes if function_representation_type == 2 and dt_type == 'SDT'\n",
    "  else ((2 ** maximum_depth - 1) * decision_sparsity) * 2 + (2 ** maximum_depth)  if function_representation_type == 1 and dt_type == 'vanilla'\n",
    "  else (2 ** maximum_depth - 1) * decision_sparsity + ((2 ** maximum_depth - 1)  * decision_sparsity * number_of_variables) + (2 ** maximum_depth) if function_representation_type == 2 and dt_type == 'vanilla'\n",
    "  else None\n",
    "                                                            )\n",
    "config['function_family']['function_representation_length'] = function_representation_length"
   ]
  },
  {
   "cell_type": "code",
   "execution_count": null,
   "metadata": {
    "execution": {
     "iopub.status.busy": "2021-12-04T11:30:58.661324Z",
     "iopub.status.idle": "2021-12-04T11:30:58.661647Z",
     "shell.execute_reply": "2021-12-04T11:30:58.661505Z",
     "shell.execute_reply.started": "2021-12-04T11:30:58.661488Z"
    },
    "tags": []
   },
   "outputs": [],
   "source": [
    "categorical_indices = []\n",
    "\n",
    "for i, (column_name, column) in enumerate(X_data_titanic.iteritems()):\n",
    "    if len(column.value_counts()) == 2:\n",
    "        categorical_indices.append(i)\n",
    "print(categorical_indices)\n",
    "\n",
    "config['data']['categorical_indices'] = categorical_indices"
   ]
  },
  {
   "cell_type": "code",
   "execution_count": null,
   "metadata": {
    "execution": {
     "iopub.status.busy": "2021-12-04T11:30:58.662577Z",
     "iopub.status.idle": "2021-12-04T11:30:58.662901Z",
     "shell.execute_reply": "2021-12-04T11:30:58.662760Z",
     "shell.execute_reply.started": "2021-12-04T11:30:58.662743Z"
    },
    "tags": []
   },
   "outputs": [],
   "source": [
    "normalizer_list = []\n",
    "for column_name in X_data_titanic:\n",
    "    scaler = MinMaxScaler()\n",
    "    scaler.fit(X_data_titanic[column_name].values.reshape(-1, 1))\n",
    "    X_data_titanic[column_name] = scaler.transform(X_data_titanic[column_name].values.reshape(-1, 1)).ravel()\n",
    "    normalizer_list.append(scaler)\n",
    "X_data_titanic.head()"
   ]
  },
  {
   "cell_type": "code",
   "execution_count": null,
   "metadata": {
    "execution": {
     "iopub.status.busy": "2021-12-04T11:30:58.663830Z",
     "iopub.status.idle": "2021-12-04T11:30:58.664152Z",
     "shell.execute_reply": "2021-12-04T11:30:58.664012Z",
     "shell.execute_reply.started": "2021-12-04T11:30:58.663995Z"
    },
    "tags": []
   },
   "outputs": [],
   "source": [
    "y_data_titanic"
   ]
  },
  {
   "cell_type": "code",
   "execution_count": null,
   "metadata": {
    "execution": {
     "iopub.status.busy": "2021-12-04T11:30:58.665080Z",
     "iopub.status.idle": "2021-12-04T11:30:58.665404Z",
     "shell.execute_reply": "2021-12-04T11:30:58.665262Z",
     "shell.execute_reply.started": "2021-12-04T11:30:58.665245Z"
    },
    "tags": []
   },
   "outputs": [],
   "source": [
    "true_labels = len(y_data_titanic[y_data_titanic >= 0.5 ]) \n",
    "false_labels = len(y_data_titanic[y_data_titanic < 0.5 ]) \n",
    "\n",
    "true_ratio = true_labels/(true_labels+false_labels)\n",
    "\n",
    "print('True Ratio: ', str(true_ratio))"
   ]
  },
  {
   "cell_type": "code",
   "execution_count": null,
   "metadata": {
    "execution": {
     "iopub.status.busy": "2021-12-04T11:30:58.666447Z",
     "iopub.status.idle": "2021-12-04T11:30:58.666775Z",
     "shell.execute_reply": "2021-12-04T11:30:58.666631Z",
     "shell.execute_reply.started": "2021-12-04T11:30:58.666614Z"
    },
    "tags": []
   },
   "outputs": [],
   "source": [
    "if true_ratio <= 0.4 or true_ratio >= 0.6:\n",
    "    from imblearn.over_sampling import RandomOverSampler \n",
    "\n",
    "    oversample = RandomOverSampler(sampling_strategy='minority')\n",
    "\n",
    "    X_data_titanic, y_data_titanic = oversample.fit_resample(X_data_titanic, y_data_titanic)\n",
    "\n",
    "    true_labels = len(y_data_titanic[y_data_titanic >= 0.5 ]) \n",
    "    false_labels = len(y_data_titanic[y_data_titanic < 0.5 ]) \n",
    "\n",
    "    print('True Ratio: ', str(true_labels/(true_labels+false_labels)))"
   ]
  },
  {
   "cell_type": "code",
   "execution_count": null,
   "metadata": {
    "execution": {
     "iopub.status.busy": "2021-12-04T11:30:58.667724Z",
     "iopub.status.idle": "2021-12-04T11:30:58.668045Z",
     "shell.execute_reply": "2021-12-04T11:30:58.667902Z",
     "shell.execute_reply.started": "2021-12-04T11:30:58.667886Z"
    },
    "tags": []
   },
   "outputs": [],
   "source": [
    "X_train_titanic_with_valid, X_test_titanic, y_train_titanic_with_valid, y_test_titanic = train_test_split(X_data_titanic, y_data_titanic, train_size=0.8)\n",
    "X_train_titanic, X_valid_titanic, y_train_titanic, y_valid_titanic = train_test_split(X_train_titanic_with_valid, y_train_titanic_with_valid, train_size=0.8)\n",
    "\n",
    "print(X_train_titanic.shape, y_train_titanic.shape)\n",
    "print(X_valid_titanic.shape, y_valid_titanic.shape)\n",
    "print(X_test_titanic.shape, y_test_titanic.shape)"
   ]
  },
  {
   "cell_type": "code",
   "execution_count": null,
   "metadata": {
    "execution": {
     "iopub.status.busy": "2021-12-04T11:30:58.668984Z",
     "iopub.status.idle": "2021-12-04T11:30:58.669314Z",
     "shell.execute_reply": "2021-12-04T11:30:58.669167Z",
     "shell.execute_reply.started": "2021-12-04T11:30:58.669151Z"
    },
    "tags": []
   },
   "outputs": [],
   "source": [
    "test_network = generate_lambda_net_from_config(config)\n",
    "\n",
    "early_stopping = tf.keras.callbacks.EarlyStopping(monitor='val_loss', \n",
    "                                                  patience=50, \n",
    "                                                  min_delta=0.001, \n",
    "                                                  verbose=0, \n",
    "                                                  mode='min', \n",
    "                                                  restore_best_weights=True)\n",
    "\n",
    "model_history = test_network.fit(X_train_titanic,\n",
    "                                  y_train_titanic, \n",
    "                                  epochs=config['lambda_net']['epochs_lambda'], \n",
    "                                  batch_size=config['lambda_net']['batch_lambda'], \n",
    "                                  callbacks=[early_stopping, PlotLossesKerasTF()],\n",
    "                                  validation_data=(X_valid_titanic, y_valid_titanic),\n",
    "                                  verbose=0)\n",
    "\n"
   ]
  },
  {
   "cell_type": "code",
   "execution_count": null,
   "metadata": {
    "execution": {
     "iopub.status.busy": "2021-12-04T11:30:58.670251Z",
     "iopub.status.idle": "2021-12-04T11:30:58.670575Z",
     "shell.execute_reply": "2021-12-04T11:30:58.670431Z",
     "shell.execute_reply.started": "2021-12-04T11:30:58.670415Z"
    },
    "tags": []
   },
   "outputs": [],
   "source": [
    "test_network.summary()"
   ]
  },
  {
   "cell_type": "code",
   "execution_count": null,
   "metadata": {
    "execution": {
     "iopub.status.busy": "2021-12-04T11:30:58.671601Z",
     "iopub.status.idle": "2021-12-04T11:30:58.671939Z",
     "shell.execute_reply": "2021-12-04T11:30:58.671795Z",
     "shell.execute_reply.started": "2021-12-04T11:30:58.671778Z"
    },
    "tags": []
   },
   "outputs": [],
   "source": [
    "model = generate_inet(config)\n",
    "\n",
    "target_network_parameters = shaped_network_parameters_to_array(test_network.get_weights(), config)\n",
    "\n",
    "callback_names = []\n",
    "if config['i_net']['early_stopping']:\n",
    "    callback_names.append('early_stopping')\n",
    "\n",
    "callbacks = return_callbacks_from_string(callback_names)  \n",
    "\n",
    "verbosity = 1\n",
    "\n",
    "#%autoreload 2\n",
    "############################## PREDICTION ###############################\n",
    "X_valid_single = np.array([target_network_parameters])\n",
    "X_train_single = None\n",
    "\n",
    "\n",
    "y_valid_single = np.array([[0 for _ in range(basic_function_representation_length)]])\n",
    "y_train_model_single = None#y_train[[index]].shape\n",
    "\n",
    "mult_counter = 1\n",
    "counter = 0\n",
    "for i in range(epochs):\n",
    "    print('Epoch ' + str(i).zfill(3) + '/' + str(epochs).zfill(3))\n",
    "    if i < (epochs-50): #last 50 epochs without change in dataset\n",
    "\n",
    "        if counter == 0:\n",
    "            X_train_single = np.zeros((initial_parameters, number_of_lambda_weights))\n",
    "            for j in range(initial_parameters):\n",
    "                target_network_parameters_mutated = copy.deepcopy(target_network_parameters)\n",
    "\n",
    "                target_network_parameters_range = (np.min(target_network_parameters), np.max(target_network_parameters))\n",
    "                target_network_parameters_differential = target_network_parameters_range[1] - target_network_parameters_range[0]\n",
    "\n",
    "                for _ in range(mutation_number):\n",
    "                    mutation_index = random.randint(0, number_of_lambda_weights-1)\n",
    "                    mutation_level = np.random.normal(loc=0.0, scale=target_network_parameters_differential)\n",
    "                    target_network_parameters_mutated[mutation_index] = target_network_parameters_mutated[mutation_index] + mutation_level\n",
    "\n",
    "                X_train_single[j] = target_network_parameters_mutated\n",
    "\n",
    "        elif counter % (increase_interval_base*mult_counter) == 0:\n",
    "            counter = 0\n",
    "            mult_counter += 1\n",
    "            X_train_single_new = np.zeros((X_train_single.shape[0]*extension_rate, number_of_lambda_weights))\n",
    "            for j1, X_train_single_entry in enumerate(X_train_single):\n",
    "                for j2 in range(extension_rate):\n",
    "                    X_train_single_entry_mutated = copy.deepcopy(X_train_single_entry)\n",
    "\n",
    "                    X_train_single_entry_range = (np.min(X_train_single_entry), np.max(X_train_single_entry))\n",
    "                    X_train_single_entry_differential = X_train_single_entry_range[1] - X_train_single_entry_range[0]\n",
    "\n",
    "                    for _ in range(mutation_number):\n",
    "                        mutation_index = random.randint(0, number_of_lambda_weights-1)\n",
    "                        mutation_level = np.random.normal(loc=0.0, scale=X_train_single_entry_differential)\n",
    "                        X_train_single_entry_mutated[mutation_index] = X_train_single_entry_mutated[mutation_index] + mutation_level\n",
    "\n",
    "                    X_train_single_new[(j2*X_train_single.shape[0])-1+j1] = X_train_single_entry_mutated                \n",
    "\n",
    "            #X_train = X_train_new\n",
    "            X_train_single_list = [X_train_single for _ in range(extension_rate)]\n",
    "            X_train_single_list.append(X_train_single_new)\n",
    "            X_train_single = np.vstack(X_train_single_list)    \n",
    "\n",
    "        y_train_single = np.array([[0 for _ in range(basic_function_representation_length)] for _ in range(X_train_single.shape[0])])\n",
    "        y_train_single_model = np.hstack((y_train_single, X_train_single))   \n",
    "        valid_data_single = (X_valid_single, np.hstack((y_valid_single, X_valid_single)))                   \n",
    "    \n",
    "    #print(X_train_single.shape)\n",
    "    #print(y_train_single_model.shape)\n",
    "    #print(valid_data_single[0].shape, valid_data_single[1].shape)\n",
    "    \n",
    "    \n",
    "    model_history = model.fit(X_train_single,\n",
    "                      y_train_single_model,\n",
    "                      epochs=1, \n",
    "                      batch_size=config['i_net']['batch_size'], \n",
    "                      validation_data=valid_data_single,\n",
    "                      callbacks=callbacks,\n",
    "                      verbose=verbosity)\n",
    "    \n",
    "    if i == 0:\n",
    "        history = model_history.history\n",
    "    else:\n",
    "        history = mergeDict(history, model_history.history)\n",
    "\n",
    "    counter += 1\n",
    "    \n",
    "    tf.keras.backend.clear_session()\n",
    "\n",
    "if nas:\n",
    "    for trial in history: \n",
    "        print(trial.summary())\n",
    "else:\n",
    "    plt.plot(history['loss'])\n",
    "    plt.plot(history['val_loss'])\n",
    "    plt.title('model loss')\n",
    "    plt.ylabel('loss')\n",
    "    plt.xlabel('epoch')\n",
    "    plt.legend(['train', 'valid'], loc='upper left')    "
   ]
  },
  {
   "cell_type": "code",
   "execution_count": null,
   "metadata": {
    "execution": {
     "iopub.status.busy": "2021-12-04T11:30:58.672818Z",
     "iopub.status.idle": "2021-12-04T11:30:58.673140Z",
     "shell.execute_reply": "2021-12-04T11:30:58.672998Z",
     "shell.execute_reply.started": "2021-12-04T11:30:58.672982Z"
    },
    "tags": []
   },
   "outputs": [],
   "source": [
    "config['data']['number_of_variables']"
   ]
  },
  {
   "cell_type": "code",
   "execution_count": null,
   "metadata": {
    "execution": {
     "iopub.status.busy": "2021-12-04T11:30:58.674144Z",
     "iopub.status.idle": "2021-12-04T11:30:58.674483Z",
     "shell.execute_reply": "2021-12-04T11:30:58.674338Z",
     "shell.execute_reply.started": "2021-12-04T11:30:58.674322Z"
    },
    "tags": []
   },
   "outputs": [],
   "source": [
    "test_network_parameters = shaped_network_parameters_to_array(test_network.get_weights(), config)\n",
    "test_network_dt_inet = model.predict(np.array([test_network_parameters]))[0]\n",
    "\n",
    "if nas:\n",
    "    test_network_dt_inet = test_network_dt_inet[:function_representation_length]\n",
    "\n",
    "X_data_random = generate_random_data_points_custom(config['data']['x_min'], \n",
    "                                                   config['data']['x_max'],\n",
    "                                                   config['evaluation']['random_evaluation_dataset_size'], \n",
    "                                                   config['data']['number_of_variables'], \n",
    "                                                   config['data']['categorical_indices'])\n",
    "#X_data_random = X_train_titanic.values#generate_random_data_points_custom(config['data']['x_min'], config['data']['x_max'], 30, config['data']['number_of_variables'])\n",
    "\n",
    "y_data_random_test_network_pred = test_network.predict(X_data_random)\n",
    "y_data_random_test_network_pred = np.round(y_data_random_test_network_pred).astype(np.int64)\n",
    "\n",
    "dt_sklearn_distilled = DecisionTreeClassifier(max_depth=config['function_family']['maximum_depth'])\n",
    "dt_sklearn_distilled.fit(X_data_random, y_data_random_test_network_pred)\n",
    "\n",
    "\n",
    "if dt_type == 'SDT':\n",
    "    y_test_inet_dt  = calculate_function_value_from_decision_tree_parameters_wrapper(X_test_titanic, config)(test_network_dt_inet).numpy()\n",
    "elif dt_type == 'vanilla':\n",
    "    y_test_inet_dt  = calculate_function_value_from_vanilla_decision_tree_parameters_wrapper(X_test_titanic, config)(test_network_dt_inet).numpy()\n",
    "y_test_distilled_sklearn_dt = dt_sklearn_distilled.predict(X_test_titanic)\n",
    "\n",
    "y_test_test_network_pred = test_network.predict(X_test_titanic)\n",
    "y_test_test_network_pred = np.round(y_test_test_network_pred)\n",
    "\n",
    "binary_crossentropy_distilled_sklearn_dt = log_loss(y_test_test_network_pred, y_test_distilled_sklearn_dt, labels=[0,1])\n",
    "accuracy_distilled_sklearn_dt = accuracy_score(y_test_test_network_pred, np.round(y_test_distilled_sklearn_dt))\n",
    "f1_score_distilled_sklearn_dt = f1_score(y_test_test_network_pred, np.round(y_test_distilled_sklearn_dt))\n",
    "\n",
    "binary_crossentropy_inet_dt = log_loss(y_test_test_network_pred, y_test_inet_dt, labels=[0,1])\n",
    "accuracy_inet_dt = accuracy_score(y_test_test_network_pred, np.round(y_test_inet_dt))\n",
    "f1_score_inet_dt = f1_score(y_test_test_network_pred, np.round(y_test_inet_dt))\n",
    "\n",
    "\n",
    "print('Binary Crossentropy:\\t\\t', np.round(binary_crossentropy_distilled_sklearn_dt, 3), '(Sklearn DT)' , '\\t', np.round(binary_crossentropy_inet_dt, 3), '(I-Net DT)')\n",
    "print('Accuracy:\\t\\t', np.round(accuracy_distilled_sklearn_dt, 3), '(Sklearn DT)' , '\\t', np.round(accuracy_inet_dt, 3), '(I-Net DT)')\n",
    "print('F1 Score:\\t\\t', np.round(f1_score_distilled_sklearn_dt, 3), '(Sklearn DT)' , '\\t', np.round(f1_score_inet_dt, 3), '(I-Net DT)')\n",
    "     \n"
   ]
  },
  {
   "cell_type": "code",
   "execution_count": null,
   "metadata": {
    "execution": {
     "iopub.status.busy": "2021-12-04T11:30:58.675348Z",
     "iopub.status.idle": "2021-12-04T11:30:58.675672Z",
     "shell.execute_reply": "2021-12-04T11:30:58.675529Z",
     "shell.execute_reply.started": "2021-12-04T11:30:58.675512Z"
    },
    "tags": []
   },
   "outputs": [],
   "source": [
    "X_data_titanic.head(5)"
   ]
  },
  {
   "cell_type": "code",
   "execution_count": null,
   "metadata": {
    "execution": {
     "iopub.status.busy": "2021-12-04T11:30:58.676654Z",
     "iopub.status.idle": "2021-12-04T11:30:58.677004Z",
     "shell.execute_reply": "2021-12-04T11:30:58.676860Z",
     "shell.execute_reply.started": "2021-12-04T11:30:58.676844Z"
    },
    "tags": []
   },
   "outputs": [],
   "source": [
    "#%autoreload 2\n",
    "image, nodes = anytree_decision_tree_from_parameters(test_network_dt_inet, config=config, normalizer_list=normalizer_list)\n",
    "image\n",
    "#tree.show()"
   ]
  },
  {
   "cell_type": "code",
   "execution_count": null,
   "metadata": {
    "execution": {
     "iopub.status.busy": "2021-12-04T11:30:58.678012Z",
     "iopub.status.idle": "2021-12-04T11:30:58.678369Z",
     "shell.execute_reply": "2021-12-04T11:30:58.678226Z",
     "shell.execute_reply.started": "2021-12-04T11:30:58.678208Z"
    },
    "tags": []
   },
   "outputs": [],
   "source": [
    "plt.figure(figsize=(24,12))  # set plot size (denoted in inches)\n",
    "plot_tree(dt_sklearn_distilled, fontsize=12)\n",
    "plt.show()"
   ]
  },
  {
   "cell_type": "code",
   "execution_count": null,
   "metadata": {
    "execution": {
     "iopub.status.busy": "2021-12-04T11:30:58.679288Z",
     "iopub.status.idle": "2021-12-04T11:30:58.679572Z",
     "shell.execute_reply": "2021-12-04T11:30:58.679430Z",
     "shell.execute_reply.started": "2021-12-04T11:30:58.679414Z"
    },
    "tags": []
   },
   "outputs": [],
   "source": [
    "y_test_test_network_pred[:50].ravel()"
   ]
  },
  {
   "cell_type": "code",
   "execution_count": null,
   "metadata": {
    "execution": {
     "iopub.status.busy": "2021-12-04T11:30:58.680654Z",
     "iopub.status.idle": "2021-12-04T11:30:58.680994Z",
     "shell.execute_reply": "2021-12-04T11:30:58.680852Z",
     "shell.execute_reply.started": "2021-12-04T11:30:58.680835Z"
    },
    "tags": []
   },
   "outputs": [],
   "source": [
    "y_test_distilled_sklearn_dt[:50].ravel()"
   ]
  },
  {
   "cell_type": "code",
   "execution_count": null,
   "metadata": {
    "execution": {
     "iopub.status.busy": "2021-12-04T11:30:58.682002Z",
     "iopub.status.idle": "2021-12-04T11:30:58.682350Z",
     "shell.execute_reply": "2021-12-04T11:30:58.682207Z",
     "shell.execute_reply.started": "2021-12-04T11:30:58.682190Z"
    },
    "tags": []
   },
   "outputs": [],
   "source": [
    "np.round(y_test_inet_dt[:50]).ravel()"
   ]
  },
  {
   "cell_type": "code",
   "execution_count": null,
   "metadata": {
    "execution": {
     "iopub.status.busy": "2021-12-04T11:30:58.683300Z",
     "iopub.status.idle": "2021-12-04T11:30:58.683638Z",
     "shell.execute_reply": "2021-12-04T11:30:58.683495Z",
     "shell.execute_reply.started": "2021-12-04T11:30:58.683478Z"
    },
    "tags": []
   },
   "outputs": [],
   "source": [
    "del model"
   ]
  },
  {
   "cell_type": "markdown",
   "metadata": {},
   "source": [
    "## Absenteeism at Work Dataset"
   ]
  },
  {
   "cell_type": "code",
   "execution_count": null,
   "metadata": {
    "execution": {
     "iopub.status.busy": "2021-12-04T11:30:58.684612Z",
     "iopub.status.idle": "2021-12-04T11:30:58.684943Z",
     "shell.execute_reply": "2021-12-04T11:30:58.684800Z",
     "shell.execute_reply.started": "2021-12-04T11:30:58.684783Z"
    },
    "tags": []
   },
   "outputs": [],
   "source": [
    "absenteeism_data = pd.read_csv('real_world_datasets/Absenteeism/absenteeism.csv', delimiter=';')\n",
    "\n",
    "absenteeism_data.head()"
   ]
  },
  {
   "cell_type": "code",
   "execution_count": null,
   "metadata": {
    "execution": {
     "iopub.status.busy": "2021-12-04T11:30:58.685913Z",
     "iopub.status.idle": "2021-12-04T11:30:58.686259Z",
     "shell.execute_reply": "2021-12-04T11:30:58.686116Z",
     "shell.execute_reply.started": "2021-12-04T11:30:58.686098Z"
    },
    "tags": []
   },
   "outputs": [],
   "source": [
    "absenteeism_data.describe()"
   ]
  },
  {
   "cell_type": "code",
   "execution_count": null,
   "metadata": {
    "execution": {
     "iopub.status.busy": "2021-12-04T11:30:58.687251Z",
     "iopub.status.idle": "2021-12-04T11:30:58.687593Z",
     "shell.execute_reply": "2021-12-04T11:30:58.687450Z",
     "shell.execute_reply.started": "2021-12-04T11:30:58.687432Z"
    },
    "tags": []
   },
   "outputs": [],
   "source": [
    "absenteeism_data.info()"
   ]
  },
  {
   "cell_type": "code",
   "execution_count": null,
   "metadata": {
    "execution": {
     "iopub.status.busy": "2021-12-04T11:30:58.688573Z",
     "iopub.status.idle": "2021-12-04T11:30:58.688915Z",
     "shell.execute_reply": "2021-12-04T11:30:58.688771Z",
     "shell.execute_reply.started": "2021-12-04T11:30:58.688754Z"
    },
    "tags": []
   },
   "outputs": [],
   "source": [
    "absenteeism_data.isnull().sum()"
   ]
  },
  {
   "cell_type": "code",
   "execution_count": null,
   "metadata": {
    "execution": {
     "iopub.status.busy": "2021-12-04T11:30:58.689934Z",
     "iopub.status.idle": "2021-12-04T11:30:58.690292Z",
     "shell.execute_reply": "2021-12-04T11:30:58.690147Z",
     "shell.execute_reply.started": "2021-12-04T11:30:58.690130Z"
    },
    "tags": []
   },
   "outputs": [],
   "source": [
    "features_select = [\n",
    "                           'Transportation expense', \n",
    "                           'Distance from Residence to Work',\n",
    "                           'Service time', \n",
    "                           'Age', \n",
    "                           'Work load Average/day ', \n",
    "                           'Hit target',\n",
    "                           'Disciplinary failure', \n",
    "                           'Education', \n",
    "                           'Son', \n",
    "                           'Social drinker',\n",
    "                           'Social smoker', \n",
    "                           #'Pet', \n",
    "                           'Weight', \n",
    "                           'Height', \n",
    "                           'Body mass index', \n",
    "                           'Absenteeism time in hours'\n",
    "                        ]\n",
    "\n",
    "absenteeism_data = absenteeism_data[features_select]\n",
    "\n",
    "categorical_features = ['Education']#[1, 2, 7]\n",
    "ordinal_features = []\n",
    "\n",
    "transformer = ColumnTransformer(transformers=[('cat', OneHotEncoder(), categorical_features)], remainder='passthrough', sparse_threshold=0)\n",
    "transformer.fit(absenteeism_data)\n",
    "\n",
    "absenteeism_data = transformer.transform(absenteeism_data)\n",
    "absenteeism_data = pd.DataFrame(absenteeism_data, columns=transformer.get_feature_names())\n",
    "\n",
    "for ordinal_feature in ordinal_features:\n",
    "    absenteeism_data[ordinal_feature] = OrdinalEncoder().fit_transform(absenteeism_data[ordinal_feature].values.reshape(-1, 1)).flatten()\n",
    "\n",
    "absenteeism_data = absenteeism_data.astype(np.float64)\n",
    "\n",
    "    \n",
    "X_data_absenteeism = absenteeism_data.drop(['Absenteeism time in hours'], axis = 1)\n",
    "y_data_absenteeism = ((absenteeism_data['Absenteeism time in hours'] > 3) * 1) #absenteeism_data['Absenteeism time in hours']\n",
    "\n",
    "print(X_data_absenteeism.shape)\n",
    "\n",
    "X_data_absenteeism.head()"
   ]
  },
  {
   "cell_type": "code",
   "execution_count": null,
   "metadata": {
    "execution": {
     "iopub.status.busy": "2021-12-04T11:30:58.691275Z",
     "iopub.status.idle": "2021-12-04T11:30:58.691613Z",
     "shell.execute_reply": "2021-12-04T11:30:58.691471Z",
     "shell.execute_reply.started": "2021-12-04T11:30:58.691454Z"
    },
    "tags": []
   },
   "outputs": [],
   "source": [
    "number_of_variables = X_data_absenteeism.shape[1]\n",
    "config['data']['number_of_variables'] = number_of_variables\n",
    "\n",
    "\n",
    "number_of_lambda_weights = get_number_of_lambda_net_parameters(lambda_network_layers, number_of_variables, num_classes)\n",
    "config['lambda_net']['number_of_lambda_weights'] = number_of_lambda_weights\n",
    "\n",
    "\n",
    "basic_function_representation_length = get_number_of_function_parameters(dt_type, maximum_depth, number_of_variables, num_classes)\n",
    "config['function_family']['basic_function_representation_length'] = basic_function_representation_length\n",
    "\n",
    "\n",
    "function_representation_length= ( \n",
    "       #((2 ** maximum_depth - 1) * decision_sparsity) * 2 + (2 ** maximum_depth - 1) + (2 ** maximum_depth) * num_classes  if function_representation_type == 1 and dt_type == 'SDT'\n",
    "       (2 ** maximum_depth - 1) * (number_of_variables + 1) + (2 ** maximum_depth) * number_of_classes if function_representation_type == 1 and dt_type == 'SDT'\n",
    "  else (2 ** maximum_depth - 1) * decision_sparsity + (2 ** maximum_depth - 1) + ((2 ** maximum_depth - 1)  * decision_sparsity * number_of_variables) + (2 ** maximum_depth) * num_classes if function_representation_type == 2 and dt_type == 'SDT'\n",
    "  else ((2 ** maximum_depth - 1) * decision_sparsity) * 2 + (2 ** maximum_depth)  if function_representation_type == 1 and dt_type == 'vanilla'\n",
    "  else (2 ** maximum_depth - 1) * decision_sparsity + ((2 ** maximum_depth - 1)  * decision_sparsity * number_of_variables) + (2 ** maximum_depth) if function_representation_type == 2 and dt_type == 'vanilla'\n",
    "  else None\n",
    "                                                            )\n",
    "config['function_family']['function_representation_length'] = function_representation_length"
   ]
  },
  {
   "cell_type": "code",
   "execution_count": null,
   "metadata": {
    "execution": {
     "iopub.status.busy": "2021-12-04T11:30:58.692599Z",
     "iopub.status.idle": "2021-12-04T11:30:58.692939Z",
     "shell.execute_reply": "2021-12-04T11:30:58.692796Z",
     "shell.execute_reply.started": "2021-12-04T11:30:58.692779Z"
    },
    "tags": []
   },
   "outputs": [],
   "source": [
    "categorical_indices = []\n",
    "\n",
    "for i, (column_name, column) in enumerate(X_data_absenteeism.iteritems()):\n",
    "    if len(column.value_counts()) == 2:\n",
    "        categorical_indices.append(i)\n",
    "print(categorical_indices)\n",
    "\n",
    "config['data']['categorical_indices'] = categorical_indices"
   ]
  },
  {
   "cell_type": "code",
   "execution_count": null,
   "metadata": {
    "execution": {
     "iopub.status.busy": "2021-12-04T11:30:58.693913Z",
     "iopub.status.idle": "2021-12-04T11:30:58.694304Z",
     "shell.execute_reply": "2021-12-04T11:30:58.694158Z",
     "shell.execute_reply.started": "2021-12-04T11:30:58.694141Z"
    },
    "tags": []
   },
   "outputs": [],
   "source": [
    "normalizer_list = []\n",
    "for column_name in X_data_absenteeism:\n",
    "    scaler = MinMaxScaler()\n",
    "    scaler.fit(X_data_absenteeism[column_name].values.reshape(-1, 1))\n",
    "    X_data_absenteeism[column_name] = scaler.transform(X_data_absenteeism[column_name].values.reshape(-1, 1)).ravel()\n",
    "    normalizer_list.append(scaler)\n",
    "X_data_absenteeism.head()"
   ]
  },
  {
   "cell_type": "code",
   "execution_count": null,
   "metadata": {
    "execution": {
     "iopub.status.busy": "2021-12-04T11:30:58.695258Z",
     "iopub.status.idle": "2021-12-04T11:30:58.695590Z",
     "shell.execute_reply": "2021-12-04T11:30:58.695447Z",
     "shell.execute_reply.started": "2021-12-04T11:30:58.695431Z"
    },
    "tags": []
   },
   "outputs": [],
   "source": [
    "y_data_absenteeism"
   ]
  },
  {
   "cell_type": "code",
   "execution_count": null,
   "metadata": {
    "execution": {
     "iopub.status.busy": "2021-12-04T11:30:58.696747Z",
     "iopub.status.idle": "2021-12-04T11:30:58.697085Z",
     "shell.execute_reply": "2021-12-04T11:30:58.696943Z",
     "shell.execute_reply.started": "2021-12-04T11:30:58.696927Z"
    },
    "tags": []
   },
   "outputs": [],
   "source": [
    "true_labels = len(y_data_absenteeism[y_data_absenteeism >= 0.5 ]) \n",
    "false_labels = len(y_data_absenteeism[y_data_absenteeism < 0.5 ]) \n",
    "\n",
    "true_ratio = true_labels/(true_labels+false_labels)\n",
    "\n",
    "print('True Ratio: ', str(true_ratio))"
   ]
  },
  {
   "cell_type": "code",
   "execution_count": null,
   "metadata": {
    "execution": {
     "iopub.status.busy": "2021-12-04T11:30:58.698066Z",
     "iopub.status.idle": "2021-12-04T11:30:58.698451Z",
     "shell.execute_reply": "2021-12-04T11:30:58.698308Z",
     "shell.execute_reply.started": "2021-12-04T11:30:58.698291Z"
    },
    "tags": []
   },
   "outputs": [],
   "source": [
    "if true_ratio <= 0.4 or true_ratio >= 0.6:\n",
    "    from imblearn.over_sampling import RandomOverSampler \n",
    "\n",
    "    oversample = RandomOverSampler(sampling_strategy='minority')\n",
    "\n",
    "    X_data_absenteeism, y_data_absenteeism = oversample.fit_resample(X_data_absenteeism, y_data_absenteeism)\n",
    "\n",
    "    true_labels = len(y_data_absenteeism[y_data_absenteeism >= 0.5 ]) \n",
    "    false_labels = len(y_data_absenteeism[y_data_absenteeism < 0.5 ]) \n",
    "\n",
    "    print('True Ratio: ', str(true_labels/(true_labels+false_labels)))"
   ]
  },
  {
   "cell_type": "code",
   "execution_count": null,
   "metadata": {
    "execution": {
     "iopub.status.busy": "2021-12-04T11:30:58.699429Z",
     "iopub.status.idle": "2021-12-04T11:30:58.699769Z",
     "shell.execute_reply": "2021-12-04T11:30:58.699627Z",
     "shell.execute_reply.started": "2021-12-04T11:30:58.699609Z"
    },
    "tags": []
   },
   "outputs": [],
   "source": [
    "X_train_absenteeism_with_valid, X_test_absenteeism, y_train_absenteeism_with_valid, y_test_absenteeism = train_test_split(X_data_absenteeism, y_data_absenteeism, train_size=0.8)\n",
    "X_train_absenteeism, X_valid_absenteeism, y_train_absenteeism, y_valid_absenteeism = train_test_split(X_train_absenteeism_with_valid, y_train_absenteeism_with_valid, train_size=0.8)\n",
    "\n",
    "print(X_train_absenteeism.shape, y_train_absenteeism.shape)\n",
    "print(X_valid_absenteeism.shape, y_valid_absenteeism.shape)\n",
    "print(X_test_absenteeism.shape, y_test_absenteeism.shape)"
   ]
  },
  {
   "cell_type": "code",
   "execution_count": null,
   "metadata": {
    "execution": {
     "iopub.status.busy": "2021-12-04T11:30:58.700769Z",
     "iopub.status.idle": "2021-12-04T11:30:58.701107Z",
     "shell.execute_reply": "2021-12-04T11:30:58.700965Z",
     "shell.execute_reply.started": "2021-12-04T11:30:58.700948Z"
    },
    "tags": []
   },
   "outputs": [],
   "source": [
    "test_network = generate_lambda_net_from_config(config)\n",
    "\n",
    "early_stopping = tf.keras.callbacks.EarlyStopping(monitor='val_loss', \n",
    "                                                  patience=50, \n",
    "                                                  min_delta=0.001, \n",
    "                                                  verbose=0, \n",
    "                                                  mode='min', \n",
    "                                                  restore_best_weights=True)\n",
    "\n",
    "model_history = test_network.fit(X_train_absenteeism,\n",
    "                                  y_train_absenteeism, \n",
    "                                  epochs=config['lambda_net']['epochs_lambda'], \n",
    "                                  batch_size=config['lambda_net']['batch_lambda'], \n",
    "                                  callbacks=[early_stopping, PlotLossesKerasTF()],\n",
    "                                  validation_data=(X_valid_absenteeism, y_valid_absenteeism),\n",
    "                                  verbose=0)\n",
    "\n"
   ]
  },
  {
   "cell_type": "code",
   "execution_count": null,
   "metadata": {
    "execution": {
     "iopub.status.busy": "2021-12-04T11:30:58.702225Z",
     "iopub.status.idle": "2021-12-04T11:30:58.702569Z",
     "shell.execute_reply": "2021-12-04T11:30:58.702426Z",
     "shell.execute_reply.started": "2021-12-04T11:30:58.702409Z"
    },
    "tags": []
   },
   "outputs": [],
   "source": [
    "test_network.summary()"
   ]
  },
  {
   "cell_type": "code",
   "execution_count": null,
   "metadata": {},
   "outputs": [],
   "source": []
  },
  {
   "cell_type": "code",
   "execution_count": null,
   "metadata": {
    "execution": {
     "iopub.status.busy": "2021-12-04T11:30:58.703655Z",
     "iopub.status.idle": "2021-12-04T11:30:58.704011Z",
     "shell.execute_reply": "2021-12-04T11:30:58.703867Z",
     "shell.execute_reply.started": "2021-12-04T11:30:58.703850Z"
    },
    "tags": []
   },
   "outputs": [],
   "source": [
    "model = generate_inet(config)\n",
    "\n",
    "target_network_parameters = shaped_network_parameters_to_array(test_network.get_weights(), config)\n",
    "\n",
    "callback_names = []\n",
    "if config['i_net']['early_stopping']:\n",
    "    callback_names.append('early_stopping')\n",
    "\n",
    "callbacks = return_callbacks_from_string(callback_names)  \n",
    "\n",
    "verbosity = 1\n",
    "\n",
    "#%autoreload 2\n",
    "############################## PREDICTION ###############################\n",
    "X_valid_single = np.array([target_network_parameters])\n",
    "X_train_single = None\n",
    "\n",
    "\n",
    "y_valid_single = np.array([[0 for _ in range(basic_function_representation_length)]])\n",
    "y_train_model_single = None#y_train[[index]].shape\n",
    "\n",
    "mult_counter = 1\n",
    "counter = 0\n",
    "for i in range(epochs):\n",
    "    print('Epoch ' + str(i).zfill(3) + '/' + str(epochs).zfill(3))\n",
    "    if i < (epochs-50): #last 50 epochs without change in dataset\n",
    "\n",
    "        if counter == 0:\n",
    "            X_train_single = np.zeros((initial_parameters, number_of_lambda_weights))\n",
    "            for j in range(initial_parameters):\n",
    "                target_network_parameters_mutated = copy.deepcopy(target_network_parameters)\n",
    "\n",
    "                target_network_parameters_range = (np.min(target_network_parameters), np.max(target_network_parameters))\n",
    "                target_network_parameters_differential = target_network_parameters_range[1] - target_network_parameters_range[0]\n",
    "\n",
    "                for _ in range(mutation_number):\n",
    "                    mutation_index = random.randint(0, number_of_lambda_weights-1)\n",
    "                    mutation_level = np.random.normal(loc=0.0, scale=target_network_parameters_differential)\n",
    "                    target_network_parameters_mutated[mutation_index] = target_network_parameters_mutated[mutation_index] + mutation_level\n",
    "\n",
    "                X_train_single[j] = target_network_parameters_mutated\n",
    "\n",
    "        elif counter % (increase_interval_base*mult_counter) == 0:\n",
    "            counter = 0\n",
    "            mult_counter += 1\n",
    "            X_train_single_new = np.zeros((X_train_single.shape[0]*extension_rate, number_of_lambda_weights))\n",
    "            for j1, X_train_single_entry in enumerate(X_train_single):\n",
    "                for j2 in range(extension_rate):\n",
    "                    X_train_single_entry_mutated = copy.deepcopy(X_train_single_entry)\n",
    "\n",
    "                    X_train_single_entry_range = (np.min(X_train_single_entry), np.max(X_train_single_entry))\n",
    "                    X_train_single_entry_differential = X_train_single_entry_range[1] - X_train_single_entry_range[0]\n",
    "\n",
    "                    for _ in range(mutation_number):\n",
    "                        mutation_index = random.randint(0, number_of_lambda_weights-1)\n",
    "                        mutation_level = np.random.normal(loc=0.0, scale=X_train_single_entry_differential)\n",
    "                        X_train_single_entry_mutated[mutation_index] = X_train_single_entry_mutated[mutation_index] + mutation_level\n",
    "\n",
    "                    X_train_single_new[(j2*X_train_single.shape[0])-1+j1] = X_train_single_entry_mutated                \n",
    "\n",
    "            #X_train = X_train_new\n",
    "            X_train_single_list = [X_train_single for _ in range(extension_rate)]\n",
    "            X_train_single_list.append(X_train_single_new)\n",
    "            X_train_single = np.vstack(X_train_single_list)    \n",
    "\n",
    "        y_train_single = np.array([[0 for _ in range(basic_function_representation_length)] for _ in range(X_train_single.shape[0])])\n",
    "        y_train_single_model = np.hstack((y_train_single, X_train_single))   \n",
    "        valid_data_single = (X_valid_single, np.hstack((y_valid_single, X_valid_single)))                   \n",
    "    \n",
    "    #print(X_train_single.shape)\n",
    "    #print(y_train_single_model.shape)\n",
    "    #print(valid_data_single[0].shape, valid_data_single[1].shape)\n",
    "    \n",
    "    \n",
    "    model_history = model.fit(X_train_single,\n",
    "                      y_train_single_model,\n",
    "                      epochs=1, \n",
    "                      batch_size=config['i_net']['batch_size'], \n",
    "                      validation_data=valid_data_single,\n",
    "                      callbacks=callbacks,\n",
    "                      verbose=verbosity)\n",
    "    \n",
    "    if i == 0:\n",
    "        history = model_history.history\n",
    "    else:\n",
    "        history = mergeDict(history, model_history.history)\n",
    "\n",
    "    counter += 1\n",
    "    \n",
    "    tf.keras.backend.clear_session()\n",
    "\n",
    "if nas:\n",
    "    for trial in history: \n",
    "        print(trial.summary())\n",
    "else:\n",
    "    plt.plot(history['loss'])\n",
    "    plt.plot(history['val_loss'])\n",
    "    plt.title('model loss')\n",
    "    plt.ylabel('loss')\n",
    "    plt.xlabel('epoch')\n",
    "    plt.legend(['train', 'valid'], loc='upper left')    "
   ]
  },
  {
   "cell_type": "code",
   "execution_count": null,
   "metadata": {},
   "outputs": [],
   "source": []
  },
  {
   "cell_type": "code",
   "execution_count": null,
   "metadata": {
    "execution": {
     "iopub.status.busy": "2021-12-04T11:30:58.705003Z",
     "iopub.status.idle": "2021-12-04T11:30:58.705361Z",
     "shell.execute_reply": "2021-12-04T11:30:58.705216Z",
     "shell.execute_reply.started": "2021-12-04T11:30:58.705199Z"
    },
    "tags": []
   },
   "outputs": [],
   "source": [
    "test_network_parameters = shaped_network_parameters_to_array(test_network.get_weights(), config)\n",
    "test_network_dt_inet = model.predict(np.array([test_network_parameters]))[0]\n",
    "\n",
    "if nas:\n",
    "    test_network_dt_inet = test_network_dt_inet[:function_representation_length]\n",
    "\n",
    "X_data_random = generate_random_data_points_custom(config['data']['x_min'], \n",
    "                                                   config['data']['x_max'],\n",
    "                                                   config['evaluation']['random_evaluation_dataset_size'], \n",
    "                                                   config['data']['number_of_variables'], \n",
    "                                                   config['data']['categorical_indices'])\n",
    "\n",
    "#X_data_random = X_train_absenteeism.values\n",
    "\n",
    "y_data_random_test_network_pred = test_network.predict(X_data_random)\n",
    "y_data_random_test_network_pred = np.round(y_data_random_test_network_pred).astype(np.int64)\n",
    "\n",
    "dt_sklearn_distilled = DecisionTreeClassifier(max_depth=config['function_family']['maximum_depth'])\n",
    "dt_sklearn_distilled.fit(X_data_random, y_data_random_test_network_pred)\n",
    "\n",
    "\n",
    "if dt_type == 'SDT':\n",
    "    y_test_inet_dt  = calculate_function_value_from_decision_tree_parameters_wrapper(X_test_absenteeism, config)(test_network_dt_inet).numpy()\n",
    "elif dt_type == 'vanilla':\n",
    "    y_test_inet_dt  = calculate_function_value_from_vanilla_decision_tree_parameters_wrapper(X_test_absenteeism, config)(test_network_dt_inet).numpy()\n",
    "y_test_distilled_sklearn_dt = dt_sklearn_distilled.predict(X_test_absenteeism)\n",
    "\n",
    "y_test_test_network_pred = test_network.predict(X_test_absenteeism)\n",
    "y_test_test_network_pred = np.round(y_test_test_network_pred)\n",
    "\n",
    "binary_crossentropy_distilled_sklearn_dt = log_loss(y_test_test_network_pred, y_test_distilled_sklearn_dt, labels=[0,1])\n",
    "accuracy_distilled_sklearn_dt = accuracy_score(y_test_test_network_pred, np.round(y_test_distilled_sklearn_dt))\n",
    "f1_score_distilled_sklearn_dt = f1_score(y_test_test_network_pred, np.round(y_test_distilled_sklearn_dt))\n",
    "\n",
    "binary_crossentropy_inet_dt = log_loss(y_test_test_network_pred, y_test_inet_dt, labels=[0,1])\n",
    "accuracy_inet_dt = accuracy_score(y_test_test_network_pred, np.round(y_test_inet_dt))\n",
    "f1_score_inet_dt = f1_score(y_test_test_network_pred, np.round(y_test_inet_dt))\n",
    "\n",
    "\n",
    "print('Binary Crossentropy:\\t\\t', np.round(binary_crossentropy_distilled_sklearn_dt, 3), '(Sklearn DT)' , '\\t', np.round(binary_crossentropy_inet_dt, 3), '(I-Net DT)')\n",
    "print('Accuracy:\\t\\t', np.round(accuracy_distilled_sklearn_dt, 3), '(Sklearn DT)' , '\\t', np.round(accuracy_inet_dt, 3), '(I-Net DT)')\n",
    "print('F1 Score:\\t\\t', np.round(f1_score_distilled_sklearn_dt, 3), '(Sklearn DT)' , '\\t', np.round(f1_score_inet_dt, 3), '(I-Net DT)')\n",
    "     \n"
   ]
  },
  {
   "cell_type": "code",
   "execution_count": null,
   "metadata": {
    "execution": {
     "iopub.status.busy": "2021-12-04T11:30:58.706278Z",
     "iopub.status.idle": "2021-12-04T11:30:58.706610Z",
     "shell.execute_reply": "2021-12-04T11:30:58.706470Z",
     "shell.execute_reply.started": "2021-12-04T11:30:58.706454Z"
    },
    "tags": []
   },
   "outputs": [],
   "source": [
    "X_data_absenteeism.head(5)"
   ]
  },
  {
   "cell_type": "code",
   "execution_count": null,
   "metadata": {
    "execution": {
     "iopub.status.busy": "2021-12-04T11:30:58.707576Z",
     "iopub.status.idle": "2021-12-04T11:30:58.707913Z",
     "shell.execute_reply": "2021-12-04T11:30:58.707770Z",
     "shell.execute_reply.started": "2021-12-04T11:30:58.707753Z"
    },
    "tags": []
   },
   "outputs": [],
   "source": [
    "test_network_dt_inet"
   ]
  },
  {
   "cell_type": "code",
   "execution_count": null,
   "metadata": {
    "execution": {
     "iopub.status.busy": "2021-12-04T11:30:58.708887Z",
     "iopub.status.idle": "2021-12-04T11:30:58.709226Z",
     "shell.execute_reply": "2021-12-04T11:30:58.709082Z",
     "shell.execute_reply.started": "2021-12-04T11:30:58.709065Z"
    },
    "tags": []
   },
   "outputs": [],
   "source": [
    "get_shaped_parameters_for_decision_tree(test_network_dt_inet, config)"
   ]
  },
  {
   "cell_type": "code",
   "execution_count": null,
   "metadata": {
    "execution": {
     "iopub.status.busy": "2021-12-04T11:30:58.710321Z",
     "iopub.status.idle": "2021-12-04T11:30:58.710681Z",
     "shell.execute_reply": "2021-12-04T11:30:58.710537Z",
     "shell.execute_reply.started": "2021-12-04T11:30:58.710520Z"
    }
   },
   "outputs": [],
   "source": [
    "def anytree_decision_tree_from_parameters(dt_parameter_array, config, normalizer_list=None, path='./data/plotting/temp.png'):\n",
    "    \n",
    "    from anytree import Node, RenderTree\n",
    "    from anytree.exporter import DotExporter\n",
    "    \n",
    "    splits, leaf_classes = get_shaped_parameters_for_decision_tree(dt_parameter_array, config, eager_execution=True)\n",
    "\n",
    "    splits = splits.numpy()\n",
    "    leaf_classes = leaf_classes.numpy()\n",
    "    \n",
    "    \n",
    "    if normalizer_list is not None: \n",
    "        transpose = splits.transpose()\n",
    "        transpose_normalized = []\n",
    "        for i, column in enumerate(transpose):\n",
    "            column_new = column\n",
    "            #column_new[column_new != 0] = normalizer_list[i].inverse_transform(column[column != 0].reshape(-1, 1)).ravel()\n",
    "            column_new = normalizer_list[i].inverse_transform(column.reshape(-1, 1)).ravel()\n",
    "            transpose_normalized.append(column_new)\n",
    "        splits = np.array(transpose_normalized).transpose()\n",
    "\n",
    "    splits_by_layer = []\n",
    "    for i in range(config['function_family']['maximum_depth']+1):\n",
    "        start = 2**i - 1\n",
    "        end = 2**(i+1) -1\n",
    "        splits_by_layer.append(splits[start:end])\n",
    "\n",
    "    nodes = {\n",
    "    }\n",
    "    #tree = Tree()\n",
    "    for i, splits in enumerate(splits_by_layer):\n",
    "        for j, split in enumerate(splits):\n",
    "            if i == 0:\n",
    "                current_node_id = int(2**i - 1 + j)\n",
    "                name = 'n' + str(current_node_id)#'l' + str(i) + 'n' + str(j)\n",
    "                split_variable = np.argmax(np.abs(split))\n",
    "                split_value = np.round(split[split_variable], 3)\n",
    "                split_description = 'x' + str(split_variable) + ' <= '  + str(split_value)\n",
    "                \n",
    "                nodes[name] = Node(name=name, display_name=split_description)\n",
    "                \n",
    "                #tree.create_node(tag=split_description, identifier=name, data=None)            \n",
    "            else:\n",
    "                current_node_id = int(2**i - 1 + j)\n",
    "                name = 'n' + str(current_node_id)#'l' + str(i) + 'n' + str(j)\n",
    "                parent_node_id = int(np.floor((current_node_id-1)/2))\n",
    "                parent_name = 'n' + str(parent_node_id)\n",
    "                split_variable = np.argmax(np.abs(split))\n",
    "                split_value = np.round(split[split_variable], 3)\n",
    "                split_description = 'x' + str(split_variable) + ' <= '  + str(split_value)\n",
    "                \n",
    "                nodes[name] = Node(name=name, parent=nodes[parent_name], display_name=split_description)\n",
    "                \n",
    "                #tree.create_node(tag=split_description, identifier=name, parent=parent_name, data=None)\n",
    "                \n",
    "    for j, leaf_class in enumerate(leaf_classes):\n",
    "        i = config['function_family']['maximum_depth']\n",
    "        current_node_id = int(2**i - 1 + j)\n",
    "        name = 'n' + str(current_node_id)#'l' + str(i) + 'n' + str(j)\n",
    "        parent_node_id = int(np.floor((current_node_id-1)/2))\n",
    "        parent_name = 'n' + str(parent_node_id)\n",
    "        #split_variable = np.argmax(np.abs(split))\n",
    "        #split_value = np.round(split[split_variable], 3)\n",
    "        split_description = str(np.round((1-leaf_class), 3))#'x' + str(split_variable) + ' <= '  + str(split_value)\n",
    "        nodes[name] = Node(name=name, parent=nodes[parent_name], display_name=split_description)\n",
    "        #tree.create_node(tag=split_description, identifier=name, parent=parent_name, data=None)        \n",
    "    \n",
    "        DotExporter(nodes['n0'], nodeattrfunc=lambda node: 'label=\"{}\"'.format(node.display_name)).to_picture(path)\n",
    "        \n",
    "        \n",
    "    return Image(path), nodes#nodes#tree\n"
   ]
  },
  {
   "cell_type": "code",
   "execution_count": null,
   "metadata": {
    "execution": {
     "iopub.status.busy": "2021-12-04T11:30:58.711610Z",
     "iopub.status.idle": "2021-12-04T11:30:58.711952Z",
     "shell.execute_reply": "2021-12-04T11:30:58.711808Z",
     "shell.execute_reply.started": "2021-12-04T11:30:58.711791Z"
    },
    "tags": []
   },
   "outputs": [],
   "source": [
    "get_shaped_parameters_for_decision_tree(test_network_dt_inet, config)"
   ]
  },
  {
   "cell_type": "code",
   "execution_count": null,
   "metadata": {
    "execution": {
     "iopub.status.busy": "2021-12-04T11:30:58.712930Z",
     "iopub.status.idle": "2021-12-04T11:30:58.713265Z",
     "shell.execute_reply": "2021-12-04T11:30:58.713120Z",
     "shell.execute_reply.started": "2021-12-04T11:30:58.713103Z"
    },
    "tags": []
   },
   "outputs": [],
   "source": [
    "#%autoreload 2\n",
    "image, nodes = anytree_decision_tree_from_parameters(test_network_dt_inet, config=config, normalizer_list=normalizer_list)\n",
    "image\n",
    "#tree.show()"
   ]
  },
  {
   "cell_type": "code",
   "execution_count": null,
   "metadata": {
    "execution": {
     "iopub.status.busy": "2021-12-04T11:30:58.714257Z",
     "iopub.status.idle": "2021-12-04T11:30:58.714600Z",
     "shell.execute_reply": "2021-12-04T11:30:58.714457Z",
     "shell.execute_reply.started": "2021-12-04T11:30:58.714440Z"
    },
    "tags": []
   },
   "outputs": [],
   "source": [
    "#%autoreload 2\n",
    "image, nodes = anytree_decision_tree_from_parameters(test_network_dt_inet, config=config)\n",
    "image\n",
    "#tree.show()"
   ]
  },
  {
   "cell_type": "code",
   "execution_count": null,
   "metadata": {
    "execution": {
     "iopub.status.busy": "2021-12-04T11:30:58.715426Z",
     "iopub.status.idle": "2021-12-04T11:30:58.715780Z",
     "shell.execute_reply": "2021-12-04T11:30:58.715621Z",
     "shell.execute_reply.started": "2021-12-04T11:30:58.715595Z"
    },
    "tags": []
   },
   "outputs": [],
   "source": [
    "plt.figure(figsize=(24,12))  # set plot size (denoted in inches)\n",
    "plot_tree(dt_sklearn_distilled, fontsize=12)\n",
    "plt.show()"
   ]
  },
  {
   "cell_type": "code",
   "execution_count": null,
   "metadata": {
    "execution": {
     "iopub.status.busy": "2021-12-04T11:30:58.716740Z",
     "iopub.status.idle": "2021-12-04T11:30:58.717099Z",
     "shell.execute_reply": "2021-12-04T11:30:58.716953Z",
     "shell.execute_reply.started": "2021-12-04T11:30:58.716936Z"
    },
    "tags": []
   },
   "outputs": [],
   "source": [
    "y_test_test_network_pred[:50].ravel()"
   ]
  },
  {
   "cell_type": "code",
   "execution_count": null,
   "metadata": {
    "execution": {
     "iopub.status.busy": "2021-12-04T11:30:58.718106Z",
     "iopub.status.idle": "2021-12-04T11:30:58.718585Z",
     "shell.execute_reply": "2021-12-04T11:30:58.718441Z",
     "shell.execute_reply.started": "2021-12-04T11:30:58.718424Z"
    },
    "tags": []
   },
   "outputs": [],
   "source": [
    "y_test_distilled_sklearn_dt[:50].ravel()"
   ]
  },
  {
   "cell_type": "code",
   "execution_count": null,
   "metadata": {
    "execution": {
     "iopub.status.busy": "2021-12-04T11:30:58.719647Z",
     "iopub.status.idle": "2021-12-04T11:30:58.719982Z",
     "shell.execute_reply": "2021-12-04T11:30:58.719841Z",
     "shell.execute_reply.started": "2021-12-04T11:30:58.719824Z"
    },
    "tags": []
   },
   "outputs": [],
   "source": [
    "np.round(y_test_inet_dt[:50]).ravel()"
   ]
  },
  {
   "cell_type": "code",
   "execution_count": null,
   "metadata": {
    "execution": {
     "iopub.status.busy": "2021-12-04T11:30:58.721045Z",
     "iopub.status.idle": "2021-12-04T11:30:58.721384Z",
     "shell.execute_reply": "2021-12-04T11:30:58.721239Z",
     "shell.execute_reply.started": "2021-12-04T11:30:58.721221Z"
    },
    "tags": []
   },
   "outputs": [],
   "source": [
    "del model"
   ]
  },
  {
   "cell_type": "code",
   "execution_count": null,
   "metadata": {
    "execution": {
     "iopub.status.busy": "2021-12-04T11:30:58.722405Z",
     "iopub.status.idle": "2021-12-04T11:30:58.722810Z",
     "shell.execute_reply": "2021-12-04T11:30:58.722669Z",
     "shell.execute_reply.started": "2021-12-04T11:30:58.722653Z"
    },
    "tags": []
   },
   "outputs": [],
   "source": [
    "print('DONE')"
   ]
  },
  {
   "cell_type": "markdown",
   "metadata": {},
   "source": [
    "## NEXT DATASET"
   ]
  },
  {
   "cell_type": "code",
   "execution_count": null,
   "metadata": {
    "execution": {
     "iopub.status.busy": "2021-12-04T11:30:58.723742Z",
     "iopub.status.idle": "2021-12-04T11:30:58.724108Z",
     "shell.execute_reply": "2021-12-04T11:30:58.723959Z",
     "shell.execute_reply.started": "2021-12-04T11:30:58.723941Z"
    }
   },
   "outputs": [],
   "source": [
    "z"
   ]
  },
  {
   "cell_type": "code",
   "execution_count": null,
   "metadata": {
    "execution": {
     "iopub.status.busy": "2021-12-04T11:30:58.725237Z",
     "iopub.status.idle": "2021-12-04T11:30:58.725566Z",
     "shell.execute_reply": "2021-12-04T11:30:58.725425Z",
     "shell.execute_reply.started": "2021-12-04T11:30:58.725408Z"
    },
    "tags": []
   },
   "outputs": [],
   "source": [
    "if use_gpu:\n",
    "    from numba import cuda \n",
    "    device = cuda.get_current_device()\n",
    "    device.reset()"
   ]
  },
  {
   "cell_type": "code",
   "execution_count": null,
   "metadata": {},
   "outputs": [],
   "source": []
  },
  {
   "cell_type": "code",
   "execution_count": null,
   "metadata": {},
   "outputs": [],
   "source": []
  },
  {
   "cell_type": "code",
   "execution_count": null,
   "metadata": {},
   "outputs": [],
   "source": []
  },
  {
   "cell_type": "code",
   "execution_count": null,
   "metadata": {},
   "outputs": [],
   "source": []
  },
  {
   "cell_type": "code",
   "execution_count": null,
   "metadata": {},
   "outputs": [],
   "source": []
  },
  {
   "cell_type": "code",
   "execution_count": null,
   "metadata": {},
   "outputs": [],
   "source": []
  }
 ],
 "metadata": {
  "kernelspec": {
   "display_name": "Python 3 (ipykernel)",
   "language": "python",
   "name": "python3"
  },
  "language_info": {
   "codemirror_mode": {
    "name": "ipython",
    "version": 3
   },
   "file_extension": ".py",
   "mimetype": "text/x-python",
   "name": "python",
   "nbconvert_exporter": "python",
   "pygments_lexer": "ipython3",
   "version": "3.8.0"
  }
 },
 "nbformat": 4,
 "nbformat_minor": 4
}
