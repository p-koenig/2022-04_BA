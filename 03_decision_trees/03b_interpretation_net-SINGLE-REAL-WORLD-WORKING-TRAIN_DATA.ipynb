{
 "cells": [
  {
   "cell_type": "markdown",
   "metadata": {},
   "source": [
    "# Inerpretation-Net Training"
   ]
  },
  {
   "cell_type": "markdown",
   "metadata": {},
   "source": [
    "## Specitication of Experiment Settings"
   ]
  },
  {
   "cell_type": "code",
   "execution_count": 1,
   "metadata": {
    "execution": {
     "iopub.execute_input": "2021-12-04T10:33:27.954277Z",
     "iopub.status.busy": "2021-12-04T10:33:27.953755Z",
     "iopub.status.idle": "2021-12-04T10:33:27.980204Z",
     "shell.execute_reply": "2021-12-04T10:33:27.979275Z",
     "shell.execute_reply.started": "2021-12-04T10:33:27.954156Z"
    },
    "tags": []
   },
   "outputs": [],
   "source": [
    "#######################################################################################################################################\n",
    "###################################################### CONFIG FILE ####################################################################\n",
    "#######################################################################################################################################\n",
    "sleep_time = 0 #minutes\n",
    "\n",
    "\n",
    "config = {\n",
    "    'function_family': {\n",
    "        'maximum_depth': 3,\n",
    "        'beta': 1,\n",
    "        'decision_sparsity': 1,\n",
    "        'fully_grown': True,    \n",
    "        'dt_type': 'vanilla', #'vanilla', 'SDT'\n",
    "    },\n",
    "    'data': {\n",
    "        #'number_of_variables': 43, \n",
    "        'num_classes': 2,\n",
    "        #'categorical_indices': [],\n",
    "        \n",
    "        'function_generation_type': 'make_classification',# 'make_classification', 'make_classification_trained', 'random_decision_tree', 'random_decision_tree_trained'\n",
    "        'objective': 'classification', # 'regression'\n",
    "        \n",
    "        'x_max': 1,\n",
    "        'x_min': 0,\n",
    "        'x_distrib': 'uniform', #'normal', 'uniform',       \n",
    "                \n",
    "        #'lambda_dataset_size': 5000, #number of samples per function\n",
    "        #'number_of_generated_datasets': 10000,\n",
    "        \n",
    "        'noise_injected_level': 0, \n",
    "        'noise_injected_type': 'flip_percentage', # '' 'normal' 'uniform' 'normal_range' 'uniform_range'\n",
    "    }, \n",
    "    'lambda_net': {\n",
    "        'epochs_lambda': 1000,\n",
    "        'early_stopping_lambda': True, \n",
    "        'early_stopping_min_delta_lambda': 1e-2,\n",
    "        'batch_lambda': 64,\n",
    "        'dropout_lambda': 0,\n",
    "        'lambda_network_layers': [128],\n",
    "        'optimizer_lambda': 'adam',\n",
    "        'loss_lambda': 'binary_crossentropy', #categorical_crossentropy\n",
    "        \n",
    "        #'number_of_lambda_weights': None,\n",
    "        \n",
    "        #'number_initializations_lambda': 1, \n",
    "        \n",
    "        #'number_of_trained_lambda_nets': 100,\n",
    "    },     \n",
    "    \n",
    "    'i_net': {\n",
    "        'dense_layers': [1024, 512],\n",
    "        'convolution_layers': None,\n",
    "        'lstm_layers': None,\n",
    "        'dropout': [0.2, 0],\n",
    "        \n",
    "        'optimizer': 'adam', #adam\n",
    "        'learning_rate': 0.001,\n",
    "        'loss': 'binary_crossentropy', #binary_crossentropy\n",
    "        'metrics': ['mse', 'binary_accuracy'],\n",
    "        \n",
    "        'epochs': 150, \n",
    "        'early_stopping': False,\n",
    "        'batch_size': 256,\n",
    "\n",
    "        #'interpretation_dataset_size': 100,\n",
    "                \n",
    "        #'test_size': 2, #Float for fraction, Int for number 0\n",
    "        \n",
    "        'function_representation_type': 1, # 1=standard representation; 2=sparse representation with classification for variables\n",
    "        'normalize_lambda_nets': False,\n",
    "\n",
    "        'optimize_decision_function': True, #False\n",
    "        'function_value_loss': True, #False\n",
    "        'soft_labels': False,\n",
    "                      \n",
    "        'data_reshape_version': None, #default to 2 options:(None, 0,1 2)\n",
    "        \n",
    "        'nas': False,\n",
    "        'nas_type': 'SEQUENTIAL', #options:(None, 'SEQUENTIAL', 'CNN', 'LSTM', 'CNN-LSTM', 'CNN-LSTM-parallel')      \n",
    "        'nas_trials': 50,\n",
    "    },    \n",
    "    \n",
    "    'evaluation': {               \n",
    "        'random_evaluation_dataset_size': 500, \n",
    "        'per_network_optimization_dataset_size': 5000,\n",
    "\n",
    "        'sklearn_dt_benchmark': False,\n",
    "        'sdt_benchmark': False,\n",
    "    },    \n",
    "    \n",
    "    'computation':{\n",
    "        'load_model': False,\n",
    "        'n_jobs': 10,\n",
    "        'use_gpu': True,\n",
    "        'gpu_numbers': '2',\n",
    "        'RANDOM_SEED': 42,   \n",
    "    }\n",
    "}\n"
   ]
  },
  {
   "cell_type": "markdown",
   "metadata": {},
   "source": [
    "## Imports"
   ]
  },
  {
   "cell_type": "code",
   "execution_count": 2,
   "metadata": {
    "execution": {
     "iopub.execute_input": "2021-12-04T10:33:27.982046Z",
     "iopub.status.busy": "2021-12-04T10:33:27.981634Z",
     "iopub.status.idle": "2021-12-04T10:33:27.991202Z",
     "shell.execute_reply": "2021-12-04T10:33:27.990288Z",
     "shell.execute_reply.started": "2021-12-04T10:33:27.981999Z"
    },
    "tags": []
   },
   "outputs": [],
   "source": [
    "#######################################################################################################################################\n",
    "########################################### IMPORT GLOBAL VARIABLES FROM CONFIG #######################################################\n",
    "#######################################################################################################################################\n",
    "globals().update(config['function_family'])\n",
    "globals().update(config['data'])\n",
    "globals().update(config['lambda_net'])\n",
    "globals().update(config['i_net'])\n",
    "globals().update(config['evaluation'])\n",
    "globals().update(config['computation'])"
   ]
  },
  {
   "cell_type": "code",
   "execution_count": 3,
   "metadata": {
    "ExecuteTime": {
     "end_time": "2021-01-08T11:56:36.233201Z",
     "start_time": "2021-01-08T11:56:36.208062Z"
    },
    "execution": {
     "iopub.execute_input": "2021-12-04T10:33:27.994641Z",
     "iopub.status.busy": "2021-12-04T10:33:27.994159Z",
     "iopub.status.idle": "2021-12-04T10:33:31.092455Z",
     "shell.execute_reply": "2021-12-04T10:33:31.091714Z",
     "shell.execute_reply.started": "2021-12-04T10:33:27.994592Z"
    },
    "tags": []
   },
   "outputs": [],
   "source": [
    "#######################################################################################################################################\n",
    "##################################################### IMPORT LIBRARIES ################################################################\n",
    "#######################################################################################################################################\n",
    "import warnings\n",
    "warnings.filterwarnings('ignore')\n",
    "import os\n",
    "os.environ['TF_CPP_MIN_LOG_LEVEL'] = '3' \n",
    "import logging\n",
    "\n",
    "import tensorflow as tf\n",
    "tf.get_logger().setLevel('ERROR')\n",
    "tf.autograph.set_verbosity(3)\n",
    "\n",
    "\n",
    "from itertools import product       \n",
    "from tqdm.notebook import tqdm\n",
    "import pickle\n",
    "import numpy as np\n",
    "import pandas as pd\n",
    "import scipy as sp\n",
    "import timeit\n",
    "import psutil\n",
    "\n",
    "from functools import reduce\n",
    "from more_itertools import random_product \n",
    "from sklearn.preprocessing import Normalizer\n",
    "\n",
    "import sys\n",
    "import shutil\n",
    "\n",
    "from copy import deepcopy\n",
    "import math\n",
    "import random \n",
    "\n",
    "\n",
    "import time\n",
    "from datetime import datetime\n",
    "from collections.abc import Iterable\n",
    "\n",
    "\n",
    "from joblib import Parallel, delayed\n",
    "\n",
    "from scipy.integrate import quad\n",
    "\n",
    "from sklearn.model_selection import cross_val_score, train_test_split, StratifiedKFold, KFold, ParameterGrid, ParameterSampler\n",
    "from sklearn.metrics import accuracy_score, log_loss, roc_auc_score, f1_score, mean_absolute_error, r2_score, log_loss\n",
    "from sklearn.tree import DecisionTreeClassifier, plot_tree\n",
    "from sklearn.compose import ColumnTransformer\n",
    "from sklearn.preprocessing import OneHotEncoder, MinMaxScaler, LabelEncoder, OrdinalEncoder\n",
    "\n",
    "#import keras\n",
    "from tensorflow.keras import Sequential\n",
    "from tensorflow.keras.layers import Dense, Dropout\n",
    "from tensorflow.keras.utils import plot_model\n",
    "from tensorflow.keras.callbacks import EarlyStopping, ModelCheckpoint, ReduceLROnPlateau\n",
    "\n",
    "\n",
    "import tensorflow.keras.backend as K\n",
    "from livelossplot import PlotLossesKerasTF\n",
    "#from keras_tqdm import TQDMNotebookCallback\n",
    "\n",
    "from matplotlib import pyplot as plt\n",
    "import seaborn as sns\n",
    "\n",
    "from IPython.display import Image\n",
    "from IPython.display import display, Math, Latex, clear_output\n",
    "\n"
   ]
  },
  {
   "cell_type": "code",
   "execution_count": 4,
   "metadata": {
    "execution": {
     "iopub.execute_input": "2021-12-04T10:33:31.093820Z",
     "iopub.status.busy": "2021-12-04T10:33:31.093519Z",
     "iopub.status.idle": "2021-12-04T10:33:31.103377Z",
     "shell.execute_reply": "2021-12-04T10:33:31.102797Z",
     "shell.execute_reply.started": "2021-12-04T10:33:31.093792Z"
    },
    "tags": []
   },
   "outputs": [
    {
     "data": {
      "text/plain": [
       "'2.5.2'"
      ]
     },
     "execution_count": 4,
     "metadata": {},
     "output_type": "execute_result"
    }
   ],
   "source": [
    "tf.__version__"
   ]
  },
  {
   "cell_type": "code",
   "execution_count": 5,
   "metadata": {
    "execution": {
     "iopub.execute_input": "2021-12-04T10:33:31.104611Z",
     "iopub.status.busy": "2021-12-04T10:33:31.104351Z",
     "iopub.status.idle": "2021-12-04T10:33:31.108596Z",
     "shell.execute_reply": "2021-12-04T10:33:31.108101Z",
     "shell.execute_reply.started": "2021-12-04T10:33:31.104585Z"
    },
    "tags": []
   },
   "outputs": [],
   "source": [
    "#######################################################################################################################################\n",
    "########################################### IMPORT GLOBAL VARIABLES FROM CONFIG #######################################################\n",
    "#######################################################################################################################################\n",
    "globals().update(config['function_family'])\n",
    "globals().update(config['data'])\n",
    "globals().update(config['lambda_net'])\n",
    "globals().update(config['evaluation'])\n",
    "globals().update(config['computation'])"
   ]
  },
  {
   "cell_type": "code",
   "execution_count": 6,
   "metadata": {
    "execution": {
     "iopub.execute_input": "2021-12-04T10:33:31.109805Z",
     "iopub.status.busy": "2021-12-04T10:33:31.109511Z",
     "iopub.status.idle": "2021-12-04T10:33:31.117875Z",
     "shell.execute_reply": "2021-12-04T10:33:31.117372Z",
     "shell.execute_reply.started": "2021-12-04T10:33:31.109781Z"
    },
    "tags": []
   },
   "outputs": [],
   "source": [
    "#######################################################################################################################################\n",
    "################################################### VARIABLE ADJUSTMENTS ##############################################################\n",
    "#######################################################################################################################################\n",
    "\n",
    "config['i_net']['data_reshape_version'] = 2 if data_reshape_version == None and (convolution_layers != None or lstm_layers != None or (nas and nas_type != 'SEQUENTIAL')) else data_reshape_version\n",
    "\n",
    "#######################################################################################################################################\n",
    "###################################################### SET VARIABLES + DESIGN #########################################################\n",
    "#######################################################################################################################################\n",
    "\n",
    "#os.environ['TF_CPP_MIN_LOG_LEVEL'] = '2' \n",
    "os.environ['CUDA_VISIBLE_DEVICES'] = gpu_numbers if use_gpu else ''\n",
    "os.environ['TF_FORCE_GPU_ALLOW_GROWTH'] = 'true' if use_gpu else ''\n",
    "\n",
    "#os.environ['XLA_FLAGS'] =  '--xla_gpu_cuda_data_dir=/usr/local/cuda-10.1'\n",
    "\n",
    "#os.environ['XLA_FLAGS'] = '--tf_xla_enable_xla_devices'\n",
    "#os.environ['TF_XLA_FLAGS'] = '--tf_xla_enable_xla_devices'\n",
    "\n",
    "os.environ['XLA_FLAGS'] = '--xla_gpu_cuda_data_dir=/usr/local/cuda-11.4' if use_gpu else ''#-10.1' #--xla_gpu_cuda_data_dir=/usr/local/cuda, \n",
    "os.environ['TF_XLA_FLAGS'] = '--tf_xla_auto_jit=2 ,--tf_xla_enable_xla_devices' if use_gpu else ''#'--tf_xla_auto_jit=2' #, --tf_xla_enable_xla_devices\n",
    "\n",
    "\n",
    "sns.set_style(\"darkgrid\")\n",
    "\n",
    "random.seed(RANDOM_SEED)\n",
    "np.random.seed(RANDOM_SEED)\n",
    "if int(tf.__version__[0]) >= 2:\n",
    "    tf.random.set_seed(RANDOM_SEED)\n",
    "else:\n",
    "    tf.set_random_seed(RANDOM_SEED)\n",
    "    \n",
    "    \n",
    "pd.set_option('display.float_format', lambda x: '%.3f' % x)\n",
    "pd.set_option('display.max_columns', 200)\n",
    "np.set_printoptions(threshold=200)\n",
    "np.set_printoptions(suppress=True)\n",
    "\n"
   ]
  },
  {
   "cell_type": "code",
   "execution_count": 7,
   "metadata": {
    "execution": {
     "iopub.execute_input": "2021-12-04T10:33:31.119214Z",
     "iopub.status.busy": "2021-12-04T10:33:31.118879Z",
     "iopub.status.idle": "2021-12-04T10:33:32.832547Z",
     "shell.execute_reply": "2021-12-04T10:33:32.831754Z",
     "shell.execute_reply.started": "2021-12-04T10:33:31.119188Z"
    },
    "tags": []
   },
   "outputs": [],
   "source": [
    "from utilities.InterpretationNet import *\n",
    "from utilities.LambdaNet import *\n",
    "from utilities.metrics import *\n",
    "from utilities.utility_functions import *\n",
    "from utilities.DecisionTree_BASIC import *\n",
    "\n",
    "#######################################################################################################################################\n",
    "####################################################### CONFIG ADJUSTMENTS ############################################################\n",
    "#######################################################################################################################################\n",
    "\n",
    "#config['lambda_net']['number_of_lambda_weights'] = get_number_of_lambda_net_parameters(lambda_network_layers, number_of_variables, num_classes)\n",
    "#config['function_family']['basic_function_representation_length'] = get_number_of_function_parameters(dt_type, maximum_depth, number_of_variables, num_classes)\n",
    "#config['function_family']['function_representation_length'] = ( \n",
    "#       #((2 ** maximum_depth - 1) * decision_sparsity) * 2 + (2 ** maximum_depth - 1) + (2 ** maximum_depth) * num_classes  if function_representation_type == 1 and dt_type == 'SDT'\n",
    "#       (2 ** maximum_depth - 1) * (number_of_variables + 1) + (2 ** maximum_depth) * number_of_classes if function_representation_type == 1 and dt_type == 'SDT'\n",
    "#  else (2 ** maximum_depth - 1) * decision_sparsity + (2 ** maximum_depth - 1) + ((2 ** maximum_depth - 1)  * decision_sparsity * number_of_variables) + (2 ** maximum_depth) * num_classes if function_representation_type == 2 and dt_type == 'SDT'\n",
    "#  else ((2 ** maximum_depth - 1) * decision_sparsity) * 2 + (2 ** maximum_depth)  if function_representation_type == 1 and dt_type == 'vanilla'\n",
    "#  else (2 ** maximum_depth - 1) * decision_sparsity + ((2 ** maximum_depth - 1)  * decision_sparsity * number_of_variables) + (2 ** maximum_depth) if function_representation_type == 2 and dt_type == 'vanilla'\n",
    "#  else None\n",
    "#                                                            )\n",
    "\n",
    "#######################################################################################################################################\n",
    "################################################## UPDATE VARIABLES ###################################################################\n",
    "#######################################################################################################################################\n",
    "globals().update(config['function_family'])\n",
    "globals().update(config['data'])\n",
    "globals().update(config['lambda_net'])\n",
    "globals().update(config['i_net'])\n",
    "globals().update(config['evaluation'])\n",
    "globals().update(config['computation'])\n",
    "\n",
    "#initialize_LambdaNet_config_from_curent_notebook(config)\n",
    "#initialize_metrics_config_from_curent_notebook(config)\n",
    "#initialize_utility_functions_config_from_curent_notebook(config)\n",
    "#initialize_InterpretationNet_config_from_curent_notebook(config)\n",
    "\n",
    "\n",
    "#######################################################################################################################################\n",
    "###################################################### PATH + FOLDER CREATION #########################################################\n",
    "#######################################################################################################################################\n",
    "#globals().update(generate_paths(config, path_type='interpretation_net'))\n",
    "\n",
    "#create_folders_inet(config)\n",
    "\n",
    "#######################################################################################################################################\n",
    "############################################################ SLEEP TIMER ##############################################################\n",
    "#######################################################################################################################################\n",
    "sleep_minutes(sleep_time)"
   ]
  },
  {
   "cell_type": "code",
   "execution_count": 8,
   "metadata": {
    "execution": {
     "iopub.execute_input": "2021-12-04T10:33:32.833959Z",
     "iopub.status.busy": "2021-12-04T10:33:32.833655Z",
     "iopub.status.idle": "2021-12-04T10:33:32.837157Z",
     "shell.execute_reply": "2021-12-04T10:33:32.836446Z",
     "shell.execute_reply.started": "2021-12-04T10:33:32.833932Z"
    },
    "tags": []
   },
   "outputs": [],
   "source": [
    "#print(path_identifier_interpretation_net)\n",
    "\n",
    "#print(path_identifier_lambda_net_data)\n"
   ]
  },
  {
   "cell_type": "code",
   "execution_count": 9,
   "metadata": {
    "ExecuteTime": {
     "end_time": "2021-01-05T08:33:49.600530Z",
     "start_time": "2021-01-05T08:33:49.583928Z"
    },
    "execution": {
     "iopub.execute_input": "2021-12-04T10:33:32.838313Z",
     "iopub.status.busy": "2021-12-04T10:33:32.838035Z",
     "iopub.status.idle": "2021-12-04T10:33:32.879042Z",
     "shell.execute_reply": "2021-12-04T10:33:32.878228Z",
     "shell.execute_reply.started": "2021-12-04T10:33:32.838288Z"
    },
    "tags": []
   },
   "outputs": [
    {
     "name": "stdout",
     "output_type": "stream",
     "text": [
      "Num GPUs Available:  1\n",
      "Num XLA-GPUs Available:  0\n"
     ]
    }
   ],
   "source": [
    "print(\"Num GPUs Available: \", len(tf.config.experimental.list_physical_devices('GPU')))\n",
    "print(\"Num XLA-GPUs Available: \", len(tf.config.experimental.list_physical_devices('XLA_GPU')))"
   ]
  },
  {
   "cell_type": "markdown",
   "metadata": {},
   "source": [
    "## Interpretation Network Training"
   ]
  },
  {
   "cell_type": "code",
   "execution_count": 10,
   "metadata": {
    "execution": {
     "iopub.execute_input": "2021-12-04T10:33:32.880324Z",
     "iopub.status.busy": "2021-12-04T10:33:32.880054Z",
     "iopub.status.idle": "2021-12-04T10:33:32.883351Z",
     "shell.execute_reply": "2021-12-04T10:33:32.882738Z",
     "shell.execute_reply.started": "2021-12-04T10:33:32.880298Z"
    },
    "tags": []
   },
   "outputs": [],
   "source": [
    "#%load_ext autoreload"
   ]
  },
  {
   "cell_type": "code",
   "execution_count": 11,
   "metadata": {
    "execution": {
     "iopub.execute_input": "2021-12-04T10:33:32.884664Z",
     "iopub.status.busy": "2021-12-04T10:33:32.884418Z",
     "iopub.status.idle": "2021-12-04T10:33:32.912326Z",
     "shell.execute_reply": "2021-12-04T10:33:32.911619Z",
     "shell.execute_reply.started": "2021-12-04T10:33:32.884640Z"
    },
    "tags": []
   },
   "outputs": [],
   "source": [
    "def generate_inet(config, evaluation_data=None):\n",
    "\n",
    "    callback_names = []\n",
    "\n",
    "    ############################## DATA PREPARATION ###############################\n",
    "\n",
    "    random_model = generate_base_model(config)\n",
    "    #random_evaluation_dataset =  np.random.uniform(low=0, high=0.2, size=(config['evaluation']['random_evaluation_dataset_size'], config['data']['number_of_variables']))\n",
    "    if evaluation_data is None:\n",
    "        np.random.seed(RANDOM_SEED)\n",
    "        random_evaluation_dataset =  np.random.uniform(low=config['data']['x_min'], high=config['data']['x_max'], size=(config['evaluation']['random_evaluation_dataset_size'], config['data']['number_of_variables']))\n",
    "    else:\n",
    "        random_evaluation_dataset = evaluation_data\n",
    "        \n",
    "    random_network_parameters = random_model.get_weights()\n",
    "    network_parameters_structure = [network_parameter.shape for network_parameter in random_network_parameters]         \n",
    "\n",
    "    #(X_train, X_train_flat, y_train) = generate_inet_train_data(lambda_net_dataset_train, config)\n",
    "    #(X_valid, X_valid_flat, y_valid) = generate_inet_train_data(lambda_net_dataset_valid, config)\n",
    "    #(X_test, X_test_flat, y_test) = generate_inet_train_data(lambda_net_dataset_test, config)\n",
    "\n",
    "\n",
    "    ############################## OBJECTIVE SPECIFICATION AND LOSS FUNCTION ADJUSTMENTS ###############################             \n",
    "    loss_function = inet_decision_function_fv_loss_wrapper(random_evaluation_dataset, random_model, network_parameters_structure, config)\n",
    "    metrics = [\n",
    "               inet_decision_function_fv_metric_wrapper(random_evaluation_dataset, random_model, network_parameters_structure, config, 'binary_crossentropy'), \n",
    "               #inet_decision_function_fv_metric_wrapper(random_evaluation_dataset, random_model, network_parameters_structure, config, 'mae'), \n",
    "               inet_decision_function_fv_metric_wrapper(random_evaluation_dataset, random_model, network_parameters_structure, config, 'binary_accuracy')\n",
    "    ]\n",
    "\n",
    "    ############################## BUILD MODEL ###############################\n",
    "\n",
    "    inputs = Input(shape=number_of_lambda_weights, name='input')\n",
    "\n",
    "    hidden = tf.keras.layers.Dense(config['i_net']['dense_layers'][0], name='hidden1_' + str(config['i_net']['dense_layers'][0]))(inputs)\n",
    "    hidden = tf.keras.layers.Activation(activation='relu', name='activation1_' + 'relu')(hidden)\n",
    "\n",
    "    if config['i_net']['dropout'][0] > 0:\n",
    "        hidden = tf.keras.layers.Dropout(config['i_net']['dropout'][0], name='dropout1_' + str(config['i_net']['dropout'][0]))(hidden)\n",
    "\n",
    "    for layer_index, neurons in enumerate(config['i_net']['dense_layers'][1:]):\n",
    "        hidden = tf.keras.layers.Dense(neurons, name='hidden' + str(layer_index+2) + '_' + str(neurons))(hidden)\n",
    "        hidden = tf.keras.layers.Activation(activation='relu', name='activation'  + str(layer_index+2) + '_relu')(hidden)\n",
    "\n",
    "        if config['i_net']['dropout'][layer_index+1] > 0:\n",
    "            hidden = tf.keras.layers.Dropout(config['i_net']['dropout'][layer_index+1], name='dropout' + str(layer_index+2) + '_' + str(config['i_net']['dropout'][layer_index+1]))(hidden)\n",
    "\n",
    "\n",
    "    if config['i_net']['function_representation_type'] == 1:\n",
    "        if config['function_family']['dt_type'] == 'SDT':\n",
    "            outputs = tf.keras.layers.Dense(config['function_family']['function_representation_length'], name='output_' + str(config['function_family']['function_representation_length']))(hidden)\n",
    "        elif config['function_family']['dt_type'] == 'vanilla':\n",
    "            internal_node_num_ = 2 ** config['function_family']['maximum_depth'] - 1 \n",
    "            leaf_node_num_ = 2 ** config['function_family']['maximum_depth']                    \n",
    "\n",
    "            outputs_coeff = tf.keras.layers.Dense(internal_node_num_ * config['function_family']['decision_sparsity'], activation='sigmoid', name='outputs_coeff_' + str(internal_node_num_ * config['function_family']['decision_sparsity']))(hidden)        \n",
    "            outputs_index = tf.keras.layers.Dense(internal_node_num_ * config['function_family']['decision_sparsity'], activation='linear', name='outputs_index_' + str(internal_node_num_ * config['function_family']['decision_sparsity']))(hidden)      \n",
    "            outputs_leaf = tf.keras.layers.Dense(leaf_node_num_, activation='sigmoid', name='outputs_leaf_' + str(leaf_node_num_))(hidden) \n",
    "\n",
    "            outputs = concatenate([outputs_coeff, outputs_index, outputs_leaf], name='output_combined')\n",
    "\n",
    "    elif config['i_net']['function_representation_type'] == 2:\n",
    "        if config['function_family']['dt_type'] == 'SDT':\n",
    "\n",
    "            #input_dim = config['data']['number_of_variables']\n",
    "            #output_dim = config['data']['num_classes']\n",
    "            internal_node_num_ = 2 ** config['function_family']['maximum_depth'] - 1 \n",
    "            leaf_node_num_ = 2 ** config['function_family']['maximum_depth']\n",
    "\n",
    "            number_output_coefficients = internal_node_num_ * config['function_family']['decision_sparsity']\n",
    "\n",
    "            outputs_coeff = tf.keras.layers.Dense(number_output_coefficients, name='output_coeff_' + str(number_output_coefficients))(hidden)\n",
    "\n",
    "            outputs_list = [outputs_coeff]\n",
    "\n",
    "            for outputs_index in range(internal_node_num_):\n",
    "                for var_index in range(config['function_family']['decision_sparsity']):\n",
    "                    output_name = 'output_identifier' + str(outputs_index+1) + '_var' + str(var_index+1) + '_' + str(config['function_family']['decision_sparsity'])\n",
    "                    outputs_identifer = tf.keras.layers.Dense(config['data']['number_of_variables'], activation='softmax', name=output_name)(hidden)\n",
    "                    outputs_list.append(outputs_identifer)    \n",
    "\n",
    "            outputs_bias = tf.keras.layers.Dense(internal_node_num_, name='output_bias_' + str(internal_node_num_))(hidden)\n",
    "            outputs_list.append(outputs_bias)     \n",
    "\n",
    "            outputs_leaf_nodes = tf.keras.layers.Dense(leaf_node_num_ * config['data']['num_classes'], name='output_leaf_nodes_' + str(leaf_node_num_ * config['data']['num_classes']))(hidden)\n",
    "            outputs_list.append(outputs_leaf_nodes)     \n",
    "\n",
    "            outputs = concatenate(outputs_list, name='output_combined')\n",
    "\n",
    "\n",
    "        elif config['function_family']['dt_type'] == 'vanilla':\n",
    "            #input_dim = config['data']['number_of_variables']\n",
    "            #output_dim = config['data']['num_classes']\n",
    "            internal_node_num_ = 2 ** config['function_family']['maximum_depth'] - 1 \n",
    "            leaf_node_num_ = 2 ** config['function_family']['maximum_depth']\n",
    "\n",
    "            number_output_coefficients = internal_node_num_ * config['function_family']['decision_sparsity']\n",
    "\n",
    "            outputs_coeff = tf.keras.layers.Dense(number_output_coefficients, activation='sigmoid', name='output_coeff_' + str(number_output_coefficients))(hidden)\n",
    "            outputs_list = [outputs_coeff]\n",
    "            for outputs_index in range(internal_node_num_):\n",
    "                for var_index in range(config['function_family']['decision_sparsity']):\n",
    "                    output_name = 'output_identifier' + str(outputs_index+1) + '_var' + str(var_index+1) + '_' + str(config['function_family']['decision_sparsity'])\n",
    "                    outputs_identifer = tf.keras.layers.Dense(config['data']['number_of_variables'], activation='softmax', name=output_name)(hidden)\n",
    "                    outputs_list.append(outputs_identifer)    \n",
    "\n",
    "            for leaf_node in range(leaf_node_num_):\n",
    "                #outputs_leaf_nodes = tf.keras.layers.Dense(config['data']['num_classes'], activation='softmax', name='output_leaf_node_' + str(leaf_node))(hidden)\n",
    "                outputs_leaf_nodes = tf.keras.layers.Dense(1, activation='sigmoid', name='output_leaf_node_' + str(leaf_node))(hidden)\n",
    "                outputs_list.append(outputs_leaf_nodes)    \n",
    "\n",
    "            outputs = concatenate(outputs_list, name='output_combined')\n",
    "\n",
    "\n",
    "\n",
    "    inet_base_model = Model(inputs=inputs, outputs=outputs)          \n",
    "\n",
    "    optimizer = config['i_net']['optimizer']\n",
    "    if optimizer == \"custom\":\n",
    "        optimizer = tf.keras.optimizers.Adam(learning_rate=0.0001)\n",
    "\n",
    "    inet_base_model.compile(optimizer=optimizer,\n",
    "                  loss=loss_function,\n",
    "                  metrics=metrics\n",
    "                 )\n",
    "\n",
    "    return inet_base_model"
   ]
  },
  {
   "cell_type": "code",
   "execution_count": 12,
   "metadata": {
    "execution": {
     "iopub.execute_input": "2021-12-04T10:33:32.916060Z",
     "iopub.status.busy": "2021-12-04T10:33:32.915778Z",
     "iopub.status.idle": "2021-12-04T10:33:32.919533Z",
     "shell.execute_reply": "2021-12-04T10:33:32.918782Z",
     "shell.execute_reply.started": "2021-12-04T10:33:32.916034Z"
    },
    "tags": []
   },
   "outputs": [],
   "source": [
    "extension_rate = 1\n",
    "initial_parameters = 1024*2\n",
    "\n",
    "mutation_number = 100\n",
    "\n",
    "increase_interval_base = 25"
   ]
  },
  {
   "cell_type": "markdown",
   "metadata": {},
   "source": [
    "# REAL DATA EVALUATION"
   ]
  },
  {
   "cell_type": "markdown",
   "metadata": {},
   "source": [
    "## ADULT DATASET"
   ]
  },
  {
   "cell_type": "code",
   "execution_count": 13,
   "metadata": {
    "execution": {
     "iopub.execute_input": "2021-12-04T10:33:32.921150Z",
     "iopub.status.busy": "2021-12-04T10:33:32.920748Z",
     "iopub.status.idle": "2021-12-04T10:33:34.985002Z",
     "shell.execute_reply": "2021-12-04T10:33:34.984380Z",
     "shell.execute_reply.started": "2021-12-04T10:33:32.921125Z"
    },
    "tags": []
   },
   "outputs": [
    {
     "data": {
      "text/html": [
       "<div>\n",
       "<style scoped>\n",
       "    .dataframe tbody tr th:only-of-type {\n",
       "        vertical-align: middle;\n",
       "    }\n",
       "\n",
       "    .dataframe tbody tr th {\n",
       "        vertical-align: top;\n",
       "    }\n",
       "\n",
       "    .dataframe thead th {\n",
       "        text-align: right;\n",
       "    }\n",
       "</style>\n",
       "<table border=\"1\" class=\"dataframe\">\n",
       "  <thead>\n",
       "    <tr style=\"text-align: right;\">\n",
       "      <th></th>\n",
       "      <th>Age</th>\n",
       "      <th>Workclass</th>\n",
       "      <th>fnlwgt</th>\n",
       "      <th>Education</th>\n",
       "      <th>Education-Num</th>\n",
       "      <th>Marital Status</th>\n",
       "      <th>Occupation</th>\n",
       "      <th>Relationship</th>\n",
       "      <th>Race</th>\n",
       "      <th>Sex</th>\n",
       "      <th>Capital Gain</th>\n",
       "      <th>Capital Loss</th>\n",
       "      <th>Hours per week</th>\n",
       "      <th>Country</th>\n",
       "      <th>capital_gain</th>\n",
       "    </tr>\n",
       "  </thead>\n",
       "  <tbody>\n",
       "    <tr>\n",
       "      <th>0</th>\n",
       "      <td>39</td>\n",
       "      <td>State-gov</td>\n",
       "      <td>77516</td>\n",
       "      <td>Bachelors</td>\n",
       "      <td>13</td>\n",
       "      <td>Never-married</td>\n",
       "      <td>Adm-clerical</td>\n",
       "      <td>Not-in-family</td>\n",
       "      <td>White</td>\n",
       "      <td>Male</td>\n",
       "      <td>2174</td>\n",
       "      <td>0</td>\n",
       "      <td>40</td>\n",
       "      <td>United-States</td>\n",
       "      <td>&lt;=50K</td>\n",
       "    </tr>\n",
       "    <tr>\n",
       "      <th>1</th>\n",
       "      <td>50</td>\n",
       "      <td>Self-emp-not-inc</td>\n",
       "      <td>83311</td>\n",
       "      <td>Bachelors</td>\n",
       "      <td>13</td>\n",
       "      <td>Married-civ-spouse</td>\n",
       "      <td>Exec-managerial</td>\n",
       "      <td>Husband</td>\n",
       "      <td>White</td>\n",
       "      <td>Male</td>\n",
       "      <td>0</td>\n",
       "      <td>0</td>\n",
       "      <td>13</td>\n",
       "      <td>United-States</td>\n",
       "      <td>&lt;=50K</td>\n",
       "    </tr>\n",
       "    <tr>\n",
       "      <th>2</th>\n",
       "      <td>38</td>\n",
       "      <td>Private</td>\n",
       "      <td>215646</td>\n",
       "      <td>HS-grad</td>\n",
       "      <td>9</td>\n",
       "      <td>Divorced</td>\n",
       "      <td>Handlers-cleaners</td>\n",
       "      <td>Not-in-family</td>\n",
       "      <td>White</td>\n",
       "      <td>Male</td>\n",
       "      <td>0</td>\n",
       "      <td>0</td>\n",
       "      <td>40</td>\n",
       "      <td>United-States</td>\n",
       "      <td>&lt;=50K</td>\n",
       "    </tr>\n",
       "    <tr>\n",
       "      <th>3</th>\n",
       "      <td>53</td>\n",
       "      <td>Private</td>\n",
       "      <td>234721</td>\n",
       "      <td>11th</td>\n",
       "      <td>7</td>\n",
       "      <td>Married-civ-spouse</td>\n",
       "      <td>Handlers-cleaners</td>\n",
       "      <td>Husband</td>\n",
       "      <td>Black</td>\n",
       "      <td>Male</td>\n",
       "      <td>0</td>\n",
       "      <td>0</td>\n",
       "      <td>40</td>\n",
       "      <td>United-States</td>\n",
       "      <td>&lt;=50K</td>\n",
       "    </tr>\n",
       "    <tr>\n",
       "      <th>4</th>\n",
       "      <td>28</td>\n",
       "      <td>Private</td>\n",
       "      <td>338409</td>\n",
       "      <td>Bachelors</td>\n",
       "      <td>13</td>\n",
       "      <td>Married-civ-spouse</td>\n",
       "      <td>Prof-specialty</td>\n",
       "      <td>Wife</td>\n",
       "      <td>Black</td>\n",
       "      <td>Female</td>\n",
       "      <td>0</td>\n",
       "      <td>0</td>\n",
       "      <td>40</td>\n",
       "      <td>Cuba</td>\n",
       "      <td>&lt;=50K</td>\n",
       "    </tr>\n",
       "  </tbody>\n",
       "</table>\n",
       "</div>"
      ],
      "text/plain": [
       "   Age          Workclass  fnlwgt   Education  Education-Num  \\\n",
       "0   39          State-gov   77516   Bachelors             13   \n",
       "1   50   Self-emp-not-inc   83311   Bachelors             13   \n",
       "2   38            Private  215646     HS-grad              9   \n",
       "3   53            Private  234721        11th              7   \n",
       "4   28            Private  338409   Bachelors             13   \n",
       "\n",
       "        Marital Status          Occupation    Relationship    Race      Sex  \\\n",
       "0        Never-married        Adm-clerical   Not-in-family   White     Male   \n",
       "1   Married-civ-spouse     Exec-managerial         Husband   White     Male   \n",
       "2             Divorced   Handlers-cleaners   Not-in-family   White     Male   \n",
       "3   Married-civ-spouse   Handlers-cleaners         Husband   Black     Male   \n",
       "4   Married-civ-spouse      Prof-specialty            Wife   Black   Female   \n",
       "\n",
       "   Capital Gain  Capital Loss  Hours per week         Country capital_gain  \n",
       "0          2174             0              40   United-States        <=50K  \n",
       "1             0             0              13   United-States        <=50K  \n",
       "2             0             0              40   United-States        <=50K  \n",
       "3             0             0              40   United-States        <=50K  \n",
       "4             0             0              40            Cuba        <=50K  "
      ]
     },
     "execution_count": 13,
     "metadata": {},
     "output_type": "execute_result"
    }
   ],
   "source": [
    "feature_names = [\n",
    "                 \"Age\", #0\n",
    "                 \"Workclass\",  #1\n",
    "                 \"fnlwgt\",  #2\n",
    "                 \"Education\",  #3\n",
    "                 \"Education-Num\",  #4\n",
    "                 \"Marital Status\", #5\n",
    "                 \"Occupation\",  #6\n",
    "                 \"Relationship\",  #7\n",
    "                 \"Race\",  #8\n",
    "                 \"Sex\",  #9\n",
    "                 \"Capital Gain\",  #10\n",
    "                 \"Capital Loss\", #11\n",
    "                 \"Hours per week\",  #12\n",
    "                 \"Country\", #13\n",
    "                 \"capital_gain\" #14\n",
    "                ] \n",
    "\n",
    "\n",
    "\n",
    "adult_data = pd.read_csv('https://archive.ics.uci.edu/ml/machine-learning-databases/adult/adult.data', names=feature_names, index_col=False)\n",
    "\n",
    "adult_data.head()"
   ]
  },
  {
   "cell_type": "code",
   "execution_count": 14,
   "metadata": {
    "execution": {
     "iopub.execute_input": "2021-12-04T10:33:34.986659Z",
     "iopub.status.busy": "2021-12-04T10:33:34.986371Z",
     "iopub.status.idle": "2021-12-04T10:33:35.016264Z",
     "shell.execute_reply": "2021-12-04T10:33:35.015758Z",
     "shell.execute_reply.started": "2021-12-04T10:33:34.986633Z"
    },
    "tags": []
   },
   "outputs": [
    {
     "data": {
      "text/html": [
       "<div>\n",
       "<style scoped>\n",
       "    .dataframe tbody tr th:only-of-type {\n",
       "        vertical-align: middle;\n",
       "    }\n",
       "\n",
       "    .dataframe tbody tr th {\n",
       "        vertical-align: top;\n",
       "    }\n",
       "\n",
       "    .dataframe thead th {\n",
       "        text-align: right;\n",
       "    }\n",
       "</style>\n",
       "<table border=\"1\" class=\"dataframe\">\n",
       "  <thead>\n",
       "    <tr style=\"text-align: right;\">\n",
       "      <th></th>\n",
       "      <th>Age</th>\n",
       "      <th>fnlwgt</th>\n",
       "      <th>Education-Num</th>\n",
       "      <th>Capital Gain</th>\n",
       "      <th>Capital Loss</th>\n",
       "      <th>Hours per week</th>\n",
       "    </tr>\n",
       "  </thead>\n",
       "  <tbody>\n",
       "    <tr>\n",
       "      <th>count</th>\n",
       "      <td>32561.000</td>\n",
       "      <td>32561.000</td>\n",
       "      <td>32561.000</td>\n",
       "      <td>32561.000</td>\n",
       "      <td>32561.000</td>\n",
       "      <td>32561.000</td>\n",
       "    </tr>\n",
       "    <tr>\n",
       "      <th>mean</th>\n",
       "      <td>38.582</td>\n",
       "      <td>189778.367</td>\n",
       "      <td>10.081</td>\n",
       "      <td>1077.649</td>\n",
       "      <td>87.304</td>\n",
       "      <td>40.437</td>\n",
       "    </tr>\n",
       "    <tr>\n",
       "      <th>std</th>\n",
       "      <td>13.640</td>\n",
       "      <td>105549.978</td>\n",
       "      <td>2.573</td>\n",
       "      <td>7385.292</td>\n",
       "      <td>402.960</td>\n",
       "      <td>12.347</td>\n",
       "    </tr>\n",
       "    <tr>\n",
       "      <th>min</th>\n",
       "      <td>17.000</td>\n",
       "      <td>12285.000</td>\n",
       "      <td>1.000</td>\n",
       "      <td>0.000</td>\n",
       "      <td>0.000</td>\n",
       "      <td>1.000</td>\n",
       "    </tr>\n",
       "    <tr>\n",
       "      <th>25%</th>\n",
       "      <td>28.000</td>\n",
       "      <td>117827.000</td>\n",
       "      <td>9.000</td>\n",
       "      <td>0.000</td>\n",
       "      <td>0.000</td>\n",
       "      <td>40.000</td>\n",
       "    </tr>\n",
       "    <tr>\n",
       "      <th>50%</th>\n",
       "      <td>37.000</td>\n",
       "      <td>178356.000</td>\n",
       "      <td>10.000</td>\n",
       "      <td>0.000</td>\n",
       "      <td>0.000</td>\n",
       "      <td>40.000</td>\n",
       "    </tr>\n",
       "    <tr>\n",
       "      <th>75%</th>\n",
       "      <td>48.000</td>\n",
       "      <td>237051.000</td>\n",
       "      <td>12.000</td>\n",
       "      <td>0.000</td>\n",
       "      <td>0.000</td>\n",
       "      <td>45.000</td>\n",
       "    </tr>\n",
       "    <tr>\n",
       "      <th>max</th>\n",
       "      <td>90.000</td>\n",
       "      <td>1484705.000</td>\n",
       "      <td>16.000</td>\n",
       "      <td>99999.000</td>\n",
       "      <td>4356.000</td>\n",
       "      <td>99.000</td>\n",
       "    </tr>\n",
       "  </tbody>\n",
       "</table>\n",
       "</div>"
      ],
      "text/plain": [
       "            Age      fnlwgt  Education-Num  Capital Gain  Capital Loss  \\\n",
       "count 32561.000   32561.000      32561.000     32561.000     32561.000   \n",
       "mean     38.582  189778.367         10.081      1077.649        87.304   \n",
       "std      13.640  105549.978          2.573      7385.292       402.960   \n",
       "min      17.000   12285.000          1.000         0.000         0.000   \n",
       "25%      28.000  117827.000          9.000         0.000         0.000   \n",
       "50%      37.000  178356.000         10.000         0.000         0.000   \n",
       "75%      48.000  237051.000         12.000         0.000         0.000   \n",
       "max      90.000 1484705.000         16.000     99999.000      4356.000   \n",
       "\n",
       "       Hours per week  \n",
       "count       32561.000  \n",
       "mean           40.437  \n",
       "std            12.347  \n",
       "min             1.000  \n",
       "25%            40.000  \n",
       "50%            40.000  \n",
       "75%            45.000  \n",
       "max            99.000  "
      ]
     },
     "execution_count": 14,
     "metadata": {},
     "output_type": "execute_result"
    }
   ],
   "source": [
    "adult_data.describe()"
   ]
  },
  {
   "cell_type": "code",
   "execution_count": 15,
   "metadata": {
    "execution": {
     "iopub.execute_input": "2021-12-04T10:33:35.017486Z",
     "iopub.status.busy": "2021-12-04T10:33:35.017228Z",
     "iopub.status.idle": "2021-12-04T10:33:35.042373Z",
     "shell.execute_reply": "2021-12-04T10:33:35.041802Z",
     "shell.execute_reply.started": "2021-12-04T10:33:35.017461Z"
    },
    "tags": []
   },
   "outputs": [
    {
     "name": "stdout",
     "output_type": "stream",
     "text": [
      "<class 'pandas.core.frame.DataFrame'>\n",
      "RangeIndex: 32561 entries, 0 to 32560\n",
      "Data columns (total 15 columns):\n",
      " #   Column          Non-Null Count  Dtype \n",
      "---  ------          --------------  ----- \n",
      " 0   Age             32561 non-null  int64 \n",
      " 1   Workclass       32561 non-null  object\n",
      " 2   fnlwgt          32561 non-null  int64 \n",
      " 3   Education       32561 non-null  object\n",
      " 4   Education-Num   32561 non-null  int64 \n",
      " 5   Marital Status  32561 non-null  object\n",
      " 6   Occupation      32561 non-null  object\n",
      " 7   Relationship    32561 non-null  object\n",
      " 8   Race            32561 non-null  object\n",
      " 9   Sex             32561 non-null  object\n",
      " 10  Capital Gain    32561 non-null  int64 \n",
      " 11  Capital Loss    32561 non-null  int64 \n",
      " 12  Hours per week  32561 non-null  int64 \n",
      " 13  Country         32561 non-null  object\n",
      " 14  capital_gain    32561 non-null  object\n",
      "dtypes: int64(6), object(9)\n",
      "memory usage: 3.7+ MB\n"
     ]
    }
   ],
   "source": [
    "adult_data.info()"
   ]
  },
  {
   "cell_type": "code",
   "execution_count": 16,
   "metadata": {
    "execution": {
     "iopub.execute_input": "2021-12-04T10:33:35.043595Z",
     "iopub.status.busy": "2021-12-04T10:33:35.043354Z",
     "iopub.status.idle": "2021-12-04T10:33:35.046005Z",
     "shell.execute_reply": "2021-12-04T10:33:35.045463Z",
     "shell.execute_reply.started": "2021-12-04T10:33:35.043569Z"
    },
    "tags": []
   },
   "outputs": [],
   "source": [
    "#adult_data['Workclass'][adult_data['Workclass'] != ' Private'] = 'Other'\n",
    "#adult_data['Race'][adult_data['Race'] != ' White'] = 'Other'\n",
    "\n",
    "#adult_data.head()"
   ]
  },
  {
   "cell_type": "code",
   "execution_count": 17,
   "metadata": {
    "execution": {
     "iopub.execute_input": "2021-12-04T10:33:35.047760Z",
     "iopub.status.busy": "2021-12-04T10:33:35.047135Z",
     "iopub.status.idle": "2021-12-04T10:33:35.582916Z",
     "shell.execute_reply": "2021-12-04T10:33:35.582342Z",
     "shell.execute_reply.started": "2021-12-04T10:33:35.047702Z"
    },
    "tags": []
   },
   "outputs": [
    {
     "name": "stdout",
     "output_type": "stream",
     "text": [
      "(32561, 43)\n"
     ]
    },
    {
     "data": {
      "text/html": [
       "<div>\n",
       "<style scoped>\n",
       "    .dataframe tbody tr th:only-of-type {\n",
       "        vertical-align: middle;\n",
       "    }\n",
       "\n",
       "    .dataframe tbody tr th {\n",
       "        vertical-align: top;\n",
       "    }\n",
       "\n",
       "    .dataframe thead th {\n",
       "        text-align: right;\n",
       "    }\n",
       "</style>\n",
       "<table border=\"1\" class=\"dataframe\">\n",
       "  <thead>\n",
       "    <tr style=\"text-align: right;\">\n",
       "      <th></th>\n",
       "      <th>cat__x0_ Amer-Indian-Eskimo</th>\n",
       "      <th>cat__x0_ Asian-Pac-Islander</th>\n",
       "      <th>cat__x0_ Black</th>\n",
       "      <th>cat__x0_ Other</th>\n",
       "      <th>cat__x0_ White</th>\n",
       "      <th>cat__x1_ Divorced</th>\n",
       "      <th>cat__x1_ Married-AF-spouse</th>\n",
       "      <th>cat__x1_ Married-civ-spouse</th>\n",
       "      <th>cat__x1_ Married-spouse-absent</th>\n",
       "      <th>cat__x1_ Never-married</th>\n",
       "      <th>cat__x1_ Separated</th>\n",
       "      <th>cat__x1_ Widowed</th>\n",
       "      <th>cat__x2_ 10th</th>\n",
       "      <th>cat__x2_ 11th</th>\n",
       "      <th>cat__x2_ 12th</th>\n",
       "      <th>cat__x2_ 1st-4th</th>\n",
       "      <th>cat__x2_ 5th-6th</th>\n",
       "      <th>cat__x2_ 7th-8th</th>\n",
       "      <th>cat__x2_ 9th</th>\n",
       "      <th>cat__x2_ Assoc-acdm</th>\n",
       "      <th>cat__x2_ Assoc-voc</th>\n",
       "      <th>cat__x2_ Bachelors</th>\n",
       "      <th>cat__x2_ Doctorate</th>\n",
       "      <th>cat__x2_ HS-grad</th>\n",
       "      <th>cat__x2_ Masters</th>\n",
       "      <th>cat__x2_ Preschool</th>\n",
       "      <th>cat__x2_ Prof-school</th>\n",
       "      <th>cat__x2_ Some-college</th>\n",
       "      <th>cat__x3_ ?</th>\n",
       "      <th>cat__x3_ Federal-gov</th>\n",
       "      <th>cat__x3_ Local-gov</th>\n",
       "      <th>cat__x3_ Never-worked</th>\n",
       "      <th>cat__x3_ Private</th>\n",
       "      <th>cat__x3_ Self-emp-inc</th>\n",
       "      <th>cat__x3_ Self-emp-not-inc</th>\n",
       "      <th>cat__x3_ State-gov</th>\n",
       "      <th>cat__x3_ Without-pay</th>\n",
       "      <th>Sex</th>\n",
       "      <th>Age</th>\n",
       "      <th>fnlwgt</th>\n",
       "      <th>Capital Gain</th>\n",
       "      <th>Capital Loss</th>\n",
       "      <th>Hours per week</th>\n",
       "    </tr>\n",
       "  </thead>\n",
       "  <tbody>\n",
       "    <tr>\n",
       "      <th>0</th>\n",
       "      <td>0.000</td>\n",
       "      <td>0.000</td>\n",
       "      <td>0.000</td>\n",
       "      <td>0.000</td>\n",
       "      <td>1.000</td>\n",
       "      <td>0.000</td>\n",
       "      <td>0.000</td>\n",
       "      <td>0.000</td>\n",
       "      <td>0.000</td>\n",
       "      <td>1.000</td>\n",
       "      <td>0.000</td>\n",
       "      <td>0.000</td>\n",
       "      <td>0.000</td>\n",
       "      <td>0.000</td>\n",
       "      <td>0.000</td>\n",
       "      <td>0.000</td>\n",
       "      <td>0.000</td>\n",
       "      <td>0.000</td>\n",
       "      <td>0.000</td>\n",
       "      <td>0.000</td>\n",
       "      <td>0.000</td>\n",
       "      <td>1.000</td>\n",
       "      <td>0.000</td>\n",
       "      <td>0.000</td>\n",
       "      <td>0.000</td>\n",
       "      <td>0.000</td>\n",
       "      <td>0.000</td>\n",
       "      <td>0.000</td>\n",
       "      <td>0.000</td>\n",
       "      <td>0.000</td>\n",
       "      <td>0.000</td>\n",
       "      <td>0.000</td>\n",
       "      <td>0.000</td>\n",
       "      <td>0.000</td>\n",
       "      <td>0.000</td>\n",
       "      <td>1.000</td>\n",
       "      <td>0.000</td>\n",
       "      <td>1.000</td>\n",
       "      <td>39.000</td>\n",
       "      <td>77516.000</td>\n",
       "      <td>2174.000</td>\n",
       "      <td>0.000</td>\n",
       "      <td>40.000</td>\n",
       "    </tr>\n",
       "    <tr>\n",
       "      <th>1</th>\n",
       "      <td>0.000</td>\n",
       "      <td>0.000</td>\n",
       "      <td>0.000</td>\n",
       "      <td>0.000</td>\n",
       "      <td>1.000</td>\n",
       "      <td>0.000</td>\n",
       "      <td>0.000</td>\n",
       "      <td>1.000</td>\n",
       "      <td>0.000</td>\n",
       "      <td>0.000</td>\n",
       "      <td>0.000</td>\n",
       "      <td>0.000</td>\n",
       "      <td>0.000</td>\n",
       "      <td>0.000</td>\n",
       "      <td>0.000</td>\n",
       "      <td>0.000</td>\n",
       "      <td>0.000</td>\n",
       "      <td>0.000</td>\n",
       "      <td>0.000</td>\n",
       "      <td>0.000</td>\n",
       "      <td>0.000</td>\n",
       "      <td>1.000</td>\n",
       "      <td>0.000</td>\n",
       "      <td>0.000</td>\n",
       "      <td>0.000</td>\n",
       "      <td>0.000</td>\n",
       "      <td>0.000</td>\n",
       "      <td>0.000</td>\n",
       "      <td>0.000</td>\n",
       "      <td>0.000</td>\n",
       "      <td>0.000</td>\n",
       "      <td>0.000</td>\n",
       "      <td>0.000</td>\n",
       "      <td>0.000</td>\n",
       "      <td>1.000</td>\n",
       "      <td>0.000</td>\n",
       "      <td>0.000</td>\n",
       "      <td>1.000</td>\n",
       "      <td>50.000</td>\n",
       "      <td>83311.000</td>\n",
       "      <td>0.000</td>\n",
       "      <td>0.000</td>\n",
       "      <td>13.000</td>\n",
       "    </tr>\n",
       "    <tr>\n",
       "      <th>2</th>\n",
       "      <td>0.000</td>\n",
       "      <td>0.000</td>\n",
       "      <td>0.000</td>\n",
       "      <td>0.000</td>\n",
       "      <td>1.000</td>\n",
       "      <td>1.000</td>\n",
       "      <td>0.000</td>\n",
       "      <td>0.000</td>\n",
       "      <td>0.000</td>\n",
       "      <td>0.000</td>\n",
       "      <td>0.000</td>\n",
       "      <td>0.000</td>\n",
       "      <td>0.000</td>\n",
       "      <td>0.000</td>\n",
       "      <td>0.000</td>\n",
       "      <td>0.000</td>\n",
       "      <td>0.000</td>\n",
       "      <td>0.000</td>\n",
       "      <td>0.000</td>\n",
       "      <td>0.000</td>\n",
       "      <td>0.000</td>\n",
       "      <td>0.000</td>\n",
       "      <td>0.000</td>\n",
       "      <td>1.000</td>\n",
       "      <td>0.000</td>\n",
       "      <td>0.000</td>\n",
       "      <td>0.000</td>\n",
       "      <td>0.000</td>\n",
       "      <td>0.000</td>\n",
       "      <td>0.000</td>\n",
       "      <td>0.000</td>\n",
       "      <td>0.000</td>\n",
       "      <td>1.000</td>\n",
       "      <td>0.000</td>\n",
       "      <td>0.000</td>\n",
       "      <td>0.000</td>\n",
       "      <td>0.000</td>\n",
       "      <td>1.000</td>\n",
       "      <td>38.000</td>\n",
       "      <td>215646.000</td>\n",
       "      <td>0.000</td>\n",
       "      <td>0.000</td>\n",
       "      <td>40.000</td>\n",
       "    </tr>\n",
       "    <tr>\n",
       "      <th>3</th>\n",
       "      <td>0.000</td>\n",
       "      <td>0.000</td>\n",
       "      <td>1.000</td>\n",
       "      <td>0.000</td>\n",
       "      <td>0.000</td>\n",
       "      <td>0.000</td>\n",
       "      <td>0.000</td>\n",
       "      <td>1.000</td>\n",
       "      <td>0.000</td>\n",
       "      <td>0.000</td>\n",
       "      <td>0.000</td>\n",
       "      <td>0.000</td>\n",
       "      <td>0.000</td>\n",
       "      <td>1.000</td>\n",
       "      <td>0.000</td>\n",
       "      <td>0.000</td>\n",
       "      <td>0.000</td>\n",
       "      <td>0.000</td>\n",
       "      <td>0.000</td>\n",
       "      <td>0.000</td>\n",
       "      <td>0.000</td>\n",
       "      <td>0.000</td>\n",
       "      <td>0.000</td>\n",
       "      <td>0.000</td>\n",
       "      <td>0.000</td>\n",
       "      <td>0.000</td>\n",
       "      <td>0.000</td>\n",
       "      <td>0.000</td>\n",
       "      <td>0.000</td>\n",
       "      <td>0.000</td>\n",
       "      <td>0.000</td>\n",
       "      <td>0.000</td>\n",
       "      <td>1.000</td>\n",
       "      <td>0.000</td>\n",
       "      <td>0.000</td>\n",
       "      <td>0.000</td>\n",
       "      <td>0.000</td>\n",
       "      <td>1.000</td>\n",
       "      <td>53.000</td>\n",
       "      <td>234721.000</td>\n",
       "      <td>0.000</td>\n",
       "      <td>0.000</td>\n",
       "      <td>40.000</td>\n",
       "    </tr>\n",
       "    <tr>\n",
       "      <th>4</th>\n",
       "      <td>0.000</td>\n",
       "      <td>0.000</td>\n",
       "      <td>1.000</td>\n",
       "      <td>0.000</td>\n",
       "      <td>0.000</td>\n",
       "      <td>0.000</td>\n",
       "      <td>0.000</td>\n",
       "      <td>1.000</td>\n",
       "      <td>0.000</td>\n",
       "      <td>0.000</td>\n",
       "      <td>0.000</td>\n",
       "      <td>0.000</td>\n",
       "      <td>0.000</td>\n",
       "      <td>0.000</td>\n",
       "      <td>0.000</td>\n",
       "      <td>0.000</td>\n",
       "      <td>0.000</td>\n",
       "      <td>0.000</td>\n",
       "      <td>0.000</td>\n",
       "      <td>0.000</td>\n",
       "      <td>0.000</td>\n",
       "      <td>1.000</td>\n",
       "      <td>0.000</td>\n",
       "      <td>0.000</td>\n",
       "      <td>0.000</td>\n",
       "      <td>0.000</td>\n",
       "      <td>0.000</td>\n",
       "      <td>0.000</td>\n",
       "      <td>0.000</td>\n",
       "      <td>0.000</td>\n",
       "      <td>0.000</td>\n",
       "      <td>0.000</td>\n",
       "      <td>1.000</td>\n",
       "      <td>0.000</td>\n",
       "      <td>0.000</td>\n",
       "      <td>0.000</td>\n",
       "      <td>0.000</td>\n",
       "      <td>0.000</td>\n",
       "      <td>28.000</td>\n",
       "      <td>338409.000</td>\n",
       "      <td>0.000</td>\n",
       "      <td>0.000</td>\n",
       "      <td>40.000</td>\n",
       "    </tr>\n",
       "  </tbody>\n",
       "</table>\n",
       "</div>"
      ],
      "text/plain": [
       "   cat__x0_ Amer-Indian-Eskimo  cat__x0_ Asian-Pac-Islander  cat__x0_ Black  \\\n",
       "0                        0.000                        0.000           0.000   \n",
       "1                        0.000                        0.000           0.000   \n",
       "2                        0.000                        0.000           0.000   \n",
       "3                        0.000                        0.000           1.000   \n",
       "4                        0.000                        0.000           1.000   \n",
       "\n",
       "   cat__x0_ Other  cat__x0_ White  cat__x1_ Divorced  \\\n",
       "0           0.000           1.000              0.000   \n",
       "1           0.000           1.000              0.000   \n",
       "2           0.000           1.000              1.000   \n",
       "3           0.000           0.000              0.000   \n",
       "4           0.000           0.000              0.000   \n",
       "\n",
       "   cat__x1_ Married-AF-spouse  cat__x1_ Married-civ-spouse  \\\n",
       "0                       0.000                        0.000   \n",
       "1                       0.000                        1.000   \n",
       "2                       0.000                        0.000   \n",
       "3                       0.000                        1.000   \n",
       "4                       0.000                        1.000   \n",
       "\n",
       "   cat__x1_ Married-spouse-absent  cat__x1_ Never-married  cat__x1_ Separated  \\\n",
       "0                           0.000                   1.000               0.000   \n",
       "1                           0.000                   0.000               0.000   \n",
       "2                           0.000                   0.000               0.000   \n",
       "3                           0.000                   0.000               0.000   \n",
       "4                           0.000                   0.000               0.000   \n",
       "\n",
       "   cat__x1_ Widowed  cat__x2_ 10th  cat__x2_ 11th  cat__x2_ 12th  \\\n",
       "0             0.000          0.000          0.000          0.000   \n",
       "1             0.000          0.000          0.000          0.000   \n",
       "2             0.000          0.000          0.000          0.000   \n",
       "3             0.000          0.000          1.000          0.000   \n",
       "4             0.000          0.000          0.000          0.000   \n",
       "\n",
       "   cat__x2_ 1st-4th  cat__x2_ 5th-6th  cat__x2_ 7th-8th  cat__x2_ 9th  \\\n",
       "0             0.000             0.000             0.000         0.000   \n",
       "1             0.000             0.000             0.000         0.000   \n",
       "2             0.000             0.000             0.000         0.000   \n",
       "3             0.000             0.000             0.000         0.000   \n",
       "4             0.000             0.000             0.000         0.000   \n",
       "\n",
       "   cat__x2_ Assoc-acdm  cat__x2_ Assoc-voc  cat__x2_ Bachelors  \\\n",
       "0                0.000               0.000               1.000   \n",
       "1                0.000               0.000               1.000   \n",
       "2                0.000               0.000               0.000   \n",
       "3                0.000               0.000               0.000   \n",
       "4                0.000               0.000               1.000   \n",
       "\n",
       "   cat__x2_ Doctorate  cat__x2_ HS-grad  cat__x2_ Masters  cat__x2_ Preschool  \\\n",
       "0               0.000             0.000             0.000               0.000   \n",
       "1               0.000             0.000             0.000               0.000   \n",
       "2               0.000             1.000             0.000               0.000   \n",
       "3               0.000             0.000             0.000               0.000   \n",
       "4               0.000             0.000             0.000               0.000   \n",
       "\n",
       "   cat__x2_ Prof-school  cat__x2_ Some-college  cat__x3_ ?  \\\n",
       "0                 0.000                  0.000       0.000   \n",
       "1                 0.000                  0.000       0.000   \n",
       "2                 0.000                  0.000       0.000   \n",
       "3                 0.000                  0.000       0.000   \n",
       "4                 0.000                  0.000       0.000   \n",
       "\n",
       "   cat__x3_ Federal-gov  cat__x3_ Local-gov  cat__x3_ Never-worked  \\\n",
       "0                 0.000               0.000                  0.000   \n",
       "1                 0.000               0.000                  0.000   \n",
       "2                 0.000               0.000                  0.000   \n",
       "3                 0.000               0.000                  0.000   \n",
       "4                 0.000               0.000                  0.000   \n",
       "\n",
       "   cat__x3_ Private  cat__x3_ Self-emp-inc  cat__x3_ Self-emp-not-inc  \\\n",
       "0             0.000                  0.000                      0.000   \n",
       "1             0.000                  0.000                      1.000   \n",
       "2             1.000                  0.000                      0.000   \n",
       "3             1.000                  0.000                      0.000   \n",
       "4             1.000                  0.000                      0.000   \n",
       "\n",
       "   cat__x3_ State-gov  cat__x3_ Without-pay   Sex    Age     fnlwgt  \\\n",
       "0               1.000                 0.000 1.000 39.000  77516.000   \n",
       "1               0.000                 0.000 1.000 50.000  83311.000   \n",
       "2               0.000                 0.000 1.000 38.000 215646.000   \n",
       "3               0.000                 0.000 1.000 53.000 234721.000   \n",
       "4               0.000                 0.000 0.000 28.000 338409.000   \n",
       "\n",
       "   Capital Gain  Capital Loss  Hours per week  \n",
       "0      2174.000         0.000          40.000  \n",
       "1         0.000         0.000          13.000  \n",
       "2         0.000         0.000          40.000  \n",
       "3         0.000         0.000          40.000  \n",
       "4         0.000         0.000          40.000  "
      ]
     },
     "execution_count": 17,
     "metadata": {},
     "output_type": "execute_result"
    }
   ],
   "source": [
    "features_select = [\n",
    "                 \"Sex\",  #9 \n",
    "                 \"Race\",  #8\n",
    "                 \"Workclass\",  #1\n",
    "                 \"Age\", #0\n",
    "                 \"fnlwgt\",  #2\n",
    "                 \"Education\",  #3\n",
    "                 #\"Education-Num\",  #4\n",
    "                 \"Marital Status\", #5\n",
    "                 #\"Occupation\",  #6\n",
    "                 #\"Relationship\",  #7\n",
    "                 \"Capital Gain\",  #10\n",
    "                 \"Capital Loss\", #11\n",
    "                 \"Hours per week\",  #12\n",
    "                 #\"Country\", #13 \n",
    "                 'capital_gain'\n",
    "                  ]\n",
    "\n",
    "adult_data = adult_data[features_select]\n",
    "\n",
    "categorical_features = ['Race', 'Marital Status', 'Education', 'Workclass']#[1, 2, 7]\n",
    "ordinal_features = ['Sex', 'capital_gain']\n",
    "\n",
    "transformer = ColumnTransformer(transformers=[('cat', OneHotEncoder(), categorical_features)], remainder='passthrough', sparse_threshold=0)\n",
    "transformer.fit(adult_data)\n",
    "\n",
    "adult_data = transformer.transform(adult_data)\n",
    "adult_data = pd.DataFrame(adult_data, columns=transformer.get_feature_names())\n",
    "\n",
    "for ordinal_feature in ordinal_features:\n",
    "    adult_data[ordinal_feature] = OrdinalEncoder().fit_transform(adult_data[ordinal_feature].values.reshape(-1, 1)).flatten()\n",
    "\n",
    "adult_data = adult_data.astype(np.float64)\n",
    "\n",
    "    \n",
    "X_data_adult = adult_data.drop(['capital_gain'], axis = 1)\n",
    "\n",
    "y_data_adult = adult_data['capital_gain']\n",
    "#le = LabelEncoder()\n",
    "#le.fit(y_data_adult)\n",
    "#y_data_adult = le.transform(y_data_adult)\n",
    "#class_names = le.classes_\n",
    "print(X_data_adult.shape)\n",
    "\n",
    "X_data_adult.head()\n"
   ]
  },
  {
   "cell_type": "code",
   "execution_count": 18,
   "metadata": {
    "execution": {
     "iopub.execute_input": "2021-12-04T10:33:35.584396Z",
     "iopub.status.busy": "2021-12-04T10:33:35.584108Z",
     "iopub.status.idle": "2021-12-04T10:33:35.589829Z",
     "shell.execute_reply": "2021-12-04T10:33:35.589342Z",
     "shell.execute_reply.started": "2021-12-04T10:33:35.584371Z"
    },
    "tags": []
   },
   "outputs": [
    {
     "data": {
      "text/plain": [
       "0.000    24720\n",
       "1.000     7841\n",
       "Name: capital_gain, dtype: int64"
      ]
     },
     "execution_count": 18,
     "metadata": {},
     "output_type": "execute_result"
    }
   ],
   "source": [
    "adult_data['capital_gain'].value_counts()\n"
   ]
  },
  {
   "cell_type": "code",
   "execution_count": 19,
   "metadata": {
    "execution": {
     "iopub.execute_input": "2021-12-04T10:33:35.590827Z",
     "iopub.status.busy": "2021-12-04T10:33:35.590655Z",
     "iopub.status.idle": "2021-12-04T10:33:35.597950Z",
     "shell.execute_reply": "2021-12-04T10:33:35.597297Z",
     "shell.execute_reply.started": "2021-12-04T10:33:35.590804Z"
    },
    "tags": []
   },
   "outputs": [],
   "source": [
    "number_of_variables = X_data_adult.shape[1]\n",
    "config['data']['number_of_variables'] = number_of_variables\n",
    "\n",
    "\n",
    "number_of_lambda_weights = get_number_of_lambda_net_parameters(lambda_network_layers, number_of_variables, num_classes)\n",
    "config['lambda_net']['number_of_lambda_weights'] = number_of_lambda_weights\n",
    "\n",
    "\n",
    "basic_function_representation_length = get_number_of_function_parameters(dt_type, maximum_depth, number_of_variables, num_classes)\n",
    "config['function_family']['basic_function_representation_length'] = basic_function_representation_length\n",
    "\n",
    "\n",
    "function_representation_length= ( \n",
    "       #((2 ** maximum_depth - 1) * decision_sparsity) * 2 + (2 ** maximum_depth - 1) + (2 ** maximum_depth) * num_classes  if function_representation_type == 1 and dt_type == 'SDT'\n",
    "       (2 ** maximum_depth - 1) * (number_of_variables + 1) + (2 ** maximum_depth) * number_of_classes if function_representation_type == 1 and dt_type == 'SDT'\n",
    "  else (2 ** maximum_depth - 1) * decision_sparsity + (2 ** maximum_depth - 1) + ((2 ** maximum_depth - 1)  * decision_sparsity * number_of_variables) + (2 ** maximum_depth) * num_classes if function_representation_type == 2 and dt_type == 'SDT'\n",
    "  else ((2 ** maximum_depth - 1) * decision_sparsity) * 2 + (2 ** maximum_depth)  if function_representation_type == 1 and dt_type == 'vanilla'\n",
    "  else (2 ** maximum_depth - 1) * decision_sparsity + ((2 ** maximum_depth - 1)  * decision_sparsity * number_of_variables) + (2 ** maximum_depth) if function_representation_type == 2 and dt_type == 'vanilla'\n",
    "  else None\n",
    "                                                            )\n",
    "config['function_family']['function_representation_length'] = function_representation_length"
   ]
  },
  {
   "cell_type": "code",
   "execution_count": 20,
   "metadata": {
    "execution": {
     "iopub.execute_input": "2021-12-04T10:33:35.599236Z",
     "iopub.status.busy": "2021-12-04T10:33:35.598988Z",
     "iopub.status.idle": "2021-12-04T10:33:35.633460Z",
     "shell.execute_reply": "2021-12-04T10:33:35.632937Z",
     "shell.execute_reply.started": "2021-12-04T10:33:35.599213Z"
    },
    "tags": []
   },
   "outputs": [
    {
     "name": "stdout",
     "output_type": "stream",
     "text": [
      "[0, 1, 2, 3, 4, 5, 6, 7, 8, 9, 10, 11, 12, 13, 14, 15, 16, 17, 18, 19, 20, 21, 22, 23, 24, 25, 26, 27, 28, 29, 30, 31, 32, 33, 34, 35, 36, 37]\n"
     ]
    }
   ],
   "source": [
    "categorical_indices = []\n",
    "\n",
    "for i, (column_name, column) in enumerate(X_data_adult.iteritems()):\n",
    "    if len(column.value_counts()) == 2:\n",
    "        categorical_indices.append(i)\n",
    "print(categorical_indices)\n",
    "\n",
    "config['data']['categorical_indices'] = categorical_indices"
   ]
  },
  {
   "cell_type": "code",
   "execution_count": 21,
   "metadata": {
    "execution": {
     "iopub.execute_input": "2021-12-04T10:33:35.634732Z",
     "iopub.status.busy": "2021-12-04T10:33:35.634484Z",
     "iopub.status.idle": "2021-12-04T10:33:35.687576Z",
     "shell.execute_reply": "2021-12-04T10:33:35.687023Z",
     "shell.execute_reply.started": "2021-12-04T10:33:35.634708Z"
    },
    "tags": []
   },
   "outputs": [
    {
     "data": {
      "text/html": [
       "<div>\n",
       "<style scoped>\n",
       "    .dataframe tbody tr th:only-of-type {\n",
       "        vertical-align: middle;\n",
       "    }\n",
       "\n",
       "    .dataframe tbody tr th {\n",
       "        vertical-align: top;\n",
       "    }\n",
       "\n",
       "    .dataframe thead th {\n",
       "        text-align: right;\n",
       "    }\n",
       "</style>\n",
       "<table border=\"1\" class=\"dataframe\">\n",
       "  <thead>\n",
       "    <tr style=\"text-align: right;\">\n",
       "      <th></th>\n",
       "      <th>cat__x0_ Amer-Indian-Eskimo</th>\n",
       "      <th>cat__x0_ Asian-Pac-Islander</th>\n",
       "      <th>cat__x0_ Black</th>\n",
       "      <th>cat__x0_ Other</th>\n",
       "      <th>cat__x0_ White</th>\n",
       "      <th>cat__x1_ Divorced</th>\n",
       "      <th>cat__x1_ Married-AF-spouse</th>\n",
       "      <th>cat__x1_ Married-civ-spouse</th>\n",
       "      <th>cat__x1_ Married-spouse-absent</th>\n",
       "      <th>cat__x1_ Never-married</th>\n",
       "      <th>cat__x1_ Separated</th>\n",
       "      <th>cat__x1_ Widowed</th>\n",
       "      <th>cat__x2_ 10th</th>\n",
       "      <th>cat__x2_ 11th</th>\n",
       "      <th>cat__x2_ 12th</th>\n",
       "      <th>cat__x2_ 1st-4th</th>\n",
       "      <th>cat__x2_ 5th-6th</th>\n",
       "      <th>cat__x2_ 7th-8th</th>\n",
       "      <th>cat__x2_ 9th</th>\n",
       "      <th>cat__x2_ Assoc-acdm</th>\n",
       "      <th>cat__x2_ Assoc-voc</th>\n",
       "      <th>cat__x2_ Bachelors</th>\n",
       "      <th>cat__x2_ Doctorate</th>\n",
       "      <th>cat__x2_ HS-grad</th>\n",
       "      <th>cat__x2_ Masters</th>\n",
       "      <th>cat__x2_ Preschool</th>\n",
       "      <th>cat__x2_ Prof-school</th>\n",
       "      <th>cat__x2_ Some-college</th>\n",
       "      <th>cat__x3_ ?</th>\n",
       "      <th>cat__x3_ Federal-gov</th>\n",
       "      <th>cat__x3_ Local-gov</th>\n",
       "      <th>cat__x3_ Never-worked</th>\n",
       "      <th>cat__x3_ Private</th>\n",
       "      <th>cat__x3_ Self-emp-inc</th>\n",
       "      <th>cat__x3_ Self-emp-not-inc</th>\n",
       "      <th>cat__x3_ State-gov</th>\n",
       "      <th>cat__x3_ Without-pay</th>\n",
       "      <th>Sex</th>\n",
       "      <th>Age</th>\n",
       "      <th>fnlwgt</th>\n",
       "      <th>Capital Gain</th>\n",
       "      <th>Capital Loss</th>\n",
       "      <th>Hours per week</th>\n",
       "    </tr>\n",
       "  </thead>\n",
       "  <tbody>\n",
       "    <tr>\n",
       "      <th>0</th>\n",
       "      <td>0.000</td>\n",
       "      <td>0.000</td>\n",
       "      <td>0.000</td>\n",
       "      <td>0.000</td>\n",
       "      <td>1.000</td>\n",
       "      <td>0.000</td>\n",
       "      <td>0.000</td>\n",
       "      <td>0.000</td>\n",
       "      <td>0.000</td>\n",
       "      <td>1.000</td>\n",
       "      <td>0.000</td>\n",
       "      <td>0.000</td>\n",
       "      <td>0.000</td>\n",
       "      <td>0.000</td>\n",
       "      <td>0.000</td>\n",
       "      <td>0.000</td>\n",
       "      <td>0.000</td>\n",
       "      <td>0.000</td>\n",
       "      <td>0.000</td>\n",
       "      <td>0.000</td>\n",
       "      <td>0.000</td>\n",
       "      <td>1.000</td>\n",
       "      <td>0.000</td>\n",
       "      <td>0.000</td>\n",
       "      <td>0.000</td>\n",
       "      <td>0.000</td>\n",
       "      <td>0.000</td>\n",
       "      <td>0.000</td>\n",
       "      <td>0.000</td>\n",
       "      <td>0.000</td>\n",
       "      <td>0.000</td>\n",
       "      <td>0.000</td>\n",
       "      <td>0.000</td>\n",
       "      <td>0.000</td>\n",
       "      <td>0.000</td>\n",
       "      <td>1.000</td>\n",
       "      <td>0.000</td>\n",
       "      <td>1.000</td>\n",
       "      <td>0.301</td>\n",
       "      <td>0.044</td>\n",
       "      <td>0.022</td>\n",
       "      <td>0.000</td>\n",
       "      <td>0.398</td>\n",
       "    </tr>\n",
       "    <tr>\n",
       "      <th>1</th>\n",
       "      <td>0.000</td>\n",
       "      <td>0.000</td>\n",
       "      <td>0.000</td>\n",
       "      <td>0.000</td>\n",
       "      <td>1.000</td>\n",
       "      <td>0.000</td>\n",
       "      <td>0.000</td>\n",
       "      <td>1.000</td>\n",
       "      <td>0.000</td>\n",
       "      <td>0.000</td>\n",
       "      <td>0.000</td>\n",
       "      <td>0.000</td>\n",
       "      <td>0.000</td>\n",
       "      <td>0.000</td>\n",
       "      <td>0.000</td>\n",
       "      <td>0.000</td>\n",
       "      <td>0.000</td>\n",
       "      <td>0.000</td>\n",
       "      <td>0.000</td>\n",
       "      <td>0.000</td>\n",
       "      <td>0.000</td>\n",
       "      <td>1.000</td>\n",
       "      <td>0.000</td>\n",
       "      <td>0.000</td>\n",
       "      <td>0.000</td>\n",
       "      <td>0.000</td>\n",
       "      <td>0.000</td>\n",
       "      <td>0.000</td>\n",
       "      <td>0.000</td>\n",
       "      <td>0.000</td>\n",
       "      <td>0.000</td>\n",
       "      <td>0.000</td>\n",
       "      <td>0.000</td>\n",
       "      <td>0.000</td>\n",
       "      <td>1.000</td>\n",
       "      <td>0.000</td>\n",
       "      <td>0.000</td>\n",
       "      <td>1.000</td>\n",
       "      <td>0.452</td>\n",
       "      <td>0.048</td>\n",
       "      <td>0.000</td>\n",
       "      <td>0.000</td>\n",
       "      <td>0.122</td>\n",
       "    </tr>\n",
       "    <tr>\n",
       "      <th>2</th>\n",
       "      <td>0.000</td>\n",
       "      <td>0.000</td>\n",
       "      <td>0.000</td>\n",
       "      <td>0.000</td>\n",
       "      <td>1.000</td>\n",
       "      <td>1.000</td>\n",
       "      <td>0.000</td>\n",
       "      <td>0.000</td>\n",
       "      <td>0.000</td>\n",
       "      <td>0.000</td>\n",
       "      <td>0.000</td>\n",
       "      <td>0.000</td>\n",
       "      <td>0.000</td>\n",
       "      <td>0.000</td>\n",
       "      <td>0.000</td>\n",
       "      <td>0.000</td>\n",
       "      <td>0.000</td>\n",
       "      <td>0.000</td>\n",
       "      <td>0.000</td>\n",
       "      <td>0.000</td>\n",
       "      <td>0.000</td>\n",
       "      <td>0.000</td>\n",
       "      <td>0.000</td>\n",
       "      <td>1.000</td>\n",
       "      <td>0.000</td>\n",
       "      <td>0.000</td>\n",
       "      <td>0.000</td>\n",
       "      <td>0.000</td>\n",
       "      <td>0.000</td>\n",
       "      <td>0.000</td>\n",
       "      <td>0.000</td>\n",
       "      <td>0.000</td>\n",
       "      <td>1.000</td>\n",
       "      <td>0.000</td>\n",
       "      <td>0.000</td>\n",
       "      <td>0.000</td>\n",
       "      <td>0.000</td>\n",
       "      <td>1.000</td>\n",
       "      <td>0.288</td>\n",
       "      <td>0.138</td>\n",
       "      <td>0.000</td>\n",
       "      <td>0.000</td>\n",
       "      <td>0.398</td>\n",
       "    </tr>\n",
       "    <tr>\n",
       "      <th>3</th>\n",
       "      <td>0.000</td>\n",
       "      <td>0.000</td>\n",
       "      <td>1.000</td>\n",
       "      <td>0.000</td>\n",
       "      <td>0.000</td>\n",
       "      <td>0.000</td>\n",
       "      <td>0.000</td>\n",
       "      <td>1.000</td>\n",
       "      <td>0.000</td>\n",
       "      <td>0.000</td>\n",
       "      <td>0.000</td>\n",
       "      <td>0.000</td>\n",
       "      <td>0.000</td>\n",
       "      <td>1.000</td>\n",
       "      <td>0.000</td>\n",
       "      <td>0.000</td>\n",
       "      <td>0.000</td>\n",
       "      <td>0.000</td>\n",
       "      <td>0.000</td>\n",
       "      <td>0.000</td>\n",
       "      <td>0.000</td>\n",
       "      <td>0.000</td>\n",
       "      <td>0.000</td>\n",
       "      <td>0.000</td>\n",
       "      <td>0.000</td>\n",
       "      <td>0.000</td>\n",
       "      <td>0.000</td>\n",
       "      <td>0.000</td>\n",
       "      <td>0.000</td>\n",
       "      <td>0.000</td>\n",
       "      <td>0.000</td>\n",
       "      <td>0.000</td>\n",
       "      <td>1.000</td>\n",
       "      <td>0.000</td>\n",
       "      <td>0.000</td>\n",
       "      <td>0.000</td>\n",
       "      <td>0.000</td>\n",
       "      <td>1.000</td>\n",
       "      <td>0.493</td>\n",
       "      <td>0.151</td>\n",
       "      <td>0.000</td>\n",
       "      <td>0.000</td>\n",
       "      <td>0.398</td>\n",
       "    </tr>\n",
       "    <tr>\n",
       "      <th>4</th>\n",
       "      <td>0.000</td>\n",
       "      <td>0.000</td>\n",
       "      <td>1.000</td>\n",
       "      <td>0.000</td>\n",
       "      <td>0.000</td>\n",
       "      <td>0.000</td>\n",
       "      <td>0.000</td>\n",
       "      <td>1.000</td>\n",
       "      <td>0.000</td>\n",
       "      <td>0.000</td>\n",
       "      <td>0.000</td>\n",
       "      <td>0.000</td>\n",
       "      <td>0.000</td>\n",
       "      <td>0.000</td>\n",
       "      <td>0.000</td>\n",
       "      <td>0.000</td>\n",
       "      <td>0.000</td>\n",
       "      <td>0.000</td>\n",
       "      <td>0.000</td>\n",
       "      <td>0.000</td>\n",
       "      <td>0.000</td>\n",
       "      <td>1.000</td>\n",
       "      <td>0.000</td>\n",
       "      <td>0.000</td>\n",
       "      <td>0.000</td>\n",
       "      <td>0.000</td>\n",
       "      <td>0.000</td>\n",
       "      <td>0.000</td>\n",
       "      <td>0.000</td>\n",
       "      <td>0.000</td>\n",
       "      <td>0.000</td>\n",
       "      <td>0.000</td>\n",
       "      <td>1.000</td>\n",
       "      <td>0.000</td>\n",
       "      <td>0.000</td>\n",
       "      <td>0.000</td>\n",
       "      <td>0.000</td>\n",
       "      <td>0.000</td>\n",
       "      <td>0.151</td>\n",
       "      <td>0.221</td>\n",
       "      <td>0.000</td>\n",
       "      <td>0.000</td>\n",
       "      <td>0.398</td>\n",
       "    </tr>\n",
       "  </tbody>\n",
       "</table>\n",
       "</div>"
      ],
      "text/plain": [
       "   cat__x0_ Amer-Indian-Eskimo  cat__x0_ Asian-Pac-Islander  cat__x0_ Black  \\\n",
       "0                        0.000                        0.000           0.000   \n",
       "1                        0.000                        0.000           0.000   \n",
       "2                        0.000                        0.000           0.000   \n",
       "3                        0.000                        0.000           1.000   \n",
       "4                        0.000                        0.000           1.000   \n",
       "\n",
       "   cat__x0_ Other  cat__x0_ White  cat__x1_ Divorced  \\\n",
       "0           0.000           1.000              0.000   \n",
       "1           0.000           1.000              0.000   \n",
       "2           0.000           1.000              1.000   \n",
       "3           0.000           0.000              0.000   \n",
       "4           0.000           0.000              0.000   \n",
       "\n",
       "   cat__x1_ Married-AF-spouse  cat__x1_ Married-civ-spouse  \\\n",
       "0                       0.000                        0.000   \n",
       "1                       0.000                        1.000   \n",
       "2                       0.000                        0.000   \n",
       "3                       0.000                        1.000   \n",
       "4                       0.000                        1.000   \n",
       "\n",
       "   cat__x1_ Married-spouse-absent  cat__x1_ Never-married  cat__x1_ Separated  \\\n",
       "0                           0.000                   1.000               0.000   \n",
       "1                           0.000                   0.000               0.000   \n",
       "2                           0.000                   0.000               0.000   \n",
       "3                           0.000                   0.000               0.000   \n",
       "4                           0.000                   0.000               0.000   \n",
       "\n",
       "   cat__x1_ Widowed  cat__x2_ 10th  cat__x2_ 11th  cat__x2_ 12th  \\\n",
       "0             0.000          0.000          0.000          0.000   \n",
       "1             0.000          0.000          0.000          0.000   \n",
       "2             0.000          0.000          0.000          0.000   \n",
       "3             0.000          0.000          1.000          0.000   \n",
       "4             0.000          0.000          0.000          0.000   \n",
       "\n",
       "   cat__x2_ 1st-4th  cat__x2_ 5th-6th  cat__x2_ 7th-8th  cat__x2_ 9th  \\\n",
       "0             0.000             0.000             0.000         0.000   \n",
       "1             0.000             0.000             0.000         0.000   \n",
       "2             0.000             0.000             0.000         0.000   \n",
       "3             0.000             0.000             0.000         0.000   \n",
       "4             0.000             0.000             0.000         0.000   \n",
       "\n",
       "   cat__x2_ Assoc-acdm  cat__x2_ Assoc-voc  cat__x2_ Bachelors  \\\n",
       "0                0.000               0.000               1.000   \n",
       "1                0.000               0.000               1.000   \n",
       "2                0.000               0.000               0.000   \n",
       "3                0.000               0.000               0.000   \n",
       "4                0.000               0.000               1.000   \n",
       "\n",
       "   cat__x2_ Doctorate  cat__x2_ HS-grad  cat__x2_ Masters  cat__x2_ Preschool  \\\n",
       "0               0.000             0.000             0.000               0.000   \n",
       "1               0.000             0.000             0.000               0.000   \n",
       "2               0.000             1.000             0.000               0.000   \n",
       "3               0.000             0.000             0.000               0.000   \n",
       "4               0.000             0.000             0.000               0.000   \n",
       "\n",
       "   cat__x2_ Prof-school  cat__x2_ Some-college  cat__x3_ ?  \\\n",
       "0                 0.000                  0.000       0.000   \n",
       "1                 0.000                  0.000       0.000   \n",
       "2                 0.000                  0.000       0.000   \n",
       "3                 0.000                  0.000       0.000   \n",
       "4                 0.000                  0.000       0.000   \n",
       "\n",
       "   cat__x3_ Federal-gov  cat__x3_ Local-gov  cat__x3_ Never-worked  \\\n",
       "0                 0.000               0.000                  0.000   \n",
       "1                 0.000               0.000                  0.000   \n",
       "2                 0.000               0.000                  0.000   \n",
       "3                 0.000               0.000                  0.000   \n",
       "4                 0.000               0.000                  0.000   \n",
       "\n",
       "   cat__x3_ Private  cat__x3_ Self-emp-inc  cat__x3_ Self-emp-not-inc  \\\n",
       "0             0.000                  0.000                      0.000   \n",
       "1             0.000                  0.000                      1.000   \n",
       "2             1.000                  0.000                      0.000   \n",
       "3             1.000                  0.000                      0.000   \n",
       "4             1.000                  0.000                      0.000   \n",
       "\n",
       "   cat__x3_ State-gov  cat__x3_ Without-pay   Sex   Age  fnlwgt  Capital Gain  \\\n",
       "0               1.000                 0.000 1.000 0.301   0.044         0.022   \n",
       "1               0.000                 0.000 1.000 0.452   0.048         0.000   \n",
       "2               0.000                 0.000 1.000 0.288   0.138         0.000   \n",
       "3               0.000                 0.000 1.000 0.493   0.151         0.000   \n",
       "4               0.000                 0.000 0.000 0.151   0.221         0.000   \n",
       "\n",
       "   Capital Loss  Hours per week  \n",
       "0         0.000           0.398  \n",
       "1         0.000           0.122  \n",
       "2         0.000           0.398  \n",
       "3         0.000           0.398  \n",
       "4         0.000           0.398  "
      ]
     },
     "execution_count": 21,
     "metadata": {},
     "output_type": "execute_result"
    }
   ],
   "source": [
    "normalizer_list = []\n",
    "for column_name in X_data_adult:\n",
    "    scaler = MinMaxScaler()\n",
    "    scaler.fit(X_data_adult[column_name].values.reshape(-1, 1))\n",
    "    X_data_adult[column_name] = scaler.transform(X_data_adult[column_name].values.reshape(-1, 1)).ravel()\n",
    "    normalizer_list.append(scaler)\n",
    "X_data_adult.head()"
   ]
  },
  {
   "cell_type": "code",
   "execution_count": 22,
   "metadata": {
    "execution": {
     "iopub.execute_input": "2021-12-04T10:33:35.688796Z",
     "iopub.status.busy": "2021-12-04T10:33:35.688550Z",
     "iopub.status.idle": "2021-12-04T10:33:35.694643Z",
     "shell.execute_reply": "2021-12-04T10:33:35.693791Z",
     "shell.execute_reply.started": "2021-12-04T10:33:35.688772Z"
    },
    "tags": []
   },
   "outputs": [
    {
     "data": {
      "text/plain": [
       "0       0.000\n",
       "1       0.000\n",
       "2       0.000\n",
       "3       0.000\n",
       "4       0.000\n",
       "         ... \n",
       "32556   0.000\n",
       "32557   1.000\n",
       "32558   0.000\n",
       "32559   0.000\n",
       "32560   1.000\n",
       "Name: capital_gain, Length: 32561, dtype: float64"
      ]
     },
     "execution_count": 22,
     "metadata": {},
     "output_type": "execute_result"
    }
   ],
   "source": [
    "y_data_adult"
   ]
  },
  {
   "cell_type": "code",
   "execution_count": 23,
   "metadata": {
    "execution": {
     "iopub.execute_input": "2021-12-04T10:33:35.695697Z",
     "iopub.status.busy": "2021-12-04T10:33:35.695463Z",
     "iopub.status.idle": "2021-12-04T10:33:35.701031Z",
     "shell.execute_reply": "2021-12-04T10:33:35.700529Z",
     "shell.execute_reply.started": "2021-12-04T10:33:35.695674Z"
    },
    "tags": []
   },
   "outputs": [
    {
     "name": "stdout",
     "output_type": "stream",
     "text": [
      "True Ratio:  0.2408095574460244\n"
     ]
    }
   ],
   "source": [
    "true_labels = len(y_data_adult[y_data_adult >= 0.5 ]) \n",
    "false_labels = len(y_data_adult[y_data_adult < 0.5 ]) \n",
    "\n",
    "true_ratio = true_labels/(true_labels+false_labels)\n",
    "\n",
    "print('True Ratio: ', str(true_ratio))"
   ]
  },
  {
   "cell_type": "code",
   "execution_count": 24,
   "metadata": {
    "execution": {
     "iopub.execute_input": "2021-12-04T10:33:35.702509Z",
     "iopub.status.busy": "2021-12-04T10:33:35.702257Z",
     "iopub.status.idle": "2021-12-04T10:33:35.806024Z",
     "shell.execute_reply": "2021-12-04T10:33:35.805464Z",
     "shell.execute_reply.started": "2021-12-04T10:33:35.702486Z"
    },
    "tags": []
   },
   "outputs": [
    {
     "name": "stdout",
     "output_type": "stream",
     "text": [
      "True Ratio:  0.5\n"
     ]
    }
   ],
   "source": [
    "if true_ratio <= 0.4 or true_ratio >= 0.6:\n",
    "    from imblearn.over_sampling import RandomOverSampler \n",
    "\n",
    "    oversample = RandomOverSampler(sampling_strategy='minority')\n",
    "\n",
    "    X_data_adult, y_data_adult = oversample.fit_resample(X_data_adult, y_data_adult)\n",
    "\n",
    "    true_labels = len(y_data_adult[y_data_adult >= 0.5 ]) \n",
    "    false_labels = len(y_data_adult[y_data_adult < 0.5 ]) \n",
    "\n",
    "    print('True Ratio: ', str(true_labels/(true_labels+false_labels)))"
   ]
  },
  {
   "cell_type": "code",
   "execution_count": 25,
   "metadata": {
    "execution": {
     "iopub.execute_input": "2021-12-04T10:33:35.807539Z",
     "iopub.status.busy": "2021-12-04T10:33:35.807205Z",
     "iopub.status.idle": "2021-12-04T10:33:35.855119Z",
     "shell.execute_reply": "2021-12-04T10:33:35.854593Z",
     "shell.execute_reply.started": "2021-12-04T10:33:35.807514Z"
    },
    "tags": []
   },
   "outputs": [
    {
     "name": "stdout",
     "output_type": "stream",
     "text": [
      "(31641, 43) (31641,)\n",
      "(7911, 43) (7911,)\n",
      "(9888, 43) (9888,)\n"
     ]
    }
   ],
   "source": [
    "X_train_adult_with_valid, X_test_adult, y_train_adult_with_valid, y_test_adult = train_test_split(X_data_adult, y_data_adult, train_size=0.8)\n",
    "X_train_adult, X_valid_adult, y_train_adult, y_valid_adult = train_test_split(X_train_adult_with_valid, y_train_adult_with_valid, train_size=0.8)\n",
    "\n",
    "print(X_train_adult.shape, y_train_adult.shape)\n",
    "print(X_valid_adult.shape, y_valid_adult.shape)\n",
    "print(X_test_adult.shape, y_test_adult.shape)"
   ]
  },
  {
   "cell_type": "code",
   "execution_count": 26,
   "metadata": {
    "execution": {
     "iopub.execute_input": "2021-12-04T10:33:35.856938Z",
     "iopub.status.busy": "2021-12-04T10:33:35.856661Z",
     "iopub.status.idle": "2021-12-04T10:39:00.260070Z",
     "shell.execute_reply": "2021-12-04T10:39:00.259421Z",
     "shell.execute_reply.started": "2021-12-04T10:33:35.856913Z"
    },
    "tags": []
   },
   "outputs": [
    {
     "data": {
      "image/png": "[encoded data removed]",
      "text/plain": [
       "<Figure size 864x576 with 2 Axes>"
      ]
     },
     "metadata": {},
     "output_type": "display_data"
    },
    {
     "name": "stdout",
     "output_type": "stream",
     "text": [
      "binary_accuracy\n",
      "\ttraining         \t (min:    0.785, max:    0.858, cur:    0.856)\n",
      "\tvalidation       \t (min:    0.802, max:    0.840, cur:    0.839)\n",
      "Loss\n",
      "\ttraining         \t (min:    0.313, max:    0.461, cur:    0.313)\n",
      "\tvalidation       \t (min:    0.352, max:    0.419, cur:    0.358)\n"
     ]
    }
   ],
   "source": [
    "test_network = generate_lambda_net_from_config(config)\n",
    "\n",
    "early_stopping = tf.keras.callbacks.EarlyStopping(monitor='val_loss', \n",
    "                                                  patience=50, \n",
    "                                                  min_delta=0.001, \n",
    "                                                  verbose=0, \n",
    "                                                  mode='min', \n",
    "                                                  restore_best_weights=True)\n",
    "\n",
    "\n",
    "\n",
    "model_history = test_network.fit(X_train_adult,\n",
    "                                  y_train_adult, \n",
    "                                  epochs=config['lambda_net']['epochs_lambda'], \n",
    "                                  batch_size=config['lambda_net']['batch_lambda'], \n",
    "                                  callbacks=[early_stopping, PlotLossesKerasTF()],\n",
    "                                  validation_data=(X_valid_adult, y_valid_adult),\n",
    "                                  verbose=0)\n",
    "\n"
   ]
  },
  {
   "cell_type": "code",
   "execution_count": 27,
   "metadata": {
    "execution": {
     "iopub.execute_input": "2021-12-04T10:39:00.261833Z",
     "iopub.status.busy": "2021-12-04T10:39:00.261490Z",
     "iopub.status.idle": "2021-12-04T10:39:00.266783Z",
     "shell.execute_reply": "2021-12-04T10:39:00.266300Z",
     "shell.execute_reply.started": "2021-12-04T10:39:00.261805Z"
    },
    "tags": []
   },
   "outputs": [
    {
     "name": "stdout",
     "output_type": "stream",
     "text": [
      "Model: \"sequential\"\n",
      "_________________________________________________________________\n",
      "Layer (type)                 Output Shape              Param #   \n",
      "=================================================================\n",
      "dense (Dense)                (None, 128)               5632      \n",
      "_________________________________________________________________\n",
      "dense_1 (Dense)              (None, 1)                 129       \n",
      "=================================================================\n",
      "Total params: 5,761\n",
      "Trainable params: 5,761\n",
      "Non-trainable params: 0\n",
      "_________________________________________________________________\n"
     ]
    }
   ],
   "source": [
    "test_network.summary()"
   ]
  },
  {
   "cell_type": "code",
   "execution_count": 28,
   "metadata": {
    "execution": {
     "iopub.execute_input": "2021-12-04T10:39:00.268489Z",
     "iopub.status.busy": "2021-12-04T10:39:00.268140Z",
     "iopub.status.idle": "2021-12-04T11:28:39.869073Z",
     "shell.execute_reply": "2021-12-04T11:28:39.868371Z",
     "shell.execute_reply.started": "2021-12-04T10:39:00.268466Z"
    },
    "tags": []
   },
   "outputs": [
    {
     "name": "stdout",
     "output_type": "stream",
     "text": [
      "Epoch 000/150\n",
      "8/8 [==============================] - 24s 2s/step - loss: 5.2046 - binary_crossentropy_inet_decision_function_fv_metric: 5.2046 - binary_accuracy_inet_decision_function_fv_metric: 0.5463 - val_loss: 8.2270 - val_binary_crossentropy_inet_decision_function_fv_metric: 8.2270 - val_binary_accuracy_inet_decision_function_fv_metric: 0.4522\n",
      "Epoch 001/150\n",
      "8/8 [==============================] - 7s 859ms/step - loss: 5.5338 - binary_crossentropy_inet_decision_function_fv_metric: 5.5338 - binary_accuracy_inet_decision_function_fv_metric: 0.5827 - val_loss: 8.3471 - val_binary_crossentropy_inet_decision_function_fv_metric: 8.3471 - val_binary_accuracy_inet_decision_function_fv_metric: 0.4543\n",
      "Epoch 002/150\n",
      "8/8 [==============================] - 7s 841ms/step - loss: 5.4167 - binary_crossentropy_inet_decision_function_fv_metric: 5.4167 - binary_accuracy_inet_decision_function_fv_metric: 0.5864 - val_loss: 8.3499 - val_binary_crossentropy_inet_decision_function_fv_metric: 8.3499 - val_binary_accuracy_inet_decision_function_fv_metric: 0.4527\n",
      "Epoch 003/150\n",
      "8/8 [==============================] - 7s 842ms/step - loss: 5.5024 - binary_crossentropy_inet_decision_function_fv_metric: 5.5024 - binary_accuracy_inet_decision_function_fv_metric: 0.5849 - val_loss: 8.3465 - val_binary_crossentropy_inet_decision_function_fv_metric: 8.3465 - val_binary_accuracy_inet_decision_function_fv_metric: 0.4543\n",
      "Epoch 004/150\n",
      "8/8 [==============================] - 7s 857ms/step - loss: 5.6239 - binary_crossentropy_inet_decision_function_fv_metric: 5.6239 - binary_accuracy_inet_decision_function_fv_metric: 0.5916 - val_loss: 8.0046 - val_binary_crossentropy_inet_decision_function_fv_metric: 8.0046 - val_binary_accuracy_inet_decision_function_fv_metric: 0.4291\n",
      "Epoch 005/150\n",
      "8/8 [==============================] - 7s 857ms/step - loss: 5.5222 - binary_crossentropy_inet_decision_function_fv_metric: 5.5222 - binary_accuracy_inet_decision_function_fv_metric: 0.5969 - val_loss: 8.1100 - val_binary_crossentropy_inet_decision_function_fv_metric: 8.1100 - val_binary_accuracy_inet_decision_function_fv_metric: 0.4605\n",
      "Epoch 006/150\n",
      "8/8 [==============================] - 7s 841ms/step - loss: 5.7117 - binary_crossentropy_inet_decision_function_fv_metric: 5.7117 - binary_accuracy_inet_decision_function_fv_metric: 0.5862 - val_loss: 8.3639 - val_binary_crossentropy_inet_decision_function_fv_metric: 8.3639 - val_binary_accuracy_inet_decision_function_fv_metric: 0.4564\n",
      "Epoch 007/150\n",
      "8/8 [==============================] - 7s 830ms/step - loss: 6.0138 - binary_crossentropy_inet_decision_function_fv_metric: 6.0138 - binary_accuracy_inet_decision_function_fv_metric: 0.5782 - val_loss: 8.3628 - val_binary_crossentropy_inet_decision_function_fv_metric: 8.3628 - val_binary_accuracy_inet_decision_function_fv_metric: 0.4566\n",
      "Epoch 008/150\n",
      "8/8 [==============================] - 7s 882ms/step - loss: 6.1194 - binary_crossentropy_inet_decision_function_fv_metric: 6.1194 - binary_accuracy_inet_decision_function_fv_metric: 0.5885 - val_loss: 8.3635 - val_binary_crossentropy_inet_decision_function_fv_metric: 8.3635 - val_binary_accuracy_inet_decision_function_fv_metric: 0.4555\n",
      "Epoch 009/150\n",
      "8/8 [==============================] - 7s 867ms/step - loss: 6.1697 - binary_crossentropy_inet_decision_function_fv_metric: 6.1697 - binary_accuracy_inet_decision_function_fv_metric: 0.5887 - val_loss: 8.3637 - val_binary_crossentropy_inet_decision_function_fv_metric: 8.3637 - val_binary_accuracy_inet_decision_function_fv_metric: 0.4555\n",
      "Epoch 010/150\n",
      "8/8 [==============================] - 7s 873ms/step - loss: 6.1552 - binary_crossentropy_inet_decision_function_fv_metric: 6.1552 - binary_accuracy_inet_decision_function_fv_metric: 0.5911 - val_loss: 8.3630 - val_binary_crossentropy_inet_decision_function_fv_metric: 8.3630 - val_binary_accuracy_inet_decision_function_fv_metric: 0.4566\n",
      "Epoch 011/150\n",
      "8/8 [==============================] - 7s 842ms/step - loss: 6.1867 - binary_crossentropy_inet_decision_function_fv_metric: 6.1867 - binary_accuracy_inet_decision_function_fv_metric: 0.5899 - val_loss: 8.3632 - val_binary_crossentropy_inet_decision_function_fv_metric: 8.3632 - val_binary_accuracy_inet_decision_function_fv_metric: 0.4566\n",
      "Epoch 012/150\n",
      "8/8 [==============================] - 7s 874ms/step - loss: 6.1831 - binary_crossentropy_inet_decision_function_fv_metric: 6.1831 - binary_accuracy_inet_decision_function_fv_metric: 0.5908 - val_loss: 8.3632 - val_binary_crossentropy_inet_decision_function_fv_metric: 8.3632 - val_binary_accuracy_inet_decision_function_fv_metric: 0.4566\n",
      "Epoch 013/150\n",
      "8/8 [==============================] - 7s 864ms/step - loss: 6.1824 - binary_crossentropy_inet_decision_function_fv_metric: 6.1824 - binary_accuracy_inet_decision_function_fv_metric: 0.5909 - val_loss: 8.3631 - val_binary_crossentropy_inet_decision_function_fv_metric: 8.3631 - val_binary_accuracy_inet_decision_function_fv_metric: 0.4566\n",
      "Epoch 014/150\n",
      "8/8 [==============================] - 7s 871ms/step - loss: 6.1829 - binary_crossentropy_inet_decision_function_fv_metric: 6.1829 - binary_accuracy_inet_decision_function_fv_metric: 0.5900 - val_loss: 8.3633 - val_binary_crossentropy_inet_decision_function_fv_metric: 8.3633 - val_binary_accuracy_inet_decision_function_fv_metric: 0.4566\n",
      "Epoch 015/150\n",
      "8/8 [==============================] - 7s 882ms/step - loss: 6.1724 - binary_crossentropy_inet_decision_function_fv_metric: 6.1724 - binary_accuracy_inet_decision_function_fv_metric: 0.5910 - val_loss: 8.3629 - val_binary_crossentropy_inet_decision_function_fv_metric: 8.3629 - val_binary_accuracy_inet_decision_function_fv_metric: 0.4566\n",
      "Epoch 016/150\n",
      "8/8 [==============================] - 7s 850ms/step - loss: 6.1485 - binary_crossentropy_inet_decision_function_fv_metric: 6.1485 - binary_accuracy_inet_decision_function_fv_metric: 0.5919 - val_loss: 8.3634 - val_binary_crossentropy_inet_decision_function_fv_metric: 8.3634 - val_binary_accuracy_inet_decision_function_fv_metric: 0.4555\n",
      "Epoch 017/150\n",
      "8/8 [==============================] - 7s 837ms/step - loss: 6.1574 - binary_crossentropy_inet_decision_function_fv_metric: 6.1574 - binary_accuracy_inet_decision_function_fv_metric: 0.5915 - val_loss: 8.3633 - val_binary_crossentropy_inet_decision_function_fv_metric: 8.3633 - val_binary_accuracy_inet_decision_function_fv_metric: 0.4555\n",
      "Epoch 018/150\n",
      "8/8 [==============================] - 7s 862ms/step - loss: 6.1466 - binary_crossentropy_inet_decision_function_fv_metric: 6.1466 - binary_accuracy_inet_decision_function_fv_metric: 0.5912 - val_loss: 8.3631 - val_binary_crossentropy_inet_decision_function_fv_metric: 8.3631 - val_binary_accuracy_inet_decision_function_fv_metric: 0.4566\n",
      "Epoch 019/150\n",
      "8/8 [==============================] - 7s 853ms/step - loss: 6.1578 - binary_crossentropy_inet_decision_function_fv_metric: 6.1578 - binary_accuracy_inet_decision_function_fv_metric: 0.5910 - val_loss: 8.3629 - val_binary_crossentropy_inet_decision_function_fv_metric: 8.3629 - val_binary_accuracy_inet_decision_function_fv_metric: 0.4566\n",
      "Epoch 020/150\n",
      "8/8 [==============================] - 6s 768ms/step - loss: 6.1590 - binary_crossentropy_inet_decision_function_fv_metric: 6.1590 - binary_accuracy_inet_decision_function_fv_metric: 0.5911 - val_loss: 8.3633 - val_binary_crossentropy_inet_decision_function_fv_metric: 8.3633 - val_binary_accuracy_inet_decision_function_fv_metric: 0.4566\n",
      "Epoch 021/150\n",
      "8/8 [==============================] - 7s 885ms/step - loss: 6.1751 - binary_crossentropy_inet_decision_function_fv_metric: 6.1751 - binary_accuracy_inet_decision_function_fv_metric: 0.5912 - val_loss: 8.3633 - val_binary_crossentropy_inet_decision_function_fv_metric: 8.3633 - val_binary_accuracy_inet_decision_function_fv_metric: 0.4566\n",
      "Epoch 022/150\n",
      "8/8 [==============================] - 7s 900ms/step - loss: 6.1455 - binary_crossentropy_inet_decision_function_fv_metric: 6.1455 - binary_accuracy_inet_decision_function_fv_metric: 0.5919 - val_loss: 8.3633 - val_binary_crossentropy_inet_decision_function_fv_metric: 8.3633 - val_binary_accuracy_inet_decision_function_fv_metric: 0.4566\n",
      "Epoch 023/150\n",
      "8/8 [==============================] - 6s 799ms/step - loss: 6.1303 - binary_crossentropy_inet_decision_function_fv_metric: 6.1303 - binary_accuracy_inet_decision_function_fv_metric: 0.5920 - val_loss: 8.3633 - val_binary_crossentropy_inet_decision_function_fv_metric: 8.3633 - val_binary_accuracy_inet_decision_function_fv_metric: 0.4566\n",
      "Epoch 024/150\n",
      "8/8 [==============================] - 7s 835ms/step - loss: 6.1285 - binary_crossentropy_inet_decision_function_fv_metric: 6.1285 - binary_accuracy_inet_decision_function_fv_metric: 0.5921 - val_loss: 8.3632 - val_binary_crossentropy_inet_decision_function_fv_metric: 8.3632 - val_binary_accuracy_inet_decision_function_fv_metric: 0.4566\n",
      "Epoch 025/150\n",
      "16/16 [==============================] - 14s 884ms/step - loss: 6.0124 - binary_crossentropy_inet_decision_function_fv_metric: 6.0124 - binary_accuracy_inet_decision_function_fv_metric: 0.5832 - val_loss: 8.3631 - val_binary_crossentropy_inet_decision_function_fv_metric: 8.3631 - val_binary_accuracy_inet_decision_function_fv_metric: 0.4566\n",
      "Epoch 026/150\n",
      "16/16 [==============================] - 14s 882ms/step - loss: 6.0641 - binary_crossentropy_inet_decision_function_fv_metric: 6.0641 - binary_accuracy_inet_decision_function_fv_metric: 0.5910 - val_loss: 8.3634 - val_binary_crossentropy_inet_decision_function_fv_metric: 8.3634 - val_binary_accuracy_inet_decision_function_fv_metric: 0.4566\n",
      "Epoch 027/150\n",
      "16/16 [==============================] - 13s 845ms/step - loss: 5.9951 - binary_crossentropy_inet_decision_function_fv_metric: 5.9951 - binary_accuracy_inet_decision_function_fv_metric: 0.5903 - val_loss: 8.0882 - val_binary_crossentropy_inet_decision_function_fv_metric: 8.0882 - val_binary_accuracy_inet_decision_function_fv_metric: 0.4618\n",
      "Epoch 028/150\n",
      "16/16 [==============================] - 14s 851ms/step - loss: 5.9608 - binary_crossentropy_inet_decision_function_fv_metric: 5.9608 - binary_accuracy_inet_decision_function_fv_metric: 0.5920 - val_loss: 8.3638 - val_binary_crossentropy_inet_decision_function_fv_metric: 8.3638 - val_binary_accuracy_inet_decision_function_fv_metric: 0.4566\n",
      "Epoch 029/150\n",
      "16/16 [==============================] - 14s 870ms/step - loss: 6.0225 - binary_crossentropy_inet_decision_function_fv_metric: 6.0225 - binary_accuracy_inet_decision_function_fv_metric: 0.5888 - val_loss: 8.3630 - val_binary_crossentropy_inet_decision_function_fv_metric: 8.3630 - val_binary_accuracy_inet_decision_function_fv_metric: 0.4566\n",
      "Epoch 030/150\n",
      "16/16 [==============================] - 14s 872ms/step - loss: 5.9681 - binary_crossentropy_inet_decision_function_fv_metric: 5.9681 - binary_accuracy_inet_decision_function_fv_metric: 0.5944 - val_loss: 8.3800 - val_binary_crossentropy_inet_decision_function_fv_metric: 8.3800 - val_binary_accuracy_inet_decision_function_fv_metric: 0.4520\n",
      "Epoch 031/150\n",
      "16/16 [==============================] - 14s 869ms/step - loss: 5.9759 - binary_crossentropy_inet_decision_function_fv_metric: 5.9759 - binary_accuracy_inet_decision_function_fv_metric: 0.5904 - val_loss: 8.0855 - val_binary_crossentropy_inet_decision_function_fv_metric: 8.0855 - val_binary_accuracy_inet_decision_function_fv_metric: 0.4626\n",
      "Epoch 032/150\n",
      "16/16 [==============================] - 14s 884ms/step - loss: 6.1349 - binary_crossentropy_inet_decision_function_fv_metric: 6.1349 - binary_accuracy_inet_decision_function_fv_metric: 0.5774 - val_loss: 7.8533 - val_binary_crossentropy_inet_decision_function_fv_metric: 7.8533 - val_binary_accuracy_inet_decision_function_fv_metric: 0.4566\n",
      "Epoch 033/150\n",
      "16/16 [==============================] - 14s 864ms/step - loss: 5.6440 - binary_crossentropy_inet_decision_function_fv_metric: 5.6440 - binary_accuracy_inet_decision_function_fv_metric: 0.5922 - val_loss: 1.1078 - val_binary_crossentropy_inet_decision_function_fv_metric: 1.1078 - val_binary_accuracy_inet_decision_function_fv_metric: 0.5480\n",
      "Epoch 034/150\n",
      "16/16 [==============================] - 14s 865ms/step - loss: 3.4483 - binary_crossentropy_inet_decision_function_fv_metric: 3.4483 - binary_accuracy_inet_decision_function_fv_metric: 0.6017 - val_loss: 0.6892 - val_binary_crossentropy_inet_decision_function_fv_metric: 0.6892 - val_binary_accuracy_inet_decision_function_fv_metric: 0.5480\n",
      "Epoch 035/150\n",
      "16/16 [==============================] - 14s 858ms/step - loss: 2.9893 - binary_crossentropy_inet_decision_function_fv_metric: 2.9893 - binary_accuracy_inet_decision_function_fv_metric: 0.6657 - val_loss: 0.8201 - val_binary_crossentropy_inet_decision_function_fv_metric: 0.8201 - val_binary_accuracy_inet_decision_function_fv_metric: 0.4566\n",
      "Epoch 036/150\n",
      "16/16 [==============================] - 13s 814ms/step - loss: 2.7191 - binary_crossentropy_inet_decision_function_fv_metric: 2.7191 - binary_accuracy_inet_decision_function_fv_metric: 0.6840 - val_loss: 0.6893 - val_binary_crossentropy_inet_decision_function_fv_metric: 0.6893 - val_binary_accuracy_inet_decision_function_fv_metric: 0.5434\n",
      "Epoch 037/150\n",
      "16/16 [==============================] - 13s 835ms/step - loss: 2.6616 - binary_crossentropy_inet_decision_function_fv_metric: 2.6616 - binary_accuracy_inet_decision_function_fv_metric: 0.6979 - val_loss: 0.7038 - val_binary_crossentropy_inet_decision_function_fv_metric: 0.7038 - val_binary_accuracy_inet_decision_function_fv_metric: 0.4566\n",
      "Epoch 038/150\n",
      "16/16 [==============================] - 13s 844ms/step - loss: 2.6876 - binary_crossentropy_inet_decision_function_fv_metric: 2.6876 - binary_accuracy_inet_decision_function_fv_metric: 0.7088 - val_loss: 0.6894 - val_binary_crossentropy_inet_decision_function_fv_metric: 0.6894 - val_binary_accuracy_inet_decision_function_fv_metric: 0.5434\n",
      "Epoch 039/150\n",
      "16/16 [==============================] - 14s 878ms/step - loss: 2.5849 - binary_crossentropy_inet_decision_function_fv_metric: 2.5849 - binary_accuracy_inet_decision_function_fv_metric: 0.7237 - val_loss: 0.6920 - val_binary_crossentropy_inet_decision_function_fv_metric: 0.6920 - val_binary_accuracy_inet_decision_function_fv_metric: 0.5434\n",
      "Epoch 040/150\n",
      "16/16 [==============================] - 14s 852ms/step - loss: 2.5448 - binary_crossentropy_inet_decision_function_fv_metric: 2.5448 - binary_accuracy_inet_decision_function_fv_metric: 0.7243 - val_loss: 0.6969 - val_binary_crossentropy_inet_decision_function_fv_metric: 0.6969 - val_binary_accuracy_inet_decision_function_fv_metric: 0.4566\n",
      "Epoch 041/150\n",
      "16/16 [==============================] - 14s 859ms/step - loss: 2.5061 - binary_crossentropy_inet_decision_function_fv_metric: 2.5061 - binary_accuracy_inet_decision_function_fv_metric: 0.7309 - val_loss: 0.6898 - val_binary_crossentropy_inet_decision_function_fv_metric: 0.6898 - val_binary_accuracy_inet_decision_function_fv_metric: 0.5480\n",
      "Epoch 042/150\n",
      "16/16 [==============================] - 14s 856ms/step - loss: 2.4818 - binary_crossentropy_inet_decision_function_fv_metric: 2.4818 - binary_accuracy_inet_decision_function_fv_metric: 0.7368 - val_loss: 0.6937 - val_binary_crossentropy_inet_decision_function_fv_metric: 0.6937 - val_binary_accuracy_inet_decision_function_fv_metric: 0.5434\n",
      "Epoch 043/150\n",
      "16/16 [==============================] - 14s 868ms/step - loss: 2.4442 - binary_crossentropy_inet_decision_function_fv_metric: 2.4442 - binary_accuracy_inet_decision_function_fv_metric: 0.7350 - val_loss: 0.6933 - val_binary_crossentropy_inet_decision_function_fv_metric: 0.6933 - val_binary_accuracy_inet_decision_function_fv_metric: 0.5480\n",
      "Epoch 044/150\n",
      "16/16 [==============================] - 14s 868ms/step - loss: 2.3820 - binary_crossentropy_inet_decision_function_fv_metric: 2.3820 - binary_accuracy_inet_decision_function_fv_metric: 0.7462 - val_loss: 0.6927 - val_binary_crossentropy_inet_decision_function_fv_metric: 0.6927 - val_binary_accuracy_inet_decision_function_fv_metric: 0.4566\n",
      "Epoch 045/150\n",
      "16/16 [==============================] - 14s 873ms/step - loss: 2.2574 - binary_crossentropy_inet_decision_function_fv_metric: 2.2574 - binary_accuracy_inet_decision_function_fv_metric: 0.7407 - val_loss: 0.6912 - val_binary_crossentropy_inet_decision_function_fv_metric: 0.6912 - val_binary_accuracy_inet_decision_function_fv_metric: 0.5480\n",
      "Epoch 046/150\n",
      "16/16 [==============================] - 14s 849ms/step - loss: 2.0881 - binary_crossentropy_inet_decision_function_fv_metric: 2.0881 - binary_accuracy_inet_decision_function_fv_metric: 0.7433 - val_loss: 0.6960 - val_binary_crossentropy_inet_decision_function_fv_metric: 0.6960 - val_binary_accuracy_inet_decision_function_fv_metric: 0.4566\n",
      "Epoch 047/150\n",
      "16/16 [==============================] - 14s 859ms/step - loss: 1.6429 - binary_crossentropy_inet_decision_function_fv_metric: 1.6429 - binary_accuracy_inet_decision_function_fv_metric: 0.7469 - val_loss: 0.6940 - val_binary_crossentropy_inet_decision_function_fv_metric: 0.6940 - val_binary_accuracy_inet_decision_function_fv_metric: 0.4566\n",
      "Epoch 048/150\n",
      "16/16 [==============================] - 14s 865ms/step - loss: 1.2643 - binary_crossentropy_inet_decision_function_fv_metric: 1.2643 - binary_accuracy_inet_decision_function_fv_metric: 0.7452 - val_loss: 0.7025 - val_binary_crossentropy_inet_decision_function_fv_metric: 0.7025 - val_binary_accuracy_inet_decision_function_fv_metric: 0.4566\n",
      "Epoch 049/150\n",
      "16/16 [==============================] - 14s 850ms/step - loss: 0.9352 - binary_crossentropy_inet_decision_function_fv_metric: 0.9352 - binary_accuracy_inet_decision_function_fv_metric: 0.7587 - val_loss: 0.6885 - val_binary_crossentropy_inet_decision_function_fv_metric: 0.6885 - val_binary_accuracy_inet_decision_function_fv_metric: 0.5480\n",
      "Epoch 050/150\n",
      "16/16 [==============================] - 13s 820ms/step - loss: 0.7913 - binary_crossentropy_inet_decision_function_fv_metric: 0.7913 - binary_accuracy_inet_decision_function_fv_metric: 0.7704 - val_loss: 0.7103 - val_binary_crossentropy_inet_decision_function_fv_metric: 0.7103 - val_binary_accuracy_inet_decision_function_fv_metric: 0.5434\n",
      "Epoch 051/150\n",
      "16/16 [==============================] - 13s 825ms/step - loss: 0.7158 - binary_crossentropy_inet_decision_function_fv_metric: 0.7158 - binary_accuracy_inet_decision_function_fv_metric: 0.7707 - val_loss: 0.7212 - val_binary_crossentropy_inet_decision_function_fv_metric: 0.7212 - val_binary_accuracy_inet_decision_function_fv_metric: 0.5434\n",
      "Epoch 052/150\n",
      "16/16 [==============================] - 13s 832ms/step - loss: 0.6703 - binary_crossentropy_inet_decision_function_fv_metric: 0.6703 - binary_accuracy_inet_decision_function_fv_metric: 0.7754 - val_loss: 0.7084 - val_binary_crossentropy_inet_decision_function_fv_metric: 0.7084 - val_binary_accuracy_inet_decision_function_fv_metric: 0.5480\n",
      "Epoch 053/150\n",
      "16/16 [==============================] - 14s 842ms/step - loss: 0.6120 - binary_crossentropy_inet_decision_function_fv_metric: 0.6120 - binary_accuracy_inet_decision_function_fv_metric: 0.7749 - val_loss: 0.6932 - val_binary_crossentropy_inet_decision_function_fv_metric: 0.6932 - val_binary_accuracy_inet_decision_function_fv_metric: 0.5480\n",
      "Epoch 054/150\n",
      "16/16 [==============================] - 13s 833ms/step - loss: 0.5619 - binary_crossentropy_inet_decision_function_fv_metric: 0.5619 - binary_accuracy_inet_decision_function_fv_metric: 0.7799 - val_loss: 0.6916 - val_binary_crossentropy_inet_decision_function_fv_metric: 0.6916 - val_binary_accuracy_inet_decision_function_fv_metric: 0.5480\n",
      "Epoch 055/150\n",
      "16/16 [==============================] - 14s 880ms/step - loss: 0.5557 - binary_crossentropy_inet_decision_function_fv_metric: 0.5557 - binary_accuracy_inet_decision_function_fv_metric: 0.7817 - val_loss: 0.6929 - val_binary_crossentropy_inet_decision_function_fv_metric: 0.6929 - val_binary_accuracy_inet_decision_function_fv_metric: 0.5480\n",
      "Epoch 056/150\n",
      "16/16 [==============================] - 14s 858ms/step - loss: 0.5246 - binary_crossentropy_inet_decision_function_fv_metric: 0.5246 - binary_accuracy_inet_decision_function_fv_metric: 0.7834 - val_loss: 0.7047 - val_binary_crossentropy_inet_decision_function_fv_metric: 0.7047 - val_binary_accuracy_inet_decision_function_fv_metric: 0.5434\n",
      "Epoch 057/150\n",
      "16/16 [==============================] - 13s 832ms/step - loss: 0.5028 - binary_crossentropy_inet_decision_function_fv_metric: 0.5028 - binary_accuracy_inet_decision_function_fv_metric: 0.7836 - val_loss: 0.7384 - val_binary_crossentropy_inet_decision_function_fv_metric: 0.7384 - val_binary_accuracy_inet_decision_function_fv_metric: 0.5434\n",
      "Epoch 058/150\n",
      "16/16 [==============================] - 14s 864ms/step - loss: 0.4943 - binary_crossentropy_inet_decision_function_fv_metric: 0.4943 - binary_accuracy_inet_decision_function_fv_metric: 0.7862 - val_loss: 0.7136 - val_binary_crossentropy_inet_decision_function_fv_metric: 0.7136 - val_binary_accuracy_inet_decision_function_fv_metric: 0.5434\n",
      "Epoch 059/150\n",
      "16/16 [==============================] - 13s 817ms/step - loss: 0.4864 - binary_crossentropy_inet_decision_function_fv_metric: 0.4864 - binary_accuracy_inet_decision_function_fv_metric: 0.7853 - val_loss: 0.6975 - val_binary_crossentropy_inet_decision_function_fv_metric: 0.6975 - val_binary_accuracy_inet_decision_function_fv_metric: 0.5434\n",
      "Epoch 060/150\n",
      "16/16 [==============================] - 13s 844ms/step - loss: 0.4818 - binary_crossentropy_inet_decision_function_fv_metric: 0.4818 - binary_accuracy_inet_decision_function_fv_metric: 0.7880 - val_loss: 0.6945 - val_binary_crossentropy_inet_decision_function_fv_metric: 0.6945 - val_binary_accuracy_inet_decision_function_fv_metric: 0.5480\n",
      "Epoch 061/150\n",
      "16/16 [==============================] - 14s 849ms/step - loss: 0.4701 - binary_crossentropy_inet_decision_function_fv_metric: 0.4701 - binary_accuracy_inet_decision_function_fv_metric: 0.7869 - val_loss: 0.7083 - val_binary_crossentropy_inet_decision_function_fv_metric: 0.7083 - val_binary_accuracy_inet_decision_function_fv_metric: 0.5434\n",
      "Epoch 062/150\n",
      "16/16 [==============================] - 14s 872ms/step - loss: 0.4679 - binary_crossentropy_inet_decision_function_fv_metric: 0.4679 - binary_accuracy_inet_decision_function_fv_metric: 0.7882 - val_loss: 0.7184 - val_binary_crossentropy_inet_decision_function_fv_metric: 0.7184 - val_binary_accuracy_inet_decision_function_fv_metric: 0.5434\n",
      "Epoch 063/150\n",
      "16/16 [==============================] - 14s 860ms/step - loss: 0.4666 - binary_crossentropy_inet_decision_function_fv_metric: 0.4666 - binary_accuracy_inet_decision_function_fv_metric: 0.7875 - val_loss: 0.7318 - val_binary_crossentropy_inet_decision_function_fv_metric: 0.7318 - val_binary_accuracy_inet_decision_function_fv_metric: 0.5434\n",
      "Epoch 064/150\n",
      "16/16 [==============================] - 14s 861ms/step - loss: 0.4631 - binary_crossentropy_inet_decision_function_fv_metric: 0.4631 - binary_accuracy_inet_decision_function_fv_metric: 0.7882 - val_loss: 0.7208 - val_binary_crossentropy_inet_decision_function_fv_metric: 0.7208 - val_binary_accuracy_inet_decision_function_fv_metric: 0.5434\n",
      "Epoch 065/150\n",
      "16/16 [==============================] - 14s 851ms/step - loss: 0.4593 - binary_crossentropy_inet_decision_function_fv_metric: 0.4593 - binary_accuracy_inet_decision_function_fv_metric: 0.7892 - val_loss: 0.7015 - val_binary_crossentropy_inet_decision_function_fv_metric: 0.7015 - val_binary_accuracy_inet_decision_function_fv_metric: 0.5434\n",
      "Epoch 066/150\n",
      "16/16 [==============================] - 13s 823ms/step - loss: 0.4587 - binary_crossentropy_inet_decision_function_fv_metric: 0.4587 - binary_accuracy_inet_decision_function_fv_metric: 0.7898 - val_loss: 0.7022 - val_binary_crossentropy_inet_decision_function_fv_metric: 0.7022 - val_binary_accuracy_inet_decision_function_fv_metric: 0.5434\n",
      "Epoch 067/150\n",
      "16/16 [==============================] - 14s 856ms/step - loss: 0.4525 - binary_crossentropy_inet_decision_function_fv_metric: 0.4525 - binary_accuracy_inet_decision_function_fv_metric: 0.7910 - val_loss: 0.7189 - val_binary_crossentropy_inet_decision_function_fv_metric: 0.7189 - val_binary_accuracy_inet_decision_function_fv_metric: 0.5434\n",
      "Epoch 068/150\n",
      "16/16 [==============================] - 14s 881ms/step - loss: 0.4496 - binary_crossentropy_inet_decision_function_fv_metric: 0.4496 - binary_accuracy_inet_decision_function_fv_metric: 0.7905 - val_loss: 0.7319 - val_binary_crossentropy_inet_decision_function_fv_metric: 0.7319 - val_binary_accuracy_inet_decision_function_fv_metric: 0.5434\n",
      "Epoch 069/150\n",
      "16/16 [==============================] - 14s 869ms/step - loss: 0.4483 - binary_crossentropy_inet_decision_function_fv_metric: 0.4483 - binary_accuracy_inet_decision_function_fv_metric: 0.7921 - val_loss: 0.7145 - val_binary_crossentropy_inet_decision_function_fv_metric: 0.7145 - val_binary_accuracy_inet_decision_function_fv_metric: 0.5434\n",
      "Epoch 070/150\n",
      "16/16 [==============================] - 14s 873ms/step - loss: 0.4481 - binary_crossentropy_inet_decision_function_fv_metric: 0.4481 - binary_accuracy_inet_decision_function_fv_metric: 0.7923 - val_loss: 0.7106 - val_binary_crossentropy_inet_decision_function_fv_metric: 0.7106 - val_binary_accuracy_inet_decision_function_fv_metric: 0.5434\n",
      "Epoch 071/150\n",
      "16/16 [==============================] - 14s 876ms/step - loss: 0.4457 - binary_crossentropy_inet_decision_function_fv_metric: 0.4457 - binary_accuracy_inet_decision_function_fv_metric: 0.7918 - val_loss: 0.7210 - val_binary_crossentropy_inet_decision_function_fv_metric: 0.7210 - val_binary_accuracy_inet_decision_function_fv_metric: 0.5434\n",
      "Epoch 072/150\n",
      "16/16 [==============================] - 14s 861ms/step - loss: 0.4420 - binary_crossentropy_inet_decision_function_fv_metric: 0.4420 - binary_accuracy_inet_decision_function_fv_metric: 0.7918 - val_loss: 0.7148 - val_binary_crossentropy_inet_decision_function_fv_metric: 0.7148 - val_binary_accuracy_inet_decision_function_fv_metric: 0.5434\n",
      "Epoch 073/150\n",
      "16/16 [==============================] - 14s 861ms/step - loss: 0.4416 - binary_crossentropy_inet_decision_function_fv_metric: 0.4416 - binary_accuracy_inet_decision_function_fv_metric: 0.7919 - val_loss: 0.7218 - val_binary_crossentropy_inet_decision_function_fv_metric: 0.7218 - val_binary_accuracy_inet_decision_function_fv_metric: 0.5434\n",
      "Epoch 074/150\n",
      "16/16 [==============================] - 13s 799ms/step - loss: 0.4422 - binary_crossentropy_inet_decision_function_fv_metric: 0.4422 - binary_accuracy_inet_decision_function_fv_metric: 0.7945 - val_loss: 0.7252 - val_binary_crossentropy_inet_decision_function_fv_metric: 0.7252 - val_binary_accuracy_inet_decision_function_fv_metric: 0.5434\n",
      "Epoch 075/150\n",
      "32/32 [==============================] - 26s 805ms/step - loss: 0.5735 - binary_crossentropy_inet_decision_function_fv_metric: 0.5735 - binary_accuracy_inet_decision_function_fv_metric: 0.6839 - val_loss: 0.7111 - val_binary_crossentropy_inet_decision_function_fv_metric: 0.7111 - val_binary_accuracy_inet_decision_function_fv_metric: 0.5434\n",
      "Epoch 076/150\n",
      "32/32 [==============================] - 27s 839ms/step - loss: 0.5606 - binary_crossentropy_inet_decision_function_fv_metric: 0.5606 - binary_accuracy_inet_decision_function_fv_metric: 0.6909 - val_loss: 0.7025 - val_binary_crossentropy_inet_decision_function_fv_metric: 0.7025 - val_binary_accuracy_inet_decision_function_fv_metric: 0.5434\n",
      "Epoch 077/150\n",
      "32/32 [==============================] - 28s 868ms/step - loss: 0.5451 - binary_crossentropy_inet_decision_function_fv_metric: 0.5451 - binary_accuracy_inet_decision_function_fv_metric: 0.6961 - val_loss: 0.7063 - val_binary_crossentropy_inet_decision_function_fv_metric: 0.7063 - val_binary_accuracy_inet_decision_function_fv_metric: 0.5434\n",
      "Epoch 078/150\n",
      "32/32 [==============================] - 27s 848ms/step - loss: 0.5361 - binary_crossentropy_inet_decision_function_fv_metric: 0.5361 - binary_accuracy_inet_decision_function_fv_metric: 0.6991 - val_loss: 0.7169 - val_binary_crossentropy_inet_decision_function_fv_metric: 0.7169 - val_binary_accuracy_inet_decision_function_fv_metric: 0.5434\n",
      "Epoch 079/150\n",
      "32/32 [==============================] - 27s 843ms/step - loss: 0.5287 - binary_crossentropy_inet_decision_function_fv_metric: 0.5287 - binary_accuracy_inet_decision_function_fv_metric: 0.7037 - val_loss: 0.7339 - val_binary_crossentropy_inet_decision_function_fv_metric: 0.7339 - val_binary_accuracy_inet_decision_function_fv_metric: 0.5434\n",
      "Epoch 080/150\n",
      "32/32 [==============================] - 28s 869ms/step - loss: 0.5221 - binary_crossentropy_inet_decision_function_fv_metric: 0.5221 - binary_accuracy_inet_decision_function_fv_metric: 0.7069 - val_loss: 0.7359 - val_binary_crossentropy_inet_decision_function_fv_metric: 0.7359 - val_binary_accuracy_inet_decision_function_fv_metric: 0.5434\n",
      "Epoch 081/150\n",
      "32/32 [==============================] - 28s 873ms/step - loss: 0.5204 - binary_crossentropy_inet_decision_function_fv_metric: 0.5204 - binary_accuracy_inet_decision_function_fv_metric: 0.7107 - val_loss: 0.7255 - val_binary_crossentropy_inet_decision_function_fv_metric: 0.7255 - val_binary_accuracy_inet_decision_function_fv_metric: 0.5434\n",
      "Epoch 082/150\n",
      "32/32 [==============================] - 28s 860ms/step - loss: 0.5157 - binary_crossentropy_inet_decision_function_fv_metric: 0.5157 - binary_accuracy_inet_decision_function_fv_metric: 0.7126 - val_loss: 0.7177 - val_binary_crossentropy_inet_decision_function_fv_metric: 0.7177 - val_binary_accuracy_inet_decision_function_fv_metric: 0.5434\n",
      "Epoch 083/150\n",
      "32/32 [==============================] - 27s 852ms/step - loss: 0.5141 - binary_crossentropy_inet_decision_function_fv_metric: 0.5141 - binary_accuracy_inet_decision_function_fv_metric: 0.7130 - val_loss: 0.7034 - val_binary_crossentropy_inet_decision_function_fv_metric: 0.7034 - val_binary_accuracy_inet_decision_function_fv_metric: 0.5434\n",
      "Epoch 084/150\n",
      "32/32 [==============================] - 28s 860ms/step - loss: 0.5100 - binary_crossentropy_inet_decision_function_fv_metric: 0.5100 - binary_accuracy_inet_decision_function_fv_metric: 0.7152 - val_loss: 0.6960 - val_binary_crossentropy_inet_decision_function_fv_metric: 0.6960 - val_binary_accuracy_inet_decision_function_fv_metric: 0.5434\n",
      "Epoch 085/150\n",
      "32/32 [==============================] - 28s 862ms/step - loss: 0.5081 - binary_crossentropy_inet_decision_function_fv_metric: 0.5081 - binary_accuracy_inet_decision_function_fv_metric: 0.7173 - val_loss: 0.7015 - val_binary_crossentropy_inet_decision_function_fv_metric: 0.7015 - val_binary_accuracy_inet_decision_function_fv_metric: 0.5434\n",
      "Epoch 086/150\n",
      "32/32 [==============================] - 27s 858ms/step - loss: 0.5065 - binary_crossentropy_inet_decision_function_fv_metric: 0.5065 - binary_accuracy_inet_decision_function_fv_metric: 0.7190 - val_loss: 0.6997 - val_binary_crossentropy_inet_decision_function_fv_metric: 0.6997 - val_binary_accuracy_inet_decision_function_fv_metric: 0.5434\n",
      "Epoch 087/150\n",
      "32/32 [==============================] - 27s 846ms/step - loss: 0.5020 - binary_crossentropy_inet_decision_function_fv_metric: 0.5020 - binary_accuracy_inet_decision_function_fv_metric: 0.7204 - val_loss: 0.7030 - val_binary_crossentropy_inet_decision_function_fv_metric: 0.7030 - val_binary_accuracy_inet_decision_function_fv_metric: 0.5434\n",
      "Epoch 088/150\n",
      "32/32 [==============================] - 27s 857ms/step - loss: 0.5017 - binary_crossentropy_inet_decision_function_fv_metric: 0.5017 - binary_accuracy_inet_decision_function_fv_metric: 0.7221 - val_loss: 0.7101 - val_binary_crossentropy_inet_decision_function_fv_metric: 0.7101 - val_binary_accuracy_inet_decision_function_fv_metric: 0.5434\n",
      "Epoch 089/150\n",
      "32/32 [==============================] - 28s 860ms/step - loss: 0.4999 - binary_crossentropy_inet_decision_function_fv_metric: 0.4999 - binary_accuracy_inet_decision_function_fv_metric: 0.7224 - val_loss: 0.7246 - val_binary_crossentropy_inet_decision_function_fv_metric: 0.7246 - val_binary_accuracy_inet_decision_function_fv_metric: 0.5434\n",
      "Epoch 090/150\n",
      "32/32 [==============================] - 28s 868ms/step - loss: 0.4986 - binary_crossentropy_inet_decision_function_fv_metric: 0.4986 - binary_accuracy_inet_decision_function_fv_metric: 0.7235 - val_loss: 0.7266 - val_binary_crossentropy_inet_decision_function_fv_metric: 0.7266 - val_binary_accuracy_inet_decision_function_fv_metric: 0.5434\n",
      "Epoch 091/150\n",
      "32/32 [==============================] - 27s 851ms/step - loss: 0.4971 - binary_crossentropy_inet_decision_function_fv_metric: 0.4971 - binary_accuracy_inet_decision_function_fv_metric: 0.7248 - val_loss: 0.7193 - val_binary_crossentropy_inet_decision_function_fv_metric: 0.7193 - val_binary_accuracy_inet_decision_function_fv_metric: 0.5434\n",
      "Epoch 092/150\n",
      "32/32 [==============================] - 27s 854ms/step - loss: 0.4966 - binary_crossentropy_inet_decision_function_fv_metric: 0.4966 - binary_accuracy_inet_decision_function_fv_metric: 0.7251 - val_loss: 0.7169 - val_binary_crossentropy_inet_decision_function_fv_metric: 0.7169 - val_binary_accuracy_inet_decision_function_fv_metric: 0.5434\n",
      "Epoch 093/150\n",
      "32/32 [==============================] - 28s 872ms/step - loss: 0.4933 - binary_crossentropy_inet_decision_function_fv_metric: 0.4933 - binary_accuracy_inet_decision_function_fv_metric: 0.7265 - val_loss: 0.7234 - val_binary_crossentropy_inet_decision_function_fv_metric: 0.7234 - val_binary_accuracy_inet_decision_function_fv_metric: 0.5434\n",
      "Epoch 094/150\n",
      "32/32 [==============================] - 28s 871ms/step - loss: 0.4916 - binary_crossentropy_inet_decision_function_fv_metric: 0.4916 - binary_accuracy_inet_decision_function_fv_metric: 0.7281 - val_loss: 0.7266 - val_binary_crossentropy_inet_decision_function_fv_metric: 0.7266 - val_binary_accuracy_inet_decision_function_fv_metric: 0.5434\n",
      "Epoch 095/150\n",
      "32/32 [==============================] - 28s 861ms/step - loss: 0.4900 - binary_crossentropy_inet_decision_function_fv_metric: 0.4900 - binary_accuracy_inet_decision_function_fv_metric: 0.7288 - val_loss: 0.7149 - val_binary_crossentropy_inet_decision_function_fv_metric: 0.7149 - val_binary_accuracy_inet_decision_function_fv_metric: 0.5434\n",
      "Epoch 096/150\n",
      "32/32 [==============================] - 27s 846ms/step - loss: 0.4892 - binary_crossentropy_inet_decision_function_fv_metric: 0.4892 - binary_accuracy_inet_decision_function_fv_metric: 0.7297 - val_loss: 0.7147 - val_binary_crossentropy_inet_decision_function_fv_metric: 0.7147 - val_binary_accuracy_inet_decision_function_fv_metric: 0.5434\n",
      "Epoch 097/150\n",
      "32/32 [==============================] - 28s 866ms/step - loss: 0.4880 - binary_crossentropy_inet_decision_function_fv_metric: 0.4880 - binary_accuracy_inet_decision_function_fv_metric: 0.7300 - val_loss: 0.7034 - val_binary_crossentropy_inet_decision_function_fv_metric: 0.7034 - val_binary_accuracy_inet_decision_function_fv_metric: 0.5434\n",
      "Epoch 098/150\n",
      "32/32 [==============================] - 27s 852ms/step - loss: 0.4851 - binary_crossentropy_inet_decision_function_fv_metric: 0.4851 - binary_accuracy_inet_decision_function_fv_metric: 0.7416 - val_loss: 0.6945 - val_binary_crossentropy_inet_decision_function_fv_metric: 0.6945 - val_binary_accuracy_inet_decision_function_fv_metric: 0.5434\n",
      "Epoch 099/150\n",
      "32/32 [==============================] - 28s 877ms/step - loss: 0.4845 - binary_crossentropy_inet_decision_function_fv_metric: 0.4845 - binary_accuracy_inet_decision_function_fv_metric: 0.7457 - val_loss: 0.7025 - val_binary_crossentropy_inet_decision_function_fv_metric: 0.7025 - val_binary_accuracy_inet_decision_function_fv_metric: 0.5434\n",
      "Epoch 100/150\n",
      "32/32 [==============================] - 28s 865ms/step - loss: 0.4824 - binary_crossentropy_inet_decision_function_fv_metric: 0.4824 - binary_accuracy_inet_decision_function_fv_metric: 0.7477 - val_loss: 0.7064 - val_binary_crossentropy_inet_decision_function_fv_metric: 0.7064 - val_binary_accuracy_inet_decision_function_fv_metric: 0.5434\n",
      "Epoch 101/150\n",
      "32/32 [==============================] - 28s 860ms/step - loss: 0.4801 - binary_crossentropy_inet_decision_function_fv_metric: 0.4801 - binary_accuracy_inet_decision_function_fv_metric: 0.7520 - val_loss: 0.6963 - val_binary_crossentropy_inet_decision_function_fv_metric: 0.6963 - val_binary_accuracy_inet_decision_function_fv_metric: 0.5434\n",
      "Epoch 102/150\n",
      "32/32 [==============================] - 28s 861ms/step - loss: 0.4804 - binary_crossentropy_inet_decision_function_fv_metric: 0.4804 - binary_accuracy_inet_decision_function_fv_metric: 0.7533 - val_loss: 0.7087 - val_binary_crossentropy_inet_decision_function_fv_metric: 0.7087 - val_binary_accuracy_inet_decision_function_fv_metric: 0.5434\n",
      "Epoch 103/150\n",
      "32/32 [==============================] - 28s 876ms/step - loss: 0.4779 - binary_crossentropy_inet_decision_function_fv_metric: 0.4779 - binary_accuracy_inet_decision_function_fv_metric: 0.7540 - val_loss: 0.7171 - val_binary_crossentropy_inet_decision_function_fv_metric: 0.7171 - val_binary_accuracy_inet_decision_function_fv_metric: 0.5434\n",
      "Epoch 104/150\n",
      "32/32 [==============================] - 28s 871ms/step - loss: 0.4757 - binary_crossentropy_inet_decision_function_fv_metric: 0.4757 - binary_accuracy_inet_decision_function_fv_metric: 0.7581 - val_loss: 0.7187 - val_binary_crossentropy_inet_decision_function_fv_metric: 0.7187 - val_binary_accuracy_inet_decision_function_fv_metric: 0.5434\n",
      "Epoch 105/150\n",
      "32/32 [==============================] - 28s 872ms/step - loss: 0.4709 - binary_crossentropy_inet_decision_function_fv_metric: 0.4709 - binary_accuracy_inet_decision_function_fv_metric: 0.7627 - val_loss: 0.7210 - val_binary_crossentropy_inet_decision_function_fv_metric: 0.7210 - val_binary_accuracy_inet_decision_function_fv_metric: 0.5434\n",
      "Epoch 106/150\n",
      "32/32 [==============================] - 27s 846ms/step - loss: 0.4692 - binary_crossentropy_inet_decision_function_fv_metric: 0.4692 - binary_accuracy_inet_decision_function_fv_metric: 0.7661 - val_loss: 0.7295 - val_binary_crossentropy_inet_decision_function_fv_metric: 0.7295 - val_binary_accuracy_inet_decision_function_fv_metric: 0.5434\n",
      "Epoch 107/150\n",
      "32/32 [==============================] - 28s 875ms/step - loss: 0.4671 - binary_crossentropy_inet_decision_function_fv_metric: 0.4671 - binary_accuracy_inet_decision_function_fv_metric: 0.7686 - val_loss: 0.7274 - val_binary_crossentropy_inet_decision_function_fv_metric: 0.7274 - val_binary_accuracy_inet_decision_function_fv_metric: 0.5434\n",
      "Epoch 108/150\n",
      "32/32 [==============================] - 27s 832ms/step - loss: 0.4672 - binary_crossentropy_inet_decision_function_fv_metric: 0.4672 - binary_accuracy_inet_decision_function_fv_metric: 0.7679 - val_loss: 0.7291 - val_binary_crossentropy_inet_decision_function_fv_metric: 0.7291 - val_binary_accuracy_inet_decision_function_fv_metric: 0.5434\n",
      "Epoch 109/150\n",
      "32/32 [==============================] - 28s 873ms/step - loss: 0.4676 - binary_crossentropy_inet_decision_function_fv_metric: 0.4676 - binary_accuracy_inet_decision_function_fv_metric: 0.7660 - val_loss: 0.7165 - val_binary_crossentropy_inet_decision_function_fv_metric: 0.7165 - val_binary_accuracy_inet_decision_function_fv_metric: 0.5434\n",
      "Epoch 110/150\n",
      "32/32 [==============================] - 27s 853ms/step - loss: 0.4683 - binary_crossentropy_inet_decision_function_fv_metric: 0.4683 - binary_accuracy_inet_decision_function_fv_metric: 0.7669 - val_loss: 0.7173 - val_binary_crossentropy_inet_decision_function_fv_metric: 0.7173 - val_binary_accuracy_inet_decision_function_fv_metric: 0.5434\n",
      "Epoch 111/150\n",
      "32/32 [==============================] - 28s 870ms/step - loss: 0.4663 - binary_crossentropy_inet_decision_function_fv_metric: 0.4663 - binary_accuracy_inet_decision_function_fv_metric: 0.7661 - val_loss: 0.7271 - val_binary_crossentropy_inet_decision_function_fv_metric: 0.7271 - val_binary_accuracy_inet_decision_function_fv_metric: 0.5434\n",
      "Epoch 112/150\n",
      "32/32 [==============================] - 28s 864ms/step - loss: 0.4652 - binary_crossentropy_inet_decision_function_fv_metric: 0.4652 - binary_accuracy_inet_decision_function_fv_metric: 0.7686 - val_loss: 0.6972 - val_binary_crossentropy_inet_decision_function_fv_metric: 0.6972 - val_binary_accuracy_inet_decision_function_fv_metric: 0.5434\n",
      "Epoch 113/150\n",
      "32/32 [==============================] - 28s 864ms/step - loss: 0.4631 - binary_crossentropy_inet_decision_function_fv_metric: 0.4631 - binary_accuracy_inet_decision_function_fv_metric: 0.7725 - val_loss: 0.6907 - val_binary_crossentropy_inet_decision_function_fv_metric: 0.6907 - val_binary_accuracy_inet_decision_function_fv_metric: 0.5434\n",
      "Epoch 114/150\n",
      "32/32 [==============================] - 28s 874ms/step - loss: 0.4603 - binary_crossentropy_inet_decision_function_fv_metric: 0.4603 - binary_accuracy_inet_decision_function_fv_metric: 0.7789 - val_loss: 0.6904 - val_binary_crossentropy_inet_decision_function_fv_metric: 0.6904 - val_binary_accuracy_inet_decision_function_fv_metric: 0.5480\n",
      "Epoch 115/150\n",
      "32/32 [==============================] - 27s 855ms/step - loss: 0.4556 - binary_crossentropy_inet_decision_function_fv_metric: 0.4556 - binary_accuracy_inet_decision_function_fv_metric: 0.7834 - val_loss: 0.6899 - val_binary_crossentropy_inet_decision_function_fv_metric: 0.6899 - val_binary_accuracy_inet_decision_function_fv_metric: 0.5434\n",
      "Epoch 116/150\n",
      "32/32 [==============================] - 27s 855ms/step - loss: 0.4545 - binary_crossentropy_inet_decision_function_fv_metric: 0.4545 - binary_accuracy_inet_decision_function_fv_metric: 0.7841 - val_loss: 0.7016 - val_binary_crossentropy_inet_decision_function_fv_metric: 0.7016 - val_binary_accuracy_inet_decision_function_fv_metric: 0.5434\n",
      "Epoch 117/150\n",
      "32/32 [==============================] - 27s 845ms/step - loss: 0.4590 - binary_crossentropy_inet_decision_function_fv_metric: 0.4590 - binary_accuracy_inet_decision_function_fv_metric: 0.7818 - val_loss: 0.7155 - val_binary_crossentropy_inet_decision_function_fv_metric: 0.7155 - val_binary_accuracy_inet_decision_function_fv_metric: 0.5434\n",
      "Epoch 118/150\n",
      "32/32 [==============================] - 28s 860ms/step - loss: 0.4574 - binary_crossentropy_inet_decision_function_fv_metric: 0.4574 - binary_accuracy_inet_decision_function_fv_metric: 0.7789 - val_loss: 0.7444 - val_binary_crossentropy_inet_decision_function_fv_metric: 0.7444 - val_binary_accuracy_inet_decision_function_fv_metric: 0.5434\n",
      "Epoch 119/150\n",
      "32/32 [==============================] - 27s 844ms/step - loss: 0.4548 - binary_crossentropy_inet_decision_function_fv_metric: 0.4548 - binary_accuracy_inet_decision_function_fv_metric: 0.7835 - val_loss: 0.7470 - val_binary_crossentropy_inet_decision_function_fv_metric: 0.7470 - val_binary_accuracy_inet_decision_function_fv_metric: 0.5434\n",
      "Epoch 120/150\n",
      "32/32 [==============================] - 27s 840ms/step - loss: 0.4498 - binary_crossentropy_inet_decision_function_fv_metric: 0.4498 - binary_accuracy_inet_decision_function_fv_metric: 0.7888 - val_loss: 0.7789 - val_binary_crossentropy_inet_decision_function_fv_metric: 0.7789 - val_binary_accuracy_inet_decision_function_fv_metric: 0.5434\n",
      "Epoch 121/150\n",
      "32/32 [==============================] - 27s 854ms/step - loss: 0.4477 - binary_crossentropy_inet_decision_function_fv_metric: 0.4477 - binary_accuracy_inet_decision_function_fv_metric: 0.7925 - val_loss: 0.7566 - val_binary_crossentropy_inet_decision_function_fv_metric: 0.7566 - val_binary_accuracy_inet_decision_function_fv_metric: 0.5434\n",
      "Epoch 122/150\n",
      "32/32 [==============================] - 27s 838ms/step - loss: 0.4464 - binary_crossentropy_inet_decision_function_fv_metric: 0.4464 - binary_accuracy_inet_decision_function_fv_metric: 0.7942 - val_loss: 0.7361 - val_binary_crossentropy_inet_decision_function_fv_metric: 0.7361 - val_binary_accuracy_inet_decision_function_fv_metric: 0.5434\n",
      "Epoch 123/150\n",
      "32/32 [==============================] - 28s 859ms/step - loss: 0.4481 - binary_crossentropy_inet_decision_function_fv_metric: 0.4481 - binary_accuracy_inet_decision_function_fv_metric: 0.7938 - val_loss: 0.6949 - val_binary_crossentropy_inet_decision_function_fv_metric: 0.6949 - val_binary_accuracy_inet_decision_function_fv_metric: 0.5434\n",
      "Epoch 124/150\n",
      "32/32 [==============================] - 28s 863ms/step - loss: 0.4504 - binary_crossentropy_inet_decision_function_fv_metric: 0.4504 - binary_accuracy_inet_decision_function_fv_metric: 0.7908 - val_loss: 0.6949 - val_binary_crossentropy_inet_decision_function_fv_metric: 0.6949 - val_binary_accuracy_inet_decision_function_fv_metric: 0.4566\n",
      "Epoch 125/150\n",
      "32/32 [==============================] - 27s 844ms/step - loss: 0.4528 - binary_crossentropy_inet_decision_function_fv_metric: 0.4528 - binary_accuracy_inet_decision_function_fv_metric: 0.7890 - val_loss: 0.7017 - val_binary_crossentropy_inet_decision_function_fv_metric: 0.7017 - val_binary_accuracy_inet_decision_function_fv_metric: 0.4566\n",
      "Epoch 126/150\n",
      "32/32 [==============================] - 27s 845ms/step - loss: 0.4506 - binary_crossentropy_inet_decision_function_fv_metric: 0.4506 - binary_accuracy_inet_decision_function_fv_metric: 0.7884 - val_loss: 0.6893 - val_binary_crossentropy_inet_decision_function_fv_metric: 0.6893 - val_binary_accuracy_inet_decision_function_fv_metric: 0.5480\n",
      "Epoch 127/150\n",
      "32/32 [==============================] - 28s 860ms/step - loss: 0.4502 - binary_crossentropy_inet_decision_function_fv_metric: 0.4502 - binary_accuracy_inet_decision_function_fv_metric: 0.7892 - val_loss: 0.7066 - val_binary_crossentropy_inet_decision_function_fv_metric: 0.7066 - val_binary_accuracy_inet_decision_function_fv_metric: 0.5434\n",
      "Epoch 128/150\n",
      "32/32 [==============================] - 26s 818ms/step - loss: 0.4470 - binary_crossentropy_inet_decision_function_fv_metric: 0.4470 - binary_accuracy_inet_decision_function_fv_metric: 0.7919 - val_loss: 0.7286 - val_binary_crossentropy_inet_decision_function_fv_metric: 0.7286 - val_binary_accuracy_inet_decision_function_fv_metric: 0.5434\n",
      "Epoch 129/150\n",
      "32/32 [==============================] - 28s 864ms/step - loss: 0.4432 - binary_crossentropy_inet_decision_function_fv_metric: 0.4432 - binary_accuracy_inet_decision_function_fv_metric: 0.7960 - val_loss: 0.7299 - val_binary_crossentropy_inet_decision_function_fv_metric: 0.7299 - val_binary_accuracy_inet_decision_function_fv_metric: 0.5434\n",
      "Epoch 130/150\n",
      "32/32 [==============================] - 27s 829ms/step - loss: 0.4450 - binary_crossentropy_inet_decision_function_fv_metric: 0.4450 - binary_accuracy_inet_decision_function_fv_metric: 0.7962 - val_loss: 0.7283 - val_binary_crossentropy_inet_decision_function_fv_metric: 0.7283 - val_binary_accuracy_inet_decision_function_fv_metric: 0.5434\n",
      "Epoch 131/150\n",
      "32/32 [==============================] - 27s 830ms/step - loss: 0.4446 - binary_crossentropy_inet_decision_function_fv_metric: 0.4446 - binary_accuracy_inet_decision_function_fv_metric: 0.7944 - val_loss: 0.6958 - val_binary_crossentropy_inet_decision_function_fv_metric: 0.6958 - val_binary_accuracy_inet_decision_function_fv_metric: 0.5434\n",
      "Epoch 132/150\n",
      "32/32 [==============================] - 27s 836ms/step - loss: 0.4454 - binary_crossentropy_inet_decision_function_fv_metric: 0.4454 - binary_accuracy_inet_decision_function_fv_metric: 0.7924 - val_loss: 0.6891 - val_binary_crossentropy_inet_decision_function_fv_metric: 0.6891 - val_binary_accuracy_inet_decision_function_fv_metric: 0.5480\n",
      "Epoch 133/150\n",
      "32/32 [==============================] - 28s 859ms/step - loss: 0.4424 - binary_crossentropy_inet_decision_function_fv_metric: 0.4424 - binary_accuracy_inet_decision_function_fv_metric: 0.7950 - val_loss: 0.6896 - val_binary_crossentropy_inet_decision_function_fv_metric: 0.6896 - val_binary_accuracy_inet_decision_function_fv_metric: 0.5434\n",
      "Epoch 134/150\n",
      "32/32 [==============================] - 27s 847ms/step - loss: 0.4402 - binary_crossentropy_inet_decision_function_fv_metric: 0.4402 - binary_accuracy_inet_decision_function_fv_metric: 0.7965 - val_loss: 0.6957 - val_binary_crossentropy_inet_decision_function_fv_metric: 0.6957 - val_binary_accuracy_inet_decision_function_fv_metric: 0.5434\n",
      "Epoch 135/150\n",
      "32/32 [==============================] - 27s 855ms/step - loss: 0.4420 - binary_crossentropy_inet_decision_function_fv_metric: 0.4420 - binary_accuracy_inet_decision_function_fv_metric: 0.7957 - val_loss: 0.7141 - val_binary_crossentropy_inet_decision_function_fv_metric: 0.7141 - val_binary_accuracy_inet_decision_function_fv_metric: 0.5434\n",
      "Epoch 136/150\n",
      "32/32 [==============================] - 27s 851ms/step - loss: 0.4428 - binary_crossentropy_inet_decision_function_fv_metric: 0.4428 - binary_accuracy_inet_decision_function_fv_metric: 0.7948 - val_loss: 0.7387 - val_binary_crossentropy_inet_decision_function_fv_metric: 0.7387 - val_binary_accuracy_inet_decision_function_fv_metric: 0.5434\n",
      "Epoch 137/150\n",
      "32/32 [==============================] - 27s 828ms/step - loss: 0.4388 - binary_crossentropy_inet_decision_function_fv_metric: 0.4388 - binary_accuracy_inet_decision_function_fv_metric: 0.7964 - val_loss: 0.7488 - val_binary_crossentropy_inet_decision_function_fv_metric: 0.7488 - val_binary_accuracy_inet_decision_function_fv_metric: 0.5434\n",
      "Epoch 138/150\n",
      "32/32 [==============================] - 27s 837ms/step - loss: 0.4389 - binary_crossentropy_inet_decision_function_fv_metric: 0.4389 - binary_accuracy_inet_decision_function_fv_metric: 0.7977 - val_loss: 0.7447 - val_binary_crossentropy_inet_decision_function_fv_metric: 0.7447 - val_binary_accuracy_inet_decision_function_fv_metric: 0.5434\n",
      "Epoch 139/150\n",
      "32/32 [==============================] - 27s 845ms/step - loss: 0.4396 - binary_crossentropy_inet_decision_function_fv_metric: 0.4396 - binary_accuracy_inet_decision_function_fv_metric: 0.7981 - val_loss: 0.7354 - val_binary_crossentropy_inet_decision_function_fv_metric: 0.7354 - val_binary_accuracy_inet_decision_function_fv_metric: 0.5434\n",
      "Epoch 140/150\n",
      "32/32 [==============================] - 27s 846ms/step - loss: 0.4417 - binary_crossentropy_inet_decision_function_fv_metric: 0.4417 - binary_accuracy_inet_decision_function_fv_metric: 0.7974 - val_loss: 0.7121 - val_binary_crossentropy_inet_decision_function_fv_metric: 0.7121 - val_binary_accuracy_inet_decision_function_fv_metric: 0.5434\n",
      "Epoch 141/150\n",
      "32/32 [==============================] - 27s 840ms/step - loss: 0.4397 - binary_crossentropy_inet_decision_function_fv_metric: 0.4397 - binary_accuracy_inet_decision_function_fv_metric: 0.7981 - val_loss: 0.6978 - val_binary_crossentropy_inet_decision_function_fv_metric: 0.6978 - val_binary_accuracy_inet_decision_function_fv_metric: 0.5434\n",
      "Epoch 142/150\n",
      "32/32 [==============================] - 27s 851ms/step - loss: 0.4399 - binary_crossentropy_inet_decision_function_fv_metric: 0.4399 - binary_accuracy_inet_decision_function_fv_metric: 0.7976 - val_loss: 0.6889 - val_binary_crossentropy_inet_decision_function_fv_metric: 0.6889 - val_binary_accuracy_inet_decision_function_fv_metric: 0.5480\n",
      "Epoch 143/150\n",
      "32/32 [==============================] - 27s 842ms/step - loss: 0.4435 - binary_crossentropy_inet_decision_function_fv_metric: 0.4435 - binary_accuracy_inet_decision_function_fv_metric: 0.7940 - val_loss: 0.7055 - val_binary_crossentropy_inet_decision_function_fv_metric: 0.7055 - val_binary_accuracy_inet_decision_function_fv_metric: 0.4566\n",
      "Epoch 144/150\n",
      "32/32 [==============================] - 28s 866ms/step - loss: 0.4447 - binary_crossentropy_inet_decision_function_fv_metric: 0.4447 - binary_accuracy_inet_decision_function_fv_metric: 0.7946 - val_loss: 0.7248 - val_binary_crossentropy_inet_decision_function_fv_metric: 0.7248 - val_binary_accuracy_inet_decision_function_fv_metric: 0.4566\n",
      "Epoch 145/150\n",
      "32/32 [==============================] - 27s 848ms/step - loss: 0.4473 - binary_crossentropy_inet_decision_function_fv_metric: 0.4473 - binary_accuracy_inet_decision_function_fv_metric: 0.7938 - val_loss: 0.6960 - val_binary_crossentropy_inet_decision_function_fv_metric: 0.6960 - val_binary_accuracy_inet_decision_function_fv_metric: 0.4566\n",
      "Epoch 146/150\n",
      "32/32 [==============================] - 27s 826ms/step - loss: 0.4470 - binary_crossentropy_inet_decision_function_fv_metric: 0.4470 - binary_accuracy_inet_decision_function_fv_metric: 0.7941 - val_loss: 0.6902 - val_binary_crossentropy_inet_decision_function_fv_metric: 0.6902 - val_binary_accuracy_inet_decision_function_fv_metric: 0.5480\n",
      "Epoch 147/150\n",
      "32/32 [==============================] - 27s 833ms/step - loss: 0.4452 - binary_crossentropy_inet_decision_function_fv_metric: 0.4452 - binary_accuracy_inet_decision_function_fv_metric: 0.7934 - val_loss: 0.7220 - val_binary_crossentropy_inet_decision_function_fv_metric: 0.7220 - val_binary_accuracy_inet_decision_function_fv_metric: 0.5434\n",
      "Epoch 148/150\n",
      "32/32 [==============================] - 28s 874ms/step - loss: 0.4430 - binary_crossentropy_inet_decision_function_fv_metric: 0.4430 - binary_accuracy_inet_decision_function_fv_metric: 0.7953 - val_loss: 0.7364 - val_binary_crossentropy_inet_decision_function_fv_metric: 0.7364 - val_binary_accuracy_inet_decision_function_fv_metric: 0.5434\n",
      "Epoch 149/150\n",
      "32/32 [==============================] - 27s 842ms/step - loss: 0.4406 - binary_crossentropy_inet_decision_function_fv_metric: 0.4406 - binary_accuracy_inet_decision_function_fv_metric: 0.7969 - val_loss: 0.7450 - val_binary_crossentropy_inet_decision_function_fv_metric: 0.7450 - val_binary_accuracy_inet_decision_function_fv_metric: 0.5434\n"
     ]
    },
    {
     "data": {
      "image/png": "[encoded data removed]",
      "text/plain": [
       "<Figure size 432x288 with 1 Axes>"
      ]
     },
     "metadata": {},
     "output_type": "display_data"
    }
   ],
   "source": [
    "model = generate_inet(config, X_train_adult)\n",
    "\n",
    "target_network_parameters = shaped_network_parameters_to_array(test_network.get_weights(), config)\n",
    "\n",
    "callback_names = []\n",
    "if config['i_net']['early_stopping']:\n",
    "    callback_names.append('early_stopping')\n",
    "\n",
    "callbacks = return_callbacks_from_string(callback_names)  \n",
    "\n",
    "verbosity = 1\n",
    "\n",
    "#%autoreload 2\n",
    "############################## PREDICTION ###############################\n",
    "X_valid_single = np.array([target_network_parameters])\n",
    "X_train_single = None\n",
    "\n",
    "\n",
    "y_valid_single = np.array([[0 for _ in range(basic_function_representation_length)]])\n",
    "y_train_single_model = None#y_train[[index]].shape\n",
    "\n",
    "mult_counter = 1\n",
    "counter = 0\n",
    "for i in range(epochs):\n",
    "    print('Epoch ' + str(i).zfill(3) + '/' + str(epochs).zfill(3))\n",
    "    if i < (epochs-50): #last 50 epochs without change in dataset\n",
    "\n",
    "        if counter == 0:\n",
    "            X_train_single = np.zeros((initial_parameters, number_of_lambda_weights))\n",
    "            for j in range(initial_parameters):\n",
    "                target_network_parameters_mutated = copy.deepcopy(target_network_parameters)\n",
    "\n",
    "                target_network_parameters_range = (np.min(target_network_parameters), np.max(target_network_parameters))\n",
    "                target_network_parameters_differential = target_network_parameters_range[1] - target_network_parameters_range[0]\n",
    "\n",
    "                for _ in range(mutation_number):\n",
    "                    mutation_index = random.randint(0, number_of_lambda_weights-1)\n",
    "                    mutation_level = np.random.normal(loc=0.0, scale=target_network_parameters_differential)\n",
    "                    target_network_parameters_mutated[mutation_index] = target_network_parameters_mutated[mutation_index] + mutation_level\n",
    "\n",
    "                X_train_single[j] = target_network_parameters_mutated\n",
    "\n",
    "        elif counter % (increase_interval_base*mult_counter) == 0:\n",
    "            counter = 0\n",
    "            mult_counter += 1\n",
    "            X_train_single_new = np.zeros((X_train_single.shape[0]*extension_rate, number_of_lambda_weights))\n",
    "            for j1, X_train_single_entry in enumerate(X_train_single):\n",
    "                for j2 in range(extension_rate):\n",
    "                    X_train_single_entry_mutated = copy.deepcopy(X_train_single_entry)\n",
    "\n",
    "                    X_train_single_entry_range = (np.min(X_train_single_entry), np.max(X_train_single_entry))\n",
    "                    X_train_single_entry_differential = X_train_single_entry_range[1] - X_train_single_entry_range[0]\n",
    "\n",
    "                    for _ in range(mutation_number):\n",
    "                        mutation_index = random.randint(0, number_of_lambda_weights-1)\n",
    "                        mutation_level = np.random.normal(loc=0.0, scale=X_train_single_entry_differential)\n",
    "                        X_train_single_entry_mutated[mutation_index] = X_train_single_entry_mutated[mutation_index] + mutation_level\n",
    "\n",
    "                    X_train_single_new[(j2*X_train_single.shape[0])-1+j1] = X_train_single_entry_mutated                \n",
    "\n",
    "            #X_train = X_train_new\n",
    "            X_train_single_list = [X_train_single for _ in range(extension_rate)]\n",
    "            X_train_single_list.append(X_train_single_new)\n",
    "            X_train_single = np.vstack(X_train_single_list)    \n",
    "\n",
    "        y_train_single = np.array([[0 for _ in range(basic_function_representation_length)] for _ in range(X_train_single.shape[0])])\n",
    "        y_train_single_model = np.hstack((y_train_single, X_train_single))   \n",
    "        valid_data_single = (X_valid_single, np.hstack((y_valid_single, X_valid_single)))                   \n",
    "    \n",
    "    #print(X_train_single.shape)\n",
    "    #print(y_train_single_model.shape)\n",
    "    #print(valid_data_single[0].shape, valid_data_single[1].shape)\n",
    "    \n",
    "    \n",
    "    model_history = model.fit(X_train_single,\n",
    "                      y_train_single_model,\n",
    "                      epochs=1, \n",
    "                      batch_size=config['i_net']['batch_size'], \n",
    "                      validation_data=valid_data_single,\n",
    "                      callbacks=callbacks,\n",
    "                      verbose=verbosity)\n",
    "    \n",
    "    if i == 0:\n",
    "        history = model_history.history\n",
    "    else:\n",
    "        history = mergeDict(history, model_history.history)\n",
    "\n",
    "    counter += 1\n",
    "    \n",
    "    tf.keras.backend.clear_session()\n",
    "\n",
    "if nas:\n",
    "    for trial in history: \n",
    "        print(trial.summary())\n",
    "else:\n",
    "    plt.plot(history['loss'])\n",
    "    plt.plot(history['val_loss'])\n",
    "    plt.title('model loss')\n",
    "    plt.ylabel('loss')\n",
    "    plt.xlabel('epoch')\n",
    "    plt.legend(['train', 'valid'], loc='upper left')    "
   ]
  },
  {
   "cell_type": "code",
   "execution_count": 29,
   "metadata": {
    "execution": {
     "iopub.execute_input": "2021-12-04T11:28:39.870584Z",
     "iopub.status.busy": "2021-12-04T11:28:39.870385Z",
     "iopub.status.idle": "2021-12-04T11:28:42.670603Z",
     "shell.execute_reply": "2021-12-04T11:28:42.669919Z",
     "shell.execute_reply.started": "2021-12-04T11:28:39.870557Z"
    },
    "tags": []
   },
   "outputs": [
    {
     "name": "stdout",
     "output_type": "stream",
     "text": [
      "Binary Crossentropy:\t\t 18.366 (Sklearn DT) \t 0.745 (I-Net DT)\n",
      "Accuracy:\t\t 0.468 (Sklearn DT) \t 0.543 (I-Net DT)\n",
      "F1 Score:\t\t 0.04 (Sklearn DT) \t 0.704 (I-Net DT)\n"
     ]
    }
   ],
   "source": [
    "test_network_parameters = shaped_network_parameters_to_array(test_network.get_weights(), config)\n",
    "test_network_dt_inet = model.predict(np.array([test_network_parameters]))[0]\n",
    "\n",
    "if nas:\n",
    "    test_network_dt_inet = test_network_dt_inet[:function_representation_length]\n",
    "\n",
    "X_data_random = generate_random_data_points_custom(config['data']['x_min'], \n",
    "                                                   config['data']['x_max'],\n",
    "                                                   config['evaluation']['random_evaluation_dataset_size'], \n",
    "                                                   config['data']['number_of_variables'], \n",
    "                                                   config['data']['categorical_indices'])\n",
    "\n",
    "y_data_random_test_network_pred = test_network.predict(X_data_random)\n",
    "y_data_random_test_network_pred = np.round(y_data_random_test_network_pred).astype(np.int64)\n",
    "\n",
    "dt_sklearn_distilled = DecisionTreeClassifier(max_depth=config['function_family']['maximum_depth'])\n",
    "dt_sklearn_distilled.fit(X_data_random, y_data_random_test_network_pred)\n",
    "\n",
    "\n",
    "if dt_type == 'SDT':\n",
    "    y_test_inet_dt  = calculate_function_value_from_decision_tree_parameters_wrapper(X_test_adult, config)(test_network_dt_inet).numpy()\n",
    "elif dt_type == 'vanilla':\n",
    "    y_test_inet_dt  = calculate_function_value_from_vanilla_decision_tree_parameters_wrapper(X_test_adult, config)(test_network_dt_inet).numpy()\n",
    "y_test_distilled_sklearn_dt = dt_sklearn_distilled.predict(X_test_adult)\n",
    "\n",
    "y_test_test_network_pred = test_network.predict(X_test_adult)\n",
    "y_test_test_network_pred = np.round(y_test_test_network_pred)\n",
    "\n",
    "binary_crossentropy_distilled_sklearn_dt = log_loss(y_test_test_network_pred, y_test_distilled_sklearn_dt, labels=[0,1])\n",
    "accuracy_distilled_sklearn_dt = accuracy_score(y_test_test_network_pred, np.round(y_test_distilled_sklearn_dt))\n",
    "f1_score_distilled_sklearn_dt = f1_score(y_test_test_network_pred, np.round(y_test_distilled_sklearn_dt))\n",
    "\n",
    "binary_crossentropy_inet_dt = log_loss(y_test_test_network_pred, y_test_inet_dt, labels=[0,1])\n",
    "accuracy_inet_dt = accuracy_score(y_test_test_network_pred, np.round(y_test_inet_dt))\n",
    "f1_score_inet_dt = f1_score(y_test_test_network_pred, np.round(y_test_inet_dt))\n",
    "\n",
    "\n",
    "print('Binary Crossentropy:\\t\\t', np.round(binary_crossentropy_distilled_sklearn_dt, 3), '(Sklearn DT)' , '\\t', np.round(binary_crossentropy_inet_dt, 3), '(I-Net DT)')\n",
    "print('Accuracy:\\t\\t', np.round(accuracy_distilled_sklearn_dt, 3), '(Sklearn DT)' , '\\t', np.round(accuracy_inet_dt, 3), '(I-Net DT)')\n",
    "print('F1 Score:\\t\\t', np.round(f1_score_distilled_sklearn_dt, 3), '(Sklearn DT)' , '\\t', np.round(f1_score_inet_dt, 3), '(I-Net DT)')\n",
    "     \n"
   ]
  },
  {
   "cell_type": "code",
   "execution_count": 30,
   "metadata": {
    "execution": {
     "iopub.execute_input": "2021-12-04T11:28:42.671998Z",
     "iopub.status.busy": "2021-12-04T11:28:42.671689Z",
     "iopub.status.idle": "2021-12-04T11:28:42.687750Z",
     "shell.execute_reply": "2021-12-04T11:28:42.687150Z",
     "shell.execute_reply.started": "2021-12-04T11:28:42.671965Z"
    },
    "tags": []
   },
   "outputs": [
    {
     "name": "stdout",
     "output_type": "stream",
     "text": [
      "tf.Tensor(\n",
      "[[0.5257299  0.         0.         ... 0.         0.         0.        ]\n",
      " [0.50740117 0.         0.         ... 0.         0.         0.        ]\n",
      " [0.557947   0.         0.         ... 0.         0.         0.        ]\n",
      " ...\n",
      " [0.54973245 0.         0.         ... 0.         0.         0.        ]\n",
      " [0.5314044  0.         0.         ... 0.         0.         0.        ]\n",
      " [0.48435974 0.         0.         ... 0.         0.         0.        ]], shape=(7, 43), dtype=float32) tf.Tensor(\n",
      "[0.29632837 0.43323365 0.4276624  0.38677683 0.4440011  0.4487255\n",
      " 0.45358837 0.38063377], shape=(8,), dtype=float32)\n"
     ]
    }
   ],
   "source": [
    "splits, leaf_classes = get_shaped_parameters_for_decision_tree(test_network_dt_inet, config)\n",
    "print(splits, leaf_classes)"
   ]
  },
  {
   "cell_type": "code",
   "execution_count": 31,
   "metadata": {
    "execution": {
     "iopub.execute_input": "2021-12-04T11:28:42.688955Z",
     "iopub.status.busy": "2021-12-04T11:28:42.688670Z",
     "iopub.status.idle": "2021-12-04T11:28:42.693074Z",
     "shell.execute_reply": "2021-12-04T11:28:42.692215Z",
     "shell.execute_reply.started": "2021-12-04T11:28:42.688925Z"
    },
    "tags": []
   },
   "outputs": [],
   "source": [
    "#%load_ext autoreload"
   ]
  },
  {
   "cell_type": "code",
   "execution_count": 32,
   "metadata": {
    "execution": {
     "iopub.execute_input": "2021-12-04T11:28:42.694687Z",
     "iopub.status.busy": "2021-12-04T11:28:42.694326Z",
     "iopub.status.idle": "2021-12-04T11:28:44.756940Z",
     "shell.execute_reply": "2021-12-04T11:28:44.753977Z",
     "shell.execute_reply.started": "2021-12-04T11:28:42.694651Z"
    },
    "tags": []
   },
   "outputs": [
    {
     "ename": "ValueError",
     "evalue": "Found array with 0 sample(s) (shape=(0, 1)) while a minimum of 1 is required.",
     "output_type": "error",
     "traceback": [
      "\u001b[0;31m---------------------------------------------------------------------------\u001b[0m",
      "\u001b[0;31mValueError\u001b[0m                                Traceback (most recent call last)",
      "\u001b[0;32m/tmp/ipykernel_1459569/1765805627.py\u001b[0m in \u001b[0;36m<module>\u001b[0;34m\u001b[0m\n\u001b[1;32m      1\u001b[0m \u001b[0;31m#%autoreload 2\u001b[0m\u001b[0;34m\u001b[0m\u001b[0;34m\u001b[0m\u001b[0;34m\u001b[0m\u001b[0m\n\u001b[0;32m----> 2\u001b[0;31m \u001b[0mimage\u001b[0m\u001b[0;34m,\u001b[0m \u001b[0mnodes\u001b[0m \u001b[0;34m=\u001b[0m \u001b[0manytree_decision_tree_from_parameters\u001b[0m\u001b[0;34m(\u001b[0m\u001b[0mtest_network_dt_inet\u001b[0m\u001b[0;34m,\u001b[0m \u001b[0mconfig\u001b[0m\u001b[0;34m=\u001b[0m\u001b[0mconfig\u001b[0m\u001b[0;34m,\u001b[0m \u001b[0mnormalizer_list\u001b[0m\u001b[0;34m=\u001b[0m\u001b[0mnormalizer_list\u001b[0m\u001b[0;34m)\u001b[0m\u001b[0;34m\u001b[0m\u001b[0;34m\u001b[0m\u001b[0m\n\u001b[0m\u001b[1;32m      3\u001b[0m \u001b[0mimage\u001b[0m\u001b[0;34m\u001b[0m\u001b[0;34m\u001b[0m\u001b[0m\n\u001b[1;32m      4\u001b[0m \u001b[0;31m#tree.show()\u001b[0m\u001b[0;34m\u001b[0m\u001b[0;34m\u001b[0m\u001b[0;34m\u001b[0m\u001b[0m\n",
      "\u001b[0;32m/work-ceph/smarton/InES_XAI/03_decision_trees/utilities/utility_functions.py\u001b[0m in \u001b[0;36manytree_decision_tree_from_parameters\u001b[0;34m(dt_parameter_array, config, normalizer_list, path)\u001b[0m\n\u001b[1;32m    994\u001b[0m         \u001b[0;32mfor\u001b[0m \u001b[0mi\u001b[0m\u001b[0;34m,\u001b[0m \u001b[0mcolumn\u001b[0m \u001b[0;32min\u001b[0m \u001b[0menumerate\u001b[0m\u001b[0;34m(\u001b[0m\u001b[0mtranspose\u001b[0m\u001b[0;34m)\u001b[0m\u001b[0;34m:\u001b[0m\u001b[0;34m\u001b[0m\u001b[0;34m\u001b[0m\u001b[0m\n\u001b[1;32m    995\u001b[0m             \u001b[0mcolumn_new\u001b[0m \u001b[0;34m=\u001b[0m \u001b[0mcolumn\u001b[0m\u001b[0;34m\u001b[0m\u001b[0;34m\u001b[0m\u001b[0m\n\u001b[0;32m--> 996\u001b[0;31m             \u001b[0mcolumn_new\u001b[0m\u001b[0;34m[\u001b[0m\u001b[0mcolumn_new\u001b[0m \u001b[0;34m!=\u001b[0m \u001b[0;36m0\u001b[0m\u001b[0;34m]\u001b[0m \u001b[0;34m=\u001b[0m \u001b[0mnormalizer_list\u001b[0m\u001b[0;34m[\u001b[0m\u001b[0mi\u001b[0m\u001b[0;34m]\u001b[0m\u001b[0;34m.\u001b[0m\u001b[0minverse_transform\u001b[0m\u001b[0;34m(\u001b[0m\u001b[0mcolumn\u001b[0m\u001b[0;34m[\u001b[0m\u001b[0mcolumn\u001b[0m \u001b[0;34m!=\u001b[0m \u001b[0;36m0\u001b[0m\u001b[0;34m]\u001b[0m\u001b[0;34m.\u001b[0m\u001b[0mreshape\u001b[0m\u001b[0;34m(\u001b[0m\u001b[0;34m-\u001b[0m\u001b[0;36m1\u001b[0m\u001b[0;34m,\u001b[0m \u001b[0;36m1\u001b[0m\u001b[0;34m)\u001b[0m\u001b[0;34m)\u001b[0m\u001b[0;34m.\u001b[0m\u001b[0mravel\u001b[0m\u001b[0;34m(\u001b[0m\u001b[0;34m)\u001b[0m\u001b[0;34m\u001b[0m\u001b[0;34m\u001b[0m\u001b[0m\n\u001b[0m\u001b[1;32m    997\u001b[0m             \u001b[0;31m#column_new = normalizer_list[i].inverse_transform(column.reshape(-1, 1)).ravel()\u001b[0m\u001b[0;34m\u001b[0m\u001b[0;34m\u001b[0m\u001b[0;34m\u001b[0m\u001b[0m\n\u001b[1;32m    998\u001b[0m             \u001b[0mtranspose_normalized\u001b[0m\u001b[0;34m.\u001b[0m\u001b[0mappend\u001b[0m\u001b[0;34m(\u001b[0m\u001b[0mcolumn_new\u001b[0m\u001b[0;34m)\u001b[0m\u001b[0;34m\u001b[0m\u001b[0;34m\u001b[0m\u001b[0m\n",
      "\u001b[0;32m~/anaconda3/envs/XAI/lib/python3.8/site-packages/sklearn/preprocessing/_data.py\u001b[0m in \u001b[0;36minverse_transform\u001b[0;34m(self, X)\u001b[0m\n\u001b[1;32m    456\u001b[0m         \u001b[0mcheck_is_fitted\u001b[0m\u001b[0;34m(\u001b[0m\u001b[0mself\u001b[0m\u001b[0;34m)\u001b[0m\u001b[0;34m\u001b[0m\u001b[0;34m\u001b[0m\u001b[0m\n\u001b[1;32m    457\u001b[0m \u001b[0;34m\u001b[0m\u001b[0m\n\u001b[0;32m--> 458\u001b[0;31m         X = check_array(X, copy=self.copy, dtype=FLOAT_DTYPES,\n\u001b[0m\u001b[1;32m    459\u001b[0m                         force_all_finite=\"allow-nan\")\n\u001b[1;32m    460\u001b[0m \u001b[0;34m\u001b[0m\u001b[0m\n",
      "\u001b[0;32m~/anaconda3/envs/XAI/lib/python3.8/site-packages/sklearn/utils/validation.py\u001b[0m in \u001b[0;36minner_f\u001b[0;34m(*args, **kwargs)\u001b[0m\n\u001b[1;32m     61\u001b[0m             \u001b[0mextra_args\u001b[0m \u001b[0;34m=\u001b[0m \u001b[0mlen\u001b[0m\u001b[0;34m(\u001b[0m\u001b[0margs\u001b[0m\u001b[0;34m)\u001b[0m \u001b[0;34m-\u001b[0m \u001b[0mlen\u001b[0m\u001b[0;34m(\u001b[0m\u001b[0mall_args\u001b[0m\u001b[0;34m)\u001b[0m\u001b[0;34m\u001b[0m\u001b[0;34m\u001b[0m\u001b[0m\n\u001b[1;32m     62\u001b[0m             \u001b[0;32mif\u001b[0m \u001b[0mextra_args\u001b[0m \u001b[0;34m<=\u001b[0m \u001b[0;36m0\u001b[0m\u001b[0;34m:\u001b[0m\u001b[0;34m\u001b[0m\u001b[0;34m\u001b[0m\u001b[0m\n\u001b[0;32m---> 63\u001b[0;31m                 \u001b[0;32mreturn\u001b[0m \u001b[0mf\u001b[0m\u001b[0;34m(\u001b[0m\u001b[0;34m*\u001b[0m\u001b[0margs\u001b[0m\u001b[0;34m,\u001b[0m \u001b[0;34m**\u001b[0m\u001b[0mkwargs\u001b[0m\u001b[0;34m)\u001b[0m\u001b[0;34m\u001b[0m\u001b[0;34m\u001b[0m\u001b[0m\n\u001b[0m\u001b[1;32m     64\u001b[0m \u001b[0;34m\u001b[0m\u001b[0m\n\u001b[1;32m     65\u001b[0m             \u001b[0;31m# extra_args > 0\u001b[0m\u001b[0;34m\u001b[0m\u001b[0;34m\u001b[0m\u001b[0;34m\u001b[0m\u001b[0m\n",
      "\u001b[0;32m~/anaconda3/envs/XAI/lib/python3.8/site-packages/sklearn/utils/validation.py\u001b[0m in \u001b[0;36mcheck_array\u001b[0;34m(array, accept_sparse, accept_large_sparse, dtype, order, copy, force_all_finite, ensure_2d, allow_nd, ensure_min_samples, ensure_min_features, estimator)\u001b[0m\n\u001b[1;32m    724\u001b[0m         \u001b[0mn_samples\u001b[0m \u001b[0;34m=\u001b[0m \u001b[0m_num_samples\u001b[0m\u001b[0;34m(\u001b[0m\u001b[0marray\u001b[0m\u001b[0;34m)\u001b[0m\u001b[0;34m\u001b[0m\u001b[0;34m\u001b[0m\u001b[0m\n\u001b[1;32m    725\u001b[0m         \u001b[0;32mif\u001b[0m \u001b[0mn_samples\u001b[0m \u001b[0;34m<\u001b[0m \u001b[0mensure_min_samples\u001b[0m\u001b[0;34m:\u001b[0m\u001b[0;34m\u001b[0m\u001b[0;34m\u001b[0m\u001b[0m\n\u001b[0;32m--> 726\u001b[0;31m             raise ValueError(\"Found array with %d sample(s) (shape=%s) while a\"\n\u001b[0m\u001b[1;32m    727\u001b[0m                              \u001b[0;34m\" minimum of %d is required%s.\"\u001b[0m\u001b[0;34m\u001b[0m\u001b[0;34m\u001b[0m\u001b[0m\n\u001b[1;32m    728\u001b[0m                              % (n_samples, array.shape, ensure_min_samples,\n",
      "\u001b[0;31mValueError\u001b[0m: Found array with 0 sample(s) (shape=(0, 1)) while a minimum of 1 is required."
     ]
    }
   ],
   "source": [
    "#%autoreload 2\n",
    "image, nodes = anytree_decision_tree_from_parameters(test_network_dt_inet, config=config, normalizer_list=normalizer_list)\n",
    "image\n",
    "#tree.show()"
   ]
  },
  {
   "cell_type": "code",
   "execution_count": null,
   "metadata": {
    "execution": {
     "iopub.status.busy": "2021-12-04T11:28:44.757673Z",
     "iopub.status.idle": "2021-12-04T11:28:44.758023Z",
     "shell.execute_reply": "2021-12-04T11:28:44.757870Z",
     "shell.execute_reply.started": "2021-12-04T11:28:44.757851Z"
    },
    "tags": []
   },
   "outputs": [],
   "source": [
    "plt.figure(figsize=(24,12))  # set plot size (denoted in inches)\n",
    "plot_tree(dt_sklearn_distilled, fontsize=12)\n",
    "plt.show()"
   ]
  },
  {
   "cell_type": "code",
   "execution_count": null,
   "metadata": {
    "execution": {
     "iopub.status.busy": "2021-12-04T11:28:44.759141Z",
     "iopub.status.idle": "2021-12-04T11:28:44.759426Z",
     "shell.execute_reply": "2021-12-04T11:28:44.759287Z",
     "shell.execute_reply.started": "2021-12-04T11:28:44.759271Z"
    },
    "tags": []
   },
   "outputs": [],
   "source": [
    "del model"
   ]
  },
  {
   "cell_type": "markdown",
   "metadata": {},
   "source": [
    "## Titanic Dataset"
   ]
  },
  {
   "cell_type": "code",
   "execution_count": null,
   "metadata": {
    "execution": {
     "iopub.status.busy": "2021-12-04T11:28:44.760513Z",
     "iopub.status.idle": "2021-12-04T11:28:44.760925Z",
     "shell.execute_reply": "2021-12-04T11:28:44.760776Z",
     "shell.execute_reply.started": "2021-12-04T11:28:44.760758Z"
    },
    "tags": []
   },
   "outputs": [],
   "source": [
    "titanic_data = pd.read_csv(\"./real_world_datasets/Titanic/train.csv\")\n",
    "\n",
    "titanic_data.head()"
   ]
  },
  {
   "cell_type": "code",
   "execution_count": null,
   "metadata": {
    "execution": {
     "iopub.status.busy": "2021-12-04T11:28:44.761885Z",
     "iopub.status.idle": "2021-12-04T11:28:44.762192Z",
     "shell.execute_reply": "2021-12-04T11:28:44.762029Z",
     "shell.execute_reply.started": "2021-12-04T11:28:44.762013Z"
    },
    "tags": []
   },
   "outputs": [],
   "source": [
    "titanic_data.describe()"
   ]
  },
  {
   "cell_type": "code",
   "execution_count": null,
   "metadata": {
    "execution": {
     "iopub.status.busy": "2021-12-04T11:28:44.762999Z",
     "iopub.status.idle": "2021-12-04T11:28:44.763300Z",
     "shell.execute_reply": "2021-12-04T11:28:44.763148Z",
     "shell.execute_reply.started": "2021-12-04T11:28:44.763128Z"
    },
    "tags": []
   },
   "outputs": [],
   "source": [
    "titanic_data.info()"
   ]
  },
  {
   "cell_type": "code",
   "execution_count": null,
   "metadata": {
    "execution": {
     "iopub.status.busy": "2021-12-04T11:28:44.764307Z",
     "iopub.status.idle": "2021-12-04T11:28:44.764595Z",
     "shell.execute_reply": "2021-12-04T11:28:44.764453Z",
     "shell.execute_reply.started": "2021-12-04T11:28:44.764437Z"
    },
    "tags": []
   },
   "outputs": [],
   "source": [
    "titanic_data = titanic_data.drop(['Cabin', 'Ticket', 'Name', 'PassengerId'], axis = 1)\n"
   ]
  },
  {
   "cell_type": "code",
   "execution_count": null,
   "metadata": {
    "execution": {
     "iopub.status.busy": "2021-12-04T11:28:44.765682Z",
     "iopub.status.idle": "2021-12-04T11:28:44.765986Z",
     "shell.execute_reply": "2021-12-04T11:28:44.765838Z",
     "shell.execute_reply.started": "2021-12-04T11:28:44.765821Z"
    },
    "tags": []
   },
   "outputs": [],
   "source": [
    "titanic_data.isnull().sum()"
   ]
  },
  {
   "cell_type": "code",
   "execution_count": null,
   "metadata": {
    "execution": {
     "iopub.status.busy": "2021-12-04T11:28:44.767018Z",
     "iopub.status.idle": "2021-12-04T11:28:44.767313Z",
     "shell.execute_reply": "2021-12-04T11:28:44.767168Z",
     "shell.execute_reply.started": "2021-12-04T11:28:44.767152Z"
    },
    "tags": []
   },
   "outputs": [],
   "source": [
    "titanic_data['Age'].fillna(titanic_data['Age'].mean(), inplace = True)\n",
    "#titanic_data['Fare'].fillna(titanic_data['Fare'].mean(), inplace = True)\n",
    "    \n",
    "titanic_data['Embarked'].fillna('S', inplace = True)\n",
    "titanic_data.head()"
   ]
  },
  {
   "cell_type": "markdown",
   "metadata": {},
   "source": [
    "    survival\tSurvival\t0 = No, 1 = Yes\n",
    "    pclass\tTicket class\t1 = 1st, 2 = 2nd, 3 = 3rd\n",
    "    sex\tSex\t\n",
    "    Age\tAge in years\t\n",
    "    sibsp\t# of siblings / spouses aboard the Titanic\t\n",
    "    parch\t# of parents / children aboard the Titanic\t\n",
    "    ticket\tTicket number\t\n",
    "    fare\tPassenger fare\t\n",
    "    cabin\tCabin number\t\n",
    "    embarked\tPort of Embarkation\tC = Cherbourg, Q = Queenstown, S = Southampton"
   ]
  },
  {
   "cell_type": "code",
   "execution_count": null,
   "metadata": {
    "execution": {
     "iopub.status.busy": "2021-12-04T11:28:44.768184Z",
     "iopub.status.idle": "2021-12-04T11:28:44.768467Z",
     "shell.execute_reply": "2021-12-04T11:28:44.768327Z",
     "shell.execute_reply.started": "2021-12-04T11:28:44.768311Z"
    },
    "tags": []
   },
   "outputs": [],
   "source": [
    "features_select = [\n",
    "                    'Pclass',\n",
    "                    'Sex',    \n",
    "                    'Age',\n",
    "                    'SibSp',    \n",
    "                    'Parch',\n",
    "                    'Fare',    \n",
    "                    'Embarked',\n",
    "                    'Survived',    \n",
    "                  ]\n",
    "\n",
    "titanic_data = titanic_data[features_select]\n",
    "\n",
    "categorical_features = ['Embarked', 'Pclass']#[1, 2, 7]\n",
    "ordinal_features = ['Sex']\n",
    "\n",
    "transformer = ColumnTransformer(transformers=[('cat', OneHotEncoder(), categorical_features)], remainder='passthrough', sparse_threshold=0)\n",
    "transformer.fit(titanic_data)\n",
    "\n",
    "titanic_data = transformer.transform(titanic_data)\n",
    "titanic_data = pd.DataFrame(titanic_data, columns=transformer.get_feature_names())\n",
    "\n",
    "for ordinal_feature in ordinal_features:\n",
    "    titanic_data[ordinal_feature] = OrdinalEncoder().fit_transform(titanic_data[ordinal_feature].values.reshape(-1, 1)).flatten()\n",
    "\n",
    "titanic_data = titanic_data.astype(np.float64)\n",
    "\n",
    "    \n",
    "X_data_titanic = titanic_data.drop(['Survived'], axis = 1)\n",
    "y_data_titanic = titanic_data['Survived']\n",
    "X_data_titanic.head()"
   ]
  },
  {
   "cell_type": "markdown",
   "metadata": {},
   "source": [
    "    survival\tSurvival\t0 = No, 1 = Yes\n",
    "    pclass\tTicket class\t1 = 1st, 2 = 2nd, 3 = 3rd\n",
    "    sex\tSex\t\n",
    "    Age\tAge in years\t\n",
    "    sibsp\t# of siblings / spouses aboard the Titanic\t\n",
    "    parch\t# of parents / children aboard the Titanic\t\n",
    "    ticket\tTicket number\t\n",
    "    fare\tPassenger fare\t\n",
    "    cabin\tCabin number\t\n",
    "    embarked\tPort of Embarkation\tC = Cherbourg, Q = Queenstown, S = Southampton"
   ]
  },
  {
   "cell_type": "code",
   "execution_count": null,
   "metadata": {
    "execution": {
     "iopub.status.busy": "2021-12-04T11:28:44.769279Z",
     "iopub.status.idle": "2021-12-04T11:28:44.769571Z",
     "shell.execute_reply": "2021-12-04T11:28:44.769421Z",
     "shell.execute_reply.started": "2021-12-04T11:28:44.769405Z"
    },
    "tags": []
   },
   "outputs": [],
   "source": [
    "number_of_variables = X_data_titanic.shape[1]\n",
    "config['data']['number_of_variables'] = number_of_variables\n",
    "\n",
    "\n",
    "number_of_lambda_weights = get_number_of_lambda_net_parameters(lambda_network_layers, number_of_variables, num_classes)\n",
    "config['lambda_net']['number_of_lambda_weights'] = number_of_lambda_weights\n",
    "\n",
    "\n",
    "basic_function_representation_length = get_number_of_function_parameters(dt_type, maximum_depth, number_of_variables, num_classes)\n",
    "config['function_family']['basic_function_representation_length'] = basic_function_representation_length\n",
    "\n",
    "\n",
    "function_representation_length= ( \n",
    "       #((2 ** maximum_depth - 1) * decision_sparsity) * 2 + (2 ** maximum_depth - 1) + (2 ** maximum_depth) * num_classes  if function_representation_type == 1 and dt_type == 'SDT'\n",
    "       (2 ** maximum_depth - 1) * (number_of_variables + 1) + (2 ** maximum_depth) * number_of_classes if function_representation_type == 1 and dt_type == 'SDT'\n",
    "  else (2 ** maximum_depth - 1) * decision_sparsity + (2 ** maximum_depth - 1) + ((2 ** maximum_depth - 1)  * decision_sparsity * number_of_variables) + (2 ** maximum_depth) * num_classes if function_representation_type == 2 and dt_type == 'SDT'\n",
    "  else ((2 ** maximum_depth - 1) * decision_sparsity) * 2 + (2 ** maximum_depth)  if function_representation_type == 1 and dt_type == 'vanilla'\n",
    "  else (2 ** maximum_depth - 1) * decision_sparsity + ((2 ** maximum_depth - 1)  * decision_sparsity * number_of_variables) + (2 ** maximum_depth) if function_representation_type == 2 and dt_type == 'vanilla'\n",
    "  else None\n",
    "                                                            )\n",
    "config['function_family']['function_representation_length'] = function_representation_length"
   ]
  },
  {
   "cell_type": "code",
   "execution_count": null,
   "metadata": {
    "execution": {
     "iopub.status.busy": "2021-12-04T11:28:44.770285Z",
     "iopub.status.idle": "2021-12-04T11:28:44.770578Z",
     "shell.execute_reply": "2021-12-04T11:28:44.770431Z",
     "shell.execute_reply.started": "2021-12-04T11:28:44.770415Z"
    },
    "tags": []
   },
   "outputs": [],
   "source": [
    "categorical_indices = []\n",
    "\n",
    "for i, (column_name, column) in enumerate(X_data_titanic.iteritems()):\n",
    "    if len(column.value_counts()) == 2:\n",
    "        categorical_indices.append(i)\n",
    "print(categorical_indices)\n",
    "\n",
    "config['data']['categorical_indices'] = categorical_indices"
   ]
  },
  {
   "cell_type": "code",
   "execution_count": null,
   "metadata": {
    "execution": {
     "iopub.status.busy": "2021-12-04T11:28:44.771617Z",
     "iopub.status.idle": "2021-12-04T11:28:44.771931Z",
     "shell.execute_reply": "2021-12-04T11:28:44.771788Z",
     "shell.execute_reply.started": "2021-12-04T11:28:44.771772Z"
    },
    "tags": []
   },
   "outputs": [],
   "source": [
    "normalizer_list = []\n",
    "for column_name in X_data_titanic:\n",
    "    scaler = MinMaxScaler()\n",
    "    scaler.fit(X_data_titanic[column_name].values.reshape(-1, 1))\n",
    "    X_data_titanic[column_name] = scaler.transform(X_data_titanic[column_name].values.reshape(-1, 1)).ravel()\n",
    "    normalizer_list.append(scaler)\n",
    "X_data_titanic.head()"
   ]
  },
  {
   "cell_type": "code",
   "execution_count": null,
   "metadata": {
    "execution": {
     "iopub.status.busy": "2021-12-04T11:28:44.772836Z",
     "iopub.status.idle": "2021-12-04T11:28:44.773164Z",
     "shell.execute_reply": "2021-12-04T11:28:44.773019Z",
     "shell.execute_reply.started": "2021-12-04T11:28:44.773001Z"
    },
    "tags": []
   },
   "outputs": [],
   "source": [
    "y_data_titanic"
   ]
  },
  {
   "cell_type": "code",
   "execution_count": null,
   "metadata": {
    "execution": {
     "iopub.status.busy": "2021-12-04T11:28:44.774193Z",
     "iopub.status.idle": "2021-12-04T11:28:44.774533Z",
     "shell.execute_reply": "2021-12-04T11:28:44.774383Z",
     "shell.execute_reply.started": "2021-12-04T11:28:44.774366Z"
    },
    "tags": []
   },
   "outputs": [],
   "source": [
    "true_labels = len(y_data_titanic[y_data_titanic >= 0.5 ]) \n",
    "false_labels = len(y_data_titanic[y_data_titanic < 0.5 ]) \n",
    "\n",
    "true_ratio = true_labels/(true_labels+false_labels)\n",
    "\n",
    "print('True Ratio: ', str(true_ratio))"
   ]
  },
  {
   "cell_type": "code",
   "execution_count": null,
   "metadata": {
    "execution": {
     "iopub.status.busy": "2021-12-04T11:28:44.775376Z",
     "iopub.status.idle": "2021-12-04T11:28:44.775747Z",
     "shell.execute_reply": "2021-12-04T11:28:44.775590Z",
     "shell.execute_reply.started": "2021-12-04T11:28:44.775572Z"
    },
    "tags": []
   },
   "outputs": [],
   "source": [
    "if true_ratio <= 0.4 or true_ratio >= 0.6:\n",
    "    from imblearn.over_sampling import RandomOverSampler \n",
    "\n",
    "    oversample = RandomOverSampler(sampling_strategy='minority')\n",
    "\n",
    "    X_data_titanic, y_data_titanic = oversample.fit_resample(X_data_titanic, y_data_titanic)\n",
    "\n",
    "    true_labels = len(y_data_titanic[y_data_titanic >= 0.5 ]) \n",
    "    false_labels = len(y_data_titanic[y_data_titanic < 0.5 ]) \n",
    "\n",
    "    print('True Ratio: ', str(true_labels/(true_labels+false_labels)))"
   ]
  },
  {
   "cell_type": "code",
   "execution_count": null,
   "metadata": {
    "execution": {
     "iopub.status.busy": "2021-12-04T11:28:44.776794Z",
     "iopub.status.idle": "2021-12-04T11:28:44.777116Z",
     "shell.execute_reply": "2021-12-04T11:28:44.776960Z",
     "shell.execute_reply.started": "2021-12-04T11:28:44.776943Z"
    },
    "tags": []
   },
   "outputs": [],
   "source": [
    "X_train_titanic_with_valid, X_test_titanic, y_train_titanic_with_valid, y_test_titanic = train_test_split(X_data_titanic, y_data_titanic, train_size=0.8)\n",
    "X_train_titanic, X_valid_titanic, y_train_titanic, y_valid_titanic = train_test_split(X_train_titanic_with_valid, y_train_titanic_with_valid, train_size=0.8)\n",
    "\n",
    "print(X_train_titanic.shape, y_train_titanic.shape)\n",
    "print(X_valid_titanic.shape, y_valid_titanic.shape)\n",
    "print(X_test_titanic.shape, y_test_titanic.shape)"
   ]
  },
  {
   "cell_type": "code",
   "execution_count": null,
   "metadata": {
    "execution": {
     "iopub.status.busy": "2021-12-04T11:28:44.777851Z",
     "iopub.status.idle": "2021-12-04T11:28:44.778173Z",
     "shell.execute_reply": "2021-12-04T11:28:44.778008Z",
     "shell.execute_reply.started": "2021-12-04T11:28:44.777992Z"
    },
    "tags": []
   },
   "outputs": [],
   "source": [
    "test_network = generate_lambda_net_from_config(config)\n",
    "\n",
    "early_stopping = tf.keras.callbacks.EarlyStopping(monitor='val_loss', \n",
    "                                                  patience=50, \n",
    "                                                  min_delta=0.001, \n",
    "                                                  verbose=0, \n",
    "                                                  mode='min', \n",
    "                                                  restore_best_weights=True)\n",
    "\n",
    "model_history = test_network.fit(X_train_titanic,\n",
    "                                  y_train_titanic, \n",
    "                                  epochs=config['lambda_net']['epochs_lambda'], \n",
    "                                  batch_size=config['lambda_net']['batch_lambda'], \n",
    "                                  callbacks=[early_stopping, PlotLossesKerasTF()],\n",
    "                                  validation_data=(X_valid_titanic, y_valid_titanic),\n",
    "                                  verbose=0)\n",
    "\n"
   ]
  },
  {
   "cell_type": "code",
   "execution_count": null,
   "metadata": {
    "execution": {
     "iopub.status.busy": "2021-12-04T11:28:44.778962Z",
     "iopub.status.idle": "2021-12-04T11:28:44.779253Z",
     "shell.execute_reply": "2021-12-04T11:28:44.779112Z",
     "shell.execute_reply.started": "2021-12-04T11:28:44.779096Z"
    },
    "tags": []
   },
   "outputs": [],
   "source": [
    "test_network.summary()"
   ]
  },
  {
   "cell_type": "code",
   "execution_count": null,
   "metadata": {
    "execution": {
     "iopub.status.busy": "2021-12-04T11:28:44.780241Z",
     "iopub.status.idle": "2021-12-04T11:28:44.780576Z",
     "shell.execute_reply": "2021-12-04T11:28:44.780431Z",
     "shell.execute_reply.started": "2021-12-04T11:28:44.780414Z"
    },
    "tags": []
   },
   "outputs": [],
   "source": [
    "model = generate_inet(config, X_train_titanic)\n",
    "\n",
    "target_network_parameters = shaped_network_parameters_to_array(test_network.get_weights(), config)\n",
    "\n",
    "callback_names = []\n",
    "if config['i_net']['early_stopping']:\n",
    "    callback_names.append('early_stopping')\n",
    "\n",
    "callbacks = return_callbacks_from_string(callback_names)  \n",
    "\n",
    "verbosity = 1\n",
    "\n",
    "#%autoreload 2\n",
    "############################## PREDICTION ###############################\n",
    "X_valid_single = np.array([target_network_parameters])\n",
    "X_train_single = None\n",
    "\n",
    "\n",
    "y_valid_single = np.array([[0 for _ in range(basic_function_representation_length)]])\n",
    "y_train_model_single = None#y_train[[index]].shape\n",
    "\n",
    "mult_counter = 1\n",
    "counter = 0\n",
    "for i in range(epochs):\n",
    "    print('Epoch ' + str(i).zfill(3) + '/' + str(epochs).zfill(3))\n",
    "    if i < (epochs-50): #last 50 epochs without change in dataset\n",
    "\n",
    "        if counter == 0:\n",
    "            X_train_single = np.zeros((initial_parameters, number_of_lambda_weights))\n",
    "            for j in range(initial_parameters):\n",
    "                target_network_parameters_mutated = copy.deepcopy(target_network_parameters)\n",
    "\n",
    "                target_network_parameters_range = (np.min(target_network_parameters), np.max(target_network_parameters))\n",
    "                target_network_parameters_differential = target_network_parameters_range[1] - target_network_parameters_range[0]\n",
    "\n",
    "                for _ in range(mutation_number):\n",
    "                    mutation_index = random.randint(0, number_of_lambda_weights-1)\n",
    "                    mutation_level = np.random.normal(loc=0.0, scale=target_network_parameters_differential)\n",
    "                    target_network_parameters_mutated[mutation_index] = target_network_parameters_mutated[mutation_index] + mutation_level\n",
    "\n",
    "                X_train_single[j] = target_network_parameters_mutated\n",
    "\n",
    "        elif counter % (increase_interval_base*mult_counter) == 0:\n",
    "            counter = 0\n",
    "            mult_counter += 1\n",
    "            X_train_single_new = np.zeros((X_train_single.shape[0]*extension_rate, number_of_lambda_weights))\n",
    "            for j1, X_train_single_entry in enumerate(X_train_single):\n",
    "                for j2 in range(extension_rate):\n",
    "                    X_train_single_entry_mutated = copy.deepcopy(X_train_single_entry)\n",
    "\n",
    "                    X_train_single_entry_range = (np.min(X_train_single_entry), np.max(X_train_single_entry))\n",
    "                    X_train_single_entry_differential = X_train_single_entry_range[1] - X_train_single_entry_range[0]\n",
    "\n",
    "                    for _ in range(mutation_number):\n",
    "                        mutation_index = random.randint(0, number_of_lambda_weights-1)\n",
    "                        mutation_level = np.random.normal(loc=0.0, scale=X_train_single_entry_differential)\n",
    "                        X_train_single_entry_mutated[mutation_index] = X_train_single_entry_mutated[mutation_index] + mutation_level\n",
    "\n",
    "                    X_train_single_new[(j2*X_train_single.shape[0])-1+j1] = X_train_single_entry_mutated                \n",
    "\n",
    "            #X_train = X_train_new\n",
    "            X_train_single_list = [X_train_single for _ in range(extension_rate)]\n",
    "            X_train_single_list.append(X_train_single_new)\n",
    "            X_train_single = np.vstack(X_train_single_list)    \n",
    "\n",
    "        y_train_single = np.array([[0 for _ in range(basic_function_representation_length)] for _ in range(X_train_single.shape[0])])\n",
    "        y_train_single_model = np.hstack((y_train_single, X_train_single))   \n",
    "        valid_data_single = (X_valid_single, np.hstack((y_valid_single, X_valid_single)))                   \n",
    "    \n",
    "    #print(X_train_single.shape)\n",
    "    #print(y_train_single_model.shape)\n",
    "    #print(valid_data_single[0].shape, valid_data_single[1].shape)\n",
    "    \n",
    "    \n",
    "    model_history = model.fit(X_train_single,\n",
    "                      y_train_single_model,\n",
    "                      epochs=1, \n",
    "                      batch_size=config['i_net']['batch_size'], \n",
    "                      validation_data=valid_data_single,\n",
    "                      callbacks=callbacks,\n",
    "                      verbose=verbosity)\n",
    "    \n",
    "    if i == 0:\n",
    "        history = model_history.history\n",
    "    else:\n",
    "        history = mergeDict(history, model_history.history)\n",
    "\n",
    "    counter += 1\n",
    "    \n",
    "    tf.keras.backend.clear_session()\n",
    "\n",
    "if nas:\n",
    "    for trial in history: \n",
    "        print(trial.summary())\n",
    "else:\n",
    "    plt.plot(history['loss'])\n",
    "    plt.plot(history['val_loss'])\n",
    "    plt.title('model loss')\n",
    "    plt.ylabel('loss')\n",
    "    plt.xlabel('epoch')\n",
    "    plt.legend(['train', 'valid'], loc='upper left')    "
   ]
  },
  {
   "cell_type": "code",
   "execution_count": null,
   "metadata": {
    "execution": {
     "iopub.status.busy": "2021-12-04T11:28:44.781304Z",
     "iopub.status.idle": "2021-12-04T11:28:44.781592Z",
     "shell.execute_reply": "2021-12-04T11:28:44.781453Z",
     "shell.execute_reply.started": "2021-12-04T11:28:44.781437Z"
    },
    "tags": []
   },
   "outputs": [],
   "source": [
    "config['data']['number_of_variables']"
   ]
  },
  {
   "cell_type": "code",
   "execution_count": null,
   "metadata": {
    "execution": {
     "iopub.status.busy": "2021-12-04T11:28:44.782569Z",
     "iopub.status.idle": "2021-12-04T11:28:44.782875Z",
     "shell.execute_reply": "2021-12-04T11:28:44.782725Z",
     "shell.execute_reply.started": "2021-12-04T11:28:44.782709Z"
    },
    "tags": []
   },
   "outputs": [],
   "source": [
    "test_network_parameters = shaped_network_parameters_to_array(test_network.get_weights(), config)\n",
    "test_network_dt_inet = model.predict(np.array([test_network_parameters]))[0]\n",
    "\n",
    "if nas:\n",
    "    test_network_dt_inet = test_network_dt_inet[:function_representation_length]\n",
    "\n",
    "X_data_random = generate_random_data_points_custom(config['data']['x_min'], \n",
    "                                                   config['data']['x_max'],\n",
    "                                                   config['evaluation']['random_evaluation_dataset_size'], \n",
    "                                                   config['data']['number_of_variables'], \n",
    "                                                   config['data']['categorical_indices'])\n",
    "#X_data_random = X_train_titanic.values#generate_random_data_points_custom(config['data']['x_min'], config['data']['x_max'], 30, config['data']['number_of_variables'])\n",
    "\n",
    "y_data_random_test_network_pred = test_network.predict(X_data_random)\n",
    "y_data_random_test_network_pred = np.round(y_data_random_test_network_pred).astype(np.int64)\n",
    "\n",
    "dt_sklearn_distilled = DecisionTreeClassifier(max_depth=config['function_family']['maximum_depth'])\n",
    "dt_sklearn_distilled.fit(X_data_random, y_data_random_test_network_pred)\n",
    "\n",
    "\n",
    "if dt_type == 'SDT':\n",
    "    y_test_inet_dt  = calculate_function_value_from_decision_tree_parameters_wrapper(X_test_titanic, config)(test_network_dt_inet).numpy()\n",
    "elif dt_type == 'vanilla':\n",
    "    y_test_inet_dt  = calculate_function_value_from_vanilla_decision_tree_parameters_wrapper(X_test_titanic, config)(test_network_dt_inet).numpy()\n",
    "y_test_distilled_sklearn_dt = dt_sklearn_distilled.predict(X_test_titanic)\n",
    "\n",
    "y_test_test_network_pred = test_network.predict(X_test_titanic)\n",
    "y_test_test_network_pred = np.round(y_test_test_network_pred)\n",
    "\n",
    "binary_crossentropy_distilled_sklearn_dt = log_loss(y_test_test_network_pred, y_test_distilled_sklearn_dt, labels=[0,1])\n",
    "accuracy_distilled_sklearn_dt = accuracy_score(y_test_test_network_pred, np.round(y_test_distilled_sklearn_dt))\n",
    "f1_score_distilled_sklearn_dt = f1_score(y_test_test_network_pred, np.round(y_test_distilled_sklearn_dt))\n",
    "\n",
    "binary_crossentropy_inet_dt = log_loss(y_test_test_network_pred, y_test_inet_dt, labels=[0,1])\n",
    "accuracy_inet_dt = accuracy_score(y_test_test_network_pred, np.round(y_test_inet_dt))\n",
    "f1_score_inet_dt = f1_score(y_test_test_network_pred, np.round(y_test_inet_dt))\n",
    "\n",
    "\n",
    "print('Binary Crossentropy:\\t\\t', np.round(binary_crossentropy_distilled_sklearn_dt, 3), '(Sklearn DT)' , '\\t', np.round(binary_crossentropy_inet_dt, 3), '(I-Net DT)')\n",
    "print('Accuracy:\\t\\t', np.round(accuracy_distilled_sklearn_dt, 3), '(Sklearn DT)' , '\\t', np.round(accuracy_inet_dt, 3), '(I-Net DT)')\n",
    "print('F1 Score:\\t\\t', np.round(f1_score_distilled_sklearn_dt, 3), '(Sklearn DT)' , '\\t', np.round(f1_score_inet_dt, 3), '(I-Net DT)')\n",
    "     \n"
   ]
  },
  {
   "cell_type": "code",
   "execution_count": null,
   "metadata": {
    "execution": {
     "iopub.status.busy": "2021-12-04T11:28:44.783880Z",
     "iopub.status.idle": "2021-12-04T11:28:44.784183Z",
     "shell.execute_reply": "2021-12-04T11:28:44.784028Z",
     "shell.execute_reply.started": "2021-12-04T11:28:44.784010Z"
    },
    "tags": []
   },
   "outputs": [],
   "source": [
    "X_data_titanic.head(5)"
   ]
  },
  {
   "cell_type": "code",
   "execution_count": null,
   "metadata": {
    "execution": {
     "iopub.status.busy": "2021-12-04T11:28:44.785334Z",
     "iopub.status.idle": "2021-12-04T11:28:44.785698Z",
     "shell.execute_reply": "2021-12-04T11:28:44.785542Z",
     "shell.execute_reply.started": "2021-12-04T11:28:44.785522Z"
    },
    "tags": []
   },
   "outputs": [],
   "source": [
    "#%autoreload 2\n",
    "image, nodes = anytree_decision_tree_from_parameters(test_network_dt_inet, config=config, normalizer_list=normalizer_list)\n",
    "image\n",
    "#tree.show()"
   ]
  },
  {
   "cell_type": "code",
   "execution_count": null,
   "metadata": {
    "execution": {
     "iopub.status.busy": "2021-12-04T11:28:44.786588Z",
     "iopub.status.idle": "2021-12-04T11:28:44.786916Z",
     "shell.execute_reply": "2021-12-04T11:28:44.786751Z",
     "shell.execute_reply.started": "2021-12-04T11:28:44.786734Z"
    },
    "tags": []
   },
   "outputs": [],
   "source": [
    "plt.figure(figsize=(24,12))  # set plot size (denoted in inches)\n",
    "plot_tree(dt_sklearn_distilled, fontsize=12)\n",
    "plt.show()"
   ]
  },
  {
   "cell_type": "code",
   "execution_count": null,
   "metadata": {
    "execution": {
     "iopub.status.busy": "2021-12-04T11:28:44.787973Z",
     "iopub.status.idle": "2021-12-04T11:28:44.788316Z",
     "shell.execute_reply": "2021-12-04T11:28:44.788151Z",
     "shell.execute_reply.started": "2021-12-04T11:28:44.788135Z"
    },
    "tags": []
   },
   "outputs": [],
   "source": [
    "y_test_test_network_pred[:50].ravel()"
   ]
  },
  {
   "cell_type": "code",
   "execution_count": null,
   "metadata": {
    "execution": {
     "iopub.status.busy": "2021-12-04T11:28:44.789081Z",
     "iopub.status.idle": "2021-12-04T11:28:44.789377Z",
     "shell.execute_reply": "2021-12-04T11:28:44.789234Z",
     "shell.execute_reply.started": "2021-12-04T11:28:44.789218Z"
    },
    "tags": []
   },
   "outputs": [],
   "source": [
    "y_test_distilled_sklearn_dt[:50].ravel()"
   ]
  },
  {
   "cell_type": "code",
   "execution_count": null,
   "metadata": {
    "execution": {
     "iopub.status.busy": "2021-12-04T11:28:44.790206Z",
     "iopub.status.idle": "2021-12-04T11:28:44.790495Z",
     "shell.execute_reply": "2021-12-04T11:28:44.790350Z",
     "shell.execute_reply.started": "2021-12-04T11:28:44.790335Z"
    },
    "tags": []
   },
   "outputs": [],
   "source": [
    "np.round(y_test_inet_dt[:50]).ravel()"
   ]
  },
  {
   "cell_type": "code",
   "execution_count": null,
   "metadata": {
    "execution": {
     "iopub.status.busy": "2021-12-04T11:28:44.791502Z",
     "iopub.status.idle": "2021-12-04T11:28:44.791808Z",
     "shell.execute_reply": "2021-12-04T11:28:44.791666Z",
     "shell.execute_reply.started": "2021-12-04T11:28:44.791650Z"
    },
    "tags": []
   },
   "outputs": [],
   "source": [
    "del model"
   ]
  },
  {
   "cell_type": "markdown",
   "metadata": {},
   "source": [
    "## Absenteeism at Work Dataset"
   ]
  },
  {
   "cell_type": "code",
   "execution_count": null,
   "metadata": {
    "execution": {
     "iopub.status.busy": "2021-12-04T11:28:44.792748Z",
     "iopub.status.idle": "2021-12-04T11:28:44.793202Z",
     "shell.execute_reply": "2021-12-04T11:28:44.793045Z",
     "shell.execute_reply.started": "2021-12-04T11:28:44.793027Z"
    },
    "tags": []
   },
   "outputs": [],
   "source": [
    "absenteeism_data = pd.read_csv('real_world_datasets/Absenteeism/absenteeism.csv', delimiter=';')\n",
    "\n",
    "absenteeism_data.head()"
   ]
  },
  {
   "cell_type": "code",
   "execution_count": null,
   "metadata": {
    "execution": {
     "iopub.status.busy": "2021-12-04T11:28:44.794094Z",
     "iopub.status.idle": "2021-12-04T11:28:44.794411Z",
     "shell.execute_reply": "2021-12-04T11:28:44.794255Z",
     "shell.execute_reply.started": "2021-12-04T11:28:44.794238Z"
    },
    "tags": []
   },
   "outputs": [],
   "source": [
    "absenteeism_data.describe()"
   ]
  },
  {
   "cell_type": "code",
   "execution_count": null,
   "metadata": {
    "execution": {
     "iopub.status.busy": "2021-12-04T11:28:44.795426Z",
     "iopub.status.idle": "2021-12-04T11:28:44.795762Z",
     "shell.execute_reply": "2021-12-04T11:28:44.795610Z",
     "shell.execute_reply.started": "2021-12-04T11:28:44.795591Z"
    },
    "tags": []
   },
   "outputs": [],
   "source": [
    "absenteeism_data.info()"
   ]
  },
  {
   "cell_type": "code",
   "execution_count": null,
   "metadata": {
    "execution": {
     "iopub.status.busy": "2021-12-04T11:28:44.796692Z",
     "iopub.status.idle": "2021-12-04T11:28:44.797024Z",
     "shell.execute_reply": "2021-12-04T11:28:44.796867Z",
     "shell.execute_reply.started": "2021-12-04T11:28:44.796850Z"
    },
    "tags": []
   },
   "outputs": [],
   "source": [
    "absenteeism_data.isnull().sum()"
   ]
  },
  {
   "cell_type": "code",
   "execution_count": null,
   "metadata": {
    "execution": {
     "iopub.status.busy": "2021-12-04T11:28:44.797820Z",
     "iopub.status.idle": "2021-12-04T11:28:44.798124Z",
     "shell.execute_reply": "2021-12-04T11:28:44.797968Z",
     "shell.execute_reply.started": "2021-12-04T11:28:44.797952Z"
    },
    "tags": []
   },
   "outputs": [],
   "source": [
    "features_select = [\n",
    "                           'Transportation expense', \n",
    "                           'Distance from Residence to Work',\n",
    "                           'Service time', \n",
    "                           'Age', \n",
    "                           'Work load Average/day ', \n",
    "                           'Hit target',\n",
    "                           'Disciplinary failure', \n",
    "                           'Education', \n",
    "                           'Son', \n",
    "                           'Social drinker',\n",
    "                           'Social smoker', \n",
    "                           #'Pet', \n",
    "                           'Weight', \n",
    "                           'Height', \n",
    "                           'Body mass index', \n",
    "                           'Absenteeism time in hours'\n",
    "                        ]\n",
    "\n",
    "absenteeism_data = absenteeism_data[features_select]\n",
    "\n",
    "categorical_features = ['Education']#[1, 2, 7]\n",
    "ordinal_features = []\n",
    "\n",
    "transformer = ColumnTransformer(transformers=[('cat', OneHotEncoder(), categorical_features)], remainder='passthrough', sparse_threshold=0)\n",
    "transformer.fit(absenteeism_data)\n",
    "\n",
    "absenteeism_data = transformer.transform(absenteeism_data)\n",
    "absenteeism_data = pd.DataFrame(absenteeism_data, columns=transformer.get_feature_names())\n",
    "\n",
    "for ordinal_feature in ordinal_features:\n",
    "    absenteeism_data[ordinal_feature] = OrdinalEncoder().fit_transform(absenteeism_data[ordinal_feature].values.reshape(-1, 1)).flatten()\n",
    "\n",
    "absenteeism_data = absenteeism_data.astype(np.float64)\n",
    "\n",
    "    \n",
    "X_data_absenteeism = absenteeism_data.drop(['Absenteeism time in hours'], axis = 1)\n",
    "y_data_absenteeism = ((absenteeism_data['Absenteeism time in hours'] > 3) * 1) #absenteeism_data['Absenteeism time in hours']\n",
    "\n",
    "print(X_data_absenteeism.shape)\n",
    "\n",
    "X_data_absenteeism.head()"
   ]
  },
  {
   "cell_type": "code",
   "execution_count": null,
   "metadata": {
    "execution": {
     "iopub.status.busy": "2021-12-04T11:28:44.799149Z",
     "iopub.status.idle": "2021-12-04T11:28:44.799448Z",
     "shell.execute_reply": "2021-12-04T11:28:44.799294Z",
     "shell.execute_reply.started": "2021-12-04T11:28:44.799278Z"
    },
    "tags": []
   },
   "outputs": [],
   "source": [
    "number_of_variables = X_data_absenteeism.shape[1]\n",
    "config['data']['number_of_variables'] = number_of_variables\n",
    "\n",
    "\n",
    "number_of_lambda_weights = get_number_of_lambda_net_parameters(lambda_network_layers, number_of_variables, num_classes)\n",
    "config['lambda_net']['number_of_lambda_weights'] = number_of_lambda_weights\n",
    "\n",
    "\n",
    "basic_function_representation_length = get_number_of_function_parameters(dt_type, maximum_depth, number_of_variables, num_classes)\n",
    "config['function_family']['basic_function_representation_length'] = basic_function_representation_length\n",
    "\n",
    "\n",
    "function_representation_length= ( \n",
    "       #((2 ** maximum_depth - 1) * decision_sparsity) * 2 + (2 ** maximum_depth - 1) + (2 ** maximum_depth) * num_classes  if function_representation_type == 1 and dt_type == 'SDT'\n",
    "       (2 ** maximum_depth - 1) * (number_of_variables + 1) + (2 ** maximum_depth) * number_of_classes if function_representation_type == 1 and dt_type == 'SDT'\n",
    "  else (2 ** maximum_depth - 1) * decision_sparsity + (2 ** maximum_depth - 1) + ((2 ** maximum_depth - 1)  * decision_sparsity * number_of_variables) + (2 ** maximum_depth) * num_classes if function_representation_type == 2 and dt_type == 'SDT'\n",
    "  else ((2 ** maximum_depth - 1) * decision_sparsity) * 2 + (2 ** maximum_depth)  if function_representation_type == 1 and dt_type == 'vanilla'\n",
    "  else (2 ** maximum_depth - 1) * decision_sparsity + ((2 ** maximum_depth - 1)  * decision_sparsity * number_of_variables) + (2 ** maximum_depth) if function_representation_type == 2 and dt_type == 'vanilla'\n",
    "  else None\n",
    "                                                            )\n",
    "config['function_family']['function_representation_length'] = function_representation_length"
   ]
  },
  {
   "cell_type": "code",
   "execution_count": null,
   "metadata": {
    "execution": {
     "iopub.status.busy": "2021-12-04T11:28:44.800311Z",
     "iopub.status.idle": "2021-12-04T11:28:44.800606Z",
     "shell.execute_reply": "2021-12-04T11:28:44.800460Z",
     "shell.execute_reply.started": "2021-12-04T11:28:44.800443Z"
    },
    "tags": []
   },
   "outputs": [],
   "source": [
    "categorical_indices = []\n",
    "\n",
    "for i, (column_name, column) in enumerate(X_data_absenteeism.iteritems()):\n",
    "    if len(column.value_counts()) == 2:\n",
    "        categorical_indices.append(i)\n",
    "print(categorical_indices)\n",
    "\n",
    "config['data']['categorical_indices'] = categorical_indices"
   ]
  },
  {
   "cell_type": "code",
   "execution_count": null,
   "metadata": {
    "execution": {
     "iopub.status.busy": "2021-12-04T11:28:44.801524Z",
     "iopub.status.idle": "2021-12-04T11:28:44.801819Z",
     "shell.execute_reply": "2021-12-04T11:28:44.801675Z",
     "shell.execute_reply.started": "2021-12-04T11:28:44.801658Z"
    },
    "tags": []
   },
   "outputs": [],
   "source": [
    "normalizer_list = []\n",
    "for column_name in X_data_absenteeism:\n",
    "    scaler = MinMaxScaler()\n",
    "    scaler.fit(X_data_absenteeism[column_name].values.reshape(-1, 1))\n",
    "    X_data_absenteeism[column_name] = scaler.transform(X_data_absenteeism[column_name].values.reshape(-1, 1)).ravel()\n",
    "    normalizer_list.append(scaler)\n",
    "X_data_absenteeism.head()"
   ]
  },
  {
   "cell_type": "code",
   "execution_count": null,
   "metadata": {
    "execution": {
     "iopub.status.busy": "2021-12-04T11:28:44.802752Z",
     "iopub.status.idle": "2021-12-04T11:28:44.803182Z",
     "shell.execute_reply": "2021-12-04T11:28:44.802905Z",
     "shell.execute_reply.started": "2021-12-04T11:28:44.802887Z"
    },
    "tags": []
   },
   "outputs": [],
   "source": [
    "y_data_absenteeism"
   ]
  },
  {
   "cell_type": "code",
   "execution_count": null,
   "metadata": {
    "execution": {
     "iopub.status.busy": "2021-12-04T11:28:44.804214Z",
     "iopub.status.idle": "2021-12-04T11:28:44.804527Z",
     "shell.execute_reply": "2021-12-04T11:28:44.804372Z",
     "shell.execute_reply.started": "2021-12-04T11:28:44.804355Z"
    },
    "tags": []
   },
   "outputs": [],
   "source": [
    "true_labels = len(y_data_absenteeism[y_data_absenteeism >= 0.5 ]) \n",
    "false_labels = len(y_data_absenteeism[y_data_absenteeism < 0.5 ]) \n",
    "\n",
    "true_ratio = true_labels/(true_labels+false_labels)\n",
    "\n",
    "print('True Ratio: ', str(true_ratio))"
   ]
  },
  {
   "cell_type": "code",
   "execution_count": null,
   "metadata": {
    "execution": {
     "iopub.status.busy": "2021-12-04T11:28:44.805500Z",
     "iopub.status.idle": "2021-12-04T11:28:44.805816Z",
     "shell.execute_reply": "2021-12-04T11:28:44.805666Z",
     "shell.execute_reply.started": "2021-12-04T11:28:44.805648Z"
    },
    "tags": []
   },
   "outputs": [],
   "source": [
    "if true_ratio <= 0.4 or true_ratio >= 0.6:\n",
    "    from imblearn.over_sampling import RandomOverSampler \n",
    "\n",
    "    oversample = RandomOverSampler(sampling_strategy='minority')\n",
    "\n",
    "    X_data_absenteeism, y_data_absenteeism = oversample.fit_resample(X_data_absenteeism, y_data_absenteeism)\n",
    "\n",
    "    true_labels = len(y_data_absenteeism[y_data_absenteeism >= 0.5 ]) \n",
    "    false_labels = len(y_data_absenteeism[y_data_absenteeism < 0.5 ]) \n",
    "\n",
    "    print('True Ratio: ', str(true_labels/(true_labels+false_labels)))"
   ]
  },
  {
   "cell_type": "code",
   "execution_count": null,
   "metadata": {
    "execution": {
     "iopub.status.busy": "2021-12-04T11:28:44.806718Z",
     "iopub.status.idle": "2021-12-04T11:28:44.807029Z",
     "shell.execute_reply": "2021-12-04T11:28:44.806883Z",
     "shell.execute_reply.started": "2021-12-04T11:28:44.806865Z"
    },
    "tags": []
   },
   "outputs": [],
   "source": [
    "X_train_absenteeism_with_valid, X_test_absenteeism, y_train_absenteeism_with_valid, y_test_absenteeism = train_test_split(X_data_absenteeism, y_data_absenteeism, train_size=0.8)\n",
    "X_train_absenteeism, X_valid_absenteeism, y_train_absenteeism, y_valid_absenteeism = train_test_split(X_train_absenteeism_with_valid, y_train_absenteeism_with_valid, train_size=0.8)\n",
    "\n",
    "print(X_train_absenteeism.shape, y_train_absenteeism.shape)\n",
    "print(X_valid_absenteeism.shape, y_valid_absenteeism.shape)\n",
    "print(X_test_absenteeism.shape, y_test_absenteeism.shape)"
   ]
  },
  {
   "cell_type": "code",
   "execution_count": null,
   "metadata": {
    "execution": {
     "iopub.status.busy": "2021-12-04T11:28:44.807954Z",
     "iopub.status.idle": "2021-12-04T11:28:44.808259Z",
     "shell.execute_reply": "2021-12-04T11:28:44.808111Z",
     "shell.execute_reply.started": "2021-12-04T11:28:44.808094Z"
    },
    "tags": []
   },
   "outputs": [],
   "source": [
    "test_network = generate_lambda_net_from_config(config)\n",
    "\n",
    "early_stopping = tf.keras.callbacks.EarlyStopping(monitor='val_loss', \n",
    "                                                  patience=50, \n",
    "                                                  min_delta=0.001, \n",
    "                                                  verbose=0, \n",
    "                                                  mode='min', \n",
    "                                                  restore_best_weights=True)\n",
    "\n",
    "model_history = test_network.fit(X_train_absenteeism,\n",
    "                                  y_train_absenteeism, \n",
    "                                  epochs=config['lambda_net']['epochs_lambda'], \n",
    "                                  batch_size=config['lambda_net']['batch_lambda'], \n",
    "                                  callbacks=[early_stopping, PlotLossesKerasTF()],\n",
    "                                  validation_data=(X_valid_absenteeism, y_valid_absenteeism),\n",
    "                                  verbose=0)\n",
    "\n"
   ]
  },
  {
   "cell_type": "code",
   "execution_count": null,
   "metadata": {
    "execution": {
     "iopub.status.busy": "2021-12-04T11:28:44.809439Z",
     "iopub.status.idle": "2021-12-04T11:28:44.809753Z",
     "shell.execute_reply": "2021-12-04T11:28:44.809602Z",
     "shell.execute_reply.started": "2021-12-04T11:28:44.809582Z"
    },
    "tags": []
   },
   "outputs": [],
   "source": [
    "test_network.summary()"
   ]
  },
  {
   "cell_type": "code",
   "execution_count": null,
   "metadata": {},
   "outputs": [],
   "source": []
  },
  {
   "cell_type": "code",
   "execution_count": null,
   "metadata": {
    "execution": {
     "iopub.status.busy": "2021-12-04T11:28:44.810721Z",
     "iopub.status.idle": "2021-12-04T11:28:44.811029Z",
     "shell.execute_reply": "2021-12-04T11:28:44.810881Z",
     "shell.execute_reply.started": "2021-12-04T11:28:44.810864Z"
    },
    "tags": []
   },
   "outputs": [],
   "source": [
    "model = generate_inet(config, X_train_absenteeism)\n",
    "\n",
    "target_network_parameters = shaped_network_parameters_to_array(test_network.get_weights(), config)\n",
    "\n",
    "callback_names = []\n",
    "if config['i_net']['early_stopping']:\n",
    "    callback_names.append('early_stopping')\n",
    "\n",
    "callbacks = return_callbacks_from_string(callback_names)  \n",
    "\n",
    "verbosity = 1\n",
    "\n",
    "#%autoreload 2\n",
    "############################## PREDICTION ###############################\n",
    "X_valid_single = np.array([target_network_parameters])\n",
    "X_train_single = None\n",
    "\n",
    "\n",
    "y_valid_single = np.array([[0 for _ in range(basic_function_representation_length)]])\n",
    "y_train_model_single = None#y_train[[index]].shape\n",
    "\n",
    "mult_counter = 1\n",
    "counter = 0\n",
    "for i in range(epochs):\n",
    "    print('Epoch ' + str(i).zfill(3) + '/' + str(epochs).zfill(3))\n",
    "    if i < (epochs-50): #last 50 epochs without change in dataset\n",
    "\n",
    "        if counter == 0:\n",
    "            X_train_single = np.zeros((initial_parameters, number_of_lambda_weights))\n",
    "            for j in range(initial_parameters):\n",
    "                target_network_parameters_mutated = copy.deepcopy(target_network_parameters)\n",
    "\n",
    "                target_network_parameters_range = (np.min(target_network_parameters), np.max(target_network_parameters))\n",
    "                target_network_parameters_differential = target_network_parameters_range[1] - target_network_parameters_range[0]\n",
    "\n",
    "                for _ in range(mutation_number):\n",
    "                    mutation_index = random.randint(0, number_of_lambda_weights-1)\n",
    "                    mutation_level = np.random.normal(loc=0.0, scale=target_network_parameters_differential)\n",
    "                    target_network_parameters_mutated[mutation_index] = target_network_parameters_mutated[mutation_index] + mutation_level\n",
    "\n",
    "                X_train_single[j] = target_network_parameters_mutated\n",
    "\n",
    "        elif counter % (increase_interval_base*mult_counter) == 0:\n",
    "            counter = 0\n",
    "            mult_counter += 1\n",
    "            X_train_single_new = np.zeros((X_train_single.shape[0]*extension_rate, number_of_lambda_weights))\n",
    "            for j1, X_train_single_entry in enumerate(X_train_single):\n",
    "                for j2 in range(extension_rate):\n",
    "                    X_train_single_entry_mutated = copy.deepcopy(X_train_single_entry)\n",
    "\n",
    "                    X_train_single_entry_range = (np.min(X_train_single_entry), np.max(X_train_single_entry))\n",
    "                    X_train_single_entry_differential = X_train_single_entry_range[1] - X_train_single_entry_range[0]\n",
    "\n",
    "                    for _ in range(mutation_number):\n",
    "                        mutation_index = random.randint(0, number_of_lambda_weights-1)\n",
    "                        mutation_level = np.random.normal(loc=0.0, scale=X_train_single_entry_differential)\n",
    "                        X_train_single_entry_mutated[mutation_index] = X_train_single_entry_mutated[mutation_index] + mutation_level\n",
    "\n",
    "                    X_train_single_new[(j2*X_train_single.shape[0])-1+j1] = X_train_single_entry_mutated                \n",
    "\n",
    "            #X_train = X_train_new\n",
    "            X_train_single_list = [X_train_single for _ in range(extension_rate)]\n",
    "            X_train_single_list.append(X_train_single_new)\n",
    "            X_train_single = np.vstack(X_train_single_list)    \n",
    "\n",
    "        y_train_single = np.array([[0 for _ in range(basic_function_representation_length)] for _ in range(X_train_single.shape[0])])\n",
    "        y_train_single_model = np.hstack((y_train_single, X_train_single))   \n",
    "        valid_data_single = (X_valid_single, np.hstack((y_valid_single, X_valid_single)))                   \n",
    "    \n",
    "    #print(X_train_single.shape)\n",
    "    #print(y_train_single_model.shape)\n",
    "    #print(valid_data_single[0].shape, valid_data_single[1].shape)\n",
    "    \n",
    "    \n",
    "    model_history = model.fit(X_train_single,\n",
    "                      y_train_single_model,\n",
    "                      epochs=1, \n",
    "                      batch_size=config['i_net']['batch_size'], \n",
    "                      validation_data=valid_data_single,\n",
    "                      callbacks=callbacks,\n",
    "                      verbose=verbosity)\n",
    "    \n",
    "    if i == 0:\n",
    "        history = model_history.history\n",
    "    else:\n",
    "        history = mergeDict(history, model_history.history)\n",
    "\n",
    "    counter += 1\n",
    "    \n",
    "    tf.keras.backend.clear_session()\n",
    "\n",
    "if nas:\n",
    "    for trial in history: \n",
    "        print(trial.summary())\n",
    "else:\n",
    "    plt.plot(history['loss'])\n",
    "    plt.plot(history['val_loss'])\n",
    "    plt.title('model loss')\n",
    "    plt.ylabel('loss')\n",
    "    plt.xlabel('epoch')\n",
    "    plt.legend(['train', 'valid'], loc='upper left')    "
   ]
  },
  {
   "cell_type": "code",
   "execution_count": null,
   "metadata": {},
   "outputs": [],
   "source": []
  },
  {
   "cell_type": "code",
   "execution_count": null,
   "metadata": {
    "execution": {
     "iopub.status.busy": "2021-12-04T11:28:44.812087Z",
     "iopub.status.idle": "2021-12-04T11:28:44.812487Z",
     "shell.execute_reply": "2021-12-04T11:28:44.812336Z",
     "shell.execute_reply.started": "2021-12-04T11:28:44.812318Z"
    },
    "tags": []
   },
   "outputs": [],
   "source": [
    "test_network_parameters = shaped_network_parameters_to_array(test_network.get_weights(), config)\n",
    "test_network_dt_inet = model.predict(np.array([test_network_parameters]))[0]\n",
    "\n",
    "if nas:\n",
    "    test_network_dt_inet = test_network_dt_inet[:function_representation_length]\n",
    "\n",
    "X_data_random = generate_random_data_points_custom(config['data']['x_min'], \n",
    "                                                   config['data']['x_max'],\n",
    "                                                   config['evaluation']['random_evaluation_dataset_size'], \n",
    "                                                   config['data']['number_of_variables'], \n",
    "                                                   config['data']['categorical_indices'])\n",
    "\n",
    "#X_data_random = X_train_absenteeism.values\n",
    "\n",
    "y_data_random_test_network_pred = test_network.predict(X_data_random)\n",
    "y_data_random_test_network_pred = np.round(y_data_random_test_network_pred).astype(np.int64)\n",
    "\n",
    "dt_sklearn_distilled = DecisionTreeClassifier(max_depth=config['function_family']['maximum_depth'])\n",
    "dt_sklearn_distilled.fit(X_data_random, y_data_random_test_network_pred)\n",
    "\n",
    "\n",
    "if dt_type == 'SDT':\n",
    "    y_test_inet_dt  = calculate_function_value_from_decision_tree_parameters_wrapper(X_test_absenteeism, config)(test_network_dt_inet).numpy()\n",
    "elif dt_type == 'vanilla':\n",
    "    y_test_inet_dt  = calculate_function_value_from_vanilla_decision_tree_parameters_wrapper(X_test_absenteeism, config)(test_network_dt_inet).numpy()\n",
    "y_test_distilled_sklearn_dt = dt_sklearn_distilled.predict(X_test_absenteeism)\n",
    "\n",
    "y_test_test_network_pred = test_network.predict(X_test_absenteeism)\n",
    "y_test_test_network_pred = np.round(y_test_test_network_pred)\n",
    "\n",
    "binary_crossentropy_distilled_sklearn_dt = log_loss(y_test_test_network_pred, y_test_distilled_sklearn_dt, labels=[0,1])\n",
    "accuracy_distilled_sklearn_dt = accuracy_score(y_test_test_network_pred, np.round(y_test_distilled_sklearn_dt))\n",
    "f1_score_distilled_sklearn_dt = f1_score(y_test_test_network_pred, np.round(y_test_distilled_sklearn_dt))\n",
    "\n",
    "binary_crossentropy_inet_dt = log_loss(y_test_test_network_pred, y_test_inet_dt, labels=[0,1])\n",
    "accuracy_inet_dt = accuracy_score(y_test_test_network_pred, np.round(y_test_inet_dt))\n",
    "f1_score_inet_dt = f1_score(y_test_test_network_pred, np.round(y_test_inet_dt))\n",
    "\n",
    "\n",
    "print('Binary Crossentropy:\\t\\t', np.round(binary_crossentropy_distilled_sklearn_dt, 3), '(Sklearn DT)' , '\\t', np.round(binary_crossentropy_inet_dt, 3), '(I-Net DT)')\n",
    "print('Accuracy:\\t\\t', np.round(accuracy_distilled_sklearn_dt, 3), '(Sklearn DT)' , '\\t', np.round(accuracy_inet_dt, 3), '(I-Net DT)')\n",
    "print('F1 Score:\\t\\t', np.round(f1_score_distilled_sklearn_dt, 3), '(Sklearn DT)' , '\\t', np.round(f1_score_inet_dt, 3), '(I-Net DT)')\n",
    "     \n"
   ]
  },
  {
   "cell_type": "code",
   "execution_count": null,
   "metadata": {
    "execution": {
     "iopub.status.busy": "2021-12-04T11:28:44.813572Z",
     "iopub.status.idle": "2021-12-04T11:28:44.813979Z",
     "shell.execute_reply": "2021-12-04T11:28:44.813823Z",
     "shell.execute_reply.started": "2021-12-04T11:28:44.813802Z"
    },
    "tags": []
   },
   "outputs": [],
   "source": [
    "X_data_absenteeism.head(5)"
   ]
  },
  {
   "cell_type": "code",
   "execution_count": null,
   "metadata": {
    "execution": {
     "iopub.status.busy": "2021-12-04T11:28:44.814990Z",
     "iopub.status.idle": "2021-12-04T11:28:44.815403Z",
     "shell.execute_reply": "2021-12-04T11:28:44.815233Z",
     "shell.execute_reply.started": "2021-12-04T11:28:44.815213Z"
    },
    "tags": []
   },
   "outputs": [],
   "source": [
    "test_network_dt_inet"
   ]
  },
  {
   "cell_type": "code",
   "execution_count": null,
   "metadata": {
    "execution": {
     "iopub.status.busy": "2021-12-04T11:28:44.816524Z",
     "iopub.status.idle": "2021-12-04T11:28:44.816897Z",
     "shell.execute_reply": "2021-12-04T11:28:44.816740Z",
     "shell.execute_reply.started": "2021-12-04T11:28:44.816722Z"
    },
    "tags": []
   },
   "outputs": [],
   "source": [
    "get_shaped_parameters_for_decision_tree(test_network_dt_inet, config)"
   ]
  },
  {
   "cell_type": "code",
   "execution_count": null,
   "metadata": {
    "execution": {
     "iopub.status.busy": "2021-12-04T11:28:44.817816Z",
     "iopub.status.idle": "2021-12-04T11:28:44.818207Z",
     "shell.execute_reply": "2021-12-04T11:28:44.818031Z",
     "shell.execute_reply.started": "2021-12-04T11:28:44.818014Z"
    }
   },
   "outputs": [],
   "source": [
    "get_shaped_parameters_for_decision_tree(test_network_dt_inet, config)"
   ]
  },
  {
   "cell_type": "code",
   "execution_count": null,
   "metadata": {
    "execution": {
     "iopub.status.busy": "2021-12-04T11:28:44.819161Z",
     "iopub.status.idle": "2021-12-04T11:28:44.819520Z",
     "shell.execute_reply": "2021-12-04T11:28:44.819369Z",
     "shell.execute_reply.started": "2021-12-04T11:28:44.819351Z"
    },
    "tags": []
   },
   "outputs": [],
   "source": [
    "#%autoreload 2\n",
    "image, nodes = anytree_decision_tree_from_parameters(test_network_dt_inet, config=config, normalizer_list=normalizer_list)\n",
    "image\n",
    "#tree.show()"
   ]
  },
  {
   "cell_type": "code",
   "execution_count": null,
   "metadata": {
    "execution": {
     "iopub.status.busy": "2021-12-04T11:28:44.820759Z",
     "iopub.status.idle": "2021-12-04T11:28:44.821179Z",
     "shell.execute_reply": "2021-12-04T11:28:44.821009Z",
     "shell.execute_reply.started": "2021-12-04T11:28:44.820990Z"
    },
    "tags": []
   },
   "outputs": [],
   "source": [
    "#%autoreload 2\n",
    "image, nodes = anytree_decision_tree_from_parameters(test_network_dt_inet, config=config)\n",
    "image\n",
    "#tree.show()"
   ]
  },
  {
   "cell_type": "code",
   "execution_count": null,
   "metadata": {
    "execution": {
     "iopub.status.busy": "2021-12-04T11:28:44.822299Z",
     "iopub.status.idle": "2021-12-04T11:28:44.822732Z",
     "shell.execute_reply": "2021-12-04T11:28:44.822561Z",
     "shell.execute_reply.started": "2021-12-04T11:28:44.822543Z"
    },
    "tags": []
   },
   "outputs": [],
   "source": [
    "plt.figure(figsize=(24,12))  # set plot size (denoted in inches)\n",
    "plot_tree(dt_sklearn_distilled, fontsize=12)\n",
    "plt.show()"
   ]
  },
  {
   "cell_type": "code",
   "execution_count": null,
   "metadata": {
    "execution": {
     "iopub.status.busy": "2021-12-04T11:28:44.823846Z",
     "iopub.status.idle": "2021-12-04T11:28:44.824212Z",
     "shell.execute_reply": "2021-12-04T11:28:44.824057Z",
     "shell.execute_reply.started": "2021-12-04T11:28:44.824040Z"
    },
    "tags": []
   },
   "outputs": [],
   "source": [
    "y_test_test_network_pred[:50].ravel()"
   ]
  },
  {
   "cell_type": "code",
   "execution_count": null,
   "metadata": {
    "execution": {
     "iopub.status.busy": "2021-12-04T11:28:44.825189Z",
     "iopub.status.idle": "2021-12-04T11:28:44.825560Z",
     "shell.execute_reply": "2021-12-04T11:28:44.825411Z",
     "shell.execute_reply.started": "2021-12-04T11:28:44.825393Z"
    },
    "tags": []
   },
   "outputs": [],
   "source": [
    "y_test_distilled_sklearn_dt[:50].ravel()"
   ]
  },
  {
   "cell_type": "code",
   "execution_count": null,
   "metadata": {
    "execution": {
     "iopub.status.busy": "2021-12-04T11:28:44.826541Z",
     "iopub.status.idle": "2021-12-04T11:28:44.826913Z",
     "shell.execute_reply": "2021-12-04T11:28:44.826752Z",
     "shell.execute_reply.started": "2021-12-04T11:28:44.826734Z"
    },
    "tags": []
   },
   "outputs": [],
   "source": [
    "np.round(y_test_inet_dt[:50]).ravel()"
   ]
  },
  {
   "cell_type": "code",
   "execution_count": null,
   "metadata": {
    "execution": {
     "iopub.status.busy": "2021-12-04T11:28:44.827882Z",
     "iopub.status.idle": "2021-12-04T11:28:44.828273Z",
     "shell.execute_reply": "2021-12-04T11:28:44.828124Z",
     "shell.execute_reply.started": "2021-12-04T11:28:44.828106Z"
    },
    "tags": []
   },
   "outputs": [],
   "source": [
    "del model"
   ]
  },
  {
   "cell_type": "code",
   "execution_count": null,
   "metadata": {
    "execution": {
     "iopub.status.busy": "2021-12-04T11:28:44.829269Z",
     "iopub.status.idle": "2021-12-04T11:28:44.829749Z",
     "shell.execute_reply": "2021-12-04T11:28:44.829599Z",
     "shell.execute_reply.started": "2021-12-04T11:28:44.829582Z"
    },
    "tags": []
   },
   "outputs": [],
   "source": [
    "print('DONE')"
   ]
  },
  {
   "cell_type": "markdown",
   "metadata": {},
   "source": [
    "## NEXT DATASET"
   ]
  },
  {
   "cell_type": "code",
   "execution_count": null,
   "metadata": {
    "execution": {
     "iopub.status.busy": "2021-12-04T11:28:44.830579Z",
     "iopub.status.idle": "2021-12-04T11:28:44.830936Z",
     "shell.execute_reply": "2021-12-04T11:28:44.830788Z",
     "shell.execute_reply.started": "2021-12-04T11:28:44.830770Z"
    },
    "tags": []
   },
   "outputs": [],
   "source": [
    "if use_gpu:\n",
    "    from numba import cuda \n",
    "    device = cuda.get_current_device()\n",
    "    device.reset()"
   ]
  },
  {
   "cell_type": "code",
   "execution_count": null,
   "metadata": {},
   "outputs": [],
   "source": []
  },
  {
   "cell_type": "code",
   "execution_count": null,
   "metadata": {},
   "outputs": [],
   "source": []
  },
  {
   "cell_type": "code",
   "execution_count": null,
   "metadata": {},
   "outputs": [],
   "source": []
  },
  {
   "cell_type": "code",
   "execution_count": null,
   "metadata": {},
   "outputs": [],
   "source": []
  },
  {
   "cell_type": "code",
   "execution_count": null,
   "metadata": {},
   "outputs": [],
   "source": []
  },
  {
   "cell_type": "code",
   "execution_count": null,
   "metadata": {},
   "outputs": [],
   "source": []
  }
 ],
 "metadata": {
  "kernelspec": {
   "display_name": "Python 3 (ipykernel)",
   "language": "python",
   "name": "python3"
  },
  "language_info": {
   "codemirror_mode": {
    "name": "ipython",
    "version": 3
   },
   "file_extension": ".py",
   "mimetype": "text/x-python",
   "name": "python",
   "nbconvert_exporter": "python",
   "pygments_lexer": "ipython3",
   "version": "3.8.0"
  }
 },
 "nbformat": 4,
 "nbformat_minor": 4
}
