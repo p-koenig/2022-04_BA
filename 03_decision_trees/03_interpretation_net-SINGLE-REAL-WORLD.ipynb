{
 "cells": [
  {
   "cell_type": "markdown",
   "metadata": {},
   "source": [
    "# Inerpretation-Net Training"
   ]
  },
  {
   "cell_type": "markdown",
   "metadata": {},
   "source": [
    "## Specitication of Experiment Settings"
   ]
  },
  {
   "cell_type": "code",
   "execution_count": 1,
   "metadata": {
    "execution": {
     "iopub.execute_input": "2021-11-30T13:18:28.222699Z",
     "iopub.status.busy": "2021-11-30T13:18:28.221859Z",
     "iopub.status.idle": "2021-11-30T13:18:28.247677Z",
     "shell.execute_reply": "2021-11-30T13:18:28.246869Z",
     "shell.execute_reply.started": "2021-11-30T13:18:28.222403Z"
    },
    "tags": []
   },
   "outputs": [],
   "source": [
    "#######################################################################################################################################\n",
    "###################################################### CONFIG FILE ####################################################################\n",
    "#######################################################################################################################################\n",
    "sleep_time = 0 #minutes\n",
    "\n",
    "\n",
    "\n",
    "config = {\n",
    "    'function_family': {\n",
    "        'maximum_depth': 3,\n",
    "        'beta': 1,\n",
    "        'decision_sparsity': 1,\n",
    "        'fully_grown': True,    \n",
    "        'dt_type': 'vanilla', #'vanilla', 'SDT'\n",
    "    },\n",
    "    'data': {\n",
    "        'number_of_variables': 10, \n",
    "        'num_classes': 2,\n",
    "        'categorical_indices': [0,1,2],\n",
    "        \n",
    "        'function_generation_type': 'make_classification',# 'make_classification', 'make_classification_trained', 'random_decision_tree', 'random_decision_tree_trained'\n",
    "        'objective': 'classification', # 'regression'\n",
    "        \n",
    "        'x_max': 1,\n",
    "        'x_min': 0,\n",
    "        'x_distrib': 'uniform', #'normal', 'uniform',       \n",
    "                \n",
    "        'lambda_dataset_size': 5000, #number of samples per function\n",
    "        #'number_of_generated_datasets': 10000,\n",
    "        \n",
    "        'noise_injected_level': 0, \n",
    "        'noise_injected_type': 'flip_percentage', # '' 'normal' 'uniform' 'normal_range' 'uniform_range'\n",
    "    }, \n",
    "    'lambda_net': {\n",
    "        'epochs_lambda': 1000,\n",
    "        'early_stopping_lambda': True, \n",
    "        'early_stopping_min_delta_lambda': 1e-2,\n",
    "        'batch_lambda': 64,\n",
    "        'dropout_lambda': 0,\n",
    "        'lambda_network_layers': [128],\n",
    "        'optimizer_lambda': 'adam',\n",
    "        'loss_lambda': 'binary_crossentropy', #categorical_crossentropy\n",
    "        \n",
    "        'number_of_lambda_weights': None,\n",
    "        \n",
    "        'number_initializations_lambda': 1, \n",
    "        \n",
    "        'number_of_trained_lambda_nets': 100,\n",
    "    },     \n",
    "    \n",
    "    'i_net': {\n",
    "        'dense_layers': [2048, 1024, 512],\n",
    "        'convolution_layers': None,\n",
    "        'lstm_layers': None,\n",
    "        'dropout': [0.2, 0.2, 0],\n",
    "        \n",
    "        'optimizer': 'adam', #adam\n",
    "        'learning_rate': 0.001,\n",
    "        'loss': 'binary_crossentropy', #binary_crossentropy\n",
    "        'metrics': ['mse', 'binary_accuracy'],\n",
    "        \n",
    "        'epochs': 250, \n",
    "        'early_stopping': False,\n",
    "        'batch_size': 256,\n",
    "\n",
    "        'interpretation_dataset_size': 100,\n",
    "                \n",
    "        'test_size': 2, #Float for fraction, Int for number 0\n",
    "        \n",
    "        'function_representation_type': 1, # 1=standard representation; 2=sparse representation with classification for variables\n",
    "        'normalize_lambda_nets': False,\n",
    "\n",
    "        'optimize_decision_function': True, #False\n",
    "        'function_value_loss': True, #False\n",
    "        'soft_labels': False,\n",
    "                      \n",
    "        'data_reshape_version': None, #default to 2 options:(None, 0,1 2)\n",
    "        \n",
    "        'nas': False,\n",
    "        'nas_type': 'SEQUENTIAL', #options:(None, 'SEQUENTIAL', 'CNN', 'LSTM', 'CNN-LSTM', 'CNN-LSTM-parallel')      \n",
    "        'nas_trials': 50,\n",
    "    },    \n",
    "    \n",
    "    'evaluation': {   \n",
    "        #'inet_holdout_seed_evaluation': False,\n",
    "            \n",
    "        'random_evaluation_dataset_size': 500, \n",
    "        'per_network_optimization_dataset_size': 5000,\n",
    "\n",
    "        'sklearn_dt_benchmark': False,\n",
    "        'sdt_benchmark': False,\n",
    "        \n",
    "        'different_eval_data': False,\n",
    "        \n",
    "        'eval_data_description': {\n",
    "            ######### data #########\n",
    "            'eval_data_function_generation_type': 'make_classification',\n",
    "            'eval_data_lambda_dataset_size': 5000, #number of samples per function\n",
    "            'eval_data_noise_injected_level': 0, \n",
    "            'eval_data_noise_injected_type': 'flip_percentage', # '' 'normal' 'uniform' 'normal_range' 'uniform_range'     \n",
    "            ######### lambda_net #########\n",
    "            'eval_data_number_of_trained_lambda_nets': 100,\n",
    "            ######### i_net #########\n",
    "            'eval_data_interpretation_dataset_size': 100,\n",
    "            \n",
    "        }\n",
    "        \n",
    "    },    \n",
    "    \n",
    "    'computation':{\n",
    "        'load_model': False,\n",
    "        'n_jobs': 10,\n",
    "        'use_gpu': True,\n",
    "        'gpu_numbers': '2',\n",
    "        'RANDOM_SEED': 42,   \n",
    "    }\n",
    "}\n"
   ]
  },
  {
   "cell_type": "markdown",
   "metadata": {},
   "source": [
    "## Imports"
   ]
  },
  {
   "cell_type": "code",
   "execution_count": 2,
   "metadata": {
    "execution": {
     "iopub.execute_input": "2021-11-30T13:18:28.249260Z",
     "iopub.status.busy": "2021-11-30T13:18:28.248931Z",
     "iopub.status.idle": "2021-11-30T13:18:28.254122Z",
     "shell.execute_reply": "2021-11-30T13:18:28.253567Z",
     "shell.execute_reply.started": "2021-11-30T13:18:28.249220Z"
    },
    "tags": []
   },
   "outputs": [],
   "source": [
    "#######################################################################################################################################\n",
    "########################################### IMPORT GLOBAL VARIABLES FROM CONFIG #######################################################\n",
    "#######################################################################################################################################\n",
    "globals().update(config['function_family'])\n",
    "globals().update(config['data'])\n",
    "globals().update(config['lambda_net'])\n",
    "globals().update(config['i_net'])\n",
    "globals().update(config['evaluation'])\n",
    "globals().update(config['computation'])"
   ]
  },
  {
   "cell_type": "code",
   "execution_count": 3,
   "metadata": {
    "ExecuteTime": {
     "end_time": "2021-01-08T11:56:36.233201Z",
     "start_time": "2021-01-08T11:56:36.208062Z"
    },
    "execution": {
     "iopub.execute_input": "2021-11-30T13:18:28.255230Z",
     "iopub.status.busy": "2021-11-30T13:18:28.255016Z",
     "iopub.status.idle": "2021-11-30T13:18:32.664331Z",
     "shell.execute_reply": "2021-11-30T13:18:32.663180Z",
     "shell.execute_reply.started": "2021-11-30T13:18:28.255206Z"
    },
    "tags": []
   },
   "outputs": [],
   "source": [
    "#######################################################################################################################################\n",
    "##################################################### IMPORT LIBRARIES ################################################################\n",
    "#######################################################################################################################################\n",
    "import warnings\n",
    "warnings.filterwarnings('ignore')\n",
    "import os\n",
    "os.environ['TF_CPP_MIN_LOG_LEVEL'] = '3' \n",
    "import logging\n",
    "\n",
    "import tensorflow as tf\n",
    "tf.get_logger().setLevel('ERROR')\n",
    "tf.autograph.set_verbosity(3)\n",
    "\n",
    "\n",
    "from itertools import product       \n",
    "from tqdm.notebook import tqdm\n",
    "import pickle\n",
    "import numpy as np\n",
    "import pandas as pd\n",
    "import scipy as sp\n",
    "import timeit\n",
    "import psutil\n",
    "\n",
    "from functools import reduce\n",
    "from more_itertools import random_product \n",
    "from sklearn.preprocessing import Normalizer\n",
    "\n",
    "import sys\n",
    "import shutil\n",
    "\n",
    "from copy import deepcopy\n",
    "import math\n",
    "import random \n",
    "\n",
    "\n",
    "import time\n",
    "from datetime import datetime\n",
    "from collections.abc import Iterable\n",
    "\n",
    "\n",
    "from joblib import Parallel, delayed\n",
    "\n",
    "from scipy.integrate import quad\n",
    "\n",
    "from sklearn.model_selection import cross_val_score, train_test_split, StratifiedKFold, KFold, ParameterGrid, ParameterSampler\n",
    "from sklearn.metrics import accuracy_score, log_loss, roc_auc_score, f1_score, mean_absolute_error, r2_score, log_loss\n",
    "from sklearn.tree import DecisionTreeClassifier, plot_tree\n",
    "from sklearn.compose import ColumnTransformer\n",
    "from sklearn.preprocessing import OneHotEncoder, MinMaxScaler, LabelEncoder, OrdinalEncoder\n",
    "\n",
    "#import keras\n",
    "from tensorflow.keras import Sequential\n",
    "from tensorflow.keras.layers import Dense, Dropout\n",
    "from tensorflow.keras.utils import plot_model\n",
    "from tensorflow.keras.callbacks import EarlyStopping, ModelCheckpoint, ReduceLROnPlateau\n",
    "\n",
    "\n",
    "import tensorflow.keras.backend as K\n",
    "from livelossplot import PlotLossesKerasTF\n",
    "#from keras_tqdm import TQDMNotebookCallback\n",
    "\n",
    "from matplotlib import pyplot as plt\n",
    "import seaborn as sns\n",
    "\n",
    "from IPython.display import Image\n",
    "from IPython.display import display, Math, Latex, clear_output\n",
    "\n"
   ]
  },
  {
   "cell_type": "code",
   "execution_count": 4,
   "metadata": {
    "execution": {
     "iopub.execute_input": "2021-11-30T13:18:32.667342Z",
     "iopub.status.busy": "2021-11-30T13:18:32.667025Z",
     "iopub.status.idle": "2021-11-30T13:18:32.674746Z",
     "shell.execute_reply": "2021-11-30T13:18:32.674234Z",
     "shell.execute_reply.started": "2021-11-30T13:18:32.667313Z"
    },
    "tags": []
   },
   "outputs": [
    {
     "data": {
      "text/plain": [
       "'2.5.2'"
      ]
     },
     "execution_count": 4,
     "metadata": {},
     "output_type": "execute_result"
    }
   ],
   "source": [
    "tf.__version__"
   ]
  },
  {
   "cell_type": "code",
   "execution_count": 5,
   "metadata": {
    "execution": {
     "iopub.execute_input": "2021-11-30T13:18:32.675988Z",
     "iopub.status.busy": "2021-11-30T13:18:32.675730Z",
     "iopub.status.idle": "2021-11-30T13:18:32.679846Z",
     "shell.execute_reply": "2021-11-30T13:18:32.679351Z",
     "shell.execute_reply.started": "2021-11-30T13:18:32.675963Z"
    },
    "tags": []
   },
   "outputs": [],
   "source": [
    "#######################################################################################################################################\n",
    "########################################### IMPORT GLOBAL VARIABLES FROM CONFIG #######################################################\n",
    "#######################################################################################################################################\n",
    "globals().update(config['function_family'])\n",
    "globals().update(config['data'])\n",
    "globals().update(config['lambda_net'])\n",
    "globals().update(config['evaluation'])\n",
    "globals().update(config['computation'])"
   ]
  },
  {
   "cell_type": "code",
   "execution_count": 6,
   "metadata": {
    "execution": {
     "iopub.execute_input": "2021-11-30T13:18:32.682272Z",
     "iopub.status.busy": "2021-11-30T13:18:32.682020Z",
     "iopub.status.idle": "2021-11-30T13:18:32.690297Z",
     "shell.execute_reply": "2021-11-30T13:18:32.689685Z",
     "shell.execute_reply.started": "2021-11-30T13:18:32.682243Z"
    },
    "tags": []
   },
   "outputs": [],
   "source": [
    "#######################################################################################################################################\n",
    "################################################### VARIABLE ADJUSTMENTS ##############################################################\n",
    "#######################################################################################################################################\n",
    "\n",
    "config['i_net']['data_reshape_version'] = 2 if data_reshape_version == None and (convolution_layers != None or lstm_layers != None or (nas and nas_type != 'SEQUENTIAL')) else data_reshape_version\n",
    "\n",
    "#######################################################################################################################################\n",
    "###################################################### SET VARIABLES + DESIGN #########################################################\n",
    "#######################################################################################################################################\n",
    "\n",
    "#os.environ['TF_CPP_MIN_LOG_LEVEL'] = '2' \n",
    "os.environ['CUDA_VISIBLE_DEVICES'] = gpu_numbers if use_gpu else ''\n",
    "os.environ['TF_FORCE_GPU_ALLOW_GROWTH'] = 'true' if use_gpu else ''\n",
    "\n",
    "#os.environ['XLA_FLAGS'] =  '--xla_gpu_cuda_data_dir=/usr/local/cuda-10.1'\n",
    "\n",
    "#os.environ['XLA_FLAGS'] = '--tf_xla_enable_xla_devices'\n",
    "#os.environ['TF_XLA_FLAGS'] = '--tf_xla_enable_xla_devices'\n",
    "\n",
    "os.environ['XLA_FLAGS'] = '--xla_gpu_cuda_data_dir=/usr/local/cuda-11.4' if use_gpu else ''#-10.1' #--xla_gpu_cuda_data_dir=/usr/local/cuda, \n",
    "os.environ['TF_XLA_FLAGS'] = '--tf_xla_auto_jit=2 ,--tf_xla_enable_xla_devices' if use_gpu else ''#'--tf_xla_auto_jit=2' #, --tf_xla_enable_xla_devices\n",
    "\n",
    "\n",
    "sns.set_style(\"darkgrid\")\n",
    "\n",
    "random.seed(RANDOM_SEED)\n",
    "np.random.seed(RANDOM_SEED)\n",
    "if int(tf.__version__[0]) >= 2:\n",
    "    tf.random.set_seed(RANDOM_SEED)\n",
    "else:\n",
    "    tf.set_random_seed(RANDOM_SEED)\n",
    "    \n",
    "    \n",
    "pd.set_option('display.float_format', lambda x: '%.3f' % x)\n",
    "pd.set_option('display.max_columns', 200)\n",
    "np.set_printoptions(threshold=200)\n",
    "np.set_printoptions(suppress=True)\n",
    "\n"
   ]
  },
  {
   "cell_type": "code",
   "execution_count": 7,
   "metadata": {
    "execution": {
     "iopub.execute_input": "2021-11-30T13:18:32.691684Z",
     "iopub.status.busy": "2021-11-30T13:18:32.691311Z",
     "iopub.status.idle": "2021-11-30T13:18:34.921778Z",
     "shell.execute_reply": "2021-11-30T13:18:34.921027Z",
     "shell.execute_reply.started": "2021-11-30T13:18:32.691654Z"
    },
    "tags": []
   },
   "outputs": [],
   "source": [
    "from utilities.InterpretationNet import *\n",
    "from utilities.LambdaNet import *\n",
    "from utilities.metrics import *\n",
    "from utilities.utility_functions import *\n",
    "from utilities.DecisionTree_BASIC import *\n",
    "\n",
    "#######################################################################################################################################\n",
    "####################################################### CONFIG ADJUSTMENTS ############################################################\n",
    "#######################################################################################################################################\n",
    "\n",
    "config['lambda_net']['number_of_lambda_weights'] = get_number_of_lambda_net_parameters(lambda_network_layers, number_of_variables, num_classes)\n",
    "config['function_family']['basic_function_representation_length'] = get_number_of_function_parameters(dt_type, maximum_depth, number_of_variables, num_classes)\n",
    "config['function_family']['function_representation_length'] = ( \n",
    "       #((2 ** maximum_depth - 1) * decision_sparsity) * 2 + (2 ** maximum_depth - 1) + (2 ** maximum_depth) * num_classes  if function_representation_type == 1 and dt_type == 'SDT'\n",
    "       (2 ** maximum_depth - 1) * (number_of_variables + 1) + (2 ** maximum_depth) * number_of_classes if function_representation_type == 1 and dt_type == 'SDT'\n",
    "  else (2 ** maximum_depth - 1) * decision_sparsity + (2 ** maximum_depth - 1) + ((2 ** maximum_depth - 1)  * decision_sparsity * number_of_variables) + (2 ** maximum_depth) * num_classes if function_representation_type == 2 and dt_type == 'SDT'\n",
    "  else ((2 ** maximum_depth - 1) * decision_sparsity) * 2 + (2 ** maximum_depth)  if function_representation_type == 1 and dt_type == 'vanilla'\n",
    "  else (2 ** maximum_depth - 1) * decision_sparsity + ((2 ** maximum_depth - 1)  * decision_sparsity * number_of_variables) + (2 ** maximum_depth) if function_representation_type == 2 and dt_type == 'vanilla'\n",
    "  else None\n",
    "                                                            )\n",
    "#######################################################################################################################################\n",
    "################################################## UPDATE VARIABLES ###################################################################\n",
    "#######################################################################################################################################\n",
    "globals().update(config['function_family'])\n",
    "globals().update(config['data'])\n",
    "globals().update(config['lambda_net'])\n",
    "globals().update(config['i_net'])\n",
    "globals().update(config['evaluation'])\n",
    "globals().update(config['computation'])\n",
    "\n",
    "#initialize_LambdaNet_config_from_curent_notebook(config)\n",
    "#initialize_metrics_config_from_curent_notebook(config)\n",
    "#initialize_utility_functions_config_from_curent_notebook(config)\n",
    "#initialize_InterpretationNet_config_from_curent_notebook(config)\n",
    "\n",
    "\n",
    "#######################################################################################################################################\n",
    "###################################################### PATH + FOLDER CREATION #########################################################\n",
    "#######################################################################################################################################\n",
    "globals().update(generate_paths(config, path_type='interpretation_net'))\n",
    "\n",
    "create_folders_inet(config)\n",
    "\n",
    "#######################################################################################################################################\n",
    "############################################################ SLEEP TIMER ##############################################################\n",
    "#######################################################################################################################################\n",
    "sleep_minutes(sleep_time)"
   ]
  },
  {
   "cell_type": "code",
   "execution_count": 8,
   "metadata": {
    "execution": {
     "iopub.execute_input": "2021-11-30T13:18:34.923348Z",
     "iopub.status.busy": "2021-11-30T13:18:34.923017Z",
     "iopub.status.idle": "2021-11-30T13:18:34.929265Z",
     "shell.execute_reply": "2021-11-30T13:18:34.927770Z",
     "shell.execute_reply.started": "2021-11-30T13:18:34.923322Z"
    },
    "tags": []
   },
   "outputs": [
    {
     "name": "stdout",
     "output_type": "stream",
     "text": [
      "lNetSize5000_numLNets100_var10_class2_make_classification_xMax1_xMin0_xDistuniform/128_e1000ES0.01_b64_drop0_adam_binary_crossentropy_fixedInit1-seed42/inet_dense2048-1024-512_drop0.2-0.2-0e250b256_adam\n",
      "lNetSize5000_numLNets100_var10_class2_make_classification_xMax1_xMin0_xDistuniform/128_e1000ES0.01_b64_drop0_adam_binary_crossentropy_fixedInit1-seed42\n"
     ]
    }
   ],
   "source": [
    "print(path_identifier_interpretation_net)\n",
    "\n",
    "print(path_identifier_lambda_net_data)\n"
   ]
  },
  {
   "cell_type": "code",
   "execution_count": 9,
   "metadata": {
    "ExecuteTime": {
     "end_time": "2021-01-05T08:33:49.600530Z",
     "start_time": "2021-01-05T08:33:49.583928Z"
    },
    "execution": {
     "iopub.execute_input": "2021-11-30T13:18:34.932088Z",
     "iopub.status.busy": "2021-11-30T13:18:34.931247Z",
     "iopub.status.idle": "2021-11-30T13:18:35.012648Z",
     "shell.execute_reply": "2021-11-30T13:18:35.011808Z",
     "shell.execute_reply.started": "2021-11-30T13:18:34.931997Z"
    },
    "tags": []
   },
   "outputs": [
    {
     "name": "stdout",
     "output_type": "stream",
     "text": [
      "Num GPUs Available:  1\n",
      "Num XLA-GPUs Available:  0\n"
     ]
    }
   ],
   "source": [
    "print(\"Num GPUs Available: \", len(tf.config.experimental.list_physical_devices('GPU')))\n",
    "print(\"Num XLA-GPUs Available: \", len(tf.config.experimental.list_physical_devices('XLA_GPU')))"
   ]
  },
  {
   "cell_type": "markdown",
   "metadata": {},
   "source": [
    "## Interpretation Network Training"
   ]
  },
  {
   "cell_type": "code",
   "execution_count": 10,
   "metadata": {
    "execution": {
     "iopub.execute_input": "2021-11-30T13:18:35.014065Z",
     "iopub.status.busy": "2021-11-30T13:18:35.013796Z",
     "iopub.status.idle": "2021-11-30T13:18:35.017443Z",
     "shell.execute_reply": "2021-11-30T13:18:35.016752Z",
     "shell.execute_reply.started": "2021-11-30T13:18:35.014040Z"
    }
   },
   "outputs": [],
   "source": [
    "#%load_ext autoreload"
   ]
  },
  {
   "cell_type": "code",
   "execution_count": 11,
   "metadata": {
    "execution": {
     "iopub.execute_input": "2021-11-30T13:18:35.018821Z",
     "iopub.status.busy": "2021-11-30T13:18:35.018542Z",
     "iopub.status.idle": "2021-11-30T13:18:35.046820Z",
     "shell.execute_reply": "2021-11-30T13:18:35.045979Z",
     "shell.execute_reply.started": "2021-11-30T13:18:35.018796Z"
    },
    "tags": []
   },
   "outputs": [],
   "source": [
    "def generate_inet(config):\n",
    "\n",
    "    callback_names = []\n",
    "\n",
    "    ############################## DATA PREPARATION ###############################\n",
    "\n",
    "    random_model = generate_base_model(config)\n",
    "    #random_evaluation_dataset =  np.random.uniform(low=0, high=0.2, size=(config['evaluation']['random_evaluation_dataset_size'], config['data']['number_of_variables']))\n",
    "    random_evaluation_dataset =  np.random.uniform(low=config['data']['x_min'], high=config['data']['x_max'], size=(config['evaluation']['random_evaluation_dataset_size'], config['data']['number_of_variables']))\n",
    "\n",
    "    random_network_parameters = random_model.get_weights()\n",
    "    network_parameters_structure = [network_parameter.shape for network_parameter in random_network_parameters]         \n",
    "\n",
    "    #(X_train, X_train_flat, y_train) = generate_inet_train_data(lambda_net_dataset_train, config)\n",
    "    #(X_valid, X_valid_flat, y_valid) = generate_inet_train_data(lambda_net_dataset_valid, config)\n",
    "    #(X_test, X_test_flat, y_test) = generate_inet_train_data(lambda_net_dataset_test, config)\n",
    "\n",
    "\n",
    "    ############################## OBJECTIVE SPECIFICATION AND LOSS FUNCTION ADJUSTMENTS ###############################             \n",
    "    loss_function = inet_decision_function_fv_loss_wrapper(random_evaluation_dataset, random_model, network_parameters_structure, config)\n",
    "    metrics = [\n",
    "               inet_decision_function_fv_metric_wrapper(random_evaluation_dataset, random_model, network_parameters_structure, config, 'binary_crossentropy'), \n",
    "               #inet_decision_function_fv_metric_wrapper(random_evaluation_dataset, random_model, network_parameters_structure, config, 'mae'), \n",
    "               inet_decision_function_fv_metric_wrapper(random_evaluation_dataset, random_model, network_parameters_structure, config, 'binary_accuracy')\n",
    "    ]\n",
    "\n",
    "    ############################## BUILD MODEL ###############################\n",
    "\n",
    "    inputs = Input(shape=number_of_lambda_weights, name='input')\n",
    "\n",
    "    hidden = tf.keras.layers.Dense(config['i_net']['dense_layers'][0], name='hidden1_' + str(config['i_net']['dense_layers'][0]))(inputs)\n",
    "    hidden = tf.keras.layers.Activation(activation='relu', name='activation1_' + 'relu')(hidden)\n",
    "\n",
    "    if config['i_net']['dropout'][0] > 0:\n",
    "        hidden = tf.keras.layers.Dropout(config['i_net']['dropout'][0], name='dropout1_' + str(config['i_net']['dropout'][0]))(hidden)\n",
    "\n",
    "    for layer_index, neurons in enumerate(config['i_net']['dense_layers'][1:]):\n",
    "        hidden = tf.keras.layers.Dense(neurons, name='hidden' + str(layer_index+2) + '_' + str(neurons))(hidden)\n",
    "        hidden = tf.keras.layers.Activation(activation='relu', name='activation'  + str(layer_index+2) + '_relu')(hidden)\n",
    "\n",
    "        if config['i_net']['dropout'][layer_index+1] > 0:\n",
    "            hidden = tf.keras.layers.Dropout(config['i_net']['dropout'][layer_index+1], name='dropout' + str(layer_index+2) + '_' + str(config['i_net']['dropout'][layer_index+1]))(hidden)\n",
    "\n",
    "\n",
    "    if config['i_net']['function_representation_type'] == 1:\n",
    "        if config['function_family']['dt_type'] == 'SDT':\n",
    "            outputs = tf.keras.layers.Dense(config['function_family']['function_representation_length'], name='output_' + str(config['function_family']['function_representation_length']))(hidden)\n",
    "        elif config['function_family']['dt_type'] == 'vanilla':\n",
    "            internal_node_num_ = 2 ** config['function_family']['maximum_depth'] - 1 \n",
    "            leaf_node_num_ = 2 ** config['function_family']['maximum_depth']                    \n",
    "\n",
    "            outputs_coeff = tf.keras.layers.Dense(internal_node_num_ * config['function_family']['decision_sparsity'], activation='sigmoid', name='outputs_coeff_' + str(internal_node_num_ * config['function_family']['decision_sparsity']))(hidden)        \n",
    "            outputs_index = tf.keras.layers.Dense(internal_node_num_ * config['function_family']['decision_sparsity'], activation='linear', name='outputs_index_' + str(internal_node_num_ * config['function_family']['decision_sparsity']))(hidden)      \n",
    "            outputs_leaf = tf.keras.layers.Dense(leaf_node_num_, activation='sigmoid', name='outputs_leaf_' + str(leaf_node_num_))(hidden) \n",
    "\n",
    "            outputs = concatenate([outputs_coeff, outputs_index, outputs_leaf], name='output_combined')\n",
    "\n",
    "    elif config['i_net']['function_representation_type'] == 2:\n",
    "        if config['function_family']['dt_type'] == 'SDT':\n",
    "\n",
    "            #input_dim = config['data']['number_of_variables']\n",
    "            #output_dim = config['data']['num_classes']\n",
    "            internal_node_num_ = 2 ** config['function_family']['maximum_depth'] - 1 \n",
    "            leaf_node_num_ = 2 ** config['function_family']['maximum_depth']\n",
    "\n",
    "            number_output_coefficients = internal_node_num_ * config['function_family']['decision_sparsity']\n",
    "\n",
    "            outputs_coeff = tf.keras.layers.Dense(number_output_coefficients, name='output_coeff_' + str(number_output_coefficients))(hidden)\n",
    "\n",
    "            outputs_list = [outputs_coeff]\n",
    "\n",
    "            for outputs_index in range(internal_node_num_):\n",
    "                for var_index in range(config['function_family']['decision_sparsity']):\n",
    "                    output_name = 'output_identifier' + str(outputs_index+1) + '_var' + str(var_index+1) + '_' + str(config['function_family']['decision_sparsity'])\n",
    "                    outputs_identifer = tf.keras.layers.Dense(config['data']['number_of_variables'], activation='softmax', name=output_name)(hidden)\n",
    "                    outputs_list.append(outputs_identifer)    \n",
    "\n",
    "            outputs_bias = tf.keras.layers.Dense(internal_node_num_, name='output_bias_' + str(internal_node_num_))(hidden)\n",
    "            outputs_list.append(outputs_bias)     \n",
    "\n",
    "            outputs_leaf_nodes = tf.keras.layers.Dense(leaf_node_num_ * config['data']['num_classes'], name='output_leaf_nodes_' + str(leaf_node_num_ * config['data']['num_classes']))(hidden)\n",
    "            outputs_list.append(outputs_leaf_nodes)     \n",
    "\n",
    "            outputs = concatenate(outputs_list, name='output_combined')\n",
    "\n",
    "\n",
    "        elif config['function_family']['dt_type'] == 'vanilla':\n",
    "            #input_dim = config['data']['number_of_variables']\n",
    "            #output_dim = config['data']['num_classes']\n",
    "            internal_node_num_ = 2 ** config['function_family']['maximum_depth'] - 1 \n",
    "            leaf_node_num_ = 2 ** config['function_family']['maximum_depth']\n",
    "\n",
    "            number_output_coefficients = internal_node_num_ * config['function_family']['decision_sparsity']\n",
    "\n",
    "            outputs_coeff = tf.keras.layers.Dense(number_output_coefficients, activation='sigmoid', name='output_coeff_' + str(number_output_coefficients))(hidden)\n",
    "            outputs_list = [outputs_coeff]\n",
    "            for outputs_index in range(internal_node_num_):\n",
    "                for var_index in range(config['function_family']['decision_sparsity']):\n",
    "                    output_name = 'output_identifier' + str(outputs_index+1) + '_var' + str(var_index+1) + '_' + str(config['function_family']['decision_sparsity'])\n",
    "                    outputs_identifer = tf.keras.layers.Dense(config['data']['number_of_variables'], activation='softmax', name=output_name)(hidden)\n",
    "                    outputs_list.append(outputs_identifer)    \n",
    "\n",
    "            for leaf_node in range(leaf_node_num_):\n",
    "                #outputs_leaf_nodes = tf.keras.layers.Dense(config['data']['num_classes'], activation='softmax', name='output_leaf_node_' + str(leaf_node))(hidden)\n",
    "                outputs_leaf_nodes = tf.keras.layers.Dense(1, activation='sigmoid', name='output_leaf_node_' + str(leaf_node))(hidden)\n",
    "                outputs_list.append(outputs_leaf_nodes)    \n",
    "\n",
    "            outputs = concatenate(outputs_list, name='output_combined')\n",
    "\n",
    "\n",
    "\n",
    "    inet_base_model = Model(inputs=inputs, outputs=outputs)          \n",
    "\n",
    "    optimizer = config['i_net']['optimizer']\n",
    "    if optimizer == \"custom\":\n",
    "        optimizer = tf.keras.optimizers.Adam(learning_rate=0.0001)\n",
    "\n",
    "    inet_base_model.compile(optimizer=optimizer,\n",
    "                  loss=loss_function,\n",
    "                  metrics=metrics\n",
    "                 )\n",
    "\n",
    "    return inet_base_model"
   ]
  },
  {
   "cell_type": "code",
   "execution_count": 12,
   "metadata": {
    "execution": {
     "iopub.execute_input": "2021-11-30T13:18:35.048462Z",
     "iopub.status.busy": "2021-11-30T13:18:35.048066Z",
     "iopub.status.idle": "2021-11-30T13:18:35.051358Z",
     "shell.execute_reply": "2021-11-30T13:18:35.050817Z",
     "shell.execute_reply.started": "2021-11-30T13:18:35.048423Z"
    },
    "tags": []
   },
   "outputs": [],
   "source": [
    "extension_rate = 1\n",
    "initial_parameters = 1024\n",
    "\n",
    "mutation_number = 25\n",
    "\n",
    "increase_interval_base = 10"
   ]
  },
  {
   "cell_type": "markdown",
   "metadata": {},
   "source": [
    "# REAL DATA EVALUATION"
   ]
  },
  {
   "cell_type": "markdown",
   "metadata": {},
   "source": [
    "## ADULT DATASET"
   ]
  },
  {
   "cell_type": "code",
   "execution_count": 13,
   "metadata": {
    "execution": {
     "iopub.execute_input": "2021-11-30T13:18:35.052421Z",
     "iopub.status.busy": "2021-11-30T13:18:35.052173Z",
     "iopub.status.idle": "2021-11-30T13:18:37.209062Z",
     "shell.execute_reply": "2021-11-30T13:18:37.207966Z",
     "shell.execute_reply.started": "2021-11-30T13:18:35.052398Z"
    }
   },
   "outputs": [
    {
     "data": {
      "text/html": [
       "<div>\n",
       "<style scoped>\n",
       "    .dataframe tbody tr th:only-of-type {\n",
       "        vertical-align: middle;\n",
       "    }\n",
       "\n",
       "    .dataframe tbody tr th {\n",
       "        vertical-align: top;\n",
       "    }\n",
       "\n",
       "    .dataframe thead th {\n",
       "        text-align: right;\n",
       "    }\n",
       "</style>\n",
       "<table border=\"1\" class=\"dataframe\">\n",
       "  <thead>\n",
       "    <tr style=\"text-align: right;\">\n",
       "      <th></th>\n",
       "      <th>Age</th>\n",
       "      <th>Workclass</th>\n",
       "      <th>fnlwgt</th>\n",
       "      <th>Education</th>\n",
       "      <th>Education-Num</th>\n",
       "      <th>Marital Status</th>\n",
       "      <th>Occupation</th>\n",
       "      <th>Relationship</th>\n",
       "      <th>Race</th>\n",
       "      <th>Sex</th>\n",
       "      <th>Capital Gain</th>\n",
       "      <th>Capital Loss</th>\n",
       "      <th>Hours per week</th>\n",
       "      <th>Country</th>\n",
       "      <th>capital_gain</th>\n",
       "    </tr>\n",
       "  </thead>\n",
       "  <tbody>\n",
       "    <tr>\n",
       "      <th>0</th>\n",
       "      <td>39</td>\n",
       "      <td>State-gov</td>\n",
       "      <td>77516</td>\n",
       "      <td>Bachelors</td>\n",
       "      <td>13</td>\n",
       "      <td>Never-married</td>\n",
       "      <td>Adm-clerical</td>\n",
       "      <td>Not-in-family</td>\n",
       "      <td>White</td>\n",
       "      <td>Male</td>\n",
       "      <td>2174</td>\n",
       "      <td>0</td>\n",
       "      <td>40</td>\n",
       "      <td>United-States</td>\n",
       "      <td>&lt;=50K</td>\n",
       "    </tr>\n",
       "    <tr>\n",
       "      <th>1</th>\n",
       "      <td>50</td>\n",
       "      <td>Self-emp-not-inc</td>\n",
       "      <td>83311</td>\n",
       "      <td>Bachelors</td>\n",
       "      <td>13</td>\n",
       "      <td>Married-civ-spouse</td>\n",
       "      <td>Exec-managerial</td>\n",
       "      <td>Husband</td>\n",
       "      <td>White</td>\n",
       "      <td>Male</td>\n",
       "      <td>0</td>\n",
       "      <td>0</td>\n",
       "      <td>13</td>\n",
       "      <td>United-States</td>\n",
       "      <td>&lt;=50K</td>\n",
       "    </tr>\n",
       "    <tr>\n",
       "      <th>2</th>\n",
       "      <td>38</td>\n",
       "      <td>Private</td>\n",
       "      <td>215646</td>\n",
       "      <td>HS-grad</td>\n",
       "      <td>9</td>\n",
       "      <td>Divorced</td>\n",
       "      <td>Handlers-cleaners</td>\n",
       "      <td>Not-in-family</td>\n",
       "      <td>White</td>\n",
       "      <td>Male</td>\n",
       "      <td>0</td>\n",
       "      <td>0</td>\n",
       "      <td>40</td>\n",
       "      <td>United-States</td>\n",
       "      <td>&lt;=50K</td>\n",
       "    </tr>\n",
       "    <tr>\n",
       "      <th>3</th>\n",
       "      <td>53</td>\n",
       "      <td>Private</td>\n",
       "      <td>234721</td>\n",
       "      <td>11th</td>\n",
       "      <td>7</td>\n",
       "      <td>Married-civ-spouse</td>\n",
       "      <td>Handlers-cleaners</td>\n",
       "      <td>Husband</td>\n",
       "      <td>Black</td>\n",
       "      <td>Male</td>\n",
       "      <td>0</td>\n",
       "      <td>0</td>\n",
       "      <td>40</td>\n",
       "      <td>United-States</td>\n",
       "      <td>&lt;=50K</td>\n",
       "    </tr>\n",
       "    <tr>\n",
       "      <th>4</th>\n",
       "      <td>28</td>\n",
       "      <td>Private</td>\n",
       "      <td>338409</td>\n",
       "      <td>Bachelors</td>\n",
       "      <td>13</td>\n",
       "      <td>Married-civ-spouse</td>\n",
       "      <td>Prof-specialty</td>\n",
       "      <td>Wife</td>\n",
       "      <td>Black</td>\n",
       "      <td>Female</td>\n",
       "      <td>0</td>\n",
       "      <td>0</td>\n",
       "      <td>40</td>\n",
       "      <td>Cuba</td>\n",
       "      <td>&lt;=50K</td>\n",
       "    </tr>\n",
       "  </tbody>\n",
       "</table>\n",
       "</div>"
      ],
      "text/plain": [
       "   Age          Workclass  fnlwgt   Education  Education-Num  \\\n",
       "0   39          State-gov   77516   Bachelors             13   \n",
       "1   50   Self-emp-not-inc   83311   Bachelors             13   \n",
       "2   38            Private  215646     HS-grad              9   \n",
       "3   53            Private  234721        11th              7   \n",
       "4   28            Private  338409   Bachelors             13   \n",
       "\n",
       "        Marital Status          Occupation    Relationship    Race      Sex  \\\n",
       "0        Never-married        Adm-clerical   Not-in-family   White     Male   \n",
       "1   Married-civ-spouse     Exec-managerial         Husband   White     Male   \n",
       "2             Divorced   Handlers-cleaners   Not-in-family   White     Male   \n",
       "3   Married-civ-spouse   Handlers-cleaners         Husband   Black     Male   \n",
       "4   Married-civ-spouse      Prof-specialty            Wife   Black   Female   \n",
       "\n",
       "   Capital Gain  Capital Loss  Hours per week         Country capital_gain  \n",
       "0          2174             0              40   United-States        <=50K  \n",
       "1             0             0              13   United-States        <=50K  \n",
       "2             0             0              40   United-States        <=50K  \n",
       "3             0             0              40   United-States        <=50K  \n",
       "4             0             0              40            Cuba        <=50K  "
      ]
     },
     "execution_count": 13,
     "metadata": {},
     "output_type": "execute_result"
    }
   ],
   "source": [
    "feature_names = [\n",
    "                 \"Age\", #0\n",
    "                 \"Workclass\",  #1\n",
    "                 \"fnlwgt\",  #2\n",
    "                 \"Education\",  #3\n",
    "                 \"Education-Num\",  #4\n",
    "                 \"Marital Status\", #5\n",
    "                 \"Occupation\",  #6\n",
    "                 \"Relationship\",  #7\n",
    "                 \"Race\",  #8\n",
    "                 \"Sex\",  #9\n",
    "                 \"Capital Gain\",  #10\n",
    "                 \"Capital Loss\", #11\n",
    "                 \"Hours per week\",  #12\n",
    "                 \"Country\", #13\n",
    "                 \"capital_gain\" #14\n",
    "                ] \n",
    "\n",
    "\n",
    "\n",
    "adult_data = pd.read_csv('https://archive.ics.uci.edu/ml/machine-learning-databases/adult/adult.data', names=feature_names, index_col=False)\n",
    "\n",
    "adult_data.head()"
   ]
  },
  {
   "cell_type": "code",
   "execution_count": 14,
   "metadata": {
    "execution": {
     "iopub.execute_input": "2021-11-30T13:18:37.210679Z",
     "iopub.status.busy": "2021-11-30T13:18:37.210415Z",
     "iopub.status.idle": "2021-11-30T13:18:37.271753Z",
     "shell.execute_reply": "2021-11-30T13:18:37.271134Z",
     "shell.execute_reply.started": "2021-11-30T13:18:37.210643Z"
    }
   },
   "outputs": [
    {
     "data": {
      "text/html": [
       "<div>\n",
       "<style scoped>\n",
       "    .dataframe tbody tr th:only-of-type {\n",
       "        vertical-align: middle;\n",
       "    }\n",
       "\n",
       "    .dataframe tbody tr th {\n",
       "        vertical-align: top;\n",
       "    }\n",
       "\n",
       "    .dataframe thead th {\n",
       "        text-align: right;\n",
       "    }\n",
       "</style>\n",
       "<table border=\"1\" class=\"dataframe\">\n",
       "  <thead>\n",
       "    <tr style=\"text-align: right;\">\n",
       "      <th></th>\n",
       "      <th>Age</th>\n",
       "      <th>fnlwgt</th>\n",
       "      <th>Education-Num</th>\n",
       "      <th>Capital Gain</th>\n",
       "      <th>Capital Loss</th>\n",
       "      <th>Hours per week</th>\n",
       "    </tr>\n",
       "  </thead>\n",
       "  <tbody>\n",
       "    <tr>\n",
       "      <th>count</th>\n",
       "      <td>32561.000</td>\n",
       "      <td>32561.000</td>\n",
       "      <td>32561.000</td>\n",
       "      <td>32561.000</td>\n",
       "      <td>32561.000</td>\n",
       "      <td>32561.000</td>\n",
       "    </tr>\n",
       "    <tr>\n",
       "      <th>mean</th>\n",
       "      <td>38.582</td>\n",
       "      <td>189778.367</td>\n",
       "      <td>10.081</td>\n",
       "      <td>1077.649</td>\n",
       "      <td>87.304</td>\n",
       "      <td>40.437</td>\n",
       "    </tr>\n",
       "    <tr>\n",
       "      <th>std</th>\n",
       "      <td>13.640</td>\n",
       "      <td>105549.978</td>\n",
       "      <td>2.573</td>\n",
       "      <td>7385.292</td>\n",
       "      <td>402.960</td>\n",
       "      <td>12.347</td>\n",
       "    </tr>\n",
       "    <tr>\n",
       "      <th>min</th>\n",
       "      <td>17.000</td>\n",
       "      <td>12285.000</td>\n",
       "      <td>1.000</td>\n",
       "      <td>0.000</td>\n",
       "      <td>0.000</td>\n",
       "      <td>1.000</td>\n",
       "    </tr>\n",
       "    <tr>\n",
       "      <th>25%</th>\n",
       "      <td>28.000</td>\n",
       "      <td>117827.000</td>\n",
       "      <td>9.000</td>\n",
       "      <td>0.000</td>\n",
       "      <td>0.000</td>\n",
       "      <td>40.000</td>\n",
       "    </tr>\n",
       "    <tr>\n",
       "      <th>50%</th>\n",
       "      <td>37.000</td>\n",
       "      <td>178356.000</td>\n",
       "      <td>10.000</td>\n",
       "      <td>0.000</td>\n",
       "      <td>0.000</td>\n",
       "      <td>40.000</td>\n",
       "    </tr>\n",
       "    <tr>\n",
       "      <th>75%</th>\n",
       "      <td>48.000</td>\n",
       "      <td>237051.000</td>\n",
       "      <td>12.000</td>\n",
       "      <td>0.000</td>\n",
       "      <td>0.000</td>\n",
       "      <td>45.000</td>\n",
       "    </tr>\n",
       "    <tr>\n",
       "      <th>max</th>\n",
       "      <td>90.000</td>\n",
       "      <td>1484705.000</td>\n",
       "      <td>16.000</td>\n",
       "      <td>99999.000</td>\n",
       "      <td>4356.000</td>\n",
       "      <td>99.000</td>\n",
       "    </tr>\n",
       "  </tbody>\n",
       "</table>\n",
       "</div>"
      ],
      "text/plain": [
       "            Age      fnlwgt  Education-Num  Capital Gain  Capital Loss  \\\n",
       "count 32561.000   32561.000      32561.000     32561.000     32561.000   \n",
       "mean     38.582  189778.367         10.081      1077.649        87.304   \n",
       "std      13.640  105549.978          2.573      7385.292       402.960   \n",
       "min      17.000   12285.000          1.000         0.000         0.000   \n",
       "25%      28.000  117827.000          9.000         0.000         0.000   \n",
       "50%      37.000  178356.000         10.000         0.000         0.000   \n",
       "75%      48.000  237051.000         12.000         0.000         0.000   \n",
       "max      90.000 1484705.000         16.000     99999.000      4356.000   \n",
       "\n",
       "       Hours per week  \n",
       "count       32561.000  \n",
       "mean           40.437  \n",
       "std            12.347  \n",
       "min             1.000  \n",
       "25%            40.000  \n",
       "50%            40.000  \n",
       "75%            45.000  \n",
       "max            99.000  "
      ]
     },
     "execution_count": 14,
     "metadata": {},
     "output_type": "execute_result"
    }
   ],
   "source": [
    "adult_data.describe()"
   ]
  },
  {
   "cell_type": "code",
   "execution_count": 15,
   "metadata": {
    "execution": {
     "iopub.execute_input": "2021-11-30T13:18:37.272936Z",
     "iopub.status.busy": "2021-11-30T13:18:37.272695Z",
     "iopub.status.idle": "2021-11-30T13:18:37.299238Z",
     "shell.execute_reply": "2021-11-30T13:18:37.298592Z",
     "shell.execute_reply.started": "2021-11-30T13:18:37.272910Z"
    }
   },
   "outputs": [
    {
     "name": "stdout",
     "output_type": "stream",
     "text": [
      "<class 'pandas.core.frame.DataFrame'>\n",
      "RangeIndex: 32561 entries, 0 to 32560\n",
      "Data columns (total 15 columns):\n",
      " #   Column          Non-Null Count  Dtype \n",
      "---  ------          --------------  ----- \n",
      " 0   Age             32561 non-null  int64 \n",
      " 1   Workclass       32561 non-null  object\n",
      " 2   fnlwgt          32561 non-null  int64 \n",
      " 3   Education       32561 non-null  object\n",
      " 4   Education-Num   32561 non-null  int64 \n",
      " 5   Marital Status  32561 non-null  object\n",
      " 6   Occupation      32561 non-null  object\n",
      " 7   Relationship    32561 non-null  object\n",
      " 8   Race            32561 non-null  object\n",
      " 9   Sex             32561 non-null  object\n",
      " 10  Capital Gain    32561 non-null  int64 \n",
      " 11  Capital Loss    32561 non-null  int64 \n",
      " 12  Hours per week  32561 non-null  int64 \n",
      " 13  Country         32561 non-null  object\n",
      " 14  capital_gain    32561 non-null  object\n",
      "dtypes: int64(6), object(9)\n",
      "memory usage: 3.7+ MB\n"
     ]
    }
   ],
   "source": [
    "adult_data.info()"
   ]
  },
  {
   "cell_type": "code",
   "execution_count": 16,
   "metadata": {
    "execution": {
     "iopub.execute_input": "2021-11-30T13:18:37.300326Z",
     "iopub.status.busy": "2021-11-30T13:18:37.300087Z",
     "iopub.status.idle": "2021-11-30T13:18:37.324927Z",
     "shell.execute_reply": "2021-11-30T13:18:37.324396Z",
     "shell.execute_reply.started": "2021-11-30T13:18:37.300301Z"
    }
   },
   "outputs": [
    {
     "data": {
      "text/html": [
       "<div>\n",
       "<style scoped>\n",
       "    .dataframe tbody tr th:only-of-type {\n",
       "        vertical-align: middle;\n",
       "    }\n",
       "\n",
       "    .dataframe tbody tr th {\n",
       "        vertical-align: top;\n",
       "    }\n",
       "\n",
       "    .dataframe thead th {\n",
       "        text-align: right;\n",
       "    }\n",
       "</style>\n",
       "<table border=\"1\" class=\"dataframe\">\n",
       "  <thead>\n",
       "    <tr style=\"text-align: right;\">\n",
       "      <th></th>\n",
       "      <th>Age</th>\n",
       "      <th>Workclass</th>\n",
       "      <th>fnlwgt</th>\n",
       "      <th>Education</th>\n",
       "      <th>Education-Num</th>\n",
       "      <th>Marital Status</th>\n",
       "      <th>Occupation</th>\n",
       "      <th>Relationship</th>\n",
       "      <th>Race</th>\n",
       "      <th>Sex</th>\n",
       "      <th>Capital Gain</th>\n",
       "      <th>Capital Loss</th>\n",
       "      <th>Hours per week</th>\n",
       "      <th>Country</th>\n",
       "      <th>capital_gain</th>\n",
       "    </tr>\n",
       "  </thead>\n",
       "  <tbody>\n",
       "    <tr>\n",
       "      <th>0</th>\n",
       "      <td>39</td>\n",
       "      <td>Other</td>\n",
       "      <td>77516</td>\n",
       "      <td>Bachelors</td>\n",
       "      <td>13</td>\n",
       "      <td>Never-married</td>\n",
       "      <td>Adm-clerical</td>\n",
       "      <td>Not-in-family</td>\n",
       "      <td>White</td>\n",
       "      <td>Male</td>\n",
       "      <td>2174</td>\n",
       "      <td>0</td>\n",
       "      <td>40</td>\n",
       "      <td>United-States</td>\n",
       "      <td>&lt;=50K</td>\n",
       "    </tr>\n",
       "    <tr>\n",
       "      <th>1</th>\n",
       "      <td>50</td>\n",
       "      <td>Other</td>\n",
       "      <td>83311</td>\n",
       "      <td>Bachelors</td>\n",
       "      <td>13</td>\n",
       "      <td>Married-civ-spouse</td>\n",
       "      <td>Exec-managerial</td>\n",
       "      <td>Husband</td>\n",
       "      <td>White</td>\n",
       "      <td>Male</td>\n",
       "      <td>0</td>\n",
       "      <td>0</td>\n",
       "      <td>13</td>\n",
       "      <td>United-States</td>\n",
       "      <td>&lt;=50K</td>\n",
       "    </tr>\n",
       "    <tr>\n",
       "      <th>2</th>\n",
       "      <td>38</td>\n",
       "      <td>Private</td>\n",
       "      <td>215646</td>\n",
       "      <td>HS-grad</td>\n",
       "      <td>9</td>\n",
       "      <td>Divorced</td>\n",
       "      <td>Handlers-cleaners</td>\n",
       "      <td>Not-in-family</td>\n",
       "      <td>White</td>\n",
       "      <td>Male</td>\n",
       "      <td>0</td>\n",
       "      <td>0</td>\n",
       "      <td>40</td>\n",
       "      <td>United-States</td>\n",
       "      <td>&lt;=50K</td>\n",
       "    </tr>\n",
       "    <tr>\n",
       "      <th>3</th>\n",
       "      <td>53</td>\n",
       "      <td>Private</td>\n",
       "      <td>234721</td>\n",
       "      <td>11th</td>\n",
       "      <td>7</td>\n",
       "      <td>Married-civ-spouse</td>\n",
       "      <td>Handlers-cleaners</td>\n",
       "      <td>Husband</td>\n",
       "      <td>Other</td>\n",
       "      <td>Male</td>\n",
       "      <td>0</td>\n",
       "      <td>0</td>\n",
       "      <td>40</td>\n",
       "      <td>United-States</td>\n",
       "      <td>&lt;=50K</td>\n",
       "    </tr>\n",
       "    <tr>\n",
       "      <th>4</th>\n",
       "      <td>28</td>\n",
       "      <td>Private</td>\n",
       "      <td>338409</td>\n",
       "      <td>Bachelors</td>\n",
       "      <td>13</td>\n",
       "      <td>Married-civ-spouse</td>\n",
       "      <td>Prof-specialty</td>\n",
       "      <td>Wife</td>\n",
       "      <td>Other</td>\n",
       "      <td>Female</td>\n",
       "      <td>0</td>\n",
       "      <td>0</td>\n",
       "      <td>40</td>\n",
       "      <td>Cuba</td>\n",
       "      <td>&lt;=50K</td>\n",
       "    </tr>\n",
       "  </tbody>\n",
       "</table>\n",
       "</div>"
      ],
      "text/plain": [
       "   Age Workclass  fnlwgt   Education  Education-Num       Marital Status  \\\n",
       "0   39     Other   77516   Bachelors             13        Never-married   \n",
       "1   50     Other   83311   Bachelors             13   Married-civ-spouse   \n",
       "2   38   Private  215646     HS-grad              9             Divorced   \n",
       "3   53   Private  234721        11th              7   Married-civ-spouse   \n",
       "4   28   Private  338409   Bachelors             13   Married-civ-spouse   \n",
       "\n",
       "           Occupation    Relationship    Race      Sex  Capital Gain  \\\n",
       "0        Adm-clerical   Not-in-family   White     Male          2174   \n",
       "1     Exec-managerial         Husband   White     Male             0   \n",
       "2   Handlers-cleaners   Not-in-family   White     Male             0   \n",
       "3   Handlers-cleaners         Husband   Other     Male             0   \n",
       "4      Prof-specialty            Wife   Other   Female             0   \n",
       "\n",
       "   Capital Loss  Hours per week         Country capital_gain  \n",
       "0             0              40   United-States        <=50K  \n",
       "1             0              13   United-States        <=50K  \n",
       "2             0              40   United-States        <=50K  \n",
       "3             0              40   United-States        <=50K  \n",
       "4             0              40            Cuba        <=50K  "
      ]
     },
     "execution_count": 16,
     "metadata": {},
     "output_type": "execute_result"
    }
   ],
   "source": [
    "adult_data['Workclass'][adult_data['Workclass'] != ' Private'] = 'Other'\n",
    "adult_data['Race'][adult_data['Race'] != ' White'] = 'Other'\n",
    "\n",
    "adult_data.head()"
   ]
  },
  {
   "cell_type": "code",
   "execution_count": 17,
   "metadata": {
    "execution": {
     "iopub.execute_input": "2021-11-30T13:18:37.326031Z",
     "iopub.status.busy": "2021-11-30T13:18:37.325800Z",
     "iopub.status.idle": "2021-11-30T13:18:37.425769Z",
     "shell.execute_reply": "2021-11-30T13:18:37.425180Z",
     "shell.execute_reply.started": "2021-11-30T13:18:37.326005Z"
    }
   },
   "outputs": [
    {
     "data": {
      "text/html": [
       "<div>\n",
       "<style scoped>\n",
       "    .dataframe tbody tr th:only-of-type {\n",
       "        vertical-align: middle;\n",
       "    }\n",
       "\n",
       "    .dataframe tbody tr th {\n",
       "        vertical-align: top;\n",
       "    }\n",
       "\n",
       "    .dataframe thead th {\n",
       "        text-align: right;\n",
       "    }\n",
       "</style>\n",
       "<table border=\"1\" class=\"dataframe\">\n",
       "  <thead>\n",
       "    <tr style=\"text-align: right;\">\n",
       "      <th></th>\n",
       "      <th>Sex</th>\n",
       "      <th>Race</th>\n",
       "      <th>Workclass</th>\n",
       "      <th>Age</th>\n",
       "      <th>fnlwgt</th>\n",
       "      <th>Education-Num</th>\n",
       "      <th>Capital Gain</th>\n",
       "      <th>Capital Loss</th>\n",
       "      <th>Hours per week</th>\n",
       "    </tr>\n",
       "  </thead>\n",
       "  <tbody>\n",
       "    <tr>\n",
       "      <th>0</th>\n",
       "      <td>1.000</td>\n",
       "      <td>0.000</td>\n",
       "      <td>1.000</td>\n",
       "      <td>39.000</td>\n",
       "      <td>77516.000</td>\n",
       "      <td>13.000</td>\n",
       "      <td>2174.000</td>\n",
       "      <td>0.000</td>\n",
       "      <td>40.000</td>\n",
       "    </tr>\n",
       "    <tr>\n",
       "      <th>1</th>\n",
       "      <td>1.000</td>\n",
       "      <td>0.000</td>\n",
       "      <td>1.000</td>\n",
       "      <td>50.000</td>\n",
       "      <td>83311.000</td>\n",
       "      <td>13.000</td>\n",
       "      <td>0.000</td>\n",
       "      <td>0.000</td>\n",
       "      <td>13.000</td>\n",
       "    </tr>\n",
       "    <tr>\n",
       "      <th>2</th>\n",
       "      <td>1.000</td>\n",
       "      <td>0.000</td>\n",
       "      <td>0.000</td>\n",
       "      <td>38.000</td>\n",
       "      <td>215646.000</td>\n",
       "      <td>9.000</td>\n",
       "      <td>0.000</td>\n",
       "      <td>0.000</td>\n",
       "      <td>40.000</td>\n",
       "    </tr>\n",
       "    <tr>\n",
       "      <th>3</th>\n",
       "      <td>1.000</td>\n",
       "      <td>1.000</td>\n",
       "      <td>0.000</td>\n",
       "      <td>53.000</td>\n",
       "      <td>234721.000</td>\n",
       "      <td>7.000</td>\n",
       "      <td>0.000</td>\n",
       "      <td>0.000</td>\n",
       "      <td>40.000</td>\n",
       "    </tr>\n",
       "    <tr>\n",
       "      <th>4</th>\n",
       "      <td>0.000</td>\n",
       "      <td>1.000</td>\n",
       "      <td>0.000</td>\n",
       "      <td>28.000</td>\n",
       "      <td>338409.000</td>\n",
       "      <td>13.000</td>\n",
       "      <td>0.000</td>\n",
       "      <td>0.000</td>\n",
       "      <td>40.000</td>\n",
       "    </tr>\n",
       "  </tbody>\n",
       "</table>\n",
       "</div>"
      ],
      "text/plain": [
       "    Sex  Race  Workclass    Age     fnlwgt  Education-Num  Capital Gain  \\\n",
       "0 1.000 0.000      1.000 39.000  77516.000         13.000      2174.000   \n",
       "1 1.000 0.000      1.000 50.000  83311.000         13.000         0.000   \n",
       "2 1.000 0.000      0.000 38.000 215646.000          9.000         0.000   \n",
       "3 1.000 1.000      0.000 53.000 234721.000          7.000         0.000   \n",
       "4 0.000 1.000      0.000 28.000 338409.000         13.000         0.000   \n",
       "\n",
       "   Capital Loss  Hours per week  \n",
       "0         0.000          40.000  \n",
       "1         0.000          13.000  \n",
       "2         0.000          40.000  \n",
       "3         0.000          40.000  \n",
       "4         0.000          40.000  "
      ]
     },
     "execution_count": 17,
     "metadata": {},
     "output_type": "execute_result"
    }
   ],
   "source": [
    "features_select = [\n",
    "                 \"Sex\",  #9 \n",
    "                 \"Race\",  #8\n",
    "                 \"Workclass\",  #1\n",
    "                 \"Age\", #0\n",
    "                 \"fnlwgt\",  #2\n",
    "                 #\"Education\",  #3\n",
    "                 \"Education-Num\",  #4\n",
    "                 #\"Marital Status\", #5\n",
    "                 #\"Occupation\",  #6\n",
    "                 #\"Relationship\",  #7\n",
    "                 \"Capital Gain\",  #10\n",
    "                 \"Capital Loss\", #11\n",
    "                 \"Hours per week\",  #12\n",
    "                 #\"Country\", #13 \n",
    "                 'capital_gain'\n",
    "                  ]\n",
    "\n",
    "adult_data = adult_data[features_select]\n",
    "\n",
    "categorical_features = []#[1, 2, 7]\n",
    "ordinal_features = ['Sex', 'Race', 'Workclass', 'capital_gain']\n",
    "\n",
    "transformer = ColumnTransformer(transformers=[('cat', OneHotEncoder(), categorical_features)], remainder='passthrough', sparse_threshold=0)\n",
    "transformer.fit(adult_data)\n",
    "\n",
    "adult_data = transformer.transform(adult_data)\n",
    "adult_data = pd.DataFrame(adult_data, columns=transformer.get_feature_names())\n",
    "\n",
    "for ordinal_feature in ordinal_features:\n",
    "    adult_data[ordinal_feature] = OrdinalEncoder().fit_transform(adult_data[ordinal_feature].values.reshape(-1, 1)).flatten()\n",
    "\n",
    "adult_data = adult_data.astype(np.float64)\n",
    "\n",
    "    \n",
    "X_data_adult = adult_data.drop(['capital_gain'], axis = 1)\n",
    "\n",
    "y_data_adult = adult_data['capital_gain']\n",
    "#le = LabelEncoder()\n",
    "#le.fit(y_data_adult)\n",
    "#y_data_adult = le.transform(y_data_adult)\n",
    "#class_names = le.classes_\n",
    "\n",
    "\n",
    "X_data_adult.head()"
   ]
  },
  {
   "cell_type": "code",
   "execution_count": 18,
   "metadata": {
    "execution": {
     "iopub.execute_input": "2021-11-30T13:18:37.429597Z",
     "iopub.status.busy": "2021-11-30T13:18:37.429336Z",
     "iopub.status.idle": "2021-11-30T13:18:37.435067Z",
     "shell.execute_reply": "2021-11-30T13:18:37.434524Z",
     "shell.execute_reply.started": "2021-11-30T13:18:37.429571Z"
    }
   },
   "outputs": [
    {
     "data": {
      "text/plain": [
       "0.000    24720\n",
       "1.000     7841\n",
       "Name: capital_gain, dtype: int64"
      ]
     },
     "execution_count": 18,
     "metadata": {},
     "output_type": "execute_result"
    }
   ],
   "source": [
    "adult_data['capital_gain'].value_counts()\n"
   ]
  },
  {
   "cell_type": "code",
   "execution_count": 19,
   "metadata": {
    "execution": {
     "iopub.execute_input": "2021-11-30T13:18:37.436523Z",
     "iopub.status.busy": "2021-11-30T13:18:37.436039Z",
     "iopub.status.idle": "2021-11-30T13:18:37.462136Z",
     "shell.execute_reply": "2021-11-30T13:18:37.461542Z",
     "shell.execute_reply.started": "2021-11-30T13:18:37.436497Z"
    }
   },
   "outputs": [
    {
     "data": {
      "text/html": [
       "<div>\n",
       "<style scoped>\n",
       "    .dataframe tbody tr th:only-of-type {\n",
       "        vertical-align: middle;\n",
       "    }\n",
       "\n",
       "    .dataframe tbody tr th {\n",
       "        vertical-align: top;\n",
       "    }\n",
       "\n",
       "    .dataframe thead th {\n",
       "        text-align: right;\n",
       "    }\n",
       "</style>\n",
       "<table border=\"1\" class=\"dataframe\">\n",
       "  <thead>\n",
       "    <tr style=\"text-align: right;\">\n",
       "      <th></th>\n",
       "      <th>Sex</th>\n",
       "      <th>Race</th>\n",
       "      <th>Workclass</th>\n",
       "      <th>Age</th>\n",
       "      <th>fnlwgt</th>\n",
       "      <th>Education-Num</th>\n",
       "      <th>Capital Gain</th>\n",
       "      <th>Capital Loss</th>\n",
       "      <th>Hours per week</th>\n",
       "      <th>zero_dummy_1</th>\n",
       "    </tr>\n",
       "  </thead>\n",
       "  <tbody>\n",
       "    <tr>\n",
       "      <th>0</th>\n",
       "      <td>1.000</td>\n",
       "      <td>0.000</td>\n",
       "      <td>1.000</td>\n",
       "      <td>39.000</td>\n",
       "      <td>77516.000</td>\n",
       "      <td>13.000</td>\n",
       "      <td>2174.000</td>\n",
       "      <td>0.000</td>\n",
       "      <td>40.000</td>\n",
       "      <td>0.000</td>\n",
       "    </tr>\n",
       "    <tr>\n",
       "      <th>1</th>\n",
       "      <td>1.000</td>\n",
       "      <td>0.000</td>\n",
       "      <td>1.000</td>\n",
       "      <td>50.000</td>\n",
       "      <td>83311.000</td>\n",
       "      <td>13.000</td>\n",
       "      <td>0.000</td>\n",
       "      <td>0.000</td>\n",
       "      <td>13.000</td>\n",
       "      <td>0.000</td>\n",
       "    </tr>\n",
       "    <tr>\n",
       "      <th>2</th>\n",
       "      <td>1.000</td>\n",
       "      <td>0.000</td>\n",
       "      <td>0.000</td>\n",
       "      <td>38.000</td>\n",
       "      <td>215646.000</td>\n",
       "      <td>9.000</td>\n",
       "      <td>0.000</td>\n",
       "      <td>0.000</td>\n",
       "      <td>40.000</td>\n",
       "      <td>0.000</td>\n",
       "    </tr>\n",
       "    <tr>\n",
       "      <th>3</th>\n",
       "      <td>1.000</td>\n",
       "      <td>1.000</td>\n",
       "      <td>0.000</td>\n",
       "      <td>53.000</td>\n",
       "      <td>234721.000</td>\n",
       "      <td>7.000</td>\n",
       "      <td>0.000</td>\n",
       "      <td>0.000</td>\n",
       "      <td>40.000</td>\n",
       "      <td>0.000</td>\n",
       "    </tr>\n",
       "    <tr>\n",
       "      <th>4</th>\n",
       "      <td>0.000</td>\n",
       "      <td>1.000</td>\n",
       "      <td>0.000</td>\n",
       "      <td>28.000</td>\n",
       "      <td>338409.000</td>\n",
       "      <td>13.000</td>\n",
       "      <td>0.000</td>\n",
       "      <td>0.000</td>\n",
       "      <td>40.000</td>\n",
       "      <td>0.000</td>\n",
       "    </tr>\n",
       "  </tbody>\n",
       "</table>\n",
       "</div>"
      ],
      "text/plain": [
       "    Sex  Race  Workclass    Age     fnlwgt  Education-Num  Capital Gain  \\\n",
       "0 1.000 0.000      1.000 39.000  77516.000         13.000      2174.000   \n",
       "1 1.000 0.000      1.000 50.000  83311.000         13.000         0.000   \n",
       "2 1.000 0.000      0.000 38.000 215646.000          9.000         0.000   \n",
       "3 1.000 1.000      0.000 53.000 234721.000          7.000         0.000   \n",
       "4 0.000 1.000      0.000 28.000 338409.000         13.000         0.000   \n",
       "\n",
       "   Capital Loss  Hours per week  zero_dummy_1  \n",
       "0         0.000          40.000         0.000  \n",
       "1         0.000          13.000         0.000  \n",
       "2         0.000          40.000         0.000  \n",
       "3         0.000          40.000         0.000  \n",
       "4         0.000          40.000         0.000  "
      ]
     },
     "execution_count": 19,
     "metadata": {},
     "output_type": "execute_result"
    }
   ],
   "source": [
    "if X_data_adult.shape[1] > number_of_variables:\n",
    "    X_data_adult = X_data_adult.sample(n=number_of_variables,axis='columns')\n",
    "else:\n",
    "    for i in range(number_of_variables-X_data_adult.shape[1]):\n",
    "        column_name = 'zero_dummy_' + str(i+1)\n",
    "        X_data_adult[column_name] = np.zeros(X_data_adult.shape[0])\n",
    "X_data_adult.head()"
   ]
  },
  {
   "cell_type": "code",
   "execution_count": 20,
   "metadata": {
    "execution": {
     "iopub.execute_input": "2021-11-30T13:18:37.463523Z",
     "iopub.status.busy": "2021-11-30T13:18:37.463266Z",
     "iopub.status.idle": "2021-11-30T13:18:37.482615Z",
     "shell.execute_reply": "2021-11-30T13:18:37.482067Z",
     "shell.execute_reply.started": "2021-11-30T13:18:37.463498Z"
    }
   },
   "outputs": [
    {
     "data": {
      "text/html": [
       "<div>\n",
       "<style scoped>\n",
       "    .dataframe tbody tr th:only-of-type {\n",
       "        vertical-align: middle;\n",
       "    }\n",
       "\n",
       "    .dataframe tbody tr th {\n",
       "        vertical-align: top;\n",
       "    }\n",
       "\n",
       "    .dataframe thead th {\n",
       "        text-align: right;\n",
       "    }\n",
       "</style>\n",
       "<table border=\"1\" class=\"dataframe\">\n",
       "  <thead>\n",
       "    <tr style=\"text-align: right;\">\n",
       "      <th></th>\n",
       "      <th>Sex</th>\n",
       "      <th>Race</th>\n",
       "      <th>Workclass</th>\n",
       "      <th>Age</th>\n",
       "      <th>fnlwgt</th>\n",
       "      <th>Education-Num</th>\n",
       "      <th>Capital Gain</th>\n",
       "      <th>Capital Loss</th>\n",
       "      <th>Hours per week</th>\n",
       "      <th>zero_dummy_1</th>\n",
       "    </tr>\n",
       "  </thead>\n",
       "  <tbody>\n",
       "    <tr>\n",
       "      <th>0</th>\n",
       "      <td>1.000</td>\n",
       "      <td>0.000</td>\n",
       "      <td>1.000</td>\n",
       "      <td>0.301</td>\n",
       "      <td>0.044</td>\n",
       "      <td>0.800</td>\n",
       "      <td>0.022</td>\n",
       "      <td>0.000</td>\n",
       "      <td>0.398</td>\n",
       "      <td>0.000</td>\n",
       "    </tr>\n",
       "    <tr>\n",
       "      <th>1</th>\n",
       "      <td>1.000</td>\n",
       "      <td>0.000</td>\n",
       "      <td>1.000</td>\n",
       "      <td>0.452</td>\n",
       "      <td>0.048</td>\n",
       "      <td>0.800</td>\n",
       "      <td>0.000</td>\n",
       "      <td>0.000</td>\n",
       "      <td>0.122</td>\n",
       "      <td>0.000</td>\n",
       "    </tr>\n",
       "    <tr>\n",
       "      <th>2</th>\n",
       "      <td>1.000</td>\n",
       "      <td>0.000</td>\n",
       "      <td>0.000</td>\n",
       "      <td>0.288</td>\n",
       "      <td>0.138</td>\n",
       "      <td>0.533</td>\n",
       "      <td>0.000</td>\n",
       "      <td>0.000</td>\n",
       "      <td>0.398</td>\n",
       "      <td>0.000</td>\n",
       "    </tr>\n",
       "    <tr>\n",
       "      <th>3</th>\n",
       "      <td>1.000</td>\n",
       "      <td>1.000</td>\n",
       "      <td>0.000</td>\n",
       "      <td>0.493</td>\n",
       "      <td>0.151</td>\n",
       "      <td>0.400</td>\n",
       "      <td>0.000</td>\n",
       "      <td>0.000</td>\n",
       "      <td>0.398</td>\n",
       "      <td>0.000</td>\n",
       "    </tr>\n",
       "    <tr>\n",
       "      <th>4</th>\n",
       "      <td>0.000</td>\n",
       "      <td>1.000</td>\n",
       "      <td>0.000</td>\n",
       "      <td>0.151</td>\n",
       "      <td>0.221</td>\n",
       "      <td>0.800</td>\n",
       "      <td>0.000</td>\n",
       "      <td>0.000</td>\n",
       "      <td>0.398</td>\n",
       "      <td>0.000</td>\n",
       "    </tr>\n",
       "  </tbody>\n",
       "</table>\n",
       "</div>"
      ],
      "text/plain": [
       "    Sex  Race  Workclass   Age  fnlwgt  Education-Num  Capital Gain  \\\n",
       "0 1.000 0.000      1.000 0.301   0.044          0.800         0.022   \n",
       "1 1.000 0.000      1.000 0.452   0.048          0.800         0.000   \n",
       "2 1.000 0.000      0.000 0.288   0.138          0.533         0.000   \n",
       "3 1.000 1.000      0.000 0.493   0.151          0.400         0.000   \n",
       "4 0.000 1.000      0.000 0.151   0.221          0.800         0.000   \n",
       "\n",
       "   Capital Loss  Hours per week  zero_dummy_1  \n",
       "0         0.000           0.398         0.000  \n",
       "1         0.000           0.122         0.000  \n",
       "2         0.000           0.398         0.000  \n",
       "3         0.000           0.398         0.000  \n",
       "4         0.000           0.398         0.000  "
      ]
     },
     "execution_count": 20,
     "metadata": {},
     "output_type": "execute_result"
    }
   ],
   "source": [
    "normalizer_list = []\n",
    "for column_name in X_data_adult:\n",
    "    scaler = MinMaxScaler()\n",
    "    scaler.fit(X_data_adult[column_name].values.reshape(-1, 1))\n",
    "    X_data_adult[column_name] = scaler.transform(X_data_adult[column_name].values.reshape(-1, 1)).ravel()\n",
    "    normalizer_list.append(scaler)\n",
    "X_data_adult.head()"
   ]
  },
  {
   "cell_type": "code",
   "execution_count": 21,
   "metadata": {
    "execution": {
     "iopub.execute_input": "2021-11-30T13:18:37.484036Z",
     "iopub.status.busy": "2021-11-30T13:18:37.483761Z",
     "iopub.status.idle": "2021-11-30T13:18:37.489292Z",
     "shell.execute_reply": "2021-11-30T13:18:37.488778Z",
     "shell.execute_reply.started": "2021-11-30T13:18:37.484011Z"
    },
    "tags": []
   },
   "outputs": [
    {
     "data": {
      "text/plain": [
       "0       0.000\n",
       "1       0.000\n",
       "2       0.000\n",
       "3       0.000\n",
       "4       0.000\n",
       "         ... \n",
       "32556   0.000\n",
       "32557   1.000\n",
       "32558   0.000\n",
       "32559   0.000\n",
       "32560   1.000\n",
       "Name: capital_gain, Length: 32561, dtype: float64"
      ]
     },
     "execution_count": 21,
     "metadata": {},
     "output_type": "execute_result"
    }
   ],
   "source": [
    "y_data_adult"
   ]
  },
  {
   "cell_type": "code",
   "execution_count": 22,
   "metadata": {
    "execution": {
     "iopub.execute_input": "2021-11-30T13:18:37.490333Z",
     "iopub.status.busy": "2021-11-30T13:18:37.490159Z",
     "iopub.status.idle": "2021-11-30T13:18:37.495931Z",
     "shell.execute_reply": "2021-11-30T13:18:37.495402Z",
     "shell.execute_reply.started": "2021-11-30T13:18:37.490310Z"
    },
    "tags": []
   },
   "outputs": [
    {
     "name": "stdout",
     "output_type": "stream",
     "text": [
      "True Ratio:  0.2408095574460244\n"
     ]
    }
   ],
   "source": [
    "true_labels = len(y_data_adult[y_data_adult >= 0.5 ]) \n",
    "false_labels = len(y_data_adult[y_data_adult < 0.5 ]) \n",
    "\n",
    "true_ratio = true_labels/(true_labels+false_labels)\n",
    "\n",
    "print('True Ratio: ', str(true_ratio))"
   ]
  },
  {
   "cell_type": "code",
   "execution_count": 23,
   "metadata": {
    "execution": {
     "iopub.execute_input": "2021-11-30T13:18:37.496989Z",
     "iopub.status.busy": "2021-11-30T13:18:37.496815Z",
     "iopub.status.idle": "2021-11-30T13:18:37.692500Z",
     "shell.execute_reply": "2021-11-30T13:18:37.691884Z",
     "shell.execute_reply.started": "2021-11-30T13:18:37.496967Z"
    }
   },
   "outputs": [
    {
     "name": "stdout",
     "output_type": "stream",
     "text": [
      "True Ratio:  0.5\n"
     ]
    }
   ],
   "source": [
    "if true_ratio <= 0.4 or true_ratio >= 0.6:\n",
    "    from imblearn.over_sampling import RandomOverSampler \n",
    "\n",
    "    oversample = RandomOverSampler(sampling_strategy='minority')\n",
    "\n",
    "    X_data_adult, y_data_adult = oversample.fit_resample(X_data_adult, y_data_adult)\n",
    "\n",
    "    true_labels = len(y_data_adult[y_data_adult >= 0.5 ]) \n",
    "    false_labels = len(y_data_adult[y_data_adult < 0.5 ]) \n",
    "\n",
    "    print('True Ratio: ', str(true_labels/(true_labels+false_labels)))"
   ]
  },
  {
   "cell_type": "code",
   "execution_count": 24,
   "metadata": {
    "execution": {
     "iopub.execute_input": "2021-11-30T13:18:37.694011Z",
     "iopub.status.busy": "2021-11-30T13:18:37.693711Z",
     "iopub.status.idle": "2021-11-30T13:18:37.713850Z",
     "shell.execute_reply": "2021-11-30T13:18:37.713211Z",
     "shell.execute_reply.started": "2021-11-30T13:18:37.693985Z"
    },
    "tags": []
   },
   "outputs": [
    {
     "name": "stdout",
     "output_type": "stream",
     "text": [
      "(31641, 10) (31641,)\n",
      "(7911, 10) (7911,)\n",
      "(9888, 10) (9888,)\n"
     ]
    }
   ],
   "source": [
    "X_train_adult_with_valid, X_test_adult, y_train_adult_with_valid, y_test_adult = train_test_split(X_data_adult, y_data_adult, train_size=0.8)\n",
    "X_train_adult, X_valid_adult, y_train_adult, y_valid_adult = train_test_split(X_train_adult_with_valid, y_train_adult_with_valid, train_size=0.8)\n",
    "\n",
    "print(X_train_adult.shape, y_train_adult.shape)\n",
    "print(X_valid_adult.shape, y_valid_adult.shape)\n",
    "print(X_test_adult.shape, y_test_adult.shape)"
   ]
  },
  {
   "cell_type": "code",
   "execution_count": 25,
   "metadata": {
    "execution": {
     "iopub.execute_input": "2021-11-30T13:18:37.715191Z",
     "iopub.status.busy": "2021-11-30T13:18:37.714935Z",
     "iopub.status.idle": "2021-11-30T13:21:00.641770Z",
     "shell.execute_reply": "2021-11-30T13:21:00.639518Z",
     "shell.execute_reply.started": "2021-11-30T13:18:37.715165Z"
    }
   },
   "outputs": [
    {
     "data": {
      "image/png": "[encoded data removed]",
      "text/plain": [
       "<Figure size 864x576 with 2 Axes>"
      ]
     },
     "metadata": {},
     "output_type": "display_data"
    },
    {
     "name": "stdout",
     "output_type": "stream",
     "text": [
      "binary_accuracy\n",
      "\ttraining         \t (min:    0.694, max:    0.781, cur:    0.781)\n",
      "\tvalidation       \t (min:    0.754, max:    0.778, cur:    0.778)\n",
      "Loss\n",
      "\ttraining         \t (min:    0.440, max:    0.581, cur:    0.440)\n",
      "\tvalidation       \t (min:    0.450, max:    0.509, cur:    0.450)\n"
     ]
    },
    {
     "name": "stderr",
     "output_type": "stream",
     "text": [
      "ERROR:root:Internal Python error in the inspect module.\n",
      "Below is the traceback from this internal error.\n",
      "\n"
     ]
    },
    {
     "name": "stdout",
     "output_type": "stream",
     "text": [
      "Traceback (most recent call last):\n",
      "  File \"/home/smarton/anaconda3/envs/XAI/lib/python3.8/site-packages/IPython/core/interactiveshell.py\", line 3441, in run_code\n",
      "    exec(code_obj, self.user_global_ns, self.user_ns)\n",
      "  File \"/tmp/ipykernel_655075/2904483406.py\", line 12, in <module>\n",
      "    model_history = test_network.fit(X_train_adult,\n",
      "  File \"/home/smarton/anaconda3/envs/XAI/lib/python3.8/site-packages/tensorflow/python/keras/engine/training.py\", line 1209, in fit\n",
      "    val_logs = self.evaluate(\n",
      "  File \"/home/smarton/anaconda3/envs/XAI/lib/python3.8/site-packages/tensorflow/python/keras/engine/training.py\", line 1484, in evaluate\n",
      "    tmp_logs = self.test_function(iterator)\n",
      "  File \"/home/smarton/anaconda3/envs/XAI/lib/python3.8/site-packages/tensorflow/python/eager/def_function.py\", line 889, in __call__\n",
      "    result = self._call(*args, **kwds)\n",
      "  File \"/home/smarton/anaconda3/envs/XAI/lib/python3.8/site-packages/tensorflow/python/eager/def_function.py\", line 924, in _call\n",
      "    results = self._stateful_fn(*args, **kwds)\n",
      "  File \"/home/smarton/anaconda3/envs/XAI/lib/python3.8/site-packages/tensorflow/python/eager/function.py\", line 3023, in __call__\n",
      "    return graph_function._call_flat(\n",
      "  File \"/home/smarton/anaconda3/envs/XAI/lib/python3.8/site-packages/tensorflow/python/eager/function.py\", line 1960, in _call_flat\n",
      "    return self._build_call_outputs(self._inference_function.call(\n",
      "  File \"/home/smarton/anaconda3/envs/XAI/lib/python3.8/site-packages/tensorflow/python/eager/function.py\", line 591, in call\n",
      "    outputs = execute.execute(\n",
      "  File \"/home/smarton/anaconda3/envs/XAI/lib/python3.8/site-packages/tensorflow/python/eager/execute.py\", line 59, in quick_execute\n",
      "    tensors = pywrap_tfe.TFE_Py_Execute(ctx._handle, device_name, op_name,\n",
      "KeyboardInterrupt\n",
      "\n",
      "During handling of the above exception, another exception occurred:\n",
      "\n",
      "Traceback (most recent call last):\n",
      "  File \"/home/smarton/anaconda3/envs/XAI/lib/python3.8/site-packages/IPython/core/interactiveshell.py\", line 2061, in showtraceback\n",
      "    stb = value._render_traceback_()\n",
      "AttributeError: 'KeyboardInterrupt' object has no attribute '_render_traceback_'\n",
      "\n",
      "During handling of the above exception, another exception occurred:\n",
      "\n",
      "Traceback (most recent call last):\n",
      "  File \"/home/smarton/anaconda3/envs/XAI/lib/python3.8/site-packages/IPython/core/ultratb.py\", line 1101, in get_records\n",
      "    return _fixed_getinnerframes(etb, number_of_lines_of_context, tb_offset)\n",
      "  File \"/home/smarton/anaconda3/envs/XAI/lib/python3.8/site-packages/IPython/core/ultratb.py\", line 248, in wrapped\n",
      "    return f(*args, **kwargs)\n",
      "  File \"/home/smarton/anaconda3/envs/XAI/lib/python3.8/site-packages/IPython/core/ultratb.py\", line 281, in _fixed_getinnerframes\n",
      "    records = fix_frame_records_filenames(inspect.getinnerframes(etb, context))\n",
      "  File \"/home/smarton/anaconda3/envs/XAI/lib/python3.8/inspect.py\", line 1503, in getinnerframes\n",
      "    frameinfo = (tb.tb_frame,) + getframeinfo(tb, context)\n",
      "  File \"/home/smarton/anaconda3/envs/XAI/lib/python3.8/inspect.py\", line 1461, in getframeinfo\n",
      "    filename = getsourcefile(frame) or getfile(frame)\n",
      "  File \"/home/smarton/anaconda3/envs/XAI/lib/python3.8/inspect.py\", line 708, in getsourcefile\n",
      "    if getattr(getmodule(object, filename), '__loader__', None) is not None:\n",
      "  File \"/home/smarton/anaconda3/envs/XAI/lib/python3.8/inspect.py\", line 751, in getmodule\n",
      "    f = getabsfile(module)\n",
      "  File \"/home/smarton/anaconda3/envs/XAI/lib/python3.8/inspect.py\", line 720, in getabsfile\n",
      "    _filename = getsourcefile(object) or getfile(object)\n",
      "  File \"/home/smarton/anaconda3/envs/XAI/lib/python3.8/inspect.py\", line 696, in getsourcefile\n",
      "    filename = getfile(object)\n",
      "  File \"/home/smarton/anaconda3/envs/XAI/lib/python3.8/site-packages/torch/package/package_importer.py\", line 592, in patched_getfile\n",
      "    return _orig_getfile(object)\n",
      "  File \"/home/smarton/anaconda3/envs/XAI/lib/python3.8/inspect.py\", line 657, in getfile\n",
      "    if getattr(object, '__file__', None):\n",
      "KeyboardInterrupt\n"
     ]
    },
    {
     "ename": "TypeError",
     "evalue": "object of type 'NoneType' has no len()",
     "output_type": "error",
     "traceback": [
      "\u001b[0;31m---------------------------------------------------------------------------\u001b[0m",
      "\u001b[0;31mKeyboardInterrupt\u001b[0m                         Traceback (most recent call last)",
      "    \u001b[0;31m[... skipping hidden 1 frame]\u001b[0m\n",
      "\u001b[0;32m/tmp/ipykernel_655075/2904483406.py\u001b[0m in \u001b[0;36m<module>\u001b[0;34m\u001b[0m\n\u001b[1;32m     11\u001b[0m \u001b[0;34m\u001b[0m\u001b[0m\n\u001b[0;32m---> 12\u001b[0;31m model_history = test_network.fit(X_train_adult,\n\u001b[0m\u001b[1;32m     13\u001b[0m                                   \u001b[0my_train_adult\u001b[0m\u001b[0;34m,\u001b[0m\u001b[0;34m\u001b[0m\u001b[0;34m\u001b[0m\u001b[0m\n",
      "\u001b[0;32m~/anaconda3/envs/XAI/lib/python3.8/site-packages/tensorflow/python/keras/engine/training.py\u001b[0m in \u001b[0;36mfit\u001b[0;34m(self, x, y, batch_size, epochs, verbose, callbacks, validation_split, validation_data, shuffle, class_weight, sample_weight, initial_epoch, steps_per_epoch, validation_steps, validation_batch_size, validation_freq, max_queue_size, workers, use_multiprocessing)\u001b[0m\n\u001b[1;32m   1208\u001b[0m                 steps_per_execution=self._steps_per_execution)\n\u001b[0;32m-> 1209\u001b[0;31m           val_logs = self.evaluate(\n\u001b[0m\u001b[1;32m   1210\u001b[0m               \u001b[0mx\u001b[0m\u001b[0;34m=\u001b[0m\u001b[0mval_x\u001b[0m\u001b[0;34m,\u001b[0m\u001b[0;34m\u001b[0m\u001b[0;34m\u001b[0m\u001b[0m\n",
      "\u001b[0;32m~/anaconda3/envs/XAI/lib/python3.8/site-packages/tensorflow/python/keras/engine/training.py\u001b[0m in \u001b[0;36mevaluate\u001b[0;34m(self, x, y, batch_size, verbose, sample_weight, steps, callbacks, max_queue_size, workers, use_multiprocessing, return_dict, **kwargs)\u001b[0m\n\u001b[1;32m   1483\u001b[0m               \u001b[0mcallbacks\u001b[0m\u001b[0;34m.\u001b[0m\u001b[0mon_test_batch_begin\u001b[0m\u001b[0;34m(\u001b[0m\u001b[0mstep\u001b[0m\u001b[0;34m)\u001b[0m\u001b[0;34m\u001b[0m\u001b[0;34m\u001b[0m\u001b[0m\n\u001b[0;32m-> 1484\u001b[0;31m               \u001b[0mtmp_logs\u001b[0m \u001b[0;34m=\u001b[0m \u001b[0mself\u001b[0m\u001b[0;34m.\u001b[0m\u001b[0mtest_function\u001b[0m\u001b[0;34m(\u001b[0m\u001b[0miterator\u001b[0m\u001b[0;34m)\u001b[0m\u001b[0;34m\u001b[0m\u001b[0;34m\u001b[0m\u001b[0m\n\u001b[0m\u001b[1;32m   1485\u001b[0m               \u001b[0;32mif\u001b[0m \u001b[0mdata_handler\u001b[0m\u001b[0;34m.\u001b[0m\u001b[0mshould_sync\u001b[0m\u001b[0;34m:\u001b[0m\u001b[0;34m\u001b[0m\u001b[0;34m\u001b[0m\u001b[0m\n",
      "\u001b[0;32m~/anaconda3/envs/XAI/lib/python3.8/site-packages/tensorflow/python/eager/def_function.py\u001b[0m in \u001b[0;36m__call__\u001b[0;34m(self, *args, **kwds)\u001b[0m\n\u001b[1;32m    888\u001b[0m       \u001b[0;32mwith\u001b[0m \u001b[0mOptionalXlaContext\u001b[0m\u001b[0;34m(\u001b[0m\u001b[0mself\u001b[0m\u001b[0;34m.\u001b[0m\u001b[0m_jit_compile\u001b[0m\u001b[0;34m)\u001b[0m\u001b[0;34m:\u001b[0m\u001b[0;34m\u001b[0m\u001b[0;34m\u001b[0m\u001b[0m\n\u001b[0;32m--> 889\u001b[0;31m         \u001b[0mresult\u001b[0m \u001b[0;34m=\u001b[0m \u001b[0mself\u001b[0m\u001b[0;34m.\u001b[0m\u001b[0m_call\u001b[0m\u001b[0;34m(\u001b[0m\u001b[0;34m*\u001b[0m\u001b[0margs\u001b[0m\u001b[0;34m,\u001b[0m \u001b[0;34m**\u001b[0m\u001b[0mkwds\u001b[0m\u001b[0;34m)\u001b[0m\u001b[0;34m\u001b[0m\u001b[0;34m\u001b[0m\u001b[0m\n\u001b[0m\u001b[1;32m    890\u001b[0m \u001b[0;34m\u001b[0m\u001b[0m\n",
      "\u001b[0;32m~/anaconda3/envs/XAI/lib/python3.8/site-packages/tensorflow/python/eager/def_function.py\u001b[0m in \u001b[0;36m_call\u001b[0;34m(self, *args, **kwds)\u001b[0m\n\u001b[1;32m    923\u001b[0m       \u001b[0;31m# run the first trace but we should fail if variables are created.\u001b[0m\u001b[0;34m\u001b[0m\u001b[0;34m\u001b[0m\u001b[0;34m\u001b[0m\u001b[0m\n\u001b[0;32m--> 924\u001b[0;31m       \u001b[0mresults\u001b[0m \u001b[0;34m=\u001b[0m \u001b[0mself\u001b[0m\u001b[0;34m.\u001b[0m\u001b[0m_stateful_fn\u001b[0m\u001b[0;34m(\u001b[0m\u001b[0;34m*\u001b[0m\u001b[0margs\u001b[0m\u001b[0;34m,\u001b[0m \u001b[0;34m**\u001b[0m\u001b[0mkwds\u001b[0m\u001b[0;34m)\u001b[0m\u001b[0;34m\u001b[0m\u001b[0;34m\u001b[0m\u001b[0m\n\u001b[0m\u001b[1;32m    925\u001b[0m       \u001b[0;32mif\u001b[0m \u001b[0mself\u001b[0m\u001b[0;34m.\u001b[0m\u001b[0m_created_variables\u001b[0m\u001b[0;34m:\u001b[0m\u001b[0;34m\u001b[0m\u001b[0;34m\u001b[0m\u001b[0m\n",
      "\u001b[0;32m~/anaconda3/envs/XAI/lib/python3.8/site-packages/tensorflow/python/eager/function.py\u001b[0m in \u001b[0;36m__call__\u001b[0;34m(self, *args, **kwargs)\u001b[0m\n\u001b[1;32m   3022\u001b[0m        filtered_flat_args) = self._maybe_define_function(args, kwargs)\n\u001b[0;32m-> 3023\u001b[0;31m     return graph_function._call_flat(\n\u001b[0m\u001b[1;32m   3024\u001b[0m         filtered_flat_args, captured_inputs=graph_function.captured_inputs)  # pylint: disable=protected-access\n",
      "\u001b[0;32m~/anaconda3/envs/XAI/lib/python3.8/site-packages/tensorflow/python/eager/function.py\u001b[0m in \u001b[0;36m_call_flat\u001b[0;34m(self, args, captured_inputs, cancellation_manager)\u001b[0m\n\u001b[1;32m   1959\u001b[0m       \u001b[0;31m# No tape is watching; skip to running the function.\u001b[0m\u001b[0;34m\u001b[0m\u001b[0;34m\u001b[0m\u001b[0;34m\u001b[0m\u001b[0m\n\u001b[0;32m-> 1960\u001b[0;31m       return self._build_call_outputs(self._inference_function.call(\n\u001b[0m\u001b[1;32m   1961\u001b[0m           ctx, args, cancellation_manager=cancellation_manager))\n",
      "\u001b[0;32m~/anaconda3/envs/XAI/lib/python3.8/site-packages/tensorflow/python/eager/function.py\u001b[0m in \u001b[0;36mcall\u001b[0;34m(self, ctx, args, cancellation_manager)\u001b[0m\n\u001b[1;32m    590\u001b[0m         \u001b[0;32mif\u001b[0m \u001b[0mcancellation_manager\u001b[0m \u001b[0;32mis\u001b[0m \u001b[0;32mNone\u001b[0m\u001b[0;34m:\u001b[0m\u001b[0;34m\u001b[0m\u001b[0;34m\u001b[0m\u001b[0m\n\u001b[0;32m--> 591\u001b[0;31m           outputs = execute.execute(\n\u001b[0m\u001b[1;32m    592\u001b[0m               \u001b[0mstr\u001b[0m\u001b[0;34m(\u001b[0m\u001b[0mself\u001b[0m\u001b[0;34m.\u001b[0m\u001b[0msignature\u001b[0m\u001b[0;34m.\u001b[0m\u001b[0mname\u001b[0m\u001b[0;34m)\u001b[0m\u001b[0;34m,\u001b[0m\u001b[0;34m\u001b[0m\u001b[0;34m\u001b[0m\u001b[0m\n",
      "\u001b[0;32m~/anaconda3/envs/XAI/lib/python3.8/site-packages/tensorflow/python/eager/execute.py\u001b[0m in \u001b[0;36mquick_execute\u001b[0;34m(op_name, num_outputs, inputs, attrs, ctx, name)\u001b[0m\n\u001b[1;32m     58\u001b[0m     \u001b[0mctx\u001b[0m\u001b[0;34m.\u001b[0m\u001b[0mensure_initialized\u001b[0m\u001b[0;34m(\u001b[0m\u001b[0;34m)\u001b[0m\u001b[0;34m\u001b[0m\u001b[0;34m\u001b[0m\u001b[0m\n\u001b[0;32m---> 59\u001b[0;31m     tensors = pywrap_tfe.TFE_Py_Execute(ctx._handle, device_name, op_name,\n\u001b[0m\u001b[1;32m     60\u001b[0m                                         inputs, attrs, num_outputs)\n",
      "\u001b[0;31mKeyboardInterrupt\u001b[0m: ",
      "\nDuring handling of the above exception, another exception occurred:\n",
      "\u001b[0;31mAttributeError\u001b[0m                            Traceback (most recent call last)",
      "\u001b[0;32m~/anaconda3/envs/XAI/lib/python3.8/site-packages/IPython/core/interactiveshell.py\u001b[0m in \u001b[0;36mshowtraceback\u001b[0;34m(self, exc_tuple, filename, tb_offset, exception_only, running_compiled_code)\u001b[0m\n\u001b[1;32m   2060\u001b[0m                         \u001b[0;31m# in the engines. This should return a list of strings.\u001b[0m\u001b[0;34m\u001b[0m\u001b[0;34m\u001b[0m\u001b[0;34m\u001b[0m\u001b[0m\n\u001b[0;32m-> 2061\u001b[0;31m                         \u001b[0mstb\u001b[0m \u001b[0;34m=\u001b[0m \u001b[0mvalue\u001b[0m\u001b[0;34m.\u001b[0m\u001b[0m_render_traceback_\u001b[0m\u001b[0;34m(\u001b[0m\u001b[0;34m)\u001b[0m\u001b[0;34m\u001b[0m\u001b[0;34m\u001b[0m\u001b[0m\n\u001b[0m\u001b[1;32m   2062\u001b[0m                     \u001b[0;32mexcept\u001b[0m \u001b[0mException\u001b[0m\u001b[0;34m:\u001b[0m\u001b[0;34m\u001b[0m\u001b[0;34m\u001b[0m\u001b[0m\n",
      "\u001b[0;31mAttributeError\u001b[0m: 'KeyboardInterrupt' object has no attribute '_render_traceback_'",
      "\nDuring handling of the above exception, another exception occurred:\n",
      "\u001b[0;31mTypeError\u001b[0m                                 Traceback (most recent call last)",
      "    \u001b[0;31m[... skipping hidden 1 frame]\u001b[0m\n",
      "\u001b[0;32m~/anaconda3/envs/XAI/lib/python3.8/site-packages/IPython/core/interactiveshell.py\u001b[0m in \u001b[0;36mshowtraceback\u001b[0;34m(self, exc_tuple, filename, tb_offset, exception_only, running_compiled_code)\u001b[0m\n\u001b[1;32m   2061\u001b[0m                         \u001b[0mstb\u001b[0m \u001b[0;34m=\u001b[0m \u001b[0mvalue\u001b[0m\u001b[0;34m.\u001b[0m\u001b[0m_render_traceback_\u001b[0m\u001b[0;34m(\u001b[0m\u001b[0;34m)\u001b[0m\u001b[0;34m\u001b[0m\u001b[0;34m\u001b[0m\u001b[0m\n\u001b[1;32m   2062\u001b[0m                     \u001b[0;32mexcept\u001b[0m \u001b[0mException\u001b[0m\u001b[0;34m:\u001b[0m\u001b[0;34m\u001b[0m\u001b[0;34m\u001b[0m\u001b[0m\n\u001b[0;32m-> 2063\u001b[0;31m                         stb = self.InteractiveTB.structured_traceback(etype,\n\u001b[0m\u001b[1;32m   2064\u001b[0m                                             value, tb, tb_offset=tb_offset)\n\u001b[1;32m   2065\u001b[0m \u001b[0;34m\u001b[0m\u001b[0m\n",
      "\u001b[0;32m~/anaconda3/envs/XAI/lib/python3.8/site-packages/IPython/core/ultratb.py\u001b[0m in \u001b[0;36mstructured_traceback\u001b[0;34m(self, etype, value, tb, tb_offset, number_of_lines_of_context)\u001b[0m\n\u001b[1;32m   1365\u001b[0m         \u001b[0;32melse\u001b[0m\u001b[0;34m:\u001b[0m\u001b[0;34m\u001b[0m\u001b[0;34m\u001b[0m\u001b[0m\n\u001b[1;32m   1366\u001b[0m             \u001b[0mself\u001b[0m\u001b[0;34m.\u001b[0m\u001b[0mtb\u001b[0m \u001b[0;34m=\u001b[0m \u001b[0mtb\u001b[0m\u001b[0;34m\u001b[0m\u001b[0;34m\u001b[0m\u001b[0m\n\u001b[0;32m-> 1367\u001b[0;31m         return FormattedTB.structured_traceback(\n\u001b[0m\u001b[1;32m   1368\u001b[0m             self, etype, value, tb, tb_offset, number_of_lines_of_context)\n\u001b[1;32m   1369\u001b[0m \u001b[0;34m\u001b[0m\u001b[0m\n",
      "\u001b[0;32m~/anaconda3/envs/XAI/lib/python3.8/site-packages/IPython/core/ultratb.py\u001b[0m in \u001b[0;36mstructured_traceback\u001b[0;34m(self, etype, value, tb, tb_offset, number_of_lines_of_context)\u001b[0m\n\u001b[1;32m   1265\u001b[0m         \u001b[0;32mif\u001b[0m \u001b[0mmode\u001b[0m \u001b[0;32min\u001b[0m \u001b[0mself\u001b[0m\u001b[0;34m.\u001b[0m\u001b[0mverbose_modes\u001b[0m\u001b[0;34m:\u001b[0m\u001b[0;34m\u001b[0m\u001b[0;34m\u001b[0m\u001b[0m\n\u001b[1;32m   1266\u001b[0m             \u001b[0;31m# Verbose modes need a full traceback\u001b[0m\u001b[0;34m\u001b[0m\u001b[0;34m\u001b[0m\u001b[0;34m\u001b[0m\u001b[0m\n\u001b[0;32m-> 1267\u001b[0;31m             return VerboseTB.structured_traceback(\n\u001b[0m\u001b[1;32m   1268\u001b[0m                 \u001b[0mself\u001b[0m\u001b[0;34m,\u001b[0m \u001b[0metype\u001b[0m\u001b[0;34m,\u001b[0m \u001b[0mvalue\u001b[0m\u001b[0;34m,\u001b[0m \u001b[0mtb\u001b[0m\u001b[0;34m,\u001b[0m \u001b[0mtb_offset\u001b[0m\u001b[0;34m,\u001b[0m \u001b[0mnumber_of_lines_of_context\u001b[0m\u001b[0;34m\u001b[0m\u001b[0;34m\u001b[0m\u001b[0m\n\u001b[1;32m   1269\u001b[0m             )\n",
      "\u001b[0;32m~/anaconda3/envs/XAI/lib/python3.8/site-packages/IPython/core/ultratb.py\u001b[0m in \u001b[0;36mstructured_traceback\u001b[0;34m(self, etype, evalue, etb, tb_offset, number_of_lines_of_context)\u001b[0m\n\u001b[1;32m   1122\u001b[0m         \u001b[0;34m\"\"\"Return a nice text document describing the traceback.\"\"\"\u001b[0m\u001b[0;34m\u001b[0m\u001b[0;34m\u001b[0m\u001b[0m\n\u001b[1;32m   1123\u001b[0m \u001b[0;34m\u001b[0m\u001b[0m\n\u001b[0;32m-> 1124\u001b[0;31m         formatted_exception = self.format_exception_as_a_whole(etype, evalue, etb, number_of_lines_of_context,\n\u001b[0m\u001b[1;32m   1125\u001b[0m                                                                tb_offset)\n\u001b[1;32m   1126\u001b[0m \u001b[0;34m\u001b[0m\u001b[0m\n",
      "\u001b[0;32m~/anaconda3/envs/XAI/lib/python3.8/site-packages/IPython/core/ultratb.py\u001b[0m in \u001b[0;36mformat_exception_as_a_whole\u001b[0;34m(self, etype, evalue, etb, number_of_lines_of_context, tb_offset)\u001b[0m\n\u001b[1;32m   1080\u001b[0m \u001b[0;34m\u001b[0m\u001b[0m\n\u001b[1;32m   1081\u001b[0m \u001b[0;34m\u001b[0m\u001b[0m\n\u001b[0;32m-> 1082\u001b[0;31m         \u001b[0mlast_unique\u001b[0m\u001b[0;34m,\u001b[0m \u001b[0mrecursion_repeat\u001b[0m \u001b[0;34m=\u001b[0m \u001b[0mfind_recursion\u001b[0m\u001b[0;34m(\u001b[0m\u001b[0morig_etype\u001b[0m\u001b[0;34m,\u001b[0m \u001b[0mevalue\u001b[0m\u001b[0;34m,\u001b[0m \u001b[0mrecords\u001b[0m\u001b[0;34m)\u001b[0m\u001b[0;34m\u001b[0m\u001b[0;34m\u001b[0m\u001b[0m\n\u001b[0m\u001b[1;32m   1083\u001b[0m \u001b[0;34m\u001b[0m\u001b[0m\n\u001b[1;32m   1084\u001b[0m         \u001b[0mframes\u001b[0m \u001b[0;34m=\u001b[0m \u001b[0mself\u001b[0m\u001b[0;34m.\u001b[0m\u001b[0mformat_records\u001b[0m\u001b[0;34m(\u001b[0m\u001b[0mrecords\u001b[0m\u001b[0;34m,\u001b[0m \u001b[0mlast_unique\u001b[0m\u001b[0;34m,\u001b[0m \u001b[0mrecursion_repeat\u001b[0m\u001b[0;34m)\u001b[0m\u001b[0;34m\u001b[0m\u001b[0;34m\u001b[0m\u001b[0m\n",
      "\u001b[0;32m~/anaconda3/envs/XAI/lib/python3.8/site-packages/IPython/core/ultratb.py\u001b[0m in \u001b[0;36mfind_recursion\u001b[0;34m(etype, value, records)\u001b[0m\n\u001b[1;32m    380\u001b[0m     \u001b[0;31m# first frame (from in to out) that looks different.\u001b[0m\u001b[0;34m\u001b[0m\u001b[0;34m\u001b[0m\u001b[0;34m\u001b[0m\u001b[0m\n\u001b[1;32m    381\u001b[0m     \u001b[0;32mif\u001b[0m \u001b[0;32mnot\u001b[0m \u001b[0mis_recursion_error\u001b[0m\u001b[0;34m(\u001b[0m\u001b[0metype\u001b[0m\u001b[0;34m,\u001b[0m \u001b[0mvalue\u001b[0m\u001b[0;34m,\u001b[0m \u001b[0mrecords\u001b[0m\u001b[0;34m)\u001b[0m\u001b[0;34m:\u001b[0m\u001b[0;34m\u001b[0m\u001b[0;34m\u001b[0m\u001b[0m\n\u001b[0;32m--> 382\u001b[0;31m         \u001b[0;32mreturn\u001b[0m \u001b[0mlen\u001b[0m\u001b[0;34m(\u001b[0m\u001b[0mrecords\u001b[0m\u001b[0;34m)\u001b[0m\u001b[0;34m,\u001b[0m \u001b[0;36m0\u001b[0m\u001b[0;34m\u001b[0m\u001b[0;34m\u001b[0m\u001b[0m\n\u001b[0m\u001b[1;32m    383\u001b[0m \u001b[0;34m\u001b[0m\u001b[0m\n\u001b[1;32m    384\u001b[0m     \u001b[0;31m# Select filename, lineno, func_name to track frames with\u001b[0m\u001b[0;34m\u001b[0m\u001b[0;34m\u001b[0m\u001b[0;34m\u001b[0m\u001b[0m\n",
      "\u001b[0;31mTypeError\u001b[0m: object of type 'NoneType' has no len()"
     ]
    }
   ],
   "source": [
    "test_network = generate_lambda_net_from_config(config)\n",
    "\n",
    "early_stopping = tf.keras.callbacks.EarlyStopping(monitor='val_loss', \n",
    "                                                  patience=50, \n",
    "                                                  min_delta=0.001, \n",
    "                                                  verbose=0, \n",
    "                                                  mode='min', \n",
    "                                                  restore_best_weights=True)\n",
    "\n",
    "\n",
    "\n",
    "model_history = test_network.fit(X_train_adult,\n",
    "                                  y_train_adult, \n",
    "                                  epochs=config['lambda_net']['epochs_lambda'], \n",
    "                                  batch_size=config['lambda_net']['batch_lambda'], \n",
    "                                  callbacks=[early_stopping, PlotLossesKerasTF()],\n",
    "                                  validation_data=(X_valid_adult, y_valid_adult),\n",
    "                                  verbose=0)\n",
    "\n"
   ]
  },
  {
   "cell_type": "code",
   "execution_count": null,
   "metadata": {
    "execution": {
     "iopub.status.busy": "2021-11-30T13:21:00.642629Z",
     "iopub.status.idle": "2021-11-30T13:21:00.642995Z",
     "shell.execute_reply": "2021-11-30T13:21:00.642844Z",
     "shell.execute_reply.started": "2021-11-30T13:21:00.642826Z"
    }
   },
   "outputs": [],
   "source": [
    "test_network.summary()"
   ]
  },
  {
   "cell_type": "code",
   "execution_count": null,
   "metadata": {
    "execution": {
     "iopub.status.busy": "2021-11-30T13:21:00.644183Z",
     "iopub.status.idle": "2021-11-30T13:21:00.644631Z",
     "shell.execute_reply": "2021-11-30T13:21:00.644492Z",
     "shell.execute_reply.started": "2021-11-30T13:21:00.644475Z"
    },
    "tags": []
   },
   "outputs": [],
   "source": [
    "model = generate_inet(config)\n",
    "\n",
    "target_network_parameters = shaped_network_parameters_to_array(test_network.get_weights(), config)\n",
    "\n",
    "callback_names = []\n",
    "if config['i_net']['early_stopping']:\n",
    "    callback_names.append('early_stopping')\n",
    "\n",
    "callbacks = return_callbacks_from_string(callback_names)  \n",
    "\n",
    "verbosity = 1\n",
    "\n",
    "#%autoreload 2\n",
    "############################## PREDICTION ###############################\n",
    "X_valid_single = np.array([target_network_parameters])\n",
    "X_train_single = None\n",
    "\n",
    "\n",
    "y_valid_single = np.array([[0 for _ in range(basic_function_representation_length)]])\n",
    "y_train_single_model = None#y_train[[index]].shape\n",
    "\n",
    "mult_counter = 1\n",
    "counter = 0\n",
    "for i in range(epochs):\n",
    "    \n",
    "    if i < (epochs-50): #last 50 epochs without change in dataset\n",
    "        print('Epoch ' + str(i).zfill(3) + '/' + str(epochs).zfill(3))\n",
    "\n",
    "        if counter == 0:\n",
    "            X_train_single = np.zeros((initial_parameters, number_of_lambda_weights))\n",
    "            for j in range(initial_parameters):\n",
    "                target_network_parameters_mutated = copy.deepcopy(target_network_parameters)\n",
    "\n",
    "                target_network_parameters_range = (np.min(target_network_parameters), np.max(target_network_parameters))\n",
    "                target_network_parameters_differential = target_network_parameters_range[1] - target_network_parameters_range[0]\n",
    "\n",
    "                for _ in range(mutation_number):\n",
    "                    mutation_index = random.randint(0, number_of_lambda_weights-1)\n",
    "                    mutation_level = np.random.normal(loc=0.0, scale=target_network_parameters_differential)\n",
    "                    target_network_parameters_mutated[mutation_index] = target_network_parameters_mutated[mutation_index] + mutation_level\n",
    "\n",
    "                X_train_single[j] = target_network_parameters_mutated\n",
    "\n",
    "        elif counter % (increase_interval_base*mult_counter) == 0:\n",
    "            counter = 0\n",
    "            mult_counter += 1\n",
    "            X_train_single_new = np.zeros((X_train_single.shape[0]*extension_rate, number_of_lambda_weights))\n",
    "            for j1, X_train_single_entry in enumerate(X_train_single):\n",
    "                for j2 in range(extension_rate):\n",
    "                    X_train_single_entry_mutated = copy.deepcopy(X_train_single_entry)\n",
    "\n",
    "                    X_train_single_entry_range = (np.min(X_train_single_entry), np.max(X_train_single_entry))\n",
    "                    X_train_single_entry_differential = X_train_single_entry_range[1] - X_train_single_entry_range[0]\n",
    "\n",
    "                    for _ in range(mutation_number):\n",
    "                        mutation_index = random.randint(0, number_of_lambda_weights-1)\n",
    "                        mutation_level = np.random.normal(loc=0.0, scale=X_train_single_entry_differential)\n",
    "                        X_train_single_entry_mutated[mutation_index] = X_train_single_entry_mutated[mutation_index] + mutation_level\n",
    "\n",
    "                    X_train_single_new[(j2*X_train_single.shape[0])-1+j1] = X_train_single_entry_mutated                \n",
    "\n",
    "            #X_train = X_train_new\n",
    "            X_train_single_list = [X_train_single for _ in range(extension_rate)]\n",
    "            X_train_single_list.append(X_train_single_new)\n",
    "            X_train_single = np.vstack(X_train_single_list)    \n",
    "\n",
    "        y_train_single = np.array([[0 for _ in range(basic_function_representation_length)] for _ in range(X_train_single.shape[0])])\n",
    "        y_train_single_model = np.hstack((y_train_single, X_train_single))   \n",
    "        valid_data_single = (X_valid_single, np.hstack((y_valid_single, X_valid_single)))                   \n",
    "    \n",
    "    #print(X_train_single.shape)\n",
    "    #print(y_train_single_model.shape)\n",
    "    #print(valid_data_single[0].shape, valid_data_single[1].shape)\n",
    "    \n",
    "    \n",
    "    model_history = model.fit(X_train_single,\n",
    "                      y_train_single_model,\n",
    "                      epochs=1, \n",
    "                      batch_size=config['i_net']['batch_size'], \n",
    "                      validation_data=valid_data_single,\n",
    "                      callbacks=callbacks,\n",
    "                      verbose=verbosity)\n",
    "    \n",
    "    if i == 0:\n",
    "        history = model_history.history\n",
    "    else:\n",
    "        history = mergeDict(history, model_history.history)\n",
    "\n",
    "    counter += 1\n",
    "    \n",
    "    tf.keras.backend.clear_session()\n",
    "\n",
    "if nas:\n",
    "    for trial in history: \n",
    "        print(trial.summary())\n",
    "else:\n",
    "    plt.plot(history['loss'])\n",
    "    plt.plot(history['val_loss'])\n",
    "    plt.title('model loss')\n",
    "    plt.ylabel('loss')\n",
    "    plt.xlabel('epoch')\n",
    "    plt.legend(['train', 'valid'], loc='upper left')    "
   ]
  },
  {
   "cell_type": "code",
   "execution_count": null,
   "metadata": {
    "execution": {
     "iopub.status.busy": "2021-11-30T13:21:00.645584Z",
     "iopub.status.idle": "2021-11-30T13:21:00.645906Z",
     "shell.execute_reply": "2021-11-30T13:21:00.645768Z",
     "shell.execute_reply.started": "2021-11-30T13:21:00.645751Z"
    },
    "tags": []
   },
   "outputs": [],
   "source": [
    "test_network_parameters = shaped_network_parameters_to_array(test_network.get_weights(), config)\n",
    "test_network_dt_inet = model.predict(np.array([test_network_parameters]))[0]\n",
    "\n",
    "if nas:\n",
    "    test_network_dt_inet = test_network_dt_inet[:function_representation_length]\n",
    "\n",
    "X_data_random = generate_random_data_points_custom(config['data']['x_min'], \n",
    "                                                   config['data']['x_max'],\n",
    "                                                   config['evaluation']['random_evaluation_dataset_size'], \n",
    "                                                   config['data']['number_of_variables'], \n",
    "                                                   config['data']['categorical_indices'])\n",
    "\n",
    "y_data_random_test_network_pred = test_network.predict(X_data_random)\n",
    "y_data_random_test_network_pred = np.round(y_data_random_test_network_pred).astype(np.int64)\n",
    "\n",
    "dt_sklearn_distilled = DecisionTreeClassifier(max_depth=config['function_family']['maximum_depth'])\n",
    "dt_sklearn_distilled.fit(X_data_random, y_data_random_test_network_pred)\n",
    "\n",
    "\n",
    "if dt_type == 'SDT':\n",
    "    y_test_inet_dt  = calculate_function_value_from_decision_tree_parameters_wrapper(X_test_adult, config)(test_network_dt_inet).numpy()\n",
    "elif dt_type == 'vanilla':\n",
    "    y_test_inet_dt  = calculate_function_value_from_vanilla_decision_tree_parameters_wrapper(X_test_adult, config)(test_network_dt_inet).numpy()\n",
    "y_test_distilled_sklearn_dt = dt_sklearn_distilled.predict(X_test_adult)\n",
    "\n",
    "y_test_test_network_pred = test_network.predict(X_test_adult)\n",
    "y_test_test_network_pred = np.round(y_test_test_network_pred)\n",
    "\n",
    "binary_crossentropy_distilled_sklearn_dt = log_loss(y_test_test_network_pred, y_test_distilled_sklearn_dt, labels=[0,1])\n",
    "accuracy_distilled_sklearn_dt = accuracy_score(y_test_test_network_pred, np.round(y_test_distilled_sklearn_dt))\n",
    "f1_score_distilled_sklearn_dt = f1_score(y_test_test_network_pred, np.round(y_test_distilled_sklearn_dt))\n",
    "\n",
    "binary_crossentropy_inet_dt = log_loss(y_test_test_network_pred, y_test_inet_dt, labels=[0,1])\n",
    "accuracy_inet_dt = accuracy_score(y_test_test_network_pred, np.round(y_test_inet_dt))\n",
    "f1_score_inet_dt = f1_score(y_test_test_network_pred, np.round(y_test_inet_dt))\n",
    "\n",
    "\n",
    "print('Binary Crossentropy:\\t\\t', np.round(binary_crossentropy_distilled_sklearn_dt, 3), '(Sklearn DT)' , '\\t', np.round(binary_crossentropy_inet_dt, 3), '(I-Net DT)')\n",
    "print('Accuracy:\\t\\t', np.round(accuracy_distilled_sklearn_dt, 3), '(Sklearn DT)' , '\\t', np.round(accuracy_inet_dt, 3), '(I-Net DT)')\n",
    "print('F1 Score:\\t\\t', np.round(f1_score_distilled_sklearn_dt, 3), '(Sklearn DT)' , '\\t', np.round(f1_score_inet_dt, 3), '(I-Net DT)')\n",
    "     \n"
   ]
  },
  {
   "cell_type": "code",
   "execution_count": null,
   "metadata": {
    "execution": {
     "iopub.status.busy": "2021-11-30T13:21:00.646680Z",
     "iopub.status.idle": "2021-11-30T13:21:00.647040Z",
     "shell.execute_reply": "2021-11-30T13:21:00.646889Z",
     "shell.execute_reply.started": "2021-11-30T13:21:00.646872Z"
    }
   },
   "outputs": [],
   "source": [
    "splits, leaf_classes = get_shaped_parameters_for_decision_tree(test_network_dt_inet, config)\n",
    "print(splits, leaf_classes)"
   ]
  },
  {
   "cell_type": "code",
   "execution_count": null,
   "metadata": {
    "execution": {
     "iopub.status.busy": "2021-11-30T13:21:00.647874Z",
     "iopub.status.idle": "2021-11-30T13:21:00.648218Z",
     "shell.execute_reply": "2021-11-30T13:21:00.648083Z",
     "shell.execute_reply.started": "2021-11-30T13:21:00.648067Z"
    }
   },
   "outputs": [],
   "source": [
    "#%load_ext autoreload"
   ]
  },
  {
   "cell_type": "code",
   "execution_count": null,
   "metadata": {
    "execution": {
     "iopub.status.busy": "2021-11-30T13:21:00.649104Z",
     "iopub.status.idle": "2021-11-30T13:21:00.649450Z",
     "shell.execute_reply": "2021-11-30T13:21:00.649313Z",
     "shell.execute_reply.started": "2021-11-30T13:21:00.649296Z"
    },
    "tags": []
   },
   "outputs": [],
   "source": [
    "#%autoreload 2\n",
    "image, nodes = anytree_decision_tree_from_parameters(test_network_dt_inet, config=config, normalizer_list=normalizer_list)\n",
    "image\n",
    "#tree.show()"
   ]
  },
  {
   "cell_type": "code",
   "execution_count": null,
   "metadata": {
    "execution": {
     "iopub.status.busy": "2021-11-30T13:21:00.650377Z",
     "iopub.status.idle": "2021-11-30T13:21:00.650647Z",
     "shell.execute_reply": "2021-11-30T13:21:00.650514Z",
     "shell.execute_reply.started": "2021-11-30T13:21:00.650498Z"
    }
   },
   "outputs": [],
   "source": [
    "plt.figure(figsize=(24,12))  # set plot size (denoted in inches)\n",
    "plot_tree(dt_sklearn_distilled, fontsize=12)\n",
    "plt.show()"
   ]
  },
  {
   "cell_type": "code",
   "execution_count": null,
   "metadata": {
    "execution": {
     "iopub.status.busy": "2021-11-30T13:21:00.651552Z",
     "iopub.status.idle": "2021-11-30T13:21:00.651982Z",
     "shell.execute_reply": "2021-11-30T13:21:00.651845Z",
     "shell.execute_reply.started": "2021-11-30T13:21:00.651828Z"
    }
   },
   "outputs": [],
   "source": [
    "del model"
   ]
  },
  {
   "cell_type": "markdown",
   "metadata": {},
   "source": [
    "## Titanic Dataset"
   ]
  },
  {
   "cell_type": "code",
   "execution_count": null,
   "metadata": {
    "execution": {
     "iopub.status.busy": "2021-11-30T13:21:00.653274Z",
     "iopub.status.idle": "2021-11-30T13:21:00.653581Z",
     "shell.execute_reply": "2021-11-30T13:21:00.653446Z",
     "shell.execute_reply.started": "2021-11-30T13:21:00.653430Z"
    },
    "tags": []
   },
   "outputs": [],
   "source": [
    "titanic_data = pd.read_csv(\"./real_world_datasets/Titanic/train.csv\")\n",
    "\n",
    "titanic_data.head()"
   ]
  },
  {
   "cell_type": "code",
   "execution_count": null,
   "metadata": {
    "execution": {
     "iopub.status.busy": "2021-11-30T13:21:00.654566Z",
     "iopub.status.idle": "2021-11-30T13:21:00.654871Z",
     "shell.execute_reply": "2021-11-30T13:21:00.654736Z",
     "shell.execute_reply.started": "2021-11-30T13:21:00.654719Z"
    },
    "tags": []
   },
   "outputs": [],
   "source": [
    "titanic_data.describe()"
   ]
  },
  {
   "cell_type": "code",
   "execution_count": null,
   "metadata": {
    "execution": {
     "iopub.status.busy": "2021-11-30T13:21:00.655882Z",
     "iopub.status.idle": "2021-11-30T13:21:00.656315Z",
     "shell.execute_reply": "2021-11-30T13:21:00.656053Z",
     "shell.execute_reply.started": "2021-11-30T13:21:00.656036Z"
    },
    "tags": []
   },
   "outputs": [],
   "source": [
    "titanic_data.info()"
   ]
  },
  {
   "cell_type": "code",
   "execution_count": null,
   "metadata": {
    "execution": {
     "iopub.status.busy": "2021-11-30T13:21:00.657143Z",
     "iopub.status.idle": "2021-11-30T13:21:00.657535Z",
     "shell.execute_reply": "2021-11-30T13:21:00.657398Z",
     "shell.execute_reply.started": "2021-11-30T13:21:00.657382Z"
    },
    "tags": []
   },
   "outputs": [],
   "source": [
    "titanic_data = titanic_data.drop(['Cabin', 'Ticket', 'Name', 'PassengerId'], axis = 1)\n"
   ]
  },
  {
   "cell_type": "code",
   "execution_count": null,
   "metadata": {
    "execution": {
     "iopub.status.busy": "2021-11-30T13:21:00.658346Z",
     "iopub.status.idle": "2021-11-30T13:21:00.658665Z",
     "shell.execute_reply": "2021-11-30T13:21:00.658528Z",
     "shell.execute_reply.started": "2021-11-30T13:21:00.658511Z"
    },
    "tags": []
   },
   "outputs": [],
   "source": [
    "titanic_data.isnull().sum()"
   ]
  },
  {
   "cell_type": "code",
   "execution_count": null,
   "metadata": {
    "execution": {
     "iopub.status.busy": "2021-11-30T13:21:00.659839Z",
     "iopub.status.idle": "2021-11-30T13:21:00.660145Z",
     "shell.execute_reply": "2021-11-30T13:21:00.660009Z",
     "shell.execute_reply.started": "2021-11-30T13:21:00.659992Z"
    },
    "tags": []
   },
   "outputs": [],
   "source": [
    "titanic_data['Age'].fillna(titanic_data['Age'].mean(), inplace = True)\n",
    "#titanic_data['Fare'].fillna(titanic_data['Fare'].mean(), inplace = True)\n",
    "    \n",
    "titanic_data['Embarked'].fillna('S', inplace = True)\n",
    "titanic_data.head()"
   ]
  },
  {
   "cell_type": "markdown",
   "metadata": {},
   "source": [
    "    survival\tSurvival\t0 = No, 1 = Yes\n",
    "    pclass\tTicket class\t1 = 1st, 2 = 2nd, 3 = 3rd\n",
    "    sex\tSex\t\n",
    "    Age\tAge in years\t\n",
    "    sibsp\t# of siblings / spouses aboard the Titanic\t\n",
    "    parch\t# of parents / children aboard the Titanic\t\n",
    "    ticket\tTicket number\t\n",
    "    fare\tPassenger fare\t\n",
    "    cabin\tCabin number\t\n",
    "    embarked\tPort of Embarkation\tC = Cherbourg, Q = Queenstown, S = Southampton"
   ]
  },
  {
   "cell_type": "code",
   "execution_count": null,
   "metadata": {
    "execution": {
     "iopub.status.busy": "2021-11-30T13:21:00.661103Z",
     "iopub.status.idle": "2021-11-30T13:21:00.661410Z",
     "shell.execute_reply": "2021-11-30T13:21:00.661273Z",
     "shell.execute_reply.started": "2021-11-30T13:21:00.661257Z"
    },
    "tags": []
   },
   "outputs": [],
   "source": [
    "features_select = [\n",
    "                    'Pclass',\n",
    "                    'Sex',    \n",
    "                    'Age',\n",
    "                    'SibSp',    \n",
    "                    'Parch',\n",
    "                    'Fare',    \n",
    "                    'Embarked',\n",
    "                    'Survived',    \n",
    "                  ]\n",
    "\n",
    "titanic_data = titanic_data[features_select]\n",
    "\n",
    "categorical_features = ['Embarked', 'Pclass']#[1, 2, 7]\n",
    "ordinal_features = ['Sex']\n",
    "\n",
    "transformer = ColumnTransformer(transformers=[('cat', OneHotEncoder(), categorical_features)], remainder='passthrough', sparse_threshold=0)\n",
    "transformer.fit(titanic_data)\n",
    "\n",
    "titanic_data = transformer.transform(titanic_data)\n",
    "titanic_data = pd.DataFrame(titanic_data, columns=transformer.get_feature_names())\n",
    "\n",
    "for ordinal_feature in ordinal_features:\n",
    "    titanic_data[ordinal_feature] = OrdinalEncoder().fit_transform(titanic_data[ordinal_feature].values.reshape(-1, 1)).flatten()\n",
    "\n",
    "titanic_data = titanic_data.astype(np.float64)\n",
    "\n",
    "    \n",
    "X_data_titanic = titanic_data.drop(['Survived'], axis = 1)\n",
    "y_data_titanic = titanic_data['Survived']\n",
    "X_data_titanic.head()"
   ]
  },
  {
   "cell_type": "markdown",
   "metadata": {},
   "source": [
    "    survival\tSurvival\t0 = No, 1 = Yes\n",
    "    pclass\tTicket class\t1 = 1st, 2 = 2nd, 3 = 3rd\n",
    "    sex\tSex\t\n",
    "    Age\tAge in years\t\n",
    "    sibsp\t# of siblings / spouses aboard the Titanic\t\n",
    "    parch\t# of parents / children aboard the Titanic\t\n",
    "    ticket\tTicket number\t\n",
    "    fare\tPassenger fare\t\n",
    "    cabin\tCabin number\t\n",
    "    embarked\tPort of Embarkation\tC = Cherbourg, Q = Queenstown, S = Southampton"
   ]
  },
  {
   "cell_type": "code",
   "execution_count": null,
   "metadata": {
    "execution": {
     "iopub.status.busy": "2021-11-30T13:21:00.662216Z",
     "iopub.status.idle": "2021-11-30T13:21:00.662558Z",
     "shell.execute_reply": "2021-11-30T13:21:00.662421Z",
     "shell.execute_reply.started": "2021-11-30T13:21:00.662405Z"
    },
    "tags": []
   },
   "outputs": [],
   "source": [
    "if X_data_titanic.shape[1] > number_of_variables:\n",
    "    X_data_titanic = X_data_titanic.sample(n=number_of_variables,axis='columns')\n",
    "else:\n",
    "    for i in range(number_of_variables-X_data_titanic.shape[1]):\n",
    "        column_name = 'zero_dummy_' + str(i+1)\n",
    "        X_data_titanic[column_name] = np.zeros(X_data_titanic.shape[0])\n",
    "X_data_titanic.head()"
   ]
  },
  {
   "cell_type": "code",
   "execution_count": null,
   "metadata": {
    "execution": {
     "iopub.status.busy": "2021-11-30T13:21:00.663425Z",
     "iopub.status.idle": "2021-11-30T13:21:00.663775Z",
     "shell.execute_reply": "2021-11-30T13:21:00.663638Z",
     "shell.execute_reply.started": "2021-11-30T13:21:00.663621Z"
    },
    "tags": []
   },
   "outputs": [],
   "source": [
    "categorical_indices = []\n",
    "\n",
    "for i, (column_name, column) in enumerate(adult_data.iteritems()):\n",
    "    if len(column.value_counts()) == 2:\n",
    "        categorical_indices.append(i)\n",
    "print(categorical_indices)\n",
    "\n",
    "config['data']['categorical_indices'] = categorical_indices"
   ]
  },
  {
   "cell_type": "code",
   "execution_count": null,
   "metadata": {
    "execution": {
     "iopub.status.busy": "2021-11-30T13:21:00.664625Z",
     "iopub.status.idle": "2021-11-30T13:21:00.664942Z",
     "shell.execute_reply": "2021-11-30T13:21:00.664807Z",
     "shell.execute_reply.started": "2021-11-30T13:21:00.664790Z"
    },
    "tags": []
   },
   "outputs": [],
   "source": [
    "normalizer_list = []\n",
    "for column_name in X_data_titanic:\n",
    "    scaler = MinMaxScaler()\n",
    "    scaler.fit(X_data_titanic[column_name].values.reshape(-1, 1))\n",
    "    X_data_titanic[column_name] = scaler.transform(X_data_titanic[column_name].values.reshape(-1, 1)).ravel()\n",
    "    normalizer_list.append(scaler)\n",
    "X_data_titanic.head()"
   ]
  },
  {
   "cell_type": "code",
   "execution_count": null,
   "metadata": {
    "execution": {
     "iopub.status.busy": "2021-11-30T13:21:00.665892Z",
     "iopub.status.idle": "2021-11-30T13:21:00.666161Z",
     "shell.execute_reply": "2021-11-30T13:21:00.666028Z",
     "shell.execute_reply.started": "2021-11-30T13:21:00.666013Z"
    },
    "tags": []
   },
   "outputs": [],
   "source": [
    "y_data_titanic"
   ]
  },
  {
   "cell_type": "code",
   "execution_count": null,
   "metadata": {
    "execution": {
     "iopub.status.busy": "2021-11-30T13:21:00.667119Z",
     "iopub.status.idle": "2021-11-30T13:21:00.667557Z",
     "shell.execute_reply": "2021-11-30T13:21:00.667419Z",
     "shell.execute_reply.started": "2021-11-30T13:21:00.667403Z"
    },
    "tags": []
   },
   "outputs": [],
   "source": [
    "true_labels = len(y_data_titanic[y_data_titanic >= 0.5 ]) \n",
    "false_labels = len(y_data_titanic[y_data_titanic < 0.5 ]) \n",
    "\n",
    "true_ratio = true_labels/(true_labels+false_labels)\n",
    "\n",
    "print('True Ratio: ', str(true_ratio))"
   ]
  },
  {
   "cell_type": "code",
   "execution_count": null,
   "metadata": {
    "execution": {
     "iopub.status.busy": "2021-11-30T13:21:00.668844Z",
     "iopub.status.idle": "2021-11-30T13:21:00.669151Z",
     "shell.execute_reply": "2021-11-30T13:21:00.669016Z",
     "shell.execute_reply.started": "2021-11-30T13:21:00.668999Z"
    }
   },
   "outputs": [],
   "source": [
    "if true_ratio <= 0.4 or true_ratio >= 0.6:\n",
    "    from imblearn.over_sampling import RandomOverSampler \n",
    "\n",
    "    oversample = RandomOverSampler(sampling_strategy='minority')\n",
    "\n",
    "    X_data_titanic, y_data_titanic = oversample.fit_resample(X_data_titanic, y_data_titanic)\n",
    "\n",
    "    true_labels = len(y_data_titanic[y_data_titanic >= 0.5 ]) \n",
    "    false_labels = len(y_data_titanic[y_data_titanic < 0.5 ]) \n",
    "\n",
    "    print('True Ratio: ', str(true_labels/(true_labels+false_labels)))"
   ]
  },
  {
   "cell_type": "code",
   "execution_count": null,
   "metadata": {
    "execution": {
     "iopub.status.busy": "2021-11-30T13:21:00.670142Z",
     "iopub.status.idle": "2021-11-30T13:21:00.670448Z",
     "shell.execute_reply": "2021-11-30T13:21:00.670312Z",
     "shell.execute_reply.started": "2021-11-30T13:21:00.670295Z"
    },
    "tags": []
   },
   "outputs": [],
   "source": [
    "X_train_titanic_with_valid, X_test_titanic, y_train_titanic_with_valid, y_test_titanic = train_test_split(X_data_titanic, y_data_titanic, train_size=0.8)\n",
    "X_train_titanic, X_valid_titanic, y_train_titanic, y_valid_titanic = train_test_split(X_train_titanic_with_valid, y_train_titanic_with_valid, train_size=0.8)\n",
    "\n",
    "print(X_train_titanic.shape, y_train_titanic.shape)\n",
    "print(X_valid_titanic.shape, y_valid_titanic.shape)\n",
    "print(X_test_titanic.shape, y_test_titanic.shape)"
   ]
  },
  {
   "cell_type": "code",
   "execution_count": null,
   "metadata": {
    "execution": {
     "iopub.status.busy": "2021-11-30T13:21:00.671297Z",
     "iopub.status.idle": "2021-11-30T13:21:00.671692Z",
     "shell.execute_reply": "2021-11-30T13:21:00.671555Z",
     "shell.execute_reply.started": "2021-11-30T13:21:00.671538Z"
    },
    "tags": []
   },
   "outputs": [],
   "source": [
    "test_network = generate_lambda_net_from_config(config)\n",
    "\n",
    "early_stopping = tf.keras.callbacks.EarlyStopping(monitor='val_loss', \n",
    "                                                  patience=50, \n",
    "                                                  min_delta=0.001, \n",
    "                                                  verbose=0, \n",
    "                                                  mode='min', \n",
    "                                                  restore_best_weights=True)\n",
    "\n",
    "model_history = test_network.fit(X_train_titanic,\n",
    "                                  y_train_titanic, \n",
    "                                  epochs=config['lambda_net']['epochs_lambda'], \n",
    "                                  batch_size=config['lambda_net']['batch_lambda'], \n",
    "                                  callbacks=[early_stopping, PlotLossesKerasTF()],\n",
    "                                  validation_data=(X_valid_titanic, y_valid_titanic),\n",
    "                                  verbose=0)\n",
    "\n"
   ]
  },
  {
   "cell_type": "code",
   "execution_count": null,
   "metadata": {
    "execution": {
     "iopub.status.busy": "2021-11-30T13:21:00.672742Z",
     "iopub.status.idle": "2021-11-30T13:21:00.673044Z",
     "shell.execute_reply": "2021-11-30T13:21:00.672909Z",
     "shell.execute_reply.started": "2021-11-30T13:21:00.672893Z"
    },
    "tags": []
   },
   "outputs": [],
   "source": [
    "test_network.summary()"
   ]
  },
  {
   "cell_type": "code",
   "execution_count": null,
   "metadata": {
    "execution": {
     "iopub.status.busy": "2021-11-30T13:21:00.674000Z",
     "iopub.status.idle": "2021-11-30T13:21:00.674271Z",
     "shell.execute_reply": "2021-11-30T13:21:00.674138Z",
     "shell.execute_reply.started": "2021-11-30T13:21:00.674122Z"
    }
   },
   "outputs": [],
   "source": [
    "model = generate_inet(config)\n",
    "\n",
    "target_network_parameters = shaped_network_parameters_to_array(test_network.get_weights(), config)\n",
    "\n",
    "callback_names = []\n",
    "if config['i_net']['early_stopping']:\n",
    "    callback_names.append('early_stopping')\n",
    "\n",
    "callbacks = return_callbacks_from_string(callback_names)  \n",
    "\n",
    "verbosity = 1\n",
    "\n",
    "#%autoreload 2\n",
    "############################## PREDICTION ###############################\n",
    "X_valid_single = np.array([target_network_parameters])\n",
    "X_train_single = None\n",
    "\n",
    "\n",
    "y_valid_single = np.array([[0 for _ in range(basic_function_representation_length)]])\n",
    "y_train_model_single = None#y_train[[index]].shape\n",
    "\n",
    "mult_counter = 1\n",
    "counter = 0\n",
    "for i in range(epochs):\n",
    "    \n",
    "    if i < (epochs-50): #last 50 epochs without change in dataset\n",
    "        print('Epoch ' + str(i).zfill(3) + '/' + str(epochs).zfill(3))\n",
    "\n",
    "        if counter == 0:\n",
    "            X_train_single = np.zeros((initial_parameters, number_of_lambda_weights))\n",
    "            for j in range(initial_parameters):\n",
    "                target_network_parameters_mutated = copy.deepcopy(target_network_parameters)\n",
    "\n",
    "                target_network_parameters_range = (np.min(target_network_parameters), np.max(target_network_parameters))\n",
    "                target_network_parameters_differential = target_network_parameters_range[1] - target_network_parameters_range[0]\n",
    "\n",
    "                for _ in range(mutation_number):\n",
    "                    mutation_index = random.randint(0, number_of_lambda_weights-1)\n",
    "                    mutation_level = np.random.normal(loc=0.0, scale=target_network_parameters_differential)\n",
    "                    target_network_parameters_mutated[mutation_index] = target_network_parameters_mutated[mutation_index] + mutation_level\n",
    "\n",
    "                X_train_single[j] = target_network_parameters_mutated\n",
    "\n",
    "        elif counter % (increase_interval_base*mult_counter) == 0:\n",
    "            counter = 0\n",
    "            mult_counter += 1\n",
    "            X_train_single_new = np.zeros((X_train_single.shape[0]*extension_rate, number_of_lambda_weights))\n",
    "            for j1, X_train_single_entry in enumerate(X_train_single):\n",
    "                for j2 in range(extension_rate):\n",
    "                    X_train_single_entry_mutated = copy.deepcopy(X_train_single_entry)\n",
    "\n",
    "                    X_train_single_entry_range = (np.min(X_train_single_entry), np.max(X_train_single_entry))\n",
    "                    X_train_single_entry_differential = X_train_single_entry_range[1] - X_train_single_entry_range[0]\n",
    "\n",
    "                    for _ in range(mutation_number):\n",
    "                        mutation_index = random.randint(0, number_of_lambda_weights-1)\n",
    "                        mutation_level = np.random.normal(loc=0.0, scale=X_train_single_entry_differential)\n",
    "                        X_train_single_entry_mutated[mutation_index] = X_train_single_entry_mutated[mutation_index] + mutation_level\n",
    "\n",
    "                    X_train_single_new[(j2*X_train_single.shape[0])-1+j1] = X_train_single_entry_mutated                \n",
    "\n",
    "            #X_train = X_train_new\n",
    "            X_train_single_list = [X_train_single for _ in range(extension_rate)]\n",
    "            X_train_single_list.append(X_train_single_new)\n",
    "            X_train_single = np.vstack(X_train_single_list)    \n",
    "\n",
    "        y_train_single = np.array([[0 for _ in range(basic_function_representation_length)] for _ in range(X_train_single.shape[0])])\n",
    "        y_train_single_model = np.hstack((y_train_single, X_train_single))   \n",
    "        valid_data_single = (X_valid_single, np.hstack((y_valid_single, X_valid_single)))                   \n",
    "    \n",
    "    #print(X_train_single.shape)\n",
    "    #print(y_train_single_model.shape)\n",
    "    #print(valid_data_single[0].shape, valid_data_single[1].shape)\n",
    "    \n",
    "    \n",
    "    model_history = model.fit(X_train_single,\n",
    "                      y_train_single_model,\n",
    "                      epochs=1, \n",
    "                      batch_size=config['i_net']['batch_size'], \n",
    "                      validation_data=valid_data_single,\n",
    "                      callbacks=callbacks,\n",
    "                      verbose=verbosity)\n",
    "    \n",
    "    if i == 0:\n",
    "        history = model_history.history\n",
    "    else:\n",
    "        history = mergeDict(history, model_history.history)\n",
    "\n",
    "    counter += 1\n",
    "    \n",
    "    tf.keras.backend.clear_session()\n",
    "\n",
    "if nas:\n",
    "    for trial in history: \n",
    "        print(trial.summary())\n",
    "else:\n",
    "    plt.plot(history['loss'])\n",
    "    plt.plot(history['val_loss'])\n",
    "    plt.title('model loss')\n",
    "    plt.ylabel('loss')\n",
    "    plt.xlabel('epoch')\n",
    "    plt.legend(['train', 'valid'], loc='upper left')    "
   ]
  },
  {
   "cell_type": "code",
   "execution_count": null,
   "metadata": {
    "execution": {
     "iopub.status.busy": "2021-11-30T13:21:00.675213Z",
     "iopub.status.idle": "2021-11-30T13:21:00.675634Z",
     "shell.execute_reply": "2021-11-30T13:21:00.675499Z",
     "shell.execute_reply.started": "2021-11-30T13:21:00.675482Z"
    },
    "tags": []
   },
   "outputs": [],
   "source": [
    "test_network_parameters = shaped_network_parameters_to_array(test_network.get_weights(), config)\n",
    "test_network_dt_inet = model.predict(np.array([test_network_parameters]))[0]\n",
    "\n",
    "if nas:\n",
    "    test_network_dt_inet = test_network_dt_inet[:function_representation_length]\n",
    "\n",
    "X_data_random = generate_random_data_points_custom(config['data']['x_min'], \n",
    "                                                   config['data']['x_max'],\n",
    "                                                   config['evaluation']['random_evaluation_dataset_size'], \n",
    "                                                   config['data']['number_of_variables'], \n",
    "                                                   config['data']['categorical_indices'])\n",
    "#X_data_random = X_train_titanic.values#generate_random_data_points_custom(config['data']['x_min'], config['data']['x_max'], 30, config['data']['number_of_variables'])\n",
    "\n",
    "y_data_random_test_network_pred = test_network.predict(X_data_random)\n",
    "y_data_random_test_network_pred = np.round(y_data_random_test_network_pred).astype(np.int64)\n",
    "\n",
    "dt_sklearn_distilled = DecisionTreeClassifier(max_depth=config['function_family']['maximum_depth'])\n",
    "dt_sklearn_distilled.fit(X_data_random, y_data_random_test_network_pred)\n",
    "\n",
    "\n",
    "if dt_type == 'SDT':\n",
    "    y_test_inet_dt  = calculate_function_value_from_decision_tree_parameters_wrapper(X_test_titanic, config)(test_network_dt_inet).numpy()\n",
    "elif dt_type == 'vanilla':\n",
    "    y_test_inet_dt  = calculate_function_value_from_vanilla_decision_tree_parameters_wrapper(X_test_titanic, config)(test_network_dt_inet).numpy()\n",
    "y_test_distilled_sklearn_dt = dt_sklearn_distilled.predict(X_test_titanic)\n",
    "\n",
    "y_test_test_network_pred = test_network.predict(X_test_titanic)\n",
    "y_test_test_network_pred = np.round(y_test_test_network_pred)\n",
    "\n",
    "binary_crossentropy_distilled_sklearn_dt = log_loss(y_test_test_network_pred, y_test_distilled_sklearn_dt, labels=[0,1])\n",
    "accuracy_distilled_sklearn_dt = accuracy_score(y_test_test_network_pred, np.round(y_test_distilled_sklearn_dt))\n",
    "f1_score_distilled_sklearn_dt = f1_score(y_test_test_network_pred, np.round(y_test_distilled_sklearn_dt))\n",
    "\n",
    "binary_crossentropy_inet_dt = log_loss(y_test_test_network_pred, y_test_inet_dt, labels=[0,1])\n",
    "accuracy_inet_dt = accuracy_score(y_test_test_network_pred, np.round(y_test_inet_dt))\n",
    "f1_score_inet_dt = f1_score(y_test_test_network_pred, np.round(y_test_inet_dt))\n",
    "\n",
    "\n",
    "print('Binary Crossentropy:\\t\\t', np.round(binary_crossentropy_distilled_sklearn_dt, 3), '(Sklearn DT)' , '\\t', np.round(binary_crossentropy_inet_dt, 3), '(I-Net DT)')\n",
    "print('Accuracy:\\t\\t', np.round(accuracy_distilled_sklearn_dt, 3), '(Sklearn DT)' , '\\t', np.round(accuracy_inet_dt, 3), '(I-Net DT)')\n",
    "print('F1 Score:\\t\\t', np.round(f1_score_distilled_sklearn_dt, 3), '(Sklearn DT)' , '\\t', np.round(f1_score_inet_dt, 3), '(I-Net DT)')\n",
    "     \n"
   ]
  },
  {
   "cell_type": "code",
   "execution_count": null,
   "metadata": {
    "execution": {
     "iopub.status.busy": "2021-11-30T13:21:00.676312Z",
     "iopub.status.idle": "2021-11-30T13:21:00.676756Z",
     "shell.execute_reply": "2021-11-30T13:21:00.676619Z",
     "shell.execute_reply.started": "2021-11-30T13:21:00.676602Z"
    },
    "tags": []
   },
   "outputs": [],
   "source": [
    "X_data_titanic.head(5)"
   ]
  },
  {
   "cell_type": "code",
   "execution_count": null,
   "metadata": {
    "execution": {
     "iopub.status.busy": "2021-11-30T13:21:00.677487Z",
     "iopub.status.idle": "2021-11-30T13:21:00.677791Z",
     "shell.execute_reply": "2021-11-30T13:21:00.677657Z",
     "shell.execute_reply.started": "2021-11-30T13:21:00.677640Z"
    },
    "tags": []
   },
   "outputs": [],
   "source": [
    "#%autoreload 2\n",
    "image, nodes = anytree_decision_tree_from_parameters(test_network_dt_inet, config=config, normalizer_list=normalizer_list)\n",
    "image\n",
    "#tree.show()"
   ]
  },
  {
   "cell_type": "code",
   "execution_count": null,
   "metadata": {
    "execution": {
     "iopub.status.busy": "2021-11-30T13:21:00.678697Z",
     "iopub.status.idle": "2021-11-30T13:21:00.679121Z",
     "shell.execute_reply": "2021-11-30T13:21:00.678983Z",
     "shell.execute_reply.started": "2021-11-30T13:21:00.678966Z"
    },
    "tags": []
   },
   "outputs": [],
   "source": [
    "plt.figure(figsize=(24,12))  # set plot size (denoted in inches)\n",
    "plot_tree(dt_sklearn_distilled, fontsize=12)\n",
    "plt.show()"
   ]
  },
  {
   "cell_type": "code",
   "execution_count": null,
   "metadata": {
    "execution": {
     "iopub.status.busy": "2021-11-30T13:21:00.679813Z",
     "iopub.status.idle": "2021-11-30T13:21:00.680119Z",
     "shell.execute_reply": "2021-11-30T13:21:00.679983Z",
     "shell.execute_reply.started": "2021-11-30T13:21:00.679966Z"
    },
    "tags": []
   },
   "outputs": [],
   "source": [
    "y_test_test_network_pred[:50].ravel()"
   ]
  },
  {
   "cell_type": "code",
   "execution_count": null,
   "metadata": {
    "execution": {
     "iopub.status.busy": "2021-11-30T13:21:00.681007Z",
     "iopub.status.idle": "2021-11-30T13:21:00.681314Z",
     "shell.execute_reply": "2021-11-30T13:21:00.681179Z",
     "shell.execute_reply.started": "2021-11-30T13:21:00.681162Z"
    },
    "tags": []
   },
   "outputs": [],
   "source": [
    "y_test_distilled_sklearn_dt[:50].ravel()"
   ]
  },
  {
   "cell_type": "code",
   "execution_count": null,
   "metadata": {
    "execution": {
     "iopub.status.busy": "2021-11-30T13:21:00.682163Z",
     "iopub.status.idle": "2021-11-30T13:21:00.682467Z",
     "shell.execute_reply": "2021-11-30T13:21:00.682332Z",
     "shell.execute_reply.started": "2021-11-30T13:21:00.682315Z"
    },
    "tags": []
   },
   "outputs": [],
   "source": [
    "np.round(y_test_inet_dt[:50]).ravel()"
   ]
  },
  {
   "cell_type": "code",
   "execution_count": null,
   "metadata": {
    "execution": {
     "iopub.status.busy": "2021-11-30T13:21:00.683331Z",
     "iopub.status.idle": "2021-11-30T13:21:00.683639Z",
     "shell.execute_reply": "2021-11-30T13:21:00.683505Z",
     "shell.execute_reply.started": "2021-11-30T13:21:00.683488Z"
    }
   },
   "outputs": [],
   "source": [
    "del model"
   ]
  },
  {
   "cell_type": "markdown",
   "metadata": {},
   "source": [
    "## Absenteeism at Work Dataset"
   ]
  },
  {
   "cell_type": "code",
   "execution_count": null,
   "metadata": {
    "execution": {
     "iopub.status.busy": "2021-11-30T13:21:00.684503Z",
     "iopub.status.idle": "2021-11-30T13:21:00.684809Z",
     "shell.execute_reply": "2021-11-30T13:21:00.684673Z",
     "shell.execute_reply.started": "2021-11-30T13:21:00.684656Z"
    },
    "tags": []
   },
   "outputs": [],
   "source": [
    "absenteeism_data = pd.read_csv('real_world_datasets/Absenteeism/absenteeism.csv', delimiter=';')\n",
    "\n",
    "absenteeism_data.head()"
   ]
  },
  {
   "cell_type": "code",
   "execution_count": null,
   "metadata": {
    "execution": {
     "iopub.status.busy": "2021-11-30T13:21:00.685687Z",
     "iopub.status.idle": "2021-11-30T13:21:00.685991Z",
     "shell.execute_reply": "2021-11-30T13:21:00.685856Z",
     "shell.execute_reply.started": "2021-11-30T13:21:00.685840Z"
    },
    "tags": []
   },
   "outputs": [],
   "source": [
    "absenteeism_data.describe()"
   ]
  },
  {
   "cell_type": "code",
   "execution_count": null,
   "metadata": {
    "execution": {
     "iopub.status.busy": "2021-11-30T13:21:00.686838Z",
     "iopub.status.idle": "2021-11-30T13:21:00.687153Z",
     "shell.execute_reply": "2021-11-30T13:21:00.687019Z",
     "shell.execute_reply.started": "2021-11-30T13:21:00.687003Z"
    },
    "tags": []
   },
   "outputs": [],
   "source": [
    "absenteeism_data.info()"
   ]
  },
  {
   "cell_type": "code",
   "execution_count": null,
   "metadata": {
    "execution": {
     "iopub.status.busy": "2021-11-30T13:21:00.688017Z",
     "iopub.status.idle": "2021-11-30T13:21:00.688316Z",
     "shell.execute_reply": "2021-11-30T13:21:00.688182Z",
     "shell.execute_reply.started": "2021-11-30T13:21:00.688166Z"
    },
    "tags": []
   },
   "outputs": [],
   "source": [
    "absenteeism_data.isnull().sum()"
   ]
  },
  {
   "cell_type": "code",
   "execution_count": null,
   "metadata": {
    "execution": {
     "iopub.status.busy": "2021-11-30T13:21:00.689379Z",
     "iopub.status.idle": "2021-11-30T13:21:00.689687Z",
     "shell.execute_reply": "2021-11-30T13:21:00.689551Z",
     "shell.execute_reply.started": "2021-11-30T13:21:00.689535Z"
    },
    "tags": []
   },
   "outputs": [],
   "source": [
    "features_select = [\n",
    "                           'Transportation expense', \n",
    "                           'Distance from Residence to Work',\n",
    "                           'Service time', \n",
    "                           'Age', \n",
    "                           'Work load Average/day ', \n",
    "                           'Hit target',\n",
    "                           'Disciplinary failure', \n",
    "                           'Education', \n",
    "                           'Son', \n",
    "                           'Social drinker',\n",
    "                           'Social smoker', \n",
    "                           #'Pet', \n",
    "                           'Weight', \n",
    "                           'Height', \n",
    "                           'Body mass index', \n",
    "                           'Absenteeism time in hours'\n",
    "                        ]\n",
    "\n",
    "absenteeism_data = absenteeism_data[features_select]\n",
    "\n",
    "categorical_features = ['Education', 'Son']#[1, 2, 7]\n",
    "ordinal_features = []\n",
    "\n",
    "transformer = ColumnTransformer(transformers=[('cat', OneHotEncoder(), categorical_features)], remainder='passthrough', sparse_threshold=0)\n",
    "transformer.fit(absenteeism_data)\n",
    "\n",
    "absenteeism_data = transformer.transform(absenteeism_data)\n",
    "absenteeism_data = pd.DataFrame(absenteeism_data, columns=transformer.get_feature_names())\n",
    "\n",
    "for ordinal_feature in ordinal_features:\n",
    "    absenteeism_data[ordinal_feature] = OrdinalEncoder().fit_transform(absenteeism_data[ordinal_feature].values.reshape(-1, 1)).flatten()\n",
    "\n",
    "absenteeism_data = absenteeism_data.astype(np.float64)\n",
    "\n",
    "    \n",
    "X_data_absenteeism = absenteeism_data.drop(['Absenteeism time in hours'], axis = 1)\n",
    "y_data_absenteeism = ((absenteeism_data['Absenteeism time in hours'] > 3) * 1) #absenteeism_data['Absenteeism time in hours']\n",
    "\n",
    "print(X_data_absenteeism.shape)\n",
    "\n",
    "X_data_absenteeism.head()"
   ]
  },
  {
   "cell_type": "code",
   "execution_count": null,
   "metadata": {
    "execution": {
     "iopub.status.busy": "2021-11-30T13:21:00.690668Z",
     "iopub.status.idle": "2021-11-30T13:21:00.690985Z",
     "shell.execute_reply": "2021-11-30T13:21:00.690838Z",
     "shell.execute_reply.started": "2021-11-30T13:21:00.690821Z"
    },
    "tags": []
   },
   "outputs": [],
   "source": [
    "if X_data_absenteeism.shape[1] > number_of_variables:\n",
    "    X_data_absenteeism = X_data_absenteeism.sample(n=number_of_variables,axis='columns')\n",
    "else:\n",
    "    for i in range(number_of_variables-X_data_absenteeism.shape[1]):\n",
    "        column_name = 'zero_dummy_' + str(i+1)\n",
    "        X_data_absenteeism[column_name] = np.zeros(X_data_absenteeism.shape[0])\n",
    "X_data_absenteeism.head()"
   ]
  },
  {
   "cell_type": "code",
   "execution_count": null,
   "metadata": {
    "execution": {
     "iopub.status.busy": "2021-11-30T13:21:00.691985Z",
     "iopub.status.idle": "2021-11-30T13:21:00.692409Z",
     "shell.execute_reply": "2021-11-30T13:21:00.692161Z",
     "shell.execute_reply.started": "2021-11-30T13:21:00.692145Z"
    }
   },
   "outputs": [],
   "source": [
    "categorical_indices = []\n",
    "\n",
    "for i, (column_name, column) in enumerate(adult_data.iteritems()):\n",
    "    if len(column.value_counts()) == 2:\n",
    "        categorical_indices.append(i)\n",
    "print(categorical_indices)\n",
    "\n",
    "config['data']['categorical_indices'] = categorical_indices"
   ]
  },
  {
   "cell_type": "code",
   "execution_count": null,
   "metadata": {
    "execution": {
     "iopub.status.busy": "2021-11-30T13:21:00.693302Z",
     "iopub.status.idle": "2021-11-30T13:21:00.693575Z",
     "shell.execute_reply": "2021-11-30T13:21:00.693441Z",
     "shell.execute_reply.started": "2021-11-30T13:21:00.693425Z"
    },
    "tags": []
   },
   "outputs": [],
   "source": [
    "normalizer_list = []\n",
    "for column_name in X_data_absenteeism:\n",
    "    scaler = MinMaxScaler()\n",
    "    scaler.fit(X_data_absenteeism[column_name].values.reshape(-1, 1))\n",
    "    X_data_absenteeism[column_name] = scaler.transform(X_data_absenteeism[column_name].values.reshape(-1, 1)).ravel()\n",
    "    normalizer_list.append(scaler)\n",
    "X_data_absenteeism.head()"
   ]
  },
  {
   "cell_type": "code",
   "execution_count": null,
   "metadata": {
    "execution": {
     "iopub.status.busy": "2021-11-30T13:21:00.694421Z",
     "iopub.status.idle": "2021-11-30T13:21:00.694761Z",
     "shell.execute_reply": "2021-11-30T13:21:00.694627Z",
     "shell.execute_reply.started": "2021-11-30T13:21:00.694610Z"
    },
    "tags": []
   },
   "outputs": [],
   "source": [
    "y_data_absenteeism"
   ]
  },
  {
   "cell_type": "code",
   "execution_count": null,
   "metadata": {
    "execution": {
     "iopub.status.busy": "2021-11-30T13:21:00.695998Z",
     "iopub.status.idle": "2021-11-30T13:21:00.696308Z",
     "shell.execute_reply": "2021-11-30T13:21:00.696172Z",
     "shell.execute_reply.started": "2021-11-30T13:21:00.696156Z"
    },
    "tags": []
   },
   "outputs": [],
   "source": [
    "true_labels = len(y_data_absenteeism[y_data_absenteeism >= 0.5 ]) \n",
    "false_labels = len(y_data_absenteeism[y_data_absenteeism < 0.5 ]) \n",
    "\n",
    "true_ratio = true_labels/(true_labels+false_labels)\n",
    "\n",
    "print('True Ratio: ', str(true_ratio))"
   ]
  },
  {
   "cell_type": "code",
   "execution_count": null,
   "metadata": {
    "execution": {
     "iopub.status.busy": "2021-11-30T13:21:00.697339Z",
     "iopub.status.idle": "2021-11-30T13:21:00.697653Z",
     "shell.execute_reply": "2021-11-30T13:21:00.697516Z",
     "shell.execute_reply.started": "2021-11-30T13:21:00.697500Z"
    }
   },
   "outputs": [],
   "source": [
    "if true_ratio <= 0.4 or true_ratio >= 0.6:\n",
    "    from imblearn.over_sampling import RandomOverSampler \n",
    "\n",
    "    oversample = RandomOverSampler(sampling_strategy='minority')\n",
    "\n",
    "    X_data_absenteeism, y_data_absenteeism = oversample.fit_resample(X_data_absenteeism, y_data_absenteeism)\n",
    "\n",
    "    true_labels = len(y_data_absenteeism[y_data_absenteeism >= 0.5 ]) \n",
    "    false_labels = len(y_data_absenteeism[y_data_absenteeism < 0.5 ]) \n",
    "\n",
    "    print('True Ratio: ', str(true_labels/(true_labels+false_labels)))"
   ]
  },
  {
   "cell_type": "code",
   "execution_count": null,
   "metadata": {
    "execution": {
     "iopub.status.busy": "2021-11-30T13:21:00.698588Z",
     "iopub.status.idle": "2021-11-30T13:21:00.698891Z",
     "shell.execute_reply": "2021-11-30T13:21:00.698757Z",
     "shell.execute_reply.started": "2021-11-30T13:21:00.698740Z"
    },
    "tags": []
   },
   "outputs": [],
   "source": [
    "X_train_absenteeism_with_valid, X_test_absenteeism, y_train_absenteeism_with_valid, y_test_absenteeism = train_test_split(X_data_absenteeism, y_data_absenteeism, train_size=0.8)\n",
    "X_train_absenteeism, X_valid_absenteeism, y_train_absenteeism, y_valid_absenteeism = train_test_split(X_train_absenteeism_with_valid, y_train_absenteeism_with_valid, train_size=0.8)\n",
    "\n",
    "print(X_train_absenteeism.shape, y_train_absenteeism.shape)\n",
    "print(X_valid_absenteeism.shape, y_valid_absenteeism.shape)\n",
    "print(X_test_absenteeism.shape, y_test_absenteeism.shape)"
   ]
  },
  {
   "cell_type": "code",
   "execution_count": null,
   "metadata": {
    "execution": {
     "iopub.status.busy": "2021-11-30T13:21:00.699915Z",
     "iopub.status.idle": "2021-11-30T13:21:00.700221Z",
     "shell.execute_reply": "2021-11-30T13:21:00.700087Z",
     "shell.execute_reply.started": "2021-11-30T13:21:00.700070Z"
    },
    "tags": []
   },
   "outputs": [],
   "source": [
    "test_network = generate_lambda_net_from_config(config)\n",
    "\n",
    "early_stopping = tf.keras.callbacks.EarlyStopping(monitor='val_loss', \n",
    "                                                  patience=50, \n",
    "                                                  min_delta=0.001, \n",
    "                                                  verbose=0, \n",
    "                                                  mode='min', \n",
    "                                                  restore_best_weights=True)\n",
    "\n",
    "model_history = test_network.fit(X_train_absenteeism,\n",
    "                                  y_train_absenteeism, \n",
    "                                  epochs=config['lambda_net']['epochs_lambda'], \n",
    "                                  batch_size=config['lambda_net']['batch_lambda'], \n",
    "                                  callbacks=[early_stopping, PlotLossesKerasTF()],\n",
    "                                  validation_data=(X_valid_absenteeism, y_valid_absenteeism),\n",
    "                                  verbose=0)\n",
    "\n"
   ]
  },
  {
   "cell_type": "code",
   "execution_count": null,
   "metadata": {
    "execution": {
     "iopub.status.busy": "2021-11-30T13:21:00.701303Z",
     "iopub.status.idle": "2021-11-30T13:21:00.702047Z",
     "shell.execute_reply": "2021-11-30T13:21:00.701791Z",
     "shell.execute_reply.started": "2021-11-30T13:21:00.701762Z"
    },
    "tags": []
   },
   "outputs": [],
   "source": [
    "test_network.summary()"
   ]
  },
  {
   "cell_type": "code",
   "execution_count": null,
   "metadata": {},
   "outputs": [],
   "source": []
  },
  {
   "cell_type": "code",
   "execution_count": null,
   "metadata": {
    "execution": {
     "iopub.status.busy": "2021-11-30T13:21:00.703525Z",
     "iopub.status.idle": "2021-11-30T13:21:00.704221Z",
     "shell.execute_reply": "2021-11-30T13:21:00.703961Z",
     "shell.execute_reply.started": "2021-11-30T13:21:00.703930Z"
    }
   },
   "outputs": [],
   "source": [
    "model = generate_inet(config)\n",
    "\n",
    "target_network_parameters = shaped_network_parameters_to_array(test_network.get_weights(), config)\n",
    "\n",
    "callback_names = []\n",
    "if config['i_net']['early_stopping']:\n",
    "    callback_names.append('early_stopping')\n",
    "\n",
    "callbacks = return_callbacks_from_string(callback_names)  \n",
    "\n",
    "verbosity = 1\n",
    "\n",
    "#%autoreload 2\n",
    "############################## PREDICTION ###############################\n",
    "X_valid_single = np.array([target_network_parameters])\n",
    "X_train_single = None\n",
    "\n",
    "\n",
    "y_valid_single = np.array([[0 for _ in range(basic_function_representation_length)]])\n",
    "y_train_model_single = None#y_train[[index]].shape\n",
    "\n",
    "mult_counter = 1\n",
    "counter = 0\n",
    "for i in range(epochs):\n",
    "    \n",
    "    if i < (epochs-50): #last 50 epochs without change in dataset\n",
    "        print('Epoch ' + str(i).zfill(3) + '/' + str(epochs).zfill(3))\n",
    "\n",
    "        if counter == 0:\n",
    "            X_train_single = np.zeros((initial_parameters, number_of_lambda_weights))\n",
    "            for j in range(initial_parameters):\n",
    "                target_network_parameters_mutated = copy.deepcopy(target_network_parameters)\n",
    "\n",
    "                target_network_parameters_range = (np.min(target_network_parameters), np.max(target_network_parameters))\n",
    "                target_network_parameters_differential = target_network_parameters_range[1] - target_network_parameters_range[0]\n",
    "\n",
    "                for _ in range(mutation_number):\n",
    "                    mutation_index = random.randint(0, number_of_lambda_weights-1)\n",
    "                    mutation_level = np.random.normal(loc=0.0, scale=target_network_parameters_differential)\n",
    "                    target_network_parameters_mutated[mutation_index] = target_network_parameters_mutated[mutation_index] + mutation_level\n",
    "\n",
    "                X_train_single[j] = target_network_parameters_mutated\n",
    "\n",
    "        elif counter % (increase_interval_base*mult_counter) == 0:\n",
    "            counter = 0\n",
    "            mult_counter += 1\n",
    "            X_train_single_new = np.zeros((X_train_single.shape[0]*extension_rate, number_of_lambda_weights))\n",
    "            for j1, X_train_single_entry in enumerate(X_train_single):\n",
    "                for j2 in range(extension_rate):\n",
    "                    X_train_single_entry_mutated = copy.deepcopy(X_train_single_entry)\n",
    "\n",
    "                    X_train_single_entry_range = (np.min(X_train_single_entry), np.max(X_train_single_entry))\n",
    "                    X_train_single_entry_differential = X_train_single_entry_range[1] - X_train_single_entry_range[0]\n",
    "\n",
    "                    for _ in range(mutation_number):\n",
    "                        mutation_index = random.randint(0, number_of_lambda_weights-1)\n",
    "                        mutation_level = np.random.normal(loc=0.0, scale=X_train_single_entry_differential)\n",
    "                        X_train_single_entry_mutated[mutation_index] = X_train_single_entry_mutated[mutation_index] + mutation_level\n",
    "\n",
    "                    X_train_single_new[(j2*X_train_single.shape[0])-1+j1] = X_train_single_entry_mutated                \n",
    "\n",
    "            #X_train = X_train_new\n",
    "            X_train_single_list = [X_train_single for _ in range(extension_rate)]\n",
    "            X_train_single_list.append(X_train_single_new)\n",
    "            X_train_single = np.vstack(X_train_single_list)    \n",
    "\n",
    "        y_train_single = np.array([[0 for _ in range(basic_function_representation_length)] for _ in range(X_train_single.shape[0])])\n",
    "        y_train_single_model = np.hstack((y_train_single, X_train_single))   \n",
    "        valid_data_single = (X_valid_single, np.hstack((y_valid_single, X_valid_single)))                   \n",
    "    \n",
    "    #print(X_train_single.shape)\n",
    "    #print(y_train_single_model.shape)\n",
    "    #print(valid_data_single[0].shape, valid_data_single[1].shape)\n",
    "    \n",
    "    \n",
    "    model_history = model.fit(X_train_single,\n",
    "                      y_train_single_model,\n",
    "                      epochs=1, \n",
    "                      batch_size=config['i_net']['batch_size'], \n",
    "                      validation_data=valid_data_single,\n",
    "                      callbacks=callbacks,\n",
    "                      verbose=verbosity)\n",
    "    \n",
    "    if i == 0:\n",
    "        history = model_history.history\n",
    "    else:\n",
    "        history = mergeDict(history, model_history.history)\n",
    "\n",
    "    counter += 1\n",
    "    \n",
    "    tf.keras.backend.clear_session()\n",
    "\n",
    "if nas:\n",
    "    for trial in history: \n",
    "        print(trial.summary())\n",
    "else:\n",
    "    plt.plot(history['loss'])\n",
    "    plt.plot(history['val_loss'])\n",
    "    plt.title('model loss')\n",
    "    plt.ylabel('loss')\n",
    "    plt.xlabel('epoch')\n",
    "    plt.legend(['train', 'valid'], loc='upper left')    "
   ]
  },
  {
   "cell_type": "code",
   "execution_count": null,
   "metadata": {},
   "outputs": [],
   "source": []
  },
  {
   "cell_type": "code",
   "execution_count": null,
   "metadata": {
    "execution": {
     "iopub.status.busy": "2021-11-30T13:21:00.705553Z",
     "iopub.status.idle": "2021-11-30T13:21:00.706256Z",
     "shell.execute_reply": "2021-11-30T13:21:00.705989Z",
     "shell.execute_reply.started": "2021-11-30T13:21:00.705959Z"
    },
    "tags": []
   },
   "outputs": [],
   "source": [
    "test_network_parameters = shaped_network_parameters_to_array(test_network.get_weights(), config)\n",
    "test_network_dt_inet = model.predict(np.array([test_network_parameters]))[0]\n",
    "\n",
    "if nas:\n",
    "    test_network_dt_inet = test_network_dt_inet[:function_representation_length]\n",
    "\n",
    "X_data_random = generate_random_data_points_custom(config['data']['x_min'], \n",
    "                                                   config['data']['x_max'],\n",
    "                                                   config['evaluation']['random_evaluation_dataset_size'], \n",
    "                                                   config['data']['number_of_variables'], \n",
    "                                                   config['data']['categorical_indices'])\n",
    "\n",
    "#X_data_random = X_train_absenteeism.values\n",
    "\n",
    "y_data_random_test_network_pred = test_network.predict(X_data_random)\n",
    "y_data_random_test_network_pred = np.round(y_data_random_test_network_pred).astype(np.int64)\n",
    "\n",
    "dt_sklearn_distilled = DecisionTreeClassifier(max_depth=config['function_family']['maximum_depth'])\n",
    "dt_sklearn_distilled.fit(X_data_random, y_data_random_test_network_pred)\n",
    "\n",
    "\n",
    "if dt_type == 'SDT':\n",
    "    y_test_inet_dt  = calculate_function_value_from_decision_tree_parameters_wrapper(X_test_absenteeism, config)(test_network_dt_inet).numpy()\n",
    "elif dt_type == 'vanilla':\n",
    "    y_test_inet_dt  = calculate_function_value_from_vanilla_decision_tree_parameters_wrapper(X_test_absenteeism, config)(test_network_dt_inet).numpy()\n",
    "y_test_distilled_sklearn_dt = dt_sklearn_distilled.predict(X_test_absenteeism)\n",
    "\n",
    "y_test_test_network_pred = test_network.predict(X_test_absenteeism)\n",
    "y_test_test_network_pred = np.round(y_test_test_network_pred)\n",
    "\n",
    "binary_crossentropy_distilled_sklearn_dt = log_loss(y_test_test_network_pred, y_test_distilled_sklearn_dt, labels=[0,1])\n",
    "accuracy_distilled_sklearn_dt = accuracy_score(y_test_test_network_pred, np.round(y_test_distilled_sklearn_dt))\n",
    "f1_score_distilled_sklearn_dt = f1_score(y_test_test_network_pred, np.round(y_test_distilled_sklearn_dt))\n",
    "\n",
    "binary_crossentropy_inet_dt = log_loss(y_test_test_network_pred, y_test_inet_dt, labels=[0,1])\n",
    "accuracy_inet_dt = accuracy_score(y_test_test_network_pred, np.round(y_test_inet_dt))\n",
    "f1_score_inet_dt = f1_score(y_test_test_network_pred, np.round(y_test_inet_dt))\n",
    "\n",
    "\n",
    "print('Binary Crossentropy:\\t\\t', np.round(binary_crossentropy_distilled_sklearn_dt, 3), '(Sklearn DT)' , '\\t', np.round(binary_crossentropy_inet_dt, 3), '(I-Net DT)')\n",
    "print('Accuracy:\\t\\t', np.round(accuracy_distilled_sklearn_dt, 3), '(Sklearn DT)' , '\\t', np.round(accuracy_inet_dt, 3), '(I-Net DT)')\n",
    "print('F1 Score:\\t\\t', np.round(f1_score_distilled_sklearn_dt, 3), '(Sklearn DT)' , '\\t', np.round(f1_score_inet_dt, 3), '(I-Net DT)')\n",
    "     \n"
   ]
  },
  {
   "cell_type": "code",
   "execution_count": null,
   "metadata": {
    "execution": {
     "iopub.status.busy": "2021-11-30T13:21:00.707301Z",
     "iopub.status.idle": "2021-11-30T13:21:00.707722Z",
     "shell.execute_reply": "2021-11-30T13:21:00.707587Z",
     "shell.execute_reply.started": "2021-11-30T13:21:00.707571Z"
    },
    "tags": []
   },
   "outputs": [],
   "source": [
    "X_data_absenteeism.head(5)"
   ]
  },
  {
   "cell_type": "code",
   "execution_count": null,
   "metadata": {
    "execution": {
     "iopub.status.busy": "2021-11-30T13:21:00.708619Z",
     "iopub.status.idle": "2021-11-30T13:21:00.708923Z",
     "shell.execute_reply": "2021-11-30T13:21:00.708789Z",
     "shell.execute_reply.started": "2021-11-30T13:21:00.708772Z"
    }
   },
   "outputs": [],
   "source": [
    "test_network_dt_inet"
   ]
  },
  {
   "cell_type": "code",
   "execution_count": null,
   "metadata": {
    "execution": {
     "iopub.status.busy": "2021-11-30T13:21:00.709825Z",
     "iopub.status.idle": "2021-11-30T13:21:00.710450Z",
     "shell.execute_reply": "2021-11-30T13:21:00.710133Z",
     "shell.execute_reply.started": "2021-11-30T13:21:00.710105Z"
    }
   },
   "outputs": [],
   "source": [
    "get_shaped_parameters_for_decision_tree(test_network_dt_inet, config)"
   ]
  },
  {
   "cell_type": "code",
   "execution_count": null,
   "metadata": {
    "execution": {
     "iopub.status.busy": "2021-11-30T13:21:00.723724Z",
     "iopub.status.idle": "2021-11-30T13:21:00.724988Z",
     "shell.execute_reply": "2021-11-30T13:21:00.724796Z",
     "shell.execute_reply.started": "2021-11-30T13:21:00.724769Z"
    },
    "tags": []
   },
   "outputs": [],
   "source": [
    "#%autoreload 2\n",
    "image, nodes = anytree_decision_tree_from_parameters(test_network_dt_inet, config=config, normalizer_list=normalizer_list)\n",
    "image\n",
    "#tree.show()"
   ]
  },
  {
   "cell_type": "code",
   "execution_count": null,
   "metadata": {
    "execution": {
     "iopub.status.busy": "2021-11-30T13:21:00.726148Z",
     "iopub.status.idle": "2021-11-30T13:21:00.726464Z",
     "shell.execute_reply": "2021-11-30T13:21:00.726328Z",
     "shell.execute_reply.started": "2021-11-30T13:21:00.726311Z"
    },
    "tags": []
   },
   "outputs": [],
   "source": [
    "#%autoreload 2\n",
    "image, nodes = anytree_decision_tree_from_parameters(test_network_dt_inet, config=config)\n",
    "image\n",
    "#tree.show()"
   ]
  },
  {
   "cell_type": "code",
   "execution_count": null,
   "metadata": {
    "execution": {
     "iopub.status.busy": "2021-11-30T13:21:00.727272Z",
     "iopub.status.idle": "2021-11-30T13:21:00.727539Z",
     "shell.execute_reply": "2021-11-30T13:21:00.727409Z",
     "shell.execute_reply.started": "2021-11-30T13:21:00.727394Z"
    },
    "tags": []
   },
   "outputs": [],
   "source": [
    "plt.figure(figsize=(24,12))  # set plot size (denoted in inches)\n",
    "plot_tree(dt_sklearn_distilled, fontsize=12)\n",
    "plt.show()"
   ]
  },
  {
   "cell_type": "code",
   "execution_count": null,
   "metadata": {
    "execution": {
     "iopub.status.busy": "2021-11-30T13:21:00.728702Z",
     "iopub.status.idle": "2021-11-30T13:21:00.729391Z",
     "shell.execute_reply": "2021-11-30T13:21:00.729135Z",
     "shell.execute_reply.started": "2021-11-30T13:21:00.729104Z"
    },
    "tags": []
   },
   "outputs": [],
   "source": [
    "y_test_test_network_pred[:50].ravel()"
   ]
  },
  {
   "cell_type": "code",
   "execution_count": null,
   "metadata": {
    "execution": {
     "iopub.status.busy": "2021-11-30T13:21:00.730764Z",
     "iopub.status.idle": "2021-11-30T13:21:00.731525Z",
     "shell.execute_reply": "2021-11-30T13:21:00.731230Z",
     "shell.execute_reply.started": "2021-11-30T13:21:00.731196Z"
    },
    "tags": []
   },
   "outputs": [],
   "source": [
    "y_test_distilled_sklearn_dt[:50].ravel()"
   ]
  },
  {
   "cell_type": "code",
   "execution_count": null,
   "metadata": {
    "execution": {
     "iopub.status.busy": "2021-11-30T13:21:00.732786Z",
     "iopub.status.idle": "2021-11-30T13:21:00.733508Z",
     "shell.execute_reply": "2021-11-30T13:21:00.733212Z",
     "shell.execute_reply.started": "2021-11-30T13:21:00.733178Z"
    },
    "tags": []
   },
   "outputs": [],
   "source": [
    "np.round(y_test_inet_dt[:50]).ravel()"
   ]
  },
  {
   "cell_type": "code",
   "execution_count": null,
   "metadata": {
    "execution": {
     "iopub.status.busy": "2021-11-30T13:21:00.734786Z",
     "iopub.status.idle": "2021-11-30T13:21:00.735524Z",
     "shell.execute_reply": "2021-11-30T13:21:00.735227Z",
     "shell.execute_reply.started": "2021-11-30T13:21:00.735195Z"
    }
   },
   "outputs": [],
   "source": [
    "del model"
   ]
  },
  {
   "cell_type": "code",
   "execution_count": null,
   "metadata": {
    "execution": {
     "iopub.status.busy": "2021-11-30T13:21:00.736783Z",
     "iopub.status.idle": "2021-11-30T13:21:00.737497Z",
     "shell.execute_reply": "2021-11-30T13:21:00.737206Z",
     "shell.execute_reply.started": "2021-11-30T13:21:00.737172Z"
    }
   },
   "outputs": [],
   "source": [
    "print('DONE')"
   ]
  },
  {
   "cell_type": "markdown",
   "metadata": {},
   "source": [
    "## NEXT DATASET"
   ]
  },
  {
   "cell_type": "code",
   "execution_count": null,
   "metadata": {
    "execution": {
     "iopub.status.busy": "2021-11-30T13:21:00.738740Z",
     "iopub.status.idle": "2021-11-30T13:21:00.739464Z",
     "shell.execute_reply": "2021-11-30T13:21:00.739177Z",
     "shell.execute_reply.started": "2021-11-30T13:21:00.739145Z"
    },
    "tags": []
   },
   "outputs": [],
   "source": [
    "if use_gpu:\n",
    "    from numba import cuda \n",
    "    device = cuda.get_current_device()\n",
    "    device.reset()"
   ]
  },
  {
   "cell_type": "code",
   "execution_count": null,
   "metadata": {},
   "outputs": [],
   "source": []
  }
 ],
 "metadata": {
  "kernelspec": {
   "display_name": "Python 3 (ipykernel)",
   "language": "python",
   "name": "python3"
  },
  "language_info": {
   "codemirror_mode": {
    "name": "ipython",
    "version": 3
   },
   "file_extension": ".py",
   "mimetype": "text/x-python",
   "name": "python",
   "nbconvert_exporter": "python",
   "pygments_lexer": "ipython3",
   "version": "3.8.0"
  }
 },
 "nbformat": 4,
 "nbformat_minor": 4
}
