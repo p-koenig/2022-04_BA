{
 "cells": [
  {
   "cell_type": "markdown",
   "metadata": {},
   "source": [
    "# Inerpretation-Net Training"
   ]
  },
  {
   "cell_type": "markdown",
   "metadata": {},
   "source": [
    "## Specitication of Experiment Settings"
   ]
  },
  {
   "cell_type": "code",
   "execution_count": 1,
   "metadata": {
    "execution": {
     "iopub.execute_input": "2022-01-25T12:25:04.204650Z",
     "iopub.status.busy": "2022-01-25T12:25:04.204098Z",
     "iopub.status.idle": "2022-01-25T12:25:04.235271Z",
     "shell.execute_reply": "2022-01-25T12:25:04.234447Z",
     "shell.execute_reply.started": "2022-01-25T12:25:04.204511Z"
    },
    "tags": []
   },
   "outputs": [],
   "source": [
    "#######################################################################################################################################\n",
    "###################################################### CONFIG FILE ####################################################################\n",
    "#######################################################################################################################################\n",
    "sleep_time = 0 #minutes\n",
    "\n",
    "\n",
    "config = {\n",
    "    'function_family': {\n",
    "        'maximum_depth': 4,\n",
    "        'beta': 1,\n",
    "        'decision_sparsity': 1,\n",
    "        'fully_grown': True,    \n",
    "        'dt_type': 'vanilla', #'SDT', 'vanilla'\n",
    "    },\n",
    "    'data': {\n",
    "        'number_of_variables': 10, \n",
    "        'num_classes': 2,\n",
    "        'categorical_indices': [],\n",
    "        'random_parameters_distribution': True, ##MAKEPATH DIFFERENT FILES\n",
    "        'max_distributions_per_class': 0, # None; 0; int >= 1        \n",
    "        \n",
    "        'dt_type_train': 'vanilla', # (None, 'vanilla', 'SDT')\n",
    "        'maximum_depth_train': 4, #None or int\n",
    "        'decision_sparsity_train': 1, #None or int\n",
    "        \n",
    "        'function_generation_type': 'distribtion',# 'make_classification_distribution', 'make_classification_distribution_trained', 'distribtion', 'distribtion_trained', 'make_classification', 'make_classification_trained', 'random_decision_tree', 'random_decision_tree_trained'\n",
    "        'objective': 'classification', # 'regression'\n",
    "        \n",
    "        'x_max': 1,\n",
    "        'x_min': 0,\n",
    "        'x_distrib': 'uniform', #'normal', 'uniform',       \n",
    "                \n",
    "        'lambda_dataset_size': 5000, #number of samples per function\n",
    "        #'number_of_generated_datasets': 10000,\n",
    "        \n",
    "        'noise_injected_level': 0.2, \n",
    "        'noise_injected_type': 'flip_percentage', # '' 'normal' 'uniform' 'normal_range' 'uniform_range'\n",
    "    }, \n",
    "    'lambda_net': {\n",
    "        'epochs_lambda': 200,\n",
    "        'early_stopping_lambda': True, \n",
    "        'early_stopping_min_delta_lambda': 1e-2,\n",
    "        'batch_lambda': 64,\n",
    "        'dropout_lambda': 0,\n",
    "        'lambda_network_layers': [128],\n",
    "        'optimizer_lambda': 'adam',\n",
    "        'loss_lambda': 'binary_crossentropy', #categorical_crossentropy\n",
    "        \n",
    "        'number_of_lambda_weights': None,\n",
    "        \n",
    "        'number_initializations_lambda': 1, \n",
    "        \n",
    "        'number_of_trained_lambda_nets': 999,\n",
    "    },     \n",
    "    \n",
    "    'i_net': {\n",
    "        'dense_layers': [1024, 1024, 256, 2048, 2048],#[1024, 1024, 256, 2048, 2048],\n",
    "        'convolution_layers': None,\n",
    "        'lstm_layers': None,\n",
    "        'dropout': [0.3, 0.3, 0.3, 0.3, 0.3],#[0.3, 0.3, 0.3, 0.3, 0.3],\n",
    "        'additional_hidden': False,\n",
    "        \n",
    "        'optimizer': 'adam', #adam\n",
    "        'learning_rate': 0.0001,\n",
    "        'loss': 'binary_crossentropy', #mse; binary_crossentropy; 'binary_accuracy'\n",
    "        'metrics': ['binary_accuracy'], #soft_ or _penalized\n",
    "        \n",
    "        'epochs': 2, \n",
    "        'early_stopping': True,\n",
    "        'batch_size': 256,\n",
    "\n",
    "        'interpretation_dataset_size': 29,\n",
    "                \n",
    "        'test_size': 20, #Float for fraction, Int for number 0\n",
    "        'evaluate_distribution': True,\n",
    "        'force_evaluate_real_world': False,\n",
    "        \n",
    "        'function_representation_type': 3, # 1=standard representation; 2=sparse representation with classification for variables; 3=softmax to select classes (n top probabilities)\n",
    "        'normalize_lambda_nets': False,\n",
    "\n",
    "        'optimize_decision_function': True, #False\n",
    "        'function_value_loss': True, #False\n",
    "                      \n",
    "        'data_reshape_version': None, #default to 2 options:(None, 0,1 2,3) #3=autoencoder dimensionality reduction\n",
    "        \n",
    "        'nas': False,\n",
    "        'nas_type': 'SEQUENTIAL', #options:(None, 'SEQUENTIAL', 'CNN', 'LSTM', 'CNN-LSTM', 'CNN-LSTM-parallel')      \n",
    "        'nas_trials': 60,\n",
    "    },    \n",
    "    \n",
    "    'evaluation': {   \n",
    "        #'inet_holdout_seed_evaluation': False,\n",
    "            \n",
    "        'random_evaluation_dataset_size': 500, \n",
    "        'random_evaluation_dataset_distribution': 'uniform', \n",
    "        \n",
    "        'per_network_optimization_dataset_size': 5000,\n",
    "\n",
    "        #'sklearn_dt_benchmark': False,\n",
    "        #'sdt_benchmark': False,\n",
    "        \n",
    "        'different_eval_data': False,\n",
    "        \n",
    "        'eval_data_description': {\n",
    "            ######### data #########\n",
    "            'eval_data_function_generation_type': 'make_classification',\n",
    "            'eval_data_lambda_dataset_size': 5000, #number of samples per function\n",
    "            'eval_data_noise_injected_level': 0, \n",
    "            'eval_data_noise_injected_type': 'flip_percentage', # '' 'normal' 'uniform' 'normal_range' 'uniform_range'     \n",
    "            ######### lambda_net #########\n",
    "            'eval_data_number_of_trained_lambda_nets': 100,\n",
    "            ######### i_net #########\n",
    "            'eval_data_interpretation_dataset_size': 100,\n",
    "            \n",
    "        }\n",
    "        \n",
    "    },    \n",
    "    \n",
    "    'computation':{\n",
    "        'load_model': False,\n",
    "        'n_jobs': 5,\n",
    "        'use_gpu': False,\n",
    "        'gpu_numbers': '2',\n",
    "        'RANDOM_SEED': 42,   \n",
    "        'verbosity': 0\n",
    "    }\n",
    "}\n"
   ]
  },
  {
   "cell_type": "markdown",
   "metadata": {},
   "source": [
    "## Imports"
   ]
  },
  {
   "cell_type": "code",
   "execution_count": 2,
   "metadata": {
    "execution": {
     "iopub.execute_input": "2022-01-25T12:25:04.237436Z",
     "iopub.status.busy": "2022-01-25T12:25:04.236722Z",
     "iopub.status.idle": "2022-01-25T12:25:04.272205Z",
     "shell.execute_reply": "2022-01-25T12:25:04.271401Z",
     "shell.execute_reply.started": "2022-01-25T12:25:04.237342Z"
    },
    "tags": []
   },
   "outputs": [],
   "source": [
    "#######################################################################################################################################\n",
    "########################################### IMPORT GLOBAL VARIABLES FROM CONFIG #######################################################\n",
    "#######################################################################################################################################\n",
    "globals().update(config['function_family'])\n",
    "globals().update(config['data'])\n",
    "globals().update(config['lambda_net'])\n",
    "globals().update(config['i_net'])\n",
    "globals().update(config['evaluation'])\n",
    "globals().update(config['computation'])"
   ]
  },
  {
   "cell_type": "code",
   "execution_count": 3,
   "metadata": {
    "ExecuteTime": {
     "end_time": "2021-01-08T11:56:36.233201Z",
     "start_time": "2021-01-08T11:56:36.208062Z"
    },
    "execution": {
     "iopub.execute_input": "2022-01-25T12:25:04.275791Z",
     "iopub.status.busy": "2022-01-25T12:25:04.275226Z",
     "iopub.status.idle": "2022-01-25T12:25:07.385035Z",
     "shell.execute_reply": "2022-01-25T12:25:07.384366Z",
     "shell.execute_reply.started": "2022-01-25T12:25:04.275741Z"
    },
    "tags": []
   },
   "outputs": [],
   "source": [
    "#######################################################################################################################################\n",
    "##################################################### IMPORT LIBRARIES ################################################################\n",
    "#######################################################################################################################################\n",
    "import warnings\n",
    "warnings.filterwarnings('ignore')\n",
    "import os\n",
    "os.environ['TF_CPP_MIN_LOG_LEVEL'] = '3' \n",
    "import logging\n",
    "\n",
    "import tensorflow as tf\n",
    "tf.get_logger().setLevel('ERROR')\n",
    "tf.autograph.set_verbosity(3)\n",
    "\n",
    "from itertools import product       \n",
    "from tqdm.notebook import tqdm\n",
    "import pickle\n",
    "import numpy as np\n",
    "import pandas as pd\n",
    "import scipy as sp\n",
    "import timeit\n",
    "import psutil\n",
    "\n",
    "from functools import reduce\n",
    "from more_itertools import random_product \n",
    "from sklearn.preprocessing import Normalizer\n",
    "\n",
    "import sys\n",
    "import shutil\n",
    "\n",
    "from copy import deepcopy\n",
    "import math\n",
    "import random \n",
    "\n",
    "\n",
    "import time\n",
    "from datetime import datetime\n",
    "from collections.abc import Iterable\n",
    "\n",
    "\n",
    "from joblib import Parallel, delayed\n",
    "\n",
    "from scipy.integrate import quad\n",
    "\n",
    "from sklearn.model_selection import cross_val_score, train_test_split, StratifiedKFold, KFold, ParameterGrid, ParameterSampler\n",
    "from sklearn.metrics import accuracy_score, log_loss, roc_auc_score, f1_score, mean_absolute_error, r2_score, log_loss\n",
    "from sklearn.tree import DecisionTreeClassifier, plot_tree\n",
    "from sklearn.compose import ColumnTransformer\n",
    "from sklearn.preprocessing import OneHotEncoder, MinMaxScaler, LabelEncoder, OrdinalEncoder\n",
    "from sklearn.ensemble import ExtraTreesClassifier\n",
    "from sklearn.feature_selection import SelectFromModel\n",
    "\n",
    "#import keras\n",
    "from tensorflow.keras import Sequential\n",
    "from tensorflow.keras.layers import Dense, Dropout\n",
    "from tensorflow.keras.utils import plot_model\n",
    "from tensorflow.keras.callbacks import EarlyStopping, ModelCheckpoint, ReduceLROnPlateau\n",
    "\n",
    "\n",
    "import tensorflow.keras.backend as K\n",
    "from livelossplot import PlotLossesKerasTF\n",
    "#from keras_tqdm import TQDMNotebookCallback\n",
    "\n",
    "from matplotlib import pyplot as plt\n",
    "import seaborn as sns\n",
    "\n",
    "from IPython.display import Image\n",
    "from IPython.display import display, Math, Latex, clear_output\n",
    "\n",
    "from prettytable import PrettyTable\n"
   ]
  },
  {
   "cell_type": "code",
   "execution_count": 4,
   "metadata": {
    "execution": {
     "iopub.execute_input": "2022-01-25T12:25:07.385942Z",
     "iopub.status.busy": "2022-01-25T12:25:07.385793Z",
     "iopub.status.idle": "2022-01-25T12:25:07.391119Z",
     "shell.execute_reply": "2022-01-25T12:25:07.390619Z",
     "shell.execute_reply.started": "2022-01-25T12:25:07.385922Z"
    },
    "tags": []
   },
   "outputs": [
    {
     "data": {
      "text/plain": [
       "'2.5.2'"
      ]
     },
     "execution_count": 4,
     "metadata": {},
     "output_type": "execute_result"
    }
   ],
   "source": [
    "tf.__version__"
   ]
  },
  {
   "cell_type": "code",
   "execution_count": 5,
   "metadata": {
    "execution": {
     "iopub.execute_input": "2022-01-25T12:25:07.391990Z",
     "iopub.status.busy": "2022-01-25T12:25:07.391848Z",
     "iopub.status.idle": "2022-01-25T12:25:07.413952Z",
     "shell.execute_reply": "2022-01-25T12:25:07.413230Z",
     "shell.execute_reply.started": "2022-01-25T12:25:07.391971Z"
    },
    "tags": []
   },
   "outputs": [],
   "source": [
    "#######################################################################################################################################\n",
    "################################################### VARIABLE ADJUSTMENTS ##############################################################\n",
    "#######################################################################################################################################\n",
    "\n",
    "config['i_net']['data_reshape_version'] = 2 if data_reshape_version == None and (convolution_layers != None or lstm_layers != None or (nas and nas_type != 'SEQUENTIAL')) else data_reshape_version\n",
    "config['function_family']['decision_sparsity'] = config['function_family']['decision_sparsity'] if config['function_family']['decision_sparsity'] != -1 else config['data']['number_of_variables'] \n",
    "\n",
    "#######################################################################################################################################\n",
    "###################################################### SET VARIABLES + DESIGN #########################################################\n",
    "#######################################################################################################################################\n",
    "\n",
    "#os.environ['TF_CPP_MIN_LOG_LEVEL'] = '2' \n",
    "os.environ['CUDA_VISIBLE_DEVICES'] = gpu_numbers if use_gpu else ''\n",
    "os.environ['TF_FORCE_GPU_ALLOW_GROWTH'] = 'true' if use_gpu else ''\n",
    "\n",
    "#os.environ['XLA_FLAGS'] =  '--xla_gpu_cuda_data_dir=/usr/local/cuda-10.1'\n",
    "\n",
    "#os.environ['XLA_FLAGS'] = '--tf_xla_enable_xla_devices'\n",
    "#os.environ['TF_XLA_FLAGS'] = '--tf_xla_enable_xla_devices'\n",
    "\n",
    "os.environ['XLA_FLAGS'] = '--xla_gpu_cuda_data_dir=/usr/local/cuda-11.4' if use_gpu else ''#-10.1' #--xla_gpu_cuda_data_dir=/usr/local/cuda, \n",
    "os.environ['TF_XLA_FLAGS'] = '--tf_xla_auto_jit=2 ,--tf_xla_enable_xla_devices' if use_gpu else ''#'--tf_xla_auto_jit=2' #, --tf_xla_enable_xla_devices\n",
    "\n",
    "\n",
    "sns.set_style(\"darkgrid\")\n",
    "\n",
    "random.seed(RANDOM_SEED)\n",
    "np.random.seed(RANDOM_SEED)\n",
    "if int(tf.__version__[0]) >= 2:\n",
    "    tf.random.set_seed(RANDOM_SEED)\n",
    "else:\n",
    "    tf.set_random_seed(RANDOM_SEED)\n",
    "    \n",
    "    \n",
    "pd.set_option('display.float_format', lambda x: '%.3f' % x)\n",
    "pd.set_option('display.max_columns', 200)\n",
    "np.set_printoptions(threshold=200)\n",
    "np.set_printoptions(suppress=True)\n",
    "\n"
   ]
  },
  {
   "cell_type": "code",
   "execution_count": 6,
   "metadata": {
    "execution": {
     "iopub.execute_input": "2022-01-25T12:25:07.414777Z",
     "iopub.status.busy": "2022-01-25T12:25:07.414608Z",
     "iopub.status.idle": "2022-01-25T12:25:07.446558Z",
     "shell.execute_reply": "2022-01-25T12:25:07.446028Z",
     "shell.execute_reply.started": "2022-01-25T12:25:07.414758Z"
    },
    "tags": []
   },
   "outputs": [],
   "source": [
    "#######################################################################################################################################\n",
    "########################################### IMPORT GLOBAL VARIABLES FROM CONFIG #######################################################\n",
    "#######################################################################################################################################\n",
    "globals().update(config['function_family'])\n",
    "globals().update(config['data'])\n",
    "globals().update(config['lambda_net'])\n",
    "globals().update(config['evaluation'])\n",
    "globals().update(config['computation'])"
   ]
  },
  {
   "cell_type": "code",
   "execution_count": 7,
   "metadata": {
    "execution": {
     "iopub.execute_input": "2022-01-25T12:25:07.447571Z",
     "iopub.status.busy": "2022-01-25T12:25:07.447431Z",
     "iopub.status.idle": "2022-01-25T12:25:09.442636Z",
     "shell.execute_reply": "2022-01-25T12:25:09.442093Z",
     "shell.execute_reply.started": "2022-01-25T12:25:07.447552Z"
    },
    "tags": []
   },
   "outputs": [],
   "source": [
    "from utilities.InterpretationNet import *\n",
    "from utilities.LambdaNet import *\n",
    "from utilities.metrics import *\n",
    "from utilities.utility_functions import *\n",
    "from utilities.DecisionTree_BASIC import *\n",
    "\n",
    "#######################################################################################################################################\n",
    "####################################################### CONFIG ADJUSTMENTS ############################################################\n",
    "#######################################################################################################################################\n",
    "\n",
    "config['lambda_net']['number_of_lambda_weights'] = get_number_of_lambda_net_parameters(lambda_network_layers, number_of_variables, num_classes)\n",
    "config['function_family']['basic_function_representation_length'] = get_number_of_function_parameters(dt_type, maximum_depth, number_of_variables, num_classes)\n",
    "config['function_family']['function_representation_length'] = ( \n",
    "       #((2 ** maximum_depth - 1) * decision_sparsity) * 2 + (2 ** maximum_depth - 1) + (2 ** maximum_depth) * num_classes  if function_representation_type == 1 and dt_type == 'SDT'\n",
    "       (2 ** maximum_depth - 1) * (number_of_variables + 1) + (2 ** maximum_depth) * num_classes if function_representation_type == 1 and dt_type == 'SDT'\n",
    "  else (2 ** maximum_depth - 1) * decision_sparsity + (2 ** maximum_depth - 1) + ((2 ** maximum_depth - 1)  * decision_sparsity * number_of_variables) + (2 ** maximum_depth) * num_classes if function_representation_type == 2 and dt_type == 'SDT'\n",
    "  else ((2 ** maximum_depth - 1) * decision_sparsity) * 2 + (2 ** maximum_depth)  if function_representation_type == 1 and dt_type == 'vanilla'\n",
    "  else (2 ** maximum_depth - 1) * decision_sparsity + ((2 ** maximum_depth - 1)  * decision_sparsity * number_of_variables) + (2 ** maximum_depth) if function_representation_type == 2 and dt_type == 'vanilla'\n",
    "  else ((2 ** maximum_depth - 1) * number_of_variables * 2) + (2 ** maximum_depth)  if function_representation_type == 3 and dt_type == 'vanilla'\n",
    "  else ((2 ** maximum_depth - 1) * number_of_variables * 2) + (2 ** maximum_depth - 1) + (2 ** maximum_depth) * num_classes if function_representation_type == 3 and dt_type == 'SDT'\n",
    "  else None\n",
    "                                                            )\n",
    "#######################################################################################################################################\n",
    "################################################## UPDATE VARIABLES ###################################################################\n",
    "#######################################################################################################################################\n",
    "globals().update(config['function_family'])\n",
    "globals().update(config['data'])\n",
    "globals().update(config['lambda_net'])\n",
    "globals().update(config['i_net'])\n",
    "globals().update(config['evaluation'])\n",
    "globals().update(config['computation'])\n",
    "\n",
    "#initialize_LambdaNet_config_from_curent_notebook(config)\n",
    "#initialize_metrics_config_from_curent_notebook(config)\n",
    "#initialize_utility_functions_config_from_curent_notebook(config)\n",
    "#initialize_InterpretationNet_config_from_curent_notebook(config)\n",
    "\n",
    "\n",
    "#######################################################################################################################################\n",
    "###################################################### PATH + FOLDER CREATION #########################################################\n",
    "#######################################################################################################################################\n",
    "globals().update(generate_paths(config, path_type='interpretation_net'))\n",
    "\n",
    "create_folders_inet(config)\n",
    "\n",
    "#######################################################################################################################################\n",
    "############################################################ SLEEP TIMER ##############################################################\n",
    "#######################################################################################################################################\n",
    "sleep_minutes(sleep_time)"
   ]
  },
  {
   "cell_type": "code",
   "execution_count": 8,
   "metadata": {
    "execution": {
     "iopub.execute_input": "2022-01-25T12:25:09.444318Z",
     "iopub.status.busy": "2022-01-25T12:25:09.443968Z",
     "iopub.status.idle": "2022-01-25T12:25:09.449536Z",
     "shell.execute_reply": "2022-01-25T12:25:09.448773Z",
     "shell.execute_reply.started": "2022-01-25T12:25:09.444282Z"
    },
    "tags": []
   },
   "outputs": [
    {
     "name": "stdout",
     "output_type": "stream",
     "text": [
      "lNetSize5000_numLNets999_var10_class2_distribtion_xMax1_xMin0_xDistuniform_randParamDist_maxDistClass0_depth4_beta1_decisionSpars1_vanilla_fullyGrown/128_e200ES0.01_b64_drop0_adam_binary_crossentropy_fixedInit1-seed42_noise-flip_percentage0.2/inet_dense1024-1024-256-2048-2048_drop0.3-0.3-0.3-0.3-0.3e2b256_adam_funcRep3_reshapeNone\n",
      "lNetSize5000_numLNets999_var10_class2_distribtion_xMax1_xMin0_xDistuniform_randParamDist_maxDistClass0_depth4_beta1_decisionSpars1_vanilla_fullyGrown/128_e200ES0.01_b64_drop0_adam_binary_crossentropy_fixedInit1-seed42_noise-flip_percentage0.2\n"
     ]
    }
   ],
   "source": [
    "print(path_identifier_interpretation_net)\n",
    "\n",
    "print(path_identifier_lambda_net_data)\n"
   ]
  },
  {
   "cell_type": "code",
   "execution_count": 9,
   "metadata": {
    "ExecuteTime": {
     "end_time": "2021-01-05T08:33:49.600530Z",
     "start_time": "2021-01-05T08:33:49.583928Z"
    },
    "execution": {
     "iopub.execute_input": "2022-01-25T12:25:09.450973Z",
     "iopub.status.busy": "2022-01-25T12:25:09.450653Z",
     "iopub.status.idle": "2022-01-25T12:25:09.468126Z",
     "shell.execute_reply": "2022-01-25T12:25:09.467562Z",
     "shell.execute_reply.started": "2022-01-25T12:25:09.450941Z"
    },
    "tags": []
   },
   "outputs": [
    {
     "name": "stdout",
     "output_type": "stream",
     "text": [
      "Num GPUs Available:  0\n",
      "Num XLA-GPUs Available:  0\n"
     ]
    }
   ],
   "source": [
    "print(\"Num GPUs Available: \", len(tf.config.experimental.list_physical_devices('GPU')))\n",
    "print(\"Num XLA-GPUs Available: \", len(tf.config.experimental.list_physical_devices('XLA_GPU')))"
   ]
  },
  {
   "cell_type": "markdown",
   "metadata": {},
   "source": [
    "## Load Data and Generate Datasets"
   ]
  },
  {
   "cell_type": "code",
   "execution_count": 10,
   "metadata": {
    "ExecuteTime": {
     "end_time": "2021-01-05T08:33:49.994944Z",
     "start_time": "2021-01-05T08:33:49.957264Z"
    },
    "code_folding": [],
    "execution": {
     "iopub.execute_input": "2022-01-25T12:25:09.471972Z",
     "iopub.status.busy": "2022-01-25T12:25:09.471722Z",
     "iopub.status.idle": "2022-01-25T12:25:09.511893Z",
     "shell.execute_reply": "2022-01-25T12:25:09.511159Z",
     "shell.execute_reply.started": "2022-01-25T12:25:09.471950Z"
    },
    "tags": []
   },
   "outputs": [],
   "source": [
    "def load_lambda_nets(config, no_noise=False, n_jobs=1):\n",
    "    \n",
    "    #def generate_lambda_net()\n",
    "    \n",
    "    #if psutil.virtual_memory().percent > 80:\n",
    "        #raise SystemExit(\"Out of RAM!\")\n",
    "    \n",
    "    if no_noise==True:\n",
    "        config['noise_injected_level'] = 0\n",
    "    path_dict = generate_paths(config, path_type='interpretation_net')        \n",
    "        \n",
    "    directory = './data/weights/' + 'weights_' + path_dict['path_identifier_lambda_net_data'] + '/'\n",
    "    path_network_parameters = directory + 'weights' + '.txt'\n",
    "    #path_X_data = directory + 'X_test_lambda.txt'\n",
    "    #path_y_data = directory + 'y_test_lambda.txt'        \n",
    "    path_distribution_parameters = directory + '/' + 'distribution_parameters' + '.txt'\n",
    "    \n",
    "    network_parameters = pd.read_csv(path_network_parameters, sep=\",\", header=None)\n",
    "    network_parameters = network_parameters.sort_values(by=0)\n",
    "    \n",
    "    try:\n",
    "        distribution_parameters = pd.read_csv(path_distribution_parameters, sep=\",\", header=None)\n",
    "        distribution_parameters = distribution_parameters.sort_values(by=0)\n",
    "    except:\n",
    "        distribution_parameters = pd.DataFrame([None] * network_parameters.shape[0])\n",
    "    \n",
    "    if no_noise == False:\n",
    "        network_parameters = network_parameters.sample(n=config['i_net']['interpretation_dataset_size'], random_state=config['computation']['RANDOM_SEED'])\n",
    "        distribution_parameters = distribution_parameters.sample(n=config['i_net']['interpretation_dataset_size'], random_state=config['computation']['RANDOM_SEED'])\n",
    "        \n",
    "    parallel = Parallel(n_jobs=n_jobs, verbose=3, backend='loky') #loky\n",
    "\n",
    "    lambda_nets = parallel(delayed(LambdaNet)(network_parameters_row, \n",
    "                                              distribution_parameters_row,\n",
    "                                              #X_test_lambda_row, \n",
    "                                              #y_test_lambda_row, \n",
    "                                              config) for network_parameters_row, distribution_parameters_row in zip(network_parameters.values, distribution_parameters.values))        \n",
    "    del parallel\n",
    "    \n",
    "    base_model = generate_base_model(config)  \n",
    "                \n",
    "    lambda_net_dataset = LambdaNetDataset(lambda_nets)\n",
    "        \n",
    "    return lambda_net_dataset\n",
    "    "
   ]
  },
  {
   "cell_type": "code",
   "execution_count": 11,
   "metadata": {
    "ExecuteTime": {
     "end_time": "2021-01-05T09:29:48.869797Z",
     "start_time": "2021-01-05T08:33:49.997149Z"
    },
    "execution": {
     "iopub.execute_input": "2022-01-25T12:25:09.514778Z",
     "iopub.status.busy": "2022-01-25T12:25:09.513860Z",
     "iopub.status.idle": "2022-01-25T12:25:16.028425Z",
     "shell.execute_reply": "2022-01-25T12:25:16.027881Z",
     "shell.execute_reply.started": "2022-01-25T12:25:09.514716Z"
    },
    "tags": []
   },
   "outputs": [
    {
     "name": "stderr",
     "output_type": "stream",
     "text": [
      "[Parallel(n_jobs=5)]: Using backend LokyBackend with 5 concurrent workers.\n",
      "[Parallel(n_jobs=5)]: Done  29 out of  29 | elapsed:    5.9s finished\n"
     ]
    }
   ],
   "source": [
    "#LOAD DATA\n",
    "if different_eval_data:\n",
    "    config_train = deepcopy(config)\n",
    "    config_eval = deepcopy(config)\n",
    "    \n",
    "    config_eval['data']['function_generation_type'] = config['evaluation']['eval_data_description']['eval_data_function_generation_type']\n",
    "    config_eval['data']['lambda_dataset_size'] = config['evaluation']['eval_data_description']['eval_data_lambda_dataset_size']\n",
    "    config_eval['data']['noise_injected_level'] = config['evaluation']['eval_data_description']['eval_data_noise_injected_level']\n",
    "    config_eval['data']['noise_injected_type'] = config['evaluation']['eval_data_description']['eval_data_noise_injected_type'] \n",
    "    config_eval['lambda_net']['number_of_trained_lambda_nets'] = config['evaluation']['eval_data_description']['eval_data_number_of_trained_lambda_nets']   \n",
    "    config_eval['i_net']['interpretation_dataset_size'] = config['evaluation']['eval_data_description']['eval_data_interpretation_dataset_size']   \n",
    "    \n",
    "\n",
    "    lambda_net_dataset_train_with_valid = load_lambda_nets(config_train, n_jobs=n_jobs)\n",
    "    lambda_net_dataset_eval = load_lambda_nets(config_eval, n_jobs=n_jobs)\n",
    "\n",
    "    if test_size > 0:\n",
    "        _, lambda_net_dataset_test = split_LambdaNetDataset(lambda_net_dataset_eval, test_split=test_size)   \n",
    "    else:\n",
    "        lambda_net_dataset_test = None\n",
    "    lambda_net_dataset_train, lambda_net_dataset_valid = split_LambdaNetDataset(lambda_net_dataset_train_with_valid, test_split=0.1)   \n",
    "\n",
    "        \n",
    "else:\n",
    "    lambda_net_dataset = load_lambda_nets(config, n_jobs=n_jobs)\n",
    "\n",
    "    if test_size > 0:\n",
    "        lambda_net_dataset_train_with_valid, lambda_net_dataset_test = split_LambdaNetDataset(lambda_net_dataset, test_split=test_size)\n",
    "        lambda_net_dataset_train, lambda_net_dataset_valid = split_LambdaNetDataset(lambda_net_dataset_train_with_valid, test_split=0.1)    \n",
    "    else:\n",
    "        lambda_net_dataset_train, lambda_net_dataset_valid = split_LambdaNetDataset(lambda_net_dataset, test_split=0.1)    \n",
    "        lambda_net_dataset_test = None"
   ]
  },
  {
   "cell_type": "markdown",
   "metadata": {
    "ExecuteTime": {
     "end_time": "2020-09-16T18:01:21.350996Z",
     "start_time": "2020-09-16T18:01:21.343717Z"
    }
   },
   "source": [
    "## Data Inspection"
   ]
  },
  {
   "cell_type": "code",
   "execution_count": 12,
   "metadata": {
    "execution": {
     "iopub.execute_input": "2022-01-25T12:25:16.029582Z",
     "iopub.status.busy": "2022-01-25T12:25:16.029369Z",
     "iopub.status.idle": "2022-01-25T12:25:16.033426Z",
     "shell.execute_reply": "2022-01-25T12:25:16.032866Z",
     "shell.execute_reply.started": "2022-01-25T12:25:16.029558Z"
    }
   },
   "outputs": [
    {
     "name": "stdout",
     "output_type": "stream",
     "text": [
      "(8, 1585)\n",
      "(1, 1585)\n",
      "(20, 1585)\n"
     ]
    }
   ],
   "source": [
    "print(lambda_net_dataset_train.shape)\n",
    "print(lambda_net_dataset_valid.shape)\n",
    "if test_size > 0:\n",
    "    print(lambda_net_dataset_test.shape)"
   ]
  },
  {
   "cell_type": "code",
   "execution_count": 13,
   "metadata": {
    "ExecuteTime": {
     "end_time": "2021-01-05T09:34:07.407453Z",
     "start_time": "2021-01-05T09:34:04.157787Z"
    },
    "execution": {
     "iopub.execute_input": "2022-01-25T12:25:16.034426Z",
     "iopub.status.busy": "2022-01-25T12:25:16.034153Z",
     "iopub.status.idle": "2022-01-25T12:25:16.208327Z",
     "shell.execute_reply": "2022-01-25T12:25:16.207855Z",
     "shell.execute_reply.started": "2022-01-25T12:25:16.034403Z"
    },
    "tags": []
   },
   "outputs": [
    {
     "data": {
      "text/html": [
       "<div>\n",
       "<style scoped>\n",
       "    .dataframe tbody tr th:only-of-type {\n",
       "        vertical-align: middle;\n",
       "    }\n",
       "\n",
       "    .dataframe tbody tr th {\n",
       "        vertical-align: top;\n",
       "    }\n",
       "\n",
       "    .dataframe thead th {\n",
       "        text-align: right;\n",
       "    }\n",
       "</style>\n",
       "<table border=\"1\" class=\"dataframe\">\n",
       "  <thead>\n",
       "    <tr style=\"text-align: right;\">\n",
       "      <th></th>\n",
       "      <th>index</th>\n",
       "      <th>seed</th>\n",
       "      <th>feat0</th>\n",
       "      <th>feat1</th>\n",
       "      <th>feat2</th>\n",
       "      <th>feat3</th>\n",
       "      <th>feat4</th>\n",
       "      <th>feat5</th>\n",
       "      <th>feat6</th>\n",
       "      <th>feat7</th>\n",
       "      <th>feat8</th>\n",
       "      <th>feat9</th>\n",
       "      <th>feat10</th>\n",
       "      <th>feat11</th>\n",
       "      <th>feat12</th>\n",
       "      <th>feat13</th>\n",
       "      <th>feat14</th>\n",
       "      <th>split0</th>\n",
       "      <th>split1</th>\n",
       "      <th>split2</th>\n",
       "      <th>split3</th>\n",
       "      <th>split4</th>\n",
       "      <th>split5</th>\n",
       "      <th>split6</th>\n",
       "      <th>split7</th>\n",
       "      <th>split8</th>\n",
       "      <th>split9</th>\n",
       "      <th>split10</th>\n",
       "      <th>split11</th>\n",
       "      <th>split12</th>\n",
       "      <th>split13</th>\n",
       "      <th>split14</th>\n",
       "      <th>lp0</th>\n",
       "      <th>lp1</th>\n",
       "      <th>lp2</th>\n",
       "      <th>lp3</th>\n",
       "      <th>lp4</th>\n",
       "      <th>lp5</th>\n",
       "      <th>lp6</th>\n",
       "      <th>lp7</th>\n",
       "      <th>lp8</th>\n",
       "      <th>lp9</th>\n",
       "      <th>lp10</th>\n",
       "      <th>lp11</th>\n",
       "      <th>lp12</th>\n",
       "      <th>lp13</th>\n",
       "      <th>lp14</th>\n",
       "      <th>lp15</th>\n",
       "      <th>wb_0</th>\n",
       "      <th>wb_1</th>\n",
       "      <th>wb_2</th>\n",
       "      <th>wb_3</th>\n",
       "      <th>wb_4</th>\n",
       "      <th>wb_5</th>\n",
       "      <th>wb_6</th>\n",
       "      <th>wb_7</th>\n",
       "      <th>wb_8</th>\n",
       "      <th>wb_9</th>\n",
       "      <th>wb_10</th>\n",
       "      <th>wb_11</th>\n",
       "      <th>wb_12</th>\n",
       "      <th>wb_13</th>\n",
       "      <th>wb_14</th>\n",
       "      <th>wb_15</th>\n",
       "      <th>wb_16</th>\n",
       "      <th>wb_17</th>\n",
       "      <th>wb_18</th>\n",
       "      <th>wb_19</th>\n",
       "      <th>wb_20</th>\n",
       "      <th>wb_21</th>\n",
       "      <th>wb_22</th>\n",
       "      <th>wb_23</th>\n",
       "      <th>wb_24</th>\n",
       "      <th>wb_25</th>\n",
       "      <th>wb_26</th>\n",
       "      <th>wb_27</th>\n",
       "      <th>wb_28</th>\n",
       "      <th>wb_29</th>\n",
       "      <th>wb_30</th>\n",
       "      <th>wb_31</th>\n",
       "      <th>wb_32</th>\n",
       "      <th>wb_33</th>\n",
       "      <th>wb_34</th>\n",
       "      <th>wb_35</th>\n",
       "      <th>wb_36</th>\n",
       "      <th>wb_37</th>\n",
       "      <th>wb_38</th>\n",
       "      <th>wb_39</th>\n",
       "      <th>wb_40</th>\n",
       "      <th>wb_41</th>\n",
       "      <th>wb_42</th>\n",
       "      <th>wb_43</th>\n",
       "      <th>wb_44</th>\n",
       "      <th>wb_45</th>\n",
       "      <th>wb_46</th>\n",
       "      <th>wb_47</th>\n",
       "      <th>wb_48</th>\n",
       "      <th>wb_49</th>\n",
       "      <th>wb_50</th>\n",
       "      <th>wb_51</th>\n",
       "      <th>...</th>\n",
       "      <th>wb_1437</th>\n",
       "      <th>wb_1438</th>\n",
       "      <th>wb_1439</th>\n",
       "      <th>wb_1440</th>\n",
       "      <th>wb_1441</th>\n",
       "      <th>wb_1442</th>\n",
       "      <th>wb_1443</th>\n",
       "      <th>wb_1444</th>\n",
       "      <th>wb_1445</th>\n",
       "      <th>wb_1446</th>\n",
       "      <th>wb_1447</th>\n",
       "      <th>wb_1448</th>\n",
       "      <th>wb_1449</th>\n",
       "      <th>wb_1450</th>\n",
       "      <th>wb_1451</th>\n",
       "      <th>wb_1452</th>\n",
       "      <th>wb_1453</th>\n",
       "      <th>wb_1454</th>\n",
       "      <th>wb_1455</th>\n",
       "      <th>wb_1456</th>\n",
       "      <th>wb_1457</th>\n",
       "      <th>wb_1458</th>\n",
       "      <th>wb_1459</th>\n",
       "      <th>wb_1460</th>\n",
       "      <th>wb_1461</th>\n",
       "      <th>wb_1462</th>\n",
       "      <th>wb_1463</th>\n",
       "      <th>wb_1464</th>\n",
       "      <th>wb_1465</th>\n",
       "      <th>wb_1466</th>\n",
       "      <th>wb_1467</th>\n",
       "      <th>wb_1468</th>\n",
       "      <th>wb_1469</th>\n",
       "      <th>wb_1470</th>\n",
       "      <th>wb_1471</th>\n",
       "      <th>wb_1472</th>\n",
       "      <th>wb_1473</th>\n",
       "      <th>wb_1474</th>\n",
       "      <th>wb_1475</th>\n",
       "      <th>wb_1476</th>\n",
       "      <th>wb_1477</th>\n",
       "      <th>wb_1478</th>\n",
       "      <th>wb_1479</th>\n",
       "      <th>wb_1480</th>\n",
       "      <th>wb_1481</th>\n",
       "      <th>wb_1482</th>\n",
       "      <th>wb_1483</th>\n",
       "      <th>wb_1484</th>\n",
       "      <th>wb_1485</th>\n",
       "      <th>wb_1486</th>\n",
       "      <th>wb_1487</th>\n",
       "      <th>wb_1488</th>\n",
       "      <th>wb_1489</th>\n",
       "      <th>wb_1490</th>\n",
       "      <th>wb_1491</th>\n",
       "      <th>wb_1492</th>\n",
       "      <th>wb_1493</th>\n",
       "      <th>wb_1494</th>\n",
       "      <th>wb_1495</th>\n",
       "      <th>wb_1496</th>\n",
       "      <th>wb_1497</th>\n",
       "      <th>wb_1498</th>\n",
       "      <th>wb_1499</th>\n",
       "      <th>wb_1500</th>\n",
       "      <th>wb_1501</th>\n",
       "      <th>wb_1502</th>\n",
       "      <th>wb_1503</th>\n",
       "      <th>wb_1504</th>\n",
       "      <th>wb_1505</th>\n",
       "      <th>wb_1506</th>\n",
       "      <th>wb_1507</th>\n",
       "      <th>wb_1508</th>\n",
       "      <th>wb_1509</th>\n",
       "      <th>wb_1510</th>\n",
       "      <th>wb_1511</th>\n",
       "      <th>wb_1512</th>\n",
       "      <th>wb_1513</th>\n",
       "      <th>wb_1514</th>\n",
       "      <th>wb_1515</th>\n",
       "      <th>wb_1516</th>\n",
       "      <th>wb_1517</th>\n",
       "      <th>wb_1518</th>\n",
       "      <th>wb_1519</th>\n",
       "      <th>wb_1520</th>\n",
       "      <th>wb_1521</th>\n",
       "      <th>wb_1522</th>\n",
       "      <th>wb_1523</th>\n",
       "      <th>wb_1524</th>\n",
       "      <th>wb_1525</th>\n",
       "      <th>wb_1526</th>\n",
       "      <th>wb_1527</th>\n",
       "      <th>wb_1528</th>\n",
       "      <th>wb_1529</th>\n",
       "      <th>wb_1530</th>\n",
       "      <th>wb_1531</th>\n",
       "      <th>wb_1532</th>\n",
       "      <th>wb_1533</th>\n",
       "      <th>wb_1534</th>\n",
       "      <th>wb_1535</th>\n",
       "      <th>wb_1536</th>\n",
       "    </tr>\n",
       "  </thead>\n",
       "  <tbody>\n",
       "    <tr>\n",
       "      <th>208</th>\n",
       "      <td>208.000</td>\n",
       "      <td>42</td>\n",
       "      <td>0.000</td>\n",
       "      <td>0.000</td>\n",
       "      <td>0.000</td>\n",
       "      <td>0.000</td>\n",
       "      <td>0.000</td>\n",
       "      <td>0.000</td>\n",
       "      <td>0.000</td>\n",
       "      <td>0.000</td>\n",
       "      <td>0.000</td>\n",
       "      <td>0.000</td>\n",
       "      <td>0.000</td>\n",
       "      <td>0.000</td>\n",
       "      <td>0.000</td>\n",
       "      <td>0.000</td>\n",
       "      <td>0.000</td>\n",
       "      <td>0.000</td>\n",
       "      <td>0.000</td>\n",
       "      <td>0.000</td>\n",
       "      <td>0.000</td>\n",
       "      <td>0.000</td>\n",
       "      <td>0.000</td>\n",
       "      <td>0.000</td>\n",
       "      <td>0.000</td>\n",
       "      <td>0.000</td>\n",
       "      <td>0.000</td>\n",
       "      <td>0.000</td>\n",
       "      <td>0.000</td>\n",
       "      <td>0.000</td>\n",
       "      <td>0.000</td>\n",
       "      <td>0.000</td>\n",
       "      <td>0.000</td>\n",
       "      <td>0.000</td>\n",
       "      <td>0.000</td>\n",
       "      <td>0.000</td>\n",
       "      <td>0.000</td>\n",
       "      <td>0.000</td>\n",
       "      <td>0.000</td>\n",
       "      <td>0.000</td>\n",
       "      <td>0.000</td>\n",
       "      <td>0.000</td>\n",
       "      <td>0.000</td>\n",
       "      <td>0.000</td>\n",
       "      <td>0.000</td>\n",
       "      <td>0.000</td>\n",
       "      <td>0.000</td>\n",
       "      <td>0.000</td>\n",
       "      <td>-0.102</td>\n",
       "      <td>-0.037</td>\n",
       "      <td>-0.017</td>\n",
       "      <td>-0.041</td>\n",
       "      <td>-0.063</td>\n",
       "      <td>0.053</td>\n",
       "      <td>-0.001</td>\n",
       "      <td>0.060</td>\n",
       "      <td>-0.010</td>\n",
       "      <td>0.053</td>\n",
       "      <td>0.092</td>\n",
       "      <td>0.074</td>\n",
       "      <td>0.175</td>\n",
       "      <td>0.042</td>\n",
       "      <td>-0.477</td>\n",
       "      <td>0.112</td>\n",
       "      <td>-0.064</td>\n",
       "      <td>0.049</td>\n",
       "      <td>-0.045</td>\n",
       "      <td>0.063</td>\n",
       "      <td>-0.020</td>\n",
       "      <td>0.009</td>\n",
       "      <td>0.113</td>\n",
       "      <td>-0.076</td>\n",
       "      <td>0.046</td>\n",
       "      <td>-0.009</td>\n",
       "      <td>0.088</td>\n",
       "      <td>0.015</td>\n",
       "      <td>-0.011</td>\n",
       "      <td>0.034</td>\n",
       "      <td>0.151</td>\n",
       "      <td>0.087</td>\n",
       "      <td>0.187</td>\n",
       "      <td>0.011</td>\n",
       "      <td>-0.077</td>\n",
       "      <td>0.071</td>\n",
       "      <td>0.011</td>\n",
       "      <td>0.137</td>\n",
       "      <td>-0.035</td>\n",
       "      <td>-0.048</td>\n",
       "      <td>-0.022</td>\n",
       "      <td>0.080</td>\n",
       "      <td>0.047</td>\n",
       "      <td>0.033</td>\n",
       "      <td>0.162</td>\n",
       "      <td>-0.407</td>\n",
       "      <td>0.079</td>\n",
       "      <td>-0.003</td>\n",
       "      <td>0.015</td>\n",
       "      <td>-0.027</td>\n",
       "      <td>0.062</td>\n",
       "      <td>0.074</td>\n",
       "      <td>...</td>\n",
       "      <td>0.022</td>\n",
       "      <td>-0.509</td>\n",
       "      <td>0.219</td>\n",
       "      <td>0.194</td>\n",
       "      <td>0.158</td>\n",
       "      <td>-0.080</td>\n",
       "      <td>0.068</td>\n",
       "      <td>0.003</td>\n",
       "      <td>0.320</td>\n",
       "      <td>0.140</td>\n",
       "      <td>-0.387</td>\n",
       "      <td>0.162</td>\n",
       "      <td>0.078</td>\n",
       "      <td>0.199</td>\n",
       "      <td>0.136</td>\n",
       "      <td>0.168</td>\n",
       "      <td>0.623</td>\n",
       "      <td>0.218</td>\n",
       "      <td>-0.449</td>\n",
       "      <td>0.061</td>\n",
       "      <td>-0.515</td>\n",
       "      <td>0.306</td>\n",
       "      <td>-0.440</td>\n",
       "      <td>-0.349</td>\n",
       "      <td>-0.113</td>\n",
       "      <td>-0.328</td>\n",
       "      <td>0.240</td>\n",
       "      <td>0.132</td>\n",
       "      <td>-0.123</td>\n",
       "      <td>-0.321</td>\n",
       "      <td>0.140</td>\n",
       "      <td>-0.092</td>\n",
       "      <td>0.167</td>\n",
       "      <td>-0.429</td>\n",
       "      <td>0.215</td>\n",
       "      <td>0.112</td>\n",
       "      <td>-0.133</td>\n",
       "      <td>0.126</td>\n",
       "      <td>0.141</td>\n",
       "      <td>-0.032</td>\n",
       "      <td>-0.438</td>\n",
       "      <td>-0.468</td>\n",
       "      <td>0.235</td>\n",
       "      <td>0.186</td>\n",
       "      <td>-0.380</td>\n",
       "      <td>-0.470</td>\n",
       "      <td>-0.072</td>\n",
       "      <td>-0.327</td>\n",
       "      <td>0.000</td>\n",
       "      <td>0.328</td>\n",
       "      <td>-0.145</td>\n",
       "      <td>-0.285</td>\n",
       "      <td>-0.479</td>\n",
       "      <td>-0.447</td>\n",
       "      <td>0.194</td>\n",
       "      <td>-0.368</td>\n",
       "      <td>-0.448</td>\n",
       "      <td>-0.502</td>\n",
       "      <td>0.160</td>\n",
       "      <td>-0.433</td>\n",
       "      <td>-0.314</td>\n",
       "      <td>0.227</td>\n",
       "      <td>-0.295</td>\n",
       "      <td>-0.092</td>\n",
       "      <td>0.105</td>\n",
       "      <td>0.182</td>\n",
       "      <td>-0.340</td>\n",
       "      <td>-0.136</td>\n",
       "      <td>0.225</td>\n",
       "      <td>0.122</td>\n",
       "      <td>-0.208</td>\n",
       "      <td>-0.609</td>\n",
       "      <td>-0.550</td>\n",
       "      <td>-0.140</td>\n",
       "      <td>-0.436</td>\n",
       "      <td>0.222</td>\n",
       "      <td>0.195</td>\n",
       "      <td>0.108</td>\n",
       "      <td>0.105</td>\n",
       "      <td>-0.246</td>\n",
       "      <td>-0.390</td>\n",
       "      <td>0.067</td>\n",
       "      <td>-0.255</td>\n",
       "      <td>-0.006</td>\n",
       "      <td>0.240</td>\n",
       "      <td>-0.128</td>\n",
       "      <td>-0.468</td>\n",
       "      <td>-0.401</td>\n",
       "      <td>0.086</td>\n",
       "      <td>0.091</td>\n",
       "      <td>0.149</td>\n",
       "      <td>0.122</td>\n",
       "      <td>0.238</td>\n",
       "      <td>0.096</td>\n",
       "      <td>-0.015</td>\n",
       "      <td>-0.368</td>\n",
       "      <td>0.133</td>\n",
       "      <td>0.759</td>\n",
       "      <td>-0.282</td>\n",
       "      <td>0.020</td>\n",
       "    </tr>\n",
       "  </tbody>\n",
       "</table>\n",
       "<p>1 rows × 1585 columns</p>\n",
       "</div>"
      ],
      "text/plain": [
       "      index  seed  feat0  feat1  feat2  feat3  feat4  feat5  feat6  feat7  \\\n",
       "208 208.000    42  0.000  0.000  0.000  0.000  0.000  0.000  0.000  0.000   \n",
       "\n",
       "     feat8  feat9  feat10  feat11  feat12  feat13  feat14  split0  split1  \\\n",
       "208  0.000  0.000   0.000   0.000   0.000   0.000   0.000   0.000   0.000   \n",
       "\n",
       "     split2  split3  split4  split5  split6  split7  split8  split9  split10  \\\n",
       "208   0.000   0.000   0.000   0.000   0.000   0.000   0.000   0.000    0.000   \n",
       "\n",
       "     split11  split12  split13  split14   lp0   lp1   lp2   lp3   lp4   lp5  \\\n",
       "208    0.000    0.000    0.000    0.000 0.000 0.000 0.000 0.000 0.000 0.000   \n",
       "\n",
       "      lp6   lp7   lp8   lp9  lp10  lp11  lp12  lp13  lp14  lp15   wb_0   wb_1  \\\n",
       "208 0.000 0.000 0.000 0.000 0.000 0.000 0.000 0.000 0.000 0.000 -0.102 -0.037   \n",
       "\n",
       "      wb_2   wb_3   wb_4  wb_5   wb_6  wb_7   wb_8  wb_9  wb_10  wb_11  wb_12  \\\n",
       "208 -0.017 -0.041 -0.063 0.053 -0.001 0.060 -0.010 0.053  0.092  0.074  0.175   \n",
       "\n",
       "     wb_13  wb_14  wb_15  wb_16  wb_17  wb_18  wb_19  wb_20  wb_21  wb_22  \\\n",
       "208  0.042 -0.477  0.112 -0.064  0.049 -0.045  0.063 -0.020  0.009  0.113   \n",
       "\n",
       "     wb_23  wb_24  wb_25  wb_26  wb_27  wb_28  wb_29  wb_30  wb_31  wb_32  \\\n",
       "208 -0.076  0.046 -0.009  0.088  0.015 -0.011  0.034  0.151  0.087  0.187   \n",
       "\n",
       "     wb_33  wb_34  wb_35  wb_36  wb_37  wb_38  wb_39  wb_40  wb_41  wb_42  \\\n",
       "208  0.011 -0.077  0.071  0.011  0.137 -0.035 -0.048 -0.022  0.080  0.047   \n",
       "\n",
       "     wb_43  wb_44  wb_45  wb_46  wb_47  wb_48  wb_49  wb_50  wb_51  ...  \\\n",
       "208  0.033  0.162 -0.407  0.079 -0.003  0.015 -0.027  0.062  0.074  ...   \n",
       "\n",
       "     wb_1437  wb_1438  wb_1439  wb_1440  wb_1441  wb_1442  wb_1443  wb_1444  \\\n",
       "208    0.022   -0.509    0.219    0.194    0.158   -0.080    0.068    0.003   \n",
       "\n",
       "     wb_1445  wb_1446  wb_1447  wb_1448  wb_1449  wb_1450  wb_1451  wb_1452  \\\n",
       "208    0.320    0.140   -0.387    0.162    0.078    0.199    0.136    0.168   \n",
       "\n",
       "     wb_1453  wb_1454  wb_1455  wb_1456  wb_1457  wb_1458  wb_1459  wb_1460  \\\n",
       "208    0.623    0.218   -0.449    0.061   -0.515    0.306   -0.440   -0.349   \n",
       "\n",
       "     wb_1461  wb_1462  wb_1463  wb_1464  wb_1465  wb_1466  wb_1467  wb_1468  \\\n",
       "208   -0.113   -0.328    0.240    0.132   -0.123   -0.321    0.140   -0.092   \n",
       "\n",
       "     wb_1469  wb_1470  wb_1471  wb_1472  wb_1473  wb_1474  wb_1475  wb_1476  \\\n",
       "208    0.167   -0.429    0.215    0.112   -0.133    0.126    0.141   -0.032   \n",
       "\n",
       "     wb_1477  wb_1478  wb_1479  wb_1480  wb_1481  wb_1482  wb_1483  wb_1484  \\\n",
       "208   -0.438   -0.468    0.235    0.186   -0.380   -0.470   -0.072   -0.327   \n",
       "\n",
       "     wb_1485  wb_1486  wb_1487  wb_1488  wb_1489  wb_1490  wb_1491  wb_1492  \\\n",
       "208    0.000    0.328   -0.145   -0.285   -0.479   -0.447    0.194   -0.368   \n",
       "\n",
       "     wb_1493  wb_1494  wb_1495  wb_1496  wb_1497  wb_1498  wb_1499  wb_1500  \\\n",
       "208   -0.448   -0.502    0.160   -0.433   -0.314    0.227   -0.295   -0.092   \n",
       "\n",
       "     wb_1501  wb_1502  wb_1503  wb_1504  wb_1505  wb_1506  wb_1507  wb_1508  \\\n",
       "208    0.105    0.182   -0.340   -0.136    0.225    0.122   -0.208   -0.609   \n",
       "\n",
       "     wb_1509  wb_1510  wb_1511  wb_1512  wb_1513  wb_1514  wb_1515  wb_1516  \\\n",
       "208   -0.550   -0.140   -0.436    0.222    0.195    0.108    0.105   -0.246   \n",
       "\n",
       "     wb_1517  wb_1518  wb_1519  wb_1520  wb_1521  wb_1522  wb_1523  wb_1524  \\\n",
       "208   -0.390    0.067   -0.255   -0.006    0.240   -0.128   -0.468   -0.401   \n",
       "\n",
       "     wb_1525  wb_1526  wb_1527  wb_1528  wb_1529  wb_1530  wb_1531  wb_1532  \\\n",
       "208    0.086    0.091    0.149    0.122    0.238    0.096   -0.015   -0.368   \n",
       "\n",
       "     wb_1533  wb_1534  wb_1535  wb_1536  \n",
       "208    0.133    0.759   -0.282    0.020  \n",
       "\n",
       "[1 rows x 1585 columns]"
      ]
     },
     "execution_count": 13,
     "metadata": {},
     "output_type": "execute_result"
    }
   ],
   "source": [
    "lambda_net_dataset_valid.as_pandas(config).head()"
   ]
  },
  {
   "cell_type": "code",
   "execution_count": 14,
   "metadata": {
    "execution": {
     "iopub.execute_input": "2022-01-25T12:25:16.209263Z",
     "iopub.status.busy": "2022-01-25T12:25:16.209034Z",
     "iopub.status.idle": "2022-01-25T12:25:16.211725Z",
     "shell.execute_reply": "2022-01-25T12:25:16.211276Z",
     "shell.execute_reply.started": "2022-01-25T12:25:16.209243Z"
    },
    "tags": []
   },
   "outputs": [],
   "source": [
    "#lambda_net_dataset_train.distribution_dict_list_list[11]"
   ]
  },
  {
   "cell_type": "code",
   "execution_count": 15,
   "metadata": {
    "execution": {
     "iopub.execute_input": "2022-01-25T12:25:16.212542Z",
     "iopub.status.busy": "2022-01-25T12:25:16.212400Z",
     "iopub.status.idle": "2022-01-25T12:25:16.228046Z",
     "shell.execute_reply": "2022-01-25T12:25:16.227082Z",
     "shell.execute_reply.started": "2022-01-25T12:25:16.212524Z"
    },
    "tags": []
   },
   "outputs": [],
   "source": [
    "#lambda_net_dataset_train.distribution_dict_list_list[12]"
   ]
  },
  {
   "cell_type": "code",
   "execution_count": 16,
   "metadata": {
    "execution": {
     "iopub.execute_input": "2022-01-25T12:25:16.229458Z",
     "iopub.status.busy": "2022-01-25T12:25:16.229220Z",
     "iopub.status.idle": "2022-01-25T12:25:16.284201Z",
     "shell.execute_reply": "2022-01-25T12:25:16.283732Z",
     "shell.execute_reply.started": "2022-01-25T12:25:16.229436Z"
    },
    "tags": []
   },
   "outputs": [
    {
     "data": {
      "text/plain": [
       "(500, 10)"
      ]
     },
     "execution_count": 16,
     "metadata": {},
     "output_type": "execute_result"
    }
   ],
   "source": [
    "generate_dataset_from_distributions(distribution_list=None, \n",
    "                                    number_of_variables=config['data']['number_of_variables'], \n",
    "                                    number_of_samples=config['evaluation']['random_evaluation_dataset_size'], \n",
    "                                    distributions_per_class = config['data']['max_distributions_per_class'], \n",
    "                                    seed = 42, \n",
    "                                    flip_percentage=0, \n",
    "                                    random_parameters=None, \n",
    "                                    distribution_dict_list=lambda_net_dataset_train.distribution_dict_list_list[1])[0].shape\n",
    "   "
   ]
  },
  {
   "cell_type": "markdown",
   "metadata": {},
   "source": [
    "## Interpretation Network Training"
   ]
  },
  {
   "cell_type": "code",
   "execution_count": 17,
   "metadata": {
    "execution": {
     "iopub.execute_input": "2022-01-25T12:25:16.285153Z",
     "iopub.status.busy": "2022-01-25T12:25:16.284942Z",
     "iopub.status.idle": "2022-01-25T12:25:16.287607Z",
     "shell.execute_reply": "2022-01-25T12:25:16.287110Z",
     "shell.execute_reply.started": "2022-01-25T12:25:16.285130Z"
    },
    "tags": []
   },
   "outputs": [],
   "source": [
    "#%load_ext tensorboard\n",
    "#%tensorboard --logdir data/logging/ --port=8811"
   ]
  },
  {
   "cell_type": "code",
   "execution_count": 18,
   "metadata": {
    "execution": {
     "iopub.execute_input": "2022-01-25T12:25:16.288568Z",
     "iopub.status.busy": "2022-01-25T12:25:16.288348Z",
     "iopub.status.idle": "2022-01-25T12:25:16.304473Z",
     "shell.execute_reply": "2022-01-25T12:25:16.303763Z",
     "shell.execute_reply.started": "2022-01-25T12:25:16.288543Z"
    },
    "tags": []
   },
   "outputs": [],
   "source": [
    "#%load_ext autoreload\n",
    "#%autoreload 2"
   ]
  },
  {
   "cell_type": "code",
   "execution_count": 19,
   "metadata": {
    "execution": {
     "iopub.execute_input": "2022-01-25T12:25:16.305702Z",
     "iopub.status.busy": "2022-01-25T12:25:16.305490Z",
     "iopub.status.idle": "2022-01-25T12:25:43.016677Z",
     "shell.execute_reply": "2022-01-25T12:25:43.015923Z",
     "shell.execute_reply.started": "2022-01-25T12:25:16.305679Z"
    },
    "tags": []
   },
   "outputs": [
    {
     "name": "stdout",
     "output_type": "stream",
     "text": [
      "----------------------------------------------- TRAINING INTERPRETATION NET -----------------------------------------------\n",
      "use_distribution_list True\n",
      "(8, 1)\n",
      "(8, 1537)\n",
      "(8, 46)\n",
      "random_evaluation_dataset_flat_array_train.shape (8, 12500)\n",
      "random_evaluation_dataset_flat_array_valid.shape (1, 12500)\n",
      "Epoch 1/2\n",
      "function_values_true_ones_rounded 1164 86 function_values_pred_ones_rounded 516 734\n",
      "function_values_true_ones_rounded 1034 216 function_values_pred_ones_rounded 674 576\n",
      "function_values_true_ones_rounded 1020 230 function_values_pred_ones_rounded 156 1094\n",
      "function_values_true_ones_rounded 1050 200 function_values_pred_ones_rounded 726 524\n",
      "function_values_true_ones_rounded 1066 184 function_values_pred_ones_rounded 340 910\n",
      "function_values_true_ones_rounded 784 466 function_values_pred_ones_rounded 350 900\n",
      "function_values_true_ones_rounded 1058 192 function_values_pred_ones_rounded 542 708\n",
      "function_values_true_ones_rounded 1142 108 function_values_pred_ones_rounded 58 1192\n",
      "function_values_array_function_true [[0.666867316 0.675790131 0.780605912 0.763275087 0.488394767 0.749306083 0.675857961 0.680785 0.768090546 0.752324104 ... 0.837525129 0.74327147 0.677623212 0.479256421 0.664873958 0.756853461 0.639441788 0.734751701 0.619719148 0.677509129]\n",
      " [0.738942 0.856333256 0.734849036 0.758642614 0.764478326 0.812910676 0.619318545 0.649274 0.151896626 0.544933438 ... 0.672973514 0.452209145 0.761200905 0.692881107 0.832497776 0.764306307 0.803935826 0.71908015 0.661015034 0.729659438]\n",
      " [0.788281441 0.705621719 0.646601319 0.241303682 0.696271181 0.52571249 0.674471 0.825635254 0.64710629 0.57543081 ... 0.457745939 0.30356741 0.514516532 0.73904 0.645078182 0.796576202 0.846022904 0.564438939 0.645288587 0.569339037]\n",
      " [0.446053088 0.57309562 0.866300166 0.875632286 0.782353401 0.638108075 0.769466877 0.619769 0.794057548 0.611006618 ... 0.752813458 0.733096063 0.738275647 0.670333 0.603519857 0.563899636 0.663951933 0.686462 0.69792366 0.855805755]\n",
      " [0.709518313 0.788385451 0.840007722 0.792597234 0.745963514 0.716193736 0.489425272 0.784967661 0.7271415 0.798954 ... 0.675456166 0.691696644 0.788750589 0.781129599 0.424943864 0.718741179 0.840305448 0.63027 0.791314363 0.117317371]\n",
      " [0.498808146 0.841915548 0.529173732 0.789539754 0.723227203 0.741658807 0.243069142 0.882677317 0.411118984 0.787188172 ... 0.399184436 0.22114259 0.404206961 0.803438485 0.172728077 0.876189291 0.439976275 0.883814454 0.29437837 0.876810491]\n",
      " [0.8442384 0.69921124 0.622441113 0.910167813 0.859973669 0.787135959 0.724956512 0.655067682 0.897111535 0.847845614 ... 0.823403537 0.844533801 0.809737206 0.655140042 0.737854838 0.584875405 0.738366187 0.828848481 0.619642794 0.796228647]\n",
      " [0.570688248 0.839234233 0.777575374 0.701019 0.73370862 0.816617608 0.728977859 0.662240863 0.70482403 0.642333 ... 0.589503527 0.537999153 0.438483596 0.862968802 0.630022645 0.572843075 0.592913151 0.767293453 0.799895346 0.743572176]]\n",
      "function_values_array_function_pred [[0.517923892 0.500547409 0.461961985 0.492343247 0.518921 0.518921 0.492343247 0.518921 0.492343247 0.461961985 ... 0.461961985 0.466005325 0.466005325 0.492343247 0.451898098 0.466005325 0.492343247 0.451898098 0.518921 0.451898098]\n",
      " [0.517265677 0.482872605 0.530522943 0.432644367 0.506972492 0.477758169 0.477758169 0.530522943 0.530522943 0.432644367 ... 0.522279263 0.530522943 0.530522943 0.530522943 0.517265677 0.530522943 0.432644367 0.477758169 0.530522943 0.530522943]\n",
      " [0.496017396 0.46741277 0.486129165 0.481476307 0.482297361 0.465746522 0.481476307 0.486129165 0.481476307 0.465746522 ... 0.465746522 0.516307235 0.486129165 0.516307235 0.486129165 0.486129165 0.465746522 0.496017396 0.465746522 0.486129165]\n",
      " [0.460130572 0.500945091 0.500945091 0.500945091 0.500945091 0.503457308 0.503457308 0.473293185 0.500945091 0.512563944 ... 0.460130572 0.503457308 0.460130572 0.460130572 0.500945091 0.460130572 0.500945091 0.503457308 0.500945091 0.460130572]\n",
      " [0.516602755 0.4418751 0.4418751 0.487988174 0.528350234 0.493528605 0.516602755 0.487988174 0.487988174 0.487988174 ... 0.485224247 0.528350234 0.487988174 0.487988174 0.493528605 0.487988174 0.501377106 0.4418751 0.498935163 0.487988174]\n",
      " [0.4906376 0.487669826 0.4906376 0.486147523 0.471708953 0.482882917 0.516912043 0.485475838 0.516912043 0.482882917 ... 0.471708953 0.516912043 0.509385943 0.475661516 0.516912043 0.475661516 0.509385943 0.486147523 0.516912043 0.482882917]\n",
      " [0.450197399 0.470370293 0.510205805 0.450197399 0.450197399 0.450197399 0.507743835 0.450197399 0.450197399 0.511906862 ... 0.510205805 0.470370293 0.450197399 0.510205805 0.510205805 0.470370293 0.511906862 0.511906862 0.510205805 0.507743835]\n",
      " [0.490183651 0.490183651 0.490183651 0.490183651 0.490183651 0.490183651 0.490183651 0.454069853 0.484518647 0.490183651 ... 0.454069853 0.490183651 0.490183651 0.521114588 0.490183651 0.490183651 0.490183651 0.490183651 0.484279573 0.490183651]]\n",
      "loss_per_sample [0.707960546 0.706912458 0.715922534 ... 0.712828338 0.716492772 0.734244]\n",
      "function_values_true_ones_rounded 1164 86 function_values_pred_ones_rounded 516 734\n",
      "function_values_true_ones_rounded 1034 216 function_values_pred_ones_rounded 674 576\n",
      "function_values_true_ones_rounded 1020 230 function_values_pred_ones_rounded 156 1094\n",
      "function_values_true_ones_rounded 1050 200 function_values_pred_ones_rounded 726 524\n",
      "function_values_true_ones_rounded 1066 184 function_values_pred_ones_rounded 340 910\n",
      "function_values_true_ones_rounded 784 466 function_values_pred_ones_rounded 350 900\n",
      "function_values_true_ones_rounded 1058 192 function_values_pred_ones_rounded 542 708\n",
      "function_values_true_ones_rounded 1142 108 function_values_pred_ones_rounded 58 1192\n",
      "function_values_true_ones_rounded 1124 126 function_values_pred_ones_rounded 1218 32\n",
      "function_values_array_function_true [[0.620845318 0.872964 0.865741193 0.735512316 0.785088062 0.901070714 0.613090456 0.733676136 0.836157501 0.504702806 ... 0.860488474 0.676559746 0.812055171 0.785256386 0.731090844 0.599103451 0.73402667 0.807074189 0.594807744 0.812779367]]\n",
      "function_values_array_function_pred [[0.523156047 0.499163091 0.523156047 0.523156047 0.523156047 0.523156047 0.523156047 0.523156047 0.523156047 0.523156047 ... 0.523156047 0.523156047 0.523156047 0.523156047 0.523156047 0.523156047 0.523156047 0.523156047 0.523156047 0.523156047]]\n",
      "loss_per_sample [0.664950788]\n",
      "function_values_true_ones_rounded 1124 126 function_values_pred_ones_rounded 1218 32\n",
      "1/1 - 22s - loss: 0.7157 - binary_accuracy_inet_decision_function_fv_metric: 0.3500 - val_loss: 0.6650 - val_binary_accuracy_inet_decision_function_fv_metric: 0.8736\n",
      "Epoch 2/2\n",
      "function_values_true_ones_rounded 1020 230 function_values_pred_ones_rounded 340 910\n",
      "function_values_true_ones_rounded 1058 192 function_values_pred_ones_rounded 556 694\n",
      "function_values_true_ones_rounded 1164 86 function_values_pred_ones_rounded 670 580\n",
      "function_values_true_ones_rounded 1142 108 function_values_pred_ones_rounded 1074 176\n",
      "function_values_true_ones_rounded 784 466 function_values_pred_ones_rounded 790 460\n",
      "function_values_true_ones_rounded 1066 184 function_values_pred_ones_rounded 1188 62\n",
      "function_values_true_ones_rounded 1034 216 function_values_pred_ones_rounded 806 444\n",
      "function_values_true_ones_rounded 1050 200 function_values_pred_ones_rounded 542 708\n",
      "function_values_array_function_true [[0.788281441 0.705621719 0.646601319 0.241303682 0.696271181 0.52571249 0.674471 0.825635254 0.64710629 0.57543081 ... 0.457745939 0.30356741 0.514516532 0.73904 0.645078182 0.796576202 0.846022904 0.564438939 0.645288587 0.569339037]\n",
      " [0.8442384 0.69921124 0.622441113 0.910167813 0.859973669 0.787135959 0.724956512 0.655067682 0.897111535 0.847845614 ... 0.823403537 0.844533801 0.809737206 0.655140042 0.737854838 0.584875405 0.738366187 0.828848481 0.619642794 0.796228647]\n",
      " [0.666867316 0.675790131 0.780605912 0.763275087 0.488394767 0.749306083 0.675857961 0.680785 0.768090546 0.752324104 ... 0.837525129 0.74327147 0.677623212 0.479256421 0.664873958 0.756853461 0.639441788 0.734751701 0.619719148 0.677509129]\n",
      " [0.570688248 0.839234233 0.777575374 0.701019 0.73370862 0.816617608 0.728977859 0.662240863 0.70482403 0.642333 ... 0.589503527 0.537999153 0.438483596 0.862968802 0.630022645 0.572843075 0.592913151 0.767293453 0.799895346 0.743572176]\n",
      " [0.498808146 0.841915548 0.529173732 0.789539754 0.723227203 0.741658807 0.243069142 0.882677317 0.411118984 0.787188172 ... 0.399184436 0.22114259 0.404206961 0.803438485 0.172728077 0.876189291 0.439976275 0.883814454 0.29437837 0.876810491]\n",
      " [0.709518313 0.788385451 0.840007722 0.792597234 0.745963514 0.716193736 0.489425272 0.784967661 0.7271415 0.798954 ... 0.675456166 0.691696644 0.788750589 0.781129599 0.424943864 0.718741179 0.840305448 0.63027 0.791314363 0.117317371]\n",
      " [0.738942 0.856333256 0.734849036 0.758642614 0.764478326 0.812910676 0.619318545 0.649274 0.151896626 0.544933438 ... 0.672973514 0.452209145 0.761200905 0.692881107 0.832497776 0.764306307 0.803935826 0.71908015 0.661015034 0.729659438]\n",
      " [0.446053088 0.57309562 0.866300166 0.875632286 0.782353401 0.638108075 0.769466877 0.619769 0.794057548 0.611006618 ... 0.752813458 0.733096063 0.738275647 0.670333 0.603519857 0.563899636 0.663951933 0.686462 0.69792366 0.855805755]]\n",
      "function_values_array_function_pred [[0.478137195 0.478137195 0.526159286 0.492867351 0.478137195 0.478137195 0.526159286 0.531012893 0.531012893 0.485055625 ... 0.478137195 0.492867351 0.518536031 0.493715584 0.478137195 0.478137195 0.485055625 0.478137195 0.478137195 0.478137195]\n",
      " [0.498664856 0.499160945 0.51297617 0.492014945 0.498664856 0.498664856 0.51297617 0.498664856 0.498664856 0.51297617 ... 0.51297617 0.492014945 0.498664856 0.51297617 0.51297617 0.498664856 0.51297617 0.51297617 0.51297617 0.51297617]\n",
      " [0.501779 0.473929405 0.47640723 0.485217452 0.501779 0.501779 0.485217452 0.490295231 0.47640723 0.501779 ... 0.463970721 0.473929405 0.501779 0.485217452 0.501779 0.473929405 0.501779 0.501779 0.501779 0.501779]\n",
      " [0.536528826 0.536528826 0.511026382 0.536528826 0.460160077 0.482222915 0.536528826 0.52060622 0.507960677 0.536528826 ... 0.536528826 0.536528826 0.550780535 0.51function_values_true_ones_rounded 1020 230 function_values_pred_ones_rounded 340 910\n",
      "1026382 0.550780535 0.550780535 0.550780535 0.536528826 0.482222915 0.536528826]\n",
      " [0.476061046 0.512216449 0.512216449 0.476061046 0.516644239 0.508048296 0.538327098 0.508048296 0.476061046 0.508048296 ... 0.476061046 0.476061046 0.501395524 0.501395524 0.501395524 0.501395524 0.538327098 0.499895096 0.476061046 0.508048296]\n",
      " [0.534854829 0.534854829 0.534854829 0.534854829 0.51199019 0.534854829 0.534854829 0.534854829 0.534854829 0.534854829 ... 0.534854829 0.51199019 0.534854829 0.485834956 0.534854829 0.534854829 0.534854829 0.534854829 0.491955459 0.534854829]\n",
      " [0.50449717 0.498964906 0.484787762 0.514710903 0.51936996 0.498964906 0.50449717 0.498964906 0.524520159 0.498964906 ... 0.514710903 0.524520159 0.51936996 0.524520159 0.51936996 0.51936996 0.498964906 0.505903065 0.498964906 0.505903065]\n",
      " [0.513653398 0.487675309 0.477495849 0.477495849 0.503460646 0.476723313 0.503460646 0.513653398 0.476723313 0.513653398 ... 0.513653398 0.477495849 0.513653398 0.513653398 0.477495849 0.513653398 0.477495849 0.487675309 0.476723313 0.549633443]]\n",
      "loss_per_sample [0.705919504 0.689791858 0.70812583 ... 0.655277729 0.68660295 0.694572687]\n",
      "function_values_true_ones_rounded 1058 192 function_values_pred_ones_rounded 556 694\n",
      "function_values_true_ones_rounded 1164 86 function_values_pred_ones_rounded 670 580\n",
      "function_values_true_ones_rounded 1142 108 function_values_pred_ones_rounded 1074 176\n",
      "function_values_true_ones_rounded 784 466 function_values_pred_ones_rounded 790 460\n",
      "function_values_true_ones_rounded 1066 184 function_values_pred_ones_rounded 1188 62\n",
      "function_values_true_ones_rounded 1034 216 function_values_pred_ones_rounded 806 444\n",
      "function_values_true_ones_rounded 1050 200 function_values_pred_ones_rounded 542 708\n",
      "function_values_true_ones_rounded 1124 126 function_values_pred_ones_rounded 1238 12\n",
      "function_values_array_function_true [[0.620845318 0.872964 0.865741193 0.735512316 0.785088062 0.901070714 0.613090456 0.733676136 0.836157501 0.504702806 ... 0.860488474 0.676559746 0.812055171 0.785256386 0.731090844 0.599103451 0.73402667 0.807074189 0.594807744 0.812779367]]\n",
      "function_values_true_ones_rounded 1124 126 function_values_pred_ones_rounded 1238 12\n",
      "function_values_array_function_pred [[0.543670952 0.518039703 0.543670952 0.543670952 0.543670952 0.543670952 0.543670952 0.543670952 0.543670952 0.543670952 ... 0.543670952 0.543670952 0.543670952 0.543670952 0.543670952 0.543670952 0.543670952 0.543670952 0.543670952 0.543670952]]\n",
      "loss_per_sample [0.641751826]\n",
      "1/1 - 0s - loss: 0.6832 - binary_accuracy_inet_decision_function_fv_metric: 0.5652 - val_loss: 0.6418 - val_binary_accuracy_inet_decision_function_fv_metric: 0.8896\n",
      "Training Time: 0:00:25\n",
      "---------------------------------------------------------------------------------------------------------------------------\n",
      "------------------------------------------------------ LOADING MODELS -----------------------------------------------------\n",
      "Loading Time: 0:00:01\n"
     ]
    },
    {
     "data": {
      "text/plain": [
       "<Figure size 432x288 with 0 Axes>"
      ]
     },
     "metadata": {},
     "output_type": "display_data"
    }
   ],
   "source": [
    "((X_valid, y_valid), \n",
    " (X_test, y_test),\n",
    " \n",
    " history,\n",
    " loss_function,\n",
    " metrics,\n",
    " \n",
    " model,\n",
    " encoder_model) = interpretation_net_training(\n",
    "                                      lambda_net_dataset_train, \n",
    "                                      lambda_net_dataset_valid, \n",
    "                                      lambda_net_dataset_test,\n",
    "                                      config,\n",
    "                                      #callback_names=['tensorboard'] #plot_losses\n",
    "                                     )\n",
    "\n"
   ]
  },
  {
   "cell_type": "code",
   "execution_count": 20,
   "metadata": {
    "execution": {
     "iopub.execute_input": "2022-01-25T12:25:43.017863Z",
     "iopub.status.busy": "2022-01-25T12:25:43.017607Z",
     "iopub.status.idle": "2022-01-25T12:25:43.212098Z",
     "shell.execute_reply": "2022-01-25T12:25:43.211584Z",
     "shell.execute_reply.started": "2022-01-25T12:25:43.017841Z"
    },
    "tags": []
   },
   "outputs": [
    {
     "data": {
      "image/png": "[encoded data removed]",
      "text/plain": [
       "<Figure size 432x288 with 1 Axes>"
      ]
     },
     "metadata": {},
     "output_type": "display_data"
    }
   ],
   "source": [
    "if nas:\n",
    "    for trial in history: \n",
    "        print(trial.summary())\n",
    "        \n",
    "    writepath_nas = './results_nas.csv'\n",
    "\n",
    "    if different_eval_data:\n",
    "        flat_config = flatten_dict(config_train)\n",
    "    else:\n",
    "        flat_config = flatten_dict(config)    \n",
    "\n",
    "    if not os.path.exists(writepath_nas):\n",
    "        with open(writepath_nas, 'w+') as text_file:       \n",
    "            for key in flat_config.keys():\n",
    "                text_file.write(key)\n",
    "                text_file.write(';')         \n",
    "\n",
    "            for hp in history[0].hyperparameters.values.keys():\n",
    "                text_file.write(hp + ';')    \n",
    "               \n",
    "            text_file.write('score')\n",
    "            \n",
    "            text_file.write('\\n')\n",
    "\n",
    "    with open(writepath_nas, 'a+') as text_file:  \n",
    "        for value in flat_config.values():\n",
    "            text_file.write(str(value))\n",
    "            text_file.write(';')\n",
    "\n",
    "        for hp, value in history[0].hyperparameters.values.items():\n",
    "            text_file.write(str(value) + ';')        \n",
    "\n",
    "        \n",
    "        text_file.write(str(history[0].score))\n",
    "            \n",
    "        text_file.write('\\n')            \n",
    "\n",
    "        text_file.close()      \n",
    "        \n",
    "else:\n",
    "    plt.plot(history['loss'])\n",
    "    plt.plot(history['val_loss'])\n",
    "    plt.title('model loss')\n",
    "    plt.ylabel('loss')\n",
    "    plt.xlabel('epoch')\n",
    "    plt.legend(['train', 'valid'], loc='upper left')    "
   ]
  },
  {
   "cell_type": "code",
   "execution_count": 21,
   "metadata": {
    "execution": {
     "iopub.execute_input": "2022-01-25T12:25:43.212985Z",
     "iopub.status.busy": "2022-01-25T12:25:43.212805Z",
     "iopub.status.idle": "2022-01-25T12:25:45.648761Z",
     "shell.execute_reply": "2022-01-25T12:25:45.646944Z",
     "shell.execute_reply.started": "2022-01-25T12:25:43.212965Z"
    },
    "tags": []
   },
   "outputs": [
    {
     "data": {
      "image/png": "[encoded data removed]",
      "text/plain": [
       "<IPython.core.display.Image object>"
      ]
     },
     "execution_count": 21,
     "metadata": {},
     "output_type": "execute_result"
    }
   ],
   "source": [
    "index = 0\n",
    "if test_size > 0:\n",
    "    network_parameters = np.array([lambda_net_dataset_test.network_parameters_array[index]])\n",
    "else:\n",
    "    network_parameters = np.array([lambda_net_dataset_valid.network_parameters_array[index]])\n",
    "    \n",
    "if config['i_net']['data_reshape_version'] == 1 or config['i_net']['data_reshape_version'] == 2:\n",
    "    network_parameters, network_parameters_flat = restructure_data_cnn_lstm(network_parameters, config, subsequences=None)\n",
    "elif config['i_net']['data_reshape_version'] == 3: #autoencoder\n",
    "    network_parameters, network_parameters_flat, _ = autoencode_data(network_parameters, config, encoder_model)    \n",
    "dt_parameters = model.predict(network_parameters)[0]\n",
    "\n",
    "if config['function_family']['dt_type'] == 'vanilla':\n",
    "    image, nodes = anytree_decision_tree_from_parameters(dt_parameters, config=config)\n",
    "else:\n",
    "    tree = generate_random_decision_tree(config)\n",
    "    tree.initialize_from_parameter_array(dt_parameters, reshape=True, config=config)\n",
    "    image = tree.plot_tree()\n",
    "image"
   ]
  },
  {
   "cell_type": "code",
   "execution_count": 22,
   "metadata": {
    "execution": {
     "iopub.execute_input": "2022-01-25T12:25:45.651295Z",
     "iopub.status.busy": "2022-01-25T12:25:45.650841Z",
     "iopub.status.idle": "2022-01-25T12:25:45.681810Z",
     "shell.execute_reply": "2022-01-25T12:25:45.680999Z",
     "shell.execute_reply.started": "2022-01-25T12:25:45.651240Z"
    },
    "tags": []
   },
   "outputs": [
    {
     "name": "stdout",
     "output_type": "stream",
     "text": [
      "Model: \"model\"\n",
      "__________________________________________________________________________________________________\n",
      "Layer (type)                    Output Shape         Param #     Connected to                     \n",
      "==================================================================================================\n",
      "input (InputLayer)              [(None, 1537)]       0                                            \n",
      "__________________________________________________________________________________________________\n",
      "hidden1_1024 (Dense)            (None, 1024)         1574912     input[0][0]                      \n",
      "__________________________________________________________________________________________________\n",
      "activation1_relu (Activation)   (None, 1024)         0           hidden1_1024[0][0]               \n",
      "__________________________________________________________________________________________________\n",
      "dropout1_0.3 (Dropout)          (None, 1024)         0           activation1_relu[0][0]           \n",
      "__________________________________________________________________________________________________\n",
      "hidden2_1024 (Dense)            (None, 1024)         1049600     dropout1_0.3[0][0]               \n",
      "__________________________________________________________________________________________________\n",
      "activation2_relu (Activation)   (None, 1024)         0           hidden2_1024[0][0]               \n",
      "__________________________________________________________________________________________________\n",
      "dropout2_0.3 (Dropout)          (None, 1024)         0           activation2_relu[0][0]           \n",
      "__________________________________________________________________________________________________\n",
      "hidden3_256 (Dense)             (None, 256)          262400      dropout2_0.3[0][0]               \n",
      "__________________________________________________________________________________________________\n",
      "activation3_relu (Activation)   (None, 256)          0           hidden3_256[0][0]                \n",
      "__________________________________________________________________________________________________\n",
      "dropout3_0.3 (Dropout)          (None, 256)          0           activation3_relu[0][0]           \n",
      "__________________________________________________________________________________________________\n",
      "hidden4_2048 (Dense)            (None, 2048)         526336      dropout3_0.3[0][0]               \n",
      "__________________________________________________________________________________________________\n",
      "activation4_relu (Activation)   (None, 2048)         0           hidden4_2048[0][0]               \n",
      "__________________________________________________________________________________________________\n",
      "dropout4_0.3 (Dropout)          (None, 2048)         0           activation4_relu[0][0]           \n",
      "__________________________________________________________________________________________________\n",
      "hidden5_2048 (Dense)            (None, 2048)         4196352     dropout4_0.3[0][0]               \n",
      "__________________________________________________________________________________________________\n",
      "activation5_relu (Activation)   (None, 2048)         0           hidden5_2048[0][0]               \n",
      "__________________________________________________________________________________________________\n",
      "dropout5_0.3 (Dropout)          (None, 2048)         0           activation5_relu[0][0]           \n",
      "__________________________________________________________________________________________________\n",
      "output_coeff_150 (Dense)        (None, 150)          307350      dropout5_0.3[0][0]               \n",
      "__________________________________________________________________________________________________\n",
      "output_identifier_1 (Dense)     (None, 10)           20490       dropout5_0.3[0][0]               \n",
      "__________________________________________________________________________________________________\n",
      "output_identifier_2 (Dense)     (None, 10)           20490       dropout5_0.3[0][0]               \n",
      "__________________________________________________________________________________________________\n",
      "output_identifier_3 (Dense)     (None, 10)           20490       dropout5_0.3[0][0]               \n",
      "__________________________________________________________________________________________________\n",
      "output_identifier_4 (Dense)     (None, 10)           20490       dropout5_0.3[0][0]               \n",
      "__________________________________________________________________________________________________\n",
      "output_identifier_5 (Dense)     (None, 10)           20490       dropout5_0.3[0][0]               \n",
      "__________________________________________________________________________________________________\n",
      "output_identifier_6 (Dense)     (None, 10)           20490       dropout5_0.3[0][0]               \n",
      "__________________________________________________________________________________________________\n",
      "output_identifier_7 (Dense)     (None, 10)           20490       dropout5_0.3[0][0]               \n",
      "__________________________________________________________________________________________________\n",
      "output_identifier_8 (Dense)     (None, 10)           20490       dropout5_0.3[0][0]               \n",
      "__________________________________________________________________________________________________\n",
      "output_identifier_9 (Dense)     (None, 10)           20490       dropout5_0.3[0][0]               \n",
      "__________________________________________________________________________________________________\n",
      "output_identifier_10 (Dense)    (None, 10)           20490       dropout5_0.3[0][0]               \n",
      "__________________________________________________________________________________________________\n",
      "output_identifier_11 (Dense)    (None, 10)           20490       dropout5_0.3[0][0]               \n",
      "__________________________________________________________________________________________________\n",
      "output_identifier_12 (Dense)    (None, 10)           20490       dropout5_0.3[0][0]               \n",
      "__________________________________________________________________________________________________\n",
      "output_identifier_13 (Dense)    (None, 10)           20490       dropout5_0.3[0][0]               \n",
      "__________________________________________________________________________________________________\n",
      "output_identifier_14 (Dense)    (None, 10)           20490       dropout5_0.3[0][0]               \n",
      "__________________________________________________________________________________________________\n",
      "output_identifier_15 (Dense)    (None, 10)           20490       dropout5_0.3[0][0]               \n",
      "__________________________________________________________________________________________________\n",
      "output_leaf_node_16 (Dense)     (None, 16)           32784       dropout5_0.3[0][0]               \n",
      "__________________________________________________________________________________________________\n",
      "output_combined (Concatenate)   (None, 316)          0           output_coeff_150[0][0]           \n",
      "                                                                 output_identifier_1[0][0]        \n",
      "                                                                 output_identifier_2[0][0]        \n",
      "                                                                 output_identifier_3[0][0]        \n",
      "                                                                 output_identifier_4[0][0]        \n",
      "                                                                 output_identifier_5[0][0]        \n",
      "                                                                 output_identifier_6[0][0]        \n",
      "                                                                 output_identifier_7[0][0]        \n",
      "                                                                 output_identifier_8[0][0]        \n",
      "                                                                 output_identifier_9[0][0]        \n",
      "                                                                 output_identifier_10[0][0]       \n",
      "                                                                 output_identifier_11[0][0]       \n",
      "                                                                 output_identifier_12[0][0]       \n",
      "                                                                 output_identifier_13[0][0]       \n",
      "                                                                 output_identifier_14[0][0]       \n",
      "                                                                 output_identifier_15[0][0]       \n",
      "                                                                 output_leaf_node_16[0][0]        \n",
      "==================================================================================================\n",
      "Total params: 8,257,084\n",
      "Trainable params: 8,257,084\n",
      "Non-trainable params: 0\n",
      "__________________________________________________________________________________________________\n"
     ]
    }
   ],
   "source": [
    "model.summary()"
   ]
  },
  {
   "cell_type": "markdown",
   "metadata": {},
   "source": [
    "    Normal: This is useful for looking at means and other linear combinations (e.g. regression coefficients) because of the CLT. Related to that is if something is known to arise due to additive effects of many different small causes then the normal may be a reasonable distribution: for example, many biological measures are the result of multiple genes and multiple environmental factors and therefor are often approximately normal.\n",
    "\n",
    "    Gamma: Right skewed and useful for things with a natural minimum at 0. Commonly used for elapsed times and some financial variables.\n",
    "\n",
    "    Exponential: special case of the Gamma. It is memoryless and scales easily.\n",
    "\n",
    "    Chi-squared (𝜒2): special case of the Gamma. Arises as sum of squared normal variables (so used for variances).\n",
    "\n",
    "    Beta: Defined between 0 and 1 (but could be transformed to be between other values), useful for proportions or other quantities that must be between 0 and 1.\n",
    "\n",
    "    Binomial: How many \"successes\" out of a given number of independent trials with same probability of \"success\".\n",
    "\n",
    "    Poisson: Common for counts. Nice properties that if the number of events in a period of time or area follows a Poisson, then the number in twice the time or area still follows the Poisson (with twice the mean): this works for adding Poissons or scaling with values other than 2.\n",
    "\n",
    "    Note that if events occur over time and the time between occurrences follows an exponential then the number that occur in a time period follows a Poisson.\n",
    "\n",
    "    Negative Binomial: Counts with minimum 0 (or other value depending on which version) and no upper bound. Conceptually it is the number of \"failures\" before k \"successes\". The negative binomial is also a mixture of Poisson variables whose means come from a gamma distribution.\n",
    "\n",
    "    Geometric: special case for negative binomial where it is the number of \"failures\" before the 1st \"success\". If you truncate (round down) an exponential variable to make it discrete, the result is geometric."
   ]
  },
  {
   "cell_type": "code",
   "execution_count": 23,
   "metadata": {
    "execution": {
     "iopub.execute_input": "2022-01-25T12:25:45.683897Z",
     "iopub.status.busy": "2022-01-25T12:25:45.683316Z",
     "iopub.status.idle": "2022-01-25T12:25:55.305812Z",
     "shell.execute_reply": "2022-01-25T12:25:55.305079Z",
     "shell.execute_reply.started": "2022-01-25T12:25:45.683850Z"
    },
    "tags": []
   },
   "outputs": [
    {
     "name": "stderr",
     "output_type": "stream",
     "text": [
      "[Parallel(n_jobs=5)]: Using backend LokyBackend with 5 concurrent workers.\n",
      "[Parallel(n_jobs=5)]: Done   8 out of   8 | elapsed:    7.1s remaining:    0.0s\n",
      "[Parallel(n_jobs=5)]: Done   8 out of   8 | elapsed:    7.1s finished\n"
     ]
    },
    {
     "data": {
      "application/vnd.jupyter.widget-view+json": {
       "model_id": "29f15a7dc4854ff4ae7f68d4cce6d4d6",
       "version_major": 2,
       "version_minor": 0
      },
      "text/plain": [
       "  0%|          | 0/8 [00:00<?, ?it/s]"
      ]
     },
     "metadata": {},
     "output_type": "display_data"
    },
    {
     "name": "stderr",
     "output_type": "stream",
     "text": [
      "[Parallel(n_jobs=5)]: Using backend LokyBackend with 5 concurrent workers.\n",
      "[Parallel(n_jobs=5)]: Done   1 out of   1 | elapsed:    2.1s finished\n"
     ]
    },
    {
     "data": {
      "application/vnd.jupyter.widget-view+json": {
       "model_id": "34358fe406e340ca8afd28ad88b33fe8",
       "version_major": 2,
       "version_minor": 0
      },
      "text/plain": [
       "  0%|          | 0/1 [00:00<?, ?it/s]"
      ]
     },
     "metadata": {},
     "output_type": "display_data"
    }
   ],
   "source": [
    "\n",
    "mean_train_parameters = np.round(np.mean(lambda_net_dataset_train.network_parameters_array, axis=0), 5)\n",
    "std_train_parameters = np.round(np.std(lambda_net_dataset_train.network_parameters_array, axis=0), 5)\n",
    "\n",
    "(inet_evaluation_result_dict_train, \n",
    " inet_evaluation_result_dict_mean_train, \n",
    " dt_distilled_list_train,\n",
    " distances_dict) = evaluate_interpretation_net_synthetic_data(lambda_net_dataset_train.network_parameters_array, \n",
    "                                                               lambda_net_dataset_train.X_test_lambda_array,\n",
    "                                                               model,\n",
    "                                                               config,\n",
    "                                                               identifier='train',\n",
    "                                                               mean_train_parameters=mean_train_parameters,\n",
    "                                                               std_train_parameters=std_train_parameters,\n",
    "                                                               network_parameters_train_array=lambda_net_dataset_train.network_parameters_array,\n",
    "                                                               encoder_model=encoder_model)\n",
    "\n",
    "\n",
    "(inet_evaluation_result_dict_valid, \n",
    " inet_evaluation_result_dict_mean_valid, \n",
    " dt_distilled_list_valid,\n",
    " distances_dict) = evaluate_interpretation_net_synthetic_data(lambda_net_dataset_valid.network_parameters_array, \n",
    "                                                               lambda_net_dataset_valid.X_test_lambda_array,\n",
    "                                                               model,\n",
    "                                                               config,\n",
    "                                                               identifier='valid',\n",
    "                                                               mean_train_parameters=mean_train_parameters,\n",
    "                                                               std_train_parameters=std_train_parameters,\n",
    "                                                               network_parameters_train_array=lambda_net_dataset_train.network_parameters_array,\n",
    "                                                               distances_dict=distances_dict,\n",
    "                                                               encoder_model=encoder_model)"
   ]
  },
  {
   "cell_type": "code",
   "execution_count": null,
   "metadata": {},
   "outputs": [],
   "source": []
  },
  {
   "cell_type": "code",
   "execution_count": 24,
   "metadata": {
    "execution": {
     "iopub.execute_input": "2022-01-25T12:25:55.306904Z",
     "iopub.status.busy": "2022-01-25T12:25:55.306728Z",
     "iopub.status.idle": "2022-01-25T12:25:55.310681Z",
     "shell.execute_reply": "2022-01-25T12:25:55.309820Z",
     "shell.execute_reply.started": "2022-01-25T12:25:55.306880Z"
    },
    "tags": []
   },
   "outputs": [],
   "source": [
    "#%load_ext autoreload\n",
    "#%autoreload 2\n",
    "#set_loky_pickler('pickle')"
   ]
  },
  {
   "cell_type": "code",
   "execution_count": 25,
   "metadata": {
    "execution": {
     "iopub.execute_input": "2022-01-25T12:25:55.312266Z",
     "iopub.status.busy": "2022-01-25T12:25:55.311727Z",
     "iopub.status.idle": "2022-01-25T12:25:55.375563Z",
     "shell.execute_reply": "2022-01-25T12:25:55.374233Z",
     "shell.execute_reply.started": "2022-01-25T12:25:55.312208Z"
    },
    "tags": []
   },
   "outputs": [],
   "source": [
    "config['i_net']['test_size'] = 3"
   ]
  },
  {
   "cell_type": "code",
   "execution_count": 26,
   "metadata": {
    "execution": {
     "iopub.execute_input": "2022-01-25T12:25:55.378064Z",
     "iopub.status.busy": "2022-01-25T12:25:55.377583Z",
     "iopub.status.idle": "2022-01-25T12:25:55.495743Z",
     "shell.execute_reply": "2022-01-25T12:25:55.495229Z",
     "shell.execute_reply.started": "2022-01-25T12:25:55.378013Z"
    },
    "tags": []
   },
   "outputs": [],
   "source": [
    "%load_ext autoreload\n",
    "%autoreload 2"
   ]
  },
  {
   "cell_type": "code",
   "execution_count": 27,
   "metadata": {
    "execution": {
     "iopub.execute_input": "2022-01-25T12:25:55.496805Z",
     "iopub.status.busy": "2022-01-25T12:25:55.496634Z",
     "iopub.status.idle": "2022-01-25T12:25:55.545894Z",
     "shell.execute_reply": "2022-01-25T12:25:55.545276Z",
     "shell.execute_reply.started": "2022-01-25T12:25:55.496783Z"
    },
    "tags": []
   },
   "outputs": [
    {
     "data": {
      "text/plain": [
       "True"
      ]
     },
     "execution_count": 27,
     "metadata": {},
     "output_type": "execute_result"
    }
   ],
   "source": [
    "random_parameters_distribution"
   ]
  },
  {
   "cell_type": "code",
   "execution_count": 28,
   "metadata": {
    "execution": {
     "iopub.execute_input": "2022-01-25T12:25:55.547058Z",
     "iopub.status.busy": "2022-01-25T12:25:55.546796Z",
     "iopub.status.idle": "2022-01-25T12:25:55.600071Z",
     "shell.execute_reply": "2022-01-25T12:25:55.599446Z",
     "shell.execute_reply.started": "2022-01-25T12:25:55.547036Z"
    },
    "tags": []
   },
   "outputs": [
    {
     "data": {
      "text/plain": [
       "0"
      ]
     },
     "execution_count": 28,
     "metadata": {},
     "output_type": "execute_result"
    }
   ],
   "source": [
    "max_distributions_per_class"
   ]
  },
  {
   "cell_type": "code",
   "execution_count": 29,
   "metadata": {
    "execution": {
     "iopub.execute_input": "2022-01-25T12:25:55.601397Z",
     "iopub.status.busy": "2022-01-25T12:25:55.600973Z",
     "iopub.status.idle": "2022-01-25T12:25:56.292844Z",
     "shell.execute_reply": "2022-01-25T12:25:56.292018Z",
     "shell.execute_reply.started": "2022-01-25T12:25:55.601375Z"
    },
    "tags": []
   },
   "outputs": [],
   "source": [
    "config['data']['number_of_generated_datasets'] = number_of_trained_lambda_nets\n",
    "path_identifier_function_data = generate_paths(config, path_type='lambda_net')['path_identifier_function_data']\n",
    "path_X_data = './data/saved_function_lists/X_data_' + path_identifier_function_data + '.pkl'\n",
    "with open(path_X_data, 'rb') as f:\n",
    "    X_data_list_lambda = pickle.load(f)"
   ]
  },
  {
   "cell_type": "code",
   "execution_count": 30,
   "metadata": {
    "execution": {
     "iopub.execute_input": "2022-01-25T12:25:56.293905Z",
     "iopub.status.busy": "2022-01-25T12:25:56.293755Z",
     "iopub.status.idle": "2022-01-25T12:26:06.286096Z",
     "shell.execute_reply": "2022-01-25T12:26:06.285325Z",
     "shell.execute_reply.started": "2022-01-25T12:25:56.293885Z"
    },
    "tags": []
   },
   "outputs": [
    {
     "data": {
      "image/png": "[encoded data removed]",
      "text/plain": [
       "<Figure size 1080x360 with 2 Axes>"
      ]
     },
     "metadata": {},
     "output_type": "display_data"
    }
   ],
   "source": [
    "(placeholder, \n",
    " X_data, \n",
    " y_data_rounded, \n",
    " y_data, \n",
    " distribution_parameter_list) = generate_data_distribtion(config, \n",
    "                                                          seed=RANDOM_SEED+4, \n",
    "                                                          max_distributions_per_class=max_distributions_per_class, \n",
    "                                                          random_parameters=random_parameters_distribution,\n",
    "                                                          flip_percentage=0.2)\n",
    "\n",
    "#X_train, y_train, X_valid, y_valid, X_test, y_test = split_train_test_valid(X_data, y_data, valid_frac=0.2, test_frac=0.2, seed=config['computation']['RANDOM_SEED'])\n",
    "X_train_with_valid, X_test, y_train_with_valid, y_test = train_test_split(X_data, y_data, test_size=0.25, random_state=config['computation']['RANDOM_SEED'])           \n",
    "X_train, X_valid, y_train, y_valid= train_test_split(X_train_with_valid, y_train_with_valid, test_size=0.1, random_state=config['computation']['RANDOM_SEED'])  \n",
    "\n",
    "\n",
    "test_network, model_history = train_network_real_world_data(X_train, y_train, X_valid, y_valid, config, verbose=1)  \n",
    "\n"
   ]
  },
  {
   "cell_type": "code",
   "execution_count": 31,
   "metadata": {
    "execution": {
     "iopub.execute_input": "2022-01-25T12:26:06.291625Z",
     "iopub.status.busy": "2022-01-25T12:26:06.291276Z",
     "iopub.status.idle": "2022-01-25T12:27:01.555914Z",
     "shell.execute_reply": "2022-01-25T12:27:01.555110Z",
     "shell.execute_reply.started": "2022-01-25T12:26:06.291600Z"
    },
    "tags": []
   },
   "outputs": [
    {
     "data": {
      "image/png": "[encoded data removed]",
      "text/plain": [
       "<Figure size 864x576 with 2 Axes>"
      ]
     },
     "metadata": {},
     "output_type": "display_data"
    },
    {
     "name": "stdout",
     "output_type": "stream",
     "text": [
      "binary_accuracy\n",
      "\ttraining         \t (min:    0.545, max:    0.975, cur:    0.974)\n",
      "\tvalidation       \t (min:    0.651, max:    0.968, cur:    0.960)\n",
      "Loss\n",
      "\ttraining         \t (min:    0.059, max:    0.625, cur:    0.060)\n",
      "\tvalidation       \t (min:    0.067, max:    0.569, cur:    0.069)\n"
     ]
    }
   ],
   "source": [
    "random_network = train_lambda_net(config=config,\n",
    "                                  lambda_index=1, \n",
    "                                  X_data_with_function=[pd.DataFrame(np.array([0])), pd.DataFrame(X_data)], \n",
    "                                  y_data_with_function=[pd.DataFrame(np.array([0])), pd.DataFrame(y_data)], \n",
    "                                  distribution_parameter_list = None,\n",
    "                                  callbacks=[PlotLossesKerasTF()], \n",
    "                                  return_model=True,\n",
    "                                  printing=False)"
   ]
  },
  {
   "cell_type": "code",
   "execution_count": 32,
   "metadata": {
    "execution": {
     "iopub.execute_input": "2022-01-25T12:27:01.558646Z",
     "iopub.status.busy": "2022-01-25T12:27:01.558165Z",
     "iopub.status.idle": "2022-01-25T12:29:25.155007Z",
     "shell.execute_reply": "2022-01-25T12:29:25.154207Z",
     "shell.execute_reply.started": "2022-01-25T12:27:01.558578Z"
    },
    "tags": []
   },
   "outputs": [
    {
     "name": "stdout",
     "output_type": "stream",
     "text": [
      "[Parallel(n_jobs=5)]: Using backend SequentialBackend with 1 concurrent workers.\n"
     ]
    },
    {
     "data": {
      "image/png": "[encoded data removed]",
      "text/plain": [
       "<Figure size 1080x360 with 2 Axes>"
      ]
     },
     "metadata": {},
     "output_type": "display_data"
    },
    {
     "name": "stdout",
     "output_type": "stream",
     "text": [
      "[Parallel(n_jobs=5)]: Done   1 out of   1 | elapsed:   47.1s remaining:    0.0s\n"
     ]
    },
    {
     "data": {
      "image/png": "[encoded data removed]",
      "text/plain": [
       "<Figure size 1080x360 with 2 Axes>"
      ]
     },
     "metadata": {},
     "output_type": "display_data"
    },
    {
     "name": "stdout",
     "output_type": "stream",
     "text": [
      "[Parallel(n_jobs=5)]: Done   2 out of   2 | elapsed:  1.6min remaining:    0.0s\n"
     ]
    },
    {
     "data": {
      "image/png": "[encoded data removed]",
      "text/plain": [
       "<Figure size 1080x360 with 2 Axes>"
      ]
     },
     "metadata": {},
     "output_type": "display_data"
    },
    {
     "name": "stdout",
     "output_type": "stream",
     "text": [
      "[Parallel(n_jobs=5)]: Done   3 out of   3 | elapsed:  2.4min remaining:    0.0s\n",
      "[Parallel(n_jobs=5)]: Done   3 out of   3 | elapsed:  2.4min finished\n"
     ]
    }
   ],
   "source": [
    "if evaluate_distribution and test_size > 0:\n",
    "    (distances_dict, \n",
    "     inet_evaluation_result_dict_test, \n",
    "     inet_evaluation_result_dict_complete_by_distribution_test,\n",
    "     inet_evaluation_result_dict_mean_test,\n",
    "     inet_evaluation_result_dict_mean_by_distribution_test,\n",
    "     inet_evaluation_results_test, \n",
    "     dt_inet_list_test, \n",
    "     dt_distilled_list_test, \n",
    "     data_dict_list_test, \n",
    "     normalizer_list_list_test,\n",
    "     test_network_list,\n",
    "     model_history_list,\n",
    "     distribution_parameter_list_list) = distribution_evaluation_interpretation_net_synthetic_data(loss_function, \n",
    "                                                                                            metrics,\n",
    "                                                                                            #model,\n",
    "                                                                                           config,\n",
    "                                                                                           identifier='test',\n",
    "                                                                                           lambda_net_parameters_train=lambda_net_dataset_train.network_parameters_array,\n",
    "                                                                                           mean_train_parameters=mean_train_parameters,\n",
    "                                                                                           std_train_parameters=std_train_parameters,\n",
    "                                                                                           distances_dict=distances_dict,\n",
    "                                                                                           max_distributions_per_class=0,#max_distributions_per_class,\n",
    "                                                                                           flip_percentage=0.2,\n",
    "                                                                                           #encoder_model=encoder_model,\n",
    "                                                                                           distribution_list = ['uniform', 'gamma', 'beta', 'poisson', 'normal', 'binomial', 'exponential'],# #['uniform'],#\n",
    "                                                                                           random_parameters = True, #random_parameters_distribution\n",
    "                                                                                           verbose=1,\n",
    "                                                                                           backend='sequential',#sequential\n",
    "                                                                                    )\n",
    "else:\n",
    "    (inet_evaluation_result_dict_test, \n",
    "     inet_evaluation_result_dict_mean_test, \n",
    "     dt_distilled_list_test,\n",
    "     distances_dict) = evaluate_interpretation_net_synthetic_data(lambda_net_dataset_test.network_parameters_array, \n",
    "                                                                   lambda_net_dataset_test.X_test_lambda_array,\n",
    "                                                                   model,\n",
    "                                                                   config,\n",
    "                                                                   identifier='test',\n",
    "                                                                   mean_train_parameters=mean_train_parameters,\n",
    "                                                                   std_train_parameters=std_train_parameters,\n",
    "                                                                   network_parameters_train_array=lambda_net_dataset_train.network_parameters_array,\n",
    "                                                                   distances_dict=distances_dict,\n",
    "                                                                   encoder_model=encoder_model)\n",
    "    \n",
    "    print_results_synthetic_evaluation(inet_evaluation_result_dict_mean_train, \n",
    "                                       inet_evaluation_result_dict_mean_valid, \n",
    "                                       inet_evaluation_result_dict_mean_test, \n",
    "                                       distances_dict)    "
   ]
  },
  {
   "cell_type": "code",
   "execution_count": 33,
   "metadata": {
    "execution": {
     "iopub.execute_input": "2022-01-25T12:29:25.156560Z",
     "iopub.status.busy": "2022-01-25T12:29:25.156283Z",
     "iopub.status.idle": "2022-01-25T12:29:26.370728Z",
     "shell.execute_reply": "2022-01-25T12:29:26.369552Z",
     "shell.execute_reply.started": "2022-01-25T12:29:25.156537Z"
    },
    "tags": []
   },
   "outputs": [],
   "source": [
    "# generate_dataset_from_distributions"
   ]
  },
  {
   "cell_type": "code",
   "execution_count": 34,
   "metadata": {
    "execution": {
     "iopub.execute_input": "2022-01-25T12:29:26.372972Z",
     "iopub.status.busy": "2022-01-25T12:29:26.372484Z",
     "iopub.status.idle": "2022-01-25T12:29:26.457865Z",
     "shell.execute_reply": "2022-01-25T12:29:26.456999Z",
     "shell.execute_reply.started": "2022-01-25T12:29:26.372921Z"
    },
    "tags": []
   },
   "outputs": [
    {
     "data": {
      "text/plain": [
       "[{'normal': {'loc': 0.400022874963469, 'scale': 0.9209330290527359}},\n",
       " {'exponential': {'scale': 0.44092972680756853}},\n",
       " {'binomial': {'n': 97.63239374602546, 'p': 0.4059752421757134}},\n",
       " {'poisson': {'lam': 0.8790740298401013}},\n",
       " {'exponential': {'scale': 0.553181571296063}},\n",
       " {'poisson': {'lam': 1.0943528425394762}},\n",
       " {'normal': {'loc': 0.4876818462881787, 'scale': 1.0893860711323764}},\n",
       " {'uniform': {'low': 1.0228011639085428, 'high': 1.1559569279493047}},\n",
       " {'exponential': {'scale': 0.4837016361020905}},\n",
       " {'exponential': {'scale': 0.4396125729519248}}]"
      ]
     },
     "execution_count": 34,
     "metadata": {},
     "output_type": "execute_result"
    }
   ],
   "source": [
    "distribution_parameter_list_list[0]"
   ]
  },
  {
   "cell_type": "code",
   "execution_count": 35,
   "metadata": {
    "execution": {
     "iopub.execute_input": "2022-01-25T12:29:26.459525Z",
     "iopub.status.busy": "2022-01-25T12:29:26.459091Z",
     "iopub.status.idle": "2022-01-25T12:29:26.527828Z",
     "shell.execute_reply": "2022-01-25T12:29:26.527231Z",
     "shell.execute_reply.started": "2022-01-25T12:29:26.459487Z"
    },
    "tags": []
   },
   "outputs": [
    {
     "data": {
      "text/plain": [
       "[{'binomial': {'n': 90.67309100411467, 'p': 0.5242267665538589}},\n",
       " {'exponential': {'scale': 0.5952548909552483}},\n",
       " {'beta': {'a': 1.9350459428453235, 'b': 4.670815698546658}},\n",
       " {'beta': {'a': 1.9218810880298918, 'b': 5.045349342705139}},\n",
       " {'poisson': {'lam': 1.1813573384779745}},\n",
       " {'normal': {'loc': 0.45266300303702695, 'scale': 1.013495757352119}},\n",
       " {'uniform': {'low': 0.5195206812817663, 'high': 0.8824310729110154}},\n",
       " {'binomial': {'n': 117.64043440983343, 'p': 0.512736276046965}},\n",
       " {'poisson': {'lam': 1.1389249549946505}},\n",
       " {'normal': {'loc': 0.5783061458949416, 'scale': 1.1263349909230735}}]"
      ]
     },
     "execution_count": 35,
     "metadata": {},
     "output_type": "execute_result"
    }
   ],
   "source": [
    "distribution_parameter_list_list[1]"
   ]
  },
  {
   "cell_type": "code",
   "execution_count": 36,
   "metadata": {
    "execution": {
     "iopub.execute_input": "2022-01-25T12:29:26.529867Z",
     "iopub.status.busy": "2022-01-25T12:29:26.529327Z",
     "iopub.status.idle": "2022-01-25T12:29:26.581705Z",
     "shell.execute_reply": "2022-01-25T12:29:26.581148Z",
     "shell.execute_reply.started": "2022-01-25T12:29:26.529839Z"
    },
    "tags": []
   },
   "outputs": [],
   "source": [
    "#np.mean(inet_evaluation_result_dict_complete_by_distribution_test['uniform']['dt_scores']['accuracy'])"
   ]
  },
  {
   "cell_type": "code",
   "execution_count": 37,
   "metadata": {
    "execution": {
     "iopub.execute_input": "2022-01-25T12:29:26.582665Z",
     "iopub.status.busy": "2022-01-25T12:29:26.582504Z",
     "iopub.status.idle": "2022-01-25T12:29:26.637266Z",
     "shell.execute_reply": "2022-01-25T12:29:26.636665Z",
     "shell.execute_reply.started": "2022-01-25T12:29:26.582644Z"
    },
    "tags": []
   },
   "outputs": [
    {
     "data": {
      "text/plain": [
       "array([0.462, 0.476, 0.474])"
      ]
     },
     "execution_count": 37,
     "metadata": {},
     "output_type": "execute_result"
    }
   ],
   "source": [
    "np.array(inet_evaluation_result_dict_complete_by_distribution_test['uniform']['inet_scores']['accuracy'])"
   ]
  },
  {
   "cell_type": "code",
   "execution_count": 38,
   "metadata": {
    "execution": {
     "iopub.execute_input": "2022-01-25T12:29:26.638241Z",
     "iopub.status.busy": "2022-01-25T12:29:26.638096Z",
     "iopub.status.idle": "2022-01-25T12:29:26.685590Z",
     "shell.execute_reply": "2022-01-25T12:29:26.685088Z",
     "shell.execute_reply.started": "2022-01-25T12:29:26.638221Z"
    },
    "tags": []
   },
   "outputs": [
    {
     "data": {
      "text/plain": [
       "array([0.468, 0.958, 0.78 ])"
      ]
     },
     "execution_count": 38,
     "metadata": {},
     "output_type": "execute_result"
    }
   ],
   "source": [
    "np.array(inet_evaluation_result_dict_complete_by_distribution_test['uniform']['dt_scores']['accuracy'])"
   ]
  },
  {
   "cell_type": "code",
   "execution_count": 39,
   "metadata": {
    "execution": {
     "iopub.execute_input": "2022-01-25T12:29:26.686547Z",
     "iopub.status.busy": "2022-01-25T12:29:26.686400Z",
     "iopub.status.idle": "2022-01-25T12:29:26.733525Z",
     "shell.execute_reply": "2022-01-25T12:29:26.733036Z",
     "shell.execute_reply.started": "2022-01-25T12:29:26.686527Z"
    },
    "tags": []
   },
   "outputs": [
    {
     "name": "stdout",
     "output_type": "stream",
     "text": [
      "Median I-Net: 0.474\n",
      "Median DT Distilled: 0.78\n"
     ]
    }
   ],
   "source": [
    "print('Median I-Net:', np.median(inet_evaluation_result_dict_complete_by_distribution_test['uniform']['inet_scores']['accuracy']))\n",
    "print('Median DT Distilled:', np.median(inet_evaluation_result_dict_complete_by_distribution_test['uniform']['dt_scores']['accuracy']))\n"
   ]
  },
  {
   "cell_type": "code",
   "execution_count": 40,
   "metadata": {
    "execution": {
     "iopub.execute_input": "2022-01-25T12:29:26.734447Z",
     "iopub.status.busy": "2022-01-25T12:29:26.734302Z",
     "iopub.status.idle": "2022-01-25T12:29:26.796390Z",
     "shell.execute_reply": "2022-01-25T12:29:26.795879Z",
     "shell.execute_reply.started": "2022-01-25T12:29:26.734428Z"
    },
    "tags": []
   },
   "outputs": [
    {
     "data": {
      "text/html": [
       "<div>\n",
       "<style scoped>\n",
       "    .dataframe tbody tr th:only-of-type {\n",
       "        vertical-align: middle;\n",
       "    }\n",
       "\n",
       "    .dataframe tbody tr th {\n",
       "        vertical-align: top;\n",
       "    }\n",
       "\n",
       "    .dataframe thead th {\n",
       "        text-align: right;\n",
       "    }\n",
       "</style>\n",
       "<table border=\"1\" class=\"dataframe\">\n",
       "  <thead>\n",
       "    <tr style=\"text-align: right;\">\n",
       "      <th></th>\n",
       "      <th>Acc Distilled Train Data</th>\n",
       "      <th>Acc Distilled Data Random</th>\n",
       "      <th>Acc Distilled</th>\n",
       "      <th>Acc I-Net</th>\n",
       "      <th>Soft BC Distilled Train Data</th>\n",
       "      <th>Soft BC Distilled Data Random</th>\n",
       "      <th>Soft BC Distilled</th>\n",
       "      <th>Soft BC I-Net</th>\n",
       "      <th>BC Distilled Train Data</th>\n",
       "      <th>BC Distilled Data Random</th>\n",
       "      <th>BC Distilled</th>\n",
       "      <th>BC I-Net</th>\n",
       "      <th>F1 Score Distilled Train Data</th>\n",
       "      <th>F1 Score Distilled Data Random</th>\n",
       "      <th>F1 Score Distilled</th>\n",
       "      <th>F1 Score I-Net</th>\n",
       "      <th>Runtime Distilled Train Data</th>\n",
       "      <th>Runtime Distilled Data Random</th>\n",
       "      <th>Runtime Distilled</th>\n",
       "      <th>Runtime I-Net</th>\n",
       "    </tr>\n",
       "  </thead>\n",
       "  <tbody>\n",
       "    <tr>\n",
       "      <th>uniform</th>\n",
       "      <td>0.976</td>\n",
       "      <td>0.994</td>\n",
       "      <td>0.735</td>\n",
       "      <td>0.471</td>\n",
       "      <td>0.361</td>\n",
       "      <td>0.322</td>\n",
       "      <td>0.592</td>\n",
       "      <td>0.700</td>\n",
       "      <td>0.198</td>\n",
       "      <td>0.018</td>\n",
       "      <td>6.414</td>\n",
       "      <td>0.709</td>\n",
       "      <td>0.975</td>\n",
       "      <td>0.997</td>\n",
       "      <td>0.801</td>\n",
       "      <td>0.640</td>\n",
       "      <td>0.041</td>\n",
       "      <td>0.041</td>\n",
       "      <td>0.041</td>\n",
       "      <td>0.184</td>\n",
       "    </tr>\n",
       "    <tr>\n",
       "      <th>gamma</th>\n",
       "      <td>0.975</td>\n",
       "      <td>0.933</td>\n",
       "      <td>0.772</td>\n",
       "      <td>0.471</td>\n",
       "      <td>0.362</td>\n",
       "      <td>0.408</td>\n",
       "      <td>0.544</td>\n",
       "      <td>0.700</td>\n",
       "      <td>0.221</td>\n",
       "      <td>0.180</td>\n",
       "      <td>0.776</td>\n",
       "      <td>0.709</td>\n",
       "      <td>0.974</td>\n",
       "      <td>0.893</td>\n",
       "      <td>0.678</td>\n",
       "      <td>0.640</td>\n",
       "      <td>0.043</td>\n",
       "      <td>0.043</td>\n",
       "      <td>0.043</td>\n",
       "      <td>0.043</td>\n",
       "    </tr>\n",
       "    <tr>\n",
       "      <th>beta</th>\n",
       "      <td>0.976</td>\n",
       "      <td>0.982</td>\n",
       "      <td>0.745</td>\n",
       "      <td>0.471</td>\n",
       "      <td>0.361</td>\n",
       "      <td>0.338</td>\n",
       "      <td>0.574</td>\n",
       "      <td>0.700</td>\n",
       "      <td>0.198</td>\n",
       "      <td>0.048</td>\n",
       "      <td>6.350</td>\n",
       "      <td>0.709</td>\n",
       "      <td>0.975</td>\n",
       "      <td>0.991</td>\n",
       "      <td>0.788</td>\n",
       "      <td>0.640</td>\n",
       "      <td>0.029</td>\n",
       "      <td>0.029</td>\n",
       "      <td>0.029</td>\n",
       "      <td>0.041</td>\n",
       "    </tr>\n",
       "    <tr>\n",
       "      <th>poisson</th>\n",
       "      <td>0.975</td>\n",
       "      <td>0.915</td>\n",
       "      <td>0.792</td>\n",
       "      <td>0.471</td>\n",
       "      <td>0.362</td>\n",
       "      <td>0.420</td>\n",
       "      <td>0.534</td>\n",
       "      <td>0.700</td>\n",
       "      <td>0.221</td>\n",
       "      <td>0.211</td>\n",
       "      <td>1.228</td>\n",
       "      <td>0.709</td>\n",
       "      <td>0.974</td>\n",
       "      <td>0.872</td>\n",
       "      <td>0.715</td>\n",
       "      <td>0.640</td>\n",
       "      <td>0.006</td>\n",
       "      <td>0.006</td>\n",
       "      <td>0.006</td>\n",
       "      <td>0.044</td>\n",
       "    </tr>\n",
       "    <tr>\n",
       "      <th>normal</th>\n",
       "      <td>0.975</td>\n",
       "      <td>1.000</td>\n",
       "      <td>0.473</td>\n",
       "      <td>0.471</td>\n",
       "      <td>0.362</td>\n",
       "      <td>0.313</td>\n",
       "      <td>0.841</td>\n",
       "      <td>0.700</td>\n",
       "      <td>0.221</td>\n",
       "      <td>0.000</td>\n",
       "      <td>18.214</td>\n",
       "      <td>0.709</td>\n",
       "      <td>0.974</td>\n",
       "      <td>1.000</td>\n",
       "      <td>0.642</td>\n",
       "      <td>0.640</td>\n",
       "      <td>0.001</td>\n",
       "      <td>0.001</td>\n",
       "      <td>0.001</td>\n",
       "      <td>0.046</td>\n",
       "    </tr>\n",
       "    <tr>\n",
       "      <th>binomial</th>\n",
       "      <td>0.975</td>\n",
       "      <td>1.000</td>\n",
       "      <td>0.558</td>\n",
       "      <td>0.471</td>\n",
       "      <td>0.362</td>\n",
       "      <td>0.313</td>\n",
       "      <td>0.756</td>\n",
       "      <td>0.700</td>\n",
       "      <td>0.221</td>\n",
       "      <td>0.000</td>\n",
       "      <td>15.266</td>\n",
       "      <td>0.709</td>\n",
       "      <td>0.974</td>\n",
       "      <td>1.000</td>\n",
       "      <td>0.687</td>\n",
       "      <td>0.640</td>\n",
       "      <td>0.002</td>\n",
       "      <td>0.002</td>\n",
       "      <td>0.002</td>\n",
       "      <td>0.044</td>\n",
       "    </tr>\n",
       "    <tr>\n",
       "      <th>exponential</th>\n",
       "      <td>0.975</td>\n",
       "      <td>0.944</td>\n",
       "      <td>0.671</td>\n",
       "      <td>0.471</td>\n",
       "      <td>0.362</td>\n",
       "      <td>0.385</td>\n",
       "      <td>0.642</td>\n",
       "      <td>0.700</td>\n",
       "      <td>0.221</td>\n",
       "      <td>0.140</td>\n",
       "      <td>1.625</td>\n",
       "      <td>0.709</td>\n",
       "      <td>0.974</td>\n",
       "      <td>0.849</td>\n",
       "      <td>0.466</td>\n",
       "      <td>0.640</td>\n",
       "      <td>0.044</td>\n",
       "      <td>0.044</td>\n",
       "      <td>0.044</td>\n",
       "      <td>0.044</td>\n",
       "    </tr>\n",
       "  </tbody>\n",
       "</table>\n",
       "</div>"
      ],
      "text/plain": [
       "             Acc Distilled Train Data  Acc Distilled Data Random  \\\n",
       "uniform                         0.976                      0.994   \n",
       "gamma                           0.975                      0.933   \n",
       "beta                            0.976                      0.982   \n",
       "poisson                         0.975                      0.915   \n",
       "normal                          0.975                      1.000   \n",
       "binomial                        0.975                      1.000   \n",
       "exponential                     0.975                      0.944   \n",
       "\n",
       "             Acc Distilled  Acc I-Net  Soft BC Distilled Train Data  \\\n",
       "uniform              0.735      0.471                         0.361   \n",
       "gamma                0.772      0.471                         0.362   \n",
       "beta                 0.745      0.471                         0.361   \n",
       "poisson              0.792      0.471                         0.362   \n",
       "normal               0.473      0.471                         0.362   \n",
       "binomial             0.558      0.471                         0.362   \n",
       "exponential          0.671      0.471                         0.362   \n",
       "\n",
       "             Soft BC Distilled Data Random  Soft BC Distilled  Soft BC I-Net  \\\n",
       "uniform                              0.322              0.592          0.700   \n",
       "gamma                                0.408              0.544          0.700   \n",
       "beta                                 0.338              0.574          0.700   \n",
       "poisson                              0.420              0.534          0.700   \n",
       "normal                               0.313              0.841          0.700   \n",
       "binomial                             0.313              0.756          0.700   \n",
       "exponential                          0.385              0.642          0.700   \n",
       "\n",
       "             BC Distilled Train Data  BC Distilled Data Random  BC Distilled  \\\n",
       "uniform                        0.198                     0.018         6.414   \n",
       "gamma                          0.221                     0.180         0.776   \n",
       "beta                           0.198                     0.048         6.350   \n",
       "poisson                        0.221                     0.211         1.228   \n",
       "normal                         0.221                     0.000        18.214   \n",
       "binomial                       0.221                     0.000        15.266   \n",
       "exponential                    0.221                     0.140         1.625   \n",
       "\n",
       "             BC I-Net  F1 Score Distilled Train Data  \\\n",
       "uniform         0.709                          0.975   \n",
       "gamma           0.709                          0.974   \n",
       "beta            0.709                          0.975   \n",
       "poisson         0.709                          0.974   \n",
       "normal          0.709                          0.974   \n",
       "binomial        0.709                          0.974   \n",
       "exponential     0.709                          0.974   \n",
       "\n",
       "             F1 Score Distilled Data Random  F1 Score Distilled  \\\n",
       "uniform                               0.997               0.801   \n",
       "gamma                                 0.893               0.678   \n",
       "beta                                  0.991               0.788   \n",
       "poisson                               0.872               0.715   \n",
       "normal                                1.000               0.642   \n",
       "binomial                              1.000               0.687   \n",
       "exponential                           0.849               0.466   \n",
       "\n",
       "             F1 Score I-Net  Runtime Distilled Train Data  \\\n",
       "uniform               0.640                         0.041   \n",
       "gamma                 0.640                         0.043   \n",
       "beta                  0.640                         0.029   \n",
       "poisson               0.640                         0.006   \n",
       "normal                0.640                         0.001   \n",
       "binomial              0.640                         0.002   \n",
       "exponential           0.640                         0.044   \n",
       "\n",
       "             Runtime Distilled Data Random  Runtime Distilled  Runtime I-Net  \n",
       "uniform                              0.041              0.041          0.184  \n",
       "gamma                                0.043              0.043          0.043  \n",
       "beta                                 0.029              0.029          0.041  \n",
       "poisson                              0.006              0.006          0.044  \n",
       "normal                               0.001              0.001          0.046  \n",
       "binomial                             0.002              0.002          0.044  \n",
       "exponential                          0.044              0.044          0.044  "
      ]
     },
     "execution_count": 40,
     "metadata": {},
     "output_type": "execute_result"
    }
   ],
   "source": [
    "complete_distribution_evaluation_results = get_complete_distribution_evaluation_results_dataframe(inet_evaluation_result_dict_mean_by_distribution_test)\n",
    "complete_distribution_evaluation_results.head(20)"
   ]
  },
  {
   "cell_type": "code",
   "execution_count": 41,
   "metadata": {
    "execution": {
     "iopub.execute_input": "2022-01-25T12:29:26.797322Z",
     "iopub.status.busy": "2022-01-25T12:29:26.797175Z",
     "iopub.status.idle": "2022-01-25T12:29:29.273010Z",
     "shell.execute_reply": "2022-01-25T12:29:29.271836Z",
     "shell.execute_reply.started": "2022-01-25T12:29:26.797302Z"
    },
    "tags": []
   },
   "outputs": [
    {
     "data": {
      "image/png": "[encoded data removed]",
      "text/plain": [
       "<IPython.core.display.Image object>"
      ]
     },
     "execution_count": 41,
     "metadata": {},
     "output_type": "execute_result"
    }
   ],
   "source": [
    "dt_parameters = dt_inet_list_test[0][1]\n",
    "\n",
    "if config['function_family']['dt_type'] == 'vanilla':\n",
    "    image, nodes = anytree_decision_tree_from_parameters(dt_parameters, config=config)\n",
    "else:\n",
    "    tree = generate_random_decision_tree(config)\n",
    "    tree.initialize_from_parameter_array(dt_parameters, reshape=True, config=config)\n",
    "    image = tree.plot_tree()\n",
    "image"
   ]
  },
  {
   "cell_type": "code",
   "execution_count": 42,
   "metadata": {
    "execution": {
     "iopub.execute_input": "2022-01-25T12:29:29.275571Z",
     "iopub.status.busy": "2022-01-25T12:29:29.275054Z",
     "iopub.status.idle": "2022-01-25T12:29:30.935932Z",
     "shell.execute_reply": "2022-01-25T12:29:30.935195Z",
     "shell.execute_reply.started": "2022-01-25T12:29:29.275515Z"
    },
    "tags": []
   },
   "outputs": [
    {
     "data": {
      "image/png": "[encoded data removed]",
      "text/plain": [
       "<Figure size 1800x576 with 1 Axes>"
      ]
     },
     "metadata": {},
     "output_type": "display_data"
    }
   ],
   "source": [
    "plt.figure(figsize=(25,8))\n",
    "plot_tree(dt_distilled_list_test[0][1][0], fontsize=10) \n",
    "plt.show()"
   ]
  },
  {
   "cell_type": "code",
   "execution_count": 43,
   "metadata": {
    "execution": {
     "iopub.execute_input": "2022-01-25T12:29:30.937191Z",
     "iopub.status.busy": "2022-01-25T12:29:30.936808Z",
     "iopub.status.idle": "2022-01-25T12:29:30.994994Z",
     "shell.execute_reply": "2022-01-25T12:29:30.994491Z",
     "shell.execute_reply.started": "2022-01-25T12:29:30.937169Z"
    },
    "tags": []
   },
   "outputs": [
    {
     "data": {
      "text/html": [
       "<div>\n",
       "<style scoped>\n",
       "    .dataframe tbody tr th:only-of-type {\n",
       "        vertical-align: middle;\n",
       "    }\n",
       "\n",
       "    .dataframe tbody tr th {\n",
       "        vertical-align: top;\n",
       "    }\n",
       "\n",
       "    .dataframe thead th {\n",
       "        text-align: right;\n",
       "    }\n",
       "</style>\n",
       "<table border=\"1\" class=\"dataframe\">\n",
       "  <thead>\n",
       "    <tr style=\"text-align: right;\">\n",
       "      <th></th>\n",
       "      <th>Average Z-Score (Sample to Train Data)</th>\n",
       "      <th>Average Distance to Initialization</th>\n",
       "      <th>Average Mean Distance to Train Data</th>\n",
       "      <th>Average Distance to closest Train Data Sample</th>\n",
       "      <th>Average Biggest Distance for Single Neuron</th>\n",
       "      <th>Minimum Biggest Distance for Single Neuron</th>\n",
       "    </tr>\n",
       "  </thead>\n",
       "  <tbody>\n",
       "    <tr>\n",
       "      <th>train</th>\n",
       "      <td>1216.870</td>\n",
       "      <td>138.765</td>\n",
       "      <td>157.168</td>\n",
       "      <td>0.000</td>\n",
       "      <td>0.788</td>\n",
       "      <td>0.000</td>\n",
       "    </tr>\n",
       "    <tr>\n",
       "      <th>valid</th>\n",
       "      <td>2253.063</td>\n",
       "      <td>175.399</td>\n",
       "      <td>210.616</td>\n",
       "      <td>172.862</td>\n",
       "      <td>0.952</td>\n",
       "      <td>0.769</td>\n",
       "    </tr>\n",
       "    <tr>\n",
       "      <th>test</th>\n",
       "      <td>4252.305</td>\n",
       "      <td>319.276</td>\n",
       "      <td>338.051</td>\n",
       "      <td>315.559</td>\n",
       "      <td>1.194</td>\n",
       "      <td>1.078</td>\n",
       "    </tr>\n",
       "  </tbody>\n",
       "</table>\n",
       "</div>"
      ],
      "text/plain": [
       "       Average Z-Score (Sample to Train Data)  \\\n",
       "train                                1216.870   \n",
       "valid                                2253.063   \n",
       "test                                 4252.305   \n",
       "\n",
       "       Average Distance to Initialization  \\\n",
       "train                             138.765   \n",
       "valid                             175.399   \n",
       "test                              319.276   \n",
       "\n",
       "       Average Mean Distance to Train Data  \\\n",
       "train                              157.168   \n",
       "valid                              210.616   \n",
       "test                               338.051   \n",
       "\n",
       "       Average Distance to closest Train Data Sample  \\\n",
       "train                                          0.000   \n",
       "valid                                        172.862   \n",
       "test                                         315.559   \n",
       "\n",
       "       Average Biggest Distance for Single Neuron  \\\n",
       "train                                       0.788   \n",
       "valid                                       0.952   \n",
       "test                                        1.194   \n",
       "\n",
       "       Minimum Biggest Distance for Single Neuron  \n",
       "train                                       0.000  \n",
       "valid                                       0.769  \n",
       "test                                        1.078  "
      ]
     },
     "execution_count": 43,
     "metadata": {},
     "output_type": "execute_result"
    }
   ],
   "source": [
    "network_distances = get_print_network_distances_dataframe(distances_dict)\n",
    "network_distances.head(20)"
   ]
  },
  {
   "cell_type": "code",
   "execution_count": 44,
   "metadata": {
    "execution": {
     "iopub.execute_input": "2022-01-25T12:29:30.995960Z",
     "iopub.status.busy": "2022-01-25T12:29:30.995806Z",
     "iopub.status.idle": "2022-01-25T12:29:32.915784Z",
     "shell.execute_reply": "2022-01-25T12:29:32.915063Z",
     "shell.execute_reply.started": "2022-01-25T12:29:30.995940Z"
    },
    "tags": []
   },
   "outputs": [
    {
     "name": "stdout",
     "output_type": "stream",
     "text": [
      "{'uniform': {'class_0': {'low': 0, 'high': 1}, 'class_1': {'low': 0.0, 'high': 1.1579309401710596}}}\n",
      "{'uniform': {'class_0': {'low': 0, 'high': 1}, 'class_1': {'low': 0.0, 'high': 0.9646864490189441}}}\n",
      "{'uniform': {'class_0': {'low': 0, 'high': 1}, 'class_1': {'low': 0.0, 'high': 1.0469195434228162}}}\n",
      "{'uniform': {'class_0': {'low': 0, 'high': 1}, 'class_1': {'low': 0.0, 'high': 0.9651422047317387}}}\n",
      "{'uniform': {'class_0': {'low': 0, 'high': 1}, 'class_1': {'low': 0.0, 'high': 0.983442823820648}}}\n",
      "{'uniform': {'class_0': {'low': 0, 'high': 1}, 'class_1': {'low': 0.0, 'high': 0.8726362414034883}}}\n"
     ]
    },
    {
     "data": {
      "image/png": "[encoded data removed]",
      "text/plain": [
       "<Figure size 1440x1080 with 12 Axes>"
      ]
     },
     "metadata": {},
     "output_type": "display_data"
    }
   ],
   "source": [
    "number = 6\n",
    "\n",
    "X_data, y_data, distribution_parameter_list, normalizer_list = generate_dataset_from_distributions(['uniform'],# ['uniform', 'normal', 'gamma', 'exponential', 'beta', 'binomial', 'poisson'], \n",
    "                                      number, \n",
    "                                      100,\n",
    "                                      distributions_per_class = 1, \n",
    "                                      seed=41,\n",
    "                                      flip_percentage=0)\n",
    "\n",
    "rand = np.random.RandomState(42)    \n",
    "\n",
    "colors_list = ['green','blue','yellow','cyan','magenta','pink']\n",
    "\n",
    "fig,ax = plt.subplots(nrows=3, ncols=4,figsize=(20,15))\n",
    "plot_index = 0\n",
    "\n",
    "for i,(colors, distribution_parameter) in enumerate(zip(colors_list[:number], distribution_parameter_list[:number])):\n",
    "    print(distribution_parameter)\n",
    "\n",
    "    x = X_data[:,i][np.where(y_data==0)]\n",
    "    plt.subplot(3,4,plot_index+1)\n",
    "    plt.hist(x,bins=10,color=colors)\n",
    "    plt.title(list(distribution_parameter.keys())[0] + ' Class 0' )\n",
    "    plot_index += 1\n",
    "    \n",
    "    x = X_data[:,i][np.where(y_data==1)]\n",
    "    plt.subplot(3,4,plot_index+1)\n",
    "    plt.hist(x,bins=10,color=colors)\n",
    "    plt.title(list(distribution_parameter.keys())[0] + ' Class 1' )\n",
    "    plot_index += 1\n",
    "    \n",
    "fig.subplots_adjust(hspace=0.4,wspace=.3) \n",
    "plt.suptitle('Sampling from Various Distributions',fontsize=20)\n",
    "plt.show()\n",
    "    "
   ]
  },
  {
   "cell_type": "code",
   "execution_count": null,
   "metadata": {
    "tags": []
   },
   "outputs": [],
   "source": []
  },
  {
   "cell_type": "code",
   "execution_count": 45,
   "metadata": {
    "execution": {
     "iopub.execute_input": "2022-01-25T12:29:32.916930Z",
     "iopub.status.busy": "2022-01-25T12:29:32.916633Z",
     "iopub.status.idle": "2022-01-25T12:29:32.973488Z",
     "shell.execute_reply": "2022-01-25T12:29:32.972713Z",
     "shell.execute_reply.started": "2022-01-25T12:29:32.916909Z"
    },
    "tags": []
   },
   "outputs": [
    {
     "data": {
      "text/html": [
       "<div>\n",
       "<style scoped>\n",
       "    .dataframe tbody tr th:only-of-type {\n",
       "        vertical-align: middle;\n",
       "    }\n",
       "\n",
       "    .dataframe tbody tr th {\n",
       "        vertical-align: top;\n",
       "    }\n",
       "\n",
       "    .dataframe thead th {\n",
       "        text-align: right;\n",
       "    }\n",
       "</style>\n",
       "<table border=\"1\" class=\"dataframe\">\n",
       "  <thead>\n",
       "    <tr style=\"text-align: right;\">\n",
       "      <th></th>\n",
       "      <th>x0</th>\n",
       "      <th>x1</th>\n",
       "      <th>x2</th>\n",
       "      <th>x3</th>\n",
       "      <th>x4</th>\n",
       "      <th>x5</th>\n",
       "      <th>x6</th>\n",
       "      <th>x7</th>\n",
       "      <th>x8</th>\n",
       "      <th>x9</th>\n",
       "    </tr>\n",
       "  </thead>\n",
       "  <tbody>\n",
       "    <tr>\n",
       "      <th>0</th>\n",
       "      <td>0.000</td>\n",
       "      <td>0.104</td>\n",
       "      <td>0.000</td>\n",
       "      <td>0.000</td>\n",
       "      <td>0.091</td>\n",
       "      <td>0.034</td>\n",
       "      <td>0.003</td>\n",
       "      <td>0.000</td>\n",
       "      <td>0.000</td>\n",
       "      <td>0.000</td>\n",
       "    </tr>\n",
       "    <tr>\n",
       "      <th>1</th>\n",
       "      <td>0.000</td>\n",
       "      <td>0.104</td>\n",
       "      <td>0.001</td>\n",
       "      <td>0.003</td>\n",
       "      <td>0.000</td>\n",
       "      <td>0.000</td>\n",
       "      <td>0.000</td>\n",
       "      <td>0.000</td>\n",
       "      <td>0.000</td>\n",
       "      <td>0.000</td>\n",
       "    </tr>\n",
       "    <tr>\n",
       "      <th>2</th>\n",
       "      <td>0.000</td>\n",
       "      <td>0.114</td>\n",
       "      <td>0.004</td>\n",
       "      <td>0.003</td>\n",
       "      <td>0.143</td>\n",
       "      <td>0.000</td>\n",
       "      <td>0.010</td>\n",
       "      <td>0.000</td>\n",
       "      <td>0.000</td>\n",
       "      <td>0.000</td>\n",
       "    </tr>\n",
       "    <tr>\n",
       "      <th>3</th>\n",
       "      <td>0.000</td>\n",
       "      <td>0.117</td>\n",
       "      <td>0.002</td>\n",
       "      <td>0.003</td>\n",
       "      <td>0.149</td>\n",
       "      <td>0.000</td>\n",
       "      <td>0.006</td>\n",
       "      <td>0.000</td>\n",
       "      <td>0.000</td>\n",
       "      <td>0.000</td>\n",
       "    </tr>\n",
       "    <tr>\n",
       "      <th>4</th>\n",
       "      <td>0.000</td>\n",
       "      <td>0.000</td>\n",
       "      <td>0.002</td>\n",
       "      <td>0.005</td>\n",
       "      <td>0.161</td>\n",
       "      <td>0.034</td>\n",
       "      <td>0.008</td>\n",
       "      <td>0.000</td>\n",
       "      <td>0.000</td>\n",
       "      <td>0.000</td>\n",
       "    </tr>\n",
       "    <tr>\n",
       "      <th>...</th>\n",
       "      <td>...</td>\n",
       "      <td>...</td>\n",
       "      <td>...</td>\n",
       "      <td>...</td>\n",
       "      <td>...</td>\n",
       "      <td>...</td>\n",
       "      <td>...</td>\n",
       "      <td>...</td>\n",
       "      <td>...</td>\n",
       "      <td>...</td>\n",
       "    </tr>\n",
       "    <tr>\n",
       "      <th>4995</th>\n",
       "      <td>0.667</td>\n",
       "      <td>0.880</td>\n",
       "      <td>0.952</td>\n",
       "      <td>0.930</td>\n",
       "      <td>0.905</td>\n",
       "      <td>1.000</td>\n",
       "      <td>0.662</td>\n",
       "      <td>1.000</td>\n",
       "      <td>0.738</td>\n",
       "      <td>0.865</td>\n",
       "    </tr>\n",
       "    <tr>\n",
       "      <th>4996</th>\n",
       "      <td>1.000</td>\n",
       "      <td>0.728</td>\n",
       "      <td>0.955</td>\n",
       "      <td>0.951</td>\n",
       "      <td>0.742</td>\n",
       "      <td>1.000</td>\n",
       "      <td>1.000</td>\n",
       "      <td>1.000</td>\n",
       "      <td>0.492</td>\n",
       "      <td>0.619</td>\n",
       "    </tr>\n",
       "    <tr>\n",
       "      <th>4997</th>\n",
       "      <td>0.667</td>\n",
       "      <td>0.917</td>\n",
       "      <td>0.958</td>\n",
       "      <td>0.952</td>\n",
       "      <td>0.753</td>\n",
       "      <td>0.701</td>\n",
       "      <td>0.669</td>\n",
       "      <td>0.667</td>\n",
       "      <td>0.848</td>\n",
       "      <td>0.639</td>\n",
       "    </tr>\n",
       "    <tr>\n",
       "      <th>4998</th>\n",
       "      <td>0.667</td>\n",
       "      <td>1.000</td>\n",
       "      <td>0.971</td>\n",
       "      <td>0.985</td>\n",
       "      <td>0.981</td>\n",
       "      <td>0.701</td>\n",
       "      <td>0.677</td>\n",
       "      <td>1.000</td>\n",
       "      <td>0.919</td>\n",
       "      <td>0.979</td>\n",
       "    </tr>\n",
       "    <tr>\n",
       "      <th>4999</th>\n",
       "      <td>1.000</td>\n",
       "      <td>0.806</td>\n",
       "      <td>1.000</td>\n",
       "      <td>1.000</td>\n",
       "      <td>1.000</td>\n",
       "      <td>0.701</td>\n",
       "      <td>0.685</td>\n",
       "      <td>1.000</td>\n",
       "      <td>1.000</td>\n",
       "      <td>1.000</td>\n",
       "    </tr>\n",
       "  </tbody>\n",
       "</table>\n",
       "<p>5000 rows × 10 columns</p>\n",
       "</div>"
      ],
      "text/plain": [
       "        x0    x1    x2    x3    x4    x5    x6    x7    x8    x9\n",
       "0    0.000 0.104 0.000 0.000 0.091 0.034 0.003 0.000 0.000 0.000\n",
       "1    0.000 0.104 0.001 0.003 0.000 0.000 0.000 0.000 0.000 0.000\n",
       "2    0.000 0.114 0.004 0.003 0.143 0.000 0.010 0.000 0.000 0.000\n",
       "3    0.000 0.117 0.002 0.003 0.149 0.000 0.006 0.000 0.000 0.000\n",
       "4    0.000 0.000 0.002 0.005 0.161 0.034 0.008 0.000 0.000 0.000\n",
       "...    ...   ...   ...   ...   ...   ...   ...   ...   ...   ...\n",
       "4995 0.667 0.880 0.952 0.930 0.905 1.000 0.662 1.000 0.738 0.865\n",
       "4996 1.000 0.728 0.955 0.951 0.742 1.000 1.000 1.000 0.492 0.619\n",
       "4997 0.667 0.917 0.958 0.952 0.753 0.701 0.669 0.667 0.848 0.639\n",
       "4998 0.667 1.000 0.971 0.985 0.981 0.701 0.677 1.000 0.919 0.979\n",
       "4999 1.000 0.806 1.000 1.000 1.000 0.701 0.685 1.000 1.000 1.000\n",
       "\n",
       "[5000 rows x 10 columns]"
      ]
     },
     "execution_count": 45,
     "metadata": {},
     "output_type": "execute_result"
    }
   ],
   "source": [
    "X_data_list_lambda[0][1]"
   ]
  },
  {
   "cell_type": "code",
   "execution_count": 46,
   "metadata": {
    "execution": {
     "iopub.execute_input": "2022-01-25T12:29:32.974693Z",
     "iopub.status.busy": "2022-01-25T12:29:32.974353Z",
     "iopub.status.idle": "2022-01-25T12:29:33.536270Z",
     "shell.execute_reply": "2022-01-25T12:29:33.535434Z",
     "shell.execute_reply.started": "2022-01-25T12:29:32.974671Z"
    },
    "tags": []
   },
   "outputs": [
    {
     "ename": "IndexError",
     "evalue": "index 6 is out of bounds for axis 0 with size 1",
     "output_type": "error",
     "traceback": [
      "\u001b[0;31m---------------------------------------------------------------------------\u001b[0m",
      "\u001b[0;31mIndexError\u001b[0m                                Traceback (most recent call last)",
      "\u001b[0;32m/tmp/ipykernel_1378376/267161740.py\u001b[0m in \u001b[0;36m<module>\u001b[0;34m\u001b[0m\n\u001b[1;32m      1\u001b[0m \u001b[0;32mif\u001b[0m \u001b[0;32mTrue\u001b[0m\u001b[0;34m:\u001b[0m\u001b[0;34m\u001b[0m\u001b[0;34m\u001b[0m\u001b[0m\n\u001b[1;32m      2\u001b[0m     \u001b[0mindex\u001b[0m \u001b[0;34m=\u001b[0m \u001b[0;36m6\u001b[0m\u001b[0;34m\u001b[0m\u001b[0;34m\u001b[0m\u001b[0m\n\u001b[0;32m----> 3\u001b[0;31m     \u001b[0mtest_network\u001b[0m \u001b[0;34m=\u001b[0m \u001b[0mnetwork_parameters_to_network\u001b[0m\u001b[0;34m(\u001b[0m\u001b[0mlambda_net_dataset_valid\u001b[0m\u001b[0;34m.\u001b[0m\u001b[0mnetwork_parameters_array\u001b[0m\u001b[0;34m[\u001b[0m\u001b[0mindex\u001b[0m\u001b[0;34m]\u001b[0m\u001b[0;34m,\u001b[0m \u001b[0mconfig\u001b[0m\u001b[0;34m,\u001b[0m \u001b[0mbase_model\u001b[0m\u001b[0;34m=\u001b[0m\u001b[0;32mNone\u001b[0m\u001b[0;34m)\u001b[0m\u001b[0;34m\u001b[0m\u001b[0;34m\u001b[0m\u001b[0m\n\u001b[0m\u001b[1;32m      4\u001b[0m     \u001b[0mdistribution_dict\u001b[0m \u001b[0;34m=\u001b[0m \u001b[0mlambda_net_dataset_valid\u001b[0m\u001b[0;34m.\u001b[0m\u001b[0mdistribution_dict_list_list\u001b[0m\u001b[0;34m[\u001b[0m\u001b[0mindex\u001b[0m\u001b[0;34m]\u001b[0m\u001b[0;34m\u001b[0m\u001b[0;34m\u001b[0m\u001b[0m\n\u001b[1;32m      5\u001b[0m \u001b[0;34m\u001b[0m\u001b[0m\n",
      "\u001b[0;31mIndexError\u001b[0m: index 6 is out of bounds for axis 0 with size 1"
     ]
    }
   ],
   "source": [
    "if True:\n",
    "    index = 6\n",
    "    test_network = network_parameters_to_network(lambda_net_dataset_valid.network_parameters_array[index], config, base_model=None)\n",
    "    distribution_dict = lambda_net_dataset_valid.distribution_dict_list_list[index]\n",
    "\n",
    "    if False:\n",
    "        X_test = lambda_net_dataset_valid.X_test_lambda_array[index]#generate_random_data_points_custom(config['data']['x_min'], config['data']['x_max'], config['evaluation']['random_evaluation_dataset_size'], config['data']['number_of_variables'], categorical_indices=None, distrib=config['evaluation']['random_evaluation_dataset_distribution'])\n",
    "    else:\n",
    "        X_test, _, _, _ = generate_dataset_from_distributions(distribution_list=['uniform', 'normal', 'gamma', 'exponential', 'beta', 'binomial', 'poisson'], \n",
    "                                                                     number_of_variables=config['data']['number_of_variables'], \n",
    "                                                                     number_of_samples=int(np.round(config['data']['lambda_dataset_size']*0.25)), \n",
    "                                                                     distributions_per_class = config['data']['max_distributions_per_class'], \n",
    "                                                                     seed = 43, \n",
    "                                                                     flip_percentage=0, \n",
    "                                                                     random_parameters=config['data']['random_parameters_distribution'],\n",
    "                                                                     distribution_dict_list=distribution_dict)  \n",
    "        \n",
    "        \n",
    "\n",
    "    distribution_training = 'uniform'\n",
    "\n",
    "    evaluation_result_dict, results_list, test_network_parameters, dt_inet, dt_distilled_list = evaluate_network_real_world_data(model,\n",
    "                                                                                                test_network, \n",
    "                                                                                                _, \n",
    "                                                                                                X_test, \n",
    "                                                                                                dataset_size_list=[10000],\n",
    "                                                                                                config=config,\n",
    "                                                                                                distribution=distribution_training)\n",
    "\n",
    "\n",
    "    results_list_extended = results_list[0]\n",
    "\n",
    "    #results_list_extended['dt_scores']['soft_binary_crossentropy_train_data'] = results_list[1]['dt_scores']['soft_binary_crossentropy']\n",
    "    #results_list_extended['dt_scores']['binary_crossentropy_train_data'] = results_list[1]['dt_scores']['binary_crossentropy']\n",
    "    #results_list_extended['dt_scores']['accuracy_train_data'] = results_list[1]['dt_scores']['accuracy']\n",
    "    #results_list_extended['dt_scores']['f1_score_train_data'] = results_list[1]['dt_scores']['f1_score']\n",
    "\n",
    "    results_list = results_list_extended\n",
    "    evaluation_result_dict = results_list\n",
    "\n",
    "    test_network_parameters = test_network_parameters#[:1]\n",
    "    dt_inet = dt_inet#[:1]\n",
    "    dt_distilled_list = dt_distilled_list#[:1]\n",
    "\n",
    "    print(evaluation_result_dict)"
   ]
  },
  {
   "cell_type": "code",
   "execution_count": null,
   "metadata": {
    "execution": {
     "iopub.status.busy": "2022-01-25T12:29:33.536941Z",
     "iopub.status.idle": "2022-01-25T12:29:33.537185Z",
     "shell.execute_reply": "2022-01-25T12:29:33.537069Z",
     "shell.execute_reply.started": "2022-01-25T12:29:33.537055Z"
    },
    "tags": []
   },
   "outputs": [],
   "source": [
    "if True:\n",
    "    colors_list = ['green','blue','yellow','cyan','magenta','pink']\n",
    "\n",
    "    fig,ax = plt.subplots(nrows=5, ncols=4,figsize=(20,15))\n",
    "    plot_index = 0\n",
    "\n",
    "    for i in range(X_test.shape[1]):\n",
    "        distribution_parameter = distribution_dict[i]\n",
    "        print(distribution_parameter)\n",
    "        colors = colors_list[i%6]\n",
    "\n",
    "        x = X_test[:,i][np.where(test_network.predict(X_test).ravel()<=0.5)]\n",
    "        plt.subplot(5,4,plot_index+1)\n",
    "        plt.hist(x,bins=10,color=colors)\n",
    "        plt.title(list(distribution_parameter.keys())[0] + ' Class 0' )\n",
    "        plot_index += 1\n",
    "\n",
    "        x = X_test[:,i][np.where(test_network.predict(X_test).ravel()>0.5)]\n",
    "        plt.subplot(5,4,plot_index+1)\n",
    "        plt.hist(x,bins=10,color=colors)\n",
    "        plt.title(list(distribution_parameter.keys())[0] + ' Class 1' )\n",
    "        plot_index += 1\n",
    "\n",
    "    fig.subplots_adjust(hspace=0.4,wspace=.3) \n",
    "    plt.suptitle('Sampling from Various Distributions',fontsize=20)\n",
    "    plt.show()"
   ]
  },
  {
   "cell_type": "code",
   "execution_count": null,
   "metadata": {
    "execution": {
     "iopub.status.busy": "2022-01-25T12:29:33.538148Z",
     "iopub.status.idle": "2022-01-25T12:29:33.538494Z",
     "shell.execute_reply": "2022-01-25T12:29:33.538370Z",
     "shell.execute_reply.started": "2022-01-25T12:29:33.538355Z"
    },
    "tags": []
   },
   "outputs": [],
   "source": [
    "random_model = generate_base_model(config)\n",
    "\n",
    "random_network_parameters = random_model.get_weights()\n",
    "network_parameters_structure = [network_parameter.shape for network_parameter in random_network_parameters]         \n"
   ]
  },
  {
   "cell_type": "code",
   "execution_count": null,
   "metadata": {
    "execution": {
     "iopub.status.busy": "2022-01-25T12:29:33.539142Z",
     "iopub.status.idle": "2022-01-25T12:29:33.539384Z",
     "shell.execute_reply": "2022-01-25T12:29:33.539265Z",
     "shell.execute_reply.started": "2022-01-25T12:29:33.539251Z"
    },
    "tags": []
   },
   "outputs": [],
   "source": [
    "network_parameters = shaped_network_parameters_to_array(test_network.get_weights(), config)\n",
    "calculate_function_value_from_lambda_net_parameters_wrapper(X_test[:100], \n",
    "                                                            network_parameters_structure, \n",
    "                                                            random_model)(network_parameters)\n"
   ]
  },
  {
   "cell_type": "code",
   "execution_count": null,
   "metadata": {
    "execution": {
     "iopub.status.busy": "2022-01-25T12:29:33.540049Z",
     "iopub.status.idle": "2022-01-25T12:29:33.540286Z",
     "shell.execute_reply": "2022-01-25T12:29:33.540170Z",
     "shell.execute_reply.started": "2022-01-25T12:29:33.540157Z"
    },
    "tags": []
   },
   "outputs": [],
   "source": [
    "np.round(test_network.predict(np.random.uniform(0,1,(100,10)))).ravel()"
   ]
  },
  {
   "cell_type": "code",
   "execution_count": null,
   "metadata": {
    "execution": {
     "iopub.status.busy": "2022-01-25T12:29:33.540970Z",
     "iopub.status.idle": "2022-01-25T12:29:33.541293Z",
     "shell.execute_reply": "2022-01-25T12:29:33.541171Z",
     "shell.execute_reply.started": "2022-01-25T12:29:33.541156Z"
    },
    "tags": []
   },
   "outputs": [],
   "source": [
    "np.round(test_network.predict(X_test[:100])).ravel()"
   ]
  },
  {
   "cell_type": "code",
   "execution_count": null,
   "metadata": {
    "execution": {
     "iopub.status.busy": "2022-01-25T12:29:33.542048Z",
     "iopub.status.idle": "2022-01-25T12:29:33.542283Z",
     "shell.execute_reply": "2022-01-25T12:29:33.542168Z",
     "shell.execute_reply.started": "2022-01-25T12:29:33.542154Z"
    },
    "tags": []
   },
   "outputs": [],
   "source": [
    "np.round(test_network.predict(X_test[:100])).ravel()"
   ]
  },
  {
   "cell_type": "code",
   "execution_count": null,
   "metadata": {
    "execution": {
     "iopub.status.busy": "2022-01-25T12:29:33.543145Z",
     "iopub.status.idle": "2022-01-25T12:29:33.543378Z",
     "shell.execute_reply": "2022-01-25T12:29:33.543264Z",
     "shell.execute_reply.started": "2022-01-25T12:29:33.543251Z"
    },
    "tags": []
   },
   "outputs": [],
   "source": [
    "if True:\n",
    "    index = 11\n",
    "    test_network = network_parameters_to_network(shaped_network_parameters_to_array(test_network_list[index], config), config, base_model=None)\n",
    "    \n",
    "    distribution_dict = distribution_parameter_list_list[index] \n",
    "\n",
    "    X_test = data_dict_list_test[index]['X_test']#generate_random_data_points_custom(config['data']['x_min'], config['data']['x_max'], config['evaluation']['random_evaluation_dataset_size'], config['data']['number_of_variables'], categorical_indices=None, distrib=config['evaluation']['random_evaluation_dataset_distribution'])\n",
    "\n",
    "\n",
    "    distribution_training = 'uniform'\n",
    "\n",
    "    evaluation_result_dict, results_list, test_network_parameters, dt_inet, dt_distilled_list = evaluate_network_real_world_data(model,\n",
    "                                                                                                test_network, \n",
    "                                                                                                _, \n",
    "                                                                                                X_test, \n",
    "                                                                                                dataset_size_list=[10000],\n",
    "                                                                                                config=config,\n",
    "                                                                                                distribution=distribution_training)\n",
    "\n",
    "\n",
    "    results_list_extended = results_list[0]\n",
    "\n",
    "    #results_list_extended['dt_scores']['soft_binary_crossentropy_train_data'] = results_list[1]['dt_scores']['soft_binary_crossentropy']\n",
    "    #results_list_extended['dt_scores']['binary_crossentropy_train_data'] = results_list[1]['dt_scores']['binary_crossentropy']\n",
    "    #results_list_extended['dt_scores']['accuracy_train_data'] = results_list[1]['dt_scores']['accuracy']\n",
    "    #results_list_extended['dt_scores']['f1_score_train_data'] = results_list[1]['dt_scores']['f1_score']\n",
    "\n",
    "    results_list = results_list_extended\n",
    "    evaluation_result_dict = results_list\n",
    "\n",
    "    test_network_parameters = test_network_parameters#[:1]\n",
    "    dt_inet = dt_inet#[:1]\n",
    "    dt_distilled_list = dt_distilled_list#[:1]\n",
    "\n",
    "    print(evaluation_result_dict)"
   ]
  },
  {
   "cell_type": "code",
   "execution_count": null,
   "metadata": {
    "execution": {
     "iopub.status.busy": "2022-01-25T12:29:33.544097Z",
     "iopub.status.idle": "2022-01-25T12:29:33.544339Z",
     "shell.execute_reply": "2022-01-25T12:29:33.544214Z",
     "shell.execute_reply.started": "2022-01-25T12:29:33.544201Z"
    },
    "tags": []
   },
   "outputs": [],
   "source": [
    "x = np.random.binomial(95, 0.5, 100)\n",
    "plt.hist(x,bins=10,color=colors)\n",
    "plot_index += 1"
   ]
  },
  {
   "cell_type": "code",
   "execution_count": null,
   "metadata": {
    "execution": {
     "iopub.status.busy": "2022-01-25T12:29:33.545031Z",
     "iopub.status.idle": "2022-01-25T12:29:33.545267Z",
     "shell.execute_reply": "2022-01-25T12:29:33.545152Z",
     "shell.execute_reply.started": "2022-01-25T12:29:33.545138Z"
    },
    "tags": []
   },
   "outputs": [],
   "source": [
    "if True:\n",
    "    colors_list = ['green','blue','yellow','cyan','magenta','pink']\n",
    "\n",
    "    fig,ax = plt.subplots(nrows=5, ncols=2,figsize=(20,15))\n",
    "    plot_index = 0\n",
    "\n",
    "    for i in range(X_test.shape[1]):\n",
    "        distribution_parameter = distribution_dict[i]\n",
    "        print(distribution_parameter)\n",
    "        colors = colors_list[i%6]\n",
    "\n",
    "        x = X_test[:,i]\n",
    "        plt.subplot(5,2,plot_index+1)\n",
    "        plt.hist(x,bins=10,color=colors)\n",
    "        plt.title(list(distribution_parameter.keys())[0])\n",
    "        plot_index += 1\n",
    "\n",
    "    fig.subplots_adjust(hspace=0.4,wspace=.3) \n",
    "    plt.suptitle('Sampling from Various Distributions',fontsize=20)\n",
    "    plt.show()"
   ]
  },
  {
   "cell_type": "code",
   "execution_count": null,
   "metadata": {
    "execution": {
     "iopub.status.busy": "2022-01-25T12:29:33.545972Z",
     "iopub.status.idle": "2022-01-25T12:29:33.546204Z",
     "shell.execute_reply": "2022-01-25T12:29:33.546090Z",
     "shell.execute_reply.started": "2022-01-25T12:29:33.546077Z"
    },
    "tags": []
   },
   "outputs": [],
   "source": [
    "if True:\n",
    "    colors_list = ['green','blue','yellow','cyan','magenta','pink']\n",
    "\n",
    "    fig,ax = plt.subplots(nrows=5, ncols=4,figsize=(20,15))\n",
    "    plot_index = 0\n",
    "\n",
    "    for i in range(X_test.shape[1]):\n",
    "        distribution_parameter = distribution_dict[i]\n",
    "        print(distribution_parameter)\n",
    "        colors = colors_list[i%6]\n",
    "\n",
    "        x = X_test[:,i][np.where(test_network.predict(X_test).ravel()<=0.5)]\n",
    "        plt.subplot(5,4,plot_index+1)\n",
    "        plt.hist(x,bins=10,color=colors)\n",
    "        plt.title(list(distribution_parameter.keys())[0] + ' Class 0' )\n",
    "        plot_index += 1\n",
    "\n",
    "        x = X_test[:,i][np.where(test_network.predict(X_test).ravel()>0.5)]\n",
    "        plt.subplot(5,4,plot_index+1)\n",
    "        plt.hist(x,bins=10,color=colors)\n",
    "        plt.title(list(distribution_parameter.keys())[0] + ' Class 1' )\n",
    "        plot_index += 1\n",
    "\n",
    "    fig.subplots_adjust(hspace=0.4,wspace=.3) \n",
    "    plt.suptitle('Sampling from Various Distributions',fontsize=20)\n",
    "    plt.show()"
   ]
  },
  {
   "cell_type": "code",
   "execution_count": null,
   "metadata": {
    "execution": {
     "iopub.status.busy": "2022-01-25T12:29:33.546966Z",
     "iopub.status.idle": "2022-01-25T12:29:33.547204Z",
     "shell.execute_reply": "2022-01-25T12:29:33.547087Z",
     "shell.execute_reply.started": "2022-01-25T12:29:33.547073Z"
    }
   },
   "outputs": [],
   "source": [
    "pd.DataFrame(X_test).describe()"
   ]
  },
  {
   "cell_type": "code",
   "execution_count": null,
   "metadata": {},
   "outputs": [],
   "source": []
  },
  {
   "cell_type": "code",
   "execution_count": null,
   "metadata": {},
   "outputs": [],
   "source": []
  },
  {
   "cell_type": "code",
   "execution_count": null,
   "metadata": {
    "execution": {
     "iopub.status.busy": "2022-01-25T12:29:33.548043Z",
     "iopub.status.idle": "2022-01-25T12:29:33.548273Z",
     "shell.execute_reply": "2022-01-25T12:29:33.548160Z",
     "shell.execute_reply.started": "2022-01-25T12:29:33.548147Z"
    },
    "tags": []
   },
   "outputs": [],
   "source": [
    "if True:\n",
    "    index = 2\n",
    "    test_network = network_parameters_to_network(shaped_network_parameters_to_array(test_network_list[index], config), config, base_model=None)\n",
    "    \n",
    "    distribution_dict = distribution_parameter_list_list[index] \n",
    "\n",
    "    X_test = data_dict_list_test[0]['X_test']#generate_random_data_points_custom(config['data']['x_min'], config['data']['x_max'], config['evaluation']['random_evaluation_dataset_size'], config['data']['number_of_variables'], categorical_indices=None, distrib=config['evaluation']['random_evaluation_dataset_distribution'])\n",
    "\n",
    "\n",
    "    distribution_training = 'uniform'\n",
    "\n",
    "    evaluation_result_dict, results_list, test_network_parameters, dt_inet, dt_distilled_list = evaluate_network_real_world_data(model,\n",
    "                                                                                                test_network, \n",
    "                                                                                                _, \n",
    "                                                                                                X_test, \n",
    "                                                                                                dataset_size_list=[10000],\n",
    "                                                                                                config=config,\n",
    "                                                                                                distribution=distribution_training)\n",
    "\n",
    "\n",
    "    results_list_extended = results_list[0]\n",
    "\n",
    "    #results_list_extended['dt_scores']['soft_binary_crossentropy_train_data'] = results_list[1]['dt_scores']['soft_binary_crossentropy']\n",
    "    #results_list_extended['dt_scores']['binary_crossentropy_train_data'] = results_list[1]['dt_scores']['binary_crossentropy']\n",
    "    #results_list_extended['dt_scores']['accuracy_train_data'] = results_list[1]['dt_scores']['accuracy']\n",
    "    #results_list_extended['dt_scores']['f1_score_train_data'] = results_list[1]['dt_scores']['f1_score']\n",
    "\n",
    "    results_list = results_list_extended\n",
    "    evaluation_result_dict = results_list\n",
    "\n",
    "    test_network_parameters = test_network_parameters#[:1]\n",
    "    dt_inet = dt_inet#[:1]\n",
    "    dt_distilled_list = dt_distilled_list#[:1]\n",
    "\n",
    "    print(evaluation_result_dict)"
   ]
  },
  {
   "cell_type": "code",
   "execution_count": null,
   "metadata": {
    "execution": {
     "iopub.status.busy": "2022-01-25T12:29:33.548950Z",
     "iopub.status.idle": "2022-01-25T12:29:33.549280Z",
     "shell.execute_reply": "2022-01-25T12:29:33.549157Z",
     "shell.execute_reply.started": "2022-01-25T12:29:33.549142Z"
    },
    "tags": []
   },
   "outputs": [],
   "source": [
    "if True:\n",
    "    colors_list = ['green','blue','yellow','cyan','magenta','pink']\n",
    "\n",
    "    fig,ax = plt.subplots(nrows=5, ncols=4,figsize=(20,15))\n",
    "    plot_index = 0\n",
    "\n",
    "    for i in range(X_test.shape[1]):\n",
    "        distribution_parameter = distribution_dict[i]\n",
    "        print(distribution_parameter)\n",
    "        colors = colors_list[i%6]\n",
    "\n",
    "        x = X_test[:,i][np.where(test_network.predict(X_test).ravel()<=0.5)]\n",
    "        plt.subplot(5,4,plot_index+1)\n",
    "        plt.hist(x,bins=10,color=colors)\n",
    "        plt.title(list(distribution_parameter.keys())[0] + ' Class 0' )\n",
    "        plot_index += 1\n",
    "\n",
    "        x = X_test[:,i][np.where(test_network.predict(X_test).ravel()>0.5)]\n",
    "        plt.subplot(5,4,plot_index+1)\n",
    "        plt.hist(x,bins=10,color=colors)\n",
    "        plt.title(list(distribution_parameter.keys())[0] + ' Class 1' )\n",
    "        plot_index += 1\n",
    "\n",
    "    fig.subplots_adjust(hspace=0.4,wspace=.3) \n",
    "    plt.suptitle('Sampling from Various Distributions',fontsize=20)\n",
    "    plt.show()"
   ]
  },
  {
   "cell_type": "code",
   "execution_count": null,
   "metadata": {
    "execution": {
     "iopub.status.busy": "2022-01-25T12:29:33.549892Z",
     "iopub.status.idle": "2022-01-25T12:29:33.550140Z",
     "shell.execute_reply": "2022-01-25T12:29:33.550007Z",
     "shell.execute_reply.started": "2022-01-25T12:29:33.549994Z"
    },
    "tags": []
   },
   "outputs": [],
   "source": [
    "np.round(test_network.predict(np.random.uniform(0,1,(100,10)))).ravel()"
   ]
  },
  {
   "cell_type": "code",
   "execution_count": null,
   "metadata": {
    "execution": {
     "iopub.status.busy": "2022-01-25T12:29:33.550938Z",
     "iopub.status.idle": "2022-01-25T12:29:33.551202Z",
     "shell.execute_reply": "2022-01-25T12:29:33.551082Z",
     "shell.execute_reply.started": "2022-01-25T12:29:33.551068Z"
    },
    "tags": []
   },
   "outputs": [],
   "source": [
    "network_parameters = shaped_network_parameters_to_array(test_network.get_weights(), config)\n",
    "np.round(calculate_function_value_from_lambda_net_parameters_wrapper(X_test[:100], \n",
    "                                                            network_parameters_structure, \n",
    "                                                            random_model)(network_parameters))\n"
   ]
  },
  {
   "cell_type": "code",
   "execution_count": null,
   "metadata": {
    "execution": {
     "iopub.status.busy": "2022-01-25T12:29:33.551832Z",
     "iopub.status.idle": "2022-01-25T12:29:33.552067Z",
     "shell.execute_reply": "2022-01-25T12:29:33.551952Z",
     "shell.execute_reply.started": "2022-01-25T12:29:33.551938Z"
    },
    "tags": []
   },
   "outputs": [],
   "source": [
    "np.round(test_network.predict(X_test[:100])).ravel()"
   ]
  },
  {
   "cell_type": "markdown",
   "metadata": {},
   "source": [
    "# REAL DATA EVALUATION"
   ]
  },
  {
   "cell_type": "code",
   "execution_count": null,
   "metadata": {
    "execution": {
     "iopub.status.busy": "2022-01-25T12:29:33.552736Z",
     "iopub.status.idle": "2022-01-25T12:29:33.552985Z",
     "shell.execute_reply": "2022-01-25T12:29:33.552868Z",
     "shell.execute_reply.started": "2022-01-25T12:29:33.552854Z"
    },
    "tags": []
   },
   "outputs": [],
   "source": [
    "dataset_size_list = [1_000, 10_000, 100_000, 1_000_000, 'TRAIN_DATA']\n",
    "dataset_size_list_print = []\n",
    "for size in dataset_size_list:\n",
    "    if type(size) is int:\n",
    "        size = size//1000\n",
    "        size = str(size) + 'k'\n",
    "        dataset_size_list_print.append(size)\n",
    "    else:\n",
    "        dataset_size_list_print.append(size)"
   ]
  },
  {
   "cell_type": "code",
   "execution_count": null,
   "metadata": {
    "execution": {
     "iopub.status.busy": "2022-01-25T12:29:33.553834Z",
     "iopub.status.idle": "2022-01-25T12:29:33.554172Z",
     "shell.execute_reply": "2022-01-25T12:29:33.554049Z",
     "shell.execute_reply.started": "2022-01-25T12:29:33.554034Z"
    },
    "tags": []
   },
   "outputs": [],
   "source": [
    "#distances_dict = {}\n",
    "evaluation_result_dict = {}\n",
    "results_dict = {}\n",
    "dt_inet_dict = {}\n",
    "dt_distilled_list_dict = {}\n",
    "data_dict = {}\n",
    "normalizer_list_dict = {}\n",
    "\n",
    "identifier_list = []\n"
   ]
  },
  {
   "cell_type": "markdown",
   "metadata": {},
   "source": [
    "## ADULT DATASET"
   ]
  },
  {
   "cell_type": "code",
   "execution_count": null,
   "metadata": {
    "execution": {
     "iopub.status.busy": "2022-01-25T12:29:33.554936Z",
     "iopub.status.idle": "2022-01-25T12:29:33.555172Z",
     "shell.execute_reply": "2022-01-25T12:29:33.555056Z",
     "shell.execute_reply.started": "2022-01-25T12:29:33.555043Z"
    },
    "tags": []
   },
   "outputs": [],
   "source": [
    "feature_names = [\n",
    "                 \"Age\", #0\n",
    "                 \"Workclass\",  #1\n",
    "                 \"fnlwgt\",  #2\n",
    "                 \"Education\",  #3\n",
    "                 \"Education-Num\",  #4\n",
    "                 \"Marital Status\", #5\n",
    "                 \"Occupation\",  #6\n",
    "                 \"Relationship\",  #7\n",
    "                 \"Race\",  #8\n",
    "                 \"Sex\",  #9\n",
    "                 \"Capital Gain\",  #10\n",
    "                 \"Capital Loss\", #11\n",
    "                 \"Hours per week\",  #12\n",
    "                 \"Country\", #13\n",
    "                 \"capital_gain\" #14\n",
    "                ] \n",
    "\n",
    "adult_data = pd.read_csv('https://archive.ics.uci.edu/ml/machine-learning-databases/adult/adult.data', names=feature_names, index_col=False)\n",
    "\n",
    "\n",
    "#adult_data['Workclass'][adult_data['Workclass'] != ' Private'] = 'Other'\n",
    "#adult_data['Race'][adult_data['Race'] != ' White'] = 'Other'\n",
    "\n",
    "#adult_data.head()\n",
    "\n",
    "features_select = [\n",
    "                 \"Sex\",  #9 \n",
    "                 \"Race\",  #8\n",
    "                 \"Workclass\",  #1\n",
    "                 \"Age\", #0\n",
    "                 \"fnlwgt\",  #2\n",
    "                 \"Education\",  #3\n",
    "                 \"Education-Num\",  #4\n",
    "                 \"Marital Status\", #5\n",
    "                 \"Occupation\",  #6\n",
    "                 \"Relationship\",  #7\n",
    "                 \"Capital Gain\",  #10\n",
    "                 \"Capital Loss\", #11\n",
    "                 \"Hours per week\",  #12\n",
    "                 #\"Country\", #13 \n",
    "                 \"capital_gain\"\n",
    "                  ]\n",
    "\n",
    "adult_data = adult_data[features_select]\n",
    "\n",
    "nominal_features_adult = ['Race', 'Workclass', 'Education', \"Marital Status\", \"Occupation\", \"Relationship\"]\n",
    "ordinal_features_adult = ['Sex']\n",
    "\n",
    "X_data_adult = adult_data.drop(['capital_gain'], axis = 1)\n",
    "\n",
    "#y_data_adult = pd.Series(OrdinalEncoder().fit_transform(adult_data['capital_gain'].values.reshape(-1, 1)).flatten(), name='capital_gain')\n",
    "y_data_adult = ((adult_data['capital_gain'] != ' <=50K') * 1)"
   ]
  },
  {
   "cell_type": "code",
   "execution_count": null,
   "metadata": {
    "execution": {
     "iopub.status.busy": "2022-01-25T12:29:33.555819Z",
     "iopub.status.idle": "2022-01-25T12:29:33.556080Z",
     "shell.execute_reply": "2022-01-25T12:29:33.555938Z",
     "shell.execute_reply.started": "2022-01-25T12:29:33.555924Z"
    },
    "tags": []
   },
   "outputs": [],
   "source": [
    "config_train_network_adult = deepcopy(config)\n",
    "#config_train_network_adult['lambda_net']['batch_lambda'] = 32\n",
    "#config_train_network_adult['lambda_net']['learning_rate_lambda'] = 0.0003\n",
    "#config_train_network_adult['lambda_net']['dropout_lambda'] = 0.25\n",
    "#config_train_network_adult['lambda_net']['epochs_lambda'] = 5"
   ]
  },
  {
   "cell_type": "code",
   "execution_count": null,
   "metadata": {
    "execution": {
     "iopub.status.busy": "2022-01-25T12:29:33.556803Z",
     "iopub.status.idle": "2022-01-25T12:29:33.557034Z",
     "shell.execute_reply": "2022-01-25T12:29:33.556921Z",
     "shell.execute_reply.started": "2022-01-25T12:29:33.556908Z"
    },
    "tags": []
   },
   "outputs": [],
   "source": [
    "identifier = 'Adult'\n",
    "identifier_list.append(identifier)\n",
    "\n",
    "(distances_dict[identifier], \n",
    " evaluation_result_dict[identifier], \n",
    " results_dict[identifier], \n",
    " dt_inet_dict[identifier], \n",
    " dt_distilled_list_dict[identifier], \n",
    " data_dict[identifier],\n",
    " normalizer_list_dict[identifier]) = evaluate_real_world_dataset(model,\n",
    "                                                                dataset_size_list,\n",
    "                                                                mean_train_parameters,\n",
    "                                                                std_train_parameters,\n",
    "                                                                lambda_net_dataset_train.network_parameters_array,\n",
    "                                                                X_data_adult, \n",
    "                                                                y_data_adult, \n",
    "                                                                nominal_features = nominal_features_adult, \n",
    "                                                                ordinal_features = ordinal_features_adult,\n",
    "                                                                config = config,\n",
    "                                                                config_train_network = config_train_network_adult)\n",
    "\n",
    "print_head = None\n",
    "if verbosity > 0:\n",
    "    print_results_different_data_sizes(results_dict['Adult'], dataset_size_list_print)\n",
    "    print_network_distances(distances_dict)\n",
    "\n",
    "    dt_inet_plot = plot_decision_tree_from_parameters(dt_inet_dict[identifier], normalizer_list_dict[identifier], config)\n",
    "    dt_distilled_plot = plot_decision_tree_from_model(dt_distilled_list_dict[identifier][-2], config)\n",
    "\n",
    "    display(dt_inet_plot, dt_distilled_plot)\n",
    "\n",
    "    print_head = data_dict[identifier]['X_train'].head()\n",
    "print_head"
   ]
  },
  {
   "cell_type": "markdown",
   "metadata": {},
   "source": [
    "## Titanic Dataset"
   ]
  },
  {
   "cell_type": "code",
   "execution_count": null,
   "metadata": {
    "execution": {
     "iopub.status.busy": "2022-01-25T12:29:33.557874Z",
     "iopub.status.idle": "2022-01-25T12:29:33.558116Z",
     "shell.execute_reply": "2022-01-25T12:29:33.557999Z",
     "shell.execute_reply.started": "2022-01-25T12:29:33.557985Z"
    },
    "tags": []
   },
   "outputs": [],
   "source": [
    "titanic_data = pd.read_csv(\"./real_world_datasets/Titanic/train.csv\")\n",
    "\n",
    "titanic_data['Age'].fillna(titanic_data['Age'].mean(), inplace = True)\n",
    "titanic_data['Fare'].fillna(titanic_data['Fare'].mean(), inplace = True)\n",
    "    \n",
    "titanic_data['Embarked'].fillna('S', inplace = True)\n",
    "\n",
    "features_select = [\n",
    "                    #'Cabin', \n",
    "                    #'Ticket', \n",
    "                    #'Name', \n",
    "                    #'PassengerId'    \n",
    "                    'Sex',    \n",
    "                    'Embarked',\n",
    "                    'Pclass',\n",
    "                    'Age',\n",
    "                    'SibSp',    \n",
    "                    'Parch',\n",
    "                    'Fare',    \n",
    "                    'Survived',    \n",
    "                  ]\n",
    "\n",
    "titanic_data = titanic_data[features_select]\n",
    "\n",
    "nominal_features_titanic = ['Embarked']#[1, 2, 7]\n",
    "ordinal_features_titanic = ['Sex']\n",
    "    \n",
    "X_data_titanic = titanic_data.drop(['Survived'], axis = 1)\n",
    "y_data_titanic = titanic_data['Survived']\n"
   ]
  },
  {
   "cell_type": "markdown",
   "metadata": {},
   "source": [
    "    survival\tSurvival\t0 = No, 1 = Yes\n",
    "    pclass\tTicket class\t1 = 1st, 2 = 2nd, 3 = 3rd\n",
    "    sex\tSex\t\n",
    "    Age\tAge in years\t\n",
    "    sibsp\t# of siblings / spouses aboard the Titanic\t\n",
    "    parch\t# of parents / children aboard the Titanic\t\n",
    "    ticket\tTicket number\t\n",
    "    fare\tPassenger fare\t\n",
    "    cabin\tCabin number\t\n",
    "    embarked\tPort of Embarkation\tC = Cherbourg, Q = Queenstown, S = Southampton"
   ]
  },
  {
   "cell_type": "code",
   "execution_count": null,
   "metadata": {
    "execution": {
     "iopub.status.busy": "2022-01-25T12:29:33.558830Z",
     "iopub.status.idle": "2022-01-25T12:29:33.559068Z",
     "shell.execute_reply": "2022-01-25T12:29:33.558951Z",
     "shell.execute_reply.started": "2022-01-25T12:29:33.558937Z"
    },
    "tags": []
   },
   "outputs": [],
   "source": [
    "identifier = 'Titanic'\n",
    "identifier_list.append(identifier)\n",
    "\n",
    "(distances_dict[identifier], \n",
    " evaluation_result_dict[identifier], \n",
    " results_dict[identifier], \n",
    " dt_inet_dict[identifier], \n",
    " dt_distilled_list_dict[identifier], \n",
    " data_dict[identifier],\n",
    " normalizer_list_dict[identifier]) = evaluate_real_world_dataset(model,\n",
    "                                                                dataset_size_list,\n",
    "                                                                mean_train_parameters,\n",
    "                                                                std_train_parameters,\n",
    "                                                                lambda_net_dataset_train.network_parameters_array,\n",
    "                                                                X_data_titanic, \n",
    "                                                                y_data_titanic, \n",
    "                                                                nominal_features = nominal_features_titanic, \n",
    "                                                                ordinal_features = ordinal_features_titanic,\n",
    "                                                                config = config,\n",
    "                                                                config_train_network = None)\n",
    "print_head = None\n",
    "if verbosity > 0:\n",
    "    print_results_different_data_sizes(results_dict[identifier], dataset_size_list_print)\n",
    "    print_network_distances(distances_dict)\n",
    "\n",
    "    dt_inet_plot = plot_decision_tree_from_parameters(dt_inet_dict[identifier], normalizer_list_dict[identifier], config)\n",
    "    dt_distilled_plot = plot_decision_tree_from_model(dt_distilled_list_dict[identifier][-2], config)\n",
    "\n",
    "    display(dt_inet_plot, dt_distilled_plot)\n",
    "\n",
    "    print_head = data_dict[identifier]['X_train'].head()\n",
    "print_head"
   ]
  },
  {
   "cell_type": "markdown",
   "metadata": {},
   "source": [
    "## Absenteeism at Work Dataset"
   ]
  },
  {
   "cell_type": "code",
   "execution_count": null,
   "metadata": {
    "execution": {
     "iopub.status.busy": "2022-01-25T12:29:33.559834Z",
     "iopub.status.idle": "2022-01-25T12:29:33.560068Z",
     "shell.execute_reply": "2022-01-25T12:29:33.559952Z",
     "shell.execute_reply.started": "2022-01-25T12:29:33.559939Z"
    },
    "tags": []
   },
   "outputs": [],
   "source": [
    "absenteeism_data = pd.read_csv('real_world_datasets/Absenteeism/absenteeism.csv', delimiter=';')\n",
    "\n",
    "features_select = [\n",
    "                           'Disciplinary failure', #CATEGORICAL\n",
    "                           'Social drinker', #CATEGORICAL\n",
    "                           'Social smoker', #CATEGORICAL\n",
    "                           'Transportation expense', \n",
    "                           'Distance from Residence to Work',\n",
    "                           'Service time', \n",
    "                           'Age', \n",
    "                           'Work load Average/day ', \n",
    "                           'Hit target',\n",
    "                           'Education', \n",
    "                           'Son', \n",
    "                           'Pet', \n",
    "                           'Weight', \n",
    "                           'Height', \n",
    "                           'Body mass index', \n",
    "                           'Absenteeism time in hours'\n",
    "                        ]\n",
    "\n",
    "absenteeism_data = absenteeism_data[features_select]\n",
    "\n",
    "nominal_features_absenteeism = []\n",
    "ordinal_features_absenteeism = []\n",
    "    \n",
    "X_data_absenteeism = absenteeism_data.drop(['Absenteeism time in hours'], axis = 1)\n",
    "y_data_absenteeism = ((absenteeism_data['Absenteeism time in hours'] > 4) * 1) #absenteeism_data['Absenteeism time in hours']\n"
   ]
  },
  {
   "cell_type": "markdown",
   "metadata": {},
   "source": [
    "    3. Month of absence\n",
    "    4. Day of the week (Monday (2), Tuesday (3), Wednesday (4), Thursday (5), Friday (6))\n",
    "    5. Seasons (summer (1), autumn (2), winter (3), spring (4))\n",
    "    6. Transportation expense\n",
    "    7. Distance from Residence to Work (kilometers)\n",
    "    8. Service time\n",
    "    9. Age\n",
    "    10. Work load Average/day\n",
    "    11. Hit target\n",
    "    12. Disciplinary failure (yes=1; no=0)\n",
    "    13. Education (high school (1), graduate (2), postgraduate (3), master and doctor (4))\n",
    "    14. Son (number of children)\n",
    "    15. Social drinker (yes=1; no=0)\n",
    "    16. Social smoker (yes=1; no=0)\n",
    "    17. Pet (number of pet)\n",
    "    18. Weight\n",
    "    19. Height\n",
    "    20. Body mass index\n",
    "    21. Absenteeism time in hours (target)"
   ]
  },
  {
   "cell_type": "code",
   "execution_count": null,
   "metadata": {
    "execution": {
     "iopub.status.busy": "2022-01-25T12:29:33.560832Z",
     "iopub.status.idle": "2022-01-25T12:29:33.561143Z",
     "shell.execute_reply": "2022-01-25T12:29:33.561020Z",
     "shell.execute_reply.started": "2022-01-25T12:29:33.561004Z"
    },
    "tags": []
   },
   "outputs": [],
   "source": [
    "identifier = 'Absenteeism'\n",
    "identifier_list.append(identifier)\n",
    "\n",
    "(distances_dict[identifier], \n",
    " evaluation_result_dict[identifier], \n",
    " results_dict[identifier], \n",
    " dt_inet_dict[identifier], \n",
    " dt_distilled_list_dict[identifier], \n",
    " data_dict[identifier],\n",
    " normalizer_list_dict[identifier]) = evaluate_real_world_dataset(model,\n",
    "                                                                dataset_size_list,\n",
    "                                                                mean_train_parameters,\n",
    "                                                                std_train_parameters,\n",
    "                                                                lambda_net_dataset_train.network_parameters_array,\n",
    "                                                                X_data_absenteeism, \n",
    "                                                                y_data_absenteeism, \n",
    "                                                                nominal_features = nominal_features_absenteeism, \n",
    "                                                                ordinal_features = ordinal_features_absenteeism,\n",
    "                                                                config = config,\n",
    "                                                                config_train_network = None)\n",
    "\n",
    "print_head = None\n",
    "if verbosity > 0:\n",
    "    print_results_different_data_sizes(results_dict[identifier], dataset_size_list_print)\n",
    "    print_network_distances(distances_dict)\n",
    "\n",
    "    dt_inet_plot = plot_decision_tree_from_parameters(dt_inet_dict[identifier], normalizer_list_dict[identifier], config)\n",
    "    dt_distilled_plot = plot_decision_tree_from_model(dt_distilled_list_dict[identifier][-2], config)\n",
    "\n",
    "    display(dt_inet_plot, dt_distilled_plot)\n",
    "\n",
    "    print_head = data_dict[identifier]['X_train'].head()\n",
    "print_head"
   ]
  },
  {
   "cell_type": "markdown",
   "metadata": {},
   "source": [
    "# Loan Dataset"
   ]
  },
  {
   "cell_type": "code",
   "execution_count": null,
   "metadata": {
    "execution": {
     "iopub.status.busy": "2022-01-25T12:29:33.561926Z",
     "iopub.status.idle": "2022-01-25T12:29:33.562158Z",
     "shell.execute_reply": "2022-01-25T12:29:33.562044Z",
     "shell.execute_reply.started": "2022-01-25T12:29:33.562030Z"
    },
    "tags": []
   },
   "outputs": [],
   "source": [
    "loan_data = pd.read_csv('real_world_datasets/Loan/loan-train.csv', delimiter=',')\n",
    "\n",
    "loan_data['Gender'].fillna(loan_data['Gender'].mode()[0], inplace=True)\n",
    "loan_data['Dependents'].fillna(loan_data['Dependents'].mode()[0], inplace=True)\n",
    "loan_data['Married'].fillna(loan_data['Married'].mode()[0], inplace=True)\n",
    "loan_data['Self_Employed'].fillna(loan_data['Self_Employed'].mode()[0], inplace=True)\n",
    "loan_data['LoanAmount'].fillna(loan_data['LoanAmount'].mean(), inplace=True)\n",
    "loan_data['Loan_Amount_Term'].fillna(loan_data['Loan_Amount_Term'].mean(), inplace=True)\n",
    "loan_data['Credit_History'].fillna(loan_data['Credit_History'].mean(), inplace=True)\n",
    "\n",
    "features_select = [\n",
    "                    #'Loan_ID', \n",
    "                    'Gender', #\n",
    "                    'Married', \n",
    "                    'Dependents', \n",
    "                    'Education',\n",
    "                    'Self_Employed', \n",
    "                    'ApplicantIncome', \n",
    "                    'CoapplicantIncome', \n",
    "                    'LoanAmount',\n",
    "                    'Loan_Amount_Term', \n",
    "                    'Credit_History', \n",
    "                    'Property_Area', \n",
    "                    'Loan_Status'\n",
    "                    ]\n",
    "\n",
    "loan_data = loan_data[features_select]\n",
    "\n",
    "nominal_features_loan = [\n",
    "                        'Dependents',\n",
    "                        'Education',\n",
    "                        'Property_Area',    \n",
    "                        ]\n",
    "ordinal_features_loan = [\n",
    "                    'Gender', \n",
    "                    'Married', \n",
    "                    'Self_Employed',\n",
    "                   ]\n",
    "    \n",
    "X_data_loan = loan_data.drop(['Loan_Status'], axis = 1)\n",
    "y_data_loan = ((loan_data['Loan_Status'] == 'Y') * 1) #absenteeism_data['Absenteeism time in hours']"
   ]
  },
  {
   "cell_type": "code",
   "execution_count": null,
   "metadata": {
    "execution": {
     "iopub.status.busy": "2022-01-25T12:29:33.562928Z",
     "iopub.status.idle": "2022-01-25T12:29:33.563160Z",
     "shell.execute_reply": "2022-01-25T12:29:33.563046Z",
     "shell.execute_reply.started": "2022-01-25T12:29:33.563033Z"
    },
    "tags": []
   },
   "outputs": [],
   "source": [
    "identifier = 'Loan House'\n",
    "identifier_list.append(identifier)\n",
    "\n",
    "(distances_dict[identifier], \n",
    " evaluation_result_dict[identifier], \n",
    " results_dict[identifier], \n",
    " dt_inet_dict[identifier], \n",
    " dt_distilled_list_dict[identifier], \n",
    " data_dict[identifier],\n",
    " normalizer_list_dict[identifier]) = evaluate_real_world_dataset(model,\n",
    "                                                                dataset_size_list,\n",
    "                                                                mean_train_parameters,\n",
    "                                                                std_train_parameters,\n",
    "                                                                lambda_net_dataset_train.network_parameters_array,\n",
    "                                                                X_data_loan, \n",
    "                                                                y_data_loan, \n",
    "                                                                nominal_features = nominal_features_loan, \n",
    "                                                                ordinal_features = ordinal_features_loan,\n",
    "                                                                config = config,\n",
    "                                                                config_train_network = None)\n",
    "print_head = None\n",
    "if verbosity > 0:\n",
    "    print_results_different_data_sizes(results_dict[identifier], dataset_size_list_print)\n",
    "    print_network_distances(distances_dict)\n",
    "\n",
    "    dt_inet_plot = plot_decision_tree_from_parameters(dt_inet_dict[identifier], normalizer_list_dict[identifier], config)\n",
    "    dt_distilled_plot = plot_decision_tree_from_model(dt_distilled_list_dict[identifier][-2], config)\n",
    "\n",
    "    display(dt_inet_plot, dt_distilled_plot)\n",
    "\n",
    "    print_head = data_dict[identifier]['X_train'].head()\n",
    "print_head"
   ]
  },
  {
   "cell_type": "markdown",
   "metadata": {},
   "source": [
    "# Loan Credit"
   ]
  },
  {
   "cell_type": "code",
   "execution_count": null,
   "metadata": {
    "execution": {
     "iopub.status.busy": "2022-01-25T12:29:33.564004Z",
     "iopub.status.idle": "2022-01-25T12:29:33.564253Z",
     "shell.execute_reply": "2022-01-25T12:29:33.564123Z",
     "shell.execute_reply.started": "2022-01-25T12:29:33.564110Z"
    },
    "tags": []
   },
   "outputs": [],
   "source": [
    "loan_credit_data = pd.read_csv('real_world_datasets/Credit Loan/train_split.csv', delimiter=',')\n",
    "\n",
    "loan_credit_data['emp_title'].fillna(loan_credit_data['emp_title'].mode()[0], inplace=True)\n",
    "loan_credit_data['emp_length'].fillna(loan_credit_data['emp_length'].mode()[0], inplace=True)\n",
    "#loan_credit_data['desc'].fillna(loan_credit_data['desc'].mode()[0], inplace=True)\n",
    "loan_credit_data['title'].fillna(loan_credit_data['title'].mode()[0], inplace=True)\n",
    "#loan_credit_data['mths_since_last_delinq'].fillna(loan_credit_data['mths_since_last_delinq'].mode()[0], inplace=True)\n",
    "#loan_credit_data['mths_since_last_record'].fillna(loan_credit_data['mths_since_last_record'].mode()[0], inplace=True)\n",
    "loan_credit_data['revol_util'].fillna(loan_credit_data['revol_util'].mode()[0], inplace=True)\n",
    "loan_credit_data['collections_12_mths_ex_med'].fillna(loan_credit_data['collections_12_mths_ex_med'].mode()[0], inplace=True)\n",
    "#loan_credit_data['mths_since_last_major_derog'].fillna(loan_credit_data['mths_since_last_major_derog'].mode()[0], inplace=True)\n",
    "#loan_credit_data['verification_status_joint'].fillna(loan_credit_data['verification_status_joint'].mode()[0], inplace=True)\n",
    "loan_credit_data['tot_coll_amt'].fillna(loan_credit_data['tot_coll_amt'].mode()[0], inplace=True)\n",
    "loan_credit_data['tot_cur_bal'].fillna(loan_credit_data['tot_cur_bal'].mode()[0], inplace=True)\n",
    "loan_credit_data['total_rev_hi_lim'].fillna(loan_credit_data['total_rev_hi_lim'].mode()[0], inplace=True)\n",
    "\n",
    "\n",
    "##remove too many null\n",
    "#'mths_since_last_delinq','mths_since_last_record', 'mths_since_last_major_derog','pymnt_plan','desc', 'verification_status_joint'\n",
    "\n",
    "\n",
    "features_select = [\n",
    "                    #'member_id', \n",
    "                    'loan_amnt', \n",
    "                    'funded_amnt', \n",
    "                    'funded_amnt_inv', \n",
    "                    'term',\n",
    "                    #'batch_enrolled',\n",
    "                    'int_rate', \n",
    "                    'grade', \n",
    "                    #'sub_grade', \n",
    "                    #'emp_title',\n",
    "                    'emp_length',\n",
    "                    'home_ownership', \n",
    "                    'annual_inc', \n",
    "                    'verification_status',\n",
    "                    #'pymnt_plan', \n",
    "                    #'desc', \n",
    "                    'purpose', \n",
    "                    'title', \n",
    "                    #'zip_code', \n",
    "                    #'addr_state',\n",
    "                    'dti', \n",
    "                    'delinq_2yrs', \n",
    "                    'inq_last_6mths', \n",
    "                    #'mths_since_last_delinq',\n",
    "                    #'mths_since_last_record',\n",
    "                    'open_acc', \n",
    "                    'pub_rec', \n",
    "                    'revol_bal',\n",
    "                    'revol_util', \n",
    "                    'total_acc', \n",
    "                    'initial_list_status', \n",
    "                    'total_rec_int',\n",
    "                    'total_rec_late_fee', \n",
    "                    'recoveries', \n",
    "                    'collection_recovery_fee',\n",
    "                    'collections_12_mths_ex_med', \n",
    "                    #'mths_since_last_major_derog',\n",
    "                    'application_type', \n",
    "                    #'verification_status_joint', \n",
    "                    'last_week_pay',\n",
    "                    'acc_now_delinq', \n",
    "                    'tot_coll_amt', \n",
    "                    'tot_cur_bal', \n",
    "                    'total_rev_hi_lim',\n",
    "                    'loan_status'\n",
    "                    ]\n",
    "\n",
    "loan_credit_data = loan_credit_data[features_select]\n",
    "\n",
    "nominal_features_loan_credit = [\n",
    "\n",
    "                        ]\n",
    "ordinal_features_loan_credit = [\n",
    "                    #'member_id', \n",
    "                    'loan_amnt', \n",
    "                    'funded_amnt', \n",
    "                    'funded_amnt_inv', \n",
    "                    'term',\n",
    "                    #'batch_enrolled',\n",
    "                    'int_rate', \n",
    "                    'grade', \n",
    "                    #'sub_grade', \n",
    "                    #'emp_title',\n",
    "                    'emp_length',\n",
    "                    'home_ownership', \n",
    "                    'annual_inc', \n",
    "                    'verification_status',\n",
    "                    #'pymnt_plan', \n",
    "                    #'desc', \n",
    "                    'purpose', \n",
    "                    'title', \n",
    "                    #'zip_code', \n",
    "                    #'addr_state',\n",
    "                    'dti', \n",
    "                    'delinq_2yrs', \n",
    "                    'inq_last_6mths', \n",
    "                    #'mths_since_last_delinq',\n",
    "                    #'mths_since_last_record',\n",
    "                    'open_acc', \n",
    "                    'pub_rec', \n",
    "                    'revol_bal',\n",
    "                    'revol_util', \n",
    "                    'total_acc', \n",
    "                    'initial_list_status', \n",
    "                    'total_rec_int',\n",
    "                    'total_rec_late_fee', \n",
    "                    'recoveries', \n",
    "                    'collection_recovery_fee',\n",
    "                    'collections_12_mths_ex_med', \n",
    "                    #'mths_since_last_major_derog',\n",
    "                    'application_type', \n",
    "                    #'verification_status_joint', \n",
    "                    'last_week_pay',\n",
    "                    'acc_now_delinq', \n",
    "                    'tot_coll_amt', \n",
    "                    'tot_cur_bal', \n",
    "                    'total_rev_hi_lim',\n",
    "                   ]\n",
    "    \n",
    "X_data_loan_credit = loan_credit_data.drop(['loan_status'], axis = 1)\n",
    "y_data_loan_credit = pd.Series(OrdinalEncoder().fit_transform(loan_credit_data['loan_status'].values.reshape(-1, 1)).flatten(), name='loan_status')\n"
   ]
  },
  {
   "cell_type": "code",
   "execution_count": null,
   "metadata": {
    "execution": {
     "iopub.status.busy": "2022-01-25T12:29:33.564940Z",
     "iopub.status.idle": "2022-01-25T12:29:33.565175Z",
     "shell.execute_reply": "2022-01-25T12:29:33.565059Z",
     "shell.execute_reply.started": "2022-01-25T12:29:33.565046Z"
    },
    "tags": []
   },
   "outputs": [],
   "source": [
    "identifier = 'Loan Credit'\n",
    "identifier_list.append(identifier)\n",
    "\n",
    "(distances_dict[identifier], \n",
    " evaluation_result_dict[identifier], \n",
    " results_dict[identifier], \n",
    " dt_inet_dict[identifier], \n",
    " dt_distilled_list_dict[identifier], \n",
    " data_dict[identifier],\n",
    " normalizer_list_dict[identifier]) = evaluate_real_world_dataset(model,\n",
    "                                                                dataset_size_list,\n",
    "                                                                mean_train_parameters,\n",
    "                                                                std_train_parameters,\n",
    "                                                                lambda_net_dataset_train.network_parameters_array,\n",
    "                                                                X_data_loan_credit, \n",
    "                                                                y_data_loan_credit, \n",
    "                                                                nominal_features = nominal_features_loan_credit, \n",
    "                                                                ordinal_features = ordinal_features_loan_credit,\n",
    "                                                                config = config,\n",
    "                                                                config_train_network = None)\n",
    "print_head = None\n",
    "if verbosity > 0:\n",
    "    print_results_different_data_sizes(results_dict[identifier], dataset_size_list_print)\n",
    "    print_network_distances(distances_dict)\n",
    "\n",
    "    dt_inet_plot = plot_decision_tree_from_parameters(dt_inet_dict[identifier], normalizer_list_dict[identifier], config)\n",
    "    dt_distilled_plot = plot_decision_tree_from_model(dt_distilled_list_dict[identifier][-2], config)\n",
    "\n",
    "    display(dt_inet_plot, dt_distilled_plot)\n",
    "\n",
    "    print_head = data_dict[identifier]['X_train'].head()\n",
    "print_head"
   ]
  },
  {
   "cell_type": "markdown",
   "metadata": {},
   "source": [
    "# Medical Insurance"
   ]
  },
  {
   "cell_type": "code",
   "execution_count": null,
   "metadata": {
    "execution": {
     "iopub.status.busy": "2022-01-25T12:29:33.565914Z",
     "iopub.status.idle": "2022-01-25T12:29:33.566144Z",
     "shell.execute_reply": "2022-01-25T12:29:33.566031Z",
     "shell.execute_reply.started": "2022-01-25T12:29:33.566018Z"
    },
    "tags": []
   },
   "outputs": [],
   "source": [
    "medical_insurance_data = pd.read_csv('real_world_datasets/Medical Insurance/insurance.csv', delimiter=',')\n",
    "\n",
    "features_select = [\n",
    "                    'age', \n",
    "                    'sex', \n",
    "                    'bmi', \n",
    "                    'children', \n",
    "                    'smoker',\n",
    "                    'region',\n",
    "                    'charges'\n",
    "                    ]\n",
    "\n",
    "medical_insurance_data = medical_insurance_data[features_select]\n",
    "\n",
    "nominal_features_medical_insurance = [\n",
    "\n",
    "                        ]\n",
    "ordinal_features_medical_insurance = [\n",
    "                    'sex',\n",
    "                    'region',\n",
    "                    'smoker'\n",
    "                   ]\n",
    "\n",
    "    \n",
    "X_data_medical_insurance = medical_insurance_data.drop(['charges'], axis = 1)\n",
    "y_data_medical_insurance = ((medical_insurance_data['charges'] > 10_000) * 1)\n",
    "\n",
    "\n",
    "print(X_data_medical_insurance.shape)\n",
    "X_data_medical_insurance.head()\n"
   ]
  },
  {
   "cell_type": "code",
   "execution_count": null,
   "metadata": {
    "execution": {
     "iopub.status.busy": "2022-01-25T12:29:33.566904Z",
     "iopub.status.idle": "2022-01-25T12:29:33.567136Z",
     "shell.execute_reply": "2022-01-25T12:29:33.567021Z",
     "shell.execute_reply.started": "2022-01-25T12:29:33.567008Z"
    },
    "tags": []
   },
   "outputs": [],
   "source": [
    "identifier = 'Medical Insurance'\n",
    "identifier_list.append(identifier)\n",
    "\n",
    "(distances_dict[identifier], \n",
    " evaluation_result_dict[identifier], \n",
    " results_dict[identifier], \n",
    " dt_inet_dict[identifier], \n",
    " dt_distilled_list_dict[identifier], \n",
    " data_dict[identifier],\n",
    " normalizer_list_dict[identifier]) = evaluate_real_world_dataset(model,\n",
    "                                                                dataset_size_list,\n",
    "                                                                mean_train_parameters,\n",
    "                                                                std_train_parameters,\n",
    "                                                                lambda_net_dataset_train.network_parameters_array,\n",
    "                                                                X_data_medical_insurance, \n",
    "                                                                y_data_medical_insurance, \n",
    "                                                                nominal_features = nominal_features_medical_insurance, \n",
    "                                                                ordinal_features = ordinal_features_medical_insurance,\n",
    "                                                                config = config,\n",
    "                                                                config_train_network = None)\n",
    "print_head = None\n",
    "if verbosity > 0:\n",
    "    print_results_different_data_sizes(results_dict[identifier], dataset_size_list_print)\n",
    "    print_network_distances(distances_dict)\n",
    "\n",
    "    dt_inet_plot = plot_decision_tree_from_parameters(dt_inet_dict[identifier], normalizer_list_dict[identifier], config)\n",
    "    dt_distilled_plot = plot_decision_tree_from_model(dt_distilled_list_dict[identifier][-2], config)\n",
    "\n",
    "    display(dt_inet_plot, dt_distilled_plot)\n",
    "\n",
    "    print_head = data_dict[identifier]['X_train'].head()\n",
    "print_head"
   ]
  },
  {
   "cell_type": "markdown",
   "metadata": {},
   "source": [
    "# Bank Marketing"
   ]
  },
  {
   "cell_type": "code",
   "execution_count": null,
   "metadata": {
    "execution": {
     "iopub.status.busy": "2022-01-25T12:29:33.567895Z",
     "iopub.status.idle": "2022-01-25T12:29:33.568125Z",
     "shell.execute_reply": "2022-01-25T12:29:33.568011Z",
     "shell.execute_reply.started": "2022-01-25T12:29:33.567998Z"
    },
    "tags": []
   },
   "outputs": [],
   "source": [
    "bank_data = pd.read_csv('real_world_datasets/Bank Marketing/bank-full.csv', delimiter=';') #bank\n",
    "\n",
    "features_select = [\n",
    "                    'age',\n",
    "                    #'job', \n",
    "                    'marital', \n",
    "                    'education', \n",
    "                    'default',\n",
    "                    'housing',\n",
    "                    'loan',\n",
    "                    #'contact',\n",
    "                    #'day',\n",
    "                    #'month',\n",
    "                    'duration',\n",
    "                    'campaign',\n",
    "                    'pdays',\n",
    "                    'previous',\n",
    "                    'poutcome',\n",
    "                    'y',\n",
    "                    ]\n",
    "\n",
    "bank_data = bank_data[features_select]\n",
    "\n",
    "nominal_features_bank = [\n",
    "                        #'job',\n",
    "                        'education',\n",
    "                        #'contact',\n",
    "                        #'day',\n",
    "                        #'month',\n",
    "                        'poutcome',\n",
    "                        ]\n",
    "ordinal_features_bank = [\n",
    "                    'marital',\n",
    "                    'default',\n",
    "                    'housing',\n",
    "                    'loan',\n",
    "                   ]\n",
    "\n",
    "    \n",
    "X_data_bank = bank_data.drop(['y'], axis = 1)\n",
    "y_data_bank = pd.Series(OrdinalEncoder().fit_transform(bank_data['y'].values.reshape(-1, 1)).flatten(), name='y')\n"
   ]
  },
  {
   "cell_type": "code",
   "execution_count": null,
   "metadata": {
    "execution": {
     "iopub.status.busy": "2022-01-25T12:29:33.568863Z",
     "iopub.status.idle": "2022-01-25T12:29:33.569099Z",
     "shell.execute_reply": "2022-01-25T12:29:33.568984Z",
     "shell.execute_reply.started": "2022-01-25T12:29:33.568969Z"
    },
    "tags": []
   },
   "outputs": [],
   "source": [
    "identifier = 'Bank Marketing'\n",
    "identifier_list.append(identifier)\n",
    "\n",
    "(distances_dict[identifier], \n",
    " evaluation_result_dict[identifier], \n",
    " results_dict[identifier], \n",
    " dt_inet_dict[identifier], \n",
    " dt_distilled_list_dict[identifier], \n",
    " data_dict[identifier],\n",
    " normalizer_list_dict[identifier]) = evaluate_real_world_dataset(model,\n",
    "                                                                dataset_size_list,\n",
    "                                                                mean_train_parameters,\n",
    "                                                                std_train_parameters,\n",
    "                                                                lambda_net_dataset_train.network_parameters_array,\n",
    "                                                                X_data_bank, \n",
    "                                                                y_data_bank, \n",
    "                                                                nominal_features = nominal_features_bank, \n",
    "                                                                ordinal_features = ordinal_features_bank,\n",
    "                                                                config = config,\n",
    "                                                                config_train_network = None)\n",
    "print_head = None\n",
    "if verbosity > 0:\n",
    "    print_results_different_data_sizes(results_dict[identifier], dataset_size_list_print)\n",
    "    print_network_distances(distances_dict)\n",
    "\n",
    "    dt_inet_plot = plot_decision_tree_from_parameters(dt_inet_dict[identifier], normalizer_list_dict[identifier], config)\n",
    "    dt_distilled_plot = plot_decision_tree_from_model(dt_distilled_list_dict[identifier][-2], config)\n",
    "\n",
    "    display(dt_inet_plot, dt_distilled_plot)\n",
    "\n",
    "    print_head = data_dict[identifier]['X_train'].head()\n",
    "print_head"
   ]
  },
  {
   "cell_type": "markdown",
   "metadata": {},
   "source": [
    "# Brest Cancer Wisconsin"
   ]
  },
  {
   "cell_type": "code",
   "execution_count": null,
   "metadata": {
    "execution": {
     "iopub.status.busy": "2022-01-25T12:29:33.569885Z",
     "iopub.status.idle": "2022-01-25T12:29:33.570228Z",
     "shell.execute_reply": "2022-01-25T12:29:33.570105Z",
     "shell.execute_reply.started": "2022-01-25T12:29:33.570090Z"
    },
    "tags": []
   },
   "outputs": [],
   "source": [
    "feature_names = [\n",
    "                'Sample code number',\n",
    "                'Clump Thickness',\n",
    "                'Uniformity of Cell Size',\n",
    "                'Uniformity of Cell Shape',\n",
    "                'Marginal Adhesion',\n",
    "                'Single Epithelial Cell Size',\n",
    "                'Bare Nuclei',\n",
    "                'Bland Chromatin',\n",
    "                'Normal Nucleoli',\n",
    "                'Mitoses',\n",
    "                'Class',\n",
    "                ]\n",
    "\n",
    "bcw_data = pd.read_csv('https://archive.ics.uci.edu/ml/machine-learning-databases/breast-cancer-wisconsin/breast-cancer-wisconsin.data', names=feature_names, index_col=False)\n",
    "\n",
    "bcw_data['Clump Thickness'][bcw_data['Clump Thickness'] == '?'] = bcw_data['Clump Thickness'].mode()[0]\n",
    "bcw_data['Uniformity of Cell Size'][bcw_data['Uniformity of Cell Size'] == '?'] = bcw_data['Uniformity of Cell Size'].mode()[0]\n",
    "bcw_data['Uniformity of Cell Shape'][bcw_data['Uniformity of Cell Shape'] == '?'] = bcw_data['Uniformity of Cell Shape'].mode()[0]\n",
    "bcw_data['Marginal Adhesion'][bcw_data['Marginal Adhesion'] == '?'] = bcw_data['Marginal Adhesion'].mode()[0]\n",
    "bcw_data['Single Epithelial Cell Size'][bcw_data['Single Epithelial Cell Size'] == '?'] = bcw_data['Single Epithelial Cell Size'].mode()[0]\n",
    "bcw_data['Bare Nuclei'][bcw_data['Bare Nuclei'] == '?'] = bcw_data['Bare Nuclei'].mode()[0]\n",
    "bcw_data['Bland Chromatin'][bcw_data['Bland Chromatin'] == '?'] = bcw_data['Bland Chromatin'].mode()[0]\n",
    "bcw_data['Normal Nucleoli'][bcw_data['Normal Nucleoli'] == '?'] = bcw_data['Normal Nucleoli'].mode()[0]\n",
    "bcw_data['Mitoses'][bcw_data['Mitoses'] == '?'] = bcw_data['Mitoses'].mode()[0]\n",
    "\n",
    "features_select = [\n",
    "                #'Sample code number',\n",
    "                'Clump Thickness',\n",
    "                'Uniformity of Cell Size',\n",
    "                'Uniformity of Cell Shape',\n",
    "                'Marginal Adhesion',\n",
    "                'Single Epithelial Cell Size',\n",
    "                'Bare Nuclei',\n",
    "                'Bland Chromatin',\n",
    "                'Normal Nucleoli',\n",
    "                'Mitoses',\n",
    "                'Class',\n",
    "                    ]\n",
    "\n",
    "bcw_data = bcw_data[features_select]\n",
    "\n",
    "nominal_features_bcw = [\n",
    "                        ]\n",
    "ordinal_features_bcw = [\n",
    "                   ]\n",
    "\n",
    "    \n",
    "X_data_bcw = bcw_data.drop(['Class'], axis = 1)\n",
    "y_data_bcw = pd.Series(OrdinalEncoder().fit_transform(bcw_data['Class'].values.reshape(-1, 1)).flatten(), name='Class')\n"
   ]
  },
  {
   "cell_type": "code",
   "execution_count": null,
   "metadata": {
    "execution": {
     "iopub.status.busy": "2022-01-25T12:29:33.570827Z",
     "iopub.status.idle": "2022-01-25T12:29:33.571063Z",
     "shell.execute_reply": "2022-01-25T12:29:33.570947Z",
     "shell.execute_reply.started": "2022-01-25T12:29:33.570934Z"
    },
    "tags": []
   },
   "outputs": [],
   "source": [
    "identifier = 'Brest Cancer Wisconsin'\n",
    "identifier_list.append(identifier)\n",
    "\n",
    "(distances_dict[identifier], \n",
    " evaluation_result_dict[identifier], \n",
    " results_dict[identifier], \n",
    " dt_inet_dict[identifier], \n",
    " dt_distilled_list_dict[identifier], \n",
    " data_dict[identifier],\n",
    " normalizer_list_dict[identifier]) = evaluate_real_world_dataset(model,\n",
    "                                                                dataset_size_list,\n",
    "                                                                mean_train_parameters,\n",
    "                                                                std_train_parameters,\n",
    "                                                                lambda_net_dataset_train.network_parameters_array,\n",
    "                                                                X_data_bcw, \n",
    "                                                                y_data_bcw, \n",
    "                                                                nominal_features = nominal_features_bcw, \n",
    "                                                                ordinal_features = ordinal_features_bcw,\n",
    "                                                                config = config,\n",
    "                                                                config_train_network = None)\n",
    "print_head = None\n",
    "if verbosity > 0:\n",
    "    print_results_different_data_sizes(results_dict[identifier], dataset_size_list_print)\n",
    "    print_network_distances(distances_dict)\n",
    "\n",
    "    dt_inet_plot = plot_decision_tree_from_parameters(dt_inet_dict[identifier], normalizer_list_dict[identifier], config)\n",
    "    dt_distilled_plot = plot_decision_tree_from_model(dt_distilled_list_dict[identifier][-2], config)\n",
    "\n",
    "    display(dt_inet_plot, dt_distilled_plot)\n",
    "\n",
    "    print_head = data_dict[identifier]['X_train'].head()\n",
    "print_head"
   ]
  },
  {
   "cell_type": "markdown",
   "metadata": {},
   "source": [
    "# Wisconsin Diagnostic Breast Cancer"
   ]
  },
  {
   "cell_type": "code",
   "execution_count": null,
   "metadata": {
    "execution": {
     "iopub.status.busy": "2022-01-25T12:29:33.571921Z",
     "iopub.status.idle": "2022-01-25T12:29:33.572157Z",
     "shell.execute_reply": "2022-01-25T12:29:33.572039Z",
     "shell.execute_reply.started": "2022-01-25T12:29:33.572026Z"
    },
    "tags": []
   },
   "outputs": [],
   "source": [
    "feature_names = [\n",
    "                'ID number',\n",
    "                'Diagnosis',\n",
    "                'radius',# (mean of distances from center to points on the perimeter)\n",
    "                'texture',# (standard deviation of gray-scale values)\n",
    "                'perimeter',\n",
    "                'area',\n",
    "                'smoothness',# (local variation in radius lengths)\n",
    "                'compactness',# (perimeter^2 / area - 1.0)\n",
    "                'concavity',# (severity of concave portions of the contour)\n",
    "                'concave points',# (number of concave portions of the contour)\n",
    "                'symmetry',\n",
    "                'fractal dimension',# (\"coastline approximation\" - 1)\n",
    "                ]\n",
    "#Wisconsin Diagnostic Breast Cancer\n",
    "wdbc_data = pd.read_csv('https://archive.ics.uci.edu/ml/machine-learning-databases/breast-cancer-wisconsin/wdbc.data', names=feature_names, index_col=False)\n",
    "\n",
    "features_select = [\n",
    "                    #'ID number',\n",
    "                    'Diagnosis',\n",
    "                    'radius',# (mean of distances from center to points on the perimeter)\n",
    "                    'texture',# (standard deviation of gray-scale values)\n",
    "                    'perimeter',\n",
    "                    'area',\n",
    "                    'smoothness',# (local variation in radius lengths)\n",
    "                    'compactness',# (perimeter^2 / area - 1.0)\n",
    "                    'concavity',# (severity of concave portions of the contour)\n",
    "                    'concave points',# (number of concave portions of the contour)\n",
    "                    'symmetry',\n",
    "                    'fractal dimension',# (\"coastline approximation\" - 1)\n",
    "                    ]\n",
    "\n",
    "wdbc_data = wdbc_data[features_select]\n",
    "\n",
    "nominal_features_wdbc = [\n",
    "                        ]\n",
    "ordinal_features_wdbc = [\n",
    "                   ]\n",
    "\n",
    "    \n",
    "X_data_wdbc = wdbc_data.drop(['Diagnosis'], axis = 1)\n",
    "y_data_wdbc= pd.Series(OrdinalEncoder().fit_transform(wdbc_data['Diagnosis'].values.reshape(-1, 1)).flatten(), name='Diagnosis')\n"
   ]
  },
  {
   "cell_type": "code",
   "execution_count": null,
   "metadata": {
    "execution": {
     "iopub.status.busy": "2022-01-25T12:29:33.572848Z",
     "iopub.status.idle": "2022-01-25T12:29:33.573084Z",
     "shell.execute_reply": "2022-01-25T12:29:33.572969Z",
     "shell.execute_reply.started": "2022-01-25T12:29:33.572955Z"
    },
    "tags": []
   },
   "outputs": [],
   "source": [
    "identifier = 'Wisconsin Diagnostic Breast Cancer'\n",
    "identifier_list.append(identifier)\n",
    "\n",
    "(distances_dict[identifier], \n",
    " evaluation_result_dict[identifier], \n",
    " results_dict[identifier], \n",
    " dt_inet_dict[identifier], \n",
    " dt_distilled_list_dict[identifier], \n",
    " data_dict[identifier],\n",
    " normalizer_list_dict[identifier]) = evaluate_real_world_dataset(model,\n",
    "                                                                dataset_size_list,\n",
    "                                                                mean_train_parameters,\n",
    "                                                                std_train_parameters,\n",
    "                                                                lambda_net_dataset_train.network_parameters_array,\n",
    "                                                                X_data_wdbc, \n",
    "                                                                y_data_wdbc, \n",
    "                                                                nominal_features = nominal_features_wdbc, \n",
    "                                                                ordinal_features = ordinal_features_wdbc,\n",
    "                                                                config = config,\n",
    "                                                                config_train_network = None)\n",
    "print_head = None\n",
    "if verbosity > 0:\n",
    "    print_results_different_data_sizes(results_dict[identifier], dataset_size_list_print)\n",
    "    print_network_distances(distances_dict)\n",
    "\n",
    "    dt_inet_plot = plot_decision_tree_from_parameters(dt_inet_dict[identifier], normalizer_list_dict[identifier], config)\n",
    "    dt_distilled_plot = plot_decision_tree_from_model(dt_distilled_list_dict[identifier][-2], config)\n",
    "\n",
    "    display(dt_inet_plot, dt_distilled_plot)\n",
    "\n",
    "    print_head = data_dict[identifier]['X_train'].head()\n",
    "print_head"
   ]
  },
  {
   "cell_type": "markdown",
   "metadata": {},
   "source": [
    "# Wisconsin Prognostic Breast Cancer"
   ]
  },
  {
   "cell_type": "code",
   "execution_count": null,
   "metadata": {
    "execution": {
     "iopub.status.busy": "2022-01-25T12:29:33.573851Z",
     "iopub.status.idle": "2022-01-25T12:29:33.574187Z",
     "shell.execute_reply": "2022-01-25T12:29:33.574063Z",
     "shell.execute_reply.started": "2022-01-25T12:29:33.574047Z"
    },
    "tags": []
   },
   "outputs": [],
   "source": [
    "feature_names = [\n",
    "                'ID number',\n",
    "                'Diagnosis',\n",
    "                'radius',# (mean of distances from center to points on the perimeter)\n",
    "                'texture',# (standard deviation of gray-scale values)\n",
    "                'perimeter',\n",
    "                'area',\n",
    "                'smoothness',# (local variation in radius lengths)\n",
    "                'compactness',# (perimeter^2 / area - 1.0)\n",
    "                'concavity',# (severity of concave portions of the contour)\n",
    "                'concave points',# (number of concave portions of the contour)\n",
    "                'symmetry',\n",
    "                'fractal dimension',# (\"coastline approximation\" - 1)\n",
    "                ]\n",
    "#Wisconsin Prognostic Breast Cancer\n",
    "wpbc_data = pd.read_csv('https://archive.ics.uci.edu/ml/machine-learning-databases/breast-cancer-wisconsin/wpbc.data', names=feature_names, index_col=False)\n",
    "\n",
    "features_select = [\n",
    "                    #'ID number',\n",
    "                    'Diagnosis',\n",
    "                    'radius',# (mean of distances from center to points on the perimeter)\n",
    "                    'texture',# (standard deviation of gray-scale values)\n",
    "                    'perimeter',\n",
    "                    'area',\n",
    "                    'smoothness',# (local variation in radius lengths)\n",
    "                    'compactness',# (perimeter^2 / area - 1.0)\n",
    "                    'concavity',# (severity of concave portions of the contour)\n",
    "                    'concave points',# (number of concave portions of the contour)\n",
    "                    'symmetry',\n",
    "                    'fractal dimension',# (\"coastline approximation\" - 1)\n",
    "                    ]\n",
    "\n",
    "wpbc_data = wpbc_data[features_select]\n",
    "\n",
    "nominal_features_wpbc = [\n",
    "                        ]\n",
    "ordinal_features_wpbc = [\n",
    "                   ]\n",
    " \n",
    "X_data_wpbc = wpbc_data.drop(['Diagnosis'], axis = 1)\n",
    "y_data_wpbc= pd.Series(OrdinalEncoder().fit_transform(wpbc_data['Diagnosis'].values.reshape(-1, 1)).flatten(), name='Diagnosis')\n"
   ]
  },
  {
   "cell_type": "code",
   "execution_count": null,
   "metadata": {
    "execution": {
     "iopub.status.busy": "2022-01-25T12:29:33.574842Z",
     "iopub.status.idle": "2022-01-25T12:29:33.575073Z",
     "shell.execute_reply": "2022-01-25T12:29:33.574959Z",
     "shell.execute_reply.started": "2022-01-25T12:29:33.574946Z"
    },
    "tags": []
   },
   "outputs": [],
   "source": [
    "identifier = 'Wisconsin Prognostic Breast Cancer'\n",
    "identifier_list.append(identifier)\n",
    "\n",
    "(distances_dict[identifier], \n",
    " evaluation_result_dict[identifier], \n",
    " results_dict[identifier], \n",
    " dt_inet_dict[identifier], \n",
    " dt_distilled_list_dict[identifier], \n",
    " data_dict[identifier],\n",
    " normalizer_list_dict[identifier]) = evaluate_real_world_dataset(model,\n",
    "                                                                dataset_size_list,\n",
    "                                                                mean_train_parameters,\n",
    "                                                                std_train_parameters,\n",
    "                                                                lambda_net_dataset_train.network_parameters_array,\n",
    "                                                                X_data_wpbc, \n",
    "                                                                y_data_wpbc, \n",
    "                                                                nominal_features = nominal_features_wpbc, \n",
    "                                                                ordinal_features = ordinal_features_wpbc,\n",
    "                                                                config = config,\n",
    "                                                                config_train_network = None)\n",
    "print_head = None\n",
    "if verbosity > 0:\n",
    "    print_results_different_data_sizes(results_dict[identifier], dataset_size_list_print)\n",
    "    print_network_distances(distances_dict)\n",
    "\n",
    "    dt_inet_plot = plot_decision_tree_from_parameters(dt_inet_dict[identifier], normalizer_list_dict[identifier], config)\n",
    "    dt_distilled_plot = plot_decision_tree_from_model(dt_distilled_list_dict[identifier][-2], config)\n",
    "\n",
    "    display(dt_inet_plot, dt_distilled_plot)\n",
    "\n",
    "    print_head = data_dict[identifier]['X_train'].head()\n",
    "print_head"
   ]
  },
  {
   "cell_type": "markdown",
   "metadata": {},
   "source": [
    "# Abalone"
   ]
  },
  {
   "cell_type": "code",
   "execution_count": null,
   "metadata": {
    "execution": {
     "iopub.status.busy": "2022-01-25T12:29:33.575799Z",
     "iopub.status.idle": "2022-01-25T12:29:33.576033Z",
     "shell.execute_reply": "2022-01-25T12:29:33.575919Z",
     "shell.execute_reply.started": "2022-01-25T12:29:33.575905Z"
    },
    "tags": []
   },
   "outputs": [],
   "source": [
    "feature_names = [\n",
    "                'Sex',#\t\tnominal\t\t\tM, F, and I (infant)\n",
    "                'Length',#\tcontinuous\tmm\tLongest shell measurement\n",
    "                'Diameter',#\tcontinuous\tmm\tperpendicular to length\n",
    "                'Height',#\t\tcontinuous\tmm\twith meat in shell\n",
    "                'Whole weight',#\tcontinuous\tgrams\twhole abalone\n",
    "                'Shucked weight',#\tcontinuous\tgrams\tweight of meat\n",
    "                'Viscera weight',#\tcontinuous\tgrams\tgut weight (after bleeding)\n",
    "                'Shell weight',#\tcontinuous\tgrams\tafter being dried\n",
    "                'Rings',#\t\tinteger\t\t\t+1.5 gives the age in years\n",
    "                ]\n",
    "\n",
    "abalone_data = pd.read_csv('https://archive.ics.uci.edu/ml/machine-learning-databases/abalone/abalone.data', names=feature_names, index_col=False)\n",
    "\n",
    "\n",
    "features_select = [\n",
    "                'Sex',#\t\tnominal\t\t\tM, F, and I (infant)\n",
    "                'Length',#\tcontinuous\tmm\tLongest shell measurement\n",
    "                'Diameter',#\tcontinuous\tmm\tperpendicular to length\n",
    "                'Height',#\t\tcontinuous\tmm\twith meat in shell\n",
    "                'Whole weight',#\tcontinuous\tgrams\twhole abalone\n",
    "                'Shucked weight',#\tcontinuous\tgrams\tweight of meat\n",
    "                'Viscera weight',#\tcontinuous\tgrams\tgut weight (after bleeding)\n",
    "                'Shell weight',#\tcontinuous\tgrams\tafter being dried\n",
    "                'Rings',#\t\tinteger\t\t\t+1.5 gives the age in years\n",
    "                    ]\n",
    "\n",
    "abalone_data = abalone_data[features_select]\n",
    "\n",
    "nominal_features_abalone = [\n",
    "                        'Sex',\n",
    "                        ]\n",
    "ordinal_features_abalone = [\n",
    "                   ]\n",
    "   \n",
    "X_data_abalone = abalone_data.drop(['Rings'], axis = 1)\n",
    "y_data_abalone = ((abalone_data['Rings'] > 10) * 1)\n",
    "    "
   ]
  },
  {
   "cell_type": "code",
   "execution_count": null,
   "metadata": {
    "execution": {
     "iopub.status.busy": "2022-01-25T12:29:33.576802Z",
     "iopub.status.idle": "2022-01-25T12:29:33.577148Z",
     "shell.execute_reply": "2022-01-25T12:29:33.577025Z",
     "shell.execute_reply.started": "2022-01-25T12:29:33.577010Z"
    },
    "tags": []
   },
   "outputs": [],
   "source": [
    "identifier = 'Abalone'\n",
    "identifier_list.append(identifier)\n",
    "\n",
    "(distances_dict[identifier], \n",
    " evaluation_result_dict[identifier], \n",
    " results_dict[identifier], \n",
    " dt_inet_dict[identifier], \n",
    " dt_distilled_list_dict[identifier], \n",
    " data_dict[identifier],\n",
    " normalizer_list_dict[identifier]) = evaluate_real_world_dataset(model,\n",
    "                                                                dataset_size_list,\n",
    "                                                                mean_train_parameters,\n",
    "                                                                std_train_parameters,\n",
    "                                                                lambda_net_dataset_train.network_parameters_array,\n",
    "                                                                X_data_abalone, \n",
    "                                                                y_data_abalone, \n",
    "                                                                nominal_features = nominal_features_abalone, \n",
    "                                                                ordinal_features = ordinal_features_abalone,\n",
    "                                                                config = config,\n",
    "                                                                config_train_network = None)\n",
    "print_head = None\n",
    "if verbosity > 0:\n",
    "    print_results_different_data_sizes(results_dict[identifier], dataset_size_list_print)\n",
    "    print_network_distances(distances_dict)\n",
    "\n",
    "    dt_inet_plot = plot_decision_tree_from_parameters(dt_inet_dict[identifier], normalizer_list_dict[identifier], config)\n",
    "    dt_distilled_plot = plot_decision_tree_from_model(dt_distilled_list_dict[identifier][-2], config)\n",
    "\n",
    "    display(dt_inet_plot, dt_distilled_plot)\n",
    "\n",
    "    print_head = data_dict[identifier]['X_train'].head()\n",
    "print_head"
   ]
  },
  {
   "cell_type": "markdown",
   "metadata": {},
   "source": [
    "# Car"
   ]
  },
  {
   "cell_type": "code",
   "execution_count": null,
   "metadata": {
    "execution": {
     "iopub.status.busy": "2022-01-25T12:29:33.577779Z",
     "iopub.status.idle": "2022-01-25T12:29:33.578015Z",
     "shell.execute_reply": "2022-01-25T12:29:33.577898Z",
     "shell.execute_reply.started": "2022-01-25T12:29:33.577885Z"
    },
    "tags": []
   },
   "outputs": [],
   "source": [
    "feature_names = [\n",
    "   'buying',#       v-high, high, med, low\n",
    "   'maint',#        v-high, high, med, low\n",
    "   'doors',#        2, 3, 4, 5-more\n",
    "   'persons',#      2, 4, more\n",
    "   'lug_boot',#     small, med, big\n",
    "   'safety',#       low, med, high\n",
    "   'class',#        unacc, acc, good, v-good\n",
    "                ]\n",
    "\n",
    "car_data = pd.read_csv('https://archive.ics.uci.edu/ml/machine-learning-databases/car/car.data', names=feature_names, index_col=False)\n",
    "\n",
    "features_select = [\n",
    "                   'buying',#       v-high, high, med, low\n",
    "                   'maint',#        v-high, high, med, low\n",
    "                   'doors',#        2, 3, 4, 5-more\n",
    "                   'persons',#      2, 4, more\n",
    "                   'lug_boot',#     small, med, big\n",
    "                   'safety',#       low, med, high\n",
    "                   'class',#        unacc, acc, good, v-good\n",
    "                    ]\n",
    "\n",
    "car_data = car_data[features_select]\n",
    "\n",
    "nominal_features_car = [\n",
    "                       'buying',#       v-high, high, med, low\n",
    "                       'maint',#        v-high, high, med, low\n",
    "                       'doors',#        2, 3, 4, 5-more\n",
    "                       'persons',#      2, 4, more\n",
    "                       'lug_boot',#     small, med, big\n",
    "                       'safety',#       low, med, high\n",
    "                        ]\n",
    "\n",
    "ordinal_features_car = [\n",
    "                   ]\n",
    "\n",
    "\n",
    "    \n",
    "X_data_car = car_data.drop(['class'], axis = 1)\n",
    "y_data_car = ((car_data['class'] != 'unacc') * 1)"
   ]
  },
  {
   "cell_type": "code",
   "execution_count": null,
   "metadata": {
    "execution": {
     "iopub.status.busy": "2022-01-25T12:29:33.578748Z",
     "iopub.status.idle": "2022-01-25T12:29:33.578984Z",
     "shell.execute_reply": "2022-01-25T12:29:33.578869Z",
     "shell.execute_reply.started": "2022-01-25T12:29:33.578855Z"
    },
    "tags": []
   },
   "outputs": [],
   "source": [
    "identifier = 'Car'\n",
    "identifier_list.append(identifier)\n",
    "\n",
    "(distances_dict[identifier], \n",
    " evaluation_result_dict[identifier], \n",
    " results_dict[identifier], \n",
    " dt_inet_dict[identifier], \n",
    " dt_distilled_list_dict[identifier], \n",
    " data_dict[identifier],\n",
    " normalizer_list_dict[identifier]) = evaluate_real_world_dataset(model,\n",
    "                                                                dataset_size_list,\n",
    "                                                                mean_train_parameters,\n",
    "                                                                std_train_parameters,\n",
    "                                                                lambda_net_dataset_train.network_parameters_array,\n",
    "                                                                X_data_car, \n",
    "                                                                y_data_car, \n",
    "                                                                nominal_features = nominal_features_car, \n",
    "                                                                ordinal_features = ordinal_features_car,\n",
    "                                                                config = config,\n",
    "                                                                config_train_network = None)\n",
    "print_head = None\n",
    "if verbosity > 0:\n",
    "    print_results_different_data_sizes(results_dict[identifier], dataset_size_list_print)\n",
    "    print_network_distances(distances_dict)\n",
    "\n",
    "    dt_inet_plot = plot_decision_tree_from_parameters(dt_inet_dict[identifier], normalizer_list_dict[identifier], config)\n",
    "    dt_distilled_plot = plot_decision_tree_from_model(dt_distilled_list_dict[identifier][-2], config)\n",
    "\n",
    "    display(dt_inet_plot, dt_distilled_plot)\n",
    "\n",
    "    print_head = data_dict[identifier]['X_train'].head()\n",
    "print_head"
   ]
  },
  {
   "cell_type": "markdown",
   "metadata": {},
   "source": [
    "# Plot and Save Results"
   ]
  },
  {
   "cell_type": "code",
   "execution_count": null,
   "metadata": {
    "execution": {
     "iopub.status.busy": "2022-01-25T12:29:33.579657Z",
     "iopub.status.idle": "2022-01-25T12:29:33.579950Z",
     "shell.execute_reply": "2022-01-25T12:29:33.579825Z",
     "shell.execute_reply.started": "2022-01-25T12:29:33.579810Z"
    },
    "tags": []
   },
   "outputs": [],
   "source": [
    "#print_complete_performance_evaluation_results(results_dict, identifier_list, dataset_size_list, dataset_size=10000)\n",
    "complete_performance_evaluation_results = get_complete_performance_evaluation_results_dataframe(results_dict, \n",
    "                                                                                                identifier_list, \n",
    "                                                                                                dataset_size_list,\n",
    "                                                                                                dataset_size=10000)\n",
    "complete_performance_evaluation_results.head(20)"
   ]
  },
  {
   "cell_type": "code",
   "execution_count": null,
   "metadata": {
    "execution": {
     "iopub.status.busy": "2022-01-25T12:29:33.580688Z",
     "iopub.status.idle": "2022-01-25T12:29:33.581025Z",
     "shell.execute_reply": "2022-01-25T12:29:33.580903Z",
     "shell.execute_reply.started": "2022-01-25T12:29:33.580887Z"
    },
    "tags": []
   },
   "outputs": [],
   "source": [
    "complete_distribution_evaluation_results = get_complete_distribution_evaluation_results_dataframe(inet_evaluation_result_dict_mean_by_distribution_test)\n",
    "complete_distribution_evaluation_results.head(20)"
   ]
  },
  {
   "cell_type": "code",
   "execution_count": null,
   "metadata": {
    "execution": {
     "iopub.status.busy": "2022-01-25T12:29:33.581723Z",
     "iopub.status.idle": "2022-01-25T12:29:33.581961Z",
     "shell.execute_reply": "2022-01-25T12:29:33.581845Z",
     "shell.execute_reply.started": "2022-01-25T12:29:33.581831Z"
    },
    "tags": []
   },
   "outputs": [],
   "source": [
    "#print_network_distances(distances_dict)\n",
    "network_distances = get_print_network_distances_dataframe(distances_dict)\n",
    "network_distances.head(20)"
   ]
  },
  {
   "cell_type": "code",
   "execution_count": null,
   "metadata": {
    "tags": []
   },
   "outputs": [],
   "source": []
  },
  {
   "cell_type": "code",
   "execution_count": null,
   "metadata": {
    "execution": {
     "iopub.status.busy": "2022-01-25T12:29:33.582646Z",
     "iopub.status.idle": "2022-01-25T12:29:33.582882Z",
     "shell.execute_reply": "2022-01-25T12:29:33.582766Z",
     "shell.execute_reply.started": "2022-01-25T12:29:33.582752Z"
    },
    "tags": []
   },
   "outputs": [],
   "source": [
    "z"
   ]
  },
  {
   "cell_type": "code",
   "execution_count": null,
   "metadata": {
    "tags": []
   },
   "outputs": [],
   "source": []
  },
  {
   "cell_type": "code",
   "execution_count": null,
   "metadata": {
    "execution": {
     "iopub.status.busy": "2022-01-25T12:29:33.583617Z",
     "iopub.status.idle": "2022-01-25T12:29:33.583853Z",
     "shell.execute_reply": "2022-01-25T12:29:33.583737Z",
     "shell.execute_reply.started": "2022-01-25T12:29:33.583723Z"
    },
    "tags": []
   },
   "outputs": [],
   "source": [
    "writepath_complete = './results_complete.csv'\n",
    "writepath_summary = './results_summary.csv'\n",
    "\n",
    "#TODO: ADD COMPLEXITY FOR DTS\n",
    "\n",
    "if different_eval_data:\n",
    "    flat_config = flatten_dict(config_train)\n",
    "else:\n",
    "    flat_config = flatten_dict(config)    \n",
    "\n",
    "flat_dict_train = flatten_dict(inet_evaluation_result_dict_train)\n",
    "flat_dict_valid = flatten_dict(inet_evaluation_result_dict_valid)\n",
    "if not evaluate_distribution:\n",
    "    flat_dict_test = flatten_dict(inet_evaluation_result_dict_test)\n",
    "else:\n",
    "    flat_dict_test = flatten_dict(inet_evaluation_result_dict_complete_by_distribution_test)\n",
    "\n",
    "if not os.path.exists(writepath_complete):\n",
    "    with open(writepath_complete, 'w+') as text_file:       \n",
    "        for key in flat_config.keys():\n",
    "            text_file.write(key)\n",
    "            text_file.write(';')      \n",
    "        \n",
    "        number_of_evaluated_networks = np.array(flat_dict_train['inet_scores_binary_crossentropy']).shape[0]\n",
    "        for key in flat_dict_train.keys():\n",
    "            #if 'function_values' not in key:\n",
    "            for i in range(number_of_evaluated_networks):\n",
    "                text_file.write(key + '_train_' + str(i) + ';')    \n",
    "                    \n",
    "        number_of_evaluated_networks = np.array(flat_dict_valid['inet_scores_binary_crossentropy']).shape[0]\n",
    "        for key in flat_dict_valid.keys():\n",
    "            #if 'function_values' not in key:\n",
    "            for i in range(number_of_evaluated_networks):\n",
    "                text_file.write(key + '_valid_' + str(i) + ';')       \n",
    "                \n",
    "        number_of_evaluated_networks = np.array(flat_dict_test[list(flat_dict_test.keys())[0]]).shape[0]\n",
    "        for key in flat_dict_test.keys():\n",
    "            #if 'function_values' not in key:\n",
    "            for i in range(number_of_evaluated_networks):\n",
    "                text_file.write(key + '_test_' + str(i) + ';')          \n",
    "        \n",
    "        text_file.write('\\n')\n",
    "    \n",
    "with open(writepath_complete, 'a+') as text_file:  \n",
    "    for value in flat_config.values():\n",
    "        text_file.write(str(value))\n",
    "        text_file.write(';')\n",
    "            \n",
    "        \n",
    "    number_of_evaluated_networks = np.array(flat_dict_train['inet_scores_binary_crossentropy']).shape[0]\n",
    "    for key, values in flat_dict_train.items():\n",
    "        #if 'function_values' not in key:\n",
    "        for score in values:\n",
    "            text_file.write(str(score) + ';')   \n",
    "\n",
    "    number_of_evaluated_networks = np.array(flat_dict_valid['inet_scores_binary_crossentropy']).shape[0]\n",
    "    for key, values in flat_dict_valid.items():\n",
    "        #if 'function_values' not in key:\n",
    "        for score in values:\n",
    "            text_file.write(str(score) + ';')   \n",
    "\n",
    "    number_of_evaluated_networks = np.array(flat_dict_test[list(flat_dict_test.keys())[0]]).shape[0]\n",
    "    for key, values in flat_dict_test.items():\n",
    "        #if 'function_values' not in key:\n",
    "        for score in values:\n",
    "            text_file.write(str(score) + ';')   \n",
    "                    \n",
    "    text_file.write('\\n')            \n",
    "\n",
    "    text_file.close()  \n",
    "    \n"
   ]
  },
  {
   "cell_type": "code",
   "execution_count": null,
   "metadata": {
    "execution": {
     "iopub.status.busy": "2022-01-25T12:29:33.584794Z",
     "iopub.status.idle": "2022-01-25T12:29:33.585029Z",
     "shell.execute_reply": "2022-01-25T12:29:33.584914Z",
     "shell.execute_reply.started": "2022-01-25T12:29:33.584900Z"
    },
    "tags": []
   },
   "outputs": [],
   "source": [
    "inet_evaluation_result_dict_mean_train_flat = flatten_dict(inet_evaluation_result_dict_mean_train)\n",
    "inet_evaluation_result_dict_mean_valid_flat = flatten_dict(inet_evaluation_result_dict_mean_valid)\n",
    "if not evaluate_distribution:\n",
    "    inet_evaluation_result_dict_mean_test_flat = flatten_dict(inet_evaluation_result_dict_mean_test)\n",
    "else:\n",
    "    inet_evaluation_result_dict_mean_test_flat = flatten_dict(inet_evaluation_result_dict_mean_by_distribution_test)\n",
    "\n",
    "#identifier_list_synthetic = ['train', 'valid', 'test']\n",
    "identifier_list_combined = list(flatten_list([identifier_list_synthetic, ['train', 'valid', 'test']]))\n",
    "\n",
    "if not os.path.exists(writepath_summary):\n",
    "    with open(writepath_summary, 'w+') as text_file: \n",
    "            \n",
    "        for key in flat_config.keys():\n",
    "            text_file.write(key + ';')\n",
    "         \n",
    "        for key in inet_evaluation_result_dict_mean_train_flat.keys():\n",
    "            text_file.write('train_' + key + ';')\n",
    "        for key in inet_evaluation_result_dict_mean_valid_flat.keys():\n",
    "            text_file.write('valid_' + key + ';')            \n",
    "        for key in inet_evaluation_result_dict_mean_test_flat.keys():\n",
    "            text_file.write('test_' + key + ';')                \n",
    "        \n",
    "        for dataset_size in dataset_size_list:\n",
    "            for identifier in identifier_list:\n",
    "                results_dict_flat = flatten_dict(results_dict[identifier][-2])\n",
    "                #del results_dict_flat['function_values_y_test_inet_dt']\n",
    "                #del results_dict_flat['function_values_y_test_distilled_dt']\n",
    "\n",
    "                for key in results_dict_flat.keys():\n",
    "                    text_file.write(key + '_' + identifier + '_' + str(dataset_size) + ';')                                   \n",
    "         \n",
    "\n",
    "        for key in distances_dict['train'].keys():\n",
    "            for identifier in identifier_list_combined:\n",
    "                text_file.write(key + '_' + identifier + ';') \n",
    "        \n",
    "        text_file.write('\\n')\n",
    "    \n",
    "with open(writepath_summary, 'a+') as text_file: \n",
    "    \n",
    "    for value in flat_config.values():\n",
    "        text_file.write(str(value) + ';')\n",
    "        \n",
    "    for value in inet_evaluation_result_dict_mean_train_flat.values():\n",
    "        text_file.write(str(value) + ';')\n",
    "    for value in inet_evaluation_result_dict_mean_valid_flat.values():\n",
    "        text_file.write(str(value) + ';')            \n",
    "    for value in inet_evaluation_result_dict_mean_test_flat.values():\n",
    "        text_file.write(str(value) + ';')\n",
    "\n",
    "    for i in range(len(dataset_size_list)):\n",
    "        for identifier in identifier_list:\n",
    "            evaluation_result_dict_flat = flatten_dict(evaluation_result_dict[identifier])\n",
    "            #del evaluation_result_dict_flat['function_values_y_test_inet_dt']\n",
    "            #del evaluation_result_dict_flat['function_values_y_test_distilled_dt']\n",
    "            \n",
    "            for values in evaluation_result_dict_flat.values():\n",
    "                text_file.write(str(values) + ';')    #values[i]        \n",
    "     \n",
    "    for key in distances_dict['train'].keys():\n",
    "        for identifier in identifier_list_combined:\n",
    "            text_file.write(str(distances_dict[identifier][key]) + ';')      \n",
    "    \n",
    "    text_file.write('\\n')\n",
    "\n",
    "    text_file.close()      "
   ]
  },
  {
   "cell_type": "code",
   "execution_count": null,
   "metadata": {
    "execution": {
     "iopub.status.busy": "2022-01-25T12:29:33.585682Z",
     "iopub.status.idle": "2022-01-25T12:29:33.585916Z",
     "shell.execute_reply": "2022-01-25T12:29:33.585801Z",
     "shell.execute_reply.started": "2022-01-25T12:29:33.585787Z"
    },
    "tags": []
   },
   "outputs": [],
   "source": [
    "if use_gpu:\n",
    "    from numba import cuda \n",
    "    device = cuda.get_current_device()\n",
    "    device.reset()"
   ]
  },
  {
   "cell_type": "markdown",
   "metadata": {},
   "source": [
    "## NEXT DATASET"
   ]
  },
  {
   "cell_type": "code",
   "execution_count": null,
   "metadata": {},
   "outputs": [],
   "source": []
  },
  {
   "cell_type": "code",
   "execution_count": null,
   "metadata": {},
   "outputs": [],
   "source": []
  },
  {
   "cell_type": "code",
   "execution_count": null,
   "metadata": {},
   "outputs": [],
   "source": []
  },
  {
   "cell_type": "code",
   "execution_count": null,
   "metadata": {},
   "outputs": [],
   "source": []
  },
  {
   "cell_type": "code",
   "execution_count": null,
   "metadata": {},
   "outputs": [],
   "source": []
  },
  {
   "cell_type": "code",
   "execution_count": null,
   "metadata": {},
   "outputs": [],
   "source": []
  },
  {
   "cell_type": "code",
   "execution_count": null,
   "metadata": {},
   "outputs": [],
   "source": []
  },
  {
   "cell_type": "code",
   "execution_count": null,
   "metadata": {},
   "outputs": [],
   "source": []
  },
  {
   "cell_type": "code",
   "execution_count": null,
   "metadata": {},
   "outputs": [],
   "source": []
  }
 ],
 "metadata": {
  "kernelspec": {
   "display_name": "Python 3 (ipykernel)",
   "language": "python",
   "name": "python3"
  },
  "language_info": {
   "codemirror_mode": {
    "name": "ipython",
    "version": 3
   },
   "file_extension": ".py",
   "mimetype": "text/x-python",
   "name": "python",
   "nbconvert_exporter": "python",
   "pygments_lexer": "ipython3",
   "version": "3.8.0"
  }
 },
 "nbformat": 4,
 "nbformat_minor": 4
}
