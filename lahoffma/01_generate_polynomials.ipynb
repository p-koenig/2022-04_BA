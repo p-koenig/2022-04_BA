{
 "cells": [
  {
   "cell_type": "markdown",
   "metadata": {},
   "source": [
    "# Function Generation for the Training of λ-Nets"
   ]
  },
  {
   "cell_type": "markdown",
   "metadata": {},
   "source": [
    "## 0: Preparation"
   ]
  },
  {
   "cell_type": "code",
   "execution_count": null,
   "metadata": {},
   "outputs": [],
   "source": [
    "##############DO NOT CHANGE###################\n",
    "\n",
    "# Importing own helper library\n",
    "import sys\n",
    "sys.path.insert(0,'../_baselib')\n",
    "import general_helper as gh\n",
    "import polynom_helper as ph\n",
    "\n",
    "# Third-party imports\n",
    "from tqdm.notebook import tqdm\n",
    "import numpy as np\n",
    "import pandas as pd\n",
    "from joblib import Parallel, delayed \n",
    "# sympy for Polynomial support\n",
    "from sympy.polys import monomials\n",
    "from sympy.polys.orderings import monomial_key\n",
    "from sympy import symbols\n",
    "\n",
    "# Static settings & directory preparation\n",
    "RANDOM_SEED = 42\n",
    "np.random.seed(RANDOM_SEED)\n",
    "    \n",
    "gh.create_dir('./data')\n",
    "subdirectories = ['parameters', 'plotting', 'saved_polynomial_lists', 'results', 'saved_models', 'weights', 'weights_training']\n",
    "for dir_ in subdirectories:\n",
    "    gh.create_dir('./data/' + dir_)"
   ]
  },
  {
   "cell_type": "markdown",
   "metadata": {
    "ExecuteTime": {
     "end_time": "2020-09-16T12:26:49.061308Z",
     "start_time": "2020-09-16T12:26:49.055692Z"
    }
   },
   "source": [
    "## 1: Specification of Experiment Settings"
   ]
  },
  {
   "cell_type": "code",
   "execution_count": 2,
   "metadata": {},
   "outputs": [],
   "source": [
    "# parse settings from a configuration file ('config.ini')\n",
    "\n",
    "config_path = 'config.ini'\n",
    "\n",
    "try:\n",
    "    config = gh.parse_config(config_path)\n",
    "    locals().update(config)\n",
    "    \n",
    "except Exception as e:\n",
    "    print('Parsing not possible due to Exception:')\n",
    "    print(e)\n",
    "    print('\\nContinue with manual specification.')"
   ]
  },
  {
   "cell_type": "code",
   "execution_count": 3,
   "metadata": {
    "ExecuteTime": {
     "end_time": "2020-09-17T08:01:28.687997Z",
     "start_time": "2020-09-17T08:01:28.681692Z"
    }
   },
   "outputs": [],
   "source": [
    "# manual override of config and/or additional variable specification\n",
    "\n",
    "#d = 3  \n",
    "#n = 4\n",
    "#sparsity = 0.0\n",
    "#a_max = 10 \n",
    "#a_min = -10\n",
    "#a_step = 0.1\n",
    "#x_max = 1 \n",
    "#x_min = -1\n",
    "#x_step = 0.01\n",
    "#lambda_dataset_size = 100 \n",
    "#interpretation_dataset_size = 5000\n",
    "#same_training_all_polynomials = True\n",
    "\n",
    "#n_jobs = 10\n",
    "\n",
    "# ------------------------------------------------------------------"
   ]
  },
  {
   "cell_type": "code",
   "execution_count": 4,
   "metadata": {},
   "outputs": [],
   "source": [
    "##############DO NOT CHANGE###################\n",
    "\n",
    "# set derived attributes\n",
    "variables = 'abcdefghijklmnopqrstuvwxyz'[:n]\n",
    "if same_training_all_polynomials: training_string = '_same'\n",
    "else: training_string = '_diverse'"
   ]
  },
  {
   "cell_type": "code",
   "execution_count": 5,
   "metadata": {},
   "outputs": [
    {
     "name": "stdout",
     "output_type": "stream",
     "text": [
      "Variables: 4 (abcd)\n",
      "Degree: 3\n",
      "Sparsity: 0.0%\n",
      "Lambda-Net Dataset Size: 100\n",
      "I-Net Dataset Size: 5000\n",
      "Coefficient Range: [-10.0, 10.0]\n",
      "Variable Range: [-1.0, 1.0]\n"
     ]
    }
   ],
   "source": [
    "# inspect most important settings\n",
    "print('Variables: ' + str(n) + ' (' + variables + ')')\n",
    "print('Degree: ' + str(d))\n",
    "print('Sparsity: ' + str(sparsity*100) + '%') \n",
    "print('Lambda-Net Dataset Size: ' + str(lambda_dataset_size))\n",
    "print('I-Net Dataset Size: ' + str(interpretation_dataset_size))\n",
    "      \n",
    "print('Coefficient Range: ' + '[' + str(a_min) + ', ' + str(a_max) + ']')\n",
    "print('Variable Range: ' + '[' + str(x_min) + ', ' + str(x_max) + ']')"
   ]
  },
  {
   "cell_type": "markdown",
   "metadata": {
    "ExecuteTime": {
     "end_time": "2020-09-16T12:28:46.853042Z",
     "start_time": "2020-09-16T12:28:46.848346Z"
    }
   },
   "source": [
    "## 2: Generation of all possible Monomials"
   ]
  },
  {
   "cell_type": "code",
   "execution_count": 6,
   "metadata": {},
   "outputs": [
    {
     "name": "stdout",
     "output_type": "stream",
     "text": [
      "List length: 35\n",
      "Number of monomials in a polynomial with 4 variables and degree 3: 35\n",
      "[a**3, a**2*b, a**2*c, a**2*d, a**2, a*b**2, a*b*c, a*b*d, a*b, a*c**2, a*c*d, a*c, a*d**2, a*d, a, b**3, b**2*c, b**2*d, b**2, b*c**2, b*c*d, b*c, b*d**2, b*d, b, c**3, c**2*d, c**2, c*d**2, c*d, c, d**3, d**2, d, 1]\n",
      "[(3, 0, 0, 0), (2, 1, 0, 0), (2, 0, 1, 0), (2, 0, 0, 1), (2, 0, 0, 0), (1, 2, 0, 0), (1, 1, 1, 0), (1, 1, 0, 1), (1, 1, 0, 0), (1, 0, 2, 0), (1, 0, 1, 1), (1, 0, 1, 0), (1, 0, 0, 2), (1, 0, 0, 1), (1, 0, 0, 0), (0, 3, 0, 0), (0, 2, 1, 0), (0, 2, 0, 1), (0, 2, 0, 0), (0, 1, 2, 0), (0, 1, 1, 1), (0, 1, 1, 0), (0, 1, 0, 2), (0, 1, 0, 1), (0, 1, 0, 0), (0, 0, 3, 0), (0, 0, 2, 1), (0, 0, 2, 0), (0, 0, 1, 2), (0, 0, 1, 1), (0, 0, 1, 0), (0, 0, 0, 3), (0, 0, 0, 2), (0, 0, 0, 1), (0, 0, 0, 0)]\n"
     ]
    }
   ],
   "source": [
    "polys_symbols = symbols(list(variables))\n",
    "polys_monomials = sorted(monomials.itermonomials(variables = polys_symbols, max_degrees = d, min_degrees = None), \n",
    "                                      reverse = True, key = monomial_key('lex', polys_symbols))\n",
    "monomials_count = monomials.monomial_count(n, d)\n",
    "\n",
    "tuples_monomials = [ph.monomial_to_power_tuple(mon, polys_symbols) for mon in polys_monomials]\n",
    "\n",
    "print('List length: ' + str(len(polys_monomials)))\n",
    "print('Number of monomials in a polynomial with ' + str(n) + ' variables and degree ' + str(d) + ': ' + str(monomials_count))\n",
    "print(polys_monomials)\n",
    "print(tuples_monomials)"
   ]
  },
  {
   "cell_type": "markdown",
   "metadata": {},
   "source": [
    "## 3: Generation of randomly chosen Polynomials"
   ]
  },
  {
   "cell_type": "code",
   "execution_count": 7,
   "metadata": {
    "ExecuteTime": {
     "end_time": "2020-09-17T08:01:31.117580Z",
     "start_time": "2020-09-17T08:01:30.995485Z"
    }
   },
   "outputs": [],
   "source": [
    "all_coefficients = np.random.choice(np.arange(a_min, a_max + a_step, a_step), \n",
    "                                       size=(interpretation_dataset_size, monomials_count), replace=True)\n",
    "all_coefficients = np.round(all_coefficients, int(-np.log10(a_step)))\n",
    "    \n",
    "# Sparsity\n",
    "if sparsity > 0:\n",
    "    # add sparsity --> set random coefficients to 0 (#coefficients = #monomials - sparsity)\n",
    "    for coeffs in tqdm(all_coefficients):\n",
    "        sparsity_indices = np.random.choice(monomials_count + 1, floor(monomials_count * sparsity), replace=False)\n",
    "        for sparsity_index in sparsity_indices:                            \n",
    "            coeffs[sparsity_index] = 0"
   ]
  },
  {
   "cell_type": "markdown",
   "metadata": {},
   "source": [
    "### 3.1: Polynomials as 'sympy.polys.polytools.Poly' objects"
   ]
  },
  {
   "cell_type": "code",
   "execution_count": 8,
   "metadata": {},
   "outputs": [
    {
     "data": {
      "text/latex": [
       "$\\displaystyle \\operatorname{Poly}{\\left( 0.2 a^{3} + 7.9 a^{2}b - 0.8 a^{2}c - 8.6 a^{2}d + 0.6 a^{2} - 2.9 ab^{2} + 8.8 abc - 8.0 abd + 0.2 ab + 2.1 ac^{2} - 2.6 acd - 1.3 ac + 1.6 ad^{2} - 0.1 ad + 0.3 a + 5.1 b^{3} + 3.0 b^{2}c + 4.9 b^{2}d - 4.8 b^{2} - 9.9 bc^{2} - 1.3 bcd + 5.7 bc - 6.3 bd^{2} + 2.9 bd + 9.1 b + 8.7 c^{3} - 8.0 c^{2}d + 6.0 c^{2} - 4.3 cd^{2} - 7.9 cd - 1.2 c - 5.2 d^{3} - 4.2 d^{2} + 6.9 d + 8.7, a, b, c, d, domain=\\mathbb{R} \\right)}$"
      ],
      "text/plain": [
       "Poly(0.2*a**3 + 7.9*a**2*b - 0.8*a**2*c - 8.6*a**2*d + 0.6*a**2 - 2.9*a*b**2 + 8.8*a*b*c - 8.0*a*b*d + 0.2*a*b + 2.1*a*c**2 - 2.6*a*c*d - 1.3*a*c + 1.6*a*d**2 - 0.1*a*d + 0.3*a + 5.1*b**3 + 3.0*b**2*c + 4.9*b**2*d - 4.8*b**2 - 9.9*b*c**2 - 1.3*b*c*d + 5.7*b*c - 6.3*b*d**2 + 2.9*b*d + 9.1*b + 8.7*c**3 - 8.0*c**2*d + 6.0*c**2 - 4.3*c*d**2 - 7.9*c*d - 1.2*c - 5.2*d**3 - 4.2*d**2 + 6.9*d + 8.7, a, b, c, d, domain='RR')"
      ]
     },
     "execution_count": 8,
     "metadata": {},
     "output_type": "execute_result"
    }
   ],
   "source": [
    "polynomials_poly = [ph.build_Poly(coeffs, tuples_monomials, polys_symbols) for coeffs in all_coefficients]\n",
    "\n",
    "# inspection of first polynomial\n",
    "polynomials_poly [0]"
   ]
  },
  {
   "cell_type": "markdown",
   "metadata": {},
   "source": [
    "### 3.2: Polynomials as coefficient rows and monomials in dataframe"
   ]
  },
  {
   "cell_type": "code",
   "execution_count": 9,
   "metadata": {
    "ExecuteTime": {
     "end_time": "2020-09-17T08:01:31.403306Z",
     "start_time": "2020-09-17T08:01:31.120230Z"
    }
   },
   "outputs": [
    {
     "name": "stdout",
     "output_type": "stream",
     "text": [
      "35\n",
      "(5000, 35)\n"
     ]
    },
    {
     "data": {
      "text/html": [
       "<div>\n",
       "<style scoped>\n",
       "    .dataframe tbody tr th:only-of-type {\n",
       "        vertical-align: middle;\n",
       "    }\n",
       "\n",
       "    .dataframe tbody tr th {\n",
       "        vertical-align: top;\n",
       "    }\n",
       "\n",
       "    .dataframe thead th {\n",
       "        text-align: right;\n",
       "    }\n",
       "</style>\n",
       "<table border=\"1\" class=\"dataframe\">\n",
       "  <thead>\n",
       "    <tr style=\"text-align: right;\">\n",
       "      <th></th>\n",
       "      <th>a**3</th>\n",
       "      <th>a**2*b</th>\n",
       "      <th>a**2*c</th>\n",
       "      <th>a**2*d</th>\n",
       "      <th>a**2</th>\n",
       "      <th>a*b**2</th>\n",
       "      <th>a*b*c</th>\n",
       "      <th>a*b*d</th>\n",
       "      <th>a*b</th>\n",
       "      <th>a*c**2</th>\n",
       "      <th>...</th>\n",
       "      <th>c**3</th>\n",
       "      <th>c**2*d</th>\n",
       "      <th>c**2</th>\n",
       "      <th>c*d**2</th>\n",
       "      <th>c*d</th>\n",
       "      <th>c</th>\n",
       "      <th>d**3</th>\n",
       "      <th>d**2</th>\n",
       "      <th>d</th>\n",
       "      <th>1</th>\n",
       "    </tr>\n",
       "  </thead>\n",
       "  <tbody>\n",
       "    <tr>\n",
       "      <th>0</th>\n",
       "      <td>0.2</td>\n",
       "      <td>7.9</td>\n",
       "      <td>-0.8</td>\n",
       "      <td>-8.6</td>\n",
       "      <td>0.6</td>\n",
       "      <td>-2.9</td>\n",
       "      <td>8.8</td>\n",
       "      <td>-8.0</td>\n",
       "      <td>0.2</td>\n",
       "      <td>2.1</td>\n",
       "      <td>...</td>\n",
       "      <td>8.7</td>\n",
       "      <td>-8.0</td>\n",
       "      <td>6.0</td>\n",
       "      <td>-4.3</td>\n",
       "      <td>-7.9</td>\n",
       "      <td>-1.2</td>\n",
       "      <td>-5.2</td>\n",
       "      <td>-4.2</td>\n",
       "      <td>6.9</td>\n",
       "      <td>8.7</td>\n",
       "    </tr>\n",
       "    <tr>\n",
       "      <th>1</th>\n",
       "      <td>-8.6</td>\n",
       "      <td>8.9</td>\n",
       "      <td>8.9</td>\n",
       "      <td>7.4</td>\n",
       "      <td>8.9</td>\n",
       "      <td>-5.0</td>\n",
       "      <td>0.7</td>\n",
       "      <td>-4.6</td>\n",
       "      <td>-3.7</td>\n",
       "      <td>3.0</td>\n",
       "      <td>...</td>\n",
       "      <td>-0.9</td>\n",
       "      <td>1.0</td>\n",
       "      <td>8.7</td>\n",
       "      <td>9.8</td>\n",
       "      <td>7.1</td>\n",
       "      <td>-9.3</td>\n",
       "      <td>7.4</td>\n",
       "      <td>-6.6</td>\n",
       "      <td>-2.0</td>\n",
       "      <td>6.3</td>\n",
       "    </tr>\n",
       "    <tr>\n",
       "      <th>2</th>\n",
       "      <td>-5.1</td>\n",
       "      <td>0.3</td>\n",
       "      <td>3.1</td>\n",
       "      <td>-9.9</td>\n",
       "      <td>3.3</td>\n",
       "      <td>-4.7</td>\n",
       "      <td>0.5</td>\n",
       "      <td>-9.7</td>\n",
       "      <td>-4.7</td>\n",
       "      <td>9.0</td>\n",
       "      <td>...</td>\n",
       "      <td>5.3</td>\n",
       "      <td>8.7</td>\n",
       "      <td>2.3</td>\n",
       "      <td>-6.0</td>\n",
       "      <td>5.6</td>\n",
       "      <td>-8.6</td>\n",
       "      <td>-5.6</td>\n",
       "      <td>-3.6</td>\n",
       "      <td>-1.2</td>\n",
       "      <td>-3.0</td>\n",
       "    </tr>\n",
       "    <tr>\n",
       "      <th>3</th>\n",
       "      <td>-9.2</td>\n",
       "      <td>-1.3</td>\n",
       "      <td>2.8</td>\n",
       "      <td>3.5</td>\n",
       "      <td>-3.8</td>\n",
       "      <td>3.8</td>\n",
       "      <td>-2.0</td>\n",
       "      <td>3.5</td>\n",
       "      <td>6.2</td>\n",
       "      <td>6.2</td>\n",
       "      <td>...</td>\n",
       "      <td>-0.2</td>\n",
       "      <td>7.1</td>\n",
       "      <td>0.3</td>\n",
       "      <td>-6.6</td>\n",
       "      <td>9.2</td>\n",
       "      <td>-0.0</td>\n",
       "      <td>7.4</td>\n",
       "      <td>3.0</td>\n",
       "      <td>-10.0</td>\n",
       "      <td>-9.6</td>\n",
       "    </tr>\n",
       "    <tr>\n",
       "      <th>4</th>\n",
       "      <td>4.1</td>\n",
       "      <td>0.2</td>\n",
       "      <td>-7.4</td>\n",
       "      <td>3.6</td>\n",
       "      <td>-8.6</td>\n",
       "      <td>-1.1</td>\n",
       "      <td>-5.9</td>\n",
       "      <td>2.3</td>\n",
       "      <td>7.8</td>\n",
       "      <td>-3.8</td>\n",
       "      <td>...</td>\n",
       "      <td>-3.5</td>\n",
       "      <td>6.9</td>\n",
       "      <td>-5.6</td>\n",
       "      <td>-3.9</td>\n",
       "      <td>8.4</td>\n",
       "      <td>3.3</td>\n",
       "      <td>-7.3</td>\n",
       "      <td>-7.3</td>\n",
       "      <td>0.7</td>\n",
       "      <td>-5.7</td>\n",
       "    </tr>\n",
       "  </tbody>\n",
       "</table>\n",
       "<p>5 rows × 35 columns</p>\n",
       "</div>"
      ],
      "text/plain": [
       "   a**3  a**2*b  a**2*c  a**2*d  a**2  a*b**2  a*b*c  a*b*d  a*b  a*c**2  ...  \\\n",
       "0   0.2     7.9    -0.8    -8.6   0.6    -2.9    8.8   -8.0  0.2     2.1  ...   \n",
       "1  -8.6     8.9     8.9     7.4   8.9    -5.0    0.7   -4.6 -3.7     3.0  ...   \n",
       "2  -5.1     0.3     3.1    -9.9   3.3    -4.7    0.5   -9.7 -4.7     9.0  ...   \n",
       "3  -9.2    -1.3     2.8     3.5  -3.8     3.8   -2.0    3.5  6.2     6.2  ...   \n",
       "4   4.1     0.2    -7.4     3.6  -8.6    -1.1   -5.9    2.3  7.8    -3.8  ...   \n",
       "\n",
       "   c**3  c**2*d  c**2  c*d**2  c*d    c  d**3  d**2     d    1  \n",
       "0   8.7    -8.0   6.0    -4.3 -7.9 -1.2  -5.2  -4.2   6.9  8.7  \n",
       "1  -0.9     1.0   8.7     9.8  7.1 -9.3   7.4  -6.6  -2.0  6.3  \n",
       "2   5.3     8.7   2.3    -6.0  5.6 -8.6  -5.6  -3.6  -1.2 -3.0  \n",
       "3  -0.2     7.1   0.3    -6.6  9.2 -0.0   7.4   3.0 -10.0 -9.6  \n",
       "4  -3.5     6.9  -5.6    -3.9  8.4  3.3  -7.3  -7.3   0.7 -5.7  \n",
       "\n",
       "[5 rows x 35 columns]"
      ]
     },
     "execution_count": 9,
     "metadata": {},
     "output_type": "execute_result"
    }
   ],
   "source": [
    "polynomials_df = pd.DataFrame(data=all_coefficients, columns=polys_monomials)\n",
    "\n",
    "# data inspection\n",
    "print(len(polys_monomials))\n",
    "print(polynomials_df.shape)\n",
    "polynomials_df.head()"
   ]
  },
  {
   "cell_type": "markdown",
   "metadata": {},
   "source": [
    "## 4: Precompute Polynomials with Input Values"
   ]
  },
  {
   "cell_type": "code",
   "execution_count": 10,
   "metadata": {
    "ExecuteTime": {
     "end_time": "2020-09-17T08:01:37.188767Z",
     "start_time": "2020-09-17T08:01:31.406087Z"
    }
   },
   "outputs": [
    {
     "name": "stdout",
     "output_type": "stream",
     "text": [
      "Number of points: 100\n",
      "Number of values per point: 4\n"
     ]
    },
    {
     "data": {
      "text/plain": [
       "array([[-0.39,  0.98,  0.6 , -0.97],\n",
       "       [ 0.35,  0.14,  0.61, -0.27],\n",
       "       [-0.65,  0.56, -0.33, -0.66],\n",
       "       [-0.73, -0.79, -0.43,  0.16],\n",
       "       [-0.5 , -0.75,  0.33, -0.77],\n",
       "       [-0.33, -0.55,  0.98,  0.34],\n",
       "       [-0.64, -0.33,  0.23,  0.5 ],\n",
       "       [ 0.59, -0.47,  0.82, -0.16],\n",
       "       [ 0.38, -0.21, -0.61,  0.48],\n",
       "       [ 0.96, -0.54,  0.22,  0.26]])"
      ]
     },
     "execution_count": 10,
     "metadata": {},
     "output_type": "execute_result"
    }
   ],
   "source": [
    "# create input values\n",
    "\n",
    "if same_training_all_polynomials:\n",
    "        \n",
    "    x_values = np.random.choice(np.arange(x_min, x_max + x_step, x_step), \n",
    "                                size=(lambda_dataset_size, n), replace=True)\n",
    "    x_values = np.round(x_values, int(-np.log10(x_step)))\n",
    "\n",
    "# inspection\n",
    "print('Number of points: ' + str(len(x_values)))\n",
    "print('Number of values per point: ' + str(len(x_values[0])))\n",
    "x_values[0:10]"
   ]
  },
  {
   "cell_type": "code",
   "execution_count": 11,
   "metadata": {
    "ExecuteTime": {
     "end_time": "2020-09-17T08:02:02.082116Z",
     "start_time": "2020-09-17T08:01:37.469989Z"
    }
   },
   "outputs": [
    {
     "data": {
      "application/vnd.jupyter.widget-view+json": {
       "model_id": "f0b855b8097243819b58e8a2a756ba77",
       "version_major": 2,
       "version_minor": 0
      },
      "text/plain": [
       "HBox(children=(FloatProgress(value=0.0, max=5000.0), HTML(value='')))"
      ]
     },
     "metadata": {},
     "output_type": "display_data"
    },
    {
     "name": "stdout",
     "output_type": "stream",
     "text": [
      "\n"
     ]
    }
   ],
   "source": [
    "# compute function values in parallel\n",
    "\n",
    "def compute_poly(poly, x_values):\n",
    "    y_values = np.array([float(poly.eval(tuple(x))) for x in x_values])\n",
    "    return x_values, y_values\n",
    "    \n",
    "parallel = Parallel(n_jobs=n_jobs, backend='loky')    \n",
    "result_parallel = parallel(delayed(compute_poly)(poly, x_values) for poly in tqdm(polynomials_poly))\n",
    "\n",
    "# dimension: [Polynomial: [x:[4], y]]\n",
    "x_y_data = result_parallel\n",
    "\n",
    "x_data = [poly[0] for poly in x_y_data]\n",
    "y_data = [poly[1] for poly in x_y_data]\n",
    "\n",
    "del parallel, result_parallel"
   ]
  },
  {
   "cell_type": "code",
   "execution_count": 12,
   "metadata": {
    "ExecuteTime": {
     "end_time": "2020-09-17T08:02:02.096210Z",
     "start_time": "2020-09-17T08:02:02.086216Z"
    },
    "collapsed": true
   },
   "outputs": [
    {
     "name": "stdout",
     "output_type": "stream",
     "text": [
      "2\n",
      "100\n",
      "100\n"
     ]
    },
    {
     "data": {
      "text/plain": [
       "(array([[-0.39,  0.98,  0.6 , -0.97],\n",
       "        [ 0.35,  0.14,  0.61, -0.27],\n",
       "        [-0.65,  0.56, -0.33, -0.66],\n",
       "        [-0.73, -0.79, -0.43,  0.16],\n",
       "        [-0.5 , -0.75,  0.33, -0.77],\n",
       "        [-0.33, -0.55,  0.98,  0.34],\n",
       "        [-0.64, -0.33,  0.23,  0.5 ],\n",
       "        [ 0.59, -0.47,  0.82, -0.16],\n",
       "        [ 0.38, -0.21, -0.61,  0.48],\n",
       "        [ 0.96, -0.54,  0.22,  0.26],\n",
       "        [ 0.17, -0.66,  0.74, -0.53],\n",
       "        [-0.75, -0.72,  0.86, -0.86],\n",
       "        [ 0.98, -0.2 ,  0.  ,  0.35],\n",
       "        [-0.6 ,  0.28,  0.59, -0.98],\n",
       "        [ 0.6 , -0.21, -0.73,  0.88],\n",
       "        [ 0.84, -0.43, -0.77,  0.22],\n",
       "        [-0.01, -0.03, -0.27, -0.51],\n",
       "        [ 0.53,  0.76,  0.99, -0.89],\n",
       "        [ 0.69,  0.28,  0.7 , -0.54],\n",
       "        [ 0.88,  0.54, -0.19, -0.37],\n",
       "        [ 0.77,  0.77, -0.25,  0.69],\n",
       "        [ 0.7 ,  0.16,  0.08,  0.76],\n",
       "        [-0.21,  0.3 ,  0.9 , -0.89],\n",
       "        [-0.92,  0.76,  0.21,  0.16],\n",
       "        [ 0.8 , -0.55, -0.38, -0.89],\n",
       "        [ 0.91, -0.15,  0.67,  0.04],\n",
       "        [-0.78, -0.2 ,  0.43, -0.18],\n",
       "        [-0.23,  0.52,  0.69,  0.15],\n",
       "        [-0.32, -0.38,  0.29,  0.17],\n",
       "        [-0.49,  0.53, -0.69,  0.75],\n",
       "        [ 0.34,  0.11,  0.24,  0.47],\n",
       "        [ 0.3 ,  0.02, -0.32, -0.16],\n",
       "        [ 0.31,  0.38, -0.8 ,  0.7 ],\n",
       "        [-0.91,  0.06, -0.18, -0.62],\n",
       "        [ 0.52,  0.12, -0.08, -0.37],\n",
       "        [ 0.34,  0.25,  0.61, -0.45],\n",
       "        [-0.33,  0.8 ,  0.47,  0.19],\n",
       "        [ 0.16,  0.22,  0.42, -0.55],\n",
       "        [ 0.14, -0.13,  0.64, -0.52],\n",
       "        [ 0.27,  0.37, -0.6 ,  0.32],\n",
       "        [ 0.81,  0.77,  0.69, -0.91],\n",
       "        [ 0.15,  0.29,  0.8 , -0.19],\n",
       "        [ 0.9 , -0.19,  0.49,  0.26],\n",
       "        [-0.73,  0.78,  0.74,  0.31],\n",
       "        [-0.17,  0.01, -0.1 ,  0.23],\n",
       "        [ 0.28, -0.24,  0.81, -0.78],\n",
       "        [ 0.63,  0.62, -0.3 ,  0.82],\n",
       "        [-0.61,  0.76,  0.88,  0.15],\n",
       "        [-0.27, -0.82, -0.55, -0.33],\n",
       "        [-0.4 , -0.31,  0.84, -0.87],\n",
       "        [ 0.03, -0.7 ,  0.08, -0.49],\n",
       "        [-0.86, -0.4 , -0.83, -0.79],\n",
       "        [ 0.16, -0.33, -0.8 ,  0.2 ],\n",
       "        [-0.9 ,  0.04,  0.84, -0.87],\n",
       "        [-0.89, -0.18,  0.39, -0.93],\n",
       "        [ 0.29, -0.04,  0.27, -0.73],\n",
       "        [-0.11, -0.05, -0.53,  0.49],\n",
       "        [ 0.4 ,  0.95,  0.32, -0.93],\n",
       "        [-0.61, -0.74, -0.17,  0.83],\n",
       "        [-0.15, -0.05,  0.46, -0.61],\n",
       "        [ 0.63, -0.37,  0.57, -0.08],\n",
       "        [ 0.01,  0.2 ,  0.31,  0.21],\n",
       "        [-0.73,  0.4 , -0.81,  0.65],\n",
       "        [ 0.51,  0.61,  0.38,  0.94],\n",
       "        [ 0.02, -0.47, -0.6 , -0.35],\n",
       "        [-0.42,  0.09, -0.33,  0.85],\n",
       "        [-0.88,  0.52, -0.72,  0.97],\n",
       "        [-0.56,  0.98,  0.92, -0.46],\n",
       "        [-0.41, -0.39,  0.44, -0.05],\n",
       "        [-0.99,  0.89, -0.54, -0.78],\n",
       "        [-0.63,  0.91, -0.14, -0.91],\n",
       "        [ 0.55,  0.3 , -0.07,  0.63],\n",
       "        [-0.64,  0.06,  0.15, -0.2 ],\n",
       "        [-0.19, -0.14,  0.16, -0.34],\n",
       "        [-0.61, -0.59, -0.39,  0.73],\n",
       "        [ 0.97,  0.79, -0.41, -0.36],\n",
       "        [ 0.77,  0.14, -0.77,  0.15],\n",
       "        [ 0.95,  0.96,  0.09, -0.95],\n",
       "        [-0.5 , -0.99,  1.  ,  0.87],\n",
       "        [-0.77, -0.69, -0.47, -0.41],\n",
       "        [ 0.7 ,  0.31,  0.81, -0.04],\n",
       "        [-0.62, -0.99, -0.24,  0.23],\n",
       "        [-0.35, -0.9 , -0.82, -0.39],\n",
       "        [-0.18,  0.99,  0.76,  0.85],\n",
       "        [ 0.85,  0.  ,  0.4 , -0.41],\n",
       "        [-0.64,  0.18,  0.18,  0.19],\n",
       "        [ 0.61,  0.13,  0.37,  0.68],\n",
       "        [ 0.92, -0.86, -1.  , -0.4 ],\n",
       "        [ 0.7 ,  0.03, -0.35, -0.04],\n",
       "        [-0.31, -0.07, -0.75, -0.16],\n",
       "        [ 0.19,  0.25,  0.37, -0.34],\n",
       "        [-0.82,  0.53,  0.19,  0.7 ],\n",
       "        [ 0.58,  0.99,  0.49,  0.92],\n",
       "        [-0.6 ,  0.19, -0.3 ,  0.28],\n",
       "        [ 0.92, -0.44,  0.6 ,  0.71],\n",
       "        [-0.53,  0.28, -0.07,  0.01],\n",
       "        [-0.84, -0.18,  0.72, -0.26],\n",
       "        [-0.56, -0.03, -0.05,  0.82],\n",
       "        [ 0.79,  0.24,  0.32, -0.74],\n",
       "        [ 0.02,  0.7 , -0.19,  0.07]]),\n",
       " array([ 6.54669640e+00,  1.41552117e+01,  6.23861060e+00, -5.15635380e+00,\n",
       "        -3.08100100e-01,  1.42110167e+01,  2.70513670e+00,  9.84773650e+00,\n",
       "         1.33632263e+01, -3.70528080e+00,  6.87992220e+00,  2.14311290e+01,\n",
       "         5.54864240e+00,  1.02749953e+01,  1.44934895e+01,  1.20238791e+01,\n",
       "         4.75834720e+00,  3.60919691e+01,  2.16437686e+01,  1.46957146e+01,\n",
       "         1.40337630e+01,  7.48636000e+00,  2.01434354e+01,  2.24756171e+01,\n",
       "         2.41455830e+00,  1.01207996e+01,  8.08539430e+00,  1.73275651e+01,\n",
       "         4.84143540e+00,  1.38312942e+01,  1.00359621e+01,  8.56234640e+00,\n",
       "         1.12321440e+01,  8.34499840e+00,  8.26664000e+00,  1.49745371e+01,\n",
       "         1.96612157e+01,  9.59123960e+00,  1.15108923e+01,  1.26079121e+01,\n",
       "         3.18877648e+01,  1.90505869e+01,  5.10194450e+00,  2.13153018e+01,\n",
       "         1.03172595e+01,  1.72387127e+01,  1.20904572e+01,  2.27792788e+01,\n",
       "        -2.81260450e+00,  1.94617989e+01, -4.78808120e+00,  8.18009060e+00,\n",
       "         1.09686977e+01,  2.13805084e+01,  1.05591725e+01,  5.78233630e+00,\n",
       "         1.24230728e+01,  1.05239151e+01, -5.35326470e+00,  7.82904110e+00,\n",
       "         5.36077680e+00,  1.16056111e+01,  1.10576213e+01,  5.90798950e+00,\n",
       "         4.30577390e+00,  1.01469917e+01,  1.03934912e+01,  2.32130840e+01,\n",
       "         5.76504910e+00,  1.00388477e+01,  1.77462770e+00,  1.18731869e+01,\n",
       "         8.67202630e+00,  5.33358640e+00,  1.90484000e-02,  1.51137254e+01,\n",
       "         1.22259315e+01,  2.23759945e+01, -9.81523900e-01, -1.58544940e+00,\n",
       "         2.19632117e+01, -1.04784587e+01, -2.37638020e+00,  1.51437751e+01,\n",
       "         1.16886032e+01,  1.12661008e+01,  6.53930540e+00,  5.78871760e+00,\n",
       "         1.07143337e+01,  7.43502100e+00,  1.04659886e+01,  1.40128355e+01,\n",
       "         1.14581501e+01,  1.24236489e+01, -5.69502280e+00,  1.17706597e+01,\n",
       "         1.40667416e+01,  5.92563110e+00,  1.47358690e+01,  1.43733816e+01]))"
      ]
     },
     "execution_count": 12,
     "metadata": {},
     "output_type": "execute_result"
    }
   ],
   "source": [
    "# inspect first polynomial of x_y_data\n",
    "print(len(x_y_data[0]))\n",
    "print(len(x_y_data[0][0]))\n",
    "print(len(x_y_data[0][1]))\n",
    "x_y_data[0]"
   ]
  },
  {
   "cell_type": "code",
   "execution_count": 13,
   "metadata": {
    "ExecuteTime": {
     "end_time": "2020-09-17T08:02:02.116275Z",
     "start_time": "2020-09-17T08:02:02.098179Z"
    },
    "collapsed": true
   },
   "outputs": [
    {
     "name": "stdout",
     "output_type": "stream",
     "text": [
      "100\n"
     ]
    },
    {
     "data": {
      "text/plain": [
       "array([[-0.39,  0.98,  0.6 , -0.97],\n",
       "       [ 0.35,  0.14,  0.61, -0.27],\n",
       "       [-0.65,  0.56, -0.33, -0.66],\n",
       "       [-0.73, -0.79, -0.43,  0.16],\n",
       "       [-0.5 , -0.75,  0.33, -0.77],\n",
       "       [-0.33, -0.55,  0.98,  0.34],\n",
       "       [-0.64, -0.33,  0.23,  0.5 ],\n",
       "       [ 0.59, -0.47,  0.82, -0.16],\n",
       "       [ 0.38, -0.21, -0.61,  0.48],\n",
       "       [ 0.96, -0.54,  0.22,  0.26],\n",
       "       [ 0.17, -0.66,  0.74, -0.53],\n",
       "       [-0.75, -0.72,  0.86, -0.86],\n",
       "       [ 0.98, -0.2 ,  0.  ,  0.35],\n",
       "       [-0.6 ,  0.28,  0.59, -0.98],\n",
       "       [ 0.6 , -0.21, -0.73,  0.88],\n",
       "       [ 0.84, -0.43, -0.77,  0.22],\n",
       "       [-0.01, -0.03, -0.27, -0.51],\n",
       "       [ 0.53,  0.76,  0.99, -0.89],\n",
       "       [ 0.69,  0.28,  0.7 , -0.54],\n",
       "       [ 0.88,  0.54, -0.19, -0.37],\n",
       "       [ 0.77,  0.77, -0.25,  0.69],\n",
       "       [ 0.7 ,  0.16,  0.08,  0.76],\n",
       "       [-0.21,  0.3 ,  0.9 , -0.89],\n",
       "       [-0.92,  0.76,  0.21,  0.16],\n",
       "       [ 0.8 , -0.55, -0.38, -0.89],\n",
       "       [ 0.91, -0.15,  0.67,  0.04],\n",
       "       [-0.78, -0.2 ,  0.43, -0.18],\n",
       "       [-0.23,  0.52,  0.69,  0.15],\n",
       "       [-0.32, -0.38,  0.29,  0.17],\n",
       "       [-0.49,  0.53, -0.69,  0.75],\n",
       "       [ 0.34,  0.11,  0.24,  0.47],\n",
       "       [ 0.3 ,  0.02, -0.32, -0.16],\n",
       "       [ 0.31,  0.38, -0.8 ,  0.7 ],\n",
       "       [-0.91,  0.06, -0.18, -0.62],\n",
       "       [ 0.52,  0.12, -0.08, -0.37],\n",
       "       [ 0.34,  0.25,  0.61, -0.45],\n",
       "       [-0.33,  0.8 ,  0.47,  0.19],\n",
       "       [ 0.16,  0.22,  0.42, -0.55],\n",
       "       [ 0.14, -0.13,  0.64, -0.52],\n",
       "       [ 0.27,  0.37, -0.6 ,  0.32],\n",
       "       [ 0.81,  0.77,  0.69, -0.91],\n",
       "       [ 0.15,  0.29,  0.8 , -0.19],\n",
       "       [ 0.9 , -0.19,  0.49,  0.26],\n",
       "       [-0.73,  0.78,  0.74,  0.31],\n",
       "       [-0.17,  0.01, -0.1 ,  0.23],\n",
       "       [ 0.28, -0.24,  0.81, -0.78],\n",
       "       [ 0.63,  0.62, -0.3 ,  0.82],\n",
       "       [-0.61,  0.76,  0.88,  0.15],\n",
       "       [-0.27, -0.82, -0.55, -0.33],\n",
       "       [-0.4 , -0.31,  0.84, -0.87],\n",
       "       [ 0.03, -0.7 ,  0.08, -0.49],\n",
       "       [-0.86, -0.4 , -0.83, -0.79],\n",
       "       [ 0.16, -0.33, -0.8 ,  0.2 ],\n",
       "       [-0.9 ,  0.04,  0.84, -0.87],\n",
       "       [-0.89, -0.18,  0.39, -0.93],\n",
       "       [ 0.29, -0.04,  0.27, -0.73],\n",
       "       [-0.11, -0.05, -0.53,  0.49],\n",
       "       [ 0.4 ,  0.95,  0.32, -0.93],\n",
       "       [-0.61, -0.74, -0.17,  0.83],\n",
       "       [-0.15, -0.05,  0.46, -0.61],\n",
       "       [ 0.63, -0.37,  0.57, -0.08],\n",
       "       [ 0.01,  0.2 ,  0.31,  0.21],\n",
       "       [-0.73,  0.4 , -0.81,  0.65],\n",
       "       [ 0.51,  0.61,  0.38,  0.94],\n",
       "       [ 0.02, -0.47, -0.6 , -0.35],\n",
       "       [-0.42,  0.09, -0.33,  0.85],\n",
       "       [-0.88,  0.52, -0.72,  0.97],\n",
       "       [-0.56,  0.98,  0.92, -0.46],\n",
       "       [-0.41, -0.39,  0.44, -0.05],\n",
       "       [-0.99,  0.89, -0.54, -0.78],\n",
       "       [-0.63,  0.91, -0.14, -0.91],\n",
       "       [ 0.55,  0.3 , -0.07,  0.63],\n",
       "       [-0.64,  0.06,  0.15, -0.2 ],\n",
       "       [-0.19, -0.14,  0.16, -0.34],\n",
       "       [-0.61, -0.59, -0.39,  0.73],\n",
       "       [ 0.97,  0.79, -0.41, -0.36],\n",
       "       [ 0.77,  0.14, -0.77,  0.15],\n",
       "       [ 0.95,  0.96,  0.09, -0.95],\n",
       "       [-0.5 , -0.99,  1.  ,  0.87],\n",
       "       [-0.77, -0.69, -0.47, -0.41],\n",
       "       [ 0.7 ,  0.31,  0.81, -0.04],\n",
       "       [-0.62, -0.99, -0.24,  0.23],\n",
       "       [-0.35, -0.9 , -0.82, -0.39],\n",
       "       [-0.18,  0.99,  0.76,  0.85],\n",
       "       [ 0.85,  0.  ,  0.4 , -0.41],\n",
       "       [-0.64,  0.18,  0.18,  0.19],\n",
       "       [ 0.61,  0.13,  0.37,  0.68],\n",
       "       [ 0.92, -0.86, -1.  , -0.4 ],\n",
       "       [ 0.7 ,  0.03, -0.35, -0.04],\n",
       "       [-0.31, -0.07, -0.75, -0.16],\n",
       "       [ 0.19,  0.25,  0.37, -0.34],\n",
       "       [-0.82,  0.53,  0.19,  0.7 ],\n",
       "       [ 0.58,  0.99,  0.49,  0.92],\n",
       "       [-0.6 ,  0.19, -0.3 ,  0.28],\n",
       "       [ 0.92, -0.44,  0.6 ,  0.71],\n",
       "       [-0.53,  0.28, -0.07,  0.01],\n",
       "       [-0.84, -0.18,  0.72, -0.26],\n",
       "       [-0.56, -0.03, -0.05,  0.82],\n",
       "       [ 0.79,  0.24,  0.32, -0.74],\n",
       "       [ 0.02,  0.7 , -0.19,  0.07]])"
      ]
     },
     "execution_count": 13,
     "metadata": {},
     "output_type": "execute_result"
    }
   ],
   "source": [
    "# inspect first polynomial of x_data\n",
    "print(len(x_data[0]))\n",
    "x_data[0]"
   ]
  },
  {
   "cell_type": "code",
   "execution_count": 14,
   "metadata": {
    "ExecuteTime": {
     "end_time": "2020-09-17T08:02:02.124301Z",
     "start_time": "2020-09-17T08:02:02.118441Z"
    },
    "collapsed": true
   },
   "outputs": [
    {
     "name": "stdout",
     "output_type": "stream",
     "text": [
      "100\n"
     ]
    },
    {
     "data": {
      "text/plain": [
       "array([ 6.54669640e+00,  1.41552117e+01,  6.23861060e+00, -5.15635380e+00,\n",
       "       -3.08100100e-01,  1.42110167e+01,  2.70513670e+00,  9.84773650e+00,\n",
       "        1.33632263e+01, -3.70528080e+00,  6.87992220e+00,  2.14311290e+01,\n",
       "        5.54864240e+00,  1.02749953e+01,  1.44934895e+01,  1.20238791e+01,\n",
       "        4.75834720e+00,  3.60919691e+01,  2.16437686e+01,  1.46957146e+01,\n",
       "        1.40337630e+01,  7.48636000e+00,  2.01434354e+01,  2.24756171e+01,\n",
       "        2.41455830e+00,  1.01207996e+01,  8.08539430e+00,  1.73275651e+01,\n",
       "        4.84143540e+00,  1.38312942e+01,  1.00359621e+01,  8.56234640e+00,\n",
       "        1.12321440e+01,  8.34499840e+00,  8.26664000e+00,  1.49745371e+01,\n",
       "        1.96612157e+01,  9.59123960e+00,  1.15108923e+01,  1.26079121e+01,\n",
       "        3.18877648e+01,  1.90505869e+01,  5.10194450e+00,  2.13153018e+01,\n",
       "        1.03172595e+01,  1.72387127e+01,  1.20904572e+01,  2.27792788e+01,\n",
       "       -2.81260450e+00,  1.94617989e+01, -4.78808120e+00,  8.18009060e+00,\n",
       "        1.09686977e+01,  2.13805084e+01,  1.05591725e+01,  5.78233630e+00,\n",
       "        1.24230728e+01,  1.05239151e+01, -5.35326470e+00,  7.82904110e+00,\n",
       "        5.36077680e+00,  1.16056111e+01,  1.10576213e+01,  5.90798950e+00,\n",
       "        4.30577390e+00,  1.01469917e+01,  1.03934912e+01,  2.32130840e+01,\n",
       "        5.76504910e+00,  1.00388477e+01,  1.77462770e+00,  1.18731869e+01,\n",
       "        8.67202630e+00,  5.33358640e+00,  1.90484000e-02,  1.51137254e+01,\n",
       "        1.22259315e+01,  2.23759945e+01, -9.81523900e-01, -1.58544940e+00,\n",
       "        2.19632117e+01, -1.04784587e+01, -2.37638020e+00,  1.51437751e+01,\n",
       "        1.16886032e+01,  1.12661008e+01,  6.53930540e+00,  5.78871760e+00,\n",
       "        1.07143337e+01,  7.43502100e+00,  1.04659886e+01,  1.40128355e+01,\n",
       "        1.14581501e+01,  1.24236489e+01, -5.69502280e+00,  1.17706597e+01,\n",
       "        1.40667416e+01,  5.92563110e+00,  1.47358690e+01,  1.43733816e+01])"
      ]
     },
     "execution_count": 14,
     "metadata": {},
     "output_type": "execute_result"
    }
   ],
   "source": [
    "# inspect first polynomial of y_data\n",
    "print(len(y_data[0]))\n",
    "y_data[0]"
   ]
  },
  {
   "cell_type": "markdown",
   "metadata": {},
   "source": [
    "## 5: Data Export"
   ]
  },
  {
   "cell_type": "code",
   "execution_count": 15,
   "metadata": {
    "ExecuteTime": {
     "end_time": "2020-09-17T08:02:02.637879Z",
     "start_time": "2020-09-17T08:02:02.146717Z"
    }
   },
   "outputs": [],
   "source": [
    "# Csv exports\n",
    "path_polynomials_df = './data/saved_polynomial_lists/polynomials_df' + str(interpretation_dataset_size) + '_variables_' + str(n) +  '_degree_' + str(d) + '_sparsity_' + str(sparsity) + '_astep_' + str(a_step)  + '_amin_' + str(a_min) + '_amax_' + str(a_max) + '.csv'\n",
    "gh.export_csv(polynomials_df, path_polynomials_df)\n",
    "\n",
    "\n",
    "# Pickle exports\n",
    "path_polynomials_poly = './data/saved_polynomial_lists/polynomials_poly' + str(interpretation_dataset_size) + '_train_' + str(lambda_dataset_size) + '_variables_' + str(n) + '_degree_' + str(d) + '_sparsity_' + str(sparsity) + '_astep_' + str(a_step) + '_amin_' + str(a_min) + '_amax_' + str(a_max) + '_xstep_' + str(x_step) + '_xmin_' + str(x_min) + '_xmax_' + str(x_max) + training_string + '.pkl'\n",
    "gh.export_pickle(polynomials_poly, path_polynomials_poly)\n",
    "\n",
    "path_x_data = './data/saved_polynomial_lists/x_data' + str(interpretation_dataset_size) + '_train_' + str(lambda_dataset_size) + '_variables_' + str(n) + '_degree_' + str(d) + '_sparsity_' + str(sparsity) + '_astep_' + str(a_step) + '_amin_' + str(a_min) + '_amax_' + str(a_max) + '_xstep_' + str(x_step) + '_xmin_' + str(x_min) + '_xmax_' + str(x_max) + training_string + '.pkl'\n",
    "gh.export_pickle(x_data, path_x_data)\n",
    "\n",
    "path_y_data = './data/saved_polynomial_lists/y_data' + str(interpretation_dataset_size) + '_train_' + str(lambda_dataset_size) + '_variables_' + str(n) + '_degree_' + str(d) + '_sparsity_' + str(sparsity) + '_astep_' + str(a_step) + '_amin_' + str(a_min) + '_amax_' + str(a_max) + '_xstep_' + str(x_step) + '_xmin_' + str(x_min) + '_xmax_' + str(x_max) + training_string + '.pkl'\n",
    "gh.export_pickle(y_data, path_y_data)\n"
   ]
  }
 ],
 "metadata": {
  "kernelspec": {
   "display_name": "Python 3",
   "language": "python",
   "name": "python3"
  },
  "language_info": {
   "codemirror_mode": {
    "name": "ipython",
    "version": 3
   },
   "file_extension": ".py",
   "mimetype": "text/x-python",
   "name": "python",
   "nbconvert_exporter": "python",
   "pygments_lexer": "ipython3",
   "version": "3.8.3"
  }
 },
 "nbformat": 4,
 "nbformat_minor": 2
}
