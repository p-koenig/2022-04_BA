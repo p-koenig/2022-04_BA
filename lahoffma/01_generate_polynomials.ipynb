{
 "cells": [
  {
   "cell_type": "markdown",
   "metadata": {},
   "source": [
    "# Function Generation for the Training of λ-Nets"
   ]
  },
  {
   "cell_type": "markdown",
   "metadata": {},
   "source": [
    "## Package installation (uncommand first line to install packages at the beginning)"
   ]
  },
  {
   "cell_type": "code",
   "execution_count": 2,
   "metadata": {
    "ExecuteTime": {
     "end_time": "2020-09-17T08:01:28.668117Z",
     "start_time": "2020-09-17T08:01:28.650318Z"
    },
    "collapsed": true
   },
   "outputs": [
    {
     "name": "stdout",
     "output_type": "stream",
     "text": [
      "Requirement already satisfied: numpy in /home/lahoffma/Programs/anaconda3/lib/python3.8/site-packages (1.18.5)\n",
      "Requirement already satisfied: pandas in /home/lahoffma/Programs/anaconda3/lib/python3.8/site-packages (1.0.5)\n",
      "Requirement already satisfied: numpy>=1.13.3 in /home/lahoffma/Programs/anaconda3/lib/python3.8/site-packages (from pandas) (1.18.5)\n",
      "Requirement already satisfied: pytz>=2017.2 in /home/lahoffma/Programs/anaconda3/lib/python3.8/site-packages (from pandas) (2020.1)\n",
      "Requirement already satisfied: python-dateutil>=2.6.1 in /home/lahoffma/Programs/anaconda3/lib/python3.8/site-packages (from pandas) (2.8.1)\n",
      "Requirement already satisfied: six>=1.5 in /home/lahoffma/Programs/anaconda3/lib/python3.8/site-packages (from python-dateutil>=2.6.1->pandas) (1.15.0)\n",
      "Requirement already satisfied: truth-table-generator in /home/lahoffma/Programs/anaconda3/lib/python3.8/site-packages (1.1.2)\n",
      "Requirement already satisfied: numpy in /home/lahoffma/Programs/anaconda3/lib/python3.8/site-packages (from truth-table-generator) (1.18.5)\n",
      "Requirement already satisfied: PTable in /home/lahoffma/Programs/anaconda3/lib/python3.8/site-packages (from truth-table-generator) (0.9.2)\n",
      "Requirement already satisfied: tabulate in /home/lahoffma/Programs/anaconda3/lib/python3.8/site-packages (from truth-table-generator) (0.8.7)\n",
      "Requirement already satisfied: jinja2 in /home/lahoffma/Programs/anaconda3/lib/python3.8/site-packages (from truth-table-generator) (2.11.2)\n",
      "Requirement already satisfied: pandas in /home/lahoffma/Programs/anaconda3/lib/python3.8/site-packages (from truth-table-generator) (1.0.5)\n",
      "Requirement already satisfied: pyparsing in /home/lahoffma/Programs/anaconda3/lib/python3.8/site-packages (from truth-table-generator) (2.4.7)\n",
      "Requirement already satisfied: MarkupSafe>=0.23 in /home/lahoffma/Programs/anaconda3/lib/python3.8/site-packages (from jinja2->truth-table-generator) (1.1.1)\n",
      "Requirement already satisfied: python-dateutil>=2.6.1 in /home/lahoffma/Programs/anaconda3/lib/python3.8/site-packages (from pandas->truth-table-generator) (2.8.1)\n",
      "Requirement already satisfied: pytz>=2017.2 in /home/lahoffma/Programs/anaconda3/lib/python3.8/site-packages (from pandas->truth-table-generator) (2020.1)\n",
      "Requirement already satisfied: six>=1.5 in /home/lahoffma/Programs/anaconda3/lib/python3.8/site-packages (from python-dateutil>=2.6.1->pandas->truth-table-generator) (1.15.0)\n",
      "Requirement already satisfied: more-itertools in /home/lahoffma/Programs/anaconda3/lib/python3.8/site-packages (8.4.0)\n",
      "Requirement already satisfied: tqdm in /home/lahoffma/Programs/anaconda3/lib/python3.8/site-packages (4.47.0)\n",
      "Requirement already satisfied: joblib in /home/lahoffma/Programs/anaconda3/lib/python3.8/site-packages (0.16.0)\n",
      "Requirement already satisfied: scipy in /home/lahoffma/Programs/anaconda3/lib/python3.8/site-packages (1.5.0)\n",
      "Requirement already satisfied: numpy>=1.14.5 in /home/lahoffma/Programs/anaconda3/lib/python3.8/site-packages (from scipy) (1.18.5)\n",
      "Requirement already satisfied: PrettyTable in /home/lahoffma/Programs/anaconda3/lib/python3.8/site-packages (0.7.2)\n",
      "Requirement already satisfied: colored in /home/lahoffma/Programs/anaconda3/lib/python3.8/site-packages (1.4.2)\n",
      "Requirement already satisfied: scikit-learn in /home/lahoffma/Programs/anaconda3/lib/python3.8/site-packages (0.23.1)\n",
      "Requirement already satisfied: scipy>=0.19.1 in /home/lahoffma/Programs/anaconda3/lib/python3.8/site-packages (from scikit-learn) (1.5.0)\n",
      "Requirement already satisfied: joblib>=0.11 in /home/lahoffma/Programs/anaconda3/lib/python3.8/site-packages (from scikit-learn) (0.16.0)\n",
      "Requirement already satisfied: numpy>=1.13.3 in /home/lahoffma/Programs/anaconda3/lib/python3.8/site-packages (from scikit-learn) (1.18.5)\n",
      "Requirement already satisfied: threadpoolctl>=2.0.0 in /home/lahoffma/Programs/anaconda3/lib/python3.8/site-packages (from scikit-learn) (2.1.0)\n",
      "Requirement already satisfied: keras in /home/lahoffma/Programs/anaconda3/lib/python3.8/site-packages (2.4.3)\n",
      "Requirement already satisfied: pyyaml in /home/lahoffma/Programs/anaconda3/lib/python3.8/site-packages (from keras) (5.3.1)\n",
      "Requirement already satisfied: h5py in /home/lahoffma/Programs/anaconda3/lib/python3.8/site-packages (from keras) (2.10.0)\n",
      "Requirement already satisfied: numpy>=1.9.1 in /home/lahoffma/Programs/anaconda3/lib/python3.8/site-packages (from keras) (1.18.5)\n",
      "Requirement already satisfied: scipy>=0.14 in /home/lahoffma/Programs/anaconda3/lib/python3.8/site-packages (from keras) (1.5.0)\n",
      "Requirement already satisfied: six in /home/lahoffma/Programs/anaconda3/lib/python3.8/site-packages (from h5py->keras) (1.15.0)\n",
      "Requirement already satisfied: ipython in /home/lahoffma/Programs/anaconda3/lib/python3.8/site-packages (7.16.1)\n",
      "Requirement already satisfied: prompt-toolkit!=3.0.0,!=3.0.1,<3.1.0,>=2.0.0 in /home/lahoffma/Programs/anaconda3/lib/python3.8/site-packages (from ipython) (3.0.5)\n",
      "Requirement already satisfied: backcall in /home/lahoffma/Programs/anaconda3/lib/python3.8/site-packages (from ipython) (0.2.0)\n",
      "Requirement already satisfied: jedi>=0.10 in /home/lahoffma/Programs/anaconda3/lib/python3.8/site-packages (from ipython) (0.17.1)\n",
      "Requirement already satisfied: traitlets>=4.2 in /home/lahoffma/Programs/anaconda3/lib/python3.8/site-packages (from ipython) (4.3.3)\n",
      "Requirement already satisfied: decorator in /home/lahoffma/Programs/anaconda3/lib/python3.8/site-packages (from ipython) (4.4.2)\n",
      "Requirement already satisfied: setuptools>=18.5 in /home/lahoffma/Programs/anaconda3/lib/python3.8/site-packages (from ipython) (49.2.0.post20200714)\n",
      "Requirement already satisfied: pygments in /home/lahoffma/Programs/anaconda3/lib/python3.8/site-packages (from ipython) (2.6.1)\n",
      "Requirement already satisfied: pickleshare in /home/lahoffma/Programs/anaconda3/lib/python3.8/site-packages (from ipython) (0.7.5)\n",
      "Requirement already satisfied: pexpect; sys_platform != \"win32\" in /home/lahoffma/Programs/anaconda3/lib/python3.8/site-packages (from ipython) (4.8.0)\n",
      "Requirement already satisfied: wcwidth in /home/lahoffma/Programs/anaconda3/lib/python3.8/site-packages (from prompt-toolkit!=3.0.0,!=3.0.1,<3.1.0,>=2.0.0->ipython) (0.2.5)\n",
      "Requirement already satisfied: parso<0.8.0,>=0.7.0 in /home/lahoffma/Programs/anaconda3/lib/python3.8/site-packages (from jedi>=0.10->ipython) (0.7.0)\n",
      "Requirement already satisfied: ipython-genutils in /home/lahoffma/Programs/anaconda3/lib/python3.8/site-packages (from traitlets>=4.2->ipython) (0.2.0)\n",
      "Requirement already satisfied: six in /home/lahoffma/Programs/anaconda3/lib/python3.8/site-packages (from traitlets>=4.2->ipython) (1.15.0)\n",
      "Requirement already satisfied: ptyprocess>=0.5 in /home/lahoffma/Programs/anaconda3/lib/python3.8/site-packages (from pexpect; sys_platform != \"win32\"->ipython) (0.6.0)\n",
      "Requirement already satisfied: livelossplot in /home/lahoffma/Programs/anaconda3/lib/python3.8/site-packages (0.5.3)\n",
      "Requirement already satisfied: bokeh; python_version >= \"3.6\" in /home/lahoffma/Programs/anaconda3/lib/python3.8/site-packages (from livelossplot) (2.1.1)\n",
      "Requirement already satisfied: matplotlib; python_version >= \"3.6\" in /home/lahoffma/Programs/anaconda3/lib/python3.8/site-packages (from livelossplot) (3.2.2)\n",
      "Requirement already satisfied: ipython in /home/lahoffma/Programs/anaconda3/lib/python3.8/site-packages (from livelossplot) (7.16.1)\n",
      "Requirement already satisfied: numpy>=1.11.3 in /home/lahoffma/Programs/anaconda3/lib/python3.8/site-packages (from bokeh; python_version >= \"3.6\"->livelossplot) (1.18.5)\n",
      "Requirement already satisfied: tornado>=5.1 in /home/lahoffma/Programs/anaconda3/lib/python3.8/site-packages (from bokeh; python_version >= \"3.6\"->livelossplot) (6.0.4)\n",
      "Requirement already satisfied: pillow>=4.0 in /home/lahoffma/Programs/anaconda3/lib/python3.8/site-packages (from bokeh; python_version >= \"3.6\"->livelossplot) (7.2.0)\n",
      "Requirement already satisfied: python-dateutil>=2.1 in /home/lahoffma/Programs/anaconda3/lib/python3.8/site-packages (from bokeh; python_version >= \"3.6\"->livelossplot) (2.8.1)\n",
      "Requirement already satisfied: typing-extensions>=3.7.4 in /home/lahoffma/Programs/anaconda3/lib/python3.8/site-packages (from bokeh; python_version >= \"3.6\"->livelossplot) (3.7.4.2)\n",
      "Requirement already satisfied: Jinja2>=2.7 in /home/lahoffma/Programs/anaconda3/lib/python3.8/site-packages (from bokeh; python_version >= \"3.6\"->livelossplot) (2.11.2)\n",
      "Requirement already satisfied: PyYAML>=3.10 in /home/lahoffma/Programs/anaconda3/lib/python3.8/site-packages (from bokeh; python_version >= \"3.6\"->livelossplot) (5.3.1)\n",
      "Requirement already satisfied: packaging>=16.8 in /home/lahoffma/Programs/anaconda3/lib/python3.8/site-packages (from bokeh; python_version >= \"3.6\"->livelossplot) (20.4)\n",
      "Requirement already satisfied: cycler>=0.10 in /home/lahoffma/Programs/anaconda3/lib/python3.8/site-packages (from matplotlib; python_version >= \"3.6\"->livelossplot) (0.10.0)\n",
      "Requirement already satisfied: pyparsing!=2.0.4,!=2.1.2,!=2.1.6,>=2.0.1 in /home/lahoffma/Programs/anaconda3/lib/python3.8/site-packages (from matplotlib; python_version >= \"3.6\"->livelossplot) (2.4.7)\n",
      "Requirement already satisfied: kiwisolver>=1.0.1 in /home/lahoffma/Programs/anaconda3/lib/python3.8/site-packages (from matplotlib; python_version >= \"3.6\"->livelossplot) (1.2.0)\n",
      "Requirement already satisfied: jedi>=0.10 in /home/lahoffma/Programs/anaconda3/lib/python3.8/site-packages (from ipython->livelossplot) (0.17.1)\n",
      "Requirement already satisfied: pygments in /home/lahoffma/Programs/anaconda3/lib/python3.8/site-packages (from ipython->livelossplot) (2.6.1)\n",
      "Requirement already satisfied: pickleshare in /home/lahoffma/Programs/anaconda3/lib/python3.8/site-packages (from ipython->livelossplot) (0.7.5)\n",
      "Requirement already satisfied: backcall in /home/lahoffma/Programs/anaconda3/lib/python3.8/site-packages (from ipython->livelossplot) (0.2.0)\n",
      "Requirement already satisfied: pexpect; sys_platform != \"win32\" in /home/lahoffma/Programs/anaconda3/lib/python3.8/site-packages (from ipython->livelossplot) (4.8.0)\n"
     ]
    },
    {
     "name": "stdout",
     "output_type": "stream",
     "text": [
      "Requirement already satisfied: setuptools>=18.5 in /home/lahoffma/Programs/anaconda3/lib/python3.8/site-packages (from ipython->livelossplot) (49.2.0.post20200714)\n",
      "Requirement already satisfied: decorator in /home/lahoffma/Programs/anaconda3/lib/python3.8/site-packages (from ipython->livelossplot) (4.4.2)\n",
      "Requirement already satisfied: prompt-toolkit!=3.0.0,!=3.0.1,<3.1.0,>=2.0.0 in /home/lahoffma/Programs/anaconda3/lib/python3.8/site-packages (from ipython->livelossplot) (3.0.5)\n",
      "Requirement already satisfied: traitlets>=4.2 in /home/lahoffma/Programs/anaconda3/lib/python3.8/site-packages (from ipython->livelossplot) (4.3.3)\n",
      "Requirement already satisfied: six>=1.5 in /home/lahoffma/Programs/anaconda3/lib/python3.8/site-packages (from python-dateutil>=2.1->bokeh; python_version >= \"3.6\"->livelossplot) (1.15.0)\n",
      "Requirement already satisfied: MarkupSafe>=0.23 in /home/lahoffma/Programs/anaconda3/lib/python3.8/site-packages (from Jinja2>=2.7->bokeh; python_version >= \"3.6\"->livelossplot) (1.1.1)\n",
      "Requirement already satisfied: parso<0.8.0,>=0.7.0 in /home/lahoffma/Programs/anaconda3/lib/python3.8/site-packages (from jedi>=0.10->ipython->livelossplot) (0.7.0)\n",
      "Requirement already satisfied: ptyprocess>=0.5 in /home/lahoffma/Programs/anaconda3/lib/python3.8/site-packages (from pexpect; sys_platform != \"win32\"->ipython->livelossplot) (0.6.0)\n",
      "Requirement already satisfied: wcwidth in /home/lahoffma/Programs/anaconda3/lib/python3.8/site-packages (from prompt-toolkit!=3.0.0,!=3.0.1,<3.1.0,>=2.0.0->ipython->livelossplot) (0.2.5)\n",
      "Requirement already satisfied: ipython-genutils in /home/lahoffma/Programs/anaconda3/lib/python3.8/site-packages (from traitlets>=4.2->ipython->livelossplot) (0.2.0)\n",
      "Requirement already satisfied: matplotlib in /home/lahoffma/Programs/anaconda3/lib/python3.8/site-packages (3.2.2)\n",
      "Requirement already satisfied: cycler>=0.10 in /home/lahoffma/Programs/anaconda3/lib/python3.8/site-packages (from matplotlib) (0.10.0)\n",
      "Requirement already satisfied: python-dateutil>=2.1 in /home/lahoffma/Programs/anaconda3/lib/python3.8/site-packages (from matplotlib) (2.8.1)\n",
      "Requirement already satisfied: pyparsing!=2.0.4,!=2.1.2,!=2.1.6,>=2.0.1 in /home/lahoffma/Programs/anaconda3/lib/python3.8/site-packages (from matplotlib) (2.4.7)\n",
      "Requirement already satisfied: kiwisolver>=1.0.1 in /home/lahoffma/Programs/anaconda3/lib/python3.8/site-packages (from matplotlib) (1.2.0)\n",
      "Requirement already satisfied: numpy>=1.11 in /home/lahoffma/Programs/anaconda3/lib/python3.8/site-packages (from matplotlib) (1.18.5)\n",
      "Requirement already satisfied: six in /home/lahoffma/Programs/anaconda3/lib/python3.8/site-packages (from cycler>=0.10->matplotlib) (1.15.0)\n",
      "Requirement already satisfied: seaborn in /home/lahoffma/Programs/anaconda3/lib/python3.8/site-packages (0.10.1)\n",
      "Requirement already satisfied: scipy>=1.0.1 in /home/lahoffma/Programs/anaconda3/lib/python3.8/site-packages (from seaborn) (1.5.0)\n",
      "Requirement already satisfied: numpy>=1.13.3 in /home/lahoffma/Programs/anaconda3/lib/python3.8/site-packages (from seaborn) (1.18.5)\n",
      "Requirement already satisfied: pandas>=0.22.0 in /home/lahoffma/Programs/anaconda3/lib/python3.8/site-packages (from seaborn) (1.0.5)\n",
      "Requirement already satisfied: matplotlib>=2.1.2 in /home/lahoffma/Programs/anaconda3/lib/python3.8/site-packages (from seaborn) (3.2.2)\n",
      "Requirement already satisfied: pytz>=2017.2 in /home/lahoffma/Programs/anaconda3/lib/python3.8/site-packages (from pandas>=0.22.0->seaborn) (2020.1)\n",
      "Requirement already satisfied: python-dateutil>=2.6.1 in /home/lahoffma/Programs/anaconda3/lib/python3.8/site-packages (from pandas>=0.22.0->seaborn) (2.8.1)\n",
      "Requirement already satisfied: pyparsing!=2.0.4,!=2.1.2,!=2.1.6,>=2.0.1 in /home/lahoffma/Programs/anaconda3/lib/python3.8/site-packages (from matplotlib>=2.1.2->seaborn) (2.4.7)\n",
      "Requirement already satisfied: cycler>=0.10 in /home/lahoffma/Programs/anaconda3/lib/python3.8/site-packages (from matplotlib>=2.1.2->seaborn) (0.10.0)\n",
      "Requirement already satisfied: kiwisolver>=1.0.1 in /home/lahoffma/Programs/anaconda3/lib/python3.8/site-packages (from matplotlib>=2.1.2->seaborn) (1.2.0)\n",
      "Requirement already satisfied: six>=1.5 in /home/lahoffma/Programs/anaconda3/lib/python3.8/site-packages (from python-dateutil>=2.6.1->pandas>=0.22.0->seaborn) (1.15.0)\n",
      "Requirement already satisfied: tensorflow in /home/lahoffma/Programs/anaconda3/lib/python3.8/site-packages (2.3.1)\n",
      "Requirement already satisfied: grpcio>=1.8.6 in /home/lahoffma/Programs/anaconda3/lib/python3.8/site-packages (from tensorflow) (1.32.0)\n",
      "Requirement already satisfied: astunparse==1.6.3 in /home/lahoffma/Programs/anaconda3/lib/python3.8/site-packages (from tensorflow) (1.6.3)\n",
      "Requirement already satisfied: keras-preprocessing<1.2,>=1.1.1 in /home/lahoffma/Programs/anaconda3/lib/python3.8/site-packages (from tensorflow) (1.1.2)\n",
      "Requirement already satisfied: numpy<1.19.0,>=1.16.0 in /home/lahoffma/Programs/anaconda3/lib/python3.8/site-packages (from tensorflow) (1.18.5)\n",
      "Requirement already satisfied: opt-einsum>=2.3.2 in /home/lahoffma/Programs/anaconda3/lib/python3.8/site-packages (from tensorflow) (3.3.0)\n",
      "Requirement already satisfied: termcolor>=1.1.0 in /home/lahoffma/Programs/anaconda3/lib/python3.8/site-packages (from tensorflow) (1.1.0)\n",
      "Requirement already satisfied: google-pasta>=0.1.8 in /home/lahoffma/Programs/anaconda3/lib/python3.8/site-packages (from tensorflow) (0.2.0)\n",
      "Requirement already satisfied: protobuf>=3.9.2 in /home/lahoffma/Programs/anaconda3/lib/python3.8/site-packages (from tensorflow) (3.13.0)\n",
      "Requirement already satisfied: wrapt>=1.11.1 in /home/lahoffma/Programs/anaconda3/lib/python3.8/site-packages (from tensorflow) (1.11.2)\n",
      "Requirement already satisfied: six>=1.12.0 in /home/lahoffma/Programs/anaconda3/lib/python3.8/site-packages (from tensorflow) (1.15.0)\n",
      "Requirement already satisfied: tensorboard<3,>=2.3.0 in /home/lahoffma/Programs/anaconda3/lib/python3.8/site-packages (from tensorflow) (2.3.0)\n",
      "Requirement already satisfied: h5py<2.11.0,>=2.10.0 in /home/lahoffma/Programs/anaconda3/lib/python3.8/site-packages (from tensorflow) (2.10.0)\n",
      "Requirement already satisfied: absl-py>=0.7.0 in /home/lahoffma/Programs/anaconda3/lib/python3.8/site-packages (from tensorflow) (0.10.0)\n",
      "Requirement already satisfied: gast==0.3.3 in /home/lahoffma/Programs/anaconda3/lib/python3.8/site-packages (from tensorflow) (0.3.3)\n",
      "Requirement already satisfied: tensorflow-estimator<2.4.0,>=2.3.0 in /home/lahoffma/Programs/anaconda3/lib/python3.8/site-packages (from tensorflow) (2.3.0)\n",
      "Requirement already satisfied: wheel>=0.26 in /home/lahoffma/Programs/anaconda3/lib/python3.8/site-packages (from tensorflow) (0.34.2)\n",
      "Requirement already satisfied: setuptools in /home/lahoffma/Programs/anaconda3/lib/python3.8/site-packages (from protobuf>=3.9.2->tensorflow) (49.2.0.post20200714)\n",
      "Requirement already satisfied: google-auth-oauthlib<0.5,>=0.4.1 in /home/lahoffma/Programs/anaconda3/lib/python3.8/site-packages (from tensorboard<3,>=2.3.0->tensorflow) (0.4.1)\n",
      "Requirement already satisfied: requests<3,>=2.21.0 in /home/lahoffma/Programs/anaconda3/lib/python3.8/site-packages (from tensorboard<3,>=2.3.0->tensorflow) (2.24.0)\n",
      "Requirement already satisfied: werkzeug>=0.11.15 in /home/lahoffma/Programs/anaconda3/lib/python3.8/site-packages (from tensorboard<3,>=2.3.0->tensorflow) (1.0.1)\n",
      "Requirement already satisfied: google-auth<2,>=1.6.3 in /home/lahoffma/Programs/anaconda3/lib/python3.8/site-packages (from tensorboard<3,>=2.3.0->tensorflow) (1.21.3)\n",
      "Requirement already satisfied: tensorboard-plugin-wit>=1.6.0 in /home/lahoffma/Programs/anaconda3/lib/python3.8/site-packages (from tensorboard<3,>=2.3.0->tensorflow) (1.7.0)\n",
      "Requirement already satisfied: markdown>=2.6.8 in /home/lahoffma/Programs/anaconda3/lib/python3.8/site-packages (from tensorboard<3,>=2.3.0->tensorflow) (3.2.2)\n",
      "Requirement already satisfied: requests-oauthlib>=0.7.0 in /home/lahoffma/Programs/anaconda3/lib/python3.8/site-packages (from google-auth-oauthlib<0.5,>=0.4.1->tensorboard<3,>=2.3.0->tensorflow) (1.3.0)\n",
      "Requirement already satisfied: idna<3,>=2.5 in /home/lahoffma/Programs/anaconda3/lib/python3.8/site-packages (from requests<3,>=2.21.0->tensorboard<3,>=2.3.0->tensorflow) (2.10)\n",
      "Requirement already satisfied: urllib3!=1.25.0,!=1.25.1,<1.26,>=1.21.1 in /home/lahoffma/Programs/anaconda3/lib/python3.8/site-packages (from requests<3,>=2.21.0->tensorboard<3,>=2.3.0->tensorflow) (1.25.9)\n"
     ]
    },
    {
     "name": "stdout",
     "output_type": "stream",
     "text": [
      "Requirement already satisfied: chardet<4,>=3.0.2 in /home/lahoffma/Programs/anaconda3/lib/python3.8/site-packages (from requests<3,>=2.21.0->tensorboard<3,>=2.3.0->tensorflow) (3.0.4)\n",
      "Requirement already satisfied: certifi>=2017.4.17 in /home/lahoffma/Programs/anaconda3/lib/python3.8/site-packages (from requests<3,>=2.21.0->tensorboard<3,>=2.3.0->tensorflow) (2020.6.20)\n",
      "Requirement already satisfied: cachetools<5.0,>=2.0.0 in /home/lahoffma/Programs/anaconda3/lib/python3.8/site-packages (from google-auth<2,>=1.6.3->tensorboard<3,>=2.3.0->tensorflow) (4.1.1)\n",
      "Requirement already satisfied: pyasn1-modules>=0.2.1 in /home/lahoffma/Programs/anaconda3/lib/python3.8/site-packages (from google-auth<2,>=1.6.3->tensorboard<3,>=2.3.0->tensorflow) (0.2.8)\n",
      "Requirement already satisfied: rsa<5,>=3.1.4; python_version >= \"3.5\" in /home/lahoffma/Programs/anaconda3/lib/python3.8/site-packages (from google-auth<2,>=1.6.3->tensorboard<3,>=2.3.0->tensorflow) (4.6)\n",
      "Requirement already satisfied: oauthlib>=3.0.0 in /home/lahoffma/Programs/anaconda3/lib/python3.8/site-packages (from requests-oauthlib>=0.7.0->google-auth-oauthlib<0.5,>=0.4.1->tensorboard<3,>=2.3.0->tensorflow) (3.1.0)\n",
      "Requirement already satisfied: pyasn1<0.5.0,>=0.4.6 in /home/lahoffma/Programs/anaconda3/lib/python3.8/site-packages (from pyasn1-modules>=0.2.1->google-auth<2,>=1.6.3->tensorboard<3,>=2.3.0->tensorflow) (0.4.8)\n",
      "Requirement already satisfied: tensorflow-gpu in /home/lahoffma/Programs/anaconda3/lib/python3.8/site-packages (2.3.1)\n",
      "Requirement already satisfied: opt-einsum>=2.3.2 in /home/lahoffma/Programs/anaconda3/lib/python3.8/site-packages (from tensorflow-gpu) (3.3.0)\n",
      "Requirement already satisfied: tensorflow-estimator<2.4.0,>=2.3.0 in /home/lahoffma/Programs/anaconda3/lib/python3.8/site-packages (from tensorflow-gpu) (2.3.0)\n",
      "Requirement already satisfied: termcolor>=1.1.0 in /home/lahoffma/Programs/anaconda3/lib/python3.8/site-packages (from tensorflow-gpu) (1.1.0)\n",
      "Requirement already satisfied: gast==0.3.3 in /home/lahoffma/Programs/anaconda3/lib/python3.8/site-packages (from tensorflow-gpu) (0.3.3)\n",
      "Requirement already satisfied: tensorboard<3,>=2.3.0 in /home/lahoffma/Programs/anaconda3/lib/python3.8/site-packages (from tensorflow-gpu) (2.3.0)\n",
      "Requirement already satisfied: google-pasta>=0.1.8 in /home/lahoffma/Programs/anaconda3/lib/python3.8/site-packages (from tensorflow-gpu) (0.2.0)\n",
      "Requirement already satisfied: absl-py>=0.7.0 in /home/lahoffma/Programs/anaconda3/lib/python3.8/site-packages (from tensorflow-gpu) (0.10.0)\n",
      "Requirement already satisfied: astunparse==1.6.3 in /home/lahoffma/Programs/anaconda3/lib/python3.8/site-packages (from tensorflow-gpu) (1.6.3)\n",
      "Requirement already satisfied: protobuf>=3.9.2 in /home/lahoffma/Programs/anaconda3/lib/python3.8/site-packages (from tensorflow-gpu) (3.13.0)\n",
      "Requirement already satisfied: six>=1.12.0 in /home/lahoffma/Programs/anaconda3/lib/python3.8/site-packages (from tensorflow-gpu) (1.15.0)\n",
      "Requirement already satisfied: wheel>=0.26 in /home/lahoffma/Programs/anaconda3/lib/python3.8/site-packages (from tensorflow-gpu) (0.34.2)\n",
      "Requirement already satisfied: wrapt>=1.11.1 in /home/lahoffma/Programs/anaconda3/lib/python3.8/site-packages (from tensorflow-gpu) (1.11.2)\n",
      "Requirement already satisfied: grpcio>=1.8.6 in /home/lahoffma/Programs/anaconda3/lib/python3.8/site-packages (from tensorflow-gpu) (1.32.0)\n",
      "Requirement already satisfied: numpy<1.19.0,>=1.16.0 in /home/lahoffma/Programs/anaconda3/lib/python3.8/site-packages (from tensorflow-gpu) (1.18.5)\n",
      "Requirement already satisfied: keras-preprocessing<1.2,>=1.1.1 in /home/lahoffma/Programs/anaconda3/lib/python3.8/site-packages (from tensorflow-gpu) (1.1.2)\n",
      "Requirement already satisfied: h5py<2.11.0,>=2.10.0 in /home/lahoffma/Programs/anaconda3/lib/python3.8/site-packages (from tensorflow-gpu) (2.10.0)\n",
      "Requirement already satisfied: google-auth-oauthlib<0.5,>=0.4.1 in /home/lahoffma/Programs/anaconda3/lib/python3.8/site-packages (from tensorboard<3,>=2.3.0->tensorflow-gpu) (0.4.1)\n",
      "Requirement already satisfied: tensorboard-plugin-wit>=1.6.0 in /home/lahoffma/Programs/anaconda3/lib/python3.8/site-packages (from tensorboard<3,>=2.3.0->tensorflow-gpu) (1.7.0)\n",
      "Requirement already satisfied: markdown>=2.6.8 in /home/lahoffma/Programs/anaconda3/lib/python3.8/site-packages (from tensorboard<3,>=2.3.0->tensorflow-gpu) (3.2.2)\n",
      "Requirement already satisfied: requests<3,>=2.21.0 in /home/lahoffma/Programs/anaconda3/lib/python3.8/site-packages (from tensorboard<3,>=2.3.0->tensorflow-gpu) (2.24.0)\n",
      "Requirement already satisfied: setuptools>=41.0.0 in /home/lahoffma/Programs/anaconda3/lib/python3.8/site-packages (from tensorboard<3,>=2.3.0->tensorflow-gpu) (49.2.0.post20200714)\n",
      "Requirement already satisfied: werkzeug>=0.11.15 in /home/lahoffma/Programs/anaconda3/lib/python3.8/site-packages (from tensorboard<3,>=2.3.0->tensorflow-gpu) (1.0.1)\n",
      "Requirement already satisfied: google-auth<2,>=1.6.3 in /home/lahoffma/Programs/anaconda3/lib/python3.8/site-packages (from tensorboard<3,>=2.3.0->tensorflow-gpu) (1.21.3)\n",
      "Requirement already satisfied: requests-oauthlib>=0.7.0 in /home/lahoffma/Programs/anaconda3/lib/python3.8/site-packages (from google-auth-oauthlib<0.5,>=0.4.1->tensorboard<3,>=2.3.0->tensorflow-gpu) (1.3.0)\n",
      "Requirement already satisfied: certifi>=2017.4.17 in /home/lahoffma/Programs/anaconda3/lib/python3.8/site-packages (from requests<3,>=2.21.0->tensorboard<3,>=2.3.0->tensorflow-gpu) (2020.6.20)\n",
      "Requirement already satisfied: chardet<4,>=3.0.2 in /home/lahoffma/Programs/anaconda3/lib/python3.8/site-packages (from requests<3,>=2.21.0->tensorboard<3,>=2.3.0->tensorflow-gpu) (3.0.4)\n",
      "Requirement already satisfied: urllib3!=1.25.0,!=1.25.1,<1.26,>=1.21.1 in /home/lahoffma/Programs/anaconda3/lib/python3.8/site-packages (from requests<3,>=2.21.0->tensorboard<3,>=2.3.0->tensorflow-gpu) (1.25.9)\n",
      "Requirement already satisfied: idna<3,>=2.5 in /home/lahoffma/Programs/anaconda3/lib/python3.8/site-packages (from requests<3,>=2.21.0->tensorboard<3,>=2.3.0->tensorflow-gpu) (2.10)\n",
      "Requirement already satisfied: pyasn1-modules>=0.2.1 in /home/lahoffma/Programs/anaconda3/lib/python3.8/site-packages (from google-auth<2,>=1.6.3->tensorboard<3,>=2.3.0->tensorflow-gpu) (0.2.8)\n",
      "Requirement already satisfied: cachetools<5.0,>=2.0.0 in /home/lahoffma/Programs/anaconda3/lib/python3.8/site-packages (from google-auth<2,>=1.6.3->tensorboard<3,>=2.3.0->tensorflow-gpu) (4.1.1)\n",
      "Requirement already satisfied: rsa<5,>=3.1.4; python_version >= \"3.5\" in /home/lahoffma/Programs/anaconda3/lib/python3.8/site-packages (from google-auth<2,>=1.6.3->tensorboard<3,>=2.3.0->tensorflow-gpu) (4.6)\n",
      "Requirement already satisfied: oauthlib>=3.0.0 in /home/lahoffma/Programs/anaconda3/lib/python3.8/site-packages (from requests-oauthlib>=0.7.0->google-auth-oauthlib<0.5,>=0.4.1->tensorboard<3,>=2.3.0->tensorflow-gpu) (3.1.0)\n",
      "Requirement already satisfied: pyasn1<0.5.0,>=0.4.6 in /home/lahoffma/Programs/anaconda3/lib/python3.8/site-packages (from pyasn1-modules>=0.2.1->google-auth<2,>=1.6.3->tensorboard<3,>=2.3.0->tensorflow-gpu) (0.4.8)\n"
     ]
    }
   ],
   "source": [
    "#%%script false --no-raise-error\n",
    "#if some errors occur during the installation consider using \"sudo pip install\"\n",
    "!pip install numpy\n",
    "!pip install pandas\n",
    "!pip install truth-table-generator\n",
    "!pip install more-itertools\n",
    "!pip install tqdm\n",
    "!pip install joblib\n",
    "!pip install scipy\n",
    "!pip install PrettyTable\n",
    "!pip install colored\n",
    "!pip install scikit-learn\n",
    "!pip install keras\n",
    "!pip install ipython\n",
    "!pip install livelossplot\n",
    "!pip install matplotlib\n",
    "!pip install seaborn\n",
    "!pip install tensorflow\n",
    "!pip install tensorflow-gpu"
   ]
  },
  {
   "cell_type": "markdown",
   "metadata": {
    "ExecuteTime": {
     "end_time": "2020-09-16T12:26:49.061308Z",
     "start_time": "2020-09-16T12:26:49.055692Z"
    }
   },
   "source": [
    "## Specitication of Experiment Settings"
   ]
  },
  {
   "cell_type": "code",
   "execution_count": null,
   "metadata": {
    "ExecuteTime": {
     "end_time": "2020-09-17T08:01:28.678634Z",
     "start_time": "2020-09-17T08:01:28.673450Z"
    }
   },
   "outputs": [],
   "source": [
    "import math\n",
    "def nCr(n,r):\n",
    "    f = math.factorial\n",
    "    return f(n) // f(r) // f(n-r)"
   ]
  },
  {
   "cell_type": "code",
   "execution_count": null,
   "metadata": {
    "ExecuteTime": {
     "end_time": "2020-09-17T08:01:28.687997Z",
     "start_time": "2020-09-17T08:01:28.681692Z"
    }
   },
   "outputs": [],
   "source": [
    "d = 3  \n",
    "n = 4\n",
    "sparsity = nCr(n+d, d)\n",
    "\n",
    "\n",
    "x_max = 1 \n",
    "x_min = -1\n",
    "x_step = 0.01\n",
    "a_max = 10 \n",
    "a_min = -10\n",
    "a_step = 0.1\n",
    "\n",
    "n_jobs = 5\n",
    "\n",
    "lambda_dataset_size = 1000 #specify the number of data points to calculate the function values for (determines the lambda net training size)\n",
    "\n",
    "interpretation_dataset_size = 50000 #specifies the number of functions generated (specifies the interpretation-net dataset size)\n"
   ]
  },
  {
   "cell_type": "code",
   "execution_count": null,
   "metadata": {
    "ExecuteTime": {
     "end_time": "2020-09-17T08:01:28.702638Z",
     "start_time": "2020-09-17T08:01:28.691040Z"
    }
   },
   "outputs": [],
   "source": [
    "##############DO NOT CHANGE###################\n",
    "variables = 'abcdefghijklmnopqrstuvwxyz'[:n]\n",
    "\n",
    "RANDOM_SEED = 42\n",
    "\n",
    "same_training_all_polynomials = True\n",
    "\n",
    "if same_training_all_polynomials:\n",
    "    training_string = '_same'\n",
    "else:\n",
    "    training_string = '_diverse'\n",
    "    \n",
    "print('Variables: ' + str(n) + ' (' + variables + ')')\n",
    "print('Degree: ' + str(d))\n",
    "print('Sparsity: ' + str(sparsity)) \n",
    "print('Lambda-Net Dataset Size: ' + str(lambda_dataset_size))\n",
    "print('I-Net Dataset Size: ' + str(interpretation_dataset_size))\n",
    "      \n",
    "print('Coefficient Range: ' + '[' + str(a_min) + ', ' + str(a_max) + ']')\n",
    "print('Variable Range: ' + '[' + str(x_min) + ', ' + str(x_max) + ']')"
   ]
  },
  {
   "cell_type": "markdown",
   "metadata": {
    "ExecuteTime": {
     "end_time": "2020-09-16T12:26:58.879427Z",
     "start_time": "2020-09-16T12:26:58.874894Z"
    }
   },
   "source": [
    "## Imports"
   ]
  },
  {
   "cell_type": "code",
   "execution_count": null,
   "metadata": {
    "ExecuteTime": {
     "end_time": "2020-09-17T08:01:30.875636Z",
     "start_time": "2020-09-17T08:01:28.705085Z"
    }
   },
   "outputs": [],
   "source": [
    "import ttg\n",
    "from itertools import product       # forms cartesian products\n",
    "from more_itertools import random_product \n",
    "from tqdm import tqdm_notebook as tqdm\n",
    "import pickle\n",
    "\n",
    "import numpy as np\n",
    "\n",
    "import pandas as pd\n",
    "from joblib import Parallel, delayed\n",
    "\n",
    "import random \n",
    "from random import sample \n",
    "random.seed(42)\n",
    "\n",
    "import os\n",
    "\n",
    "directory_names = ['parameters', 'plotting', 'saved_polynomial_lists', 'results', 'saved_models', 'weights', 'weights_training']\n",
    "if not os.path.exists('./data'):\n",
    "    os.mkdir('./data')\n",
    "for directory_name in directory_names:\n",
    "    path = './data/' + directory_name\n",
    "    if not os.path.exists(path):\n",
    "        os.mkdir(path)\n",
    "        \n",
    "import seaborn as sns\n",
    "sns.set_style(\"darkgrid\")\n",
    "        \n",
    "import random \n",
    "random.seed(RANDOM_SEED)\n",
    "np.random.seed(RANDOM_SEED)\n",
    "\n",
    "\n"
   ]
  },
  {
   "cell_type": "markdown",
   "metadata": {},
   "source": [
    "## Utility functions"
   ]
  },
  {
   "cell_type": "code",
   "execution_count": null,
   "metadata": {
    "ExecuteTime": {
     "end_time": "2020-09-17T08:01:30.883565Z",
     "start_time": "2020-09-17T08:01:30.878531Z"
    }
   },
   "outputs": [],
   "source": [
    "#test for exact equality\n",
    "def arreq_in_list(myarr, list_arrays):\n",
    "    return next((True for elem in list_arrays if np.array_equal(elem, myarr)), False)"
   ]
  },
  {
   "cell_type": "code",
   "execution_count": null,
   "metadata": {
    "ExecuteTime": {
     "end_time": "2020-09-17T08:01:30.898201Z",
     "start_time": "2020-09-17T08:01:30.886334Z"
    }
   },
   "outputs": [],
   "source": [
    "ALPHABET = \\\n",
    "  \"0123456789abcdefghijklmnopqrstuvwxyz\"\n",
    "\n",
    "def encode (n):\n",
    "    try:\n",
    "        return ALPHABET [n]\n",
    "    except IndexError:\n",
    "        raise Exception (\"cannot encode: %s\" % n)\n",
    "\n",
    "def dec_to_base (dec = 0, base = 16):\n",
    "    if dec < base:\n",
    "        return encode (dec)\n",
    "    else:\n",
    "        return dec_to_base (dec // base, base) + encode (dec % base)"
   ]
  },
  {
   "cell_type": "markdown",
   "metadata": {
    "ExecuteTime": {
     "end_time": "2020-09-16T12:28:46.853042Z",
     "start_time": "2020-09-16T12:28:46.848346Z"
    }
   },
   "source": [
    "# Function Generation"
   ]
  },
  {
   "cell_type": "code",
   "execution_count": null,
   "metadata": {
    "ExecuteTime": {
     "end_time": "2020-09-17T08:01:30.991858Z",
     "start_time": "2020-09-17T08:01:30.902644Z"
    }
   },
   "outputs": [],
   "source": [
    "list_of_monomial_identifiers_extended = []\n",
    "for i in tqdm(range((d+1)**n)):    \n",
    "    monomial_identifier = dec_to_base(i, base = (d+1)).zfill(n) \n",
    "    list_of_monomial_identifiers_extended.append(monomial_identifier)\n",
    "\n",
    "print('List length: ' + str(len(list_of_monomial_identifiers_extended)))\n",
    "print('Number of monomials in a polynomial with ' + str(n) + ' variables and degree ' + str(d) + ': ' + str(nCr(n+d, d)))\n",
    "print('Sparsity: ' + str(sparsity))\n",
    "print(list_of_monomial_identifiers_extended)\n",
    "\n",
    "list_of_monomial_identifiers = []\n",
    "for monomial_identifier in tqdm(list_of_monomial_identifiers_extended):\n",
    "    monomial_identifier_values = list(map(int, list(monomial_identifier)))\n",
    "    if sum(monomial_identifier_values) <= d:\n",
    "        list_of_monomial_identifiers.append(monomial_identifier)\n",
    "\n",
    "print('List length: ' + str(len(list_of_monomial_identifiers)))\n",
    "print('Number of monomials in a polynomial with ' + str(n) + ' variables and degree ' + str(d) + ': ' + str(nCr(n+d, d)))\n",
    "print('Sparsity: ' + str(sparsity))\n",
    "print(list_of_monomial_identifiers)\n"
   ]
  },
  {
   "cell_type": "code",
   "execution_count": null,
   "metadata": {
    "ExecuteTime": {
     "end_time": "2020-09-17T08:01:31.117580Z",
     "start_time": "2020-09-17T08:01:30.995485Z"
    }
   },
   "outputs": [],
   "source": [
    "list_of_polynomials = []\n",
    "\n",
    "if interpretation_dataset_size/((a_max-a_min)*10**int(-np.log10(a_step)))**(nCr(n+d, d)) <= 10e-4:\n",
    "    while len(list_of_polynomials) < interpretation_dataset_size:\n",
    "        random_polynomial = list(random_product([i*a_step for i in range(int(a_min*10**int(-np.log10(a_step))), int(a_max*10**int(-np.log10(a_step))))], repeat=nCr(n+d, d)))\n",
    "        if random_polynomial not in list_of_polynomials:\n",
    "            list_of_polynomials.append(random_polynomial)\n",
    "else:\n",
    "    all_polynomials_list = list(product([i*a_step for i in range(int(a_min*10**int(-np.log10(a_step))), int(a_max*10**int(-np.log10(a_step))))], repeat=nCr(n+d, d)))\n",
    "    list_of_polynomials = [all_polynomials_list[i] for i in np.random.choice(len(all_polynomials_list), interpretation_dataset_size, replace=False)]\n",
    "    del all_polynomials_list\n",
    "\n",
    "for polynomial in tqdm(list_of_polynomials):\n",
    "    sparsity_indices = np.random.choice(nCr(n+d, d), nCr(n+d, d)-sparsity, replace=False)\n",
    "    for sparsity_index in sparsity_indices:                            \n",
    "        polynomial[sparsity_index] = 0\n",
    "                                \n",
    "polynomials_list_df = pd.DataFrame(data=list_of_polynomials, columns=list_of_monomial_identifiers)\n",
    "\n",
    "    \n",
    "print(len(list_of_monomial_identifiers))\n",
    "print(polynomials_list_df.shape)"
   ]
  },
  {
   "cell_type": "code",
   "execution_count": null,
   "metadata": {
    "ExecuteTime": {
     "end_time": "2020-09-17T08:01:31.403306Z",
     "start_time": "2020-09-17T08:01:31.120230Z"
    }
   },
   "outputs": [],
   "source": [
    "polynomials_list_df.head()"
   ]
  },
  {
   "cell_type": "code",
   "execution_count": null,
   "metadata": {
    "ExecuteTime": {
     "end_time": "2020-09-17T08:01:37.188767Z",
     "start_time": "2020-09-17T08:01:31.406087Z"
    }
   },
   "outputs": [],
   "source": [
    "if same_training_all_polynomials:\n",
    "    x_values_list = []\n",
    "    for i in tqdm(range(lambda_dataset_size)):\n",
    "        values = np.round(np.array(random_product(np.arange(x_min, x_max, x_step), repeat=n)), int(-np.log10(x_step)))\n",
    "        while arreq_in_list(values, x_values_list):\n",
    "                values = np.round(np.array(random_product(np.arange(x_min, x_max, x_step), repeat=n)), int(-np.log10(x_step)))         \n",
    "        x_values_list.append(values)\n",
    "\n"
   ]
  },
  {
   "cell_type": "code",
   "execution_count": null,
   "metadata": {
    "ExecuteTime": {
     "end_time": "2020-09-17T08:01:37.446975Z",
     "start_time": "2020-09-17T08:01:37.191176Z"
    }
   },
   "outputs": [],
   "source": [
    "x_values_list"
   ]
  },
  {
   "cell_type": "code",
   "execution_count": null,
   "metadata": {
    "ExecuteTime": {
     "end_time": "2020-09-17T08:01:37.454040Z",
     "start_time": "2020-09-17T08:01:37.449016Z"
    }
   },
   "outputs": [],
   "source": [
    "polynomials_list_df.shape"
   ]
  },
  {
   "cell_type": "code",
   "execution_count": null,
   "metadata": {
    "ExecuteTime": {
     "end_time": "2020-09-17T08:01:37.467864Z",
     "start_time": "2020-09-17T08:01:37.456382Z"
    }
   },
   "outputs": [],
   "source": [
    "from functools import reduce\n",
    "\n",
    "def calcualate_function_with_data(coefficient_list, variable_values):\n",
    "    \n",
    "    result = 0    \n",
    "    for coefficient_value, coefficient_multipliers in zip(coefficient_list, list_of_monomial_identifiers):\n",
    "        partial_results = [variable_value**int(coefficient_multiplier) for coefficient_multiplier, variable_value in zip(coefficient_multipliers, variable_values)]\n",
    "        \n",
    "        result += coefficient_value * reduce(lambda x, y: x*y, partial_results)\n",
    "\n",
    "    return result, variable_values\n",
    " \n",
    "def calculate_function_values_from_polynomial(true_value_test, evaluation_dataset):\n",
    "\n",
    "    #print('method_call')\n",
    "\n",
    "    if isinstance(true_value_test, pd.DataFrame):\n",
    "        true_value_test = true_value_test.values\n",
    "        \n",
    "    true_value_fv = []\n",
    "    true_value_coeff = []\n",
    "    \n",
    "    #print('start_loop')\n",
    "    \n",
    "    for evaluation in evaluation_dataset:\n",
    "        true_function_value, true_coeff = calcualate_function_with_data(true_value_test, evaluation)\n",
    "       \n",
    "        true_value_fv.append(true_function_value) \n",
    "        true_value_coeff.append(true_coeff)\n",
    "\n",
    "\n",
    "    #print('end_loop')\n",
    "        \n",
    "    return [true_value_test, pd.DataFrame(np.array(true_value_coeff))], [true_value_test, pd.DataFrame(np.array(true_value_fv))]\n"
   ]
  },
  {
   "cell_type": "code",
   "execution_count": null,
   "metadata": {
    "ExecuteTime": {
     "end_time": "2020-09-17T08:02:02.082116Z",
     "start_time": "2020-09-17T08:01:37.469989Z"
    }
   },
   "outputs": [],
   "source": [
    "result_list = []\n",
    "\n",
    "polynomials_X_data_list = []\n",
    "polynomials_y_data_list = []\n",
    "    \n",
    "chunks = max(interpretation_dataset_size//1000, 1)\n",
    "\n",
    "for polynomials_list_df_chunk in tqdm(np.array_split(polynomials_list_df, chunks), total=chunks):\n",
    "    parallel = Parallel(n_jobs=n_jobs, verbose=3, backend='loky')\n",
    "    result_sublist = parallel(delayed(calculate_function_values_from_polynomial)(polynomial, x_values_list) for iterator, polynomial in polynomials_list_df_chunk.iterrows())  \n",
    "    result_list.extend(result_sublist)\n",
    "    del parallel\n",
    "\n",
    "polynomials_X_data_list = [result[0] for result in result_list]\n",
    "polynomials_y_data_list = [result[1] for result in result_list]\n"
   ]
  },
  {
   "cell_type": "code",
   "execution_count": null,
   "metadata": {
    "ExecuteTime": {
     "end_time": "2020-09-17T08:02:02.096210Z",
     "start_time": "2020-09-17T08:02:02.086216Z"
    }
   },
   "outputs": [],
   "source": [
    "polynomials_X_data_list[0][0].head()"
   ]
  },
  {
   "cell_type": "code",
   "execution_count": null,
   "metadata": {
    "ExecuteTime": {
     "end_time": "2020-09-17T08:02:02.116275Z",
     "start_time": "2020-09-17T08:02:02.098179Z"
    }
   },
   "outputs": [],
   "source": [
    "polynomials_X_data_list[0][1].head()"
   ]
  },
  {
   "cell_type": "code",
   "execution_count": null,
   "metadata": {
    "ExecuteTime": {
     "end_time": "2020-09-17T08:02:02.124301Z",
     "start_time": "2020-09-17T08:02:02.118441Z"
    }
   },
   "outputs": [],
   "source": [
    "polynomials_y_data_list[0][0].values"
   ]
  },
  {
   "cell_type": "code",
   "execution_count": null,
   "metadata": {
    "ExecuteTime": {
     "end_time": "2020-09-17T08:02:02.133522Z",
     "start_time": "2020-09-17T08:02:02.127097Z"
    }
   },
   "outputs": [],
   "source": [
    "polynomials_y_data_list[0][0].head()"
   ]
  },
  {
   "cell_type": "code",
   "execution_count": null,
   "metadata": {
    "ExecuteTime": {
     "end_time": "2020-09-17T08:02:02.144488Z",
     "start_time": "2020-09-17T08:02:02.135819Z"
    }
   },
   "outputs": [],
   "source": [
    "polynomials_y_data_list[0][1].head()"
   ]
  },
  {
   "cell_type": "code",
   "execution_count": null,
   "metadata": {
    "ExecuteTime": {
     "end_time": "2020-09-17T08:02:02.637879Z",
     "start_time": "2020-09-17T08:02:02.146717Z"
    }
   },
   "outputs": [],
   "source": [
    "path_polynomials = './data/saved_polynomial_lists/polynomials_sample' + str(interpretation_dataset_size) + '_variables_' + str(n) +  '_degree_' + str(d) + '_sparsity_' + str(sparsity) + '_astep_' + str(a_step)  + '_amin_' + str(a_min) + '_amax_' + str(a_max) + '.csv'\n",
    "polynomials_list_df.to_csv(path_polynomials, index=False)\n",
    "\n",
    "path_X_data = './data/saved_polynomial_lists/X_sample' + str(interpretation_dataset_size) + '_train_' + str(lambda_dataset_size) + '_variables_' + str(n) + '_degree_' + str(d) + '_sparsity_' + str(sparsity) + '_astep_' + str(a_step) + '_amin_' + str(a_min) + '_amax_' + str(a_max) + '_xstep_' + str(x_step) + '_xmin_' + str(x_min) + '_xmax_' + str(x_max) + training_string + '.pkl'\n",
    "with open(path_X_data, 'wb') as f:\n",
    "    pickle.dump(polynomials_X_data_list, f)#, protocol=2)\n",
    "    \n",
    "path_y_data = './data/saved_polynomial_lists/y_sample' + str(interpretation_dataset_size) + '_train_' + str(lambda_dataset_size) + '_variables_' + str(n) + '_degree_' + str(d) + '_sparsity_' + str(sparsity) + '_astep_' + str(a_step) + '_amin_' + str(a_min) + '_amax_' + str(a_max) + '_xstep_' + str(x_step) + '_xmin_' + str(x_min) + '_xmax_' + str(x_max) + training_string + '.pkl'\n",
    "with open(path_y_data, 'wb') as f:\n",
    "    pickle.dump(polynomials_y_data_list, f)#, protocol=2)\n"
   ]
  },
  {
   "cell_type": "code",
   "execution_count": null,
   "metadata": {},
   "outputs": [],
   "source": []
  },
  {
   "cell_type": "code",
   "execution_count": null,
   "metadata": {},
   "outputs": [],
   "source": []
  }
 ],
 "metadata": {
  "kernelspec": {
   "display_name": "Python 3",
   "language": "python",
   "name": "python3"
  },
  "language_info": {
   "codemirror_mode": {
    "name": "ipython",
    "version": 3
   },
   "file_extension": ".py",
   "mimetype": "text/x-python",
   "name": "python",
   "nbconvert_exporter": "python",
   "pygments_lexer": "ipython3",
   "version": "3.8.3"
  }
 },
 "nbformat": 4,
 "nbformat_minor": 2
}
