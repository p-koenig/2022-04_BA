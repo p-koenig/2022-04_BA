{
 "cells": [
  {
   "cell_type": "code",
   "execution_count": 1,
   "metadata": {},
   "outputs": [],
   "source": [
    "import joblib\n",
    "import math\n",
    "import numpy as np\n",
    "import pandas as pd\n",
    "import matplotlib.pyplot as plt\n",
    "from tqdm import tqdm"
   ]
  },
  {
   "cell_type": "code",
   "execution_count": 2,
   "metadata": {},
   "outputs": [],
   "source": [
    "np.random.seed(42)"
   ]
  },
  {
   "cell_type": "markdown",
   "metadata": {},
   "source": [
    "## Load Histograms and Data Statistics"
   ]
  },
  {
   "cell_type": "code",
   "execution_count": 3,
   "metadata": {},
   "outputs": [],
   "source": [
    "with open(\"summarizing_statistics.pkl\", 'rb') as f:\n",
    "    summarizing_statistics = joblib.load(f)"
   ]
  },
  {
   "cell_type": "code",
   "execution_count": 4,
   "metadata": {},
   "outputs": [
    {
     "data": {
      "text/html": [
       "<div>\n",
       "<style scoped>\n",
       "    .dataframe tbody tr th:only-of-type {\n",
       "        vertical-align: middle;\n",
       "    }\n",
       "\n",
       "    .dataframe tbody tr th {\n",
       "        vertical-align: top;\n",
       "    }\n",
       "\n",
       "    .dataframe thead th {\n",
       "        text-align: right;\n",
       "    }\n",
       "</style>\n",
       "<table border=\"1\" class=\"dataframe\">\n",
       "  <thead>\n",
       "    <tr style=\"text-align: right;\">\n",
       "      <th></th>\n",
       "      <th>number_of_datapoints</th>\n",
       "      <th>energy_norm_log_mean</th>\n",
       "      <th>temperature_diff_mean</th>\n",
       "      <th>rms_norm_log_mean</th>\n",
       "      <th>details_ratedhead_mean</th>\n",
       "      <th>energy_norm_log_min</th>\n",
       "      <th>temperature_diff_min</th>\n",
       "      <th>rms_norm_log_min</th>\n",
       "      <th>details_ratedhead_min</th>\n",
       "      <th>energy_norm_log_max</th>\n",
       "      <th>temperature_diff_max</th>\n",
       "      <th>rms_norm_log_max</th>\n",
       "      <th>details_ratedhead_max</th>\n",
       "      <th>Covariance_matrix</th>\n",
       "    </tr>\n",
       "  </thead>\n",
       "  <tbody>\n",
       "    <tr>\n",
       "      <th>on</th>\n",
       "      <td>9680213</td>\n",
       "      <td>1.861944</td>\n",
       "      <td>9.513191</td>\n",
       "      <td>0.730331</td>\n",
       "      <td>105.323685</td>\n",
       "      <td>-5.914482</td>\n",
       "      <td>-24.0</td>\n",
       "      <td>-3.043901</td>\n",
       "      <td>-1.0</td>\n",
       "      <td>9.212087</td>\n",
       "      <td>110.625</td>\n",
       "      <td>6.308744</td>\n",
       "      <td>2403.0</td>\n",
       "      <td>[[4.054988675775044, 1.6181932043448362, 1.438...</td>\n",
       "    </tr>\n",
       "    <tr>\n",
       "      <th>off</th>\n",
       "      <td>16775063</td>\n",
       "      <td>-3.226129</td>\n",
       "      <td>1.274514</td>\n",
       "      <td>-1.542884</td>\n",
       "      <td>89.319163</td>\n",
       "      <td>-10.605203</td>\n",
       "      <td>-38.875</td>\n",
       "      <td>-4.430309</td>\n",
       "      <td>-1.0</td>\n",
       "      <td>7.588837</td>\n",
       "      <td>109.140903</td>\n",
       "      <td>4.13824</td>\n",
       "      <td>2403.0</td>\n",
       "      <td>[[1.5394827351582467, 0.21880415026212985, 0.7...</td>\n",
       "    </tr>\n",
       "    <tr>\n",
       "      <th>all</th>\n",
       "      <td>26455276</td>\n",
       "      <td>-1.36436</td>\n",
       "      <td>4.289117</td>\n",
       "      <td>-0.711095</td>\n",
       "      <td>95.175355</td>\n",
       "      <td>-10.605203</td>\n",
       "      <td>-38.875</td>\n",
       "      <td>-4.430309</td>\n",
       "      <td>-1.0</td>\n",
       "      <td>9.212087</td>\n",
       "      <td>110.625</td>\n",
       "      <td>6.308744</td>\n",
       "      <td>2403.0</td>\n",
       "      <td>[[8.466562429846425, 10.45687699516861, 3.7031...</td>\n",
       "    </tr>\n",
       "  </tbody>\n",
       "</table>\n",
       "</div>"
      ],
      "text/plain": [
       "    number_of_datapoints energy_norm_log_mean temperature_diff_mean  \\\n",
       "on               9680213             1.861944              9.513191   \n",
       "off             16775063            -3.226129              1.274514   \n",
       "all             26455276             -1.36436              4.289117   \n",
       "\n",
       "    rms_norm_log_mean details_ratedhead_mean energy_norm_log_min  \\\n",
       "on           0.730331             105.323685           -5.914482   \n",
       "off         -1.542884              89.319163          -10.605203   \n",
       "all         -0.711095              95.175355          -10.605203   \n",
       "\n",
       "    temperature_diff_min rms_norm_log_min details_ratedhead_min  \\\n",
       "on                 -24.0        -3.043901                  -1.0   \n",
       "off              -38.875        -4.430309                  -1.0   \n",
       "all              -38.875        -4.430309                  -1.0   \n",
       "\n",
       "    energy_norm_log_max temperature_diff_max rms_norm_log_max  \\\n",
       "on             9.212087              110.625         6.308744   \n",
       "off            7.588837           109.140903          4.13824   \n",
       "all            9.212087              110.625         6.308744   \n",
       "\n",
       "    details_ratedhead_max                                  Covariance_matrix  \n",
       "on                 2403.0  [[4.054988675775044, 1.6181932043448362, 1.438...  \n",
       "off                2403.0  [[1.5394827351582467, 0.21880415026212985, 0.7...  \n",
       "all                2403.0  [[8.466562429846425, 10.45687699516861, 3.7031...  "
      ]
     },
     "execution_count": 4,
     "metadata": {},
     "output_type": "execute_result"
    }
   ],
   "source": [
    "summarizing_statistics"
   ]
  },
  {
   "cell_type": "code",
   "execution_count": 5,
   "metadata": {},
   "outputs": [],
   "source": [
    "with open(\"hist_on.pkl\", 'rb') as f:\n",
    "    hist_on = joblib.load(f)"
   ]
  },
  {
   "cell_type": "code",
   "execution_count": 6,
   "metadata": {},
   "outputs": [],
   "source": [
    "with open(\"hist_off.pkl\", 'rb') as f:\n",
    "    hist_off = joblib.load(f)"
   ]
  },
  {
   "cell_type": "code",
   "execution_count": 7,
   "metadata": {},
   "outputs": [
    {
     "name": "stdout",
     "output_type": "stream",
     "text": [
      "Total ON: 9639507\n"
     ]
    }
   ],
   "source": [
    "print('Total ON:',sum(hist_on.reshape(1,-1)[0]))"
   ]
  },
  {
   "cell_type": "code",
   "execution_count": 8,
   "metadata": {},
   "outputs": [
    {
     "name": "stdout",
     "output_type": "stream",
     "text": [
      "Total OFF: 16741535\n"
     ]
    }
   ],
   "source": [
    "print('Total OFF:',sum(hist_off.reshape(1,-1)[0]))\n"
   ]
  },
  {
   "cell_type": "markdown",
   "metadata": {},
   "source": [
    "# Reproducing Dataframe from Information"
   ]
  },
  {
   "cell_type": "code",
   "execution_count": 9,
   "metadata": {},
   "outputs": [],
   "source": [
    "'''\n",
    "Function that converts the 4-dimensional histogram into a dataframe according\n",
    "to the information given by the summarizing statistics\n",
    "'''\n",
    "def histogram_to_dataframe(hist, state, statistics, sample_size=1):\n",
    "    \n",
    "    #Get all statistics for all features from summary\n",
    "    energy_min = statistics['energy_norm_log_min']\n",
    "    energy_max = statistics['energy_norm_log_max']\n",
    "    energy_range = energy_max - energy_min\n",
    "    energy_bins = np.linspace(energy_min, energy_max, num=20)\n",
    "    energy_bin_size = energy_range/19\n",
    "    \n",
    "    temp_min = statistics['temperature_diff_min']\n",
    "    temp_max = statistics['temperature_diff_max']\n",
    "    temp_range = temp_max - temp_min\n",
    "    temp_bins = np.linspace(temp_min, temp_max, num=20)\n",
    "    temp_bin_size = temp_range/19\n",
    "    \n",
    "    rms_min = statistics['rms_norm_log_min']\n",
    "    rms_max = statistics['rms_norm_log_max']\n",
    "    rms_range = rms_max - rms_min\n",
    "    rms_bins = np.linspace(rms_min, rms_max, num=20)\n",
    "    rms_bin_size = rms_range/19\n",
    "    \n",
    "    details_min = statistics['details_ratedhead_min']\n",
    "    #correcting manual error\n",
    "    details_min = 0\n",
    "    details_max = statistics['details_ratedhead_max']\n",
    "    details_range = details_max - details_min\n",
    "    details_bins = np.linspace(details_min, details_max, num=20)\n",
    "    details_bin_size = details_range/19\n",
    "    \n",
    "    #Iterate through every bin and reproduce observations based on the bin features\n",
    "    vstacked = np.empty([0, 4])\n",
    "    for i,_ in enumerate(tqdm(hist)):\n",
    "        for j in range(len(hist[i])):\n",
    "            for k in range(len(hist[i][j])):\n",
    "                for l in range(len(hist[i][j][k])):\n",
    "                    amount = math.ceil(hist[i][j][k][l]*sample_size)\n",
    "                    if amount != 0:\n",
    "                        d = np.random.uniform(low=details_bins[i], high=details_bins[i]+details_bin_size, size=(amount,))\n",
    "                        r = np.random.uniform(low=rms_bins[j], high=rms_bins[j]+rms_bin_size, size=(amount,))\n",
    "                        t = np.random.uniform(low=temp_bins[k], high=temp_bins[k]+temp_bin_size, size=(amount,))\n",
    "                        e = np.random.uniform(low=energy_bins[l], high=energy_bins[l]+energy_bin_size, size=(amount,))\n",
    "                        dstacked = np.dstack((e,t,r,d))[0]\n",
    "                        vstacked = np.vstack((vstacked,dstacked))\n",
    "    #Generating dataframe                    \n",
    "    rep_df = pd.DataFrame(data=vstacked, columns=['energy_norm_log','temperature_diff','rms_norm_log','details_ratedhead'])\n",
    "    #Adding target class\n",
    "    rep_df['state'] = state\n",
    "\n",
    "    return rep_df"
   ]
  },
  {
   "cell_type": "markdown",
   "metadata": {},
   "source": [
    "### Generating ON Dataframe with target variable 'state' = 1"
   ]
  },
  {
   "cell_type": "code",
   "execution_count": 10,
   "metadata": {},
   "outputs": [
    {
     "name": "stderr",
     "output_type": "stream",
     "text": [
      "100%|██████████| 20/20 [18:23<00:00, 55.18s/it]  \n"
     ]
    }
   ],
   "source": [
    "rep_df_on = histogram_to_dataframe(hist=hist_on,\n",
    "                                   state=1, \n",
    "                                   statistics=summarizing_statistics.loc['on'],\n",
    "                                   sample_size=1)"
   ]
  },
  {
   "cell_type": "code",
   "execution_count": 11,
   "metadata": {},
   "outputs": [
    {
     "data": {
      "text/html": [
       "<div>\n",
       "<style scoped>\n",
       "    .dataframe tbody tr th:only-of-type {\n",
       "        vertical-align: middle;\n",
       "    }\n",
       "\n",
       "    .dataframe tbody tr th {\n",
       "        vertical-align: top;\n",
       "    }\n",
       "\n",
       "    .dataframe thead th {\n",
       "        text-align: right;\n",
       "    }\n",
       "</style>\n",
       "<table border=\"1\" class=\"dataframe\">\n",
       "  <thead>\n",
       "    <tr style=\"text-align: right;\">\n",
       "      <th></th>\n",
       "      <th>energy_norm_log</th>\n",
       "      <th>temperature_diff</th>\n",
       "      <th>rms_norm_log</th>\n",
       "      <th>details_ratedhead</th>\n",
       "      <th>state</th>\n",
       "    </tr>\n",
       "  </thead>\n",
       "  <tbody>\n",
       "    <tr>\n",
       "      <th>9639502</th>\n",
       "      <td>5.501651</td>\n",
       "      <td>27.471074</td>\n",
       "      <td>2.769536</td>\n",
       "      <td>2285.678793</td>\n",
       "      <td>1</td>\n",
       "    </tr>\n",
       "    <tr>\n",
       "      <th>9639503</th>\n",
       "      <td>6.659067</td>\n",
       "      <td>26.489316</td>\n",
       "      <td>2.671852</td>\n",
       "      <td>2357.845701</td>\n",
       "      <td>1</td>\n",
       "    </tr>\n",
       "    <tr>\n",
       "      <th>9639504</th>\n",
       "      <td>6.599858</td>\n",
       "      <td>25.797360</td>\n",
       "      <td>2.751762</td>\n",
       "      <td>2296.876701</td>\n",
       "      <td>1</td>\n",
       "    </tr>\n",
       "    <tr>\n",
       "      <th>9639505</th>\n",
       "      <td>7.533769</td>\n",
       "      <td>27.685310</td>\n",
       "      <td>2.489246</td>\n",
       "      <td>2360.028877</td>\n",
       "      <td>1</td>\n",
       "    </tr>\n",
       "    <tr>\n",
       "      <th>9639506</th>\n",
       "      <td>6.948340</td>\n",
       "      <td>27.085487</td>\n",
       "      <td>2.645789</td>\n",
       "      <td>2330.863101</td>\n",
       "      <td>1</td>\n",
       "    </tr>\n",
       "  </tbody>\n",
       "</table>\n",
       "</div>"
      ],
      "text/plain": [
       "         energy_norm_log  temperature_diff  rms_norm_log  details_ratedhead  \\\n",
       "9639502         5.501651         27.471074      2.769536        2285.678793   \n",
       "9639503         6.659067         26.489316      2.671852        2357.845701   \n",
       "9639504         6.599858         25.797360      2.751762        2296.876701   \n",
       "9639505         7.533769         27.685310      2.489246        2360.028877   \n",
       "9639506         6.948340         27.085487      2.645789        2330.863101   \n",
       "\n",
       "         state  \n",
       "9639502      1  \n",
       "9639503      1  \n",
       "9639504      1  \n",
       "9639505      1  \n",
       "9639506      1  "
      ]
     },
     "execution_count": 11,
     "metadata": {},
     "output_type": "execute_result"
    }
   ],
   "source": [
    "rep_df_on.tail()"
   ]
  },
  {
   "cell_type": "markdown",
   "metadata": {},
   "source": [
    "### Generating OFF Dataframe with target variable 'state' = 0"
   ]
  },
  {
   "cell_type": "code",
   "execution_count": 12,
   "metadata": {},
   "outputs": [
    {
     "name": "stderr",
     "output_type": "stream",
     "text": [
      "100%|██████████| 20/20 [22:07<00:00, 66.39s/it]  \n"
     ]
    }
   ],
   "source": [
    "rep_df_off = histogram_to_dataframe(hist=hist_off,\n",
    "                                   state=0, \n",
    "                                   statistics=summarizing_statistics.loc['off'],\n",
    "                                   sample_size=1)"
   ]
  },
  {
   "cell_type": "code",
   "execution_count": 13,
   "metadata": {},
   "outputs": [
    {
     "data": {
      "text/html": [
       "<div>\n",
       "<style scoped>\n",
       "    .dataframe tbody tr th:only-of-type {\n",
       "        vertical-align: middle;\n",
       "    }\n",
       "\n",
       "    .dataframe tbody tr th {\n",
       "        vertical-align: top;\n",
       "    }\n",
       "\n",
       "    .dataframe thead th {\n",
       "        text-align: right;\n",
       "    }\n",
       "</style>\n",
       "<table border=\"1\" class=\"dataframe\">\n",
       "  <thead>\n",
       "    <tr style=\"text-align: right;\">\n",
       "      <th></th>\n",
       "      <th>energy_norm_log</th>\n",
       "      <th>temperature_diff</th>\n",
       "      <th>rms_norm_log</th>\n",
       "      <th>details_ratedhead</th>\n",
       "      <th>state</th>\n",
       "    </tr>\n",
       "  </thead>\n",
       "  <tbody>\n",
       "    <tr>\n",
       "      <th>16741530</th>\n",
       "      <td>0.567341</td>\n",
       "      <td>12.729554</td>\n",
       "      <td>0.389305</td>\n",
       "      <td>2352.448451</td>\n",
       "      <td>0</td>\n",
       "    </tr>\n",
       "    <tr>\n",
       "      <th>16741531</th>\n",
       "      <td>0.697266</td>\n",
       "      <td>15.512378</td>\n",
       "      <td>0.401187</td>\n",
       "      <td>2342.521420</td>\n",
       "      <td>0</td>\n",
       "    </tr>\n",
       "    <tr>\n",
       "      <th>16741532</th>\n",
       "      <td>0.506165</td>\n",
       "      <td>13.016070</td>\n",
       "      <td>0.488330</td>\n",
       "      <td>2342.573551</td>\n",
       "      <td>0</td>\n",
       "    </tr>\n",
       "    <tr>\n",
       "      <th>16741533</th>\n",
       "      <td>0.239738</td>\n",
       "      <td>16.250362</td>\n",
       "      <td>0.528561</td>\n",
       "      <td>2294.064855</td>\n",
       "      <td>0</td>\n",
       "    </tr>\n",
       "    <tr>\n",
       "      <th>16741534</th>\n",
       "      <td>2.889961</td>\n",
       "      <td>3.373439</td>\n",
       "      <td>1.289795</td>\n",
       "      <td>2392.374640</td>\n",
       "      <td>0</td>\n",
       "    </tr>\n",
       "  </tbody>\n",
       "</table>\n",
       "</div>"
      ],
      "text/plain": [
       "          energy_norm_log  temperature_diff  rms_norm_log  details_ratedhead  \\\n",
       "16741530         0.567341         12.729554      0.389305        2352.448451   \n",
       "16741531         0.697266         15.512378      0.401187        2342.521420   \n",
       "16741532         0.506165         13.016070      0.488330        2342.573551   \n",
       "16741533         0.239738         16.250362      0.528561        2294.064855   \n",
       "16741534         2.889961          3.373439      1.289795        2392.374640   \n",
       "\n",
       "          state  \n",
       "16741530      0  \n",
       "16741531      0  \n",
       "16741532      0  \n",
       "16741533      0  \n",
       "16741534      0  "
      ]
     },
     "execution_count": 13,
     "metadata": {},
     "output_type": "execute_result"
    }
   ],
   "source": [
    "rep_df_off.tail()"
   ]
  },
  {
   "cell_type": "markdown",
   "metadata": {},
   "source": [
    "### Merging new Dataframes and generating statistics"
   ]
  },
  {
   "cell_type": "code",
   "execution_count": 20,
   "metadata": {},
   "outputs": [
    {
     "data": {
      "text/html": [
       "<div>\n",
       "<style scoped>\n",
       "    .dataframe tbody tr th:only-of-type {\n",
       "        vertical-align: middle;\n",
       "    }\n",
       "\n",
       "    .dataframe tbody tr th {\n",
       "        vertical-align: top;\n",
       "    }\n",
       "\n",
       "    .dataframe thead th {\n",
       "        text-align: right;\n",
       "    }\n",
       "</style>\n",
       "<table border=\"1\" class=\"dataframe\">\n",
       "  <thead>\n",
       "    <tr style=\"text-align: right;\">\n",
       "      <th></th>\n",
       "      <th>energy_norm_log</th>\n",
       "      <th>temperature_diff</th>\n",
       "      <th>rms_norm_log</th>\n",
       "      <th>details_ratedhead</th>\n",
       "      <th>state</th>\n",
       "    </tr>\n",
       "  </thead>\n",
       "  <tbody>\n",
       "    <tr>\n",
       "      <th>0</th>\n",
       "      <td>-4.642337</td>\n",
       "      <td>-0.585072</td>\n",
       "      <td>-2.831278</td>\n",
       "      <td>47.369469</td>\n",
       "      <td>1</td>\n",
       "    </tr>\n",
       "    <tr>\n",
       "      <th>1</th>\n",
       "      <td>-4.384410</td>\n",
       "      <td>-2.051363</td>\n",
       "      <td>-2.900545</td>\n",
       "      <td>120.240341</td>\n",
       "      <td>1</td>\n",
       "    </tr>\n",
       "    <tr>\n",
       "      <th>2</th>\n",
       "      <td>-5.047895</td>\n",
       "      <td>2.104730</td>\n",
       "      <td>-2.742720</td>\n",
       "      <td>92.577971</td>\n",
       "      <td>1</td>\n",
       "    </tr>\n",
       "    <tr>\n",
       "      <th>3</th>\n",
       "      <td>-4.962318</td>\n",
       "      <td>0.375291</td>\n",
       "      <td>-2.975236</td>\n",
       "      <td>75.714544</td>\n",
       "      <td>1</td>\n",
       "    </tr>\n",
       "    <tr>\n",
       "      <th>4</th>\n",
       "      <td>-5.082340</td>\n",
       "      <td>-1.878716</td>\n",
       "      <td>-2.900094</td>\n",
       "      <td>19.732252</td>\n",
       "      <td>1</td>\n",
       "    </tr>\n",
       "  </tbody>\n",
       "</table>\n",
       "</div>"
      ],
      "text/plain": [
       "   energy_norm_log  temperature_diff  rms_norm_log  details_ratedhead  state\n",
       "0        -4.642337         -0.585072     -2.831278          47.369469      1\n",
       "1        -4.384410         -2.051363     -2.900545         120.240341      1\n",
       "2        -5.047895          2.104730     -2.742720          92.577971      1\n",
       "3        -4.962318          0.375291     -2.975236          75.714544      1\n",
       "4        -5.082340         -1.878716     -2.900094          19.732252      1"
      ]
     },
     "execution_count": 20,
     "metadata": {},
     "output_type": "execute_result"
    }
   ],
   "source": [
    "rep_df_all = pd.concat([rep_df_on, rep_df_off], ignore_index=True)\n",
    "rep_df_all.head()"
   ]
  },
  {
   "cell_type": "code",
   "execution_count": 28,
   "metadata": {},
   "outputs": [],
   "source": [
    "def generate_statistics(df, state=None):\n",
    "    if state == 0:\n",
    "        label = 'off_replica'\n",
    "    elif state == 1:\n",
    "        label = 'on_replica'\n",
    "    else:\n",
    "        label = 'all_replica'\n",
    "\n",
    "    statistics = pd.DataFrame([[label,\n",
    "                    len(df),\n",
    "                    df['energy_norm_log'].mean(),\n",
    "                    df['temperature_diff'].mean(),\n",
    "                    df['rms_norm_log'].mean(),\n",
    "                    df['details_ratedhead'].mean(),\n",
    "                    df['energy_norm_log'].min(),\n",
    "                    df['temperature_diff'].min(),\n",
    "                    df['rms_norm_log'].min(),\n",
    "                    df['details_ratedhead'].min(),\n",
    "                    df['energy_norm_log'].max(),\n",
    "                    df['temperature_diff'].max(),\n",
    "                    df['rms_norm_log'].max(),\n",
    "                    df['details_ratedhead'].max(),\n",
    "                    df.cov().values]],\n",
    "                    columns=summarizing_statistics.columns.insert(0,'label')).set_index('label')\n",
    "    return statistics"
   ]
  },
  {
   "cell_type": "code",
   "execution_count": 29,
   "metadata": {},
   "outputs": [],
   "source": [
    "replica_statistics_on = generate_statistics(rep_df_on, state=1)"
   ]
  },
  {
   "cell_type": "code",
   "execution_count": 30,
   "metadata": {},
   "outputs": [],
   "source": [
    "replica_statistics_off = generate_statistics(rep_df_off, state=0)"
   ]
  },
  {
   "cell_type": "code",
   "execution_count": 31,
   "metadata": {},
   "outputs": [],
   "source": [
    "replica_statistics_all = generate_statistics(rep_df_all, state=None)"
   ]
  },
  {
   "cell_type": "code",
   "execution_count": 33,
   "metadata": {},
   "outputs": [
    {
     "data": {
      "text/html": [
       "<div>\n",
       "<style scoped>\n",
       "    .dataframe tbody tr th:only-of-type {\n",
       "        vertical-align: middle;\n",
       "    }\n",
       "\n",
       "    .dataframe tbody tr th {\n",
       "        vertical-align: top;\n",
       "    }\n",
       "\n",
       "    .dataframe thead th {\n",
       "        text-align: right;\n",
       "    }\n",
       "</style>\n",
       "<table border=\"1\" class=\"dataframe\">\n",
       "  <thead>\n",
       "    <tr style=\"text-align: right;\">\n",
       "      <th></th>\n",
       "      <th>number_of_datapoints</th>\n",
       "      <th>energy_norm_log_mean</th>\n",
       "      <th>temperature_diff_mean</th>\n",
       "      <th>rms_norm_log_mean</th>\n",
       "      <th>details_ratedhead_mean</th>\n",
       "      <th>energy_norm_log_min</th>\n",
       "      <th>temperature_diff_min</th>\n",
       "      <th>rms_norm_log_min</th>\n",
       "      <th>details_ratedhead_min</th>\n",
       "      <th>energy_norm_log_max</th>\n",
       "      <th>temperature_diff_max</th>\n",
       "      <th>rms_norm_log_max</th>\n",
       "      <th>details_ratedhead_max</th>\n",
       "      <th>Covariance_matrix</th>\n",
       "    </tr>\n",
       "  </thead>\n",
       "  <tbody>\n",
       "    <tr>\n",
       "      <th>on</th>\n",
       "      <td>9680213</td>\n",
       "      <td>1.861944</td>\n",
       "      <td>9.513191</td>\n",
       "      <td>0.730331</td>\n",
       "      <td>105.323685</td>\n",
       "      <td>-5.914482</td>\n",
       "      <td>-24.0</td>\n",
       "      <td>-3.043901</td>\n",
       "      <td>-1.0</td>\n",
       "      <td>9.212087</td>\n",
       "      <td>110.625</td>\n",
       "      <td>6.308744</td>\n",
       "      <td>2403.0</td>\n",
       "      <td>[[4.054988675775044, 1.6181932043448362, 1.438...</td>\n",
       "    </tr>\n",
       "    <tr>\n",
       "      <th>on_replica</th>\n",
       "      <td>9639507</td>\n",
       "      <td>2.262454</td>\n",
       "      <td>11.145556</td>\n",
       "      <td>0.925975</td>\n",
       "      <td>118.743587</td>\n",
       "      <td>-5.843427</td>\n",
       "      <td>-23.977141</td>\n",
       "      <td>-3.021036</td>\n",
       "      <td>0.000006</td>\n",
       "      <td>10.007755</td>\n",
       "      <td>117.621411</td>\n",
       "      <td>6.767623</td>\n",
       "      <td>2402.992395</td>\n",
       "      <td>[[4.600377879653974, 1.66251134457744, 1.59768...</td>\n",
       "    </tr>\n",
       "    <tr>\n",
       "      <th>off</th>\n",
       "      <td>16775063</td>\n",
       "      <td>-3.226129</td>\n",
       "      <td>1.274514</td>\n",
       "      <td>-1.542884</td>\n",
       "      <td>89.319163</td>\n",
       "      <td>-10.605203</td>\n",
       "      <td>-38.875</td>\n",
       "      <td>-4.430309</td>\n",
       "      <td>-1.0</td>\n",
       "      <td>7.588837</td>\n",
       "      <td>109.140903</td>\n",
       "      <td>4.13824</td>\n",
       "      <td>2403.0</td>\n",
       "      <td>[[1.5394827351582467, 0.21880415026212985, 0.7...</td>\n",
       "    </tr>\n",
       "    <tr>\n",
       "      <th>off_replica</th>\n",
       "      <td>16741535</td>\n",
       "      <td>-2.79146</td>\n",
       "      <td>4.51751</td>\n",
       "      <td>-1.396703</td>\n",
       "      <td>107.328826</td>\n",
       "      <td>-10.187956</td>\n",
       "      <td>-38.854668</td>\n",
       "      <td>-4.395695</td>\n",
       "      <td>0.000001</td>\n",
       "      <td>8.527287</td>\n",
       "      <td>108.308373</td>\n",
       "      <td>4.147008</td>\n",
       "      <td>2402.99657</td>\n",
       "      <td>[[1.7771462347597544, 0.09463792990660731, 0.8...</td>\n",
       "    </tr>\n",
       "    <tr>\n",
       "      <th>all</th>\n",
       "      <td>26455276</td>\n",
       "      <td>-1.36436</td>\n",
       "      <td>4.289117</td>\n",
       "      <td>-0.711095</td>\n",
       "      <td>95.175355</td>\n",
       "      <td>-10.605203</td>\n",
       "      <td>-38.875</td>\n",
       "      <td>-4.430309</td>\n",
       "      <td>-1.0</td>\n",
       "      <td>9.212087</td>\n",
       "      <td>110.625</td>\n",
       "      <td>6.308744</td>\n",
       "      <td>2403.0</td>\n",
       "      <td>[[8.466562429846425, 10.45687699516861, 3.7031...</td>\n",
       "    </tr>\n",
       "    <tr>\n",
       "      <th>all_replica</th>\n",
       "      <td>26381042</td>\n",
       "      <td>-0.944784</td>\n",
       "      <td>6.939366</td>\n",
       "      <td>-0.548008</td>\n",
       "      <td>111.499725</td>\n",
       "      <td>-10.187956</td>\n",
       "      <td>-38.854668</td>\n",
       "      <td>-4.395695</td>\n",
       "      <td>0.000001</td>\n",
       "      <td>10.007755</td>\n",
       "      <td>117.621411</td>\n",
       "      <td>6.767623</td>\n",
       "      <td>2402.99657</td>\n",
       "      <td>[[8.731472886478143, 8.4350021219544, 3.840195...</td>\n",
       "    </tr>\n",
       "  </tbody>\n",
       "</table>\n",
       "</div>"
      ],
      "text/plain": [
       "            number_of_datapoints energy_norm_log_mean temperature_diff_mean  \\\n",
       "on                       9680213             1.861944              9.513191   \n",
       "on_replica               9639507             2.262454             11.145556   \n",
       "off                     16775063            -3.226129              1.274514   \n",
       "off_replica             16741535             -2.79146               4.51751   \n",
       "all                     26455276             -1.36436              4.289117   \n",
       "all_replica             26381042            -0.944784              6.939366   \n",
       "\n",
       "            rms_norm_log_mean details_ratedhead_mean energy_norm_log_min  \\\n",
       "on                   0.730331             105.323685           -5.914482   \n",
       "on_replica           0.925975             118.743587           -5.843427   \n",
       "off                 -1.542884              89.319163          -10.605203   \n",
       "off_replica         -1.396703             107.328826          -10.187956   \n",
       "all                 -0.711095              95.175355          -10.605203   \n",
       "all_replica         -0.548008             111.499725          -10.187956   \n",
       "\n",
       "            temperature_diff_min rms_norm_log_min details_ratedhead_min  \\\n",
       "on                         -24.0        -3.043901                  -1.0   \n",
       "on_replica            -23.977141        -3.021036              0.000006   \n",
       "off                      -38.875        -4.430309                  -1.0   \n",
       "off_replica           -38.854668        -4.395695              0.000001   \n",
       "all                      -38.875        -4.430309                  -1.0   \n",
       "all_replica           -38.854668        -4.395695              0.000001   \n",
       "\n",
       "            energy_norm_log_max temperature_diff_max rms_norm_log_max  \\\n",
       "on                     9.212087              110.625         6.308744   \n",
       "on_replica            10.007755           117.621411         6.767623   \n",
       "off                    7.588837           109.140903          4.13824   \n",
       "off_replica            8.527287           108.308373         4.147008   \n",
       "all                    9.212087              110.625         6.308744   \n",
       "all_replica           10.007755           117.621411         6.767623   \n",
       "\n",
       "            details_ratedhead_max  \\\n",
       "on                         2403.0   \n",
       "on_replica            2402.992395   \n",
       "off                        2403.0   \n",
       "off_replica            2402.99657   \n",
       "all                        2403.0   \n",
       "all_replica            2402.99657   \n",
       "\n",
       "                                             Covariance_matrix  \n",
       "on           [[4.054988675775044, 1.6181932043448362, 1.438...  \n",
       "on_replica   [[4.600377879653974, 1.66251134457744, 1.59768...  \n",
       "off          [[1.5394827351582467, 0.21880415026212985, 0.7...  \n",
       "off_replica  [[1.7771462347597544, 0.09463792990660731, 0.8...  \n",
       "all          [[8.466562429846425, 10.45687699516861, 3.7031...  \n",
       "all_replica  [[8.731472886478143, 8.4350021219544, 3.840195...  "
      ]
     },
     "execution_count": 33,
     "metadata": {},
     "output_type": "execute_result"
    }
   ],
   "source": [
    "replica_summarizing_statistics = pd.concat([summarizing_statistics.iloc[[0]], replica_statistics_on, summarizing_statistics.iloc[[1]], replica_statistics_off, summarizing_statistics.iloc[[2]], replica_statistics_all])\n",
    "replica_summarizing_statistics"
   ]
  },
  {
   "cell_type": "markdown",
   "metadata": {},
   "source": [
    "## Insight into Dataframe"
   ]
  },
  {
   "cell_type": "markdown",
   "metadata": {},
   "source": [
    "### Energy Distribution"
   ]
  },
  {
   "cell_type": "code",
   "execution_count": 40,
   "metadata": {},
   "outputs": [
    {
     "data": {
      "image/png": "[encoded data removed]",
      "text/plain": [
       "<Figure size 432x288 with 1 Axes>"
      ]
     },
     "metadata": {
      "needs_background": "light"
     },
     "output_type": "display_data"
    }
   ],
   "source": [
    "ax = rep_df_all['energy_norm_log'].plot.hist(bins=20, alpha=0.5)"
   ]
  },
  {
   "cell_type": "markdown",
   "metadata": {},
   "source": [
    "### Energy Distribution"
   ]
  },
  {
   "cell_type": "code",
   "execution_count": 41,
   "metadata": {},
   "outputs": [
    {
     "data": {
      "image/png": "[encoded data removed]",
      "text/plain": [
       "<Figure size 432x288 with 1 Axes>"
      ]
     },
     "metadata": {
      "needs_background": "light"
     },
     "output_type": "display_data"
    }
   ],
   "source": [
    "ax = rep_df_all['temperature_diff'].plot.hist(bins=20, alpha=0.5)"
   ]
  },
  {
   "cell_type": "markdown",
   "metadata": {},
   "source": [
    "### Energy Distribution"
   ]
  },
  {
   "cell_type": "code",
   "execution_count": 42,
   "metadata": {},
   "outputs": [
    {
     "data": {
      "image/png": "[encoded data removed]",
      "text/plain": [
       "<Figure size 432x288 with 1 Axes>"
      ]
     },
     "metadata": {
      "needs_background": "light"
     },
     "output_type": "display_data"
    }
   ],
   "source": [
    "ax = rep_df_all['rms_norm_log'].plot.hist(bins=20, alpha=0.5)"
   ]
  },
  {
   "cell_type": "markdown",
   "metadata": {},
   "source": [
    "### Energy Distribution"
   ]
  },
  {
   "cell_type": "code",
   "execution_count": 43,
   "metadata": {},
   "outputs": [
    {
     "data": {
      "image/png": "[encoded data removed]",
      "text/plain": [
       "<Figure size 432x288 with 1 Axes>"
      ]
     },
     "metadata": {
      "needs_background": "light"
     },
     "output_type": "display_data"
    }
   ],
   "source": [
    "ax = rep_df_all['details_ratedhead'].plot.hist(bins=20, alpha=0.5)"
   ]
  },
  {
   "cell_type": "markdown",
   "metadata": {},
   "source": [
    "# Save Dataframe and Statistics"
   ]
  },
  {
   "cell_type": "code",
   "execution_count": 34,
   "metadata": {},
   "outputs": [],
   "source": [
    "replica_summarizing_statistics.to_csv('replica_summarizing_statistics.csv', index=True)"
   ]
  },
  {
   "cell_type": "code",
   "execution_count": 35,
   "metadata": {},
   "outputs": [],
   "source": [
    "rep_df_all.to_csv('replica_pump_data.csv', index=False)"
   ]
  },
  {
   "cell_type": "code",
   "execution_count": 8,
   "metadata": {},
   "outputs": [],
   "source": []
  },
  {
   "cell_type": "markdown",
   "metadata": {},
   "source": []
  },
  {
   "cell_type": "markdown",
   "metadata": {},
   "source": [
    "# Old Code"
   ]
  },
  {
   "cell_type": "markdown",
   "metadata": {},
   "source": [
    "## Splitting histogram into single features"
   ]
  },
  {
   "cell_type": "code",
   "execution_count": 152,
   "metadata": {},
   "outputs": [
    {
     "name": "stdout",
     "output_type": "stream",
     "text": [
      "0 6 4 4\n",
      "0 6 6 5\n",
      "0 7 1 6\n",
      "0 7 2 8\n",
      "0 7 3 9\n",
      "0 7 5 4\n",
      "0 7 5 9\n",
      "0 8 3 10\n",
      "0 8 4 5\n",
      "0 8 6 6\n",
      "0 8 10 8\n",
      "0 9 6 10\n",
      "0 9 7 10\n",
      "0 10 2 5\n",
      "0 10 4 12\n",
      "0 12 7 10\n",
      "0 13 3 15\n",
      "0 13 5 12\n",
      "0 14 2 11\n",
      "0 14 2 15\n",
      "0 16 3 16\n",
      "0 17 3 12\n",
      "1 10 3 11\n"
     ]
    }
   ],
   "source": [
    "energy_hist = []\n",
    "temp_hist = []\n",
    "rms_hist = []\n",
    "details_hist = []\n",
    "for i in range(len(hist_on)):\n",
    "    energy_total = 0\n",
    "    temp_total = 0\n",
    "    rms_total = 0\n",
    "    details_total = 0\n",
    "    for j in range(len(hist_on[i])):\n",
    "        for k in range(len(hist_on[i][j])):\n",
    "            for l in range(len(hist_on[i][j][k])):\n",
    "                energy_total += hist_on[i][j][k][l]\n",
    "                temp_total += hist_on[j][i][k][l]\n",
    "                rms_total += hist_on[j][k][i][l]\n",
    "                details_total += hist_on[j][k][l][i]\n",
    "    energy_hist.append(energy_total)\n",
    "    temp_hist.append(temp_total)\n",
    "    rms_hist.append(rms_total)\n",
    "    details_hist.append(details_total)"
   ]
  }
 ],
 "metadata": {
  "kernelspec": {
   "display_name": "Python 3",
   "language": "python",
   "name": "python3"
  },
  "language_info": {
   "codemirror_mode": {
    "name": "ipython",
    "version": 3
   },
   "file_extension": ".py",
   "mimetype": "text/x-python",
   "name": "python",
   "nbconvert_exporter": "python",
   "pygments_lexer": "ipython3",
   "version": "3.7.3"
  }
 },
 "nbformat": 4,
 "nbformat_minor": 5
}
