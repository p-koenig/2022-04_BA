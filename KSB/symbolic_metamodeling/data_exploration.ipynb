{
 "cells": [
  {
   "cell_type": "code",
   "execution_count": 1,
   "id": "hungarian-saver",
   "metadata": {},
   "outputs": [],
   "source": [
    "import joblib\n",
    "import math\n",
    "import numpy as np\n",
    "import pandas as pd\n",
    "import matplotlib.pyplot as plt\n",
    "from tqdm import tqdm"
   ]
  },
  {
   "cell_type": "code",
   "execution_count": 2,
   "id": "resident-shield",
   "metadata": {},
   "outputs": [
    {
     "name": "stderr",
     "output_type": "stream",
     "text": [
      "/home/smarton/anaconda3/envs/xai/lib/python3.8/site-packages/sklearn/base.py:310: UserWarning: Trying to unpickle estimator DecisionTreeClassifier from version 0.23.1 when using version 0.24.0. This might lead to breaking code or invalid results. Use at your own risk.\n",
      "  warnings.warn(\n",
      "/home/smarton/anaconda3/envs/xai/lib/python3.8/site-packages/sklearn/base.py:310: UserWarning: Trying to unpickle estimator RandomForestClassifier from version 0.23.1 when using version 0.24.0. This might lead to breaking code or invalid results. Use at your own risk.\n",
      "  warnings.warn(\n"
     ]
    }
   ],
   "source": [
    "with open(\"./data/summarizing_statistics.pkl\", 'rb') as f:\n",
    "    summarizing_statistics = joblib.load(f)\n",
    "    \n",
    "with open(\"./data/hist_off.pkl\", 'rb') as f:\n",
    "    hist_off = joblib.load(f)\n",
    "    hist_off = hist_off.transpose(3,2,1,0)\n",
    "    \n",
    "with open(\"./data/hist_on.pkl\", 'rb') as f:\n",
    "    hist_on = joblib.load(f)\n",
    "    hist_on = hist_on.transpose(3,2,1,0)\n",
    "    \n",
    "with open(\"./data/randForestBest_20201002.pkl\", 'rb') as f:\n",
    "    random_forest_model = joblib.load(f)  "
   ]
  },
  {
   "cell_type": "code",
   "execution_count": 3,
   "id": "approved-albany",
   "metadata": {},
   "outputs": [],
   "source": [
    "feature_names = np.array(['energy_norm_log', 'temperature_diff', 'rms_norm_log', 'details_ratedhead'])\n"
   ]
  },
  {
   "cell_type": "code",
   "execution_count": 4,
   "id": "sunset-trash",
   "metadata": {},
   "outputs": [
    {
     "data": {
      "text/html": [
       "<div>\n",
       "<style scoped>\n",
       "    .dataframe tbody tr th:only-of-type {\n",
       "        vertical-align: middle;\n",
       "    }\n",
       "\n",
       "    .dataframe tbody tr th {\n",
       "        vertical-align: top;\n",
       "    }\n",
       "\n",
       "    .dataframe thead th {\n",
       "        text-align: right;\n",
       "    }\n",
       "</style>\n",
       "<table border=\"1\" class=\"dataframe\">\n",
       "  <thead>\n",
       "    <tr style=\"text-align: right;\">\n",
       "      <th></th>\n",
       "      <th>number_of_datapoints</th>\n",
       "      <th>energy_norm_log_mean</th>\n",
       "      <th>temperature_diff_mean</th>\n",
       "      <th>rms_norm_log_mean</th>\n",
       "      <th>details_ratedhead_mean</th>\n",
       "      <th>energy_norm_log_min</th>\n",
       "      <th>temperature_diff_min</th>\n",
       "      <th>rms_norm_log_min</th>\n",
       "      <th>details_ratedhead_min</th>\n",
       "      <th>energy_norm_log_max</th>\n",
       "      <th>temperature_diff_max</th>\n",
       "      <th>rms_norm_log_max</th>\n",
       "      <th>details_ratedhead_max</th>\n",
       "      <th>Covariance_matrix</th>\n",
       "    </tr>\n",
       "  </thead>\n",
       "  <tbody>\n",
       "    <tr>\n",
       "      <th>on</th>\n",
       "      <td>9680213</td>\n",
       "      <td>1.861944</td>\n",
       "      <td>9.513191</td>\n",
       "      <td>0.730331</td>\n",
       "      <td>105.323685</td>\n",
       "      <td>-5.914482</td>\n",
       "      <td>-24.000</td>\n",
       "      <td>-3.043901</td>\n",
       "      <td>-1.0</td>\n",
       "      <td>9.212087</td>\n",
       "      <td>110.625000</td>\n",
       "      <td>6.308744</td>\n",
       "      <td>2403.0</td>\n",
       "      <td>[[4.054988675775044, 1.6181932043448362, 1.438...</td>\n",
       "    </tr>\n",
       "    <tr>\n",
       "      <th>off</th>\n",
       "      <td>16775063</td>\n",
       "      <td>-3.226129</td>\n",
       "      <td>1.274514</td>\n",
       "      <td>-1.542884</td>\n",
       "      <td>89.319163</td>\n",
       "      <td>-10.605203</td>\n",
       "      <td>-38.875</td>\n",
       "      <td>-4.430309</td>\n",
       "      <td>-1.0</td>\n",
       "      <td>7.588837</td>\n",
       "      <td>109.140903</td>\n",
       "      <td>4.138240</td>\n",
       "      <td>2403.0</td>\n",
       "      <td>[[1.5394827351582467, 0.21880415026212985, 0.7...</td>\n",
       "    </tr>\n",
       "    <tr>\n",
       "      <th>all</th>\n",
       "      <td>26455276</td>\n",
       "      <td>-1.364360</td>\n",
       "      <td>4.289117</td>\n",
       "      <td>-0.711095</td>\n",
       "      <td>95.175355</td>\n",
       "      <td>-10.605203</td>\n",
       "      <td>-38.875</td>\n",
       "      <td>-4.430309</td>\n",
       "      <td>-1.0</td>\n",
       "      <td>9.212087</td>\n",
       "      <td>110.625000</td>\n",
       "      <td>6.308744</td>\n",
       "      <td>2403.0</td>\n",
       "      <td>[[8.466562429846425, 10.45687699516861, 3.7031...</td>\n",
       "    </tr>\n",
       "  </tbody>\n",
       "</table>\n",
       "</div>"
      ],
      "text/plain": [
       "    number_of_datapoints energy_norm_log_mean temperature_diff_mean  \\\n",
       "on               9680213             1.861944              9.513191   \n",
       "off             16775063            -3.226129              1.274514   \n",
       "all             26455276            -1.364360              4.289117   \n",
       "\n",
       "    rms_norm_log_mean details_ratedhead_mean energy_norm_log_min  \\\n",
       "on           0.730331             105.323685           -5.914482   \n",
       "off         -1.542884              89.319163          -10.605203   \n",
       "all         -0.711095              95.175355          -10.605203   \n",
       "\n",
       "    temperature_diff_min rms_norm_log_min details_ratedhead_min  \\\n",
       "on               -24.000        -3.043901                  -1.0   \n",
       "off              -38.875        -4.430309                  -1.0   \n",
       "all              -38.875        -4.430309                  -1.0   \n",
       "\n",
       "    energy_norm_log_max temperature_diff_max rms_norm_log_max  \\\n",
       "on             9.212087           110.625000         6.308744   \n",
       "off            7.588837           109.140903         4.138240   \n",
       "all            9.212087           110.625000         6.308744   \n",
       "\n",
       "    details_ratedhead_max                                  Covariance_matrix  \n",
       "on                 2403.0  [[4.054988675775044, 1.6181932043448362, 1.438...  \n",
       "off                2403.0  [[1.5394827351582467, 0.21880415026212985, 0.7...  \n",
       "all                2403.0  [[8.466562429846425, 10.45687699516861, 3.7031...  "
      ]
     },
     "execution_count": 4,
     "metadata": {},
     "output_type": "execute_result"
    }
   ],
   "source": [
    "summarizing_statistics"
   ]
  },
  {
   "cell_type": "code",
   "execution_count": 5,
   "id": "heavy-burner",
   "metadata": {},
   "outputs": [
    {
     "name": "stdout",
     "output_type": "stream",
     "text": [
      "Total ON: 9639507\n"
     ]
    }
   ],
   "source": [
    "print('Total ON:',sum(hist_on.reshape(1,-1)[0]))"
   ]
  },
  {
   "cell_type": "code",
   "execution_count": 6,
   "id": "suitable-coating",
   "metadata": {},
   "outputs": [
    {
     "name": "stdout",
     "output_type": "stream",
     "text": [
      "Total OFF: 16741535\n"
     ]
    }
   ],
   "source": [
    "print('Total OFF:',sum(hist_off.reshape(1,-1)[0]))\n"
   ]
  },
  {
   "cell_type": "markdown",
   "id": "subtle-mitchell",
   "metadata": {},
   "source": [
    "# Creating Bins according to given min and max values"
   ]
  },
  {
   "cell_type": "markdown",
   "id": "nervous-motor",
   "metadata": {},
   "source": [
    "\"Jedes der 4 Features wurde vom Minimum zum Maximum in 20 gleichmäßige bins unterteilt\""
   ]
  },
  {
   "cell_type": "code",
   "execution_count": 7,
   "id": "fundamental-nancy",
   "metadata": {},
   "outputs": [],
   "source": [
    "energy_min = summarizing_statistics['energy_norm_log_min']['off']\n",
    "energy_max = summarizing_statistics['energy_norm_log_max']['off']\n",
    "energy_range = energy_max - energy_min\n",
    "energy_bins = np.linspace(energy_min, energy_max, num=20)"
   ]
  },
  {
   "cell_type": "code",
   "execution_count": 8,
   "id": "complicated-canada",
   "metadata": {},
   "outputs": [],
   "source": [
    "temp_min = summarizing_statistics['temperature_diff_min']['off']\n",
    "temp_max = summarizing_statistics['temperature_diff_max']['off']\n",
    "temp_range = temp_max - temp_min\n",
    "temp_bins = np.linspace(temp_min, temp_max, num=20)"
   ]
  },
  {
   "cell_type": "code",
   "execution_count": 9,
   "id": "polish-columbus",
   "metadata": {},
   "outputs": [],
   "source": [
    "rms_min = summarizing_statistics['rms_norm_log_min']['off']\n",
    "rms_max = summarizing_statistics['rms_norm_log_max']['off']\n",
    "rms_range = rms_max - rms_min\n",
    "rms_bins = np.linspace(rms_min, rms_max, num=20)"
   ]
  },
  {
   "cell_type": "code",
   "execution_count": 10,
   "id": "employed-skill",
   "metadata": {},
   "outputs": [],
   "source": [
    "details_min = summarizing_statistics['details_ratedhead_min']['off']\n",
    "#correcting manual error\n",
    "details_min = 0\n",
    "details_max = summarizing_statistics['details_ratedhead_max']['off']\n",
    "details_range = details_max - details_min\n",
    "details_bins = np.linspace(details_min, details_max, num=20)"
   ]
  },
  {
   "cell_type": "markdown",
   "id": "pressed-difficulty",
   "metadata": {},
   "source": [
    "## Splitting histogram into single features"
   ]
  },
  {
   "cell_type": "code",
   "execution_count": 11,
   "id": "genuine-things",
   "metadata": {},
   "outputs": [
    {
     "data": {
      "text/plain": [
       "(20, 20, 20, 20)"
      ]
     },
     "execution_count": 11,
     "metadata": {},
     "output_type": "execute_result"
    }
   ],
   "source": [
    "hist_on.shape"
   ]
  },
  {
   "cell_type": "code",
   "execution_count": 12,
   "id": "passing-friend",
   "metadata": {},
   "outputs": [],
   "source": [
    "energy_hist = []\n",
    "temp_hist = []\n",
    "rms_hist = []\n",
    "details_hist = []\n",
    "for i in range(len(hist_on)):\n",
    "    energy_total = 0\n",
    "    temp_total = 0\n",
    "    rms_total = 0\n",
    "    details_total = 0\n",
    "    for j in range(len(hist_on[i])):\n",
    "        for k in range(len(hist_on[i][j])):\n",
    "            for l in range(len(hist_on[i][j][k])):\n",
    "                energy_total += hist_on[i][j][k][l]\n",
    "                temp_total += hist_on[j][i][k][l]\n",
    "                rms_total += hist_on[j][k][i][l]\n",
    "                details_total += hist_on[j][k][l][i]\n",
    "    energy_hist.append(energy_total)\n",
    "    temp_hist.append(temp_total)\n",
    "    rms_hist.append(rms_total)\n",
    "    details_hist.append(details_total)"
   ]
  },
  {
   "cell_type": "code",
   "execution_count": 13,
   "id": "mounted-spanish",
   "metadata": {},
   "outputs": [
    {
     "name": "stdout",
     "output_type": "stream",
     "text": [
      "No. Observations Energy: 9639507\n",
      "No. Observations Temp: 9639507\n",
      "No. Observations RMS: 9639507\n",
      "No. Observations Details: 9639507\n"
     ]
    }
   ],
   "source": [
    "print('No. Observations Energy:',sum(energy_hist))\n",
    "print('No. Observations Temp:',sum(temp_hist))\n",
    "print('No. Observations RMS:',sum(rms_hist))\n",
    "print('No. Observations Details:',sum(details_hist))"
   ]
  },
  {
   "cell_type": "markdown",
   "id": "attended-marijuana",
   "metadata": {},
   "source": [
    "## Energy"
   ]
  },
  {
   "cell_type": "code",
   "execution_count": 14,
   "id": "animal-acrylic",
   "metadata": {},
   "outputs": [
    {
     "data": {
      "text/plain": [
       "<BarContainer object of 20 artists>"
      ]
     },
     "execution_count": 14,
     "metadata": {},
     "output_type": "execute_result"
    },
    {
     "data": {
      "image/png": "[encoded data removed]",
      "text/plain": [
       "<Figure size 432x288 with 1 Axes>"
      ]
     },
     "metadata": {
      "needs_background": "light"
     },
     "output_type": "display_data"
    }
   ],
   "source": [
    "plt.bar(energy_bins, energy_hist, width=0.075*energy_max, bottom=None, align='center')"
   ]
  },
  {
   "cell_type": "code",
   "execution_count": 15,
   "id": "romance-cassette",
   "metadata": {},
   "outputs": [
    {
     "name": "stdout",
     "output_type": "stream",
     "text": [
      "Reported Energy Min: -10.605202856980997 \n",
      "Reported Energy Max: 7.588836828136981 \n",
      "Reported Energy Mean: 1.8619439946941612\n"
     ]
    }
   ],
   "source": [
    "print('Reported Energy Min:', energy_min,\n",
    "      '\\nReported Energy Max:', energy_max,\n",
    "      '\\nReported Energy Mean:', summarizing_statistics['energy_norm_log_mean']['on'])"
   ]
  },
  {
   "cell_type": "code",
   "execution_count": 16,
   "id": "spatial-notion",
   "metadata": {},
   "outputs": [
    {
     "name": "stdout",
     "output_type": "stream",
     "text": [
      "Calculated Energy Mean (Conservative): -1.7167031295700792\n"
     ]
    }
   ],
   "source": [
    "left_bins = np.linspace(energy_min, energy_max, num=21)[:-1]\n",
    "print('Calculated Energy Mean (Conservative):', sum(left_bins * energy_hist)/sum(energy_hist))"
   ]
  },
  {
   "cell_type": "markdown",
   "id": "joint-liberia",
   "metadata": {},
   "source": [
    "## Temperature"
   ]
  },
  {
   "cell_type": "code",
   "execution_count": 17,
   "id": "related-notice",
   "metadata": {},
   "outputs": [
    {
     "data": {
      "text/plain": [
       "<BarContainer object of 20 artists>"
      ]
     },
     "execution_count": 17,
     "metadata": {},
     "output_type": "execute_result"
    },
    {
     "data": {
      "image/png": "[encoded data removed]",
      "text/plain": [
       "<Figure size 432x288 with 1 Axes>"
      ]
     },
     "metadata": {
      "needs_background": "light"
     },
     "output_type": "display_data"
    }
   ],
   "source": [
    "plt.bar(temp_bins, temp_hist, width=0.05*temp_max, bottom=None, align='center')"
   ]
  },
  {
   "cell_type": "code",
   "execution_count": 18,
   "id": "thirty-performance",
   "metadata": {},
   "outputs": [
    {
     "name": "stdout",
     "output_type": "stream",
     "text": [
      "Reported Temperature Min: -38.875 \n",
      "Reported Temperature Max: 109.14090318694541 \n",
      "Reported Temperature Mean: 9.51319129294738\n"
     ]
    }
   ],
   "source": [
    "print('Reported Temperature Min:', temp_min,\n",
    "      '\\nReported Temperature Max:', temp_max,\n",
    "      '\\nReported Temperature Mean:', summarizing_statistics['temperature_diff_mean']['on'])"
   ]
  },
  {
   "cell_type": "code",
   "execution_count": 19,
   "id": "broken-parliament",
   "metadata": {},
   "outputs": [
    {
     "name": "stdout",
     "output_type": "stream",
     "text": [
      "Calculated Temperature Mean (Conservative): -5.866449532579486\n"
     ]
    }
   ],
   "source": [
    "left_bins = np.linspace(temp_min, temp_max, num=21)[:-1]\n",
    "print('Calculated Temperature Mean (Conservative):', sum(left_bins * temp_hist)/sum(temp_hist))"
   ]
  },
  {
   "cell_type": "markdown",
   "id": "banner-hacker",
   "metadata": {},
   "source": [
    "## RMS"
   ]
  },
  {
   "cell_type": "code",
   "execution_count": 20,
   "id": "inside-monthly",
   "metadata": {},
   "outputs": [
    {
     "data": {
      "text/plain": [
       "<BarContainer object of 20 artists>"
      ]
     },
     "execution_count": 20,
     "metadata": {},
     "output_type": "execute_result"
    },
    {
     "data": {
      "image/png": "[encoded data removed]",
      "text/plain": [
       "<Figure size 432x288 with 1 Axes>"
      ]
     },
     "metadata": {
      "needs_background": "light"
     },
     "output_type": "display_data"
    }
   ],
   "source": [
    "plt.bar(rms_bins, rms_hist, width=0.06*rms_max, bottom=None, align='center')"
   ]
  },
  {
   "cell_type": "code",
   "execution_count": 21,
   "id": "accessible-literacy",
   "metadata": {},
   "outputs": [
    {
     "name": "stdout",
     "output_type": "stream",
     "text": [
      "RMS Mean: 0.7303305316791482\n"
     ]
    }
   ],
   "source": [
    "print('RMS Mean:', summarizing_statistics['rms_norm_log_mean']['on'])"
   ]
  },
  {
   "cell_type": "markdown",
   "id": "stopped-pledge",
   "metadata": {},
   "source": [
    "## Details"
   ]
  },
  {
   "cell_type": "code",
   "execution_count": 22,
   "id": "literary-jacob",
   "metadata": {},
   "outputs": [
    {
     "data": {
      "text/plain": [
       "<BarContainer object of 20 artists>"
      ]
     },
     "execution_count": 22,
     "metadata": {},
     "output_type": "execute_result"
    },
    {
     "data": {
      "image/png": "[encoded data removed]",
      "text/plain": [
       "<Figure size 432x288 with 1 Axes>"
      ]
     },
     "metadata": {
      "needs_background": "light"
     },
     "output_type": "display_data"
    }
   ],
   "source": [
    "plt.bar(details_bins, details_hist, width=0.04*details_max, bottom=None, align='center')"
   ]
  },
  {
   "cell_type": "code",
   "execution_count": 23,
   "id": "heated-projector",
   "metadata": {},
   "outputs": [
    {
     "name": "stdout",
     "output_type": "stream",
     "text": [
      "Details Mean: 105.32368501044364\n"
     ]
    }
   ],
   "source": [
    "print('Details Mean:', summarizing_statistics['details_ratedhead_mean']['on'])"
   ]
  },
  {
   "cell_type": "code",
   "execution_count": 24,
   "id": "mexican-landing",
   "metadata": {},
   "outputs": [
    {
     "name": "stdout",
     "output_type": "stream",
     "text": [
      "Min: 0 \n",
      "Max: 2403.0 \n",
      "Mean: 105.32368501044364\n"
     ]
    }
   ],
   "source": [
    "print('Min:', details_min,\n",
    "      '\\nMax:', details_max,\n",
    "      '\\nMean:', summarizing_statistics['details_ratedhead_mean']['on'])"
   ]
  },
  {
   "cell_type": "code",
   "execution_count": 25,
   "id": "processed-bobby",
   "metadata": {},
   "outputs": [
    {
     "name": "stdout",
     "output_type": "stream",
     "text": [
      "Calculated Details Mean (Conservative): 52.736631717783915\n"
     ]
    }
   ],
   "source": [
    "left_bins = np.linspace(details_min, details_max, num=21)[:-1]\n",
    "print('Calculated Details Mean (Conservative):', sum(left_bins * details_hist)/sum(details_hist))"
   ]
  },
  {
   "cell_type": "markdown",
   "id": "royal-smile",
   "metadata": {},
   "source": [
    "# Reproducing Dataframe from Histogram"
   ]
  },
  {
   "cell_type": "code",
   "execution_count": 26,
   "id": "pleased-roots",
   "metadata": {},
   "outputs": [],
   "source": [
    "energy_bin_size = energy_range/19\n",
    "temp_bin_size = temp_range/19\n",
    "rms_bin_size = rms_range/19\n",
    "details_bin_size = details_range/19"
   ]
  },
  {
   "cell_type": "code",
   "execution_count": 27,
   "id": "lightweight-pantyhose",
   "metadata": {},
   "outputs": [],
   "source": [
    "sample_size = 1"
   ]
  },
  {
   "cell_type": "code",
   "execution_count": 28,
   "id": "removed-connecticut",
   "metadata": {},
   "outputs": [
    {
     "name": "stderr",
     "output_type": "stream",
     "text": [
      "100%|██████████| 20/20 [05:46<00:00, 17.31s/it]\n"
     ]
    }
   ],
   "source": [
    "vstacked = np.empty([0, 4])\n",
    "for i,_ in enumerate(tqdm(hist_on)):\n",
    "    for j in range(len(hist_on[i])):\n",
    "        for k in range(len(hist_on[i][j])):\n",
    "            for l in range(len(hist_on[i][j][k])):\n",
    "                amount = math.ceil(hist_on[i][j][k][l]*sample_size)\n",
    "                if amount != 0:\n",
    "                    e = np.random.uniform(low=energy_bins[i], high=energy_bins[i]+energy_bin_size, size=(amount,))\n",
    "                    t = np.random.uniform(low=temp_bins[j], high=temp_bins[j]+temp_bin_size, size=(amount,))\n",
    "                    r = np.random.uniform(low=rms_bins[k], high=rms_bins[k]+rms_bin_size, size=(amount,))\n",
    "                    d = np.random.uniform(low=details_bins[l], high=details_bins[l]+details_bin_size, size=(amount,))\n",
    "                    dstacked = np.dstack((e,t,r,d))[0]\n",
    "                    vstacked = np.vstack((vstacked,dstacked))"
   ]
  },
  {
   "cell_type": "code",
   "execution_count": 29,
   "id": "inclusive-backup",
   "metadata": {},
   "outputs": [],
   "source": [
    "rep_df_on = pd.DataFrame(data=vstacked, columns=['energy_norm_log','temperature_diff','rms_norm_log','details_ratedhead'])"
   ]
  },
  {
   "cell_type": "code",
   "execution_count": 30,
   "id": "processed-enemy",
   "metadata": {},
   "outputs": [
    {
     "data": {
      "text/html": [
       "<div>\n",
       "<style scoped>\n",
       "    .dataframe tbody tr th:only-of-type {\n",
       "        vertical-align: middle;\n",
       "    }\n",
       "\n",
       "    .dataframe tbody tr th {\n",
       "        vertical-align: top;\n",
       "    }\n",
       "\n",
       "    .dataframe thead th {\n",
       "        text-align: right;\n",
       "    }\n",
       "</style>\n",
       "<table border=\"1\" class=\"dataframe\">\n",
       "  <thead>\n",
       "    <tr style=\"text-align: right;\">\n",
       "      <th></th>\n",
       "      <th>energy_norm_log</th>\n",
       "      <th>temperature_diff</th>\n",
       "      <th>rms_norm_log</th>\n",
       "      <th>details_ratedhead</th>\n",
       "    </tr>\n",
       "  </thead>\n",
       "  <tbody>\n",
       "    <tr>\n",
       "      <th>9639502</th>\n",
       "      <td>8.139006</td>\n",
       "      <td>53.773296</td>\n",
       "      <td>1.741660</td>\n",
       "      <td>75.398851</td>\n",
       "    </tr>\n",
       "    <tr>\n",
       "      <th>9639503</th>\n",
       "      <td>7.912283</td>\n",
       "      <td>52.515524</td>\n",
       "      <td>1.838263</td>\n",
       "      <td>122.504179</td>\n",
       "    </tr>\n",
       "    <tr>\n",
       "      <th>9639504</th>\n",
       "      <td>8.181228</td>\n",
       "      <td>53.422337</td>\n",
       "      <td>2.107202</td>\n",
       "      <td>15.797641</td>\n",
       "    </tr>\n",
       "    <tr>\n",
       "      <th>9639505</th>\n",
       "      <td>8.509610</td>\n",
       "      <td>59.592661</td>\n",
       "      <td>1.309302</td>\n",
       "      <td>42.834183</td>\n",
       "    </tr>\n",
       "    <tr>\n",
       "      <th>9639506</th>\n",
       "      <td>8.458293</td>\n",
       "      <td>60.260682</td>\n",
       "      <td>1.624941</td>\n",
       "      <td>72.587513</td>\n",
       "    </tr>\n",
       "  </tbody>\n",
       "</table>\n",
       "</div>"
      ],
      "text/plain": [
       "         energy_norm_log  temperature_diff  rms_norm_log  details_ratedhead\n",
       "9639502         8.139006         53.773296      1.741660          75.398851\n",
       "9639503         7.912283         52.515524      1.838263         122.504179\n",
       "9639504         8.181228         53.422337      2.107202          15.797641\n",
       "9639505         8.509610         59.592661      1.309302          42.834183\n",
       "9639506         8.458293         60.260682      1.624941          72.587513"
      ]
     },
     "execution_count": 30,
     "metadata": {},
     "output_type": "execute_result"
    }
   ],
   "source": [
    "rep_df_on.tail()"
   ]
  },
  {
   "cell_type": "code",
   "execution_count": null,
   "id": "departmental-arrest",
   "metadata": {},
   "outputs": [],
   "source": []
  },
  {
   "cell_type": "code",
   "execution_count": null,
   "id": "lightweight-acquisition",
   "metadata": {},
   "outputs": [],
   "source": []
  },
  {
   "cell_type": "code",
   "execution_count": 31,
   "id": "sitting-alpha",
   "metadata": {},
   "outputs": [
    {
     "data": {
      "image/png": "[encoded data removed]",
      "text/plain": [
       "<Figure size 432x288 with 1 Axes>"
      ]
     },
     "metadata": {
      "needs_background": "light"
     },
     "output_type": "display_data"
    }
   ],
   "source": [
    "ax = rep_df_on['energy_norm_log'].plot.hist(bins=20, alpha=0.5)"
   ]
  },
  {
   "cell_type": "code",
   "execution_count": 32,
   "id": "adjustable-vacation",
   "metadata": {},
   "outputs": [
    {
     "data": {
      "image/png": "[encoded data removed]",
      "text/plain": [
       "<Figure size 432x288 with 1 Axes>"
      ]
     },
     "metadata": {
      "needs_background": "light"
     },
     "output_type": "display_data"
    }
   ],
   "source": [
    "ax = rep_df_on['temperature_diff'].plot.hist(bins=20, alpha=0.5)"
   ]
  },
  {
   "cell_type": "code",
   "execution_count": 33,
   "id": "norman-milwaukee",
   "metadata": {},
   "outputs": [
    {
     "data": {
      "image/png": "[encoded data removed]",
      "text/plain": [
       "<Figure size 432x288 with 1 Axes>"
      ]
     },
     "metadata": {
      "needs_background": "light"
     },
     "output_type": "display_data"
    }
   ],
   "source": [
    "ax = rep_df_on['rms_norm_log'].plot.hist(bins=20, alpha=0.5)"
   ]
  },
  {
   "cell_type": "code",
   "execution_count": 34,
   "id": "mechanical-water",
   "metadata": {},
   "outputs": [
    {
     "data": {
      "image/png": "[encoded data removed]",
      "text/plain": [
       "<Figure size 432x288 with 1 Axes>"
      ]
     },
     "metadata": {
      "needs_background": "light"
     },
     "output_type": "display_data"
    }
   ],
   "source": [
    "ax = rep_df_on['details_ratedhead'].plot.hist(bins=20, alpha=0.5)"
   ]
  },
  {
   "cell_type": "code",
   "execution_count": 35,
   "id": "assured-clarity",
   "metadata": {},
   "outputs": [],
   "source": [
    "replica_statistics_on =pd.DataFrame([['on_replica',\n",
    "                                    len(rep_df_on),\n",
    "                                    rep_df_on['energy_norm_log'].mean(),\n",
    "                                    rep_df_on['temperature_diff'].mean(),\n",
    "                                    rep_df_on['rms_norm_log'].mean(),\n",
    "                                    rep_df_on['details_ratedhead'].mean(),\n",
    "                                    rep_df_on['energy_norm_log'].min(),\n",
    "                                    rep_df_on['temperature_diff'].min(),\n",
    "                                    rep_df_on['rms_norm_log'].min(),\n",
    "                                    rep_df_on['details_ratedhead'].min(),\n",
    "                                    rep_df_on['energy_norm_log'].max(),\n",
    "                                    rep_df_on['temperature_diff'].max(),\n",
    "                                    rep_df_on['rms_norm_log'].max(),\n",
    "                                    rep_df_on['details_ratedhead'].max(),\n",
    "                                    rep_df_on.cov().values]],\n",
    "                                        columns=summarizing_statistics.columns.insert(0,'label')).set_index('label')"
   ]
  },
  {
   "cell_type": "code",
   "execution_count": 63,
   "id": "injured-privilege",
   "metadata": {},
   "outputs": [
    {
     "data": {
      "text/html": [
       "<div>\n",
       "<style scoped>\n",
       "    .dataframe tbody tr th:only-of-type {\n",
       "        vertical-align: middle;\n",
       "    }\n",
       "\n",
       "    .dataframe tbody tr th {\n",
       "        vertical-align: top;\n",
       "    }\n",
       "\n",
       "    .dataframe thead th {\n",
       "        text-align: right;\n",
       "    }\n",
       "</style>\n",
       "<table border=\"1\" class=\"dataframe\">\n",
       "  <thead>\n",
       "    <tr style=\"text-align: right;\">\n",
       "      <th></th>\n",
       "      <th>number_of_datapoints</th>\n",
       "      <th>energy_norm_log_mean</th>\n",
       "      <th>temperature_diff_mean</th>\n",
       "      <th>rms_norm_log_mean</th>\n",
       "      <th>details_ratedhead_mean</th>\n",
       "      <th>energy_norm_log_min</th>\n",
       "      <th>temperature_diff_min</th>\n",
       "      <th>rms_norm_log_min</th>\n",
       "      <th>details_ratedhead_min</th>\n",
       "      <th>energy_norm_log_max</th>\n",
       "      <th>temperature_diff_max</th>\n",
       "      <th>rms_norm_log_max</th>\n",
       "      <th>details_ratedhead_max</th>\n",
       "      <th>Covariance_matrix</th>\n",
       "    </tr>\n",
       "  </thead>\n",
       "  <tbody>\n",
       "    <tr>\n",
       "      <th>on</th>\n",
       "      <td>9680213</td>\n",
       "      <td>1.861944</td>\n",
       "      <td>9.513191</td>\n",
       "      <td>0.730331</td>\n",
       "      <td>105.323685</td>\n",
       "      <td>-5.914482</td>\n",
       "      <td>-24.000000</td>\n",
       "      <td>-3.043901</td>\n",
       "      <td>-1.000000</td>\n",
       "      <td>9.212087</td>\n",
       "      <td>110.625000</td>\n",
       "      <td>6.308744</td>\n",
       "      <td>2403.000000</td>\n",
       "      <td>[[4.054988675775044, 1.6181932043448362, 1.438...</td>\n",
       "    </tr>\n",
       "    <tr>\n",
       "      <th>off_replica</th>\n",
       "      <td>9639507</td>\n",
       "      <td>-0.770051</td>\n",
       "      <td>-0.234403</td>\n",
       "      <td>-0.793239</td>\n",
       "      <td>118.746407</td>\n",
       "      <td>-10.465764</td>\n",
       "      <td>-38.817992</td>\n",
       "      <td>-4.422738</td>\n",
       "      <td>0.000009</td>\n",
       "      <td>8.545230</td>\n",
       "      <td>116.813738</td>\n",
       "      <td>4.410749</td>\n",
       "      <td>2402.997734</td>\n",
       "      <td>[[6.656201776604928, 2.2012765480995617, 1.760...</td>\n",
       "    </tr>\n",
       "  </tbody>\n",
       "</table>\n",
       "</div>"
      ],
      "text/plain": [
       "            number_of_datapoints energy_norm_log_mean temperature_diff_mean  \\\n",
       "on                       9680213             1.861944              9.513191   \n",
       "off_replica              9639507            -0.770051             -0.234403   \n",
       "\n",
       "            rms_norm_log_mean details_ratedhead_mean energy_norm_log_min  \\\n",
       "on                   0.730331             105.323685           -5.914482   \n",
       "off_replica         -0.793239             118.746407          -10.465764   \n",
       "\n",
       "            temperature_diff_min rms_norm_log_min details_ratedhead_min  \\\n",
       "on                    -24.000000        -3.043901             -1.000000   \n",
       "off_replica           -38.817992        -4.422738              0.000009   \n",
       "\n",
       "            energy_norm_log_max temperature_diff_max rms_norm_log_max  \\\n",
       "on                     9.212087           110.625000         6.308744   \n",
       "off_replica            8.545230           116.813738         4.410749   \n",
       "\n",
       "            details_ratedhead_max  \\\n",
       "on                    2403.000000   \n",
       "off_replica           2402.997734   \n",
       "\n",
       "                                             Covariance_matrix  \n",
       "on           [[4.054988675775044, 1.6181932043448362, 1.438...  \n",
       "off_replica  [[6.656201776604928, 2.2012765480995617, 1.760...  "
      ]
     },
     "execution_count": 63,
     "metadata": {},
     "output_type": "execute_result"
    }
   ],
   "source": [
    "all_stats_on = pd.concat([summarizing_statistics.iloc[[0]], replica_statistics_on])\n",
    "all_stats_on"
   ]
  },
  {
   "cell_type": "code",
   "execution_count": 37,
   "id": "personalized-bloom",
   "metadata": {},
   "outputs": [],
   "source": [
    "rep_df_on.to_csv('./data/hist_on_to_df.csv', index=False)"
   ]
  },
  {
   "cell_type": "markdown",
   "id": "leading-ethiopia",
   "metadata": {},
   "source": [
    "# Load replicas and display Statistics"
   ]
  },
  {
   "cell_type": "code",
   "execution_count": 38,
   "id": "desirable-superintendent",
   "metadata": {},
   "outputs": [
    {
     "data": {
      "text/html": [
       "<div>\n",
       "<style scoped>\n",
       "    .dataframe tbody tr th:only-of-type {\n",
       "        vertical-align: middle;\n",
       "    }\n",
       "\n",
       "    .dataframe tbody tr th {\n",
       "        vertical-align: top;\n",
       "    }\n",
       "\n",
       "    .dataframe thead th {\n",
       "        text-align: right;\n",
       "    }\n",
       "</style>\n",
       "<table border=\"1\" class=\"dataframe\">\n",
       "  <thead>\n",
       "    <tr style=\"text-align: right;\">\n",
       "      <th></th>\n",
       "      <th>energy_norm_log</th>\n",
       "      <th>temperature_diff</th>\n",
       "      <th>rms_norm_log</th>\n",
       "      <th>details_ratedhead</th>\n",
       "    </tr>\n",
       "  </thead>\n",
       "  <tbody>\n",
       "    <tr>\n",
       "      <th>9639502</th>\n",
       "      <td>8.139006</td>\n",
       "      <td>53.773296</td>\n",
       "      <td>1.741660</td>\n",
       "      <td>75.398851</td>\n",
       "    </tr>\n",
       "    <tr>\n",
       "      <th>9639503</th>\n",
       "      <td>7.912283</td>\n",
       "      <td>52.515524</td>\n",
       "      <td>1.838263</td>\n",
       "      <td>122.504179</td>\n",
       "    </tr>\n",
       "    <tr>\n",
       "      <th>9639504</th>\n",
       "      <td>8.181228</td>\n",
       "      <td>53.422337</td>\n",
       "      <td>2.107202</td>\n",
       "      <td>15.797641</td>\n",
       "    </tr>\n",
       "    <tr>\n",
       "      <th>9639505</th>\n",
       "      <td>8.509610</td>\n",
       "      <td>59.592661</td>\n",
       "      <td>1.309302</td>\n",
       "      <td>42.834183</td>\n",
       "    </tr>\n",
       "    <tr>\n",
       "      <th>9639506</th>\n",
       "      <td>8.458293</td>\n",
       "      <td>60.260682</td>\n",
       "      <td>1.624941</td>\n",
       "      <td>72.587513</td>\n",
       "    </tr>\n",
       "  </tbody>\n",
       "</table>\n",
       "</div>"
      ],
      "text/plain": [
       "         energy_norm_log  temperature_diff  rms_norm_log  details_ratedhead\n",
       "9639502         8.139006         53.773296      1.741660          75.398851\n",
       "9639503         7.912283         52.515524      1.838263         122.504179\n",
       "9639504         8.181228         53.422337      2.107202          15.797641\n",
       "9639505         8.509610         59.592661      1.309302          42.834183\n",
       "9639506         8.458293         60.260682      1.624941          72.587513"
      ]
     },
     "execution_count": 38,
     "metadata": {},
     "output_type": "execute_result"
    }
   ],
   "source": [
    "rep_df_on = pd.read_csv('./data/hist_on_to_df.csv')\n",
    "rep_df_on.tail()"
   ]
  },
  {
   "cell_type": "code",
   "execution_count": 39,
   "id": "ruled-repository",
   "metadata": {},
   "outputs": [],
   "source": [
    "#all_stats.to_csv('replica_summarizing_statistics.csv', index=True)"
   ]
  },
  {
   "cell_type": "markdown",
   "id": "desperate-complaint",
   "metadata": {},
   "source": [
    "# MODEL EXPLORATION"
   ]
  },
  {
   "cell_type": "code",
   "execution_count": 40,
   "id": "medium-kansas",
   "metadata": {},
   "outputs": [
    {
     "data": {
      "text/plain": [
       "RandomForestClassifier(max_depth=6, min_samples_leaf=1000, min_samples_split=15,\n",
       "                       n_estimators=50, random_state=10)"
      ]
     },
     "execution_count": 40,
     "metadata": {},
     "output_type": "execute_result"
    }
   ],
   "source": [
    "#https://scikit-learn.org/stable/modules/generated/sklearn.ensemble.RandomForestClassifier.html\n",
    "random_forest_model"
   ]
  },
  {
   "cell_type": "code",
   "execution_count": 41,
   "id": "expanded-headset",
   "metadata": {},
   "outputs": [
    {
     "data": {
      "text/plain": [
       "{'bootstrap': True,\n",
       " 'ccp_alpha': 0.0,\n",
       " 'class_weight': None,\n",
       " 'criterion': 'gini',\n",
       " 'max_depth': 6,\n",
       " 'max_features': 'auto',\n",
       " 'max_leaf_nodes': None,\n",
       " 'max_samples': None,\n",
       " 'min_impurity_decrease': 0.0,\n",
       " 'min_impurity_split': None,\n",
       " 'min_samples_leaf': 1000,\n",
       " 'min_samples_split': 15,\n",
       " 'min_weight_fraction_leaf': 0.0,\n",
       " 'n_estimators': 50,\n",
       " 'n_jobs': None,\n",
       " 'oob_score': False,\n",
       " 'random_state': 10,\n",
       " 'verbose': 0,\n",
       " 'warm_start': False}"
      ]
     },
     "execution_count": 41,
     "metadata": {},
     "output_type": "execute_result"
    }
   ],
   "source": [
    "random_forest_model.get_params()"
   ]
  },
  {
   "cell_type": "code",
   "execution_count": 42,
   "id": "accurate-seating",
   "metadata": {},
   "outputs": [],
   "source": [
    "random_forest_model_gini_importance = random_forest_model.feature_importances_\n",
    "\n",
    "#https://scikit-learn.org/stable/auto_examples/inspection/plot_permutation_importance.html#sphx-glr-auto-examples-inspection-plot-permutation-importance-py"
   ]
  },
  {
   "cell_type": "code",
   "execution_count": 43,
   "id": "extreme-boulder",
   "metadata": {},
   "outputs": [
    {
     "data": {
      "image/png": "[encoded data removed]",
      "text/plain": [
       "<Figure size 432x288 with 1 Axes>"
      ]
     },
     "metadata": {
      "needs_background": "light"
     },
     "output_type": "display_data"
    }
   ],
   "source": [
    "sorted_idx = random_forest_model_gini_importance.argsort()\n",
    "\n",
    "y_ticks = np.arange(0, len(feature_names))\n",
    "fig, ax = plt.subplots()\n",
    "ax.barh(y_ticks, random_forest_model_gini_importance[sorted_idx])\n",
    "ax.set_yticks(y_ticks)\n",
    "ax.set_yticklabels(feature_names[sorted_idx])\n",
    "ax.set_title(\"Random Forest Feature Importances (MDI)\")\n",
    "fig.tight_layout()\n",
    "plt.show()"
   ]
  },
  {
   "cell_type": "code",
   "execution_count": 44,
   "id": "breeding-halifax",
   "metadata": {},
   "outputs": [
    {
     "data": {
      "text/plain": [
       "2"
      ]
     },
     "execution_count": 44,
     "metadata": {},
     "output_type": "execute_result"
    }
   ],
   "source": [
    "np.random.randint(5)"
   ]
  },
  {
   "cell_type": "markdown",
   "id": "international-services",
   "metadata": {},
   "source": [
    "# Histogram Example"
   ]
  },
  {
   "cell_type": "code",
   "execution_count": 45,
   "id": "micro-actress",
   "metadata": {},
   "outputs": [],
   "source": [
    "def histogram(X, n_bins=10, mins=None, maxs=None):\n",
    "    n_samples, n_features = X.shape\n",
    "    if isinstance(n_bins, int):\n",
    "        n_bins = [n_bins]*n_features\n",
    "    n_bins = np.array(n_bins, dtype=int)\n",
    "    assert n_bins.shape == (n_features,)\n",
    "    if mins is None:\n",
    "        mins = X.min(axis=0)\n",
    "    if maxs is None:\n",
    "        maxs = X.max(axis=0)\n",
    "    print('mins', mins)\n",
    "    print('maxs', maxs)\n",
    "    \n",
    "    print('(X - mins) * n_bins', (X - mins) * n_bins)\n",
    "    print('(maxs - mins)', (maxs - mins))\n",
    "    \n",
    "    Y = np.floor((X - mins) * n_bins / (maxs - mins)).astype(int)\n",
    "    print('Y', Y)\n",
    "    \n",
    "    print('Y[np.all(Y >= 0, axis=1)')\n",
    "    Y = Y[np.all(Y >= 0, axis=1) & np.all(Y < n_bins, axis=1)] @ (np.cumprod(n_bins) // n_bins[0])\n",
    "    \n",
    "    \n",
    "    uniques, counts = np.unique(Y, return_counts=True)  \n",
    "    h = np.full(np.prod(n_bins), 0, dtype=int)\n",
    "    h[uniques] = counts\n",
    "    return h.reshape(n_bins)"
   ]
  },
  {
   "cell_type": "code",
   "execution_count": 46,
   "id": "likely-taste",
   "metadata": {},
   "outputs": [],
   "source": [
    "example_data = pd.DataFrame(data=np.array([[np.random.randint(100) for i in range(10)],\n",
    "                                 [np.random.randint(100) for i in range(10)],\n",
    "                                 #[np.random.randint(100) for i in range(10)],\n",
    "                                 [np.random.randint(100) for i in range(10)]]).T)"
   ]
  },
  {
   "cell_type": "code",
   "execution_count": null,
   "id": "stuck-description",
   "metadata": {},
   "outputs": [],
   "source": []
  },
  {
   "cell_type": "code",
   "execution_count": 47,
   "id": "angry-chick",
   "metadata": {},
   "outputs": [
    {
     "data": {
      "text/html": [
       "<div>\n",
       "<style scoped>\n",
       "    .dataframe tbody tr th:only-of-type {\n",
       "        vertical-align: middle;\n",
       "    }\n",
       "\n",
       "    .dataframe tbody tr th {\n",
       "        vertical-align: top;\n",
       "    }\n",
       "\n",
       "    .dataframe thead th {\n",
       "        text-align: right;\n",
       "    }\n",
       "</style>\n",
       "<table border=\"1\" class=\"dataframe\">\n",
       "  <thead>\n",
       "    <tr style=\"text-align: right;\">\n",
       "      <th></th>\n",
       "      <th>0</th>\n",
       "      <th>1</th>\n",
       "      <th>2</th>\n",
       "    </tr>\n",
       "  </thead>\n",
       "  <tbody>\n",
       "    <tr>\n",
       "      <th>count</th>\n",
       "      <td>10.000000</td>\n",
       "      <td>10.000000</td>\n",
       "      <td>10.000000</td>\n",
       "    </tr>\n",
       "    <tr>\n",
       "      <th>mean</th>\n",
       "      <td>46.600000</td>\n",
       "      <td>35.900000</td>\n",
       "      <td>39.400000</td>\n",
       "    </tr>\n",
       "    <tr>\n",
       "      <th>std</th>\n",
       "      <td>33.764544</td>\n",
       "      <td>32.143601</td>\n",
       "      <td>32.304798</td>\n",
       "    </tr>\n",
       "    <tr>\n",
       "      <th>min</th>\n",
       "      <td>2.000000</td>\n",
       "      <td>4.000000</td>\n",
       "      <td>10.000000</td>\n",
       "    </tr>\n",
       "    <tr>\n",
       "      <th>25%</th>\n",
       "      <td>14.500000</td>\n",
       "      <td>6.250000</td>\n",
       "      <td>12.250000</td>\n",
       "    </tr>\n",
       "    <tr>\n",
       "      <th>50%</th>\n",
       "      <td>50.000000</td>\n",
       "      <td>26.500000</td>\n",
       "      <td>25.500000</td>\n",
       "    </tr>\n",
       "    <tr>\n",
       "      <th>75%</th>\n",
       "      <td>73.000000</td>\n",
       "      <td>62.000000</td>\n",
       "      <td>69.250000</td>\n",
       "    </tr>\n",
       "    <tr>\n",
       "      <th>max</th>\n",
       "      <td>94.000000</td>\n",
       "      <td>87.000000</td>\n",
       "      <td>90.000000</td>\n",
       "    </tr>\n",
       "  </tbody>\n",
       "</table>\n",
       "</div>"
      ],
      "text/plain": [
       "               0          1          2\n",
       "count  10.000000  10.000000  10.000000\n",
       "mean   46.600000  35.900000  39.400000\n",
       "std    33.764544  32.143601  32.304798\n",
       "min     2.000000   4.000000  10.000000\n",
       "25%    14.500000   6.250000  12.250000\n",
       "50%    50.000000  26.500000  25.500000\n",
       "75%    73.000000  62.000000  69.250000\n",
       "max    94.000000  87.000000  90.000000"
      ]
     },
     "execution_count": 47,
     "metadata": {},
     "output_type": "execute_result"
    }
   ],
   "source": [
    "example_data.describe()"
   ]
  },
  {
   "cell_type": "code",
   "execution_count": null,
   "id": "spread-reader",
   "metadata": {},
   "outputs": [],
   "source": []
  },
  {
   "cell_type": "code",
   "execution_count": 48,
   "id": "separated-token",
   "metadata": {},
   "outputs": [
    {
     "name": "stdout",
     "output_type": "stream",
     "text": [
      "mins [ 2  4 10]\n",
      "maxs [94 87 90]\n",
      "(X - mins) * n_bins [[ 24   6   6]\n",
      " [276 177   9]\n",
      " [ 78 249   6]\n",
      " [174 165   0]\n",
      " [ 15   9  15]\n",
      " [243  75 213]\n",
      " [  0 213 240]\n",
      " [219   0 117]\n",
      " [195  60  78]\n",
      " [114   3 198]]\n",
      "(maxs - mins) [92 83 80]\n",
      "Y [[0 0 0]\n",
      " [3 2 0]\n",
      " [0 3 0]\n",
      " [1 1 0]\n",
      " [0 0 0]\n",
      " [2 0 2]\n",
      " [0 2 3]\n",
      " [2 0 1]\n",
      " [2 0 0]\n",
      " [1 0 2]]\n",
      "Y[np.all(Y >= 0, axis=1)\n"
     ]
    }
   ],
   "source": [
    "example_hist = histogram(example_data.values, n_bins=3).transpose(2,1,0)"
   ]
  },
  {
   "cell_type": "code",
   "execution_count": 49,
   "id": "stuffed-sucking",
   "metadata": {},
   "outputs": [
    {
     "data": {
      "text/html": [
       "<div>\n",
       "<style scoped>\n",
       "    .dataframe tbody tr th:only-of-type {\n",
       "        vertical-align: middle;\n",
       "    }\n",
       "\n",
       "    .dataframe tbody tr th {\n",
       "        vertical-align: top;\n",
       "    }\n",
       "\n",
       "    .dataframe thead th {\n",
       "        text-align: right;\n",
       "    }\n",
       "</style>\n",
       "<table border=\"1\" class=\"dataframe\">\n",
       "  <thead>\n",
       "    <tr style=\"text-align: right;\">\n",
       "      <th></th>\n",
       "      <th>0</th>\n",
       "      <th>1</th>\n",
       "      <th>2</th>\n",
       "    </tr>\n",
       "  </thead>\n",
       "  <tbody>\n",
       "    <tr>\n",
       "      <th>0</th>\n",
       "      <td>10</td>\n",
       "      <td>6</td>\n",
       "      <td>12</td>\n",
       "    </tr>\n",
       "    <tr>\n",
       "      <th>1</th>\n",
       "      <td>94</td>\n",
       "      <td>63</td>\n",
       "      <td>13</td>\n",
       "    </tr>\n",
       "    <tr>\n",
       "      <th>2</th>\n",
       "      <td>28</td>\n",
       "      <td>87</td>\n",
       "      <td>12</td>\n",
       "    </tr>\n",
       "    <tr>\n",
       "      <th>3</th>\n",
       "      <td>60</td>\n",
       "      <td>59</td>\n",
       "      <td>10</td>\n",
       "    </tr>\n",
       "    <tr>\n",
       "      <th>4</th>\n",
       "      <td>7</td>\n",
       "      <td>7</td>\n",
       "      <td>15</td>\n",
       "    </tr>\n",
       "    <tr>\n",
       "      <th>5</th>\n",
       "      <td>83</td>\n",
       "      <td>29</td>\n",
       "      <td>81</td>\n",
       "    </tr>\n",
       "    <tr>\n",
       "      <th>6</th>\n",
       "      <td>2</td>\n",
       "      <td>75</td>\n",
       "      <td>90</td>\n",
       "    </tr>\n",
       "    <tr>\n",
       "      <th>7</th>\n",
       "      <td>75</td>\n",
       "      <td>4</td>\n",
       "      <td>49</td>\n",
       "    </tr>\n",
       "    <tr>\n",
       "      <th>8</th>\n",
       "      <td>67</td>\n",
       "      <td>24</td>\n",
       "      <td>36</td>\n",
       "    </tr>\n",
       "    <tr>\n",
       "      <th>9</th>\n",
       "      <td>40</td>\n",
       "      <td>5</td>\n",
       "      <td>76</td>\n",
       "    </tr>\n",
       "  </tbody>\n",
       "</table>\n",
       "</div>"
      ],
      "text/plain": [
       "    0   1   2\n",
       "0  10   6  12\n",
       "1  94  63  13\n",
       "2  28  87  12\n",
       "3  60  59  10\n",
       "4   7   7  15\n",
       "5  83  29  81\n",
       "6   2  75  90\n",
       "7  75   4  49\n",
       "8  67  24  36\n",
       "9  40   5  76"
      ]
     },
     "execution_count": 49,
     "metadata": {},
     "output_type": "execute_result"
    }
   ],
   "source": [
    "example_data.head(10)"
   ]
  },
  {
   "cell_type": "code",
   "execution_count": 50,
   "id": "third-twelve",
   "metadata": {},
   "outputs": [
    {
     "data": {
      "text/html": [
       "<div>\n",
       "<style scoped>\n",
       "    .dataframe tbody tr th:only-of-type {\n",
       "        vertical-align: middle;\n",
       "    }\n",
       "\n",
       "    .dataframe tbody tr th {\n",
       "        vertical-align: top;\n",
       "    }\n",
       "\n",
       "    .dataframe thead th {\n",
       "        text-align: right;\n",
       "    }\n",
       "</style>\n",
       "<table border=\"1\" class=\"dataframe\">\n",
       "  <thead>\n",
       "    <tr style=\"text-align: right;\">\n",
       "      <th></th>\n",
       "      <th>0</th>\n",
       "      <th>1</th>\n",
       "      <th>2</th>\n",
       "    </tr>\n",
       "  </thead>\n",
       "  <tbody>\n",
       "    <tr>\n",
       "      <th>6</th>\n",
       "      <td>2</td>\n",
       "      <td>75</td>\n",
       "      <td>90</td>\n",
       "    </tr>\n",
       "    <tr>\n",
       "      <th>4</th>\n",
       "      <td>7</td>\n",
       "      <td>7</td>\n",
       "      <td>15</td>\n",
       "    </tr>\n",
       "    <tr>\n",
       "      <th>0</th>\n",
       "      <td>10</td>\n",
       "      <td>6</td>\n",
       "      <td>12</td>\n",
       "    </tr>\n",
       "    <tr>\n",
       "      <th>2</th>\n",
       "      <td>28</td>\n",
       "      <td>87</td>\n",
       "      <td>12</td>\n",
       "    </tr>\n",
       "    <tr>\n",
       "      <th>9</th>\n",
       "      <td>40</td>\n",
       "      <td>5</td>\n",
       "      <td>76</td>\n",
       "    </tr>\n",
       "    <tr>\n",
       "      <th>3</th>\n",
       "      <td>60</td>\n",
       "      <td>59</td>\n",
       "      <td>10</td>\n",
       "    </tr>\n",
       "    <tr>\n",
       "      <th>8</th>\n",
       "      <td>67</td>\n",
       "      <td>24</td>\n",
       "      <td>36</td>\n",
       "    </tr>\n",
       "    <tr>\n",
       "      <th>7</th>\n",
       "      <td>75</td>\n",
       "      <td>4</td>\n",
       "      <td>49</td>\n",
       "    </tr>\n",
       "    <tr>\n",
       "      <th>5</th>\n",
       "      <td>83</td>\n",
       "      <td>29</td>\n",
       "      <td>81</td>\n",
       "    </tr>\n",
       "    <tr>\n",
       "      <th>1</th>\n",
       "      <td>94</td>\n",
       "      <td>63</td>\n",
       "      <td>13</td>\n",
       "    </tr>\n",
       "  </tbody>\n",
       "</table>\n",
       "</div>"
      ],
      "text/plain": [
       "    0   1   2\n",
       "6   2  75  90\n",
       "4   7   7  15\n",
       "0  10   6  12\n",
       "2  28  87  12\n",
       "9  40   5  76\n",
       "3  60  59  10\n",
       "8  67  24  36\n",
       "7  75   4  49\n",
       "5  83  29  81\n",
       "1  94  63  13"
      ]
     },
     "execution_count": 50,
     "metadata": {},
     "output_type": "execute_result"
    }
   ],
   "source": [
    "example_data.sort_values(by=[0,1,2])"
   ]
  },
  {
   "cell_type": "code",
   "execution_count": 51,
   "id": "aquatic-spectacular",
   "metadata": {},
   "outputs": [
    {
     "data": {
      "text/html": [
       "<div>\n",
       "<style scoped>\n",
       "    .dataframe tbody tr th:only-of-type {\n",
       "        vertical-align: middle;\n",
       "    }\n",
       "\n",
       "    .dataframe tbody tr th {\n",
       "        vertical-align: top;\n",
       "    }\n",
       "\n",
       "    .dataframe thead th {\n",
       "        text-align: right;\n",
       "    }\n",
       "</style>\n",
       "<table border=\"1\" class=\"dataframe\">\n",
       "  <thead>\n",
       "    <tr style=\"text-align: right;\">\n",
       "      <th></th>\n",
       "      <th>0</th>\n",
       "    </tr>\n",
       "  </thead>\n",
       "  <tbody>\n",
       "    <tr>\n",
       "      <th>0</th>\n",
       "      <td>10</td>\n",
       "    </tr>\n",
       "    <tr>\n",
       "      <th>1</th>\n",
       "      <td>94</td>\n",
       "    </tr>\n",
       "    <tr>\n",
       "      <th>2</th>\n",
       "      <td>28</td>\n",
       "    </tr>\n",
       "    <tr>\n",
       "      <th>3</th>\n",
       "      <td>60</td>\n",
       "    </tr>\n",
       "    <tr>\n",
       "      <th>4</th>\n",
       "      <td>7</td>\n",
       "    </tr>\n",
       "    <tr>\n",
       "      <th>5</th>\n",
       "      <td>83</td>\n",
       "    </tr>\n",
       "    <tr>\n",
       "      <th>6</th>\n",
       "      <td>2</td>\n",
       "    </tr>\n",
       "    <tr>\n",
       "      <th>7</th>\n",
       "      <td>75</td>\n",
       "    </tr>\n",
       "    <tr>\n",
       "      <th>8</th>\n",
       "      <td>67</td>\n",
       "    </tr>\n",
       "    <tr>\n",
       "      <th>9</th>\n",
       "      <td>40</td>\n",
       "    </tr>\n",
       "  </tbody>\n",
       "</table>\n",
       "</div>"
      ],
      "text/plain": [
       "    0\n",
       "0  10\n",
       "1  94\n",
       "2  28\n",
       "3  60\n",
       "4   7\n",
       "5  83\n",
       "6   2\n",
       "7  75\n",
       "8  67\n",
       "9  40"
      ]
     },
     "execution_count": 51,
     "metadata": {},
     "output_type": "execute_result"
    }
   ],
   "source": [
    "example_data[[0]]"
   ]
  },
  {
   "cell_type": "code",
   "execution_count": 52,
   "id": "offensive-inflation",
   "metadata": {},
   "outputs": [
    {
     "data": {
      "text/plain": [
       "array([ 2.        , 32.66666667, 63.33333333, 94.        ])"
      ]
     },
     "execution_count": 52,
     "metadata": {},
     "output_type": "execute_result"
    }
   ],
   "source": [
    "np.histogram(example_data[[0]].values, 3)[1]"
   ]
  },
  {
   "cell_type": "code",
   "execution_count": 53,
   "id": "earlier-civilization",
   "metadata": {},
   "outputs": [
    {
     "data": {
      "text/plain": [
       "array([ 4.        , 31.66666667, 59.33333333, 87.        ])"
      ]
     },
     "execution_count": 53,
     "metadata": {},
     "output_type": "execute_result"
    }
   ],
   "source": [
    "np.histogram(example_data[[1]].values, 3)[1]"
   ]
  },
  {
   "cell_type": "code",
   "execution_count": 54,
   "id": "aware-switzerland",
   "metadata": {},
   "outputs": [
    {
     "data": {
      "text/plain": [
       "array([10.        , 36.66666667, 63.33333333, 90.        ])"
      ]
     },
     "execution_count": 54,
     "metadata": {},
     "output_type": "execute_result"
    }
   ],
   "source": [
    "np.histogram(example_data[[2]].values, 3)[1]"
   ]
  },
  {
   "cell_type": "code",
   "execution_count": 55,
   "id": "apart-conference",
   "metadata": {},
   "outputs": [
    {
     "data": {
      "text/plain": [
       "array([[[2, 0, 0],\n",
       "        [0, 0, 0],\n",
       "        [0, 0, 0]],\n",
       "\n",
       "       [[0, 0, 1],\n",
       "        [1, 0, 0],\n",
       "        [0, 0, 0]],\n",
       "\n",
       "       [[1, 1, 1],\n",
       "        [0, 0, 0],\n",
       "        [0, 0, 0]]])"
      ]
     },
     "execution_count": 55,
     "metadata": {},
     "output_type": "execute_result"
    }
   ],
   "source": [
    "example_hist"
   ]
  },
  {
   "cell_type": "code",
   "execution_count": 56,
   "id": "hispanic-cursor",
   "metadata": {},
   "outputs": [
    {
     "data": {
      "text/plain": [
       "0"
      ]
     },
     "execution_count": 56,
     "metadata": {},
     "output_type": "execute_result"
    }
   ],
   "source": [
    "example_hist[0][1][1]"
   ]
  },
  {
   "cell_type": "code",
   "execution_count": 57,
   "id": "accepted-perry",
   "metadata": {},
   "outputs": [],
   "source": [
    "example_hist_np = np.histogramdd(example_data.values, bins=3)[0]"
   ]
  },
  {
   "cell_type": "code",
   "execution_count": 58,
   "id": "exotic-palestinian",
   "metadata": {},
   "outputs": [
    {
     "data": {
      "text/plain": [
       "array([[[2., 0., 0.],\n",
       "        [0., 0., 0.],\n",
       "        [1., 0., 1.]],\n",
       "\n",
       "       [[0., 0., 1.],\n",
       "        [1., 0., 0.],\n",
       "        [0., 0., 0.]],\n",
       "\n",
       "       [[1., 1., 1.],\n",
       "        [0., 0., 0.],\n",
       "        [1., 0., 0.]]])"
      ]
     },
     "execution_count": 58,
     "metadata": {},
     "output_type": "execute_result"
    }
   ],
   "source": [
    "example_hist_np"
   ]
  },
  {
   "cell_type": "code",
   "execution_count": 59,
   "id": "sitting-metabolism",
   "metadata": {},
   "outputs": [
    {
     "data": {
      "text/plain": [
       "0.0"
      ]
     },
     "execution_count": 59,
     "metadata": {},
     "output_type": "execute_result"
    }
   ],
   "source": [
    "example_hist_np[0][1][1]"
   ]
  },
  {
   "cell_type": "code",
   "execution_count": 60,
   "id": "suitable-composite",
   "metadata": {},
   "outputs": [
    {
     "data": {
      "text/plain": [
       "(3, 3, 3)"
      ]
     },
     "execution_count": 60,
     "metadata": {},
     "output_type": "execute_result"
    }
   ],
   "source": [
    "example_hist.shape"
   ]
  },
  {
   "cell_type": "code",
   "execution_count": 61,
   "id": "colonial-mining",
   "metadata": {},
   "outputs": [
    {
     "data": {
      "text/plain": [
       "(3, 3, 3)"
      ]
     },
     "execution_count": 61,
     "metadata": {},
     "output_type": "execute_result"
    }
   ],
   "source": [
    "example_hist_np.shape"
   ]
  },
  {
   "cell_type": "code",
   "execution_count": 62,
   "id": "chubby-democracy",
   "metadata": {},
   "outputs": [
    {
     "ename": "TypeError",
     "evalue": "object of type 'numpy.int64' has no len()",
     "output_type": "error",
     "traceback": [
      "\u001b[0;31m---------------------------------------------------------------------------\u001b[0m",
      "\u001b[0;31mTypeError\u001b[0m                                 Traceback (most recent call last)",
      "\u001b[0;32m<ipython-input-62-0ea410da254a>\u001b[0m in \u001b[0;36m<module>\u001b[0;34m\u001b[0m\n\u001b[1;32m     10\u001b[0m     \u001b[0;32mfor\u001b[0m \u001b[0mj\u001b[0m \u001b[0;32min\u001b[0m \u001b[0mrange\u001b[0m\u001b[0;34m(\u001b[0m\u001b[0mlen\u001b[0m\u001b[0;34m(\u001b[0m\u001b[0mexample_hist\u001b[0m\u001b[0;34m[\u001b[0m\u001b[0mi\u001b[0m\u001b[0;34m]\u001b[0m\u001b[0;34m)\u001b[0m\u001b[0;34m)\u001b[0m\u001b[0;34m:\u001b[0m\u001b[0;34m\u001b[0m\u001b[0;34m\u001b[0m\u001b[0m\n\u001b[1;32m     11\u001b[0m         \u001b[0;32mfor\u001b[0m \u001b[0mk\u001b[0m \u001b[0;32min\u001b[0m \u001b[0mrange\u001b[0m\u001b[0;34m(\u001b[0m\u001b[0mlen\u001b[0m\u001b[0;34m(\u001b[0m\u001b[0mexample_hist\u001b[0m\u001b[0;34m[\u001b[0m\u001b[0mi\u001b[0m\u001b[0;34m]\u001b[0m\u001b[0;34m[\u001b[0m\u001b[0mj\u001b[0m\u001b[0;34m]\u001b[0m\u001b[0;34m)\u001b[0m\u001b[0;34m)\u001b[0m\u001b[0;34m:\u001b[0m\u001b[0;34m\u001b[0m\u001b[0;34m\u001b[0m\u001b[0m\n\u001b[0;32m---> 12\u001b[0;31m             \u001b[0;32mfor\u001b[0m \u001b[0ml\u001b[0m \u001b[0;32min\u001b[0m \u001b[0mrange\u001b[0m\u001b[0;34m(\u001b[0m\u001b[0mlen\u001b[0m\u001b[0;34m(\u001b[0m\u001b[0mexample_hist\u001b[0m\u001b[0;34m[\u001b[0m\u001b[0mi\u001b[0m\u001b[0;34m]\u001b[0m\u001b[0;34m[\u001b[0m\u001b[0mj\u001b[0m\u001b[0;34m]\u001b[0m\u001b[0;34m[\u001b[0m\u001b[0mk\u001b[0m\u001b[0;34m]\u001b[0m\u001b[0;34m)\u001b[0m\u001b[0;34m)\u001b[0m\u001b[0;34m:\u001b[0m\u001b[0;34m\u001b[0m\u001b[0;34m\u001b[0m\u001b[0m\n\u001b[0m\u001b[1;32m     13\u001b[0m                 \u001b[0mfeature_1_count\u001b[0m \u001b[0;34m+=\u001b[0m \u001b[0mexample_hist\u001b[0m\u001b[0;34m[\u001b[0m\u001b[0mi\u001b[0m\u001b[0;34m]\u001b[0m\u001b[0;34m[\u001b[0m\u001b[0mj\u001b[0m\u001b[0;34m]\u001b[0m\u001b[0;34m[\u001b[0m\u001b[0mk\u001b[0m\u001b[0;34m]\u001b[0m\u001b[0;34m[\u001b[0m\u001b[0ml\u001b[0m\u001b[0;34m]\u001b[0m\u001b[0;34m\u001b[0m\u001b[0;34m\u001b[0m\u001b[0m\n\u001b[1;32m     14\u001b[0m                 \u001b[0mfeature_2_count\u001b[0m \u001b[0;34m+=\u001b[0m \u001b[0mexample_hist\u001b[0m\u001b[0;34m[\u001b[0m\u001b[0mj\u001b[0m\u001b[0;34m]\u001b[0m\u001b[0;34m[\u001b[0m\u001b[0mi\u001b[0m\u001b[0;34m]\u001b[0m\u001b[0;34m[\u001b[0m\u001b[0mk\u001b[0m\u001b[0;34m]\u001b[0m\u001b[0;34m[\u001b[0m\u001b[0ml\u001b[0m\u001b[0;34m]\u001b[0m\u001b[0;34m\u001b[0m\u001b[0;34m\u001b[0m\u001b[0m\n",
      "\u001b[0;31mTypeError\u001b[0m: object of type 'numpy.int64' has no len()"
     ]
    }
   ],
   "source": [
    "feature_1_hist = []\n",
    "feature_2_hist = []\n",
    "feature_3_hist = []\n",
    "feature_4_hist = []\n",
    "for i in range(len(example_hist)):\n",
    "    feature_1_count = 0\n",
    "    feature_2_count = 0\n",
    "    feature_3_count = 0\n",
    "    feature_4_count = 0\n",
    "    for j in range(len(example_hist[i])):\n",
    "        for k in range(len(example_hist[i][j])):\n",
    "            for l in range(len(example_hist[i][j][k])):\n",
    "                feature_1_count += example_hist[i][j][k][l]\n",
    "                feature_2_count += example_hist[j][i][k][l]\n",
    "                feature_3_count += example_hist[j][k][i][l]\n",
    "                feature_4_count += example_hist[j][k][l][i]\n",
    "    feature_1_hist.append(feature_1_count)\n",
    "    feature_2_hist.append(feature_2_count)\n",
    "    feature_3_hist.append(feature_3_count)\n",
    "    feature_4_hist.append(feature_4_count)"
   ]
  },
  {
   "cell_type": "code",
   "execution_count": null,
   "id": "discrete-trust",
   "metadata": {},
   "outputs": [],
   "source": [
    "feature_1_hist_np = []\n",
    "feature_2_hist_np = []\n",
    "feature_3_hist_np = []\n",
    "feature_4_hist_np = []\n",
    "for i in range(len(example_hist_np)):\n",
    "    feature_1_count = 0\n",
    "    feature_2_count = 0\n",
    "    feature_3_count = 0\n",
    "    feature_4_count = 0\n",
    "    for j in range(len(example_hist_np[i])):\n",
    "        for k in range(len(example_hist_np[i][j])):\n",
    "            for l in range(len(example_hist_np[i][j][k])):\n",
    "                feature_1_count += example_hist_np[i][j][k][l]\n",
    "                feature_2_count += example_hist_np[j][i][k][l]\n",
    "                feature_3_count += example_hist_np[j][k][i][l]\n",
    "                feature_4_count += example_hist_np[j][k][l][i]\n",
    "    feature_1_hist_np.append(feature_1_count)\n",
    "    feature_2_hist_np.append(feature_2_count)\n",
    "    feature_3_hist_np.append(feature_3_count)\n",
    "    feature_4_hist_np.append(feature_4_count)"
   ]
  },
  {
   "cell_type": "code",
   "execution_count": null,
   "id": "southern-mystery",
   "metadata": {},
   "outputs": [],
   "source": [
    "example_data.head(10)"
   ]
  },
  {
   "cell_type": "code",
   "execution_count": null,
   "id": "answering-zimbabwe",
   "metadata": {},
   "outputs": [],
   "source": [
    "example_data.describe()"
   ]
  },
  {
   "cell_type": "code",
   "execution_count": null,
   "id": "blessed-machine",
   "metadata": {},
   "outputs": [],
   "source": [
    "[(94-2)/5 * i for i in range(1,6)]"
   ]
  },
  {
   "cell_type": "code",
   "execution_count": null,
   "id": "broad-animation",
   "metadata": {},
   "outputs": [],
   "source": [
    "feature_1_hist"
   ]
  },
  {
   "cell_type": "code",
   "execution_count": null,
   "id": "african-practitioner",
   "metadata": {},
   "outputs": [],
   "source": [
    "feature_1_hist_np"
   ]
  },
  {
   "cell_type": "code",
   "execution_count": null,
   "id": "identical-diesel",
   "metadata": {},
   "outputs": [],
   "source": [
    "example_data[[0]].plot.hist(bins=3)"
   ]
  },
  {
   "cell_type": "code",
   "execution_count": null,
   "id": "bound-thanksgiving",
   "metadata": {},
   "outputs": [],
   "source": [
    "feature_2_hist"
   ]
  },
  {
   "cell_type": "code",
   "execution_count": null,
   "id": "immune-birmingham",
   "metadata": {},
   "outputs": [],
   "source": [
    "feature_2_hist_np"
   ]
  },
  {
   "cell_type": "code",
   "execution_count": null,
   "id": "injured-kitchen",
   "metadata": {},
   "outputs": [],
   "source": [
    "feature_3_hist"
   ]
  },
  {
   "cell_type": "code",
   "execution_count": null,
   "id": "closing-conservative",
   "metadata": {},
   "outputs": [],
   "source": [
    "feature_3_hist_np"
   ]
  },
  {
   "cell_type": "code",
   "execution_count": null,
   "id": "demographic-basics",
   "metadata": {},
   "outputs": [],
   "source": [
    "feature_4_hist"
   ]
  },
  {
   "cell_type": "code",
   "execution_count": null,
   "id": "secret-disorder",
   "metadata": {},
   "outputs": [],
   "source": [
    "feature_4_hist_np"
   ]
  },
  {
   "cell_type": "markdown",
   "id": "preceding-assumption",
   "metadata": {},
   "source": [
    "# Histogram Reconstruction"
   ]
  },
  {
   "cell_type": "code",
   "execution_count": null,
   "id": "acceptable-qualification",
   "metadata": {},
   "outputs": [],
   "source": [
    "hist_off_new = histogram(rep_df_off.values, n_bins=20)\n",
    "print(hist_off_new.shape)"
   ]
  },
  {
   "cell_type": "code",
   "execution_count": null,
   "id": "assumed-spending",
   "metadata": {},
   "outputs": [],
   "source": [
    "hist_off_new[6][5][5][5]"
   ]
  },
  {
   "cell_type": "code",
   "execution_count": null,
   "id": "federal-planet",
   "metadata": {},
   "outputs": [],
   "source": [
    "hist_off[6][5][5][5]"
   ]
  },
  {
   "cell_type": "code",
   "execution_count": null,
   "id": "false-likelihood",
   "metadata": {},
   "outputs": [],
   "source": [
    "energy_hist_new = []\n",
    "temp_hist_new = []\n",
    "rms_hist_new = []\n",
    "details_hist_new = []\n",
    "for i in range(len(hist_off_new)):\n",
    "    energy_total = 0\n",
    "    temp_total = 0\n",
    "    rms_total = 0\n",
    "    details_total = 0\n",
    "    for j in range(len(hist_off_new[i])):\n",
    "        for k in range(len(hist_off_new[i][j])):\n",
    "            for l in range(len(hist_off_new[i][j][k])):\n",
    "                energy_total += hist_off_new[i][j][k][l]\n",
    "                temp_total += hist_off_new[j][i][k][l]\n",
    "                rms_total += hist_off_new[j][k][i][l]\n",
    "                details_total += hist_off_new[j][k][l][i]\n",
    "    energy_hist_new.append(energy_total)\n",
    "    temp_hist_new.append(temp_total)\n",
    "    rms_hist_new.append(rms_total)\n",
    "    details_hist_new.append(details_total)"
   ]
  },
  {
   "cell_type": "code",
   "execution_count": null,
   "id": "coupled-athens",
   "metadata": {},
   "outputs": [],
   "source": [
    "print('No. Observations Energy:',sum(energy_hist_new))\n",
    "print('No. Observations Temp:',sum(temp_hist_new))\n",
    "print('No. Observations RMS:',sum(rms_hist_new))\n",
    "print('No. Observations Details:',sum(details_hist_new))"
   ]
  },
  {
   "cell_type": "code",
   "execution_count": null,
   "id": "partial-index",
   "metadata": {},
   "outputs": [],
   "source": [
    "plt.bar(energy_bins, energy_hist_new, width=0.075*energy_max, bottom=None, align='center')"
   ]
  },
  {
   "cell_type": "code",
   "execution_count": null,
   "id": "excellent-england",
   "metadata": {},
   "outputs": [],
   "source": [
    "print('Reported Energy Min:', energy_min,\n",
    "      '\\nReported Energy Max:', energy_max,\n",
    "      '\\nReported Energy Mean:', summarizing_statistics['energy_norm_log_mean']['on'])"
   ]
  },
  {
   "cell_type": "code",
   "execution_count": null,
   "id": "amber-buffalo",
   "metadata": {},
   "outputs": [],
   "source": [
    "left_bins = np.linspace(energy_min, energy_max, num=21)[:-1]\n",
    "print('Calculated Energy Mean (Conservative):', sum(left_bins * energy_hist_new)/sum(energy_hist_new))"
   ]
  },
  {
   "cell_type": "code",
   "execution_count": null,
   "id": "electric-brush",
   "metadata": {},
   "outputs": [],
   "source": [
    "plt.bar(details_bins, details_hist_new, width=0.04*details_max, bottom=None, align='center')"
   ]
  },
  {
   "cell_type": "code",
   "execution_count": null,
   "id": "beautiful-arcade",
   "metadata": {},
   "outputs": [],
   "source": []
  },
  {
   "cell_type": "code",
   "execution_count": null,
   "id": "spare-disease",
   "metadata": {},
   "outputs": [],
   "source": []
  }
 ],
 "metadata": {
  "kernelspec": {
   "display_name": "Python 3",
   "language": "python",
   "name": "python3"
  },
  "language_info": {
   "codemirror_mode": {
    "name": "ipython",
    "version": 3
   },
   "file_extension": ".py",
   "mimetype": "text/x-python",
   "name": "python",
   "nbconvert_exporter": "python",
   "pygments_lexer": "ipython3",
   "version": "3.8.8"
  }
 },
 "nbformat": 4,
 "nbformat_minor": 5
}
