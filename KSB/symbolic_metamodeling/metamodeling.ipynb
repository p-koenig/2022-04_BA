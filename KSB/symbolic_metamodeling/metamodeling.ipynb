{
 "cells": [
  {
   "cell_type": "code",
   "execution_count": 1,
   "id": "under-boulder",
   "metadata": {},
   "outputs": [],
   "source": [
    "import joblib\n",
    "import math\n",
    "import numpy as np\n",
    "import pandas as pd\n",
    "import matplotlib.pyplot as plt\n",
    "from tqdm import tqdm\n"
   ]
  },
  {
   "cell_type": "code",
   "execution_count": 2,
   "id": "growing-sodium",
   "metadata": {},
   "outputs": [],
   "source": [
    "np.random.seed(42)"
   ]
  },
  {
   "cell_type": "markdown",
   "id": "ceramic-injection",
   "metadata": {},
   "source": [
    "## Load Histograms and Data Statistics"
   ]
  },
  {
   "cell_type": "code",
   "execution_count": 3,
   "id": "associate-sellers",
   "metadata": {},
   "outputs": [],
   "source": [
    "with open(\"./data/summarizing_statistics.pkl\", 'rb') as f:\n",
    "    summarizing_statistics = joblib.load(f)"
   ]
  },
  {
   "cell_type": "code",
   "execution_count": 4,
   "id": "bound-young",
   "metadata": {},
   "outputs": [
    {
     "data": {
      "text/html": [
       "<div>\n",
       "<style scoped>\n",
       "    .dataframe tbody tr th:only-of-type {\n",
       "        vertical-align: middle;\n",
       "    }\n",
       "\n",
       "    .dataframe tbody tr th {\n",
       "        vertical-align: top;\n",
       "    }\n",
       "\n",
       "    .dataframe thead th {\n",
       "        text-align: right;\n",
       "    }\n",
       "</style>\n",
       "<table border=\"1\" class=\"dataframe\">\n",
       "  <thead>\n",
       "    <tr style=\"text-align: right;\">\n",
       "      <th></th>\n",
       "      <th>number_of_datapoints</th>\n",
       "      <th>energy_norm_log_mean</th>\n",
       "      <th>temperature_diff_mean</th>\n",
       "      <th>rms_norm_log_mean</th>\n",
       "      <th>details_ratedhead_mean</th>\n",
       "      <th>energy_norm_log_min</th>\n",
       "      <th>temperature_diff_min</th>\n",
       "      <th>rms_norm_log_min</th>\n",
       "      <th>details_ratedhead_min</th>\n",
       "      <th>energy_norm_log_max</th>\n",
       "      <th>temperature_diff_max</th>\n",
       "      <th>rms_norm_log_max</th>\n",
       "      <th>details_ratedhead_max</th>\n",
       "      <th>Covariance_matrix</th>\n",
       "    </tr>\n",
       "  </thead>\n",
       "  <tbody>\n",
       "    <tr>\n",
       "      <th>on</th>\n",
       "      <td>9680213</td>\n",
       "      <td>1.861944</td>\n",
       "      <td>9.513191</td>\n",
       "      <td>0.730331</td>\n",
       "      <td>105.323685</td>\n",
       "      <td>-5.914482</td>\n",
       "      <td>-24.000</td>\n",
       "      <td>-3.043901</td>\n",
       "      <td>-1.0</td>\n",
       "      <td>9.212087</td>\n",
       "      <td>110.625000</td>\n",
       "      <td>6.308744</td>\n",
       "      <td>2403.0</td>\n",
       "      <td>[[4.054988675775044, 1.6181932043448362, 1.438...</td>\n",
       "    </tr>\n",
       "    <tr>\n",
       "      <th>off</th>\n",
       "      <td>16775063</td>\n",
       "      <td>-3.226129</td>\n",
       "      <td>1.274514</td>\n",
       "      <td>-1.542884</td>\n",
       "      <td>89.319163</td>\n",
       "      <td>-10.605203</td>\n",
       "      <td>-38.875</td>\n",
       "      <td>-4.430309</td>\n",
       "      <td>-1.0</td>\n",
       "      <td>7.588837</td>\n",
       "      <td>109.140903</td>\n",
       "      <td>4.138240</td>\n",
       "      <td>2403.0</td>\n",
       "      <td>[[1.5394827351582467, 0.21880415026212985, 0.7...</td>\n",
       "    </tr>\n",
       "    <tr>\n",
       "      <th>all</th>\n",
       "      <td>26455276</td>\n",
       "      <td>-1.364360</td>\n",
       "      <td>4.289117</td>\n",
       "      <td>-0.711095</td>\n",
       "      <td>95.175355</td>\n",
       "      <td>-10.605203</td>\n",
       "      <td>-38.875</td>\n",
       "      <td>-4.430309</td>\n",
       "      <td>-1.0</td>\n",
       "      <td>9.212087</td>\n",
       "      <td>110.625000</td>\n",
       "      <td>6.308744</td>\n",
       "      <td>2403.0</td>\n",
       "      <td>[[8.466562429846425, 10.45687699516861, 3.7031...</td>\n",
       "    </tr>\n",
       "  </tbody>\n",
       "</table>\n",
       "</div>"
      ],
      "text/plain": [
       "    number_of_datapoints energy_norm_log_mean temperature_diff_mean  \\\n",
       "on               9680213             1.861944              9.513191   \n",
       "off             16775063            -3.226129              1.274514   \n",
       "all             26455276            -1.364360              4.289117   \n",
       "\n",
       "    rms_norm_log_mean details_ratedhead_mean energy_norm_log_min  \\\n",
       "on           0.730331             105.323685           -5.914482   \n",
       "off         -1.542884              89.319163          -10.605203   \n",
       "all         -0.711095              95.175355          -10.605203   \n",
       "\n",
       "    temperature_diff_min rms_norm_log_min details_ratedhead_min  \\\n",
       "on               -24.000        -3.043901                  -1.0   \n",
       "off              -38.875        -4.430309                  -1.0   \n",
       "all              -38.875        -4.430309                  -1.0   \n",
       "\n",
       "    energy_norm_log_max temperature_diff_max rms_norm_log_max  \\\n",
       "on             9.212087           110.625000         6.308744   \n",
       "off            7.588837           109.140903         4.138240   \n",
       "all            9.212087           110.625000         6.308744   \n",
       "\n",
       "    details_ratedhead_max                                  Covariance_matrix  \n",
       "on                 2403.0  [[4.054988675775044, 1.6181932043448362, 1.438...  \n",
       "off                2403.0  [[1.5394827351582467, 0.21880415026212985, 0.7...  \n",
       "all                2403.0  [[8.466562429846425, 10.45687699516861, 3.7031...  "
      ]
     },
     "execution_count": 4,
     "metadata": {},
     "output_type": "execute_result"
    }
   ],
   "source": [
    "summarizing_statistics"
   ]
  },
  {
   "cell_type": "code",
   "execution_count": 5,
   "id": "practical-satellite",
   "metadata": {},
   "outputs": [],
   "source": [
    "with open(\"./data/hist_on.pkl\", 'rb') as f:\n",
    "    hist_on = joblib.load(f)"
   ]
  },
  {
   "cell_type": "code",
   "execution_count": 6,
   "id": "qualified-scholar",
   "metadata": {},
   "outputs": [],
   "source": [
    "with open(\"./data/hist_off.pkl\", 'rb') as f:\n",
    "    hist_off = joblib.load(f)"
   ]
  },
  {
   "cell_type": "code",
   "execution_count": 7,
   "id": "trying-lounge",
   "metadata": {},
   "outputs": [
    {
     "name": "stdout",
     "output_type": "stream",
     "text": [
      "Total ON: 9639507\n"
     ]
    }
   ],
   "source": [
    "print('Total ON:',sum(hist_on.reshape(1,-1)[0]))"
   ]
  },
  {
   "cell_type": "code",
   "execution_count": 8,
   "id": "medical-republic",
   "metadata": {},
   "outputs": [
    {
     "name": "stdout",
     "output_type": "stream",
     "text": [
      "Total OFF: 16741535\n"
     ]
    }
   ],
   "source": [
    "print('Total OFF:',sum(hist_off.reshape(1,-1)[0]))\n"
   ]
  },
  {
   "cell_type": "code",
   "execution_count": 15,
   "id": "bored-sister",
   "metadata": {},
   "outputs": [],
   "source": [
    "path = \"./data/replica_summarizing_statistics.csv\"\n",
    "summarizing_statistics_replica = pd.read_csv(path, index_col=0)"
   ]
  },
  {
   "cell_type": "code",
   "execution_count": 16,
   "id": "christian-sixth",
   "metadata": {},
   "outputs": [
    {
     "data": {
      "text/html": [
       "<div>\n",
       "<style scoped>\n",
       "    .dataframe tbody tr th:only-of-type {\n",
       "        vertical-align: middle;\n",
       "    }\n",
       "\n",
       "    .dataframe tbody tr th {\n",
       "        vertical-align: top;\n",
       "    }\n",
       "\n",
       "    .dataframe thead th {\n",
       "        text-align: right;\n",
       "    }\n",
       "</style>\n",
       "<table border=\"1\" class=\"dataframe\">\n",
       "  <thead>\n",
       "    <tr style=\"text-align: right;\">\n",
       "      <th></th>\n",
       "      <th>number_of_datapoints</th>\n",
       "      <th>energy_norm_log_mean</th>\n",
       "      <th>temperature_diff_mean</th>\n",
       "      <th>rms_norm_log_mean</th>\n",
       "      <th>details_ratedhead_mean</th>\n",
       "      <th>energy_norm_log_min</th>\n",
       "      <th>temperature_diff_min</th>\n",
       "      <th>rms_norm_log_min</th>\n",
       "      <th>details_ratedhead_min</th>\n",
       "      <th>energy_norm_log_max</th>\n",
       "      <th>temperature_diff_max</th>\n",
       "      <th>rms_norm_log_max</th>\n",
       "      <th>details_ratedhead_max</th>\n",
       "      <th>Covariance_matrix</th>\n",
       "    </tr>\n",
       "  </thead>\n",
       "  <tbody>\n",
       "    <tr>\n",
       "      <th>on</th>\n",
       "      <td>9680213</td>\n",
       "      <td>1.861944</td>\n",
       "      <td>9.513191</td>\n",
       "      <td>0.730331</td>\n",
       "      <td>105.323685</td>\n",
       "      <td>-5.914482</td>\n",
       "      <td>-24.000000</td>\n",
       "      <td>-3.043901</td>\n",
       "      <td>-1.000000</td>\n",
       "      <td>9.212087</td>\n",
       "      <td>110.625000</td>\n",
       "      <td>6.308744</td>\n",
       "      <td>2403.000000</td>\n",
       "      <td>[[4.05498868e+00 1.61819320e+00 1.43801350e+00...</td>\n",
       "    </tr>\n",
       "    <tr>\n",
       "      <th>on_replica</th>\n",
       "      <td>9639507</td>\n",
       "      <td>2.262454</td>\n",
       "      <td>11.145556</td>\n",
       "      <td>0.925975</td>\n",
       "      <td>118.743587</td>\n",
       "      <td>-5.843427</td>\n",
       "      <td>-23.977141</td>\n",
       "      <td>-3.021036</td>\n",
       "      <td>0.000006</td>\n",
       "      <td>10.007755</td>\n",
       "      <td>117.621411</td>\n",
       "      <td>6.767623</td>\n",
       "      <td>2402.992395</td>\n",
       "      <td>[[ 4.60037788e+00  1.66251134e+00  1.59768757e...</td>\n",
       "    </tr>\n",
       "    <tr>\n",
       "      <th>off</th>\n",
       "      <td>16775063</td>\n",
       "      <td>-3.226129</td>\n",
       "      <td>1.274514</td>\n",
       "      <td>-1.542884</td>\n",
       "      <td>89.319163</td>\n",
       "      <td>-10.605203</td>\n",
       "      <td>-38.875000</td>\n",
       "      <td>-4.430309</td>\n",
       "      <td>-1.000000</td>\n",
       "      <td>7.588837</td>\n",
       "      <td>109.140903</td>\n",
       "      <td>4.138240</td>\n",
       "      <td>2403.000000</td>\n",
       "      <td>[[ 1.53948274e+00  2.18804150e-01  7.78027734e...</td>\n",
       "    </tr>\n",
       "    <tr>\n",
       "      <th>off_replica</th>\n",
       "      <td>16741535</td>\n",
       "      <td>-2.791476</td>\n",
       "      <td>4.517446</td>\n",
       "      <td>-1.396657</td>\n",
       "      <td>107.331233</td>\n",
       "      <td>-9.894227</td>\n",
       "      <td>-37.217121</td>\n",
       "      <td>-4.272182</td>\n",
       "      <td>0.000004</td>\n",
       "      <td>8.534652</td>\n",
       "      <td>106.621120</td>\n",
       "      <td>4.482172</td>\n",
       "      <td>2402.991829</td>\n",
       "      <td>[[ 1.77712398e+00  9.46578975e-02  8.42137846e...</td>\n",
       "    </tr>\n",
       "    <tr>\n",
       "      <th>all</th>\n",
       "      <td>26455276</td>\n",
       "      <td>-1.364360</td>\n",
       "      <td>4.289117</td>\n",
       "      <td>-0.711095</td>\n",
       "      <td>95.175355</td>\n",
       "      <td>-10.605203</td>\n",
       "      <td>-38.875000</td>\n",
       "      <td>-4.430309</td>\n",
       "      <td>-1.000000</td>\n",
       "      <td>9.212087</td>\n",
       "      <td>110.625000</td>\n",
       "      <td>6.308744</td>\n",
       "      <td>2403.000000</td>\n",
       "      <td>[[8.46656243e+00 1.04568770e+01 3.70312553e+00...</td>\n",
       "    </tr>\n",
       "    <tr>\n",
       "      <th>all_replica</th>\n",
       "      <td>26381042</td>\n",
       "      <td>-0.944794</td>\n",
       "      <td>6.939326</td>\n",
       "      <td>-0.547978</td>\n",
       "      <td>111.501253</td>\n",
       "      <td>-9.894227</td>\n",
       "      <td>-37.217121</td>\n",
       "      <td>-4.272182</td>\n",
       "      <td>0.000004</td>\n",
       "      <td>10.007755</td>\n",
       "      <td>117.621411</td>\n",
       "      <td>6.767623</td>\n",
       "      <td>2402.992395</td>\n",
       "      <td>[[8.73149553e+00 8.43511366e+00 3.84013568e+00...</td>\n",
       "    </tr>\n",
       "  </tbody>\n",
       "</table>\n",
       "</div>"
      ],
      "text/plain": [
       "             number_of_datapoints  energy_norm_log_mean  \\\n",
       "on                        9680213              1.861944   \n",
       "on_replica                9639507              2.262454   \n",
       "off                      16775063             -3.226129   \n",
       "off_replica              16741535             -2.791476   \n",
       "all                      26455276             -1.364360   \n",
       "all_replica              26381042             -0.944794   \n",
       "\n",
       "             temperature_diff_mean  rms_norm_log_mean  details_ratedhead_mean  \\\n",
       "on                        9.513191           0.730331              105.323685   \n",
       "on_replica               11.145556           0.925975              118.743587   \n",
       "off                       1.274514          -1.542884               89.319163   \n",
       "off_replica               4.517446          -1.396657              107.331233   \n",
       "all                       4.289117          -0.711095               95.175355   \n",
       "all_replica               6.939326          -0.547978              111.501253   \n",
       "\n",
       "             energy_norm_log_min  temperature_diff_min  rms_norm_log_min  \\\n",
       "on                     -5.914482            -24.000000         -3.043901   \n",
       "on_replica             -5.843427            -23.977141         -3.021036   \n",
       "off                   -10.605203            -38.875000         -4.430309   \n",
       "off_replica            -9.894227            -37.217121         -4.272182   \n",
       "all                   -10.605203            -38.875000         -4.430309   \n",
       "all_replica            -9.894227            -37.217121         -4.272182   \n",
       "\n",
       "             details_ratedhead_min  energy_norm_log_max  temperature_diff_max  \\\n",
       "on                       -1.000000             9.212087            110.625000   \n",
       "on_replica                0.000006            10.007755            117.621411   \n",
       "off                      -1.000000             7.588837            109.140903   \n",
       "off_replica               0.000004             8.534652            106.621120   \n",
       "all                      -1.000000             9.212087            110.625000   \n",
       "all_replica               0.000004            10.007755            117.621411   \n",
       "\n",
       "             rms_norm_log_max  details_ratedhead_max  \\\n",
       "on                   6.308744            2403.000000   \n",
       "on_replica           6.767623            2402.992395   \n",
       "off                  4.138240            2403.000000   \n",
       "off_replica          4.482172            2402.991829   \n",
       "all                  6.308744            2403.000000   \n",
       "all_replica          6.767623            2402.992395   \n",
       "\n",
       "                                             Covariance_matrix  \n",
       "on           [[4.05498868e+00 1.61819320e+00 1.43801350e+00...  \n",
       "on_replica   [[ 4.60037788e+00  1.66251134e+00  1.59768757e...  \n",
       "off          [[ 1.53948274e+00  2.18804150e-01  7.78027734e...  \n",
       "off_replica  [[ 1.77712398e+00  9.46578975e-02  8.42137846e...  \n",
       "all          [[8.46656243e+00 1.04568770e+01 3.70312553e+00...  \n",
       "all_replica  [[8.73149553e+00 8.43511366e+00 3.84013568e+00...  "
      ]
     },
     "execution_count": 16,
     "metadata": {},
     "output_type": "execute_result"
    }
   ],
   "source": [
    "summarizing_statistics_replica"
   ]
  },
  {
   "cell_type": "code",
   "execution_count": 17,
   "id": "democratic-flood",
   "metadata": {},
   "outputs": [
    {
     "name": "stdout",
     "output_type": "stream",
     "text": [
      "(26381042, 5)\n"
     ]
    }
   ],
   "source": [
    "path = \"./data/replica_pump_data.csv\"\n",
    "pump_data_replica = pd.read_csv(path)\n",
    "print(pump_data_replica.shape)"
   ]
  },
  {
   "cell_type": "code",
   "execution_count": 18,
   "id": "freelance-tours",
   "metadata": {},
   "outputs": [
    {
     "data": {
      "text/html": [
       "<div>\n",
       "<style scoped>\n",
       "    .dataframe tbody tr th:only-of-type {\n",
       "        vertical-align: middle;\n",
       "    }\n",
       "\n",
       "    .dataframe tbody tr th {\n",
       "        vertical-align: top;\n",
       "    }\n",
       "\n",
       "    .dataframe thead th {\n",
       "        text-align: right;\n",
       "    }\n",
       "</style>\n",
       "<table border=\"1\" class=\"dataframe\">\n",
       "  <thead>\n",
       "    <tr style=\"text-align: right;\">\n",
       "      <th></th>\n",
       "      <th>energy_norm_log</th>\n",
       "      <th>temperature_diff</th>\n",
       "      <th>rms_norm_log</th>\n",
       "      <th>details_ratedhead</th>\n",
       "      <th>state</th>\n",
       "    </tr>\n",
       "  </thead>\n",
       "  <tbody>\n",
       "    <tr>\n",
       "      <th>0</th>\n",
       "      <td>-4.642337</td>\n",
       "      <td>-0.585072</td>\n",
       "      <td>-2.831278</td>\n",
       "      <td>47.369469</td>\n",
       "      <td>1</td>\n",
       "    </tr>\n",
       "    <tr>\n",
       "      <th>1</th>\n",
       "      <td>-4.384410</td>\n",
       "      <td>-2.051363</td>\n",
       "      <td>-2.900545</td>\n",
       "      <td>120.240341</td>\n",
       "      <td>1</td>\n",
       "    </tr>\n",
       "    <tr>\n",
       "      <th>2</th>\n",
       "      <td>-5.047895</td>\n",
       "      <td>2.104730</td>\n",
       "      <td>-2.742720</td>\n",
       "      <td>92.577971</td>\n",
       "      <td>1</td>\n",
       "    </tr>\n",
       "    <tr>\n",
       "      <th>3</th>\n",
       "      <td>-4.962318</td>\n",
       "      <td>0.375291</td>\n",
       "      <td>-2.975236</td>\n",
       "      <td>75.714544</td>\n",
       "      <td>1</td>\n",
       "    </tr>\n",
       "    <tr>\n",
       "      <th>4</th>\n",
       "      <td>-5.082340</td>\n",
       "      <td>-1.878716</td>\n",
       "      <td>-2.900094</td>\n",
       "      <td>19.732252</td>\n",
       "      <td>1</td>\n",
       "    </tr>\n",
       "  </tbody>\n",
       "</table>\n",
       "</div>"
      ],
      "text/plain": [
       "   energy_norm_log  temperature_diff  rms_norm_log  details_ratedhead  state\n",
       "0        -4.642337         -0.585072     -2.831278          47.369469      1\n",
       "1        -4.384410         -2.051363     -2.900545         120.240341      1\n",
       "2        -5.047895          2.104730     -2.742720          92.577971      1\n",
       "3        -4.962318          0.375291     -2.975236          75.714544      1\n",
       "4        -5.082340         -1.878716     -2.900094          19.732252      1"
      ]
     },
     "execution_count": 18,
     "metadata": {},
     "output_type": "execute_result"
    }
   ],
   "source": [
    "pump_data_replica.head()"
   ]
  },
  {
   "cell_type": "code",
   "execution_count": 19,
   "id": "confused-width",
   "metadata": {},
   "outputs": [
    {
     "data": {
      "text/html": [
       "<div>\n",
       "<style scoped>\n",
       "    .dataframe tbody tr th:only-of-type {\n",
       "        vertical-align: middle;\n",
       "    }\n",
       "\n",
       "    .dataframe tbody tr th {\n",
       "        vertical-align: top;\n",
       "    }\n",
       "\n",
       "    .dataframe thead th {\n",
       "        text-align: right;\n",
       "    }\n",
       "</style>\n",
       "<table border=\"1\" class=\"dataframe\">\n",
       "  <thead>\n",
       "    <tr style=\"text-align: right;\">\n",
       "      <th></th>\n",
       "      <th>energy_norm_log</th>\n",
       "      <th>temperature_diff</th>\n",
       "      <th>rms_norm_log</th>\n",
       "      <th>details_ratedhead</th>\n",
       "      <th>state</th>\n",
       "    </tr>\n",
       "  </thead>\n",
       "  <tbody>\n",
       "    <tr>\n",
       "      <th>count</th>\n",
       "      <td>2.638104e+07</td>\n",
       "      <td>2.638104e+07</td>\n",
       "      <td>2.638104e+07</td>\n",
       "      <td>2.638104e+07</td>\n",
       "      <td>2.638104e+07</td>\n",
       "    </tr>\n",
       "    <tr>\n",
       "      <th>mean</th>\n",
       "      <td>-9.447940e-01</td>\n",
       "      <td>6.939326e+00</td>\n",
       "      <td>-5.479782e-01</td>\n",
       "      <td>1.115013e+02</td>\n",
       "      <td>3.653952e-01</td>\n",
       "    </tr>\n",
       "    <tr>\n",
       "      <th>std</th>\n",
       "      <td>2.954910e+00</td>\n",
       "      <td>9.601276e+00</td>\n",
       "      <td>1.405716e+00</td>\n",
       "      <td>1.955450e+02</td>\n",
       "      <td>4.815408e-01</td>\n",
       "    </tr>\n",
       "    <tr>\n",
       "      <th>min</th>\n",
       "      <td>-9.894227e+00</td>\n",
       "      <td>-3.721712e+01</td>\n",
       "      <td>-4.272182e+00</td>\n",
       "      <td>4.127640e-06</td>\n",
       "      <td>0.000000e+00</td>\n",
       "    </tr>\n",
       "    <tr>\n",
       "      <th>25%</th>\n",
       "      <td>-3.370405e+00</td>\n",
       "      <td>1.604177e+00</td>\n",
       "      <td>-1.820977e+00</td>\n",
       "      <td>3.802474e+01</td>\n",
       "      <td>0.000000e+00</td>\n",
       "    </tr>\n",
       "    <tr>\n",
       "      <th>50%</th>\n",
       "      <td>-2.187935e+00</td>\n",
       "      <td>4.925814e+00</td>\n",
       "      <td>-9.364350e-01</td>\n",
       "      <td>7.603595e+01</td>\n",
       "      <td>0.000000e+00</td>\n",
       "    </tr>\n",
       "    <tr>\n",
       "      <th>75%</th>\n",
       "      <td>1.350188e+00</td>\n",
       "      <td>8.836291e+00</td>\n",
       "      <td>5.890964e-01</td>\n",
       "      <td>1.140709e+02</td>\n",
       "      <td>1.000000e+00</td>\n",
       "    </tr>\n",
       "    <tr>\n",
       "      <th>max</th>\n",
       "      <td>1.000776e+01</td>\n",
       "      <td>1.176214e+02</td>\n",
       "      <td>6.767623e+00</td>\n",
       "      <td>2.402992e+03</td>\n",
       "      <td>1.000000e+00</td>\n",
       "    </tr>\n",
       "  </tbody>\n",
       "</table>\n",
       "</div>"
      ],
      "text/plain": [
       "       energy_norm_log  temperature_diff  rms_norm_log  details_ratedhead  \\\n",
       "count     2.638104e+07      2.638104e+07  2.638104e+07       2.638104e+07   \n",
       "mean     -9.447940e-01      6.939326e+00 -5.479782e-01       1.115013e+02   \n",
       "std       2.954910e+00      9.601276e+00  1.405716e+00       1.955450e+02   \n",
       "min      -9.894227e+00     -3.721712e+01 -4.272182e+00       4.127640e-06   \n",
       "25%      -3.370405e+00      1.604177e+00 -1.820977e+00       3.802474e+01   \n",
       "50%      -2.187935e+00      4.925814e+00 -9.364350e-01       7.603595e+01   \n",
       "75%       1.350188e+00      8.836291e+00  5.890964e-01       1.140709e+02   \n",
       "max       1.000776e+01      1.176214e+02  6.767623e+00       2.402992e+03   \n",
       "\n",
       "              state  \n",
       "count  2.638104e+07  \n",
       "mean   3.653952e-01  \n",
       "std    4.815408e-01  \n",
       "min    0.000000e+00  \n",
       "25%    0.000000e+00  \n",
       "50%    0.000000e+00  \n",
       "75%    1.000000e+00  \n",
       "max    1.000000e+00  "
      ]
     },
     "execution_count": 19,
     "metadata": {},
     "output_type": "execute_result"
    }
   ],
   "source": [
    "pump_data_replica.describe()"
   ]
  },
  {
   "cell_type": "code",
   "execution_count": 20,
   "id": "coupled-material",
   "metadata": {},
   "outputs": [
    {
     "name": "stdout",
     "output_type": "stream",
     "text": [
      "<class 'pandas.core.frame.DataFrame'>\n",
      "RangeIndex: 26381042 entries, 0 to 26381041\n",
      "Data columns (total 5 columns):\n",
      " #   Column             Dtype  \n",
      "---  ------             -----  \n",
      " 0   energy_norm_log    float64\n",
      " 1   temperature_diff   float64\n",
      " 2   rms_norm_log       float64\n",
      " 3   details_ratedhead  float64\n",
      " 4   state              int64  \n",
      "dtypes: float64(4), int64(1)\n",
      "memory usage: 1006.4 MB\n"
     ]
    }
   ],
   "source": [
    "pump_data_replica.info()"
   ]
  },
  {
   "cell_type": "code",
   "execution_count": null,
   "id": "sublime-input",
   "metadata": {},
   "outputs": [],
   "source": [
    "X_data = pump_data_replica.sap"
   ]
  },
  {
   "cell_type": "markdown",
   "id": "forty-infection",
   "metadata": {},
   "source": [
    "# Reproducing Dataframe from Information"
   ]
  },
  {
   "cell_type": "markdown",
   "id": "planned-salvation",
   "metadata": {},
   "source": [
    "## Insight into Dataframe"
   ]
  },
  {
   "cell_type": "markdown",
   "id": "statutory-veteran",
   "metadata": {},
   "source": [
    "### Energy Distribution"
   ]
  },
  {
   "cell_type": "code",
   "execution_count": 13,
   "id": "polish-tobacco",
   "metadata": {},
   "outputs": [
    {
     "ename": "NameError",
     "evalue": "name 'rep_df_all' is not defined",
     "output_type": "error",
     "traceback": [
      "\u001b[0;31m---------------------------------------------------------------------------\u001b[0m",
      "\u001b[0;31mNameError\u001b[0m                                 Traceback (most recent call last)",
      "\u001b[0;32m<ipython-input-13-c554549b2f3e>\u001b[0m in \u001b[0;36m<module>\u001b[0;34m\u001b[0m\n\u001b[0;32m----> 1\u001b[0;31m \u001b[0max\u001b[0m \u001b[0;34m=\u001b[0m \u001b[0mrep_df_all\u001b[0m\u001b[0;34m[\u001b[0m\u001b[0;34m'energy_norm_log'\u001b[0m\u001b[0;34m]\u001b[0m\u001b[0;34m.\u001b[0m\u001b[0mplot\u001b[0m\u001b[0;34m.\u001b[0m\u001b[0mhist\u001b[0m\u001b[0;34m(\u001b[0m\u001b[0mbins\u001b[0m\u001b[0;34m=\u001b[0m\u001b[0;36m20\u001b[0m\u001b[0;34m,\u001b[0m \u001b[0malpha\u001b[0m\u001b[0;34m=\u001b[0m\u001b[0;36m0.5\u001b[0m\u001b[0;34m)\u001b[0m\u001b[0;34m\u001b[0m\u001b[0;34m\u001b[0m\u001b[0m\n\u001b[0m",
      "\u001b[0;31mNameError\u001b[0m: name 'rep_df_all' is not defined"
     ]
    }
   ],
   "source": [
    "ax = rep_df_all['energy_norm_log'].plot.hist(bins=20, alpha=0.5)"
   ]
  },
  {
   "cell_type": "markdown",
   "id": "technical-subject",
   "metadata": {},
   "source": [
    "### Energy Distribution"
   ]
  },
  {
   "cell_type": "code",
   "execution_count": null,
   "id": "apparent-avatar",
   "metadata": {},
   "outputs": [],
   "source": [
    "ax = rep_df_all['temperature_diff'].plot.hist(bins=20, alpha=0.5)"
   ]
  },
  {
   "cell_type": "markdown",
   "id": "productive-newton",
   "metadata": {},
   "source": [
    "### Energy Distribution"
   ]
  },
  {
   "cell_type": "code",
   "execution_count": null,
   "id": "spiritual-notice",
   "metadata": {},
   "outputs": [],
   "source": [
    "ax = rep_df_all['rms_norm_log'].plot.hist(bins=20, alpha=0.5)"
   ]
  },
  {
   "cell_type": "markdown",
   "id": "composed-arrow",
   "metadata": {},
   "source": [
    "### Energy Distribution"
   ]
  },
  {
   "cell_type": "code",
   "execution_count": null,
   "id": "finnish-relative",
   "metadata": {},
   "outputs": [],
   "source": [
    "ax = rep_df_all['details_ratedhead'].plot.hist(bins=20, alpha=0.5)"
   ]
  },
  {
   "cell_type": "markdown",
   "id": "cardiac-assembly",
   "metadata": {},
   "source": [
    "# Save Dataframe and Statistics"
   ]
  },
  {
   "cell_type": "code",
   "execution_count": null,
   "id": "closed-sister",
   "metadata": {},
   "outputs": [],
   "source": [
    "replica_summarizing_statistics.to_csv('./data/replica_summarizing_statistics.csv', index=True)"
   ]
  },
  {
   "cell_type": "code",
   "execution_count": null,
   "id": "finished-recording",
   "metadata": {},
   "outputs": [],
   "source": [
    "rep_df_all.to_csv('./data/replica_pump_data.csv', index=False)"
   ]
  },
  {
   "cell_type": "code",
   "execution_count": null,
   "id": "every-qualification",
   "metadata": {},
   "outputs": [],
   "source": []
  },
  {
   "cell_type": "markdown",
   "id": "excessive-bunch",
   "metadata": {},
   "source": []
  },
  {
   "cell_type": "markdown",
   "id": "arctic-science",
   "metadata": {},
   "source": [
    "# Old Code"
   ]
  },
  {
   "cell_type": "markdown",
   "id": "dimensional-montreal",
   "metadata": {},
   "source": [
    "## Splitting histogram into single features"
   ]
  },
  {
   "cell_type": "code",
   "execution_count": null,
   "id": "protecting-variable",
   "metadata": {},
   "outputs": [],
   "source": [
    "energy_hist = []\n",
    "temp_hist = []\n",
    "rms_hist = []\n",
    "details_hist = []\n",
    "for i in range(len(hist_on)):\n",
    "    energy_total = 0\n",
    "    temp_total = 0\n",
    "    rms_total = 0\n",
    "    details_total = 0\n",
    "    for j in range(len(hist_on[i])):\n",
    "        for k in range(len(hist_on[i][j])):\n",
    "            for l in range(len(hist_on[i][j][k])):\n",
    "                energy_total += hist_on[i][j][k][l]\n",
    "                temp_total += hist_on[j][i][k][l]\n",
    "                rms_total += hist_on[j][k][i][l]\n",
    "                details_total += hist_on[j][k][l][i]\n",
    "    energy_hist.append(energy_total)\n",
    "    temp_hist.append(temp_total)\n",
    "    rms_hist.append(rms_total)\n",
    "    details_hist.append(details_total)"
   ]
  },
  {
   "cell_type": "code",
   "execution_count": null,
   "id": "irish-surge",
   "metadata": {},
   "outputs": [],
   "source": []
  }
 ],
 "metadata": {
  "kernelspec": {
   "display_name": "Python 3",
   "language": "python",
   "name": "python3"
  },
  "language_info": {
   "codemirror_mode": {
    "name": "ipython",
    "version": 3
   },
   "file_extension": ".py",
   "mimetype": "text/x-python",
   "name": "python",
   "nbconvert_exporter": "python",
   "pygments_lexer": "ipython3",
   "version": "3.8.8"
  }
 },
 "nbformat": 4,
 "nbformat_minor": 5
}
