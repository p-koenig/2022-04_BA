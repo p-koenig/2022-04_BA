{
 "cells": [
  {
   "cell_type": "code",
   "execution_count": 1,
   "id": "hollywood-requirement",
   "metadata": {},
   "outputs": [],
   "source": [
    "import joblib\n",
    "import math\n",
    "import numpy as np\n",
    "import pandas as pd\n",
    "import matplotlib.pyplot as plt\n",
    "from tqdm import tqdm\n",
    "\n",
    "from IPython.display import display\n",
    "\n",
    "from sklearn.metrics import accuracy_score, log_loss, roc_auc_score, f1_score\n",
    "from sklearn.model_selection import train_test_split\n",
    "\n",
    "import seaborn as sns\n",
    "\n",
    "import sympy as sym\n",
    "from sympy import Symbol, sympify, lambdify, abc, SympifyError\n",
    "\n",
    "from gplearn.genetic import SymbolicClassifier\n",
    "from sympy import *\n",
    "\n",
    "import types\n",
    "\n",
    "import graphviz\n",
    "\n",
    "from sklearn.preprocessing import MinMaxScaler\n",
    "from copy import deepcopy\n",
    "\n",
    "sns.set_style(\"darkgrid\")"
   ]
  },
  {
   "cell_type": "code",
   "execution_count": 2,
   "id": "reduced-condition",
   "metadata": {},
   "outputs": [],
   "source": [
    "np.random.seed(42)"
   ]
  },
  {
   "cell_type": "markdown",
   "id": "modified-colleague",
   "metadata": {},
   "source": [
    "## Utility Functions"
   ]
  },
  {
   "cell_type": "code",
   "execution_count": 3,
   "id": "large-martin",
   "metadata": {},
   "outputs": [],
   "source": [
    "def calculate_function_values_from_sympy(function, data_points, variable_names=None):\n",
    "    \n",
    "    if variable_names is None:\n",
    "        variable_names = ['X' + str(i) for i in range(data_points.shape[1])]\n",
    "    \n",
    "    if function is None:\n",
    "        return np.array([np.nan for i in range(data_points.shape[0])])\n",
    "    try:\n",
    "        if variable_names == None:\n",
    "            function_vars = function.atoms(Symbol)\n",
    "        else:\n",
    "            function_vars = [sym.symbols(variable_name) for variable_name in variable_names]\n",
    "        #print('function_vars', function_vars)\n",
    "        lambda_function = lambdify([function_vars], function, modules=[\"scipy\", \"numpy\"])\n",
    "        #print('lambda_function', lambda_function)\n",
    "        #print('data_points[0]', data_points[0])\n",
    "        if len(function_vars) >= 1:\n",
    "            function_values = [lambda_function(data_point) for data_point in data_points]\n",
    "            \n",
    "        else:\n",
    "            function_values = [lambda_function() for i in range(data_points.shape[0])]\n",
    "    except (NameError, KeyError) as e:\n",
    "        #print(e)\n",
    "        function_values = []\n",
    "        for data_point in data_points:\n",
    "            function_value = function.evalf(subs={var: data_point[index] for index, var in enumerate(list(function_vars))})\n",
    "            try:\n",
    "                function_value = float(function_value)\n",
    "            except TypeError as te:\n",
    "                #print(te)\n",
    "                #print(function_value)\n",
    "                function_value = np.inf\n",
    "            function_values.append(function_value)\n",
    "    function_values = np.nan_to_num(function_values).ravel()\n",
    "                \n",
    "    return function_values"
   ]
  },
  {
   "cell_type": "code",
   "execution_count": 4,
   "id": "swedish-roots",
   "metadata": {},
   "outputs": [],
   "source": [
    "def print_decision_tree_nodes(decision_tree): \n",
    "    \n",
    "    n_nodes = decision_tree.tree_.node_count\n",
    "    children_left = decision_tree.tree_.children_left\n",
    "    children_right = decision_tree.tree_.children_right\n",
    "    feature = decision_tree.tree_.feature\n",
    "    threshold = decision_tree.tree_.threshold\n",
    "\n",
    "    node_depth = np.zeros(shape=n_nodes, dtype=np.int64)\n",
    "    is_leaves = np.zeros(shape=n_nodes, dtype=bool)\n",
    "    stack = [(0, 0)]  # start with the root node id (0) and its depth (0)\n",
    "    while len(stack) > 0:\n",
    "        # `pop` ensures each node is only visited once\n",
    "        node_id, depth = stack.pop()\n",
    "        node_depth[node_id] = depth\n",
    "\n",
    "        # If the left and right child of a node is not the same we have a split\n",
    "        # node\n",
    "        is_split_node = children_left[node_id] != children_right[node_id]\n",
    "        # If a split node, append left and right children and depth to `stack`\n",
    "        # so we can loop through them\n",
    "        if is_split_node:\n",
    "            stack.append((children_left[node_id], depth + 1))\n",
    "            stack.append((children_right[node_id], depth + 1))\n",
    "        else:\n",
    "            is_leaves[node_id] = True\n",
    "\n",
    "    print(\"The binary tree structure has {n} nodes and has \"\n",
    "          \"the following tree structure:\\n\".format(n=n_nodes))\n",
    "    for i in range(n_nodes):\n",
    "        if is_leaves[i]:\n",
    "            print(\"{space}node={node} is a leaf node.\".format(\n",
    "                space=node_depth[i] * \"\\t\", node=i))\n",
    "        else:\n",
    "            print(\"{space}node={node} is a split node: \"\n",
    "                  \"go to node {left} if X[:, {feature}] <= {threshold} \"\n",
    "                  \"else to node {right}.\".format(\n",
    "                      space=node_depth[i] * \"\\t\",\n",
    "                      node=i,\n",
    "                      left=children_left[i],\n",
    "                      feature=feature[i],\n",
    "                      threshold=threshold[i],\n",
    "                      right=children_right[i]))    "
   ]
  },
  {
   "cell_type": "markdown",
   "id": "extended-nicholas",
   "metadata": {},
   "source": [
    "## Load Histograms and Data Statistics"
   ]
  },
  {
   "cell_type": "code",
   "execution_count": 5,
   "id": "related-worse",
   "metadata": {},
   "outputs": [],
   "source": [
    "with open(\"./data/summarizing_statistics.pkl\", 'rb') as f:\n",
    "    summarizing_statistics = joblib.load(f)"
   ]
  },
  {
   "cell_type": "code",
   "execution_count": 6,
   "id": "bulgarian-blues",
   "metadata": {},
   "outputs": [
    {
     "data": {
      "text/html": [
       "<div>\n",
       "<style scoped>\n",
       "    .dataframe tbody tr th:only-of-type {\n",
       "        vertical-align: middle;\n",
       "    }\n",
       "\n",
       "    .dataframe tbody tr th {\n",
       "        vertical-align: top;\n",
       "    }\n",
       "\n",
       "    .dataframe thead th {\n",
       "        text-align: right;\n",
       "    }\n",
       "</style>\n",
       "<table border=\"1\" class=\"dataframe\">\n",
       "  <thead>\n",
       "    <tr style=\"text-align: right;\">\n",
       "      <th></th>\n",
       "      <th>number_of_datapoints</th>\n",
       "      <th>energy_norm_log_mean</th>\n",
       "      <th>temperature_diff_mean</th>\n",
       "      <th>rms_norm_log_mean</th>\n",
       "      <th>details_ratedhead_mean</th>\n",
       "      <th>energy_norm_log_min</th>\n",
       "      <th>temperature_diff_min</th>\n",
       "      <th>rms_norm_log_min</th>\n",
       "      <th>details_ratedhead_min</th>\n",
       "      <th>energy_norm_log_max</th>\n",
       "      <th>temperature_diff_max</th>\n",
       "      <th>rms_norm_log_max</th>\n",
       "      <th>details_ratedhead_max</th>\n",
       "      <th>Covariance_matrix</th>\n",
       "    </tr>\n",
       "  </thead>\n",
       "  <tbody>\n",
       "    <tr>\n",
       "      <th>on</th>\n",
       "      <td>9680213</td>\n",
       "      <td>1.861944</td>\n",
       "      <td>9.513191</td>\n",
       "      <td>0.730331</td>\n",
       "      <td>105.323685</td>\n",
       "      <td>-5.914482</td>\n",
       "      <td>-24.000</td>\n",
       "      <td>-3.043901</td>\n",
       "      <td>-1.0</td>\n",
       "      <td>9.212087</td>\n",
       "      <td>110.625000</td>\n",
       "      <td>6.308744</td>\n",
       "      <td>2403.0</td>\n",
       "      <td>[[4.054988675775044, 1.6181932043448362, 1.438...</td>\n",
       "    </tr>\n",
       "    <tr>\n",
       "      <th>off</th>\n",
       "      <td>16775063</td>\n",
       "      <td>-3.226129</td>\n",
       "      <td>1.274514</td>\n",
       "      <td>-1.542884</td>\n",
       "      <td>89.319163</td>\n",
       "      <td>-10.605203</td>\n",
       "      <td>-38.875</td>\n",
       "      <td>-4.430309</td>\n",
       "      <td>-1.0</td>\n",
       "      <td>7.588837</td>\n",
       "      <td>109.140903</td>\n",
       "      <td>4.138240</td>\n",
       "      <td>2403.0</td>\n",
       "      <td>[[1.5394827351582467, 0.21880415026212985, 0.7...</td>\n",
       "    </tr>\n",
       "    <tr>\n",
       "      <th>all</th>\n",
       "      <td>26455276</td>\n",
       "      <td>-1.364360</td>\n",
       "      <td>4.289117</td>\n",
       "      <td>-0.711095</td>\n",
       "      <td>95.175355</td>\n",
       "      <td>-10.605203</td>\n",
       "      <td>-38.875</td>\n",
       "      <td>-4.430309</td>\n",
       "      <td>-1.0</td>\n",
       "      <td>9.212087</td>\n",
       "      <td>110.625000</td>\n",
       "      <td>6.308744</td>\n",
       "      <td>2403.0</td>\n",
       "      <td>[[8.466562429846425, 10.45687699516861, 3.7031...</td>\n",
       "    </tr>\n",
       "  </tbody>\n",
       "</table>\n",
       "</div>"
      ],
      "text/plain": [
       "    number_of_datapoints energy_norm_log_mean temperature_diff_mean  \\\n",
       "on               9680213             1.861944              9.513191   \n",
       "off             16775063            -3.226129              1.274514   \n",
       "all             26455276            -1.364360              4.289117   \n",
       "\n",
       "    rms_norm_log_mean details_ratedhead_mean energy_norm_log_min  \\\n",
       "on           0.730331             105.323685           -5.914482   \n",
       "off         -1.542884              89.319163          -10.605203   \n",
       "all         -0.711095              95.175355          -10.605203   \n",
       "\n",
       "    temperature_diff_min rms_norm_log_min details_ratedhead_min  \\\n",
       "on               -24.000        -3.043901                  -1.0   \n",
       "off              -38.875        -4.430309                  -1.0   \n",
       "all              -38.875        -4.430309                  -1.0   \n",
       "\n",
       "    energy_norm_log_max temperature_diff_max rms_norm_log_max  \\\n",
       "on             9.212087           110.625000         6.308744   \n",
       "off            7.588837           109.140903         4.138240   \n",
       "all            9.212087           110.625000         6.308744   \n",
       "\n",
       "    details_ratedhead_max                                  Covariance_matrix  \n",
       "on                 2403.0  [[4.054988675775044, 1.6181932043448362, 1.438...  \n",
       "off                2403.0  [[1.5394827351582467, 0.21880415026212985, 0.7...  \n",
       "all                2403.0  [[8.466562429846425, 10.45687699516861, 3.7031...  "
      ]
     },
     "execution_count": 6,
     "metadata": {},
     "output_type": "execute_result"
    }
   ],
   "source": [
    "summarizing_statistics"
   ]
  },
  {
   "cell_type": "code",
   "execution_count": 7,
   "id": "driving-marketing",
   "metadata": {},
   "outputs": [],
   "source": [
    "with open(\"./data/hist_on.pkl\", 'rb') as f:\n",
    "    hist_on = joblib.load(f)"
   ]
  },
  {
   "cell_type": "code",
   "execution_count": 8,
   "id": "statutory-jamaica",
   "metadata": {},
   "outputs": [],
   "source": [
    "with open(\"./data/hist_off.pkl\", 'rb') as f:\n",
    "    hist_off = joblib.load(f)"
   ]
  },
  {
   "cell_type": "code",
   "execution_count": 9,
   "id": "matched-connectivity",
   "metadata": {},
   "outputs": [
    {
     "name": "stdout",
     "output_type": "stream",
     "text": [
      "Total ON: 9639507\n"
     ]
    }
   ],
   "source": [
    "print('Total ON:',sum(hist_on.reshape(1,-1)[0]))"
   ]
  },
  {
   "cell_type": "code",
   "execution_count": 10,
   "id": "metallic-divide",
   "metadata": {},
   "outputs": [
    {
     "name": "stdout",
     "output_type": "stream",
     "text": [
      "Total OFF: 16741535\n"
     ]
    }
   ],
   "source": [
    "print('Total OFF:',sum(hist_off.reshape(1,-1)[0]))\n"
   ]
  },
  {
   "cell_type": "code",
   "execution_count": 11,
   "id": "wicked-xerox",
   "metadata": {},
   "outputs": [],
   "source": [
    "path = \"./data/replica_summarizing_statistics.csv\"\n",
    "summarizing_statistics_replica = pd.read_csv(path, index_col=0)"
   ]
  },
  {
   "cell_type": "code",
   "execution_count": 12,
   "id": "alpha-disclaimer",
   "metadata": {},
   "outputs": [
    {
     "data": {
      "text/html": [
       "<div>\n",
       "<style scoped>\n",
       "    .dataframe tbody tr th:only-of-type {\n",
       "        vertical-align: middle;\n",
       "    }\n",
       "\n",
       "    .dataframe tbody tr th {\n",
       "        vertical-align: top;\n",
       "    }\n",
       "\n",
       "    .dataframe thead th {\n",
       "        text-align: right;\n",
       "    }\n",
       "</style>\n",
       "<table border=\"1\" class=\"dataframe\">\n",
       "  <thead>\n",
       "    <tr style=\"text-align: right;\">\n",
       "      <th></th>\n",
       "      <th>number_of_datapoints</th>\n",
       "      <th>energy_norm_log_mean</th>\n",
       "      <th>temperature_diff_mean</th>\n",
       "      <th>rms_norm_log_mean</th>\n",
       "      <th>details_ratedhead_mean</th>\n",
       "      <th>energy_norm_log_min</th>\n",
       "      <th>temperature_diff_min</th>\n",
       "      <th>rms_norm_log_min</th>\n",
       "      <th>details_ratedhead_min</th>\n",
       "      <th>energy_norm_log_max</th>\n",
       "      <th>temperature_diff_max</th>\n",
       "      <th>rms_norm_log_max</th>\n",
       "      <th>details_ratedhead_max</th>\n",
       "      <th>Covariance_matrix</th>\n",
       "    </tr>\n",
       "  </thead>\n",
       "  <tbody>\n",
       "    <tr>\n",
       "      <th>on</th>\n",
       "      <td>9680213</td>\n",
       "      <td>1.861944</td>\n",
       "      <td>9.513191</td>\n",
       "      <td>0.730331</td>\n",
       "      <td>105.323685</td>\n",
       "      <td>-5.914482</td>\n",
       "      <td>-24.000000</td>\n",
       "      <td>-3.043901</td>\n",
       "      <td>-1.000000</td>\n",
       "      <td>9.212087</td>\n",
       "      <td>110.625000</td>\n",
       "      <td>6.308744</td>\n",
       "      <td>2403.000000</td>\n",
       "      <td>[[4.05498868e+00 1.61819320e+00 1.43801350e+00...</td>\n",
       "    </tr>\n",
       "    <tr>\n",
       "      <th>on_replica</th>\n",
       "      <td>9639507</td>\n",
       "      <td>2.262454</td>\n",
       "      <td>11.145556</td>\n",
       "      <td>0.925975</td>\n",
       "      <td>118.743587</td>\n",
       "      <td>-5.843427</td>\n",
       "      <td>-23.977141</td>\n",
       "      <td>-3.021036</td>\n",
       "      <td>0.000006</td>\n",
       "      <td>10.007755</td>\n",
       "      <td>117.621411</td>\n",
       "      <td>6.767623</td>\n",
       "      <td>2402.992395</td>\n",
       "      <td>[[ 4.60037788e+00  1.66251134e+00  1.59768757e...</td>\n",
       "    </tr>\n",
       "    <tr>\n",
       "      <th>off</th>\n",
       "      <td>16775063</td>\n",
       "      <td>-3.226129</td>\n",
       "      <td>1.274514</td>\n",
       "      <td>-1.542884</td>\n",
       "      <td>89.319163</td>\n",
       "      <td>-10.605203</td>\n",
       "      <td>-38.875000</td>\n",
       "      <td>-4.430309</td>\n",
       "      <td>-1.000000</td>\n",
       "      <td>7.588837</td>\n",
       "      <td>109.140903</td>\n",
       "      <td>4.138240</td>\n",
       "      <td>2403.000000</td>\n",
       "      <td>[[ 1.53948274e+00  2.18804150e-01  7.78027734e...</td>\n",
       "    </tr>\n",
       "    <tr>\n",
       "      <th>off_replica</th>\n",
       "      <td>16741535</td>\n",
       "      <td>-2.791476</td>\n",
       "      <td>4.517446</td>\n",
       "      <td>-1.396657</td>\n",
       "      <td>107.331233</td>\n",
       "      <td>-9.894227</td>\n",
       "      <td>-37.217121</td>\n",
       "      <td>-4.272182</td>\n",
       "      <td>0.000004</td>\n",
       "      <td>8.534652</td>\n",
       "      <td>106.621120</td>\n",
       "      <td>4.482172</td>\n",
       "      <td>2402.991829</td>\n",
       "      <td>[[ 1.77712398e+00  9.46578975e-02  8.42137846e...</td>\n",
       "    </tr>\n",
       "    <tr>\n",
       "      <th>all</th>\n",
       "      <td>26455276</td>\n",
       "      <td>-1.364360</td>\n",
       "      <td>4.289117</td>\n",
       "      <td>-0.711095</td>\n",
       "      <td>95.175355</td>\n",
       "      <td>-10.605203</td>\n",
       "      <td>-38.875000</td>\n",
       "      <td>-4.430309</td>\n",
       "      <td>-1.000000</td>\n",
       "      <td>9.212087</td>\n",
       "      <td>110.625000</td>\n",
       "      <td>6.308744</td>\n",
       "      <td>2403.000000</td>\n",
       "      <td>[[8.46656243e+00 1.04568770e+01 3.70312553e+00...</td>\n",
       "    </tr>\n",
       "    <tr>\n",
       "      <th>all_replica</th>\n",
       "      <td>26381042</td>\n",
       "      <td>-0.944794</td>\n",
       "      <td>6.939326</td>\n",
       "      <td>-0.547978</td>\n",
       "      <td>111.501253</td>\n",
       "      <td>-9.894227</td>\n",
       "      <td>-37.217121</td>\n",
       "      <td>-4.272182</td>\n",
       "      <td>0.000004</td>\n",
       "      <td>10.007755</td>\n",
       "      <td>117.621411</td>\n",
       "      <td>6.767623</td>\n",
       "      <td>2402.992395</td>\n",
       "      <td>[[8.73149553e+00 8.43511366e+00 3.84013568e+00...</td>\n",
       "    </tr>\n",
       "  </tbody>\n",
       "</table>\n",
       "</div>"
      ],
      "text/plain": [
       "             number_of_datapoints  energy_norm_log_mean  \\\n",
       "on                        9680213              1.861944   \n",
       "on_replica                9639507              2.262454   \n",
       "off                      16775063             -3.226129   \n",
       "off_replica              16741535             -2.791476   \n",
       "all                      26455276             -1.364360   \n",
       "all_replica              26381042             -0.944794   \n",
       "\n",
       "             temperature_diff_mean  rms_norm_log_mean  details_ratedhead_mean  \\\n",
       "on                        9.513191           0.730331              105.323685   \n",
       "on_replica               11.145556           0.925975              118.743587   \n",
       "off                       1.274514          -1.542884               89.319163   \n",
       "off_replica               4.517446          -1.396657              107.331233   \n",
       "all                       4.289117          -0.711095               95.175355   \n",
       "all_replica               6.939326          -0.547978              111.501253   \n",
       "\n",
       "             energy_norm_log_min  temperature_diff_min  rms_norm_log_min  \\\n",
       "on                     -5.914482            -24.000000         -3.043901   \n",
       "on_replica             -5.843427            -23.977141         -3.021036   \n",
       "off                   -10.605203            -38.875000         -4.430309   \n",
       "off_replica            -9.894227            -37.217121         -4.272182   \n",
       "all                   -10.605203            -38.875000         -4.430309   \n",
       "all_replica            -9.894227            -37.217121         -4.272182   \n",
       "\n",
       "             details_ratedhead_min  energy_norm_log_max  temperature_diff_max  \\\n",
       "on                       -1.000000             9.212087            110.625000   \n",
       "on_replica                0.000006            10.007755            117.621411   \n",
       "off                      -1.000000             7.588837            109.140903   \n",
       "off_replica               0.000004             8.534652            106.621120   \n",
       "all                      -1.000000             9.212087            110.625000   \n",
       "all_replica               0.000004            10.007755            117.621411   \n",
       "\n",
       "             rms_norm_log_max  details_ratedhead_max  \\\n",
       "on                   6.308744            2403.000000   \n",
       "on_replica           6.767623            2402.992395   \n",
       "off                  4.138240            2403.000000   \n",
       "off_replica          4.482172            2402.991829   \n",
       "all                  6.308744            2403.000000   \n",
       "all_replica          6.767623            2402.992395   \n",
       "\n",
       "                                             Covariance_matrix  \n",
       "on           [[4.05498868e+00 1.61819320e+00 1.43801350e+00...  \n",
       "on_replica   [[ 4.60037788e+00  1.66251134e+00  1.59768757e...  \n",
       "off          [[ 1.53948274e+00  2.18804150e-01  7.78027734e...  \n",
       "off_replica  [[ 1.77712398e+00  9.46578975e-02  8.42137846e...  \n",
       "all          [[8.46656243e+00 1.04568770e+01 3.70312553e+00...  \n",
       "all_replica  [[8.73149553e+00 8.43511366e+00 3.84013568e+00...  "
      ]
     },
     "execution_count": 12,
     "metadata": {},
     "output_type": "execute_result"
    }
   ],
   "source": [
    "summarizing_statistics_replica"
   ]
  },
  {
   "cell_type": "code",
   "execution_count": 13,
   "id": "northern-hardware",
   "metadata": {},
   "outputs": [
    {
     "name": "stdout",
     "output_type": "stream",
     "text": [
      "(26381042, 5)\n"
     ]
    }
   ],
   "source": [
    "path = \"./data/replica_pump_data.csv\"\n",
    "pump_data_replica = pd.read_csv(path)\n",
    "print(pump_data_replica.shape)"
   ]
  },
  {
   "cell_type": "code",
   "execution_count": 14,
   "id": "genetic-accent",
   "metadata": {},
   "outputs": [
    {
     "name": "stderr",
     "output_type": "stream",
     "text": [
      "/home/smarton/anaconda3/envs/xai/lib/python3.8/site-packages/sklearn/base.py:310: UserWarning: Trying to unpickle estimator DecisionTreeClassifier from version 0.23.1 when using version 0.24.0. This might lead to breaking code or invalid results. Use at your own risk.\n",
      "  warnings.warn(\n",
      "/home/smarton/anaconda3/envs/xai/lib/python3.8/site-packages/sklearn/base.py:310: UserWarning: Trying to unpickle estimator RandomForestClassifier from version 0.23.1 when using version 0.24.0. This might lead to breaking code or invalid results. Use at your own risk.\n",
      "  warnings.warn(\n"
     ]
    }
   ],
   "source": [
    "with open(\"./data/randForestBest_20201002.pkl\", 'rb') as f:\n",
    "    random_forest_model = joblib.load(f)  "
   ]
  },
  {
   "cell_type": "markdown",
   "id": "little-brain",
   "metadata": {},
   "source": [
    "# Insight into Dataframe"
   ]
  },
  {
   "cell_type": "code",
   "execution_count": 15,
   "id": "established-vacuum",
   "metadata": {},
   "outputs": [
    {
     "data": {
      "text/html": [
       "<div>\n",
       "<style scoped>\n",
       "    .dataframe tbody tr th:only-of-type {\n",
       "        vertical-align: middle;\n",
       "    }\n",
       "\n",
       "    .dataframe tbody tr th {\n",
       "        vertical-align: top;\n",
       "    }\n",
       "\n",
       "    .dataframe thead th {\n",
       "        text-align: right;\n",
       "    }\n",
       "</style>\n",
       "<table border=\"1\" class=\"dataframe\">\n",
       "  <thead>\n",
       "    <tr style=\"text-align: right;\">\n",
       "      <th></th>\n",
       "      <th>energy_norm_log</th>\n",
       "      <th>temperature_diff</th>\n",
       "      <th>rms_norm_log</th>\n",
       "      <th>details_ratedhead</th>\n",
       "      <th>state</th>\n",
       "    </tr>\n",
       "  </thead>\n",
       "  <tbody>\n",
       "    <tr>\n",
       "      <th>0</th>\n",
       "      <td>-4.642337</td>\n",
       "      <td>-0.585072</td>\n",
       "      <td>-2.831278</td>\n",
       "      <td>47.369469</td>\n",
       "      <td>1</td>\n",
       "    </tr>\n",
       "    <tr>\n",
       "      <th>1</th>\n",
       "      <td>-4.384410</td>\n",
       "      <td>-2.051363</td>\n",
       "      <td>-2.900545</td>\n",
       "      <td>120.240341</td>\n",
       "      <td>1</td>\n",
       "    </tr>\n",
       "    <tr>\n",
       "      <th>2</th>\n",
       "      <td>-5.047895</td>\n",
       "      <td>2.104730</td>\n",
       "      <td>-2.742720</td>\n",
       "      <td>92.577971</td>\n",
       "      <td>1</td>\n",
       "    </tr>\n",
       "    <tr>\n",
       "      <th>3</th>\n",
       "      <td>-4.962318</td>\n",
       "      <td>0.375291</td>\n",
       "      <td>-2.975236</td>\n",
       "      <td>75.714544</td>\n",
       "      <td>1</td>\n",
       "    </tr>\n",
       "    <tr>\n",
       "      <th>4</th>\n",
       "      <td>-5.082340</td>\n",
       "      <td>-1.878716</td>\n",
       "      <td>-2.900094</td>\n",
       "      <td>19.732252</td>\n",
       "      <td>1</td>\n",
       "    </tr>\n",
       "  </tbody>\n",
       "</table>\n",
       "</div>"
      ],
      "text/plain": [
       "   energy_norm_log  temperature_diff  rms_norm_log  details_ratedhead  state\n",
       "0        -4.642337         -0.585072     -2.831278          47.369469      1\n",
       "1        -4.384410         -2.051363     -2.900545         120.240341      1\n",
       "2        -5.047895          2.104730     -2.742720          92.577971      1\n",
       "3        -4.962318          0.375291     -2.975236          75.714544      1\n",
       "4        -5.082340         -1.878716     -2.900094          19.732252      1"
      ]
     },
     "execution_count": 15,
     "metadata": {},
     "output_type": "execute_result"
    }
   ],
   "source": [
    "pump_data_replica.head()"
   ]
  },
  {
   "cell_type": "code",
   "execution_count": 16,
   "id": "arctic-groove",
   "metadata": {},
   "outputs": [
    {
     "data": {
      "text/html": [
       "<div>\n",
       "<style scoped>\n",
       "    .dataframe tbody tr th:only-of-type {\n",
       "        vertical-align: middle;\n",
       "    }\n",
       "\n",
       "    .dataframe tbody tr th {\n",
       "        vertical-align: top;\n",
       "    }\n",
       "\n",
       "    .dataframe thead th {\n",
       "        text-align: right;\n",
       "    }\n",
       "</style>\n",
       "<table border=\"1\" class=\"dataframe\">\n",
       "  <thead>\n",
       "    <tr style=\"text-align: right;\">\n",
       "      <th></th>\n",
       "      <th>energy_norm_log</th>\n",
       "      <th>temperature_diff</th>\n",
       "      <th>rms_norm_log</th>\n",
       "      <th>details_ratedhead</th>\n",
       "      <th>state</th>\n",
       "    </tr>\n",
       "  </thead>\n",
       "  <tbody>\n",
       "    <tr>\n",
       "      <th>count</th>\n",
       "      <td>2.638104e+07</td>\n",
       "      <td>2.638104e+07</td>\n",
       "      <td>2.638104e+07</td>\n",
       "      <td>2.638104e+07</td>\n",
       "      <td>2.638104e+07</td>\n",
       "    </tr>\n",
       "    <tr>\n",
       "      <th>mean</th>\n",
       "      <td>-9.447940e-01</td>\n",
       "      <td>6.939326e+00</td>\n",
       "      <td>-5.479782e-01</td>\n",
       "      <td>1.115013e+02</td>\n",
       "      <td>3.653952e-01</td>\n",
       "    </tr>\n",
       "    <tr>\n",
       "      <th>std</th>\n",
       "      <td>2.954910e+00</td>\n",
       "      <td>9.601276e+00</td>\n",
       "      <td>1.405716e+00</td>\n",
       "      <td>1.955450e+02</td>\n",
       "      <td>4.815408e-01</td>\n",
       "    </tr>\n",
       "    <tr>\n",
       "      <th>min</th>\n",
       "      <td>-9.894227e+00</td>\n",
       "      <td>-3.721712e+01</td>\n",
       "      <td>-4.272182e+00</td>\n",
       "      <td>4.127640e-06</td>\n",
       "      <td>0.000000e+00</td>\n",
       "    </tr>\n",
       "    <tr>\n",
       "      <th>25%</th>\n",
       "      <td>-3.370405e+00</td>\n",
       "      <td>1.604177e+00</td>\n",
       "      <td>-1.820977e+00</td>\n",
       "      <td>3.802474e+01</td>\n",
       "      <td>0.000000e+00</td>\n",
       "    </tr>\n",
       "    <tr>\n",
       "      <th>50%</th>\n",
       "      <td>-2.187935e+00</td>\n",
       "      <td>4.925814e+00</td>\n",
       "      <td>-9.364350e-01</td>\n",
       "      <td>7.603595e+01</td>\n",
       "      <td>0.000000e+00</td>\n",
       "    </tr>\n",
       "    <tr>\n",
       "      <th>75%</th>\n",
       "      <td>1.350188e+00</td>\n",
       "      <td>8.836291e+00</td>\n",
       "      <td>5.890964e-01</td>\n",
       "      <td>1.140709e+02</td>\n",
       "      <td>1.000000e+00</td>\n",
       "    </tr>\n",
       "    <tr>\n",
       "      <th>max</th>\n",
       "      <td>1.000776e+01</td>\n",
       "      <td>1.176214e+02</td>\n",
       "      <td>6.767623e+00</td>\n",
       "      <td>2.402992e+03</td>\n",
       "      <td>1.000000e+00</td>\n",
       "    </tr>\n",
       "  </tbody>\n",
       "</table>\n",
       "</div>"
      ],
      "text/plain": [
       "       energy_norm_log  temperature_diff  rms_norm_log  details_ratedhead  \\\n",
       "count     2.638104e+07      2.638104e+07  2.638104e+07       2.638104e+07   \n",
       "mean     -9.447940e-01      6.939326e+00 -5.479782e-01       1.115013e+02   \n",
       "std       2.954910e+00      9.601276e+00  1.405716e+00       1.955450e+02   \n",
       "min      -9.894227e+00     -3.721712e+01 -4.272182e+00       4.127640e-06   \n",
       "25%      -3.370405e+00      1.604177e+00 -1.820977e+00       3.802474e+01   \n",
       "50%      -2.187935e+00      4.925814e+00 -9.364350e-01       7.603595e+01   \n",
       "75%       1.350188e+00      8.836291e+00  5.890964e-01       1.140709e+02   \n",
       "max       1.000776e+01      1.176214e+02  6.767623e+00       2.402992e+03   \n",
       "\n",
       "              state  \n",
       "count  2.638104e+07  \n",
       "mean   3.653952e-01  \n",
       "std    4.815408e-01  \n",
       "min    0.000000e+00  \n",
       "25%    0.000000e+00  \n",
       "50%    0.000000e+00  \n",
       "75%    1.000000e+00  \n",
       "max    1.000000e+00  "
      ]
     },
     "execution_count": 16,
     "metadata": {},
     "output_type": "execute_result"
    }
   ],
   "source": [
    "pump_data_replica.describe()"
   ]
  },
  {
   "cell_type": "code",
   "execution_count": 17,
   "id": "conservative-shareware",
   "metadata": {},
   "outputs": [
    {
     "name": "stdout",
     "output_type": "stream",
     "text": [
      "<class 'pandas.core.frame.DataFrame'>\n",
      "RangeIndex: 26381042 entries, 0 to 26381041\n",
      "Data columns (total 5 columns):\n",
      " #   Column             Dtype  \n",
      "---  ------             -----  \n",
      " 0   energy_norm_log    float64\n",
      " 1   temperature_diff   float64\n",
      " 2   rms_norm_log       float64\n",
      " 3   details_ratedhead  float64\n",
      " 4   state              int64  \n",
      "dtypes: float64(4), int64(1)\n",
      "memory usage: 1006.4 MB\n"
     ]
    }
   ],
   "source": [
    "pump_data_replica.info()"
   ]
  },
  {
   "cell_type": "code",
   "execution_count": 18,
   "id": "binary-roommate",
   "metadata": {},
   "outputs": [],
   "source": [
    "legend_fontsize = 25\n",
    "label_fontsize = 35\n",
    "plot_fontsize = 30\n",
    "\n",
    "figsize = (15, 9)\n",
    "legend_loc = 2\n",
    "\n",
    "color_1 = '#84b7e9'#'#c0d6ff'\n",
    "color_2 = '#0a6fd3'#'#96bcff'\n",
    "color_3 = '#06427e'#'#6ca1ff'\n"
   ]
  },
  {
   "cell_type": "code",
   "execution_count": 19,
   "id": "intensive-provision",
   "metadata": {},
   "outputs": [
    {
     "data": {
      "text/plain": [
       "Text(0, 0.5, 'Frequency')"
      ]
     },
     "execution_count": 19,
     "metadata": {},
     "output_type": "execute_result"
    },
    {
     "data": {
      "image/png": "[encoded data removed]",
      "text/plain": [
       "<Figure size 1080x648 with 1 Axes>"
      ]
     },
     "metadata": {},
     "output_type": "display_data"
    }
   ],
   "source": [
    "axes = pump_data_replica['energy_norm_log'].plot.hist(bins=20, \n",
    "                                               color=[color_1, color_2, color_3],\n",
    "                                               #alpha=0.5,\n",
    "                                               rot=0, \n",
    "                                               stacked=True,\n",
    "                                               figsize=figsize, \n",
    "                                               fontsize=plot_fontsize, \n",
    "                                               linewidth=5)\n",
    "#axes.ticklabel_format(useOffset=False, style='plain')\n",
    "axes.legend(fontsize=legend_fontsize, loc = legend_loc) # loc=2\n",
    "axes.set_xlabel('Value', fontsize=label_fontsize)\n",
    "axes.set_ylabel('Frequency', fontsize=label_fontsize)"
   ]
  },
  {
   "cell_type": "code",
   "execution_count": 20,
   "id": "broken-enzyme",
   "metadata": {},
   "outputs": [
    {
     "data": {
      "text/plain": [
       "Text(0, 0.5, 'Frequency')"
      ]
     },
     "execution_count": 20,
     "metadata": {},
     "output_type": "execute_result"
    },
    {
     "data": {
      "image/png": "[encoded data removed]",
      "text/plain": [
       "<Figure size 1080x648 with 1 Axes>"
      ]
     },
     "metadata": {},
     "output_type": "display_data"
    }
   ],
   "source": [
    "axes = pump_data_replica['temperature_diff'].plot.hist(bins=20, \n",
    "                                               color=[color_1, color_2, color_3],\n",
    "                                               #alpha=0.5,\n",
    "                                               rot=0, \n",
    "                                               stacked=True,\n",
    "                                               figsize=figsize, \n",
    "                                               fontsize=plot_fontsize, \n",
    "                                               linewidth=5)\n",
    "#axes.ticklabel_format(useOffset=False, style='plain')\n",
    "axes.legend(fontsize=legend_fontsize, loc = legend_loc) # loc=2\n",
    "axes.set_xlabel('Value', fontsize=label_fontsize)\n",
    "axes.set_ylabel('Frequency', fontsize=label_fontsize)"
   ]
  },
  {
   "cell_type": "code",
   "execution_count": 21,
   "id": "inclusive-pearl",
   "metadata": {},
   "outputs": [
    {
     "data": {
      "text/plain": [
       "Text(0, 0.5, 'Frequency')"
      ]
     },
     "execution_count": 21,
     "metadata": {},
     "output_type": "execute_result"
    },
    {
     "data": {
      "image/png": "[encoded data removed]",
      "text/plain": [
       "<Figure size 1080x648 with 1 Axes>"
      ]
     },
     "metadata": {},
     "output_type": "display_data"
    }
   ],
   "source": [
    "axes = pump_data_replica['rms_norm_log'].plot.hist(bins=20, \n",
    "                                               color=[color_1, color_2, color_3],\n",
    "                                               #alpha=0.5,\n",
    "                                               rot=0, \n",
    "                                               stacked=True,\n",
    "                                               figsize=figsize, \n",
    "                                               fontsize=plot_fontsize, \n",
    "                                               linewidth=5)\n",
    "#axes.ticklabel_format(useOffset=False, style='plain')\n",
    "axes.legend(fontsize=legend_fontsize, loc = legend_loc) # loc=2\n",
    "axes.set_xlabel('Value', fontsize=label_fontsize)\n",
    "axes.set_ylabel('Frequency', fontsize=label_fontsize)"
   ]
  },
  {
   "cell_type": "code",
   "execution_count": 22,
   "id": "upset-hungary",
   "metadata": {},
   "outputs": [
    {
     "data": {
      "text/plain": [
       "Text(0, 0.5, 'Frequency')"
      ]
     },
     "execution_count": 22,
     "metadata": {},
     "output_type": "execute_result"
    },
    {
     "data": {
      "image/png": "[encoded data removed]",
      "text/plain": [
       "<Figure size 1080x648 with 1 Axes>"
      ]
     },
     "metadata": {},
     "output_type": "display_data"
    }
   ],
   "source": [
    "axes = pump_data_replica['details_ratedhead'].plot.hist(bins=20, \n",
    "                                               color=[color_1, color_2, color_3],\n",
    "                                               #alpha=0.5,\n",
    "                                               rot=0, \n",
    "                                               stacked=True,\n",
    "                                               figsize=figsize, \n",
    "                                               fontsize=plot_fontsize, \n",
    "                                               linewidth=5)\n",
    "#axes.ticklabel_format(useOffset=False, style='plain')\n",
    "axes.legend(fontsize=legend_fontsize, loc = legend_loc) # loc=2\n",
    "axes.set_xlabel('Value', fontsize=label_fontsize)\n",
    "axes.set_ylabel('Frequency', fontsize=label_fontsize)"
   ]
  },
  {
   "cell_type": "markdown",
   "id": "searching-monaco",
   "metadata": {},
   "source": [
    "## Generate Data For Symbolic Metamodeling"
   ]
  },
  {
   "cell_type": "code",
   "execution_count": 23,
   "id": "worse-device",
   "metadata": {},
   "outputs": [
    {
     "data": {
      "text/html": [
       "<div>\n",
       "<style scoped>\n",
       "    .dataframe tbody tr th:only-of-type {\n",
       "        vertical-align: middle;\n",
       "    }\n",
       "\n",
       "    .dataframe tbody tr th {\n",
       "        vertical-align: top;\n",
       "    }\n",
       "\n",
       "    .dataframe thead th {\n",
       "        text-align: right;\n",
       "    }\n",
       "</style>\n",
       "<table border=\"1\" class=\"dataframe\">\n",
       "  <thead>\n",
       "    <tr style=\"text-align: right;\">\n",
       "      <th></th>\n",
       "      <th>energy_norm_log</th>\n",
       "      <th>temperature_diff</th>\n",
       "      <th>rms_norm_log</th>\n",
       "      <th>details_ratedhead</th>\n",
       "      <th>state</th>\n",
       "    </tr>\n",
       "  </thead>\n",
       "  <tbody>\n",
       "    <tr>\n",
       "      <th>0</th>\n",
       "      <td>-4.642337</td>\n",
       "      <td>-0.585072</td>\n",
       "      <td>-2.831278</td>\n",
       "      <td>47.369469</td>\n",
       "      <td>1</td>\n",
       "    </tr>\n",
       "    <tr>\n",
       "      <th>1</th>\n",
       "      <td>-4.384410</td>\n",
       "      <td>-2.051363</td>\n",
       "      <td>-2.900545</td>\n",
       "      <td>120.240341</td>\n",
       "      <td>1</td>\n",
       "    </tr>\n",
       "    <tr>\n",
       "      <th>2</th>\n",
       "      <td>-5.047895</td>\n",
       "      <td>2.104730</td>\n",
       "      <td>-2.742720</td>\n",
       "      <td>92.577971</td>\n",
       "      <td>1</td>\n",
       "    </tr>\n",
       "    <tr>\n",
       "      <th>3</th>\n",
       "      <td>-4.962318</td>\n",
       "      <td>0.375291</td>\n",
       "      <td>-2.975236</td>\n",
       "      <td>75.714544</td>\n",
       "      <td>1</td>\n",
       "    </tr>\n",
       "    <tr>\n",
       "      <th>4</th>\n",
       "      <td>-5.082340</td>\n",
       "      <td>-1.878716</td>\n",
       "      <td>-2.900094</td>\n",
       "      <td>19.732252</td>\n",
       "      <td>1</td>\n",
       "    </tr>\n",
       "  </tbody>\n",
       "</table>\n",
       "</div>"
      ],
      "text/plain": [
       "   energy_norm_log  temperature_diff  rms_norm_log  details_ratedhead  state\n",
       "0        -4.642337         -0.585072     -2.831278          47.369469      1\n",
       "1        -4.384410         -2.051363     -2.900545         120.240341      1\n",
       "2        -5.047895          2.104730     -2.742720          92.577971      1\n",
       "3        -4.962318          0.375291     -2.975236          75.714544      1\n",
       "4        -5.082340         -1.878716     -2.900094          19.732252      1"
      ]
     },
     "execution_count": 23,
     "metadata": {},
     "output_type": "execute_result"
    }
   ],
   "source": [
    "pump_data_replica.head()"
   ]
  },
  {
   "cell_type": "code",
   "execution_count": 24,
   "id": "organized-manitoba",
   "metadata": {},
   "outputs": [],
   "source": [
    "data = pump_data_replica.sample(n=10000)\n",
    "\n",
    "X_data = data.drop(['state'], axis=1) #frac=0.1\n",
    "y_data = data[['state']] #frac=0.1\n"
   ]
  },
  {
   "cell_type": "code",
   "execution_count": 25,
   "id": "excess-tunnel",
   "metadata": {},
   "outputs": [
    {
     "data": {
      "text/html": [
       "<div>\n",
       "<style scoped>\n",
       "    .dataframe tbody tr th:only-of-type {\n",
       "        vertical-align: middle;\n",
       "    }\n",
       "\n",
       "    .dataframe tbody tr th {\n",
       "        vertical-align: top;\n",
       "    }\n",
       "\n",
       "    .dataframe thead th {\n",
       "        text-align: right;\n",
       "    }\n",
       "</style>\n",
       "<table border=\"1\" class=\"dataframe\">\n",
       "  <thead>\n",
       "    <tr style=\"text-align: right;\">\n",
       "      <th></th>\n",
       "      <th>energy_norm_log</th>\n",
       "      <th>temperature_diff</th>\n",
       "      <th>rms_norm_log</th>\n",
       "      <th>details_ratedhead</th>\n",
       "    </tr>\n",
       "  </thead>\n",
       "  <tbody>\n",
       "    <tr>\n",
       "      <th>13880350</th>\n",
       "      <td>-3.435427</td>\n",
       "      <td>2.008345</td>\n",
       "      <td>-1.831309</td>\n",
       "      <td>44.514913</td>\n",
       "    </tr>\n",
       "    <tr>\n",
       "      <th>13018525</th>\n",
       "      <td>-3.043470</td>\n",
       "      <td>4.328306</td>\n",
       "      <td>-2.011905</td>\n",
       "      <td>57.427111</td>\n",
       "    </tr>\n",
       "    <tr>\n",
       "      <th>22758968</th>\n",
       "      <td>0.059526</td>\n",
       "      <td>3.589398</td>\n",
       "      <td>0.421158</td>\n",
       "      <td>32.645146</td>\n",
       "    </tr>\n",
       "    <tr>\n",
       "      <th>26049008</th>\n",
       "      <td>-3.589604</td>\n",
       "      <td>2.368120</td>\n",
       "      <td>-2.103114</td>\n",
       "      <td>466.114163</td>\n",
       "    </tr>\n",
       "    <tr>\n",
       "      <th>4688620</th>\n",
       "      <td>0.485113</td>\n",
       "      <td>9.553305</td>\n",
       "      <td>1.172251</td>\n",
       "      <td>54.346425</td>\n",
       "    </tr>\n",
       "  </tbody>\n",
       "</table>\n",
       "</div>"
      ],
      "text/plain": [
       "          energy_norm_log  temperature_diff  rms_norm_log  details_ratedhead\n",
       "13880350        -3.435427          2.008345     -1.831309          44.514913\n",
       "13018525        -3.043470          4.328306     -2.011905          57.427111\n",
       "22758968         0.059526          3.589398      0.421158          32.645146\n",
       "26049008        -3.589604          2.368120     -2.103114         466.114163\n",
       "4688620          0.485113          9.553305      1.172251          54.346425"
      ]
     },
     "execution_count": 25,
     "metadata": {},
     "output_type": "execute_result"
    }
   ],
   "source": [
    "X_data.head()"
   ]
  },
  {
   "cell_type": "code",
   "execution_count": 26,
   "id": "necessary-zambia",
   "metadata": {},
   "outputs": [
    {
     "data": {
      "text/html": [
       "<div>\n",
       "<style scoped>\n",
       "    .dataframe tbody tr th:only-of-type {\n",
       "        vertical-align: middle;\n",
       "    }\n",
       "\n",
       "    .dataframe tbody tr th {\n",
       "        vertical-align: top;\n",
       "    }\n",
       "\n",
       "    .dataframe thead th {\n",
       "        text-align: right;\n",
       "    }\n",
       "</style>\n",
       "<table border=\"1\" class=\"dataframe\">\n",
       "  <thead>\n",
       "    <tr style=\"text-align: right;\">\n",
       "      <th></th>\n",
       "      <th>state</th>\n",
       "    </tr>\n",
       "  </thead>\n",
       "  <tbody>\n",
       "    <tr>\n",
       "      <th>13880350</th>\n",
       "      <td>0</td>\n",
       "    </tr>\n",
       "    <tr>\n",
       "      <th>13018525</th>\n",
       "      <td>0</td>\n",
       "    </tr>\n",
       "    <tr>\n",
       "      <th>22758968</th>\n",
       "      <td>0</td>\n",
       "    </tr>\n",
       "    <tr>\n",
       "      <th>26049008</th>\n",
       "      <td>0</td>\n",
       "    </tr>\n",
       "    <tr>\n",
       "      <th>4688620</th>\n",
       "      <td>1</td>\n",
       "    </tr>\n",
       "  </tbody>\n",
       "</table>\n",
       "</div>"
      ],
      "text/plain": [
       "          state\n",
       "13880350      0\n",
       "13018525      0\n",
       "22758968      0\n",
       "26049008      0\n",
       "4688620       1"
      ]
     },
     "execution_count": 26,
     "metadata": {},
     "output_type": "execute_result"
    }
   ],
   "source": [
    "y_data.head()"
   ]
  },
  {
   "cell_type": "code",
   "execution_count": 27,
   "id": "invisible-monaco",
   "metadata": {},
   "outputs": [
    {
     "data": {
      "text/html": [
       "<div>\n",
       "<style scoped>\n",
       "    .dataframe tbody tr th:only-of-type {\n",
       "        vertical-align: middle;\n",
       "    }\n",
       "\n",
       "    .dataframe tbody tr th {\n",
       "        vertical-align: top;\n",
       "    }\n",
       "\n",
       "    .dataframe thead th {\n",
       "        text-align: right;\n",
       "    }\n",
       "</style>\n",
       "<table border=\"1\" class=\"dataframe\">\n",
       "  <thead>\n",
       "    <tr style=\"text-align: right;\">\n",
       "      <th></th>\n",
       "      <th>energy_norm_log</th>\n",
       "      <th>temperature_diff</th>\n",
       "      <th>rms_norm_log</th>\n",
       "      <th>details_ratedhead</th>\n",
       "    </tr>\n",
       "  </thead>\n",
       "  <tbody>\n",
       "    <tr>\n",
       "      <th>count</th>\n",
       "      <td>10000.000000</td>\n",
       "      <td>10000.000000</td>\n",
       "      <td>10000.000000</td>\n",
       "      <td>10000.000000</td>\n",
       "    </tr>\n",
       "    <tr>\n",
       "      <th>mean</th>\n",
       "      <td>-0.903752</td>\n",
       "      <td>6.957620</td>\n",
       "      <td>-0.529029</td>\n",
       "      <td>108.840560</td>\n",
       "    </tr>\n",
       "    <tr>\n",
       "      <th>std</th>\n",
       "      <td>2.940251</td>\n",
       "      <td>9.583776</td>\n",
       "      <td>1.391853</td>\n",
       "      <td>179.754406</td>\n",
       "    </tr>\n",
       "    <tr>\n",
       "      <th>min</th>\n",
       "      <td>-5.676228</td>\n",
       "      <td>-22.095298</td>\n",
       "      <td>-2.981257</td>\n",
       "      <td>0.004160</td>\n",
       "    </tr>\n",
       "    <tr>\n",
       "      <th>25%</th>\n",
       "      <td>-3.347392</td>\n",
       "      <td>1.625078</td>\n",
       "      <td>-1.804050</td>\n",
       "      <td>38.281687</td>\n",
       "    </tr>\n",
       "    <tr>\n",
       "      <th>50%</th>\n",
       "      <td>-2.114641</td>\n",
       "      <td>4.917930</td>\n",
       "      <td>-0.892979</td>\n",
       "      <td>77.509069</td>\n",
       "    </tr>\n",
       "    <tr>\n",
       "      <th>75%</th>\n",
       "      <td>1.360277</td>\n",
       "      <td>8.790616</td>\n",
       "      <td>0.605675</td>\n",
       "      <td>114.241249</td>\n",
       "    </tr>\n",
       "    <tr>\n",
       "      <th>max</th>\n",
       "      <td>8.326624</td>\n",
       "      <td>108.964905</td>\n",
       "      <td>3.778478</td>\n",
       "      <td>2379.037789</td>\n",
       "    </tr>\n",
       "  </tbody>\n",
       "</table>\n",
       "</div>"
      ],
      "text/plain": [
       "       energy_norm_log  temperature_diff  rms_norm_log  details_ratedhead\n",
       "count     10000.000000      10000.000000  10000.000000       10000.000000\n",
       "mean         -0.903752          6.957620     -0.529029         108.840560\n",
       "std           2.940251          9.583776      1.391853         179.754406\n",
       "min          -5.676228        -22.095298     -2.981257           0.004160\n",
       "25%          -3.347392          1.625078     -1.804050          38.281687\n",
       "50%          -2.114641          4.917930     -0.892979          77.509069\n",
       "75%           1.360277          8.790616      0.605675         114.241249\n",
       "max           8.326624        108.964905      3.778478        2379.037789"
      ]
     },
     "execution_count": 27,
     "metadata": {},
     "output_type": "execute_result"
    }
   ],
   "source": [
    "X_data.describe()"
   ]
  },
  {
   "cell_type": "code",
   "execution_count": 28,
   "id": "assumed-terrorism",
   "metadata": {},
   "outputs": [
    {
     "name": "stdout",
     "output_type": "stream",
     "text": [
      "<class 'pandas.core.frame.DataFrame'>\n",
      "Int64Index: 10000 entries, 13880350 to 9629643\n",
      "Data columns (total 4 columns):\n",
      " #   Column             Non-Null Count  Dtype  \n",
      "---  ------             --------------  -----  \n",
      " 0   energy_norm_log    10000 non-null  float64\n",
      " 1   temperature_diff   10000 non-null  float64\n",
      " 2   rms_norm_log       10000 non-null  float64\n",
      " 3   details_ratedhead  10000 non-null  float64\n",
      "dtypes: float64(4)\n",
      "memory usage: 390.6 KB\n"
     ]
    }
   ],
   "source": [
    "X_data.info()"
   ]
  },
  {
   "cell_type": "markdown",
   "id": "silent-serve",
   "metadata": {},
   "source": [
    "# Symbolic Metamodeling"
   ]
  },
  {
   "cell_type": "code",
   "execution_count": null,
   "id": "consistent-cleanup",
   "metadata": {},
   "outputs": [],
   "source": []
  },
  {
   "cell_type": "code",
   "execution_count": 29,
   "id": "julian-remark",
   "metadata": {},
   "outputs": [],
   "source": [
    "metamodeling_hyperparams = {\n",
    "    'num_iter': 10,#500,\n",
    "    'batch_size': None,\n",
    "    'learning_rate': 0.001,        \n",
    "    'dataset_size': 5000,\n",
    "    'exact_expression': True,\n",
    "    'flat_function': False,\n",
    "    'polynomial_degree': 3,\n",
    "    'early_stopping': 20,\n",
    "    'restarts': 3,\n",
    "}\n",
    "\n",
    "symbolic_classification_hyperparams = {     \n",
    "    'dataset_size': 5000,\n",
    "}\n",
    "\n",
    "return_error = True\n",
    "\n",
    "symbolic_metamodeling = False\n",
    "symbolic_metamodeling_adjusted = True\n",
    "symbolic_classification = True"
   ]
  },
  {
   "cell_type": "code",
   "execution_count": 30,
   "id": "chronic-listening",
   "metadata": {},
   "outputs": [
    {
     "data": {
      "text/plain": [
       "0.9024"
      ]
     },
     "execution_count": 30,
     "metadata": {},
     "output_type": "execute_result"
    }
   ],
   "source": [
    "accuracy_score(np.round(np.clip(data['energy_norm_log'].values * 1.631, 0, 1)).astype(int), data['state'].values)"
   ]
  },
  {
   "cell_type": "code",
   "execution_count": 31,
   "id": "corporate-compiler",
   "metadata": {},
   "outputs": [],
   "source": [
    "data = pump_data_replica.sample(n=metamodeling_hyperparams['dataset_size'])\n",
    "\n",
    "data_scaled = np.empty_like(data.values.T[:-1])\n",
    "scaler_list = []\n",
    "\n",
    "for index, feature in enumerate(data.values.T[:-1]):\n",
    "    \n",
    "    scaler = MinMaxScaler(feature_range=(1e-4, 1))\n",
    "    scaler.fit(feature.reshape(-1, 1))\n",
    "    scaler_list.append(scaler)\n",
    "    \n",
    "    feature_scaled = scaler.transform(feature.reshape(-1, 1)).ravel()\n",
    "    \n",
    "    data_scaled[index] = feature_scaled\n",
    "    \n",
    "data_scaled = pd.DataFrame(data= data_scaled.T, index=data.index, columns=list(data.columns)[:-1])"
   ]
  },
  {
   "cell_type": "code",
   "execution_count": 32,
   "id": "appropriate-withdrawal",
   "metadata": {},
   "outputs": [
    {
     "data": {
      "text/html": [
       "<div>\n",
       "<style scoped>\n",
       "    .dataframe tbody tr th:only-of-type {\n",
       "        vertical-align: middle;\n",
       "    }\n",
       "\n",
       "    .dataframe tbody tr th {\n",
       "        vertical-align: top;\n",
       "    }\n",
       "\n",
       "    .dataframe thead th {\n",
       "        text-align: right;\n",
       "    }\n",
       "</style>\n",
       "<table border=\"1\" class=\"dataframe\">\n",
       "  <thead>\n",
       "    <tr style=\"text-align: right;\">\n",
       "      <th></th>\n",
       "      <th>energy_norm_log</th>\n",
       "      <th>temperature_diff</th>\n",
       "      <th>rms_norm_log</th>\n",
       "      <th>details_ratedhead</th>\n",
       "      <th>state</th>\n",
       "    </tr>\n",
       "  </thead>\n",
       "  <tbody>\n",
       "    <tr>\n",
       "      <th>3228774</th>\n",
       "      <td>0.722642</td>\n",
       "      <td>5.048562</td>\n",
       "      <td>0.478871</td>\n",
       "      <td>102.441835</td>\n",
       "      <td>1</td>\n",
       "    </tr>\n",
       "    <tr>\n",
       "      <th>6648753</th>\n",
       "      <td>2.069493</td>\n",
       "      <td>24.442959</td>\n",
       "      <td>1.769626</td>\n",
       "      <td>66.284119</td>\n",
       "      <td>1</td>\n",
       "    </tr>\n",
       "    <tr>\n",
       "      <th>25558960</th>\n",
       "      <td>-1.145248</td>\n",
       "      <td>4.071129</td>\n",
       "      <td>-0.063827</td>\n",
       "      <td>184.503801</td>\n",
       "      <td>0</td>\n",
       "    </tr>\n",
       "    <tr>\n",
       "      <th>17578382</th>\n",
       "      <td>-3.199043</td>\n",
       "      <td>4.780609</td>\n",
       "      <td>-1.628835</td>\n",
       "      <td>27.827720</td>\n",
       "      <td>0</td>\n",
       "    </tr>\n",
       "    <tr>\n",
       "      <th>4363318</th>\n",
       "      <td>1.854438</td>\n",
       "      <td>2.216334</td>\n",
       "      <td>0.973370</td>\n",
       "      <td>60.624418</td>\n",
       "      <td>1</td>\n",
       "    </tr>\n",
       "  </tbody>\n",
       "</table>\n",
       "</div>"
      ],
      "text/plain": [
       "          energy_norm_log  temperature_diff  rms_norm_log  details_ratedhead  \\\n",
       "3228774          0.722642          5.048562      0.478871         102.441835   \n",
       "6648753          2.069493         24.442959      1.769626          66.284119   \n",
       "25558960        -1.145248          4.071129     -0.063827         184.503801   \n",
       "17578382        -3.199043          4.780609     -1.628835          27.827720   \n",
       "4363318          1.854438          2.216334      0.973370          60.624418   \n",
       "\n",
       "          state  \n",
       "3228774       1  \n",
       "6648753       1  \n",
       "25558960      0  \n",
       "17578382      0  \n",
       "4363318       1  "
      ]
     },
     "execution_count": 32,
     "metadata": {},
     "output_type": "execute_result"
    }
   ],
   "source": [
    "data.head()"
   ]
  },
  {
   "cell_type": "code",
   "execution_count": 33,
   "id": "handmade-november",
   "metadata": {},
   "outputs": [
    {
     "data": {
      "text/html": [
       "<div>\n",
       "<style scoped>\n",
       "    .dataframe tbody tr th:only-of-type {\n",
       "        vertical-align: middle;\n",
       "    }\n",
       "\n",
       "    .dataframe tbody tr th {\n",
       "        vertical-align: top;\n",
       "    }\n",
       "\n",
       "    .dataframe thead th {\n",
       "        text-align: right;\n",
       "    }\n",
       "</style>\n",
       "<table border=\"1\" class=\"dataframe\">\n",
       "  <thead>\n",
       "    <tr style=\"text-align: right;\">\n",
       "      <th></th>\n",
       "      <th>energy_norm_log</th>\n",
       "      <th>temperature_diff</th>\n",
       "      <th>rms_norm_log</th>\n",
       "      <th>details_ratedhead</th>\n",
       "    </tr>\n",
       "  </thead>\n",
       "  <tbody>\n",
       "    <tr>\n",
       "      <th>3228774</th>\n",
       "      <td>0.444761</td>\n",
       "      <td>0.210039</td>\n",
       "      <td>0.513313</td>\n",
       "      <td>0.042952</td>\n",
       "    </tr>\n",
       "    <tr>\n",
       "      <th>6648753</th>\n",
       "      <td>0.543485</td>\n",
       "      <td>0.410551</td>\n",
       "      <td>0.707789</td>\n",
       "      <td>0.027825</td>\n",
       "    </tr>\n",
       "    <tr>\n",
       "      <th>25558960</th>\n",
       "      <td>0.307845</td>\n",
       "      <td>0.199934</td>\n",
       "      <td>0.431546</td>\n",
       "      <td>0.077285</td>\n",
       "    </tr>\n",
       "    <tr>\n",
       "      <th>17578382</th>\n",
       "      <td>0.157302</td>\n",
       "      <td>0.207269</td>\n",
       "      <td>0.195749</td>\n",
       "      <td>0.011735</td>\n",
       "    </tr>\n",
       "    <tr>\n",
       "      <th>4363318</th>\n",
       "      <td>0.527721</td>\n",
       "      <td>0.180758</td>\n",
       "      <td>0.587818</td>\n",
       "      <td>0.025457</td>\n",
       "    </tr>\n",
       "  </tbody>\n",
       "</table>\n",
       "</div>"
      ],
      "text/plain": [
       "          energy_norm_log  temperature_diff  rms_norm_log  details_ratedhead\n",
       "3228774          0.444761          0.210039      0.513313           0.042952\n",
       "6648753          0.543485          0.410551      0.707789           0.027825\n",
       "25558960         0.307845          0.199934      0.431546           0.077285\n",
       "17578382         0.157302          0.207269      0.195749           0.011735\n",
       "4363318          0.527721          0.180758      0.587818           0.025457"
      ]
     },
     "execution_count": 33,
     "metadata": {},
     "output_type": "execute_result"
    }
   ],
   "source": [
    "data_scaled.head()"
   ]
  },
  {
   "cell_type": "code",
   "execution_count": 34,
   "id": "passive-caribbean",
   "metadata": {},
   "outputs": [],
   "source": [
    "X_data = data.drop(['state'], axis=1).values #frac=0.1\n",
    "y_data = data[['state']].values #frac=0.1\n",
    "\n",
    "X_train_with_valid, X_test, y_train_with_valid, y_test = train_test_split(X_data, y_data, test_size=0.25, random_state=42)           \n",
    "X_train, X_valid, y_train, y_valid= train_test_split(X_train_with_valid, y_train_with_valid, test_size=0.25, random_state=42)   \n"
   ]
  },
  {
   "cell_type": "code",
   "execution_count": 35,
   "id": "complicated-recommendation",
   "metadata": {},
   "outputs": [],
   "source": [
    "X_data_scaled = data_scaled.values \n",
    "X_train_with_valid_scaled, X_test_scaled = train_test_split(X_data_scaled, test_size=0.25, random_state=42)           \n",
    "X_train_scaled, X_valid_scaled = train_test_split(X_train_with_valid_scaled, test_size=0.25, random_state=42)   "
   ]
  },
  {
   "cell_type": "code",
   "execution_count": 36,
   "id": "cultural-sherman",
   "metadata": {},
   "outputs": [
    {
     "name": "stdout",
     "output_type": "stream",
     "text": [
      "(5000, 4)\n",
      "(2812, 4)\n",
      "(938, 4)\n",
      "(1250, 4)\n",
      "\n",
      "(5000, 1)\n",
      "(2812, 1)\n",
      "(938, 1)\n",
      "(1250, 1)\n"
     ]
    }
   ],
   "source": [
    "print(X_data.shape)\n",
    "print(X_train.shape)\n",
    "print(X_valid.shape)\n",
    "print(X_test.shape)\n",
    "print()\n",
    "\n",
    "print(y_data.shape)\n",
    "print(y_train.shape)\n",
    "print(y_valid.shape)\n",
    "print(y_test.shape)"
   ]
  },
  {
   "cell_type": "markdown",
   "id": "gothic-sodium",
   "metadata": {},
   "source": [
    "## Evaluate Model"
   ]
  },
  {
   "cell_type": "code",
   "execution_count": 37,
   "id": "following-venture",
   "metadata": {},
   "outputs": [
    {
     "name": "stdout",
     "output_type": "stream",
     "text": [
      "Accuracy: 0.904\n"
     ]
    }
   ],
   "source": [
    "y_test_random_forest = random_forest_model.predict(X_test)\n",
    "\n",
    "accuracy_random_forest = accuracy_score(y_test, y_test_random_forest)\n",
    "\n",
    "print('Accuracy: '+ str(accuracy_random_forest))\n"
   ]
  },
  {
   "cell_type": "code",
   "execution_count": null,
   "id": "absent-mauritius",
   "metadata": {},
   "outputs": [],
   "source": []
  },
  {
   "cell_type": "code",
   "execution_count": null,
   "id": "whole-broad",
   "metadata": {},
   "outputs": [],
   "source": []
  },
  {
   "cell_type": "code",
   "execution_count": 38,
   "id": "empty-legislature",
   "metadata": {},
   "outputs": [],
   "source": [
    "if symbolic_metamodeling:\n",
    "    from pysymbolic_original.algorithms.symbolic_metamodeling import symbolic_metamodel\n",
    "    from pysymbolic_original.algorithms.symbolic_expressions import get_symbolic_model\n",
    "    \n",
    "    \n",
    "    ## Symbolic Metamodeling\n",
    "    if metamodeling_hyperparams['batch_size'] == None:\n",
    "        metamodeling_hyperparams['batch_size'] = X_data.shape[0]\n",
    "\n",
    "    metamodel = symbolic_metamodel(random_forest_model, \n",
    "                                   X_train, \n",
    "                                   mode=\"classification\")\n",
    "\n",
    "    metamodel.fit(num_iter=metamodeling_hyperparams['num_iter'], \n",
    "                  batch_size=metamodeling_hyperparams['batch_size'], \n",
    "                  learning_rate=metamodeling_hyperparams['learning_rate'])   \n",
    "\n",
    "\n",
    "    if metamodeling_hyperparams['exact_expression']:\n",
    "        metamodel_function = metamodel.exact_expression\n",
    "        #print(metamodel_function)\n",
    "    else:\n",
    "        metamodel_function = metamodel.approx_expression\n",
    "        #print(metamodel_function)\n",
    "\n",
    "\n",
    "    y_test_metamodel = np.round(metamodel.evaluate(X_test)).astype(np.int64)\n",
    "    y_test_model = random_forest_model.predict(X_test)\n",
    "\n",
    "    accuracy_model_performance = accuracy_score(y_test, y_test_model)    \n",
    "    accuracy_metamodel_performance = accuracy_score(y_test, y_test_metamodel) \n",
    "\n",
    "    accuracy_fidelity = accuracy_score(y_test_model, y_test_metamodel)     \n",
    "    \n",
    "    display(metamodel_function)\n",
    "    \n",
    "    print('Accuracy Random Forest Model:', accuracy_model_performance)\n",
    "    print('Accuracy Symbolic Metaodel:', accuracy_metamodel_performance)\n",
    "    \n",
    "    print('Fidelity (Accuracy) Symbolic Metaodel - Random Forest Model:', accuracy_model_performance)\n",
    "\n",
    "        \n"
   ]
  },
  {
   "cell_type": "code",
   "execution_count": 39,
   "id": "another-petite",
   "metadata": {},
   "outputs": [],
   "source": [
    "%load_ext autoreload "
   ]
  },
  {
   "cell_type": "code",
   "execution_count": 40,
   "id": "radio-background",
   "metadata": {},
   "outputs": [],
   "source": [
    "if False:\n",
    "    import pandas as pd\n",
    "    from sklearn.preprocessing import MinMaxScaler\n",
    "    from xgboost import XGBClassifier\n",
    "    from sklearn.linear_model import LogisticRegression\n",
    "\n",
    "    from sklearn.metrics import roc_auc_score\n",
    "    from sklearn.model_selection import train_test_split\n",
    "\n",
    "\n",
    "    data          = pd.read_csv(\"data/absenteeism.csv\", delimiter=';')\n",
    "\n",
    "    feature_names = ['Transportation expense', 'Distance from Residence to Work',\n",
    "                     'Service time', 'Age', 'Work load Average/day ', 'Hit target',\n",
    "                     'Disciplinary failure', 'Education', 'Son', 'Social drinker',\n",
    "                     'Social smoker', 'Pet', 'Weight', 'Height', 'Body mass index']\n",
    "\n",
    "    scaler        = MinMaxScaler(feature_range=(0, 1))\n",
    "    X             = scaler.fit_transform(data[feature_names])\n",
    "    Y             = ((data['Absenteeism time in hours'] > 4) * 1) \n",
    "\n",
    "    X_train_abse, X_test_abse, Y_train_abse, Y_test_abse = train_test_split(X, Y, test_size=0.33, random_state=42)\n",
    "\n",
    "    model         = XGBClassifier()\n",
    "\n",
    "    model.fit(X_train_abse, Y_train_abse)"
   ]
  },
  {
   "cell_type": "code",
   "execution_count": 41,
   "id": "executive-overview",
   "metadata": {},
   "outputs": [],
   "source": [
    "random_forest_model_scaled = deepcopy(random_forest_model)\n",
    "\n",
    "for dt in random_forest_model_scaled.estimators_:\n",
    "\n",
    "    n_nodes = dt.tree_.node_count\n",
    "    children_left = dt.tree_.children_left\n",
    "    children_right = dt.tree_.children_right\n",
    "    feature = dt.tree_.feature\n",
    "    threshold = dt.tree_.threshold\n",
    "\n",
    "    node_depth = np.zeros(shape=n_nodes, dtype=np.int64)\n",
    "    is_leaves = np.zeros(shape=n_nodes, dtype=bool)\n",
    "    stack = [(0, 0)]  # start with the root node id (0) and its depth (0)\n",
    "    while len(stack) > 0:\n",
    "        # `pop` ensures each node is only visited once\n",
    "        node_id, depth = stack.pop()\n",
    "        node_depth[node_id] = depth\n",
    "\n",
    "        # If the left and right child of a node is not the same we have a split\n",
    "        # node\n",
    "        is_split_node = children_left[node_id] != children_right[node_id]\n",
    "        # If a split node, append left and right children and depth to `stack`\n",
    "        # so we can loop through them\n",
    "        if is_split_node:\n",
    "            stack.append((children_left[node_id], depth + 1))\n",
    "            stack.append((children_right[node_id], depth + 1))\n",
    "        else:\n",
    "            is_leaves[node_id] = True\n",
    "\n",
    "    for i in range(n_nodes):\n",
    "        if not is_leaves[i]:  \n",
    "            threshold[i] = scaler_list[int(feature[i])].transform(np.array([threshold[i]]).reshape(1, -1)).ravel()[0]"
   ]
  },
  {
   "cell_type": "code",
   "execution_count": 42,
   "id": "square-beatles",
   "metadata": {},
   "outputs": [],
   "source": [
    "#print_decision_tree_nodes(random_forest_model.estimators_[0])"
   ]
  },
  {
   "cell_type": "code",
   "execution_count": 43,
   "id": "alert-spelling",
   "metadata": {},
   "outputs": [],
   "source": [
    "#print_decision_tree_nodes(random_forest_model_resized.estimators_[0])"
   ]
  },
  {
   "cell_type": "code",
   "execution_count": 44,
   "id": "appropriate-veteran",
   "metadata": {},
   "outputs": [
    {
     "name": "stdout",
     "output_type": "stream",
     "text": [
      "---- Tuning the basis functions ----\n"
     ]
    },
    {
     "data": {
      "application/vnd.jupyter.widget-view+json": {
       "model_id": "64e1e8d71be94d63a4ab60faa7d218b4",
       "version_major": 2,
       "version_minor": 0
      },
      "text/plain": [
       "basis function loop:   0%|          | 0/4 [00:00<?, ?it/s]"
      ]
     },
     "metadata": {},
     "output_type": "display_data"
    },
    {
     "name": "stderr",
     "output_type": "stream",
     "text": [
      "\n",
      "restart loop:   0%|          | 0/4 [00:00<?, ?it/s]\u001b[A"
     ]
    },
    {
     "data": {
      "application/vnd.jupyter.widget-view+json": {
       "model_id": "532f6788b4c24755998cea73423589ba",
       "version_major": 2,
       "version_minor": 0
      },
      "text/plain": [
       "iter loop:   0%|          | 0/500 [00:00<?, ?it/s]"
      ]
     },
     "metadata": {},
     "output_type": "display_data"
    },
    {
     "name": "stdout",
     "output_type": "stream",
     "text": [
      "Iteration: 0 \t--- Loss: 36.636\n",
      "Iteration: 1 \t--- Loss: 37.453\n",
      "Iteration: 2 \t--- Loss: 35.981\n",
      "Iteration: 3 \t--- Loss: 34.626\n",
      "Iteration: 4 \t--- Loss: 36.266\n",
      "Iteration: 5 \t--- Loss: 35.120\n",
      "Iteration: 6 \t--- Loss: 38.104\n",
      "Iteration: 7 \t--- Loss: 35.600\n",
      "Iteration: 8 \t--- Loss: 36.212\n",
      "Iteration: 9 \t--- Loss: 35.084\n",
      "Iteration: 10 \t--- Loss: 35.015\n",
      "Iteration: 11 \t--- Loss: 36.048\n",
      "Iteration: 12 \t--- Loss: 34.742\n",
      "Iteration: 13 \t--- Loss: 35.623\n",
      "Iteration: 14 \t--- Loss: 35.950\n",
      "Iteration: 15 \t--- Loss: 35.751\n",
      "Iteration: 16 \t--- Loss: 36.136\n",
      "Iteration: 17 \t--- Loss: 35.778\n",
      "Iteration: 18 \t--- Loss: 35.142\n",
      "Iteration: 19 \t--- Loss: 36.639\n",
      "Iteration: 20 \t--- Loss: 36.340\n",
      "Iteration: 21 \t--- Loss: 35.875\n",
      "Iteration: 22 \t--- Loss: 36.613\n",
      "Iteration: 23 \t--- Loss: 35.357\n"
     ]
    },
    {
     "name": "stderr",
     "output_type": "stream",
     "text": [
      "\n",
      "restart loop:  25%|██▌       | 1/4 [00:04<00:13,  4.34s/it]\u001b[A"
     ]
    },
    {
     "name": "stdout",
     "output_type": "stream",
     "text": [
      "Iteration: 24 \t--- Loss: 35.875\n",
      "Early Stopping requirement reached after 24 Iterations\n",
      "New Global Minimum: 34.626171362901516\n"
     ]
    },
    {
     "data": {
      "application/vnd.jupyter.widget-view+json": {
       "model_id": "44b53748183a4026864f61564e49e2bc",
       "version_major": 2,
       "version_minor": 0
      },
      "text/plain": [
       "iter loop:   0%|          | 0/500 [00:00<?, ?it/s]"
      ]
     },
     "metadata": {},
     "output_type": "display_data"
    },
    {
     "name": "stdout",
     "output_type": "stream",
     "text": [
      "Iteration: 0 \t--- Loss: 36.461\n",
      "Iteration: 1 \t--- Loss: 34.105\n",
      "Iteration: 2 \t--- Loss: 33.247\n",
      "Iteration: 3 \t--- Loss: 35.914\n",
      "Iteration: 4 \t--- Loss: 33.734\n",
      "Iteration: 5 \t--- Loss: 34.660\n",
      "Iteration: 6 \t--- Loss: 33.323\n",
      "Iteration: 7 \t--- Loss: 35.063\n",
      "Iteration: 8 \t--- Loss: 36.035\n",
      "Iteration: 9 \t--- Loss: 35.263\n",
      "Iteration: 10 \t--- Loss: 37.566\n",
      "Iteration: 11 \t--- Loss: 39.163\n",
      "Iteration: 12 \t--- Loss: 34.382\n",
      "Iteration: 13 \t--- Loss: 38.010\n",
      "Iteration: 14 \t--- Loss: 36.699\n",
      "Iteration: 15 \t--- Loss: 34.298\n",
      "Iteration: 16 \t--- Loss: 34.669\n",
      "Iteration: 17 \t--- Loss: 38.407\n",
      "Iteration: 18 \t--- Loss: 33.252\n",
      "Iteration: 19 \t--- Loss: 34.616\n",
      "Iteration: 20 \t--- Loss: 36.266\n",
      "Iteration: 21 \t--- Loss: 33.432\n",
      "Iteration: 22 \t--- Loss: 34.287\n"
     ]
    },
    {
     "name": "stderr",
     "output_type": "stream",
     "text": [
      "\n",
      "restart loop:  50%|█████     | 2/4 [00:07<00:07,  3.86s/it]\u001b[A"
     ]
    },
    {
     "name": "stdout",
     "output_type": "stream",
     "text": [
      "Iteration: 23 \t--- Loss: 35.910\n",
      "Early Stopping requirement reached after 23 Iterations\n",
      "New Global Minimum: 33.24683097343034\n"
     ]
    },
    {
     "data": {
      "application/vnd.jupyter.widget-view+json": {
       "model_id": "22912770a28f4b0194955c3e61e9ec40",
       "version_major": 2,
       "version_minor": 0
      },
      "text/plain": [
       "iter loop:   0%|          | 0/500 [00:00<?, ?it/s]"
      ]
     },
     "metadata": {},
     "output_type": "display_data"
    },
    {
     "name": "stdout",
     "output_type": "stream",
     "text": [
      "Iteration: 0 \t--- Loss: 35.883\n",
      "Iteration: 1 \t--- Loss: 35.240\n",
      "Iteration: 2 \t--- Loss: 38.105\n",
      "Iteration: 3 \t--- Loss: 36.077\n",
      "Iteration: 4 \t--- Loss: 34.529\n",
      "Iteration: 5 \t--- Loss: 36.772\n",
      "Iteration: 6 \t--- Loss: 35.969\n",
      "Iteration: 7 \t--- Loss: 35.913\n",
      "Iteration: 8 \t--- Loss: 36.954\n",
      "Iteration: 9 \t--- Loss: 35.931\n",
      "Iteration: 10 \t--- Loss: 34.993\n",
      "Iteration: 11 \t--- Loss: 35.916\n",
      "Iteration: 12 \t--- Loss: 36.227\n",
      "Iteration: 13 \t--- Loss: 32.759\n",
      "Iteration: 14 \t--- Loss: 38.474\n",
      "Iteration: 15 \t--- Loss: 33.868\n",
      "Iteration: 16 \t--- Loss: 36.220\n",
      "Iteration: 17 \t--- Loss: 35.493\n",
      "Iteration: 18 \t--- Loss: 35.877\n",
      "Iteration: 19 \t--- Loss: 34.576\n",
      "Iteration: 20 \t--- Loss: 35.681\n",
      "Iteration: 21 \t--- Loss: 36.814\n",
      "Iteration: 22 \t--- Loss: 36.827\n",
      "Iteration: 23 \t--- Loss: 35.514\n",
      "Iteration: 24 \t--- Loss: 33.723\n",
      "Iteration: 25 \t--- Loss: 32.894\n",
      "Iteration: 26 \t--- Loss: 35.834\n",
      "Iteration: 27 \t--- Loss: 37.391\n",
      "Iteration: 28 \t--- Loss: 36.540\n",
      "Iteration: 29 \t--- Loss: 32.410\n",
      "Iteration: 30 \t--- Loss: 33.462\n",
      "Iteration: 31 \t--- Loss: 32.799\n",
      "Iteration: 32 \t--- Loss: 34.448\n",
      "Iteration: 33 \t--- Loss: 33.970\n",
      "Iteration: 34 \t--- Loss: 34.510\n",
      "Iteration: 35 \t--- Loss: 35.704\n",
      "Iteration: 36 \t--- Loss: 32.464\n",
      "Iteration: 37 \t--- Loss: 34.534\n",
      "Iteration: 38 \t--- Loss: 33.807\n",
      "Iteration: 39 \t--- Loss: 32.497\n",
      "Iteration: 40 \t--- Loss: 33.399\n",
      "Iteration: 41 \t--- Loss: 36.724\n"
     ]
    },
    {
     "name": "stderr",
     "output_type": "stream",
     "text": [
      "\n",
      "restart loop:  75%|███████▌  | 3/4 [00:20<00:07,  7.68s/it]\u001b[A"
     ]
    },
    {
     "name": "stdout",
     "output_type": "stream",
     "text": [
      "Iteration: 42 \t--- Loss: 79072596542919201996224331776.000\n",
      "BREAK tune_single_dim\n",
      "func_true 321105990080405.75\n",
      "y[batch_index] -7.810986758395461\n",
      "a_new, b_new, c_new 8.727611999936621e+29 -9.261022219141107e+29 1.5829845603266343e+28\n",
      "New Global Minimum: 32.410026478359015\n"
     ]
    },
    {
     "data": {
      "application/vnd.jupyter.widget-view+json": {
       "model_id": "3f8debbf59b040658090d75abe2c2cbd",
       "version_major": 2,
       "version_minor": 0
      },
      "text/plain": [
       "iter loop:   0%|          | 0/500 [00:00<?, ?it/s]"
      ]
     },
     "metadata": {},
     "output_type": "display_data"
    },
    {
     "name": "stdout",
     "output_type": "stream",
     "text": [
      "Iteration: 0 \t--- Loss: 37.649\n",
      "Wrong c Value: -0.015974636799909847\n"
     ]
    },
    {
     "name": "stderr",
     "output_type": "stream",
     "text": [
      "\n",
      "restart loop: 100%|██████████| 4/4 [00:20<00:00,  5.14s/it]\u001b[A\n",
      "\n",
      "restart loop:   0%|          | 0/4 [00:00<?, ?it/s]\u001b[A"
     ]
    },
    {
     "name": "stdout",
     "output_type": "stream",
     "text": [
      "Iteration: 1 \t--- Loss: 36.944\n",
      "BREAK tune_single_dim\n",
      "func_true 2.869816948499447e-05\n",
      "y[batch_index] 5.810045946157598\n",
      "a_new, b_new, c_new nan nan nan\n",
      "return abc 2.2045079026864856 0.7054666028997569 -0.015974636799909847\n"
     ]
    },
    {
     "data": {
      "application/vnd.jupyter.widget-view+json": {
       "model_id": "869a5798165241639170839547cbc957",
       "version_major": 2,
       "version_minor": 0
      },
      "text/plain": [
       "iter loop:   0%|          | 0/500 [00:00<?, ?it/s]"
      ]
     },
     "metadata": {},
     "output_type": "display_data"
    },
    {
     "name": "stdout",
     "output_type": "stream",
     "text": [
      "Iteration: 0 \t--- Loss: 35.201\n",
      "Iteration: 1 \t--- Loss: 36.761\n",
      "Iteration: 2 \t--- Loss: 40.315\n",
      "Iteration: 3 \t--- Loss: 38.246\n",
      "Iteration: 4 \t--- Loss: 37.050\n",
      "Iteration: 5 \t--- Loss: 37.284\n",
      "Iteration: 6 \t--- Loss: 37.963\n",
      "Iteration: 7 \t--- Loss: 37.075\n",
      "Iteration: 8 \t--- Loss: 36.176\n",
      "Iteration: 9 \t--- Loss: 37.969\n",
      "Iteration: 10 \t--- Loss: 36.098\n",
      "Iteration: 11 \t--- Loss: 37.960\n",
      "Iteration: 12 \t--- Loss: 36.370\n",
      "Iteration: 13 \t--- Loss: 36.213\n",
      "Iteration: 14 \t--- Loss: 36.423\n",
      "Iteration: 15 \t--- Loss: 37.096\n",
      "Iteration: 16 \t--- Loss: 35.610\n",
      "Iteration: 17 \t--- Loss: 39.093\n",
      "Iteration: 18 \t--- Loss: 34.841\n",
      "Iteration: 19 \t--- Loss: 38.825\n",
      "Iteration: 20 \t--- Loss: 37.411\n",
      "Iteration: 21 \t--- Loss: 37.817\n",
      "Iteration: 22 \t--- Loss: 37.189\n",
      "Iteration: 23 \t--- Loss: 37.644\n",
      "Iteration: 24 \t--- Loss: 35.744\n",
      "Iteration: 25 \t--- Loss: 38.663\n",
      "Iteration: 26 \t--- Loss: 40.817\n",
      "Iteration: 27 \t--- Loss: 36.782\n",
      "Iteration: 28 \t--- Loss: 38.191\n",
      "Iteration: 29 \t--- Loss: 35.426\n",
      "Iteration: 30 \t--- Loss: 37.065\n",
      "Iteration: 31 \t--- Loss: 39.203\n",
      "Iteration: 32 \t--- Loss: 38.533\n",
      "Iteration: 33 \t--- Loss: 39.243\n",
      "Iteration: 34 \t--- Loss: 36.542\n",
      "Iteration: 35 \t--- Loss: 37.060\n",
      "Iteration: 36 \t--- Loss: 38.890\n",
      "Iteration: 37 \t--- Loss: 36.971\n",
      "Iteration: 38 \t--- Loss: 39.036\n"
     ]
    },
    {
     "name": "stderr",
     "output_type": "stream",
     "text": [
      "\n",
      "restart loop:  25%|██▌       | 1/4 [00:05<00:17,  5.94s/it]\u001b[A"
     ]
    },
    {
     "name": "stdout",
     "output_type": "stream",
     "text": [
      "Iteration: 39 \t--- Loss: 36.780\n",
      "Early Stopping requirement reached after 39 Iterations\n",
      "New Global Minimum: 34.84054265823563\n"
     ]
    },
    {
     "data": {
      "application/vnd.jupyter.widget-view+json": {
       "model_id": "2a3a5e9a1df747cebb0a05a492fe0680",
       "version_major": 2,
       "version_minor": 0
      },
      "text/plain": [
       "iter loop:   0%|          | 0/500 [00:00<?, ?it/s]"
      ]
     },
     "metadata": {},
     "output_type": "display_data"
    },
    {
     "name": "stdout",
     "output_type": "stream",
     "text": [
      "Iteration: 0 \t--- Loss: 38.962\n",
      "Iteration: 1 \t--- Loss: 38.211\n",
      "Iteration: 2 \t--- Loss: 39.359\n",
      "Iteration: 3 \t--- Loss: 38.428\n",
      "Iteration: 4 \t--- Loss: 36.742\n",
      "Iteration: 5 \t--- Loss: 38.105\n",
      "Iteration: 6 \t--- Loss: 37.894\n",
      "Iteration: 7 \t--- Loss: 36.736\n",
      "Iteration: 8 \t--- Loss: 36.003\n",
      "Iteration: 9 \t--- Loss: 37.839\n",
      "Iteration: 10 \t--- Loss: 36.414\n",
      "Iteration: 11 \t--- Loss: 36.644\n",
      "Iteration: 12 \t--- Loss: 37.343\n",
      "Iteration: 13 \t--- Loss: 38.158\n",
      "Iteration: 14 \t--- Loss: 37.621\n",
      "Iteration: 15 \t--- Loss: 38.730\n",
      "Iteration: 16 \t--- Loss: 38.328\n",
      "Iteration: 17 \t--- Loss: 37.095\n",
      "Iteration: 18 \t--- Loss: 34.702\n",
      "Iteration: 19 \t--- Loss: 34.368\n",
      "Iteration: 20 \t--- Loss: 33.647\n",
      "Iteration: 21 \t--- Loss: 30.559\n"
     ]
    },
    {
     "name": "stderr",
     "output_type": "stream",
     "text": [
      "\n",
      "restart loop:  50%|█████     | 2/4 [00:09<00:08,  4.43s/it]\u001b[A"
     ]
    },
    {
     "name": "stdout",
     "output_type": "stream",
     "text": [
      "Iteration: 22 \t--- Loss: 94487.635\n",
      "BREAK tune_single_dim\n",
      "func_true 247.2545721090164\n",
      "y[batch_index] 4.271899779433679\n",
      "a_new, b_new, c_new 36096.03551336669 154139.30828209085 697892.0261875406\n",
      "New Global Minimum: 30.559200324239594\n"
     ]
    },
    {
     "data": {
      "application/vnd.jupyter.widget-view+json": {
       "model_id": "c227ed1d07ff445fb2d87fd3df53821f",
       "version_major": 2,
       "version_minor": 0
      },
      "text/plain": [
       "iter loop:   0%|          | 0/500 [00:00<?, ?it/s]"
      ]
     },
     "metadata": {},
     "output_type": "display_data"
    },
    {
     "name": "stdout",
     "output_type": "stream",
     "text": [
      "Iteration: 0 \t--- Loss: 38.579\n",
      "Iteration: 1 \t--- Loss: 35.573\n",
      "Iteration: 2 \t--- Loss: 37.503\n",
      "Iteration: 3 \t--- Loss: 37.341\n",
      "Iteration: 4 \t--- Loss: 37.694\n",
      "Iteration: 5 \t--- Loss: 36.175\n",
      "Iteration: 6 \t--- Loss: 35.016\n",
      "Iteration: 7 \t--- Loss: 36.207\n",
      "Iteration: 8 \t--- Loss: 36.352\n",
      "Iteration: 9 \t--- Loss: 36.830\n",
      "Iteration: 10 \t--- Loss: 36.917\n",
      "Iteration: 11 \t--- Loss: 38.279\n",
      "Iteration: 12 \t--- Loss: 35.553\n",
      "Iteration: 13 \t--- Loss: 36.370\n",
      "Iteration: 14 \t--- Loss: 36.552\n",
      "Iteration: 15 \t--- Loss: 36.878\n",
      "Iteration: 16 \t--- Loss: 39.911\n",
      "Iteration: 17 \t--- Loss: 36.884\n",
      "Iteration: 18 \t--- Loss: 37.295\n",
      "Iteration: 19 \t--- Loss: 39.015\n",
      "Iteration: 20 \t--- Loss: 35.912\n",
      "Iteration: 21 \t--- Loss: 36.529\n",
      "Iteration: 22 \t--- Loss: 34.767\n",
      "Iteration: 23 \t--- Loss: 36.498\n",
      "Iteration: 24 \t--- Loss: 34.795\n",
      "Iteration: 25 \t--- Loss: 38.726\n",
      "Iteration: 26 \t--- Loss: 37.536\n",
      "Iteration: 27 \t--- Loss: 36.600\n",
      "Iteration: 28 \t--- Loss: 34.642\n",
      "Iteration: 29 \t--- Loss: 37.997\n",
      "Iteration: 30 \t--- Loss: 39.155\n",
      "Iteration: 31 \t--- Loss: 37.201\n",
      "Iteration: 32 \t--- Loss: 37.295\n",
      "Iteration: 33 \t--- Loss: 37.572\n",
      "Iteration: 34 \t--- Loss: 37.156\n",
      "Iteration: 35 \t--- Loss: 34.534\n",
      "Iteration: 36 \t--- Loss: 35.421\n",
      "Iteration: 37 \t--- Loss: 38.161\n",
      "Iteration: 38 \t--- Loss: 38.861\n",
      "Iteration: 39 \t--- Loss: 40.406\n",
      "Iteration: 40 \t--- Loss: 38.893\n",
      "Iteration: 41 \t--- Loss: 36.471\n",
      "Iteration: 42 \t--- Loss: 36.940\n",
      "Iteration: 43 \t--- Loss: 39.093\n",
      "Iteration: 44 \t--- Loss: 39.971\n",
      "Iteration: 45 \t--- Loss: 35.056\n",
      "Iteration: 46 \t--- Loss: 36.913\n",
      "Iteration: 47 \t--- Loss: 35.800\n",
      "Iteration: 48 \t--- Loss: 37.670\n",
      "Iteration: 49 \t--- Loss: 35.803\n",
      "Iteration: 50 \t--- Loss: 36.128\n",
      "Iteration: 51 \t--- Loss: 35.951\n",
      "Iteration: 52 \t--- Loss: 36.762\n",
      "Iteration: 53 \t--- Loss: 35.519\n",
      "Iteration: 54 \t--- Loss: 37.014\n",
      "Iteration: 55 \t--- Loss: 36.078\n"
     ]
    },
    {
     "name": "stderr",
     "output_type": "stream",
     "text": [
      "\n",
      "restart loop:  75%|███████▌  | 3/4 [00:17<00:06,  6.20s/it]\u001b[A"
     ]
    },
    {
     "name": "stdout",
     "output_type": "stream",
     "text": [
      "Iteration: 56 \t--- Loss: 35.789\n",
      "Early Stopping requirement reached after 56 Iterations\n"
     ]
    },
    {
     "data": {
      "application/vnd.jupyter.widget-view+json": {
       "model_id": "00ac7eed0dbb4c2eb1b2eccd16e08092",
       "version_major": 2,
       "version_minor": 0
      },
      "text/plain": [
       "iter loop:   0%|          | 0/500 [00:00<?, ?it/s]"
      ]
     },
     "metadata": {},
     "output_type": "display_data"
    },
    {
     "name": "stdout",
     "output_type": "stream",
     "text": [
      "Iteration: 0 \t--- Loss: 37.229\n",
      "Iteration: 1 \t--- Loss: 39.979\n",
      "Iteration: 2 \t--- Loss: 40.022\n",
      "Iteration: 3 \t--- Loss: 35.984\n",
      "Iteration: 4 \t--- Loss: 40.051\n",
      "Iteration: 5 \t--- Loss: 39.453\n",
      "Iteration: 6 \t--- Loss: 41.300\n",
      "Iteration: 7 \t--- Loss: 38.109\n",
      "Iteration: 8 \t--- Loss: 37.647\n",
      "Iteration: 9 \t--- Loss: 37.843\n",
      "Iteration: 10 \t--- Loss: 37.915\n",
      "Iteration: 11 \t--- Loss: 37.108\n",
      "Iteration: 12 \t--- Loss: 38.810\n",
      "Iteration: 13 \t--- Loss: 34.812\n",
      "Iteration: 14 \t--- Loss: 35.837\n",
      "Iteration: 15 \t--- Loss: 36.200\n",
      "Iteration: 16 \t--- Loss: 37.225\n",
      "Iteration: 17 \t--- Loss: 35.811\n",
      "Iteration: 18 \t--- Loss: 37.468\n",
      "Iteration: 19 \t--- Loss: 37.400\n",
      "Iteration: 20 \t--- Loss: 37.820\n",
      "Iteration: 21 \t--- Loss: 35.543\n",
      "Iteration: 22 \t--- Loss: 35.302\n",
      "Iteration: 23 \t--- Loss: 37.001\n",
      "Iteration: 24 \t--- Loss: 35.379\n",
      "Iteration: 25 \t--- Loss: 36.993\n",
      "Iteration: 26 \t--- Loss: 35.963\n",
      "Iteration: 27 \t--- Loss: 38.553\n",
      "Iteration: 28 \t--- Loss: 36.300\n",
      "Iteration: 29 \t--- Loss: 36.642\n",
      "Iteration: 30 \t--- Loss: 36.731\n",
      "Iteration: 31 \t--- Loss: 38.297\n",
      "Iteration: 32 \t--- Loss: 37.514\n",
      "Iteration: 33 \t--- Loss: 38.618\n"
     ]
    },
    {
     "name": "stderr",
     "output_type": "stream",
     "text": [
      "\n",
      "restart loop: 100%|██████████| 4/4 [00:23<00:00,  5.75s/it]\u001b[A\n",
      "\n",
      "restart loop:   0%|          | 0/4 [00:00<?, ?it/s]\u001b[A"
     ]
    },
    {
     "name": "stdout",
     "output_type": "stream",
     "text": [
      "Iteration: 34 \t--- Loss: 37.775\n",
      "Early Stopping requirement reached after 34 Iterations\n",
      "return abc 2.348881077647865 1.4704994270017269 0.7943802018763488\n"
     ]
    },
    {
     "data": {
      "application/vnd.jupyter.widget-view+json": {
       "model_id": "305e35a68fb145edbc0183b63664c0e1",
       "version_major": 2,
       "version_minor": 0
      },
      "text/plain": [
       "iter loop:   0%|          | 0/500 [00:00<?, ?it/s]"
      ]
     },
     "metadata": {},
     "output_type": "display_data"
    },
    {
     "name": "stdout",
     "output_type": "stream",
     "text": [
      "Iteration: 0 \t--- Loss: 38.610\n",
      "Iteration: 1 \t--- Loss: 36.033\n",
      "Iteration: 2 \t--- Loss: 38.267\n",
      "Iteration: 3 \t--- Loss: 36.749\n",
      "Iteration: 4 \t--- Loss: 35.637\n",
      "Iteration: 5 \t--- Loss: 34.754\n",
      "Iteration: 6 \t--- Loss: 36.659\n",
      "Iteration: 7 \t--- Loss: 34.098\n",
      "Iteration: 8 \t--- Loss: 37.955\n",
      "Iteration: 9 \t--- Loss: 35.330\n",
      "Iteration: 10 \t--- Loss: 37.263\n",
      "Iteration: 11 \t--- Loss: 35.396\n",
      "Iteration: 12 \t--- Loss: 34.685\n",
      "Iteration: 13 \t--- Loss: 34.751\n",
      "Iteration: 14 \t--- Loss: 39.776\n",
      "Iteration: 15 \t--- Loss: 38.442\n",
      "Iteration: 16 \t--- Loss: 34.714\n",
      "Iteration: 17 \t--- Loss: 36.372\n",
      "Iteration: 18 \t--- Loss: 34.915\n",
      "Iteration: 19 \t--- Loss: 32.853\n",
      "Iteration: 20 \t--- Loss: 34.491\n",
      "Iteration: 21 \t--- Loss: 36.904\n",
      "Iteration: 22 \t--- Loss: 33.783\n",
      "Iteration: 23 \t--- Loss: 35.056\n",
      "Iteration: 24 \t--- Loss: 36.193\n",
      "Iteration: 25 \t--- Loss: 34.142\n",
      "Iteration: 26 \t--- Loss: 34.633\n",
      "Iteration: 27 \t--- Loss: 36.544\n",
      "Iteration: 28 \t--- Loss: 33.134\n",
      "Iteration: 29 \t--- Loss: 33.839\n",
      "Iteration: 30 \t--- Loss: 33.627\n",
      "Iteration: 31 \t--- Loss: 35.555\n",
      "Iteration: 32 \t--- Loss: 35.596\n",
      "Iteration: 33 \t--- Loss: 35.410\n",
      "Iteration: 34 \t--- Loss: 33.360\n",
      "Iteration: 35 \t--- Loss: 33.192\n",
      "Iteration: 36 \t--- Loss: 34.142\n",
      "Iteration: 37 \t--- Loss: 33.948\n",
      "Iteration: 38 \t--- Loss: 36.350\n",
      "Iteration: 39 \t--- Loss: 33.249\n",
      "Iteration: 40 \t--- Loss: 32.579\n",
      "Iteration: 41 \t--- Loss: 33.310\n",
      "Iteration: 42 \t--- Loss: 33.196\n"
     ]
    },
    {
     "name": "stderr",
     "output_type": "stream",
     "text": [
      "\n",
      "restart loop:  25%|██▌       | 1/4 [00:11<00:34, 11.55s/it]\u001b[A"
     ]
    },
    {
     "name": "stdout",
     "output_type": "stream",
     "text": [
      "Iteration: 43 \t--- Loss: 41.935\n",
      "BREAK tune_single_dim\n",
      "func_true -0.03652418230344878\n",
      "y[batch_index] -3.139750106044294\n",
      "a_new, b_new, c_new -141.72475609973333 -846.7114745217517 -879.3041536844638\n",
      "New Global Minimum: 32.5791393838792\n"
     ]
    },
    {
     "data": {
      "application/vnd.jupyter.widget-view+json": {
       "model_id": "000e6b0cba9b4b2da18eec2ca83f0ba5",
       "version_major": 2,
       "version_minor": 0
      },
      "text/plain": [
       "iter loop:   0%|          | 0/500 [00:00<?, ?it/s]"
      ]
     },
     "metadata": {},
     "output_type": "display_data"
    },
    {
     "name": "stdout",
     "output_type": "stream",
     "text": [
      "Iteration: 0 \t--- Loss: 39.095\n",
      "Iteration: 1 \t--- Loss: 37.268\n",
      "Iteration: 2 \t--- Loss: 35.608\n",
      "Iteration: 3 \t--- Loss: 37.214\n",
      "Iteration: 4 \t--- Loss: 39.709\n",
      "Iteration: 5 \t--- Loss: 36.918\n",
      "Iteration: 6 \t--- Loss: 39.283\n",
      "Iteration: 7 \t--- Loss: 37.124\n",
      "Iteration: 8 \t--- Loss: 36.774\n",
      "Iteration: 9 \t--- Loss: 38.836\n",
      "Iteration: 10 \t--- Loss: 35.495\n",
      "Iteration: 11 \t--- Loss: 35.784\n",
      "Iteration: 12 \t--- Loss: 35.387\n",
      "Iteration: 13 \t--- Loss: 34.991\n",
      "Iteration: 14 \t--- Loss: 36.522\n",
      "Iteration: 15 \t--- Loss: 36.282\n",
      "Iteration: 16 \t--- Loss: 35.351\n",
      "Iteration: 17 \t--- Loss: 37.405\n",
      "Iteration: 18 \t--- Loss: 34.683\n",
      "Iteration: 19 \t--- Loss: 37.590\n",
      "Iteration: 20 \t--- Loss: 35.390\n",
      "Iteration: 21 \t--- Loss: 35.699\n",
      "Iteration: 22 \t--- Loss: 36.532\n",
      "Iteration: 23 \t--- Loss: 33.811\n",
      "Iteration: 24 \t--- Loss: 35.014\n",
      "Iteration: 25 \t--- Loss: 34.738\n",
      "Iteration: 26 \t--- Loss: 34.590\n",
      "Iteration: 27 \t--- Loss: 36.360\n",
      "Iteration: 28 \t--- Loss: 37.587\n",
      "Iteration: 29 \t--- Loss: 34.128\n",
      "Iteration: 30 \t--- Loss: 33.791\n",
      "Iteration: 31 \t--- Loss: 35.793\n",
      "Iteration: 32 \t--- Loss: 35.049\n",
      "Iteration: 33 \t--- Loss: 34.991\n",
      "Iteration: 34 \t--- Loss: 32.862\n",
      "Iteration: 35 \t--- Loss: 35.142\n",
      "Iteration: 36 \t--- Loss: 34.277\n",
      "Iteration: 37 \t--- Loss: 35.499\n",
      "Iteration: 38 \t--- Loss: 35.466\n",
      "Iteration: 39 \t--- Loss: 35.029\n",
      "Iteration: 40 \t--- Loss: 33.938\n",
      "Iteration: 41 \t--- Loss: 32.476\n",
      "Iteration: 42 \t--- Loss: 31.950\n",
      "Iteration: 43 \t--- Loss: 34.361\n",
      "Iteration: 44 \t--- Loss: 48.354\n"
     ]
    },
    {
     "name": "stderr",
     "output_type": "stream",
     "text": [
      "\n",
      "restart loop:  50%|█████     | 2/4 [00:24<00:24, 12.23s/it]\u001b[A"
     ]
    },
    {
     "name": "stdout",
     "output_type": "stream",
     "text": [
      "Iteration: 45 \t--- Loss: 16024983277435010053408695217256315503660573251523101580994218874318193339923474482332872396344459070510811292836800716796276658254465106424929210820287650886387946607345664.000\n",
      "BREAK tune_single_dim\n",
      "func_true -1.3249069987200228e+82\n",
      "y[batch_index] 2.025701139475443\n",
      "a_new, b_new, c_new 2.5120904157973693e+183 -3.3634372316080525e+183 1.610091519397232e+182\n",
      "New Global Minimum: 31.950140185208205\n"
     ]
    },
    {
     "data": {
      "application/vnd.jupyter.widget-view+json": {
       "model_id": "bddcff51059243669ebc935792949b5b",
       "version_major": 2,
       "version_minor": 0
      },
      "text/plain": [
       "iter loop:   0%|          | 0/500 [00:00<?, ?it/s]"
      ]
     },
     "metadata": {},
     "output_type": "display_data"
    },
    {
     "name": "stdout",
     "output_type": "stream",
     "text": [
      "Iteration: 0 \t--- Loss: 36.454\n",
      "Wrong c Value: -0.34731511346662347\n"
     ]
    },
    {
     "name": "stderr",
     "output_type": "stream",
     "text": [
      "\n",
      "restart loop:  75%|███████▌  | 3/4 [00:24<00:06,  6.87s/it]\u001b[A"
     ]
    },
    {
     "name": "stdout",
     "output_type": "stream",
     "text": [
      "Iteration: 1 \t--- Loss: 38.366\n",
      "BREAK tune_single_dim\n",
      "func_true 0.003994838294182581\n",
      "y[batch_index] -7.538434940703938\n",
      "a_new, b_new, c_new nan nan nan\n"
     ]
    },
    {
     "data": {
      "application/vnd.jupyter.widget-view+json": {
       "model_id": "5d30a938b98b4dfd92489ac2e5beb98b",
       "version_major": 2,
       "version_minor": 0
      },
      "text/plain": [
       "iter loop:   0%|          | 0/500 [00:00<?, ?it/s]"
      ]
     },
     "metadata": {},
     "output_type": "display_data"
    },
    {
     "name": "stdout",
     "output_type": "stream",
     "text": [
      "Iteration: 0 \t--- Loss: 37.409\n",
      "Iteration: 1 \t--- Loss: 36.006\n",
      "Iteration: 2 \t--- Loss: 35.877\n",
      "Iteration: 3 \t--- Loss: 37.253\n",
      "Iteration: 4 \t--- Loss: 36.468\n",
      "Iteration: 5 \t--- Loss: 35.478\n",
      "Iteration: 6 \t--- Loss: 36.496\n",
      "Iteration: 7 \t--- Loss: 35.588\n",
      "Iteration: 8 \t--- Loss: 34.392\n",
      "Iteration: 9 \t--- Loss: 33.969\n",
      "Iteration: 10 \t--- Loss: 34.382\n",
      "Iteration: 11 \t--- Loss: 36.267\n",
      "Iteration: 12 \t--- Loss: 37.283\n",
      "Iteration: 13 \t--- Loss: 36.463\n",
      "Iteration: 14 \t--- Loss: 33.745\n",
      "Iteration: 15 \t--- Loss: 34.988\n",
      "Iteration: 16 \t--- Loss: 35.047\n",
      "Iteration: 17 \t--- Loss: 36.078\n",
      "Iteration: 18 \t--- Loss: 37.759\n",
      "Iteration: 19 \t--- Loss: 32.251\n",
      "Iteration: 20 \t--- Loss: 37.023\n",
      "Iteration: 21 \t--- Loss: 35.618\n",
      "Iteration: 22 \t--- Loss: 37.454\n",
      "Iteration: 23 \t--- Loss: 36.001\n",
      "Iteration: 24 \t--- Loss: 39.778\n",
      "Iteration: 25 \t--- Loss: 35.436\n",
      "Iteration: 26 \t--- Loss: 35.880\n",
      "Iteration: 27 \t--- Loss: 35.978\n",
      "Iteration: 28 \t--- Loss: 35.275\n",
      "Iteration: 29 \t--- Loss: 35.444\n",
      "Iteration: 30 \t--- Loss: 35.859\n",
      "Iteration: 31 \t--- Loss: 33.908\n",
      "Iteration: 32 \t--- Loss: 36.448\n",
      "Iteration: 33 \t--- Loss: 36.019\n",
      "Iteration: 34 \t--- Loss: 34.947\n",
      "Iteration: 35 \t--- Loss: 35.100\n",
      "Iteration: 36 \t--- Loss: 38.132\n",
      "Iteration: 37 \t--- Loss: 34.360\n",
      "Iteration: 38 \t--- Loss: 33.771\n",
      "Iteration: 39 \t--- Loss: 36.652\n"
     ]
    },
    {
     "name": "stderr",
     "output_type": "stream",
     "text": [
      "\n",
      "restart loop: 100%|██████████| 4/4 [00:30<00:00,  7.74s/it]\u001b[A\n",
      "\n",
      "restart loop:   0%|          | 0/4 [00:00<?, ?it/s]\u001b[A"
     ]
    },
    {
     "name": "stdout",
     "output_type": "stream",
     "text": [
      "Iteration: 40 \t--- Loss: 35.117\n",
      "Early Stopping requirement reached after 40 Iterations\n",
      "return abc 3.1874642053255435 1.3043751253128 2.242274876835377\n"
     ]
    },
    {
     "data": {
      "application/vnd.jupyter.widget-view+json": {
       "model_id": "7fa5c54b817f4db79f0fcd61a41b35d4",
       "version_major": 2,
       "version_minor": 0
      },
      "text/plain": [
       "iter loop:   0%|          | 0/500 [00:00<?, ?it/s]"
      ]
     },
     "metadata": {},
     "output_type": "display_data"
    },
    {
     "name": "stdout",
     "output_type": "stream",
     "text": [
      "Iteration: 0 \t--- Loss: 37.291\n",
      "Iteration: 1 \t--- Loss: 40.089\n",
      "Iteration: 2 \t--- Loss: 37.310\n",
      "Iteration: 3 \t--- Loss: 38.223\n",
      "Iteration: 4 \t--- Loss: 39.970\n",
      "Iteration: 5 \t--- Loss: 36.404\n",
      "Iteration: 6 \t--- Loss: 39.192\n",
      "Iteration: 7 \t--- Loss: 39.394\n",
      "Iteration: 8 \t--- Loss: 34.907\n",
      "Iteration: 9 \t--- Loss: 38.385\n",
      "Iteration: 10 \t--- Loss: 38.345\n",
      "Iteration: 11 \t--- Loss: 37.076\n",
      "Iteration: 12 \t--- Loss: 36.894\n",
      "Iteration: 13 \t--- Loss: 36.854\n",
      "Iteration: 14 \t--- Loss: 38.885\n",
      "Iteration: 15 \t--- Loss: 35.843\n",
      "Iteration: 16 \t--- Loss: 38.140\n",
      "Iteration: 17 \t--- Loss: 36.726\n",
      "Iteration: 18 \t--- Loss: 36.976\n",
      "Iteration: 19 \t--- Loss: 36.180\n",
      "Iteration: 20 \t--- Loss: 37.627\n",
      "Iteration: 21 \t--- Loss: 36.706\n",
      "Iteration: 22 \t--- Loss: 37.670\n",
      "Iteration: 23 \t--- Loss: 38.523\n",
      "Iteration: 24 \t--- Loss: 36.303\n",
      "Iteration: 25 \t--- Loss: 39.752\n",
      "Iteration: 26 \t--- Loss: 37.789\n",
      "Iteration: 27 \t--- Loss: 37.052\n",
      "Iteration: 28 \t--- Loss: 35.977\n"
     ]
    },
    {
     "name": "stderr",
     "output_type": "stream",
     "text": [
      "\n",
      "restart loop:  25%|██▌       | 1/4 [00:04<00:13,  4.59s/it]\u001b[A"
     ]
    },
    {
     "name": "stdout",
     "output_type": "stream",
     "text": [
      "Iteration: 29 \t--- Loss: 37.136\n",
      "Early Stopping requirement reached after 29 Iterations\n",
      "New Global Minimum: 34.90687822955466\n"
     ]
    },
    {
     "data": {
      "application/vnd.jupyter.widget-view+json": {
       "model_id": "f1ba6fdeeaae4eb1afa7f12694289086",
       "version_major": 2,
       "version_minor": 0
      },
      "text/plain": [
       "iter loop:   0%|          | 0/500 [00:00<?, ?it/s]"
      ]
     },
     "metadata": {},
     "output_type": "display_data"
    },
    {
     "name": "stdout",
     "output_type": "stream",
     "text": [
      "Iteration: 0 \t--- Loss: 37.421\n",
      "Iteration: 1 \t--- Loss: 36.069\n",
      "Iteration: 2 \t--- Loss: 37.782\n",
      "Iteration: 3 \t--- Loss: 37.815\n",
      "Iteration: 4 \t--- Loss: 37.842\n",
      "Iteration: 5 \t--- Loss: 38.208\n",
      "Iteration: 6 \t--- Loss: 39.457\n",
      "Iteration: 7 \t--- Loss: 38.554\n",
      "Iteration: 8 \t--- Loss: 36.921\n",
      "Iteration: 9 \t--- Loss: 39.859\n",
      "Iteration: 10 \t--- Loss: 39.603\n",
      "Iteration: 11 \t--- Loss: 38.325\n",
      "Iteration: 12 \t--- Loss: 36.449\n",
      "Iteration: 13 \t--- Loss: 38.479\n",
      "Iteration: 14 \t--- Loss: 35.193\n",
      "Iteration: 15 \t--- Loss: 37.674\n",
      "Iteration: 16 \t--- Loss: 35.133\n",
      "Iteration: 17 \t--- Loss: 36.992\n",
      "Iteration: 18 \t--- Loss: 35.890\n",
      "Iteration: 19 \t--- Loss: 35.065\n",
      "Iteration: 20 \t--- Loss: 36.850\n",
      "Iteration: 21 \t--- Loss: 37.015\n",
      "Iteration: 22 \t--- Loss: 38.360\n",
      "Iteration: 23 \t--- Loss: 39.384\n",
      "Iteration: 24 \t--- Loss: 35.064\n",
      "Iteration: 25 \t--- Loss: 39.332\n",
      "Iteration: 26 \t--- Loss: 37.610\n",
      "Iteration: 27 \t--- Loss: 36.941\n",
      "Iteration: 28 \t--- Loss: 37.775\n",
      "Iteration: 29 \t--- Loss: 38.075\n",
      "Iteration: 30 \t--- Loss: 34.804\n",
      "Iteration: 31 \t--- Loss: 36.521\n",
      "Iteration: 32 \t--- Loss: 39.526\n",
      "Iteration: 33 \t--- Loss: 38.279\n",
      "Iteration: 34 \t--- Loss: 38.898\n",
      "Iteration: 35 \t--- Loss: 36.227\n",
      "Iteration: 36 \t--- Loss: 38.426\n",
      "Iteration: 37 \t--- Loss: 39.200\n",
      "Iteration: 38 \t--- Loss: 37.141\n",
      "Iteration: 39 \t--- Loss: 39.481\n",
      "Iteration: 40 \t--- Loss: 36.695\n",
      "Iteration: 41 \t--- Loss: 37.083\n",
      "Iteration: 42 \t--- Loss: 37.887\n",
      "Iteration: 43 \t--- Loss: 38.019\n",
      "Iteration: 44 \t--- Loss: 36.301\n",
      "Iteration: 45 \t--- Loss: 38.439\n",
      "Iteration: 46 \t--- Loss: 37.114\n",
      "Iteration: 47 \t--- Loss: 35.824\n",
      "Iteration: 48 \t--- Loss: 36.333\n",
      "Iteration: 49 \t--- Loss: 36.091\n",
      "Iteration: 50 \t--- Loss: 36.368\n"
     ]
    },
    {
     "name": "stderr",
     "output_type": "stream",
     "text": [
      "\n",
      "restart loop:  50%|█████     | 2/4 [00:12<00:12,  6.42s/it]\u001b[A"
     ]
    },
    {
     "name": "stdout",
     "output_type": "stream",
     "text": [
      "Iteration: 51 \t--- Loss: 38.846\n",
      "Early Stopping requirement reached after 51 Iterations\n",
      "New Global Minimum: 34.803905567565906\n"
     ]
    },
    {
     "data": {
      "application/vnd.jupyter.widget-view+json": {
       "model_id": "4e9eef3e1fb44ee496306d96963c3c52",
       "version_major": 2,
       "version_minor": 0
      },
      "text/plain": [
       "iter loop:   0%|          | 0/500 [00:00<?, ?it/s]"
      ]
     },
     "metadata": {},
     "output_type": "display_data"
    },
    {
     "name": "stdout",
     "output_type": "stream",
     "text": [
      "Iteration: 0 \t--- Loss: 36.131\n",
      "Iteration: 1 \t--- Loss: 35.327\n",
      "Iteration: 2 \t--- Loss: 37.620\n",
      "Iteration: 3 \t--- Loss: 34.834\n",
      "Iteration: 4 \t--- Loss: 34.853\n",
      "Iteration: 5 \t--- Loss: 36.706\n",
      "Iteration: 6 \t--- Loss: 34.644\n",
      "Iteration: 7 \t--- Loss: 37.686\n",
      "Iteration: 8 \t--- Loss: 36.918\n",
      "Iteration: 9 \t--- Loss: 38.311\n",
      "Iteration: 10 \t--- Loss: 33.493\n",
      "Iteration: 11 \t--- Loss: 36.752\n",
      "Iteration: 12 \t--- Loss: 40.144\n",
      "Iteration: 13 \t--- Loss: 33.575\n",
      "Iteration: 14 \t--- Loss: 35.575\n",
      "Iteration: 15 \t--- Loss: 36.492\n",
      "Iteration: 16 \t--- Loss: 33.531\n",
      "Iteration: 17 \t--- Loss: 38.497\n",
      "Iteration: 18 \t--- Loss: 37.072\n",
      "Iteration: 19 \t--- Loss: 37.343\n",
      "Iteration: 20 \t--- Loss: 37.153\n",
      "Iteration: 21 \t--- Loss: 34.937\n",
      "Iteration: 22 \t--- Loss: 37.423\n",
      "Iteration: 23 \t--- Loss: 37.356\n",
      "Iteration: 24 \t--- Loss: 36.813\n",
      "Iteration: 25 \t--- Loss: 37.904\n",
      "Iteration: 26 \t--- Loss: 36.985\n",
      "Iteration: 27 \t--- Loss: 37.258\n",
      "Iteration: 28 \t--- Loss: 34.526\n",
      "Iteration: 29 \t--- Loss: 36.805\n"
     ]
    },
    {
     "name": "stderr",
     "output_type": "stream",
     "text": [
      "\n",
      "restart loop:  75%|███████▌  | 3/4 [00:17<00:06,  6.05s/it]\u001b[A"
     ]
    },
    {
     "name": "stdout",
     "output_type": "stream",
     "text": [
      "Iteration: 30 \t--- Loss: 36.110\n",
      "Iteration: 31 \t--- Loss: 39.380\n",
      "Early Stopping requirement reached after 31 Iterations\n",
      "New Global Minimum: 33.492791518426806\n"
     ]
    },
    {
     "data": {
      "application/vnd.jupyter.widget-view+json": {
       "model_id": "f2d96889547b4cf483f0c403c66196d7",
       "version_major": 2,
       "version_minor": 0
      },
      "text/plain": [
       "iter loop:   0%|          | 0/500 [00:00<?, ?it/s]"
      ]
     },
     "metadata": {},
     "output_type": "display_data"
    },
    {
     "name": "stdout",
     "output_type": "stream",
     "text": [
      "Iteration: 0 \t--- Loss: 39.291\n",
      "Iteration: 1 \t--- Loss: 38.298\n",
      "Iteration: 2 \t--- Loss: 37.836\n",
      "Iteration: 3 \t--- Loss: 38.408\n",
      "Iteration: 4 \t--- Loss: 37.152\n",
      "Iteration: 5 \t--- Loss: 37.543\n",
      "Iteration: 6 \t--- Loss: 37.758\n",
      "Iteration: 7 \t--- Loss: 36.124\n",
      "Iteration: 8 \t--- Loss: 36.454\n",
      "Iteration: 9 \t--- Loss: 38.931\n",
      "Iteration: 10 \t--- Loss: 36.699\n",
      "Iteration: 11 \t--- Loss: 34.495\n",
      "Iteration: 12 \t--- Loss: 37.127\n",
      "Iteration: 13 \t--- Loss: 39.158\n",
      "Iteration: 14 \t--- Loss: 34.637\n",
      "Iteration: 15 \t--- Loss: 38.047\n",
      "Iteration: 16 \t--- Loss: 37.075\n",
      "Iteration: 17 \t--- Loss: 37.397\n",
      "Iteration: 18 \t--- Loss: 38.296\n",
      "Iteration: 19 \t--- Loss: 36.552\n",
      "Iteration: 20 \t--- Loss: 37.884\n",
      "Iteration: 21 \t--- Loss: 35.307\n",
      "Iteration: 22 \t--- Loss: 35.439\n",
      "Iteration: 23 \t--- Loss: 34.385\n",
      "Iteration: 24 \t--- Loss: 37.421\n",
      "Iteration: 25 \t--- Loss: 36.095\n",
      "Iteration: 26 \t--- Loss: 39.544\n",
      "Iteration: 27 \t--- Loss: 39.813\n",
      "Iteration: 28 \t--- Loss: 35.970\n",
      "Iteration: 29 \t--- Loss: 38.976\n",
      "Iteration: 30 \t--- Loss: 40.752\n",
      "Iteration: 31 \t--- Loss: 36.760\n",
      "Iteration: 32 \t--- Loss: 36.749\n",
      "Iteration: 33 \t--- Loss: 35.438\n",
      "Iteration: 34 \t--- Loss: 39.155\n",
      "Iteration: 35 \t--- Loss: 36.474\n",
      "Iteration: 36 \t--- Loss: 37.686\n",
      "Iteration: 37 \t--- Loss: 35.429\n",
      "Iteration: 38 \t--- Loss: 38.411\n",
      "Iteration: 39 \t--- Loss: 37.022\n",
      "Iteration: 40 \t--- Loss: 35.617\n",
      "Iteration: 41 \t--- Loss: 37.766\n",
      "Iteration: 42 \t--- Loss: 36.569\n",
      "Iteration: 43 \t--- Loss: 37.743\n"
     ]
    },
    {
     "name": "stderr",
     "output_type": "stream",
     "text": [
      "\n",
      "restart loop: 100%|██████████| 4/4 [00:24<00:00,  6.13s/it]\u001b[A"
     ]
    },
    {
     "name": "stdout",
     "output_type": "stream",
     "text": [
      "Iteration: 44 \t--- Loss: 36.231\n",
      "Early Stopping requirement reached after 44 Iterations\n",
      "return abc -0.003960010400714975 1.6294397297300622 1.1725353535067602\n"
     ]
    },
    {
     "name": "stderr",
     "output_type": "stream",
     "text": [
      "\n"
     ]
    },
    {
     "name": "stdout",
     "output_type": "stream",
     "text": [
      "----  Optimizing the metamodel  ----\n"
     ]
    },
    {
     "data": {
      "application/vnd.jupyter.widget-view+json": {
       "model_id": "c7a25283b9b44f079e51c10f3329aaa9",
       "version_major": 2,
       "version_minor": 0
      },
      "text/plain": [
       "  0%|          | 0/10 [00:00<?, ?it/s]"
      ]
     },
     "metadata": {},
     "output_type": "display_data"
    },
    {
     "name": "stdout",
     "output_type": "stream",
     "text": [
      "\n",
      "\n",
      "BREAK Params or Coef\n",
      "curr_func [4.27635401e+159 1.11859151e+161 3.62759861e+160 ... 3.91668308e+160\n",
      " 1.20314238e+161 1.19856022e+161]\n",
      "param_grads [[ 3.62344080e+159 -1.32599654e+160 -2.16380943e+160]\n",
      " [             nan              nan              nan]\n",
      " [-9.35178830e+160  8.71767169e+160  1.13743681e+161]\n",
      " [ 1.76833349e+157  3.11333531e+159  1.91733947e+159]\n",
      " [ 1.32166412e+160  9.19680256e+158 -5.83870486e+159]\n",
      " [ 7.20279575e+159  1.12977518e+160 -8.73281688e+159]\n",
      " [ 2.78912027e+159  3.82876563e+158 -9.00535773e+158]\n",
      " [ 1.49735260e+160  1.05661264e+159 -6.82871248e+159]\n",
      " [ 2.05175402e+159  7.16572197e+157 -5.51462326e+158]\n",
      " [ 3.23363240e+159  3.94718150e+158 -1.05999107e+159]]\n",
      "params [[-3.62344080e+156  1.32599654e+157  2.16380943e+157]\n",
      " [             nan              nan              nan]\n",
      " [ 9.35178830e+157 -8.71767169e+157 -1.13743681e+158]\n",
      " [-1.76833349e+154 -3.11333531e+156 -1.91733947e+156]\n",
      " [-1.32166412e+157 -9.19680256e+155  5.83870486e+156]\n",
      " [-7.20279575e+156 -1.12977518e+157  8.73281688e+156]\n",
      " [-2.78912027e+156 -3.82876563e+155  9.00535773e+155]\n",
      " [-1.49735260e+157 -1.05661264e+156  6.82871248e+156]\n",
      " [-2.05175402e+156 -7.16572197e+154  5.51462326e+155]\n",
      " [-3.23363240e+156 -3.94718150e+155  1.05999107e+156]]\n",
      "self.params [[ 3.11547156  1.25329124  2.30043196]\n",
      " [ 1.28683103  4.90849721 18.73422014]\n",
      " [ 3.66710629  1.65211382  2.8569265 ]\n",
      " [ 1.85738816  1.66060692  1.46879707]\n",
      " [ 1.39361321  1.02054751  1.49183183]\n",
      " [ 1.39364421  1.02056211  1.49189436]\n",
      " [ 1.39361437  1.02055001  1.4918259 ]\n",
      " [ 1.3936183   1.02054559  1.49183142]\n",
      " [ 1.39361518  1.02055011  1.49182365]\n",
      " [ 1.39361455  1.02054923  1.4918247 ]]\n",
      "coef_grads [-7.145219899737054e+160, inf, -1.8939832752970617e+161, 3.2961907331060058e+159, -1.1686319016848811e+159, -1.9347805816229583e+160, 7.052092514406176e+159, -2.685488469709779e+159, 8.200859341516045e+159, 6.716093740875031e+159]\n",
      "coef_ [ 7.14521990e+157             -inf  1.89398328e+158 -3.29619073e+156\n",
      "  1.16863190e+156  1.93478058e+157 -7.05209251e+156  2.68548847e+156\n",
      " -8.20085934e+156 -6.71609374e+156]\n",
      "self.init_model.coef_ [-7.03401611e+00  6.46881686e-03 -2.41467716e+00 -4.94236152e+00\n",
      " -5.10040308e+00  7.11554347e+01  3.66327033e+00 -6.76870617e+00\n",
      "  3.26781857e+00 -1.81394227e+00]\n"
     ]
    },
    {
     "data": {
      "text/latex": [
       "$\\displaystyle \\frac{1}{e^{53.327833717959 \\operatorname{re}{\\left(X_{0}^{3.11547155717075} {{}_{2}F_{1}\\left(\\begin{matrix} 1.0, 1.0 \\\\ 2.86218032122277 \\end{matrix}\\middle| {2.30043196472472 X_{0} e^{i \\pi}} \\right)}\\right)} + 0.316029401313618 \\operatorname{re}{\\left(X_{1}^{1.28683102522117} {{}_{2}F_{1}\\left(\\begin{matrix} 1.0, 1.0 \\\\ -2.6216661857443 \\end{matrix}\\middle| {18.734220140021 X_{1} e^{i \\pi}} \\right)}\\right)} + 55.9283224337947 \\operatorname{re}{\\left(X_{2}^{3.66710629453992} {{}_{2}F_{1}\\left(\\begin{matrix} 1.0, 1.0 \\\\ 3.01499247864395 \\end{matrix}\\middle| {2.85692650220474 X_{2} e^{i \\pi}} \\right)}\\right)} + 10.9829237737798 \\operatorname{re}{\\left(X_{3}^{1.85738815745077} {{}_{2}F_{1}\\left(\\begin{matrix} 1.0, 1.0 \\\\ 1.1967812373567 \\end{matrix}\\middle| {1.4687970689546 X_{3} e^{i \\pi}} \\right)}\\right)} + 10.0177236915236 \\operatorname{re}{\\left(\\left(X_{0} X_{1}\\right)^{1.39361321160545} {{}_{2}F_{1}\\left(\\begin{matrix} 1.0, 1.0 \\\\ 1.3730657004951 \\end{matrix}\\middle| {1.49183182606644 X_{0} X_{1} e^{i \\pi}} \\right)}\\right)} - 139.766799385247 \\operatorname{re}{\\left(\\left(X_{0} X_{2}\\right)^{1.39364421405926} {{}_{2}F_{1}\\left(\\begin{matrix} 1.0, 1.0 \\\\ 1.37308210740548 \\end{matrix}\\middle| {1.49189436478949 X_{0} X_{2} e^{i \\pi}} \\right)}\\right)} - 7.19500770810937 \\operatorname{re}{\\left(\\left(X_{0} X_{3}\\right)^{1.39361437335036} {{}_{2}F_{1}\\left(\\begin{matrix} 1.0, 1.0 \\\\ 1.3730643608921 \\end{matrix}\\middle| {1.49182589983942 X_{0} X_{3} e^{i \\pi}} \\right)}\\right)} + 13.2944753386637 \\operatorname{re}{\\left(\\left(X_{1} X_{2}\\right)^{1.39361829869035} {{}_{2}F_{1}\\left(\\begin{matrix} 1.0, 1.0 \\\\ 1.37307270587615 \\end{matrix}\\middle| {1.49183142310395 X_{1} X_{2} e^{i \\pi}} \\right)}\\right)} - 6.41829225712402 \\operatorname{re}{\\left(\\left(X_{1} X_{3}\\right)^{1.39361518411575} {{}_{2}F_{1}\\left(\\begin{matrix} 1.0, 1.0 \\\\ 1.37306507083584 \\end{matrix}\\middle| {1.4918236536478 X_{1} X_{3} e^{i \\pi}} \\right)}\\right)} + 3.56274988828865 \\operatorname{re}{\\left(\\left(X_{2} X_{3}\\right)^{1.39361455058927} {{}_{2}F_{1}\\left(\\begin{matrix} 1.0, 1.0 \\\\ 1.37306532423493 \\end{matrix}\\middle| {1.49182469515532 X_{2} X_{3} e^{i \\pi}} \\right)}\\right)}} + 1}$"
      ],
      "text/plain": [
       "1/(exp(53.327833717959*re(X0**3.11547155717075*hyper((1.0, 1.0), (2.86218032122277,), 2.30043196472472*X0*exp_polar(I*pi))) + 0.316029401313618*re(X1**1.28683102522117*hyper((1.0, 1.0), (-2.6216661857443,), 18.734220140021*X1*exp_polar(I*pi))) + 55.9283224337947*re(X2**3.66710629453992*hyper((1.0, 1.0), (3.01499247864395,), 2.85692650220474*X2*exp_polar(I*pi))) + 10.9829237737798*re(X3**1.85738815745077*hyper((1.0, 1.0), (1.1967812373567,), 1.4687970689546*X3*exp_polar(I*pi))) + 10.0177236915236*re((X0*X1)**1.39361321160545*hyper((1.0, 1.0), (1.3730657004951,), 1.49183182606644*X0*X1*exp_polar(I*pi))) - 139.766799385247*re((X0*X2)**1.39364421405926*hyper((1.0, 1.0), (1.37308210740548,), 1.49189436478949*X0*X2*exp_polar(I*pi))) - 7.19500770810937*re((X0*X3)**1.39361437335036*hyper((1.0, 1.0), (1.3730643608921,), 1.49182589983942*X0*X3*exp_polar(I*pi))) + 13.2944753386637*re((X1*X2)**1.39361829869035*hyper((1.0, 1.0), (1.37307270587615,), 1.49183142310395*X1*X2*exp_polar(I*pi))) - 6.41829225712402*re((X1*X3)**1.39361518411575*hyper((1.0, 1.0), (1.37306507083584,), 1.4918236536478*X1*X3*exp_polar(I*pi))) + 3.56274988828865*re((X2*X3)**1.39361455058927*hyper((1.0, 1.0), (1.37306532423493,), 1.49182469515532*X2*X3*exp_polar(I*pi)))) + 1)"
      ]
     },
     "metadata": {},
     "output_type": "display_data"
    },
    {
     "name": "stdout",
     "output_type": "stream",
     "text": [
      "Accuracy Random Forest Model: 0.904\n",
      "Accuracy Symbolic Metaodel: 0.348\n",
      "Accuracy Symbolic Metaodel Eval: 0.4272\n",
      "Fidelity (Accuracy) Symbolic Metaodel - Random Forest Model: 0.3304\n",
      "Fidelity (Accuracy) Symbolic Metaodel Eval - Random Forest Model: 0.3904\n",
      "F1 Score Random Forest Model: 0.8584905660377359\n",
      "F1 Score Symbolic Metaodel: 0.5163204747774481\n",
      "F1 Score Symbolic Metaodel Eval: 0.14558472553699287\n",
      "Fidelity (F1 Score) Symbolic Metaodel - Random Forest Model: 0.49669272399278414\n",
      "Fidelity (F1 Score) Symbolic Metaodel Eval - Random Forest Model: 0.0661764705882353\n"
     ]
    }
   ],
   "source": [
    "%autoreload 2\n",
    "if symbolic_metamodeling_adjusted:\n",
    "    from pysymbolic_adjusted.algorithms.symbolic_metamodeling import symbolic_metamodel\n",
    "    from pysymbolic_adjusted.algorithms.symbolic_expressions import get_symbolic_model    \n",
    "    \n",
    "    ## Symbolic Metamodeling\n",
    "    if metamodeling_hyperparams['batch_size'] == None:\n",
    "        metamodeling_hyperparams['batch_size'] = X_data.shape[0]\n",
    "\n",
    "    metamodel = symbolic_metamodel(random_forest_model_scaled, #random_forest_model, #model,#\n",
    "                                   X_train_scaled, #X_train, #X_train_abse,#\n",
    "                                   mode=\"classification\", \n",
    "                                   approximation_order = metamodeling_hyperparams['polynomial_degree'], \n",
    "                                   force_polynomial=metamodeling_hyperparams['flat_function'],\n",
    "                                   verbosity=True,\n",
    "                                   early_stopping=metamodeling_hyperparams['early_stopping'],\n",
    "                                   restarts=metamodeling_hyperparams['restarts'])\n",
    "\n",
    "    metamodel.fit(num_iter=metamodeling_hyperparams['num_iter'], \n",
    "                  batch_size=metamodeling_hyperparams['batch_size'], \n",
    "                  learning_rate=metamodeling_hyperparams['learning_rate'])    \n",
    "\n",
    "    if metamodeling_hyperparams['exact_expression']:\n",
    "        metamodel_function = metamodel.exact_expression\n",
    "        #print(metamodel_function)\n",
    "    else:\n",
    "        metamodel_function = metamodel.approx_expression\n",
    "        #print(metamodel_function)\n",
    "\n",
    "    y_test_metamodel_eval = np.round(metamodel.evaluate(X_test)).astype(np.int64)\n",
    "    \n",
    "    y_test_metamodel = np.round(np.clip(calculate_function_values_from_sympy(metamodel_function, X_test), 0, 1)).astype(np.int64).reshape(-1,1)#np.round(calculate_function_values_from_sympy(metamodel_function, X_test)).astype(np.int64)\n",
    "\n",
    "    \n",
    "    y_test_model = random_forest_model.predict(X_test)\n",
    "\n",
    "    accuracy_model_performance = accuracy_score(y_test, y_test_model)    \n",
    "    accuracy_metamodel_performance = accuracy_score(y_test, y_test_metamodel) \n",
    "    accuracy_metamodel_performance_eval = accuracy_score(y_test, y_test_metamodel_eval) \n",
    "    \n",
    "    accuracy_fidelity = accuracy_score(y_test_model, y_test_metamodel)     \n",
    "    accuracy_fidelity_eval = accuracy_score(y_test_model, y_test_metamodel_eval)   \n",
    "    \n",
    "    f1_model_performance = f1_score(y_test, y_test_model)    \n",
    "    f1_metamodel_performance = f1_score(y_test, y_test_metamodel) \n",
    "    f1_metamodel_performance_eval = f1_score(y_test, y_test_metamodel_eval) \n",
    "    \n",
    "    f1_fidelity = f1_score(y_test_model, y_test_metamodel)     \n",
    "    f1_fidelity_eval = f1_score(y_test_model, y_test_metamodel_eval)      \n",
    "    \n",
    "    display(metamodel_function)\n",
    "    \n",
    "    print('Accuracy Random Forest Model:', accuracy_model_performance)\n",
    "    print('Accuracy Symbolic Metaodel:', accuracy_metamodel_performance)\n",
    "    print('Accuracy Symbolic Metaodel Eval:', accuracy_metamodel_performance_eval)\n",
    "    \n",
    "    print('Fidelity (Accuracy) Symbolic Metaodel - Random Forest Model:', accuracy_fidelity)\n",
    "    print('Fidelity (Accuracy) Symbolic Metaodel Eval - Random Forest Model:', accuracy_fidelity_eval)\n",
    "    \n",
    "    print('F1 Score Random Forest Model:', f1_model_performance)\n",
    "    print('F1 Score Symbolic Metaodel:', f1_metamodel_performance)\n",
    "    print('F1 Score Symbolic Metaodel Eval:', f1_metamodel_performance_eval)\n",
    "    \n",
    "    print('Fidelity (F1 Score) Symbolic Metaodel - Random Forest Model:', f1_fidelity)\n",
    "    print('Fidelity (F1 Score) Symbolic Metaodel Eval - Random Forest Model:', f1_fidelity_eval)"
   ]
  },
  {
   "cell_type": "code",
   "execution_count": 45,
   "id": "exclusive-buffalo",
   "metadata": {},
   "outputs": [
    {
     "data": {
      "text/latex": [
       "$\\displaystyle \\frac{1}{e^{53.327833717959 \\operatorname{re}{\\left(X_{0}^{3.11547155717075} {{}_{2}F_{1}\\left(\\begin{matrix} 1.0, 1.0 \\\\ 2.86218032122277 \\end{matrix}\\middle| {2.30043196472472 X_{0} e^{i \\pi}} \\right)}\\right)} + 0.316029401313618 \\operatorname{re}{\\left(X_{1}^{1.28683102522117} {{}_{2}F_{1}\\left(\\begin{matrix} 1.0, 1.0 \\\\ -2.6216661857443 \\end{matrix}\\middle| {18.734220140021 X_{1} e^{i \\pi}} \\right)}\\right)} + 55.9283224337947 \\operatorname{re}{\\left(X_{2}^{3.66710629453992} {{}_{2}F_{1}\\left(\\begin{matrix} 1.0, 1.0 \\\\ 3.01499247864395 \\end{matrix}\\middle| {2.85692650220474 X_{2} e^{i \\pi}} \\right)}\\right)} + 10.9829237737798 \\operatorname{re}{\\left(X_{3}^{1.85738815745077} {{}_{2}F_{1}\\left(\\begin{matrix} 1.0, 1.0 \\\\ 1.1967812373567 \\end{matrix}\\middle| {1.4687970689546 X_{3} e^{i \\pi}} \\right)}\\right)} + 10.0177236915236 \\operatorname{re}{\\left(\\left(X_{0} X_{1}\\right)^{1.39361321160545} {{}_{2}F_{1}\\left(\\begin{matrix} 1.0, 1.0 \\\\ 1.3730657004951 \\end{matrix}\\middle| {1.49183182606644 X_{0} X_{1} e^{i \\pi}} \\right)}\\right)} - 139.766799385247 \\operatorname{re}{\\left(\\left(X_{0} X_{2}\\right)^{1.39364421405926} {{}_{2}F_{1}\\left(\\begin{matrix} 1.0, 1.0 \\\\ 1.37308210740548 \\end{matrix}\\middle| {1.49189436478949 X_{0} X_{2} e^{i \\pi}} \\right)}\\right)} - 7.19500770810937 \\operatorname{re}{\\left(\\left(X_{0} X_{3}\\right)^{1.39361437335036} {{}_{2}F_{1}\\left(\\begin{matrix} 1.0, 1.0 \\\\ 1.3730643608921 \\end{matrix}\\middle| {1.49182589983942 X_{0} X_{3} e^{i \\pi}} \\right)}\\right)} + 13.2944753386637 \\operatorname{re}{\\left(\\left(X_{1} X_{2}\\right)^{1.39361829869035} {{}_{2}F_{1}\\left(\\begin{matrix} 1.0, 1.0 \\\\ 1.37307270587615 \\end{matrix}\\middle| {1.49183142310395 X_{1} X_{2} e^{i \\pi}} \\right)}\\right)} - 6.41829225712402 \\operatorname{re}{\\left(\\left(X_{1} X_{3}\\right)^{1.39361518411575} {{}_{2}F_{1}\\left(\\begin{matrix} 1.0, 1.0 \\\\ 1.37306507083584 \\end{matrix}\\middle| {1.4918236536478 X_{1} X_{3} e^{i \\pi}} \\right)}\\right)} + 3.56274988828865 \\operatorname{re}{\\left(\\left(X_{2} X_{3}\\right)^{1.39361455058927} {{}_{2}F_{1}\\left(\\begin{matrix} 1.0, 1.0 \\\\ 1.37306532423493 \\end{matrix}\\middle| {1.49182469515532 X_{2} X_{3} e^{i \\pi}} \\right)}\\right)}} + 1}$"
      ],
      "text/plain": [
       "1/(exp(53.327833717959*re(X0**3.11547155717075*hyper((1.0, 1.0), (2.86218032122277,), 2.30043196472472*X0*exp_polar(I*pi))) + 0.316029401313618*re(X1**1.28683102522117*hyper((1.0, 1.0), (-2.6216661857443,), 18.734220140021*X1*exp_polar(I*pi))) + 55.9283224337947*re(X2**3.66710629453992*hyper((1.0, 1.0), (3.01499247864395,), 2.85692650220474*X2*exp_polar(I*pi))) + 10.9829237737798*re(X3**1.85738815745077*hyper((1.0, 1.0), (1.1967812373567,), 1.4687970689546*X3*exp_polar(I*pi))) + 10.0177236915236*re((X0*X1)**1.39361321160545*hyper((1.0, 1.0), (1.3730657004951,), 1.49183182606644*X0*X1*exp_polar(I*pi))) - 139.766799385247*re((X0*X2)**1.39364421405926*hyper((1.0, 1.0), (1.37308210740548,), 1.49189436478949*X0*X2*exp_polar(I*pi))) - 7.19500770810937*re((X0*X3)**1.39361437335036*hyper((1.0, 1.0), (1.3730643608921,), 1.49182589983942*X0*X3*exp_polar(I*pi))) + 13.2944753386637*re((X1*X2)**1.39361829869035*hyper((1.0, 1.0), (1.37307270587615,), 1.49183142310395*X1*X2*exp_polar(I*pi))) - 6.41829225712402*re((X1*X3)**1.39361518411575*hyper((1.0, 1.0), (1.37306507083584,), 1.4918236536478*X1*X3*exp_polar(I*pi))) + 3.56274988828865*re((X2*X3)**1.39361455058927*hyper((1.0, 1.0), (1.37306532423493,), 1.49182469515532*X2*X3*exp_polar(I*pi)))) + 1)"
      ]
     },
     "metadata": {},
     "output_type": "display_data"
    }
   ],
   "source": [
    "display(metamodel.exact_expression)"
   ]
  },
  {
   "cell_type": "code",
   "execution_count": 46,
   "id": "involved-ceramic",
   "metadata": {},
   "outputs": [
    {
     "data": {
      "text/latex": [
       "$\\displaystyle \\frac{1}{e^{53.327833717959 \\operatorname{re}{\\left(X_{0}^{3.11547155717075} {{}_{2}F_{1}\\left(\\begin{matrix} 1.0, 1.0 \\\\ 2.86218032122277 \\end{matrix}\\middle| {2.30043196472472 X_{0} e^{i \\pi}} \\right)}\\right)} + 0.316029401313618 \\operatorname{re}{\\left(X_{1}^{1.28683102522117} {{}_{2}F_{1}\\left(\\begin{matrix} 1.0, 1.0 \\\\ -2.6216661857443 \\end{matrix}\\middle| {18.734220140021 X_{1} e^{i \\pi}} \\right)}\\right)} + 55.9283224337947 \\operatorname{re}{\\left(X_{2}^{3.66710629453992} {{}_{2}F_{1}\\left(\\begin{matrix} 1.0, 1.0 \\\\ 3.01499247864395 \\end{matrix}\\middle| {2.85692650220474 X_{2} e^{i \\pi}} \\right)}\\right)} + 10.9829237737798 \\operatorname{re}{\\left(X_{3}^{1.85738815745077} {{}_{2}F_{1}\\left(\\begin{matrix} 1.0, 1.0 \\\\ 1.1967812373567 \\end{matrix}\\middle| {1.4687970689546 X_{3} e^{i \\pi}} \\right)}\\right)} + 10.0177236915236 \\operatorname{re}{\\left(\\left(X_{0} X_{1}\\right)^{1.39361321160545} {{}_{2}F_{1}\\left(\\begin{matrix} 1.0, 1.0 \\\\ 1.3730657004951 \\end{matrix}\\middle| {1.49183182606644 X_{0} X_{1} e^{i \\pi}} \\right)}\\right)} - 139.766799385247 \\operatorname{re}{\\left(\\left(X_{0} X_{2}\\right)^{1.39364421405926} {{}_{2}F_{1}\\left(\\begin{matrix} 1.0, 1.0 \\\\ 1.37308210740548 \\end{matrix}\\middle| {1.49189436478949 X_{0} X_{2} e^{i \\pi}} \\right)}\\right)} - 7.19500770810937 \\operatorname{re}{\\left(\\left(X_{0} X_{3}\\right)^{1.39361437335036} {{}_{2}F_{1}\\left(\\begin{matrix} 1.0, 1.0 \\\\ 1.3730643608921 \\end{matrix}\\middle| {1.49182589983942 X_{0} X_{3} e^{i \\pi}} \\right)}\\right)} + 13.2944753386637 \\operatorname{re}{\\left(\\left(X_{1} X_{2}\\right)^{1.39361829869035} {{}_{2}F_{1}\\left(\\begin{matrix} 1.0, 1.0 \\\\ 1.37307270587615 \\end{matrix}\\middle| {1.49183142310395 X_{1} X_{2} e^{i \\pi}} \\right)}\\right)} - 6.41829225712402 \\operatorname{re}{\\left(\\left(X_{1} X_{3}\\right)^{1.39361518411575} {{}_{2}F_{1}\\left(\\begin{matrix} 1.0, 1.0 \\\\ 1.37306507083584 \\end{matrix}\\middle| {1.4918236536478 X_{1} X_{3} e^{i \\pi}} \\right)}\\right)} + 3.56274988828865 \\operatorname{re}{\\left(\\left(X_{2} X_{3}\\right)^{1.39361455058927} {{}_{2}F_{1}\\left(\\begin{matrix} 1.0, 1.0 \\\\ 1.37306532423493 \\end{matrix}\\middle| {1.49182469515532 X_{2} X_{3} e^{i \\pi}} \\right)}\\right)}} + 1}$"
      ],
      "text/plain": [
       "1/(exp(53.327833717959*re(X0**3.11547155717075*hyper((1.0, 1.0), (2.86218032122277,), 2.30043196472472*X0*exp_polar(I*pi))) + 0.316029401313618*re(X1**1.28683102522117*hyper((1.0, 1.0), (-2.6216661857443,), 18.734220140021*X1*exp_polar(I*pi))) + 55.9283224337947*re(X2**3.66710629453992*hyper((1.0, 1.0), (3.01499247864395,), 2.85692650220474*X2*exp_polar(I*pi))) + 10.9829237737798*re(X3**1.85738815745077*hyper((1.0, 1.0), (1.1967812373567,), 1.4687970689546*X3*exp_polar(I*pi))) + 10.0177236915236*re((X0*X1)**1.39361321160545*hyper((1.0, 1.0), (1.3730657004951,), 1.49183182606644*X0*X1*exp_polar(I*pi))) - 139.766799385247*re((X0*X2)**1.39364421405926*hyper((1.0, 1.0), (1.37308210740548,), 1.49189436478949*X0*X2*exp_polar(I*pi))) - 7.19500770810937*re((X0*X3)**1.39361437335036*hyper((1.0, 1.0), (1.3730643608921,), 1.49182589983942*X0*X3*exp_polar(I*pi))) + 13.2944753386637*re((X1*X2)**1.39361829869035*hyper((1.0, 1.0), (1.37307270587615,), 1.49183142310395*X1*X2*exp_polar(I*pi))) - 6.41829225712402*re((X1*X3)**1.39361518411575*hyper((1.0, 1.0), (1.37306507083584,), 1.4918236536478*X1*X3*exp_polar(I*pi))) + 3.56274988828865*re((X2*X3)**1.39361455058927*hyper((1.0, 1.0), (1.37306532423493,), 1.49182469515532*X2*X3*exp_polar(I*pi)))) + 1)"
      ]
     },
     "metadata": {},
     "output_type": "display_data"
    }
   ],
   "source": [
    "display(metamodel_function)"
   ]
  },
  {
   "cell_type": "code",
   "execution_count": 47,
   "id": "continuous-feeding",
   "metadata": {},
   "outputs": [],
   "source": [
    "def symbolic_classifier(f, data=None, hyperparams=None):\n",
    "    \n",
    "    n_vars = data.shape[1]\n",
    "    \n",
    "    if data is not None:\n",
    "        X = data\n",
    "    elif n_vars == 1:\n",
    "        X  = np.linspace(xrange[0], xrange[1], npoints).reshape((-1,1))\n",
    "    else:\n",
    "        X  = np.random.uniform(low=xrange[0], high=xrange[1], size=(npoints, n_vars))\n",
    "    \n",
    "    \n",
    "    if type(f) is types.FunctionType:\n",
    "        y  = f(X)\n",
    "    else:\n",
    "        #print(f.summary())\n",
    "        y  = f.predict(X)\n",
    "\n",
    "    if type(f) is types.FunctionType:\n",
    "        y  = f(X)\n",
    "    else:\n",
    "        #print(f.summary())\n",
    "        y  = f.predict(X)\n",
    "\n",
    "        \n",
    "\n",
    "    try:\n",
    "        population_size = hyperparams['population_size']\n",
    "    except KeyError:\n",
    "        population_size = 5000\n",
    "    try:\n",
    "        tournament_size = hyperparams['tournament_size']\n",
    "    except KeyError:\n",
    "        tournament_size = 100\n",
    "    try:\n",
    "        init_depth = hyperparams['init_depth']\n",
    "    except KeyError:\n",
    "        init_depth = (2, 6)\n",
    "    try:\n",
    "        parsimony_coefficient = hyperparams['parsimony_coefficient']\n",
    "    except KeyError:\n",
    "        parsimony_coefficient = 0.001\n",
    "    try:\n",
    "        generations = hyperparams['generations']\n",
    "    except KeyError:\n",
    "        generations = 100\n",
    "    try:\n",
    "        early_stopping = hyperparams['early_stopping']     \n",
    "    except KeyError:\n",
    "        early_stopping = 10\n",
    "    try:\n",
    "        epsilon = hyperparams['epsilon']\n",
    "    except KeyError:\n",
    "        epsilon = 0.001\n",
    "    try:\n",
    "        npoints = hyperparams['dataset_size']\n",
    "    except KeyError:\n",
    "        npoints=500\n",
    "        \n",
    "    #AVAILABLE FUNCTIONS\n",
    "\n",
    "        \n",
    "    est_gp = SymbolicClassifier(population_size=population_size,\n",
    "                               generations=1,#1000, \n",
    "                               #stopping_criteria=0.01,\n",
    "                               tournament_size=tournament_size,#\n",
    "                               init_depth=init_depth,#\n",
    "                               #p_crossover=0.7, \n",
    "                               #p_subtree_mutation=0.1,\n",
    "                               #p_hoist_mutation=0.05, \n",
    "                               #p_point_mutation=0.1,\n",
    "                               #max_samples=0.9, \n",
    "                               verbose=1,\n",
    "                               parsimony_coefficient=parsimony_coefficient,\n",
    "                               random_state=0,\n",
    "                               #low_memory=True,\n",
    "                              )\n",
    "    \n",
    "    current_generation = 0\n",
    "    best_fitness = np.inf\n",
    "    early_stopping_counter = 0\n",
    "    for generation in range(generations):\n",
    "        est_gp.fit(X, y)\n",
    "        current_generation += 1\n",
    "        est_gp.set_params(generations=current_generation+1, warm_start=True)\n",
    "        best_fitness_generation = est_gp.run_details_['best_fitness'][-1]\n",
    "        #print(est_gp.run_details_)\n",
    "        print('best_fitness_generation', best_fitness_generation)\n",
    "        print('best_fitness', best_fitness)\n",
    "        if best_fitness_generation < best_fitness-epsilon:\n",
    "            early_stopping_counter = 0\n",
    "            best_fitness = best_fitness_generation\n",
    "        else:\n",
    "            early_stopping_counter += 1\n",
    "            \n",
    "        if early_stopping_counter >= early_stopping:\n",
    "            break\n",
    "            \n",
    "\n",
    "    sym_expr = str(est_gp._program)\n",
    "\n",
    "    converter = {\n",
    "        'sub': lambda x, y : x - y,\n",
    "        'div': lambda x, y : x/y,\n",
    "        'mul': lambda x, y : x*y,\n",
    "        'add': lambda x, y : x + y,\n",
    "        'neg': lambda x    : -x,\n",
    "        'pow': lambda x, y : x**y,\n",
    "        'sqrt': lambda x, y : np.sqrt(x, y),\n",
    "    }\n",
    "\n",
    "    #x, X0   = symbols('x X0')\n",
    "    sym_class = simplify(sympify(sym_expr, locals=converter))\n",
    "    #print('str(sym_class)', str(sym_class))\n",
    "    #sym_class = sym_class.subs(X0,x)\n",
    "\n",
    "    Y_true  = y.reshape((-1,1))\n",
    "    #print('SUBS str(sym_class)', str(sym_class))\n",
    "    \n",
    "    \n",
    "    function_vars = [sym.symbols('X' + str(i)) for i in range(n_vars)]\n",
    "    #lambda_function = lambdify([function_vars], sym_class, modules=[\"scipy\", \"numpy\"])\n",
    "    #if len(function_vars) >= 1:\n",
    "    #    Y_est = [lambda_function(data_point) for data_point in X]\n",
    "    #else:\n",
    "    #Y_est = [lambda_function() for i in range(X.shape[0])]    \n",
    "    function_values = []\n",
    "    for data_point in X:\n",
    "        function_value = sym_class.evalf(subs={var: data_point[index] for index, var in enumerate(list(function_vars))})\n",
    "        try:\n",
    "            function_value = float(function_value)\n",
    "        except TypeError as te:\n",
    "            function_value = np.inf\n",
    "        function_values.append(function_value)\n",
    "    Y_est = np.nan_to_num(function_values).ravel()\n",
    "                \n",
    "    #Y_est   = np.array([sympify(str(sym_class)).subs(x,X[k]) for k in range(len(X))]).reshape((-1,1))\n",
    "    \n",
    "    print(sym_class)\n",
    "\n",
    "\n",
    "    return sym_class, est_gp\n"
   ]
  },
  {
   "cell_type": "code",
   "execution_count": null,
   "id": "stainless-assist",
   "metadata": {},
   "outputs": [],
   "source": []
  },
  {
   "cell_type": "code",
   "execution_count": 48,
   "id": "prescription-zambia",
   "metadata": {
    "scrolled": true,
    "tags": []
   },
   "outputs": [
    {
     "name": "stdout",
     "output_type": "stream",
     "text": [
      "    |   Population Average    |             Best Individual              |\n",
      "---- ------------------------- ------------------------------------------ ----------\n",
      " Gen   Length          Fitness   Length          Fitness      OOB Fitness  Time Left\n",
      "   0    31.03          9.39135        7         0.132605              N/A      0.00s\n",
      "best_fitness_generation 0.13260486629793244\n",
      "best_fitness inf\n",
      "    |   Population Average    |             Best Individual              |\n",
      "---- ------------------------- ------------------------------------------ ----------\n",
      " Gen   Length          Fitness   Length          Fitness      OOB Fitness  Time Left\n",
      "   1     5.96          1.38231        9         0.130308              N/A      0.00s\n",
      "best_fitness_generation 0.13030837405593326\n",
      "best_fitness 0.13260486629793244\n",
      "    |   Population Average    |             Best Individual              |\n",
      "---- ------------------------- ------------------------------------------ ----------\n",
      " Gen   Length          Fitness   Length          Fitness      OOB Fitness  Time Left\n",
      "   2     3.03         0.205741        5         0.132006              N/A      0.00s\n",
      "best_fitness_generation 0.13200553242460458\n",
      "best_fitness 0.13030837405593326\n",
      "    |   Population Average    |             Best Individual              |\n",
      "---- ------------------------- ------------------------------------------ ----------\n",
      " Gen   Length          Fitness   Length          Fitness      OOB Fitness  Time Left\n",
      "   3     3.07         0.315313        3         0.132513              N/A      0.00s\n",
      "best_fitness_generation 0.13251291159082154\n",
      "best_fitness 0.13030837405593326\n",
      "    |   Population Average    |             Best Individual              |\n",
      "---- ------------------------- ------------------------------------------ ----------\n",
      " Gen   Length          Fitness   Length          Fitness      OOB Fitness  Time Left\n",
      "   4     3.06         0.301364        3         0.132513              N/A      0.00s\n",
      "best_fitness_generation 0.13251291159082154\n",
      "best_fitness 0.13030837405593326\n",
      "    |   Population Average    |             Best Individual              |\n",
      "---- ------------------------- ------------------------------------------ ----------\n",
      " Gen   Length          Fitness   Length          Fitness      OOB Fitness  Time Left\n",
      "   5     3.02         0.305245        3         0.132513              N/A      0.00s\n",
      "best_fitness_generation 0.13251291159082154\n",
      "best_fitness 0.13030837405593326\n",
      "    |   Population Average    |             Best Individual              |\n",
      "---- ------------------------- ------------------------------------------ ----------\n",
      " Gen   Length          Fitness   Length          Fitness      OOB Fitness  Time Left\n",
      "   6     3.04         0.316914        3         0.132513              N/A      0.00s\n",
      "best_fitness_generation 0.13251291159082154\n",
      "best_fitness 0.13030837405593326\n",
      "    |   Population Average    |             Best Individual              |\n",
      "---- ------------------------- ------------------------------------------ ----------\n",
      " Gen   Length          Fitness   Length          Fitness      OOB Fitness  Time Left\n",
      "   7     3.07         0.285733        3         0.132513              N/A      0.00s\n",
      "best_fitness_generation 0.13251291159082154\n",
      "best_fitness 0.13030837405593326\n",
      "    |   Population Average    |             Best Individual              |\n",
      "---- ------------------------- ------------------------------------------ ----------\n",
      " Gen   Length          Fitness   Length          Fitness      OOB Fitness  Time Left\n",
      "   8     3.03         0.302268        3         0.132513              N/A      0.00s\n",
      "best_fitness_generation 0.13251291159082154\n",
      "best_fitness 0.13030837405593326\n",
      "    |   Population Average    |             Best Individual              |\n",
      "---- ------------------------- ------------------------------------------ ----------\n",
      " Gen   Length          Fitness   Length          Fitness      OOB Fitness  Time Left\n",
      "   9     3.07         0.329979        3         0.132513              N/A      0.00s\n",
      "best_fitness_generation 0.13251291159082154\n",
      "best_fitness 0.13030837405593326\n",
      "    |   Population Average    |             Best Individual              |\n",
      "---- ------------------------- ------------------------------------------ ----------\n",
      " Gen   Length          Fitness   Length          Fitness      OOB Fitness  Time Left\n",
      "  10     3.01         0.321929        3         0.132513              N/A      0.00s\n",
      "best_fitness_generation 0.13251291159082154\n",
      "best_fitness 0.13030837405593326\n",
      "    |   Population Average    |             Best Individual              |\n",
      "---- ------------------------- ------------------------------------------ ----------\n",
      " Gen   Length          Fitness   Length          Fitness      OOB Fitness  Time Left\n",
      "  11     3.03         0.322902        3         0.132513              N/A      0.00s\n",
      "best_fitness_generation 0.13251291159082154\n",
      "best_fitness 0.13030837405593326\n",
      "1.6366612111293*X0\n",
      "Program Length:  3\n"
     ]
    },
    {
     "data": {
      "text/latex": [
       "$\\displaystyle 1.6366612111293 X_{0}$"
      ],
      "text/plain": [
       "1.6366612111293*X0"
      ]
     },
     "metadata": {},
     "output_type": "display_data"
    },
    {
     "name": "stdout",
     "output_type": "stream",
     "text": [
      "Accuracy Random Forest Model: 0.904\n",
      "Accuracy Symbolic Classification: 0.9152\n",
      "Fidelity (Accuracy) Symbolic Classification - Random Forest Model: 0.9408\n",
      "F1 Score Random Forest Model: 0.8584905660377359\n",
      "F1 Score Symbolic Classification: 0.8697788697788698\n",
      "Fidelity (F1 Score) Symbolic Classification - Random Forest Model: 0.9065656565656565\n"
     ]
    },
    {
     "data": {
      "image/svg+xml": [
       "<?xml version=\"1.0\" encoding=\"UTF-8\" standalone=\"no\"?>\n",
       "<!DOCTYPE svg PUBLIC \"-//W3C//DTD SVG 1.1//EN\"\n",
       " \"http://www.w3.org/Graphics/SVG/1.1/DTD/svg11.dtd\">\n",
       "<!-- Generated by graphviz version 2.40.1 (20161225.0304)\n",
       " -->\n",
       "<!-- Title: program Pages: 1 -->\n",
       "<svg width=\"154pt\" height=\"116pt\"\n",
       " viewBox=\"0.00 0.00 154.05 116.00\" xmlns=\"http://www.w3.org/2000/svg\" xmlns:xlink=\"http://www.w3.org/1999/xlink\">\n",
       "<g id=\"graph0\" class=\"graph\" transform=\"scale(1 1) rotate(0) translate(4 112)\">\n",
       "<title>program</title>\n",
       "<polygon fill=\"#ffffff\" stroke=\"transparent\" points=\"-4,4 -4,-112 150.0467,-112 150.0467,4 -4,4\"/>\n",
       "<!-- 0 -->\n",
       "<g id=\"node1\" class=\"node\">\n",
       "<title>0</title>\n",
       "<ellipse fill=\"#136ed4\" stroke=\"#000000\" cx=\"68\" cy=\"-90\" rx=\"27\" ry=\"18\"/>\n",
       "<text text-anchor=\"middle\" x=\"68\" y=\"-86.3\" font-family=\"Times,serif\" font-size=\"14.00\" fill=\"#000000\">div</text>\n",
       "</g>\n",
       "<!-- 1 -->\n",
       "<g id=\"node2\" class=\"node\">\n",
       "<title>1</title>\n",
       "<ellipse fill=\"#60a6f6\" stroke=\"#000000\" cx=\"27\" cy=\"-18\" rx=\"27\" ry=\"18\"/>\n",
       "<text text-anchor=\"middle\" x=\"27\" y=\"-14.3\" font-family=\"Times,serif\" font-size=\"14.00\" fill=\"#000000\">X0</text>\n",
       "</g>\n",
       "<!-- 0&#45;&gt;1 -->\n",
       "<g id=\"edge2\" class=\"edge\">\n",
       "<title>0&#45;&gt;1</title>\n",
       "<path fill=\"none\" stroke=\"#000000\" d=\"M58.2836,-72.937C53.3307,-64.2393 47.2039,-53.4799 41.6887,-43.7948\"/>\n",
       "<polygon fill=\"#000000\" stroke=\"#000000\" points=\"44.6366,-41.8984 36.6467,-34.9405 38.5537,-45.3623 44.6366,-41.8984\"/>\n",
       "</g>\n",
       "<!-- 2 -->\n",
       "<g id=\"node3\" class=\"node\">\n",
       "<title>2</title>\n",
       "<ellipse fill=\"#60a6f6\" stroke=\"#000000\" cx=\"109\" cy=\"-18\" rx=\"37.0935\" ry=\"18\"/>\n",
       "<text text-anchor=\"middle\" x=\"109\" y=\"-14.3\" font-family=\"Times,serif\" font-size=\"14.00\" fill=\"#000000\">0.611</text>\n",
       "</g>\n",
       "<!-- 0&#45;&gt;2 -->\n",
       "<g id=\"edge1\" class=\"edge\">\n",
       "<title>0&#45;&gt;2</title>\n",
       "<path fill=\"none\" stroke=\"#000000\" d=\"M77.7164,-72.937C82.5975,-64.3654 88.6188,-53.7914 94.0711,-44.2165\"/>\n",
       "<polygon fill=\"#000000\" stroke=\"#000000\" points=\"97.1615,-45.8625 99.0685,-35.4407 91.0786,-42.3986 97.1615,-45.8625\"/>\n",
       "</g>\n",
       "</g>\n",
       "</svg>\n"
      ],
      "text/plain": [
       "<graphviz.files.Source at 0x7fc623421760>"
      ]
     },
     "metadata": {},
     "output_type": "display_data"
    }
   ],
   "source": [
    "if symbolic_classification:\n",
    "    symbolic_clas, est_gp  = symbolic_classifier(random_forest_model, \n",
    "                                                     data=X_train,\n",
    "                                                     hyperparams=symbolic_classification_hyperparams)\n",
    "         \n",
    "        \n",
    "    y_test_symbolic_clas = np.round(np.clip(calculate_function_values_from_sympy(symbolic_clas, X_test), 0, 1)).astype(np.int64).reshape(-1,1)\n",
    "\n",
    "    y_test_model = random_forest_model.predict(X_test).reshape(-1,1)\n",
    "\n",
    "    accuracy_model_performance = accuracy_score(y_test, y_test_model)    \n",
    "    accuracy_symbolic_class_performance = accuracy_score(y_test, y_test_symbolic_clas) \n",
    "    \n",
    "    accuracy_fidelity = accuracy_score(y_test_model, y_test_symbolic_clas)     \n",
    "    \n",
    "    f1_model_performance = f1_score(y_test, y_test_model)    \n",
    "    f1_symbolic_class_performance = f1_score(y_test, y_test_symbolic_clas) \n",
    "    \n",
    "    f1_fidelity = f1_score(y_test_model, y_test_symbolic_clas)     \n",
    "        \n",
    "    print('Program Length: ', est_gp.run_details_['best_length'][-1])\n",
    "    display(symbolic_clas)\n",
    "    \n",
    "    print('Accuracy Random Forest Model:', accuracy_model_performance)\n",
    "    print('Accuracy Symbolic Classification:', accuracy_symbolic_class_performance)\n",
    "    \n",
    "    print('Fidelity (Accuracy) Symbolic Classification - Random Forest Model:', accuracy_fidelity)\n",
    "    \n",
    "    print('F1 Score Random Forest Model:', f1_model_performance)\n",
    "    print('F1 Score Symbolic Classification:', f1_symbolic_class_performance)\n",
    "    \n",
    "    print('Fidelity (F1 Score) Symbolic Classification - Random Forest Model:', f1_fidelity)\n",
    "    \n",
    "    graph_data = est_gp._program.export_graphviz()\n",
    "    graph = graphviz.Source(graph_data)\n",
    "    display(graph)"
   ]
  },
  {
   "cell_type": "code",
   "execution_count": null,
   "id": "loved-bones",
   "metadata": {},
   "outputs": [],
   "source": []
  }
 ],
 "metadata": {
  "kernelspec": {
   "display_name": "Python 3",
   "language": "python",
   "name": "python3"
  },
  "language_info": {
   "codemirror_mode": {
    "name": "ipython",
    "version": 3
   },
   "file_extension": ".py",
   "mimetype": "text/x-python",
   "name": "python",
   "nbconvert_exporter": "python",
   "pygments_lexer": "ipython3",
   "version": "3.8.8"
  }
 },
 "nbformat": 4,
 "nbformat_minor": 5
}
