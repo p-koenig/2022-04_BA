{
 "cells": [
  {
   "cell_type": "markdown",
   "id": "proper-cursor",
   "metadata": {},
   "source": [
    "# IMPORTS"
   ]
  },
  {
   "cell_type": "code",
   "execution_count": 7,
   "id": "choice-socket",
   "metadata": {},
   "outputs": [],
   "source": [
    "import joblib\n",
    "import numpy as np\n",
    "import pandas as pd\n",
    "\n",
    "import matplotlib.pyplot as plt\n",
    "import seaborn as sns\n",
    "\n",
    "sns.set_style(\"darkgrid\")\n",
    "\n",
    "import pickle"
   ]
  },
  {
   "cell_type": "markdown",
   "id": "early-omega",
   "metadata": {},
   "source": [
    "# LOAD DATA"
   ]
  },
  {
   "cell_type": "code",
   "execution_count": null,
   "id": "arranged-church",
   "metadata": {},
   "outputs": [],
   "source": [
    "with open(\"./data/summarizing_statistics.pkl\", 'rb') as f:\n",
    "    summarizing_statistics = joblib.load(f)\n",
    "    \n",
    "with open(\"./data/hist_off.pkl\", 'rb') as f:\n",
    "    hist_off = joblib.load(f)\n",
    "    \n",
    "with open(\"./data/hist_on.pkl\", 'rb') as f:\n",
    "    hist_on = joblib.load(f)\n",
    "    \n",
    "with open(\"./data/randForestBest_20201002.pkl\", 'rb') as f:\n",
    "    random_forest_model = joblib.load(f)  "
   ]
  },
  {
   "cell_type": "code",
   "execution_count": 32,
   "id": "connected-border",
   "metadata": {},
   "outputs": [],
   "source": [
    "feature_names = np.array(['energy_norm_log', 'temperature_diff', 'rms_norm_log', 'details_ratedhead'])\n"
   ]
  },
  {
   "cell_type": "markdown",
   "id": "dominican-bikini",
   "metadata": {},
   "source": [
    "    Energy_norm_log: Logarithmus der Summe der Energiewerte der einzelnen Schwingungsachsen (x,y,z)\n",
    "    Temperature_diff: Differenz der Temperatur am Vibrationssensor (befindet sich am Lager der Pumpe) und der Temperatur an der Batterie der Sendeeinheit\n",
    "    Rms_norm_log: Logarithmus der Euklidischen Norm der quadratischen Mittelwerte der Schwingungen der einzelnen Achsen (x,y,z)\n",
    "    Details_ratedhead: Nennförderhöhe der Pumpe. Ist für ein und dieselbe Pumpe immer konstant und sagt etwas über die Dimensionierung der Pumpe aus"
   ]
  },
  {
   "cell_type": "markdown",
   "id": "disciplinary-estate",
   "metadata": {},
   "source": [
    "# DATA EXPLORATION"
   ]
  },
  {
   "cell_type": "code",
   "execution_count": 3,
   "id": "velvet-louis",
   "metadata": {},
   "outputs": [
    {
     "data": {
      "text/html": [
       "<div>\n",
       "<style scoped>\n",
       "    .dataframe tbody tr th:only-of-type {\n",
       "        vertical-align: middle;\n",
       "    }\n",
       "\n",
       "    .dataframe tbody tr th {\n",
       "        vertical-align: top;\n",
       "    }\n",
       "\n",
       "    .dataframe thead th {\n",
       "        text-align: right;\n",
       "    }\n",
       "</style>\n",
       "<table border=\"1\" class=\"dataframe\">\n",
       "  <thead>\n",
       "    <tr style=\"text-align: right;\">\n",
       "      <th></th>\n",
       "      <th>number_of_datapoints</th>\n",
       "      <th>energy_norm_log_mean</th>\n",
       "      <th>temperature_diff_mean</th>\n",
       "      <th>rms_norm_log_mean</th>\n",
       "      <th>details_ratedhead_mean</th>\n",
       "      <th>energy_norm_log_min</th>\n",
       "      <th>temperature_diff_min</th>\n",
       "      <th>rms_norm_log_min</th>\n",
       "      <th>details_ratedhead_min</th>\n",
       "      <th>energy_norm_log_max</th>\n",
       "      <th>temperature_diff_max</th>\n",
       "      <th>rms_norm_log_max</th>\n",
       "      <th>details_ratedhead_max</th>\n",
       "      <th>Covariance_matrix</th>\n",
       "    </tr>\n",
       "  </thead>\n",
       "  <tbody>\n",
       "    <tr>\n",
       "      <th>on</th>\n",
       "      <td>9680213</td>\n",
       "      <td>1.861944</td>\n",
       "      <td>9.513191</td>\n",
       "      <td>0.730331</td>\n",
       "      <td>105.323685</td>\n",
       "      <td>-5.914482</td>\n",
       "      <td>-24.000</td>\n",
       "      <td>-3.043901</td>\n",
       "      <td>-1.0</td>\n",
       "      <td>9.212087</td>\n",
       "      <td>110.625000</td>\n",
       "      <td>6.308744</td>\n",
       "      <td>2403.0</td>\n",
       "      <td>[[4.054988675775044, 1.6181932043448362, 1.438...</td>\n",
       "    </tr>\n",
       "    <tr>\n",
       "      <th>off</th>\n",
       "      <td>16775063</td>\n",
       "      <td>-3.226129</td>\n",
       "      <td>1.274514</td>\n",
       "      <td>-1.542884</td>\n",
       "      <td>89.319163</td>\n",
       "      <td>-10.605203</td>\n",
       "      <td>-38.875</td>\n",
       "      <td>-4.430309</td>\n",
       "      <td>-1.0</td>\n",
       "      <td>7.588837</td>\n",
       "      <td>109.140903</td>\n",
       "      <td>4.138240</td>\n",
       "      <td>2403.0</td>\n",
       "      <td>[[1.5394827351582467, 0.21880415026212985, 0.7...</td>\n",
       "    </tr>\n",
       "    <tr>\n",
       "      <th>all</th>\n",
       "      <td>26455276</td>\n",
       "      <td>-1.364360</td>\n",
       "      <td>4.289117</td>\n",
       "      <td>-0.711095</td>\n",
       "      <td>95.175355</td>\n",
       "      <td>-10.605203</td>\n",
       "      <td>-38.875</td>\n",
       "      <td>-4.430309</td>\n",
       "      <td>-1.0</td>\n",
       "      <td>9.212087</td>\n",
       "      <td>110.625000</td>\n",
       "      <td>6.308744</td>\n",
       "      <td>2403.0</td>\n",
       "      <td>[[8.466562429846425, 10.45687699516861, 3.7031...</td>\n",
       "    </tr>\n",
       "  </tbody>\n",
       "</table>\n",
       "</div>"
      ],
      "text/plain": [
       "    number_of_datapoints energy_norm_log_mean temperature_diff_mean  \\\n",
       "on               9680213             1.861944              9.513191   \n",
       "off             16775063            -3.226129              1.274514   \n",
       "all             26455276            -1.364360              4.289117   \n",
       "\n",
       "    rms_norm_log_mean details_ratedhead_mean energy_norm_log_min  \\\n",
       "on           0.730331             105.323685           -5.914482   \n",
       "off         -1.542884              89.319163          -10.605203   \n",
       "all         -0.711095              95.175355          -10.605203   \n",
       "\n",
       "    temperature_diff_min rms_norm_log_min details_ratedhead_min  \\\n",
       "on               -24.000        -3.043901                  -1.0   \n",
       "off              -38.875        -4.430309                  -1.0   \n",
       "all              -38.875        -4.430309                  -1.0   \n",
       "\n",
       "    energy_norm_log_max temperature_diff_max rms_norm_log_max  \\\n",
       "on             9.212087           110.625000         6.308744   \n",
       "off            7.588837           109.140903         4.138240   \n",
       "all            9.212087           110.625000         6.308744   \n",
       "\n",
       "    details_ratedhead_max                                  Covariance_matrix  \n",
       "on                 2403.0  [[4.054988675775044, 1.6181932043448362, 1.438...  \n",
       "off                2403.0  [[1.5394827351582467, 0.21880415026212985, 0.7...  \n",
       "all                2403.0  [[8.466562429846425, 10.45687699516861, 3.7031...  "
      ]
     },
     "execution_count": 3,
     "metadata": {},
     "output_type": "execute_result"
    }
   ],
   "source": [
    "summarizing_statistics"
   ]
  },
  {
   "cell_type": "code",
   "execution_count": 8,
   "id": "partial-incident",
   "metadata": {},
   "outputs": [
    {
     "data": {
      "text/plain": [
       "0"
      ]
     },
     "execution_count": 8,
     "metadata": {},
     "output_type": "execute_result"
    }
   ],
   "source": [
    "hist_off[15][10][4][15] \n",
    "#absolute Häufigkeit der Datensätze für 'energy_norm_log' im 15. bin,  'temperature_diff' im 10. bin, 'rms_norm_log' im 4. bin und 'details_ratedhead' im 15. bin an"
   ]
  },
  {
   "cell_type": "code",
   "execution_count": 9,
   "id": "aboriginal-desperate",
   "metadata": {},
   "outputs": [
    {
     "data": {
      "text/plain": [
       "1972"
      ]
     },
     "execution_count": 9,
     "metadata": {},
     "output_type": "execute_result"
    }
   ],
   "source": [
    "hist_on[15][10][4][15] \n",
    "#absolute Häufigkeit der Datensätze für 'energy_norm_log' im 15. bin,  'temperature_diff' im 10. bin, 'rms_norm_log' im 4. bin und 'details_ratedhead' im 15. bin an"
   ]
  },
  {
   "cell_type": "markdown",
   "id": "utility-perry",
   "metadata": {},
   "source": [
    "# MODEL EXPLORATION"
   ]
  },
  {
   "cell_type": "code",
   "execution_count": 10,
   "id": "printable-consortium",
   "metadata": {},
   "outputs": [
    {
     "data": {
      "text/plain": [
       "RandomForestClassifier(max_depth=6, min_samples_leaf=1000, min_samples_split=15,\n",
       "                       n_estimators=50, random_state=10)"
      ]
     },
     "execution_count": 10,
     "metadata": {},
     "output_type": "execute_result"
    }
   ],
   "source": [
    "#https://scikit-learn.org/stable/modules/generated/sklearn.ensemble.RandomForestClassifier.html\n",
    "random_forest_model"
   ]
  },
  {
   "cell_type": "code",
   "execution_count": 11,
   "id": "satisfied-international",
   "metadata": {},
   "outputs": [
    {
     "data": {
      "text/plain": [
       "{'bootstrap': True,\n",
       " 'ccp_alpha': 0.0,\n",
       " 'class_weight': None,\n",
       " 'criterion': 'gini',\n",
       " 'max_depth': 6,\n",
       " 'max_features': 'auto',\n",
       " 'max_leaf_nodes': None,\n",
       " 'max_samples': None,\n",
       " 'min_impurity_decrease': 0.0,\n",
       " 'min_impurity_split': None,\n",
       " 'min_samples_leaf': 1000,\n",
       " 'min_samples_split': 15,\n",
       " 'min_weight_fraction_leaf': 0.0,\n",
       " 'n_estimators': 50,\n",
       " 'n_jobs': None,\n",
       " 'oob_score': False,\n",
       " 'random_state': 10,\n",
       " 'verbose': 0,\n",
       " 'warm_start': False}"
      ]
     },
     "execution_count": 11,
     "metadata": {},
     "output_type": "execute_result"
    }
   ],
   "source": [
    "random_forest_model.get_params()"
   ]
  },
  {
   "cell_type": "code",
   "execution_count": 25,
   "id": "identical-celebrity",
   "metadata": {},
   "outputs": [],
   "source": [
    "random_forest_model_gini_importance = random_forest_model.feature_importances_\n",
    "\n",
    "#https://scikit-learn.org/stable/auto_examples/inspection/plot_permutation_importance.html#sphx-glr-auto-examples-inspection-plot-permutation-importance-py"
   ]
  },
  {
   "cell_type": "code",
   "execution_count": 28,
   "id": "after-assault",
   "metadata": {},
   "outputs": [
    {
     "data": {
      "text/plain": [
       "array([3, 1, 2, 0])"
      ]
     },
     "execution_count": 28,
     "metadata": {},
     "output_type": "execute_result"
    }
   ],
   "source": [
    "sorted_idx"
   ]
  },
  {
   "cell_type": "code",
   "execution_count": null,
   "id": "honey-finish",
   "metadata": {},
   "outputs": [],
   "source": []
  },
  {
   "cell_type": "code",
   "execution_count": 33,
   "id": "shared-russian",
   "metadata": {},
   "outputs": [
    {
     "data": {
      "image/png": "[encoded data removed]",
      "text/plain": [
       "<Figure size 432x288 with 1 Axes>"
      ]
     },
     "metadata": {},
     "output_type": "display_data"
    }
   ],
   "source": [
    "sorted_idx = random_forest_model_gini_importance.argsort()\n",
    "\n",
    "y_ticks = np.arange(0, len(feature_names))\n",
    "fig, ax = plt.subplots()\n",
    "ax.barh(y_ticks, random_forest_model_gini_importance[sorted_idx])\n",
    "ax.set_yticks(y_ticks)\n",
    "ax.set_yticklabels(feature_names[sorted_idx])\n",
    "ax.set_title(\"Random Forest Feature Importances (MDI)\")\n",
    "fig.tight_layout()\n",
    "plt.show()"
   ]
  },
  {
   "cell_type": "code",
   "execution_count": 24,
   "id": "third-saver",
   "metadata": {},
   "outputs": [
    {
     "data": {
      "text/plain": [
       "['energy_norm_log', 'temperature_diff', 'rms_norm_log', 'details_ratedhead']"
      ]
     },
     "execution_count": 24,
     "metadata": {},
     "output_type": "execute_result"
    }
   ],
   "source": [
    "feature_names"
   ]
  },
  {
   "cell_type": "code",
   "execution_count": null,
   "id": "charged-samoa",
   "metadata": {},
   "outputs": [],
   "source": []
  }
 ],
 "metadata": {
  "kernelspec": {
   "display_name": "Python 3",
   "language": "python",
   "name": "python3"
  },
  "language_info": {
   "codemirror_mode": {
    "name": "ipython",
    "version": 3
   },
   "file_extension": ".py",
   "mimetype": "text/x-python",
   "name": "python",
   "nbconvert_exporter": "python",
   "pygments_lexer": "ipython3",
   "version": "3.8.8"
  }
 },
 "nbformat": 4,
 "nbformat_minor": 5
}
